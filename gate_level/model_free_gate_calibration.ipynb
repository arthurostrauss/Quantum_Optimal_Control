{
 "cells": [
  {
   "cell_type": "markdown",
   "id": "24ddfaf2-e5a9-48ab-bf1f-e297b2d0d4ba",
   "metadata": {},
   "source": [
    "# Quantum Gate calibration using Model Free Reinforcement Learning\n",
    "\n",
    "We extend the state preparation scheme to a gate calibration scheme by providing multiple input states to the target."
   ]
  },
  {
   "cell_type": "code",
   "execution_count": 1,
   "id": "87f43da7-a9a7-452f-a5e8-0c0145a29d24",
   "metadata": {
    "ExecuteTime": {
     "end_time": "2024-11-08T03:42:44.355769Z",
     "start_time": "2024-11-08T03:42:37.442005Z"
    }
   },
   "outputs": [
    {
     "name": "stderr",
     "output_type": "stream",
     "text": [
      "/Users/arthurostrauss/Library/CloudStorage/OneDrive-NationalUniversityofSingapore/Coding_projects/Quantum_Optimal_Control/rl_qoc/helpers/__init__.py:9: UserWarning: pulse_utils is not available\n",
      "  warnings.warn(\"pulse_utils is not available\")\n",
      "/Users/arthurostrauss/Library/CloudStorage/OneDrive-NationalUniversityofSingapore/Coding_projects/Quantum_Optimal_Control/.venv/lib/python3.11/site-packages/pydantic/_internal/_generate_schema.py:2249: UnsupportedFieldAttributeWarning: The 'repr' attribute with value False was provided to the `Field()` function, which has no effect in the context it was used. 'repr' is field-specific metadata, and can only be attached to a model field using `Annotated` metadata or by assignment. This may have happened because an `Annotated` type alias using the `type` statement was used, or if the `Field()` function was attached to a single member of a union type.\n",
      "  warnings.warn(\n",
      "/Users/arthurostrauss/Library/CloudStorage/OneDrive-NationalUniversityofSingapore/Coding_projects/Quantum_Optimal_Control/.venv/lib/python3.11/site-packages/pydantic/_internal/_generate_schema.py:2249: UnsupportedFieldAttributeWarning: The 'frozen' attribute with value True was provided to the `Field()` function, which has no effect in the context it was used. 'frozen' is field-specific metadata, and can only be attached to a model field using `Annotated` metadata or by assignment. This may have happened because an `Annotated` type alias using the `type` statement was used, or if the `Field()` function was attached to a single member of a union type.\n",
      "  warnings.warn(\n"
     ]
    }
   ],
   "source": [
    "import numpy as np\n",
    "from rl_qoc import QuantumEnvironment\n",
    "from rl_qoc.helpers.tf_utils import select_optimizer, generate_model\n",
    "from rl_qoc import (\n",
    "    QiskitConfig,\n",
    "    QEnvConfig,\n",
    "    BenchmarkConfig,\n",
    "    ExecutionConfig,\n",
    ")\n",
    "\n",
    "# Qiskit imports for building RL environment (circuit level)\n",
    "from qiskit.circuit import ParameterVector, QuantumCircuit, QuantumRegister\n",
    "from qiskit.circuit.library import CXGate, XGate\n",
    "from qiskit_ibm_runtime import QiskitRuntimeService, Estimator\n",
    "from typing import Optional\n",
    "\n",
    "# Tensorflow imports for building RL agent and framework\n",
    "import tensorflow as tf\n",
    "from tensorflow_probability.python.distributions import MultivariateNormalDiag\n",
    "from gymnasium.spaces import Box, Discrete\n",
    "\n",
    "# Additional imports\n",
    "from tqdm import tqdm\n",
    "import matplotlib.pyplot as plt\n",
    "from IPython.display import clear_output\n",
    "from time import sleep"
   ]
  },
  {
   "cell_type": "code",
   "execution_count": 2,
   "id": "1de73f28-b701-4c18-888d-1e168d67b645",
   "metadata": {
    "ExecuteTime": {
     "end_time": "2024-06-21T06:13:40.277497Z",
     "start_time": "2024-06-21T06:13:40.274827Z"
    }
   },
   "outputs": [],
   "source": [
    "# Ansatz function, could be at pulse level or circuit level\n",
    "def apply_parametrized_circuit(\n",
    "    qc: QuantumCircuit,\n",
    "    params: Optional[ParameterVector],\n",
    "    qr: Optional[QuantumRegister],\n",
    "    n_actions: Optional[int] = None,\n",
    "):\n",
    "    \"\"\"\n",
    "    Define ansatz circuit to be played on Quantum Computer. Should be parametrized with Qiskit ParameterVector\n",
    "    :param qc: Quantum Circuit instance to add the gates on\n",
    "    :return:\n",
    "    \"\"\"\n",
    "    if params is None:\n",
    "        try:\n",
    "            params = ParameterVector(\"theta\", n_actions)\n",
    "        except TypeError:\n",
    "            raise ValueError(\n",
    "                \"If params is None, n_actions should be provided to generate a ParameterVector\"\n",
    "            )\n",
    "    if qr is None:\n",
    "        qr = qc.qregs[0]\n",
    "    param_circ = QuantumCircuit(qr)\n",
    "    param_circ.u(2 * np.pi * params[0], 2 * np.pi * params[1], 2 * np.pi * params[2], qr[0])\n",
    "    param_circ.u(2 * np.pi * params[3], 2 * np.pi * params[4], 2 * np.pi * params[5], qr[1])\n",
    "    param_circ.rzx(2 * np.pi * params[6], 0, qr[1])\n",
    "    qc.append(param_circ.to_instruction(), qr)"
   ]
  },
  {
   "cell_type": "markdown",
   "id": "2dd0f78a-3737-4590-b8cc-6c59df04d13e",
   "metadata": {},
   "source": [
    "# Defining the QuantumEnvironment\n",
    "\n",
    "Below, we set the RL environment parameters, that is how we describe our quantum system. Below, we can choose to go through the use of Qiskit Runtime, or to speed things up by using the local CPU and a state-vector simulator to get measurement outcomes based on the ansatz circuit defined above. The Environment is defined as a class object called QuantumEnvironment."
   ]
  },
  {
   "cell_type": "markdown",
   "id": "c1ac9e41-0143-4b75-98b3-8684e2655308",
   "metadata": {},
   "source": [
    "## Generic information characterizing the quantum system\n",
    "\n",
    "The algorithm is built upon Qiskit modules. To specify how to address our quantum system of interest, we therefore adopt the IBM approach to define a quantum backend, on which qubits are defined and can be accessed via control actions and measurements.\n",
    "\n",
    "The cell below specifies:\n",
    "- ```physical_qubits```: List of qubit indices which are specifically addressed by controls , namely the ones for which we intend to calibrate a gate upon or steer them in a specific quantum state. Note that this list could include less qubits than the total number of qubits, which can be useful when one wants to take into account crosstalk effects emerging from nearest-neighbor coupling.\n",
    "- ```sampling_Paulis```: number of Pauli observables to be sampled from the system: the algorithm relies on the ability to process measurement outcomes to estimate the expectation value of different Pauli operators. The more observables we provide for sampling, the more properties we are able to deduce with accuracy about the actual state that was created when applying our custom controls. For a single qubit, the possible Pauli operators are $\\sigma_0=I$, $\\sigma_x=X$, $\\sigma_y=Y$, $\\sigma_z=Z$. For a general multi-qubit system, the Pauli observables are tensor products of those single qubit Pauli operators. The algorithm will automatically estimate which observables are the most relevant to sample based on the provided target. The probability distribution from which those observables are sampled is derived from the Direct Fidelity Estimation (equation 3, https://link.aps.org/doi/10.1103/PhysRevLett.106.230501) algorithm. \n",
    "- ```N_shots```: Indicates how many measurements shall be done for each provided circuit (that is a specific combination of an action vector and a Pauli observable to be sampled). The more shots, the more accurate the estimation of the expectation value of the Pauli operator will be. Note that this number will be eventually multiplied by the number of times each Pauli observable was sampled through the ```sampling_Paulis``` parameter.\n",
    "- The dimension of the action vector: Indicates the number of pulse/circuit parameters that characterize our parametrized quantum circuit.\n",
    "- ```estimator_options```: Options of the Qiskit Estimator primitive. The Estimator is the Qiskit module enabling an easy computation of Pauli expectation values. One can set options to make this process more reliable (typically by doing some error mitigation techniques in post-processing). Works only with Runtime Backend at the moment.\n",
    "- ```abstraction_level``` chosen to encode our quantum circuit. One can choose here to stick to the usual circuit model of quantum computing, by using the ```QuantumCircuit``` objects from Qiskit and therefore set the ```abstraction_level``` to ```\"circuit\"```. However, depending on the task at hand, one can also prefer to use a pulse description of all the operations in our circuit. This is possible by using resources of another module of Qiskit called Qiskit Dynamics. In this case, one should define the ansatz circuit above in a pulse level fashion, and the simulation done at the Hamiltonian level, and not only via statevector calculations. In this notebook we set the ```abstraction_level``` to ```\"circuit\"```. Another notebook at the pulse level is available in the repo. The abstraction level is inferred automatically from the provided ansatz function."
   ]
  },
  {
   "cell_type": "code",
   "execution_count": 3,
   "id": "778b1dc1-576d-400b-85af-c7e846ba77de",
   "metadata": {
    "ExecuteTime": {
     "end_time": "2024-06-21T06:13:40.280370Z",
     "start_time": "2024-06-21T06:13:40.278096Z"
    }
   },
   "outputs": [],
   "source": [
    "qubit_tgt_register = [0, 1]  # Choose which qubits of the QPU you want to address\n",
    "sampling_Paulis = 300\n",
    "N_shots = 1  # Number of shots for sampling the quantum computer for each action vector\n",
    "batchsize = (\n",
    "    100  # Batch size (iterate over a bunch of actions per policy to estimate expected return)\n",
    ")\n",
    "n_actions = 7  # Choose how many control parameters in pulse/circuit parametrization\n",
    "action_space = Box(low=-1, high=1, shape=(n_actions,), dtype=np.float32)\n",
    "observation_space = Box(low=0, high=1, shape=(1,), dtype=np.float32)\n",
    "seed = 4030\n",
    "estimator_options = {\"seed_simulator\": seed, \"resilience_level\": 0}"
   ]
  },
  {
   "cell_type": "markdown",
   "id": "fb6ce01f-4de3-4af1-b1ec-36b1361c6dfe",
   "metadata": {
    "tags": []
   },
   "source": [
    "Choose below which IBM Backend to use. As we are dealing with circuit level implementation, we can look for a backend supporting Qiskit Runtime (could be a cloud simulator, or real backend) or simply set backend to None and rely on the Estimator primitive based on statevector simulation. In either case, we need access to one Estimator primitive to run the algorithm, as the feedback from the measurement outcomes is done by calculating Pauli expectation values."
   ]
  },
  {
   "cell_type": "markdown",
   "id": "653de84e-4650-4311-86e6-81a3fa1f18c6",
   "metadata": {},
   "source": [
    "## 1. Setting up a Quantum Backend"
   ]
  },
  {
   "cell_type": "markdown",
   "id": "7cb9ac30-26aa-419a-9586-8ba4ed736cf0",
   "metadata": {
    "tags": []
   },
   "source": [
    "### Real backend initialization\n",
    "\n",
    "Uncomment the cell below to declare a Qiskit Runtime backend. You need an internet connection and an IBM Id account to access this."
   ]
  },
  {
   "cell_type": "code",
   "execution_count": 4,
   "id": "d79bf811-87b6-4a25-9e6e-968a4e12d5ef",
   "metadata": {
    "ExecuteTime": {
     "end_time": "2024-06-21T06:13:40.282819Z",
     "start_time": "2024-06-21T06:13:40.281434Z"
    }
   },
   "outputs": [],
   "source": [
    "\"\"\"\n",
    "Real backend initialization:\n",
    "Run this cell only if intending to use a real backend,\n",
    "where Qiskit Runtime is enabled\n",
    "\"\"\"\n",
    "\n",
    "backend_name = \"ibm_perth\"\n",
    "\n",
    "# service = QiskitRuntimeService(channel='ibm_quantum')\n",
    "# runtime_backend = service.get_backend(backend_name)\n",
    "# estimator_options = {'resilience_level': 0}"
   ]
  },
  {
   "cell_type": "markdown",
   "id": "2e2c6aba-ab98-417b-a6c4-9e8ced758758",
   "metadata": {
    "tags": []
   },
   "source": [
    "### Simulation backend initialization\n",
    "If you want to run the algorithm over a simulation, you can use Qiskit BaseEstimator, which does not need any real backend and relies on statevector simulation.\n",
    "\n",
    "Note that you could also define a custom Aer noise model and use an Aer version of the Estimator primitive. This feature will become available soon.\n"
   ]
  },
  {
   "cell_type": "code",
   "execution_count": 5,
   "id": "a478bf54-94a6-4fa9-9c96-9b991efba634",
   "metadata": {
    "ExecuteTime": {
     "end_time": "2024-06-21T06:13:40.284720Z",
     "start_time": "2024-06-21T06:13:40.283415Z"
    }
   },
   "outputs": [],
   "source": [
    "\"\"\"\n",
    "If using Qiskit native Estimator primitive\n",
    "(statevector simulation)\n",
    "\"\"\"\n",
    "\n",
    "no_backend = None"
   ]
  },
  {
   "cell_type": "markdown",
   "id": "420aab7a-0d0a-4f67-a4b7-aeda8bc980eb",
   "metadata": {},
   "source": [
    "### Choose backend and define Qiskit config dictionary\n",
    "Below, set the Backend that you would like to run among the above defined backend.\n",
    "Then define the config gathering all the components enabling the definition of the ```QuantumEnvironment```.\n",
    "\n"
   ]
  },
  {
   "cell_type": "code",
   "execution_count": 6,
   "id": "b6354a24-9ba2-4ea9-8e90-f803bfe90394",
   "metadata": {
    "ExecuteTime": {
     "end_time": "2024-06-21T06:13:41.050546Z",
     "start_time": "2024-06-21T06:13:41.048832Z"
    }
   },
   "outputs": [],
   "source": [
    "backend = no_backend"
   ]
  },
  {
   "cell_type": "code",
   "execution_count": 7,
   "id": "b30cb6e4-b1b1-4b25-8456-80a4ac731cfd",
   "metadata": {
    "ExecuteTime": {
     "end_time": "2024-06-21T06:13:41.527298Z",
     "start_time": "2024-06-21T06:13:41.525507Z"
    }
   },
   "outputs": [],
   "source": [
    "# Wrap all info in one dict Qiskit_setup\n",
    "Qiskit_setup = QiskitConfig(\n",
    "    parametrized_circuit=apply_parametrized_circuit,\n",
    "    backend=backend,\n",
    "    primitive_options=estimator_options,\n",
    "    parametrized_circuit_kwargs={\"n_actions\": n_actions},\n",
    ")"
   ]
  },
  {
   "cell_type": "markdown",
   "id": "2475763f-a14f-4ee0-bd4a-c68235351fd6",
   "metadata": {
    "tags": []
   },
   "source": [
    "## 2. Define quantum target: State preparation or Gate calibration\n",
    "\n",
    "The target of our optimal control task can be of two different types:\n",
    "1.  An arbitrary quantum state to prepare with high accuracy\n",
    "2. A Quantum Gate to be calibrated in a noise-robust manner\n",
    "\n",
    "Both targets are dictionaries that are identified with a key stating their ```target_type```, which can be either ```\"state\"``` or ```\"gate\"```.\n",
    "\n",
    "For a gate target $G$, one can add the target quantum gate with a ```\"gate\"``` argument specifying a specific instance of a Qiskit ```Gate``` object. Here, we settle for calibrating a ```CXGate()```.\n",
    "Moreover, a gate calibration requires a set of input states $\\{|s_i\\rangle \\}$ to be provided, such that the agent can try to set the actions such that the fidelity between the anticipated ideal target state (calculated as  $G|s_i\\rangle$) and the output state are simultaneously maximized. To ensure a correlation between the average reward computed from the measurement outcomes and the average gate fidelity, the provided set of input states must be tomographically complete.\n",
    "\n",
    "For a state target, one can provide, similarly to an input state, an ideal circuit to prepare it (```\"circuit\": QuantumCircuit```, or a density matrix (key ```\"dm\": DensityMatrix```).\n",
    "\n",
    "Another important key that should figure in the dictionary is the ```\"register\"``` indicating the qubits indices that should be addressed by this target, i.e. upon which qubits should the target be engineered.\n"
   ]
  },
  {
   "cell_type": "code",
   "execution_count": 8,
   "id": "adb3b2e1-c8de-4ea9-9dc6-604d2ae157b8",
   "metadata": {
    "ExecuteTime": {
     "end_time": "2024-06-21T06:13:42.290076Z",
     "start_time": "2024-06-21T06:13:42.288009Z"
    }
   },
   "outputs": [],
   "source": [
    "# Target gate: CNOT gate\n",
    "cnot_target = {\"gate\": CXGate(), \"physical_qubits\": qubit_tgt_register}"
   ]
  },
  {
   "cell_type": "code",
   "execution_count": 9,
   "id": "0e053f52-95a2-4eee-8e1b-e3e732459115",
   "metadata": {
    "ExecuteTime": {
     "end_time": "2024-06-21T06:13:42.957248Z",
     "start_time": "2024-06-21T06:13:42.955428Z"
    }
   },
   "outputs": [],
   "source": [
    "target = cnot_target"
   ]
  },
  {
   "cell_type": "markdown",
   "id": "b00afb10-d015-4418-ae10-882c08d73e3e",
   "metadata": {},
   "source": [
    "## 3. Declare QuantumEnvironment object\n",
    "Running the box below declares the QuantumEnvironment instance.\n"
   ]
  },
  {
   "cell_type": "code",
   "execution_count": 10,
   "id": "27a7ac8e-51e7-416f-ba48-968a50a5c446",
   "metadata": {
    "ExecuteTime": {
     "end_time": "2024-06-21T06:13:44.301540Z",
     "start_time": "2024-06-21T06:13:44.267965Z"
    }
   },
   "outputs": [],
   "source": [
    "# Define quantum environment\n",
    "execution_config = ExecutionConfig(\n",
    "    n_shots=N_shots,\n",
    "    batch_size=batchsize,\n",
    "    n_reps=1,  # Number of times the gate is repeated\n",
    "    sampling_paulis=sampling_Paulis,\n",
    "    seed=seed,\n",
    "    c_factor=1.0,  # Cost factor for the reward function\n",
    ")\n",
    "q_env_config = QEnvConfig(\n",
    "    target=target,\n",
    "    backend_config=Qiskit_setup,\n",
    "    action_space=action_space,\n",
    "    execution_config=execution_config,\n",
    "    benchmark_config=BenchmarkConfig(1)\n",
    ")\n",
    "q_env = QuantumEnvironment(training_config=q_env_config)"
   ]
  },
  {
   "cell_type": "markdown",
   "id": "a1aaa472-18e0-4a37-8954-8b976466c9b2",
   "metadata": {},
   "source": [
    "# Defining the RL agent: PPO"
   ]
  },
  {
   "cell_type": "code",
   "execution_count": 11,
   "id": "13c83c50-a672-482c-95a2-47daebd7bd16",
   "metadata": {
    "ExecuteTime": {
     "end_time": "2024-06-21T06:13:45.090377Z",
     "start_time": "2024-06-21T06:13:45.077967Z"
    }
   },
   "outputs": [
    {
     "name": "stdout",
     "output_type": "stream",
     "text": [
      "CPU times: user 1 μs, sys: 0 ns, total: 1 μs\n",
      "Wall time: 1.67 μs\n"
     ]
    }
   ],
   "source": [
    "\"\"\"\n",
    "-----------------------------------------------------------------------------------------------------\n",
    "Hyperparameters for RL agent\n",
    "-----------------------------------------------------------------------------------------------------\n",
    "\"\"\"\n",
    "\n",
    "%time\n",
    "\n",
    "n_epochs = 1000  # Number of epochs\n",
    "\n",
    "opti = \"Adam\"  # Optimizer choice\n",
    "eta = 0.001  # Learning rate for policy update step\n",
    "eta_2 = None  # Learning rate for critic (value function) update step\n",
    "\n",
    "use_PPO = True\n",
    "epsilon = 0.2  # Parameter for clipping value (PPO)\n",
    "grad_clip = 0.03\n",
    "critic_loss_coeff = 0.5\n",
    "optimizer = select_optimizer(\n",
    "    lr=eta, optimizer=opti, grad_clip=grad_clip, concurrent_optimization=True, lr2=eta_2\n",
    ")\n",
    "sigma_eps = 1e-3  # for numerical stability"
   ]
  },
  {
   "cell_type": "code",
   "execution_count": 12,
   "id": "2518e6c9-80d0-4fc9-b51e-a176e8aa5a2e",
   "metadata": {
    "ExecuteTime": {
     "end_time": "2024-06-21T06:13:45.817016Z",
     "start_time": "2024-06-21T06:13:45.789051Z"
    }
   },
   "outputs": [
    {
     "name": "stdout",
     "output_type": "stream",
     "text": [
      "Model: \"model\"\n",
      "__________________________________________________________________________________________________\n",
      "Layer (type)                    Output Shape         Param #     Connected to                     \n",
      "==================================================================================================\n",
      "input_1 (InputLayer)            [(None, 1)]          0                                            \n",
      "__________________________________________________________________________________________________\n",
      "hidden_0 (Dense)                (None, 20)           40          input_1[0][0]                    \n",
      "__________________________________________________________________________________________________\n",
      "hidden_1 (Dense)                (None, 20)           420         hidden_0[0][0]                   \n",
      "__________________________________________________________________________________________________\n",
      "hidden_2 (Dense)                (None, 30)           630         hidden_1[0][0]                   \n",
      "__________________________________________________________________________________________________\n",
      "mean_vec (Dense)                (None, 7)            217         hidden_2[0][0]                   \n",
      "__________________________________________________________________________________________________\n",
      "sigma_vec (Dense)               (None, 7)            217         hidden_2[0][0]                   \n",
      "__________________________________________________________________________________________________\n",
      "critic_output (Dense)           (None, 1)            31          hidden_2[0][0]                   \n",
      "==================================================================================================\n",
      "Total params: 1,555\n",
      "Trainable params: 1,555\n",
      "Non-trainable params: 0\n",
      "__________________________________________________________________________________________________\n"
     ]
    }
   ],
   "source": [
    "\"\"\"\n",
    "-----------------------------------------------------------------------------------------------------\n",
    "Policy parameters\n",
    "-----------------------------------------------------------------------------------------------------\n",
    "\"\"\"\n",
    "\n",
    "N_in = observation_space.shape[\n",
    "    -1\n",
    "]  # One input for each measured qubit state (0 or 1 input for each neuron)\n",
    "hidden_units = [20, 20, 30]  # List containing number of units in each hidden layer\n",
    "\n",
    "network = generate_model((N_in,), hidden_units, n_actions, actor_critic_together=True)\n",
    "network.summary()\n",
    "init_msmt = np.zeros(N_in\n",
    ")  # Here no feedback involved, so measurement sequence is always the same"
   ]
  },
  {
   "cell_type": "markdown",
   "id": "51e905a2-cd98-4146-84fd-286ab0b710db",
   "metadata": {},
   "source": [
    "## Run algorithm"
   ]
  },
  {
   "cell_type": "code",
   "execution_count": 13,
   "id": "9cbfdc83",
   "metadata": {},
   "outputs": [],
   "source": [
    "avg_return = np.zeros(n_epochs)\n",
    "fidelities = np.zeros(n_epochs)\n",
    "visualization_steps = 20\n",
    "%matplotlib inline"
   ]
  },
  {
   "cell_type": "code",
   "execution_count": 14,
   "id": "14cd804d-998c-43f0-8119-e28fb0e4c142",
   "metadata": {
    "ExecuteTime": {
     "end_time": "2024-06-21T06:13:52.874169Z",
     "start_time": "2024-06-21T06:13:52.256078Z"
    }
   },
   "outputs": [
    {
     "data": {
      "image/png": "[encoded data removed]",
      "text/plain": [
       "<Figure size 640x480 with 1 Axes>"
      ]
     },
     "metadata": {},
     "output_type": "display_data"
    },
    {
     "name": "stdout",
     "output_type": "stream",
     "text": [
      "Maximum fidelity reached so far: 0.9966846662173758 at Epoch 915\n"
     ]
    },
    {
     "name": "stderr",
     "output_type": "stream",
     "text": [
      " 98%|█████████▊| 982/1000 [01:15<00:01, 12.71it/s]"
     ]
    },
    {
     "name": "stdout",
     "output_type": "stream",
     "text": [
      "Starting simulation benchmark...\n",
      "Avg gate fidelity: [0.9881829144225872]\n",
      "Finished simulation benchmark\n",
      "Reward (avg): 0.9877223195246395 Std: 0.002776211355116738\n",
      "Gate Fidelity 0.9881829144225872\n",
      "Starting simulation benchmark...\n",
      "Avg gate fidelity: [0.9862383802373191]\n",
      "Finished simulation benchmark\n",
      "Reward (avg): 0.9880891893607636 Std: 0.0036984049776845095\n",
      "Gate Fidelity 0.9862383802373191\n",
      "Starting simulation benchmark...\n",
      "Avg gate fidelity: [0.9863783269097816]\n",
      "Finished simulation benchmark\n",
      "Reward (avg): 0.9879876393444157 Std: 0.002045700532553179\n",
      "Gate Fidelity"
     ]
    },
    {
     "name": "stderr",
     "output_type": "stream",
     "text": [
      " 99%|█████████▊| 986/1000 [01:16<00:01, 13.48it/s]"
     ]
    },
    {
     "name": "stdout",
     "output_type": "stream",
     "text": [
      " 0.9863783269097816\n",
      "Starting simulation benchmark...\n",
      "Avg gate fidelity: [0.9856610654559287]\n",
      "Finished simulation benchmark\n",
      "Reward (avg): 0.98650013920496 Std: 0.003918695514495589\n",
      "Gate Fidelity 0.9856610654559287\n",
      "Starting simulation benchmark...\n",
      "Avg gate fidelity: [0.9859726092938059]\n",
      "Finished simulation benchmark\n",
      "Reward (avg): 0.9870470499552009 Std: 0.0028744277117157767\n",
      "Gate Fidelity 0.9859726092938059\n",
      "Starting simulation benchmark...\n",
      "Avg gate fidelity: [0.9845739924163865]\n",
      "Finished simulation benchmark\n",
      "Reward (avg): 0.9862277637225874 Std: 0.0022551754189420706\n"
     ]
    },
    {
     "name": "stderr",
     "output_type": "stream",
     "text": [
      " 99%|█████████▉| 988/1000 [01:16<00:00, 13.79it/s]"
     ]
    },
    {
     "name": "stdout",
     "output_type": "stream",
     "text": [
      "Gate Fidelity 0.9845739924163865\n",
      "Starting simulation benchmark...\n",
      "Avg gate fidelity: [0.9848383238781467]\n",
      "Finished simulation benchmark\n",
      "Reward (avg): 0.9870459222571357 Std: 0.002146663383333505\n",
      "Gate Fidelity 0.9848383238781467\n",
      "Starting simulation benchmark...\n",
      "Avg gate fidelity: [0.9840108305282333]\n",
      "Finished simulation benchmark\n",
      "Reward (avg): 0.9860359092975286 Std: 0.0027207035744021913\n",
      "Gate Fidelity 0.9840108305282333\n",
      "Starting simulation benchmark...\n",
      "Avg gate fidelity: [0.9847068792717668]\n",
      "Finished simulation benchmark\n",
      "Reward (avg): 0.9857352067551932 Std: 0.004872864759259351\n"
     ]
    },
    {
     "name": "stderr",
     "output_type": "stream",
     "text": [
      " 99%|█████████▉| 990/1000 [01:16<00:00, 13.83it/s]"
     ]
    },
    {
     "name": "stdout",
     "output_type": "stream",
     "text": [
      "Gate Fidelity 0.9847068792717668\n",
      "Starting simulation benchmark...\n",
      "Avg gate fidelity: [0.9843026421900742]\n",
      "Finished simulation benchmark\n",
      "Reward (avg): 0.9859909778827783 Std: 0.0038974608839104884\n",
      "Gate Fidelity 0.9843026421900742\n",
      "Starting simulation benchmark...\n",
      "Avg gate fidelity: [0.9858426389055579]\n",
      "Finished simulation benchmark\n",
      "Reward (avg): 0.986228985799479 Std: 0.0029581345201283226\n"
     ]
    },
    {
     "name": "stderr",
     "output_type": "stream",
     "text": [
      " 99%|█████████▉| 992/1000 [01:16<00:00, 13.79it/s]"
     ]
    },
    {
     "name": "stdout",
     "output_type": "stream",
     "text": [
      "Gate Fidelity 0.9858426389055579\n",
      "Starting simulation benchmark...\n",
      "Avg gate fidelity: [0.9852660233641345]\n",
      "Finished simulation benchmark\n",
      "Reward (avg): 0.9874600259482267 Std: 0.0036049521597145326\n"
     ]
    },
    {
     "name": "stderr",
     "output_type": "stream",
     "text": [
      " 99%|█████████▉| 994/1000 [01:16<00:00, 13.98it/s]"
     ]
    },
    {
     "name": "stdout",
     "output_type": "stream",
     "text": [
      "Gate Fidelity 0.9852660233641345\n",
      "Starting simulation benchmark...\n",
      "Avg gate fidelity: [0.9858433732692463]\n",
      "Finished simulation benchmark\n",
      "Reward (avg): 0.9817838692739771 Std: 0.0038452379262796724\n",
      "Gate Fidelity 0.9858433732692463\n",
      "Starting simulation benchmark...\n",
      "Avg gate fidelity: [0.986008087732112]\n",
      "Finished simulation benchmark\n",
      "Reward (avg): 0.9868764535255294 Std: 0.0019497416003578045\n",
      "Gate Fidelity 0.986008087732112\n",
      "Starting simulation benchmark...\n",
      "Avg gate fidelity: [0.9871602317801382]\n",
      "Finished simulation benchmark\n",
      "Reward (avg): 0.988442616216554 Std: 0.0032566152405543395\n"
     ]
    },
    {
     "name": "stderr",
     "output_type": "stream",
     "text": [
      "100%|█████████▉| 996/1000 [01:16<00:00, 14.00it/s]"
     ]
    },
    {
     "name": "stdout",
     "output_type": "stream",
     "text": [
      "Gate Fidelity 0.9871602317801382\n",
      "Starting simulation benchmark...\n",
      "Avg gate fidelity: [0.9871926303422223]\n",
      "Finished simulation benchmark\n",
      "Reward (avg): 0.984678186639994 Std: 0.002796435471614345\n",
      "Gate Fidelity 0.9871926303422223\n",
      "Starting simulation benchmark...\n",
      "Avg gate fidelity: [0.9881427616252937]\n",
      "Finished simulation benchmark\n",
      "Reward (avg): 0.9897084512707258 Std: 0.0025507172069233635\n"
     ]
    },
    {
     "name": "stderr",
     "output_type": "stream",
     "text": [
      "100%|█████████▉| 998/1000 [01:16<00:00, 14.10it/s]"
     ]
    },
    {
     "name": "stdout",
     "output_type": "stream",
     "text": [
      "Gate Fidelity 0.9881427616252937\n",
      "Starting simulation benchmark...\n",
      "Avg gate fidelity: [0.9880320199401394]\n",
      "Finished simulation benchmark\n"
     ]
    },
    {
     "name": "stderr",
     "output_type": "stream",
     "text": [
      "100%|██████████| 1000/1000 [01:17<00:00, 12.98it/s]"
     ]
    },
    {
     "name": "stdout",
     "output_type": "stream",
     "text": [
      "Reward (avg): 0.989815861688478 Std: 0.002575374405718858\n",
      "Gate Fidelity 0.9880320199401394\n",
      "Starting simulation benchmark...\n",
      "Avg gate fidelity: [0.9883952441948946]\n",
      "Finished simulation benchmark\n",
      "Reward (avg): 0.9903750659519891 Std: 0.0024386438506361265\n",
      "Gate Fidelity 0.9883952441948946\n"
     ]
    },
    {
     "name": "stderr",
     "output_type": "stream",
     "text": [
      "\n"
     ]
    }
   ],
   "source": [
    "\"\"\"\n",
    "-----------------------------------------------------------------------------------------------------\n",
    "Training loop\n",
    "-----------------------------------------------------------------------------------------------------\n",
    "\"\"\"\n",
    "\n",
    "# TODO: Use TF-Agents PPO Agent\n",
    "mu_old = tf.Variable(initial_value=network(init_msmt)[0][0], trainable=False)\n",
    "sigma_old = tf.Variable(initial_value=network(init_msmt)[1][0], trainable=False)\n",
    "\n",
    "for i in tqdm(range(n_epochs)):\n",
    "    Old_distrib = MultivariateNormalDiag(\n",
    "        loc=mu_old, scale_diag=sigma_old, validate_args=True, allow_nan_stats=False\n",
    "    )\n",
    "    obs, _ = q_env.reset()\n",
    "    with tf.GradientTape(persistent=True) as tape:\n",
    "        mu, sigma, b = network(obs, training=True)\n",
    "        mu = tf.squeeze(mu, axis=0)\n",
    "        sigma = tf.squeeze(sigma, axis=0)\n",
    "        b = tf.squeeze(b, axis=0)\n",
    "\n",
    "        Policy_distrib = MultivariateNormalDiag(\n",
    "            loc=mu, scale_diag=sigma, validate_args=True, allow_nan_stats=False\n",
    "        )\n",
    "\n",
    "        action_vector = tf.stop_gradient(\n",
    "            tf.clip_by_value(Policy_distrib.sample(batchsize), -1.0, 1.0)\n",
    "        )\n",
    "        # Update policy for benchmarking on env\n",
    "        q_env.mean_action = np.array(mu)\n",
    "        q_env.std_action = np.array(sigma)\n",
    "\n",
    "        _, reward, _, _, _ = q_env.step(action_vector)\n",
    "        advantage = reward - b\n",
    "\n",
    "        if use_PPO:\n",
    "            ratio = Policy_distrib.prob(action_vector) / (\n",
    "                tf.stop_gradient(Old_distrib.prob(action_vector)) + 1e-6\n",
    "            )\n",
    "            actor_loss = -tf.reduce_mean(\n",
    "                tf.minimum(\n",
    "                    advantage * ratio,\n",
    "                    advantage * tf.clip_by_value(ratio, 1 - epsilon, 1 + epsilon),\n",
    "                )\n",
    "            )\n",
    "        else:  # REINFORCE algorithm\n",
    "            actor_loss = -tf.reduce_mean(advantage * Policy_distrib.log_prob(action_vector))\n",
    "\n",
    "        critic_loss = tf.reduce_mean(advantage**2)\n",
    "        combined_loss = actor_loss + critic_loss_coeff * critic_loss\n",
    "\n",
    "    grads = tape.gradient(combined_loss, network.trainable_variables)\n",
    "\n",
    "    # For PPO, update old parameters to have access to \"old\" policy\n",
    "    if use_PPO:\n",
    "        mu_old.assign(mu)\n",
    "        sigma_old.assign(sigma)\n",
    "    if q_env.do_benchmark():\n",
    "        avg_return[i] = np.mean(q_env.reward_history, axis=1)[i]\n",
    "        fidelities[i] = q_env.avg_fidelity_history[i]\n",
    "    print(\"Gate Fidelity\", fidelities[i])\n",
    "    if i % visualization_steps == 0:\n",
    "        clear_output(wait=True)  # for animation\n",
    "        fig, ax = plt.subplots()\n",
    "        ax.plot(\n",
    "            np.arange(1, n_epochs, 20),\n",
    "            avg_return[0:-1:visualization_steps],\n",
    "            \"-.\",\n",
    "            label=\"Average return\",\n",
    "        )\n",
    "        ax.plot(\n",
    "            np.arange(1, n_epochs, 20),\n",
    "            fidelities[0:-1:visualization_steps],\n",
    "            label=\"Average Gate Fidelity\",\n",
    "        )\n",
    "        ax.set_xlabel(\"Epoch\")\n",
    "        ax.set_ylabel(\"Reward\")\n",
    "        ax.legend()\n",
    "        plt.show()\n",
    "        print(\n",
    "            \"Maximum fidelity reached so far:\",\n",
    "            np.max(fidelities),\n",
    "            \"at Epoch\",\n",
    "            np.argmax(fidelities),\n",
    "        )\n",
    "\n",
    "    # Apply gradients\n",
    "    optimizer.apply_gradients(zip(grads, network.trainable_variables))\n",
    "q_env.close()"
   ]
  },
  {
   "cell_type": "code",
   "execution_count": 17,
   "id": "27018b75-3a90-4344-a2b8-8fba79336fb6",
   "metadata": {
    "ExecuteTime": {
     "end_time": "2024-02-21T01:57:26.233024Z",
     "start_time": "2024-02-21T01:57:26.211893Z"
    }
   },
   "outputs": [
    {
     "name": "stdout",
     "output_type": "stream",
     "text": [
      "Maximum fidelity reached: 0.9966846662173758 at Epoch  915\n",
      "Actions yielding optimal fidelity: [-0.0193619  -0.6209393   0.87501657  0.2546456  -0.25052294  0.25247526\n",
      " -0.25100243]\n"
     ]
    }
   ],
   "source": [
    "print(\"Maximum fidelity reached:\", np.max(fidelities), \"at Epoch \", np.argmax(fidelities))\n",
    "print(\n",
    "    \"Actions yielding optimal fidelity:\",\n",
    "   q_env.optimal_action,\n",
    ")"
   ]
  },
  {
   "cell_type": "code",
   "execution_count": null,
   "id": "1a1b07c5",
   "metadata": {},
   "outputs": [],
   "source": []
  }
 ],
 "metadata": {
  "kernelspec": {
   "display_name": ".venv",
   "language": "python",
   "name": "python3"
  },
  "language_info": {
   "codemirror_mode": {
    "name": "ipython",
    "version": 3
   },
   "file_extension": ".py",
   "mimetype": "text/x-python",
   "name": "python",
   "nbconvert_exporter": "python",
   "pygments_lexer": "ipython3",
   "version": "3.11.5"
  }
 },
 "nbformat": 4,
 "nbformat_minor": 5
}

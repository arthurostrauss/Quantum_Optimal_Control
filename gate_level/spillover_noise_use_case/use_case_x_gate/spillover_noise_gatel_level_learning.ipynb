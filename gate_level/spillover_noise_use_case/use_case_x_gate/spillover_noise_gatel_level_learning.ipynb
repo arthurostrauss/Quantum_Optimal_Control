{
 "cells": [
  {
   "cell_type": "code",
   "metadata": {
    "ExecuteTime": {
     "end_time": "2024-08-14T02:41:48.451233Z",
     "start_time": "2024-08-14T02:41:43.199053Z"
    }
   },
   "source": [
    "import sys\n",
    "import os\n",
    "import numpy as np\n",
    "import matplotlib.pyplot as plt\n",
    "\n",
    "os.environ[\"KMP_DUPLICATE_LIB_OK\"] = \"True\"\n",
    "from spillover_noise_q_env_config import (\n",
    "    q_env_config as gate_q_env_config,\n",
    "    circuit_context,\n",
    "    gamma,\n",
    "    phi,\n",
    ")\n",
    "from spillover_noise_quantum_environment import SpilloverNoiseQuantumEnvironment\n",
    "from gymnasium.wrappers import RescaleAction, ClipAction\n",
    "\n",
    "from rl_qoc import CustomPPO\n",
    "from rl_qoc.helpers import load_from_yaml_file\n",
    "\n",
    "from rl_qoc.agent import (\n",
    "    TotalUpdates,\n",
    "    HardwareRuntime,\n",
    "    TrainingConfig,\n",
    "    TrainFunctionSettings,\n",
    ")\n",
    "\n",
    "import logging\n",
    "\n",
    "logging.basicConfig(\n",
    "    level=logging.WARNING,\n",
    "    format=\"%(asctime)s INFO %(message)s\",  # hardcoded INFO level\n",
    "    datefmt=\"%Y-%m-%d %H:%M:%S\",\n",
    "    stream=sys.stdout,\n",
    ")"
   ],
   "outputs": [],
   "execution_count": 1
  },
  {
   "cell_type": "code",
   "metadata": {
    "ExecuteTime": {
     "end_time": "2024-08-14T02:41:48.462109Z",
     "start_time": "2024-08-14T02:41:48.453985Z"
    }
   },
   "source": [
    "q_env = SpilloverNoiseQuantumEnvironment(gate_q_env_config, circuit_context, (phi, gamma))\n",
    "rescaled_env = RescaleAction(ClipAction(q_env), -1.0, 1.0)"
   ],
   "outputs": [],
   "execution_count": 2
  },
  {
   "metadata": {
    "ExecuteTime": {
     "end_time": "2024-08-14T02:41:48.516175Z",
     "start_time": "2024-08-14T02:41:48.514191Z"
    }
   },
   "cell_type": "code",
   "source": [
    "print(\"Reward method:\", q_env.config.reward_method)\n",
    "print(\"n_reps:\", q_env.n_reps)\n",
    "print(\"backend\", q_env.backend)\n",
    "print(\"backend Options\", q_env.backend.options)"
   ],
   "outputs": [
    {
     "name": "stdout",
     "output_type": "stream",
     "text": [
      "Reward method: channel\n",
      "n_reps: 1\n",
      "backend AerSimulator('aer_simulator'\n",
      "             noise_model=<NoiseModel on ['rx_custom']>)\n",
      "backend Options Options(shots=1024, method='automatic', device='CPU', precision='double', executor=None, max_job_size=None, max_shot_size=None, enable_truncation=True, zero_threshold=1e-10, validation_threshold=None, max_parallel_threads=None, max_parallel_experiments=0, max_parallel_shots=None, max_memory_mb=None, fusion_enable=True, fusion_verbose=False, fusion_max_qubit=None, fusion_threshold=None, accept_distributed_results=None, memory=None, noise_model=<NoiseModel on ['rx_custom']>, seed_simulator=None, cuStateVec_enable=False, blocking_qubits=None, blocking_enable=False, chunk_swap_buffer_qubits=None, batched_shots_gpu=False, batched_shots_gpu_max_qubits=16, num_threads_per_device=1, shot_branching_enable=False, shot_branching_sampling_enable=False, statevector_parallel_threshold=14, statevector_sample_measure_opt=10, stabilizer_max_snapshot_probabilities=32, extended_stabilizer_sampling_method='resampled_metropolis', extended_stabilizer_metropolis_mixing_time=5000, extended_stabilizer_approximation_error=0.05, extended_stabilizer_norm_estimation_samples=100, extended_stabilizer_norm_estimation_repetitions=3, extended_stabilizer_parallel_threshold=100, extended_stabilizer_probabilities_snapshot_samples=3000, matrix_product_state_truncation_threshold=1e-16, matrix_product_state_max_bond_dimension=None, mps_sample_measure_algorithm='mps_heuristic', mps_log_data=False, mps_swap_direction='mps_swap_left', chop_threshold=1e-08, mps_parallel_threshold=14, mps_omp_threads=1, mps_lapack=False, tensor_network_num_sampling_qubits=10, use_cuTensorNet_autotuning=False, runtime_parameter_bind_enable=True)\n"
     ]
    }
   ],
   "execution_count": 3
  },
  {
   "cell_type": "code",
   "metadata": {
    "collapsed": false,
    "ExecuteTime": {
     "end_time": "2024-08-14T02:41:48.600780Z",
     "start_time": "2024-08-14T02:41:48.524869Z"
    }
   },
   "source": "q_env.circuits[0].draw(\"mpl\")",
   "outputs": [
    {
     "data": {
      "text/plain": [
       "<Figure size 375.117x117.056 with 1 Axes>"
      ],
      "image/png": "[encoded data removed]"
     },
     "execution_count": 4,
     "metadata": {},
     "output_type": "execute_result"
    }
   ],
   "execution_count": 4
  },
  {
   "metadata": {
    "ExecuteTime": {
     "end_time": "2024-08-14T02:41:48.638171Z",
     "start_time": "2024-08-14T02:41:48.613870Z"
    }
   },
   "cell_type": "code",
   "source": "q_env.baseline_circuits[0].draw(\"mpl\")",
   "outputs": [
    {
     "data": {
      "text/plain": [
       "<Figure size 375.117x117.056 with 1 Axes>"
      ],
      "image/png": "[encoded data removed]"
     },
     "execution_count": 5,
     "metadata": {},
     "output_type": "execute_result"
    }
   ],
   "execution_count": 5
  },
  {
   "metadata": {
    "ExecuteTime": {
     "end_time": "2024-08-14T02:41:48.671912Z",
     "start_time": "2024-08-14T02:41:48.647666Z"
    }
   },
   "cell_type": "code",
   "source": [
    "from qiskit.quantum_info import Operator\n",
    "\n",
    "Operator(q_env.baseline_circuits[0]).draw(\"latex\")"
   ],
   "outputs": [
    {
     "data": {
      "text/plain": [
       "<IPython.core.display.Latex object>"
      ],
      "text/latex": "$$\n\n\\begin{bmatrix}\n- \\frac{\\sqrt{2} i}{2} & \\frac{\\sqrt{2}}{2}  \\\\\n \\frac{\\sqrt{2}}{2} & - \\frac{\\sqrt{2} i}{2}  \\\\\n \\end{bmatrix}\n$$"
     },
     "execution_count": 6,
     "metadata": {},
     "output_type": "execute_result"
    }
   ],
   "execution_count": 6
  },
  {
   "metadata": {
    "ExecuteTime": {
     "end_time": "2024-08-14T02:41:48.688504Z",
     "start_time": "2024-08-14T02:41:48.680320Z"
    }
   },
   "cell_type": "code",
   "source": "q_env.get_baseline_fid_from_phi_gamma()",
   "outputs": [
    {
     "data": {
      "text/plain": [
       "0.9636688413961226"
      ]
     },
     "execution_count": 7,
     "metadata": {},
     "output_type": "execute_result"
    }
   ],
   "execution_count": 7
  },
  {
   "metadata": {
    "ExecuteTime": {
     "end_time": "2024-08-14T02:41:48.706529Z",
     "start_time": "2024-08-14T02:41:48.702553Z"
    }
   },
   "cell_type": "code",
   "source": [
    "from qiskit.quantum_info import (\n",
    "    Operator,\n",
    "    average_gate_fidelity,\n",
    "    Statevector,\n",
    "    state_fidelity,\n",
    ")\n",
    "\n",
    "average_gate_fidelity(Operator(q_env._get_noisy_circuit()), Operator(q_env._get_ideal_circ()))"
   ],
   "outputs": [
    {
     "data": {
      "text/plain": [
       "0.9636688413961226"
      ]
     },
     "execution_count": 8,
     "metadata": {},
     "output_type": "execute_result"
    }
   ],
   "execution_count": 8
  },
  {
   "cell_type": "code",
   "metadata": {
    "ExecuteTime": {
     "end_time": "2024-08-14T02:41:48.716628Z",
     "start_time": "2024-08-14T02:41:48.713916Z"
    }
   },
   "source": [
    "agent_config = load_from_yaml_file(\"agent_config.yaml\")"
   ],
   "outputs": [],
   "execution_count": 9
  },
  {
   "cell_type": "code",
   "metadata": {
    "ExecuteTime": {
     "end_time": "2024-08-14T02:41:49.047992Z",
     "start_time": "2024-08-14T02:41:48.723717Z"
    }
   },
   "source": [
    "ppo_agent = CustomPPO(agent_config, rescaled_env)\n",
    "\n",
    "total_updates = TotalUpdates(100)\n",
    "# hardware_runtime = HardwareRuntime(300)\n",
    "training_config = TrainingConfig(\n",
    "    training_constraint=total_updates,\n",
    "    target_fidelities=[0.999, 0.9999],\n",
    "    lookback_window=10,\n",
    "    anneal_learning_rate=False,\n",
    "    std_actions_eps=1e-2,\n",
    ")\n",
    "\n",
    "train_function_settings = TrainFunctionSettings(\n",
    "    plot_real_time=True,\n",
    "    print_debug=False,\n",
    "    num_prints=10,\n",
    "    hpo_mode=False,\n",
    "    clear_history=False,\n",
    ")"
   ],
   "outputs": [],
   "execution_count": 10
  },
  {
   "cell_type": "code",
   "metadata": {
    "ExecuteTime": {
     "end_time": "2024-08-14T02:41:49.057214Z",
     "start_time": "2024-08-14T02:41:49.055484Z"
    }
   },
   "source": "q_env.unwrapped.n_reps",
   "outputs": [
    {
     "data": {
      "text/plain": [
       "1"
      ]
     },
     "execution_count": 11,
     "metadata": {},
     "output_type": "execute_result"
    }
   ],
   "execution_count": 11
  },
  {
   "metadata": {
    "ExecuteTime": {
     "end_time": "2024-08-14T02:41:49.070200Z",
     "start_time": "2024-08-14T02:41:49.068390Z"
    }
   },
   "cell_type": "code",
   "source": [
    "from qiskit_aer.primitives import EstimatorV2\n",
    "\n",
    "q_env.estimator._backend\n",
    "q_env.estimator.options"
   ],
   "outputs": [
    {
     "data": {
      "text/plain": [
       "Options(default_precision=0.0, backend_options={}, run_options={})"
      ]
     },
     "execution_count": 12,
     "metadata": {},
     "output_type": "execute_result"
    }
   ],
   "execution_count": 12
  },
  {
   "metadata": {
    "ExecuteTime": {
     "end_time": "2024-08-14T02:41:49.174843Z",
     "start_time": "2024-08-14T02:41:49.133269Z"
    }
   },
   "cell_type": "code",
   "source": "q_env.baseline_circuits[0].decompose().draw(\"mpl\")",
   "outputs": [
    {
     "data": {
      "text/plain": [
       "<Figure size 375.117x117.056 with 1 Axes>"
      ],
      "image/png": "[encoded data removed]"
     },
     "execution_count": 13,
     "metadata": {},
     "output_type": "execute_result"
    }
   ],
   "execution_count": 13
  },
  {
   "metadata": {
    "ExecuteTime": {
     "end_time": "2024-08-14T02:41:49.190559Z",
     "start_time": "2024-08-14T02:41:49.188004Z"
    }
   },
   "cell_type": "code",
   "source": [
    "from qiskit.primitives import BackendEstimatorV2\n",
    "\n",
    "switch_estimator = False\n",
    "if switch_estimator:\n",
    "    q_env.estimator = BackendEstimatorV2(backend=q_env.backend)"
   ],
   "outputs": [],
   "execution_count": 14
  },
  {
   "cell_type": "code",
   "metadata": {
    "ExecuteTime": {
     "end_time": "2024-08-14T04:10:35.021345Z",
     "start_time": "2024-08-14T02:41:53.972733Z"
    }
   },
   "source": [
    "training_results = ppo_agent.train(\n",
    "    training_config=training_config, train_function_settings=train_function_settings\n",
    ")"
   ],
   "outputs": [
    {
     "name": "stdout",
     "output_type": "stream",
     "text": [
      "2024-08-14 10:41:53 INFO Training Constraint: Total Updates\n"
     ]
    },
    {
     "name": "stderr",
     "output_type": "stream",
     "text": [
      "  0%|          | 0/100 [00:00<?, ?it/s]"
     ]
    },
    {
     "name": "stdout",
     "output_type": "stream",
     "text": [
      "Starting simulation benchmark...\n",
      "Fidelity stored 0.974429285269088\n"
     ]
    },
    {
     "name": "stderr",
     "output_type": "stream",
     "text": [
      "/Users/arthurostrauss/anaconda3/envs/rl_qoc/lib/python3.11/site-packages/qiskit/providers/backend_compat.py:126: RuntimeWarning: No gate definition for store can be found and is being excluded from the generated target. You can use `custom_name_mapping` to provide a definition for this operation.\n",
      "  warnings.warn(\n"
     ]
    },
    {
     "name": "stdout",
     "output_type": "stream",
     "text": [
      "Hardware runtime taken: 15.4176\n",
      "Sending Estimator job...\n"
     ]
    },
    {
     "ename": "KeyboardInterrupt",
     "evalue": "",
     "output_type": "error",
     "traceback": [
      "\u001b[0;31m---------------------------------------------------------------------------\u001b[0m",
      "\u001b[0;31mKeyboardInterrupt\u001b[0m                         Traceback (most recent call last)",
      "Cell \u001b[0;32mIn[15], line 1\u001b[0m\n\u001b[0;32m----> 1\u001b[0m training_results \u001b[38;5;241m=\u001b[39m ppo_agent\u001b[38;5;241m.\u001b[39mtrain(\n\u001b[1;32m      2\u001b[0m     training_config\u001b[38;5;241m=\u001b[39mtraining_config, train_function_settings\u001b[38;5;241m=\u001b[39mtrain_function_settings\n\u001b[1;32m      3\u001b[0m \n\u001b[1;32m      4\u001b[0m )\n",
      "File \u001b[0;32m~/Library/CloudStorage/OneDrive-NationalUniversityofSingapore/Coding_projects/Quantum_Optimal_Control/rl_qoc/ppo.py:890\u001b[0m, in \u001b[0;36mCustomPPO.train\u001b[0;34m(self, training_config, train_function_settings)\u001b[0m\n\u001b[1;32m    888\u001b[0m     logging\u001b[38;5;241m.\u001b[39mwarning(\u001b[38;5;124m\"\u001b[39m\u001b[38;5;124mTraining Constraint: Total Updates\u001b[39m\u001b[38;5;124m\"\u001b[39m)\n\u001b[1;32m    889\u001b[0m     \u001b[38;5;28;01mfor\u001b[39;00m iteration \u001b[38;5;129;01min\u001b[39;00m tqdm\u001b[38;5;241m.\u001b[39mtqdm(\u001b[38;5;28mrange\u001b[39m(\u001b[38;5;241m1\u001b[39m, \u001b[38;5;28mself\u001b[39m\u001b[38;5;241m.\u001b[39mtotal_updates \u001b[38;5;241m+\u001b[39m \u001b[38;5;241m1\u001b[39m)):\n\u001b[0;32m--> 890\u001b[0m         \u001b[38;5;28;01mif\u001b[39;00m \u001b[38;5;28mself\u001b[39m\u001b[38;5;241m.\u001b[39mexecute_training_cycle(\n\u001b[1;32m    891\u001b[0m                 iteration,\n\u001b[1;32m    892\u001b[0m                 \u001b[38;5;28mself\u001b[39m\u001b[38;5;241m.\u001b[39mnum_prints,\n\u001b[1;32m    893\u001b[0m                 avg_reward,\n\u001b[1;32m    894\u001b[0m                 fidelities,\n\u001b[1;32m    895\u001b[0m                 avg_action_history,\n\u001b[1;32m    896\u001b[0m                 std_actions,\n\u001b[1;32m    897\u001b[0m                 fidelity_info,\n\u001b[1;32m    898\u001b[0m                 start_time,\n\u001b[1;32m    899\u001b[0m         ):\n\u001b[1;32m    900\u001b[0m             \u001b[38;5;28;01mbreak\u001b[39;00m\n\u001b[1;32m    902\u001b[0m \u001b[38;5;28;01melif\u001b[39;00m \u001b[38;5;28misinstance\u001b[39m(\u001b[38;5;28mself\u001b[39m\u001b[38;5;241m.\u001b[39mtraining_constraint, HardwareRuntime):\n\u001b[1;32m    903\u001b[0m     \u001b[38;5;66;03m# Hardware Constraint Mode: Train until hardware runtime exceeds maximum\u001b[39;00m\n",
      "File \u001b[0;32m~/Library/CloudStorage/OneDrive-NationalUniversityofSingapore/Coding_projects/Quantum_Optimal_Control/rl_qoc/ppo.py:1075\u001b[0m, in \u001b[0;36mCustomPPO.execute_training_cycle\u001b[0;34m(self, iteration, num_prints, avg_reward, fidelities, avg_action_history, std_actions, fidelity_info, start_time)\u001b[0m\n\u001b[1;32m   1072\u001b[0m \u001b[38;5;28;01mif\u001b[39;00m \u001b[38;5;28mself\u001b[39m\u001b[38;5;241m.\u001b[39manneal_learning_rate:\n\u001b[1;32m   1073\u001b[0m     \u001b[38;5;28mself\u001b[39m\u001b[38;5;241m.\u001b[39mlearning_rate_annealing(iteration\u001b[38;5;241m=\u001b[39miteration)\n\u001b[0;32m-> 1075\u001b[0m mean_action, std_action \u001b[38;5;241m=\u001b[39m \u001b[38;5;28mself\u001b[39m\u001b[38;5;241m.\u001b[39mperform_training_iteration()\n\u001b[1;32m   1077\u001b[0m update_metric_lists(\n\u001b[1;32m   1078\u001b[0m     \u001b[38;5;28mself\u001b[39m\u001b[38;5;241m.\u001b[39munwrapped_env,\n\u001b[1;32m   1079\u001b[0m     mean_action,\n\u001b[0;32m   (...)\u001b[0m\n\u001b[1;32m   1084\u001b[0m     std_actions,\n\u001b[1;32m   1085\u001b[0m )\n\u001b[1;32m   1087\u001b[0m \u001b[38;5;28;01mif\u001b[39;00m \u001b[38;5;28mself\u001b[39m\u001b[38;5;241m.\u001b[39mtarget_fidelities \u001b[38;5;129;01mis\u001b[39;00m \u001b[38;5;129;01mnot\u001b[39;00m \u001b[38;5;28;01mNone\u001b[39;00m:\n",
      "File \u001b[0;32m~/Library/CloudStorage/OneDrive-NationalUniversityofSingapore/Coding_projects/Quantum_Optimal_Control/rl_qoc/ppo.py:954\u001b[0m, in \u001b[0;36mCustomPPO.perform_training_iteration\u001b[0;34m(self)\u001b[0m\n\u001b[1;32m    949\u001b[0m next_obs, num_steps, batch_obs, batch_done \u001b[38;5;241m=\u001b[39m reset_env(\n\u001b[1;32m    950\u001b[0m     \u001b[38;5;28mself\u001b[39m\u001b[38;5;241m.\u001b[39menv, \u001b[38;5;28mself\u001b[39m\u001b[38;5;241m.\u001b[39mseed, \u001b[38;5;28mself\u001b[39m\u001b[38;5;241m.\u001b[39mglobal_step, \u001b[38;5;28mself\u001b[39m\u001b[38;5;241m.\u001b[39mbatchsize, \u001b[38;5;28mself\u001b[39m\u001b[38;5;241m.\u001b[39mdones\n\u001b[1;32m    951\u001b[0m )\n\u001b[1;32m    953\u001b[0m \u001b[38;5;28;01mfor\u001b[39;00m step \u001b[38;5;129;01min\u001b[39;00m \u001b[38;5;28mrange\u001b[39m(num_steps):\n\u001b[0;32m--> 954\u001b[0m     next_obs, next_done, mean_action, std_action \u001b[38;5;241m=\u001b[39m take_step(\n\u001b[1;32m    955\u001b[0m         step,\n\u001b[1;32m    956\u001b[0m         \u001b[38;5;28mself\u001b[39m\u001b[38;5;241m.\u001b[39mglobal_step,\n\u001b[1;32m    957\u001b[0m         \u001b[38;5;28mself\u001b[39m\u001b[38;5;241m.\u001b[39mbatchsize,\n\u001b[1;32m    958\u001b[0m         num_steps,\n\u001b[1;32m    959\u001b[0m         \u001b[38;5;28mself\u001b[39m\u001b[38;5;241m.\u001b[39mobs,\n\u001b[1;32m    960\u001b[0m         \u001b[38;5;28mself\u001b[39m\u001b[38;5;241m.\u001b[39mdones,\n\u001b[1;32m    961\u001b[0m         \u001b[38;5;28mself\u001b[39m\u001b[38;5;241m.\u001b[39mactions,\n\u001b[1;32m    962\u001b[0m         \u001b[38;5;28mself\u001b[39m\u001b[38;5;241m.\u001b[39mlogprobs,\n\u001b[1;32m    963\u001b[0m         \u001b[38;5;28mself\u001b[39m\u001b[38;5;241m.\u001b[39mrewards,\n\u001b[1;32m    964\u001b[0m         \u001b[38;5;28mself\u001b[39m\u001b[38;5;241m.\u001b[39mvalues,\n\u001b[1;32m    965\u001b[0m         batch_obs,\n\u001b[1;32m    966\u001b[0m         batch_done,\n\u001b[1;32m    967\u001b[0m         \u001b[38;5;28mself\u001b[39m\u001b[38;5;241m.\u001b[39mmin_action,\n\u001b[1;32m    968\u001b[0m         \u001b[38;5;28mself\u001b[39m\u001b[38;5;241m.\u001b[39mmax_action,\n\u001b[1;32m    969\u001b[0m         \u001b[38;5;28mself\u001b[39m\u001b[38;5;241m.\u001b[39magent,\n\u001b[1;32m    970\u001b[0m         \u001b[38;5;28mself\u001b[39m\u001b[38;5;241m.\u001b[39menv,\n\u001b[1;32m    971\u001b[0m         \u001b[38;5;28mself\u001b[39m\u001b[38;5;241m.\u001b[39mwriter,\n\u001b[1;32m    972\u001b[0m     )\n\u001b[1;32m    974\u001b[0m advantages, returns \u001b[38;5;241m=\u001b[39m do_bootstrap(\n\u001b[1;32m    975\u001b[0m     next_obs,\n\u001b[1;32m    976\u001b[0m     next_done,\n\u001b[0;32m   (...)\u001b[0m\n\u001b[1;32m    983\u001b[0m     \u001b[38;5;28mself\u001b[39m\u001b[38;5;241m.\u001b[39magent,\n\u001b[1;32m    984\u001b[0m )\n\u001b[1;32m    985\u001b[0m b_obs, b_logprobs, b_actions, b_advantages, b_returns, b_values \u001b[38;5;241m=\u001b[39m flatten_batch(\n\u001b[1;32m    986\u001b[0m     \u001b[38;5;28mself\u001b[39m\u001b[38;5;241m.\u001b[39menv,\n\u001b[1;32m    987\u001b[0m     \u001b[38;5;28mself\u001b[39m\u001b[38;5;241m.\u001b[39mobs,\n\u001b[0;32m   (...)\u001b[0m\n\u001b[1;32m    992\u001b[0m     \u001b[38;5;28mself\u001b[39m\u001b[38;5;241m.\u001b[39mvalues,\n\u001b[1;32m    993\u001b[0m )\n",
      "File \u001b[0;32m~/Library/CloudStorage/OneDrive-NationalUniversityofSingapore/Coding_projects/Quantum_Optimal_Control/rl_qoc/ppo.py:420\u001b[0m, in \u001b[0;36mtake_step\u001b[0;34m(step, global_step, batchsize, num_steps, obs, dones, actions, logprobs, rewards, values, batch_obs, batch_done, min_action, max_action, agent, env, writer)\u001b[0m\n\u001b[1;32m    417\u001b[0m actions[step] \u001b[38;5;241m=\u001b[39m action\n\u001b[1;32m    418\u001b[0m logprobs[step] \u001b[38;5;241m=\u001b[39m logprob\n\u001b[0;32m--> 420\u001b[0m next_obs, reward, terminated, truncated, infos \u001b[38;5;241m=\u001b[39m env\u001b[38;5;241m.\u001b[39mstep(action\u001b[38;5;241m.\u001b[39mcpu()\u001b[38;5;241m.\u001b[39mnumpy())\n\u001b[1;32m    421\u001b[0m next_obs \u001b[38;5;241m=\u001b[39m torch\u001b[38;5;241m.\u001b[39mTensor(next_obs)\n\u001b[1;32m    422\u001b[0m done \u001b[38;5;241m=\u001b[39m \u001b[38;5;28mint\u001b[39m(np\u001b[38;5;241m.\u001b[39mlogical_or(terminated, truncated))\n",
      "File \u001b[0;32m~/anaconda3/envs/rl_qoc/lib/python3.11/site-packages/gymnasium/core.py:591\u001b[0m, in \u001b[0;36mActionWrapper.step\u001b[0;34m(self, action)\u001b[0m\n\u001b[1;32m    587\u001b[0m \u001b[38;5;28;01mdef\u001b[39;00m \u001b[38;5;21mstep\u001b[39m(\n\u001b[1;32m    588\u001b[0m     \u001b[38;5;28mself\u001b[39m, action: WrapperActType\n\u001b[1;32m    589\u001b[0m ) \u001b[38;5;241m-\u001b[39m\u001b[38;5;241m>\u001b[39m \u001b[38;5;28mtuple\u001b[39m[ObsType, SupportsFloat, \u001b[38;5;28mbool\u001b[39m, \u001b[38;5;28mbool\u001b[39m, \u001b[38;5;28mdict\u001b[39m[\u001b[38;5;28mstr\u001b[39m, Any]]:\n\u001b[1;32m    590\u001b[0m \u001b[38;5;250m    \u001b[39m\u001b[38;5;124;03m\"\"\"Runs the :attr:`env` :meth:`env.step` using the modified ``action`` from :meth:`self.action`.\"\"\"\u001b[39;00m\n\u001b[0;32m--> 591\u001b[0m     \u001b[38;5;28;01mreturn\u001b[39;00m \u001b[38;5;28mself\u001b[39m\u001b[38;5;241m.\u001b[39menv\u001b[38;5;241m.\u001b[39mstep(\u001b[38;5;28mself\u001b[39m\u001b[38;5;241m.\u001b[39maction(action))\n",
      "File \u001b[0;32m~/anaconda3/envs/rl_qoc/lib/python3.11/site-packages/gymnasium/core.py:591\u001b[0m, in \u001b[0;36mActionWrapper.step\u001b[0;34m(self, action)\u001b[0m\n\u001b[1;32m    587\u001b[0m \u001b[38;5;28;01mdef\u001b[39;00m \u001b[38;5;21mstep\u001b[39m(\n\u001b[1;32m    588\u001b[0m     \u001b[38;5;28mself\u001b[39m, action: WrapperActType\n\u001b[1;32m    589\u001b[0m ) \u001b[38;5;241m-\u001b[39m\u001b[38;5;241m>\u001b[39m \u001b[38;5;28mtuple\u001b[39m[ObsType, SupportsFloat, \u001b[38;5;28mbool\u001b[39m, \u001b[38;5;28mbool\u001b[39m, \u001b[38;5;28mdict\u001b[39m[\u001b[38;5;28mstr\u001b[39m, Any]]:\n\u001b[1;32m    590\u001b[0m \u001b[38;5;250m    \u001b[39m\u001b[38;5;124;03m\"\"\"Runs the :attr:`env` :meth:`env.step` using the modified ``action`` from :meth:`self.action`.\"\"\"\u001b[39;00m\n\u001b[0;32m--> 591\u001b[0m     \u001b[38;5;28;01mreturn\u001b[39;00m \u001b[38;5;28mself\u001b[39m\u001b[38;5;241m.\u001b[39menv\u001b[38;5;241m.\u001b[39mstep(\u001b[38;5;28mself\u001b[39m\u001b[38;5;241m.\u001b[39maction(action))\n",
      "File \u001b[0;32m~/Library/CloudStorage/OneDrive-NationalUniversityofSingapore/Coding_projects/Quantum_Optimal_Control/rl_qoc/context_aware_quantum_environment.py:360\u001b[0m, in \u001b[0;36mContextAwareQuantumEnvironment.step\u001b[0;34m(self, action)\u001b[0m\n\u001b[1;32m    358\u001b[0m \u001b[38;5;28;01melse\u001b[39;00m:\n\u001b[1;32m    359\u001b[0m     terminated \u001b[38;5;241m=\u001b[39m \u001b[38;5;28mself\u001b[39m\u001b[38;5;241m.\u001b[39m_episode_ended \u001b[38;5;241m=\u001b[39m \u001b[38;5;28;01mTrue\u001b[39;00m\n\u001b[0;32m--> 360\u001b[0m     reward \u001b[38;5;241m=\u001b[39m \u001b[38;5;28mself\u001b[39m\u001b[38;5;241m.\u001b[39mperform_action(params)\n\u001b[1;32m    361\u001b[0m     \u001b[38;5;28;01mif\u001b[39;00m \u001b[38;5;28mself\u001b[39m\u001b[38;5;241m.\u001b[39m_intermediate_rewards:\n\u001b[1;32m    362\u001b[0m         obs \u001b[38;5;241m=\u001b[39m reward\n",
      "File \u001b[0;32m~/Library/CloudStorage/OneDrive-NationalUniversityofSingapore/Coding_projects/Quantum_Optimal_Control/rl_qoc/base_q_env.py:858\u001b[0m, in \u001b[0;36mBaseQuantumEnvironment.perform_action\u001b[0;34m(self, actions)\u001b[0m\n\u001b[1;32m    856\u001b[0m \u001b[38;5;28;01melse\u001b[39;00m:  \u001b[38;5;66;03m# EstimatorV2\u001b[39;00m\n\u001b[1;32m    857\u001b[0m     job \u001b[38;5;241m=\u001b[39m \u001b[38;5;28mself\u001b[39m\u001b[38;5;241m.\u001b[39mprimitive\u001b[38;5;241m.\u001b[39mrun(pubs\u001b[38;5;241m=\u001b[39m\u001b[38;5;28mself\u001b[39m\u001b[38;5;241m.\u001b[39m_pubs)\n\u001b[0;32m--> 858\u001b[0m     pub_results \u001b[38;5;241m=\u001b[39m job\u001b[38;5;241m.\u001b[39mresult()\n\u001b[1;32m    859\u001b[0m     \u001b[38;5;28mprint\u001b[39m(\u001b[38;5;124m\"\u001b[39m\u001b[38;5;124mTime for running\u001b[39m\u001b[38;5;124m\"\u001b[39m, time\u001b[38;5;241m.\u001b[39mtime() \u001b[38;5;241m-\u001b[39m start)\n\u001b[1;32m    861\u001b[0m     \u001b[38;5;28;01mif\u001b[39;00m \u001b[38;5;28mself\u001b[39m\u001b[38;5;241m.\u001b[39mconfig\u001b[38;5;241m.\u001b[39mdfe:\n",
      "File \u001b[0;32m~/anaconda3/envs/rl_qoc/lib/python3.11/site-packages/qiskit/primitives/primitive_job.py:51\u001b[0m, in \u001b[0;36mPrimitiveJob.result\u001b[0;34m(self)\u001b[0m\n\u001b[1;32m     49\u001b[0m \u001b[38;5;28;01mdef\u001b[39;00m \u001b[38;5;21mresult\u001b[39m(\u001b[38;5;28mself\u001b[39m) \u001b[38;5;241m-\u001b[39m\u001b[38;5;241m>\u001b[39m ResultT:\n\u001b[1;32m     50\u001b[0m     \u001b[38;5;28mself\u001b[39m\u001b[38;5;241m.\u001b[39m_check_submitted()\n\u001b[0;32m---> 51\u001b[0m     \u001b[38;5;28;01mreturn\u001b[39;00m \u001b[38;5;28mself\u001b[39m\u001b[38;5;241m.\u001b[39m_future\u001b[38;5;241m.\u001b[39mresult()\n",
      "File \u001b[0;32m~/anaconda3/envs/rl_qoc/lib/python3.11/concurrent/futures/_base.py:451\u001b[0m, in \u001b[0;36mFuture.result\u001b[0;34m(self, timeout)\u001b[0m\n\u001b[1;32m    448\u001b[0m \u001b[38;5;28;01melif\u001b[39;00m \u001b[38;5;28mself\u001b[39m\u001b[38;5;241m.\u001b[39m_state \u001b[38;5;241m==\u001b[39m FINISHED:\n\u001b[1;32m    449\u001b[0m     \u001b[38;5;28;01mreturn\u001b[39;00m \u001b[38;5;28mself\u001b[39m\u001b[38;5;241m.\u001b[39m__get_result()\n\u001b[0;32m--> 451\u001b[0m \u001b[38;5;28mself\u001b[39m\u001b[38;5;241m.\u001b[39m_condition\u001b[38;5;241m.\u001b[39mwait(timeout)\n\u001b[1;32m    453\u001b[0m \u001b[38;5;28;01mif\u001b[39;00m \u001b[38;5;28mself\u001b[39m\u001b[38;5;241m.\u001b[39m_state \u001b[38;5;129;01min\u001b[39;00m [CANCELLED, CANCELLED_AND_NOTIFIED]:\n\u001b[1;32m    454\u001b[0m     \u001b[38;5;28;01mraise\u001b[39;00m CancelledError()\n",
      "File \u001b[0;32m~/anaconda3/envs/rl_qoc/lib/python3.11/threading.py:327\u001b[0m, in \u001b[0;36mCondition.wait\u001b[0;34m(self, timeout)\u001b[0m\n\u001b[1;32m    325\u001b[0m \u001b[38;5;28;01mtry\u001b[39;00m:    \u001b[38;5;66;03m# restore state no matter what (e.g., KeyboardInterrupt)\u001b[39;00m\n\u001b[1;32m    326\u001b[0m     \u001b[38;5;28;01mif\u001b[39;00m timeout \u001b[38;5;129;01mis\u001b[39;00m \u001b[38;5;28;01mNone\u001b[39;00m:\n\u001b[0;32m--> 327\u001b[0m         waiter\u001b[38;5;241m.\u001b[39macquire()\n\u001b[1;32m    328\u001b[0m         gotit \u001b[38;5;241m=\u001b[39m \u001b[38;5;28;01mTrue\u001b[39;00m\n\u001b[1;32m    329\u001b[0m     \u001b[38;5;28;01melse\u001b[39;00m:\n",
      "\u001b[0;31mKeyboardInterrupt\u001b[0m: "
     ]
    }
   ],
   "execution_count": 39
  },
  {
   "metadata": {
    "ExecuteTime": {
     "end_time": "2024-08-14T02:03:48.182611Z",
     "start_time": "2024-08-14T01:44:31.415766Z"
    }
   },
   "cell_type": "code",
   "source": "plt.plot(ppo_agent.training_results[\"std_action\"])",
   "outputs": [
    {
     "data": {
      "text/plain": [
       "[<matplotlib.lines.Line2D at 0x39e9d6e90>]"
      ]
     },
     "execution_count": 16,
     "metadata": {},
     "output_type": "execute_result"
    },
    {
     "data": {
      "text/plain": [
       "<Figure size 640x480 with 1 Axes>"
      ],
      "image/png": "[encoded data removed]"
     },
     "metadata": {},
     "output_type": "display_data"
    }
   ],
   "execution_count": 16
  },
  {
   "cell_type": "code",
   "metadata": {
    "ExecuteTime": {
     "end_time": "2024-08-14T02:03:48.183741Z",
     "start_time": "2024-08-14T01:44:31.991337Z"
    }
   },
   "source": "q_env._pubs[0][0].draw(\"mpl\")",
   "outputs": [
    {
     "data": {
      "text/plain": [
       "<Figure size 603.508x117.056 with 1 Axes>"
      ],
      "image/png": "[encoded data removed]"
     },
     "execution_count": 17,
     "metadata": {},
     "output_type": "execute_result"
    }
   ],
   "execution_count": 17
  },
  {
   "cell_type": "code",
   "metadata": {
    "ExecuteTime": {
     "end_time": "2024-08-14T02:03:48.183942Z",
     "start_time": "2024-08-14T01:44:32.401356Z"
    }
   },
   "source": [
    "max_fid_index = np.argmax(ppo_agent.training_results[\"fidelity_history\"])\n",
    "np.cumsum(ppo_agent.training_results[\"hardware_runtime\"], dtype=float)[max_fid_index]"
   ],
   "outputs": [
    {
     "data": {
      "text/plain": [
       "48.153600000000004"
      ]
     },
     "execution_count": 18,
     "metadata": {},
     "output_type": "execute_result"
    }
   ],
   "execution_count": 18
  },
  {
   "metadata": {
    "ExecuteTime": {
     "end_time": "2024-08-14T02:03:48.184065Z",
     "start_time": "2024-08-14T01:44:32.919155Z"
    }
   },
   "cell_type": "code",
   "source": "ppo_agent.training_results[\"fidelity_history\"][max_fid_index]",
   "outputs": [
    {
     "data": {
      "text/plain": [
       "0.9970876689230734"
      ]
     },
     "execution_count": 19,
     "metadata": {},
     "output_type": "execute_result"
    }
   ],
   "execution_count": 19
  },
  {
   "cell_type": "code",
   "metadata": {
    "ExecuteTime": {
     "end_time": "2024-08-14T02:03:54.573239Z",
     "start_time": "2024-08-14T02:03:54.511993Z"
    }
   },
   "source": [
    "n_reps = q_env.unwrapped.n_reps\n",
    "plt.plot(q_env.fidelity_history, label=\"Avg fidelity\")\n",
    "plt.plot(q_env.avg_fidelity_history_nreps, label=\" Avg fidelity_nreps\")\n",
    "plt.plot(q_env.circuit_fidelity_history, label=\"Circuit fidelity\")\n",
    "plt.plot(q_env.circuit_fidelity_history_nreps, label=\"Circuit fidelity_nreps\")\n",
    "plt.legend()"
   ],
   "outputs": [
    {
     "data": {
      "text/plain": [
       "<matplotlib.legend.Legend at 0x3b041bd10>"
      ]
     },
     "execution_count": 30,
     "metadata": {},
     "output_type": "execute_result"
    },
    {
     "data": {
      "text/plain": [
       "<Figure size 640x480 with 1 Axes>"
      ],
      "image/png": "[encoded data removed]"
     },
     "metadata": {},
     "output_type": "display_data"
    }
   ],
   "execution_count": 30
  },
  {
   "metadata": {
    "ExecuteTime": {
     "end_time": "2024-08-14T02:03:58.049820Z",
     "start_time": "2024-08-14T02:03:58.000797Z"
    }
   },
   "cell_type": "code",
   "source": "plt.plot(np.mean(q_env.unwrapped.reward_history, axis=1))",
   "outputs": [
    {
     "data": {
      "text/plain": [
       "[<matplotlib.lines.Line2D at 0x3af7b6e90>]"
      ]
     },
     "execution_count": 31,
     "metadata": {},
     "output_type": "execute_result"
    },
    {
     "data": {
      "text/plain": [
       "<Figure size 640x480 with 1 Axes>"
      ],
      "image/png": "[encoded data removed]"
     },
     "metadata": {},
     "output_type": "display_data"
    }
   ],
   "execution_count": 31
  },
  {
   "cell_type": "code",
   "metadata": {
    "ExecuteTime": {
     "end_time": "2024-08-14T02:03:58.129941Z",
     "start_time": "2024-08-14T02:03:58.127034Z"
    }
   },
   "source": "ppo_agent.training_results[\"best_action_vector\"]",
   "outputs": [
    {
     "data": {
      "text/plain": [
       "array([-0.4935522], dtype=float32)"
      ]
     },
     "execution_count": 32,
     "metadata": {},
     "output_type": "execute_result"
    }
   ],
   "execution_count": 32
  },
  {
   "cell_type": "code",
   "metadata": {
    "ExecuteTime": {
     "end_time": "2024-08-13T06:22:16.407407Z",
     "start_time": "2024-08-13T06:22:16.405150Z"
    }
   },
   "source": [
    "save_fig_file_name = \"plot_measurement_error_phi-0.05_gamma-0.025.pdf\""
   ],
   "outputs": [],
   "execution_count": 23
  },
  {
   "cell_type": "code",
   "metadata": {
    "ExecuteTime": {
     "end_time": "2024-08-13T06:22:16.477311Z",
     "start_time": "2024-08-13T06:22:16.408352Z"
    }
   },
   "source": [
    "def transform_scale(data):\n",
    "    return np.log10(1 - np.array(data))\n",
    "\n",
    "\n",
    "# Load data from all files\n",
    "baseline_fidelity = q_env.get_baseline_fid_from_phi_gamma()\n",
    "\n",
    "# Create a figure and axis for plotting\n",
    "fig, ax = plt.subplots(figsize=(12, 8))\n",
    "\n",
    "# Plot the best seed with distinct color and solid line\n",
    "# ax.plot(transform_scale(training_results[\"avg_reward\"]), label='reward') #, color='blue')\n",
    "ax.plot(\n",
    "    transform_scale(ppo_agent.training_results[\"fidelity_history\"]), label=\"fidelity\"\n",
    ")  # , color='red')\n",
    "ax.plot(ppo_agent.training_results[\"fidelity_history\"], label=\"fidelity\")\n",
    "# ax.plot(\n",
    "#     transform_scale(training_results[\"fidelity_history_nreps\"]), label=\"fidelity_nreps\"\n",
    "# )\n",
    "ax.plot(\n",
    "    transform_scale(np.array(ppo_agent.training_results[\"fidelity_history\"]) ** n_reps),\n",
    "    label=\"fidelity**n_reps\",\n",
    ")\n",
    "max_fidelity = max(ppo_agent.training_results[\"fidelity_history\"])\n",
    "max_fidelity_index = ppo_agent.training_results[\"fidelity_history\"].index(max_fidelity)\n",
    "\n",
    "plt.axhline(\n",
    "    y=transform_scale(baseline_fidelity),\n",
    "    color=\"r\",\n",
    "    linestyle=\"--\",\n",
    "    label=\"baseline fidelity\",\n",
    ")\n",
    "\n",
    "# Deactivate the top and right spines\n",
    "ax.spines[\"top\"].set_visible(False)\n",
    "ax.spines[\"right\"].set_visible(False)\n",
    "\n",
    "# Add labels and a legend\n",
    "ax.set_xlabel(\"Policy Updates\", fontsize=18)\n",
    "# Customize the ticks\n",
    "y_ticks = [0.99, 0.999, 0.9999, 0.99999, 0.999999]  # Manually specifying the ticks\n",
    "ax.set_yticks(transform_scale(y_ticks))\n",
    "ax.set_yticklabels(y_ticks)\n",
    "\n",
    "# Set the y-tick labels to the original y-tick values\n",
    "ax.set_yticklabels([f\"{ytick:.5f}\" for ytick in y_ticks])\n",
    "\n",
    "# Transform the y-axis data\n",
    "ax.set_ylim(transform_scale(0.99), transform_scale(0.999999))\n",
    "\n",
    "ax.legend(frameon=False, fontsize=18)\n",
    "ax.tick_params(axis=\"both\", which=\"minor\", labelsize=12)\n",
    "ax.tick_params(axis=\"both\", which=\"major\", labelsize=14)\n",
    "\n",
    "# Calculate the cumulative hardware runtime up to the max fidelity index\n",
    "cumulative_hardware_runtime = sum(\n",
    "    ppo_agent.training_results[\"hardware_runtime\"][: max_fidelity_index + 1]\n",
    ")\n",
    "\n",
    "# Add the maximum fidelity value and hardware runtime as text on the plot\n",
    "text_str = f\"Max Fidelity: {max_fidelity:.6f}\\nHardware Runtime: {cumulative_hardware_runtime:.2f}s\\n Update Step: {max_fidelity_index + 1}\"\n",
    "# ax.text(0.35, 0.1, text_str, transform=ax.transAxes, fontsize=16,\n",
    "#         verticalalignment='center_baseline', horizontalalignment='center',\n",
    "#         bbox=dict(boxstyle='round,pad=0.3', edgecolor='black', facecolor='white'))\n",
    "\n",
    "# Show the plot\n",
    "# plt.savefig(save_fig_file_name, format=\"pdf\", bbox_inches=\"tight\")\n",
    "plt.show()"
   ],
   "outputs": [
    {
     "data": {
      "text/plain": [
       "<Figure size 1200x800 with 1 Axes>"
      ],
      "image/png": "[encoded data removed]"
     },
     "metadata": {},
     "output_type": "display_data"
    }
   ],
   "execution_count": 24
  },
  {
   "cell_type": "code",
   "metadata": {
    "ExecuteTime": {
     "end_time": "2024-08-13T06:22:16.483180Z",
     "start_time": "2024-08-13T06:22:16.478230Z"
    }
   },
   "source": [
    "from qiskit import QuantumCircuit, transpile\n",
    "from qiskit.transpiler import CouplingMap\n",
    "from qiskit_aer import AerSimulator\n",
    "from qiskit_aer.noise import NoiseModel, ReadoutError, reset_error\n",
    "\n",
    "n_qubits = 2\n",
    "\n",
    "circ = QuantumCircuit(n_qubits)\n",
    "circ.x(0)\n",
    "circ.measure_all()\n",
    "\n",
    "noise_model = NoiseModel()\n",
    "noise_model.add_all_qubit_quantum_error(reset_error(0.01), \"reset\")\n",
    "\n",
    "readout_assignment_error = 1.310e-2  # Taken from IBMQ Sherbrooke (median readout assignment error)\n",
    "# readout_error_matrix = get_readout_error_matrix(n_qubits=1, readout_assignment_error=readout_assignment_error)\n",
    "readout_error_matrix = ReadoutError(\n",
    "    [\n",
    "        [1 - readout_assignment_error, readout_assignment_error],\n",
    "        [readout_assignment_error, 1 - readout_assignment_error],\n",
    "    ]\n",
    ")\n",
    "noise_model.add_all_qubit_readout_error(readout_error_matrix, \"measure\")\n",
    "\n",
    "backend = AerSimulator(noise_model=noise_model, coupling_map=CouplingMap.from_full(n_qubits))"
   ],
   "outputs": [],
   "execution_count": 25
  },
  {
   "cell_type": "code",
   "metadata": {
    "ExecuteTime": {
     "end_time": "2024-08-13T06:22:16.502916Z",
     "start_time": "2024-08-13T06:22:16.483903Z"
    }
   },
   "source": [
    "circ_transpiled = transpile(circ, backend, optimization_level=0)"
   ],
   "outputs": [],
   "execution_count": 26
  },
  {
   "cell_type": "code",
   "metadata": {
    "ExecuteTime": {
     "end_time": "2024-08-13T06:22:16.519062Z",
     "start_time": "2024-08-13T06:22:16.506163Z"
    }
   },
   "source": "q_env.mean_action",
   "outputs": [
    {
     "data": {
      "text/plain": [
       "array([1.0884902], dtype=float32)"
      ]
     },
     "execution_count": 27,
     "metadata": {},
     "output_type": "execute_result"
    }
   ],
   "execution_count": 27
  },
  {
   "metadata": {
    "ExecuteTime": {
     "end_time": "2024-08-14T02:04:54.606322Z",
     "start_time": "2024-08-14T02:04:54.595833Z"
    }
   },
   "cell_type": "code",
   "source": "ppo_agent.actions",
   "outputs": [
    {
     "ename": "NameError",
     "evalue": "name 'ppo_agent' is not defined",
     "output_type": "error",
     "traceback": [
      "\u001b[0;31m---------------------------------------------------------------------------\u001b[0m",
      "\u001b[0;31mNameError\u001b[0m                                 Traceback (most recent call last)",
      "Cell \u001b[0;32mIn[2], line 1\u001b[0m\n\u001b[0;32m----> 1\u001b[0m ppo_agent\u001b[38;5;241m.\u001b[39mactions\n",
      "\u001b[0;31mNameError\u001b[0m: name 'ppo_agent' is not defined"
     ]
    }
   ],
   "execution_count": 2
  },
  {
   "metadata": {
    "ExecuteTime": {
     "end_time": "2024-08-13T06:23:09.273479Z",
     "start_time": "2024-08-13T06:23:09.235242Z"
    }
   },
   "cell_type": "code",
   "source": [
    "from qiskit import QuantumCircuit\n",
    "\n",
    "qc = QuantumCircuit(1)\n",
    "qc.rx(phi, 0)\n",
    "qc.rx(gamma * phi, 0)\n",
    "qc.rx(np.pi + q_env.mean_action[0], 0)\n",
    "Operator(qc).draw(\"latex\")"
   ],
   "outputs": [
    {
     "data": {
      "text/plain": [
       "<IPython.core.display.Latex object>"
      ],
      "text/latex": "$$\n\n\\begin{bmatrix}\n- \\frac{2^{\\frac{152}{241}} \\cdot 3^{\\frac{488}{723}} \\cdot 5^{\\frac{162}{241}} \\cdot 7^{\\frac{78}{241}}}{18} & - 0.0055335623 i  \\\\\n - 0.0055335623 i & - \\frac{2^{\\frac{152}{241}} \\cdot 3^{\\frac{488}{723}} \\cdot 5^{\\frac{162}{241}} \\cdot 7^{\\frac{78}{241}}}{18}  \\\\\n \\end{bmatrix}\n$$"
     },
     "execution_count": 42,
     "metadata": {},
     "output_type": "execute_result"
    }
   ],
   "execution_count": 42
  },
  {
   "metadata": {
    "ExecuteTime": {
     "end_time": "2024-08-13T06:23:10.122002Z",
     "start_time": "2024-08-13T06:23:10.110900Z"
    }
   },
   "cell_type": "code",
   "source": "q_env.target.target_operator.draw(\"latex\")",
   "outputs": [
    {
     "data": {
      "text/plain": [
       "<IPython.core.display.Latex object>"
      ],
      "text/latex": "$$\n\n\\begin{bmatrix}\n- \\frac{\\sqrt{2} i}{2} & \\frac{\\sqrt{2}}{2}  \\\\\n \\frac{\\sqrt{2}}{2} & - \\frac{\\sqrt{2} i}{2}  \\\\\n \\end{bmatrix}\n$$"
     },
     "execution_count": 43,
     "metadata": {},
     "output_type": "execute_result"
    }
   ],
   "execution_count": 43
  },
  {
   "metadata": {
    "ExecuteTime": {
     "end_time": "2024-08-13T06:23:15.870548Z",
     "start_time": "2024-08-13T06:23:15.867814Z"
    }
   },
   "cell_type": "code",
   "source": "q_env.target.Chi",
   "outputs": [
    {
     "data": {
      "text/plain": [
       "array([ 1.00000000e+00,  0.00000000e+00,  0.00000000e+00,  1.01465364e-17,\n",
       "        0.00000000e+00,  1.00000000e+00,  0.00000000e+00,  0.00000000e+00,\n",
       "        1.01465364e-17,  0.00000000e+00, -1.79380389e-16,  1.00000000e+00,\n",
       "        0.00000000e+00,  0.00000000e+00, -1.00000000e+00, -1.89526925e-16])"
      ]
     },
     "execution_count": 44,
     "metadata": {},
     "output_type": "execute_result"
    }
   ],
   "execution_count": 44
  },
  {
   "metadata": {
    "ExecuteTime": {
     "end_time": "2024-08-13T06:23:16.280325Z",
     "start_time": "2024-08-13T06:23:16.243588Z"
    }
   },
   "cell_type": "code",
   "source": "q_env.target.target_circuit.decompose().draw(\"mpl\")",
   "outputs": [
    {
     "data": {
      "text/plain": [
       "<Figure size 375.117x117.056 with 1 Axes>"
      ],
      "image/png": "[encoded data removed]"
     },
     "execution_count": 45,
     "metadata": {},
     "output_type": "execute_result"
    }
   ],
   "execution_count": 45
  },
  {
   "metadata": {
    "ExecuteTime": {
     "end_time": "2024-08-13T06:23:17.414698Z",
     "start_time": "2024-08-13T06:23:17.411369Z"
    }
   },
   "cell_type": "code",
   "source": [
    "from qiskit.quantum_info import Operator, average_gate_fidelity\n",
    "\n",
    "average_gate_fidelity(Operator(qc), q_env.target.target_operator)"
   ],
   "outputs": [
    {
     "data": {
      "text/plain": [
       "0.6703556517029039"
      ]
     },
     "execution_count": 46,
     "metadata": {},
     "output_type": "execute_result"
    }
   ],
   "execution_count": 46
  },
  {
   "metadata": {
    "ExecuteTime": {
     "end_time": "2024-08-13T06:23:20.664279Z",
     "start_time": "2024-08-13T06:23:20.661747Z"
    }
   },
   "cell_type": "code",
   "source": "q_env.fidelity_history[-1]",
   "outputs": [
    {
     "data": {
      "text/plain": [
       "0.6703556517029039"
      ]
     },
     "execution_count": 47,
     "metadata": {},
     "output_type": "execute_result"
    }
   ],
   "execution_count": 47
  },
  {
   "metadata": {
    "ExecuteTime": {
     "end_time": "2024-08-13T06:22:16.638337Z",
     "start_time": "2024-08-13T06:22:16.635595Z"
    }
   },
   "cell_type": "code",
   "source": "q_env.mean_action / np.pi",
   "outputs": [
    {
     "data": {
      "text/plain": [
       "array([0.3464772], dtype=float32)"
      ]
     },
     "execution_count": 35,
     "metadata": {},
     "output_type": "execute_result"
    }
   ],
   "execution_count": 35
  },
  {
   "metadata": {
    "ExecuteTime": {
     "end_time": "2024-08-13T06:22:16.644017Z",
     "start_time": "2024-08-13T06:22:16.639632Z"
    }
   },
   "cell_type": "code",
   "source": "ppo_agent.actions[-1]",
   "outputs": [
    {
     "data": {
      "text/plain": [
       "tensor([[0.3547],\n",
       "        [0.3500],\n",
       "        [0.3356],\n",
       "        [0.3458],\n",
       "        [0.3447],\n",
       "        [0.3361],\n",
       "        [0.3560],\n",
       "        [0.3538],\n",
       "        [0.3251],\n",
       "        [0.3362],\n",
       "        [0.3422],\n",
       "        [0.3412],\n",
       "        [0.3457],\n",
       "        [0.3550],\n",
       "        [0.3484],\n",
       "        [0.3451],\n",
       "        [0.3460],\n",
       "        [0.3399],\n",
       "        [0.3436],\n",
       "        [0.3372],\n",
       "        [0.3384],\n",
       "        [0.3497],\n",
       "        [0.3355],\n",
       "        [0.3370],\n",
       "        [0.3510],\n",
       "        [0.3410],\n",
       "        [0.3448],\n",
       "        [0.3564],\n",
       "        [0.3467],\n",
       "        [0.3503],\n",
       "        [0.3515],\n",
       "        [0.3453]])"
      ]
     },
     "execution_count": 36,
     "metadata": {},
     "output_type": "execute_result"
    }
   ],
   "execution_count": 36
  },
  {
   "metadata": {
    "ExecuteTime": {
     "end_time": "2024-08-13T06:22:16.646842Z",
     "start_time": "2024-08-13T06:22:16.645131Z"
    }
   },
   "cell_type": "code",
   "source": "",
   "outputs": [],
   "execution_count": 36
  }
 ],
 "metadata": {
  "kernelspec": {
   "display_name": "cqt_env",
   "language": "python",
   "name": "python3"
  },
  "language_info": {
   "codemirror_mode": {
    "name": "ipython",
    "version": 3
   },
   "file_extension": ".py",
   "mimetype": "text/x-python",
   "name": "python",
   "nbconvert_exporter": "python",
   "pygments_lexer": "ipython3",
   "version": "3.11.5"
  }
 },
 "nbformat": 4,
 "nbformat_minor": 2
}

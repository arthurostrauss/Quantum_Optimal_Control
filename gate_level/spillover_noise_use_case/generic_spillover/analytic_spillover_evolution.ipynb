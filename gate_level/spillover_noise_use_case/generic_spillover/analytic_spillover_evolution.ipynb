{
 "cells": [
  {
   "cell_type": "code",
   "id": "initial_id",
   "metadata": {
    "collapsed": true,
    "ExecuteTime": {
     "end_time": "2024-11-13T04:58:58.046914Z",
     "start_time": "2024-11-13T04:58:58.043287Z"
    }
   },
   "source": [
    "import numpy as np\n",
    "from numpy import cos, sin\n",
    "import matplotlib.pyplot as plt\n",
    "from qiskit.quantum_info import (\n",
    "    Statevector,\n",
    "    Operator,\n",
    "    state_fidelity,\n",
    "    average_gate_fidelity,\n",
    "    hellinger_distance,\n",
    ")\n",
    "from qiskit.circuit import QuantumCircuit\n",
    "from qiskit.circuit.library import RXGate, CXGate\n",
    "\n",
    "from pulse_level.qua.QUA_config_two_sc_qubits import alpha\n",
    "\n",
    "i = 1j"
   ],
   "outputs": [],
   "execution_count": 35
  },
  {
   "metadata": {
    "ExecuteTime": {
     "end_time": "2024-11-13T06:43:32.655462Z",
     "start_time": "2024-11-13T06:43:32.651754Z"
    }
   },
   "cell_type": "code",
   "source": [
    "def cycle_circuit(ϕ, γ):\n",
    "    qc = QuantumCircuit(2)\n",
    "    qc.append(RXGate(ϕ), [0])\n",
    "    qc.append(RXGate(γ * ϕ), [1])\n",
    "    qc.append(CXGate(), [0, 1])\n",
    "    return qc\n",
    "\n",
    "\n",
    "def ideal_cycle(ϕ):\n",
    "    qc = QuantumCircuit(2)\n",
    "    qc.append(RXGate(ϕ), [0])\n",
    "    qc.append(CXGate(), [0, 1])\n",
    "    return qc\n",
    "\n",
    "\n",
    "def full_circuit(ϕ, γ, n, initial_state=Statevector.from_int(0, dims=(2, 2))):\n",
    "    qc = QuantumCircuit(2)\n",
    "    qc.prepare_state(initial_state)\n",
    "    for _ in range(n):\n",
    "        qc.compose(cycle_circuit(ϕ, γ), inplace=True)\n",
    "    return qc\n",
    "\n",
    "\n",
    "def ideal_full_circuit(ϕ, n, initial_state=Statevector.from_int(0, dims=(2, 2))):\n",
    "    qc = QuantumCircuit(2)\n",
    "    qc.prepare_state(initial_state)\n",
    "    for _ in range(n):\n",
    "        qc.compose(ideal_cycle(ϕ), inplace=True)\n",
    "    return qc"
   ],
   "id": "38b448f5355ab67",
   "outputs": [],
   "execution_count": 112
  },
  {
   "metadata": {
    "ExecuteTime": {
     "end_time": "2024-11-13T06:47:16.195684Z",
     "start_time": "2024-11-13T06:47:16.189051Z"
    }
   },
   "cell_type": "code",
   "source": [
    "def alpha_prime(α, β, τ, δ, ϕ, γ):\n",
    "    return (\n",
    "        α * cos(ϕ / 2) * cos(γ * ϕ / 2)\n",
    "        - i * β * cos(ϕ / 2) * sin(γ * ϕ / 2)\n",
    "        - i * τ * sin(ϕ / 2) * cos(γ * ϕ / 2)\n",
    "        - δ * sin(ϕ / 2) * sin(γ * ϕ / 2)\n",
    "    )\n",
    "\n",
    "\n",
    "def beta_prime(α, β, τ, δ, ϕ, γ):\n",
    "    return (\n",
    "        -i * α * sin(γ * ϕ / 2) * cos(ϕ / 2)\n",
    "        + β * cos(γ * ϕ / 2) * cos(ϕ / 2)\n",
    "        - τ * sin(γ * ϕ / 2) * sin(ϕ / 2)\n",
    "        - i * δ * cos(γ * ϕ / 2) * sin(ϕ / 2)\n",
    "    )\n",
    "\n",
    "\n",
    "def tau_prime(α, β, τ, δ, ϕ, γ):\n",
    "    return (\n",
    "        -α * sin(ϕ / 2) * sin(γ * ϕ / 2)\n",
    "        - i * β * sin(ϕ / 2) * cos(γ * ϕ / 2)\n",
    "        - i * τ * sin(γ * ϕ / 2) * cos(ϕ / 2)\n",
    "        + δ * cos(ϕ / 2) * cos(γ * ϕ / 2)\n",
    "    )\n",
    "\n",
    "\n",
    "def delta_prime(α, β, τ, δ, ϕ, γ):\n",
    "    return (\n",
    "        -i * α * sin(ϕ / 2) * cos(γ * ϕ / 2)\n",
    "        - β * sin(ϕ / 2) * sin(γ * ϕ / 2)\n",
    "        + τ * cos(ϕ / 2) * cos(γ * ϕ / 2)\n",
    "        - i * δ * sin(γ * ϕ / 2) * cos(ϕ / 2)\n",
    "    )\n",
    "\n",
    "\n",
    "def new_state(α, β, τ, δ, ϕ, γ):\n",
    "    return (\n",
    "        alpha_prime(α, β, τ, δ, ϕ, γ),\n",
    "        beta_prime(α, β, τ, δ, ϕ, γ),\n",
    "        tau_prime(α, β, τ, δ, ϕ, γ),\n",
    "        delta_prime(α, β, τ, δ, ϕ, γ),\n",
    "    )\n",
    "\n",
    "\n",
    "def analytic_spillover(α, β, τ, δ, ϕ, γ, n):\n",
    "    for _ in range(n):\n",
    "        α, β, τ, δ = new_state(α, β, τ, δ, ϕ, γ)\n",
    "\n",
    "    final_state = Statevector([α, β, τ, δ], dims=(2, 2)).reverse_qargs()\n",
    "    assert (\n",
    "        final_state.is_valid()\n",
    "    ), f\"Final state is not valid: norm {np.linalg.norm(final_state.data)}\"\n",
    "    return Statevector([α, β, τ, δ], dims=(2, 2)).reverse_qargs()\n",
    "\n",
    "\n",
    "def symbolic_spillover(α, β, τ, δ, ϕ, γ, n):\n",
    "    for _ in range(n):\n",
    "        α, β, τ, δ = new_state(α, β, τ, δ, ϕ, γ)\n",
    "\n",
    "    return α, β, τ, δ"
   ],
   "id": "3a2d7755a95ef5d8",
   "outputs": [],
   "execution_count": 122
  },
  {
   "metadata": {
    "ExecuteTime": {
     "end_time": "2024-11-13T06:43:39.759448Z",
     "start_time": "2024-11-13T06:43:39.757361Z"
    }
   },
   "cell_type": "code",
   "source": [
    "# Define the number of cycles\n",
    "n = 4\n",
    "\n",
    "# Define the cycle circuit parameters\n",
    "ϕ = np.pi / 2\n",
    "γ = 0.1\n",
    "\n",
    "# Define the initial state\n",
    "α = 1.0\n",
    "β = 0.0\n",
    "τ = 0.0\n",
    "δ = 0.0\n",
    "\n",
    "statevector = Statevector([α, β, τ, δ], dims=(2, 2))\n",
    "assert statevector.is_valid()\n",
    "print(statevector)"
   ],
   "id": "4b43356a951a2691",
   "outputs": [
    {
     "name": "stdout",
     "output_type": "stream",
     "text": [
      "Statevector([1.+0.j, 0.+0.j, 0.+0.j, 0.+0.j],\n",
      "            dims=(2, 2))\n"
     ]
    }
   ],
   "execution_count": 118
  },
  {
   "metadata": {
    "ExecuteTime": {
     "end_time": "2024-11-13T06:58:08.166501Z",
     "start_time": "2024-11-13T06:58:08.158117Z"
    }
   },
   "cell_type": "code",
   "source": [
    "from qiskit.circuit import Parameter\n",
    "\n",
    "α_p = Parameter(\"α\")\n",
    "β_p = Parameter(\"β\")\n",
    "τ_p = Parameter(\"τ\")\n",
    "δ_p = Parameter(\"δ\")\n",
    "ϕ_p = Parameter(\"ϕ\")\n",
    "γ_p = Parameter(\"γ\")\n",
    "\n",
    "α_new, β_new, τ_new, δ_new = symbolic_spillover(α_p, β_p, τ_p, δ_p, ϕ_p, γ_p, n)"
   ],
   "id": "d1ec284a1d61779d",
   "outputs": [],
   "execution_count": 132
  },
  {
   "metadata": {
    "ExecuteTime": {
     "end_time": "2024-11-13T08:26:38.007364Z",
     "start_time": "2024-11-13T08:26:36.245994Z"
    }
   },
   "cell_type": "code",
   "source": [
    "from sympy import latex, sympify\n",
    "\n",
    "print(\n",
    "    α_new.bind(parameter_values={α_p: α, β_p: β, τ_p: τ, δ_p: δ}).sympify().simplify()\n",
    ")\n",
    "print(\n",
    "    β_new.bind(parameter_values={α_p: α, β_p: β, τ_p: τ, δ_p: δ}).sympify().simplify()\n",
    ")\n",
    "print(\n",
    "    τ_new.bind(parameter_values={α_p: α, β_p: β, τ_p: τ, δ_p: δ}).sympify().simplify()\n",
    ")\n",
    "print(\n",
    "    δ_new.bind(parameter_values={α_p: α, β_p: β, τ_p: τ, δ_p: δ}).sympify().simplify()\n",
    ")"
   ],
   "id": "26e7fdcd11ffeca7",
   "outputs": [
    {
     "name": "stdout",
     "output_type": "stream",
     "text": [
      "{ϕ, γ}\n",
      "0.5*sin(ϕ)**2*sin(γ*ϕ)**2 + 24.0*sin((1/2)*ϕ)**2*sin((1/2)*γ*ϕ)**2 - 24.0*sin((1/2)*ϕ)**2*sin((1/2)*γ*ϕ)**4 - 24.0*sin((1/2)*ϕ)**4*sin((1/2)*γ*ϕ)**2 + 24.0*sin((1/2)*ϕ)**4*sin((1/2)*γ*ϕ)**4 + (-0.0 - 4.0*I)*sin((1/2)*γ*ϕ)*cos((1/2)*γ*ϕ) + (0.0 + 8.0*I)*sin((1/2)*γ*ϕ)**3*cos((1/2)*γ*ϕ) + (0.0 + 16.0*I)*sin((1/2)*ϕ)**2*sin((1/2)*γ*ϕ)*cos((1/2)*γ*ϕ) + (-0.0 - 32.0*I)*sin((1/2)*ϕ)**2*sin((1/2)*γ*ϕ)**3*cos((1/2)*γ*ϕ) + (-0.0 - 16.0*I)*sin((1/2)*ϕ)**4*sin((1/2)*γ*ϕ)*cos((1/2)*γ*ϕ) + (0.0 + 32.0*I)*sin((1/2)*ϕ)**4*sin((1/2)*γ*ϕ)**3*cos((1/2)*γ*ϕ) - 1.0*sin(ϕ)**2\n",
      "cos(ϕ)*sin((1/2)*ϕ)*cos((1/2)*ϕ)*(0.0 - 2.0*I - 4.0*sin(γ*ϕ)*cos(γ*ϕ) + (0.0 + 4.0*I)*sin(γ*ϕ)**2)\n",
      "cos(ϕ)*sin((1/2)*ϕ)*cos((1/2)*ϕ)*(0.0 - 2.0*I - 4.0*sin(γ*ϕ)*cos(γ*ϕ) + (0.0 + 4.0*I)*sin(γ*ϕ)**2)\n"
     ]
    }
   ],
   "execution_count": 167
  },
  {
   "metadata": {
    "ExecuteTime": {
     "end_time": "2024-11-13T08:25:25.657197Z",
     "start_time": "2024-11-13T08:25:25.130666Z"
    }
   },
   "cell_type": "code",
   "source": [
    "print(\n",
    "    latex(\n",
    "        sympify(\n",
    "            α_new.bind(parameter_values={α_p: α, β_p: β, τ_p: τ, δ_p: δ})\n",
    "            .sympify()\n",
    "            .simplify()\n",
    "        ),\n",
    "        symbol_names={\n",
    "            \"α\": r\"\\alpha\",\n",
    "            \"β\": r\"\\beta\",\n",
    "            \"τ\": r\"\\tau\",\n",
    "            \"δ\": r\"\\delta\",\n",
    "            \"γ\": r\"\\gamma\",\n",
    "            \"ϕ\": r\"\\phi\",\n",
    "        },\n",
    "    )\n",
    ")"
   ],
   "id": "eee6853e89f2565a",
   "outputs": [
    {
     "name": "stdout",
     "output_type": "stream",
     "text": [
      "1.0 \\sin^{4}{\\left(\\frac{ϕ}{2} \\right)} \\sin^{4}{\\left(\\frac{γ ϕ}{2} \\right)} + 1.0 \\sin^{4}{\\left(\\frac{ϕ}{2} \\right)} \\cos^{4}{\\left(\\frac{γ ϕ}{2} \\right)} - 16.0 i \\sin^{2}{\\left(\\frac{ϕ}{2} \\right)} \\sin^{3}{\\left(\\frac{γ ϕ}{2} \\right)} \\cos^{2}{\\left(\\frac{ϕ}{2} \\right)} \\cos{\\left(\\frac{γ ϕ}{2} \\right)} + 12.0 \\sin^{2}{\\left(\\frac{ϕ}{2} \\right)} \\sin^{2}{\\left(\\frac{γ ϕ}{2} \\right)} \\cos^{2}{\\left(\\frac{ϕ}{2} \\right)} \\cos^{2}{\\left(\\frac{γ ϕ}{2} \\right)} + 16.0 i \\sin^{2}{\\left(\\frac{ϕ}{2} \\right)} \\sin{\\left(\\frac{γ ϕ}{2} \\right)} \\cos^{2}{\\left(\\frac{ϕ}{2} \\right)} \\cos^{3}{\\left(\\frac{γ ϕ}{2} \\right)} + 1.0 \\sin^{4}{\\left(\\frac{γ ϕ}{2} \\right)} \\cos^{4}{\\left(\\frac{ϕ}{2} \\right)} + 1.0 \\cos^{4}{\\left(\\frac{ϕ}{2} \\right)} \\cos^{4}{\\left(\\frac{γ ϕ}{2} \\right)} + 0.375 \\cos^{2}{\\left(ϕ \\right)} \\cos{\\left(2 γ ϕ \\right)} - 0.375 \\cos^{2}{\\left(ϕ \\right)} + 0.125 \\cos{\\left(2 ϕ \\right)} \\cos^{2}{\\left(γ ϕ \\right)} + 0.125 \\cos{\\left(2 ϕ \\right)} - 0.125 \\cos^{2}{\\left(γ ϕ \\right)} + 0.375 \\cos{\\left(2 γ ϕ \\right)} - 0.5\n"
     ]
    }
   ],
   "execution_count": 165
  },
  {
   "metadata": {
    "ExecuteTime": {
     "end_time": "2024-11-13T08:06:16.649969Z",
     "start_time": "2024-11-13T08:06:16.647305Z"
    }
   },
   "cell_type": "code",
   "source": [
    "α_new.bind(parameter_values={α_p: α, β_p: β, τ_p: τ, δ_p: δ}).sympify()"
   ],
   "id": "3c9c3a872b2f8743",
   "outputs": [
    {
     "data": {
      "text/plain": [
       "(-0.0 - 1.0*I)*sin((1/2)*ϕ)*(-sin((1/2)*ϕ)*((-1.0 + 0.0*I)*cos((1/2)*ϕ)**2*sin((1/2)*γ*ϕ)**2 + 1.0*cos((1/2)*ϕ)**2*cos((1/2)*γ*ϕ)**2 + (0.0 + 2.0*I)*sin((1/2)*ϕ)**2*sin((1/2)*γ*ϕ)*cos((1/2)*γ*ϕ))*sin((1/2)*γ*ϕ) + (-0.0 - 1.0*I)*sin((1/2)*ϕ)*(1.0*sin((1/2)*ϕ)**2*sin((1/2)*γ*ϕ)**2 + (-1.0 + 0.0*I)*sin((1/2)*ϕ)**2*cos((1/2)*γ*ϕ)**2 + (-0.0 - 2.0*I)*cos((1/2)*ϕ)**2*sin((1/2)*γ*ϕ)*cos((1/2)*γ*ϕ))*cos((1/2)*γ*ϕ) + (-0.0 - 1.0*I)*cos((1/2)*ϕ)*((0.0 + 1.0*I)*sin((1/2)*ϕ)*cos((1/2)*ϕ)*sin((1/2)*γ*ϕ)**2 + (-0.0 - 1.0*I)*sin((1/2)*ϕ)*cos((1/2)*ϕ)*cos((1/2)*γ*ϕ)**2 + (-2.0 + 0.0*I)*sin((1/2)*ϕ)*cos((1/2)*ϕ)*sin((1/2)*γ*ϕ)*cos((1/2)*γ*ϕ))*sin((1/2)*γ*ϕ) + cos((1/2)*ϕ)*((0.0 + 1.0*I)*sin((1/2)*ϕ)*cos((1/2)*ϕ)*sin((1/2)*γ*ϕ)**2 + (-0.0 - 1.0*I)*sin((1/2)*ϕ)*cos((1/2)*ϕ)*cos((1/2)*γ*ϕ)**2 + (-2.0 + 0.0*I)*sin((1/2)*ϕ)*cos((1/2)*ϕ)*sin((1/2)*γ*ϕ)*cos((1/2)*γ*ϕ))*cos((1/2)*γ*ϕ))*cos((1/2)*γ*ϕ) - sin((1/2)*ϕ)*((-0.0 - 1.0*I)*sin((1/2)*ϕ)*((-1.0 + 0.0*I)*cos((1/2)*ϕ)**2*sin((1/2)*γ*ϕ)**2 + 1.0*cos((1/2)*ϕ)**2*cos((1/2)*γ*ϕ)**2 + (0.0 + 2.0*I)*sin((1/2)*ϕ)**2*sin((1/2)*γ*ϕ)*cos((1/2)*γ*ϕ))*cos((1/2)*γ*ϕ) - sin((1/2)*ϕ)*(1.0*sin((1/2)*ϕ)**2*sin((1/2)*γ*ϕ)**2 + (-1.0 + 0.0*I)*sin((1/2)*ϕ)**2*cos((1/2)*γ*ϕ)**2 + (-0.0 - 2.0*I)*cos((1/2)*ϕ)**2*sin((1/2)*γ*ϕ)*cos((1/2)*γ*ϕ))*sin((1/2)*γ*ϕ) + (-0.0 - 1.0*I)*cos((1/2)*ϕ)*((0.0 + 1.0*I)*sin((1/2)*ϕ)*cos((1/2)*ϕ)*sin((1/2)*γ*ϕ)**2 + (-0.0 - 1.0*I)*sin((1/2)*ϕ)*cos((1/2)*ϕ)*cos((1/2)*γ*ϕ)**2 + (-2.0 + 0.0*I)*sin((1/2)*ϕ)*cos((1/2)*ϕ)*sin((1/2)*γ*ϕ)*cos((1/2)*γ*ϕ))*sin((1/2)*γ*ϕ) + cos((1/2)*ϕ)*((0.0 + 1.0*I)*sin((1/2)*ϕ)*cos((1/2)*ϕ)*sin((1/2)*γ*ϕ)**2 + (-0.0 - 1.0*I)*sin((1/2)*ϕ)*cos((1/2)*ϕ)*cos((1/2)*γ*ϕ)**2 + (-2.0 + 0.0*I)*sin((1/2)*ϕ)*cos((1/2)*ϕ)*sin((1/2)*γ*ϕ)*cos((1/2)*γ*ϕ))*cos((1/2)*γ*ϕ))*sin((1/2)*γ*ϕ) + (-0.0 - 1.0*I)*cos((1/2)*ϕ)*(-sin((1/2)*ϕ)*((0.0 + 1.0*I)*sin((1/2)*ϕ)*cos((1/2)*ϕ)*sin((1/2)*γ*ϕ)**2 + (-0.0 - 1.0*I)*sin((1/2)*ϕ)*cos((1/2)*ϕ)*cos((1/2)*γ*ϕ)**2 + (-2.0 + 0.0*I)*sin((1/2)*ϕ)*cos((1/2)*ϕ)*sin((1/2)*γ*ϕ)*cos((1/2)*γ*ϕ))*sin((1/2)*γ*ϕ) + (-0.0 - 1.0*I)*sin((1/2)*ϕ)*((0.0 + 1.0*I)*sin((1/2)*ϕ)*cos((1/2)*ϕ)*sin((1/2)*γ*ϕ)**2 + (-0.0 - 1.0*I)*sin((1/2)*ϕ)*cos((1/2)*ϕ)*cos((1/2)*γ*ϕ)**2 + (-2.0 + 0.0*I)*sin((1/2)*ϕ)*cos((1/2)*ϕ)*sin((1/2)*γ*ϕ)*cos((1/2)*γ*ϕ))*cos((1/2)*γ*ϕ) + (-0.0 - 1.0*I)*cos((1/2)*ϕ)*((-1.0 + 0.0*I)*cos((1/2)*ϕ)**2*sin((1/2)*γ*ϕ)**2 + 1.0*cos((1/2)*ϕ)**2*cos((1/2)*γ*ϕ)**2 + (0.0 + 2.0*I)*sin((1/2)*ϕ)**2*sin((1/2)*γ*ϕ)*cos((1/2)*γ*ϕ))*sin((1/2)*γ*ϕ) + cos((1/2)*ϕ)*(1.0*sin((1/2)*ϕ)**2*sin((1/2)*γ*ϕ)**2 + (-1.0 + 0.0*I)*sin((1/2)*ϕ)**2*cos((1/2)*γ*ϕ)**2 + (-0.0 - 2.0*I)*cos((1/2)*ϕ)**2*sin((1/2)*γ*ϕ)*cos((1/2)*γ*ϕ))*cos((1/2)*γ*ϕ))*sin((1/2)*γ*ϕ) + cos((1/2)*ϕ)*(-sin((1/2)*ϕ)*((0.0 + 1.0*I)*sin((1/2)*ϕ)*cos((1/2)*ϕ)*sin((1/2)*γ*ϕ)**2 + (-0.0 - 1.0*I)*sin((1/2)*ϕ)*cos((1/2)*ϕ)*cos((1/2)*γ*ϕ)**2 + (-2.0 + 0.0*I)*sin((1/2)*ϕ)*cos((1/2)*ϕ)*sin((1/2)*γ*ϕ)*cos((1/2)*γ*ϕ))*sin((1/2)*γ*ϕ) + (-0.0 - 1.0*I)*sin((1/2)*ϕ)*((0.0 + 1.0*I)*sin((1/2)*ϕ)*cos((1/2)*ϕ)*sin((1/2)*γ*ϕ)**2 + (-0.0 - 1.0*I)*sin((1/2)*ϕ)*cos((1/2)*ϕ)*cos((1/2)*γ*ϕ)**2 + (-2.0 + 0.0*I)*sin((1/2)*ϕ)*cos((1/2)*ϕ)*sin((1/2)*γ*ϕ)*cos((1/2)*γ*ϕ))*cos((1/2)*γ*ϕ) + cos((1/2)*ϕ)*((-1.0 + 0.0*I)*cos((1/2)*ϕ)**2*sin((1/2)*γ*ϕ)**2 + 1.0*cos((1/2)*ϕ)**2*cos((1/2)*γ*ϕ)**2 + (0.0 + 2.0*I)*sin((1/2)*ϕ)**2*sin((1/2)*γ*ϕ)*cos((1/2)*γ*ϕ))*cos((1/2)*γ*ϕ) + (-0.0 - 1.0*I)*cos((1/2)*ϕ)*(1.0*sin((1/2)*ϕ)**2*sin((1/2)*γ*ϕ)**2 + (-1.0 + 0.0*I)*sin((1/2)*ϕ)**2*cos((1/2)*γ*ϕ)**2 + (-0.0 - 2.0*I)*cos((1/2)*ϕ)**2*sin((1/2)*γ*ϕ)*cos((1/2)*γ*ϕ))*sin((1/2)*γ*ϕ))*cos((1/2)*γ*ϕ)"
      ]
     },
     "execution_count": 161,
     "metadata": {},
     "output_type": "execute_result"
    }
   ],
   "execution_count": 161
  },
  {
   "metadata": {
    "ExecuteTime": {
     "end_time": "2024-11-13T06:43:40.180525Z",
     "start_time": "2024-11-13T06:43:40.177982Z"
    }
   },
   "cell_type": "code",
   "source": [
    "analytic_state = analytic_spillover(α, β, τ, δ, ϕ, γ, n)\n",
    "analytic_state"
   ],
   "id": "fa519c3ffa2ddde0",
   "outputs": [
    {
     "name": "stdout",
     "output_type": "stream",
     "text": [
      "Statevector([-7.78436740e-17+3.09016994e-01j,\n",
      "             -4.90525266e-17-1.66533454e-16j,\n",
      "             -9.51056516e-01+3.66557454e-18j,\n",
      "             -6.24500451e-17-1.54249446e-16j],\n",
      "            dims=(2, 2))\n"
     ]
    }
   ],
   "execution_count": 119
  },
  {
   "metadata": {
    "ExecuteTime": {
     "end_time": "2024-11-13T06:43:40.435409Z",
     "start_time": "2024-11-13T06:43:40.432631Z"
    }
   },
   "cell_type": "code",
   "source": "circuit_state = Statevector(full_circuit(ϕ, γ, n, statevector))",
   "id": "b6c9431e9998fc38",
   "outputs": [],
   "execution_count": 120
  },
  {
   "metadata": {
    "ExecuteTime": {
     "end_time": "2024-11-13T06:43:40.963939Z",
     "start_time": "2024-11-13T06:43:40.961904Z"
    }
   },
   "cell_type": "code",
   "source": "circuit_state.equiv(analytic_state)",
   "id": "8ce1f2674eac5098",
   "outputs": [
    {
     "data": {
      "text/plain": [
       "True"
      ]
     },
     "execution_count": 121,
     "metadata": {},
     "output_type": "execute_result"
    }
   ],
   "execution_count": 121
  },
  {
   "metadata": {
    "ExecuteTime": {
     "end_time": "2024-11-13T08:08:55.494716Z",
     "start_time": "2024-11-13T08:08:55.366870Z"
    }
   },
   "cell_type": "code",
   "source": [
    "repetitions = np.arange(1, 10)\n",
    "fidelities = []\n",
    "distances = []\n",
    "for n in repetitions:\n",
    "    analytic_state = analytic_spillover(α, β, τ, δ, ϕ, γ, n)\n",
    "    circuit_state = Statevector(full_circuit(ϕ, γ, n, statevector))\n",
    "    ideal_state = Statevector(ideal_full_circuit(ϕ, n, statevector))\n",
    "    fidelities.append(state_fidelity(circuit_state, ideal_state))\n",
    "    distances.append()\n",
    "\n",
    "\n",
    "plt.plot(repetitions, fidelities, \"o\")\n",
    "plt.xlabel(\"Number of cycles\")\n",
    "plt.ylabel(\"State fidelity\")\n",
    "plt.title(\"State fidelity between circuit and ideal state\")"
   ],
   "id": "a99b964068311a00",
   "outputs": [
    {
     "data": {
      "text/plain": [
       "Text(0.5, 1.0, 'State fidelity between circuit and ideal state')"
      ]
     },
     "execution_count": 162,
     "metadata": {},
     "output_type": "execute_result"
    },
    {
     "data": {
      "text/plain": [
       "<Figure size 640x480 with 1 Axes>"
      ],
      "image/png": "[encoded data removed]"
     },
     "metadata": {},
     "output_type": "display_data"
    }
   ],
   "execution_count": 162
  },
  {
   "metadata": {
    "ExecuteTime": {
     "end_time": "2024-11-13T07:40:19.833021Z",
     "start_time": "2024-11-13T07:40:17.321929Z"
    }
   },
   "cell_type": "code",
   "source": [
    "γ_values = np.linspace(0, 0.1, 100)\n",
    "fidelities = []\n",
    "for γ in γ_values:\n",
    "    analytic_state = analytic_spillover(α, β, τ, δ, ϕ, γ, n)\n",
    "    circuit_state = Statevector(full_circuit(ϕ, γ, n, statevector))\n",
    "    ideal_state = Statevector(ideal_full_circuit(ϕ, n, statevector))\n",
    "    fidelities.append(state_fidelity(circuit_state, ideal_state))\n",
    "\n",
    "plt.plot(γ_values, fidelities, \"o-\")\n",
    "plt.xlabel(\"γ\")\n",
    "plt.ylabel(\"State fidelity\")\n",
    "plt.title(\"State fidelity between circuit and ideal state\")"
   ],
   "id": "8dd637fe27f53e7f",
   "outputs": [
    {
     "data": {
      "text/plain": [
       "Text(0.5, 1.0, 'State fidelity between circuit and ideal state')"
      ]
     },
     "execution_count": 145,
     "metadata": {},
     "output_type": "execute_result"
    },
    {
     "data": {
      "text/plain": [
       "<Figure size 640x480 with 1 Axes>"
      ],
      "image/png": "[encoded data removed]"
     },
     "metadata": {},
     "output_type": "display_data"
    }
   ],
   "execution_count": 145
  },
  {
   "metadata": {},
   "cell_type": "code",
   "outputs": [],
   "execution_count": null,
   "source": "",
   "id": "71a7c46350a049c7"
  }
 ],
 "metadata": {
  "kernelspec": {
   "display_name": "Python 3",
   "language": "python",
   "name": "python3"
  },
  "language_info": {
   "codemirror_mode": {
    "name": "ipython",
    "version": 2
   },
   "file_extension": ".py",
   "mimetype": "text/x-python",
   "name": "python",
   "nbconvert_exporter": "python",
   "pygments_lexer": "ipython2",
   "version": "2.7.6"
  }
 },
 "nbformat": 4,
 "nbformat_minor": 5
}

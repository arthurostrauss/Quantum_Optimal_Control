{
 "cells": [
  {
   "cell_type": "code",
   "metadata": {
    "ExecuteTime": {
     "end_time": "2024-11-03T07:31:58.149402Z",
     "start_time": "2024-11-03T07:31:53.266523Z"
    }
   },
   "source": [
    "import numpy as np\n",
    "from qiskit.transpiler import CouplingMap\n",
    "\n",
    "from gate_level.spillover_noise_use_case.generic_spillover.generic_spillover_noise import (\n",
    "    numpy_to_hashable,\n",
    ")\n",
    "from generic_spillover_noise import (\n",
    "    circuit_context,\n",
    "    noisy_backend,\n",
    "    SpilloverNoiseAerPass,\n",
    ")"
   ],
   "outputs": [],
   "execution_count": 1
  },
  {
   "cell_type": "code",
   "metadata": {
    "ExecuteTime": {
     "end_time": "2024-11-03T07:31:58.466978Z",
     "start_time": "2024-11-03T07:31:58.152732Z"
    }
   },
   "source": [
    "# Define the number of qubits\n",
    "num_qubits = 2\n",
    "cm = CouplingMap.from_line(num_qubits, False)\n",
    "cm.draw()"
   ],
   "outputs": [
    {
     "data": {
      "text/plain": [
       "<PIL.PngImagePlugin.PngImageFile image mode=RGBA size=178x73>"
      ],
      "image/png": "[encoded data removed]"
     },
     "execution_count": 2,
     "metadata": {},
     "output_type": "execute_result"
    }
   ],
   "execution_count": 2
  },
  {
   "metadata": {
    "ExecuteTime": {
     "end_time": "2024-11-03T07:31:58.650434Z",
     "start_time": "2024-11-03T07:31:58.498182Z"
    }
   },
   "cell_type": "code",
   "source": [
    "# Define parameters for U(phi) gates\n",
    "# phi_rotation_values = np.pi * np.array([0.25, 0.5, 0.75, 1])\n",
    "# phi_arr = np.random.choice(phi_rotation_values, size=num_qubits)\n",
    "rotation_angles = np.random.uniform(0, 2 * np.pi, size=num_qubits)\n",
    "# gate_types = ['RY', 'RY', 'RX', 'RX', 'RX', 'RY']\n",
    "sq_gates = {0: \"ry\", 1: \"ry\", 2: \"rx\", 3: \"rx\", 4: \"rx\", 5: \"ry\"}  # {qubit: gate_type}\n",
    "sq_gates = {0: \"ry\", 1: \"ry\"}  # {qubit: gate_type}\n",
    "# Create the quantum circuit\n",
    "qc = circuit_context(\n",
    "    num_qubits, list(sq_gates.values()), rotation_angles, coupling_map=cm\n",
    ")\n",
    "\n",
    "# Display the circuit structure\n",
    "qc.draw(\"mpl\")"
   ],
   "outputs": [
    {
     "data": {
      "text/plain": [
       "<Figure size 287.294x200.667 with 1 Axes>"
      ],
      "image/png": "[encoded data removed]"
     },
     "execution_count": 3,
     "metadata": {},
     "output_type": "execute_result"
    }
   ],
   "execution_count": 3
  },
  {
   "metadata": {
    "ExecuteTime": {
     "end_time": "2024-11-03T07:31:58.698042Z",
     "start_time": "2024-11-03T07:31:58.693027Z"
    }
   },
   "cell_type": "code",
   "source": [
    "# Define noise-coupling matrix with gamma values (example values)\n",
    "gamma_matrix = np.zeros((num_qubits, num_qubits))\n",
    "gamma_matrix[0, 1] = 0.025  # γ_0->1\n",
    "# gamma_matrix[0, 3] = 0.025  # γ_0->3\n",
    "# gamma_matrix[1, 2] = 0.025  # γ_1->2\n",
    "# gamma_matrix[2, 3] = 0.025  # γ_2->3\n",
    "# gamma_matrix[3, 2] = 0.025  # γ_3->2\n",
    "# gamma_matrix[4, 3] = 0.025  # γ_4->3\n",
    "# gamma_matrix[5, 4] = 0.025  # γ_5->4\n",
    "\n",
    "gamma_matrix"
   ],
   "outputs": [
    {
     "data": {
      "text/plain": [
       "array([[0.   , 0.025],\n",
       "       [0.   , 0.   ]])"
      ]
     },
     "execution_count": 4,
     "metadata": {},
     "output_type": "execute_result"
    }
   ],
   "execution_count": 4
  },
  {
   "metadata": {
    "ExecuteTime": {
     "end_time": "2024-11-03T07:31:58.904516Z",
     "start_time": "2024-11-03T07:31:58.870551Z"
    }
   },
   "cell_type": "code",
   "source": [
    "from generic_spillover_noise import SpilloverNoiseAerPass, numpy_to_hashable\n",
    "from qiskit.transpiler import PassManager\n",
    "\n",
    "pm = PassManager(\n",
    "    [SpilloverNoiseAerPass(spillover_rate_matrix=numpy_to_hashable(gamma_matrix))]\n",
    ")\n",
    "noisy_qc = pm.run(qc)\n",
    "noisy_qc.draw(\"mpl\")"
   ],
   "outputs": [
    {
     "data": {
      "text/plain": [
       "<Figure size 538.128x200.667 with 1 Axes>"
      ],
      "image/png": "[encoded data removed]"
     },
     "execution_count": 5,
     "metadata": {},
     "output_type": "execute_result"
    }
   ],
   "execution_count": 5
  },
  {
   "metadata": {
    "ExecuteTime": {
     "end_time": "2024-11-03T07:31:59.462382Z",
     "start_time": "2024-11-03T07:31:59.459059Z"
    }
   },
   "cell_type": "code",
   "source": [
    "from qiskit.quantum_info import Statevector\n",
    "\n",
    "Statevector(qc).equiv(Statevector(noisy_qc))"
   ],
   "outputs": [
    {
     "data": {
      "text/plain": [
       "True"
      ]
     },
     "execution_count": 6,
     "metadata": {},
     "output_type": "execute_result"
    }
   ],
   "execution_count": 6
  },
  {
   "metadata": {
    "ExecuteTime": {
     "end_time": "2024-11-03T07:32:00.267192Z",
     "start_time": "2024-11-03T07:31:59.982838Z"
    }
   },
   "cell_type": "code",
   "source": [
    "# Create the noisy backend tailored for spillover noise\n",
    "backend = noisy_backend(qc, gamma_matrix)"
   ],
   "outputs": [
    {
     "ename": "NoiseError",
     "evalue": "'Number of qubits (2) does not match  the error size (1)'",
     "output_type": "error",
     "traceback": [
      "\u001b[0;31m---------------------------------------------------------------------------\u001b[0m",
      "\u001b[0;31mNoiseError\u001b[0m                                Traceback (most recent call last)",
      "Cell \u001b[0;32mIn[7], line 2\u001b[0m\n\u001b[1;32m      1\u001b[0m \u001b[38;5;66;03m# Create the noisy backend tailored for spillover noise\u001b[39;00m\n\u001b[0;32m----> 2\u001b[0m backend \u001b[38;5;241m=\u001b[39m noisy_backend(qc, gamma_matrix)\n",
      "File \u001b[0;32m~/Library/CloudStorage/OneDrive-NationalUniversityofSingapore/Coding_projects/Quantum_Optimal_Control/gate_level/spillover_noise_use_case/generic_spillover/generic_spillover_noise.py:353\u001b[0m, in \u001b[0;36mnoisy_backend\u001b[0;34m(circuit_context, spillover_rate_matrix, coupling_map)\u001b[0m\n\u001b[1;32m    351\u001b[0m pm \u001b[38;5;241m=\u001b[39m PassManager([SpilloverNoiseAerPass(numpy_to_hashable(spillover_rate_matrix))])\n\u001b[1;32m    352\u001b[0m qc \u001b[38;5;241m=\u001b[39m pm\u001b[38;5;241m.\u001b[39mrun(circuit_context)\n\u001b[0;32m--> 353\u001b[0m noise_model \u001b[38;5;241m=\u001b[39m create_spillover_noise_model_from_circuit(\n\u001b[1;32m    354\u001b[0m     qc, rotation_angles, spillover_rate_matrix\n\u001b[1;32m    355\u001b[0m )\n\u001b[1;32m    357\u001b[0m backend \u001b[38;5;241m=\u001b[39m AerSimulator(noise_model\u001b[38;5;241m=\u001b[39mnoise_model, coupling_map\u001b[38;5;241m=\u001b[39mcoupling_map)\n\u001b[1;32m    359\u001b[0m \u001b[38;5;28;01mreturn\u001b[39;00m backend\n",
      "File \u001b[0;32m~/Library/CloudStorage/OneDrive-NationalUniversityofSingapore/Coding_projects/Quantum_Optimal_Control/gate_level/spillover_noise_use_case/generic_spillover/generic_spillover_noise.py:320\u001b[0m, in \u001b[0;36mcreate_spillover_noise_model_from_circuit\u001b[0;34m(qc, rotation_angles, spillover_rate_matrix)\u001b[0m\n\u001b[1;32m    317\u001b[0m             \u001b[38;5;28;01mfor\u001b[39;00m j, op \u001b[38;5;129;01min\u001b[39;00m \u001b[38;5;28menumerate\u001b[39m(filtered_noise_ops):\n\u001b[1;32m    318\u001b[0m                 noise_op \u001b[38;5;241m=\u001b[39m noise_op\u001b[38;5;241m.\u001b[39mcompose(op, qargs\u001b[38;5;241m=\u001b[39m[j])\n\u001b[0;32m--> 320\u001b[0m             noise_model\u001b[38;5;241m.\u001b[39madd_quantum_error(\n\u001b[1;32m    321\u001b[0m                 noise\u001b[38;5;241m.\u001b[39mcoherent_unitary_error(noise_op), [gate\u001b[38;5;241m.\u001b[39mlabel], filtered_noise_qubits\n\u001b[1;32m    322\u001b[0m             )\n\u001b[1;32m    324\u001b[0m \u001b[38;5;28;01mreturn\u001b[39;00m noise_model\n",
      "File \u001b[0;32m~/anaconda3/envs/rl_qoc/lib/python3.11/site-packages/qiskit_aer/noise/noise_model.py:773\u001b[0m, in \u001b[0;36mNoiseModel.add_quantum_error\u001b[0;34m(self, error, instructions, qubits, warnings)\u001b[0m\n\u001b[1;32m    771\u001b[0m \u001b[38;5;66;03m# Convert qubits list to hashable string\u001b[39;00m\n\u001b[1;32m    772\u001b[0m \u001b[38;5;28;01mif\u001b[39;00m error\u001b[38;5;241m.\u001b[39mnum_qubits \u001b[38;5;241m!=\u001b[39m \u001b[38;5;28mlen\u001b[39m(qubits):\n\u001b[0;32m--> 773\u001b[0m     \u001b[38;5;28;01mraise\u001b[39;00m NoiseError(\n\u001b[1;32m    774\u001b[0m         \u001b[38;5;124m\"\u001b[39m\u001b[38;5;124mNumber of qubits (\u001b[39m\u001b[38;5;132;01m{}\u001b[39;00m\u001b[38;5;124m) does not match \u001b[39m\u001b[38;5;124m\"\u001b[39m\n\u001b[1;32m    775\u001b[0m         \u001b[38;5;124m\"\u001b[39m\u001b[38;5;124m the error size (\u001b[39m\u001b[38;5;132;01m{}\u001b[39;00m\u001b[38;5;124m)\u001b[39m\u001b[38;5;124m\"\u001b[39m\u001b[38;5;241m.\u001b[39mformat(\u001b[38;5;28mlen\u001b[39m(qubits), error\u001b[38;5;241m.\u001b[39mnum_qubits)\n\u001b[1;32m    776\u001b[0m     )\n\u001b[1;32m    777\u001b[0m \u001b[38;5;28;01mif\u001b[39;00m qubits \u001b[38;5;129;01min\u001b[39;00m qubit_dict:\n\u001b[1;32m    778\u001b[0m     new_error \u001b[38;5;241m=\u001b[39m qubit_dict[qubits]\u001b[38;5;241m.\u001b[39mcompose(error)\n",
      "\u001b[0;31mNoiseError\u001b[0m: 'Number of qubits (2) does not match  the error size (1)'"
     ]
    }
   ],
   "execution_count": 7
  },
  {
   "metadata": {
    "ExecuteTime": {
     "end_time": "2024-11-03T07:26:45.828683Z",
     "start_time": "2024-11-03T07:26:45.825045Z"
    }
   },
   "cell_type": "code",
   "source": "backend.options.noise_model.to_dict()",
   "outputs": [
    {
     "data": {
      "text/plain": [
       "{'errors': [{'type': 'qerror',\n",
       "   'id': 'b807afcc1fa842bfaacbab7cc2de4bc0',\n",
       "   'operations': ['ry(1.02, 0)'],\n",
       "   'instructions': [[{'name': 'unitary',\n",
       "      'qubits': [0],\n",
       "      'params': [array([[ 0.9999191 +0.j, -0.01271953+0.j],\n",
       "              [ 0.01271953+0.j,  0.9999191 +0.j]])]}]],\n",
       "   'probabilities': [1.0],\n",
       "   'gate_qubits': [(1,)]}]}"
      ]
     },
     "execution_count": 8,
     "metadata": {},
     "output_type": "execute_result"
    }
   ],
   "execution_count": 8
  },
  {
   "metadata": {},
   "cell_type": "code",
   "outputs": [],
   "execution_count": null,
   "source": ""
  }
 ],
 "metadata": {
  "kernelspec": {
   "display_name": "venv_qiskit10",
   "language": "python",
   "name": "python3"
  },
  "language_info": {
   "codemirror_mode": {
    "name": "ipython",
    "version": 3
   },
   "file_extension": ".py",
   "mimetype": "text/x-python",
   "name": "python",
   "nbconvert_exporter": "python",
   "pygments_lexer": "ipython3",
   "version": "3.11.5"
  }
 },
 "nbformat": 4,
 "nbformat_minor": 2
}

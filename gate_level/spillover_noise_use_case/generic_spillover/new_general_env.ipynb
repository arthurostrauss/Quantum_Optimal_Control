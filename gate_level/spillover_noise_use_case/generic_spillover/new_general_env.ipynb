{
 "cells": [
  {
   "cell_type": "code",
   "execution_count": 2,
   "metadata": {},
   "outputs": [
    {
     "name": "stderr",
     "output_type": "stream",
     "text": [
      "/Users/chatt07/Desktop/envs_10/contextual_env_/lib/python3.11/site-packages/tqdm/auto.py:21: TqdmWarning: IProgress not found. Please update jupyter and ipywidgets. See https://ipywidgets.readthedocs.io/en/stable/user_install.html\n",
      "  from .autonotebook import tqdm as notebook_tqdm\n"
     ]
    }
   ],
   "source": [
    "import numpy as np\n",
    "from typing import Optional, Dict, Any, List, Literal\n",
    "\n",
    "from qiskit.transpiler import CouplingMap, PassManager\n",
    "from qiskit.circuit import ParameterVector\n",
    "\n",
    "from spillover_effect_on_subsystem import (\n",
    "    noisy_backend,\n",
    "    circuit_context,\n",
    "    LocalSpilloverNoiseAerPass,\n",
    "    numpy_to_hashable,\n",
    ")\n",
    "from rl_qoc import ContextAwareQuantumEnvironment, QEnvConfig\n",
    "from rl_qoc.environment.context_aware_quantum_environment import ObsType"
   ]
  },
  {
   "cell_type": "code",
   "execution_count": null,
   "metadata": {},
   "outputs": [],
   "source": [
    "class ArbitraryAngleSpilloverEnv(ContextAwareQuantumEnvironment):\n",
    "    def __init__(\n",
    "        self,\n",
    "        q_env_config: QEnvConfig,\n",
    "        rotation_axes: List[Literal[\"rx\", \"ry\", \"rz\"]],\n",
    "        coupling_map: CouplingMap,\n",
    "        gamma_matrix: np.ndarray,\n",
    "        circuit_param_distribution=\"moving_discrete\",\n",
    "        phi_low=-np.pi,\n",
    "        phi_max=+np.pi,\n",
    "        optimal_error_precision=1e-4,\n",
    "        num_params=17,\n",
    "        discrete_history_length=3,\n",
    "    ):\n",
    "        \"\"\"\n",
    "        Initialize the environment\n",
    "        \"\"\"\n",
    "        self.rotation_axes = rotation_axes\n",
    "        self.gamma_matrix = gamma_matrix\n",
    "        self.circuit_parameters = ParameterVector(\"θ\", len(rotation_axes))\n",
    "\n",
    "        super().__init__(\n",
    "            q_env_config,\n",
    "            circuit_context(\n",
    "                len(rotation_axes), rotation_axes, self.circuit_parameters, coupling_map\n",
    "            ),\n",
    "        )\n",
    "\n",
    "    def reset(\n",
    "        self,\n",
    "        *,\n",
    "        seed: Optional[int] = None,\n",
    "        options: Optional[Dict[str, Any]] = None,\n",
    "    ) -> tuple[ObsType, dict[str, Any]]:\n",
    "        \"\"\"\n",
    "        Reset the environment\n",
    "        :param seed: Seed for the environment\n",
    "        :param options: Options for the environment\n",
    "        :return: Initial observation and info\n",
    "        \"\"\"\n",
    "        # Reset the environment\n",
    "        super().reset(seed=seed, options=options)\n",
    "\n",
    "        phi = np.random.uniform(0, 2 * np.pi, len(self.rotation_axes))\n",
    "\n",
    "        param_dict = {self.circuit_parameters[i]: phi[i] for i in range(len(phi))}\n",
    "        circuit = self.circuit_context.assign_parameters(param_dict)\n",
    "        backend = noisy_backend(\n",
    "            circuit, self.gamma_matrix, self.config.env_metadata[\"target_subsystem\"]\n",
    "        )\n",
    "        pm = PassManager(\n",
    "            [\n",
    "                LocalSpilloverNoiseAerPass(\n",
    "                    numpy_to_hashable(self.gamma_matrix),\n",
    "                    self.config.env_metadata[\"target_subsystem\"],\n",
    "                )\n",
    "            ]\n",
    "        )\n",
    "        circuit = pm.run(circuit)\n",
    "        # Generate the initial observation\n",
    "        self.set_circuit_context(circuit, backend)\n",
    "        obs = phi\n",
    "        # Return the initial observation and info\n",
    "        return obs, {}\n"
   ]
  }
 ],
 "metadata": {
  "kernelspec": {
   "display_name": "contextual_env_",
   "language": "python",
   "name": "python3"
  },
  "language_info": {
   "codemirror_mode": {
    "name": "ipython",
    "version": 3
   },
   "file_extension": ".py",
   "mimetype": "text/x-python",
   "name": "python",
   "nbconvert_exporter": "python",
   "pygments_lexer": "ipython3",
   "version": "3.11.8"
  }
 },
 "nbformat": 4,
 "nbformat_minor": 2
}

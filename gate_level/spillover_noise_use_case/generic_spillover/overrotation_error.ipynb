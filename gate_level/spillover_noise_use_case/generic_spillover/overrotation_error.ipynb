{
 "cells": [
  {
   "cell_type": "code",
   "id": "initial_id",
   "metadata": {
    "collapsed": true,
    "ExecuteTime": {
     "end_time": "2024-12-22T08:19:35.934480Z",
     "start_time": "2024-12-22T08:19:35.885050Z"
    }
   },
   "source": [
    "import numpy as np\n",
    "\n",
    "from gate_level.spillover_noise_use_case.generic_spillover.spillover_effect_on_subsystem import (\n",
    "    LocalSpilloverNoiseAerPass,\n",
    "    circuit_context,\n",
    "    numpy_to_hashable,\n",
    "    noisy_backend,\n",
    ")\n",
    "from qiskit.circuit import QuantumCircuit, Parameter\n",
    "from qiskit.transpiler import PassManager\n",
    "\n",
    "θ = Parameter('θ')\n",
    "qc = QuantumCircuit(1)\n",
    "qc.rx(θ, 0)\n",
    "qc.h(0)\n",
    "\n",
    "qc.draw('mpl')"
   ],
   "outputs": [
    {
     "data": {
      "text/plain": [
       "<Figure size 269.064x117.056 with 1 Axes>"
      ],
      "image/png": "[encoded data removed]"
     },
     "execution_count": 3,
     "metadata": {},
     "output_type": "execute_result"
    }
   ],
   "execution_count": 3
  },
  {
   "metadata": {
    "ExecuteTime": {
     "end_time": "2024-12-22T08:19:36.660587Z",
     "start_time": "2024-12-22T08:19:36.658167Z"
    }
   },
   "cell_type": "code",
   "source": "θ_val = np.pi",
   "id": "85696ea802272c6a",
   "outputs": [],
   "execution_count": 4
  },
  {
   "metadata": {
    "ExecuteTime": {
     "end_time": "2024-12-22T08:20:11.435414Z",
     "start_time": "2024-12-22T08:20:11.418890Z"
    }
   },
   "cell_type": "code",
   "source": [
    "from qiskit_aer.noise import NoiseModel,coherent_unitary_error\n",
    "from qiskit.circuit.library import RXGate\n",
    "γ = 0.1\n",
    "noisy_unitary = RXGate(γ*θ_val).to_matrix()\n",
    "noise_model = NoiseModel()\n",
    "noise_model.add_all_qubit_quantum_error(coherent_unitary_error(noisy_unitary), 'rx', [0])"
   ],
   "id": "ad05d45b40c60f8e",
   "outputs": [],
   "execution_count": 5
  },
  {
   "metadata": {
    "ExecuteTime": {
     "end_time": "2024-12-22T08:20:29.356349Z",
     "start_time": "2024-12-22T08:20:29.352905Z"
    }
   },
   "cell_type": "code",
   "source": [
    "from qiskit_aer import AerSimulator\n",
    "backend = AerSimulator(noise_model=noise_model)"
   ],
   "id": "add4f0709f4d353f",
   "outputs": [],
   "execution_count": 7
  },
  {
   "metadata": {},
   "cell_type": "code",
   "outputs": [],
   "execution_count": null,
   "source": "",
   "id": "5bdc63cd1e5db83a"
  }
 ],
 "metadata": {
  "kernelspec": {
   "display_name": "Python 3",
   "language": "python",
   "name": "python3"
  },
  "language_info": {
   "codemirror_mode": {
    "name": "ipython",
    "version": 2
   },
   "file_extension": ".py",
   "mimetype": "text/x-python",
   "name": "python",
   "nbconvert_exporter": "python",
   "pygments_lexer": "ipython2",
   "version": "2.7.6"
  }
 },
 "nbformat": 4,
 "nbformat_minor": 5
}

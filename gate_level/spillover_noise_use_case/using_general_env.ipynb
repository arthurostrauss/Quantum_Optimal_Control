{
 "cells": [
  {
   "cell_type": "code",
   "execution_count": 1,
   "metadata": {},
   "outputs": [
    {
     "name": "stderr",
     "output_type": "stream",
     "text": [
      "/Users/chatt07/Desktop/new_context_env/lib/python3.9/site-packages/tqdm/auto.py:21: TqdmWarning: IProgress not found. Please update jupyter and ipywidgets. See https://ipywidgets.readthedocs.io/en/stable/user_install.html\n",
      "  from .autonotebook import tqdm as notebook_tqdm\n"
     ]
    }
   ],
   "source": [
    "import os\n",
    "import sys\n",
    "import logging\n",
    "from gymnasium.wrappers import RescaleAction, ClipAction\n",
    "\n",
    "# Setting path for all packages\n",
    "os.environ[\"KMP_DUPLICATE_LIB_OK\"] = \"True\"\n",
    "module_path = os.path.abspath(\n",
    "    os.path.join(\n",
    "        \"/Users/chatt07/Desktop/new_context_env/aniket_clones/Quantum_Optimal_Control\"\n",
    "    )\n",
    ")\n",
    "if module_path not in sys.path:\n",
    "    sys.path.append(module_path)\n",
    "\n",
    "# Importing Config Files\n",
    "from general_noise_q_env_config import (\n",
    "    params,\n",
    "    backend_params,\n",
    "    runtime_options,\n",
    "    apply_parametrized_circuit,\n",
    "    get_backend_parametrised,\n",
    "    get_parameterised_circuit_context,\n",
    "    get_instruction_durations\n",
    ")\n",
    "# Importing Environment\n",
    "from rl_qoc.general_noise_quantum_environment import GeneralNoiseQuantumEnvironment\n",
    "# Importing PPO\n",
    "from rl_qoc.ppo_cleanrl import PPO_CleanRL\n",
    "from rl_qoc.helper_functions import load_from_yaml_file\n",
    "\n",
    "logging.basicConfig(\n",
    "    level=logging.WARNING,\n",
    "    format=\"%(asctime)s INFO %(message)s\",  # hardcoded INFO level\n",
    "    datefmt=\"%Y-%m-%d %H:%M:%S\",\n",
    "    stream=sys.stdout,\n",
    ")"
   ]
  },
  {
   "cell_type": "code",
   "execution_count": 2,
   "metadata": {},
   "outputs": [],
   "source": [
    "\"\"\"\n",
    "Backend with Aer Noise Model needs to reset\n",
    "Circuit Context should either be parametrised and take phi, or be reset\n",
    "\"\"\"\n",
    "\n",
    "from itertools import product\n",
    "import sys\n",
    "from typing import Dict, Optional, List, Any, TypeVar, SupportsFloat, Union\n",
    "\n",
    "import numpy as np\n",
    "from gymnasium.spaces import Box\n",
    "\n",
    "# Qiskit imports\n",
    "from qiskit import transpile\n",
    "from qiskit.circuit import (\n",
    "    QuantumCircuit,\n",
    "    QuantumRegister,\n",
    "    ParameterVector,\n",
    "    CircuitInstruction,\n",
    ")\n",
    "from qiskit.quantum_info import state_fidelity, Statevector\n",
    "from qiskit.transpiler import Layout\n",
    "from qiskit_aer.backends import AerSimulator\n",
    "from qiskit_aer.backends.aerbackend import AerBackend\n",
    "from qiskit_aer.noise import NoiseModel\n",
    "from qiskit_dynamics import DynamicsBackend\n",
    "from qiskit_ibm_runtime import EstimatorV2\n",
    "\n",
    "from qiskit_ibm_runtime import IBMBackend as RuntimeBackend\n",
    "\n",
    "from rl_qoc.helper_functions import (\n",
    "    projected_statevector,\n",
    "    get_instruction_timings,\n",
    "    get_q_env_config,\n",
    ")\n",
    "from rl_qoc.qconfig import QEnvConfig, QiskitConfig\n",
    "from rl_qoc.base_parametrised_q_env import (\n",
    "    GateTarget,\n",
    "    BaseParametrisedQuantumEnvironment,\n",
    ")\n",
    "from rl_qoc.custom_jax_sim import JaxSolver\n",
    "\n",
    "import logging\n",
    "\n",
    "logging.basicConfig(\n",
    "    level=logging.WARNING,\n",
    "    format=\"%(asctime)s INFO %(message)s\",  # hardcoded INFO level\n",
    "    datefmt=\"%Y-%m-%d %H:%M:%S\",\n",
    "    stream=sys.stdout,\n",
    ")\n",
    "\n",
    "ObsType = TypeVar(\"ObsType\")\n",
    "ActType = TypeVar(\"ActType\")\n",
    "\n",
    "\n",
    "def create_array(circ_trunc, batchsize, n_actions):\n",
    "    arr = np.empty((circ_trunc,), dtype=object)\n",
    "    for i in range(circ_trunc):\n",
    "        arr[i] = np.zeros((i + 1, batchsize, n_actions))\n",
    "    return arr\n",
    "\n",
    "\n",
    "class GeneralNoiseQuantumEnvironment(BaseParametrisedQuantumEnvironment):\n",
    "\n",
    "    def __init__(\n",
    "        self,\n",
    "        params,\n",
    "        backend_params,\n",
    "        runtime_options,\n",
    "        apply_parametrized_circuit,\n",
    "        get_backend_parametrised,\n",
    "        get_parameterised_circuit_context,\n",
    "        get_instruction_durations,\n",
    "        gamma,\n",
    "        circuit_param_distribution,\n",
    "        phi_low,\n",
    "        phi_max,\n",
    "        num_params,\n",
    "        discrete_history_length,\n",
    "        optimal_error_precision,\n",
    "        training_steps_per_gate: Union[List[int], int] = 1500,\n",
    "        intermediate_rewards: bool = False,\n",
    "    ):\n",
    "        self.params = params\n",
    "        self.backend_params = backend_params\n",
    "        self.runtime_options = runtime_options\n",
    "        self.apply_parametrized_circuit = apply_parametrized_circuit\n",
    "        self.get_backend_parametrised = get_backend_parametrised\n",
    "        self.get_parameterised_circuit_context = get_parameterised_circuit_context\n",
    "        self.get_instruction_durations = get_instruction_durations\n",
    "        self.gamma = gamma\n",
    "        self._training_steps_per_gate = training_steps_per_gate\n",
    "        self._intermediate_rewards = intermediate_rewards\n",
    "        self.circuit_fidelity_history = []\n",
    "        self.phi_low = phi_low\n",
    "        self.phi_max = phi_max\n",
    "        self.num_params = num_params\n",
    "        self.optimal_error_precision = optimal_error_precision\n",
    "        self.example_phi = phi_max\n",
    "        self.circuit_param_distribution = circuit_param_distribution\n",
    "\n",
    "        # Making Example Backend and Circuit Context\n",
    "        self.example_backend = self.get_backend_parametrised(\n",
    "            phi=self.example_phi,\n",
    "            gamma=self.gamma,\n",
    "            print_noise_model=True,\n",
    "            **self.backend_params,\n",
    "        )\n",
    "        self.backend_config = QiskitConfig(\n",
    "            self.apply_parametrized_circuit,\n",
    "            self.example_backend,\n",
    "            estimator_options=(\n",
    "                self.runtime_options\n",
    "                if isinstance(self.example_backend, RuntimeBackend)\n",
    "                else None\n",
    "            ),\n",
    "            # parametrized_circuit_kwargs=parametrized_circ_args,\n",
    "        )\n",
    "        self.q_env_config = QEnvConfig(\n",
    "            backend_config=self.backend_config, **self.params\n",
    "        )\n",
    "        self.q_env_config.backend_config.parametrized_circuit_kwargs = {\n",
    "            \"target\": self.q_env_config.target,\n",
    "            \"backend\": self.q_env_config.backend,\n",
    "        }\n",
    "        self.q_env_config.backend_config.instruction_durations_dict = (\n",
    "            self.get_instruction_durations(self.q_env_config.backend)\n",
    "        )\n",
    "        print_circuit = True\n",
    "        self.circuit_context = self.get_parameterised_circuit_context(\n",
    "            self.example_phi, print_circuit, self.example_backend\n",
    "        )\n",
    "\n",
    "        # Define target register and nearest neighbor register for truncated circuits\n",
    "        self.circ_tgt_register = QuantumRegister(\n",
    "            bits=[\n",
    "                self.circuit_context.qubits[i]\n",
    "                for i in self.q_env_config.physical_qubits\n",
    "            ],\n",
    "            name=\"tgt\",\n",
    "        )\n",
    "\n",
    "        # Adjust target register to match it with circuit context\n",
    "        self.target_instruction = CircuitInstruction(\n",
    "            self.q_env_config.target[\"gate\"],\n",
    "            (qubit for qubit in self.circ_tgt_register),\n",
    "        )\n",
    "        self._tgt_instruction_counts = self.circuit_context.data.count(\n",
    "            self.target_instruction\n",
    "        )\n",
    "        if self.tgt_instruction_counts == 0:\n",
    "            raise ValueError(\"Target gate not found in circuit context\")\n",
    "\n",
    "        self._parameters = [\n",
    "            ParameterVector(f\"a_{j}\", self.q_env_config.n_actions)\n",
    "            for j in range(self.tgt_instruction_counts)\n",
    "        ]\n",
    "\n",
    "        # Store time and instruction indices where target gate is played in circuit\n",
    "        try:\n",
    "            self._op_start_times = self.circuit_context.op_start_times\n",
    "        except AttributeError:\n",
    "            self._op_start_times = get_instruction_timings(self.circuit_context)\n",
    "\n",
    "        ### Very important, keep after _op_start_times ###\n",
    "        super().__init__(self.q_env_config)\n",
    "\n",
    "        self._target_instruction_timings = []\n",
    "        for i, instruction in enumerate(self.circuit_context.data):\n",
    "            if instruction == self.target_instruction:\n",
    "                self._target_instruction_timings.append(self._op_start_times[i])\n",
    "\n",
    "        self._param_values = create_array(\n",
    "            self.tgt_instruction_counts, self.batch_size, self.action_space.shape[-1]\n",
    "        )\n",
    "        self.observation_space = Box(\n",
    "            low=np.array([-1.0]), high=np.array([1.0]), dtype=np.float32\n",
    "        )  # multiply by pi for actual values\n",
    "        self.phi_bound = 0.0\n",
    "\n",
    "        self.discrete_reward_history = np.ones((discrete_history_length, num_params))\n",
    "        self.discrete_obs_vals = np.linspace(\n",
    "            self.observation_space.low, self.observation_space.high, self.num_params\n",
    "        ).flatten()\n",
    "        print(f\"Observation Vals: {self.discrete_obs_vals}\")\n",
    "\n",
    "    def define_target_and_circuits(self):\n",
    "        \"\"\"\n",
    "        Define target gate and circuits for calibration\n",
    "        \"\"\"\n",
    "\n",
    "        assert \"gate\" in self.config.target, \"Target should be a gate\"\n",
    "\n",
    "        # Build registers for all relevant qubits\n",
    "        circ_nn_register, circ_anc_register = (\n",
    "            QuantumRegister(\n",
    "                bits=[self.circuit_context.qubits[i] for i in qubits],\n",
    "                name=reg_name,\n",
    "            )\n",
    "            for reg_name, qubits in zip(\n",
    "                [\"nn\", \"anc\"],\n",
    "                [self.physical_neighbor_qubits, self.physical_next_neighbor_qubits],\n",
    "            )\n",
    "        )\n",
    "        tgt_register = QuantumRegister(len(self.physical_target_qubits), name=\"tgt\")\n",
    "        layouts = [\n",
    "            Layout(\n",
    "                {\n",
    "                    tgt_register[i]: self.physical_target_qubits[i]\n",
    "                    for i in range(tgt_register.size)\n",
    "                }\n",
    "            )\n",
    "            for _ in range(self.tgt_instruction_counts)\n",
    "        ]\n",
    "        nn_registers, anc_registers = [\n",
    "            [QuantumRegister(1, name=f\"{name}_{i}\") for i in range(reg.size)]\n",
    "            for name, reg in zip([\"nn\", \"anc\"], [circ_nn_register, circ_anc_register])\n",
    "        ]\n",
    "        # Create mapping between circuit context qubits and custom circuit associated single qubit registers\n",
    "        mapping = {\n",
    "            circ_reg[i]: reg[i]\n",
    "            for circ_reg, reg in zip(\n",
    "                [circ_nn_register, self.circ_tgt_register, circ_anc_register],\n",
    "                [nn_registers, tgt_register, anc_registers],\n",
    "            )\n",
    "            for i in range(circ_reg.size)\n",
    "        }\n",
    "\n",
    "        # Initialize custom and baseline circuits for each target gate (by default only contains target qubits)\n",
    "        custom_circuits, baseline_circuits = [\n",
    "            [\n",
    "                QuantumCircuit(tgt_register, name=name + str(i))\n",
    "                for i in range(self.tgt_instruction_counts)\n",
    "            ]\n",
    "            for name in [\"c_circ_trunc_\", \"b_circ_trunc_\"]\n",
    "        ]\n",
    "        # Build sub-circuit contexts: each circuit goes until target gate and preserves nearest neighbor operations\n",
    "        for i in range(self.tgt_instruction_counts):  # Loop over target gates\n",
    "            counts = 0\n",
    "            for start_time, instruction in zip(\n",
    "                self._op_start_times, self.circuit_context.data\n",
    "            ):  # Loop over instructions in circuit context\n",
    "\n",
    "                # Check if instruction involves target or nearest neighbor qubits\n",
    "                involves_target_qubits = any(\n",
    "                    [\n",
    "                        qubit in reg\n",
    "                        for reg in [self.circ_tgt_register, circ_nn_register]\n",
    "                        for qubit in instruction.qubits\n",
    "                    ]\n",
    "                )\n",
    "                if involves_target_qubits:\n",
    "                    involved_qubits = [\n",
    "                        qubit\n",
    "                        for qubit in instruction.qubits\n",
    "                        if qubit not in self.circ_tgt_register\n",
    "                    ]\n",
    "                else:\n",
    "                    involved_qubits = []\n",
    "\n",
    "                # If instruction involves target or nn qubits and happens before target gate, add it to custom circuit\n",
    "\n",
    "                if (\n",
    "                    counts <= i or start_time <= self._target_instruction_timings[i]\n",
    "                ) and involves_target_qubits:\n",
    "                    for qubit in involved_qubits:\n",
    "                        if (\n",
    "                            mapping[qubit] not in custom_circuits[i].qregs\n",
    "                        ):  # Add register if not already added\n",
    "                            baseline_circuits[i].add_register(mapping[qubit])\n",
    "                            custom_circuits[i].add_register(mapping[qubit])\n",
    "                            if (\n",
    "                                self.circuit_context.layout.final_layout is not None\n",
    "                            ):  # Update physical layout\n",
    "                                layouts[i].add(\n",
    "                                    mapping[qubit][0],\n",
    "                                    self.circuit_context.layout.final_layout[qubit],\n",
    "                                )\n",
    "                            else:\n",
    "                                layouts[i].add(\n",
    "                                    mapping[qubit][0],\n",
    "                                    self.circuit_context.qubits.index(qubit),\n",
    "                                )\n",
    "\n",
    "                    baseline_circuits[i].append(\n",
    "                        instruction.operation,\n",
    "                        (\n",
    "                            (\n",
    "                                mapping[q][0]\n",
    "                                if q not in self.circ_tgt_register\n",
    "                                else mapping[q]\n",
    "                            )\n",
    "                            for q in instruction.qubits\n",
    "                        ),\n",
    "                    )\n",
    "                    if instruction != self.target_instruction:\n",
    "                        custom_circuits[i].append(\n",
    "                            instruction.operation,\n",
    "                            (\n",
    "                                (\n",
    "                                    mapping[q][0]\n",
    "                                    if q not in self.circ_tgt_register\n",
    "                                    else mapping[q]\n",
    "                                )\n",
    "                                for q in instruction.qubits\n",
    "                            ),\n",
    "                        )\n",
    "                    else:  # Add custom instruction in place of target gate\n",
    "                        try:\n",
    "                            self.parametrized_circuit_func(\n",
    "                                custom_circuits[i],\n",
    "                                self.parameters[counts],\n",
    "                                tgt_register,\n",
    "                                **self._func_args,\n",
    "                            )\n",
    "                        except TypeError:\n",
    "                            raise TypeError(\"Failed to call parametrized_circuit_func\")\n",
    "                        counts += 1\n",
    "            # custom_circuits[i] = remove_unused_wires(custom_circuits[i])\n",
    "            # baseline_circuits[i] = remove_unused_wires(baseline_circuits[i])\n",
    "\n",
    "        target = GateTarget(\n",
    "            self.config.target[\"gate\"],\n",
    "            self.physical_target_qubits,\n",
    "            self.config.n_reps,\n",
    "            baseline_circuits,\n",
    "            tgt_register,\n",
    "            layouts,\n",
    "        )\n",
    "        return target, custom_circuits, baseline_circuits\n",
    "\n",
    "    def reset(\n",
    "        self,\n",
    "        override_obs: Optional[np.ndarray] = None,\n",
    "        seed: Optional[int] = None,\n",
    "        options: Optional[Dict[str, Any]] = None,\n",
    "    ) -> tuple[ObsType, dict[str, Any]]:\n",
    "        \"\"\"Reset the Environment, chooses a new input state\"\"\"\n",
    "        super().reset(seed=seed)\n",
    "\n",
    "        if self.circuit_param_distribution == \"uniform\":\n",
    "            self.phi_bound = np.random.uniform(\n",
    "                low=self.observation_space.low, high=self.observation_space.high\n",
    "            )\n",
    "        if self.circuit_param_distribution == \"normal\":\n",
    "            self.phi_bound = np.random.normal(loc=0.0, scale=0.5, size=None)\n",
    "            self.phi_bound = np.clip(\n",
    "                self.phi_bound,\n",
    "                a_min=self.observation_space.low,\n",
    "                a_max=self.observation_space.high,\n",
    "            )\n",
    "        if self.circuit_param_distribution == \"simple_discrete\":\n",
    "            self.phi_bound = np.random.choice(\n",
    "                a=self.discrete_obs_vals, size=len(self.observation_space.shape), replace=True\n",
    "            )\n",
    "        if self.circuit_param_distribution == \"moving_discrete\":\n",
    "            self.prob_weights = (np.mean(\n",
    "                self.discrete_reward_history, axis=0\n",
    "            ) + np.log10(self.optimal_error_precision)) ** 2\n",
    "            self.prob_weights /= np.sum(self.prob_weights)\n",
    "            self.phi_bound = np.random.choice(\n",
    "                a=self.discrete_obs_vals, size=len(self.observation_space.shape), replace=True, p=self.prob_weights\n",
    "            )\n",
    "        if override_obs is not None:\n",
    "            self.phi_bound = override_obs\n",
    "        self._param_values = create_array(\n",
    "            self.tgt_instruction_counts, self.batch_size, self.action_space.shape[0]\n",
    "        )\n",
    "        self._inside_trunc_tracker = 0\n",
    "\n",
    "        self.phi_rad = (\n",
    "            self.phi_bound * (self.phi_max - self.phi_low) / 2 + (self.phi_max + self.phi_low) / 2\n",
    "        )  # scaling factor for radian parameters\n",
    "        assert self.phi_rad <= self.phi_max\n",
    "        assert self.phi_rad >= self.phi_low\n",
    "\n",
    "        # Making Backend and Circuit Context\n",
    "        self.step_backend = self.get_backend_parametrised(\n",
    "            phi=self.phi_rad,\n",
    "            gamma=self.gamma,\n",
    "            print_noise_model=False,\n",
    "            **self.backend_params,\n",
    "        )\n",
    "        self.step_backend_config = QiskitConfig(\n",
    "            self.apply_parametrized_circuit,\n",
    "            self.step_backend,\n",
    "            estimator_options=(\n",
    "                self.runtime_options\n",
    "                if isinstance(self.step_backend, RuntimeBackend)\n",
    "                else None\n",
    "            ),\n",
    "            # parametrized_circuit_kwargs=parametrized_circ_args,\n",
    "        )\n",
    "        self.step_q_env_config = QEnvConfig(\n",
    "            backend_config=self.step_backend_config, **self.params\n",
    "        )\n",
    "        self.step_q_env_config.backend_config.parametrized_circuit_kwargs = {\n",
    "            \"target\": self.step_q_env_config.target,\n",
    "            \"backend\": self.step_q_env_config.backend,\n",
    "        }\n",
    "        self.step_q_env_config.backend_config.instruction_durations_dict = (\n",
    "            self.get_instruction_durations(self.step_q_env_config.backend)\n",
    "        )\n",
    "        print_circuit = False\n",
    "        self.step_circuit_context = self.get_parameterised_circuit_context(\n",
    "            self.phi_rad, print_circuit, self.step_backend\n",
    "        )\n",
    "\n",
    "        # Redefining Targets based on new phi\n",
    "        self.extract_from_config(\n",
    "            self.step_q_env_config\n",
    "        )  # effectively reruns super.__init__() functionalities\n",
    "\n",
    "        return self._get_obs(), self._get_info()\n",
    "\n",
    "    def step(\n",
    "        self, action: ActType\n",
    "    ) -> tuple[ObsType, SupportsFloat, bool, bool, dict[str, Any]]:\n",
    "\n",
    "        # trunc_index tells us which circuit truncation should be trained\n",
    "        # Dependent on global_step and method select_trunc_index\n",
    "        trunc_index = self.trunc_index\n",
    "        # Figure out if in middle of param loading or should compute the final reward (step_status < trunc_index or ==)\n",
    "        step_status = self._inside_trunc_tracker\n",
    "        self._step_tracker += 1\n",
    "\n",
    "        if self._episode_ended:\n",
    "            terminated = True\n",
    "            return (\n",
    "                self.reset()[0],\n",
    "                np.zeros(self.batch_size),\n",
    "                terminated,\n",
    "                False,\n",
    "                self._get_info(),\n",
    "            )\n",
    "\n",
    "        if trunc_index >= self.tgt_instruction_counts:\n",
    "            # raise IndexError(f\"Circuit does contain only {self.tgt_instruction_counts} target gates and step\"\n",
    "            #                  f\" function tries to access gate nb {trunc_index} \")\n",
    "            truncated = True\n",
    "            return (\n",
    "                self.reset()[0],\n",
    "                np.zeros(self.batch_size),\n",
    "                False,\n",
    "                truncated,\n",
    "                self._get_info(),\n",
    "            )\n",
    "\n",
    "        params, batch_size = np.array(action), len(np.array(action))\n",
    "        if batch_size != self.batch_size:\n",
    "            raise ValueError(\n",
    "                f\"Action batch size {batch_size} does not match environment batch size {self.batch_size}\"\n",
    "            )\n",
    "        self._param_values[trunc_index][step_status] = params\n",
    "        params = np.reshape(\n",
    "            np.vstack([param_set for param_set in self._param_values[trunc_index]]),\n",
    "            (self.batch_size, (trunc_index + 1) * self.action_space.shape[-1]),\n",
    "        )\n",
    "        if step_status < trunc_index:  # Intermediate step within the circuit truncation\n",
    "            self._inside_trunc_tracker += 1\n",
    "            terminated = False\n",
    "\n",
    "            if self._intermediate_rewards:\n",
    "                reward = self.perform_action(params)\n",
    "                obs = reward  # Set observation to obtained reward (might not be the smartest choice here)\n",
    "                return obs, reward, terminated, False, self._get_info()\n",
    "            else:\n",
    "                return (\n",
    "                    self._get_obs(),\n",
    "                    np.zeros(batch_size),\n",
    "                    terminated,\n",
    "                    False,\n",
    "                    self._get_info(),\n",
    "                )\n",
    "\n",
    "        else:\n",
    "            terminated = self._episode_ended = True\n",
    "            reward = self.perform_action(params)\n",
    "            if self._intermediate_rewards:\n",
    "                obs = reward\n",
    "            else:\n",
    "                obs = self._get_obs()\n",
    "\n",
    "            # Using Negative Log Error as the Reward\n",
    "            if np.mean(reward) > self._max_return:\n",
    "                self._max_return = np.mean(reward)\n",
    "                self._optimal_action = self.mean_action\n",
    "            self.reward_history.append(reward)\n",
    "            assert (\n",
    "                len(reward) == self.batch_size\n",
    "            ), f\"Reward table size mismatch {len(reward)} != {self.batch_size} \"\n",
    "            assert not np.any(np.isinf(reward)) and not np.any(\n",
    "                np.isnan(reward)\n",
    "            ), \"Reward table contains NaN or Inf values\"\n",
    "            max_fidelity = 1.0 - self.optimal_error_precision\n",
    "            reward = np.clip(reward, a_min=0.0, a_max=max_fidelity)\n",
    "            reward = -np.log10(1.0 - reward)\n",
    "            if self.circuit_param_distribution in [\n",
    "                \"simple_discrete\",\n",
    "                \"moving_discrete\",\n",
    "            ]:\n",
    "                self.update_discrete_history(reward, obs)\n",
    "            self.rl_reward_history.append(reward)\n",
    "\n",
    "            return obs, reward, terminated, False, self._get_info()\n",
    "\n",
    "    def update_discrete_history(self, reward, obs):\n",
    "        obs_ind = np.argmin(np.abs(self.discrete_obs_vals - obs))\n",
    "        print(obs.shape)\n",
    "        print(reward.shape)\n",
    "        self.discrete_reward_history[:, obs_ind] = np.append(\n",
    "            [np.mean(reward)], self.discrete_reward_history[:-1, obs_ind], axis=0\n",
    "        )\n",
    "\n",
    "    def _get_obs(self):\n",
    "        return np.array([self.phi_bound])\n",
    "\n",
    "    def compute_benchmarks(self, qc: QuantumCircuit, params: np.array) -> np.array:\n",
    "        \"\"\"\n",
    "        Method to store in lists all relevant data to assess performance of training (fidelity information)\n",
    "        :param params: Batch of actions\n",
    "        \"\"\"\n",
    "        new_qc = qc.copy()\n",
    "        n_actions = self.action_space.shape[-1]\n",
    "        n_custom_instructions = (\n",
    "            self.trunc_index + 1\n",
    "        )  # Count custom instructions present in the current truncation\n",
    "        baseline_circ = self.baseline_circuits[self.trunc_index]\n",
    "        target = Statevector(baseline_circ)\n",
    "\n",
    "        if (\n",
    "            self.config.check_on_exp\n",
    "        ):  # Perform real experiments to retrieve from measurement data fidelities\n",
    "            # Assess circuit fidelity with ComputeUncompute algo\n",
    "            try:\n",
    "                # job = self.fidelity_checker.run(\n",
    "                #     [qc] * len(params),\n",
    "                #     [baseline_circ] * len(params),\n",
    "                #     values_1=params,\n",
    "                # )\n",
    "                # circuit_fidelities = job.result().fidelities\n",
    "                angle_sets = np.clip(\n",
    "                    np.random.normal(\n",
    "                        self.mean_action,\n",
    "                        self.std_action,\n",
    "                        size=(self.config.benchmark_batch_size, n_actions),\n",
    "                    ),\n",
    "                    self.action_space.low,\n",
    "                    self.action_space.high,\n",
    "                )\n",
    "\n",
    "                print(\"Starting Direct Fidelity Estimation...\")\n",
    "                observables, shots = self.retrieve_observables(\n",
    "                    self._input_state.target_state,\n",
    "                    self.circuits[self.trunc_index],\n",
    "                    self.config.benchmark_config.dfe_precision,\n",
    "                )\n",
    "                if self.abstraction_level == \"circuit\":\n",
    "                    new_qc = self.backend_info.custom_transpile(\n",
    "                        new_qc,\n",
    "                        initial_layout=self.layout[self.trunc_index],\n",
    "                        scheduling=False,\n",
    "                    )\n",
    "                pubs = [\n",
    "                    (\n",
    "                        new_qc,\n",
    "                        obs.apply_layout(new_qc.layout),\n",
    "                        angle_sets,\n",
    "                        1 / np.sqrt(shot),\n",
    "                    )\n",
    "                    for obs, shot in zip(\n",
    "                        observables.group_commuting(qubit_wise=True), shots\n",
    "                    )\n",
    "                ]\n",
    "                if isinstance(self.estimator, EstimatorV2):\n",
    "                    self.estimator.options.update(\n",
    "                        job_tags=[f\"DFE_step{self._step_tracker}\"]\n",
    "                    )\n",
    "                job = self.estimator.run(pubs=pubs)\n",
    "                results = job.result()\n",
    "                circuit_fidelities = np.sum(\n",
    "                    [result.data.evs for result in results], axis=0\n",
    "                ) / len(observables)\n",
    "                print(\"Finished DFE\")\n",
    "            except Exception as exc:\n",
    "                self.close()\n",
    "                raise exc\n",
    "\n",
    "        else:  # Perform ideal simulation at circuit or pulse level\n",
    "            if self.abstraction_level == \"circuit\":\n",
    "                # Calculate circuit fidelity with statevector simulation\n",
    "                if isinstance(self.backend, AerBackend):\n",
    "                    backend = self.backend\n",
    "                elif self.backend is None:\n",
    "                    backend = AerSimulator(method=\"statevector\")\n",
    "\n",
    "                else:\n",
    "                    noise_model = NoiseModel.from_backend(self.backend)\n",
    "                    backend = AerSimulator(\n",
    "                        noise_model=noise_model, method=\"density_matrix\"\n",
    "                    )\n",
    "                new_qc.save_density_matrix()\n",
    "                circ = transpile(new_qc, backend=backend, optimization_level=0)\n",
    "\n",
    "                states_result = backend.run(\n",
    "                    circ,\n",
    "                    parameter_binds=[\n",
    "                        {\n",
    "                            self._parameters[i][j]: params[:, i * n_actions + j]\n",
    "                            for i in range(n_custom_instructions)\n",
    "                            for j in range(n_actions)\n",
    "                        }\n",
    "                    ],\n",
    "                ).result()\n",
    "                output_states = [\n",
    "                    states_result.data(i)[\"density_matrix\"]\n",
    "                    for i in range(self.batch_size)\n",
    "                ]\n",
    "\n",
    "            else:  # Pulse simulation\n",
    "                # Calculate circuit fidelity with pulse simulation\n",
    "                if isinstance(self.backend, DynamicsBackend) and isinstance(\n",
    "                    self.backend.options.solver, JaxSolver\n",
    "                ):\n",
    "                    # Jax compatible pulse simulation\n",
    "\n",
    "                    output_states = np.array(self.backend.options.solver.batched_sims)[\n",
    "                        :, 1, :\n",
    "                    ]\n",
    "\n",
    "                    output_states = [\n",
    "                        projected_statevector(s, self.backend.options.subsystem_dims)\n",
    "                        for s in output_states\n",
    "                    ]\n",
    "\n",
    "                else:\n",
    "                    raise NotImplementedError(\n",
    "                        \"Pulse simulation not yet implemented for this backend\"\n",
    "                    )\n",
    "            circuit_fidelities = [\n",
    "                state_fidelity(state, Statevector(baseline_circ))\n",
    "                for state in output_states\n",
    "            ]\n",
    "            # circuit_fidelities = [state_fidelity(partial_trace(state,\n",
    "            #                                                    list(range(state.num_qubits))[target.num_qubits:]),\n",
    "            #                                      partial_trace(Statevector(baseline_circ),\n",
    "            #                                                    list(range(state.num_qubits))[target.num_qubits:]))\n",
    "            #                       for state in output_states]\n",
    "        self.circuit_fidelity_history.append(np.mean(circuit_fidelities))\n",
    "        print(\"Fidelity stored\", self.circuit_fidelity_history[-1])\n",
    "        return circuit_fidelities\n",
    "\n",
    "    @property\n",
    "    def parameters(self) -> List[ParameterVector]:\n",
    "        return self._parameters\n",
    "\n",
    "    @property\n",
    "    def fidelity_history(self):\n",
    "        return self.circuit_fidelity_history\n",
    "\n",
    "    @property\n",
    "    def tgt_instruction_counts(self) -> int:\n",
    "        return self._tgt_instruction_counts\n",
    "\n",
    "    @property\n",
    "    def trunc_index(self) -> int:\n",
    "        if self._intermediate_rewards:\n",
    "            return self.step_tracker % self.tgt_instruction_counts\n",
    "        else:\n",
    "            return np.min(\n",
    "                [\n",
    "                    self._step_tracker // self.training_steps_per_gate,\n",
    "                    self.tgt_instruction_counts - 1,\n",
    "                ]\n",
    "            )\n",
    "\n",
    "    @property\n",
    "    def training_steps_per_gate(self) -> int:\n",
    "        return self._training_steps_per_gate\n",
    "\n",
    "    @training_steps_per_gate.setter\n",
    "    def training_steps_per_gate(self, nb_of_steps: int):\n",
    "        try:\n",
    "            assert nb_of_steps > 0 and isinstance(nb_of_steps, int)\n",
    "            self._training_steps_per_gate = nb_of_steps\n",
    "        except AssertionError:\n",
    "            raise ValueError(\"Training steps number should be positive integer.\")\n",
    "\n",
    "    def episode_length(self, global_step: int) -> int:\n",
    "        # assert (\n",
    "        #         global_step == self.step_tracker\n",
    "        # ), \"Given step not synchronized with internal environment step counter\"\n",
    "        return 1 + self.trunc_index\n",
    "\n",
    "    def clear_history(self) -> None:\n",
    "        \"\"\"Reset all counters related to training\"\"\"\n",
    "        super().clear_history()\n",
    "        self.circuit_fidelity_history.clear()\n",
    "        self.discrete_reward_history = np.ones_like(self.discrete_reward_history)\n"
   ]
  },
  {
   "cell_type": "code",
   "execution_count": 13,
   "metadata": {},
   "outputs": [
    {
     "name": "stdout",
     "output_type": "stream",
     "text": [
      "\n",
      " NoiseModel:\n",
      "  Basis gates: ['cx', 'id', 'rz', 'sx', 'unitary']\n",
      "  Instructions with noise: ['custom_kron(rx,ident)_gate']\n",
      "  Qubits with noise: [0, 1]\n",
      "  Specific qubit errors: [('custom_kron(rx,ident)_gate', (0, 1))] \n",
      "\n",
      "Circuit context\n",
      "                 ┌─────────────────────────────┐     \n",
      "        q_0 -> 0 ┤0                            ├──■──\n",
      "                 │  custom_kron(rx,ident)_gate │┌─┴─┐\n",
      "        q_1 -> 1 ┤1                            ├┤ X ├\n",
      "                 └─────────────────────────────┘└───┘\n",
      "  ancilla_0 -> 2 ────────────────────────────────────\n",
      "                                                     \n",
      "  ancilla_1 -> 3 ────────────────────────────────────\n",
      "                                                     \n",
      "  ancilla_2 -> 4 ────────────────────────────────────\n",
      "                                                     \n",
      "  ancilla_3 -> 5 ────────────────────────────────────\n",
      "                                                     \n",
      "  ancilla_4 -> 6 ────────────────────────────────────\n",
      "                                                     \n",
      "  ancilla_5 -> 7 ────────────────────────────────────\n",
      "                                                     \n",
      "  ancilla_6 -> 8 ────────────────────────────────────\n",
      "                                                     \n",
      "  ancilla_7 -> 9 ────────────────────────────────────\n",
      "                                                     \n",
      " ancilla_8 -> 10 ────────────────────────────────────\n",
      "                                                     \n",
      " ancilla_9 -> 11 ────────────────────────────────────\n",
      "                                                     \n",
      "ancilla_10 -> 12 ────────────────────────────────────\n",
      "                                                     \n",
      "ancilla_11 -> 13 ────────────────────────────────────\n",
      "                                                     \n",
      "ancilla_12 -> 14 ────────────────────────────────────\n",
      "                                                     \n",
      "ancilla_13 -> 15 ────────────────────────────────────\n",
      "                                                     \n",
      "ancilla_14 -> 16 ────────────────────────────────────\n",
      "                                                     \n",
      "ancilla_15 -> 17 ────────────────────────────────────\n",
      "                                                     \n",
      "ancilla_16 -> 18 ────────────────────────────────────\n",
      "                                                     \n",
      "ancilla_17 -> 19 ────────────────────────────────────\n",
      "                                                     \n",
      "ancilla_18 -> 20 ────────────────────────────────────\n",
      "                                                     \n",
      "ancilla_19 -> 21 ────────────────────────────────────\n",
      "                                                     \n",
      "ancilla_20 -> 22 ────────────────────────────────────\n",
      "                                                     \n",
      "ancilla_21 -> 23 ────────────────────────────────────\n",
      "                                                     \n",
      "ancilla_22 -> 24 ────────────────────────────────────\n",
      "                                                     \n",
      "ancilla_23 -> 25 ────────────────────────────────────\n",
      "                                                     \n",
      "ancilla_24 -> 26 ────────────────────────────────────\n",
      "                                                     \n",
      "ancilla_25 -> 27 ────────────────────────────────────\n",
      "                                                     \n",
      "ancilla_26 -> 28 ────────────────────────────────────\n",
      "                                                     \n",
      "Observation Vals: [-1.    -0.875 -0.75  -0.625 -0.5   -0.375 -0.25  -0.125  0.     0.125\n",
      "  0.25   0.375  0.5    0.625  0.75   0.875  1.   ]\n"
     ]
    },
    {
     "name": "stderr",
     "output_type": "stream",
     "text": [
      "/Users/chatt07/Desktop/new_context_env/lib/python3.9/site-packages/qiskit_aer/noise/noise_model.py:379: UserWarning: Qiskit backend AerSimulator('aer_simulator'\n",
      "             noise_model=<NoiseModel on ['custom_kron(rx,ident)_gate']>) has no QubitProperties, so the resulting noise model will not include any thermal relaxation errors.\n",
      "  warn(\n",
      "/Users/chatt07/Desktop/new_context_env/lib/python3.9/site-packages/qiskit_aer/noise/noise_model.py:379: UserWarning: Qiskit backend AerSimulator('aer_simulator'\n",
      "             noise_model=<NoiseModel on ['custom_kron(rx,ident)_gate']>) has no QubitProperties, so the resulting noise model will not include any thermal relaxation errors.\n",
      "  warn(\n"
     ]
    }
   ],
   "source": [
    "import numpy as np\n",
    "\n",
    "q_env = GeneralNoiseQuantumEnvironment(\n",
    "    params,\n",
    "    backend_params,\n",
    "    runtime_options,\n",
    "    apply_parametrized_circuit,\n",
    "    get_backend_parametrised,\n",
    "    get_parameterised_circuit_context,\n",
    "    get_instruction_durations,\n",
    "    gamma=0.3,\n",
    "    circuit_param_distribution=\"moving_discrete\",\n",
    "    phi_low=-np.pi,\n",
    "    phi_max=+np.pi,\n",
    "    optimal_error_precision=1e-4,\n",
    "    num_params=17,\n",
    "    discrete_history_length=3,\n",
    ")"
   ]
  },
  {
   "cell_type": "code",
   "execution_count": 14,
   "metadata": {},
   "outputs": [
    {
     "name": "stdout",
     "output_type": "stream",
     "text": [
      "[[-0.875]]\n",
      "Fidelity stored 0.8394003544926455\n",
      "(1, 1)\n",
      "(32,)\n",
      "[[-0.875]]\n"
     ]
    },
    {
     "name": "stderr",
     "output_type": "stream",
     "text": [
      "/Users/chatt07/Desktop/new_context_env/lib/python3.9/site-packages/qiskit_aer/noise/noise_model.py:379: UserWarning: Qiskit backend AerSimulator('aer_simulator'\n",
      "             noise_model=<NoiseModel on ['custom_kron(rx,ident)_gate']>) has no QubitProperties, so the resulting noise model will not include any thermal relaxation errors.\n",
      "  warn(\n",
      "/Users/chatt07/Desktop/new_context_env/lib/python3.9/site-packages/qiskit_aer/noise/noise_model.py:379: UserWarning: Qiskit backend AerSimulator('aer_simulator'\n",
      "             noise_model=<NoiseModel on ['custom_kron(rx,ident)_gate']>) has no QubitProperties, so the resulting noise model will not include any thermal relaxation errors.\n",
      "  warn(\n"
     ]
    }
   ],
   "source": [
    "import numpy as np\n",
    "zeros_action = np.zeros((32, 7))\n",
    "\n",
    "next_obs, _ = q_env.reset(seed=1)\n",
    "print(next_obs)\n",
    "obs, reward, terminated, truncated, info = q_env.step(zeros_action)\n",
    "print(obs)"
   ]
  },
  {
   "cell_type": "code",
   "execution_count": 15,
   "metadata": {},
   "outputs": [
    {
     "name": "stdout",
     "output_type": "stream",
     "text": [
      "(17,)\n"
     ]
    }
   ],
   "source": [
    "print(q_env.discrete_obs_vals.shape)"
   ]
  },
  {
   "cell_type": "code",
   "execution_count": 16,
   "metadata": {},
   "outputs": [
    {
     "name": "stdout",
     "output_type": "stream",
     "text": [
      "[5. 1. 1.]\n"
     ]
    }
   ],
   "source": [
    "d_history = q_env.discrete_reward_history\n",
    "\n",
    "reward = 5\n",
    "obs_ind = 10\n",
    "\n",
    "d_history[:, obs_ind] = np.append([reward], d_history[:-1, obs_ind])\n",
    "print(d_history[:, obs_ind])"
   ]
  },
  {
   "cell_type": "code",
   "execution_count": 17,
   "metadata": {},
   "outputs": [
    {
     "data": {
      "image/png": "[encoded data removed]",
      "text/plain": [
       "<Figure size 978.625x200.667 with 1 Axes>"
      ]
     },
     "execution_count": 17,
     "metadata": {},
     "output_type": "execute_result"
    }
   ],
   "source": [
    "q_env.unwrapped.circuits[0].draw(\"mpl\")"
   ]
  },
  {
   "cell_type": "code",
   "execution_count": 18,
   "metadata": {},
   "outputs": [
    {
     "name": "stdout",
     "output_type": "stream",
     "text": [
      "[0.09090909 0.09090909 0.09090909 0.09090909 0.09090909 0.09090909\n",
      " 0.09090909 0.09090909 0.09090909 0.09090909 0.09090909]\n",
      "[-1.  -0.8 -0.6 -0.4 -0.2  0.   0.2  0.4  0.6  0.8  1. ]\n",
      "[170 169 175 193 195 186 186 204 158 180 184]\n"
     ]
    },
    {
     "data": {
      "image/png": "[encoded data removed]",
      "text/plain": [
       "<Figure size 640x480 with 1 Axes>"
      ]
     },
     "metadata": {},
     "output_type": "display_data"
    }
   ],
   "source": [
    "import numpy as np\n",
    "import matplotlib.pyplot as plt\n",
    "\n",
    "num_params = 11\n",
    "batchsize = 2000\n",
    "\n",
    "prob_weights = np.ones(num_params) / num_params\n",
    "print(prob_weights)\n",
    "vals = np.linspace(-1., 1., num_params)\n",
    "print(vals)\n",
    "\n",
    "np.random.seed(seed=3)\n",
    "prob_distr = np.random.choice(vals, size=batchsize, p=prob_weights, replace=True)\n",
    "unique_vals, counts = np.unique(prob_distr, return_counts=True)\n",
    "print(counts)\n",
    "\n",
    "plt.hist(prob_distr)\n",
    "plt.show()"
   ]
  },
  {
   "cell_type": "code",
   "execution_count": 19,
   "metadata": {},
   "outputs": [],
   "source": [
    "# Adapted from CleanRL ppo_continuous_action.py\n",
    "import random\n",
    "import time\n",
    "from typing import Optional, Dict\n",
    "\n",
    "import numpy as np\n",
    "import matplotlib.pyplot as plt\n",
    "from matplotlib.ticker import MaxNLocator\n",
    "from IPython.display import clear_output\n",
    "import torch\n",
    "import torch.nn as nn\n",
    "import torch.optim as optim\n",
    "from torch.distributions.normal import Normal\n",
    "from torch.utils.tensorboard import SummaryWriter\n",
    "\n",
    "from rl_qoc.base_q_env import BaseQuantumEnvironment\n",
    "\n",
    "\n",
    "def layer_init(layer, std=np.sqrt(2), bias_const=0.0):\n",
    "    torch.nn.init.orthogonal_(layer.weight, std)\n",
    "    # torch.nn.init.zeros_(layer.weight)\n",
    "    torch.nn.init.constant_(layer.bias, bias_const)\n",
    "    return layer\n",
    "\n",
    "\n",
    "def plot_curves(env: BaseQuantumEnvironment):\n",
    "    \"\"\"\n",
    "    Plots the reward history and fidelity history of the environment\n",
    "    \"\"\"\n",
    "    fidelity_range = [i * env.benchmark_cycle for i in range(len(env.fidelity_history))]\n",
    "\n",
    "    fig, ax = plt.subplots(4, figsize=(8.0, 6.0 * 4))\n",
    "\n",
    "    ax[0].plot(np.mean(env.reward_history, axis=1), label=\"Reward\")\n",
    "    ax[0].plot(\n",
    "        fidelity_range,\n",
    "        env.fidelity_history,\n",
    "        label=f\"Circuit Fidelity\",\n",
    "    )\n",
    "\n",
    "    ax[0].set_title(\"Reward History\")\n",
    "    ax[0].legend()\n",
    "    ax[0].set_xlabel(\"Iteration\")\n",
    "    ax[0].set_ylabel(\"Reward\")\n",
    "    # Ensure integer ticks on the x-axis\n",
    "    plt.gca().xaxis.set_major_locator(MaxNLocator(integer=True))\n",
    "\n",
    "    ax[1].plot(np.mean(env.rl_reward_history, axis=1), label=\"RL Reward\")\n",
    "\n",
    "    ax[1].set_title(\"RL Reward History\")\n",
    "    ax[1].legend()\n",
    "    ax[1].set_xlabel(\"Iteration\")\n",
    "    ax[1].set_ylabel(\"RL Reward\")\n",
    "    # Ensure integer ticks on the x-axis\n",
    "    plt.gca().xaxis.set_major_locator(MaxNLocator(integer=True))\n",
    "\n",
    "    ax[2].errorbar(env.discrete_obs_vals, np.mean(env.discrete_reward_history, axis=0), yerr=np.std(env.discrete_reward_history, axis=0), label=\"Reward History\")\n",
    "    ax[2].legend()\n",
    "    ax[2].set_xlabel(\"Obs Val\")\n",
    "    ax[2].set_ylabel('Reward')\n",
    "\n",
    "    ax[3].scatter(env.discrete_obs_vals, env.prob_weights, label='Probability Distribution Weights')\n",
    "    ax[3].legend()\n",
    "    ax[3].set_xlabel(\"Obs Val\")\n",
    "    ax[3].set_ylabel('Probability')\n",
    "\n",
    "    plt.show()\n",
    "\n",
    "\n",
    "class Agent(nn.Module):\n",
    "    def __init__(self, env, use_combined_networks, activation_function_str, layer_size, robust_ppo):\n",
    "        super().__init__()\n",
    "        self.use_combined_networks = use_combined_networks\n",
    "        self.robust_ppo = robust_ppo\n",
    "        if activation_function_str == \"tanh\":\n",
    "            self.activation_fn = nn.Tanh\n",
    "        elif activation_function_str == \"relu\":\n",
    "            self.activation_fn = nn.ReLU\n",
    "        elif activation_function_str == \"gelu\":\n",
    "            self.activation_fn = nn.GELU\n",
    "        elif activation_function_str == \"leaky_relu\":\n",
    "            self.activation_fn = nn.LeakyReLU\n",
    "        elif activation_function_str == \"elu\":\n",
    "            self.activation_fn = nn.ELU\n",
    "        if not self.use_combined_networks:\n",
    "            self.critic = nn.Sequential(\n",
    "                layer_init(\n",
    "                    nn.Linear(np.array(env.observation_space.shape).prod(), layer_size)\n",
    "                ),\n",
    "                self.activation_fn(),\n",
    "                layer_init(nn.Linear(layer_size, layer_size)),\n",
    "                self.activation_fn(),\n",
    "                layer_init(nn.Linear(layer_size, 1), std=1.0),\n",
    "            )\n",
    "            self.actor_mean = nn.Sequential(\n",
    "                layer_init(\n",
    "                    nn.Linear(np.array(env.observation_space.shape).prod(), layer_size)\n",
    "                ),\n",
    "                self.activation_fn(),\n",
    "                layer_init(nn.Linear(layer_size, layer_size)),\n",
    "                self.activation_fn(),\n",
    "                layer_init(nn.Linear(layer_size, np.prod(env.action_space.shape)), std=0.01),\n",
    "            )\n",
    "            self.actor_logstd = nn.Parameter(\n",
    "                torch.zeros(1, np.prod(env.action_space.shape))\n",
    "            )\n",
    "        if self.use_combined_networks:\n",
    "            self.main_network = nn.Sequential(\n",
    "                layer_init(\n",
    "                    nn.Linear(np.array(env.observation_space.shape).prod(), layer_size)\n",
    "                ),\n",
    "                self.activation_fn(),\n",
    "                layer_init(nn.Linear(layer_size, layer_size)),\n",
    "                self.activation_fn(),\n",
    "            )\n",
    "            self.actor_mean = nn.Sequential(\n",
    "                self.main_network,\n",
    "                layer_init(nn.Linear(layer_size, np.prod(env.action_space.shape)), std=0.01),\n",
    "                self.activation_fn(),\n",
    "            )\n",
    "            self.actor_std = nn.Sequential(\n",
    "                self.main_network,\n",
    "                layer_init(nn.Linear(layer_size, np.prod(env.action_space.shape)), std=0.01),\n",
    "                nn.Sigmoid(),\n",
    "            )\n",
    "            self.critic = nn.Sequential(\n",
    "                self.main_network,\n",
    "                layer_init(nn.Linear(layer_size, 1), std=1.0),\n",
    "            )\n",
    "            self.actor_logstd = nn.Parameter(\n",
    "                torch.zeros(1, np.prod(env.action_space.shape))\n",
    "            )\n",
    "\n",
    "    def get_value(self, x):\n",
    "        return self.critic(x)\n",
    "\n",
    "    def get_action_and_value(self, x, action=None):\n",
    "        action_mean = self.actor_mean(x)\n",
    "        # action_logstd = self.actor_logstd.expand_as(action_mean)\n",
    "        # action_std = torch.exp(action_logstd)\n",
    "        if self.use_combined_networks:\n",
    "            action_std = self.actor_std(x)\n",
    "        else:\n",
    "            action_logstd = self.actor_logstd.expand_as(action_mean)\n",
    "            action_std = torch.exp(action_logstd)\n",
    "        probs = Normal(action_mean, action_std)\n",
    "        if action is None:\n",
    "            action = probs.sample()\n",
    "        return (\n",
    "            action,\n",
    "            probs.log_prob(action).sum(1),\n",
    "            probs.entropy().sum(1),\n",
    "            self.critic(x),\n",
    "        )\n",
    "\n",
    "\n",
    "class PPO_CleanRL:\n",
    "    def __init__(\n",
    "        self,\n",
    "        agent_config: Dict,\n",
    "        env: BaseQuantumEnvironment,\n",
    "        chkpt_dir: Optional[str] = \"tmp/ppo\",\n",
    "        chkpt_dir_critic: Optional[str] = \"tmp/critic_ppo\",\n",
    "    ):\n",
    "        # General Run Params\n",
    "        self.agent_config = agent_config\n",
    "        self.exp_name = self.agent_config[\"exp_name\"]\n",
    "        self.seed = self.agent_config[\"seed\"]\n",
    "        self.torch_deterministic = self.agent_config[\"torch_deterministic\"]\n",
    "        self.cuda = self.agent_config[\"cuda\"]\n",
    "        self.track = self.agent_config[\"track\"]\n",
    "        self.wandb_project_name = self.agent_config[\"wandb_project_name\"]\n",
    "        self.wandb_entity = self.agent_config[\"wandb_entity\"]\n",
    "        self.save_model = self.agent_config[\"save_model\"]\n",
    "        self.plot_real_time = self.agent_config[\"plot_real_time\"]\n",
    "        self.num_prints = self.agent_config[\"num_prints\"]\n",
    "\n",
    "        # PPO Specific Params\n",
    "        self.num_updates = self.agent_config[\"total_updates\"]\n",
    "        self.learning_rate = self.agent_config[\"learning_rate\"]\n",
    "        self.num_envs = self.agent_config[\"num_envs\"]\n",
    "        self.num_steps = self.agent_config[\"num_steps\"]\n",
    "        self.anneal_lr = self.agent_config[\"anneal_lr\"]\n",
    "        self.anneal_num_updates = self.agent_config[\"anneal_num_updates\"]\n",
    "        self.exp_anneal_lr = self.agent_config[\"exp_anneal_lr\"]\n",
    "        self.exp_update_time = self.agent_config[\"exp_update_time\"]\n",
    "        self.plateau_lr = self.agent_config[\"plateau_lr\"]\n",
    "        self.gamma = self.agent_config[\"gamma\"]\n",
    "        self.gae_lambda = self.agent_config[\"gae_lambda\"]\n",
    "        self.num_minibatches = self.agent_config[\"num_minibatches\"]\n",
    "        self.update_epochs = self.agent_config[\"update_epochs\"]\n",
    "        self.norm_adv = self.agent_config[\"norm_adv\"]\n",
    "        self.activation_function_str = self.agent_config[\"activation_function_str\"]\n",
    "        self.use_combined_networks = self.agent_config[\"use_combined_networks\"]\n",
    "        self.layer_size = self.agent_config[\"layer_size\"]\n",
    "        self.clip_coef = self.agent_config[\"clip_coef\"]\n",
    "        self.clip_vloss = self.agent_config[\"clip_vloss\"]\n",
    "        self.ent_coef = self.agent_config[\"ent_coef\"]\n",
    "        self.vf_coef = self.agent_config[\"vf_coef\"]\n",
    "        self.max_grad_norm = self.agent_config[\"max_grad_norm\"]\n",
    "        self.target_kl = self.agent_config[\"target_kl\"]\n",
    "        self.robust_ppo = self.agent_config[\"robust_ppo\"]\n",
    "\n",
    "        self.batch_size = int(self.num_envs * self.num_steps)\n",
    "        self.minibatch_size = int(self.batch_size // self.num_minibatches)\n",
    "\n",
    "        assert self.anneal_lr + self.exp_anneal_lr, \"Learning Rate Combination doesn't work\"\n",
    "\n",
    "        self.run_name = f\"PPO_CleanRL__{self.exp_name}__{self.seed}__{int(time.time())}\"\n",
    "\n",
    "        if self.track:\n",
    "            import wandb\n",
    "\n",
    "            wandb.init(\n",
    "                project=self.wandb_project_name,\n",
    "                entity=self.wandb_entity,\n",
    "                sync_tensorboard=True,\n",
    "                config=self.agent_config,\n",
    "                name=self.run_name,\n",
    "                monitor_gym=True,\n",
    "                save_code=True,\n",
    "            )\n",
    "        self.writer = SummaryWriter(f\"runs/{self.run_name}\")\n",
    "        self.writer.add_text(\n",
    "            \"hyperparameters\",\n",
    "            \"|param|value|\\n|-|-|\\n%s\"\n",
    "            % (\n",
    "                \"\\n\".join(\n",
    "                    [f\"|{key}|{value}|\" for key, value in self.agent_config.items()]\n",
    "                )\n",
    "            ),\n",
    "        )\n",
    "\n",
    "        # TRY NOT TO MODIFY: seeding\n",
    "        random.seed(self.seed)\n",
    "        np.random.seed(self.seed)\n",
    "        torch.manual_seed(self.seed)\n",
    "        torch.backends.cudnn.deterministic = self.torch_deterministic\n",
    "\n",
    "        self.device = torch.device(\n",
    "            \"cuda\" if torch.cuda.is_available() and self.cuda else \"cpu\"\n",
    "        )\n",
    "\n",
    "        self.env = env\n",
    "\n",
    "        self.agent = Agent(\n",
    "            self.env,\n",
    "            self.use_combined_networks,\n",
    "            self.activation_function_str,\n",
    "            self.layer_size,\n",
    "            self.robust_ppo\n",
    "        ).to(self.device)\n",
    "        self.optimizer = optim.Adam(\n",
    "            self.agent.parameters(), lr=self.learning_rate, eps=1e-5\n",
    "        )\n",
    "\n",
    "    def run_training(self):\n",
    "        # ALGO Logic: Storage setup\n",
    "        self.obs = torch.zeros(\n",
    "            (self.num_steps, self.num_envs) + self.env.observation_space.shape\n",
    "        ).to(self.device)\n",
    "        self.actions = torch.zeros(\n",
    "            (self.num_steps, self.num_envs) + self.env.action_space.shape\n",
    "        ).to(self.device)\n",
    "        self.logprobs = torch.zeros((self.num_steps, self.num_envs)).to(self.device)\n",
    "        self.rewards = torch.zeros((self.num_steps, self.num_envs)).to(self.device)\n",
    "        self.dones = torch.zeros((self.num_steps, self.num_envs)).to(self.device)\n",
    "        self.values = torch.zeros((self.num_steps, self.num_envs)).to(self.device)\n",
    "\n",
    "        # TRY NOT TO MODIFY: start the game\n",
    "        global_step = 0\n",
    "        start_time = time.time()\n",
    "        next_obs, _ = self.env.reset(seed=self.seed)\n",
    "        next_obs = np.tile(next_obs, (self.num_envs, 1))\n",
    "        next_obs = torch.Tensor(next_obs).to(self.device)\n",
    "        next_done = torch.zeros(self.num_envs).to(self.device)\n",
    "\n",
    "        for update in range(1, self.num_updates + 1):\n",
    "            # Annealing the Learning Rate\n",
    "            if self.anneal_lr or self.exp_anneal_lr:\n",
    "                if self.anneal_lr:\n",
    "                    frac = 1.0 - (update - 1.0) / self.anneal_num_updates\n",
    "                    lrnow = np.clip(frac, a_min=0., a_max=None) * self.learning_rate + self.plateau_lr\n",
    "                    self.optimizer.param_groups[0][\"lr\"] = lrnow\n",
    "                if self.exp_anneal_lr:\n",
    "                    lrnow = self.learning_rate * np.exp(-update / self.exp_update_time) + self.plateau_lr\n",
    "                    self.optimizer.param_groups[0][\"lr\"] = lrnow\n",
    "\n",
    "            for step in range(0, self.num_steps):\n",
    "                global_step += self.num_envs\n",
    "                self.obs[step] = next_obs\n",
    "                self.dones[step] = next_done\n",
    "\n",
    "                # ALGO LOGIC: action logic\n",
    "                with torch.no_grad():\n",
    "                    action, logprob, _, value = self.agent.get_action_and_value(\n",
    "                        next_obs\n",
    "                    )\n",
    "                    self.values[step] = value.flatten()\n",
    "                self.actions[step] = action\n",
    "                self.logprobs[step] = logprob\n",
    "\n",
    "                # TRY NOT TO MODIFY: execute the game and log data.\n",
    "                cpu_action = action.cpu().numpy()\n",
    "                cpu_action = np.clip(\n",
    "                    cpu_action,\n",
    "                    self.env.action_space.low,\n",
    "                    self.env.action_space.high,\n",
    "                )\n",
    "\n",
    "                next_obs, reward, terminations, truncations, infos = self.env.step(\n",
    "                    cpu_action\n",
    "                )\n",
    "                print(f\"Mean Action: {np.mean(cpu_action, axis=0)}\")\n",
    "                next_obs = np.tile(next_obs, (self.num_envs, 1))\n",
    "                next_done = np.logical_or(terminations, truncations)\n",
    "                if next_done:\n",
    "                    next_obs, _ = self.env.reset(seed=self.seed)\n",
    "                    next_obs = np.tile(next_obs, (self.num_envs, 1))\n",
    "                self.rewards[step] = torch.tensor(reward).to(self.device).view(-1)\n",
    "                next_obs, next_done = torch.Tensor(next_obs).to(\n",
    "                    self.device\n",
    "                ), torch.Tensor(next_done).to(self.device)\n",
    "\n",
    "                if \"final_info\" in infos:\n",
    "                    for info in infos[\"final_info\"]:\n",
    "                        if info and \"episode\" in info:\n",
    "                            print(\n",
    "                                f\"global_step={global_step}, episodic_return={info['episode']['r']}\"\n",
    "                            )\n",
    "                            self.writer.add_scalar(\n",
    "                                \"charts/episodic_return\",\n",
    "                                info[\"episode\"][\"r\"],\n",
    "                                global_step,\n",
    "                            )\n",
    "                            self.writer.add_scalar(\n",
    "                                \"charts/episodic_length\",\n",
    "                                info[\"episode\"][\"l\"],\n",
    "                                global_step,\n",
    "                            )\n",
    "\n",
    "            # bootstrap value if not done\n",
    "            with torch.no_grad():\n",
    "                next_value = self.agent.get_value(next_obs).reshape(1, -1)\n",
    "                advantages = torch.zeros_like(self.rewards).to(self.device)\n",
    "                lastgaelam = 0\n",
    "                for t in reversed(range(self.num_steps)):\n",
    "                    if t == self.num_steps - 1:\n",
    "                        nextnonterminal = 1.0 - next_done\n",
    "                        nextvalues = next_value\n",
    "                    else:\n",
    "                        nextnonterminal = 1.0 - self.dones[t + 1]\n",
    "                        nextvalues = self.values[t + 1]\n",
    "                    delta = (\n",
    "                        self.rewards[t]\n",
    "                        + self.gamma * nextvalues * nextnonterminal\n",
    "                        - self.values[t]\n",
    "                    )\n",
    "                    advantages[t] = lastgaelam = (\n",
    "                        delta\n",
    "                        + self.gamma * self.gae_lambda * nextnonterminal * lastgaelam\n",
    "                    )\n",
    "                returns = advantages + self.values\n",
    "\n",
    "            # flatten the batch\n",
    "            b_obs = self.obs.reshape((-1,) + self.env.observation_space.shape)\n",
    "            b_logprobs = self.logprobs.reshape(-1)\n",
    "            b_actions = self.actions.reshape((-1,) + self.env.action_space.shape)\n",
    "            b_advantages = advantages.reshape(-1)\n",
    "            b_returns = returns.reshape(-1)\n",
    "            b_values = self.values.reshape(-1)\n",
    "\n",
    "            # Optimizing the policy and value network\n",
    "            b_inds = np.arange(self.batch_size)\n",
    "            clipfracs = []\n",
    "            for epoch in range(self.update_epochs):\n",
    "                np.random.shuffle(b_inds)\n",
    "                for start in range(0, self.batch_size, self.minibatch_size):\n",
    "                    end = start + self.minibatch_size\n",
    "                    mb_inds = b_inds[start:end]\n",
    "\n",
    "                    _, newlogprob, entropy, newvalue = self.agent.get_action_and_value(\n",
    "                        b_obs[mb_inds], b_actions[mb_inds]\n",
    "                    )\n",
    "                    logratio = newlogprob - b_logprobs[mb_inds]\n",
    "                    ratio = logratio.exp()\n",
    "\n",
    "                    with torch.no_grad():\n",
    "                        # calculate approx_kl http://joschu.net/blog/kl-approx.html\n",
    "                        old_approx_kl = (-logratio).mean()\n",
    "                        approx_kl = ((ratio - 1) - logratio).mean()\n",
    "                        clipfracs += [\n",
    "                            ((ratio - 1.0).abs() > self.clip_coef).float().mean().item()\n",
    "                        ]\n",
    "\n",
    "                    mb_advantages = b_advantages[mb_inds]\n",
    "                    if self.norm_adv:\n",
    "                        mb_advantages = (mb_advantages - mb_advantages.mean()) / (\n",
    "                            mb_advantages.std() + 1e-8\n",
    "                        )\n",
    "\n",
    "                    # Policy loss\n",
    "                    pg_loss1 = -mb_advantages * ratio\n",
    "                    pg_loss2 = -mb_advantages * torch.clamp(\n",
    "                        ratio, 1 - self.clip_coef, 1 + self.clip_coef\n",
    "                    )\n",
    "                    pg_loss = torch.max(pg_loss1, pg_loss2).mean()\n",
    "\n",
    "                    # Value loss\n",
    "                    newvalue = newvalue.view(-1)\n",
    "                    if self.clip_vloss:\n",
    "                        v_loss_unclipped = (newvalue - b_returns[mb_inds]) ** 2\n",
    "                        v_clipped = b_values[mb_inds] + torch.clamp(\n",
    "                            newvalue - b_values[mb_inds],\n",
    "                            -self.clip_coef,\n",
    "                            self.clip_coef,\n",
    "                        )\n",
    "                        v_loss_clipped = (v_clipped - b_returns[mb_inds]) ** 2\n",
    "                        v_loss_max = torch.max(v_loss_unclipped, v_loss_clipped)\n",
    "                        v_loss = 0.5 * v_loss_max.mean()\n",
    "                    else:\n",
    "                        v_loss = 0.5 * ((newvalue - b_returns[mb_inds]) ** 2).mean()\n",
    "\n",
    "                    entropy_loss = entropy.mean()\n",
    "                    loss = (\n",
    "                        pg_loss - self.ent_coef * entropy_loss + v_loss * self.vf_coef\n",
    "                    )\n",
    "\n",
    "                    self.optimizer.zero_grad()\n",
    "                    loss.backward()\n",
    "                    nn.utils.clip_grad_norm_(\n",
    "                        self.agent.parameters(), self.max_grad_norm\n",
    "                    )\n",
    "                    self.optimizer.step()\n",
    "\n",
    "                if self.target_kl is not None and approx_kl > self.target_kl:\n",
    "                    break\n",
    "\n",
    "            y_pred, y_true = b_values.cpu().numpy(), b_returns.cpu().numpy()\n",
    "            var_y = np.var(y_true)\n",
    "            explained_var = (\n",
    "                np.nan if var_y == 0 else 1 - np.var(y_true - y_pred) / var_y\n",
    "            )\n",
    "\n",
    "            # TRY NOT TO MODIFY: record rewards for plotting purposes\n",
    "            self.writer.add_scalar(\n",
    "                \"charts/learning_rate\",\n",
    "                self.optimizer.param_groups[0][\"lr\"],\n",
    "                global_step,\n",
    "            )\n",
    "            self.writer.add_scalar(\"losses/value_loss\", v_loss.item(), global_step)\n",
    "            self.writer.add_scalar(\"losses/policy_loss\", pg_loss.item(), global_step)\n",
    "            self.writer.add_scalar(\"losses/entropy\", entropy_loss.item(), global_step)\n",
    "            self.writer.add_scalar(\n",
    "                \"losses/old_approx_kl\", old_approx_kl.item(), global_step\n",
    "            )\n",
    "            self.writer.add_scalar(\"losses/approx_kl\", approx_kl.item(), global_step)\n",
    "            self.writer.add_scalar(\"losses/clipfrac\", np.mean(clipfracs), global_step)\n",
    "            self.writer.add_scalar(\n",
    "                \"losses/explained_variance\", explained_var, global_step\n",
    "            )\n",
    "            print(\"SPS:\", int(global_step / (time.time() - start_time)))\n",
    "            self.writer.add_scalar(\n",
    "                \"charts/SPS\", int(global_step / (time.time() - start_time)), global_step\n",
    "            )\n",
    "\n",
    "            if global_step % self.num_prints == 0:\n",
    "                clear_output(wait=True)\n",
    "                if self.plot_real_time:\n",
    "                    plot_curves(self.env.unwrapped)\n",
    "\n",
    "        if self.save_model:\n",
    "            model_path = f\"runs/{self.run_name}/{self.exp_name}.cleanrl_model\"\n",
    "            torch.save(self.agent.state_dict(), model_path)\n",
    "            print(f\"model saved to {model_path}\")\n",
    "\n",
    "        self.env.close()\n",
    "        self.writer.close()"
   ]
  },
  {
   "cell_type": "code",
   "execution_count": 20,
   "metadata": {},
   "outputs": [],
   "source": [
    "agent_config = {\n",
    "    \"exp_name\": \"Test PPO CleanRL\",\n",
    "    \"seed\": 1,\n",
    "    \"torch_deterministic\": True,\n",
    "    \"cuda\": False,\n",
    "    \"track\": False,\n",
    "    \"wandb_project_name\": \"Context Aware Calibrations\",\n",
    "    \"wandb_entity\": None,\n",
    "    \"save_model\": True,\n",
    "    \"plot_real_time\": True,\n",
    "    \"num_prints\": 5,\n",
    "    \"total_updates\": 600,\n",
    "    \"learning_rate\": 3e-5,\n",
    "    \"num_envs\": 32,\n",
    "    \"num_steps\": 1,\n",
    "    \"anneal_lr\": True,\n",
    "    \"anneal_num_updates\": 400,\n",
    "    \"exp_anneal_lr\": False,\n",
    "    \"exp_update_time\": 100,\n",
    "    \"plateau_lr\": 1e-6,\n",
    "    \"gamma\": 0.99,\n",
    "    \"gae_lambda\": 0.95,\n",
    "    \"num_minibatches\": 4,\n",
    "    \"update_epochs\": 8,\n",
    "    \"norm_adv\": True,\n",
    "    \"activation_function_str\": \"tanh\",\n",
    "    \"use_combined_networks\": True,\n",
    "    \"layer_size\": 64,\n",
    "    \"clip_coef\": 0.2,\n",
    "    \"clip_vloss\": True,\n",
    "    \"ent_coef\": 0.,\n",
    "    \"vf_coef\": 0.5,\n",
    "    \"max_grad_norm\": 0.5,\n",
    "    \"target_kl\": None,\n",
    "    \"robust_ppo\": False,\n",
    "}\n",
    "\n",
    "ppo_agent = PPO_CleanRL(agent_config, q_env)"
   ]
  },
  {
   "cell_type": "code",
   "execution_count": 21,
   "metadata": {},
   "outputs": [
    {
     "name": "stdout",
     "output_type": "stream",
     "text": [
      "(3, 17)\n",
      "[1.         0.93141847 1.         1.         1.         1.\n",
      " 1.         1.         1.         1.         2.33333333 1.\n",
      " 1.         1.         1.         1.         1.        ]\n",
      "(17,)\n",
      "[-3.14 -3.14 -3.14 -3.14 -3.14 -3.14 -3.14]\n"
     ]
    }
   ],
   "source": [
    "print(ppo_agent.env.discrete_reward_history.shape)\n",
    "print(np.mean(ppo_agent.env.discrete_reward_history, axis=0))\n",
    "print(ppo_agent.env.discrete_obs_vals.shape)\n",
    "print(ppo_agent.env.action_space.low)"
   ]
  },
  {
   "cell_type": "code",
   "execution_count": 22,
   "metadata": {},
   "outputs": [
    {
     "data": {
      "image/png": "[encoded data removed]",
      "text/plain": [
       "<Figure size 800x2400 with 4 Axes>"
      ]
     },
     "metadata": {},
     "output_type": "display_data"
    },
    {
     "name": "stdout",
     "output_type": "stream",
     "text": [
      "model saved to runs/PPO_CleanRL__Test PPO CleanRL__1__1724204973/Test PPO CleanRL.cleanrl_model\n"
     ]
    }
   ],
   "source": [
    "q_env.clear_history()\n",
    "ppo_agent.run_training()"
   ]
  },
  {
   "cell_type": "code",
   "execution_count": 23,
   "metadata": {},
   "outputs": [
    {
     "name": "stdout",
     "output_type": "stream",
     "text": [
      "[-1.    -0.875 -0.75  -0.625 -0.5   -0.375 -0.25  -0.125  0.     0.125\n",
      "  0.25   0.375  0.5    0.625  0.75   0.875  1.   ]\n"
     ]
    }
   ],
   "source": [
    "print(ppo_agent.env.discrete_obs_vals)"
   ]
  },
  {
   "cell_type": "code",
   "execution_count": 24,
   "metadata": {},
   "outputs": [
    {
     "name": "stderr",
     "output_type": "stream",
     "text": [
      "/Users/chatt07/Desktop/new_context_env/lib/python3.9/site-packages/qiskit_aer/noise/noise_model.py:379: UserWarning: Qiskit backend AerSimulator('aer_simulator'\n",
      "             noise_model=<NoiseModel on ['custom_kron(rx,ident)_gate']>) has no QubitProperties, so the resulting noise model will not include any thermal relaxation errors.\n",
      "  warn(\n",
      "/Users/chatt07/Desktop/new_context_env/lib/python3.9/site-packages/qiskit_aer/noise/noise_model.py:379: UserWarning: Qiskit backend AerSimulator('aer_simulator'\n",
      "             noise_model=<NoiseModel on ['custom_kron(rx,ident)_gate']>) has no QubitProperties, so the resulting noise model will not include any thermal relaxation errors.\n",
      "  warn(\n"
     ]
    },
    {
     "name": "stdout",
     "output_type": "stream",
     "text": [
      "Fidelity stored 0.9991098814879024\n",
      "(1,)\n",
      "(32,)\n"
     ]
    },
    {
     "name": "stderr",
     "output_type": "stream",
     "text": [
      "/Users/chatt07/Desktop/new_context_env/lib/python3.9/site-packages/qiskit_aer/noise/noise_model.py:379: UserWarning: Qiskit backend AerSimulator('aer_simulator'\n",
      "             noise_model=<NoiseModel on ['custom_kron(rx,ident)_gate']>) has no QubitProperties, so the resulting noise model will not include any thermal relaxation errors.\n",
      "  warn(\n",
      "/Users/chatt07/Desktop/new_context_env/lib/python3.9/site-packages/qiskit_aer/noise/noise_model.py:379: UserWarning: Qiskit backend AerSimulator('aer_simulator'\n",
      "             noise_model=<NoiseModel on ['custom_kron(rx,ident)_gate']>) has no QubitProperties, so the resulting noise model will not include any thermal relaxation errors.\n",
      "  warn(\n"
     ]
    },
    {
     "name": "stdout",
     "output_type": "stream",
     "text": [
      "Fidelity stored 0.9993526831500384\n",
      "(1,)\n",
      "(32,)\n"
     ]
    },
    {
     "name": "stderr",
     "output_type": "stream",
     "text": [
      "/Users/chatt07/Desktop/new_context_env/lib/python3.9/site-packages/qiskit_aer/noise/noise_model.py:379: UserWarning: Qiskit backend AerSimulator('aer_simulator'\n",
      "             noise_model=<NoiseModel on ['custom_kron(rx,ident)_gate']>) has no QubitProperties, so the resulting noise model will not include any thermal relaxation errors.\n",
      "  warn(\n",
      "/Users/chatt07/Desktop/new_context_env/lib/python3.9/site-packages/qiskit_aer/noise/noise_model.py:379: UserWarning: Qiskit backend AerSimulator('aer_simulator'\n",
      "             noise_model=<NoiseModel on ['custom_kron(rx,ident)_gate']>) has no QubitProperties, so the resulting noise model will not include any thermal relaxation errors.\n",
      "  warn(\n"
     ]
    },
    {
     "name": "stdout",
     "output_type": "stream",
     "text": [
      "Fidelity stored 0.9994870384067535\n",
      "(1,)\n",
      "(32,)\n"
     ]
    },
    {
     "name": "stderr",
     "output_type": "stream",
     "text": [
      "/Users/chatt07/Desktop/new_context_env/lib/python3.9/site-packages/qiskit_aer/noise/noise_model.py:379: UserWarning: Qiskit backend AerSimulator('aer_simulator'\n",
      "             noise_model=<NoiseModel on ['custom_kron(rx,ident)_gate']>) has no QubitProperties, so the resulting noise model will not include any thermal relaxation errors.\n",
      "  warn(\n",
      "/Users/chatt07/Desktop/new_context_env/lib/python3.9/site-packages/qiskit_aer/noise/noise_model.py:379: UserWarning: Qiskit backend AerSimulator('aer_simulator'\n",
      "             noise_model=<NoiseModel on ['custom_kron(rx,ident)_gate']>) has no QubitProperties, so the resulting noise model will not include any thermal relaxation errors.\n",
      "  warn(\n"
     ]
    },
    {
     "name": "stdout",
     "output_type": "stream",
     "text": [
      "Fidelity stored 0.9993436619301848\n",
      "(1,)\n",
      "(32,)\n"
     ]
    },
    {
     "name": "stderr",
     "output_type": "stream",
     "text": [
      "/Users/chatt07/Desktop/new_context_env/lib/python3.9/site-packages/qiskit_aer/noise/noise_model.py:379: UserWarning: Qiskit backend AerSimulator('aer_simulator'\n",
      "             noise_model=<NoiseModel on ['custom_kron(rx,ident)_gate']>) has no QubitProperties, so the resulting noise model will not include any thermal relaxation errors.\n",
      "  warn(\n",
      "/Users/chatt07/Desktop/new_context_env/lib/python3.9/site-packages/qiskit_aer/noise/noise_model.py:379: UserWarning: Qiskit backend AerSimulator('aer_simulator'\n",
      "             noise_model=<NoiseModel on ['custom_kron(rx,ident)_gate']>) has no QubitProperties, so the resulting noise model will not include any thermal relaxation errors.\n",
      "  warn(\n"
     ]
    },
    {
     "name": "stdout",
     "output_type": "stream",
     "text": [
      "Fidelity stored 0.9995819233201195\n",
      "(1,)\n",
      "(32,)\n"
     ]
    },
    {
     "name": "stderr",
     "output_type": "stream",
     "text": [
      "/Users/chatt07/Desktop/new_context_env/lib/python3.9/site-packages/qiskit_aer/noise/noise_model.py:379: UserWarning: Qiskit backend AerSimulator('aer_simulator'\n",
      "             noise_model=<NoiseModel on ['custom_kron(rx,ident)_gate']>) has no QubitProperties, so the resulting noise model will not include any thermal relaxation errors.\n",
      "  warn(\n",
      "/Users/chatt07/Desktop/new_context_env/lib/python3.9/site-packages/qiskit_aer/noise/noise_model.py:379: UserWarning: Qiskit backend AerSimulator('aer_simulator'\n",
      "             noise_model=<NoiseModel on ['custom_kron(rx,ident)_gate']>) has no QubitProperties, so the resulting noise model will not include any thermal relaxation errors.\n",
      "  warn(\n"
     ]
    },
    {
     "name": "stdout",
     "output_type": "stream",
     "text": [
      "Fidelity stored 0.9992867174368594\n",
      "(1,)\n",
      "(32,)\n"
     ]
    },
    {
     "name": "stderr",
     "output_type": "stream",
     "text": [
      "/Users/chatt07/Desktop/new_context_env/lib/python3.9/site-packages/qiskit_aer/noise/noise_model.py:379: UserWarning: Qiskit backend AerSimulator('aer_simulator'\n",
      "             noise_model=<NoiseModel on ['custom_kron(rx,ident)_gate']>) has no QubitProperties, so the resulting noise model will not include any thermal relaxation errors.\n",
      "  warn(\n",
      "/Users/chatt07/Desktop/new_context_env/lib/python3.9/site-packages/qiskit_aer/noise/noise_model.py:379: UserWarning: Qiskit backend AerSimulator('aer_simulator'\n",
      "             noise_model=<NoiseModel on ['custom_kron(rx,ident)_gate']>) has no QubitProperties, so the resulting noise model will not include any thermal relaxation errors.\n",
      "  warn(\n"
     ]
    },
    {
     "name": "stdout",
     "output_type": "stream",
     "text": [
      "Fidelity stored 0.9996172728049516\n",
      "(1,)\n",
      "(32,)\n"
     ]
    },
    {
     "name": "stderr",
     "output_type": "stream",
     "text": [
      "/Users/chatt07/Desktop/new_context_env/lib/python3.9/site-packages/qiskit_aer/noise/noise_model.py:379: UserWarning: Qiskit backend AerSimulator('aer_simulator'\n",
      "             noise_model=<NoiseModel on ['custom_kron(rx,ident)_gate']>) has no QubitProperties, so the resulting noise model will not include any thermal relaxation errors.\n",
      "  warn(\n",
      "/Users/chatt07/Desktop/new_context_env/lib/python3.9/site-packages/qiskit_aer/noise/noise_model.py:379: UserWarning: Qiskit backend AerSimulator('aer_simulator'\n",
      "             noise_model=<NoiseModel on ['custom_kron(rx,ident)_gate']>) has no QubitProperties, so the resulting noise model will not include any thermal relaxation errors.\n",
      "  warn(\n"
     ]
    },
    {
     "name": "stdout",
     "output_type": "stream",
     "text": [
      "Fidelity stored 0.999580450010197\n",
      "(1,)\n",
      "(32,)\n"
     ]
    },
    {
     "name": "stderr",
     "output_type": "stream",
     "text": [
      "/Users/chatt07/Desktop/new_context_env/lib/python3.9/site-packages/qiskit_aer/noise/noise_model.py:379: UserWarning: Qiskit backend AerSimulator('aer_simulator'\n",
      "             noise_model=<NoiseModel on ['custom_kron(rx,ident)_gate']>) has no QubitProperties, so the resulting noise model will not include any thermal relaxation errors.\n",
      "  warn(\n",
      "/Users/chatt07/Desktop/new_context_env/lib/python3.9/site-packages/qiskit_aer/noise/noise_model.py:379: UserWarning: Qiskit backend AerSimulator('aer_simulator'\n",
      "             noise_model=<NoiseModel on ['custom_kron(rx,ident)_gate']>) has no QubitProperties, so the resulting noise model will not include any thermal relaxation errors.\n",
      "  warn(\n"
     ]
    },
    {
     "name": "stdout",
     "output_type": "stream",
     "text": [
      "Fidelity stored 0.9994970631798292\n",
      "(1,)\n",
      "(32,)\n"
     ]
    },
    {
     "name": "stderr",
     "output_type": "stream",
     "text": [
      "/Users/chatt07/Desktop/new_context_env/lib/python3.9/site-packages/qiskit_aer/noise/noise_model.py:379: UserWarning: Qiskit backend AerSimulator('aer_simulator'\n",
      "             noise_model=<NoiseModel on ['custom_kron(rx,ident)_gate']>) has no QubitProperties, so the resulting noise model will not include any thermal relaxation errors.\n",
      "  warn(\n",
      "/Users/chatt07/Desktop/new_context_env/lib/python3.9/site-packages/qiskit_aer/noise/noise_model.py:379: UserWarning: Qiskit backend AerSimulator('aer_simulator'\n",
      "             noise_model=<NoiseModel on ['custom_kron(rx,ident)_gate']>) has no QubitProperties, so the resulting noise model will not include any thermal relaxation errors.\n",
      "  warn(\n"
     ]
    },
    {
     "name": "stdout",
     "output_type": "stream",
     "text": [
      "Fidelity stored 0.9994989197867016\n",
      "(1,)\n",
      "(32,)\n"
     ]
    },
    {
     "name": "stderr",
     "output_type": "stream",
     "text": [
      "/Users/chatt07/Desktop/new_context_env/lib/python3.9/site-packages/qiskit_aer/noise/noise_model.py:379: UserWarning: Qiskit backend AerSimulator('aer_simulator'\n",
      "             noise_model=<NoiseModel on ['custom_kron(rx,ident)_gate']>) has no QubitProperties, so the resulting noise model will not include any thermal relaxation errors.\n",
      "  warn(\n",
      "/Users/chatt07/Desktop/new_context_env/lib/python3.9/site-packages/qiskit_aer/noise/noise_model.py:379: UserWarning: Qiskit backend AerSimulator('aer_simulator'\n",
      "             noise_model=<NoiseModel on ['custom_kron(rx,ident)_gate']>) has no QubitProperties, so the resulting noise model will not include any thermal relaxation errors.\n",
      "  warn(\n"
     ]
    },
    {
     "name": "stdout",
     "output_type": "stream",
     "text": [
      "Fidelity stored 0.9995501681994544\n",
      "(1,)\n",
      "(32,)\n"
     ]
    },
    {
     "name": "stderr",
     "output_type": "stream",
     "text": [
      "/Users/chatt07/Desktop/new_context_env/lib/python3.9/site-packages/qiskit_aer/noise/noise_model.py:379: UserWarning: Qiskit backend AerSimulator('aer_simulator'\n",
      "             noise_model=<NoiseModel on ['custom_kron(rx,ident)_gate']>) has no QubitProperties, so the resulting noise model will not include any thermal relaxation errors.\n",
      "  warn(\n",
      "/Users/chatt07/Desktop/new_context_env/lib/python3.9/site-packages/qiskit_aer/noise/noise_model.py:379: UserWarning: Qiskit backend AerSimulator('aer_simulator'\n",
      "             noise_model=<NoiseModel on ['custom_kron(rx,ident)_gate']>) has no QubitProperties, so the resulting noise model will not include any thermal relaxation errors.\n",
      "  warn(\n"
     ]
    },
    {
     "name": "stdout",
     "output_type": "stream",
     "text": [
      "Fidelity stored 0.999652680926903\n",
      "(1,)\n",
      "(32,)\n"
     ]
    },
    {
     "name": "stderr",
     "output_type": "stream",
     "text": [
      "/Users/chatt07/Desktop/new_context_env/lib/python3.9/site-packages/qiskit_aer/noise/noise_model.py:379: UserWarning: Qiskit backend AerSimulator('aer_simulator'\n",
      "             noise_model=<NoiseModel on ['custom_kron(rx,ident)_gate']>) has no QubitProperties, so the resulting noise model will not include any thermal relaxation errors.\n",
      "  warn(\n",
      "/Users/chatt07/Desktop/new_context_env/lib/python3.9/site-packages/qiskit_aer/noise/noise_model.py:379: UserWarning: Qiskit backend AerSimulator('aer_simulator'\n",
      "             noise_model=<NoiseModel on ['custom_kron(rx,ident)_gate']>) has no QubitProperties, so the resulting noise model will not include any thermal relaxation errors.\n",
      "  warn(\n"
     ]
    },
    {
     "name": "stdout",
     "output_type": "stream",
     "text": [
      "Fidelity stored 0.9995400640654557\n",
      "(1,)\n",
      "(32,)\n"
     ]
    },
    {
     "name": "stderr",
     "output_type": "stream",
     "text": [
      "/Users/chatt07/Desktop/new_context_env/lib/python3.9/site-packages/qiskit_aer/noise/noise_model.py:379: UserWarning: Qiskit backend AerSimulator('aer_simulator'\n",
      "             noise_model=<NoiseModel on ['custom_kron(rx,ident)_gate']>) has no QubitProperties, so the resulting noise model will not include any thermal relaxation errors.\n",
      "  warn(\n",
      "/Users/chatt07/Desktop/new_context_env/lib/python3.9/site-packages/qiskit_aer/noise/noise_model.py:379: UserWarning: Qiskit backend AerSimulator('aer_simulator'\n",
      "             noise_model=<NoiseModel on ['custom_kron(rx,ident)_gate']>) has no QubitProperties, so the resulting noise model will not include any thermal relaxation errors.\n",
      "  warn(\n"
     ]
    },
    {
     "name": "stdout",
     "output_type": "stream",
     "text": [
      "Fidelity stored 0.9996348729194049\n",
      "(1,)\n",
      "(32,)\n"
     ]
    },
    {
     "name": "stderr",
     "output_type": "stream",
     "text": [
      "/Users/chatt07/Desktop/new_context_env/lib/python3.9/site-packages/qiskit_aer/noise/noise_model.py:379: UserWarning: Qiskit backend AerSimulator('aer_simulator'\n",
      "             noise_model=<NoiseModel on ['custom_kron(rx,ident)_gate']>) has no QubitProperties, so the resulting noise model will not include any thermal relaxation errors.\n",
      "  warn(\n",
      "/Users/chatt07/Desktop/new_context_env/lib/python3.9/site-packages/qiskit_aer/noise/noise_model.py:379: UserWarning: Qiskit backend AerSimulator('aer_simulator'\n",
      "             noise_model=<NoiseModel on ['custom_kron(rx,ident)_gate']>) has no QubitProperties, so the resulting noise model will not include any thermal relaxation errors.\n",
      "  warn(\n"
     ]
    },
    {
     "name": "stdout",
     "output_type": "stream",
     "text": [
      "Fidelity stored 0.9994418448583102\n",
      "(1,)\n",
      "(32,)\n"
     ]
    },
    {
     "name": "stderr",
     "output_type": "stream",
     "text": [
      "/Users/chatt07/Desktop/new_context_env/lib/python3.9/site-packages/qiskit_aer/noise/noise_model.py:379: UserWarning: Qiskit backend AerSimulator('aer_simulator'\n",
      "             noise_model=<NoiseModel on ['custom_kron(rx,ident)_gate']>) has no QubitProperties, so the resulting noise model will not include any thermal relaxation errors.\n",
      "  warn(\n",
      "/Users/chatt07/Desktop/new_context_env/lib/python3.9/site-packages/qiskit_aer/noise/noise_model.py:379: UserWarning: Qiskit backend AerSimulator('aer_simulator'\n",
      "             noise_model=<NoiseModel on ['custom_kron(rx,ident)_gate']>) has no QubitProperties, so the resulting noise model will not include any thermal relaxation errors.\n",
      "  warn(\n"
     ]
    },
    {
     "name": "stdout",
     "output_type": "stream",
     "text": [
      "Fidelity stored 0.9995877880786447\n",
      "(1,)\n",
      "(32,)\n"
     ]
    },
    {
     "name": "stderr",
     "output_type": "stream",
     "text": [
      "/Users/chatt07/Desktop/new_context_env/lib/python3.9/site-packages/qiskit_aer/noise/noise_model.py:379: UserWarning: Qiskit backend AerSimulator('aer_simulator'\n",
      "             noise_model=<NoiseModel on ['custom_kron(rx,ident)_gate']>) has no QubitProperties, so the resulting noise model will not include any thermal relaxation errors.\n",
      "  warn(\n",
      "/Users/chatt07/Desktop/new_context_env/lib/python3.9/site-packages/qiskit_aer/noise/noise_model.py:379: UserWarning: Qiskit backend AerSimulator('aer_simulator'\n",
      "             noise_model=<NoiseModel on ['custom_kron(rx,ident)_gate']>) has no QubitProperties, so the resulting noise model will not include any thermal relaxation errors.\n",
      "  warn(\n"
     ]
    },
    {
     "name": "stdout",
     "output_type": "stream",
     "text": [
      "Fidelity stored 0.9996640988715186\n",
      "(1,)\n",
      "(32,)\n"
     ]
    },
    {
     "name": "stderr",
     "output_type": "stream",
     "text": [
      "/Users/chatt07/Desktop/new_context_env/lib/python3.9/site-packages/qiskit_aer/noise/noise_model.py:379: UserWarning: Qiskit backend AerSimulator('aer_simulator'\n",
      "             noise_model=<NoiseModel on ['custom_kron(rx,ident)_gate']>) has no QubitProperties, so the resulting noise model will not include any thermal relaxation errors.\n",
      "  warn(\n",
      "/Users/chatt07/Desktop/new_context_env/lib/python3.9/site-packages/qiskit_aer/noise/noise_model.py:379: UserWarning: Qiskit backend AerSimulator('aer_simulator'\n",
      "             noise_model=<NoiseModel on ['custom_kron(rx,ident)_gate']>) has no QubitProperties, so the resulting noise model will not include any thermal relaxation errors.\n",
      "  warn(\n"
     ]
    },
    {
     "name": "stdout",
     "output_type": "stream",
     "text": [
      "Fidelity stored 0.9996049754997258\n",
      "(1,)\n",
      "(32,)\n"
     ]
    },
    {
     "name": "stderr",
     "output_type": "stream",
     "text": [
      "/Users/chatt07/Desktop/new_context_env/lib/python3.9/site-packages/qiskit_aer/noise/noise_model.py:379: UserWarning: Qiskit backend AerSimulator('aer_simulator'\n",
      "             noise_model=<NoiseModel on ['custom_kron(rx,ident)_gate']>) has no QubitProperties, so the resulting noise model will not include any thermal relaxation errors.\n",
      "  warn(\n",
      "/Users/chatt07/Desktop/new_context_env/lib/python3.9/site-packages/qiskit_aer/noise/noise_model.py:379: UserWarning: Qiskit backend AerSimulator('aer_simulator'\n",
      "             noise_model=<NoiseModel on ['custom_kron(rx,ident)_gate']>) has no QubitProperties, so the resulting noise model will not include any thermal relaxation errors.\n",
      "  warn(\n"
     ]
    },
    {
     "name": "stdout",
     "output_type": "stream",
     "text": [
      "Fidelity stored 0.9996066893328095\n",
      "(1,)\n",
      "(32,)\n"
     ]
    },
    {
     "name": "stderr",
     "output_type": "stream",
     "text": [
      "/Users/chatt07/Desktop/new_context_env/lib/python3.9/site-packages/qiskit_aer/noise/noise_model.py:379: UserWarning: Qiskit backend AerSimulator('aer_simulator'\n",
      "             noise_model=<NoiseModel on ['custom_kron(rx,ident)_gate']>) has no QubitProperties, so the resulting noise model will not include any thermal relaxation errors.\n",
      "  warn(\n",
      "/Users/chatt07/Desktop/new_context_env/lib/python3.9/site-packages/qiskit_aer/noise/noise_model.py:379: UserWarning: Qiskit backend AerSimulator('aer_simulator'\n",
      "             noise_model=<NoiseModel on ['custom_kron(rx,ident)_gate']>) has no QubitProperties, so the resulting noise model will not include any thermal relaxation errors.\n",
      "  warn(\n"
     ]
    },
    {
     "name": "stdout",
     "output_type": "stream",
     "text": [
      "Fidelity stored 0.9996283621480437\n",
      "(1,)\n",
      "(32,)\n"
     ]
    },
    {
     "name": "stderr",
     "output_type": "stream",
     "text": [
      "/Users/chatt07/Desktop/new_context_env/lib/python3.9/site-packages/qiskit_aer/noise/noise_model.py:379: UserWarning: Qiskit backend AerSimulator('aer_simulator'\n",
      "             noise_model=<NoiseModel on ['custom_kron(rx,ident)_gate']>) has no QubitProperties, so the resulting noise model will not include any thermal relaxation errors.\n",
      "  warn(\n",
      "/Users/chatt07/Desktop/new_context_env/lib/python3.9/site-packages/qiskit_aer/noise/noise_model.py:379: UserWarning: Qiskit backend AerSimulator('aer_simulator'\n",
      "             noise_model=<NoiseModel on ['custom_kron(rx,ident)_gate']>) has no QubitProperties, so the resulting noise model will not include any thermal relaxation errors.\n",
      "  warn(\n"
     ]
    },
    {
     "name": "stdout",
     "output_type": "stream",
     "text": [
      "Fidelity stored 0.9997364776793454\n",
      "(1,)\n",
      "(32,)\n"
     ]
    },
    {
     "name": "stderr",
     "output_type": "stream",
     "text": [
      "/Users/chatt07/Desktop/new_context_env/lib/python3.9/site-packages/qiskit_aer/noise/noise_model.py:379: UserWarning: Qiskit backend AerSimulator('aer_simulator'\n",
      "             noise_model=<NoiseModel on ['custom_kron(rx,ident)_gate']>) has no QubitProperties, so the resulting noise model will not include any thermal relaxation errors.\n",
      "  warn(\n",
      "/Users/chatt07/Desktop/new_context_env/lib/python3.9/site-packages/qiskit_aer/noise/noise_model.py:379: UserWarning: Qiskit backend AerSimulator('aer_simulator'\n",
      "             noise_model=<NoiseModel on ['custom_kron(rx,ident)_gate']>) has no QubitProperties, so the resulting noise model will not include any thermal relaxation errors.\n",
      "  warn(\n"
     ]
    },
    {
     "name": "stdout",
     "output_type": "stream",
     "text": [
      "Fidelity stored 0.9997545278396223\n",
      "(1,)\n",
      "(32,)\n"
     ]
    },
    {
     "name": "stderr",
     "output_type": "stream",
     "text": [
      "/Users/chatt07/Desktop/new_context_env/lib/python3.9/site-packages/qiskit_aer/noise/noise_model.py:379: UserWarning: Qiskit backend AerSimulator('aer_simulator'\n",
      "             noise_model=<NoiseModel on ['custom_kron(rx,ident)_gate']>) has no QubitProperties, so the resulting noise model will not include any thermal relaxation errors.\n",
      "  warn(\n",
      "/Users/chatt07/Desktop/new_context_env/lib/python3.9/site-packages/qiskit_aer/noise/noise_model.py:379: UserWarning: Qiskit backend AerSimulator('aer_simulator'\n",
      "             noise_model=<NoiseModel on ['custom_kron(rx,ident)_gate']>) has no QubitProperties, so the resulting noise model will not include any thermal relaxation errors.\n",
      "  warn(\n"
     ]
    },
    {
     "name": "stdout",
     "output_type": "stream",
     "text": [
      "Fidelity stored 0.9998025692318201\n",
      "(1,)\n",
      "(32,)\n"
     ]
    },
    {
     "name": "stderr",
     "output_type": "stream",
     "text": [
      "/Users/chatt07/Desktop/new_context_env/lib/python3.9/site-packages/qiskit_aer/noise/noise_model.py:379: UserWarning: Qiskit backend AerSimulator('aer_simulator'\n",
      "             noise_model=<NoiseModel on ['custom_kron(rx,ident)_gate']>) has no QubitProperties, so the resulting noise model will not include any thermal relaxation errors.\n",
      "  warn(\n",
      "/Users/chatt07/Desktop/new_context_env/lib/python3.9/site-packages/qiskit_aer/noise/noise_model.py:379: UserWarning: Qiskit backend AerSimulator('aer_simulator'\n",
      "             noise_model=<NoiseModel on ['custom_kron(rx,ident)_gate']>) has no QubitProperties, so the resulting noise model will not include any thermal relaxation errors.\n",
      "  warn(\n"
     ]
    },
    {
     "name": "stdout",
     "output_type": "stream",
     "text": [
      "Fidelity stored 0.9997584439217018\n",
      "(1,)\n",
      "(32,)\n"
     ]
    },
    {
     "name": "stderr",
     "output_type": "stream",
     "text": [
      "/Users/chatt07/Desktop/new_context_env/lib/python3.9/site-packages/qiskit_aer/noise/noise_model.py:379: UserWarning: Qiskit backend AerSimulator('aer_simulator'\n",
      "             noise_model=<NoiseModel on ['custom_kron(rx,ident)_gate']>) has no QubitProperties, so the resulting noise model will not include any thermal relaxation errors.\n",
      "  warn(\n",
      "/Users/chatt07/Desktop/new_context_env/lib/python3.9/site-packages/qiskit_aer/noise/noise_model.py:379: UserWarning: Qiskit backend AerSimulator('aer_simulator'\n",
      "             noise_model=<NoiseModel on ['custom_kron(rx,ident)_gate']>) has no QubitProperties, so the resulting noise model will not include any thermal relaxation errors.\n",
      "  warn(\n"
     ]
    },
    {
     "name": "stdout",
     "output_type": "stream",
     "text": [
      "Fidelity stored 0.9997843891517456\n",
      "(1,)\n",
      "(32,)\n"
     ]
    },
    {
     "name": "stderr",
     "output_type": "stream",
     "text": [
      "/Users/chatt07/Desktop/new_context_env/lib/python3.9/site-packages/qiskit_aer/noise/noise_model.py:379: UserWarning: Qiskit backend AerSimulator('aer_simulator') has no QubitProperties, so the resulting noise model will not include any thermal relaxation errors.\n",
      "  warn(\n",
      "/Users/chatt07/Desktop/new_context_env/lib/python3.9/site-packages/qiskit_aer/noise/noise_model.py:379: UserWarning: Qiskit backend AerSimulator('aer_simulator') has no QubitProperties, so the resulting noise model will not include any thermal relaxation errors.\n",
      "  warn(\n"
     ]
    },
    {
     "name": "stdout",
     "output_type": "stream",
     "text": [
      "Fidelity stored 0.9997978641792905\n",
      "(1,)\n",
      "(32,)\n"
     ]
    },
    {
     "name": "stderr",
     "output_type": "stream",
     "text": [
      "/Users/chatt07/Desktop/new_context_env/lib/python3.9/site-packages/qiskit_aer/noise/noise_model.py:379: UserWarning: Qiskit backend AerSimulator('aer_simulator'\n",
      "             noise_model=<NoiseModel on ['custom_kron(rx,ident)_gate']>) has no QubitProperties, so the resulting noise model will not include any thermal relaxation errors.\n",
      "  warn(\n",
      "/Users/chatt07/Desktop/new_context_env/lib/python3.9/site-packages/qiskit_aer/noise/noise_model.py:379: UserWarning: Qiskit backend AerSimulator('aer_simulator'\n",
      "             noise_model=<NoiseModel on ['custom_kron(rx,ident)_gate']>) has no QubitProperties, so the resulting noise model will not include any thermal relaxation errors.\n",
      "  warn(\n"
     ]
    },
    {
     "name": "stdout",
     "output_type": "stream",
     "text": [
      "Fidelity stored 0.9998000445032751\n",
      "(1,)\n",
      "(32,)\n"
     ]
    },
    {
     "name": "stderr",
     "output_type": "stream",
     "text": [
      "/Users/chatt07/Desktop/new_context_env/lib/python3.9/site-packages/qiskit_aer/noise/noise_model.py:379: UserWarning: Qiskit backend AerSimulator('aer_simulator'\n",
      "             noise_model=<NoiseModel on ['custom_kron(rx,ident)_gate']>) has no QubitProperties, so the resulting noise model will not include any thermal relaxation errors.\n",
      "  warn(\n",
      "/Users/chatt07/Desktop/new_context_env/lib/python3.9/site-packages/qiskit_aer/noise/noise_model.py:379: UserWarning: Qiskit backend AerSimulator('aer_simulator'\n",
      "             noise_model=<NoiseModel on ['custom_kron(rx,ident)_gate']>) has no QubitProperties, so the resulting noise model will not include any thermal relaxation errors.\n",
      "  warn(\n"
     ]
    },
    {
     "name": "stdout",
     "output_type": "stream",
     "text": [
      "Fidelity stored 0.9998163544692007\n",
      "(1,)\n",
      "(32,)\n"
     ]
    },
    {
     "name": "stderr",
     "output_type": "stream",
     "text": [
      "/Users/chatt07/Desktop/new_context_env/lib/python3.9/site-packages/qiskit_aer/noise/noise_model.py:379: UserWarning: Qiskit backend AerSimulator('aer_simulator'\n",
      "             noise_model=<NoiseModel on ['custom_kron(rx,ident)_gate']>) has no QubitProperties, so the resulting noise model will not include any thermal relaxation errors.\n",
      "  warn(\n",
      "/Users/chatt07/Desktop/new_context_env/lib/python3.9/site-packages/qiskit_aer/noise/noise_model.py:379: UserWarning: Qiskit backend AerSimulator('aer_simulator'\n",
      "             noise_model=<NoiseModel on ['custom_kron(rx,ident)_gate']>) has no QubitProperties, so the resulting noise model will not include any thermal relaxation errors.\n",
      "  warn(\n"
     ]
    },
    {
     "name": "stdout",
     "output_type": "stream",
     "text": [
      "Fidelity stored 0.9997313669710846\n",
      "(1,)\n",
      "(32,)\n"
     ]
    },
    {
     "name": "stderr",
     "output_type": "stream",
     "text": [
      "/Users/chatt07/Desktop/new_context_env/lib/python3.9/site-packages/qiskit_aer/noise/noise_model.py:379: UserWarning: Qiskit backend AerSimulator('aer_simulator'\n",
      "             noise_model=<NoiseModel on ['custom_kron(rx,ident)_gate']>) has no QubitProperties, so the resulting noise model will not include any thermal relaxation errors.\n",
      "  warn(\n",
      "/Users/chatt07/Desktop/new_context_env/lib/python3.9/site-packages/qiskit_aer/noise/noise_model.py:379: UserWarning: Qiskit backend AerSimulator('aer_simulator'\n",
      "             noise_model=<NoiseModel on ['custom_kron(rx,ident)_gate']>) has no QubitProperties, so the resulting noise model will not include any thermal relaxation errors.\n",
      "  warn(\n"
     ]
    },
    {
     "name": "stdout",
     "output_type": "stream",
     "text": [
      "Fidelity stored 0.999803394617222\n",
      "(1,)\n",
      "(32,)\n"
     ]
    },
    {
     "name": "stderr",
     "output_type": "stream",
     "text": [
      "/Users/chatt07/Desktop/new_context_env/lib/python3.9/site-packages/qiskit_aer/noise/noise_model.py:379: UserWarning: Qiskit backend AerSimulator('aer_simulator'\n",
      "             noise_model=<NoiseModel on ['custom_kron(rx,ident)_gate']>) has no QubitProperties, so the resulting noise model will not include any thermal relaxation errors.\n",
      "  warn(\n",
      "/Users/chatt07/Desktop/new_context_env/lib/python3.9/site-packages/qiskit_aer/noise/noise_model.py:379: UserWarning: Qiskit backend AerSimulator('aer_simulator'\n",
      "             noise_model=<NoiseModel on ['custom_kron(rx,ident)_gate']>) has no QubitProperties, so the resulting noise model will not include any thermal relaxation errors.\n",
      "  warn(\n"
     ]
    },
    {
     "name": "stdout",
     "output_type": "stream",
     "text": [
      "Fidelity stored 0.9997668602913659\n",
      "(1,)\n",
      "(32,)\n"
     ]
    },
    {
     "name": "stderr",
     "output_type": "stream",
     "text": [
      "/Users/chatt07/Desktop/new_context_env/lib/python3.9/site-packages/qiskit_aer/noise/noise_model.py:379: UserWarning: Qiskit backend AerSimulator('aer_simulator'\n",
      "             noise_model=<NoiseModel on ['custom_kron(rx,ident)_gate']>) has no QubitProperties, so the resulting noise model will not include any thermal relaxation errors.\n",
      "  warn(\n",
      "/Users/chatt07/Desktop/new_context_env/lib/python3.9/site-packages/qiskit_aer/noise/noise_model.py:379: UserWarning: Qiskit backend AerSimulator('aer_simulator'\n",
      "             noise_model=<NoiseModel on ['custom_kron(rx,ident)_gate']>) has no QubitProperties, so the resulting noise model will not include any thermal relaxation errors.\n",
      "  warn(\n"
     ]
    },
    {
     "name": "stdout",
     "output_type": "stream",
     "text": [
      "Fidelity stored 0.9997534308574461\n",
      "(1,)\n",
      "(32,)\n"
     ]
    },
    {
     "name": "stderr",
     "output_type": "stream",
     "text": [
      "/Users/chatt07/Desktop/new_context_env/lib/python3.9/site-packages/qiskit_aer/noise/noise_model.py:379: UserWarning: Qiskit backend AerSimulator('aer_simulator'\n",
      "             noise_model=<NoiseModel on ['custom_kron(rx,ident)_gate']>) has no QubitProperties, so the resulting noise model will not include any thermal relaxation errors.\n",
      "  warn(\n",
      "/Users/chatt07/Desktop/new_context_env/lib/python3.9/site-packages/qiskit_aer/noise/noise_model.py:379: UserWarning: Qiskit backend AerSimulator('aer_simulator'\n",
      "             noise_model=<NoiseModel on ['custom_kron(rx,ident)_gate']>) has no QubitProperties, so the resulting noise model will not include any thermal relaxation errors.\n",
      "  warn(\n"
     ]
    },
    {
     "name": "stdout",
     "output_type": "stream",
     "text": [
      "Fidelity stored 0.9996658029150061\n",
      "(1,)\n",
      "(32,)\n"
     ]
    },
    {
     "name": "stderr",
     "output_type": "stream",
     "text": [
      "/Users/chatt07/Desktop/new_context_env/lib/python3.9/site-packages/qiskit_aer/noise/noise_model.py:379: UserWarning: Qiskit backend AerSimulator('aer_simulator'\n",
      "             noise_model=<NoiseModel on ['custom_kron(rx,ident)_gate']>) has no QubitProperties, so the resulting noise model will not include any thermal relaxation errors.\n",
      "  warn(\n",
      "/Users/chatt07/Desktop/new_context_env/lib/python3.9/site-packages/qiskit_aer/noise/noise_model.py:379: UserWarning: Qiskit backend AerSimulator('aer_simulator'\n",
      "             noise_model=<NoiseModel on ['custom_kron(rx,ident)_gate']>) has no QubitProperties, so the resulting noise model will not include any thermal relaxation errors.\n",
      "  warn(\n"
     ]
    },
    {
     "name": "stdout",
     "output_type": "stream",
     "text": [
      "Fidelity stored 0.9996205973975986\n",
      "(1,)\n",
      "(32,)\n"
     ]
    },
    {
     "name": "stderr",
     "output_type": "stream",
     "text": [
      "/Users/chatt07/Desktop/new_context_env/lib/python3.9/site-packages/qiskit_aer/noise/noise_model.py:379: UserWarning: Qiskit backend AerSimulator('aer_simulator'\n",
      "             noise_model=<NoiseModel on ['custom_kron(rx,ident)_gate']>) has no QubitProperties, so the resulting noise model will not include any thermal relaxation errors.\n",
      "  warn(\n",
      "/Users/chatt07/Desktop/new_context_env/lib/python3.9/site-packages/qiskit_aer/noise/noise_model.py:379: UserWarning: Qiskit backend AerSimulator('aer_simulator'\n",
      "             noise_model=<NoiseModel on ['custom_kron(rx,ident)_gate']>) has no QubitProperties, so the resulting noise model will not include any thermal relaxation errors.\n",
      "  warn(\n"
     ]
    },
    {
     "name": "stdout",
     "output_type": "stream",
     "text": [
      "Fidelity stored 0.9996574384608383\n",
      "(1,)\n",
      "(32,)\n"
     ]
    },
    {
     "name": "stderr",
     "output_type": "stream",
     "text": [
      "/Users/chatt07/Desktop/new_context_env/lib/python3.9/site-packages/qiskit_aer/noise/noise_model.py:379: UserWarning: Qiskit backend AerSimulator('aer_simulator'\n",
      "             noise_model=<NoiseModel on ['custom_kron(rx,ident)_gate']>) has no QubitProperties, so the resulting noise model will not include any thermal relaxation errors.\n",
      "  warn(\n",
      "/Users/chatt07/Desktop/new_context_env/lib/python3.9/site-packages/qiskit_aer/noise/noise_model.py:379: UserWarning: Qiskit backend AerSimulator('aer_simulator'\n",
      "             noise_model=<NoiseModel on ['custom_kron(rx,ident)_gate']>) has no QubitProperties, so the resulting noise model will not include any thermal relaxation errors.\n",
      "  warn(\n"
     ]
    },
    {
     "name": "stdout",
     "output_type": "stream",
     "text": [
      "Fidelity stored 0.9997939145925396\n",
      "(1,)\n",
      "(32,)\n"
     ]
    },
    {
     "name": "stderr",
     "output_type": "stream",
     "text": [
      "/Users/chatt07/Desktop/new_context_env/lib/python3.9/site-packages/qiskit_aer/noise/noise_model.py:379: UserWarning: Qiskit backend AerSimulator('aer_simulator'\n",
      "             noise_model=<NoiseModel on ['custom_kron(rx,ident)_gate']>) has no QubitProperties, so the resulting noise model will not include any thermal relaxation errors.\n",
      "  warn(\n",
      "/Users/chatt07/Desktop/new_context_env/lib/python3.9/site-packages/qiskit_aer/noise/noise_model.py:379: UserWarning: Qiskit backend AerSimulator('aer_simulator'\n",
      "             noise_model=<NoiseModel on ['custom_kron(rx,ident)_gate']>) has no QubitProperties, so the resulting noise model will not include any thermal relaxation errors.\n",
      "  warn(\n"
     ]
    },
    {
     "name": "stdout",
     "output_type": "stream",
     "text": [
      "Fidelity stored 0.9996722048677942\n",
      "(1,)\n",
      "(32,)\n"
     ]
    },
    {
     "name": "stderr",
     "output_type": "stream",
     "text": [
      "/Users/chatt07/Desktop/new_context_env/lib/python3.9/site-packages/qiskit_aer/noise/noise_model.py:379: UserWarning: Qiskit backend AerSimulator('aer_simulator'\n",
      "             noise_model=<NoiseModel on ['custom_kron(rx,ident)_gate']>) has no QubitProperties, so the resulting noise model will not include any thermal relaxation errors.\n",
      "  warn(\n",
      "/Users/chatt07/Desktop/new_context_env/lib/python3.9/site-packages/qiskit_aer/noise/noise_model.py:379: UserWarning: Qiskit backend AerSimulator('aer_simulator'\n",
      "             noise_model=<NoiseModel on ['custom_kron(rx,ident)_gate']>) has no QubitProperties, so the resulting noise model will not include any thermal relaxation errors.\n",
      "  warn(\n"
     ]
    },
    {
     "name": "stdout",
     "output_type": "stream",
     "text": [
      "Fidelity stored 0.9997239626440546\n",
      "(1,)\n",
      "(32,)\n"
     ]
    },
    {
     "name": "stderr",
     "output_type": "stream",
     "text": [
      "/Users/chatt07/Desktop/new_context_env/lib/python3.9/site-packages/qiskit_aer/noise/noise_model.py:379: UserWarning: Qiskit backend AerSimulator('aer_simulator'\n",
      "             noise_model=<NoiseModel on ['custom_kron(rx,ident)_gate']>) has no QubitProperties, so the resulting noise model will not include any thermal relaxation errors.\n",
      "  warn(\n",
      "/Users/chatt07/Desktop/new_context_env/lib/python3.9/site-packages/qiskit_aer/noise/noise_model.py:379: UserWarning: Qiskit backend AerSimulator('aer_simulator'\n",
      "             noise_model=<NoiseModel on ['custom_kron(rx,ident)_gate']>) has no QubitProperties, so the resulting noise model will not include any thermal relaxation errors.\n",
      "  warn(\n"
     ]
    },
    {
     "name": "stdout",
     "output_type": "stream",
     "text": [
      "Fidelity stored 0.9995919419550613\n",
      "(1,)\n",
      "(32,)\n"
     ]
    },
    {
     "name": "stderr",
     "output_type": "stream",
     "text": [
      "/Users/chatt07/Desktop/new_context_env/lib/python3.9/site-packages/qiskit_aer/noise/noise_model.py:379: UserWarning: Qiskit backend AerSimulator('aer_simulator'\n",
      "             noise_model=<NoiseModel on ['custom_kron(rx,ident)_gate']>) has no QubitProperties, so the resulting noise model will not include any thermal relaxation errors.\n",
      "  warn(\n",
      "/Users/chatt07/Desktop/new_context_env/lib/python3.9/site-packages/qiskit_aer/noise/noise_model.py:379: UserWarning: Qiskit backend AerSimulator('aer_simulator'\n",
      "             noise_model=<NoiseModel on ['custom_kron(rx,ident)_gate']>) has no QubitProperties, so the resulting noise model will not include any thermal relaxation errors.\n",
      "  warn(\n"
     ]
    },
    {
     "name": "stdout",
     "output_type": "stream",
     "text": [
      "Fidelity stored 0.9996563219545755\n",
      "(1,)\n",
      "(32,)\n"
     ]
    },
    {
     "name": "stderr",
     "output_type": "stream",
     "text": [
      "/Users/chatt07/Desktop/new_context_env/lib/python3.9/site-packages/qiskit_aer/noise/noise_model.py:379: UserWarning: Qiskit backend AerSimulator('aer_simulator'\n",
      "             noise_model=<NoiseModel on ['custom_kron(rx,ident)_gate']>) has no QubitProperties, so the resulting noise model will not include any thermal relaxation errors.\n",
      "  warn(\n",
      "/Users/chatt07/Desktop/new_context_env/lib/python3.9/site-packages/qiskit_aer/noise/noise_model.py:379: UserWarning: Qiskit backend AerSimulator('aer_simulator'\n",
      "             noise_model=<NoiseModel on ['custom_kron(rx,ident)_gate']>) has no QubitProperties, so the resulting noise model will not include any thermal relaxation errors.\n",
      "  warn(\n"
     ]
    },
    {
     "name": "stdout",
     "output_type": "stream",
     "text": [
      "Fidelity stored 0.9996573702254364\n",
      "(1,)\n",
      "(32,)\n"
     ]
    },
    {
     "name": "stderr",
     "output_type": "stream",
     "text": [
      "/Users/chatt07/Desktop/new_context_env/lib/python3.9/site-packages/qiskit_aer/noise/noise_model.py:379: UserWarning: Qiskit backend AerSimulator('aer_simulator'\n",
      "             noise_model=<NoiseModel on ['custom_kron(rx,ident)_gate']>) has no QubitProperties, so the resulting noise model will not include any thermal relaxation errors.\n",
      "  warn(\n",
      "/Users/chatt07/Desktop/new_context_env/lib/python3.9/site-packages/qiskit_aer/noise/noise_model.py:379: UserWarning: Qiskit backend AerSimulator('aer_simulator'\n",
      "             noise_model=<NoiseModel on ['custom_kron(rx,ident)_gate']>) has no QubitProperties, so the resulting noise model will not include any thermal relaxation errors.\n",
      "  warn(\n"
     ]
    },
    {
     "name": "stdout",
     "output_type": "stream",
     "text": [
      "Fidelity stored 0.9997093987719088\n",
      "(1,)\n",
      "(32,)\n"
     ]
    },
    {
     "name": "stderr",
     "output_type": "stream",
     "text": [
      "/Users/chatt07/Desktop/new_context_env/lib/python3.9/site-packages/qiskit_aer/noise/noise_model.py:379: UserWarning: Qiskit backend AerSimulator('aer_simulator'\n",
      "             noise_model=<NoiseModel on ['custom_kron(rx,ident)_gate']>) has no QubitProperties, so the resulting noise model will not include any thermal relaxation errors.\n",
      "  warn(\n",
      "/Users/chatt07/Desktop/new_context_env/lib/python3.9/site-packages/qiskit_aer/noise/noise_model.py:379: UserWarning: Qiskit backend AerSimulator('aer_simulator'\n",
      "             noise_model=<NoiseModel on ['custom_kron(rx,ident)_gate']>) has no QubitProperties, so the resulting noise model will not include any thermal relaxation errors.\n",
      "  warn(\n"
     ]
    },
    {
     "name": "stdout",
     "output_type": "stream",
     "text": [
      "Fidelity stored 0.9996836748291678\n",
      "(1,)\n",
      "(32,)\n"
     ]
    },
    {
     "name": "stderr",
     "output_type": "stream",
     "text": [
      "/Users/chatt07/Desktop/new_context_env/lib/python3.9/site-packages/qiskit_aer/noise/noise_model.py:379: UserWarning: Qiskit backend AerSimulator('aer_simulator'\n",
      "             noise_model=<NoiseModel on ['custom_kron(rx,ident)_gate']>) has no QubitProperties, so the resulting noise model will not include any thermal relaxation errors.\n",
      "  warn(\n",
      "/Users/chatt07/Desktop/new_context_env/lib/python3.9/site-packages/qiskit_aer/noise/noise_model.py:379: UserWarning: Qiskit backend AerSimulator('aer_simulator'\n",
      "             noise_model=<NoiseModel on ['custom_kron(rx,ident)_gate']>) has no QubitProperties, so the resulting noise model will not include any thermal relaxation errors.\n",
      "  warn(\n"
     ]
    },
    {
     "name": "stdout",
     "output_type": "stream",
     "text": [
      "Fidelity stored 0.9996783878323732\n",
      "(1,)\n",
      "(32,)\n"
     ]
    },
    {
     "name": "stderr",
     "output_type": "stream",
     "text": [
      "/Users/chatt07/Desktop/new_context_env/lib/python3.9/site-packages/qiskit_aer/noise/noise_model.py:379: UserWarning: Qiskit backend AerSimulator('aer_simulator'\n",
      "             noise_model=<NoiseModel on ['custom_kron(rx,ident)_gate']>) has no QubitProperties, so the resulting noise model will not include any thermal relaxation errors.\n",
      "  warn(\n",
      "/Users/chatt07/Desktop/new_context_env/lib/python3.9/site-packages/qiskit_aer/noise/noise_model.py:379: UserWarning: Qiskit backend AerSimulator('aer_simulator'\n",
      "             noise_model=<NoiseModel on ['custom_kron(rx,ident)_gate']>) has no QubitProperties, so the resulting noise model will not include any thermal relaxation errors.\n",
      "  warn(\n"
     ]
    },
    {
     "name": "stdout",
     "output_type": "stream",
     "text": [
      "Fidelity stored 0.9997641243050471\n",
      "(1,)\n",
      "(32,)\n"
     ]
    },
    {
     "name": "stderr",
     "output_type": "stream",
     "text": [
      "/Users/chatt07/Desktop/new_context_env/lib/python3.9/site-packages/qiskit_aer/noise/noise_model.py:379: UserWarning: Qiskit backend AerSimulator('aer_simulator'\n",
      "             noise_model=<NoiseModel on ['custom_kron(rx,ident)_gate']>) has no QubitProperties, so the resulting noise model will not include any thermal relaxation errors.\n",
      "  warn(\n",
      "/Users/chatt07/Desktop/new_context_env/lib/python3.9/site-packages/qiskit_aer/noise/noise_model.py:379: UserWarning: Qiskit backend AerSimulator('aer_simulator'\n",
      "             noise_model=<NoiseModel on ['custom_kron(rx,ident)_gate']>) has no QubitProperties, so the resulting noise model will not include any thermal relaxation errors.\n",
      "  warn(\n"
     ]
    },
    {
     "name": "stdout",
     "output_type": "stream",
     "text": [
      "Fidelity stored 0.9996846250775983\n",
      "(1,)\n",
      "(32,)\n"
     ]
    },
    {
     "name": "stderr",
     "output_type": "stream",
     "text": [
      "/Users/chatt07/Desktop/new_context_env/lib/python3.9/site-packages/qiskit_aer/noise/noise_model.py:379: UserWarning: Qiskit backend AerSimulator('aer_simulator'\n",
      "             noise_model=<NoiseModel on ['custom_kron(rx,ident)_gate']>) has no QubitProperties, so the resulting noise model will not include any thermal relaxation errors.\n",
      "  warn(\n",
      "/Users/chatt07/Desktop/new_context_env/lib/python3.9/site-packages/qiskit_aer/noise/noise_model.py:379: UserWarning: Qiskit backend AerSimulator('aer_simulator'\n",
      "             noise_model=<NoiseModel on ['custom_kron(rx,ident)_gate']>) has no QubitProperties, so the resulting noise model will not include any thermal relaxation errors.\n",
      "  warn(\n"
     ]
    },
    {
     "name": "stdout",
     "output_type": "stream",
     "text": [
      "Fidelity stored 0.9996417329842491\n",
      "(1,)\n",
      "(32,)\n"
     ]
    },
    {
     "name": "stderr",
     "output_type": "stream",
     "text": [
      "/Users/chatt07/Desktop/new_context_env/lib/python3.9/site-packages/qiskit_aer/noise/noise_model.py:379: UserWarning: Qiskit backend AerSimulator('aer_simulator'\n",
      "             noise_model=<NoiseModel on ['custom_kron(rx,ident)_gate']>) has no QubitProperties, so the resulting noise model will not include any thermal relaxation errors.\n",
      "  warn(\n",
      "/Users/chatt07/Desktop/new_context_env/lib/python3.9/site-packages/qiskit_aer/noise/noise_model.py:379: UserWarning: Qiskit backend AerSimulator('aer_simulator'\n",
      "             noise_model=<NoiseModel on ['custom_kron(rx,ident)_gate']>) has no QubitProperties, so the resulting noise model will not include any thermal relaxation errors.\n",
      "  warn(\n"
     ]
    },
    {
     "name": "stdout",
     "output_type": "stream",
     "text": [
      "Fidelity stored 0.9994577996403126\n",
      "(1,)\n",
      "(32,)\n"
     ]
    },
    {
     "name": "stderr",
     "output_type": "stream",
     "text": [
      "/Users/chatt07/Desktop/new_context_env/lib/python3.9/site-packages/qiskit_aer/noise/noise_model.py:379: UserWarning: Qiskit backend AerSimulator('aer_simulator'\n",
      "             noise_model=<NoiseModel on ['custom_kron(rx,ident)_gate']>) has no QubitProperties, so the resulting noise model will not include any thermal relaxation errors.\n",
      "  warn(\n",
      "/Users/chatt07/Desktop/new_context_env/lib/python3.9/site-packages/qiskit_aer/noise/noise_model.py:379: UserWarning: Qiskit backend AerSimulator('aer_simulator'\n",
      "             noise_model=<NoiseModel on ['custom_kron(rx,ident)_gate']>) has no QubitProperties, so the resulting noise model will not include any thermal relaxation errors.\n",
      "  warn(\n"
     ]
    },
    {
     "name": "stdout",
     "output_type": "stream",
     "text": [
      "Fidelity stored 0.9994989969490946\n",
      "(1,)\n",
      "(32,)\n"
     ]
    },
    {
     "name": "stderr",
     "output_type": "stream",
     "text": [
      "/Users/chatt07/Desktop/new_context_env/lib/python3.9/site-packages/qiskit_aer/noise/noise_model.py:379: UserWarning: Qiskit backend AerSimulator('aer_simulator'\n",
      "             noise_model=<NoiseModel on ['custom_kron(rx,ident)_gate']>) has no QubitProperties, so the resulting noise model will not include any thermal relaxation errors.\n",
      "  warn(\n",
      "/Users/chatt07/Desktop/new_context_env/lib/python3.9/site-packages/qiskit_aer/noise/noise_model.py:379: UserWarning: Qiskit backend AerSimulator('aer_simulator'\n",
      "             noise_model=<NoiseModel on ['custom_kron(rx,ident)_gate']>) has no QubitProperties, so the resulting noise model will not include any thermal relaxation errors.\n",
      "  warn(\n"
     ]
    },
    {
     "name": "stdout",
     "output_type": "stream",
     "text": [
      "Fidelity stored 0.9991660845844965\n",
      "(1,)\n",
      "(32,)\n",
      "Fidelity stored 0.9991209428639112\n",
      "(1,)\n",
      "(32,)\n"
     ]
    },
    {
     "name": "stderr",
     "output_type": "stream",
     "text": [
      "/Users/chatt07/Desktop/new_context_env/lib/python3.9/site-packages/qiskit_aer/noise/noise_model.py:379: UserWarning: Qiskit backend AerSimulator('aer_simulator'\n",
      "             noise_model=<NoiseModel on ['custom_kron(rx,ident)_gate']>) has no QubitProperties, so the resulting noise model will not include any thermal relaxation errors.\n",
      "  warn(\n",
      "/Users/chatt07/Desktop/new_context_env/lib/python3.9/site-packages/qiskit_aer/noise/noise_model.py:379: UserWarning: Qiskit backend AerSimulator('aer_simulator'\n",
      "             noise_model=<NoiseModel on ['custom_kron(rx,ident)_gate']>) has no QubitProperties, so the resulting noise model will not include any thermal relaxation errors.\n",
      "  warn(\n"
     ]
    }
   ],
   "source": [
    "# Evaluating Policy across Parameter Space\n",
    "\n",
    "import torch\n",
    "\n",
    "obs_linspace = np.linspace(-1.0, 1.0, 51)\n",
    "\n",
    "mean_reward = np.zeros_like(obs_linspace)\n",
    "std_reward = np.zeros_like(obs_linspace)\n",
    "mean_actions = np.zeros((len(obs_linspace),) + q_env.action_space.shape)\n",
    "std_actions = np.zeros((len(obs_linspace),) + q_env.action_space.shape)\n",
    "\n",
    "for i, test_obs in enumerate(obs_linspace):\n",
    "    test_obs, _ = ppo_agent.env.reset(seed=ppo_agent.seed, override_obs=test_obs)\n",
    "    batch_test_obs = np.tile(test_obs, (ppo_agent.num_envs, 1))\n",
    "    with torch.no_grad():\n",
    "        action, logprob, _, value = ppo_agent.agent.get_action_and_value(\n",
    "            torch.Tensor(batch_test_obs)\n",
    "        )\n",
    "    cpu_action = action.cpu().numpy()\n",
    "    cpu_action = np.clip(\n",
    "        cpu_action,\n",
    "        ppo_agent.env.action_space.low,\n",
    "        ppo_agent.env.action_space.high,\n",
    "    )\n",
    "\n",
    "    played_action = cpu_action\n",
    "    # played_action[:, 0] = 0.\n",
    "    # played_action[:, 1] = 0.\n",
    "    # played_action[:, 2] = 0.\n",
    "    # played_action[:, 4] = 0.\n",
    "    # played_action[:, 5] = 0.\n",
    "    # played_action[:, 3] = -0.5 * q_env.gamma * test_obs * np.pi + 0.25\n",
    "    # played_action[:, 6] = 0.5 * q_env.gamma * test_obs * np.pi + 0.25\n",
    "\n",
    "    mean_actions[i] = np.mean(played_action, axis=0)\n",
    "    std_actions[i] = np.std(played_action, axis=0)\n",
    "\n",
    "    next_obs, reward, terminations, truncations, infos = ppo_agent.env.step(\n",
    "        played_action\n",
    "    )\n",
    "    mean_reward[i] = np.mean(reward)\n",
    "    std_reward[i] = np.std(reward)"
   ]
  },
  {
   "cell_type": "code",
   "execution_count": 26,
   "metadata": {},
   "outputs": [
    {
     "name": "stdout",
     "output_type": "stream",
     "text": [
      "3.7740517577766477\n"
     ]
    },
    {
     "data": {
      "image/png": "[encoded data removed]",
      "text/plain": [
       "<Figure size 640x480 with 1 Axes>"
      ]
     },
     "metadata": {},
     "output_type": "display_data"
    }
   ],
   "source": [
    "import matplotlib.pyplot as plt\n",
    "\n",
    "mean_fidelity = 1. - 10**(-mean_reward)\n",
    "std_fidelity = 1. - 10**(-std_reward)\n",
    "\n",
    "obs_rad_linspace = obs_linspace * np.pi\n",
    "\n",
    "print(np.max(mean_reward))\n",
    "\n",
    "plt.errorbar(obs_rad_linspace, mean_reward, yerr=std_reward, fmt=\"o\", label='Evaluated Policy Rewards')\n",
    "plt.axvline(x=obs_rad_linspace[np.argmax(mean_reward)])\n",
    "plt.legend()\n",
    "plt.show()"
   ]
  },
  {
   "cell_type": "code",
   "execution_count": 27,
   "metadata": {},
   "outputs": [
    {
     "name": "stdout",
     "output_type": "stream",
     "text": [
      "torch.Size([1, 32, 1])\n"
     ]
    }
   ],
   "source": [
    "print(ppo_agent.obs.shape)"
   ]
  },
  {
   "cell_type": "code",
   "execution_count": 28,
   "metadata": {},
   "outputs": [
    {
     "data": {
      "image/png": "[encoded data removed]",
      "text/plain": [
       "<Figure size 640x480 with 1 Axes>"
      ]
     },
     "metadata": {},
     "output_type": "display_data"
    }
   ],
   "source": [
    "reward_hist = np.array(q_env.reward_history)\n",
    "\n",
    "pf_mean_hist = -np.log10(1. - np.mean(reward_hist, axis=1))\n",
    "pf_std_hist = -np.log10(1. - np.std(reward_hist, axis=1))\n",
    "\n",
    "plt.errorbar(np.arange(len(reward_hist)), pf_mean_hist, yerr=pf_std_hist)\n",
    "plt.show()"
   ]
  },
  {
   "cell_type": "code",
   "execution_count": 29,
   "metadata": {},
   "outputs": [
    {
     "name": "stdout",
     "output_type": "stream",
     "text": [
      "[[-2.25193286e-03  3.51546258e-02  2.76137739e-01  5.70612133e-01\n",
      "  -4.23651077e-02 -4.96658646e-02 -3.28356147e-01]\n",
      " [-1.33653800e-03  1.81385323e-01  4.36828494e-01  5.63252389e-01\n",
      "  -3.97507586e-02 -5.56993708e-02 -3.15008372e-01]\n",
      " [-4.53636516e-03  1.06929038e-02  3.52190912e-01  5.45740187e-01\n",
      "  -4.39931080e-02 -5.16052879e-02 -2.98519343e-01]\n",
      " [-5.02966624e-03  4.70714495e-02  3.13045502e-01  5.26723146e-01\n",
      "  -3.76090892e-02 -5.06050475e-02 -2.85728514e-01]\n",
      " [-4.98519000e-03  5.71150780e-02  2.24864274e-01  5.10371208e-01\n",
      "  -3.16675231e-02 -5.01827560e-02 -2.67616451e-01]\n",
      " [-1.87280052e-03  8.93799737e-02  2.50681520e-01  5.03729641e-01\n",
      "  -4.58045714e-02 -3.61755863e-02 -2.47925133e-01]\n",
      " [-2.62326270e-04  1.54881552e-02  2.66636044e-01  4.93556052e-01\n",
      "  -3.60654928e-02 -4.53606397e-02 -2.24266380e-01]\n",
      " [-4.44081239e-03  8.87579918e-02  3.46121341e-01  4.77892816e-01\n",
      "  -3.67523246e-02 -5.04158884e-02 -2.04641595e-01]\n",
      " [-2.62884167e-03  1.66785508e-01  2.71049917e-01  4.69671309e-01\n",
      "  -3.22783254e-02 -5.10439873e-02 -1.84820428e-01]\n",
      " [-4.44277097e-03  9.25249681e-02  2.19532311e-01  4.53248709e-01\n",
      "  -2.28739027e-02 -5.33193611e-02 -1.70118392e-01]\n",
      " [-4.44373814e-03 -1.95784718e-02  3.18605900e-01  4.38028395e-01\n",
      "  -2.68944837e-02 -4.59864549e-02 -1.50618225e-01]\n",
      " [-2.78907968e-03 -5.15232719e-02  3.42060387e-01  4.22784388e-01\n",
      "  -3.04382816e-02 -5.70197776e-02 -1.21770076e-01]\n",
      " [-9.62342834e-04  1.08239852e-01  1.06505699e-01  4.07240957e-01\n",
      "  -2.67349444e-02 -4.00504321e-02 -1.09474421e-01]\n",
      " [-6.75540068e-04 -2.91966088e-02  3.81473958e-01  3.93122435e-01\n",
      "  -2.04522982e-02 -4.08517085e-02 -7.86702111e-02]\n",
      " [-1.60423690e-03  8.50582346e-02  1.77899271e-01  3.77919674e-01\n",
      "  -1.95136704e-02 -4.36225981e-02 -6.42087609e-02]\n",
      " [-1.00650184e-03 -9.01656151e-02  3.23989987e-01  3.60567689e-01\n",
      "  -1.33812949e-02 -4.32220846e-02 -3.90457697e-02]\n",
      " [-6.23872445e-04  1.24962904e-01  3.46203774e-01  3.44052166e-01\n",
      "  -1.38536375e-02 -5.02144136e-02 -1.26475105e-02]\n",
      " [-8.34449078e-04 -1.64964218e-02  2.52588153e-01  3.23610336e-01\n",
      "  -1.02845328e-02 -3.74169573e-02 -4.15222347e-03]\n",
      " [-3.51565564e-03  2.71180451e-01  2.46148095e-01  3.03437233e-01\n",
      "  -1.48679456e-02 -5.13611846e-02  1.83701217e-02]\n",
      " [-4.09145141e-03  1.47052035e-01  2.08885863e-01  2.93989033e-01\n",
      "  -1.02962870e-02 -4.47694920e-02  4.45083305e-02]\n",
      " [ 3.13908909e-04  4.35501374e-02  1.82543278e-01  2.67082304e-01\n",
      "  -8.84921569e-03 -4.43977155e-02  6.74918890e-02]\n",
      " [-2.72981729e-03  3.03272773e-02  4.80400324e-01  2.48112753e-01\n",
      "  -1.06083173e-02 -5.43164015e-02  8.59789997e-02]\n",
      " [-1.39773590e-03  1.82937860e-01  2.08438843e-01  2.29110360e-01\n",
      "  -4.88267234e-03 -5.71798496e-02  1.03411354e-01]\n",
      " [-6.25569467e-03 -1.11268996e-03  2.83254445e-01  2.15111226e-01\n",
      "  -2.73825089e-03 -4.14769426e-02  1.28187835e-01]\n",
      " [-2.19017058e-03  6.39383942e-02  3.32693547e-01  1.94570839e-01\n",
      "  -1.73438620e-03 -5.19998148e-02  1.53193742e-01]\n",
      " [-2.62070284e-03  6.44477829e-02  3.09104562e-01  1.76832333e-01\n",
      "   3.98520334e-03 -4.70799170e-02  1.76586971e-01]\n",
      " [-2.90054991e-03  3.16849165e-02  3.21114719e-01  1.51904672e-01\n",
      "   5.44363819e-03 -5.15130274e-02  1.94661558e-01]\n",
      " [-3.92079260e-03  2.10956112e-01  3.11918348e-01  1.34067282e-01\n",
      "   8.17704387e-03 -4.90525588e-02  2.12285116e-01]\n",
      " [-1.58673932e-03  1.49994135e-01  1.83496356e-01  1.15327746e-01\n",
      "   8.50491505e-03 -4.97740544e-02  2.39838153e-01]\n",
      " [-1.64547237e-03  1.67390257e-01  3.96094918e-01  9.36065018e-02\n",
      "   6.86052674e-03 -4.83211689e-02  2.56719500e-01]\n",
      " [-2.80701846e-04  2.01017410e-01  3.57755721e-01  7.86087960e-02\n",
      "   7.68591557e-03 -5.14186211e-02  2.71678060e-01]\n",
      " [-2.85788998e-03  7.43813738e-02  3.08655977e-01  5.65932728e-02\n",
      "   1.26481643e-02 -4.49952520e-02  2.96762735e-01]\n",
      " [-9.42018407e-04  4.75578457e-02  2.82970756e-01  3.17603983e-02\n",
      "   1.50465034e-02 -6.06924258e-02  3.12461734e-01]\n",
      " [-2.75476300e-03  1.84286341e-01  2.62966961e-01  1.65002029e-02\n",
      "   1.55655704e-02 -5.31938933e-02  3.37045461e-01]\n",
      " [-8.95637204e-04  6.21372461e-02  2.25617439e-01 -7.07726832e-03\n",
      "   1.94296446e-02 -5.73663823e-02  3.50179046e-01]\n",
      " [-1.62101025e-03  1.31996244e-01  2.45473683e-01 -1.95968095e-02\n",
      "   1.79564077e-02 -5.62610477e-02  3.67404073e-01]\n",
      " [-1.62896106e-03  4.73010391e-02  3.24928910e-01 -4.60148528e-02\n",
      "   2.16825474e-02 -5.37161008e-02  3.86382401e-01]\n",
      " [-1.36098952e-03  1.90724179e-01  4.14365917e-01 -6.28800318e-02\n",
      "   1.90560333e-02 -4.81296927e-02  4.02612031e-01]\n",
      " [-1.76328351e-03  1.69546932e-01  2.52636492e-01 -7.93103129e-02\n",
      "   2.36110929e-02 -5.01234308e-02  4.29638416e-01]\n",
      " [-3.43393278e-03  4.45193760e-02  2.43608698e-01 -1.01158254e-01\n",
      "   2.78860256e-02 -5.70267625e-02  4.34769660e-01]\n",
      " [ 1.77327741e-03  1.17017105e-01  2.89692968e-01 -1.24840192e-01\n",
      "   2.93250922e-02 -5.01312613e-02  4.54728663e-01]\n",
      " [-1.56600541e-03  4.49425392e-02  3.94222915e-01 -1.40840888e-01\n",
      "   3.24259028e-02 -4.79101539e-02  4.71297711e-01]\n",
      " [ 2.27138953e-05  2.03074574e-01  1.92239970e-01 -1.62736431e-01\n",
      "   3.24946828e-02 -4.68619466e-02  4.93839949e-01]\n",
      " [-2.03797361e-03  1.97203413e-01  2.29934469e-01 -1.79654732e-01\n",
      "   3.34150903e-02 -4.01719958e-02  5.03267109e-01]\n",
      " [-1.76115497e-03  2.61787057e-01  2.35023066e-01 -1.95847556e-01\n",
      "   3.61682214e-02 -4.28572297e-02  5.20921648e-01]\n",
      " [-2.98805302e-03  2.10738614e-01  3.19387257e-01 -2.15016946e-01\n",
      "   3.26384939e-02 -4.97633852e-02  5.30505657e-01]\n",
      " [ 2.00904021e-03  2.86750466e-01  2.78556079e-01 -2.36054778e-01\n",
      "   4.05371673e-02 -5.47818430e-02  5.39757013e-01]\n",
      " [-1.12070004e-03  1.48496658e-01  3.53445828e-01 -2.50691473e-01\n",
      "   4.20348868e-02 -4.95184883e-02  5.57202458e-01]\n",
      " [-2.72061024e-03  1.13790803e-01  3.23571384e-01 -2.70425886e-01\n",
      "   4.13164198e-02 -4.87061627e-02  5.74097097e-01]\n",
      " [ 5.86277514e-04  1.83454335e-01  1.15581498e-01 -2.87692636e-01\n",
      "   4.71540950e-02 -4.78347205e-02  5.80684841e-01]\n",
      " [ 1.14873680e-03  2.27898180e-01  3.41767251e-01 -3.03888023e-01\n",
      "   4.91331965e-02 -5.23952693e-02  5.98463774e-01]]\n",
      "[-0.00290055  0.03168492  0.32111472  0.15190467  0.00544364 -0.05151303\n",
      "  0.19466156]\n"
     ]
    },
    {
     "data": {
      "image/png": "[encoded data removed]",
      "text/plain": [
       "<Figure size 640x480 with 1 Axes>"
      ]
     },
     "metadata": {},
     "output_type": "display_data"
    }
   ],
   "source": [
    "print(mean_actions)\n",
    "print(mean_actions[np.argmax(mean_reward)])\n",
    "plt.axvline(x=obs_rad_linspace[np.argmax(mean_reward)])\n",
    "for i in range(len(mean_actions.T)):\n",
    "    plt.errorbar(obs_rad_linspace, mean_actions[:, i], yerr=std_actions[:, i], fmt=\"o\", label=f'Action {i}')\n",
    "plt.plot(obs_rad_linspace, obs_rad_linspace * 0.15, label='analytical +')\n",
    "plt.plot(obs_rad_linspace, -obs_rad_linspace * 0.15, label='analytical -')\n",
    "plt.plot(obs_rad_linspace, mean_actions[:, 3] + mean_actions[:, 6], label='sum 3 + 6')\n",
    "plt.legend()\n",
    "plt.show()"
   ]
  },
  {
   "cell_type": "code",
   "execution_count": 30,
   "metadata": {},
   "outputs": [
    {
     "data": {
      "image/png": "[encoded data removed]",
      "text/plain": [
       "<Figure size 640x480 with 1 Axes>"
      ]
     },
     "metadata": {},
     "output_type": "display_data"
    }
   ],
   "source": [
    "plt.scatter(obs_linspace, mean_fidelity, label='Evaluated Policy Rewards')\n",
    "plt.legend()\n",
    "plt.show()"
   ]
  },
  {
   "cell_type": "code",
   "execution_count": 31,
   "metadata": {},
   "outputs": [
    {
     "name": "stderr",
     "output_type": "stream",
     "text": [
      "/Users/chatt07/Desktop/new_context_env/lib/python3.9/site-packages/qiskit_aer/noise/noise_model.py:379: UserWarning: Qiskit backend AerSimulator('aer_simulator'\n",
      "             noise_model=<NoiseModel on ['custom_kron(rx,ident)_gate']>) has no QubitProperties, so the resulting noise model will not include any thermal relaxation errors.\n",
      "  warn(\n",
      "/Users/chatt07/Desktop/new_context_env/lib/python3.9/site-packages/qiskit_aer/noise/noise_model.py:379: UserWarning: Qiskit backend AerSimulator('aer_simulator'\n",
      "             noise_model=<NoiseModel on ['custom_kron(rx,ident)_gate']>) has no QubitProperties, so the resulting noise model will not include any thermal relaxation errors.\n",
      "  warn(\n"
     ]
    },
    {
     "name": "stdout",
     "output_type": "stream",
     "text": [
      "Fidelity stored 0.7938926261462362\n",
      "(1,)\n",
      "(32,)\n"
     ]
    },
    {
     "name": "stderr",
     "output_type": "stream",
     "text": [
      "/Users/chatt07/Desktop/new_context_env/lib/python3.9/site-packages/qiskit_aer/noise/noise_model.py:379: UserWarning: Qiskit backend AerSimulator('aer_simulator'\n",
      "             noise_model=<NoiseModel on ['custom_kron(rx,ident)_gate']>) has no QubitProperties, so the resulting noise model will not include any thermal relaxation errors.\n",
      "  warn(\n",
      "/Users/chatt07/Desktop/new_context_env/lib/python3.9/site-packages/qiskit_aer/noise/noise_model.py:379: UserWarning: Qiskit backend AerSimulator('aer_simulator'\n",
      "             noise_model=<NoiseModel on ['custom_kron(rx,ident)_gate']>) has no QubitProperties, so the resulting noise model will not include any thermal relaxation errors.\n",
      "  warn(\n"
     ]
    },
    {
     "name": "stdout",
     "output_type": "stream",
     "text": [
      "Fidelity stored 0.8306559326618255\n",
      "(1,)\n",
      "(32,)\n"
     ]
    },
    {
     "name": "stderr",
     "output_type": "stream",
     "text": [
      "/Users/chatt07/Desktop/new_context_env/lib/python3.9/site-packages/qiskit_aer/noise/noise_model.py:379: UserWarning: Qiskit backend AerSimulator('aer_simulator'\n",
      "             noise_model=<NoiseModel on ['custom_kron(rx,ident)_gate']>) has no QubitProperties, so the resulting noise model will not include any thermal relaxation errors.\n",
      "  warn(\n",
      "/Users/chatt07/Desktop/new_context_env/lib/python3.9/site-packages/qiskit_aer/noise/noise_model.py:379: UserWarning: Qiskit backend AerSimulator('aer_simulator'\n",
      "             noise_model=<NoiseModel on ['custom_kron(rx,ident)_gate']>) has no QubitProperties, so the resulting noise model will not include any thermal relaxation errors.\n",
      "  warn(\n"
     ]
    },
    {
     "name": "stdout",
     "output_type": "stream",
     "text": [
      "Fidelity stored 0.8644843137107057\n",
      "(1,)\n",
      "(32,)\n"
     ]
    },
    {
     "name": "stderr",
     "output_type": "stream",
     "text": [
      "/Users/chatt07/Desktop/new_context_env/lib/python3.9/site-packages/qiskit_aer/noise/noise_model.py:379: UserWarning: Qiskit backend AerSimulator('aer_simulator'\n",
      "             noise_model=<NoiseModel on ['custom_kron(rx,ident)_gate']>) has no QubitProperties, so the resulting noise model will not include any thermal relaxation errors.\n",
      "  warn(\n",
      "/Users/chatt07/Desktop/new_context_env/lib/python3.9/site-packages/qiskit_aer/noise/noise_model.py:379: UserWarning: Qiskit backend AerSimulator('aer_simulator'\n",
      "             noise_model=<NoiseModel on ['custom_kron(rx,ident)_gate']>) has no QubitProperties, so the resulting noise model will not include any thermal relaxation errors.\n",
      "  warn(\n"
     ]
    },
    {
     "name": "stdout",
     "output_type": "stream",
     "text": [
      "Fidelity stored 0.8950775061878449\n",
      "(1,)\n",
      "(32,)\n"
     ]
    },
    {
     "name": "stderr",
     "output_type": "stream",
     "text": [
      "/Users/chatt07/Desktop/new_context_env/lib/python3.9/site-packages/qiskit_aer/noise/noise_model.py:379: UserWarning: Qiskit backend AerSimulator('aer_simulator'\n",
      "             noise_model=<NoiseModel on ['custom_kron(rx,ident)_gate']>) has no QubitProperties, so the resulting noise model will not include any thermal relaxation errors.\n",
      "  warn(\n",
      "/Users/chatt07/Desktop/new_context_env/lib/python3.9/site-packages/qiskit_aer/noise/noise_model.py:379: UserWarning: Qiskit backend AerSimulator('aer_simulator'\n",
      "             noise_model=<NoiseModel on ['custom_kron(rx,ident)_gate']>) has no QubitProperties, so the resulting noise model will not include any thermal relaxation errors.\n",
      "  warn(\n"
     ]
    },
    {
     "name": "stdout",
     "output_type": "stream",
     "text": [
      "Fidelity stored 0.9221639627510073\n",
      "(1,)\n",
      "(32,)\n"
     ]
    },
    {
     "name": "stderr",
     "output_type": "stream",
     "text": [
      "/Users/chatt07/Desktop/new_context_env/lib/python3.9/site-packages/qiskit_aer/noise/noise_model.py:379: UserWarning: Qiskit backend AerSimulator('aer_simulator'\n",
      "             noise_model=<NoiseModel on ['custom_kron(rx,ident)_gate']>) has no QubitProperties, so the resulting noise model will not include any thermal relaxation errors.\n",
      "  warn(\n",
      "/Users/chatt07/Desktop/new_context_env/lib/python3.9/site-packages/qiskit_aer/noise/noise_model.py:379: UserWarning: Qiskit backend AerSimulator('aer_simulator'\n",
      "             noise_model=<NoiseModel on ['custom_kron(rx,ident)_gate']>) has no QubitProperties, so the resulting noise model will not include any thermal relaxation errors.\n",
      "  warn(\n"
     ]
    },
    {
     "name": "stdout",
     "output_type": "stream",
     "text": [
      "Fidelity stored 0.9455032620941837\n",
      "(1,)\n",
      "(32,)\n"
     ]
    },
    {
     "name": "stderr",
     "output_type": "stream",
     "text": [
      "/Users/chatt07/Desktop/new_context_env/lib/python3.9/site-packages/qiskit_aer/noise/noise_model.py:379: UserWarning: Qiskit backend AerSimulator('aer_simulator'\n",
      "             noise_model=<NoiseModel on ['custom_kron(rx,ident)_gate']>) has no QubitProperties, so the resulting noise model will not include any thermal relaxation errors.\n",
      "  warn(\n",
      "/Users/chatt07/Desktop/new_context_env/lib/python3.9/site-packages/qiskit_aer/noise/noise_model.py:379: UserWarning: Qiskit backend AerSimulator('aer_simulator'\n",
      "             noise_model=<NoiseModel on ['custom_kron(rx,ident)_gate']>) has no QubitProperties, so the resulting noise model will not include any thermal relaxation errors.\n",
      "  warn(\n"
     ]
    },
    {
     "name": "stdout",
     "output_type": "stream",
     "text": [
      "Fidelity stored 0.9648882429441255\n",
      "(1,)\n",
      "(32,)\n"
     ]
    },
    {
     "name": "stderr",
     "output_type": "stream",
     "text": [
      "/Users/chatt07/Desktop/new_context_env/lib/python3.9/site-packages/qiskit_aer/noise/noise_model.py:379: UserWarning: Qiskit backend AerSimulator('aer_simulator'\n",
      "             noise_model=<NoiseModel on ['custom_kron(rx,ident)_gate']>) has no QubitProperties, so the resulting noise model will not include any thermal relaxation errors.\n",
      "  warn(\n",
      "/Users/chatt07/Desktop/new_context_env/lib/python3.9/site-packages/qiskit_aer/noise/noise_model.py:379: UserWarning: Qiskit backend AerSimulator('aer_simulator'\n",
      "             noise_model=<NoiseModel on ['custom_kron(rx,ident)_gate']>) has no QubitProperties, so the resulting noise model will not include any thermal relaxation errors.\n",
      "  warn(\n"
     ]
    },
    {
     "name": "stdout",
     "output_type": "stream",
     "text": [
      "Fidelity stored 0.9801468428384712\n",
      "(1,)\n",
      "(32,)\n"
     ]
    },
    {
     "name": "stderr",
     "output_type": "stream",
     "text": [
      "/Users/chatt07/Desktop/new_context_env/lib/python3.9/site-packages/qiskit_aer/noise/noise_model.py:379: UserWarning: Qiskit backend AerSimulator('aer_simulator'\n",
      "             noise_model=<NoiseModel on ['custom_kron(rx,ident)_gate']>) has no QubitProperties, so the resulting noise model will not include any thermal relaxation errors.\n",
      "  warn(\n",
      "/Users/chatt07/Desktop/new_context_env/lib/python3.9/site-packages/qiskit_aer/noise/noise_model.py:379: UserWarning: Qiskit backend AerSimulator('aer_simulator'\n",
      "             noise_model=<NoiseModel on ['custom_kron(rx,ident)_gate']>) has no QubitProperties, so the resulting noise model will not include any thermal relaxation errors.\n",
      "  warn(\n"
     ]
    },
    {
     "name": "stdout",
     "output_type": "stream",
     "text": [
      "Fidelity stored 0.9911436253643444\n",
      "(1,)\n",
      "(32,)\n"
     ]
    },
    {
     "name": "stderr",
     "output_type": "stream",
     "text": [
      "/Users/chatt07/Desktop/new_context_env/lib/python3.9/site-packages/qiskit_aer/noise/noise_model.py:379: UserWarning: Qiskit backend AerSimulator('aer_simulator'\n",
      "             noise_model=<NoiseModel on ['custom_kron(rx,ident)_gate']>) has no QubitProperties, so the resulting noise model will not include any thermal relaxation errors.\n",
      "  warn(\n",
      "/Users/chatt07/Desktop/new_context_env/lib/python3.9/site-packages/qiskit_aer/noise/noise_model.py:379: UserWarning: Qiskit backend AerSimulator('aer_simulator'\n",
      "             noise_model=<NoiseModel on ['custom_kron(rx,ident)_gate']>) has no QubitProperties, so the resulting noise model will not include any thermal relaxation errors.\n",
      "  warn(\n"
     ]
    },
    {
     "name": "stdout",
     "output_type": "stream",
     "text": [
      "Fidelity stored 0.99778098230154\n",
      "(1,)\n",
      "(32,)\n"
     ]
    },
    {
     "name": "stderr",
     "output_type": "stream",
     "text": [
      "/Users/chatt07/Desktop/new_context_env/lib/python3.9/site-packages/qiskit_aer/noise/noise_model.py:379: UserWarning: Qiskit backend AerSimulator('aer_simulator') has no QubitProperties, so the resulting noise model will not include any thermal relaxation errors.\n",
      "  warn(\n",
      "/Users/chatt07/Desktop/new_context_env/lib/python3.9/site-packages/qiskit_aer/noise/noise_model.py:379: UserWarning: Qiskit backend AerSimulator('aer_simulator') has no QubitProperties, so the resulting noise model will not include any thermal relaxation errors.\n",
      "  warn(\n"
     ]
    },
    {
     "name": "stdout",
     "output_type": "stream",
     "text": [
      "Fidelity stored 0.9999999999999998\n",
      "(1,)\n",
      "(32,)\n"
     ]
    },
    {
     "name": "stderr",
     "output_type": "stream",
     "text": [
      "/Users/chatt07/Desktop/new_context_env/lib/python3.9/site-packages/qiskit_aer/noise/noise_model.py:379: UserWarning: Qiskit backend AerSimulator('aer_simulator'\n",
      "             noise_model=<NoiseModel on ['custom_kron(rx,ident)_gate']>) has no QubitProperties, so the resulting noise model will not include any thermal relaxation errors.\n",
      "  warn(\n",
      "/Users/chatt07/Desktop/new_context_env/lib/python3.9/site-packages/qiskit_aer/noise/noise_model.py:379: UserWarning: Qiskit backend AerSimulator('aer_simulator'\n",
      "             noise_model=<NoiseModel on ['custom_kron(rx,ident)_gate']>) has no QubitProperties, so the resulting noise model will not include any thermal relaxation errors.\n",
      "  warn(\n"
     ]
    },
    {
     "name": "stdout",
     "output_type": "stream",
     "text": [
      "Fidelity stored 0.99778098230154\n",
      "(1,)\n",
      "(32,)\n"
     ]
    },
    {
     "name": "stderr",
     "output_type": "stream",
     "text": [
      "/Users/chatt07/Desktop/new_context_env/lib/python3.9/site-packages/qiskit_aer/noise/noise_model.py:379: UserWarning: Qiskit backend AerSimulator('aer_simulator'\n",
      "             noise_model=<NoiseModel on ['custom_kron(rx,ident)_gate']>) has no QubitProperties, so the resulting noise model will not include any thermal relaxation errors.\n",
      "  warn(\n",
      "/Users/chatt07/Desktop/new_context_env/lib/python3.9/site-packages/qiskit_aer/noise/noise_model.py:379: UserWarning: Qiskit backend AerSimulator('aer_simulator'\n",
      "             noise_model=<NoiseModel on ['custom_kron(rx,ident)_gate']>) has no QubitProperties, so the resulting noise model will not include any thermal relaxation errors.\n",
      "  warn(\n"
     ]
    },
    {
     "name": "stdout",
     "output_type": "stream",
     "text": [
      "Fidelity stored 0.9911436253643444\n",
      "(1,)\n",
      "(32,)\n"
     ]
    },
    {
     "name": "stderr",
     "output_type": "stream",
     "text": [
      "/Users/chatt07/Desktop/new_context_env/lib/python3.9/site-packages/qiskit_aer/noise/noise_model.py:379: UserWarning: Qiskit backend AerSimulator('aer_simulator'\n",
      "             noise_model=<NoiseModel on ['custom_kron(rx,ident)_gate']>) has no QubitProperties, so the resulting noise model will not include any thermal relaxation errors.\n",
      "  warn(\n",
      "/Users/chatt07/Desktop/new_context_env/lib/python3.9/site-packages/qiskit_aer/noise/noise_model.py:379: UserWarning: Qiskit backend AerSimulator('aer_simulator'\n",
      "             noise_model=<NoiseModel on ['custom_kron(rx,ident)_gate']>) has no QubitProperties, so the resulting noise model will not include any thermal relaxation errors.\n",
      "  warn(\n"
     ]
    },
    {
     "name": "stdout",
     "output_type": "stream",
     "text": [
      "Fidelity stored 0.9801468428384716\n",
      "(1,)\n",
      "(32,)\n"
     ]
    },
    {
     "name": "stderr",
     "output_type": "stream",
     "text": [
      "/Users/chatt07/Desktop/new_context_env/lib/python3.9/site-packages/qiskit_aer/noise/noise_model.py:379: UserWarning: Qiskit backend AerSimulator('aer_simulator'\n",
      "             noise_model=<NoiseModel on ['custom_kron(rx,ident)_gate']>) has no QubitProperties, so the resulting noise model will not include any thermal relaxation errors.\n",
      "  warn(\n",
      "/Users/chatt07/Desktop/new_context_env/lib/python3.9/site-packages/qiskit_aer/noise/noise_model.py:379: UserWarning: Qiskit backend AerSimulator('aer_simulator'\n",
      "             noise_model=<NoiseModel on ['custom_kron(rx,ident)_gate']>) has no QubitProperties, so the resulting noise model will not include any thermal relaxation errors.\n",
      "  warn(\n"
     ]
    },
    {
     "name": "stdout",
     "output_type": "stream",
     "text": [
      "Fidelity stored 0.9648882429441259\n",
      "(1,)\n",
      "(32,)\n"
     ]
    },
    {
     "name": "stderr",
     "output_type": "stream",
     "text": [
      "/Users/chatt07/Desktop/new_context_env/lib/python3.9/site-packages/qiskit_aer/noise/noise_model.py:379: UserWarning: Qiskit backend AerSimulator('aer_simulator'\n",
      "             noise_model=<NoiseModel on ['custom_kron(rx,ident)_gate']>) has no QubitProperties, so the resulting noise model will not include any thermal relaxation errors.\n",
      "  warn(\n",
      "/Users/chatt07/Desktop/new_context_env/lib/python3.9/site-packages/qiskit_aer/noise/noise_model.py:379: UserWarning: Qiskit backend AerSimulator('aer_simulator'\n",
      "             noise_model=<NoiseModel on ['custom_kron(rx,ident)_gate']>) has no QubitProperties, so the resulting noise model will not include any thermal relaxation errors.\n",
      "  warn(\n"
     ]
    },
    {
     "name": "stdout",
     "output_type": "stream",
     "text": [
      "Fidelity stored 0.9455032620941841\n",
      "(1,)\n",
      "(32,)\n"
     ]
    },
    {
     "name": "stderr",
     "output_type": "stream",
     "text": [
      "/Users/chatt07/Desktop/new_context_env/lib/python3.9/site-packages/qiskit_aer/noise/noise_model.py:379: UserWarning: Qiskit backend AerSimulator('aer_simulator'\n",
      "             noise_model=<NoiseModel on ['custom_kron(rx,ident)_gate']>) has no QubitProperties, so the resulting noise model will not include any thermal relaxation errors.\n",
      "  warn(\n",
      "/Users/chatt07/Desktop/new_context_env/lib/python3.9/site-packages/qiskit_aer/noise/noise_model.py:379: UserWarning: Qiskit backend AerSimulator('aer_simulator'\n",
      "             noise_model=<NoiseModel on ['custom_kron(rx,ident)_gate']>) has no QubitProperties, so the resulting noise model will not include any thermal relaxation errors.\n",
      "  warn(\n"
     ]
    },
    {
     "name": "stdout",
     "output_type": "stream",
     "text": [
      "Fidelity stored 0.9221639627510079\n",
      "(1,)\n",
      "(32,)\n"
     ]
    },
    {
     "name": "stderr",
     "output_type": "stream",
     "text": [
      "/Users/chatt07/Desktop/new_context_env/lib/python3.9/site-packages/qiskit_aer/noise/noise_model.py:379: UserWarning: Qiskit backend AerSimulator('aer_simulator'\n",
      "             noise_model=<NoiseModel on ['custom_kron(rx,ident)_gate']>) has no QubitProperties, so the resulting noise model will not include any thermal relaxation errors.\n",
      "  warn(\n",
      "/Users/chatt07/Desktop/new_context_env/lib/python3.9/site-packages/qiskit_aer/noise/noise_model.py:379: UserWarning: Qiskit backend AerSimulator('aer_simulator'\n",
      "             noise_model=<NoiseModel on ['custom_kron(rx,ident)_gate']>) has no QubitProperties, so the resulting noise model will not include any thermal relaxation errors.\n",
      "  warn(\n"
     ]
    },
    {
     "name": "stdout",
     "output_type": "stream",
     "text": [
      "Fidelity stored 0.8950775061878453\n",
      "(1,)\n",
      "(32,)\n"
     ]
    },
    {
     "name": "stderr",
     "output_type": "stream",
     "text": [
      "/Users/chatt07/Desktop/new_context_env/lib/python3.9/site-packages/qiskit_aer/noise/noise_model.py:379: UserWarning: Qiskit backend AerSimulator('aer_simulator'\n",
      "             noise_model=<NoiseModel on ['custom_kron(rx,ident)_gate']>) has no QubitProperties, so the resulting noise model will not include any thermal relaxation errors.\n",
      "  warn(\n",
      "/Users/chatt07/Desktop/new_context_env/lib/python3.9/site-packages/qiskit_aer/noise/noise_model.py:379: UserWarning: Qiskit backend AerSimulator('aer_simulator'\n",
      "             noise_model=<NoiseModel on ['custom_kron(rx,ident)_gate']>) has no QubitProperties, so the resulting noise model will not include any thermal relaxation errors.\n",
      "  warn(\n"
     ]
    },
    {
     "name": "stdout",
     "output_type": "stream",
     "text": [
      "Fidelity stored 0.8644843137107061\n",
      "(1,)\n",
      "(32,)\n"
     ]
    },
    {
     "name": "stderr",
     "output_type": "stream",
     "text": [
      "/Users/chatt07/Desktop/new_context_env/lib/python3.9/site-packages/qiskit_aer/noise/noise_model.py:379: UserWarning: Qiskit backend AerSimulator('aer_simulator'\n",
      "             noise_model=<NoiseModel on ['custom_kron(rx,ident)_gate']>) has no QubitProperties, so the resulting noise model will not include any thermal relaxation errors.\n",
      "  warn(\n",
      "/Users/chatt07/Desktop/new_context_env/lib/python3.9/site-packages/qiskit_aer/noise/noise_model.py:379: UserWarning: Qiskit backend AerSimulator('aer_simulator'\n",
      "             noise_model=<NoiseModel on ['custom_kron(rx,ident)_gate']>) has no QubitProperties, so the resulting noise model will not include any thermal relaxation errors.\n",
      "  warn(\n"
     ]
    },
    {
     "name": "stdout",
     "output_type": "stream",
     "text": [
      "Fidelity stored 0.8306559326618265\n",
      "(1,)\n",
      "(32,)\n",
      "Fidelity stored 0.7938926261462371\n",
      "(1,)\n",
      "(32,)\n"
     ]
    },
    {
     "name": "stderr",
     "output_type": "stream",
     "text": [
      "/Users/chatt07/Desktop/new_context_env/lib/python3.9/site-packages/qiskit_aer/noise/noise_model.py:379: UserWarning: Qiskit backend AerSimulator('aer_simulator'\n",
      "             noise_model=<NoiseModel on ['custom_kron(rx,ident)_gate']>) has no QubitProperties, so the resulting noise model will not include any thermal relaxation errors.\n",
      "  warn(\n",
      "/Users/chatt07/Desktop/new_context_env/lib/python3.9/site-packages/qiskit_aer/noise/noise_model.py:379: UserWarning: Qiskit backend AerSimulator('aer_simulator'\n",
      "             noise_model=<NoiseModel on ['custom_kron(rx,ident)_gate']>) has no QubitProperties, so the resulting noise model will not include any thermal relaxation errors.\n",
      "  warn(\n"
     ]
    }
   ],
   "source": [
    "# Evaluating Policy across Parameter Space\n",
    "\n",
    "import torch\n",
    "\n",
    "obs_linspace = np.linspace(-1.0, 1.0, 21)\n",
    "\n",
    "zeros_mean_reward = np.zeros_like(obs_linspace)\n",
    "zeros_std_reward = np.zeros_like(obs_linspace)\n",
    "\n",
    "for i, test_obs in enumerate(obs_linspace):\n",
    "    test_obs, _ = ppo_agent.env.reset(seed=ppo_agent.seed, override_obs=test_obs)\n",
    "    batch_test_obs = np.tile(test_obs, (ppo_agent.num_envs, 1))\n",
    "    with torch.no_grad():\n",
    "        action, logprob, _, value = ppo_agent.agent.get_action_and_value(\n",
    "            torch.Tensor(batch_test_obs)\n",
    "        )\n",
    "    cpu_action = action.cpu().numpy()\n",
    "    cpu_action = np.clip(\n",
    "        cpu_action,\n",
    "        ppo_agent.env.action_space.low,\n",
    "        ppo_agent.env.action_space.high,\n",
    "    )\n",
    "    cpu_action = np.zeros_like(cpu_action)\n",
    "\n",
    "    next_obs, reward, terminations, truncations, infos = ppo_agent.env.step(\n",
    "        cpu_action\n",
    "    )\n",
    "    zeros_mean_reward[i] = np.mean(reward)\n",
    "    zeros_std_reward[i] = np.std(reward)"
   ]
  },
  {
   "cell_type": "code",
   "execution_count": 32,
   "metadata": {},
   "outputs": [
    {
     "data": {
      "image/png": "[encoded data removed]",
      "text/plain": [
       "<Figure size 640x480 with 1 Axes>"
      ]
     },
     "metadata": {},
     "output_type": "display_data"
    }
   ],
   "source": [
    "zeros_mean_fidelity = 1. - np.exp(-zeros_mean_reward)\n",
    "zeros_std_fidelity = 1. - np.exp(-zeros_std_reward)\n",
    "\n",
    "plt.errorbar(obs_linspace * np.pi, zeros_mean_reward * np.log10(np.e), yerr=zeros_std_reward * np.log10(np.e), fmt=\"o\", label='Evaluated Policy Rewards')\n",
    "plt.legend()\n",
    "plt.show()"
   ]
  },
  {
   "cell_type": "code",
   "execution_count": null,
   "metadata": {},
   "outputs": [],
   "source": [
    "### Nearly 3 9s all over ###\n",
    "\n",
    "# agent_config = {\n",
    "#     \"exp_name\": \"Test PPO CleanRL\",\n",
    "#     \"seed\": 1,\n",
    "#     \"torch_deterministic\": True,\n",
    "#     \"cuda\": False,\n",
    "#     \"track\": False,\n",
    "#     \"wandb_project_name\": \"Context Aware Calibrations\",\n",
    "#     \"wandb_entity\": None,\n",
    "#     \"save_model\": True,\n",
    "#     \"plot_real_time\": True,\n",
    "#     \"num_prints\": 5,\n",
    "#     \"total_updates\": 600,\n",
    "#     \"learning_rate\": 3e-5,\n",
    "#     \"num_envs\": 32,\n",
    "#     \"num_steps\": 1,\n",
    "#     \"anneal_lr\": True,\n",
    "#     \"anneal_num_updates\": 400,\n",
    "#     \"exp_anneal_lr\": False,\n",
    "#     \"exp_update_time\": 100,\n",
    "#     \"plateau_lr\": 1e-6,\n",
    "#     \"gamma\": 0.99,\n",
    "#     \"gae_lambda\": 0.95,\n",
    "#     \"num_minibatches\": 4,\n",
    "#     \"update_epochs\": 8,\n",
    "#     \"norm_adv\": True,\n",
    "#     \"activation_function_str\": \"tanh\",\n",
    "#     \"use_combined_networks\": True,\n",
    "#     \"layer_size\": 64,\n",
    "#     \"clip_coef\": 0.2,\n",
    "#     \"clip_vloss\": True,\n",
    "#     \"ent_coef\": 0.,\n",
    "#     \"vf_coef\": 0.5,\n",
    "#     \"max_grad_norm\": 0.5,\n",
    "#     \"target_kl\": None\n",
    "# }"
   ]
  }
 ],
 "metadata": {
  "kernelspec": {
   "display_name": "new_context_env",
   "language": "python",
   "name": "python3"
  },
  "language_info": {
   "codemirror_mode": {
    "name": "ipython",
    "version": 3
   },
   "file_extension": ".py",
   "mimetype": "text/x-python",
   "name": "python",
   "nbconvert_exporter": "python",
   "pygments_lexer": "ipython3",
   "version": "3.9.11"
  }
 },
 "nbformat": 4,
 "nbformat_minor": 2
}

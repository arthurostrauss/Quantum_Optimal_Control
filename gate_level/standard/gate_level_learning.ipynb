{
 "cells": [
  {
   "cell_type": "code",
   "execution_count": null,
   "metadata": {
    "ExecuteTime": {
     "end_time": "2025-03-06T07:36:56.990022Z",
     "start_time": "2025-03-06T07:36:50.468372Z"
    }
   },
   "outputs": [],
   "source": [
    "%matplotlib inline\n",
    "import numpy as np\n",
    "import matplotlib.pyplot as plt\n",
    "from qiskit.circuit.library import CXGate\n",
    "from rl_qoc.circuits import (\n",
    "    get_circuit_context,\n",
    ")\n",
    "from rl_qoc import (\n",
    "    QuantumEnvironment,\n",
    "    ContextAwareQuantumEnvironment,\n",
    "    RescaleAndClipAction,\n",
    ")\n",
    "from rl_qoc.environment import GateTarget\n",
    "from rl_qoc.config import (\n",
    "    QEnvConfig,\n",
    "    BackendConfig,\n",
    "    ExecutionConfig,\n",
    "    RewardConfig,\n",
    ")\n",
    "import os\n",
    "\n",
    "backend_config = BackendConfig(\n",
    "    backend_name=\"statevector_simulator\",\n",
    "    n_qubits=2,\n",
    "    initial_layout=[0, 1],\n",
    ")\n",
    "physical_qubits = [0, 1]\n",
    "\n",
    "circuit_context = get_circuit_context(\n",
    "    backend=backend_config.backend,\n",
    "    physical_qubits=physical_qubits,\n",
    ")\n",
    "\n",
    "q_env_config = QEnvConfig(\n",
    "    backend_config=backend_config,\n",
    "    execution_config=ExecutionConfig(n_shots=1024),\n",
    "    target=GateTarget(\n",
    "        gate=CXGate(),\n",
    "        physical_qubits=physical_qubits,\n",
    "        circuit_context=circuit_context,\n",
    "    ),\n",
    "    reward=RewardConfig(method=\"state_fidelity\"),\n",
    ")\n",
    "\n",
    "print(\"Circuit context\")\n",
    "circuit_context.draw(\"mpl\")"
   ]
  },
  {
   "cell_type": "code",
   "execution_count": 2,
   "metadata": {
    "ExecuteTime": {
     "end_time": "2025-03-06T07:36:57.145625Z",
     "start_time": "2025-03-06T07:36:57.142458Z"
    },
    "collapsed": false,
    "jupyter": {
     "outputs_hidden": false
    }
   },
   "outputs": [
    {
     "name": "stdout",
     "output_type": "stream",
     "text": [
      "No backend selected, cannot plot circuit layout or gate map\n"
     ]
    }
   ],
   "source": [
    "from qiskit.visualization import plot_circuit_layout, plot_gate_map\n",
    "\n",
    "if (\n",
    "    q_env_config.backend_config.backend is not None\n",
    "    and circuit_context.layout is not None\n",
    "):\n",
    "    fig = plot_circuit_layout(\n",
    "        circuit_context, q_env_config.backend_config.backend, view=\"physical\"\n",
    "    )\n",
    "    print(\n",
    "        \"Selected backend:\",\n",
    "        q_env_config.backend_config.backend.name,\n",
    "        \"backend version\",\n",
    "        q_env_config.backend_config.backend.version,\n",
    "    )\n",
    "elif (\n",
    "    q_env_config.backend_config.backend is not None\n",
    "    and q_env_config.backend_config.backend.coupling_map.size() != 0\n",
    "):\n",
    "    fig = plot_gate_map(q_env_config.backend_config.backend)\n",
    "    print(\n",
    "        \"Selected backend:\",\n",
    "        q_env_config.backend_config.backend.name,\n",
    "        \"backend version\",\n",
    "        q_env_config.backend_config.backend.version,\n",
    "    )\n",
    "else:\n",
    "    fig = None\n",
    "    print(\"No backend selected, cannot plot circuit layout or gate map\")\n",
    "\n",
    "fig"
   ]
  },
  {
   "cell_type": "code",
   "execution_count": null,
   "metadata": {
    "ExecuteTime": {
     "end_time": "2025-03-06T07:36:57.182634Z",
     "start_time": "2025-03-06T07:36:57.159829Z"
    }
   },
   "outputs": [],
   "source": [
    "use_context = False\n",
    "if use_context:\n",
    "    q_env = ContextAwareQuantumEnvironment(q_env_config)\n",
    "else:\n",
    "    q_env = QuantumEnvironment(q_env_config)\n",
    "rescaled_env = RescaleAndClipAction(q_env, -1.0, 1.0)"
   ]
  },
  {
   "cell_type": "code",
   "execution_count": 5,
   "metadata": {
    "ExecuteTime": {
     "end_time": "2025-03-06T07:36:57.226339Z",
     "start_time": "2025-03-06T07:36:57.187579Z"
    },
    "collapsed": false,
    "jupyter": {
     "outputs_hidden": false
    }
   },
   "outputs": [
    {
     "data": {
      "image/png": "[encoded data removed]",
      "text/plain": [
       "<Figure size 640x480 with 1 Axes>"
      ]
     },
     "metadata": {},
     "output_type": "display_data"
    }
   ],
   "source": [
    "from qiskit.visualization import plot_histogram\n",
    "from qiskit_aer import AerSimulator\n",
    "from qiskit.primitives import Sampler\n",
    "\n",
    "# Create an AerSimulator instance\n",
    "aer_sim = AerSimulator()\n",
    "\n",
    "# Transpile the circuit for the simulator\n",
    "t_qc = transpile(q_env.circuits[0], aer_sim)\n",
    "\n",
    "# Run the simulation\n",
    "# result = aer_sim.run(t_qc).result()\n",
    "sampler = Sampler()\n",
    "job = sampler.run(t_qc)\n",
    "result = job.result()\n",
    "counts = result.quasi_dists[0].binary_probabilities()\n",
    "\n",
    "# Plot the histogram\n",
    "plot_histogram(counts)"
   ]
  },
  {
   "cell_type": "code",
   "execution_count": null,
   "metadata": {},
   "outputs": [],
   "source": []
  }
 ],
 "metadata": {
  "kernelspec": {
   "display_name": "rl_qoc",
   "language": "python",
   "name": "python3"
  },
  "language_info": {
   "codemirror_mode": {
    "name": "ipython",
    "version": 3
   },
   "file_extension": ".py",
   "mimetype": "text/x-python",
   "name": "python",
   "nbconvert_exporter": "python",
   "pygments_lexer": "ipython3",
   "version": "3.11.9"
  }
 },
 "nbformat": 4,
 "nbformat_minor": 4
}

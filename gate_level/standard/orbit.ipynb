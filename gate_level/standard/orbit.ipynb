{
 "cells": [
  {
   "metadata": {},
   "cell_type": "markdown",
   "source": [
    "# ORBIT Calibration\n",
    "\n",
    "This notebook demonstrates how to use the ORBIT calibration method to estimate the fidelity of a quantum device. The ORBIT method is a variant of the randomized benchmarking protocol that uses a single qubit to estimate the fidelity of a multi-qubit device. The method is described in detail in this [paper](https://journals.aps.org/prl/abstract/10.1103/PhysRevLett.112.240504).\n",
    "\n",
    "ORBIT consists in preparing an interleaved randomized benchmarking sequence (of fixed length), and then measuring the fidelity of the device by comparing the output of the interleaved sequence with the output of the reference sequence. The fidelity is then estimated as the probability of measuring the ground state of the qubit after the interleaved sequence. This estimation is then used as a cost function for a model-free optimizer to tune the parameters of the gate set as an interleaved element.\n",
    "\n",
    "In this notebook, we show how to leverage our defined interface for `QuantumEnvironment` to perform ORBIT. "
   ],
   "id": "777378b4f8313819"
  },
  {
   "metadata": {
    "ExecuteTime": {
     "end_time": "2024-11-03T09:53:08.227437Z",
     "start_time": "2024-11-03T09:53:02.990098Z"
    }
   },
"cell_type": "code",
   "source": [
    "from qiskit_experiments.library.randomized_benchmarking import InterleavedRB\n",
    "from qiskit.quantum_info import Operator\n",
    "from rl_qoc.circuits import (\n",
    "    get_circuit_context,\n",
    "    apply_parametrized_circuit,\n",
    ")\n",
    "from rl_qoc import QuantumEnvironment, ContextAwareQuantumEnvironment\n",
    "from rl_qoc.helpers import get_q_env_config\n",
    "from rl_qoc.environment import GateTarget\n",
    "from gate_level.standard.orbit import ORBIT\n",
    "import numpy as np"
   ],
   "id": "initial_id",
   "outputs": [],
   "execution_count": 1
  },
  {
   "metadata": {
    "ExecuteTime": {
     "end_time": "2024-11-03T09:54:56.015242Z",
     "start_time": "2024-11-03T09:54:55.925117Z"
    }
   },
   "cell_type": "code",
   "source": [
    "circuit_context = get_circuit_context()\n",
    "use_context = False\n",
    "gate_q_env_config, _ = get_q_env_config(\n",
    "    \"q_env_gate_config.yml\",\n",
    "    target=GateTarget(\n",
    "        gate=\"cx\",\n",
    "        physical_qubits=[0, 1],\n",
    "        circuit_context=circuit_context\n",
    "    ),\n",
    "    parametrized_circuit=apply_parametrized_circuit,\n",
    ")\n",
    "gate_q_env_config.parametrized_circuit_kwargs = {\n",
    "    \"target\": gate_q_env_config.target,\n",
    "    \"backend\": gate_q_env_config.backend_config,\n",
    "}\n",
    "if use_context:\n",
    "    q_env = ContextAwareQuantumEnvironment(gate_q_env_config)\n",
    "else:\n",
    "    q_env = QuantumEnvironment(gate_q_env_config)"
   ],
   "id": "ab5af876c6b01a55",
   "outputs": [
    {
     "name": "stdout",
     "output_type": "stream",
     "text": [
      "Circuit context\n"
     ]
    }
   ],
   "execution_count": 3
  },
  {
   "metadata": {
    "ExecuteTime": {
     "end_time": "2024-11-03T09:54:57.529580Z",
     "start_time": "2024-11-03T09:54:57.367737Z"
    }
   },
   "cell_type": "code",
   "source": "q_env.circuits[0].data[0].operation.definition.draw(\"mpl\")",
   "id": "f7c639cc38a7e958",
   "outputs": [
    {
     "data": {
      "text/plain": [
       "<Figure size 621.739x200.667 with 1 Axes>"
      ],
      "image/png": "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,-0.08332909], dtype=float32)}",
     "metadata": {},
     "output_type": "display_data"
    }
   ],
   "execution_count": 40
  },
  {
   "cell_type": "code",
   "execution_count": null,
   "metadata": {},
   "outputs": [],
   "source": []
  }
 ],
 "metadata": {
  "kernelspec": {
   "display_name": "Python 3",
   "language": "python",
   "name": "python3"
  },
  "language_info": {
   "codemirror_mode": {
    "name": "ipython",
    "version": 2
   },
   "file_extension": ".py",
   "mimetype": "text/x-python",
   "name": "python",
   "nbconvert_exporter": "python",
   "pygments_lexer": "ipython2",
   "version": "2.7.6"
  }
 },
 "nbformat": 4,
 "nbformat_minor": 5
}

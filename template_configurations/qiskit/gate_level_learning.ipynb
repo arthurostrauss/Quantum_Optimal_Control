{
 "cells": [
  {
   "cell_type": "code",
   "execution_count": 1,
   "metadata": {},
   "outputs": [],
   "source": [
    "from __future__ import annotations\n",
    "\n",
    "import os\n",
    "\n",
    "os.environ[\"KMP_DUPLICATE_LIB_OK\"] = \"True\"\n",
    "import sys\n",
    "\n",
    "module_path = os.path.abspath(\n",
    "    os.path.join(\n",
    "        \"/Users/chatt07/Desktop/cqt_env/Quantum_Optimal_Control\"\n",
    "    )\n",
    ")\n",
    "if module_path not in sys.path:\n",
    "    sys.path.append(module_path)\n",
    "sys.path.append(\n",
    "    os.path.abspath(\n",
    "        os.path.join(\n",
    "            \"/Users/chatt07/Desktop/cqt_env/Quantum_Optimal_Control\"\n",
    "        )\n",
    "    )\n",
    ")"
   ]
  },
  {
   "cell_type": "code",
   "execution_count": 2,
   "metadata": {},
   "outputs": [
    {
     "name": "stderr",
     "output_type": "stream",
     "text": [
      "/Users/chatt07/Desktop/cqt_env/lib/python3.9/site-packages/jaxtyping/__init__.py:221: UserWarning: jaxtyping version >=0.2.23 should be used with Equinox version >=0.11.1\n",
      "  warnings.warn(\n",
      "/Users/chatt07/Desktop/cqt_env/lib/python3.9/site-packages/qiskit_dynamics/dispatch/backends/jax.py:34: UserWarning: The functionality in the perturbation module of Qiskit Dynamics requires a JAX version <= 0.4.6, due to a bug in JAX versions > 0.4.6. For versions 0.4.4, 0.4.5, and 0.4.6, using the perturbation module functionality requires setting os.environ['JAX_JIT_PJIT_API_MERGE'] = '0' before importing JAX or Dynamics.\n",
      "  warnings.warn(\n"
     ]
    }
   ],
   "source": [
    "from template_configurations import gate_q_env_config"
   ]
  },
  {
   "cell_type": "code",
   "execution_count": 3,
   "metadata": {},
   "outputs": [],
   "source": [
    "from quantumenvironment import QuantumEnvironment"
   ]
  },
  {
   "cell_type": "code",
   "execution_count": 4,
   "metadata": {},
   "outputs": [
    {
     "name": "stdout",
     "output_type": "stream",
     "text": [
      "SparsePauliOp(['II', 'IZ', 'ZI', 'ZZ'],\n",
      "              coeffs=[ 0.25+0.j, -0.25+0.j, -0.25+0.j,  0.25+0.j])\n"
     ]
    },
    {
     "data": {
      "text/plain": [
       "QuantumEnvironment composed of 2 qubits, \n",
       "Defined target: gate (Instruction(name='cx', num_qubits=2, num_clbits=0, params=[]))\n",
       "Physical qubits: [0, 1]\n",
       "Backend: <qiskit.providers.fake_provider.backends.jakarta.fake_jakarta.FakeJakartaV2 object at 0x7fb856ad8ee0>,\n",
       "Abstraction level: circuit,\n",
       "Run options: N_shots (1), Sampling_Pauli_space (100), \n",
       "Batchsize: 256, "
      ]
     },
     "execution_count": 4,
     "metadata": {},
     "output_type": "execute_result"
    }
   ],
   "source": [
    "q_env = QuantumEnvironment(gate_q_env_config)\n",
    "q_env"
   ]
  },
  {
   "cell_type": "code",
   "execution_count": 5,
   "metadata": {},
   "outputs": [],
   "source": [
    "import yaml\n",
    "\n",
    "with open(\n",
    "        \"/Users/chatt07/Desktop/cqt_env/Quantum_Optimal_Control/template_configurations/agent_config.yaml\",\n",
    "        \"r\",\n",
    ") as f:\n",
    "    agent_config = yaml.safe_load(f)"
   ]
  },
  {
   "cell_type": "code",
   "execution_count": 6,
   "metadata": {},
   "outputs": [],
   "source": [
    "from ppo import make_train_ppo\n",
    "\n",
    "ppo_agent = make_train_ppo(agent_config, q_env)"
   ]
  },
  {
   "cell_type": "code",
   "execution_count": 16,
   "metadata": {},
   "outputs": [
    {
     "name": "stderr",
     "output_type": "stream",
     "text": [
      "\r 96%|█████████▌| 480/500 [07:26<00:14,  1.36it/s]"
     ]
    },
    {
     "name": "stdout",
     "output_type": "stream",
     "text": [
      "SparsePauliOp(['II', 'IZ', 'XI', 'XZ'],\n",
      "              coeffs=[0.25+0.j, 0.25+0.j, 0.25+0.j, 0.25+0.j])\n"
     ]
    },
    {
     "name": "stderr",
     "output_type": "stream",
     "text": [
      " 96%|█████████▌| 481/500 [07:27<00:13,  1.36it/s]"
     ]
    },
    {
     "name": "stdout",
     "output_type": "stream",
     "text": [
      "mean tensor([ 0.0266,  0.0615, -0.0665,  0.0001, -0.0136, -0.0118,  0.0070])\n",
      "sigma tensor([0.0142, 0.0354, 0.0345, 0.0141, 0.0163, 0.0191, 0.0134])\n",
      "DFE Rewards Mean: 0.9962172545873591\n",
      "DFE Rewards standard dev 0.008793907469772001\n",
      "Returns Mean: 8.134765\n",
      "Returns standard dev 4.15796\n",
      "Advantages Mean: 0.28965986\n",
      "Advantages standard dev 4.15796\n",
      "SparsePauliOp(['II', 'XY', 'YZ', 'ZX'],\n",
      "              coeffs=[ 0.25+0.j,  0.25+0.j,  0.25+0.j, -0.25+0.j])\n"
     ]
    },
    {
     "name": "stderr",
     "output_type": "stream",
     "text": [
      " 96%|█████████▋| 482/500 [07:28<00:13,  1.33it/s]"
     ]
    },
    {
     "name": "stdout",
     "output_type": "stream",
     "text": [
      "mean tensor([ 0.0166,  0.0459, -0.0630, -0.0068, -0.0006, -0.0238, -0.0098])\n",
      "sigma tensor([0.0143, 0.0181, 0.0179, 0.0126, 0.0148, 0.0182, 0.0128])\n",
      "DFE Rewards Mean: 0.9931207521523903\n",
      "DFE Rewards standard dev 0.011119434332815745\n",
      "Returns Mean: 7.086011\n",
      "Returns standard dev 3.9365819\n",
      "Advantages Mean: -0.32549363\n",
      "Advantages standard dev 3.9365819\n",
      "SparsePauliOp(['II', 'IZ', 'ZI', 'ZZ'],\n",
      "              coeffs=[0.25+0.j, 0.25+0.j, 0.25+0.j, 0.25+0.j])\n"
     ]
    },
    {
     "name": "stderr",
     "output_type": "stream",
     "text": [
      " 97%|█████████▋| 483/500 [07:28<00:12,  1.34it/s]"
     ]
    },
    {
     "name": "stdout",
     "output_type": "stream",
     "text": [
      "mean tensor([ 0.0287,  0.0525, -0.0620,  0.0150, -0.0250, -0.0127,  0.0035])\n",
      "sigma tensor([0.0139, 0.0408, 0.0439, 0.0147, 0.0168, 0.0200, 0.0153])\n",
      "DFE Rewards Mean: 0.9932350026324641\n",
      "DFE Rewards standard dev 0.013040177370781404\n",
      "Returns Mean: 7.786288\n",
      "Returns standard dev 4.3588796\n",
      "Advantages Mean: -0.16090621\n",
      "Advantages standard dev 4.3588796\n",
      "SparsePauliOp(['II', 'XX', 'YY', 'ZZ'],\n",
      "              coeffs=[ 0.25+0.j,  0.25+0.j,  0.25+0.j, -0.25+0.j])\n"
     ]
    },
    {
     "name": "stderr",
     "output_type": "stream",
     "text": [
      " 97%|█████████▋| 484/500 [07:29<00:11,  1.35it/s]"
     ]
    },
    {
     "name": "stdout",
     "output_type": "stream",
     "text": [
      "mean tensor([ 0.0207,  0.0482, -0.0611,  0.0078, -0.0190, -0.0223, -0.0126])\n",
      "sigma tensor([0.0160, 0.0254, 0.0273, 0.0153, 0.0169, 0.0204, 0.0146])\n",
      "DFE Rewards Mean: 0.9931592449657876\n",
      "DFE Rewards standard dev 0.011663718606528413\n",
      "Returns Mean: 7.132702\n",
      "Returns standard dev 3.9400046\n",
      "Advantages Mean: -0.20097256\n",
      "Advantages standard dev 3.9400046\n",
      "SparsePauliOp(['II', 'IZ', 'YI', 'YZ'],\n",
      "              coeffs=[ 0.25+0.j, -0.25+0.j, -0.25+0.j,  0.25+0.j])\n"
     ]
    },
    {
     "name": "stderr",
     "output_type": "stream",
     "text": [
      " 97%|█████████▋| 485/500 [07:30<00:11,  1.36it/s]"
     ]
    },
    {
     "name": "stdout",
     "output_type": "stream",
     "text": [
      "mean tensor([ 0.0276,  0.0543, -0.0609,  0.0079, -0.0212, -0.0194, -0.0075])\n",
      "sigma tensor([0.0159, 0.0284, 0.0252, 0.0150, 0.0166, 0.0225, 0.0140])\n",
      "DFE Rewards Mean: 0.9937630506045247\n",
      "DFE Rewards standard dev 0.010500286146812452\n",
      "Returns Mean: 7.2017217\n",
      "Returns standard dev 3.962941\n",
      "Advantages Mean: -0.13325977\n",
      "Advantages standard dev 3.962941\n",
      "SparsePauliOp(['II', 'IX', 'XI', 'XX'],\n",
      "              coeffs=[0.25+0.j, 0.25+0.j, 0.25+0.j, 0.25+0.j])\n"
     ]
    },
    {
     "name": "stderr",
     "output_type": "stream",
     "text": [
      " 97%|█████████▋| 486/500 [07:31<00:10,  1.33it/s]"
     ]
    },
    {
     "name": "stdout",
     "output_type": "stream",
     "text": [
      "mean tensor([ 0.0200,  0.0463, -0.0625,  0.0062, -0.0216, -0.0251, -0.0156])\n",
      "sigma tensor([0.0170, 0.0210, 0.0211, 0.0158, 0.0162, 0.0196, 0.0128])\n",
      "DFE Rewards Mean: 0.9903478820642275\n",
      "DFE Rewards standard dev 0.014228632101969181\n",
      "Returns Mean: 6.927187\n",
      "Returns standard dev 4.033869\n",
      "Advantages Mean: -0.20273516\n",
      "Advantages standard dev 4.0338683\n",
      "SparsePauliOp(['II', 'XX', 'YY', 'ZZ'],\n",
      "              coeffs=[ 0.25+0.j,  0.25+0.j,  0.25+0.j, -0.25+0.j])\n"
     ]
    },
    {
     "name": "stderr",
     "output_type": "stream",
     "text": [
      " 97%|█████████▋| 487/500 [07:31<00:09,  1.35it/s]"
     ]
    },
    {
     "name": "stdout",
     "output_type": "stream",
     "text": [
      "mean tensor([ 0.0239,  0.0574, -0.0671,  0.0083, -0.0263, -0.0248, -0.0121])\n",
      "sigma tensor([0.0166, 0.0213, 0.0183, 0.0148, 0.0146, 0.0193, 0.0114])\n",
      "DFE Rewards Mean: 0.9934460385580604\n",
      "DFE Rewards standard dev 0.009787617173509008\n",
      "Returns Mean: 7.1900663\n",
      "Returns standard dev 3.97896\n",
      "Advantages Mean: 0.08895011\n",
      "Advantages standard dev 3.97896\n",
      "SparsePauliOp(['II', 'IZ', 'XI', 'XZ'],\n",
      "              coeffs=[ 0.25+0.j, -0.25+0.j,  0.25+0.j, -0.25+0.j])\n"
     ]
    },
    {
     "name": "stderr",
     "output_type": "stream",
     "text": [
      " 98%|█████████▊| 488/500 [07:32<00:08,  1.36it/s]"
     ]
    },
    {
     "name": "stdout",
     "output_type": "stream",
     "text": [
      "mean tensor([ 0.0319,  0.0583, -0.0629,  0.0122, -0.0275, -0.0241, -0.0099])\n",
      "sigma tensor([0.0160, 0.0241, 0.0203, 0.0136, 0.0141, 0.0202, 0.0106])\n",
      "DFE Rewards Mean: 0.9912981734433582\n",
      "DFE Rewards standard dev 0.011899657892991154\n",
      "Returns Mean: 6.7223005\n",
      "Returns standard dev 3.881288\n",
      "Advantages Mean: -0.60662854\n",
      "Advantages standard dev 3.881288\n",
      "SparsePauliOp(['II', 'IZ', 'YI', 'YZ'],\n",
      "              coeffs=[ 0.25+0.j, -0.25+0.j, -0.25+0.j,  0.25+0.j])\n"
     ]
    },
    {
     "name": "stderr",
     "output_type": "stream",
     "text": [
      " 98%|█████████▊| 489/500 [07:33<00:08,  1.37it/s]"
     ]
    },
    {
     "name": "stdout",
     "output_type": "stream",
     "text": [
      "mean tensor([ 0.0333,  0.0552, -0.0657,  0.0020, -0.0216, -0.0211, -0.0121])\n",
      "sigma tensor([0.0155, 0.0224, 0.0194, 0.0136, 0.0153, 0.0181, 0.0110])\n",
      "DFE Rewards Mean: 0.9937797658613524\n",
      "DFE Rewards standard dev 0.011157230174069938\n",
      "Returns Mean: 7.4686546\n",
      "Returns standard dev 4.1149054\n",
      "Advantages Mean: 0.33232605\n",
      "Advantages standard dev 4.114906\n",
      "SparsePauliOp(['II', 'IZ', 'YI', 'YZ'],\n",
      "              coeffs=[0.25+0.j, 0.25+0.j, 0.25+0.j, 0.25+0.j])\n"
     ]
    },
    {
     "name": "stderr",
     "output_type": "stream",
     "text": [
      " 98%|█████████▊| 490/500 [07:34<00:07,  1.37it/s]"
     ]
    },
    {
     "name": "stdout",
     "output_type": "stream",
     "text": [
      "mean tensor([ 0.0319,  0.0746, -0.0696,  0.0036, -0.0219, -0.0106, -0.0076])\n",
      "sigma tensor([0.0140, 0.0292, 0.0262, 0.0141, 0.0178, 0.0175, 0.0125])\n",
      "DFE Rewards Mean: 0.9953243096879595\n",
      "DFE Rewards standard dev 0.00913642980725518\n",
      "Returns Mean: 7.533272\n",
      "Returns standard dev 3.9511285\n",
      "Advantages Mean: 0.07616256\n",
      "Advantages standard dev 3.9511287\n",
      "SparsePauliOp(['II', 'IZ', 'ZI', 'ZZ'],\n",
      "              coeffs=[0.25+0.j, 0.25+0.j, 0.25+0.j, 0.25+0.j])\n"
     ]
    },
    {
     "name": "stderr",
     "output_type": "stream",
     "text": [
      " 98%|█████████▊| 491/500 [07:34<00:06,  1.37it/s]"
     ]
    },
    {
     "name": "stdout",
     "output_type": "stream",
     "text": [
      "mean tensor([ 0.0318,  0.0770, -0.0676,  0.0070, -0.0183, -0.0018, -0.0010])\n",
      "sigma tensor([0.0159, 0.0338, 0.0348, 0.0135, 0.0181, 0.0188, 0.0123])\n",
      "DFE Rewards Mean: 0.9937738663975431\n",
      "DFE Rewards standard dev 0.010681141587996422\n",
      "Returns Mean: 7.46487\n",
      "Returns standard dev 4.077412\n",
      "Advantages Mean: -0.15825802\n",
      "Advantages standard dev 4.077412\n",
      "SparsePauliOp(['II', 'IZ', 'YI', 'YZ'],\n",
      "              coeffs=[ 0.25+0.j, -0.25+0.j, -0.25+0.j,  0.25+0.j])\n"
     ]
    },
    {
     "name": "stderr",
     "output_type": "stream",
     "text": [
      " 98%|█████████▊| 492/500 [07:35<00:05,  1.38it/s]"
     ]
    },
    {
     "name": "stdout",
     "output_type": "stream",
     "text": [
      "mean tensor([ 0.0175,  0.0662, -0.0640, -0.0003, -0.0085, -0.0044, -0.0105])\n",
      "sigma tensor([0.0162, 0.0213, 0.0235, 0.0128, 0.0185, 0.0197, 0.0116])\n",
      "DFE Rewards Mean: 0.9962018199904501\n",
      "DFE Rewards standard dev 0.007866232487770117\n",
      "Returns Mean: 8.072056\n",
      "Returns standard dev 4.1043634\n",
      "Advantages Mean: 0.93399704\n",
      "Advantages standard dev 4.1043634\n",
      "SparsePauliOp(['II', 'IZ', 'ZI', 'ZZ'],\n",
      "              coeffs=[ 0.25+0.j, -0.25+0.j,  0.25+0.j, -0.25+0.j])\n"
     ]
    },
    {
     "name": "stderr",
     "output_type": "stream",
     "text": [
      " 99%|█████████▊| 493/500 [07:36<00:05,  1.38it/s]"
     ]
    },
    {
     "name": "stdout",
     "output_type": "stream",
     "text": [
      "mean tensor([ 0.0198,  0.0737, -0.0662,  0.0027, -0.0051,  0.0001, -0.0109])\n",
      "sigma tensor([0.0157, 0.0255, 0.0279, 0.0131, 0.0184, 0.0175, 0.0114])\n",
      "DFE Rewards Mean: 0.9965537017360274\n",
      "DFE Rewards standard dev 0.007494204303556509\n",
      "Returns Mean: 8.214684\n",
      "Returns standard dev 4.103974\n",
      "Advantages Mean: 0.8486594\n",
      "Advantages standard dev 4.103974\n",
      "SparsePauliOp(['II', 'XX', 'YY', 'ZZ'],\n",
      "              coeffs=[ 0.25+0.j,  0.25+0.j,  0.25+0.j, -0.25+0.j])\n"
     ]
    },
    {
     "name": "stderr",
     "output_type": "stream",
     "text": [
      " 99%|█████████▉| 494/500 [07:36<00:04,  1.38it/s]"
     ]
    },
    {
     "name": "stdout",
     "output_type": "stream",
     "text": [
      "mean tensor([ 0.0105,  0.0737, -0.0682, -0.0060, -0.0009, -0.0029, -0.0204])\n",
      "sigma tensor([0.0151, 0.0201, 0.0221, 0.0127, 0.0186, 0.0170, 0.0115])\n",
      "DFE Rewards Mean: 0.9944848418424128\n",
      "DFE Rewards standard dev 0.00999192535988965\n",
      "Returns Mean: 7.68702\n",
      "Returns standard dev 4.1046414\n",
      "Advantages Mean: 0.2906214\n",
      "Advantages standard dev 4.1046414\n",
      "SparsePauliOp(['II', 'XX', 'YY', 'ZZ'],\n",
      "              coeffs=[ 0.25+0.j,  0.25+0.j,  0.25+0.j, -0.25+0.j])\n"
     ]
    },
    {
     "name": "stderr",
     "output_type": "stream",
     "text": [
      " 99%|█████████▉| 495/500 [07:37<00:03,  1.36it/s]"
     ]
    },
    {
     "name": "stdout",
     "output_type": "stream",
     "text": [
      "mean tensor([ 0.0073,  0.0701, -0.0634, -0.0051, -0.0017,  0.0003, -0.0160])\n",
      "sigma tensor([0.0145, 0.0175, 0.0193, 0.0115, 0.0194, 0.0153, 0.0129])\n",
      "DFE Rewards Mean: 0.9966548879475028\n",
      "DFE Rewards standard dev 0.008510116722771187\n",
      "Returns Mean: 8.429539\n",
      "Returns standard dev 4.2419553\n",
      "Advantages Mean: 0.8566511\n",
      "Advantages standard dev 4.2419553\n",
      "SparsePauliOp(['II', 'IZ', 'ZI', 'ZZ'],\n",
      "              coeffs=[ 0.25+0.j, -0.25+0.j, -0.25+0.j,  0.25+0.j])\n"
     ]
    },
    {
     "name": "stderr",
     "output_type": "stream",
     "text": [
      " 99%|█████████▉| 496/500 [07:38<00:02,  1.35it/s]"
     ]
    },
    {
     "name": "stdout",
     "output_type": "stream",
     "text": [
      "mean tensor([ 0.0089,  0.0666, -0.0614,  0.0007,  0.0023,  0.0005, -0.0109])\n",
      "sigma tensor([0.0146, 0.0246, 0.0248, 0.0123, 0.0193, 0.0149, 0.0143])\n",
      "DFE Rewards Mean: 0.9971760389475258\n",
      "DFE Rewards standard dev 0.00685880725715888\n",
      "Returns Mean: 8.612041\n",
      "Returns standard dev 4.1521163\n",
      "Advantages Mean: 0.7365921\n",
      "Advantages standard dev 4.152116\n",
      "SparsePauliOp(['II', 'XY', 'YZ', 'ZX'],\n",
      "              coeffs=[ 0.25+0.j,  0.25+0.j,  0.25+0.j, -0.25+0.j])\n"
     ]
    },
    {
     "name": "stderr",
     "output_type": "stream",
     "text": [
      " 99%|█████████▉| 497/500 [07:39<00:02,  1.35it/s]"
     ]
    },
    {
     "name": "stdout",
     "output_type": "stream",
     "text": [
      "mean tensor([ 0.0020,  0.0576, -0.0666,  0.0009,  0.0128, -0.0036, -0.0154])\n",
      "sigma tensor([0.0148, 0.0152, 0.0165, 0.0131, 0.0158, 0.0138, 0.0124])\n",
      "DFE Rewards Mean: 0.9966990918338238\n",
      "DFE Rewards standard dev 0.007773262458079496\n",
      "Returns Mean: 8.202747\n",
      "Returns standard dev 4.123061\n",
      "Advantages Mean: 0.5574889\n",
      "Advantages standard dev 4.123061\n",
      "SparsePauliOp(['II', 'XY', 'YX', 'ZZ'],\n",
      "              coeffs=[0.25+0.j, 0.25+0.j, 0.25+0.j, 0.25+0.j])\n"
     ]
    },
    {
     "name": "stderr",
     "output_type": "stream",
     "text": [
      "100%|█████████▉| 498/500 [07:39<00:01,  1.35it/s]"
     ]
    },
    {
     "name": "stdout",
     "output_type": "stream",
     "text": [
      "mean tensor([-0.0001,  0.0879, -0.0815,  0.0044,  0.0057,  0.0065, -0.0284])\n",
      "sigma tensor([0.0155, 0.0246, 0.0227, 0.0134, 0.0204, 0.0181, 0.0134])\n",
      "DFE Rewards Mean: 0.9932830478399604\n",
      "DFE Rewards standard dev 0.012383277722323803\n",
      "Returns Mean: 7.481123\n",
      "Returns standard dev 4.190248\n",
      "Advantages Mean: -0.44333202\n",
      "Advantages standard dev 4.1902485\n",
      "SparsePauliOp(['II', 'IZ', 'XI', 'XZ'],\n",
      "              coeffs=[0.25+0.j, 0.25+0.j, 0.25+0.j, 0.25+0.j])\n"
     ]
    },
    {
     "name": "stderr",
     "output_type": "stream",
     "text": [
      "100%|█████████▉| 499/500 [07:40<00:00,  1.34it/s]"
     ]
    },
    {
     "name": "stdout",
     "output_type": "stream",
     "text": [
      "mean tensor([ 0.0052,  0.0876, -0.0712,  0.0115,  0.0001,  0.0119, -0.0199])\n",
      "sigma tensor([0.0150, 0.0377, 0.0357, 0.0134, 0.0223, 0.0191, 0.0166])\n",
      "DFE Rewards Mean: 0.9961557729506494\n",
      "DFE Rewards standard dev 0.00797154953539408\n",
      "Returns Mean: 8.036349\n",
      "Returns standard dev 4.065026\n",
      "Advantages Mean: -0.039584704\n",
      "Advantages standard dev 4.065026\n",
      "SparsePauliOp(['II', 'XX', 'YZ', 'ZY'],\n",
      "              coeffs=[0.25+0.j, 0.25+0.j, 0.25+0.j, 0.25+0.j])\n"
     ]
    },
    {
     "name": "stderr",
     "output_type": "stream",
     "text": [
      "100%|██████████| 500/500 [07:41<00:00,  1.08it/s]"
     ]
    },
    {
     "name": "stdout",
     "output_type": "stream",
     "text": [
      "mean tensor([-0.0074,  0.0791, -0.0789,  0.0088,  0.0105,  0.0084, -0.0310])\n",
      "sigma tensor([0.0156, 0.0248, 0.0221, 0.0141, 0.0192, 0.0169, 0.0166])\n",
      "DFE Rewards Mean: 0.9935157707583915\n",
      "DFE Rewards standard dev 0.011584994200080558\n",
      "Returns Mean: 7.5456777\n",
      "Returns standard dev 4.21722\n",
      "Advantages Mean: -0.21011832\n",
      "Advantages standard dev 4.21722\n"
     ]
    },
    {
     "name": "stderr",
     "output_type": "stream",
     "text": [
      "\n"
     ]
    }
   ],
   "source": [
    "ppo_agent(total_updates=500, print_debug=True, num_prints=40)"
   ]
  },
  {
   "cell_type": "code",
   "execution_count": 17,
   "metadata": {},
   "outputs": [
    {
     "data": {
      "image/png": "[encoded data removed]",
      "text/plain": [
       "<Figure size 640x480 with 1 Axes>"
      ]
     },
     "metadata": {},
     "output_type": "display_data"
    }
   ],
   "source": [
    "import numpy as np\n",
    "import matplotlib.pyplot as plt\n",
    "\n",
    "reward_history = np.array(q_env.reward_history)\n",
    "mean_rewards = np.mean(reward_history, axis=-1)\n",
    "max_mean = int(np.max(mean_rewards) * 1e4) / 1e4\n",
    "\n",
    "plt.plot(mean_rewards, label=f'Mean Batch Rewards, max: {max_mean}')\n",
    "plt.xlabel('Updates')\n",
    "plt.ylabel('Reward')\n",
    "plt.title('CX Learning Curve')\n",
    "plt.legend()\n",
    "plt.show()"
   ]
  },
  {
   "cell_type": "code",
   "execution_count": null,
   "metadata": {},
   "outputs": [],
   "source": []
  }
 ],
 "metadata": {
  "kernelspec": {
   "display_name": "cqt_env",
   "language": "python",
   "name": "python3"
  },
  "language_info": {
   "codemirror_mode": {
    "name": "ipython",
    "version": 3
   },
   "file_extension": ".py",
   "mimetype": "text/x-python",
   "name": "python",
   "nbconvert_exporter": "python",
   "pygments_lexer": "ipython3",
   "version": "3.9.11"
  }
 },
 "nbformat": 4,
 "nbformat_minor": 2
}

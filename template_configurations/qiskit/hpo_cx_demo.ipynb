{
 "cells": [
  {
   "attachments": {},
   "cell_type": "markdown",
   "metadata": {},
   "source": [
    "### CX Calibration with HPO under the new code architecture / workflow"
   ]
  },
  {
   "cell_type": "code",
   "execution_count": 1,
   "metadata": {},
   "outputs": [
    {
     "name": "stderr",
     "output_type": "stream",
     "text": [
      "/Users/lukasvoss/Library/Python/3.9/lib/python/site-packages/qiskit_dynamics/dispatch/backends/jax.py:34: UserWarning: The functionality in the perturbation module of Qiskit Dynamics requires a JAX version <= 0.4.6, due to a bug in JAX versions > 0.4.6. For versions 0.4.4, 0.4.5, and 0.4.6, using the perturbation module functionality requires setting os.environ['JAX_JIT_PJIT_API_MERGE'] = '0' before importing JAX or Dynamics.\n",
      "  warnings.warn(\n"
     ]
    },
    {
     "name": "stdout",
     "output_type": "stream",
     "text": [
      "Starting Rabi experiment for qubit 0...\n",
      "Rabi experiment for qubit 0 done.\n",
      "Starting Drag experiment for qubit 0...\n",
      "Drag experiments done for qubit 0 done.\n",
      "Starting Rabi experiment for qubit 1...\n",
      "Rabi experiment for qubit 1 done.\n",
      "Starting Drag experiment for qubit 1...\n",
      "Drag experiments done for qubit 1 done.\n",
      "All single qubit calibrations are done\n",
      "Updated Instruction Schedule Map <InstructionScheduleMap(1Q instructions:\n",
      "  q0: {'measure', 's', 'h', 'rz', 'sdg', 'tdg', 'x', 'delay', 'z', 't', 'sx', 'reset', 'id'}\n",
      "  q1: {'measure', 's', 'h', 'rz', 'sdg', 'tdg', 'x', 'delay', 'z', 't', 'sx', 'reset', 'id'}\n",
      "Multi qubit instructions:\n",
      "  (0, 1): {'ecr', 'cr45m', 'cr45p'}\n",
      "  (1, 0): {'ecr', 'cr45m', 'cr45p'}\n",
      ")>\n"
     ]
    }
   ],
   "source": [
    "import sys\n",
    "import os\n",
    "os.environ[\"KMP_DUPLICATE_LIB_OK\"] = \"True\"\n",
    "import time\n",
    "import yaml\n",
    "import pickle\n",
    "import optuna\n",
    "module_path = os.path.abspath(os.path.join('/Users/lukasvoss/Documents/Master Wirtschaftsphysik/Masterarbeit Yale-NUS CQT/Quantum_Optimal_Control'))\n",
    "if module_path not in sys.path:\n",
    "    sys.path.append(module_path)\n",
    "\n",
    "from quantumenvironment import QuantumEnvironment\n",
    "from agent import Agent\n",
    "from template_configurations import gate_q_env_config\n",
    "from helper_functions import load_agent_from_yaml_file, create_agent_config\n",
    "from ppo import make_train_ppo\n",
    "from qconfig import QEnvConfig\n",
    "\n",
    "import logging\n",
    "logging.basicConfig(\n",
    "    level=logging.WARNING,\n",
    "    format=\"%(asctime)s INFO %(message)s\", # hardcoded INFO level\n",
    "    datefmt=\"%Y-%m-%d %H:%M:%S\",\n",
    "    stream=sys.stdout,\n",
    ")"
   ]
  },
  {
   "cell_type": "code",
   "execution_count": 2,
   "metadata": {},
   "outputs": [
    {
     "data": {
      "text/plain": [
       "{'register': [0, 1],\n",
       " 'gate': Instruction(name='cx', num_qubits=2, num_clbits=0, params=[])}"
      ]
     },
     "execution_count": 2,
     "metadata": {},
     "output_type": "execute_result"
    }
   ],
   "source": [
    "gate_q_env_config.target"
   ]
  },
  {
   "attachments": {},
   "cell_type": "markdown",
   "metadata": {},
   "source": [
    "### Perform HPO"
   ]
  },
  {
   "cell_type": "code",
   "execution_count": 3,
   "metadata": {},
   "outputs": [],
   "source": [
    "from hyperparameter_optimization import HyperparameterOptimizer"
   ]
  },
  {
   "cell_type": "code",
   "execution_count": 4,
   "metadata": {},
   "outputs": [],
   "source": [
    "path_agent_config = '/Users/lukasvoss/Documents/Master Wirtschaftsphysik/Masterarbeit Yale-NUS CQT/Quantum_Optimal_Control/template_configurations/agent_config.yaml'\n",
    "save_results_path = 'hpo_results'"
   ]
  },
  {
   "cell_type": "code",
   "execution_count": 5,
   "metadata": {},
   "outputs": [
    {
     "name": "stdout",
     "output_type": "stream",
     "text": [
      "SparsePauliOp(['II', 'IZ', 'YI', 'YZ'],\n",
      "              coeffs=[ 0.25+0.j, -0.25+0.j, -0.25+0.j,  0.25+0.j])\n",
      "2023-12-23 00:07:55 INFO num_HPO_trials: 1\n",
      "2023-12-23 00:07:55 INFO ---------------- STARTING HPO ----------------\n"
     ]
    },
    {
     "name": "stderr",
     "output_type": "stream",
     "text": [
      "[I 2023-12-23 00:07:55,582] A new study created in memory with name: no-name-2d779743-c596-4a0e-af89-4e91ec314f35\n"
     ]
    },
    {
     "name": "stdout",
     "output_type": "stream",
     "text": [
      "SparsePauliOp(['II', 'IZ', 'ZI', 'ZZ'],\n",
      "              coeffs=[ 0.25+0.j, -0.25+0.j,  0.25+0.j, -0.25+0.j])\n"
     ]
    },
    {
     "name": "stderr",
     "output_type": "stream",
     "text": [
      "  0%|          | 0/20 [00:00<?, ?it/s]"
     ]
    },
    {
     "name": "stdout",
     "output_type": "stream",
     "text": [
      "SparsePauliOp(['II', 'IZ', 'ZI', 'ZZ'],\n",
      "              coeffs=[ 0.25+0.j, -0.25+0.j, -0.25+0.j,  0.25+0.j])\n"
     ]
    },
    {
     "name": "stderr",
     "output_type": "stream",
     "text": [
      "  5%|▌         | 1/20 [00:00<00:04,  4.59it/s]"
     ]
    },
    {
     "name": "stdout",
     "output_type": "stream",
     "text": [
      "mean tensor([-0.0720, -0.0462,  0.0523,  0.0769,  0.0618, -0.0354,  0.0755])\n",
      "Average return: 0.3104491438766685\n",
      "DFE Rewards Mean: 0.3104491438766685\n",
      "DFE Rewards standard dev 0.28816555159621515\n",
      "Returns Mean: 0.59442985\n",
      "Returns standard dev 1.145644\n",
      "Advantages Mean: 0.4529802\n",
      "Advantages standard dev 1.145644\n",
      "Fidelity History: []\n",
      "SparsePauliOp(['II', 'IX', 'XI', 'XX'],\n",
      "              coeffs=[0.25+0.j, 0.25+0.j, 0.25+0.j, 0.25+0.j])\n"
     ]
    },
    {
     "name": "stderr",
     "output_type": "stream",
     "text": [
      " 10%|█         | 2/20 [00:00<00:02,  6.11it/s]"
     ]
    },
    {
     "name": "stdout",
     "output_type": "stream",
     "text": [
      "mean tensor([ 0.0013, -0.0870,  0.0947,  0.1635,  0.0720, -0.0706,  0.1047])\n",
      "Average return: 0.2662215904470924\n",
      "DFE Rewards Mean: 0.2662215904470924\n",
      "DFE Rewards standard dev 0.2623883453811674\n",
      "Returns Mean: 0.42341322\n",
      "Returns standard dev 0.5468582\n",
      "Advantages Mean: -0.38391724\n",
      "Advantages standard dev 0.5468582\n",
      "Fidelity History: []\n",
      "SparsePauliOp(['II', 'XY', 'YZ', 'ZX'],\n",
      "              coeffs=[ 0.25+0.j,  0.25+0.j,  0.25+0.j, -0.25+0.j])\n"
     ]
    },
    {
     "name": "stderr",
     "output_type": "stream",
     "text": [
      " 20%|██        | 4/20 [00:00<00:03,  4.93it/s]"
     ]
    },
    {
     "name": "stdout",
     "output_type": "stream",
     "text": [
      "mean tensor([ 0.0333, -0.0668,  0.0775,  0.1809,  0.1041, -0.0193,  0.0908])\n",
      "Average return: 0.27224696796368364\n",
      "DFE Rewards Mean: 0.27224696796368364\n",
      "DFE Rewards standard dev 0.2017948900554707\n",
      "Returns Mean: 0.3709127\n",
      "Returns standard dev 0.3511727\n",
      "Advantages Mean: -0.2499692\n",
      "Advantages standard dev 0.3511727\n",
      "Fidelity History: []\n",
      "SparsePauliOp(['II', 'IZ', 'XI', 'XZ'],\n",
      "              coeffs=[0.25+0.j, 0.25+0.j, 0.25+0.j, 0.25+0.j])\n",
      "mean tensor([-0.0156, -0.0334,  0.0643,  0.0893,  0.0365,  0.0057,  0.0849])\n",
      "Average return: 0.4452976661287527\n",
      "DFE Rewards Mean: 0.4452976661287527\n",
      "DFE Rewards standard dev 0.2926338239280477\n",
      "Returns Mean: 0.8984009\n",
      "Returns standard dev 1.3354753\n",
      "Advantages Mean: 0.61992556\n",
      "Advantages standard dev 1.3354753\n",
      "Fidelity History: []\n",
      "SparsePauliOp(['II', 'XY', 'YZ', 'ZX'],\n",
      "              coeffs=[ 0.25+0.j,  0.25+0.j,  0.25+0.j, -0.25+0.j])\n"
     ]
    },
    {
     "name": "stderr",
     "output_type": "stream",
     "text": [
      " 30%|███       | 6/20 [00:01<00:02,  6.44it/s]"
     ]
    },
    {
     "name": "stdout",
     "output_type": "stream",
     "text": [
      "mean tensor([ 0.0498, -0.0958,  0.0137,  0.0644,  0.0628, -0.0478,  0.0633])\n",
      "Average return: 0.2555766508430881\n",
      "DFE Rewards Mean: 0.2555766508430881\n",
      "DFE Rewards standard dev 0.19677312688283952\n",
      "Returns Mean: 0.34120235\n",
      "Returns standard dev 0.31305873\n",
      "Advantages Mean: -0.13664764\n",
      "Advantages standard dev 0.31305873\n",
      "Fidelity History: []\n",
      "SparsePauliOp(['II', 'XY', 'YX', 'ZZ'],\n",
      "              coeffs=[ 0.25+0.j,  0.25+0.j, -0.25+0.j, -0.25+0.j])\n",
      "mean tensor([ 0.0532, -0.0616,  0.0488,  0.0643,  0.0561, -0.0512,  0.0289])\n",
      "Average return: 0.2716838495797264\n",
      "DFE Rewards Mean: 0.2716838495797264\n",
      "DFE Rewards standard dev 0.19843042555596963\n",
      "Returns Mean: 0.36597183\n",
      "Returns standard dev 0.32589594\n",
      "Advantages Mean: -0.016362699\n",
      "Advantages standard dev 0.32589594\n",
      "Fidelity History: []\n",
      "SparsePauliOp(['II', 'XX', 'YY', 'ZZ'],\n",
      "              coeffs=[ 0.25+0.j,  0.25+0.j, -0.25+0.j,  0.25+0.j])\n"
     ]
    },
    {
     "name": "stderr",
     "output_type": "stream",
     "text": [
      " 40%|████      | 8/20 [00:01<00:01,  7.38it/s]"
     ]
    },
    {
     "name": "stdout",
     "output_type": "stream",
     "text": [
      "mean tensor([ 0.0442, -0.0059,  0.0713,  0.0393,  0.0478, -0.0478, -0.0046])\n",
      "Average return: 0.26833691064147375\n",
      "DFE Rewards Mean: 0.26833691064147375\n",
      "DFE Rewards standard dev 0.2070548044082298\n",
      "Returns Mean: 0.37216944\n",
      "Returns standard dev 0.38132143\n",
      "Advantages Mean: -0.022031147\n",
      "Advantages standard dev 0.38132143\n",
      "Fidelity History: []\n",
      "SparsePauliOp(['II', 'XY', 'YX', 'ZZ'],\n",
      "              coeffs=[0.25+0.j, 0.25+0.j, 0.25+0.j, 0.25+0.j])\n",
      "mean tensor([ 0.0350, -0.0235,  0.0734,  0.0300,  0.0363, -0.0657, -0.0142])\n",
      "Average return: 0.33245623955879394\n",
      "DFE Rewards Mean: 0.33245623955879394\n",
      "DFE Rewards standard dev 0.22242360609612302\n",
      "Returns Mean: 0.4819039\n",
      "Returns standard dev 0.43438798\n",
      "Advantages Mean: 0.11889658\n",
      "Advantages standard dev 0.43438798\n",
      "Fidelity History: []\n",
      "SparsePauliOp(['II', 'IZ', 'XI', 'XZ'],\n",
      "              coeffs=[0.25+0.j, 0.25+0.j, 0.25+0.j, 0.25+0.j])\n"
     ]
    },
    {
     "name": "stderr",
     "output_type": "stream",
     "text": [
      " 50%|█████     | 10/20 [00:01<00:01,  7.64it/s]"
     ]
    },
    {
     "name": "stdout",
     "output_type": "stream",
     "text": [
      "mean tensor([ 0.0329, -0.0519,  0.0588,  0.0339,  0.0046, -0.0710,  0.0109])\n",
      "Average return: 0.5400920445060734\n",
      "DFE Rewards Mean: 0.5400920445060734\n",
      "DFE Rewards standard dev 0.2768538196597294\n",
      "Returns Mean: 1.1780207\n",
      "Returns standard dev 1.5760458\n",
      "Advantages Mean: 0.69913507\n",
      "Advantages standard dev 1.5760458\n",
      "Fidelity History: []\n",
      "SparsePauliOp(['II', 'XX', 'YY', 'ZZ'],\n",
      "              coeffs=[ 0.25+0.j,  0.25+0.j,  0.25+0.j, -0.25+0.j])\n",
      "mean tensor([ 0.0149, -0.0491,  0.0614,  0.0505, -0.0293, -0.0393, -0.0144])\n",
      "Average return: 0.3793708197580198\n",
      "DFE Rewards Mean: 0.3793708197580198\n",
      "DFE Rewards standard dev 0.24252749062683002\n",
      "Returns Mean: 0.58623564\n",
      "Returns standard dev 0.52225506\n",
      "Advantages Mean: -0.16916993\n",
      "Advantages standard dev 0.52225506\n",
      "Fidelity History: []\n",
      "SparsePauliOp(['II', 'XY', 'YX', 'ZZ'],\n",
      "              coeffs=[0.25+0.j, 0.25+0.j, 0.25+0.j, 0.25+0.j])\n"
     ]
    },
    {
     "name": "stderr",
     "output_type": "stream",
     "text": [
      " 60%|██████    | 12/20 [00:01<00:01,  7.98it/s]"
     ]
    },
    {
     "name": "stdout",
     "output_type": "stream",
     "text": [
      "mean tensor([ 0.0047, -0.0579,  0.0825,  0.0083, -0.0328, -0.0510, -0.0177])\n",
      "Average return: 0.46360570941655876\n",
      "DFE Rewards Mean: 0.46360570941655876\n",
      "DFE Rewards standard dev 0.2461524796734564\n",
      "Returns Mean: 0.79442066\n",
      "Returns standard dev 0.8623529\n",
      "Advantages Mean: 0.19713157\n",
      "Advantages standard dev 0.8623529\n",
      "Fidelity History: []\n",
      "SparsePauliOp(['II', 'IZ', 'ZI', 'ZZ'],\n",
      "              coeffs=[0.25+0.j, 0.25+0.j, 0.25+0.j, 0.25+0.j])\n",
      "mean tensor([-0.0494, -0.0627,  0.1031,  0.0264, -0.0404, -0.0448, -0.0080])\n",
      "Average return: 0.7047862182432507\n",
      "DFE Rewards Mean: 0.7047862182432507\n",
      "DFE Rewards standard dev 0.21988725167560189\n",
      "Returns Mean: 1.6958557\n",
      "Returns standard dev 1.5257628\n",
      "Advantages Mean: 0.91592675\n",
      "Advantages standard dev 1.5257628\n",
      "Fidelity History: []\n",
      "SparsePauliOp(['II', 'XX', 'YY', 'ZZ'],\n",
      "              coeffs=[ 0.25+0.j,  0.25+0.j, -0.25+0.j,  0.25+0.j])\n"
     ]
    },
    {
     "name": "stderr",
     "output_type": "stream",
     "text": [
      " 70%|███████   | 14/20 [00:02<00:00,  7.86it/s]"
     ]
    },
    {
     "name": "stdout",
     "output_type": "stream",
     "text": [
      "mean tensor([-0.0095, -0.0803,  0.0663, -0.0173,  0.0036, -0.0783, -0.0240])\n",
      "Average return: 0.5953516359304483\n",
      "DFE Rewards Mean: 0.5953516359304483\n",
      "DFE Rewards standard dev 0.22913334083701428\n",
      "Returns Mean: 1.1300436\n",
      "Returns standard dev 0.91213477\n",
      "Advantages Mean: 0.13261017\n",
      "Advantages standard dev 0.91213477\n",
      "Fidelity History: []\n",
      "SparsePauliOp(['II', 'IY', 'XI', 'XY'],\n",
      "              coeffs=[0.25+0.j, 0.25+0.j, 0.25+0.j, 0.25+0.j])\n",
      "mean tensor([-0.0226, -0.0894,  0.0502, -0.0115,  0.0029, -0.0709, -0.0284])\n",
      "Average return: 0.5032446649168294\n",
      "DFE Rewards Mean: 0.5032446649168294\n",
      "DFE Rewards standard dev 0.2650552155216209\n",
      "Returns Mean: 0.93935686\n",
      "Returns standard dev 0.9745769\n",
      "Advantages Mean: -0.11496029\n",
      "Advantages standard dev 0.9745769\n",
      "Fidelity History: []\n",
      "SparsePauliOp(['II', 'IZ', 'ZI', 'ZZ'],\n",
      "              coeffs=[ 0.25+0.j,  0.25+0.j, -0.25+0.j, -0.25+0.j])\n"
     ]
    },
    {
     "name": "stderr",
     "output_type": "stream",
     "text": [
      " 80%|████████  | 16/20 [00:02<00:00,  8.15it/s]"
     ]
    },
    {
     "name": "stdout",
     "output_type": "stream",
     "text": [
      "mean tensor([-0.0439, -0.0644,  0.0736, -0.0367,  0.0219, -0.0271, -0.0334])\n",
      "Average return: 0.8052078788682994\n",
      "DFE Rewards Mean: 0.8052078788682994\n",
      "DFE Rewards standard dev 0.15083294014973123\n",
      "Returns Mean: 2.1825287\n",
      "Returns standard dev 1.7994984\n",
      "Advantages Mean: 1.1834878\n",
      "Advantages standard dev 1.7994984\n",
      "Fidelity History: []\n",
      "SparsePauliOp(['II', 'IZ', 'ZI', 'ZZ'],\n",
      "              coeffs=[ 0.25+0.j,  0.25+0.j, -0.25+0.j, -0.25+0.j])\n",
      "mean tensor([-0.0088, -0.1112,  0.0454, -0.0058,  0.0144, -0.0463, -0.0321])\n",
      "Average return: 0.8866089302687679\n",
      "DFE Rewards Mean: 0.8866089302687679\n",
      "DFE Rewards standard dev 0.09966202542900064\n",
      "Returns Mean: 2.8926032\n",
      "Returns standard dev 2.1338577\n",
      "Advantages Mean: 1.5777336\n",
      "Advantages standard dev 2.1338577\n",
      "Fidelity History: []\n",
      "SparsePauliOp(['II', 'IZ', 'YI', 'YZ'],\n",
      "              coeffs=[ 0.25+0.j, -0.25+0.j, -0.25+0.j,  0.25+0.j])\n"
     ]
    },
    {
     "name": "stderr",
     "output_type": "stream",
     "text": [
      " 90%|█████████ | 18/20 [00:02<00:00,  8.19it/s]"
     ]
    },
    {
     "name": "stdout",
     "output_type": "stream",
     "text": [
      "mean tensor([-0.0231, -0.1252,  0.0359, -0.0061,  0.0157, -0.0247, -0.0108])\n",
      "Average return: 0.8137680418239258\n",
      "DFE Rewards Mean: 0.8137680418239258\n",
      "DFE Rewards standard dev 0.15781369235142798\n",
      "Returns Mean: 2.340062\n",
      "Returns standard dev 2.0948775\n",
      "Advantages Mean: 0.66861117\n",
      "Advantages standard dev 2.0948775\n",
      "Fidelity History: []\n",
      "SparsePauliOp(['II', 'XX', 'YZ', 'ZY'],\n",
      "              coeffs=[0.25+0.j, 0.25+0.j, 0.25+0.j, 0.25+0.j])\n",
      "mean tensor([ 0.0209, -0.1300,  0.0588, -0.0009, -0.0147,  0.0247,  0.0137])\n",
      "Average return: 0.7941403483286485\n",
      "DFE Rewards Mean: 0.7941403483286485\n",
      "DFE Rewards standard dev 0.1827672208751961\n",
      "Returns Mean: 2.1626546\n",
      "Returns standard dev 1.7580746\n",
      "Advantages Mean: 0.20545149\n",
      "Advantages standard dev 1.7580748\n",
      "Fidelity History: []\n",
      "SparsePauliOp(['II', 'IX', 'XI', 'XX'],\n",
      "              coeffs=[0.25+0.j, 0.25+0.j, 0.25+0.j, 0.25+0.j])\n"
     ]
    },
    {
     "name": "stderr",
     "output_type": "stream",
     "text": [
      "100%|██████████| 20/20 [00:02<00:00,  7.19it/s]\n",
      "[I 2023-12-23 00:07:58,477] Trial 0 finished with value: 0.8617435751783177 and parameters: {'N_UPDATES': 20, 'N_EPOCHS': 14, 'MINIBATCH_SIZE': 96, 'BATCHSIZE_MULTIPLIER': 5, 'LR': 0.006767677946519087, 'GAMMA': 0.9561771362827869, 'GAE_LAMBDA': 0.9589510748087021, 'ENT_COEF': 0.000694685088419939, 'V_COEF': 0.2570973727277017, 'GRADIENT_CLIP': 0.8409877787848272, 'CLIP_VALUE_COEF': 0.298087314059173, 'CLIP_RATIO': 0.2736523661628351}. Best is trial 0 with value: 0.8617435751783177.\n"
     ]
    },
    {
     "name": "stdout",
     "output_type": "stream",
     "text": [
      "mean tensor([ 0.0139, -0.0899,  0.1011, -0.0082, -0.0086,  0.0160, -0.0036])\n",
      "Average return: 0.8617435751783177\n",
      "DFE Rewards Mean: 0.8617435751783177\n",
      "DFE Rewards standard dev 0.13803915070443884\n",
      "Returns Mean: 2.8858993\n",
      "Returns standard dev 2.480107\n",
      "Advantages Mean: 0.7201486\n",
      "Advantages standard dev 2.480107\n",
      "Fidelity History: []\n",
      "SparsePauliOp(['II', 'XX', 'YY', 'ZZ'],\n",
      "              coeffs=[ 0.25+0.j,  0.25+0.j,  0.25+0.j, -0.25+0.j])\n",
      "mean tensor([ 0.0081, -0.1095,  0.0757, -0.0053,  0.0068,  0.0066, -0.0021])\n",
      "Average return: 0.914288077972121\n",
      "DFE Rewards Mean: 0.914288077972121\n",
      "DFE Rewards standard dev 0.08129016255054988\n",
      "Returns Mean: 3.3697195\n",
      "Returns standard dev 2.5820243\n",
      "Advantages Mean: 0.88649833\n",
      "Advantages standard dev 2.5820243\n",
      "Fidelity History: []\n",
      "2023-12-23 00:07:58 INFO ---------------- FINISHED HPO ----------------\n",
      "2023-12-23 00:07:58 INFO HPO completed in 2.9 seconds.\n",
      "2023-12-23 00:07:58 INFO Best trial:\n",
      "2023-12-23 00:07:58 INFO -------------------------\n",
      "2023-12-23 00:07:58 INFO   Value: 0.8617435751783177\n",
      "2023-12-23 00:07:58 INFO   Parameters: \n",
      "2023-12-23 00:07:58 INFO     N_UPDATES: 20\n",
      "2023-12-23 00:07:58 INFO     N_EPOCHS: 14\n",
      "2023-12-23 00:07:58 INFO     MINIBATCH_SIZE: 96\n",
      "2023-12-23 00:07:58 INFO     BATCHSIZE_MULTIPLIER: 5\n",
      "2023-12-23 00:07:58 INFO     LR: 0.006767677946519087\n",
      "2023-12-23 00:07:58 INFO     GAMMA: 0.9561771362827869\n",
      "2023-12-23 00:07:58 INFO     GAE_LAMBDA: 0.9589510748087021\n",
      "2023-12-23 00:07:58 INFO     ENT_COEF: 0.000694685088419939\n",
      "2023-12-23 00:07:58 INFO     V_COEF: 0.2570973727277017\n",
      "2023-12-23 00:07:58 INFO     GRADIENT_CLIP: 0.8409877787848272\n",
      "2023-12-23 00:07:58 INFO     CLIP_VALUE_COEF: 0.298087314059173\n",
      "2023-12-23 00:07:58 INFO     CLIP_RATIO: 0.2736523661628351\n",
      "2023-12-23 00:07:58 INFO The best action vector is [ 0.03894139 -0.35894948  0.23608534 -0.00560619  0.01548651  0.02267558\n",
      " -0.02063475]\n",
      "Best configuration saved to hpo_results/reward_0.861744.pickle\n"
     ]
    }
   ],
   "source": [
    "optimizer = HyperparameterOptimizer(gate_q_env_config, path_agent_config, save_results_path, log_progress=True, num_hpo_trials=1)\n",
    "optimizer.optimize_hyperparameters()"
   ]
  },
  {
   "cell_type": "code",
   "execution_count": 6,
   "metadata": {},
   "outputs": [
    {
     "data": {
      "text/plain": [
       "{'target_gate': Instruction(name='cx', num_qubits=2, num_clbits=0, params=[]),\n",
       " 'target_register': [0, 1]}"
      ]
     },
     "execution_count": 6,
     "metadata": {},
     "output_type": "execute_result"
    }
   ],
   "source": [
    "optimizer.target_gate"
   ]
  },
  {
   "cell_type": "code",
   "execution_count": 7,
   "metadata": {},
   "outputs": [
    {
     "data": {
      "text/plain": [
       "['N_UPDATES',\n",
       " 'N_EPOCHS',\n",
       " 'MINIBATCH_SIZE',\n",
       " 'BATCHSIZE_MULTIPLIER',\n",
       " 'LR',\n",
       " 'GAMMA',\n",
       " 'GAE_LAMBDA',\n",
       " 'ENT_COEF',\n",
       " 'V_COEF',\n",
       " 'GRADIENT_CLIP',\n",
       " 'CLIP_VALUE_COEF',\n",
       " 'CLIP_RATIO',\n",
       " 'BATCHSIZE']"
      ]
     },
     "execution_count": 7,
     "metadata": {},
     "output_type": "execute_result"
    }
   ],
   "source": [
    "optimizer.hyperparams"
   ]
  },
  {
   "cell_type": "code",
   "execution_count": 8,
   "metadata": {},
   "outputs": [
    {
     "data": {
      "text/plain": [
       "1"
      ]
     },
     "execution_count": 8,
     "metadata": {},
     "output_type": "execute_result"
    }
   ],
   "source": [
    "optimizer.num_hpo_trials"
   ]
  },
  {
   "cell_type": "code",
   "execution_count": 9,
   "metadata": {},
   "outputs": [
    {
     "data": {
      "text/plain": [
       "{'best_avg_return': 0.8617435751783177,\n",
       " 'best_hyperparams': {'N_UPDATES': 20,\n",
       "  'N_EPOCHS': 14,\n",
       "  'MINIBATCH_SIZE': 96,\n",
       "  'BATCHSIZE_MULTIPLIER': 5,\n",
       "  'LR': 0.006767677946519087,\n",
       "  'GAMMA': 0.9561771362827869,\n",
       "  'GAE_LAMBDA': 0.9589510748087021,\n",
       "  'ENT_COEF': 0.000694685088419939,\n",
       "  'V_COEF': 0.2570973727277017,\n",
       "  'GRADIENT_CLIP': 0.8409877787848272,\n",
       "  'CLIP_VALUE_COEF': 0.298087314059173,\n",
       "  'CLIP_RATIO': 0.2736523661628351}}"
      ]
     },
     "execution_count": 9,
     "metadata": {},
     "output_type": "execute_result"
    }
   ],
   "source": [
    "optimizer.best_hpo_configuration"
   ]
  }
 ],
 "metadata": {
  "kernelspec": {
   "display_name": "Python 3",
   "language": "python",
   "name": "python3"
  },
  "language_info": {
   "codemirror_mode": {
    "name": "ipython",
    "version": 3
   },
   "file_extension": ".py",
   "mimetype": "text/x-python",
   "name": "python",
   "nbconvert_exporter": "python",
   "pygments_lexer": "ipython3",
   "version": "3.9.6"
  },
  "orig_nbformat": 4
 },
 "nbformat": 4,
 "nbformat_minor": 2
}

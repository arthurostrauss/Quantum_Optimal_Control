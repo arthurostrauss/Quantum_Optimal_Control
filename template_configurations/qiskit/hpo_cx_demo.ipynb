{
 "cells": [
  {
   "attachments": {},
   "cell_type": "markdown",
   "metadata": {},
   "source": [
    "## CX Calibration with HPO"
   ]
  },
  {
   "attachments": {},
   "cell_type": "markdown",
   "metadata": {},
   "source": [
    "#### Imports"
   ]
  },
  {
   "cell_type": "code",
   "execution_count": 1,
   "metadata": {},
   "outputs": [
    {
     "name": "stderr",
     "output_type": "stream",
     "text": [
      "/Users/lukasvoss/anaconda3/lib/python3.11/site-packages/qiskit_dynamics/dispatch/backends/jax.py:34: UserWarning: The functionality in the perturbation module of Qiskit Dynamics requires a JAX version <= 0.4.6, due to a bug in JAX versions > 0.4.6. For versions 0.4.4, 0.4.5, and 0.4.6, using the perturbation module functionality requires setting os.environ['JAX_JIT_PJIT_API_MERGE'] = '0' before importing JAX or Dynamics.\n",
      "  warnings.warn(\n"
     ]
    },
    {
     "name": "stdout",
     "output_type": "stream",
     "text": [
      "Circuit context\n",
      "global phase: π/2\n",
      "                                                                    ┌───┐     »\n",
      "      q_3 -> 0 ─────────────────────────────────────────────────────┤ X ├─────»\n",
      "                                           ┌───┐     ┌───┐     ┌───┐└─┬─┘     »\n",
      "      q_1 -> 1 ────────────────────────────┤ X ├─────┤ X ├──■──┤ X ├──■────■──»\n",
      "                                           └─┬─┘     └─┬─┘  │  └─┬─┘     ┌─┴─┐»\n",
      "      q_4 -> 2 ──────────────────────────────┼─────────┼────┼────┼───────┤ X ├»\n",
      "               ┌─────────┐┌────┐┌─────────┐  │         │  ┌─┴─┐  │       └───┘»\n",
      "      q_0 -> 3 ┤ Rz(π/2) ├┤ √X ├┤ Rz(π/2) ├──■────■────■──┤ X ├──■────────────»\n",
      "               └─────────┘└────┘└─────────┘       │       └───┘               »\n",
      "ancilla_0 -> 4 ───────────────────────────────────┼───────────────────────────»\n",
      "                                                ┌─┴─┐                         »\n",
      "      q_2 -> 5 ─────────────────────────────────┤ X ├─────────────────────────»\n",
      "                                                └───┘                         »\n",
      "ancilla_1 -> 6 ───────────────────────────────────────────────────────────────»\n",
      "                                                                              »\n",
      "«                                           \n",
      "«      q_3 -> 0 ────────────────────────────\n",
      "«               ┌─────────┐┌────┐┌─────────┐\n",
      "«      q_1 -> 1 ┤ Rz(π/2) ├┤ √X ├┤ Rz(π/2) ├\n",
      "«               └─────────┘└────┘└─────────┘\n",
      "«      q_4 -> 2 ────────────────────────────\n",
      "«                                           \n",
      "«      q_0 -> 3 ────────────────────────────\n",
      "«                                           \n",
      "«ancilla_0 -> 4 ────────────────────────────\n",
      "«                                           \n",
      "«      q_2 -> 5 ────────────────────────────\n",
      "«                                           \n",
      "«ancilla_1 -> 6 ────────────────────────────\n",
      "«                                           \n"
     ]
    }
   ],
   "source": [
    "import sys\n",
    "import os\n",
    "import matplotlib.pyplot as plt\n",
    "os.environ[\"KMP_DUPLICATE_LIB_OK\"] = \"True\"\n",
    "module_path = os.path.abspath(os.path.join('/Users/lukasvoss/Documents/Master Wirtschaftsphysik/Masterarbeit Yale-NUS CQT/Quantum_Optimal_Control'))\n",
    "if module_path not in sys.path:\n",
    "    sys.path.append(module_path)\n",
    "\n",
    "from template_configurations.qiskit.q_env_config import q_env_config as gate_q_env_config\n",
    "from quantumenvironment import QuantumEnvironment\n",
    "from hyperparameter_optimization import HyperparameterOptimizer\n",
    "from gymnasium.wrappers import RescaleAction, ClipAction\n",
    "\n",
    "import logging\n",
    "logging.basicConfig(\n",
    "    level=logging.WARNING,\n",
    "    format=\"%(asctime)s INFO %(message)s\", # hardcoded INFO level\n",
    "    datefmt=\"%Y-%m-%d %H:%M:%S\",\n",
    "    stream=sys.stdout,\n",
    ")"
   ]
  },
  {
   "attachments": {},
   "cell_type": "markdown",
   "metadata": {},
   "source": [
    "Which gate is to be calibrated?"
   ]
  },
  {
   "cell_type": "code",
   "execution_count": 2,
   "metadata": {},
   "outputs": [
    {
     "data": {
      "text/plain": [
       "{'register': [0, 1],\n",
       " 'gate': Instruction(name='cx', num_qubits=2, num_clbits=0, params=[])}"
      ]
     },
     "execution_count": 2,
     "metadata": {},
     "output_type": "execute_result"
    }
   ],
   "source": [
    "gate_q_env_config.target"
   ]
  },
  {
   "attachments": {},
   "cell_type": "markdown",
   "metadata": {},
   "source": [
    "### Perform HPO"
   ]
  },
  {
   "attachments": {},
   "cell_type": "markdown",
   "metadata": {},
   "source": [
    "Set path to the files specifying the RL agent and where to store the HPO results"
   ]
  },
  {
   "cell_type": "code",
   "execution_count": 3,
   "metadata": {},
   "outputs": [],
   "source": [
    "current_dir = os.getcwd()\n",
    "\n",
    "path_agent_config = os.path.join(os.path.dirname(current_dir), 'agent_config.yaml')\n",
    "path_hpo_config = os.path.join(current_dir, 'hpo_config.yaml')\n",
    "save_results_path = 'hpo_results'"
   ]
  },
  {
   "attachments": {},
   "cell_type": "markdown",
   "metadata": {},
   "source": [
    "#### Create the QuantumEnvironment, clip and rescale the action space"
   ]
  },
  {
   "cell_type": "code",
   "execution_count": 4,
   "metadata": {},
   "outputs": [
    {
     "name": "stdout",
     "output_type": "stream",
     "text": [
      "Initial loower bounds: [-3.14 -3.14 -3.14 -3.14 -3.14 -3.14 -3.14]\n",
      "Initial upper bounds: [3.14 3.14 3.14 3.14 3.14 3.14 3.14]\n",
      "Rescaled lower bounds: [-1. -1. -1. -1. -1. -1. -1.]\n",
      "Rescaled upper bounds: [1. 1. 1. 1. 1. 1. 1.]\n"
     ]
    }
   ],
   "source": [
    "# Define the original action space\n",
    "print('Initial loower bounds:', gate_q_env_config.action_space.low)\n",
    "print('Initial upper bounds:', gate_q_env_config.action_space.high)\n",
    "\n",
    "q_env = QuantumEnvironment(gate_q_env_config)\n",
    "\n",
    "# Apply the RescaleAction wrapper\n",
    "q_env = ClipAction(q_env)\n",
    "q_env = RescaleAction(q_env, min_action=-1.0, max_action=1.0)\n",
    "\n",
    "# Confirm the rescale box dimensions\n",
    "print('Rescaled lower bounds:', q_env.action_space.low)\n",
    "print('Rescaled upper bounds:', q_env.action_space.high)"
   ]
  },
  {
   "cell_type": "code",
   "execution_count": 5,
   "metadata": {},
   "outputs": [
    {
     "name": "stderr",
     "output_type": "stream",
     "text": [
      "\r 97%|█████████▋| 150/155 [00:38<00:01,  3.88it/s]"
     ]
    },
    {
     "name": "stdout",
     "output_type": "stream",
     "text": [
      "Starting benchmarking...\n",
      "Starting simulation benchmark...\n",
      "Avg gate fidelity: 0.97615584127165\n",
      "Finished simulation benchmark\n",
      "Finished benchmarking\n",
      "SparsePauliOp(['II', 'IX', 'XI', 'XX'],\n",
      "              coeffs=[0.25+0.j, 0.25+0.j, 0.25+0.j, 0.25+0.j])\n"
     ]
    },
    {
     "name": "stderr",
     "output_type": "stream",
     "text": [
      " 97%|█████████▋| 151/155 [00:38<00:01,  3.88it/s]"
     ]
    },
    {
     "name": "stdout",
     "output_type": "stream",
     "text": [
      "mean tensor([-0.0457,  0.4822,  0.0658,  0.5048, -0.5067,  0.5110, -0.5048])\n",
      "sigma tensor([0.0300, 0.0446, 0.0342, 0.0306, 0.0208, 0.0300, 0.0397])\n",
      "DFE Rewards Mean: 0.9712889097392345\n",
      "DFE Rewards standard dev 0.026778909517864026\n",
      "Returns Mean: 4.7919645\n",
      "Returns standard dev 3.0197759\n",
      "Advantages Mean: -0.91660595\n",
      "Advantages standard dev 3.0197759\n",
      "Starting benchmarking...\n",
      "Starting simulation benchmark...\n",
      "Avg gate fidelity: 0.9747827330802805\n",
      "Finished simulation benchmark\n",
      "Finished benchmarking\n",
      "SparsePauliOp(['II', 'IZ', 'ZI', 'ZZ'],\n",
      "              coeffs=[ 0.25+0.j, -0.25+0.j,  0.25+0.j, -0.25+0.j])\n"
     ]
    },
    {
     "name": "stderr",
     "output_type": "stream",
     "text": [
      " 98%|█████████▊| 152/155 [00:38<00:00,  3.88it/s]"
     ]
    },
    {
     "name": "stdout",
     "output_type": "stream",
     "text": [
      "mean tensor([-0.0396,  0.4788,  0.0809,  0.5196, -0.5108,  0.5180, -0.5187])\n",
      "sigma tensor([0.0334, 0.0314, 0.0358, 0.0351, 0.0217, 0.0282, 0.0300])\n",
      "DFE Rewards Mean: 0.9787882798572923\n",
      "DFE Rewards standard dev 0.02257073457505665\n",
      "Returns Mean: 5.592701\n",
      "Returns standard dev 3.7954242\n",
      "Advantages Mean: -0.020341992\n",
      "Advantages standard dev 3.7954242\n",
      "Starting benchmarking...\n",
      "Starting simulation benchmark...\n",
      "Avg gate fidelity: 0.9771307254165883\n",
      "Finished simulation benchmark\n",
      "Finished benchmarking\n",
      "SparsePauliOp(['II', 'IZ', 'YI', 'YZ'],\n",
      "              coeffs=[0.25+0.j, 0.25+0.j, 0.25+0.j, 0.25+0.j])\n"
     ]
    },
    {
     "name": "stderr",
     "output_type": "stream",
     "text": [
      " 99%|█████████▊| 153/155 [00:39<00:00,  3.91it/s]"
     ]
    },
    {
     "name": "stdout",
     "output_type": "stream",
     "text": [
      "mean tensor([-0.0282,  0.4762,  0.0782,  0.5098, -0.5123,  0.5195, -0.5074])\n",
      "sigma tensor([0.0298, 0.0278, 0.0388, 0.0313, 0.0233, 0.0321, 0.0335])\n",
      "DFE Rewards Mean: 0.9886189899770106\n",
      "DFE Rewards standard dev 0.01614957820319356\n",
      "Returns Mean: 6.1493683\n",
      "Returns standard dev 3.4009233\n",
      "Advantages Mean: 0.67160034\n",
      "Advantages standard dev 3.4009233\n",
      "Starting benchmarking...\n",
      "Starting simulation benchmark...\n",
      "Avg gate fidelity: 0.9774455707168265\n",
      "Finished simulation benchmark\n",
      "Finished benchmarking\n",
      "SparsePauliOp(['II', 'XY', 'YZ', 'ZX'],\n",
      "              coeffs=[ 0.25+0.j,  0.25+0.j,  0.25+0.j, -0.25+0.j])\n"
     ]
    },
    {
     "name": "stderr",
     "output_type": "stream",
     "text": [
      " 99%|█████████▉| 154/155 [00:39<00:00,  3.94it/s]"
     ]
    },
    {
     "name": "stdout",
     "output_type": "stream",
     "text": [
      "mean tensor([-0.0153,  0.4830,  0.0713,  0.5139, -0.5095,  0.5140, -0.5259])\n",
      "sigma tensor([0.0203, 0.0399, 0.0384, 0.0306, 0.0203, 0.0274, 0.0292])\n",
      "DFE Rewards Mean: 0.974845983158492\n",
      "DFE Rewards standard dev 0.024669937350849443\n",
      "Returns Mean: 5.2163706\n",
      "Returns standard dev 3.559245\n",
      "Advantages Mean: -0.41957936\n",
      "Advantages standard dev 3.5592449\n",
      "Starting benchmarking...\n",
      "Starting simulation benchmark...\n",
      "Avg gate fidelity: 0.9832611116152414\n",
      "Finished simulation benchmark\n",
      "Finished benchmarking\n",
      "SparsePauliOp(['II', 'XY', 'YZ', 'ZX'],\n",
      "              coeffs=[ 0.25+0.j,  0.25+0.j,  0.25+0.j, -0.25+0.j])\n"
     ]
    },
    {
     "name": "stderr",
     "output_type": "stream",
     "text": [
      "100%|██████████| 155/155 [00:39<00:00,  3.92it/s]\n",
      "[I 2024-01-30 16:52:35,982] Trial 1 finished with value: 0.9765079306765468 and parameters: {'N_UPDATES': 155, 'N_EPOCHS': 25, 'MINIBATCH_SIZE': 8, 'BATCHSIZE_MULTIPLIER': 10, 'LR': 0.00196410187238837, 'GAMMA': 0.9594671214854054, 'GAE_LAMBDA': 0.9128817971421951, 'ENT_COEF': 0.0005774123611110119, 'V_COEF': 0.38244329043152503, 'GRADIENT_CLIP': 0.2662912338677059, 'CLIP_VALUE_COEF': 0.13305151761738698, 'CLIP_RATIO': 0.17368744957992363}. Best is trial 1 with value: 0.9765079306765468.\n"
     ]
    },
    {
     "name": "stdout",
     "output_type": "stream",
     "text": [
      "mean tensor([-0.0253,  0.4650,  0.0411,  0.4929, -0.5298,  0.5040, -0.5233])\n",
      "sigma tensor([0.0230, 0.0381, 0.0380, 0.0333, 0.0192, 0.0285, 0.0291])\n",
      "DFE Rewards Mean: 0.9868344112327898\n",
      "DFE Rewards standard dev 0.01900286523243978\n",
      "Returns Mean: 6.8726373\n",
      "Returns standard dev 4.3506756\n",
      "Advantages Mean: 1.3550472\n",
      "Advantages standard dev 4.3506756\n",
      "2024-01-30 16:52:35 INFO ---------------- FINISHED HPO ----------------\n",
      "2024-01-30 16:52:35 INFO HPO completed in 59.75 seconds.\n",
      "2024-01-30 16:52:35 INFO Best trial:\n",
      "2024-01-30 16:52:35 INFO -------------------------\n",
      "2024-01-30 16:52:35 INFO   Fidelity: 0.9765079306765468\n",
      "2024-01-30 16:52:35 INFO   Hyperparameters: \n",
      "2024-01-30 16:52:35 INFO     N_UPDATES: 155\n",
      "2024-01-30 16:52:35 INFO     N_EPOCHS: 25\n",
      "2024-01-30 16:52:35 INFO     MINIBATCH_SIZE: 8\n",
      "2024-01-30 16:52:35 INFO     BATCHSIZE_MULTIPLIER: 10\n",
      "2024-01-30 16:52:35 INFO     LR: 0.00196410187238837\n",
      "2024-01-30 16:52:35 INFO     GAMMA: 0.9594671214854054\n",
      "2024-01-30 16:52:35 INFO     GAE_LAMBDA: 0.9128817971421951\n",
      "2024-01-30 16:52:35 INFO     ENT_COEF: 0.0005774123611110119\n",
      "2024-01-30 16:52:35 INFO     V_COEF: 0.38244329043152503\n",
      "2024-01-30 16:52:35 INFO     GRADIENT_CLIP: 0.2662912338677059\n",
      "2024-01-30 16:52:35 INFO     CLIP_VALUE_COEF: 0.13305151761738698\n",
      "2024-01-30 16:52:35 INFO     CLIP_RATIO: 0.17368744957992363\n",
      "2024-01-30 16:52:35 INFO The best action vector: [-0.04611861  1.5268072   0.22374853  1.6598921  -1.6484693   1.5383371\n",
      " -1.6466293 ]\n",
      "2024-01-30 16:52:35 INFO Best configuration saved to hpo_results/fidelity_0.976508.pickle\n"
     ]
    }
   ],
   "source": [
    "optimizer = HyperparameterOptimizer(\n",
    "    q_env=q_env,\n",
    "    path_agent_config=path_agent_config,\n",
    "    path_hpo_config=path_hpo_config, \n",
    "    save_results_path=save_results_path, \n",
    "    log_progress=True,\n",
    ")\n",
    "best_trial = optimizer.optimize_hyperparameters(num_hpo_trials = 2)"
   ]
  },
  {
   "attachments": {},
   "cell_type": "markdown",
   "metadata": {},
   "source": [
    "#### Quick Summary of HPO Task"
   ]
  },
  {
   "cell_type": "code",
   "execution_count": 6,
   "metadata": {},
   "outputs": [
    {
     "name": "stderr",
     "output_type": "stream",
     "text": [
      "/Users/lukasvoss/anaconda3/lib/python3.11/site-packages/gymnasium/core.py:311: UserWarning: \u001b[33mWARN: env.target to get variables from other wrappers is deprecated and will be removed in v1.0, to get this variable you can do `env.unwrapped.target` for environment variables or `env.get_wrapper_attr('target')` that will search the reminding wrappers.\u001b[0m\n",
      "  logger.warn(\n"
     ]
    },
    {
     "data": {
      "text/plain": [
       "{'target_gate': Instruction(name='cx', num_qubits=2, num_clbits=0, params=[]),\n",
       " 'target_register': [0, 1]}"
      ]
     },
     "execution_count": 6,
     "metadata": {},
     "output_type": "execute_result"
    }
   ],
   "source": [
    "optimizer.target_gate"
   ]
  },
  {
   "cell_type": "code",
   "execution_count": 7,
   "metadata": {},
   "outputs": [
    {
     "data": {
      "text/plain": [
       "['N_UPDATES',\n",
       " 'N_EPOCHS',\n",
       " 'MINIBATCH_SIZE',\n",
       " 'BATCHSIZE_MULTIPLIER',\n",
       " 'LR',\n",
       " 'GAMMA',\n",
       " 'GAE_LAMBDA',\n",
       " 'ENT_COEF',\n",
       " 'V_COEF',\n",
       " 'GRADIENT_CLIP',\n",
       " 'CLIP_VALUE_COEF',\n",
       " 'CLIP_RATIO',\n",
       " 'BATCHSIZE']"
      ]
     },
     "execution_count": 7,
     "metadata": {},
     "output_type": "execute_result"
    }
   ],
   "source": [
    "optimizer.hyperparams"
   ]
  },
  {
   "cell_type": "code",
   "execution_count": 9,
   "metadata": {},
   "outputs": [
    {
     "data": {
      "text/plain": [
       "<matplotlib.legend.Legend at 0x30d58db50>"
      ]
     },
     "execution_count": 9,
     "metadata": {},
     "output_type": "execute_result"
    },
    {
     "data": {
      "image/png": "[encoded data removed]",
      "text/plain": [
       "<Figure size 640x480 with 1 Axes>"
      ]
     },
     "metadata": {},
     "output_type": "display_data"
    }
   ],
   "source": [
    "plt.plot(best_trial['avg_reward'], label='Avg. Reward')\n",
    "plt.plot(best_trial['fidelity_history'], label=f'Fidelity, final_fidelity={round(best_trial[\"fidelity_history\"][-1], 4)}')\n",
    "plt.xlabel('Updates')\n",
    "plt.title(f'Training History of {gate_q_env_config.target[\"gate\"].name}-gate')\n",
    "plt.legend()"
   ]
  },
  {
   "cell_type": "code",
   "execution_count": 10,
   "metadata": {},
   "outputs": [
    {
     "data": {
      "text/plain": [
       "array([-0.04611861,  1.5268072 ,  0.22374853,  1.6598921 , -1.6484693 ,\n",
       "        1.5383371 , -1.6466293 ], dtype=float32)"
      ]
     },
     "execution_count": 10,
     "metadata": {},
     "output_type": "execute_result"
    }
   ],
   "source": [
    "best_trial['action_vector']"
   ]
  }
 ],
 "metadata": {
  "kernelspec": {
   "display_name": "Python 3",
   "language": "python",
   "name": "python3"
  },
  "language_info": {
   "codemirror_mode": {
    "name": "ipython",
    "version": 3
   },
   "file_extension": ".py",
   "mimetype": "text/x-python",
   "name": "python",
   "nbconvert_exporter": "python",
   "pygments_lexer": "ipython3",
   "version": "3.11.5"
  },
  "orig_nbformat": 4
 },
 "nbformat": 4,
 "nbformat_minor": 2
}

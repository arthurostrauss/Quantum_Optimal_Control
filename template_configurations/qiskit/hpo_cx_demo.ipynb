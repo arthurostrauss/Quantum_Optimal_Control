{
 "cells": [
  {
   "attachments": {},
   "cell_type": "markdown",
   "metadata": {},
   "source": [
    "### CX Calibration with HPO under the new code architecture / workflow (DEC 2023)"
   ]
  },
  {
   "cell_type": "code",
   "execution_count": 1,
   "metadata": {},
   "outputs": [
    {
     "name": "stderr",
     "output_type": "stream",
     "text": [
      "/Users/lukasvoss/Library/Python/3.9/lib/python/site-packages/qiskit_dynamics/dispatch/backends/jax.py:34: UserWarning: The functionality in the perturbation module of Qiskit Dynamics requires a JAX version <= 0.4.6, due to a bug in JAX versions > 0.4.6. For versions 0.4.4, 0.4.5, and 0.4.6, using the perturbation module functionality requires setting os.environ['JAX_JIT_PJIT_API_MERGE'] = '0' before importing JAX or Dynamics.\n",
      "  warnings.warn(\n"
     ]
    },
    {
     "name": "stdout",
     "output_type": "stream",
     "text": [
      "Starting Rabi experiment for qubit 0...\n",
      "Rabi experiment for qubit 0 done.\n",
      "Starting Drag experiment for qubit 0...\n",
      "Drag experiments done for qubit 0 done.\n",
      "Starting Rabi experiment for qubit 1...\n",
      "Rabi experiment for qubit 1 done.\n",
      "Starting Drag experiment for qubit 1...\n",
      "Drag experiments done for qubit 1 done.\n",
      "All single qubit calibrations are done\n",
      "Updated Instruction Schedule Map <InstructionScheduleMap(1Q instructions:\n",
      "  q0: {'s', 'z', 'delay', 'measure', 'sx', 'reset', 'rz', 'id', 'h', 'x', 'sdg', 't', 'tdg'}\n",
      "  q1: {'s', 'z', 'delay', 'measure', 'sx', 'reset', 'rz', 'id', 'h', 'x', 'sdg', 't', 'tdg'}\n",
      "Multi qubit instructions:\n",
      "  (0, 1): {'cr45m', 'cr45p', 'ecr'}\n",
      "  (1, 0): {'cr45m', 'cr45p', 'ecr'}\n",
      ")>\n",
      "Starting Rabi experiment for qubit 0...\n",
      "Rabi experiment for qubit 0 done.\n",
      "Starting Drag experiment for qubit 0...\n",
      "Drag experiments done for qubit 0 done.\n",
      "Starting Rabi experiment for qubit 1...\n",
      "Rabi experiment for qubit 1 done.\n",
      "Starting Drag experiment for qubit 1...\n",
      "Drag experiments done for qubit 1 done.\n",
      "All single qubit calibrations are done\n",
      "Updated Instruction Schedule Map <InstructionScheduleMap(1Q instructions:\n",
      "  q0: {'s', 'z', 'delay', 'measure', 'sx', 'reset', 'rz', 'id', 'h', 'x', 'sdg', 't', 'tdg'}\n",
      "  q1: {'s', 'z', 'delay', 'measure', 'sx', 'reset', 'rz', 'id', 'h', 'x', 'sdg', 't', 'tdg'}\n",
      "Multi qubit instructions:\n",
      "  (0, 1): {'cr45m', 'cr45p', 'ecr'}\n",
      "  (1, 0): {'cr45m', 'cr45p', 'ecr'}\n",
      ")>\n"
     ]
    }
   ],
   "source": [
    "import sys\n",
    "import os\n",
    "os.environ[\"KMP_DUPLICATE_LIB_OK\"] = \"True\"\n",
    "import time\n",
    "import yaml\n",
    "import pickle\n",
    "import optuna\n",
    "module_path = os.path.abspath(os.path.join('/Users/lukasvoss/Documents/Master Wirtschaftsphysik/Masterarbeit Yale-NUS CQT/Quantum_Optimal_Control'))\n",
    "if module_path not in sys.path:\n",
    "    sys.path.append(module_path)\n",
    "\n",
    "from quantumenvironment import QuantumEnvironment\n",
    "from agent import Agent\n",
    "from gate_level_abstraction import gate_q_env_config\n",
    "from helper_functions import load_agent_from_yaml_file, create_agent_config\n",
    "from ppo import make_train_ppo\n",
    "from qconfig import QEnvConfig\n",
    "\n",
    "import logging\n",
    "logging.basicConfig(\n",
    "    level=logging.WARNING,\n",
    "    format=\"%(asctime)s INFO %(message)s\", # hardcoded INFO level\n",
    "    datefmt=\"%Y-%m-%d %H:%M:%S\",\n",
    "    stream=sys.stdout,\n",
    ")"
   ]
  },
  {
   "attachments": {},
   "cell_type": "markdown",
   "metadata": {},
   "source": [
    "### Perform HPO"
   ]
  },
  {
   "cell_type": "code",
   "execution_count": 2,
   "metadata": {},
   "outputs": [],
   "source": [
    "from hyperparameter_optimization import HyperparameterOptimizer"
   ]
  },
  {
   "cell_type": "code",
   "execution_count": 5,
   "metadata": {},
   "outputs": [],
   "source": [
    "path_agent_config = '/Users/lukasvoss/Documents/Master Wirtschaftsphysik/Masterarbeit Yale-NUS CQT/Quantum_Optimal_Control/template_configurations/agent_config.yaml'\n",
    "save_results_path = 'hpo_results'"
   ]
  },
  {
   "cell_type": "code",
   "execution_count": 6,
   "metadata": {},
   "outputs": [
    {
     "name": "stdout",
     "output_type": "stream",
     "text": [
      "SparsePauliOp(['II', 'XX', 'YY', 'ZZ'],\n",
      "              coeffs=[ 0.25+0.j,  0.25+0.j,  0.25+0.j, -0.25+0.j])\n",
      "2023-12-22 16:33:31 INFO num_HPO_trials: 1\n",
      "2023-12-22 16:33:31 INFO ---------------- STARTING HPO ----------------\n"
     ]
    },
    {
     "name": "stderr",
     "output_type": "stream",
     "text": [
      "[I 2023-12-22 16:33:31,465] A new study created in memory with name: no-name-4a3a69ad-e068-44b5-90d3-82d2411f8147\n"
     ]
    },
    {
     "name": "stdout",
     "output_type": "stream",
     "text": [
      "SparsePauliOp(['II', 'IZ', 'XI', 'XZ'],\n",
      "              coeffs=[0.25+0.j, 0.25+0.j, 0.25+0.j, 0.25+0.j])\n"
     ]
    },
    {
     "name": "stderr",
     "output_type": "stream",
     "text": [
      "  0%|          | 0/43 [00:00<?, ?it/s]"
     ]
    },
    {
     "name": "stdout",
     "output_type": "stream",
     "text": [
      "SparsePauliOp(['II', 'IY', 'XI', 'XY'],\n",
      "              coeffs=[0.25+0.j, 0.25+0.j, 0.25+0.j, 0.25+0.j])\n"
     ]
    },
    {
     "name": "stderr",
     "output_type": "stream",
     "text": [
      "  2%|▏         | 1/43 [00:00<00:05,  7.00it/s]"
     ]
    },
    {
     "name": "stdout",
     "output_type": "stream",
     "text": [
      "mean tensor([ 0.1526,  0.1412, -0.1095, -0.1277,  0.0822, -0.0831,  0.1488])\n",
      "Average return: 0.2531957692460124\n",
      "DFE Rewards Mean: 0.2531957692460124\n",
      "DFE Rewards standard dev 0.24009396381914827\n",
      "Returns Mean: 0.4023117\n",
      "Returns standard dev 0.76877826\n",
      "Advantages Mean: 0.47485408\n",
      "Advantages standard dev 0.7687782\n",
      "Fidelity History: []\n",
      "SparsePauliOp(['II', 'IZ', 'ZI', 'ZZ'],\n",
      "              coeffs=[ 0.25+0.j, -0.25+0.j, -0.25+0.j,  0.25+0.j])\n"
     ]
    },
    {
     "name": "stderr",
     "output_type": "stream",
     "text": [
      "  5%|▍         | 2/43 [00:00<00:05,  7.83it/s]"
     ]
    },
    {
     "name": "stdout",
     "output_type": "stream",
     "text": [
      "mean tensor([ 0.1043,  0.0517, -0.0940, -0.0958,  0.0356, -0.0537,  0.1027])\n",
      "Average return: 0.3070529413932616\n",
      "DFE Rewards Mean: 0.3070529413932616\n",
      "DFE Rewards standard dev 0.2759850903176648\n",
      "Returns Mean: 0.50941306\n",
      "Returns standard dev 0.6288557\n",
      "Advantages Mean: 0.44320843\n",
      "Advantages standard dev 0.6288557\n",
      "Fidelity History: []\n",
      "SparsePauliOp(['II', 'IY', 'XI', 'XY'],\n",
      "              coeffs=[0.25+0.j, 0.25+0.j, 0.25+0.j, 0.25+0.j])\n"
     ]
    },
    {
     "name": "stderr",
     "output_type": "stream",
     "text": [
      "  7%|▋         | 3/43 [00:00<00:04,  8.18it/s]"
     ]
    },
    {
     "name": "stdout",
     "output_type": "stream",
     "text": [
      "mean tensor([ 0.1040,  0.1226, -0.0947, -0.1064,  0.1000, -0.0740,  0.1069])\n",
      "Average return: 0.2613294063564847\n",
      "DFE Rewards Mean: 0.2613294063564847\n",
      "DFE Rewards standard dev 0.2477970660148366\n",
      "Returns Mean: 0.39722168\n",
      "Returns standard dev 0.495295\n",
      "Advantages Mean: 0.14537904\n",
      "Advantages standard dev 0.495295\n",
      "Fidelity History: []\n",
      "SparsePauliOp(['II', 'IZ', 'XI', 'XZ'],\n",
      "              coeffs=[0.25+0.j, 0.25+0.j, 0.25+0.j, 0.25+0.j])\n"
     ]
    },
    {
     "name": "stderr",
     "output_type": "stream",
     "text": [
      "  9%|▉         | 4/43 [00:00<00:04,  8.32it/s]"
     ]
    },
    {
     "name": "stdout",
     "output_type": "stream",
     "text": [
      "mean tensor([ 0.0791,  0.0240, -0.0805, -0.0793,  0.0379, -0.0458,  0.0770])\n",
      "Average return: 0.3521320932920361\n",
      "DFE Rewards Mean: 0.3521320932920361\n",
      "DFE Rewards standard dev 0.29072378340857963\n",
      "Returns Mean: 0.6791868\n",
      "Returns standard dev 1.2544335\n",
      "Advantages Mean: 0.4953712\n",
      "Advantages standard dev 1.2544335\n",
      "Fidelity History: []\n",
      "SparsePauliOp(['II', 'IZ', 'XI', 'XZ'],\n",
      "              coeffs=[ 0.25+0.j, -0.25+0.j,  0.25+0.j, -0.25+0.j])\n"
     ]
    },
    {
     "name": "stderr",
     "output_type": "stream",
     "text": [
      " 12%|█▏        | 5/43 [00:00<00:04,  8.41it/s]"
     ]
    },
    {
     "name": "stdout",
     "output_type": "stream",
     "text": [
      "mean tensor([ 0.0818,  0.0437, -0.0918, -0.0905,  0.0738, -0.0613,  0.0780])\n",
      "Average return: 0.3902469339018495\n",
      "DFE Rewards Mean: 0.3902469339018495\n",
      "DFE Rewards standard dev 0.30004939085691273\n",
      "Returns Mean: 0.8072568\n",
      "Returns standard dev 1.4571792\n",
      "Advantages Mean: 0.36860257\n",
      "Advantages standard dev 1.4571792\n",
      "Fidelity History: []\n",
      "SparsePauliOp(['II', 'XY', 'YZ', 'ZX'],\n",
      "              coeffs=[ 0.25+0.j,  0.25+0.j,  0.25+0.j, -0.25+0.j])\n"
     ]
    },
    {
     "name": "stderr",
     "output_type": "stream",
     "text": [
      " 14%|█▍        | 6/43 [00:00<00:04,  7.69it/s]"
     ]
    },
    {
     "name": "stdout",
     "output_type": "stream",
     "text": [
      "mean tensor([ 0.0669,  0.1320, -0.0956, -0.1106,  0.1325, -0.0834,  0.0966])\n",
      "Average return: 0.27049739495783576\n",
      "DFE Rewards Mean: 0.27049739495783576\n",
      "DFE Rewards standard dev 0.2129223470281166\n",
      "Returns Mean: 0.37430948\n",
      "Returns standard dev 0.35562313\n",
      "Advantages Mean: -0.48325723\n",
      "Advantages standard dev 0.35562313\n",
      "Fidelity History: []\n",
      "SparsePauliOp(['II', 'XY', 'YX', 'ZZ'],\n",
      "              coeffs=[0.25+0.j, 0.25+0.j, 0.25+0.j, 0.25+0.j])\n"
     ]
    },
    {
     "name": "stderr",
     "output_type": "stream",
     "text": [
      " 16%|█▋        | 7/43 [00:00<00:04,  7.87it/s]"
     ]
    },
    {
     "name": "stdout",
     "output_type": "stream",
     "text": [
      "mean tensor([ 0.0576,  0.1044, -0.0963, -0.1011,  0.1092, -0.0790,  0.0889])\n",
      "Average return: 0.27731139719262443\n",
      "DFE Rewards Mean: 0.27731139719262443\n",
      "DFE Rewards standard dev 0.2079768259881092\n",
      "Returns Mean: 0.38558418\n",
      "Returns standard dev 0.38426203\n",
      "Advantages Mean: -0.23495664\n",
      "Advantages standard dev 0.38426203\n",
      "Fidelity History: []\n",
      "SparsePauliOp(['II', 'XX', 'YY', 'ZZ'],\n",
      "              coeffs=[ 0.25+0.j,  0.25+0.j,  0.25+0.j, -0.25+0.j])\n"
     ]
    },
    {
     "name": "stderr",
     "output_type": "stream",
     "text": [
      " 19%|█▊        | 8/43 [00:00<00:04,  8.13it/s]"
     ]
    },
    {
     "name": "stdout",
     "output_type": "stream",
     "text": [
      "mean tensor([ 0.0617,  0.0760, -0.1050, -0.0895,  0.0871, -0.0692,  0.0895])\n",
      "Average return: 0.2663249384870552\n",
      "DFE Rewards Mean: 0.2663249384870552\n",
      "DFE Rewards standard dev 0.20778601153426923\n",
      "Returns Mean: 0.36752257\n",
      "Returns standard dev 0.3652411\n",
      "Advantages Mean: -0.05991945\n",
      "Advantages standard dev 0.36524114\n",
      "Fidelity History: []\n",
      "SparsePauliOp(['II', 'IZ', 'XI', 'XZ'],\n",
      "              coeffs=[0.25+0.j, 0.25+0.j, 0.25+0.j, 0.25+0.j])\n"
     ]
    },
    {
     "name": "stderr",
     "output_type": "stream",
     "text": [
      " 21%|██        | 9/43 [00:01<00:04,  8.42it/s]"
     ]
    },
    {
     "name": "stdout",
     "output_type": "stream",
     "text": [
      "mean tensor([ 0.0545,  0.0347, -0.0923, -0.0732,  0.0471, -0.0499,  0.0703])\n",
      "Average return: 0.3730854497141464\n",
      "DFE Rewards Mean: 0.3730854497141464\n",
      "DFE Rewards standard dev 0.30044383182997564\n",
      "Returns Mean: 0.7431047\n",
      "Returns standard dev 1.2084435\n",
      "Advantages Mean: 0.44550237\n",
      "Advantages standard dev 1.2084435\n",
      "Fidelity History: []\n",
      "SparsePauliOp(['II', 'IX', 'XI', 'XX'],\n",
      "              coeffs=[0.25+0.j, 0.25+0.j, 0.25+0.j, 0.25+0.j])\n"
     ]
    },
    {
     "name": "stderr",
     "output_type": "stream",
     "text": [
      " 23%|██▎       | 10/43 [00:01<00:03,  8.52it/s]"
     ]
    },
    {
     "name": "stdout",
     "output_type": "stream",
     "text": [
      "mean tensor([ 0.0579,  0.1006, -0.0994, -0.0635,  0.0964, -0.0541,  0.0802])\n",
      "Average return: 0.31047546057217573\n",
      "DFE Rewards Mean: 0.31047546057217573\n",
      "DFE Rewards standard dev 0.2656981432297469\n",
      "Returns Mean: 0.49428567\n",
      "Returns standard dev 0.5660423\n",
      "Advantages Mean: -0.113070555\n",
      "Advantages standard dev 0.5660423\n",
      "Fidelity History: []\n",
      "SparsePauliOp(['II', 'IZ', 'ZI', 'ZZ'],\n",
      "              coeffs=[0.25+0.j, 0.25+0.j, 0.25+0.j, 0.25+0.j])\n"
     ]
    },
    {
     "name": "stderr",
     "output_type": "stream",
     "text": [
      " 26%|██▌       | 11/43 [00:01<00:03,  8.60it/s]"
     ]
    },
    {
     "name": "stdout",
     "output_type": "stream",
     "text": [
      "mean tensor([ 0.0454,  0.0130, -0.0809, -0.0550,  0.0366, -0.0239,  0.0587])\n",
      "Average return: 0.3874818761278917\n",
      "DFE Rewards Mean: 0.3874818761278917\n",
      "DFE Rewards standard dev 0.28215984818198175\n",
      "Returns Mean: 0.690816\n",
      "Returns standard dev 0.9126187\n",
      "Advantages Mean: 0.31656954\n",
      "Advantages standard dev 0.91261864\n",
      "Fidelity History: []\n",
      "SparsePauliOp(['II', 'IX', 'XI', 'XX'],\n",
      "              coeffs=[0.25+0.j, 0.25+0.j, 0.25+0.j, 0.25+0.j])\n"
     ]
    },
    {
     "name": "stderr",
     "output_type": "stream",
     "text": [
      " 28%|██▊       | 12/43 [00:01<00:03,  8.62it/s]"
     ]
    },
    {
     "name": "stdout",
     "output_type": "stream",
     "text": [
      "mean tensor([ 0.0421,  0.1082, -0.0969, -0.0573,  0.1128, -0.0406,  0.0800])\n",
      "Average return: 0.3119254020532925\n",
      "DFE Rewards Mean: 0.3119254020532925\n",
      "DFE Rewards standard dev 0.270364808087946\n",
      "Returns Mean: 0.51219356\n",
      "Returns standard dev 0.64920646\n",
      "Advantages Mean: -0.16693926\n",
      "Advantages standard dev 0.64920646\n",
      "Fidelity History: []\n",
      "SparsePauliOp(['II', 'XY', 'YX', 'ZZ'],\n",
      "              coeffs=[0.25+0.j, 0.25+0.j, 0.25+0.j, 0.25+0.j])\n"
     ]
    },
    {
     "name": "stderr",
     "output_type": "stream",
     "text": [
      " 30%|███       | 13/43 [00:01<00:03,  8.69it/s]"
     ]
    },
    {
     "name": "stdout",
     "output_type": "stream",
     "text": [
      "mean tensor([ 0.0456,  0.1269, -0.0990, -0.0617,  0.1174, -0.0500,  0.0813])\n",
      "Average return: 0.29269405605258647\n",
      "DFE Rewards Mean: 0.29269405605258647\n",
      "DFE Rewards standard dev 0.20849447078143435\n",
      "Returns Mean: 0.4143587\n",
      "Returns standard dev 0.4284049\n",
      "Advantages Mean: -0.15074192\n",
      "Advantages standard dev 0.4284049\n",
      "Fidelity History: []\n",
      "SparsePauliOp(['II', 'XX', 'YY', 'ZZ'],\n",
      "              coeffs=[ 0.25+0.j,  0.25+0.j, -0.25+0.j,  0.25+0.j])\n"
     ]
    },
    {
     "name": "stderr",
     "output_type": "stream",
     "text": [
      " 33%|███▎      | 14/43 [00:01<00:03,  8.51it/s]"
     ]
    },
    {
     "name": "stdout",
     "output_type": "stream",
     "text": [
      "mean tensor([ 0.0376,  0.0866, -0.1022, -0.0511,  0.0926, -0.0425,  0.0662])\n",
      "Average return: 0.2860079960241012\n",
      "DFE Rewards Mean: 0.2860079960241012\n",
      "DFE Rewards standard dev 0.21328534010547842\n",
      "Returns Mean: 0.398384\n",
      "Returns standard dev 0.37225324\n",
      "Advantages Mean: -0.020907851\n",
      "Advantages standard dev 0.37225324\n",
      "Fidelity History: []\n",
      "SparsePauliOp(['II', 'IZ', 'YI', 'YZ'],\n",
      "              coeffs=[ 0.25+0.j, -0.25+0.j, -0.25+0.j,  0.25+0.j])\n"
     ]
    },
    {
     "name": "stderr",
     "output_type": "stream",
     "text": [
      " 35%|███▍      | 15/43 [00:01<00:03,  8.32it/s]"
     ]
    },
    {
     "name": "stdout",
     "output_type": "stream",
     "text": [
      "mean tensor([ 0.0336,  0.0832, -0.0950, -0.0475,  0.0786, -0.0469,  0.0609])\n",
      "Average return: 0.4278575232810212\n",
      "DFE Rewards Mean: 0.4278575232810212\n",
      "DFE Rewards standard dev 0.25963892389497306\n",
      "Returns Mean: 0.77103204\n",
      "Returns standard dev 1.0798277\n",
      "Advantages Mean: 0.3746568\n",
      "Advantages standard dev 1.0798277\n",
      "Fidelity History: []\n",
      "SparsePauliOp(['II', 'IZ', 'XI', 'XZ'],\n",
      "              coeffs=[0.25+0.j, 0.25+0.j, 0.25+0.j, 0.25+0.j])\n"
     ]
    },
    {
     "name": "stderr",
     "output_type": "stream",
     "text": [
      " 37%|███▋      | 16/43 [00:01<00:03,  8.50it/s]"
     ]
    },
    {
     "name": "stdout",
     "output_type": "stream",
     "text": [
      "mean tensor([ 0.0224,  0.0396, -0.0831, -0.0413,  0.0535, -0.0279,  0.0510])\n",
      "Average return: 0.45299071570158683\n",
      "DFE Rewards Mean: 0.45299071570158683\n",
      "DFE Rewards standard dev 0.28891682487564935\n",
      "Returns Mean: 0.9644837\n",
      "Returns standard dev 1.6436696\n",
      "Advantages Mean: 0.47349626\n",
      "Advantages standard dev 1.6436695\n",
      "Fidelity History: []\n",
      "SparsePauliOp(['II', 'IZ', 'XI', 'XZ'],\n",
      "              coeffs=[ 0.25+0.j, -0.25+0.j,  0.25+0.j, -0.25+0.j])\n"
     ]
    },
    {
     "name": "stderr",
     "output_type": "stream",
     "text": [
      " 40%|███▉      | 17/43 [00:02<00:03,  8.53it/s]"
     ]
    },
    {
     "name": "stdout",
     "output_type": "stream",
     "text": [
      "mean tensor([ 0.0233,  0.0622, -0.0867, -0.0514,  0.0713, -0.0414,  0.0500])\n",
      "Average return: 0.5688291661391138\n",
      "DFE Rewards Mean: 0.5688291661391138\n",
      "DFE Rewards standard dev 0.27000110109608666\n",
      "Returns Mean: 1.1822319\n",
      "Returns standard dev 1.3057464\n",
      "Advantages Mean: 0.4893538\n",
      "Advantages standard dev 1.3057463\n",
      "Fidelity History: []\n",
      "SparsePauliOp(['II', 'IZ', 'ZI', 'ZZ'],\n",
      "              coeffs=[ 0.25+0.j, -0.25+0.j,  0.25+0.j, -0.25+0.j])\n"
     ]
    },
    {
     "name": "stderr",
     "output_type": "stream",
     "text": [
      " 42%|████▏     | 18/43 [00:02<00:02,  8.48it/s]"
     ]
    },
    {
     "name": "stdout",
     "output_type": "stream",
     "text": [
      "mean tensor([ 0.0198,  0.0570, -0.0923, -0.0495,  0.0524, -0.0374,  0.0523])\n",
      "Average return: 0.4938118962481324\n",
      "DFE Rewards Mean: 0.4938118962481324\n",
      "DFE Rewards standard dev 0.2903894424435958\n",
      "Returns Mean: 1.0426556\n",
      "Returns standard dev 1.381794\n",
      "Advantages Mean: 0.23103745\n",
      "Advantages standard dev 1.381794\n",
      "Fidelity History: []\n",
      "SparsePauliOp(['II', 'IZ', 'XI', 'XZ'],\n",
      "              coeffs=[ 0.25+0.j, -0.25+0.j,  0.25+0.j, -0.25+0.j])\n"
     ]
    },
    {
     "name": "stderr",
     "output_type": "stream",
     "text": [
      " 44%|████▍     | 19/43 [00:02<00:02,  8.65it/s]"
     ]
    },
    {
     "name": "stdout",
     "output_type": "stream",
     "text": [
      "mean tensor([ 0.0165,  0.0680, -0.1024, -0.0365,  0.0529, -0.0335,  0.0305])\n",
      "Average return: 0.6011375875909659\n",
      "DFE Rewards Mean: 0.6011375875909659\n",
      "DFE Rewards standard dev 0.2696618834368499\n",
      "Returns Mean: 1.3339927\n",
      "Returns standard dev 1.4119284\n",
      "Advantages Mean: 0.34985238\n",
      "Advantages standard dev 1.4119284\n",
      "Fidelity History: []\n",
      "SparsePauliOp(['II', 'IZ', 'YI', 'YZ'],\n",
      "              coeffs=[0.25+0.j, 0.25+0.j, 0.25+0.j, 0.25+0.j])\n"
     ]
    },
    {
     "name": "stderr",
     "output_type": "stream",
     "text": [
      " 47%|████▋     | 20/43 [00:02<00:02,  8.58it/s]"
     ]
    },
    {
     "name": "stdout",
     "output_type": "stream",
     "text": [
      "mean tensor([ 0.0133,  0.0576, -0.1040, -0.0361,  0.0320, -0.0259,  0.0361])\n",
      "Average return: 0.4831308797550565\n",
      "DFE Rewards Mean: 0.4831308797550565\n",
      "DFE Rewards standard dev 0.27168014821675157\n",
      "Returns Mean: 0.90679944\n",
      "Returns standard dev 1.1034021\n",
      "Advantages Mean: -0.11673741\n",
      "Advantages standard dev 1.1034021\n",
      "Fidelity History: []\n",
      "SparsePauliOp(['II', 'IZ', 'ZI', 'ZZ'],\n",
      "              coeffs=[0.25+0.j, 0.25+0.j, 0.25+0.j, 0.25+0.j])\n"
     ]
    },
    {
     "name": "stderr",
     "output_type": "stream",
     "text": [
      " 49%|████▉     | 21/43 [00:02<00:02,  8.52it/s]"
     ]
    },
    {
     "name": "stdout",
     "output_type": "stream",
     "text": [
      "mean tensor([ 0.0093,  0.0305, -0.0994, -0.0406,  0.0155, -0.0230,  0.0229])\n",
      "Average return: 0.4799407835421096\n",
      "DFE Rewards Mean: 0.4799407835421096\n",
      "DFE Rewards standard dev 0.2842666988967716\n",
      "Returns Mean: 0.93975043\n",
      "Returns standard dev 1.1770289\n",
      "Advantages Mean: 0.085362606\n",
      "Advantages standard dev 1.1770289\n",
      "Fidelity History: []\n",
      "SparsePauliOp(['II', 'IZ', 'ZI', 'ZZ'],\n",
      "              coeffs=[ 0.25+0.j,  0.25+0.j, -0.25+0.j, -0.25+0.j])\n"
     ]
    },
    {
     "name": "stderr",
     "output_type": "stream",
     "text": [
      " 51%|█████     | 22/43 [00:02<00:02,  8.60it/s]"
     ]
    },
    {
     "name": "stdout",
     "output_type": "stream",
     "text": [
      "mean tensor([ 0.0152,  0.0489, -0.1049, -0.0401,  0.0118, -0.0335,  0.0303])\n",
      "Average return: 0.5123914602328657\n",
      "DFE Rewards Mean: 0.5123914602328657\n",
      "DFE Rewards standard dev 0.2952562417027061\n",
      "Returns Mean: 1.0642045\n",
      "Returns standard dev 1.1731392\n",
      "Advantages Mean: 0.105268955\n",
      "Advantages standard dev 1.1731391\n",
      "Fidelity History: []\n",
      "SparsePauliOp(['II', 'IX', 'XI', 'XX'],\n",
      "              coeffs=[0.25+0.j, 0.25+0.j, 0.25+0.j, 0.25+0.j])\n"
     ]
    },
    {
     "name": "stderr",
     "output_type": "stream",
     "text": [
      " 53%|█████▎    | 23/43 [00:02<00:02,  8.69it/s]"
     ]
    },
    {
     "name": "stdout",
     "output_type": "stream",
     "text": [
      "mean tensor([ 0.0212,  0.1476, -0.1253, -0.0261,  0.0478, -0.0566,  0.0290])\n",
      "Average return: 0.41800036363271786\n",
      "DFE Rewards Mean: 0.41800036363271786\n",
      "DFE Rewards standard dev 0.29880225952842016\n",
      "Returns Mean: 0.8827379\n",
      "Returns standard dev 1.5467803\n",
      "Advantages Mean: -0.47709504\n",
      "Advantages standard dev 1.5467803\n",
      "Fidelity History: []\n",
      "SparsePauliOp(['II', 'IZ', 'YI', 'YZ'],\n",
      "              coeffs=[0.25+0.j, 0.25+0.j, 0.25+0.j, 0.25+0.j])\n"
     ]
    },
    {
     "name": "stderr",
     "output_type": "stream",
     "text": [
      " 56%|█████▌    | 24/43 [00:02<00:02,  8.55it/s]"
     ]
    },
    {
     "name": "stdout",
     "output_type": "stream",
     "text": [
      "mean tensor([ 0.0110,  0.0740, -0.1036, -0.0326,  0.0156, -0.0401,  0.0231])\n",
      "Average return: 0.536264994073699\n",
      "DFE Rewards Mean: 0.536264994073699\n",
      "DFE Rewards standard dev 0.25544228450819245\n",
      "Returns Mean: 1.1075577\n",
      "Returns standard dev 1.4532394\n",
      "Advantages Mean: 0.0854386\n",
      "Advantages standard dev 1.4532393\n",
      "Fidelity History: []\n",
      "SparsePauliOp(['II', 'XX', 'YY', 'ZZ'],\n",
      "              coeffs=[ 0.25+0.j,  0.25+0.j, -0.25+0.j,  0.25+0.j])\n"
     ]
    },
    {
     "name": "stderr",
     "output_type": "stream",
     "text": [
      " 58%|█████▊    | 25/43 [00:02<00:02,  8.32it/s]"
     ]
    },
    {
     "name": "stdout",
     "output_type": "stream",
     "text": [
      "mean tensor([ 0.0136,  0.1154, -0.1264, -0.0255,  0.0367, -0.0401,  0.0162])\n",
      "Average return: 0.32638703249553414\n",
      "DFE Rewards Mean: 0.32638703249553414\n",
      "DFE Rewards standard dev 0.24951256857106602\n",
      "Returns Mean: 0.49730995\n",
      "Returns standard dev 0.5007208\n",
      "Advantages Mean: -0.78573173\n",
      "Advantages standard dev 0.5007208\n",
      "Fidelity History: []\n",
      "SparsePauliOp(['II', 'IZ', 'ZI', 'ZZ'],\n",
      "              coeffs=[ 0.25+0.j, -0.25+0.j,  0.25+0.j, -0.25+0.j])\n"
     ]
    },
    {
     "name": "stderr",
     "output_type": "stream",
     "text": [
      " 60%|██████    | 26/43 [00:03<00:02,  8.31it/s]"
     ]
    },
    {
     "name": "stdout",
     "output_type": "stream",
     "text": [
      "mean tensor([ 0.0142,  0.0896, -0.1005, -0.0197,  0.0272, -0.0369,  0.0159])\n",
      "Average return: 0.6160319121415145\n",
      "DFE Rewards Mean: 0.6160319121415145\n",
      "DFE Rewards standard dev 0.27605947071680265\n",
      "Returns Mean: 1.4136288\n",
      "Returns standard dev 1.4533576\n",
      "Advantages Mean: 0.39008135\n",
      "Advantages standard dev 1.4533576\n",
      "Fidelity History: []\n",
      "SparsePauliOp(['II', 'XX', 'YY', 'ZZ'],\n",
      "              coeffs=[ 0.25+0.j,  0.25+0.j,  0.25+0.j, -0.25+0.j])\n"
     ]
    },
    {
     "name": "stderr",
     "output_type": "stream",
     "text": [
      " 63%|██████▎   | 27/43 [00:03<00:01,  8.42it/s]"
     ]
    },
    {
     "name": "stdout",
     "output_type": "stream",
     "text": [
      "mean tensor([ 0.0218,  0.1347, -0.1028, -0.0059,  0.0423, -0.0394,  0.0076])\n",
      "Average return: 0.37736354936856603\n",
      "DFE Rewards Mean: 0.37736354936856603\n",
      "DFE Rewards standard dev 0.26450897300553733\n",
      "Returns Mean: 0.6053374\n",
      "Returns standard dev 0.5694484\n",
      "Advantages Mean: -0.678222\n",
      "Advantages standard dev 0.5694484\n",
      "Fidelity History: []\n",
      "SparsePauliOp(['II', 'XX', 'YZ', 'ZY'],\n",
      "              coeffs=[0.25+0.j, 0.25+0.j, 0.25+0.j, 0.25+0.j])\n"
     ]
    },
    {
     "name": "stderr",
     "output_type": "stream",
     "text": [
      " 65%|██████▌   | 28/43 [00:03<00:01,  8.41it/s]"
     ]
    },
    {
     "name": "stdout",
     "output_type": "stream",
     "text": [
      "mean tensor([ 0.0258,  0.1382, -0.1097, -0.0002,  0.0484, -0.0427,  0.0030])\n",
      "Average return: 0.41712319816178794\n",
      "DFE Rewards Mean: 0.41712319816178794\n",
      "DFE Rewards standard dev 0.26035474397870356\n",
      "Returns Mean: 0.68153584\n",
      "Returns standard dev 0.5978771\n",
      "Advantages Mean: -0.49334392\n",
      "Advantages standard dev 0.5978771\n",
      "Fidelity History: []\n",
      "SparsePauliOp(['II', 'XX', 'YY', 'ZZ'],\n",
      "              coeffs=[ 0.25+0.j,  0.25+0.j, -0.25+0.j,  0.25+0.j])\n"
     ]
    },
    {
     "name": "stderr",
     "output_type": "stream",
     "text": [
      " 67%|██████▋   | 29/43 [00:03<00:01,  8.51it/s]"
     ]
    },
    {
     "name": "stdout",
     "output_type": "stream",
     "text": [
      "mean tensor([ 0.0193,  0.1071, -0.0999, -0.0047,  0.0353, -0.0366,  0.0092])\n",
      "Average return: 0.41195098962568427\n",
      "DFE Rewards Mean: 0.41195098962568427\n",
      "DFE Rewards standard dev 0.26020913240895516\n",
      "Returns Mean: 0.6756541\n",
      "Returns standard dev 0.61891603\n",
      "Advantages Mean: -0.30610946\n",
      "Advantages standard dev 0.61891603\n",
      "Fidelity History: []\n",
      "SparsePauliOp(['II', 'IY', 'XI', 'XY'],\n",
      "              coeffs=[0.25+0.j, 0.25+0.j, 0.25+0.j, 0.25+0.j])\n"
     ]
    },
    {
     "name": "stderr",
     "output_type": "stream",
     "text": [
      " 70%|██████▉   | 30/43 [00:03<00:01,  8.56it/s]"
     ]
    },
    {
     "name": "stdout",
     "output_type": "stream",
     "text": [
      "mean tensor([ 0.0281,  0.1576, -0.1147,  0.0125,  0.0537, -0.0414,  0.0068])\n",
      "Average return: 0.5365385527005682\n",
      "DFE Rewards Mean: 0.5365385527005682\n",
      "DFE Rewards standard dev 0.3068712925948447\n",
      "Returns Mean: 1.1471194\n",
      "Returns standard dev 1.18075\n",
      "Advantages Mean: 0.24131905\n",
      "Advantages standard dev 1.1807501\n",
      "Fidelity History: []\n",
      "SparsePauliOp(['II', 'IZ', 'YI', 'YZ'],\n",
      "              coeffs=[ 0.25+0.j, -0.25+0.j, -0.25+0.j,  0.25+0.j])\n"
     ]
    },
    {
     "name": "stderr",
     "output_type": "stream",
     "text": [
      " 72%|███████▏  | 31/43 [00:03<00:01,  8.62it/s]"
     ]
    },
    {
     "name": "stdout",
     "output_type": "stream",
     "text": [
      "mean tensor([ 0.0121,  0.0922, -0.1049, -0.0027,  0.0242, -0.0304,  0.0214])\n",
      "Average return: 0.6607620609736664\n",
      "DFE Rewards Mean: 0.6607620609736664\n",
      "DFE Rewards standard dev 0.22761845711569445\n",
      "Returns Mean: 1.4925593\n",
      "Returns standard dev 1.5345267\n",
      "Advantages Mean: 0.5587884\n",
      "Advantages standard dev 1.5345267\n",
      "Fidelity History: []\n",
      "SparsePauliOp(['II', 'XX', 'YY', 'ZZ'],\n",
      "              coeffs=[ 0.25+0.j,  0.25+0.j,  0.25+0.j, -0.25+0.j])\n"
     ]
    },
    {
     "name": "stderr",
     "output_type": "stream",
     "text": [
      " 74%|███████▍  | 32/43 [00:03<00:01,  8.71it/s]"
     ]
    },
    {
     "name": "stdout",
     "output_type": "stream",
     "text": [
      "mean tensor([ 0.0091,  0.1087, -0.1092,  0.0096,  0.0192, -0.0278,  0.0221])\n",
      "Average return: 0.472213912589224\n",
      "DFE Rewards Mean: 0.472213912589224\n",
      "DFE Rewards standard dev 0.2700303399633349\n",
      "Returns Mean: 0.81764686\n",
      "Returns standard dev 0.67216647\n",
      "Advantages Mean: -0.3034441\n",
      "Advantages standard dev 0.67216647\n",
      "Fidelity History: []\n",
      "SparsePauliOp(['II', 'XY', 'YX', 'ZZ'],\n",
      "              coeffs=[ 0.25+0.j,  0.25+0.j, -0.25+0.j, -0.25+0.j])\n"
     ]
    },
    {
     "name": "stderr",
     "output_type": "stream",
     "text": [
      " 77%|███████▋  | 33/43 [00:03<00:01,  8.41it/s]"
     ]
    },
    {
     "name": "stdout",
     "output_type": "stream",
     "text": [
      "mean tensor([ 0.0193,  0.1358, -0.1049,  0.0176,  0.0275, -0.0317,  0.0202])\n",
      "Average return: 0.5496858569694064\n",
      "DFE Rewards Mean: 0.5496858569694064\n",
      "DFE Rewards standard dev 0.26810337080542357\n",
      "Returns Mean: 1.0349097\n",
      "Returns standard dev 0.7800985\n",
      "Advantages Mean: -0.0071006496\n",
      "Advantages standard dev 0.7800985\n",
      "Fidelity History: []\n",
      "SparsePauliOp(['II', 'XX', 'YY', 'ZZ'],\n",
      "              coeffs=[ 0.25+0.j,  0.25+0.j,  0.25+0.j, -0.25+0.j])\n"
     ]
    },
    {
     "name": "stderr",
     "output_type": "stream",
     "text": [
      " 79%|███████▉  | 34/43 [00:04<00:01,  8.37it/s]"
     ]
    },
    {
     "name": "stdout",
     "output_type": "stream",
     "text": [
      "mean tensor([ 0.0120,  0.0911, -0.0909,  0.0095,  0.0196, -0.0239,  0.0196])\n",
      "Average return: 0.5326080001850744\n",
      "DFE Rewards Mean: 0.5326080001850744\n",
      "DFE Rewards standard dev 0.25663986305415815\n",
      "Returns Mean: 0.95669764\n",
      "Returns standard dev 0.70036405\n",
      "Advantages Mean: -0.015558004\n",
      "Advantages standard dev 0.70036405\n",
      "Fidelity History: []\n",
      "SparsePauliOp(['II', 'IZ', 'ZI', 'ZZ'],\n",
      "              coeffs=[ 0.25+0.j,  0.25+0.j, -0.25+0.j, -0.25+0.j])\n"
     ]
    },
    {
     "name": "stderr",
     "output_type": "stream",
     "text": [
      " 81%|████████▏ | 35/43 [00:04<00:00,  8.55it/s]"
     ]
    },
    {
     "name": "stdout",
     "output_type": "stream",
     "text": [
      "mean tensor([-0.0003,  0.0249, -0.0808, -0.0114, -0.0019, -0.0138,  0.0265])\n",
      "Average return: 0.6270355499594203\n",
      "DFE Rewards Mean: 0.6270355499594203\n",
      "DFE Rewards standard dev 0.25604096904769935\n",
      "Returns Mean: 1.3208612\n",
      "Returns standard dev 0.9872326\n",
      "Advantages Mean: 0.49415126\n",
      "Advantages standard dev 0.9872327\n",
      "Fidelity History: []\n",
      "SparsePauliOp(['II', 'IZ', 'YI', 'YZ'],\n",
      "              coeffs=[0.25+0.j, 0.25+0.j, 0.25+0.j, 0.25+0.j])\n"
     ]
    },
    {
     "name": "stderr",
     "output_type": "stream",
     "text": [
      " 84%|████████▎ | 36/43 [00:04<00:00,  8.64it/s]"
     ]
    },
    {
     "name": "stdout",
     "output_type": "stream",
     "text": [
      "mean tensor([ 7.8782e-04,  5.0930e-02, -8.2289e-02, -4.6649e-03, -2.6120e-05,\n",
      "        -2.1956e-02,  1.6876e-02])\n",
      "Average return: 0.6727159950283809\n",
      "DFE Rewards Mean: 0.6727159950283809\n",
      "DFE Rewards standard dev 0.2233997409231454\n",
      "Returns Mean: 1.5840625\n",
      "Returns standard dev 1.737335\n",
      "Advantages Mean: 0.56779355\n",
      "Advantages standard dev 1.737335\n",
      "Fidelity History: []\n",
      "SparsePauliOp(['II', 'IZ', 'ZI', 'ZZ'],\n",
      "              coeffs=[ 0.25+0.j,  0.25+0.j, -0.25+0.j, -0.25+0.j])\n"
     ]
    },
    {
     "name": "stderr",
     "output_type": "stream",
     "text": [
      " 86%|████████▌ | 37/43 [00:04<00:00,  8.77it/s]"
     ]
    },
    {
     "name": "stdout",
     "output_type": "stream",
     "text": [
      "mean tensor([-0.0016,  0.0231, -0.0665, -0.0069, -0.0047, -0.0110,  0.0200])\n",
      "Average return: 0.6600501526780984\n",
      "DFE Rewards Mean: 0.6600501526780984\n",
      "DFE Rewards standard dev 0.24781524217993822\n",
      "Returns Mean: 1.5899025\n",
      "Returns standard dev 1.7042781\n",
      "Advantages Mean: 0.48743743\n",
      "Advantages standard dev 1.7042782\n",
      "Fidelity History: []\n",
      "SparsePauliOp(['II', 'IZ', 'ZI', 'ZZ'],\n",
      "              coeffs=[ 0.25+0.j, -0.25+0.j, -0.25+0.j,  0.25+0.j])\n"
     ]
    },
    {
     "name": "stderr",
     "output_type": "stream",
     "text": [
      " 88%|████████▊ | 38/43 [00:04<00:00,  8.80it/s]"
     ]
    },
    {
     "name": "stdout",
     "output_type": "stream",
     "text": [
      "mean tensor([ 0.0050,  0.0565, -0.0712,  0.0010,  0.0131, -0.0111,  0.0103])\n",
      "Average return: 0.7948459626691454\n",
      "DFE Rewards Mean: 0.7948459626691454\n",
      "DFE Rewards standard dev 0.16858950593688637\n",
      "Returns Mean: 2.158783\n",
      "Returns standard dev 1.7894422\n",
      "Advantages Mean: 0.82487774\n",
      "Advantages standard dev 1.7894422\n",
      "Fidelity History: []\n",
      "SparsePauliOp(['II', 'IX', 'XI', 'XX'],\n",
      "              coeffs=[0.25+0.j, 0.25+0.j, 0.25+0.j, 0.25+0.j])\n"
     ]
    },
    {
     "name": "stderr",
     "output_type": "stream",
     "text": [
      " 91%|█████████ | 39/43 [00:04<00:00,  8.70it/s]"
     ]
    },
    {
     "name": "stdout",
     "output_type": "stream",
     "text": [
      "mean tensor([ 0.0142,  0.1178, -0.0780,  0.0218,  0.0266, -0.0195,  0.0014])\n",
      "Average return: 0.6430798021897363\n",
      "DFE Rewards Mean: 0.6430798021897363\n",
      "DFE Rewards standard dev 0.2712890281604358\n",
      "Returns Mean: 1.5651108\n",
      "Returns standard dev 1.732519\n",
      "Advantages Mean: -0.1127567\n",
      "Advantages standard dev 1.732519\n",
      "Fidelity History: []\n",
      "SparsePauliOp(['II', 'IZ', 'ZI', 'ZZ'],\n",
      "              coeffs=[ 0.25+0.j, -0.25+0.j,  0.25+0.j, -0.25+0.j])\n"
     ]
    },
    {
     "name": "stderr",
     "output_type": "stream",
     "text": [
      " 93%|█████████▎| 40/43 [00:04<00:00,  8.64it/s]"
     ]
    },
    {
     "name": "stdout",
     "output_type": "stream",
     "text": [
      "mean tensor([ 0.0038,  0.0721, -0.0710,  0.0061,  0.0119, -0.0098,  0.0091])\n",
      "Average return: 0.8028039526107523\n",
      "DFE Rewards Mean: 0.8028039526107523\n",
      "DFE Rewards standard dev 0.16684644381678043\n",
      "Returns Mean: 2.2658317\n",
      "Returns standard dev 2.0414073\n",
      "Advantages Mean: 0.8243318\n",
      "Advantages standard dev 2.0414073\n",
      "Fidelity History: []\n",
      "SparsePauliOp(['II', 'IZ', 'XI', 'XZ'],\n",
      "              coeffs=[ 0.25+0.j, -0.25+0.j,  0.25+0.j, -0.25+0.j])\n"
     ]
    },
    {
     "name": "stderr",
     "output_type": "stream",
     "text": [
      " 95%|█████████▌| 41/43 [00:04<00:00,  8.45it/s]"
     ]
    },
    {
     "name": "stdout",
     "output_type": "stream",
     "text": [
      "mean tensor([ 0.0016,  0.0842, -0.0834,  0.0078,  0.0158, -0.0017,  0.0087])\n",
      "Average return: 0.8591537215265783\n",
      "DFE Rewards Mean: 0.8591537215265783\n",
      "DFE Rewards standard dev 0.12781483643624447\n",
      "Returns Mean: 2.945434\n",
      "Returns standard dev 2.7289417\n",
      "Advantages Mean: 1.3173258\n",
      "Advantages standard dev 2.7289417\n",
      "Fidelity History: []\n",
      "SparsePauliOp(['II', 'XX', 'YZ', 'ZY'],\n",
      "              coeffs=[0.25+0.j, 0.25+0.j, 0.25+0.j, 0.25+0.j])\n"
     ]
    },
    {
     "name": "stderr",
     "output_type": "stream",
     "text": [
      " 98%|█████████▊| 42/43 [00:04<00:00,  8.48it/s]"
     ]
    },
    {
     "name": "stdout",
     "output_type": "stream",
     "text": [
      "mean tensor([ 0.0117,  0.1318, -0.0913,  0.0086,  0.0251, -0.0032,  0.0054])\n",
      "Average return: 0.6583723935025318\n",
      "DFE Rewards Mean: 0.6583723935025318\n",
      "DFE Rewards standard dev 0.2619562619242248\n",
      "Returns Mean: 1.4736181\n",
      "Returns standard dev 1.1431583\n",
      "Advantages Mean: -0.49954543\n",
      "Advantages standard dev 1.1431583\n",
      "Fidelity History: []\n",
      "SparsePauliOp(['II', 'XY', 'YX', 'ZZ'],\n",
      "              coeffs=[0.25+0.j, 0.25+0.j, 0.25+0.j, 0.25+0.j])\n"
     ]
    },
    {
     "name": "stderr",
     "output_type": "stream",
     "text": [
      "100%|██████████| 43/43 [00:05<00:00,  8.46it/s]\n",
      "[I 2023-12-22 16:33:36,619] Trial 0 finished with value: 0.8028039526107523 and parameters: {'N_UPDATES': 43, 'N_EPOCHS': 12, 'MINIBATCH_SIZE': 96, 'BATCHSIZE_MULTIPLIER': 5, 'LR': 0.00020217812911653925, 'GAMMA': 0.9973666424434683, 'GAE_LAMBDA': 0.9353074276604315, 'ENT_COEF': 0.000676622766506395, 'V_COEF': 0.6663364765117363, 'GRADIENT_CLIP': 0.6642762738760909, 'CLIP_VALUE_COEF': 0.14190218756485964, 'CLIP_RATIO': 0.10016907873814065}. Best is trial 0 with value: 0.8028039526107523.\n"
     ]
    },
    {
     "name": "stdout",
     "output_type": "stream",
     "text": [
      "mean tensor([ 0.0119,  0.1381, -0.1040,  0.0084,  0.0268, -0.0021,  0.0015])\n",
      "Average return: 0.7337056172041765\n",
      "DFE Rewards Mean: 0.7337056172041765\n",
      "DFE Rewards standard dev 0.22700195746952798\n",
      "Returns Mean: 1.8619848\n",
      "Returns standard dev 1.6238471\n",
      "Advantages Mean: -0.0061604204\n",
      "Advantages standard dev 1.6238471\n",
      "Fidelity History: []\n",
      "2023-12-22 16:33:36 INFO ---------------- FINISHED HPO ----------------\n",
      "2023-12-22 16:33:36 INFO HPO completed in 5.16 seconds.\n",
      "2023-12-22 16:33:36 INFO Best trial:\n",
      "2023-12-22 16:33:36 INFO -------------------------\n",
      "2023-12-22 16:33:36 INFO   Value: 0.8028039526107523\n",
      "2023-12-22 16:33:36 INFO   Parameters: \n",
      "2023-12-22 16:33:36 INFO     N_UPDATES: 43\n",
      "2023-12-22 16:33:36 INFO     N_EPOCHS: 12\n",
      "2023-12-22 16:33:36 INFO     MINIBATCH_SIZE: 96\n",
      "2023-12-22 16:33:36 INFO     BATCHSIZE_MULTIPLIER: 5\n",
      "2023-12-22 16:33:36 INFO     LR: 0.00020217812911653925\n",
      "2023-12-22 16:33:36 INFO     GAMMA: 0.9973666424434683\n",
      "2023-12-22 16:33:36 INFO     GAE_LAMBDA: 0.9353074276604315\n",
      "2023-12-22 16:33:36 INFO     ENT_COEF: 0.000676622766506395\n",
      "2023-12-22 16:33:36 INFO     V_COEF: 0.6663364765117363\n",
      "2023-12-22 16:33:36 INFO     GRADIENT_CLIP: 0.6642762738760909\n",
      "2023-12-22 16:33:36 INFO     CLIP_VALUE_COEF: 0.14190218756485964\n",
      "2023-12-22 16:33:36 INFO     CLIP_RATIO: 0.10016907873814065\n",
      "2023-12-22 16:33:36 INFO The best action vector is [ 0.0003142   0.21549994 -0.18557872  0.09089683  0.05724243 -0.01012673\n",
      "  0.00759249]\n",
      "2023-12-22 16:33:36 INFO Folder 'hpo_results' created.\n",
      "Best configuration saved to hpo_results/reward_0.802804.pickle\n"
     ]
    }
   ],
   "source": [
    "optimizer = HyperparameterOptimizer(gate_q_env_config, path_agent_config, save_results_path, log_progress=True, num_hpo_trials=1)\n",
    "optimizer.optimize_hyperparameters()"
   ]
  },
  {
   "cell_type": "code",
   "execution_count": 7,
   "metadata": {},
   "outputs": [
    {
     "data": {
      "text/plain": [
       "['N_UPDATES',\n",
       " 'N_EPOCHS',\n",
       " 'MINIBATCH_SIZE',\n",
       " 'BATCHSIZE_MULTIPLIER',\n",
       " 'LR',\n",
       " 'GAMMA',\n",
       " 'GAE_LAMBDA',\n",
       " 'ENT_COEF',\n",
       " 'V_COEF',\n",
       " 'GRADIENT_CLIP',\n",
       " 'CLIP_VALUE_COEF',\n",
       " 'CLIP_RATIO',\n",
       " 'BATCHSIZE']"
      ]
     },
     "execution_count": 7,
     "metadata": {},
     "output_type": "execute_result"
    }
   ],
   "source": [
    "optimizer.hyperparams"
   ]
  },
  {
   "cell_type": "code",
   "execution_count": 8,
   "metadata": {},
   "outputs": [
    {
     "data": {
      "text/plain": [
       "1"
      ]
     },
     "execution_count": 8,
     "metadata": {},
     "output_type": "execute_result"
    }
   ],
   "source": [
    "optimizer.num_hpo_trials"
   ]
  },
  {
   "cell_type": "code",
   "execution_count": 9,
   "metadata": {},
   "outputs": [
    {
     "data": {
      "text/plain": [
       "{'best_avg_return': 0.8028039526107523,\n",
       " 'best_hyperparams': {'N_UPDATES': 43,\n",
       "  'N_EPOCHS': 12,\n",
       "  'MINIBATCH_SIZE': 96,\n",
       "  'BATCHSIZE_MULTIPLIER': 5,\n",
       "  'LR': 0.00020217812911653925,\n",
       "  'GAMMA': 0.9973666424434683,\n",
       "  'GAE_LAMBDA': 0.9353074276604315,\n",
       "  'ENT_COEF': 0.000676622766506395,\n",
       "  'V_COEF': 0.6663364765117363,\n",
       "  'GRADIENT_CLIP': 0.6642762738760909,\n",
       "  'CLIP_VALUE_COEF': 0.14190218756485964,\n",
       "  'CLIP_RATIO': 0.10016907873814065}}"
      ]
     },
     "execution_count": 9,
     "metadata": {},
     "output_type": "execute_result"
    }
   ],
   "source": [
    "optimizer.best_hpo_configuration"
   ]
  }
 ],
 "metadata": {
  "kernelspec": {
   "display_name": "Python 3",
   "language": "python",
   "name": "python3"
  },
  "language_info": {
   "codemirror_mode": {
    "name": "ipython",
    "version": 3
   },
   "file_extension": ".py",
   "mimetype": "text/x-python",
   "name": "python",
   "nbconvert_exporter": "python",
   "pygments_lexer": "ipython3",
   "version": "3.9.6"
  },
  "orig_nbformat": 4
 },
 "nbformat": 4,
 "nbformat_minor": 2
}

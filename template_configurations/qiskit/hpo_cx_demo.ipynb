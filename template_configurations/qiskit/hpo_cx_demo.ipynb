{
 "cells": [
  {
   "attachments": {},
   "cell_type": "markdown",
   "metadata": {},
   "source": [
    "### CX Calibration with HPO under the new code architecture / workflow (DEC 2023)"
   ]
  },
  {
   "cell_type": "code",
   "execution_count": 1,
   "metadata": {},
   "outputs": [
    {
     "name": "stderr",
     "output_type": "stream",
     "text": [
      "/Users/lukasvoss/Library/Python/3.9/lib/python/site-packages/qiskit_dynamics/dispatch/backends/jax.py:34: UserWarning: The functionality in the perturbation module of Qiskit Dynamics requires a JAX version <= 0.4.6, due to a bug in JAX versions > 0.4.6. For versions 0.4.4, 0.4.5, and 0.4.6, using the perturbation module functionality requires setting os.environ['JAX_JIT_PJIT_API_MERGE'] = '0' before importing JAX or Dynamics.\n",
      "  warnings.warn(\n"
     ]
    },
    {
     "name": "stdout",
     "output_type": "stream",
     "text": [
      "Starting Rabi experiment for qubit 0...\n",
      "Rabi experiment for qubit 0 done.\n",
      "Starting Drag experiment for qubit 0...\n",
      "Drag experiments done for qubit 0 done.\n",
      "Starting Rabi experiment for qubit 1...\n",
      "Rabi experiment for qubit 1 done.\n",
      "Starting Drag experiment for qubit 1...\n"
     ]
    },
    {
     "name": "stderr",
     "output_type": "stream",
     "text": [
      "/Users/lukasvoss/Library/Python/3.9/lib/python/site-packages/lmfit/minimizer.py:810: RuntimeWarning: invalid value encountered in sqrt\n",
      "  par.stderr = np.sqrt(self.result.covar[ivar, ivar])\n",
      "/Users/lukasvoss/Library/Python/3.9/lib/python/site-packages/lmfit/minimizer.py:817: RuntimeWarning: invalid value encountered in sqrt\n",
      "  (par.stderr * np.sqrt(self.result.covar[jvar, jvar])))\n"
     ]
    },
    {
     "name": "stdout",
     "output_type": "stream",
     "text": [
      "Drag experiments done for qubit 1 done.\n",
      "All single qubit calibrations are done\n",
      "Updated Instruction Schedule Map <InstructionScheduleMap(1Q instructions:\n",
      "  q0: {'delay', 'tdg', 'reset', 'measure', 'z', 's', 't', 'rz', 'sdg', 'h', 'x', 'id', 'sx'}\n",
      "  q1: {'delay', 'tdg', 'reset', 'measure', 'z', 's', 't', 'rz', 'sdg', 'h', 'x', 'id', 'sx'}\n",
      "Multi qubit instructions:\n",
      "  (0, 1): {'cr45m', 'cr45p', 'ecr'}\n",
      "  (1, 0): {'cr45m', 'cr45p', 'ecr'}\n",
      ")>\n",
      "Starting Rabi experiment for qubit 0...\n",
      "Rabi experiment for qubit 0 done.\n",
      "Starting Drag experiment for qubit 0...\n",
      "Drag experiments done for qubit 0 done.\n",
      "Starting Rabi experiment for qubit 1...\n",
      "Rabi experiment for qubit 1 done.\n",
      "Starting Drag experiment for qubit 1...\n",
      "Drag experiments done for qubit 1 done.\n",
      "All single qubit calibrations are done\n",
      "Updated Instruction Schedule Map <InstructionScheduleMap(1Q instructions:\n",
      "  q0: {'delay', 'tdg', 'reset', 'measure', 'z', 's', 't', 'rz', 'sdg', 'h', 'x', 'id', 'sx'}\n",
      "  q1: {'delay', 'tdg', 'reset', 'measure', 'z', 's', 't', 'rz', 'sdg', 'h', 'x', 'id', 'sx'}\n",
      "Multi qubit instructions:\n",
      "  (0, 1): {'cr45m', 'cr45p', 'ecr'}\n",
      "  (1, 0): {'cr45m', 'cr45p', 'ecr'}\n",
      ")>\n"
     ]
    }
   ],
   "source": [
    "import sys\n",
    "import os\n",
    "os.environ[\"KMP_DUPLICATE_LIB_OK\"] = \"True\"\n",
    "import time\n",
    "import yaml\n",
    "import pickle\n",
    "import optuna\n",
    "module_path = os.path.abspath(os.path.join('/Users/lukasvoss/Documents/Master Wirtschaftsphysik/Masterarbeit Yale-NUS CQT/Quantum_Optimal_Control'))\n",
    "if module_path not in sys.path:\n",
    "    sys.path.append(module_path)\n",
    "\n",
    "from quantumenvironment import QuantumEnvironment\n",
    "from agent import Agent\n",
    "from gate_level_abstraction import gate_q_env_config\n",
    "from helper_functions import load_agent_from_yaml_file, create_agent_config\n",
    "from ppo import make_train_ppo\n",
    "from qconfig import QEnvConfig\n",
    "\n",
    "import logging\n",
    "logging.basicConfig(\n",
    "    level=logging.WARNING,\n",
    "    format=\"%(asctime)s INFO %(message)s\", # hardcoded INFO level\n",
    "    datefmt=\"%Y-%m-%d %H:%M:%S\",\n",
    "    stream=sys.stdout,\n",
    ")"
   ]
  },
  {
   "cell_type": "code",
   "execution_count": 2,
   "metadata": {},
   "outputs": [
    {
     "data": {
      "text/plain": [
       "{'register': [0, 1],\n",
       " 'gate': Instruction(name='cx', num_qubits=2, num_clbits=0, params=[])}"
      ]
     },
     "execution_count": 2,
     "metadata": {},
     "output_type": "execute_result"
    }
   ],
   "source": [
    "gate_q_env_config.target"
   ]
  },
  {
   "attachments": {},
   "cell_type": "markdown",
   "metadata": {},
   "source": [
    "### Perform HPO"
   ]
  },
  {
   "cell_type": "code",
   "execution_count": 3,
   "metadata": {},
   "outputs": [],
   "source": [
    "from hyperparameter_optimization import HyperparameterOptimizer"
   ]
  },
  {
   "cell_type": "code",
   "execution_count": 4,
   "metadata": {},
   "outputs": [],
   "source": [
    "path_agent_config = '/Users/lukasvoss/Documents/Master Wirtschaftsphysik/Masterarbeit Yale-NUS CQT/Quantum_Optimal_Control/template_configurations/agent_config.yaml'\n",
    "save_results_path = 'hpo_results'"
   ]
  },
  {
   "cell_type": "code",
   "execution_count": 5,
   "metadata": {},
   "outputs": [
    {
     "name": "stdout",
     "output_type": "stream",
     "text": [
      "SparsePauliOp(['II', 'XY', 'YX', 'ZZ'],\n",
      "              coeffs=[ 0.25+0.j,  0.25+0.j, -0.25+0.j, -0.25+0.j])\n",
      "2023-12-22 16:41:09 INFO num_HPO_trials: 1\n",
      "2023-12-22 16:41:09 INFO ---------------- STARTING HPO ----------------\n"
     ]
    },
    {
     "name": "stderr",
     "output_type": "stream",
     "text": [
      "[I 2023-12-22 16:41:09,270] A new study created in memory with name: no-name-e699ce32-5949-4df1-bc73-3825f88a543d\n"
     ]
    },
    {
     "name": "stdout",
     "output_type": "stream",
     "text": [
      "SparsePauliOp(['II', 'XX', 'YZ', 'ZY'],\n",
      "              coeffs=[0.25+0.j, 0.25+0.j, 0.25+0.j, 0.25+0.j])\n"
     ]
    },
    {
     "name": "stderr",
     "output_type": "stream",
     "text": [
      "  0%|          | 0/41 [00:00<?, ?it/s]"
     ]
    },
    {
     "name": "stdout",
     "output_type": "stream",
     "text": [
      "SparsePauliOp(['II', 'IZ', 'ZI', 'ZZ'],\n",
      "              coeffs=[ 0.25+0.j, -0.25+0.j,  0.25+0.j, -0.25+0.j])\n"
     ]
    },
    {
     "name": "stderr",
     "output_type": "stream",
     "text": [
      "  2%|▏         | 1/41 [00:00<00:05,  7.60it/s]"
     ]
    },
    {
     "name": "stdout",
     "output_type": "stream",
     "text": [
      "mean tensor([ 0.0247, -0.0340, -0.0213, -0.0533, -0.0879,  0.1159, -0.0196])\n",
      "Average return: 0.3339224082435516\n",
      "DFE Rewards Mean: 0.3339224082435516\n",
      "DFE Rewards standard dev 0.2820084946330522\n",
      "Returns Mean: 0.5646662\n",
      "Returns standard dev 0.6733907\n",
      "Advantages Mean: 0.4985531\n",
      "Advantages standard dev 0.67339075\n",
      "Fidelity History: []\n",
      "SparsePauliOp(['II', 'IZ', 'ZI', 'ZZ'],\n",
      "              coeffs=[ 0.25+0.j, -0.25+0.j, -0.25+0.j,  0.25+0.j])\n"
     ]
    },
    {
     "name": "stderr",
     "output_type": "stream",
     "text": [
      "  5%|▍         | 2/41 [00:00<00:04,  8.83it/s]"
     ]
    },
    {
     "name": "stdout",
     "output_type": "stream",
     "text": [
      "mean tensor([ 0.0014, -0.0245, -0.0110, -0.0491, -0.0911,  0.1005, -0.0240])\n",
      "Average return: 0.3602802976544238\n",
      "DFE Rewards Mean: 0.3602802976544238\n",
      "DFE Rewards standard dev 0.29454900857501504\n",
      "Returns Mean: 0.6682756\n",
      "Returns standard dev 0.9827856\n",
      "Advantages Mean: 0.43879142\n",
      "Advantages standard dev 0.9827856\n",
      "Fidelity History: []\n",
      "SparsePauliOp(['II', 'IZ', 'ZI', 'ZZ'],\n",
      "              coeffs=[ 0.25+0.j, -0.25+0.j, -0.25+0.j,  0.25+0.j])\n"
     ]
    },
    {
     "name": "stderr",
     "output_type": "stream",
     "text": [
      "  7%|▋         | 3/41 [00:00<00:04,  9.19it/s]"
     ]
    },
    {
     "name": "stdout",
     "output_type": "stream",
     "text": [
      "mean tensor([ 0.0161, -0.0265,  0.0014, -0.0603, -0.0738,  0.1049, -0.0450])\n",
      "Average return: 0.3855861596691957\n",
      "DFE Rewards Mean: 0.3855861596691957\n",
      "DFE Rewards standard dev 0.2887023807007702\n",
      "Returns Mean: 0.69132364\n",
      "Returns standard dev 0.9227202\n",
      "Advantages Mean: 0.2648955\n",
      "Advantages standard dev 0.9227202\n",
      "Fidelity History: []\n",
      "SparsePauliOp(['II', 'IX', 'XI', 'XX'],\n",
      "              coeffs=[0.25+0.j, 0.25+0.j, 0.25+0.j, 0.25+0.j])\n"
     ]
    },
    {
     "name": "stderr",
     "output_type": "stream",
     "text": [
      " 10%|▉         | 4/41 [00:00<00:04,  8.88it/s]"
     ]
    },
    {
     "name": "stdout",
     "output_type": "stream",
     "text": [
      "mean tensor([ 0.0650,  0.0109, -0.0047, -0.0424, -0.0620,  0.1495, -0.1089])\n",
      "Average return: 0.2524653036244355\n",
      "DFE Rewards Mean: 0.2524653036244355\n",
      "DFE Rewards standard dev 0.25254331449013545\n",
      "Returns Mean: 0.40366212\n",
      "Returns standard dev 0.60796106\n",
      "Advantages Mean: -0.524246\n",
      "Advantages standard dev 0.60796106\n",
      "Fidelity History: []\n",
      "SparsePauliOp(['II', 'XX', 'YY', 'ZZ'],\n",
      "              coeffs=[ 0.25+0.j,  0.25+0.j,  0.25+0.j, -0.25+0.j])\n"
     ]
    },
    {
     "name": "stderr",
     "output_type": "stream",
     "text": [
      " 15%|█▍        | 6/41 [00:00<00:03,  9.50it/s]"
     ]
    },
    {
     "name": "stdout",
     "output_type": "stream",
     "text": [
      "mean tensor([ 0.0527,  0.0165,  0.0083, -0.0553, -0.0336,  0.1239, -0.0955])\n",
      "Average return: 0.27463804435630323\n",
      "DFE Rewards Mean: 0.27463804435630323\n",
      "DFE Rewards standard dev 0.20418767352390899\n",
      "Returns Mean: 0.37853697\n",
      "Returns standard dev 0.37059927\n",
      "Advantages Mean: -0.29488504\n",
      "Advantages standard dev 0.37059927\n",
      "Fidelity History: []\n",
      "SparsePauliOp(['II', 'IZ', 'XI', 'XZ'],\n",
      "              coeffs=[0.25+0.j, 0.25+0.j, 0.25+0.j, 0.25+0.j])\n",
      "mean tensor([ 0.0022, -0.0116,  0.0265, -0.0152, -0.0992,  0.0994, -0.0395])\n",
      "Average return: 0.4209322434841534\n",
      "DFE Rewards Mean: 0.4209322434841534\n",
      "DFE Rewards standard dev 0.2883182605419291\n",
      "Returns Mean: 0.7999723\n",
      "Returns standard dev 1.1327727\n",
      "Advantages Mean: 0.48532778\n",
      "Advantages standard dev 1.1327727\n",
      "Fidelity History: []\n",
      "SparsePauliOp(['II', 'IZ', 'ZI', 'ZZ'],\n",
      "              coeffs=[ 0.25+0.j,  0.25+0.j, -0.25+0.j, -0.25+0.j])\n",
      "mean tensor([-0.0050,  0.0047,  0.0350, -0.0020, -0.0729,  0.0835, -0.0390])\n"
     ]
    },
    {
     "name": "stderr",
     "output_type": "stream",
     "text": [
      " 17%|█▋        | 7/41 [00:00<00:03,  9.56it/s]"
     ]
    },
    {
     "name": "stdout",
     "output_type": "stream",
     "text": [
      "Average return: 0.4117215232756327\n",
      "DFE Rewards Mean: 0.4117215232756327\n",
      "DFE Rewards standard dev 0.2873520185614401\n",
      "Returns Mean: 0.8291191\n",
      "Returns standard dev 1.4171667\n",
      "Advantages Mean: 0.3597991\n",
      "Advantages standard dev 1.4171666\n",
      "Fidelity History: []\n",
      "SparsePauliOp(['II', 'XX', 'YY', 'ZZ'],\n",
      "              coeffs=[ 0.25+0.j,  0.25+0.j, -0.25+0.j,  0.25+0.j])\n",
      "mean tensor([ 0.0398,  0.0219,  0.0516, -0.0076, -0.0613,  0.1081, -0.0742])\n",
      "Average return: 0.2638792405565292\n",
      "DFE Rewards Mean: 0.2638792405565292\n",
      "DFE Rewards standard dev 0.2044990698032077\n",
      "Returns Mean: 0.36393198\n",
      "Returns standard dev 0.37167045\n",
      "Advantages Mean: -0.51127356\n",
      "Advantages standard dev 0.37167045\n",
      "Fidelity History: []\n",
      "SparsePauliOp(['II', 'IZ', 'ZI', 'ZZ'],\n",
      "              coeffs=[ 0.25+0.j,  0.25+0.j, -0.25+0.j, -0.25+0.j])\n"
     ]
    },
    {
     "name": "stderr",
     "output_type": "stream",
     "text": [
      " 22%|██▏       | 9/41 [00:00<00:03,  9.91it/s]"
     ]
    },
    {
     "name": "stdout",
     "output_type": "stream",
     "text": [
      "mean tensor([-0.0037,  0.0208,  0.0444, -0.0031, -0.0460,  0.1155, -0.0287])\n",
      "Average return: 0.4361532028594158\n",
      "DFE Rewards Mean: 0.4361532028594158\n",
      "DFE Rewards standard dev 0.2906484975726572\n",
      "Returns Mean: 0.82856596\n",
      "Returns standard dev 1.0242088\n",
      "Advantages Mean: 0.28166384\n",
      "Advantages standard dev 1.0242087\n",
      "Fidelity History: []\n",
      "SparsePauliOp(['II', 'XX', 'YY', 'ZZ'],\n",
      "              coeffs=[ 0.25+0.j,  0.25+0.j,  0.25+0.j, -0.25+0.j])\n"
     ]
    },
    {
     "name": "stderr",
     "output_type": "stream",
     "text": [
      " 24%|██▍       | 10/41 [00:01<00:03,  9.89it/s]"
     ]
    },
    {
     "name": "stdout",
     "output_type": "stream",
     "text": [
      "mean tensor([ 0.0030,  0.0223,  0.0322,  0.0025, -0.0552,  0.1713, -0.0276])\n",
      "Average return: 0.2726550920359473\n",
      "DFE Rewards Mean: 0.2726550920359473\n",
      "DFE Rewards standard dev 0.2182292139910757\n",
      "Returns Mean: 0.38273585\n",
      "Returns standard dev 0.38383707\n",
      "Advantages Mean: -0.49630082\n",
      "Advantages standard dev 0.38383707\n",
      "Fidelity History: []\n",
      "SparsePauliOp(['II', 'IY', 'XI', 'XY'],\n",
      "              coeffs=[0.25+0.j, 0.25+0.j, 0.25+0.j, 0.25+0.j])\n"
     ]
    },
    {
     "name": "stderr",
     "output_type": "stream",
     "text": [
      " 27%|██▋       | 11/41 [00:01<00:03,  9.89it/s]"
     ]
    },
    {
     "name": "stdout",
     "output_type": "stream",
     "text": [
      "mean tensor([ 0.0193,  0.0361,  0.0395, -0.0206, -0.0707,  0.2072, -0.0564])\n",
      "Average return: 0.31290401431212916\n",
      "DFE Rewards Mean: 0.31290401431212916\n",
      "DFE Rewards standard dev 0.28129075326501507\n",
      "Returns Mean: 0.543127\n",
      "Returns standard dev 0.8645601\n",
      "Advantages Mean: -0.1318836\n",
      "Advantages standard dev 0.8645602\n",
      "Fidelity History: []\n",
      "SparsePauliOp(['II', 'IZ', 'ZI', 'ZZ'],\n",
      "              coeffs=[0.25+0.j, 0.25+0.j, 0.25+0.j, 0.25+0.j])\n",
      "mean tensor([-0.0078,  0.0272,  0.0327, -0.0016, -0.0537,  0.1440, -0.0090])\n",
      "Average return: 0.45912710331440765\n",
      "DFE Rewards Mean: 0.45912710331440765\n",
      "DFE Rewards standard dev 0.28050254264121427\n",
      "Returns Mean: 0.8546663\n",
      "Returns standard dev 0.97500587\n",
      "Advantages Mean: 0.3313674\n",
      "Advantages standard dev 0.97500587\n",
      "Fidelity History: []\n"
     ]
    },
    {
     "name": "stderr",
     "output_type": "stream",
     "text": [
      " 32%|███▏      | 13/41 [00:01<00:02, 10.18it/s]"
     ]
    },
    {
     "name": "stdout",
     "output_type": "stream",
     "text": [
      "SparsePauliOp(['II', 'IZ', 'ZI', 'ZZ'],\n",
      "              coeffs=[0.25+0.j, 0.25+0.j, 0.25+0.j, 0.25+0.j])\n",
      "mean tensor([ 0.0042,  0.0244,  0.0320, -0.0244, -0.0801,  0.1584, -0.0091])\n",
      "Average return: 0.46016097166847497\n",
      "DFE Rewards Mean: 0.46016097166847497\n",
      "DFE Rewards standard dev 0.2932400497101839\n",
      "Returns Mean: 0.9097718\n",
      "Returns standard dev 1.1216085\n",
      "Advantages Mean: 0.2159741\n",
      "Advantages standard dev 1.1216085\n",
      "Fidelity History: []\n",
      "SparsePauliOp(['II', 'IZ', 'YI', 'YZ'],\n",
      "              coeffs=[0.25+0.j, 0.25+0.j, 0.25+0.j, 0.25+0.j])\n",
      "mean tensor([ 0.0115,  0.0243,  0.0506, -0.0390, -0.0728,  0.1710, -0.0056])\n",
      "Average return: 0.4874513319884176\n",
      "DFE Rewards Mean: 0.4874513319884176\n",
      "DFE Rewards standard dev 0.2713924776928725\n",
      "Returns Mean: 0.91289306\n",
      "Returns standard dev 0.8894902\n",
      "Advantages Mean: 0.065156065\n",
      "Advantages standard dev 0.8894902\n",
      "Fidelity History: []\n",
      "SparsePauliOp(['II', 'IZ', 'ZI', 'ZZ'],\n",
      "              coeffs=[ 0.25+0.j, -0.25+0.j,  0.25+0.j, -0.25+0.j])\n"
     ]
    },
    {
     "name": "stderr",
     "output_type": "stream",
     "text": [
      " 37%|███▋      | 15/41 [00:01<00:02, 10.13it/s]"
     ]
    },
    {
     "name": "stdout",
     "output_type": "stream",
     "text": [
      "mean tensor([ 0.0133,  0.0110,  0.0666, -0.0240, -0.0883,  0.1566,  0.0216])\n",
      "Average return: 0.5076138349365723\n",
      "DFE Rewards Mean: 0.5076138349365723\n",
      "DFE Rewards standard dev 0.29858357428907656\n",
      "Returns Mean: 1.1183946\n",
      "Returns standard dev 1.5091647\n",
      "Advantages Mean: 0.21521372\n",
      "Advantages standard dev 1.5091647\n",
      "Fidelity History: []\n",
      "SparsePauliOp(['II', 'XY', 'YZ', 'ZX'],\n",
      "              coeffs=[ 0.25+0.j,  0.25+0.j,  0.25+0.j, -0.25+0.j])\n",
      "mean tensor([ 0.0483, -0.0097,  0.0517, -0.0237, -0.0847,  0.1766,  0.0098])\n",
      "Average return: 0.27554105658220723\n",
      "DFE Rewards Mean: 0.27554105658220723\n",
      "DFE Rewards standard dev 0.2298478271224465\n",
      "Returns Mean: 0.42850107\n",
      "Returns standard dev 0.7702776\n",
      "Advantages Mean: -0.7463306\n",
      "Advantages standard dev 0.7702777\n",
      "Fidelity History: []\n",
      "SparsePauliOp(['II', 'XX', 'YY', 'ZZ'],\n",
      "              coeffs=[ 0.25+0.j,  0.25+0.j, -0.25+0.j,  0.25+0.j])\n"
     ]
    },
    {
     "name": "stderr",
     "output_type": "stream",
     "text": [
      " 41%|████▏     | 17/41 [00:01<00:02, 10.02it/s]"
     ]
    },
    {
     "name": "stdout",
     "output_type": "stream",
     "text": [
      "mean tensor([ 0.0133, -0.0195,  0.0452, -0.0029, -0.0889,  0.1192,  0.0146])\n",
      "Average return: 0.29148729541757207\n",
      "DFE Rewards Mean: 0.29148729541757207\n",
      "DFE Rewards standard dev 0.22925144009536813\n",
      "Returns Mean: 0.44495815\n",
      "Returns standard dev 0.7398499\n",
      "Advantages Mean: -0.4761432\n",
      "Advantages standard dev 0.7398499\n",
      "Fidelity History: []\n",
      "SparsePauliOp(['II', 'XY', 'YZ', 'ZX'],\n",
      "              coeffs=[ 0.25+0.j,  0.25+0.j,  0.25+0.j, -0.25+0.j])\n",
      "mean tensor([ 0.0088, -0.0605,  0.0523,  0.0108, -0.0889,  0.1394,  0.0016])\n",
      "Average return: 0.2985987739503843\n",
      "DFE Rewards Mean: 0.2985987739503843\n",
      "DFE Rewards standard dev 0.22071919992157918\n",
      "Returns Mean: 0.42363575\n",
      "Returns standard dev 0.39867198\n",
      "Advantages Mean: -0.30116928\n",
      "Advantages standard dev 0.39867198\n",
      "Fidelity History: []\n",
      "SparsePauliOp(['II', 'IZ', 'ZI', 'ZZ'],\n",
      "              coeffs=[0.25+0.j, 0.25+0.j, 0.25+0.j, 0.25+0.j])\n",
      "mean tensor([-0.0222, -0.0441,  0.0561, -0.0043, -0.0973,  0.0906, -0.0023])\n",
      "Average return: 0.5195697533273482\n",
      "DFE Rewards Mean: 0.5195697533273482\n",
      "DFE Rewards standard dev 0.2958382688999473\n",
      "Returns Mean: 1.1197135\n",
      "Returns standard dev 1.3956435\n",
      "Advantages Mean: 0.5508451\n",
      "Advantages standard dev 1.3956435\n"
     ]
    },
    {
     "name": "stderr",
     "output_type": "stream",
     "text": [
      " 46%|████▋     | 19/41 [00:01<00:02, 10.02it/s]"
     ]
    },
    {
     "name": "stdout",
     "output_type": "stream",
     "text": [
      "Fidelity History: []\n",
      "SparsePauliOp(['II', 'IZ', 'XI', 'XZ'],\n",
      "              coeffs=[0.25+0.j, 0.25+0.j, 0.25+0.j, 0.25+0.j])\n",
      "mean tensor([-0.0156, -0.0557,  0.0523,  0.0026, -0.0756,  0.0807, -0.0011])\n",
      "Average return: 0.591941916388977\n",
      "DFE Rewards Mean: 0.591941916388977\n",
      "DFE Rewards standard dev 0.2741715734560321\n",
      "Returns Mean: 1.2710576\n",
      "Returns standard dev 1.1778587\n",
      "Advantages Mean: 0.51560605\n",
      "Advantages standard dev 1.1778587\n",
      "Fidelity History: []\n",
      "SparsePauliOp(['II', 'IZ', 'ZI', 'ZZ'],\n",
      "              coeffs=[ 0.25+0.j, -0.25+0.j, -0.25+0.j,  0.25+0.j])\n",
      "mean tensor([-0.0161, -0.0638,  0.0262,  0.0160, -0.0711,  0.0623, -0.0166])\n",
      "Average return: 0.5771595084983969\n",
      "DFE Rewards Mean: 0.5771595084983969\n",
      "DFE Rewards standard dev 0.28699173843581116\n",
      "Returns Mean: 1.3947597\n",
      "Returns standard dev 1.9024173\n",
      "Advantages Mean: 0.43726888\n",
      "Advantages standard dev 1.9024171\n",
      "Fidelity History:"
     ]
    },
    {
     "name": "stderr",
     "output_type": "stream",
     "text": [
      " 54%|█████▎    | 22/41 [00:02<00:01,  9.95it/s]"
     ]
    },
    {
     "name": "stdout",
     "output_type": "stream",
     "text": [
      " []\n",
      "SparsePauliOp(['II', 'XY', 'YZ', 'ZX'],\n",
      "              coeffs=[ 0.25+0.j,  0.25+0.j,  0.25+0.j, -0.25+0.j])\n",
      "mean tensor([ 0.0003, -0.0852,  0.0355,  0.0133, -0.0414,  0.0667, -0.0059])\n",
      "Average return: 0.33190051847810254\n",
      "DFE Rewards Mean: 0.33190051847810254\n",
      "DFE Rewards standard dev 0.2522950386745914\n",
      "Returns Mean: 0.51570326\n",
      "Returns standard dev 0.53994846\n",
      "Advantages Mean: -0.7283405\n",
      "Advantages standard dev 0.53994846\n",
      "Fidelity History: []\n",
      "SparsePauliOp(['II', 'XX', 'YZ', 'ZY'],\n",
      "              coeffs=[0.25+0.j, 0.25+0.j, 0.25+0.j, 0.25+0.j])\n"
     ]
    },
    {
     "name": "stderr",
     "output_type": "stream",
     "text": [
      " 59%|█████▊    | 24/41 [00:02<00:01,  9.89it/s]"
     ]
    },
    {
     "name": "stdout",
     "output_type": "stream",
     "text": [
      "mean tensor([-0.0109, -0.0775,  0.0422,  0.0158, -0.0558,  0.0278, -0.0002])\n",
      "Average return: 0.3891474994194509\n",
      "DFE Rewards Mean: 0.3891474994194509\n",
      "DFE Rewards standard dev 0.25714357523539805\n",
      "Returns Mean: 0.62113875\n",
      "Returns standard dev 0.56538945\n",
      "Advantages Mean: -0.3808325\n",
      "Advantages standard dev 0.56538945\n",
      "Fidelity History: []\n",
      "SparsePauliOp(['II', 'XY', 'YZ', 'ZX'],\n",
      "              coeffs=[ 0.25+0.j,  0.25+0.j,  0.25+0.j, -0.25+0.j])\n",
      "mean tensor([-0.0093, -0.0973,  0.0510,  0.0131, -0.0700,  0.0165, -0.0007])\n",
      "Average return: 0.4416994688470218\n",
      "DFE Rewards Mean: 0.4416994688470218\n",
      "DFE Rewards standard dev 0.26057048362032775\n",
      "Returns Mean: 0.7325058\n",
      "Returns standard dev 0.6072578\n",
      "Advantages Mean: 0.0034745217\n",
      "Advantages standard dev 0.6072578\n",
      "Fidelity History: []\n",
      "SparsePauliOp(['II', 'IZ', 'ZI', 'ZZ'],\n",
      "              coeffs=[ 0.25+0.j, -0.25+0.j, -0.25+0.j,  0.25+0.j])\n"
     ]
    },
    {
     "name": "stderr",
     "output_type": "stream",
     "text": [
      " 66%|██████▌   | 27/41 [00:02<00:01, 10.10it/s]"
     ]
    },
    {
     "name": "stdout",
     "output_type": "stream",
     "text": [
      "mean tensor([-0.0429, -0.0426,  0.0542,  0.0324, -0.0693,  0.0238,  0.0098])\n",
      "Average return: 0.6641562552308105\n",
      "DFE Rewards Mean: 0.6641562552308105\n",
      "DFE Rewards standard dev 0.2513513555232911\n",
      "Returns Mean: 1.6446253\n",
      "Returns standard dev 1.8172297\n",
      "Advantages Mean: 0.8947687\n",
      "Advantages standard dev 1.8172297\n",
      "Fidelity History: []\n",
      "SparsePauliOp(['II', 'IZ', 'XI', 'XZ'],\n",
      "              coeffs=[0.25+0.j, 0.25+0.j, 0.25+0.j, 0.25+0.j])\n",
      "mean tensor([-0.0429, -0.0404,  0.0843,  0.0476, -0.0463,  0.0286,  0.0259])\n",
      "Average return: 0.7282517229311736\n",
      "DFE Rewards Mean: 0.7282517229311736\n",
      "DFE Rewards standard dev 0.21238632918853886\n",
      "Returns Mean: 1.8472517\n",
      "Returns standard dev 1.7851492\n",
      "Advantages Mean: 0.88079286\n",
      "Advantages standard dev 1.7851492\n",
      "Fidelity History: []\n",
      "SparsePauliOp(['II', 'XY', 'YX', 'ZZ'],\n",
      "              coeffs=[0.25+0.j, 0.25+0.j, 0.25+0.j, 0.25+0.j])\n",
      "mean tensor([-0.0104, -0.0513,  0.1105,  0.0370,  0.0135,  0.0426,  0.0256])\n",
      "Average return: 0.46015844828361174\n",
      "DFE Rewards Mean: 0.46015844828361174\n",
      "DFE Rewards standard dev 0.2762618698618317\n",
      "Returns Mean: 0.8041426\n",
      "Returns standard dev 0.6950841\n",
      "Advantages Mean: -0.40978113\n",
      "Advantages standard dev 0.6950841\n",
      "Fidelity History: []\n",
      "SparsePauliOp(['II', 'IZ', 'ZI', 'ZZ'],\n",
      "              coeffs=[ 0.25+0.j, -0.25+0.j,  0.25+0.j, -0.25+0.j])\n"
     ]
    },
    {
     "name": "stderr",
     "output_type": "stream",
     "text": [
      " 71%|███████   | 29/41 [00:02<00:01, 10.30it/s]"
     ]
    },
    {
     "name": "stdout",
     "output_type": "stream",
     "text": [
      "mean tensor([-0.0359, -0.0421,  0.0801,  0.0610,  0.0218,  0.0388,  0.0319])\n",
      "Average return: 0.7231254505071578\n",
      "DFE Rewards Mean: 0.7231254505071578\n",
      "DFE Rewards standard dev 0.22653233709468862\n",
      "Returns Mean: 1.8635682\n",
      "Returns standard dev 1.7932072\n",
      "Advantages Mean: 0.811536\n",
      "Advantages standard dev 1.7932072\n",
      "Fidelity History: []\n",
      "SparsePauliOp(['II', 'XY', 'YX', 'ZZ'],\n",
      "              coeffs=[0.25+0.j, 0.25+0.j, 0.25+0.j, 0.25+0.j])\n",
      "mean tensor([-0.0065, -0.0445,  0.0728,  0.0837,  0.0110,  0.0497,  0.0607])\n",
      "Average return: 0.5396874183745642\n",
      "DFE Rewards Mean: 0.5396874183745642\n",
      "DFE Rewards standard dev 0.2686569355647852\n",
      "Returns Mean: 1.0041006\n",
      "Returns standard dev 0.7587148\n",
      "Advantages Mean: -0.26367408\n",
      "Advantages standard dev 0.7587148\n",
      "Fidelity History: []\n",
      "SparsePauliOp(['II', 'IY', 'XI', 'XY'],\n",
      "              coeffs=[0.25+0.j, 0.25+0.j, 0.25+0.j, 0.25+0.j])\n",
      "mean tensor([-0.0147, -0.0681,  0.0933,  0.0592,  0.0043,  0.0692,  0.0646])\n",
      "Average return: 0.6292848695325148\n",
      "DFE Rewards Mean: 0.6292848695325148\n",
      "DFE Rewards standard dev 0.27701624951288195\n",
      "Returns Mean: 1.4130744\n",
      "Returns standard dev 1.3040241\n",
      "Advantages Mean: 0.3450487\n",
      "Advantages standard dev 1.3040241\n",
      "Fidelity History: []\n",
      "SparsePauliOp(['II', 'XY', 'YX', 'ZZ'],\n",
      "              coeffs=[0.25+0.j, 0.25+0.j, 0.25+0.j, 0.25+0.j])\n"
     ]
    },
    {
     "name": "stderr",
     "output_type": "stream",
     "text": [
      " 80%|████████  | 33/41 [00:03<00:00, 10.30it/s]"
     ]
    },
    {
     "name": "stdout",
     "output_type": "stream",
     "text": [
      "mean tensor([-0.0178, -0.0898,  0.0810,  0.0610, -0.0055,  0.0590,  0.0679])\n",
      "Average return: 0.6032268054238098\n",
      "DFE Rewards Mean: 0.6032268054238098\n",
      "DFE Rewards standard dev 0.24655420643506398\n",
      "Returns Mean: 1.228685\n",
      "Returns standard dev 1.1588945\n",
      "Advantages Mean: 0.023152461\n",
      "Advantages standard dev 1.1588945\n",
      "Fidelity History: []\n",
      "SparsePauliOp(['II', 'IZ', 'ZI', 'ZZ'],\n",
      "              coeffs=[ 0.25+0.j, -0.25+0.j, -0.25+0.j,  0.25+0.j])\n",
      "mean tensor([-0.0305, -0.0557,  0.0745,  0.0497, -0.0132,  0.0260,  0.0266])\n",
      "Average return: 0.8192968623728628\n",
      "DFE Rewards Mean: 0.8192968623728628\n",
      "DFE Rewards standard dev 0.15576607863080136\n",
      "Returns Mean: 2.3489258\n",
      "Returns standard dev 1.9294285\n",
      "Advantages Mean: 1.1288345\n",
      "Advantages standard dev 1.9294285\n",
      "Fidelity History: []\n",
      "SparsePauliOp(['II', 'IZ', 'YI', 'YZ'],\n",
      "              coeffs=[0.25+0.j, 0.25+0.j, 0.25+0.j, 0.25+0.j])\n",
      "mean tensor([-0.0152, -0.0580,  0.0534,  0.0500, -0.0080,  0.0275,  0.0364])\n",
      "Average return: 0.8095557154977432\n",
      "DFE Rewards Mean: 0.8095557154977432\n",
      "DFE Rewards standard dev 0.14708012739908569\n",
      "Returns Mean: 2.1403894\n",
      "Returns standard dev 1.5466521\n",
      "Advantages Mean: 0.7052757\n",
      "Advantages standard dev 1.5466521\n",
      "Fidelity History: []\n",
      "SparsePauliOp(['II', 'IZ', 'XI', 'XZ'],\n",
      "              coeffs=[0.25+0.j, 0.25+0.j, 0.25+0.j, 0.25+0.j])\n"
     ]
    },
    {
     "name": "stderr",
     "output_type": "stream",
     "text": [
      " 85%|████████▌ | 35/41 [00:03<00:00, 10.19it/s]"
     ]
    },
    {
     "name": "stdout",
     "output_type": "stream",
     "text": [
      "mean tensor([-0.0175, -0.0521,  0.0548,  0.0409,  0.0008,  0.0076,  0.0234])\n",
      "Average return: 0.8965599802734157\n",
      "DFE Rewards Mean: 0.8965599802734157\n",
      "DFE Rewards standard dev 0.08901552195752253\n",
      "Returns Mean: 3.1307304\n",
      "Returns standard dev 2.5322015\n",
      "Advantages Mean: 1.4637333\n",
      "Advantages standard dev 2.5322015\n",
      "Fidelity History: []\n",
      "SparsePauliOp(['II', 'IX', 'XI', 'XX'],\n",
      "              coeffs=[0.25+0.j, 0.25+0.j, 0.25+0.j, 0.25+0.j])\n",
      "mean tensor([ 0.0225, -0.0798,  0.0613,  0.0650,  0.0215, -0.0050, -0.0064])\n",
      "Average return: 0.8044381662642647\n",
      "DFE Rewards Mean: 0.8044381662642647\n",
      "DFE Rewards standard dev 0.20415453368402267\n",
      "Returns Mean: 2.644345\n",
      "Returns standard dev 2.5238638\n",
      "Advantages Mean: 0.73219174\n",
      "Advantages standard dev 2.5238638\n",
      "Fidelity History: []\n",
      "SparsePauliOp(['II', 'IZ', 'ZI', 'ZZ'],\n",
      "              coeffs=[ 0.25+0.j,  0.25+0.j, -0.25+0.j, -0.25+0.j])\n",
      "mean tensor([-0.0198, -0.0619,  0.0568,  0.0964,  0.0344,  0.0094, -0.0173])\n",
      "Average return: 0.8517239167530126\n",
      "DFE Rewards Mean: 0.8517239167530126\n",
      "DFE Rewards standard dev 0.1545795537941167\n",
      "Returns Mean: 2.757406\n",
      "Returns standard dev 2.232437\n",
      "Advantages Mean: 0.7686821\n",
      "Advantages standard dev 2.232437\n",
      "Fidelity History: []\n",
      "SparsePauliOp(['II', 'XY', 'YZ', 'ZX'],\n",
      "              coeffs=[ 0.25+0.j,  0.25+0.j,  0.25+0.j, -0.25+0.j])\n"
     ]
    },
    {
     "name": "stderr",
     "output_type": "stream",
     "text": [
      " 95%|█████████▌| 39/41 [00:03<00:00, 10.32it/s]"
     ]
    },
    {
     "name": "stdout",
     "output_type": "stream",
     "text": [
      "mean tensor([ 0.0340, -0.1205,  0.0675,  0.0746,  0.0357,  0.0004, -0.0500])\n",
      "Average return: 0.8592462341786888\n",
      "DFE Rewards Mean: 0.8592462341786888\n",
      "DFE Rewards standard dev 0.12058967184679621\n",
      "Returns Mean: 2.624636\n",
      "Returns standard dev 2.0748253\n",
      "Advantages Mean: 0.2185318\n",
      "Advantages standard dev 2.0748253\n",
      "Fidelity History: []\n",
      "SparsePauliOp(['II', 'IZ', 'ZI', 'ZZ'],\n",
      "              coeffs=[0.25+0.j, 0.25+0.j, 0.25+0.j, 0.25+0.j])\n",
      "mean tensor([ 0.0121, -0.0726,  0.0542,  0.0559,  0.0344, -0.0128, -0.0204])\n",
      "Average return: 0.919771507547959\n",
      "DFE Rewards Mean: 0.919771507547959\n",
      "DFE Rewards standard dev 0.08371806696945931\n",
      "Returns Mean: 3.4585795\n",
      "Returns standard dev 2.4844203\n",
      "Advantages Mean: 1.186446\n",
      "Advantages standard dev 2.48442\n",
      "Fidelity History: []\n",
      "SparsePauliOp(['II', 'IZ', 'XI', 'XZ'],\n",
      "              coeffs=[0.25+0.j, 0.25+0.j, 0.25+0.j, 0.25+0.j])\n",
      "mean tensor([ 0.0161, -0.0548,  0.0747,  0.0179,  0.0162, -0.0195, -0.0305])\n",
      "Average return: 0.9705688684334822\n",
      "DFE Rewards Mean: 0.9705688684334822\n",
      "DFE Rewards standard dev 0.03425529068705517\n",
      "Returns Mean: 5.2650533\n",
      "Returns standard dev 3.6434047\n",
      "Advantages Mean: 2.6926641\n",
      "Advantages standard dev 3.6434047\n",
      "Fidelity History: []\n",
      "SparsePauliOp(['II', 'IZ', 'XI', 'XZ'],\n",
      "              coeffs=[ 0.25+0.j, -0.25+0.j,  0.25+0.j, -0.25+0.j])\n"
     ]
    },
    {
     "name": "stderr",
     "output_type": "stream",
     "text": [
      "100%|██████████| 41/41 [00:04<00:00, 10.01it/s]\n",
      "[I 2023-12-22 16:41:13,446] Trial 0 finished with value: 0.919771507547959 and parameters: {'N_UPDATES': 41, 'N_EPOCHS': 8, 'MINIBATCH_SIZE': 96, 'BATCHSIZE_MULTIPLIER': 5, 'LR': 0.004328386484390127, 'GAMMA': 0.982912259126364, 'GAE_LAMBDA': 0.9509902702390876, 'ENT_COEF': 0.0005003431067605046, 'V_COEF': 0.37482712101861676, 'GRADIENT_CLIP': 0.3118868436386038, 'CLIP_VALUE_COEF': 0.18832393522435506, 'CLIP_RATIO': 0.11896196318308204}. Best is trial 0 with value: 0.919771507547959.\n"
     ]
    },
    {
     "name": "stdout",
     "output_type": "stream",
     "text": [
      "mean tensor([ 0.0221, -0.0907,  0.0814,  0.0091,  0.0283, -0.0079, -0.0325])\n",
      "Average return: 0.9840382269285838\n",
      "DFE Rewards Mean: 0.9840382269285838\n",
      "DFE Rewards standard dev 0.02022401408049091\n",
      "Returns Mean: 6.1708503\n",
      "Returns standard dev 3.892446\n",
      "Advantages Mean: 3.0529683\n",
      "Advantages standard dev 3.8924463\n",
      "Fidelity History: []\n",
      "SparsePauliOp(['II', 'IX', 'XI', 'XX'],\n",
      "              coeffs=[0.25+0.j, 0.25+0.j, 0.25+0.j, 0.25+0.j])\n",
      "mean tensor([ 0.0313, -0.1003,  0.0890,  0.0042,  0.0279, -0.0144, -0.0613])\n",
      "Average return: 0.937077008492953\n",
      "DFE Rewards Mean: 0.937077008492953\n",
      "DFE Rewards standard dev 0.07634692418079787\n",
      "Returns Mean: 4.382648\n",
      "Returns standard dev 3.418599\n",
      "Advantages Mean: 0.71017724\n",
      "Advantages standard dev 3.4185987\n",
      "Fidelity History: []\n",
      "2023-12-22 16:41:13 INFO ---------------- FINISHED HPO ----------------\n",
      "2023-12-22 16:41:13 INFO HPO completed in 4.18 seconds.\n",
      "2023-12-22 16:41:13 INFO Best trial:\n",
      "2023-12-22 16:41:13 INFO -------------------------\n",
      "2023-12-22 16:41:13 INFO   Value: 0.919771507547959\n",
      "2023-12-22 16:41:13 INFO   Parameters: \n",
      "2023-12-22 16:41:13 INFO     N_UPDATES: 41\n",
      "2023-12-22 16:41:13 INFO     N_EPOCHS: 8\n",
      "2023-12-22 16:41:13 INFO     MINIBATCH_SIZE: 96\n",
      "2023-12-22 16:41:13 INFO     BATCHSIZE_MULTIPLIER: 5\n",
      "2023-12-22 16:41:13 INFO     LR: 0.004328386484390127\n",
      "2023-12-22 16:41:13 INFO     GAMMA: 0.982912259126364\n",
      "2023-12-22 16:41:13 INFO     GAE_LAMBDA: 0.9509902702390876\n",
      "2023-12-22 16:41:13 INFO     ENT_COEF: 0.0005003431067605046\n",
      "2023-12-22 16:41:13 INFO     V_COEF: 0.37482712101861676\n",
      "2023-12-22 16:41:13 INFO     GRADIENT_CLIP: 0.3118868436386038\n",
      "2023-12-22 16:41:13 INFO     CLIP_VALUE_COEF: 0.18832393522435506\n",
      "2023-12-22 16:41:13 INFO     CLIP_RATIO: 0.11896196318308204\n",
      "2023-12-22 16:41:13 INFO The best action vector is [ 0.07306324 -0.27400857  0.27175438  0.01246825  0.09236118 -0.01602607\n",
      " -0.09216552]\n",
      "Best configuration saved to hpo_results/reward_0.919772.pickle\n"
     ]
    }
   ],
   "source": [
    "optimizer = HyperparameterOptimizer(gate_q_env_config, path_agent_config, save_results_path, log_progress=True, num_hpo_trials=1)\n",
    "optimizer.optimize_hyperparameters()"
   ]
  },
  {
   "cell_type": "code",
   "execution_count": 10,
   "metadata": {},
   "outputs": [
    {
     "data": {
      "text/plain": [
       "{'target_gate': Instruction(name='cx', num_qubits=2, num_clbits=0, params=[]),\n",
       " 'target_register': [0, 1]}"
      ]
     },
     "execution_count": 10,
     "metadata": {},
     "output_type": "execute_result"
    }
   ],
   "source": [
    "optimizer.target_gate"
   ]
  },
  {
   "cell_type": "code",
   "execution_count": 6,
   "metadata": {},
   "outputs": [
    {
     "data": {
      "text/plain": [
       "['N_UPDATES',\n",
       " 'N_EPOCHS',\n",
       " 'MINIBATCH_SIZE',\n",
       " 'BATCHSIZE_MULTIPLIER',\n",
       " 'LR',\n",
       " 'GAMMA',\n",
       " 'GAE_LAMBDA',\n",
       " 'ENT_COEF',\n",
       " 'V_COEF',\n",
       " 'GRADIENT_CLIP',\n",
       " 'CLIP_VALUE_COEF',\n",
       " 'CLIP_RATIO',\n",
       " 'BATCHSIZE']"
      ]
     },
     "execution_count": 6,
     "metadata": {},
     "output_type": "execute_result"
    }
   ],
   "source": [
    "optimizer.hyperparams"
   ]
  },
  {
   "cell_type": "code",
   "execution_count": 7,
   "metadata": {},
   "outputs": [
    {
     "data": {
      "text/plain": [
       "1"
      ]
     },
     "execution_count": 7,
     "metadata": {},
     "output_type": "execute_result"
    }
   ],
   "source": [
    "optimizer.num_hpo_trials"
   ]
  },
  {
   "cell_type": "code",
   "execution_count": 8,
   "metadata": {},
   "outputs": [
    {
     "data": {
      "text/plain": [
       "{'best_avg_return': 0.919771507547959,\n",
       " 'best_hyperparams': {'N_UPDATES': 41,\n",
       "  'N_EPOCHS': 8,\n",
       "  'MINIBATCH_SIZE': 96,\n",
       "  'BATCHSIZE_MULTIPLIER': 5,\n",
       "  'LR': 0.004328386484390127,\n",
       "  'GAMMA': 0.982912259126364,\n",
       "  'GAE_LAMBDA': 0.9509902702390876,\n",
       "  'ENT_COEF': 0.0005003431067605046,\n",
       "  'V_COEF': 0.37482712101861676,\n",
       "  'GRADIENT_CLIP': 0.3118868436386038,\n",
       "  'CLIP_VALUE_COEF': 0.18832393522435506,\n",
       "  'CLIP_RATIO': 0.11896196318308204}}"
      ]
     },
     "execution_count": 8,
     "metadata": {},
     "output_type": "execute_result"
    }
   ],
   "source": [
    "optimizer.best_hpo_configuration"
   ]
  }
 ],
 "metadata": {
  "kernelspec": {
   "display_name": "Python 3",
   "language": "python",
   "name": "python3"
  },
  "language_info": {
   "codemirror_mode": {
    "name": "ipython",
    "version": 3
   },
   "file_extension": ".py",
   "mimetype": "text/x-python",
   "name": "python",
   "nbconvert_exporter": "python",
   "pygments_lexer": "ipython3",
   "version": "3.9.6"
  },
  "orig_nbformat": 4
 },
 "nbformat": 4,
 "nbformat_minor": 2
}

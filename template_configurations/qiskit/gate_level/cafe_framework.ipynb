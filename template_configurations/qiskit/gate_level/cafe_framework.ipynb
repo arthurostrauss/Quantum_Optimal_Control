{
 "cells": [
  {
   "cell_type": "markdown",
   "metadata": {},
   "source": [
    "# CAFE: Context-Aware Fidelity Estimation Framework (by Google)"
   ]
  },
  {
   "cell_type": "code",
   "execution_count": 1,
   "metadata": {},
   "outputs": [
    {
     "name": "stderr",
     "output_type": "stream",
     "text": [
      "/Users/lukasvoss/Documents/Master Wirtschaftsphysik/Masterarbeit Yale-NUS CQT/Quantum_Optimal_Control/venv_qiskit10/lib/python3.11/site-packages/tqdm/auto.py:21: TqdmWarning: IProgress not found. Please update jupyter and ipywidgets. See https://ipywidgets.readthedocs.io/en/stable/user_install.html\n",
      "  from .autonotebook import tqdm as notebook_tqdm\n"
     ]
    },
    {
     "name": "stdout",
     "output_type": "stream",
     "text": [
      "Circuit context\n",
      "Circuit context\n"
     ]
    },
    {
     "name": "stderr",
     "output_type": "stream",
     "text": [
      "/Users/lukasvoss/Documents/Master Wirtschaftsphysik/Masterarbeit Yale-NUS CQT/Quantum_Optimal_Control/template_configurations/qiskit/gate_level/q_env_config.py:106: UserWarning: No backend was provided, State vector simulation will be used\n",
      "  warnings.warn(\"No backend was provided, State vector simulation will be used\")\n"
     ]
    }
   ],
   "source": [
    "from __future__ import annotations\n",
    "import warnings\n",
    "from typing import Optional, Dict\n",
    "import os\n",
    "import sys\n",
    "import numpy as np\n",
    "from qiskit import QuantumCircuit, QuantumRegister, transpile\n",
    "from qiskit.quantum_info import Operator\n",
    "from qiskit.circuit import ParameterVector\n",
    "from qiskit_ibm_runtime import IBMBackend as RuntimeBackend\n",
    "from qiskit.providers import BackendV1, BackendV2\n",
    "from qiskit.primitives import BaseSamplerV2, BaseSampler\n",
    "\n",
    "from itertools import product\n",
    "from qiskit_experiments.library.tomography.basis import (\n",
    "    PauliPreparationBasis,\n",
    "    Pauli6PreparationBasis,\n",
    ")\n",
    "\n",
    "import qiskit_aer.noise as noise\n",
    "from qiskit_aer.noise.passes.local_noise_pass import LocalNoisePass\n",
    "\n",
    "from qiskit_aer import AerSimulator\n",
    "from qiskit.quantum_info import Operator\n",
    "from qiskit.circuit.library import RXGate, SXGate, IGate, CRXGate\n",
    "from scipy.linalg import sqrtm\n",
    "\n",
    "# from utils import create_circuit_from_own_unitaries\n",
    "\n",
    "from qiskit.providers.fake_provider import GenericBackendV2\n",
    "os.environ[\"KMP_DUPLICATE_LIB_OK\"] = \"True\"\n",
    "module_path = os.path.abspath(\n",
    "    os.path.join(\n",
    "        \"/Users/lukasvoss/Documents/Master Wirtschaftsphysik/Masterarbeit Yale-NUS CQT/Quantum_Optimal_Control\"\n",
    "    )\n",
    ")\n",
    "if module_path not in sys.path:\n",
    "    sys.path.append(module_path)\n",
    "\n",
    "from q_env_config import (\n",
    "    q_env_config as gate_q_env_config,\n",
    "    circuit_context,\n",
    "    circuit_gate_times,\n",
    ")\n",
    "    \n",
    "\n",
    "from helper_functions import (\n",
    "    load_q_env_from_yaml_file,\n",
    "    select_backend,\n",
    ")\n",
    "from qconfig import QiskitConfig, QEnvConfig\n",
    "from quantumenvironment import QuantumEnvironment\n",
    "from context_aware_quantum_environment import ContextAwareQuantumEnvironment"
   ]
  },
  {
   "cell_type": "code",
   "execution_count": 2,
   "metadata": {},
   "outputs": [
    {
     "name": "stderr",
     "output_type": "stream",
     "text": [
      "/Users/lukasvoss/Documents/Master Wirtschaftsphysik/Masterarbeit Yale-NUS CQT/Quantum_Optimal_Control/helper_functions.py:1721: UserWarning: No Backend was provided, using default values for dt, coupling_map, basis_gates and instruction_durations\n",
      "  warnings.warn(\n",
      "/Users/lukasvoss/Documents/Master Wirtschaftsphysik/Masterarbeit Yale-NUS CQT/Quantum_Optimal_Control/quantumenvironment.py:1079: ComplexWarning: Casting complex values to real discards the imaginary part\n",
      "  array_obs[pauli_to_index[pauli.paulis[0]]] = pauli.coeffs[0]\n"
     ]
    },
    {
     "name": "stdout",
     "output_type": "stream",
     "text": [
      "n_reps: 1\n",
      "Checking reward to adjust C Factor...\n",
      "fidelity access False\n",
      "Starting simulation benchmark...\n",
      "Avg gate fidelity: 0.2531798320435195\n",
      "Finished simulation benchmark\n",
      "Sending Estimator job...\n",
      "SparsePauliOp(['II', 'IY', 'XI', 'XY'],\n",
      "              coeffs=[1.+0.j, 1.+0.j, 1.+0.j, 1.+0.j])\n",
      "Finished Estimator job\n"
     ]
    }
   ],
   "source": [
    "q_env = QuantumEnvironment(gate_q_env_config)"
   ]
  },
  {
   "cell_type": "code",
   "execution_count": 3,
   "metadata": {},
   "outputs": [],
   "source": [
    "n_qubits = 2\n",
    "n_actions = 7"
   ]
  },
  {
   "cell_type": "code",
   "execution_count": 4,
   "metadata": {},
   "outputs": [],
   "source": [
    "def append_param_target_gate(qc: QuantumCircuit, params: ParameterVector):\n",
    "    optimal_params = np.pi * np.array([0.0, 0.0, 0.5, 0.5, -0.5, 0.5, -0.5])\n",
    "    qc.u(\n",
    "        optimal_params[0] + params[0],\n",
    "        optimal_params[1] + params[1],\n",
    "        optimal_params[2] + params[2],\n",
    "        0,\n",
    "    )\n",
    "    qc.u(\n",
    "        optimal_params[3] + params[3],\n",
    "        optimal_params[4] + params[4],\n",
    "        optimal_params[5] + params[5],\n",
    "        1,\n",
    "    )\n",
    "    qc.rzx(optimal_params[6] + params[6], 0, 1)"
   ]
  },
  {
   "cell_type": "code",
   "execution_count": 5,
   "metadata": {},
   "outputs": [],
   "source": [
    "input_circuits = [\n",
    "    PauliPreparationBasis().circuit(s)\n",
    "    for s in product(range(4), repeat=n_qubits)\n",
    "]"
   ]
  },
  {
   "cell_type": "code",
   "execution_count": 6,
   "metadata": {},
   "outputs": [],
   "source": [
    "n_reps = 2\n",
    "params = np.zeros(n_actions)\n",
    "run_circs, ref_circs = [], []\n",
    "\n",
    "def append_ideal_cx(qc: QuantumCircuit):\n",
    "    qc.cx(0, 1)"
   ]
  },
  {
   "cell_type": "code",
   "execution_count": 7,
   "metadata": {},
   "outputs": [],
   "source": [
    "from typing import Callable, Optional\n",
    "from qiskit.circuit import QuantumCircuit, Gate\n",
    "\n",
    "def substitute_target_gate(\n",
    "    circuit: QuantumCircuit,\n",
    "    target_gate: Gate,\n",
    "    parametrized_circuit_func: Callable,\n",
    "    params: ParameterVector,\n",
    "    **kwargs\n",
    "):\n",
    "    \"\"\"\n",
    "    Substitute a target gate in a circuit with a parametrized version of the gate.\n",
    "    \"\"\"\n",
    "    qc = QuantumCircuit(*circuit.qregs, *circuit.cregs)\n",
    "\n",
    "    for instruction in circuit.data:\n",
    "        if instruction.operation != target_gate:\n",
    "            qc.append(instruction)\n",
    "        else:\n",
    "            parametrized_circuit_func(qc, params, qc.qregs[0], **kwargs)\n",
    "    return qc"
   ]
  },
  {
   "cell_type": "code",
   "execution_count": 8,
   "metadata": {},
   "outputs": [
    {
     "data": {
      "image/png": "[encoded data removed]",
      "text/plain": [
       "<Figure size 393.348x200.667 with 1 Axes>"
      ]
     },
     "execution_count": 8,
     "metadata": {},
     "output_type": "execute_result"
    }
   ],
   "source": [
    "q_env.circuit_truncations[0].decompose().draw(\"mpl\")"
   ]
  },
  {
   "cell_type": "code",
   "execution_count": 9,
   "metadata": {},
   "outputs": [
    {
     "data": {
      "image/png": "[encoded data removed]",
      "text/plain": [
       "<Figure size 226.125x200.667 with 1 Axes>"
      ]
     },
     "execution_count": 9,
     "metadata": {},
     "output_type": "execute_result"
    }
   ],
   "source": [
    "q_env.baseline_truncations[0].draw(\"mpl\")"
   ]
  },
  {
   "cell_type": "code",
   "execution_count": 10,
   "metadata": {},
   "outputs": [
    {
     "data": {
      "text/plain": [
       "2"
      ]
     },
     "execution_count": 10,
     "metadata": {},
     "output_type": "execute_result"
    }
   ],
   "source": [
    "q_env.n_qubits"
   ]
  },
  {
   "cell_type": "code",
   "execution_count": 28,
   "metadata": {},
   "outputs": [],
   "source": [
    "import torch\n",
    "from gymnasium.spaces import Box\n",
    "from scipy import optimize\n",
    "import cma\n",
    "from qiskit.quantum_info.operators.measures import average_gate_fidelity, state_fidelity\n",
    "from qiskit.quantum_info.states import DensityMatrix, Statevector"
   ]
  },
  {
   "cell_type": "code",
   "execution_count": 12,
   "metadata": {},
   "outputs": [],
   "source": [
    "def bounds_from_action_space(action_space: Box):\n",
    "    \"\"\"\n",
    "    Convert the action space of the agent to bounds for the optimizer\n",
    "    \"\"\"\n",
    "    return [(low, high) for low, high in zip(action_space.low, action_space.high)]\n",
    "\n",
    "\n",
    "class CAFE:\n",
    "    def __init__(self, q_env: QuantumEnvironment, n_reps: int = 3):\n",
    "        self.q_env = q_env\n",
    "        self.n_reps: int = n_reps\n",
    "        self.circuits_run, self.circuits_ref = self.get_cafe_circuits()\n",
    "        self.fidelities = []\n",
    "\n",
    "    def get_cafe_circuits(self):\n",
    "\n",
    "        circuits_run, circuits_ref = [], []\n",
    "        circuit_run = self.q_env.circuit_truncations[0]\n",
    "        circuit_ref = self.q_env.baseline_truncations[0]\n",
    "        n_qubits = q_env.n_qubits\n",
    "\n",
    "        input_circuits = input_circuits = [\n",
    "            PauliPreparationBasis().circuit(s)\n",
    "            for s in product(range(4), repeat=n_qubits)\n",
    "        ]\n",
    "\n",
    "        for input_circ in input_circuits:\n",
    "\n",
    "            run_qc = QuantumCircuit(n_qubits) # Circuit with the custom target gate\n",
    "            ref_qc = QuantumCircuit(n_qubits) # Circuit with the ideal gate for reference\n",
    "\n",
    "            # Bind input states to the circuits\n",
    "            for qc in [run_qc, ref_qc]:\n",
    "                qc.compose(input_circ, inplace=True)\n",
    "                qc.barrier()\n",
    "\n",
    "            # Add the custom target gate to the run circuit n_reps times\n",
    "            for qc, context in zip([run_qc, ref_qc], [circuit_run, circuit_ref]):\n",
    "                for _ in range(1, self.n_reps + 1):\n",
    "                    qc.compose(context, inplace=True)\n",
    "                qc.barrier()\n",
    "            run_qc = substitute_target_gate(ref_qc, self.q_env.target.gate, self.q_env.parametrized_circuit_func, q_env.parameters[0], **q_env._func_args)\n",
    "            \n",
    "            reverse_unitary = Operator(ref_qc).adjoint().to_instruction()\n",
    "            reverse_unitary_qc = QuantumCircuit(n_qubits)\n",
    "            reverse_unitary_qc.unitary(reverse_unitary, reverse_unitary_qc.qubits, label=\"reverse circuit unitary\")\n",
    "            reverse_unitary = transpile(reverse_unitary_qc, self.q_env.backend, optimization_level=3) # Try to get the smallest possible circuit for the reverse unitary\n",
    "            \n",
    "            for qc, context in zip([run_qc, ref_qc], [circuit_run, circuit_ref]):\n",
    "                qc = transpile(qc, self.q_env.backend, optimization_level=0)\n",
    "\n",
    "            # Add the inverse unitary to the circuits\n",
    "            for qc in [run_qc, ref_qc]:\n",
    "                qc.compose(reverse_unitary_qc, inplace=True)\n",
    "                # qc.unitary(reverse_unitary, qc.qubits, label=\"reverse circuit unitary\")\n",
    "                qc.measure_all()\n",
    "\n",
    "            circuits_run.append(run_qc)\n",
    "            circuits_ref.append(ref_qc)\n",
    "\n",
    "        return circuits_run, circuits_ref\n",
    "    \n",
    "    def run_cafe_circuits(self, parameter_values):\n",
    "        sampler = self.q_env.sampler\n",
    "        if isinstance(sampler, BaseSamplerV2):\n",
    "            pubs = []\n",
    "            for qc in self.circuits_run:\n",
    "                pubs.append((qc, parameter_values))\n",
    "            results = sampler.run(pubs, shots=self.q_env.n_shots).result()\n",
    "            counts = [result.data.meas.get_counts() for result in results]\n",
    "            for count in counts:\n",
    "                for key in [\n",
    "                    bin(i)[2:].zfill(self.q_env.n_qubits)\n",
    "                    for i in range(2**self.q_env.n_qubits)\n",
    "                ]:\n",
    "                    if key not in count.keys():\n",
    "                        count[key] = 0\n",
    "            fidelity = np.mean(\n",
    "                [\n",
    "                    count[\"0\" * self.q_env.n_qubits] / self.q_env.n_shots\n",
    "                    for count in counts\n",
    "                ]\n",
    "            )\n",
    "\n",
    "        else:\n",
    "            results = sampler.run(\n",
    "                self.circuits_run,\n",
    "                [parameter_values] * len(self.circuits_run),\n",
    "                shots=self.q_env.n_shots,\n",
    "            ).result()\n",
    "            counts = [\n",
    "                results.quasi_dists[i] for i in range(len(self.circuits_run))\n",
    "            ]\n",
    "            \n",
    "            # Count the number of dictionaries where 0 is a key\n",
    "            # No matter the number of qubits, the zero state will always be \"0\" since the keys represent the sum over all qubits (so, so state 011 would be mapped to sum(011)=2; 000 to 0; etc.)\n",
    "            zero_state_key = int(0)\n",
    "            values_for_key_0 = [count[zero_state_key] for count in counts if zero_state_key in count]\n",
    "            # Calculate the mean value for key 0\n",
    "            fidelity = sum(values_for_key_0) / len(counts) if values_for_key_0 else 0.0\n",
    "\n",
    "            return fidelity\n",
    "    \n",
    "    def optimize_CMA(self, initial_params):\n",
    "        \"\"\"\n",
    "        Optimize the parameter values for the circuit to maximize the fidelity using CMA-ES optimizer.\n",
    "        \n",
    "        Parameters:\n",
    "        initial_params (list or np.array): Initial guess for the parameters.\n",
    "        \"\"\"\n",
    "        # Define the objective function\n",
    "        def objective_function(params):\n",
    "            return 1 - self.run_cafe_circuits(params)\n",
    "        \n",
    "        # Run the optimizer\n",
    "        es = cma.CMAEvolutionStrategy(\n",
    "            initial_params, \n",
    "            0.5,\n",
    "            {\n",
    "                \"maxiter\": 1000,\n",
    "                \"tolx\": 1e-6,\n",
    "                \"bounds\": [-np.pi, np.pi],\n",
    "            },\n",
    "        )\n",
    "        es.optimize(objective_function)\n",
    "        \n",
    "        # Get the best parameters\n",
    "        optimal_params = es.result.xbest\n",
    "        minimized_value = es.result.fbest\n",
    "        \n",
    "        return optimal_params, minimized_value"
   ]
  },
  {
   "cell_type": "code",
   "execution_count": 13,
   "metadata": {},
   "outputs": [],
   "source": [
    "q_env.n_shots = 1024"
   ]
  },
  {
   "cell_type": "code",
   "execution_count": 14,
   "metadata": {},
   "outputs": [
    {
     "name": "stderr",
     "output_type": "stream",
     "text": [
      "/Users/lukasvoss/Documents/Master Wirtschaftsphysik/Masterarbeit Yale-NUS CQT/Quantum_Optimal_Control/venv_qiskit10/lib/python3.11/site-packages/numpy/linalg/linalg.py:2180: RuntimeWarning: divide by zero encountered in det\n",
      "  r = _umath_linalg.det(a, signature=signature)\n",
      "/Users/lukasvoss/Documents/Master Wirtschaftsphysik/Masterarbeit Yale-NUS CQT/Quantum_Optimal_Control/venv_qiskit10/lib/python3.11/site-packages/numpy/linalg/linalg.py:2180: RuntimeWarning: invalid value encountered in det\n",
      "  r = _umath_linalg.det(a, signature=signature)\n"
     ]
    }
   ],
   "source": [
    "cafe = CAFE(q_env)"
   ]
  },
  {
   "cell_type": "code",
   "execution_count": 15,
   "metadata": {},
   "outputs": [
    {
     "data": {
      "text/plain": [
       "0.447998046875"
      ]
     },
     "execution_count": 15,
     "metadata": {},
     "output_type": "execute_result"
    }
   ],
   "source": [
    "fidelity = cafe.run_cafe_circuits(np.ones(n_actions)) # np.ones(n_actions)\n",
    "fidelity"
   ]
  },
  {
   "cell_type": "code",
   "execution_count": 16,
   "metadata": {},
   "outputs": [
    {
     "data": {
      "text/plain": [
       "1.0"
      ]
     },
     "execution_count": 16,
     "metadata": {},
     "output_type": "execute_result"
    }
   ],
   "source": [
    "optimal_params = np.pi * np.array([0.0, 0.0, 0.5, 0.5, -0.5, 0.5, -0.5])\n",
    "\n",
    "fidelity = cafe.run_cafe_circuits(optimal_params) # np.ones(n_actions)\n",
    "fidelity"
   ]
  },
  {
   "cell_type": "code",
   "execution_count": 17,
   "metadata": {},
   "outputs": [],
   "source": [
    "def perturb_array(arr, perturbation_scale=0.01):\n",
    "    \"\"\"\n",
    "    Slightly change the values of a given array by adding small random perturbations.\n",
    "\n",
    "    Parameters:\n",
    "    arr (numpy.ndarray): The input array to be perturbed.\n",
    "    perturbation_scale (float): The scale of the perturbations (default is 0.01).\n",
    "\n",
    "    Returns:\n",
    "    numpy.ndarray: The perturbed array.\n",
    "    \"\"\"\n",
    "    # Generate random perturbations with the same shape as the input array\n",
    "    perturbations = np.random.normal(loc=0.0, scale=perturbation_scale, size=arr.shape)\n",
    "    \n",
    "    # Add the perturbations to the input array\n",
    "    perturbed_arr = arr + perturbations\n",
    "    perturbed_arr = np.clip(perturbed_arr, -np.pi, np.pi)\n",
    "    \n",
    "    return perturbed_arr"
   ]
  },
  {
   "cell_type": "code",
   "execution_count": 18,
   "metadata": {},
   "outputs": [
    {
     "data": {
      "text/plain": [
       "array([-0.05426878,  0.01533891, -0.11960266, -0.33510985,  0.06489833,\n",
       "        0.01579421,  0.11488549])"
      ]
     },
     "execution_count": 18,
     "metadata": {},
     "output_type": "execute_result"
    }
   ],
   "source": [
    "perturbed_params = perturb_array(optimal_params, perturbation_scale=0.2)\n",
    "perturbed_params - optimal_params"
   ]
  },
  {
   "cell_type": "code",
   "execution_count": 20,
   "metadata": {},
   "outputs": [
    {
     "name": "stdout",
     "output_type": "stream",
     "text": [
      "(4_w,9)-aCMA-ES (mu_w=2.8,w_1=49%) in dimension 7 (seed=112060, Thu May 30 17:58:46 2024)\n",
      "Iterat #Fevals   function value  axis ratio  sigma  min&max std  t[m:s]\n",
      "    1      9 4.843139648437500e-01 1.0e+00 4.36e-01  4e-01  4e-01 0:00.1\n",
      "    2     18 4.954223632812500e-01 1.2e+00 4.60e-01  4e-01  5e-01 0:00.2\n",
      "    3     27 5.453491210937500e-01 1.4e+00 4.60e-01  4e-01  5e-01 0:00.3\n",
      "   33    297 2.441406250000000e-03 4.3e+00 5.80e-02  3e-02  6e-02 0:03.4\n",
      "   69    621 0.000000000000000e+00 9.0e+00 5.74e-03  1e-03  7e-03 0:07.5\n",
      "  100    900 0.000000000000000e+00 1.1e+01 4.98e-03  1e-03  4e-03 0:11.1\n",
      "  107    963 0.000000000000000e+00 1.1e+01 4.48e-03  8e-04  4e-03 0:11.9\n",
      "Final Fideltiy CMA: 1.0\n"
     ]
    },
    {
     "data": {
      "text/plain": [
       "array([-1.08943094e-04, -2.01211575e-01, -3.20045915e-01, -5.23369732e-01,\n",
       "       -1.56292237e+00,  1.56080821e+00,  5.23541734e-01])"
      ]
     },
     "execution_count": 20,
     "metadata": {},
     "output_type": "execute_result"
    }
   ],
   "source": [
    "optimal_actions_cma, infidelity = cafe.optimize_CMA(np.zeros(n_actions))\n",
    "print('Final Fideltiy CMA:', 1.0 - infidelity)\n",
    "optimal_actions_cma"
   ]
  },
  {
   "cell_type": "code",
   "execution_count": 21,
   "metadata": {},
   "outputs": [
    {
     "data": {
      "text/plain": [
       "array([-1.08943094e-04, -2.01211575e-01, -1.89084224e+00, -2.09416606e+00,\n",
       "        7.87395376e-03, -9.98811771e-03,  2.09433806e+00])"
      ]
     },
     "execution_count": 21,
     "metadata": {},
     "output_type": "execute_result"
    }
   ],
   "source": [
    "optimal_actions_cma - optimal_params"
   ]
  },
  {
   "cell_type": "code",
   "execution_count": 29,
   "metadata": {},
   "outputs": [],
   "source": [
    "def get_param_circ(n_reps: int, params: np.ndarray):\n",
    "\n",
    "    parametrized_qc = QuantumCircuit(2)\n",
    "    optimal_params = np.pi * np.zeros(len(params))\n",
    "\n",
    "    for _ in range(n_reps):\n",
    "        parametrized_qc.u(\n",
    "            optimal_params[0] + params[0],\n",
    "            optimal_params[1] + params[1],\n",
    "            optimal_params[2] + params[2],\n",
    "            0,\n",
    "        )\n",
    "        parametrized_qc.u(\n",
    "            optimal_params[3] + params[3],\n",
    "            optimal_params[4] + params[4],\n",
    "            optimal_params[5] + params[5],\n",
    "            1,\n",
    "        )\n",
    "        parametrized_qc.rzx(optimal_params[6] + params[6], 0, 1)\n",
    "    # parametrized_qc.save_superop()\n",
    "    parametrized_qc.save_density_matrix()\n",
    "    return parametrized_qc\n",
    "\n",
    "def get_ideal_circ(n_reps: int):\n",
    "    ideal_qc = QuantumCircuit(2)\n",
    "    for _ in range(n_reps):\n",
    "        ideal_qc.cx(0, 1)\n",
    "    return ideal_qc\n"
   ]
  },
  {
   "cell_type": "code",
   "execution_count": 30,
   "metadata": {},
   "outputs": [],
   "source": [
    "from qiskit.quantum_info.operators.measures import average_gate_fidelity"
   ]
  },
  {
   "cell_type": "code",
   "execution_count": 31,
   "metadata": {},
   "outputs": [],
   "source": [
    "def fidelity_function(n_reps, params, backend):\n",
    "    input_circuits = [\n",
    "        PauliPreparationBasis().circuit(s) for s in product(range(4), repeat=2)\n",
    "    ]\n",
    "    avg_gate_fid = []\n",
    "    for input_circ in input_circuits:\n",
    "        ideal_circ = get_ideal_circ(n_reps).compose(input_circ, front=True)\n",
    "        ideal_circ = transpile(ideal_circ, backend, optimization_level=0)\n",
    "        \n",
    "        noisy_circ = get_param_circ(n_reps, params).compose(input_circ, front=True)\n",
    "        noisy_circ = transpile(noisy_circ, backend, optimization_level=0)\n",
    "\n",
    "\n",
    "        process_results = backend.run(noisy_circ).result()\n",
    "        q_process_list = [\n",
    "            # process_results.data(0)[\"superop\"],\n",
    "            process_results.data(0)['density_matrix'],\n",
    "        ]\n",
    "        avg_fidelity = np.mean(\n",
    "            [\n",
    "                # average_gate_fidelity(q_process, Operator(ideal_circ))\n",
    "                # for q_process in q_process_list\n",
    "                state_fidelity(q_process, Statevector(ideal_circ))\n",
    "                for q_process in q_process_list\n",
    "            ]\n",
    "        )\n",
    "        avg_gate_fid.append(avg_fidelity)\n",
    "\n",
    "    return -np.mean(avg_fidelity)"
   ]
  },
  {
   "cell_type": "code",
   "execution_count": 32,
   "metadata": {},
   "outputs": [
    {
     "data": {
      "text/plain": [
       "0.9999761023877458"
      ]
     },
     "execution_count": 32,
     "metadata": {},
     "output_type": "execute_result"
    }
   ],
   "source": [
    "backend = AerSimulator()\n",
    "n_reps = cafe.n_reps\n",
    "params = optimal_actions_cma\n",
    "\n",
    "fidelity = -fidelity_function(n_reps, params, backend)\n",
    "fidelity"
   ]
  },
  {
   "cell_type": "markdown",
   "metadata": {},
   "source": [
    "# ORBIT"
   ]
  },
  {
   "cell_type": "code",
   "execution_count": null,
   "metadata": {},
   "outputs": [],
   "source": [
    "from orbit import ORBIT, bounds_from_action_space"
   ]
  },
  {
   "cell_type": "code",
   "execution_count": null,
   "metadata": {},
   "outputs": [],
   "source": [
    "orbit = ORBIT(rb_length=40, num_sequences=3, q_env=q_env)"
   ]
  },
  {
   "cell_type": "code",
   "execution_count": null,
   "metadata": {},
   "outputs": [],
   "source": [
    "orbit.run_orbit_circuits(np.zeros(n_actions))"
   ]
  },
  {
   "cell_type": "code",
   "execution_count": null,
   "metadata": {},
   "outputs": [],
   "source": [
    "orbit_optimal_params, orbit_infidelity, cma_result = orbit.optimize_CMA(np.zeros(n_actions))"
   ]
  },
  {
   "cell_type": "code",
   "execution_count": null,
   "metadata": {},
   "outputs": [],
   "source": [
    "optimal_params = np.pi * np.array([0.0, 0.0, 0.5, 0.5, -0.5, 0.5, -0.5])\n",
    "orbit_optimal_params - optimal_params"
   ]
  },
  {
   "cell_type": "code",
   "execution_count": null,
   "metadata": {},
   "outputs": [],
   "source": [
    "import matplotlib.pyplot as plt"
   ]
  },
  {
   "cell_type": "code",
   "execution_count": null,
   "metadata": {},
   "outputs": [],
   "source": [
    "plt.plot(orbit.fidelities)"
   ]
  }
 ],
 "metadata": {
  "kernelspec": {
   "display_name": "venv_qiskit10",
   "language": "python",
   "name": "python3"
  },
  "language_info": {
   "codemirror_mode": {
    "name": "ipython",
    "version": 3
   },
   "file_extension": ".py",
   "mimetype": "text/x-python",
   "name": "python",
   "nbconvert_exporter": "python",
   "pygments_lexer": "ipython3",
   "version": "3.11.5"
  }
 },
 "nbformat": 4,
 "nbformat_minor": 2
}

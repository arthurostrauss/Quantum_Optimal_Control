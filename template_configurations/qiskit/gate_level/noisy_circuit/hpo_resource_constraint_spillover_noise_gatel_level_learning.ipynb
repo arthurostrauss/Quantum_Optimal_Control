{
 "cells": [
  {
   "cell_type": "code",
   "execution_count": 1,
   "metadata": {
    "ExecuteTime": {
     "end_time": "2024-03-17T08:40:14.927338Z",
     "start_time": "2024-03-17T08:40:09.663676Z"
    }
   },
   "outputs": [
    {
     "name": "stderr",
     "output_type": "stream",
     "text": [
      "/Users/lukasvoss/Documents/Master Wirtschaftsphysik/Masterarbeit Yale-NUS CQT/Quantum_Optimal_Control/venv_qiskit10/lib/python3.11/site-packages/tqdm/auto.py:21: TqdmWarning: IProgress not found. Please update jupyter and ipywidgets. See https://ipywidgets.readthedocs.io/en/stable/user_install.html\n",
      "  from .autonotebook import tqdm as notebook_tqdm\n"
     ]
    },
    {
     "name": "stdout",
     "output_type": "stream",
     "text": [
      "\n",
      " NoiseModel:\n",
      "  Basis gates: ['cx', 'id', 'rz', 'sx', 'unitary']\n",
      "  Instructions with noise: ['custom_kron(rx,ident)_gate']\n",
      "  Qubits with noise: [0, 1]\n",
      "  Specific qubit errors: [('custom_kron(rx,ident)_gate', (0, 1))] \n",
      "\n",
      "Circuit context\n",
      "     ┌─────────────────────────────┐     \n",
      "q_0: ┤0                            ├──■──\n",
      "     │  custom_kron(rx,ident)_gate │┌─┴─┐\n",
      "q_1: ┤1                            ├┤ X ├\n",
      "     └─────────────────────────────┘└───┘\n"
     ]
    },
    {
     "name": "stderr",
     "output_type": "stream",
     "text": [
      "/Users/lukasvoss/Documents/Master Wirtschaftsphysik/Masterarbeit Yale-NUS CQT/Quantum_Optimal_Control/venv_qiskit10/lib/python3.11/site-packages/numpy/linalg/linalg.py:2180: RuntimeWarning: divide by zero encountered in det\n",
      "  r = _umath_linalg.det(a, signature=signature)\n",
      "/Users/lukasvoss/Documents/Master Wirtschaftsphysik/Masterarbeit Yale-NUS CQT/Quantum_Optimal_Control/venv_qiskit10/lib/python3.11/site-packages/numpy/linalg/linalg.py:2180: RuntimeWarning: invalid value encountered in det\n",
      "  r = _umath_linalg.det(a, signature=signature)\n"
     ]
    }
   ],
   "source": [
    "import sys\n",
    "import os\n",
    "import numpy as np\n",
    "from itertools import product\n",
    "import matplotlib.pyplot as plt\n",
    "\n",
    "os.environ[\"KMP_DUPLICATE_LIB_OK\"] = \"True\"\n",
    "module_path = os.path.abspath(\n",
    "    os.path.join(\n",
    "        \"/Users/lukasvoss/Documents/Master Wirtschaftsphysik/Masterarbeit Yale-NUS CQT/Quantum_Optimal_Control\"\n",
    "    )\n",
    ")\n",
    "if module_path not in sys.path:\n",
    "    sys.path.append(module_path)\n",
    "\n",
    "from correlated_noise_q_env_config import (\n",
    "    q_env_config as gate_q_env_config,\n",
    "    circuit_context,\n",
    "    circuit_gate_times,\n",
    ")\n",
    "    \n",
    "from correlated_noise_q_env_config_function import setup_quantum_environment\n",
    "\n",
    "from quantumenvironment import QuantumEnvironment\n",
    "from context_aware_quantum_environment import ContextAwareQuantumEnvironment\n",
    "from hyperparameter_optimization_ressource_constraint import HyperparameterOptimizer\n",
    "from gymnasium.spaces import Box\n",
    "from gymnasium.wrappers import RescaleAction, ClipAction\n",
    "from helper_functions import get_baseline_fid_from_phi_gamma\n",
    "\n",
    "import logging\n",
    "\n",
    "logging.basicConfig(\n",
    "    level=logging.WARNING,\n",
    "    format=\"%(asctime)s INFO %(message)s\",  # hardcoded INFO level\n",
    "    datefmt=\"%Y-%m-%d %H:%M:%S\",\n",
    "    stream=sys.stdout,\n",
    ")"
   ]
  },
  {
   "cell_type": "code",
   "execution_count": 2,
   "metadata": {},
   "outputs": [],
   "source": [
    "def get_total_runtime_hpo(phis, gammas, max_runtime_per_trial, num_hpo_trials):\n",
    "    return len(phis) * len(gammas) * max_runtime_per_trial * num_hpo_trials"
   ]
  },
  {
   "attachments": {},
   "cell_type": "markdown",
   "metadata": {},
   "source": [
    "### Adjust action space for larger noise profiles"
   ]
  },
  {
   "cell_type": "code",
   "execution_count": 3,
   "metadata": {},
   "outputs": [
    {
     "data": {
      "text/plain": [
       "Box(-0.1, 0.1, (7,), float32)"
      ]
     },
     "execution_count": 3,
     "metadata": {},
     "output_type": "execute_result"
    }
   ],
   "source": [
    "gate_q_env_config.action_space"
   ]
  },
  {
   "cell_type": "code",
   "execution_count": 4,
   "metadata": {},
   "outputs": [],
   "source": [
    "def scale_action_space(phi_gamma_tuple, initial_phi=np.pi, initial_gamma=0.05, initial_space=Box(-0.1, 0.1, (7,), np.float32)):\n",
    "    \n",
    "    phi, gamma = phi_gamma_tuple\n",
    "    \n",
    "    # Calculate the initial and new ratios\n",
    "    initial_ratio = initial_phi * initial_gamma\n",
    "    new_ratio = phi * gamma\n",
    "\n",
    "    # Scale the action space based on the ratio\n",
    "    scale_factor = new_ratio / initial_ratio\n",
    "    new_low = initial_space.low * scale_factor\n",
    "    new_high = initial_space.high * scale_factor\n",
    "\n",
    "    # Create a new action space with the scaled values\n",
    "    new_space = Box(new_low, new_high, initial_space.shape, initial_space.dtype)\n",
    "\n",
    "    return new_space"
   ]
  },
  {
   "cell_type": "code",
   "execution_count": 9,
   "metadata": {},
   "outputs": [
    {
     "data": {
      "text/plain": [
       "Box(-0.075, 0.075, (7,), float32)"
      ]
     },
     "execution_count": 9,
     "metadata": {},
     "output_type": "execute_result"
    }
   ],
   "source": [
    "phi_gamma_tuple = (np.pi/4, 0.15)\n",
    "scale_action_space(phi_gamma_tuple, initial_phi=np.pi, initial_gamma=0.05, initial_space=Box(-0.1, 0.1, (7,), np.float32))"
   ]
  },
  {
   "cell_type": "code",
   "execution_count": 6,
   "metadata": {},
   "outputs": [],
   "source": [
    "def perform_hpo_noisy_study(phis, gammas, max_runtime_per_trial, num_hpo_trials, target_fidelities, lookback_window, experimental_penalty_weights):\n",
    "\n",
    "    for phi_gamma_tuple in product(phis, gammas):\n",
    "\n",
    "        gate_q_env_config, circuit_context, _ = setup_quantum_environment(phi_gamma_tuple=phi_gamma_tuple)\n",
    "        gate_q_env_config.action_space = scale_action_space(phi_gamma_tuple=phi_gamma_tuple)\n",
    "\n",
    "        print(gate_q_env_config.action_space)\n",
    "\n",
    "        q_env = ContextAwareQuantumEnvironment(gate_q_env_config, circuit_context)\n",
    "        q_env = ClipAction(q_env)\n",
    "        q_env = RescaleAction(q_env, -1.0, 1.0)\n",
    "\n",
    "\n",
    "        current_dir = os.getcwd()\n",
    "        grand_parent_dir = os.path.dirname(os.path.dirname(current_dir))\n",
    "\n",
    "        path_agent_config = os.path.join(os.path.dirname(grand_parent_dir), \"agent_config.yaml\")\n",
    "        path_hpo_config = os.path.join(current_dir, \"noise_hpo_config.yaml\")\n",
    "        save_results_path = os.path.join(\"hpo_results\", \"resource_constraint\")\n",
    "\n",
    "\n",
    "        optimizer = HyperparameterOptimizer(\n",
    "            q_env=q_env,\n",
    "            path_agent_config=path_agent_config,\n",
    "            path_hpo_config=path_hpo_config,\n",
    "            save_results_path=save_results_path,\n",
    "            experimental_penalty_weights=experimental_penalty_weights,\n",
    "            log_progress=False,\n",
    "        )\n",
    "\n",
    "        best_trial = optimizer.optimize_hyperparameters(\n",
    "            num_hpo_trials = num_hpo_trials,\n",
    "            phi_gamma_tuple = phi_gamma_tuple,\n",
    "            target_fidelities = target_fidelities,\n",
    "            lookback_window = lookback_window,\n",
    "            max_runtime = max_runtime_per_trial\n",
    "        )"
   ]
  },
  {
   "cell_type": "code",
   "execution_count": 7,
   "metadata": {},
   "outputs": [
    {
     "name": "stdout",
     "output_type": "stream",
     "text": [
      "(Worst Case): Total runtime for HPO: 0.8333 hours\n"
     ]
    }
   ],
   "source": [
    "phis = np.pi * np.array([0.25]) # , 0.5, 0.75, 1.0])\n",
    "gammas = np.linspace(0.15, 0.151, 1)\n",
    "\n",
    "target_fidelities = [1.0-infid for infid in [1e-3, 1e-4, 1e-5]]\n",
    "\n",
    "lookback_window = 20\n",
    "\n",
    "max_runtime_per_trial = 600\n",
    "num_hpo_trials = 5\n",
    "\n",
    "experimental_penalty_weights = {\n",
    "    'penalty_n_shots': 0.01,\n",
    "    'penalty_per_missed_fidelity': 5e3,\n",
    "    'fidelity_reward': 1e4,\n",
    "}\n",
    "\n",
    "print(f'(Worst Case): Total runtime for HPO: {round(get_total_runtime_hpo(phis, gammas, max_runtime_per_trial, num_hpo_trials)/3600, 4)} hours')"
   ]
  },
  {
   "attachments": {},
   "cell_type": "markdown",
   "metadata": {},
   "source": [
    "TODO: Parallelize workflow across multiple parameter"
   ]
  },
  {
   "cell_type": "code",
   "execution_count": 8,
   "metadata": {},
   "outputs": [
    {
     "name": "stdout",
     "output_type": "stream",
     "text": [
      "Total Updates applied: 1300\n",
      "Total Shots applied: 295,685,148\n",
      "probabilities renormalized\n",
      "Fidelity stored 0.9994318614482254\n",
      "Sending Estimator job...\n",
      "SparsePauliOp(['II', 'IY', 'IZ', 'XI', 'XY', 'XZ'],\n",
      "              coeffs=[ 0.5       +0.j,  0.70710678+0.j, -0.70710678+0.j,  0.5       +0.j,\n",
      "  0.70710678+0.j, -0.70710678+0.j])\n",
      "Finished Estimator job\n",
      "Total Updates applied: 1301\n",
      "Total Shots applied: 295,703,298\n",
      "Fidelity stored 0.9994787633729115\n",
      "Sending Estimator job...\n",
      "SparsePauliOp(['II', 'IZ', 'XY', 'YX', 'ZI', 'ZZ'],\n",
      "              coeffs=[ 0.5       +0.j, -0.70710678+0.j,  0.70710678+0.j, -0.70710678+0.j,\n",
      "  0.70710678+0.j, -0.5       +0.j])\n",
      "Finished Estimator job\n",
      "Total Updates applied: 1302\n",
      "Total Shots applied: 295,725,078\n",
      "probabilities renormalized\n",
      "Fidelity stored 0.9994499919744925\n",
      "Sending Estimator job...\n",
      "SparsePauliOp(['II', 'IZ', 'XY', 'YI', 'YZ', 'ZX'],\n",
      "              coeffs=[ 0.5       +0.j, -0.70710678+0.j,  0.70710678+0.j, -0.70710678+0.j,\n",
      "  0.5       +0.j, -0.70710678+0.j])\n",
      "Finished Estimator job\n",
      "Total Updates applied: 1303\n",
      "Total Shots applied: 295,749,278\n",
      "probabilities renormalized\n",
      "Fidelity stored 0.9994819989079324\n",
      "Sending Estimator job...\n",
      "SparsePauliOp(['II', 'XX', 'YY', 'ZZ'],\n",
      "              coeffs=[ 0.5+0.j,  0.5+0.j,  0.5+0.j, -0.5+0.j])\n",
      "Finished Estimator job\n",
      "Total Updates applied: 1304\n",
      "Total Shots applied: 295,781,948\n",
      "probabilities renormalized\n",
      "Fidelity stored 0.9995083519063315\n",
      "Sending Estimator job...\n",
      "SparsePauliOp(['II', 'XX', 'YZ', 'ZY'],\n",
      "              coeffs=[0.5+0.j, 0.5+0.j, 0.5+0.j, 0.5+0.j])\n",
      "Finished Estimator job\n",
      "Total Updates applied: 1305\n",
      "Total Shots applied: 295,813,408\n",
      "probabilities renormalized\n",
      "Fidelity stored 0.9994576260582452\n",
      "Sending Estimator job...\n",
      "SparsePauliOp(['II', 'IY', 'IZ', 'XI', 'XY', 'XZ'],\n",
      "              coeffs=[ 0.5       +0.j, -0.70710678+0.j,  0.70710678+0.j,  0.5       +0.j,\n",
      " -0.70710678+0.j,  0.70710678+0.j])\n",
      "Finished Estimator job\n",
      "Total Updates applied: 1306\n",
      "Total Shots applied: 295,831,558\n",
      "probabilities renormalized\n",
      "Fidelity stored 0.9995232331674366\n",
      "Sending Estimator job...\n",
      "SparsePauliOp(['II', 'IX', 'XI', 'XX'],\n",
      "              coeffs=[0.5+0.j, 0.5+0.j, 0.5+0.j, 0.5+0.j])\n",
      "Finished Estimator job\n",
      "Total Updates applied: 1307\n",
      "Total Shots applied: 295,848,498\n",
      "probabilities renormalized\n",
      "Fidelity stored 0.9995188333290705\n",
      "Sending Estimator job...\n",
      "SparsePauliOp(['II', 'IZ', 'XY', 'YI', 'YZ', 'ZX'],\n",
      "              coeffs=[ 0.5       +0.j,  0.70710678+0.j, -0.70710678+0.j,  0.70710678+0.j,\n",
      "  0.5       +0.j,  0.70710678+0.j])\n",
      "Finished Estimator job\n",
      "Total Updates applied: 1308\n",
      "Total Shots applied: 295,875,118\n",
      "probabilities renormalized\n",
      "Fidelity stored 0.9995253627306684\n",
      "Sending Estimator job...\n",
      "SparsePauliOp(['II', 'IY', 'IZ', 'XI', 'XY', 'XZ'],\n",
      "              coeffs=[0.5       +0.j, 0.70710678+0.j, 0.70710678+0.j, 0.5       +0.j,\n",
      " 0.70710678+0.j, 0.70710678+0.j])\n",
      "Finished Estimator job\n",
      "Total Updates applied: 1309\n",
      "Total Shots applied: 295,896,898\n",
      "probabilities renormalized\n",
      "Fidelity stored 0.9995529869563383\n",
      "Sending Estimator job...\n",
      "SparsePauliOp(['II', 'IY', 'IZ', 'XI', 'XY', 'XZ'],\n",
      "              coeffs=[ 0.5       +0.j,  0.70710678+0.j, -0.70710678+0.j,  0.5       +0.j,\n",
      "  0.70710678+0.j, -0.70710678+0.j])\n",
      "Finished Estimator job\n",
      "Total Updates applied: 1310\n",
      "Total Shots applied: 295,916,258\n",
      "probabilities renormalized\n",
      "Fidelity stored 0.9995495696166217\n",
      "Sending Estimator job...\n",
      "SparsePauliOp(['II', 'IY', 'IZ', 'XI', 'XY', 'XZ'],\n",
      "              coeffs=[0.5       +0.j, 0.70710678+0.j, 0.70710678+0.j, 0.5       +0.j,\n",
      " 0.70710678+0.j, 0.70710678+0.j])\n",
      "Finished Estimator job\n",
      "Total Updates applied: 1311\n",
      "Total Shots applied: 295,931,988\n",
      "probabilities renormalized\n",
      "Fidelity stored 0.9995303123666023\n",
      "Sending Estimator job...\n",
      "SparsePauliOp(['II', 'IZ', 'XY', 'YX', 'ZI', 'ZZ'],\n",
      "              coeffs=[0.5       +0.j, 0.70710678+0.j, 0.70710678+0.j, 0.70710678+0.j,\n",
      " 0.70710678+0.j, 0.5       +0.j])\n",
      "Finished Estimator job\n",
      "Total Updates applied: 1312\n",
      "Total Shots applied: 295,958,608\n",
      "probabilities renormalized\n",
      "Fidelity stored 0.9994937427485706\n",
      "Sending Estimator job...\n",
      "SparsePauliOp(['II', 'XX', 'YZ', 'ZY'],\n",
      "              coeffs=[0.5+0.j, 0.5+0.j, 0.5+0.j, 0.5+0.j])\n",
      "Finished Estimator job\n",
      "Total Updates applied: 1313\n",
      "Total Shots applied: 295,987,648\n",
      "probabilities renormalized\n",
      "Fidelity stored 0.9995084898463377\n",
      "Sending Estimator job...\n",
      "SparsePauliOp(['II', 'XX', 'YY', 'ZZ'],\n",
      "              coeffs=[ 0.5+0.j,  0.5+0.j,  0.5+0.j, -0.5+0.j])\n",
      "Finished Estimator job\n",
      "Total Updates applied: 1314\n",
      "Total Shots applied: 296,021,528\n",
      "probabilities renormalized\n",
      "Fidelity stored 0.9994992864297894\n",
      "Sending Estimator job...\n",
      "SparsePauliOp(['II', 'IY', 'IZ', 'XI', 'XY', 'XZ'],\n",
      "              coeffs=[ 0.5       +0.j,  0.70710678+0.j, -0.70710678+0.j,  0.5       +0.j,\n",
      "  0.70710678+0.j, -0.70710678+0.j])\n",
      "Finished Estimator job\n",
      "Total Updates applied: 1315\n",
      "Total Shots applied: 296,039,678\n",
      "probabilities renormalized\n",
      "Fidelity stored 0.99951549964706\n",
      "Sending Estimator job...\n",
      "SparsePauliOp(['II', 'IY', 'IZ', 'XI', 'XY', 'XZ'],\n",
      "              coeffs=[0.5       +0.j, 0.70710678+0.j, 0.70710678+0.j, 0.5       +0.j,\n",
      " 0.70710678+0.j, 0.70710678+0.j])\n",
      "Finished Estimator job\n",
      "Total Updates applied: 1316\n",
      "Total Shots applied: 296,059,038\n",
      "probabilities renormalized\n",
      "Fidelity stored 0.9995023083758989\n",
      "Sending Estimator job...\n",
      "SparsePauliOp(['II', 'XX', 'YZ', 'ZY'],\n",
      "              coeffs=[0.5+0.j, 0.5+0.j, 0.5+0.j, 0.5+0.j])\n",
      "Finished Estimator job\n",
      "Total Updates applied: 1317\n",
      "Total Shots applied: 296,091,708\n",
      "probabilities renormalized\n",
      "Fidelity stored 0.9994713093378194\n",
      "Sending Estimator job...\n",
      "SparsePauliOp(['II', 'IY', 'IZ', 'XI', 'XY', 'XZ'],\n",
      "              coeffs=[ 0.5       +0.j, -0.70710678+0.j,  0.70710678+0.j,  0.5       +0.j,\n",
      " -0.70710678+0.j,  0.70710678+0.j])\n",
      "Finished Estimator job\n",
      "Total Updates applied: 1318\n",
      "Total Shots applied: 296,111,068\n",
      "Fidelity stored 0.9994578639671841\n",
      "Sending Estimator job...\n",
      "SparsePauliOp(['II', 'IZ', 'XY', 'YX', 'ZI', 'ZZ'],\n",
      "              coeffs=[ 0.5       +0.j,  0.70710678+0.j, -0.70710678+0.j,  0.70710678+0.j,\n",
      " -0.70710678+0.j, -0.5       +0.j])\n",
      "Finished Estimator job\n",
      "Total Updates applied: 1319\n",
      "Total Shots applied: 296,135,268\n",
      "Fidelity stored 0.9994738396839045\n",
      "Sending Estimator job...\n",
      "SparsePauliOp(['II', 'IZ', 'XY', 'YX', 'ZI', 'ZZ'],\n",
      "              coeffs=[ 0.5       +0.j, -0.70710678+0.j,  0.70710678+0.j,  0.70710678+0.j,\n",
      " -0.70710678+0.j,  0.5       +0.j])\n",
      "Finished Estimator job\n",
      "Total Updates applied: 1320\n",
      "Total Shots applied: 296,160,678\n",
      "probabilities renormalized\n",
      "Fidelity stored 0.9994570051950205\n",
      "Sending Estimator job...\n",
      "SparsePauliOp(['II', 'XX', 'YY', 'ZZ'],\n",
      "              coeffs=[ 0.5+0.j,  0.5+0.j, -0.5+0.j,  0.5+0.j])\n",
      "Finished Estimator job\n",
      "Total Updates applied: 1321\n",
      "Total Shots applied: 296,196,978\n",
      "Fidelity stored 0.9994455076725628\n",
      "Sending Estimator job...\n",
      "SparsePauliOp(['II', 'IZ', 'XY', 'YX', 'ZI', 'ZZ'],\n",
      "              coeffs=[ 0.5       +0.j, -0.70710678+0.j,  0.70710678+0.j,  0.70710678+0.j,\n",
      " -0.70710678+0.j,  0.5       +0.j])\n",
      "Finished Estimator job\n",
      "Total Updates applied: 1322\n",
      "Total Shots applied: 296,227,228\n",
      "probabilities renormalized\n",
      "Fidelity stored 0.9994361735177496\n",
      "Sending Estimator job...\n",
      "SparsePauliOp(['II', 'IZ', 'XY', 'YX', 'ZI', 'ZZ'],\n",
      "              coeffs=[0.5       +0.j, 0.70710678+0.j, 0.70710678+0.j, 0.70710678+0.j,\n",
      " 0.70710678+0.j, 0.5       +0.j])\n",
      "Finished Estimator job\n",
      "Total Updates applied: 1323\n",
      "Total Shots applied: 296,253,848\n",
      "probabilities renormalized\n",
      "Fidelity stored 0.9994664311471715\n",
      "Sending Estimator job...\n",
      "SparsePauliOp(['II', 'XX', 'YZ', 'ZY'],\n",
      "              coeffs=[0.5+0.j, 0.5+0.j, 0.5+0.j, 0.5+0.j])\n",
      "Finished Estimator job\n",
      "Total Updates applied: 1324\n",
      "Total Shots applied: 296,290,148\n",
      "probabilities renormalized\n",
      "Fidelity stored 0.9994386273841896\n",
      "Sending Estimator job...\n",
      "SparsePauliOp(['II', 'XX', 'YZ', 'ZY'],\n",
      "              coeffs=[0.5+0.j, 0.5+0.j, 0.5+0.j, 0.5+0.j])\n",
      "Finished Estimator job\n",
      "Total Updates applied: 1325\n",
      "Total Shots applied: 296,326,448\n",
      "probabilities renormalized\n",
      "Fidelity stored 0.9994628194099489\n",
      "Sending Estimator job...\n",
      "SparsePauliOp(['II', 'IZ', 'XY', 'YX', 'ZI', 'ZZ'],\n",
      "              coeffs=[0.5       +0.j, 0.70710678+0.j, 0.70710678+0.j, 0.70710678+0.j,\n",
      " 0.70710678+0.j, 0.5       +0.j])\n",
      "Finished Estimator job\n",
      "Total Updates applied: 1326\n",
      "Total Shots applied: 296,355,488\n",
      "Fidelity stored 0.9994520459488165\n",
      "Sending Estimator job...\n",
      "SparsePauliOp(['II', 'IZ', 'XY', 'YX', 'ZI', 'ZZ'],\n",
      "              coeffs=[ 0.5       +0.j, -0.70710678+0.j,  0.70710678+0.j, -0.70710678+0.j,\n",
      "  0.70710678+0.j, -0.5       +0.j])\n",
      "Finished Estimator job\n",
      "Total Updates applied: 1327\n",
      "Total Shots applied: 296,384,528\n",
      "probabilities renormalized\n",
      "Fidelity stored 0.9994397997354891\n",
      "Sending Estimator job...\n",
      "SparsePauliOp(['II', 'IY', 'IZ', 'XI', 'XY', 'XZ'],\n",
      "              coeffs=[ 0.5       +0.j, -0.70710678+0.j,  0.70710678+0.j,  0.5       +0.j,\n",
      " -0.70710678+0.j,  0.70710678+0.j])\n",
      "Finished Estimator job\n",
      "Total Updates applied: 1328\n",
      "Total Shots applied: 296,402,678\n",
      "probabilities renormalized\n",
      "Fidelity stored 0.9994936397543017\n",
      "Sending Estimator job...\n",
      "SparsePauliOp(['II', 'IZ', 'XY', 'YX', 'ZI', 'ZZ'],\n",
      "              coeffs=[ 0.5       +0.j,  0.70710678+0.j,  0.70710678+0.j, -0.70710678+0.j,\n",
      " -0.70710678+0.j, -0.5       +0.j])\n",
      "Finished Estimator job\n",
      "Total Updates applied: 1329\n",
      "Total Shots applied: 296,425,668\n",
      "probabilities renormalized\n",
      "Fidelity stored 0.9994003028370904\n",
      "Sending Estimator job...\n",
      "SparsePauliOp(['II', 'XX', 'YY', 'ZZ'],\n",
      "              coeffs=[ 0.5+0.j,  0.5+0.j, -0.5+0.j,  0.5+0.j])\n",
      "Finished Estimator job\n",
      "Total Updates applied: 1330\n",
      "Total Shots applied: 296,457,128\n",
      "Fidelity stored 0.9994620884937966\n",
      "Sending Estimator job...\n",
      "SparsePauliOp(['II', 'XY', 'YX', 'ZI', 'ZZ'],\n",
      "              coeffs=[ 0.5       +0.j,  0.70710678+0.j, -0.70710678+0.j,  0.70710678+0.j,\n",
      " -0.5       +0.j])\n",
      "Finished Estimator job\n",
      "Total Updates applied: 1331\n",
      "Total Shots applied: 296,482,538\n",
      "probabilities renormalized\n",
      "Fidelity stored 0.9994379844059288\n",
      "Sending Estimator job...\n",
      "SparsePauliOp(['II', 'XX', 'YY', 'ZZ'],\n",
      "              coeffs=[ 0.5+0.j,  0.5+0.j,  0.5+0.j, -0.5+0.j])\n",
      "Finished Estimator job\n",
      "Total Updates applied: 1332\n",
      "Total Shots applied: 296,513,998\n",
      "2024-04-09 18:49:57 INFO Target fidelity 0.999 achieved: Update 148, Train Time 1.1563 mins, Shots Used 560,640\n",
      "2024-04-09 18:49:57 INFO Target fidelity 0.9999 not achieved within max runtime.\n",
      "2024-04-09 18:49:57 INFO Target fidelity 0.99999 not achieved within max runtime.\n"
     ]
    },
    {
     "name": "stderr",
     "output_type": "stream",
     "text": [
      "[I 2024-04-09 18:49:57,865] Trial 4 finished with value: -4390.504034605629 and parameters: {'MINIBATCH_SIZE': 10, 'BATCHSIZE_MULTIPLIER': 11, 'N_SHOTS': 11, 'SAMPLE_PAULIS': 34}. Best is trial 2 with value: -5774.904305861553.\n"
     ]
    },
    {
     "name": "stdout",
     "output_type": "stream",
     "text": [
      "2024-04-09 18:49:57 INFO Best configuration saved to hpo_results/resource_constraint/phi-0.25pi_gamma-0.15_maxruntime-600_custom-cost-value--5774.904306_timestamp_09-04-2024_18-49-57.pickle\n"
     ]
    }
   ],
   "source": [
    "perform_hpo_noisy_study(phis, gammas, max_runtime_per_trial, num_hpo_trials, target_fidelities, lookback_window, experimental_penalty_weights)"
   ]
  },
  {
   "cell_type": "code",
   "execution_count": null,
   "metadata": {},
   "outputs": [],
   "source": [
    "import pickle\n",
    "with open('/Users/lukasvoss/Documents/Master Wirtschaftsphysik/Masterarbeit Yale-NUS CQT/Quantum_Optimal_Control/template_configurations/qiskit/gate_level/noisy_circuit/hpo_results/resource_constraint/phi-0.5pi_gamma-0.02_maxruntime-600_custom-cost-value-22901.12_timestamp_04-04-2024_16-16-00.pickle', 'rb') as f:\n",
    "    results = pickle.load(f)"
   ]
  },
  {
   "cell_type": "code",
   "execution_count": null,
   "metadata": {},
   "outputs": [],
   "source": [
    "results['training_results']['fidelity_info']"
   ]
  },
  {
   "cell_type": "code",
   "execution_count": null,
   "metadata": {},
   "outputs": [],
   "source": [
    "results['hyper_params']"
   ]
  },
  {
   "cell_type": "code",
   "execution_count": null,
   "metadata": {},
   "outputs": [],
   "source": []
  },
  {
   "cell_type": "code",
   "execution_count": null,
   "metadata": {},
   "outputs": [],
   "source": []
  },
  {
   "cell_type": "code",
   "execution_count": null,
   "metadata": {},
   "outputs": [],
   "source": []
  },
  {
   "cell_type": "code",
   "execution_count": null,
   "metadata": {},
   "outputs": [],
   "source": [
    "phi = np.pi / 2\n",
    "gamma = 0.025\n",
    "\n",
    "gate_q_env_config, circuit_context, circuit_gate_times = setup_quantum_environment(phi_gamma_tuple=(phi, gamma))"
   ]
  },
  {
   "cell_type": "code",
   "execution_count": null,
   "metadata": {},
   "outputs": [],
   "source": [
    "q_env = ContextAwareQuantumEnvironment(gate_q_env_config, circuit_context)\n",
    "q_env = ClipAction(q_env)\n",
    "q_env = RescaleAction(q_env, -1.0, 1.0)\n",
    "\n",
    "q_env.unwrapped.backend"
   ]
  },
  {
   "cell_type": "code",
   "execution_count": null,
   "metadata": {},
   "outputs": [],
   "source": [
    "q_env.unwrapped.action_space"
   ]
  },
  {
   "cell_type": "code",
   "execution_count": null,
   "metadata": {
    "ExecuteTime": {
     "end_time": "2024-03-17T08:40:15.457597Z",
     "start_time": "2024-03-17T08:40:15.422155Z"
    },
    "collapsed": false
   },
   "outputs": [],
   "source": [
    "q_env.unwrapped.circuit_truncations[0].draw(\"mpl\")"
   ]
  },
  {
   "cell_type": "code",
   "execution_count": null,
   "metadata": {},
   "outputs": [],
   "source": [
    "current_dir = os.getcwd()\n",
    "grand_parent_dir = os.path.dirname(os.path.dirname(current_dir))\n",
    "\n",
    "path_agent_config = os.path.join(os.path.dirname(grand_parent_dir), \"agent_config.yaml\")\n",
    "path_hpo_config = os.path.join(current_dir, \"noise_hpo_config.yaml\")\n",
    "save_results_path = os.path.join(\"hpo_results\", \"resource_constraint\")"
   ]
  },
  {
   "cell_type": "code",
   "execution_count": null,
   "metadata": {},
   "outputs": [],
   "source": [
    "# experimental_penalty_weights = {\n",
    "#     \"runtime\": 0.001, # runtime is between 300 and 600 seconds\n",
    "#     \"n_shots\": 0.005, # shots are between 1 and 20\n",
    "#     \"batchsize\": 0.003, # batchsize is between 1 and 10\n",
    "#     \"sample_paulis\": 0.005, # sample_paulis is between 20 and 120\n",
    "# }\n",
    "\n",
    "experimental_penalty_weights = {\n",
    "    'n_shots': 0.01,\n",
    "    'fidelity_not_achieved': 10,\n",
    "}"
   ]
  },
  {
   "cell_type": "code",
   "execution_count": null,
   "metadata": {
    "ExecuteTime": {
     "end_time": "2024-03-17T08:40:20.838766Z",
     "start_time": "2024-03-17T08:40:20.835675Z"
    }
   },
   "outputs": [],
   "source": [
    "optimizer = HyperparameterOptimizer(\n",
    "    q_env=q_env,\n",
    "    path_agent_config=path_agent_config,\n",
    "    path_hpo_config=path_hpo_config,\n",
    "    save_results_path=save_results_path,\n",
    "    experimental_penalty_weights=experimental_penalty_weights,\n",
    "    log_progress=False,\n",
    ")"
   ]
  },
  {
   "cell_type": "code",
   "execution_count": null,
   "metadata": {},
   "outputs": [],
   "source": [
    "max_runtime = 100"
   ]
  },
  {
   "cell_type": "code",
   "execution_count": null,
   "metadata": {},
   "outputs": [],
   "source": [
    "target_fidelities = [1.0-infid for infid in [1e-3, 1e-4, 1e-5]]\n",
    "target_fidelities"
   ]
  },
  {
   "cell_type": "code",
   "execution_count": null,
   "metadata": {},
   "outputs": [],
   "source": [
    "baseline_fid = get_baseline_fid_from_phi_gamma((phi, gamma))\n",
    "baseline_fid"
   ]
  },
  {
   "cell_type": "code",
   "execution_count": null,
   "metadata": {},
   "outputs": [],
   "source": [
    "best_trial = optimizer.optimize_hyperparameters(\n",
    "    num_hpo_trials = 2,\n",
    "    phi_gamma_tuple = (phi, gamma),\n",
    "    target_fidelities = target_fidelities,\n",
    "    max_runtime = max_runtime\n",
    ")"
   ]
  },
  {
   "cell_type": "code",
   "execution_count": null,
   "metadata": {},
   "outputs": [],
   "source": [
    "best_trial['training_results']['fidelity_history']"
   ]
  },
  {
   "cell_type": "code",
   "execution_count": null,
   "metadata": {},
   "outputs": [],
   "source": [
    "best_trial['training_results']['fidelity_info']"
   ]
  },
  {
   "cell_type": "code",
   "execution_count": null,
   "metadata": {},
   "outputs": [],
   "source": [
    "np.cumsum(q_env.unwrapped.total_shots)[best_trial['training_results']['fidelity_info'][0.999]['update_at']-1]"
   ]
  },
  {
   "cell_type": "code",
   "execution_count": null,
   "metadata": {},
   "outputs": [],
   "source": [
    "np.cumsum(q_env.unwrapped.total_shots)[0]"
   ]
  },
  {
   "cell_type": "code",
   "execution_count": null,
   "metadata": {},
   "outputs": [],
   "source": []
  }
 ],
 "metadata": {
  "kernelspec": {
   "display_name": "cqt_env",
   "language": "python",
   "name": "python3"
  },
  "language_info": {
   "codemirror_mode": {
    "name": "ipython",
    "version": 3
   },
   "file_extension": ".py",
   "mimetype": "text/x-python",
   "name": "python",
   "nbconvert_exporter": "python",
   "pygments_lexer": "ipython3",
   "version": "3.11.5"
  }
 },
 "nbformat": 4,
 "nbformat_minor": 2
}

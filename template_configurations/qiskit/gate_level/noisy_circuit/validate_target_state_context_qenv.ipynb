{
 "cells": [
  {
   "cell_type": "code",
   "execution_count": 1,
   "metadata": {},
   "outputs": [
    {
     "name": "stderr",
     "output_type": "stream",
     "text": [
      "/Users/lukasvoss/Documents/Master Wirtschaftsphysik/Masterarbeit Yale-NUS CQT/Quantum_Optimal_Control/venv_qiskit10/lib/python3.11/site-packages/tqdm/auto.py:21: TqdmWarning: IProgress not found. Please update jupyter and ipywidgets. See https://ipywidgets.readthedocs.io/en/stable/user_install.html\n",
      "  from .autonotebook import tqdm as notebook_tqdm\n"
     ]
    },
    {
     "name": "stdout",
     "output_type": "stream",
     "text": [
      "\n",
      " NoiseModel:\n",
      "  Basis gates: ['cx', 'id', 'rz', 'sx', 'unitary']\n",
      "  Instructions with noise: ['custom_kron(rx,ident)_gate']\n",
      "  Qubits with noise: [0, 1]\n",
      "  Specific qubit errors: [('custom_kron(rx,ident)_gate', (0, 1))] \n",
      "\n",
      "Circuit context\n",
      "     ┌─────────────────────────────┐     \n",
      "q_0: ┤0                            ├──■──\n",
      "     │  custom_kron(rx,ident)_gate │┌─┴─┐\n",
      "q_1: ┤1                            ├┤ X ├\n",
      "     └─────────────────────────────┘└───┘\n",
      "Circuit context\n",
      "     ┌─────────────────────────────┐     \n",
      "q_0: ┤0                            ├──■──\n",
      "     │  custom_kron(rx,ident)_gate │┌─┴─┐\n",
      "q_1: ┤1                            ├┤ X ├\n",
      "     └─────────────────────────────┘└───┘\n"
     ]
    },
    {
     "name": "stderr",
     "output_type": "stream",
     "text": [
      "/Users/lukasvoss/Documents/Master Wirtschaftsphysik/Masterarbeit Yale-NUS CQT/Quantum_Optimal_Control/venv_qiskit10/lib/python3.11/site-packages/numpy/linalg/linalg.py:2180: RuntimeWarning: divide by zero encountered in det\n",
      "  r = _umath_linalg.det(a, signature=signature)\n",
      "/Users/lukasvoss/Documents/Master Wirtschaftsphysik/Masterarbeit Yale-NUS CQT/Quantum_Optimal_Control/venv_qiskit10/lib/python3.11/site-packages/numpy/linalg/linalg.py:2180: RuntimeWarning: invalid value encountered in det\n",
      "  r = _umath_linalg.det(a, signature=signature)\n"
     ]
    }
   ],
   "source": [
    "import sys\n",
    "import os\n",
    "\n",
    "\n",
    "os.environ[\"KMP_DUPLICATE_LIB_OK\"] = \"True\"\n",
    "module_path = os.path.abspath(\n",
    "    os.path.join(\n",
    "        \"/Users/lukasvoss/Documents/Master Wirtschaftsphysik/Masterarbeit Yale-NUS CQT/Quantum_Optimal_Control\"\n",
    "    )\n",
    ")\n",
    "if module_path not in sys.path:\n",
    "    sys.path.append(module_path)\n",
    "\n",
    "from correlated_noise_q_env_config import (\n",
    "    q_env_config as gate_q_env_config,\n",
    "    circuit_context,\n",
    ")\n",
    "from context_aware_quantum_environment import ContextAwareQuantumEnvironment\n",
    "from gymnasium.wrappers import RescaleAction, ClipAction\n",
    "\n",
    "import logging\n",
    "\n",
    "logging.basicConfig(\n",
    "    level=logging.WARNING,\n",
    "    format=\"%(asctime)s INFO %(message)s\",  # hardcoded INFO level\n",
    "    datefmt=\"%Y-%m-%d %H:%M:%S\",\n",
    "    stream=sys.stdout,\n",
    ")"
   ]
  },
  {
   "cell_type": "code",
   "execution_count": 2,
   "metadata": {},
   "outputs": [
    {
     "name": "stderr",
     "output_type": "stream",
     "text": [
      "/Users/lukasvoss/Documents/Master Wirtschaftsphysik/Masterarbeit Yale-NUS CQT/Quantum_Optimal_Control/venv_qiskit10/lib/python3.11/site-packages/qiskit_ibm_runtime/session.py:156: UserWarning: Session is not supported in local testing mode or when using a simulator.\n",
      "  warnings.warn(\n",
      "/Users/lukasvoss/Documents/Master Wirtschaftsphysik/Masterarbeit Yale-NUS CQT/Quantum_Optimal_Control/quantumenvironment.py:1161: ComplexWarning: Casting complex values to real discards the imaginary part\n",
      "  array_obs[pauli_to_index[pauli.paulis[0]]] = pauli.coeffs[0]\n"
     ]
    },
    {
     "name": "stdout",
     "output_type": "stream",
     "text": [
      "n_reps: 10\n",
      "Checking reward to adjust C Factor...\n",
      "Fidelity stored 0.9897471407804211\n",
      "Sending Estimator job...\n",
      "SparsePauliOp(['II', 'IX', 'ZI', 'ZX'],\n",
      "              coeffs=[ 1.+0.j,  1.+0.j, -1.+0.j, -1.+0.j])\n",
      "Finished Estimator job\n",
      "C Factor adjusted to 2.6\n",
      "Target state 1 validated correctly\n",
      "Target state 2 validated correctly\n",
      "Target state 3 validated correctly\n",
      "Target state 4 validated correctly\n",
      "Target state 5 validated correctly\n",
      "Target state 6 validated correctly\n",
      "Target state 7 validated correctly\n",
      "Target state 8 validated correctly\n",
      "Target state 9 validated correctly\n",
      "Target state 10 validated correctly\n",
      "Target state 11 validated correctly\n",
      "Target state 12 validated correctly\n",
      "Target state 13 validated correctly\n",
      "Target state 14 validated correctly\n",
      "Target state 15 validated correctly\n",
      "Target state 16 validated correctly\n"
     ]
    }
   ],
   "source": [
    "q_env = ContextAwareQuantumEnvironment(gate_q_env_config, circuit_context)\n",
    "q_env = ClipAction(q_env)\n",
    "q_env = RescaleAction(q_env, -1.0, 1.0)"
   ]
  }
 ],
 "metadata": {
  "kernelspec": {
   "display_name": "venv_qiskit10",
   "language": "python",
   "name": "python3"
  },
  "language_info": {
   "codemirror_mode": {
    "name": "ipython",
    "version": 3
   },
   "file_extension": ".py",
   "mimetype": "text/x-python",
   "name": "python",
   "nbconvert_exporter": "python",
   "pygments_lexer": "ipython3",
   "version": "3.11.5"
  }
 },
 "nbformat": 4,
 "nbformat_minor": 2
}

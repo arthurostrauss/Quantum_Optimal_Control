{
 "cells": [
  {
   "attachments": {},
   "cell_type": "markdown",
   "metadata": {},
   "source": [
    "### Investigation: RX($\\phi$) with correlated CRX($\\gamma \\phi$) noise on the circuit-level with ideal hyperparameters"
   ]
  },
  {
   "cell_type": "code",
   "execution_count": 1,
   "metadata": {
    "ExecuteTime": {
     "end_time": "2024-03-17T08:40:14.927338Z",
     "start_time": "2024-03-17T08:40:09.663676Z"
    }
   },
   "outputs": [
    {
     "name": "stderr",
     "output_type": "stream",
     "text": [
      "/Users/lukasvoss/Documents/Master Wirtschaftsphysik/Masterarbeit Yale-NUS CQT/Quantum_Optimal_Control/venv_qiskit10/lib/python3.11/site-packages/tqdm/auto.py:21: TqdmWarning: IProgress not found. Please update jupyter and ipywidgets. See https://ipywidgets.readthedocs.io/en/stable/user_install.html\n",
      "  from .autonotebook import tqdm as notebook_tqdm\n"
     ]
    },
    {
     "name": "stdout",
     "output_type": "stream",
     "text": [
      "\n",
      " NoiseModel:\n",
      "  Basis gates: ['cx', 'id', 'rz', 'sx', 'unitary']\n",
      "  Instructions with noise: ['custom_kron(rx,ident)_gate']\n",
      "  Qubits with noise: [0, 1]\n",
      "  Specific qubit errors: [('custom_kron(rx,ident)_gate', (0, 1))] \n",
      "\n",
      "Circuit context\n",
      "     ┌─────────────────────────────┐     \n",
      "q_0: ┤0                            ├──■──\n",
      "     │  custom_kron(rx,ident)_gate │┌─┴─┐\n",
      "q_1: ┤1                            ├┤ X ├\n",
      "     └─────────────────────────────┘└───┘\n"
     ]
    },
    {
     "name": "stderr",
     "output_type": "stream",
     "text": [
      "/Users/lukasvoss/Documents/Master Wirtschaftsphysik/Masterarbeit Yale-NUS CQT/Quantum_Optimal_Control/venv_qiskit10/lib/python3.11/site-packages/numpy/linalg/linalg.py:2180: RuntimeWarning: divide by zero encountered in det\n",
      "  r = _umath_linalg.det(a, signature=signature)\n",
      "/Users/lukasvoss/Documents/Master Wirtschaftsphysik/Masterarbeit Yale-NUS CQT/Quantum_Optimal_Control/venv_qiskit10/lib/python3.11/site-packages/numpy/linalg/linalg.py:2180: RuntimeWarning: invalid value encountered in det\n",
      "  r = _umath_linalg.det(a, signature=signature)\n"
     ]
    }
   ],
   "source": [
    "import sys\n",
    "import os\n",
    "import numpy as np\n",
    "import pickle\n",
    "import matplotlib.pyplot as plt\n",
    "\n",
    "os.environ[\"KMP_DUPLICATE_LIB_OK\"] = \"True\"\n",
    "module_path = os.path.abspath(\n",
    "    os.path.join(\n",
    "        \"/Users/lukasvoss/Documents/Master Wirtschaftsphysik/Masterarbeit Yale-NUS CQT/Quantum_Optimal_Control\"\n",
    "    )\n",
    ")\n",
    "if module_path not in sys.path:\n",
    "    sys.path.append(module_path)\n",
    "\n",
    "from correlated_noise_q_env_config import (\n",
    "    q_env_config as gate_q_env_config,\n",
    "    circuit_context,\n",
    "    circuit_gate_times,\n",
    ")\n",
    "from quantumenvironment import QuantumEnvironment\n",
    "from context_aware_quantum_environment import ContextAwareQuantumEnvironment\n",
    "from ppo import make_train_ppo\n",
    "from helper_functions import load_from_yaml_file\n",
    "from gymnasium.wrappers import RescaleAction, ClipAction\n",
    "\n",
    "\n",
    "import logging\n",
    "\n",
    "logging.basicConfig(\n",
    "    level=logging.WARNING,\n",
    "    format=\"%(asctime)s INFO %(message)s\",  # hardcoded INFO level\n",
    "    datefmt=\"%Y-%m-%d %H:%M:%S\",\n",
    "    stream=sys.stdout,\n",
    ")"
   ]
  },
  {
   "cell_type": "code",
   "execution_count": 2,
   "metadata": {},
   "outputs": [
    {
     "name": "stderr",
     "output_type": "stream",
     "text": [
      "/Users/lukasvoss/Documents/Master Wirtschaftsphysik/Masterarbeit Yale-NUS CQT/Quantum_Optimal_Control/venv_qiskit10/lib/python3.11/site-packages/qiskit_ibm_runtime/session.py:156: UserWarning: Session is not supported in local testing mode or when using a simulator.\n",
      "  warnings.warn(\n"
     ]
    }
   ],
   "source": [
    "q_env = ContextAwareQuantumEnvironment(gate_q_env_config, circuit_context)\n",
    "# q_env = QuantumEnvironment(gate_q_env_config)"
   ]
  },
  {
   "cell_type": "code",
   "execution_count": 3,
   "metadata": {},
   "outputs": [
    {
     "data": {
      "image/png": "[encoded data removed]",
      "text/plain": [
       "<Figure size 1062.24x200.667 with 1 Axes>"
      ]
     },
     "execution_count": 3,
     "metadata": {},
     "output_type": "execute_result"
    }
   ],
   "source": [
    "q_env.circuit_truncations[0].draw(\"mpl\")"
   ]
  },
  {
   "cell_type": "code",
   "execution_count": 4,
   "metadata": {},
   "outputs": [
    {
     "data": {
      "image/png": "[encoded data removed]",
      "text/plain": [
       "<Figure size 644.181x200.667 with 1 Axes>"
      ]
     },
     "execution_count": 4,
     "metadata": {},
     "output_type": "execute_result"
    }
   ],
   "source": [
    "q_env.baseline_truncations[0].draw(\"mpl\")"
   ]
  },
  {
   "cell_type": "code",
   "execution_count": 5,
   "metadata": {},
   "outputs": [],
   "source": [
    "phi = 'pi'\n",
    "gamma = 0.01"
   ]
  },
  {
   "cell_type": "code",
   "execution_count": 6,
   "metadata": {},
   "outputs": [
    {
     "name": "stderr",
     "output_type": "stream",
     "text": [
      "100%|██████████| 200/200 [02:25<00:00,  1.37it/s]\n",
      "/Users/lukasvoss/Documents/Master Wirtschaftsphysik/Masterarbeit Yale-NUS CQT/Quantum_Optimal_Control/venv_qiskit10/lib/python3.11/site-packages/gymnasium/core.py:311: UserWarning: \u001b[33mWARN: env.total_shots to get variables from other wrappers is deprecated and will be removed in v1.0, to get this variable you can do `env.unwrapped.total_shots` for environment variables or `env.get_wrapper_attr('total_shots')` that will search the reminding wrappers.\u001b[0m\n",
      "  logger.warn(\n"
     ]
    }
   ],
   "source": [
    "q_env = ContextAwareQuantumEnvironment(gate_q_env_config, circuit_context)\n",
    "# q_env = QuantumEnvironment(gate_q_env_config)\n",
    "q_env = ClipAction(q_env)\n",
    "q_env = RescaleAction(q_env, -1.0, 1.0)\n",
    "agent_config = load_from_yaml_file('/Users/lukasvoss/Documents/Master Wirtschaftsphysik/Masterarbeit Yale-NUS CQT/Quantum_Optimal_Control/template_configurations/agent_config.yaml')\n",
    "train_agent = make_train_ppo(agent_config, q_env)\n",
    "training_results = train_agent(total_updates=200, print_debug=False, num_prints=100)\n",
    "training_results['total_shots'] = q_env.total_shots"
   ]
  },
  {
   "cell_type": "code",
   "execution_count": 7,
   "metadata": {},
   "outputs": [],
   "source": [
    "from helper_functions import get_hardware_runtime_cumsum"
   ]
  },
  {
   "cell_type": "code",
   "execution_count": 11,
   "metadata": {},
   "outputs": [],
   "source": [
    "custom_rx_gate_label = \"custom_kron(rx,ident)_gate\"\n",
    "single_qubit_gate_time = 1.6e-7\n",
    "two_qubit_gate_time = 5.3e-7\n",
    "readout_time = 1.2e-6\n",
    "reset_time = 1.0e-6\n",
    "\n",
    "gates_done_by_software = ['rz', 's', 't']\n",
    "\n",
    "circuit_gate_times = {\n",
    "    custom_rx_gate_label: single_qubit_gate_time,\n",
    "    'x': single_qubit_gate_time,\n",
    "    'sx': single_qubit_gate_time,\n",
    "    'h': single_qubit_gate_time,\n",
    "    'u': single_qubit_gate_time,\n",
    "    'rzx': two_qubit_gate_time,\n",
    "    'reset': reset_time,\n",
    "    'measure': readout_time,\n",
    "}\n",
    "circuit_gate_times.update({gate: 0.0 for gate in gates_done_by_software})"
   ]
  },
  {
   "cell_type": "code",
   "execution_count": 12,
   "metadata": {},
   "outputs": [
    {
     "data": {
      "text/plain": [
       "{'custom_kron(rx,ident)_gate': 1.6e-07,\n",
       " 'x': 1.6e-07,\n",
       " 'sx': 1.6e-07,\n",
       " 'h': 1.6e-07,\n",
       " 'u': 1.6e-07,\n",
       " 'rzx': 5.3e-07,\n",
       " 'reset': 1e-06,\n",
       " 'measure': 1.2e-06,\n",
       " 'rz': 0.0,\n",
       " 's': 0.0,\n",
       " 't': 0.0}"
      ]
     },
     "execution_count": 12,
     "metadata": {},
     "output_type": "execute_result"
    }
   ],
   "source": [
    "circuit_gate_times"
   ]
  },
  {
   "cell_type": "code",
   "execution_count": 14,
   "metadata": {},
   "outputs": [
    {
     "data": {
      "text/plain": [
       "array([ 0.10248 ,  0.429135,  0.79422 ,  1.159305,  1.428315,  1.697325,\n",
       "        1.94712 ,  2.235345,  2.542785,  2.83101 ,  3.17688 ,  3.426675,\n",
       "        3.75333 ,  3.94548 ,  4.195275,  4.541145,  4.630815,  4.91904 ,\n",
       "        5.18805 ,  5.64921 ,  5.82855 ,  6.039915,  6.308925,  6.52029 ,\n",
       "        6.73806 ,  6.987855,  7.333725,  7.423395,  7.67319 ,  7.90377 ,\n",
       "        8.268855,  8.461005,  8.7108  ,  8.94138 ,  9.18477 ,  9.434565,\n",
       "        9.703575,  9.91494 , 10.10709 , 10.28643 , 10.5042  , 10.753995,\n",
       "       10.958955, 11.266395, 11.55462 , 11.765985, 12.034995, 12.137475,\n",
       "       12.50256 , 12.92529 , 13.13025 , 13.27116 , 13.41207 , 13.68108 ,\n",
       "       13.91166 , 14.2191  , 14.52654 , 14.71869 , 14.9877  , 15.29514 ,\n",
       "       15.51291 , 15.801135, 16.05093 , 16.377585, 16.646595, 16.915605,\n",
       "       17.146185, 17.43441 , 17.62656 , 17.914785, 18.222225, 18.491235,\n",
       "       18.760245, 19.12533 , 19.35591 , 19.77864 , 20.04765 , 20.31666 ,\n",
       "       20.604885, 20.96997 , 21.20055 , 21.46956 , 21.6489  , 21.91791 ,\n",
       "       22.206135, 22.53279 , 22.84023 , 23.10924 , 23.19891 , 23.30139 ,\n",
       "       23.628045, 23.897055, 24.089205, 24.281355, 24.550365, 24.76173 ,\n",
       "       24.91545 , 25.318965, 25.549545, 25.856985, 26.18364 , 26.510295,\n",
       "       26.79852 , 26.95224 , 27.17001 , 27.419805, 27.727245, 28.111545,\n",
       "       28.39977 , 28.70721 , 28.995435, 29.24523 , 29.51424 , 29.82168 ,\n",
       "       29.92416 , 30.020235, 30.30846 , 30.57747 , 30.788835, 31.11549 ,\n",
       "       31.403715, 31.711155, 32.018595, 32.30682 , 32.556615, 32.9217  ,\n",
       "       33.209925, 33.402075, 33.709515, 33.811995, 34.119435, 34.40766 ,\n",
       "       34.734315, 34.964895, 35.25312 , 35.44527 , 35.656635, 35.887215,\n",
       "       36.156225, 36.48288 , 36.617385, 36.886395, 37.052925, 37.34115 ,\n",
       "       37.629375, 37.87917 , 38.128965, 38.474835, 38.743845, 39.0705  ,\n",
       "       39.320295, 39.627735, 40.050465, 40.37712 , 40.486005, 40.652535,\n",
       "       40.97919 , 41.190555, 41.40192 , 41.651715, 41.920725, 42.228165,\n",
       "       42.51639 , 42.7854  , 43.05441 , 43.304205, 43.688505, 43.906275,\n",
       "       44.1945  , 44.4507  , 44.75814 , 44.98872 , 45.18087 , 45.430665,\n",
       "       45.75732 , 45.93666 , 46.28253 , 46.51311 , 46.71807 , 46.91022 ,\n",
       "       47.12799 , 47.377785, 47.531505, 47.723655, 48.05031 , 48.261675,\n",
       "       48.530685, 48.97263 , 49.222425, 49.453005, 49.7028  , 49.991025,\n",
       "       50.195985, 50.388135, 50.75322 , 51.003015, 51.195165, 51.374505,\n",
       "       51.553845, 51.76521 ])"
      ]
     },
     "execution_count": 14,
     "metadata": {},
     "output_type": "execute_result"
    }
   ],
   "source": [
    "runtime_estimate = get_hardware_runtime_cumsum(q_env.circuit_truncations[0], circuit_gate_times, q_env.unwrapped._total_shots)"
   ]
  },
  {
   "cell_type": "code",
   "execution_count": null,
   "metadata": {},
   "outputs": [],
   "source": [
    "store_results_one_param_config = {}\n",
    "\n",
    "for seed in range(1, 4):\n",
    "    q_env = ContextAwareQuantumEnvironment(gate_q_env_config, circuit_context)\n",
    "    # q_env = QuantumEnvironment(gate_q_env_config)\n",
    "    q_env = ClipAction(q_env)\n",
    "    q_env = RescaleAction(q_env, -1.0, 1.0)\n",
    "    agent_config = load_from_yaml_file('/Users/lukasvoss/Documents/Master Wirtschaftsphysik/Masterarbeit Yale-NUS CQT/Quantum_Optimal_Control/template_configurations/agent_config.yaml')\n",
    "    train_agent = make_train_ppo(agent_config, q_env)\n",
    "    training_results = train_agent(total_updates=597, print_debug=False, num_prints=100)\n",
    "    training_results['total_shots'] = q_env.total_shots\n",
    "    store_results_one_param_config[seed] = training_results"
   ]
  },
  {
   "cell_type": "code",
   "execution_count": null,
   "metadata": {},
   "outputs": [],
   "source": [
    "file_name = f'multi_seed_results_phi-{phi}_gamma-{gamma}.pickle'\n",
    "saving_dir = os.path.join('multi_seed_results_restrict_actionspace', file_name)"
   ]
  },
  {
   "cell_type": "code",
   "execution_count": null,
   "metadata": {},
   "outputs": [],
   "source": [
    "with open(saving_dir, 'wb') as handle:\n",
    "    pickle.dump(store_results_one_param_config, handle, protocol=pickle.HIGHEST_PROTOCOL)"
   ]
  }
 ],
 "metadata": {
  "kernelspec": {
   "display_name": "cqt_env",
   "language": "python",
   "name": "python3"
  },
  "language_info": {
   "codemirror_mode": {
    "name": "ipython",
    "version": 3
   },
   "file_extension": ".py",
   "mimetype": "text/x-python",
   "name": "python",
   "nbconvert_exporter": "python",
   "pygments_lexer": "ipython3",
   "version": "3.11.5"
  }
 },
 "nbformat": 4,
 "nbformat_minor": 2
}

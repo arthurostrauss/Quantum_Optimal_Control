{
 "cells": [
  {
   "cell_type": "code",
   "execution_count": 7,
   "metadata": {},
   "outputs": [],
   "source": [
    "import numpy as np\n",
    "from qiskit.circuit import QuantumCircuit\n",
    "from qiskit.circuit.library import RXGate, CRXGate\n",
    "from qiskit_aer.noise.passes.local_noise_pass import LocalNoisePass"
   ]
  },
  {
   "cell_type": "code",
   "execution_count": 10,
   "metadata": {},
   "outputs": [
    {
     "data": {
      "image/png": "[encoded data removed]",
      "text/plain": [
       "<Figure size 370.906x200.667 with 1 Axes>"
      ]
     },
     "execution_count": 10,
     "metadata": {},
     "output_type": "execute_result"
    }
   ],
   "source": [
    "import numpy as np\n",
    "from qiskit.circuit import QuantumCircuit\n",
    "from qiskit.circuit.library import RXGate, CRXGate\n",
    "from qiskit_aer.noise.passes.local_noise_pass import LocalNoisePass\n",
    "\n",
    "# Parameters\n",
    "phi = np.pi / 4\n",
    "theta = np.pi / 4\n",
    "gamma = 0.01\n",
    "\n",
    "# Arbitrary circuit with one gate that we like to bind noise to\n",
    "qc = QuantumCircuit(2)\n",
    "qc.rx(phi, 0)\n",
    "qc.cx(0, 1)\n",
    "qc.rx(theta, 1)\n",
    "\n",
    "# Define custom gate-specific (noise) instruction\n",
    "def custom_crx_noise(instr, qubits):\n",
    "    qc_noise = QuantumCircuit(len(qubits), name=\"custom_crx_noise\")\n",
    "    qc_noise.append(instr, qubits)\n",
    "    custom_crx_noise = qc_noise.to_instruction()\n",
    "\n",
    "    return custom_crx_noise\n",
    "\n",
    "# We intend to bind/append our custom_crx_noise callable to the first-appearing RX gate (qubit 0)\n",
    "local_noise_pass = LocalNoisePass(custom_crx_noise(CRXGate(gamma*phi), [0, 1]), [RXGate])\n"
   ]
  },
  {
   "cell_type": "code",
   "execution_count": 13,
   "metadata": {},
   "outputs": [],
   "source": [
    "# Define custom gate-specific (noise) instruction\n",
    "def custom_crx_noise(instr, qubits):\n",
    "    qc_noise = QuantumCircuit(len(qubits), name=\"custom_crx_noise\")\n",
    "    qc_noise.append(instr, qubits)\n",
    "    custom_crx_noise = qc_noise.to_instruction()\n",
    "\n",
    "    return custom_crx_noise\n",
    "\n",
    "# We intend to bind/append our custom_crx_noise callable to the first-appearing RX gate (qubit 0)\n",
    "local_noise_pass = LocalNoisePass(custom_crx_noise(CRXGate(gamma*phi), [0, 1]), [RXGate])\n"
   ]
  },
  {
   "cell_type": "code",
   "execution_count": 15,
   "metadata": {},
   "outputs": [
    {
     "ename": "AttributeError",
     "evalue": "'QuantumCircuit' object has no attribute 'topological_op_nodes'",
     "output_type": "error",
     "traceback": [
      "\u001b[0;31m---------------------------------------------------------------------------\u001b[0m",
      "\u001b[0;31mAttributeError\u001b[0m                            Traceback (most recent call last)",
      "Cell \u001b[0;32mIn[15], line 1\u001b[0m\n\u001b[0;32m----> 1\u001b[0m local_noise_pass\u001b[39m.\u001b[39;49mrun(qc)\n",
      "File \u001b[0;32m~/Documents/Master Wirtschaftsphysik/Masterarbeit Yale-NUS CQT/Quantum_Optimal_Control/venv_qiskit10/lib/python3.11/site-packages/qiskit_aer/noise/passes/local_noise_pass.py:98\u001b[0m, in \u001b[0;36mLocalNoisePass.run\u001b[0;34m(self, dag)\u001b[0m\n\u001b[1;32m     89\u001b[0m \u001b[39m\u001b[39m\u001b[39m\"\"\"Run the LocalNoisePass pass on `dag`.\u001b[39;00m\n\u001b[1;32m     90\u001b[0m \u001b[39mArgs:\u001b[39;00m\n\u001b[1;32m     91\u001b[0m \u001b[39m    dag: DAG to be changed.\u001b[39;00m\n\u001b[0;32m   (...)\u001b[0m\n\u001b[1;32m     95\u001b[0m \u001b[39m    TranspilerError: if generated operation is not valid.\u001b[39;00m\n\u001b[1;32m     96\u001b[0m \u001b[39m\"\"\"\u001b[39;00m\n\u001b[1;32m     97\u001b[0m qubit_indices \u001b[39m=\u001b[39m {qubit: idx \u001b[39mfor\u001b[39;00m idx, qubit \u001b[39min\u001b[39;00m \u001b[39menumerate\u001b[39m(dag\u001b[39m.\u001b[39mqubits)}\n\u001b[0;32m---> 98\u001b[0m \u001b[39mfor\u001b[39;00m node \u001b[39min\u001b[39;00m dag\u001b[39m.\u001b[39;49mtopological_op_nodes():\n\u001b[1;32m     99\u001b[0m     \u001b[39mif\u001b[39;00m \u001b[39mself\u001b[39m\u001b[39m.\u001b[39m_ops \u001b[39mand\u001b[39;00m \u001b[39mnot\u001b[39;00m \u001b[39misinstance\u001b[39m(node\u001b[39m.\u001b[39mop, \u001b[39mself\u001b[39m\u001b[39m.\u001b[39m_ops):\n\u001b[1;32m    100\u001b[0m         \u001b[39mcontinue\u001b[39;00m\n",
      "\u001b[0;31mAttributeError\u001b[0m: 'QuantumCircuit' object has no attribute 'topological_op_nodes'"
     ]
    }
   ],
   "source": [
    "local_noise_pass.run(qc)"
   ]
  }
 ],
 "metadata": {
  "kernelspec": {
   "display_name": "venv_qiskit10",
   "language": "python",
   "name": "python3"
  },
  "language_info": {
   "codemirror_mode": {
    "name": "ipython",
    "version": 3
   },
   "file_extension": ".py",
   "mimetype": "text/x-python",
   "name": "python",
   "nbconvert_exporter": "python",
   "pygments_lexer": "ipython3",
   "version": "3.11.5"
  },
  "orig_nbformat": 4
 },
 "nbformat": 4,
 "nbformat_minor": 2
}

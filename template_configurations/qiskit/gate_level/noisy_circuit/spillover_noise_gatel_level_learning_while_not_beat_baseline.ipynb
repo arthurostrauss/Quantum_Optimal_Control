{
 "cells": [
  {
   "attachments": {},
   "cell_type": "markdown",
   "metadata": {},
   "source": [
    "### Investigation: RX($\\phi$) with correlated CRX($\\gamma \\phi$) noise on the circuit-level with ideal hyperparameters"
   ]
  },
  {
   "cell_type": "code",
   "execution_count": 1,
   "metadata": {
    "ExecuteTime": {
     "end_time": "2024-03-17T08:40:14.927338Z",
     "start_time": "2024-03-17T08:40:09.663676Z"
    }
   },
   "outputs": [
    {
     "name": "stderr",
     "output_type": "stream",
     "text": [
      "/Users/lukasvoss/Documents/Master Wirtschaftsphysik/Masterarbeit Yale-NUS CQT/Quantum_Optimal_Control/venv_qiskit10/lib/python3.11/site-packages/tqdm/auto.py:21: TqdmWarning: IProgress not found. Please update jupyter and ipywidgets. See https://ipywidgets.readthedocs.io/en/stable/user_install.html\n",
      "  from .autonotebook import tqdm as notebook_tqdm\n"
     ]
    },
    {
     "name": "stdout",
     "output_type": "stream",
     "text": [
      "\n",
      " NoiseModel:\n",
      "  Basis gates: ['cx', 'id', 'rz', 'sx', 'unitary']\n",
      "  Instructions with noise: ['custom_kron(rx,ident)_gate']\n",
      "  Qubits with noise: [0, 1]\n",
      "  Specific qubit errors: [('custom_kron(rx,ident)_gate', (0, 1))] \n",
      "\n",
      "Circuit context\n",
      "     ┌─────────────────────────────┐     \n",
      "q_0: ┤0                            ├──■──\n",
      "     │  custom_kron(rx,ident)_gate │┌─┴─┐\n",
      "q_1: ┤1                            ├┤ X ├\n",
      "     └─────────────────────────────┘└───┘\n"
     ]
    },
    {
     "name": "stderr",
     "output_type": "stream",
     "text": [
      "/Users/lukasvoss/Documents/Master Wirtschaftsphysik/Masterarbeit Yale-NUS CQT/Quantum_Optimal_Control/venv_qiskit10/lib/python3.11/site-packages/numpy/linalg/linalg.py:2180: RuntimeWarning: divide by zero encountered in det\n",
      "  r = _umath_linalg.det(a, signature=signature)\n",
      "/Users/lukasvoss/Documents/Master Wirtschaftsphysik/Masterarbeit Yale-NUS CQT/Quantum_Optimal_Control/venv_qiskit10/lib/python3.11/site-packages/numpy/linalg/linalg.py:2180: RuntimeWarning: invalid value encountered in det\n",
      "  r = _umath_linalg.det(a, signature=signature)\n"
     ]
    }
   ],
   "source": [
    "import sys\n",
    "import os\n",
    "import numpy as np\n",
    "import pickle\n",
    "import matplotlib.pyplot as plt\n",
    "\n",
    "os.environ[\"KMP_DUPLICATE_LIB_OK\"] = \"True\"\n",
    "module_path = os.path.abspath(\n",
    "    os.path.join(\n",
    "        \"/Users/lukasvoss/Documents/Master Wirtschaftsphysik/Masterarbeit Yale-NUS CQT/Quantum_Optimal_Control\"\n",
    "    )\n",
    ")\n",
    "if module_path not in sys.path:\n",
    "    sys.path.append(module_path)\n",
    "\n",
    "from correlated_noise_q_env_config import (\n",
    "    q_env_config as gate_q_env_config,\n",
    "    circuit_context,\n",
    "    circuit_gate_times,\n",
    "    phi,\n",
    "    gamma\n",
    ")\n",
    "from quantumenvironment import QuantumEnvironment\n",
    "from context_aware_quantum_environment import ContextAwareQuantumEnvironment\n",
    "from helper_functions import load_from_yaml_file\n",
    "from gymnasium.spaces import Box\n",
    "from gymnasium.wrappers import RescaleAction, ClipAction\n",
    "from helper_functions import get_baseline_fid_from_phi_gamma\n",
    "\n",
    "\n",
    "import logging\n",
    "\n",
    "logging.basicConfig(\n",
    "    level=logging.WARNING,\n",
    "    format=\"%(asctime)s INFO %(message)s\",  # hardcoded INFO level\n",
    "    datefmt=\"%Y-%m-%d %H:%M:%S\",\n",
    "    stream=sys.stdout,\n",
    ")"
   ]
  },
  {
   "cell_type": "code",
   "execution_count": 2,
   "metadata": {},
   "outputs": [
    {
     "data": {
      "text/plain": [
       "Box(-3.14, 3.14, (7,), float32)"
      ]
     },
     "execution_count": 2,
     "metadata": {},
     "output_type": "execute_result"
    }
   ],
   "source": [
    "gate_q_env_config.action_space"
   ]
  },
  {
   "cell_type": "code",
   "execution_count": 3,
   "metadata": {},
   "outputs": [
    {
     "name": "stderr",
     "output_type": "stream",
     "text": [
      "/Users/lukasvoss/Documents/Master Wirtschaftsphysik/Masterarbeit Yale-NUS CQT/Quantum_Optimal_Control/venv_qiskit10/lib/python3.11/site-packages/qiskit_ibm_runtime/session.py:156: UserWarning: Session is not supported in local testing mode or when using a simulator.\n",
      "  warnings.warn(\n"
     ]
    }
   ],
   "source": [
    "q_env = ContextAwareQuantumEnvironment(gate_q_env_config, circuit_context)\n",
    "q_env = ClipAction(q_env)\n",
    "q_env = RescaleAction(q_env, -1.0, 1.0)"
   ]
  },
  {
   "cell_type": "code",
   "execution_count": 4,
   "metadata": {},
   "outputs": [
    {
     "data": {
      "text/plain": [
       "Box(-1.0, 1.0, (7,), float32)"
      ]
     },
     "execution_count": 4,
     "metadata": {},
     "output_type": "execute_result"
    }
   ],
   "source": [
    "q_env.action_space"
   ]
  },
  {
   "cell_type": "code",
   "execution_count": 5,
   "metadata": {},
   "outputs": [
    {
     "data": {
      "text/plain": [
       "AerSimulator('aer_simulator'\n",
       "             noise_model=<NoiseModel on ['custom_kron(rx,ident)_gate']>)"
      ]
     },
     "execution_count": 5,
     "metadata": {},
     "output_type": "execute_result"
    }
   ],
   "source": [
    "q_env.unwrapped.backend"
   ]
  },
  {
   "cell_type": "code",
   "execution_count": 6,
   "metadata": {},
   "outputs": [
    {
     "name": "stderr",
     "output_type": "stream",
     "text": [
      "/Users/lukasvoss/Documents/Master Wirtschaftsphysik/Masterarbeit Yale-NUS CQT/Quantum_Optimal_Control/venv_qiskit10/lib/python3.11/site-packages/gymnasium/core.py:311: UserWarning: \u001b[33mWARN: env.circuit_truncations to get variables from other wrappers is deprecated and will be removed in v1.0, to get this variable you can do `env.unwrapped.circuit_truncations` for environment variables or `env.get_wrapper_attr('circuit_truncations')` that will search the reminding wrappers.\u001b[0m\n",
      "  logger.warn(\n"
     ]
    },
    {
     "data": {
      "image/png": "[encoded data removed]",
      "text/plain": [
       "<Figure size 1062.24x200.667 with 1 Axes>"
      ]
     },
     "execution_count": 6,
     "metadata": {},
     "output_type": "execute_result"
    }
   ],
   "source": [
    "q_env.circuit_truncations[0].draw(\"mpl\")"
   ]
  },
  {
   "cell_type": "code",
   "execution_count": 7,
   "metadata": {},
   "outputs": [
    {
     "name": "stderr",
     "output_type": "stream",
     "text": [
      "/Users/lukasvoss/Documents/Master Wirtschaftsphysik/Masterarbeit Yale-NUS CQT/Quantum_Optimal_Control/venv_qiskit10/lib/python3.11/site-packages/gymnasium/core.py:311: UserWarning: \u001b[33mWARN: env.baseline_truncations to get variables from other wrappers is deprecated and will be removed in v1.0, to get this variable you can do `env.unwrapped.baseline_truncations` for environment variables or `env.get_wrapper_attr('baseline_truncations')` that will search the reminding wrappers.\u001b[0m\n",
      "  logger.warn(\n"
     ]
    },
    {
     "data": {
      "image/png": "[encoded data removed]",
      "text/plain": [
       "<Figure size 644.181x200.667 with 1 Axes>"
      ]
     },
     "execution_count": 7,
     "metadata": {},
     "output_type": "execute_result"
    }
   ],
   "source": [
    "q_env.baseline_truncations[0].draw(\"mpl\")"
   ]
  },
  {
   "attachments": {},
   "cell_type": "markdown",
   "metadata": {},
   "source": [
    "##### Baseline-Gate Fidelities with respective noise applied"
   ]
  },
  {
   "cell_type": "code",
   "execution_count": 8,
   "metadata": {},
   "outputs": [
    {
     "name": "stdout",
     "output_type": "stream",
     "text": [
      "phi = 0.25pi; gamma = 0.02\n"
     ]
    }
   ],
   "source": [
    "print(f'phi = {phi/np.pi}pi; gamma = {gamma}')"
   ]
  },
  {
   "cell_type": "code",
   "execution_count": 9,
   "metadata": {},
   "outputs": [
    {
     "data": {
      "text/plain": [
       "0.015707963267948967"
      ]
     },
     "execution_count": 9,
     "metadata": {},
     "output_type": "execute_result"
    }
   ],
   "source": [
    "gamma * phi"
   ]
  },
  {
   "cell_type": "code",
   "execution_count": 10,
   "metadata": {},
   "outputs": [
    {
     "data": {
      "text/plain": [
       "0.9999383162408302"
      ]
     },
     "execution_count": 10,
     "metadata": {},
     "output_type": "execute_result"
    }
   ],
   "source": [
    "baseline_fidelity = get_baseline_fid_from_phi_gamma((phi, gamma))\n",
    "baseline_fidelity"
   ]
  },
  {
   "cell_type": "code",
   "execution_count": 11,
   "metadata": {},
   "outputs": [],
   "source": [
    "from ppo_while_not_met_baseline import make_train_ppo\n",
    "from itertools import product\n",
    "import math"
   ]
  },
  {
   "cell_type": "code",
   "execution_count": 12,
   "metadata": {},
   "outputs": [],
   "source": [
    "def get_min_and_max_N_REPS(target_fidelities, phi_gamma_tuple):\n",
    "    baseline_fidelity = get_baseline_fid_from_phi_gamma(phi_gamma_tuple)\n",
    "    min_n_reps = math.ceil(math.log(min(target_fidelities), baseline_fidelity))\n",
    "    # Ensure that the number of repetitions is not too large in order to not exceed the rotation of pi (due to the periodicity of the Bloch sphere)\n",
    "    while min_n_reps * np.prod(phi_gamma_tuple) > np.pi:\n",
    "        min_n_reps -= 1\n",
    "\n",
    "    max_n_reps = 0\n",
    "    while max_n_reps * np.prod(phi_gamma_tuple) < np.pi:\n",
    "        max_n_reps += 1\n",
    "    return (min_n_reps, max_n_reps)"
   ]
  },
  {
   "cell_type": "code",
   "execution_count": 13,
   "metadata": {},
   "outputs": [
    {
     "data": {
      "text/plain": [
       "17"
      ]
     },
     "execution_count": 13,
     "metadata": {},
     "output_type": "execute_result"
    }
   ],
   "source": [
    "max_runtime = 1_200\n",
    "lookback_window = 10\n",
    "\n",
    "target_fidelities = [0.999, 0.9999, 0.99999]\n",
    "\n",
    "min_n_reps, max_n_reps = get_min_and_max_N_REPS(target_fidelities, phi_gamma_tuple=(phi, gamma))\n",
    "min_n_reps"
   ]
  },
  {
   "cell_type": "code",
   "execution_count": 14,
   "metadata": {},
   "outputs": [
    {
     "data": {
      "text/plain": [
       "200"
      ]
     },
     "execution_count": 14,
     "metadata": {},
     "output_type": "execute_result"
    }
   ],
   "source": [
    "max_n_reps"
   ]
  },
  {
   "cell_type": "code",
   "execution_count": 15,
   "metadata": {},
   "outputs": [
    {
     "data": {
      "text/plain": [
       "1"
      ]
     },
     "execution_count": 15,
     "metadata": {},
     "output_type": "execute_result"
    }
   ],
   "source": [
    "# q_env.unwrapped.n_reps = 5 # int(max_n_reps / 8)\n",
    "q_env.unwrapped.n_reps"
   ]
  },
  {
   "cell_type": "code",
   "execution_count": 16,
   "metadata": {},
   "outputs": [
    {
     "data": {
      "image/png": "[encoded data removed]",
      "text/plain": [
       "<Figure size 640x480 with 1 Axes>"
      ]
     },
     "metadata": {},
     "output_type": "display_data"
    },
    {
     "name": "stdout",
     "output_type": "stream",
     "text": [
      "probabilities renormalized\n",
      "Fidelity stored 0.9865652420081867\n",
      "Sending Estimator job...\n",
      "SparsePauliOp(['II', 'IZ', 'XY', 'YI', 'YZ', 'ZX'],\n",
      "              coeffs=[ 1.        +0.j,  1.41421356+0.j, -1.41421356+0.j,  1.41421356+0.j,\n",
      "  1.        +0.j,  1.41421356+0.j])\n",
      "Finished Estimator job\n",
      "mean tensor([ 0.0066, -0.3501,  0.3872, -0.0115,  0.0273, -0.0089, -0.0227])\n",
      "sigma tensor([0.0317, 0.0322, 0.0220, 0.0284, 0.0281, 0.0308, 0.0205])\n",
      "DFE Rewards Mean: 0.986547034578292\n",
      "DFE Rewards standard dev 0.031443680696061065\n",
      "Returns Mean: 7.1156955\n",
      "Returns standard dev: 4.731619\n",
      "Advantages Mean: -0.11156306\n",
      "Advantages standard dev 4.7316194\n",
      "Total Updates applied: 461\n",
      "Total Shots applied: 53,376,000\n",
      "probabilities renormalized\n",
      "Fidelity stored 0.9918225219000305\n",
      "Sending Estimator job...\n",
      "SparsePauliOp(['II', 'XX', 'YZ', 'ZY'],\n",
      "              coeffs=[1.+0.j, 1.+0.j, 1.+0.j, 1.+0.j])\n",
      "Finished Estimator job\n",
      "mean tensor([-0.0099, -0.3602,  0.3684, -0.0035,  0.0035, -0.0269, -0.0194])\n",
      "sigma tensor([0.0257, 0.0290, 0.0212, 0.0255, 0.0287, 0.0271, 0.0194])\n",
      "DFE Rewards Mean: 0.9881893382352945\n",
      "DFE Rewards standard dev 0.009351893629044863\n",
      "Returns Mean: 5.2464676\n",
      "Returns standard dev: 2.4026864\n",
      "Advantages Mean: -1.7658451\n",
      "Advantages standard dev 2.4026864\n",
      "Total Updates applied: 462\n",
      "Total Shots applied: 53,544,960\n",
      "2024-04-16 13:20:24 INFO Target fidelity 0.999 not achieved within max runtime.\n",
      "2024-04-16 13:20:24 INFO Target fidelity 0.9999 not achieved within max runtime.\n",
      "2024-04-16 13:20:24 INFO Target fidelity 0.99999 not achieved within max runtime.\n"
     ]
    }
   ],
   "source": [
    "agent_config = load_from_yaml_file('/Users/lukasvoss/Documents/Master Wirtschaftsphysik/Masterarbeit Yale-NUS CQT/Quantum_Optimal_Control/template_configurations/agent_config.yaml')\n",
    "\n",
    "train_agent = make_train_ppo(agent_config, q_env)\n",
    "\n",
    "training_results = train_agent(\n",
    "    target_fidelities=target_fidelities, \n",
    "    lookback_window=lookback_window,\n",
    "    plot_real_time=True,\n",
    "    std_actions_eps=1e-3,\n",
    "    max_runtime=max_runtime,\n",
    "    print_debug=True,\n",
    "    num_prints=5\n",
    ")"
   ]
  },
  {
   "cell_type": "code",
   "execution_count": null,
   "metadata": {},
   "outputs": [],
   "source": []
  },
  {
   "cell_type": "code",
   "execution_count": 17,
   "metadata": {},
   "outputs": [
    {
     "data": {
      "text/plain": [
       "0.9961246629311938"
      ]
     },
     "execution_count": 17,
     "metadata": {},
     "output_type": "execute_result"
    }
   ],
   "source": [
    "max(training_results['fidelity_history'])"
   ]
  },
  {
   "cell_type": "code",
   "execution_count": 18,
   "metadata": {},
   "outputs": [
    {
     "data": {
      "text/plain": [
       "-0.06385966204106808"
      ]
     },
     "execution_count": 18,
     "metadata": {},
     "output_type": "execute_result"
    }
   ],
   "source": [
    "q_env.unwrapped.optimal_action[3]"
   ]
  },
  {
   "cell_type": "code",
   "execution_count": 19,
   "metadata": {},
   "outputs": [
    {
     "data": {
      "text/plain": [
       "0.015707963267948967"
      ]
     },
     "execution_count": 19,
     "metadata": {},
     "output_type": "execute_result"
    }
   ],
   "source": [
    "gamma * phi"
   ]
  },
  {
   "cell_type": "code",
   "execution_count": 20,
   "metadata": {},
   "outputs": [
    {
     "name": "stdout",
     "output_type": "stream",
     "text": [
      "Final Fidelity: 0.9918225219000305\n"
     ]
    },
    {
     "data": {
      "text/plain": [
       "[<matplotlib.lines.Line2D at 0x39a07b690>]"
      ]
     },
     "execution_count": 20,
     "metadata": {},
     "output_type": "execute_result"
    },
    {
     "data": {
      "image/png": "[encoded data removed]",
      "text/plain": [
       "<Figure size 640x480 with 1 Axes>"
      ]
     },
     "metadata": {},
     "output_type": "display_data"
    }
   ],
   "source": [
    "print('Final Fidelity:', training_results['fidelity_history'][-1])\n",
    "plt.plot(training_results['fidelity_history'])"
   ]
  },
  {
   "cell_type": "code",
   "execution_count": 21,
   "metadata": {},
   "outputs": [
    {
     "data": {
      "text/plain": [
       "array([ 0.00336057, -1.14588245,  1.11305944, -0.06385966,  0.01841897,\n",
       "       -0.09910262,  0.06587915])"
      ]
     },
     "execution_count": 21,
     "metadata": {},
     "output_type": "execute_result"
    }
   ],
   "source": [
    "training_results['best_action_vector']"
   ]
  },
  {
   "cell_type": "code",
   "execution_count": 22,
   "metadata": {},
   "outputs": [
    {
     "data": {
      "text/plain": [
       "{0.999: {'achieved': False,\n",
       "  'update_at': None,\n",
       "  'train_time': None,\n",
       "  'shots_used': None},\n",
       " 0.9999: {'achieved': False,\n",
       "  'update_at': None,\n",
       "  'train_time': None,\n",
       "  'shots_used': None},\n",
       " 0.99999: {'achieved': False,\n",
       "  'update_at': None,\n",
       "  'train_time': None,\n",
       "  'shots_used': None}}"
      ]
     },
     "execution_count": 22,
     "metadata": {},
     "output_type": "execute_result"
    }
   ],
   "source": [
    "training_results['fidelity_info']"
   ]
  },
  {
   "cell_type": "code",
   "execution_count": 23,
   "metadata": {},
   "outputs": [
    {
     "data": {
      "text/plain": [
       "0.9961246629311938"
      ]
     },
     "execution_count": 23,
     "metadata": {},
     "output_type": "execute_result"
    }
   ],
   "source": [
    "max(training_results['fidelity_history'])"
   ]
  },
  {
   "cell_type": "code",
   "execution_count": 24,
   "metadata": {},
   "outputs": [
    {
     "data": {
      "text/plain": [
       "53544960"
      ]
     },
     "execution_count": 24,
     "metadata": {},
     "output_type": "execute_result"
    }
   ],
   "source": [
    "sum(training_results['total_shots'])"
   ]
  },
  {
   "cell_type": "code",
   "execution_count": 25,
   "metadata": {},
   "outputs": [
    {
     "ename": "KeyError",
     "evalue": "'exceeded_baseline_fidelity'",
     "output_type": "error",
     "traceback": [
      "\u001b[0;31m---------------------------------------------------------------------------\u001b[0m",
      "\u001b[0;31mKeyError\u001b[0m                                  Traceback (most recent call last)",
      "Cell \u001b[0;32mIn[25], line 1\u001b[0m\n\u001b[0;32m----> 1\u001b[0m \u001b[38;5;28;01mif\u001b[39;00m \u001b[43mtraining_results\u001b[49m\u001b[43m[\u001b[49m\u001b[38;5;124;43m'\u001b[39;49m\u001b[38;5;124;43mexceeded_baseline_fidelity\u001b[39;49m\u001b[38;5;124;43m'\u001b[39;49m\u001b[43m]\u001b[49m:\n\u001b[1;32m      3\u001b[0m     file_name \u001b[38;5;241m=\u001b[39m \u001b[38;5;124mf\u001b[39m\u001b[38;5;124m'\u001b[39m\u001b[38;5;124mtraining_results_with_beaten_baseline_phi_\u001b[39m\u001b[38;5;132;01m{\u001b[39;00mphi_file_name_mapping[phi]\u001b[38;5;132;01m}\u001b[39;00m\u001b[38;5;124m_gamma_\u001b[39m\u001b[38;5;132;01m{\u001b[39;00mgamma\u001b[38;5;132;01m}\u001b[39;00m\u001b[38;5;124m.pickle\u001b[39m\u001b[38;5;124m'\u001b[39m\n\u001b[1;32m      4\u001b[0m     dir_name \u001b[38;5;241m=\u001b[39m \u001b[38;5;124mf\u001b[39m\u001b[38;5;124m'\u001b[39m\u001b[38;5;124mexceeded_gate_baseline_fidelity_results_max\u001b[39m\u001b[38;5;132;01m{\u001b[39;00m\u001b[38;5;28mround\u001b[39m(max_runtime\u001b[38;5;241m/\u001b[39m\u001b[38;5;241m60\u001b[39m,\u001b[38;5;250m \u001b[39m\u001b[38;5;241m0\u001b[39m)\u001b[38;5;132;01m}\u001b[39;00m\u001b[38;5;124mmin\u001b[39m\u001b[38;5;124m'\u001b[39m\n",
      "\u001b[0;31mKeyError\u001b[0m: 'exceeded_baseline_fidelity'"
     ]
    }
   ],
   "source": [
    "if training_results['exceeded_baseline_fidelity']:\n",
    "\n",
    "    file_name = f'training_results_with_beaten_baseline_phi_{phi_file_name_mapping[phi]}_gamma_{gamma}.pickle'\n",
    "    dir_name = f'exceeded_gate_baseline_fidelity_results_max{round(max_runtime/60, 0)}min'\n",
    "    comb_path = os.path.join(dir_name, file_name)\n",
    "\n",
    "    if not os.path.exists(dir_name):\n",
    "        os.makedirs(dir_name)\n",
    "\n",
    "    with open(comb_path, 'wb') as handle:\n",
    "        pickle.dump(training_results, handle, protocol=pickle.HIGHEST_PROTOCOL)"
   ]
  }
 ],
 "metadata": {
  "kernelspec": {
   "display_name": "cqt_env",
   "language": "python",
   "name": "python3"
  },
  "language_info": {
   "codemirror_mode": {
    "name": "ipython",
    "version": 3
   },
   "file_extension": ".py",
   "mimetype": "text/x-python",
   "name": "python",
   "nbconvert_exporter": "python",
   "pygments_lexer": "ipython3",
   "version": "3.11.5"
  }
 },
 "nbformat": 4,
 "nbformat_minor": 2
}

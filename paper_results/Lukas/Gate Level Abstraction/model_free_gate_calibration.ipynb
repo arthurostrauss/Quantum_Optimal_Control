{
 "cells": [
  {
   "attachments": {},
   "cell_type": "markdown",
   "id": "24ddfaf2-e5a9-48ab-bf1f-e297b2d0d4ba",
   "metadata": {},
   "source": [
    "# Quantum Gate calibration using Model Free Reinforcement Learning\n",
    "\n",
    "We extend the state preparation scheme to a gate calibration scheme by providing multiple input states to the target."
   ]
  },
  {
   "cell_type": "code",
   "execution_count": 792,
   "id": "87f43da7-a9a7-452f-a5e8-0c0145a29d24",
   "metadata": {},
   "outputs": [],
   "source": [
    "import numpy as np\n",
    "import matplotlib.pyplot as plt\n",
    "import json\n",
    "from itertools import product\n",
    "import os\n",
    "import sys\n",
    "from tqdm import tqdm\n",
    "from IPython.display import clear_output\n",
    "from time import sleep\n",
    "from typing import Optional, Tuple, List, Union, Dict, Sequence\n",
    "\n",
    "module_path = os.path.abspath(os.path.join('/Users/lukasvoss/Documents/Master Wirtschaftsphysik/Masterarbeit Yale-NUS CQT/Quantum_Optimal_Control'))\n",
    "if module_path not in sys.path:\n",
    "    sys.path.append(module_path)\n",
    "from quantumenvironment import QuantumEnvironment\n",
    "from helper_functions import perform_standard_calibrations\n",
    "\n",
    "from qiskit.providers.fake_provider.fake_backend import FakeBackend, FakeBackendV2\n",
    "# Qiskit Quantum Information, for fidelity benchmarking\n",
    "from qiskit.quantum_info.operators import SparsePauliOp, Operator, pauli_basis\n",
    "from qiskit.quantum_info.operators.measures import average_gate_fidelity, state_fidelity, process_fidelity\n",
    "from qiskit.quantum_info.states import DensityMatrix, Statevector\n",
    "from qiskit.transpiler import Layout\n",
    "from qiskit_aer.backends.aerbackend import AerBackend\n",
    "from qiskit_aer.primitives import Estimator as Aer_Estimator\n",
    "# Qiskit dynamics for pulse simulation (& benchmarking)\n",
    "from qiskit_dynamics import DynamicsBackend, Solver\n",
    "from qiskit_dynamics.array import Array, wrap\n",
    "from qiskit_dynamics.models import HamiltonianModel\n",
    "# Qiskit Experiments for generating reliable baseline for complex gate calibrations / state preparations\n",
    "from qiskit_experiments.framework import BatchExperiment\n",
    "from qiskit_experiments.library import ProcessTomography\n",
    "from qiskit_experiments.library.tomography.basis import PauliPreparationBasis  # , Pauli6PreparationBasis\n",
    "from qiskit_ibm_runtime import Estimator as Runtime_Estimator, IBMBackend as Runtime_Backend, Options, Session\n",
    "\n",
    "# Qiskit imports for building RL environment (circuit level)\n",
    "from qiskit.circuit import ParameterVector, QuantumCircuit\n",
    "from qiskit.extensions import CXGate, XGate\n",
    "from qiskit.opflow import Zero, One, Plus, Minus, H, I, X, CX, S, Z\n",
    "from qiskit_ibm_runtime import QiskitRuntimeService, Estimator\n",
    "\n",
    "import torch\n",
    "import torch.nn as nn\n",
    "import torch.nn.functional as F\n",
    "from torchsummary import summary\n",
    "import torch.optim as optim\n",
    "from torch.distributions import MultivariateNormal"
   ]
  },
  {
   "cell_type": "code",
   "execution_count": 793,
   "id": "dbd14e3c",
   "metadata": {},
   "outputs": [
    {
     "data": {
      "text/plain": [
       "'\\n\\n\"\"\\nClass to generate a RL environment suitable for usage with PyTorch agents, leveraging Qiskit modules to simulate\\nquantum system (could also include QUA code in the future)\\n\\nAuthor: Arthur Strauss\\nCreated on 28/11/2022\\n\"\"\\n\\n# For compatibility for options formatting between Estimators.\\nimport json\\nfrom itertools import product\\nfrom typing import Dict, Union, Optional, List, Callable\\n\\nimport numpy as np\\n# Qiskit imports\\nfrom qiskit import pulse, schedule\\nfrom qiskit.circuit import QuantumCircuit, QuantumRegister, Gate, CircuitInstruction\\n# Qiskit Estimator Primitives: for computing Pauli expectation value sampling easily\\nfrom qiskit.primitives import BaseEstimator, Estimator, BackendEstimator\\n# Qiskit backends\\nfrom qiskit.providers import BackendV1, BackendV2\\nfrom qiskit.providers.fake_provider.fake_backend import FakeBackend, FakeBackendV2\\n# Qiskit Quantum Information, for fidelity benchmarking\\nfrom qiskit.quantum_info.operators import SparsePauliOp, Operator, pauli_basis\\nfrom qiskit.quantum_info.operators.measures import average_gate_fidelity, state_fidelity, process_fidelity\\nfrom qiskit.quantum_info.states import DensityMatrix, Statevector\\nfrom qiskit.transpiler import Layout\\nfrom qiskit_aer.backends.aerbackend import AerBackend\\nfrom qiskit_aer.primitives import Estimator as Aer_Estimator\\n# Qiskit dynamics for pulse simulation (& benchmarking)\\nfrom qiskit_dynamics import DynamicsBackend, Solver\\nfrom qiskit_dynamics.array import Array, wrap\\nfrom qiskit_dynamics.models import HamiltonianModel\\n# Qiskit Experiments for generating reliable baseline for complex gate calibrations / state preparations\\nfrom qiskit_experiments.framework import BatchExperiment\\nfrom qiskit_experiments.library import ProcessTomography\\nfrom qiskit_experiments.library.tomography.basis import PauliPreparationBasis  # , Pauli6PreparationBasis\\nfrom qiskit_ibm_runtime import Estimator as Runtime_Estimator, IBMBackend as Runtime_Backend, Options, Session\\n\\nfrom qconfig import QiskitConfig\\n\\n# from qiskit_experiments.calibration_management.basis_gate_library import FixedFrequencyTransmon, EchoedCrossResonance\\n\\n# QUA imports\\n# from qualang_tools.bakery.bakery import baking\\n# from qm.qua import *\\n# from qm.QuantumMachinesManager import QuantumMachinesManager\\n\\nEstimator_type = Union[Aer_Estimator, Runtime_Estimator, Estimator, BackendEstimator]\\nBackend_type = Union[BackendV1, BackendV2]\\n\\ndef _calculate_chi_target_state(target_state: Dict, n_qubits: int):\\n    \\n    Calculate for all P\\n    :param target_state: Dictionary containing info on target state (name, density matrix)\\n    :param n_qubits: Number of qubits\\n    :return: Target state supplemented with appropriate \"Chi\" key\\n    \\n    assert \\'dm\\' in target_state, \\'No input data for target state, provide DensityMatrix\\'\\n    d = 2 ** n_qubits\\n    Pauli_basis = pauli_basis(num_qubits=n_qubits)\\n    # Calculate the target state vector in Pauli basis\\n    target_state[\"Chi\"] = np.array([np.trace(np.array(target_state[\"dm\"].to_operator())\\n                                             @ Pauli_basis[k].to_matrix()).real\\n                                    for k in range(d ** 2)])\\n    # Real part is taken to convert it in good format,\\n    # but imaginary part is always 0. as dm is hermitian and Pauli is traceless\\n    return target_state\\n\\n\\ndef _define_target(target: Dict):\\n    if \"register\" in target:\\n        assert isinstance(target[\"register\"], (List, QuantumRegister)), \"Register should be of type List[int] \"                                                                         \"or Quantum Register\"\\n    tgt_register = target.get(\"register\", None)\\n    if isinstance(tgt_register, List):\\n        q_register = QuantumRegister(len(tgt_register))\\n        layout = Layout({q_register[i]: tgt_register[i] for i in range(len(tgt_register))})\\n    else:  # QuantumRegister or None\\n        q_register = tgt_register\\n        layout = None\\n\\n    if \\'gate\\' not in target and \\'circuit\\' not in target and \\'dm\\' not in target:\\n        raise KeyError(\"No target provided, need to have one of the following: \\'gate\\' for gate calibration,\"\\n                       \" \\'circuit\\' or \\'dm\\' for state preparation\")\\n    if (\\'gate\\' in target and \\'circuit\\' in target) or (\\'gate\\' in target and \\'dm\\' in target):\\n        raise KeyError(\"Cannot have simultaneously a gate target and a state target\")\\n    if \"circuit\" in target or \"dm\" in target:\\n        target[\"target_type\"] = \"state\"\\n        if \\'circuit\\' in target:\\n            assert isinstance(target[\"circuit\"], QuantumCircuit), \"Provided circuit is not a qiskit.QuantumCircuit \"                                                                   \"object\"\\n            target[\"dm\"] = DensityMatrix(target[\"circuit\"])\\n\\n        assert \\'dm\\' in target, \\'no DensityMatrix or circuit argument provided to target dictionary\\'\\n        assert isinstance(target[\"dm\"], DensityMatrix), \\'Provided dm is not a DensityMatrix object\\'\\n        dm: DensityMatrix = target[\"dm\"]\\n        n_qubits = dm.num_qubits\\n\\n        if q_register is None:\\n            q_register = QuantumRegister(n_qubits)\\n\\n        if layout is None:\\n            layout = Layout.generate_trivial_layout(q_register)\\n\\n        return _calculate_chi_target_state(target, n_qubits), \"state\", q_register, n_qubits, layout\\n\\n    elif \"gate\" in target:\\n        target[\"target_type\"] = \"gate\"\\n        assert isinstance(target[\"gate\"], Gate), \"Provided gate is not a qiskit.circuit.Gate operation\"\\n        gate: Gate = target[\"gate\"]\\n        n_qubits = target[\"gate\"].num_qubits\\n        if q_register is None:\\n            q_register = QuantumRegister(n_qubits)\\n        if layout is None:\\n            layout = Layout.generate_trivial_layout(q_register)\\n\\n        assert gate.num_qubits == len(q_register), f\"Target gate number of qubits ({gate.num_qubits}) \"                                                    f\"incompatible with indicated \\'register\\' ({len(tgt_register)})\"\\n        if \\'input_states\\' not in target:\\n            target[\\'input_states\\'] = [{\"circuit\": PauliPreparationBasis().circuit(s).decompose()}\\n                                      for s in product(range(4), repeat=len(tgt_register))]\\n\\n            # target[\\'input_states\\'] = [{\"dm\": Pauli6PreparationBasis().matrix(s),\\n            #                            \"circuit\": CircuitOp(Pauli6PreparationBasis().circuit(s).decompose())}\\n            #                           for s in product(range(6), repeat=len(tgt_register))]\\n\\n        for i, input_state in enumerate(target[\"input_states\"]):\\n            if \\'circuit\\' not in input_state:\\n                raise KeyError(\"\\'circuit\\' key missing in input_state\")\\n            assert isinstance(input_state[\"circuit\"], QuantumCircuit), \"Provided circuit is not a\"                                                                        \"qiskit.QuantumCircuit object\"\\n\\n            input_circuit: QuantumCircuit = input_state[\\'circuit\\']\\n            input_state[\\'dm\\'] = DensityMatrix(input_circuit)\\n\\n            state_target_circuit = QuantumCircuit(q_register)\\n            state_target_circuit.append(input_circuit.to_instruction(), q_register)\\n            state_target_circuit.append(CircuitInstruction(gate, q_register))\\n\\n            input_state[\\'target_state\\'] = {\"dm\": DensityMatrix(state_target_circuit),\\n                                           \"circuit\": state_target_circuit,\\n                                           \"target_type\": \"state\"}\\n            input_state[\\'target_state\\'] = _calculate_chi_target_state(input_state[\\'target_state\\'], n_qubits)\\n        return target, \"gate\", q_register, n_qubits, layout\\n    else:\\n        raise KeyError(\\'target type not identified, must be either gate or state\\')\\n\\n\\nclass QuantumEnvironment:\\n\\n    def __init__(self, target: Dict, abstraction_level: str = \\'circuit\\',\\n                 Qiskit_config: Optional[QiskitConfig] = None,\\n                 QUA_config: Optional[Dict] = None,\\n                 sampling_Pauli_space: int = 10, n_shots: int = 1, c_factor: float = 0.5):\\n        \"\"\\n        Class for building quantum environment for RL agent aiming to perform a state preparation task.\\n\\n        :param target: control target of interest (can be either a gate to be calibrated or a state to be prepared)\\n            Target should be a Dict containing target type (\\'gate\\' or \\'state\\') as well as necessary fields to initiate\\n            the calibration (cf. example)\\n        :param abstraction_level: Circuit or pulse level parametrization of action space\\n        :param Qiskit_config: Dictionary containing all info for running Qiskit program (i.e. service, backend,\\n            options, parametrized_circuit)\\n        :param QUA_config: Dictionary containing all info for running a QUA program\\n        :param sampling_Pauli_space: Number of samples to build fidelity estimator for one action\\n        :param n_shots: Number of shots to sample for one specific computation (action/Pauli expectation sampling)\\n        :param c_factor: Scaling factor for reward normalization\\n        \"\"\\n\\n        assert abstraction_level == \\'circuit\\' or abstraction_level == \\'pulse\\', \\'Abstraction layer can be either pulse\\'                                                                                \\' or circuit\\'\\n        self.abstraction_level: str = abstraction_level\\n        if Qiskit_config is None and QUA_config is None:\\n            raise AttributeError(\"QuantumEnvironment requires one software configuration (can be Qiskit or QUA based)\")\\n        if Qiskit_config is not None and QUA_config is not None:\\n            raise AttributeError(\"Cannot provide simultaneously a QUA setup and a Qiskit config \")\\n        elif Qiskit_config is not None:\\n            self._config_type = \"Qiskit\"\\n            self._config: Qiskit_config = Qiskit_config\\n            self.target, self.target_type, self.tgt_register, self._n_qubits, self._layout = _define_target(target)\\n\\n            self._d = 2 ** self.n_qubits\\n            self.c_factor = c_factor\\n            self.sampling_Pauli_space = sampling_Pauli_space\\n            self.n_shots = n_shots\\n            self.Pauli_ops = pauli_basis(num_qubits=self._n_qubits)\\n\\n            self.backend: Optional[Backend_type] = Qiskit_config.backend\\n            self.parametrized_circuit_func: Callable = Qiskit_config.parametrized_circuit\\n            estimator_options: Optional[Union[Options, Dict]] = Qiskit_config.estimator_options\\n\\n            if self.abstraction_level == \"circuit\":  # Either state-vector simulation (native) or AerBackend provided\\n                if isinstance(self.backend, (AerBackend, FakeBackend, FakeBackendV2)):\\n                    # Estimator taking noise model into consideration, have to provide an AerBackend\\n                    # TODO: Extract from TranspilationOptions a dict that can go in following definition\\n                    self._estimator: Estimator_type = Aer_Estimator(backend_options=self.backend.options,\\n                                                                   transpile_options={\\'initial_layout\\': self._layout},\\n                                                                   approximation=True)\\n                else:  # No backend specified, ideal state-vector simulation\\n                    self._estimator: Estimator_type = Estimator(options={\"initial_layout\": self._layout})\\n\\n            else: # Pulse level abstraction\\n                if not isinstance(self.backend, (Runtime_Backend, DynamicsBackend)):\\n                    raise TypeError(\"Backend must be either DynamicsBackend or Qiskit Runtime backend if pulse level\"\\n                                    \"abstraction is selected (Aer Pulse simulator deprecated\")\\n\\n\\n                if isinstance(self.backend, DynamicsBackend):\\n                    import jax\\n                    jit = wrap(jax.jit, decorator=True)\\n                    self._estimator: Estimator_type = BackendEstimator(self.backend, skip_transpilation= False)\\n                    self._estimator.set_transpile_options(initial_layout=self.layout)\\n                    if self.config.do_calibrations:\\n                        calibration_files: List[str] = Qiskit_config.calibration_files\\n                        self.calibrations, self.exp_results = perform_standard_calibrations(self.backend,\\n                                                                                            calibration_files)\\n                    self._benchmark_backend = self.backend\\n                else:\\n                    if hasattr(self.backend, \"configuration\"):\\n                        self._benchmark_backend = DynamicsBackend.from_backend(self.backend,\\n                                                                           subsystem_list=target[\"register\"])\\n                # For benchmarking the gate at each epoch, set tools for Pulse level simulator\\n                if Qiskit_config.solver is not None:\\n                    self.solver: Solver = Qiskit_config.solver\\n                else:\\n                    self.solver: Solver = self._benchmark_backend.options.solver  # Custom Solver\\n                # Can describe noisy channels, if none provided, pick Solver associated to DynamicsBackend by default\\n                self.model_dim, self.channel_freq  = self.solver.model.dim, Qiskit_config.channel_freq\\n                if isinstance(self.solver.model, HamiltonianModel):\\n                    self.y_0 = Array(np.eye(self.model_dim))\\n                    self.ground_state = Array(np.array([1.0] + [0.0] * (self.model_dim - 1)))\\n                else:\\n                    self.y_0 = Array(np.eye(self.model_dim ** 2))\\n                    self.ground_state = Array(np.array([1.0] + [0.0] * (self.model_dim ** 2 - 1)))\\n\\n            if isinstance(self.backend, Runtime_Backend):  # Real backend, or Simulation backend from Runtime Service\\n                self._estimator: Estimator_type = Runtime_Estimator(session=Session(self.backend.service, self.backend),\\n                                                                   options=estimator_options)\\n                if self.estimator.options.transpilation[\\'initial_layout\\'] is None:\\n                    self.estimator.options.transpilation[\\'initial_layout\\']=self._layout.get_physical_bits()\\n\\n        elif QUA_config is not None:\\n            raise AttributeError(\"QUA compatibility not yet implemented\")\\n            # self._config_type = \"QUA\"\\n            # self._config = QUA_config\\n\\n            # TODO: Add a QUA program\\n\\n        # Data storage for TF-Agents or plotting\\n        self._step_tracker = 0\\n        self.action_history = []\\n        self.density_matrix_history = []\\n        self.reward_history = []\\n        self.qc_history = []\\n        if self.target_type == \\'gate\\':\\n            self.process_fidelity_history = []\\n            self.avg_fidelity_history = []\\n            self.built_unitaries = []\\n        else:\\n            self.state_fidelity_history = []\\n\\n\\n    def perform_action(self, actions: torch.Tensor, do_benchmark: bool = True):\\n        \"\"\\n        Execute quantum circuit with parametrized amplitude, retrieve measurement result \\n        and assign rewards accordingly\\n        :param actions: action vector to execute on quantum system\\n        :param do_benchmark: Indicates if actual fidelity computation should be done on \\n        top of reward computation\\n        :return: Reward table (reward for each run in the batch)\\n        \"\"\\n\\n        qc = QuantumCircuit(self.tgt_register)\\n        parametrized_circ = QuantumCircuit(self.tgt_register)\\n        angles, batch_size = actions.numpy(), len(actions)\\n        self.action_history.append(angles)\\n\\n        if self.target_type == \\'gate\\':\\n            index = torch.randint(len(self.target[\"input_states\"]), (1,)).item()\\n            input_state = self.target[\"input_states\"][index]\\n            target_state = input_state[\"target_state\"]\\n            qc.append(input_state[\"circuit\"].to_instruction(), self.tgt_register)\\n\\n        else:  # State preparation task\\n            target_state = self.target\\n\\n        # Use PyTorch\\'s Categorical distribution instead of TensorFlow\\'s\\n        distribution = torch.distributions.Categorical(probs=torch.tensor(target_state[\"Chi\"] ** 2))\\n        k_samples = distribution.sample(sample_shape=(self.sampling_Pauli_space,))\\n        # print(\\'k samples: \\', k_samples)\\n        pauli_index, pauli_shots = torch.unique(k_samples, return_counts=True)\\n        k_samples = k_samples.numpy()\\n        #print(\\'k samples type: \\', type(k_samples))\\n        #print(\\'k samples shape: \\', k_samples.shape)\\n\\n        reward_factors_list = [self.c_factor * target_state[\"Chi\"][p] / (self._d * distribution.probs[p]) for p in pauli_index]\\n        reward_factor = torch.round(torch.tensor(reward_factors_list), decimals=5)\\n        #print(\\'reward factor: \\', reward_factor)\\n\\n        reward_factor = reward_factor.numpy() \\n        pauli_index = pauli_index.numpy()\\n\\n        #print(\\'self.Pauli_ops \\', self.Pauli_ops)\\n        #print(\\'reward_factor. \\', reward_factor)\\n        #print(\\'pauli index \\', pauli_index)\\n\\n        assert len(reward_factor) == len(pauli_index), \"Mismatched lengths\"\\n\\n        # Construct the list for SparsePauliOp\\n        observables = SparsePauliOp.from_list([(self.Pauli_ops[p].to_label(), float(r)) \\n                                               for p, r in zip(pauli_index, reward_factor)])\\n        # print(\\'observables: \\', observables)\\n\\n\\n        self.parametrized_circuit_func(parametrized_circ)\\n        qc_list = [parametrized_circ.bind_parameters(angle_set) for angle_set in angles]\\n        self.qc_history.append(qc_list)\\n\\n        if do_benchmark:\\n            self._store_benchmarks(qc_list)\\n\\n        self.parametrized_circuit_func(qc)\\n\\n        if isinstance(self.estimator, Runtime_Estimator):\\n            job = self.estimator.run(circuits=[qc] * batch_size, observables=[observables] * batch_size,\\n                                parameter_values=angles, shots=self.sampling_Pauli_space * self.n_shots,\\n                                job_tags=[f\"rl_qoc_step{self._step_tracker}\"])\\n        else:\\n            job = self.estimator.run(circuits=[qc] * batch_size, observables=[observables] * batch_size,\\n                                    parameter_values=angles, shots=self.sampling_Pauli_space * self.n_shots)\\n\\n        self._step_tracker += 1\\n        reward_table = job.result().values\\n        self.reward_history.append(reward_table)\\n        assert len(reward_table) == batch_size\\n\\n        return torch.tensor(reward_table) # Shape [batchsize]\\n\\n\\n\\n    def _store_benchmarks(self, qc_list: List[QuantumCircuit]):\\n        \"\"\\n        Method to store in lists all relevant data to assess performance of training (fidelity information)\\n        \"\"\\n\\n        # Circuit list for each action of the batch\\n        if self.abstraction_level == \\'circuit\\':\\n\\n            q_state_list = [Statevector.from_instruction(qc) for qc in qc_list]\\n            density_matrix = DensityMatrix(np.mean([q_state.to_operator().to_matrix() for q_state in q_state_list],\\n                                                   axis=0))\\n            self.density_matrix_history.append(density_matrix)\\n\\n            if self.target_type == \\'state\\':\\n                self.state_fidelity_history.append(state_fidelity(self.target[\"dm\"], density_matrix))\\n            else:  # Gate calibration task\\n                q_process_list = [Operator(qc) for qc in qc_list]\\n\\n                prc_fidelity = np.mean([process_fidelity(q_process, Operator(self.target[\"gate\"]))\\n                                        for q_process in q_process_list])\\n                avg_fidelity = np.mean([average_gate_fidelity(q_process, Operator(self.target[\"gate\"]))\\n                                        for q_process in q_process_list])\\n                self.built_unitaries.append(q_process_list)\\n                self.process_fidelity_history.append(prc_fidelity)  # Avg process fidelity over the action batch\\n                self.avg_fidelity_history.append(avg_fidelity)  # Avg gate fidelity over the action batch\\n                # for i, input_state in enumerate(self.target[\"input_states\"]):\\n                #     output_states = [DensityMatrix(Operator(qc) @ input_state[\"dm\"] @ Operator(qc).adjoint())\\n                #                      for qc in qc_list]\\n                #     self.input_output_state_fidelity_history[i].append(\\n                #         np.mean([state_fidelity(input_state[\"target_state\"][\"dm\"],\\n                #                                 output_state) for output_state in output_states]))\\n        elif self.abstraction_level == \\'pulse\\':\\n            # Pulse simulation\\n            schedule_list = [schedule(qc, backend=self.backend, dt=self.backend.target.dt) for qc in qc_list]\\n            unitaries = self._simulate_pulse_schedules(schedule_list)\\n            # TODO: Line below yields an error if simulation is not done over a set of qubit (fails if third level of\\n            # TODO: transmon is simulated), adapt the target gate operator accordingly.\\n            unitaries = [Operator(np.array(unitary.y[0])) for unitary in unitaries]\\n\\n            if self.target_type == \\'state\\':\\n                density_matrix = DensityMatrix(np.mean([Statevector.from_int(0, dims=self._d).evolve(unitary)\\n                                                        for unitary in unitaries]))\\n                self.state_fidelity_history.append(state_fidelity(self.target[\"dm\"], density_matrix))\\n            else:\\n                self.process_fidelity_history.append(np.mean([process_fidelity(unitary, self.target[\"gate\"])\\n                                                              for unitary in unitaries]))\\n                self.avg_fidelity_history.append(np.mean([average_gate_fidelity(unitary, self.target[\"gate\"])\\n                                                          for unitary in unitaries]))\\n            self.built_unitaries.append(unitaries)\\n\\n    def gate_fidelity_from_process_tomography(self, qc_list: List[QuantumCircuit]):\\n        \"\"\\n        Extract average gate and process fidelities from batch of Quantum Circuit for target gate\\n        \"\"\\n        # Process tomography\\n        assert self.target_type == \\'gate\\', \"Target must be of type gate\"\\n        batch_size = len(qc_list)\\n\\n        exps = BatchExperiment([ProcessTomography(qc, backend=self.backend, physical_qubits=self.tgt_register)\\n                                for qc in qc_list])\\n\\n        results = exps.run().block_for_results()\\n        process_results = [results.child_data(i).analysis_results(0) for i in range(batch_size)]\\n        Choi_matrices = [matrix.value for matrix in process_results]\\n        avg_gate_fidelity = np.mean([average_gate_fidelity(Choi_matrix, Operator(self.target[\"gate\"]))\\n                                     for Choi_matrix in Choi_matrices])\\n        prc_fidelity = np.mean([process_fidelity(Choi_matrix, Operator(self.target[\"gate\"]))\\n                                for Choi_matrix in Choi_matrices])\\n\\n        self.process_fidelity_history.append(prc_fidelity)\\n        self.avg_fidelity_history.append(avg_gate_fidelity)\\n        return avg_gate_fidelity, prc_fidelity\\n\\n    def _simulate_pulse_schedules(self, schedule_list: List[Union[pulse.Schedule, pulse.ScheduleBlock]]):\\n        \"\"\\n        Method used to simulate pulse schedules, jit compatible\\n        \"\"\\n        time_f = self.backend.target.dt * schedule_list[0].duration\\n        unitaries = self.solver.solve(\\n            t_span=Array([0.0, time_f]),\\n            y0=self.y_0,\\n            t_eval=[time_f],\\n            signals=schedule_list,\\n            method=\"jax_odeint\",\\n        )\\n\\n        return unitaries\\n\\n    def clear_history(self):\\n        self.qc_history.clear()\\n        self.action_history.clear()\\n        self.reward_history.clear()\\n        if self.target_type == \\'gate\\':\\n            self.avg_fidelity_history.clear()\\n            self.process_fidelity_history.clear()\\n            self.built_unitaries.clear()\\n\\n        else:\\n            self.state_fidelity_history.clear()\\n            self.density_matrix_history.clear()\\n\\n    def close(self) -> None:\\n        if isinstance(self.estimator, Runtime_Estimator):\\n            self.estimator.session.close()\\n\\n    def __repr__(self):\\n        string = f\"QuantumEnvironment composed of {self._n_qubits} qubits, \\n\"\\n        string += f\"Defined target: {self.target_type} \"                   f\"({self.target.get(\\'gate\\', None) if not None else self.target[\\'dm\\']})\\n\"\\n        string += f\"Physical qubits: {self.target[\\'register\\']}\\n\"\\n        string += f\"Backend: {self.backend},\\n\"\\n        string += f\"Abstraction level: {self.abstraction_level},\\n\"\\n        string += f\"Run options: N_shots ({self.n_shots}), Sampling_Pauli_space ({self.sampling_Pauli_space}), \\n\"\\n        return string\\n\\n    @property\\n    def n_qubits(self):\\n        return self._n_qubits\\n\\n    @n_qubits.setter\\n    def n_qubits(self, n_qubits):\\n        assert isinstance(n_qubits, int) and n_qubits > 0, \"n_qubits must be a positive integer\"\\n        self._n_qubits = n_qubits\\n\\n    @property\\n    def layout(self):\\n        return self._layout\\n\\n    @layout.setter\\n    def layout(self, layout: Layout):\\n        self._layout = layout\\n\\n    @property\\n    def config_type(self):\\n        return self._config_type\\n\\n    @property\\n    def config(self):\\n        return self._config\\n\\n    @property\\n    def estimator(self) -> Estimator_type:\\n        return self._estimator\\n\\n    @estimator.setter\\n    def estimator(self, estimator: BaseEstimator):\\n        self._estimator = estimator\\n\\n    @property\\n    def step_tracker(self):\\n        return self._step_tracker\\n    @step_tracker.setter\\n    def step_tracker(self, step:int):\\n        assert step >= 0, \\'step must be positive integer\\'\\n        self._step_tracker = step\\n\\n    def to_json(self):\\n        return json.dumps({\"n_qubits\": self.n_qubits, \"config\": self._config,\\n                           \"abstraction_level\": self.abstraction_level,\\n                           \"sampling_Pauli_space\": self.sampling_Pauli_space,\\n                           \"n_shots\": self.n_shots,\\n                           \"target_type\": self.target_type,\\n                           \"target\": self.target,\\n                           \"c_factor\": self.c_factor,\\n                           \"reward_history\": self.reward_history,\\n                           \"action_history\": self.action_history,\\n                           \"fidelity_history\": self.avg_fidelity_history if self.target_type == \"gate\"\\n                           else self.state_fidelity_history,\\n\\n                           })\\n\\n    @classmethod\\n    def from_json(cls, json_str):\\n        \"\"Return a MyCustomClass instance based on the input JSON string.\"\"\\n\\n        class_info = json.loads(json_str)\\n        abstraction_level = class_info[\"abstraction_level\"]\\n        target = class_info[\"target\"]\\n        n_shots = class_info[\"n_shots\"]\\n        c_factor = class_info[\"c_factor\"]\\n        sampling_Pauli_space = class_info[\"sampling_Pauli_space\"]\\n        config = class_info[\"config\"]\\n        q_env = cls(target, abstraction_level, config, None, sampling_Pauli_space,\\n                    n_shots, c_factor)\\n        q_env.reward_history = class_info[\"reward_history\"]\\n        q_env.action_history = class_info[\"action_history\"]\\n        if class_info[\"target_type\"] == \"gate\":\\n            q_env.avg_fidelity_history = class_info[\"fidelity_history\"]\\n        else:\\n            q_env.state_fidelity_history = class_info[\"fidelity_history\"]\\n        return q_env'"
      ]
     },
     "execution_count": 793,
     "metadata": {},
     "output_type": "execute_result"
    }
   ],
   "source": [
    "\"\"\"\n",
    "\n",
    "\"\"\n",
    "Class to generate a RL environment suitable for usage with PyTorch agents, leveraging Qiskit modules to simulate\n",
    "quantum system (could also include QUA code in the future)\n",
    "\n",
    "Author: Arthur Strauss\n",
    "Created on 28/11/2022\n",
    "\"\"\n",
    "\n",
    "# For compatibility for options formatting between Estimators.\n",
    "import json\n",
    "from itertools import product\n",
    "from typing import Dict, Union, Optional, List, Callable\n",
    "\n",
    "import numpy as np\n",
    "# Qiskit imports\n",
    "from qiskit import pulse, schedule\n",
    "from qiskit.circuit import QuantumCircuit, QuantumRegister, Gate, CircuitInstruction\n",
    "# Qiskit Estimator Primitives: for computing Pauli expectation value sampling easily\n",
    "from qiskit.primitives import BaseEstimator, Estimator, BackendEstimator\n",
    "# Qiskit backends\n",
    "from qiskit.providers import BackendV1, BackendV2\n",
    "from qiskit.providers.fake_provider.fake_backend import FakeBackend, FakeBackendV2\n",
    "# Qiskit Quantum Information, for fidelity benchmarking\n",
    "from qiskit.quantum_info.operators import SparsePauliOp, Operator, pauli_basis\n",
    "from qiskit.quantum_info.operators.measures import average_gate_fidelity, state_fidelity, process_fidelity\n",
    "from qiskit.quantum_info.states import DensityMatrix, Statevector\n",
    "from qiskit.transpiler import Layout\n",
    "from qiskit_aer.backends.aerbackend import AerBackend\n",
    "from qiskit_aer.primitives import Estimator as Aer_Estimator\n",
    "# Qiskit dynamics for pulse simulation (& benchmarking)\n",
    "from qiskit_dynamics import DynamicsBackend, Solver\n",
    "from qiskit_dynamics.array import Array, wrap\n",
    "from qiskit_dynamics.models import HamiltonianModel\n",
    "# Qiskit Experiments for generating reliable baseline for complex gate calibrations / state preparations\n",
    "from qiskit_experiments.framework import BatchExperiment\n",
    "from qiskit_experiments.library import ProcessTomography\n",
    "from qiskit_experiments.library.tomography.basis import PauliPreparationBasis  # , Pauli6PreparationBasis\n",
    "from qiskit_ibm_runtime import Estimator as Runtime_Estimator, IBMBackend as Runtime_Backend, Options, Session\n",
    "\n",
    "from qconfig import QiskitConfig\n",
    "\n",
    "# from qiskit_experiments.calibration_management.basis_gate_library import FixedFrequencyTransmon, EchoedCrossResonance\n",
    "\n",
    "# QUA imports\n",
    "# from qualang_tools.bakery.bakery import baking\n",
    "# from qm.qua import *\n",
    "# from qm.QuantumMachinesManager import QuantumMachinesManager\n",
    "\n",
    "Estimator_type = Union[Aer_Estimator, Runtime_Estimator, Estimator, BackendEstimator]\n",
    "Backend_type = Union[BackendV1, BackendV2]\n",
    "\n",
    "def _calculate_chi_target_state(target_state: Dict, n_qubits: int):\n",
    "    \n",
    "    Calculate for all P\n",
    "    :param target_state: Dictionary containing info on target state (name, density matrix)\n",
    "    :param n_qubits: Number of qubits\n",
    "    :return: Target state supplemented with appropriate \"Chi\" key\n",
    "    \n",
    "    assert 'dm' in target_state, 'No input data for target state, provide DensityMatrix'\n",
    "    d = 2 ** n_qubits\n",
    "    Pauli_basis = pauli_basis(num_qubits=n_qubits)\n",
    "    # Calculate the target state vector in Pauli basis\n",
    "    target_state[\"Chi\"] = np.array([np.trace(np.array(target_state[\"dm\"].to_operator())\n",
    "                                             @ Pauli_basis[k].to_matrix()).real\n",
    "                                    for k in range(d ** 2)])\n",
    "    # Real part is taken to convert it in good format,\n",
    "    # but imaginary part is always 0. as dm is hermitian and Pauli is traceless\n",
    "    return target_state\n",
    "\n",
    "\n",
    "def _define_target(target: Dict):\n",
    "    if \"register\" in target:\n",
    "        assert isinstance(target[\"register\"], (List, QuantumRegister)), \"Register should be of type List[int] \" \\\n",
    "                                                                        \"or Quantum Register\"\n",
    "    tgt_register = target.get(\"register\", None)\n",
    "    if isinstance(tgt_register, List):\n",
    "        q_register = QuantumRegister(len(tgt_register))\n",
    "        layout = Layout({q_register[i]: tgt_register[i] for i in range(len(tgt_register))})\n",
    "    else:  # QuantumRegister or None\n",
    "        q_register = tgt_register\n",
    "        layout = None\n",
    "\n",
    "    if 'gate' not in target and 'circuit' not in target and 'dm' not in target:\n",
    "        raise KeyError(\"No target provided, need to have one of the following: 'gate' for gate calibration,\"\n",
    "                       \" 'circuit' or 'dm' for state preparation\")\n",
    "    if ('gate' in target and 'circuit' in target) or ('gate' in target and 'dm' in target):\n",
    "        raise KeyError(\"Cannot have simultaneously a gate target and a state target\")\n",
    "    if \"circuit\" in target or \"dm\" in target:\n",
    "        target[\"target_type\"] = \"state\"\n",
    "        if 'circuit' in target:\n",
    "            assert isinstance(target[\"circuit\"], QuantumCircuit), \"Provided circuit is not a qiskit.QuantumCircuit \" \\\n",
    "                                                                  \"object\"\n",
    "            target[\"dm\"] = DensityMatrix(target[\"circuit\"])\n",
    "\n",
    "        assert 'dm' in target, 'no DensityMatrix or circuit argument provided to target dictionary'\n",
    "        assert isinstance(target[\"dm\"], DensityMatrix), 'Provided dm is not a DensityMatrix object'\n",
    "        dm: DensityMatrix = target[\"dm\"]\n",
    "        n_qubits = dm.num_qubits\n",
    "\n",
    "        if q_register is None:\n",
    "            q_register = QuantumRegister(n_qubits)\n",
    "\n",
    "        if layout is None:\n",
    "            layout = Layout.generate_trivial_layout(q_register)\n",
    "\n",
    "        return _calculate_chi_target_state(target, n_qubits), \"state\", q_register, n_qubits, layout\n",
    "\n",
    "    elif \"gate\" in target:\n",
    "        target[\"target_type\"] = \"gate\"\n",
    "        assert isinstance(target[\"gate\"], Gate), \"Provided gate is not a qiskit.circuit.Gate operation\"\n",
    "        gate: Gate = target[\"gate\"]\n",
    "        n_qubits = target[\"gate\"].num_qubits\n",
    "        if q_register is None:\n",
    "            q_register = QuantumRegister(n_qubits)\n",
    "        if layout is None:\n",
    "            layout = Layout.generate_trivial_layout(q_register)\n",
    "\n",
    "        assert gate.num_qubits == len(q_register), f\"Target gate number of qubits ({gate.num_qubits}) \" \\\n",
    "                                                   f\"incompatible with indicated 'register' ({len(tgt_register)})\"\n",
    "        if 'input_states' not in target:\n",
    "            target['input_states'] = [{\"circuit\": PauliPreparationBasis().circuit(s).decompose()}\n",
    "                                      for s in product(range(4), repeat=len(tgt_register))]\n",
    "\n",
    "            # target['input_states'] = [{\"dm\": Pauli6PreparationBasis().matrix(s),\n",
    "            #                            \"circuit\": CircuitOp(Pauli6PreparationBasis().circuit(s).decompose())}\n",
    "            #                           for s in product(range(6), repeat=len(tgt_register))]\n",
    "\n",
    "        for i, input_state in enumerate(target[\"input_states\"]):\n",
    "            if 'circuit' not in input_state:\n",
    "                raise KeyError(\"'circuit' key missing in input_state\")\n",
    "            assert isinstance(input_state[\"circuit\"], QuantumCircuit), \"Provided circuit is not a\" \\\n",
    "                                                                       \"qiskit.QuantumCircuit object\"\n",
    "\n",
    "            input_circuit: QuantumCircuit = input_state['circuit']\n",
    "            input_state['dm'] = DensityMatrix(input_circuit)\n",
    "\n",
    "            state_target_circuit = QuantumCircuit(q_register)\n",
    "            state_target_circuit.append(input_circuit.to_instruction(), q_register)\n",
    "            state_target_circuit.append(CircuitInstruction(gate, q_register))\n",
    "\n",
    "            input_state['target_state'] = {\"dm\": DensityMatrix(state_target_circuit),\n",
    "                                           \"circuit\": state_target_circuit,\n",
    "                                           \"target_type\": \"state\"}\n",
    "            input_state['target_state'] = _calculate_chi_target_state(input_state['target_state'], n_qubits)\n",
    "        return target, \"gate\", q_register, n_qubits, layout\n",
    "    else:\n",
    "        raise KeyError('target type not identified, must be either gate or state')\n",
    "\n",
    "\n",
    "class QuantumEnvironment:\n",
    "\n",
    "    def __init__(self, target: Dict, abstraction_level: str = 'circuit',\n",
    "                 Qiskit_config: Optional[QiskitConfig] = None,\n",
    "                 QUA_config: Optional[Dict] = None,\n",
    "                 sampling_Pauli_space: int = 10, n_shots: int = 1, c_factor: float = 0.5):\n",
    "        \"\"\n",
    "        Class for building quantum environment for RL agent aiming to perform a state preparation task.\n",
    "\n",
    "        :param target: control target of interest (can be either a gate to be calibrated or a state to be prepared)\n",
    "            Target should be a Dict containing target type ('gate' or 'state') as well as necessary fields to initiate\n",
    "            the calibration (cf. example)\n",
    "        :param abstraction_level: Circuit or pulse level parametrization of action space\n",
    "        :param Qiskit_config: Dictionary containing all info for running Qiskit program (i.e. service, backend,\n",
    "            options, parametrized_circuit)\n",
    "        :param QUA_config: Dictionary containing all info for running a QUA program\n",
    "        :param sampling_Pauli_space: Number of samples to build fidelity estimator for one action\n",
    "        :param n_shots: Number of shots to sample for one specific computation (action/Pauli expectation sampling)\n",
    "        :param c_factor: Scaling factor for reward normalization\n",
    "        \"\"\n",
    "\n",
    "        assert abstraction_level == 'circuit' or abstraction_level == 'pulse', 'Abstraction layer can be either pulse' \\\n",
    "                                                                               ' or circuit'\n",
    "        self.abstraction_level: str = abstraction_level\n",
    "        if Qiskit_config is None and QUA_config is None:\n",
    "            raise AttributeError(\"QuantumEnvironment requires one software configuration (can be Qiskit or QUA based)\")\n",
    "        if Qiskit_config is not None and QUA_config is not None:\n",
    "            raise AttributeError(\"Cannot provide simultaneously a QUA setup and a Qiskit config \")\n",
    "        elif Qiskit_config is not None:\n",
    "            self._config_type = \"Qiskit\"\n",
    "            self._config: Qiskit_config = Qiskit_config\n",
    "            self.target, self.target_type, self.tgt_register, self._n_qubits, self._layout = _define_target(target)\n",
    "\n",
    "            self._d = 2 ** self.n_qubits\n",
    "            self.c_factor = c_factor\n",
    "            self.sampling_Pauli_space = sampling_Pauli_space\n",
    "            self.n_shots = n_shots\n",
    "            self.Pauli_ops = pauli_basis(num_qubits=self._n_qubits)\n",
    "\n",
    "            self.backend: Optional[Backend_type] = Qiskit_config.backend\n",
    "            self.parametrized_circuit_func: Callable = Qiskit_config.parametrized_circuit\n",
    "            estimator_options: Optional[Union[Options, Dict]] = Qiskit_config.estimator_options\n",
    "\n",
    "            if self.abstraction_level == \"circuit\":  # Either state-vector simulation (native) or AerBackend provided\n",
    "                if isinstance(self.backend, (AerBackend, FakeBackend, FakeBackendV2)):\n",
    "                    # Estimator taking noise model into consideration, have to provide an AerBackend\n",
    "                    # TODO: Extract from TranspilationOptions a dict that can go in following definition\n",
    "                    self._estimator: Estimator_type = Aer_Estimator(backend_options=self.backend.options,\n",
    "                                                                   transpile_options={'initial_layout': self._layout},\n",
    "                                                                   approximation=True)\n",
    "                else:  # No backend specified, ideal state-vector simulation\n",
    "                    self._estimator: Estimator_type = Estimator(options={\"initial_layout\": self._layout})\n",
    "\n",
    "            else: # Pulse level abstraction\n",
    "                if not isinstance(self.backend, (Runtime_Backend, DynamicsBackend)):\n",
    "                    raise TypeError(\"Backend must be either DynamicsBackend or Qiskit Runtime backend if pulse level\"\n",
    "                                    \"abstraction is selected (Aer Pulse simulator deprecated\")\n",
    "\n",
    "\n",
    "                if isinstance(self.backend, DynamicsBackend):\n",
    "                    import jax\n",
    "                    jit = wrap(jax.jit, decorator=True)\n",
    "                    self._estimator: Estimator_type = BackendEstimator(self.backend, skip_transpilation= False)\n",
    "                    self._estimator.set_transpile_options(initial_layout=self.layout)\n",
    "                    if self.config.do_calibrations:\n",
    "                        calibration_files: List[str] = Qiskit_config.calibration_files\n",
    "                        self.calibrations, self.exp_results = perform_standard_calibrations(self.backend,\n",
    "                                                                                            calibration_files)\n",
    "                    self._benchmark_backend = self.backend\n",
    "                else:\n",
    "                    if hasattr(self.backend, \"configuration\"):\n",
    "                        self._benchmark_backend = DynamicsBackend.from_backend(self.backend,\n",
    "                                                                           subsystem_list=target[\"register\"])\n",
    "                # For benchmarking the gate at each epoch, set tools for Pulse level simulator\n",
    "                if Qiskit_config.solver is not None:\n",
    "                    self.solver: Solver = Qiskit_config.solver\n",
    "                else:\n",
    "                    self.solver: Solver = self._benchmark_backend.options.solver  # Custom Solver\n",
    "                # Can describe noisy channels, if none provided, pick Solver associated to DynamicsBackend by default\n",
    "                self.model_dim, self.channel_freq  = self.solver.model.dim, Qiskit_config.channel_freq\n",
    "                if isinstance(self.solver.model, HamiltonianModel):\n",
    "                    self.y_0 = Array(np.eye(self.model_dim))\n",
    "                    self.ground_state = Array(np.array([1.0] + [0.0] * (self.model_dim - 1)))\n",
    "                else:\n",
    "                    self.y_0 = Array(np.eye(self.model_dim ** 2))\n",
    "                    self.ground_state = Array(np.array([1.0] + [0.0] * (self.model_dim ** 2 - 1)))\n",
    "\n",
    "            if isinstance(self.backend, Runtime_Backend):  # Real backend, or Simulation backend from Runtime Service\n",
    "                self._estimator: Estimator_type = Runtime_Estimator(session=Session(self.backend.service, self.backend),\n",
    "                                                                   options=estimator_options)\n",
    "                if self.estimator.options.transpilation['initial_layout'] is None:\n",
    "                    self.estimator.options.transpilation['initial_layout']=self._layout.get_physical_bits()\n",
    "\n",
    "        elif QUA_config is not None:\n",
    "            raise AttributeError(\"QUA compatibility not yet implemented\")\n",
    "            # self._config_type = \"QUA\"\n",
    "            # self._config = QUA_config\n",
    "\n",
    "            # TODO: Add a QUA program\n",
    "\n",
    "        # Data storage for TF-Agents or plotting\n",
    "        self._step_tracker = 0\n",
    "        self.action_history = []\n",
    "        self.density_matrix_history = []\n",
    "        self.reward_history = []\n",
    "        self.qc_history = []\n",
    "        if self.target_type == 'gate':\n",
    "            self.process_fidelity_history = []\n",
    "            self.avg_fidelity_history = []\n",
    "            self.built_unitaries = []\n",
    "        else:\n",
    "            self.state_fidelity_history = []\n",
    "\n",
    "\n",
    "    def perform_action(self, actions: torch.Tensor, do_benchmark: bool = True):\n",
    "        \"\"\n",
    "        Execute quantum circuit with parametrized amplitude, retrieve measurement result \n",
    "        and assign rewards accordingly\n",
    "        :param actions: action vector to execute on quantum system\n",
    "        :param do_benchmark: Indicates if actual fidelity computation should be done on \n",
    "        top of reward computation\n",
    "        :return: Reward table (reward for each run in the batch)\n",
    "        \"\"\n",
    "\n",
    "        qc = QuantumCircuit(self.tgt_register)\n",
    "        parametrized_circ = QuantumCircuit(self.tgt_register)\n",
    "        angles, batch_size = actions.numpy(), len(actions)\n",
    "        self.action_history.append(angles)\n",
    "\n",
    "        if self.target_type == 'gate':\n",
    "            index = torch.randint(len(self.target[\"input_states\"]), (1,)).item()\n",
    "            input_state = self.target[\"input_states\"][index]\n",
    "            target_state = input_state[\"target_state\"]\n",
    "            qc.append(input_state[\"circuit\"].to_instruction(), self.tgt_register)\n",
    "\n",
    "        else:  # State preparation task\n",
    "            target_state = self.target\n",
    "\n",
    "        # Use PyTorch's Categorical distribution instead of TensorFlow's\n",
    "        distribution = torch.distributions.Categorical(probs=torch.tensor(target_state[\"Chi\"] ** 2))\n",
    "        k_samples = distribution.sample(sample_shape=(self.sampling_Pauli_space,))\n",
    "        # print('k samples: ', k_samples)\n",
    "        pauli_index, pauli_shots = torch.unique(k_samples, return_counts=True)\n",
    "        k_samples = k_samples.numpy()\n",
    "        #print('k samples type: ', type(k_samples))\n",
    "        #print('k samples shape: ', k_samples.shape)\n",
    "\n",
    "        reward_factors_list = [self.c_factor * target_state[\"Chi\"][p] / (self._d * distribution.probs[p]) for p in pauli_index]\n",
    "        reward_factor = torch.round(torch.tensor(reward_factors_list), decimals=5)\n",
    "        #print('reward factor: ', reward_factor)\n",
    "\n",
    "        reward_factor = reward_factor.numpy() \n",
    "        pauli_index = pauli_index.numpy()\n",
    "\n",
    "        #print('self.Pauli_ops ', self.Pauli_ops)\n",
    "        #print('reward_factor. ', reward_factor)\n",
    "        #print('pauli index ', pauli_index)\n",
    "\n",
    "        assert len(reward_factor) == len(pauli_index), \"Mismatched lengths\"\n",
    "\n",
    "        # Construct the list for SparsePauliOp\n",
    "        observables = SparsePauliOp.from_list([(self.Pauli_ops[p].to_label(), float(r)) \n",
    "                                               for p, r in zip(pauli_index, reward_factor)])\n",
    "        # print('observables: ', observables)\n",
    "\n",
    "\n",
    "        self.parametrized_circuit_func(parametrized_circ)\n",
    "        qc_list = [parametrized_circ.bind_parameters(angle_set) for angle_set in angles]\n",
    "        self.qc_history.append(qc_list)\n",
    "\n",
    "        if do_benchmark:\n",
    "            self._store_benchmarks(qc_list)\n",
    "\n",
    "        self.parametrized_circuit_func(qc)\n",
    "\n",
    "        if isinstance(self.estimator, Runtime_Estimator):\n",
    "            job = self.estimator.run(circuits=[qc] * batch_size, observables=[observables] * batch_size,\n",
    "                                parameter_values=angles, shots=self.sampling_Pauli_space * self.n_shots,\n",
    "                                job_tags=[f\"rl_qoc_step{self._step_tracker}\"])\n",
    "        else:\n",
    "            job = self.estimator.run(circuits=[qc] * batch_size, observables=[observables] * batch_size,\n",
    "                                    parameter_values=angles, shots=self.sampling_Pauli_space * self.n_shots)\n",
    "\n",
    "        self._step_tracker += 1\n",
    "        reward_table = job.result().values\n",
    "        self.reward_history.append(reward_table)\n",
    "        assert len(reward_table) == batch_size\n",
    "\n",
    "        return torch.tensor(reward_table) # Shape [batchsize]\n",
    "\n",
    "\n",
    "\n",
    "    def _store_benchmarks(self, qc_list: List[QuantumCircuit]):\n",
    "        \"\"\n",
    "        Method to store in lists all relevant data to assess performance of training (fidelity information)\n",
    "        \"\"\n",
    "\n",
    "        # Circuit list for each action of the batch\n",
    "        if self.abstraction_level == 'circuit':\n",
    "\n",
    "            q_state_list = [Statevector.from_instruction(qc) for qc in qc_list]\n",
    "            density_matrix = DensityMatrix(np.mean([q_state.to_operator().to_matrix() for q_state in q_state_list],\n",
    "                                                   axis=0))\n",
    "            self.density_matrix_history.append(density_matrix)\n",
    "\n",
    "            if self.target_type == 'state':\n",
    "                self.state_fidelity_history.append(state_fidelity(self.target[\"dm\"], density_matrix))\n",
    "            else:  # Gate calibration task\n",
    "                q_process_list = [Operator(qc) for qc in qc_list]\n",
    "\n",
    "                prc_fidelity = np.mean([process_fidelity(q_process, Operator(self.target[\"gate\"]))\n",
    "                                        for q_process in q_process_list])\n",
    "                avg_fidelity = np.mean([average_gate_fidelity(q_process, Operator(self.target[\"gate\"]))\n",
    "                                        for q_process in q_process_list])\n",
    "                self.built_unitaries.append(q_process_list)\n",
    "                self.process_fidelity_history.append(prc_fidelity)  # Avg process fidelity over the action batch\n",
    "                self.avg_fidelity_history.append(avg_fidelity)  # Avg gate fidelity over the action batch\n",
    "                # for i, input_state in enumerate(self.target[\"input_states\"]):\n",
    "                #     output_states = [DensityMatrix(Operator(qc) @ input_state[\"dm\"] @ Operator(qc).adjoint())\n",
    "                #                      for qc in qc_list]\n",
    "                #     self.input_output_state_fidelity_history[i].append(\n",
    "                #         np.mean([state_fidelity(input_state[\"target_state\"][\"dm\"],\n",
    "                #                                 output_state) for output_state in output_states]))\n",
    "        elif self.abstraction_level == 'pulse':\n",
    "            # Pulse simulation\n",
    "            schedule_list = [schedule(qc, backend=self.backend, dt=self.backend.target.dt) for qc in qc_list]\n",
    "            unitaries = self._simulate_pulse_schedules(schedule_list)\n",
    "            # TODO: Line below yields an error if simulation is not done over a set of qubit (fails if third level of\n",
    "            # TODO: transmon is simulated), adapt the target gate operator accordingly.\n",
    "            unitaries = [Operator(np.array(unitary.y[0])) for unitary in unitaries]\n",
    "\n",
    "            if self.target_type == 'state':\n",
    "                density_matrix = DensityMatrix(np.mean([Statevector.from_int(0, dims=self._d).evolve(unitary)\n",
    "                                                        for unitary in unitaries]))\n",
    "                self.state_fidelity_history.append(state_fidelity(self.target[\"dm\"], density_matrix))\n",
    "            else:\n",
    "                self.process_fidelity_history.append(np.mean([process_fidelity(unitary, self.target[\"gate\"])\n",
    "                                                              for unitary in unitaries]))\n",
    "                self.avg_fidelity_history.append(np.mean([average_gate_fidelity(unitary, self.target[\"gate\"])\n",
    "                                                          for unitary in unitaries]))\n",
    "            self.built_unitaries.append(unitaries)\n",
    "\n",
    "    def gate_fidelity_from_process_tomography(self, qc_list: List[QuantumCircuit]):\n",
    "        \"\"\n",
    "        Extract average gate and process fidelities from batch of Quantum Circuit for target gate\n",
    "        \"\"\n",
    "        # Process tomography\n",
    "        assert self.target_type == 'gate', \"Target must be of type gate\"\n",
    "        batch_size = len(qc_list)\n",
    "\n",
    "        exps = BatchExperiment([ProcessTomography(qc, backend=self.backend, physical_qubits=self.tgt_register)\n",
    "                                for qc in qc_list])\n",
    "\n",
    "        results = exps.run().block_for_results()\n",
    "        process_results = [results.child_data(i).analysis_results(0) for i in range(batch_size)]\n",
    "        Choi_matrices = [matrix.value for matrix in process_results]\n",
    "        avg_gate_fidelity = np.mean([average_gate_fidelity(Choi_matrix, Operator(self.target[\"gate\"]))\n",
    "                                     for Choi_matrix in Choi_matrices])\n",
    "        prc_fidelity = np.mean([process_fidelity(Choi_matrix, Operator(self.target[\"gate\"]))\n",
    "                                for Choi_matrix in Choi_matrices])\n",
    "\n",
    "        self.process_fidelity_history.append(prc_fidelity)\n",
    "        self.avg_fidelity_history.append(avg_gate_fidelity)\n",
    "        return avg_gate_fidelity, prc_fidelity\n",
    "\n",
    "    def _simulate_pulse_schedules(self, schedule_list: List[Union[pulse.Schedule, pulse.ScheduleBlock]]):\n",
    "        \"\"\n",
    "        Method used to simulate pulse schedules, jit compatible\n",
    "        \"\"\n",
    "        time_f = self.backend.target.dt * schedule_list[0].duration\n",
    "        unitaries = self.solver.solve(\n",
    "            t_span=Array([0.0, time_f]),\n",
    "            y0=self.y_0,\n",
    "            t_eval=[time_f],\n",
    "            signals=schedule_list,\n",
    "            method=\"jax_odeint\",\n",
    "        )\n",
    "\n",
    "        return unitaries\n",
    "\n",
    "    def clear_history(self):\n",
    "        self.qc_history.clear()\n",
    "        self.action_history.clear()\n",
    "        self.reward_history.clear()\n",
    "        if self.target_type == 'gate':\n",
    "            self.avg_fidelity_history.clear()\n",
    "            self.process_fidelity_history.clear()\n",
    "            self.built_unitaries.clear()\n",
    "\n",
    "        else:\n",
    "            self.state_fidelity_history.clear()\n",
    "            self.density_matrix_history.clear()\n",
    "\n",
    "    def close(self) -> None:\n",
    "        if isinstance(self.estimator, Runtime_Estimator):\n",
    "            self.estimator.session.close()\n",
    "\n",
    "    def __repr__(self):\n",
    "        string = f\"QuantumEnvironment composed of {self._n_qubits} qubits, \\n\"\n",
    "        string += f\"Defined target: {self.target_type} \" \\\n",
    "                  f\"({self.target.get('gate', None) if not None else self.target['dm']})\\n\"\n",
    "        string += f\"Physical qubits: {self.target['register']}\\n\"\n",
    "        string += f\"Backend: {self.backend},\\n\"\n",
    "        string += f\"Abstraction level: {self.abstraction_level},\\n\"\n",
    "        string += f\"Run options: N_shots ({self.n_shots}), Sampling_Pauli_space ({self.sampling_Pauli_space}), \\n\"\n",
    "        return string\n",
    "\n",
    "    @property\n",
    "    def n_qubits(self):\n",
    "        return self._n_qubits\n",
    "\n",
    "    @n_qubits.setter\n",
    "    def n_qubits(self, n_qubits):\n",
    "        assert isinstance(n_qubits, int) and n_qubits > 0, \"n_qubits must be a positive integer\"\n",
    "        self._n_qubits = n_qubits\n",
    "\n",
    "    @property\n",
    "    def layout(self):\n",
    "        return self._layout\n",
    "\n",
    "    @layout.setter\n",
    "    def layout(self, layout: Layout):\n",
    "        self._layout = layout\n",
    "\n",
    "    @property\n",
    "    def config_type(self):\n",
    "        return self._config_type\n",
    "\n",
    "    @property\n",
    "    def config(self):\n",
    "        return self._config\n",
    "\n",
    "    @property\n",
    "    def estimator(self) -> Estimator_type:\n",
    "        return self._estimator\n",
    "\n",
    "    @estimator.setter\n",
    "    def estimator(self, estimator: BaseEstimator):\n",
    "        self._estimator = estimator\n",
    "\n",
    "    @property\n",
    "    def step_tracker(self):\n",
    "        return self._step_tracker\n",
    "    @step_tracker.setter\n",
    "    def step_tracker(self, step:int):\n",
    "        assert step >= 0, 'step must be positive integer'\n",
    "        self._step_tracker = step\n",
    "\n",
    "    def to_json(self):\n",
    "        return json.dumps({\"n_qubits\": self.n_qubits, \"config\": self._config,\n",
    "                           \"abstraction_level\": self.abstraction_level,\n",
    "                           \"sampling_Pauli_space\": self.sampling_Pauli_space,\n",
    "                           \"n_shots\": self.n_shots,\n",
    "                           \"target_type\": self.target_type,\n",
    "                           \"target\": self.target,\n",
    "                           \"c_factor\": self.c_factor,\n",
    "                           \"reward_history\": self.reward_history,\n",
    "                           \"action_history\": self.action_history,\n",
    "                           \"fidelity_history\": self.avg_fidelity_history if self.target_type == \"gate\"\n",
    "                           else self.state_fidelity_history,\n",
    "\n",
    "                           })\n",
    "\n",
    "    @classmethod\n",
    "    def from_json(cls, json_str):\n",
    "        \"\"Return a MyCustomClass instance based on the input JSON string.\"\"\n",
    "\n",
    "        class_info = json.loads(json_str)\n",
    "        abstraction_level = class_info[\"abstraction_level\"]\n",
    "        target = class_info[\"target\"]\n",
    "        n_shots = class_info[\"n_shots\"]\n",
    "        c_factor = class_info[\"c_factor\"]\n",
    "        sampling_Pauli_space = class_info[\"sampling_Pauli_space\"]\n",
    "        config = class_info[\"config\"]\n",
    "        q_env = cls(target, abstraction_level, config, None, sampling_Pauli_space,\n",
    "                    n_shots, c_factor)\n",
    "        q_env.reward_history = class_info[\"reward_history\"]\n",
    "        q_env.action_history = class_info[\"action_history\"]\n",
    "        if class_info[\"target_type\"] == \"gate\":\n",
    "            q_env.avg_fidelity_history = class_info[\"fidelity_history\"]\n",
    "        else:\n",
    "            q_env.state_fidelity_history = class_info[\"fidelity_history\"]\n",
    "        return q_env\"\"\""
   ]
  },
  {
   "cell_type": "code",
   "execution_count": 794,
   "id": "1de73f28-b701-4c18-888d-1e168d67b645",
   "metadata": {},
   "outputs": [],
   "source": [
    "# Ansatz function, could be at pulse level or circuit level\n",
    "def apply_parametrized_circuit(qc: QuantumCircuit):\n",
    "    \"\"\"\n",
    "    Define ansatz circuit to be played on Quantum Computer. Should be parametrized with Qiskit ParameterVector\n",
    "    :param qc: Quantum Circuit instance to add the gates on\n",
    "    :param params: Qiskit ParameterVector\n",
    "    :return:\n",
    "    \"\"\"\n",
    "    # qc.num_qubits\n",
    "    params = ParameterVector('params', 7)\n",
    "    qc.u(2 * np.pi * params[0], 2 * np.pi * params[1], 2 * np.pi * params[2], 0)\n",
    "    qc.u(2 * np.pi * params[3], 2 * np.pi * params[4], 2 * np.pi * params[5], 1)\n",
    "    qc.rzx(2 * np.pi * params[6], 0, 1)"
   ]
  },
  {
   "attachments": {},
   "cell_type": "markdown",
   "id": "2dd0f78a-3737-4590-b8cc-6c59df04d13e",
   "metadata": {},
   "source": [
    "# Defining the QuantumEnvironment\n",
    "\n",
    "Below, we set the RL environment parameters, that is how we describe our quantum system. Below, we can choose to go through the use of Qiskit Runtime, or to speed things up by using the local CPU and a state-vector simulator to get measurement outcomes based on the ansatz circuit defined above. The Environment is defined as a class object called QuantumEnvironment."
   ]
  },
  {
   "attachments": {},
   "cell_type": "markdown",
   "id": "c1ac9e41-0143-4b75-98b3-8684e2655308",
   "metadata": {},
   "source": [
    "## Generic information characterizing the quantum system\n",
    "\n",
    "The algorithm is built upon Qiskit modules. To specify how to address our quantum system of interest, we therefore adopt the IBM approach to define a quantum backend, on which qubits are defined and can be accessed via control actions and measurements.\n",
    "\n",
    "The cell below specifies:\n",
    "- ```qubit_tgt_register```: List of qubit indices which are specifically addressed by controls , namely the ones for which we intend to calibrate a gate upon or steer them in a specific quantum state. Note that this list could include less qubits than the total number of qubits, which can be useful when one wants to take into account crosstalk effects emerging from nearest-neigbor coupling.\n",
    "- ```sampling_Paulis```: number of Pauli observables  to be sampled from the system: the algorithm relies on the ability to process measurement outcomes to estimate the expectation value of different Pauli operators. The more observables we provide for sampling, the more properties we are able to deduce with accuracy about the actual state that was created when applying our custom controls. For a single qubit, the possible Pauli operators are $\\sigma_0=I$, $\\sigma_x=X$, $\\sigma_y=Y$, $\\sigma_z=Z$. For a general multiqubit system, the Pauli observables are tensor products of those single qubit Pauli operators. The algorithm will automatically estimate which observables are the most relevant to sample based on the provided target. The probability distribution from which those observables are sampled is derived from the Direct Fidelity Estimation (equation 3, https://link.aps.org/doi/10.1103/PhysRevLett.106.230501) algorithm. \n",
    "- ```N_shots```: Indicates how many measurements shall be done for each provided circuit (that is a specific combination of an action vector and a Pauli observable to be sampled)\n",
    "- The dimension of the action vector: Indicates the number of pulse/circuit parameters that characterize our parametrized quantum circuit.\n",
    "- ```estimator_options```: Options of the Qiskit Estimator primitive. The Estimator is the Qiskit module enabling an easy computation of Pauli expectation values. One can set options to make this process more reliable (typically by doing some error mitigation techniques in post-processing). Works only with Runtime Backend at the moment\n",
    "- ```abstraction_level``` chosen to encode our quantum circuit. One can choose here to stick to the usual circuit model of quantum computing, by using the ```QuantumCircuit``` objects from Qiskit and therefore set the ```abstraction_level``` to ```\"circuit\"```. However, depending on the task at hand, one can also prefer to use a pulse description of all the operations in our circuit. This is possible by using resources of another module of Qiskit called Qiskit Dynamics. In this case, one should define the ansatz circuit above in a pulse level fashion, and the simulation done at the Hamiltonian level, and not only via statevector calculations. In this notebook we set the ```abstraction_level``` to ```\"circuit\"```. Another notebook at the pulse level is available in the repo."
   ]
  },
  {
   "cell_type": "code",
   "execution_count": 795,
   "id": "778b1dc1-576d-400b-85af-c7e846ba77de",
   "metadata": {},
   "outputs": [],
   "source": [
    "qubit_tgt_register = [0, 1]  # Choose which qubits of the QPU you want to address \n",
    "sampling_Paulis = 200\n",
    "N_shots = 1  # Number of shots for sampling the quantum computer for each action vector\n",
    "\n",
    "n_actions = 7  # Choose how many control parameters in pulse/circuit parametrization\n",
    "# Define Qiskit ParameterVector of length n_actions being equal to the number of trainable circuit parameters\n",
    "# circuit_params = ParameterVector('theta', n_actions) \n",
    "\n",
    "seed = 4000\n",
    "estimator_options = {'seed_simulator': seed,'resilience_level': 0}"
   ]
  },
  {
   "attachments": {},
   "cell_type": "markdown",
   "id": "fb6ce01f-4de3-4af1-b1ec-36b1361c6dfe",
   "metadata": {
    "tags": []
   },
   "source": [
    "Choose below which IBM Backend to use. As we are dealing with circuit level implementation, we can look for a backend supporting Qiskit Runtime (could be a cloud simulator, or real backend) or simply set backend to None and rely on the Estimator primitive based on statevector simulation. In either case, we need access to one Estimator primitive to run the algorithm, as the feedback from the measurement outcomes is done by calculating Pauli expectation values."
   ]
  },
  {
   "attachments": {},
   "cell_type": "markdown",
   "id": "653de84e-4650-4311-86e6-81a3fa1f18c6",
   "metadata": {},
   "source": [
    "## 1. Setting up a Quantum Backend"
   ]
  },
  {
   "attachments": {},
   "cell_type": "markdown",
   "id": "7cb9ac30-26aa-419a-9586-8ba4ed736cf0",
   "metadata": {
    "tags": []
   },
   "source": [
    "### Real backend initialization\n",
    "\n",
    "Uncomment the cell below to declare a Qiskit Runtime backend. You need an internet connection and an IBM Id account to access this."
   ]
  },
  {
   "cell_type": "code",
   "execution_count": 796,
   "id": "d79bf811-87b6-4a25-9e6e-968a4e12d5ef",
   "metadata": {},
   "outputs": [],
   "source": [
    "\"\"\"\n",
    "Real backend initialization:\n",
    "Run this cell only if intending to use a real backend,\n",
    "where Qiskit Runtime is enabled\n",
    "\"\"\"\n",
    "backend_name = 'ibm_perth'\n",
    "\n",
    "#service = QiskitRuntimeService(channel='ibm_quantum')\n",
    "#runtime_backend = service.get_backend(backend_name)\n",
    "#estimator_options = {'resilience_level': 0}\n"
   ]
  },
  {
   "attachments": {},
   "cell_type": "markdown",
   "id": "2e2c6aba-ab98-417b-a6c4-9e8ced758758",
   "metadata": {
    "tags": []
   },
   "source": [
    "### Simulation backend initialization\n",
    "If you want to run the algorithm over a simulation, you can use Qiskit BaseEstimator, which does not need any real backend and relies on statevector simulation.\n",
    "\n",
    "Note that you could also define a custom Aer noise model and use an Aer version of the Estimator primitive. This feature will become available soon.\n"
   ]
  },
  {
   "cell_type": "code",
   "execution_count": 797,
   "id": "a478bf54-94a6-4fa9-9c96-9b991efba634",
   "metadata": {},
   "outputs": [],
   "source": [
    "\"\"\"\n",
    "If using Qiskit native Estimator primitive\n",
    "(statevector simulation)\n",
    "\"\"\"\n",
    "no_backend = None"
   ]
  },
  {
   "attachments": {},
   "cell_type": "markdown",
   "id": "420aab7a-0d0a-4f67-a4b7-aeda8bc980eb",
   "metadata": {},
   "source": [
    "### Choose backend and define Qiskit config dictionary\n",
    "Below, set the Backend that you would like to run among the above defined backend.\n",
    "Then define the config gathering all the components enabling the definition of the ```QuantumEnvironment```.\n",
    "\n"
   ]
  },
  {
   "cell_type": "code",
   "execution_count": 798,
   "id": "b6354a24-9ba2-4ea9-8e90-f803bfe90394",
   "metadata": {},
   "outputs": [],
   "source": [
    "backend = no_backend"
   ]
  },
  {
   "cell_type": "code",
   "execution_count": 799,
   "id": "b30cb6e4-b1b1-4b25-8456-80a4ac731cfd",
   "metadata": {},
   "outputs": [],
   "source": [
    "# Wrap all info in one dict Qiskit_setup\n",
    "Qiskit_setup = QiskitConfig(parametrized_circuit=apply_parametrized_circuit, backend=backend,\n",
    "                            estimator_options=estimator_options)"
   ]
  },
  {
   "attachments": {},
   "cell_type": "markdown",
   "id": "2475763f-a14f-4ee0-bd4a-c68235351fd6",
   "metadata": {
    "tags": []
   },
   "source": [
    "## 2. Define quantum target: State preparation or Gate calibration\n",
    "\n",
    "The target of our optimal control task can be of two different types:\n",
    "1.  An arbitrary quantum state to prepare with high accuracy\n",
    "2. A Quantum Gate to be calibrated in a noise-robust manner\n",
    "\n",
    "Both targets are dictionaries that are identified with a key stating their ```target_type```, which can be either ```\"state\"``` or ```\"gate\"```.\n",
    "\n",
    "For a gate target $G$, one can add the target quantum gate with a ```\"gate\"``` argument specifying a specific instance of a Qiskit ```Gate``` object. Here, we settle for calibrating a ```CXGate()```.\n",
    "Moreover, a gate calibration requires a set of input states $\\{|s_i\\rangle \\}$ to be provided, such that the agent can try to set the actions such that the fidelity between the anticipated ideal target state (calculated as  $G|s_i\\rangle$) and the output state are simultaneously maximized. To ensure a correlation between the average reward computed from the measurement outcomes and the average gate fidelity, the provided set of input states must be tomographically complete.\n",
    "\n",
    "For a state target, one can provide, similarly to an input state, an ideal circuit to prepare it (```\"circuit\": QuantumCircuit```, or a density matrix (key ```\"dm\": DensityMatrix```).\n",
    "\n",
    "Another important key that should figure in the dictionary is the ```\"register\"``` indicating the qubits indices that should be addressed by this target, i.e. upon which qubits should the target be engineered.\n"
   ]
  },
  {
   "cell_type": "code",
   "execution_count": 800,
   "id": "adb3b2e1-c8de-4ea9-9dc6-604d2ae157b8",
   "metadata": {},
   "outputs": [],
   "source": [
    "# Target gate: CNOT gate\n",
    "\n",
    "circuit_Plus_i = S @ H\n",
    "circuit_Minus_i = S @ H @ X\n",
    "cnot_target = {\n",
    "    \"target_type\": \"gate\",\n",
    "    \"gate\": CXGate(\"CNOT\"),\n",
    "    \"register\": qubit_tgt_register\n",
    "}"
   ]
  },
  {
   "cell_type": "code",
   "execution_count": 801,
   "id": "0e053f52-95a2-4eee-8e1b-e3e732459115",
   "metadata": {},
   "outputs": [],
   "source": [
    "target = cnot_target"
   ]
  },
  {
   "attachments": {},
   "cell_type": "markdown",
   "id": "b00afb10-d015-4418-ae10-882c08d73e3e",
   "metadata": {},
   "source": [
    "## 3. Declare QuantumEnvironment object\n",
    "Running the box below declares the QuantumEnvironment instance.\n"
   ]
  },
  {
   "cell_type": "code",
   "execution_count": 802,
   "id": "27a7ac8e-51e7-416f-ba48-968a50a5c446",
   "metadata": {},
   "outputs": [],
   "source": [
    "# Define quantum environment\n",
    "q_env = QuantumEnvironment(target=target, abstraction_level=\"circuit\",\n",
    "                           Qiskit_config=Qiskit_setup,\n",
    "                           sampling_Pauli_space=sampling_Paulis, n_shots=N_shots, c_factor=0.25)"
   ]
  },
  {
   "attachments": {},
   "cell_type": "markdown",
   "id": "a1aaa472-18e0-4a37-8954-8b976466c9b2",
   "metadata": {},
   "source": [
    "# Defining the RL agent: PPO"
   ]
  },
  {
   "attachments": {},
   "cell_type": "markdown",
   "id": "81e02c43",
   "metadata": {},
   "source": [
    "### Define the ActorCriticNetwork (Neural Network)"
   ]
  },
  {
   "cell_type": "code",
   "execution_count": 803,
   "id": "06537737",
   "metadata": {},
   "outputs": [],
   "source": [
    "class ActorCritic(nn.Module):\n",
    "    def __init__(self, input_shape: Tuple, hidden_units: Union[List, Tuple], n_actions: int,\n",
    "                 actor_critic_together: bool = True,\n",
    "                 hidden_units_critic: Optional[Union[List, Tuple]] = None):\n",
    "        super(ActorCritic, self).__init__()\n",
    "        \n",
    "        self.input_layer = nn.Linear(input_shape[0], hidden_units[0])\n",
    "        self.relu = nn.ReLU()\n",
    "        \n",
    "        self.hidden_layers = nn.ModuleList()\n",
    "        for i in range(1, len(hidden_units)):\n",
    "            self.hidden_layers.append(nn.Linear(hidden_units[i - 1], hidden_units[i]))\n",
    "            # self.hidden_layers.append(nn.ReLU())\n",
    "        \n",
    "        self.mean_param = nn.Linear(hidden_units[-1], n_actions)\n",
    "        self.sigma_param = nn.Linear(hidden_units[-1], n_actions)\n",
    "        \n",
    "        if actor_critic_together:\n",
    "            self.critic_output = nn.Linear(hidden_units[-1], 1)\n",
    "        \n",
    "        self.actor_critic_together = actor_critic_together\n",
    "        \n",
    "        if not actor_critic_together:\n",
    "            assert hidden_units_critic is not None, \"Network structure for critic network not provided\"\n",
    "            self.input_critic = nn.Linear(input_shape[0], hidden_units_critic[0])\n",
    "            self.critic_layers = nn.ModuleList()\n",
    "            for i in range(1, len(hidden_units_critic)):\n",
    "                self.critic_layers.append(nn.Linear(hidden_units_critic[i - 1], hidden_units_critic[i]))\n",
    "                # self.critic_layers.append(nn.ReLU())\n",
    "            self.critic_output = nn.Linear(hidden_units_critic[-1], 1)\n",
    "    \n",
    "    def forward(self, x_actor, x_critic=None):\n",
    "        x_actor = self.relu(self.input_layer(x_actor))\n",
    "        for layer in self.hidden_layers:\n",
    "            x_actor = self.relu(layer(x_actor))\n",
    "        \n",
    "        mean_param = torch.tanh(self.mean_param(x_actor))\n",
    "        sigma_param = torch.nn.functional.softplus(self.sigma_param(x_actor))\n",
    "        \n",
    "        if self.actor_critic_together:\n",
    "            critic_output = self.critic_output(x_actor)\n",
    "            return mean_param, sigma_param, critic_output\n",
    "        else:\n",
    "            x_critic = self.relu(self.input_critic(x_critic))\n",
    "            for layer in self.critic_layers:\n",
    "                x_critic = self.relu(layer(x_critic))\n",
    "            critic_output = self.critic_output(x_critic)\n",
    "            return mean_param, sigma_param, critic_output"
   ]
  },
  {
   "cell_type": "code",
   "execution_count": 804,
   "id": "22623999",
   "metadata": {},
   "outputs": [
    {
     "data": {
      "text/plain": [
       "'class ActorCritic(nn.Module):\\n    def __init__(self, input_shape: Tuple, hidden_units: Union[List, Tuple], n_actions: int,\\n                 actor_critic_together: bool = True,\\n                 hidden_units_critic: Optional[Union[List, Tuple]] = None):\\n        super(ActorCritic, self).__init__()\\n        \\n        # Actor network\\n        self.actor_layers = nn.ModuleList()\\n        self.actor_layers.append(nn.Linear(input_shape[0], hidden_units[0]))\\n        self.actor_layers.append(nn.ReLU())\\n        \\n        for i in range(1, len(hidden_units)):\\n            self.actor_layers.append(nn.Linear(hidden_units[i - 1], hidden_units[i]))\\n            self.actor_layers.append(nn.ReLU())\\n        self.mean_param = nn.Linear(hidden_units[-1], n_actions)\\n        self.sigma_param = nn.Linear(hidden_units[-1], n_actions)\\n        \\n        # Critic network\\n        if actor_critic_together:\\n            self.critic_layers = self.actor_layers  # Share layers with actor\\n        else:\\n            assert hidden_units_critic is not None, \"Network structure for critic network not provided\"\\n            self.critic_layers = nn.ModuleList()\\n            self.critic_layers.append(nn.Linear(input_shape[0], hidden_units_critic[0]))\\n            self.critic_layers.append(nn.ReLU())\\n            for i in range(1, len(hidden_units_critic)):\\n                self.critic_layers.append(nn.Linear(hidden_units_critic[i - 1], hidden_units_critic[i]))\\n                self.critic_layers.append(nn.ReLU())\\n        self.critic_output = nn.Linear(hidden_units_critic[-1] if not actor_critic_together else hidden_units[-1], 1)\\n    \\n    def forward(self, x):\\n        # Actor forward pass\\n        for layer in self.actor_layers:\\n            x = layer(x)\\n        mean_param = torch.tanh(self.mean_param(x))\\n        sigma_param = F.softplus(self.sigma_param(x))\\n        \\n        # Critic forward pass\\n        x_critic = x\\n        for layer in self.critic_layers:\\n            x_critic = layer(x_critic)\\n        critic_output = self.critic_output(x_critic)\\n        \\n        return mean_param, sigma_param, critic_output'"
      ]
     },
     "execution_count": 804,
     "metadata": {},
     "output_type": "execute_result"
    }
   ],
   "source": [
    "\"\"\"class ActorCritic(nn.Module):\n",
    "    def __init__(self, input_shape: Tuple, hidden_units: Union[List, Tuple], n_actions: int,\n",
    "                 actor_critic_together: bool = True,\n",
    "                 hidden_units_critic: Optional[Union[List, Tuple]] = None):\n",
    "        super(ActorCritic, self).__init__()\n",
    "        \n",
    "        # Actor network\n",
    "        self.actor_layers = nn.ModuleList()\n",
    "        self.actor_layers.append(nn.Linear(input_shape[0], hidden_units[0]))\n",
    "        self.actor_layers.append(nn.ReLU())\n",
    "        \n",
    "        for i in range(1, len(hidden_units)):\n",
    "            self.actor_layers.append(nn.Linear(hidden_units[i - 1], hidden_units[i]))\n",
    "            self.actor_layers.append(nn.ReLU())\n",
    "        self.mean_param = nn.Linear(hidden_units[-1], n_actions)\n",
    "        self.sigma_param = nn.Linear(hidden_units[-1], n_actions)\n",
    "        \n",
    "        # Critic network\n",
    "        if actor_critic_together:\n",
    "            self.critic_layers = self.actor_layers  # Share layers with actor\n",
    "        else:\n",
    "            assert hidden_units_critic is not None, \"Network structure for critic network not provided\"\n",
    "            self.critic_layers = nn.ModuleList()\n",
    "            self.critic_layers.append(nn.Linear(input_shape[0], hidden_units_critic[0]))\n",
    "            self.critic_layers.append(nn.ReLU())\n",
    "            for i in range(1, len(hidden_units_critic)):\n",
    "                self.critic_layers.append(nn.Linear(hidden_units_critic[i - 1], hidden_units_critic[i]))\n",
    "                self.critic_layers.append(nn.ReLU())\n",
    "        self.critic_output = nn.Linear(hidden_units_critic[-1] if not actor_critic_together else hidden_units[-1], 1)\n",
    "    \n",
    "    def forward(self, x):\n",
    "        # Actor forward pass\n",
    "        for layer in self.actor_layers:\n",
    "            x = layer(x)\n",
    "        mean_param = torch.tanh(self.mean_param(x))\n",
    "        sigma_param = F.softplus(self.sigma_param(x))\n",
    "        \n",
    "        # Critic forward pass\n",
    "        x_critic = x\n",
    "        for layer in self.critic_layers:\n",
    "            x_critic = layer(x_critic)\n",
    "        critic_output = self.critic_output(x_critic)\n",
    "        \n",
    "        return mean_param, sigma_param, critic_output\"\"\""
   ]
  },
  {
   "cell_type": "code",
   "execution_count": 805,
   "id": "44ec31f2",
   "metadata": {},
   "outputs": [
    {
     "data": {
      "text/plain": [
       "'class ActorCritic(nn.Module):\\n    def __init__(self, input_shape: Tuple, hidden_units: Union[List, Tuple], n_actions: int,\\n                 actor_critic_together: bool = True,\\n                 hidden_units_critic: Optional[Union[List, Tuple]] = None):\\n        super(ActorCritic, self).__init__()\\n        \\n        # Actor Network\\n        self.input_layer = nn.Linear(input_shape[0], hidden_units[0])\\n        self._init_weights(self.input_layer, 0.1, 0.5)\\n        \\n        self.hidden_layers = nn.ModuleList()\\n        for i, units in enumerate(hidden_units[1:]):\\n            layer = nn.Linear(hidden_units[i], units)\\n            self._init_weights(layer, 0.1, 0.5)\\n            self.hidden_layers.append(layer)\\n        \\n        self.mean_param = nn.Linear(hidden_units[-1], n_actions)\\n        self.sigma_param = nn.Linear(hidden_units[-1], n_actions)\\n        \\n        # Critic Network\\n        if actor_critic_together:\\n            self.critic_output = nn.Linear(hidden_units[-1], 1)\\n        else:\\n            assert hidden_units_critic is not None, \"Network structure for critic network not provided\"\\n            self.input_layer_critic = nn.Linear(input_shape[0], hidden_units_critic[0])\\n            self._init_weights(self.input_layer_critic, 0.1, 0.5)\\n            \\n            self.hidden_layers_critic = nn.ModuleList()\\n            for i, units in enumerate(hidden_units_critic[1:]):\\n                layer = nn.Linear(hidden_units_critic[i], units)\\n                self._init_weights(layer, 0.1, 0.5)\\n                self.hidden_layers_critic.append(layer)\\n            \\n            self.critic_output = nn.Linear(hidden_units_critic[-1], 1)\\n        \\n        self.actor_critic_together = actor_critic_together\\n\\n    def _init_weights(self, layer, std, bias_mean):\\n        nn.init.normal_(layer.weight, mean=0, std=std)\\n        nn.init.normal_(layer.bias, mean=bias_mean, std=1)\\n\\n    def forward(self, x):\\n        x_actor = F.relu(self.input_layer(x))\\n        for layer in self.hidden_layers:\\n            x_actor = F.relu(layer(x_actor))\\n        \\n        mean_param = torch.tanh(self.mean_param(x_actor))\\n        sigma_param = F.softplus(self.sigma_param(x_actor))\\n        \\n        if self.actor_critic_together:\\n            critic_output = self.critic_output(x_actor)\\n            return mean_param, sigma_param, critic_output\\n        else:\\n            x_critic = F.relu(self.input_layer_critic(x))\\n            for layer in self.hidden_layers_critic:\\n                x_critic = F.relu(layer(x_critic))\\n            critic_output = self.critic_output(x_critic)\\n            return mean_param, sigma_param, critic_output'"
      ]
     },
     "execution_count": 805,
     "metadata": {},
     "output_type": "execute_result"
    }
   ],
   "source": [
    "\"\"\"class ActorCritic(nn.Module):\n",
    "    def __init__(self, input_shape: Tuple, hidden_units: Union[List, Tuple], n_actions: int,\n",
    "                 actor_critic_together: bool = True,\n",
    "                 hidden_units_critic: Optional[Union[List, Tuple]] = None):\n",
    "        super(ActorCritic, self).__init__()\n",
    "        \n",
    "        # Actor Network\n",
    "        self.input_layer = nn.Linear(input_shape[0], hidden_units[0])\n",
    "        self._init_weights(self.input_layer, 0.1, 0.5)\n",
    "        \n",
    "        self.hidden_layers = nn.ModuleList()\n",
    "        for i, units in enumerate(hidden_units[1:]):\n",
    "            layer = nn.Linear(hidden_units[i], units)\n",
    "            self._init_weights(layer, 0.1, 0.5)\n",
    "            self.hidden_layers.append(layer)\n",
    "        \n",
    "        self.mean_param = nn.Linear(hidden_units[-1], n_actions)\n",
    "        self.sigma_param = nn.Linear(hidden_units[-1], n_actions)\n",
    "        \n",
    "        # Critic Network\n",
    "        if actor_critic_together:\n",
    "            self.critic_output = nn.Linear(hidden_units[-1], 1)\n",
    "        else:\n",
    "            assert hidden_units_critic is not None, \"Network structure for critic network not provided\"\n",
    "            self.input_layer_critic = nn.Linear(input_shape[0], hidden_units_critic[0])\n",
    "            self._init_weights(self.input_layer_critic, 0.1, 0.5)\n",
    "            \n",
    "            self.hidden_layers_critic = nn.ModuleList()\n",
    "            for i, units in enumerate(hidden_units_critic[1:]):\n",
    "                layer = nn.Linear(hidden_units_critic[i], units)\n",
    "                self._init_weights(layer, 0.1, 0.5)\n",
    "                self.hidden_layers_critic.append(layer)\n",
    "            \n",
    "            self.critic_output = nn.Linear(hidden_units_critic[-1], 1)\n",
    "        \n",
    "        self.actor_critic_together = actor_critic_together\n",
    "\n",
    "    def _init_weights(self, layer, std, bias_mean):\n",
    "        nn.init.normal_(layer.weight, mean=0, std=std)\n",
    "        nn.init.normal_(layer.bias, mean=bias_mean, std=1)\n",
    "\n",
    "    def forward(self, x):\n",
    "        x_actor = F.relu(self.input_layer(x))\n",
    "        for layer in self.hidden_layers:\n",
    "            x_actor = F.relu(layer(x_actor))\n",
    "        \n",
    "        mean_param = torch.tanh(self.mean_param(x_actor))\n",
    "        sigma_param = F.softplus(self.sigma_param(x_actor))\n",
    "        \n",
    "        if self.actor_critic_together:\n",
    "            critic_output = self.critic_output(x_actor)\n",
    "            return mean_param, sigma_param, critic_output\n",
    "        else:\n",
    "            x_critic = F.relu(self.input_layer_critic(x))\n",
    "            for layer in self.hidden_layers_critic:\n",
    "                x_critic = F.relu(layer(x_critic))\n",
    "            critic_output = self.critic_output(x_critic)\n",
    "            return mean_param, sigma_param, critic_output\"\"\""
   ]
  },
  {
   "cell_type": "code",
   "execution_count": 806,
   "id": "a334a768",
   "metadata": {},
   "outputs": [],
   "source": [
    "def select_optimizer(params: np.ndarray, lr: float, optimizer: str = 'Adam', grad_clip: Optional[float] = None,\n",
    "                     concurrent_optimization: bool = True, lr2: Optional[float] = None):\n",
    "          \n",
    "    if concurrent_optimization:\n",
    "        if optimizer == 'Adam':\n",
    "            optimizer1 = optim.Adam(params, lr=lr)\n",
    "            optimizer2 = optim.Adam(params, lr=lr2) if lr2 is not None else None\n",
    "            return optimizer1, optimizer2\n",
    "        elif optimizer == 'SGD':\n",
    "            optimizer1 = optim.SGD(params, lr=lr)\n",
    "            optimizer2 = optim.SGD(params, lr=lr2) if lr2 is not None else None\n",
    "            return optimizer1, optimizer2\n",
    "    else:\n",
    "        if optimizer == 'Adam':\n",
    "            return optim.Adam(params, lr=lr) if grad_clip is None else optim.Adam(params, lr=lr, weight_decay=grad_clip)\n",
    "        elif optimizer == 'SGD':\n",
    "            return optim.SGD(params, lr=lr) if grad_clip is None else optim.SGD(params, lr=lr, weight_decay=grad_clip)\n",
    "        "
   ]
  },
  {
   "cell_type": "code",
   "execution_count": 807,
   "id": "47027955",
   "metadata": {},
   "outputs": [
    {
     "name": "stdout",
     "output_type": "stream",
     "text": [
      "CPU times: user 1 µs, sys: 1e+03 ns, total: 2 µs\n",
      "Wall time: 3.1 µs\n",
      "----------------------------------------------------------------\n",
      "        Layer (type)               Output Shape         Param #\n",
      "================================================================\n",
      "            Linear-1                   [-1, 20]              80\n",
      "              ReLU-2                   [-1, 20]               0\n",
      "            Linear-3                   [-1, 20]             420\n",
      "              ReLU-4                   [-1, 20]               0\n",
      "            Linear-5                   [-1, 30]             630\n",
      "              ReLU-6                   [-1, 30]               0\n",
      "            Linear-7                    [-1, 7]             217\n",
      "            Linear-8                    [-1, 7]             217\n",
      "            Linear-9                    [-1, 1]              31\n",
      "================================================================\n",
      "Total params: 1,595\n",
      "Trainable params: 1,595\n",
      "Non-trainable params: 0\n",
      "----------------------------------------------------------------\n",
      "Input size (MB): 0.00\n",
      "Forward/backward pass size (MB): 0.00\n",
      "Params size (MB): 0.01\n",
      "Estimated Total Size (MB): 0.01\n",
      "----------------------------------------------------------------\n"
     ]
    }
   ],
   "source": [
    "\"\"\"\n",
    "-----------------------------------------------------------------------------------------------------\n",
    "Hyperparameters for RL agent\n",
    "-----------------------------------------------------------------------------------------------------\n",
    "\"\"\"\n",
    "%time\n",
    "\n",
    "# Usage example:\n",
    "n_qubits = 2\n",
    "input_dim = n_qubits + 1\n",
    "input_shape = (input_dim,)  # Replace 'input_dim' with your actual input dimension\n",
    "hidden_units = [20, 20, 30]  # Replace with your desired hidden units\n",
    "actor_critic_together = True  # Set to True or False as needed\n",
    "hidden_units_critic = [20, 20, 20]  # Replace with critic network hidden units if actor_critic_together is False\n",
    "\n",
    "model = ActorCritic(input_shape, hidden_units, n_actions, actor_critic_together, hidden_units_critic)\n",
    "summary(model, input_shape)\n",
    "\n",
    "n_epochs = 1000  # Number of epochs\n",
    "batchsize = 300  # Batch size (iterate over a bunch of actions per policy to estimate expected return)\n",
    "opti = \"Adam\"  # Optimizer choice\n",
    "\n",
    "eta = 0.0018  # Learning rate for policy update step\n",
    "eta_2 = None  # Learning rate for critic (value function) update step\n",
    "\n",
    "use_PPO = True\n",
    "\n",
    "epsilon = 0.01  # Parameter for clipping value (PPO)\n",
    "grad_clip = 0.02\n",
    "critic_loss_coeff = 0.5\n",
    "optimizer = select_optimizer(params=model.parameters(), lr=eta, optimizer=opti, grad_clip=grad_clip, concurrent_optimization=False, lr2=eta_2)\n",
    "sigma_eps = 1e-3  # for numerical stability\n",
    "\n",
    "init_msmt = np.zeros((1, input_dim))  # Here no feedback involved, so measurement sequence is always the same"
   ]
  },
  {
   "cell_type": "code",
   "execution_count": 808,
   "id": "6d3f4d6c-89c6-484e-8013-2508b711757a",
   "metadata": {},
   "outputs": [],
   "source": [
    "# Plotting tools\n",
    "plt.rcParams['figure.dpi'] = 300\n",
    "plt.rcParams['savefig.dpi'] = 300\n",
    "\n",
    "visualization_steps = 20  # For visualization frequency\n",
    "%matplotlib inline"
   ]
  },
  {
   "attachments": {},
   "cell_type": "markdown",
   "id": "51e905a2-cd98-4146-84fd-286ab0b710db",
   "metadata": {},
   "source": [
    "## Run algorithm"
   ]
  },
  {
   "cell_type": "code",
   "execution_count": 809,
   "id": "2b0f7ea9",
   "metadata": {},
   "outputs": [],
   "source": [
    "device = torch.device(\"cuda:0\" if torch.cuda.is_available() else \"cpu\")"
   ]
  },
  {
   "cell_type": "code",
   "execution_count": 810,
   "id": "f4c54a2a",
   "metadata": {},
   "outputs": [
    {
     "data": {
      "text/plain": [
       "'init_msmt_tensor = torch.tensor(init_msmt, dtype=torch.float32)\\n\\n# Assuming network is now a PyTorch model and init_msmt is a tensor\\nmu_old, sigma_old, _ = model(init_msmt_tensor)\\nmu_old = mu_old[0].detach()  # Detach to make it a non-trainable tensor\\nsigma_old = sigma_old[0].detach()\\n\\navg_return = np.zeros(n_epochs)\\nfidelities = np.zeros(n_epochs)\\n\\nfor i in range(n_epochs):\\n\\n    old_distrib = MultivariateNormal(mu_old, torch.diag(sigma_old))\\n    \\n    # Zero the gradients\\n    optimizer.zero_grad()\\n\\n    mu, sigma, b = model(init_msmt_tensor)\\n    mu = mu.squeeze(0)\\n    sigma = sigma.squeeze(0)\\n    b = b.squeeze(0)\\n\\n    policy_distrib = MultivariateNormal(mu, torch.diag(sigma))\\n    \\n    action_vector = torch.clamp(policy_distrib.sample([batchsize]), -1., 1.).detach()  # detach stops the gradient\\n\\n    reward = q_env.perform_action(action_vector)\\n\\n    advantage = torch.tensor(reward) - b\\n\\n    if use_PPO:\\n        ratio = policy_distrib.log_prob(action_vector).exp() / (old_distrib.log_prob(action_vector).exp() + 1e-6)\\n        actor_loss = -torch.mean(torch.min(advantage * ratio, advantage * torch.clamp(ratio, 1 - epsilon, 1 + epsilon)))\\n    else:  # REINFORCE algorithm\\n        actor_loss = -torch.mean(advantage * policy_distrib.log_prob(action_vector))\\n\\n    critic_loss = torch.mean(advantage ** 2)\\n    combined_loss = actor_loss + critic_loss_coeff * critic_loss\\n\\n    # Compute gradients\\n    combined_loss.backward()\\n\\n    # For PPO, update old parameters to have access to \"old\" policy\\n    if use_PPO:\\n        mu_old = mu.detach()\\n        sigma_old = sigma.detach()\\n\\n    avg_return[i] = np.mean(q_env.reward_history, axis=1)[i]\\n    fidelities[i] = q_env.avg_fidelity_history[i]\\n    print(\"Gate Fidelity\", fidelities[i])\\n    \\n    if i % visualization_steps == 0:\\n        from IPython.display import clear_output\\n        clear_output(wait=True)  # for animation\\n        fig, ax = plt.subplots()\\n        ax.plot(np.arange(1, n_epochs, 20), avg_return[0:-1:visualization_steps], \\'-.\\', label=\\'Average return\\')\\n        ax.plot(np.arange(1, n_epochs, 20), fidelities[0:-1:visualization_steps], label=\\'Average Gate Fidelity\\')\\n        ax.set_xlabel(\"Epoch\")\\n        ax.set_ylabel(\"State Fidelity\")\\n        ax.legend()\\n        plt.show()\\n        print(\"Maximum fidelity reached so far:\", np.max(fidelities), \"at Epoch\", np.argmax(fidelities))\\n\\n    # Update parameters\\n    optimizer.step()'"
      ]
     },
     "execution_count": 810,
     "metadata": {},
     "output_type": "execute_result"
    }
   ],
   "source": [
    "\"\"\"init_msmt_tensor = torch.tensor(init_msmt, dtype=torch.float32)\n",
    "\n",
    "# Assuming network is now a PyTorch model and init_msmt is a tensor\n",
    "mu_old, sigma_old, _ = model(init_msmt_tensor)\n",
    "mu_old = mu_old[0].detach()  # Detach to make it a non-trainable tensor\n",
    "sigma_old = sigma_old[0].detach()\n",
    "\n",
    "avg_return = np.zeros(n_epochs)\n",
    "fidelities = np.zeros(n_epochs)\n",
    "\n",
    "for i in range(n_epochs):\n",
    "\n",
    "    old_distrib = MultivariateNormal(mu_old, torch.diag(sigma_old))\n",
    "    \n",
    "    # Zero the gradients\n",
    "    optimizer.zero_grad()\n",
    "\n",
    "    mu, sigma, b = model(init_msmt_tensor)\n",
    "    mu = mu.squeeze(0)\n",
    "    sigma = sigma.squeeze(0)\n",
    "    b = b.squeeze(0)\n",
    "\n",
    "    policy_distrib = MultivariateNormal(mu, torch.diag(sigma))\n",
    "    \n",
    "    action_vector = torch.clamp(policy_distrib.sample([batchsize]), -1., 1.).detach()  # detach stops the gradient\n",
    "\n",
    "    reward = q_env.perform_action(action_vector)\n",
    "\n",
    "    advantage = torch.tensor(reward) - b\n",
    "\n",
    "    if use_PPO:\n",
    "        ratio = policy_distrib.log_prob(action_vector).exp() / (old_distrib.log_prob(action_vector).exp() + 1e-6)\n",
    "        actor_loss = -torch.mean(torch.min(advantage * ratio, advantage * torch.clamp(ratio, 1 - epsilon, 1 + epsilon)))\n",
    "    else:  # REINFORCE algorithm\n",
    "        actor_loss = -torch.mean(advantage * policy_distrib.log_prob(action_vector))\n",
    "\n",
    "    critic_loss = torch.mean(advantage ** 2)\n",
    "    combined_loss = actor_loss + critic_loss_coeff * critic_loss\n",
    "\n",
    "    # Compute gradients\n",
    "    combined_loss.backward()\n",
    "\n",
    "    # For PPO, update old parameters to have access to \"old\" policy\n",
    "    if use_PPO:\n",
    "        mu_old = mu.detach()\n",
    "        sigma_old = sigma.detach()\n",
    "\n",
    "    avg_return[i] = np.mean(q_env.reward_history, axis=1)[i]\n",
    "    fidelities[i] = q_env.avg_fidelity_history[i]\n",
    "    print(\"Gate Fidelity\", fidelities[i])\n",
    "    \n",
    "    if i % visualization_steps == 0:\n",
    "        from IPython.display import clear_output\n",
    "        clear_output(wait=True)  # for animation\n",
    "        fig, ax = plt.subplots()\n",
    "        ax.plot(np.arange(1, n_epochs, 20), avg_return[0:-1:visualization_steps], '-.', label='Average return')\n",
    "        ax.plot(np.arange(1, n_epochs, 20), fidelities[0:-1:visualization_steps], label='Average Gate Fidelity')\n",
    "        ax.set_xlabel(\"Epoch\")\n",
    "        ax.set_ylabel(\"State Fidelity\")\n",
    "        ax.legend()\n",
    "        plt.show()\n",
    "        print(\"Maximum fidelity reached so far:\", np.max(fidelities), \"at Epoch\", np.argmax(fidelities))\n",
    "\n",
    "    # Update parameters\n",
    "    optimizer.step()\"\"\""
   ]
  },
  {
   "cell_type": "code",
   "execution_count": 811,
   "id": "14cd804d-998c-43f0-8119-e28fb0e4c142",
   "metadata": {},
   "outputs": [
    {
     "data": {
      "image/png": "[encoded data removed]",
      "text/plain": [
       "<Figure size 1920x1440 with 1 Axes>"
      ]
     },
     "metadata": {},
     "output_type": "display_data"
    },
    {
     "name": "stderr",
     "output_type": "stream",
     "text": [
      " 64%|██████▍   | 641/1000 [04:08<02:23,  2.50it/s]"
     ]
    },
    {
     "name": "stdout",
     "output_type": "stream",
     "text": [
      "Maximum fidelity reached so far: 0.314672461369267 at Epoch 348\n"
     ]
    },
    {
     "name": "stderr",
     "output_type": "stream",
     "text": [
      " 64%|██████▍   | 642/1000 [04:08<02:18,  2.58it/s]"
     ]
    },
    {
     "name": "stdout",
     "output_type": "stream",
     "text": [
      "Fidelity:  0.2948149901389892\n"
     ]
    },
    {
     "name": "stderr",
     "output_type": "stream",
     "text": [
      " 64%|██████▍   | 643/1000 [04:09<02:15,  2.64it/s]"
     ]
    },
    {
     "name": "stdout",
     "output_type": "stream",
     "text": [
      "Fidelity:  0.3067799854752517\n"
     ]
    },
    {
     "name": "stderr",
     "output_type": "stream",
     "text": [
      " 64%|██████▍   | 644/1000 [04:09<02:08,  2.76it/s]"
     ]
    },
    {
     "name": "stdout",
     "output_type": "stream",
     "text": [
      "Fidelity:  0.2926361021844217\n"
     ]
    },
    {
     "name": "stderr",
     "output_type": "stream",
     "text": [
      " 64%|██████▍   | 645/1000 [04:09<02:07,  2.79it/s]"
     ]
    },
    {
     "name": "stdout",
     "output_type": "stream",
     "text": [
      "Fidelity:  0.2899594534027938\n"
     ]
    },
    {
     "name": "stderr",
     "output_type": "stream",
     "text": [
      " 65%|██████▍   | 646/1000 [04:10<02:06,  2.80it/s]"
     ]
    },
    {
     "name": "stdout",
     "output_type": "stream",
     "text": [
      "Fidelity:  0.2907224641092307\n"
     ]
    },
    {
     "name": "stderr",
     "output_type": "stream",
     "text": [
      " 65%|██████▍   | 647/1000 [04:10<02:06,  2.79it/s]"
     ]
    },
    {
     "name": "stdout",
     "output_type": "stream",
     "text": [
      "Fidelity:  0.3029259422360947\n"
     ]
    },
    {
     "name": "stderr",
     "output_type": "stream",
     "text": [
      " 65%|██████▍   | 648/1000 [04:11<02:07,  2.76it/s]"
     ]
    },
    {
     "name": "stdout",
     "output_type": "stream",
     "text": [
      "Fidelity:  0.2977573894237182\n"
     ]
    },
    {
     "name": "stderr",
     "output_type": "stream",
     "text": [
      " 65%|██████▍   | 649/1000 [04:11<02:08,  2.73it/s]"
     ]
    },
    {
     "name": "stdout",
     "output_type": "stream",
     "text": [
      "Fidelity:  0.30343005806139456\n"
     ]
    },
    {
     "name": "stderr",
     "output_type": "stream",
     "text": [
      " 65%|██████▌   | 650/1000 [04:11<02:05,  2.79it/s]"
     ]
    },
    {
     "name": "stdout",
     "output_type": "stream",
     "text": [
      "Fidelity:  0.3098907702503829\n"
     ]
    },
    {
     "name": "stderr",
     "output_type": "stream",
     "text": [
      " 65%|██████▌   | 651/1000 [04:12<02:05,  2.79it/s]"
     ]
    },
    {
     "name": "stdout",
     "output_type": "stream",
     "text": [
      "Fidelity:  0.2958527344066926\n"
     ]
    },
    {
     "name": "stderr",
     "output_type": "stream",
     "text": [
      " 65%|██████▌   | 652/1000 [04:12<02:02,  2.85it/s]"
     ]
    },
    {
     "name": "stdout",
     "output_type": "stream",
     "text": [
      "Fidelity:  0.29360196398304755\n"
     ]
    },
    {
     "name": "stderr",
     "output_type": "stream",
     "text": [
      " 65%|██████▌   | 653/1000 [04:12<02:01,  2.85it/s]"
     ]
    },
    {
     "name": "stdout",
     "output_type": "stream",
     "text": [
      "Fidelity:  0.30769076353861596\n"
     ]
    },
    {
     "name": "stderr",
     "output_type": "stream",
     "text": [
      " 65%|██████▌   | 654/1000 [04:13<02:01,  2.86it/s]"
     ]
    },
    {
     "name": "stdout",
     "output_type": "stream",
     "text": [
      "Fidelity:  0.28393429446306245\n"
     ]
    },
    {
     "name": "stderr",
     "output_type": "stream",
     "text": [
      " 66%|██████▌   | 655/1000 [04:13<02:01,  2.85it/s]"
     ]
    },
    {
     "name": "stdout",
     "output_type": "stream",
     "text": [
      "Fidelity:  0.2884775754219731\n"
     ]
    },
    {
     "name": "stderr",
     "output_type": "stream",
     "text": [
      " 66%|██████▌   | 656/1000 [04:13<02:00,  2.86it/s]"
     ]
    },
    {
     "name": "stdout",
     "output_type": "stream",
     "text": [
      "Fidelity:  0.29689033063829307\n"
     ]
    },
    {
     "name": "stderr",
     "output_type": "stream",
     "text": [
      " 66%|██████▌   | 657/1000 [04:14<02:00,  2.86it/s]"
     ]
    },
    {
     "name": "stdout",
     "output_type": "stream",
     "text": [
      "Fidelity:  0.2957213332224679\n"
     ]
    },
    {
     "name": "stderr",
     "output_type": "stream",
     "text": [
      " 66%|██████▌   | 658/1000 [04:14<02:12,  2.58it/s]"
     ]
    },
    {
     "name": "stdout",
     "output_type": "stream",
     "text": [
      "Fidelity:  0.2969803699291138\n"
     ]
    },
    {
     "name": "stderr",
     "output_type": "stream",
     "text": [
      "\n"
     ]
    },
    {
     "ename": "KeyboardInterrupt",
     "evalue": "",
     "output_type": "error",
     "traceback": [
      "\u001b[0;31m---------------------------------------------------------------------------\u001b[0m",
      "\u001b[0;31mKeyboardInterrupt\u001b[0m                         Traceback (most recent call last)",
      "Cell \u001b[0;32mIn[811], line 32\u001b[0m\n\u001b[1;32m     29\u001b[0m action_vector \u001b[39m=\u001b[39m distribution\u001b[39m.\u001b[39msample((batchsize,))\n\u001b[1;32m     30\u001b[0m action_vector_clipped \u001b[39m=\u001b[39m torch\u001b[39m.\u001b[39mclamp(action_vector, \u001b[39m-\u001b[39m\u001b[39m1.\u001b[39m, \u001b[39m1.\u001b[39m)\u001b[39m.\u001b[39msqueeze()\n\u001b[0;32m---> 32\u001b[0m reward \u001b[39m=\u001b[39m q_env\u001b[39m.\u001b[39;49mperform_action(action_vector_clipped, do_benchmark\u001b[39m=\u001b[39;49m\u001b[39mTrue\u001b[39;49;00m)\n\u001b[1;32m     33\u001b[0m optimizer\u001b[39m.\u001b[39mzero_grad()\n\u001b[1;32m     35\u001b[0m advantage \u001b[39m=\u001b[39m torch\u001b[39m.\u001b[39mtensor(reward) \u001b[39m-\u001b[39m b\n",
      "File \u001b[0;32m~/Documents/Master Wirtschaftsphysik/Masterarbeit Yale-NUS CQT/Quantum_Optimal_Control/quantumenvironment.py:305\u001b[0m, in \u001b[0;36mQuantumEnvironment.perform_action\u001b[0;34m(self, actions, do_benchmark)\u001b[0m\n\u001b[1;32m    303\u001b[0m \u001b[39mself\u001b[39m\u001b[39m.\u001b[39mqc_history\u001b[39m.\u001b[39mappend(qc_list)\n\u001b[1;32m    304\u001b[0m \u001b[39mif\u001b[39;00m do_benchmark:\n\u001b[0;32m--> 305\u001b[0m     \u001b[39mself\u001b[39;49m\u001b[39m.\u001b[39;49m_store_benchmarks(qc_list)\n\u001b[1;32m    307\u001b[0m \u001b[39m# Build full quantum circuit: concatenate input state prep and parametrized unitary\u001b[39;00m\n\u001b[1;32m    308\u001b[0m \u001b[39mself\u001b[39m\u001b[39m.\u001b[39mparametrized_circuit_func(qc)\n",
      "File \u001b[0;32m~/Documents/Master Wirtschaftsphysik/Masterarbeit Yale-NUS CQT/Quantum_Optimal_Control/quantumenvironment.py:331\u001b[0m, in \u001b[0;36mQuantumEnvironment._store_benchmarks\u001b[0;34m(self, qc_list)\u001b[0m\n\u001b[1;32m    328\u001b[0m \u001b[39m# Circuit list for each action of the batch\u001b[39;00m\n\u001b[1;32m    329\u001b[0m \u001b[39mif\u001b[39;00m \u001b[39mself\u001b[39m\u001b[39m.\u001b[39mabstraction_level \u001b[39m==\u001b[39m \u001b[39m'\u001b[39m\u001b[39mcircuit\u001b[39m\u001b[39m'\u001b[39m:\n\u001b[0;32m--> 331\u001b[0m     q_state_list \u001b[39m=\u001b[39m [Statevector\u001b[39m.\u001b[39mfrom_instruction(qc) \u001b[39mfor\u001b[39;00m qc \u001b[39min\u001b[39;00m qc_list]\n\u001b[1;32m    332\u001b[0m     density_matrix \u001b[39m=\u001b[39m DensityMatrix(np\u001b[39m.\u001b[39mmean([q_state\u001b[39m.\u001b[39mto_operator()\u001b[39m.\u001b[39mto_matrix() \u001b[39mfor\u001b[39;00m q_state \u001b[39min\u001b[39;00m q_state_list],\n\u001b[1;32m    333\u001b[0m                                            axis\u001b[39m=\u001b[39m\u001b[39m0\u001b[39m))\n\u001b[1;32m    334\u001b[0m     \u001b[39mself\u001b[39m\u001b[39m.\u001b[39mdensity_matrix_history\u001b[39m.\u001b[39mappend(density_matrix)\n",
      "File \u001b[0;32m~/Documents/Master Wirtschaftsphysik/Masterarbeit Yale-NUS CQT/Quantum_Optimal_Control/quantumenvironment.py:331\u001b[0m, in \u001b[0;36m<listcomp>\u001b[0;34m(.0)\u001b[0m\n\u001b[1;32m    328\u001b[0m \u001b[39m# Circuit list for each action of the batch\u001b[39;00m\n\u001b[1;32m    329\u001b[0m \u001b[39mif\u001b[39;00m \u001b[39mself\u001b[39m\u001b[39m.\u001b[39mabstraction_level \u001b[39m==\u001b[39m \u001b[39m'\u001b[39m\u001b[39mcircuit\u001b[39m\u001b[39m'\u001b[39m:\n\u001b[0;32m--> 331\u001b[0m     q_state_list \u001b[39m=\u001b[39m [Statevector\u001b[39m.\u001b[39;49mfrom_instruction(qc) \u001b[39mfor\u001b[39;00m qc \u001b[39min\u001b[39;00m qc_list]\n\u001b[1;32m    332\u001b[0m     density_matrix \u001b[39m=\u001b[39m DensityMatrix(np\u001b[39m.\u001b[39mmean([q_state\u001b[39m.\u001b[39mto_operator()\u001b[39m.\u001b[39mto_matrix() \u001b[39mfor\u001b[39;00m q_state \u001b[39min\u001b[39;00m q_state_list],\n\u001b[1;32m    333\u001b[0m                                            axis\u001b[39m=\u001b[39m\u001b[39m0\u001b[39m))\n\u001b[1;32m    334\u001b[0m     \u001b[39mself\u001b[39m\u001b[39m.\u001b[39mdensity_matrix_history\u001b[39m.\u001b[39mappend(density_matrix)\n",
      "File \u001b[0;32m~/Library/Python/3.9/lib/python/site-packages/qiskit/quantum_info/states/statevector.py:755\u001b[0m, in \u001b[0;36mStatevector.from_instruction\u001b[0;34m(cls, instruction)\u001b[0m\n\u001b[1;32m    753\u001b[0m init[\u001b[39m0\u001b[39m] \u001b[39m=\u001b[39m \u001b[39m1.0\u001b[39m\n\u001b[1;32m    754\u001b[0m vec \u001b[39m=\u001b[39m Statevector(init, dims\u001b[39m=\u001b[39minstruction\u001b[39m.\u001b[39mnum_qubits \u001b[39m*\u001b[39m (\u001b[39m2\u001b[39m,))\n\u001b[0;32m--> 755\u001b[0m \u001b[39mreturn\u001b[39;00m Statevector\u001b[39m.\u001b[39;49m_evolve_instruction(vec, instruction)\n",
      "File \u001b[0;32m~/Library/Python/3.9/lib/python/site-packages/qiskit/quantum_info/states/statevector.py:947\u001b[0m, in \u001b[0;36mStatevector._evolve_instruction\u001b[0;34m(statevec, obj, qargs)\u001b[0m\n\u001b[1;32m    945\u001b[0m     \u001b[39melse\u001b[39;00m:\n\u001b[1;32m    946\u001b[0m         new_qargs \u001b[39m=\u001b[39m [qargs[qubits[tup]] \u001b[39mfor\u001b[39;00m tup \u001b[39min\u001b[39;00m instruction\u001b[39m.\u001b[39mqubits]\n\u001b[0;32m--> 947\u001b[0m     Statevector\u001b[39m.\u001b[39;49m_evolve_instruction(statevec, instruction\u001b[39m.\u001b[39;49moperation, qargs\u001b[39m=\u001b[39;49mnew_qargs)\n\u001b[1;32m    948\u001b[0m \u001b[39mreturn\u001b[39;00m statevec\n",
      "File \u001b[0;32m~/Library/Python/3.9/lib/python/site-packages/qiskit/quantum_info/states/statevector.py:887\u001b[0m, in \u001b[0;36mStatevector._evolve_instruction\u001b[0;34m(statevec, obj, qargs)\u001b[0m\n\u001b[1;32m    883\u001b[0m mat \u001b[39m=\u001b[39m Operator\u001b[39m.\u001b[39m_instruction_to_matrix(obj)\n\u001b[1;32m    884\u001b[0m \u001b[39mif\u001b[39;00m mat \u001b[39mis\u001b[39;00m \u001b[39mnot\u001b[39;00m \u001b[39mNone\u001b[39;00m:\n\u001b[1;32m    885\u001b[0m     \u001b[39m# Perform the composition and inplace update the current state\u001b[39;00m\n\u001b[1;32m    886\u001b[0m     \u001b[39m# of the operator\u001b[39;00m\n\u001b[0;32m--> 887\u001b[0m     \u001b[39mreturn\u001b[39;00m Statevector\u001b[39m.\u001b[39m_evolve_operator(statevec, Operator(mat), qargs\u001b[39m=\u001b[39mqargs)\n\u001b[1;32m    889\u001b[0m \u001b[39m# Special instruction types\u001b[39;00m\n\u001b[1;32m    890\u001b[0m \u001b[39mif\u001b[39;00m \u001b[39misinstance\u001b[39m(obj, Reset):\n",
      "File \u001b[0;32m~/Library/Python/3.9/lib/python/site-packages/qiskit/quantum_info/operators/operator.py:101\u001b[0m, in \u001b[0;36mOperator.__init__\u001b[0;34m(self, data, input_dims, output_dims)\u001b[0m\n\u001b[1;32m     98\u001b[0m \u001b[39melse\u001b[39;00m:\n\u001b[1;32m     99\u001b[0m     \u001b[39mraise\u001b[39;00m QiskitError(\u001b[39m\"\u001b[39m\u001b[39mInvalid input data format for Operator\u001b[39m\u001b[39m\"\u001b[39m)\n\u001b[0;32m--> 101\u001b[0m \u001b[39msuper\u001b[39;49m()\u001b[39m.\u001b[39;49m\u001b[39m__init__\u001b[39;49m(\n\u001b[1;32m    102\u001b[0m     op_shape\u001b[39m=\u001b[39;49mop_shape,\n\u001b[1;32m    103\u001b[0m     input_dims\u001b[39m=\u001b[39;49minput_dims,\n\u001b[1;32m    104\u001b[0m     output_dims\u001b[39m=\u001b[39;49moutput_dims,\n\u001b[1;32m    105\u001b[0m     shape\u001b[39m=\u001b[39;49m\u001b[39mself\u001b[39;49m\u001b[39m.\u001b[39;49m_data\u001b[39m.\u001b[39;49mshape,\n\u001b[1;32m    106\u001b[0m )\n",
      "File \u001b[0;32m~/Library/Python/3.9/lib/python/site-packages/qiskit/quantum_info/operators/base_operator.py:51\u001b[0m, in \u001b[0;36mBaseOperator.__init__\u001b[0;34m(self, input_dims, output_dims, num_qubits, shape, op_shape)\u001b[0m\n\u001b[1;32m     49\u001b[0m     \u001b[39mself\u001b[39m\u001b[39m.\u001b[39m_op_shape \u001b[39m=\u001b[39m op_shape\n\u001b[1;32m     50\u001b[0m \u001b[39melse\u001b[39;00m:\n\u001b[0;32m---> 51\u001b[0m     \u001b[39mself\u001b[39m\u001b[39m.\u001b[39m_op_shape \u001b[39m=\u001b[39m OpShape\u001b[39m.\u001b[39;49mauto(\n\u001b[1;32m     52\u001b[0m         shape\u001b[39m=\u001b[39;49mshape, dims_l\u001b[39m=\u001b[39;49moutput_dims, dims_r\u001b[39m=\u001b[39;49minput_dims, num_qubits\u001b[39m=\u001b[39;49mnum_qubits\n\u001b[1;32m     53\u001b[0m     )\n",
      "File \u001b[0;32m~/Library/Python/3.9/lib/python/site-packages/qiskit/quantum_info/operators/op_shape.py:292\u001b[0m, in \u001b[0;36mOpShape.auto\u001b[0;34m(cls, shape, dims_l, dims_r, dims, num_qubits_l, num_qubits_r, num_qubits)\u001b[0m\n\u001b[1;32m    290\u001b[0m \u001b[39m# Validate shape\u001b[39;00m\n\u001b[1;32m    291\u001b[0m \u001b[39mif\u001b[39;00m shape:\n\u001b[0;32m--> 292\u001b[0m     matrix_shape\u001b[39m.\u001b[39;49mvalidate_shape(shape)\n\u001b[1;32m    293\u001b[0m \u001b[39mreturn\u001b[39;00m matrix_shape\n",
      "File \u001b[0;32m~/Library/Python/3.9/lib/python/site-packages/qiskit/quantum_info/operators/op_shape.py:179\u001b[0m, in \u001b[0;36mOpShape.validate_shape\u001b[0;34m(self, shape)\u001b[0m\n\u001b[1;32m    177\u001b[0m \u001b[39mdef\u001b[39;00m \u001b[39mvalidate_shape\u001b[39m(\u001b[39mself\u001b[39m, shape):\n\u001b[1;32m    178\u001b[0m \u001b[39m    \u001b[39m\u001b[39m\"\"\"Raise an exception if shape is not valid for the OpShape\"\"\"\u001b[39;00m\n\u001b[0;32m--> 179\u001b[0m     \u001b[39mreturn\u001b[39;00m \u001b[39mself\u001b[39;49m\u001b[39m.\u001b[39;49m_validate(shape, raise_exception\u001b[39m=\u001b[39;49m\u001b[39mTrue\u001b[39;49;00m)\n",
      "File \u001b[0;32m~/Library/Python/3.9/lib/python/site-packages/qiskit/quantum_info/operators/op_shape.py:212\u001b[0m, in \u001b[0;36mOpShape._validate\u001b[0;34m(self, shape, raise_exception)\u001b[0m\n\u001b[1;32m    207\u001b[0m             \u001b[39mraise\u001b[39;00m QiskitError(\n\u001b[1;32m    208\u001b[0m                 \u001b[39m\"\u001b[39m\u001b[39mInput dimensions do not match matrix shape \u001b[39m\u001b[39m\"\u001b[39m\n\u001b[1;32m    209\u001b[0m                 \u001b[39m\"\u001b[39m\u001b[39m(\u001b[39m\u001b[39m{}\u001b[39;00m\u001b[39m != \u001b[39m\u001b[39m{}\u001b[39;00m\u001b[39m)\u001b[39m\u001b[39m\"\u001b[39m\u001b[39m.\u001b[39mformat(reduce(mul, \u001b[39mself\u001b[39m\u001b[39m.\u001b[39m_dims_r), shape[\u001b[39m1\u001b[39m])\n\u001b[1;32m    210\u001b[0m             )\n\u001b[1;32m    211\u001b[0m         \u001b[39mreturn\u001b[39;00m \u001b[39mFalse\u001b[39;00m\n\u001b[0;32m--> 212\u001b[0m \u001b[39melif\u001b[39;00m shape[\u001b[39m1\u001b[39m] \u001b[39m!=\u001b[39m \u001b[39m2\u001b[39;49m\u001b[39m*\u001b[39;49m\u001b[39m*\u001b[39;49m\u001b[39mself\u001b[39;49m\u001b[39m.\u001b[39;49m_num_qargs_r:\n\u001b[1;32m    213\u001b[0m     \u001b[39mif\u001b[39;00m raise_exception:\n\u001b[1;32m    214\u001b[0m         \u001b[39mraise\u001b[39;00m QiskitError(\u001b[39m\"\u001b[39m\u001b[39mNumber of right qubits does not match matrix shape\u001b[39m\u001b[39m\"\u001b[39m)\n",
      "\u001b[0;31mKeyboardInterrupt\u001b[0m: "
     ]
    }
   ],
   "source": [
    "\"\"\"\n",
    "-----------------------------------------------------------------------------------------------------\n",
    "Training loop\n",
    "-----------------------------------------------------------------------------------------------------\n",
    "\"\"\"\n",
    "\n",
    "init_msmt_tensor = torch.tensor(init_msmt, dtype=torch.float32).to(device)\n",
    "mu_old, sigma_old, _ = model(init_msmt_tensor)\n",
    "\n",
    "# Initialization\n",
    "avg_return = np.zeros(n_epochs)\n",
    "fidelities = np.zeros(n_epochs)\n",
    "\n",
    "for i in tqdm(range(n_epochs)):\n",
    "\n",
    "    init_msmt_tensor = torch.tensor(init_msmt, dtype=torch.float32)\n",
    "\n",
    "    mu, sigma, b = model(init_msmt_tensor)\n",
    "    \n",
    "\n",
    "    # Build the covariance matrix\n",
    "    cov_matrix = torch.diag_embed(sigma**2) # + sigma_eps*torch.eye(n_actions)\n",
    "    cov_matrix_old = torch.diag_embed(sigma_old**2) # + sigma_eps*torch.eye(n_actions)\n",
    "        \n",
    "    # Sample action\n",
    "    distribution = MultivariateNormal(mu, cov_matrix)\n",
    "    old_distribution = MultivariateNormal(mu_old, cov_matrix_old)\n",
    "\n",
    "    action_vector = distribution.sample((batchsize,))\n",
    "    action_vector_clipped = torch.clamp(action_vector, -1., 1.).squeeze()\n",
    "\n",
    "    reward = q_env.perform_action(action_vector_clipped, do_benchmark=True)\n",
    "    optimizer.zero_grad()\n",
    "\n",
    "    advantage = torch.tensor(reward) - b\n",
    "    \n",
    "    # Policy loss\n",
    "    if use_PPO: # PPO\n",
    "        ratio = distribution.log_prob(action_vector_clipped).exp() / (old_distribution.log_prob(action_vector_clipped).exp() + sigma_eps)\n",
    "        clipped_ratio = torch.clamp(ratio, 1 - epsilon, 1 + epsilon)\n",
    "        actor_loss = -torch.mean(torch.min(advantage * ratio, advantage * clipped_ratio))\n",
    "    \n",
    "    else:  # REINFORCE\n",
    "        actor_loss = -torch.mean(advantage * distribution.log_prob(action_vector_clipped))\n",
    "\n",
    "    critic_loss = torch.mean(advantage ** 2)\n",
    "    combined_loss = actor_loss + critic_loss_coeff * critic_loss\n",
    "    # Backward pass\n",
    "    combined_loss.backward()\n",
    "\n",
    "    # Clipping gradients (if needed)\n",
    "    torch.nn.utils.clip_grad_norm_([mu, sigma, b], grad_clip)\n",
    "\n",
    "    if use_PPO:\n",
    "        mu_old = mu.data.clone()\n",
    "        sigma_old = sigma.data.clone()\n",
    "\n",
    "    optimizer.step()\n",
    "\n",
    "    # Assuming `q_env` is storing reward history and fidelity history, but this depends on your specific environment logic.\n",
    "    avg_return[i] = np.mean(q_env.reward_history)\n",
    "    # print('Average return: ', avg_return[i])\n",
    "    fidelities[i] = np.mean(q_env.avg_fidelity_history[i])\n",
    "    print('Fidelity: ', fidelities[i])\n",
    "\n",
    "    if i % visualization_steps == 0:\n",
    "        # Clear the current output\n",
    "        from IPython.display import clear_output\n",
    "        clear_output(wait=True)\n",
    "\n",
    "        # Create the figure and plot\n",
    "        fig, ax = plt.subplots()\n",
    "        ax.plot(np.arange(1, n_epochs + 1, visualization_steps), avg_return[0:-1:visualization_steps], '-.', label='Average return')\n",
    "        ax.plot(np.arange(1, n_epochs + 1, visualization_steps), fidelities[0:-1:visualization_steps], label='Average Gate Fidelity')\n",
    "        ax.set_xlabel(\"Epoch\")\n",
    "        ax.set_ylabel(\"State Fidelity\")\n",
    "        ax.legend()\n",
    "        plt.show()\n",
    "\n",
    "        # Print additional information\n",
    "        print(\"Maximum fidelity reached so far:\", np.max(fidelities[:i+1]), \"at Epoch\", np.argmax(fidelities[:i+1]))"
   ]
  },
  {
   "cell_type": "code",
   "execution_count": null,
   "id": "36685a5e-0517-49c8-8ebe-56bb3999f0ea",
   "metadata": {},
   "outputs": [],
   "source": [
    "# print(\"Actions yielding optimal fidelity:\", np.mean(q_env.action_history[np.argmax(fidelities)], axis=0))"
   ]
  }
 ],
 "metadata": {
  "kernelspec": {
   "display_name": "Python 3 (ipykernel)",
   "language": "python",
   "name": "python3"
  },
  "language_info": {
   "codemirror_mode": {
    "name": "ipython",
    "version": 3
   },
   "file_extension": ".py",
   "mimetype": "text/x-python",
   "name": "python",
   "nbconvert_exporter": "python",
   "pygments_lexer": "ipython3",
   "version": "3.9.6"
  }
 },
 "nbformat": 4,
 "nbformat_minor": 5
}

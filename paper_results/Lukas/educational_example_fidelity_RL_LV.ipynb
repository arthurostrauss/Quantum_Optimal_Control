{
 "cells": [
  {
   "attachments": {},
   "cell_type": "markdown",
   "metadata": {},
   "source": [
    "## Reproducing the Educational Example (see Appendix A) of the paper PhysRevX.12.011059 by Sivak et al."
   ]
  },
  {
   "attachments": {},
   "cell_type": "markdown",
   "metadata": {},
   "source": [
    "We want to implement a Reinforcement Learning (RL) model (which is a classical Neural Network) and train its agent to learn the rotation angle $\\theta$ to flip the incoming quantum state $\\ket{0}$ to the $\\ket{1}$ state by applying a RX-gate($\\theta$)."
   ]
  },
  {
   "attachments": {},
   "cell_type": "markdown",
   "metadata": {},
   "source": [
    "This code is implemented in ``PyTorch`` and bases its architecture on the one by Mr. Arthur Strauss who used ``TensorFlow`` (https://github.com/arthurostrauss/Quantum_Optimal_Control/tree/main/paper_results)"
   ]
  },
  {
   "attachments": {},
   "cell_type": "markdown",
   "metadata": {},
   "source": [
    "#### Imports"
   ]
  },
  {
   "cell_type": "code",
   "execution_count": 602,
   "metadata": {},
   "outputs": [],
   "source": [
    "import numpy as np\n",
    "from tqdm import tqdm\n",
    "import matplotlib.pyplot as plt\n",
    "import matplotlib.colors as mcolors\n",
    "from scipy.stats import norm\n",
    "from scipy.linalg import sqrtm\n",
    "\n",
    "import torch\n",
    "import torch.nn as nn\n",
    "import torch.optim as optim\n",
    "from torch.distributions import Normal\n",
    "import torch.optim as optim\n",
    "\n",
    "from qiskit import QuantumCircuit\n",
    "from qiskit.providers.aer import QasmSimulator\n",
    "import qiskit.quantum_info as qi"
   ]
  },
  {
   "attachments": {},
   "cell_type": "markdown",
   "metadata": {},
   "source": [
    "#### The RL agent performs an action"
   ]
  },
  {
   "attachments": {},
   "cell_type": "markdown",
   "metadata": {},
   "source": [
    "To measure in the Hadamard basis (or X-basis), you can use the Hadamard gate. Specifically, before performing the measurement on a qubit prepared in a certain state, apply a Hadamard gate. This gate transforms the state from the computational (Z) basis to the Hadamard (X) basis. After applying the Hadamard gate, you can measure in the usual Z-basis, which effectively corresponds to a measurement in the X-basis.\n",
    "\n",
    "**To measure the $\\ket{+}$ state in the Hadamard basis:**\n",
    "\n",
    "- Apply a Hadamard gate on the qubit that's in the $\\ket{+}$ state.\n",
    "- Measure in the computational basis ($\\ket{0}$ and $\\ket{1}$).\n",
    "- The outcome of the measurement is then in the Hadamard basis.\n",
    "\n",
    "**To measure the $\\ket{-}$ state in the Hadamard basis:**\n",
    "\n",
    "- Apply a z-gate on the qubit\n",
    "- Apply a Hadamard gate on the qubit that's in the $\\ket{-}$ state.\n",
    "- Measure in the computational basis ($\\ket{0}$ and $\\ket{1}$).\n",
    "- The outcome of the measurement is then in the Hadamard basis."
   ]
  },
  {
   "attachments": {},
   "cell_type": "markdown",
   "metadata": {},
   "source": [
    "Estimate a density matrix based on the binary (either 0 or 1) measurement outcomes of the quantum circuit"
   ]
  },
  {
   "cell_type": "code",
   "execution_count": 603,
   "metadata": {},
   "outputs": [],
   "source": [
    "target_states = {\n",
    "    '1': np.array([0, 1]),\n",
    "    '+': (1/np.sqrt(2)) * np.array([+1, +1]),\n",
    "    '-': (1/np.sqrt(2)) * np.array([+1, -1]),\n",
    "}"
   ]
  },
  {
   "cell_type": "code",
   "execution_count": 604,
   "metadata": {},
   "outputs": [
    {
     "name": "stdout",
     "output_type": "stream",
     "text": [
      "Fidelity F = 1.0\n"
     ]
    }
   ],
   "source": [
    "def get_dm(state: np.ndarray) -> np.ndarray:\n",
    "    return np.outer(state, np.conj(state))\n",
    "\n",
    "def get_fidelity(rho, sigma):\n",
    "    \"\"\"\n",
    "    Compute the fidelity between two quantum states represented by density matrices.\n",
    "    \n",
    "    Parameters:\n",
    "    - rho (numpy.ndarray): Density matrix of the first quantum state.\n",
    "    - sigma (numpy.ndarray): Density matrix of the second quantum state.\n",
    "    \n",
    "    Returns:\n",
    "    - float: Fidelity between the two quantum states.\n",
    "    \n",
    "    Note:\n",
    "    This function assumes that the input density matrices are valid (positive, trace 1) and of the same size.\n",
    "    \"\"\"\n",
    "    \n",
    "    # Computing the square root of rho\n",
    "    sqrt_rho = sqrtm(rho)\n",
    "    \n",
    "    # Calculating the product sqrt_rho * sigma * sqrt_rho\n",
    "    temp_product = np.dot(np.dot(sqrt_rho, sigma), sqrt_rho)\n",
    "    \n",
    "    # Taking the square root of the product\n",
    "    root_product = sqrtm(temp_product)\n",
    "    \n",
    "    # Calculating the trace\n",
    "    fidelity = np.real(np.trace(root_product))**2\n",
    "    \n",
    "    return fidelity\n",
    "\n",
    "# Testing with example pure states, here orthogonal states (F = 0)\n",
    "psi = np.array([1, 0])\n",
    "phi = np.array([1, 0])\n",
    "\n",
    "psi_dm = get_dm(state=psi)\n",
    "phi_dm = get_dm(state=phi)\n",
    "\n",
    "print(f'Fidelity F = {round(get_fidelity(psi_dm, phi_dm), 6)}')  # This should be close to 0 for orthogonal states"
   ]
  },
  {
   "cell_type": "code",
   "execution_count": 605,
   "metadata": {},
   "outputs": [],
   "source": [
    "def estimate_dm(qc, estimated_dm, batch) -> np.ndarray:\n",
    "    # Construct the estimated density matrix\n",
    "    q_state = qi.Statevector.from_instruction(qc)\n",
    "    estimated_dm += np.array(q_state.to_operator()) / batch \n",
    "\n",
    "    return estimated_dm"
   ]
  },
  {
   "cell_type": "code",
   "execution_count": 606,
   "metadata": {},
   "outputs": [
    {
     "name": "stdout",
     "output_type": "stream",
     "text": [
      "Target state: [0.70710678 0.70710678]\n"
     ]
    }
   ],
   "source": [
    "target_state_str = '+'\n",
    "\n",
    "target_state = target_states[target_state_str]\n",
    "print('Target state:', target_state)"
   ]
  },
  {
   "cell_type": "code",
   "execution_count": 607,
   "metadata": {},
   "outputs": [],
   "source": [
    "def perform_action(amp, shots=1, target_state_str=target_state_str):\n",
    "    \"\"\"\n",
    "    Execute a quantum circuit with parametrized amplitude, retrieve measurement result and assign rewards accordingly\n",
    "        \n",
    "        :param amp: amplitude parameter, provided as an array of size batchsize\n",
    "        :param shots: number of evaluations to be done on the quantum computer\n",
    "        :param target: string indicating the target state ('1' or '+')\n",
    "    \n",
    "        :return: Reward table (reward for each run in the batch)\n",
    "    \"\"\"\n",
    "    global qc, qasm, target_states\n",
    "    angles, batch = np.array(amp), len(np.array(amp))\n",
    "    reward_table = np.zeros(batch)\n",
    "\n",
    "    estimated_dm = np.zeros([2,2], dtype='complex128')\n",
    "\n",
    "    for ind, angle in enumerate(angles):\n",
    "        if target_state_str == '1':\n",
    "            qc.rx(2 * np.pi * angle, 0)  # Add parametrized gate for each amplitude in the batch\n",
    "            estimate_dm(qc, estimated_dm, batch)\n",
    "            \n",
    "        elif target_state_str == '+':\n",
    "            qc.ry(2 * np.pi * angle, 0)  # Add parametrized gate for each amplitude in the batch  \n",
    "            estimate_dm(qc, estimated_dm, batch)\n",
    "            qc.h(0) # Transform to hadamard basis before measurement\n",
    "            \n",
    "        elif target_state_str == '-':\n",
    "            qc.ry(2 * np.pi * angle, 0)\n",
    "            estimate_dm(qc, estimated_dm, batch)\n",
    "            qc.z(0)  # Apply Z gate for the minus state\n",
    "            qc.h(0) # Transform to hadamard basis before measurement\n",
    "        \n",
    "        qc.measure(0, 0)  # Measurement\n",
    "        job = qasm.run(qc, shots=shots)\n",
    "        result = job.result()\n",
    "        counts = result.get_counts(qc)  # Returns a dict with keys '0' and '1' (possible measurement outcomes) with number of counts for each key\n",
    "        \n",
    "        # Calculate reward\n",
    "        if target_state_str == '1':\n",
    "            reward_table[ind] += np.mean(np.array([1] * counts.get('1', 0) + [-1] * counts.get('0', 0)))\n",
    "        elif target_state_str in ['+', '-']:\n",
    "            reward_table[ind] += np.mean(np.array([1] * counts.get('0', 0) + [-1] * counts.get('1', 0)))\n",
    "        else:\n",
    "            if ind % 10 == 0:\n",
    "                print('!! Reward calculation FAILS !!')\n",
    "\n",
    "        qc.clear()\n",
    "\n",
    "    return reward_table, estimated_dm"
   ]
  },
  {
   "attachments": {},
   "cell_type": "markdown",
   "metadata": {},
   "source": [
    "#### Set Hyperparameters for the RL"
   ]
  },
  {
   "cell_type": "code",
   "execution_count": 608,
   "metadata": {},
   "outputs": [],
   "source": [
    "# Variables to define environment\n",
    "qc = QuantumCircuit(1, 1)  # Two-level system of interest, 1 qubit\n",
    "qasm = QasmSimulator(method=\"statevector\")  # Simulation backend (mock quantum computer)\n",
    "\n",
    "seed = 2364\n",
    "\n",
    "# Hyperparameters for the agent\n",
    "n_epochs = 200\n",
    "batch_size = 50\n",
    "eta = 0.01  # Learning rate for policy update step\n",
    "\n",
    "# Policy parameters\n",
    "mu = nn.Parameter(torch.randn([]) * 0.05)  # Initializing mu with a value drawn from a normal distribution with mean 0, sigma 0.05\n",
    "sigma = nn.Parameter(torch.tensor(0.05))  # Initializing sigma with a value of 0.05\n",
    "\n",
    "# Critic parameter (single state-independent baseline b)\n",
    "b = nn.Parameter(torch.tensor(0.))"
   ]
  },
  {
   "attachments": {},
   "cell_type": "markdown",
   "metadata": {},
   "source": [
    "#### Training"
   ]
  },
  {
   "cell_type": "code",
   "execution_count": 609,
   "metadata": {},
   "outputs": [],
   "source": [
    "def constrain_mu(value, min_val, max_val):\n",
    "    return torch.clamp(value, min_val, max_val)\n",
    "\n",
    "def constrain_sigma(value):\n",
    "    return torch.relu(value) # Ensures that sigma is non-negative"
   ]
  },
  {
   "cell_type": "code",
   "execution_count": 610,
   "metadata": {},
   "outputs": [],
   "source": [
    "def log_info(epoch, mu, sigma, reward, target_state, fidelity):\n",
    "    print('\\nEPOCH', epoch+1)\n",
    "    print('Policy parameter')\n",
    "    print(f'mu = {mu.item()} +- sigma = {sigma.item()}')\n",
    "    print('baseline', b.item())\n",
    "    print('Average Return:', reward.mean().item())\n",
    "    print('Target state: ', target_state)\n",
    "    print('Fidelity: ', fidelity)"
   ]
  },
  {
   "cell_type": "code",
   "execution_count": 613,
   "metadata": {},
   "outputs": [
    {
     "name": "stderr",
     "output_type": "stream",
     "text": [
      "  2%|▎         | 5/200 [00:00<00:04, 42.00it/s]"
     ]
    },
    {
     "name": "stdout",
     "output_type": "stream",
     "text": [
      "\n",
      "EPOCH 1\n",
      "Policy parameter\n",
      "mu = -0.013979039154946804 +- sigma = 0.01123788207769394\n",
      "baseline -0.8699001669883728\n",
      "Average Return: -0.04\n",
      "Target state:  [0.70710678 0.70710678]\n",
      "Fidelity:  0.6738929880761632\n"
     ]
    },
    {
     "name": "stderr",
     "output_type": "stream",
     "text": [
      "  8%|▊         | 17/200 [00:00<00:03, 48.76it/s]"
     ]
    },
    {
     "name": "stdout",
     "output_type": "stream",
     "text": [
      "\n",
      "EPOCH 11\n",
      "Policy parameter\n",
      "mu = 0.06995785236358643 +- sigma = 0.07579579204320908\n",
      "baseline -0.9577151536941528\n",
      "Average Return: 0.28\n",
      "Target state:  [0.70710678 0.70710678]\n",
      "Fidelity:  0.8445670933209158\n",
      "\n",
      "EPOCH 21\n",
      "Policy parameter\n",
      "mu = 0.16350547969341278 +- sigma = 0.0636439397931099\n",
      "baseline -0.953951895236969\n",
      "Average Return: 0.68\n",
      "Target state:  [0.70710678 0.70710678]\n",
      "Fidelity:  0.9463819772361661\n"
     ]
    },
    {
     "name": "stderr",
     "output_type": "stream",
     "text": [
      " 20%|██        | 41/200 [00:00<00:03, 51.29it/s]"
     ]
    },
    {
     "name": "stdout",
     "output_type": "stream",
     "text": [
      "\n",
      "EPOCH 31\n",
      "Policy parameter\n",
      "mu = 0.22786329686641693 +- sigma = 0.01777627132833004\n",
      "baseline -0.8947256207466125\n",
      "Average Return: 1.0\n",
      "Target state:  [0.70710678 0.70710678]\n",
      "Fidelity:  0.9954937697636007\n",
      "\n",
      "EPOCH 41\n",
      "Policy parameter\n",
      "mu = 0.22841796278953552 +- sigma = 0.014461084268987179\n",
      "baseline -0.8958829641342163\n",
      "Average Return: 1.0\n",
      "Target state:  [0.70710678 0.70710678]\n",
      "Fidelity:  0.9962912109547089\n"
     ]
    },
    {
     "name": "stderr",
     "output_type": "stream",
     "text": [
      " 30%|██▉       | 59/200 [00:01<00:02, 51.57it/s]"
     ]
    },
    {
     "name": "stdout",
     "output_type": "stream",
     "text": [
      "\n",
      "EPOCH 51\n",
      "Policy parameter\n",
      "mu = 0.21192717552185059 +- sigma = 0.030172334983944893\n",
      "baseline -0.9347636103630066\n",
      "Average Return: 0.92\n",
      "Target state:  [0.70710678 0.70710678]\n",
      "Fidelity:  0.9883336563588954\n",
      "\n",
      "EPOCH 61\n",
      "Policy parameter\n",
      "mu = 0.1884525716304779 +- sigma = 0.05981764197349548\n",
      "baseline -0.9498903751373291\n",
      "Average Return: 0.88\n",
      "Target state:  [0.70710678 0.70710678]\n",
      "Fidelity:  0.9659964779368235\n"
     ]
    },
    {
     "name": "stderr",
     "output_type": "stream",
     "text": [
      " 38%|███▊      | 77/200 [00:01<00:02, 50.94it/s]"
     ]
    },
    {
     "name": "stdout",
     "output_type": "stream",
     "text": [
      "\n",
      "EPOCH 71\n",
      "Policy parameter\n",
      "mu = 0.19603806734085083 +- sigma = 0.047239840030670166\n",
      "baseline -0.909067690372467\n",
      "Average Return: 0.88\n",
      "Target state:  [0.70710678 0.70710678]\n",
      "Fidelity:  0.9707125590168315\n"
     ]
    },
    {
     "name": "stderr",
     "output_type": "stream",
     "text": [
      " 44%|████▍     | 89/200 [00:01<00:02, 49.81it/s]"
     ]
    },
    {
     "name": "stdout",
     "output_type": "stream",
     "text": [
      "\n",
      "EPOCH 81\n",
      "Policy parameter\n",
      "mu = 0.21247504651546478 +- sigma = 0.021196400746703148\n",
      "baseline -0.8614609837532043\n",
      "Average Return: 0.96\n",
      "Target state:  [0.70710678 0.70710678]\n",
      "Fidelity:  0.9903760145752339\n",
      "\n",
      "EPOCH 91\n",
      "Policy parameter\n",
      "mu = 0.23397526144981384 +- sigma = 0.0\n",
      "baseline -0.8751929998397827\n",
      "Average Return: 1.0\n",
      "Target state:  [0.70710678 0.70710678]\n",
      "Fidelity:  0.9987226185533209\n"
     ]
    },
    {
     "name": "stderr",
     "output_type": "stream",
     "text": [
      " 54%|█████▎    | 107/200 [00:02<00:01, 51.36it/s]"
     ]
    },
    {
     "name": "stdout",
     "output_type": "stream",
     "text": [
      "\n",
      "EPOCH 101\n",
      "Policy parameter\n",
      "mu = 0.24870918691158295 +- sigma = 0.0\n",
      "baseline -0.8988184332847595\n",
      "Average Return: 1.0\n",
      "Target state:  [0.70710678 0.70710678]\n",
      "Fidelity:  0.9999868825404211\n",
      "\n",
      "EPOCH 111\n",
      "Policy parameter\n",
      "mu = 0.24917392432689667 +- sigma = 0.0\n",
      "baseline -0.9399032592773438\n",
      "Average Return: 1.0\n",
      "Target state:  [0.70710678 0.70710678]\n",
      "Fidelity:  0.9999913963196214\n"
     ]
    },
    {
     "name": "stderr",
     "output_type": "stream",
     "text": [
      " 66%|██████▌   | 131/200 [00:02<00:01, 51.96it/s]"
     ]
    },
    {
     "name": "stdout",
     "output_type": "stream",
     "text": [
      "\n",
      "EPOCH 121\n",
      "Policy parameter\n",
      "mu = 0.2478644996881485 +- sigma = 0.0\n",
      "baseline -0.9814208149909973\n",
      "Average Return: 1.0\n",
      "Target state:  [0.70710678 0.70710678]\n",
      "Fidelity:  0.9999700892404069\n",
      "\n",
      "EPOCH 131\n",
      "Policy parameter\n",
      "mu = 0.2689596712589264 +- sigma = 0.0\n",
      "baseline -1.014737844467163\n",
      "Average Return: 1.0\n",
      "Target state:  [0.70710678 0.70710678]\n",
      "Fidelity:  0.9982399026053034\n"
     ]
    },
    {
     "name": "stderr",
     "output_type": "stream",
     "text": [
      " 74%|███████▍  | 149/200 [00:02<00:00, 52.05it/s]"
     ]
    },
    {
     "name": "stdout",
     "output_type": "stream",
     "text": [
      "\n",
      "EPOCH 141\n",
      "Policy parameter\n",
      "mu = 0.2572733163833618 +- sigma = 0.010278487578034401\n",
      "baseline -1.0556586980819702\n",
      "Average Return: 1.0\n",
      "Target state:  [0.70710678 0.70710678]\n",
      "Fidelity:  0.9989853643880865\n",
      "\n",
      "EPOCH 151\n",
      "Policy parameter\n",
      "mu = 0.27383989095687866 +- sigma = 0.011028358712792397\n",
      "baseline -1.104423999786377\n",
      "Average Return: 1.0\n",
      "Target state:  [0.70710678 0.70710678]\n",
      "Fidelity:  0.9959803837568683\n"
     ]
    },
    {
     "name": "stderr",
     "output_type": "stream",
     "text": [
      " 84%|████████▎ | 167/200 [00:03<00:00, 51.54it/s]"
     ]
    },
    {
     "name": "stdout",
     "output_type": "stream",
     "text": [
      "\n",
      "EPOCH 161\n",
      "Policy parameter\n",
      "mu = 0.29969310760498047 +- sigma = 0.0055506364442408085\n",
      "baseline -1.172611117362976\n",
      "Average Return: 0.88\n",
      "Target state:  [0.70710678 0.70710678]\n",
      "Fidelity:  0.9872164826718809\n",
      "\n",
      "EPOCH 171\n",
      "Policy parameter\n",
      "mu = 0.3296590745449066 +- sigma = 0.007406669668853283\n",
      "baseline -1.2521554231643677\n",
      "Average Return: 1.0\n",
      "Target state:  [0.70710678 0.70710678]\n",
      "Fidelity:  0.9681601390922083\n"
     ]
    },
    {
     "name": "stderr",
     "output_type": "stream",
     "text": [
      " 96%|█████████▌| 191/200 [00:03<00:00, 51.64it/s]"
     ]
    },
    {
     "name": "stdout",
     "output_type": "stream",
     "text": [
      "\n",
      "EPOCH 181\n",
      "Policy parameter\n",
      "mu = 0.3285258412361145 +- sigma = 0.005331770051270723\n",
      "baseline -1.3166965246200562\n",
      "Average Return: 0.96\n",
      "Target state:  [0.70710678 0.70710678]\n",
      "Fidelity:  0.9701051820411228\n",
      "\n",
      "EPOCH 191\n",
      "Policy parameter\n",
      "mu = 0.3043806552886963 +- sigma = 0.014879373833537102\n",
      "baseline -1.3702878952026367\n",
      "Average Return: 0.96\n",
      "Target state:  [0.70710678 0.70710678]\n",
      "Fidelity:  0.9832422746665803\n"
     ]
    },
    {
     "name": "stderr",
     "output_type": "stream",
     "text": [
      "100%|██████████| 200/200 [00:03<00:00, 50.95it/s]\n"
     ]
    }
   ],
   "source": [
    "# Create an optimizer for the trainable parameters\n",
    "optimizer = optim.Adam([mu, sigma, b], lr=eta)\n",
    "epsilon = 1e-3 # Small offset to avoid sigma = 0\n",
    " # Clip the gradients\n",
    "grad_clip = 0.3\n",
    "\n",
    "\n",
    "# Dictionary to keep track of the used parameters\n",
    "params = {\n",
    "            'mu': [],\n",
    "            'sigma': [],\n",
    "            'reward': [],\n",
    "            'fidelity': [],\n",
    "            'learning_rate': eta,\n",
    "            'seed': seed,\n",
    "            'batch_size': batch_size,\n",
    "            'n_epochs': n_epochs,\n",
    "}\n",
    "\n",
    "### Training loop\n",
    "for epoch in tqdm(range(n_epochs)):\n",
    "\n",
    "    # Sample action from policy (Gaussian distribution with parameters mu and sigma)\n",
    "    Normal_distrib = Normal(loc=mu, scale=sigma + epsilon)\n",
    "    action = Normal_distrib.sample((batch_size,)) # action \n",
    "\n",
    "    # Run quantum circuit to retrieve rewards (in this example, only one time step)\n",
    "    reward, estimated_dm = perform_action(action, shots=1, target_state_str=target_state_str)\n",
    "    target_state_dm = get_dm(target_states[target_state_str])\n",
    "    fidelity = get_fidelity(target_state_dm, estimated_dm)\n",
    "    \n",
    "    if epoch % 10 == 0:\n",
    "        log_info(epoch, mu, sigma, reward, target_state, fidelity) \n",
    "\n",
    "    advantage = torch.tensor(reward, dtype=torch.float32) - b\n",
    "    \n",
    "    log_probs = Normal_distrib.log_prob(action)\n",
    "\n",
    "    actor_loss = -(advantage * log_probs).mean()\n",
    "    critic_loss = (advantage ** 2).mean()\n",
    "    critic_loss_coeff = 0.5\n",
    "    combined_loss = actor_loss + critic_loss_coeff * critic_loss\n",
    "\n",
    "    # Clear previous gradients\n",
    "    optimizer.zero_grad() \n",
    "    # Backpropagation\n",
    "    combined_loss.backward()\n",
    "    # Clip the gradients\n",
    "    torch.nn.utils.clip_grad_norm_([mu, sigma, b], grad_clip)\n",
    "    # Apply gradients\n",
    "    optimizer.step()\n",
    "\n",
    "    # During training, after each optimizer step:\n",
    "    with torch.no_grad():\n",
    "        mu.data = constrain_mu(mu.data, -2., 2.)\n",
    "        sigma.data = constrain_sigma(sigma.data)\n",
    "  \n",
    "    params[\"mu\"].append(mu.item())\n",
    "    params[\"sigma\"].append(sigma.item())\n",
    "    params[\"reward\"].append(reward)\n",
    "    params[\"fidelity\"].append(fidelity)"
   ]
  },
  {
   "attachments": {},
   "cell_type": "markdown",
   "metadata": {},
   "source": [
    "#### Visualization"
   ]
  },
  {
   "cell_type": "code",
   "execution_count": 614,
   "metadata": {},
   "outputs": [
    {
     "data": {
      "image/png": "[encoded data removed]",
      "text/plain": [
       "<Figure size 1400x800 with 4 Axes>"
      ]
     },
     "metadata": {},
     "output_type": "display_data"
    }
   ],
   "source": [
    "x = np.linspace(-1., 1., 300)\n",
    "fig, (ax1, ax2, ax3) = plt.subplots(1, 3, figsize=(14, 8))\n",
    "# Plot probability density associated to updated parameters for a few steps\n",
    "for i in np.linspace(0, n_epochs-1, n_epochs//25, dtype=int):\n",
    "    ax1.plot(x, norm.pdf(x, loc=params[\"mu\"][i], scale=np.abs(params[\"mu\"][i])), '-o', label=f'{i}')\n",
    "\n",
    "ax1.set_xlabel(r\"gate rotation angle $\\theta$\")\n",
    "ax1.set_ylabel(\"probability density\")\n",
    "ax1.set_ylim(0., 20)\n",
    "#  Plot return as a function of epochs\n",
    "ax2.plot(np.mean(params[\"reward\"], axis=1), '-o', label='Reward')\n",
    "ax2.plot(params[\"fidelity\"], '-o', label='Fidelity')\n",
    "ax2.set_xlabel(\"Epoch\")\n",
    "ax2.legend()\n",
    "ax1.legend()\n",
    "\n",
    "rewards = np.array(params['reward']).transpose()\n",
    "# Create a custom colormap\n",
    "colors = [(1, 0, 0), (0, 1, 0)]  # R -> G\n",
    "cmap_name = 'custom_red_green'\n",
    "cm = mcolors.LinearSegmentedColormap.from_list(cmap_name, colors, N=2)\n",
    "\n",
    "# Dummy data and imshow for ax3\n",
    "cax = ax3.imshow(rewards, cmap=cm)\n",
    "ax3.set_title(\"Reward Table\")\n",
    "\n",
    "# Add colorbar to ax3\n",
    "cbar = fig.colorbar(cax, ax=ax3, ticks=[0, 1])\n",
    "cbar.ax.set_yticklabels(['-1', '+1'])\n",
    "\n",
    "plt.show()"
   ]
  },
  {
   "cell_type": "code",
   "execution_count": null,
   "metadata": {},
   "outputs": [],
   "source": []
  }
 ],
 "metadata": {
  "kernelspec": {
   "display_name": "Python 3",
   "language": "python",
   "name": "python3"
  },
  "language_info": {
   "codemirror_mode": {
    "name": "ipython",
    "version": 3
   },
   "file_extension": ".py",
   "mimetype": "text/x-python",
   "name": "python",
   "nbconvert_exporter": "python",
   "pygments_lexer": "ipython3",
   "version": "3.10.13"
  },
  "orig_nbformat": 4
 },
 "nbformat": 4,
 "nbformat_minor": 2
}

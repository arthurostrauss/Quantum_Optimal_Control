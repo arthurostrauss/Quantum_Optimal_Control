{
 "cells": [
  {
   "cell_type": "code",
   "execution_count": 1,
   "metadata": {
    "ExecuteTime": {
     "end_time": "2024-03-17T08:40:14.927338Z",
     "start_time": "2024-03-17T08:40:09.663676Z"
    }
   },
   "outputs": [
    {
     "name": "stderr",
     "output_type": "stream",
     "text": [
      "/Users/lukasvoss/Documents/Master Wirtschaftsphysik/Masterarbeit Yale-NUS CQT/Quantum_Optimal_Control/venv_qiskit10/lib/python3.11/site-packages/tqdm/auto.py:21: TqdmWarning: IProgress not found. Please update jupyter and ipywidgets. See https://ipywidgets.readthedocs.io/en/stable/user_install.html\n",
      "  from .autonotebook import tqdm as notebook_tqdm\n"
     ]
    },
    {
     "name": "stdout",
     "output_type": "stream",
     "text": [
      "2024-06-14 17:29:06,212 - qm - INFO     - Starting session: 0365fc3b-764e-4dcc-803c-074a24da71c3\n",
      "\n",
      " NoiseModel:\n",
      "  Basis gates: ['cx', 'id', 'rz', 'sx', 'unitary']\n",
      "  Instructions with noise: ['custom_kron(rx,ident)_gate']\n",
      "  Qubits with noise: [0, 1]\n",
      "  Specific qubit errors: [('custom_kron(rx,ident)_gate', (0, 1))] \n",
      "\n",
      "Circuit context\n",
      "                 ┌─────────────────────────────┐     \n",
      "        q_0 -> 0 ┤0                            ├──■──\n",
      "                 │  custom_kron(rx,ident)_gate │┌─┴─┐\n",
      "        q_1 -> 1 ┤1                            ├┤ X ├\n",
      "                 └─────────────────────────────┘└───┘\n",
      "  ancilla_0 -> 2 ────────────────────────────────────\n",
      "                                                     \n",
      "  ancilla_1 -> 3 ────────────────────────────────────\n",
      "                                                     \n",
      "  ancilla_2 -> 4 ────────────────────────────────────\n",
      "                                                     \n",
      "  ancilla_3 -> 5 ────────────────────────────────────\n",
      "                                                     \n",
      "  ancilla_4 -> 6 ────────────────────────────────────\n",
      "                                                     \n",
      "  ancilla_5 -> 7 ────────────────────────────────────\n",
      "                                                     \n",
      "  ancilla_6 -> 8 ────────────────────────────────────\n",
      "                                                     \n",
      "  ancilla_7 -> 9 ────────────────────────────────────\n",
      "                                                     \n",
      " ancilla_8 -> 10 ────────────────────────────────────\n",
      "                                                     \n",
      " ancilla_9 -> 11 ────────────────────────────────────\n",
      "                                                     \n",
      "ancilla_10 -> 12 ────────────────────────────────────\n",
      "                                                     \n",
      "ancilla_11 -> 13 ────────────────────────────────────\n",
      "                                                     \n",
      "ancilla_12 -> 14 ────────────────────────────────────\n",
      "                                                     \n",
      "ancilla_13 -> 15 ────────────────────────────────────\n",
      "                                                     \n",
      "ancilla_14 -> 16 ────────────────────────────────────\n",
      "                                                     \n",
      "ancilla_15 -> 17 ────────────────────────────────────\n",
      "                                                     \n",
      "ancilla_16 -> 18 ────────────────────────────────────\n",
      "                                                     \n",
      "ancilla_17 -> 19 ────────────────────────────────────\n",
      "                                                     \n",
      "ancilla_18 -> 20 ────────────────────────────────────\n",
      "                                                     \n",
      "ancilla_19 -> 21 ────────────────────────────────────\n",
      "                                                     \n",
      "ancilla_20 -> 22 ────────────────────────────────────\n",
      "                                                     \n",
      "ancilla_21 -> 23 ────────────────────────────────────\n",
      "                                                     \n",
      "ancilla_22 -> 24 ────────────────────────────────────\n",
      "                                                     \n",
      "ancilla_23 -> 25 ────────────────────────────────────\n",
      "                                                     \n",
      "ancilla_24 -> 26 ────────────────────────────────────\n",
      "                                                     \n",
      "ancilla_25 -> 27 ────────────────────────────────────\n",
      "                                                     \n",
      "ancilla_26 -> 28 ────────────────────────────────────\n",
      "                                                     \n",
      "ancilla_27 -> 29 ────────────────────────────────────\n",
      "                                                     \n"
     ]
    }
   ],
   "source": [
    "import sys\n",
    "import os\n",
    "import numpy as np\n",
    "import matplotlib.pyplot as plt\n",
    "\n",
    "os.environ[\"KMP_DUPLICATE_LIB_OK\"] = \"True\"\n",
    "module_path = os.path.abspath(\n",
    "    os.path.join(\n",
    "        \"/Users/lukasvoss/Documents/Master Wirtschaftsphysik/Masterarbeit Yale-NUS CQT/Quantum_Optimal_Control\"\n",
    "    )\n",
    ")\n",
    "if module_path not in sys.path:\n",
    "    sys.path.append(module_path)\n",
    "\n",
    "from spillover_noise_q_env_config import (\n",
    "    q_env_config as gate_q_env_config,\n",
    "    circuit_context, phi, gamma\n",
    ")\n",
    "from quantumenvironment import QuantumEnvironmentV2\n",
    "from context_aware_quantum_environment import ContextAwareQuantumEnvironmentV2\n",
    "from hyperparameter_optimization import HyperparameterOptimizer\n",
    "from gymnasium.wrappers import RescaleAction, ClipAction\n",
    "\n",
    "from spillover_noise_quantum_environment import SpilloverNoiseQuantumEnvironment\n",
    "\n",
    "from hpo_training_config import (\n",
    "    HPOConfig,\n",
    "    TotalUpdates,\n",
    "    HardwareRuntime,\n",
    "    TrainingDetails,\n",
    "    TrainingConfig,\n",
    "    TrainFunctionSettings\n",
    ")\n",
    "\n",
    "import logging\n",
    "logging.basicConfig(\n",
    "    level=logging.WARNING,\n",
    "    format=\"%(asctime)s INFO %(message)s\",  # hardcoded INFO level\n",
    "    datefmt=\"%Y-%m-%d %H:%M:%S\",\n",
    "    stream=sys.stdout,\n",
    ")"
   ]
  },
  {
   "cell_type": "code",
   "execution_count": 2,
   "metadata": {},
   "outputs": [
    {
     "data": {
      "text/plain": [
       "<qiskit.transpiler.instruction_durations.InstructionDurations at 0x388164b50>"
      ]
     },
     "execution_count": 2,
     "metadata": {},
     "output_type": "execute_result"
    }
   ],
   "source": [
    "gate_q_env_config.backend_config.instruction_durations_dict"
   ]
  },
  {
   "cell_type": "code",
   "execution_count": 3,
   "metadata": {},
   "outputs": [
    {
     "data": {
      "text/plain": [
       "AerSimulator('aer_simulator'\n",
       "             noise_model=<NoiseModel on ['custom_kron(rx,ident)_gate']>)"
      ]
     },
     "execution_count": 3,
     "metadata": {},
     "output_type": "execute_result"
    }
   ],
   "source": [
    "q_env = SpilloverNoiseQuantumEnvironment(\n",
    "    gate_q_env_config, circuit_context, (phi, gamma)\n",
    ")\n",
    "q_env = ClipAction(q_env)\n",
    "q_env = RescaleAction(q_env, -1.0, 1.0)\n",
    "\n",
    "q_env.unwrapped.backend"
   ]
  },
  {
   "cell_type": "code",
   "execution_count": 4,
   "metadata": {
    "ExecuteTime": {
     "end_time": "2024-03-17T08:40:15.457597Z",
     "start_time": "2024-03-17T08:40:15.422155Z"
    },
    "collapsed": false
   },
   "outputs": [
    {
     "data": {
      "image/png": "[encoded data removed]",
      "text/plain": [
       "<Figure size 978.625x200.667 with 1 Axes>"
      ]
     },
     "execution_count": 4,
     "metadata": {},
     "output_type": "execute_result"
    }
   ],
   "source": [
    "q_env.unwrapped.circuits[0].draw(\"mpl\")"
   ]
  },
  {
   "cell_type": "code",
   "execution_count": 5,
   "metadata": {},
   "outputs": [],
   "source": [
    "from helper_functions import load_from_yaml_file\n",
    "from ppoV2 import CustomPPOV2\n",
    "\n",
    "agent_config = load_from_yaml_file('/Users/lukasvoss/Documents/Master Wirtschaftsphysik/Masterarbeit Yale-NUS CQT/Quantum_Optimal_Control/template_configurations/agent_config.yaml')\n",
    "\n",
    "ppo_agent = CustomPPOV2(agent_config, q_env)"
   ]
  },
  {
   "cell_type": "code",
   "execution_count": 6,
   "metadata": {},
   "outputs": [],
   "source": [
    "total_updates = TotalUpdates(10)\n",
    "# hardware_runtime = HardwareRuntime(300)\n",
    "training_details = TrainingDetails(training_constraint=total_updates, target_fidelities=[0.999, 0.9999], lookback_window=10, anneal_learning_rate=True, std_actions_eps=1e-2)\n",
    "training_config = TrainingConfig(training_mode=\"spillover_noise_use_case\", training_details=training_details)"
   ]
  },
  {
   "cell_type": "code",
   "execution_count": 7,
   "metadata": {},
   "outputs": [],
   "source": [
    "train_function_settings = TrainFunctionSettings(\n",
    "    plot_real_time=True,\n",
    "    print_debug=True,\n",
    "    num_prints=1,\n",
    "    hpo_mode=False,\n",
    "    clear_history=True\n",
    ")"
   ]
  },
  {
   "cell_type": "code",
   "execution_count": 8,
   "metadata": {},
   "outputs": [
    {
     "data": {
      "text/plain": [
       "(0.7853981633974483, 0.01)"
      ]
     },
     "execution_count": 8,
     "metadata": {},
     "output_type": "execute_result"
    }
   ],
   "source": [
    "q_env.unwrapped.phi_gamma_tuple"
   ]
  },
  {
   "cell_type": "code",
   "execution_count": 9,
   "metadata": {},
   "outputs": [
    {
     "data": {
      "image/png": "[encoded data removed]",
      "text/plain": [
       "<Figure size 640x480 with 1 Axes>"
      ]
     },
     "metadata": {},
     "output_type": "display_data"
    },
    {
     "name": "stderr",
     "output_type": "stream",
     "text": [
      "100%|██████████| 10/10 [01:53<00:00, 11.32s/it]"
     ]
    },
    {
     "name": "stdout",
     "output_type": "stream",
     "text": [
      "2024-06-14 17:31:00 INFO Target fidelity 0.999 not achieved within TotalUpdates(total_updates=10).\n",
      "2024-06-14 17:31:00 INFO Target fidelity 0.9999 not achieved within TotalUpdates(total_updates=10).\n"
     ]
    },
    {
     "name": "stderr",
     "output_type": "stream",
     "text": [
      "\n"
     ]
    },
    {
     "data": {
      "text/plain": [
       "{'training_mode': 'spillover_noise_use_case',\n",
       " 'reward_method': 'state',\n",
       " 'training_constraint': TotalUpdates(total_updates=10),\n",
       " 'avg_reward': [0.7207060759961517,\n",
       "  0.7747057959395127,\n",
       "  0.8274404455462188,\n",
       "  0.7957686293589237,\n",
       "  0.8686519969593398,\n",
       "  0.8724735661996931,\n",
       "  0.8994332218590357,\n",
       "  0.9317644217417027,\n",
       "  0.9146685912624842,\n",
       "  0.9567370063686669],\n",
       " 'std_action': [array([0.49195585, 0.52107805, 0.48912522, 0.47094643, 0.47318578,\n",
       "         0.5820591 , 0.5035012 ], dtype=float32),\n",
       "  array([0.41822904, 0.49063194, 0.46166113, 0.46853942, 0.4221946 ,\n",
       "         0.48639908, 0.48854223], dtype=float32),\n",
       "  array([0.33036882, 0.4215623 , 0.39505604, 0.48902833, 0.35197335,\n",
       "         0.38235316, 0.44642624], dtype=float32),\n",
       "  array([0.33563465, 0.41953486, 0.41210335, 0.46499497, 0.33803236,\n",
       "         0.35186997, 0.4279549 ], dtype=float32),\n",
       "  array([0.24739073, 0.32352734, 0.3398488 , 0.39624074, 0.27488208,\n",
       "         0.33623493, 0.36200896], dtype=float32),\n",
       "  array([0.23833239, 0.28864682, 0.30111676, 0.3943798 , 0.24833167,\n",
       "         0.28029087, 0.3194771 ], dtype=float32),\n",
       "  array([0.21992813, 0.28260058, 0.283196  , 0.32727844, 0.24146193,\n",
       "         0.29455668, 0.27663064], dtype=float32),\n",
       "  array([0.20211326, 0.23116878, 0.23944432, 0.26016134, 0.19247861,\n",
       "         0.27801207, 0.21962628], dtype=float32),\n",
       "  array([0.22563963, 0.27367637, 0.2612724 , 0.28339642, 0.21812998,\n",
       "         0.2696771 , 0.25763747], dtype=float32),\n",
       "  array([0.14522575, 0.19868529, 0.19801873, 0.22638535, 0.14941034,\n",
       "         0.23207313, 0.1854121 ], dtype=float32)],\n",
       " 'fidelity_history': [0.750657058627373,\n",
       "  0.7946980760529004,\n",
       "  0.8242201924336865,\n",
       "  0.8165659570731443,\n",
       "  0.8651000649218751,\n",
       "  0.8844268988830997,\n",
       "  0.9097347850597401,\n",
       "  0.9321710633884486,\n",
       "  0.923394702300647,\n",
       "  0.9558849625207948],\n",
       " 'hardware_runtime': [25.375539200000002,\n",
       "  29.4125568,\n",
       "  23.645388800000003,\n",
       "  34.603008,\n",
       "  19.0316544,\n",
       "  37.486592,\n",
       "  42.1003264,\n",
       "  25.952256000000002,\n",
       "  34.603008,\n",
       "  28.2591232],\n",
       " 'action_history': [array([ 0.02119963, -0.0536651 , -0.18093814,  0.22968082, -0.08696865,\n",
       "          0.20703349, -0.04981388], dtype=float32),\n",
       "  array([-0.0036221 , -0.0141522 , -0.13468674,  0.22260915, -0.04883356,\n",
       "          0.09449506, -0.07998942], dtype=float32),\n",
       "  array([ 0.00111399, -0.0260882 , -0.13227375,  0.2056531 , -0.03453568,\n",
       "          0.09668735,  0.02326282], dtype=float32),\n",
       "  array([-0.01368252,  0.02578799, -0.09855561,  0.22714408,  0.01929674,\n",
       "          0.02110849, -0.07403443], dtype=float32),\n",
       "  array([-0.00701814, -0.00311341, -0.07287542,  0.16882287, -0.01928215,\n",
       "          0.02720444,  0.00416713], dtype=float32),\n",
       "  array([-0.00154218, -0.00710783, -0.06506635,  0.1498926 , -0.03653981,\n",
       "          0.02249987,  0.04704475], dtype=float32),\n",
       "  array([-5.1379204e-05,  1.5283080e-02, -6.1067477e-02,  1.0786119e-01,\n",
       "         -2.7743654e-02,  5.3364080e-03, -2.3783058e-02], dtype=float32),\n",
       "  array([ 0.00482056,  0.00272513, -0.04187083,  0.06640576, -0.04279024,\n",
       "         -0.00047284,  0.05122526], dtype=float32),\n",
       "  array([-0.01028794,  0.03634532, -0.05831508,  0.08183601,  0.02064401,\n",
       "         -0.01865429, -0.08354458], dtype=float32),\n",
       "  array([-0.00216329,  0.01100107, -0.02573891,  0.05234363, -0.02030331,\n",
       "         -0.00930329,  0.05715474], dtype=float32)],\n",
       " 'best_action_vector': array([0., 0., 0., 0., 0., 0., 0.]),\n",
       " 'total_shots': [11534336,\n",
       "  13369344,\n",
       "  10747904,\n",
       "  15728640,\n",
       "  8650752,\n",
       "  17039360,\n",
       "  19136512,\n",
       "  11796480,\n",
       "  15728640,\n",
       "  12845056],\n",
       " 'total_updates': 10,\n",
       " 'n_reps': 1,\n",
       " 'fidelity_info': {0.999: {'achieved': False,\n",
       "   'update_at': None,\n",
       "   'train_time': None,\n",
       "   'shots_used': None},\n",
       "  0.9999: {'achieved': False,\n",
       "   'update_at': None,\n",
       "   'train_time': None,\n",
       "   'shots_used': None}}}"
      ]
     },
     "execution_count": 9,
     "metadata": {},
     "output_type": "execute_result"
    }
   ],
   "source": [
    "ppo_agent.train(\n",
    "    training_config=training_config,\n",
    "    train_function_settings=train_function_settings\n",
    ")"
   ]
  }
 ],
 "metadata": {
  "kernelspec": {
   "display_name": "cqt_env",
   "language": "python",
   "name": "python3"
  },
  "language_info": {
   "codemirror_mode": {
    "name": "ipython",
    "version": 3
   },
   "file_extension": ".py",
   "mimetype": "text/x-python",
   "name": "python",
   "nbconvert_exporter": "python",
   "pygments_lexer": "ipython3",
   "version": "3.11.5"
  }
 },
 "nbformat": 4,
 "nbformat_minor": 2
}

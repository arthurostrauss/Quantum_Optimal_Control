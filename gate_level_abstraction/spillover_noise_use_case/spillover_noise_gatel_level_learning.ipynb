{
 "cells": [
  {
   "cell_type": "code",
   "execution_count": 1,
   "metadata": {
    "ExecuteTime": {
     "end_time": "2024-03-17T08:40:14.927338Z",
     "start_time": "2024-03-17T08:40:09.663676Z"
    }
   },
   "outputs": [
    {
     "name": "stderr",
     "output_type": "stream",
     "text": [
      "/Users/lukasvoss/Documents/Master Wirtschaftsphysik/Masterarbeit Yale-NUS CQT/Quantum_Optimal_Control/venv_qiskit10/lib/python3.11/site-packages/tqdm/auto.py:21: TqdmWarning: IProgress not found. Please update jupyter and ipywidgets. See https://ipywidgets.readthedocs.io/en/stable/user_install.html\n",
      "  from .autonotebook import tqdm as notebook_tqdm\n"
     ]
    },
    {
     "name": "stdout",
     "output_type": "stream",
     "text": [
      "2024-06-19 11:33:36,254 - qm - INFO     - Starting session: a206ac45-86f3-4d42-8d2c-62674ed96f83\n",
      "\n",
      " NoiseModel:\n",
      "  Basis gates: ['cx', 'id', 'rz', 'sx', 'unitary']\n",
      "  Instructions with noise: ['custom_kron(rx,ident)_gate']\n",
      "  Qubits with noise: [0, 1]\n",
      "  Specific qubit errors: [('custom_kron(rx,ident)_gate', (0, 1))] \n",
      "\n",
      "Circuit context\n",
      "                 ┌─────────────────────────────┐     \n",
      "        q_0 -> 0 ┤0                            ├──■──\n",
      "                 │  custom_kron(rx,ident)_gate │┌─┴─┐\n",
      "        q_1 -> 1 ┤1                            ├┤ X ├\n",
      "                 └─────────────────────────────┘└───┘\n",
      "  ancilla_0 -> 2 ────────────────────────────────────\n",
      "                                                     \n",
      "  ancilla_1 -> 3 ────────────────────────────────────\n",
      "                                                     \n",
      "  ancilla_2 -> 4 ────────────────────────────────────\n",
      "                                                     \n",
      "  ancilla_3 -> 5 ────────────────────────────────────\n",
      "                                                     \n",
      "  ancilla_4 -> 6 ────────────────────────────────────\n",
      "                                                     \n",
      "  ancilla_5 -> 7 ────────────────────────────────────\n",
      "                                                     \n",
      "  ancilla_6 -> 8 ────────────────────────────────────\n",
      "                                                     \n",
      "  ancilla_7 -> 9 ────────────────────────────────────\n",
      "                                                     \n",
      " ancilla_8 -> 10 ────────────────────────────────────\n",
      "                                                     \n",
      " ancilla_9 -> 11 ────────────────────────────────────\n",
      "                                                     \n",
      "ancilla_10 -> 12 ────────────────────────────────────\n",
      "                                                     \n",
      "ancilla_11 -> 13 ────────────────────────────────────\n",
      "                                                     \n",
      "ancilla_12 -> 14 ────────────────────────────────────\n",
      "                                                     \n",
      "ancilla_13 -> 15 ────────────────────────────────────\n",
      "                                                     \n",
      "ancilla_14 -> 16 ────────────────────────────────────\n",
      "                                                     \n",
      "ancilla_15 -> 17 ────────────────────────────────────\n",
      "                                                     \n",
      "ancilla_16 -> 18 ────────────────────────────────────\n",
      "                                                     \n",
      "ancilla_17 -> 19 ────────────────────────────────────\n",
      "                                                     \n",
      "ancilla_18 -> 20 ────────────────────────────────────\n",
      "                                                     \n",
      "ancilla_19 -> 21 ────────────────────────────────────\n",
      "                                                     \n",
      "ancilla_20 -> 22 ────────────────────────────────────\n",
      "                                                     \n",
      "ancilla_21 -> 23 ────────────────────────────────────\n",
      "                                                     \n",
      "ancilla_22 -> 24 ────────────────────────────────────\n",
      "                                                     \n",
      "ancilla_23 -> 25 ────────────────────────────────────\n",
      "                                                     \n",
      "ancilla_24 -> 26 ────────────────────────────────────\n",
      "                                                     \n",
      "ancilla_25 -> 27 ────────────────────────────────────\n",
      "                                                     \n",
      "ancilla_26 -> 28 ────────────────────────────────────\n",
      "                                                     \n",
      "ancilla_27 -> 29 ────────────────────────────────────\n",
      "                                                     \n"
     ]
    }
   ],
   "source": [
    "import sys\n",
    "import os\n",
    "import numpy as np\n",
    "import matplotlib.pyplot as plt\n",
    "\n",
    "os.environ[\"KMP_DUPLICATE_LIB_OK\"] = \"True\"\n",
    "module_path = os.path.abspath(\n",
    "    os.path.join(\n",
    "        \"/Users/lukasvoss/Documents/Master Wirtschaftsphysik/Masterarbeit Yale-NUS CQT/Quantum_Optimal_Control\"\n",
    "    )\n",
    ")\n",
    "if module_path not in sys.path:\n",
    "    sys.path.append(module_path)\n",
    "\n",
    "from spillover_noise_q_env_config import (\n",
    "    q_env_config as gate_q_env_config,\n",
    "    circuit_context, phi, gamma\n",
    ")\n",
    "from quantumenvironment import QuantumEnvironmentV2\n",
    "from context_aware_quantum_environment import ContextAwareQuantumEnvironmentV2\n",
    "from hyperparameter_optimization import HyperparameterOptimizer\n",
    "from gymnasium.wrappers import RescaleAction, ClipAction\n",
    "\n",
    "from spillover_noise_quantum_environment import SpilloverNoiseQuantumEnvironment\n",
    "\n",
    "from hpo_training_config import (\n",
    "    HPOConfig,\n",
    "    TotalUpdates,\n",
    "    HardwareRuntime,\n",
    "    TrainingConfig,\n",
    "    TrainFunctionSettings\n",
    ")\n",
    "\n",
    "import logging\n",
    "logging.basicConfig(\n",
    "    level=logging.WARNING,\n",
    "    format=\"%(asctime)s INFO %(message)s\",  # hardcoded INFO level\n",
    "    datefmt=\"%Y-%m-%d %H:%M:%S\",\n",
    "    stream=sys.stdout,\n",
    ")"
   ]
  },
  {
   "cell_type": "code",
   "execution_count": 2,
   "metadata": {},
   "outputs": [
    {
     "data": {
      "text/plain": [
       "<qiskit.transpiler.instruction_durations.InstructionDurations at 0x36ee64590>"
      ]
     },
     "execution_count": 2,
     "metadata": {},
     "output_type": "execute_result"
    }
   ],
   "source": [
    "gate_q_env_config.backend_config.instruction_durations_dict"
   ]
  },
  {
   "cell_type": "code",
   "execution_count": 3,
   "metadata": {},
   "outputs": [
    {
     "data": {
      "text/plain": [
       "AerSimulator('aer_simulator'\n",
       "             noise_model=<NoiseModel on ['custom_kron(rx,ident)_gate']>)"
      ]
     },
     "execution_count": 3,
     "metadata": {},
     "output_type": "execute_result"
    }
   ],
   "source": [
    "q_env = SpilloverNoiseQuantumEnvironment(\n",
    "    gate_q_env_config, circuit_context, (phi, gamma)\n",
    ")\n",
    "q_env = ClipAction(q_env)\n",
    "q_env = RescaleAction(q_env, -1.0, 1.0)\n",
    "\n",
    "q_env.unwrapped.backend"
   ]
  },
  {
   "cell_type": "code",
   "execution_count": 4,
   "metadata": {
    "ExecuteTime": {
     "end_time": "2024-03-17T08:40:15.457597Z",
     "start_time": "2024-03-17T08:40:15.422155Z"
    },
    "collapsed": false
   },
   "outputs": [
    {
     "data": {
      "image/png": "[encoded data removed]",
      "text/plain": [
       "<Figure size 978.625x200.667 with 1 Axes>"
      ]
     },
     "execution_count": 4,
     "metadata": {},
     "output_type": "execute_result"
    }
   ],
   "source": [
    "q_env.unwrapped.circuits[0].draw(\"mpl\")"
   ]
  },
  {
   "cell_type": "code",
   "execution_count": 5,
   "metadata": {},
   "outputs": [],
   "source": [
    "from helper_functions import load_from_yaml_file\n",
    "from ppoV2 import CustomPPOV2\n",
    "\n",
    "agent_config = load_from_yaml_file('/Users/lukasvoss/Documents/Master Wirtschaftsphysik/Masterarbeit Yale-NUS CQT/Quantum_Optimal_Control/template_configurations/agent_config.yaml')\n",
    "\n",
    "ppo_agent = CustomPPOV2(agent_config, q_env)"
   ]
  },
  {
   "cell_type": "code",
   "execution_count": 6,
   "metadata": {},
   "outputs": [],
   "source": [
    "total_updates = TotalUpdates(10)\n",
    "# hardware_runtime = HardwareRuntime(300)\n",
    "training_config = TrainingConfig(training_constraint=total_updates, target_fidelities=[0.999, 0.9999], lookback_window=10, anneal_learning_rate=True, std_actions_eps=1e-2)"
   ]
  },
  {
   "cell_type": "code",
   "execution_count": 7,
   "metadata": {},
   "outputs": [],
   "source": [
    "train_function_settings = TrainFunctionSettings(\n",
    "    plot_real_time=True,\n",
    "    print_debug=True,\n",
    "    num_prints=1,\n",
    "    hpo_mode=False,\n",
    "    clear_history=True\n",
    ")"
   ]
  },
  {
   "cell_type": "code",
   "execution_count": 8,
   "metadata": {},
   "outputs": [
    {
     "data": {
      "text/plain": [
       "(0.7853981633974483, 0.01)"
      ]
     },
     "execution_count": 8,
     "metadata": {},
     "output_type": "execute_result"
    }
   ],
   "source": [
    "q_env.unwrapped.phi_gamma_tuple"
   ]
  },
  {
   "cell_type": "code",
   "execution_count": 9,
   "metadata": {},
   "outputs": [
    {
     "data": {
      "image/png": "[encoded data removed]",
      "text/plain": [
       "<Figure size 640x480 with 1 Axes>"
      ]
     },
     "metadata": {},
     "output_type": "display_data"
    },
    {
     "name": "stderr",
     "output_type": "stream",
     "text": [
      "100%|██████████| 10/10 [02:03<00:00, 12.33s/it]"
     ]
    },
    {
     "name": "stdout",
     "output_type": "stream",
     "text": [
      "2024-06-19 11:35:41 INFO Target fidelity 0.999 not achieved within TotalUpdates(total_updates=10).\n",
      "2024-06-19 11:35:41 INFO Target fidelity 0.9999 not achieved within TotalUpdates(total_updates=10).\n"
     ]
    },
    {
     "name": "stderr",
     "output_type": "stream",
     "text": [
      "\n"
     ]
    },
    {
     "data": {
      "text/plain": [
       "{'env_ident_str': 'SpilloverNoise_phi-0.25pi_gamma-0.01_gate_calibration_cx-gate_physical_qubits_0-1',\n",
       " 'reward_method': 'state',\n",
       " 'training_constraint': TotalUpdates(total_updates=10),\n",
       " 'avg_reward': [0.7279967992191927,\n",
       "  0.7866407022497168,\n",
       "  0.8298586980247824,\n",
       "  0.8536014655374903,\n",
       "  0.8907996865780154,\n",
       "  0.9132507416140176,\n",
       "  0.9061553287522234,\n",
       "  0.9316721078673073,\n",
       "  0.9405166976383126,\n",
       "  0.9588698574442451],\n",
       " 'std_action': [array([0.52828795, 0.52030736, 0.49688628, 0.44141015, 0.5007946 ,\n",
       "         0.49578092, 0.4657523 ], dtype=float32),\n",
       "  array([0.42268026, 0.4706812 , 0.46405083, 0.3908273 , 0.41168255,\n",
       "         0.49967495, 0.3990557 ], dtype=float32),\n",
       "  array([0.35317016, 0.42378375, 0.44370413, 0.38147938, 0.3263937 ,\n",
       "         0.40705416, 0.37046233], dtype=float32),\n",
       "  array([0.27763623, 0.39864016, 0.40157324, 0.3421868 , 0.2724629 ,\n",
       "         0.36780965, 0.29549828], dtype=float32),\n",
       "  array([0.23730698, 0.35157195, 0.3649202 , 0.34968355, 0.26039276,\n",
       "         0.31430545, 0.27762768], dtype=float32),\n",
       "  array([0.22659297, 0.30340004, 0.32980958, 0.34406224, 0.23839459,\n",
       "         0.288163  , 0.26172885], dtype=float32),\n",
       "  array([0.18707682, 0.27128258, 0.28441077, 0.35087663, 0.20870057,\n",
       "         0.2280518 , 0.25381133], dtype=float32),\n",
       "  array([0.1682736 , 0.25987813, 0.2687061 , 0.2769571 , 0.18490721,\n",
       "         0.24305515, 0.21630877], dtype=float32),\n",
       "  array([0.12474439, 0.2213918 , 0.21116693, 0.24112196, 0.14362915,\n",
       "         0.19622944, 0.18127063], dtype=float32),\n",
       "  array([0.1190897 , 0.21055824, 0.19721717, 0.19491366, 0.15409353,\n",
       "         0.19158563, 0.16476744], dtype=float32)],\n",
       " 'fidelity_history': [0.760793659508647,\n",
       "  0.8167676861795065,\n",
       "  0.8509625550722615,\n",
       "  0.875649136304219,\n",
       "  0.8984781724556408,\n",
       "  0.8962174136871397,\n",
       "  0.9188491275632387,\n",
       "  0.9393228620524179,\n",
       "  0.9505599724426963,\n",
       "  0.96636141611216],\n",
       " 'hardware_runtime': [37.486592,\n",
       "  27.6824064,\n",
       "  34.603008,\n",
       "  19.6083712,\n",
       "  25.375539200000002,\n",
       "  27.1056896,\n",
       "  38.6400256,\n",
       "  32.2961408,\n",
       "  33.4495744,\n",
       "  46.137344],\n",
       " 'action_history': [array([ 0.15462917,  0.09230295,  0.02121568,  0.00313374,  0.07513527,\n",
       "          0.07914322, -0.19621408], dtype=float32),\n",
       "  array([ 0.09233997,  0.09041937, -0.01701862,  0.10023791,  0.05821093,\n",
       "          0.12532091, -0.10871689], dtype=float32),\n",
       "  array([ 0.03659992,  0.08198235, -0.02081861,  0.04892753,  0.03318325,\n",
       "          0.10553895, -0.17464674], dtype=float32),\n",
       "  array([-0.0278126 ,  0.13593462, -0.00406381,  0.12096772, -0.01171359,\n",
       "          0.20668174,  0.0336336 ], dtype=float32),\n",
       "  array([-0.01848525,  0.07966328, -0.03916302,  0.07775583,  0.02458018,\n",
       "          0.11324217, -0.04266702], dtype=float32),\n",
       "  array([-0.00149165,  0.07810175, -0.00863442,  0.05292813,  0.05317334,\n",
       "          0.06096297, -0.09522494], dtype=float32),\n",
       "  array([-0.01942996,  0.05890463,  0.0250022 ,  0.08626799,  0.02114038,\n",
       "          0.04943822, -0.09222683], dtype=float32),\n",
       "  array([-0.01885752,  0.02214549, -0.00092693,  0.01401555,  0.03705288,\n",
       "          0.05332184, -0.08420001], dtype=float32),\n",
       "  array([-0.02538653,  0.06554902,  0.0110078 ,  0.09110343, -0.04413189,\n",
       "          0.04883312,  0.07561091], dtype=float32),\n",
       "  array([-0.02517372,  0.01743832, -0.0126414 ,  0.00899545, -0.01330039,\n",
       "          0.05984937, -0.01586179], dtype=float32)],\n",
       " 'best_action_vector': array([0., 0., 0., 0., 0., 0., 0.]),\n",
       " 'total_shots': [17039360,\n",
       "  12582912,\n",
       "  15728640,\n",
       "  8912896,\n",
       "  11534336,\n",
       "  12320768,\n",
       "  17563648,\n",
       "  14680064,\n",
       "  15204352,\n",
       "  20971520],\n",
       " 'total_updates': 10,\n",
       " 'n_reps': 1,\n",
       " 'fidelity_info': {0.999: {'achieved': False,\n",
       "   'update_at': None,\n",
       "   'train_time': None,\n",
       "   'shots_used': None},\n",
       "  0.9999: {'achieved': False,\n",
       "   'update_at': None,\n",
       "   'train_time': None,\n",
       "   'shots_used': None}}}"
      ]
     },
     "execution_count": 9,
     "metadata": {},
     "output_type": "execute_result"
    }
   ],
   "source": [
    "ppo_agent.train(\n",
    "    training_config=training_config,\n",
    "    train_function_settings=train_function_settings\n",
    ")"
   ]
  }
 ],
 "metadata": {
  "kernelspec": {
   "display_name": "cqt_env",
   "language": "python",
   "name": "python3"
  },
  "language_info": {
   "codemirror_mode": {
    "name": "ipython",
    "version": 3
   },
   "file_extension": ".py",
   "mimetype": "text/x-python",
   "name": "python",
   "nbconvert_exporter": "python",
   "pygments_lexer": "ipython3",
   "version": "3.11.5"
  }
 },
 "nbformat": 4,
 "nbformat_minor": 2
}

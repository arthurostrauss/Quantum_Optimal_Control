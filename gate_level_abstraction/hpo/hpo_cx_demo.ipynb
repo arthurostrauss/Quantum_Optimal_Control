{
 "cells": [
  {
   "attachments": {},
   "cell_type": "markdown",
   "metadata": {},
   "source": [
    "### CX Calibration with HPO under the new code architecture / workflow (DEC 2023)"
   ]
  },
  {
   "cell_type": "code",
   "execution_count": 1,
   "metadata": {},
   "outputs": [
    {
     "name": "stderr",
     "output_type": "stream",
     "text": [
      "/Users/lukasvoss/Library/Python/3.9/lib/python/site-packages/qiskit_dynamics/dispatch/backends/jax.py:34: UserWarning: The functionality in the perturbation module of Qiskit Dynamics requires a JAX version <= 0.4.6, due to a bug in JAX versions > 0.4.6. For versions 0.4.4, 0.4.5, and 0.4.6, using the perturbation module functionality requires setting os.environ['JAX_JIT_PJIT_API_MERGE'] = '0' before importing JAX or Dynamics.\n",
      "  warnings.warn(\n"
     ]
    },
    {
     "name": "stdout",
     "output_type": "stream",
     "text": [
      "Starting Rabi experiment for qubit 0...\n",
      "Rabi experiment for qubit 0 done.\n",
      "Starting Drag experiment for qubit 0...\n",
      "Drag experiments done for qubit 0 done.\n",
      "Starting Rabi experiment for qubit 1...\n",
      "Rabi experiment for qubit 1 done.\n",
      "Starting Drag experiment for qubit 1...\n",
      "Drag experiments done for qubit 1 done.\n",
      "All single qubit calibrations are done\n",
      "Updated Instruction Schedule Map <InstructionScheduleMap(1Q instructions:\n",
      "  q0: {'measure', 'delay', 'tdg', 'sdg', 'z', 'rz', 'x', 'h', 't', 'id', 'sx', 'reset', 's'}\n",
      "  q1: {'measure', 'delay', 'tdg', 'sdg', 'z', 'rz', 'x', 'h', 't', 'id', 'sx', 'reset', 's'}\n",
      "Multi qubit instructions:\n",
      "  (0, 1): {'cr45m', 'ecr', 'cr45p'}\n",
      "  (1, 0): {'cr45m', 'ecr', 'cr45p'}\n",
      ")>\n",
      "Starting Rabi experiment for qubit 0...\n",
      "Rabi experiment for qubit 0 done.\n",
      "Starting Drag experiment for qubit 0...\n",
      "Drag experiments done for qubit 0 done.\n",
      "Starting Rabi experiment for qubit 1...\n",
      "Rabi experiment for qubit 1 done.\n",
      "Starting Drag experiment for qubit 1...\n",
      "Drag experiments done for qubit 1 done.\n",
      "All single qubit calibrations are done\n",
      "Updated Instruction Schedule Map <InstructionScheduleMap(1Q instructions:\n",
      "  q0: {'measure', 'delay', 'tdg', 'sdg', 'z', 'rz', 'x', 'h', 't', 'id', 'sx', 'reset', 's'}\n",
      "  q1: {'measure', 'delay', 'tdg', 'sdg', 'z', 'rz', 'x', 'h', 't', 'id', 'sx', 'reset', 's'}\n",
      "Multi qubit instructions:\n",
      "  (0, 1): {'cr45m', 'ecr', 'cr45p'}\n",
      "  (1, 0): {'cr45m', 'ecr', 'cr45p'}\n",
      ")>\n"
     ]
    }
   ],
   "source": [
    "import sys\n",
    "import os\n",
    "os.environ[\"KMP_DUPLICATE_LIB_OK\"] = \"True\"\n",
    "import time\n",
    "import yaml\n",
    "import pickle\n",
    "import optuna\n",
    "module_path = os.path.abspath(os.path.join('/Users/lukasvoss/Documents/Master Wirtschaftsphysik/Masterarbeit Yale-NUS CQT/Quantum_Optimal_Control'))\n",
    "if module_path not in sys.path:\n",
    "    sys.path.append(module_path)\n",
    "\n",
    "from quantumenvironment import QuantumEnvironment\n",
    "from agent import Agent\n",
    "from gate_level_abstraction import gate_q_env_config\n",
    "from helper_functions import load_agent_from_yaml_file, create_agent_config\n",
    "from ppo import make_train_ppo\n",
    "from qconfig import QEnvConfig\n",
    "\n",
    "import logging\n",
    "logging.basicConfig(\n",
    "    level=logging.WARNING,\n",
    "    format=\"%(asctime)s INFO %(message)s\", # hardcoded INFO level\n",
    "    datefmt=\"%Y-%m-%d %H:%M:%S\",\n",
    "    stream=sys.stdout,\n",
    ")"
   ]
  },
  {
   "attachments": {},
   "cell_type": "markdown",
   "metadata": {},
   "source": [
    "### Perform HPO"
   ]
  },
  {
   "cell_type": "code",
   "execution_count": 2,
   "metadata": {},
   "outputs": [],
   "source": [
    "from hyperparameter_optimization import HyperparameterOptimizer"
   ]
  },
  {
   "cell_type": "code",
   "execution_count": 3,
   "metadata": {},
   "outputs": [],
   "source": [
    "path_agent_config = 'agent_config.yaml'\n",
    "save_results_path = 'hpo_results'"
   ]
  },
  {
   "cell_type": "code",
   "execution_count": 4,
   "metadata": {},
   "outputs": [
    {
     "name": "stderr",
     "output_type": "stream",
     "text": [
      "\r 51%|█████     | 50/98 [00:03<00:03, 14.97it/s]"
     ]
    },
    {
     "name": "stdout",
     "output_type": "stream",
     "text": [
      "Fidelity History: []\n",
      "SparsePauliOp(['II', 'IZ', 'YI', 'YZ'],\n",
      "              coeffs=[ 0.25+0.j, -0.25+0.j, -0.25+0.j,  0.25+0.j])\n"
     ]
    },
    {
     "name": "stderr",
     "output_type": "stream",
     "text": [
      " 53%|█████▎    | 52/98 [00:03<00:03, 15.05it/s]"
     ]
    },
    {
     "name": "stdout",
     "output_type": "stream",
     "text": [
      "mean tensor([ 0.0129,  0.0726, -0.0137, -0.0094,  0.0062, -0.0097,  0.0356])\n",
      "Average return: 0.9851323146129741\n",
      "DFE Rewards Mean: 0.9851323146129741\n",
      "DFE Rewards standard dev 0.02144069547713437\n",
      "Returns Mean: 6.5228567\n",
      "Returns standard dev 4.1254487\n",
      "Advantages Mean: 2.5167358\n",
      "Advantages standard dev 4.1254487\n",
      "Fidelity History: []\n",
      "SparsePauliOp(['II', 'XY', 'YX', 'ZZ'],\n",
      "              coeffs=[0.25+0.j, 0.25+0.j, 0.25+0.j, 0.25+0.j])\n",
      "mean tensor([-0.0193,  0.0854, -0.0993,  0.0441,  0.0353, -0.0756, -0.0152])\n",
      "Average return: 0.984029575516343\n",
      "DFE Rewards Mean: 0.984029575516343\n",
      "DFE Rewards standard dev 0.020173092671580642\n",
      "Returns Mean: 5.645577\n",
      "Returns standard dev 3.4630191\n",
      "Advantages Mean: 0.97009593\n",
      "Advantages standard dev 3.463019\n",
      "Fidelity History: []\n",
      "SparsePauliOp(['II', 'IZ', 'XI', 'XZ'],\n",
      "              coeffs=[ 0.25+0.j, -0.25+0.j,  0.25+0.j, -0.25+0.j])\n",
      "mean tensor([-0.1244,  0.0259, -0.0127,  0.0696,  0.1208, -0.0876,  0.0031])\n",
      "Average return: 0.8966990139784136\n",
      "DFE Rewards Mean: 0.8966990139784136\n",
      "DFE Rewards standard dev 0.04418780149556229\n",
      "Returns Mean: 2.479504\n",
      "Returns standard dev 1.2115642\n",
      "Advantages Mean: -1.8543223\n",
      "Advantages standard dev 1.2115642\n",
      "Fidelity History: []\n",
      "SparsePauliOp(['II', 'IZ', 'ZI', 'ZZ'],\n",
      "              coeffs=[ 0.25+0.j, -0.25+0.j, -0.25+0.j,  0.25+0.j])\n"
     ]
    },
    {
     "name": "stderr",
     "output_type": "stream",
     "text": [
      " 55%|█████▌    | 54/98 [00:03<00:02, 15.26it/s]"
     ]
    },
    {
     "name": "stdout",
     "output_type": "stream",
     "text": [
      "mean tensor([-0.0862, -0.0127,  0.0153,  0.0336,  0.0879, -0.0753, -0.0043])\n",
      "Average return: 0.9434545605210091\n",
      "DFE Rewards Mean: 0.9434545605210091\n",
      "DFE Rewards standard dev 0.03685547459862915\n",
      "Returns Mean: 3.4334366\n",
      "Returns standard dev 2.1183841\n",
      "Advantages Mean: -0.2785891\n",
      "Advantages standard dev 2.1183841\n",
      "Fidelity History: []\n",
      "SparsePauliOp(['II', 'XX', 'YY', 'ZZ'],\n",
      "              coeffs=[ 0.25+0.j,  0.25+0.j,  0.25+0.j, -0.25+0.j])\n"
     ]
    },
    {
     "name": "stderr",
     "output_type": "stream",
     "text": [
      " 57%|█████▋    | 56/98 [00:03<00:02, 15.35it/s]"
     ]
    },
    {
     "name": "stdout",
     "output_type": "stream",
     "text": [
      "mean tensor([-0.1060,  0.0115, -0.0455,  0.0479,  0.0655, -0.1168,  0.0314])\n",
      "Average return: 0.956668687714669\n",
      "DFE Rewards Mean: 0.956668687714669\n",
      "DFE Rewards standard dev 0.03646304519761939\n",
      "Returns Mean: 4.021659\n",
      "Returns standard dev 2.6717005\n",
      "Advantages Mean: -0.008654356\n",
      "Advantages standard dev 2.6717005\n",
      "Fidelity History: []\n",
      "SparsePauliOp(['II', 'XX', 'YY', 'ZZ'],\n",
      "              coeffs=[ 0.25+0.j,  0.25+0.j,  0.25+0.j, -0.25+0.j])\n",
      "mean tensor([-0.0971,  0.0164,  0.0024,  0.0202,  0.0605, -0.1184,  0.0120])\n",
      "Average return: 0.9656030407621943\n",
      "DFE Rewards Mean: 0.9656030407621943\n",
      "DFE Rewards standard dev 0.03550370435535728\n",
      "Returns Mean: 4.9581513\n",
      "Returns standard dev 3.5338633\n",
      "Advantages Mean: 0.82132435\n",
      "Advantages standard dev 3.5338635\n",
      "Fidelity History: []\n",
      "SparsePauliOp(['II', 'IZ', 'XI', 'XZ'],\n",
      "              coeffs=[0.25+0.j, 0.25+0.j, 0.25+0.j, 0.25+0.j])\n",
      "mean tensor([-0.1137, -0.0840,  0.0432, -0.0402,  0.0616, -0.1674, -0.0557])\n",
      "Average return: 0.8848901503166539\n",
      "DFE Rewards Mean: 0.8848901503166539\n",
      "DFE Rewards standard dev 0.05643193016366367\n",
      "Returns Mean: 2.3921125\n",
      "Returns standard dev 1.2225206\n",
      "Advantages Mean: -1.1671487\n",
      "Advantages standard dev 1.2225206\n",
      "Fidelity History: []\n",
      "SparsePauliOp(['II', 'XX', 'YY', 'ZZ'],\n",
      "              coeffs=[ 0.25+0.j,  0.25+0.j, -0.25+0.j,  0.25+0.j])\n"
     ]
    },
    {
     "name": "stderr",
     "output_type": "stream",
     "text": [
      " 59%|█████▉    | 58/98 [00:03<00:02, 15.51it/s]"
     ]
    },
    {
     "name": "stdout",
     "output_type": "stream",
     "text": [
      "mean tensor([-0.1456, -0.0420,  0.0305, -0.0301,  0.0182, -0.2004, -0.0450])\n",
      "Average return: 0.9697157881266049\n",
      "DFE Rewards Mean: 0.9697157881266049\n",
      "DFE Rewards standard dev 0.034703243057864756\n",
      "Returns Mean: 5.2235894\n",
      "Returns standard dev 3.6656075\n",
      "Advantages Mean: 1.2551708\n",
      "Advantages standard dev 3.6656077\n",
      "Fidelity History: []\n",
      "SparsePauliOp(['II', 'IZ', 'XI', 'XZ'],\n",
      "              coeffs=[ 0.25+0.j, -0.25+0.j,  0.25+0.j, -0.25+0.j])\n"
     ]
    },
    {
     "name": "stderr",
     "output_type": "stream",
     "text": [
      " 61%|██████    | 60/98 [00:03<00:02, 15.53it/s]"
     ]
    },
    {
     "name": "stdout",
     "output_type": "stream",
     "text": [
      "mean tensor([-0.1378, -0.0356,  0.0067, -0.0216,  0.0506, -0.1675, -0.0494])\n",
      "Average return: 0.8888877871633982\n",
      "DFE Rewards Mean: 0.8888877871633982\n",
      "DFE Rewards standard dev 0.04536287543451965\n",
      "Returns Mean: 2.296083\n",
      "Returns standard dev 0.48251376\n",
      "Advantages Mean: -1.6817163\n",
      "Advantages standard dev 0.48251376\n",
      "Fidelity History: []\n",
      "SparsePauliOp(['II', 'XX', 'YZ', 'ZY'],\n",
      "              coeffs=[0.25+0.j, 0.25+0.j, 0.25+0.j, 0.25+0.j])\n",
      "mean tensor([-0.1746, -0.0229, -0.0180, -0.0125,  0.0199, -0.1855, -0.0729])\n",
      "Average return: 0.8900484258203178\n",
      "DFE Rewards Mean: 0.8900484258203178\n",
      "DFE Rewards standard dev 0.04601041164780469\n",
      "Returns Mean: 2.401705\n",
      "Returns standard dev 1.1971985\n",
      "Advantages Mean: -1.644974\n",
      "Advantages standard dev 1.1971985\n",
      "Fidelity History: []\n",
      "SparsePauliOp(['II', 'IZ', 'XI', 'XZ'],\n",
      "              coeffs=[ 0.25+0.j, -0.25+0.j,  0.25+0.j, -0.25+0.j])\n",
      "mean tensor([-0.1432, -0.0258,  0.0420, -0.0423,  0.0337, -0.1379, -0.0594])\n",
      "Average return: 0.8942562786331649\n",
      "DFE Rewards Mean: 0.8942562786331649\n",
      "DFE Rewards standard dev 0.04508335400535647\n",
      "Returns Mean: 2.3632295\n",
      "Returns standard dev 0.56186247\n",
      "Advantages Mean: -0.9155981\n",
      "Advantages standard dev 0.5618625\n",
      "Fidelity History: []\n",
      "SparsePauliOp(['II', 'IZ', 'ZI', 'ZZ'],\n",
      "              coeffs=[0.25+0.j, 0.25+0.j, 0.25+0.j, 0.25+0.j])\n"
     ]
    },
    {
     "name": "stderr",
     "output_type": "stream",
     "text": [
      " 63%|██████▎   | 62/98 [00:04<00:02, 15.62it/s]"
     ]
    },
    {
     "name": "stdout",
     "output_type": "stream",
     "text": [
      "mean tensor([-0.0716, -0.0413,  0.0898, -0.0647,  0.0551, -0.0868, -0.0563])\n",
      "Average return: 0.9047260391105666\n",
      "DFE Rewards Mean: 0.9047260391105666\n",
      "DFE Rewards standard dev 0.07329288983145325\n",
      "Returns Mean: 2.805959\n",
      "Returns standard dev 1.6726595\n",
      "Advantages Mean: 0.2845841\n",
      "Advantages standard dev 1.6726594\n",
      "Fidelity History: []\n",
      "SparsePauliOp(['II', 'XX', 'YY', 'ZZ'],\n",
      "              coeffs=[ 0.25+0.j,  0.25+0.j,  0.25+0.j, -0.25+0.j])\n"
     ]
    },
    {
     "name": "stderr",
     "output_type": "stream",
     "text": [
      " 65%|██████▌   | 64/98 [00:04<00:02, 15.41it/s]"
     ]
    },
    {
     "name": "stdout",
     "output_type": "stream",
     "text": [
      "mean tensor([-0.1115, -0.0318,  0.0040,  0.0013,  0.0017, -0.1345, -0.0257])\n",
      "Average return: 0.9785551709614216\n",
      "DFE Rewards Mean: 0.9785551709614216\n",
      "DFE Rewards standard dev 0.02905050557265943\n",
      "Returns Mean: 6.154315\n",
      "Returns standard dev 4.147455\n",
      "Advantages Mean: 2.6424096\n",
      "Advantages standard dev 4.147455\n",
      "Fidelity History: []\n",
      "SparsePauliOp(['II', 'IZ', 'ZI', 'ZZ'],\n",
      "              coeffs=[ 0.25+0.j, -0.25+0.j, -0.25+0.j,  0.25+0.j])\n",
      "mean tensor([-0.0749,  0.0142,  0.0606, -0.0344, -0.0436, -0.0872, -0.0122])\n",
      "Average return: 0.9621945857179615\n",
      "DFE Rewards Mean: 0.9621945857179615\n",
      "DFE Rewards standard dev 0.030812488839412164\n",
      "Returns Mean: 4.375989\n",
      "Returns standard dev 2.9663296\n",
      "Advantages Mean: 1.0510684\n",
      "Advantages standard dev 2.9663296\n",
      "Fidelity History: []\n",
      "SparsePauliOp(['II', 'IZ', 'YI', 'YZ'],\n",
      "              coeffs=[ 0.25+0.j, -0.25+0.j, -0.25+0.j,  0.25+0.j])\n"
     ]
    },
    {
     "name": "stderr",
     "output_type": "stream",
     "text": [
      " 67%|██████▋   | 66/98 [00:04<00:02, 15.41it/s]"
     ]
    },
    {
     "name": "stdout",
     "output_type": "stream",
     "text": [
      "mean tensor([-0.0383,  0.0078,  0.0175, -0.0208, -0.0592, -0.1029, -0.0021])\n",
      "Average return: 0.9538022551550369\n",
      "DFE Rewards Mean: 0.9538022551550369\n",
      "DFE Rewards standard dev 0.036532078573712\n",
      "Returns Mean: 4.1463685\n",
      "Returns standard dev 2.9972446\n",
      "Advantages Mean: 0.3176275\n",
      "Advantages standard dev 2.9972441\n",
      "Fidelity History: []\n",
      "SparsePauliOp(['II', 'IZ', 'YI', 'YZ'],\n",
      "              coeffs=[ 0.25+0.j, -0.25+0.j, -0.25+0.j,  0.25+0.j])\n",
      "mean tensor([-0.0438,  0.0264,  0.0144, -0.0352, -0.0600, -0.0554, -0.0159])\n",
      "Average return: 0.9735113111840008\n",
      "DFE Rewards Mean: 0.9735113111840008\n",
      "DFE Rewards standard dev 0.025536239892043622\n",
      "Returns Mean: 5.4035144\n",
      "Returns standard dev 3.876914\n",
      "Advantages Mean: 1.4550334\n",
      "Advantages standard dev 3.8769147\n",
      "Fidelity History: []\n",
      "SparsePauliOp(['II', 'IZ', 'XI', 'XZ'],\n",
      "              coeffs=[0.25+0.j, 0.25+0.j, 0.25+0.j, 0.25+0.j])\n",
      "mean tensor([ 0.0121,  0.0105,  0.0318, -0.0386, -0.0370, -0.0271, -0.0126])\n",
      "Average return: 0.9786544206533551\n",
      "DFE Rewards Mean: 0.9786544206533551\n",
      "DFE Rewards standard dev 0.02940832211727423\n",
      "Returns Mean: 6.1961336\n",
      "Returns standard dev 4.278541\n",
      "Advantages Mean: 2.5790105\n",
      "Advantages standard dev 4.278541\n",
      "Fidelity History: []\n",
      "SparsePauliOp(['II', 'XX', 'YY', 'ZZ'],\n",
      "              coeffs=[ 0.25+0.j,  0.25+0.j,  0.25+0.j, -0.25+0.j])\n"
     ]
    },
    {
     "name": "stderr",
     "output_type": "stream",
     "text": [
      " 69%|██████▉   | 68/98 [00:04<00:02, 14.90it/s]"
     ]
    },
    {
     "name": "stdout",
     "output_type": "stream",
     "text": [
      "mean tensor([-0.0375,  0.0268, -0.0412, -0.0303, -0.0745, -0.0425, -0.0343])\n",
      "Average return: 0.9659290713921062\n",
      "DFE Rewards Mean: 0.9659290713921062\n",
      "DFE Rewards standard dev 0.029325493609360122\n",
      "Returns Mean: 4.245868\n",
      "Returns standard dev 2.5116966\n",
      "Advantages Mean: -0.34945515\n",
      "Advantages standard dev 2.5116966\n",
      "Fidelity History: []\n",
      "SparsePauliOp(['II', 'IY', 'XI', 'XY'],\n",
      "              coeffs=[0.25+0.j, 0.25+0.j, 0.25+0.j, 0.25+0.j])\n",
      "mean tensor([-0.0921,  0.0490, -0.1059, -0.0481, -0.0829, -0.0143, -0.0640])\n",
      "Average return: 0.923112756232478\n",
      "DFE Rewards Mean: 0.923112756232478\n",
      "DFE Rewards standard dev 0.04967414771210666\n",
      "Returns Mean: 3.0064485\n",
      "Returns standard dev 1.6988255\n",
      "Advantages Mean: -1.8981133\n",
      "Advantages standard dev 1.6988255\n",
      "Fidelity History: []\n"
     ]
    },
    {
     "name": "stderr",
     "output_type": "stream",
     "text": [
      " 71%|███████▏  | 70/98 [00:04<00:01, 15.29it/s]"
     ]
    },
    {
     "name": "stdout",
     "output_type": "stream",
     "text": [
      "SparsePauliOp(['II', 'IY', 'XI', 'XY'],\n",
      "              coeffs=[0.25+0.j, 0.25+0.j, 0.25+0.j, 0.25+0.j])\n",
      "mean tensor([-0.0989,  0.0981, -0.0777, -0.0460, -0.0593, -0.0131, -0.0500])\n",
      "Average return: 0.9507805656440527\n",
      "DFE Rewards Mean: 0.9507805656440527\n",
      "DFE Rewards standard dev 0.03215021527502243\n",
      "Returns Mean: 3.5212655\n",
      "Returns standard dev 1.9053209\n",
      "Advantages Mean: -0.9296592\n",
      "Advantages standard dev 1.9053209\n",
      "Fidelity History: []\n",
      "SparsePauliOp(['II', 'IZ', 'ZI', 'ZZ'],\n",
      "              coeffs=[ 0.25+0.j, -0.25+0.j, -0.25+0.j,  0.25+0.j])\n",
      "mean tensor([-0.0398,  0.0629,  0.0171, -0.0544, -0.0351, -0.0291, -0.0438])\n",
      "Average return: 0.9762109727930708\n",
      "DFE Rewards Mean: 0.9762109727930708\n",
      "DFE Rewards standard dev 0.02680669787598766\n",
      "Returns Mean: 5.714058\n",
      "Returns standard dev 3.9037075\n",
      "Advantages Mean: 2.1586902\n",
      "Advantages standard dev 3.9037075\n",
      "Fidelity History: []\n",
      "SparsePauliOp(['II', 'IZ', 'XI', 'XZ'],\n",
      "              coeffs=[ 0.25+0.j, -0.25+0.j,  0.25+0.j, -0.25+0.j])\n"
     ]
    },
    {
     "name": "stderr",
     "output_type": "stream",
     "text": [
      " 73%|███████▎  | 72/98 [00:04<00:01, 15.60it/s]"
     ]
    },
    {
     "name": "stdout",
     "output_type": "stream",
     "text": [
      "mean tensor([-0.0217,  0.0900,  0.0399, -0.0583,  0.0229, -0.0743, -0.0506])\n",
      "Average return: 0.9815116781627504\n",
      "DFE Rewards Mean: 0.9815116781627504\n",
      "DFE Rewards standard dev 0.022696822983378336\n",
      "Returns Mean: 5.9925623\n",
      "Returns standard dev 4.0457377\n",
      "Advantages Mean: 2.0481682\n",
      "Advantages standard dev 4.0457377\n",
      "Fidelity History: []\n",
      "SparsePauliOp(['II', 'IZ', 'YI', 'YZ'],\n",
      "              coeffs=[ 0.25+0.j, -0.25+0.j, -0.25+0.j,  0.25+0.j])\n"
     ]
    },
    {
     "name": "stderr",
     "output_type": "stream",
     "text": [
      " 76%|███████▌  | 74/98 [00:04<00:01, 15.67it/s]"
     ]
    },
    {
     "name": "stdout",
     "output_type": "stream",
     "text": [
      "mean tensor([-0.0401,  0.0792,  0.0494, -0.0866,  0.0334, -0.0316, -0.0572])\n",
      "Average return: 0.9785492457669511\n",
      "DFE Rewards Mean: 0.9785492457669511\n",
      "DFE Rewards standard dev 0.02262328383781761\n",
      "Returns Mean: 5.5907984\n",
      "Returns standard dev 3.6577833\n",
      "Advantages Mean: 1.3314525\n",
      "Advantages standard dev 3.6577833\n",
      "Fidelity History: []\n",
      "SparsePauliOp(['II', 'XY', 'YX', 'ZZ'],\n",
      "              coeffs=[0.25+0.j, 0.25+0.j, 0.25+0.j, 0.25+0.j])\n",
      "mean tensor([-0.0456,  0.0611,  0.0438, -0.0688,  0.0132, -0.0195, -0.0448])\n",
      "Average return: 0.9406712096903738\n",
      "DFE Rewards Mean: 0.9406712096903738\n",
      "DFE Rewards standard dev 0.04374944147665132\n",
      "Returns Mean: 3.600677\n",
      "Returns standard dev 2.5658946\n",
      "Advantages Mean: -1.2924627\n",
      "Advantages standard dev 2.5658944\n",
      "Fidelity History: []\n",
      "SparsePauliOp(['II', 'IZ', 'XI', 'XZ'],\n",
      "              coeffs=[0.25+0.j, 0.25+0.j, 0.25+0.j, 0.25+0.j])\n",
      "mean tensor([ 0.0125,  0.0013,  0.0785, -0.0957,  0.0471, -0.0276, -0.0403])\n",
      "Average return: 0.9782825891454312\n",
      "DFE Rewards Mean: 0.9782825891454312\n",
      "DFE Rewards standard dev 0.029088937031906233\n",
      "Returns Mean: 5.7869787\n",
      "Returns standard dev 3.9573345\n",
      "Advantages Mean: 2.0115712\n",
      "Advantages standard dev 3.9573345\n",
      "Fidelity History: []\n",
      "SparsePauliOp(['II', 'XY', 'YX', 'ZZ'],\n",
      "              coeffs=[0.25+0.j, 0.25+0.j, 0.25+0.j, 0.25+0.j])\n"
     ]
    },
    {
     "name": "stderr",
     "output_type": "stream",
     "text": [
      " 78%|███████▊  | 76/98 [00:04<00:01, 15.84it/s]"
     ]
    },
    {
     "name": "stdout",
     "output_type": "stream",
     "text": [
      "mean tensor([-0.0520,  0.0566,  0.0091, -0.0936, -0.0099, -0.0399, -0.0425])\n",
      "Average return: 0.9519642172831041\n",
      "DFE Rewards Mean: 0.9519642172831041\n",
      "DFE Rewards standard dev 0.029813683309738097\n",
      "Returns Mean: 3.6336765\n",
      "Returns standard dev 2.2937067\n",
      "Advantages Mean: -1.287913\n",
      "Advantages standard dev 2.2937071\n",
      "Fidelity History: []\n",
      "SparsePauliOp(['II', 'IZ', 'ZI', 'ZZ'],\n",
      "              coeffs=[0.25+0.j, 0.25+0.j, 0.25+0.j, 0.25+0.j])\n"
     ]
    },
    {
     "name": "stderr",
     "output_type": "stream",
     "text": [
      " 80%|███████▉  | 78/98 [00:05<00:01, 15.97it/s]"
     ]
    },
    {
     "name": "stdout",
     "output_type": "stream",
     "text": [
      "mean tensor([ 0.0144,  0.0064,  0.0325, -0.0849,  0.0403, -0.0267, -0.0414])\n",
      "Average return: 0.9256069444769321\n",
      "DFE Rewards Mean: 0.9256069444769321\n",
      "DFE Rewards standard dev 0.06997695368686742\n",
      "Returns Mean: 3.5578723\n",
      "Returns standard dev 2.6402707\n",
      "Advantages Mean: -0.052799385\n",
      "Advantages standard dev 2.6402705\n",
      "Fidelity History: []\n",
      "SparsePauliOp(['II', 'XY', 'YX', 'ZZ'],\n",
      "              coeffs=[0.25+0.j, 0.25+0.j, 0.25+0.j, 0.25+0.j])\n",
      "mean tensor([-0.0236,  0.0617, -0.0554, -0.0364, -0.0362, -0.0031, -0.0108])\n",
      "Average return: 0.9820888787595755\n",
      "DFE Rewards Mean: 0.9820888787595755\n",
      "DFE Rewards standard dev 0.020419132408183042\n",
      "Returns Mean: 5.9379153\n",
      "Returns standard dev 3.8268526\n",
      "Advantages Mean: 1.3896713\n",
      "Advantages standard dev 3.8268526\n",
      "Fidelity History: []\n",
      "SparsePauliOp(['II', 'XY', 'YZ', 'ZX'],\n",
      "              coeffs=[ 0.25+0.j,  0.25+0.j,  0.25+0.j, -0.25+0.j])\n",
      "mean tensor([-0.0272,  0.1090, -0.1131, -0.0532,  0.0203,  0.0085, -0.0164])\n",
      "Average return: 0.9843948644948176\n",
      "DFE Rewards Mean: 0.9843948644948176\n",
      "DFE Rewards standard dev 0.01451415423890925\n",
      "Returns Mean: 5.4725266\n",
      "Returns standard dev 3.262087\n",
      "Advantages Mean: 0.48246193\n",
      "Advantages standard dev 3.262087\n",
      "Fidelity History: []\n",
      "SparsePauliOp(['II', 'IZ', 'ZI', 'ZZ'],\n",
      "              coeffs=[ 0.25+0.j, -0.25+0.j,  0.25+0.j, -0.25+0.j])\n"
     ]
    },
    {
     "name": "stderr",
     "output_type": "stream",
     "text": [
      " 82%|████████▏ | 80/98 [00:05<00:01, 15.69it/s]"
     ]
    },
    {
     "name": "stdout",
     "output_type": "stream",
     "text": [
      "mean tensor([-0.0719,  0.1642, -0.0023, -0.0309,  0.0867,  0.0269, -0.0405])\n",
      "Average return: 0.9547143094269865\n",
      "DFE Rewards Mean: 0.9547143094269865\n",
      "DFE Rewards standard dev 0.034064369878846375\n",
      "Returns Mean: 3.9722438\n",
      "Returns standard dev 2.7204258\n",
      "Advantages Mean: -0.4216285\n",
      "Advantages standard dev 2.7204258\n",
      "Fidelity History: []\n",
      "SparsePauliOp(['II', 'IZ', 'YI', 'YZ'],\n",
      "              coeffs=[0.25+0.j, 0.25+0.j, 0.25+0.j, 0.25+0.j])\n"
     ]
    },
    {
     "name": "stderr",
     "output_type": "stream",
     "text": [
      " 84%|████████▎ | 82/98 [00:05<00:01, 15.68it/s]"
     ]
    },
    {
     "name": "stdout",
     "output_type": "stream",
     "text": [
      "mean tensor([-0.0561,  0.1747, -0.0215, -0.0389,  0.0708,  0.0105, -0.0272])\n",
      "Average return: 0.9581334810589066\n",
      "DFE Rewards Mean: 0.9581334810589066\n",
      "DFE Rewards standard dev 0.038491284073060884\n",
      "Returns Mean: 4.3089466\n",
      "Returns standard dev 3.0855498\n",
      "Advantages Mean: 0.2705652\n",
      "Advantages standard dev 3.08555\n",
      "Fidelity History: []\n",
      "SparsePauliOp(['II', 'XY', 'YZ', 'ZX'],\n",
      "              coeffs=[ 0.25+0.j,  0.25+0.j,  0.25+0.j, -0.25+0.j])\n",
      "mean tensor([-1.1897e-01,  3.0632e-01, -9.1294e-02, -2.1814e-03,  1.0239e-04,\n",
      "         2.9044e-02, -2.5243e-02])\n",
      "Average return: 0.8593783648243968\n",
      "DFE Rewards Mean: 0.8593783648243968\n",
      "DFE Rewards standard dev 0.05725264964849005\n",
      "Returns Mean: 2.147651\n",
      "Returns standard dev 1.194365\n",
      "Advantages Mean: -2.9697857\n",
      "Advantages standard dev 1.194365\n",
      "Fidelity History: []\n",
      "SparsePauliOp(['II', 'IZ', 'XI', 'XZ'],\n",
      "              coeffs=[0.25+0.j, 0.25+0.j, 0.25+0.j, 0.25+0.j])\n",
      "mean tensor([-0.0637,  0.1578, -0.0233, -0.0025,  0.0459, -0.0100, -0.0123])\n",
      "Average return: 0.9634545125375463\n",
      "DFE Rewards Mean: 0.9634545125375463\n",
      "DFE Rewards standard dev 0.035021623917636524\n",
      "Returns Mean: 4.499641\n",
      "Returns standard dev 3.0799756\n",
      "Advantages Mean: 0.8517303\n",
      "Advantages standard dev 3.0799754\n",
      "Fidelity History: []\n",
      "SparsePauliOp(['II', 'IZ', 'ZI', 'ZZ'],\n",
      "              coeffs=[0.25+0.j, 0.25+0.j, 0.25+0.j, 0.25+0.j])\n"
     ]
    },
    {
     "name": "stderr",
     "output_type": "stream",
     "text": [
      " 86%|████████▌ | 84/98 [00:05<00:00, 15.82it/s]"
     ]
    },
    {
     "name": "stdout",
     "output_type": "stream",
     "text": [
      "mean tensor([-0.0380,  0.1264,  0.0043, -0.0070,  0.0386,  0.0116, -0.0080])\n",
      "Average return: 0.968685222633776\n",
      "DFE Rewards Mean: 0.968685222633776\n",
      "DFE Rewards standard dev 0.0315898714620341\n",
      "Returns Mean: 4.6715646\n",
      "Returns standard dev 3.0501187\n",
      "Advantages Mean: 1.0394348\n",
      "Advantages standard dev 3.0501184\n",
      "Fidelity History: []\n",
      "SparsePauliOp(['II', 'IZ', 'ZI', 'ZZ'],\n",
      "              coeffs=[ 0.25+0.j, -0.25+0.j,  0.25+0.j, -0.25+0.j])\n"
     ]
    },
    {
     "name": "stderr",
     "output_type": "stream",
     "text": [
      " 88%|████████▊ | 86/98 [00:05<00:00, 15.82it/s]"
     ]
    },
    {
     "name": "stdout",
     "output_type": "stream",
     "text": [
      "mean tensor([-0.0376,  0.2465, -0.0389,  0.0367,  0.0027,  0.0015, -0.0110])\n",
      "Average return: 0.9832677431398394\n",
      "DFE Rewards Mean: 0.9832677431398394\n",
      "DFE Rewards standard dev 0.021957043369348655\n",
      "Returns Mean: 6.5589957\n",
      "Returns standard dev 4.3063555\n",
      "Advantages Mean: 2.1700513\n",
      "Advantages standard dev 4.3063555\n",
      "Fidelity History: []\n",
      "SparsePauliOp(['II', 'IZ', 'ZI', 'ZZ'],\n",
      "              coeffs=[ 0.25+0.j, -0.25+0.j, -0.25+0.j,  0.25+0.j])\n",
      "mean tensor([-0.0243,  0.2401, -0.0459,  0.0206,  0.0181, -0.0045, -0.0061])\n",
      "Average return: 0.987387518181281\n",
      "DFE Rewards Mean: 0.987387518181281\n",
      "DFE Rewards standard dev 0.018692377635277473\n",
      "Returns Mean: 6.6103625\n",
      "Returns standard dev 4.151986\n",
      "Advantages Mean: 2.1141255\n",
      "Advantages standard dev 4.151986\n",
      "Fidelity History: []\n",
      "SparsePauliOp(['II', 'IX', 'XI', 'XX'],\n",
      "              coeffs=[0.25+0.j, 0.25+0.j, 0.25+0.j, 0.25+0.j])\n",
      "mean tensor([-0.0239,  0.2873, -0.0734,  0.0476, -0.0438,  0.0092,  0.0365])\n",
      "Average return: 0.8425913613376748\n",
      "DFE Rewards Mean: 0.8425913613376748\n",
      "DFE Rewards standard dev 0.08769990864779903\n",
      "Returns Mean: 2.0533423\n",
      "Returns standard dev 0.74700016\n",
      "Advantages Mean: -3.2016003\n",
      "Advantages standard dev 0.74700016\n",
      "Fidelity History: []\n",
      "SparsePauliOp(['II', 'IX', 'XI', 'XX'],\n",
      "              coeffs=[0.25+0.j, 0.25+0.j, 0.25+0.j, 0.25+0.j])\n"
     ]
    },
    {
     "name": "stderr",
     "output_type": "stream",
     "text": [
      " 90%|████████▉ | 88/98 [00:05<00:00, 15.85it/s]"
     ]
    },
    {
     "name": "stdout",
     "output_type": "stream",
     "text": [
      "mean tensor([-0.0221,  0.2638, -0.1218,  0.0551, -0.0388,  0.0080,  0.0258])\n",
      "Average return: 0.9226981826911079\n",
      "DFE Rewards Mean: 0.9226981826911079\n",
      "DFE Rewards standard dev 0.06624827544185123\n",
      "Returns Mean: 3.4520514\n",
      "Returns standard dev 2.5476859\n",
      "Advantages Mean: -1.3551275\n",
      "Advantages standard dev 2.5476859\n",
      "Fidelity History: []\n",
      "SparsePauliOp(['II', 'IZ', 'ZI', 'ZZ'],\n",
      "              coeffs=[ 0.25+0.j,  0.25+0.j, -0.25+0.j, -0.25+0.j])\n"
     ]
    },
    {
     "name": "stderr",
     "output_type": "stream",
     "text": [
      " 92%|█████████▏| 90/98 [00:05<00:00, 15.96it/s]"
     ]
    },
    {
     "name": "stdout",
     "output_type": "stream",
     "text": [
      "mean tensor([ 0.0151,  0.1412, -0.0821, -0.0108,  0.0234, -0.0089,  0.0028])\n",
      "Average return: 0.9721847946997723\n",
      "DFE Rewards Mean: 0.9721847946997723\n",
      "DFE Rewards standard dev 0.030764590432766203\n",
      "Returns Mean: 4.9937773\n",
      "Returns standard dev 3.1857502\n",
      "Advantages Mean: 1.1661489\n",
      "Advantages standard dev 3.1857502\n",
      "Fidelity History: []\n",
      "SparsePauliOp(['II', 'IY', 'XI', 'XY'],\n",
      "              coeffs=[0.25+0.j, 0.25+0.j, 0.25+0.j, 0.25+0.j])\n",
      "mean tensor([-0.0616,  0.2756, -0.1906,  0.0391, -0.0663,  0.0076, -0.0128])\n",
      "Average return: 0.9652930424744061\n",
      "DFE Rewards Mean: 0.9652930424744061\n",
      "DFE Rewards standard dev 0.02787100788074129\n",
      "Returns Mean: 4.2031407\n",
      "Returns standard dev 2.614051\n",
      "Advantages Mean: -0.8860136\n",
      "Advantages standard dev 2.6140513\n",
      "Fidelity History: []\n",
      "SparsePauliOp(['II', 'IZ', 'ZI', 'ZZ'],\n",
      "              coeffs=[ 0.25+0.j, -0.25+0.j, -0.25+0.j,  0.25+0.j])\n",
      "mean tensor([-0.0232,  0.1783, -0.1511,  0.0099, -0.0061, -0.0129,  0.0058])\n",
      "Average return: 0.9853798112582373\n",
      "DFE Rewards Mean: 0.9853798112582373\n",
      "DFE Rewards standard dev 0.019033362042128795\n",
      "Returns Mean: 6.4209967\n",
      "Returns standard dev 4.0014715\n",
      "Advantages Mean: 2.2339804\n",
      "Advantages standard dev 4.001472\n",
      "Fidelity History: []\n",
      "SparsePauliOp(['II', 'IZ', 'XI', 'XZ'],\n",
      "              coeffs=[ 0.25+0.j, -0.25+0.j,  0.25+0.j, -0.25+0.j])\n"
     ]
    },
    {
     "name": "stderr",
     "output_type": "stream",
     "text": [
      " 94%|█████████▍| 92/98 [00:05<00:00, 15.97it/s]"
     ]
    },
    {
     "name": "stdout",
     "output_type": "stream",
     "text": [
      "mean tensor([-0.0276,  0.2196, -0.1514,  0.0139, -0.0085,  0.0036, -0.0059])\n",
      "Average return: 0.9948039415167372\n",
      "DFE Rewards Mean: 0.9948039415167372\n",
      "DFE Rewards standard dev 0.011920789635665749\n",
      "Returns Mean: 7.633149\n",
      "Returns standard dev 4.1166644\n",
      "Advantages Mean: 3.0319579\n",
      "Advantages standard dev 4.1166644\n",
      "Fidelity History: []\n",
      "SparsePauliOp(['II', 'IX', 'XI', 'XX'],\n",
      "              coeffs=[0.25+0.j, 0.25+0.j, 0.25+0.j, 0.25+0.j])\n"
     ]
    },
    {
     "name": "stderr",
     "output_type": "stream",
     "text": [
      " 96%|█████████▌| 94/98 [00:06<00:00, 16.07it/s]"
     ]
    },
    {
     "name": "stdout",
     "output_type": "stream",
     "text": [
      "mean tensor([-0.0262,  0.2659, -0.1910,  0.0336, -0.0491, -0.0073, -0.0109])\n",
      "Average return: 0.9637583936711692\n",
      "DFE Rewards Mean: 0.9637583936711692\n",
      "DFE Rewards standard dev 0.03909225686681533\n",
      "Returns Mean: 4.8177924\n",
      "Returns standard dev 3.4209752\n",
      "Advantages Mean: -0.3885474\n",
      "Advantages standard dev 3.4209747\n",
      "Fidelity History: []\n",
      "SparsePauliOp(['II', 'IZ', 'ZI', 'ZZ'],\n",
      "              coeffs=[0.25+0.j, 0.25+0.j, 0.25+0.j, 0.25+0.j])\n",
      "mean tensor([ 0.0162,  0.1496, -0.1117, -0.0051, -0.0103, -0.0476, -0.0253])\n",
      "Average return: 0.9772725502685853\n",
      "DFE Rewards Mean: 0.9772725502685853\n",
      "DFE Rewards standard dev 0.029231535264474428\n",
      "Returns Mean: 5.5821176\n",
      "Returns standard dev 3.6857126\n",
      "Advantages Mean: 1.4622812\n",
      "Advantages standard dev 3.6857123\n",
      "Fidelity History: []\n",
      "SparsePauliOp(['II', 'IX', 'XI', 'XX'],\n",
      "              coeffs=[0.25+0.j, 0.25+0.j, 0.25+0.j, 0.25+0.j])\n",
      "mean tensor([-0.0425,  0.2606, -0.2167,  0.0401, -0.0926, -0.0451, -0.0448])\n",
      "Average return: 0.9580240237703783\n",
      "DFE Rewards Mean: 0.9580240237703783\n",
      "DFE Rewards standard dev 0.030005737777485157\n",
      "Returns Mean: 4.0661945\n",
      "Returns standard dev 2.8131301\n",
      "Advantages Mean: -1.202866\n",
      "Advantages standard dev 2.8131301\n",
      "Fidelity History: []\n",
      "SparsePauliOp(['II', 'IZ', 'YI', 'YZ'],\n",
      "              coeffs=[ 0.25+0.j, -0.25+0.j, -0.25+0.j,  0.25+0.j])\n"
     ]
    },
    {
     "name": "stderr",
     "output_type": "stream",
     "text": [
      " 98%|█████████▊| 96/98 [00:06<00:00, 16.01it/s]"
     ]
    },
    {
     "name": "stdout",
     "output_type": "stream",
     "text": [
      "mean tensor([-0.0289,  0.2644, -0.1940,  0.0353, -0.0489, -0.0439, -0.0337])\n",
      "Average return: 0.97668000303036\n",
      "DFE Rewards Mean: 0.97668000303036\n",
      "DFE Rewards standard dev 0.024246254177542555\n",
      "Returns Mean: 5.18454\n",
      "Returns standard dev 3.378544\n",
      "Advantages Mean: 0.35612026\n",
      "Advantages standard dev 3.3785443\n",
      "Fidelity History: []\n",
      "SparsePauliOp(['II', 'XY', 'YZ', 'ZX'],\n",
      "              coeffs=[ 0.25+0.j,  0.25+0.j,  0.25+0.j, -0.25+0.j])\n"
     ]
    },
    {
     "name": "stderr",
     "output_type": "stream",
     "text": [
      "100%|██████████| 98/98 [00:06<00:00, 15.49it/s]\n",
      "[I 2023-12-22 16:25:50,813] Trial 0 finished with value: 0.9652930424744061 and parameters: {'N_UPDATES': 98, 'N_EPOCHS': 8, 'MINIBATCH_SIZE': 16, 'BATCHSIZE_MULTIPLIER': 7, 'LR': 0.0004971391510729455, 'GAMMA': 0.960308356969359, 'GAE_LAMBDA': 0.9655529081499541, 'ENT_COEF': 5.899776130038774e-05, 'V_COEF': 0.46380666504150386, 'GRADIENT_CLIP': 0.5719427526186973, 'CLIP_VALUE_COEF': 0.20564201148973127, 'CLIP_RATIO': 0.2907789044909578}. Best is trial 0 with value: 0.9652930424744061.\n"
     ]
    },
    {
     "name": "stdout",
     "output_type": "stream",
     "text": [
      "mean tensor([-0.0518,  0.3676, -0.2595,  0.0028, -0.1014, -0.0200, -0.0230])\n",
      "Average return: 0.9561751129573902\n",
      "DFE Rewards Mean: 0.9561751129573902\n",
      "DFE Rewards standard dev 0.03708354388885389\n",
      "Returns Mean: 4.114571\n",
      "Returns standard dev 2.7217057\n",
      "Advantages Mean: -1.3467792\n",
      "Advantages standard dev 2.7217057\n",
      "Fidelity History: []\n",
      "SparsePauliOp(['II', 'XX', 'YZ', 'ZY'],\n",
      "              coeffs=[0.25+0.j, 0.25+0.j, 0.25+0.j, 0.25+0.j])\n",
      "mean tensor([-0.0315,  0.3081, -0.2433, -0.0215, -0.0877, -0.0384, -0.0129])\n",
      "Average return: 0.9607451466713611\n",
      "DFE Rewards Mean: 0.9607451466713611\n",
      "DFE Rewards standard dev 0.04075745517709218\n",
      "Returns Mean: 4.618431\n",
      "Returns standard dev 3.3313808\n",
      "Advantages Mean: -0.3486392\n",
      "Advantages standard dev 3.331381\n",
      "Fidelity History: []\n",
      "2023-12-22 16:25:50 INFO ---------------- FINISHED HPO ----------------\n",
      "2023-12-22 16:25:50 INFO HPO completed in 6.4 seconds.\n",
      "2023-12-22 16:25:50 INFO Best trial:\n",
      "2023-12-22 16:25:50 INFO -------------------------\n",
      "2023-12-22 16:25:50 INFO   Value: 0.9652930424744061\n",
      "2023-12-22 16:25:50 INFO   Parameters: \n",
      "2023-12-22 16:25:50 INFO     N_UPDATES: 98\n",
      "2023-12-22 16:25:50 INFO     N_EPOCHS: 8\n",
      "2023-12-22 16:25:50 INFO     MINIBATCH_SIZE: 16\n",
      "2023-12-22 16:25:50 INFO     BATCHSIZE_MULTIPLIER: 7\n",
      "2023-12-22 16:25:50 INFO     LR: 0.0004971391510729455\n",
      "2023-12-22 16:25:50 INFO     GAMMA: 0.960308356969359\n",
      "2023-12-22 16:25:50 INFO     GAE_LAMBDA: 0.9655529081499541\n",
      "2023-12-22 16:25:50 INFO     ENT_COEF: 5.899776130038774e-05\n",
      "2023-12-22 16:25:50 INFO     V_COEF: 0.46380666504150386\n",
      "2023-12-22 16:25:50 INFO     GRADIENT_CLIP: 0.5719427526186973\n",
      "2023-12-22 16:25:50 INFO     CLIP_VALUE_COEF: 0.20564201148973127\n",
      "2023-12-22 16:25:50 INFO     CLIP_RATIO: 0.2907789044909578\n",
      "2023-12-22 16:25:50 INFO The best action vector is [-0.07767647  0.7288046  -0.4672311   0.05002567 -0.03114207 -0.0007906\n",
      " -0.01328273]\n",
      "Best configuration saved to hpo_results/reward_0.965293.pickle\n"
     ]
    }
   ],
   "source": [
    "optimizer = HyperparameterOptimizer(gate_q_env_config, path_agent_config, save_results_path, log_progress=True, num_hpo_trials=1)\n",
    "optimizer.optimize_hyperparameters()"
   ]
  },
  {
   "cell_type": "code",
   "execution_count": 5,
   "metadata": {},
   "outputs": [
    {
     "data": {
      "text/plain": [
       "['N_UPDATES',\n",
       " 'N_EPOCHS',\n",
       " 'MINIBATCH_SIZE',\n",
       " 'BATCHSIZE_MULTIPLIER',\n",
       " 'LR',\n",
       " 'GAMMA',\n",
       " 'GAE_LAMBDA',\n",
       " 'ENT_COEF',\n",
       " 'V_COEF',\n",
       " 'GRADIENT_CLIP',\n",
       " 'CLIP_VALUE_COEF',\n",
       " 'CLIP_RATIO',\n",
       " 'BATCHSIZE']"
      ]
     },
     "execution_count": 5,
     "metadata": {},
     "output_type": "execute_result"
    }
   ],
   "source": [
    "optimizer.hyperparams"
   ]
  },
  {
   "cell_type": "code",
   "execution_count": 6,
   "metadata": {},
   "outputs": [
    {
     "data": {
      "text/plain": [
       "1"
      ]
     },
     "execution_count": 6,
     "metadata": {},
     "output_type": "execute_result"
    }
   ],
   "source": [
    "optimizer.num_hpo_trials"
   ]
  },
  {
   "cell_type": "code",
   "execution_count": 7,
   "metadata": {},
   "outputs": [
    {
     "data": {
      "text/plain": [
       "{'best_avg_return': 0.9652930424744061,\n",
       " 'best_hyperparams': {'N_UPDATES': 98,\n",
       "  'N_EPOCHS': 8,\n",
       "  'MINIBATCH_SIZE': 16,\n",
       "  'BATCHSIZE_MULTIPLIER': 7,\n",
       "  'LR': 0.0004971391510729455,\n",
       "  'GAMMA': 0.960308356969359,\n",
       "  'GAE_LAMBDA': 0.9655529081499541,\n",
       "  'ENT_COEF': 5.899776130038774e-05,\n",
       "  'V_COEF': 0.46380666504150386,\n",
       "  'GRADIENT_CLIP': 0.5719427526186973,\n",
       "  'CLIP_VALUE_COEF': 0.20564201148973127,\n",
       "  'CLIP_RATIO': 0.2907789044909578}}"
      ]
     },
     "execution_count": 7,
     "metadata": {},
     "output_type": "execute_result"
    }
   ],
   "source": [
    "optimizer.best_hpo_configuration"
   ]
  }
 ],
 "metadata": {
  "kernelspec": {
   "display_name": "Python 3",
   "language": "python",
   "name": "python3"
  },
  "language_info": {
   "codemirror_mode": {
    "name": "ipython",
    "version": 3
   },
   "file_extension": ".py",
   "mimetype": "text/x-python",
   "name": "python",
   "nbconvert_exporter": "python",
   "pygments_lexer": "ipython3",
   "version": "3.9.6"
  },
  "orig_nbformat": 4
 },
 "nbformat": 4,
 "nbformat_minor": 2
}

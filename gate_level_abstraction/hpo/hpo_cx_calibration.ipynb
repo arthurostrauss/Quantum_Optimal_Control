{
 "cells": [
  {
   "attachments": {},
   "cell_type": "markdown",
   "metadata": {},
   "source": [
    "### CX Calibration with HPO under the new code architecture / workflow (DEC 2023)"
   ]
  },
  {
   "cell_type": "code",
   "execution_count": 1,
   "metadata": {},
   "outputs": [
    {
     "name": "stdout",
     "output_type": "stream",
     "text": [
      "Starting Rabi experiment for qubit 0...\n",
      "Rabi experiment for qubit 0 done.\n",
      "Starting Drag experiment for qubit 0...\n",
      "Drag experiments done for qubit 0 done.\n",
      "Starting Rabi experiment for qubit 1...\n",
      "Rabi experiment for qubit 1 done.\n",
      "Starting Drag experiment for qubit 1...\n",
      "Drag experiments done for qubit 1 done.\n",
      "All single qubit calibrations are done\n",
      "Updated Instruction Schedule Map <InstructionScheduleMap(1Q instructions:\n",
      "  q0: {'delay', 'z', 'h', 'x', 'id', 'sx', 'sdg', 'tdg', 'measure', 't', 'reset', 's', 'rz'}\n",
      "  q1: {'delay', 'z', 'h', 'x', 'id', 'sx', 'sdg', 'tdg', 'measure', 't', 'reset', 's', 'rz'}\n",
      "Multi qubit instructions:\n",
      "  (0, 1): {'cr45p', 'cr45m', 'ecr'}\n",
      "  (1, 0): {'cr45p', 'cr45m', 'ecr'}\n",
      ")>\n",
      "Starting Rabi experiment for qubit 0...\n",
      "Rabi experiment for qubit 0 done.\n",
      "Starting Drag experiment for qubit 0...\n",
      "Drag experiments done for qubit 0 done.\n",
      "Starting Rabi experiment for qubit 1...\n",
      "Rabi experiment for qubit 1 done.\n",
      "Starting Drag experiment for qubit 1...\n",
      "Drag experiments done for qubit 1 done.\n",
      "All single qubit calibrations are done\n",
      "Updated Instruction Schedule Map <InstructionScheduleMap(1Q instructions:\n",
      "  q0: {'delay', 'z', 'h', 'x', 'id', 'sx', 'sdg', 'tdg', 'measure', 't', 'reset', 's', 'rz'}\n",
      "  q1: {'delay', 'z', 'h', 'x', 'id', 'sx', 'sdg', 'tdg', 'measure', 't', 'reset', 's', 'rz'}\n",
      "Multi qubit instructions:\n",
      "  (0, 1): {'cr45p', 'cr45m', 'ecr'}\n",
      "  (1, 0): {'cr45p', 'cr45m', 'ecr'}\n",
      ")>\n"
     ]
    }
   ],
   "source": [
    "import sys\n",
    "import os\n",
    "os.environ[\"KMP_DUPLICATE_LIB_OK\"] = \"True\"\n",
    "import yaml\n",
    "module_path = os.path.abspath(os.path.join('/Users/lukasvoss/Documents/Master Wirtschaftsphysik/Masterarbeit Yale-NUS CQT/Quantum_Optimal_Control'))\n",
    "if module_path not in sys.path:\n",
    "    sys.path.append(module_path)\n",
    "\n",
    "from quantumenvironment import QuantumEnvironment\n",
    "from agent import Agent\n",
    "from gate_level_abstraction import gate_q_env_config\n",
    "from helper_functions import load_agent_from_yaml_file\n",
    "from ppo import make_train_ppo"
   ]
  },
  {
   "cell_type": "code",
   "execution_count": 2,
   "metadata": {},
   "outputs": [
    {
     "data": {
      "text/plain": [
       "Box(-1.0, 1.0, (7,), float32)"
      ]
     },
     "execution_count": 2,
     "metadata": {},
     "output_type": "execute_result"
    }
   ],
   "source": [
    "gate_q_env_config.action_space"
   ]
  },
  {
   "cell_type": "code",
   "execution_count": 3,
   "metadata": {},
   "outputs": [],
   "source": [
    "# from gymnasium.wrappers.rescale_action import RescaleAction\n",
    "\n",
    "# min_action = 0\n",
    "# max_action = 1\n",
    "# wrapped_env = RescaleAction(q_env, min_action=min_action, max_action=max_action)"
   ]
  },
  {
   "attachments": {},
   "cell_type": "markdown",
   "metadata": {},
   "source": [
    "### Import HPO Params from YAML file"
   ]
  },
  {
   "cell_type": "code",
   "execution_count": 4,
   "metadata": {},
   "outputs": [],
   "source": [
    "ppo_params, network_config, hpo_config = load_agent_from_yaml_file('agent_config.yaml')"
   ]
  },
  {
   "cell_type": "code",
   "execution_count": 5,
   "metadata": {},
   "outputs": [
    {
     "data": {
      "text/plain": [
       "{'run_name': 'test',\n",
       " 'n_updates': 1,\n",
       " 'n_epochs': 12,\n",
       " 'batch_size': 24,\n",
       " 'learning_rate': 0.01,\n",
       " 'gamma': 0.99,\n",
       " 'gae_lambda': 0.95,\n",
       " 'ent_coef': 0.01,\n",
       " 'vf_coef': 0.5,\n",
       " 'max_grad_norm': 5.0,\n",
       " 'clip_range_vf': True,\n",
       " 'clip_range': 0.2}"
      ]
     },
     "execution_count": 5,
     "metadata": {},
     "output_type": "execute_result"
    }
   ],
   "source": [
    "ppo_params"
   ]
  },
  {
   "cell_type": "code",
   "execution_count": 6,
   "metadata": {},
   "outputs": [
    {
     "data": {
      "text/plain": [
       "{'optimizer': 'adam',\n",
       " 'n_units': [64, 64],\n",
       " 'activation': 'tanh',\n",
       " 'include_critic': True,\n",
       " 'normalize_advantage': True,\n",
       " 'checkpoint_dir': 'checkpoints'}"
      ]
     },
     "execution_count": 6,
     "metadata": {},
     "output_type": "execute_result"
    }
   ],
   "source": [
    "network_config"
   ]
  },
  {
   "cell_type": "code",
   "execution_count": 7,
   "metadata": {},
   "outputs": [
    {
     "data": {
      "text/plain": [
       "{'num_trials': 3,\n",
       " 'n_updates': [200, 1000],\n",
       " 'n_epochs': [8, 25],\n",
       " 'minibatch_size': [10, 16, 24, 32, 48, 64, 96, 128],\n",
       " 'batchsize_multiplier': [2, 12],\n",
       " 'learning_rate': [0.0001, 0.02],\n",
       " 'gamma': [0.95, 0.999],\n",
       " 'gae_lambda': [0.9, 0.999],\n",
       " 'ent_coef': [5e-05, 0.001],\n",
       " 'v_coef': [0.25, 0.75],\n",
       " 'max_grad_norm': [0.005, 0.9],\n",
       " 'clip_value_loss': True,\n",
       " 'clip_value_coef': [0.1, 0.3],\n",
       " 'clip_ratio': [0.1, 0.3]}"
      ]
     },
     "execution_count": 7,
     "metadata": {},
     "output_type": "execute_result"
    }
   ],
   "source": [
    "hpo_config"
   ]
  },
  {
   "cell_type": "code",
   "execution_count": 8,
   "metadata": {},
   "outputs": [
    {
     "name": "stdout",
     "output_type": "stream",
     "text": [
      "SparsePauliOp(['II', 'IZ', 'XI', 'XZ'],\n",
      "              coeffs=[ 0.25+0.j, -0.25+0.j,  0.25+0.j, -0.25+0.j])\n"
     ]
    },
    {
     "data": {
      "image/png": "[encoded data removed]",
      "text/plain": [
       "<Figure size 472.747x200.667 with 1 Axes>"
      ]
     },
     "execution_count": 8,
     "metadata": {},
     "output_type": "execute_result"
    }
   ],
   "source": [
    "q_env = QuantumEnvironment(gate_q_env_config)\n",
    "q_env\n",
    "q_env.parameters.params\n",
    "q_env.circuit_truncations[0].draw('mpl')"
   ]
  },
  {
   "cell_type": "code",
   "execution_count": 9,
   "metadata": {},
   "outputs": [],
   "source": [
    "def objective(trial):\n",
    "    # Fetch hyperparameters from the trial object\n",
    "\n",
    "    agent_config = {\n",
    "        'N_UPDATES': trial.suggest_int('N_UPDATES', hpo_config['n_updates'][0], hpo_config['n_updates'][1]),\n",
    "        'N_EPOCHS': trial.suggest_int('N_EPOCHS', hpo_config['n_epochs'][0], hpo_config['n_epochs'][1]),\n",
    "        'MINIBATCH_SIZE': trial.suggest_categorical('MINIBATCH_SIZE', hpo_config['minibatch_size']),\n",
    "        'BATCHSIZE_MULTIPLIER': trial.suggest_int('BATCHSIZE_MULTIPLIER', hpo_config['batchsize_multiplier'][0], hpo_config['batchsize_multiplier'][1]),\n",
    "        'LR': trial.suggest_float('LR', hpo_config['learning_rate'][0], hpo_config['learning_rate'][1], log=True),\n",
    "        'GAMMA': trial.suggest_float('GAMMA', hpo_config['gamma'][0], hpo_config['gamma'][1]),\n",
    "        'GAE_LAMBDA': trial.suggest_float('GAE_LAMBDA', hpo_config['gae_lambda'][0], hpo_config['gae_lambda'][1]),\n",
    "        'ENT_COEF': trial.suggest_float('ENT_COEF', hpo_config['ent_coef'][0], hpo_config['ent_coef'][1]),\n",
    "        'V_COEF': trial.suggest_float('V_COEF', hpo_config['v_coef'][0], hpo_config['v_coef'][1]),\n",
    "        'GRADIENT_CLIP': trial.suggest_float('GRADIENT_CLIP', hpo_config['max_grad_norm'][0], hpo_config['max_grad_norm'][1]),\n",
    "        'CLIP_VALUE_COEF': trial.suggest_float('CLIP_VALUE_COEF', hpo_config['clip_value_coef'][0], hpo_config['clip_value_coef'][1]),\n",
    "        'CLIP_RATIO': trial.suggest_float('CLIP_RATIO', hpo_config['clip_ratio'][0], hpo_config['clip_ratio'][1]),\n",
    "    }\n",
    "\n",
    "    # Allowing for a range of possible batchsize / minibatch_size combinations by ensuring that batchsize is a multiple of minibatch_size\n",
    "    agent_config['BATCHSIZE'] = agent_config['MINIBATCH_SIZE'] * agent_config['BATCHSIZE_MULTIPLIER']\n",
    "    \n",
    "    agent_config['CLIP_VALUE_LOSS'] = hpo_config['clip_value_loss']\n",
    "\n",
    "    # Add network-specific hyperparameters that are not part of HPO scope\n",
    "    agent_config['OPTIMIZER'] = network_config['optimizer']\n",
    "    agent_config['N_UNITS'] = network_config['n_units']\n",
    "    agent_config['ACTIVATION'] = network_config['activation']\n",
    "    agent_config['INCLUDE_CRITIC'] = network_config['include_critic']\n",
    "    agent_config['NORMALIZE_ADVANTAGE'] = network_config['normalize_advantage']\n",
    "\n",
    "    agent_config['RUN_NAME'] = ppo_params['run_name']\n",
    "\n",
    "\n",
    "    q_env = QuantumEnvironment(gate_q_env_config)  # Initialize your environment\n",
    "    q_env.batch_size = agent_config['BATCHSIZE'] # Overwrite the batch_size of the environment with the one from the agent_config\n",
    "\n",
    "    train_fn = make_train_ppo(agent_config, q_env)\n",
    "    training_results = train_fn(total_updates=agent_config['N_UPDATES'], print_debug=True, num_prints=50)\n",
    "\n",
    "    # Save the action vector associated with this trial's fidelity for future retrieval\n",
    "    trial.set_user_attr('action_vector', training_results['action_vector'])\n",
    "\n",
    "    # Use a relevant metric from training_results as the return value\n",
    "    last_ten_percent = int(0.1 * agent_config['N_UPDATES'])\n",
    "    \n",
    "    return training_results['avg_return'][-last_ten_percent]  # Return a metric to minimize or maximize"
   ]
  },
  {
   "cell_type": "code",
   "execution_count": 11,
   "metadata": {},
   "outputs": [
    {
     "name": "stderr",
     "output_type": "stream",
     "text": [
      "\r 99%|█████████▊| 900/912 [04:17<00:03,  3.35it/s]"
     ]
    },
    {
     "name": "stdout",
     "output_type": "stream",
     "text": [
      "Fidelity History: []\n",
      "SparsePauliOp(['II', 'IZ', 'YI', 'YZ'],\n",
      "              coeffs=[ 0.25+0.j, -0.25+0.j, -0.25+0.j,  0.25+0.j])\n"
     ]
    },
    {
     "name": "stderr",
     "output_type": "stream",
     "text": [
      " 99%|█████████▉| 901/912 [04:18<00:03,  3.36it/s]"
     ]
    },
    {
     "name": "stdout",
     "output_type": "stream",
     "text": [
      "mean tensor([-0.0022,  0.0460, -0.0476, -0.0017,  0.0012, -0.0017, -0.0047])\n",
      "Average return: 0.9995445224275161\n",
      "DFE Rewards Mean: 0.9995445224275161\n",
      "DFE Rewards standard dev 0.0028176837049266787\n",
      "Returns Mean: 9.744822\n",
      "Returns standard dev 3.6910243\n",
      "Advantages Mean: 0.5376935\n",
      "Advantages standard dev 3.6910245\n",
      "Fidelity History: []\n",
      "SparsePauliOp(['II', 'IY', 'XI', 'XY'],\n",
      "              coeffs=[0.25+0.j, 0.25+0.j, 0.25+0.j, 0.25+0.j])\n"
     ]
    },
    {
     "name": "stderr",
     "output_type": "stream",
     "text": [
      " 99%|█████████▉| 902/912 [04:18<00:02,  3.40it/s]"
     ]
    },
    {
     "name": "stdout",
     "output_type": "stream",
     "text": [
      "mean tensor([ 0.0007,  0.0578, -0.0503,  0.0128,  0.0210, -0.0033, -0.0024])\n",
      "Average return: 0.9976653621972209\n",
      "DFE Rewards Mean: 0.9976653621972209\n",
      "DFE Rewards standard dev 0.005766842944271656\n",
      "Returns Mean: 8.424471\n",
      "Returns standard dev 3.9890907\n",
      "Advantages Mean: -0.5099399\n",
      "Advantages standard dev 3.9890907\n",
      "Fidelity History: []\n",
      "SparsePauliOp(['II', 'XY', 'YX', 'ZZ'],\n",
      "              coeffs=[0.25+0.j, 0.25+0.j, 0.25+0.j, 0.25+0.j])\n"
     ]
    },
    {
     "name": "stderr",
     "output_type": "stream",
     "text": [
      " 99%|█████████▉| 903/912 [04:18<00:02,  3.45it/s]"
     ]
    },
    {
     "name": "stdout",
     "output_type": "stream",
     "text": [
      "mean tensor([ 4.7941e-05,  5.5653e-02, -5.0078e-02,  1.0215e-02,  1.5083e-02,\n",
      "        -1.9786e-03, -5.2953e-03])\n",
      "Average return: 0.9982839707476114\n",
      "DFE Rewards Mean: 0.9982839707476114\n",
      "DFE Rewards standard dev 0.005355618982158141\n",
      "Returns Mean: 8.745056\n",
      "Returns standard dev 3.9956524\n",
      "Advantages Mean: -0.22813165\n",
      "Advantages standard dev 3.9956527\n",
      "Fidelity History: []\n",
      "SparsePauliOp(['II', 'IY', 'XI', 'XY'],\n",
      "              coeffs=[0.25+0.j, 0.25+0.j, 0.25+0.j, 0.25+0.j])\n"
     ]
    },
    {
     "name": "stderr",
     "output_type": "stream",
     "text": [
      " 99%|█████████▉| 904/912 [04:18<00:02,  3.47it/s]"
     ]
    },
    {
     "name": "stdout",
     "output_type": "stream",
     "text": [
      "mean tensor([ 0.0015,  0.0583, -0.0507,  0.0147,  0.0215, -0.0019, -0.0046])\n",
      "Average return: 0.9981867604154281\n",
      "DFE Rewards Mean: 0.9981867604154281\n",
      "DFE Rewards standard dev 0.005861345916191353\n",
      "Returns Mean: 8.63939\n",
      "Returns standard dev 4.006749\n",
      "Advantages Mean: -0.1806015\n",
      "Advantages standard dev 4.0067496\n",
      "Fidelity History: []\n",
      "SparsePauliOp(['II', 'IZ', 'ZI', 'ZZ'],\n",
      "              coeffs=[ 0.25+0.j,  0.25+0.j, -0.25+0.j, -0.25+0.j])\n"
     ]
    },
    {
     "name": "stderr",
     "output_type": "stream",
     "text": [
      " 99%|█████████▉| 905/912 [04:19<00:02,  3.48it/s]"
     ]
    },
    {
     "name": "stdout",
     "output_type": "stream",
     "text": [
      "mean tensor([-0.0012,  0.0377, -0.0484, -0.0140, -0.0185, -0.0016, -0.0087])\n",
      "Average return: 0.997667546874855\n",
      "DFE Rewards Mean: 0.997667546874855\n",
      "DFE Rewards standard dev 0.00629488271598039\n",
      "Returns Mean: 8.457119\n",
      "Returns standard dev 4.093584\n",
      "Advantages Mean: -0.96375453\n",
      "Advantages standard dev 4.093584\n",
      "Fidelity History: []\n",
      "SparsePauliOp(['II', 'XY', 'YX', 'ZZ'],\n",
      "              coeffs=[ 0.25+0.j,  0.25+0.j, -0.25+0.j, -0.25+0.j])\n"
     ]
    },
    {
     "name": "stderr",
     "output_type": "stream",
     "text": [
      " 99%|█████████▉| 906/912 [04:19<00:01,  3.50it/s]"
     ]
    },
    {
     "name": "stdout",
     "output_type": "stream",
     "text": [
      "mean tensor([-0.0009,  0.0549, -0.0495,  0.0104,  0.0174, -0.0039, -0.0043])\n",
      "Average return: 0.9977913923802786\n",
      "DFE Rewards Mean: 0.9977913923802786\n",
      "DFE Rewards standard dev 0.005655179098085721\n",
      "Returns Mean: 8.634026\n",
      "Returns standard dev 4.041388\n",
      "Advantages Mean: -0.036062866\n",
      "Advantages standard dev 4.0413876\n",
      "Fidelity History: []\n",
      "SparsePauliOp(['II', 'XY', 'YX', 'ZZ'],\n",
      "              coeffs=[0.25+0.j, 0.25+0.j, 0.25+0.j, 0.25+0.j])\n"
     ]
    },
    {
     "name": "stderr",
     "output_type": "stream",
     "text": [
      " 99%|█████████▉| 907/912 [04:19<00:01,  3.52it/s]"
     ]
    },
    {
     "name": "stdout",
     "output_type": "stream",
     "text": [
      "mean tensor([-0.0011,  0.0521, -0.0500,  0.0089,  0.0140, -0.0036, -0.0040])\n",
      "Average return: 0.999049964027493\n",
      "DFE Rewards Mean: 0.999049964027493\n",
      "DFE Rewards standard dev 0.004710204739894991\n",
      "Returns Mean: 9.201946\n",
      "Returns standard dev 3.9629574\n",
      "Advantages Mean: 0.5226537\n",
      "Advantages standard dev 3.9629576\n",
      "Fidelity History: []\n",
      "SparsePauliOp(['II', 'XY', 'YX', 'ZZ'],\n",
      "              coeffs=[ 0.25+0.j,  0.25+0.j, -0.25+0.j, -0.25+0.j])\n"
     ]
    },
    {
     "name": "stderr",
     "output_type": "stream",
     "text": [
      "100%|█████████▉| 908/912 [04:20<00:01,  3.52it/s]"
     ]
    },
    {
     "name": "stdout",
     "output_type": "stream",
     "text": [
      "mean tensor([-4.7971e-05,  5.2625e-02, -5.1851e-02,  1.0630e-02,  1.6369e-02,\n",
      "        -4.0266e-03, -4.0304e-03])\n",
      "Average return: 0.9980568757263895\n",
      "DFE Rewards Mean: 0.9980568757263895\n",
      "DFE Rewards standard dev 0.005034210603770489\n",
      "Returns Mean: 8.726699\n",
      "Returns standard dev 3.9966807\n",
      "Advantages Mean: -0.010588691\n",
      "Advantages standard dev 3.9966807\n",
      "Fidelity History: []\n",
      "SparsePauliOp(['II', 'XX', 'YY', 'ZZ'],\n",
      "              coeffs=[ 0.25+0.j,  0.25+0.j,  0.25+0.j, -0.25+0.j])\n"
     ]
    },
    {
     "name": "stderr",
     "output_type": "stream",
     "text": [
      "100%|█████████▉| 909/912 [04:20<00:00,  3.56it/s]"
     ]
    },
    {
     "name": "stdout",
     "output_type": "stream",
     "text": [
      "mean tensor([-0.0020,  0.0462, -0.0495,  0.0002,  0.0055, -0.0038, -0.0043])\n",
      "Average return: 0.9992192771938784\n",
      "DFE Rewards Mean: 0.9992192771938784\n",
      "DFE Rewards standard dev 0.002746191004291202\n",
      "Returns Mean: 9.40489\n",
      "Returns standard dev 3.715283\n",
      "Advantages Mean: 0.47125363\n",
      "Advantages standard dev 3.7152832\n",
      "Fidelity History: []\n",
      "SparsePauliOp(['II', 'IZ', 'XI', 'XZ'],\n",
      "              coeffs=[0.25+0.j, 0.25+0.j, 0.25+0.j, 0.25+0.j])\n"
     ]
    },
    {
     "name": "stderr",
     "output_type": "stream",
     "text": [
      "100%|█████████▉| 910/912 [04:20<00:00,  3.58it/s]"
     ]
    },
    {
     "name": "stdout",
     "output_type": "stream",
     "text": [
      "mean tensor([-0.0025,  0.0330, -0.0491, -0.0145, -0.0129, -0.0027, -0.0064])\n",
      "Average return: 0.9993436522774454\n",
      "DFE Rewards Mean: 0.9993436522774454\n",
      "DFE Rewards standard dev 0.0033830025964986066\n",
      "Returns Mean: 9.490257\n",
      "Returns standard dev 3.8231738\n",
      "Advantages Mean: 0.0989994\n",
      "Advantages standard dev 3.8231735\n",
      "Fidelity History: []\n",
      "SparsePauliOp(['II', 'XY', 'YX', 'ZZ'],\n",
      "              coeffs=[0.25+0.j, 0.25+0.j, 0.25+0.j, 0.25+0.j])\n"
     ]
    },
    {
     "name": "stderr",
     "output_type": "stream",
     "text": [
      "100%|█████████▉| 911/912 [04:21<00:00,  3.06it/s]"
     ]
    },
    {
     "name": "stdout",
     "output_type": "stream",
     "text": [
      "mean tensor([-0.0011,  0.0487, -0.0500,  0.0053,  0.0115, -0.0026, -0.0042])\n",
      "Average return: 0.9989056529294591\n",
      "DFE Rewards Mean: 0.9989056529294591\n",
      "DFE Rewards standard dev 0.004081526458568236\n",
      "Returns Mean: 9.06805\n",
      "Returns standard dev 3.8646169\n",
      "Advantages Mean: 0.1771698\n",
      "Advantages standard dev 3.8646169\n",
      "Fidelity History: []\n",
      "SparsePauliOp(['II', 'IY', 'XI', 'XY'],\n",
      "              coeffs=[0.25+0.j, 0.25+0.j, 0.25+0.j, 0.25+0.j])\n"
     ]
    },
    {
     "name": "stderr",
     "output_type": "stream",
     "text": [
      "100%|██████████| 912/912 [04:21<00:00,  3.49it/s]\n",
      "[I 2023-12-22 00:03:23,858] Trial 1 finished with value: 0.9986693971453353 and parameters: {'N_UPDATES': 912, 'N_EPOCHS': 18, 'MINIBATCH_SIZE': 128, 'BATCHSIZE_MULTIPLIER': 8, 'LR': 0.0003903079011240999, 'GAMMA': 0.9887099489877079, 'GAE_LAMBDA': 0.9590045076970539, 'ENT_COEF': 0.0005471174523443949, 'V_COEF': 0.5758135245575489, 'GRADIENT_CLIP': 0.899347922490556, 'CLIP_VALUE_COEF': 0.10152409730598705, 'CLIP_RATIO': 0.19937721898591096}. Best is trial 0 with value: 0.9988259775263758.\n"
     ]
    },
    {
     "name": "stdout",
     "output_type": "stream",
     "text": [
      "mean tensor([ 0.0016,  0.0518, -0.0481,  0.0117,  0.0147, -0.0034, -0.0028])\n",
      "Average return: 0.9986693971453353\n",
      "DFE Rewards Mean: 0.9986693971453353\n",
      "DFE Rewards standard dev 0.00483800263187286\n",
      "Returns Mean: 9.025321\n",
      "Returns standard dev 3.962676\n",
      "Advantages Mean: 0.18834224\n",
      "Advantages standard dev 3.962676\n",
      "Fidelity History: []\n",
      "Best trial:\n",
      "  Value:  0.9988259775263758\n",
      "  Parameters: \n",
      "    N_UPDATES: 909\n",
      "    N_EPOCHS: 17\n",
      "    MINIBATCH_SIZE: 128\n",
      "    BATCHSIZE_MULTIPLIER: 3\n",
      "    LR: 0.0029252033669695905\n",
      "    GAMMA: 0.9962966314094535\n",
      "    GAE_LAMBDA: 0.967373466908538\n",
      "    ENT_COEF: 0.0001981227424736241\n",
      "    V_COEF: 0.3253160267290231\n",
      "    GRADIENT_CLIP: 0.03947432757136103\n",
      "    CLIP_VALUE_COEF: 0.1587478837588509\n",
      "    CLIP_RATIO: 0.25295220269273205\n",
      "The best action vector is: [ 0.00612166 -0.4763572   0.5183992  -0.0056716  -0.01340097  0.01501047\n",
      "  0.01068227]\n"
     ]
    }
   ],
   "source": [
    "import optuna\n",
    "\n",
    "num_HPO_trials = hpo_config['num_trials']\n",
    "print('num_HPO_trials: ', num_HPO_trials)\n",
    "\n",
    "def optimize_hyperparameters():\n",
    "    study = optuna.create_study(direction=\"maximize\")  # or 'minimize' depending on your metric\n",
    "    study.optimize(objective, n_trials=num_HPO_trials)  # Number of hyperparameter configurations to try\n",
    "\n",
    "    print(\"Best trial:\")\n",
    "    best_trial = study.best_trial\n",
    "\n",
    "    print(\"  Value: \", best_trial.value)\n",
    "    print(\"  Parameters: \")\n",
    "    for key, value in best_trial.params.items():\n",
    "        print(f\"    {key}: {value}\")\n",
    "\n",
    "    best_action_vector = best_trial.user_attrs['action_vector']\n",
    "    print(f'The best action vector is: {best_action_vector}')\n",
    "\n",
    "optimize_hyperparameters()"
   ]
  }
 ],
 "metadata": {
  "kernelspec": {
   "display_name": "Python 3",
   "language": "python",
   "name": "python3"
  },
  "language_info": {
   "codemirror_mode": {
    "name": "ipython",
    "version": 3
   },
   "file_extension": ".py",
   "mimetype": "text/x-python",
   "name": "python",
   "nbconvert_exporter": "python",
   "pygments_lexer": "ipython3",
   "version": "3.9.6"
  },
  "orig_nbformat": 4
 },
 "nbformat": 4,
 "nbformat_minor": 2
}

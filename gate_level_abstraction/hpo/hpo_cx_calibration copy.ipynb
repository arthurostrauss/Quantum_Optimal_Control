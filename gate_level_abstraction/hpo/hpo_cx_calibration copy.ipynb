{
 "cells": [
  {
   "attachments": {},
   "cell_type": "markdown",
   "metadata": {},
   "source": [
    "### CX Calibration with HPO under the new code architecture / workflow (DEC 2023)"
   ]
  },
  {
   "cell_type": "code",
   "execution_count": 1,
   "metadata": {},
   "outputs": [
    {
     "name": "stderr",
     "output_type": "stream",
     "text": [
      "/Users/lukasvoss/Library/Python/3.9/lib/python/site-packages/qiskit_dynamics/dispatch/backends/jax.py:34: UserWarning: The functionality in the perturbation module of Qiskit Dynamics requires a JAX version <= 0.4.6, due to a bug in JAX versions > 0.4.6. For versions 0.4.4, 0.4.5, and 0.4.6, using the perturbation module functionality requires setting os.environ['JAX_JIT_PJIT_API_MERGE'] = '0' before importing JAX or Dynamics.\n",
      "  warnings.warn(\n"
     ]
    },
    {
     "name": "stdout",
     "output_type": "stream",
     "text": [
      "Starting Rabi experiment for qubit 0...\n",
      "Rabi experiment for qubit 0 done.\n",
      "Starting Drag experiment for qubit 0...\n",
      "Drag experiments done for qubit 0 done.\n",
      "Starting Rabi experiment for qubit 1...\n",
      "Rabi experiment for qubit 1 done.\n",
      "Starting Drag experiment for qubit 1...\n",
      "Drag experiments done for qubit 1 done.\n",
      "All single qubit calibrations are done\n",
      "Updated Instruction Schedule Map <InstructionScheduleMap(1Q instructions:\n",
      "  q0: {'tdg', 'reset', 'id', 'h', 'measure', 's', 't', 'rz', 'z', 'x', 'sdg', 'sx', 'delay'}\n",
      "  q1: {'tdg', 'reset', 'id', 'h', 'measure', 's', 't', 'rz', 'z', 'x', 'sdg', 'sx', 'delay'}\n",
      "Multi qubit instructions:\n",
      "  (0, 1): {'ecr', 'cr45p', 'cr45m'}\n",
      "  (1, 0): {'ecr', 'cr45p', 'cr45m'}\n",
      ")>\n",
      "Starting Rabi experiment for qubit 0...\n",
      "Rabi experiment for qubit 0 done.\n",
      "Starting Drag experiment for qubit 0...\n",
      "Drag experiments done for qubit 0 done.\n",
      "Starting Rabi experiment for qubit 1...\n",
      "Rabi experiment for qubit 1 done.\n",
      "Starting Drag experiment for qubit 1...\n",
      "Drag experiments done for qubit 1 done.\n",
      "All single qubit calibrations are done\n",
      "Updated Instruction Schedule Map <InstructionScheduleMap(1Q instructions:\n",
      "  q0: {'tdg', 'reset', 'id', 'h', 'measure', 's', 't', 'rz', 'z', 'x', 'sdg', 'sx', 'delay'}\n",
      "  q1: {'tdg', 'reset', 'id', 'h', 'measure', 's', 't', 'rz', 'z', 'x', 'sdg', 'sx', 'delay'}\n",
      "Multi qubit instructions:\n",
      "  (0, 1): {'ecr', 'cr45p', 'cr45m'}\n",
      "  (1, 0): {'ecr', 'cr45p', 'cr45m'}\n",
      ")>\n"
     ]
    }
   ],
   "source": [
    "import sys\n",
    "import os\n",
    "os.environ[\"KMP_DUPLICATE_LIB_OK\"] = \"True\"\n",
    "import time\n",
    "import yaml\n",
    "import pickle\n",
    "import optuna\n",
    "module_path = os.path.abspath(os.path.join('/Users/lukasvoss/Documents/Master Wirtschaftsphysik/Masterarbeit Yale-NUS CQT/Quantum_Optimal_Control'))\n",
    "if module_path not in sys.path:\n",
    "    sys.path.append(module_path)\n",
    "\n",
    "from quantumenvironment import QuantumEnvironment\n",
    "from agent import Agent\n",
    "from gate_level_abstraction import gate_q_env_config\n",
    "from helper_functions import load_agent_from_yaml_file, create_agent_config\n",
    "from ppo import make_train_ppo\n",
    "from qconfig import QEnvConfig\n",
    "\n",
    "import logging\n",
    "logging.basicConfig(\n",
    "    level=logging.WARNING,\n",
    "    format=\"%(asctime)s INFO %(message)s\", # hardcoded INFO level\n",
    "    datefmt=\"%Y-%m-%d %H:%M:%S\",\n",
    "    stream=sys.stdout,\n",
    ")"
   ]
  },
  {
   "attachments": {},
   "cell_type": "markdown",
   "metadata": {},
   "source": [
    "### Perform HPO"
   ]
  },
  {
   "cell_type": "code",
   "execution_count": 2,
   "metadata": {},
   "outputs": [],
   "source": [
    "from hyperparameter_optimization import HyperparameterOptimizer"
   ]
  },
  {
   "cell_type": "code",
   "execution_count": 3,
   "metadata": {},
   "outputs": [],
   "source": [
    "path_agent_config = 'agent_config.yaml'\n",
    "save_results_path = 'hpo_results'"
   ]
  },
  {
   "cell_type": "code",
   "execution_count": 6,
   "metadata": {},
   "outputs": [
    {
     "name": "stdout",
     "output_type": "stream",
     "text": [
      "SparsePauliOp(['II', 'IY', 'XI', 'XY'],\n",
      "              coeffs=[0.25+0.j, 0.25+0.j, 0.25+0.j, 0.25+0.j])\n",
      "2023-12-22 16:17:11 INFO num_HPO_trials: 1\n",
      "2023-12-22 16:17:11 INFO ---------------- STARTING HPO ----------------\n"
     ]
    },
    {
     "name": "stderr",
     "output_type": "stream",
     "text": [
      "[I 2023-12-22 16:17:11,478] A new study created in memory with name: no-name-0eb651e7-1a4f-4c83-936c-ec82b3d6ea58\n"
     ]
    },
    {
     "name": "stdout",
     "output_type": "stream",
     "text": [
      "SparsePauliOp(['II', 'IZ', 'XI', 'XZ'],\n",
      "              coeffs=[0.25+0.j, 0.25+0.j, 0.25+0.j, 0.25+0.j])\n"
     ]
    },
    {
     "name": "stderr",
     "output_type": "stream",
     "text": [
      "  0%|          | 0/47 [00:00<?, ?it/s]"
     ]
    },
    {
     "name": "stdout",
     "output_type": "stream",
     "text": [
      "SparsePauliOp(['II', 'IZ', 'ZI', 'ZZ'],\n",
      "              coeffs=[0.25+0.j, 0.25+0.j, 0.25+0.j, 0.25+0.j])\n"
     ]
    },
    {
     "name": "stderr",
     "output_type": "stream",
     "text": [
      "  2%|▏         | 1/47 [00:00<00:07,  6.55it/s]"
     ]
    },
    {
     "name": "stdout",
     "output_type": "stream",
     "text": [
      "mean tensor([ 0.0596, -0.1140,  0.0195, -0.0767,  0.1239, -0.0562, -0.0160])\n",
      "Average return: 0.3183005641658437\n",
      "DFE Rewards Mean: 0.3183005641658437\n",
      "DFE Rewards standard dev 0.28502918711429776\n",
      "Returns Mean: 0.6248791\n",
      "Returns standard dev 1.3042903\n",
      "Advantages Mean: 0.73127294\n",
      "Advantages standard dev 1.3042903\n",
      "Fidelity History: []\n",
      "SparsePauliOp(['II', 'XY', 'YZ', 'ZX'],\n",
      "              coeffs=[ 0.25+0.j,  0.25+0.j,  0.25+0.j, -0.25+0.j])\n"
     ]
    },
    {
     "name": "stderr",
     "output_type": "stream",
     "text": [
      "  4%|▍         | 2/47 [00:00<00:06,  7.09it/s]"
     ]
    },
    {
     "name": "stdout",
     "output_type": "stream",
     "text": [
      "mean tensor([-0.0438, -0.1068, -0.1052, -0.0944,  0.1731,  0.0053,  0.0079])\n",
      "Average return: 0.25941635023654963\n",
      "DFE Rewards Mean: 0.25941635023654963\n",
      "DFE Rewards standard dev 0.2062260337342948\n",
      "Returns Mean: 0.36241472\n",
      "Returns standard dev 0.40003636\n",
      "Advantages Mean: 0.20796214\n",
      "Advantages standard dev 0.40003633\n",
      "Fidelity History: []\n",
      "SparsePauliOp(['II', 'IZ', 'ZI', 'ZZ'],\n",
      "              coeffs=[ 0.25+0.j, -0.25+0.j, -0.25+0.j,  0.25+0.j])\n"
     ]
    },
    {
     "name": "stderr",
     "output_type": "stream",
     "text": [
      "  6%|▋         | 3/47 [00:00<00:06,  7.33it/s]"
     ]
    },
    {
     "name": "stdout",
     "output_type": "stream",
     "text": [
      "mean tensor([ 0.0173, -0.0777, -0.0577, -0.0732,  0.1470, -0.0343,  0.0447])\n",
      "Average return: 0.40525153054057506\n",
      "DFE Rewards Mean: 0.40525153054057506\n",
      "DFE Rewards standard dev 0.27608236784271545\n",
      "Returns Mean: 0.7453237\n",
      "Returns standard dev 1.0781214\n",
      "Advantages Mean: 0.6164589\n",
      "Advantages standard dev 1.0781214\n",
      "Fidelity History: []\n",
      "SparsePauliOp(['II', 'IZ', 'ZI', 'ZZ'],\n",
      "              coeffs=[0.25+0.j, 0.25+0.j, 0.25+0.j, 0.25+0.j])\n"
     ]
    },
    {
     "name": "stderr",
     "output_type": "stream",
     "text": [
      "  9%|▊         | 4/47 [00:00<00:05,  7.18it/s]"
     ]
    },
    {
     "name": "stdout",
     "output_type": "stream",
     "text": [
      "mean tensor([ 0.0204, -0.0861, -0.0346, -0.0412,  0.1526, -0.0492,  0.0367])\n",
      "Average return: 0.45747462320792237\n",
      "DFE Rewards Mean: 0.45747462320792237\n",
      "DFE Rewards standard dev 0.2861741138563314\n",
      "Returns Mean: 0.9090042\n",
      "Returns standard dev 1.1809882\n",
      "Advantages Mean: 0.6948104\n",
      "Advantages standard dev 1.1809882\n",
      "Fidelity History: []\n",
      "SparsePauliOp(['II', 'IZ', 'ZI', 'ZZ'],\n",
      "              coeffs=[ 0.25+0.j, -0.25+0.j, -0.25+0.j,  0.25+0.j])\n"
     ]
    },
    {
     "name": "stderr",
     "output_type": "stream",
     "text": [
      " 11%|█         | 5/47 [00:00<00:05,  7.34it/s]"
     ]
    },
    {
     "name": "stdout",
     "output_type": "stream",
     "text": [
      "mean tensor([-0.0138, -0.0814, -0.0462, -0.0450,  0.1288, -0.0465,  0.0425])\n",
      "Average return: 0.4924708393426251\n",
      "DFE Rewards Mean: 0.4924708393426251\n",
      "DFE Rewards standard dev 0.27202346215485285\n",
      "Returns Mean: 0.92365986\n",
      "Returns standard dev 0.8927479\n",
      "Advantages Mean: 0.49649313\n",
      "Advantages standard dev 0.8927479\n",
      "Fidelity History: []\n",
      "SparsePauliOp(['II', 'XX', 'YZ', 'ZY'],\n",
      "              coeffs=[0.25+0.j, 0.25+0.j, 0.25+0.j, 0.25+0.j])\n"
     ]
    },
    {
     "name": "stderr",
     "output_type": "stream",
     "text": [
      " 13%|█▎        | 6/47 [00:00<00:05,  7.50it/s]"
     ]
    },
    {
     "name": "stdout",
     "output_type": "stream",
     "text": [
      "mean tensor([-0.0573, -0.0716, -0.1088, -0.0388,  0.1399,  0.0211,  0.0065])\n",
      "Average return: 0.2767978256593406\n",
      "DFE Rewards Mean: 0.2767978256593406\n",
      "DFE Rewards standard dev 0.21866297599260076\n",
      "Returns Mean: 0.39012897\n",
      "Returns standard dev 0.39495185\n",
      "Advantages Mean: -0.26302618\n",
      "Advantages standard dev 0.39495185\n",
      "Fidelity History: []\n",
      "SparsePauliOp(['II', 'XX', 'YY', 'ZZ'],\n",
      "              coeffs=[ 0.25+0.j,  0.25+0.j,  0.25+0.j, -0.25+0.j])\n"
     ]
    },
    {
     "name": "stderr",
     "output_type": "stream",
     "text": [
      " 15%|█▍        | 7/47 [00:00<00:05,  7.61it/s]"
     ]
    },
    {
     "name": "stdout",
     "output_type": "stream",
     "text": [
      "mean tensor([-0.0376,  0.0246, -0.0603, -0.0350,  0.1628, -0.0119,  0.0110])\n",
      "Average return: 0.29947820062989616\n",
      "DFE Rewards Mean: 0.29947820062989616\n",
      "DFE Rewards standard dev 0.21876861654926685\n",
      "Returns Mean: 0.42335513\n",
      "Returns standard dev 0.39345938\n",
      "Advantages Mean: -0.06390491\n",
      "Advantages standard dev 0.39345935\n",
      "Fidelity History: []\n",
      "SparsePauliOp(['II', 'XY', 'YX', 'ZZ'],\n",
      "              coeffs=[ 0.25+0.j,  0.25+0.j, -0.25+0.j, -0.25+0.j])\n"
     ]
    },
    {
     "name": "stderr",
     "output_type": "stream",
     "text": [
      " 17%|█▋        | 8/47 [00:01<00:05,  7.61it/s]"
     ]
    },
    {
     "name": "stdout",
     "output_type": "stream",
     "text": [
      "mean tensor([-0.0726, -0.0042, -0.0801, -0.0441,  0.1758,  0.0317,  0.0427])\n",
      "Average return: 0.3118066960026456\n",
      "DFE Rewards Mean: 0.3118066960026456\n",
      "DFE Rewards standard dev 0.23609717378921163\n",
      "Returns Mean: 0.45932272\n",
      "Returns standard dev 0.45526683\n",
      "Advantages Mean: -0.011525213\n",
      "Advantages standard dev 0.45526683\n",
      "Fidelity History: []\n",
      "SparsePauliOp(['II', 'XX', 'YY', 'ZZ'],\n",
      "              coeffs=[ 0.25+0.j,  0.25+0.j, -0.25+0.j,  0.25+0.j])\n"
     ]
    },
    {
     "name": "stderr",
     "output_type": "stream",
     "text": [
      " 19%|█▉        | 9/47 [00:01<00:05,  7.45it/s]"
     ]
    },
    {
     "name": "stdout",
     "output_type": "stream",
     "text": [
      "mean tensor([-0.0062, -0.0198, -0.0516, -0.0289,  0.1256,  0.0143,  0.0212])\n",
      "Average return: 0.3937940211354658\n",
      "DFE Rewards Mean: 0.3937940211354658\n",
      "DFE Rewards standard dev 0.23485368715522129\n",
      "Returns Mean: 0.6036011\n",
      "Returns standard dev 0.5053097\n",
      "Advantages Mean: 0.21249366\n",
      "Advantages standard dev 0.5053097\n",
      "Fidelity History: []\n",
      "SparsePauliOp(['II', 'XY', 'YX', 'ZZ'],\n",
      "              coeffs=[0.25+0.j, 0.25+0.j, 0.25+0.j, 0.25+0.j])\n"
     ]
    },
    {
     "name": "stderr",
     "output_type": "stream",
     "text": [
      " 21%|██▏       | 10/47 [00:01<00:04,  7.46it/s]"
     ]
    },
    {
     "name": "stdout",
     "output_type": "stream",
     "text": [
      "mean tensor([-0.0438, -0.0284, -0.0632, -0.0305,  0.1019,  0.0960,  0.0134])\n",
      "Average return: 0.4285797212151008\n",
      "DFE Rewards Mean: 0.4285797212151008\n",
      "DFE Rewards standard dev 0.2559797149018743\n",
      "Returns Mean: 0.6949809\n",
      "Returns standard dev 0.56991595\n",
      "Advantages Mean: 0.13126692\n",
      "Advantages standard dev 0.56991595\n",
      "Fidelity History: []\n",
      "SparsePauliOp(['II', 'IZ', 'XI', 'XZ'],\n",
      "              coeffs=[0.25+0.j, 0.25+0.j, 0.25+0.j, 0.25+0.j])\n"
     ]
    },
    {
     "name": "stderr",
     "output_type": "stream",
     "text": [
      " 23%|██▎       | 11/47 [00:01<00:04,  7.55it/s]"
     ]
    },
    {
     "name": "stdout",
     "output_type": "stream",
     "text": [
      "mean tensor([-0.0057, -0.0437, -0.0044, -0.0049,  0.0681,  0.0054, -0.0055])\n",
      "Average return: 0.5930752434964252\n",
      "DFE Rewards Mean: 0.5930752434964252\n",
      "DFE Rewards standard dev 0.25849293905380694\n",
      "Returns Mean: 1.3235503\n",
      "Returns standard dev 1.6944085\n",
      "Advantages Mean: 0.8146222\n",
      "Advantages standard dev 1.6944085\n",
      "Fidelity History: []\n",
      "SparsePauliOp(['II', 'XX', 'YY', 'ZZ'],\n",
      "              coeffs=[ 0.25+0.j,  0.25+0.j, -0.25+0.j,  0.25+0.j])\n"
     ]
    },
    {
     "name": "stderr",
     "output_type": "stream",
     "text": [
      " 26%|██▌       | 12/47 [00:01<00:04,  7.72it/s]"
     ]
    },
    {
     "name": "stdout",
     "output_type": "stream",
     "text": [
      "mean tensor([-0.0606, -0.0110,  0.0472, -0.0847,  0.0261,  0.0596,  0.0145])\n",
      "Average return: 0.5142560430214106\n",
      "DFE Rewards Mean: 0.5142560430214106\n",
      "DFE Rewards standard dev 0.26074304216992383\n",
      "Returns Mean: 0.9807756\n",
      "Returns standard dev 1.0954037\n",
      "Advantages Mean: 0.1925676\n",
      "Advantages standard dev 1.0954038\n",
      "Fidelity History: []\n",
      "SparsePauliOp(['II', 'XY', 'YZ', 'ZX'],\n",
      "              coeffs=[ 0.25+0.j,  0.25+0.j,  0.25+0.j, -0.25+0.j])\n"
     ]
    },
    {
     "name": "stderr",
     "output_type": "stream",
     "text": [
      " 28%|██▊       | 13/47 [00:01<00:04,  7.78it/s]"
     ]
    },
    {
     "name": "stdout",
     "output_type": "stream",
     "text": [
      "mean tensor([-0.1128,  0.0176,  0.0275, -0.0966, -0.0263,  0.1196, -0.0035])\n",
      "Average return: 0.6456294730388059\n",
      "DFE Rewards Mean: 0.6456294730388059\n",
      "DFE Rewards standard dev 0.19578079723152994\n",
      "Returns Mean: 1.2254058\n",
      "Returns standard dev 0.67905855\n",
      "Advantages Mean: 0.14775433\n",
      "Advantages standard dev 0.67905855\n",
      "Fidelity History: []\n",
      "SparsePauliOp(['II', 'XX', 'YY', 'ZZ'],\n",
      "              coeffs=[ 0.25+0.j,  0.25+0.j, -0.25+0.j,  0.25+0.j])\n"
     ]
    },
    {
     "name": "stderr",
     "output_type": "stream",
     "text": [
      " 30%|██▉       | 14/47 [00:01<00:04,  7.89it/s]"
     ]
    },
    {
     "name": "stdout",
     "output_type": "stream",
     "text": [
      "mean tensor([-0.0596, -0.0148,  0.0259, -0.0721, -0.0038,  0.0544, -0.0275])\n",
      "Average return: 0.7086561706510748\n",
      "DFE Rewards Mean: 0.7086561706510748\n",
      "DFE Rewards standard dev 0.19463519204255328\n",
      "Returns Mean: 1.5423461\n",
      "Returns standard dev 1.1085557\n",
      "Advantages Mean: 0.5157103\n",
      "Advantages standard dev 1.1085557\n",
      "Fidelity History: []\n",
      "SparsePauliOp(['II', 'IZ', 'ZI', 'ZZ'],\n",
      "              coeffs=[ 0.25+0.j, -0.25+0.j, -0.25+0.j,  0.25+0.j])\n"
     ]
    },
    {
     "name": "stderr",
     "output_type": "stream",
     "text": [
      " 32%|███▏      | 15/47 [00:01<00:03,  8.04it/s]"
     ]
    },
    {
     "name": "stdout",
     "output_type": "stream",
     "text": [
      "mean tensor([-0.0274, -0.0541,  0.0519, -0.0331,  0.0147,  0.0049, -0.0330])\n",
      "Average return: 0.8397851124317403\n",
      "DFE Rewards Mean: 0.8397851124317403\n",
      "DFE Rewards standard dev 0.13011455448763726\n",
      "Returns Mean: 2.5392618\n",
      "Returns standard dev 2.2588441\n",
      "Advantages Mean: 1.4973941\n",
      "Advantages standard dev 2.2588441\n",
      "Fidelity History: []\n",
      "SparsePauliOp(['II', 'IZ', 'ZI', 'ZZ'],\n",
      "              coeffs=[ 0.25+0.j, -0.25+0.j,  0.25+0.j, -0.25+0.j])\n"
     ]
    },
    {
     "name": "stderr",
     "output_type": "stream",
     "text": [
      " 34%|███▍      | 16/47 [00:02<00:03,  7.76it/s]"
     ]
    },
    {
     "name": "stdout",
     "output_type": "stream",
     "text": [
      "mean tensor([ 0.0114,  0.0023,  0.0495, -0.0417, -0.0135,  0.0155, -0.0457])\n",
      "Average return: 0.9023146655775321\n",
      "DFE Rewards Mean: 0.9023146655775321\n",
      "DFE Rewards standard dev 0.09610119993734136\n",
      "Returns Mean: 3.4002283\n",
      "Returns standard dev 2.7891428\n",
      "Advantages Mean: 2.1794536\n",
      "Advantages standard dev 2.7891428\n",
      "Fidelity History: []\n",
      "SparsePauliOp(['II', 'XX', 'YZ', 'ZY'],\n",
      "              coeffs=[0.25+0.j, 0.25+0.j, 0.25+0.j, 0.25+0.j])\n"
     ]
    },
    {
     "name": "stderr",
     "output_type": "stream",
     "text": [
      " 36%|███▌      | 17/47 [00:02<00:03,  7.86it/s]"
     ]
    },
    {
     "name": "stdout",
     "output_type": "stream",
     "text": [
      "mean tensor([-0.0046,  0.0133,  0.0683, -0.0541, -0.0181,  0.0786, -0.0415])\n",
      "Average return: 0.8010226304396593\n",
      "DFE Rewards Mean: 0.8010226304396593\n",
      "DFE Rewards standard dev 0.16214758608385532\n",
      "Returns Mean: 2.2711549\n",
      "Returns standard dev 2.2400491\n",
      "Advantages Mean: 0.66431165\n",
      "Advantages standard dev 2.2400491\n",
      "Fidelity History: []\n",
      "SparsePauliOp(['II', 'XY', 'YX', 'ZZ'],\n",
      "              coeffs=[ 0.25+0.j,  0.25+0.j, -0.25+0.j, -0.25+0.j])\n"
     ]
    },
    {
     "name": "stderr",
     "output_type": "stream",
     "text": [
      " 38%|███▊      | 18/47 [00:02<00:03,  7.86it/s]"
     ]
    },
    {
     "name": "stdout",
     "output_type": "stream",
     "text": [
      "mean tensor([-0.0144, -0.0404,  0.0469, -0.0081, -0.0055,  0.0293,  0.0023])\n",
      "Average return: 0.92985382148669\n",
      "DFE Rewards Mean: 0.92985382148669\n",
      "DFE Rewards standard dev 0.07465098104036896\n",
      "Returns Mean: 3.8210504\n",
      "Returns standard dev 2.8956652\n",
      "Advantages Mean: 2.0024297\n",
      "Advantages standard dev 2.8956652\n",
      "Fidelity History: []\n",
      "SparsePauliOp(['II', 'XX', 'YY', 'ZZ'],\n",
      "              coeffs=[ 0.25+0.j,  0.25+0.j,  0.25+0.j, -0.25+0.j])\n"
     ]
    },
    {
     "name": "stderr",
     "output_type": "stream",
     "text": [
      " 40%|████      | 19/47 [00:02<00:03,  7.57it/s]"
     ]
    },
    {
     "name": "stdout",
     "output_type": "stream",
     "text": [
      "mean tensor([ 0.0016, -0.0602,  0.0447, -0.0078,  0.0028,  0.0125, -0.0241])\n",
      "Average return: 0.9261176214486917\n",
      "DFE Rewards Mean: 0.9261176214486917\n",
      "DFE Rewards standard dev 0.07661494120506213\n",
      "Returns Mean: 3.439433\n",
      "Returns standard dev 2.3904123\n",
      "Advantages Mean: 1.5636843\n",
      "Advantages standard dev 2.3904123\n",
      "Fidelity History: []\n",
      "SparsePauliOp(['II', 'IX', 'XI', 'XX'],\n",
      "              coeffs=[0.25+0.j, 0.25+0.j, 0.25+0.j, 0.25+0.j])\n"
     ]
    },
    {
     "name": "stderr",
     "output_type": "stream",
     "text": [
      " 43%|████▎     | 20/47 [00:02<00:03,  7.61it/s]"
     ]
    },
    {
     "name": "stdout",
     "output_type": "stream",
     "text": [
      "mean tensor([ 0.0035, -0.0519,  0.0345, -0.0096,  0.0386,  0.0104, -0.0084])\n",
      "Average return: 0.9410680779063844\n",
      "DFE Rewards Mean: 0.9410680779063844\n",
      "DFE Rewards standard dev 0.054449839593851544\n",
      "Returns Mean: 4.0923557\n",
      "Returns standard dev 3.2152846\n",
      "Advantages Mean: 1.9445243\n",
      "Advantages standard dev 3.2152846\n",
      "Fidelity History: []\n",
      "SparsePauliOp(['II', 'IZ', 'ZI', 'ZZ'],\n",
      "              coeffs=[ 0.25+0.j, -0.25+0.j,  0.25+0.j, -0.25+0.j])\n"
     ]
    },
    {
     "name": "stderr",
     "output_type": "stream",
     "text": [
      " 45%|████▍     | 21/47 [00:02<00:03,  7.42it/s]"
     ]
    },
    {
     "name": "stdout",
     "output_type": "stream",
     "text": [
      "mean tensor([ 0.0222, -0.0668,  0.0764, -0.0082,  0.0651, -0.0521, -0.0308])\n",
      "Average return: 0.9511696935495336\n",
      "DFE Rewards Mean: 0.9511696935495336\n",
      "DFE Rewards standard dev 0.049830319427762094\n",
      "Returns Mean: 4.106264\n",
      "Returns standard dev 2.8189895\n",
      "Advantages Mean: 2.1045756\n",
      "Advantages standard dev 2.8189895\n",
      "Fidelity History: []\n",
      "SparsePauliOp(['II', 'IZ', 'XI', 'XZ'],\n",
      "              coeffs=[ 0.25+0.j, -0.25+0.j,  0.25+0.j, -0.25+0.j])\n"
     ]
    },
    {
     "name": "stderr",
     "output_type": "stream",
     "text": [
      " 47%|████▋     | 22/47 [00:02<00:03,  7.35it/s]"
     ]
    },
    {
     "name": "stdout",
     "output_type": "stream",
     "text": [
      "mean tensor([ 0.0031, -0.0477,  0.0976, -0.0004,  0.0358, -0.0644, -0.0348])\n",
      "Average return: 0.9566998981325572\n",
      "DFE Rewards Mean: 0.9566998981325572\n",
      "DFE Rewards standard dev 0.04204086029093229\n",
      "Returns Mean: 4.3505635\n",
      "Returns standard dev 3.0402412\n",
      "Advantages Mean: 2.0571208\n",
      "Advantages standard dev 3.0402412\n",
      "Fidelity History: []\n",
      "SparsePauliOp(['II', 'IX', 'XI', 'XX'],\n",
      "              coeffs=[0.25+0.j, 0.25+0.j, 0.25+0.j, 0.25+0.j])\n"
     ]
    },
    {
     "name": "stderr",
     "output_type": "stream",
     "text": [
      " 49%|████▉     | 23/47 [00:03<00:03,  7.21it/s]"
     ]
    },
    {
     "name": "stdout",
     "output_type": "stream",
     "text": [
      "mean tensor([-0.0188, -0.0406,  0.1245,  0.0029, -0.0024,  0.0021, -0.0215])\n",
      "Average return: 0.9565580152349208\n",
      "DFE Rewards Mean: 0.9565580152349208\n",
      "DFE Rewards standard dev 0.05667573757280805\n",
      "Returns Mean: 5.062687\n",
      "Returns standard dev 3.8378766\n",
      "Advantages Mean: 2.3710263\n",
      "Advantages standard dev 3.8378766\n",
      "Fidelity History: []\n",
      "SparsePauliOp(['II', 'IZ', 'ZI', 'ZZ'],\n",
      "              coeffs=[0.25+0.j, 0.25+0.j, 0.25+0.j, 0.25+0.j])\n"
     ]
    },
    {
     "name": "stderr",
     "output_type": "stream",
     "text": [
      " 51%|█████     | 24/47 [00:03<00:03,  7.33it/s]"
     ]
    },
    {
     "name": "stdout",
     "output_type": "stream",
     "text": [
      "mean tensor([ 0.0101, -0.0735,  0.0918,  0.0002,  0.0197, -0.0299, -0.0316])\n",
      "Average return: 0.9372028995206154\n",
      "DFE Rewards Mean: 0.9372028995206154\n",
      "DFE Rewards standard dev 0.07740789064447855\n",
      "Returns Mean: 4.266731\n",
      "Returns standard dev 3.2997484\n",
      "Advantages Mean: 2.1316054\n",
      "Advantages standard dev 3.2997484\n",
      "Fidelity History: []\n",
      "SparsePauliOp(['II', 'XY', 'YX', 'ZZ'],\n",
      "              coeffs=[ 0.25+0.j,  0.25+0.j, -0.25+0.j, -0.25+0.j])\n"
     ]
    },
    {
     "name": "stderr",
     "output_type": "stream",
     "text": [
      " 53%|█████▎    | 25/47 [00:03<00:02,  7.50it/s]"
     ]
    },
    {
     "name": "stdout",
     "output_type": "stream",
     "text": [
      "mean tensor([-0.0770, -0.0921,  0.1019,  0.0517, -0.0292, -0.0058, -0.0064])\n",
      "Average return: 0.9638011086291007\n",
      "DFE Rewards Mean: 0.9638011086291007\n",
      "DFE Rewards standard dev 0.026881076698676697\n",
      "Returns Mean: 4.280676\n",
      "Returns standard dev 2.8822005\n",
      "Advantages Mean: 0.93426895\n",
      "Advantages standard dev 2.8822005\n",
      "Fidelity History: []\n",
      "SparsePauliOp(['II', 'IY', 'XI', 'XY'],\n",
      "              coeffs=[0.25+0.j, 0.25+0.j, 0.25+0.j, 0.25+0.j])\n"
     ]
    },
    {
     "name": "stderr",
     "output_type": "stream",
     "text": [
      " 55%|█████▌    | 26/47 [00:03<00:02,  7.62it/s]"
     ]
    },
    {
     "name": "stdout",
     "output_type": "stream",
     "text": [
      "mean tensor([-0.0365, -0.1566,  0.1269,  0.0072, -0.0348,  0.0442,  0.0030])\n",
      "Average return: 0.969122537881409\n",
      "DFE Rewards Mean: 0.969122537881409\n",
      "DFE Rewards standard dev 0.029264222946431107\n",
      "Returns Mean: 4.8140917\n",
      "Returns standard dev 3.3416452\n",
      "Advantages Mean: 1.1741723\n",
      "Advantages standard dev 3.3416452\n",
      "Fidelity History: []\n",
      "SparsePauliOp(['II', 'IZ', 'ZI', 'ZZ'],\n",
      "              coeffs=[ 0.25+0.j, -0.25+0.j,  0.25+0.j, -0.25+0.j])\n"
     ]
    },
    {
     "name": "stderr",
     "output_type": "stream",
     "text": [
      " 57%|█████▋    | 27/47 [00:03<00:02,  7.75it/s]"
     ]
    },
    {
     "name": "stdout",
     "output_type": "stream",
     "text": [
      "mean tensor([ 0.0488, -0.1769,  0.1508,  0.0671, -0.2004, -0.0987,  0.2260])\n",
      "Average return: 0.8268361816251732\n",
      "DFE Rewards Mean: 0.8268361816251732\n",
      "DFE Rewards standard dev 0.10209763983686047\n",
      "Returns Mean: 2.000443\n",
      "Returns standard dev 1.0129901\n",
      "Advantages Mean: -0.91847587\n",
      "Advantages standard dev 1.0129902\n",
      "Fidelity History: []\n",
      "SparsePauliOp(['II', 'IZ', 'ZI', 'ZZ'],\n",
      "              coeffs=[ 0.25+0.j, -0.25+0.j,  0.25+0.j, -0.25+0.j])\n"
     ]
    },
    {
     "name": "stderr",
     "output_type": "stream",
     "text": [
      " 60%|█████▉    | 28/47 [00:03<00:02,  7.84it/s]"
     ]
    },
    {
     "name": "stdout",
     "output_type": "stream",
     "text": [
      "mean tensor([ 0.0520, -0.1956,  0.1486,  0.1181, -0.1779, -0.0969,  0.1939])\n",
      "Average return: 0.8871129586134001\n",
      "DFE Rewards Mean: 0.8871129586134001\n",
      "DFE Rewards standard dev 0.06458792619047826\n",
      "Returns Mean: 2.5098855\n",
      "Returns standard dev 1.505456\n",
      "Advantages Mean: -0.26103365\n",
      "Advantages standard dev 1.505456\n",
      "Fidelity History: []\n",
      "SparsePauliOp(['II', 'IZ', 'ZI', 'ZZ'],\n",
      "              coeffs=[0.25+0.j, 0.25+0.j, 0.25+0.j, 0.25+0.j])\n"
     ]
    },
    {
     "name": "stderr",
     "output_type": "stream",
     "text": [
      " 62%|██████▏   | 29/47 [00:03<00:02,  7.94it/s]"
     ]
    },
    {
     "name": "stdout",
     "output_type": "stream",
     "text": [
      "mean tensor([ 0.0559, -0.1889,  0.1443,  0.1129, -0.0935, -0.0965,  0.1689])\n",
      "Average return: 0.7458373265874124\n",
      "DFE Rewards Mean: 0.7458373265874124\n",
      "DFE Rewards standard dev 0.152181711306709\n",
      "Returns Mean: 1.6529602\n",
      "Returns standard dev 0.9687611\n",
      "Advantages Mean: -0.582484\n",
      "Advantages standard dev 0.9687611\n",
      "Fidelity History: []\n",
      "SparsePauliOp(['II', 'XX', 'YZ', 'ZY'],\n",
      "              coeffs=[0.25+0.j, 0.25+0.j, 0.25+0.j, 0.25+0.j])\n"
     ]
    },
    {
     "name": "stderr",
     "output_type": "stream",
     "text": [
      " 64%|██████▍   | 30/47 [00:03<00:02,  7.99it/s]"
     ]
    },
    {
     "name": "stdout",
     "output_type": "stream",
     "text": [
      "mean tensor([ 0.0192, -0.2002,  0.1878,  0.1032, -0.1793, -0.1009,  0.1760])\n",
      "Average return: 0.8451350383759388\n",
      "DFE Rewards Mean: 0.8451350383759388\n",
      "DFE Rewards standard dev 0.07539482233922835\n",
      "Returns Mean: 2.079937\n",
      "Returns standard dev 1.1447145\n",
      "Advantages Mean: -0.8264997\n",
      "Advantages standard dev 1.1447145\n",
      "Fidelity History: []\n",
      "SparsePauliOp(['II', 'IZ', 'YI', 'YZ'],\n",
      "              coeffs=[0.25+0.j, 0.25+0.j, 0.25+0.j, 0.25+0.j])\n"
     ]
    },
    {
     "name": "stderr",
     "output_type": "stream",
     "text": [
      " 66%|██████▌   | 31/47 [00:04<00:01,  8.05it/s]"
     ]
    },
    {
     "name": "stdout",
     "output_type": "stream",
     "text": [
      "mean tensor([ 0.0558, -0.1729,  0.1542,  0.0723, -0.1283, -0.0520,  0.1282])\n",
      "Average return: 0.8458857872148163\n",
      "DFE Rewards Mean: 0.8458857872148163\n",
      "DFE Rewards standard dev 0.10112252822861227\n",
      "Returns Mean: 2.404505\n",
      "Returns standard dev 2.012301\n",
      "Advantages Mean: 0.17589174\n",
      "Advantages standard dev 2.012301\n",
      "Fidelity History: []\n",
      "SparsePauliOp(['II', 'IZ', 'XI', 'XZ'],\n",
      "              coeffs=[0.25+0.j, 0.25+0.j, 0.25+0.j, 0.25+0.j])\n"
     ]
    },
    {
     "name": "stderr",
     "output_type": "stream",
     "text": [
      " 68%|██████▊   | 32/47 [00:04<00:01,  8.13it/s]"
     ]
    },
    {
     "name": "stdout",
     "output_type": "stream",
     "text": [
      "mean tensor([ 0.0400, -0.1806,  0.1329,  0.0086, -0.1471,  0.0068,  0.0971])\n",
      "Average return: 0.9209380398739557\n",
      "DFE Rewards Mean: 0.9209380398739557\n",
      "DFE Rewards standard dev 0.058103973737010504\n",
      "Returns Mean: 3.1428988\n",
      "Returns standard dev 2.1082997\n",
      "Advantages Mean: 0.8874323\n",
      "Advantages standard dev 2.1082997\n",
      "Fidelity History: []\n",
      "SparsePauliOp(['II', 'IX', 'XI', 'XX'],\n",
      "              coeffs=[0.25+0.j, 0.25+0.j, 0.25+0.j, 0.25+0.j])\n"
     ]
    },
    {
     "name": "stderr",
     "output_type": "stream",
     "text": [
      " 70%|███████   | 33/47 [00:04<00:01,  7.86it/s]"
     ]
    },
    {
     "name": "stdout",
     "output_type": "stream",
     "text": [
      "mean tensor([ 0.0078, -0.1733,  0.1623,  0.0277, -0.1455, -0.0103,  0.1031])\n",
      "Average return: 0.8974945544490076\n",
      "DFE Rewards Mean: 0.8974945544490076\n",
      "DFE Rewards standard dev 0.07029957522938526\n",
      "Returns Mean: 2.685343\n",
      "Returns standard dev 1.5518093\n",
      "Advantages Mean: -0.26956317\n",
      "Advantages standard dev 1.5518092\n",
      "Fidelity History: []\n",
      "SparsePauliOp(['II', 'IZ', 'YI', 'YZ'],\n",
      "              coeffs=[0.25+0.j, 0.25+0.j, 0.25+0.j, 0.25+0.j])\n"
     ]
    },
    {
     "name": "stderr",
     "output_type": "stream",
     "text": [
      " 72%|███████▏  | 34/47 [00:04<00:01,  7.77it/s]"
     ]
    },
    {
     "name": "stdout",
     "output_type": "stream",
     "text": [
      "mean tensor([ 0.0147, -0.2240,  0.1029,  0.0286, -0.0785,  0.0127,  0.0961])\n",
      "Average return: 0.9467917375504078\n",
      "DFE Rewards Mean: 0.9467917375504078\n",
      "DFE Rewards standard dev 0.05116827693850136\n",
      "Returns Mean: 4.298818\n",
      "Returns standard dev 3.267462\n",
      "Advantages Mean: 1.8522631\n",
      "Advantages standard dev 3.2674618\n",
      "Fidelity History: []\n",
      "SparsePauliOp(['II', 'IZ', 'ZI', 'ZZ'],\n",
      "              coeffs=[ 0.25+0.j, -0.25+0.j,  0.25+0.j, -0.25+0.j])\n"
     ]
    },
    {
     "name": "stderr",
     "output_type": "stream",
     "text": [
      " 74%|███████▍  | 35/47 [00:04<00:01,  7.92it/s]"
     ]
    },
    {
     "name": "stdout",
     "output_type": "stream",
     "text": [
      "mean tensor([ 0.0185, -0.2252,  0.1119,  0.0042, -0.0803, -0.0117,  0.1005])\n",
      "Average return: 0.9460942401446483\n",
      "DFE Rewards Mean: 0.9460942401446483\n",
      "DFE Rewards standard dev 0.04763982914946939\n",
      "Returns Mean: 3.9432607\n",
      "Returns standard dev 2.8236563\n",
      "Advantages Mean: 1.0966994\n",
      "Advantages standard dev 2.8236563\n",
      "Fidelity History: []\n",
      "SparsePauliOp(['II', 'IZ', 'XI', 'XZ'],\n",
      "              coeffs=[0.25+0.j, 0.25+0.j, 0.25+0.j, 0.25+0.j])\n"
     ]
    },
    {
     "name": "stderr",
     "output_type": "stream",
     "text": [
      " 77%|███████▋  | 36/47 [00:04<00:01,  8.05it/s]"
     ]
    },
    {
     "name": "stdout",
     "output_type": "stream",
     "text": [
      "mean tensor([ 0.0091, -0.2176,  0.1140,  0.0284, -0.0194, -0.0124,  0.0711])\n",
      "Average return: 0.976591397377253\n",
      "DFE Rewards Mean: 0.976591397377253\n",
      "DFE Rewards standard dev 0.02902583489984699\n",
      "Returns Mean: 5.8725653\n",
      "Returns standard dev 3.9717026\n",
      "Advantages Mean: 3.0942125\n",
      "Advantages standard dev 3.9717026\n",
      "Fidelity History: []\n",
      "SparsePauliOp(['II', 'IZ', 'YI', 'YZ'],\n",
      "              coeffs=[0.25+0.j, 0.25+0.j, 0.25+0.j, 0.25+0.j])\n"
     ]
    },
    {
     "name": "stderr",
     "output_type": "stream",
     "text": [
      " 79%|███████▊  | 37/47 [00:04<00:01,  8.19it/s]"
     ]
    },
    {
     "name": "stdout",
     "output_type": "stream",
     "text": [
      "mean tensor([ 0.0088, -0.2171,  0.1557,  0.0186,  0.0004, -0.0160,  0.0761])\n",
      "Average return: 0.956288825754425\n",
      "DFE Rewards Mean: 0.956288825754425\n",
      "DFE Rewards standard dev 0.04608133036308571\n",
      "Returns Mean: 4.2184677\n",
      "Returns standard dev 2.647802\n",
      "Advantages Mean: 1.2191824\n",
      "Advantages standard dev 2.647802\n",
      "Fidelity History: []\n",
      "SparsePauliOp(['II', 'XX', 'YY', 'ZZ'],\n",
      "              coeffs=[ 0.25+0.j,  0.25+0.j,  0.25+0.j, -0.25+0.j])\n"
     ]
    },
    {
     "name": "stderr",
     "output_type": "stream",
     "text": [
      " 81%|████████  | 38/47 [00:04<00:01,  8.24it/s]"
     ]
    },
    {
     "name": "stdout",
     "output_type": "stream",
     "text": [
      "mean tensor([ 0.0186, -0.2594,  0.1791,  0.0028, -0.0120,  0.0128,  0.0420])\n",
      "Average return: 0.9497237999830008\n",
      "DFE Rewards Mean: 0.9497237999830008\n",
      "DFE Rewards standard dev 0.059491822658991306\n",
      "Returns Mean: 4.769208\n",
      "Returns standard dev 3.7550614\n",
      "Advantages Mean: 1.1472852\n",
      "Advantages standard dev 3.7550614\n",
      "Fidelity History: []\n",
      "SparsePauliOp(['II', 'IY', 'XI', 'XY'],\n",
      "              coeffs=[0.25+0.j, 0.25+0.j, 0.25+0.j, 0.25+0.j])\n"
     ]
    },
    {
     "name": "stderr",
     "output_type": "stream",
     "text": [
      " 83%|████████▎ | 39/47 [00:05<00:00,  8.30it/s]"
     ]
    },
    {
     "name": "stdout",
     "output_type": "stream",
     "text": [
      "mean tensor([-0.0822, -0.1062,  0.3335,  0.0164, -0.1228,  0.0635, -0.0584])\n",
      "Average return: 0.8695400152109818\n",
      "DFE Rewards Mean: 0.8695400152109818\n",
      "DFE Rewards standard dev 0.07329017056633631\n",
      "Returns Mean: 2.2928216\n",
      "Returns standard dev 1.1664553\n",
      "Advantages Mean: -1.7114631\n",
      "Advantages standard dev 1.1664553\n",
      "Fidelity History: []\n",
      "SparsePauliOp(['II', 'XX', 'YY', 'ZZ'],\n",
      "              coeffs=[ 0.25+0.j,  0.25+0.j,  0.25+0.j, -0.25+0.j])\n"
     ]
    },
    {
     "name": "stderr",
     "output_type": "stream",
     "text": [
      " 85%|████████▌ | 40/47 [00:05<00:00,  8.33it/s]"
     ]
    },
    {
     "name": "stdout",
     "output_type": "stream",
     "text": [
      "mean tensor([-0.0471, -0.1446,  0.2780,  0.0053, -0.0962,  0.0310, -0.0504])\n",
      "Average return: 0.8980184214546905\n",
      "DFE Rewards Mean: 0.8980184214546905\n",
      "DFE Rewards standard dev 0.07358733289280592\n",
      "Returns Mean: 2.775899\n",
      "Returns standard dev 1.8263063\n",
      "Advantages Mean: -0.6949666\n",
      "Advantages standard dev 1.8263063\n",
      "Fidelity History: []\n",
      "SparsePauliOp(['II', 'XX', 'YZ', 'ZY'],\n",
      "              coeffs=[0.25+0.j, 0.25+0.j, 0.25+0.j, 0.25+0.j])\n"
     ]
    },
    {
     "name": "stderr",
     "output_type": "stream",
     "text": [
      " 87%|████████▋ | 41/47 [00:05<00:00,  8.32it/s]"
     ]
    },
    {
     "name": "stdout",
     "output_type": "stream",
     "text": [
      "mean tensor([-0.0433, -0.1949,  0.2515,  0.0136, -0.0773,  0.0511, -0.0414])\n",
      "Average return: 0.9550955359438085\n",
      "DFE Rewards Mean: 0.9550955359438085\n",
      "DFE Rewards standard dev 0.0430503889977564\n",
      "Returns Mean: 4.1027265\n",
      "Returns standard dev 2.7591805\n",
      "Advantages Mean: 0.654312\n",
      "Advantages standard dev 2.7591805\n",
      "Fidelity History: []\n",
      "SparsePauliOp(['II', 'IZ', 'YI', 'YZ'],\n",
      "              coeffs=[0.25+0.j, 0.25+0.j, 0.25+0.j, 0.25+0.j])\n"
     ]
    },
    {
     "name": "stderr",
     "output_type": "stream",
     "text": [
      " 89%|████████▉ | 42/47 [00:05<00:00,  8.34it/s]"
     ]
    },
    {
     "name": "stdout",
     "output_type": "stream",
     "text": [
      "mean tensor([-0.0158, -0.2044,  0.2018,  0.0085, -0.0107,  0.0421, -0.0413])\n",
      "Average return: 0.9707013340244504\n",
      "DFE Rewards Mean: 0.9707013340244504\n",
      "DFE Rewards standard dev 0.033972619872484414\n",
      "Returns Mean: 5.2030187\n",
      "Returns standard dev 3.5682216\n",
      "Advantages Mean: 2.1457396\n",
      "Advantages standard dev 3.5682216\n",
      "Fidelity History: []\n",
      "SparsePauliOp(['II', 'XY', 'YX', 'ZZ'],\n",
      "              coeffs=[0.25+0.j, 0.25+0.j, 0.25+0.j, 0.25+0.j])\n"
     ]
    },
    {
     "name": "stderr",
     "output_type": "stream",
     "text": [
      " 91%|█████████▏| 43/47 [00:05<00:00,  8.36it/s]"
     ]
    },
    {
     "name": "stdout",
     "output_type": "stream",
     "text": [
      "mean tensor([-0.0281, -0.2027,  0.2024,  0.0187, -0.0521,  0.0415, -0.0306])\n",
      "Average return: 0.9641295633428777\n",
      "DFE Rewards Mean: 0.9641295633428777\n",
      "DFE Rewards standard dev 0.031961514125360475\n",
      "Returns Mean: 4.4121685\n",
      "Returns standard dev 2.9367497\n",
      "Advantages Mean: 0.6792581\n",
      "Advantages standard dev 2.9367495\n",
      "Fidelity History: []\n",
      "SparsePauliOp(['II', 'XY', 'YX', 'ZZ'],\n",
      "              coeffs=[ 0.25+0.j,  0.25+0.j, -0.25+0.j, -0.25+0.j])\n"
     ]
    },
    {
     "name": "stderr",
     "output_type": "stream",
     "text": [
      " 94%|█████████▎| 44/47 [00:05<00:00,  8.38it/s]"
     ]
    },
    {
     "name": "stdout",
     "output_type": "stream",
     "text": [
      "mean tensor([-0.0265, -0.1989,  0.2190,  0.0182, -0.0365,  0.0430, -0.0352])\n",
      "Average return: 0.9733697980496044\n",
      "DFE Rewards Mean: 0.9733697980496044\n",
      "DFE Rewards standard dev 0.024825885316801768\n",
      "Returns Mean: 4.752741\n",
      "Returns standard dev 3.0013058\n",
      "Advantages Mean: 0.8045648\n",
      "Advantages standard dev 3.0013058\n",
      "Fidelity History: []\n",
      "SparsePauliOp(['II', 'IX', 'XI', 'XX'],\n",
      "              coeffs=[0.25+0.j, 0.25+0.j, 0.25+0.j, 0.25+0.j])\n"
     ]
    },
    {
     "name": "stderr",
     "output_type": "stream",
     "text": [
      " 96%|█████████▌| 45/47 [00:05<00:00,  8.38it/s]"
     ]
    },
    {
     "name": "stdout",
     "output_type": "stream",
     "text": [
      "mean tensor([-0.0953, -0.0736, -0.0022,  0.0221, -0.0690,  0.0358,  0.1363])\n",
      "Average return: 0.946320170548208\n",
      "DFE Rewards Mean: 0.946320170548208\n",
      "DFE Rewards standard dev 0.05279301430461361\n",
      "Returns Mean: 3.866943\n",
      "Returns standard dev 2.5924442\n",
      "Advantages Mean: 0.043649606\n",
      "Advantages standard dev 2.592444\n",
      "Fidelity History: []\n",
      "SparsePauliOp(['II', 'IZ', 'YI', 'YZ'],\n",
      "              coeffs=[ 0.25+0.j, -0.25+0.j, -0.25+0.j,  0.25+0.j])\n"
     ]
    },
    {
     "name": "stderr",
     "output_type": "stream",
     "text": [
      " 98%|█████████▊| 46/47 [00:05<00:00,  8.32it/s]"
     ]
    },
    {
     "name": "stdout",
     "output_type": "stream",
     "text": [
      "mean tensor([-0.0885, -0.1036,  0.0042,  0.0189, -0.0354,  0.0189,  0.1188])\n",
      "Average return: 0.9428449169031113\n",
      "DFE Rewards Mean: 0.9428449169031113\n",
      "DFE Rewards standard dev 0.047123761226520136\n",
      "Returns Mean: 3.8953676\n",
      "Returns standard dev 2.9873912\n",
      "Advantages Mean: 0.2782923\n",
      "Advantages standard dev 2.9873912\n",
      "Fidelity History: []\n",
      "SparsePauliOp(['II', 'XY', 'YX', 'ZZ'],\n",
      "              coeffs=[ 0.25+0.j,  0.25+0.j, -0.25+0.j, -0.25+0.j])\n"
     ]
    },
    {
     "name": "stderr",
     "output_type": "stream",
     "text": [
      "100%|██████████| 47/47 [00:06<00:00,  7.83it/s]\n",
      "[I 2023-12-22 16:17:17,554] Trial 0 finished with value: 0.9733697980496044 and parameters: {'N_UPDATES': 47, 'N_EPOCHS': 16, 'MINIBATCH_SIZE': 48, 'BATCHSIZE_MULTIPLIER': 6, 'LR': 0.003015472165788482, 'GAMMA': 0.9628452903435801, 'GAE_LAMBDA': 0.958779784198535, 'ENT_COEF': 0.0007091593841853005, 'V_COEF': 0.46685833460074655, 'GRADIENT_CLIP': 0.14425166294114908, 'CLIP_VALUE_COEF': 0.13219506338166914, 'CLIP_RATIO': 0.24473165681404896}. Best is trial 0 with value: 0.9733697980496044.\n"
     ]
    },
    {
     "name": "stdout",
     "output_type": "stream",
     "text": [
      "mean tensor([-0.0918, -0.1111, -0.0141,  0.0745, -0.0333,  0.0332,  0.1148])\n",
      "Average return: 0.879252066437124\n",
      "DFE Rewards Mean: 0.879252066437124\n",
      "DFE Rewards standard dev 0.062330408470783714\n",
      "Returns Mean: 2.3151457\n",
      "Returns standard dev 0.9391003\n",
      "Advantages Mean: -1.7907532\n",
      "Advantages standard dev 0.9391004\n",
      "Fidelity History: []\n",
      "Best configuration saved to hpo_results/reward_0.97337.pickle\n"
     ]
    }
   ],
   "source": [
    "optimizer = HyperparameterOptimizer(gate_q_env_config, path_agent_config, save_results_path, False)\n",
    "optimizer.optimize_hyperparameters()"
   ]
  },
  {
   "cell_type": "code",
   "execution_count": 7,
   "metadata": {},
   "outputs": [
    {
     "data": {
      "text/plain": [
       "['N_UPDATES',\n",
       " 'N_EPOCHS',\n",
       " 'MINIBATCH_SIZE',\n",
       " 'BATCHSIZE_MULTIPLIER',\n",
       " 'LR',\n",
       " 'GAMMA',\n",
       " 'GAE_LAMBDA',\n",
       " 'ENT_COEF',\n",
       " 'V_COEF',\n",
       " 'GRADIENT_CLIP',\n",
       " 'CLIP_VALUE_COEF',\n",
       " 'CLIP_RATIO',\n",
       " 'BATCHSIZE']"
      ]
     },
     "execution_count": 7,
     "metadata": {},
     "output_type": "execute_result"
    }
   ],
   "source": [
    "optimizer.hyperparams"
   ]
  },
  {
   "cell_type": "code",
   "execution_count": 8,
   "metadata": {},
   "outputs": [
    {
     "data": {
      "text/plain": [
       "1"
      ]
     },
     "execution_count": 8,
     "metadata": {},
     "output_type": "execute_result"
    }
   ],
   "source": [
    "optimizer.num_hpo_trials"
   ]
  },
  {
   "cell_type": "code",
   "execution_count": 9,
   "metadata": {},
   "outputs": [
    {
     "data": {
      "text/plain": [
       "{'best_avg_return': 0.9733697980496044,\n",
       " 'best_parameters': {'N_UPDATES': 47,\n",
       "  'N_EPOCHS': 16,\n",
       "  'MINIBATCH_SIZE': 48,\n",
       "  'BATCHSIZE_MULTIPLIER': 6,\n",
       "  'LR': 0.003015472165788482,\n",
       "  'GAMMA': 0.9628452903435801,\n",
       "  'GAE_LAMBDA': 0.958779784198535,\n",
       "  'ENT_COEF': 0.0007091593841853005,\n",
       "  'V_COEF': 0.46685833460074655,\n",
       "  'GRADIENT_CLIP': 0.14425166294114908,\n",
       "  'CLIP_VALUE_COEF': 0.13219506338166914,\n",
       "  'CLIP_RATIO': 0.24473165681404896}}"
      ]
     },
     "execution_count": 9,
     "metadata": {},
     "output_type": "execute_result"
    }
   ],
   "source": [
    "optimizer.best_hpo_configuration"
   ]
  }
 ],
 "metadata": {
  "kernelspec": {
   "display_name": "Python 3",
   "language": "python",
   "name": "python3"
  },
  "language_info": {
   "codemirror_mode": {
    "name": "ipython",
    "version": 3
   },
   "file_extension": ".py",
   "mimetype": "text/x-python",
   "name": "python",
   "nbconvert_exporter": "python",
   "pygments_lexer": "ipython3",
   "version": "3.9.6"
  },
  "orig_nbformat": 4
 },
 "nbformat": 4,
 "nbformat_minor": 2
}

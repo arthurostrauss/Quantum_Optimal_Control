{
 "cells": [
  {
   "cell_type": "markdown",
   "id": "24ddfaf2-e5a9-48ab-bf1f-e297b2d0d4ba",
   "metadata": {},
   "source": [
    "# Quantum Gate calibration using Model Free Reinforcement Learning\n",
    "\n",
    "We extend the state preparation scheme to a gate calibration scheme by providing multiple input states to the target."
   ]
  },
  {
   "cell_type": "code",
   "execution_count": 1,
   "id": "87f43da7-a9a7-452f-a5e8-0c0145a29d24",
   "metadata": {
    "ExecuteTime": {
     "end_time": "2024-02-21T01:42:13.844724Z",
     "start_time": "2024-02-21T01:41:50.183988Z"
    }
   },
   "outputs": [
    {
     "name": "stderr",
     "output_type": "stream",
     "text": [
      "/Users/arthurostrauss/anaconda3/envs/rl_qoc_v1/lib/python3.11/site-packages/qiskit_dynamics/dispatch/backends/jax.py:34: UserWarning: The functionality in the perturbation module of Qiskit Dynamics requires a JAX version <= 0.4.6, due to a bug in JAX versions > 0.4.6. For versions 0.4.4, 0.4.5, and 0.4.6, using the perturbation module functionality requires setting os.environ['JAX_JIT_PJIT_API_MERGE'] = '0' before importing JAX or Dynamics.\n",
      "  warnings.warn(\n"
     ]
    }
   ],
   "source": [
    "import numpy as np\n",
    "import os\n",
    "import sys\n",
    "\n",
    "module_path = os.path.abspath(\n",
    "    os.path.join(\n",
    "        \"/Users/arthurstrauss/Library/CloudStorage/OneDrive-NationalUniversityofSingapore/Coding_projects/Quantum_Optimal_Control\"\n",
    "    )\n",
    ")\n",
    "if module_path not in sys.path:\n",
    "    sys.path.append(module_path)\n",
    "from quantumenvironment import QuantumEnvironment\n",
    "from helper_functions import select_optimizer, generate_model\n",
    "from qconfig import QiskitConfig, QEnvConfig\n",
    "\n",
    "# Qiskit imports for building RL environment (circuit level)\n",
    "from qiskit.circuit import ParameterVector, QuantumCircuit, QuantumRegister\n",
    "from qiskit.circuit.library import CXGate, XGate\n",
    "from qiskit_ibm_runtime import QiskitRuntimeService, Estimator\n",
    "from typing import Optional\n",
    "\n",
    "# Tensorflow imports for building RL agent and framework\n",
    "import tensorflow as tf\n",
    "from tensorflow_probability.python.distributions import MultivariateNormalDiag\n",
    "from gymnasium.spaces import Box, Discrete\n",
    "\n",
    "# Additional imports\n",
    "from tqdm import tqdm\n",
    "import matplotlib.pyplot as plt\n",
    "from IPython.display import clear_output\n",
    "from time import sleep"
   ]
  },
  {
   "cell_type": "code",
   "execution_count": 17,
   "id": "1de73f28-b701-4c18-888d-1e168d67b645",
   "metadata": {
    "ExecuteTime": {
     "end_time": "2024-02-21T01:55:34.733743Z",
     "start_time": "2024-02-21T01:55:34.699684Z"
    }
   },
   "outputs": [],
   "source": [
    "# Ansatz function, could be at pulse level or circuit level\n",
    "def apply_parametrized_circuit(\n",
    "        qc: QuantumCircuit,\n",
    "        params: Optional[ParameterVector],\n",
    "        qr: Optional[QuantumRegister],\n",
    "        n_actions: Optional[int] = None,\n",
    "):\n",
    "    \"\"\"\n",
    "    Define ansatz circuit to be played on Quantum Computer. Should be parametrized with Qiskit ParameterVector\n",
    "    :param qc: Quantum Circuit instance to add the gates on\n",
    "    :return:\n",
    "    \"\"\"\n",
    "    if params is None:\n",
    "        try:\n",
    "            params = ParameterVector(\"theta\", n_actions)\n",
    "        except TypeError:\n",
    "            raise ValueError(\n",
    "                \"If params is None, n_actions should be provided to generate a ParameterVector\"\n",
    "            )\n",
    "    if qr is None:\n",
    "        qr = qc.qregs[0]\n",
    "    param_circ = QuantumCircuit(qr)\n",
    "    param_circ.u(\n",
    "        2 * np.pi * params[0], 2 * np.pi * params[1], 2 * np.pi * params[2], qr[0]\n",
    "    )\n",
    "    param_circ.u(\n",
    "        2 * np.pi * params[3], 2 * np.pi * params[4], 2 * np.pi * params[5], qr[1]\n",
    "    )\n",
    "    param_circ.rzx(2 * np.pi * params[6], 0, qr[1])\n",
    "    qc.append(param_circ.to_instruction(), qr)"
   ]
  },
  {
   "cell_type": "markdown",
   "id": "2dd0f78a-3737-4590-b8cc-6c59df04d13e",
   "metadata": {},
   "source": [
    "# Defining the QuantumEnvironment\n",
    "\n",
    "Below, we set the RL environment parameters, that is how we describe our quantum system. Below, we can choose to go through the use of Qiskit Runtime, or to speed things up by using the local CPU and a state-vector simulator to get measurement outcomes based on the ansatz circuit defined above. The Environment is defined as a class object called QuantumEnvironment."
   ]
  },
  {
   "cell_type": "markdown",
   "id": "c1ac9e41-0143-4b75-98b3-8684e2655308",
   "metadata": {},
   "source": [
    "## Generic information characterizing the quantum system\n",
    "\n",
    "The algorithm is built upon Qiskit modules. To specify how to address our quantum system of interest, we therefore adopt the IBM approach to define a quantum backend, on which qubits are defined and can be accessed via control actions and measurements.\n",
    "\n",
    "The cell below specifies:\n",
    "- ```qubit_tgt_register```: List of qubit indices which are specifically addressed by controls , namely the ones for which we intend to calibrate a gate upon or steer them in a specific quantum state. Note that this list could include less qubits than the total number of qubits, which can be useful when one wants to take into account crosstalk effects emerging from nearest-neigbor coupling.\n",
    "- ```sampling_Paulis```: number of Pauli observables  to be sampled from the system: the algorithm relies on the ability to process measurement outcomes to estimate the expectation value of different Pauli operators. The more observables we provide for sampling, the more properties we are able to deduce with accuracy about the actual state that was created when applying our custom controls. For a single qubit, the possible Pauli operators are $\\sigma_0=I$, $\\sigma_x=X$, $\\sigma_y=Y$, $\\sigma_z=Z$. For a general multiqubit system, the Pauli observables are tensor products of those single qubit Pauli operators. The algorithm will automatically estimate which observables are the most relevant to sample based on the provided target. The probability distribution from which those observables are sampled is derived from the Direct Fidelity Estimation (equation 3, https://link.aps.org/doi/10.1103/PhysRevLett.106.230501) algorithm. \n",
    "- ```N_shots```: Indicates how many measurements shall be done for each provided circuit (that is a specific combination of an action vector and a Pauli observable to be sampled)\n",
    "- The dimension of the action vector: Indicates the number of pulse/circuit parameters that characterize our parametrized quantum circuit.\n",
    "- ```estimator_options```: Options of the Qiskit Estimator primitive. The Estimator is the Qiskit module enabling an easy computation of Pauli expectation values. One can set options to make this process more reliable (typically by doing some error mitigation techniques in post-processing). Works only with Runtime Backend at the moment\n",
    "- ```abstraction_level``` chosen to encode our quantum circuit. One can choose here to stick to the usual circuit model of quantum computing, by using the ```QuantumCircuit``` objects from Qiskit and therefore set the ```abstraction_level``` to ```\"circuit\"```. However, depending on the task at hand, one can also prefer to use a pulse description of all the operations in our circuit. This is possible by using resources of another module of Qiskit called Qiskit Dynamics. In this case, one should define the ansatz circuit above in a pulse level fashion, and the simulation done at the Hamiltonian level, and not only via statevector calculations. In this notebook we set the ```abstraction_level``` to ```\"circuit\"```. Another notebook at the pulse level is available in the repo."
   ]
  },
  {
   "cell_type": "code",
   "execution_count": 18,
   "id": "778b1dc1-576d-400b-85af-c7e846ba77de",
   "metadata": {
    "ExecuteTime": {
     "end_time": "2024-02-21T01:55:35.317556Z",
     "start_time": "2024-02-21T01:55:35.315143Z"
    }
   },
   "outputs": [],
   "source": [
    "qubit_tgt_register = [0, 1]  # Choose which qubits of the QPU you want to address\n",
    "sampling_Paulis = 100\n",
    "N_shots = 1  # Number of shots for sampling the quantum computer for each action vector\n",
    "batchsize = 300  # Batch size (iterate over a bunch of actions per policy to estimate expected return)\n",
    "n_actions = 7  # Choose how many control parameters in pulse/circuit parametrization\n",
    "action_space = Box(low=-1, high=1, shape=(n_actions,), dtype=np.float32)\n",
    "observation_space = Box(low=0, high=1, shape=(1,), dtype=np.float32)\n",
    "seed = 4000\n",
    "estimator_options = {\"seed_simulator\": seed, \"resilience_level\": 0}"
   ]
  },
  {
   "cell_type": "markdown",
   "id": "fb6ce01f-4de3-4af1-b1ec-36b1361c6dfe",
   "metadata": {
    "tags": []
   },
   "source": [
    "Choose below which IBM Backend to use. As we are dealing with circuit level implementation, we can look for a backend supporting Qiskit Runtime (could be a cloud simulator, or real backend) or simply set backend to None and rely on the Estimator primitive based on statevector simulation. In either case, we need access to one Estimator primitive to run the algorithm, as the feedback from the measurement outcomes is done by calculating Pauli expectation values."
   ]
  },
  {
   "cell_type": "markdown",
   "id": "653de84e-4650-4311-86e6-81a3fa1f18c6",
   "metadata": {},
   "source": [
    "## 1. Setting up a Quantum Backend"
   ]
  },
  {
   "cell_type": "markdown",
   "id": "7cb9ac30-26aa-419a-9586-8ba4ed736cf0",
   "metadata": {
    "tags": []
   },
   "source": [
    "### Real backend initialization\n",
    "\n",
    "Uncomment the cell below to declare a Qiskit Runtime backend. You need an internet connection and an IBM Id account to access this."
   ]
  },
  {
   "cell_type": "code",
   "execution_count": 19,
   "id": "d79bf811-87b6-4a25-9e6e-968a4e12d5ef",
   "metadata": {
    "ExecuteTime": {
     "end_time": "2024-02-21T01:55:36.476685Z",
     "start_time": "2024-02-21T01:55:36.473799Z"
    }
   },
   "outputs": [],
   "source": [
    "\"\"\"\n",
    "Real backend initialization:\n",
    "Run this cell only if intending to use a real backend,\n",
    "where Qiskit Runtime is enabled\n",
    "\"\"\"\n",
    "\n",
    "backend_name = \"ibm_perth\"\n",
    "\n",
    "# service = QiskitRuntimeService(channel='ibm_quantum')\n",
    "# runtime_backend = service.get_backend(backend_name)\n",
    "# estimator_options = {'resilience_level': 0}"
   ]
  },
  {
   "cell_type": "markdown",
   "id": "2e2c6aba-ab98-417b-a6c4-9e8ced758758",
   "metadata": {
    "tags": []
   },
   "source": [
    "### Simulation backend initialization\n",
    "If you want to run the algorithm over a simulation, you can use Qiskit BaseEstimator, which does not need any real backend and relies on statevector simulation.\n",
    "\n",
    "Note that you could also define a custom Aer noise model and use an Aer version of the Estimator primitive. This feature will become available soon.\n"
   ]
  },
  {
   "cell_type": "code",
   "execution_count": 20,
   "id": "a478bf54-94a6-4fa9-9c96-9b991efba634",
   "metadata": {
    "ExecuteTime": {
     "end_time": "2024-02-21T01:55:36.776459Z",
     "start_time": "2024-02-21T01:55:36.768288Z"
    }
   },
   "outputs": [],
   "source": [
    "\"\"\"\n",
    "If using Qiskit native Estimator primitive\n",
    "(statevector simulation)\n",
    "\"\"\"\n",
    "\n",
    "no_backend = None"
   ]
  },
  {
   "cell_type": "markdown",
   "id": "420aab7a-0d0a-4f67-a4b7-aeda8bc980eb",
   "metadata": {},
   "source": [
    "### Choose backend and define Qiskit config dictionary\n",
    "Below, set the Backend that you would like to run among the above defined backend.\n",
    "Then define the config gathering all the components enabling the definition of the ```QuantumEnvironment```.\n",
    "\n"
   ]
  },
  {
   "cell_type": "code",
   "execution_count": 21,
   "id": "b6354a24-9ba2-4ea9-8e90-f803bfe90394",
   "metadata": {
    "ExecuteTime": {
     "end_time": "2024-02-21T01:55:37.463456Z",
     "start_time": "2024-02-21T01:55:37.461191Z"
    }
   },
   "outputs": [],
   "source": [
    "backend = no_backend"
   ]
  },
  {
   "cell_type": "code",
   "execution_count": 22,
   "id": "b30cb6e4-b1b1-4b25-8456-80a4ac731cfd",
   "metadata": {
    "ExecuteTime": {
     "end_time": "2024-02-21T01:55:37.906434Z",
     "start_time": "2024-02-21T01:55:37.902872Z"
    }
   },
   "outputs": [],
   "source": [
    "# Wrap all info in one dict Qiskit_setup\n",
    "Qiskit_setup = QiskitConfig(\n",
    "    parametrized_circuit=apply_parametrized_circuit,\n",
    "    backend=backend,\n",
    "    estimator_options=estimator_options,\n",
    ")"
   ]
  },
  {
   "cell_type": "markdown",
   "id": "2475763f-a14f-4ee0-bd4a-c68235351fd6",
   "metadata": {
    "tags": []
   },
   "source": [
    "## 2. Define quantum target: State preparation or Gate calibration\n",
    "\n",
    "The target of our optimal control task can be of two different types:\n",
    "1.  An arbitrary quantum state to prepare with high accuracy\n",
    "2. A Quantum Gate to be calibrated in a noise-robust manner\n",
    "\n",
    "Both targets are dictionaries that are identified with a key stating their ```target_type```, which can be either ```\"state\"``` or ```\"gate\"```.\n",
    "\n",
    "For a gate target $G$, one can add the target quantum gate with a ```\"gate\"``` argument specifying a specific instance of a Qiskit ```Gate``` object. Here, we settle for calibrating a ```CXGate()```.\n",
    "Moreover, a gate calibration requires a set of input states $\\{|s_i\\rangle \\}$ to be provided, such that the agent can try to set the actions such that the fidelity between the anticipated ideal target state (calculated as  $G|s_i\\rangle$) and the output state are simultaneously maximized. To ensure a correlation between the average reward computed from the measurement outcomes and the average gate fidelity, the provided set of input states must be tomographically complete.\n",
    "\n",
    "For a state target, one can provide, similarly to an input state, an ideal circuit to prepare it (```\"circuit\": QuantumCircuit```, or a density matrix (key ```\"dm\": DensityMatrix```).\n",
    "\n",
    "Another important key that should figure in the dictionary is the ```\"register\"``` indicating the qubits indices that should be addressed by this target, i.e. upon which qubits should the target be engineered.\n"
   ]
  },
  {
   "cell_type": "code",
   "execution_count": 23,
   "id": "adb3b2e1-c8de-4ea9-9dc6-604d2ae157b8",
   "metadata": {
    "ExecuteTime": {
     "end_time": "2024-02-21T01:55:38.488454Z",
     "start_time": "2024-02-21T01:55:38.486152Z"
    }
   },
   "outputs": [],
   "source": [
    "# Target gate: CNOT gate\n",
    "cnot_target = {\"gate\": CXGate(), \"physical_qubits\": qubit_tgt_register}"
   ]
  },
  {
   "cell_type": "code",
   "execution_count": 24,
   "id": "0e053f52-95a2-4eee-8e1b-e3e732459115",
   "metadata": {
    "ExecuteTime": {
     "end_time": "2024-02-21T01:55:38.942169Z",
     "start_time": "2024-02-21T01:55:38.938433Z"
    }
   },
   "outputs": [],
   "source": [
    "target = cnot_target"
   ]
  },
  {
   "cell_type": "markdown",
   "id": "b00afb10-d015-4418-ae10-882c08d73e3e",
   "metadata": {},
   "source": [
    "## 3. Declare QuantumEnvironment object\n",
    "Running the box below declares the QuantumEnvironment instance.\n"
   ]
  },
  {
   "cell_type": "code",
   "execution_count": 35,
   "id": "27a7ac8e-51e7-416f-ba48-968a50a5c446",
   "metadata": {
    "ExecuteTime": {
     "end_time": "2024-02-21T02:07:43.577250Z",
     "start_time": "2024-02-21T02:07:43.378603Z"
    }
   },
   "outputs": [
    {
     "name": "stdout",
     "output_type": "stream",
     "text": [
      "Sending Estimator job...\n",
      "SparsePauliOp(['II', 'IZ', 'ZI', 'ZZ'],\n",
      "              coeffs=[ 0.5+0.j, -0.5+0.j, -0.5+0.j,  0.5+0.j])\n",
      "Finished Estimator job\n"
     ]
    },
    {
     "name": "stderr",
     "output_type": "stream",
     "text": [
      "/Users/arthurostrauss/Library/CloudStorage/OneDrive-NationalUniversityofSingapore/Coding_projects/Quantum_Optimal_Control/helper_functions.py:1578: UserWarning: No Backend was provided, using default values for dt, coupling_map, basis_gates and instruction_durations\n",
      "  warnings.warn(\n"
     ]
    }
   ],
   "source": [
    "# Define quantum environment\n",
    "q_env_config = QEnvConfig(\n",
    "    target=target,\n",
    "    backend_config=Qiskit_setup,\n",
    "    action_space=action_space,\n",
    "    observation_space=observation_space,\n",
    "    batch_size=batchsize,\n",
    "    sampling_Paulis=sampling_Paulis,\n",
    "    n_shots=N_shots,\n",
    ")\n",
    "QuantumEnvironment.check_on_exp = False\n",
    "q_env = QuantumEnvironment(training_config=q_env_config)"
   ]
  },
  {
   "cell_type": "markdown",
   "id": "a1aaa472-18e0-4a37-8954-8b976466c9b2",
   "metadata": {},
   "source": [
    "# Defining the RL agent: PPO"
   ]
  },
  {
   "cell_type": "code",
   "execution_count": 36,
   "id": "13c83c50-a672-482c-95a2-47daebd7bd16",
   "metadata": {
    "ExecuteTime": {
     "end_time": "2024-02-21T02:07:47.580652Z",
     "start_time": "2024-02-21T02:07:47.576224Z"
    }
   },
   "outputs": [
    {
     "name": "stderr",
     "output_type": "stream",
     "text": [
      "WARNING:absl:At this time, the v2.11+ optimizer `tf.keras.optimizers.Adam` runs slowly on M1/M2 Macs, please use the legacy Keras optimizer instead, located at `tf.keras.optimizers.legacy.Adam`.\n"
     ]
    },
    {
     "name": "stdout",
     "output_type": "stream",
     "text": [
      "CPU times: user 1 µs, sys: 2 µs, total: 3 µs\n",
      "Wall time: 5.25 µs\n"
     ]
    }
   ],
   "source": [
    "\"\"\"\n",
    "-----------------------------------------------------------------------------------------------------\n",
    "Hyperparameters for RL agent\n",
    "-----------------------------------------------------------------------------------------------------\n",
    "\"\"\"\n",
    "\n",
    "%time\n",
    "\n",
    "n_epochs = 1000  # Number of epochs\n",
    "\n",
    "opti = \"Adam\"  # Optimizer choice\n",
    "eta = 0.0018  # Learning rate for policy update step\n",
    "eta_2 = None  # Learning rate for critic (value function) update step\n",
    "\n",
    "use_PPO = True\n",
    "epsilon = 0.1  # Parameter for clipping value (PPO)\n",
    "grad_clip = 0.02\n",
    "critic_loss_coeff = 0.5\n",
    "optimizer = select_optimizer(\n",
    "    lr=eta, optimizer=opti, grad_clip=grad_clip, concurrent_optimization=True, lr2=eta_2\n",
    ")\n",
    "sigma_eps = 1e-3  # for numerical stability"
   ]
  },
  {
   "cell_type": "code",
   "execution_count": 37,
   "id": "2518e6c9-80d0-4fc9-b51e-a176e8aa5a2e",
   "metadata": {
    "ExecuteTime": {
     "end_time": "2024-02-21T02:07:47.745674Z",
     "start_time": "2024-02-21T02:07:47.726023Z"
    }
   },
   "outputs": [
    {
     "name": "stdout",
     "output_type": "stream",
     "text": [
      "Model: \"model_1\"\n",
      "__________________________________________________________________________________________________\n",
      " Layer (type)                Output Shape                 Param #   Connected to                  \n",
      "==================================================================================================\n",
      " input_2 (InputLayer)        [(None, 1)]                  0         []                            \n",
      "                                                                                                  \n",
      " hidden_0 (Dense)            (None, 20)                   40        ['input_2[0][0]']             \n",
      "                                                                                                  \n",
      " hidden_1 (Dense)            (None, 20)                   420       ['hidden_0[0][0]']            \n",
      "                                                                                                  \n",
      " hidden_2 (Dense)            (None, 30)                   630       ['hidden_1[0][0]']            \n",
      "                                                                                                  \n",
      " mean_vec (Dense)            (None, 7)                    217       ['hidden_2[0][0]']            \n",
      "                                                                                                  \n",
      " sigma_vec (Dense)           (None, 7)                    217       ['hidden_2[0][0]']            \n",
      "                                                                                                  \n",
      " critic_output (Dense)       (None, 1)                    31        ['hidden_2[0][0]']            \n",
      "                                                                                                  \n",
      "==================================================================================================\n",
      "Total params: 1555 (6.07 KB)\n",
      "Trainable params: 1555 (6.07 KB)\n",
      "Non-trainable params: 0 (0.00 Byte)\n",
      "__________________________________________________________________________________________________\n"
     ]
    }
   ],
   "source": [
    "\"\"\"\n",
    "-----------------------------------------------------------------------------------------------------\n",
    "Policy parameters\n",
    "-----------------------------------------------------------------------------------------------------\n",
    "\"\"\"\n",
    "\n",
    "N_in = observation_space.shape[\n",
    "    -1\n",
    "]  # One input for each measured qubit state (0 or 1 input for each neuron)\n",
    "hidden_units = [20, 20, 30]  # List containing number of units in each hidden layer\n",
    "\n",
    "network = generate_model((N_in,), hidden_units, n_actions, actor_critic_together=True)\n",
    "network.summary()\n",
    "init_msmt = np.zeros(\n",
    "    (1, N_in)\n",
    ")  # Here no feedback involved, so measurement sequence is always the same"
   ]
  },
  {
   "cell_type": "code",
   "execution_count": 38,
   "id": "6d3f4d6c-89c6-484e-8013-2508b711757a",
   "metadata": {
    "ExecuteTime": {
     "end_time": "2024-02-21T02:07:47.886205Z",
     "start_time": "2024-02-21T02:07:47.884092Z"
    }
   },
   "outputs": [],
   "source": [
    "# Plotting tools\n",
    "plt.rcParams[\"figure.dpi\"] = 300\n",
    "plt.rcParams[\"savefig.dpi\"] = 300\n",
    "avg_return = np.zeros(n_epochs)\n",
    "fidelities = np.zeros(n_epochs)\n",
    "visualization_steps = 20\n",
    "%matplotlib inline"
   ]
  },
  {
   "cell_type": "markdown",
   "id": "51e905a2-cd98-4146-84fd-286ab0b710db",
   "metadata": {},
   "source": [
    "## Run algorithm"
   ]
  },
  {
   "cell_type": "code",
   "execution_count": 39,
   "id": "14cd804d-998c-43f0-8119-e28fb0e4c142",
   "metadata": {},
   "outputs": [
    {
     "data": {
      "image/png": "[encoded data removed]",
      "text/plain": [
       "<Figure size 1920x1440 with 1 Axes>"
      ]
     },
     "metadata": {},
     "output_type": "display_data"
    },
    {
     "name": "stderr",
     "output_type": "stream",
     "text": [
      " 98%|█████████▊| 981/1000 [06:28<00:08,  2.28it/s]"
     ]
    },
    {
     "name": "stdout",
     "output_type": "stream",
     "text": [
      "Maximum fidelity reached so far: 0.9723245372884478 at Epoch 540\n",
      "Starting benchmarking...\n",
      "Starting simulation benchmark...\n",
      "Avg gate fidelity: 0.9451461779040102\n",
      "Finished simulation benchmark\n",
      "Finished benchmarking\n",
      "Sending Estimator job...\n",
      "SparsePauliOp(['II', 'XY', 'YX', 'ZZ'],\n",
      "              coeffs=[ 0.5+0.j,  0.5+0.j, -0.5+0.j, -0.5+0.j])\n"
     ]
    },
    {
     "name": "stderr",
     "output_type": "stream",
     "text": [
      " 98%|█████████▊| 982/1000 [06:29<00:07,  2.39it/s]"
     ]
    },
    {
     "name": "stdout",
     "output_type": "stream",
     "text": [
      "Finished Estimator job\n",
      "Gate Fidelity 0.9451461779040102\n",
      "Starting benchmarking...\n",
      "Starting simulation benchmark...\n",
      "Avg gate fidelity: 0.9355993978092746\n",
      "Finished simulation benchmark\n",
      "Finished benchmarking\n",
      "Sending Estimator job...\n",
      "SparsePauliOp(['II', 'IZ', 'ZI', 'ZZ'],\n",
      "              coeffs=[0.5+0.j, 0.5+0.j, 0.5+0.j, 0.5+0.j])\n"
     ]
    },
    {
     "name": "stderr",
     "output_type": "stream",
     "text": [
      " 98%|█████████▊| 983/1000 [06:29<00:06,  2.50it/s]"
     ]
    },
    {
     "name": "stdout",
     "output_type": "stream",
     "text": [
      "Finished Estimator job\n",
      "Gate Fidelity 0.9355993978092746\n",
      "Starting benchmarking...\n",
      "Starting simulation benchmark...\n",
      "Avg gate fidelity: 0.9465509192377658\n",
      "Finished simulation benchmark\n",
      "Finished benchmarking\n",
      "Sending Estimator job...\n",
      "SparsePauliOp(['II', 'XY', 'YZ', 'ZX'],\n",
      "              coeffs=[ 0.5+0.j,  0.5+0.j,  0.5+0.j, -0.5+0.j])\n"
     ]
    },
    {
     "name": "stderr",
     "output_type": "stream",
     "text": [
      " 98%|█████████▊| 984/1000 [06:29<00:06,  2.56it/s]"
     ]
    },
    {
     "name": "stdout",
     "output_type": "stream",
     "text": [
      "Finished Estimator job\n",
      "Gate Fidelity 0.9465509192377658\n",
      "Starting benchmarking...\n",
      "Starting simulation benchmark...\n",
      "Avg gate fidelity: 0.9350709370726766\n",
      "Finished simulation benchmark\n",
      "Finished benchmarking\n",
      "Sending Estimator job...\n",
      "SparsePauliOp(['II', 'IZ', 'ZI', 'ZZ'],\n",
      "              coeffs=[ 0.5+0.j,  0.5+0.j, -0.5+0.j, -0.5+0.j])\n"
     ]
    },
    {
     "name": "stderr",
     "output_type": "stream",
     "text": [
      " 98%|█████████▊| 985/1000 [06:30<00:05,  2.64it/s]"
     ]
    },
    {
     "name": "stdout",
     "output_type": "stream",
     "text": [
      "Finished Estimator job\n",
      "Gate Fidelity 0.9350709370726766\n",
      "Starting benchmarking...\n",
      "Starting simulation benchmark...\n",
      "Avg gate fidelity: 0.9433791169698069\n",
      "Finished simulation benchmark\n",
      "Finished benchmarking\n",
      "Sending Estimator job...\n",
      "SparsePauliOp(['II', 'XY', 'YZ', 'ZX'],\n",
      "              coeffs=[ 0.5+0.j,  0.5+0.j,  0.5+0.j, -0.5+0.j])\n",
      "Finished Estimator job\n"
     ]
    },
    {
     "name": "stderr",
     "output_type": "stream",
     "text": [
      " 99%|█████████▊| 986/1000 [06:30<00:06,  2.24it/s]"
     ]
    },
    {
     "name": "stdout",
     "output_type": "stream",
     "text": [
      "Gate Fidelity 0.9433791169698069\n",
      "Starting benchmarking...\n",
      "Starting simulation benchmark...\n",
      "Avg gate fidelity: 0.9380234772306312\n",
      "Finished simulation benchmark\n",
      "Finished benchmarking\n",
      "Sending Estimator job...\n",
      "SparsePauliOp(['II', 'XY', 'YZ', 'ZX'],\n",
      "              coeffs=[ 0.5+0.j,  0.5+0.j,  0.5+0.j, -0.5+0.j])\n"
     ]
    },
    {
     "name": "stderr",
     "output_type": "stream",
     "text": [
      " 99%|█████████▊| 987/1000 [06:31<00:05,  2.37it/s]"
     ]
    },
    {
     "name": "stdout",
     "output_type": "stream",
     "text": [
      "Finished Estimator job\n",
      "Gate Fidelity 0.9380234772306312\n",
      "Starting benchmarking...\n",
      "Starting simulation benchmark...\n",
      "Avg gate fidelity: 0.9420059264841143\n",
      "Finished simulation benchmark\n",
      "Finished benchmarking\n",
      "Sending Estimator job...\n",
      "SparsePauliOp(['II', 'XX', 'YZ', 'ZY'],\n",
      "              coeffs=[0.5+0.j, 0.5+0.j, 0.5+0.j, 0.5+0.j])\n"
     ]
    },
    {
     "name": "stderr",
     "output_type": "stream",
     "text": [
      " 99%|█████████▉| 988/1000 [06:31<00:04,  2.47it/s]"
     ]
    },
    {
     "name": "stdout",
     "output_type": "stream",
     "text": [
      "Finished Estimator job\n",
      "Gate Fidelity 0.9420059264841143\n",
      "Starting benchmarking...\n",
      "Starting simulation benchmark...\n",
      "Avg gate fidelity: 0.9414480251363413\n",
      "Finished simulation benchmark\n",
      "Finished benchmarking\n",
      "Sending Estimator job...\n",
      "SparsePauliOp(['II', 'XX', 'YZ', 'ZY'],\n",
      "              coeffs=[0.5+0.j, 0.5+0.j, 0.5+0.j, 0.5+0.j])\n"
     ]
    },
    {
     "name": "stderr",
     "output_type": "stream",
     "text": [
      " 99%|█████████▉| 989/1000 [06:32<00:04,  2.55it/s]"
     ]
    },
    {
     "name": "stdout",
     "output_type": "stream",
     "text": [
      "Finished Estimator job\n",
      "Gate Fidelity 0.9414480251363413\n",
      "Starting benchmarking...\n",
      "Starting simulation benchmark...\n",
      "Avg gate fidelity: 0.9445575945880559\n",
      "Finished simulation benchmark\n",
      "Finished benchmarking\n",
      "Sending Estimator job...\n",
      "SparsePauliOp(['II', 'IZ', 'ZI', 'ZZ'],\n",
      "              coeffs=[ 0.5+0.j, -0.5+0.j,  0.5+0.j, -0.5+0.j])\n"
     ]
    },
    {
     "name": "stderr",
     "output_type": "stream",
     "text": [
      " 99%|█████████▉| 990/1000 [06:32<00:03,  2.63it/s]"
     ]
    },
    {
     "name": "stdout",
     "output_type": "stream",
     "text": [
      "Finished Estimator job\n",
      "Gate Fidelity 0.9445575945880559\n",
      "Starting benchmarking...\n",
      "Starting simulation benchmark...\n",
      "Avg gate fidelity: 0.9435517990021943\n",
      "Finished simulation benchmark\n",
      "Finished benchmarking\n",
      "Sending Estimator job...\n",
      "SparsePauliOp(['II', 'IZ', 'ZI', 'ZZ'],\n",
      "              coeffs=[ 0.5+0.j,  0.5+0.j, -0.5+0.j, -0.5+0.j])\n"
     ]
    },
    {
     "name": "stderr",
     "output_type": "stream",
     "text": [
      " 99%|█████████▉| 991/1000 [06:32<00:03,  2.70it/s]"
     ]
    },
    {
     "name": "stdout",
     "output_type": "stream",
     "text": [
      "Finished Estimator job\n",
      "Gate Fidelity 0.9435517990021943\n",
      "Starting benchmarking...\n",
      "Starting simulation benchmark...\n",
      "Avg gate fidelity: 0.9471301684512823\n",
      "Finished simulation benchmark\n",
      "Finished benchmarking\n",
      "Sending Estimator job...\n",
      "SparsePauliOp(['II', 'IZ', 'ZI', 'ZZ'],\n",
      "              coeffs=[ 0.5+0.j,  0.5+0.j, -0.5+0.j, -0.5+0.j])\n"
     ]
    },
    {
     "name": "stderr",
     "output_type": "stream",
     "text": [
      " 99%|█████████▉| 992/1000 [06:33<00:02,  2.75it/s]"
     ]
    },
    {
     "name": "stdout",
     "output_type": "stream",
     "text": [
      "Finished Estimator job\n",
      "Gate Fidelity 0.9471301684512823\n",
      "Starting benchmarking...\n",
      "Starting simulation benchmark...\n",
      "Avg gate fidelity: 0.9523070661318165\n",
      "Finished simulation benchmark\n",
      "Finished benchmarking\n",
      "Sending Estimator job...\n",
      "SparsePauliOp(['II', 'XX', 'YY', 'ZZ'],\n",
      "              coeffs=[ 0.5+0.j,  0.5+0.j, -0.5+0.j,  0.5+0.j])\n"
     ]
    },
    {
     "name": "stderr",
     "output_type": "stream",
     "text": [
      " 99%|█████████▉| 993/1000 [06:33<00:02,  2.78it/s]"
     ]
    },
    {
     "name": "stdout",
     "output_type": "stream",
     "text": [
      "Finished Estimator job\n",
      "Gate Fidelity 0.9523070661318165\n",
      "Starting benchmarking...\n",
      "Starting simulation benchmark...\n"
     ]
    },
    {
     "name": "stderr",
     "output_type": "stream",
     "text": [
      " 99%|█████████▉| 994/1000 [06:33<00:02,  2.37it/s]"
     ]
    },
    {
     "name": "stdout",
     "output_type": "stream",
     "text": [
      "Avg gate fidelity: 0.9543086094832544\n",
      "Finished simulation benchmark\n",
      "Finished benchmarking\n",
      "Sending Estimator job...\n",
      "SparsePauliOp(['II', 'XY', 'YX', 'ZZ'],\n",
      "              coeffs=[0.5+0.j, 0.5+0.j, 0.5+0.j, 0.5+0.j])\n",
      "Finished Estimator job\n",
      "Gate Fidelity 0.9543086094832544\n",
      "Starting benchmarking...\n",
      "Starting simulation benchmark...\n",
      "Avg gate fidelity: 0.94819771545988\n",
      "Finished simulation benchmark\n",
      "Finished benchmarking\n",
      "Sending Estimator job...\n",
      "SparsePauliOp(['II', 'IZ', 'ZI', 'ZZ'],\n",
      "              coeffs=[0.5+0.j, 0.5+0.j, 0.5+0.j, 0.5+0.j])\n"
     ]
    },
    {
     "name": "stderr",
     "output_type": "stream",
     "text": [
      "100%|█████████▉| 995/1000 [06:34<00:01,  2.51it/s]"
     ]
    },
    {
     "name": "stdout",
     "output_type": "stream",
     "text": [
      "Finished Estimator job\n",
      "Gate Fidelity 0.94819771545988\n",
      "Starting benchmarking...\n",
      "Starting simulation benchmark...\n",
      "Avg gate fidelity: 0.9544577418093682\n",
      "Finished simulation benchmark\n",
      "Finished benchmarking\n",
      "Sending Estimator job...\n",
      "SparsePauliOp(['II', 'IZ', 'XI', 'XZ'],\n",
      "              coeffs=[0.5+0.j, 0.5+0.j, 0.5+0.j, 0.5+0.j])\n"
     ]
    },
    {
     "name": "stderr",
     "output_type": "stream",
     "text": [
      "100%|█████████▉| 996/1000 [06:34<00:01,  2.61it/s]"
     ]
    },
    {
     "name": "stdout",
     "output_type": "stream",
     "text": [
      "Finished Estimator job\n",
      "Gate Fidelity 0.9544577418093682\n",
      "Starting benchmarking...\n",
      "Starting simulation benchmark...\n",
      "Avg gate fidelity: 0.955620307035773\n",
      "Finished simulation benchmark\n",
      "Finished benchmarking\n",
      "Sending Estimator job...\n",
      "SparsePauliOp(['II', 'XX', 'YZ', 'ZY'],\n",
      "              coeffs=[0.5+0.j, 0.5+0.j, 0.5+0.j, 0.5+0.j])\n"
     ]
    },
    {
     "name": "stderr",
     "output_type": "stream",
     "text": [
      "100%|█████████▉| 997/1000 [06:35<00:01,  2.66it/s]"
     ]
    },
    {
     "name": "stdout",
     "output_type": "stream",
     "text": [
      "Finished Estimator job\n",
      "Gate Fidelity 0.955620307035773\n",
      "Starting benchmarking...\n",
      "Starting simulation benchmark...\n",
      "Avg gate fidelity: 0.9487189239609235\n",
      "Finished simulation benchmark\n",
      "Finished benchmarking\n",
      "Sending Estimator job...\n",
      "SparsePauliOp(['II', 'IZ', 'XI', 'XZ'],\n",
      "              coeffs=[ 0.5+0.j, -0.5+0.j,  0.5+0.j, -0.5+0.j])\n"
     ]
    },
    {
     "name": "stderr",
     "output_type": "stream",
     "text": [
      "100%|█████████▉| 998/1000 [06:35<00:00,  2.70it/s]"
     ]
    },
    {
     "name": "stdout",
     "output_type": "stream",
     "text": [
      "Finished Estimator job\n",
      "Gate Fidelity 0.9487189239609235\n",
      "Starting benchmarking...\n",
      "Starting simulation benchmark...\n",
      "Avg gate fidelity: 0.9482694032306661\n",
      "Finished simulation benchmark\n",
      "Finished benchmarking\n",
      "Sending Estimator job...\n",
      "SparsePauliOp(['II', 'IZ', 'XI', 'XZ'],\n",
      "              coeffs=[0.5+0.j, 0.5+0.j, 0.5+0.j, 0.5+0.j])\n"
     ]
    },
    {
     "name": "stderr",
     "output_type": "stream",
     "text": [
      "100%|█████████▉| 999/1000 [06:35<00:00,  2.75it/s]"
     ]
    },
    {
     "name": "stdout",
     "output_type": "stream",
     "text": [
      "Finished Estimator job\n",
      "Gate Fidelity 0.9482694032306661\n",
      "Starting benchmarking...\n",
      "Starting simulation benchmark...\n",
      "Avg gate fidelity: 0.9538024576495097\n",
      "Finished simulation benchmark\n",
      "Finished benchmarking\n",
      "Sending Estimator job...\n",
      "SparsePauliOp(['II', 'XX', 'YY', 'ZZ'],\n",
      "              coeffs=[ 0.5+0.j,  0.5+0.j, -0.5+0.j,  0.5+0.j])\n"
     ]
    },
    {
     "name": "stderr",
     "output_type": "stream",
     "text": [
      "100%|██████████| 1000/1000 [06:36<00:00,  2.52it/s]"
     ]
    },
    {
     "name": "stdout",
     "output_type": "stream",
     "text": [
      "Finished Estimator job\n",
      "Gate Fidelity 0.9538024576495097\n"
     ]
    },
    {
     "name": "stderr",
     "output_type": "stream",
     "text": [
      "\n"
     ]
    }
   ],
   "source": [
    "\"\"\"\n",
    "-----------------------------------------------------------------------------------------------------\n",
    "Training loop\n",
    "-----------------------------------------------------------------------------------------------------\n",
    "\"\"\"\n",
    "\n",
    "# TODO: Use TF-Agents PPO Agent\n",
    "mu_old = tf.Variable(initial_value=network(init_msmt)[0][0], trainable=False)\n",
    "sigma_old = tf.Variable(initial_value=network(init_msmt)[1][0], trainable=False)\n",
    "\n",
    "for i in tqdm(range(n_epochs)):\n",
    "    Old_distrib = MultivariateNormalDiag(\n",
    "        loc=mu_old, scale_diag=sigma_old, validate_args=True, allow_nan_stats=False\n",
    "    )\n",
    "    obs, _ = q_env.reset()\n",
    "    with tf.GradientTape(persistent=True) as tape:\n",
    "        mu, sigma, b = network(obs, training=True)\n",
    "        mu = tf.squeeze(mu, axis=0)\n",
    "        sigma = tf.squeeze(sigma, axis=0)\n",
    "        b = tf.squeeze(b, axis=0)\n",
    "\n",
    "        Policy_distrib = MultivariateNormalDiag(\n",
    "            loc=mu, scale_diag=sigma, validate_args=True, allow_nan_stats=False\n",
    "        )\n",
    "\n",
    "        action_vector = tf.stop_gradient(\n",
    "            tf.clip_by_value(Policy_distrib.sample(batchsize), -1.0, 1.0)\n",
    "        )\n",
    "\n",
    "        reward = q_env.perform_action(action_vector)\n",
    "        advantage = reward - b\n",
    "\n",
    "        if use_PPO:\n",
    "            ratio = Policy_distrib.prob(action_vector) / (\n",
    "                    tf.stop_gradient(Old_distrib.prob(action_vector)) + 1e-6\n",
    "            )\n",
    "            actor_loss = -tf.reduce_mean(\n",
    "                tf.minimum(\n",
    "                    advantage * ratio,\n",
    "                    advantage * tf.clip_by_value(ratio, 1 - epsilon, 1 + epsilon),\n",
    "                )\n",
    "            )\n",
    "        else:  # REINFORCE algorithm\n",
    "            actor_loss = -tf.reduce_mean(\n",
    "                advantage * Policy_distrib.log_prob(action_vector)\n",
    "            )\n",
    "\n",
    "        critic_loss = tf.reduce_mean(advantage ** 2)\n",
    "        combined_loss = actor_loss + critic_loss_coeff * critic_loss\n",
    "\n",
    "    grads = tape.gradient(combined_loss, network.trainable_variables)\n",
    "\n",
    "    # For PPO, update old parameters to have access to \"old\" policy\n",
    "    if use_PPO:\n",
    "        mu_old.assign(mu)\n",
    "        sigma_old.assign(sigma)\n",
    "    if q_env.do_benchmark():\n",
    "        avg_return[i] = np.mean(q_env.reward_history, axis=1)[i]\n",
    "        fidelities[i] = q_env.avg_fidelity_history[i]\n",
    "    print(\"Gate Fidelity\", fidelities[i])\n",
    "    if i % visualization_steps == 0:\n",
    "        clear_output(wait=True)  # for animation\n",
    "        fig, ax = plt.subplots()\n",
    "        ax.plot(\n",
    "            np.arange(1, n_epochs, 20),\n",
    "            avg_return[0:-1:visualization_steps],\n",
    "            \"-.\",\n",
    "            label=\"Average return\",\n",
    "        )\n",
    "        ax.plot(\n",
    "            np.arange(1, n_epochs, 20),\n",
    "            fidelities[0:-1:visualization_steps],\n",
    "            label=\"Average Gate Fidelity\",\n",
    "        )\n",
    "        ax.set_xlabel(\"Epoch\")\n",
    "        ax.set_ylabel(\"State Fidelity\")\n",
    "        ax.legend()\n",
    "        plt.show()\n",
    "        print(\n",
    "            \"Maximum fidelity reached so far:\",\n",
    "            np.max(fidelities),\n",
    "            \"at Epoch\",\n",
    "            np.argmax(fidelities),\n",
    "        )\n",
    "\n",
    "    # Apply gradients\n",
    "    optimizer.apply_gradients(zip(grads, network.trainable_variables))\n",
    "if isinstance(q_env.estimator, Estimator):\n",
    "    q_env.estimator.session.close()"
   ]
  },
  {
   "cell_type": "code",
   "execution_count": 31,
   "id": "27018b75-3a90-4344-a2b8-8fba79336fb6",
   "metadata": {
    "ExecuteTime": {
     "end_time": "2024-02-21T01:57:26.233024Z",
     "start_time": "2024-02-21T01:57:26.211893Z"
    }
   },
   "outputs": [
    {
     "name": "stdout",
     "output_type": "stream",
     "text": [
      "Maximum fidelity reached: 0.0 at Epoch  0\n"
     ]
    },
    {
     "ename": "IndexError",
     "evalue": "list index out of range",
     "output_type": "error",
     "traceback": [
      "\u001b[0;31m---------------------------------------------------------------------------\u001b[0m",
      "\u001b[0;31mIndexError\u001b[0m                                Traceback (most recent call last)",
      "Cell \u001b[0;32mIn[31], line 6\u001b[0m\n\u001b[1;32m      1\u001b[0m \u001b[38;5;28mprint\u001b[39m(\n\u001b[1;32m      2\u001b[0m     \u001b[38;5;124m\"\u001b[39m\u001b[38;5;124mMaximum fidelity reached:\u001b[39m\u001b[38;5;124m\"\u001b[39m, np\u001b[38;5;241m.\u001b[39mmax(fidelities), \u001b[38;5;124m\"\u001b[39m\u001b[38;5;124mat Epoch \u001b[39m\u001b[38;5;124m\"\u001b[39m, np\u001b[38;5;241m.\u001b[39margmax(fidelities)\n\u001b[1;32m      3\u001b[0m )\n\u001b[1;32m      4\u001b[0m \u001b[38;5;28mprint\u001b[39m(\n\u001b[1;32m      5\u001b[0m     \u001b[38;5;124m\"\u001b[39m\u001b[38;5;124mActions yielding optimal fidelity:\u001b[39m\u001b[38;5;124m\"\u001b[39m,\n\u001b[0;32m----> 6\u001b[0m     np\u001b[38;5;241m.\u001b[39mmean(q_env\u001b[38;5;241m.\u001b[39maction_history[np\u001b[38;5;241m.\u001b[39margmax(fidelities)], axis\u001b[38;5;241m=\u001b[39m\u001b[38;5;241m0\u001b[39m),\n\u001b[1;32m      7\u001b[0m )\n",
      "\u001b[0;31mIndexError\u001b[0m: list index out of range"
     ]
    }
   ],
   "source": [
    "print(\n",
    "    \"Maximum fidelity reached:\", np.max(fidelities), \"at Epoch \", np.argmax(fidelities)\n",
    ")\n",
    "print(\n",
    "    \"Actions yielding optimal fidelity:\",\n",
    "    np.mean(q_env.action_history[np.argmax(fidelities)], axis=0),\n",
    ")"
   ]
  },
  {
   "cell_type": "code",
   "execution_count": null,
   "id": "57537f660aa7fb1b",
   "metadata": {
    "collapsed": false
   },
   "outputs": [],
   "source": []
  }
 ],
 "metadata": {
  "kernelspec": {
   "display_name": "Python 3 (ipykernel)",
   "language": "python",
   "name": "python3"
  },
  "language_info": {
   "codemirror_mode": {
    "name": "ipython",
    "version": 3
   },
   "file_extension": ".py",
   "mimetype": "text/x-python",
   "name": "python",
   "nbconvert_exporter": "python",
   "pygments_lexer": "ipython3",
   "version": "3.9.6"
  }
 },
 "nbformat": 4,
 "nbformat_minor": 5
}

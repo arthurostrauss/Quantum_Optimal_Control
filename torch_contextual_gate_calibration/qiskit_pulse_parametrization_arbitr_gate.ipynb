{
 "cells": [
  {
   "attachments": {},
   "cell_type": "markdown",
   "metadata": {},
   "source": [
    "### This notebook shall be used to experiment on how to generalize the code in a way that, given an input parameters, a gate can be calibrated. So, to move away from the hardcoded version"
   ]
  },
  {
   "cell_type": "code",
   "execution_count": 1,
   "metadata": {},
   "outputs": [
    {
     "name": "stderr",
     "output_type": "stream",
     "text": [
      "/Users/lukasvoss/Library/Python/3.9/lib/python/site-packages/qiskit_dynamics/dispatch/backends/jax.py:34: UserWarning: The functionality in the perturbation module of Qiskit Dynamics requires a JAX version <= 0.4.6, due to a bug in JAX versions > 0.4.6. For versions 0.4.4, 0.4.5, and 0.4.6, using the perturbation module functionality requires setting os.environ['JAX_JIT_PJIT_API_MERGE'] = '0' before importing JAX or Dynamics.\n",
      "  warnings.warn(\n"
     ]
    }
   ],
   "source": [
    "import os\n",
    "import sys\n",
    "import numpy as np\n",
    "import tqdm\n",
    "from typing import Optional, Union, List\n",
    "\n",
    "module_path = os.path.abspath(os.path.join('/Users/lukasvoss/Documents/Master Wirtschaftsphysik/Masterarbeit Yale-NUS CQT/Quantum_Optimal_Control'))\n",
    "if module_path not in sys.path:\n",
    "    sys.path.append(module_path)\n",
    "\n",
    "from basis_gate_library import FixedFrequencyTransmon\n",
    "from helper_functions import remove_unused_wires, get_control_channel_map, get_solver_and_freq_from_backend\n",
    "from quantumenvironment import QuantumEnvironment\n",
    "\n",
    "import jax\n",
    "jax.config.update(\"jax_enable_x64\", True)\n",
    "# tell JAX we are using CPU\n",
    "jax.config.update(\"jax_platform_name\", \"cpu\")\n",
    "# import Array and set default backend\n",
    "from qiskit_dynamics.array import Array\n",
    "Array.set_default_backend('jax')"
   ]
  },
  {
   "cell_type": "code",
   "execution_count": 2,
   "metadata": {},
   "outputs": [],
   "source": [
    "from qiskit import pulse, transpile, schedule\n",
    "from qiskit_dynamics.backend.dynamics_backend import _get_backend_channel_freqs, DynamicsBackend\n",
    "from qiskit_dynamics import Solver\n",
    "from qiskit.circuit import QuantumCircuit, QuantumRegister, ParameterVector, Gate\n",
    "from qiskit.circuit.library.standard_gates import ECRGate, SXGate, XGate\n",
    "from qiskit.providers import Backend, BackendV1, BackendV2\n",
    "from qiskit.transpiler import CouplingMap\n",
    "from qiskit_experiments.calibration_management import Calibrations\n",
    "from qiskit.pulse.library import Gaussian\n",
    "from qiskit.providers.fake_provider import FakeValencia, FakeJakarta, FakeJakartaV2, FakeHanoi, FakeCairo, FakeCambridge\n",
    "from qiskit.visualization import plot_coupling_map, plot_circuit_layout, gate_map, plot_gate_map\n",
    "from qiskit.visualization.pulse_v2 import IQXStandard\n",
    "from qiskit_ibm_runtime.options import Options, ExecutionOptions, EnvironmentOptions\n",
    "from qconfig import QiskitConfig\n",
    "\n",
    "# Circuit context and Reinforcement Learning libraries\n",
    "import gymnasium as gym\n",
    "from gymnasium.spaces import Box, Space\n",
    "\n",
    "from IPython.display import clear_output\n",
    "\n",
    "from torch.distributions import Normal\n",
    "\n",
    "module_path = os.path.abspath(os.path.join('/Users/lukasvoss/Documents/Master Wirtschaftsphysik/Masterarbeit Yale-NUS CQT/Quantum_Optimal_Control/torch_contextual_gate_calibration'))\n",
    "if module_path not in sys.path:\n",
    "    sys.path.append(module_path)\n",
    "from torch_quantum_environment import TorchQuantumEnvironment"
   ]
  },
  {
   "cell_type": "code",
   "execution_count": 3,
   "metadata": {},
   "outputs": [
    {
     "name": "stdout",
     "output_type": "stream",
     "text": [
      "Backend basis gates: ['id', 'rz', 'sx', 'x', 'cx', 'reset']\n"
     ]
    },
    {
     "data": {
      "image/png": "[encoded data removed]",
      "text/plain": [
       "<Figure size 500x500 with 1 Axes>"
      ]
     },
     "execution_count": 3,
     "metadata": {},
     "output_type": "execute_result"
    }
   ],
   "source": [
    "fake_backend = FakeJakarta() # FakeHanoi() # FakeJakarta() # mimics the bahaviour of a 7-qubits hardware\n",
    "fake_backend_v2 = FakeJakartaV2()\n",
    "\n",
    "print('Backend basis gates:', fake_backend.configuration().basis_gates)\n",
    "plot_gate_map(fake_backend)"
   ]
  },
  {
   "cell_type": "code",
   "execution_count": 4,
   "metadata": {},
   "outputs": [],
   "source": [
    "def get_gate_params(backend, physical_qubits, gate_str):\n",
    "    \"\"\"\n",
    "    Retrieve parameters for an SX gate from a quantum backend.\n",
    "\n",
    "    This function retrieves the default parameters for an SX gate, including amplitude, beta, sigma, and duration,\n",
    "    from a given quantum backend.\n",
    "\n",
    "    Parameters:\n",
    "    - backend (Backend): The quantum backend from which to retrieve the parameters.\n",
    "    - physical_qubits (Union[int, tuple, list]): The physical qubits on which the SX gate is applied.\n",
    "    \n",
    "    Returns:\n",
    "    - default_params (dict): A dictionary containing default parameters for the SX gate.\n",
    "    - basis_gate_instructions (InstructionSchedule): The instruction schedule for the SX gate.\n",
    "    - instructions_array (numpy.ndarray): An array of instructions for the SX gate.\n",
    "    \"\"\"\n",
    "\n",
    "\n",
    "    if isinstance(backend, BackendV1):\n",
    "        instruction_schedule_map = backend.defaults().instruction_schedule_map\n",
    "    else:\n",
    "        instruction_schedule_map = backend.target.instruction_schedule_map()\n",
    "\n",
    "    basis_gate_instructions = instruction_schedule_map.get(gate_str, qubits=physical_qubits)\n",
    "    \n",
    "    instructions_array = np.array(basis_gate_instructions.instructions)[:,1]\n",
    "\n",
    "    gate_pulse = basis_gate_instructions.instructions[0][1].pulse \n",
    "\n",
    "    default_params = {\n",
    "        (\"amp\", physical_qubits, gate_str): gate_pulse.amp,\n",
    "        # (\"angle\", physical_qubits, \"sx\"): gate_pulse.angle,\n",
    "        (\"β\", physical_qubits, gate_str): gate_pulse.beta,\n",
    "        (\"σ\", physical_qubits, gate_str): gate_pulse.sigma,\n",
    "        (\"duration\", physical_qubits, gate_str): gate_pulse.duration\n",
    "    }\n",
    "\n",
    "    return default_params, basis_gate_instructions, instructions_array"
   ]
  },
  {
   "cell_type": "code",
   "execution_count": 5,
   "metadata": {},
   "outputs": [],
   "source": [
    "def custom_sx_schedule(backend: Backend, physical_qubits=Union[int, tuple, list], params: ParameterVector=None, gate_str: str=None):\n",
    "    \"\"\"\n",
    "    Generate a custom parameterized schedule for an SX gate.\n",
    "\n",
    "    This function generates a custom parameterized schedule for an SX gate on specified physical qubits\n",
    "    with the given parameters.\n",
    "\n",
    "    Parameters:\n",
    "    - backend (Backend): The quantum backend used to obtain default SX gate parameters.\n",
    "    - physical_qubits (Union[int, tuple, list]): The physical qubits on which the SX gate is applied.\n",
    "    - params (ParameterVector, optional): The parameter vector specifying the custom parameters for the SX gate.\n",
    "\n",
    "    Returns:\n",
    "    - parametrized_schedule (Schedule): A parameterized schedule for the SX gate with custom parameters.\n",
    "    \"\"\"\n",
    "    \n",
    "    # pulse_features = [\"amp\", \"angle\", \"β\", \"σ\"]\n",
    "    pulse_features = ['amp', 'β', 'σ'] # , 'duration']\n",
    " \n",
    "    global n_actions\n",
    "    assert n_actions == len(params), f\"Number of actions ({n_actions}) does not match length of ParameterVector {params.name} ({len(params)})\" \n",
    "\n",
    "    if isinstance(physical_qubits, int):\n",
    "        physical_qubits = tuple(physical_qubits)\n",
    "\n",
    "    new_params, _, _ = get_gate_params(backend=fake_backend, physical_qubits=physical_qubits, gate_str=gate_str)\n",
    "\n",
    "    for i, feature in enumerate(pulse_features):\n",
    "        new_params[(feature, physical_qubits, gate_str)] += params[i]\n",
    "\n",
    "    print('New Pulse Parameter', new_params)\n",
    "\n",
    "    cals = Calibrations.from_backend(backend, [FixedFrequencyTransmon(['x', 'sx'])],\n",
    "                                        add_parameter_defaults=True)\n",
    "    \n",
    "    parametrized_schedule = cals.get_schedule(gate_str, physical_qubits, assign_params=new_params)\n",
    "\n",
    "    return parametrized_schedule"
   ]
  },
  {
   "cell_type": "code",
   "execution_count": 6,
   "metadata": {},
   "outputs": [],
   "source": [
    "def add_parametrized_circuit(qc: QuantumCircuit, params: Optional[ParameterVector]=None, tgt_register: Optional[QuantumRegister]=None, gate_str: str=None):\n",
    "    \"\"\"\n",
    "    Add a parametrized gate to a QuantumCircuit.\n",
    "\n",
    "    This function adds a parametrized gate to a given QuantumCircuit with optional custom parameters and target register.\n",
    "\n",
    "    Parameters:\n",
    "    - qc (QuantumCircuit): The QuantumCircuit to which the parametrized gate will be added.\n",
    "    - params (ParameterVector, optional): The parameter vector specifying the custom parameters for the gate.\n",
    "    - tgt_register (QuantumRegister, optional): The target quantum register for applying the parametrized gate.\n",
    "    \"\"\"\n",
    "    \n",
    "    global n_actions, fake_backend, target\n",
    "\n",
    "    gate, physical_qubits = target[\"gate\"], target[\"register\"]\n",
    "    physical_qubits = tuple(physical_qubits)\n",
    "\n",
    "    if params is None:\n",
    "        params = ParameterVector('theta', n_actions)\n",
    "    if tgt_register is None:\n",
    "        tgt_register = qc.qregs[0]\n",
    "\n",
    "    name = gate_str + '_cal'\n",
    "    parametrized_gate = Gate(name=name, num_qubits=1, params=params)\n",
    "    parametrized_schedule = custom_sx_schedule(backend=fake_backend, physical_qubits=physical_qubits, params=params, gate_str=gate_str)\n",
    "    qc.add_calibration(parametrized_gate, physical_qubits, parametrized_schedule)\n",
    "    qc.append(parametrized_gate, tgt_register)"
   ]
  },
  {
   "attachments": {},
   "cell_type": "markdown",
   "metadata": {},
   "source": [
    "# Example of a target gate: X"
   ]
  },
  {
   "cell_type": "code",
   "execution_count": 7,
   "metadata": {},
   "outputs": [
    {
     "name": "stdout",
     "output_type": "stream",
     "text": [
      "{'gate': Instruction(name='x', num_qubits=1, num_clbits=0, params=[]), 'register': [0]}\n"
     ]
    }
   ],
   "source": [
    "# SX gate as the target gate\n",
    "gate_str = 'x'\n",
    "target = {\"gate\": XGate(), \"register\": [0]}\n",
    "print(target)"
   ]
  },
  {
   "attachments": {},
   "cell_type": "markdown",
   "metadata": {},
   "source": [
    "##### Quantum Circuit context"
   ]
  },
  {
   "cell_type": "code",
   "execution_count": 8,
   "metadata": {},
   "outputs": [
    {
     "name": "stdout",
     "output_type": "stream",
     "text": [
      "Initital Circuit\n"
     ]
    },
    {
     "data": {
      "image/png": "[encoded data removed]",
      "text/plain": [
       "<Figure size 352.675x117.056 with 1 Axes>"
      ]
     },
     "execution_count": 8,
     "metadata": {},
     "output_type": "execute_result"
    }
   ],
   "source": [
    "target_circuit = QuantumCircuit(1)\n",
    "target_circuit.x(0)\n",
    "target_circuit.h(0)\n",
    "target_circuit.y(0)\n",
    "# target_circuit.x(1)\n",
    "print('Initital Circuit')\n",
    "target_circuit.draw(\"mpl\")"
   ]
  },
  {
   "cell_type": "code",
   "execution_count": 10,
   "metadata": {},
   "outputs": [
    {
     "name": "stdout",
     "output_type": "stream",
     "text": [
      "New Pulse Parameter {('amp', (0,), 'x'): ParameterExpression(theta[0] + 0.201221141168479), ('β', (0,), 'x'): ParameterExpression(theta[1] - 1.0205387662333), ('σ', (0,), 'x'): ParameterExpression(theta[2] + 40), ('duration', (0,), 'x'): 160}\n"
     ]
    }
   ],
   "source": [
    "n_actions = 3\n",
    "add_parametrized_circuit(qc=QuantumCircuit(1), tgt_register=[0], gate_str=gate_str)"
   ]
  },
  {
   "attachments": {},
   "cell_type": "markdown",
   "metadata": {},
   "source": [
    "Transpile the (context) quantum circuit to the provided (Fake-) Backend"
   ]
  },
  {
   "cell_type": "code",
   "execution_count": 11,
   "metadata": {},
   "outputs": [
    {
     "name": "stdout",
     "output_type": "stream",
     "text": [
      "Transpiled Circuit\n"
     ]
    },
    {
     "data": {
      "image/png": "[encoded data removed]",
      "text/plain": [
       "<Figure size 422.982x117.056 with 1 Axes>"
      ]
     },
     "execution_count": 11,
     "metadata": {},
     "output_type": "execute_result"
    }
   ],
   "source": [
    "# target_circuit.measure_all()\n",
    "transpiled_circ = transpile(target_circuit, fake_backend, \n",
    "                              initial_layout=[0],\n",
    "                              basis_gates=fake_backend.configuration().basis_gates, \n",
    "                              # scheduling_method='asap',\n",
    "                              optimization_level=1)\n",
    "print('Transpiled Circuit')\n",
    "remove_unused_wires(transpiled_circ).draw(\"mpl\")"
   ]
  },
  {
   "attachments": {},
   "cell_type": "markdown",
   "metadata": {},
   "source": [
    "Visualization of the \"context\" quantum circuit as a pulse sequence that the parametrized SX gate will then be added to"
   ]
  },
  {
   "cell_type": "code",
   "execution_count": 12,
   "metadata": {},
   "outputs": [
    {
     "data": {
      "image/png": "[encoded data removed]",
      "text/plain": [
       "<Figure size 1300x165 with 1 Axes>"
      ]
     },
     "execution_count": 12,
     "metadata": {},
     "output_type": "execute_result"
    }
   ],
   "source": [
    "# schedule = build_schedule(transpiled_circ, fake_backend)\n",
    "sched01 = schedule(transpiled_circ, fake_backend)\n",
    "sched01.draw(backend=fake_backend, style=IQXStandard())"
   ]
  },
  {
   "cell_type": "code",
   "execution_count": 13,
   "metadata": {},
   "outputs": [
    {
     "name": "stdout",
     "output_type": "stream",
     "text": [
      "Target gate: {'gate': Instruction(name='x', num_qubits=1, num_clbits=0, params=[]), 'register': [0]}\n"
     ]
    }
   ],
   "source": [
    "n_actions = 4 # number of parameters for the SX gate : amplitude and angle\n",
    "print('Target gate:', target)\n",
    "\n",
    "params = ParameterVector('theta', n_actions)\n",
    "\n",
    "qubit = target[\"register\"]\n",
    "physical_qubits = tuple(qubit)"
   ]
  },
  {
   "attachments": {},
   "cell_type": "markdown",
   "metadata": {},
   "source": [
    "Add the parameterized SX gate to the quantum circuit, so that it exists in the context (=presence) of prior gates"
   ]
  },
  {
   "cell_type": "code",
   "execution_count": 14,
   "metadata": {},
   "outputs": [],
   "source": [
    "# add_parametrized_circuit(qc=transpiled_circ, tgt_register=target['register'])\n",
    "# print('Transpiled Circuit')\n",
    "# transpiled_circ.draw('mpl')"
   ]
  },
  {
   "cell_type": "code",
   "execution_count": 16,
   "metadata": {},
   "outputs": [],
   "source": [
    "default_params, instructions, pulses = get_gate_params(backend=fake_backend, physical_qubits=physical_qubits, gate_str=gate_str)"
   ]
  },
  {
   "attachments": {},
   "cell_type": "markdown",
   "metadata": {},
   "source": [
    "Visualization of the target SX Pulse (it's a Derivative Removal by Adiabatic Gate (DRAG) pulse)"
   ]
  },
  {
   "cell_type": "code",
   "execution_count": 17,
   "metadata": {},
   "outputs": [
    {
     "data": {
      "image/png": "[encoded data removed]",
      "text/plain": [
       "<Figure size 1300x165 with 1 Axes>"
      ]
     },
     "execution_count": 17,
     "metadata": {},
     "output_type": "execute_result"
    }
   ],
   "source": [
    "instructions.draw(backend=fake_backend, style=IQXStandard())"
   ]
  },
  {
   "attachments": {},
   "cell_type": "markdown",
   "metadata": {},
   "source": [
    "Visualization of the pulse sequence for the parameterized gate within the full circuit context"
   ]
  },
  {
   "cell_type": "code",
   "execution_count": null,
   "metadata": {},
   "outputs": [],
   "source": [
    "# sched02 = schedule(transpiled_circ, fake_backend)\n",
    "# sched02.draw(backend=fake_backend, style=IQXStandard())"
   ]
  },
  {
   "attachments": {},
   "cell_type": "markdown",
   "metadata": {},
   "source": [
    "#### Plug it into ``QuantumEnvironment``"
   ]
  },
  {
   "cell_type": "code",
   "execution_count": 18,
   "metadata": {},
   "outputs": [],
   "source": [
    "sampling_Paulis = 50\n",
    "N_shots = 200\n",
    "n_actions = 4  # Cf number of parameters in custom_schedule function above\n",
    "abstraction_level = 'pulse'"
   ]
  },
  {
   "cell_type": "code",
   "execution_count": 19,
   "metadata": {},
   "outputs": [
    {
     "name": "stdout",
     "output_type": "stream",
     "text": [
      "control_channel_map {}\n"
     ]
    }
   ],
   "source": [
    "control_channel_map = get_control_channel_map(fake_backend, physical_qubits)\n",
    "print('control_channel_map', control_channel_map)\n",
    "dt = fake_backend.configuration().dt\n",
    "\n",
    "dynamics_options = {\n",
    "                    'seed_simulator': None, #\"configuration\": fake_backend.configuration(),\n",
    "                    # 'control_channel_map': control_channel_map, \n",
    "                    \"solver_options\": {\"method\": \"jax_odeint\", \"atol\": 1e-6, \"rtol\": 1e-8, \"hmax\":dt}\n",
    "                    }\n",
    "qubit_properties = fake_backend_v2.qubit_properties(physical_qubits)\n",
    "\n",
    "# Extract channel frequencies and Solver instance from backend to provide a pulse level simulation enabling\n",
    "# fidelity benchmarking\n",
    "channel_freq, solver = get_solver_and_freq_from_backend(\n",
    "    backend=fake_backend,\n",
    "    subsystem_list=physical_qubits,\n",
    "    rotating_frame=\"auto\",\n",
    "    evaluation_mode=\"dense\",\n",
    "    rwa_cutoff_freq=None,\n",
    "    static_dissipators=None,\n",
    "    dissipator_channels=None,\n",
    "    dissipator_operators=None\n",
    ")\n",
    "calibration_files=None"
   ]
  },
  {
   "cell_type": "code",
   "execution_count": 20,
   "metadata": {},
   "outputs": [],
   "source": [
    "estimator_options = Options(resilience_level=0, optimization_level=0, \n",
    "                            execution= ExecutionOptions(shots=N_shots*sampling_Paulis))"
   ]
  },
  {
   "attachments": {},
   "cell_type": "markdown",
   "metadata": {},
   "source": [
    "Creat a solver instead of creating a DynmamicsBacked.from_backend()"
   ]
  },
  {
   "cell_type": "code",
   "execution_count": 21,
   "metadata": {},
   "outputs": [],
   "source": [
    "dim = 3\n",
    "\n",
    "v = [prop.frequency for prop in qubit_properties]\n",
    "v0 = 4.86e9\n",
    "anharm0 = -0.32e9\n",
    "r0 = 0.22e9\n",
    "\n",
    "v1 = 4.97e9\n",
    "anharm1 = -0.32e9\n",
    "r1 = 0.26e9\n",
    "\n",
    "J = 0.002e9\n",
    "\n",
    "a = np.diag(np.sqrt(np.arange(1, dim)), 1)\n",
    "adag = np.diag(np.sqrt(np.arange(1, dim)), -1)\n",
    "N = np.diag(np.arange(dim))\n",
    "\n",
    "ident = np.eye(dim, dtype=complex)\n",
    "full_ident = np.eye(dim**2, dtype=complex)\n",
    "\n",
    "N0 = np.kron(ident, N)\n",
    "N1 = np.kron(N, ident)\n",
    "\n",
    "a0 = np.kron(ident, a)\n",
    "a1 = np.kron(a, ident)\n",
    "\n",
    "a0dag = np.kron(ident, adag)\n",
    "a1dag = np.kron(adag, ident)\n",
    "\n",
    "\n",
    "static_ham0 = 2 * np.pi * v0 * N0 + np.pi * anharm0 * N0 * (N0 - full_ident)\n",
    "static_ham1 = 2 * np.pi * v1 * N1 + np.pi * anharm1 * N1 * (N1 - full_ident)\n",
    "\n",
    "static_ham_full = static_ham0 + static_ham1 + 2 * np.pi * J * ((a0 + a0dag) @ (a1 + a1dag))\n",
    "\n",
    "drive_op0 = 2 * np.pi * r0 * (a0 + a0dag)\n",
    "drive_op1 = 2 * np.pi * r1 * (a1 + a1dag)\n",
    "\n",
    "# build solver\n",
    "dt = 1/4.5e9\n",
    "\n",
    "solver = Solver(\n",
    "    static_hamiltonian=static_ham_full,\n",
    "    hamiltonian_operators=[drive_op0, drive_op1, drive_op0, drive_op1, drive_op1, drive_op0],\n",
    "    rotating_frame=static_ham_full,\n",
    "    hamiltonian_channels=[\"d0\", \"d1\", \"u0\", \"u1\", \"u2\", \"u3\"],\n",
    "    channel_carrier_freqs={\"d0\": v0, \"d1\": v1, \"u0\": v1, \"u1\": v0, \"u2\":v0, \"u3\": v1},\n",
    "    dt=dt,\n",
    "    evaluation_mode=\"sparse\"\n",
    ")\n",
    "# Consistent solver option to use throughout notebook\n",
    "solver_options = {\"method\": \"jax_odeint\", \"atol\": 1e-6, \"rtol\": 1e-8}\n",
    "\n",
    "custom_backend2 = DynamicsBackend(\n",
    "    solver=solver,\n",
    "    #target = fake_backend_v2.target,\n",
    "    subsystem_dims=[dim, dim], # for computing measurement data\n",
    "    solver_options=solver_options, # to be used every time run is called\n",
    ")\n",
    "# backend_target = custom_backend2.target\n",
    "# channel_freq = None\n",
    "# calibration_files = None\n",
    "# do_calibrations = True\n",
    "# qubit properties\n",
    "\n",
    "# dynamics_backend = custom_backend2"
   ]
  },
  {
   "cell_type": "code",
   "execution_count": 22,
   "metadata": {},
   "outputs": [],
   "source": [
    "# subsystem_list takes the qubits indices that are the qubits with the parametrized gate AND its nearest neighbours\n",
    "dynamics_backend = DynamicsBackend.from_backend(fake_backend, subsystem_list=physical_qubits, **dynamics_options)\n",
    "dynamics_backend.target.qubit_properties = qubit_properties\n",
    "# list(dynamics_backend.coupling_map)"
   ]
  },
  {
   "cell_type": "code",
   "execution_count": 23,
   "metadata": {},
   "outputs": [],
   "source": [
    "from helper_functions import retrieve_backend_info\n",
    "from qiskit_experiments.framework import BackendData"
   ]
  },
  {
   "attachments": {},
   "cell_type": "markdown",
   "metadata": {},
   "source": [
    "Manually populate the coupling map of the ``DynamicsBackend`` with the data from the ``fake_backend``"
   ]
  },
  {
   "cell_type": "code",
   "execution_count": 24,
   "metadata": {},
   "outputs": [
    {
     "data": {
      "text/plain": [
       "QiskitConfig(parametrized_circuit=<function add_parametrized_circuit at 0x2f6abc5e0>, backend=<qiskit_dynamics.backend.dynamics_backend.DynamicsBackend object at 0x2f8d8cf70>, estimator_options=Options(optimization_level=0, resilience_level=0, max_execution_time=None, transpilation=TranspilationOptions(skip_transpilation=False, initial_layout=None, layout_method=None, routing_method=None, approximation_degree=None), resilience=ResilienceOptions(noise_amplifier='TwoQubitAmplifier', noise_factors=(1, 3, 5), extrapolator='LinearExtrapolator'), execution=ExecutionOptions(shots=10000, init_qubits=True), environment=EnvironmentOptions(log_level='WARNING', callback=None, job_tags=[]), simulator=SimulatorOptions(noise_model=None, seed_simulator=None, coupling_map=None, basis_gates=None)), solver=<qiskit_dynamics.solvers.solver_classes.Solver object at 0x2fa4aa370>, channel_freq={'d0': 5236351487.460436, 'u0': (5014160311.321986+0j)}, do_calibrations=True, calibration_files=None)"
      ]
     },
     "execution_count": 24,
     "metadata": {},
     "output_type": "execute_result"
    }
   ],
   "source": [
    "# Wrap all info in one QiskitConfig\n",
    "# Qiskit_setup = QiskitConfig(parametrized_circuit=apply_parametrized_circuit, backend=backend)\n",
    "Qiskit_setup = QiskitConfig(parametrized_circuit=add_parametrized_circuit, backend=dynamics_backend,\n",
    "                            estimator_options=estimator_options, channel_freq=channel_freq,\n",
    "                            solver=solver)\n",
    "Qiskit_setup"
   ]
  },
  {
   "cell_type": "code",
   "execution_count": 25,
   "metadata": {},
   "outputs": [
    {
     "data": {
      "text/plain": [
       "(0,)"
      ]
     },
     "execution_count": 25,
     "metadata": {},
     "output_type": "execute_result"
    }
   ],
   "source": [
    "physical_qubits"
   ]
  },
  {
   "cell_type": "code",
   "execution_count": 26,
   "metadata": {},
   "outputs": [
    {
     "data": {
      "text/plain": [
       "7"
      ]
     },
     "execution_count": 26,
     "metadata": {},
     "output_type": "execute_result"
    }
   ],
   "source": [
    "dynamics_backend.num_qubits"
   ]
  },
  {
   "cell_type": "code",
   "execution_count": 27,
   "metadata": {},
   "outputs": [
    {
     "name": "stdout",
     "output_type": "stream",
     "text": [
      "Starting Rabi experiment for qubit 0...\n",
      "Rabi experiment for qubit 0 done.\n",
      "Starting Drag experiment for qubit 0...\n",
      "Drag experiments done for qubit 0 done.\n",
      "All single qubit calibrations are done\n",
      "Updated Instruction Schedule Map <InstructionScheduleMap(1Q instructions:\n",
      "  q0: {'sdg', 'tdg', 'z', 'h', 't', 'id', 'reset', 'rz', 'sx', 'delay', 'measure', 'x', 's'}\n",
      "  q1: {'sdg', 'tdg', 'z', 'h', 't', 'id', 'reset', 'rz', 'sx', 'delay', 'measure', 'x', 's'}\n",
      "  q2: {'sdg', 'tdg', 'z', 'h', 't', 'id', 'reset', 'rz', 'delay', 'measure', 's'}\n",
      "  q3: {'sdg', 'tdg', 'z', 'h', 't', 'id', 'reset', 'rz', 'delay', 'measure', 's'}\n",
      "  q4: {'sdg', 'tdg', 'z', 'h', 't', 'id', 'reset', 'rz', 'delay', 'measure', 's'}\n",
      "  q5: {'sdg', 'tdg', 'z', 'h', 't', 'id', 'reset', 'rz', 'delay', 'measure', 's'}\n",
      "  q6: {'sdg', 'tdg', 'z', 'h', 't', 'id', 'reset', 'rz', 'delay', 'measure', 's'}\n",
      "Multi qubit instructions:\n",
      "  (0, 1): {'cr45m', 'cr45p', 'ecr'}\n",
      ")>\n"
     ]
    }
   ],
   "source": [
    "q_env = QuantumEnvironment(target=target, abstraction_level=abstraction_level,\n",
    "                           Qiskit_config=Qiskit_setup,\n",
    "                           sampling_Pauli_space=sampling_Paulis, n_shots=N_shots, c_factor=0.5)"
   ]
  },
  {
   "cell_type": "code",
   "execution_count": 28,
   "metadata": {},
   "outputs": [
    {
     "data": {
      "text/plain": [
       "'\\njob = dynamics_backend.run(transpiled_circ)\\nresults = job.result()\\nresults.get_counts()\\n'"
      ]
     },
     "execution_count": 28,
     "metadata": {},
     "output_type": "execute_result"
    }
   ],
   "source": [
    "\"\"\"\n",
    "job = dynamics_backend.run(transpiled_circ)\n",
    "results = job.result()\n",
    "results.get_counts()\n",
    "\"\"\""
   ]
  },
  {
   "attachments": {},
   "cell_type": "markdown",
   "metadata": {},
   "source": [
    "### Access Coupling Map of the Backend"
   ]
  },
  {
   "cell_type": "code",
   "execution_count": 29,
   "metadata": {},
   "outputs": [
    {
     "data": {
      "text/plain": [
       "[(0, 1)]"
      ]
     },
     "execution_count": 29,
     "metadata": {},
     "output_type": "execute_result"
    }
   ],
   "source": [
    "BackendData(dynamics_backend).coupling_map"
   ]
  },
  {
   "cell_type": "code",
   "execution_count": 30,
   "metadata": {},
   "outputs": [],
   "source": [
    "dt, coupling_map, basis_gates, instruction_durations = retrieve_backend_info(backend=dynamics_backend)"
   ]
  },
  {
   "cell_type": "code",
   "execution_count": 31,
   "metadata": {},
   "outputs": [
    {
     "data": {
      "text/plain": [
       "[(0, 1)]"
      ]
     },
     "execution_count": 31,
     "metadata": {},
     "output_type": "execute_result"
    }
   ],
   "source": [
    "list(coupling_map)"
   ]
  },
  {
   "cell_type": "code",
   "execution_count": 32,
   "metadata": {},
   "outputs": [],
   "source": [
    "seed = 10\n",
    "training_steps_per_gate = 2000\n",
    "benchmark_cycle = 100\n",
    "# tgt_instruction_counts = target_circuit.data.count(CircuitInstruction(target_gate, tgt_qubits))\n",
    "tgt_instruction_counts = 2  # Number of times target Instruction is applied in Circuit\n",
    "batchsize = 200  # Batch size (iterate over a bunch of actions per policy to estimate expected return) default 100\n",
    "n_actions = 4 # Choose how many control parameters in pulse/circuit parametrization\n",
    "min_bound_actions =  - 0.1\n",
    "max_bound_actions =  0.1\n",
    "scale_factor = 0.1\n",
    "observation_space = Box(low=np.array([0, 0]), high=np.array([1, tgt_instruction_counts]), shape=(2,),\n",
    "                        seed=seed)\n",
    "action_space = Box(low=min_bound_actions, high=max_bound_actions, shape=(n_actions,), seed=seed)"
   ]
  },
  {
   "cell_type": "code",
   "execution_count": 33,
   "metadata": {},
   "outputs": [
    {
     "ename": "TypeError",
     "evalue": "unsupported operand type(s) for +: 'NoneType' and 'str'",
     "output_type": "error",
     "traceback": [
      "\u001b[0;31m---------------------------------------------------------------------------\u001b[0m",
      "\u001b[0;31mTypeError\u001b[0m                                 Traceback (most recent call last)",
      "Cell \u001b[0;32mIn[33], line 1\u001b[0m\n\u001b[0;32m----> 1\u001b[0m torch_env \u001b[39m=\u001b[39m TorchQuantumEnvironment(q_env, target_circuit,\n\u001b[1;32m      2\u001b[0m                                     action_space,\n\u001b[1;32m      3\u001b[0m                                     observation_space, batch_size\u001b[39m=\u001b[39;49mbatchsize,\n\u001b[1;32m      4\u001b[0m                                     training_steps_per_gate\u001b[39m=\u001b[39;49mtraining_steps_per_gate,\n\u001b[1;32m      5\u001b[0m                                     benchmark_cycle \u001b[39m=\u001b[39;49m benchmark_cycle,\n\u001b[1;32m      6\u001b[0m                                     intermediate_rewards\u001b[39m=\u001b[39;49m\u001b[39mFalse\u001b[39;49;00m,\n\u001b[1;32m      7\u001b[0m                                     seed\u001b[39m=\u001b[39;49m\u001b[39mNone\u001b[39;49;00m,)\n",
      "File \u001b[0;32m~/Documents/Master Wirtschaftsphysik/Masterarbeit Yale-NUS CQT/Quantum_Optimal_Control/torch_contextual_gate_calibration/torch_quantum_environment.py:304\u001b[0m, in \u001b[0;36mTorchQuantumEnvironment.__init__\u001b[0;34m(self, q_env, circuit_context, action_spec, observation_spec, batch_size, training_steps_per_gate, benchmark_cycle, intermediate_rewards, seed)\u001b[0m\n\u001b[1;32m    295\u001b[0m         \u001b[39mif\u001b[39;00m instruction \u001b[39m==\u001b[39m \u001b[39mself\u001b[39m\u001b[39m.\u001b[39mtarget_instruction:\n\u001b[1;32m    296\u001b[0m             \u001b[39mself\u001b[39m\u001b[39m.\u001b[39m_target_instruction_timings\u001b[39m.\u001b[39mappend(\n\u001b[1;32m    297\u001b[0m                 \u001b[39mself\u001b[39m\u001b[39m.\u001b[39mcircuit_context\u001b[39m.\u001b[39mop_start_times[i]\n\u001b[1;32m    298\u001b[0m             )\n\u001b[1;32m    300\u001b[0m (\n\u001b[1;32m    301\u001b[0m     \u001b[39mself\u001b[39m\u001b[39m.\u001b[39mcircuit_truncations,\n\u001b[1;32m    302\u001b[0m     \u001b[39mself\u001b[39m\u001b[39m.\u001b[39mbaseline_truncations,\n\u001b[1;32m    303\u001b[0m     \u001b[39mself\u001b[39m\u001b[39m.\u001b[39mcustom_gates,\n\u001b[0;32m--> 304\u001b[0m ) \u001b[39m=\u001b[39m \u001b[39mself\u001b[39;49m\u001b[39m.\u001b[39;49m_generate_circuit_truncations()\n\u001b[1;32m    305\u001b[0m \u001b[39mself\u001b[39m\u001b[39m.\u001b[39m_batch_size \u001b[39m=\u001b[39m batch_size\n\u001b[1;32m    306\u001b[0m \u001b[39mself\u001b[39m\u001b[39m.\u001b[39m_punctual_avg_fidelities \u001b[39m=\u001b[39m np\u001b[39m.\u001b[39mzeros(batch_size)\n",
      "File \u001b[0;32m~/Documents/Master Wirtschaftsphysik/Masterarbeit Yale-NUS CQT/Quantum_Optimal_Control/torch_contextual_gate_calibration/torch_quantum_environment.py:485\u001b[0m, in \u001b[0;36mTorchQuantumEnvironment._generate_circuit_truncations\u001b[0;34m(self)\u001b[0m\n\u001b[1;32m    483\u001b[0m \u001b[39melse\u001b[39;00m:  \u001b[39m# Add custom instruction in place of target gate\u001b[39;00m\n\u001b[1;32m    484\u001b[0m     \u001b[39mif\u001b[39;00m \u001b[39mself\u001b[39m\u001b[39m.\u001b[39mparametrized_circuit_func \u001b[39mis\u001b[39;00m \u001b[39mnot\u001b[39;00m \u001b[39mNone\u001b[39;00m:\n\u001b[0;32m--> 485\u001b[0m         \u001b[39mself\u001b[39;49m\u001b[39m.\u001b[39;49mparametrized_circuit_func(\n\u001b[1;32m    486\u001b[0m             custom_circuit_truncations[i],\n\u001b[1;32m    487\u001b[0m             \u001b[39mself\u001b[39;49m\u001b[39m.\u001b[39;49m_parameters[counts],\n\u001b[1;32m    488\u001b[0m             \u001b[39mself\u001b[39;49m\u001b[39m.\u001b[39;49mtgt_register,\n\u001b[1;32m    489\u001b[0m         )\n\u001b[1;32m    490\u001b[0m     \u001b[39melse\u001b[39;00m:\n\u001b[1;32m    491\u001b[0m         custom_circuit_truncations[i]\u001b[39m.\u001b[39mappend(instruction)\n",
      "Cell \u001b[0;32mIn[6], line 23\u001b[0m, in \u001b[0;36madd_parametrized_circuit\u001b[0;34m(qc, params, tgt_register, gate_str)\u001b[0m\n\u001b[1;32m     20\u001b[0m \u001b[39mif\u001b[39;00m tgt_register \u001b[39mis\u001b[39;00m \u001b[39mNone\u001b[39;00m:\n\u001b[1;32m     21\u001b[0m     tgt_register \u001b[39m=\u001b[39m qc\u001b[39m.\u001b[39mqregs[\u001b[39m0\u001b[39m]\n\u001b[0;32m---> 23\u001b[0m name \u001b[39m=\u001b[39m gate_str \u001b[39m+\u001b[39;49m \u001b[39m'\u001b[39;49m\u001b[39m_cal\u001b[39;49m\u001b[39m'\u001b[39;49m\n\u001b[1;32m     24\u001b[0m parametrized_gate \u001b[39m=\u001b[39m Gate(name\u001b[39m=\u001b[39mname, num_qubits\u001b[39m=\u001b[39m\u001b[39m1\u001b[39m, params\u001b[39m=\u001b[39mparams)\n\u001b[1;32m     25\u001b[0m parametrized_schedule \u001b[39m=\u001b[39m custom_sx_schedule(backend\u001b[39m=\u001b[39mfake_backend, physical_qubits\u001b[39m=\u001b[39mphysical_qubits, params\u001b[39m=\u001b[39mparams, gate_str\u001b[39m=\u001b[39mgate_str)\n",
      "\u001b[0;31mTypeError\u001b[0m: unsupported operand type(s) for +: 'NoneType' and 'str'"
     ]
    }
   ],
   "source": [
    "torch_env = TorchQuantumEnvironment(q_env, target_circuit,\n",
    "                                    action_space,\n",
    "                                    observation_space, batch_size=batchsize,\n",
    "                                    training_steps_per_gate=training_steps_per_gate,\n",
    "                                    benchmark_cycle = benchmark_cycle,\n",
    "                                    intermediate_rewards=False,\n",
    "                                    seed=None,)"
   ]
  },
  {
   "cell_type": "code",
   "execution_count": null,
   "metadata": {},
   "outputs": [
    {
     "data": {
      "image/png": "[encoded data removed]",
      "text/plain": [
       "<Figure size 352.675x117.056 with 1 Axes>"
      ]
     },
     "execution_count": 76,
     "metadata": {},
     "output_type": "execute_result"
    }
   ],
   "source": [
    "target_circuit.draw('mpl')"
   ]
  },
  {
   "cell_type": "code",
   "execution_count": null,
   "metadata": {},
   "outputs": [
    {
     "data": {
      "image/png": "[encoded data removed]",
      "text/plain": [
       "<Figure size 422.982x117.056 with 1 Axes>"
      ]
     },
     "execution_count": 77,
     "metadata": {},
     "output_type": "execute_result"
    }
   ],
   "source": [
    "transpiled_circ.draw('mpl')"
   ]
  },
  {
   "cell_type": "code",
   "execution_count": null,
   "metadata": {},
   "outputs": [
    {
     "data": {
      "text/plain": [
       "{'x': {((0,),\n",
       "   ()): ScheduleBlock(Play(Drag(duration=160, sigma=40, beta=-4.2849527136, amp=0.17370551, angle=0), DriveChannel(0)), name=\"x\", transform=AlignLeft())},\n",
       " 'h': {((0,),\n",
       "   ()): ScheduleBlock(ScheduleBlock(ShiftPhase(-1.5707963268, DriveChannel(0)), name=\"rz0\", transform=AlignLeft()), ScheduleBlock(Play(Drag(duration=160, sigma=40, beta=0, amp=0.08685275, angle=0), DriveChannel(0)), name=\"sx\", transform=AlignLeft()), ScheduleBlock(ShiftPhase(-1.5707963268, DriveChannel(0)), name=\"rz0\", transform=AlignLeft()), name=\"h\", transform=AlignLeft())},\n",
       " 'z': {((0,),\n",
       "   ()): ScheduleBlock(ShiftPhase(-3.1415926536, DriveChannel(0)), name=\"rz0\", transform=AlignLeft())}}"
      ]
     },
     "execution_count": 78,
     "metadata": {},
     "output_type": "execute_result"
    }
   ],
   "source": [
    "torch_env.circuit_context.calibrations"
   ]
  },
  {
   "cell_type": "code",
   "execution_count": null,
   "metadata": {},
   "outputs": [
    {
     "data": {
      "image/png": "[encoded data removed]",
      "text/plain": [
       "<Figure size 917.354x200.667 with 1 Axes>"
      ]
     },
     "execution_count": 79,
     "metadata": {},
     "output_type": "execute_result"
    }
   ],
   "source": [
    "torch_env.circuit_context.draw('mpl')"
   ]
  },
  {
   "cell_type": "code",
   "execution_count": null,
   "metadata": {},
   "outputs": [
    {
     "data": {
      "image/png": "[encoded data removed]",
      "text/plain": [
       "<Figure size 375.117x200.667 with 1 Axes>"
      ]
     },
     "execution_count": 80,
     "metadata": {},
     "output_type": "execute_result"
    }
   ],
   "source": [
    "torch_env.circuit_truncations[0].draw(\"mpl\")"
   ]
  },
  {
   "cell_type": "code",
   "execution_count": null,
   "metadata": {},
   "outputs": [
    {
     "data": {
      "image/png": "[encoded data removed]",
      "text/plain": [
       "<Figure size 207.895x200.667 with 1 Axes>"
      ]
     },
     "execution_count": 81,
     "metadata": {},
     "output_type": "execute_result"
    }
   ],
   "source": [
    "torch_env.baseline_truncations[0].draw(\"mpl\")"
   ]
  },
  {
   "attachments": {},
   "cell_type": "markdown",
   "metadata": {},
   "source": [
    "# Reinforcement Learning"
   ]
  },
  {
   "attachments": {},
   "cell_type": "markdown",
   "metadata": {},
   "source": [
    "#### Definition of the Agent"
   ]
  },
  {
   "cell_type": "code",
   "execution_count": null,
   "metadata": {},
   "outputs": [],
   "source": [
    "import torch\n",
    "import torch.nn as nn\n",
    "\n",
    "from agent import ActorNetwork, CriticNetwork, Agent\n",
    "#device = torch.device(\"cuda\" if torch.cuda.is_available() else \"cpu\")\n",
    "device = torch.device(\"cpu\")\n",
    "hidden_units = [64, 64]\n",
    "activation_functions = [nn.Tanh(), nn.Tanh(), nn.Tanh()]\n",
    "include_critic = False\n",
    "chkpt_dir = 'tmp/ppo'\n",
    "chkpt_dir_critic = 'tmp/critic_ppo'\n",
    "\n",
    "actor_net = ActorNetwork(observation_space, hidden_units, n_actions, activation_functions, include_critic, chkpt_dir).to(device)\n",
    "critic_net = CriticNetwork(observation_space, hidden_units, activation_functions, chkpt_dir_critic).to(device)\n",
    "agent = Agent(actor_net, critic_net=critic_net).to(device)"
   ]
  },
  {
   "cell_type": "code",
   "execution_count": null,
   "metadata": {},
   "outputs": [],
   "source": [
    "\"\"\"\n",
    "-----------------------------------------------------------------------------------------------------\n",
    "Hyperparameters for RL agent\n",
    "-----------------------------------------------------------------------------------------------------\n",
    "\"\"\"\n",
    "from torch.utils.tensorboard import SummaryWriter\n",
    "import torch.optim as optim\n",
    "run_name = \"test\"\n",
    "writer = SummaryWriter(f\"runs/{run_name}\")\n",
    "# writer.add_text(\n",
    "#     \"hyperparameters\",\n",
    "#     \"|param|value|\\n|-|-|\\n%s\" % (\"\\n\".join([f\"|{key}|{value}|\" for key, value in vars(args).items()])),\n",
    "# )\n",
    "# Hyperparameters for the agent\n",
    "n_epochs = 10  # Number of epochs : default 1500\n",
    "num_updates = 700\n",
    "lr_actor = 0.001  # Learning rate for policy update step\n",
    "lr_critic = 0.001  # Learning rate for critic (value function) update step\n",
    "\n",
    "epsilon = 0.2  # Parameter for clipping value (PPO)\n",
    "critic_loss_coeff = 0.5\n",
    "optimizer = optim.Adam(agent.parameters(), lr=lr_actor, eps=1e-5)\n",
    "actor_optimizer = optim.Adam(actor_net.parameters(), lr=lr_actor, eps=1e-5)\n",
    "critic_optimizer = optim.Adam(critic_net.parameters(), lr=lr_critic, eps=1e-5)\n",
    "minibatch_size = 40\n",
    "gamma = 1.\n",
    "gae_lambda = 0.95\n",
    "\n",
    "# Clipping\n",
    "clip_vloss = True\n",
    "grad_clip = 0.5\n",
    "clip_coef = 0.5\n",
    "normalize_advantage = False\n",
    "\n",
    "# other coefficients\n",
    "ent_coef = 0."
   ]
  },
  {
   "cell_type": "code",
   "execution_count": null,
   "metadata": {},
   "outputs": [
    {
     "data": {
      "text/plain": [
       "<bound method TorchQuantumEnvironment.episode_length of QuantumEnvironment composed of 1 qubits, \n",
       "Defined target: gate (Instruction(name='x', num_qubits=1, num_clbits=0, params=[]))\n",
       "Physical qubits: [0]\n",
       "Backend: <qiskit_dynamics.backend.dynamics_backend.DynamicsBackend object at 0x2fc9a2af0>,\n",
       "Abstraction level: pulse,\n",
       "Run options: N_shots (200), Sampling_Pauli_space (50), \n",
       "Batchsize: 200, \n",
       "Number of target gates in circuit context: 2\n",
       ">"
      ]
     },
     "execution_count": 84,
     "metadata": {},
     "output_type": "execute_result"
    }
   ],
   "source": [
    "torch_env.episode_length"
   ]
  },
  {
   "attachments": {},
   "cell_type": "markdown",
   "metadata": {},
   "source": [
    "### Training"
   ]
  },
  {
   "cell_type": "code",
   "execution_count": null,
   "metadata": {},
   "outputs": [],
   "source": [
    "global_step = 0\n",
    "torch_env.clear_history()\n",
    "obs = torch.zeros((tgt_instruction_counts, batchsize) + torch_env.observation_space.shape).to(device)\n",
    "actions = torch.zeros((tgt_instruction_counts, batchsize) + torch_env.action_space.shape).to(device)\n",
    "logprobs = torch.zeros((tgt_instruction_counts, batchsize)).to(device)\n",
    "rewards = torch.zeros((tgt_instruction_counts, batchsize)).to(device)\n",
    "dones = torch.zeros((tgt_instruction_counts, batchsize)).to(device)\n",
    "values = torch.zeros((tgt_instruction_counts, batchsize)).to(device)\n",
    "\n",
    "train_obs = torch.zeros((batchsize,) + torch_env.observation_space.shape, requires_grad=True).to(device)\n",
    "visualization_steps = 10"
   ]
  },
  {
   "cell_type": "code",
   "execution_count": null,
   "metadata": {},
   "outputs": [
    {
     "name": "stderr",
     "output_type": "stream",
     "text": [
      "  0%|          | 0/700 [00:00<?, ?it/s]"
     ]
    },
    {
     "name": "stdout",
     "output_type": "stream",
     "text": [
      "num_steps 1\n",
      "Sending job...\n"
     ]
    },
    {
     "name": "stderr",
     "output_type": "stream",
     "text": [
      "/Users/lukasvoss/Library/Python/3.9/lib/python/site-packages/qiskit_dynamics/backend/dynamics_backend.py:943: UserWarning: Measuring trivial subsystem 1 with dimension 1.\n",
      "  warnings.warn(f\"Measuring trivial subsystem {inst.channel.index} with dimension 1.\")\n",
      "  0%|          | 1/700 [00:02<24:32,  2.11s/it]"
     ]
    },
    {
     "name": "stdout",
     "output_type": "stream",
     "text": [
      "Job done\n",
      "mean tensor([-0.0106,  0.0019, -0.0086, -0.0090])\n",
      "sigma tensor([0.4729, 0.4732, 0.5298, 0.5213])\n",
      "Average return: 1.7626400000000002\n",
      "{'reset_stage': False, 'step': 1, 'average return': 1.7626400000000002, 'max return': 1.7626400000000002, 'arg_max return': 0, 'best action': array([-0.00956156, -0.00580844,  0.00901817, -0.00696275]), 'truncation_index': 0, 'input_state': 'PauliPreparationBasis[0]', 'observable': SparsePauliOp(['II', 'IZ', 'ZI', 'ZZ'],\n",
      "              coeffs=[ 1.+0.j, -1.+0.j,  1.+0.j, -1.+0.j])}\n",
      "num_steps 1\n",
      "Sending job...\n"
     ]
    },
    {
     "name": "stderr",
     "output_type": "stream",
     "text": [
      "  0%|          | 2/700 [00:04<29:22,  2.52s/it]"
     ]
    },
    {
     "name": "stdout",
     "output_type": "stream",
     "text": [
      "Job done\n",
      "mean tensor([-0.0112, -0.0052, -0.0131, -0.0087])\n",
      "sigma tensor([0.4651, 0.4465, 0.5378, 0.5267])\n",
      "Average return: 1.7619125\n",
      "{'reset_stage': False, 'step': 2, 'average return': 1.7619125, 'max return': 1.7626400000000002, 'arg_max return': 0, 'best action': array([-0.00956156, -0.00580844,  0.00901817, -0.00696275]), 'truncation_index': 0, 'input_state': 'PauliPreparationBasis[3]', 'observable': SparsePauliOp(['II', 'IZ', 'YI', 'YZ'],\n",
      "              coeffs=[ 1.+0.j, -1.+0.j,  1.+0.j, -1.+0.j])}\n",
      "num_steps 1\n",
      "Sending job...\n"
     ]
    },
    {
     "name": "stderr",
     "output_type": "stream",
     "text": [
      "  0%|          | 3/700 [00:08<32:44,  2.82s/it]"
     ]
    },
    {
     "name": "stdout",
     "output_type": "stream",
     "text": [
      "Job done\n",
      "mean tensor([-0.0104, -0.0050, -0.0128, -0.0085])\n",
      "sigma tensor([0.4642, 0.4451, 0.5371, 0.5256])\n",
      "Average return: 2.020813333333334\n",
      "{'reset_stage': False, 'step': 3, 'average return': 2.020813333333334, 'max return': 2.020813333333334, 'arg_max return': 2, 'best action': array([ 0.00312697, -0.00618731, -0.00538644,  0.00183475]), 'truncation_index': 0, 'input_state': 'PauliPreparationBasis[3]', 'observable': SparsePauliOp(['II', 'IZ', 'YI', 'YZ'],\n",
      "              coeffs=[ 1.+0.j, -1.+0.j,  1.+0.j, -1.+0.j])}\n",
      "num_steps 1\n",
      "Sending job...\n"
     ]
    },
    {
     "name": "stderr",
     "output_type": "stream",
     "text": [
      "  1%|          | 4/700 [00:10<32:16,  2.78s/it]"
     ]
    },
    {
     "name": "stdout",
     "output_type": "stream",
     "text": [
      "Job done\n",
      "mean tensor([-0.0095, -0.0026, -0.0110, -0.0083])\n",
      "sigma tensor([0.4656, 0.4523, 0.5338, 0.5227])\n",
      "Average return: 1.8707\n",
      "{'reset_stage': False, 'step': 4, 'average return': 1.8707, 'max return': 2.020813333333334, 'arg_max return': 2, 'best action': array([ 0.00312697, -0.00618731, -0.00538644,  0.00183475]), 'truncation_index': 0, 'input_state': 'PauliPreparationBasis[2]', 'observable': SparsePauliOp(['II', 'IZ', 'XI', 'XZ'],\n",
      "              coeffs=[ 1.+0.j, -1.+0.j,  1.+0.j, -1.+0.j])}\n",
      "num_steps 1\n",
      "Sending job...\n"
     ]
    },
    {
     "name": "stderr",
     "output_type": "stream",
     "text": [
      "  1%|          | 5/700 [00:13<33:00,  2.85s/it]"
     ]
    },
    {
     "name": "stdout",
     "output_type": "stream",
     "text": [
      "Job done\n",
      "mean tensor([-0.0088, -0.0025, -0.0108, -0.0080])\n",
      "sigma tensor([0.4647, 0.4510, 0.5332, 0.5217])\n",
      "Average return: 2.1163933333333333\n",
      "{'reset_stage': False, 'step': 5, 'average return': 2.1163933333333333, 'max return': 2.1163933333333333, 'arg_max return': 4, 'best action': array([ 0.00889638,  0.00094611, -0.00496715, -0.00013447]), 'truncation_index': 0, 'input_state': 'PauliPreparationBasis[2]', 'observable': SparsePauliOp(['II', 'IZ', 'XI', 'XZ'],\n",
      "              coeffs=[ 1.+0.j, -1.+0.j,  1.+0.j, -1.+0.j])}\n",
      "num_steps 1\n",
      "Sending job...\n"
     ]
    },
    {
     "name": "stderr",
     "output_type": "stream",
     "text": [
      "  1%|          | 6/700 [00:16<30:47,  2.66s/it]"
     ]
    },
    {
     "name": "stdout",
     "output_type": "stream",
     "text": [
      "Job done\n",
      "mean tensor([-7.9431e-03, -5.3609e-05, -9.0089e-03, -7.8149e-03])\n",
      "sigma tensor([0.4663, 0.4585, 0.5298, 0.5189])\n",
      "Average return: 0.0\n",
      "{'reset_stage': False, 'step': 6, 'average return': 0.0, 'max return': 2.1163933333333333, 'arg_max return': 4, 'best action': array([ 0.00889638,  0.00094611, -0.00496715, -0.00013447]), 'truncation_index': 0, 'input_state': 'PauliPreparationBasis[1]', 'observable': SparsePauliOp(['II', 'IZ', 'ZI', 'ZZ'],\n",
      "              coeffs=[ 1.+0.j, -1.+0.j, -1.+0.j,  1.+0.j])}\n",
      "num_steps 1\n",
      "Sending job...\n"
     ]
    },
    {
     "name": "stderr",
     "output_type": "stream",
     "text": [
      "  1%|          | 6/700 [00:18<35:11,  3.04s/it]\n"
     ]
    },
    {
     "ename": "KeyboardInterrupt",
     "evalue": "",
     "output_type": "error",
     "traceback": [
      "\u001b[0;31m---------------------------------------------------------------------------\u001b[0m",
      "\u001b[0;31mKeyboardInterrupt\u001b[0m                         Traceback (most recent call last)",
      "Cell \u001b[0;32mIn[86], line 29\u001b[0m\n\u001b[1;32m     27\u001b[0m logprobs[step] \u001b[39m=\u001b[39m logprob\n\u001b[1;32m     28\u001b[0m \u001b[39m# next_obs, reward, terminated, truncated, infos = torch_env.step(action.cpu().numpy())\u001b[39;00m\n\u001b[0;32m---> 29\u001b[0m next_obs, reward, terminated, truncated, infos \u001b[39m=\u001b[39m torch_env\u001b[39m.\u001b[39;49mstep(action\u001b[39m.\u001b[39;49mcpu()\u001b[39m.\u001b[39;49mnumpy())\n\u001b[1;32m     30\u001b[0m done \u001b[39m=\u001b[39m np\u001b[39m.\u001b[39mlogical_or(terminated, truncated)\n\u001b[1;32m     31\u001b[0m rewards[step] \u001b[39m=\u001b[39m torch\u001b[39m.\u001b[39mtensor(reward)\u001b[39m.\u001b[39mto(device)\n",
      "File \u001b[0;32m~/Documents/Master Wirtschaftsphysik/Masterarbeit Yale-NUS CQT/Quantum_Optimal_Control/torch_contextual_gate_calibration/torch_quantum_environment.py:983\u001b[0m, in \u001b[0;36mTorchQuantumEnvironment.step\u001b[0;34m(self, action)\u001b[0m\n\u001b[1;32m    981\u001b[0m terminated \u001b[39m=\u001b[39m \u001b[39mTrue\u001b[39;00m\n\u001b[1;32m    982\u001b[0m \u001b[39mself\u001b[39m\u001b[39m.\u001b[39m_episode_ended \u001b[39m=\u001b[39m terminated\n\u001b[0;32m--> 983\u001b[0m reward_table \u001b[39m=\u001b[39m \u001b[39mself\u001b[39;49m\u001b[39m.\u001b[39;49mcompute_reward()\n\u001b[1;32m    984\u001b[0m \u001b[39mif\u001b[39;00m \u001b[39mself\u001b[39m\u001b[39m.\u001b[39m_intermediate_rewards:\n\u001b[1;32m    985\u001b[0m     obs \u001b[39m=\u001b[39m reward_table\n",
      "File \u001b[0;32m~/Documents/Master Wirtschaftsphysik/Masterarbeit Yale-NUS CQT/Quantum_Optimal_Control/torch_contextual_gate_calibration/torch_quantum_environment.py:871\u001b[0m, in \u001b[0;36mTorchQuantumEnvironment.compute_reward\u001b[0;34m(self, fidelity_access)\u001b[0m\n\u001b[1;32m    863\u001b[0m         \u001b[39mself\u001b[39m\u001b[39m.\u001b[39mbackend\u001b[39m.\u001b[39moptions\u001b[39m.\u001b[39msolver\u001b[39m.\u001b[39mset_macro(func\u001b[39m=\u001b[39mparam_schedule)\n\u001b[1;32m    864\u001b[0m     job \u001b[39m=\u001b[39m \u001b[39mself\u001b[39m\u001b[39m.\u001b[39mestimator\u001b[39m.\u001b[39mrun(\n\u001b[1;32m    865\u001b[0m         circuits\u001b[39m=\u001b[39m[training_circ] \u001b[39m*\u001b[39m \u001b[39mself\u001b[39m\u001b[39m.\u001b[39mbatch_size,\n\u001b[1;32m    866\u001b[0m         observables\u001b[39m=\u001b[39m[observables] \u001b[39m*\u001b[39m \u001b[39mself\u001b[39m\u001b[39m.\u001b[39mbatch_size,\n\u001b[1;32m    867\u001b[0m         parameter_values\u001b[39m=\u001b[39mreshaped_params,\n\u001b[1;32m    868\u001b[0m         shots\u001b[39m=\u001b[39m\u001b[39mint\u001b[39m(np\u001b[39m.\u001b[39mmax(pauli_shots) \u001b[39m*\u001b[39m \u001b[39mself\u001b[39m\u001b[39m.\u001b[39mn_shots),\n\u001b[1;32m    869\u001b[0m     )\n\u001b[0;32m--> 871\u001b[0m     reward_table \u001b[39m=\u001b[39m job\u001b[39m.\u001b[39;49mresult()\u001b[39m.\u001b[39mvalues\n\u001b[1;32m    872\u001b[0m \u001b[39mexcept\u001b[39;00m \u001b[39mException\u001b[39;00m \u001b[39mas\u001b[39;00m exc:\n\u001b[1;32m    873\u001b[0m     \u001b[39mself\u001b[39m\u001b[39m.\u001b[39mclose()\n",
      "File \u001b[0;32m~/Library/Python/3.9/lib/python/site-packages/qiskit/primitives/primitive_job.py:55\u001b[0m, in \u001b[0;36mPrimitiveJob.result\u001b[0;34m(self)\u001b[0m\n\u001b[1;32m     53\u001b[0m \u001b[39m\u001b[39m\u001b[39m\"\"\"Return the results of the job.\"\"\"\u001b[39;00m\n\u001b[1;32m     54\u001b[0m \u001b[39mself\u001b[39m\u001b[39m.\u001b[39m_check_submitted()\n\u001b[0;32m---> 55\u001b[0m \u001b[39mreturn\u001b[39;00m \u001b[39mself\u001b[39;49m\u001b[39m.\u001b[39;49m_future\u001b[39m.\u001b[39;49mresult()\n",
      "File \u001b[0;32m/Library/Developer/CommandLineTools/Library/Frameworks/Python3.framework/Versions/3.9/lib/python3.9/concurrent/futures/_base.py:440\u001b[0m, in \u001b[0;36mFuture.result\u001b[0;34m(self, timeout)\u001b[0m\n\u001b[1;32m    437\u001b[0m \u001b[39melif\u001b[39;00m \u001b[39mself\u001b[39m\u001b[39m.\u001b[39m_state \u001b[39m==\u001b[39m FINISHED:\n\u001b[1;32m    438\u001b[0m     \u001b[39mreturn\u001b[39;00m \u001b[39mself\u001b[39m\u001b[39m.\u001b[39m__get_result()\n\u001b[0;32m--> 440\u001b[0m \u001b[39mself\u001b[39;49m\u001b[39m.\u001b[39;49m_condition\u001b[39m.\u001b[39;49mwait(timeout)\n\u001b[1;32m    442\u001b[0m \u001b[39mif\u001b[39;00m \u001b[39mself\u001b[39m\u001b[39m.\u001b[39m_state \u001b[39min\u001b[39;00m [CANCELLED, CANCELLED_AND_NOTIFIED]:\n\u001b[1;32m    443\u001b[0m     \u001b[39mraise\u001b[39;00m CancelledError()\n",
      "File \u001b[0;32m/Library/Developer/CommandLineTools/Library/Frameworks/Python3.framework/Versions/3.9/lib/python3.9/threading.py:312\u001b[0m, in \u001b[0;36mCondition.wait\u001b[0;34m(self, timeout)\u001b[0m\n\u001b[1;32m    310\u001b[0m \u001b[39mtry\u001b[39;00m:    \u001b[39m# restore state no matter what (e.g., KeyboardInterrupt)\u001b[39;00m\n\u001b[1;32m    311\u001b[0m     \u001b[39mif\u001b[39;00m timeout \u001b[39mis\u001b[39;00m \u001b[39mNone\u001b[39;00m:\n\u001b[0;32m--> 312\u001b[0m         waiter\u001b[39m.\u001b[39;49macquire()\n\u001b[1;32m    313\u001b[0m         gotit \u001b[39m=\u001b[39m \u001b[39mTrue\u001b[39;00m\n\u001b[1;32m    314\u001b[0m     \u001b[39melse\u001b[39;00m:\n",
      "\u001b[0;31mKeyboardInterrupt\u001b[0m: "
     ]
    }
   ],
   "source": [
    "for update in tqdm.tqdm(range(1, num_updates + 1)):\n",
    "    next_obs, _ = torch_env.reset(seed=seed)\n",
    "    num_steps = torch_env.episode_length(global_step)\n",
    "    print('num_steps', num_steps)\n",
    "    \n",
    "    next_obs = torch.Tensor(np.array([next_obs] * batchsize)).to(device)\n",
    "    next_done = torch.zeros(batchsize).to(device)\n",
    "\n",
    "    # print(\"episode length:\", num_steps)\n",
    "\n",
    "    for step in range(num_steps):\n",
    "        global_step += 1\n",
    "        obs[step] = next_obs\n",
    "        dones[step] = next_done\n",
    "\n",
    "        with torch.no_grad():\n",
    "            # print('next_obs', next_obs)\n",
    "            # print('agend(next_obs)', agent(next_obs))\n",
    "            mean_action, std_action, critic_value = agent(next_obs)\n",
    "            mean_action*=scale_factor\n",
    "            probs = Normal(mean_action, std_action)\n",
    "            action = torch.clip(probs.sample(), torch.Tensor(np.array(min_bound_actions)), torch.Tensor(np.array(max_bound_actions)))\n",
    "            logprob = probs.log_prob(action).sum(1)\n",
    "            values[step] = critic_value.flatten()\n",
    "\n",
    "        actions[step] = action\n",
    "        logprobs[step] = logprob\n",
    "        # next_obs, reward, terminated, truncated, infos = torch_env.step(action.cpu().numpy())\n",
    "        next_obs, reward, terminated, truncated, infos = torch_env.step(action.cpu().numpy())\n",
    "        done = np.logical_or(terminated, truncated)\n",
    "        rewards[step] = torch.tensor(reward).to(device)\n",
    "        next_obs = torch.Tensor(np.array([next_obs] * batchsize)).to(device)\n",
    "        next_done = torch.Tensor(np.array([int(done)] * batchsize)).to(device)\n",
    "        # Only print when at least 1 env is done\n",
    "\n",
    "        # print(f\"global_step={global_step}, episodic_return={np.mean(reward)}\")\n",
    "        writer.add_scalar(\"charts/episodic_return\", np.mean(reward), global_step)\n",
    "        writer.add_scalar(\"charts/episodic_length\", num_steps, global_step)\n",
    "\n",
    "    # bootstrap value if not done\n",
    "    with torch.no_grad():\n",
    "        next_value = agent.get_value(next_obs).reshape(1, -1)\n",
    "        advantages = torch.zeros_like(rewards).to(device)\n",
    "        lastgaelam = 0\n",
    "        for t in reversed(range(num_steps)):\n",
    "            if t == num_steps - 1:\n",
    "                nextnonterminal = 1.0 - next_done\n",
    "                nextvalues = next_value\n",
    "            else:\n",
    "                nextnonterminal = 1.0 - dones[t + 1]\n",
    "                nextvalues = values[t + 1]\n",
    "            delta = rewards[t] + gamma * nextvalues * nextnonterminal - values[t]\n",
    "            advantages[t] = lastgaelam = delta + gamma * gae_lambda * nextnonterminal * lastgaelam\n",
    "        returns = advantages + values\n",
    "\n",
    "    # flatten the batch\n",
    "    b_obs = obs.reshape((-1,) + torch_env.observation_space.shape)\n",
    "    b_logprobs = logprobs.reshape(-1)\n",
    "    b_actions = actions.reshape((-1,) + torch_env.action_space.shape)\n",
    "    b_advantages = advantages.reshape(-1)\n",
    "    b_returns = returns.reshape(-1)\n",
    "    b_values = values.reshape(-1)\n",
    "\n",
    "    # Optimizing the policy and value network\n",
    "    b_inds = np.arange(batchsize)\n",
    "    clipfracs = []\n",
    "    for epoch in range(n_epochs):\n",
    "        np.random.shuffle(b_inds)\n",
    "        for start in range(0, batchsize, minibatch_size):\n",
    "            end = start + minibatch_size\n",
    "            mb_inds = b_inds[start:end]\n",
    "            new_mean, new_sigma, new_value = agent(b_obs[mb_inds])\n",
    "            new_dist = Normal(new_mean, new_sigma)\n",
    "            new_logprob, entropy = new_dist.log_prob(b_actions[mb_inds]).sum(1), new_dist.entropy().sum(1)\n",
    "            logratio = new_logprob - b_logprobs[mb_inds] + torch.log(torch.Tensor([1e-6]))\n",
    "            ratio = logratio.exp()\n",
    "            with torch.no_grad():\n",
    "                # calculate approx_kl http://joschu.net/blog/kl-approx.html\n",
    "                old_approx_kl = (-logratio).mean()\n",
    "                approx_kl = ((ratio - 1) - logratio).mean()\n",
    "                clipfracs += [((ratio - 1.0).abs() > epsilon).float().mean().item()]\n",
    "\n",
    "            mb_advantages = b_advantages[mb_inds]\n",
    "            if normalize_advantage:  # Normalize advantage\n",
    "                mb_advantages = (mb_advantages - mb_advantages.mean()) / (mb_advantages.std() + 1e-8)\n",
    "\n",
    "            # Policy loss\n",
    "            pg_loss1 = -mb_advantages * ratio\n",
    "            pg_loss2 = -mb_advantages * torch.clamp(ratio, 1 - epsilon, 1 + epsilon)\n",
    "            pg_loss = torch.max(pg_loss1, pg_loss2).mean()\n",
    "\n",
    "            # Value loss\n",
    "            newvalue = new_value.view(-1)\n",
    "            if clip_vloss:\n",
    "                v_loss_unclipped = (newvalue - b_returns[mb_inds]) ** 2\n",
    "                v_clipped = b_values[mb_inds] + torch.clamp(\n",
    "                    newvalue - b_values[mb_inds],\n",
    "                    -clip_coef,\n",
    "                    clip_coef,\n",
    "                )\n",
    "                v_loss_clipped = (v_clipped - b_returns[mb_inds]) ** 2\n",
    "                v_loss_max = torch.max(v_loss_unclipped, v_loss_clipped)\n",
    "                v_loss = 0.5 * v_loss_max.mean()\n",
    "            else:\n",
    "                v_loss = 0.5 * ((newvalue - b_returns[mb_inds]) ** 2).mean()\n",
    "\n",
    "            entropy_loss = entropy.mean()\n",
    "            loss = pg_loss - ent_coef * entropy_loss + v_loss * critic_loss_coeff\n",
    "\n",
    "            optimizer.zero_grad()\n",
    "            loss.backward()\n",
    "            nn.utils.clip_grad_norm_(agent.parameters(), grad_clip)\n",
    "            optimizer.step()\n",
    "\n",
    "    y_pred, y_true = b_values.cpu().numpy(), b_returns.cpu().numpy()\n",
    "    var_y = np.var(y_true)\n",
    "    explained_var = np.nan if var_y == 0 else 1 - np.var(y_true - y_pred) / var_y\n",
    "    print(\"mean\", mean_action[0])\n",
    "    print(\"sigma\", std_action[0])\n",
    "    print(\"Average return:\", np.mean(torch_env.reward_history, axis=1)[-1])\n",
    "    # print(np.mean(torch_env.reward_history, axis =1)[-1])\n",
    "    #print(\"Circuit fidelity:\", torch_env.circuit_fidelity_history[-1])\n",
    "    #print(\"Avg gate fidelity:\", torch_env.avg_fidelity_history[-1])   \n",
    "    print(torch_env._get_info())\n",
    "    # TRY NOT TO MODIFY: record rewards for plotting purposes\n",
    "    writer.add_scalar(\"charts/learning_rate\", optimizer.param_groups[0][\"lr\"], global_step)\n",
    "    writer.add_scalar(\"losses/value_loss\", v_loss.item(), global_step)\n",
    "    writer.add_scalar(\"losses/avg_return\", np.mean(torch_env.reward_history, axis=1)[-1], global_step)\n",
    "    #for i in range(num_steps):\n",
    "     #   writer.add_scalar(f\"losses/avg_gate_{i}_fidelity\", torch_env.avg_fidelity_history[-1][i], global_step)\n",
    "    #writer.add_scalar(\"losses/circuit_fidelity\", torch_env.circuit_fidelity_history[-1], global_step)\n",
    "    writer.add_scalar(\"losses/policy_loss\", pg_loss.item(), global_step)\n",
    "    writer.add_scalar(\"losses/entropy\", entropy_loss.item(), global_step)\n",
    "    writer.add_scalar(\"losses/old_approx_kl\", old_approx_kl.item(), global_step)\n",
    "    writer.add_scalar(\"losses/approx_kl\", approx_kl.item(), global_step)\n",
    "    writer.add_scalar(\"losses/clipfrac\", np.mean(clipfracs), global_step)\n",
    "    writer.add_scalar(\"losses/explained_variance\", explained_var, global_step)\n",
    "    if global_step%visualization_steps == 0:\n",
    "        clear_output(wait=True) # for animation\n",
    "\n",
    "torch_env.close()\n",
    "writer.close()"
   ]
  }
 ],
 "metadata": {
  "kernelspec": {
   "display_name": "Python 3",
   "language": "python",
   "name": "python3"
  },
  "language_info": {
   "codemirror_mode": {
    "name": "ipython",
    "version": 3
   },
   "file_extension": ".py",
   "mimetype": "text/x-python",
   "name": "python",
   "nbconvert_exporter": "python",
   "pygments_lexer": "ipython3",
   "version": "3.9.6"
  },
  "orig_nbformat": 4
 },
 "nbformat": 4,
 "nbformat_minor": 2
}

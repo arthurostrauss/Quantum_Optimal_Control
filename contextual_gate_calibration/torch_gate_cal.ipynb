{
 "cells": [
  {
   "cell_type": "markdown",
   "id": "0add8aa4-1192-494a-b008-580a71198265",
   "metadata": {},
   "source": [
    "# Context aware gate calibration notebook\n",
    "\n",
    "This notebook proposes a full demonstration of how to use the context-aware gate calibration, leveraging only gate parameters.\n",
    "Another notebook is available if one wants to deal with pulse level calibration."
   ]
  },
  {
   "cell_type": "code",
   "id": "986797df-f218-41c9-a642-8473a39e065d",
   "metadata": {
    "tags": [],
    "ExecuteTime": {
     "end_time": "2024-06-06T03:26:12.037851Z",
     "start_time": "2024-06-06T03:26:12.033837Z"
    }
   },
   "source": [
    "path = \"/Users/arthurostrauss/Library/CloudStorage/OneDrive-NationalUniversityofSingapore/Coding_projects/Quantum_Optimal_Control\"\n",
    "\n",
    "import os\n",
    "\n",
    "os.environ[\"KMP_DUPLICATE_LIB_OK\"] = \"True\"\n",
    "import sys\n",
    "\n",
    "module_path = os.path.abspath(os.path.join(path))\n",
    "if module_path not in sys.path:\n",
    "    sys.path.append(module_path)"
   ],
   "outputs": [],
   "execution_count": 1
  },
  {
   "cell_type": "code",
   "id": "cc45931e-f117-412a-b9ca-c65738633a7b",
   "metadata": {
    "tags": [],
    "ExecuteTime": {
     "end_time": "2024-06-06T03:53:48.922283Z",
     "start_time": "2024-06-06T03:53:43.622835Z"
    }
   },
   "source": [
    "# Qiskit imports\n",
    "from qiskit import transpile\n",
    "from qiskit.circuit import (\n",
    "    ParameterVector,\n",
    "    QuantumCircuit,\n",
    "    QuantumRegister,\n",
    ")\n",
    "\n",
    "from qiskit_ibm_runtime.fake_provider import (\n",
    "    FakeJakartaV2,\n",
    "    FakeJakarta,\n",
    "    FakeHanoi,\n",
    "    FakePerth,\n",
    ")\n",
    "from qiskit.circuit.library import XGate, CXGate\n",
    "\n",
    "from qconfig import QiskitConfig\n",
    "\n",
    "from context_aware_quantum_environment import (\n",
    "    ContextAwareQuantumEnvironmentV2 as ContextAwareQuantumEnvironment,\n",
    ")\n",
    "from gymnasium.spaces import Box\n",
    "import torch\n",
    "import torch.nn as nn\n",
    "from torch.utils.tensorboard import SummaryWriter\n",
    "import torch.optim as optim\n",
    "from torch.distributions import Normal\n",
    "\n",
    "import numpy as np\n",
    "import tqdm\n",
    "from typing import Optional\n",
    "from IPython.display import clear_output"
   ],
   "outputs": [
    {
     "name": "stdout",
     "output_type": "stream",
     "text": [
      "2024-06-06 11:53:44,767 - qm - INFO     - Starting session: cd00346d-2c48-40bf-afc4-dd1aecedb9bf\n"
     ]
    }
   ],
   "execution_count": 1
  },
  {
   "cell_type": "code",
   "source": [
    "from qiskit_ibm_runtime.fake_provider import FakeProviderForBackendV2, FakeProvider\n",
    "\n",
    "backend_name = \"fake_armonk\"\n",
    "FakeProviderForBackendV2().backend(backend_name)"
   ],
   "metadata": {
    "collapsed": false,
    "ExecuteTime": {
     "end_time": "2024-06-06T03:53:48.960490Z",
     "start_time": "2024-06-06T03:53:48.923149Z"
    }
   },
   "id": "f04c2e045f1082a9",
   "outputs": [
    {
     "data": {
      "text/plain": [
       "<qiskit_ibm_runtime.fake_provider.backends.armonk.fake_armonk.FakeArmonkV2 at 0x34eb8db10>"
      ]
     },
     "execution_count": 2,
     "metadata": {},
     "output_type": "execute_result"
    }
   ],
   "execution_count": 2
  },
  {
   "cell_type": "markdown",
   "id": "c9e1b780-6e09-4b4f-8f0c-b1709942392c",
   "metadata": {},
   "source": [
    "# Circuit macros for environment"
   ]
  },
  {
   "cell_type": "code",
   "id": "47a42969-7541-4c0d-8415-e4b83408dbc6",
   "metadata": {
    "tags": [],
    "ExecuteTime": {
     "end_time": "2024-06-06T03:53:48.963363Z",
     "start_time": "2024-06-06T03:53:48.961131Z"
    }
   },
   "source": [
    "def param_circuit(\n",
    "    qc: QuantumCircuit,\n",
    "    params: Optional[ParameterVector] = None,\n",
    "    q_reg: Optional[QuantumRegister] = None,\n",
    "    **kwargs\n",
    ") -> None:\n",
    "    my_qc = QuantumCircuit(q_reg, name=\"custom_cx\")\n",
    "    optimal_params = np.pi * np.array([0.0, 0.0, 0.5, 0.5, -0.5, 0.5, -0.5])\n",
    "\n",
    "    my_qc.u(\n",
    "        optimal_params[0] + params[0],\n",
    "        optimal_params[1] + params[1],\n",
    "        optimal_params[2] + params[2],\n",
    "        q_reg[0],\n",
    "    )\n",
    "    my_qc.u(\n",
    "        optimal_params[3] + params[3],\n",
    "        optimal_params[4] + params[4],\n",
    "        optimal_params[5] + params[5],\n",
    "        q_reg[1],\n",
    "    )\n",
    "    my_qc.rzx(optimal_params[6] + params[6], q_reg[0], q_reg[1])\n",
    "    # my_qc.u(np.pi *params[0], np.pi *params[1], np.pi *params[2], 0)\n",
    "    # my_qc.u(np.pi *params[3], np.pi *params[4], np.pi *params[5], 1)\n",
    "    # my_qc.rzx(np.pi * params[6], 0, 1)\n",
    "    qc.append(my_qc.to_gate(label=\"custom_cx\"), physical_qubits)\n",
    "    # qc.rx(2 * np.pi * params[0], physical_qubits)"
   ],
   "outputs": [],
   "execution_count": 3
  },
  {
   "cell_type": "markdown",
   "id": "296601c4-aa0e-4e8b-9092-290ed0cf1e0b",
   "metadata": {},
   "source": [
    "# Definition of QuantumEnvironment"
   ]
  },
  {
   "cell_type": "markdown",
   "id": "98afa4fb-25fc-488a-9a98-92449e54ff2e",
   "metadata": {},
   "source": [
    "## Setting up Quantum Backend"
   ]
  },
  {
   "cell_type": "markdown",
   "id": "fe08b81b-7885-458c-bfac-4399403a9a4f",
   "metadata": {
    "tags": []
   },
   "source": [
    "### Simulation backend initialization\n",
    "If you want to run the algorithm over a simulation, you can use both local (Qiskit Aer module or statevector simulation) and cloud simulators from IBM (Qiskit Runtime).\n",
    "\n",
    "Below we define a gate level simulator instance mimicking a FakeBackend object. It can be either defined on the IBM cloud or locally.\n",
    "\n"
   ]
  },
  {
   "cell_type": "markdown",
   "id": "967f3b91-f457-4534-851e-03b83f48cb3d",
   "metadata": {},
   "source": [
    "#### Using ```FakeBackend``` as starting point"
   ]
  },
  {
   "cell_type": "code",
   "id": "3cf368e0-b465-4503-8939-1dacf216c912",
   "metadata": {
    "tags": [],
    "ExecuteTime": {
     "end_time": "2024-06-06T03:53:51.605828Z",
     "start_time": "2024-06-06T03:53:50.917075Z"
    }
   },
   "source": [
    "from qiskit.visualization import (\n",
    "    plot_coupling_map,\n",
    "    plot_circuit_layout,\n",
    "    gate_map,\n",
    "    plot_gate_map,\n",
    "    plot_error_map,\n",
    ")\n",
    "from qiskit.visualization.pulse_v2 import IQXDebugging\n",
    "\n",
    "fake_backend = FakeJakarta()\n",
    "fake_backend_v2 = FakeJakartaV2()\n",
    "plot_error_map(fake_backend)"
   ],
   "outputs": [
    {
     "data": {
      "text/plain": [
       "<Figure size 1500x1200 with 5 Axes>"
      ],
      "image/png": "[encoded data removed]"
     },
     "execution_count": 4,
     "metadata": {},
     "output_type": "execute_result"
    }
   ],
   "execution_count": 4
  },
  {
   "cell_type": "markdown",
   "id": "35b3a81e-c2fb-44b2-8080-116ba52558d9",
   "metadata": {},
   "source": [
    "#### Choose Runtime Backend\n",
    "\n",
    "Below, you can choose to run the simulations on IBM cloud instead of using the local Qiskit-Aer module. "
   ]
  },
  {
   "cell_type": "code",
   "id": "c6669aaf-89c2-4e62-8b75-8e1198429209",
   "metadata": {
    "tags": [],
    "ExecuteTime": {
     "end_time": "2024-06-06T02:13:14.290875Z",
     "start_time": "2024-06-06T02:13:07.906377Z"
    }
   },
   "source": [
    "# Cloud simulator backend\n",
    "from qiskit_ibm_runtime import QiskitRuntimeService, Options\n",
    "\n",
    "estimator_options = Options()\n",
    "service = QiskitRuntimeService(channel=\"ibm_quantum\", instance=\"ibm-q/open/main\")"
   ],
   "outputs": [
    {
     "ename": "QiskitBackendNotFoundError",
     "evalue": "'No backend matches the criteria.'",
     "output_type": "error",
     "traceback": [
      "\u001b[0;31m---------------------------------------------------------------------------\u001b[0m",
      "\u001b[0;31mQiskitBackendNotFoundError\u001b[0m                Traceback (most recent call last)",
      "Cell \u001b[0;32mIn[5], line 8\u001b[0m\n\u001b[1;32m      4\u001b[0m estimator_options \u001b[38;5;241m=\u001b[39m Options()\n\u001b[1;32m      5\u001b[0m service \u001b[38;5;241m=\u001b[39m QiskitRuntimeService(\n\u001b[1;32m      6\u001b[0m     channel\u001b[38;5;241m=\u001b[39m\u001b[38;5;124m\"\u001b[39m\u001b[38;5;124mibm_quantum\u001b[39m\u001b[38;5;124m\"\u001b[39m, instance\u001b[38;5;241m=\u001b[39m\u001b[38;5;124m\"\u001b[39m\u001b[38;5;124mibm-q-nus/default/default\u001b[39m\u001b[38;5;124m\"\u001b[39m\n\u001b[1;32m      7\u001b[0m )\n\u001b[0;32m----> 8\u001b[0m runtime_backend \u001b[38;5;241m=\u001b[39m service\u001b[38;5;241m.\u001b[39mbackend(\u001b[38;5;124m\"\u001b[39m\u001b[38;5;124mibmq_qasm_simulator\u001b[39m\u001b[38;5;124m\"\u001b[39m)\n\u001b[1;32m      9\u001b[0m estimator_options\u001b[38;5;241m.\u001b[39msimulator\u001b[38;5;241m.\u001b[39mset_backend(fake_backend_v2)\n\u001b[1;32m     11\u001b[0m \u001b[38;5;66;03m# # To run in context calibration, we need to update the following attribute\u001b[39;00m\n",
      "File \u001b[0;32m~/anaconda3/envs/rl_qoc/lib/python3.11/site-packages/qiskit_ibm_runtime/qiskit_runtime_service.py:778\u001b[0m, in \u001b[0;36mQiskitRuntimeService.backend\u001b[0;34m(self, name, instance)\u001b[0m\n\u001b[1;32m    762\u001b[0m \u001b[38;5;250m\u001b[39m\u001b[38;5;124;03m\"\"\"Return a single backend matching the specified filtering.\u001b[39;00m\n\u001b[1;32m    763\u001b[0m \n\u001b[1;32m    764\u001b[0m \u001b[38;5;124;03mArgs:\u001b[39;00m\n\u001b[0;32m   (...)\u001b[0m\n\u001b[1;32m    775\u001b[0m \u001b[38;5;124;03m    QiskitBackendNotFoundError: if no backend could be found.\u001b[39;00m\n\u001b[1;32m    776\u001b[0m \u001b[38;5;124;03m\"\"\"\u001b[39;00m\n\u001b[1;32m    777\u001b[0m \u001b[38;5;66;03m# pylint: disable=arguments-differ, line-too-long\u001b[39;00m\n\u001b[0;32m--> 778\u001b[0m backends \u001b[38;5;241m=\u001b[39m \u001b[38;5;28mself\u001b[39m\u001b[38;5;241m.\u001b[39mbackends(name, instance\u001b[38;5;241m=\u001b[39minstance)\n\u001b[1;32m    779\u001b[0m \u001b[38;5;28;01mif\u001b[39;00m \u001b[38;5;129;01mnot\u001b[39;00m backends:\n\u001b[1;32m    780\u001b[0m     cloud_msg_url \u001b[38;5;241m=\u001b[39m \u001b[38;5;124m\"\u001b[39m\u001b[38;5;124m\"\u001b[39m\n",
      "File \u001b[0;32m~/anaconda3/envs/rl_qoc/lib/python3.11/site-packages/qiskit_ibm_runtime/qiskit_runtime_service.py:538\u001b[0m, in \u001b[0;36mQiskitRuntimeService.backends\u001b[0;34m(self, name, min_num_qubits, instance, dynamic_circuits, filters, **kwargs)\u001b[0m\n\u001b[1;32m    536\u001b[0m \u001b[38;5;28;01mif\u001b[39;00m name:\n\u001b[1;32m    537\u001b[0m     \u001b[38;5;28;01mif\u001b[39;00m name \u001b[38;5;129;01mnot\u001b[39;00m \u001b[38;5;129;01min\u001b[39;00m \u001b[38;5;28mself\u001b[39m\u001b[38;5;241m.\u001b[39m_backends:\n\u001b[0;32m--> 538\u001b[0m         \u001b[38;5;28;01mraise\u001b[39;00m QiskitBackendNotFoundError(\u001b[38;5;124m\"\u001b[39m\u001b[38;5;124mNo backend matches the criteria.\u001b[39m\u001b[38;5;124m\"\u001b[39m)\n\u001b[1;32m    539\u001b[0m     \u001b[38;5;28;01mif\u001b[39;00m \u001b[38;5;129;01mnot\u001b[39;00m \u001b[38;5;28mself\u001b[39m\u001b[38;5;241m.\u001b[39m_backends[name] \u001b[38;5;129;01mor\u001b[39;00m instance_filter \u001b[38;5;241m!=\u001b[39m \u001b[38;5;28mself\u001b[39m\u001b[38;5;241m.\u001b[39m_backends[name]\u001b[38;5;241m.\u001b[39m_instance:\n\u001b[1;32m    540\u001b[0m         \u001b[38;5;28mself\u001b[39m\u001b[38;5;241m.\u001b[39m_set_backend_config(name)\n",
      "\u001b[0;31mQiskitBackendNotFoundError\u001b[0m: 'No backend matches the criteria.'"
     ]
    }
   ],
   "execution_count": 5
  },
  {
   "cell_type": "markdown",
   "source": [
    "## Choose backend and define Qiskit config dictionary\n",
    "Below, set the Backend that you would like to run among the above defined backend.\n",
    "Then define the config gathering all the components enabling the definition of the ```QuantumEnvironment```.\n",
    "\n"
   ],
   "metadata": {},
   "id": "dfcb4fb2-7dc3-4a34-bc99-6de8980cb741"
  },
  {
   "cell_type": "code",
   "source": [
    "# Choose backend: local or in the cloud (runtime_backend or fake_backend_v2)\n",
    "backend = fake_backend_v2\n",
    "estimator_options = None"
   ],
   "metadata": {
    "tags": [],
    "ExecuteTime": {
     "end_time": "2024-06-06T03:54:53.247989Z",
     "start_time": "2024-06-06T03:54:53.243864Z"
    }
   },
   "id": "eb1a5d17-2279-44c8-aebd-053628f91cf2",
   "outputs": [],
   "execution_count": 5
  },
  {
   "cell_type": "code",
   "source": [
    "backend_config = QiskitConfig(\n",
    "    parametrized_circuit=param_circuit,\n",
    "    backend=backend,\n",
    "    estimator_options=estimator_options,\n",
    ")"
   ],
   "metadata": {
    "tags": [],
    "ExecuteTime": {
     "end_time": "2024-06-06T03:54:53.651417Z",
     "start_time": "2024-06-06T03:54:53.649691Z"
    }
   },
   "id": "c954a810-f1ed-42b7-80df-b2fffc888c3f",
   "outputs": [],
   "execution_count": 6
  },
  {
   "cell_type": "markdown",
   "id": "76ba48c6-f4e7-4c58-840b-63b9fc56872f",
   "metadata": {},
   "source": [
    "## Target gate definition\n",
    "\n",
    "Below we provide the necessary elements to define a target instruction to be calibrated within a specific circuit context. \n",
    "\n",
    "To do so we need:\n",
    "1. A target gate, which we will pick as the CNOT gate, and a list of ```physical qubits``` on which it is applied. The algorithm will identify the ```CircuitInstruction``` object that is formed by the application of the gate on the specific set of qubits (that means that it will not calibrate instances of the gate on another set of qubits, an extension will enable in the future the simultaneous calibration of a target gate on non-overlapping qubits).\n",
    "2. A ```QuantumCircuit``` instance involving the call of such gate.\n",
    "\n",
    "*IMPORTANT*: To make sure that the gate we want to optimize will indeed be present in the transpiled circuit, make sure to first transpile the circuit yourself (with the method of your choice) before feeding the ```TorchQuantumEnvironment``` with it."
   ]
  },
  {
   "cell_type": "code",
   "id": "16c42b3b-da55-4467-98f5-ac20b0325897",
   "metadata": {
    "tags": [],
    "ExecuteTime": {
     "end_time": "2024-06-06T03:54:54.924192Z",
     "start_time": "2024-06-06T03:54:54.502683Z"
    }
   },
   "source": [
    "target_gate = CXGate()\n",
    "physical_qubits = [0, 1]\n",
    "target = {\"gate\": target_gate, \"physical_qubits\": physical_qubits}\n",
    "\n",
    "target_circuit = QuantumCircuit(5)\n",
    "\n",
    "target_circuit.h(0)\n",
    "target_circuit.cx(0, 1)\n",
    "\n",
    "target_circuit = transpile(\n",
    "    target_circuit, backend, optimization_level=1, scheduling_method=\"asap\"\n",
    ")\n",
    "target_circuit.draw(\"mpl\")"
   ],
   "outputs": [
    {
     "data": {
      "text/plain": [
       "<Figure size 583.111x618.722 with 1 Axes>"
      ],
      "image/png": "[encoded data removed]"
     },
     "execution_count": 7,
     "metadata": {},
     "output_type": "execute_result"
    }
   ],
   "execution_count": 7
  },
  {
   "cell_type": "markdown",
   "source": [
    "## Generic information characterizing the environment\n",
    "\n",
    "The algorithm is built upon Qiskit modules. To specify how to address our quantum system of interest, we therefore adopt the IBM approach to define a quantum backend, on which qubits are defined and can be accessed via control actions and measurements.\n",
    "\n",
    "The cell below specifies:\n",
    "- ```sampling_Paulis```: number of Pauli observables  to be sampled from the system: the algorithm relies on the ability to process measurement outcomes to estimate the expectation value of different Pauli operators. The more observables we provide for sampling, the more properties we are able to deduce with accuracy about the actual state that was created when applying our custom controls. For a single qubit, the possible Pauli operators are $\\sigma_0=I$, $\\sigma_x=X$, $\\sigma_y=Y$, $\\sigma_z=Z$. For a general multiqubit system, the Pauli observables are tensor products of those single qubit Pauli operators. The algorithm will automatically estimate which observables are the most relevant to sample based on the provided target. The probability distribution from which those observables are sampled is derived from the Direct Fidelity Estimation (equation 3, https://link.aps.org/doi/10.1103/PhysRevLett.106.230501) algorithm. \n",
    "- ```N_shots```: Indicates how many measurements shall be done for each provided circuit (that is a specific combination of an action vector and a Pauli observable to be sampled)\n",
    "- ```n_actions```: Indicates the number of pulse/circuit parameters that characterize our parametrized quantum circuit. For our pulse level ansatz, this number will depend on the number of parameters we are willing to tune in the original two-qubit gate calibration. For now we set it to 0, but will use the function ```count_parameters``` above to determine the number.\n",
    "- ```estimator_options```: Options of the Qiskit Estimator primitive. The Estimator is the Qiskit module enabling an easy computation of Pauli expectation values. One can set options to make this process more reliable (typically by doing some error mitigation techniques in post-processing). Works only with Runtime Backend at the moment\n",
    "- ```min_bound_actions```: Lower bound for the control parameters\n",
    "- ```max_bound_actions```: Upper bound for the control parameters\n",
    "- ```scale_factor```: Scaling factor for the control parameters\n",
    "- ```observation_space```: The space of observations that the environment can return. It is a Box space, which is a generalization of the n-dimensional hypercube. It is defined by a shape attribute, which is a tuple of n floats, and a dtype attribute, which is the data type of the space's elements. The observation space is defined in this case by two numbers: the input state sampled at random (corresponding to a normalized index between 0 and 1) for the gate calibration, and the timing at which the target gate is applied in the circuit (we will provide a different gate calibration for each appearance). The latter timing is also normalized with respect to the total duration of the circuit."
   ],
   "metadata": {},
   "id": "68be2150-a8c4-4b76-8534-0333e926dee3"
  },
  {
   "cell_type": "code",
   "source": [
    "# device = torch.device(\"cuda\" if torch.cuda.is_available() else \"cpu\")\n",
    "device = torch.device(\"cpu\")\n",
    "sampling_Paulis = 200\n",
    "N_shots = 20  # Number of shots for sampling the quantum computer for each action vector\n",
    "n_actions = 7  # Choose how many control parameters in pulse/circuit parametrization\n",
    "batchsize = 300\n",
    "seed = 10\n",
    "benchmark_cycle = 10  # Number of episodes before benchmarking the circuit fidelity\n",
    "min_bound_actions = -0.05\n",
    "max_bound_actions = 0.05\n",
    "observation_space = Box(\n",
    "    low=np.array([0, 0]),\n",
    "    high=np.array([1, 1]),\n",
    "    shape=(2,),\n",
    "    seed=seed,\n",
    ")\n",
    "action_space = Box(\n",
    "    low=min_bound_actions, high=max_bound_actions, shape=(n_actions,), seed=seed\n",
    ")"
   ],
   "metadata": {
    "tags": [],
    "ExecuteTime": {
     "end_time": "2024-06-06T03:54:56.481758Z",
     "start_time": "2024-06-06T03:54:56.477637Z"
    }
   },
   "id": "f5564b2e-63ac-49a4-9612-72e1ce3df4a6",
   "outputs": [],
   "execution_count": 8
  },
  {
   "cell_type": "markdown",
   "id": "f0728780-bee0-4fc5-9522-cedb5977fd18",
   "metadata": {},
   "source": [
    "# Definition of ```ContextAwareQuantumEnvironment```\n",
    "\n",
    "Below we define our custom ```ContextAwareQuantumEnvironment``` to perform contextual gate calibration.\n"
   ]
  },
  {
   "cell_type": "code",
   "id": "a5a364a0-1a2f-4383-bed8-acbbea6eeae1",
   "metadata": {
    "tags": [],
    "ExecuteTime": {
     "end_time": "2024-06-06T03:54:57.829281Z",
     "start_time": "2024-06-06T03:54:57.827466Z"
    }
   },
   "source": [
    "from qconfig import QEnvConfig, ExecutionConfig\n",
    "\n",
    "execution_config = ExecutionConfig(\n",
    "    batchsize,\n",
    "    sampling_Paulis,\n",
    "    N_shots,\n",
    "    n_reps=1,\n",
    "    seed=seed,\n",
    ")\n",
    "\n",
    "env_config = QEnvConfig(\n",
    "    target=target,\n",
    "    backend_config=backend_config,\n",
    "    action_space=action_space,\n",
    "    execution_config=execution_config,\n",
    "    training_with_cal=False,\n",
    ")"
   ],
   "outputs": [],
   "execution_count": 9
  },
  {
   "cell_type": "code",
   "id": "e20355a7-6530-4459-9e03-d4bbf69daf3b",
   "metadata": {
    "tags": [],
    "ExecuteTime": {
     "end_time": "2024-06-06T03:55:00.397128Z",
     "start_time": "2024-06-06T03:54:58.420327Z"
    }
   },
   "source": [
    "# Define necessary information for the Torch wrapper\n",
    "training_steps_per_gate = (\n",
    "    3  # How many training iterations allocated for each target gate in circuit\n",
    ")\n",
    "\n",
    "optimal_params = np.pi * np.array([0.0, 0.0, 0.5, 0.5, -0.5, 0.5, -0.5])\n",
    "env = ContextAwareQuantumEnvironment(\n",
    "    env_config, target_circuit, training_steps_per_gate\n",
    ")\n",
    "env"
   ],
   "outputs": [
    {
     "data": {
      "text/plain": [
       "QuantumEnvironment composed of 2 qubits, \n",
       "Defined target: gate (Instruction(name='cx', num_qubits=2, num_clbits=0, params=[]))\n",
       "Physical qubits: [0, 1]\n",
       "Backend: <qiskit_ibm_runtime.fake_provider.backends.jakarta.fake_jakarta.FakeJakartaV2 object at 0x350444350>,\n",
       "Abstraction level: circuit,\n",
       "Run options: N_shots (20), Sampling_Pauli_space (200), \n",
       "Batch size: 300, "
      ]
     },
     "execution_count": 10,
     "metadata": {},
     "output_type": "execute_result"
    }
   ],
   "execution_count": 10
  },
  {
   "cell_type": "code",
   "source": [
    "from gymnasium.wrappers import ClipAction, RescaleAction\n",
    "\n",
    "rescaled_env = RescaleAction(ClipAction(env), -1.0, 1.0)"
   ],
   "metadata": {
    "collapsed": false,
    "ExecuteTime": {
     "end_time": "2024-06-06T03:55:02.925634Z",
     "start_time": "2024-06-06T03:55:02.923677Z"
    }
   },
   "id": "e30ccaaeea0a59d7",
   "outputs": [],
   "execution_count": 11
  },
  {
   "cell_type": "code",
   "id": "6c226e11-0ad7-4ae6-9cf1-0cac9eee9755",
   "metadata": {
    "tags": [],
    "ExecuteTime": {
     "end_time": "2024-06-06T03:55:03.290901Z",
     "start_time": "2024-06-06T03:55:03.289034Z"
    }
   },
   "source": [
    "print(\"Backend options:\\n\", backend.options)"
   ],
   "outputs": [
    {
     "name": "stdout",
     "output_type": "stream",
     "text": [
      "Backend options:\n",
      " Options(shots=1024, method='automatic', device='CPU', precision='double', executor=None, max_job_size=None, max_shot_size=None, enable_truncation=True, zero_threshold=1e-10, validation_threshold=None, max_parallel_threads=None, max_parallel_experiments=None, max_parallel_shots=None, max_memory_mb=None, fusion_enable=True, fusion_verbose=False, fusion_max_qubit=None, fusion_threshold=None, accept_distributed_results=None, memory=None, noise_model=None, seed_simulator=None, cuStateVec_enable=False, blocking_qubits=None, blocking_enable=False, chunk_swap_buffer_qubits=None, batched_shots_gpu=False, batched_shots_gpu_max_qubits=16, num_threads_per_device=1, shot_branching_enable=False, shot_branching_sampling_enable=False, statevector_parallel_threshold=14, statevector_sample_measure_opt=10, stabilizer_max_snapshot_probabilities=32, extended_stabilizer_sampling_method='resampled_metropolis', extended_stabilizer_metropolis_mixing_time=5000, extended_stabilizer_approximation_error=0.05, extended_stabilizer_norm_estimation_samples=100, extended_stabilizer_norm_estimation_repetitions=3, extended_stabilizer_parallel_threshold=100, extended_stabilizer_probabilities_snapshot_samples=3000, matrix_product_state_truncation_threshold=1e-16, matrix_product_state_max_bond_dimension=None, mps_sample_measure_algorithm='mps_heuristic', mps_log_data=False, mps_swap_direction='mps_swap_left', chop_threshold=1e-08, mps_parallel_threshold=14, mps_omp_threads=1, mps_lapack=False, tensor_network_num_sampling_qubits=10, use_cuTensorNet_autotuning=False, runtime_parameter_bind_enable=False)\n"
     ]
    }
   ],
   "execution_count": 12
  },
  {
   "cell_type": "code",
   "id": "cc8f4207-e627-49af-bf16-da38e0a03f21",
   "metadata": {
    "tags": [],
    "ExecuteTime": {
     "end_time": "2024-06-06T03:55:03.486077Z",
     "start_time": "2024-06-06T03:55:03.484548Z"
    }
   },
   "source": [
    "print(\"Updated estimator options to account for the context:\\n\")\n",
    "print(env.estimator.options)"
   ],
   "outputs": [
    {
     "name": "stdout",
     "output_type": "stream",
     "text": [
      "Updated estimator options to account for the context:\n",
      "\n",
      "Options(default_precision=0.015625, abelian_grouping=True, seed_simulator=None)\n"
     ]
    }
   ],
   "execution_count": 13
  },
  {
   "cell_type": "code",
   "id": "41f390b0-6464-4e93-b47c-13c0d0046827",
   "metadata": {
    "tags": [],
    "ExecuteTime": {
     "end_time": "2024-06-06T03:55:03.739919Z",
     "start_time": "2024-06-06T03:55:03.662321Z"
    }
   },
   "source": "env.circuit_context.draw(\"mpl\")",
   "outputs": [
    {
     "data": {
      "text/plain": [
       "<Figure size 583.111x618.722 with 1 Axes>"
      ],
      "image/png": "[encoded data removed]"
     },
     "execution_count": 14,
     "metadata": {},
     "output_type": "execute_result"
    }
   ],
   "execution_count": 14
  },
  {
   "cell_type": "code",
   "id": "6748c07d-c9a8-41b8-9932-b49de83cca0b",
   "metadata": {
    "tags": [],
    "ExecuteTime": {
     "end_time": "2024-06-06T03:55:04.759348Z",
     "start_time": "2024-06-06T03:55:04.704846Z"
    }
   },
   "source": "env.circuits[0].draw(\"mpl\")",
   "outputs": [
    {
     "data": {
      "text/plain": [
       "<Figure size 821.817x367.889 with 1 Axes>"
      ],
      "image/png": "[encoded data removed]"
     },
     "execution_count": 15,
     "metadata": {},
     "output_type": "execute_result"
    }
   ],
   "execution_count": 15
  },
  {
   "metadata": {
    "ExecuteTime": {
     "end_time": "2024-06-06T03:55:10.474222Z",
     "start_time": "2024-06-06T03:55:10.418438Z"
    }
   },
   "cell_type": "code",
   "source": "env.baseline_circuits[0].draw(\"mpl\")",
   "id": "733943741766154c",
   "outputs": [
    {
     "data": {
      "text/plain": [
       "<Figure size 487.372x367.889 with 1 Axes>"
      ],
      "image/png": "[encoded data removed]"
     },
     "execution_count": 16,
     "metadata": {},
     "output_type": "execute_result"
    }
   ],
   "execution_count": 16
  },
  {
   "cell_type": "markdown",
   "id": "5b4b6bdf-18c0-4695-b040-811d3c96a498",
   "metadata": {},
   "source": [
    "# Definition of the Agent"
   ]
  },
  {
   "cell_type": "code",
   "id": "b3aee453-8139-47dd-8409-88aa72c31181",
   "metadata": {
    "tags": [],
    "ExecuteTime": {
     "end_time": "2024-06-06T03:55:16.337169Z",
     "start_time": "2024-06-06T03:55:16.309201Z"
    }
   },
   "source": [
    "from agent import ActorNetwork, CriticNetwork, Agent\n",
    "\n",
    "hidden_units = [64, 64]\n",
    "activation_functions = [nn.Tanh(), nn.Tanh(), nn.Tanh()]\n",
    "include_critic = True\n",
    "chkpt_dir = \"tmp/ppo\"\n",
    "chkpt_dir_critic = \"tmp/critic_ppo\"\n",
    "\n",
    "actor_net = ActorNetwork(\n",
    "    observation_space,\n",
    "    hidden_units,\n",
    "    n_actions,\n",
    "    activation_functions,\n",
    "    include_critic,\n",
    "    chkpt_dir,\n",
    ").to(device)\n",
    "critic_net = CriticNetwork(\n",
    "    observation_space, hidden_units, activation_functions, chkpt_dir_critic\n",
    ").to(device)\n",
    "agent = Agent(actor_net, critic_net=None).to(device)"
   ],
   "outputs": [],
   "execution_count": 18
  },
  {
   "cell_type": "markdown",
   "id": "f4c979c9-8d16-42fa-88d3-8810dc0f5758",
   "metadata": {},
   "source": [
    "## Hyperparameters for training"
   ]
  },
  {
   "cell_type": "code",
   "id": "aa0544ad-7134-41f4-bc5e-4197c5750d4d",
   "metadata": {
    "tags": [],
    "ExecuteTime": {
     "end_time": "2024-06-06T03:55:17.284518Z",
     "start_time": "2024-06-06T03:55:17.000171Z"
    }
   },
   "source": [
    "\"\"\"\n",
    "-----------------------------------------------------------------------------------------------------\n",
    "Hyperparameters for RL agent\n",
    "-----------------------------------------------------------------------------------------------------\n",
    "\"\"\"\n",
    "\n",
    "run_name = \"test\"\n",
    "writer = SummaryWriter(f\"runs/{run_name}\")\n",
    "# writer.ad\n",
    "# d_text(\n",
    "#     \"hyperparameters\",\n",
    "#     \"|param|value|\\n|-|-|\\n%s\" % (\"\\n\".join([f\"|{key}|{value}|\" for key, value in vars(args).items()])),\n",
    "# )\n",
    "# Hyperparameters for the agent\n",
    "n_epochs = 10  # Number of epochs : default 1500\n",
    "num_updates = 1000\n",
    "opti = \"Adam\"\n",
    "lr_actor = 0.0001  # Learning rate for policy update step\n",
    "lr_critic = 0.0018  # Learning rate for critic (value function) update step\n",
    "\n",
    "epsilon = 0.2  # Parameter for clipping value (PPO)\n",
    "critic_loss_coeff = 0.5\n",
    "optimizer = optim.Adam(agent.parameters(), lr=lr_actor, eps=1e-5)\n",
    "actor_optimizer = optim.Adam(actor_net.parameters(), lr=lr_actor, eps=1e-5)\n",
    "critic_optimizer = optim.Adam(critic_net.parameters(), lr=lr_critic, eps=1e-5)\n",
    "minibatch_size = 40\n",
    "gamma = 1.0\n",
    "gae_lambda = 0.95\n",
    "\n",
    "# Clipping\n",
    "clip_vloss = True\n",
    "grad_clip = 0.5\n",
    "clip_coef = 0.5\n",
    "normalize_advantage = False\n",
    "\n",
    "# other coefficients\n",
    "ent_coef = 0.0"
   ],
   "outputs": [],
   "execution_count": 19
  },
  {
   "cell_type": "markdown",
   "id": "fce12ee7-d62f-471a-8596-ef884dfa2a46",
   "metadata": {},
   "source": [
    "# Training\n",
    "## Storage setup"
   ]
  },
  {
   "cell_type": "code",
   "id": "c0df2e66-a289-4e87-8df6-bf9b5a7419c6",
   "metadata": {
    "tags": [],
    "ExecuteTime": {
     "end_time": "2024-06-06T03:55:17.739767Z",
     "start_time": "2024-06-06T03:55:17.736012Z"
    }
   },
   "source": [
    "tgt_instruction_counts = env.tgt_instruction_counts\n",
    "global_step = 0\n",
    "env.clear_history()\n",
    "obs = torch.zeros((tgt_instruction_counts, batchsize) + env.observation_space.shape).to(\n",
    "    device\n",
    ")\n",
    "actions = torch.zeros((tgt_instruction_counts, batchsize) + env.action_space.shape).to(\n",
    "    device\n",
    ")\n",
    "logprobs = torch.zeros((tgt_instruction_counts, batchsize)).to(device)\n",
    "rewards = torch.zeros((tgt_instruction_counts, batchsize)).to(device)\n",
    "dones = torch.zeros((tgt_instruction_counts, batchsize)).to(device)\n",
    "values = torch.zeros((tgt_instruction_counts, batchsize)).to(device)\n",
    "\n",
    "train_obs = torch.zeros(\n",
    "    (batchsize,) + env.observation_space.shape, requires_grad=True\n",
    ").to(device)\n",
    "visualization_steps = 10"
   ],
   "outputs": [],
   "execution_count": 20
  },
  {
   "cell_type": "markdown",
   "id": "10306c6a-de03-4ead-bc32-ffdcb1c0da20",
   "metadata": {},
   "source": [
    "## Main loop"
   ]
  },
  {
   "cell_type": "code",
   "source": [
    "%load_ext tensorboard\n",
    "%tensorboard --logdir runs"
   ],
   "metadata": {
    "collapsed": false,
    "ExecuteTime": {
     "end_time": "2024-06-06T01:42:07.992300Z",
     "start_time": "2024-06-06T01:42:04.415538Z"
    }
   },
   "id": "3bed012c3140caaa",
   "outputs": [
    {
     "data": {
      "text/plain": [
       "<IPython.core.display.HTML object>"
      ],
      "text/html": [
       "\n",
       "      <iframe id=\"tensorboard-frame-429da00aa23edc17\" width=\"100%\" height=\"800\" frameborder=\"0\">\n",
       "      </iframe>\n",
       "      <script>\n",
       "        (function() {\n",
       "          const frame = document.getElementById(\"tensorboard-frame-429da00aa23edc17\");\n",
       "          const url = new URL(\"/\", window.location);\n",
       "          const port = 6006;\n",
       "          if (port) {\n",
       "            url.port = port;\n",
       "          }\n",
       "          frame.src = url;\n",
       "        })();\n",
       "      </script>\n",
       "    "
      ]
     },
     "metadata": {},
     "output_type": "display_data"
    }
   ],
   "execution_count": 20
  },
  {
   "cell_type": "code",
   "source": [
    "from tensorboard import notebook\n",
    "\n",
    "notebook.list()  # View open TensorBoard instances"
   ],
   "metadata": {
    "collapsed": false,
    "ExecuteTime": {
     "end_time": "2024-06-06T01:42:07.996182Z",
     "start_time": "2024-06-06T01:42:07.993764Z"
    }
   },
   "id": "dcd6294d4e380bd1",
   "outputs": [
    {
     "name": "stdout",
     "output_type": "stream",
     "text": [
      "Known TensorBoard instances:\n",
      "  - port 6006: logdir runs (started 0:00:00 ago; pid 56309)\n"
     ]
    }
   ],
   "execution_count": 21
  },
  {
   "cell_type": "code",
   "source": [
    "notebook.display(port=6006, height=1000)"
   ],
   "metadata": {
    "collapsed": false,
    "ExecuteTime": {
     "end_time": "2024-06-06T01:42:07.999348Z",
     "start_time": "2024-06-06T01:42:07.996859Z"
    }
   },
   "id": "b4e0fa78d9e78e0a",
   "outputs": [
    {
     "name": "stdout",
     "output_type": "stream",
     "text": [
      "Selecting TensorBoard with logdir runs (started 0:00:00 ago; port 6006, pid 56309).\n"
     ]
    },
    {
     "data": {
      "text/plain": [
       "<IPython.core.display.HTML object>"
      ],
      "text/html": [
       "\n",
       "      <iframe id=\"tensorboard-frame-86db57a0692d6e16\" width=\"100%\" height=\"1000\" frameborder=\"0\">\n",
       "      </iframe>\n",
       "      <script>\n",
       "        (function() {\n",
       "          const frame = document.getElementById(\"tensorboard-frame-86db57a0692d6e16\");\n",
       "          const url = new URL(\"/\", window.location);\n",
       "          const port = 6006;\n",
       "          if (port) {\n",
       "            url.port = port;\n",
       "          }\n",
       "          frame.src = url;\n",
       "        })();\n",
       "      </script>\n",
       "    "
      ]
     },
     "metadata": {},
     "output_type": "display_data"
    }
   ],
   "execution_count": 22
  },
  {
   "cell_type": "code",
   "id": "c98ce6ee-b798-42aa-826d-eb773d051bbb",
   "metadata": {
    "tags": []
   },
   "source": [
    "for update in tqdm.tqdm(range(1, num_updates + 1)):\n",
    "    next_obs, _ = env.reset(seed=seed)\n",
    "    num_steps = env.episode_length(global_step)\n",
    "    next_obs = torch.Tensor(np.array([next_obs] * batchsize)).to(device)\n",
    "    next_done = torch.zeros(batchsize).to(device)\n",
    "\n",
    "    # print(\"episode length:\", num_steps)\n",
    "\n",
    "    for step in range(num_steps):\n",
    "        global_step += 1\n",
    "        obs[step] = next_obs\n",
    "        dones[step] = next_done\n",
    "\n",
    "        with torch.no_grad():\n",
    "            mean_action, std_action, critic_value = agent(next_obs)\n",
    "            probs = Normal(mean_action, std_action)\n",
    "            action = torch.clip(\n",
    "                probs.sample(),\n",
    "                torch.Tensor(np.array(min_bound_actions)),\n",
    "                torch.Tensor(np.array(max_bound_actions)),\n",
    "            )\n",
    "            logprob = probs.log_prob(action).sum(1)\n",
    "            values[step] = critic_value.flatten()\n",
    "\n",
    "        actions[step] = action\n",
    "        logprobs[step] = logprob\n",
    "        # next_obs, reward, terminated, truncated, infos = torch_env.step(action.cpu().numpy())\n",
    "        next_obs, reward, terminated, truncated, infos = rescaled_env.step(\n",
    "            action.cpu().numpy()\n",
    "        )\n",
    "        done = np.logical_or(terminated, truncated)\n",
    "        rewards[step] = torch.tensor(reward).to(device)\n",
    "        next_obs = torch.Tensor(np.array([next_obs] * batchsize)).to(device)\n",
    "        next_done = torch.Tensor(np.array([int(done)] * batchsize)).to(device)\n",
    "        # Only print when at least 1 env is done\n",
    "\n",
    "        # print(f\"global_step={global_step}, episodic_return={np.mean(reward)}\")\n",
    "        writer.add_scalar(\"charts/episodic_return\", np.mean(reward), global_step)\n",
    "        writer.add_scalar(\"charts/episodic_length\", num_steps, global_step)\n",
    "\n",
    "    # bootstrap value if not done\n",
    "    with torch.no_grad():\n",
    "        next_value = agent.get_value(next_obs).reshape(1, -1)\n",
    "        advantages = torch.zeros_like(rewards).to(device)\n",
    "        lastgaelam = 0\n",
    "        for t in reversed(range(num_steps)):\n",
    "            if t == num_steps - 1:\n",
    "                nextnonterminal = 1.0 - next_done\n",
    "                nextvalues = next_value\n",
    "            else:\n",
    "                nextnonterminal = 1.0 - dones[t + 1]\n",
    "                nextvalues = values[t + 1]\n",
    "            delta = rewards[t] + gamma * nextvalues * nextnonterminal - values[t]\n",
    "            advantages[t] = lastgaelam = (\n",
    "                delta + gamma * gae_lambda * nextnonterminal * lastgaelam\n",
    "            )\n",
    "        returns = advantages + values\n",
    "\n",
    "    # flatten the batch\n",
    "    b_obs = obs.reshape((-1,) + env.observation_space.shape)\n",
    "    b_logprobs = logprobs.reshape(-1)\n",
    "    b_actions = actions.reshape((-1,) + env.action_space.shape)\n",
    "    b_advantages = advantages.reshape(-1)\n",
    "    b_returns = returns.reshape(-1)\n",
    "    b_values = values.reshape(-1)\n",
    "\n",
    "    # Optimizing the policy and value network\n",
    "    b_inds = np.arange(batchsize)\n",
    "    clipfracs = []\n",
    "    for epoch in range(n_epochs):\n",
    "        np.random.shuffle(b_inds)\n",
    "        for start in range(0, batchsize, minibatch_size):\n",
    "            end = start + minibatch_size\n",
    "            mb_inds = b_inds[start:end]\n",
    "            new_mean, new_sigma, new_value = agent(b_obs[mb_inds])\n",
    "            new_dist = Normal(new_mean, new_sigma)\n",
    "            new_logprob, entropy = new_dist.log_prob(b_actions[mb_inds]).sum(\n",
    "                1\n",
    "            ), new_dist.entropy().sum(1)\n",
    "            logratio = (\n",
    "                new_logprob - b_logprobs[mb_inds] + torch.log(torch.Tensor([1e-6]))\n",
    "            )\n",
    "            ratio = logratio.exp()\n",
    "            # print('new_logprob', new_logprob)\n",
    "            # print('b_logprobs[mb_inds]', b_logprobs[mb_inds])\n",
    "            # print(\"logratio\", logratio)\n",
    "            # print('ratio', ratio)\n",
    "            with torch.no_grad():\n",
    "                # calculate approx_kl http://joschu.net/blog/kl-approx.html\n",
    "                old_approx_kl = (-logratio).mean()\n",
    "                approx_kl = ((ratio - 1) - logratio).mean()\n",
    "                clipfracs += [((ratio - 1.0).abs() > epsilon).float().mean().item()]\n",
    "\n",
    "            mb_advantages = b_advantages[mb_inds]\n",
    "            if normalize_advantage:  # Normalize advantage\n",
    "                mb_advantages = (mb_advantages - mb_advantages.mean()) / (\n",
    "                    mb_advantages.std() + 1e-8\n",
    "                )\n",
    "\n",
    "            # Policy loss\n",
    "            pg_loss1 = -mb_advantages * ratio\n",
    "            pg_loss2 = -mb_advantages * torch.clamp(ratio, 1 - epsilon, 1 + epsilon)\n",
    "            pg_loss = torch.max(pg_loss1, pg_loss2).mean()\n",
    "\n",
    "            # Value loss\n",
    "            newvalue = new_value.view(-1)\n",
    "            if clip_vloss:\n",
    "                v_loss_unclipped = (newvalue - b_returns[mb_inds]) ** 2\n",
    "                v_clipped = b_values[mb_inds] + torch.clamp(\n",
    "                    newvalue - b_values[mb_inds],\n",
    "                    -clip_coef,\n",
    "                    clip_coef,\n",
    "                )\n",
    "                v_loss_clipped = (v_clipped - b_returns[mb_inds]) ** 2\n",
    "                v_loss_max = torch.max(v_loss_unclipped, v_loss_clipped)\n",
    "                v_loss = 0.5 * v_loss_max.mean()\n",
    "            else:\n",
    "                v_loss = 0.5 * ((newvalue - b_returns[mb_inds]) ** 2).mean()\n",
    "\n",
    "            entropy_loss = entropy.mean()\n",
    "            loss = pg_loss - ent_coef * entropy_loss + v_loss * critic_loss_coeff\n",
    "\n",
    "            optimizer.zero_grad()\n",
    "            loss.backward()\n",
    "            nn.utils.clip_grad_norm_(agent.parameters(), grad_clip)\n",
    "            optimizer.step()\n",
    "\n",
    "    y_pred, y_true = b_values.cpu().numpy(), b_returns.cpu().numpy()\n",
    "    var_y = np.var(y_true)\n",
    "    explained_var = np.nan if var_y == 0 else 1 - np.var(y_true - y_pred) / var_y\n",
    "    print(\"mean\", mean_action[0])\n",
    "    print(\"sigma\", std_action[0])\n",
    "    print(\"Average return:\", np.mean(env.reward_history, axis=1)[-1])\n",
    "    # print(np.mean(torch_env.reward_history, axis =1)[-1])\n",
    "    if env.do_benchmark():\n",
    "        print(\"Circuit fidelity:\", env.circuit_fidelity_history[-1])\n",
    "\n",
    "        writer.add_scalar(\n",
    "            \"losses/circuit_fidelity\",\n",
    "            env.circuit_fidelity_history[-1],\n",
    "            global_step,\n",
    "        )\n",
    "    # TRY NOT TO MODIFY: record rewards for plotting purposes\n",
    "    writer.add_scalar(\n",
    "        \"charts/learning_rate\", optimizer.param_groups[0][\"lr\"], global_step\n",
    "    )\n",
    "    writer.add_scalar(\"losses/value_loss\", v_loss.item(), global_step)\n",
    "    writer.add_scalar(\n",
    "        \"losses/avg_return\", np.mean(env.reward_history, axis=1)[-1], global_step\n",
    "    )\n",
    "\n",
    "    writer.add_scalar(\"losses/policy_loss\", pg_loss.item(), global_step)\n",
    "    writer.add_scalar(\"losses/entropy\", entropy_loss.item(), global_step)\n",
    "    writer.add_scalar(\"losses/old_approx_kl\", old_approx_kl.item(), global_step)\n",
    "    writer.add_scalar(\"losses/approx_kl\", approx_kl.item(), global_step)\n",
    "    writer.add_scalar(\"losses/clipfrac\", np.mean(clipfracs), global_step)\n",
    "    writer.add_scalar(\"losses/explained_variance\", explained_var, global_step)\n",
    "    if global_step % visualization_steps == 0:\n",
    "        clear_output(wait=True)  # for animation\n",
    "\n",
    "env.close()\n",
    "writer.close()"
   ],
   "execution_count": 21,
   "outputs": [
    {
     "name": "stdout",
     "output_type": "stream",
     "text": [
      "Fidelity stored 0.9705995310327649\n",
      "Sending Estimator job...\n"
     ]
    },
    {
     "name": "stderr",
     "output_type": "stream",
     "text": [
      "/Users/arthurostrauss/Library/CloudStorage/OneDrive-NationalUniversityofSingapore/Coding_projects/Quantum_Optimal_Control/base_q_env.py:1025: ComplexWarning: Casting complex values to real discards the imaginary part\n",
      "  array_obs[pauli_to_index[pauli.paulis[0]]] = pauli.coeffs[0]\n",
      "  1%|          | 11/1000 [00:30<43:53,  2.66s/it]"
     ]
    },
    {
     "name": "stdout",
     "output_type": "stream",
     "text": [
      "Finished Estimator job\n",
      "mean tensor([ 0.2903, -0.1544,  0.6838,  0.3234,  0.4498,  0.1244,  0.0365])\n",
      "sigma tensor([0.6885, 0.5780, 0.4099, 0.4751, 0.4671, 0.5872, 0.3372])\n",
      "Average return: 0.41202066619181343\n",
      "Circuit fidelity: 0.9705995310327649\n",
      "Fidelity stored 0.9705997456371951\n",
      "Sending Estimator job...\n"
     ]
    },
    {
     "name": "stderr",
     "output_type": "stream",
     "text": [
      "/Users/arthurostrauss/Library/CloudStorage/OneDrive-NationalUniversityofSingapore/Coding_projects/Quantum_Optimal_Control/base_q_env.py:1025: ComplexWarning: Casting complex values to real discards the imaginary part\n",
      "  array_obs[pauli_to_index[pauli.paulis[0]]] = pauli.coeffs[0]\n",
      "  1%|          | 12/1000 [00:32<45:15,  2.75s/it]"
     ]
    },
    {
     "name": "stdout",
     "output_type": "stream",
     "text": [
      "Finished Estimator job\n",
      "mean tensor([ 0.3046, -0.1631,  0.6775,  0.3326,  0.4702,  0.1281,  0.0470])\n",
      "sigma tensor([0.6871, 0.5778, 0.4075, 0.4757, 0.4633, 0.5886, 0.3312])\n",
      "Average return: 0.41635554534313735\n",
      "Circuit fidelity: 0.9705997456371951\n",
      "Fidelity stored 0.9705998070799265\n",
      "Sending Estimator job...\n"
     ]
    },
    {
     "name": "stderr",
     "output_type": "stream",
     "text": [
      "/Users/arthurostrauss/Library/CloudStorage/OneDrive-NationalUniversityofSingapore/Coding_projects/Quantum_Optimal_Control/base_q_env.py:1025: ComplexWarning: Casting complex values to real discards the imaginary part\n",
      "  array_obs[pauli_to_index[pauli.paulis[0]]] = pauli.coeffs[0]\n",
      "  1%|▏         | 13/1000 [00:34<39:03,  2.37s/it]"
     ]
    },
    {
     "name": "stdout",
     "output_type": "stream",
     "text": [
      "Finished Estimator job\n",
      "mean tensor([ 0.3031, -0.1658,  0.6772,  0.3345,  0.4694,  0.1257,  0.0456])\n",
      "sigma tensor([0.6870, 0.5777, 0.4081, 0.4764, 0.4630, 0.5885, 0.3312])\n",
      "Average return: 0.46393859649122837\n",
      "Circuit fidelity: 0.9705998070799265\n",
      "Fidelity stored 0.9705995334761568\n",
      "Sending Estimator job...\n"
     ]
    },
    {
     "name": "stderr",
     "output_type": "stream",
     "text": [
      "  1%|▏         | 13/1000 [00:36<46:34,  2.83s/it]\n"
     ]
    },
    {
     "ename": "KeyboardInterrupt",
     "evalue": "",
     "output_type": "error",
     "traceback": [
      "\u001b[0;31m---------------------------------------------------------------------------\u001b[0m",
      "\u001b[0;31mKeyboardInterrupt\u001b[0m                         Traceback (most recent call last)",
      "Cell \u001b[0;32mIn[21], line 28\u001b[0m\n\u001b[1;32m     26\u001b[0m logprobs[step] \u001b[38;5;241m=\u001b[39m logprob\n\u001b[1;32m     27\u001b[0m \u001b[38;5;66;03m# next_obs, reward, terminated, truncated, infos = torch_env.step(action.cpu().numpy())\u001b[39;00m\n\u001b[0;32m---> 28\u001b[0m next_obs, reward, terminated, truncated, infos \u001b[38;5;241m=\u001b[39m rescaled_env\u001b[38;5;241m.\u001b[39mstep(\n\u001b[1;32m     29\u001b[0m     action\u001b[38;5;241m.\u001b[39mcpu()\u001b[38;5;241m.\u001b[39mnumpy()\n\u001b[1;32m     30\u001b[0m )\n\u001b[1;32m     31\u001b[0m done \u001b[38;5;241m=\u001b[39m np\u001b[38;5;241m.\u001b[39mlogical_or(terminated, truncated)\n\u001b[1;32m     32\u001b[0m rewards[step] \u001b[38;5;241m=\u001b[39m torch\u001b[38;5;241m.\u001b[39mtensor(reward)\u001b[38;5;241m.\u001b[39mto(device)\n",
      "File \u001b[0;32m~/anaconda3/envs/rl_qoc/lib/python3.11/site-packages/gymnasium/core.py:591\u001b[0m, in \u001b[0;36mActionWrapper.step\u001b[0;34m(self, action)\u001b[0m\n\u001b[1;32m    587\u001b[0m \u001b[38;5;28;01mdef\u001b[39;00m \u001b[38;5;21mstep\u001b[39m(\n\u001b[1;32m    588\u001b[0m     \u001b[38;5;28mself\u001b[39m, action: WrapperActType\n\u001b[1;32m    589\u001b[0m ) \u001b[38;5;241m-\u001b[39m\u001b[38;5;241m>\u001b[39m \u001b[38;5;28mtuple\u001b[39m[ObsType, SupportsFloat, \u001b[38;5;28mbool\u001b[39m, \u001b[38;5;28mbool\u001b[39m, \u001b[38;5;28mdict\u001b[39m[\u001b[38;5;28mstr\u001b[39m, Any]]:\n\u001b[1;32m    590\u001b[0m \u001b[38;5;250m    \u001b[39m\u001b[38;5;124;03m\"\"\"Runs the :attr:`env` :meth:`env.step` using the modified ``action`` from :meth:`self.action`.\"\"\"\u001b[39;00m\n\u001b[0;32m--> 591\u001b[0m     \u001b[38;5;28;01mreturn\u001b[39;00m \u001b[38;5;28mself\u001b[39m\u001b[38;5;241m.\u001b[39menv\u001b[38;5;241m.\u001b[39mstep(\u001b[38;5;28mself\u001b[39m\u001b[38;5;241m.\u001b[39maction(action))\n",
      "File \u001b[0;32m~/anaconda3/envs/rl_qoc/lib/python3.11/site-packages/gymnasium/core.py:591\u001b[0m, in \u001b[0;36mActionWrapper.step\u001b[0;34m(self, action)\u001b[0m\n\u001b[1;32m    587\u001b[0m \u001b[38;5;28;01mdef\u001b[39;00m \u001b[38;5;21mstep\u001b[39m(\n\u001b[1;32m    588\u001b[0m     \u001b[38;5;28mself\u001b[39m, action: WrapperActType\n\u001b[1;32m    589\u001b[0m ) \u001b[38;5;241m-\u001b[39m\u001b[38;5;241m>\u001b[39m \u001b[38;5;28mtuple\u001b[39m[ObsType, SupportsFloat, \u001b[38;5;28mbool\u001b[39m, \u001b[38;5;28mbool\u001b[39m, \u001b[38;5;28mdict\u001b[39m[\u001b[38;5;28mstr\u001b[39m, Any]]:\n\u001b[1;32m    590\u001b[0m \u001b[38;5;250m    \u001b[39m\u001b[38;5;124;03m\"\"\"Runs the :attr:`env` :meth:`env.step` using the modified ``action`` from :meth:`self.action`.\"\"\"\u001b[39;00m\n\u001b[0;32m--> 591\u001b[0m     \u001b[38;5;28;01mreturn\u001b[39;00m \u001b[38;5;28mself\u001b[39m\u001b[38;5;241m.\u001b[39menv\u001b[38;5;241m.\u001b[39mstep(\u001b[38;5;28mself\u001b[39m\u001b[38;5;241m.\u001b[39maction(action))\n",
      "File \u001b[0;32m~/Library/CloudStorage/OneDrive-NationalUniversityofSingapore/Coding_projects/Quantum_Optimal_Control/context_aware_quantum_environment.py:994\u001b[0m, in \u001b[0;36mContextAwareQuantumEnvironmentV2.step\u001b[0;34m(self, action)\u001b[0m\n\u001b[1;32m    992\u001b[0m \u001b[38;5;28;01melse\u001b[39;00m:\n\u001b[1;32m    993\u001b[0m     terminated \u001b[38;5;241m=\u001b[39m \u001b[38;5;28mself\u001b[39m\u001b[38;5;241m.\u001b[39m_episode_ended \u001b[38;5;241m=\u001b[39m \u001b[38;5;28;01mTrue\u001b[39;00m\n\u001b[0;32m--> 994\u001b[0m     reward \u001b[38;5;241m=\u001b[39m \u001b[38;5;28mself\u001b[39m\u001b[38;5;241m.\u001b[39mperform_action(params)\n\u001b[1;32m    995\u001b[0m     \u001b[38;5;28;01mif\u001b[39;00m \u001b[38;5;28mself\u001b[39m\u001b[38;5;241m.\u001b[39m_intermediate_rewards:\n\u001b[1;32m    996\u001b[0m         obs \u001b[38;5;241m=\u001b[39m reward\n",
      "File \u001b[0;32m~/Library/CloudStorage/OneDrive-NationalUniversityofSingapore/Coding_projects/Quantum_Optimal_Control/base_q_env.py:588\u001b[0m, in \u001b[0;36mBaseQuantumEnvironment.perform_action\u001b[0;34m(self, actions)\u001b[0m\n\u001b[1;32m    586\u001b[0m \u001b[38;5;28;01melse\u001b[39;00m:  \u001b[38;5;66;03m# EstimatorV2\u001b[39;00m\n\u001b[1;32m    587\u001b[0m     job \u001b[38;5;241m=\u001b[39m \u001b[38;5;28mself\u001b[39m\u001b[38;5;241m.\u001b[39mprimitive\u001b[38;5;241m.\u001b[39mrun(pubs\u001b[38;5;241m=\u001b[39m\u001b[38;5;28mself\u001b[39m\u001b[38;5;241m.\u001b[39m_pubs)\n\u001b[0;32m--> 588\u001b[0m     pub_results \u001b[38;5;241m=\u001b[39m job\u001b[38;5;241m.\u001b[39mresult()\n\u001b[1;32m    590\u001b[0m     \u001b[38;5;28;01mif\u001b[39;00m \u001b[38;5;28mself\u001b[39m\u001b[38;5;241m.\u001b[39mconfig\u001b[38;5;241m.\u001b[39mdfe:\n\u001b[1;32m    591\u001b[0m         reward_table \u001b[38;5;241m=\u001b[39m np\u001b[38;5;241m.\u001b[39msum(\n\u001b[1;32m    592\u001b[0m             [pub_result\u001b[38;5;241m.\u001b[39mdata\u001b[38;5;241m.\u001b[39mevs \u001b[38;5;28;01mfor\u001b[39;00m pub_result \u001b[38;5;129;01min\u001b[39;00m pub_results], axis\u001b[38;5;241m=\u001b[39m\u001b[38;5;241m0\u001b[39m\n\u001b[1;32m    593\u001b[0m         ) \u001b[38;5;241m/\u001b[39m \u001b[38;5;28mlen\u001b[39m(\u001b[38;5;28mself\u001b[39m\u001b[38;5;241m.\u001b[39m_observables)\n",
      "File \u001b[0;32m~/anaconda3/envs/rl_qoc/lib/python3.11/site-packages/qiskit/primitives/primitive_job.py:51\u001b[0m, in \u001b[0;36mPrimitiveJob.result\u001b[0;34m(self)\u001b[0m\n\u001b[1;32m     49\u001b[0m \u001b[38;5;28;01mdef\u001b[39;00m \u001b[38;5;21mresult\u001b[39m(\u001b[38;5;28mself\u001b[39m) \u001b[38;5;241m-\u001b[39m\u001b[38;5;241m>\u001b[39m ResultT:\n\u001b[1;32m     50\u001b[0m     \u001b[38;5;28mself\u001b[39m\u001b[38;5;241m.\u001b[39m_check_submitted()\n\u001b[0;32m---> 51\u001b[0m     \u001b[38;5;28;01mreturn\u001b[39;00m \u001b[38;5;28mself\u001b[39m\u001b[38;5;241m.\u001b[39m_future\u001b[38;5;241m.\u001b[39mresult()\n",
      "File \u001b[0;32m~/anaconda3/envs/rl_qoc/lib/python3.11/concurrent/futures/_base.py:451\u001b[0m, in \u001b[0;36mFuture.result\u001b[0;34m(self, timeout)\u001b[0m\n\u001b[1;32m    448\u001b[0m \u001b[38;5;28;01melif\u001b[39;00m \u001b[38;5;28mself\u001b[39m\u001b[38;5;241m.\u001b[39m_state \u001b[38;5;241m==\u001b[39m FINISHED:\n\u001b[1;32m    449\u001b[0m     \u001b[38;5;28;01mreturn\u001b[39;00m \u001b[38;5;28mself\u001b[39m\u001b[38;5;241m.\u001b[39m__get_result()\n\u001b[0;32m--> 451\u001b[0m \u001b[38;5;28mself\u001b[39m\u001b[38;5;241m.\u001b[39m_condition\u001b[38;5;241m.\u001b[39mwait(timeout)\n\u001b[1;32m    453\u001b[0m \u001b[38;5;28;01mif\u001b[39;00m \u001b[38;5;28mself\u001b[39m\u001b[38;5;241m.\u001b[39m_state \u001b[38;5;129;01min\u001b[39;00m [CANCELLED, CANCELLED_AND_NOTIFIED]:\n\u001b[1;32m    454\u001b[0m     \u001b[38;5;28;01mraise\u001b[39;00m CancelledError()\n",
      "File \u001b[0;32m~/anaconda3/envs/rl_qoc/lib/python3.11/threading.py:327\u001b[0m, in \u001b[0;36mCondition.wait\u001b[0;34m(self, timeout)\u001b[0m\n\u001b[1;32m    325\u001b[0m \u001b[38;5;28;01mtry\u001b[39;00m:    \u001b[38;5;66;03m# restore state no matter what (e.g., KeyboardInterrupt)\u001b[39;00m\n\u001b[1;32m    326\u001b[0m     \u001b[38;5;28;01mif\u001b[39;00m timeout \u001b[38;5;129;01mis\u001b[39;00m \u001b[38;5;28;01mNone\u001b[39;00m:\n\u001b[0;32m--> 327\u001b[0m         waiter\u001b[38;5;241m.\u001b[39macquire()\n\u001b[1;32m    328\u001b[0m         gotit \u001b[38;5;241m=\u001b[39m \u001b[38;5;28;01mTrue\u001b[39;00m\n\u001b[1;32m    329\u001b[0m     \u001b[38;5;28;01melse\u001b[39;00m:\n",
      "\u001b[0;31mKeyboardInterrupt\u001b[0m: "
     ]
    }
   ]
  },
  {
   "cell_type": "code",
   "id": "6cfbbb8c-a6fa-430e-b3c8-1db14cf8f8ef",
   "metadata": {
    "tags": []
   },
   "source": [
    "env.close()\n",
    "writer.close()"
   ],
   "outputs": [],
   "execution_count": null
  },
  {
   "cell_type": "code",
   "id": "eea0e566-e5f1-41b5-8c4f-b02d5b6fb3bd",
   "metadata": {
    "tags": []
   },
   "source": [
    "import matplotlib.pyplot as plt\n",
    "\n",
    "plt.plot(env.circuit_fidelity_history, label=\"Circuit fidelity\")\n",
    "plt.plot(np.mean(env.reward_history, axis=1), label=\"Average return\")\n",
    "plt.legend()"
   ],
   "outputs": [],
   "execution_count": null
  },
  {
   "cell_type": "code",
   "execution_count": null,
   "id": "9b4df81d-506d-49cb-9127-3597b16745f0",
   "metadata": {
    "tags": [],
    "ExecuteTime": {
     "start_time": "2024-02-21T10:49:56.499424Z"
    }
   },
   "outputs": [],
   "source": [
    "plt.plot(np.mean(env.reward_history, axis=1))"
   ]
  },
  {
   "cell_type": "code",
   "execution_count": null,
   "id": "0961ab13-a242-4136-bd40-49cfc94d35d5",
   "metadata": {
    "ExecuteTime": {
     "start_time": "2024-02-21T10:49:56.500256Z"
    }
   },
   "outputs": [],
   "source": []
  }
 ],
 "metadata": {
  "kernelspec": {
   "display_name": "Python 3 (ipykernel)",
   "language": "python",
   "name": "python3"
  },
  "language_info": {
   "codemirror_mode": {
    "name": "ipython",
    "version": 3
   },
   "file_extension": ".py",
   "mimetype": "text/x-python",
   "name": "python",
   "nbconvert_exporter": "python",
   "pygments_lexer": "ipython3",
   "version": "3.11.5"
  },
  "toc-autonumbering": true
 },
 "nbformat": 4,
 "nbformat_minor": 5
}

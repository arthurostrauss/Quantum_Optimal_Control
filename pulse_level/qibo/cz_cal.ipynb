{
 "cells": [
  {
   "cell_type": "code",
   "id": "initial_id",
   "metadata": {
    "collapsed": true,
    "ExecuteTime": {
     "end_time": "2024-11-10T08:06:48.997102Z",
     "start_time": "2024-11-10T08:06:44.353789Z"
    }
   },
   "source": [
    "from qiskit import QuantumRegister\n",
    "import numpy as np\n",
    "from gymnasium.spaces import Box\n",
    "from rl_qoc import QuantumEnvironment, BenchmarkConfig\n",
    "from qiskit.circuit import QuantumCircuit, ParameterVector, Gate\n",
    "from qiskit.circuit.library import CZGate\n",
    "from rl_qoc import (\n",
    "    QEnvConfig,\n",
    "    QiboConfig,\n",
    "    ExecutionConfig,\n",
    "    ChannelConfig,\n",
    ")\n",
    "from qiskit import pulse\n",
    "\n",
    "\n",
    "def param_circuit(\n",
    "    qc: QuantumCircuit, params: ParameterVector, qreg: QuantumRegister, **kwargs\n",
    "):\n",
    "    cz_cal = Gate(\"cz_cal\", 2, params.params)\n",
    "    with pulse.build() as cz_sched:\n",
    "        pulse.play(\n",
    "            pulse.Gaussian(duration=160, amp=0.5, sigma=40), pulse.DriveChannel(0)\n",
    "        )\n",
    "        pulse.play(\n",
    "            pulse.Gaussian(duration=160, amp=0.5, sigma=40), pulse.DriveChannel(1)\n",
    "        )\n",
    "        pulse.shift_phase(np.pi, pulse.DriveChannel(0))\n",
    "        pulse.shift_phase(np.pi, pulse.DriveChannel(1))\n",
    "    qc.append(cz_cal, qreg)\n",
    "    qc.add_calibration(cz_cal, [0, 1], cz_sched)\n",
    "\n",
    "    return qc\n",
    "\n",
    "\n",
    "def get_backend():\n",
    "    return \"qibolab\"\n",
    "\n",
    "\n",
    "action_space_low = np.array([0.0, -np.pi, -np.pi, 16])  # [amp, phase, phase, duration]\n",
    "action_space_high = np.array([1.0, np.pi, np.pi, 160])  # [amp, phase, phase, duration]\n",
    "action_space = Box(action_space_low, action_space_high)\n",
    "qibo_config = QiboConfig(\n",
    "    param_circuit, get_backend(), platform=\"qibolab\", qubit_pair=(\"D1\", \"D2\")\n",
    ")\n",
    "q_env_config = QEnvConfig(\n",
    "    target={\"gate\": CZGate(), \"physical_qubits\": [0, 1]},\n",
    "    backend_config=qibo_config,\n",
    "    action_space=action_space,\n",
    "    reward_config=ChannelConfig(),\n",
    "    benchmark_config=BenchmarkConfig(0),\n",
    "    execution_config=ExecutionConfig(batch_size=1, sampling_paulis=50, n_shots=10),\n",
    ")\n",
    "\n",
    "env = QuantumEnvironment(q_env_config)"
   ],
   "outputs": [
    {
     "name": "stderr",
     "output_type": "stream",
     "text": [
      "/Users/arthurostrauss/anaconda3/envs/rl_qoc/lib/python3.11/site-packages/gymnasium/spaces/box.py:235: UserWarning: \u001B[33mWARN: Box low's precision lowered by casting to float32, current low.dtype=float64\u001B[0m\n",
      "  gym.logger.warn(\n",
      "/Users/arthurostrauss/anaconda3/envs/rl_qoc/lib/python3.11/site-packages/gymnasium/spaces/box.py:305: UserWarning: \u001B[33mWARN: Box high's precision lowered by casting to float32, current high.dtype=float64\u001B[0m\n",
      "  gym.logger.warn(\n"
     ]
    }
   ],
   "execution_count": 1
  },
  {
   "metadata": {
    "ExecuteTime": {
     "end_time": "2024-11-10T08:06:49.087911Z",
     "start_time": "2024-11-10T08:06:49.001112Z"
    }
   },
   "cell_type": "code",
   "source": [
    "env.circuits[0].draw(output=\"mpl\")"
   ],
   "id": "1589d187c31e07fc",
   "outputs": [
    {
     "data": {
      "text/plain": [
       "<Figure size 393.348x200.667 with 1 Axes>"
      ],
      "image/png": "[encoded data removed]"
     },
     "execution_count": 2,
     "metadata": {},
     "output_type": "execute_result"
    }
   ],
   "execution_count": 2
  },
  {
   "metadata": {
    "ExecuteTime": {
     "end_time": "2024-11-10T08:06:49.139718Z",
     "start_time": "2024-11-10T08:06:49.114114Z"
    }
   },
   "cell_type": "code",
   "source": [
    "env.baseline_circuits[0].draw(output=\"mpl\")"
   ],
   "id": "f651bd13fddd524b",
   "outputs": [
    {
     "data": {
      "text/plain": [
       "<Figure size 226.125x200.667 with 1 Axes>"
      ],
      "image/png": "[encoded data removed]"
     },
     "execution_count": 3,
     "metadata": {},
     "output_type": "execute_result"
    }
   ],
   "execution_count": 3
  },
  {
   "metadata": {
    "ExecuteTime": {
     "end_time": "2024-11-10T08:06:49.758817Z",
     "start_time": "2024-11-10T08:06:49.147034Z"
    }
   },
   "cell_type": "code",
   "source": "env.step(np.array([[0.5, 0, 0, 80]]))",
   "id": "9b2c88a4c65736c0",
   "outputs": [
    {
     "name": "stdout",
     "output_type": "stream",
     "text": [
      "Sending Estimator job...\n"
     ]
    },
    {
     "name": "stderr",
     "output_type": "stream",
     "text": [
      "[Qibo 0.2.13|ERROR|2024-11-10 16:06:49]: Platforms path $QIBOLAB_PLATFORMS unset.\n"
     ]
    },
    {
     "name": "stdout",
     "output_type": "stream",
     "text": [
      "2024-11-10 16:06:49 INFO Platforms path $QIBOLAB_PLATFORMS unset.\n"
     ]
    },
    {
     "ename": "RuntimeError",
     "evalue": "Platforms path $QIBOLAB_PLATFORMS unset.",
     "output_type": "error",
     "traceback": [
      "\u001B[0;31m---------------------------------------------------------------------------\u001B[0m",
      "\u001B[0;31mRuntimeError\u001B[0m                              Traceback (most recent call last)",
      "Cell \u001B[0;32mIn[4], line 1\u001B[0m\n\u001B[0;32m----> 1\u001B[0m env\u001B[38;5;241m.\u001B[39mstep(np\u001B[38;5;241m.\u001B[39marray([[\u001B[38;5;241m0.5\u001B[39m, \u001B[38;5;241m0\u001B[39m, \u001B[38;5;241m0\u001B[39m, \u001B[38;5;241m80\u001B[39m]]))\n",
      "File \u001B[0;32m~/Library/CloudStorage/OneDrive-NationalUniversityofSingapore/Coding_projects/Quantum_Optimal_Control/rl_qoc/environment/quantumenvironment.py:147\u001B[0m, in \u001B[0;36mQuantumEnvironment.step\u001B[0;34m(self, action)\u001B[0m\n\u001B[1;32m    138\u001B[0m     \u001B[38;5;28;01mreturn\u001B[39;00m (\n\u001B[1;32m    139\u001B[0m         \u001B[38;5;28mself\u001B[39m\u001B[38;5;241m.\u001B[39mreset()[\u001B[38;5;241m0\u001B[39m],\n\u001B[1;32m    140\u001B[0m         np\u001B[38;5;241m.\u001B[39mzeros(\u001B[38;5;28mself\u001B[39m\u001B[38;5;241m.\u001B[39mbatch_size),\n\u001B[0;32m   (...)\u001B[0m\n\u001B[1;32m    143\u001B[0m         \u001B[38;5;28mself\u001B[39m\u001B[38;5;241m.\u001B[39m_get_info(),\n\u001B[1;32m    144\u001B[0m     )\n\u001B[1;32m    146\u001B[0m terminated \u001B[38;5;241m=\u001B[39m \u001B[38;5;28mself\u001B[39m\u001B[38;5;241m.\u001B[39m_episode_ended \u001B[38;5;241m=\u001B[39m \u001B[38;5;28;01mTrue\u001B[39;00m\n\u001B[0;32m--> 147\u001B[0m reward \u001B[38;5;241m=\u001B[39m \u001B[38;5;28mself\u001B[39m\u001B[38;5;241m.\u001B[39mperform_action(action)\n\u001B[1;32m    149\u001B[0m \u001B[38;5;28;01mif\u001B[39;00m np\u001B[38;5;241m.\u001B[39mmean(reward) \u001B[38;5;241m>\u001B[39m \u001B[38;5;28mself\u001B[39m\u001B[38;5;241m.\u001B[39m_max_return:\n\u001B[1;32m    150\u001B[0m     \u001B[38;5;28mself\u001B[39m\u001B[38;5;241m.\u001B[39m_max_return \u001B[38;5;241m=\u001B[39m np\u001B[38;5;241m.\u001B[39mmean(reward)\n",
      "File \u001B[0;32m~/Library/CloudStorage/OneDrive-NationalUniversityofSingapore/Coding_projects/Quantum_Optimal_Control/rl_qoc/environment/base_q_env.py:306\u001B[0m, in \u001B[0;36mBaseQuantumEnvironment.perform_action\u001B[0;34m(self, actions)\u001B[0m\n\u001B[1;32m    303\u001B[0m start \u001B[38;5;241m=\u001B[39m time\u001B[38;5;241m.\u001B[39mtime()\n\u001B[1;32m    305\u001B[0m job \u001B[38;5;241m=\u001B[39m \u001B[38;5;28mself\u001B[39m\u001B[38;5;241m.\u001B[39mprimitive\u001B[38;5;241m.\u001B[39mrun(pubs\u001B[38;5;241m=\u001B[39m\u001B[38;5;28mself\u001B[39m\u001B[38;5;241m.\u001B[39m_pubs)\n\u001B[0;32m--> 306\u001B[0m pub_results \u001B[38;5;241m=\u001B[39m job\u001B[38;5;241m.\u001B[39mresult()\n\u001B[1;32m    307\u001B[0m \u001B[38;5;28mprint\u001B[39m(\u001B[38;5;124m\"\u001B[39m\u001B[38;5;124mTime for running\u001B[39m\u001B[38;5;124m\"\u001B[39m, time\u001B[38;5;241m.\u001B[39mtime() \u001B[38;5;241m-\u001B[39m start)\n\u001B[1;32m    309\u001B[0m \u001B[38;5;28;01mif\u001B[39;00m \u001B[38;5;28mself\u001B[39m\u001B[38;5;241m.\u001B[39mconfig\u001B[38;5;241m.\u001B[39mdfe:\n",
      "File \u001B[0;32m~/anaconda3/envs/rl_qoc/lib/python3.11/site-packages/qiskit/primitives/primitive_job.py:51\u001B[0m, in \u001B[0;36mPrimitiveJob.result\u001B[0;34m(self)\u001B[0m\n\u001B[1;32m     49\u001B[0m \u001B[38;5;28;01mdef\u001B[39;00m \u001B[38;5;21mresult\u001B[39m(\u001B[38;5;28mself\u001B[39m) \u001B[38;5;241m-\u001B[39m\u001B[38;5;241m>\u001B[39m ResultT:\n\u001B[1;32m     50\u001B[0m     \u001B[38;5;28mself\u001B[39m\u001B[38;5;241m.\u001B[39m_check_submitted()\n\u001B[0;32m---> 51\u001B[0m     \u001B[38;5;28;01mreturn\u001B[39;00m \u001B[38;5;28mself\u001B[39m\u001B[38;5;241m.\u001B[39m_future\u001B[38;5;241m.\u001B[39mresult()\n",
      "File \u001B[0;32m~/anaconda3/envs/rl_qoc/lib/python3.11/concurrent/futures/_base.py:456\u001B[0m, in \u001B[0;36mFuture.result\u001B[0;34m(self, timeout)\u001B[0m\n\u001B[1;32m    454\u001B[0m     \u001B[38;5;28;01mraise\u001B[39;00m CancelledError()\n\u001B[1;32m    455\u001B[0m \u001B[38;5;28;01melif\u001B[39;00m \u001B[38;5;28mself\u001B[39m\u001B[38;5;241m.\u001B[39m_state \u001B[38;5;241m==\u001B[39m FINISHED:\n\u001B[0;32m--> 456\u001B[0m     \u001B[38;5;28;01mreturn\u001B[39;00m \u001B[38;5;28mself\u001B[39m\u001B[38;5;241m.\u001B[39m__get_result()\n\u001B[1;32m    457\u001B[0m \u001B[38;5;28;01melse\u001B[39;00m:\n\u001B[1;32m    458\u001B[0m     \u001B[38;5;28;01mraise\u001B[39;00m \u001B[38;5;167;01mTimeoutError\u001B[39;00m()\n",
      "File \u001B[0;32m~/anaconda3/envs/rl_qoc/lib/python3.11/concurrent/futures/_base.py:401\u001B[0m, in \u001B[0;36mFuture.__get_result\u001B[0;34m(self)\u001B[0m\n\u001B[1;32m    399\u001B[0m \u001B[38;5;28;01mif\u001B[39;00m \u001B[38;5;28mself\u001B[39m\u001B[38;5;241m.\u001B[39m_exception:\n\u001B[1;32m    400\u001B[0m     \u001B[38;5;28;01mtry\u001B[39;00m:\n\u001B[0;32m--> 401\u001B[0m         \u001B[38;5;28;01mraise\u001B[39;00m \u001B[38;5;28mself\u001B[39m\u001B[38;5;241m.\u001B[39m_exception\n\u001B[1;32m    402\u001B[0m     \u001B[38;5;28;01mfinally\u001B[39;00m:\n\u001B[1;32m    403\u001B[0m         \u001B[38;5;66;03m# Break a reference cycle with the exception in self._exception\u001B[39;00m\n\u001B[1;32m    404\u001B[0m         \u001B[38;5;28mself\u001B[39m \u001B[38;5;241m=\u001B[39m \u001B[38;5;28;01mNone\u001B[39;00m\n",
      "File \u001B[0;32m~/anaconda3/envs/rl_qoc/lib/python3.11/concurrent/futures/thread.py:58\u001B[0m, in \u001B[0;36m_WorkItem.run\u001B[0;34m(self)\u001B[0m\n\u001B[1;32m     55\u001B[0m     \u001B[38;5;28;01mreturn\u001B[39;00m\n\u001B[1;32m     57\u001B[0m \u001B[38;5;28;01mtry\u001B[39;00m:\n\u001B[0;32m---> 58\u001B[0m     result \u001B[38;5;241m=\u001B[39m \u001B[38;5;28mself\u001B[39m\u001B[38;5;241m.\u001B[39mfn(\u001B[38;5;241m*\u001B[39m\u001B[38;5;28mself\u001B[39m\u001B[38;5;241m.\u001B[39margs, \u001B[38;5;241m*\u001B[39m\u001B[38;5;241m*\u001B[39m\u001B[38;5;28mself\u001B[39m\u001B[38;5;241m.\u001B[39mkwargs)\n\u001B[1;32m     59\u001B[0m \u001B[38;5;28;01mexcept\u001B[39;00m \u001B[38;5;167;01mBaseException\u001B[39;00m \u001B[38;5;28;01mas\u001B[39;00m exc:\n\u001B[1;32m     60\u001B[0m     \u001B[38;5;28mself\u001B[39m\u001B[38;5;241m.\u001B[39mfuture\u001B[38;5;241m.\u001B[39mset_exception(exc)\n",
      "File \u001B[0;32m~/Library/CloudStorage/OneDrive-NationalUniversityofSingapore/Coding_projects/Quantum_Optimal_Control/rl_qoc/qibo/qibo_estimatorV2.py:176\u001B[0m, in \u001B[0;36mQiboEstimatorV2._run\u001B[0;34m(self, pubs)\u001B[0m\n\u001B[1;32m    173\u001B[0m results \u001B[38;5;241m=\u001B[39m [\u001B[38;5;28;01mNone\u001B[39;00m] \u001B[38;5;241m*\u001B[39m \u001B[38;5;28mlen\u001B[39m(pubs)\n\u001B[1;32m    174\u001B[0m \u001B[38;5;28;01mfor\u001B[39;00m shots, lst \u001B[38;5;129;01min\u001B[39;00m pub_dict\u001B[38;5;241m.\u001B[39mitems():\n\u001B[1;32m    175\u001B[0m     \u001B[38;5;66;03m# run pubs with the same number of shots at once\u001B[39;00m\n\u001B[0;32m--> 176\u001B[0m     pub_results \u001B[38;5;241m=\u001B[39m \u001B[38;5;28mself\u001B[39m\u001B[38;5;241m.\u001B[39m_run_pubs([pubs[i] \u001B[38;5;28;01mfor\u001B[39;00m i \u001B[38;5;129;01min\u001B[39;00m lst], shots)\n\u001B[1;32m    177\u001B[0m     \u001B[38;5;66;03m# reconstruct the result of pubs\u001B[39;00m\n\u001B[1;32m    178\u001B[0m     \u001B[38;5;28;01mfor\u001B[39;00m i, pub_result \u001B[38;5;129;01min\u001B[39;00m \u001B[38;5;28mzip\u001B[39m(lst, pub_results):\n",
      "File \u001B[0;32m~/Library/CloudStorage/OneDrive-NationalUniversityofSingapore/Coding_projects/Quantum_Optimal_Control/rl_qoc/qibo/qibo_estimatorV2.py:238\u001B[0m, in \u001B[0;36mQiboEstimatorV2._run_pubs\u001B[0;34m(self, pubs, shots)\u001B[0m\n\u001B[1;32m    235\u001B[0m     preprocessed_data\u001B[38;5;241m.\u001B[39mappend(data)\n\u001B[1;32m    236\u001B[0m     flat_circuits\u001B[38;5;241m.\u001B[39mextend(data\u001B[38;5;241m.\u001B[39mcircuits)\n\u001B[0;32m--> 238\u001B[0m counts, metadata \u001B[38;5;241m=\u001B[39m _run_circuits(\n\u001B[1;32m    239\u001B[0m     flat_circuits,\n\u001B[1;32m    240\u001B[0m     \u001B[38;5;28mself\u001B[39m\u001B[38;5;241m.\u001B[39m_platform,\n\u001B[1;32m    241\u001B[0m     qubits\u001B[38;5;241m=\u001B[39m\u001B[38;5;28mself\u001B[39m\u001B[38;5;241m.\u001B[39moptions\u001B[38;5;241m.\u001B[39mqubits,\n\u001B[1;32m    242\u001B[0m     shots\u001B[38;5;241m=\u001B[39mshots,\n\u001B[1;32m    243\u001B[0m     seed_simulator\u001B[38;5;241m=\u001B[39m\u001B[38;5;28mself\u001B[39m\u001B[38;5;241m.\u001B[39m_options\u001B[38;5;241m.\u001B[39mseed_simulator,\n\u001B[1;32m    244\u001B[0m )\n\u001B[1;32m    246\u001B[0m results \u001B[38;5;241m=\u001B[39m []\n\u001B[1;32m    247\u001B[0m start \u001B[38;5;241m=\u001B[39m \u001B[38;5;241m0\u001B[39m\n",
      "File \u001B[0;32m~/Library/CloudStorage/OneDrive-NationalUniversityofSingapore/Coding_projects/Quantum_Optimal_Control/rl_qoc/qibo/qibo_estimatorV2.py:117\u001B[0m, in \u001B[0;36m_run_circuits\u001B[0;34m(circuits, platform, **run_options)\u001B[0m\n\u001B[1;32m    115\u001B[0m     metadata\u001B[38;5;241m.\u001B[39mappend(circ\u001B[38;5;241m.\u001B[39mmetadata)\n\u001B[1;32m    116\u001B[0m     \u001B[38;5;66;03m# circ.metadata = {}\u001B[39;00m\n\u001B[0;32m--> 117\u001B[0m counts \u001B[38;5;241m=\u001B[39m qibo_execute(\n\u001B[1;32m    118\u001B[0m     circuits,\n\u001B[1;32m    119\u001B[0m     [metadata_[\u001B[38;5;124m\"\u001B[39m\u001B[38;5;124mparameter_values\u001B[39m\u001B[38;5;124m\"\u001B[39m] \u001B[38;5;28;01mfor\u001B[39;00m metadata_ \u001B[38;5;129;01min\u001B[39;00m metadata],\n\u001B[1;32m    120\u001B[0m     platform,\n\u001B[1;32m    121\u001B[0m     \u001B[38;5;241m*\u001B[39m\u001B[38;5;241m*\u001B[39mrun_options,\n\u001B[1;32m    122\u001B[0m )\n\u001B[1;32m    123\u001B[0m \u001B[38;5;28;01mreturn\u001B[39;00m counts, metadata\n",
      "File \u001B[0;32m~/Library/CloudStorage/OneDrive-NationalUniversityofSingapore/Coding_projects/Quantum_Optimal_Control/rl_qoc/qibo/qibo_estimatorV2.py:60\u001B[0m, in \u001B[0;36mqibo_execute\u001B[0;34m(circuits, parameter_values, platform, **run_options)\u001B[0m\n\u001B[1;32m     55\u001B[0m qasm_circuits \u001B[38;5;241m=\u001B[39m [qasm3_dumps(circuit) \u001B[38;5;28;01mfor\u001B[39;00m circuit \u001B[38;5;129;01min\u001B[39;00m circuits]\n\u001B[1;32m     56\u001B[0m qibo_circuits \u001B[38;5;241m=\u001B[39m [\n\u001B[1;32m     57\u001B[0m     QiboCircuit\u001B[38;5;241m.\u001B[39mfrom_qasm(qasm_circuit) \u001B[38;5;28;01mfor\u001B[39;00m qasm_circuit \u001B[38;5;129;01min\u001B[39;00m qasm_circuits\n\u001B[1;32m     58\u001B[0m ]\n\u001B[0;32m---> 60\u001B[0m set_backend(\u001B[38;5;124m\"\u001B[39m\u001B[38;5;124mqibolab\u001B[39m\u001B[38;5;124m\"\u001B[39m, platform\u001B[38;5;241m=\u001B[39mplatform)\n\u001B[1;32m     61\u001B[0m hardware_qubit_pair \u001B[38;5;241m=\u001B[39m run_options\u001B[38;5;241m.\u001B[39mget(\n\u001B[1;32m     62\u001B[0m     \u001B[38;5;124m\"\u001B[39m\u001B[38;5;124mqubits\u001B[39m\u001B[38;5;124m\"\u001B[39m, (\u001B[38;5;241m0\u001B[39m, \u001B[38;5;241m1\u001B[39m)\n\u001B[1;32m     63\u001B[0m )  \u001B[38;5;66;03m# TODO: Figure out how to retrieve it\u001B[39;00m\n\u001B[1;32m     65\u001B[0m \u001B[38;5;66;03m# for parameter_value in parameter_values:\u001B[39;00m\n",
      "File \u001B[0;32m~/anaconda3/envs/rl_qoc/lib/python3.11/site-packages/qibo/backends/__init__.py:215\u001B[0m, in \u001B[0;36mset_backend\u001B[0;34m(backend, **kwargs)\u001B[0m\n\u001B[1;32m    208\u001B[0m \u001B[38;5;28;01mdef\u001B[39;00m \u001B[38;5;21mset_backend\u001B[39m(backend, \u001B[38;5;241m*\u001B[39m\u001B[38;5;241m*\u001B[39mkwargs):\n\u001B[1;32m    209\u001B[0m \u001B[38;5;250m    \u001B[39m\u001B[38;5;124;03m\"\"\"Set the current backend.\u001B[39;00m\n\u001B[1;32m    210\u001B[0m \n\u001B[1;32m    211\u001B[0m \u001B[38;5;124;03m    Args:\u001B[39;00m\n\u001B[1;32m    212\u001B[0m \u001B[38;5;124;03m        backend (str): Name of the backend to use.\u001B[39;00m\n\u001B[1;32m    213\u001B[0m \u001B[38;5;124;03m        kwargs (dict): Additional arguments for the backend.\u001B[39;00m\n\u001B[1;32m    214\u001B[0m \u001B[38;5;124;03m    \"\"\"\u001B[39;00m\n\u001B[0;32m--> 215\u001B[0m     _Global\u001B[38;5;241m.\u001B[39mset_backend(backend, \u001B[38;5;241m*\u001B[39m\u001B[38;5;241m*\u001B[39mkwargs)\n",
      "File \u001B[0;32m~/anaconda3/envs/rl_qoc/lib/python3.11/site-packages/qibo/backends/__init__.py:117\u001B[0m, in \u001B[0;36m_Global.set_backend\u001B[0;34m(cls, backend, **kwargs)\u001B[0m\n\u001B[1;32m    115\u001B[0m \u001B[38;5;129m@classmethod\u001B[39m\n\u001B[1;32m    116\u001B[0m \u001B[38;5;28;01mdef\u001B[39;00m \u001B[38;5;21mset_backend\u001B[39m(\u001B[38;5;28mcls\u001B[39m, backend, \u001B[38;5;241m*\u001B[39m\u001B[38;5;241m*\u001B[39mkwargs):\n\u001B[0;32m--> 117\u001B[0m     \u001B[38;5;28mcls\u001B[39m\u001B[38;5;241m.\u001B[39m_backend \u001B[38;5;241m=\u001B[39m construct_backend(backend, \u001B[38;5;241m*\u001B[39m\u001B[38;5;241m*\u001B[39mkwargs)\n\u001B[1;32m    118\u001B[0m     log\u001B[38;5;241m.\u001B[39minfo(\u001B[38;5;124mf\u001B[39m\u001B[38;5;124m\"\u001B[39m\u001B[38;5;124mUsing \u001B[39m\u001B[38;5;132;01m{\u001B[39;00m\u001B[38;5;28mcls\u001B[39m\u001B[38;5;241m.\u001B[39m_backend\u001B[38;5;132;01m}\u001B[39;00m\u001B[38;5;124m backend on \u001B[39m\u001B[38;5;132;01m{\u001B[39;00m\u001B[38;5;28mcls\u001B[39m\u001B[38;5;241m.\u001B[39m_backend\u001B[38;5;241m.\u001B[39mdevice\u001B[38;5;132;01m}\u001B[39;00m\u001B[38;5;124m\"\u001B[39m)\n",
      "File \u001B[0;32m~/anaconda3/envs/rl_qoc/lib/python3.11/site-packages/qibo/backends/__init__.py:327\u001B[0m, in \u001B[0;36mconstruct_backend\u001B[0;34m(backend, **kwargs)\u001B[0m\n\u001B[1;32m    325\u001B[0m \u001B[38;5;28;01mtry\u001B[39;00m:\n\u001B[1;32m    326\u001B[0m     module \u001B[38;5;241m=\u001B[39m import_module(provider)\n\u001B[0;32m--> 327\u001B[0m     \u001B[38;5;28;01mreturn\u001B[39;00m \u001B[38;5;28mgetattr\u001B[39m(module, \u001B[38;5;124m\"\u001B[39m\u001B[38;5;124mMetaBackend\u001B[39m\u001B[38;5;124m\"\u001B[39m)\u001B[38;5;241m.\u001B[39mload(\u001B[38;5;241m*\u001B[39m\u001B[38;5;241m*\u001B[39mkwargs)\n\u001B[1;32m    328\u001B[0m \u001B[38;5;28;01mexcept\u001B[39;00m \u001B[38;5;167;01mImportError\u001B[39;00m \u001B[38;5;28;01mas\u001B[39;00m e:\n\u001B[1;32m    329\u001B[0m     \u001B[38;5;66;03m# pylint: disable=unsupported-membership-test\u001B[39;00m\n\u001B[1;32m    330\u001B[0m     \u001B[38;5;28;01mif\u001B[39;00m provider \u001B[38;5;129;01mnot\u001B[39;00m \u001B[38;5;129;01min\u001B[39;00m e\u001B[38;5;241m.\u001B[39mmsg:\n",
      "File \u001B[0;32m~/anaconda3/envs/rl_qoc/lib/python3.11/site-packages/qibolab/backends.py:225\u001B[0m, in \u001B[0;36mMetaBackend.load\u001B[0;34m(platform)\u001B[0m\n\u001B[1;32m    216\u001B[0m \u001B[38;5;250m\u001B[39m\u001B[38;5;124;03m\"\"\"Loads the backend.\u001B[39;00m\n\u001B[1;32m    217\u001B[0m \n\u001B[1;32m    218\u001B[0m \u001B[38;5;124;03mArgs:\u001B[39;00m\n\u001B[0;32m   (...)\u001B[0m\n\u001B[1;32m    221\u001B[0m \u001B[38;5;124;03m    qibo.backends.abstract.Backend: The loaded backend.\u001B[39;00m\n\u001B[1;32m    222\u001B[0m \u001B[38;5;124;03m\"\"\"\u001B[39;00m\n\u001B[1;32m    223\u001B[0m \u001B[38;5;28;01mfrom\u001B[39;00m \u001B[38;5;21;01mqibolab\u001B[39;00m\u001B[38;5;21;01m.\u001B[39;00m\u001B[38;5;21;01mbackends\u001B[39;00m \u001B[38;5;28;01mimport\u001B[39;00m QibolabBackend\n\u001B[0;32m--> 225\u001B[0m \u001B[38;5;28;01mreturn\u001B[39;00m QibolabBackend(platform\u001B[38;5;241m=\u001B[39mplatform)\n",
      "File \u001B[0;32m~/anaconda3/envs/rl_qoc/lib/python3.11/site-packages/qibolab/backends.py:46\u001B[0m, in \u001B[0;36mQibolabBackend.__init__\u001B[0;34m(self, platform)\u001B[0m\n\u001B[1;32m     44\u001B[0m     \u001B[38;5;28mself\u001B[39m\u001B[38;5;241m.\u001B[39mplatform \u001B[38;5;241m=\u001B[39m platform\n\u001B[1;32m     45\u001B[0m \u001B[38;5;28;01melse\u001B[39;00m:\n\u001B[0;32m---> 46\u001B[0m     \u001B[38;5;28mself\u001B[39m\u001B[38;5;241m.\u001B[39mplatform \u001B[38;5;241m=\u001B[39m create_platform(platform)\n\u001B[1;32m     47\u001B[0m \u001B[38;5;28mself\u001B[39m\u001B[38;5;241m.\u001B[39mversions \u001B[38;5;241m=\u001B[39m {\n\u001B[1;32m     48\u001B[0m     \u001B[38;5;124m\"\u001B[39m\u001B[38;5;124mqibo\u001B[39m\u001B[38;5;124m\"\u001B[39m: qibo_version,\n\u001B[1;32m     49\u001B[0m     \u001B[38;5;124m\"\u001B[39m\u001B[38;5;124mnumpy\u001B[39m\u001B[38;5;124m\"\u001B[39m: \u001B[38;5;28mself\u001B[39m\u001B[38;5;241m.\u001B[39mnp\u001B[38;5;241m.\u001B[39m__version__,\n\u001B[1;32m     50\u001B[0m     \u001B[38;5;124m\"\u001B[39m\u001B[38;5;124mqibolab\u001B[39m\u001B[38;5;124m\"\u001B[39m: qibolab_version,\n\u001B[1;32m     51\u001B[0m }\n\u001B[1;32m     52\u001B[0m \u001B[38;5;28mself\u001B[39m\u001B[38;5;241m.\u001B[39mcompiler \u001B[38;5;241m=\u001B[39m Compiler\u001B[38;5;241m.\u001B[39mdefault()\n",
      "File \u001B[0;32m~/anaconda3/envs/rl_qoc/lib/python3.11/site-packages/qibolab/platform/load.py:64\u001B[0m, in \u001B[0;36mcreate_platform\u001B[0;34m(name)\u001B[0m\n\u001B[1;32m     60\u001B[0m     \u001B[38;5;28;01mfrom\u001B[39;00m \u001B[38;5;21;01mqibolab\u001B[39;00m\u001B[38;5;21;01m.\u001B[39;00m\u001B[38;5;21;01mdummy\u001B[39;00m \u001B[38;5;28;01mimport\u001B[39;00m create_dummy\n\u001B[1;32m     62\u001B[0m     \u001B[38;5;28;01mreturn\u001B[39;00m create_dummy(with_couplers\u001B[38;5;241m=\u001B[39mname \u001B[38;5;241m==\u001B[39m \u001B[38;5;124m\"\u001B[39m\u001B[38;5;124mdummy_couplers\u001B[39m\u001B[38;5;124m\"\u001B[39m)\n\u001B[0;32m---> 64\u001B[0m \u001B[38;5;28;01mreturn\u001B[39;00m _load(_search(name, _platforms_paths()))\n",
      "File \u001B[0;32m~/anaconda3/envs/rl_qoc/lib/python3.11/site-packages/qibolab/platform/load.py:21\u001B[0m, in \u001B[0;36m_platforms_paths\u001B[0;34m()\u001B[0m\n\u001B[1;32m     19\u001B[0m paths \u001B[38;5;241m=\u001B[39m os\u001B[38;5;241m.\u001B[39menviron\u001B[38;5;241m.\u001B[39mget(PLATFORMS)\n\u001B[1;32m     20\u001B[0m \u001B[38;5;28;01mif\u001B[39;00m paths \u001B[38;5;129;01mis\u001B[39;00m \u001B[38;5;28;01mNone\u001B[39;00m:\n\u001B[0;32m---> 21\u001B[0m     raise_error(\u001B[38;5;167;01mRuntimeError\u001B[39;00m, \u001B[38;5;124mf\u001B[39m\u001B[38;5;124m\"\u001B[39m\u001B[38;5;124mPlatforms path $\u001B[39m\u001B[38;5;132;01m{\u001B[39;00mPLATFORMS\u001B[38;5;132;01m}\u001B[39;00m\u001B[38;5;124m unset.\u001B[39m\u001B[38;5;124m\"\u001B[39m)\n\u001B[1;32m     23\u001B[0m \u001B[38;5;28;01mreturn\u001B[39;00m [Path(p) \u001B[38;5;28;01mfor\u001B[39;00m p \u001B[38;5;129;01min\u001B[39;00m paths\u001B[38;5;241m.\u001B[39msplit(os\u001B[38;5;241m.\u001B[39mpathsep)]\n",
      "File \u001B[0;32m~/anaconda3/envs/rl_qoc/lib/python3.11/site-packages/qibo/config.py:46\u001B[0m, in \u001B[0;36mraise_error\u001B[0;34m(exception, message)\u001B[0m\n\u001B[1;32m     39\u001B[0m \u001B[38;5;250m\u001B[39m\u001B[38;5;124;03m\"\"\"Raise exception with logging error.\u001B[39;00m\n\u001B[1;32m     40\u001B[0m \n\u001B[1;32m     41\u001B[0m \u001B[38;5;124;03mArgs:\u001B[39;00m\n\u001B[1;32m     42\u001B[0m \u001B[38;5;124;03m    exception (Exception): python exception.\u001B[39;00m\n\u001B[1;32m     43\u001B[0m \u001B[38;5;124;03m    message (str): the error message.\u001B[39;00m\n\u001B[1;32m     44\u001B[0m \u001B[38;5;124;03m\"\"\"\u001B[39;00m\n\u001B[1;32m     45\u001B[0m log\u001B[38;5;241m.\u001B[39merror(message)\n\u001B[0;32m---> 46\u001B[0m \u001B[38;5;28;01mraise\u001B[39;00m exception(message)\n",
      "\u001B[0;31mRuntimeError\u001B[0m: Platforms path $QIBOLAB_PLATFORMS unset."
     ]
    }
   ],
   "execution_count": 4
  },
  {
   "metadata": {},
   "cell_type": "code",
   "outputs": [],
   "execution_count": null,
   "source": "",
   "id": "87e78777a6288dea"
  }
 ],
 "metadata": {
  "kernelspec": {
   "display_name": "Python 3",
   "language": "python",
   "name": "python3"
  },
  "language_info": {
   "codemirror_mode": {
    "name": "ipython",
    "version": 2
   },
   "file_extension": ".py",
   "mimetype": "text/x-python",
   "name": "python",
   "nbconvert_exporter": "python",
   "pygments_lexer": "ipython2",
   "version": "2.7.6"
  }
 },
 "nbformat": 4,
 "nbformat_minor": 5
}

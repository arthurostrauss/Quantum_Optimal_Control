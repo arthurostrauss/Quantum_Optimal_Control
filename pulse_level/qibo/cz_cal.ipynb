{
 "cells": [
  {
   "cell_type": "code",
   "id": "initial_id",
   "metadata": {
    "collapsed": true,
    "ExecuteTime": {
     "end_time": "2024-11-24T06:33:56.277113Z",
     "start_time": "2024-11-24T06:33:56.231747Z"
    }
   },
   "source": [
    "from qiskit import QuantumRegister\n",
    "import numpy as np\n",
    "from gymnasium.spaces import Box\n",
    "from rl_qoc import QuantumEnvironment, BenchmarkConfig\n",
    "from qiskit.circuit import QuantumCircuit, ParameterVector, Gate\n",
    "from qiskit.circuit.library import CZGate, RXGate, XGate\n",
    "from rl_qoc import (\n",
    "    QEnvConfig,\n",
    "    ExecutionConfig,\n",
    "    ChannelRewardConfig,\n",
    ")\n",
    "from rl_qoc.qibo import QiboConfig\n",
    "from gymnasium.wrappers import ClipAction\n",
    "\n",
    "\n",
    "def param_circuit(\n",
    "    qc: QuantumCircuit, params: ParameterVector, qreg: QuantumRegister, **kwargs\n",
    "):\n",
    "    target = kwargs[\"target\"]\n",
    "    gate: Gate = target[\"gate\"]\n",
    "    custom_gate = Gate(f\"{gate.name}_cal\", 2, params.params)\n",
    "    qc.append(custom_gate, qreg)\n",
    "\n",
    "    return qc\n",
    "\n",
    "\n",
    "def get_backend():\n",
    "    return \"qibolab\"\n",
    "\n",
    "\n",
    "target = {\"gate\": CZGate(), \"physical_qubits\": [0, 1]}\n",
    "instruction_durations = {}\n",
    "action_space_low = np.array(\n",
    "    [0.0, 16], dtype=np.float32\n",
    ")  # [amp, phase, phase, duration]\n",
    "action_space_high = np.array(\n",
    "    [1.0, 160], dtype=np.float32\n",
    ")  # [amp, phase, phase, duration]\n",
    "action_space = Box(action_space_low, action_space_high)\n",
    "qibo_config = QiboConfig(\n",
    "    param_circuit,\n",
    "    get_backend(),\n",
    "    platform=\"dummy\",\n",
    "    qubit_pair=(0, 2),\n",
    "    gate_rule=\"cz\",\n",
    "    parametrized_circuit_kwargs={\"target\": target},\n",
    "    instruction_durations=None,\n",
    ")\n",
    "q_env_config = QEnvConfig(\n",
    "    target={\"gate\": CZGate(), \"physical_qubits\": [0, 1]},\n",
    "    backend_config=qibo_config,\n",
    "    action_space=action_space,\n",
    "    reward_config=ChannelRewardConfig(),\n",
    "    benchmark_config=BenchmarkConfig(0),\n",
    "    execution_config=ExecutionConfig(\n",
    "        batch_size=1, sampling_paulis=50, n_shots=1000, n_reps=1\n",
    "    ),\n",
    ")\n",
    "\n",
    "env = QuantumEnvironment(q_env_config)"
   ],
   "outputs": [],
   "execution_count": 4
  },
  {
   "metadata": {
    "ExecuteTime": {
     "end_time": "2024-11-24T06:33:57.111864Z",
     "start_time": "2024-11-24T06:33:57.071104Z"
    }
   },
   "cell_type": "code",
   "source": [
    "env.circuits[0].draw(output=\"mpl\")"
   ],
   "id": "1589d187c31e07fc",
   "outputs": [
    {
     "data": {
      "text/plain": [
       "<Figure size 309.737x200.667 with 1 Axes>"
      ],
      "image/png": "[encoded data removed]"
     },
     "execution_count": 5,
     "metadata": {},
     "output_type": "execute_result"
    }
   ],
   "execution_count": 5
  },
  {
   "metadata": {
    "ExecuteTime": {
     "end_time": "2024-11-24T06:34:01.055093Z",
     "start_time": "2024-11-24T06:34:01.011990Z"
    }
   },
   "cell_type": "code",
   "source": [
    "env.baseline_circuits[0].draw(output=\"mpl\")"
   ],
   "id": "f651bd13fddd524b",
   "outputs": [
    {
     "data": {
      "text/plain": [
       "<Figure size 226.125x200.667 with 1 Axes>"
      ],
      "image/png": "[encoded data removed]"
     },
     "execution_count": 6,
     "metadata": {},
     "output_type": "execute_result"
    }
   ],
   "execution_count": 6
  },
  {
   "metadata": {
    "ExecuteTime": {
     "end_time": "2024-11-24T06:36:00.828548Z",
     "start_time": "2024-11-24T06:36:00.824212Z"
    }
   },
   "cell_type": "code",
   "source": [
    "from rl_qoc import CustomPPO\n",
    "from rl_qoc.agent import TrainFunctionSettings, TotalUpdates, TrainingConfig\n",
    "from rl_qoc.helpers import load_from_yaml_file\n",
    "\n",
    "file_name = \"agent_config.yaml\"\n",
    "\n",
    "agent_config = load_from_yaml_file(file_name)"
   ],
   "id": "b4c07498286331a2",
   "outputs": [],
   "execution_count": 7
  },
  {
   "metadata": {},
   "cell_type": "code",
   "outputs": [],
   "execution_count": null,
   "source": [
    "ppo = CustomPPO(agent_config, ClipAction(env))\n",
    "total_updates = TotalUpdates(500)\n",
    "# hardware_runtime = HardwareRuntime(300)\n",
    "training_config = TrainingConfig(\n",
    "    training_constraint=total_updates,\n",
    "    target_fidelities=[0.999, 0.9999],\n",
    "    lookback_window=10,\n",
    "    anneal_learning_rate=True,\n",
    "    std_actions_eps=1e-2,\n",
    ")\n",
    "\n",
    "train_function_settings = TrainFunctionSettings(\n",
    "    plot_real_time=True,\n",
    "    print_debug=True,\n",
    "    num_prints=1,\n",
    "    hpo_mode=False,\n",
    "    clear_history=True,\n",
    ")"
   ],
   "id": "49878bf9d8f4d81c"
  },
  {
   "metadata": {},
   "cell_type": "code",
   "outputs": [],
   "execution_count": null,
   "source": "ppo.train(training_config, train_function_settings)",
   "id": "f0429eec584b59da"
  }
 ],
 "metadata": {
  "kernelspec": {
   "display_name": "Python 3",
   "language": "python",
   "name": "python3"
  },
  "language_info": {
   "codemirror_mode": {
    "name": "ipython",
    "version": 2
   },
   "file_extension": ".py",
   "mimetype": "text/x-python",
   "name": "python",
   "nbconvert_exporter": "python",
   "pygments_lexer": "ipython2",
   "version": "2.7.6"
  }
 },
 "nbformat": 4,
 "nbformat_minor": 5
}

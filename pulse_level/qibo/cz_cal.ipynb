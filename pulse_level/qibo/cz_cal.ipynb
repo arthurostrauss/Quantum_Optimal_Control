{
 "cells": [
  {
   "metadata": {
    "ExecuteTime": {
     "end_time": "2024-11-25T08:24:46.912573Z",
     "start_time": "2024-11-25T08:24:41.542245Z"
    }
   },
   "cell_type": "code",
   "source": [
    "from qiskit import QuantumRegister\n",
    "import numpy as np\n",
    "from gymnasium.spaces import Box\n",
    "from rl_qoc import QuantumEnvironment, BenchmarkConfig, GateTarget\n",
    "from qiskit.circuit import QuantumCircuit, ParameterVector, Gate\n",
    "from qiskit.circuit.library import CZGate, RXGate, XGate\n",
    "from rl_qoc import (\n",
    "    QEnvConfig,\n",
    "    ExecutionConfig,\n",
    "    ActionSpace\n",
    ")\n",
    "from rl_qoc.qibo import QiboConfig\n",
    "from gymnasium.wrappers import ClipAction\n",
    "\n",
    "\n",
    "def param_circuit(qc: QuantumCircuit, params: ParameterVector, qreg: QuantumRegister, **kwargs):\n",
    "    target = kwargs[\"target\"]\n",
    "    gate: Gate = target.gate\n",
    "    custom_gate = Gate(f\"{gate.name}_cal\", 2, params.params)\n",
    "    qc.append(custom_gate, qreg)\n",
    "\n",
    "    return qc\n",
    "\n",
    "\n",
    "def gate_rule():\n",
    "    pass\n",
    "\n",
    "\n",
    "def get_backend():\n",
    "    return \"qibolab\"\n",
    "\n",
    "\n",
    "target = GateTarget(gate=XGate(), physical_qubits=[0])\n",
    "action_space = ActionSpace(n_actions=2, low=[0.0, 16], high=[1.0, 160])\n",
    "qibo_config = QiboConfig(\n",
    "    \"param_circuit\",\n",
    "    \"get_backend\",\n",
    "    platform=\"dummy\",\n",
    "    physical_qubits=(0, 1),\n",
    "    gate_rule=\"rx\",\n",
    "    parametrized_circuit_kwargs={\"target\": target},\n",
    "    instruction_durations=None,\n",
    ")\n",
    "q_env_config = QEnvConfig(\n",
    "    target=target,\n",
    "    backend_config=qibo_config,\n",
    "    action_space=action_space,\n",
    "    benchmark_config=BenchmarkConfig(0),\n",
    "    execution_config=ExecutionConfig(batch_size=32, sampling_paulis=50, n_shots=1000, n_reps=1),\n",
    ")\n",
    "\n",
    "env = QuantumEnvironment(q_env_config)"
   ],
   "id": "89a8b3a5408de695",
   "outputs": [],
   "execution_count": 1
  },
  {
   "metadata": {
    "ExecuteTime": {
     "end_time": "2024-11-25T08:24:47.007933Z",
     "start_time": "2024-11-25T08:24:46.916321Z"
    }
   },
   "cell_type": "code",
   "source": "env.circuits[0].draw(output=\"mpl\")",
   "id": "5fc04cd35b128114",
   "outputs": [
    {
     "data": {
      "text/plain": [
       "<Figure size 309.737x200.667 with 1 Axes>"
      ],
      "image/png": "[encoded data removed]"
     },
     "execution_count": 2,
     "metadata": {},
     "output_type": "execute_result"
    }
   ],
   "execution_count": 2
  },
  {
   "metadata": {
    "ExecuteTime": {
     "end_time": "2024-11-25T08:24:47.064841Z",
     "start_time": "2024-11-25T08:24:47.036081Z"
    }
   },
   "cell_type": "code",
   "source": [
    "env.baseline_circuits[0].draw(output=\"mpl\")"
   ],
   "id": "f651bd13fddd524b",
   "outputs": [
    {
     "data": {
      "text/plain": [
       "<Figure size 226.125x200.667 with 1 Axes>"
      ],
      "image/png": "[encoded data removed]"
     },
     "execution_count": 3,
     "metadata": {},
     "output_type": "execute_result"
    }
   ],
   "execution_count": 3
  },
  {
   "metadata": {
    "ExecuteTime": {
     "end_time": "2024-11-25T08:24:47.074086Z",
     "start_time": "2024-11-25T08:24:47.071069Z"
    }
   },
   "cell_type": "code",
   "source": [
    "from rl_qoc import CustomPPO\n",
    "from rl_qoc.agent import TrainFunctionSettings, TotalUpdates, TrainingConfig\n",
    "from rl_qoc.helpers import load_from_yaml_file\n",
    "\n",
    "file_name = \"agent_config.yaml\"\n",
    "\n",
    "agent_config = load_from_yaml_file(file_name)"
   ],
   "id": "b4c07498286331a2",
   "outputs": [],
   "execution_count": 4
  },
  {
   "metadata": {
    "ExecuteTime": {
     "end_time": "2024-11-25T08:24:47.232262Z",
     "start_time": "2024-11-25T08:24:47.079414Z"
    }
   },
   "cell_type": "code",
   "source": [
    "ppo = CustomPPO(agent_config, ClipAction(env))\n",
    "total_updates = TotalUpdates(500)\n",
    "# hardware_runtime = HardwareRuntime(300)\n",
    "training_config = TrainingConfig(\n",
    "    training_constraint=total_updates,\n",
    "    target_fidelities=[0.999, 0.9999],\n",
    "    lookback_window=10,\n",
    "    anneal_learning_rate=True,\n",
    "    std_actions_eps=1e-2,\n",
    ")\n",
    "\n",
    "train_function_settings = TrainFunctionSettings(\n",
    "    plot_real_time=False,\n",
    "    print_debug=False,\n",
    "    num_prints=5,\n",
    "    hpo_mode=False,\n",
    "    clear_history=False,\n",
    ")"
   ],
   "id": "49878bf9d8f4d81c",
   "outputs": [],
   "execution_count": 5
  },
  {
   "metadata": {},
   "cell_type": "code",
   "source": "ppo.train(training_config, train_function_settings)",
   "id": "19f547ffeef44a06",
   "execution_count": null,
   "outputs": [
   ]
  },
  {
   "metadata": {},
   "cell_type": "code",
   "outputs": [],
   "execution_count": null,
   "source": "",
   "id": "f0ac2d4c9eda0b52"
  }
 ],
 "metadata": {
  "kernelspec": {
   "display_name": "Python 3",
   "language": "python",
   "name": "python3"
  },
  "language_info": {
   "codemirror_mode": {
    "name": "ipython",
    "version": 2
   },
   "file_extension": ".py",
   "mimetype": "text/x-python",
   "name": "python",
   "nbconvert_exporter": "python",
   "pygments_lexer": "ipython2",
   "version": "2.7.6"
  }
 },
 "nbformat": 4,
 "nbformat_minor": 5
}

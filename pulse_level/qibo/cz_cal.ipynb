{
 "cells": [
  {
   "cell_type": "code",
   "id": "initial_id",
   "metadata": {
    "collapsed": true,
    "ExecuteTime": {
     "end_time": "2024-10-15T05:04:07.494993Z",
     "start_time": "2024-10-15T05:03:59.215655Z"
    }
   },
   "source": [
    "from qiskit import QuantumRegister\n",
    "import numpy as np\n",
    "from gymnasium.spaces import Box\n",
    "from rl_qoc import QuantumEnvironment, BenchmarkConfig\n",
    "from rl_qoc.qibo import QiboEstimatorV2\n",
    "from qiskit.circuit import QuantumCircuit, ParameterVector, Gate\n",
    "from qiskit.circuit.library import CZGate\n",
    "from rl_qoc import (\n",
    "    QEnvConfig,\n",
    "    QiskitRuntimeConfig as QiskitConfig,\n",
    "    ExecutionConfig,\n",
    "    ChannelConfig,\n",
    ")\n",
    "from qiskit import pulse\n",
    "\n",
    "\n",
    "def param_circuit(\n",
    "    qc: QuantumCircuit, params: ParameterVector, qreg: QuantumRegister, **kwargs\n",
    "):\n",
    "    cz_cal = Gate(\"cz_cal\", 2, params.params)\n",
    "    with pulse.build() as cz_sched:\n",
    "        pulse.play(\n",
    "            pulse.Gaussian(duration=160, amp=0.5, sigma=40), pulse.DriveChannel(0)\n",
    "        )\n",
    "        pulse.play(\n",
    "            pulse.Gaussian(duration=160, amp=0.5, sigma=40), pulse.DriveChannel(1)\n",
    "        )\n",
    "        pulse.shift_phase(np.pi, pulse.DriveChannel(0))\n",
    "        pulse.shift_phase(np.pi, pulse.DriveChannel(1))\n",
    "    qc.append(cz_cal, qreg)\n",
    "    qc.add_calibration(cz_cal, [0, 1], cz_sched)\n",
    "\n",
    "    return qc\n",
    "\n",
    "\n",
    "def get_backend():\n",
    "    return None\n",
    "\n",
    "\n",
    "qiskit_config = QiskitConfig(param_circuit, get_backend())\n",
    "q_env_config = QEnvConfig(\n",
    "    target={\"gate\": CZGate(), \"physical_qubits\": [0, 1]},\n",
    "    backend_config=qiskit_config,\n",
    "    action_space=Box(-np.pi, np.pi, (4,)),\n",
    "    reward_config=ChannelConfig(),\n",
    "    benchmark_config=BenchmarkConfig(0),\n",
    "    execution_config=ExecutionConfig(batch_size=3, sampling_paulis=20, n_shots=10),\n",
    ")\n",
    "\n",
    "env = QuantumEnvironment(q_env_config)"
   ],
   "outputs": [],
   "execution_count": 1
  },
  {
   "metadata": {
    "ExecuteTime": {
     "end_time": "2024-10-15T05:04:07.647807Z",
     "start_time": "2024-10-15T05:04:07.503577Z"
    }
   },
   "cell_type": "code",
   "source": [
    "env.circuits[0].draw(output=\"mpl\")"
   ],
   "id": "1589d187c31e07fc",
   "outputs": [
    {
     "data": {
      "text/plain": [
       "<Figure size 393.348x200.667 with 1 Axes>"
      ],
      "image/png": "[encoded data removed]"
     },
     "execution_count": 2,
     "metadata": {},
     "output_type": "execute_result"
    }
   ],
   "execution_count": 2
  },
  {
   "metadata": {
    "ExecuteTime": {
     "end_time": "2024-10-15T05:04:07.723069Z",
     "start_time": "2024-10-15T05:04:07.685029Z"
    }
   },
   "cell_type": "code",
   "source": [
    "env.baseline_circuits[0].draw(output=\"mpl\")"
   ],
   "id": "f651bd13fddd524b",
   "outputs": [
    {
     "data": {
      "text/plain": [
       "<Figure size 226.125x200.667 with 1 Axes>"
      ],
      "image/png": "[encoded data removed]"
     },
     "execution_count": 3,
     "metadata": {},
     "output_type": "execute_result"
    }
   ],
   "execution_count": 3
  },
  {
   "metadata": {
    "ExecuteTime": {
     "end_time": "2024-10-15T05:04:07.731904Z",
     "start_time": "2024-10-15T05:04:07.729482Z"
    }
   },
   "cell_type": "code",
   "source": "qibo_estimator = QiboEstimatorV2(backend=None)",
   "id": "132d7d8e8d856048",
   "outputs": [],
   "execution_count": 4
  },
  {
   "metadata": {
    "ExecuteTime": {
     "end_time": "2024-10-15T05:06:55.255373Z",
     "start_time": "2024-10-15T05:04:08.394571Z"
    }
   },
   "cell_type": "code",
   "source": [
    "env.estimator = qibo_estimator\n",
    "env.step(np.random.uniform(-np.pi, np.pi, (env.batch_size, 4)))"
   ],
   "id": "aee2b8591f44bac7",
   "outputs": [
    {
     "name": "stdout",
     "output_type": "stream",
     "text": [
      "Sending Estimator job...\n"
     ]
    },
    {
     "ename": "KeyboardInterrupt",
     "evalue": "",
     "output_type": "error",
     "traceback": [
      "\u001b[0;31m---------------------------------------------------------------------------\u001b[0m",
      "\u001b[0;31mKeyboardInterrupt\u001b[0m                         Traceback (most recent call last)",
      "Cell \u001b[0;32mIn[5], line 2\u001b[0m\n\u001b[1;32m      1\u001b[0m env\u001b[38;5;241m.\u001b[39mestimator \u001b[38;5;241m=\u001b[39m qibo_estimator\n\u001b[0;32m----> 2\u001b[0m env\u001b[38;5;241m.\u001b[39mstep(np\u001b[38;5;241m.\u001b[39mrandom\u001b[38;5;241m.\u001b[39muniform(\u001b[38;5;241m-\u001b[39mnp\u001b[38;5;241m.\u001b[39mpi, np\u001b[38;5;241m.\u001b[39mpi, (env\u001b[38;5;241m.\u001b[39mbatch_size, \u001b[38;5;241m4\u001b[39m)))\n",
      "File \u001b[0;32m~/Library/CloudStorage/OneDrive-NationalUniversityofSingapore/Coding_projects/Quantum_Optimal_Control/rl_qoc/quantumenvironment.py:149\u001b[0m, in \u001b[0;36mQuantumEnvironment.step\u001b[0;34m(self, action)\u001b[0m\n\u001b[1;32m    140\u001b[0m     \u001b[38;5;28;01mreturn\u001b[39;00m (\n\u001b[1;32m    141\u001b[0m         \u001b[38;5;28mself\u001b[39m\u001b[38;5;241m.\u001b[39mreset()[\u001b[38;5;241m0\u001b[39m],\n\u001b[1;32m    142\u001b[0m         np\u001b[38;5;241m.\u001b[39mzeros(\u001b[38;5;28mself\u001b[39m\u001b[38;5;241m.\u001b[39mbatch_size),\n\u001b[0;32m   (...)\u001b[0m\n\u001b[1;32m    145\u001b[0m         \u001b[38;5;28mself\u001b[39m\u001b[38;5;241m.\u001b[39m_get_info(),\n\u001b[1;32m    146\u001b[0m     )\n\u001b[1;32m    148\u001b[0m terminated \u001b[38;5;241m=\u001b[39m \u001b[38;5;28mself\u001b[39m\u001b[38;5;241m.\u001b[39m_episode_ended \u001b[38;5;241m=\u001b[39m \u001b[38;5;28;01mTrue\u001b[39;00m\n\u001b[0;32m--> 149\u001b[0m reward \u001b[38;5;241m=\u001b[39m \u001b[38;5;28mself\u001b[39m\u001b[38;5;241m.\u001b[39mperform_action(action)\n\u001b[1;32m    151\u001b[0m \u001b[38;5;28;01mif\u001b[39;00m np\u001b[38;5;241m.\u001b[39mmean(reward) \u001b[38;5;241m>\u001b[39m \u001b[38;5;28mself\u001b[39m\u001b[38;5;241m.\u001b[39m_max_return:\n\u001b[1;32m    152\u001b[0m     \u001b[38;5;28mself\u001b[39m\u001b[38;5;241m.\u001b[39m_max_return \u001b[38;5;241m=\u001b[39m np\u001b[38;5;241m.\u001b[39mmean(reward)\n",
      "File \u001b[0;32m~/Library/CloudStorage/OneDrive-NationalUniversityofSingapore/Coding_projects/Quantum_Optimal_Control/rl_qoc/base_q_env.py:915\u001b[0m, in \u001b[0;36mBaseQuantumEnvironment.perform_action\u001b[0;34m(self, actions)\u001b[0m\n\u001b[1;32m    913\u001b[0m \u001b[38;5;28;01melse\u001b[39;00m:  \u001b[38;5;66;03m# EstimatorV2\u001b[39;00m\n\u001b[1;32m    914\u001b[0m     job \u001b[38;5;241m=\u001b[39m \u001b[38;5;28mself\u001b[39m\u001b[38;5;241m.\u001b[39mprimitive\u001b[38;5;241m.\u001b[39mrun(pubs\u001b[38;5;241m=\u001b[39m\u001b[38;5;28mself\u001b[39m\u001b[38;5;241m.\u001b[39m_pubs)\n\u001b[0;32m--> 915\u001b[0m     pub_results \u001b[38;5;241m=\u001b[39m job\u001b[38;5;241m.\u001b[39mresult()\n\u001b[1;32m    916\u001b[0m     \u001b[38;5;28mprint\u001b[39m(\u001b[38;5;124m\"\u001b[39m\u001b[38;5;124mTime for running\u001b[39m\u001b[38;5;124m\"\u001b[39m, time\u001b[38;5;241m.\u001b[39mtime() \u001b[38;5;241m-\u001b[39m start)\n\u001b[1;32m    918\u001b[0m     \u001b[38;5;28;01mif\u001b[39;00m \u001b[38;5;28mself\u001b[39m\u001b[38;5;241m.\u001b[39mconfig\u001b[38;5;241m.\u001b[39mdfe:\n",
      "File \u001b[0;32m~/anaconda3/envs/rl_qoc/lib/python3.11/site-packages/qiskit/primitives/primitive_job.py:51\u001b[0m, in \u001b[0;36mPrimitiveJob.result\u001b[0;34m(self)\u001b[0m\n\u001b[1;32m     49\u001b[0m \u001b[38;5;28;01mdef\u001b[39;00m \u001b[38;5;21mresult\u001b[39m(\u001b[38;5;28mself\u001b[39m) \u001b[38;5;241m-\u001b[39m\u001b[38;5;241m>\u001b[39m ResultT:\n\u001b[1;32m     50\u001b[0m     \u001b[38;5;28mself\u001b[39m\u001b[38;5;241m.\u001b[39m_check_submitted()\n\u001b[0;32m---> 51\u001b[0m     \u001b[38;5;28;01mreturn\u001b[39;00m \u001b[38;5;28mself\u001b[39m\u001b[38;5;241m.\u001b[39m_future\u001b[38;5;241m.\u001b[39mresult()\n",
      "File \u001b[0;32m~/anaconda3/envs/rl_qoc/lib/python3.11/concurrent/futures/_base.py:451\u001b[0m, in \u001b[0;36mFuture.result\u001b[0;34m(self, timeout)\u001b[0m\n\u001b[1;32m    448\u001b[0m \u001b[38;5;28;01melif\u001b[39;00m \u001b[38;5;28mself\u001b[39m\u001b[38;5;241m.\u001b[39m_state \u001b[38;5;241m==\u001b[39m FINISHED:\n\u001b[1;32m    449\u001b[0m     \u001b[38;5;28;01mreturn\u001b[39;00m \u001b[38;5;28mself\u001b[39m\u001b[38;5;241m.\u001b[39m__get_result()\n\u001b[0;32m--> 451\u001b[0m \u001b[38;5;28mself\u001b[39m\u001b[38;5;241m.\u001b[39m_condition\u001b[38;5;241m.\u001b[39mwait(timeout)\n\u001b[1;32m    453\u001b[0m \u001b[38;5;28;01mif\u001b[39;00m \u001b[38;5;28mself\u001b[39m\u001b[38;5;241m.\u001b[39m_state \u001b[38;5;129;01min\u001b[39;00m [CANCELLED, CANCELLED_AND_NOTIFIED]:\n\u001b[1;32m    454\u001b[0m     \u001b[38;5;28;01mraise\u001b[39;00m CancelledError()\n",
      "File \u001b[0;32m~/anaconda3/envs/rl_qoc/lib/python3.11/threading.py:327\u001b[0m, in \u001b[0;36mCondition.wait\u001b[0;34m(self, timeout)\u001b[0m\n\u001b[1;32m    325\u001b[0m \u001b[38;5;28;01mtry\u001b[39;00m:    \u001b[38;5;66;03m# restore state no matter what (e.g., KeyboardInterrupt)\u001b[39;00m\n\u001b[1;32m    326\u001b[0m     \u001b[38;5;28;01mif\u001b[39;00m timeout \u001b[38;5;129;01mis\u001b[39;00m \u001b[38;5;28;01mNone\u001b[39;00m:\n\u001b[0;32m--> 327\u001b[0m         waiter\u001b[38;5;241m.\u001b[39macquire()\n\u001b[1;32m    328\u001b[0m         gotit \u001b[38;5;241m=\u001b[39m \u001b[38;5;28;01mTrue\u001b[39;00m\n\u001b[1;32m    329\u001b[0m     \u001b[38;5;28;01melse\u001b[39;00m:\n",
      "\u001b[0;31mKeyboardInterrupt\u001b[0m: "
     ]
    }
   ],
   "execution_count": 21
  },
  {
   "metadata": {},
   "cell_type": "code",
   "outputs": [],
   "execution_count": null,
   "source": "",
   "id": "d3078d3d669b31e6"
  }
 ],
 "metadata": {
  "kernelspec": {
   "display_name": "Python 3",
   "language": "python",
   "name": "python3"
  },
  "language_info": {
   "codemirror_mode": {
    "name": "ipython",
    "version": 2
   },
   "file_extension": ".py",
   "mimetype": "text/x-python",
   "name": "python",
   "nbconvert_exporter": "python",
   "pygments_lexer": "ipython2",
   "version": "2.7.6"
  }
 },
 "nbformat": 4,
 "nbformat_minor": 5
}

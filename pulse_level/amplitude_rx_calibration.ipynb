{
 "cells": [
  {
   "cell_type": "markdown",
   "id": "d9331e9f-d5cd-4435-8569-47e1ec048ad3",
   "metadata": {},
   "source": [
    "# Model-free Pulse Gate Calibration using Reinforcement Learning\n",
    "\n",
    "In this notebook, we adjust the definition of the gate to be a custom pulse sequence to be simulated by Qiskit-Dynamics package.\n",
    "\n",
    "This notebook combines previously introduced modules of Qiskit and Tensorflow, combined to the usage of Qiskit-Dynamics to handle a pulse level simulation."
   ]
  },
  {
   "cell_type": "code",
   "execution_count": 1,
   "id": "98e443cf-e771-4a82-9a3a-d36c0448330d",
   "metadata": {},
   "outputs": [],
   "source": [
    "import numpy as np\n",
    "\n",
    "from rl_qoc import QuantumEnvironment, CustomPPO\n",
    "from rl_qoc.helpers import (\n",
    "    get_control_channel_map,\n",
    "    load_from_yaml_file,\n",
    ")\n",
    "\n",
    "from rl_qoc.config import (\n",
    "    QEnvConfig,\n",
    "    ActionSpace,\n",
    "    BackendConfig,\n",
    "    ExecutionConfig,\n",
    ")\n",
    "from rl_qoc.environment import GateTarget\n",
    "\n",
    "# Qiskit imports for building RL environment (circuit level)\n",
    "from qiskit import pulse\n",
    "from qiskit.providers import QubitProperties, BackendV1, BackendV2\n",
    "from qiskit_dynamics import DynamicsBackend, Solver\n",
    "from qiskit_dynamics.array import Array\n",
    "from qiskit.circuit import (\n",
    "    ParameterVector,\n",
    "    QuantumCircuit,\n",
    "    QuantumRegister,\n",
    "    Gate,\n",
    "    ParameterExpression,\n",
    ")\n",
    "\n",
    "# Additional imports\n",
    "import matplotlib.pyplot as plt\n",
    "from typing import Optional, Union, List\n",
    "\n",
    "# configure jax to use 64 bit mode\n",
    "import jax\n",
    "\n",
    "jax.config.update(\"jax_enable_x64\", True)\n",
    "# tell JAX we are using CPU\n",
    "jax.config.update(\"jax_platform_name\", \"cpu\")\n",
    "# import Array and set default backend\n",
    "\n",
    "Array.set_default_backend(\"jax\")"
   ]
  },
  {
   "cell_type": "markdown",
   "id": "49ef2b6e-4e5d-4d8e-87bb-9781ba098225",
   "metadata": {},
   "source": [
    "# Defining QuantumEnvironment features\n",
    "\n",
    "We provide below the details of our custom Quantum Processing Unit (QPU) we are controlling."
   ]
  },
  {
   "cell_type": "markdown",
   "id": "c342135c-af03-44a8-a1fe-d054a842ed7e",
   "metadata": {},
   "source": [
    "## Generic information characterizing the quantum system\n",
    "\n",
    "The algorithm is built upon Qiskit modules. To specify how to address our quantum system of interest, we therefore adopt the IBM approach to define a quantum backend, on which qubits are defined and can be accessed via control actions and measurements.\n",
    "\n",
    "The cell below specifies:\n",
    "- ```n_qubits```: Number of qubits characterizing the system of interest \n",
    "- ```qubit_tgt_register```: List of qubit indices which are specifically addressed by controls , namely the ones for which we intend to calibrate a gate upon or steer them in a specific quantum state. Note that this list could include less qubits than the total number of qubits, which can be useful when one wants to take into account crosstalk effects emerging from nearest-neigbor coupling.\n",
    "- ```sampling_Paulis```: number of Pauli observables  to be sampled from the system: the algorithm relies on the ability to process measurement outcomes to estimate the expectation value of different Pauli operators. The more observables we provide for sampling, the more properties we are able to deduce with accuracy about the actual state that was created when applying our custom controls. For a single qubit, the possible Pauli operators are $\\\\sigma_0=I$, $\\\\sigma_x=X$, $\\\\sigma_y=Y$, $\\\\sigma_z=Z$. For a general multiqubit system, the Pauli observables are tensor products of those single qubit Pauli operators. The algorithm will automatically estimate which observables are the most relevant to sample based on the provided target. The probability distribution from which those observables are sampled is derived from the Direct Fidelity Estimation (equation 3, https://link.aps.org/doi/10.1103/PhysRevLett.106.230501) algorithm. \n",
    "- ```N_shots```: Indicates how many measurements shall be done for each provided circuit (that is a specific combination of an action vector and a Pauli observable to be sampled)\n",
    "- The dimension of the action vector: Indicates the number of pulse/circuit parameters that characterize our parametrized quantum circuit.\n",
    "- ```estimator_options```: Options of the Qiskit Estimator primitive. The Estimator is the Qiskit module enabling an easy computation of Pauli expectation values. One can set options to make this process more reliable (typically by doing some error mitigation techniques in post-processing). Works only with Runtime Backend at the moment\n",
    "- ```abstraction_level``` chosen to encode our quantum circuit. One can choose here to stick to the usual circuit model of quantum computing, by using the ```QuantumCircuit``` objects from Qiskit and therefore set the ```abstraction_level``` to ```\"circuit\"```. However, depending on the task at hand, one can also prefer to use a pulse description of all the operations in our circuit. This is possible by using resources of another module of Qiskit called Qiskit Dynamics. In this case, one should define the ansatz circuit above in a pulse level fashion, and the simulation done at the Hamiltonian level, and not only via statevector calculations. In this notebook we set the ```abstraction_level``` to ```\"pulse\"```. Another notebook at the gate level is available in the repo."
   ]
  },
  {
   "cell_type": "code",
   "execution_count": 2,
   "id": "a4c51057-ba8d-4851-a797-13975611432c",
   "metadata": {},
   "outputs": [],
   "source": [
    "def non_linear_amplitude(\n",
    "    amp: Union[ParameterExpression, float],\n",
    "    target_angle: float,\n",
    "    pulse_ref_amp: float,\n",
    "    a=0.0,\n",
    "    b=0.0,\n",
    "    nu=0.1,\n",
    "):\n",
    "    white_noise = np.random.normal(0, target_angle * nu)\n",
    "    relative_amp = amp / pulse_ref_amp\n",
    "    distorted_amp = (1 + b * (relative_amp**2 - 1) + a * (relative_amp**4 - 1)) * amp\n",
    "\n",
    "    return distorted_amp + white_noise"
   ]
  },
  {
   "cell_type": "code",
   "execution_count": 3,
   "id": "b3f373b8-d7b1-4321-ba02-668d094471cf",
   "metadata": {},
   "outputs": [],
   "source": [
    "def custom_pulse_schedule(\n",
    "    backend: Union[BackendV1, BackendV2],\n",
    "    qubit_tgt_register: Union[List[int], QuantumRegister],\n",
    "    params: ParameterVector,\n",
    "    target_gate: Gate,\n",
    "    default_schedule: Optional[Union[pulse.ScheduleBlock, pulse.Schedule]] = None,\n",
    "):\n",
    "    \"\"\"\n",
    "    Define parametrization of the pulse schedule characterizing the target gate\n",
    "        :param backend: IBM Backend on which schedule shall be added\n",
    "        :param qubit_tgt_register: Qubit register on which\n",
    "        :param params: Parameters of the Schedule\n",
    "        :param target_gate: Quantum Gate to be calibrated\n",
    "        :param default_schedule:  baseline from which one can customize the pulse parameters\n",
    "\n",
    "        :return: Parametrized Schedule\n",
    "    \"\"\"\n",
    "\n",
    "    if default_schedule is None:  # No baseline pulse, full waveform builder\n",
    "        pass\n",
    "    else:\n",
    "        pulse_ref = default_schedule.instructions[0][1].pulse\n",
    "        custom_amp = params[0]\n",
    "        if bool(target_gate.params):\n",
    "            custom_amp = non_linear_amplitude(params[0], target_gate.params[0], pulse_ref.amp)\n",
    "\n",
    "        with pulse.build(backend=backend, name=\"param_schedule\") as parametrized_schedule:\n",
    "            pulse.play(\n",
    "                pulse.Drag(\n",
    "                    duration=pulse_ref.duration,\n",
    "                    amp=custom_amp,\n",
    "                    sigma=pulse_ref.sigma,\n",
    "                    beta=pulse_ref.beta,\n",
    "                    angle=pulse_ref.angle,\n",
    "                ),\n",
    "                channel=pulse.DriveChannel(qubit_tgt_register[0]),\n",
    "            )\n",
    "\n",
    "        return parametrized_schedule"
   ]
  },
  {
   "cell_type": "code",
   "execution_count": 4,
   "id": "5ffb5233-df91-4484-bc29-1ac1ffead6db",
   "metadata": {},
   "outputs": [],
   "source": [
    "# Pulse gate ansatz\n",
    "\n",
    "\n",
    "def apply_parametrized_circuit(qc: QuantumCircuit, params: ParameterVector, qr: QuantumRegister, **kwargs):\n",
    "    \"\"\"\n",
    "    Define ansatz circuit to be played on Quantum Computer. Should be parametrized with Qiskit ParameterVector\n",
    "    This function is used to run the QuantumCircuit instance on a Runtime backend\n",
    "    :param qc: Quantum Circuit instance to add the gate on\n",
    "    :return:\n",
    "    \"\"\"\n",
    "    # qc.num_qubits\n",
    "    backend = kwargs[\"backend\"]\n",
    "    target = kwargs[\"target\"]\n",
    "\n",
    "    # x_pulse = backend.defaults().instruction_schedule_map.get('x', (qubit_tgt_register,)).instructions[0][1].pulse\n",
    "\n",
    "    parametrized_gate = Gate(\"rx\", 1, params=[params[0]])\n",
    "\n",
    "    default_schedule = backend.target.get_calibration(\"x\", tuple(target.physical_qubits))\n",
    "    parametrized_schedule = custom_pulse_schedule(\n",
    "        backend=backend,\n",
    "        qubit_tgt_register=target.physical_qubits,\n",
    "        target_gate=target.gate,\n",
    "        params=params,\n",
    "        default_schedule=default_schedule,\n",
    "    )\n",
    "    qc.add_calibration(parametrized_gate, target.physical_qubits, parametrized_schedule)\n",
    "    qc.append(parametrized_gate, qr)"
   ]
  },
  {
   "cell_type": "code",
   "execution_count": 5,
   "id": "c61a8686-196b-470a-864f-ccab4e7b52f0",
   "metadata": {},
   "outputs": [],
   "source": [
    "n_qubits = 2  # Set number of qubits to set the simulation details\n",
    "qubit_tgt_register = [0, 1]  # Choose which qubits of the QPU you want to address\n",
    "sampling_Paulis = 10\n",
    "N_shots = 100  # Number of shots for sampling the quantum computer for each action vector\n",
    "n_actions = 1  # Choose how many control parameters in pulse/circuit parametrization\n",
    "abstraction_level = \"pulse\"  # Choose at which abstraction level the circuit ansatz is written\n",
    "estimator_options = {\"resilience_level\": 0}"
   ]
  },
  {
   "cell_type": "markdown",
   "id": "82fac1e0-934a-4f24-9efc-f4ceefea6310",
   "metadata": {
    "tags": []
   },
   "source": [
    "Choose below which IBM Backend to use. As we are dealing with pulse level implementation, we can either simulate a backend using QiskitDynamics, or use a real backend that supports OpenPulse features."
   ]
  },
  {
   "cell_type": "markdown",
   "id": "dabdf1fc-40e5-4593-9dd8-b7aa61d5db51",
   "metadata": {},
   "source": [
    "## 1. Setting up a Quantum Backend"
   ]
  },
  {
   "cell_type": "markdown",
   "id": "f278c479-958c-4a1b-9a6b-d5d8ae87d433",
   "metadata": {
    "tags": []
   },
   "source": [
    "### Real backend initialization\n",
    "\n",
    "Uncomment the cell below to declare a Qiskit Runtime backend. You need an internet connection and an IBM Id account to access this."
   ]
  },
  {
   "cell_type": "code",
   "execution_count": 6,
   "id": "a619a165-fa6f-4e89-ac7b-66eacaa55820",
   "metadata": {},
   "outputs": [],
   "source": [
    "\"\"\"\n",
    "Real backend initialization:\n",
    "Run this cell only if intending to use a real backend, where Qiskit Runtime is enabled\n",
    "\"\"\"\n",
    "\n",
    "backend_name = \"ibm_perth\"\n",
    "\n",
    "# service = QiskitRuntimeService(channel='ibm_quantum')\n",
    "# runtime_backend = service.get_backend(backend_name)"
   ]
  },
  {
   "cell_type": "markdown",
   "id": "12b7a195-5fd5-4e5e-addd-d9b053ee9e12",
   "metadata": {
    "tags": []
   },
   "source": [
    "### Simulation backend initialization\n",
    "If you want to run the algorithm over a simulation, you can rely on Qiskit Dynamics for pulse level simulation of quantum circuits. Below we set the ground for declaring a ```DynamicsBackend```.\n",
    "\n",
    "This can be done in two ways: \n",
    "\n",
    "1. Declare a ```DynamicsBackend``` from a ```FakeBackend``` or ```IBMBackend``` instance and use the ```from_backend()``` method to retrieve the Hamiltonian description of such backend.\n",
    "2. Alternatively, you can define your own custom Hamiltonian/Linblad that should be used to simulate the multiqubit system of interest, and feed it to a ```Solver``` instance which can be used to declare the ```DynamicsBackend```.\n",
    "For more information you can check Qiskit Dynamics documentation (https://qiskit.org/documentation/dynamics/apidocs/backend.html)\n"
   ]
  },
  {
   "cell_type": "markdown",
   "id": "4ea766bd-d185-456f-9d97-161f8125f09f",
   "metadata": {},
   "source": [
    "#### 1. Using ```FakeBackend``` as starting point"
   ]
  },
  {
   "cell_type": "code",
   "execution_count": 7,
   "id": "dfb83abf-3d7a-4bc2-b4ff-4d6ed1d8e1b8",
   "metadata": {},
   "outputs": [],
   "source": [
    "from qiskit_ibm_runtime.fake_provider import FakeJakarta, FakeJakartaV2\n",
    "\n",
    "fake_backend = FakeJakarta()\n",
    "fake_backend_v2 = FakeJakartaV2()\n",
    "control_channel_map = get_control_channel_map(fake_backend, qubit_tgt_register)\n",
    "dt = fake_backend_v2.target.dt"
   ]
  },
  {
   "cell_type": "code",
   "execution_count": 8,
   "id": "45364c1d-f8c0-4d83-9231-4ec9185f9532",
   "metadata": {},
   "outputs": [],
   "source": [
    "dynamics_options = {\n",
    "    \"seed_simulator\": None,  # \"configuration\": fake_backend.configuration(),\n",
    "    \"control_channel_map\": control_channel_map,\n",
    "    # Control channels to play CR tones, should match connectivity of device\n",
    "    \"solver_options\": {\"method\": \"jax_odeint\", \"atol\": 1e-6, \"rtol\": 1e-8, \"hmax\": dt},\n",
    "}\n",
    "dynamics_backend = DynamicsBackend.from_backend(\n",
    "    fake_backend, subsystem_list=qubit_tgt_register, **dynamics_options\n",
    ")\n",
    "\n",
    "target = dynamics_backend.target\n",
    "target.qubit_properties = fake_backend_v2.qubit_properties(qubit_tgt_register)\n",
    "calibration_files = None"
   ]
  },
  {
   "cell_type": "markdown",
   "id": "e66ac2b2-03d4-465d-8fd3-43c3fdebca88",
   "metadata": {},
   "source": [
    "#### 2. Using a custom Hamiltonian model"
   ]
  },
  {
   "cell_type": "code",
   "execution_count": 9,
   "id": "7531b59e-3b2d-4de1-9422-5be6850f02c6",
   "metadata": {},
   "outputs": [],
   "source": [
    "dim = 3\n",
    "\n",
    "v0 = 4.86e9\n",
    "anharm0 = -0.32e9\n",
    "r0 = 0.22e9\n",
    "\n",
    "v1 = 4.97e9\n",
    "anharm1 = -0.32e9\n",
    "r1 = 0.26e9\n",
    "\n",
    "J = 0.002e9\n",
    "\n",
    "a = np.diag(np.sqrt(np.arange(1, dim)), 1)\n",
    "adag = np.diag(np.sqrt(np.arange(1, dim)), -1)\n",
    "N = np.diag(np.arange(dim))\n",
    "\n",
    "ident = np.eye(dim, dtype=complex)\n",
    "full_ident = np.eye(dim**2, dtype=complex)\n",
    "\n",
    "N0 = np.kron(ident, N)\n",
    "N1 = np.kron(N, ident)\n",
    "\n",
    "a0 = np.kron(ident, a)\n",
    "a1 = np.kron(a, ident)\n",
    "\n",
    "a0dag = np.kron(ident, adag)\n",
    "a1dag = np.kron(adag, ident)\n",
    "\n",
    "static_ham0 = 2 * np.pi * v0 * N0 + np.pi * anharm0 * N0 * (N0 - full_ident)\n",
    "static_ham1 = 2 * np.pi * v1 * N1 + np.pi * anharm1 * N1 * (N1 - full_ident)\n",
    "\n",
    "static_ham_full = static_ham0 + static_ham1 + 2 * np.pi * J * ((a0 + a0dag) @ (a1 + a1dag))\n",
    "\n",
    "drive_op0 = 2 * np.pi * r0 * (a0 + a0dag)\n",
    "drive_op1 = 2 * np.pi * r1 * (a1 + a1dag)\n",
    "\n",
    "# build solver\n",
    "dt = 1 / 4.5e9\n",
    "\n",
    "solver = Solver(\n",
    "    static_hamiltonian=static_ham_full,\n",
    "    hamiltonian_operators=[drive_op0, drive_op1, drive_op0, drive_op1],\n",
    "    rotating_frame=static_ham_full,\n",
    "    hamiltonian_channels=[\"d0\", \"d1\", \"u0\", \"u1\"],\n",
    "    channel_carrier_freqs={\"d0\": v0, \"d1\": v1, \"u0\": v1, \"u1\": v0},\n",
    "    dt=dt,\n",
    ")\n",
    "# Consistent solver option to use throughout notebook\n",
    "solver_options = {\"method\": \"jax_odeint\", \"atol\": 1e-6, \"rtol\": 1e-8}\n",
    "\n",
    "custom_backend = DynamicsBackend(\n",
    "    solver=solver,\n",
    "    subsystem_dims=[dim, dim],  # for computing measurement data\n",
    "    solver_options=solver_options,  # to be used every time run is called\n",
    ")\n",
    "backend_target = custom_backend.target\n",
    "\n",
    "# qubit properties\n",
    "backend_target.qubit_properties = [\n",
    "    QubitProperties(frequency=v0),\n",
    "    QubitProperties(frequency=v1),\n",
    "]\n",
    "# set the control channel map\n",
    "custom_backend.set_options(control_channel_map={(0, 1): 0, (1, 0): 1})"
   ]
  },
  {
   "cell_type": "markdown",
   "id": "30fbd48a-3ef9-476a-afdc-9d34d4746734",
   "metadata": {},
   "source": [
    "### Choose backend and define Qiskit config dictionary\n",
    "Below, set the Backend that you would like to run among the above defined backend.\n",
    "Then define the config gathering all the components enabling the definition of the ```QuantumEnvironment```.\n",
    "\n"
   ]
  },
  {
   "cell_type": "code",
   "execution_count": 10,
   "id": "c88a30b5-6b78-4854-ab76-5c4d1d16902d",
   "metadata": {},
   "outputs": [],
   "source": [
    "# Choose backend among the set defined above: {runtime_backend, dynamics_backend, custom_backend}\n",
    "backend = custom_backend\n",
    "backend.options"
   ]
  },
  {
   "cell_type": "code",
   "execution_count": 11,
   "id": "610d9c1c-2b03-4067-97f1-3a5623dc71a7",
   "metadata": {},
   "outputs": [],
   "source": [
    "backend_config = BackendConfig(\n",
    "    backend=backend,\n",
    "    n_qubits=n_qubits,\n",
    "    abstraction_level=abstraction_level,\n",
    ")"
   ]
  },
  {
   "cell_type": "markdown",
   "id": "4bc383dd-8942-4396-9bc4-befea1f8efc7",
   "metadata": {
    "tags": []
   },
   "source": [
    "## 2. Define quantum target: State preparation or Gate calibration\n",
    "\n",
    "The target of our optimal control task can be of two different types:\n",
    "1.  An arbitrary quantum state to prepare with high accuracy\n",
    "2. A Quantum Gate to be calibrated in a noise-robust manner\n",
    "\n",
    "Both targets are dictionaries that are identified with a key stating their ```target_type```, which can be either ```\"state\"``` or ```\"gate\"```.\n",
    "\n",
    "For a gate target $G$, one can add the target quantum gate with a ```\"gate\"``` argument specifying a specific instance of a Qiskit ```Gate``` object. Here, we settle for calibrating a ```RXGate()```.\n",
    "Moreover, a gate calibration requires a set of input states $\\{|s_i\\rangle \\}$ to be provided, such that the agent can try to set the actions such that the fidelity between the anticipated ideal target state (calculated as  $G|s_i\\rangle$) and the output state are simultaneously maximized. To ensure a correlation between the average reward computed from the measurement outcomes and the average gate fidelity, the provided set of input states must be tomographically complete.\n",
    "\n",
    "Another important key that should figure in the dictionary is the ```\"register\"``` indicating the qubits indices that should be addressed by this target, i.e. upon which qubits should the target be engineered.\n"
   ]
  },
  {
   "cell_type": "code",
   "execution_count": 12,
   "id": "e288ef80-85ae-4d22-bca3-3220364c6aa7",
   "metadata": {},
   "outputs": [],
   "source": [
    "# Example of target gate\n",
    "from qiskit.circuit.library import RXGate\n",
    "\n",
    "RX_tgt = GateTarget(gate=RXGate(np.pi / 2), physical_qubits=qubit_tgt_register)"
   ]
  },
  {
   "cell_type": "code",
   "execution_count": 13,
   "id": "be971dc5-9660-4724-98c6-e265492bec25",
   "metadata": {},
   "outputs": [],
   "source": [
    "# Choose which target to use\n",
    "target = RX_tgt"
   ]
  },
  {
   "cell_type": "markdown",
   "id": "81fd110a-3473-43bb-9e00-f88fdefea570",
   "metadata": {},
   "source": [
    "## 3. Declare QuantumEnvironment object\n",
    "Running the box below declares the QuantumEnvironment instance.\n",
    "\n",
    "If selected backend is a ```DynamicsBackend```, this declaration launches a series of single qubit gate calibrations (to calibrate X and SX gate). The reason for this is that the Estimator primitive, which enables the easy calculation of Pauli expectation values, needs to append gates for doing Pauli basis rotations (SX and Rz gate)."
   ]
  },
  {
   "cell_type": "code",
   "execution_count": 14,
   "id": "65ead5ee-fc7e-43d0-8828-ace7177b3c48",
   "metadata": {},
   "outputs": [],
   "source": [
    "from gymnasium.spaces import Box\n",
    "\n",
    "action_space = Box(low=-1.0, high=1.0, shape=(n_actions,), dtype=np.float64)\n",
    "batch_size = (\n",
    "    50  # Batch size (iterate over a bunch of actions per policy to estimate expected return)\n",
    ")\n",
    "q_env_config = QEnvConfig(\n",
    "    target=target,\n",
    "    backend_config=backend_config,\n",
    "    action_space=action_space,\n",
    "    execution_config=ExecutionConfig(batch_size=batch_size, sampling_paulis=sampling_Paulis, n_shots=N_shots, estimator_options=estimator_options),\n",
    ")\n",
    "q_env = QuantumEnvironment(q_env_config, apply_parametrized_circuit)"
   ]
  },
  {
   "cell_type": "code",
   "execution_count": 15,
   "id": "b248f7d9-5038-4a4e-8726-956ca27011ce",
   "metadata": {},
   "outputs": [],
   "source": [
    "print(backend.target.instruction_schedule_map())\n",
    "print(\"Control Channel Map\", backend.options.control_channel_map)"
   ]
  },
  {
   "cell_type": "markdown",
   "id": "0d539df0-c1e4-4cd0-9dc8-8225f5e1e436",
   "metadata": {},
   "source": [
    "# Defining the RL agent: PPO"
   ]
  },
  {
   "cell_type": "code",
   "execution_count": 21,
   "id": "3f59af17-4a7d-4144-a534-96a295575196",
   "metadata": {},
   "outputs": [],
   "source": [
    "from pathlib import Path\n",
    "import os\n",
    "\n",
    "file_name = \"agent_config.yaml\"\n",
    "file_location = Path(os.getcwd()) / file_name\n",
    "\n",
    "agent_config = load_from_yaml_file(file_location)"
   ]
  },
  {
   "cell_type": "code",
   "execution_count": 17,
   "id": "1a80d579-8624-4197-be84-4a54696f5e09",
   "metadata": {},
   "outputs": [],
   "source": [
    "ppo_agent = CustomPPO(agent_config, q_env)"
   ]
  },
  {
   "cell_type": "code",
   "execution_count": 18,
   "id": "80a04724-a885-477f-a4a6-56d5e302dd52",
   "metadata": {},
   "outputs": [],
   "source": [
    "from rl_qoc.agent import TotalUpdates, TrainFunctionSettings, TrainingConfig\n",
    "\n",
    "total_updates = TotalUpdates(200)\n",
    "training_config = TrainingConfig(\n",
    "    training_constraint=total_updates,\n",
    "    target_fidelities=[0.999, 0.9999],\n",
    "    lookback_window=10,\n",
    "    anneal_learning_rate=True,\n",
    "    std_actions_eps=1e-3,\n",
    ")\n",
    "\n",
    "train_function_settings = TrainFunctionSettings(\n",
    "    plot_real_time=True,\n",
    "    print_debug=True,\n",
    "    num_prints=5,\n",
    "    hpo_mode=False,\n",
    "    clear_history=True,\n",
    ")"
   ]
  },
  {
   "cell_type": "markdown",
   "id": "9d5267e5-5c22-4296-b369-1d8e234fd20c",
   "metadata": {},
   "source": [
    "## Run algorithm"
   ]
  },
  {
   "cell_type": "code",
   "execution_count": 19,
   "id": "c6d67bbc-cf72-4e7f-a4a6-9e15ef23c273",
   "metadata": {},
   "outputs": [],
   "source": [
    "ppo_agent.train(training_config=training_config, train_function_settings=train_function_settings)"
   ]
  },
  {
   "cell_type": "code",
   "execution_count": null,
   "id": "76d5d003-4078-46a9-8e18-6b4d20e7ae46",
   "metadata": {},
   "outputs": [],
   "source": [
    "plt.plot(ppo_agent.training_results[\"std_action\"])\n",
    "plt.xlabel(\"Updates\")\n",
    "plt.ylabel(\"Standard Deviation of Actions\")\n",
    "plt.title(\"Standard Deviation of Actions during Training\")"
   ]
  }
 ],
 "metadata": {
  "kernelspec": {
   "display_name": "Python 3 (ipykernel)",
   "language": "python",
   "name": "python3"
  },
  "language_info": {
   "codemirror_mode": {
    "name": "ipython",
    "version": 3
   },
   "file_extension": ".py",
   "mimetype": "text/x-python",
   "name": "python",
   "nbconvert_exporter": "python",
   "pygments_lexer": "ipython3",
   "version": "3.9.16"
  }
 },
 "nbformat": 4,
 "nbformat_minor": 5
}

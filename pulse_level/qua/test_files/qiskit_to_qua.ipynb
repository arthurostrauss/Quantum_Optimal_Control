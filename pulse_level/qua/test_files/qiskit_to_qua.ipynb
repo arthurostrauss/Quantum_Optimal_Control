{
 "cells": [
  {
   "cell_type": "code",
   "id": "a5a9bb8c3d2e3835",
   "metadata": {
    "ExecuteTime": {
     "end_time": "2025-06-25T03:44:30.427321Z",
     "start_time": "2025-06-25T03:44:23.290913Z"
    }
   },
   "source": [
    "import os\n",
    "import json\n",
    "from iqcc_cloud_client import IQCC_Cloud\n",
    "\n",
    "# Set your quantum computer backend\n",
    "quantum_computer_backend = \"gilboa\"  # for example qc_qwfix\n",
    "iqcc = IQCC_Cloud(quantum_computer_backend=quantum_computer_backend)\n",
    "# Get the latest state and wiring files\n",
    "latest_wiring = iqcc.state.get_latest(\"wiring\")\n",
    "latest_state = iqcc.state.get_latest(\"state\")\n",
    "\n",
    "# Get the state folder path from environment variable\n",
    "quam_state_folder_path = os.environ[\"QUAM_STATE_PATH\"]\n",
    "\n",
    "# Save the files\n",
    "with open(os.path.join(quam_state_folder_path, \"wiring.json\"), \"w\") as f:\n",
    "    json.dump(latest_wiring.data, f, indent=4)\n",
    "\n",
    "with open(os.path.join(quam_state_folder_path, \"state.json\"), \"w\") as f:\n",
    "    json.dump(latest_state.data, f, indent=4)"
   ],
   "outputs": [
    {
     "name": "stdout",
     "output_type": "stream",
     "text": [
      "2025-06-25 11:44:23,786 - qm - INFO     - Starting session: 0022ccd7-60da-436a-b6d8-ffec32430a95\n"
     ]
    }
   ],
   "execution_count": 1
  },
  {
   "cell_type": "code",
   "id": "1090cf6dceba2c47",
   "metadata": {
    "ExecuteTime": {
     "end_time": "2025-06-25T03:44:31.318867Z",
     "start_time": "2025-06-25T03:44:30.610219Z"
    }
   },
   "source": [
    "from qm import QuantumMachinesManager, SimulationConfig\n",
    "from qm_saas import QoPVersion, QmSaas\n",
    "from quam_libs.components import (\n",
    "    MeasureMacro,\n",
    "    ResetMacro,\n",
    "    VirtualZMacro,\n",
    "    CZMacro,\n",
    "    DelayMacro,\n",
    ")\n",
    "from qiskit_qm_provider import (\n",
    "    FluxTunableTransmonBackend,\n",
    "    QISKIT_PULSE_AVAILABLE\n",
    ")\n",
    "from quam.components.macro import PulseMacro\n",
    "from qiskit.circuit import QuantumCircuit, Parameter, ParameterVector, QuantumRegister\n",
    "import numpy as np\n",
    "from quam_libs.components.quam_root import QuAM as IQCC_Quam\n",
    "import warnings\n",
    "import logging\n",
    "\n",
    "# Silence DeprecationWarnings from qiskit.pulse\n",
    "warnings.filterwarnings(\"ignore\", category=DeprecationWarning, module=r\"qiskit\\.pulse\")\n",
    "# Filter all DeprecationWarnings\n",
    "logging.getLogger(\"qiskit\").setLevel(logging.ERROR)\n"
   ],
   "outputs": [],
   "execution_count": 2
  },
  {
   "metadata": {
    "ExecuteTime": {
     "end_time": "2025-06-25T03:47:59.095821Z",
     "start_time": "2025-06-25T03:47:58.978674Z"
    }
   },
   "cell_type": "code",
   "source": [
    "file_path = \"/pulse_level/qua/quam_state\"\n",
    "machine = IQCC_Quam.load()"
   ],
   "id": "38a34e33e0c6af92",
   "outputs": [],
   "execution_count": 8
  },
  {
   "cell_type": "code",
   "id": "84199822709dda63",
   "metadata": {
    "ExecuteTime": {
     "end_time": "2025-06-25T03:47:59.954616Z",
     "start_time": "2025-06-25T03:47:59.944093Z"
    }
   },
   "source": [
    "if not machine.active_qubits[0].macros:\n",
    "    from qiskit_qm_provider.backend.backend_utils import add_basic_macros_to_machine\n",
    "    add_basic_macros_to_machine(machine)"
   ],
   "outputs": [],
   "execution_count": 9
  },
  {
   "cell_type": "code",
   "id": "862342661b4136c3",
   "metadata": {
    "ExecuteTime": {
     "end_time": "2025-06-25T03:48:00.438030Z",
     "start_time": "2025-06-25T03:48:00.427541Z"
    }
   },
   "source": [
    "backend = FluxTunableTransmonBackend(machine, qmm=iqcc)\n",
    "print(backend.target)"
   ],
   "outputs": [
    {
     "name": "stderr",
     "output_type": "stream",
     "text": [
      "/Users/arthurostrauss/Library/CloudStorage/OneDrive-QMMachinesLTD/GitHub/qiskit-qm-provider/qiskit_qm_provider/backend/flux_tunable_transmon_backend.py:58: UserWarning: qiskit.pulse is not available, channel mapping will not be set.\n",
      "  warnings.warn(\"qiskit.pulse is not available, channel mapping will not be set.\")\n"
     ]
    },
    {
     "name": "stdout",
     "output_type": "stream",
     "text": [
      "Target: Transmon based QuAM\n",
      "Number of qubits: 4\n",
      "Instructions:\n",
      "\tx\n",
      "\t\t(0,):\n",
      "\t\t\tDuration: 4.8e-08 sec.\n",
      "\t\t(1,):\n",
      "\t\t\tDuration: 4.8e-08 sec.\n",
      "\t\t(2,):\n",
      "\t\t\tDuration: 4.8e-08 sec.\n",
      "\t\t(3,):\n",
      "\t\t\tDuration: 4.8e-08 sec.\n",
      "\trz\n",
      "\t\t(0,):\n",
      "\t\t\tDuration: 0 sec.\n",
      "\t\t\tError Rate: 0\n",
      "\t\t(1,):\n",
      "\t\t\tDuration: 0 sec.\n",
      "\t\t\tError Rate: 0\n",
      "\t\t(2,):\n",
      "\t\t\tDuration: 0 sec.\n",
      "\t\t\tError Rate: 0\n",
      "\t\t(3,):\n",
      "\t\t\tDuration: 0 sec.\n",
      "\t\t\tError Rate: 0\n",
      "\tsx\n",
      "\t\t(0,):\n",
      "\t\t\tDuration: 4.8e-08 sec.\n",
      "\t\t(1,):\n",
      "\t\t\tDuration: 4.8e-08 sec.\n",
      "\t\t(2,):\n",
      "\t\t\tDuration: 4.8e-08 sec.\n",
      "\t\t(3,):\n",
      "\t\t\tDuration: 4.8e-08 sec.\n",
      "\tdelay\n",
      "\t\t(0,):\n",
      "\t\t(1,):\n",
      "\t\t(2,):\n",
      "\t\t(3,):\n",
      "\treset\n",
      "\t\t(0,):\n",
      "\t\t(1,):\n",
      "\t\t(2,):\n",
      "\t\t(3,):\n",
      "\tmeasure\n",
      "\t\t(0,):\n",
      "\t\t\tDuration: 1.5e-06 sec.\n",
      "\t\t(1,):\n",
      "\t\t\tDuration: 1.5e-06 sec.\n",
      "\t\t(2,):\n",
      "\t\t\tDuration: 1.5e-06 sec.\n",
      "\t\t(3,):\n",
      "\t\t\tDuration: 1.5e-06 sec.\n",
      "\tcz\n",
      "\t\t(2, 1)\n",
      "\tif_else\n",
      "\twhile_loop\n",
      "\tfor_loop\n",
      "\tswitch_case\n",
      "\tbox\n",
      "\n"
     ]
    }
   ],
   "execution_count": 10
  },
  {
   "cell_type": "code",
   "id": "c69e2c7f2fd0279d",
   "metadata": {},
   "source": [
    "from rl_qoc import (\n",
    "    QEnvConfig,\n",
    "    QiskitConfig,\n",
    "    ExecutionConfig,\n",
    "    BenchmarkConfig, GateTarget,\n",
    ")\n",
    "from rl_qoc.rewards import StateReward\n",
    "from rl_qoc.qua import QMConfig, QMEnvironment\n",
    "\n",
    "from gymnasium.spaces import Box\n",
    "if QISKIT_PULSE_AVAILABLE:\n",
    "    import qiskit.pulse as qp\n",
    "\n",
    "def apply_parameters(qc: QuantumCircuit, params: ParameterVector, qreg: QuantumRegister, *args):\n",
    "    idx_0 = qreg.index(qreg[0])\n",
    "    if len(qreg) > 1:\n",
    "        qc.rzz(params[0], qreg[0], qreg[1])\n",
    "        if QISKIT_PULSE_AVAILABLE:\n",
    "            idx_1 = qreg.index(qreg[1])\n",
    "            with qp.build(backend) as sched:\n",
    "                qp.play(qp.Constant(duration=120, amp=0.1), backend.flux_channel(idx_0))\n",
    "                qp.play(qp.Constant(duration=120, amp=params[0]), backend.control_channel((idx_0, idx_1))[0])\n",
    "            qc.add_calibration(\"rzz\", (0, 1), sched, params.params if isinstance(params, ParameterVector) else params)\n",
    "\n",
    "    else:\n",
    "        qc.rx(params[0], qreg[0])\n",
    "        if QISKIT_PULSE_AVAILABLE:\n",
    "            with qp.build(backend) as sched:\n",
    "                qp.play(\n",
    "                    qp.Drag(duration=120, amp=params[0], sigma=40, beta=0.2),\n",
    "                    backend.drive_channel(idx_0),\n",
    "                )\n",
    "            qc.add_calibration(\"rx\",(0,), sched, params.params if isinstance(params, ParameterVector) else params)\n",
    "    if QISKIT_PULSE_AVAILABLE:\n",
    "        with qp.build(backend, name=\"x_custom\") as sched:\n",
    "            qp.play(\n",
    "                qp.Drag(duration=120, amp=0.3, sigma=40, beta=0.2),\n",
    "                backend.drive_channel(idx_0),\n",
    "            )\n",
    "        qc.add_calibration(\"x\",(0,), sched)\n",
    "        qc.add_calibration(\"x\",(1,), sched)\n",
    "\n",
    "\n",
    "physical_qubits = [0]\n",
    "gate = \"cz\" if len(physical_qubits) > 1 else \"x\"\n",
    "n_reps = [2, 5]\n",
    "input_type = \"INPUT_STREAM\"\n",
    "num_updates = 500\n",
    "\n",
    "config = QEnvConfig(\n",
    "    target=GateTarget(physical_qubits=physical_qubits, gate=gate),\n",
    "    backend_config= QMConfig(\n",
    "        backend=backend,\n",
    "        parametrized_circuit=apply_parameters,\n",
    "        input_type=input_type,\n",
    "        num_updates=num_updates,\n",
    "    ),\n",
    "    execution_config=ExecutionConfig(\n",
    "        batch_size=1,\n",
    "        n_shots=100,\n",
    "        n_reps=n_reps,\n",
    "        control_flow_enabled=True,\n",
    "    ),\n",
    "    reward=StateReward(\"pauli4\"),\n",
    "    action_space=Box(low=-1, high=1, shape=(1,), dtype=np.float32),\n",
    ")\n",
    "\n",
    "q_env = QMEnvironment(config)"
   ],
   "outputs": [],
   "execution_count": null
  },
  {
   "cell_type": "code",
   "id": "1c01ce96f3e34ccb",
   "metadata": {},
   "source": [
    "q_env.rl_qoc_training_qua_prog()"
   ],
   "outputs": [],
   "execution_count": null
  },
  {
   "cell_type": "code",
   "id": "39326b9cb2cd8411",
   "metadata": {},
   "source": [
    "from qm import generate_qua_script\n",
    "\n",
    "print(\n",
    "    generate_qua_script(\n",
    "        backend.quantum_circuit_to_qua(q_env.real_time_circuit).result_program.dsl_program\n",
    "    )\n",
    ")"
   ],
   "outputs": [],
   "execution_count": null
  },
  {
   "cell_type": "code",
   "id": "3721dff28ed0c981",
   "metadata": {},
   "source": [
    "from qm import generate_qua_script\n",
    "\n",
    "prog = q_env.rl_qoc_training_qua_prog()\n",
    "print(generate_qua_script(prog))"
   ],
   "outputs": [],
   "execution_count": null
  },
  {
   "cell_type": "code",
   "id": "fab8ddfc7b5b30eb",
   "metadata": {},
   "source": [
    "from pathlib import Path\n",
    "import json\n",
    "from qiskit_qm_provider import ParameterPool\n",
    "\n",
    "path = Path.home() / \"qm_saas_config.json\"\n",
    "with open(path, \"r\") as f:\n",
    "    config = json.load(f)\n",
    "email = config[\"email\"]\n",
    "password = config[\"password\"]\n",
    "# Initialize QOP simulator client\n",
    "client = QmSaas(email=email, password=password, host=\"qm-saas.dev.quantum-machines.co\")\n",
    "\n",
    "# Choose your QOP version (QOP2.x.y or QOP3.x.y)\n",
    "version = QoPVersion.latest\n",
    "client.close_all()"
   ],
   "outputs": [],
   "execution_count": null
  },
  {
   "cell_type": "code",
   "id": "76abe2ebc608cb75",
   "metadata": {},
   "source": [
    "from qm import SimulationConfig, LoopbackInterface\n",
    "\n",
    "config = machine.generate_config()\n",
    "instance = client.simulator(version=version)\n",
    "instance.spawn()\n",
    "# Initialize QuantumMachinesManager with the simulation instance details\n",
    "qmm = QuantumMachinesManager(\n",
    "    host=instance.host,\n",
    "    port=instance.port,\n",
    "    connection_headers=instance.default_connection_headers,\n",
    ")\n",
    "simulation_config = SimulationConfig(\n",
    "    int(10000),\n",
    "    include_analog_waveforms=True,\n",
    "    simulation_interface=LoopbackInterface([(\"con1\", 1, \"con1\", 1), (\"con1\", 2, \"con1\", 2)]),\n",
    ")\n",
    "backend.qmm = qmm\n",
    "backend.set_options(simulate=simulation_config)"
   ],
   "outputs": [],
   "execution_count": null
  },
  {
   "cell_type": "code",
   "id": "6a56be35e18de352",
   "metadata": {},
   "source": [
    "backend._qmm"
   ],
   "outputs": [],
   "execution_count": null
  },
  {
   "cell_type": "code",
   "id": "c919c3d384e821e7",
   "metadata": {},
   "source": [
    "backend.qmm = iqcc"
   ],
   "outputs": [],
   "execution_count": null
  },
  {
   "cell_type": "code",
   "id": "af1df66168ffc63b",
   "metadata": {},
   "source": [
    "from qiskit_experiments.library.randomized_benchmarking import StandardRB\n",
    "from qiskit_qm_provider.primitives.qm_sampler import QMSamplerV2, QMSamplerOptions\n",
    "\n",
    "sampler = QMSamplerV2(\n",
    "    backend,\n",
    "    options=QMSamplerOptions(\n",
    "        input_type=\"INPUT_STREAM\",\n",
    "    ),\n",
    ")\n",
    "exp = StandardRB([0], [5, 30, 60, 90, 120], backend=backend, num_samples=5)\n",
    "exp._transpiled_circuits()[0].draw(\"mpl\")"
   ],
   "outputs": [],
   "execution_count": null
  },
  {
   "cell_type": "code",
   "id": "c3b277008b117b49",
   "metadata": {},
   "source": [
    "print(generate_qua_script(backend.get_run_program(100, exp._transpiled_circuits())))"
   ],
   "outputs": [],
   "execution_count": null
  },
  {
   "cell_type": "code",
   "id": "d9de00e3bd4a8cb0",
   "metadata": {},
   "source": [
    "len(exp._transpiled_circuits())"
   ],
   "outputs": [],
   "execution_count": null
  },
  {
   "cell_type": "code",
   "id": "13f26f12f2506c6e",
   "metadata": {},
   "source": [
    "exp_data = exp.run(sampler=sampler, backend_run=True)"
   ],
   "outputs": [],
   "execution_count": null
  },
  {
   "cell_type": "code",
   "id": "eca269aa1142e3d5",
   "metadata": {},
   "source": [
    "from qiskit.circuit import QuantumCircuit, Parameter, Gate\n",
    "\n",
    "physical_qubits = (1, 2)\n",
    "qc = QuantumCircuit(2)\n",
    "amp = Parameter(\"amp\")\n",
    "gate = Gate(\"x_cal\", 1, [amp])\n",
    "qc.append(gate, [0])\n",
    "qc.append(gate, [1])\n",
    "qc.draw(\"mpl\")"
   ],
   "outputs": [],
   "execution_count": null
  },
  {
   "cell_type": "code",
   "id": "f0cf106f55694c55",
   "metadata": {},
   "source": [
    "from qiskit_qm_provider import QMInstructionProperties\n",
    "from qm.qua import *\n",
    "\n",
    "\n",
    "def play_custom_x_1(amp):\n",
    "    machine.active_qubits[physical_qubits[0]].xy.play(\"x180\", amplitude_scale=amp)\n",
    "\n",
    "\n",
    "def play_custom_x_2(amp):\n",
    "    machine.active_qubits[physical_qubits[1]].xy.play(\"x180\", amplitude_scale=amp)\n",
    "\n",
    "\n",
    "instruction_prop1 = QMInstructionProperties(qua_pulse_macro=play_custom_x_1)\n",
    "instruction_prop2 = QMInstructionProperties(qua_pulse_macro=play_custom_x_2)\n",
    "\n",
    "backend.target.add_instruction(gate, {0: instruction_prop1, 1: instruction_prop2})"
   ],
   "outputs": [],
   "execution_count": null
  }
 ],
 "metadata": {
  "kernelspec": {
   "display_name": ".venv",
   "language": "python",
   "name": "python3"
  },
  "language_info": {
   "codemirror_mode": {
    "name": "ipython",
    "version": 3
   },
   "file_extension": ".py",
   "mimetype": "text/x-python",
   "name": "python",
   "nbconvert_exporter": "python",
   "pygments_lexer": "ipython3",
   "version": "3.13.5"
  }
 },
 "nbformat": 4,
 "nbformat_minor": 5
}

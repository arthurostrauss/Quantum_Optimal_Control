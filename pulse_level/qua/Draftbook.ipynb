{
 "cells": [
  {
   "cell_type": "markdown",
   "id": "36e04bff4908acd2",
   "metadata": {},
   "source": [
    "# Setting up simulator"
   ]
  },
  {
   "cell_type": "code",
   "id": "f3cac6692d5b970b",
   "metadata": {
    "ExecuteTime": {
     "end_time": "2025-05-05T10:59:24.977970Z",
     "start_time": "2025-05-05T10:59:18.507416Z"
    }
   },
   "source": [
    "from qm import QuantumMachinesManager, SimulationConfig\n",
    "from qm.qua import *\n",
    "from qm_saas import QoPVersion, QmSaas\n",
    "from rl_qoc.qua.gate_macros import *\n",
    "from qiskit_qm_provider import FluxTunableTransmonBackend, ParameterTable, Parameter as QuaParameter\n",
    "from quam.components.macro import PulseMacro\n",
    "from quam_builder.architecture.superconducting.qpu.flux_tunable_quam import FluxTunableQuam as QuAM\n",
    "from quam.core.operation.operations_registry import OperationsRegistry\n",
    "from qiskit.circuit import QuantumCircuit, Parameter, ParameterVector, QuantumRegister\n",
    "import qiskit.pulse as qp\n",
    "import matplotlib.pyplot as plt\n",
    "from qm import generate_qua_script\n",
    "import numpy as np\n",
    "\n",
    "import warnings\n",
    "import logging\n",
    "\n",
    "# Silence DeprecationWarnings from qiskit.pulse\n",
    "warnings.filterwarnings(\"ignore\", category=DeprecationWarning, module=r\"qiskit\\.pulse\")\n",
    "\n",
    "machine = QuAM.load(\n",
    "    f\"/Users/arthurostrauss/Library/CloudStorage/OneDrive-NationalUniversityofSingapore/Coding_projects/Quantum_Optimal_Control/pulse_level/qua/quam_state\"\n",
    ")\n",
    "backend = FluxTunableTransmonBackend(machine)\n",
    "print(backend.target)"
   ],
   "outputs": [
    {
     "name": "stdout",
     "output_type": "stream",
     "text": [
      "2025-05-05 18:59:19,182 - qm - INFO     - Starting session: 0f5accb2-99de-47de-bc0c-e70400d0ad2b\n",
      "Target: Transmon based QuAM\n",
      "Number of qubits: 5\n",
      "Instructions:\n",
      "\tx\n",
      "\t\t(0,)\n",
      "\t\t(1,)\n",
      "\t\t(2,)\n",
      "\t\t(3,)\n",
      "\t\t(4,)\n",
      "\trz\n",
      "\t\t(0,)\n",
      "\t\t(1,)\n",
      "\t\t(2,)\n",
      "\t\t(3,)\n",
      "\t\t(4,)\n",
      "\tsx\n",
      "\t\t(0,)\n",
      "\t\t(1,)\n",
      "\t\t(2,)\n",
      "\t\t(3,)\n",
      "\t\t(4,)\n",
      "\tmeasure\n",
      "\t\t(0,)\n",
      "\t\t(1,)\n",
      "\t\t(2,)\n",
      "\t\t(3,)\n",
      "\t\t(4,)\n",
      "\treset\n",
      "\t\t(0,)\n",
      "\t\t(1,)\n",
      "\t\t(2,)\n",
      "\t\t(3,)\n",
      "\t\t(4,)\n",
      "\tdelay\n",
      "\t\t(0,)\n",
      "\t\t(1,)\n",
      "\t\t(2,)\n",
      "\t\t(3,)\n",
      "\t\t(4,)\n",
      "\tcz\n",
      "\t\t(0, 1)\n",
      "\t\t(1, 2)\n",
      "\t\t(2, 3)\n",
      "\t\t(3, 4)\n",
      "\tif_else\n",
      "\twhile_loop\n",
      "\tfor_loop\n",
      "\tswitch_case\n",
      "\n"
     ]
    }
   ],
   "execution_count": 1
  },
  {
   "cell_type": "code",
   "id": "a26ce45da602bc88",
   "metadata": {
    "ExecuteTime": {
     "end_time": "2025-05-05T10:19:46.863708Z",
     "start_time": "2025-05-05T10:19:46.856132Z"
    }
   },
   "source": [
    "for qubit in machine.active_qubits:\n",
    "    qubit.macros[\"x\"] = PulseMacro(pulse=\"x180\")\n",
    "    qubit.macros[\"rz\"] = VirtualZMacro()\n",
    "    qubit.macros[\"sx\"] = PulseMacro(pulse=\"x90\")\n",
    "    qubit.macros[\"measure\"] = MeasureMacro(pulse=\"readout\")\n",
    "    qubit.macros[\"reset\"] = ResetMacro(pi_pulse=\"x180\", readout_pulse=\"readout\")\n",
    "    qubit.macros[\"delay\"] = DelayMacro()\n",
    "\n",
    "for qubit_pair in machine.active_qubit_pairs:\n",
    "    qubit_pair.macros[\"cz\"] = CZMacro(\n",
    "        flux_pulse_control=qubit_pair.qubit_control.get_pulse(\"flux_pulse\").get_reference(),\n",
    "        coupler_flux_pulse=qubit_pair.coupler.operations[\"cz\"].get_reference(),\n",
    "    )"
   ],
   "outputs": [],
   "execution_count": 3
  },
  {
   "metadata": {
    "ExecuteTime": {
     "end_time": "2025-05-05T10:28:06.521438Z",
     "start_time": "2025-05-05T10:28:06.512587Z"
    }
   },
   "cell_type": "code",
   "source": "machine.active_qubit_pairs[0].macros[\"cz\"]",
   "id": "48609467644552f",
   "outputs": [
    {
     "data": {
      "text/plain": [
       "CZMacro(id='cz', flux_pulse_control=SquarePulse(length=100, id=None, digital_marker=None, amplitude=0.2, axis_angle=None), coupler_flux_pulse=SquarePulse(length=40, id=None, digital_marker=None, amplitude=0.2, axis_angle=None), pre_wait=4, phase_shift_control=0.0, phase_shift_target=0.0)"
      ]
     },
     "execution_count": 3,
     "metadata": {},
     "output_type": "execute_result"
    }
   ],
   "execution_count": 3
  },
  {
   "metadata": {
    "ExecuteTime": {
     "end_time": "2025-05-05T10:19:48.954348Z",
     "start_time": "2025-05-05T10:19:48.948633Z"
    }
   },
   "cell_type": "code",
   "source": "machine.qubits[\"q1\"].macros",
   "id": "d25039efb608d845",
   "outputs": [
    {
     "data": {
      "text/plain": [
       "{'x': PulseMacro(id='x', pulse='x180'), 'rz': VirtualZMacro(id='rz'), 'sx': PulseMacro(id='sx', pulse='x90'), 'measure': MeasureMacro(id='measure', pulse='readout'), 'reset': ResetMacro(id='reset', reset_type='active', pi_pulse='x180', readout_pulse='readout', max_attempts=5, thermalize_time=0), 'delay': DelayMacro(id='delay')}"
      ]
     },
     "execution_count": 4,
     "metadata": {},
     "output_type": "execute_result"
    }
   ],
   "execution_count": 4
  },
  {
   "metadata": {
    "ExecuteTime": {
     "end_time": "2025-05-05T10:19:59.453879Z",
     "start_time": "2025-05-05T10:19:59.437606Z"
    }
   },
   "cell_type": "code",
   "source": [
    "machine.save(\n",
    "    \"/Users/arthurostrauss/Library/CloudStorage/OneDrive-NationalUniversityofSingapore/Coding_projects/Quantum_Optimal_Control/pulse_level/qua/quam_state\"\n",
    ")"
   ],
   "id": "9530a983b7f052d8",
   "outputs": [],
   "execution_count": 5
  },
  {
   "cell_type": "code",
   "id": "a6069614e1cae716",
   "metadata": {
    "ExecuteTime": {
     "end_time": "2025-05-05T10:27:18.789665Z",
     "start_time": "2025-05-05T10:27:18.563117Z"
    }
   },
   "source": [
    "amp = Parameter(\"amp\")\n",
    "amp2 = Parameter(\"amp2\")\n",
    "phase = Parameter(\"phase\")\n",
    "with qp.build(name=\"rx_test\") as sched:\n",
    "    # qp.set_frequency(0, qp.DriveChannel(0))\n",
    "    qp.play(\n",
    "        qp.Gaussian(duration=120, amp=amp, sigma=40, angle=0.0),\n",
    "        qp.DriveChannel(0),\n",
    "    )\n",
    "    qp.play(qp.Constant(duration=120, amp=0.1), qp.DriveChannel(0))\n",
    "\n",
    "sched.draw()"
   ],
   "outputs": [
    {
     "name": "stderr",
     "output_type": "stream",
     "text": [
      "/var/folders/5w/ygx15jq94z5dzxwkmbbj8zfm0000gn/T/ipykernel_48935/469401776.py:4: DeprecationWarning: The function ``qiskit.pulse.builder.build()`` is deprecated as of Qiskit 1.3. It will be removed in Qiskit 2.0. The entire Qiskit Pulse package is being deprecated and will be moved to the Qiskit Dynamics repository: https://github.com/qiskit-community/qiskit-dynamics\n",
      "  with qp.build(name=\"rx_test\") as sched:\n",
      "/var/folders/5w/ygx15jq94z5dzxwkmbbj8zfm0000gn/T/ipykernel_48935/469401776.py:8: DeprecationWarning: The class ``qiskit.pulse.channels.Channel`` is deprecated as of Qiskit 1.3. It will be removed in Qiskit 2.0. The entire Qiskit Pulse package is being deprecated and will be moved to the Qiskit Dynamics repository: https://github.com/qiskit-community/qiskit-dynamics\n",
      "  qp.DriveChannel(0),\n",
      "/var/folders/5w/ygx15jq94z5dzxwkmbbj8zfm0000gn/T/ipykernel_48935/469401776.py:6: DeprecationWarning: The function ``qiskit.pulse.builder.play()`` is deprecated as of Qiskit 1.3. It will be removed in Qiskit 2.0. The entire Qiskit Pulse package is being deprecated and will be moved to the Qiskit Dynamics repository: https://github.com/qiskit-community/qiskit-dynamics\n",
      "  qp.play(\n",
      "/var/folders/5w/ygx15jq94z5dzxwkmbbj8zfm0000gn/T/ipykernel_48935/469401776.py:10: DeprecationWarning: The class ``qiskit.pulse.channels.Channel`` is deprecated as of Qiskit 1.3. It will be removed in Qiskit 2.0. The entire Qiskit Pulse package is being deprecated and will be moved to the Qiskit Dynamics repository: https://github.com/qiskit-community/qiskit-dynamics\n",
      "  qp.play(qp.Constant(duration=120, amp=0.1), qp.DriveChannel(0))\n",
      "/var/folders/5w/ygx15jq94z5dzxwkmbbj8zfm0000gn/T/ipykernel_48935/469401776.py:10: DeprecationWarning: The function ``qiskit.pulse.builder.play()`` is deprecated as of Qiskit 1.3. It will be removed in Qiskit 2.0. The entire Qiskit Pulse package is being deprecated and will be moved to the Qiskit Dynamics repository: https://github.com/qiskit-community/qiskit-dynamics\n",
      "  qp.play(qp.Constant(duration=120, amp=0.1), qp.DriveChannel(0))\n"
     ]
    },
    {
     "data": {
      "text/plain": [
       "<Figure size 1300x300 with 1 Axes>"
      ],
      "image/png": "[encoded data removed]"
     },
     "execution_count": 2,
     "metadata": {},
     "output_type": "execute_result"
    }
   ],
   "execution_count": 2
  },
  {
   "cell_type": "code",
   "id": "21d3cf62b4e6c27d",
   "metadata": {
    "ExecuteTime": {
     "end_time": "2025-05-05T06:58:51.380529Z",
     "start_time": "2025-05-05T06:58:51.377515Z"
    }
   },
   "source": "backend.add_pulse_operations(sched, name=\"qiskit\")",
   "outputs": [],
   "execution_count": 85
  },
  {
   "cell_type": "code",
   "id": "a2d6e69c770e3025",
   "metadata": {
    "ExecuteTime": {
     "end_time": "2025-05-05T06:53:44.777064Z",
     "start_time": "2025-05-05T06:53:44.774222Z"
    }
   },
   "source": "backend.machine.qubits[\"q1\"].xy.operations[\"qiskit_1\"].calculate_waveform()",
   "outputs": [
    {
     "data": {
      "text/plain": [
       "0.1"
      ]
     },
     "execution_count": 57,
     "metadata": {},
     "output_type": "execute_result"
    }
   ],
   "execution_count": 57
  },
  {
   "cell_type": "code",
   "id": "aacdb441a2342e32",
   "metadata": {
    "ExecuteTime": {
     "end_time": "2025-05-05T06:58:53.240182Z",
     "start_time": "2025-05-05T06:58:53.192676Z"
    }
   },
   "source": "plt.plot(backend.machine.qubits[\"q1\"].xy.operations[\"qiskit_0\"].calculate_waveform())",
   "outputs": [
    {
     "data": {
      "text/plain": [
       "[<matplotlib.lines.Line2D at 0x39174ea50>]"
      ]
     },
     "execution_count": 86,
     "metadata": {},
     "output_type": "execute_result"
    },
    {
     "data": {
      "text/plain": [
       "<Figure size 640x480 with 1 Axes>"
      ],
      "image/png": "[encoded data removed]"
     },
     "metadata": {},
     "output_type": "display_data"
    }
   ],
   "execution_count": 86
  },
  {
   "cell_type": "code",
   "id": "76c6a295e4b8fd4e",
   "metadata": {
    "ExecuteTime": {
     "end_time": "2025-05-05T06:58:58.337406Z",
     "start_time": "2025-05-05T06:58:56.194114Z"
    }
   },
   "source": [
    "# These should be changed to your credentials.\n",
    "from pathlib import Path\n",
    "import json\n",
    "from qiskit_qm_provider import ParameterPool\n",
    "\n",
    "path = Path.home() / \"qm_saas_config.json\"\n",
    "with open(path, \"r\") as f:\n",
    "    config = json.load(f)\n",
    "email = config[\"email\"]\n",
    "password = config[\"password\"]\n",
    "# Initialize QOP simulator client\n",
    "client = QmSaas(email=email, password=password, host=\"qm-saas.dev.quantum-machines.co\")\n",
    "\n",
    "# Choose your QOP version (QOP2.x.y or QOP3.x.y)\n",
    "version = QoPVersion.latest\n",
    "ParameterPool.reset()\n",
    "param_table = ParameterTable.from_qiskit(sched)\n",
    "client.close_all()"
   ],
   "outputs": [],
   "execution_count": 87
  },
  {
   "metadata": {
    "ExecuteTime": {
     "end_time": "2025-05-05T06:58:59.207485Z",
     "start_time": "2025-05-05T06:58:59.205615Z"
    }
   },
   "cell_type": "code",
   "source": "param_table",
   "id": "a56bfa9cb7c10df3",
   "outputs": [
    {
     "data": {
      "text/plain": [
       "ParameterTable(rx_test: {Parameter(amp[fixed]))}"
      ]
     },
     "execution_count": 88,
     "metadata": {},
     "output_type": "execute_result"
    }
   ],
   "execution_count": 88
  },
  {
   "cell_type": "code",
   "id": "fb4346d1105cb00b",
   "metadata": {
    "ExecuteTime": {
     "end_time": "2025-05-05T06:59:05.520730Z",
     "start_time": "2025-05-05T06:59:05.497975Z"
    }
   },
   "source": [
    "# Define a QUA program\n",
    "with program() as prog:\n",
    "    param_table.declare_variables()\n",
    "    assign(param_table.amp, 0.2)\n",
    "    backend.get_quam_channel(qp.DriveChannel(0)).update_frequency(0)\n",
    "\n",
    "    with strict_timing_():\n",
    "        backend.schedule_to_qua_macro(sched, param_table)(**param_table.variables_dict)\n",
    "\n",
    "\n",
    "# Open quantum machine with the provided configuration and simulate the QUA program"
   ],
   "outputs": [
    {
     "name": "stderr",
     "output_type": "stream",
     "text": [
      "/var/folders/5w/ygx15jq94z5dzxwkmbbj8zfm0000gn/T/ipykernel_33284/1809665654.py:5: DeprecationWarning: The class ``qiskit.pulse.channels.Channel`` is deprecated as of Qiskit 1.3. It will be removed in Qiskit 2.0. The entire Qiskit Pulse package is being deprecated and will be moved to the Qiskit Dynamics repository: https://github.com/qiskit-community/qiskit-dynamics\n",
      "  backend.get_quam_channel(qp.DriveChannel(0)).update_frequency(0)\n"
     ]
    }
   ],
   "execution_count": 89
  },
  {
   "cell_type": "code",
   "id": "2767ed7c98cdf77c",
   "metadata": {
    "ExecuteTime": {
     "end_time": "2025-05-05T06:59:40.541749Z",
     "start_time": "2025-05-05T06:59:16.556911Z"
    }
   },
   "source": [
    "client.close_all()\n",
    "config = machine.generate_config()\n",
    "instance = client.simulator(version=version)\n",
    "instance.spawn()\n",
    "# Initialize QuantumMachinesManager with the simulation instance details\n",
    "qmm = QuantumMachinesManager(\n",
    "    host=instance.host,\n",
    "    port=instance.port,\n",
    "    connection_headers=instance.default_connection_headers,\n",
    ")\n",
    "qm = qmm.open_qm(config)\n",
    "job = qm.simulate(prog, SimulationConfig(int(500), include_analog_waveforms=True))\n",
    "\n",
    "# Retrieve and handle simulated samples\n",
    "samples = job.get_simulated_samples()\n",
    "results = job.result_handles\n",
    "results.wait_for_all_values()\n",
    "results"
   ],
   "outputs": [
    {
     "name": "stdout",
     "output_type": "stream",
     "text": [
      "2025-05-05 14:59:31,307 - qm - INFO     - Performing health check\n",
      "2025-05-05 14:59:31 INFO Performing health check\n",
      "2025-05-05 14:59:31,646 - qm - INFO     - Cluster healthcheck completed successfully.\n",
      "2025-05-05 14:59:31 INFO Cluster healthcheck completed successfully.\n"
     ]
    },
    {
     "name": "stderr",
     "output_type": "stream",
     "text": [
      "/Users/arthurostrauss/anaconda3/envs/rl_qoc/lib/python3.11/site-packages/qm/program/_qua_config_schema.py:1956: DeprecationWarning: 'version' is deprecated since \"1.2.2\" and will be removed in \"1.3.0\". Please remove it from the Qua config.\n",
      "  warnings.warn(\n"
     ]
    },
    {
     "name": "stdout",
     "output_type": "stream",
     "text": [
      "2025-05-05 14:59:33,609 - qm - INFO     - Simulating program.\n",
      "2025-05-05 14:59:33 INFO Simulating program.\n"
     ]
    },
    {
     "data": {
      "text/plain": [
       "<qm.results.streaming_result_fetcher.StreamingResultFetcher at 0x390f2b510>"
      ]
     },
     "execution_count": 91,
     "metadata": {},
     "output_type": "execute_result"
    }
   ],
   "execution_count": 91
  },
  {
   "metadata": {},
   "cell_type": "code",
   "outputs": [
    {
     "name": "stdout",
     "output_type": "stream",
     "text": [
      "\n",
      "# Single QUA script generated at 2025-05-05 14:59:07.152185\n",
      "# QUA library version: 1.2.2rc2+dgx1\n",
      "\n",
      "\n",
      "from qm import CompilerOptionArguments\n",
      "from qm.qua import *\n",
      "\n",
      "with program() as prog:\n",
      "    v1 = declare(fixed, value=0.0)\n",
      "    assign(v1, 0.2)\n",
      "    update_frequency(\"q1.xy\", 0, \"Hz\", False)\n",
      "    with strict_timing_():\n",
      "        assign(v1, v1)\n",
      "        play(\"qiskit_0\"*amp((3.9998400063997437*v1)), \"q1.xy\")\n",
      "        play(\"qiskit_1\", \"q1.xy\")\n",
      "\n",
      "config = None\n",
      "\n",
      "loaded_config = None\n",
      "\n",
      "\n"
     ]
    }
   ],
   "execution_count": 90,
   "source": [
    "config = machine.generate_config()\n",
    "print(generate_qua_script(prog))"
   ],
   "id": "7541b2521ec3066f"
  },
  {
   "metadata": {
    "ExecuteTime": {
     "end_time": "2025-05-05T06:59:58.161583Z",
     "start_time": "2025-05-05T06:59:56.842390Z"
    }
   },
   "cell_type": "code",
   "source": [
    "from copy import copy\n",
    "\n",
    "samples = copy(job.get_simulated_samples())"
   ],
   "id": "ebfb6f7881b6dd2d",
   "outputs": [],
   "execution_count": 92
  },
  {
   "cell_type": "code",
   "id": "3dbaf46a3a88e75c",
   "metadata": {
    "ExecuteTime": {
     "end_time": "2025-05-05T06:55:04.498074Z",
     "start_time": "2025-05-05T06:55:02.997144Z"
    }
   },
   "source": "job.get_simulated_samples().con1.plot()",
   "outputs": [
    {
     "data": {
      "text/plain": [
       "<Figure size 640x480 with 1 Axes>"
      ],
      "image/png": "[encoded data removed]"
     },
     "metadata": {},
     "output_type": "display_data"
    }
   ],
   "execution_count": 68
  },
  {
   "metadata": {
    "ExecuteTime": {
     "end_time": "2025-05-05T06:58:07.668825Z",
     "start_time": "2025-05-05T06:58:07.069301Z"
    }
   },
   "cell_type": "code",
   "source": [
    "from copy import copy\n",
    "\n",
    "samples = copy(job.get_simulated_samples().con1)"
   ],
   "id": "bcbea5b2d8be4c4a",
   "outputs": [
    {
     "ename": "QMConnectionError",
     "evalue": "Encountered connection error from QOP: details: Internal Server Error, status: Status.UNKNOWN",
     "output_type": "error",
     "traceback": [
      "\u001B[0;31m---------------------------------------------------------------------------\u001B[0m",
      "\u001B[0;31mGRPCError\u001B[0m                                 Traceback (most recent call last)",
      "File \u001B[0;32m~/anaconda3/envs/rl_qoc/lib/python3.11/site-packages/qm/api/base_api.py:47\u001B[0m, in \u001B[0;36m_handle_connection_error\u001B[0;34m(timeout)\u001B[0m\n\u001B[1;32m     46\u001B[0m \u001B[38;5;28;01mtry\u001B[39;00m:\n\u001B[0;32m---> 47\u001B[0m     \u001B[38;5;28;01myield\u001B[39;00m\n\u001B[1;32m     48\u001B[0m \u001B[38;5;28;01mexcept\u001B[39;00m grpclib\u001B[38;5;241m.\u001B[39mexceptions\u001B[38;5;241m.\u001B[39mGRPCError \u001B[38;5;28;01mas\u001B[39;00m e:\n",
      "File \u001B[0;32m~/anaconda3/envs/rl_qoc/lib/python3.11/site-packages/qm/api/base_api.py:105\u001B[0m, in \u001B[0;36mBaseApi._run\u001B[0;34m(self, coroutine, timeout)\u001B[0m\n\u001B[1;32m    104\u001B[0m \u001B[38;5;28;01mwith\u001B[39;00m _handle_connection_error(timeout):\n\u001B[0;32m--> 105\u001B[0m     \u001B[38;5;28;01mreturn\u001B[39;00m run_async(coroutine)\n",
      "File \u001B[0;32m~/anaconda3/envs/rl_qoc/lib/python3.11/site-packages/qm/utils/async_utils.py:38\u001B[0m, in \u001B[0;36mrun_async\u001B[0;34m(coroutine)\u001B[0m\n\u001B[1;32m     37\u001B[0m \u001B[38;5;28;01mdef\u001B[39;00m \u001B[38;5;21mrun_async\u001B[39m(coroutine: Coroutine[Any, Any, T]) \u001B[38;5;241m-\u001B[39m\u001B[38;5;241m>\u001B[39m T:\n\u001B[0;32m---> 38\u001B[0m     \u001B[38;5;28;01mreturn\u001B[39;00m create_future(coroutine)\u001B[38;5;241m.\u001B[39mresult()\n",
      "File \u001B[0;32m~/anaconda3/envs/rl_qoc/lib/python3.11/concurrent/futures/_base.py:456\u001B[0m, in \u001B[0;36mFuture.result\u001B[0;34m(self, timeout)\u001B[0m\n\u001B[1;32m    455\u001B[0m \u001B[38;5;28;01melif\u001B[39;00m \u001B[38;5;28mself\u001B[39m\u001B[38;5;241m.\u001B[39m_state \u001B[38;5;241m==\u001B[39m FINISHED:\n\u001B[0;32m--> 456\u001B[0m     \u001B[38;5;28;01mreturn\u001B[39;00m \u001B[38;5;28mself\u001B[39m\u001B[38;5;241m.\u001B[39m__get_result()\n\u001B[1;32m    457\u001B[0m \u001B[38;5;28;01melse\u001B[39;00m:\n",
      "File \u001B[0;32m~/anaconda3/envs/rl_qoc/lib/python3.11/concurrent/futures/_base.py:401\u001B[0m, in \u001B[0;36mFuture.__get_result\u001B[0;34m(self)\u001B[0m\n\u001B[1;32m    400\u001B[0m \u001B[38;5;28;01mtry\u001B[39;00m:\n\u001B[0;32m--> 401\u001B[0m     \u001B[38;5;28;01mraise\u001B[39;00m \u001B[38;5;28mself\u001B[39m\u001B[38;5;241m.\u001B[39m_exception\n\u001B[1;32m    402\u001B[0m \u001B[38;5;28;01mfinally\u001B[39;00m:\n\u001B[1;32m    403\u001B[0m     \u001B[38;5;66;03m# Break a reference cycle with the exception in self._exception\u001B[39;00m\n",
      "File \u001B[0;32m~/anaconda3/envs/rl_qoc/lib/python3.11/site-packages/qm/grpc/v2/__init__.py:2016\u001B[0m, in \u001B[0;36mJobServiceStub.get_config\u001B[0;34m(self, job_service_get_config_request, timeout, deadline, metadata)\u001B[0m\n\u001B[1;32m   2008\u001B[0m \u001B[38;5;28;01masync\u001B[39;00m \u001B[38;5;28;01mdef\u001B[39;00m \u001B[38;5;21mget_config\u001B[39m(\n\u001B[1;32m   2009\u001B[0m     \u001B[38;5;28mself\u001B[39m,\n\u001B[1;32m   2010\u001B[0m     job_service_get_config_request: \u001B[38;5;124m\"\u001B[39m\u001B[38;5;124mJobServiceGetConfigRequest\u001B[39m\u001B[38;5;124m\"\u001B[39m,\n\u001B[0;32m   (...)\u001B[0m\n\u001B[1;32m   2014\u001B[0m     metadata: Optional[\u001B[38;5;124m\"\u001B[39m\u001B[38;5;124mMetadataLike\u001B[39m\u001B[38;5;124m\"\u001B[39m] \u001B[38;5;241m=\u001B[39m \u001B[38;5;28;01mNone\u001B[39;00m\n\u001B[1;32m   2015\u001B[0m ) \u001B[38;5;241m-\u001B[39m\u001B[38;5;241m>\u001B[39m \u001B[38;5;124m\"\u001B[39m\u001B[38;5;124mJobServiceGetConfigResponse\u001B[39m\u001B[38;5;124m\"\u001B[39m:\n\u001B[0;32m-> 2016\u001B[0m     \u001B[38;5;28;01mreturn\u001B[39;00m \u001B[38;5;28;01mawait\u001B[39;00m \u001B[38;5;28mself\u001B[39m\u001B[38;5;241m.\u001B[39m_unary_unary(\n\u001B[1;32m   2017\u001B[0m         \u001B[38;5;124m\"\u001B[39m\u001B[38;5;124m/qm.grpc.v2.JobService/GetConfig\u001B[39m\u001B[38;5;124m\"\u001B[39m,\n\u001B[1;32m   2018\u001B[0m         job_service_get_config_request,\n\u001B[1;32m   2019\u001B[0m         JobServiceGetConfigResponse,\n\u001B[1;32m   2020\u001B[0m         timeout\u001B[38;5;241m=\u001B[39mtimeout,\n\u001B[1;32m   2021\u001B[0m         deadline\u001B[38;5;241m=\u001B[39mdeadline,\n\u001B[1;32m   2022\u001B[0m         metadata\u001B[38;5;241m=\u001B[39mmetadata,\n\u001B[1;32m   2023\u001B[0m     )\n",
      "File \u001B[0;32m~/anaconda3/envs/rl_qoc/lib/python3.11/site-packages/betterproto/grpc/grpclib_client.py:85\u001B[0m, in \u001B[0;36mServiceStub._unary_unary\u001B[0;34m(self, route, request, response_type, timeout, deadline, metadata)\u001B[0m\n\u001B[1;32m     84\u001B[0m     \u001B[38;5;28;01mawait\u001B[39;00m stream\u001B[38;5;241m.\u001B[39msend_message(request, end\u001B[38;5;241m=\u001B[39m\u001B[38;5;28;01mTrue\u001B[39;00m)\n\u001B[0;32m---> 85\u001B[0m     response \u001B[38;5;241m=\u001B[39m \u001B[38;5;28;01mawait\u001B[39;00m stream\u001B[38;5;241m.\u001B[39mrecv_message()\n\u001B[1;32m     86\u001B[0m \u001B[38;5;28;01massert\u001B[39;00m response \u001B[38;5;129;01mis\u001B[39;00m \u001B[38;5;129;01mnot\u001B[39;00m \u001B[38;5;28;01mNone\u001B[39;00m\n",
      "File \u001B[0;32m~/anaconda3/envs/rl_qoc/lib/python3.11/site-packages/grpclib/client.py:425\u001B[0m, in \u001B[0;36mStream.recv_message\u001B[0;34m(self)\u001B[0m\n\u001B[1;32m    424\u001B[0m \u001B[38;5;28;01mif\u001B[39;00m \u001B[38;5;129;01mnot\u001B[39;00m \u001B[38;5;28mself\u001B[39m\u001B[38;5;241m.\u001B[39m_recv_initial_metadata_done:\n\u001B[0;32m--> 425\u001B[0m     \u001B[38;5;28;01mawait\u001B[39;00m \u001B[38;5;28mself\u001B[39m\u001B[38;5;241m.\u001B[39mrecv_initial_metadata()\n\u001B[1;32m    427\u001B[0m \u001B[38;5;28;01mwith\u001B[39;00m \u001B[38;5;28mself\u001B[39m\u001B[38;5;241m.\u001B[39m_wrapper:\n",
      "File \u001B[0;32m~/anaconda3/envs/rl_qoc/lib/python3.11/site-packages/grpclib/client.py:393\u001B[0m, in \u001B[0;36mStream.recv_initial_metadata\u001B[0;34m(self)\u001B[0m\n\u001B[1;32m    391\u001B[0m     \u001B[38;5;28mself\u001B[39m\u001B[38;5;241m.\u001B[39mtrailing_metadata \u001B[38;5;241m=\u001B[39m tm\n\u001B[0;32m--> 393\u001B[0m     \u001B[38;5;28mself\u001B[39m\u001B[38;5;241m.\u001B[39m_raise_for_grpc_status(status, message, details)\n\u001B[1;32m    394\u001B[0m \u001B[38;5;28;01melse\u001B[39;00m:\n",
      "File \u001B[0;32m~/anaconda3/envs/rl_qoc/lib/python3.11/site-packages/grpclib/client.py:345\u001B[0m, in \u001B[0;36mStream._raise_for_grpc_status\u001B[0;34m(self, status, message, details)\u001B[0m\n\u001B[1;32m    344\u001B[0m \u001B[38;5;28;01mif\u001B[39;00m status \u001B[38;5;129;01mis\u001B[39;00m \u001B[38;5;129;01mnot\u001B[39;00m Status\u001B[38;5;241m.\u001B[39mOK:\n\u001B[0;32m--> 345\u001B[0m     \u001B[38;5;28;01mraise\u001B[39;00m GRPCError(status, message, details)\n",
      "\u001B[0;31mGRPCError\u001B[0m: (<Status.UNKNOWN: 2>, 'Internal Server Error', None)",
      "\nThe above exception was the direct cause of the following exception:\n",
      "\u001B[0;31mQMConnectionError\u001B[0m                         Traceback (most recent call last)",
      "Cell \u001B[0;32mIn[83], line 2\u001B[0m\n\u001B[1;32m      1\u001B[0m \u001B[38;5;28;01mfrom\u001B[39;00m \u001B[38;5;21;01mcopy\u001B[39;00m \u001B[38;5;28;01mimport\u001B[39;00m copy\n\u001B[0;32m----> 2\u001B[0m samples \u001B[38;5;241m=\u001B[39m copy(job\u001B[38;5;241m.\u001B[39mget_simulated_samples()\u001B[38;5;241m.\u001B[39mcon1)\n",
      "File \u001B[0;32m~/anaconda3/envs/rl_qoc/lib/python3.11/site-packages/qm/api/v2/job_api/simulated_job_api.py:86\u001B[0m, in \u001B[0;36mSimulatedJobApi.get_simulated_samples\u001B[0;34m(self, include_analog, include_digital)\u001B[0m\n\u001B[1;32m     85\u001B[0m \u001B[38;5;28;01mdef\u001B[39;00m \u001B[38;5;21mget_simulated_samples\u001B[39m(\u001B[38;5;28mself\u001B[39m, include_analog: \u001B[38;5;28mbool\u001B[39m \u001B[38;5;241m=\u001B[39m \u001B[38;5;28;01mTrue\u001B[39;00m, include_digital: \u001B[38;5;28mbool\u001B[39m \u001B[38;5;241m=\u001B[39m \u001B[38;5;28;01mTrue\u001B[39;00m) \u001B[38;5;241m-\u001B[39m\u001B[38;5;241m>\u001B[39m SimulatorSamples:\n\u001B[0;32m---> 86\u001B[0m     config \u001B[38;5;241m=\u001B[39m \u001B[38;5;28mself\u001B[39m\u001B[38;5;241m.\u001B[39m_get_pb_config()\n\u001B[1;32m     88\u001B[0m     results_by_controller \u001B[38;5;241m=\u001B[39m run_async(\u001B[38;5;28mself\u001B[39m\u001B[38;5;241m.\u001B[39m_pull_simulator_samples(include_analog, include_digital))\n\u001B[1;32m     89\u001B[0m     controller_to_samples \u001B[38;5;241m=\u001B[39m {}\n",
      "File \u001B[0;32m~/anaconda3/envs/rl_qoc/lib/python3.11/site-packages/qm/api/v2/job_api/job_api.py:196\u001B[0m, in \u001B[0;36mJobApi._get_pb_config\u001B[0;34m(self)\u001B[0m\n\u001B[1;32m    194\u001B[0m \u001B[38;5;28;01mdef\u001B[39;00m \u001B[38;5;21m_get_pb_config\u001B[39m(\u001B[38;5;28mself\u001B[39m) \u001B[38;5;241m-\u001B[39m\u001B[38;5;241m>\u001B[39m QuaConfig:\n\u001B[1;32m    195\u001B[0m     request \u001B[38;5;241m=\u001B[39m JobServiceGetConfigRequest(job_id\u001B[38;5;241m=\u001B[39m\u001B[38;5;28mself\u001B[39m\u001B[38;5;241m.\u001B[39m_id)\n\u001B[0;32m--> 196\u001B[0m     \u001B[38;5;28;01mreturn\u001B[39;00m \u001B[38;5;28mself\u001B[39m\u001B[38;5;241m.\u001B[39m_run(\u001B[38;5;28mself\u001B[39m\u001B[38;5;241m.\u001B[39m_stub\u001B[38;5;241m.\u001B[39mget_config(request, timeout\u001B[38;5;241m=\u001B[39m\u001B[38;5;28mself\u001B[39m\u001B[38;5;241m.\u001B[39m_timeout))\u001B[38;5;241m.\u001B[39mconfig\n",
      "File \u001B[0;32m~/anaconda3/envs/rl_qoc/lib/python3.11/site-packages/qm/api/v2/base_api_v2.py:19\u001B[0m, in \u001B[0;36mBaseApiV2._run\u001B[0;34m(self, coroutine, timeout)\u001B[0m\n\u001B[1;32m     18\u001B[0m \u001B[38;5;28;01mdef\u001B[39;00m \u001B[38;5;21m_run\u001B[39m(\u001B[38;5;28mself\u001B[39m, coroutine: Coroutine[Any, Any, ResponseProtocol[SuccessType, ErrorType]], timeout: Optional[\u001B[38;5;28mfloat\u001B[39m] \u001B[38;5;241m=\u001B[39m \u001B[38;5;28;01mNone\u001B[39;00m) \u001B[38;5;241m-\u001B[39m\u001B[38;5;241m>\u001B[39m SuccessType:  \u001B[38;5;66;03m# type: ignore[override]\u001B[39;00m\n\u001B[0;32m---> 19\u001B[0m     response \u001B[38;5;241m=\u001B[39m \u001B[38;5;28msuper\u001B[39m()\u001B[38;5;241m.\u001B[39m_run(coroutine, timeout)  \u001B[38;5;66;03m# type: ignore[type-var]\u001B[39;00m\n\u001B[1;32m     20\u001B[0m     \u001B[38;5;28;01mif\u001B[39;00m response\u001B[38;5;241m.\u001B[39mis_set(\u001B[38;5;124m\"\u001B[39m\u001B[38;5;124msuccess\u001B[39m\u001B[38;5;124m\"\u001B[39m):  \u001B[38;5;66;03m# type: ignore[attr-defined]\u001B[39;00m\n\u001B[1;32m     21\u001B[0m         \u001B[38;5;28;01mreturn\u001B[39;00m response\u001B[38;5;241m.\u001B[39msuccess\n",
      "File \u001B[0;32m~/anaconda3/envs/rl_qoc/lib/python3.11/site-packages/qm/api/base_api.py:104\u001B[0m, in \u001B[0;36mBaseApi._run\u001B[0;34m(self, coroutine, timeout)\u001B[0m\n\u001B[1;32m    101\u001B[0m \u001B[38;5;28;01mif\u001B[39;00m timeout \u001B[38;5;129;01mis\u001B[39;00m \u001B[38;5;28;01mNone\u001B[39;00m:\n\u001B[1;32m    102\u001B[0m     timeout \u001B[38;5;241m=\u001B[39m \u001B[38;5;28mself\u001B[39m\u001B[38;5;241m.\u001B[39m_timeout\n\u001B[0;32m--> 104\u001B[0m \u001B[38;5;28;01mwith\u001B[39;00m _handle_connection_error(timeout):\n\u001B[1;32m    105\u001B[0m     \u001B[38;5;28;01mreturn\u001B[39;00m run_async(coroutine)\n",
      "File \u001B[0;32m~/anaconda3/envs/rl_qoc/lib/python3.11/contextlib.py:158\u001B[0m, in \u001B[0;36m_GeneratorContextManager.__exit__\u001B[0;34m(self, typ, value, traceback)\u001B[0m\n\u001B[1;32m    156\u001B[0m     value \u001B[38;5;241m=\u001B[39m typ()\n\u001B[1;32m    157\u001B[0m \u001B[38;5;28;01mtry\u001B[39;00m:\n\u001B[0;32m--> 158\u001B[0m     \u001B[38;5;28mself\u001B[39m\u001B[38;5;241m.\u001B[39mgen\u001B[38;5;241m.\u001B[39mthrow(typ, value, traceback)\n\u001B[1;32m    159\u001B[0m \u001B[38;5;28;01mexcept\u001B[39;00m \u001B[38;5;167;01mStopIteration\u001B[39;00m \u001B[38;5;28;01mas\u001B[39;00m exc:\n\u001B[1;32m    160\u001B[0m     \u001B[38;5;66;03m# Suppress StopIteration *unless* it's the same exception that\u001B[39;00m\n\u001B[1;32m    161\u001B[0m     \u001B[38;5;66;03m# was passed to throw().  This prevents a StopIteration\u001B[39;00m\n\u001B[1;32m    162\u001B[0m     \u001B[38;5;66;03m# raised inside the \"with\" statement from being suppressed.\u001B[39;00m\n\u001B[1;32m    163\u001B[0m     \u001B[38;5;28;01mreturn\u001B[39;00m exc \u001B[38;5;129;01mis\u001B[39;00m \u001B[38;5;129;01mnot\u001B[39;00m value\n",
      "File \u001B[0;32m~/anaconda3/envs/rl_qoc/lib/python3.11/site-packages/qm/api/base_api.py:55\u001B[0m, in \u001B[0;36m_handle_connection_error\u001B[0;34m(timeout)\u001B[0m\n\u001B[1;32m     51\u001B[0m     \u001B[38;5;28;01mif\u001B[39;00m e\u001B[38;5;241m.\u001B[39mstatus \u001B[38;5;241m==\u001B[39m Status\u001B[38;5;241m.\u001B[39mUNIMPLEMENTED:\n\u001B[1;32m     52\u001B[0m         \u001B[38;5;28;01mraise\u001B[39;00m GatewayNotImplementedError(\n\u001B[1;32m     53\u001B[0m             \u001B[38;5;124mf\u001B[39m\u001B[38;5;124m\"\u001B[39m\u001B[38;5;124mEncountered connection error from QOP: details: \u001B[39m\u001B[38;5;132;01m{\u001B[39;00me\u001B[38;5;241m.\u001B[39mmessage\u001B[38;5;132;01m}\u001B[39;00m\u001B[38;5;124m, status: \u001B[39m\u001B[38;5;132;01m{\u001B[39;00me\u001B[38;5;241m.\u001B[39mstatus\u001B[38;5;132;01m}\u001B[39;00m\u001B[38;5;124m\"\u001B[39m\n\u001B[1;32m     54\u001B[0m         ) \u001B[38;5;28;01mfrom\u001B[39;00m \u001B[38;5;21;01me\u001B[39;00m\n\u001B[0;32m---> 55\u001B[0m     \u001B[38;5;28;01mraise\u001B[39;00m QMConnectionError(\n\u001B[1;32m     56\u001B[0m         \u001B[38;5;124mf\u001B[39m\u001B[38;5;124m\"\u001B[39m\u001B[38;5;124mEncountered connection error from QOP: details: \u001B[39m\u001B[38;5;132;01m{\u001B[39;00me\u001B[38;5;241m.\u001B[39mmessage\u001B[38;5;132;01m}\u001B[39;00m\u001B[38;5;124m, status: \u001B[39m\u001B[38;5;132;01m{\u001B[39;00me\u001B[38;5;241m.\u001B[39mstatus\u001B[38;5;132;01m}\u001B[39;00m\u001B[38;5;124m\"\u001B[39m\n\u001B[1;32m     57\u001B[0m     ) \u001B[38;5;28;01mfrom\u001B[39;00m \u001B[38;5;21;01me\u001B[39;00m\n\u001B[1;32m     58\u001B[0m \u001B[38;5;28;01mexcept\u001B[39;00m asyncio\u001B[38;5;241m.\u001B[39mTimeoutError \u001B[38;5;28;01mas\u001B[39;00m e:\n\u001B[1;32m     59\u001B[0m     \u001B[38;5;28;01mif\u001B[39;00m is_debug():\n",
      "\u001B[0;31mQMConnectionError\u001B[0m: Encountered connection error from QOP: details: Internal Server Error, status: Status.UNKNOWN"
     ]
    }
   ],
   "execution_count": 83
  },
  {
   "cell_type": "code",
   "id": "6378aad3b87677b4",
   "metadata": {
    "ExecuteTime": {
     "end_time": "2025-05-05T06:55:22.064867Z",
     "start_time": "2025-05-05T06:55:10.433482Z"
    }
   },
   "source": [
    "instance.close()"
   ],
   "outputs": [],
   "execution_count": 70
  },
  {
   "metadata": {
    "ExecuteTime": {
     "end_time": "2025-05-05T06:58:05.299481Z",
     "start_time": "2025-05-05T06:58:05.219511Z"
    }
   },
   "cell_type": "code",
   "source": "plt.plot(list(samples.analog.values())[0])",
   "id": "cea5c66b89ff4899",
   "outputs": [
    {
     "name": "stderr",
     "output_type": "stream",
     "text": [
      "/Users/arthurostrauss/anaconda3/envs/rl_qoc/lib/python3.11/site-packages/matplotlib/cbook.py:1719: ComplexWarning: Casting complex values to real discards the imaginary part\n",
      "  return math.isfinite(val)\n",
      "/Users/arthurostrauss/anaconda3/envs/rl_qoc/lib/python3.11/site-packages/matplotlib/cbook.py:1355: ComplexWarning: Casting complex values to real discards the imaginary part\n",
      "  return np.asarray(x, float)\n"
     ]
    },
    {
     "data": {
      "text/plain": [
       "[<matplotlib.lines.Line2D at 0x3914c4390>]"
      ]
     },
     "execution_count": 82,
     "metadata": {},
     "output_type": "execute_result"
    },
    {
     "data": {
      "text/plain": [
       "<Figure size 640x480 with 1 Axes>"
      ],
      "image/png": "[encoded data removed]"
     },
     "metadata": {},
     "output_type": "display_data"
    }
   ],
   "execution_count": 82
  },
  {
   "cell_type": "markdown",
   "id": "151eb7324803c986",
   "metadata": {},
   "source": [
    "# OpenQASM3 to QUA"
   ]
  },
  {
   "cell_type": "code",
   "id": "4b099371912a5239",
   "metadata": {
    "ExecuteTime": {
     "end_time": "2025-04-30T16:49:48.512140Z",
     "start_time": "2025-04-30T16:49:47.086702Z"
    }
   },
   "source": [
    "from qiskit import QuantumCircuit\n",
    "from qiskit.circuit import Parameter, Gate, ParameterVector\n",
    "from qiskit.qasm3 import Exporter, loads\n",
    "from qiskit.circuit.classical.types import Uint\n",
    "from qiskit import transpile\n",
    "\n",
    "qc = QuantumCircuit(1)\n",
    "theta = Parameter(\"θ\")\n",
    "theta2 = Parameter(\"θ_2\")\n",
    "theta3 = ParameterVector(\"θ_3\", 2)\n",
    "n = Parameter(\"n\")\n",
    "var = qc.add_input(\"input_state\", Uint(8))\n",
    "gate = Gate(\"my_gate\", 1, [theta3[0]])\n",
    "# with qc.for_loop([1, 3, 5]):\n",
    "#     qc.x(0)\n",
    "#     qc.rx(theta3[1]*n, 0)\n",
    "#     qc.append(gate, [0])\n",
    "\n",
    "with qc.switch(var) as case:\n",
    "    with case(1):\n",
    "        qc.x(0)\n",
    "    with case(2):\n",
    "        qc.rx(theta, 0)\n",
    "    with case(case.DEFAULT):\n",
    "        qc.rx(theta2, 0)\n",
    "qc.draw(\"mpl\")"
   ],
   "outputs": [
    {
     "data": {
      "text/plain": [
       "<Figure size 770.731x117.056 with 1 Axes>"
      ],
      "image/png": "[encoded data removed]"
     },
     "execution_count": 1,
     "metadata": {},
     "output_type": "execute_result"
    }
   ],
   "execution_count": 1
  },
  {
   "cell_type": "code",
   "id": "4103875ffbdeb4c5",
   "metadata": {
    "ExecuteTime": {
     "end_time": "2025-04-28T09:57:12.396649Z",
     "start_time": "2025-04-28T09:57:12.265584Z"
    }
   },
   "source": [
    "qc = transpile(qc, backend)\n",
    "qc.draw(\"mpl\")"
   ],
   "outputs": [
    {
     "data": {
      "text/plain": [
       "<Figure size 1586.85x451.5 with 1 Axes>"
      ],
      "image/png": "[encoded data removed]"
     },
     "execution_count": 18,
     "metadata": {},
     "output_type": "execute_result"
    }
   ],
   "execution_count": 18
  },
  {
   "metadata": {
    "ExecuteTime": {
     "end_time": "2025-04-30T16:38:47.545982Z",
     "start_time": "2025-04-30T16:38:47.542826Z"
    }
   },
   "cell_type": "code",
   "source": "list(backend._operation_mapping_QUA.keys())[9].name",
   "id": "f3bef56a96d33e41",
   "outputs": [
    {
     "data": {
      "text/plain": [
       "'reset'"
      ]
     },
     "execution_count": 10,
     "metadata": {},
     "output_type": "execute_result"
    }
   ],
   "execution_count": 10
  },
  {
   "cell_type": "code",
   "id": "47a9e57950ae8a50",
   "metadata": {
    "ExecuteTime": {
     "end_time": "2025-05-05T07:37:01.270736Z",
     "start_time": "2025-05-05T07:37:01.102083Z"
    }
   },
   "source": [
    "from rl_qoc.rewards.real_time import get_real_time_reward_circuit\n",
    "from rl_qoc import (\n",
    "    QEnvConfig,\n",
    "    QiskitConfig,\n",
    "    ExecutionConfig,\n",
    "    BenchmarkConfig,\n",
    "    GateTargetConfig,\n",
    ")\n",
    "from qiskit_qm_provider import ParameterPool\n",
    "from rl_qoc.qua import QMConfig, QMEnvironment\n",
    "from gymnasium.spaces import Box\n",
    "\n",
    "\n",
    "def apply_parameters(qc: QuantumCircuit, params: ParameterVector, qreg: QuantumRegister):\n",
    "    idx_0 = qreg.index(qreg[0])\n",
    "\n",
    "    if len(qreg) > 1:\n",
    "        idx_1 = qreg.index(qreg[1])\n",
    "        with qp.build(backend) as sched:\n",
    "            qp.play(qp.Constant(duration=120, amp=0.1), backend.flux_channel(idx_0))\n",
    "            qp.play(\n",
    "                qp.Constant(duration=120, amp=params[0]),\n",
    "                backend.control_channel((idx_0, idx_1))[0],\n",
    "            )\n",
    "        qc.add_calibration(\n",
    "            \"rzz\",\n",
    "            [0, 1],\n",
    "            sched,\n",
    "            params.params if isinstance(params, ParameterVector) else params,\n",
    "        )\n",
    "        qc.rzz(params[0], qreg[0], qreg[1])\n",
    "    else:\n",
    "        with qp.build(backend) as sched:\n",
    "            qp.play(\n",
    "                qp.Drag(duration=120, amp=params[0], sigma=40, beta=0.2),\n",
    "                backend.drive_channel(idx_0),\n",
    "            )\n",
    "        qc.add_calibration(\n",
    "            \"rx\",\n",
    "            [\n",
    "                0,\n",
    "            ],\n",
    "            sched,\n",
    "            params.params if isinstance(params, ParameterVector) else params,\n",
    "        )\n",
    "        qc.rx(params[0], qreg[0])\n",
    "    with qp.build(backend, name=\"x_custom\") as sched:\n",
    "        qp.play(\n",
    "            qp.Drag(duration=120, amp=0.3, sigma=40, beta=0.2),\n",
    "            backend.drive_channel(idx_0),\n",
    "        )\n",
    "    qc.add_calibration(\n",
    "        \"x\",\n",
    "        [\n",
    "            0,\n",
    "        ],\n",
    "        sched,\n",
    "    )\n",
    "    qc.add_calibration(\n",
    "        \"x\",\n",
    "        [\n",
    "            1,\n",
    "        ],\n",
    "        sched,\n",
    "    )\n",
    "\n",
    "\n",
    "physical_qubits = [0, 1]\n",
    "gate = \"cz\" if len(physical_qubits) > 1 else \"x\"\n",
    "n_reps = [2, 5]\n",
    "config = QEnvConfig(\n",
    "    target=GateTargetConfig(physical_qubits, gate),\n",
    "    backend_config=QiskitConfig(\n",
    "        backend=backend,\n",
    "        parametrized_circuit=apply_parameters,\n",
    "    ),\n",
    "    execution_config=ExecutionConfig(\n",
    "        batch_size=1,\n",
    "        n_shots=100,\n",
    "        n_reps=n_reps,\n",
    "        control_flow_enabled=True,\n",
    "    ),\n",
    "    reward=\"channel\",\n",
    "    action_space=Box(low=-1, high=1, shape=(1,), dtype=np.float32),\n",
    ")\n",
    "\n",
    "qm_config_args = {\n",
    "    \"input_type\": \"IO1\",\n",
    "    \"num_updates\": 500,\n",
    "    \"init_macro\": backend.machine.apply_all_flux_to_joint_idle,\n",
    "}\n",
    "config.backend_config = QMConfig(**config.backend_config.as_dict(), **qm_config_args)\n",
    "\n",
    "q_env = QMEnvironment(config)"
   ],
   "outputs": [
    {
     "name": "stderr",
     "output_type": "stream",
     "text": [
      "/var/folders/5w/ygx15jq94z5dzxwkmbbj8zfm0000gn/T/ipykernel_38592/3644340201.py:19: DeprecationWarning: The function ``qiskit.pulse.builder.build()`` is deprecated as of Qiskit 1.3. It will be removed in Qiskit 2.0. The entire Qiskit Pulse package is being deprecated and will be moved to the Qiskit Dynamics repository: https://github.com/qiskit-community/qiskit-dynamics\n",
      "  with qp.build(backend) as sched:\n",
      "/var/folders/5w/ygx15jq94z5dzxwkmbbj8zfm0000gn/T/ipykernel_38592/3644340201.py:20: DeprecationWarning: The function ``qiskit.pulse.builder.play()`` is deprecated as of Qiskit 1.3. It will be removed in Qiskit 2.0. The entire Qiskit Pulse package is being deprecated and will be moved to the Qiskit Dynamics repository: https://github.com/qiskit-community/qiskit-dynamics\n",
      "  qp.play(qp.Constant(duration=120, amp=0.1), backend.flux_channel(idx_0))\n",
      "/var/folders/5w/ygx15jq94z5dzxwkmbbj8zfm0000gn/T/ipykernel_38592/3644340201.py:21: DeprecationWarning: The function ``qiskit.pulse.builder.play()`` is deprecated as of Qiskit 1.3. It will be removed in Qiskit 2.0. The entire Qiskit Pulse package is being deprecated and will be moved to the Qiskit Dynamics repository: https://github.com/qiskit-community/qiskit-dynamics\n",
      "  qp.play(\n",
      "/var/folders/5w/ygx15jq94z5dzxwkmbbj8zfm0000gn/T/ipykernel_38592/3644340201.py:25: DeprecationWarning: The method ``qiskit.circuit.quantumcircuit.QuantumCircuit.add_calibration()`` is deprecated as of Qiskit 1.3. It will be removed in Qiskit 2.0. The entire Qiskit Pulse package is being deprecated and will be moved to the Qiskit Dynamics repository: https://github.com/qiskit-community/qiskit-dynamics. Note that once removed, ``qiskit.circuit.quantumcircuit.QuantumCircuit.add_calibration()`` will have no alternative in Qiskit.\n",
      "  qc.add_calibration(\n",
      "/var/folders/5w/ygx15jq94z5dzxwkmbbj8zfm0000gn/T/ipykernel_38592/3644340201.py:47: DeprecationWarning: The function ``qiskit.pulse.builder.build()`` is deprecated as of Qiskit 1.3. It will be removed in Qiskit 2.0. The entire Qiskit Pulse package is being deprecated and will be moved to the Qiskit Dynamics repository: https://github.com/qiskit-community/qiskit-dynamics\n",
      "  with qp.build(backend, name=\"x_custom\") as sched:\n",
      "/var/folders/5w/ygx15jq94z5dzxwkmbbj8zfm0000gn/T/ipykernel_38592/3644340201.py:48: DeprecationWarning: The function ``qiskit.pulse.builder.play()`` is deprecated as of Qiskit 1.3. It will be removed in Qiskit 2.0. The entire Qiskit Pulse package is being deprecated and will be moved to the Qiskit Dynamics repository: https://github.com/qiskit-community/qiskit-dynamics\n",
      "  qp.play(\n",
      "/var/folders/5w/ygx15jq94z5dzxwkmbbj8zfm0000gn/T/ipykernel_38592/3644340201.py:52: DeprecationWarning: The method ``qiskit.circuit.quantumcircuit.QuantumCircuit.add_calibration()`` is deprecated as of Qiskit 1.3. It will be removed in Qiskit 2.0. The entire Qiskit Pulse package is being deprecated and will be moved to the Qiskit Dynamics repository: https://github.com/qiskit-community/qiskit-dynamics. Note that once removed, ``qiskit.circuit.quantumcircuit.QuantumCircuit.add_calibration()`` will have no alternative in Qiskit.\n",
      "  qc.add_calibration(\n",
      "/var/folders/5w/ygx15jq94z5dzxwkmbbj8zfm0000gn/T/ipykernel_38592/3644340201.py:59: DeprecationWarning: The method ``qiskit.circuit.quantumcircuit.QuantumCircuit.add_calibration()`` is deprecated as of Qiskit 1.3. It will be removed in Qiskit 2.0. The entire Qiskit Pulse package is being deprecated and will be moved to the Qiskit Dynamics repository: https://github.com/qiskit-community/qiskit-dynamics. Note that once removed, ``qiskit.circuit.quantumcircuit.QuantumCircuit.add_calibration()`` will have no alternative in Qiskit.\n",
      "  qc.add_calibration(\n",
      "/Users/arthurostrauss/Library/CloudStorage/OneDrive-QMMachinesLTD/GitHub/qiskit-qm-provider/qiskit_qm_provider/parameter_table/parameter.py:120: UserWarning: Parameter with name a_0_0 already exists in parameter table real_time_circuit_parameters.\n",
      "  warnings.warn(\n",
      "/Users/arthurostrauss/Library/CloudStorage/OneDrive-QMMachinesLTD/GitHub/qiskit-qm-provider/qiskit_qm_provider/parameter_table/parameter.py:120: UserWarning: Parameter with name observable_0 already exists in parameter table observable_vars.\n",
      "  warnings.warn(\n",
      "/Users/arthurostrauss/Library/CloudStorage/OneDrive-QMMachinesLTD/GitHub/qiskit-qm-provider/qiskit_qm_provider/parameter_table/parameter.py:120: UserWarning: Parameter with name observable_1 already exists in parameter table observable_vars.\n",
      "  warnings.warn(\n",
      "/Users/arthurostrauss/Library/CloudStorage/OneDrive-QMMachinesLTD/GitHub/qiskit-qm-provider/qiskit_qm_provider/parameter_table/parameter.py:120: UserWarning: Parameter with name input_state_1 already exists in parameter table input_state_vars.\n",
      "  warnings.warn(\n",
      "/Users/arthurostrauss/Library/CloudStorage/OneDrive-QMMachinesLTD/GitHub/qiskit-qm-provider/qiskit_qm_provider/parameter_table/parameter.py:120: UserWarning: Parameter with name input_state_0 already exists in parameter table input_state_vars.\n",
      "  warnings.warn(\n"
     ]
    }
   ],
   "execution_count": 2
  },
  {
   "metadata": {
    "ExecuteTime": {
     "end_time": "2025-05-05T07:48:39.369758Z",
     "start_time": "2025-05-05T07:48:39.367657Z"
    }
   },
   "cell_type": "code",
   "source": "backend.operation_names",
   "id": "97d8f49dc8549934",
   "outputs": [
    {
     "data": {
      "text/plain": [
       "['x',\n",
       " 'rz',\n",
       " 'sx',\n",
       " 'measure',\n",
       " 'reset',\n",
       " 'cz',\n",
       " 'if_else',\n",
       " 'while_loop',\n",
       " 'for_loop',\n",
       " 'switch_case']"
      ]
     },
     "execution_count": 15,
     "metadata": {},
     "output_type": "execute_result"
    }
   ],
   "execution_count": 15
  },
  {
   "metadata": {
    "ExecuteTime": {
     "end_time": "2025-05-05T07:48:40.908906Z",
     "start_time": "2025-05-05T07:48:40.833735Z"
    }
   },
   "cell_type": "code",
   "source": [
    "from qiskit import transpile\n",
    "\n",
    "qc = transpile(qc, backend, initial_layout=[2])\n",
    "qc.draw(\"mpl\")"
   ],
   "id": "570d182d072ad1e7",
   "outputs": [
    {
     "data": {
      "text/plain": [
       "<Figure size 499.904x451.5 with 1 Axes>"
      ],
      "image/png": "[encoded data removed]"
     },
     "execution_count": 16,
     "metadata": {},
     "output_type": "execute_result"
    }
   ],
   "execution_count": 16
  },
  {
   "metadata": {
    "ExecuteTime": {
     "end_time": "2025-05-05T07:42:29.375077Z",
     "start_time": "2025-05-05T07:42:29.356321Z"
    }
   },
   "cell_type": "code",
   "source": [
    "from qiskit.qasm3 import Exporter\n",
    "\n",
    "basis_gates = [op for op in backend.operation_names if op not in [\"measure\", \"reset\"]]\n",
    "\n",
    "exporter = Exporter(includes=(), basis_gates=basis_gates, disable_constants=True)\n",
    "print(exporter.dumps(qc))"
   ],
   "id": "33b2ae845a89038f",
   "outputs": [
    {
     "name": "stdout",
     "output_type": "stream",
     "text": [
      "OPENQASM 3.0;\n",
      "rz(1.5707963267948966) $0;\n",
      "sx $0;\n",
      "rz(1.5707963267948966) $0;\n",
      "\n"
     ]
    }
   ],
   "execution_count": 10
  },
  {
   "metadata": {
    "ExecuteTime": {
     "end_time": "2025-05-05T07:46:29.089993Z",
     "start_time": "2025-05-05T07:46:28.595398Z"
    }
   },
   "cell_type": "code",
   "source": "backend.coupling_map.draw()",
   "id": "1ae2b4fbb5e95b68",
   "outputs": [
    {
     "data": {
      "text/plain": [
       "<PIL.PngImagePlugin.PngImageFile image mode=RGB size=243x405>"
      ],
      "image/png": "[encoded data removed]",
      "image/jpeg": "[encoded data removed]"
     },
     "execution_count": 12,
     "metadata": {},
     "output_type": "execute_result"
    }
   ],
   "execution_count": 12
  },
  {
   "metadata": {
    "ExecuteTime": {
     "end_time": "2025-05-05T07:45:18.543614Z",
     "start_time": "2025-05-05T07:45:18.537273Z"
    }
   },
   "cell_type": "code",
   "source": "print(backend.target)",
   "id": "21424954a89865a9",
   "outputs": [
    {
     "name": "stdout",
     "output_type": "stream",
     "text": [
      "Target: Transmon based QuAM\n",
      "Number of qubits: 5\n",
      "Instructions:\n",
      "\tx\n",
      "\t\t(0,)\n",
      "\t\t(1,)\n",
      "\t\t(2,)\n",
      "\t\t(3,)\n",
      "\t\t(4,)\n",
      "\trz\n",
      "\t\t(0,)\n",
      "\t\t(1,)\n",
      "\t\t(2,)\n",
      "\t\t(3,)\n",
      "\t\t(4,)\n",
      "\tsx\n",
      "\t\t(0,)\n",
      "\t\t(1,)\n",
      "\t\t(2,)\n",
      "\t\t(3,)\n",
      "\t\t(4,)\n",
      "\tmeasure\n",
      "\t\t(0,)\n",
      "\t\t(1,)\n",
      "\t\t(2,)\n",
      "\t\t(3,)\n",
      "\t\t(4,)\n",
      "\treset\n",
      "\t\t(0,)\n",
      "\t\t(1,)\n",
      "\t\t(2,)\n",
      "\t\t(3,)\n",
      "\t\t(4,)\n",
      "\tcz\n",
      "\t\t(0, 1)\n",
      "\t\t(1, 2)\n",
      "\t\t(2, 3)\n",
      "\t\t(3, 4)\n",
      "\tif_else\n",
      "\twhile_loop\n",
      "\tfor_loop\n",
      "\tswitch_case\n",
      "\n"
     ]
    }
   ],
   "execution_count": 11
  },
  {
   "metadata": {
    "ExecuteTime": {
     "end_time": "2025-05-05T07:37:12.765176Z",
     "start_time": "2025-05-05T07:37:11.977813Z"
    }
   },
   "cell_type": "code",
   "source": "q_env.real_time_circuit.draw(\"mpl\")",
   "id": "5d2b09a623634a34",
   "outputs": [
    {
     "data": {
      "text/plain": [
       "<Figure size 2339.35x1705.67 with 1 Axes>"
      ],
      "image/png": "[encoded data removed]"
     },
     "execution_count": 3,
     "metadata": {},
     "output_type": "execute_result"
    }
   ],
   "execution_count": 3
  },
  {
   "metadata": {
    "ExecuteTime": {
     "end_time": "2025-05-05T08:14:26.204769Z",
     "start_time": "2025-05-05T08:14:26.152098Z"
    }
   },
   "cell_type": "code",
   "source": "q_env.circuit.draw(\"mpl\")",
   "id": "f5fbc065e2cfc267",
   "outputs": [
    {
     "data": {
      "text/plain": [
       "<Figure size 393.348x200.667 with 1 Axes>"
      ],
      "image/png": "[encoded data removed]"
     },
     "execution_count": 17,
     "metadata": {},
     "output_type": "execute_result"
    }
   ],
   "execution_count": 17
  },
  {
   "metadata": {
    "ExecuteTime": {
     "end_time": "2025-05-05T08:14:27.871111Z",
     "start_time": "2025-05-05T08:14:27.866266Z"
    }
   },
   "cell_type": "code",
   "source": "q_env.circuit.calibrations",
   "id": "a3097a7ec5d890dd",
   "outputs": [
    {
     "name": "stderr",
     "output_type": "stream",
     "text": [
      "/var/folders/5w/ygx15jq94z5dzxwkmbbj8zfm0000gn/T/ipykernel_38592/1176884243.py:1: DeprecationWarning: The property ``qiskit.circuit.quantumcircuit.QuantumCircuit.calibrations`` is deprecated as of Qiskit 1.3. It will be removed in Qiskit 2.0. The entire Qiskit Pulse package is being deprecated and will be moved to the Qiskit Dynamics repository: https://github.com/qiskit-community/qiskit-dynamics. Note that once removed, ``qiskit.circuit.quantumcircuit.QuantumCircuit.calibrations`` will have no alternative in Qiskit.\n",
      "  q_env.circuit.calibrations\n"
     ]
    },
    {
     "data": {
      "text/plain": [
       "{'rzz': {((0, 1),\n",
       "   (Parameter(a_0_0),)): ScheduleBlock(Play(Constant(duration=120, amp=0.1, angle=0.0, name='block0_0'), FluxChannel(0)), Play(Constant(duration=120, amp=a_0_0, angle=0.0, name='block0_1'), ControlChannel(0)), name=\"block0\", transform=AlignLeft())},\n",
       " 'x': {((0,),\n",
       "   ()): ScheduleBlock(Play(Drag(duration=120, sigma=40, beta=0.2, amp=0.3, angle=0.0, name='x_custom_015333655888'), DriveChannel(0)), name=\"x_custom\", transform=AlignLeft()),\n",
       "  ((1,),\n",
       "   ()): ScheduleBlock(Play(Drag(duration=120, sigma=40, beta=0.2, amp=0.3, angle=0.0, name='x_custom_015333655888'), DriveChannel(0)), name=\"x_custom\", transform=AlignLeft())}}"
      ]
     },
     "execution_count": 18,
     "metadata": {},
     "output_type": "execute_result"
    }
   ],
   "execution_count": 18
  },
  {
   "metadata": {
    "ExecuteTime": {
     "end_time": "2025-05-05T08:14:30.495337Z",
     "start_time": "2025-05-05T08:14:30.360165Z"
    }
   },
   "cell_type": "code",
   "source": [
    "from qiskit.qasm3 import Exporter\n",
    "\n",
    "backend.update_calibrations(q_env.real_time_circuit)\n",
    "basis_gates = backend.operation_names\n",
    "print(basis_gates)\n",
    "# Remove control flow operations, measure and reset from basis gates\n",
    "basis_gates = [gate for gate in basis_gates if gate not in [\"measure\", \"reset\"]]\n",
    "print(basis_gates)\n",
    "exporter = Exporter(includes=(), basis_gates=basis_gates, disable_constants=True)\n",
    "\n",
    "qasm3 = exporter.dumps(q_env.real_time_circuit)\n",
    "print(qasm3)"
   ],
   "id": "6e327c413a998f40",
   "outputs": [
    {
     "name": "stderr",
     "output_type": "stream",
     "text": [
      "/Users/arthurostrauss/Library/CloudStorage/OneDrive-QMMachinesLTD/GitHub/qiskit-qm-provider/qiskit_qm_provider/parameter_table/parameter.py:120: UserWarning: Parameter with name a_0_0 already exists in parameter table real_time_circuit_parameters.\n",
      "  warnings.warn(\n",
      "/Users/arthurostrauss/Library/CloudStorage/OneDrive-QMMachinesLTD/GitHub/qiskit-qm-provider/qiskit_qm_provider/parameter_table/parameter.py:120: UserWarning: Parameter with name observable_0 already exists in parameter table observable_vars.\n",
      "  warnings.warn(\n",
      "/Users/arthurostrauss/Library/CloudStorage/OneDrive-QMMachinesLTD/GitHub/qiskit-qm-provider/qiskit_qm_provider/parameter_table/parameter.py:120: UserWarning: Parameter with name n_reps already exists in parameter table real_time_qc_param_table.\n",
      "  warnings.warn(\n",
      "/Users/arthurostrauss/Library/CloudStorage/OneDrive-QMMachinesLTD/GitHub/qiskit-qm-provider/qiskit_qm_provider/parameter_table/parameter.py:120: UserWarning: Parameter with name observable_1 already exists in parameter table observable_vars.\n",
      "  warnings.warn(\n",
      "/Users/arthurostrauss/Library/CloudStorage/OneDrive-QMMachinesLTD/GitHub/qiskit-qm-provider/qiskit_qm_provider/parameter_table/parameter.py:120: UserWarning: Parameter with name input_state_1 already exists in parameter table input_state_vars.\n",
      "  warnings.warn(\n",
      "/Users/arthurostrauss/Library/CloudStorage/OneDrive-QMMachinesLTD/GitHub/qiskit-qm-provider/qiskit_qm_provider/parameter_table/parameter.py:120: UserWarning: Parameter with name input_state_0 already exists in parameter table input_state_vars.\n",
      "  warnings.warn(\n"
     ]
    },
    {
     "ename": "ValueError",
     "evalue": "Parameter with name real_time_qc_param_table already exists.",
     "output_type": "error",
     "traceback": [
      "\u001B[0;31m---------------------------------------------------------------------------\u001B[0m",
      "\u001B[0;31mValueError\u001B[0m                                Traceback (most recent call last)",
      "Cell \u001B[0;32mIn[19], line 3\u001B[0m\n\u001B[1;32m      1\u001B[0m \u001B[38;5;28;01mfrom\u001B[39;00m \u001B[38;5;21;01mqiskit\u001B[39;00m\u001B[38;5;21;01m.\u001B[39;00m\u001B[38;5;21;01mqasm3\u001B[39;00m \u001B[38;5;28;01mimport\u001B[39;00m Exporter\n\u001B[0;32m----> 3\u001B[0m backend\u001B[38;5;241m.\u001B[39mupdate_calibrations(q_env\u001B[38;5;241m.\u001B[39mreal_time_circuit)\n\u001B[1;32m      4\u001B[0m basis_gates \u001B[38;5;241m=\u001B[39m backend\u001B[38;5;241m.\u001B[39moperation_names\n\u001B[1;32m      5\u001B[0m \u001B[38;5;28mprint\u001B[39m(basis_gates)\n",
      "File \u001B[0;32m~/Library/CloudStorage/OneDrive-QMMachinesLTD/GitHub/qiskit-qm-provider/qiskit_qm_provider/qm_backend.py:618\u001B[0m, in \u001B[0;36mQMBackend.update_calibrations\u001B[0;34m(self, qc, input_type)\u001B[0m\n\u001B[1;32m    614\u001B[0m     \u001B[38;5;28;01mraise\u001B[39;00m \u001B[38;5;167;01mValueError\u001B[39;00m(\u001B[38;5;124m\"\u001B[39m\u001B[38;5;124mqc should have calibrations\u001B[39m\u001B[38;5;124m\"\u001B[39m)\n\u001B[1;32m    615\u001B[0m \u001B[38;5;28;01mif\u001B[39;00m qc\u001B[38;5;241m.\u001B[39mparameters \u001B[38;5;129;01mor\u001B[39;00m qc\u001B[38;5;241m.\u001B[39miter_input_vars():\n\u001B[1;32m    616\u001B[0m     param_table \u001B[38;5;241m=\u001B[39m qc\u001B[38;5;241m.\u001B[39mmetadata\u001B[38;5;241m.\u001B[39mget(\n\u001B[1;32m    617\u001B[0m         \u001B[38;5;124m\"\u001B[39m\u001B[38;5;124mparameter_table\u001B[39m\u001B[38;5;124m\"\u001B[39m,\n\u001B[0;32m--> 618\u001B[0m         ParameterTable\u001B[38;5;241m.\u001B[39mfrom_qiskit(\n\u001B[1;32m    619\u001B[0m             qc, input_type\u001B[38;5;241m=\u001B[39minput_type, name\u001B[38;5;241m=\u001B[39mqc\u001B[38;5;241m.\u001B[39mname \u001B[38;5;241m+\u001B[39m \u001B[38;5;124m\"\u001B[39m\u001B[38;5;124m_param_table\u001B[39m\u001B[38;5;124m\"\u001B[39m\n\u001B[1;32m    620\u001B[0m         ),\n\u001B[1;32m    621\u001B[0m     )\n\u001B[1;32m    622\u001B[0m \u001B[38;5;28;01melse\u001B[39;00m:\n\u001B[1;32m    623\u001B[0m     param_table \u001B[38;5;241m=\u001B[39m \u001B[38;5;28;01mNone\u001B[39;00m\n",
      "File \u001B[0;32m~/Library/CloudStorage/OneDrive-QMMachinesLTD/GitHub/qiskit-qm-provider/qiskit_qm_provider/parameter_table/parameter_table.py:779\u001B[0m, in \u001B[0;36mParameterTable.from_qiskit\u001B[0;34m(cls, qc, input_type, filter_function, name)\u001B[0m\n\u001B[1;32m    769\u001B[0m         \u001B[38;5;28;01melse\u001B[39;00m:  \u001B[38;5;66;03m# Float\u001B[39;00m\n\u001B[1;32m    770\u001B[0m             param_list\u001B[38;5;241m.\u001B[39mappend(\n\u001B[1;32m    771\u001B[0m                 Parameter(\n\u001B[1;32m    772\u001B[0m                     var\u001B[38;5;241m.\u001B[39mname,\n\u001B[0;32m   (...)\u001B[0m\n\u001B[1;32m    776\u001B[0m                 )\n\u001B[1;32m    777\u001B[0m             )\n\u001B[0;32m--> 779\u001B[0m \u001B[38;5;28;01mreturn\u001B[39;00m \u001B[38;5;28mcls\u001B[39m(param_list, name \u001B[38;5;28;01mif\u001B[39;00m name \u001B[38;5;129;01mis\u001B[39;00m \u001B[38;5;129;01mnot\u001B[39;00m \u001B[38;5;28;01mNone\u001B[39;00m \u001B[38;5;28;01melse\u001B[39;00m qc\u001B[38;5;241m.\u001B[39mname)\n",
      "File \u001B[0;32m~/Library/CloudStorage/OneDrive-QMMachinesLTD/GitHub/qiskit-qm-provider/qiskit_qm_provider/parameter_table/parameter_table.py:92\u001B[0m, in \u001B[0;36mParameterTable.__init__\u001B[0;34m(self, parameters_dict, name)\u001B[0m\n\u001B[1;32m     90\u001B[0m     \u001B[38;5;28mself\u001B[39m\u001B[38;5;241m.\u001B[39mname \u001B[38;5;241m=\u001B[39m \u001B[38;5;124mf\u001B[39m\u001B[38;5;124m\"\u001B[39m\u001B[38;5;124mParameterTable_\u001B[39m\u001B[38;5;132;01m{\u001B[39;00m\u001B[38;5;28mid\u001B[39m(\u001B[38;5;28mself\u001B[39m)\u001B[38;5;132;01m}\u001B[39;00m\u001B[38;5;124m\"\u001B[39m\n\u001B[1;32m     91\u001B[0m \u001B[38;5;28mself\u001B[39m\u001B[38;5;241m.\u001B[39m_input_type \u001B[38;5;241m=\u001B[39m \u001B[38;5;28;01mNone\u001B[39;00m\n\u001B[0;32m---> 92\u001B[0m \u001B[38;5;28mself\u001B[39m\u001B[38;5;241m.\u001B[39m_id \u001B[38;5;241m=\u001B[39m ParameterPool\u001B[38;5;241m.\u001B[39mget_id(\u001B[38;5;28mself\u001B[39m)\n\u001B[1;32m     93\u001B[0m \u001B[38;5;28mself\u001B[39m\u001B[38;5;241m.\u001B[39m_qua_external_stream \u001B[38;5;241m=\u001B[39m \u001B[38;5;28;01mNone\u001B[39;00m\n\u001B[1;32m     94\u001B[0m \u001B[38;5;28mself\u001B[39m\u001B[38;5;241m.\u001B[39m_packet \u001B[38;5;241m=\u001B[39m \u001B[38;5;28;01mNone\u001B[39;00m\n",
      "File \u001B[0;32m~/Library/CloudStorage/OneDrive-QMMachinesLTD/GitHub/qiskit-qm-provider/qiskit_qm_provider/parameter_table/parameter_pool.py:38\u001B[0m, in \u001B[0;36mParameterPool.get_id\u001B[0;34m(cls, obj)\u001B[0m\n\u001B[1;32m     36\u001B[0m         names\u001B[38;5;241m.\u001B[39mextend([p\u001B[38;5;241m.\u001B[39mname \u001B[38;5;28;01mfor\u001B[39;00m p \u001B[38;5;129;01min\u001B[39;00m param\u001B[38;5;241m.\u001B[39mparameters])\n\u001B[1;32m     37\u001B[0m \u001B[38;5;28;01mif\u001B[39;00m obj\u001B[38;5;241m.\u001B[39mname \u001B[38;5;129;01min\u001B[39;00m names:\n\u001B[0;32m---> 38\u001B[0m     \u001B[38;5;28;01mraise\u001B[39;00m \u001B[38;5;167;01mValueError\u001B[39;00m(\u001B[38;5;124mf\u001B[39m\u001B[38;5;124m\"\u001B[39m\u001B[38;5;124mParameter with name \u001B[39m\u001B[38;5;132;01m{\u001B[39;00mobj\u001B[38;5;241m.\u001B[39mname\u001B[38;5;132;01m}\u001B[39;00m\u001B[38;5;124m already exists.\u001B[39m\u001B[38;5;124m\"\u001B[39m)\n\u001B[1;32m     39\u001B[0m \u001B[38;5;28;01mif\u001B[39;00m \u001B[38;5;28mhasattr\u001B[39m(obj, \u001B[38;5;124m\"\u001B[39m\u001B[38;5;124mparameters\u001B[39m\u001B[38;5;124m\"\u001B[39m):\n\u001B[1;32m     40\u001B[0m     \u001B[38;5;28;01mfor\u001B[39;00m obj_param \u001B[38;5;129;01min\u001B[39;00m obj\u001B[38;5;241m.\u001B[39mparameters:\n",
      "\u001B[0;31mValueError\u001B[0m: Parameter with name real_time_qc_param_table already exists."
     ]
    }
   ],
   "execution_count": 19
  },
  {
   "metadata": {
    "ExecuteTime": {
     "end_time": "2025-05-01T09:26:55.650422Z",
     "start_time": "2025-05-01T09:26:55.646481Z"
    }
   },
   "cell_type": "code",
   "source": "q_env.backend._oq3_custom_gates",
   "id": "6c7672b287e1dc9f",
   "outputs": [
    {
     "data": {
      "text/plain": [
       "['x', 'rzz']"
      ]
     },
     "execution_count": 7,
     "metadata": {},
     "output_type": "execute_result"
    }
   ],
   "execution_count": 7
  },
  {
   "metadata": {
    "ExecuteTime": {
     "end_time": "2025-05-05T10:59:38.577850Z",
     "start_time": "2025-05-05T10:59:38.567260Z"
    }
   },
   "cell_type": "code",
   "source": [
    "from qiskit_qm_provider import ParameterPool\n",
    "\n",
    "ParameterPool.get_all()"
   ],
   "id": "c1cbcbdfa398de55",
   "outputs": [
    {
     "data": {
      "text/plain": [
       "{}"
      ]
     },
     "execution_count": 2,
     "metadata": {},
     "output_type": "execute_result"
    }
   ],
   "execution_count": 2
  },
  {
   "metadata": {
    "ExecuteTime": {
     "end_time": "2025-05-01T09:22:22.664743Z",
     "start_time": "2025-05-01T09:22:22.575206Z"
    }
   },
   "cell_type": "code",
   "source": "list(ParameterPool.get_all_objs())[1].name",
   "id": "cfb166378527f907",
   "outputs": [
    {
     "ename": "IndexError",
     "evalue": "list index out of range",
     "output_type": "error",
     "traceback": [
      "\u001B[0;31m---------------------------------------------------------------------------\u001B[0m",
      "\u001B[0;31mIndexError\u001B[0m                                Traceback (most recent call last)",
      "Cell \u001B[0;32mIn[56], line 1\u001B[0m\n\u001B[0;32m----> 1\u001B[0m \u001B[38;5;28mlist\u001B[39m(ParameterPool\u001B[38;5;241m.\u001B[39mget_all_objs())[\u001B[38;5;241m1\u001B[39m]\u001B[38;5;241m.\u001B[39mname\n",
      "\u001B[0;31mIndexError\u001B[0m: list index out of range"
     ]
    }
   ],
   "execution_count": 56
  },
  {
   "metadata": {
    "ExecuteTime": {
     "end_time": "2025-05-01T08:49:45.534433Z",
     "start_time": "2025-05-01T08:49:45.531703Z"
    }
   },
   "cell_type": "code",
   "source": "list(ParameterPool.get_all_objs())[3].stream_id",
   "id": "e6e9a69adacdfe0b",
   "outputs": [
    {
     "data": {
      "text/plain": [
       "4"
      ]
     },
     "execution_count": 31,
     "metadata": {},
     "output_type": "execute_result"
    }
   ],
   "execution_count": 31
  },
  {
   "metadata": {
    "ExecuteTime": {
     "end_time": "2025-05-01T08:49:48.711858Z",
     "start_time": "2025-05-01T08:49:48.708680Z"
    }
   },
   "cell_type": "code",
   "source": "ParameterPool.get_obj(3).get_parameter(\"input_state_1\")._table_indices",
   "id": "4dcf6250f5287df9",
   "outputs": [
    {
     "data": {
      "text/plain": [
       "{'ParameterTable_14991319376': 1,\n",
       " 'ParameterTable_14963846608': 5,\n",
       " 'ParameterTable_15011464080': 5}"
      ]
     },
     "execution_count": 32,
     "metadata": {},
     "output_type": "execute_result"
    }
   ],
   "execution_count": 32
  },
  {
   "metadata": {
    "ExecuteTime": {
     "end_time": "2025-05-01T09:23:58.626374Z",
     "start_time": "2025-05-01T09:23:58.607859Z"
    }
   },
   "cell_type": "code",
   "source": "list(ParameterPool.get_all_objs())[2]",
   "id": "d40beddd806e2dde",
   "outputs": [
    {
     "ename": "IndexError",
     "evalue": "list index out of range",
     "output_type": "error",
     "traceback": [
      "\u001B[0;31m---------------------------------------------------------------------------\u001B[0m",
      "\u001B[0;31mIndexError\u001B[0m                                Traceback (most recent call last)",
      "Cell \u001B[0;32mIn[60], line 1\u001B[0m\n\u001B[0;32m----> 1\u001B[0m \u001B[38;5;28mlist\u001B[39m(ParameterPool\u001B[38;5;241m.\u001B[39mget_all_objs())[\u001B[38;5;241m2\u001B[39m]\n",
      "\u001B[0;31mIndexError\u001B[0m: list index out of range"
     ]
    }
   ],
   "execution_count": 60
  },
  {
   "metadata": {
    "ExecuteTime": {
     "end_time": "2025-05-01T09:27:05.004894Z",
     "start_time": "2025-05-01T09:27:05.001776Z"
    }
   },
   "cell_type": "code",
   "source": "q_env.real_time_circuit.metadata[\"parameter_table\"]",
   "id": "75bc6d479b70db6f",
   "outputs": [
    {
     "data": {
      "text/plain": [
       "ParameterTable(Parameter(name=a_0_0, value=0.0, type=<class 'qm.qua._expressions.fixed'>, length=0, input_type=IO1, direction=OUTGOING, units=), Parameter(name=input_state_0, value=0, type=<class 'int'>, length=0, input_type=IO1, direction=OUTGOING, units=), Parameter(name=input_state_1, value=0, type=<class 'int'>, length=0, input_type=IO1, direction=OUTGOING, units=), Parameter(name=observable_1, value=0, type=<class 'int'>, length=0, input_type=IO1, direction=OUTGOING, units=), Parameter(name=observable_0, value=0, type=<class 'int'>, length=0, input_type=IO1, direction=OUTGOING, units=), Parameter(name=n_reps, value=0, type=<class 'int'>, length=0, input_type=IO1, direction=OUTGOING, units=), )"
      ]
     },
     "execution_count": 9,
     "metadata": {},
     "output_type": "execute_result"
    }
   ],
   "execution_count": 9
  },
  {
   "metadata": {
    "ExecuteTime": {
     "end_time": "2025-05-01T09:27:19.771616Z",
     "start_time": "2025-05-01T09:27:19.601300Z"
    }
   },
   "cell_type": "code",
   "source": "result = q_env.backend.quantum_circuit_to_qua(q_env.real_time_circuit).result_program",
   "id": "16cb8f88d320ccfd",
   "outputs": [],
   "execution_count": 10
  },
  {
   "metadata": {
    "ExecuteTime": {
     "end_time": "2025-05-01T06:09:14.169783Z",
     "start_time": "2025-05-01T06:09:14.166373Z"
    }
   },
   "cell_type": "code",
   "source": "result[\"meas\"]",
   "id": "83a6700a4e47260a",
   "outputs": [
    {
     "data": {
      "text/plain": [
       "<qm.qua._expressions.QuaArrayVariable at 0x39834f490>"
      ]
     },
     "execution_count": 7,
     "metadata": {},
     "output_type": "execute_result"
    }
   ],
   "execution_count": 7
  },
  {
   "metadata": {
    "ExecuteTime": {
     "end_time": "2025-05-01T06:09:15.391152Z",
     "start_time": "2025-05-01T06:09:15.387592Z"
    }
   },
   "cell_type": "code",
   "source": "q_env.real_time_circuit.iter_input_vars()",
   "id": "413d5f7c7a9ee2e",
   "outputs": [
    {
     "data": {
      "text/plain": [
       "dict_values([Var(5c83651f-ac29-4a00-96bc-569aa362f3c3, Uint(8), name='n_reps'), Var(79928fcb-c37a-41a7-801c-6a61b27f0a19, Uint(4), name='observable_1'), Var(ca50980c-4c06-4dd1-b48b-75024e5019b6, Uint(4), name='observable_0'), Var(4465d6f5-bb30-4892-b0b4-dff812c8f0b4, Uint(4), name='input_state_1'), Var(a859f3dc-2bf0-4088-9ce9-ef3d90da4d2c, Uint(4), name='input_state_0')])"
      ]
     },
     "execution_count": 8,
     "metadata": {},
     "output_type": "execute_result"
    }
   ],
   "execution_count": 8
  },
  {
   "metadata": {
    "ExecuteTime": {
     "end_time": "2025-05-01T09:27:25.656089Z",
     "start_time": "2025-05-01T09:27:25.123415Z"
    }
   },
   "cell_type": "code",
   "source": [
    "from qm import generate_qua_script\n",
    "\n",
    "print(generate_qua_script(result.dsl_program))"
   ],
   "id": "3ce6a3ab5acd673",
   "outputs": [
    {
     "name": "stdout",
     "output_type": "stream",
     "text": [
      "\n",
      "# Single QUA script generated at 2025-05-01 17:27:25.654822\n",
      "# QUA library version: 1.2.2rc2+dgx1\n",
      "\n",
      "\n",
      "from qm import CompilerOptionArguments\n",
      "from qm.qua import *\n",
      "\n",
      "with program() as prog:\n",
      "    input_stream_a_0_0 = declare_input_stream(fixed, 'a_0_0', value=0.0)\n",
      "    input_stream_input_state_0 = declare_input_stream(int, 'input_state_0', value=0)\n",
      "    input_stream_input_state_1 = declare_input_stream(int, 'input_state_1', value=0)\n",
      "    input_stream_observable_1 = declare_input_stream(int, 'observable_1', value=0)\n",
      "    input_stream_observable_0 = declare_input_stream(int, 'observable_0', value=0)\n",
      "    input_stream_n_reps = declare_input_stream(int, 'n_reps', value=0)\n",
      "    a1 = declare(bool, value=[False, False])\n",
      "    v1 = declare(int, value=0)\n",
      "    v2 = declare(int, value=0)\n",
      "    v3 = declare(int, value=0)\n",
      "    v4 = declare(int, value=0)\n",
      "    v5 = declare(int, value=0)\n",
      "    v6 = declare(fixed, value=0.0)\n",
      "    v7 = declare(int, )\n",
      "    v8 = declare(fixed, )\n",
      "    v9 = declare(fixed, )\n",
      "    v10 = declare(fixed, )\n",
      "    v11 = declare(fixed, )\n",
      "    v12 = declare(bool, )\n",
      "    v13 = declare(int, value=1)\n",
      "    v14 = declare(int, )\n",
      "    v15 = declare(fixed, )\n",
      "    v16 = declare(fixed, )\n",
      "    v17 = declare(fixed, )\n",
      "    v18 = declare(fixed, )\n",
      "    v19 = declare(bool, )\n",
      "    v20 = declare(int, value=1)\n",
      "    advance_input_stream(input_stream_a_0_0)\n",
      "    advance_input_stream(input_stream_input_state_0)\n",
      "    advance_input_stream(input_stream_input_state_1)\n",
      "    advance_input_stream(input_stream_observable_1)\n",
      "    advance_input_stream(input_stream_observable_0)\n",
      "    advance_input_stream(input_stream_n_reps)\n",
      "    assign(v1, input_stream_input_state_0)\n",
      "    with if_((v1==1), unsafe=True):\n",
      "        align(\"q1.resonator\", \"q1.xy\", \"q1.z\")\n",
      "        play(\"x180_DragCosine\", \"q1.xy\")\n",
      "        align(\"q1.resonator\", \"q1.xy\", \"q1.z\")\n",
      "    with elif_((v1==2)):\n",
      "        align(\"q1.resonator\", \"q1.xy\", \"q1.z\")\n",
      "        frame_rotation_2pi(1.5707963267948966, \"q1.xy\")\n",
      "        align(\"q1.resonator\", \"q1.xy\", \"q1.z\")\n",
      "        align(\"q1.resonator\", \"q1.xy\", \"q1.z\")\n",
      "        play(\"x90_DragCosine\", \"q1.xy\")\n",
      "        align(\"q1.resonator\", \"q1.xy\", \"q1.z\")\n",
      "        align(\"q1.resonator\", \"q1.xy\", \"q1.z\")\n",
      "        frame_rotation_2pi(1.5707963267948966, \"q1.xy\")\n",
      "        align(\"q1.resonator\", \"q1.xy\", \"q1.z\")\n",
      "    with elif_((v1==3)):\n",
      "        align(\"q1.resonator\", \"q1.xy\", \"q1.z\")\n",
      "        frame_rotation_2pi(1.5707963267948966, \"q1.xy\")\n",
      "        align(\"q1.resonator\", \"q1.xy\", \"q1.z\")\n",
      "        align(\"q1.resonator\", \"q1.xy\", \"q1.z\")\n",
      "        play(\"x90_DragCosine\", \"q1.xy\")\n",
      "        align(\"q1.resonator\", \"q1.xy\", \"q1.z\")\n",
      "        align(\"q1.resonator\", \"q1.xy\", \"q1.z\")\n",
      "        frame_rotation_2pi(-1.570796326794897, \"q1.xy\")\n",
      "        align(\"q1.resonator\", \"q1.xy\", \"q1.z\")\n",
      "    with elif_((v1==4)):\n",
      "        align(\"q1.resonator\", \"q1.xy\", \"q1.z\")\n",
      "        frame_rotation_2pi(1.5707963267948966, \"q1.xy\")\n",
      "        align(\"q1.resonator\", \"q1.xy\", \"q1.z\")\n",
      "        align(\"q1.resonator\", \"q1.xy\", \"q1.z\")\n",
      "        play(\"x90_DragCosine\", \"q1.xy\")\n",
      "        align(\"q1.resonator\", \"q1.xy\", \"q1.z\")\n",
      "        align(\"q1.resonator\", \"q1.xy\", \"q1.z\")\n",
      "        frame_rotation_2pi(-3.141592653589793, \"q1.xy\")\n",
      "        align(\"q1.resonator\", \"q1.xy\", \"q1.z\")\n",
      "    with elif_((v1==5)):\n",
      "        align(\"q1.resonator\", \"q1.xy\", \"q1.z\")\n",
      "        frame_rotation_2pi(1.5707963267948966, \"q1.xy\")\n",
      "        align(\"q1.resonator\", \"q1.xy\", \"q1.z\")\n",
      "        align(\"q1.resonator\", \"q1.xy\", \"q1.z\")\n",
      "        play(\"x90_DragCosine\", \"q1.xy\")\n",
      "        align(\"q1.resonator\", \"q1.xy\", \"q1.z\")\n",
      "    assign(v2, input_stream_input_state_1)\n",
      "    with if_((v2==1), unsafe=True):\n",
      "        align(\"q2.resonator\", \"q2.xy\", \"q2.z\")\n",
      "        play(\"x180_DragCosine\", \"q2.xy\")\n",
      "        align(\"q2.resonator\", \"q2.xy\", \"q2.z\")\n",
      "    with elif_((v2==2)):\n",
      "        align(\"q2.resonator\", \"q2.xy\", \"q2.z\")\n",
      "        frame_rotation_2pi(1.5707963267948966, \"q2.xy\")\n",
      "        align(\"q2.resonator\", \"q2.xy\", \"q2.z\")\n",
      "        align(\"q2.resonator\", \"q2.xy\", \"q2.z\")\n",
      "        play(\"x90_DragCosine\", \"q2.xy\")\n",
      "        align(\"q2.resonator\", \"q2.xy\", \"q2.z\")\n",
      "        align(\"q2.resonator\", \"q2.xy\", \"q2.z\")\n",
      "        frame_rotation_2pi(1.5707963267948966, \"q2.xy\")\n",
      "        align(\"q2.resonator\", \"q2.xy\", \"q2.z\")\n",
      "    with elif_((v2==3)):\n",
      "        align(\"q2.resonator\", \"q2.xy\", \"q2.z\")\n",
      "        frame_rotation_2pi(1.5707963267948966, \"q2.xy\")\n",
      "        align(\"q2.resonator\", \"q2.xy\", \"q2.z\")\n",
      "        align(\"q2.resonator\", \"q2.xy\", \"q2.z\")\n",
      "        play(\"x90_DragCosine\", \"q2.xy\")\n",
      "        align(\"q2.resonator\", \"q2.xy\", \"q2.z\")\n",
      "        align(\"q2.resonator\", \"q2.xy\", \"q2.z\")\n",
      "        frame_rotation_2pi(-1.570796326794897, \"q2.xy\")\n",
      "        align(\"q2.resonator\", \"q2.xy\", \"q2.z\")\n",
      "    with elif_((v2==4)):\n",
      "        align(\"q2.resonator\", \"q2.xy\", \"q2.z\")\n",
      "        frame_rotation_2pi(1.5707963267948966, \"q2.xy\")\n",
      "        align(\"q2.resonator\", \"q2.xy\", \"q2.z\")\n",
      "        align(\"q2.resonator\", \"q2.xy\", \"q2.z\")\n",
      "        play(\"x90_DragCosine\", \"q2.xy\")\n",
      "        align(\"q2.resonator\", \"q2.xy\", \"q2.z\")\n",
      "        align(\"q2.resonator\", \"q2.xy\", \"q2.z\")\n",
      "        frame_rotation_2pi(-3.141592653589793, \"q2.xy\")\n",
      "        align(\"q2.resonator\", \"q2.xy\", \"q2.z\")\n",
      "    with elif_((v2==5)):\n",
      "        align(\"q2.resonator\", \"q2.xy\", \"q2.z\")\n",
      "        frame_rotation_2pi(1.5707963267948966, \"q2.xy\")\n",
      "        align(\"q2.resonator\", \"q2.xy\", \"q2.z\")\n",
      "        align(\"q2.resonator\", \"q2.xy\", \"q2.z\")\n",
      "        play(\"x90_DragCosine\", \"q2.xy\")\n",
      "        align(\"q2.resonator\", \"q2.xy\", \"q2.z\")\n",
      "    with for_(v5,0,(input_stream_n_reps>=v5),(v5+1)):\n",
      "        align(\"q1.resonator\", \"q1.xy\", \"q1.z\", \"q2.resonator\", \"q2.xy\", \"q2.z\")\n",
      "        assign(v6, input_stream_a_0_0)\n",
      "        play(\"block0_015390730832\", \"q1.z\")\n",
      "        play(\"block0_115390731216\"*amp((10.0*v6)), \"coupler_q1_q2\")\n",
      "        align(\"q1.resonator\", \"q1.xy\", \"q1.z\", \"q2.resonator\", \"q2.xy\", \"q2.z\")\n",
      "    assign(v3, input_stream_observable_0)\n",
      "    with if_((v3==1), unsafe=True):\n",
      "        align(\"q1.resonator\", \"q1.xy\", \"q1.z\")\n",
      "        frame_rotation_2pi(1.5707963267948966, \"q1.xy\")\n",
      "        align(\"q1.resonator\", \"q1.xy\", \"q1.z\")\n",
      "        align(\"q1.resonator\", \"q1.xy\", \"q1.z\")\n",
      "        play(\"x90_DragCosine\", \"q1.xy\")\n",
      "        align(\"q1.resonator\", \"q1.xy\", \"q1.z\")\n",
      "        align(\"q1.resonator\", \"q1.xy\", \"q1.z\")\n",
      "        frame_rotation_2pi(1.5707963267948966, \"q1.xy\")\n",
      "        align(\"q1.resonator\", \"q1.xy\", \"q1.z\")\n",
      "    with elif_((v3==2)):\n",
      "        align(\"q1.resonator\", \"q1.xy\", \"q1.z\")\n",
      "        play(\"x90_DragCosine\", \"q1.xy\")\n",
      "        align(\"q1.resonator\", \"q1.xy\", \"q1.z\")\n",
      "        align(\"q1.resonator\", \"q1.xy\", \"q1.z\")\n",
      "        frame_rotation_2pi(1.5707963267948966, \"q1.xy\")\n",
      "        align(\"q1.resonator\", \"q1.xy\", \"q1.z\")\n",
      "    assign(v4, input_stream_observable_1)\n",
      "    with if_((v4==1), unsafe=True):\n",
      "        align(\"q2.resonator\", \"q2.xy\", \"q2.z\")\n",
      "        frame_rotation_2pi(1.5707963267948966, \"q2.xy\")\n",
      "        align(\"q2.resonator\", \"q2.xy\", \"q2.z\")\n",
      "        align(\"q2.resonator\", \"q2.xy\", \"q2.z\")\n",
      "        play(\"x90_DragCosine\", \"q2.xy\")\n",
      "        align(\"q2.resonator\", \"q2.xy\", \"q2.z\")\n",
      "        align(\"q2.resonator\", \"q2.xy\", \"q2.z\")\n",
      "        frame_rotation_2pi(1.5707963267948966, \"q2.xy\")\n",
      "        align(\"q2.resonator\", \"q2.xy\", \"q2.z\")\n",
      "    with elif_((v4==2)):\n",
      "        align(\"q2.resonator\", \"q2.xy\", \"q2.z\")\n",
      "        play(\"x90_DragCosine\", \"q2.xy\")\n",
      "        align(\"q2.resonator\", \"q2.xy\", \"q2.z\")\n",
      "        align(\"q2.resonator\", \"q2.xy\", \"q2.z\")\n",
      "        frame_rotation_2pi(1.5707963267948966, \"q2.xy\")\n",
      "        align(\"q2.resonator\", \"q2.xy\", \"q2.z\")\n",
      "    align(\"q1.resonator\", \"q1.xy\", \"q1.z\")\n",
      "    measure(\"readout\", \"q1.resonator\", dual_demod.full(\"iw1\", \"iw2\", v8), dual_demod.full(\"iw3\", \"iw1\", v9))\n",
      "    assign(v7, Cast.to_int((v8>-1.628262415766392e-05)))\n",
      "    align(\"q1.resonator\", \"q1.xy\", \"q1.z\")\n",
      "    assign(a1[0], v7)\n",
      "    align(\"q1.resonator\", \"q1.xy\", \"q1.z\")\n",
      "    assign(v13, 1)\n",
      "    align(\"q1.resonator\", \"q1.xy\", \"q1.z\")\n",
      "    measure(\"readout\", \"q1.resonator\", dual_demod.full(\"iw1\", \"iw2\", v10), dual_demod.full(\"iw3\", \"iw1\", v11))\n",
      "    assign(v12, (v10>-1.628262415766392e-05))\n",
      "    wait(30000, \"q1.resonator\")\n",
      "    play(\"x180_DragCosine\", \"q1.xy\", condition=v12)\n",
      "    align(\"q1.resonator\", \"q1.xy\", \"q1.z\")\n",
      "    with while_(((v10>-0.00014833485972262327)&(v13<5))):\n",
      "        align(\"q1.resonator\", \"q1.xy\", \"q1.z\")\n",
      "        measure(\"readout\", \"q1.resonator\", dual_demod.full(\"iw1\", \"iw2\", v10), dual_demod.full(\"iw3\", \"iw1\", v11))\n",
      "        assign(v12, (v10>-1.628262415766392e-05))\n",
      "        wait(30000, \"q1.resonator\")\n",
      "        play(\"x180_DragCosine\", \"q1.xy\", condition=v12)\n",
      "        align(\"q1.resonator\", \"q1.xy\", \"q1.z\")\n",
      "        assign(v13, (v13+1))\n",
      "    wait(500, \"q1.xy\")\n",
      "    align(\"q1.resonator\", \"q1.xy\", \"q1.z\")\n",
      "    align(\"q1.resonator\", \"q1.xy\", \"q1.z\")\n",
      "    align(\"q2.resonator\", \"q2.xy\", \"q2.z\")\n",
      "    measure(\"readout\", \"q2.resonator\", dual_demod.full(\"iw1\", \"iw2\", v15), dual_demod.full(\"iw3\", \"iw1\", v16))\n",
      "    assign(v14, Cast.to_int((v15>1.6458857692958052e-05)))\n",
      "    align(\"q2.resonator\", \"q2.xy\", \"q2.z\")\n",
      "    assign(a1[1], v14)\n",
      "    align(\"q2.resonator\", \"q2.xy\", \"q2.z\")\n",
      "    assign(v20, 1)\n",
      "    align(\"q2.xy\", \"q2.z\", \"q2.resonator\")\n",
      "    measure(\"readout\", \"q2.resonator\", dual_demod.full(\"iw1\", \"iw2\", v17), dual_demod.full(\"iw3\", \"iw1\", v18))\n",
      "    assign(v19, (v17>1.6458857692958052e-05))\n",
      "    wait(30000, \"q2.resonator\")\n",
      "    play(\"x180_DragCosine\", \"q2.xy\", condition=v19)\n",
      "    align(\"q2.xy\", \"q2.z\", \"q2.resonator\")\n",
      "    with while_(((v17>-0.00010207124671233987)&(v20<5))):\n",
      "        align(\"q2.xy\", \"q2.z\", \"q2.resonator\")\n",
      "        measure(\"readout\", \"q2.resonator\", dual_demod.full(\"iw1\", \"iw2\", v17), dual_demod.full(\"iw3\", \"iw1\", v18))\n",
      "        assign(v19, (v17>1.6458857692958052e-05))\n",
      "        wait(30000, \"q2.resonator\")\n",
      "        play(\"x180_DragCosine\", \"q2.xy\", condition=v19)\n",
      "        align(\"q2.xy\", \"q2.z\", \"q2.resonator\")\n",
      "        assign(v20, (v20+1))\n",
      "    wait(500, \"q2.xy\")\n",
      "    align(\"q2.xy\", \"q2.z\", \"q2.resonator\")\n",
      "    align(\"q2.resonator\", \"q2.xy\", \"q2.z\")\n",
      "\n",
      "config = None\n",
      "\n",
      "loaded_config = None\n",
      "\n",
      "\n"
     ]
    }
   ],
   "execution_count": 11
  },
  {
   "metadata": {
    "ExecuteTime": {
     "end_time": "2025-05-01T09:28:27.434540Z",
     "start_time": "2025-05-01T09:28:26.030604Z"
    }
   },
   "cell_type": "code",
   "source": "print(generate_qua_script(q_env.rl_qoc_training_qua_prog()))",
   "id": "72c4cd0fef918a82",
   "outputs": [
    {
     "name": "stderr",
     "output_type": "stream",
     "text": [
      "/Users/arthurostrauss/Library/CloudStorage/OneDrive-NationalUniversityofSingapore/Coding_projects/Quantum_Optimal_Control/rl_qoc/qua/parameter_table/parameter_table.py:248: UserWarning: Variable a_0_0 already declared.\n",
      "  continue\n"
     ]
    },
    {
     "name": "stdout",
     "output_type": "stream",
     "text": [
      "\n",
      "# Single QUA script generated at 2025-05-01 17:28:27.432256\n",
      "# QUA library version: 1.2.2rc2+dgx1\n",
      "\n",
      "\n",
      "from qm import CompilerOptionArguments\n",
      "from qm.qua import *\n",
      "\n",
      "with program() as prog:\n",
      "    v1 = declare(int, value=0)\n",
      "    v2 = declare(int, value=0)\n",
      "    v3 = declare(int, value=0)\n",
      "    a1 = declare(fixed, value=[0.0])\n",
      "    v4 = declare(int, )\n",
      "    a2 = declare(fixed, value=[1.0])\n",
      "    v5 = declare(int, )\n",
      "    a3 = declare(int, value=[0, 0, 0, 0])\n",
      "    v6 = declare(int, )\n",
      "    v7 = declare(int, value=0)\n",
      "    v8 = declare(int, value=0)\n",
      "    v9 = declare(int, value=0)\n",
      "    v10 = declare(int, )\n",
      "    v11 = declare(int, value=0)\n",
      "    v12 = declare(int, value=100)\n",
      "    v13 = declare(int, )\n",
      "    v14 = declare(int, )\n",
      "    v15 = declare(int, )\n",
      "    v16 = declare(int, )\n",
      "    a4 = declare(fixed, value=[-1.0])\n",
      "    a5 = declare(fixed, value=[1.0])\n",
      "    v17 = declare(int, )\n",
      "    a6 = declare(fixed, value=[1.0, 0.9999247018391445, 0.9996988186962042, 0.9993223845883495, 0.9987954562051724, 0.9981181129001492, 0.9972904566786902, 0.996312612182778, 0.9951847266721969, 0.9939069700023561, 0.99247953459871, 0.99090263542778, 0.989176509964781, 0.9873014181578584, 0.9852776423889412, 0.9831054874312163, 0.9807852804032304, 0.9783173707196277, 0.9757021300385286, 0.9729399522055602, 0.970031253194544, 0.9669764710448521, 0.9637760657954398, 0.9604305194155658, 0.9569403357322088, 0.9533060403541939, 0.9495281805930367, 0.9456073253805213, 0.9415440651830208, 0.937339011912575, 0.932992798834739, 0.9285060804732156, 0.9238795325112867, 0.9191138516900578, 0.9142097557035307, 0.9091679830905224, 0.9039892931234433, 0.8986744656939538, 0.8932243011955153, 0.8876396204028539, 0.881921264348355, 0.8760700941954066, 0.8700869911087115, 0.8639728561215867, 0.8577286100002721, 0.8513551931052652, 0.8448535652497071, 0.8382247055548381, 0.8314696123025452, 0.8245893027850253, 0.8175848131515837, 0.8104571982525948, 0.8032075314806449, 0.7958369046088836, 0.7883464276266062, 0.7807372285720945, 0.773010453362737, 0.765167265622459, 0.7572088465064846, 0.7491363945234594, 0.7409511253549592, 0.7326542716724128, 0.724247082951467, 0.7157308252838187, 0.7071067811865476, 0.6983762494089729, 0.6895405447370669, 0.680600997795453, 0.6715589548470183, 0.6624157775901718, 0.6531728429537769, 0.6438315428897915, 0.6343932841636455, 0.6248594881423865, 0.6152315905806268, 0.6055110414043255, 0.5956993044924335, 0.5857978574564389, 0.5758081914178453, 0.5657318107836132, 0.5555702330196023, 0.5453249884220465, 0.5349976198870973, 0.5245896826784688, 0.5141027441932217, 0.5035383837257176, 0.4928981922297841, 0.48218377207912283, 0.4713967368259978, 0.46053871095824, 0.4496113296546066, 0.4386162385385277, 0.4275550934302822, 0.4164295600976373, 0.40524131400498986, 0.3939920400610481, 0.38268343236508984, 0.3713171939518376, 0.3598950365349883, 0.3484186802494345, 0.33688985339222005, 0.325310292162263, 0.3136817403988916, 0.3020059493192282, 0.29028467725446233, 0.27851968938505306, 0.2667127574748984, 0.2548656596045146, 0.24298017990326398, 0.23105810828067128, 0.21910124015686977, 0.20711137619221856, 0.19509032201612833, 0.18303988795514106, 0.17096188876030136, 0.1588581433338614, 0.14673047445536175, 0.13458070850712622, 0.12241067519921628, 0.11022220729388318, 0.09801714032956077, 0.08579731234443988, 0.07356456359966745, 0.06132073630220865, 0.049067674327418126, 0.03680722294135899, 0.024541228522912264, 0.012271538285719944, 6.123233995736766e-17, -0.012271538285719823, -0.024541228522912142, -0.036807222941358866, -0.04906767432741801, -0.06132073630220853, -0.07356456359966733, -0.08579731234443976, -0.09801714032956065, -0.11022220729388306, -0.12241067519921615, -0.1345807085071261, -0.14673047445536164, -0.15885814333386128, -0.17096188876030124, -0.18303988795514092, -0.1950903220161282, -0.20711137619221845, -0.21910124015686966, -0.23105810828067114, -0.24298017990326387, -0.2548656596045145, -0.2667127574748983, -0.27851968938505295, -0.29028467725446216, -0.3020059493192281, -0.3136817403988914, -0.32531029216226287, -0.33688985339221994, -0.3484186802494344, -0.35989503653498817, -0.3713171939518375, -0.3826834323650897, -0.393992040061048, -0.40524131400498975, -0.416429560097637, -0.42755509343028186, -0.4386162385385274, -0.4496113296546067, -0.46053871095824006, -0.4713967368259977, -0.4821837720791228, -0.492898192229784, -0.5035383837257175, -0.5141027441932217, -0.5245896826784687, -0.534997619887097, -0.5453249884220462, -0.555570233019602, -0.5657318107836133, -0.5758081914178453, -0.5857978574564389, -0.5956993044924334, -0.6055110414043254, -0.6152315905806268, -0.6248594881423862, -0.6343932841636454, -0.6438315428897913, -0.6531728429537765, -0.6624157775901719, -0.6715589548470184, -0.6806009977954531, -0.6895405447370669, -0.6983762494089728, -0.7071067811865475, -0.7157308252838186, -0.7242470829514668, -0.7326542716724127, -0.7409511253549589, -0.7491363945234591, -0.7572088465064846, -0.765167265622459, -0.773010453362737, -0.7807372285720945, -0.7883464276266062, -0.7958369046088835, -0.8032075314806448, -0.8104571982525947, -0.8175848131515836, -0.8245893027850251, -0.8314696123025453, -0.8382247055548381, -0.8448535652497071, -0.8513551931052651, -0.857728610000272, -0.8639728561215867, -0.8700869911087113, -0.8760700941954065, -0.8819212643483549, -0.8876396204028538, -0.8932243011955152, -0.8986744656939539, -0.9039892931234433, -0.9091679830905224, -0.9142097557035307, -0.9191138516900577, -0.9238795325112867, -0.9285060804732155, -0.9329927988347388, -0.9373390119125748, -0.9415440651830207, -0.9456073253805213, -0.9495281805930367, -0.9533060403541939, -0.9569403357322088, -0.9604305194155658, -0.9637760657954398, -0.9669764710448521, -0.970031253194544, -0.9729399522055601, -0.9757021300385285, -0.9783173707196275, -0.9807852804032304, -0.9831054874312163, -0.9852776423889412, -0.9873014181578584, -0.989176509964781, -0.99090263542778, -0.99247953459871, -0.9939069700023561, -0.9951847266721968, -0.996312612182778, -0.9972904566786902, -0.9981181129001492, -0.9987954562051724, -0.9993223845883495, -0.9996988186962042, -0.9999247018391445, -1.0, -0.9999247018391445, -0.9996988186962042, -0.9993223845883495, -0.9987954562051724, -0.9981181129001492, -0.9972904566786902, -0.996312612182778, -0.9951847266721969, -0.9939069700023561, -0.99247953459871, -0.99090263542778, -0.989176509964781, -0.9873014181578584, -0.9852776423889413, -0.9831054874312164, -0.9807852804032304, -0.9783173707196277, -0.9757021300385286, -0.9729399522055602, -0.970031253194544, -0.9669764710448522, -0.96377606579544, -0.9604305194155659, -0.9569403357322089, -0.953306040354194, -0.9495281805930368, -0.9456073253805213, -0.9415440651830208, -0.937339011912575, -0.932992798834739, -0.9285060804732156, -0.9238795325112868, -0.9191138516900578, -0.9142097557035308, -0.9091679830905225, -0.9039892931234434, -0.898674465693954, -0.8932243011955153, -0.8876396204028539, -0.881921264348355, -0.8760700941954066, -0.8700869911087115, -0.8639728561215868, -0.8577286100002722, -0.8513551931052653, -0.8448535652497072, -0.8382247055548382, -0.8314696123025455, -0.8245893027850253, -0.8175848131515837, -0.8104571982525948, -0.8032075314806449, -0.7958369046088837, -0.7883464276266063, -0.7807372285720946, -0.7730104533627371, -0.7651672656224591, -0.7572088465064848, -0.7491363945234593, -0.7409511253549591, -0.7326542716724129, -0.724247082951467, -0.7157308252838187, -0.7071067811865477, -0.698376249408973, -0.689540544737067, -0.6806009977954532, -0.6715589548470187, -0.662415777590172, -0.6531728429537771, -0.6438315428897915, -0.6343932841636458, -0.6248594881423865, -0.6152315905806273, -0.6055110414043257, -0.5956993044924331, -0.5857978574564391, -0.5758081914178452, -0.5657318107836135, -0.5555702330196022, -0.5453249884220468, -0.5349976198870973, -0.5245896826784694, -0.5141027441932218, -0.503538383725718, -0.4928981922297842, -0.48218377207912255, -0.4713967368259979, -0.4605387109582399, -0.44961132965460693, -0.4386162385385276, -0.4275550934302825, -0.4164295600976372, -0.40524131400499036, -0.3939920400610482, -0.38268343236509034, -0.37131719395183777, -0.359895036534988, -0.34841868024943484, -0.33688985339221994, -0.3253102921622633, -0.31368174039889146, -0.30200594931922853, -0.29028467725446244, -0.2785196893850536, -0.26671275747489853, -0.25486565960451435, -0.24298017990326412, -0.23105810828067094, -0.2191012401568701, -0.20711137619221848, -0.19509032201612866, -0.18303988795514095, -0.1709618887603017, -0.15885814333386153, -0.1467304744553623, -0.13458070850712636, -0.12241067519921596, -0.11022220729388331, -0.09801714032956045, -0.08579731234444023, -0.07356456359966736, -0.061320736302208995, -0.04906767432741803, -0.03680722294135933, -0.02454122852291239, -0.012271538285720512, -1.8369701987210297e-16, 0.012271538285720144, 0.02454122852291202, 0.036807222941358964, 0.04906767432741766, 0.06132073630220863, 0.07356456359966698, 0.08579731234443985, 0.09801714032956009, 0.11022220729388293, 0.1224106751992156, 0.13458070850712597, 0.14673047445536194, 0.15885814333386117, 0.17096188876030133, 0.1830398879551406, 0.1950903220161283, 0.20711137619221812, 0.21910124015686974, 0.23105810828067058, 0.24298017990326376, 0.25486565960451396, 0.2667127574748982, 0.2785196893850533, 0.29028467725446205, 0.30200594931922814, 0.31368174039889113, 0.3253102921622629, 0.3368898533922196, 0.3484186802494345, 0.3598950365349876, 0.3713171939518374, 0.38268343236509, 0.3939920400610479, 0.40524131400499, 0.4164295600976369, 0.42755509343028214, 0.43861623853852727, 0.4496113296546066, 0.4605387109582396, 0.4713967368259976, 0.4821837720791222, 0.49289819222978387, 0.5035383837257178, 0.5141027441932216, 0.5245896826784691, 0.5349976198870969, 0.5453249884220465, 0.5555702330196018, 0.5657318107836132, 0.5758081914178449, 0.5857978574564388, 0.5956993044924329, 0.6055110414043253, 0.615231590580627, 0.6248594881423861, 0.6343932841636456, 0.6438315428897912, 0.6531728429537768, 0.6624157775901715, 0.6715589548470184, 0.6806009977954527, 0.6895405447370668, 0.6983762494089725, 0.7071067811865474, 0.7157308252838188, 0.7242470829514667, 0.7326542716724129, 0.7409511253549588, 0.7491363945234593, 0.7572088465064842, 0.7651672656224588, 0.7730104533627367, 0.7807372285720944, 0.7883464276266059, 0.7958369046088833, 0.803207531480645, 0.8104571982525947, 0.8175848131515837, 0.8245893027850251, 0.8314696123025452, 0.8382247055548377, 0.844853565249707, 0.8513551931052649, 0.857728610000272, 0.8639728561215864, 0.8700869911087112, 0.8760700941954067, 0.8819212643483548, 0.8876396204028539, 0.8932243011955151, 0.8986744656939538, 0.9039892931234431, 0.9091679830905224, 0.9142097557035304, 0.9191138516900577, 0.9238795325112865, 0.9285060804732155, 0.932992798834739, 0.9373390119125748, 0.9415440651830208, 0.9456073253805212, 0.9495281805930367, 0.9533060403541936, 0.9569403357322088, 0.9604305194155657, 0.9637760657954398, 0.9669764710448522, 0.970031253194544, 0.9729399522055602, 0.9757021300385285, 0.9783173707196277, 0.9807852804032303, 0.9831054874312163, 0.9852776423889411, 0.9873014181578583, 0.9891765099647809, 0.99090263542778, 0.99247953459871, 0.9939069700023561, 0.9951847266721969, 0.996312612182778, 0.9972904566786902, 0.9981181129001492, 0.9987954562051724, 0.9993223845883494, 0.9996988186962042, 0.9999247018391445])\n",
      "    a7 = declare(fixed, value=[3.5327824289561818, 3.330804306653522, 3.2067627154196052, 3.115760415709423, 3.043300160265717, 2.9827894246636704, 2.9306537482669137, 2.8847302485643036, 2.8436073103839603, 2.8063110134754217, 2.77214017407937, 2.740572639206182, 2.7112087664763966, 2.683735648515148, 2.6579035513233205, 2.633509871988707, 2.6103879026361403, 2.588398766525206, 2.567425506613319, 2.54736867045851, 2.5281429577645906, 2.5096746370047467, 2.4918995281678673, 2.474761408630264, 2.458210739665161, 2.4422036389905277, 2.4267010442847883, 2.4116680264893695, 2.397073221736998, 2.382888358068256, 2.369087858516701, 2.355648506195711, 2.3425491600836423, 2.3297705125417862, 2.3172948814000156, 2.305106030843119, 2.293189016425181, 2.28153005040231, 2.2701163842592402, 2.2589362058530265, 2.24797854903754, 2.2372332139888327, 2.2266906967413354, 2.2163421266819383, 2.206179210943866, 2.1961941848031903, 2.1863797673143206, 2.1767291215320657, 2.167235818760913, 2.1578938063503603, 2.1486973786210304, 2.139641150562095, 2.1307200339878762, 2.1219292158818566, 2.113264138690807, 2.1047204823613135, 2.09629414793641, 2.0879812425519297, 2.079778065691169, 2.0716810965728625, 2.0636869825617734, 2.055792528503632, 2.0479946868970322, 2.040290548824406, 2.032677335572536, 2.0251523908804216, 2.0177131737587497, 2.010357251830959, 2.003082295150906, 1.9958860704566335, 1.9887664358237014, 1.9817213356850727, 1.9747487961876966, 1.9678469208587337, 1.9610138865568796, 1.9542479396864865, 1.9475473926541997, 1.9409106205496316, 1.9343360580332198, 1.9278221964158873, 1.921367580916432, 1.9149708080837768, 1.90863052337228, 1.9023454188592859, 1.8961142310949797, 1.889935739075412, 1.8838087623302882, 1.8777321591177818, 1.8717048247192343, 1.865725689827154, 1.8597937190204292, 1.8539079093211341, 1.8480672888277168, 1.842270915419752, 1.8365178755297913, 1.8308072829781583, 1.8251382778668508, 1.8195100255289596, 1.8139217155302925, 1.8083725607200958, 1.8028617963279994, 1.7973886791044937, 1.7919524865024372, 1.78655251589725, 1.781188083843616, 1.775858525366648, 1.7705631932856072, 1.765301457568395, 1.7600727047151352, 1.7548763371692908, 1.7497117727548361, 1.7445784441381105, 1.7394757983130602, 1.7344032961086497, 1.7293604117173027, 1.7243466322432999, 1.719361457270119, 1.714404398445772, 1.7094749790852397, 1.704572733789159, 1.6996972080779733, 1.6948479580407874, 1.6900245499982254, 1.6852265601786205, 1.6804535744069031, 1.6757051878055946, 1.6709810045073394, 1.6662806373784413, 1.6616037077529031, 1.656949845176484, 1.65231868716033, 1.647709878943741, 1.6431230732656734, 1.638557930144588, 1.6340141166662792, 1.6294913067793382, 1.6249891810979202, 1.6205074267115007, 1.616045737001325, 1.6116038114632674, 1.6071813555368302, 1.602778080440027, 1.5983937030099076, 1.5940279455484894, 1.5896805356738788, 1.5853512061763686, 1.5810396948793115, 1.576745744504582, 1.5724691025424382, 1.568209521125614, 1.5639667569074769, 1.559740570944087, 1.5555307285800137, 1.5513369993377586, 1.5471591568106515, 1.542996978559085, 1.5388502460099627, 1.534718744359241, 1.5306022624774458, 1.5265005928180588, 1.5224135313286642, 1.518340877364754, 1.5142824336061007, 1.5102380059755953, 1.5062074035604718, 1.5021904385358245, 1.4981869260903422, 1.4941966843541787, 1.4902195343288829, 1.4862552998193195, 1.4823038073675112, 1.4783648861883298, 1.4744383681069824, 1.4705240874982228, 1.466621881227234, 1.462731588592123, 1.458853051267975, 1.4549861132524147, 1.4511306208126233, 1.4472864224337623, 1.443453368768762, 1.4396313125894242, 1.4358201087387992, 1.432019614084796, 1.4282296874749836, 1.4244501896925483, 1.4206809834133651, 1.4169219331641532, 1.4131729052816766, 1.4094337678729594, 1.4057043907764817, 1.401984645524328, 1.3982744053052563, 1.3945735449286578, 1.3908819407893847, 1.3871994708334143, 1.3835260145243249, 1.3798614528105597, 1.3762056680934556, 1.3725585441960084, 1.3689199663323592, 1.3652898210779754, 1.3616679963405045, 1.3580543813312875, 1.3544488665375016, 1.3508513436949223, 1.3472617057612826, 1.3436798468902118, 1.3401056624057361, 1.336539048777327, 1.3329799035954766, 1.3294281255477916, 1.3258836143955808, 1.3223462709509322, 1.3188159970542568, 1.3152926955522901, 1.311776270276536, 1.3082666260221427, 1.3047636685271926, 1.3012673044524004, 1.2977774413612042, 1.2942939877002366, 1.2908168527801696, 1.2873459467569157, 1.2838811806131825, 1.2804224661403625, 1.276969715920755, 1.2735228433101062, 1.2700817624204592, 1.266646388103305, 1.2632166359330264, 1.2597924221906238, 1.2563736638477176, 1.2529602785508152, 1.2495521846058377, 1.2461493009628979, 1.2427515472013209, 1.2393588435148999, 1.2359711106973812, 1.2325882701281707, 1.2292102437582553, 1.2258369540963294, 1.222468324195127, 1.2191042776379448, 1.2157447385253557, 1.2123896314621028, 1.209038881544173, 1.2056924143460366, 1.202350155908055, 1.199012032724045, 1.1956779717289983, 1.1923479002869475, 1.189021746178975, 1.1856994375913594, 1.1823809031038546, 1.1790660716780947, 1.1757548726461222, 1.1724472356990332, 1.1691430908757334, 1.1658423685518056, 1.1625449994284747, 1.1592509145216774, 1.1559600451512198, 1.152672322930028, 1.1493876797534828, 1.146106047788834, 1.1428273594646918, 1.1395515474605902, 1.1362785446966164, 1.1330082843231066, 1.129740699710397, 1.1264757244386336, 1.1232132922876312, 1.1199533372267787, 1.1166957934049884, 1.1134405951406834, 1.1101876769118193, 1.1069369733459375, 1.1036884192102443, 1.100441949401712, 1.0971974989372002, 1.093955002943591, 1.0907143966479327, 1.087475615367594, 1.0842385945004163, 1.081003269514868, 1.07776957594019, 1.0745374493565347, 1.0713068253850877, 1.0680776396781742, 1.0648498279093415, 1.0616233257634158, 1.0583980689265284, 1.0551739930761068, 1.0519510338708258, 1.0487291269405168, 1.045508207876026, 1.0422882122190245, 1.0390690754517555, 1.035850732986726, 1.0326331201563252, 1.0294161722023798, 1.0261998242656256, 1.0229840113751025, 1.0197686684374627, 1.016553730226188, 1.0133391313707099, 1.010124806345429, 1.0069106894586273, 1.0036967148412688, 1.00048281643568, 0.9972689279841093, 0.9940549830171531, 0.990840914842051, 0.9876266565308335, 0.9844121409083265, 0.9811973005399973, 0.9779820677196415, 0.9747663744569002, 0.9715501524646036, 0.9683333331459304, 0.9651158475813785, 0.9618976265155382, 0.9586786003436607, 0.9554586990980113, 0.9522378524340039, 0.9490159896161035, 0.9457930395034908, 0.9425689305354783, 0.9393435907166703, 0.9361169476018545, 0.9328889282806191, 0.9296594593616802, 0.9264284669569143, 0.9231958766650803, 0.9199616135552237, 0.9167256021497466, 0.9134877664071378, 0.9102480297043429, 0.9070063148187696, 0.9037625439099064, 0.9005166385005492, 0.8972685194576143, 0.894018106972528, 0.8907653205411735, 0.8875100789433834, 0.8842523002219562, 0.8809919016611847, 0.8777287997648731, 0.8744629102338306, 0.871194147942815, 0.8679224269169135, 0.8646476603073332, 0.8613697603665863, 0.8580886384230404, 0.8548042048548183, 0.8515163690630151, 0.8482250394442141, 0.8449301233622702, 0.8416315271193373, 0.8383291559261059, 0.8350229138712285, 0.8317127038898934, 0.8283984277315222, 0.82507998592655, 0.821757277752261, 0.8184302011976333, 0.815098652927164, 0.8117625282436266, 0.8084217210497248, 0.8050761238085928, 0.8017256275031042, 0.7983701215939308, 0.7950094939763143, 0.7916436309354844, 0.7882724171006811, 0.7848957353977135, 0.7815134670000023, 0.7781254912780369, 0.7747316857471859, 0.7713319260137863, 0.7679260857194453, 0.764514036483469, 0.7610956478433479, 0.7576707871932048, 0.7542393197201254, 0.7508011083382705, 0.7473560136206788, 0.74390389372865, 0.7404446043386061, 0.7369779985663124, 0.7335039268883392, 0.7300222370606367, 0.726532774034091, 0.7230353798669159, 0.7195298936337378, 0.71601615133121, 0.712493985779995, 0.7089632265229362, 0.7054236997192362, 0.7018752280344425, 0.6983176305260358, 0.6947507225243981, 0.6911743155089308, 0.687588216979073, 0.6839922303199605, 0.6803861546624455, 0.6767697847371851, 0.6731429107224821, 0.669505318085549, 0.6658567874168362, 0.6621970942570545, 0.6585260089164843, 0.65484329628615, 0.6511487156404, 0.6474420204304109, 0.6437229580680933, 0.6399912696998503, 0.6362466899695931, 0.6324889467703853, 0.6287177609840334, 0.624932846207907, 0.6211339084682007, 0.6173206459188156, 0.6134927485249564, 0.6096498977304912, 0.6057917661080331, 0.601918016990641, 0.598028304083933, 0.594122271057333, 0.5901995511130481, 0.5862597665312865, 0.5823025281900804, 0.5783274350579691, 0.5743340736576326, 0.5703220174984222, 0.5662908264755476, 0.5622400462334989, 0.5581692074910586, 0.5540778253250399, 0.5499653984096154, 0.5458314082078302, 0.5416753181115674, 0.5374965725258996, 0.5332945958933567, 0.5290687916532321, 0.5248185411305525, 0.5205432023488241, 0.5162421087600569, 0.5119145678849238, 0.5075598598551528, 0.5031772358494339, 0.49876591641317175, 0.4943250896513783, 0.4898539092827965, 0.48535149254202054, 0.4808169179148438, 0.476249222690357, 0.47164740031134356, 0.46701039750230167, 0.4623371111518542, 0.45762638492340174, 0.452877005564503, 0.44808769888162364, 0.4432571253424207, 0.43838387526259154, 0.43346646352831547, 0.42850332379836414, 0.4234928021218074, 0.41843314989772334, 0.41332251609209913, 0.40815893861390373, 0.4029403347366371, 0.3976644904330612, 0.39232904846857397, 0.38693149507205943, 0.38146914497093554, 0.375939124538305, 0.3703383527528692, 0.3646635196145427, 0.35891106158770963, 0.35307713355630743, 0.3471575766656889, 0.34114788128944284, 0.33504314418679376, 0.3288380186969743, 0.3225266565361063, 0.3161026393993647, 0.30955889809823756, 0.3028876163401115, 0.29608011542908097, 0.2891267150522811, 0.2820165637975168, 0.27473743095125236, 0.2672754481881163, 0.2596147855798745, 0.25173724028892036, 0.24362170735021405, 0.23524348840829098, 0.22657337331901048, 0.21757639617341185, 0.20821011252597887, 0.19842215133916036, 0.1881466295175174, 0.1772987078092207, 0.16576595478748973, 0.15339388240465374, 0.13995997708121918, 0.1251225688694633, 0.10830622745159332, 0.0883884038442272, 0.062469514665343846])\n",
      "    v18 = declare(fixed, )\n",
      "    v19 = declare(int, )\n",
      "    v20 = declare(int, )\n",
      "    v21 = declare(int, value=1234)\n",
      "    a8 = declare(fixed, size=1)\n",
      "    a9 = declare(fixed, size=1)\n",
      "    v22 = declare(int, )\n",
      "    v23 = declare(int, value=0)\n",
      "    a10 = declare(int, value=[0, 0, 0, 0])\n",
      "    v24 = declare(fixed, value=0.0)\n",
      "    v25 = declare(int, value=0)\n",
      "    v26 = declare(int, value=0)\n",
      "    v27 = declare(int, value=0)\n",
      "    v28 = declare(int, value=0)\n",
      "    v29 = declare(int, value=0)\n",
      "    a11 = declare(bool, value=[False, False])\n",
      "    v30 = declare(int, value=0)\n",
      "    v31 = declare(int, value=0)\n",
      "    v32 = declare(int, value=0)\n",
      "    v33 = declare(int, value=0)\n",
      "    v34 = declare(int, value=0)\n",
      "    v35 = declare(int, )\n",
      "    v36 = declare(fixed, )\n",
      "    v37 = declare(fixed, )\n",
      "    v38 = declare(fixed, )\n",
      "    v39 = declare(fixed, )\n",
      "    v40 = declare(bool, )\n",
      "    v41 = declare(int, value=1)\n",
      "    v42 = declare(int, )\n",
      "    v43 = declare(fixed, )\n",
      "    v44 = declare(fixed, )\n",
      "    v45 = declare(fixed, )\n",
      "    v46 = declare(fixed, )\n",
      "    v47 = declare(bool, )\n",
      "    v48 = declare(int, value=1)\n",
      "    set_dc_offset(\"q1.z\", \"single\", 0.0)\n",
      "    set_dc_offset(\"q2.z\", \"single\", 0.0)\n",
      "    set_dc_offset(\"q3.z\", \"single\", 0.0)\n",
      "    set_dc_offset(\"q4.z\", \"single\", 0.0)\n",
      "    set_dc_offset(\"q5.z\", \"single\", 0.0)\n",
      "    set_dc_offset(\"coupler_q1_q2\", \"single\", -0.01)\n",
      "    set_dc_offset(\"coupler_q2_q3\", \"single\", -0.03)\n",
      "    set_dc_offset(\"coupler_q3_q4\", \"single\", -0.053)\n",
      "    set_dc_offset(\"coupler_q4_q5\", \"single\", -0.051)\n",
      "    with for_(v13,0,(v13<500),(v13+1)):\n",
      "        with for_(v4,0,(v4<1),(v4+1)):\n",
      "            pause()\n",
      "            assign(a1[v4], IO1)\n",
      "        with for_(v5,0,(v5<1),(v5+1)):\n",
      "            pause()\n",
      "            assign(a2[v5], IO1)\n",
      "        pause()\n",
      "        assign(v7, IO1)\n",
      "        pause()\n",
      "        assign(v1, IO1)\n",
      "        pause()\n",
      "        assign(v11, IO1)\n",
      "        assign(v14, 0)\n",
      "        with while_((v14<v1)):\n",
      "            assign(v14, (v14+1))\n",
      "            pause()\n",
      "            assign(v2, IO1)\n",
      "            pause()\n",
      "            assign(v3, IO1)\n",
      "            assign(v10, 0)\n",
      "            with while_((v10<v11)):\n",
      "                assign(v10, (v10+1))\n",
      "                pause()\n",
      "                assign(v8, IO1)\n",
      "                pause()\n",
      "                assign(v9, IO1)\n",
      "                pause()\n",
      "                assign(v12, IO1)\n",
      "                with for_(v15,0,(v15<0),(v15+1)):\n",
      "                    with for_(v17,0,(v17<1),(v17+1)):\n",
      "                        assign(v18, Random(v21).rand_fixed())\n",
      "                        assign(v19, Cast.unsafe_cast_int((v18>>19)))\n",
      "                        assign(v20, (Cast.unsafe_cast_int(v18)&524287))\n",
      "                        assign(a8[v17], (a1[v17]+((a2[v17]*a7[v19])*a6[(v20&511)])))\n",
      "                        assign(a9[v17], (a1[v17]+((a2[v17]*a7[v19])*a6[((v20+128)&511)])))\n",
      "                    with for_(v16,0,(v16<2),(v16+1)):\n",
      "                        assign(v6, Util.cond((v16==0),a8[0],a9[0]))\n",
      "                        with if_((v6<a4[0])):\n",
      "                            assign(v6, a4[0])\n",
      "                        with if_((v6>a5[0])):\n",
      "                            assign(v6, a5[0])\n",
      "                        with for_(v22,0,(v22<v12),(v22+1)):\n",
      "                            assign(v24, v6)\n",
      "                            assign(v25, v2)\n",
      "                            assign(v26, v3)\n",
      "                            assign(v27, v8)\n",
      "                            assign(v28, v9)\n",
      "                            assign(v29, v7)\n",
      "                            assign(v30, v25)\n",
      "                            with if_((v30==1), unsafe=True):\n",
      "                                align(\"q1.resonator\", \"q1.xy\", \"q1.z\")\n",
      "                                play(\"x180_DragCosine\", \"q1.xy\")\n",
      "                                align(\"q1.resonator\", \"q1.xy\", \"q1.z\")\n",
      "                            with elif_((v30==2)):\n",
      "                                align(\"q1.resonator\", \"q1.xy\", \"q1.z\")\n",
      "                                frame_rotation_2pi(1.5707963267948966, \"q1.xy\")\n",
      "                                align(\"q1.resonator\", \"q1.xy\", \"q1.z\")\n",
      "                                align(\"q1.resonator\", \"q1.xy\", \"q1.z\")\n",
      "                                play(\"x90_DragCosine\", \"q1.xy\")\n",
      "                                align(\"q1.resonator\", \"q1.xy\", \"q1.z\")\n",
      "                                align(\"q1.resonator\", \"q1.xy\", \"q1.z\")\n",
      "                                frame_rotation_2pi(1.5707963267948966, \"q1.xy\")\n",
      "                                align(\"q1.resonator\", \"q1.xy\", \"q1.z\")\n",
      "                            with elif_((v30==3)):\n",
      "                                align(\"q1.resonator\", \"q1.xy\", \"q1.z\")\n",
      "                                frame_rotation_2pi(1.5707963267948966, \"q1.xy\")\n",
      "                                align(\"q1.resonator\", \"q1.xy\", \"q1.z\")\n",
      "                                align(\"q1.resonator\", \"q1.xy\", \"q1.z\")\n",
      "                                play(\"x90_DragCosine\", \"q1.xy\")\n",
      "                                align(\"q1.resonator\", \"q1.xy\", \"q1.z\")\n",
      "                                align(\"q1.resonator\", \"q1.xy\", \"q1.z\")\n",
      "                                frame_rotation_2pi(-1.570796326794897, \"q1.xy\")\n",
      "                                align(\"q1.resonator\", \"q1.xy\", \"q1.z\")\n",
      "                            with elif_((v30==4)):\n",
      "                                align(\"q1.resonator\", \"q1.xy\", \"q1.z\")\n",
      "                                frame_rotation_2pi(1.5707963267948966, \"q1.xy\")\n",
      "                                align(\"q1.resonator\", \"q1.xy\", \"q1.z\")\n",
      "                                align(\"q1.resonator\", \"q1.xy\", \"q1.z\")\n",
      "                                play(\"x90_DragCosine\", \"q1.xy\")\n",
      "                                align(\"q1.resonator\", \"q1.xy\", \"q1.z\")\n",
      "                                align(\"q1.resonator\", \"q1.xy\", \"q1.z\")\n",
      "                                frame_rotation_2pi(-3.141592653589793, \"q1.xy\")\n",
      "                                align(\"q1.resonator\", \"q1.xy\", \"q1.z\")\n",
      "                            with elif_((v30==5)):\n",
      "                                align(\"q1.resonator\", \"q1.xy\", \"q1.z\")\n",
      "                                frame_rotation_2pi(1.5707963267948966, \"q1.xy\")\n",
      "                                align(\"q1.resonator\", \"q1.xy\", \"q1.z\")\n",
      "                                align(\"q1.resonator\", \"q1.xy\", \"q1.z\")\n",
      "                                play(\"x90_DragCosine\", \"q1.xy\")\n",
      "                                align(\"q1.resonator\", \"q1.xy\", \"q1.z\")\n",
      "                            assign(v31, v26)\n",
      "                            with if_((v31==1), unsafe=True):\n",
      "                                align(\"q2.resonator\", \"q2.xy\", \"q2.z\")\n",
      "                                play(\"x180_DragCosine\", \"q2.xy\")\n",
      "                                align(\"q2.resonator\", \"q2.xy\", \"q2.z\")\n",
      "                            with elif_((v31==2)):\n",
      "                                align(\"q2.resonator\", \"q2.xy\", \"q2.z\")\n",
      "                                frame_rotation_2pi(1.5707963267948966, \"q2.xy\")\n",
      "                                align(\"q2.resonator\", \"q2.xy\", \"q2.z\")\n",
      "                                align(\"q2.resonator\", \"q2.xy\", \"q2.z\")\n",
      "                                play(\"x90_DragCosine\", \"q2.xy\")\n",
      "                                align(\"q2.resonator\", \"q2.xy\", \"q2.z\")\n",
      "                                align(\"q2.resonator\", \"q2.xy\", \"q2.z\")\n",
      "                                frame_rotation_2pi(1.5707963267948966, \"q2.xy\")\n",
      "                                align(\"q2.resonator\", \"q2.xy\", \"q2.z\")\n",
      "                            with elif_((v31==3)):\n",
      "                                align(\"q2.resonator\", \"q2.xy\", \"q2.z\")\n",
      "                                frame_rotation_2pi(1.5707963267948966, \"q2.xy\")\n",
      "                                align(\"q2.resonator\", \"q2.xy\", \"q2.z\")\n",
      "                                align(\"q2.resonator\", \"q2.xy\", \"q2.z\")\n",
      "                                play(\"x90_DragCosine\", \"q2.xy\")\n",
      "                                align(\"q2.resonator\", \"q2.xy\", \"q2.z\")\n",
      "                                align(\"q2.resonator\", \"q2.xy\", \"q2.z\")\n",
      "                                frame_rotation_2pi(-1.570796326794897, \"q2.xy\")\n",
      "                                align(\"q2.resonator\", \"q2.xy\", \"q2.z\")\n",
      "                            with elif_((v31==4)):\n",
      "                                align(\"q2.resonator\", \"q2.xy\", \"q2.z\")\n",
      "                                frame_rotation_2pi(1.5707963267948966, \"q2.xy\")\n",
      "                                align(\"q2.resonator\", \"q2.xy\", \"q2.z\")\n",
      "                                align(\"q2.resonator\", \"q2.xy\", \"q2.z\")\n",
      "                                play(\"x90_DragCosine\", \"q2.xy\")\n",
      "                                align(\"q2.resonator\", \"q2.xy\", \"q2.z\")\n",
      "                                align(\"q2.resonator\", \"q2.xy\", \"q2.z\")\n",
      "                                frame_rotation_2pi(-3.141592653589793, \"q2.xy\")\n",
      "                                align(\"q2.resonator\", \"q2.xy\", \"q2.z\")\n",
      "                            with elif_((v31==5)):\n",
      "                                align(\"q2.resonator\", \"q2.xy\", \"q2.z\")\n",
      "                                frame_rotation_2pi(1.5707963267948966, \"q2.xy\")\n",
      "                                align(\"q2.resonator\", \"q2.xy\", \"q2.z\")\n",
      "                                align(\"q2.resonator\", \"q2.xy\", \"q2.z\")\n",
      "                                play(\"x90_DragCosine\", \"q2.xy\")\n",
      "                                align(\"q2.resonator\", \"q2.xy\", \"q2.z\")\n",
      "                            with for_(v34,0,(v34<=v29),(v34+1)):\n",
      "                                align(\"q1.resonator\", \"q1.xy\", \"q1.z\", \"q2.resonator\", \"q2.xy\", \"q2.z\")\n",
      "                                assign(v6, v24)\n",
      "                                play(\"block0_015390730832\", \"q1.z\")\n",
      "                                play(\"block0_115390731216\"*amp((10.0*v6)), \"coupler_q1_q2\")\n",
      "                                align(\"q1.resonator\", \"q1.xy\", \"q1.z\", \"q2.resonator\", \"q2.xy\", \"q2.z\")\n",
      "                            assign(v32, v28)\n",
      "                            with if_((v32==1), unsafe=True):\n",
      "                                align(\"q1.resonator\", \"q1.xy\", \"q1.z\")\n",
      "                                frame_rotation_2pi(1.5707963267948966, \"q1.xy\")\n",
      "                                align(\"q1.resonator\", \"q1.xy\", \"q1.z\")\n",
      "                                align(\"q1.resonator\", \"q1.xy\", \"q1.z\")\n",
      "                                play(\"x90_DragCosine\", \"q1.xy\")\n",
      "                                align(\"q1.resonator\", \"q1.xy\", \"q1.z\")\n",
      "                                align(\"q1.resonator\", \"q1.xy\", \"q1.z\")\n",
      "                                frame_rotation_2pi(1.5707963267948966, \"q1.xy\")\n",
      "                                align(\"q1.resonator\", \"q1.xy\", \"q1.z\")\n",
      "                            with elif_((v32==2)):\n",
      "                                align(\"q1.resonator\", \"q1.xy\", \"q1.z\")\n",
      "                                play(\"x90_DragCosine\", \"q1.xy\")\n",
      "                                align(\"q1.resonator\", \"q1.xy\", \"q1.z\")\n",
      "                                align(\"q1.resonator\", \"q1.xy\", \"q1.z\")\n",
      "                                frame_rotation_2pi(1.5707963267948966, \"q1.xy\")\n",
      "                                align(\"q1.resonator\", \"q1.xy\", \"q1.z\")\n",
      "                            assign(v33, v27)\n",
      "                            with if_((v33==1), unsafe=True):\n",
      "                                align(\"q2.resonator\", \"q2.xy\", \"q2.z\")\n",
      "                                frame_rotation_2pi(1.5707963267948966, \"q2.xy\")\n",
      "                                align(\"q2.resonator\", \"q2.xy\", \"q2.z\")\n",
      "                                align(\"q2.resonator\", \"q2.xy\", \"q2.z\")\n",
      "                                play(\"x90_DragCosine\", \"q2.xy\")\n",
      "                                align(\"q2.resonator\", \"q2.xy\", \"q2.z\")\n",
      "                                align(\"q2.resonator\", \"q2.xy\", \"q2.z\")\n",
      "                                frame_rotation_2pi(1.5707963267948966, \"q2.xy\")\n",
      "                                align(\"q2.resonator\", \"q2.xy\", \"q2.z\")\n",
      "                            with elif_((v33==2)):\n",
      "                                align(\"q2.resonator\", \"q2.xy\", \"q2.z\")\n",
      "                                play(\"x90_DragCosine\", \"q2.xy\")\n",
      "                                align(\"q2.resonator\", \"q2.xy\", \"q2.z\")\n",
      "                                align(\"q2.resonator\", \"q2.xy\", \"q2.z\")\n",
      "                                frame_rotation_2pi(1.5707963267948966, \"q2.xy\")\n",
      "                                align(\"q2.resonator\", \"q2.xy\", \"q2.z\")\n",
      "                            align(\"q1.resonator\", \"q1.xy\", \"q1.z\")\n",
      "                            measure(\"readout\", \"q1.resonator\", dual_demod.full(\"iw1\", \"iw2\", v36), dual_demod.full(\"iw3\", \"iw1\", v37))\n",
      "                            assign(v35, Cast.to_int((v36>-1.628262415766392e-05)))\n",
      "                            align(\"q1.resonator\", \"q1.xy\", \"q1.z\")\n",
      "                            assign(a11[0], v35)\n",
      "                            align(\"q1.resonator\", \"q1.xy\", \"q1.z\")\n",
      "                            assign(v41, 1)\n",
      "                            align(\"q1.resonator\", \"q1.xy\", \"q1.z\")\n",
      "                            measure(\"readout\", \"q1.resonator\", dual_demod.full(\"iw1\", \"iw2\", v38), dual_demod.full(\"iw3\", \"iw1\", v39))\n",
      "                            assign(v40, (v38>-1.628262415766392e-05))\n",
      "                            wait(30000, \"q1.resonator\")\n",
      "                            play(\"x180_DragCosine\", \"q1.xy\", condition=v40)\n",
      "                            align(\"q1.resonator\", \"q1.xy\", \"q1.z\")\n",
      "                            with while_(((v38>-0.00014833485972262327)&(v41<5))):\n",
      "                                align(\"q1.resonator\", \"q1.xy\", \"q1.z\")\n",
      "                                measure(\"readout\", \"q1.resonator\", dual_demod.full(\"iw1\", \"iw2\", v38), dual_demod.full(\"iw3\", \"iw1\", v39))\n",
      "                                assign(v40, (v38>-1.628262415766392e-05))\n",
      "                                wait(30000, \"q1.resonator\")\n",
      "                                play(\"x180_DragCosine\", \"q1.xy\", condition=v40)\n",
      "                                align(\"q1.resonator\", \"q1.xy\", \"q1.z\")\n",
      "                                assign(v41, (v41+1))\n",
      "                            wait(500, \"q1.xy\")\n",
      "                            align(\"q1.resonator\", \"q1.xy\", \"q1.z\")\n",
      "                            align(\"q1.resonator\", \"q1.xy\", \"q1.z\")\n",
      "                            align(\"q2.resonator\", \"q2.xy\", \"q2.z\")\n",
      "                            measure(\"readout\", \"q2.resonator\", dual_demod.full(\"iw1\", \"iw2\", v43), dual_demod.full(\"iw3\", \"iw1\", v44))\n",
      "                            assign(v42, Cast.to_int((v43>1.6458857692958052e-05)))\n",
      "                            align(\"q2.resonator\", \"q2.xy\", \"q2.z\")\n",
      "                            assign(a11[1], v42)\n",
      "                            align(\"q2.resonator\", \"q2.xy\", \"q2.z\")\n",
      "                            assign(v48, 1)\n",
      "                            align(\"q2.xy\", \"q2.z\", \"q2.resonator\")\n",
      "                            measure(\"readout\", \"q2.resonator\", dual_demod.full(\"iw1\", \"iw2\", v45), dual_demod.full(\"iw3\", \"iw1\", v46))\n",
      "                            assign(v47, (v45>1.6458857692958052e-05))\n",
      "                            wait(30000, \"q2.resonator\")\n",
      "                            play(\"x180_DragCosine\", \"q2.xy\", condition=v47)\n",
      "                            align(\"q2.xy\", \"q2.z\", \"q2.resonator\")\n",
      "                            with while_(((v45>-0.00010207124671233987)&(v48<5))):\n",
      "                                align(\"q2.xy\", \"q2.z\", \"q2.resonator\")\n",
      "                                measure(\"readout\", \"q2.resonator\", dual_demod.full(\"iw1\", \"iw2\", v45), dual_demod.full(\"iw3\", \"iw1\", v46))\n",
      "                                assign(v47, (v45>1.6458857692958052e-05))\n",
      "                                wait(30000, \"q2.resonator\")\n",
      "                                play(\"x180_DragCosine\", \"q2.xy\", condition=v47)\n",
      "                                align(\"q2.xy\", \"q2.z\", \"q2.resonator\")\n",
      "                                assign(v48, (v48+1))\n",
      "                            wait(500, \"q2.xy\")\n",
      "                            align(\"q2.xy\", \"q2.z\", \"q2.resonator\")\n",
      "                            align(\"q2.resonator\", \"q2.xy\", \"q2.z\")\n",
      "                            assign(v23, (v23+(1*Cast.to_int(a11[0]))))\n",
      "                            assign(v23, (v23+(2*Cast.to_int(a11[1]))))\n",
      "                            assign(a10[v23], (a10[v23]+1))\n",
      "                        with for_(v6,0,(v6<4),(v6+1)):\n",
      "                            assign(a3[v6], a10[v6])\n",
      "                        with for_(v6,0,(v6<4),(v6+1)):\n",
      "                            r6 = declare_stream()\n",
      "                            save(a3[v6], r6)\n",
      "                        with for_(v6,0,(v6<4),(v6+1)):\n",
      "                            assign(IO1, a3[v6])\n",
      "                            pause()\n",
      "    with stream_processing():\n",
      "        r6.buffer(4).save_all(\"reward\")\n",
      "\n",
      "config = None\n",
      "\n",
      "loaded_config = None\n",
      "\n",
      "\n"
     ]
    }
   ],
   "execution_count": 12
  },
  {
   "metadata": {
    "ExecuteTime": {
     "end_time": "2025-05-05T09:21:46.704022Z",
     "start_time": "2025-05-05T09:21:46.404062Z"
    }
   },
   "cell_type": "code",
   "source": [
    "from rl_qoc.rewards import ChannelReward, CAFEReward, StateReward\n",
    "import numpy as np\n",
    "\n",
    "reward = ChannelReward()\n",
    "reward_data = reward.get_reward_data(\n",
    "    q_env.circuits[0], np.zeros((1, q_env.n_actions)), q_env.target, q_env.config\n",
    ")"
   ],
   "id": "b4f963ba25666d27",
   "outputs": [
    {
     "ename": "NameError",
     "evalue": "name 'q_env' is not defined",
     "output_type": "error",
     "traceback": [
      "\u001B[0;31m---------------------------------------------------------------------------\u001B[0m",
      "\u001B[0;31mNameError\u001B[0m                                 Traceback (most recent call last)",
      "Cell \u001B[0;32mIn[2], line 6\u001B[0m\n\u001B[1;32m      2\u001B[0m \u001B[38;5;28;01mimport\u001B[39;00m \u001B[38;5;21;01mnumpy\u001B[39;00m \u001B[38;5;28;01mas\u001B[39;00m \u001B[38;5;21;01mnp\u001B[39;00m\n\u001B[1;32m      4\u001B[0m reward \u001B[38;5;241m=\u001B[39m ChannelReward()\n\u001B[1;32m      5\u001B[0m reward_data \u001B[38;5;241m=\u001B[39m reward\u001B[38;5;241m.\u001B[39mget_reward_data(\n\u001B[0;32m----> 6\u001B[0m     q_env\u001B[38;5;241m.\u001B[39mcircuits[\u001B[38;5;241m0\u001B[39m], np\u001B[38;5;241m.\u001B[39mzeros((\u001B[38;5;241m1\u001B[39m, q_env\u001B[38;5;241m.\u001B[39mn_actions)), q_env\u001B[38;5;241m.\u001B[39mtarget, q_env\u001B[38;5;241m.\u001B[39mconfig\n\u001B[1;32m      7\u001B[0m )\n",
      "\u001B[0;31mNameError\u001B[0m: name 'q_env' is not defined"
     ]
    }
   ],
   "execution_count": 2
  },
  {
   "metadata": {
    "ExecuteTime": {
     "end_time": "2025-04-30T07:22:23.697763Z",
     "start_time": "2025-04-30T07:22:23.693401Z"
    }
   },
   "cell_type": "code",
   "source": "reward_data.fiducials_indices",
   "id": "c28ce6b683aa69f1",
   "outputs": [
    {
     "data": {
      "text/plain": [
       "[((3, 0), [(1, 3)]),\n",
       " ((3, 1), [(1, 3)]),\n",
       " ((2, 1), [(1, 3)]),\n",
       " ((2, 0), [(1, 3)]),\n",
       " ((5, 1), [(2, 3)]),\n",
       " ((5, 0), [(2, 3)]),\n",
       " ((4, 0), [(2, 3)]),\n",
       " ((4, 1), [(2, 3)]),\n",
       " ((1, 0), [(3, 3)]),\n",
       " ((0, 0), [(3, 3)]),\n",
       " ((0, 1), [(3, 3)]),\n",
       " ((1, 1), [(3, 3)]),\n",
       " ((1, 2), [(3, 1)]),\n",
       " ((0, 2), [(3, 1)]),\n",
       " ((0, 3), [(3, 1)]),\n",
       " ((1, 3), [(3, 1)]),\n",
       " ((2, 3), [(1, 1)]),\n",
       " ((3, 3), [(1, 1)]),\n",
       " ((2, 2), [(1, 1)]),\n",
       " ((3, 2), [(1, 1)]),\n",
       " ((4, 2), [(2, 1)]),\n",
       " ((5, 2), [(2, 1)]),\n",
       " ((5, 3), [(2, 1)]),\n",
       " ((4, 3), [(2, 1)]),\n",
       " ((1, 4), [(3, 2)]),\n",
       " ((0, 4), [(3, 2)]),\n",
       " ((0, 5), [(3, 2)]),\n",
       " ((1, 5), [(3, 2)]),\n",
       " ((2, 5), [(1, 2)]),\n",
       " ((3, 4), [(1, 2)]),\n",
       " ((2, 4), [(1, 2)]),\n",
       " ((3, 5), [(1, 2)]),\n",
       " ((5, 5), [(2, 2)]),\n",
       " ((5, 4), [(2, 2)]),\n",
       " ((4, 5), [(2, 2)]),\n",
       " ((4, 4), [(2, 2)])]"
      ]
     },
     "execution_count": 56,
     "metadata": {},
     "output_type": "execute_result"
    }
   ],
   "execution_count": 56
  },
  {
   "metadata": {
    "ExecuteTime": {
     "end_time": "2025-04-30T08:28:22.961917Z",
     "start_time": "2025-04-30T08:28:22.958591Z"
    }
   },
   "cell_type": "code",
   "source": "reward_data[10].observables",
   "id": "73623e00cade2075",
   "outputs": [
    {
     "data": {
      "text/plain": [
       "SparsePauliOp(['IZ', 'ZI', 'ZZ'],\n",
       "              coeffs=[ 1.  +0.j, -1.5 +0.j, -1.25+0.j])"
      ]
     },
     "execution_count": 68,
     "metadata": {},
     "output_type": "execute_result"
    }
   ],
   "execution_count": 68
  },
  {
   "metadata": {
    "ExecuteTime": {
     "end_time": "2025-04-30T08:28:27.648019Z",
     "start_time": "2025-04-30T08:28:27.644496Z"
    }
   },
   "cell_type": "code",
   "source": "reward_data[10].hamiltonian",
   "id": "472d8a8844ae977e",
   "outputs": [
    {
     "data": {
      "text/plain": [
       "SparsePauliOp(['IZ', 'ZI', 'ZZ'],\n",
       "              coeffs=[ 1.  +0.j, -1.5 +0.j, -1.25+0.j])"
      ]
     },
     "execution_count": 69,
     "metadata": {},
     "output_type": "execute_result"
    }
   ],
   "execution_count": 69
  },
  {
   "metadata": {
    "ExecuteTime": {
     "end_time": "2025-04-30T05:37:09.376483Z",
     "start_time": "2025-04-30T05:37:09.373501Z"
    }
   },
   "cell_type": "code",
   "source": "reward_data.input_indices",
   "id": "567d1b7c3ca46747",
   "outputs": [
    {
     "data": {
      "text/plain": [
       "[(3, 0),\n",
       " (3, 1),\n",
       " (2, 1),\n",
       " (2, 0),\n",
       " (5, 1),\n",
       " (5, 0),\n",
       " (4, 0),\n",
       " (4, 1),\n",
       " (1, 0),\n",
       " (0, 0),\n",
       " (0, 1),\n",
       " (1, 1),\n",
       " (1, 2),\n",
       " (0, 2),\n",
       " (0, 3),\n",
       " (1, 3),\n",
       " (2, 3),\n",
       " (3, 3),\n",
       " (2, 2),\n",
       " (3, 2),\n",
       " (4, 2),\n",
       " (5, 2),\n",
       " (5, 3),\n",
       " (4, 3),\n",
       " (1, 4),\n",
       " (0, 4),\n",
       " (0, 5),\n",
       " (1, 5),\n",
       " (2, 5),\n",
       " (3, 4),\n",
       " (2, 4),\n",
       " (3, 5),\n",
       " (5, 5),\n",
       " (5, 4),\n",
       " (4, 5),\n",
       " (4, 4)]"
      ]
     },
     "execution_count": 22,
     "metadata": {},
     "output_type": "execute_result"
    }
   ],
   "execution_count": 22
  },
  {
   "metadata": {
    "ExecuteTime": {
     "end_time": "2025-04-30T02:40:55.461416Z",
     "start_time": "2025-04-30T02:40:55.458091Z"
    }
   },
   "cell_type": "code",
   "source": "reward_data.observables_indices",
   "id": "8e728af3c1cef3af",
   "outputs": [
    {
     "data": {
      "text/plain": [
       "[[(1, 3)],\n",
       " [(1, 3)],\n",
       " [(1, 3)],\n",
       " [(1, 3)],\n",
       " [(2, 3)],\n",
       " [(2, 3)],\n",
       " [(2, 3)],\n",
       " [(2, 3)],\n",
       " [(3, 3)],\n",
       " [(3, 3)],\n",
       " [(3, 3)],\n",
       " [(3, 3)],\n",
       " [(3, 1)],\n",
       " [(3, 1)],\n",
       " [(3, 1)],\n",
       " [(3, 1)],\n",
       " [(1, 1)],\n",
       " [(1, 1)],\n",
       " [(1, 1)],\n",
       " [(1, 1)],\n",
       " [(2, 1)],\n",
       " [(2, 1)],\n",
       " [(2, 1)],\n",
       " [(2, 1)],\n",
       " [(3, 2)],\n",
       " [(3, 2)],\n",
       " [(3, 2)],\n",
       " [(3, 2)],\n",
       " [(1, 2)],\n",
       " [(1, 2)],\n",
       " [(1, 2)],\n",
       " [(1, 2)],\n",
       " [(2, 2)],\n",
       " [(2, 2)],\n",
       " [(2, 2)],\n",
       " [(2, 2)]]"
      ]
     },
     "execution_count": 13,
     "metadata": {},
     "output_type": "execute_result"
    }
   ],
   "execution_count": 13
  },
  {
   "metadata": {
    "ExecuteTime": {
     "end_time": "2025-04-30T05:28:41.564463Z",
     "start_time": "2025-04-30T05:28:41.487753Z"
    }
   },
   "cell_type": "code",
   "source": [
    "from rl_qoc.rewards import ChannelReward, CAFEReward, StateReward\n",
    "import numpy as np\n",
    "\n",
    "reward = CAFEReward()\n",
    "reward_data = reward.get_reward_data(\n",
    "    q_env.circuits[0], np.zeros((1, q_env.n_actions)), q_env.target, q_env.config\n",
    ")"
   ],
   "id": "2530cccb30352431",
   "outputs": [],
   "execution_count": 11
  },
  {
   "metadata": {
    "ExecuteTime": {
     "end_time": "2025-04-30T05:29:43.433789Z",
     "start_time": "2025-04-30T05:29:43.412863Z"
    }
   },
   "cell_type": "code",
   "source": "reward_data.input_circuits[8].draw(\"mpl\")",
   "id": "41b2941ce35d3cbe",
   "outputs": [
    {
     "data": {
      "text/plain": [
       "<Figure size 287.294x200.667 with 1 Axes>"
      ],
      "image/png": "[encoded data removed]"
     },
     "execution_count": 19,
     "metadata": {},
     "output_type": "execute_result"
    }
   ],
   "execution_count": 19
  },
  {
   "metadata": {
    "ExecuteTime": {
     "end_time": "2025-04-28T07:10:27.889028Z",
     "start_time": "2025-04-28T07:10:27.886102Z"
    }
   },
   "cell_type": "code",
   "source": "param_table.get_parameter(0)",
   "id": "a247f97390c84547",
   "outputs": [
    {
     "data": {
      "text/plain": [
       "ChannelRewardData(pub=EstimatorPub(<(1,)>), input_circuit=<qiskit.circuit.quantumcircuit.QuantumCircuit object at 0x3865147d0>, observables=SparsePauliOp(['X'],\n",
       "              coeffs=[-13.+0.j]), shots=1300, n_reps=1, causal_cone_qubits_indices=[0], input_pauli=Pauli('X'), input_indices=(3,), observables_indices=[(1,)])"
      ]
     },
     "execution_count": 42,
     "metadata": {},
     "output_type": "execute_result"
    }
   ],
   "execution_count": 42
  },
  {
   "metadata": {
    "ExecuteTime": {
     "end_time": "2025-04-28T07:44:11.424072Z",
     "start_time": "2025-04-28T07:44:11.418860Z"
    }
   },
   "cell_type": "code",
   "source": [
    "from qiskit.pulse.transforms import block_to_schedule\n",
    "\n",
    "with qp.build(backend) as sched2:\n",
    "    qp.call(sched)\n",
    "    qp.acquire(100, qp.AcquireChannel(0), qp.MemorySlot(0))\n",
    "    qp.measure_all()\n",
    "\n",
    "block_to_schedule(sched2)"
   ],
   "id": "98b63612978c2709",
   "outputs": [
    {
     "data": {
      "text/plain": [
       "False"
      ]
     },
     "execution_count": 77,
     "metadata": {},
     "output_type": "execute_result"
    }
   ],
   "execution_count": 77
  },
  {
   "metadata": {
    "ExecuteTime": {
     "end_time": "2025-04-24T15:43:23.540034Z",
     "start_time": "2025-04-24T15:43:23.534577Z"
    }
   },
   "cell_type": "code",
   "source": "from qiskit_ibm_runtime.fake_provider.backends import FakeAthensV2",
   "id": "c2126ba23762dcd9",
   "outputs": [],
   "execution_count": 19
  },
  {
   "metadata": {
    "ExecuteTime": {
     "end_time": "2025-04-24T16:02:37.637299Z",
     "start_time": "2025-04-24T16:02:37.618321Z"
    }
   },
   "cell_type": "code",
   "source": [
    "backend2 = FakeAthensV2()\n",
    "\n",
    "backend2.target[\"measure\"][(0,)].calibration.instructions"
   ],
   "id": "ba076c09ed09ae41",
   "outputs": [
    {
     "name": "stderr",
     "output_type": "stream",
     "text": [
      "/var/folders/5w/ygx15jq94z5dzxwkmbbj8zfm0000gn/T/ipykernel_34461/1007896907.py:3: DeprecationWarning: The property ``qiskit.transpiler.target.InstructionProperties.calibration`` is deprecated as of Qiskit 1.3. It will be removed in Qiskit 2.0. The entire Qiskit Pulse package is being deprecated and will be moved to the Qiskit Dynamics repository: https://github.com/qiskit-community/qiskit-dynamics. Note that once removed, ``qiskit.transpiler.target.InstructionProperties.calibration`` will have no alternative in Qiskit.\n",
      "  backend2.target[\"measure\"][(0,)].calibration.instructions\n"
     ]
    },
    {
     "data": {
      "text/plain": [
       "((0, Acquire(9776, AcquireChannel(0), MemorySlot(0), , , )),\n",
       " (0, Acquire(9776, AcquireChannel(1), MemorySlot(1), , , )),\n",
       " (0, Acquire(9776, AcquireChannel(2), MemorySlot(2), , , )),\n",
       " (0, Acquire(9776, AcquireChannel(3), MemorySlot(3), , , )),\n",
       " (0, Acquire(9776, AcquireChannel(4), MemorySlot(4), , , )),\n",
       " (0,\n",
       "  Play(GaussianSquare(duration=9776, sigma=64, width=9520, amp=0.08, angle=-0.3129182953764417, name='gaussian_square_7ee7'), MeasureChannel(0), name='gaussian_square_7ee7')),\n",
       " (9776, Delay(3824, MeasureChannel(0))))"
      ]
     },
     "execution_count": 30,
     "metadata": {},
     "output_type": "execute_result"
    }
   ],
   "execution_count": 30
  },
  {
   "metadata": {
    "ExecuteTime": {
     "end_time": "2025-04-24T15:45:14.146655Z",
     "start_time": "2025-04-24T15:45:14.143769Z"
    }
   },
   "cell_type": "code",
   "source": "backend2.target[\"reset\"]",
   "id": "bb674b082b1360c5",
   "outputs": [
    {
     "data": {
      "text/plain": [
       "{(0,): InstructionProperties(duration=3.431111111111111e-06, error=None, calibration=None),\n",
       " (1,): InstructionProperties(duration=3.431111111111111e-06, error=None, calibration=None),\n",
       " (2,): InstructionProperties(duration=3.431111111111111e-06, error=None, calibration=None),\n",
       " (3,): InstructionProperties(duration=3.431111111111111e-06, error=None, calibration=None),\n",
       " (4,): InstructionProperties(duration=3.431111111111111e-06, error=None, calibration=None)}"
      ]
     },
     "execution_count": 27,
     "metadata": {},
     "output_type": "execute_result"
    }
   ],
   "execution_count": 27
  },
  {
   "metadata": {
    "ExecuteTime": {
     "end_time": "2025-04-28T03:53:07.642962Z",
     "start_time": "2025-04-28T03:53:07.639295Z"
    }
   },
   "cell_type": "code",
   "source": [
    "from qiskit_qm_provider.quam_qiskit_pulse import FluxChannel\n",
    "\n",
    "with qp.build(backend) as sched:\n",
    "    print(qp.qubit_channels(2))\n",
    "    qp.play(\n",
    "        qp.Gaussian(duration=120, amp=0.1, sigma=40),\n",
    "        FluxChannel(2),\n",
    "    )"
   ],
   "id": "8528927e345c491b",
   "outputs": [
    {
     "name": "stdout",
     "output_type": "stream",
     "text": [
      "{MeasureChannel(2), AcquireChannel(2), DriveChannel(2)}\n"
     ]
    }
   ],
   "execution_count": 3
  },
  {
   "metadata": {
    "ExecuteTime": {
     "end_time": "2025-04-28T03:42:58.842980Z",
     "start_time": "2025-04-28T03:42:58.841013Z"
    }
   },
   "cell_type": "code",
   "source": "backend.channel_mapping[qp.ControlChannel(3)].name",
   "id": "5de8df8bda29d7fc",
   "outputs": [
    {
     "data": {
      "text/plain": [
       "'coupler_q4_q5'"
      ]
     },
     "execution_count": 25,
     "metadata": {},
     "output_type": "execute_result"
    }
   ],
   "execution_count": 25
  },
  {
   "metadata": {
    "ExecuteTime": {
     "end_time": "2025-04-28T05:19:50.902825Z",
     "start_time": "2025-04-28T05:19:50.832905Z"
    }
   },
   "cell_type": "code",
   "source": [
    "backend.control_channel((1, 0))"
   ],
   "id": "1a94249a8319e419",
   "outputs": [
    {
     "ename": "ValueError",
     "evalue": "Control channel not found for qubit pair [1, 0] in the channel mapping",
     "output_type": "error",
     "traceback": [
      "\u001B[0;31m---------------------------------------------------------------------------\u001B[0m",
      "\u001B[0;31mValueError\u001B[0m                                Traceback (most recent call last)",
      "Cell \u001B[0;32mIn[45], line 1\u001B[0m\n\u001B[0;32m----> 1\u001B[0m backend\u001B[38;5;241m.\u001B[39mcontrol_channel((\u001B[38;5;241m1\u001B[39m,\u001B[38;5;241m0\u001B[39m))\n",
      "File \u001B[0;32m~/Library/CloudStorage/OneDrive-NationalUniversityofSingapore/Coding_projects/Quantum_Optimal_Control/rl_qoc/qua/qm_backend.py:342\u001B[0m, in \u001B[0;36mQMBackend.control_channel\u001B[0;34m(self, qubits)\u001B[0m\n\u001B[1;32m    340\u001B[0m             channels\u001B[38;5;241m.\u001B[39mappend(channel)\n\u001B[1;32m    341\u001B[0m \u001B[38;5;28;01mif\u001B[39;00m \u001B[38;5;28mlen\u001B[39m(channels) \u001B[38;5;241m==\u001B[39m \u001B[38;5;241m0\u001B[39m:\n\u001B[0;32m--> 342\u001B[0m     \u001B[38;5;28;01mraise\u001B[39;00m \u001B[38;5;167;01mValueError\u001B[39;00m(\n\u001B[1;32m    343\u001B[0m         \u001B[38;5;124mf\u001B[39m\u001B[38;5;124m\"\u001B[39m\u001B[38;5;124mControl channel not found for qubit pair \u001B[39m\u001B[38;5;132;01m{\u001B[39;00mqubits\u001B[38;5;132;01m}\u001B[39;00m\u001B[38;5;124m in the channel mapping\u001B[39m\u001B[38;5;124m\"\u001B[39m\n\u001B[1;32m    344\u001B[0m     )\n",
      "\u001B[0;31mValueError\u001B[0m: Control channel not found for qubit pair [1, 0] in the channel mapping"
     ]
    }
   ],
   "execution_count": 45
  },
  {
   "metadata": {},
   "cell_type": "code",
   "outputs": [],
   "execution_count": null,
   "source": "",
   "id": "82c58042a53d4723"
  }
 ],
 "metadata": {
  "kernelspec": {
   "display_name": "rl_qoc",
   "language": "python",
   "name": "python3"
  },
  "language_info": {
   "codemirror_mode": {
    "name": "ipython",
    "version": 3
   },
   "file_extension": ".py",
   "mimetype": "text/x-python",
   "name": "python",
   "nbconvert_exporter": "python",
   "pygments_lexer": "ipython3",
   "version": "3.11.9"
  }
 },
 "nbformat": 4,
 "nbformat_minor": 5
}

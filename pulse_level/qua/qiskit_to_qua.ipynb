{
 "cells": [
  {
   "metadata": {
    "ExecuteTime": {
     "end_time": "2025-06-02T14:57:17.956830Z",
     "start_time": "2025-06-02T14:57:11.918853Z"
    }
   },
   "cell_type": "code",
   "source": [
    "import os\n",
    "import json\n",
    "from iqcc_cloud_client import IQCC_Cloud\n",
    "\n",
    "# Set your quantum computer backend\n",
    "quantum_computer_backend = \"gilboa\"  # for example qc_qwfix\n",
    "iqcc = IQCC_Cloud(quantum_computer_backend=quantum_computer_backend)\n",
    "# Get the latest state and wiring files\n",
    "latest_wiring = iqcc.state.get_latest(\"wiring\")\n",
    "latest_state = iqcc.state.get_latest(\"state\")\n",
    "\n",
    "# Get the state folder path from environment variable\n",
    "quam_state_folder_path = os.environ[\"QUAM_STATE_PATH\"]\n",
    "\n",
    "# Save the files\n",
    "with open(os.path.join(quam_state_folder_path, \"wiring.json\"), \"w\") as f:\n",
    "    json.dump(latest_wiring.data, f, indent=4)\n",
    "\n",
    "with open(os.path.join(quam_state_folder_path, \"state.json\"), \"w\") as f:\n",
    "    json.dump(latest_state.data, f, indent=4)"
   ],
   "id": "a5a9bb8c3d2e3835",
   "outputs": [
    {
     "name": "stdout",
     "output_type": "stream",
     "text": [
      "2025-06-02 22:57:12,897 - qm - INFO     - Starting session: 34d49ce0-344d-4878-b947-f0110afd5864\n"
     ]
    }
   ],
   "execution_count": 1
  },
  {
   "metadata": {
    "ExecuteTime": {
     "end_time": "2025-06-02T14:57:21.952477Z",
     "start_time": "2025-06-02T14:57:18.005217Z"
    }
   },
   "cell_type": "code",
   "source": [
    "from typing import Any\n",
    "import warnings\n",
    "\n",
    "from qm import QuantumMachinesManager, SimulationConfig\n",
    "from qm.qua import *\n",
    "from qm_saas import QoPVersion, QmSaas\n",
    "from quam_libs.components import (\n",
    "    MeasureMacro,\n",
    "    ResetMacro,\n",
    "    VirtualZMacro,\n",
    "    CZMacro,\n",
    "    DelayMacro,\n",
    ")\n",
    "from qiskit_qm_provider import (\n",
    "    FluxTunableTransmonBackend,\n",
    "    ParameterTable,\n",
    "    Parameter as QuaParameter,\n",
    ")\n",
    "from quam.components.macro import PulseMacro\n",
    "from quam.core.operation.operations_registry import OperationsRegistry\n",
    "from qiskit.circuit import QuantumCircuit, Parameter, ParameterVector, QuantumRegister\n",
    "\n",
    "# import qiskit.pulse as qp\n",
    "from qiskit import transpile\n",
    "import matplotlib.pyplot as plt\n",
    "from qm import generate_qua_script\n",
    "import numpy as np\n",
    "from quam_builder.architecture.superconducting.qpu.flux_tunable_quam import (\n",
    "    FluxTunableQuam as QuAM,\n",
    ")\n",
    "from quam_libs.components.quam_root import QuAM as IQCC_Quam\n",
    "import warnings\n",
    "import logging\n",
    "\n",
    "# Silence DeprecationWarnings from qiskit.pulse\n",
    "warnings.filterwarnings(\"ignore\", category=DeprecationWarning, module=r\"qiskit\\.pulse\")\n",
    "# Filter all DeprecationWarnings\n",
    "logging.getLogger(\"qiskit\").setLevel(logging.ERROR)\n",
    "file_path = \"/Users/arthurostrauss/Library/CloudStorage/OneDrive-NationalUniversityofSingapore/Coding_projects/Quantum_Optimal_Control/pulse_level/qua/quam_state\"\n",
    "machine = IQCC_Quam.load()"
   ],
   "id": "1090cf6dceba2c47",
   "outputs": [],
   "execution_count": 2
  },
  {
   "metadata": {
    "ExecuteTime": {
     "end_time": "2025-06-02T14:57:22.169529Z",
     "start_time": "2025-06-02T14:57:22.166068Z"
    }
   },
   "cell_type": "code",
   "source": "machine.active_qubits[0].T1",
   "id": "6f67ff6d56b88a1f",
   "outputs": [
    {
     "data": {
      "text/plain": [
       "2.4429276140337633e-05"
      ]
     },
     "execution_count": 3,
     "metadata": {},
     "output_type": "execute_result"
    }
   ],
   "execution_count": 3
  },
  {
   "metadata": {
    "ExecuteTime": {
     "end_time": "2025-06-02T14:57:22.405990Z",
     "start_time": "2025-06-02T14:57:22.402132Z"
    }
   },
   "cell_type": "code",
   "source": "machine.active_qubits[0].macros",
   "id": "ad07a3d73025b7d6",
   "outputs": [
    {
     "data": {
      "text/plain": [
       "{}"
      ]
     },
     "execution_count": 4,
     "metadata": {},
     "output_type": "execute_result"
    }
   ],
   "execution_count": 4
  },
  {
   "metadata": {
    "ExecuteTime": {
     "end_time": "2025-06-02T14:57:22.629280Z",
     "start_time": "2025-06-02T14:57:22.626871Z"
    }
   },
   "cell_type": "code",
   "source": "machine.active_qubits[0].thermalization_time",
   "id": "85327c8d21cc75d7",
   "outputs": [
    {
     "data": {
      "text/plain": [
       "122144"
      ]
     },
     "execution_count": 5,
     "metadata": {},
     "output_type": "execute_result"
    }
   ],
   "execution_count": 5
  },
  {
   "metadata": {
    "ExecuteTime": {
     "end_time": "2025-06-02T14:57:22.863958Z",
     "start_time": "2025-06-02T14:57:22.860382Z"
    }
   },
   "cell_type": "code",
   "source": [
    "from qualang_tools.units import unit\n",
    "\n",
    "for qubit in machine.active_qubits:\n",
    "    qubit.macros[\"x\"] = PulseMacro(pulse=\"x180\")\n",
    "    qubit.macros[\"rz\"] = VirtualZMacro()\n",
    "    qubit.macros[\"sx\"] = PulseMacro(pulse=\"x90\")\n",
    "    qubit.macros[\"sy\"] = PulseMacro(pulse=\"y90\")\n",
    "    qubit.macros[\"sydg\"] = PulseMacro(pulse=\"-y90\")\n",
    "    qubit.macros[\"measure\"] = MeasureMacro(pulse=\"readout\")\n",
    "    qubit.macros[\"reset\"] = ResetMacro(\n",
    "        pi_pulse=\"x180\",\n",
    "        readout_pulse=\"readout\",\n",
    "        reset_type=\"active\",\n",
    "        thermalize_time=qubit.thermalization_time,\n",
    "        max_attempts=3,\n",
    "    )\n",
    "    qubit.macros[\"delay\"] = DelayMacro()"
   ],
   "id": "84199822709dda63",
   "outputs": [],
   "execution_count": 6
  },
  {
   "metadata": {
    "ExecuteTime": {
     "end_time": "2025-06-02T14:57:23.098488Z",
     "start_time": "2025-06-02T14:57:23.094153Z"
    }
   },
   "cell_type": "code",
   "source": [
    "backend = FluxTunableTransmonBackend(machine, qmm=iqcc)\n",
    "print(backend.target)"
   ],
   "id": "862342661b4136c3",
   "outputs": [
    {
     "name": "stdout",
     "output_type": "stream",
     "text": [
      "Target: Transmon based QuAM\n",
      "Number of qubits: 6\n",
      "Instructions:\n",
      "\tx\n",
      "\t\t(0,)\n",
      "\t\t(1,)\n",
      "\t\t(2,)\n",
      "\t\t(3,)\n",
      "\t\t(4,)\n",
      "\t\t(5,)\n",
      "\trz\n",
      "\t\t(0,)\n",
      "\t\t(1,)\n",
      "\t\t(2,)\n",
      "\t\t(3,)\n",
      "\t\t(4,)\n",
      "\t\t(5,)\n",
      "\tsx\n",
      "\t\t(0,)\n",
      "\t\t(1,)\n",
      "\t\t(2,)\n",
      "\t\t(3,)\n",
      "\t\t(4,)\n",
      "\t\t(5,)\n",
      "\tsy\n",
      "\t\t(0,)\n",
      "\t\t(1,)\n",
      "\t\t(2,)\n",
      "\t\t(3,)\n",
      "\t\t(4,)\n",
      "\t\t(5,)\n",
      "\tsydg\n",
      "\t\t(0,)\n",
      "\t\t(1,)\n",
      "\t\t(2,)\n",
      "\t\t(3,)\n",
      "\t\t(4,)\n",
      "\t\t(5,)\n",
      "\tmeasure\n",
      "\t\t(0,)\n",
      "\t\t(1,)\n",
      "\t\t(2,)\n",
      "\t\t(3,)\n",
      "\t\t(4,)\n",
      "\t\t(5,)\n",
      "\treset\n",
      "\t\t(0,)\n",
      "\t\t(1,)\n",
      "\t\t(2,)\n",
      "\t\t(3,)\n",
      "\t\t(4,)\n",
      "\t\t(5,)\n",
      "\tdelay\n",
      "\t\t(0,)\n",
      "\t\t(1,)\n",
      "\t\t(2,)\n",
      "\t\t(3,)\n",
      "\t\t(4,)\n",
      "\t\t(5,)\n",
      "\tif_else\n",
      "\twhile_loop\n",
      "\tfor_loop\n",
      "\tswitch_case\n",
      "\n"
     ]
    },
    {
     "name": "stderr",
     "output_type": "stream",
     "text": [
      "/Users/arthurostrauss/Library/CloudStorage/OneDrive-QMMachinesLTD/GitHub/qiskit-qm-provider/qiskit_qm_provider/backend/flux_tunable_transmon_backend.py:58: UserWarning: qiskit.pulse is not available, channel mapping will not be set.\n",
      "  warnings.warn(\"qiskit.pulse is not available, channel mapping will not be set.\")\n"
     ]
    }
   ],
   "execution_count": 7
  },
  {
   "metadata": {
    "ExecuteTime": {
     "end_time": "2025-06-02T14:57:27.322938Z",
     "start_time": "2025-06-02T14:57:23.330070Z"
    }
   },
   "cell_type": "code",
   "source": [
    "from rl_qoc.rewards.real_time_utils import get_real_time_reward_circuit\n",
    "from rl_qoc import (\n",
    "    QEnvConfig,\n",
    "    QiskitConfig,\n",
    "    ExecutionConfig,\n",
    "    BenchmarkConfig,\n",
    "    GateTargetConfig,\n",
    ")\n",
    "from rl_qoc.rewards import StateReward\n",
    "from rl_qoc.qua import QMConfig, QMEnvironment\n",
    "\n",
    "from gymnasium.spaces import Box\n",
    "\n",
    "\n",
    "def apply_parameters(qc: QuantumCircuit, params: ParameterVector, qreg: QuantumRegister, *args):\n",
    "    idx_0 = qreg.index(qreg[0])\n",
    "\n",
    "    if len(qreg) > 1:\n",
    "        idx_1 = qreg.index(qreg[1])\n",
    "        with qp.build(backend) as sched:\n",
    "            qp.play(qp.Constant(duration=120, amp=0.1), backend.flux_channel(idx_0))\n",
    "            qp.play(\n",
    "                qp.Constant(duration=120, amp=params[0]),\n",
    "                backend.control_channel((idx_0, idx_1))[0],\n",
    "            )\n",
    "        qc.add_calibration(\n",
    "            \"rzz\",\n",
    "            [0, 1],\n",
    "            sched,\n",
    "            params.params if isinstance(params, ParameterVector) else params,\n",
    "        )\n",
    "        qc.rzz(params[0], qreg[0], qreg[1])\n",
    "    else:\n",
    "        with qp.build(backend) as sched:\n",
    "            qp.play(\n",
    "                qp.Drag(duration=120, amp=params[0], sigma=40, beta=0.2),\n",
    "                backend.drive_channel(idx_0),\n",
    "            )\n",
    "        qc.add_calibration(\n",
    "            \"rx\",\n",
    "            [\n",
    "                0,\n",
    "            ],\n",
    "            sched,\n",
    "            params.params if isinstance(params, ParameterVector) else params,\n",
    "        )\n",
    "        qc.rx(params[0], qreg[0])\n",
    "    with qp.build(backend, name=\"x_custom\") as sched:\n",
    "        qp.play(\n",
    "            qp.Drag(duration=120, amp=0.3, sigma=40, beta=0.2),\n",
    "            backend.drive_channel(idx_0),\n",
    "        )\n",
    "    qc.add_calibration(\n",
    "        \"x\",\n",
    "        [\n",
    "            0,\n",
    "        ],\n",
    "        sched,\n",
    "    )\n",
    "    qc.add_calibration(\n",
    "        \"x\",\n",
    "        [\n",
    "            1,\n",
    "        ],\n",
    "        sched,\n",
    "    )\n",
    "\n",
    "\n",
    "physical_qubits = [0]\n",
    "gate = \"cz\" if len(physical_qubits) > 1 else \"x\"\n",
    "n_reps = [2, 5]\n",
    "config = QEnvConfig(\n",
    "    target=GateTargetConfig(physical_qubits, gate),\n",
    "    backend_config=QiskitConfig(\n",
    "        backend=backend,\n",
    "        parametrized_circuit=apply_parameters,\n",
    "    ),\n",
    "    execution_config=ExecutionConfig(\n",
    "        batch_size=1,\n",
    "        n_shots=100,\n",
    "        n_reps=n_reps,\n",
    "        control_flow_enabled=True,\n",
    "    ),\n",
    "    reward=StateReward(\"pauli4\"),\n",
    "    action_space=Box(low=-1, high=1, shape=(1,), dtype=np.float32),\n",
    ")\n",
    "\n",
    "qm_config_args = {\n",
    "    \"input_type\": \"INPUT_STREAM\",\n",
    "    \"num_updates\": 500,\n",
    "}\n",
    "config.backend_config = QMConfig(**config.backend_config.as_dict(), **qm_config_args)\n",
    "\n",
    "q_env = QMEnvironment(config)"
   ],
   "id": "c69e2c7f2fd0279d",
   "outputs": [
    {
     "ename": "NameError",
     "evalue": "name 'qp' is not defined",
     "output_type": "error",
     "traceback": [
      "\u001B[0;31m---------------------------------------------------------------------------\u001B[0m",
      "\u001B[0;31mNameError\u001B[0m                                 Traceback (most recent call last)",
      "Cell \u001B[0;32mIn[8], line 94\u001B[0m\n\u001B[1;32m     88\u001B[0m qm_config_args \u001B[38;5;241m=\u001B[39m {\n\u001B[1;32m     89\u001B[0m     \u001B[38;5;124m\"\u001B[39m\u001B[38;5;124minput_type\u001B[39m\u001B[38;5;124m\"\u001B[39m: \u001B[38;5;124m\"\u001B[39m\u001B[38;5;124mINPUT_STREAM\u001B[39m\u001B[38;5;124m\"\u001B[39m,\n\u001B[1;32m     90\u001B[0m     \u001B[38;5;124m\"\u001B[39m\u001B[38;5;124mnum_updates\u001B[39m\u001B[38;5;124m\"\u001B[39m: \u001B[38;5;241m500\u001B[39m,\n\u001B[1;32m     91\u001B[0m }\n\u001B[1;32m     92\u001B[0m config\u001B[38;5;241m.\u001B[39mbackend_config \u001B[38;5;241m=\u001B[39m QMConfig(\u001B[38;5;241m*\u001B[39m\u001B[38;5;241m*\u001B[39mconfig\u001B[38;5;241m.\u001B[39mbackend_config\u001B[38;5;241m.\u001B[39mas_dict(), \u001B[38;5;241m*\u001B[39m\u001B[38;5;241m*\u001B[39mqm_config_args)\n\u001B[0;32m---> 94\u001B[0m q_env \u001B[38;5;241m=\u001B[39m QMEnvironment(config)\n",
      "File \u001B[0;32m~/Library/CloudStorage/OneDrive-NationalUniversityofSingapore/Coding_projects/Quantum_Optimal_Control/rl_qoc/qua/qm_environment.py:46\u001B[0m, in \u001B[0;36mQMEnvironment.__init__\u001B[0;34m(self, training_config, circuit_context, job)\u001B[0m\n\u001B[1;32m     39\u001B[0m \u001B[38;5;28;01mdef\u001B[39;00m \u001B[38;5;21m__init__\u001B[39m(\n\u001B[1;32m     40\u001B[0m     \u001B[38;5;28mself\u001B[39m,\n\u001B[1;32m     41\u001B[0m     training_config: QEnvConfig,\n\u001B[1;32m     42\u001B[0m     circuit_context: Optional[QuantumCircuit] \u001B[38;5;241m=\u001B[39m \u001B[38;5;28;01mNone\u001B[39;00m,\n\u001B[1;32m     43\u001B[0m     job: Optional[RunningQmJob] \u001B[38;5;241m=\u001B[39m \u001B[38;5;28;01mNone\u001B[39;00m,\n\u001B[1;32m     44\u001B[0m ):\n\u001B[1;32m     45\u001B[0m     ParameterPool\u001B[38;5;241m.\u001B[39mreset()\n\u001B[0;32m---> 46\u001B[0m     \u001B[38;5;28msuper\u001B[39m()\u001B[38;5;241m.\u001B[39m\u001B[38;5;21m__init__\u001B[39m(training_config, circuit_context)\n\u001B[1;32m     47\u001B[0m     \u001B[38;5;28;01mif\u001B[39;00m \u001B[38;5;129;01mnot\u001B[39;00m \u001B[38;5;28misinstance\u001B[39m(\u001B[38;5;28mself\u001B[39m\u001B[38;5;241m.\u001B[39mconfig\u001B[38;5;241m.\u001B[39mbackend_config, QMConfig) \u001B[38;5;129;01mor\u001B[39;00m \u001B[38;5;129;01mnot\u001B[39;00m \u001B[38;5;28misinstance\u001B[39m(\n\u001B[1;32m     48\u001B[0m         \u001B[38;5;28mself\u001B[39m\u001B[38;5;241m.\u001B[39mbackend, QMBackend\n\u001B[1;32m     49\u001B[0m     ):\n\u001B[1;32m     50\u001B[0m         \u001B[38;5;28;01mraise\u001B[39;00m \u001B[38;5;167;01mValueError\u001B[39;00m(\n\u001B[1;32m     51\u001B[0m             \u001B[38;5;124m\"\u001B[39m\u001B[38;5;124mThe backend should be a QMBackend object and the config should be a QMConfig object\u001B[39m\u001B[38;5;124m\"\u001B[39m\n\u001B[1;32m     52\u001B[0m         )\n",
      "File \u001B[0;32m~/Library/CloudStorage/OneDrive-NationalUniversityofSingapore/Coding_projects/Quantum_Optimal_Control/rl_qoc/environment/context_aware_quantum_environment.py:158\u001B[0m, in \u001B[0;36mContextAwareQuantumEnvironment.__init__\u001B[0;34m(self, training_config, circuit_context, training_steps_per_gate, intermediate_rewards, **context_kwargs)\u001B[0m\n\u001B[1;32m    155\u001B[0m     \u001B[38;5;28;01melse\u001B[39;00m:  \u001B[38;5;66;03m# State\u001B[39;00m\n\u001B[1;32m    156\u001B[0m         circuit_context\u001B[38;5;241m.\u001B[39mprepare_state(\u001B[38;5;28mself\u001B[39m\u001B[38;5;241m.\u001B[39mconfig\u001B[38;5;241m.\u001B[39mtarget\u001B[38;5;241m.\u001B[39mstate, q_reg)\n\u001B[0;32m--> 158\u001B[0m \u001B[38;5;28mself\u001B[39m\u001B[38;5;241m.\u001B[39mset_unbound_circuit_context(circuit_context, \u001B[38;5;241m*\u001B[39m\u001B[38;5;241m*\u001B[39mcontext_kwargs)\n",
      "File \u001B[0;32m~/Library/CloudStorage/OneDrive-NationalUniversityofSingapore/Coding_projects/Quantum_Optimal_Control/rl_qoc/environment/context_aware_quantum_environment.py:616\u001B[0m, in \u001B[0;36mContextAwareQuantumEnvironment.set_unbound_circuit_context\u001B[0;34m(self, new_context, **kwargs)\u001B[0m\n\u001B[1;32m    612\u001B[0m \u001B[38;5;28mself\u001B[39m\u001B[38;5;241m.\u001B[39m_optimal_actions \u001B[38;5;241m=\u001B[39m [\n\u001B[1;32m    613\u001B[0m     np\u001B[38;5;241m.\u001B[39mzeros(\u001B[38;5;28mself\u001B[39m\u001B[38;5;241m.\u001B[39mconfig\u001B[38;5;241m.\u001B[39mn_actions) \u001B[38;5;28;01mfor\u001B[39;00m _ \u001B[38;5;129;01min\u001B[39;00m \u001B[38;5;28mrange\u001B[39m(tgt_instruction_counts)\n\u001B[1;32m    614\u001B[0m ]\n\u001B[1;32m    615\u001B[0m \u001B[38;5;28;01mif\u001B[39;00m \u001B[38;5;129;01mnot\u001B[39;00m new_context\u001B[38;5;241m.\u001B[39mparameters:\n\u001B[0;32m--> 616\u001B[0m     \u001B[38;5;28mself\u001B[39m\u001B[38;5;241m.\u001B[39mset_circuit_context(new_context\u001B[38;5;241m.\u001B[39mcopy(), \u001B[38;5;241m*\u001B[39m\u001B[38;5;241m*\u001B[39mkwargs)\n",
      "File \u001B[0;32m~/Library/CloudStorage/OneDrive-NationalUniversityofSingapore/Coding_projects/Quantum_Optimal_Control/rl_qoc/environment/context_aware_quantum_environment.py:662\u001B[0m, in \u001B[0;36mContextAwareQuantumEnvironment.set_circuit_context\u001B[0;34m(self, new_context, backend, **kwargs)\u001B[0m\n\u001B[1;32m    651\u001B[0m     \u001B[38;5;28mself\u001B[39m\u001B[38;5;241m.\u001B[39mbackend_info \u001B[38;5;241m=\u001B[39m QiskitBackendInfo(\n\u001B[1;32m    652\u001B[0m         backend,\n\u001B[1;32m    653\u001B[0m         \u001B[38;5;28mself\u001B[39m\u001B[38;5;241m.\u001B[39mconfig\u001B[38;5;241m.\u001B[39mbackend_config\u001B[38;5;241m.\u001B[39minstruction_durations,\n\u001B[1;32m    654\u001B[0m         \u001B[38;5;28mself\u001B[39m\u001B[38;5;241m.\u001B[39mpass_manager,\n\u001B[1;32m    655\u001B[0m         \u001B[38;5;28mself\u001B[39m\u001B[38;5;241m.\u001B[39mconfig\u001B[38;5;241m.\u001B[39mbackend_config\u001B[38;5;241m.\u001B[39mskip_transpilation,\n\u001B[1;32m    656\u001B[0m     )\n\u001B[1;32m    657\u001B[0m     \u001B[38;5;28mself\u001B[39m\u001B[38;5;241m.\u001B[39m_estimator, \u001B[38;5;28mself\u001B[39m\u001B[38;5;241m.\u001B[39m_sampler \u001B[38;5;241m=\u001B[39m retrieve_primitives(\n\u001B[1;32m    658\u001B[0m         \u001B[38;5;28mself\u001B[39m\u001B[38;5;241m.\u001B[39mbackend,\n\u001B[1;32m    659\u001B[0m         \u001B[38;5;28mself\u001B[39m\u001B[38;5;241m.\u001B[39mconfig\u001B[38;5;241m.\u001B[39mbackend_config,\n\u001B[1;32m    660\u001B[0m         \u001B[38;5;28mself\u001B[39m\u001B[38;5;241m.\u001B[39mconfig\u001B[38;5;241m.\u001B[39mbackend_config\u001B[38;5;241m.\u001B[39mas_dict()\u001B[38;5;241m.\u001B[39mget(\u001B[38;5;124m\"\u001B[39m\u001B[38;5;124mprimitive_options\u001B[39m\u001B[38;5;124m\"\u001B[39m, \u001B[38;5;28;01mNone\u001B[39;00m),\n\u001B[1;32m    661\u001B[0m     )\n\u001B[0;32m--> 662\u001B[0m \u001B[38;5;28mself\u001B[39m\u001B[38;5;241m.\u001B[39m_target, \u001B[38;5;28mself\u001B[39m\u001B[38;5;241m.\u001B[39mcircuits, \u001B[38;5;28mself\u001B[39m\u001B[38;5;241m.\u001B[39mbaseline_circuits \u001B[38;5;241m=\u001B[39m \u001B[38;5;28mself\u001B[39m\u001B[38;5;241m.\u001B[39mdefine_target_and_circuits()\n",
      "File \u001B[0;32m~/Library/CloudStorage/OneDrive-NationalUniversityofSingapore/Coding_projects/Quantum_Optimal_Control/rl_qoc/environment/context_aware_quantum_environment.py:232\u001B[0m, in \u001B[0;36mContextAwareQuantumEnvironment.define_target_and_circuits\u001B[0;34m(self)\u001B[0m\n\u001B[1;32m    221\u001B[0m custom_gate_pass \u001B[38;5;241m=\u001B[39m [\n\u001B[1;32m    222\u001B[0m     CustomGateReplacementPass(\n\u001B[1;32m    223\u001B[0m         [\u001B[38;5;28mself\u001B[39m\u001B[38;5;241m.\u001B[39mtarget_instruction],\n\u001B[0;32m   (...)\u001B[0m\n\u001B[1;32m    228\u001B[0m     \u001B[38;5;28;01mfor\u001B[39;00m i \u001B[38;5;129;01min\u001B[39;00m \u001B[38;5;28mrange\u001B[39m(tgt_instruction_counts)\n\u001B[1;32m    229\u001B[0m ]\n\u001B[1;32m    231\u001B[0m pms \u001B[38;5;241m=\u001B[39m [PassManager(pass_) \u001B[38;5;28;01mfor\u001B[39;00m pass_ \u001B[38;5;129;01min\u001B[39;00m custom_gate_pass]\n\u001B[0;32m--> 232\u001B[0m custom_circuits \u001B[38;5;241m=\u001B[39m [\n\u001B[1;32m    233\u001B[0m     pm\u001B[38;5;241m.\u001B[39mrun(circ)\u001B[38;5;241m.\u001B[39mcopy(\u001B[38;5;124mf\u001B[39m\u001B[38;5;124m\"\u001B[39m\u001B[38;5;124mcustom_circ_\u001B[39m\u001B[38;5;132;01m{\u001B[39;00mi\u001B[38;5;132;01m}\u001B[39;00m\u001B[38;5;124m\"\u001B[39m)\n\u001B[1;32m    234\u001B[0m     \u001B[38;5;28;01mfor\u001B[39;00m i, (pm, circ) \u001B[38;5;129;01min\u001B[39;00m \u001B[38;5;28menumerate\u001B[39m(\u001B[38;5;28mzip\u001B[39m(pms, baseline_circuits))\n\u001B[1;32m    235\u001B[0m ]\n\u001B[1;32m    237\u001B[0m \u001B[38;5;66;03m# Case 2: each truncation concatenates the previous ones:\u001B[39;00m\n\u001B[1;32m    238\u001B[0m \u001B[38;5;66;03m# for i in range(tgt_instruction_counts, 0, -1):\u001B[39;00m\n\u001B[1;32m    239\u001B[0m \u001B[38;5;66;03m#     ref_dag = baseline_dags[0].copy_empty_like()\u001B[39;00m\n\u001B[0;32m   (...)\u001B[0m\n\u001B[1;32m    244\u001B[0m \u001B[38;5;66;03m#     baseline_dags[i - 1] = ref_dag\u001B[39;00m\n\u001B[1;32m    245\u001B[0m \u001B[38;5;66;03m#     custom_circuits[i - 1] = custom_circ\u001B[39;00m\n\u001B[1;32m    247\u001B[0m \u001B[38;5;28;01mfor\u001B[39;00m i \u001B[38;5;129;01min\u001B[39;00m \u001B[38;5;28mrange\u001B[39m(tgt_instruction_counts):\n",
      "File \u001B[0;32m~/Library/CloudStorage/OneDrive-NationalUniversityofSingapore/Coding_projects/Quantum_Optimal_Control/rl_qoc/environment/context_aware_quantum_environment.py:233\u001B[0m, in \u001B[0;36m<listcomp>\u001B[0;34m(.0)\u001B[0m\n\u001B[1;32m    221\u001B[0m custom_gate_pass \u001B[38;5;241m=\u001B[39m [\n\u001B[1;32m    222\u001B[0m     CustomGateReplacementPass(\n\u001B[1;32m    223\u001B[0m         [\u001B[38;5;28mself\u001B[39m\u001B[38;5;241m.\u001B[39mtarget_instruction],\n\u001B[0;32m   (...)\u001B[0m\n\u001B[1;32m    228\u001B[0m     \u001B[38;5;28;01mfor\u001B[39;00m i \u001B[38;5;129;01min\u001B[39;00m \u001B[38;5;28mrange\u001B[39m(tgt_instruction_counts)\n\u001B[1;32m    229\u001B[0m ]\n\u001B[1;32m    231\u001B[0m pms \u001B[38;5;241m=\u001B[39m [PassManager(pass_) \u001B[38;5;28;01mfor\u001B[39;00m pass_ \u001B[38;5;129;01min\u001B[39;00m custom_gate_pass]\n\u001B[1;32m    232\u001B[0m custom_circuits \u001B[38;5;241m=\u001B[39m [\n\u001B[0;32m--> 233\u001B[0m     pm\u001B[38;5;241m.\u001B[39mrun(circ)\u001B[38;5;241m.\u001B[39mcopy(\u001B[38;5;124mf\u001B[39m\u001B[38;5;124m\"\u001B[39m\u001B[38;5;124mcustom_circ_\u001B[39m\u001B[38;5;132;01m{\u001B[39;00mi\u001B[38;5;132;01m}\u001B[39;00m\u001B[38;5;124m\"\u001B[39m)\n\u001B[1;32m    234\u001B[0m     \u001B[38;5;28;01mfor\u001B[39;00m i, (pm, circ) \u001B[38;5;129;01min\u001B[39;00m \u001B[38;5;28menumerate\u001B[39m(\u001B[38;5;28mzip\u001B[39m(pms, baseline_circuits))\n\u001B[1;32m    235\u001B[0m ]\n\u001B[1;32m    237\u001B[0m \u001B[38;5;66;03m# Case 2: each truncation concatenates the previous ones:\u001B[39;00m\n\u001B[1;32m    238\u001B[0m \u001B[38;5;66;03m# for i in range(tgt_instruction_counts, 0, -1):\u001B[39;00m\n\u001B[1;32m    239\u001B[0m \u001B[38;5;66;03m#     ref_dag = baseline_dags[0].copy_empty_like()\u001B[39;00m\n\u001B[0;32m   (...)\u001B[0m\n\u001B[1;32m    244\u001B[0m \u001B[38;5;66;03m#     baseline_dags[i - 1] = ref_dag\u001B[39;00m\n\u001B[1;32m    245\u001B[0m \u001B[38;5;66;03m#     custom_circuits[i - 1] = custom_circ\u001B[39;00m\n\u001B[1;32m    247\u001B[0m \u001B[38;5;28;01mfor\u001B[39;00m i \u001B[38;5;129;01min\u001B[39;00m \u001B[38;5;28mrange\u001B[39m(tgt_instruction_counts):\n",
      "File \u001B[0;32m~/anaconda3/envs/rl_qoc/lib/python3.11/site-packages/qiskit/transpiler/passmanager.py:474\u001B[0m, in \u001B[0;36m_replace_error.<locals>.wrapper\u001B[0;34m(*meth_args, **meth_kwargs)\u001B[0m\n\u001B[1;32m    471\u001B[0m \u001B[38;5;129m@wraps\u001B[39m(meth)\n\u001B[1;32m    472\u001B[0m \u001B[38;5;28;01mdef\u001B[39;00m \u001B[38;5;21mwrapper\u001B[39m(\u001B[38;5;241m*\u001B[39mmeth_args, \u001B[38;5;241m*\u001B[39m\u001B[38;5;241m*\u001B[39mmeth_kwargs):\n\u001B[1;32m    473\u001B[0m     \u001B[38;5;28;01mtry\u001B[39;00m:\n\u001B[0;32m--> 474\u001B[0m         \u001B[38;5;28;01mreturn\u001B[39;00m meth(\u001B[38;5;241m*\u001B[39mmeth_args, \u001B[38;5;241m*\u001B[39m\u001B[38;5;241m*\u001B[39mmeth_kwargs)\n\u001B[1;32m    475\u001B[0m     \u001B[38;5;28;01mexcept\u001B[39;00m TranspilerError:\n\u001B[1;32m    476\u001B[0m         \u001B[38;5;66;03m# If it's already a `TranspilerError` subclass, don't erase the extra information.\u001B[39;00m\n\u001B[1;32m    477\u001B[0m         \u001B[38;5;28;01mraise\u001B[39;00m\n",
      "File \u001B[0;32m~/anaconda3/envs/rl_qoc/lib/python3.11/site-packages/qiskit/transpiler/passmanager.py:233\u001B[0m, in \u001B[0;36mPassManager.run\u001B[0;34m(self, circuits, output_name, callback, num_processes, property_set)\u001B[0m\n\u001B[1;32m    230\u001B[0m \u001B[38;5;28;01mif\u001B[39;00m callback \u001B[38;5;129;01mis\u001B[39;00m \u001B[38;5;129;01mnot\u001B[39;00m \u001B[38;5;28;01mNone\u001B[39;00m:\n\u001B[1;32m    231\u001B[0m     callback \u001B[38;5;241m=\u001B[39m _legacy_style_callback(callback)\n\u001B[0;32m--> 233\u001B[0m \u001B[38;5;28;01mreturn\u001B[39;00m \u001B[38;5;28msuper\u001B[39m()\u001B[38;5;241m.\u001B[39mrun(\n\u001B[1;32m    234\u001B[0m     in_programs\u001B[38;5;241m=\u001B[39mcircuits,\n\u001B[1;32m    235\u001B[0m     callback\u001B[38;5;241m=\u001B[39mcallback,\n\u001B[1;32m    236\u001B[0m     output_name\u001B[38;5;241m=\u001B[39moutput_name,\n\u001B[1;32m    237\u001B[0m     num_processes\u001B[38;5;241m=\u001B[39mnum_processes,\n\u001B[1;32m    238\u001B[0m     property_set\u001B[38;5;241m=\u001B[39mproperty_set,\n\u001B[1;32m    239\u001B[0m )\n",
      "File \u001B[0;32m~/anaconda3/envs/rl_qoc/lib/python3.11/site-packages/qiskit/passmanager/passmanager.py:237\u001B[0m, in \u001B[0;36mBasePassManager.run\u001B[0;34m(self, in_programs, callback, num_processes, property_set, **kwargs)\u001B[0m\n\u001B[1;32m    234\u001B[0m \u001B[38;5;66;03m# If we're not going to run in parallel, we want to avoid spending time `dill` serializing\u001B[39;00m\n\u001B[1;32m    235\u001B[0m \u001B[38;5;66;03m# ourselves, since that can be quite expensive.\u001B[39;00m\n\u001B[1;32m    236\u001B[0m \u001B[38;5;28;01mif\u001B[39;00m \u001B[38;5;28mlen\u001B[39m(in_programs) \u001B[38;5;241m==\u001B[39m \u001B[38;5;241m1\u001B[39m \u001B[38;5;129;01mor\u001B[39;00m \u001B[38;5;129;01mnot\u001B[39;00m should_run_in_parallel(num_processes):\n\u001B[0;32m--> 237\u001B[0m     out \u001B[38;5;241m=\u001B[39m [\n\u001B[1;32m    238\u001B[0m         _run_workflow(\n\u001B[1;32m    239\u001B[0m             program\u001B[38;5;241m=\u001B[39mprogram,\n\u001B[1;32m    240\u001B[0m             pass_manager\u001B[38;5;241m=\u001B[39m\u001B[38;5;28mself\u001B[39m,\n\u001B[1;32m    241\u001B[0m             callback\u001B[38;5;241m=\u001B[39mcallback,\n\u001B[1;32m    242\u001B[0m             initial_property_set\u001B[38;5;241m=\u001B[39mproperty_set,\n\u001B[1;32m    243\u001B[0m             \u001B[38;5;241m*\u001B[39m\u001B[38;5;241m*\u001B[39mkwargs,\n\u001B[1;32m    244\u001B[0m         )\n\u001B[1;32m    245\u001B[0m         \u001B[38;5;28;01mfor\u001B[39;00m program \u001B[38;5;129;01min\u001B[39;00m in_programs\n\u001B[1;32m    246\u001B[0m     ]\n\u001B[1;32m    247\u001B[0m     \u001B[38;5;28;01mif\u001B[39;00m \u001B[38;5;28mlen\u001B[39m(in_programs) \u001B[38;5;241m==\u001B[39m \u001B[38;5;241m1\u001B[39m \u001B[38;5;129;01mand\u001B[39;00m \u001B[38;5;129;01mnot\u001B[39;00m is_list:\n\u001B[1;32m    248\u001B[0m         \u001B[38;5;28;01mreturn\u001B[39;00m out[\u001B[38;5;241m0\u001B[39m]\n",
      "File \u001B[0;32m~/anaconda3/envs/rl_qoc/lib/python3.11/site-packages/qiskit/passmanager/passmanager.py:238\u001B[0m, in \u001B[0;36m<listcomp>\u001B[0;34m(.0)\u001B[0m\n\u001B[1;32m    234\u001B[0m \u001B[38;5;66;03m# If we're not going to run in parallel, we want to avoid spending time `dill` serializing\u001B[39;00m\n\u001B[1;32m    235\u001B[0m \u001B[38;5;66;03m# ourselves, since that can be quite expensive.\u001B[39;00m\n\u001B[1;32m    236\u001B[0m \u001B[38;5;28;01mif\u001B[39;00m \u001B[38;5;28mlen\u001B[39m(in_programs) \u001B[38;5;241m==\u001B[39m \u001B[38;5;241m1\u001B[39m \u001B[38;5;129;01mor\u001B[39;00m \u001B[38;5;129;01mnot\u001B[39;00m should_run_in_parallel(num_processes):\n\u001B[1;32m    237\u001B[0m     out \u001B[38;5;241m=\u001B[39m [\n\u001B[0;32m--> 238\u001B[0m         _run_workflow(\n\u001B[1;32m    239\u001B[0m             program\u001B[38;5;241m=\u001B[39mprogram,\n\u001B[1;32m    240\u001B[0m             pass_manager\u001B[38;5;241m=\u001B[39m\u001B[38;5;28mself\u001B[39m,\n\u001B[1;32m    241\u001B[0m             callback\u001B[38;5;241m=\u001B[39mcallback,\n\u001B[1;32m    242\u001B[0m             initial_property_set\u001B[38;5;241m=\u001B[39mproperty_set,\n\u001B[1;32m    243\u001B[0m             \u001B[38;5;241m*\u001B[39m\u001B[38;5;241m*\u001B[39mkwargs,\n\u001B[1;32m    244\u001B[0m         )\n\u001B[1;32m    245\u001B[0m         \u001B[38;5;28;01mfor\u001B[39;00m program \u001B[38;5;129;01min\u001B[39;00m in_programs\n\u001B[1;32m    246\u001B[0m     ]\n\u001B[1;32m    247\u001B[0m     \u001B[38;5;28;01mif\u001B[39;00m \u001B[38;5;28mlen\u001B[39m(in_programs) \u001B[38;5;241m==\u001B[39m \u001B[38;5;241m1\u001B[39m \u001B[38;5;129;01mand\u001B[39;00m \u001B[38;5;129;01mnot\u001B[39;00m is_list:\n\u001B[1;32m    248\u001B[0m         \u001B[38;5;28;01mreturn\u001B[39;00m out[\u001B[38;5;241m0\u001B[39m]\n",
      "File \u001B[0;32m~/anaconda3/envs/rl_qoc/lib/python3.11/site-packages/qiskit/passmanager/passmanager.py:312\u001B[0m, in \u001B[0;36m_run_workflow\u001B[0;34m(program, pass_manager, initial_property_set, **kwargs)\u001B[0m\n\u001B[1;32m    305\u001B[0m passmanager_ir \u001B[38;5;241m=\u001B[39m pass_manager\u001B[38;5;241m.\u001B[39m_passmanager_frontend(\n\u001B[1;32m    306\u001B[0m     input_program\u001B[38;5;241m=\u001B[39mprogram,\n\u001B[1;32m    307\u001B[0m     \u001B[38;5;241m*\u001B[39m\u001B[38;5;241m*\u001B[39mkwargs,\n\u001B[1;32m    308\u001B[0m )\n\u001B[1;32m    309\u001B[0m property_set \u001B[38;5;241m=\u001B[39m (\n\u001B[1;32m    310\u001B[0m     PropertySet() \u001B[38;5;28;01mif\u001B[39;00m initial_property_set \u001B[38;5;129;01mis\u001B[39;00m \u001B[38;5;28;01mNone\u001B[39;00m \u001B[38;5;28;01melse\u001B[39;00m PropertySet(initial_property_set)\n\u001B[1;32m    311\u001B[0m )\n\u001B[0;32m--> 312\u001B[0m passmanager_ir, final_state \u001B[38;5;241m=\u001B[39m flow_controller\u001B[38;5;241m.\u001B[39mexecute(\n\u001B[1;32m    313\u001B[0m     passmanager_ir\u001B[38;5;241m=\u001B[39mpassmanager_ir,\n\u001B[1;32m    314\u001B[0m     state\u001B[38;5;241m=\u001B[39mPassManagerState(workflow_status\u001B[38;5;241m=\u001B[39minitial_status, property_set\u001B[38;5;241m=\u001B[39mproperty_set),\n\u001B[1;32m    315\u001B[0m     callback\u001B[38;5;241m=\u001B[39mkwargs\u001B[38;5;241m.\u001B[39mget(\u001B[38;5;124m\"\u001B[39m\u001B[38;5;124mcallback\u001B[39m\u001B[38;5;124m\"\u001B[39m, \u001B[38;5;28;01mNone\u001B[39;00m),\n\u001B[1;32m    316\u001B[0m )\n\u001B[1;32m    317\u001B[0m \u001B[38;5;66;03m# The `property_set` has historically been returned as a mutable attribute on `PassManager`\u001B[39;00m\n\u001B[1;32m    318\u001B[0m \u001B[38;5;66;03m# This makes us non-reentrant (though `PassManager` would be dependent on its internal tasks to\u001B[39;00m\n\u001B[1;32m    319\u001B[0m \u001B[38;5;66;03m# be re-entrant if that was required), but is consistent with previous interfaces.  We're still\u001B[39;00m\n\u001B[1;32m    320\u001B[0m \u001B[38;5;66;03m# safe to be called in a serial loop, again assuming internal tasks are re-runnable.  The\u001B[39;00m\n\u001B[1;32m    321\u001B[0m \u001B[38;5;66;03m# conversion to the backend language is also allowed to use the property set, so it must be set\u001B[39;00m\n\u001B[1;32m    322\u001B[0m \u001B[38;5;66;03m# before calling it.\u001B[39;00m\n\u001B[1;32m    323\u001B[0m pass_manager\u001B[38;5;241m.\u001B[39mproperty_set \u001B[38;5;241m=\u001B[39m final_state\u001B[38;5;241m.\u001B[39mproperty_set\n",
      "File \u001B[0;32m~/anaconda3/envs/rl_qoc/lib/python3.11/site-packages/qiskit/passmanager/base_tasks.py:218\u001B[0m, in \u001B[0;36mBaseController.execute\u001B[0;34m(self, passmanager_ir, state, callback)\u001B[0m\n\u001B[1;32m    216\u001B[0m     \u001B[38;5;28;01mreturn\u001B[39;00m passmanager_ir, state\n\u001B[1;32m    217\u001B[0m \u001B[38;5;28;01mwhile\u001B[39;00m \u001B[38;5;28;01mTrue\u001B[39;00m:\n\u001B[0;32m--> 218\u001B[0m     passmanager_ir, state \u001B[38;5;241m=\u001B[39m next_task\u001B[38;5;241m.\u001B[39mexecute(\n\u001B[1;32m    219\u001B[0m         passmanager_ir\u001B[38;5;241m=\u001B[39mpassmanager_ir,\n\u001B[1;32m    220\u001B[0m         state\u001B[38;5;241m=\u001B[39mstate,\n\u001B[1;32m    221\u001B[0m         callback\u001B[38;5;241m=\u001B[39mcallback,\n\u001B[1;32m    222\u001B[0m     )\n\u001B[1;32m    223\u001B[0m     \u001B[38;5;28;01mtry\u001B[39;00m:\n\u001B[1;32m    224\u001B[0m         \u001B[38;5;66;03m# Sending the object through the generator implies the custom controllers\u001B[39;00m\n\u001B[1;32m    225\u001B[0m         \u001B[38;5;66;03m# can always rely on the latest data to choose the next task to run.\u001B[39;00m\n\u001B[1;32m    226\u001B[0m         next_task \u001B[38;5;241m=\u001B[39m task_generator\u001B[38;5;241m.\u001B[39msend(state)\n",
      "File \u001B[0;32m~/anaconda3/envs/rl_qoc/lib/python3.11/site-packages/qiskit/transpiler/basepasses.py:167\u001B[0m, in \u001B[0;36mTransformationPass.execute\u001B[0;34m(self, passmanager_ir, state, callback)\u001B[0m\n\u001B[1;32m    161\u001B[0m \u001B[38;5;28;01mdef\u001B[39;00m \u001B[38;5;21mexecute\u001B[39m(\n\u001B[1;32m    162\u001B[0m     \u001B[38;5;28mself\u001B[39m,\n\u001B[1;32m    163\u001B[0m     passmanager_ir: PassManagerIR,\n\u001B[1;32m    164\u001B[0m     state: PassManagerState,\n\u001B[1;32m    165\u001B[0m     callback: Callable \u001B[38;5;241m=\u001B[39m \u001B[38;5;28;01mNone\u001B[39;00m,\n\u001B[1;32m    166\u001B[0m ) \u001B[38;5;241m-\u001B[39m\u001B[38;5;241m>\u001B[39m \u001B[38;5;28mtuple\u001B[39m[PassManagerIR, PassManagerState]:\n\u001B[0;32m--> 167\u001B[0m     new_dag, state \u001B[38;5;241m=\u001B[39m \u001B[38;5;28msuper\u001B[39m()\u001B[38;5;241m.\u001B[39mexecute(\n\u001B[1;32m    168\u001B[0m         passmanager_ir\u001B[38;5;241m=\u001B[39mpassmanager_ir,\n\u001B[1;32m    169\u001B[0m         state\u001B[38;5;241m=\u001B[39mstate,\n\u001B[1;32m    170\u001B[0m         callback\u001B[38;5;241m=\u001B[39mcallback,\n\u001B[1;32m    171\u001B[0m     )\n\u001B[1;32m    173\u001B[0m     \u001B[38;5;28;01mif\u001B[39;00m state\u001B[38;5;241m.\u001B[39mworkflow_status\u001B[38;5;241m.\u001B[39mprevious_run \u001B[38;5;241m==\u001B[39m RunState\u001B[38;5;241m.\u001B[39mSUCCESS:\n\u001B[1;32m    174\u001B[0m         \u001B[38;5;28;01mif\u001B[39;00m \u001B[38;5;129;01mnot\u001B[39;00m \u001B[38;5;28misinstance\u001B[39m(new_dag, DAGCircuit):\n",
      "File \u001B[0;32m~/anaconda3/envs/rl_qoc/lib/python3.11/site-packages/qiskit/passmanager/base_tasks.py:98\u001B[0m, in \u001B[0;36mGenericPass.execute\u001B[0;34m(self, passmanager_ir, state, callback)\u001B[0m\n\u001B[1;32m     96\u001B[0m \u001B[38;5;28;01mtry\u001B[39;00m:\n\u001B[1;32m     97\u001B[0m     \u001B[38;5;28;01mif\u001B[39;00m \u001B[38;5;28mself\u001B[39m \u001B[38;5;129;01mnot\u001B[39;00m \u001B[38;5;129;01min\u001B[39;00m state\u001B[38;5;241m.\u001B[39mworkflow_status\u001B[38;5;241m.\u001B[39mcompleted_passes:\n\u001B[0;32m---> 98\u001B[0m         ret \u001B[38;5;241m=\u001B[39m \u001B[38;5;28mself\u001B[39m\u001B[38;5;241m.\u001B[39mrun(passmanager_ir)\n\u001B[1;32m     99\u001B[0m         run_state \u001B[38;5;241m=\u001B[39m RunState\u001B[38;5;241m.\u001B[39mSUCCESS\n\u001B[1;32m    100\u001B[0m     \u001B[38;5;28;01melse\u001B[39;00m:\n",
      "File \u001B[0;32m~/Library/CloudStorage/OneDrive-NationalUniversityofSingapore/Coding_projects/Quantum_Optimal_Control/rl_qoc/helpers/transpiler_passes.py:159\u001B[0m, in \u001B[0;36mCustomGateReplacementPass.run\u001B[0;34m(self, dag)\u001B[0m\n\u001B[1;32m    157\u001B[0m     qc\u001B[38;5;241m.\u001B[39mappend(func, qargs2, cargs2)\n\u001B[1;32m    158\u001B[0m \u001B[38;5;28;01melse\u001B[39;00m:  \u001B[38;5;66;03m# Callable\u001B[39;00m\n\u001B[0;32m--> 159\u001B[0m     func(\n\u001B[1;32m    160\u001B[0m         qc,\n\u001B[1;32m    161\u001B[0m         \u001B[38;5;28mself\u001B[39m\u001B[38;5;241m.\u001B[39mparameters[i],\n\u001B[1;32m    162\u001B[0m         args,\n\u001B[1;32m    163\u001B[0m         \u001B[38;5;241m*\u001B[39m\u001B[38;5;241m*\u001B[39m\u001B[38;5;28mself\u001B[39m\u001B[38;5;241m.\u001B[39mparametrized_circuit_functions_args[i],\n\u001B[1;32m    164\u001B[0m     )\n\u001B[1;32m    166\u001B[0m instruction_nodes \u001B[38;5;241m=\u001B[39m dag\u001B[38;5;241m.\u001B[39mnamed_nodes(op\u001B[38;5;241m.\u001B[39mname)\n\u001B[1;32m    167\u001B[0m instruction_nodes \u001B[38;5;241m=\u001B[39m \u001B[38;5;28mlist\u001B[39m(\n\u001B[1;32m    168\u001B[0m     \u001B[38;5;28mfilter\u001B[39m(\n\u001B[1;32m    169\u001B[0m         \u001B[38;5;28;01mlambda\u001B[39;00m node: node\u001B[38;5;241m.\u001B[39mqargs \u001B[38;5;241m==\u001B[39m qargs \u001B[38;5;129;01mand\u001B[39;00m node\u001B[38;5;241m.\u001B[39mcargs \u001B[38;5;241m==\u001B[39m cargs,\n\u001B[1;32m    170\u001B[0m         instruction_nodes,\n\u001B[1;32m    171\u001B[0m     )\n\u001B[1;32m    172\u001B[0m )\n",
      "Cell \u001B[0;32mIn[8], line 34\u001B[0m, in \u001B[0;36mapply_parameters\u001B[0;34m(qc, params, qreg, *args)\u001B[0m\n\u001B[1;32m     32\u001B[0m     qc\u001B[38;5;241m.\u001B[39mrzz(params[\u001B[38;5;241m0\u001B[39m], qreg[\u001B[38;5;241m0\u001B[39m], qreg[\u001B[38;5;241m1\u001B[39m])\n\u001B[1;32m     33\u001B[0m \u001B[38;5;28;01melse\u001B[39;00m:\n\u001B[0;32m---> 34\u001B[0m     \u001B[38;5;28;01mwith\u001B[39;00m qp\u001B[38;5;241m.\u001B[39mbuild(backend) \u001B[38;5;28;01mas\u001B[39;00m sched:\n\u001B[1;32m     35\u001B[0m         qp\u001B[38;5;241m.\u001B[39mplay(\n\u001B[1;32m     36\u001B[0m             qp\u001B[38;5;241m.\u001B[39mDrag(duration\u001B[38;5;241m=\u001B[39m\u001B[38;5;241m120\u001B[39m, amp\u001B[38;5;241m=\u001B[39mparams[\u001B[38;5;241m0\u001B[39m], sigma\u001B[38;5;241m=\u001B[39m\u001B[38;5;241m40\u001B[39m, beta\u001B[38;5;241m=\u001B[39m\u001B[38;5;241m0.2\u001B[39m),\n\u001B[1;32m     37\u001B[0m             backend\u001B[38;5;241m.\u001B[39mdrive_channel(idx_0),\n\u001B[1;32m     38\u001B[0m         )\n\u001B[1;32m     39\u001B[0m     qc\u001B[38;5;241m.\u001B[39madd_calibration(\n\u001B[1;32m     40\u001B[0m         \u001B[38;5;124m\"\u001B[39m\u001B[38;5;124mrx\u001B[39m\u001B[38;5;124m\"\u001B[39m,\n\u001B[1;32m     41\u001B[0m         [\n\u001B[0;32m   (...)\u001B[0m\n\u001B[1;32m     45\u001B[0m         params\u001B[38;5;241m.\u001B[39mparams \u001B[38;5;28;01mif\u001B[39;00m \u001B[38;5;28misinstance\u001B[39m(params, ParameterVector) \u001B[38;5;28;01melse\u001B[39;00m params,\n\u001B[1;32m     46\u001B[0m     )\n",
      "\u001B[0;31mNameError\u001B[0m: name 'qp' is not defined"
     ]
    }
   ],
   "execution_count": 8
  },
  {
   "metadata": {
    "ExecuteTime": {
     "end_time": "2025-05-29T01:44:42.319948Z",
     "start_time": "2025-05-29T01:44:41.877623Z"
    }
   },
   "cell_type": "code",
   "source": "q_env.rl_qoc_training_qua_prog()",
   "id": "1c01ce96f3e34ccb",
   "outputs": [
    {
     "data": {
      "text/plain": [
       "<qm.program.program.Program at 0x17698ffd0>"
      ]
     },
     "execution_count": 6,
     "metadata": {},
     "output_type": "execute_result"
    }
   ],
   "execution_count": 6
  },
  {
   "metadata": {
    "ExecuteTime": {
     "end_time": "2025-05-26T05:39:10.258140Z",
     "start_time": "2025-05-26T05:39:09.863176Z"
    }
   },
   "cell_type": "code",
   "source": [
    "from qm import generate_qua_script\n",
    "\n",
    "print(\n",
    "    generate_qua_script(\n",
    "        backend.quantum_circuit_to_qua(q_env.real_time_circuit).result_program.dsl_program\n",
    "    )\n",
    ")"
   ],
   "id": "39326b9cb2cd8411",
   "outputs": [
    {
     "name": "stdout",
     "output_type": "stream",
     "text": [
      "\n",
      "# Single QUA script generated at 2025-05-26 13:39:10.256848\n",
      "# QUA library version: 1.2.2rc2+dgx2\n",
      "\n",
      "\n",
      "from qm import CompilerOptionArguments\n",
      "from qm.qua import *\n",
      "\n",
      "with program() as prog:\n",
      "    input_stream_a_0_0 = declare_input_stream(fixed, 'a_0_0', value=0.0)\n",
      "    input_stream_observable_1 = declare_input_stream(int, 'observable_1', value=0)\n",
      "    input_stream_n_reps = declare_input_stream(int, 'n_reps', value=0)\n",
      "    input_stream_input_state_1 = declare_input_stream(int, 'input_state_1', value=0)\n",
      "    input_stream_input_state_0 = declare_input_stream(int, 'input_state_0', value=0)\n",
      "    input_stream_observable_0 = declare_input_stream(int, 'observable_0', value=0)\n",
      "    a1 = declare(bool, value=[False, False])\n",
      "    v1 = declare(int, value=0)\n",
      "    v2 = declare(int, value=0)\n",
      "    v3 = declare(int, value=0)\n",
      "    v4 = declare(int, value=0)\n",
      "    v5 = declare(int, value=0)\n",
      "    v6 = declare(fixed, value=0.0)\n",
      "    v7 = declare(bool, )\n",
      "    v8 = declare(fixed, )\n",
      "    v9 = declare(fixed, )\n",
      "    v10 = declare(fixed, )\n",
      "    v11 = declare(fixed, )\n",
      "    v12 = declare(bool, )\n",
      "    v13 = declare(int, value=1)\n",
      "    v14 = declare(bool, )\n",
      "    v15 = declare(fixed, )\n",
      "    v16 = declare(fixed, )\n",
      "    v17 = declare(fixed, )\n",
      "    v18 = declare(fixed, )\n",
      "    v19 = declare(bool, )\n",
      "    v20 = declare(int, value=1)\n",
      "    advance_input_stream(input_stream_a_0_0)\n",
      "    advance_input_stream(input_stream_observable_1)\n",
      "    advance_input_stream(input_stream_n_reps)\n",
      "    advance_input_stream(input_stream_input_state_1)\n",
      "    advance_input_stream(input_stream_input_state_0)\n",
      "    advance_input_stream(input_stream_observable_0)\n",
      "    assign(v1, input_stream_input_state_0)\n",
      "    with if_((v1==1), unsafe=True):\n",
      "        align(\"q1.resonator\", \"q1.xy\", \"q1.z\")\n",
      "        play(\"x180_DragCosine\", \"q1.xy\")\n",
      "        align(\"q1.resonator\", \"q1.xy\", \"q1.z\")\n",
      "    with elif_((v1==2)):\n",
      "        align(\"q1.resonator\", \"q1.xy\", \"q1.z\")\n",
      "        frame_rotation_2pi(1.5707963267948966, \"q1.xy\")\n",
      "        align(\"q1.resonator\", \"q1.xy\", \"q1.z\")\n",
      "        align(\"q1.resonator\", \"q1.xy\", \"q1.z\")\n",
      "        play(\"x90_DragCosine\", \"q1.xy\")\n",
      "        align(\"q1.resonator\", \"q1.xy\", \"q1.z\")\n",
      "        align(\"q1.resonator\", \"q1.xy\", \"q1.z\")\n",
      "        frame_rotation_2pi(1.5707963267948966, \"q1.xy\")\n",
      "        align(\"q1.resonator\", \"q1.xy\", \"q1.z\")\n",
      "    with elif_((v1==3)):\n",
      "        align(\"q1.resonator\", \"q1.xy\", \"q1.z\")\n",
      "        frame_rotation_2pi(1.5707963267948966, \"q1.xy\")\n",
      "        align(\"q1.resonator\", \"q1.xy\", \"q1.z\")\n",
      "        align(\"q1.resonator\", \"q1.xy\", \"q1.z\")\n",
      "        play(\"x90_DragCosine\", \"q1.xy\")\n",
      "        align(\"q1.resonator\", \"q1.xy\", \"q1.z\")\n",
      "        align(\"q1.resonator\", \"q1.xy\", \"q1.z\")\n",
      "        frame_rotation_2pi(-3.141592653589793, \"q1.xy\")\n",
      "        align(\"q1.resonator\", \"q1.xy\", \"q1.z\")\n",
      "    assign(v2, input_stream_input_state_1)\n",
      "    with if_((v2==1), unsafe=True):\n",
      "        align(\"q2.resonator\", \"q2.xy\", \"q2.z\")\n",
      "        play(\"x180_DragCosine\", \"q2.xy\")\n",
      "        align(\"q2.resonator\", \"q2.xy\", \"q2.z\")\n",
      "    with elif_((v2==2)):\n",
      "        align(\"q2.resonator\", \"q2.xy\", \"q2.z\")\n",
      "        frame_rotation_2pi(1.5707963267948966, \"q2.xy\")\n",
      "        align(\"q2.resonator\", \"q2.xy\", \"q2.z\")\n",
      "        align(\"q2.resonator\", \"q2.xy\", \"q2.z\")\n",
      "        play(\"x90_DragCosine\", \"q2.xy\")\n",
      "        align(\"q2.resonator\", \"q2.xy\", \"q2.z\")\n",
      "        align(\"q2.resonator\", \"q2.xy\", \"q2.z\")\n",
      "        frame_rotation_2pi(1.5707963267948966, \"q2.xy\")\n",
      "        align(\"q2.resonator\", \"q2.xy\", \"q2.z\")\n",
      "    with elif_((v2==3)):\n",
      "        align(\"q2.resonator\", \"q2.xy\", \"q2.z\")\n",
      "        frame_rotation_2pi(1.5707963267948966, \"q2.xy\")\n",
      "        align(\"q2.resonator\", \"q2.xy\", \"q2.z\")\n",
      "        align(\"q2.resonator\", \"q2.xy\", \"q2.z\")\n",
      "        play(\"x90_DragCosine\", \"q2.xy\")\n",
      "        align(\"q2.resonator\", \"q2.xy\", \"q2.z\")\n",
      "        align(\"q2.resonator\", \"q2.xy\", \"q2.z\")\n",
      "        frame_rotation_2pi(-3.141592653589793, \"q2.xy\")\n",
      "        align(\"q2.resonator\", \"q2.xy\", \"q2.z\")\n",
      "    with for_(v5,0,(input_stream_n_reps>=v5),(v5+1)):\n",
      "        align(\"q1.resonator\", \"q1.xy\", \"q1.z\", \"q2.resonator\", \"q2.xy\", \"q2.z\")\n",
      "        assign(v6, input_stream_a_0_0)\n",
      "        play(\"block0_0\", \"q1.z\")\n",
      "        play(\"block0_1\"*amp((3.9998400063997437*v6)), \"coupler_q1_q2\")\n",
      "        align(\"q1.resonator\", \"q1.xy\", \"q1.z\", \"q2.resonator\", \"q2.xy\", \"q2.z\")\n",
      "    assign(v3, input_stream_observable_0)\n",
      "    with if_((v3==1), unsafe=True):\n",
      "        align(\"q1.resonator\", \"q1.xy\", \"q1.z\")\n",
      "        frame_rotation_2pi(1.5707963267948966, \"q1.xy\")\n",
      "        align(\"q1.resonator\", \"q1.xy\", \"q1.z\")\n",
      "        align(\"q1.resonator\", \"q1.xy\", \"q1.z\")\n",
      "        play(\"x90_DragCosine\", \"q1.xy\")\n",
      "        align(\"q1.resonator\", \"q1.xy\", \"q1.z\")\n",
      "        align(\"q1.resonator\", \"q1.xy\", \"q1.z\")\n",
      "        frame_rotation_2pi(1.5707963267948966, \"q1.xy\")\n",
      "        align(\"q1.resonator\", \"q1.xy\", \"q1.z\")\n",
      "    with elif_((v3==2)):\n",
      "        align(\"q1.resonator\", \"q1.xy\", \"q1.z\")\n",
      "        play(\"x90_DragCosine\", \"q1.xy\")\n",
      "        align(\"q1.resonator\", \"q1.xy\", \"q1.z\")\n",
      "        align(\"q1.resonator\", \"q1.xy\", \"q1.z\")\n",
      "        frame_rotation_2pi(1.5707963267948966, \"q1.xy\")\n",
      "        align(\"q1.resonator\", \"q1.xy\", \"q1.z\")\n",
      "    assign(v4, input_stream_observable_1)\n",
      "    with if_((v4==1), unsafe=True):\n",
      "        align(\"q2.resonator\", \"q2.xy\", \"q2.z\")\n",
      "        frame_rotation_2pi(1.5707963267948966, \"q2.xy\")\n",
      "        align(\"q2.resonator\", \"q2.xy\", \"q2.z\")\n",
      "        align(\"q2.resonator\", \"q2.xy\", \"q2.z\")\n",
      "        play(\"x90_DragCosine\", \"q2.xy\")\n",
      "        align(\"q2.resonator\", \"q2.xy\", \"q2.z\")\n",
      "        align(\"q2.resonator\", \"q2.xy\", \"q2.z\")\n",
      "        frame_rotation_2pi(1.5707963267948966, \"q2.xy\")\n",
      "        align(\"q2.resonator\", \"q2.xy\", \"q2.z\")\n",
      "    with elif_((v4==2)):\n",
      "        align(\"q2.resonator\", \"q2.xy\", \"q2.z\")\n",
      "        play(\"x90_DragCosine\", \"q2.xy\")\n",
      "        align(\"q2.resonator\", \"q2.xy\", \"q2.z\")\n",
      "        align(\"q2.resonator\", \"q2.xy\", \"q2.z\")\n",
      "        frame_rotation_2pi(1.5707963267948966, \"q2.xy\")\n",
      "        align(\"q2.resonator\", \"q2.xy\", \"q2.z\")\n",
      "    align(\"q1.resonator\", \"q1.xy\", \"q1.z\")\n",
      "    measure(\"readout\", \"q1.resonator\", dual_demod.full(\"iw1\", \"iw2\", v8), dual_demod.full(\"iw3\", \"iw1\", v9))\n",
      "    assign(v7, (v8>-1.628262415766392e-05))\n",
      "    align(\"q1.resonator\", \"q1.xy\", \"q1.z\")\n",
      "    assign(a1[0], v7)\n",
      "    align(\"q1.resonator\", \"q1.xy\", \"q1.z\")\n",
      "    assign(v13, 1)\n",
      "    align(\"q1.z\", \"q1.resonator\", \"q1.xy\")\n",
      "    measure(\"readout\", \"q1.resonator\", dual_demod.full(\"iw1\", \"iw2\", v10), dual_demod.full(\"iw3\", \"iw1\", v11))\n",
      "    assign(v12, (v10>-1.628262415766392e-05))\n",
      "    wait(30000, \"q1.resonator\")\n",
      "    play(\"x180_DragCosine\", \"q1.xy\", condition=v12)\n",
      "    align(\"q1.z\", \"q1.resonator\", \"q1.xy\")\n",
      "    with while_(((v10>-0.00014833485972262327)&(v13<5))):\n",
      "        align(\"q1.z\", \"q1.resonator\", \"q1.xy\")\n",
      "        measure(\"readout\", \"q1.resonator\", dual_demod.full(\"iw1\", \"iw2\", v10), dual_demod.full(\"iw3\", \"iw1\", v11))\n",
      "        assign(v12, (v10>-1.628262415766392e-05))\n",
      "        wait(30000, \"q1.resonator\")\n",
      "        play(\"x180_DragCosine\", \"q1.xy\", condition=v12)\n",
      "        align(\"q1.z\", \"q1.resonator\", \"q1.xy\")\n",
      "        assign(v13, (v13+1))\n",
      "    wait(500, \"q1.xy\")\n",
      "    align(\"q1.z\", \"q1.resonator\", \"q1.xy\")\n",
      "    align(\"q1.resonator\", \"q1.xy\", \"q1.z\")\n",
      "    align(\"q2.resonator\", \"q2.xy\", \"q2.z\")\n",
      "    measure(\"readout\", \"q2.resonator\", dual_demod.full(\"iw1\", \"iw2\", v15), dual_demod.full(\"iw3\", \"iw1\", v16))\n",
      "    assign(v14, (v15>1.6458857692958052e-05))\n",
      "    align(\"q2.resonator\", \"q2.xy\", \"q2.z\")\n",
      "    assign(a1[1], v14)\n",
      "    align(\"q2.resonator\", \"q2.xy\", \"q2.z\")\n",
      "    assign(v20, 1)\n",
      "    align(\"q2.resonator\", \"q2.xy\", \"q2.z\")\n",
      "    measure(\"readout\", \"q2.resonator\", dual_demod.full(\"iw1\", \"iw2\", v17), dual_demod.full(\"iw3\", \"iw1\", v18))\n",
      "    assign(v19, (v17>1.6458857692958052e-05))\n",
      "    wait(30000, \"q2.resonator\")\n",
      "    play(\"x180_DragCosine\", \"q2.xy\", condition=v19)\n",
      "    align(\"q2.resonator\", \"q2.xy\", \"q2.z\")\n",
      "    with while_(((v17>-0.00010207124671233987)&(v20<5))):\n",
      "        align(\"q2.resonator\", \"q2.xy\", \"q2.z\")\n",
      "        measure(\"readout\", \"q2.resonator\", dual_demod.full(\"iw1\", \"iw2\", v17), dual_demod.full(\"iw3\", \"iw1\", v18))\n",
      "        assign(v19, (v17>1.6458857692958052e-05))\n",
      "        wait(30000, \"q2.resonator\")\n",
      "        play(\"x180_DragCosine\", \"q2.xy\", condition=v19)\n",
      "        align(\"q2.resonator\", \"q2.xy\", \"q2.z\")\n",
      "        assign(v20, (v20+1))\n",
      "    wait(500, \"q2.xy\")\n",
      "    align(\"q2.resonator\", \"q2.xy\", \"q2.z\")\n",
      "    align(\"q2.resonator\", \"q2.xy\", \"q2.z\")\n",
      "\n",
      "config = None\n",
      "\n",
      "loaded_config = None\n",
      "\n",
      "\n"
     ]
    }
   ],
   "execution_count": 4
  },
  {
   "metadata": {
    "ExecuteTime": {
     "end_time": "2025-05-26T05:39:10.695825Z",
     "start_time": "2025-05-26T05:39:10.343677Z"
    }
   },
   "cell_type": "code",
   "source": "q_env.real_time_circuit.draw(\"mpl\", idle_wires=False, with_layout=False)",
   "id": "ead16ce63efac36d",
   "outputs": [
    {
     "data": {
      "text/plain": [
       "<Figure size 2252.61x953.167 with 1 Axes>"
      ],
      "image/png": "[encoded data removed]"
     },
     "execution_count": 5,
     "metadata": {},
     "output_type": "execute_result"
    }
   ],
   "execution_count": 5
  },
  {
   "metadata": {
    "ExecuteTime": {
     "end_time": "2025-05-26T05:39:10.959413Z",
     "start_time": "2025-05-26T05:39:10.956766Z"
    }
   },
   "cell_type": "code",
   "source": "print(backend.target)",
   "id": "658a2c63008d7c7f",
   "outputs": [
    {
     "name": "stdout",
     "output_type": "stream",
     "text": [
      "Target: Transmon based QuAM\n",
      "Number of qubits: 5\n",
      "Instructions:\n",
      "\tx\n",
      "\t\t(0,)\n",
      "\t\t(1,)\n",
      "\t\t(2,)\n",
      "\t\t(3,)\n",
      "\t\t(4,)\n",
      "\trz\n",
      "\t\t(0,)\n",
      "\t\t(1,)\n",
      "\t\t(2,)\n",
      "\t\t(3,)\n",
      "\t\t(4,)\n",
      "\tsx\n",
      "\t\t(0,)\n",
      "\t\t(1,)\n",
      "\t\t(2,)\n",
      "\t\t(3,)\n",
      "\t\t(4,)\n",
      "\tmeasure\n",
      "\t\t(0,)\n",
      "\t\t(1,)\n",
      "\t\t(2,)\n",
      "\t\t(3,)\n",
      "\t\t(4,)\n",
      "\treset\n",
      "\t\t(0,)\n",
      "\t\t(1,)\n",
      "\t\t(2,)\n",
      "\t\t(3,)\n",
      "\t\t(4,)\n",
      "\tdelay\n",
      "\t\t(0,)\n",
      "\t\t(1,)\n",
      "\t\t(2,)\n",
      "\t\t(3,)\n",
      "\t\t(4,)\n",
      "\tcz\n",
      "\t\t(0, 1)\n",
      "\t\t(1, 2)\n",
      "\t\t(2, 3)\n",
      "\t\t(3, 4)\n",
      "\tif_else\n",
      "\twhile_loop\n",
      "\tfor_loop\n",
      "\tswitch_case\n",
      "\n"
     ]
    }
   ],
   "execution_count": 6
  },
  {
   "metadata": {
    "ExecuteTime": {
     "end_time": "2025-05-26T05:39:11.347763Z",
     "start_time": "2025-05-26T05:39:11.344521Z"
    }
   },
   "cell_type": "code",
   "source": "q_env.real_time_circuit.calibrations",
   "id": "dd799c41195c46e3",
   "outputs": [
    {
     "name": "stderr",
     "output_type": "stream",
     "text": [
      "/var/folders/5w/ygx15jq94z5dzxwkmbbj8zfm0000gn/T/ipykernel_3364/620505994.py:1: DeprecationWarning: The property ``qiskit.circuit.quantumcircuit.QuantumCircuit.calibrations`` is deprecated as of Qiskit 1.3. It will be removed in Qiskit 2.0. The entire Qiskit Pulse package is being deprecated and will be moved to the Qiskit Dynamics repository: https://github.com/qiskit-community/qiskit-dynamics. Note that once removed, ``qiskit.circuit.quantumcircuit.QuantumCircuit.calibrations`` will have no alternative in Qiskit.\n",
      "  q_env.real_time_circuit.calibrations\n"
     ]
    },
    {
     "data": {
      "text/plain": [
       "{'rzz': {((0, 1),\n",
       "   (Parameter(a_0_0),)): ScheduleBlock(Play(Constant(duration=120, amp=0.1, angle=0.0, name='block0_0'), FluxChannel(0)), Play(Constant(duration=120, amp=a_0_0, angle=0.0, name='block0_1'), ControlChannel(0)), name=\"block0\", transform=AlignLeft())},\n",
       " 'x': {((0,),\n",
       "   ()): ScheduleBlock(Play(Drag(duration=120, sigma=40, beta=0.2, amp=0.3, angle=0.0, name='x_custom_014771845584'), DriveChannel(0)), name=\"x_custom\", transform=AlignLeft()),\n",
       "  ((1,),\n",
       "   ()): ScheduleBlock(Play(Drag(duration=120, sigma=40, beta=0.2, amp=0.3, angle=0.0, name='x_custom_014771845584'), DriveChannel(0)), name=\"x_custom\", transform=AlignLeft())}}"
      ]
     },
     "execution_count": 7,
     "metadata": {},
     "output_type": "execute_result"
    }
   ],
   "execution_count": 7
  },
  {
   "metadata": {
    "ExecuteTime": {
     "end_time": "2025-05-29T01:45:04.581890Z",
     "start_time": "2025-05-29T01:45:03.781653Z"
    }
   },
   "cell_type": "code",
   "source": [
    "from qm import generate_qua_script\n",
    "\n",
    "prog = q_env.rl_qoc_training_qua_prog()\n",
    "print(generate_qua_script(prog))"
   ],
   "id": "3721dff28ed0c981",
   "outputs": [
    {
     "name": "stdout",
     "output_type": "stream",
     "text": [
      "\n",
      "# Single QUA script generated at 2025-05-29 09:45:04.578823\n",
      "# QUA library version: 1.2.2rc2+dgx2\n",
      "\n",
      "\n",
      "from qm import CompilerOptionArguments\n",
      "from qm.qua import *\n",
      "\n",
      "with program() as prog:\n",
      "    input_stream_a_0_0 = declare_input_stream(fixed, 'a_0_0', value=0.0)\n",
      "    input_stream_max_input_state = declare_input_stream(int, 'max_input_state', value=0)\n",
      "    input_stream_input_state_0 = declare_input_stream(int, 'input_state_0', value=0)\n",
      "    input_stream_mu = declare_input_stream(fixed, 'mu', value=[0.0])\n",
      "    v1 = declare(int, )\n",
      "    input_stream_sigma = declare_input_stream(fixed, 'sigma', value=[1.0])\n",
      "    v2 = declare(int, )\n",
      "    input_stream_reward = declare_input_stream(int, 'reward', value=[0, 0])\n",
      "    v3 = declare(int, )\n",
      "    input_stream_n_reps = declare_input_stream(int, 'n_reps', value=2)\n",
      "    input_stream_observable_0 = declare_input_stream(int, 'observable_0', value=0)\n",
      "    v4 = declare(int, )\n",
      "    input_stream_max_observables = declare_input_stream(int, 'max_observables', value=0)\n",
      "    input_stream_pauli_shots = declare_input_stream(int, 'pauli_shots', value=100)\n",
      "    v5 = declare(int, )\n",
      "    v6 = declare(int, )\n",
      "    v7 = declare(int, )\n",
      "    v8 = declare(int, )\n",
      "    a1 = declare(fixed, value=[-1.0])\n",
      "    a2 = declare(fixed, value=[1.0])\n",
      "    v9 = declare(int, )\n",
      "    a3 = declare(fixed, value=[1.0, 0.9999247018391445, 0.9996988186962042, 0.9993223845883495, 0.9987954562051724, 0.9981181129001492, 0.9972904566786902, 0.996312612182778, 0.9951847266721969, 0.9939069700023561, 0.99247953459871, 0.99090263542778, 0.989176509964781, 0.9873014181578584, 0.9852776423889412, 0.9831054874312163, 0.9807852804032304, 0.9783173707196277, 0.9757021300385286, 0.9729399522055602, 0.970031253194544, 0.9669764710448521, 0.9637760657954398, 0.9604305194155658, 0.9569403357322088, 0.9533060403541939, 0.9495281805930367, 0.9456073253805213, 0.9415440651830208, 0.937339011912575, 0.932992798834739, 0.9285060804732156, 0.9238795325112867, 0.9191138516900578, 0.9142097557035307, 0.9091679830905224, 0.9039892931234433, 0.8986744656939538, 0.8932243011955153, 0.8876396204028539, 0.881921264348355, 0.8760700941954066, 0.8700869911087115, 0.8639728561215867, 0.8577286100002721, 0.8513551931052652, 0.8448535652497071, 0.8382247055548381, 0.8314696123025452, 0.8245893027850253, 0.8175848131515837, 0.8104571982525948, 0.8032075314806449, 0.7958369046088836, 0.7883464276266062, 0.7807372285720945, 0.773010453362737, 0.765167265622459, 0.7572088465064846, 0.7491363945234594, 0.7409511253549592, 0.7326542716724128, 0.724247082951467, 0.7157308252838187, 0.7071067811865476, 0.6983762494089729, 0.6895405447370669, 0.680600997795453, 0.6715589548470183, 0.6624157775901718, 0.6531728429537769, 0.6438315428897915, 0.6343932841636455, 0.6248594881423865, 0.6152315905806268, 0.6055110414043255, 0.5956993044924335, 0.5857978574564389, 0.5758081914178453, 0.5657318107836132, 0.5555702330196023, 0.5453249884220465, 0.5349976198870973, 0.5245896826784688, 0.5141027441932217, 0.5035383837257176, 0.4928981922297841, 0.48218377207912283, 0.4713967368259978, 0.46053871095824, 0.4496113296546066, 0.4386162385385277, 0.4275550934302822, 0.4164295600976373, 0.40524131400498986, 0.3939920400610481, 0.38268343236508984, 0.3713171939518376, 0.3598950365349883, 0.3484186802494345, 0.33688985339222005, 0.325310292162263, 0.3136817403988916, 0.3020059493192282, 0.29028467725446233, 0.27851968938505306, 0.2667127574748984, 0.2548656596045146, 0.24298017990326398, 0.23105810828067128, 0.21910124015686977, 0.20711137619221856, 0.19509032201612833, 0.18303988795514106, 0.17096188876030136, 0.1588581433338614, 0.14673047445536175, 0.13458070850712622, 0.12241067519921628, 0.11022220729388318, 0.09801714032956077, 0.08579731234443988, 0.07356456359966745, 0.06132073630220865, 0.049067674327418126, 0.03680722294135899, 0.024541228522912264, 0.012271538285719944, 6.123233995736766e-17, -0.012271538285719823, -0.024541228522912142, -0.036807222941358866, -0.04906767432741801, -0.06132073630220853, -0.07356456359966733, -0.08579731234443976, -0.09801714032956065, -0.11022220729388306, -0.12241067519921615, -0.1345807085071261, -0.14673047445536164, -0.15885814333386128, -0.17096188876030124, -0.18303988795514092, -0.1950903220161282, -0.20711137619221845, -0.21910124015686966, -0.23105810828067114, -0.24298017990326387, -0.2548656596045145, -0.2667127574748983, -0.27851968938505295, -0.29028467725446216, -0.3020059493192281, -0.3136817403988914, -0.32531029216226287, -0.33688985339221994, -0.3484186802494344, -0.35989503653498817, -0.3713171939518375, -0.3826834323650897, -0.393992040061048, -0.40524131400498975, -0.416429560097637, -0.42755509343028186, -0.4386162385385274, -0.4496113296546067, -0.46053871095824006, -0.4713967368259977, -0.4821837720791228, -0.492898192229784, -0.5035383837257175, -0.5141027441932217, -0.5245896826784687, -0.534997619887097, -0.5453249884220462, -0.555570233019602, -0.5657318107836133, -0.5758081914178453, -0.5857978574564389, -0.5956993044924334, -0.6055110414043254, -0.6152315905806268, -0.6248594881423862, -0.6343932841636454, -0.6438315428897913, -0.6531728429537765, -0.6624157775901719, -0.6715589548470184, -0.6806009977954531, -0.6895405447370669, -0.6983762494089728, -0.7071067811865475, -0.7157308252838186, -0.7242470829514668, -0.7326542716724127, -0.7409511253549589, -0.7491363945234591, -0.7572088465064846, -0.765167265622459, -0.773010453362737, -0.7807372285720945, -0.7883464276266062, -0.7958369046088835, -0.8032075314806448, -0.8104571982525947, -0.8175848131515836, -0.8245893027850251, -0.8314696123025453, -0.8382247055548381, -0.8448535652497071, -0.8513551931052651, -0.857728610000272, -0.8639728561215867, -0.8700869911087113, -0.8760700941954065, -0.8819212643483549, -0.8876396204028538, -0.8932243011955152, -0.8986744656939539, -0.9039892931234433, -0.9091679830905224, -0.9142097557035307, -0.9191138516900577, -0.9238795325112867, -0.9285060804732155, -0.9329927988347388, -0.9373390119125748, -0.9415440651830207, -0.9456073253805213, -0.9495281805930367, -0.9533060403541939, -0.9569403357322088, -0.9604305194155658, -0.9637760657954398, -0.9669764710448521, -0.970031253194544, -0.9729399522055601, -0.9757021300385285, -0.9783173707196275, -0.9807852804032304, -0.9831054874312163, -0.9852776423889412, -0.9873014181578584, -0.989176509964781, -0.99090263542778, -0.99247953459871, -0.9939069700023561, -0.9951847266721968, -0.996312612182778, -0.9972904566786902, -0.9981181129001492, -0.9987954562051724, -0.9993223845883495, -0.9996988186962042, -0.9999247018391445, -1.0, -0.9999247018391445, -0.9996988186962042, -0.9993223845883495, -0.9987954562051724, -0.9981181129001492, -0.9972904566786902, -0.996312612182778, -0.9951847266721969, -0.9939069700023561, -0.99247953459871, -0.99090263542778, -0.989176509964781, -0.9873014181578584, -0.9852776423889413, -0.9831054874312164, -0.9807852804032304, -0.9783173707196277, -0.9757021300385286, -0.9729399522055602, -0.970031253194544, -0.9669764710448522, -0.96377606579544, -0.9604305194155659, -0.9569403357322089, -0.953306040354194, -0.9495281805930368, -0.9456073253805213, -0.9415440651830208, -0.937339011912575, -0.932992798834739, -0.9285060804732156, -0.9238795325112868, -0.9191138516900578, -0.9142097557035308, -0.9091679830905225, -0.9039892931234434, -0.898674465693954, -0.8932243011955153, -0.8876396204028539, -0.881921264348355, -0.8760700941954066, -0.8700869911087115, -0.8639728561215868, -0.8577286100002722, -0.8513551931052653, -0.8448535652497072, -0.8382247055548382, -0.8314696123025455, -0.8245893027850253, -0.8175848131515837, -0.8104571982525948, -0.8032075314806449, -0.7958369046088837, -0.7883464276266063, -0.7807372285720946, -0.7730104533627371, -0.7651672656224591, -0.7572088465064848, -0.7491363945234593, -0.7409511253549591, -0.7326542716724129, -0.724247082951467, -0.7157308252838187, -0.7071067811865477, -0.698376249408973, -0.689540544737067, -0.6806009977954532, -0.6715589548470187, -0.662415777590172, -0.6531728429537771, -0.6438315428897915, -0.6343932841636458, -0.6248594881423865, -0.6152315905806273, -0.6055110414043257, -0.5956993044924331, -0.5857978574564391, -0.5758081914178452, -0.5657318107836135, -0.5555702330196022, -0.5453249884220468, -0.5349976198870973, -0.5245896826784694, -0.5141027441932218, -0.503538383725718, -0.4928981922297842, -0.48218377207912255, -0.4713967368259979, -0.4605387109582399, -0.44961132965460693, -0.4386162385385276, -0.4275550934302825, -0.4164295600976372, -0.40524131400499036, -0.3939920400610482, -0.38268343236509034, -0.37131719395183777, -0.359895036534988, -0.34841868024943484, -0.33688985339221994, -0.3253102921622633, -0.31368174039889146, -0.30200594931922853, -0.29028467725446244, -0.2785196893850536, -0.26671275747489853, -0.25486565960451435, -0.24298017990326412, -0.23105810828067094, -0.2191012401568701, -0.20711137619221848, -0.19509032201612866, -0.18303988795514095, -0.1709618887603017, -0.15885814333386153, -0.1467304744553623, -0.13458070850712636, -0.12241067519921596, -0.11022220729388331, -0.09801714032956045, -0.08579731234444023, -0.07356456359966736, -0.061320736302208995, -0.04906767432741803, -0.03680722294135933, -0.02454122852291239, -0.012271538285720512, -1.8369701987210297e-16, 0.012271538285720144, 0.02454122852291202, 0.036807222941358964, 0.04906767432741766, 0.06132073630220863, 0.07356456359966698, 0.08579731234443985, 0.09801714032956009, 0.11022220729388293, 0.1224106751992156, 0.13458070850712597, 0.14673047445536194, 0.15885814333386117, 0.17096188876030133, 0.1830398879551406, 0.1950903220161283, 0.20711137619221812, 0.21910124015686974, 0.23105810828067058, 0.24298017990326376, 0.25486565960451396, 0.2667127574748982, 0.2785196893850533, 0.29028467725446205, 0.30200594931922814, 0.31368174039889113, 0.3253102921622629, 0.3368898533922196, 0.3484186802494345, 0.3598950365349876, 0.3713171939518374, 0.38268343236509, 0.3939920400610479, 0.40524131400499, 0.4164295600976369, 0.42755509343028214, 0.43861623853852727, 0.4496113296546066, 0.4605387109582396, 0.4713967368259976, 0.4821837720791222, 0.49289819222978387, 0.5035383837257178, 0.5141027441932216, 0.5245896826784691, 0.5349976198870969, 0.5453249884220465, 0.5555702330196018, 0.5657318107836132, 0.5758081914178449, 0.5857978574564388, 0.5956993044924329, 0.6055110414043253, 0.615231590580627, 0.6248594881423861, 0.6343932841636456, 0.6438315428897912, 0.6531728429537768, 0.6624157775901715, 0.6715589548470184, 0.6806009977954527, 0.6895405447370668, 0.6983762494089725, 0.7071067811865474, 0.7157308252838188, 0.7242470829514667, 0.7326542716724129, 0.7409511253549588, 0.7491363945234593, 0.7572088465064842, 0.7651672656224588, 0.7730104533627367, 0.7807372285720944, 0.7883464276266059, 0.7958369046088833, 0.803207531480645, 0.8104571982525947, 0.8175848131515837, 0.8245893027850251, 0.8314696123025452, 0.8382247055548377, 0.844853565249707, 0.8513551931052649, 0.857728610000272, 0.8639728561215864, 0.8700869911087112, 0.8760700941954067, 0.8819212643483548, 0.8876396204028539, 0.8932243011955151, 0.8986744656939538, 0.9039892931234431, 0.9091679830905224, 0.9142097557035304, 0.9191138516900577, 0.9238795325112865, 0.9285060804732155, 0.932992798834739, 0.9373390119125748, 0.9415440651830208, 0.9456073253805212, 0.9495281805930367, 0.9533060403541936, 0.9569403357322088, 0.9604305194155657, 0.9637760657954398, 0.9669764710448522, 0.970031253194544, 0.9729399522055602, 0.9757021300385285, 0.9783173707196277, 0.9807852804032303, 0.9831054874312163, 0.9852776423889411, 0.9873014181578583, 0.9891765099647809, 0.99090263542778, 0.99247953459871, 0.9939069700023561, 0.9951847266721969, 0.996312612182778, 0.9972904566786902, 0.9981181129001492, 0.9987954562051724, 0.9993223845883494, 0.9996988186962042, 0.9999247018391445])\n",
      "    a4 = declare(fixed, value=[3.5327824289561818, 3.330804306653522, 3.2067627154196052, 3.115760415709423, 3.043300160265717, 2.9827894246636704, 2.9306537482669137, 2.8847302485643036, 2.8436073103839603, 2.8063110134754217, 2.77214017407937, 2.740572639206182, 2.7112087664763966, 2.683735648515148, 2.6579035513233205, 2.633509871988707, 2.6103879026361403, 2.588398766525206, 2.567425506613319, 2.54736867045851, 2.5281429577645906, 2.5096746370047467, 2.4918995281678673, 2.474761408630264, 2.458210739665161, 2.4422036389905277, 2.4267010442847883, 2.4116680264893695, 2.397073221736998, 2.382888358068256, 2.369087858516701, 2.355648506195711, 2.3425491600836423, 2.3297705125417862, 2.3172948814000156, 2.305106030843119, 2.293189016425181, 2.28153005040231, 2.2701163842592402, 2.2589362058530265, 2.24797854903754, 2.2372332139888327, 2.2266906967413354, 2.2163421266819383, 2.206179210943866, 2.1961941848031903, 2.1863797673143206, 2.1767291215320657, 2.167235818760913, 2.1578938063503603, 2.1486973786210304, 2.139641150562095, 2.1307200339878762, 2.1219292158818566, 2.113264138690807, 2.1047204823613135, 2.09629414793641, 2.0879812425519297, 2.079778065691169, 2.0716810965728625, 2.0636869825617734, 2.055792528503632, 2.0479946868970322, 2.040290548824406, 2.032677335572536, 2.0251523908804216, 2.0177131737587497, 2.010357251830959, 2.003082295150906, 1.9958860704566335, 1.9887664358237014, 1.9817213356850727, 1.9747487961876966, 1.9678469208587337, 1.9610138865568796, 1.9542479396864865, 1.9475473926541997, 1.9409106205496316, 1.9343360580332198, 1.9278221964158873, 1.921367580916432, 1.9149708080837768, 1.90863052337228, 1.9023454188592859, 1.8961142310949797, 1.889935739075412, 1.8838087623302882, 1.8777321591177818, 1.8717048247192343, 1.865725689827154, 1.8597937190204292, 1.8539079093211341, 1.8480672888277168, 1.842270915419752, 1.8365178755297913, 1.8308072829781583, 1.8251382778668508, 1.8195100255289596, 1.8139217155302925, 1.8083725607200958, 1.8028617963279994, 1.7973886791044937, 1.7919524865024372, 1.78655251589725, 1.781188083843616, 1.775858525366648, 1.7705631932856072, 1.765301457568395, 1.7600727047151352, 1.7548763371692908, 1.7497117727548361, 1.7445784441381105, 1.7394757983130602, 1.7344032961086497, 1.7293604117173027, 1.7243466322432999, 1.719361457270119, 1.714404398445772, 1.7094749790852397, 1.704572733789159, 1.6996972080779733, 1.6948479580407874, 1.6900245499982254, 1.6852265601786205, 1.6804535744069031, 1.6757051878055946, 1.6709810045073394, 1.6662806373784413, 1.6616037077529031, 1.656949845176484, 1.65231868716033, 1.647709878943741, 1.6431230732656734, 1.638557930144588, 1.6340141166662792, 1.6294913067793382, 1.6249891810979202, 1.6205074267115007, 1.616045737001325, 1.6116038114632674, 1.6071813555368302, 1.602778080440027, 1.5983937030099076, 1.5940279455484894, 1.5896805356738788, 1.5853512061763686, 1.5810396948793115, 1.576745744504582, 1.5724691025424382, 1.568209521125614, 1.5639667569074769, 1.559740570944087, 1.5555307285800137, 1.5513369993377586, 1.5471591568106515, 1.542996978559085, 1.5388502460099627, 1.534718744359241, 1.5306022624774458, 1.5265005928180588, 1.5224135313286642, 1.518340877364754, 1.5142824336061007, 1.5102380059755953, 1.5062074035604718, 1.5021904385358245, 1.4981869260903422, 1.4941966843541787, 1.4902195343288829, 1.4862552998193195, 1.4823038073675112, 1.4783648861883298, 1.4744383681069824, 1.4705240874982228, 1.466621881227234, 1.462731588592123, 1.458853051267975, 1.4549861132524147, 1.4511306208126233, 1.4472864224337623, 1.443453368768762, 1.4396313125894242, 1.4358201087387992, 1.432019614084796, 1.4282296874749836, 1.4244501896925483, 1.4206809834133651, 1.4169219331641532, 1.4131729052816766, 1.4094337678729594, 1.4057043907764817, 1.401984645524328, 1.3982744053052563, 1.3945735449286578, 1.3908819407893847, 1.3871994708334143, 1.3835260145243249, 1.3798614528105597, 1.3762056680934556, 1.3725585441960084, 1.3689199663323592, 1.3652898210779754, 1.3616679963405045, 1.3580543813312875, 1.3544488665375016, 1.3508513436949223, 1.3472617057612826, 1.3436798468902118, 1.3401056624057361, 1.336539048777327, 1.3329799035954766, 1.3294281255477916, 1.3258836143955808, 1.3223462709509322, 1.3188159970542568, 1.3152926955522901, 1.311776270276536, 1.3082666260221427, 1.3047636685271926, 1.3012673044524004, 1.2977774413612042, 1.2942939877002366, 1.2908168527801696, 1.2873459467569157, 1.2838811806131825, 1.2804224661403625, 1.276969715920755, 1.2735228433101062, 1.2700817624204592, 1.266646388103305, 1.2632166359330264, 1.2597924221906238, 1.2563736638477176, 1.2529602785508152, 1.2495521846058377, 1.2461493009628979, 1.2427515472013209, 1.2393588435148999, 1.2359711106973812, 1.2325882701281707, 1.2292102437582553, 1.2258369540963294, 1.222468324195127, 1.2191042776379448, 1.2157447385253557, 1.2123896314621028, 1.209038881544173, 1.2056924143460366, 1.202350155908055, 1.199012032724045, 1.1956779717289983, 1.1923479002869475, 1.189021746178975, 1.1856994375913594, 1.1823809031038546, 1.1790660716780947, 1.1757548726461222, 1.1724472356990332, 1.1691430908757334, 1.1658423685518056, 1.1625449994284747, 1.1592509145216774, 1.1559600451512198, 1.152672322930028, 1.1493876797534828, 1.146106047788834, 1.1428273594646918, 1.1395515474605902, 1.1362785446966164, 1.1330082843231066, 1.129740699710397, 1.1264757244386336, 1.1232132922876312, 1.1199533372267787, 1.1166957934049884, 1.1134405951406834, 1.1101876769118193, 1.1069369733459375, 1.1036884192102443, 1.100441949401712, 1.0971974989372002, 1.093955002943591, 1.0907143966479327, 1.087475615367594, 1.0842385945004163, 1.081003269514868, 1.07776957594019, 1.0745374493565347, 1.0713068253850877, 1.0680776396781742, 1.0648498279093415, 1.0616233257634158, 1.0583980689265284, 1.0551739930761068, 1.0519510338708258, 1.0487291269405168, 1.045508207876026, 1.0422882122190245, 1.0390690754517555, 1.035850732986726, 1.0326331201563252, 1.0294161722023798, 1.0261998242656256, 1.0229840113751025, 1.0197686684374627, 1.016553730226188, 1.0133391313707099, 1.010124806345429, 1.0069106894586273, 1.0036967148412688, 1.00048281643568, 0.9972689279841093, 0.9940549830171531, 0.990840914842051, 0.9876266565308335, 0.9844121409083265, 0.9811973005399973, 0.9779820677196415, 0.9747663744569002, 0.9715501524646036, 0.9683333331459304, 0.9651158475813785, 0.9618976265155382, 0.9586786003436607, 0.9554586990980113, 0.9522378524340039, 0.9490159896161035, 0.9457930395034908, 0.9425689305354783, 0.9393435907166703, 0.9361169476018545, 0.9328889282806191, 0.9296594593616802, 0.9264284669569143, 0.9231958766650803, 0.9199616135552237, 0.9167256021497466, 0.9134877664071378, 0.9102480297043429, 0.9070063148187696, 0.9037625439099064, 0.9005166385005492, 0.8972685194576143, 0.894018106972528, 0.8907653205411735, 0.8875100789433834, 0.8842523002219562, 0.8809919016611847, 0.8777287997648731, 0.8744629102338306, 0.871194147942815, 0.8679224269169135, 0.8646476603073332, 0.8613697603665863, 0.8580886384230404, 0.8548042048548183, 0.8515163690630151, 0.8482250394442141, 0.8449301233622702, 0.8416315271193373, 0.8383291559261059, 0.8350229138712285, 0.8317127038898934, 0.8283984277315222, 0.82507998592655, 0.821757277752261, 0.8184302011976333, 0.815098652927164, 0.8117625282436266, 0.8084217210497248, 0.8050761238085928, 0.8017256275031042, 0.7983701215939308, 0.7950094939763143, 0.7916436309354844, 0.7882724171006811, 0.7848957353977135, 0.7815134670000023, 0.7781254912780369, 0.7747316857471859, 0.7713319260137863, 0.7679260857194453, 0.764514036483469, 0.7610956478433479, 0.7576707871932048, 0.7542393197201254, 0.7508011083382705, 0.7473560136206788, 0.74390389372865, 0.7404446043386061, 0.7369779985663124, 0.7335039268883392, 0.7300222370606367, 0.726532774034091, 0.7230353798669159, 0.7195298936337378, 0.71601615133121, 0.712493985779995, 0.7089632265229362, 0.7054236997192362, 0.7018752280344425, 0.6983176305260358, 0.6947507225243981, 0.6911743155089308, 0.687588216979073, 0.6839922303199605, 0.6803861546624455, 0.6767697847371851, 0.6731429107224821, 0.669505318085549, 0.6658567874168362, 0.6621970942570545, 0.6585260089164843, 0.65484329628615, 0.6511487156404, 0.6474420204304109, 0.6437229580680933, 0.6399912696998503, 0.6362466899695931, 0.6324889467703853, 0.6287177609840334, 0.624932846207907, 0.6211339084682007, 0.6173206459188156, 0.6134927485249564, 0.6096498977304912, 0.6057917661080331, 0.601918016990641, 0.598028304083933, 0.594122271057333, 0.5901995511130481, 0.5862597665312865, 0.5823025281900804, 0.5783274350579691, 0.5743340736576326, 0.5703220174984222, 0.5662908264755476, 0.5622400462334989, 0.5581692074910586, 0.5540778253250399, 0.5499653984096154, 0.5458314082078302, 0.5416753181115674, 0.5374965725258996, 0.5332945958933567, 0.5290687916532321, 0.5248185411305525, 0.5205432023488241, 0.5162421087600569, 0.5119145678849238, 0.5075598598551528, 0.5031772358494339, 0.49876591641317175, 0.4943250896513783, 0.4898539092827965, 0.48535149254202054, 0.4808169179148438, 0.476249222690357, 0.47164740031134356, 0.46701039750230167, 0.4623371111518542, 0.45762638492340174, 0.452877005564503, 0.44808769888162364, 0.4432571253424207, 0.43838387526259154, 0.43346646352831547, 0.42850332379836414, 0.4234928021218074, 0.41843314989772334, 0.41332251609209913, 0.40815893861390373, 0.4029403347366371, 0.3976644904330612, 0.39232904846857397, 0.38693149507205943, 0.38146914497093554, 0.375939124538305, 0.3703383527528692, 0.3646635196145427, 0.35891106158770963, 0.35307713355630743, 0.3471575766656889, 0.34114788128944284, 0.33504314418679376, 0.3288380186969743, 0.3225266565361063, 0.3161026393993647, 0.30955889809823756, 0.3028876163401115, 0.29608011542908097, 0.2891267150522811, 0.2820165637975168, 0.27473743095125236, 0.2672754481881163, 0.2596147855798745, 0.25173724028892036, 0.24362170735021405, 0.23524348840829098, 0.22657337331901048, 0.21757639617341185, 0.20821011252597887, 0.19842215133916036, 0.1881466295175174, 0.1772987078092207, 0.16576595478748973, 0.15339388240465374, 0.13995997708121918, 0.1251225688694633, 0.10830622745159332, 0.0883884038442272, 0.062469514665343846])\n",
      "    v10 = declare(fixed, )\n",
      "    v11 = declare(int, )\n",
      "    v12 = declare(int, )\n",
      "    v13 = declare(int, value=1234)\n",
      "    a5 = declare(fixed, size=1)\n",
      "    a6 = declare(fixed, size=1)\n",
      "    v14 = declare(int, )\n",
      "    v15 = declare(int, value=0)\n",
      "    a7 = declare(int, value=[0, 0])\n",
      "    v16 = declare(fixed, value=0.0)\n",
      "    v17 = declare(int, value=0)\n",
      "    v18 = declare(int, value=0)\n",
      "    v19 = declare(int, value=0)\n",
      "    a8 = declare(bool, value=[False])\n",
      "    v20 = declare(int, value=0)\n",
      "    v21 = declare(int, value=0)\n",
      "    v22 = declare(int, value=0)\n",
      "    v23 = declare(bool, )\n",
      "    v24 = declare(fixed, )\n",
      "    v25 = declare(fixed, )\n",
      "    v26 = declare(fixed, )\n",
      "    v27 = declare(fixed, )\n",
      "    v28 = declare(bool, )\n",
      "    v29 = declare(int, value=1)\n",
      "    set_dc_offset(\"qC1.z\", \"single\", 0.07372937756625152)\n",
      "    set_dc_offset(\"qC5.z\", \"single\", 0.047881270008479644)\n",
      "    set_dc_offset(\"qD1.z\", \"single\", 0.004233209721772588)\n",
      "    set_dc_offset(\"qD2.z\", \"single\", -0.018737671378008077)\n",
      "    set_dc_offset(\"qD3.z\", \"single\", 0.021491303578748313)\n",
      "    set_dc_offset(\"qA1.z\", \"single\", 0.0)\n",
      "    set_dc_offset(\"qA2.z\", \"single\", 0.0)\n",
      "    set_dc_offset(\"qA3.z\", \"single\", 0.0)\n",
      "    set_dc_offset(\"qA4.z\", \"single\", 0.0)\n",
      "    set_dc_offset(\"qA5.z\", \"single\", 0.0)\n",
      "    set_dc_offset(\"qA6.z\", \"single\", 0.0)\n",
      "    set_dc_offset(\"qB1.z\", \"single\", 0.1372352610174512)\n",
      "    set_dc_offset(\"qB2.z\", \"single\", 0.14555939897889356)\n",
      "    set_dc_offset(\"qB3.z\", \"single\", -0.16708236152554629)\n",
      "    set_dc_offset(\"qB4.z\", \"single\", -0.1689846672578381)\n",
      "    set_dc_offset(\"qB5.z\", \"single\", -0.16749376994731424)\n",
      "    set_dc_offset(\"qC2.z\", \"single\", -0.11680096377450461)\n",
      "    set_dc_offset(\"qC3.z\", \"single\", -0.12980476956533632)\n",
      "    set_dc_offset(\"qC4.z\", \"single\", -0.16333557374426036)\n",
      "    set_dc_offset(\"qD4.z\", \"single\", 0.16110523428884052)\n",
      "    set_dc_offset(\"qD5.z\", \"single\", 0.16005206662040408)\n",
      "    with for_(v5,0,(v5<1000),(v5+1)):\n",
      "        advance_input_stream(input_stream_mu)\n",
      "        advance_input_stream(input_stream_sigma)\n",
      "        advance_input_stream(input_stream_n_reps)\n",
      "        advance_input_stream(input_stream_max_input_state)\n",
      "        advance_input_stream(input_stream_max_observables)\n",
      "        assign(v6, 0)\n",
      "        with while_((input_stream_max_input_state>v6)):\n",
      "            assign(v6, (v6+1))\n",
      "            advance_input_stream(input_stream_input_state_0)\n",
      "            assign(v4, 0)\n",
      "            with while_((input_stream_max_observables>v4)):\n",
      "                assign(v4, (v4+1))\n",
      "                advance_input_stream(input_stream_observable_0)\n",
      "                advance_input_stream(input_stream_pauli_shots)\n",
      "                with for_(v7,0,(v7<0),(v7+1)):\n",
      "                    with for_(v9,0,(v9<1),(v9+1)):\n",
      "                        assign(v10, Random(v13).rand_fixed())\n",
      "                        assign(v11, Cast.unsafe_cast_int((v10>>19)))\n",
      "                        assign(v12, (Cast.unsafe_cast_int(v10)&524287))\n",
      "                        assign(a5[v9], (input_stream_mu[v9]+((input_stream_sigma[v9]*a4[v11])*a3[(v12&511)])))\n",
      "                        assign(a6[v9], (input_stream_mu[v9]+((input_stream_sigma[v9]*a4[v11])*a3[((v12+128)&511)])))\n",
      "                    with for_(v8,0,(v8<2),(v8+1)):\n",
      "                        assign(input_stream_a_0_0, Util.cond((v8==0),a5[0],a6[0]))\n",
      "                        with if_((input_stream_a_0_0<a1[0])):\n",
      "                            assign(input_stream_a_0_0, a1[0])\n",
      "                        with if_((input_stream_a_0_0>a2[0])):\n",
      "                            assign(input_stream_a_0_0, a2[0])\n",
      "                        with for_(v14,0,(input_stream_pauli_shots>v14),(v14+1)):\n",
      "                            assign(v16, input_stream_a_0_0)\n",
      "                            assign(v17, input_stream_input_state_0)\n",
      "                            assign(v18, input_stream_n_reps)\n",
      "                            assign(v19, input_stream_observable_0)\n",
      "                            assign(v20, v17)\n",
      "                            with if_((v20==1), unsafe=True):\n",
      "                                align(\"qC1.resonator\", \"qC1.xy\", \"qC1.z\")\n",
      "                                play(\"x180_DragCosine\", \"qC1.xy\")\n",
      "                                align(\"qC1.resonator\", \"qC1.xy\", \"qC1.z\")\n",
      "                            with elif_((v20==2)):\n",
      "                                align(\"qC1.resonator\", \"qC1.xy\", \"qC1.z\")\n",
      "                                frame_rotation_2pi(1.5707963267948966, \"qC1.xy\")\n",
      "                                align(\"qC1.resonator\", \"qC1.xy\", \"qC1.z\")\n",
      "                                align(\"qC1.resonator\", \"qC1.xy\", \"qC1.z\")\n",
      "                                play(\"x90_DragCosine\", \"qC1.xy\")\n",
      "                                align(\"qC1.resonator\", \"qC1.xy\", \"qC1.z\")\n",
      "                                align(\"qC1.resonator\", \"qC1.xy\", \"qC1.z\")\n",
      "                                frame_rotation_2pi(1.5707963267948966, \"qC1.xy\")\n",
      "                                align(\"qC1.resonator\", \"qC1.xy\", \"qC1.z\")\n",
      "                            with elif_((v20==3)):\n",
      "                                align(\"qC1.resonator\", \"qC1.xy\", \"qC1.z\")\n",
      "                                frame_rotation_2pi(1.5707963267948966, \"qC1.xy\")\n",
      "                                align(\"qC1.resonator\", \"qC1.xy\", \"qC1.z\")\n",
      "                                align(\"qC1.resonator\", \"qC1.xy\", \"qC1.z\")\n",
      "                                play(\"x90_DragCosine\", \"qC1.xy\")\n",
      "                                align(\"qC1.resonator\", \"qC1.xy\", \"qC1.z\")\n",
      "                                align(\"qC1.resonator\", \"qC1.xy\", \"qC1.z\")\n",
      "                                frame_rotation_2pi(-3.141592653589793, \"qC1.xy\")\n",
      "                                align(\"qC1.resonator\", \"qC1.xy\", \"qC1.z\")\n",
      "                            with for_(v22,0,(v22<=v18),(v22+1)):\n",
      "                                align(\"qC1.resonator\", \"qC1.xy\", \"qC1.z\")\n",
      "                                assign(input_stream_a_0_0, v16)\n",
      "                                play(\"block0_0\"*amp((3.9998400063997437*input_stream_a_0_0)), \"qC1.xy\")\n",
      "                                align(\"qC1.resonator\", \"qC1.xy\", \"qC1.z\")\n",
      "                            assign(v21, v19)\n",
      "                            with if_((v21==1), unsafe=True):\n",
      "                                align(\"qC1.resonator\", \"qC1.xy\", \"qC1.z\")\n",
      "                                frame_rotation_2pi(1.5707963267948966, \"qC1.xy\")\n",
      "                                align(\"qC1.resonator\", \"qC1.xy\", \"qC1.z\")\n",
      "                                align(\"qC1.resonator\", \"qC1.xy\", \"qC1.z\")\n",
      "                                play(\"x90_DragCosine\", \"qC1.xy\")\n",
      "                                align(\"qC1.resonator\", \"qC1.xy\", \"qC1.z\")\n",
      "                                align(\"qC1.resonator\", \"qC1.xy\", \"qC1.z\")\n",
      "                                frame_rotation_2pi(1.5707963267948966, \"qC1.xy\")\n",
      "                                align(\"qC1.resonator\", \"qC1.xy\", \"qC1.z\")\n",
      "                            with elif_((v21==2)):\n",
      "                                align(\"qC1.resonator\", \"qC1.xy\", \"qC1.z\")\n",
      "                                play(\"x90_DragCosine\", \"qC1.xy\")\n",
      "                                align(\"qC1.resonator\", \"qC1.xy\", \"qC1.z\")\n",
      "                                align(\"qC1.resonator\", \"qC1.xy\", \"qC1.z\")\n",
      "                                frame_rotation_2pi(1.5707963267948966, \"qC1.xy\")\n",
      "                                align(\"qC1.resonator\", \"qC1.xy\", \"qC1.z\")\n",
      "                            align(\"qC1.resonator\", \"qC1.xy\", \"qC1.z\")\n",
      "                            measure(\"readout\", \"qC1.resonator\", dual_demod.full(\"iw1\", \"iw2\", v24), dual_demod.full(\"iw3\", \"iw1\", v25))\n",
      "                            assign(v23, (v24>0.0004771142392176303))\n",
      "                            align(\"qC1.resonator\", \"qC1.xy\", \"qC1.z\")\n",
      "                            assign(a8[0], v23)\n",
      "                            align(\"qC1.resonator\", \"qC1.xy\", \"qC1.z\")\n",
      "                            assign(v29, 1)\n",
      "                            align(\"qC1.resonator\", \"qC1.xy\")\n",
      "                            measure(\"readout\", \"qC1.resonator\", dual_demod.full(\"iw1\", \"iw2\", v26), dual_demod.full(\"iw3\", \"iw1\", v27))\n",
      "                            assign(v28, (v26>0.0004771142392176303))\n",
      "                            wait(750, \"qC1.resonator\")\n",
      "                            align(\"qC1.resonator\", \"qC1.xy\")\n",
      "                            play(\"x180_DragCosine\", \"qC1.xy\", condition=v28)\n",
      "                            align(\"qC1.resonator\", \"qC1.xy\")\n",
      "                            with while_(broadcast.and_((v26>0.0002730388708433049), (v29<5))):\n",
      "                                align(\"qC1.resonator\", \"qC1.xy\")\n",
      "                                measure(\"readout\", \"qC1.resonator\", dual_demod.full(\"iw1\", \"iw2\", v26), dual_demod.full(\"iw3\", \"iw1\", v27))\n",
      "                                assign(v28, (v26>0.0004771142392176303))\n",
      "                                wait(750, \"qC1.resonator\")\n",
      "                                align(\"qC1.resonator\", \"qC1.xy\")\n",
      "                                play(\"x180_DragCosine\", \"qC1.xy\", condition=v28)\n",
      "                                align(\"qC1.resonator\", \"qC1.xy\")\n",
      "                                assign(v29, (v29+1))\n",
      "                            align(\"qC1.resonator\", \"qC1.xy\")\n",
      "                            align(\"qC1.resonator\", \"qC1.xy\", \"qC1.z\")\n",
      "                            assign(v15, ((v15+1)<<(0*Cast.to_int(a8[0]))))\n",
      "                            assign(a7[v15], (a7[v15]+1))\n",
      "                        with for_(v3,0,(v3<2),(v3+1)):\n",
      "                            assign(input_stream_reward[v3], a7[v3])\n",
      "                        with for_(v3,0,(v3<2),(v3+1)):\n",
      "                            r5 = declare_stream()\n",
      "                            save(input_stream_reward[v3], r5)\n",
      "    with stream_processing():\n",
      "        r5.buffer(2).save_all(\"reward\")\n",
      "\n",
      "config = None\n",
      "\n",
      "loaded_config = None\n",
      "\n",
      "\n"
     ]
    }
   ],
   "execution_count": 7
  },
  {
   "metadata": {
    "ExecuteTime": {
     "end_time": "2025-05-09T08:49:54.641817Z",
     "start_time": "2025-05-09T08:49:54.633924Z"
    }
   },
   "cell_type": "code",
   "source": [
    "from qiskit_qm_provider import QMInstructionProperties\n",
    "from qiskit.circuit import Gate\n",
    "\n",
    "x_test = Gate(\"x_test\", 1, [])\n",
    "\n",
    "\n",
    "def x_test_macro():\n",
    "    machine.active_qubits[0].apply(\"x\")\n",
    "\n",
    "\n",
    "instruction_prop = QMInstructionProperties(qua_pulse_macro=x_test_macro)"
   ],
   "id": "27e662e430fc81be",
   "outputs": [],
   "execution_count": 7
  },
  {
   "metadata": {
    "ExecuteTime": {
     "end_time": "2025-05-09T08:49:56.354260Z",
     "start_time": "2025-05-09T08:49:56.351969Z"
    }
   },
   "cell_type": "code",
   "source": "backend.target.add_instruction(x_test, {(0,): instruction_prop})",
   "id": "8936717228662dc1",
   "outputs": [],
   "execution_count": 8
  },
  {
   "metadata": {
    "ExecuteTime": {
     "end_time": "2025-05-30T05:18:26.372274Z",
     "start_time": "2025-05-30T05:18:26.238900Z"
    }
   },
   "cell_type": "code",
   "source": [
    "from qiskit import QuantumCircuit, QuantumRegister, ClassicalRegister\n",
    "from qiskit.primitives import StatevectorSampler\n",
    "from qiskit.providers.basic_provider import BasicSimulator\n",
    "from qiskit_ibm_runtime.fake_provider import FakeJakartaV2\n",
    "from qiskit import transpile\n",
    "\n",
    "qreg = QuantumRegister(2, \"q\")\n",
    "c1 = ClassicalRegister(2, \"c1\")\n",
    "c2 = ClassicalRegister(1, \"c2\")\n",
    "qc = QuantumCircuit(qreg, c1, c2)\n",
    "qc.x(0)\n",
    "qc.x(1)\n",
    "qc.measure(0, c1[0])\n",
    "qc.measure(0, c1[1])\n",
    "qc.measure(1, c2[0])\n",
    "\n",
    "sampler = StatevectorSampler()\n",
    "job = sampler.run([(qc,)], shots=1000)\n",
    "result = job.result()\n",
    "fake_backend = FakeJakartaV2()\n",
    "transpiled_circuit = transpile(qc, backend=fake_backend)\n",
    "result2 = FakeJakartaV2().run([transpiled_circuit, transpiled_circuit], shots=1000).result()"
   ],
   "id": "7a445f61519ce759",
   "outputs": [],
   "execution_count": 14
  },
  {
   "metadata": {
    "ExecuteTime": {
     "end_time": "2025-05-30T05:18:27.559601Z",
     "start_time": "2025-05-30T05:18:27.515356Z"
    }
   },
   "cell_type": "code",
   "source": "transpiled_circuit.draw(\"mpl\")",
   "id": "295da8db36e0d3f6",
   "outputs": [
    {
     "data": {
      "text/plain": [
       "<Figure size 507.199x367.889 with 1 Axes>"
      ],
      "image/png": "[encoded data removed]"
     },
     "execution_count": 15,
     "metadata": {},
     "output_type": "execute_result"
    }
   ],
   "execution_count": 15
  },
  {
   "metadata": {
    "ExecuteTime": {
     "end_time": "2025-05-30T05:18:32.864425Z",
     "start_time": "2025-05-30T05:18:32.861941Z"
    }
   },
   "cell_type": "code",
   "source": "result[0]",
   "id": "9d104671bf6e06f2",
   "outputs": [
    {
     "data": {
      "text/plain": [
       "SamplerPubResult(data=DataBin(c1=BitArray(<shape=(), num_shots=1000, num_bits=2>), c2=BitArray(<shape=(), num_shots=1000, num_bits=1>)), metadata={'shots': 1000, 'circuit_metadata': {}})"
      ]
     },
     "execution_count": 17,
     "metadata": {},
     "output_type": "execute_result"
    }
   ],
   "execution_count": 17
  },
  {
   "metadata": {
    "ExecuteTime": {
     "end_time": "2025-05-13T09:33:55.018693Z",
     "start_time": "2025-05-13T09:33:55.015828Z"
    }
   },
   "cell_type": "code",
   "source": "result2.get_counts()",
   "id": "243a0a7e431049f2",
   "outputs": [
    {
     "data": {
      "text/plain": [
       "[{'0 01': 1, '0 11': 16, '1 10': 20, '1 01': 28, '1 11': 935},\n",
       " {'1 10': 23, '1 01': 16, '0 11': 18, '1 11': 943}]"
      ]
     },
     "execution_count": 111,
     "metadata": {},
     "output_type": "execute_result"
    }
   ],
   "execution_count": 111
  },
  {
   "metadata": {
    "ExecuteTime": {
     "end_time": "2025-05-13T09:38:15.365169Z",
     "start_time": "2025-05-13T09:38:15.362192Z"
    }
   },
   "cell_type": "code",
   "source": "result2",
   "id": "2ff4d119b152a697",
   "outputs": [
    {
     "data": {
      "text/plain": [
       "Result(backend_name='aer_simulator', backend_version='0.17.0', qobj_id='', job_id='8d7895d3-9053-4a79-a758-99d1d1ab6e89', success=True, results=[ExperimentResult(shots=1000, success=True, meas_level=2, data=ExperimentResultData(counts={'0x1': 1, '0x3': 16, '0x6': 20, '0x5': 28, '0x7': 935}), header=QobjExperimentHeader(creg_sizes=[['c1', 2], ['c2', 1]], global_phase=0.0, memory_slots=3, n_qubits=7, name='circuit-2763', qreg_sizes=[['q', 7]], metadata={}), status=DONE, seed_simulator=3045177010, metadata={'num_bind_params': 1, 'runtime_parameter_bind': False, 'parallel_state_update': 12, 'parallel_shots': 1, 'sample_measure_time': 9.5791e-05, 'noise': 'superop', 'batched_shots_optimization': False, 'remapped_qubits': True, 'active_input_qubits': [1, 2], 'device': 'CPU', 'time_taken': 0.00073275, 'measure_sampling': True, 'num_clbits': 3, 'max_memory_mb': 18432, 'input_qubit_map': [[2, 1], [1, 0]], 'num_qubits': 2, 'method': 'density_matrix', 'required_memory_mb': 1, 'fusion': {'enabled': True, 'threshold': 7, 'applied': False, 'max_fused_qubits': 2}}, time_taken=0.00073275), ExperimentResult(shots=1000, success=True, meas_level=2, data=ExperimentResultData(counts={'0x6': 23, '0x5': 16, '0x3': 18, '0x7': 943}), header=QobjExperimentHeader(creg_sizes=[['c1', 2], ['c2', 1]], global_phase=0.0, memory_slots=3, n_qubits=7, name='circuit-2763', qreg_sizes=[['q', 7]], metadata={}), status=DONE, seed_simulator=3045179123, metadata={'num_bind_params': 1, 'runtime_parameter_bind': False, 'parallel_state_update': 12, 'parallel_shots': 1, 'sample_measure_time': 3.6333e-05, 'noise': 'superop', 'batched_shots_optimization': False, 'remapped_qubits': True, 'active_input_qubits': [1, 2], 'device': 'CPU', 'time_taken': 0.000583, 'measure_sampling': True, 'num_clbits': 3, 'max_memory_mb': 18432, 'input_qubit_map': [[2, 1], [1, 0]], 'num_qubits': 2, 'method': 'density_matrix', 'required_memory_mb': 1, 'fusion': {'enabled': True, 'threshold': 7, 'applied': False, 'max_fused_qubits': 2}}, time_taken=0.000583)], date=2025-05-13T17:33:20.163265, status=COMPLETED, header=None, metadata={'time_taken_parameter_binding': 8.208e-06, 'max_memory_mb': 18432, 'time_taken_execute': 0.002563417, 'omp_enabled': True, 'max_gpu_memory_mb': 0, 'parallel_experiments': 1}, time_taken=0.01796102523803711)"
      ]
     },
     "execution_count": 116,
     "metadata": {},
     "output_type": "execute_result"
    }
   ],
   "execution_count": 116
  },
  {
   "metadata": {
    "ExecuteTime": {
     "end_time": "2025-05-13T03:28:11.198890Z",
     "start_time": "2025-05-13T03:28:11.191702Z"
    }
   },
   "cell_type": "code",
   "source": "qc.find_bit(qc.clbits[0])",
   "id": "b2c5d0800522446f",
   "outputs": [
    {
     "data": {
      "text/plain": [
       "BitLocations(index=0, registers=[(ClassicalRegister(3, 'c1'), 0)])"
      ]
     },
     "execution_count": 38,
     "metadata": {},
     "output_type": "execute_result"
    }
   ],
   "execution_count": 38
  },
  {
   "metadata": {
    "ExecuteTime": {
     "end_time": "2025-05-30T05:23:25.889601Z",
     "start_time": "2025-05-30T05:23:23.660684Z"
    }
   },
   "cell_type": "code",
   "source": [
    "from pathlib import Path\n",
    "import json\n",
    "from qiskit_qm_provider import ParameterPool\n",
    "\n",
    "path = Path.home() / \"qm_saas_config.json\"\n",
    "with open(path, \"r\") as f:\n",
    "    config = json.load(f)\n",
    "email = config[\"email\"]\n",
    "password = config[\"password\"]\n",
    "# Initialize QOP simulator client\n",
    "client = QmSaas(email=email, password=password, host=\"qm-saas.dev.quantum-machines.co\")\n",
    "\n",
    "# Choose your QOP version (QOP2.x.y or QOP3.x.y)\n",
    "version = QoPVersion.latest\n",
    "client.close_all()"
   ],
   "id": "fab8ddfc7b5b30eb",
   "outputs": [],
   "execution_count": 6
  },
  {
   "metadata": {
    "ExecuteTime": {
     "end_time": "2025-05-26T07:43:13.001707Z",
     "start_time": "2025-05-26T07:42:57.388173Z"
    }
   },
   "cell_type": "code",
   "source": [
    "from qm import SimulationConfig, LoopbackInterface\n",
    "\n",
    "config = machine.generate_config()\n",
    "instance = client.simulator(version=version)\n",
    "instance.spawn()\n",
    "# Initialize QuantumMachinesManager with the simulation instance details\n",
    "qmm = QuantumMachinesManager(\n",
    "    host=instance.host,\n",
    "    port=instance.port,\n",
    "    connection_headers=instance.default_connection_headers,\n",
    ")\n",
    "simulation_config = SimulationConfig(\n",
    "    int(10000),\n",
    "    include_analog_waveforms=True,\n",
    "    simulation_interface=LoopbackInterface([(\"con1\", 1, \"con1\", 1), (\"con1\", 2, \"con1\", 2)]),\n",
    ")\n",
    "backend.qmm = qmm\n",
    "backend.set_options(simulate=simulation_config)"
   ],
   "id": "76abe2ebc608cb75",
   "outputs": [
    {
     "name": "stdout",
     "output_type": "stream",
     "text": [
      "2025-05-26 15:43:12,684 - qm - INFO     - Performing health check\n",
      "2025-05-26 15:43:12 INFO Performing health check\n",
      "2025-05-26 15:43:12,998 - qm - INFO     - Cluster healthcheck completed successfully.\n",
      "2025-05-26 15:43:12 INFO Cluster healthcheck completed successfully.\n"
     ]
    }
   ],
   "execution_count": 13
  },
  {
   "metadata": {
    "ExecuteTime": {
     "end_time": "2025-05-27T06:56:25.654431Z",
     "start_time": "2025-05-27T06:56:25.649041Z"
    }
   },
   "cell_type": "code",
   "source": "backend._qmm",
   "id": "6a56be35e18de352",
   "outputs": [
    {
     "data": {
      "text/plain": [
       "<quam_libs.cloud_infrastructure.CloudQuantumMachinesManager at 0x38f4ff350>"
      ]
     },
     "execution_count": 6,
     "metadata": {},
     "output_type": "execute_result"
    }
   ],
   "execution_count": 6
  },
  {
   "metadata": {},
   "cell_type": "code",
   "source": [
    "from qiskit.circuit import ClassicalRegister, QuantumRegister\n",
    "\n",
    "qreg = QuantumRegister(3)\n",
    "creg1 = ClassicalRegister(1, \"c1\")\n",
    "creg2 = ClassicalRegister(2, \"c2\")\n",
    "qc = QuantumCircuit(qreg, creg1, creg2)\n",
    "qc.h(0)\n",
    "qc.h(1)\n",
    "qc.x(2)\n",
    "\n",
    "qc.measure(qreg[0], creg1[0])\n",
    "qc.measure(qreg[1], creg2[0])\n",
    "qc.measure(qreg[2], creg2[1])\n",
    "qc.reset(slice(0, 2))\n",
    "qc.draw(\"mpl\")"
   ],
   "id": "9b4d1e99ba755285",
   "execution_count": null,
   "outputs": []
  },
  {
   "metadata": {},
   "cell_type": "code",
   "outputs": [],
   "execution_count": 30,
   "source": "qc = transpile(qc, backend=backend, optimization_level=0)",
   "id": "b197f666968bd1ce"
  },
  {
   "metadata": {
    "ExecuteTime": {
     "end_time": "2025-05-30T05:25:59.471638Z",
     "start_time": "2025-05-30T05:25:59.361745Z"
    }
   },
   "cell_type": "code",
   "source": "qc.draw(\"mpl\")",
   "id": "fe82c024c9e6f923",
   "outputs": [
    {
     "data": {
      "text/plain": [
       "<Figure size 692.652x451.5 with 1 Axes>"
      ],
      "image/png": "[encoded data removed]"
     },
     "execution_count": 15,
     "metadata": {},
     "output_type": "execute_result"
    }
   ],
   "execution_count": 15
  },
  {
   "metadata": {
    "ExecuteTime": {
     "end_time": "2025-05-30T05:26:01.858873Z",
     "start_time": "2025-05-30T05:26:01.855965Z"
    }
   },
   "cell_type": "code",
   "source": "qc.cregs",
   "id": "28a9bb612782b596",
   "outputs": [
    {
     "data": {
      "text/plain": [
       "[ClassicalRegister(1, 'c1'), ClassicalRegister(2, 'c2')]"
      ]
     },
     "execution_count": 16,
     "metadata": {},
     "output_type": "execute_result"
    }
   ],
   "execution_count": 16
  },
  {
   "metadata": {
    "ExecuteTime": {
     "end_time": "2025-05-30T05:26:02.130103Z",
     "start_time": "2025-05-30T05:26:02.127618Z"
    }
   },
   "cell_type": "code",
   "source": "qc.layout.final_index_layout(True)",
   "id": "ab41d2b011cf73e2",
   "outputs": [
    {
     "data": {
      "text/plain": [
       "[0, 1, 2]"
      ]
     },
     "execution_count": 17,
     "metadata": {},
     "output_type": "execute_result"
    }
   ],
   "execution_count": 17
  },
  {
   "metadata": {
    "ExecuteTime": {
     "end_time": "2025-05-30T07:01:30.847025Z",
     "start_time": "2025-05-30T07:01:30.833578Z"
    }
   },
   "cell_type": "code",
   "source": "backend.qmm = iqcc",
   "id": "c919c3d384e821e7",
   "outputs": [],
   "execution_count": 12
  },
  {
   "metadata": {
    "ExecuteTime": {
     "end_time": "2025-05-30T07:00:19.129196Z",
     "start_time": "2025-05-30T07:00:19.113338Z"
    }
   },
   "cell_type": "code",
   "source": [
    "from qiskit_qm_provider.primitives.qm_sampler import QMSamplerV2, QMSamplerOptions\n",
    "from qiskit_qm_provider.job.qua_programs import sampler_program\n",
    "from qiskit.primitives.containers.sampler_pub import SamplerPub\n",
    "\n",
    "pub = SamplerPub.coerce(qc, shots=100)\n",
    "print(generate_qua_script(sampler_program(backend, [pub])))"
   ],
   "id": "fc307c3132f9de41",
   "outputs": [
    {
     "ename": "NameError",
     "evalue": "name 'qc' is not defined",
     "output_type": "error",
     "traceback": [
      "\u001B[0;31m---------------------------------------------------------------------------\u001B[0m",
      "\u001B[0;31mNameError\u001B[0m                                 Traceback (most recent call last)",
      "Cell \u001B[0;32mIn[9], line 5\u001B[0m\n\u001B[1;32m      2\u001B[0m \u001B[38;5;28;01mfrom\u001B[39;00m \u001B[38;5;21;01mqiskit_qm_provider\u001B[39;00m\u001B[38;5;21;01m.\u001B[39;00m\u001B[38;5;21;01mjob\u001B[39;00m\u001B[38;5;21;01m.\u001B[39;00m\u001B[38;5;21;01mqua_programs\u001B[39;00m \u001B[38;5;28;01mimport\u001B[39;00m sampler_program\n\u001B[1;32m      3\u001B[0m \u001B[38;5;28;01mfrom\u001B[39;00m \u001B[38;5;21;01mqiskit\u001B[39;00m\u001B[38;5;21;01m.\u001B[39;00m\u001B[38;5;21;01mprimitives\u001B[39;00m\u001B[38;5;21;01m.\u001B[39;00m\u001B[38;5;21;01mcontainers\u001B[39;00m\u001B[38;5;21;01m.\u001B[39;00m\u001B[38;5;21;01msampler_pub\u001B[39;00m \u001B[38;5;28;01mimport\u001B[39;00m SamplerPub\n\u001B[0;32m----> 5\u001B[0m pub \u001B[38;5;241m=\u001B[39m SamplerPub\u001B[38;5;241m.\u001B[39mcoerce(qc, shots\u001B[38;5;241m=\u001B[39m\u001B[38;5;241m100\u001B[39m)\n\u001B[1;32m      6\u001B[0m \u001B[38;5;28mprint\u001B[39m(generate_qua_script(sampler_program(backend, [pub])))\n",
      "\u001B[0;31mNameError\u001B[0m: name 'qc' is not defined"
     ]
    }
   ],
   "execution_count": 9
  },
  {
   "metadata": {
    "ExecuteTime": {
     "end_time": "2025-06-02T14:53:44.978891Z",
     "start_time": "2025-06-02T14:48:03.447572Z"
    }
   },
   "cell_type": "code",
   "source": [
    "from qiskit_qm_provider.primitives.qm_sampler import QMSamplerV2, QMSamplerOptions\n",
    "\n",
    "sampler = QMSamplerV2(backend, options=QMSamplerOptions(input_type=\"INPUT_STREAM\"))"
   ],
   "id": "4332332ed29b1989",
   "outputs": [],
   "execution_count": 6
  },
  {
   "metadata": {},
   "cell_type": "code",
   "outputs": [
    {
     "ename": "NameError",
     "evalue": "name 'QMSamplerV2' is not defined",
     "output_type": "error",
     "traceback": [
      "\u001B[0;31m---------------------------------------------------------------------------\u001B[0m",
      "\u001B[0;31mNameError\u001B[0m                                 Traceback (most recent call last)",
      "Cell \u001B[0;32mIn[8], line 1\u001B[0m\n\u001B[0;32m----> 1\u001B[0m sampler \u001B[38;5;241m=\u001B[39m QMSamplerV2(backend, options\u001B[38;5;241m=\u001B[39mQMSamplerOptions(input_type\u001B[38;5;241m=\u001B[39m\u001B[38;5;124m\"\u001B[39m\u001B[38;5;124mINPUT_STREAM\u001B[39m\u001B[38;5;124m\"\u001B[39m))\n\u001B[1;32m      2\u001B[0m result \u001B[38;5;241m=\u001B[39m sampler\u001B[38;5;241m.\u001B[39mrun([(qc, \u001B[38;5;28;01mNone\u001B[39;00m, \u001B[38;5;241m1000\u001B[39m)])\u001B[38;5;241m.\u001B[39mresult()\n",
      "\u001B[0;31mNameError\u001B[0m: name 'QMSamplerV2' is not defined"
     ]
    }
   ],
   "execution_count": 8,
   "source": "result = sampler.run([(qc, None, 1000)]).result()",
   "id": "6bf6c97abc438d3a"
  },
  {
   "metadata": {
    "ExecuteTime": {
     "end_time": "2025-05-30T05:26:30.179070Z",
     "start_time": "2025-05-30T05:26:30.175896Z"
    }
   },
   "cell_type": "code",
   "source": "result[0].data.c1.get_counts()",
   "id": "2fbc0b7ce0753e4d",
   "outputs": [
    {
     "data": {
      "text/plain": [
       "{'0': 522, '1': 478}"
      ]
     },
     "execution_count": 24,
     "metadata": {},
     "output_type": "execute_result"
    }
   ],
   "execution_count": 24
  },
  {
   "metadata": {
    "ExecuteTime": {
     "end_time": "2025-05-30T05:26:38.738433Z",
     "start_time": "2025-05-30T05:26:38.735700Z"
    }
   },
   "cell_type": "code",
   "source": "result[0].data.c2.get_counts()",
   "id": "9e4debd7219e2911",
   "outputs": [
    {
     "data": {
      "text/plain": [
       "{'00': 64, '01': 64, '11': 426, '10': 446}"
      ]
     },
     "execution_count": 25,
     "metadata": {},
     "output_type": "execute_result"
    }
   ],
   "execution_count": 25
  },
  {
   "metadata": {
    "ExecuteTime": {
     "end_time": "2025-05-27T12:18:32.610652Z",
     "start_time": "2025-05-27T12:17:28.992855Z"
    }
   },
   "cell_type": "code",
   "source": "backend.run(qc, shots=100, timeout=600).result()",
   "id": "9355492b782ac8e6",
   "outputs": [
    {
     "name": "stderr",
     "output_type": "stream",
     "text": [
      "/Users/arthurostrauss/anaconda3/envs/rl_qoc/lib/python3.11/site-packages/quam/components/channels.py:647: UserWarning: The 'thread' element argument is deprecated from qm.qua >= 1.2.2. Use 'core' instead.\n",
      "  warnings.warn(\n",
      "/Users/arthurostrauss/anaconda3/envs/rl_qoc/lib/python3.11/site-packages/qm/program/_qua_config_schema.py:1956: DeprecationWarning: 'version' is deprecated since \"1.2.2\" and will be removed in \"1.3.0\". Please remove it from the Qua config.\n",
      "  warnings.warn(\n"
     ]
    },
    {
     "data": {
      "text/plain": [
       "Output()"
      ],
      "application/vnd.jupyter.widget-view+json": {
       "version_major": 2,
       "version_minor": 0,
       "model_id": "cf6602a0b7d645cc88559ce646b68a37"
      }
     },
     "metadata": {},
     "output_type": "display_data"
    },
    {
     "data": {
      "text/plain": [
       "\u001B[2;36m[20:17:31]\u001B[0m\u001B[2;36m \u001B[0mQUA program submitted to \u001B[1;34marbel\u001B[0m \u001B[1m(\u001B[0mid = \u001B[93me3e4617d-57fb-4777-ba9c-5c93d21ffcc9\u001B[0m\u001B[1m)\u001B[0m              \u001B]8;id=842394;file:///Users/arthurostrauss/anaconda3/envs/rl_qoc/lib/python3.11/site-packages/iqcc_cloud_client/computers.py\u001B\\\u001B[2mcomputers.py\u001B[0m\u001B]8;;\u001B\\\u001B[2m:\u001B[0m\u001B]8;id=264942;file:///Users/arthurostrauss/anaconda3/envs/rl_qoc/lib/python3.11/site-packages/iqcc_cloud_client/computers.py#442\u001B\\\u001B[2m442\u001B[0m\u001B]8;;\u001B\\\n"
      ],
      "text/html": [
       "<pre style=\"white-space:pre;overflow-x:auto;line-height:normal;font-family:Menlo,'DejaVu Sans Mono',consolas,'Courier New',monospace\"><span style=\"color: #7fbfbf; text-decoration-color: #7fbfbf\">[20:17:31] </span>QUA program submitted to <span style=\"color: #000080; text-decoration-color: #000080; font-weight: bold\">arbel</span> <span style=\"font-weight: bold\">(</span>id = <span style=\"color: #ffff00; text-decoration-color: #ffff00\">e3e4617d-57fb-4777-ba9c-5c93d21ffcc9</span><span style=\"font-weight: bold\">)</span>              <a href=\"file:///Users/arthurostrauss/anaconda3/envs/rl_qoc/lib/python3.11/site-packages/iqcc_cloud_client/computers.py\" target=\"_blank\"><span style=\"color: #7f7f7f; text-decoration-color: #7f7f7f\">computers.py</span></a><span style=\"color: #7f7f7f; text-decoration-color: #7f7f7f\">:</span><a href=\"file:///Users/arthurostrauss/anaconda3/envs/rl_qoc/lib/python3.11/site-packages/iqcc_cloud_client/computers.py#442\" target=\"_blank\"><span style=\"color: #7f7f7f; text-decoration-color: #7f7f7f\">442</span></a>\n",
       "</pre>\n"
      ]
     },
     "metadata": {},
     "output_type": "display_data"
    },
    {
     "data": {
      "text/plain": [
       "\u001B[2;36m[20:17:32]\u001B[0m\u001B[2;36m \u001B[0mExecution started                                                                       \u001B]8;id=990300;file:///Users/arthurostrauss/anaconda3/envs/rl_qoc/lib/python3.11/site-packages/iqcc_cloud_client/computers.py\u001B\\\u001B[2mcomputers.py\u001B[0m\u001B]8;;\u001B\\\u001B[2m:\u001B[0m\u001B]8;id=844537;file:///Users/arthurostrauss/anaconda3/envs/rl_qoc/lib/python3.11/site-packages/iqcc_cloud_client/computers.py#462\u001B\\\u001B[2m462\u001B[0m\u001B]8;;\u001B\\\n"
      ],
      "text/html": [
       "<pre style=\"white-space:pre;overflow-x:auto;line-height:normal;font-family:Menlo,'DejaVu Sans Mono',consolas,'Courier New',monospace\"><span style=\"color: #7fbfbf; text-decoration-color: #7fbfbf\">[20:17:32] </span>Execution started                                                                       <a href=\"file:///Users/arthurostrauss/anaconda3/envs/rl_qoc/lib/python3.11/site-packages/iqcc_cloud_client/computers.py\" target=\"_blank\"><span style=\"color: #7f7f7f; text-decoration-color: #7f7f7f\">computers.py</span></a><span style=\"color: #7f7f7f; text-decoration-color: #7f7f7f\">:</span><a href=\"file:///Users/arthurostrauss/anaconda3/envs/rl_qoc/lib/python3.11/site-packages/iqcc_cloud_client/computers.py#462\" target=\"_blank\"><span style=\"color: #7f7f7f; text-decoration-color: #7f7f7f\">462</span></a>\n",
       "</pre>\n"
      ]
     },
     "metadata": {},
     "output_type": "display_data"
    },
    {
     "data": {
      "text/plain": [
       "\u001B[2;36m[20:18:32]\u001B[0m\u001B[2;36m \u001B[0mExecution finished                                                                      \u001B]8;id=752583;file:///Users/arthurostrauss/anaconda3/envs/rl_qoc/lib/python3.11/site-packages/iqcc_cloud_client/computers.py\u001B\\\u001B[2mcomputers.py\u001B[0m\u001B]8;;\u001B\\\u001B[2m:\u001B[0m\u001B]8;id=29405;file:///Users/arthurostrauss/anaconda3/envs/rl_qoc/lib/python3.11/site-packages/iqcc_cloud_client/computers.py#476\u001B\\\u001B[2m476\u001B[0m\u001B]8;;\u001B\\\n"
      ],
      "text/html": [
       "<pre style=\"white-space:pre;overflow-x:auto;line-height:normal;font-family:Menlo,'DejaVu Sans Mono',consolas,'Courier New',monospace\"><span style=\"color: #7fbfbf; text-decoration-color: #7fbfbf\">[20:18:32] </span>Execution finished                                                                      <a href=\"file:///Users/arthurostrauss/anaconda3/envs/rl_qoc/lib/python3.11/site-packages/iqcc_cloud_client/computers.py\" target=\"_blank\"><span style=\"color: #7f7f7f; text-decoration-color: #7f7f7f\">computers.py</span></a><span style=\"color: #7f7f7f; text-decoration-color: #7f7f7f\">:</span><a href=\"file:///Users/arthurostrauss/anaconda3/envs/rl_qoc/lib/python3.11/site-packages/iqcc_cloud_client/computers.py#476\" target=\"_blank\"><span style=\"color: #7f7f7f; text-decoration-color: #7f7f7f\">476</span></a>\n",
       "</pre>\n"
      ]
     },
     "metadata": {},
     "output_type": "display_data"
    },
    {
     "data": {
      "text/plain": [
       "\u001B[1;31mQUA program has error:\u001B[0m\n"
      ],
      "text/html": [
       "<pre style=\"white-space:pre;overflow-x:auto;line-height:normal;font-family:Menlo,'DejaVu Sans Mono',consolas,'Courier New',monospace\"><span style=\"color: #800000; text-decoration-color: #800000; font-weight: bold\">QUA program has error:</span>\n",
       "</pre>\n"
      ]
     },
     "metadata": {},
     "output_type": "display_data"
    },
    {
     "data": {
      "text/plain": [
       "\n",
       "\u001B[1;31mExecution timed out after \u001B[0m\u001B[1;31m60\u001B[0m\n"
      ],
      "text/html": [
       "<pre style=\"white-space:pre;overflow-x:auto;line-height:normal;font-family:Menlo,'DejaVu Sans Mono',consolas,'Courier New',monospace\">\n",
       "<span style=\"color: #800000; text-decoration-color: #800000; font-weight: bold\">Execution timed out after </span><span style=\"color: #800000; text-decoration-color: #800000; font-weight: bold\">60</span>\n",
       "</pre>\n"
      ]
     },
     "metadata": {},
     "output_type": "display_data"
    },
    {
     "data": {
      "text/plain": [],
      "text/html": [
       "<pre style=\"white-space:pre;overflow-x:auto;line-height:normal;font-family:Menlo,'DejaVu Sans Mono',consolas,'Courier New',monospace\"></pre>\n"
      ]
     },
     "metadata": {},
     "output_type": "display_data"
    },
    {
     "ename": "AttributeError",
     "evalue": "'NoneType' object has no attribute 'to_bytes'",
     "output_type": "error",
     "traceback": [
      "\u001B[0;31m---------------------------------------------------------------------------\u001B[0m",
      "\u001B[0;31mAttributeError\u001B[0m                            Traceback (most recent call last)",
      "Cell \u001B[0;32mIn[17], line 1\u001B[0m\n\u001B[0;32m----> 1\u001B[0m backend\u001B[38;5;241m.\u001B[39mrun(qc, shots\u001B[38;5;241m=\u001B[39m\u001B[38;5;241m100\u001B[39m)\u001B[38;5;241m.\u001B[39mresult()\n",
      "File \u001B[0;32m~/Library/CloudStorage/OneDrive-QMMachinesLTD/GitHub/qiskit-qm-provider/qiskit_qm_provider/qm_job.py:91\u001B[0m, in \u001B[0;36mQMJob.result\u001B[0;34m(self)\u001B[0m\n\u001B[1;32m     88\u001B[0m \u001B[38;5;28;01mif\u001B[39;00m \u001B[38;5;28mself\u001B[39m\u001B[38;5;241m.\u001B[39m_qm_job \u001B[38;5;129;01mis\u001B[39;00m \u001B[38;5;28;01mNone\u001B[39;00m:\n\u001B[1;32m     89\u001B[0m     \u001B[38;5;28;01mraise\u001B[39;00m \u001B[38;5;167;01mRuntimeError\u001B[39;00m(\u001B[38;5;124m\"\u001B[39m\u001B[38;5;124mQM job has not submitted yet\u001B[39m\u001B[38;5;124m\"\u001B[39m)\n\u001B[0;32m---> 91\u001B[0m \u001B[38;5;28;01mreturn\u001B[39;00m \u001B[38;5;28mself\u001B[39m\u001B[38;5;241m.\u001B[39m_result_function(\u001B[38;5;28mself\u001B[39m\u001B[38;5;241m.\u001B[39m_qm_job)\n",
      "File \u001B[0;32m~/Library/CloudStorage/OneDrive-QMMachinesLTD/GitHub/qiskit-qm-provider/qiskit_qm_provider/qm_backend.py:463\u001B[0m, in \u001B[0;36mQMBackend.run.<locals>.result_function\u001B[0;34m(qm_job)\u001B[0m\n\u001B[1;32m    461\u001B[0m         data \u001B[38;5;241m=\u001B[39m np\u001B[38;5;241m.\u001B[39marray(results_handle\u001B[38;5;241m.\u001B[39mget(\u001B[38;5;124mf\u001B[39m\u001B[38;5;124m\"\u001B[39m\u001B[38;5;132;01m{\u001B[39;00mcreg\u001B[38;5;132;01m}\u001B[39;00m\u001B[38;5;124m_\u001B[39m\u001B[38;5;132;01m{\u001B[39;00mi\u001B[38;5;132;01m}\u001B[39;00m\u001B[38;5;124m\"\u001B[39m))\u001B[38;5;241m.\u001B[39mflatten()\u001B[38;5;241m.\u001B[39mtolist()\n\u001B[1;32m    462\u001B[0m     \u001B[38;5;66;03m# time_stamps = results_handle.get(f'{creg}_{i}').fetch_all()[\"timestamp\"]\u001B[39;00m\n\u001B[0;32m--> 463\u001B[0m     bit_array \u001B[38;5;241m=\u001B[39m BitArray\u001B[38;5;241m.\u001B[39mfrom_samples(data, creg_size)\n\u001B[1;32m    464\u001B[0m     qc_meas_data[creg] \u001B[38;5;241m=\u001B[39m bit_array\n\u001B[1;32m    466\u001B[0m sampler_data \u001B[38;5;241m=\u001B[39m SamplerPubResult(DataBin(\u001B[38;5;241m*\u001B[39m\u001B[38;5;241m*\u001B[39mqc_meas_data))\n",
      "File \u001B[0;32m~/anaconda3/envs/rl_qoc/lib/python3.11/site-packages/qiskit/primitives/containers/bit_array.py:313\u001B[0m, in \u001B[0;36mBitArray.from_samples\u001B[0;34m(samples, num_bits)\u001B[0m\n\u001B[1;32m    310\u001B[0m         num_bits \u001B[38;5;241m=\u001B[39m \u001B[38;5;241m1\u001B[39m\n\u001B[1;32m    312\u001B[0m num_bytes \u001B[38;5;241m=\u001B[39m _min_num_bytes(num_bits)\n\u001B[0;32m--> 313\u001B[0m data \u001B[38;5;241m=\u001B[39m \u001B[38;5;124mb\u001B[39m\u001B[38;5;124m\"\u001B[39m\u001B[38;5;124m\"\u001B[39m\u001B[38;5;241m.\u001B[39mjoin(val\u001B[38;5;241m.\u001B[39mto_bytes(num_bytes, \u001B[38;5;124m\"\u001B[39m\u001B[38;5;124mbig\u001B[39m\u001B[38;5;124m\"\u001B[39m) \u001B[38;5;28;01mfor\u001B[39;00m val \u001B[38;5;129;01min\u001B[39;00m ints)\n\u001B[1;32m    314\u001B[0m array \u001B[38;5;241m=\u001B[39m np\u001B[38;5;241m.\u001B[39mfrombuffer(data, dtype\u001B[38;5;241m=\u001B[39mnp\u001B[38;5;241m.\u001B[39muint8, count\u001B[38;5;241m=\u001B[39m\u001B[38;5;28mlen\u001B[39m(data))\n\u001B[1;32m    315\u001B[0m \u001B[38;5;28;01mreturn\u001B[39;00m BitArray(array\u001B[38;5;241m.\u001B[39mreshape(\u001B[38;5;241m-\u001B[39m\u001B[38;5;241m1\u001B[39m, num_bytes), num_bits)\n",
      "File \u001B[0;32m~/anaconda3/envs/rl_qoc/lib/python3.11/site-packages/qiskit/primitives/containers/bit_array.py:313\u001B[0m, in \u001B[0;36m<genexpr>\u001B[0;34m(.0)\u001B[0m\n\u001B[1;32m    310\u001B[0m         num_bits \u001B[38;5;241m=\u001B[39m \u001B[38;5;241m1\u001B[39m\n\u001B[1;32m    312\u001B[0m num_bytes \u001B[38;5;241m=\u001B[39m _min_num_bytes(num_bits)\n\u001B[0;32m--> 313\u001B[0m data \u001B[38;5;241m=\u001B[39m \u001B[38;5;124mb\u001B[39m\u001B[38;5;124m\"\u001B[39m\u001B[38;5;124m\"\u001B[39m\u001B[38;5;241m.\u001B[39mjoin(val\u001B[38;5;241m.\u001B[39mto_bytes(num_bytes, \u001B[38;5;124m\"\u001B[39m\u001B[38;5;124mbig\u001B[39m\u001B[38;5;124m\"\u001B[39m) \u001B[38;5;28;01mfor\u001B[39;00m val \u001B[38;5;129;01min\u001B[39;00m ints)\n\u001B[1;32m    314\u001B[0m array \u001B[38;5;241m=\u001B[39m np\u001B[38;5;241m.\u001B[39mfrombuffer(data, dtype\u001B[38;5;241m=\u001B[39mnp\u001B[38;5;241m.\u001B[39muint8, count\u001B[38;5;241m=\u001B[39m\u001B[38;5;28mlen\u001B[39m(data))\n\u001B[1;32m    315\u001B[0m \u001B[38;5;28;01mreturn\u001B[39;00m BitArray(array\u001B[38;5;241m.\u001B[39mreshape(\u001B[38;5;241m-\u001B[39m\u001B[38;5;241m1\u001B[39m, num_bytes), num_bits)\n",
      "\u001B[0;31mAttributeError\u001B[0m: 'NoneType' object has no attribute 'to_bytes'"
     ]
    }
   ],
   "execution_count": 17
  },
  {
   "metadata": {
    "ExecuteTime": {
     "end_time": "2025-05-27T12:18:47.274755Z",
     "start_time": "2025-05-27T12:18:46.902125Z"
    }
   },
   "cell_type": "code",
   "source": [
    "qc2 = qc.copy_empty_like()\n",
    "qc2.reset([qc.qubits[i] for i in qc.layout.final_index_layout()])\n",
    "new_qc = qc.compose(qc2, front=True)\n",
    "print(generate_qua_script(backend.get_run_program(1000, [new_qc])))"
   ],
   "id": "531e488d74cf40f7",
   "outputs": [
    {
     "name": "stdout",
     "output_type": "stream",
     "text": [
      "\n",
      "# Single QUA script generated at 2025-05-27 20:18:47.272563\n",
      "# QUA library version: 1.2.2rc2+dgx2\n",
      "\n",
      "\n",
      "from qm import CompilerOptionArguments\n",
      "from qm.qua import *\n",
      "\n",
      "with program() as prog:\n",
      "    v1 = declare(int, )\n",
      "    v2 = declare(int, value=0)\n",
      "    a1 = declare(bool, value=[False, False, False])\n",
      "    v3 = declare(fixed, )\n",
      "    v4 = declare(fixed, )\n",
      "    v5 = declare(bool, )\n",
      "    v6 = declare(int, value=1)\n",
      "    v7 = declare(fixed, )\n",
      "    v8 = declare(fixed, )\n",
      "    v9 = declare(bool, )\n",
      "    v10 = declare(int, value=1)\n",
      "    v11 = declare(fixed, )\n",
      "    v12 = declare(fixed, )\n",
      "    v13 = declare(bool, )\n",
      "    v14 = declare(int, value=1)\n",
      "    v15 = declare(bool, )\n",
      "    v16 = declare(fixed, )\n",
      "    v17 = declare(fixed, )\n",
      "    v18 = declare(bool, )\n",
      "    v19 = declare(fixed, )\n",
      "    v20 = declare(fixed, )\n",
      "    v21 = declare(bool, )\n",
      "    v22 = declare(fixed, )\n",
      "    v23 = declare(fixed, )\n",
      "    set_dc_offset(\"qC1.z\", \"single\", 0.03893272398522141)\n",
      "    set_dc_offset(\"qC2.z\", \"single\", 0.042361833295726854)\n",
      "    set_dc_offset(\"qC3.z\", \"single\", 0.008308850639720446)\n",
      "    set_dc_offset(\"qC4.z\", \"single\", 0.06400402098286061)\n",
      "    set_dc_offset(\"qD1.z\", \"single\", 0.1244395361674289)\n",
      "    set_dc_offset(\"qD3.z\", \"single\", -0.015177564097195418)\n",
      "    set_dc_offset(\"qA1.z\", \"single\", 0.0)\n",
      "    set_dc_offset(\"qA2.z\", \"single\", 0.0)\n",
      "    set_dc_offset(\"qA3.z\", \"single\", 0.0)\n",
      "    set_dc_offset(\"qA4.z\", \"single\", 0.0)\n",
      "    set_dc_offset(\"qA5.z\", \"single\", 0.0)\n",
      "    set_dc_offset(\"qA6.z\", \"single\", 0.0)\n",
      "    set_dc_offset(\"qB1.z\", \"single\", 0.0)\n",
      "    set_dc_offset(\"qB2.z\", \"single\", 0.0)\n",
      "    set_dc_offset(\"qB3.z\", \"single\", 0.0)\n",
      "    set_dc_offset(\"qB4.z\", \"single\", 0.0)\n",
      "    set_dc_offset(\"qB5.z\", \"single\", 0.0)\n",
      "    set_dc_offset(\"qC5.z\", \"single\", -0.14622362023613197)\n",
      "    set_dc_offset(\"qD2.z\", \"single\", 0.0)\n",
      "    set_dc_offset(\"qD4.z\", \"single\", 0.0)\n",
      "    set_dc_offset(\"qD5.z\", \"single\", 0.0)\n",
      "    with for_(v1,0,(v1<1000),(v1+1)):\n",
      "        align(\"qC1.resonator\", \"qC1.xy\", \"qC1.z\")\n",
      "        assign(v6, 1)\n",
      "        align(\"qC1.resonator\", \"qC1.xy\")\n",
      "        measure(\"readout\", \"qC1.resonator\", dual_demod.full(\"iw1\", \"iw2\", v3), dual_demod.full(\"iw3\", \"iw1\", v4))\n",
      "        assign(v5, (v3>0.0005487606658855393))\n",
      "        wait(750, \"qC1.resonator\")\n",
      "        align(\"qC1.resonator\", \"qC1.xy\")\n",
      "        play(\"x180_DragCosine\", \"qC1.xy\", condition=v5)\n",
      "        align(\"qC1.resonator\", \"qC1.xy\")\n",
      "        with while_(broadcast.and_((v3>0.00026583817952251937), (v6<5))):\n",
      "            align(\"qC1.resonator\", \"qC1.xy\")\n",
      "            measure(\"readout\", \"qC1.resonator\", dual_demod.full(\"iw1\", \"iw2\", v3), dual_demod.full(\"iw3\", \"iw1\", v4))\n",
      "            assign(v5, (v3>0.0005487606658855393))\n",
      "            wait(750, \"qC1.resonator\")\n",
      "            align(\"qC1.resonator\", \"qC1.xy\")\n",
      "            play(\"x180_DragCosine\", \"qC1.xy\", condition=v5)\n",
      "            align(\"qC1.resonator\", \"qC1.xy\")\n",
      "            assign(v6, (v6+1))\n",
      "        align(\"qC1.resonator\", \"qC1.xy\")\n",
      "        align(\"qC1.resonator\", \"qC1.xy\", \"qC1.z\")\n",
      "        align(\"qC2.resonator\", \"qC2.xy\", \"qC2.z\")\n",
      "        assign(v10, 1)\n",
      "        align(\"qC2.resonator\", \"qC2.xy\")\n",
      "        measure(\"readout\", \"qC2.resonator\", dual_demod.full(\"iw1\", \"iw2\", v7), dual_demod.full(\"iw3\", \"iw1\", v8))\n",
      "        assign(v9, (v7>0.0010564391849610165))\n",
      "        wait(750, \"qC2.resonator\")\n",
      "        align(\"qC2.resonator\", \"qC2.xy\")\n",
      "        play(\"x180_DragCosine\", \"qC2.xy\", condition=v9)\n",
      "        align(\"qC2.resonator\", \"qC2.xy\")\n",
      "        with while_(broadcast.and_((v7>0.0005708062912523558), (v10<5))):\n",
      "            align(\"qC2.resonator\", \"qC2.xy\")\n",
      "            measure(\"readout\", \"qC2.resonator\", dual_demod.full(\"iw1\", \"iw2\", v7), dual_demod.full(\"iw3\", \"iw1\", v8))\n",
      "            assign(v9, (v7>0.0010564391849610165))\n",
      "            wait(750, \"qC2.resonator\")\n",
      "            align(\"qC2.resonator\", \"qC2.xy\")\n",
      "            play(\"x180_DragCosine\", \"qC2.xy\", condition=v9)\n",
      "            align(\"qC2.resonator\", \"qC2.xy\")\n",
      "            assign(v10, (v10+1))\n",
      "        align(\"qC2.resonator\", \"qC2.xy\")\n",
      "        align(\"qC2.resonator\", \"qC2.xy\", \"qC2.z\")\n",
      "        align(\"qC3.resonator\", \"qC3.xy\", \"qC3.z\")\n",
      "        assign(v14, 1)\n",
      "        align(\"qC3.resonator\", \"qC3.xy\")\n",
      "        measure(\"readout\", \"qC3.resonator\", dual_demod.full(\"iw1\", \"iw2\", v11), dual_demod.full(\"iw3\", \"iw1\", v12))\n",
      "        assign(v13, (v11>0.0006809254072544717))\n",
      "        wait(750, \"qC3.resonator\")\n",
      "        align(\"qC3.resonator\", \"qC3.xy\")\n",
      "        play(\"x180_DragCosine\", \"qC3.xy\", condition=v13)\n",
      "        align(\"qC3.resonator\", \"qC3.xy\")\n",
      "        with while_(broadcast.and_((v11>0.0004462848779173413), (v14<5))):\n",
      "            align(\"qC3.resonator\", \"qC3.xy\")\n",
      "            measure(\"readout\", \"qC3.resonator\", dual_demod.full(\"iw1\", \"iw2\", v11), dual_demod.full(\"iw3\", \"iw1\", v12))\n",
      "            assign(v13, (v11>0.0006809254072544717))\n",
      "            wait(750, \"qC3.resonator\")\n",
      "            align(\"qC3.resonator\", \"qC3.xy\")\n",
      "            play(\"x180_DragCosine\", \"qC3.xy\", condition=v13)\n",
      "            align(\"qC3.resonator\", \"qC3.xy\")\n",
      "            assign(v14, (v14+1))\n",
      "        align(\"qC3.resonator\", \"qC3.xy\")\n",
      "        align(\"qC3.resonator\", \"qC3.xy\", \"qC3.z\")\n",
      "        align(\"qC1.resonator\", \"qC1.xy\", \"qC1.z\")\n",
      "        frame_rotation_2pi(1.5707963267948966, \"qC1.xy\")\n",
      "        align(\"qC1.resonator\", \"qC1.xy\", \"qC1.z\")\n",
      "        align(\"qC1.resonator\", \"qC1.xy\", \"qC1.z\")\n",
      "        play(\"x90_DragCosine\", \"qC1.xy\")\n",
      "        align(\"qC1.resonator\", \"qC1.xy\", \"qC1.z\")\n",
      "        align(\"qC1.resonator\", \"qC1.xy\", \"qC1.z\")\n",
      "        frame_rotation_2pi(1.5707963267948966, \"qC1.xy\")\n",
      "        align(\"qC1.resonator\", \"qC1.xy\", \"qC1.z\")\n",
      "        align(\"qC2.resonator\", \"qC2.xy\", \"qC2.z\")\n",
      "        frame_rotation_2pi(1.5707963267948966, \"qC2.xy\")\n",
      "        align(\"qC2.resonator\", \"qC2.xy\", \"qC2.z\")\n",
      "        align(\"qC2.resonator\", \"qC2.xy\", \"qC2.z\")\n",
      "        play(\"x90_DragCosine\", \"qC2.xy\")\n",
      "        align(\"qC2.resonator\", \"qC2.xy\", \"qC2.z\")\n",
      "        align(\"qC2.resonator\", \"qC2.xy\", \"qC2.z\")\n",
      "        frame_rotation_2pi(1.5707963267948966, \"qC2.xy\")\n",
      "        align(\"qC2.resonator\", \"qC2.xy\", \"qC2.z\")\n",
      "        align(\"qC3.resonator\", \"qC3.xy\", \"qC3.z\")\n",
      "        frame_rotation_2pi(1.5707963267948966, \"qC3.xy\")\n",
      "        align(\"qC3.resonator\", \"qC3.xy\", \"qC3.z\")\n",
      "        align(\"qC3.resonator\", \"qC3.xy\", \"qC3.z\")\n",
      "        play(\"x90_DragCosine\", \"qC3.xy\")\n",
      "        align(\"qC3.resonator\", \"qC3.xy\", \"qC3.z\")\n",
      "        align(\"qC3.resonator\", \"qC3.xy\", \"qC3.z\")\n",
      "        frame_rotation_2pi(1.5707963267948966, \"qC3.xy\")\n",
      "        align(\"qC3.resonator\", \"qC3.xy\", \"qC3.z\")\n",
      "        align(\"qC1.resonator\", \"qC1.xy\", \"qC1.z\")\n",
      "        measure(\"readout\", \"qC1.resonator\", dual_demod.full(\"iw1\", \"iw2\", v16), dual_demod.full(\"iw3\", \"iw1\", v17))\n",
      "        assign(v15, (v16>0.0005487606658855393))\n",
      "        align(\"qC1.resonator\", \"qC1.xy\", \"qC1.z\")\n",
      "        assign(a1[0], v15)\n",
      "        align(\"qC2.resonator\", \"qC2.xy\", \"qC2.z\")\n",
      "        measure(\"readout\", \"qC2.resonator\", dual_demod.full(\"iw1\", \"iw2\", v19), dual_demod.full(\"iw3\", \"iw1\", v20))\n",
      "        assign(v18, (v19>0.0010564391849610165))\n",
      "        align(\"qC2.resonator\", \"qC2.xy\", \"qC2.z\")\n",
      "        assign(a1[1], v18)\n",
      "        align(\"qC3.resonator\", \"qC3.xy\", \"qC3.z\")\n",
      "        measure(\"readout\", \"qC3.resonator\", dual_demod.full(\"iw1\", \"iw2\", v22), dual_demod.full(\"iw3\", \"iw1\", v23))\n",
      "        assign(v21, (v22>0.0006809254072544717))\n",
      "        align(\"qC3.resonator\", \"qC3.xy\", \"qC3.z\")\n",
      "        assign(a1[2], v21)\n",
      "        assign(v2, (v2+(1*Cast.to_int(a1[0]))))\n",
      "        assign(v2, (v2+(2*Cast.to_int(a1[1]))))\n",
      "        assign(v2, (v2+(4*Cast.to_int(a1[2]))))\n",
      "        r1 = declare_stream()\n",
      "        save(v2, r1)\n",
      "        assign(v2, 0)\n",
      "    with stream_processing():\n",
      "        r1.save_all(\"meas_0\")\n",
      "\n",
      "config = None\n",
      "\n",
      "loaded_config = None\n",
      "\n",
      "\n"
     ]
    }
   ],
   "execution_count": 18
  },
  {
   "metadata": {
    "ExecuteTime": {
     "end_time": "2025-05-27T11:44:20.982945Z",
     "start_time": "2025-05-27T11:44:20.975959Z"
    }
   },
   "cell_type": "code",
   "source": "machine.active_qubits[1].macros[\"reset\"]",
   "id": "256f448805113fcb",
   "outputs": [
    {
     "data": {
      "text/plain": [
       "ResetMacro(id='reset', reset_type='active', pi_pulse='x180', readout_pulse='readout', max_attempts=5, thermalize_time=0)"
      ]
     },
     "execution_count": 9,
     "metadata": {},
     "output_type": "execute_result"
    }
   ],
   "execution_count": 9
  },
  {
   "metadata": {
    "ExecuteTime": {
     "end_time": "2025-05-27T09:36:42.012138Z",
     "start_time": "2025-05-27T09:36:42.009515Z"
    }
   },
   "cell_type": "code",
   "source": "machine.active_qubits[5].T1",
   "id": "ec1ad0df426ccc9f",
   "outputs": [
    {
     "data": {
      "text/plain": [
       "1.5818728339088663e-05"
      ]
     },
     "execution_count": 58,
     "metadata": {},
     "output_type": "execute_result"
    }
   ],
   "execution_count": 58
  },
  {
   "metadata": {
    "ExecuteTime": {
     "end_time": "2025-05-27T11:31:35.872285Z",
     "start_time": "2025-05-27T11:31:35.518162Z"
    }
   },
   "cell_type": "code",
   "source": [
    "from qualang_tools.units import unit\n",
    "\n",
    "u = unit(coerce_to_integer=True)\n",
    "for qubit in machine.active_qubits:\n",
    "    qubit.macros[\"reset\"].reset_type = \"thermalize\"\n",
    "    qubit.macros[\"reset\"].thermalize_time = 5 * qubit.T1 * u.s"
   ],
   "id": "cf50c7dc7934b1c9",
   "outputs": [
    {
     "name": "stderr",
     "output_type": "stream",
     "text": [
      "/Users/arthurostrauss/anaconda3/envs/rl_qoc/lib/python3.11/site-packages/qualang_tools/units/units.py:60: RuntimeWarning: Warning: the specified duration (0.00016321692632583217) to be converted to clock cycles in not an integer. It has been converted to int (163216.0) to avoid subsequent errors.\n",
      "  warn(\n",
      "/Users/arthurostrauss/anaconda3/envs/rl_qoc/lib/python3.11/site-packages/qualang_tools/units/units.py:60: RuntimeWarning: Warning: the specified duration (0.00014101878302276747) to be converted to clock cycles in not an integer. It has been converted to int (141018.0) to avoid subsequent errors.\n",
      "  warn(\n",
      "/Users/arthurostrauss/anaconda3/envs/rl_qoc/lib/python3.11/site-packages/qualang_tools/units/units.py:60: RuntimeWarning: Warning: the specified duration (0.0001557610809036357) to be converted to clock cycles in not an integer. It has been converted to int (155761.0) to avoid subsequent errors.\n",
      "  warn(\n",
      "/Users/arthurostrauss/anaconda3/envs/rl_qoc/lib/python3.11/site-packages/qualang_tools/units/units.py:60: RuntimeWarning: Warning: the specified duration (0.0001812729885215876) to be converted to clock cycles in not an integer. It has been converted to int (181272.0) to avoid subsequent errors.\n",
      "  warn(\n",
      "/Users/arthurostrauss/anaconda3/envs/rl_qoc/lib/python3.11/site-packages/qualang_tools/units/units.py:60: RuntimeWarning: Warning: the specified duration (0.00014892182772288285) to be converted to clock cycles in not an integer. It has been converted to int (148921.0) to avoid subsequent errors.\n",
      "  warn(\n",
      "/Users/arthurostrauss/anaconda3/envs/rl_qoc/lib/python3.11/site-packages/qualang_tools/units/units.py:60: RuntimeWarning: Warning: the specified duration (7.90936416954433e-05) to be converted to clock cycles in not an integer. It has been converted to int (79093.0) to avoid subsequent errors.\n",
      "  warn(\n"
     ]
    }
   ],
   "execution_count": 4
  },
  {
   "metadata": {
    "ExecuteTime": {
     "end_time": "2025-06-02T14:57:48.410993Z",
     "start_time": "2025-06-02T14:57:47.871346Z"
    }
   },
   "cell_type": "code",
   "source": [
    "from qiskit_experiments.library.randomized_benchmarking import StandardRB\n",
    "from qiskit_qm_provider.primitives.qm_sampler import QMSamplerV2, QMSamplerOptions\n",
    "\n",
    "sampler = QMSamplerV2(\n",
    "    backend,\n",
    "    options=QMSamplerOptions(\n",
    "        input_type=\"INPUT_STREAM\",\n",
    "    ),\n",
    ")\n",
    "exp = StandardRB([0], [5, 30, 60, 90, 120], backend=backend, num_samples=5)\n",
    "exp._transpiled_circuits()[0].draw(\"mpl\")"
   ],
   "id": "af1df66168ffc63b",
   "outputs": [
    {
     "name": "stdout",
     "output_type": "stream",
     "text": [
      "2025-06-02 22:57:47 INFO Could not load 'ibm_backend': cannot import name 'ProviderV1' from 'qiskit.providers' (/Users/arthurostrauss/anaconda3/envs/rl_qoc/lib/python3.11/site-packages/qiskit/providers/__init__.py)\n",
      "2025-06-02 22:57:47 INFO Could not load 'ibm_dynamic_circuits': cannot import name 'ProviderV1' from 'qiskit.providers' (/Users/arthurostrauss/anaconda3/envs/rl_qoc/lib/python3.11/site-packages/qiskit/providers/__init__.py)\n",
      "2025-06-02 22:57:47 INFO Could not load 'ibm_backend': cannot import name 'ProviderV1' from 'qiskit.providers' (/Users/arthurostrauss/anaconda3/envs/rl_qoc/lib/python3.11/site-packages/qiskit/providers/__init__.py)\n",
      "2025-06-02 22:57:47 INFO Could not load 'ibm_dynamic_circuits': cannot import name 'ProviderV1' from 'qiskit.providers' (/Users/arthurostrauss/anaconda3/envs/rl_qoc/lib/python3.11/site-packages/qiskit/providers/__init__.py)\n",
      "2025-06-02 22:57:47 INFO Could not load 'ibm_backend': cannot import name 'ProviderV1' from 'qiskit.providers' (/Users/arthurostrauss/anaconda3/envs/rl_qoc/lib/python3.11/site-packages/qiskit/providers/__init__.py)\n",
      "2025-06-02 22:57:47 INFO Could not load 'ibm_dynamic_circuits': cannot import name 'ProviderV1' from 'qiskit.providers' (/Users/arthurostrauss/anaconda3/envs/rl_qoc/lib/python3.11/site-packages/qiskit/providers/__init__.py)\n",
      "2025-06-02 22:57:47 INFO Could not load 'ibm_backend': cannot import name 'ProviderV1' from 'qiskit.providers' (/Users/arthurostrauss/anaconda3/envs/rl_qoc/lib/python3.11/site-packages/qiskit/providers/__init__.py)\n",
      "2025-06-02 22:57:47 INFO Could not load 'ibm_dynamic_circuits': cannot import name 'ProviderV1' from 'qiskit.providers' (/Users/arthurostrauss/anaconda3/envs/rl_qoc/lib/python3.11/site-packages/qiskit/providers/__init__.py)\n",
      "2025-06-02 22:57:47 INFO Could not load 'ibm_backend': cannot import name 'ProviderV1' from 'qiskit.providers' (/Users/arthurostrauss/anaconda3/envs/rl_qoc/lib/python3.11/site-packages/qiskit/providers/__init__.py)\n",
      "2025-06-02 22:57:47 INFO Could not load 'ibm_dynamic_circuits': cannot import name 'ProviderV1' from 'qiskit.providers' (/Users/arthurostrauss/anaconda3/envs/rl_qoc/lib/python3.11/site-packages/qiskit/providers/__init__.py)\n",
      "2025-06-02 22:57:47 INFO Could not load 'ibm_backend': cannot import name 'ProviderV1' from 'qiskit.providers' (/Users/arthurostrauss/anaconda3/envs/rl_qoc/lib/python3.11/site-packages/qiskit/providers/__init__.py)\n",
      "2025-06-02 22:57:47 INFO Could not load 'ibm_dynamic_circuits': cannot import name 'ProviderV1' from 'qiskit.providers' (/Users/arthurostrauss/anaconda3/envs/rl_qoc/lib/python3.11/site-packages/qiskit/providers/__init__.py)\n",
      "2025-06-02 22:57:47 INFO Could not load 'ibm_backend': cannot import name 'ProviderV1' from 'qiskit.providers' (/Users/arthurostrauss/anaconda3/envs/rl_qoc/lib/python3.11/site-packages/qiskit/providers/__init__.py)\n",
      "2025-06-02 22:57:47 INFO Could not load 'ibm_dynamic_circuits': cannot import name 'ProviderV1' from 'qiskit.providers' (/Users/arthurostrauss/anaconda3/envs/rl_qoc/lib/python3.11/site-packages/qiskit/providers/__init__.py)\n",
      "2025-06-02 22:57:47 INFO Could not load 'ibm_backend': cannot import name 'ProviderV1' from 'qiskit.providers' (/Users/arthurostrauss/anaconda3/envs/rl_qoc/lib/python3.11/site-packages/qiskit/providers/__init__.py)\n",
      "2025-06-02 22:57:47 INFO Could not load 'ibm_dynamic_circuits': cannot import name 'ProviderV1' from 'qiskit.providers' (/Users/arthurostrauss/anaconda3/envs/rl_qoc/lib/python3.11/site-packages/qiskit/providers/__init__.py)\n",
      "2025-06-02 22:57:47 INFO Could not load 'ibm_backend': cannot import name 'ProviderV1' from 'qiskit.providers' (/Users/arthurostrauss/anaconda3/envs/rl_qoc/lib/python3.11/site-packages/qiskit/providers/__init__.py)\n",
      "2025-06-02 22:57:47 INFO Could not load 'ibm_dynamic_circuits': cannot import name 'ProviderV1' from 'qiskit.providers' (/Users/arthurostrauss/anaconda3/envs/rl_qoc/lib/python3.11/site-packages/qiskit/providers/__init__.py)\n",
      "2025-06-02 22:57:47 INFO Could not load 'ibm_backend': cannot import name 'ProviderV1' from 'qiskit.providers' (/Users/arthurostrauss/anaconda3/envs/rl_qoc/lib/python3.11/site-packages/qiskit/providers/__init__.py)\n",
      "2025-06-02 22:57:47 INFO Could not load 'ibm_dynamic_circuits': cannot import name 'ProviderV1' from 'qiskit.providers' (/Users/arthurostrauss/anaconda3/envs/rl_qoc/lib/python3.11/site-packages/qiskit/providers/__init__.py)\n",
      "2025-06-02 22:57:48 INFO Could not load 'ibm_backend': cannot import name 'ProviderV1' from 'qiskit.providers' (/Users/arthurostrauss/anaconda3/envs/rl_qoc/lib/python3.11/site-packages/qiskit/providers/__init__.py)\n",
      "2025-06-02 22:57:48 INFO Could not load 'ibm_dynamic_circuits': cannot import name 'ProviderV1' from 'qiskit.providers' (/Users/arthurostrauss/anaconda3/envs/rl_qoc/lib/python3.11/site-packages/qiskit/providers/__init__.py)\n",
      "2025-06-02 22:57:48 INFO Could not load 'ibm_backend': cannot import name 'ProviderV1' from 'qiskit.providers' (/Users/arthurostrauss/anaconda3/envs/rl_qoc/lib/python3.11/site-packages/qiskit/providers/__init__.py)\n",
      "2025-06-02 22:57:48 INFO Could not load 'ibm_dynamic_circuits': cannot import name 'ProviderV1' from 'qiskit.providers' (/Users/arthurostrauss/anaconda3/envs/rl_qoc/lib/python3.11/site-packages/qiskit/providers/__init__.py)\n",
      "2025-06-02 22:57:48 INFO Could not load 'ibm_backend': cannot import name 'ProviderV1' from 'qiskit.providers' (/Users/arthurostrauss/anaconda3/envs/rl_qoc/lib/python3.11/site-packages/qiskit/providers/__init__.py)\n",
      "2025-06-02 22:57:48 INFO Could not load 'ibm_dynamic_circuits': cannot import name 'ProviderV1' from 'qiskit.providers' (/Users/arthurostrauss/anaconda3/envs/rl_qoc/lib/python3.11/site-packages/qiskit/providers/__init__.py)\n",
      "2025-06-02 22:57:48 INFO Could not load 'ibm_backend': cannot import name 'ProviderV1' from 'qiskit.providers' (/Users/arthurostrauss/anaconda3/envs/rl_qoc/lib/python3.11/site-packages/qiskit/providers/__init__.py)\n",
      "2025-06-02 22:57:48 INFO Could not load 'ibm_dynamic_circuits': cannot import name 'ProviderV1' from 'qiskit.providers' (/Users/arthurostrauss/anaconda3/envs/rl_qoc/lib/python3.11/site-packages/qiskit/providers/__init__.py)\n",
      "2025-06-02 22:57:48 INFO Could not load 'ibm_backend': cannot import name 'ProviderV1' from 'qiskit.providers' (/Users/arthurostrauss/anaconda3/envs/rl_qoc/lib/python3.11/site-packages/qiskit/providers/__init__.py)\n",
      "2025-06-02 22:57:48 INFO Could not load 'ibm_dynamic_circuits': cannot import name 'ProviderV1' from 'qiskit.providers' (/Users/arthurostrauss/anaconda3/envs/rl_qoc/lib/python3.11/site-packages/qiskit/providers/__init__.py)\n",
      "2025-06-02 22:57:48 INFO Could not load 'ibm_backend': cannot import name 'ProviderV1' from 'qiskit.providers' (/Users/arthurostrauss/anaconda3/envs/rl_qoc/lib/python3.11/site-packages/qiskit/providers/__init__.py)\n",
      "2025-06-02 22:57:48 INFO Could not load 'ibm_dynamic_circuits': cannot import name 'ProviderV1' from 'qiskit.providers' (/Users/arthurostrauss/anaconda3/envs/rl_qoc/lib/python3.11/site-packages/qiskit/providers/__init__.py)\n",
      "2025-06-02 22:57:48 INFO Could not load 'ibm_backend': cannot import name 'ProviderV1' from 'qiskit.providers' (/Users/arthurostrauss/anaconda3/envs/rl_qoc/lib/python3.11/site-packages/qiskit/providers/__init__.py)\n",
      "2025-06-02 22:57:48 INFO Could not load 'ibm_dynamic_circuits': cannot import name 'ProviderV1' from 'qiskit.providers' (/Users/arthurostrauss/anaconda3/envs/rl_qoc/lib/python3.11/site-packages/qiskit/providers/__init__.py)\n",
      "2025-06-02 22:57:48 INFO Could not load 'ibm_backend': cannot import name 'ProviderV1' from 'qiskit.providers' (/Users/arthurostrauss/anaconda3/envs/rl_qoc/lib/python3.11/site-packages/qiskit/providers/__init__.py)\n",
      "2025-06-02 22:57:48 INFO Could not load 'ibm_dynamic_circuits': cannot import name 'ProviderV1' from 'qiskit.providers' (/Users/arthurostrauss/anaconda3/envs/rl_qoc/lib/python3.11/site-packages/qiskit/providers/__init__.py)\n",
      "2025-06-02 22:57:48 INFO Could not load 'ibm_backend': cannot import name 'ProviderV1' from 'qiskit.providers' (/Users/arthurostrauss/anaconda3/envs/rl_qoc/lib/python3.11/site-packages/qiskit/providers/__init__.py)\n",
      "2025-06-02 22:57:48 INFO Could not load 'ibm_dynamic_circuits': cannot import name 'ProviderV1' from 'qiskit.providers' (/Users/arthurostrauss/anaconda3/envs/rl_qoc/lib/python3.11/site-packages/qiskit/providers/__init__.py)\n",
      "2025-06-02 22:57:48 INFO Could not load 'ibm_backend': cannot import name 'ProviderV1' from 'qiskit.providers' (/Users/arthurostrauss/anaconda3/envs/rl_qoc/lib/python3.11/site-packages/qiskit/providers/__init__.py)\n",
      "2025-06-02 22:57:48 INFO Could not load 'ibm_dynamic_circuits': cannot import name 'ProviderV1' from 'qiskit.providers' (/Users/arthurostrauss/anaconda3/envs/rl_qoc/lib/python3.11/site-packages/qiskit/providers/__init__.py)\n",
      "2025-06-02 22:57:48 INFO Could not load 'ibm_backend': cannot import name 'ProviderV1' from 'qiskit.providers' (/Users/arthurostrauss/anaconda3/envs/rl_qoc/lib/python3.11/site-packages/qiskit/providers/__init__.py)\n",
      "2025-06-02 22:57:48 INFO Could not load 'ibm_dynamic_circuits': cannot import name 'ProviderV1' from 'qiskit.providers' (/Users/arthurostrauss/anaconda3/envs/rl_qoc/lib/python3.11/site-packages/qiskit/providers/__init__.py)\n",
      "2025-06-02 22:57:48 INFO Could not load 'ibm_backend': cannot import name 'ProviderV1' from 'qiskit.providers' (/Users/arthurostrauss/anaconda3/envs/rl_qoc/lib/python3.11/site-packages/qiskit/providers/__init__.py)\n",
      "2025-06-02 22:57:48 INFO Could not load 'ibm_dynamic_circuits': cannot import name 'ProviderV1' from 'qiskit.providers' (/Users/arthurostrauss/anaconda3/envs/rl_qoc/lib/python3.11/site-packages/qiskit/providers/__init__.py)\n",
      "2025-06-02 22:57:48 INFO Could not load 'ibm_backend': cannot import name 'ProviderV1' from 'qiskit.providers' (/Users/arthurostrauss/anaconda3/envs/rl_qoc/lib/python3.11/site-packages/qiskit/providers/__init__.py)\n",
      "2025-06-02 22:57:48 INFO Could not load 'ibm_dynamic_circuits': cannot import name 'ProviderV1' from 'qiskit.providers' (/Users/arthurostrauss/anaconda3/envs/rl_qoc/lib/python3.11/site-packages/qiskit/providers/__init__.py)\n",
      "2025-06-02 22:57:48 INFO Could not load 'ibm_backend': cannot import name 'ProviderV1' from 'qiskit.providers' (/Users/arthurostrauss/anaconda3/envs/rl_qoc/lib/python3.11/site-packages/qiskit/providers/__init__.py)\n",
      "2025-06-02 22:57:48 INFO Could not load 'ibm_dynamic_circuits': cannot import name 'ProviderV1' from 'qiskit.providers' (/Users/arthurostrauss/anaconda3/envs/rl_qoc/lib/python3.11/site-packages/qiskit/providers/__init__.py)\n",
      "2025-06-02 22:57:48 INFO Could not load 'ibm_backend': cannot import name 'ProviderV1' from 'qiskit.providers' (/Users/arthurostrauss/anaconda3/envs/rl_qoc/lib/python3.11/site-packages/qiskit/providers/__init__.py)\n",
      "2025-06-02 22:57:48 INFO Could not load 'ibm_dynamic_circuits': cannot import name 'ProviderV1' from 'qiskit.providers' (/Users/arthurostrauss/anaconda3/envs/rl_qoc/lib/python3.11/site-packages/qiskit/providers/__init__.py)\n",
      "2025-06-02 22:57:48 INFO Could not load 'ibm_backend': cannot import name 'ProviderV1' from 'qiskit.providers' (/Users/arthurostrauss/anaconda3/envs/rl_qoc/lib/python3.11/site-packages/qiskit/providers/__init__.py)\n",
      "2025-06-02 22:57:48 INFO Could not load 'ibm_dynamic_circuits': cannot import name 'ProviderV1' from 'qiskit.providers' (/Users/arthurostrauss/anaconda3/envs/rl_qoc/lib/python3.11/site-packages/qiskit/providers/__init__.py)\n",
      "2025-06-02 22:57:48 INFO Could not load 'ibm_backend': cannot import name 'ProviderV1' from 'qiskit.providers' (/Users/arthurostrauss/anaconda3/envs/rl_qoc/lib/python3.11/site-packages/qiskit/providers/__init__.py)\n",
      "2025-06-02 22:57:48 INFO Could not load 'ibm_dynamic_circuits': cannot import name 'ProviderV1' from 'qiskit.providers' (/Users/arthurostrauss/anaconda3/envs/rl_qoc/lib/python3.11/site-packages/qiskit/providers/__init__.py)\n",
      "2025-06-02 22:57:48 INFO Could not load 'ibm_backend': cannot import name 'ProviderV1' from 'qiskit.providers' (/Users/arthurostrauss/anaconda3/envs/rl_qoc/lib/python3.11/site-packages/qiskit/providers/__init__.py)\n",
      "2025-06-02 22:57:48 INFO Could not load 'ibm_dynamic_circuits': cannot import name 'ProviderV1' from 'qiskit.providers' (/Users/arthurostrauss/anaconda3/envs/rl_qoc/lib/python3.11/site-packages/qiskit/providers/__init__.py)\n",
      "2025-06-02 22:57:48 INFO Could not load 'ibm_backend': cannot import name 'ProviderV1' from 'qiskit.providers' (/Users/arthurostrauss/anaconda3/envs/rl_qoc/lib/python3.11/site-packages/qiskit/providers/__init__.py)\n",
      "2025-06-02 22:57:48 INFO Could not load 'ibm_dynamic_circuits': cannot import name 'ProviderV1' from 'qiskit.providers' (/Users/arthurostrauss/anaconda3/envs/rl_qoc/lib/python3.11/site-packages/qiskit/providers/__init__.py)\n",
      "2025-06-02 22:57:48 INFO Could not load 'ibm_backend': cannot import name 'ProviderV1' from 'qiskit.providers' (/Users/arthurostrauss/anaconda3/envs/rl_qoc/lib/python3.11/site-packages/qiskit/providers/__init__.py)\n",
      "2025-06-02 22:57:48 INFO Could not load 'ibm_dynamic_circuits': cannot import name 'ProviderV1' from 'qiskit.providers' (/Users/arthurostrauss/anaconda3/envs/rl_qoc/lib/python3.11/site-packages/qiskit/providers/__init__.py)\n",
      "2025-06-02 22:57:48 INFO Could not load 'ibm_backend': cannot import name 'ProviderV1' from 'qiskit.providers' (/Users/arthurostrauss/anaconda3/envs/rl_qoc/lib/python3.11/site-packages/qiskit/providers/__init__.py)\n",
      "2025-06-02 22:57:48 INFO Could not load 'ibm_dynamic_circuits': cannot import name 'ProviderV1' from 'qiskit.providers' (/Users/arthurostrauss/anaconda3/envs/rl_qoc/lib/python3.11/site-packages/qiskit/providers/__init__.py)\n",
      "2025-06-02 22:57:48 INFO Could not load 'ibm_backend': cannot import name 'ProviderV1' from 'qiskit.providers' (/Users/arthurostrauss/anaconda3/envs/rl_qoc/lib/python3.11/site-packages/qiskit/providers/__init__.py)\n",
      "2025-06-02 22:57:48 INFO Could not load 'ibm_dynamic_circuits': cannot import name 'ProviderV1' from 'qiskit.providers' (/Users/arthurostrauss/anaconda3/envs/rl_qoc/lib/python3.11/site-packages/qiskit/providers/__init__.py)\n",
      "2025-06-02 22:57:48 INFO Could not load 'ibm_backend': cannot import name 'ProviderV1' from 'qiskit.providers' (/Users/arthurostrauss/anaconda3/envs/rl_qoc/lib/python3.11/site-packages/qiskit/providers/__init__.py)\n",
      "2025-06-02 22:57:48 INFO Could not load 'ibm_dynamic_circuits': cannot import name 'ProviderV1' from 'qiskit.providers' (/Users/arthurostrauss/anaconda3/envs/rl_qoc/lib/python3.11/site-packages/qiskit/providers/__init__.py)\n",
      "2025-06-02 22:57:48 INFO Could not load 'ibm_backend': cannot import name 'ProviderV1' from 'qiskit.providers' (/Users/arthurostrauss/anaconda3/envs/rl_qoc/lib/python3.11/site-packages/qiskit/providers/__init__.py)\n",
      "2025-06-02 22:57:48 INFO Could not load 'ibm_dynamic_circuits': cannot import name 'ProviderV1' from 'qiskit.providers' (/Users/arthurostrauss/anaconda3/envs/rl_qoc/lib/python3.11/site-packages/qiskit/providers/__init__.py)\n",
      "2025-06-02 22:57:48 INFO Could not load 'ibm_backend': cannot import name 'ProviderV1' from 'qiskit.providers' (/Users/arthurostrauss/anaconda3/envs/rl_qoc/lib/python3.11/site-packages/qiskit/providers/__init__.py)\n",
      "2025-06-02 22:57:48 INFO Could not load 'ibm_dynamic_circuits': cannot import name 'ProviderV1' from 'qiskit.providers' (/Users/arthurostrauss/anaconda3/envs/rl_qoc/lib/python3.11/site-packages/qiskit/providers/__init__.py)\n",
      "2025-06-02 22:57:48 INFO Could not load 'ibm_backend': cannot import name 'ProviderV1' from 'qiskit.providers' (/Users/arthurostrauss/anaconda3/envs/rl_qoc/lib/python3.11/site-packages/qiskit/providers/__init__.py)\n",
      "2025-06-02 22:57:48 INFO Could not load 'ibm_dynamic_circuits': cannot import name 'ProviderV1' from 'qiskit.providers' (/Users/arthurostrauss/anaconda3/envs/rl_qoc/lib/python3.11/site-packages/qiskit/providers/__init__.py)\n",
      "2025-06-02 22:57:48 INFO Could not load 'ibm_backend': cannot import name 'ProviderV1' from 'qiskit.providers' (/Users/arthurostrauss/anaconda3/envs/rl_qoc/lib/python3.11/site-packages/qiskit/providers/__init__.py)\n",
      "2025-06-02 22:57:48 INFO Could not load 'ibm_dynamic_circuits': cannot import name 'ProviderV1' from 'qiskit.providers' (/Users/arthurostrauss/anaconda3/envs/rl_qoc/lib/python3.11/site-packages/qiskit/providers/__init__.py)\n",
      "2025-06-02 22:57:48 INFO Could not load 'ibm_backend': cannot import name 'ProviderV1' from 'qiskit.providers' (/Users/arthurostrauss/anaconda3/envs/rl_qoc/lib/python3.11/site-packages/qiskit/providers/__init__.py)\n",
      "2025-06-02 22:57:48 INFO Could not load 'ibm_dynamic_circuits': cannot import name 'ProviderV1' from 'qiskit.providers' (/Users/arthurostrauss/anaconda3/envs/rl_qoc/lib/python3.11/site-packages/qiskit/providers/__init__.py)\n",
      "2025-06-02 22:57:48 INFO Could not load 'ibm_backend': cannot import name 'ProviderV1' from 'qiskit.providers' (/Users/arthurostrauss/anaconda3/envs/rl_qoc/lib/python3.11/site-packages/qiskit/providers/__init__.py)\n",
      "2025-06-02 22:57:48 INFO Could not load 'ibm_dynamic_circuits': cannot import name 'ProviderV1' from 'qiskit.providers' (/Users/arthurostrauss/anaconda3/envs/rl_qoc/lib/python3.11/site-packages/qiskit/providers/__init__.py)\n",
      "2025-06-02 22:57:48 INFO Could not load 'ibm_backend': cannot import name 'ProviderV1' from 'qiskit.providers' (/Users/arthurostrauss/anaconda3/envs/rl_qoc/lib/python3.11/site-packages/qiskit/providers/__init__.py)\n",
      "2025-06-02 22:57:48 INFO Could not load 'ibm_dynamic_circuits': cannot import name 'ProviderV1' from 'qiskit.providers' (/Users/arthurostrauss/anaconda3/envs/rl_qoc/lib/python3.11/site-packages/qiskit/providers/__init__.py)\n",
      "2025-06-02 22:57:48 INFO Could not load 'ibm_backend': cannot import name 'ProviderV1' from 'qiskit.providers' (/Users/arthurostrauss/anaconda3/envs/rl_qoc/lib/python3.11/site-packages/qiskit/providers/__init__.py)\n",
      "2025-06-02 22:57:48 INFO Could not load 'ibm_dynamic_circuits': cannot import name 'ProviderV1' from 'qiskit.providers' (/Users/arthurostrauss/anaconda3/envs/rl_qoc/lib/python3.11/site-packages/qiskit/providers/__init__.py)\n",
      "2025-06-02 22:57:48 INFO Could not load 'ibm_backend': cannot import name 'ProviderV1' from 'qiskit.providers' (/Users/arthurostrauss/anaconda3/envs/rl_qoc/lib/python3.11/site-packages/qiskit/providers/__init__.py)\n",
      "2025-06-02 22:57:48 INFO Could not load 'ibm_dynamic_circuits': cannot import name 'ProviderV1' from 'qiskit.providers' (/Users/arthurostrauss/anaconda3/envs/rl_qoc/lib/python3.11/site-packages/qiskit/providers/__init__.py)\n",
      "2025-06-02 22:57:48 INFO Could not load 'ibm_backend': cannot import name 'ProviderV1' from 'qiskit.providers' (/Users/arthurostrauss/anaconda3/envs/rl_qoc/lib/python3.11/site-packages/qiskit/providers/__init__.py)\n",
      "2025-06-02 22:57:48 INFO Could not load 'ibm_dynamic_circuits': cannot import name 'ProviderV1' from 'qiskit.providers' (/Users/arthurostrauss/anaconda3/envs/rl_qoc/lib/python3.11/site-packages/qiskit/providers/__init__.py)\n",
      "2025-06-02 22:57:48 INFO Could not load 'ibm_backend': cannot import name 'ProviderV1' from 'qiskit.providers' (/Users/arthurostrauss/anaconda3/envs/rl_qoc/lib/python3.11/site-packages/qiskit/providers/__init__.py)\n",
      "2025-06-02 22:57:48 INFO Could not load 'ibm_dynamic_circuits': cannot import name 'ProviderV1' from 'qiskit.providers' (/Users/arthurostrauss/anaconda3/envs/rl_qoc/lib/python3.11/site-packages/qiskit/providers/__init__.py)\n",
      "2025-06-02 22:57:48 INFO Could not load 'ibm_backend': cannot import name 'ProviderV1' from 'qiskit.providers' (/Users/arthurostrauss/anaconda3/envs/rl_qoc/lib/python3.11/site-packages/qiskit/providers/__init__.py)\n",
      "2025-06-02 22:57:48 INFO Could not load 'ibm_dynamic_circuits': cannot import name 'ProviderV1' from 'qiskit.providers' (/Users/arthurostrauss/anaconda3/envs/rl_qoc/lib/python3.11/site-packages/qiskit/providers/__init__.py)\n",
      "2025-06-02 22:57:48 INFO Could not load 'ibm_backend': cannot import name 'ProviderV1' from 'qiskit.providers' (/Users/arthurostrauss/anaconda3/envs/rl_qoc/lib/python3.11/site-packages/qiskit/providers/__init__.py)\n",
      "2025-06-02 22:57:48 INFO Could not load 'ibm_dynamic_circuits': cannot import name 'ProviderV1' from 'qiskit.providers' (/Users/arthurostrauss/anaconda3/envs/rl_qoc/lib/python3.11/site-packages/qiskit/providers/__init__.py)\n",
      "2025-06-02 22:57:48 INFO Could not load 'ibm_backend': cannot import name 'ProviderV1' from 'qiskit.providers' (/Users/arthurostrauss/anaconda3/envs/rl_qoc/lib/python3.11/site-packages/qiskit/providers/__init__.py)\n",
      "2025-06-02 22:57:48 INFO Could not load 'ibm_dynamic_circuits': cannot import name 'ProviderV1' from 'qiskit.providers' (/Users/arthurostrauss/anaconda3/envs/rl_qoc/lib/python3.11/site-packages/qiskit/providers/__init__.py)\n",
      "2025-06-02 22:57:48 INFO Could not load 'ibm_backend': cannot import name 'ProviderV1' from 'qiskit.providers' (/Users/arthurostrauss/anaconda3/envs/rl_qoc/lib/python3.11/site-packages/qiskit/providers/__init__.py)\n",
      "2025-06-02 22:57:48 INFO Could not load 'ibm_dynamic_circuits': cannot import name 'ProviderV1' from 'qiskit.providers' (/Users/arthurostrauss/anaconda3/envs/rl_qoc/lib/python3.11/site-packages/qiskit/providers/__init__.py)\n"
     ]
    },
    {
     "data": {
      "text/plain": [
       "<Figure size 1750.94x200.667 with 1 Axes>"
      ],
      "image/png": "[encoded data removed]"
     },
     "execution_count": 9,
     "metadata": {},
     "output_type": "execute_result"
    }
   ],
   "execution_count": 9
  },
  {
   "metadata": {
    "ExecuteTime": {
     "end_time": "2025-06-02T14:57:48.872942Z",
     "start_time": "2025-06-02T14:57:48.837117Z"
    }
   },
   "cell_type": "code",
   "source": "exp._transpiled_circuits()[0].qubits",
   "id": "d9de00e3bd4a8cb0",
   "outputs": [
    {
     "data": {
      "text/plain": [
       "[<Qubit register=(1, \"q\"), index=0>]"
      ]
     },
     "execution_count": 10,
     "metadata": {},
     "output_type": "execute_result"
    }
   ],
   "execution_count": 10
  },
  {
   "metadata": {
    "ExecuteTime": {
     "end_time": "2025-06-02T15:06:33.805762Z",
     "start_time": "2025-06-02T15:04:48.305634Z"
    }
   },
   "cell_type": "code",
   "source": "exp_data = exp.run(sampler=sampler, backend_run=True)",
   "id": "13f26f12f2506c6e",
   "outputs": [
    {
     "name": "stderr",
     "output_type": "stream",
     "text": [
      "/Users/arthurostrauss/anaconda3/envs/rl_qoc/lib/python3.11/site-packages/quam/components/channels.py:647: UserWarning: The 'thread' element argument is deprecated from qm.qua >= 1.2.2. Use 'core' instead.\n",
      "  warnings.warn(\n",
      "/Users/arthurostrauss/anaconda3/envs/rl_qoc/lib/python3.11/site-packages/qm/program/_qua_config_schema.py:1956: DeprecationWarning: 'version' is deprecated since \"1.2.2\" and will be removed in \"1.3.0\". Please remove it from the Qua config.\n",
      "  warnings.warn(\n"
     ]
    },
    {
     "data": {
      "text/plain": [
       "Output()"
      ],
      "application/vnd.jupyter.widget-view+json": {
       "version_major": 2,
       "version_minor": 0,
       "model_id": "6541f40177c94afe9e37d6ac941b48bb"
      }
     },
     "metadata": {},
     "output_type": "display_data"
    },
    {
     "data": {
      "text/plain": [
       "\u001B[2;36m[23:05:26]\u001B[0m\u001B[2;36m \u001B[0mQUA program submitted to \u001B[1;34mgilboa\u001B[0m \u001B[1m(\u001B[0mid = \u001B[93m1b5cd055-262e-4ca2-8c3e-80d30de8a09c\u001B[0m\u001B[1m)\u001B[0m             \u001B]8;id=10714;file:///Users/arthurostrauss/anaconda3/envs/rl_qoc/lib/python3.11/site-packages/iqcc_cloud_client/computers.py\u001B\\\u001B[2mcomputers.py\u001B[0m\u001B]8;;\u001B\\\u001B[2m:\u001B[0m\u001B]8;id=827972;file:///Users/arthurostrauss/anaconda3/envs/rl_qoc/lib/python3.11/site-packages/iqcc_cloud_client/computers.py#442\u001B\\\u001B[2m442\u001B[0m\u001B]8;;\u001B\\\n"
      ],
      "text/html": [
       "<pre style=\"white-space:pre;overflow-x:auto;line-height:normal;font-family:Menlo,'DejaVu Sans Mono',consolas,'Courier New',monospace\"><span style=\"color: #7fbfbf; text-decoration-color: #7fbfbf\">[23:05:26] </span>QUA program submitted to <span style=\"color: #000080; text-decoration-color: #000080; font-weight: bold\">gilboa</span> <span style=\"font-weight: bold\">(</span>id = <span style=\"color: #ffff00; text-decoration-color: #ffff00\">1b5cd055-262e-4ca2-8c3e-80d30de8a09c</span><span style=\"font-weight: bold\">)</span>             <a href=\"file:///Users/arthurostrauss/anaconda3/envs/rl_qoc/lib/python3.11/site-packages/iqcc_cloud_client/computers.py\" target=\"_blank\"><span style=\"color: #7f7f7f; text-decoration-color: #7f7f7f\">computers.py</span></a><span style=\"color: #7f7f7f; text-decoration-color: #7f7f7f\">:</span><a href=\"file:///Users/arthurostrauss/anaconda3/envs/rl_qoc/lib/python3.11/site-packages/iqcc_cloud_client/computers.py#442\" target=\"_blank\"><span style=\"color: #7f7f7f; text-decoration-color: #7f7f7f\">442</span></a>\n",
       "</pre>\n"
      ]
     },
     "metadata": {},
     "output_type": "display_data"
    },
    {
     "data": {
      "text/plain": [
       "\u001B[2;36m          \u001B[0m\u001B[2;36m \u001B[0mExecution started                                                                       \u001B]8;id=619822;file:///Users/arthurostrauss/anaconda3/envs/rl_qoc/lib/python3.11/site-packages/iqcc_cloud_client/computers.py\u001B\\\u001B[2mcomputers.py\u001B[0m\u001B]8;;\u001B\\\u001B[2m:\u001B[0m\u001B]8;id=731833;file:///Users/arthurostrauss/anaconda3/envs/rl_qoc/lib/python3.11/site-packages/iqcc_cloud_client/computers.py#462\u001B\\\u001B[2m462\u001B[0m\u001B]8;;\u001B\\\n"
      ],
      "text/html": [
       "<pre style=\"white-space:pre;overflow-x:auto;line-height:normal;font-family:Menlo,'DejaVu Sans Mono',consolas,'Courier New',monospace\"><span style=\"color: #7fbfbf; text-decoration-color: #7fbfbf\">           </span>Execution started                                                                       <a href=\"file:///Users/arthurostrauss/anaconda3/envs/rl_qoc/lib/python3.11/site-packages/iqcc_cloud_client/computers.py\" target=\"_blank\"><span style=\"color: #7f7f7f; text-decoration-color: #7f7f7f\">computers.py</span></a><span style=\"color: #7f7f7f; text-decoration-color: #7f7f7f\">:</span><a href=\"file:///Users/arthurostrauss/anaconda3/envs/rl_qoc/lib/python3.11/site-packages/iqcc_cloud_client/computers.py#462\" target=\"_blank\"><span style=\"color: #7f7f7f; text-decoration-color: #7f7f7f\">462</span></a>\n",
       "</pre>\n"
      ]
     },
     "metadata": {},
     "output_type": "display_data"
    },
    {
     "data": {
      "text/plain": [
       "\u001B[2;36m[23:06:33]\u001B[0m\u001B[2;36m \u001B[0mExecution finished                                                                      \u001B]8;id=100465;file:///Users/arthurostrauss/anaconda3/envs/rl_qoc/lib/python3.11/site-packages/iqcc_cloud_client/computers.py\u001B\\\u001B[2mcomputers.py\u001B[0m\u001B]8;;\u001B\\\u001B[2m:\u001B[0m\u001B]8;id=301804;file:///Users/arthurostrauss/anaconda3/envs/rl_qoc/lib/python3.11/site-packages/iqcc_cloud_client/computers.py#476\u001B\\\u001B[2m476\u001B[0m\u001B]8;;\u001B\\\n"
      ],
      "text/html": [
       "<pre style=\"white-space:pre;overflow-x:auto;line-height:normal;font-family:Menlo,'DejaVu Sans Mono',consolas,'Courier New',monospace\"><span style=\"color: #7fbfbf; text-decoration-color: #7fbfbf\">[23:06:33] </span>Execution finished                                                                      <a href=\"file:///Users/arthurostrauss/anaconda3/envs/rl_qoc/lib/python3.11/site-packages/iqcc_cloud_client/computers.py\" target=\"_blank\"><span style=\"color: #7f7f7f; text-decoration-color: #7f7f7f\">computers.py</span></a><span style=\"color: #7f7f7f; text-decoration-color: #7f7f7f\">:</span><a href=\"file:///Users/arthurostrauss/anaconda3/envs/rl_qoc/lib/python3.11/site-packages/iqcc_cloud_client/computers.py#476\" target=\"_blank\"><span style=\"color: #7f7f7f; text-decoration-color: #7f7f7f\">476</span></a>\n",
       "</pre>\n"
      ]
     },
     "metadata": {},
     "output_type": "display_data"
    },
    {
     "data": {
      "text/plain": [
       "\u001B[1;31mQUA program has error:\u001B[0m\n"
      ],
      "text/html": [
       "<pre style=\"white-space:pre;overflow-x:auto;line-height:normal;font-family:Menlo,'DejaVu Sans Mono',consolas,'Courier New',monospace\"><span style=\"color: #800000; text-decoration-color: #800000; font-weight: bold\">QUA program has error:</span>\n",
       "</pre>\n"
      ]
     },
     "metadata": {},
     "output_type": "display_data"
    },
    {
     "data": {
      "text/plain": [
       "\u001B[1;31mTraceback \u001B[0m\u001B[1;31m(\u001B[0m\u001B[1;31mmost recent call last\u001B[0m\u001B[1;31m)\u001B[0m\u001B[1;31m:\u001B[0m\n",
       "\u001B[1;31m  File \u001B[0m\u001B[1;31m\"/app/.venv/lib/python3.11/site-packages/grpclib/client.py\"\u001B[0m\u001B[1;31m, line \u001B[0m\u001B[1;31m369\u001B[0m\u001B[1;31m, in recv_initial_metadata\u001B[0m\n",
       "\u001B[1;31m    headers = await \u001B[0m\u001B[1;31mself._stream.recv_headers\u001B[0m\u001B[1;31m(\u001B[0m\u001B[1;31m)\u001B[0m\n",
       "\u001B[1;31m              ^^^^^^^^^^^^^^^^^^^^^^^^^^^^^^^^^\u001B[0m\n",
       "\u001B[1;31m  File \u001B[0m\u001B[1;31m\"/app/.venv/lib/python3.11/site-packages/grpclib/protocol.py\"\u001B[0m\u001B[1;31m, line \u001B[0m\u001B[1;31m342\u001B[0m\u001B[1;31m, in recv_headers\u001B[0m\n",
       "\u001B[1;31m    await \u001B[0m\u001B[1;31mself.headers_received.wait\u001B[0m\u001B[1;31m(\u001B[0m\u001B[1;31m)\u001B[0m\n",
       "\u001B[1;31m  File \u001B[0m\u001B[1;31m\"/usr/local/lib/python3.11/asyncio/locks.py\"\u001B[0m\u001B[1;31m, line \u001B[0m\u001B[1;31m213\u001B[0m\u001B[1;31m, in wait\u001B[0m\n",
       "\u001B[1;31m    await fut\u001B[0m\n",
       "\u001B[1;31masyncio.exceptions.CancelledError\u001B[0m\n",
       "\n",
       "\u001B[1;31mDuring handling of the above exception, another exception occurred:\u001B[0m\n",
       "\n",
       "\u001B[1;31mTraceback \u001B[0m\u001B[1;31m(\u001B[0m\u001B[1;31mmost recent call last\u001B[0m\u001B[1;31m)\u001B[0m\u001B[1;31m:\u001B[0m\n",
       "\u001B[1;31m  File \u001B[0m\u001B[1;31m\"/app/temp.py\"\u001B[0m\u001B[1;31m, line \u001B[0m\u001B[1;31m27772\u001B[0m\u001B[1;31m, in \u001B[0m\u001B[1;31m<\u001B[0m\u001B[1;31mmodule\u001B[0m\u001B[1;31m>\u001B[0m\n",
       "\u001B[1;31m    qm_job = \u001B[0m\u001B[1;31mqm.execute\u001B[0m\u001B[1;31m(\u001B[0m\u001B[1;31mprog\u001B[0m\u001B[1;31m)\u001B[0m\n",
       "\u001B[1;31m             ^^^^^^^^^^^^^^^^\u001B[0m\n",
       "\u001B[1;31m  File \u001B[0m\u001B[1;31m\"/app/.venv/lib/python3.11/site-packages/qm/api/v2/qm_api_old.py\"\u001B[0m\u001B[1;31m, line \u001B[0m\u001B[1;31m173\u001B[0m\u001B[1;31m, in execute\u001B[0m\n",
       "\u001B[1;31m    new_job_api = \u001B[0m\u001B[1;31mself.add_to_queue\u001B[0m\u001B[1;31m(\u001B[0m\u001B[1;31mprogram, \u001B[0m\u001B[1;31mcompiler_options\u001B[0m\u001B[1;31m=\u001B[0m\u001B[1;31mcompiler_options\u001B[0m\u001B[1;31m)\u001B[0m\n",
       "\u001B[1;31m                  ^^^^^^^^^^^^^^^^^^^^^^^^^^^^^^^^^^^^^^^^^^^^^^^^^^^^^^^^^^^^^\u001B[0m\n",
       "\u001B[1;31m  File \u001B[0m\u001B[1;31m\"/app/.venv/lib/python3.11/site-packages/qm/api/v2/qm_api.py\"\u001B[0m\u001B[1;31m, line \u001B[0m\u001B[1;31m242\u001B[0m\u001B[1;31m, in add_to_queue\u001B[0m\n",
       "\u001B[1;31m    return \u001B[0m\u001B[1;31mself._add_program\u001B[0m\u001B[1;31m(\u001B[0m\u001B[1;31mprogram\u001B[0m\u001B[1;31m)\u001B[0m\n",
       "\u001B[1;31m           ^^^^^^^^^^^^^^^^^^^^^^^^^^\u001B[0m\n",
       "\u001B[1;31m  File \u001B[0m\u001B[1;31m\"/app/.venv/lib/python3.11/site-packages/qm/api/v2/qm_api.py\"\u001B[0m\u001B[1;31m, line \u001B[0m\u001B[1;31m195\u001B[0m\u001B[1;31m, in _add_program\u001B[0m\n",
       "\u001B[1;31m    response = \u001B[0m\u001B[1;31mself._run\u001B[0m\u001B[1;31m(\u001B[0m\u001B[1;31mself._stub.add_to_queue\u001B[0m\u001B[1;31m(\u001B[0m\u001B[1;31mrequest, \u001B[0m\u001B[1;31mtimeout\u001B[0m\u001B[1;31m=\u001B[0m\u001B[1;31mself\u001B[0m\u001B[1;31m._timeout\u001B[0m\u001B[1;31m)\u001B[0m\u001B[1;31m)\u001B[0m\n",
       "\u001B[1;31m               ^^^^^^^^^^^^^^^^^^^^^^^^^^^^^^^^^^^^^^^^^^^^^^^^^^^^^^^^^^^^^^^^^^\u001B[0m\n",
       "\u001B[1;31m  File \u001B[0m\u001B[1;31m\"/app/.venv/lib/python3.11/site-packages/qm/api/base_api.py\"\u001B[0m\u001B[1;31m, line \u001B[0m\u001B[1;31m76\u001B[0m\u001B[1;31m, in wrapped\u001B[0m\n",
       "\u001B[1;31m    raise e\u001B[0m\n",
       "\u001B[1;31m  File \u001B[0m\u001B[1;31m\"/app/.venv/lib/python3.11/site-packages/qm/api/base_api.py\"\u001B[0m\u001B[1;31m, line \u001B[0m\u001B[1;31m53\u001B[0m\u001B[1;31m, in wrapped\u001B[0m\n",
       "\u001B[1;31m    return \u001B[0m\u001B[1;31mfunc\u001B[0m\u001B[1;31m(\u001B[0m\u001B[1;31m*args, **kwargs\u001B[0m\u001B[1;31m)\u001B[0m\n",
       "\u001B[1;31m           ^^^^^^^^^^^^^^^^^^^^^\u001B[0m\n",
       "\u001B[1;31m  File \u001B[0m\u001B[1;31m\"/app/.venv/lib/python3.11/site-packages/qm/api/v2/base_api_v2.py\"\u001B[0m\u001B[1;31m, line \u001B[0m\u001B[1;31m22\u001B[0m\u001B[1;31m, in _run\u001B[0m\n",
       "\u001B[1;31m    response = \u001B[0m\u001B[1;31mrun_async\u001B[0m\u001B[1;31m(\u001B[0m\u001B[1;31mcoroutine\u001B[0m\u001B[1;31m)\u001B[0m\n",
       "\u001B[1;31m               ^^^^^^^^^^^^^^^^^^^^\u001B[0m\n",
       "\u001B[1;31m  File \u001B[0m\u001B[1;31m\"/app/.venv/lib/python3.11/site-packages/qm/utils/async_utils.py\"\u001B[0m\u001B[1;31m, line \u001B[0m\u001B[1;31m38\u001B[0m\u001B[1;31m, in run_async\u001B[0m\n",
       "\u001B[1;31m    return \u001B[0m\u001B[1;31mcreate_future\u001B[0m\u001B[1;31m(\u001B[0m\u001B[1;31mcoroutine\u001B[0m\u001B[1;31m)\u001B[0m\u001B[1;31m.result\u001B[0m\u001B[1;31m(\u001B[0m\u001B[1;31m)\u001B[0m\u001B[1;31m  # type: ignore\u001B[0m\n",
       "\u001B[1;31m           ^^^^^^^^^^^^^^^^^^^^^^^^^^^^^^^^^\u001B[0m\n",
       "\u001B[1;31m  File \u001B[0m\u001B[1;31m\"/usr/local/lib/python3.11/concurrent/futures/_base.py\"\u001B[0m\u001B[1;31m, line \u001B[0m\u001B[1;31m456\u001B[0m\u001B[1;31m, in result\u001B[0m\n",
       "\u001B[1;31m    return \u001B[0m\u001B[1;31mself.__get_result\u001B[0m\u001B[1;31m(\u001B[0m\u001B[1;31m)\u001B[0m\n",
       "\u001B[1;31m           ^^^^^^^^^^^^^^^^^^^\u001B[0m\n",
       "\u001B[1;31m  File \u001B[0m\u001B[1;31m\"/usr/local/lib/python3.11/concurrent/futures/_base.py\"\u001B[0m\u001B[1;31m, line \u001B[0m\u001B[1;31m401\u001B[0m\u001B[1;31m, in __get_result\u001B[0m\n",
       "\u001B[1;31m    raise self._exception\u001B[0m\n",
       "\u001B[1;31m  File \u001B[0m\u001B[1;31m\"/app/.venv/lib/python3.11/site-packages/qm/grpc/v2/__init__.py\"\u001B[0m\u001B[1;31m, line \u001B[0m\u001B[1;31m1998\u001B[0m\u001B[1;31m, in add_to_queue\u001B[0m\n",
       "\u001B[1;31m    return await \u001B[0m\u001B[1;31mself._unary_unary\u001B[0m\u001B[1;31m(\u001B[0m\n",
       "\u001B[1;31m           ^^^^^^^^^^^^^^^^^^^^^^^^\u001B[0m\n",
       "\u001B[1;31m  File \u001B[0m\u001B[1;31m\"/app/.venv/lib/python3.11/site-packages/betterproto/grpc/grpclib_client.py\"\u001B[0m\u001B[1;31m, line \u001B[0m\u001B[1;31m85\u001B[0m\u001B[1;31m, in _unary_unary\u001B[0m\n",
       "\u001B[1;31m    response = await \u001B[0m\u001B[1;31mstream.recv_message\u001B[0m\u001B[1;31m(\u001B[0m\u001B[1;31m)\u001B[0m\n",
       "\u001B[1;31m               ^^^^^^^^^^^^^^^^^^^^^^^^^^^\u001B[0m\n",
       "\u001B[1;31m  File \u001B[0m\u001B[1;31m\"/app/.venv/lib/python3.11/site-packages/grpclib/client.py\"\u001B[0m\u001B[1;31m, line \u001B[0m\u001B[1;31m426\u001B[0m\u001B[1;31m, in recv_message\u001B[0m\n",
       "\u001B[1;31m    await \u001B[0m\u001B[1;31mself.recv_initial_metadata\u001B[0m\u001B[1;31m(\u001B[0m\u001B[1;31m)\u001B[0m\n",
       "\u001B[1;31m  File \u001B[0m\u001B[1;31m\"/app/.venv/lib/python3.11/site-packages/grpclib/client.py\"\u001B[0m\u001B[1;31m, line \u001B[0m\u001B[1;31m368\u001B[0m\u001B[1;31m, in recv_initial_metadata\u001B[0m\n",
       "\u001B[1;31m    with self._wrapper:\u001B[0m\n",
       "\u001B[1;31m  File \u001B[0m\u001B[1;31m\"/app/.venv/lib/python3.11/site-packages/grpclib/utils.py\"\u001B[0m\u001B[1;31m, line \u001B[0m\u001B[1;31m70\u001B[0m\u001B[1;31m, in __exit__\u001B[0m\n",
       "\u001B[1;31m    raise self._error\u001B[0m\n",
       "\u001B[1;31mgrpclib.exceptions.StreamTerminatedError: Stream reset by remote party, error_code: \u001B[0m\u001B[1;31m8\u001B[0m\n",
       "\n"
      ],
      "text/html": [
       "<pre style=\"white-space:pre;overflow-x:auto;line-height:normal;font-family:Menlo,'DejaVu Sans Mono',consolas,'Courier New',monospace\"><span style=\"color: #800000; text-decoration-color: #800000; font-weight: bold\">Traceback (most recent call last):</span>\n",
       "<span style=\"color: #800000; text-decoration-color: #800000; font-weight: bold\">  File </span><span style=\"color: #800000; text-decoration-color: #800000; font-weight: bold\">\"/app/.venv/lib/python3.11/site-packages/grpclib/client.py\"</span><span style=\"color: #800000; text-decoration-color: #800000; font-weight: bold\">, line </span><span style=\"color: #800000; text-decoration-color: #800000; font-weight: bold\">369</span><span style=\"color: #800000; text-decoration-color: #800000; font-weight: bold\">, in recv_initial_metadata</span>\n",
       "<span style=\"color: #800000; text-decoration-color: #800000; font-weight: bold\">    headers = await self._stream.recv_headers()</span>\n",
       "<span style=\"color: #800000; text-decoration-color: #800000; font-weight: bold\">              ^^^^^^^^^^^^^^^^^^^^^^^^^^^^^^^^^</span>\n",
       "<span style=\"color: #800000; text-decoration-color: #800000; font-weight: bold\">  File </span><span style=\"color: #800000; text-decoration-color: #800000; font-weight: bold\">\"/app/.venv/lib/python3.11/site-packages/grpclib/protocol.py\"</span><span style=\"color: #800000; text-decoration-color: #800000; font-weight: bold\">, line </span><span style=\"color: #800000; text-decoration-color: #800000; font-weight: bold\">342</span><span style=\"color: #800000; text-decoration-color: #800000; font-weight: bold\">, in recv_headers</span>\n",
       "<span style=\"color: #800000; text-decoration-color: #800000; font-weight: bold\">    await self.headers_received.wait()</span>\n",
       "<span style=\"color: #800000; text-decoration-color: #800000; font-weight: bold\">  File </span><span style=\"color: #800000; text-decoration-color: #800000; font-weight: bold\">\"/usr/local/lib/python3.11/asyncio/locks.py\"</span><span style=\"color: #800000; text-decoration-color: #800000; font-weight: bold\">, line </span><span style=\"color: #800000; text-decoration-color: #800000; font-weight: bold\">213</span><span style=\"color: #800000; text-decoration-color: #800000; font-weight: bold\">, in wait</span>\n",
       "<span style=\"color: #800000; text-decoration-color: #800000; font-weight: bold\">    await fut</span>\n",
       "<span style=\"color: #800000; text-decoration-color: #800000; font-weight: bold\">asyncio.exceptions.CancelledError</span>\n",
       "\n",
       "<span style=\"color: #800000; text-decoration-color: #800000; font-weight: bold\">During handling of the above exception, another exception occurred:</span>\n",
       "\n",
       "<span style=\"color: #800000; text-decoration-color: #800000; font-weight: bold\">Traceback (most recent call last):</span>\n",
       "<span style=\"color: #800000; text-decoration-color: #800000; font-weight: bold\">  File </span><span style=\"color: #800000; text-decoration-color: #800000; font-weight: bold\">\"/app/temp.py\"</span><span style=\"color: #800000; text-decoration-color: #800000; font-weight: bold\">, line </span><span style=\"color: #800000; text-decoration-color: #800000; font-weight: bold\">27772</span><span style=\"color: #800000; text-decoration-color: #800000; font-weight: bold\">, in &lt;module&gt;</span>\n",
       "<span style=\"color: #800000; text-decoration-color: #800000; font-weight: bold\">    qm_job = qm.execute(prog)</span>\n",
       "<span style=\"color: #800000; text-decoration-color: #800000; font-weight: bold\">             ^^^^^^^^^^^^^^^^</span>\n",
       "<span style=\"color: #800000; text-decoration-color: #800000; font-weight: bold\">  File </span><span style=\"color: #800000; text-decoration-color: #800000; font-weight: bold\">\"/app/.venv/lib/python3.11/site-packages/qm/api/v2/qm_api_old.py\"</span><span style=\"color: #800000; text-decoration-color: #800000; font-weight: bold\">, line </span><span style=\"color: #800000; text-decoration-color: #800000; font-weight: bold\">173</span><span style=\"color: #800000; text-decoration-color: #800000; font-weight: bold\">, in execute</span>\n",
       "<span style=\"color: #800000; text-decoration-color: #800000; font-weight: bold\">    new_job_api = self.add_to_queue(program, </span><span style=\"color: #800000; text-decoration-color: #800000; font-weight: bold\">compiler_options</span><span style=\"color: #800000; text-decoration-color: #800000; font-weight: bold\">=</span><span style=\"color: #800000; text-decoration-color: #800000; font-weight: bold\">compiler_options</span><span style=\"color: #800000; text-decoration-color: #800000; font-weight: bold\">)</span>\n",
       "<span style=\"color: #800000; text-decoration-color: #800000; font-weight: bold\">                  ^^^^^^^^^^^^^^^^^^^^^^^^^^^^^^^^^^^^^^^^^^^^^^^^^^^^^^^^^^^^^</span>\n",
       "<span style=\"color: #800000; text-decoration-color: #800000; font-weight: bold\">  File </span><span style=\"color: #800000; text-decoration-color: #800000; font-weight: bold\">\"/app/.venv/lib/python3.11/site-packages/qm/api/v2/qm_api.py\"</span><span style=\"color: #800000; text-decoration-color: #800000; font-weight: bold\">, line </span><span style=\"color: #800000; text-decoration-color: #800000; font-weight: bold\">242</span><span style=\"color: #800000; text-decoration-color: #800000; font-weight: bold\">, in add_to_queue</span>\n",
       "<span style=\"color: #800000; text-decoration-color: #800000; font-weight: bold\">    return self._add_program(program)</span>\n",
       "<span style=\"color: #800000; text-decoration-color: #800000; font-weight: bold\">           ^^^^^^^^^^^^^^^^^^^^^^^^^^</span>\n",
       "<span style=\"color: #800000; text-decoration-color: #800000; font-weight: bold\">  File </span><span style=\"color: #800000; text-decoration-color: #800000; font-weight: bold\">\"/app/.venv/lib/python3.11/site-packages/qm/api/v2/qm_api.py\"</span><span style=\"color: #800000; text-decoration-color: #800000; font-weight: bold\">, line </span><span style=\"color: #800000; text-decoration-color: #800000; font-weight: bold\">195</span><span style=\"color: #800000; text-decoration-color: #800000; font-weight: bold\">, in _add_program</span>\n",
       "<span style=\"color: #800000; text-decoration-color: #800000; font-weight: bold\">    response = self._run(self._stub.add_to_queue(request, </span><span style=\"color: #800000; text-decoration-color: #800000; font-weight: bold\">timeout</span><span style=\"color: #800000; text-decoration-color: #800000; font-weight: bold\">=</span><span style=\"color: #800000; text-decoration-color: #800000; font-weight: bold\">self</span><span style=\"color: #800000; text-decoration-color: #800000; font-weight: bold\">._timeout))</span>\n",
       "<span style=\"color: #800000; text-decoration-color: #800000; font-weight: bold\">               ^^^^^^^^^^^^^^^^^^^^^^^^^^^^^^^^^^^^^^^^^^^^^^^^^^^^^^^^^^^^^^^^^^</span>\n",
       "<span style=\"color: #800000; text-decoration-color: #800000; font-weight: bold\">  File </span><span style=\"color: #800000; text-decoration-color: #800000; font-weight: bold\">\"/app/.venv/lib/python3.11/site-packages/qm/api/base_api.py\"</span><span style=\"color: #800000; text-decoration-color: #800000; font-weight: bold\">, line </span><span style=\"color: #800000; text-decoration-color: #800000; font-weight: bold\">76</span><span style=\"color: #800000; text-decoration-color: #800000; font-weight: bold\">, in wrapped</span>\n",
       "<span style=\"color: #800000; text-decoration-color: #800000; font-weight: bold\">    raise e</span>\n",
       "<span style=\"color: #800000; text-decoration-color: #800000; font-weight: bold\">  File </span><span style=\"color: #800000; text-decoration-color: #800000; font-weight: bold\">\"/app/.venv/lib/python3.11/site-packages/qm/api/base_api.py\"</span><span style=\"color: #800000; text-decoration-color: #800000; font-weight: bold\">, line </span><span style=\"color: #800000; text-decoration-color: #800000; font-weight: bold\">53</span><span style=\"color: #800000; text-decoration-color: #800000; font-weight: bold\">, in wrapped</span>\n",
       "<span style=\"color: #800000; text-decoration-color: #800000; font-weight: bold\">    return func(*args, **kwargs)</span>\n",
       "<span style=\"color: #800000; text-decoration-color: #800000; font-weight: bold\">           ^^^^^^^^^^^^^^^^^^^^^</span>\n",
       "<span style=\"color: #800000; text-decoration-color: #800000; font-weight: bold\">  File </span><span style=\"color: #800000; text-decoration-color: #800000; font-weight: bold\">\"/app/.venv/lib/python3.11/site-packages/qm/api/v2/base_api_v2.py\"</span><span style=\"color: #800000; text-decoration-color: #800000; font-weight: bold\">, line </span><span style=\"color: #800000; text-decoration-color: #800000; font-weight: bold\">22</span><span style=\"color: #800000; text-decoration-color: #800000; font-weight: bold\">, in _run</span>\n",
       "<span style=\"color: #800000; text-decoration-color: #800000; font-weight: bold\">    response = run_async(coroutine)</span>\n",
       "<span style=\"color: #800000; text-decoration-color: #800000; font-weight: bold\">               ^^^^^^^^^^^^^^^^^^^^</span>\n",
       "<span style=\"color: #800000; text-decoration-color: #800000; font-weight: bold\">  File </span><span style=\"color: #800000; text-decoration-color: #800000; font-weight: bold\">\"/app/.venv/lib/python3.11/site-packages/qm/utils/async_utils.py\"</span><span style=\"color: #800000; text-decoration-color: #800000; font-weight: bold\">, line </span><span style=\"color: #800000; text-decoration-color: #800000; font-weight: bold\">38</span><span style=\"color: #800000; text-decoration-color: #800000; font-weight: bold\">, in run_async</span>\n",
       "<span style=\"color: #800000; text-decoration-color: #800000; font-weight: bold\">    return create_future(coroutine).result()  # type: ignore</span>\n",
       "<span style=\"color: #800000; text-decoration-color: #800000; font-weight: bold\">           ^^^^^^^^^^^^^^^^^^^^^^^^^^^^^^^^^</span>\n",
       "<span style=\"color: #800000; text-decoration-color: #800000; font-weight: bold\">  File </span><span style=\"color: #800000; text-decoration-color: #800000; font-weight: bold\">\"/usr/local/lib/python3.11/concurrent/futures/_base.py\"</span><span style=\"color: #800000; text-decoration-color: #800000; font-weight: bold\">, line </span><span style=\"color: #800000; text-decoration-color: #800000; font-weight: bold\">456</span><span style=\"color: #800000; text-decoration-color: #800000; font-weight: bold\">, in result</span>\n",
       "<span style=\"color: #800000; text-decoration-color: #800000; font-weight: bold\">    return self.__get_result()</span>\n",
       "<span style=\"color: #800000; text-decoration-color: #800000; font-weight: bold\">           ^^^^^^^^^^^^^^^^^^^</span>\n",
       "<span style=\"color: #800000; text-decoration-color: #800000; font-weight: bold\">  File </span><span style=\"color: #800000; text-decoration-color: #800000; font-weight: bold\">\"/usr/local/lib/python3.11/concurrent/futures/_base.py\"</span><span style=\"color: #800000; text-decoration-color: #800000; font-weight: bold\">, line </span><span style=\"color: #800000; text-decoration-color: #800000; font-weight: bold\">401</span><span style=\"color: #800000; text-decoration-color: #800000; font-weight: bold\">, in __get_result</span>\n",
       "<span style=\"color: #800000; text-decoration-color: #800000; font-weight: bold\">    raise self._exception</span>\n",
       "<span style=\"color: #800000; text-decoration-color: #800000; font-weight: bold\">  File </span><span style=\"color: #800000; text-decoration-color: #800000; font-weight: bold\">\"/app/.venv/lib/python3.11/site-packages/qm/grpc/v2/__init__.py\"</span><span style=\"color: #800000; text-decoration-color: #800000; font-weight: bold\">, line </span><span style=\"color: #800000; text-decoration-color: #800000; font-weight: bold\">1998</span><span style=\"color: #800000; text-decoration-color: #800000; font-weight: bold\">, in add_to_queue</span>\n",
       "<span style=\"color: #800000; text-decoration-color: #800000; font-weight: bold\">    return await self._unary_unary(</span>\n",
       "<span style=\"color: #800000; text-decoration-color: #800000; font-weight: bold\">           ^^^^^^^^^^^^^^^^^^^^^^^^</span>\n",
       "<span style=\"color: #800000; text-decoration-color: #800000; font-weight: bold\">  File </span><span style=\"color: #800000; text-decoration-color: #800000; font-weight: bold\">\"/app/.venv/lib/python3.11/site-packages/betterproto/grpc/grpclib_client.py\"</span><span style=\"color: #800000; text-decoration-color: #800000; font-weight: bold\">, line </span><span style=\"color: #800000; text-decoration-color: #800000; font-weight: bold\">85</span><span style=\"color: #800000; text-decoration-color: #800000; font-weight: bold\">, in _unary_unary</span>\n",
       "<span style=\"color: #800000; text-decoration-color: #800000; font-weight: bold\">    response = await stream.recv_message()</span>\n",
       "<span style=\"color: #800000; text-decoration-color: #800000; font-weight: bold\">               ^^^^^^^^^^^^^^^^^^^^^^^^^^^</span>\n",
       "<span style=\"color: #800000; text-decoration-color: #800000; font-weight: bold\">  File </span><span style=\"color: #800000; text-decoration-color: #800000; font-weight: bold\">\"/app/.venv/lib/python3.11/site-packages/grpclib/client.py\"</span><span style=\"color: #800000; text-decoration-color: #800000; font-weight: bold\">, line </span><span style=\"color: #800000; text-decoration-color: #800000; font-weight: bold\">426</span><span style=\"color: #800000; text-decoration-color: #800000; font-weight: bold\">, in recv_message</span>\n",
       "<span style=\"color: #800000; text-decoration-color: #800000; font-weight: bold\">    await self.recv_initial_metadata()</span>\n",
       "<span style=\"color: #800000; text-decoration-color: #800000; font-weight: bold\">  File </span><span style=\"color: #800000; text-decoration-color: #800000; font-weight: bold\">\"/app/.venv/lib/python3.11/site-packages/grpclib/client.py\"</span><span style=\"color: #800000; text-decoration-color: #800000; font-weight: bold\">, line </span><span style=\"color: #800000; text-decoration-color: #800000; font-weight: bold\">368</span><span style=\"color: #800000; text-decoration-color: #800000; font-weight: bold\">, in recv_initial_metadata</span>\n",
       "<span style=\"color: #800000; text-decoration-color: #800000; font-weight: bold\">    with self._wrapper:</span>\n",
       "<span style=\"color: #800000; text-decoration-color: #800000; font-weight: bold\">  File </span><span style=\"color: #800000; text-decoration-color: #800000; font-weight: bold\">\"/app/.venv/lib/python3.11/site-packages/grpclib/utils.py\"</span><span style=\"color: #800000; text-decoration-color: #800000; font-weight: bold\">, line </span><span style=\"color: #800000; text-decoration-color: #800000; font-weight: bold\">70</span><span style=\"color: #800000; text-decoration-color: #800000; font-weight: bold\">, in __exit__</span>\n",
       "<span style=\"color: #800000; text-decoration-color: #800000; font-weight: bold\">    raise self._error</span>\n",
       "<span style=\"color: #800000; text-decoration-color: #800000; font-weight: bold\">grpclib.exceptions.StreamTerminatedError: Stream reset by remote party, error_code: </span><span style=\"color: #800000; text-decoration-color: #800000; font-weight: bold\">8</span>\n",
       "\n",
       "</pre>\n"
      ]
     },
     "metadata": {},
     "output_type": "display_data"
    },
    {
     "data": {
      "text/plain": [],
      "text/html": [
       "<pre style=\"white-space:pre;overflow-x:auto;line-height:normal;font-family:Menlo,'DejaVu Sans Mono',consolas,'Courier New',monospace\"></pre>\n"
      ]
     },
     "metadata": {},
     "output_type": "display_data"
    }
   ],
   "execution_count": 15
  },
  {
   "metadata": {
    "ExecuteTime": {
     "end_time": "2025-05-30T07:29:43.778537Z",
     "start_time": "2025-05-30T07:29:43.729159Z"
    }
   },
   "cell_type": "code",
   "source": [
    "from qiskit.circuit import QuantumCircuit, Parameter, Gate\n",
    "\n",
    "physical_qubits = (1, 2)\n",
    "qc = QuantumCircuit(2)\n",
    "amp = Parameter(\"amp\")\n",
    "gate = Gate(\"x_cal\", 1, [amp])\n",
    "qc.append(gate, [0])\n",
    "qc.append(gate, [1])\n",
    "qc.draw(\"mpl\")"
   ],
   "id": "eca269aa1142e3d5",
   "outputs": [
    {
     "data": {
      "text/plain": [
       "<Figure size 203.683x200.667 with 1 Axes>"
      ],
      "image/png": "[encoded data removed]"
     },
     "execution_count": 34,
     "metadata": {},
     "output_type": "execute_result"
    }
   ],
   "execution_count": 34
  },
  {
   "metadata": {},
   "cell_type": "code",
   "outputs": [],
   "execution_count": null,
   "source": [
    "from qiskit_qm_provider import QMInstructionProperties\n",
    "from qm.qua import *\n",
    "\n",
    "\n",
    "def play_custom_x_1(amp):\n",
    "    machine.active_qubits[physical_qubits[0]].xy.play(\"x180\", amplitude_scale=amp)\n",
    "\n",
    "\n",
    "def play_custom_x_2(amp):\n",
    "    machine.active_qubits[physical_qubits[1]].xy.play(\"x180\", amplitude_scale=amp)\n",
    "\n",
    "\n",
    "instruction_prop1 = QMInstructionProperties(qua_pulse_macro=play_custom_x_1)\n",
    "instruction_prop2 = QMInstructionProperties(qua_pulse_macro=play_custom_x_2)\n",
    "\n",
    "backend.target.add_instruction(gate, {0: instruction_prop1, 1: instruction_prop2})"
   ],
   "id": "f0cf106f55694c55"
  }
 ],
 "metadata": {
  "kernelspec": {
   "display_name": "Python 3",
   "language": "python",
   "name": "python3"
  },
  "language_info": {
   "codemirror_mode": {
    "name": "ipython",
    "version": 2
   },
   "file_extension": ".py",
   "mimetype": "text/x-python",
   "name": "python",
   "nbconvert_exporter": "python",
   "pygments_lexer": "ipython2",
   "version": "2.7.6"
  }
 },
 "nbformat": 4,
 "nbformat_minor": 5
}

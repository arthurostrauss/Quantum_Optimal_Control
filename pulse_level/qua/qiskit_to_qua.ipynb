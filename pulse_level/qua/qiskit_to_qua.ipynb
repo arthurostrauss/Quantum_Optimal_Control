{
 "cells": [
  {
   "metadata": {
    "ExecuteTime": {
     "end_time": "2025-05-05T08:51:38.120858Z",
     "start_time": "2025-05-05T08:51:31.778634Z"
    }
   },
   "cell_type": "code",
   "source": [
    "from typing import Any\n",
    "import warnings\n",
    "\n",
    "from rl_qoc.qua.quam_components.flux_tunable_gate_macros import CZMacro\n",
    "\n",
    "from qm import QuantumMachinesManager, SimulationConfig\n",
    "from qm.qua import *\n",
    "from qm_saas import QoPVersion, QmSaas\n",
    "from rl_qoc.qua.quam_components import MeasureMacro, ResetMacro, VirtualZMacro, CZMacro, DelayMacro\n",
    "from qiskit_qm_provider import FluxTunableTransmonBackend, ParameterTable, Parameter as QuaParameter\n",
    "from quam.components.macro import PulseMacro\n",
    "from quam.core.operation.operations_registry import OperationsRegistry\n",
    "from qiskit.circuit import QuantumCircuit, Parameter, ParameterVector, QuantumRegister\n",
    "import qiskit.pulse as qp\n",
    "import matplotlib.pyplot as plt\n",
    "from qm import generate_qua_script\n",
    "import numpy as np\n",
    "from quam_builder.architecture.superconducting.qpu.flux_tunable_quam import FluxTunableQuam as QuAM\n",
    "import warnings\n",
    "import logging\n",
    "\n",
    "# Silence DeprecationWarnings from qiskit.pulse\n",
    "warnings.filterwarnings(\"ignore\", category=DeprecationWarning, module=r\"qiskit\\.pulse\")\n",
    "# Filter all DeprecationWarnings\n",
    "logging.getLogger(\"qiskit\").setLevel(logging.ERROR)\n",
    "\n",
    "machine = QuAM.load(\n",
    "    f\"/Users/arthurostrauss/Library/CloudStorage/OneDrive-NationalUniversityofSingapore/Coding_projects/Quantum_Optimal_Control/pulse_level/qua/quam_state\"\n",
    ")\n",
    "backend = FluxTunableTransmonBackend(machine)\n",
    "print(backend.target)"
   ],
   "id": "82c282f5d58ad9a2",
   "outputs": [
    {
     "name": "stdout",
     "output_type": "stream",
     "text": [
      "2025-05-05 16:51:37,943 - qm - INFO     - Starting session: 99a06c42-7594-49f6-a119-4dc385d411bc\n",
      "2025-05-05 16:51:37 INFO Starting session: 99a06c42-7594-49f6-a119-4dc385d411bc\n",
      "Target: Transmon based QuAM\n",
      "Number of qubits: 5\n",
      "Instructions:\n",
      "\tx\n",
      "\t\t(0,)\n",
      "\t\t(1,)\n",
      "\t\t(2,)\n",
      "\t\t(3,)\n",
      "\t\t(4,)\n",
      "\trz\n",
      "\t\t(0,)\n",
      "\t\t(1,)\n",
      "\t\t(2,)\n",
      "\t\t(3,)\n",
      "\t\t(4,)\n",
      "\tsx\n",
      "\t\t(0,)\n",
      "\t\t(1,)\n",
      "\t\t(2,)\n",
      "\t\t(3,)\n",
      "\t\t(4,)\n",
      "\tmeasure\n",
      "\t\t(0,)\n",
      "\t\t(1,)\n",
      "\t\t(2,)\n",
      "\t\t(3,)\n",
      "\t\t(4,)\n",
      "\treset\n",
      "\t\t(0,)\n",
      "\t\t(1,)\n",
      "\t\t(2,)\n",
      "\t\t(3,)\n",
      "\t\t(4,)\n",
      "\tcz\n",
      "\t\t(0, 1)\n",
      "\t\t(1, 2)\n",
      "\t\t(2, 3)\n",
      "\t\t(3, 4)\n",
      "\tif_else\n",
      "\twhile_loop\n",
      "\tfor_loop\n",
      "\tswitch_case\n",
      "\n"
     ]
    }
   ],
   "execution_count": 1
  },
  {
   "metadata": {
    "ExecuteTime": {
     "end_time": "2025-05-05T08:51:38.279989Z",
     "start_time": "2025-05-05T08:51:38.182424Z"
    }
   },
   "cell_type": "code",
   "source": [
    "from rl_qoc.rewards.real_time import get_real_time_reward_circuit\n",
    "from rl_qoc import (\n",
    "    QEnvConfig,\n",
    "    QiskitConfig,\n",
    "    ExecutionConfig,\n",
    "    BenchmarkConfig,\n",
    "    GateTargetConfig,\n",
    ")\n",
    "from rl_qoc.qua import QMConfig, QMEnvironment, ParameterPool\n",
    "\n",
    "from gymnasium.spaces import Box\n",
    "\n",
    "\n",
    "def apply_parameters(qc: QuantumCircuit, params: ParameterVector, qreg: QuantumRegister):\n",
    "    idx_0 = qreg.index(qreg[0])\n",
    "\n",
    "    if len(qreg) > 1:\n",
    "        idx_1 = qreg.index(qreg[1])\n",
    "        with qp.build(backend) as sched:\n",
    "            qp.play(qp.Constant(duration=120, amp=0.1), backend.flux_channel(idx_0))\n",
    "            qp.play(\n",
    "                qp.Constant(duration=120, amp=params[0]),\n",
    "                backend.control_channel((idx_0, idx_1))[0],\n",
    "            )\n",
    "        qc.add_calibration(\n",
    "            \"rzz\",\n",
    "            [0, 1],\n",
    "            sched,\n",
    "            params.params if isinstance(params, ParameterVector) else params,\n",
    "        )\n",
    "        qc.rzz(params[0], qreg[0], qreg[1])\n",
    "    else:\n",
    "        with qp.build(backend) as sched:\n",
    "            qp.play(\n",
    "                qp.Drag(duration=120, amp=params[0], sigma=40, beta=0.2),\n",
    "                backend.drive_channel(idx_0),\n",
    "            )\n",
    "        qc.add_calibration(\n",
    "            \"rx\",\n",
    "            [\n",
    "                0,\n",
    "            ],\n",
    "            sched,\n",
    "            params.params if isinstance(params, ParameterVector) else params,\n",
    "        )\n",
    "        qc.rx(params[0], qreg[0])\n",
    "    with qp.build(backend, name=\"x_custom\") as sched:\n",
    "        qp.play(\n",
    "            qp.Drag(duration=120, amp=0.3, sigma=40, beta=0.2),\n",
    "            backend.drive_channel(idx_0),\n",
    "        )\n",
    "    qc.add_calibration(\n",
    "        \"x\",\n",
    "        [\n",
    "            0,\n",
    "        ],\n",
    "        sched,\n",
    "    )\n",
    "    qc.add_calibration(\n",
    "        \"x\",\n",
    "        [\n",
    "            1,\n",
    "        ],\n",
    "        sched,\n",
    "    )\n",
    "\n",
    "\n",
    "physical_qubits = [0, 1]\n",
    "gate = \"cz\" if len(physical_qubits) > 1 else \"x\"\n",
    "n_reps = [2, 5]\n",
    "config = QEnvConfig(\n",
    "    target=GateTargetConfig(physical_qubits, gate),\n",
    "    backend_config=QiskitConfig(\n",
    "        backend=backend,\n",
    "        parametrized_circuit=apply_parameters,\n",
    "    ),\n",
    "    execution_config=ExecutionConfig(\n",
    "        batch_size=1,\n",
    "        n_shots=100,\n",
    "        n_reps=n_reps,\n",
    "        control_flow_enabled=True,\n",
    "    ),\n",
    "    reward=\"channel\",\n",
    "    action_space=Box(low=-1, high=1, shape=(1,), dtype=np.float32),\n",
    ")\n",
    "\n",
    "qm_config_args = {\n",
    "    \"input_type\": \"INPUT_STREAM\",\n",
    "    \"num_updates\": 500,\n",
    "    \"init_macro\": backend.machine.apply_all_flux_to_joint_idle,\n",
    "}\n",
    "config.backend_config = QMConfig(**config.backend_config.as_dict(), **qm_config_args)\n",
    "\n",
    "q_env = QMEnvironment(config)"
   ],
   "id": "c69e2c7f2fd0279d",
   "outputs": [
    {
     "name": "stderr",
     "output_type": "stream",
     "text": [
      "/var/folders/5w/ygx15jq94z5dzxwkmbbj8zfm0000gn/T/ipykernel_42988/3080717238.py:19: DeprecationWarning: The function ``qiskit.pulse.builder.build()`` is deprecated as of Qiskit 1.3. It will be removed in Qiskit 2.0. The entire Qiskit Pulse package is being deprecated and will be moved to the Qiskit Dynamics repository: https://github.com/qiskit-community/qiskit-dynamics\n",
      "  with qp.build(backend) as sched:\n",
      "/var/folders/5w/ygx15jq94z5dzxwkmbbj8zfm0000gn/T/ipykernel_42988/3080717238.py:20: DeprecationWarning: The function ``qiskit.pulse.builder.play()`` is deprecated as of Qiskit 1.3. It will be removed in Qiskit 2.0. The entire Qiskit Pulse package is being deprecated and will be moved to the Qiskit Dynamics repository: https://github.com/qiskit-community/qiskit-dynamics\n",
      "  qp.play(qp.Constant(duration=120, amp=0.1), backend.flux_channel(idx_0))\n",
      "/var/folders/5w/ygx15jq94z5dzxwkmbbj8zfm0000gn/T/ipykernel_42988/3080717238.py:21: DeprecationWarning: The function ``qiskit.pulse.builder.play()`` is deprecated as of Qiskit 1.3. It will be removed in Qiskit 2.0. The entire Qiskit Pulse package is being deprecated and will be moved to the Qiskit Dynamics repository: https://github.com/qiskit-community/qiskit-dynamics\n",
      "  qp.play(\n",
      "/var/folders/5w/ygx15jq94z5dzxwkmbbj8zfm0000gn/T/ipykernel_42988/3080717238.py:25: DeprecationWarning: The method ``qiskit.circuit.quantumcircuit.QuantumCircuit.add_calibration()`` is deprecated as of Qiskit 1.3. It will be removed in Qiskit 2.0. The entire Qiskit Pulse package is being deprecated and will be moved to the Qiskit Dynamics repository: https://github.com/qiskit-community/qiskit-dynamics. Note that once removed, ``qiskit.circuit.quantumcircuit.QuantumCircuit.add_calibration()`` will have no alternative in Qiskit.\n",
      "  qc.add_calibration(\n",
      "/var/folders/5w/ygx15jq94z5dzxwkmbbj8zfm0000gn/T/ipykernel_42988/3080717238.py:47: DeprecationWarning: The function ``qiskit.pulse.builder.build()`` is deprecated as of Qiskit 1.3. It will be removed in Qiskit 2.0. The entire Qiskit Pulse package is being deprecated and will be moved to the Qiskit Dynamics repository: https://github.com/qiskit-community/qiskit-dynamics\n",
      "  with qp.build(backend, name=\"x_custom\") as sched:\n",
      "/var/folders/5w/ygx15jq94z5dzxwkmbbj8zfm0000gn/T/ipykernel_42988/3080717238.py:48: DeprecationWarning: The function ``qiskit.pulse.builder.play()`` is deprecated as of Qiskit 1.3. It will be removed in Qiskit 2.0. The entire Qiskit Pulse package is being deprecated and will be moved to the Qiskit Dynamics repository: https://github.com/qiskit-community/qiskit-dynamics\n",
      "  qp.play(\n",
      "/var/folders/5w/ygx15jq94z5dzxwkmbbj8zfm0000gn/T/ipykernel_42988/3080717238.py:52: DeprecationWarning: The method ``qiskit.circuit.quantumcircuit.QuantumCircuit.add_calibration()`` is deprecated as of Qiskit 1.3. It will be removed in Qiskit 2.0. The entire Qiskit Pulse package is being deprecated and will be moved to the Qiskit Dynamics repository: https://github.com/qiskit-community/qiskit-dynamics. Note that once removed, ``qiskit.circuit.quantumcircuit.QuantumCircuit.add_calibration()`` will have no alternative in Qiskit.\n",
      "  qc.add_calibration(\n",
      "/var/folders/5w/ygx15jq94z5dzxwkmbbj8zfm0000gn/T/ipykernel_42988/3080717238.py:59: DeprecationWarning: The method ``qiskit.circuit.quantumcircuit.QuantumCircuit.add_calibration()`` is deprecated as of Qiskit 1.3. It will be removed in Qiskit 2.0. The entire Qiskit Pulse package is being deprecated and will be moved to the Qiskit Dynamics repository: https://github.com/qiskit-community/qiskit-dynamics. Note that once removed, ``qiskit.circuit.quantumcircuit.QuantumCircuit.add_calibration()`` will have no alternative in Qiskit.\n",
      "  qc.add_calibration(\n",
      "/Users/arthurostrauss/Library/CloudStorage/OneDrive-QMMachinesLTD/GitHub/qiskit-qm-provider/qiskit_qm_provider/parameter_table/parameter.py:120: UserWarning: Parameter with name a_0_0 already exists in parameter table real_time_circuit_parameters.\n",
      "  warnings.warn(\n",
      "/Users/arthurostrauss/Library/CloudStorage/OneDrive-QMMachinesLTD/GitHub/qiskit-qm-provider/qiskit_qm_provider/parameter_table/parameter.py:120: UserWarning: Parameter with name input_state_0 already exists in parameter table input_state_vars.\n",
      "  warnings.warn(\n",
      "/Users/arthurostrauss/Library/CloudStorage/OneDrive-QMMachinesLTD/GitHub/qiskit-qm-provider/qiskit_qm_provider/parameter_table/parameter.py:120: UserWarning: Parameter with name observable_1 already exists in parameter table observable_vars.\n",
      "  warnings.warn(\n",
      "/Users/arthurostrauss/Library/CloudStorage/OneDrive-QMMachinesLTD/GitHub/qiskit-qm-provider/qiskit_qm_provider/parameter_table/parameter.py:120: UserWarning: Parameter with name observable_0 already exists in parameter table observable_vars.\n",
      "  warnings.warn(\n",
      "/Users/arthurostrauss/Library/CloudStorage/OneDrive-QMMachinesLTD/GitHub/qiskit-qm-provider/qiskit_qm_provider/parameter_table/parameter.py:120: UserWarning: Parameter with name input_state_1 already exists in parameter table input_state_vars.\n",
      "  warnings.warn(\n"
     ]
    }
   ],
   "execution_count": 2
  },
  {
   "metadata": {
    "ExecuteTime": {
     "end_time": "2025-05-05T08:51:39.391175Z",
     "start_time": "2025-05-05T08:51:39.088138Z"
    }
   },
   "cell_type": "code",
   "source": "q_env.rl_qoc_training_qua_prog()",
   "id": "1c01ce96f3e34ccb",
   "outputs": [
    {
     "data": {
      "text/plain": [
       "<qm.program.program.Program at 0x1033b0e90>"
      ]
     },
     "execution_count": 3,
     "metadata": {},
     "output_type": "execute_result"
    }
   ],
   "execution_count": 3
  },
  {
   "metadata": {
    "ExecuteTime": {
     "end_time": "2025-05-05T08:59:11.917538Z",
     "start_time": "2025-05-05T08:59:11.715554Z"
    }
   },
   "cell_type": "code",
   "source": "backend.quantum_circuit_to_qua(q_env.real_time_circuit)",
   "id": "39326b9cb2cd8411",
   "outputs": [
    {
     "ename": "CompilationException",
     "evalue": "Pass \"Qua1GenerationPass\" failed.",
     "output_type": "error",
     "traceback": [
      "\u001B[0;31m---------------------------------------------------------------------------\u001B[0m",
      "\u001B[0;31mQmQuaException\u001B[0m                            Traceback (most recent call last)",
      "File \u001B[0;32m~/Library/CloudStorage/OneDrive-QMMachinesLTD/GitHub/OQC_repo/oqc/compiler.py:152\u001B[0m, in \u001B[0;36mCompiler._run_passes\u001B[0;34m(self, program, passes)\u001B[0m\n\u001B[1;32m    151\u001B[0m \u001B[38;5;28;01mtry\u001B[39;00m:\n\u001B[0;32m--> 152\u001B[0m     program \u001B[38;5;241m=\u001B[39m compilation_pass(program)\n\u001B[1;32m    153\u001B[0m \u001B[38;5;28;01mexcept\u001B[39;00m \u001B[38;5;167;01mException\u001B[39;00m \u001B[38;5;28;01mas\u001B[39;00m e:\n",
      "File \u001B[0;32m~/Library/CloudStorage/OneDrive-QMMachinesLTD/GitHub/OQC_repo/oqc/passes/compilation_pass.py:68\u001B[0m, in \u001B[0;36mCompilationPass.__call__\u001B[0;34m(self, program)\u001B[0m\n\u001B[1;32m     67\u001B[0m     \u001B[38;5;28;01melse\u001B[39;00m:\n\u001B[0;32m---> 68\u001B[0m         current_program \u001B[38;5;241m=\u001B[39m step(current_program)\n\u001B[1;32m     69\u001B[0m \u001B[38;5;28;01mreturn\u001B[39;00m current_program\n",
      "File \u001B[0;32m~/Library/CloudStorage/OneDrive-QMMachinesLTD/GitHub/OQC_repo/oqc/passes/code_generation/code_generation_transformation.py:47\u001B[0m, in \u001B[0;36mCodeGeneration.__call__\u001B[0;34m(self, program)\u001B[0m\n\u001B[1;32m     44\u001B[0m code_generator \u001B[38;5;241m=\u001B[39m CodeGenerationVisitor(\n\u001B[1;32m     45\u001B[0m     \u001B[38;5;28mself\u001B[39m\u001B[38;5;241m.\u001B[39m_hardware_config, qua1_program, \u001B[38;5;28mself\u001B[39m\u001B[38;5;241m.\u001B[39m_inputs, _is_inside_scope\u001B[38;5;241m=\u001B[39mis_inside_scope()\n\u001B[1;32m     46\u001B[0m )\n\u001B[0;32m---> 47\u001B[0m code_generator\u001B[38;5;241m.\u001B[39mvisit(program\u001B[38;5;241m.\u001B[39mast)\n\u001B[1;32m     48\u001B[0m \u001B[38;5;28;01mreturn\u001B[39;00m qua1_program\n",
      "File \u001B[0;32m~/anaconda3/envs/rl_qoc/lib/python3.11/site-packages/openqasm3/visitor.py:46\u001B[0m, in \u001B[0;36mQASMVisitor.visit\u001B[0;34m(self, node, context)\u001B[0m\n\u001B[1;32m     45\u001B[0m \u001B[38;5;28;01melse\u001B[39;00m:\n\u001B[0;32m---> 46\u001B[0m     \u001B[38;5;28;01mreturn\u001B[39;00m visitor(node)\n",
      "File \u001B[0;32m~/anaconda3/envs/rl_qoc/lib/python3.11/site-packages/openqasm3/visitor.py:58\u001B[0m, in \u001B[0;36mQASMVisitor.generic_visit\u001B[0;34m(self, node, context)\u001B[0m\n\u001B[1;32m     57\u001B[0m \u001B[38;5;28;01melse\u001B[39;00m:\n\u001B[0;32m---> 58\u001B[0m     \u001B[38;5;28mself\u001B[39m\u001B[38;5;241m.\u001B[39mvisit(item)\n",
      "File \u001B[0;32m~/anaconda3/envs/rl_qoc/lib/python3.11/site-packages/openqasm3/visitor.py:46\u001B[0m, in \u001B[0;36mQASMVisitor.visit\u001B[0;34m(self, node, context)\u001B[0m\n\u001B[1;32m     45\u001B[0m \u001B[38;5;28;01melse\u001B[39;00m:\n\u001B[0;32m---> 46\u001B[0m     \u001B[38;5;28;01mreturn\u001B[39;00m visitor(node)\n",
      "File \u001B[0;32m~/Library/CloudStorage/OneDrive-QMMachinesLTD/GitHub/OQC_repo/oqc/passes/code_generation/code_generation_transformation.py:160\u001B[0m, in \u001B[0;36mCodeGenerationVisitor.visit_ForInLoop\u001B[0;34m(self, node)\u001B[0m\n\u001B[1;32m    159\u001B[0m     update \u001B[38;5;241m=\u001B[39m iterator \u001B[38;5;241m+\u001B[39m increment\n\u001B[0;32m--> 160\u001B[0m     \u001B[38;5;28mself\u001B[39m\u001B[38;5;241m.\u001B[39m_run_block_in_context(qua\u001B[38;5;241m.\u001B[39mfor_, node\u001B[38;5;241m.\u001B[39mblock, iterator, init, cond, update)\n\u001B[1;32m    162\u001B[0m \u001B[38;5;28;01melse\u001B[39;00m:\n",
      "File \u001B[0;32m~/Library/CloudStorage/OneDrive-QMMachinesLTD/GitHub/OQC_repo/oqc/passes/code_generation/code_generation_transformation.py:198\u001B[0m, in \u001B[0;36mCodeGenerationVisitor._run_block_in_context\u001B[0;34m(self, context_creator, block, *context_creator_args)\u001B[0m\n\u001B[1;32m    197\u001B[0m     \u001B[38;5;28;01mfor\u001B[39;00m statement \u001B[38;5;129;01min\u001B[39;00m block:\n\u001B[0;32m--> 198\u001B[0m         \u001B[38;5;28mself\u001B[39m\u001B[38;5;241m.\u001B[39mvisit(statement)\n\u001B[1;32m    199\u001B[0m \u001B[38;5;28mself\u001B[39m\u001B[38;5;241m.\u001B[39m_context\u001B[38;5;241m.\u001B[39mcurrent_context \u001B[38;5;241m=\u001B[39m previous_context\n",
      "File \u001B[0;32m~/anaconda3/envs/rl_qoc/lib/python3.11/site-packages/openqasm3/visitor.py:46\u001B[0m, in \u001B[0;36mQASMVisitor.visit\u001B[0;34m(self, node, context)\u001B[0m\n\u001B[1;32m     45\u001B[0m \u001B[38;5;28;01melse\u001B[39;00m:\n\u001B[0;32m---> 46\u001B[0m     \u001B[38;5;28;01mreturn\u001B[39;00m visitor(node)\n",
      "File \u001B[0;32m~/Library/CloudStorage/OneDrive-QMMachinesLTD/GitHub/OQC_repo/oqc/passes/code_generation/code_generation_transformation.py:87\u001B[0m, in \u001B[0;36mCodeGenerationVisitor.visit_QuantumGate\u001B[0;34m(self, node)\u001B[0m\n\u001B[1;32m     86\u001B[0m \u001B[38;5;28;01mdef\u001B[39;00m \u001B[38;5;21mvisit_QuantumGate\u001B[39m(\u001B[38;5;28mself\u001B[39m, node: ast\u001B[38;5;241m.\u001B[39mQuantumGate) \u001B[38;5;241m-\u001B[39m\u001B[38;5;241m>\u001B[39m \u001B[38;5;28;01mNone\u001B[39;00m:\n\u001B[0;32m---> 87\u001B[0m     \u001B[38;5;28mself\u001B[39m\u001B[38;5;241m.\u001B[39mrun_operation(node\u001B[38;5;241m.\u001B[39mname\u001B[38;5;241m.\u001B[39mname, node\u001B[38;5;241m.\u001B[39mqubits, \u001B[38;5;241m*\u001B[39mnode\u001B[38;5;241m.\u001B[39marguments)\n",
      "File \u001B[0;32m~/Library/CloudStorage/OneDrive-QMMachinesLTD/GitHub/OQC_repo/oqc/passes/code_generation/code_generation_transformation.py:82\u001B[0m, in \u001B[0;36mCodeGenerationVisitor.run_operation\u001B[0;34m(self, name, qubits, *params)\u001B[0m\n\u001B[1;32m     81\u001B[0m _align_if_needed(\u001B[38;5;241m*\u001B[39melements_to_align)\n\u001B[0;32m---> 82\u001B[0m result \u001B[38;5;241m=\u001B[39m implementation\u001B[38;5;241m.\u001B[39mfunc(\u001B[38;5;241m*\u001B[39mimplementation\u001B[38;5;241m.\u001B[39mparams)\n\u001B[1;32m     83\u001B[0m _align_if_needed(\u001B[38;5;241m*\u001B[39melements_to_align)\n",
      "File \u001B[0;32m~/Library/CloudStorage/OneDrive-QMMachinesLTD/GitHub/qiskit-qm-provider/qiskit_qm_provider/qm_backend.py:435\u001B[0m, in \u001B[0;36mQMBackend.schedule_to_qua_macro.<locals>.qua_macro\u001B[0;34m(*args, **kwargs)\u001B[0m\n\u001B[1;32m    434\u001B[0m \u001B[38;5;28;01mif\u001B[39;00m \u001B[38;5;129;01mnot\u001B[39;00m param_table\u001B[38;5;241m.\u001B[39mget_parameter(param_name)\u001B[38;5;241m.\u001B[39mis_declared:\n\u001B[0;32m--> 435\u001B[0m     param_table\u001B[38;5;241m.\u001B[39mget_parameter(param_name)\u001B[38;5;241m.\u001B[39mdeclare_variable()\n\u001B[1;32m    436\u001B[0m param_table\u001B[38;5;241m.\u001B[39mget_parameter(param_name)\u001B[38;5;241m.\u001B[39massign_value(value)\n",
      "File \u001B[0;32m~/Library/CloudStorage/OneDrive-QMMachinesLTD/GitHub/qiskit-qm-provider/qiskit_qm_provider/parameter_table/parameter.py:337\u001B[0m, in \u001B[0;36mParameter.declare_variable\u001B[0;34m(self, pause_program, declare_stream)\u001B[0m\n\u001B[1;32m    336\u001B[0m \u001B[38;5;28;01mif\u001B[39;00m \u001B[38;5;28mself\u001B[39m\u001B[38;5;241m.\u001B[39minput_type \u001B[38;5;241m==\u001B[39m InputType\u001B[38;5;241m.\u001B[39mINPUT_STREAM:\n\u001B[0;32m--> 337\u001B[0m     \u001B[38;5;28mself\u001B[39m\u001B[38;5;241m.\u001B[39m_var \u001B[38;5;241m=\u001B[39m declare_input_stream(t\u001B[38;5;241m=\u001B[39m\u001B[38;5;28mself\u001B[39m\u001B[38;5;241m.\u001B[39mtype, name\u001B[38;5;241m=\u001B[39m\u001B[38;5;28mself\u001B[39m\u001B[38;5;241m.\u001B[39mname, value\u001B[38;5;241m=\u001B[39m\u001B[38;5;28mself\u001B[39m\u001B[38;5;241m.\u001B[39mvalue)\n\u001B[1;32m    338\u001B[0m \u001B[38;5;28;01melif\u001B[39;00m \u001B[38;5;28mself\u001B[39m\u001B[38;5;241m.\u001B[39minput_type \u001B[38;5;241m==\u001B[39m InputType\u001B[38;5;241m.\u001B[39mDGX:\n",
      "File \u001B[0;32m~/anaconda3/envs/rl_qoc/lib/python3.11/site-packages/qm/qua/_dsl.py:1664\u001B[0m, in \u001B[0;36mdeclare_input_stream\u001B[0;34m(t, name, value, size)\u001B[0m\n\u001B[1;32m   1663\u001B[0m \u001B[38;5;28;01mif\u001B[39;00m var \u001B[38;5;129;01min\u001B[39;00m scope\u001B[38;5;241m.\u001B[39mdeclared_input_streams:\n\u001B[0;32m-> 1664\u001B[0m     \u001B[38;5;28;01mraise\u001B[39;00m QmQuaException(\u001B[38;5;124m\"\u001B[39m\u001B[38;5;124minput stream already declared\u001B[39m\u001B[38;5;124m\"\u001B[39m)\n\u001B[1;32m   1666\u001B[0m params \u001B[38;5;241m=\u001B[39m _standardize_value_and_size(value, size)\n",
      "\u001B[0;31mQmQuaException\u001B[0m: input stream already declared",
      "\nThe above exception was the direct cause of the following exception:\n",
      "\u001B[0;31mCompilationException\u001B[0m                      Traceback (most recent call last)",
      "Cell \u001B[0;32mIn[5], line 1\u001B[0m\n\u001B[0;32m----> 1\u001B[0m backend\u001B[38;5;241m.\u001B[39mquantum_circuit_to_qua(q_env\u001B[38;5;241m.\u001B[39mreal_time_circuit)\n",
      "File \u001B[0;32m~/Library/CloudStorage/OneDrive-QMMachinesLTD/GitHub/qiskit-qm-provider/qiskit_qm_provider/qm_backend.py:712\u001B[0m, in \u001B[0;36mQMBackend.quantum_circuit_to_qua\u001B[0;34m(self, qc, param_table)\u001B[0m\n\u001B[1;32m    705\u001B[0m         variables \u001B[38;5;241m=\u001B[39m (\n\u001B[1;32m    706\u001B[0m             table\u001B[38;5;241m.\u001B[39mvariables_dict\n\u001B[1;32m    707\u001B[0m             \u001B[38;5;28;01mif\u001B[39;00m \u001B[38;5;28misinstance\u001B[39m(table, ParameterTable)\n\u001B[1;32m    708\u001B[0m             \u001B[38;5;28;01melse\u001B[39;00m {table\u001B[38;5;241m.\u001B[39mname: table\u001B[38;5;241m.\u001B[39mvar}\n\u001B[1;32m    709\u001B[0m         )\n\u001B[1;32m    710\u001B[0m         inputs\u001B[38;5;241m.\u001B[39mupdate(variables)\n\u001B[0;32m--> 712\u001B[0m result \u001B[38;5;241m=\u001B[39m \u001B[38;5;28mself\u001B[39m\u001B[38;5;241m.\u001B[39mcompiler\u001B[38;5;241m.\u001B[39mcompile(\n\u001B[1;32m    713\u001B[0m     open_qasm_code,\n\u001B[1;32m    714\u001B[0m     compilation_name\u001B[38;5;241m=\u001B[39m\u001B[38;5;124mf\u001B[39m\u001B[38;5;124m\"\u001B[39m\u001B[38;5;132;01m{\u001B[39;00mqc\u001B[38;5;241m.\u001B[39mname\u001B[38;5;132;01m}\u001B[39;00m\u001B[38;5;124m_qua\u001B[39m\u001B[38;5;124m\"\u001B[39m,\n\u001B[1;32m    715\u001B[0m     inputs\u001B[38;5;241m=\u001B[39minputs,\n\u001B[1;32m    716\u001B[0m )\n\u001B[1;32m    717\u001B[0m \u001B[38;5;28;01mreturn\u001B[39;00m result\n",
      "File \u001B[0;32m~/Library/CloudStorage/OneDrive-QMMachinesLTD/GitHub/OQC_repo/oqc/compiler.py:122\u001B[0m, in \u001B[0;36mCompiler.compile\u001B[0;34m(self, code, compilation_name, inputs, compilation_config)\u001B[0m\n\u001B[1;32m    120\u001B[0m oq_program \u001B[38;5;241m=\u001B[39m \u001B[38;5;28mself\u001B[39m\u001B[38;5;241m.\u001B[39m_run_passes(program, passes)\n\u001B[1;32m    121\u001B[0m \u001B[38;5;28;01massert\u001B[39;00m \u001B[38;5;28misinstance\u001B[39m(oq_program, OpenQasmProgram)\n\u001B[0;32m--> 122\u001B[0m qua1_program \u001B[38;5;241m=\u001B[39m \u001B[38;5;28mself\u001B[39m\u001B[38;5;241m.\u001B[39m_embed(oq_program, compilation_config, inputs)\n\u001B[1;32m    123\u001B[0m \u001B[38;5;28;01massert\u001B[39;00m \u001B[38;5;28misinstance\u001B[39m(qua1_program, Qua1Program)\n\u001B[1;32m    125\u001B[0m logger\u001B[38;5;241m.\u001B[39minfo(\u001B[38;5;124mf\u001B[39m\u001B[38;5;124m\"\u001B[39m\u001B[38;5;124mCompilation \u001B[39m\u001B[38;5;124m'\u001B[39m\u001B[38;5;132;01m{\u001B[39;00mcompilation_name\u001B[38;5;132;01m}\u001B[39;00m\u001B[38;5;124m'\u001B[39m\u001B[38;5;124m ended\u001B[39m\u001B[38;5;124m\"\u001B[39m)\n",
      "File \u001B[0;32m~/Library/CloudStorage/OneDrive-QMMachinesLTD/GitHub/OQC_repo/oqc/compiler.py:145\u001B[0m, in \u001B[0;36mCompiler._embed\u001B[0;34m(self, program, compilation_config, inputs)\u001B[0m\n\u001B[1;32m    138\u001B[0m \u001B[38;5;28;01mdef\u001B[39;00m \u001B[38;5;21m_embed\u001B[39m(\n\u001B[1;32m    139\u001B[0m     \u001B[38;5;28mself\u001B[39m,\n\u001B[1;32m    140\u001B[0m     program: OpenQasmProgram,\n\u001B[1;32m    141\u001B[0m     compilation_config: CompilationConfig,\n\u001B[1;32m    142\u001B[0m     inputs: Optional[Dict[\u001B[38;5;28mstr\u001B[39m, Scalar]] \u001B[38;5;241m=\u001B[39m \u001B[38;5;28;01mNone\u001B[39;00m,\n\u001B[1;32m    143\u001B[0m ) \u001B[38;5;241m-\u001B[39m\u001B[38;5;241m>\u001B[39m Program:\n\u001B[1;32m    144\u001B[0m     qua1_generation \u001B[38;5;241m=\u001B[39m Qua1GenerationPass(\u001B[38;5;28mself\u001B[39m\u001B[38;5;241m.\u001B[39m_hardware_config, compilation_config, inputs)\n\u001B[0;32m--> 145\u001B[0m     \u001B[38;5;28;01mreturn\u001B[39;00m \u001B[38;5;28mself\u001B[39m\u001B[38;5;241m.\u001B[39m_run_passes(program, (qua1_generation,))\n",
      "File \u001B[0;32m~/Library/CloudStorage/OneDrive-QMMachinesLTD/GitHub/OQC_repo/oqc/compiler.py:154\u001B[0m, in \u001B[0;36mCompiler._run_passes\u001B[0;34m(self, program, passes)\u001B[0m\n\u001B[1;32m    152\u001B[0m     program \u001B[38;5;241m=\u001B[39m compilation_pass(program)\n\u001B[1;32m    153\u001B[0m \u001B[38;5;28;01mexcept\u001B[39;00m \u001B[38;5;167;01mException\u001B[39;00m \u001B[38;5;28;01mas\u001B[39;00m e:\n\u001B[0;32m--> 154\u001B[0m     \u001B[38;5;28;01mraise\u001B[39;00m CompilationException(\u001B[38;5;124mf\u001B[39m\u001B[38;5;124m'\u001B[39m\u001B[38;5;124mPass \u001B[39m\u001B[38;5;124m\"\u001B[39m\u001B[38;5;132;01m{\u001B[39;00mcompilation_pass\u001B[38;5;241m.\u001B[39mname\u001B[38;5;132;01m}\u001B[39;00m\u001B[38;5;124m\"\u001B[39m\u001B[38;5;124m failed.\u001B[39m\u001B[38;5;124m'\u001B[39m) \u001B[38;5;28;01mfrom\u001B[39;00m \u001B[38;5;21;01me\u001B[39;00m\n\u001B[1;32m    155\u001B[0m duration \u001B[38;5;241m=\u001B[39m datetime\u001B[38;5;241m.\u001B[39mnow() \u001B[38;5;241m-\u001B[39m start_time\n\u001B[1;32m    156\u001B[0m logger\u001B[38;5;241m.\u001B[39mdebug(\u001B[38;5;124mf\u001B[39m\u001B[38;5;124m\"\u001B[39m\u001B[38;5;124mFinished pass successfully \u001B[39m\u001B[38;5;124m'\u001B[39m\u001B[38;5;132;01m{\u001B[39;00mcompilation_pass\u001B[38;5;241m.\u001B[39mname\u001B[38;5;132;01m}\u001B[39;00m\u001B[38;5;124m'\u001B[39m\u001B[38;5;124m, took \u001B[39m\u001B[38;5;132;01m{\u001B[39;00mduration\u001B[38;5;132;01m}\u001B[39;00m\u001B[38;5;124m\"\u001B[39m)\n",
      "\u001B[0;31mCompilationException\u001B[0m: Pass \"Qua1GenerationPass\" failed."
     ]
    }
   ],
   "execution_count": 5
  },
  {
   "metadata": {},
   "cell_type": "code",
   "outputs": [],
   "execution_count": null,
   "source": "",
   "id": "ead16ce63efac36d"
  }
 ],
 "metadata": {
  "kernelspec": {
   "display_name": "Python 3",
   "language": "python",
   "name": "python3"
  },
  "language_info": {
   "codemirror_mode": {
    "name": "ipython",
    "version": 2
   },
   "file_extension": ".py",
   "mimetype": "text/x-python",
   "name": "python",
   "nbconvert_exporter": "python",
   "pygments_lexer": "ipython2",
   "version": "2.7.6"
  }
 },
 "nbformat": 4,
 "nbformat_minor": 5
}

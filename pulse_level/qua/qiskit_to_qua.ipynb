{
 "cells": [
  {
   "metadata": {
    "ExecuteTime": {
     "end_time": "2025-05-15T07:02:33.181047Z",
     "start_time": "2025-05-15T07:02:24.277005Z"
    }
   },
   "cell_type": "code",
   "source": [
    "from typing import Any\n",
    "import warnings\n",
    "\n",
    "from rl_qoc.qua.gate_macros.flux_tunable_gate_macros import CZMacro\n",
    "\n",
    "from qm import QuantumMachinesManager, SimulationConfig\n",
    "from qm.qua import *\n",
    "from qm_saas import QoPVersion, QmSaas\n",
    "from rl_qoc.qua.gate_macros import MeasureMacro, ResetMacro, VirtualZMacro, CZMacro, DelayMacro\n",
    "from qiskit_qm_provider import FluxTunableTransmonBackend, ParameterTable, Parameter as QuaParameter\n",
    "from quam.components.macro import PulseMacro\n",
    "from quam.core.operation.operations_registry import OperationsRegistry\n",
    "from qiskit.circuit import QuantumCircuit, Parameter, ParameterVector, QuantumRegister\n",
    "import qiskit.pulse as qp\n",
    "from qiskit import transpile\n",
    "import matplotlib.pyplot as plt\n",
    "from qm import generate_qua_script\n",
    "import numpy as np\n",
    "from quam_builder.architecture.superconducting.qpu.flux_tunable_quam import FluxTunableQuam as QuAM\n",
    "import warnings\n",
    "import logging\n",
    "\n",
    "# Silence DeprecationWarnings from qiskit.pulse\n",
    "warnings.filterwarnings(\"ignore\", category=DeprecationWarning, module=r\"qiskit\\.pulse\")\n",
    "# Filter all DeprecationWarnings\n",
    "logging.getLogger(\"qiskit\").setLevel(logging.ERROR)\n",
    "\n",
    "machine = QuAM.load(\n",
    "    f\"/Users/arthurostrauss/Library/CloudStorage/OneDrive-NationalUniversityofSingapore/Coding_projects/Quantum_Optimal_Control/pulse_level/qua/quam_state\"\n",
    ")\n",
    "backend = FluxTunableTransmonBackend(machine)\n",
    "print(backend.target)\n"
   ],
   "id": "1090cf6dceba2c47",
   "outputs": [
    {
     "name": "stdout",
     "output_type": "stream",
     "text": [
      "2025-05-15 15:02:32,919 - qm - INFO     - Starting session: b959e374-0919-44e2-8b05-52d30c9eb198\n",
      "2025-05-15 15:02:32 INFO Starting session: b959e374-0919-44e2-8b05-52d30c9eb198\n",
      "Target: Transmon based QuAM\n",
      "Number of qubits: 5\n",
      "Instructions:\n",
      "\tx\n",
      "\t\t(0,)\n",
      "\t\t(1,)\n",
      "\t\t(2,)\n",
      "\t\t(3,)\n",
      "\t\t(4,)\n",
      "\trz\n",
      "\t\t(0,)\n",
      "\t\t(1,)\n",
      "\t\t(2,)\n",
      "\t\t(3,)\n",
      "\t\t(4,)\n",
      "\tsx\n",
      "\t\t(0,)\n",
      "\t\t(1,)\n",
      "\t\t(2,)\n",
      "\t\t(3,)\n",
      "\t\t(4,)\n",
      "\tmeasure\n",
      "\t\t(0,)\n",
      "\t\t(1,)\n",
      "\t\t(2,)\n",
      "\t\t(3,)\n",
      "\t\t(4,)\n",
      "\treset\n",
      "\t\t(0,)\n",
      "\t\t(1,)\n",
      "\t\t(2,)\n",
      "\t\t(3,)\n",
      "\t\t(4,)\n",
      "\tdelay\n",
      "\t\t(0,)\n",
      "\t\t(1,)\n",
      "\t\t(2,)\n",
      "\t\t(3,)\n",
      "\t\t(4,)\n",
      "\tcz\n",
      "\t\t(0, 1)\n",
      "\t\t(1, 2)\n",
      "\t\t(2, 3)\n",
      "\t\t(3, 4)\n",
      "\tif_else\n",
      "\twhile_loop\n",
      "\tfor_loop\n",
      "\tswitch_case\n",
      "\n"
     ]
    }
   ],
   "execution_count": 1
  },
  {
   "metadata": {
    "ExecuteTime": {
     "end_time": "2025-05-15T07:27:40.371024Z",
     "start_time": "2025-05-15T07:27:35.049413Z"
    }
   },
   "cell_type": "code",
   "source": [
    "import os\n",
    "import json\n",
    "from iqcc_cloud_client import IQCC_Cloud\n",
    "\n",
    "# Set your quantum computer backend\n",
    "quantum_computer_backend = \"arbel\"  # for example qc_qwfix\n",
    "qc = IQCC_Cloud(quantum_computer_backend=quantum_computer_backend)\n",
    "\n",
    "# Get the latest state and wiring files\n",
    "latest_wiring = qc.state.get_latest(\"wiring\")\n",
    "latest_state = qc.state.get_latest(\"state\")\n",
    "\n",
    "# Get the state folder path from environment variable\n",
    "quam_state_folder_path = os.environ['QUAM_STATE_PATH']\n",
    "\n",
    "# Save the files\n",
    "with open(os.path.join(quam_state_folder_path, \"wiring.json\"), \"w\") as f:\n",
    "    json.dump(latest_wiring.data, f, indent=4)\n",
    "\n",
    "with open(os.path.join(quam_state_folder_path, \"state.json\"), \"w\") as f:\n",
    "    json.dump(latest_state.data, f, indent=4)"
   ],
   "id": "a5a9bb8c3d2e3835",
   "outputs": [],
   "execution_count": 11
  },
  {
   "metadata": {},
   "cell_type": "code",
   "outputs": [],
   "execution_count": null,
   "source": "qc.qiskit_backend()",
   "id": "92865e5f784254ff"
  },
  {
   "metadata": {
    "ExecuteTime": {
     "end_time": "2025-05-14T08:45:12.765599Z",
     "start_time": "2025-05-13T10:20:43.013309Z"
    }
   },
   "cell_type": "code",
   "source": [
    "from qiskit.circuit import QuantumCircuit\n",
    "\n",
    "qc = QuantumCircuit(2)\n",
    "qc.x(0)\n",
    "qc.delay(0.001, 0, \"ms\")\n",
    "qc.draw(\"mpl\")"
   ],
   "id": "d5da4a2289e6edaf",
   "outputs": [
    {
     "data": {
      "text/plain": [
       "<Figure size 370.906x200.667 with 1 Axes>"
      ],
      "image/png": "[encoded data removed]"
     },
     "execution_count": 5,
     "metadata": {},
     "output_type": "execute_result"
    }
   ],
   "execution_count": 5
  },
  {
   "metadata": {
    "ExecuteTime": {
     "end_time": "2025-05-13T01:30:30.716564Z",
     "start_time": "2025-05-13T01:30:30.618074Z"
    }
   },
   "cell_type": "code",
   "source": [
    "from qiskit import transpile\n",
    "\n",
    "qc = transpile(qc, backend=backend, initial_layout=[2,3],\n",
    "               optimization_level=0)\n",
    "qc.draw(\"mpl\")"
   ],
   "id": "625c1c56d5faf92",
   "outputs": [
    {
     "data": {
      "text/plain": [
       "<Figure size 416.293x451.5 with 1 Axes>"
      ],
      "image/png": "[encoded data removed]"
     },
     "execution_count": 3,
     "metadata": {},
     "output_type": "execute_result"
    }
   ],
   "execution_count": 3
  },
  {
   "metadata": {
    "ExecuteTime": {
     "end_time": "2025-05-11T04:33:50.673549Z",
     "start_time": "2025-05-11T04:33:50.670648Z"
    }
   },
   "cell_type": "code",
   "source": "qc.data",
   "id": "e83f25009e337843",
   "outputs": [
    {
     "data": {
      "text/plain": [
       "[CircuitInstruction(operation=Instruction(name='x', num_qubits=1, num_clbits=0, params=[]), qubits=(Qubit(QuantumRegister(5, 'q'), 2),), clbits=()), CircuitInstruction(operation=Delay(duration=1000[unit=dt]), qubits=(Qubit(QuantumRegister(5, 'q'), 2),), clbits=())]"
      ]
     },
     "execution_count": 4,
     "metadata": {},
     "output_type": "execute_result"
    }
   ],
   "execution_count": 4
  },
  {
   "metadata": {
    "ExecuteTime": {
     "end_time": "2025-05-11T04:33:50.739706Z",
     "start_time": "2025-05-11T04:33:50.738053Z"
    }
   },
   "cell_type": "code",
   "source": "from qiskit.circuit import QuantumCircuit, QuantumRegister",
   "id": "8e21cfe1a330cf18",
   "outputs": [],
   "execution_count": 5
  },
  {
   "metadata": {
    "ExecuteTime": {
     "end_time": "2025-05-14T07:09:06.924834Z",
     "start_time": "2025-05-14T07:09:06.790019Z"
    }
   },
   "cell_type": "code",
   "source": [
    "from rl_qoc.rewards.real_time_utils import get_real_time_reward_circuit\n",
    "from rl_qoc import (\n",
    "    QEnvConfig,\n",
    "    QiskitConfig,\n",
    "    ExecutionConfig,\n",
    "    BenchmarkConfig,\n",
    "    GateTargetConfig,\n",
    ")\n",
    "from rl_qoc.qua import QMConfig, QMEnvironment\n",
    "\n",
    "from gymnasium.spaces import Box\n",
    "\n",
    "\n",
    "def apply_parameters(qc: QuantumCircuit, params: ParameterVector, qreg: QuantumRegister):\n",
    "    idx_0 = qreg.index(qreg[0])\n",
    "\n",
    "    if len(qreg) > 1:\n",
    "        idx_1 = qreg.index(qreg[1])\n",
    "        with qp.build(backend) as sched:\n",
    "            qp.play(qp.Constant(duration=120, amp=0.1), backend.flux_channel(idx_0))\n",
    "            qp.play(\n",
    "                qp.Constant(duration=120, amp=params[0]),\n",
    "                backend.control_channel((idx_0, idx_1))[0],\n",
    "            )\n",
    "        qc.add_calibration(\n",
    "            \"rzz\",\n",
    "            [0, 1],\n",
    "            sched,\n",
    "            params.params if isinstance(params, ParameterVector) else params,\n",
    "        )\n",
    "        qc.rzz(params[0], qreg[0], qreg[1])\n",
    "    else:\n",
    "        with qp.build(backend) as sched:\n",
    "            qp.play(\n",
    "                qp.Drag(duration=120, amp=params[0], sigma=40, beta=0.2),\n",
    "                backend.drive_channel(idx_0),\n",
    "            )\n",
    "        qc.add_calibration(\n",
    "            \"rx\",\n",
    "            [\n",
    "                0,\n",
    "            ],\n",
    "            sched,\n",
    "            params.params if isinstance(params, ParameterVector) else params,\n",
    "        )\n",
    "        qc.rx(params[0], qreg[0])\n",
    "    with qp.build(backend, name=\"x_custom\") as sched:\n",
    "        qp.play(\n",
    "            qp.Drag(duration=120, amp=0.3, sigma=40, beta=0.2),\n",
    "            backend.drive_channel(idx_0),\n",
    "        )\n",
    "    qc.add_calibration(\n",
    "        \"x\",\n",
    "        [\n",
    "            0,\n",
    "        ],\n",
    "        sched,\n",
    "    )\n",
    "    qc.add_calibration(\n",
    "        \"x\",\n",
    "        [\n",
    "            1,\n",
    "        ],\n",
    "        sched,\n",
    "    )\n",
    "\n",
    "\n",
    "physical_qubits = [0]\n",
    "gate = \"cz\" if len(physical_qubits) > 1 else \"x\"\n",
    "n_reps = [2, 5]\n",
    "config = QEnvConfig(\n",
    "    target=GateTargetConfig(physical_qubits, gate),\n",
    "    backend_config=QiskitConfig(\n",
    "        backend=backend,\n",
    "        parametrized_circuit=apply_parameters,\n",
    "    ),\n",
    "    execution_config=ExecutionConfig(\n",
    "        batch_size=1,\n",
    "        n_shots=100,\n",
    "        n_reps=n_reps,\n",
    "        control_flow_enabled=True,\n",
    "    ),\n",
    "    reward=\"state\",\n",
    "    action_space=Box(low=-1, high=1, shape=(1,), dtype=np.float32),\n",
    ")\n",
    "\n",
    "qm_config_args = {\n",
    "    \"input_type\": \"IO1\",\n",
    "    \"num_updates\": 500,\n",
    "    \"init_macro\": backend.machine.apply_all_flux_to_joint_idle,\n",
    "}\n",
    "config.backend_config = QMConfig(**config.backend_config.as_dict(), **qm_config_args)\n",
    "\n",
    "q_env = QMEnvironment(config)"
   ],
   "id": "c69e2c7f2fd0279d",
   "outputs": [
    {
     "name": "stderr",
     "output_type": "stream",
     "text": [
      "/var/folders/5w/ygx15jq94z5dzxwkmbbj8zfm0000gn/T/ipykernel_12869/300237815.py:33: DeprecationWarning: The function ``qiskit.pulse.builder.build()`` is deprecated as of Qiskit 1.3. It will be removed in Qiskit 2.0. The entire Qiskit Pulse package is being deprecated and will be moved to the Qiskit Dynamics repository: https://github.com/qiskit-community/qiskit-dynamics\n",
      "  with qp.build(backend) as sched:\n",
      "/var/folders/5w/ygx15jq94z5dzxwkmbbj8zfm0000gn/T/ipykernel_12869/300237815.py:34: DeprecationWarning: The function ``qiskit.pulse.builder.play()`` is deprecated as of Qiskit 1.3. It will be removed in Qiskit 2.0. The entire Qiskit Pulse package is being deprecated and will be moved to the Qiskit Dynamics repository: https://github.com/qiskit-community/qiskit-dynamics\n",
      "  qp.play(\n",
      "/var/folders/5w/ygx15jq94z5dzxwkmbbj8zfm0000gn/T/ipykernel_12869/300237815.py:38: DeprecationWarning: The method ``qiskit.circuit.quantumcircuit.QuantumCircuit.add_calibration()`` is deprecated as of Qiskit 1.3. It will be removed in Qiskit 2.0. The entire Qiskit Pulse package is being deprecated and will be moved to the Qiskit Dynamics repository: https://github.com/qiskit-community/qiskit-dynamics. Note that once removed, ``qiskit.circuit.quantumcircuit.QuantumCircuit.add_calibration()`` will have no alternative in Qiskit.\n",
      "  qc.add_calibration(\n",
      "/var/folders/5w/ygx15jq94z5dzxwkmbbj8zfm0000gn/T/ipykernel_12869/300237815.py:47: DeprecationWarning: The function ``qiskit.pulse.builder.build()`` is deprecated as of Qiskit 1.3. It will be removed in Qiskit 2.0. The entire Qiskit Pulse package is being deprecated and will be moved to the Qiskit Dynamics repository: https://github.com/qiskit-community/qiskit-dynamics\n",
      "  with qp.build(backend, name=\"x_custom\") as sched:\n",
      "/var/folders/5w/ygx15jq94z5dzxwkmbbj8zfm0000gn/T/ipykernel_12869/300237815.py:48: DeprecationWarning: The function ``qiskit.pulse.builder.play()`` is deprecated as of Qiskit 1.3. It will be removed in Qiskit 2.0. The entire Qiskit Pulse package is being deprecated and will be moved to the Qiskit Dynamics repository: https://github.com/qiskit-community/qiskit-dynamics\n",
      "  qp.play(\n",
      "/var/folders/5w/ygx15jq94z5dzxwkmbbj8zfm0000gn/T/ipykernel_12869/300237815.py:52: DeprecationWarning: The method ``qiskit.circuit.quantumcircuit.QuantumCircuit.add_calibration()`` is deprecated as of Qiskit 1.3. It will be removed in Qiskit 2.0. The entire Qiskit Pulse package is being deprecated and will be moved to the Qiskit Dynamics repository: https://github.com/qiskit-community/qiskit-dynamics. Note that once removed, ``qiskit.circuit.quantumcircuit.QuantumCircuit.add_calibration()`` will have no alternative in Qiskit.\n",
      "  qc.add_calibration(\n",
      "/var/folders/5w/ygx15jq94z5dzxwkmbbj8zfm0000gn/T/ipykernel_12869/300237815.py:59: DeprecationWarning: The method ``qiskit.circuit.quantumcircuit.QuantumCircuit.add_calibration()`` is deprecated as of Qiskit 1.3. It will be removed in Qiskit 2.0. The entire Qiskit Pulse package is being deprecated and will be moved to the Qiskit Dynamics repository: https://github.com/qiskit-community/qiskit-dynamics. Note that once removed, ``qiskit.circuit.quantumcircuit.QuantumCircuit.add_calibration()`` will have no alternative in Qiskit.\n",
      "  qc.add_calibration(\n",
      "/Users/arthurostrauss/Library/CloudStorage/OneDrive-QMMachinesLTD/GitHub/qiskit-qm-provider/qiskit_qm_provider/parameter_table/parameter.py:121: UserWarning: Parameter with name a_0_0 already exists in parameter table real_time_circuit_parameters.\n",
      "  warnings.warn(\n",
      "/Users/arthurostrauss/Library/CloudStorage/OneDrive-QMMachinesLTD/GitHub/qiskit-qm-provider/qiskit_qm_provider/parameter_table/parameter.py:121: UserWarning: Parameter with name observable_0 already exists in parameter table observable_vars.\n",
      "  warnings.warn(\n",
      "/Users/arthurostrauss/Library/CloudStorage/OneDrive-QMMachinesLTD/GitHub/qiskit-qm-provider/qiskit_qm_provider/parameter_table/parameter.py:121: UserWarning: Parameter with name input_state_0 already exists in parameter table input_state_vars.\n",
      "  warnings.warn(\n"
     ]
    }
   ],
   "execution_count": 12
  },
  {
   "metadata": {
    "ExecuteTime": {
     "end_time": "2025-05-13T11:48:06.863449Z",
     "start_time": "2025-05-13T11:48:06.607613Z"
    }
   },
   "cell_type": "code",
   "source": "q_env.rl_qoc_training_qua_prog()",
   "id": "1c01ce96f3e34ccb",
   "outputs": [
    {
     "data": {
      "text/plain": [
       "<qm.program.program.Program at 0x38abcf210>"
      ]
     },
     "execution_count": 3,
     "metadata": {},
     "output_type": "execute_result"
    }
   ],
   "execution_count": 3
  },
  {
   "metadata": {
    "ExecuteTime": {
     "end_time": "2025-05-14T07:09:20.268105Z",
     "start_time": "2025-05-14T07:09:19.888418Z"
    }
   },
   "cell_type": "code",
   "source": [
    "from qm import generate_qua_script\n",
    "\n",
    "print(\n",
    "    generate_qua_script(\n",
    "        backend.quantum_circuit_to_qua(q_env.real_time_circuit).result_program.dsl_program\n",
    "    )\n",
    ")"
   ],
   "id": "39326b9cb2cd8411",
   "outputs": [
    {
     "name": "stdout",
     "output_type": "stream",
     "text": [
      "\n",
      "# Single QUA script generated at 2025-05-14 15:09:20.266319\n",
      "# QUA library version: 1.2.2rc2+dgx2\n",
      "\n",
      "\n",
      "from qm import CompilerOptionArguments\n",
      "from qm.qua import *\n",
      "\n",
      "with program() as prog:\n",
      "    input_stream_a_0_0 = declare_input_stream(fixed, 'a_0_0', value=0.0)\n",
      "    input_stream_observable_0 = declare_input_stream(int, 'observable_0', value=0)\n",
      "    input_stream_n_reps = declare_input_stream(int, 'n_reps', value=0)\n",
      "    input_stream_input_state_0 = declare_input_stream(int, 'input_state_0', value=0)\n",
      "    a1 = declare(bool, value=[False])\n",
      "    v1 = declare(int, value=0)\n",
      "    v2 = declare(int, value=0)\n",
      "    v3 = declare(int, value=0)\n",
      "    v4 = declare(fixed, value=0.0)\n",
      "    v5 = declare(bool, )\n",
      "    v6 = declare(fixed, )\n",
      "    v7 = declare(fixed, )\n",
      "    v8 = declare(fixed, )\n",
      "    v9 = declare(fixed, )\n",
      "    v10 = declare(bool, )\n",
      "    v11 = declare(int, value=1)\n",
      "    advance_input_stream(input_stream_a_0_0)\n",
      "    advance_input_stream(input_stream_observable_0)\n",
      "    advance_input_stream(input_stream_n_reps)\n",
      "    advance_input_stream(input_stream_input_state_0)\n",
      "    assign(v1, input_stream_input_state_0)\n",
      "    with if_((v1==1), unsafe=True):\n",
      "        align(\"q1.resonator\", \"q1.xy\", \"q1.z\")\n",
      "        play(\"x180_DragCosine\", \"q1.xy\")\n",
      "        align(\"q1.resonator\", \"q1.xy\", \"q1.z\")\n",
      "    with elif_((v1==2)):\n",
      "        align(\"q1.resonator\", \"q1.xy\", \"q1.z\")\n",
      "        frame_rotation_2pi(1.5707963267948966, \"q1.xy\")\n",
      "        align(\"q1.resonator\", \"q1.xy\", \"q1.z\")\n",
      "        align(\"q1.resonator\", \"q1.xy\", \"q1.z\")\n",
      "        play(\"x90_DragCosine\", \"q1.xy\")\n",
      "        align(\"q1.resonator\", \"q1.xy\", \"q1.z\")\n",
      "        align(\"q1.resonator\", \"q1.xy\", \"q1.z\")\n",
      "        frame_rotation_2pi(1.5707963267948966, \"q1.xy\")\n",
      "        align(\"q1.resonator\", \"q1.xy\", \"q1.z\")\n",
      "    with elif_((v1==3)):\n",
      "        align(\"q1.resonator\", \"q1.xy\", \"q1.z\")\n",
      "        frame_rotation_2pi(1.5707963267948966, \"q1.xy\")\n",
      "        align(\"q1.resonator\", \"q1.xy\", \"q1.z\")\n",
      "        align(\"q1.resonator\", \"q1.xy\", \"q1.z\")\n",
      "        play(\"x90_DragCosine\", \"q1.xy\")\n",
      "        align(\"q1.resonator\", \"q1.xy\", \"q1.z\")\n",
      "        align(\"q1.resonator\", \"q1.xy\", \"q1.z\")\n",
      "        frame_rotation_2pi(-1.570796326794897, \"q1.xy\")\n",
      "        align(\"q1.resonator\", \"q1.xy\", \"q1.z\")\n",
      "    with elif_((v1==4)):\n",
      "        align(\"q1.resonator\", \"q1.xy\", \"q1.z\")\n",
      "        frame_rotation_2pi(1.5707963267948966, \"q1.xy\")\n",
      "        align(\"q1.resonator\", \"q1.xy\", \"q1.z\")\n",
      "        align(\"q1.resonator\", \"q1.xy\", \"q1.z\")\n",
      "        play(\"x90_DragCosine\", \"q1.xy\")\n",
      "        align(\"q1.resonator\", \"q1.xy\", \"q1.z\")\n",
      "        align(\"q1.resonator\", \"q1.xy\", \"q1.z\")\n",
      "        frame_rotation_2pi(-3.141592653589793, \"q1.xy\")\n",
      "        align(\"q1.resonator\", \"q1.xy\", \"q1.z\")\n",
      "    with elif_((v1==5)):\n",
      "        align(\"q1.resonator\", \"q1.xy\", \"q1.z\")\n",
      "        frame_rotation_2pi(1.5707963267948966, \"q1.xy\")\n",
      "        align(\"q1.resonator\", \"q1.xy\", \"q1.z\")\n",
      "        align(\"q1.resonator\", \"q1.xy\", \"q1.z\")\n",
      "        play(\"x90_DragCosine\", \"q1.xy\")\n",
      "        align(\"q1.resonator\", \"q1.xy\", \"q1.z\")\n",
      "    with for_(v3,0,(input_stream_n_reps>=v3),(v3+1)):\n",
      "        align(\"q1.resonator\", \"q1.xy\", \"q1.z\")\n",
      "        assign(v4, input_stream_a_0_0)\n",
      "        play(\"block0_0\"*amp((3.9998400063997437*v4)), \"q1.xy\")\n",
      "        align(\"q1.resonator\", \"q1.xy\", \"q1.z\")\n",
      "    assign(v2, input_stream_observable_0)\n",
      "    with if_((v2==1), unsafe=True):\n",
      "        align(\"q1.resonator\", \"q1.xy\", \"q1.z\")\n",
      "        frame_rotation_2pi(1.5707963267948966, \"q1.xy\")\n",
      "        align(\"q1.resonator\", \"q1.xy\", \"q1.z\")\n",
      "        align(\"q1.resonator\", \"q1.xy\", \"q1.z\")\n",
      "        play(\"x90_DragCosine\", \"q1.xy\")\n",
      "        align(\"q1.resonator\", \"q1.xy\", \"q1.z\")\n",
      "        align(\"q1.resonator\", \"q1.xy\", \"q1.z\")\n",
      "        frame_rotation_2pi(1.5707963267948966, \"q1.xy\")\n",
      "        align(\"q1.resonator\", \"q1.xy\", \"q1.z\")\n",
      "    with elif_((v2==2)):\n",
      "        align(\"q1.resonator\", \"q1.xy\", \"q1.z\")\n",
      "        play(\"x90_DragCosine\", \"q1.xy\")\n",
      "        align(\"q1.resonator\", \"q1.xy\", \"q1.z\")\n",
      "        align(\"q1.resonator\", \"q1.xy\", \"q1.z\")\n",
      "        frame_rotation_2pi(1.5707963267948966, \"q1.xy\")\n",
      "        align(\"q1.resonator\", \"q1.xy\", \"q1.z\")\n",
      "    align(\"q1.resonator\", \"q1.xy\", \"q1.z\")\n",
      "    measure(\"readout\", \"q1.resonator\", dual_demod.full(\"iw1\", \"iw2\", v6), dual_demod.full(\"iw3\", \"iw1\", v7))\n",
      "    assign(v5, (v6>-1.628262415766392e-05))\n",
      "    align(\"q1.resonator\", \"q1.xy\", \"q1.z\")\n",
      "    assign(a1[0], v5)\n",
      "    align(\"q1.resonator\", \"q1.xy\", \"q1.z\")\n",
      "    assign(v11, 1)\n",
      "    align(\"q1.z\", \"q1.resonator\", \"q1.xy\")\n",
      "    measure(\"readout\", \"q1.resonator\", dual_demod.full(\"iw1\", \"iw2\", v8), dual_demod.full(\"iw3\", \"iw1\", v9))\n",
      "    assign(v10, (v8>-1.628262415766392e-05))\n",
      "    wait(30000, \"q1.resonator\")\n",
      "    play(\"x180_DragCosine\", \"q1.xy\", condition=v10)\n",
      "    align(\"q1.z\", \"q1.resonator\", \"q1.xy\")\n",
      "    with while_(((v8>-0.00014833485972262327)&(v11<5))):\n",
      "        align(\"q1.z\", \"q1.resonator\", \"q1.xy\")\n",
      "        measure(\"readout\", \"q1.resonator\", dual_demod.full(\"iw1\", \"iw2\", v8), dual_demod.full(\"iw3\", \"iw1\", v9))\n",
      "        assign(v10, (v8>-1.628262415766392e-05))\n",
      "        wait(30000, \"q1.resonator\")\n",
      "        play(\"x180_DragCosine\", \"q1.xy\", condition=v10)\n",
      "        align(\"q1.z\", \"q1.resonator\", \"q1.xy\")\n",
      "        assign(v11, (v11+1))\n",
      "    wait(500, \"q1.xy\")\n",
      "    align(\"q1.z\", \"q1.resonator\", \"q1.xy\")\n",
      "    align(\"q1.resonator\", \"q1.xy\", \"q1.z\")\n",
      "\n",
      "config = None\n",
      "\n",
      "loaded_config = None\n",
      "\n",
      "\n"
     ]
    }
   ],
   "execution_count": 13
  },
  {
   "metadata": {
    "ExecuteTime": {
     "end_time": "2025-05-13T11:48:32.996658Z",
     "start_time": "2025-05-13T11:48:32.631838Z"
    }
   },
   "cell_type": "code",
   "source": "q_env.real_time_circuit.draw(\"mpl\")",
   "id": "ead16ce63efac36d",
   "outputs": [
    {
     "data": {
      "text/plain": [
       "<Figure size 2339.35x1120.39 with 1 Axes>"
      ],
      "image/png": "[encoded data removed]"
     },
     "execution_count": 5,
     "metadata": {},
     "output_type": "execute_result"
    }
   ],
   "execution_count": 5
  },
  {
   "metadata": {
    "ExecuteTime": {
     "end_time": "2025-05-13T11:48:38.228195Z",
     "start_time": "2025-05-13T11:48:38.226335Z"
    }
   },
   "cell_type": "code",
   "source": "print(backend.target)",
   "id": "658a2c63008d7c7f",
   "outputs": [
    {
     "name": "stdout",
     "output_type": "stream",
     "text": [
      "Target: Transmon based QuAM\n",
      "Number of qubits: 5\n",
      "Instructions:\n",
      "\tx\n",
      "\t\t(0,)\n",
      "\t\t(1,)\n",
      "\t\t(2,)\n",
      "\t\t(3,)\n",
      "\t\t(4,)\n",
      "\trz\n",
      "\t\t(0,)\n",
      "\t\t(1,)\n",
      "\t\t(2,)\n",
      "\t\t(3,)\n",
      "\t\t(4,)\n",
      "\tsx\n",
      "\t\t(0,)\n",
      "\t\t(1,)\n",
      "\t\t(2,)\n",
      "\t\t(3,)\n",
      "\t\t(4,)\n",
      "\tmeasure\n",
      "\t\t(0,)\n",
      "\t\t(1,)\n",
      "\t\t(2,)\n",
      "\t\t(3,)\n",
      "\t\t(4,)\n",
      "\treset\n",
      "\t\t(0,)\n",
      "\t\t(1,)\n",
      "\t\t(2,)\n",
      "\t\t(3,)\n",
      "\t\t(4,)\n",
      "\tdelay\n",
      "\t\t(0,)\n",
      "\t\t(1,)\n",
      "\t\t(2,)\n",
      "\t\t(3,)\n",
      "\t\t(4,)\n",
      "\tcz\n",
      "\t\t(0, 1)\n",
      "\t\t(1, 2)\n",
      "\t\t(2, 3)\n",
      "\t\t(3, 4)\n",
      "\tif_else\n",
      "\twhile_loop\n",
      "\tfor_loop\n",
      "\tswitch_case\n",
      "\n"
     ]
    }
   ],
   "execution_count": 6
  },
  {
   "metadata": {
    "ExecuteTime": {
     "end_time": "2025-05-09T08:20:31.452373Z",
     "start_time": "2025-05-09T08:20:31.441860Z"
    }
   },
   "cell_type": "code",
   "source": "q_env.real_time_circuit.calibrations",
   "id": "dd799c41195c46e3",
   "outputs": [
    {
     "name": "stderr",
     "output_type": "stream",
     "text": [
      "/var/folders/5w/ygx15jq94z5dzxwkmbbj8zfm0000gn/T/ipykernel_96370/620505994.py:1: DeprecationWarning: The property ``qiskit.circuit.quantumcircuit.QuantumCircuit.calibrations`` is deprecated as of Qiskit 1.3. It will be removed in Qiskit 2.0. The entire Qiskit Pulse package is being deprecated and will be moved to the Qiskit Dynamics repository: https://github.com/qiskit-community/qiskit-dynamics. Note that once removed, ``qiskit.circuit.quantumcircuit.QuantumCircuit.calibrations`` will have no alternative in Qiskit.\n",
      "  q_env.real_time_circuit.calibrations\n"
     ]
    },
    {
     "data": {
      "text/plain": [
       "{'rx': {((0,),\n",
       "   (Parameter(a_0_0),)): ScheduleBlock(Play(Drag(duration=120, sigma=40, beta=0.2, amp=a_0_0, angle=0.0, name='block0_0'), DriveChannel(0)), name=\"block0\", transform=AlignLeft())},\n",
       " 'x': {((0,),\n",
       "   ()): ScheduleBlock(Play(Drag(duration=120, sigma=40, beta=0.2, amp=0.3, angle=0.0, name='x_custom_015393985360'), DriveChannel(0)), name=\"x_custom\", transform=AlignLeft()),\n",
       "  ((1,),\n",
       "   ()): ScheduleBlock(Play(Drag(duration=120, sigma=40, beta=0.2, amp=0.3, angle=0.0, name='x_custom_015393985360'), DriveChannel(0)), name=\"x_custom\", transform=AlignLeft())}}"
      ]
     },
     "execution_count": 4,
     "metadata": {},
     "output_type": "execute_result"
    }
   ],
   "execution_count": 4
  },
  {
   "metadata": {
    "ExecuteTime": {
     "end_time": "2025-05-13T11:48:53.511866Z",
     "start_time": "2025-05-13T11:48:52.386598Z"
    }
   },
   "cell_type": "code",
   "source": [
    "from qm import generate_qua_script\n",
    "\n",
    "prog = q_env.rl_qoc_training_qua_prog()\n",
    "print(generate_qua_script(prog))"
   ],
   "id": "3721dff28ed0c981",
   "outputs": [
    {
     "name": "stdout",
     "output_type": "stream",
     "text": [
      "\n",
      "# Single QUA script generated at 2025-05-13 19:48:53.510595\n",
      "# QUA library version: 1.2.2rc2+dgx2\n",
      "\n",
      "\n",
      "from qm import CompilerOptionArguments\n",
      "from qm.qua import *\n",
      "\n",
      "with program() as prog:\n",
      "    v1 = declare(fixed, value=0.0)\n",
      "    v2 = declare(int, value=0)\n",
      "    v3 = declare(int, value=0)\n",
      "    a1 = declare(fixed, value=[0.0])\n",
      "    v4 = declare(int, )\n",
      "    a2 = declare(fixed, value=[1.0])\n",
      "    v5 = declare(int, )\n",
      "    a3 = declare(int, value=[0, 0])\n",
      "    v6 = declare(int, )\n",
      "    v7 = declare(int, value=2)\n",
      "    v8 = declare(int, value=0)\n",
      "    v9 = declare(int, )\n",
      "    v10 = declare(int, value=0)\n",
      "    v11 = declare(int, value=100)\n",
      "    v12 = declare(int, )\n",
      "    v13 = declare(int, )\n",
      "    v14 = declare(int, )\n",
      "    v15 = declare(int, )\n",
      "    a4 = declare(fixed, value=[-1.0])\n",
      "    a5 = declare(fixed, value=[1.0])\n",
      "    v16 = declare(int, )\n",
      "    a6 = declare(fixed, value=[1.0, 0.9999247018391445, 0.9996988186962042, 0.9993223845883495, 0.9987954562051724, 0.9981181129001492, 0.9972904566786902, 0.996312612182778, 0.9951847266721969, 0.9939069700023561, 0.99247953459871, 0.99090263542778, 0.989176509964781, 0.9873014181578584, 0.9852776423889412, 0.9831054874312163, 0.9807852804032304, 0.9783173707196277, 0.9757021300385286, 0.9729399522055602, 0.970031253194544, 0.9669764710448521, 0.9637760657954398, 0.9604305194155658, 0.9569403357322088, 0.9533060403541939, 0.9495281805930367, 0.9456073253805213, 0.9415440651830208, 0.937339011912575, 0.932992798834739, 0.9285060804732156, 0.9238795325112867, 0.9191138516900578, 0.9142097557035307, 0.9091679830905224, 0.9039892931234433, 0.8986744656939538, 0.8932243011955153, 0.8876396204028539, 0.881921264348355, 0.8760700941954066, 0.8700869911087115, 0.8639728561215867, 0.8577286100002721, 0.8513551931052652, 0.8448535652497071, 0.8382247055548381, 0.8314696123025452, 0.8245893027850253, 0.8175848131515837, 0.8104571982525948, 0.8032075314806449, 0.7958369046088836, 0.7883464276266062, 0.7807372285720945, 0.773010453362737, 0.765167265622459, 0.7572088465064846, 0.7491363945234594, 0.7409511253549592, 0.7326542716724128, 0.724247082951467, 0.7157308252838187, 0.7071067811865476, 0.6983762494089729, 0.6895405447370669, 0.680600997795453, 0.6715589548470183, 0.6624157775901718, 0.6531728429537769, 0.6438315428897915, 0.6343932841636455, 0.6248594881423865, 0.6152315905806268, 0.6055110414043255, 0.5956993044924335, 0.5857978574564389, 0.5758081914178453, 0.5657318107836132, 0.5555702330196023, 0.5453249884220465, 0.5349976198870973, 0.5245896826784688, 0.5141027441932217, 0.5035383837257176, 0.4928981922297841, 0.48218377207912283, 0.4713967368259978, 0.46053871095824, 0.4496113296546066, 0.4386162385385277, 0.4275550934302822, 0.4164295600976373, 0.40524131400498986, 0.3939920400610481, 0.38268343236508984, 0.3713171939518376, 0.3598950365349883, 0.3484186802494345, 0.33688985339222005, 0.325310292162263, 0.3136817403988916, 0.3020059493192282, 0.29028467725446233, 0.27851968938505306, 0.2667127574748984, 0.2548656596045146, 0.24298017990326398, 0.23105810828067128, 0.21910124015686977, 0.20711137619221856, 0.19509032201612833, 0.18303988795514106, 0.17096188876030136, 0.1588581433338614, 0.14673047445536175, 0.13458070850712622, 0.12241067519921628, 0.11022220729388318, 0.09801714032956077, 0.08579731234443988, 0.07356456359966745, 0.06132073630220865, 0.049067674327418126, 0.03680722294135899, 0.024541228522912264, 0.012271538285719944, 6.123233995736766e-17, -0.012271538285719823, -0.024541228522912142, -0.036807222941358866, -0.04906767432741801, -0.06132073630220853, -0.07356456359966733, -0.08579731234443976, -0.09801714032956065, -0.11022220729388306, -0.12241067519921615, -0.1345807085071261, -0.14673047445536164, -0.15885814333386128, -0.17096188876030124, -0.18303988795514092, -0.1950903220161282, -0.20711137619221845, -0.21910124015686966, -0.23105810828067114, -0.24298017990326387, -0.2548656596045145, -0.2667127574748983, -0.27851968938505295, -0.29028467725446216, -0.3020059493192281, -0.3136817403988914, -0.32531029216226287, -0.33688985339221994, -0.3484186802494344, -0.35989503653498817, -0.3713171939518375, -0.3826834323650897, -0.393992040061048, -0.40524131400498975, -0.416429560097637, -0.42755509343028186, -0.4386162385385274, -0.4496113296546067, -0.46053871095824006, -0.4713967368259977, -0.4821837720791228, -0.492898192229784, -0.5035383837257175, -0.5141027441932217, -0.5245896826784687, -0.534997619887097, -0.5453249884220462, -0.555570233019602, -0.5657318107836133, -0.5758081914178453, -0.5857978574564389, -0.5956993044924334, -0.6055110414043254, -0.6152315905806268, -0.6248594881423862, -0.6343932841636454, -0.6438315428897913, -0.6531728429537765, -0.6624157775901719, -0.6715589548470184, -0.6806009977954531, -0.6895405447370669, -0.6983762494089728, -0.7071067811865475, -0.7157308252838186, -0.7242470829514668, -0.7326542716724127, -0.7409511253549589, -0.7491363945234591, -0.7572088465064846, -0.765167265622459, -0.773010453362737, -0.7807372285720945, -0.7883464276266062, -0.7958369046088835, -0.8032075314806448, -0.8104571982525947, -0.8175848131515836, -0.8245893027850251, -0.8314696123025453, -0.8382247055548381, -0.8448535652497071, -0.8513551931052651, -0.857728610000272, -0.8639728561215867, -0.8700869911087113, -0.8760700941954065, -0.8819212643483549, -0.8876396204028538, -0.8932243011955152, -0.8986744656939539, -0.9039892931234433, -0.9091679830905224, -0.9142097557035307, -0.9191138516900577, -0.9238795325112867, -0.9285060804732155, -0.9329927988347388, -0.9373390119125748, -0.9415440651830207, -0.9456073253805213, -0.9495281805930367, -0.9533060403541939, -0.9569403357322088, -0.9604305194155658, -0.9637760657954398, -0.9669764710448521, -0.970031253194544, -0.9729399522055601, -0.9757021300385285, -0.9783173707196275, -0.9807852804032304, -0.9831054874312163, -0.9852776423889412, -0.9873014181578584, -0.989176509964781, -0.99090263542778, -0.99247953459871, -0.9939069700023561, -0.9951847266721968, -0.996312612182778, -0.9972904566786902, -0.9981181129001492, -0.9987954562051724, -0.9993223845883495, -0.9996988186962042, -0.9999247018391445, -1.0, -0.9999247018391445, -0.9996988186962042, -0.9993223845883495, -0.9987954562051724, -0.9981181129001492, -0.9972904566786902, -0.996312612182778, -0.9951847266721969, -0.9939069700023561, -0.99247953459871, -0.99090263542778, -0.989176509964781, -0.9873014181578584, -0.9852776423889413, -0.9831054874312164, -0.9807852804032304, -0.9783173707196277, -0.9757021300385286, -0.9729399522055602, -0.970031253194544, -0.9669764710448522, -0.96377606579544, -0.9604305194155659, -0.9569403357322089, -0.953306040354194, -0.9495281805930368, -0.9456073253805213, -0.9415440651830208, -0.937339011912575, -0.932992798834739, -0.9285060804732156, -0.9238795325112868, -0.9191138516900578, -0.9142097557035308, -0.9091679830905225, -0.9039892931234434, -0.898674465693954, -0.8932243011955153, -0.8876396204028539, -0.881921264348355, -0.8760700941954066, -0.8700869911087115, -0.8639728561215868, -0.8577286100002722, -0.8513551931052653, -0.8448535652497072, -0.8382247055548382, -0.8314696123025455, -0.8245893027850253, -0.8175848131515837, -0.8104571982525948, -0.8032075314806449, -0.7958369046088837, -0.7883464276266063, -0.7807372285720946, -0.7730104533627371, -0.7651672656224591, -0.7572088465064848, -0.7491363945234593, -0.7409511253549591, -0.7326542716724129, -0.724247082951467, -0.7157308252838187, -0.7071067811865477, -0.698376249408973, -0.689540544737067, -0.6806009977954532, -0.6715589548470187, -0.662415777590172, -0.6531728429537771, -0.6438315428897915, -0.6343932841636458, -0.6248594881423865, -0.6152315905806273, -0.6055110414043257, -0.5956993044924331, -0.5857978574564391, -0.5758081914178452, -0.5657318107836135, -0.5555702330196022, -0.5453249884220468, -0.5349976198870973, -0.5245896826784694, -0.5141027441932218, -0.503538383725718, -0.4928981922297842, -0.48218377207912255, -0.4713967368259979, -0.4605387109582399, -0.44961132965460693, -0.4386162385385276, -0.4275550934302825, -0.4164295600976372, -0.40524131400499036, -0.3939920400610482, -0.38268343236509034, -0.37131719395183777, -0.359895036534988, -0.34841868024943484, -0.33688985339221994, -0.3253102921622633, -0.31368174039889146, -0.30200594931922853, -0.29028467725446244, -0.2785196893850536, -0.26671275747489853, -0.25486565960451435, -0.24298017990326412, -0.23105810828067094, -0.2191012401568701, -0.20711137619221848, -0.19509032201612866, -0.18303988795514095, -0.1709618887603017, -0.15885814333386153, -0.1467304744553623, -0.13458070850712636, -0.12241067519921596, -0.11022220729388331, -0.09801714032956045, -0.08579731234444023, -0.07356456359966736, -0.061320736302208995, -0.04906767432741803, -0.03680722294135933, -0.02454122852291239, -0.012271538285720512, -1.8369701987210297e-16, 0.012271538285720144, 0.02454122852291202, 0.036807222941358964, 0.04906767432741766, 0.06132073630220863, 0.07356456359966698, 0.08579731234443985, 0.09801714032956009, 0.11022220729388293, 0.1224106751992156, 0.13458070850712597, 0.14673047445536194, 0.15885814333386117, 0.17096188876030133, 0.1830398879551406, 0.1950903220161283, 0.20711137619221812, 0.21910124015686974, 0.23105810828067058, 0.24298017990326376, 0.25486565960451396, 0.2667127574748982, 0.2785196893850533, 0.29028467725446205, 0.30200594931922814, 0.31368174039889113, 0.3253102921622629, 0.3368898533922196, 0.3484186802494345, 0.3598950365349876, 0.3713171939518374, 0.38268343236509, 0.3939920400610479, 0.40524131400499, 0.4164295600976369, 0.42755509343028214, 0.43861623853852727, 0.4496113296546066, 0.4605387109582396, 0.4713967368259976, 0.4821837720791222, 0.49289819222978387, 0.5035383837257178, 0.5141027441932216, 0.5245896826784691, 0.5349976198870969, 0.5453249884220465, 0.5555702330196018, 0.5657318107836132, 0.5758081914178449, 0.5857978574564388, 0.5956993044924329, 0.6055110414043253, 0.615231590580627, 0.6248594881423861, 0.6343932841636456, 0.6438315428897912, 0.6531728429537768, 0.6624157775901715, 0.6715589548470184, 0.6806009977954527, 0.6895405447370668, 0.6983762494089725, 0.7071067811865474, 0.7157308252838188, 0.7242470829514667, 0.7326542716724129, 0.7409511253549588, 0.7491363945234593, 0.7572088465064842, 0.7651672656224588, 0.7730104533627367, 0.7807372285720944, 0.7883464276266059, 0.7958369046088833, 0.803207531480645, 0.8104571982525947, 0.8175848131515837, 0.8245893027850251, 0.8314696123025452, 0.8382247055548377, 0.844853565249707, 0.8513551931052649, 0.857728610000272, 0.8639728561215864, 0.8700869911087112, 0.8760700941954067, 0.8819212643483548, 0.8876396204028539, 0.8932243011955151, 0.8986744656939538, 0.9039892931234431, 0.9091679830905224, 0.9142097557035304, 0.9191138516900577, 0.9238795325112865, 0.9285060804732155, 0.932992798834739, 0.9373390119125748, 0.9415440651830208, 0.9456073253805212, 0.9495281805930367, 0.9533060403541936, 0.9569403357322088, 0.9604305194155657, 0.9637760657954398, 0.9669764710448522, 0.970031253194544, 0.9729399522055602, 0.9757021300385285, 0.9783173707196277, 0.9807852804032303, 0.9831054874312163, 0.9852776423889411, 0.9873014181578583, 0.9891765099647809, 0.99090263542778, 0.99247953459871, 0.9939069700023561, 0.9951847266721969, 0.996312612182778, 0.9972904566786902, 0.9981181129001492, 0.9987954562051724, 0.9993223845883494, 0.9996988186962042, 0.9999247018391445])\n",
      "    a7 = declare(fixed, value=[3.5327824289561818, 3.330804306653522, 3.2067627154196052, 3.115760415709423, 3.043300160265717, 2.9827894246636704, 2.9306537482669137, 2.8847302485643036, 2.8436073103839603, 2.8063110134754217, 2.77214017407937, 2.740572639206182, 2.7112087664763966, 2.683735648515148, 2.6579035513233205, 2.633509871988707, 2.6103879026361403, 2.588398766525206, 2.567425506613319, 2.54736867045851, 2.5281429577645906, 2.5096746370047467, 2.4918995281678673, 2.474761408630264, 2.458210739665161, 2.4422036389905277, 2.4267010442847883, 2.4116680264893695, 2.397073221736998, 2.382888358068256, 2.369087858516701, 2.355648506195711, 2.3425491600836423, 2.3297705125417862, 2.3172948814000156, 2.305106030843119, 2.293189016425181, 2.28153005040231, 2.2701163842592402, 2.2589362058530265, 2.24797854903754, 2.2372332139888327, 2.2266906967413354, 2.2163421266819383, 2.206179210943866, 2.1961941848031903, 2.1863797673143206, 2.1767291215320657, 2.167235818760913, 2.1578938063503603, 2.1486973786210304, 2.139641150562095, 2.1307200339878762, 2.1219292158818566, 2.113264138690807, 2.1047204823613135, 2.09629414793641, 2.0879812425519297, 2.079778065691169, 2.0716810965728625, 2.0636869825617734, 2.055792528503632, 2.0479946868970322, 2.040290548824406, 2.032677335572536, 2.0251523908804216, 2.0177131737587497, 2.010357251830959, 2.003082295150906, 1.9958860704566335, 1.9887664358237014, 1.9817213356850727, 1.9747487961876966, 1.9678469208587337, 1.9610138865568796, 1.9542479396864865, 1.9475473926541997, 1.9409106205496316, 1.9343360580332198, 1.9278221964158873, 1.921367580916432, 1.9149708080837768, 1.90863052337228, 1.9023454188592859, 1.8961142310949797, 1.889935739075412, 1.8838087623302882, 1.8777321591177818, 1.8717048247192343, 1.865725689827154, 1.8597937190204292, 1.8539079093211341, 1.8480672888277168, 1.842270915419752, 1.8365178755297913, 1.8308072829781583, 1.8251382778668508, 1.8195100255289596, 1.8139217155302925, 1.8083725607200958, 1.8028617963279994, 1.7973886791044937, 1.7919524865024372, 1.78655251589725, 1.781188083843616, 1.775858525366648, 1.7705631932856072, 1.765301457568395, 1.7600727047151352, 1.7548763371692908, 1.7497117727548361, 1.7445784441381105, 1.7394757983130602, 1.7344032961086497, 1.7293604117173027, 1.7243466322432999, 1.719361457270119, 1.714404398445772, 1.7094749790852397, 1.704572733789159, 1.6996972080779733, 1.6948479580407874, 1.6900245499982254, 1.6852265601786205, 1.6804535744069031, 1.6757051878055946, 1.6709810045073394, 1.6662806373784413, 1.6616037077529031, 1.656949845176484, 1.65231868716033, 1.647709878943741, 1.6431230732656734, 1.638557930144588, 1.6340141166662792, 1.6294913067793382, 1.6249891810979202, 1.6205074267115007, 1.616045737001325, 1.6116038114632674, 1.6071813555368302, 1.602778080440027, 1.5983937030099076, 1.5940279455484894, 1.5896805356738788, 1.5853512061763686, 1.5810396948793115, 1.576745744504582, 1.5724691025424382, 1.568209521125614, 1.5639667569074769, 1.559740570944087, 1.5555307285800137, 1.5513369993377586, 1.5471591568106515, 1.542996978559085, 1.5388502460099627, 1.534718744359241, 1.5306022624774458, 1.5265005928180588, 1.5224135313286642, 1.518340877364754, 1.5142824336061007, 1.5102380059755953, 1.5062074035604718, 1.5021904385358245, 1.4981869260903422, 1.4941966843541787, 1.4902195343288829, 1.4862552998193195, 1.4823038073675112, 1.4783648861883298, 1.4744383681069824, 1.4705240874982228, 1.466621881227234, 1.462731588592123, 1.458853051267975, 1.4549861132524147, 1.4511306208126233, 1.4472864224337623, 1.443453368768762, 1.4396313125894242, 1.4358201087387992, 1.432019614084796, 1.4282296874749836, 1.4244501896925483, 1.4206809834133651, 1.4169219331641532, 1.4131729052816766, 1.4094337678729594, 1.4057043907764817, 1.401984645524328, 1.3982744053052563, 1.3945735449286578, 1.3908819407893847, 1.3871994708334143, 1.3835260145243249, 1.3798614528105597, 1.3762056680934556, 1.3725585441960084, 1.3689199663323592, 1.3652898210779754, 1.3616679963405045, 1.3580543813312875, 1.3544488665375016, 1.3508513436949223, 1.3472617057612826, 1.3436798468902118, 1.3401056624057361, 1.336539048777327, 1.3329799035954766, 1.3294281255477916, 1.3258836143955808, 1.3223462709509322, 1.3188159970542568, 1.3152926955522901, 1.311776270276536, 1.3082666260221427, 1.3047636685271926, 1.3012673044524004, 1.2977774413612042, 1.2942939877002366, 1.2908168527801696, 1.2873459467569157, 1.2838811806131825, 1.2804224661403625, 1.276969715920755, 1.2735228433101062, 1.2700817624204592, 1.266646388103305, 1.2632166359330264, 1.2597924221906238, 1.2563736638477176, 1.2529602785508152, 1.2495521846058377, 1.2461493009628979, 1.2427515472013209, 1.2393588435148999, 1.2359711106973812, 1.2325882701281707, 1.2292102437582553, 1.2258369540963294, 1.222468324195127, 1.2191042776379448, 1.2157447385253557, 1.2123896314621028, 1.209038881544173, 1.2056924143460366, 1.202350155908055, 1.199012032724045, 1.1956779717289983, 1.1923479002869475, 1.189021746178975, 1.1856994375913594, 1.1823809031038546, 1.1790660716780947, 1.1757548726461222, 1.1724472356990332, 1.1691430908757334, 1.1658423685518056, 1.1625449994284747, 1.1592509145216774, 1.1559600451512198, 1.152672322930028, 1.1493876797534828, 1.146106047788834, 1.1428273594646918, 1.1395515474605902, 1.1362785446966164, 1.1330082843231066, 1.129740699710397, 1.1264757244386336, 1.1232132922876312, 1.1199533372267787, 1.1166957934049884, 1.1134405951406834, 1.1101876769118193, 1.1069369733459375, 1.1036884192102443, 1.100441949401712, 1.0971974989372002, 1.093955002943591, 1.0907143966479327, 1.087475615367594, 1.0842385945004163, 1.081003269514868, 1.07776957594019, 1.0745374493565347, 1.0713068253850877, 1.0680776396781742, 1.0648498279093415, 1.0616233257634158, 1.0583980689265284, 1.0551739930761068, 1.0519510338708258, 1.0487291269405168, 1.045508207876026, 1.0422882122190245, 1.0390690754517555, 1.035850732986726, 1.0326331201563252, 1.0294161722023798, 1.0261998242656256, 1.0229840113751025, 1.0197686684374627, 1.016553730226188, 1.0133391313707099, 1.010124806345429, 1.0069106894586273, 1.0036967148412688, 1.00048281643568, 0.9972689279841093, 0.9940549830171531, 0.990840914842051, 0.9876266565308335, 0.9844121409083265, 0.9811973005399973, 0.9779820677196415, 0.9747663744569002, 0.9715501524646036, 0.9683333331459304, 0.9651158475813785, 0.9618976265155382, 0.9586786003436607, 0.9554586990980113, 0.9522378524340039, 0.9490159896161035, 0.9457930395034908, 0.9425689305354783, 0.9393435907166703, 0.9361169476018545, 0.9328889282806191, 0.9296594593616802, 0.9264284669569143, 0.9231958766650803, 0.9199616135552237, 0.9167256021497466, 0.9134877664071378, 0.9102480297043429, 0.9070063148187696, 0.9037625439099064, 0.9005166385005492, 0.8972685194576143, 0.894018106972528, 0.8907653205411735, 0.8875100789433834, 0.8842523002219562, 0.8809919016611847, 0.8777287997648731, 0.8744629102338306, 0.871194147942815, 0.8679224269169135, 0.8646476603073332, 0.8613697603665863, 0.8580886384230404, 0.8548042048548183, 0.8515163690630151, 0.8482250394442141, 0.8449301233622702, 0.8416315271193373, 0.8383291559261059, 0.8350229138712285, 0.8317127038898934, 0.8283984277315222, 0.82507998592655, 0.821757277752261, 0.8184302011976333, 0.815098652927164, 0.8117625282436266, 0.8084217210497248, 0.8050761238085928, 0.8017256275031042, 0.7983701215939308, 0.7950094939763143, 0.7916436309354844, 0.7882724171006811, 0.7848957353977135, 0.7815134670000023, 0.7781254912780369, 0.7747316857471859, 0.7713319260137863, 0.7679260857194453, 0.764514036483469, 0.7610956478433479, 0.7576707871932048, 0.7542393197201254, 0.7508011083382705, 0.7473560136206788, 0.74390389372865, 0.7404446043386061, 0.7369779985663124, 0.7335039268883392, 0.7300222370606367, 0.726532774034091, 0.7230353798669159, 0.7195298936337378, 0.71601615133121, 0.712493985779995, 0.7089632265229362, 0.7054236997192362, 0.7018752280344425, 0.6983176305260358, 0.6947507225243981, 0.6911743155089308, 0.687588216979073, 0.6839922303199605, 0.6803861546624455, 0.6767697847371851, 0.6731429107224821, 0.669505318085549, 0.6658567874168362, 0.6621970942570545, 0.6585260089164843, 0.65484329628615, 0.6511487156404, 0.6474420204304109, 0.6437229580680933, 0.6399912696998503, 0.6362466899695931, 0.6324889467703853, 0.6287177609840334, 0.624932846207907, 0.6211339084682007, 0.6173206459188156, 0.6134927485249564, 0.6096498977304912, 0.6057917661080331, 0.601918016990641, 0.598028304083933, 0.594122271057333, 0.5901995511130481, 0.5862597665312865, 0.5823025281900804, 0.5783274350579691, 0.5743340736576326, 0.5703220174984222, 0.5662908264755476, 0.5622400462334989, 0.5581692074910586, 0.5540778253250399, 0.5499653984096154, 0.5458314082078302, 0.5416753181115674, 0.5374965725258996, 0.5332945958933567, 0.5290687916532321, 0.5248185411305525, 0.5205432023488241, 0.5162421087600569, 0.5119145678849238, 0.5075598598551528, 0.5031772358494339, 0.49876591641317175, 0.4943250896513783, 0.4898539092827965, 0.48535149254202054, 0.4808169179148438, 0.476249222690357, 0.47164740031134356, 0.46701039750230167, 0.4623371111518542, 0.45762638492340174, 0.452877005564503, 0.44808769888162364, 0.4432571253424207, 0.43838387526259154, 0.43346646352831547, 0.42850332379836414, 0.4234928021218074, 0.41843314989772334, 0.41332251609209913, 0.40815893861390373, 0.4029403347366371, 0.3976644904330612, 0.39232904846857397, 0.38693149507205943, 0.38146914497093554, 0.375939124538305, 0.3703383527528692, 0.3646635196145427, 0.35891106158770963, 0.35307713355630743, 0.3471575766656889, 0.34114788128944284, 0.33504314418679376, 0.3288380186969743, 0.3225266565361063, 0.3161026393993647, 0.30955889809823756, 0.3028876163401115, 0.29608011542908097, 0.2891267150522811, 0.2820165637975168, 0.27473743095125236, 0.2672754481881163, 0.2596147855798745, 0.25173724028892036, 0.24362170735021405, 0.23524348840829098, 0.22657337331901048, 0.21757639617341185, 0.20821011252597887, 0.19842215133916036, 0.1881466295175174, 0.1772987078092207, 0.16576595478748973, 0.15339388240465374, 0.13995997708121918, 0.1251225688694633, 0.10830622745159332, 0.0883884038442272, 0.062469514665343846])\n",
      "    v17 = declare(fixed, )\n",
      "    v18 = declare(int, )\n",
      "    v19 = declare(int, )\n",
      "    v20 = declare(int, value=1234)\n",
      "    a8 = declare(fixed, size=1)\n",
      "    a9 = declare(fixed, size=1)\n",
      "    v21 = declare(int, )\n",
      "    v22 = declare(int, value=0)\n",
      "    a10 = declare(int, value=[0, 0])\n",
      "    v23 = declare(fixed, value=0.0)\n",
      "    v24 = declare(int, value=0)\n",
      "    v25 = declare(int, value=0)\n",
      "    v26 = declare(int, value=0)\n",
      "    a11 = declare(bool, value=[False])\n",
      "    v27 = declare(int, value=0)\n",
      "    v28 = declare(int, value=0)\n",
      "    v29 = declare(int, value=0)\n",
      "    v30 = declare(bool, )\n",
      "    v31 = declare(fixed, )\n",
      "    v32 = declare(fixed, )\n",
      "    v33 = declare(fixed, )\n",
      "    v34 = declare(fixed, )\n",
      "    v35 = declare(bool, )\n",
      "    v36 = declare(int, value=1)\n",
      "    set_dc_offset(\"q1.z\", \"single\", 0.0)\n",
      "    set_dc_offset(\"q2.z\", \"single\", 0.0)\n",
      "    set_dc_offset(\"q3.z\", \"single\", 0.0)\n",
      "    set_dc_offset(\"q4.z\", \"single\", 0.0)\n",
      "    set_dc_offset(\"q5.z\", \"single\", 0.0)\n",
      "    set_dc_offset(\"coupler_q1_q2\", \"single\", -0.01)\n",
      "    set_dc_offset(\"coupler_q2_q3\", \"single\", -0.03)\n",
      "    set_dc_offset(\"coupler_q3_q4\", \"single\", -0.053)\n",
      "    set_dc_offset(\"coupler_q4_q5\", \"single\", -0.051)\n",
      "    with for_(v12,0,(v12<500),(v12+1)):\n",
      "        with for_(v4,0,(v4<1),(v4+1)):\n",
      "            pause()\n",
      "            assign(a1[v4], IO1)\n",
      "        with for_(v5,0,(v5<1),(v5+1)):\n",
      "            pause()\n",
      "            assign(a2[v5], IO1)\n",
      "        pause()\n",
      "        assign(v7, IO1)\n",
      "        pause()\n",
      "        assign(v2, IO1)\n",
      "        pause()\n",
      "        assign(v10, IO1)\n",
      "        assign(v13, 0)\n",
      "        with while_((v13<v2)):\n",
      "            assign(v13, (v13+1))\n",
      "            pause()\n",
      "            assign(v3, IO1)\n",
      "            assign(v9, 0)\n",
      "            with while_((v9<v10)):\n",
      "                assign(v9, (v9+1))\n",
      "                pause()\n",
      "                assign(v8, IO1)\n",
      "                pause()\n",
      "                assign(v11, IO1)\n",
      "                with for_(v14,0,(v14<0),(v14+1)):\n",
      "                    with for_(v16,0,(v16<1),(v16+1)):\n",
      "                        assign(v17, Random(v20).rand_fixed())\n",
      "                        assign(v18, Cast.unsafe_cast_int((v17>>19)))\n",
      "                        assign(v19, (Cast.unsafe_cast_int(v17)&524287))\n",
      "                        assign(a8[v16], (a1[v16]+((a2[v16]*a7[v18])*a6[(v19&511)])))\n",
      "                        assign(a9[v16], (a1[v16]+((a2[v16]*a7[v18])*a6[((v19+128)&511)])))\n",
      "                    with for_(v15,0,(v15<2),(v15+1)):\n",
      "                        assign(v1, Util.cond((v15==0),a8[0],a9[0]))\n",
      "                        with if_((v1<a4[0])):\n",
      "                            assign(v1, a4[0])\n",
      "                        with if_((v1>a5[0])):\n",
      "                            assign(v1, a5[0])\n",
      "                        with for_(v21,0,(v21<v11),(v21+1)):\n",
      "                            assign(v23, v1)\n",
      "                            assign(v24, v8)\n",
      "                            assign(v25, v7)\n",
      "                            assign(v26, v3)\n",
      "                            assign(v27, v26)\n",
      "                            with if_((v27==1), unsafe=True):\n",
      "                                align(\"q1.resonator\", \"q1.xy\", \"q1.z\")\n",
      "                                play(\"x180_DragCosine\", \"q1.xy\")\n",
      "                                align(\"q1.resonator\", \"q1.xy\", \"q1.z\")\n",
      "                            with elif_((v27==2)):\n",
      "                                align(\"q1.resonator\", \"q1.xy\", \"q1.z\")\n",
      "                                frame_rotation_2pi(1.5707963267948966, \"q1.xy\")\n",
      "                                align(\"q1.resonator\", \"q1.xy\", \"q1.z\")\n",
      "                                align(\"q1.resonator\", \"q1.xy\", \"q1.z\")\n",
      "                                play(\"x90_DragCosine\", \"q1.xy\")\n",
      "                                align(\"q1.resonator\", \"q1.xy\", \"q1.z\")\n",
      "                                align(\"q1.resonator\", \"q1.xy\", \"q1.z\")\n",
      "                                frame_rotation_2pi(1.5707963267948966, \"q1.xy\")\n",
      "                                align(\"q1.resonator\", \"q1.xy\", \"q1.z\")\n",
      "                            with elif_((v27==3)):\n",
      "                                align(\"q1.resonator\", \"q1.xy\", \"q1.z\")\n",
      "                                frame_rotation_2pi(1.5707963267948966, \"q1.xy\")\n",
      "                                align(\"q1.resonator\", \"q1.xy\", \"q1.z\")\n",
      "                                align(\"q1.resonator\", \"q1.xy\", \"q1.z\")\n",
      "                                play(\"x90_DragCosine\", \"q1.xy\")\n",
      "                                align(\"q1.resonator\", \"q1.xy\", \"q1.z\")\n",
      "                                align(\"q1.resonator\", \"q1.xy\", \"q1.z\")\n",
      "                                frame_rotation_2pi(-1.570796326794897, \"q1.xy\")\n",
      "                                align(\"q1.resonator\", \"q1.xy\", \"q1.z\")\n",
      "                            with elif_((v27==4)):\n",
      "                                align(\"q1.resonator\", \"q1.xy\", \"q1.z\")\n",
      "                                frame_rotation_2pi(1.5707963267948966, \"q1.xy\")\n",
      "                                align(\"q1.resonator\", \"q1.xy\", \"q1.z\")\n",
      "                                align(\"q1.resonator\", \"q1.xy\", \"q1.z\")\n",
      "                                play(\"x90_DragCosine\", \"q1.xy\")\n",
      "                                align(\"q1.resonator\", \"q1.xy\", \"q1.z\")\n",
      "                                align(\"q1.resonator\", \"q1.xy\", \"q1.z\")\n",
      "                                frame_rotation_2pi(-3.141592653589793, \"q1.xy\")\n",
      "                                align(\"q1.resonator\", \"q1.xy\", \"q1.z\")\n",
      "                            with elif_((v27==5)):\n",
      "                                align(\"q1.resonator\", \"q1.xy\", \"q1.z\")\n",
      "                                frame_rotation_2pi(1.5707963267948966, \"q1.xy\")\n",
      "                                align(\"q1.resonator\", \"q1.xy\", \"q1.z\")\n",
      "                                align(\"q1.resonator\", \"q1.xy\", \"q1.z\")\n",
      "                                play(\"x90_DragCosine\", \"q1.xy\")\n",
      "                                align(\"q1.resonator\", \"q1.xy\", \"q1.z\")\n",
      "                            with for_(v29,0,(v29<=v25),(v29+1)):\n",
      "                                align(\"q1.resonator\", \"q1.xy\", \"q1.z\")\n",
      "                                assign(v1, v23)\n",
      "                                play(\"block0_0\"*amp((3.9998400063997437*v1)), \"q1.xy\")\n",
      "                                align(\"q1.resonator\", \"q1.xy\", \"q1.z\")\n",
      "                            assign(v28, v24)\n",
      "                            with if_((v28==1), unsafe=True):\n",
      "                                align(\"q1.resonator\", \"q1.xy\", \"q1.z\")\n",
      "                                frame_rotation_2pi(1.5707963267948966, \"q1.xy\")\n",
      "                                align(\"q1.resonator\", \"q1.xy\", \"q1.z\")\n",
      "                                align(\"q1.resonator\", \"q1.xy\", \"q1.z\")\n",
      "                                play(\"x90_DragCosine\", \"q1.xy\")\n",
      "                                align(\"q1.resonator\", \"q1.xy\", \"q1.z\")\n",
      "                                align(\"q1.resonator\", \"q1.xy\", \"q1.z\")\n",
      "                                frame_rotation_2pi(1.5707963267948966, \"q1.xy\")\n",
      "                                align(\"q1.resonator\", \"q1.xy\", \"q1.z\")\n",
      "                            with elif_((v28==2)):\n",
      "                                align(\"q1.resonator\", \"q1.xy\", \"q1.z\")\n",
      "                                play(\"x90_DragCosine\", \"q1.xy\")\n",
      "                                align(\"q1.resonator\", \"q1.xy\", \"q1.z\")\n",
      "                                align(\"q1.resonator\", \"q1.xy\", \"q1.z\")\n",
      "                                frame_rotation_2pi(1.5707963267948966, \"q1.xy\")\n",
      "                                align(\"q1.resonator\", \"q1.xy\", \"q1.z\")\n",
      "                            align(\"q1.resonator\", \"q1.xy\", \"q1.z\")\n",
      "                            measure(\"readout\", \"q1.resonator\", dual_demod.full(\"iw1\", \"iw2\", v31), dual_demod.full(\"iw3\", \"iw1\", v32))\n",
      "                            assign(v30, (v31>-1.628262415766392e-05))\n",
      "                            align(\"q1.resonator\", \"q1.xy\", \"q1.z\")\n",
      "                            assign(a11[0], v30)\n",
      "                            align(\"q1.resonator\", \"q1.xy\", \"q1.z\")\n",
      "                            assign(v36, 1)\n",
      "                            align(\"q1.resonator\", \"q1.z\", \"q1.xy\")\n",
      "                            measure(\"readout\", \"q1.resonator\", dual_demod.full(\"iw1\", \"iw2\", v33), dual_demod.full(\"iw3\", \"iw1\", v34))\n",
      "                            assign(v35, (v33>-1.628262415766392e-05))\n",
      "                            wait(30000, \"q1.resonator\")\n",
      "                            play(\"x180_DragCosine\", \"q1.xy\", condition=v35)\n",
      "                            align(\"q1.resonator\", \"q1.z\", \"q1.xy\")\n",
      "                            with while_(((v33>-0.00014833485972262327)&(v36<5))):\n",
      "                                align(\"q1.resonator\", \"q1.z\", \"q1.xy\")\n",
      "                                measure(\"readout\", \"q1.resonator\", dual_demod.full(\"iw1\", \"iw2\", v33), dual_demod.full(\"iw3\", \"iw1\", v34))\n",
      "                                assign(v35, (v33>-1.628262415766392e-05))\n",
      "                                wait(30000, \"q1.resonator\")\n",
      "                                play(\"x180_DragCosine\", \"q1.xy\", condition=v35)\n",
      "                                align(\"q1.resonator\", \"q1.z\", \"q1.xy\")\n",
      "                                assign(v36, (v36+1))\n",
      "                            wait(500, \"q1.xy\")\n",
      "                            align(\"q1.resonator\", \"q1.z\", \"q1.xy\")\n",
      "                            align(\"q1.resonator\", \"q1.xy\", \"q1.z\")\n",
      "                            assign(v22, (v22+(1*Cast.to_int(a11[0]))))\n",
      "                            assign(a10[v22], (a10[v22]+1))\n",
      "                        with for_(v6,0,(v6<2),(v6+1)):\n",
      "                            assign(a3[v6], a10[v6])\n",
      "                        with for_(v6,0,(v6<2),(v6+1)):\n",
      "                            r5 = declare_stream()\n",
      "                            save(a3[v6], r5)\n",
      "                        with for_(v6,0,(v6<2),(v6+1)):\n",
      "                            assign(IO1, a3[v6])\n",
      "                            pause()\n",
      "    with stream_processing():\n",
      "        r5.buffer(2).save_all(\"reward\")\n",
      "\n",
      "config = None\n",
      "\n",
      "loaded_config = None\n",
      "\n",
      "\n"
     ]
    }
   ],
   "execution_count": 7
  },
  {
   "metadata": {
    "ExecuteTime": {
     "end_time": "2025-05-09T08:49:54.641817Z",
     "start_time": "2025-05-09T08:49:54.633924Z"
    }
   },
   "cell_type": "code",
   "source": [
    "from qiskit_qm_provider import QMInstructionProperties\n",
    "from qiskit.circuit import Gate\n",
    "\n",
    "x_test = Gate(\"x_test\", 1, [])\n",
    "\n",
    "\n",
    "def x_test_macro():\n",
    "    machine.active_qubits[0].apply(\"x\")\n",
    "\n",
    "\n",
    "instruction_prop = QMInstructionProperties(qua_pulse_macro=x_test_macro)"
   ],
   "id": "27e662e430fc81be",
   "outputs": [],
   "execution_count": 7
  },
  {
   "metadata": {
    "ExecuteTime": {
     "end_time": "2025-05-09T08:49:56.354260Z",
     "start_time": "2025-05-09T08:49:56.351969Z"
    }
   },
   "cell_type": "code",
   "source": "backend.target.add_instruction(x_test, {(0,): instruction_prop})",
   "id": "8936717228662dc1",
   "outputs": [],
   "execution_count": 8
  },
  {
   "metadata": {
    "ExecuteTime": {
     "end_time": "2025-05-09T03:01:47.266670Z",
     "start_time": "2025-05-09T03:01:47.264065Z"
    }
   },
   "cell_type": "code",
   "source": [
    "from qiskit_qm_provider import ParameterPool\n",
    "\n",
    "ParameterPool.get_all()[6].get_parameter(0)"
   ],
   "id": "82179a12b3df52db",
   "outputs": [
    {
     "data": {
      "text/plain": [
       "Parameter(input_state_1[int])"
      ]
     },
     "execution_count": 19,
     "metadata": {},
     "output_type": "execute_result"
    }
   ],
   "execution_count": 19
  },
  {
   "metadata": {},
   "cell_type": "code",
   "source": "id(ParameterPool.get_all()[6].get_parameter(0))",
   "id": "c8d8cd6822c09725",
   "outputs": [],
   "execution_count": null
  },
  {
   "metadata": {},
   "cell_type": "code",
   "source": "q_env.circuit.draw(\"mpl\")",
   "id": "f279903b4332b114",
   "outputs": [],
   "execution_count": null
  },
  {
   "metadata": {},
   "cell_type": "code",
   "source": [
    "q_env.real_time_circuit.metadata[\"qua\"][\"input_state_vars\"].get_parameter(0).tables"
   ],
   "id": "9f2090757f2d7a3c",
   "outputs": [],
   "execution_count": null
  },
  {
   "metadata": {
    "ExecuteTime": {
     "end_time": "2025-05-13T02:21:02.928593Z",
     "start_time": "2025-05-13T02:21:02.790566Z"
    }
   },
   "cell_type": "code",
   "source": [
    "from qiskit.circuit.classical.types import Uint, Bool\n",
    "from qiskit.circuit.classical import expr\n",
    "\n",
    "cs_circuit = QuantumCircuit(1)\n",
    "meas_axis = cs_circuit.add_input(\"meas_axis\", Uint(3))\n",
    "meas_axis2 = cs_circuit.add_input(\"meas_axis2\", Bool())\n",
    "var1 = cs_circuit.store(meas_axis2, expr.logic_not(expr.cast(meas_axis, Bool())))\n",
    "cs_circuit.x(0)\n",
    "cs_circuit.delay(0.1, 0, \"ms\")\n",
    "with cs_circuit.switch(meas_axis) as case:\n",
    "    with case(0):\n",
    "        cs_circuit.sx(0)\n",
    "    with case(1):\n",
    "        cs_circuit.ry(-np.pi / 2, 0)\n",
    "    with case(2):\n",
    "        cs_circuit.id(0)\n",
    "\n",
    "cs_circuit.measure_all()\n",
    "cs_circuit.draw(\"mpl\")"
   ],
   "id": "65db2c05d2027a42",
   "outputs": [
    {
     "data": {
      "text/plain": [
       "<Figure size 1082.05x200.667 with 1 Axes>"
      ],
      "image/png": "[encoded data removed]"
     },
     "execution_count": 2,
     "metadata": {},
     "output_type": "execute_result"
    }
   ],
   "execution_count": 2
  },
  {
   "metadata": {
    "ExecuteTime": {
     "end_time": "2025-05-13T02:46:56.370816Z",
     "start_time": "2025-05-13T02:46:56.281924Z"
    }
   },
   "cell_type": "code",
   "source": [
    "from qiskit import transpile\n",
    "\n",
    "qc = transpile(cs_circuit, backend=backend, optimization_level=1)\n",
    "qc.draw(\"mpl\")"
   ],
   "id": "5fb4e94161beabb",
   "outputs": [
    {
     "data": {
      "text/plain": [
       "<Figure size 1419.63x535.111 with 1 Axes>"
      ],
      "image/png": "[encoded data removed]"
     },
     "execution_count": 12,
     "metadata": {},
     "output_type": "execute_result"
    }
   ],
   "execution_count": 12
  },
  {
   "metadata": {
    "ExecuteTime": {
     "end_time": "2025-05-13T02:46:57.648960Z",
     "start_time": "2025-05-13T02:46:57.645660Z"
    }
   },
   "cell_type": "code",
   "source": [
    "from qiskit.qasm3 import Exporter\n",
    "exporter = Exporter(includes=(), disable_constants=True)\n",
    "print(exporter.dumps(qc))"
   ],
   "id": "fec0db2fbbca2472",
   "outputs": [
    {
     "name": "stdout",
     "output_type": "stream",
     "text": [
      "OPENQASM 3.0;\n",
      "input uint[3] meas_axis;\n",
      "input bool meas_axis2;\n",
      "gate u3(p0, p1, p2) _gate_q_0 {\n",
      "  U(p0, p1, p2) _gate_q_0;\n",
      "}\n",
      "gate x _gate_q_0 {\n",
      "  u3(3.141592653589793, 0, 3.141592653589793) _gate_q_0;\n",
      "}\n",
      "gate u1(p0) _gate_q_0 {\n",
      "  u3(0, 0, p0) _gate_q_0;\n",
      "}\n",
      "gate sdg _gate_q_0 {\n",
      "  u1(-1.5707963267948966) _gate_q_0;\n",
      "}\n",
      "gate u2(p0, p1) _gate_q_0 {\n",
      "  u3(1.5707963267948966, p0, p1) _gate_q_0;\n",
      "}\n",
      "gate h _gate_q_0 {\n",
      "  u2(0, 3.141592653589793) _gate_q_0;\n",
      "}\n",
      "gate sx _gate_q_0 {\n",
      "  sdg _gate_q_0;\n",
      "  h _gate_q_0;\n",
      "  sdg _gate_q_0;\n",
      "}\n",
      "gate rz(p0) _gate_q_0 {\n",
      "  u1(p0) _gate_q_0;\n",
      "}\n",
      "bit[1] meas;\n",
      "int switch_dummy;\n",
      "meas_axis2 = !bool(meas_axis);\n",
      "x $0;\n",
      "delay[100000dt] $0;\n",
      "switch_dummy = meas_axis;\n",
      "switch (switch_dummy) {\n",
      "  case 0 {\n",
      "    sx $0;\n",
      "  }\n",
      "  case 1 {\n",
      "    rz(1.5707963267948966) $0;\n",
      "    sx $0;\n",
      "    rz(-1.570796326794897) $0;\n",
      "  }\n",
      "  case 2 {\n",
      "  }\n",
      "}\n",
      "barrier $0;\n",
      "meas[0] = measure $0;\n",
      "\n"
     ]
    }
   ],
   "execution_count": 13
  },
  {
   "metadata": {
    "ExecuteTime": {
     "end_time": "2025-05-13T02:50:43.728339Z",
     "start_time": "2025-05-13T02:50:43.564317Z"
    }
   },
   "cell_type": "code",
   "source": [
    "prog = backend.quantum_circuit_to_qua(qc).result_program\n",
    "print(generate_qua_script(prog.dsl_program))"
   ],
   "id": "5d366d82c318038e",
   "outputs": [
    {
     "name": "stdout",
     "output_type": "stream",
     "text": [
      "\n",
      "# Single QUA script generated at 2025-05-13 10:50:43.714311\n",
      "# QUA library version: 1.2.2rc2+dgx2\n",
      "\n",
      "\n",
      "from qm import CompilerOptionArguments\n",
      "from qm.qua import *\n",
      "\n",
      "with program() as prog:\n",
      "    input_stream_meas_axis = declare_input_stream(int, 'meas_axis', value=0)\n",
      "    input_stream_meas_axis2 = declare_input_stream(bool, 'meas_axis2', value=False)\n",
      "    a1 = declare(bool, value=[False])\n",
      "    v1 = declare(int, value=0)\n",
      "    v2 = declare(int, )\n",
      "    v3 = declare(fixed, )\n",
      "    v4 = declare(fixed, )\n",
      "    advance_input_stream(input_stream_meas_axis)\n",
      "    advance_input_stream(input_stream_meas_axis2)\n",
      "    assign(input_stream_meas_axis2, (Cast.to_bool(input_stream_meas_axis)^True))\n",
      "    align(\"q1.resonator\", \"q1.xy\", \"q1.z\")\n",
      "    play(\"x180_DragCosine\", \"q1.xy\")\n",
      "    align(\"q1.resonator\", \"q1.xy\", \"q1.z\")\n",
      "    align(\"q1.resonator\", \"q1.xy\", \"q1.z\")\n",
      "    wait(25000, \"q1.xy\", \"q1.resonator\", \"q1.z\")\n",
      "    align(\"q1.resonator\", \"q1.xy\", \"q1.z\")\n",
      "    assign(v1, input_stream_meas_axis)\n",
      "    with if_((v1==0), unsafe=True):\n",
      "        align(\"q1.resonator\", \"q1.xy\", \"q1.z\")\n",
      "        play(\"x90_DragCosine\", \"q1.xy\")\n",
      "        align(\"q1.resonator\", \"q1.xy\", \"q1.z\")\n",
      "    with elif_((v1==1)):\n",
      "        align(\"q1.resonator\", \"q1.xy\", \"q1.z\")\n",
      "        frame_rotation_2pi(1.5707963267948966, \"q1.xy\")\n",
      "        align(\"q1.resonator\", \"q1.xy\", \"q1.z\")\n",
      "        align(\"q1.resonator\", \"q1.xy\", \"q1.z\")\n",
      "        play(\"x90_DragCosine\", \"q1.xy\")\n",
      "        align(\"q1.resonator\", \"q1.xy\", \"q1.z\")\n",
      "        align(\"q1.resonator\", \"q1.xy\", \"q1.z\")\n",
      "        frame_rotation_2pi(-1.570796326794897, \"q1.xy\")\n",
      "        align(\"q1.resonator\", \"q1.xy\", \"q1.z\")\n",
      "    align(\"q1.resonator\", \"q1.xy\", \"q1.z\")\n",
      "    measure(\"readout\", \"q1.resonator\", dual_demod.full(\"iw1\", \"iw2\", v3), dual_demod.full(\"iw3\", \"iw1\", v4))\n",
      "    assign(v2, Cast.to_int((v3>-1.628262415766392e-05)))\n",
      "    align(\"q1.resonator\", \"q1.xy\", \"q1.z\")\n",
      "    assign(a1[0], v2)\n",
      "\n",
      "config = None\n",
      "\n",
      "loaded_config = None\n",
      "\n",
      "\n"
     ]
    }
   ],
   "execution_count": 15
  },
  {
   "metadata": {
    "ExecuteTime": {
     "end_time": "2025-05-13T09:33:20.164461Z",
     "start_time": "2025-05-13T09:33:20.070302Z"
    }
   },
   "cell_type": "code",
   "source": [
    "from qiskit import QuantumCircuit, QuantumRegister, ClassicalRegister\n",
    "from qiskit.primitives import StatevectorSampler\n",
    "from qiskit.providers.basic_provider import BasicSimulator\n",
    "from qiskit_ibm_runtime.fake_provider import FakeJakartaV2\n",
    "from qiskit import transpile\n",
    "qreg = QuantumRegister(2, \"q\")\n",
    "c1 = ClassicalRegister(2, \"c1\")\n",
    "c2 = ClassicalRegister(1, \"c2\")\n",
    "qc = QuantumCircuit(qreg, c1, c2)\n",
    "qc.x(0)\n",
    "qc.x(1)\n",
    "qc.measure(0, c1[0])\n",
    "qc.measure(0, c1[1])\n",
    "qc.measure(1, c2[0])\n",
    "\n",
    "sampler = StatevectorSampler()\n",
    "job = sampler.run([(qc,)], shots=1000)\n",
    "result = job.result()\n",
    "fake_backend = FakeJakartaV2()\n",
    "transpiled_circuit = transpile(qc, backend=fake_backend)\n",
    "result2 = FakeJakartaV2().run([transpiled_circuit, transpiled_circuit], shots=1000).result()"
   ],
   "id": "7a445f61519ce759",
   "outputs": [],
   "execution_count": 106
  },
  {
   "metadata": {
    "ExecuteTime": {
     "end_time": "2025-05-13T09:33:21.848655Z",
     "start_time": "2025-05-13T09:33:21.769978Z"
    }
   },
   "cell_type": "code",
   "source": "transpiled_circuit.draw(\"mpl\")",
   "id": "295da8db36e0d3f6",
   "outputs": [
    {
     "data": {
      "text/plain": [
       "<Figure size 583.515x785.944 with 1 Axes>"
      ],
      "image/png": "[encoded data removed]"
     },
     "execution_count": 107,
     "metadata": {},
     "output_type": "execute_result"
    }
   ],
   "execution_count": 107
  },
  {
   "metadata": {
    "ExecuteTime": {
     "end_time": "2025-05-13T09:35:30.234848Z",
     "start_time": "2025-05-13T09:35:30.232139Z"
    }
   },
   "cell_type": "code",
   "source": "result[0].data.c1.get_counts()",
   "id": "9d104671bf6e06f2",
   "outputs": [
    {
     "data": {
      "text/plain": [
       "{'11': 1000}"
      ]
     },
     "execution_count": 115,
     "metadata": {},
     "output_type": "execute_result"
    }
   ],
   "execution_count": 115
  },
  {
   "metadata": {
    "ExecuteTime": {
     "end_time": "2025-05-13T09:33:55.018693Z",
     "start_time": "2025-05-13T09:33:55.015828Z"
    }
   },
   "cell_type": "code",
   "source": "result2.get_counts()",
   "id": "243a0a7e431049f2",
   "outputs": [
    {
     "data": {
      "text/plain": [
       "[{'0 01': 1, '0 11': 16, '1 10': 20, '1 01': 28, '1 11': 935},\n",
       " {'1 10': 23, '1 01': 16, '0 11': 18, '1 11': 943}]"
      ]
     },
     "execution_count": 111,
     "metadata": {},
     "output_type": "execute_result"
    }
   ],
   "execution_count": 111
  },
  {
   "metadata": {
    "ExecuteTime": {
     "end_time": "2025-05-13T09:38:15.365169Z",
     "start_time": "2025-05-13T09:38:15.362192Z"
    }
   },
   "cell_type": "code",
   "source": "result2",
   "id": "2ff4d119b152a697",
   "outputs": [
    {
     "data": {
      "text/plain": [
       "Result(backend_name='aer_simulator', backend_version='0.17.0', qobj_id='', job_id='8d7895d3-9053-4a79-a758-99d1d1ab6e89', success=True, results=[ExperimentResult(shots=1000, success=True, meas_level=2, data=ExperimentResultData(counts={'0x1': 1, '0x3': 16, '0x6': 20, '0x5': 28, '0x7': 935}), header=QobjExperimentHeader(creg_sizes=[['c1', 2], ['c2', 1]], global_phase=0.0, memory_slots=3, n_qubits=7, name='circuit-2763', qreg_sizes=[['q', 7]], metadata={}), status=DONE, seed_simulator=3045177010, metadata={'num_bind_params': 1, 'runtime_parameter_bind': False, 'parallel_state_update': 12, 'parallel_shots': 1, 'sample_measure_time': 9.5791e-05, 'noise': 'superop', 'batched_shots_optimization': False, 'remapped_qubits': True, 'active_input_qubits': [1, 2], 'device': 'CPU', 'time_taken': 0.00073275, 'measure_sampling': True, 'num_clbits': 3, 'max_memory_mb': 18432, 'input_qubit_map': [[2, 1], [1, 0]], 'num_qubits': 2, 'method': 'density_matrix', 'required_memory_mb': 1, 'fusion': {'enabled': True, 'threshold': 7, 'applied': False, 'max_fused_qubits': 2}}, time_taken=0.00073275), ExperimentResult(shots=1000, success=True, meas_level=2, data=ExperimentResultData(counts={'0x6': 23, '0x5': 16, '0x3': 18, '0x7': 943}), header=QobjExperimentHeader(creg_sizes=[['c1', 2], ['c2', 1]], global_phase=0.0, memory_slots=3, n_qubits=7, name='circuit-2763', qreg_sizes=[['q', 7]], metadata={}), status=DONE, seed_simulator=3045179123, metadata={'num_bind_params': 1, 'runtime_parameter_bind': False, 'parallel_state_update': 12, 'parallel_shots': 1, 'sample_measure_time': 3.6333e-05, 'noise': 'superop', 'batched_shots_optimization': False, 'remapped_qubits': True, 'active_input_qubits': [1, 2], 'device': 'CPU', 'time_taken': 0.000583, 'measure_sampling': True, 'num_clbits': 3, 'max_memory_mb': 18432, 'input_qubit_map': [[2, 1], [1, 0]], 'num_qubits': 2, 'method': 'density_matrix', 'required_memory_mb': 1, 'fusion': {'enabled': True, 'threshold': 7, 'applied': False, 'max_fused_qubits': 2}}, time_taken=0.000583)], date=2025-05-13T17:33:20.163265, status=COMPLETED, header=None, metadata={'time_taken_parameter_binding': 8.208e-06, 'max_memory_mb': 18432, 'time_taken_execute': 0.002563417, 'omp_enabled': True, 'max_gpu_memory_mb': 0, 'parallel_experiments': 1}, time_taken=0.01796102523803711)"
      ]
     },
     "execution_count": 116,
     "metadata": {},
     "output_type": "execute_result"
    }
   ],
   "execution_count": 116
  },
  {
   "metadata": {
    "ExecuteTime": {
     "end_time": "2025-05-13T03:28:11.198890Z",
     "start_time": "2025-05-13T03:28:11.191702Z"
    }
   },
   "cell_type": "code",
   "source": "qc.find_bit(qc.clbits[0])",
   "id": "b2c5d0800522446f",
   "outputs": [
    {
     "data": {
      "text/plain": [
       "BitLocations(index=0, registers=[(ClassicalRegister(3, 'c1'), 0)])"
      ]
     },
     "execution_count": 38,
     "metadata": {},
     "output_type": "execute_result"
    }
   ],
   "execution_count": 38
  },
  {
   "metadata": {
    "ExecuteTime": {
     "end_time": "2025-05-13T04:07:51.263244Z",
     "start_time": "2025-05-13T04:07:51.260155Z"
    }
   },
   "cell_type": "code",
   "source": [
    "from qiskit.circuit import ClassicalRegister, Clbit, QuantumRegister\n",
    "qreg = QuantumRegister(2,\"q\")\n",
    "clbit = Clbit()\n",
    "clbit2 = Clbit()\n",
    "qc = QuantumCircuit(qreg, [clbit, clbit2])\n",
    "qc.x(0)\n",
    "qc.measure(0, clbit)\n",
    "qc.measure(1, clbit2)\n",
    "qc.clbits"
   ],
   "id": "fc4d23d2ba1b6ace",
   "outputs": [
    {
     "data": {
      "text/plain": [
       "[<qiskit.circuit.classicalregister.Clbit object at 0x390ff6ac0>,\n",
       " <qiskit.circuit.classicalregister.Clbit object at 0x391336740>]"
      ]
     },
     "execution_count": 48,
     "metadata": {},
     "output_type": "execute_result"
    }
   ],
   "execution_count": 48
  },
  {
   "metadata": {
    "ExecuteTime": {
     "end_time": "2025-05-13T04:07:57.744357Z",
     "start_time": "2025-05-13T04:07:57.697233Z"
    }
   },
   "cell_type": "code",
   "source": "qc.draw(\"mpl\")",
   "id": "53a684f36ecb64ef",
   "outputs": [
    {
     "data": {
      "text/plain": [
       "<Figure size 287.294x367.889 with 1 Axes>"
      ],
      "image/png": "[encoded data removed]"
     },
     "execution_count": 49,
     "metadata": {},
     "output_type": "execute_result"
    }
   ],
   "execution_count": 49
  },
  {
   "metadata": {
    "ExecuteTime": {
     "end_time": "2025-05-13T04:09:23.612198Z",
     "start_time": "2025-05-13T04:09:23.609095Z"
    }
   },
   "cell_type": "code",
   "source": "print(exporter.dumps(qc))",
   "id": "ad2e2ebc071a3251",
   "outputs": [
    {
     "name": "stdout",
     "output_type": "stream",
     "text": [
      "OPENQASM 3.0;\n",
      "gate u3(p0, p1, p2) _gate_q_0 {\n",
      "  U(p0, p1, p2) _gate_q_0;\n",
      "}\n",
      "gate x _gate_q_0 {\n",
      "  u3(3.141592653589793, 0, 3.141592653589793) _gate_q_0;\n",
      "}\n",
      "bit[3] c1;\n",
      "bit[3] c2;\n",
      "qubit[2] q;\n",
      "x q[0];\n",
      "x q[1];\n",
      "c1[0] = measure q[0];\n",
      "c1[1] = measure q[0];\n",
      "c2[0] = measure q[1];\n",
      "\n"
     ]
    }
   ],
   "execution_count": 53
  },
  {
   "metadata": {
    "ExecuteTime": {
     "end_time": "2025-05-15T07:04:53.757810Z",
     "start_time": "2025-05-15T07:04:51.292Z"
    }
   },
   "cell_type": "code",
   "source": [
    "from pathlib import Path\n",
    "import json\n",
    "from qiskit_qm_provider import ParameterPool\n",
    "\n",
    "path = Path.home() / \"qm_saas_config.json\"\n",
    "with open(path, \"r\") as f:\n",
    "    config = json.load(f)\n",
    "email = config[\"email\"]\n",
    "password = config[\"password\"]\n",
    "# Initialize QOP simulator client\n",
    "client = QmSaas(email=email, password=password, host=\"qm-saas.dev.quantum-machines.co\")\n",
    "\n",
    "# Choose your QOP version (QOP2.x.y or QOP3.x.y)\n",
    "version = QoPVersion.latest\n",
    "client.close_all()"
   ],
   "id": "fab8ddfc7b5b30eb",
   "outputs": [],
   "execution_count": 5
  },
  {
   "metadata": {
    "ExecuteTime": {
     "end_time": "2025-05-15T07:05:08.961254Z",
     "start_time": "2025-05-15T07:04:53.801564Z"
    }
   },
   "cell_type": "code",
   "source": [
    "from qm import SimulationConfig, LoopbackInterface\n",
    "config = machine.generate_config()\n",
    "instance = client.simulator(version=version)\n",
    "instance.spawn()\n",
    "# Initialize QuantumMachinesManager with the simulation instance details\n",
    "qmm = QuantumMachinesManager(\n",
    "    host=instance.host,\n",
    "    port=instance.port,\n",
    "    connection_headers=instance.default_connection_headers,\n",
    ")\n",
    "simulation_config = SimulationConfig(int(10000), include_analog_waveforms=True)\n",
    "backend.qmm = qmm\n",
    "backend.set_options(simulate=simulation_config)\n"
   ],
   "id": "76abe2ebc608cb75",
   "outputs": [
    {
     "name": "stdout",
     "output_type": "stream",
     "text": [
      "2025-05-15 15:05:08,637 - qm - INFO     - Performing health check\n",
      "2025-05-15 15:05:08 INFO Performing health check\n",
      "2025-05-15 15:05:08,958 - qm - INFO     - Cluster healthcheck completed successfully.\n",
      "2025-05-15 15:05:08 INFO Cluster healthcheck completed successfully.\n"
     ]
    }
   ],
   "execution_count": 6
  },
  {
   "metadata": {
    "ExecuteTime": {
     "end_time": "2025-05-15T07:05:27.614219Z",
     "start_time": "2025-05-15T07:05:27.609019Z"
    }
   },
   "cell_type": "code",
   "source": "backend._qmm",
   "id": "6a56be35e18de352",
   "outputs": [
    {
     "data": {
      "text/plain": [
       "<qm.quantum_machines_manager.QuantumMachinesManager at 0x387536d90>"
      ]
     },
     "execution_count": 7,
     "metadata": {},
     "output_type": "execute_result"
    }
   ],
   "execution_count": 7
  },
  {
   "metadata": {
    "ExecuteTime": {
     "end_time": "2025-05-15T07:02:50.009422Z",
     "start_time": "2025-05-15T07:02:49.864608Z"
    }
   },
   "cell_type": "code",
   "source": [
    "\n",
    "qc = QuantumCircuit(2)\n",
    "qc.x(0)\n",
    "qc.cz(0, 1)\n",
    "\n",
    "qc.measure_all()\n",
    "qc = transpile(qc, backend=backend, optimization_level=0)"
   ],
   "id": "b197f666968bd1ce",
   "outputs": [],
   "execution_count": 2
  },
  {
   "metadata": {
    "ExecuteTime": {
     "end_time": "2025-05-15T07:02:50.454944Z",
     "start_time": "2025-05-15T07:02:50.227677Z"
    }
   },
   "cell_type": "code",
   "source": "qc.draw(\"mpl\")",
   "id": "fe82c024c9e6f923",
   "outputs": [
    {
     "data": {
      "text/plain": [
       "<Figure size 667.126x535.111 with 1 Axes>"
      ],
      "image/png": "[encoded data removed]"
     },
     "execution_count": 3,
     "metadata": {},
     "output_type": "execute_result"
    }
   ],
   "execution_count": 3
  },
  {
   "metadata": {
    "ExecuteTime": {
     "end_time": "2025-05-15T07:11:15.649578Z",
     "start_time": "2025-05-15T07:11:15.637071Z"
    }
   },
   "cell_type": "code",
   "source": [
    "from qiskit.qasm3 import Exporter\n",
    "\n",
    "exporter = Exporter(includes=(), disable_constants=True)\n",
    "\n",
    "print(exporter.dumps(qc))"
   ],
   "id": "38f4da2108ef10c5",
   "outputs": [
    {
     "name": "stdout",
     "output_type": "stream",
     "text": [
      "OPENQASM 3.0;\n",
      "gate u3(p0, p1, p2) _gate_q_0 {\n",
      "  U(p0, p1, p2) _gate_q_0;\n",
      "}\n",
      "gate x _gate_q_0 {\n",
      "  u3(3.141592653589793, 0, 3.141592653589793) _gate_q_0;\n",
      "}\n",
      "gate u2(p0, p1) _gate_q_0 {\n",
      "  u3(1.5707963267948966, p0, p1) _gate_q_0;\n",
      "}\n",
      "gate h _gate_q_0 {\n",
      "  u2(0, 3.141592653589793) _gate_q_0;\n",
      "}\n",
      "gate cx c, t {\n",
      "  ctrl @ U(pi, 0, pi) c, t;\n",
      "}\n",
      "gate cz _gate_q_0, _gate_q_1 {\n",
      "  h _gate_q_1;\n",
      "  cx _gate_q_0, _gate_q_1;\n",
      "  h _gate_q_1;\n",
      "}\n",
      "bit[2] meas;\n",
      "x $0;\n",
      "cz $0, $1;\n",
      "barrier $0, $1;\n",
      "meas[0] = measure $0;\n",
      "meas[1] = measure $1;\n",
      "\n"
     ]
    }
   ],
   "execution_count": 9
  },
  {
   "metadata": {
    "ExecuteTime": {
     "end_time": "2025-05-15T07:05:55.437658Z",
     "start_time": "2025-05-15T07:05:32.809496Z"
    }
   },
   "cell_type": "code",
   "source": "backend.run(qc, shots=1000).result()",
   "id": "9355492b782ac8e6",
   "outputs": [
    {
     "name": "stderr",
     "output_type": "stream",
     "text": [
      "/Users/arthurostrauss/anaconda3/envs/rl_qoc/lib/python3.11/site-packages/qm/program/_qua_config_schema.py:1956: DeprecationWarning: 'version' is deprecated since \"1.2.2\" and will be removed in \"1.3.0\". Please remove it from the Qua config.\n",
      "  warnings.warn(\n"
     ]
    },
    {
     "name": "stdout",
     "output_type": "stream",
     "text": [
      "2025-05-15 15:05:35,318 - qm - INFO     - Simulating program.\n",
      "2025-05-15 15:05:35 INFO Simulating program.\n"
     ]
    },
    {
     "ename": "QMConnectionError",
     "evalue": "Encountered connection error from QOP: details: Internal Server Error, status: Status.UNKNOWN",
     "output_type": "error",
     "traceback": [
      "\u001B[0;31m---------------------------------------------------------------------------\u001B[0m",
      "\u001B[0;31mGRPCError\u001B[0m                                 Traceback (most recent call last)",
      "File \u001B[0;32m~/anaconda3/envs/rl_qoc/lib/python3.11/site-packages/qm/api/base_api.py:47\u001B[0m, in \u001B[0;36m_handle_connection_error\u001B[0;34m(timeout)\u001B[0m\n\u001B[1;32m     46\u001B[0m \u001B[38;5;28;01mtry\u001B[39;00m:\n\u001B[0;32m---> 47\u001B[0m     \u001B[38;5;28;01myield\u001B[39;00m\n\u001B[1;32m     48\u001B[0m \u001B[38;5;28;01mexcept\u001B[39;00m grpclib\u001B[38;5;241m.\u001B[39mexceptions\u001B[38;5;241m.\u001B[39mGRPCError \u001B[38;5;28;01mas\u001B[39;00m e:\n",
      "File \u001B[0;32m~/anaconda3/envs/rl_qoc/lib/python3.11/site-packages/qm/api/base_api.py:105\u001B[0m, in \u001B[0;36mBaseApi._run\u001B[0;34m(self, coroutine, timeout)\u001B[0m\n\u001B[1;32m    104\u001B[0m \u001B[38;5;28;01mwith\u001B[39;00m _handle_connection_error(timeout):\n\u001B[0;32m--> 105\u001B[0m     \u001B[38;5;28;01mreturn\u001B[39;00m run_async(coroutine)\n",
      "File \u001B[0;32m~/anaconda3/envs/rl_qoc/lib/python3.11/site-packages/qm/utils/async_utils.py:38\u001B[0m, in \u001B[0;36mrun_async\u001B[0;34m(coroutine)\u001B[0m\n\u001B[1;32m     37\u001B[0m \u001B[38;5;28;01mdef\u001B[39;00m \u001B[38;5;21mrun_async\u001B[39m(coroutine: Coroutine[Any, Any, T]) \u001B[38;5;241m-\u001B[39m\u001B[38;5;241m>\u001B[39m T:\n\u001B[0;32m---> 38\u001B[0m     \u001B[38;5;28;01mreturn\u001B[39;00m create_future(coroutine)\u001B[38;5;241m.\u001B[39mresult()\n",
      "File \u001B[0;32m~/anaconda3/envs/rl_qoc/lib/python3.11/concurrent/futures/_base.py:456\u001B[0m, in \u001B[0;36mFuture.result\u001B[0;34m(self, timeout)\u001B[0m\n\u001B[1;32m    455\u001B[0m \u001B[38;5;28;01melif\u001B[39;00m \u001B[38;5;28mself\u001B[39m\u001B[38;5;241m.\u001B[39m_state \u001B[38;5;241m==\u001B[39m FINISHED:\n\u001B[0;32m--> 456\u001B[0m     \u001B[38;5;28;01mreturn\u001B[39;00m \u001B[38;5;28mself\u001B[39m\u001B[38;5;241m.\u001B[39m__get_result()\n\u001B[1;32m    457\u001B[0m \u001B[38;5;28;01melse\u001B[39;00m:\n",
      "File \u001B[0;32m~/anaconda3/envs/rl_qoc/lib/python3.11/concurrent/futures/_base.py:401\u001B[0m, in \u001B[0;36mFuture.__get_result\u001B[0;34m(self)\u001B[0m\n\u001B[1;32m    400\u001B[0m \u001B[38;5;28;01mtry\u001B[39;00m:\n\u001B[0;32m--> 401\u001B[0m     \u001B[38;5;28;01mraise\u001B[39;00m \u001B[38;5;28mself\u001B[39m\u001B[38;5;241m.\u001B[39m_exception\n\u001B[1;32m    402\u001B[0m \u001B[38;5;28;01mfinally\u001B[39;00m:\n\u001B[1;32m    403\u001B[0m     \u001B[38;5;66;03m# Break a reference cycle with the exception in self._exception\u001B[39;00m\n",
      "File \u001B[0;32m~/anaconda3/envs/rl_qoc/lib/python3.11/site-packages/qm/grpc/v2/__init__.py:1997\u001B[0m, in \u001B[0;36mQmServiceStub.simulate\u001B[0;34m(self, qm_service_simulate_request, timeout, deadline, metadata)\u001B[0m\n\u001B[1;32m   1989\u001B[0m \u001B[38;5;28;01masync\u001B[39;00m \u001B[38;5;28;01mdef\u001B[39;00m \u001B[38;5;21msimulate\u001B[39m(\n\u001B[1;32m   1990\u001B[0m     \u001B[38;5;28mself\u001B[39m,\n\u001B[1;32m   1991\u001B[0m     qm_service_simulate_request: \u001B[38;5;124m\"\u001B[39m\u001B[38;5;124mQmServiceSimulateRequest\u001B[39m\u001B[38;5;124m\"\u001B[39m,\n\u001B[0;32m   (...)\u001B[0m\n\u001B[1;32m   1995\u001B[0m     metadata: Optional[\u001B[38;5;124m\"\u001B[39m\u001B[38;5;124mMetadataLike\u001B[39m\u001B[38;5;124m\"\u001B[39m] \u001B[38;5;241m=\u001B[39m \u001B[38;5;28;01mNone\u001B[39;00m\n\u001B[1;32m   1996\u001B[0m ) \u001B[38;5;241m-\u001B[39m\u001B[38;5;241m>\u001B[39m \u001B[38;5;124m\"\u001B[39m\u001B[38;5;124mQmServiceSimulateResponse\u001B[39m\u001B[38;5;124m\"\u001B[39m:\n\u001B[0;32m-> 1997\u001B[0m     \u001B[38;5;28;01mreturn\u001B[39;00m \u001B[38;5;28;01mawait\u001B[39;00m \u001B[38;5;28mself\u001B[39m\u001B[38;5;241m.\u001B[39m_unary_unary(\n\u001B[1;32m   1998\u001B[0m         \u001B[38;5;124m\"\u001B[39m\u001B[38;5;124m/qm.grpc.v2.QmService/Simulate\u001B[39m\u001B[38;5;124m\"\u001B[39m,\n\u001B[1;32m   1999\u001B[0m         qm_service_simulate_request,\n\u001B[1;32m   2000\u001B[0m         QmServiceSimulateResponse,\n\u001B[1;32m   2001\u001B[0m         timeout\u001B[38;5;241m=\u001B[39mtimeout,\n\u001B[1;32m   2002\u001B[0m         deadline\u001B[38;5;241m=\u001B[39mdeadline,\n\u001B[1;32m   2003\u001B[0m         metadata\u001B[38;5;241m=\u001B[39mmetadata,\n\u001B[1;32m   2004\u001B[0m     )\n",
      "File \u001B[0;32m~/anaconda3/envs/rl_qoc/lib/python3.11/site-packages/betterproto/grpc/grpclib_client.py:85\u001B[0m, in \u001B[0;36mServiceStub._unary_unary\u001B[0;34m(self, route, request, response_type, timeout, deadline, metadata)\u001B[0m\n\u001B[1;32m     84\u001B[0m     \u001B[38;5;28;01mawait\u001B[39;00m stream\u001B[38;5;241m.\u001B[39msend_message(request, end\u001B[38;5;241m=\u001B[39m\u001B[38;5;28;01mTrue\u001B[39;00m)\n\u001B[0;32m---> 85\u001B[0m     response \u001B[38;5;241m=\u001B[39m \u001B[38;5;28;01mawait\u001B[39;00m stream\u001B[38;5;241m.\u001B[39mrecv_message()\n\u001B[1;32m     86\u001B[0m \u001B[38;5;28;01massert\u001B[39;00m response \u001B[38;5;129;01mis\u001B[39;00m \u001B[38;5;129;01mnot\u001B[39;00m \u001B[38;5;28;01mNone\u001B[39;00m\n",
      "File \u001B[0;32m~/anaconda3/envs/rl_qoc/lib/python3.11/site-packages/grpclib/client.py:425\u001B[0m, in \u001B[0;36mStream.recv_message\u001B[0;34m(self)\u001B[0m\n\u001B[1;32m    424\u001B[0m \u001B[38;5;28;01mif\u001B[39;00m \u001B[38;5;129;01mnot\u001B[39;00m \u001B[38;5;28mself\u001B[39m\u001B[38;5;241m.\u001B[39m_recv_initial_metadata_done:\n\u001B[0;32m--> 425\u001B[0m     \u001B[38;5;28;01mawait\u001B[39;00m \u001B[38;5;28mself\u001B[39m\u001B[38;5;241m.\u001B[39mrecv_initial_metadata()\n\u001B[1;32m    427\u001B[0m \u001B[38;5;28;01mwith\u001B[39;00m \u001B[38;5;28mself\u001B[39m\u001B[38;5;241m.\u001B[39m_wrapper:\n",
      "File \u001B[0;32m~/anaconda3/envs/rl_qoc/lib/python3.11/site-packages/grpclib/client.py:393\u001B[0m, in \u001B[0;36mStream.recv_initial_metadata\u001B[0;34m(self)\u001B[0m\n\u001B[1;32m    391\u001B[0m     \u001B[38;5;28mself\u001B[39m\u001B[38;5;241m.\u001B[39mtrailing_metadata \u001B[38;5;241m=\u001B[39m tm\n\u001B[0;32m--> 393\u001B[0m     \u001B[38;5;28mself\u001B[39m\u001B[38;5;241m.\u001B[39m_raise_for_grpc_status(status, message, details)\n\u001B[1;32m    394\u001B[0m \u001B[38;5;28;01melse\u001B[39;00m:\n",
      "File \u001B[0;32m~/anaconda3/envs/rl_qoc/lib/python3.11/site-packages/grpclib/client.py:345\u001B[0m, in \u001B[0;36mStream._raise_for_grpc_status\u001B[0;34m(self, status, message, details)\u001B[0m\n\u001B[1;32m    344\u001B[0m \u001B[38;5;28;01mif\u001B[39;00m status \u001B[38;5;129;01mis\u001B[39;00m \u001B[38;5;129;01mnot\u001B[39;00m Status\u001B[38;5;241m.\u001B[39mOK:\n\u001B[0;32m--> 345\u001B[0m     \u001B[38;5;28;01mraise\u001B[39;00m GRPCError(status, message, details)\n",
      "\u001B[0;31mGRPCError\u001B[0m: (<Status.UNKNOWN: 2>, 'Internal Server Error', None)",
      "\nThe above exception was the direct cause of the following exception:\n",
      "\u001B[0;31mQMConnectionError\u001B[0m                         Traceback (most recent call last)",
      "Cell \u001B[0;32mIn[8], line 1\u001B[0m\n\u001B[0;32m----> 1\u001B[0m backend\u001B[38;5;241m.\u001B[39mrun(qc, shots\u001B[38;5;241m=\u001B[39m\u001B[38;5;241m1000\u001B[39m)\u001B[38;5;241m.\u001B[39mresult()\n",
      "File \u001B[0;32m~/Library/CloudStorage/OneDrive-QMMachinesLTD/GitHub/qiskit-qm-provider/qiskit_qm_provider/qm_backend.py:486\u001B[0m, in \u001B[0;36mQMBackend.run\u001B[0;34m(self, run_input, **options)\u001B[0m\n\u001B[1;32m    474\u001B[0m     \u001B[38;5;28;01mreturn\u001B[39;00m result\n\u001B[1;32m    476\u001B[0m job \u001B[38;5;241m=\u001B[39m QMJob(\n\u001B[1;32m    477\u001B[0m     \u001B[38;5;28mself\u001B[39m,\n\u001B[1;32m    478\u001B[0m     \u001B[38;5;28mid\u001B[39m,\n\u001B[0;32m   (...)\u001B[0m\n\u001B[1;32m    483\u001B[0m     result_function\u001B[38;5;241m=\u001B[39mresult_function,\n\u001B[1;32m    484\u001B[0m )\n\u001B[0;32m--> 486\u001B[0m job\u001B[38;5;241m.\u001B[39msubmit()\n\u001B[1;32m    487\u001B[0m \u001B[38;5;28mself\u001B[39m\u001B[38;5;241m.\u001B[39m_operation_mapping_QUA \u001B[38;5;241m=\u001B[39m \u001B[38;5;28mself\u001B[39m\u001B[38;5;241m.\u001B[39m_ref_operation_mapping_QUA\u001B[38;5;241m.\u001B[39mcopy()\n\u001B[1;32m    488\u001B[0m \u001B[38;5;28;01mreturn\u001B[39;00m job\n",
      "File \u001B[0;32m~/Library/CloudStorage/OneDrive-QMMachinesLTD/GitHub/qiskit-qm-provider/qiskit_qm_provider/qm_job.py:61\u001B[0m, in \u001B[0;36mQMJob.submit\u001B[0;34m(self)\u001B[0m\n\u001B[1;32m     58\u001B[0m simulate \u001B[38;5;241m=\u001B[39m \u001B[38;5;28mself\u001B[39m\u001B[38;5;241m.\u001B[39mmetadata\u001B[38;5;241m.\u001B[39mget(\u001B[38;5;124m\"\u001B[39m\u001B[38;5;124msimulate\u001B[39m\u001B[38;5;124m\"\u001B[39m, \u001B[38;5;28;01mNone\u001B[39;00m)\n\u001B[1;32m     60\u001B[0m \u001B[38;5;28;01mif\u001B[39;00m \u001B[38;5;28misinstance\u001B[39m(simulate, SimulationConfig):\n\u001B[0;32m---> 61\u001B[0m     \u001B[38;5;28mself\u001B[39m\u001B[38;5;241m.\u001B[39m_qm_job \u001B[38;5;241m=\u001B[39m \u001B[38;5;28mself\u001B[39m\u001B[38;5;241m.\u001B[39mqm\u001B[38;5;241m.\u001B[39msimulate(\n\u001B[1;32m     62\u001B[0m         \u001B[38;5;28mself\u001B[39m\u001B[38;5;241m.\u001B[39mprogram, simulate\u001B[38;5;241m=\u001B[39msimulate, compiler_options\u001B[38;5;241m=\u001B[39mcompiler_options\n\u001B[1;32m     63\u001B[0m     )\n\u001B[1;32m     64\u001B[0m \u001B[38;5;28;01melse\u001B[39;00m:\n\u001B[1;32m     65\u001B[0m     \u001B[38;5;28;01mif\u001B[39;00m \u001B[38;5;28misinstance\u001B[39m(\u001B[38;5;28mself\u001B[39m\u001B[38;5;241m.\u001B[39mprogram, \u001B[38;5;28mlist\u001B[39m):\n",
      "File \u001B[0;32m~/anaconda3/envs/rl_qoc/lib/python3.11/site-packages/qm/api/v2/qm_api.py:431\u001B[0m, in \u001B[0;36mQmApi.simulate\u001B[0;34m(self, program, simulate, compiler_options, config, strict, flags)\u001B[0m\n\u001B[1;32m    428\u001B[0m logger\u001B[38;5;241m.\u001B[39minfo(\u001B[38;5;124m\"\u001B[39m\u001B[38;5;124mSimulating program.\u001B[39m\u001B[38;5;124m\"\u001B[39m)\n\u001B[1;32m    430\u001B[0m \u001B[38;5;28;01mwith\u001B[39;00m handle_simulation_error():\n\u001B[0;32m--> 431\u001B[0m     response \u001B[38;5;241m=\u001B[39m \u001B[38;5;28mself\u001B[39m\u001B[38;5;241m.\u001B[39m_run(\u001B[38;5;28mself\u001B[39m\u001B[38;5;241m.\u001B[39m_stub\u001B[38;5;241m.\u001B[39msimulate(request, timeout\u001B[38;5;241m=\u001B[39m\u001B[38;5;28mself\u001B[39m\u001B[38;5;241m.\u001B[39m_timeout))\n\u001B[1;32m    433\u001B[0m _log_messages(response\u001B[38;5;241m.\u001B[39mmessages)\n\u001B[1;32m    435\u001B[0m \u001B[38;5;28;01mreturn\u001B[39;00m \u001B[38;5;28mself\u001B[39m\u001B[38;5;241m.\u001B[39m_get_simulated_job(response\u001B[38;5;241m.\u001B[39mjob_id, response\u001B[38;5;241m.\u001B[39msimulated)\n",
      "File \u001B[0;32m~/anaconda3/envs/rl_qoc/lib/python3.11/site-packages/qm/api/v2/base_api_v2.py:19\u001B[0m, in \u001B[0;36mBaseApiV2._run\u001B[0;34m(self, coroutine, timeout)\u001B[0m\n\u001B[1;32m     18\u001B[0m \u001B[38;5;28;01mdef\u001B[39;00m \u001B[38;5;21m_run\u001B[39m(\u001B[38;5;28mself\u001B[39m, coroutine: Coroutine[Any, Any, ResponseProtocol[SuccessType, ErrorType]], timeout: Optional[\u001B[38;5;28mfloat\u001B[39m] \u001B[38;5;241m=\u001B[39m \u001B[38;5;28;01mNone\u001B[39;00m) \u001B[38;5;241m-\u001B[39m\u001B[38;5;241m>\u001B[39m SuccessType:  \u001B[38;5;66;03m# type: ignore[override]\u001B[39;00m\n\u001B[0;32m---> 19\u001B[0m     response \u001B[38;5;241m=\u001B[39m \u001B[38;5;28msuper\u001B[39m()\u001B[38;5;241m.\u001B[39m_run(coroutine, timeout)  \u001B[38;5;66;03m# type: ignore[type-var]\u001B[39;00m\n\u001B[1;32m     20\u001B[0m     \u001B[38;5;28;01mif\u001B[39;00m response\u001B[38;5;241m.\u001B[39mis_set(\u001B[38;5;124m\"\u001B[39m\u001B[38;5;124msuccess\u001B[39m\u001B[38;5;124m\"\u001B[39m):  \u001B[38;5;66;03m# type: ignore[attr-defined]\u001B[39;00m\n\u001B[1;32m     21\u001B[0m         \u001B[38;5;28;01mreturn\u001B[39;00m response\u001B[38;5;241m.\u001B[39msuccess\n",
      "File \u001B[0;32m~/anaconda3/envs/rl_qoc/lib/python3.11/site-packages/qm/api/base_api.py:104\u001B[0m, in \u001B[0;36mBaseApi._run\u001B[0;34m(self, coroutine, timeout)\u001B[0m\n\u001B[1;32m    101\u001B[0m \u001B[38;5;28;01mif\u001B[39;00m timeout \u001B[38;5;129;01mis\u001B[39;00m \u001B[38;5;28;01mNone\u001B[39;00m:\n\u001B[1;32m    102\u001B[0m     timeout \u001B[38;5;241m=\u001B[39m \u001B[38;5;28mself\u001B[39m\u001B[38;5;241m.\u001B[39m_timeout\n\u001B[0;32m--> 104\u001B[0m \u001B[38;5;28;01mwith\u001B[39;00m _handle_connection_error(timeout):\n\u001B[1;32m    105\u001B[0m     \u001B[38;5;28;01mreturn\u001B[39;00m run_async(coroutine)\n",
      "File \u001B[0;32m~/anaconda3/envs/rl_qoc/lib/python3.11/contextlib.py:158\u001B[0m, in \u001B[0;36m_GeneratorContextManager.__exit__\u001B[0;34m(self, typ, value, traceback)\u001B[0m\n\u001B[1;32m    156\u001B[0m     value \u001B[38;5;241m=\u001B[39m typ()\n\u001B[1;32m    157\u001B[0m \u001B[38;5;28;01mtry\u001B[39;00m:\n\u001B[0;32m--> 158\u001B[0m     \u001B[38;5;28mself\u001B[39m\u001B[38;5;241m.\u001B[39mgen\u001B[38;5;241m.\u001B[39mthrow(typ, value, traceback)\n\u001B[1;32m    159\u001B[0m \u001B[38;5;28;01mexcept\u001B[39;00m \u001B[38;5;167;01mStopIteration\u001B[39;00m \u001B[38;5;28;01mas\u001B[39;00m exc:\n\u001B[1;32m    160\u001B[0m     \u001B[38;5;66;03m# Suppress StopIteration *unless* it's the same exception that\u001B[39;00m\n\u001B[1;32m    161\u001B[0m     \u001B[38;5;66;03m# was passed to throw().  This prevents a StopIteration\u001B[39;00m\n\u001B[1;32m    162\u001B[0m     \u001B[38;5;66;03m# raised inside the \"with\" statement from being suppressed.\u001B[39;00m\n\u001B[1;32m    163\u001B[0m     \u001B[38;5;28;01mreturn\u001B[39;00m exc \u001B[38;5;129;01mis\u001B[39;00m \u001B[38;5;129;01mnot\u001B[39;00m value\n",
      "File \u001B[0;32m~/anaconda3/envs/rl_qoc/lib/python3.11/site-packages/qm/api/base_api.py:55\u001B[0m, in \u001B[0;36m_handle_connection_error\u001B[0;34m(timeout)\u001B[0m\n\u001B[1;32m     51\u001B[0m     \u001B[38;5;28;01mif\u001B[39;00m e\u001B[38;5;241m.\u001B[39mstatus \u001B[38;5;241m==\u001B[39m Status\u001B[38;5;241m.\u001B[39mUNIMPLEMENTED:\n\u001B[1;32m     52\u001B[0m         \u001B[38;5;28;01mraise\u001B[39;00m GatewayNotImplementedError(\n\u001B[1;32m     53\u001B[0m             \u001B[38;5;124mf\u001B[39m\u001B[38;5;124m\"\u001B[39m\u001B[38;5;124mEncountered connection error from QOP: details: \u001B[39m\u001B[38;5;132;01m{\u001B[39;00me\u001B[38;5;241m.\u001B[39mmessage\u001B[38;5;132;01m}\u001B[39;00m\u001B[38;5;124m, status: \u001B[39m\u001B[38;5;132;01m{\u001B[39;00me\u001B[38;5;241m.\u001B[39mstatus\u001B[38;5;132;01m}\u001B[39;00m\u001B[38;5;124m\"\u001B[39m\n\u001B[1;32m     54\u001B[0m         ) \u001B[38;5;28;01mfrom\u001B[39;00m \u001B[38;5;21;01me\u001B[39;00m\n\u001B[0;32m---> 55\u001B[0m     \u001B[38;5;28;01mraise\u001B[39;00m QMConnectionError(\n\u001B[1;32m     56\u001B[0m         \u001B[38;5;124mf\u001B[39m\u001B[38;5;124m\"\u001B[39m\u001B[38;5;124mEncountered connection error from QOP: details: \u001B[39m\u001B[38;5;132;01m{\u001B[39;00me\u001B[38;5;241m.\u001B[39mmessage\u001B[38;5;132;01m}\u001B[39;00m\u001B[38;5;124m, status: \u001B[39m\u001B[38;5;132;01m{\u001B[39;00me\u001B[38;5;241m.\u001B[39mstatus\u001B[38;5;132;01m}\u001B[39;00m\u001B[38;5;124m\"\u001B[39m\n\u001B[1;32m     57\u001B[0m     ) \u001B[38;5;28;01mfrom\u001B[39;00m \u001B[38;5;21;01me\u001B[39;00m\n\u001B[1;32m     58\u001B[0m \u001B[38;5;28;01mexcept\u001B[39;00m asyncio\u001B[38;5;241m.\u001B[39mTimeoutError \u001B[38;5;28;01mas\u001B[39;00m e:\n\u001B[1;32m     59\u001B[0m     \u001B[38;5;28;01mif\u001B[39;00m is_debug():\n",
      "\u001B[0;31mQMConnectionError\u001B[0m: Encountered connection error from QOP: details: Internal Server Error, status: Status.UNKNOWN"
     ]
    }
   ],
   "execution_count": 8
  },
  {
   "metadata": {
    "ExecuteTime": {
     "end_time": "2025-05-14T00:50:34.526453Z",
     "start_time": "2025-05-14T00:50:34.398744Z"
    }
   },
   "cell_type": "code",
   "source": "print(generate_qua_script(backend.get_run_program(1000, [qc])))",
   "id": "531e488d74cf40f7",
   "outputs": [
    {
     "name": "stdout",
     "output_type": "stream",
     "text": [
      "\n",
      "# Single QUA script generated at 2025-05-14 08:50:34.525250\n",
      "# QUA library version: 1.2.2rc2+dgx2\n",
      "\n",
      "\n",
      "from qm import CompilerOptionArguments\n",
      "from qm.qua import *\n",
      "\n",
      "with program() as prog:\n",
      "    v1 = declare(int, )\n",
      "    v2 = declare(int, value=0)\n",
      "    a1 = declare(bool, value=[False, False])\n",
      "    v3 = declare(bool, )\n",
      "    v4 = declare(fixed, )\n",
      "    v5 = declare(fixed, )\n",
      "    v6 = declare(bool, )\n",
      "    v7 = declare(fixed, )\n",
      "    v8 = declare(fixed, )\n",
      "    set_dc_offset(\"q1.z\", \"single\", 0.0)\n",
      "    set_dc_offset(\"q2.z\", \"single\", 0.0)\n",
      "    set_dc_offset(\"q3.z\", \"single\", 0.0)\n",
      "    set_dc_offset(\"q4.z\", \"single\", 0.0)\n",
      "    set_dc_offset(\"q5.z\", \"single\", 0.0)\n",
      "    set_dc_offset(\"coupler_q1_q2\", \"single\", -0.01)\n",
      "    set_dc_offset(\"coupler_q2_q3\", \"single\", -0.03)\n",
      "    set_dc_offset(\"coupler_q3_q4\", \"single\", -0.053)\n",
      "    set_dc_offset(\"coupler_q4_q5\", \"single\", -0.051)\n",
      "    with for_(v1,0,(v1<1000),(v1+1)):\n",
      "        align(\"q1.resonator\", \"q1.xy\", \"q1.z\")\n",
      "        play(\"x180_DragCosine\", \"q1.xy\")\n",
      "        align(\"q1.resonator\", \"q1.xy\", \"q1.z\")\n",
      "        align(\"q1.resonator\", \"q1.xy\", \"q1.z\", \"q2.resonator\", \"q2.xy\", \"q2.z\")\n",
      "        play(\"flux_pulse\", \"q1.z\")\n",
      "        play(\"cz\", \"coupler_q1_q2\")\n",
      "        align(\"q1.xy\", \"q1.resonator\", \"q1.z\", \"q2.xy\", \"q2.resonator\", \"q2.z\", \"coupler_q1_q2\")\n",
      "        play(\"x180\", \"q1.xy\", duration=4)\n",
      "        play(\"x180\", \"q2.xy\", duration=4)\n",
      "        align(\"q1.xy\", \"q1.resonator\", \"q1.z\", \"q2.xy\", \"q2.resonator\", \"q2.z\", \"coupler_q1_q2\")\n",
      "        align(\"q1.resonator\", \"q1.xy\", \"q1.z\", \"q2.resonator\", \"q2.xy\", \"q2.z\")\n",
      "        align(\"q1.resonator\", \"q1.xy\", \"q1.z\")\n",
      "        measure(\"readout\", \"q1.resonator\", dual_demod.full(\"iw1\", \"iw2\", v4), dual_demod.full(\"iw3\", \"iw1\", v5))\n",
      "        assign(v3, (v4>-1.628262415766392e-05))\n",
      "        align(\"q1.resonator\", \"q1.xy\", \"q1.z\")\n",
      "        assign(a1[0], v3)\n",
      "        align(\"q2.resonator\", \"q2.xy\", \"q2.z\")\n",
      "        measure(\"readout\", \"q2.resonator\", dual_demod.full(\"iw1\", \"iw2\", v7), dual_demod.full(\"iw3\", \"iw1\", v8))\n",
      "        assign(v6, (v7>1.6458857692958052e-05))\n",
      "        align(\"q2.resonator\", \"q2.xy\", \"q2.z\")\n",
      "        assign(a1[1], v6)\n",
      "        assign(v2, (v2+(1*Cast.to_int(a1[0]))))\n",
      "        assign(v2, (v2+(2*Cast.to_int(a1[1]))))\n",
      "        r1 = declare_stream()\n",
      "        save(v2, r1)\n",
      "        assign(v2, 0)\n",
      "    with stream_processing():\n",
      "        r1.save_all(\"meas_0\")\n",
      "\n",
      "config = None\n",
      "\n",
      "loaded_config = None\n",
      "\n",
      "\n"
     ]
    }
   ],
   "execution_count": 10
  },
  {
   "metadata": {},
   "cell_type": "code",
   "outputs": [],
   "execution_count": null,
   "source": "",
   "id": "cf50c7dc7934b1c9"
  }
 ],
 "metadata": {
  "kernelspec": {
   "display_name": "Python 3",
   "language": "python",
   "name": "python3"
  },
  "language_info": {
   "codemirror_mode": {
    "name": "ipython",
    "version": 2
   },
   "file_extension": ".py",
   "mimetype": "text/x-python",
   "name": "python",
   "nbconvert_exporter": "python",
   "pygments_lexer": "ipython2",
   "version": "2.7.6"
  }
 },
 "nbformat": 4,
 "nbformat_minor": 5
}

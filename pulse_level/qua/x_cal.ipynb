{
 "cells": [
  {
   "cell_type": "markdown",
   "id": "3e0343d0851848c2",
   "metadata": {},
   "source": [
    "# Gate calibration with RL with the Quantum Orchestration Platform\n",
    "\n",
    "This notebook is the template workflow enabling you to run gate calibration leveraging all the low-level capabilities of the QOP for maximum efficiency."
   ]
  },
  {
   "cell_type": "code",
   "execution_count": 1,
   "id": "initial_id",
   "metadata": {
    "ExecuteTime": {
     "end_time": "2025-07-16T01:21:48.732318Z",
     "start_time": "2025-07-16T01:21:43.140875Z"
    }
   },
   "outputs": [
    {
     "name": "stderr",
     "output_type": "stream",
     "text": [
      "/Users/arthurostrauss/Library/CloudStorage/OneDrive-NationalUniversityofSingapore/Coding_projects/Quantum_Optimal_Control/rl_qoc/helpers/__init__.py:9: UserWarning: pulse_utils is not available\n",
      "  warnings.warn(\"pulse_utils is not available\")\n",
      "/Users/arthurostrauss/Library/CloudStorage/OneDrive-NationalUniversityofSingapore/Coding_projects/Quantum_Optimal_Control/.venv/lib/python3.11/site-packages/pydantic/_internal/_generate_schema.py:2225: UnsupportedFieldAttributeWarning: The 'repr' attribute with value False was provided to the `Field()` function, which has no effect in the context it was used. 'repr' is field-specific metadata, and can only be attached to a model field using `Annotated` metadata or by assignment. This may have happened because an `Annotated` type alias using the `type` statement was used, or if the `Field()` function was attached to a single member of a union type.\n",
      "  warnings.warn(\n",
      "/Users/arthurostrauss/Library/CloudStorage/OneDrive-NationalUniversityofSingapore/Coding_projects/Quantum_Optimal_Control/.venv/lib/python3.11/site-packages/pydantic/_internal/_generate_schema.py:2225: UnsupportedFieldAttributeWarning: The 'frozen' attribute with value True was provided to the `Field()` function, which has no effect in the context it was used. 'frozen' is field-specific metadata, and can only be attached to a model field using `Annotated` metadata or by assignment. This may have happened because an `Annotated` type alias using the `type` statement was used, or if the `Field()` function was attached to a single member of a union type.\n",
      "  warnings.warn(\n"
     ]
    },
    {
     "name": "stdout",
     "output_type": "stream",
     "text": [
      "2025-09-12 17:19:26,875 - qm - INFO     - Starting session: 68f22251-55d5-41d1-8119-485fa9ed7971\n",
      "2025-09-12 17:19:26 INFO Starting session: 68f22251-55d5-41d1-8119-485fa9ed7971\n"
     ]
    }
   ],
   "source": [
    "import numpy as np\n",
    "from qiskit.circuit import QuantumCircuit, QuantumRegister, Parameter, Gate\n",
    "from typing import List\n",
    "from gymnasium.spaces import Box\n",
    "from gymnasium.wrappers import RescaleAction, ClipAction\n",
    "from rl_qoc.qua import QMEnvironment, QMConfig, CustomQMPPO\n",
    "from iqcc_calibration_tools.quam_config.components import Quam, Transmon\n",
    "from qiskit_qm_provider import FluxTunableTransmonBackend, QMInstructionProperties, InputType\n",
    "from qiskit_qm_provider.backend import add_basic_macros_to_machine\n",
    "from rl_qoc.agent.ppo_config import (\n",
    "    WandBConfig,\n",
    "    PPOConfig,\n",
    "    TrainingConfig,\n",
    "    TrainFunctionSettings,\n",
    "    TotalUpdates,\n",
    ")\n",
    "from rl_qoc import (\n",
    "    RescaleAndClipAction,\n",
    "    ChannelReward,\n",
    "    StateReward,\n",
    "    CAFEReward,\n",
    "    ExecutionConfig,\n",
    "    QEnvConfig,\n",
    "    BenchmarkConfig,\n",
    "    GateTarget,\n",
    "    StateTarget,\n",
    ")"
   ]
  },
  {
   "cell_type": "markdown",
   "id": "e86df896fa91cf8f",
   "metadata": {},
   "source": [
    "## Accessing the device\n",
    "\n",
    "Here, we fetch the latest calibration data from one of the IQCC available devices. For now, the two available ones are Gilboa (\"gilboa\") and Arbel (\"arbel\")."
   ]
  },
  {
   "cell_type": "code",
   "execution_count": 8,
   "id": "127039d157766e3",
   "metadata": {
    "ExecuteTime": {
     "end_time": "2025-07-16T01:21:54.903506Z",
     "start_time": "2025-07-16T01:21:48.814208Z"
    }
   },
   "outputs": [],
   "source": [
    "from iqcc_cloud_client import IQCC_Cloud\n",
    "import json\n",
    "import os\n",
    "from pathlib import Path\n",
    "\n",
    "# Set your quantum computer backend\n",
    "path = Path.home() / \"iqcc_token.json\"\n",
    "with open(path, \"r\") as f:\n",
    "    iqcc_config = json.load(f)\n",
    "\n",
    "quantum_computer_backend = \"gilboa\"  # arbel\n",
    "iqcc = IQCC_Cloud(\n",
    "    quantum_computer_backend=quantum_computer_backend,\n",
    "    api_token=iqcc_config[quantum_computer_backend],\n",
    ")\n",
    "# Get the latest state and wiring files\n",
    "latest_wiring = iqcc.state.get_latest(\"wiring\")\n",
    "latest_state = iqcc.state.get_latest(\"state\")\n",
    "\n",
    "# Get the state folder path from environment variable\n",
    "quam_state_folder_path = os.environ[\"QUAM_STATE_PATH\"]\n",
    "\n",
    "# Save the files\n",
    "with open(os.path.join(quam_state_folder_path, \"wiring.json\"), \"w\") as f:\n",
    "    json.dump(latest_wiring.data, f, indent=4)\n",
    "\n",
    "with open(os.path.join(quam_state_folder_path, \"state.json\"), \"w\") as f:\n",
    "    json.dump(latest_state.data, f, indent=4)"
   ]
  },
  {
   "cell_type": "markdown",
   "id": "924e3637",
   "metadata": {},
   "source": [
    "## Creating a Qiskit Backend interface from Quam.\n",
    "\n",
    "We have created a powerful Qiskit to QUA compiler that can enable the compilation (and execution) of almost all Qiskit QuantumCircuits, as long as they are transpiled against the backend object created from the Quam that we define below."
   ]
  },
  {
   "cell_type": "code",
   "execution_count": 6,
   "id": "32e1f4aa24df6781",
   "metadata": {
    "ExecuteTime": {
     "end_time": "2025-07-16T01:21:58.713535Z",
     "start_time": "2025-07-16T01:21:58.464339Z"
    }
   },
   "outputs": [
    {
     "name": "stdout",
     "output_type": "stream",
     "text": [
      "Target: Qiskit Backend for Quantum Abstract Machine (Quam)\n",
      "Number of qubits: 1\n",
      "Instructions:\n",
      "\tx\n",
      "\t\t(0,):\n",
      "\t\t\tDuration: 4.8e-08 sec.\n",
      "\trz\n",
      "\t\t(0,):\n",
      "\t\t\tDuration: 0 sec.\n",
      "\t\t\tError Rate: 0\n",
      "\tsx\n",
      "\t\t(0,):\n",
      "\t\t\tDuration: 4.8e-08 sec.\n",
      "\tdelay\n",
      "\t\t(0,):\n",
      "\treset\n",
      "\t\t(0,):\n",
      "\t\t\tDuration: 0.0001377 sec.\n",
      "\tmeasure\n",
      "\t\t(0,):\n",
      "\t\t\tDuration: 1.65e-06 sec.\n",
      "\tsy\n",
      "\t\t(0,):\n",
      "\t\t\tDuration: 4.8e-08 sec.\n",
      "\tsydg\n",
      "\t\t(0,):\n",
      "\t\t\tDuration: 4.8e-08 sec.\n",
      "\tid\n",
      "\t\t(0,):\n",
      "\t\t\tDuration: 0 sec.\n",
      "\t\t\tError Rate: 0\n",
      "\tif_else\n",
      "\twhile_loop\n",
      "\tfor_loop\n",
      "\tswitch_case\n",
      "\tbox\n",
      "\n"
     ]
    }
   ],
   "source": [
    "machine = Quam.load()\n",
    "add_basic_macros_to_machine(machine)\n",
    "backend = FluxTunableTransmonBackend(machine)\n",
    "backend.set_options(timeout=100)\n",
    "print(backend.target)"
   ]
  },
  {
   "cell_type": "code",
   "execution_count": 3,
   "id": "4e471be00afaf500",
   "metadata": {
    "ExecuteTime": {
     "end_time": "2025-07-16T01:21:59.011455Z",
     "start_time": "2025-07-16T01:21:59.008812Z"
    }
   },
   "outputs": [
    {
     "name": "stdout",
     "output_type": "stream",
     "text": [
      "Options(shots=1024, compiler_options=None, simulate=None, memory=False, skip_reset=False, meas_level=<MeasLevel.CLASSIFIED: 2>, meas_return=<MeasReturnType.AVERAGE: 'avg'>, timeout=100)\n"
     ]
    }
   ],
   "source": [
    "print(backend.options)"
   ]
  },
  {
   "cell_type": "code",
   "execution_count": 4,
   "id": "ec16b3bc30f20a34",
   "metadata": {
    "ExecuteTime": {
     "end_time": "2025-07-16T01:21:59.275716Z",
     "start_time": "2025-07-16T01:21:59.273178Z"
    }
   },
   "outputs": [
    {
     "name": "stdout",
     "output_type": "stream",
     "text": [
      "Available qubits:  {'Q6': 0}\n",
      "Available qubit pairs:  {}\n"
     ]
    }
   ],
   "source": [
    "print(\"Available qubits: \", backend.qubit_dict)\n",
    "print(\"Available qubit pairs: \", backend.qubit_pair_dict)"
   ]
  },
  {
   "cell_type": "code",
   "execution_count": 7,
   "id": "90d5aa8c",
   "metadata": {},
   "outputs": [
    {
     "data": {
      "text/plain": [
       "'qolab'"
      ]
     },
     "execution_count": 7,
     "metadata": {},
     "output_type": "execute_result"
    }
   ],
   "source": [
    "backend.name"
   ]
  },
  {
   "cell_type": "code",
   "execution_count": null,
   "id": "3d185323175fc69",
   "metadata": {
    "ExecuteTime": {
     "end_time": "2025-07-16T01:21:59.508538Z",
     "start_time": "2025-07-16T01:21:59.506698Z"
    }
   },
   "outputs": [],
   "source": [
    "using_vpn = True\n",
    "if using_vpn:\n",
    "    machine.network[\"cloud\"] = False\n",
    "    machine.network[\"port\"] = 9510\n",
    "    \n",
    "else:\n",
    "    backend.qmm = iqcc"
   ]
  },
  {
   "cell_type": "code",
   "execution_count": 9,
   "id": "9d41e98c0f820e7b",
   "metadata": {
    "ExecuteTime": {
     "end_time": "2025-07-16T01:21:59.744281Z",
     "start_time": "2025-07-16T01:21:59.740726Z"
    }
   },
   "outputs": [],
   "source": [
    "backend.machine.network[\"cloud\"]=False"
   ]
  },
  {
   "cell_type": "code",
   "execution_count": 10,
   "id": "d0728439",
   "metadata": {},
   "outputs": [
    {
     "name": "stdout",
     "output_type": "stream",
     "text": [
      "2025-09-12 17:21:16,205 - qm - ERROR    - Failed to detect to QuantumMachines server, failed to connect to cluster 'OPXK3'. Tried connecting to 10.1.1.15:80.\n",
      "Errors:\n",
      "10.1.1.15:80: \n",
      "Traceback (most recent call last):\n",
      "  File \"/Users/arthurostrauss/Library/CloudStorage/OneDrive-NationalUniversityofSingapore/Coding_projects/Quantum_Optimal_Control/.venv/lib/python3.11/site-packages/httpx/_transports/default.py\", line 101, in map_httpcore_exceptions\n",
      "    yield\n",
      "  File \"/Users/arthurostrauss/Library/CloudStorage/OneDrive-NationalUniversityofSingapore/Coding_projects/Quantum_Optimal_Control/.venv/lib/python3.11/site-packages/httpx/_transports/default.py\", line 394, in handle_async_request\n",
      "    resp = await self._pool.handle_async_request(req)\n",
      "           ^^^^^^^^^^^^^^^^^^^^^^^^^^^^^^^^^^^^^^^^^^\n",
      "  File \"/Users/arthurostrauss/Library/CloudStorage/OneDrive-NationalUniversityofSingapore/Coding_projects/Quantum_Optimal_Control/.venv/lib/python3.11/site-packages/httpcore/_async/connection_pool.py\", line 256, in handle_async_request\n",
      "    raise exc from None\n",
      "  File \"/Users/arthurostrauss/Library/CloudStorage/OneDrive-NationalUniversityofSingapore/Coding_projects/Quantum_Optimal_Control/.venv/lib/python3.11/site-packages/httpcore/_async/connection_pool.py\", line 236, in handle_async_request\n",
      "    response = await connection.handle_async_request(\n",
      "               ^^^^^^^^^^^^^^^^^^^^^^^^^^^^^^^^^^^^^^\n",
      "  File \"/Users/arthurostrauss/Library/CloudStorage/OneDrive-NationalUniversityofSingapore/Coding_projects/Quantum_Optimal_Control/.venv/lib/python3.11/site-packages/httpcore/_async/connection.py\", line 103, in handle_async_request\n",
      "    return await self._connection.handle_async_request(request)\n",
      "           ^^^^^^^^^^^^^^^^^^^^^^^^^^^^^^^^^^^^^^^^^^^^^^^^^^^^\n",
      "  File \"/Users/arthurostrauss/Library/CloudStorage/OneDrive-NationalUniversityofSingapore/Coding_projects/Quantum_Optimal_Control/.venv/lib/python3.11/site-packages/httpcore/_async/http2.py\", line 187, in handle_async_request\n",
      "    raise exc\n",
      "  File \"/Users/arthurostrauss/Library/CloudStorage/OneDrive-NationalUniversityofSingapore/Coding_projects/Quantum_Optimal_Control/.venv/lib/python3.11/site-packages/httpcore/_async/http2.py\", line 150, in handle_async_request\n",
      "    status, headers = await self._receive_response(\n",
      "                      ^^^^^^^^^^^^^^^^^^^^^^^^^^^^^\n",
      "  File \"/Users/arthurostrauss/Library/CloudStorage/OneDrive-NationalUniversityofSingapore/Coding_projects/Quantum_Optimal_Control/.venv/lib/python3.11/site-packages/httpcore/_async/http2.py\", line 294, in _receive_response\n",
      "    event = await self._receive_stream_event(request, stream_id)\n",
      "            ^^^^^^^^^^^^^^^^^^^^^^^^^^^^^^^^^^^^^^^^^^^^^^^^^^^^\n",
      "  File \"/Users/arthurostrauss/Library/CloudStorage/OneDrive-NationalUniversityofSingapore/Coding_projects/Quantum_Optimal_Control/.venv/lib/python3.11/site-packages/httpcore/_async/http2.py\", line 336, in _receive_stream_event\n",
      "    await self._receive_events(request, stream_id)\n",
      "  File \"/Users/arthurostrauss/Library/CloudStorage/OneDrive-NationalUniversityofSingapore/Coding_projects/Quantum_Optimal_Control/.venv/lib/python3.11/site-packages/httpcore/_async/http2.py\", line 364, in _receive_events\n",
      "    events = await self._read_incoming_data(request)\n",
      "             ^^^^^^^^^^^^^^^^^^^^^^^^^^^^^^^^^^^^^^^\n",
      "  File \"/Users/arthurostrauss/Library/CloudStorage/OneDrive-NationalUniversityofSingapore/Coding_projects/Quantum_Optimal_Control/.venv/lib/python3.11/site-packages/httpcore/_async/http2.py\", line 455, in _read_incoming_data\n",
      "    raise exc\n",
      "  File \"/Users/arthurostrauss/Library/CloudStorage/OneDrive-NationalUniversityofSingapore/Coding_projects/Quantum_Optimal_Control/.venv/lib/python3.11/site-packages/httpcore/_async/http2.py\", line 441, in _read_incoming_data\n",
      "    data = await self._network_stream.read(self.READ_NUM_BYTES, timeout)\n",
      "           ^^^^^^^^^^^^^^^^^^^^^^^^^^^^^^^^^^^^^^^^^^^^^^^^^^^^^^^^^^^^^\n",
      "  File \"/Users/arthurostrauss/Library/CloudStorage/OneDrive-NationalUniversityofSingapore/Coding_projects/Quantum_Optimal_Control/.venv/lib/python3.11/site-packages/httpcore/_backends/anyio.py\", line 32, in read\n",
      "    with map_exceptions(exc_map):\n",
      "  File \"/Users/arthurostrauss/anaconda3/lib/python3.11/contextlib.py\", line 155, in __exit__\n",
      "    self.gen.throw(typ, value, traceback)\n",
      "  File \"/Users/arthurostrauss/Library/CloudStorage/OneDrive-NationalUniversityofSingapore/Coding_projects/Quantum_Optimal_Control/.venv/lib/python3.11/site-packages/httpcore/_exceptions.py\", line 14, in map_exceptions\n",
      "    raise to_exc(exc) from exc\n",
      "httpcore.ReadTimeout\n",
      "\n",
      "The above exception was the direct cause of the following exception:\n",
      "\n",
      "Traceback (most recent call last):\n",
      "  File \"/Users/arthurostrauss/Library/CloudStorage/OneDrive-NationalUniversityofSingapore/Coding_projects/Quantum_Optimal_Control/.venv/lib/python3.11/site-packages/qm/api/server_detector.py\", line 58, in detect_server\n",
      "    connection_details, octaves = _redirect(\n",
      "                                  ^^^^^^^^^^\n",
      "  File \"/Users/arthurostrauss/Library/CloudStorage/OneDrive-NationalUniversityofSingapore/Coding_projects/Quantum_Optimal_Control/.venv/lib/python3.11/site-packages/qm/api/server_detector.py\", line 99, in _redirect\n",
      "    response_details = send_redirection_check(\n",
      "                       ^^^^^^^^^^^^^^^^^^^^^^^\n",
      "  File \"/Users/arthurostrauss/Library/CloudStorage/OneDrive-NationalUniversityofSingapore/Coding_projects/Quantum_Optimal_Control/.venv/lib/python3.11/site-packages/qm/communication/http_redirection.py\", line 43, in send_redirection_check\n",
      "    response = run_async(\n",
      "               ^^^^^^^^^^\n",
      "  File \"/Users/arthurostrauss/Library/CloudStorage/OneDrive-NationalUniversityofSingapore/Coding_projects/Quantum_Optimal_Control/.venv/lib/python3.11/site-packages/qm/utils/async_utils.py\", line 38, in run_async\n",
      "    return create_future(coroutine).result()  # type: ignore[no-any-return]\n",
      "           ^^^^^^^^^^^^^^^^^^^^^^^^^^^^^^^^^\n",
      "  File \"/Users/arthurostrauss/anaconda3/lib/python3.11/concurrent/futures/_base.py\", line 456, in result\n",
      "    return self.__get_result()\n",
      "           ^^^^^^^^^^^^^^^^^^^\n",
      "  File \"/Users/arthurostrauss/anaconda3/lib/python3.11/concurrent/futures/_base.py\", line 401, in __get_result\n",
      "    raise self._exception\n",
      "  File \"/Users/arthurostrauss/Library/CloudStorage/OneDrive-NationalUniversityofSingapore/Coding_projects/Quantum_Optimal_Control/.venv/lib/python3.11/site-packages/qm/communication/http_redirection.py\", line 67, in _get_httpx_response\n",
      "    response = await client.post(url, headers=headers, content=bytes(Empty()))\n",
      "               ^^^^^^^^^^^^^^^^^^^^^^^^^^^^^^^^^^^^^^^^^^^^^^^^^^^^^^^^^^^^^^^\n",
      "  File \"/Users/arthurostrauss/Library/CloudStorage/OneDrive-NationalUniversityofSingapore/Coding_projects/Quantum_Optimal_Control/.venv/lib/python3.11/site-packages/httpx/_client.py\", line 1859, in post\n",
      "    return await self.request(\n",
      "           ^^^^^^^^^^^^^^^^^^^\n",
      "  File \"/Users/arthurostrauss/Library/CloudStorage/OneDrive-NationalUniversityofSingapore/Coding_projects/Quantum_Optimal_Control/.venv/lib/python3.11/site-packages/httpx/_client.py\", line 1540, in request\n",
      "    return await self.send(request, auth=auth, follow_redirects=follow_redirects)\n",
      "           ^^^^^^^^^^^^^^^^^^^^^^^^^^^^^^^^^^^^^^^^^^^^^^^^^^^^^^^^^^^^^^^^^^^^^^\n",
      "  File \"/Users/arthurostrauss/Library/CloudStorage/OneDrive-NationalUniversityofSingapore/Coding_projects/Quantum_Optimal_Control/.venv/lib/python3.11/site-packages/httpx/_client.py\", line 1629, in send\n",
      "    response = await self._send_handling_auth(\n",
      "               ^^^^^^^^^^^^^^^^^^^^^^^^^^^^^^^\n",
      "  File \"/Users/arthurostrauss/Library/CloudStorage/OneDrive-NationalUniversityofSingapore/Coding_projects/Quantum_Optimal_Control/.venv/lib/python3.11/site-packages/httpx/_client.py\", line 1657, in _send_handling_auth\n",
      "    response = await self._send_handling_redirects(\n",
      "               ^^^^^^^^^^^^^^^^^^^^^^^^^^^^^^^^^^^^\n",
      "  File \"/Users/arthurostrauss/Library/CloudStorage/OneDrive-NationalUniversityofSingapore/Coding_projects/Quantum_Optimal_Control/.venv/lib/python3.11/site-packages/httpx/_client.py\", line 1694, in _send_handling_redirects\n",
      "    response = await self._send_single_request(request)\n",
      "               ^^^^^^^^^^^^^^^^^^^^^^^^^^^^^^^^^^^^^^^^\n",
      "  File \"/Users/arthurostrauss/Library/CloudStorage/OneDrive-NationalUniversityofSingapore/Coding_projects/Quantum_Optimal_Control/.venv/lib/python3.11/site-packages/httpx/_client.py\", line 1730, in _send_single_request\n",
      "    response = await transport.handle_async_request(request)\n",
      "               ^^^^^^^^^^^^^^^^^^^^^^^^^^^^^^^^^^^^^^^^^^^^^\n",
      "  File \"/Users/arthurostrauss/Library/CloudStorage/OneDrive-NationalUniversityofSingapore/Coding_projects/Quantum_Optimal_Control/.venv/lib/python3.11/site-packages/httpx/_transports/default.py\", line 393, in handle_async_request\n",
      "    with map_httpcore_exceptions():\n",
      "  File \"/Users/arthurostrauss/anaconda3/lib/python3.11/contextlib.py\", line 155, in __exit__\n",
      "    self.gen.throw(typ, value, traceback)\n",
      "  File \"/Users/arthurostrauss/Library/CloudStorage/OneDrive-NationalUniversityofSingapore/Coding_projects/Quantum_Optimal_Control/.venv/lib/python3.11/site-packages/httpx/_transports/default.py\", line 118, in map_httpcore_exceptions\n",
      "    raise mapped_exc(message) from exc\n",
      "httpx.ReadTimeout\n",
      ".\n",
      "2025-09-12 17:21:16 INFO Failed to detect to QuantumMachines server, failed to connect to cluster 'OPXK3'. Tried connecting to 10.1.1.15:80.\n",
      "Errors:\n",
      "10.1.1.15:80: \n",
      "Traceback (most recent call last):\n",
      "  File \"/Users/arthurostrauss/Library/CloudStorage/OneDrive-NationalUniversityofSingapore/Coding_projects/Quantum_Optimal_Control/.venv/lib/python3.11/site-packages/httpx/_transports/default.py\", line 101, in map_httpcore_exceptions\n",
      "    yield\n",
      "  File \"/Users/arthurostrauss/Library/CloudStorage/OneDrive-NationalUniversityofSingapore/Coding_projects/Quantum_Optimal_Control/.venv/lib/python3.11/site-packages/httpx/_transports/default.py\", line 394, in handle_async_request\n",
      "    resp = await self._pool.handle_async_request(req)\n",
      "           ^^^^^^^^^^^^^^^^^^^^^^^^^^^^^^^^^^^^^^^^^^\n",
      "  File \"/Users/arthurostrauss/Library/CloudStorage/OneDrive-NationalUniversityofSingapore/Coding_projects/Quantum_Optimal_Control/.venv/lib/python3.11/site-packages/httpcore/_async/connection_pool.py\", line 256, in handle_async_request\n",
      "    raise exc from None\n",
      "  File \"/Users/arthurostrauss/Library/CloudStorage/OneDrive-NationalUniversityofSingapore/Coding_projects/Quantum_Optimal_Control/.venv/lib/python3.11/site-packages/httpcore/_async/connection_pool.py\", line 236, in handle_async_request\n",
      "    response = await connection.handle_async_request(\n",
      "               ^^^^^^^^^^^^^^^^^^^^^^^^^^^^^^^^^^^^^^\n",
      "  File \"/Users/arthurostrauss/Library/CloudStorage/OneDrive-NationalUniversityofSingapore/Coding_projects/Quantum_Optimal_Control/.venv/lib/python3.11/site-packages/httpcore/_async/connection.py\", line 103, in handle_async_request\n",
      "    return await self._connection.handle_async_request(request)\n",
      "           ^^^^^^^^^^^^^^^^^^^^^^^^^^^^^^^^^^^^^^^^^^^^^^^^^^^^\n",
      "  File \"/Users/arthurostrauss/Library/CloudStorage/OneDrive-NationalUniversityofSingapore/Coding_projects/Quantum_Optimal_Control/.venv/lib/python3.11/site-packages/httpcore/_async/http2.py\", line 187, in handle_async_request\n",
      "    raise exc\n",
      "  File \"/Users/arthurostrauss/Library/CloudStorage/OneDrive-NationalUniversityofSingapore/Coding_projects/Quantum_Optimal_Control/.venv/lib/python3.11/site-packages/httpcore/_async/http2.py\", line 150, in handle_async_request\n",
      "    status, headers = await self._receive_response(\n",
      "                      ^^^^^^^^^^^^^^^^^^^^^^^^^^^^^\n",
      "  File \"/Users/arthurostrauss/Library/CloudStorage/OneDrive-NationalUniversityofSingapore/Coding_projects/Quantum_Optimal_Control/.venv/lib/python3.11/site-packages/httpcore/_async/http2.py\", line 294, in _receive_response\n",
      "    event = await self._receive_stream_event(request, stream_id)\n",
      "            ^^^^^^^^^^^^^^^^^^^^^^^^^^^^^^^^^^^^^^^^^^^^^^^^^^^^\n",
      "  File \"/Users/arthurostrauss/Library/CloudStorage/OneDrive-NationalUniversityofSingapore/Coding_projects/Quantum_Optimal_Control/.venv/lib/python3.11/site-packages/httpcore/_async/http2.py\", line 336, in _receive_stream_event\n",
      "    await self._receive_events(request, stream_id)\n",
      "  File \"/Users/arthurostrauss/Library/CloudStorage/OneDrive-NationalUniversityofSingapore/Coding_projects/Quantum_Optimal_Control/.venv/lib/python3.11/site-packages/httpcore/_async/http2.py\", line 364, in _receive_events\n",
      "    events = await self._read_incoming_data(request)\n",
      "             ^^^^^^^^^^^^^^^^^^^^^^^^^^^^^^^^^^^^^^^\n",
      "  File \"/Users/arthurostrauss/Library/CloudStorage/OneDrive-NationalUniversityofSingapore/Coding_projects/Quantum_Optimal_Control/.venv/lib/python3.11/site-packages/httpcore/_async/http2.py\", line 455, in _read_incoming_data\n",
      "    raise exc\n",
      "  File \"/Users/arthurostrauss/Library/CloudStorage/OneDrive-NationalUniversityofSingapore/Coding_projects/Quantum_Optimal_Control/.venv/lib/python3.11/site-packages/httpcore/_async/http2.py\", line 441, in _read_incoming_data\n",
      "    data = await self._network_stream.read(self.READ_NUM_BYTES, timeout)\n",
      "           ^^^^^^^^^^^^^^^^^^^^^^^^^^^^^^^^^^^^^^^^^^^^^^^^^^^^^^^^^^^^^\n",
      "  File \"/Users/arthurostrauss/Library/CloudStorage/OneDrive-NationalUniversityofSingapore/Coding_projects/Quantum_Optimal_Control/.venv/lib/python3.11/site-packages/httpcore/_backends/anyio.py\", line 32, in read\n",
      "    with map_exceptions(exc_map):\n",
      "  File \"/Users/arthurostrauss/anaconda3/lib/python3.11/contextlib.py\", line 155, in __exit__\n",
      "    self.gen.throw(typ, value, traceback)\n",
      "  File \"/Users/arthurostrauss/Library/CloudStorage/OneDrive-NationalUniversityofSingapore/Coding_projects/Quantum_Optimal_Control/.venv/lib/python3.11/site-packages/httpcore/_exceptions.py\", line 14, in map_exceptions\n",
      "    raise to_exc(exc) from exc\n",
      "httpcore.ReadTimeout\n",
      "\n",
      "The above exception was the direct cause of the following exception:\n",
      "\n",
      "Traceback (most recent call last):\n",
      "  File \"/Users/arthurostrauss/Library/CloudStorage/OneDrive-NationalUniversityofSingapore/Coding_projects/Quantum_Optimal_Control/.venv/lib/python3.11/site-packages/qm/api/server_detector.py\", line 58, in detect_server\n",
      "    connection_details, octaves = _redirect(\n",
      "                                  ^^^^^^^^^^\n",
      "  File \"/Users/arthurostrauss/Library/CloudStorage/OneDrive-NationalUniversityofSingapore/Coding_projects/Quantum_Optimal_Control/.venv/lib/python3.11/site-packages/qm/api/server_detector.py\", line 99, in _redirect\n",
      "    response_details = send_redirection_check(\n",
      "                       ^^^^^^^^^^^^^^^^^^^^^^^\n",
      "  File \"/Users/arthurostrauss/Library/CloudStorage/OneDrive-NationalUniversityofSingapore/Coding_projects/Quantum_Optimal_Control/.venv/lib/python3.11/site-packages/qm/communication/http_redirection.py\", line 43, in send_redirection_check\n",
      "    response = run_async(\n",
      "               ^^^^^^^^^^\n",
      "  File \"/Users/arthurostrauss/Library/CloudStorage/OneDrive-NationalUniversityofSingapore/Coding_projects/Quantum_Optimal_Control/.venv/lib/python3.11/site-packages/qm/utils/async_utils.py\", line 38, in run_async\n",
      "    return create_future(coroutine).result()  # type: ignore[no-any-return]\n",
      "           ^^^^^^^^^^^^^^^^^^^^^^^^^^^^^^^^^\n",
      "  File \"/Users/arthurostrauss/anaconda3/lib/python3.11/concurrent/futures/_base.py\", line 456, in result\n",
      "    return self.__get_result()\n",
      "           ^^^^^^^^^^^^^^^^^^^\n",
      "  File \"/Users/arthurostrauss/anaconda3/lib/python3.11/concurrent/futures/_base.py\", line 401, in __get_result\n",
      "    raise self._exception\n",
      "  File \"/Users/arthurostrauss/Library/CloudStorage/OneDrive-NationalUniversityofSingapore/Coding_projects/Quantum_Optimal_Control/.venv/lib/python3.11/site-packages/qm/communication/http_redirection.py\", line 67, in _get_httpx_response\n",
      "    response = await client.post(url, headers=headers, content=bytes(Empty()))\n",
      "               ^^^^^^^^^^^^^^^^^^^^^^^^^^^^^^^^^^^^^^^^^^^^^^^^^^^^^^^^^^^^^^^\n",
      "  File \"/Users/arthurostrauss/Library/CloudStorage/OneDrive-NationalUniversityofSingapore/Coding_projects/Quantum_Optimal_Control/.venv/lib/python3.11/site-packages/httpx/_client.py\", line 1859, in post\n",
      "    return await self.request(\n",
      "           ^^^^^^^^^^^^^^^^^^^\n",
      "  File \"/Users/arthurostrauss/Library/CloudStorage/OneDrive-NationalUniversityofSingapore/Coding_projects/Quantum_Optimal_Control/.venv/lib/python3.11/site-packages/httpx/_client.py\", line 1540, in request\n",
      "    return await self.send(request, auth=auth, follow_redirects=follow_redirects)\n",
      "           ^^^^^^^^^^^^^^^^^^^^^^^^^^^^^^^^^^^^^^^^^^^^^^^^^^^^^^^^^^^^^^^^^^^^^^\n",
      "  File \"/Users/arthurostrauss/Library/CloudStorage/OneDrive-NationalUniversityofSingapore/Coding_projects/Quantum_Optimal_Control/.venv/lib/python3.11/site-packages/httpx/_client.py\", line 1629, in send\n",
      "    response = await self._send_handling_auth(\n",
      "               ^^^^^^^^^^^^^^^^^^^^^^^^^^^^^^^\n",
      "  File \"/Users/arthurostrauss/Library/CloudStorage/OneDrive-NationalUniversityofSingapore/Coding_projects/Quantum_Optimal_Control/.venv/lib/python3.11/site-packages/httpx/_client.py\", line 1657, in _send_handling_auth\n",
      "    response = await self._send_handling_redirects(\n",
      "               ^^^^^^^^^^^^^^^^^^^^^^^^^^^^^^^^^^^^\n",
      "  File \"/Users/arthurostrauss/Library/CloudStorage/OneDrive-NationalUniversityofSingapore/Coding_projects/Quantum_Optimal_Control/.venv/lib/python3.11/site-packages/httpx/_client.py\", line 1694, in _send_handling_redirects\n",
      "    response = await self._send_single_request(request)\n",
      "               ^^^^^^^^^^^^^^^^^^^^^^^^^^^^^^^^^^^^^^^^\n",
      "  File \"/Users/arthurostrauss/Library/CloudStorage/OneDrive-NationalUniversityofSingapore/Coding_projects/Quantum_Optimal_Control/.venv/lib/python3.11/site-packages/httpx/_client.py\", line 1730, in _send_single_request\n",
      "    response = await transport.handle_async_request(request)\n",
      "               ^^^^^^^^^^^^^^^^^^^^^^^^^^^^^^^^^^^^^^^^^^^^^\n",
      "  File \"/Users/arthurostrauss/Library/CloudStorage/OneDrive-NationalUniversityofSingapore/Coding_projects/Quantum_Optimal_Control/.venv/lib/python3.11/site-packages/httpx/_transports/default.py\", line 393, in handle_async_request\n",
      "    with map_httpcore_exceptions():\n",
      "  File \"/Users/arthurostrauss/anaconda3/lib/python3.11/contextlib.py\", line 155, in __exit__\n",
      "    self.gen.throw(typ, value, traceback)\n",
      "  File \"/Users/arthurostrauss/Library/CloudStorage/OneDrive-NationalUniversityofSingapore/Coding_projects/Quantum_Optimal_Control/.venv/lib/python3.11/site-packages/httpx/_transports/default.py\", line 118, in map_httpcore_exceptions\n",
      "    raise mapped_exc(message) from exc\n",
      "httpx.ReadTimeout\n",
      ".\n"
     ]
    },
    {
     "ename": "QmServerDetectionError",
     "evalue": "Failed to detect to QuantumMachines server, failed to connect to cluster 'OPXK3'. Tried connecting to 10.1.1.15:80.",
     "output_type": "error",
     "traceback": [
      "\u001b[31m---------------------------------------------------------------------------\u001b[39m",
      "\u001b[31mQmServerDetectionError\u001b[39m                    Traceback (most recent call last)",
      "\u001b[36mCell\u001b[39m\u001b[36m \u001b[39m\u001b[32mIn[10]\u001b[39m\u001b[32m, line 1\u001b[39m\n\u001b[32m----> \u001b[39m\u001b[32m1\u001b[39m \u001b[43mbackend\u001b[49m\u001b[43m.\u001b[49m\u001b[43mqm\u001b[49m\n",
      "\u001b[36mFile \u001b[39m\u001b[32m~/Library/CloudStorage/OneDrive-QMMachinesLTD/GitHub/qiskit-qm-provider/qiskit_qm_provider/backend/qm_backend.py:293\u001b[39m, in \u001b[36mQMBackend.qm\u001b[39m\u001b[34m(self)\u001b[39m\n\u001b[32m    291\u001b[39m     CloudQuantumMachinesManager = \u001b[38;5;28;01mNone\u001b[39;00m\n\u001b[32m    292\u001b[39m \u001b[38;5;28;01mif\u001b[39;00m \u001b[38;5;28mself\u001b[39m._qm \u001b[38;5;129;01mis\u001b[39;00m \u001b[38;5;28;01mNone\u001b[39;00m:\n\u001b[32m--> \u001b[39m\u001b[32m293\u001b[39m     \u001b[38;5;28;01mif\u001b[39;00m \u001b[38;5;28misinstance\u001b[39m(\u001b[38;5;28;43mself\u001b[39;49m\u001b[43m.\u001b[49m\u001b[43mqmm\u001b[49m, (QuantumMachinesManager, CloudQuantumMachinesManager)):\n\u001b[32m    294\u001b[39m         \u001b[38;5;28mself\u001b[39m._qm = \u001b[38;5;28mself\u001b[39m.qmm.open_qm(\u001b[38;5;28mself\u001b[39m.qm_config, close_other_machines=\u001b[38;5;28;01mTrue\u001b[39;00m)\n\u001b[32m    295\u001b[39m     \u001b[38;5;28;01melse\u001b[39;00m:\n",
      "\u001b[36mFile \u001b[39m\u001b[32m~/Library/CloudStorage/OneDrive-QMMachinesLTD/GitHub/qiskit-qm-provider/qiskit_qm_provider/backend/qm_backend.py:271\u001b[39m, in \u001b[36mQMBackend.qmm\u001b[39m\u001b[34m(self)\u001b[39m\n\u001b[32m    266\u001b[39m \u001b[38;5;250m\u001b[39m\u001b[33;03m\"\"\"\u001b[39;00m\n\u001b[32m    267\u001b[39m \u001b[33;03mReturns the QuantumMachinesManager instance. This is a property that reopens a QuantumMachinesManager each time\u001b[39;00m\n\u001b[32m    268\u001b[39m \u001b[33;03mit is called for the underlying configuration might have changed between two calls\u001b[39;00m\n\u001b[32m    269\u001b[39m \u001b[33;03m\"\"\"\u001b[39;00m\n\u001b[32m    270\u001b[39m \u001b[38;5;28;01mif\u001b[39;00m \u001b[38;5;28mself\u001b[39m._qmm \u001b[38;5;129;01mis\u001b[39;00m \u001b[38;5;28;01mNone\u001b[39;00m:\n\u001b[32m--> \u001b[39m\u001b[32m271\u001b[39m     \u001b[38;5;28mself\u001b[39m._qmm = \u001b[38;5;28;43mself\u001b[39;49m\u001b[43m.\u001b[49m\u001b[43mmachine\u001b[49m\u001b[43m.\u001b[49m\u001b[43mconnect\u001b[49m\u001b[43m(\u001b[49m\u001b[43m)\u001b[49m\n\u001b[32m    272\u001b[39m \u001b[38;5;28;01mreturn\u001b[39;00m \u001b[38;5;28mself\u001b[39m._qmm\n",
      "\u001b[36mFile \u001b[39m\u001b[32m~/Library/CloudStorage/OneDrive-QMMachinesLTD/GitHub/iqcc-calibration/iqcc_calibration_tools/quam_config/components/quam_root.py:80\u001b[39m, in \u001b[36mQuam.connect\u001b[39m\u001b[34m(self)\u001b[39m\n\u001b[32m     77\u001b[39m     \u001b[38;5;28;01mif\u001b[39;00m \u001b[33m\"\u001b[39m\u001b[33mport\u001b[39m\u001b[33m\"\u001b[39m \u001b[38;5;129;01min\u001b[39;00m \u001b[38;5;28mself\u001b[39m.network:\n\u001b[32m     78\u001b[39m         settings[\u001b[33m\"\u001b[39m\u001b[33mport\u001b[39m\u001b[33m\"\u001b[39m] = \u001b[38;5;28mself\u001b[39m.network[\u001b[33m\"\u001b[39m\u001b[33mport\u001b[39m\u001b[33m\"\u001b[39m]\n\u001b[32m---> \u001b[39m\u001b[32m80\u001b[39m     \u001b[38;5;28mself\u001b[39m.qmm = \u001b[43mQuantumMachinesManager\u001b[49m\u001b[43m(\u001b[49m\u001b[43m*\u001b[49m\u001b[43m*\u001b[49m\u001b[43msettings\u001b[49m\u001b[43m)\u001b[49m\n\u001b[32m     82\u001b[39m \u001b[38;5;28;01mreturn\u001b[39;00m \u001b[38;5;28mself\u001b[39m.qmm\n",
      "\u001b[36mFile \u001b[39m\u001b[32m~/Library/CloudStorage/OneDrive-NationalUniversityofSingapore/Coding_projects/Quantum_Optimal_Control/.venv/lib/python3.11/site-packages/qm/quantum_machines_manager.py:139\u001b[39m, in \u001b[36mQuantumMachinesManager.__init__\u001b[39m\u001b[34m(self, host, port, cluster_name, timeout, log_level, connection_headers, add_debug_data, credentials, store, file_store_root, octave, octave_calibration_db_path, follow_gateway_redirections, async_follow_redirects, async_trust_env)\u001b[39m\n\u001b[32m    137\u001b[39m \u001b[38;5;28mself\u001b[39m._cluster_name = cluster_name\n\u001b[32m    138\u001b[39m \u001b[38;5;28mself\u001b[39m._store = store \u001b[38;5;28;01mif\u001b[39;00m store \u001b[38;5;28;01melse\u001b[39;00m SimpleFileStore(file_store_root)\n\u001b[32m--> \u001b[39m\u001b[32m139\u001b[39m \u001b[38;5;28mself\u001b[39m._server_details = \u001b[38;5;28;43mself\u001b[39;49m\u001b[43m.\u001b[49m\u001b[43m_initialize_connection\u001b[49m\u001b[43m(\u001b[49m\n\u001b[32m    140\u001b[39m \u001b[43m    \u001b[49m\u001b[43mhost\u001b[49m\u001b[43m=\u001b[49m\u001b[43mhost\u001b[49m\u001b[43m,\u001b[49m\n\u001b[32m    141\u001b[39m \u001b[43m    \u001b[49m\u001b[43mport\u001b[49m\u001b[43m=\u001b[49m\u001b[43mport\u001b[49m\u001b[43m,\u001b[49m\n\u001b[32m    142\u001b[39m \u001b[43m    \u001b[49m\u001b[43mtimeout\u001b[49m\u001b[43m=\u001b[49m\u001b[43mtimeout\u001b[49m\u001b[43m,\u001b[49m\n\u001b[32m    143\u001b[39m \u001b[43m    \u001b[49m\u001b[43madd_debug_data\u001b[49m\u001b[43m=\u001b[49m\u001b[43madd_debug_data\u001b[49m\u001b[43m,\u001b[49m\n\u001b[32m    144\u001b[39m \u001b[43m    \u001b[49m\u001b[43mconnection_headers\u001b[49m\u001b[43m=\u001b[49m\u001b[43mconnection_headers\u001b[49m\u001b[43m,\u001b[49m\n\u001b[32m    145\u001b[39m \u001b[43m    \u001b[49m\u001b[43mcredentials\u001b[49m\u001b[43m=\u001b[49m\u001b[43mcredentials\u001b[49m\u001b[43m,\u001b[49m\n\u001b[32m    146\u001b[39m \u001b[43m    \u001b[49m\u001b[43mfollow_gateway_redirections\u001b[49m\u001b[43m=\u001b[49m\u001b[43mfollow_gateway_redirections\u001b[49m\u001b[43m,\u001b[49m\n\u001b[32m    147\u001b[39m \u001b[43m    \u001b[49m\u001b[43masync_follow_redirects\u001b[49m\u001b[43m=\u001b[49m\u001b[43masync_follow_redirects\u001b[49m\u001b[43m,\u001b[49m\n\u001b[32m    148\u001b[39m \u001b[43m    \u001b[49m\u001b[43masync_trust_env\u001b[49m\u001b[43m=\u001b[49m\u001b[43masync_trust_env\u001b[49m\u001b[43m,\u001b[49m\n\u001b[32m    149\u001b[39m \u001b[43m\u001b[49m\u001b[43m)\u001b[49m\n\u001b[32m    150\u001b[39m \u001b[38;5;28;01mif\u001b[39;00m \u001b[38;5;28mself\u001b[39m._server_details.octaves:\n\u001b[32m    151\u001b[39m     \u001b[38;5;28;01mif\u001b[39;00m octave \u001b[38;5;129;01mis\u001b[39;00m \u001b[38;5;28;01mNone\u001b[39;00m:\n",
      "\u001b[36mFile \u001b[39m\u001b[32m~/Library/CloudStorage/OneDrive-NationalUniversityofSingapore/Coding_projects/Quantum_Optimal_Control/.venv/lib/python3.11/site-packages/qm/quantum_machines_manager.py:205\u001b[39m, in \u001b[36mQuantumMachinesManager._initialize_connection\u001b[39m\u001b[34m(self, host, port, timeout, add_debug_data, credentials, connection_headers, follow_gateway_redirections, async_follow_redirects, async_trust_env)\u001b[39m\n\u001b[32m    193\u001b[39m \u001b[38;5;28;01mdef\u001b[39;00m\u001b[38;5;250m \u001b[39m\u001b[34m_initialize_connection\u001b[39m(\n\u001b[32m    194\u001b[39m     \u001b[38;5;28mself\u001b[39m,\n\u001b[32m    195\u001b[39m     host: \u001b[38;5;28mstr\u001b[39m,\n\u001b[32m   (...)\u001b[39m\u001b[32m    203\u001b[39m     async_trust_env: \u001b[38;5;28mbool\u001b[39m,\n\u001b[32m    204\u001b[39m ) -> ServerDetails:\n\u001b[32m--> \u001b[39m\u001b[32m205\u001b[39m     server_details = \u001b[43mdetect_server\u001b[49m\u001b[43m(\u001b[49m\n\u001b[32m    206\u001b[39m \u001b[43m        \u001b[49m\u001b[43mcluster_name\u001b[49m\u001b[43m=\u001b[49m\u001b[38;5;28;43mself\u001b[39;49m\u001b[43m.\u001b[49m\u001b[43m_cluster_name\u001b[49m\u001b[43m,\u001b[49m\n\u001b[32m    207\u001b[39m \u001b[43m        \u001b[49m\u001b[43muser_token\u001b[49m\u001b[43m=\u001b[49m\u001b[38;5;28;43mself\u001b[39;49m\u001b[43m.\u001b[49m\u001b[43m_user_config\u001b[49m\u001b[43m.\u001b[49m\u001b[43muser_token\u001b[49m\u001b[43m,\u001b[49m\n\u001b[32m    208\u001b[39m \u001b[43m        \u001b[49m\u001b[43mssl_context\u001b[49m\u001b[43m=\u001b[49m\u001b[43mcredentials\u001b[49m\u001b[43m,\u001b[49m\n\u001b[32m    209\u001b[39m \u001b[43m        \u001b[49m\u001b[43mhost\u001b[49m\u001b[43m=\u001b[49m\u001b[43mhost\u001b[49m\u001b[43m,\u001b[49m\n\u001b[32m    210\u001b[39m \u001b[43m        \u001b[49m\u001b[43mport_from_user_config\u001b[49m\u001b[43m=\u001b[49m\u001b[38;5;28;43mself\u001b[39;49m\u001b[43m.\u001b[49m\u001b[43m_user_config\u001b[49m\u001b[43m.\u001b[49m\u001b[43mmanager_port\u001b[49m\u001b[43m,\u001b[49m\n\u001b[32m    211\u001b[39m \u001b[43m        \u001b[49m\u001b[43muser_provided_port\u001b[49m\u001b[43m=\u001b[49m\u001b[43mport\u001b[49m\u001b[43m,\u001b[49m\n\u001b[32m    212\u001b[39m \u001b[43m        \u001b[49m\u001b[43madd_debug_data\u001b[49m\u001b[43m=\u001b[49m\u001b[43madd_debug_data\u001b[49m\u001b[43m,\u001b[49m\n\u001b[32m    213\u001b[39m \u001b[43m        \u001b[49m\u001b[43mtimeout\u001b[49m\u001b[43m=\u001b[49m\u001b[43mtimeout\u001b[49m\u001b[43m,\u001b[49m\n\u001b[32m    214\u001b[39m \u001b[43m        \u001b[49m\u001b[43mextra_headers\u001b[49m\u001b[43m=\u001b[49m\u001b[43mconnection_headers\u001b[49m\u001b[43m,\u001b[49m\n\u001b[32m    215\u001b[39m \u001b[43m        \u001b[49m\u001b[43mfollow_gateway_redirections\u001b[49m\u001b[43m=\u001b[49m\u001b[43mfollow_gateway_redirections\u001b[49m\u001b[43m,\u001b[49m\n\u001b[32m    216\u001b[39m \u001b[43m        \u001b[49m\u001b[43masync_follow_redirects\u001b[49m\u001b[43m=\u001b[49m\u001b[43masync_follow_redirects\u001b[49m\u001b[43m,\u001b[49m\n\u001b[32m    217\u001b[39m \u001b[43m        \u001b[49m\u001b[43masync_trust_env\u001b[49m\u001b[43m=\u001b[49m\u001b[43masync_trust_env\u001b[49m\u001b[43m,\u001b[49m\n\u001b[32m    218\u001b[39m \u001b[43m    \u001b[49m\u001b[43m)\u001b[49m\n\u001b[32m    219\u001b[39m     create_capabilities_container(server_details.qua_implementation)\n\u001b[32m    220\u001b[39m     \u001b[38;5;28;01mreturn\u001b[39;00m server_details\n",
      "\u001b[36mFile \u001b[39m\u001b[32m~/Library/CloudStorage/OneDrive-NationalUniversityofSingapore/Coding_projects/Quantum_Optimal_Control/.venv/lib/python3.11/site-packages/qm/api/server_detector.py:93\u001b[39m, in \u001b[36mdetect_server\u001b[39m\u001b[34m(cluster_name, user_token, ssl_context, host, port_from_user_config, user_provided_port, add_debug_data, timeout, max_message_size, extra_headers, follow_gateway_redirections, async_follow_redirects, async_trust_env)\u001b[39m\n\u001b[32m     91\u001b[39m errors_msgs = \u001b[33m\"\u001b[39m\u001b[38;5;130;01m\\n\u001b[39;00m\u001b[33m\"\u001b[39m.join([\u001b[33mf\u001b[39m\u001b[33m\"\u001b[39m\u001b[38;5;132;01m{\u001b[39;00mdst\u001b[38;5;132;01m}\u001b[39;00m\u001b[33m: \u001b[39m\u001b[38;5;132;01m{\u001b[39;00merror\u001b[38;5;132;01m}\u001b[39;00m\u001b[33m\"\u001b[39m \u001b[38;5;28;01mfor\u001b[39;00m dst, error \u001b[38;5;129;01min\u001b[39;00m errors])\n\u001b[32m     92\u001b[39m logger.error(\u001b[33mf\u001b[39m\u001b[33m\"\u001b[39m\u001b[38;5;132;01m{\u001b[39;00mmessage\u001b[38;5;132;01m}\u001b[39;00m\u001b[38;5;130;01m\\n\u001b[39;00m\u001b[33mErrors:\u001b[39m\u001b[38;5;130;01m\\n\u001b[39;00m\u001b[38;5;132;01m{\u001b[39;00merrors_msgs\u001b[38;5;132;01m}\u001b[39;00m\u001b[33m.\u001b[39m\u001b[33m\"\u001b[39m)\n\u001b[32m---> \u001b[39m\u001b[32m93\u001b[39m \u001b[38;5;28;01mraise\u001b[39;00m QmServerDetectionError(message)\n",
      "\u001b[31mQmServerDetectionError\u001b[39m: Failed to detect to QuantumMachines server, failed to connect to cluster 'OPXK3'. Tried connecting to 10.1.1.15:80."
     ]
    }
   ],
   "source": [
    "backend.qm"
   ]
  },
  {
   "cell_type": "markdown",
   "id": "3b2ffe4bf1003726",
   "metadata": {},
   "source": [
    "## Create a custom gate to edit\n",
    "\n",
    "We add at the Qiskit level the custom gate we want to calibrate, and we then specify the QUA macro in charge of \n",
    "implementing the parametrized pulse representation of this template parametrized gate.\n",
    "\n",
    "The way we specify such gate is by implementing a function (think about a Pennylane qnode), that modifies an input QuantumCircuit, and adds a custom Gate of your choice that is parametrized in a certain fashion.\n",
    "The choice of the parametrization is defined by the action space specification (see below), and the shape of the QUA macro you decide to insert as a physical implementation of your gate. \n",
    "For now, parametrization is constrained to parameters that can be used to update the pulses in real-time, e.g. amplitude, phase, frequency, duration. For more advanced composite pulses, we can also think about baking some precomposite pulses, that could then be passed as keyword arguments to the parametrized circuit function."
   ]
  },
  {
   "cell_type": "code",
   "execution_count": 8,
   "id": "46e10447b2c46372",
   "metadata": {
    "ExecuteTime": {
     "end_time": "2025-07-16T01:21:59.987380Z",
     "start_time": "2025-07-16T01:21:59.984372Z"
    }
   },
   "outputs": [],
   "source": [
    "from rl_qoc.helpers import add_custom_gate\n",
    "\n",
    "def apply_parametrized_circuit(\n",
    "    qc: QuantumCircuit, params: List[Parameter], q_reg: QuantumRegister, **kwargs\n",
    "):\n",
    "\n",
    "    physical_qubits: List[int] = kwargs[\"physical_qubits\"]\n",
    "    backend: FluxTunableTransmonBackend = kwargs[\"backend\"]\n",
    "\n",
    "    # TODO: Enter your custom parametric QUA macro here\n",
    "    def qua_macro(amp):\n",
    "        qubit: Transmon = backend.get_qubit(physical_qubits[0])\n",
    "        qubit.xy.play(\"x180\", amplitude_scale=amp)\n",
    "\n",
    "    # Create a custom gate with the QUA macro\n",
    "    custom_x = Gate(\"x_cal\", 1, params)\n",
    "    x_duration = backend.target[\"x\"][(physical_qubits[0],)].duration\n",
    "    instruction_prop = QMInstructionProperties(duration=x_duration, \n",
    "                                               qua_pulse_macro=qua_macro)\n",
    "    qc = add_custom_gate(\n",
    "        qc,\n",
    "        custom_x,\n",
    "        q_reg,\n",
    "        params,\n",
    "        physical_qubits,\n",
    "        backend,\n",
    "        instruction_prop\n",
    "    )\n",
    "    return qc"
   ]
  },
  {
   "cell_type": "markdown",
   "id": "7b3517e088f88b5",
   "metadata": {},
   "source": [
    "## Create Environment configuration\n",
    "\n",
    "1. Create target instance: Specify which gate you want and on which qubit it should be applied\n",
    "2. Choose which reward scheme you want. You can choose among three methods that are carefully implemented within the QOP: Direct Channel/State Fidelity Estimation (DFE), and Context-Aware Fidelity Estimation (CAFE)"
   ]
  },
  {
   "cell_type": "code",
   "execution_count": 9,
   "id": "71e47a8b92d92320",
   "metadata": {
    "ExecuteTime": {
     "end_time": "2025-07-16T01:22:00.219803Z",
     "start_time": "2025-07-16T01:22:00.212660Z"
    }
   },
   "outputs": [],
   "source": [
    "physical_qubits = (0,)\n",
    "target_gate = \"x\"\n",
    "target_state = \"1\"\n",
    "# We show the two possible targets:\n",
    "# 1. A gate target, i.e. a gate that we want to calibrate\n",
    "gate_target = GateTarget(physical_qubits=physical_qubits, gate=target_gate)\n",
    "# 2. A state target, i.e. a state that we want to reach\n",
    "state_target = StateTarget(state=target_state, physical_qubits=physical_qubits)\n",
    "# Choose the target\n",
    "target = gate_target\n",
    "# Initialize the reward scheme to be used in the environment\n",
    "reward = ChannelReward()"
   ]
  },
  {
   "cell_type": "code",
   "execution_count": 10,
   "id": "2ad61b73",
   "metadata": {
    "ExecuteTime": {
     "end_time": "2025-07-16T01:22:00.447553Z",
     "start_time": "2025-07-16T01:22:00.441856Z"
    }
   },
   "outputs": [],
   "source": [
    "\"\"\"\n",
    "It is possible to define custom reward methods, by inheriting from the Reward class. \n",
    "The two main methods to implement are:\n",
    "- get_reward_data: this method is called to generate the necessary data to pass to the OPX to compute the reward (e.g., observables, input states)\n",
    "- rl_qoc_training_qua_prog: this method is called to generate the QUA program that will be executed on the device to compute the reward.\n",
    "- qm_step: this method is called to compute the reward for a given epoch.\n",
    "\"\"\"\n",
    "from rl_qoc.qua.pi_pulse_reward import PiPulseReward\n",
    "# reward = PiPulseReward()\n",
    "\n",
    "\n"
   ]
  },
  {
   "cell_type": "markdown",
   "id": "5b9740a46e2eb0fb",
   "metadata": {},
   "source": [
    "3. Decide which action space to create\n",
    "4. Decide how the parameters should be passed to the QOP (Choose between Input Stream, DGX Quantum, IO variables)\n",
    "5. To fix the QUA program duration, we also can pass to the configuration the number of training updates expected (it should be the same variable used when declaring the agent).\n",
    "6. Set up training hyperparameters on the environment side"
   ]
  },
  {
   "cell_type": "code",
   "execution_count": 21,
   "id": "6b0101d3fa6ae26a",
   "metadata": {
    "ExecuteTime": {
     "end_time": "2025-07-16T01:22:00.729216Z",
     "start_time": "2025-07-16T01:22:00.668731Z"
    }
   },
   "outputs": [
    {
     "name": "stdout",
     "output_type": "stream",
     "text": [
      "Env config:  {'target': {'gate': 'x', 'physical_qubits': (0,)}, 'backend_config': {'input_type': 'INPUT_STREAM', 'verbosity': 2, 'num_updates': 20, 'path_to_python_wrapper': None}, 'action_space': {'low': [0.0], 'high': [2.0]}, 'execution_config': {'batch_size': 32, 'sampling_paulis': 10, 'n_shots': 10, 'n_reps': [1], 'c_factor': 1.0, 'seed': 98}, 'reward_config': 'channel', 'benchmark_config': {'benchmark_cycle': 0, 'benchmark_batch_size': 1, 'tomography_analysis': 'default', 'check_on_exp': False}, 'metadata': {}}\n"
     ]
    }
   ],
   "source": [
    "# Action space specification\n",
    "param_bounds = [(0., 2.0)]  # Can be any number of bounds\n",
    "\n",
    "\n",
    "# Environment execution parameters\n",
    "seed = 98  # Master seed to make training reproducible\n",
    "batch_size = 8*4  # Number of actions to evaluate per policy evaluation\n",
    "n_shots = 10 # Minimum number of shots per fiducial evaluation\n",
    "pauli_sampling = 10  # Number of fiducials to compute for fidelity estimation (DFE only)\n",
    "n_reps = 1  # Number of repetitions of the cycle circuit\n",
    "num_updates = TotalUpdates(20)\n",
    "\n",
    "input_type = InputType.INPUT_STREAM\n",
    "test_mode = True\n",
    "\n",
    "\n",
    "def create_action_space(param_bounds):\n",
    "    param_bounds = np.array(param_bounds, dtype=np.float32)\n",
    "    lower_bound, upper_bound = param_bounds.T\n",
    "    return Box(low=lower_bound, high=upper_bound, shape=(len(param_bounds),), dtype=np.float32)\n",
    "\n",
    "\n",
    "action_space = create_action_space(param_bounds)\n",
    "\n",
    "backend_config = QMConfig(\n",
    "    parametrized_circuit=apply_parametrized_circuit,\n",
    "    backend=backend,\n",
    "    input_type=input_type,\n",
    "    verbosity=2,\n",
    "    parametrized_circuit_kwargs={\"physical_qubits\": physical_qubits, \"backend\": backend},\n",
    "    num_updates=num_updates.total_updates,\n",
    "    timeout=40,\n",
    "    test_mode=test_mode,\n",
    ")\n",
    "execution_config = ExecutionConfig(\n",
    "    batch_size=batch_size,\n",
    "    sampling_paulis=pauli_sampling,\n",
    "    n_shots=n_shots,\n",
    "    n_reps=n_reps,\n",
    "    seed=seed,\n",
    ")\n",
    "q_env_config = QEnvConfig(\n",
    "    target=target,\n",
    "    backend_config=backend_config,\n",
    "    action_space=action_space,\n",
    "    execution_config=execution_config,\n",
    "    reward=reward,\n",
    "    benchmark_config=BenchmarkConfig(0),\n",
    ")  # No benchmark for now\n",
    "\n",
    "q_env = QMEnvironment(training_config=q_env_config)\n",
    "rescaled_env = RescaleAndClipAction(q_env, np.float32(-1.0), np.float32(1.0))\n",
    "print(\"Env config: \", q_env.config.as_dict())"
   ]
  },
  {
   "cell_type": "code",
   "execution_count": 22,
   "id": "bbe97ee84dbeeece",
   "metadata": {
    "ExecuteTime": {
     "end_time": "2025-07-16T01:22:04.604277Z",
     "start_time": "2025-07-16T01:22:04.342980Z"
    }
   },
   "outputs": [
    {
     "data": {
      "image/png": "[encoded data removed]",
      "text/plain": [
       "<Figure size 2587.05x200.667 with 1 Axes>"
      ]
     },
     "execution_count": 22,
     "metadata": {},
     "output_type": "execute_result"
    }
   ],
   "source": [
    "q_env.real_time_circuit.draw(\"mpl\", style=\"iqp-dark\", fold=30)"
   ]
  },
  {
   "cell_type": "code",
   "execution_count": 23,
   "id": "86f79b1c23a7d14b",
   "metadata": {
    "ExecuteTime": {
     "end_time": "2025-07-16T01:22:05.386852Z",
     "start_time": "2025-07-16T01:22:04.938754Z"
    }
   },
   "outputs": [
    {
     "data": {
      "image/png": "[encoded data removed]",
      "text/plain": [
       "<Figure size 2870.15x451.5 with 1 Axes>"
      ]
     },
     "execution_count": 23,
     "metadata": {},
     "output_type": "execute_result"
    }
   ],
   "source": [
    "q_env.real_time_transpiled_circuit.draw(\"mpl\", fold=32, style=\"iqp-dark\")"
   ]
  },
  {
   "cell_type": "code",
   "execution_count": 24,
   "id": "42ebe66539e336a7",
   "metadata": {
    "ExecuteTime": {
     "end_time": "2025-07-16T01:22:05.672785Z",
     "start_time": "2025-07-16T01:22:05.661130Z"
    }
   },
   "outputs": [
    {
     "name": "stdout",
     "output_type": "stream",
     "text": [
      "OPENQASM 3.0;\n",
      "input float[64] a_0_0;\n",
      "input uint[8] input_state_0;\n",
      "input uint[4] observable_0;\n",
      "bit[1] meas;\n",
      "int switch_dummy;\n",
      "int switch_dummy_0;\n",
      "reset $0;\n",
      "switch_dummy = input_state_0;\n",
      "switch (switch_dummy) {\n",
      "  case 0 {\n",
      "    delay[16dt] $0;\n",
      "  }\n",
      "  case 1 {\n",
      "    x $0;\n",
      "  }\n",
      "  case 2 {\n",
      "    rz(1.5707963267948966) $0;\n",
      "    sx $0;\n",
      "    rz(1.5707963267948966) $0;\n",
      "  }\n",
      "  case 3 {\n",
      "    rz(1.5707963267948966) $0;\n",
      "    sx $0;\n",
      "    rz(-1.570796326794897) $0;\n",
      "  }\n",
      "  case 4 {\n",
      "    rz(1.5707963267948966) $0;\n",
      "    sx $0;\n",
      "    rz(-3.141592653589793) $0;\n",
      "  }\n",
      "  case 5 {\n",
      "    rz(1.5707963267948966) $0;\n",
      "    sx $0;\n",
      "  }\n",
      "}\n",
      "x_cal(a_0_0) $0;\n",
      "switch_dummy_0 = observable_0;\n",
      "switch (switch_dummy_0) {\n",
      "  case 0 {\n",
      "    delay[16dt] $0;\n",
      "  }\n",
      "  case 1 {\n",
      "    rz(1.5707963267948966) $0;\n",
      "    sx $0;\n",
      "    rz(1.5707963267948966) $0;\n",
      "  }\n",
      "  case 2 {\n",
      "    sx $0;\n",
      "    rz(1.5707963267948966) $0;\n",
      "  }\n",
      "}\n",
      "meas[0] = measure $0;\n",
      "\n"
     ]
    }
   ],
   "source": [
    "# Print the OpenQASM3 program\n",
    "print(backend.oq3_exporter.dumps(q_env.real_time_transpiled_circuit))"
   ]
  },
  {
   "cell_type": "code",
   "execution_count": 25,
   "id": "6251a1b9ad6b49c7",
   "metadata": {
    "ExecuteTime": {
     "end_time": "2025-06-27T02:36:12.201063Z",
     "start_time": "2025-06-27T02:36:11.732242Z"
    }
   },
   "outputs": [
    {
     "name": "stdout",
     "output_type": "stream",
     "text": [
      "\n",
      "# Single QUA script generated at 2025-09-12 16:01:11.404957\n",
      "# QUA library version: 1.2.2\n",
      "\n",
      "from qm import CompilerOptionArguments\n",
      "from qm.qua import *\n",
      "\n",
      "with program() as prog:\n",
      "    input_stream_input_state_0 = declare_input_stream(int, 'input_state_0', value=0)\n",
      "    input_stream_observable_0 = declare_input_stream(int, 'observable_0', value=0)\n",
      "    input_stream_pauli_shots = declare_input_stream(int, 'pauli_shots', value=10)\n",
      "    input_stream_max_input_state = declare_input_stream(int, 'max_input_state', value=1)\n",
      "    input_stream_max_observables = declare_input_stream(int, 'max_observables', value=0)\n",
      "    v1 = declare(fixed, value=0.0)\n",
      "    input_stream_mu = declare_input_stream(fixed, 'mu', value=[0.0])\n",
      "    input_stream_sigma = declare_input_stream(fixed, 'sigma', value=[1.0])\n",
      "    a1 = declare(int, value=[0, 0])\n",
      "    v2 = declare(int, )\n",
      "    v3 = declare(int, )\n",
      "    v4 = declare(int, )\n",
      "    v5 = declare(int, )\n",
      "    v6 = declare(int, )\n",
      "    v7 = declare(int, )\n",
      "    v8 = declare(int, )\n",
      "    a2 = declare(fixed, size=1)\n",
      "    a3 = declare(fixed, size=1)\n",
      "    v9 = declare(int, value=98)\n",
      "    a4 = declare(fixed, value=[1.0, 0.9999247018391445, 0.9996988186962042, 0.9993223845883495, 0.9987954562051724, 0.9981181129001492, 0.9972904566786902, 0.996312612182778, 0.9951847266721969, 0.9939069700023561, 0.99247953459871, 0.99090263542778, 0.989176509964781, 0.9873014181578584, 0.9852776423889412, 0.9831054874312163, 0.9807852804032304, 0.9783173707196277, 0.9757021300385286, 0.9729399522055602, 0.970031253194544, 0.9669764710448521, 0.9637760657954398, 0.9604305194155658, 0.9569403357322088, 0.9533060403541939, 0.9495281805930367, 0.9456073253805213, 0.9415440651830208, 0.937339011912575, 0.932992798834739, 0.9285060804732156, 0.9238795325112867, 0.9191138516900578, 0.9142097557035307, 0.9091679830905224, 0.9039892931234433, 0.8986744656939538, 0.8932243011955153, 0.8876396204028539, 0.881921264348355, 0.8760700941954066, 0.8700869911087115, 0.8639728561215867, 0.8577286100002721, 0.8513551931052652, 0.8448535652497071, 0.8382247055548381, 0.8314696123025452, 0.8245893027850253, 0.8175848131515837, 0.8104571982525948, 0.8032075314806449, 0.7958369046088836, 0.7883464276266062, 0.7807372285720945, 0.773010453362737, 0.765167265622459, 0.7572088465064846, 0.7491363945234594, 0.7409511253549592, 0.7326542716724128, 0.724247082951467, 0.7157308252838187, 0.7071067811865476, 0.6983762494089729, 0.6895405447370669, 0.680600997795453, 0.6715589548470183, 0.6624157775901718, 0.6531728429537769, 0.6438315428897915, 0.6343932841636455, 0.6248594881423865, 0.6152315905806268, 0.6055110414043255, 0.5956993044924335, 0.5857978574564389, 0.5758081914178453, 0.5657318107836132, 0.5555702330196023, 0.5453249884220465, 0.5349976198870973, 0.5245896826784688, 0.5141027441932217, 0.5035383837257176, 0.4928981922297841, 0.48218377207912283, 0.4713967368259978, 0.46053871095824, 0.4496113296546066, 0.4386162385385277, 0.4275550934302822, 0.4164295600976373, 0.40524131400498986, 0.3939920400610481, 0.38268343236508984, 0.3713171939518376, 0.3598950365349883, 0.3484186802494345, 0.33688985339222005, 0.325310292162263, 0.3136817403988916, 0.3020059493192282, 0.29028467725446233, 0.27851968938505306, 0.2667127574748984, 0.2548656596045146, 0.24298017990326398, 0.23105810828067128, 0.21910124015686977, 0.20711137619221856, 0.19509032201612833, 0.18303988795514106, 0.17096188876030136, 0.1588581433338614, 0.14673047445536175, 0.13458070850712622, 0.12241067519921628, 0.11022220729388318, 0.09801714032956077, 0.08579731234443988, 0.07356456359966745, 0.06132073630220865, 0.049067674327418126, 0.03680722294135899, 0.024541228522912264, 0.012271538285719944, 6.123233995736766e-17, -0.012271538285719823, -0.024541228522912142, -0.036807222941358866, -0.04906767432741801, -0.06132073630220853, -0.07356456359966733, -0.08579731234443976, -0.09801714032956065, -0.11022220729388306, -0.12241067519921615, -0.1345807085071261, -0.14673047445536164, -0.15885814333386128, -0.17096188876030124, -0.18303988795514092, -0.1950903220161282, -0.20711137619221845, -0.21910124015686966, -0.23105810828067114, -0.24298017990326387, -0.2548656596045145, -0.2667127574748983, -0.27851968938505295, -0.29028467725446216, -0.3020059493192281, -0.3136817403988914, -0.32531029216226287, -0.33688985339221994, -0.3484186802494344, -0.35989503653498817, -0.3713171939518375, -0.3826834323650897, -0.393992040061048, -0.40524131400498975, -0.416429560097637, -0.42755509343028186, -0.4386162385385274, -0.4496113296546067, -0.46053871095824006, -0.4713967368259977, -0.4821837720791228, -0.492898192229784, -0.5035383837257175, -0.5141027441932217, -0.5245896826784687, -0.534997619887097, -0.5453249884220462, -0.555570233019602, -0.5657318107836133, -0.5758081914178453, -0.5857978574564389, -0.5956993044924334, -0.6055110414043254, -0.6152315905806268, -0.6248594881423862, -0.6343932841636454, -0.6438315428897913, -0.6531728429537765, -0.6624157775901719, -0.6715589548470184, -0.6806009977954531, -0.6895405447370669, -0.6983762494089728, -0.7071067811865475, -0.7157308252838186, -0.7242470829514668, -0.7326542716724127, -0.7409511253549589, -0.7491363945234591, -0.7572088465064846, -0.765167265622459, -0.773010453362737, -0.7807372285720945, -0.7883464276266062, -0.7958369046088835, -0.8032075314806448, -0.8104571982525947, -0.8175848131515836, -0.8245893027850251, -0.8314696123025453, -0.8382247055548381, -0.8448535652497071, -0.8513551931052651, -0.857728610000272, -0.8639728561215867, -0.8700869911087113, -0.8760700941954065, -0.8819212643483549, -0.8876396204028538, -0.8932243011955152, -0.8986744656939539, -0.9039892931234433, -0.9091679830905224, -0.9142097557035307, -0.9191138516900577, -0.9238795325112867, -0.9285060804732155, -0.9329927988347388, -0.9373390119125748, -0.9415440651830207, -0.9456073253805213, -0.9495281805930367, -0.9533060403541939, -0.9569403357322088, -0.9604305194155658, -0.9637760657954398, -0.9669764710448521, -0.970031253194544, -0.9729399522055601, -0.9757021300385285, -0.9783173707196275, -0.9807852804032304, -0.9831054874312163, -0.9852776423889412, -0.9873014181578584, -0.989176509964781, -0.99090263542778, -0.99247953459871, -0.9939069700023561, -0.9951847266721968, -0.996312612182778, -0.9972904566786902, -0.9981181129001492, -0.9987954562051724, -0.9993223845883495, -0.9996988186962042, -0.9999247018391445, -1.0, -0.9999247018391445, -0.9996988186962042, -0.9993223845883495, -0.9987954562051724, -0.9981181129001492, -0.9972904566786902, -0.996312612182778, -0.9951847266721969, -0.9939069700023561, -0.99247953459871, -0.99090263542778, -0.989176509964781, -0.9873014181578584, -0.9852776423889413, -0.9831054874312164, -0.9807852804032304, -0.9783173707196277, -0.9757021300385286, -0.9729399522055602, -0.970031253194544, -0.9669764710448522, -0.96377606579544, -0.9604305194155659, -0.9569403357322089, -0.953306040354194, -0.9495281805930368, -0.9456073253805213, -0.9415440651830208, -0.937339011912575, -0.932992798834739, -0.9285060804732156, -0.9238795325112868, -0.9191138516900578, -0.9142097557035308, -0.9091679830905225, -0.9039892931234434, -0.898674465693954, -0.8932243011955153, -0.8876396204028539, -0.881921264348355, -0.8760700941954066, -0.8700869911087115, -0.8639728561215868, -0.8577286100002722, -0.8513551931052653, -0.8448535652497072, -0.8382247055548382, -0.8314696123025455, -0.8245893027850253, -0.8175848131515837, -0.8104571982525948, -0.8032075314806449, -0.7958369046088837, -0.7883464276266063, -0.7807372285720946, -0.7730104533627371, -0.7651672656224591, -0.7572088465064848, -0.7491363945234593, -0.7409511253549591, -0.7326542716724129, -0.724247082951467, -0.7157308252838187, -0.7071067811865477, -0.698376249408973, -0.689540544737067, -0.6806009977954532, -0.6715589548470187, -0.662415777590172, -0.6531728429537771, -0.6438315428897915, -0.6343932841636458, -0.6248594881423865, -0.6152315905806273, -0.6055110414043257, -0.5956993044924331, -0.5857978574564391, -0.5758081914178452, -0.5657318107836135, -0.5555702330196022, -0.5453249884220468, -0.5349976198870973, -0.5245896826784694, -0.5141027441932218, -0.503538383725718, -0.4928981922297842, -0.48218377207912255, -0.4713967368259979, -0.4605387109582399, -0.44961132965460693, -0.4386162385385276, -0.4275550934302825, -0.4164295600976372, -0.40524131400499036, -0.3939920400610482, -0.38268343236509034, -0.37131719395183777, -0.359895036534988, -0.34841868024943484, -0.33688985339221994, -0.3253102921622633, -0.31368174039889146, -0.30200594931922853, -0.29028467725446244, -0.2785196893850536, -0.26671275747489853, -0.25486565960451435, -0.24298017990326412, -0.23105810828067094, -0.2191012401568701, -0.20711137619221848, -0.19509032201612866, -0.18303988795514095, -0.1709618887603017, -0.15885814333386153, -0.1467304744553623, -0.13458070850712636, -0.12241067519921596, -0.11022220729388331, -0.09801714032956045, -0.08579731234444023, -0.07356456359966736, -0.061320736302208995, -0.04906767432741803, -0.03680722294135933, -0.02454122852291239, -0.012271538285720512, -1.8369701987210297e-16, 0.012271538285720144, 0.02454122852291202, 0.036807222941358964, 0.04906767432741766, 0.06132073630220863, 0.07356456359966698, 0.08579731234443985, 0.09801714032956009, 0.11022220729388293, 0.1224106751992156, 0.13458070850712597, 0.14673047445536194, 0.15885814333386117, 0.17096188876030133, 0.1830398879551406, 0.1950903220161283, 0.20711137619221812, 0.21910124015686974, 0.23105810828067058, 0.24298017990326376, 0.25486565960451396, 0.2667127574748982, 0.2785196893850533, 0.29028467725446205, 0.30200594931922814, 0.31368174039889113, 0.3253102921622629, 0.3368898533922196, 0.3484186802494345, 0.3598950365349876, 0.3713171939518374, 0.38268343236509, 0.3939920400610479, 0.40524131400499, 0.4164295600976369, 0.42755509343028214, 0.43861623853852727, 0.4496113296546066, 0.4605387109582396, 0.4713967368259976, 0.4821837720791222, 0.49289819222978387, 0.5035383837257178, 0.5141027441932216, 0.5245896826784691, 0.5349976198870969, 0.5453249884220465, 0.5555702330196018, 0.5657318107836132, 0.5758081914178449, 0.5857978574564388, 0.5956993044924329, 0.6055110414043253, 0.615231590580627, 0.6248594881423861, 0.6343932841636456, 0.6438315428897912, 0.6531728429537768, 0.6624157775901715, 0.6715589548470184, 0.6806009977954527, 0.6895405447370668, 0.6983762494089725, 0.7071067811865474, 0.7157308252838188, 0.7242470829514667, 0.7326542716724129, 0.7409511253549588, 0.7491363945234593, 0.7572088465064842, 0.7651672656224588, 0.7730104533627367, 0.7807372285720944, 0.7883464276266059, 0.7958369046088833, 0.803207531480645, 0.8104571982525947, 0.8175848131515837, 0.8245893027850251, 0.8314696123025452, 0.8382247055548377, 0.844853565249707, 0.8513551931052649, 0.857728610000272, 0.8639728561215864, 0.8700869911087112, 0.8760700941954067, 0.8819212643483548, 0.8876396204028539, 0.8932243011955151, 0.8986744656939538, 0.9039892931234431, 0.9091679830905224, 0.9142097557035304, 0.9191138516900577, 0.9238795325112865, 0.9285060804732155, 0.932992798834739, 0.9373390119125748, 0.9415440651830208, 0.9456073253805212, 0.9495281805930367, 0.9533060403541936, 0.9569403357322088, 0.9604305194155657, 0.9637760657954398, 0.9669764710448522, 0.970031253194544, 0.9729399522055602, 0.9757021300385285, 0.9783173707196277, 0.9807852804032303, 0.9831054874312163, 0.9852776423889411, 0.9873014181578583, 0.9891765099647809, 0.99090263542778, 0.99247953459871, 0.9939069700023561, 0.9951847266721969, 0.996312612182778, 0.9972904566786902, 0.9981181129001492, 0.9987954562051724, 0.9993223845883494, 0.9996988186962042, 0.9999247018391445])\n",
      "    a5 = declare(fixed, value=[3.5327824289561818, 3.330804306653522, 3.2067627154196052, 3.115760415709423, 3.043300160265717, 2.9827894246636704, 2.9306537482669137, 2.8847302485643036, 2.8436073103839603, 2.8063110134754217, 2.77214017407937, 2.740572639206182, 2.7112087664763966, 2.683735648515148, 2.6579035513233205, 2.633509871988707, 2.6103879026361403, 2.588398766525206, 2.567425506613319, 2.54736867045851, 2.5281429577645906, 2.5096746370047467, 2.4918995281678673, 2.474761408630264, 2.458210739665161, 2.4422036389905277, 2.4267010442847883, 2.4116680264893695, 2.397073221736998, 2.382888358068256, 2.369087858516701, 2.355648506195711, 2.3425491600836423, 2.3297705125417862, 2.3172948814000156, 2.305106030843119, 2.293189016425181, 2.28153005040231, 2.2701163842592402, 2.2589362058530265, 2.24797854903754, 2.2372332139888327, 2.2266906967413354, 2.2163421266819383, 2.206179210943866, 2.1961941848031903, 2.1863797673143206, 2.1767291215320657, 2.167235818760913, 2.1578938063503603, 2.1486973786210304, 2.139641150562095, 2.1307200339878762, 2.1219292158818566, 2.113264138690807, 2.1047204823613135, 2.09629414793641, 2.0879812425519297, 2.079778065691169, 2.0716810965728625, 2.0636869825617734, 2.055792528503632, 2.0479946868970322, 2.040290548824406, 2.032677335572536, 2.0251523908804216, 2.0177131737587497, 2.010357251830959, 2.003082295150906, 1.9958860704566335, 1.9887664358237014, 1.9817213356850727, 1.9747487961876966, 1.9678469208587337, 1.9610138865568796, 1.9542479396864865, 1.9475473926541997, 1.9409106205496316, 1.9343360580332198, 1.9278221964158873, 1.921367580916432, 1.9149708080837768, 1.90863052337228, 1.9023454188592859, 1.8961142310949797, 1.889935739075412, 1.8838087623302882, 1.8777321591177818, 1.8717048247192343, 1.865725689827154, 1.8597937190204292, 1.8539079093211341, 1.8480672888277168, 1.842270915419752, 1.8365178755297913, 1.8308072829781583, 1.8251382778668508, 1.8195100255289596, 1.8139217155302925, 1.8083725607200958, 1.8028617963279994, 1.7973886791044937, 1.7919524865024372, 1.78655251589725, 1.781188083843616, 1.775858525366648, 1.7705631932856072, 1.765301457568395, 1.7600727047151352, 1.7548763371692908, 1.7497117727548361, 1.7445784441381105, 1.7394757983130602, 1.7344032961086497, 1.7293604117173027, 1.7243466322432999, 1.719361457270119, 1.714404398445772, 1.7094749790852397, 1.704572733789159, 1.6996972080779733, 1.6948479580407874, 1.6900245499982254, 1.6852265601786205, 1.6804535744069031, 1.6757051878055946, 1.6709810045073394, 1.6662806373784413, 1.6616037077529031, 1.656949845176484, 1.65231868716033, 1.647709878943741, 1.6431230732656734, 1.638557930144588, 1.6340141166662792, 1.6294913067793382, 1.6249891810979202, 1.6205074267115007, 1.616045737001325, 1.6116038114632674, 1.6071813555368302, 1.602778080440027, 1.5983937030099076, 1.5940279455484894, 1.5896805356738788, 1.5853512061763686, 1.5810396948793115, 1.576745744504582, 1.5724691025424382, 1.568209521125614, 1.5639667569074769, 1.559740570944087, 1.5555307285800137, 1.5513369993377586, 1.5471591568106515, 1.542996978559085, 1.5388502460099627, 1.534718744359241, 1.5306022624774458, 1.5265005928180588, 1.5224135313286642, 1.518340877364754, 1.5142824336061007, 1.5102380059755953, 1.5062074035604718, 1.5021904385358245, 1.4981869260903422, 1.4941966843541787, 1.4902195343288829, 1.4862552998193195, 1.4823038073675112, 1.4783648861883298, 1.4744383681069824, 1.4705240874982228, 1.466621881227234, 1.462731588592123, 1.458853051267975, 1.4549861132524147, 1.4511306208126233, 1.4472864224337623, 1.443453368768762, 1.4396313125894242, 1.4358201087387992, 1.432019614084796, 1.4282296874749836, 1.4244501896925483, 1.4206809834133651, 1.4169219331641532, 1.4131729052816766, 1.4094337678729594, 1.4057043907764817, 1.401984645524328, 1.3982744053052563, 1.3945735449286578, 1.3908819407893847, 1.3871994708334143, 1.3835260145243249, 1.3798614528105597, 1.3762056680934556, 1.3725585441960084, 1.3689199663323592, 1.3652898210779754, 1.3616679963405045, 1.3580543813312875, 1.3544488665375016, 1.3508513436949223, 1.3472617057612826, 1.3436798468902118, 1.3401056624057361, 1.336539048777327, 1.3329799035954766, 1.3294281255477916, 1.3258836143955808, 1.3223462709509322, 1.3188159970542568, 1.3152926955522901, 1.311776270276536, 1.3082666260221427, 1.3047636685271926, 1.3012673044524004, 1.2977774413612042, 1.2942939877002366, 1.2908168527801696, 1.2873459467569157, 1.2838811806131825, 1.2804224661403625, 1.276969715920755, 1.2735228433101062, 1.2700817624204592, 1.266646388103305, 1.2632166359330264, 1.2597924221906238, 1.2563736638477176, 1.2529602785508152, 1.2495521846058377, 1.2461493009628979, 1.2427515472013209, 1.2393588435148999, 1.2359711106973812, 1.2325882701281707, 1.2292102437582553, 1.2258369540963294, 1.222468324195127, 1.2191042776379448, 1.2157447385253557, 1.2123896314621028, 1.209038881544173, 1.2056924143460366, 1.202350155908055, 1.199012032724045, 1.1956779717289983, 1.1923479002869475, 1.189021746178975, 1.1856994375913594, 1.1823809031038546, 1.1790660716780947, 1.1757548726461222, 1.1724472356990332, 1.1691430908757334, 1.1658423685518056, 1.1625449994284747, 1.1592509145216774, 1.1559600451512198, 1.152672322930028, 1.1493876797534828, 1.146106047788834, 1.1428273594646918, 1.1395515474605902, 1.1362785446966164, 1.1330082843231066, 1.129740699710397, 1.1264757244386336, 1.1232132922876312, 1.1199533372267787, 1.1166957934049884, 1.1134405951406834, 1.1101876769118193, 1.1069369733459375, 1.1036884192102443, 1.100441949401712, 1.0971974989372002, 1.093955002943591, 1.0907143966479327, 1.087475615367594, 1.0842385945004163, 1.081003269514868, 1.07776957594019, 1.0745374493565347, 1.0713068253850877, 1.0680776396781742, 1.0648498279093415, 1.0616233257634158, 1.0583980689265284, 1.0551739930761068, 1.0519510338708258, 1.0487291269405168, 1.045508207876026, 1.0422882122190245, 1.0390690754517555, 1.035850732986726, 1.0326331201563252, 1.0294161722023798, 1.0261998242656256, 1.0229840113751025, 1.0197686684374627, 1.016553730226188, 1.0133391313707099, 1.010124806345429, 1.0069106894586273, 1.0036967148412688, 1.00048281643568, 0.9972689279841093, 0.9940549830171531, 0.990840914842051, 0.9876266565308335, 0.9844121409083265, 0.9811973005399973, 0.9779820677196415, 0.9747663744569002, 0.9715501524646036, 0.9683333331459304, 0.9651158475813785, 0.9618976265155382, 0.9586786003436607, 0.9554586990980113, 0.9522378524340039, 0.9490159896161035, 0.9457930395034908, 0.9425689305354783, 0.9393435907166703, 0.9361169476018545, 0.9328889282806191, 0.9296594593616802, 0.9264284669569143, 0.9231958766650803, 0.9199616135552237, 0.9167256021497466, 0.9134877664071378, 0.9102480297043429, 0.9070063148187696, 0.9037625439099064, 0.9005166385005492, 0.8972685194576143, 0.894018106972528, 0.8907653205411735, 0.8875100789433834, 0.8842523002219562, 0.8809919016611847, 0.8777287997648731, 0.8744629102338306, 0.871194147942815, 0.8679224269169135, 0.8646476603073332, 0.8613697603665863, 0.8580886384230404, 0.8548042048548183, 0.8515163690630151, 0.8482250394442141, 0.8449301233622702, 0.8416315271193373, 0.8383291559261059, 0.8350229138712285, 0.8317127038898934, 0.8283984277315222, 0.82507998592655, 0.821757277752261, 0.8184302011976333, 0.815098652927164, 0.8117625282436266, 0.8084217210497248, 0.8050761238085928, 0.8017256275031042, 0.7983701215939308, 0.7950094939763143, 0.7916436309354844, 0.7882724171006811, 0.7848957353977135, 0.7815134670000023, 0.7781254912780369, 0.7747316857471859, 0.7713319260137863, 0.7679260857194453, 0.764514036483469, 0.7610956478433479, 0.7576707871932048, 0.7542393197201254, 0.7508011083382705, 0.7473560136206788, 0.74390389372865, 0.7404446043386061, 0.7369779985663124, 0.7335039268883392, 0.7300222370606367, 0.726532774034091, 0.7230353798669159, 0.7195298936337378, 0.71601615133121, 0.712493985779995, 0.7089632265229362, 0.7054236997192362, 0.7018752280344425, 0.6983176305260358, 0.6947507225243981, 0.6911743155089308, 0.687588216979073, 0.6839922303199605, 0.6803861546624455, 0.6767697847371851, 0.6731429107224821, 0.669505318085549, 0.6658567874168362, 0.6621970942570545, 0.6585260089164843, 0.65484329628615, 0.6511487156404, 0.6474420204304109, 0.6437229580680933, 0.6399912696998503, 0.6362466899695931, 0.6324889467703853, 0.6287177609840334, 0.624932846207907, 0.6211339084682007, 0.6173206459188156, 0.6134927485249564, 0.6096498977304912, 0.6057917661080331, 0.601918016990641, 0.598028304083933, 0.594122271057333, 0.5901995511130481, 0.5862597665312865, 0.5823025281900804, 0.5783274350579691, 0.5743340736576326, 0.5703220174984222, 0.5662908264755476, 0.5622400462334989, 0.5581692074910586, 0.5540778253250399, 0.5499653984096154, 0.5458314082078302, 0.5416753181115674, 0.5374965725258996, 0.5332945958933567, 0.5290687916532321, 0.5248185411305525, 0.5205432023488241, 0.5162421087600569, 0.5119145678849238, 0.5075598598551528, 0.5031772358494339, 0.49876591641317175, 0.4943250896513783, 0.4898539092827965, 0.48535149254202054, 0.4808169179148438, 0.476249222690357, 0.47164740031134356, 0.46701039750230167, 0.4623371111518542, 0.45762638492340174, 0.452877005564503, 0.44808769888162364, 0.4432571253424207, 0.43838387526259154, 0.43346646352831547, 0.42850332379836414, 0.4234928021218074, 0.41843314989772334, 0.41332251609209913, 0.40815893861390373, 0.4029403347366371, 0.3976644904330612, 0.39232904846857397, 0.38693149507205943, 0.38146914497093554, 0.375939124538305, 0.3703383527528692, 0.3646635196145427, 0.35891106158770963, 0.35307713355630743, 0.3471575766656889, 0.34114788128944284, 0.33504314418679376, 0.3288380186969743, 0.3225266565361063, 0.3161026393993647, 0.30955889809823756, 0.3028876163401115, 0.29608011542908097, 0.2891267150522811, 0.2820165637975168, 0.27473743095125236, 0.2672754481881163, 0.2596147855798745, 0.25173724028892036, 0.24362170735021405, 0.23524348840829098, 0.22657337331901048, 0.21757639617341185, 0.20821011252597887, 0.19842215133916036, 0.1881466295175174, 0.1772987078092207, 0.16576595478748973, 0.15339388240465374, 0.13995997708121918, 0.1251225688694633, 0.10830622745159332, 0.0883884038442272, 0.062469514665343846])\n",
      "    v10 = declare(int, )\n",
      "    v11 = declare(int, )\n",
      "    v12 = declare(int, )\n",
      "    v13 = declare(fixed, )\n",
      "    v14 = declare(int, )\n",
      "    a6 = declare(fixed, value=[1.0])\n",
      "    a7 = declare(fixed, value=[1.0])\n",
      "    a8 = declare(fixed, value=[0.0])\n",
      "    a9 = declare(fixed, value=[2.0])\n",
      "    v15 = declare(fixed, value=0.0)\n",
      "    v16 = declare(int, value=0)\n",
      "    v17 = declare(int, value=0)\n",
      "    a10 = declare(bool, value=[False])\n",
      "    v18 = declare(int, value=0)\n",
      "    v19 = declare(int, value=0)\n",
      "    v20 = declare(bool, )\n",
      "    v21 = declare(fixed, )\n",
      "    v22 = declare(fixed, )\n",
      "    v23 = declare(int, )\n",
      "    set_dc_offset(\"qA1.z\", \"single\", 0.03166772131930676)\n",
      "    set_dc_offset(\"qA2.z\", \"single\", 0.034239897043313046)\n",
      "    set_dc_offset(\"qA3.z\", \"single\", 0.03256548921911582)\n",
      "    set_dc_offset(\"qA6.z\", \"single\", 0.009021119201417297)\n",
      "    set_dc_offset(\"qB1.z\", \"single\", -0.008954116093996066)\n",
      "    set_dc_offset(\"qB2.z\", \"single\", 0.0019084245125127086)\n",
      "    set_dc_offset(\"qB3.z\", \"single\", 0.015003536966658874)\n",
      "    set_dc_offset(\"qB5.z\", \"single\", 0.0053399583150309906)\n",
      "    set_dc_offset(\"qC1.z\", \"single\", 0.011039717348771277)\n",
      "    set_dc_offset(\"qC4.z\", \"single\", -0.0035245017032889867)\n",
      "    set_dc_offset(\"qD1.z\", \"single\", 0.006521729696341516)\n",
      "    set_dc_offset(\"qD2.z\", \"single\", 0.01276006929312945)\n",
      "    set_dc_offset(\"qD3.z\", \"single\", 0.009880581627763554)\n",
      "    set_dc_offset(\"qD4.z\", \"single\", 0.00979358833046646)\n",
      "    set_dc_offset(\"qD5.z\", \"single\", -0.0015436385924613282)\n",
      "    set_dc_offset(\"qA4.z\", \"single\", 0.0)\n",
      "    set_dc_offset(\"qA5.z\", \"single\", 0.0)\n",
      "    set_dc_offset(\"qB4.z\", \"single\", 0.0)\n",
      "    set_dc_offset(\"qC2.z\", \"single\", 0.0)\n",
      "    set_dc_offset(\"qC3.z\", \"single\", 0.0)\n",
      "    set_dc_offset(\"qC5.z\", \"single\", 0.0)\n",
      "    with for_(v3,0,(v3<20),(v3+1)):\n",
      "        advance_input_stream(input_stream_mu)\n",
      "        advance_input_stream(input_stream_sigma)\n",
      "        advance_input_stream(input_stream_max_input_state)\n",
      "        with for_(v5,0,(input_stream_max_input_state>v5),(v5+1)):\n",
      "            advance_input_stream(input_stream_input_state_0)\n",
      "            advance_input_stream(input_stream_max_observables)\n",
      "            advance_input_stream(input_stream_pauli_shots)\n",
      "            with for_(v6,0,(input_stream_max_observables>v6),(v6+1)):\n",
      "                advance_input_stream(input_stream_observable_0)\n",
      "                assign(v9, (98+v3))\n",
      "                with for_(v7,0,(v7<32),(v7+2)):\n",
      "                    with for_(v10,0,(v10<input_stream_mu.length()),(v10+1)):\n",
      "                        assign(v13, Random(v9).rand_fixed())\n",
      "                        assign(v11, Cast.unsafe_cast_int((v13>>19)))\n",
      "                        assign(v12, (Cast.unsafe_cast_int(v13)&524287))\n",
      "                        assign(a2[v10], (input_stream_mu[v10]+((input_stream_sigma[v10]*a5[v11])*a4[(v12&511)])))\n",
      "                        assign(a3[v10], (input_stream_mu[v10]+((input_stream_sigma[v10]*a5[v11])*a4[((v12+128)&511)])))\n",
      "                    with for_(v14,0,(v14<a2.length()),(v14+1)):\n",
      "                        assign(a2[v14], ((a6[v14]*a2[v14])+a7[v14]))\n",
      "                        assign(a2[v14], Util.cond((a2[v14]<a8[v14]),a8[v14],a2[v14]))\n",
      "                        assign(a2[v14], Util.cond((a2[v14]>a9[v14]),a9[v14],a2[v14]))\n",
      "                        assign(a3[v14], ((a6[v14]*a3[v14])+a7[v14]))\n",
      "                        assign(a3[v14], Util.cond((a3[v14]<a8[v14]),a8[v14],a3[v14]))\n",
      "                        assign(a3[v14], Util.cond((a3[v14]>a9[v14]),a9[v14],a3[v14]))\n",
      "                    with for_(v8,0,(v8<2),(v8+1)):\n",
      "                        assign(v1, Util.cond((v8==0),a2[0],a3[0]))\n",
      "                        with for_(v4,0,(input_stream_pauli_shots>v4),(v4+1)):\n",
      "                            assign(v15, v1)\n",
      "                            assign(v16, input_stream_input_state_0)\n",
      "                            assign(v17, input_stream_observable_0)\n",
      "                            align(\"qA1.resonator\", \"qA1.xy\", \"qA1.z\")\n",
      "                            wait(25993, \"qA1.xy\", \"qA1.resonator\", \"qA1.z\")\n",
      "                            align(\"qA1.resonator\", \"qA1.xy\", \"qA1.z\")\n",
      "                            assign(v18, v16)\n",
      "                            with if_((v18==0), unsafe=True):\n",
      "                                align(\"qA1.resonator\", \"qA1.xy\", \"qA1.z\")\n",
      "                                wait(4, \"qA1.xy\", \"qA1.resonator\", \"qA1.z\")\n",
      "                                align(\"qA1.resonator\", \"qA1.xy\", \"qA1.z\")\n",
      "                            with elif_((v18==1)):\n",
      "                                align(\"qA1.resonator\", \"qA1.xy\", \"qA1.z\")\n",
      "                                play(\"x180_DragCosine\", \"qA1.xy\")\n",
      "                                align(\"qA1.resonator\", \"qA1.xy\", \"qA1.z\")\n",
      "                            with elif_((v18==2)):\n",
      "                                align(\"qA1.resonator\", \"qA1.xy\", \"qA1.z\")\n",
      "                                frame_rotation_2pi(0.25, \"qA1.xy\")\n",
      "                                align(\"qA1.resonator\", \"qA1.xy\", \"qA1.z\")\n",
      "                                align(\"qA1.resonator\", \"qA1.xy\", \"qA1.z\")\n",
      "                                play(\"x90_DragCosine\", \"qA1.xy\")\n",
      "                                align(\"qA1.resonator\", \"qA1.xy\", \"qA1.z\")\n",
      "                                align(\"qA1.resonator\", \"qA1.xy\", \"qA1.z\")\n",
      "                                frame_rotation_2pi(0.25, \"qA1.xy\")\n",
      "                                align(\"qA1.resonator\", \"qA1.xy\", \"qA1.z\")\n",
      "                            with elif_((v18==3)):\n",
      "                                align(\"qA1.resonator\", \"qA1.xy\", \"qA1.z\")\n",
      "                                frame_rotation_2pi(0.25, \"qA1.xy\")\n",
      "                                align(\"qA1.resonator\", \"qA1.xy\", \"qA1.z\")\n",
      "                                align(\"qA1.resonator\", \"qA1.xy\", \"qA1.z\")\n",
      "                                play(\"x90_DragCosine\", \"qA1.xy\")\n",
      "                                align(\"qA1.resonator\", \"qA1.xy\", \"qA1.z\")\n",
      "                                align(\"qA1.resonator\", \"qA1.xy\", \"qA1.z\")\n",
      "                                frame_rotation_2pi(-0.25000000000000006, \"qA1.xy\")\n",
      "                                align(\"qA1.resonator\", \"qA1.xy\", \"qA1.z\")\n",
      "                            with elif_((v18==4)):\n",
      "                                align(\"qA1.resonator\", \"qA1.xy\", \"qA1.z\")\n",
      "                                frame_rotation_2pi(0.25, \"qA1.xy\")\n",
      "                                align(\"qA1.resonator\", \"qA1.xy\", \"qA1.z\")\n",
      "                                align(\"qA1.resonator\", \"qA1.xy\", \"qA1.z\")\n",
      "                                play(\"x90_DragCosine\", \"qA1.xy\")\n",
      "                                align(\"qA1.resonator\", \"qA1.xy\", \"qA1.z\")\n",
      "                                align(\"qA1.resonator\", \"qA1.xy\", \"qA1.z\")\n",
      "                                frame_rotation_2pi(-0.5, \"qA1.xy\")\n",
      "                                align(\"qA1.resonator\", \"qA1.xy\", \"qA1.z\")\n",
      "                            with elif_((v18==5)):\n",
      "                                align(\"qA1.resonator\", \"qA1.xy\", \"qA1.z\")\n",
      "                                frame_rotation_2pi(0.25, \"qA1.xy\")\n",
      "                                align(\"qA1.resonator\", \"qA1.xy\", \"qA1.z\")\n",
      "                                align(\"qA1.resonator\", \"qA1.xy\", \"qA1.z\")\n",
      "                                play(\"x90_DragCosine\", \"qA1.xy\")\n",
      "                                align(\"qA1.resonator\", \"qA1.xy\", \"qA1.z\")\n",
      "                            align(\"qA1.resonator\", \"qA1.xy\", \"qA1.z\")\n",
      "                            play(\"x180\"*amp(v15), \"qA1.xy\")\n",
      "                            align(\"qA1.resonator\", \"qA1.xy\", \"qA1.z\")\n",
      "                            assign(v19, v17)\n",
      "                            with if_((v19==0), unsafe=True):\n",
      "                                align(\"qA1.resonator\", \"qA1.xy\", \"qA1.z\")\n",
      "                                wait(4, \"qA1.xy\", \"qA1.resonator\", \"qA1.z\")\n",
      "                                align(\"qA1.resonator\", \"qA1.xy\", \"qA1.z\")\n",
      "                            with elif_((v19==1)):\n",
      "                                align(\"qA1.resonator\", \"qA1.xy\", \"qA1.z\")\n",
      "                                frame_rotation_2pi(0.25, \"qA1.xy\")\n",
      "                                align(\"qA1.resonator\", \"qA1.xy\", \"qA1.z\")\n",
      "                                align(\"qA1.resonator\", \"qA1.xy\", \"qA1.z\")\n",
      "                                play(\"x90_DragCosine\", \"qA1.xy\")\n",
      "                                align(\"qA1.resonator\", \"qA1.xy\", \"qA1.z\")\n",
      "                                align(\"qA1.resonator\", \"qA1.xy\", \"qA1.z\")\n",
      "                                frame_rotation_2pi(0.25, \"qA1.xy\")\n",
      "                                align(\"qA1.resonator\", \"qA1.xy\", \"qA1.z\")\n",
      "                            with elif_((v19==2)):\n",
      "                                align(\"qA1.resonator\", \"qA1.xy\", \"qA1.z\")\n",
      "                                play(\"x90_DragCosine\", \"qA1.xy\")\n",
      "                                align(\"qA1.resonator\", \"qA1.xy\", \"qA1.z\")\n",
      "                                align(\"qA1.resonator\", \"qA1.xy\", \"qA1.z\")\n",
      "                                frame_rotation_2pi(0.25, \"qA1.xy\")\n",
      "                                align(\"qA1.resonator\", \"qA1.xy\", \"qA1.z\")\n",
      "                            align(\"qA1.resonator\", \"qA1.xy\", \"qA1.z\")\n",
      "                            measure(\"readout\", \"qA1.resonator\", dual_demod.full(\"iw1\", \"iw2\", v21), dual_demod.full(\"iw3\", \"iw1\", v22))\n",
      "                            assign(v20, (v21>0.00046371034258414534))\n",
      "                            align(\"qA1.resonator\", \"qA1.xy\", \"qA1.z\")\n",
      "                            assign(a10[0], v20)\n",
      "                            assign(v23, Cast.to_int(a10[0]))\n",
      "                            assign(a1[v23], (a1[v23]+1))\n",
      "                        with for_(v2,0,(v2<2),(v2+1)):\n",
      "                            r1 = declare_stream()\n",
      "                            save(a1[v2], r1)\n",
      "                        with for_(v2,0,(v2<2),(v2+1)):\n",
      "                            assign(a1[v2], 0)\n",
      "    with stream_processing():\n",
      "        r1.buffer(32, 2).save_all(\"reward\")\n",
      "\n",
      "\n",
      "config = None\n",
      "\n",
      "loaded_config = None\n",
      "\n",
      "\n"
     ]
    }
   ],
   "source": [
    "from qm import generate_qua_script\n",
    "# Print the QUA program\n",
    "print(generate_qua_script(q_env.rl_qoc_training_qua_prog(num_updates.total_updates)))"
   ]
  },
  {
   "cell_type": "code",
   "execution_count": 16,
   "id": "74f6e939d47b47df",
   "metadata": {
    "ExecuteTime": {
     "end_time": "2025-06-27T02:24:15.033467Z",
     "start_time": "2025-06-27T02:24:15.014441Z"
    }
   },
   "outputs": [
    {
     "data": {
      "text/plain": [
       "ChannelRewardDataList([ChannelRewardData(pub=EstimatorPub(<(32,)>), input_circuit=<qiskit.circuit.quantumcircuit.QuantumCircuit object at 0x344cf07d0>, observables=SparsePauliOp(['X'],\n",
       "              coeffs=[-1.+0.j]), n_reps=1, causal_cone_qubits_indices=[0], input_pauli=Pauli('X'), input_indices=(3,), observables_indices=[(1,)]), ChannelRewardData(pub=EstimatorPub(<(32,)>), input_circuit=<qiskit.circuit.quantumcircuit.QuantumCircuit object at 0x344633cd0>, observables=SparsePauliOp(['X'],\n",
       "              coeffs=[1.+0.j]), n_reps=1, causal_cone_qubits_indices=[0], input_pauli=Pauli('X'), input_indices=(2,), observables_indices=[(1,)]), ChannelRewardData(pub=EstimatorPub(<(32,)>), input_circuit=<qiskit.circuit.quantumcircuit.QuantumCircuit object at 0x34423b310>, observables=SparsePauliOp(['Y'],\n",
       "              coeffs=[1.5-0.j]), n_reps=1, causal_cone_qubits_indices=[0], input_pauli=Pauli('Y'), input_indices=(5,), observables_indices=[(2,)]), ChannelRewardData(pub=EstimatorPub(<(32,)>), input_circuit=<qiskit.circuit.quantumcircuit.QuantumCircuit object at 0x3446d1590>, observables=SparsePauliOp(['Y'],\n",
       "              coeffs=[-1.5+0.j]), n_reps=1, causal_cone_qubits_indices=[0], input_pauli=Pauli('Y'), input_indices=(4,), observables_indices=[(2,)]), ChannelRewardData(pub=EstimatorPub(<(32,)>), input_circuit=<qiskit.circuit.quantumcircuit.QuantumCircuit object at 0x344cf0890>, observables=SparsePauliOp(['Z'],\n",
       "              coeffs=[1.5-0.j]), n_reps=1, causal_cone_qubits_indices=[0], input_pauli=Pauli('Z'), input_indices=(1,), observables_indices=[(0,)]), ChannelRewardData(pub=EstimatorPub(<(32,)>), input_circuit=<qiskit.circuit.quantumcircuit.QuantumCircuit object at 0x3443b8750>, observables=SparsePauliOp(['Z'],\n",
       "              coeffs=[-1.5+0.j]), n_reps=1, causal_cone_qubits_indices=[0], input_pauli=Pauli('Z'), input_indices=(0,), observables_indices=[(0,)])])"
      ]
     },
     "execution_count": 16,
     "metadata": {},
     "output_type": "execute_result"
    }
   ],
   "source": [
    "reward.get_reward_data(\n",
    "    q_env.circuit, np.zeros((q_env.batch_size, q_env.n_actions)), q_env.target, q_env.config\n",
    ")"
   ]
  },
  {
   "cell_type": "markdown",
   "id": "803b9a62",
   "metadata": {},
   "source": [
    "# Defining the Agent and launching training\n",
    "\n",
    "To push efficiency, we have introduced a custom version of the PPO algorithm whose particularity is that the sampling of the actions is in fact replicating a sampling mechanism done in real-time within the OPX. This way, we can through seed sharing share the actions between the two entities without having to introduce any communication latency to perform training."
   ]
  },
  {
   "cell_type": "code",
   "execution_count": 29,
   "id": "92004f1ce40479d4",
   "metadata": {
    "ExecuteTime": {
     "end_time": "2025-06-27T02:36:42.074382Z",
     "start_time": "2025-06-27T02:36:41.325640Z"
    }
   },
   "outputs": [],
   "source": [
    "ppo_config = PPOConfig.from_yaml(\"agent_config.yaml\")\n",
    "ppo_agent = CustomQMPPO(ppo_config, rescaled_env)\n",
    "ppo_training = TrainingConfig(num_updates)\n",
    "ppo_settings = TrainFunctionSettings(plot_real_time=True, print_debug=True, num_prints=10)"
   ]
  },
  {
   "cell_type": "code",
   "execution_count": 30,
   "id": "b8e7a8b1",
   "metadata": {},
   "outputs": [
    {
     "name": "stdout",
     "output_type": "stream",
     "text": [
      "[]\n"
     ]
    }
   ],
   "source": [
    "running_jobs = backend.qmm.get_jobs(status=\"Running\")\n",
    "print(running_jobs)"
   ]
  },
  {
   "cell_type": "code",
   "execution_count": 31,
   "id": "031168ff",
   "metadata": {},
   "outputs": [],
   "source": [
    "backend.close_all_qms()"
   ]
  },
  {
   "cell_type": "code",
   "execution_count": 32,
   "id": "51cf4df459a0ed50",
   "metadata": {
    "ExecuteTime": {
     "end_time": "2025-06-27T02:36:47.353634Z",
     "start_time": "2025-06-27T02:36:44.232479Z"
    }
   },
   "outputs": [
    {
     "name": "stdout",
     "output_type": "stream",
     "text": [
      "[]\n"
     ]
    },
    {
     "name": "stderr",
     "output_type": "stream",
     "text": [
      "/Users/arthurostrauss/Library/CloudStorage/OneDrive-NationalUniversityofSingapore/Coding_projects/Quantum_Optimal_Control/.venv/lib/python3.11/site-packages/quam/components/channels.py:636: UserWarning: The 'thread' element argument is deprecated from qm.qua >= 1.2.2. Use 'core' instead.\n",
      "  warnings.warn(\n"
     ]
    },
    {
     "ename": "QMConnectionError",
     "evalue": "Encountered connection error from QOP: details: An internal error occurred., status: Status.INTERNAL",
     "output_type": "error",
     "traceback": [
      "\u001b[31m---------------------------------------------------------------------------\u001b[39m",
      "\u001b[31mGRPCError\u001b[39m                                 Traceback (most recent call last)",
      "\u001b[36mFile \u001b[39m\u001b[32m~/Library/CloudStorage/OneDrive-NationalUniversityofSingapore/Coding_projects/Quantum_Optimal_Control/.venv/lib/python3.11/site-packages/qm/api/base_api.py:53\u001b[39m, in \u001b[36mconnection_error_handle_decorator.<locals>.wrapped\u001b[39m\u001b[34m(*args, **kwargs)\u001b[39m\n\u001b[32m     52\u001b[39m \u001b[38;5;28;01mtry\u001b[39;00m:\n\u001b[32m---> \u001b[39m\u001b[32m53\u001b[39m     \u001b[38;5;28;01mreturn\u001b[39;00m \u001b[43mfunc\u001b[49m\u001b[43m(\u001b[49m\u001b[43m*\u001b[49m\u001b[43margs\u001b[49m\u001b[43m,\u001b[49m\u001b[43m \u001b[49m\u001b[43m*\u001b[49m\u001b[43m*\u001b[49m\u001b[43mkwargs\u001b[49m\u001b[43m)\u001b[49m\n\u001b[32m     54\u001b[39m \u001b[38;5;28;01mexcept\u001b[39;00m grpclib.exceptions.GRPCError \u001b[38;5;28;01mas\u001b[39;00m e:\n",
      "\u001b[36mFile \u001b[39m\u001b[32m~/Library/CloudStorage/OneDrive-NationalUniversityofSingapore/Coding_projects/Quantum_Optimal_Control/.venv/lib/python3.11/site-packages/qm/api/v2/base_api_v2.py:22\u001b[39m, in \u001b[36mBaseApiV2._run\u001b[39m\u001b[34m(coroutine)\u001b[39m\n\u001b[32m     19\u001b[39m \u001b[38;5;129m@staticmethod\u001b[39m\n\u001b[32m     20\u001b[39m \u001b[38;5;129m@connection_error_handle_decorator\u001b[39m\n\u001b[32m     21\u001b[39m \u001b[38;5;28;01mdef\u001b[39;00m\u001b[38;5;250m \u001b[39m\u001b[34m_run\u001b[39m(coroutine: Coroutine[Any, Any, ResponseProtocol[SuccessType, ErrorType]]) -> SuccessType:\n\u001b[32m---> \u001b[39m\u001b[32m22\u001b[39m     response = \u001b[43mrun_async\u001b[49m\u001b[43m(\u001b[49m\u001b[43mcoroutine\u001b[49m\u001b[43m)\u001b[49m\n\u001b[32m     23\u001b[39m     \u001b[38;5;28;01mtry\u001b[39;00m:  \u001b[38;5;66;03m# This one replaces the serialized-on-wire method, while we don't know the group name of the object\u001b[39;00m\n",
      "\u001b[36mFile \u001b[39m\u001b[32m~/Library/CloudStorage/OneDrive-NationalUniversityofSingapore/Coding_projects/Quantum_Optimal_Control/.venv/lib/python3.11/site-packages/qm/utils/async_utils.py:38\u001b[39m, in \u001b[36mrun_async\u001b[39m\u001b[34m(coroutine)\u001b[39m\n\u001b[32m     37\u001b[39m \u001b[38;5;28;01mdef\u001b[39;00m\u001b[38;5;250m \u001b[39m\u001b[34mrun_async\u001b[39m(coroutine: Coroutine[Any, Any, T]) -> T:\n\u001b[32m---> \u001b[39m\u001b[32m38\u001b[39m     \u001b[38;5;28;01mreturn\u001b[39;00m \u001b[43mcreate_future\u001b[49m\u001b[43m(\u001b[49m\u001b[43mcoroutine\u001b[49m\u001b[43m)\u001b[49m\u001b[43m.\u001b[49m\u001b[43mresult\u001b[49m\u001b[43m(\u001b[49m\u001b[43m)\u001b[49m\n",
      "\u001b[36mFile \u001b[39m\u001b[32m~/anaconda3/lib/python3.11/concurrent/futures/_base.py:456\u001b[39m, in \u001b[36mFuture.result\u001b[39m\u001b[34m(self, timeout)\u001b[39m\n\u001b[32m    455\u001b[39m \u001b[38;5;28;01melif\u001b[39;00m \u001b[38;5;28mself\u001b[39m._state == FINISHED:\n\u001b[32m--> \u001b[39m\u001b[32m456\u001b[39m     \u001b[38;5;28;01mreturn\u001b[39;00m \u001b[38;5;28;43mself\u001b[39;49m\u001b[43m.\u001b[49m\u001b[43m__get_result\u001b[49m\u001b[43m(\u001b[49m\u001b[43m)\u001b[49m\n\u001b[32m    457\u001b[39m \u001b[38;5;28;01melse\u001b[39;00m:\n",
      "\u001b[36mFile \u001b[39m\u001b[32m~/anaconda3/lib/python3.11/concurrent/futures/_base.py:401\u001b[39m, in \u001b[36mFuture.__get_result\u001b[39m\u001b[34m(self)\u001b[39m\n\u001b[32m    400\u001b[39m \u001b[38;5;28;01mtry\u001b[39;00m:\n\u001b[32m--> \u001b[39m\u001b[32m401\u001b[39m     \u001b[38;5;28;01mraise\u001b[39;00m \u001b[38;5;28mself\u001b[39m._exception\n\u001b[32m    402\u001b[39m \u001b[38;5;28;01mfinally\u001b[39;00m:\n\u001b[32m    403\u001b[39m     \u001b[38;5;66;03m# Break a reference cycle with the exception in self._exception\u001b[39;00m\n",
      "\u001b[36mFile \u001b[39m\u001b[32m~/Library/CloudStorage/OneDrive-NationalUniversityofSingapore/Coding_projects/Quantum_Optimal_Control/.venv/lib/python3.11/site-packages/qm/grpc/v2/__init__.py:1758\u001b[39m, in \u001b[36mQmmServiceStub.open_quantum_machine\u001b[39m\u001b[34m(self, open_quantum_machine_request, timeout, deadline, metadata)\u001b[39m\n\u001b[32m   1750\u001b[39m \u001b[38;5;28;01masync\u001b[39;00m \u001b[38;5;28;01mdef\u001b[39;00m\u001b[38;5;250m \u001b[39m\u001b[34mopen_quantum_machine\u001b[39m(\n\u001b[32m   1751\u001b[39m     \u001b[38;5;28mself\u001b[39m,\n\u001b[32m   1752\u001b[39m     open_quantum_machine_request: \u001b[33m\"\u001b[39m\u001b[33mOpenQuantumMachineRequest\u001b[39m\u001b[33m\"\u001b[39m,\n\u001b[32m   (...)\u001b[39m\u001b[32m   1756\u001b[39m     metadata: Optional[\u001b[33m\"\u001b[39m\u001b[33mMetadataLike\u001b[39m\u001b[33m\"\u001b[39m] = \u001b[38;5;28;01mNone\u001b[39;00m\n\u001b[32m   1757\u001b[39m ) -> \u001b[33m\"\u001b[39m\u001b[33mOpenQuantumMachineResponse\u001b[39m\u001b[33m\"\u001b[39m:\n\u001b[32m-> \u001b[39m\u001b[32m1758\u001b[39m     \u001b[38;5;28;01mreturn\u001b[39;00m \u001b[38;5;28;01mawait\u001b[39;00m \u001b[38;5;28mself\u001b[39m._unary_unary(\n\u001b[32m   1759\u001b[39m         \u001b[33m\"\u001b[39m\u001b[33m/qm.grpc.v2.QmmService/OpenQuantumMachine\u001b[39m\u001b[33m\"\u001b[39m,\n\u001b[32m   1760\u001b[39m         open_quantum_machine_request,\n\u001b[32m   1761\u001b[39m         OpenQuantumMachineResponse,\n\u001b[32m   1762\u001b[39m         timeout=timeout,\n\u001b[32m   1763\u001b[39m         deadline=deadline,\n\u001b[32m   1764\u001b[39m         metadata=metadata,\n\u001b[32m   1765\u001b[39m     )\n",
      "\u001b[36mFile \u001b[39m\u001b[32m~/Library/CloudStorage/OneDrive-NationalUniversityofSingapore/Coding_projects/Quantum_Optimal_Control/.venv/lib/python3.11/site-packages/betterproto/grpc/grpclib_client.py:85\u001b[39m, in \u001b[36mServiceStub._unary_unary\u001b[39m\u001b[34m(self, route, request, response_type, timeout, deadline, metadata)\u001b[39m\n\u001b[32m     84\u001b[39m     \u001b[38;5;28;01mawait\u001b[39;00m stream.send_message(request, end=\u001b[38;5;28;01mTrue\u001b[39;00m)\n\u001b[32m---> \u001b[39m\u001b[32m85\u001b[39m     response = \u001b[38;5;28;01mawait\u001b[39;00m stream.recv_message()\n\u001b[32m     86\u001b[39m \u001b[38;5;28;01massert\u001b[39;00m response \u001b[38;5;129;01mis\u001b[39;00m \u001b[38;5;129;01mnot\u001b[39;00m \u001b[38;5;28;01mNone\u001b[39;00m\n",
      "\u001b[36mFile \u001b[39m\u001b[32m~/Library/CloudStorage/OneDrive-NationalUniversityofSingapore/Coding_projects/Quantum_Optimal_Control/.venv/lib/python3.11/site-packages/grpclib/client.py:425\u001b[39m, in \u001b[36mStream.recv_message\u001b[39m\u001b[34m(self)\u001b[39m\n\u001b[32m    424\u001b[39m \u001b[38;5;28;01mif\u001b[39;00m \u001b[38;5;129;01mnot\u001b[39;00m \u001b[38;5;28mself\u001b[39m._recv_initial_metadata_done:\n\u001b[32m--> \u001b[39m\u001b[32m425\u001b[39m     \u001b[38;5;28;01mawait\u001b[39;00m \u001b[38;5;28mself\u001b[39m.recv_initial_metadata()\n\u001b[32m    427\u001b[39m \u001b[38;5;28;01mwith\u001b[39;00m \u001b[38;5;28mself\u001b[39m._wrapper:\n",
      "\u001b[36mFile \u001b[39m\u001b[32m~/Library/CloudStorage/OneDrive-NationalUniversityofSingapore/Coding_projects/Quantum_Optimal_Control/.venv/lib/python3.11/site-packages/grpclib/client.py:393\u001b[39m, in \u001b[36mStream.recv_initial_metadata\u001b[39m\u001b[34m(self)\u001b[39m\n\u001b[32m    391\u001b[39m     \u001b[38;5;28mself\u001b[39m.trailing_metadata = tm\n\u001b[32m--> \u001b[39m\u001b[32m393\u001b[39m     \u001b[38;5;28;43mself\u001b[39;49m\u001b[43m.\u001b[49m\u001b[43m_raise_for_grpc_status\u001b[49m\u001b[43m(\u001b[49m\u001b[43mstatus\u001b[49m\u001b[43m,\u001b[49m\u001b[43m \u001b[49m\u001b[43mmessage\u001b[49m\u001b[43m,\u001b[49m\u001b[43m \u001b[49m\u001b[43mdetails\u001b[49m\u001b[43m)\u001b[49m\n\u001b[32m    394\u001b[39m \u001b[38;5;28;01melse\u001b[39;00m:\n",
      "\u001b[36mFile \u001b[39m\u001b[32m~/Library/CloudStorage/OneDrive-NationalUniversityofSingapore/Coding_projects/Quantum_Optimal_Control/.venv/lib/python3.11/site-packages/grpclib/client.py:345\u001b[39m, in \u001b[36mStream._raise_for_grpc_status\u001b[39m\u001b[34m(self, status, message, details)\u001b[39m\n\u001b[32m    344\u001b[39m \u001b[38;5;28;01mif\u001b[39;00m status \u001b[38;5;129;01mis\u001b[39;00m \u001b[38;5;129;01mnot\u001b[39;00m Status.OK:\n\u001b[32m--> \u001b[39m\u001b[32m345\u001b[39m     \u001b[38;5;28;01mraise\u001b[39;00m GRPCError(status, message, details)\n",
      "\u001b[31mGRPCError\u001b[39m: (<Status.INTERNAL: 13>, 'An internal error occurred.', None)",
      "\nThe above exception was the direct cause of the following exception:\n",
      "\u001b[31mQMConnectionError\u001b[39m                         Traceback (most recent call last)",
      "\u001b[36mCell\u001b[39m\u001b[36m \u001b[39m\u001b[32mIn[32]\u001b[39m\u001b[32m, line 5\u001b[39m\n\u001b[32m      3\u001b[39m \u001b[38;5;28;01mif\u001b[39;00m \u001b[38;5;129;01mnot\u001b[39;00m running_jobs:\n\u001b[32m      4\u001b[39m     q_env.clear_history()\n\u001b[32m----> \u001b[39m\u001b[32m5\u001b[39m     job = \u001b[43mq_env\u001b[49m\u001b[43m.\u001b[49m\u001b[43mstart_program\u001b[49m\u001b[43m(\u001b[49m\u001b[43m)\u001b[49m\n\u001b[32m      6\u001b[39m     results = ppo_agent.train(ppo_training, ppo_settings)\n",
      "\u001b[36mFile \u001b[39m\u001b[32m~/Library/CloudStorage/OneDrive-NationalUniversityofSingapore/Coding_projects/Quantum_Optimal_Control/rl_qoc/qua/qm_environment.py:246\u001b[39m, in \u001b[36mQMEnvironment.start_program\u001b[39m\u001b[34m(self)\u001b[39m\n\u001b[32m    244\u001b[39m prog = \u001b[38;5;28mself\u001b[39m.rl_qoc_training_qua_prog(num_updates=\u001b[38;5;28mself\u001b[39m.qm_backend_config.num_updates)\n\u001b[32m    245\u001b[39m \u001b[38;5;28mself\u001b[39m.backend.close_all_qms()\n\u001b[32m--> \u001b[39m\u001b[32m246\u001b[39m \u001b[38;5;28mself\u001b[39m._qm_job = \u001b[38;5;28;43mself\u001b[39;49m\u001b[43m.\u001b[49m\u001b[43mqm\u001b[49m.execute(\n\u001b[32m    247\u001b[39m     prog, compiler_options=\u001b[38;5;28mself\u001b[39m.qm_backend_config.compiler_options\n\u001b[32m    248\u001b[39m )\n\u001b[32m    249\u001b[39m \u001b[38;5;28;01mreturn\u001b[39;00m \u001b[38;5;28mself\u001b[39m._qm_job\n",
      "\u001b[36mFile \u001b[39m\u001b[32m~/Library/CloudStorage/OneDrive-NationalUniversityofSingapore/Coding_projects/Quantum_Optimal_Control/rl_qoc/qua/qm_environment.py:288\u001b[39m, in \u001b[36mQMEnvironment.qm\u001b[39m\u001b[34m(self)\u001b[39m\n\u001b[32m    283\u001b[39m \u001b[38;5;129m@property\u001b[39m\n\u001b[32m    284\u001b[39m \u001b[38;5;28;01mdef\u001b[39;00m\u001b[38;5;250m \u001b[39m\u001b[34mqm\u001b[39m(\u001b[38;5;28mself\u001b[39m) -> QuantumMachine:\n\u001b[32m    285\u001b[39m \u001b[38;5;250m    \u001b[39m\u001b[33;03m\"\"\"\u001b[39;00m\n\u001b[32m    286\u001b[39m \u001b[33;03m    Get the QM object\u001b[39;00m\n\u001b[32m    287\u001b[39m \u001b[33;03m    \"\"\"\u001b[39;00m\n\u001b[32m--> \u001b[39m\u001b[32m288\u001b[39m     \u001b[38;5;28;01mreturn\u001b[39;00m \u001b[38;5;28;43mself\u001b[39;49m\u001b[43m.\u001b[49m\u001b[43mbackend\u001b[49m\u001b[43m.\u001b[49m\u001b[43mqm\u001b[49m \u001b[38;5;28;01mif\u001b[39;00m \u001b[38;5;28mself\u001b[39m.backend \u001b[38;5;129;01mis\u001b[39;00m \u001b[38;5;129;01mnot\u001b[39;00m \u001b[38;5;28;01mNone\u001b[39;00m \u001b[38;5;28;01melse\u001b[39;00m \u001b[38;5;28;01mNone\u001b[39;00m\n",
      "\u001b[36mFile \u001b[39m\u001b[32m~/Library/CloudStorage/OneDrive-QMMachinesLTD/GitHub/qiskit-qm-provider/qiskit_qm_provider/backend/qm_backend.py:290\u001b[39m, in \u001b[36mQMBackend.qm\u001b[39m\u001b[34m(self)\u001b[39m\n\u001b[32m    288\u001b[39m \u001b[38;5;28;01mif\u001b[39;00m \u001b[38;5;28mself\u001b[39m._qm \u001b[38;5;129;01mis\u001b[39;00m \u001b[38;5;28;01mNone\u001b[39;00m:\n\u001b[32m    289\u001b[39m     \u001b[38;5;28;01mif\u001b[39;00m \u001b[38;5;28misinstance\u001b[39m(\u001b[38;5;28mself\u001b[39m.qmm, (QuantumMachinesManager, CloudQuantumMachinesManager)):\n\u001b[32m--> \u001b[39m\u001b[32m290\u001b[39m         \u001b[38;5;28mself\u001b[39m._qm = \u001b[38;5;28;43mself\u001b[39;49m\u001b[43m.\u001b[49m\u001b[43mqmm\u001b[49m\u001b[43m.\u001b[49m\u001b[43mopen_qm\u001b[49m\u001b[43m(\u001b[49m\u001b[38;5;28;43mself\u001b[39;49m\u001b[43m.\u001b[49m\u001b[43mqm_config\u001b[49m\u001b[43m,\u001b[49m\u001b[43m \u001b[49m\u001b[43mclose_other_machines\u001b[49m\u001b[43m=\u001b[49m\u001b[38;5;28;43;01mTrue\u001b[39;49;00m\u001b[43m)\u001b[49m\n\u001b[32m    291\u001b[39m     \u001b[38;5;28;01melse\u001b[39;00m:\n\u001b[32m    292\u001b[39m         \u001b[38;5;28mself\u001b[39m._qm = \u001b[38;5;28mself\u001b[39m.qmm\n",
      "\u001b[36mFile \u001b[39m\u001b[32m~/Library/CloudStorage/OneDrive-NationalUniversityofSingapore/Coding_projects/Quantum_Optimal_Control/.venv/lib/python3.11/site-packages/qm/quantum_machines_manager.py:358\u001b[39m, in \u001b[36mQuantumMachinesManager.open_qm\u001b[39m\u001b[34m(self, config, close_other_machines, validate_with_protobuf, add_calibration_elements_to_config, use_calibration_data, keep_dc_offsets_when_closing, **kwargs)\u001b[39m\n\u001b[32m    356\u001b[39m     \u001b[38;5;28;01mif\u001b[39;00m keep_dc_offsets_when_closing:\n\u001b[32m    357\u001b[39m         \u001b[38;5;28;01mraise\u001b[39;00m \u001b[38;5;167;01mNotImplementedError\u001b[39;00m(\u001b[33m\"\u001b[39m\u001b[33mkeep_dc_offsets_when_closing is not supported in the current QOP version\u001b[39m\u001b[33m\"\u001b[39m)\n\u001b[32m--> \u001b[39m\u001b[32m358\u001b[39m     \u001b[38;5;28;01mreturn\u001b[39;00m \u001b[38;5;28;43mself\u001b[39;49m\u001b[43m.\u001b[49m\u001b[43m_api\u001b[49m\u001b[43m.\u001b[49m\u001b[43mopen_qm\u001b[49m\u001b[43m(\u001b[49m\u001b[43mloaded_config\u001b[49m\u001b[43m,\u001b[49m\u001b[43m \u001b[49m\u001b[43mclose_other_machines\u001b[49m\u001b[43m)\u001b[49m\n\u001b[32m    360\u001b[39m \u001b[38;5;28;01mif\u001b[39;00m \u001b[38;5;129;01mnot\u001b[39;00m \u001b[38;5;28mself\u001b[39m._caps.supports(QopCaps.keeping_dc_offsets):\n\u001b[32m    361\u001b[39m     \u001b[38;5;28;01mif\u001b[39;00m keep_dc_offsets_when_closing:\n",
      "\u001b[36mFile \u001b[39m\u001b[32m~/Library/CloudStorage/OneDrive-NationalUniversityofSingapore/Coding_projects/Quantum_Optimal_Control/.venv/lib/python3.11/site-packages/qm/api/v2/qmm_api.py:176\u001b[39m, in \u001b[36mQmmApi.open_qm\u001b[39m\u001b[34m(self, config, close_other_machines)\u001b[39m\n\u001b[32m    168\u001b[39m request = OpenQuantumMachineRequest(\n\u001b[32m    169\u001b[39m     config=config,\n\u001b[32m    170\u001b[39m     close_mode=OpenQuantumMachineRequestCloseMode.CLOSE_MODE_IF_NEEDED  \u001b[38;5;66;03m# type: ignore[arg-type]\u001b[39;00m\n\u001b[32m    171\u001b[39m     \u001b[38;5;28;01mif\u001b[39;00m close_other_machines\n\u001b[32m    172\u001b[39m     \u001b[38;5;28;01melse\u001b[39;00m OpenQuantumMachineRequestCloseMode.CLOSE_MODE_UNSPECIFIED,\n\u001b[32m    173\u001b[39m )\n\u001b[32m    175\u001b[39m \u001b[38;5;28;01mtry\u001b[39;00m:\n\u001b[32m--> \u001b[39m\u001b[32m176\u001b[39m     response = \u001b[38;5;28;43mself\u001b[39;49m\u001b[43m.\u001b[49m\u001b[43m_run\u001b[49m\u001b[43m(\u001b[49m\u001b[38;5;28;43mself\u001b[39;49m\u001b[43m.\u001b[49m\u001b[43m_stub\u001b[49m\u001b[43m.\u001b[49m\u001b[43mopen_quantum_machine\u001b[49m\u001b[43m(\u001b[49m\u001b[43mrequest\u001b[49m\u001b[43m,\u001b[49m\u001b[43m \u001b[49m\u001b[43mtimeout\u001b[49m\u001b[43m=\u001b[49m\u001b[38;5;28;43mself\u001b[39;49m\u001b[43m.\u001b[49m\u001b[43m_timeout\u001b[49m\u001b[43m)\u001b[49m\u001b[43m)\u001b[49m\n\u001b[32m    178\u001b[39m \u001b[38;5;28;01mexcept\u001b[39;00m QopResponseError \u001b[38;5;28;01mas\u001b[39;00m e:\n\u001b[32m    179\u001b[39m     error = e.error\n",
      "\u001b[36mFile \u001b[39m\u001b[32m~/Library/CloudStorage/OneDrive-NationalUniversityofSingapore/Coding_projects/Quantum_Optimal_Control/.venv/lib/python3.11/site-packages/qm/api/base_api.py:61\u001b[39m, in \u001b[36mconnection_error_handle_decorator.<locals>.wrapped\u001b[39m\u001b[34m(*args, **kwargs)\u001b[39m\n\u001b[32m     57\u001b[39m     \u001b[38;5;28;01mif\u001b[39;00m e.status == Status.UNIMPLEMENTED:\n\u001b[32m     58\u001b[39m         \u001b[38;5;28;01mraise\u001b[39;00m GatewayNotImplementedError(\n\u001b[32m     59\u001b[39m             \u001b[33mf\u001b[39m\u001b[33m\"\u001b[39m\u001b[33mEncountered connection error from QOP: details: \u001b[39m\u001b[38;5;132;01m{\u001b[39;00me.message\u001b[38;5;132;01m}\u001b[39;00m\u001b[33m, status: \u001b[39m\u001b[38;5;132;01m{\u001b[39;00me.status\u001b[38;5;132;01m}\u001b[39;00m\u001b[33m\"\u001b[39m\n\u001b[32m     60\u001b[39m         ) \u001b[38;5;28;01mfrom\u001b[39;00m\u001b[38;5;250m \u001b[39m\u001b[34;01me\u001b[39;00m\n\u001b[32m---> \u001b[39m\u001b[32m61\u001b[39m     \u001b[38;5;28;01mraise\u001b[39;00m QMConnectionError(\n\u001b[32m     62\u001b[39m         \u001b[33mf\u001b[39m\u001b[33m\"\u001b[39m\u001b[33mEncountered connection error from QOP: details: \u001b[39m\u001b[38;5;132;01m{\u001b[39;00me.message\u001b[38;5;132;01m}\u001b[39;00m\u001b[33m, status: \u001b[39m\u001b[38;5;132;01m{\u001b[39;00me.status\u001b[38;5;132;01m}\u001b[39;00m\u001b[33m\"\u001b[39m\n\u001b[32m     63\u001b[39m     ) \u001b[38;5;28;01mfrom\u001b[39;00m\u001b[38;5;250m \u001b[39m\u001b[34;01me\u001b[39;00m\n\u001b[32m     64\u001b[39m \u001b[38;5;28;01mexcept\u001b[39;00m asyncio.TimeoutError \u001b[38;5;28;01mas\u001b[39;00m e:\n\u001b[32m     65\u001b[39m     \u001b[38;5;28;01mif\u001b[39;00m is_debug():\n",
      "\u001b[31mQMConnectionError\u001b[39m: Encountered connection error from QOP: details: An internal error occurred., status: Status.INTERNAL"
     ]
    }
   ],
   "source": [
    "running_jobs = backend.qmm.get_jobs(status=\"Running\")\n",
    "print(running_jobs)\n",
    "if not running_jobs:\n",
    "    q_env.clear_history()\n",
    "    job = q_env.start_program()\n",
    "    results = ppo_agent.train(ppo_training, ppo_settings)"
   ]
  },
  {
   "cell_type": "code",
   "execution_count": 22,
   "id": "b7ed0b3f",
   "metadata": {},
   "outputs": [
    {
     "data": {
      "text/plain": [
       "{'avg_reward': [0.380625,\n",
       "  0.400625,\n",
       "  0.4190625,\n",
       "  0.39999999999999997,\n",
       "  0.40156249999999993],\n",
       " 'fidelity_history': [],\n",
       " 'hardware_runtime': [0.029133199999999998,\n",
       "  0.029133199999999998,\n",
       "  0.029133199999999998,\n",
       "  0.029133199999999998,\n",
       "  0.029133199999999998],\n",
       " 'total_shots': [100, 100, 100, 100, 100],\n",
       " 'total_updates': [],\n",
       " 'clipped_mean_action_0': [0.09371373802423477,\n",
       "  0.11522991210222244,\n",
       "  -0.01963583566248417,\n",
       "  0.2777049243450165,\n",
       "  0.1211027204990387],\n",
       " 'mean_action_0': [0.04206724464893341,\n",
       "  0.05287938937544823,\n",
       "  -0.014892343431711197,\n",
       "  0.1345251202583313,\n",
       "  0.05583054944872856],\n",
       " 'std_action_0': [0.502479076385498,\n",
       "  0.49933379888534546,\n",
       "  0.6567396521568298,\n",
       "  0.7888306975364685,\n",
       "  0.8054054379463196],\n",
       " 'mean_action': [0.05583054944872856],\n",
       " 'std_action': [0.8054054379463196],\n",
       " 'clipped_mean_action': [0.1211027204990387]}"
      ]
     },
     "execution_count": 22,
     "metadata": {},
     "output_type": "execute_result"
    }
   ],
   "source": [
    "results"
   ]
  },
  {
   "cell_type": "code",
   "execution_count": 31,
   "id": "578c1751",
   "metadata": {},
   "outputs": [
    {
     "name": "stderr",
     "output_type": "stream",
     "text": [
      "/var/folders/5w/ygx15jq94z5dzxwkmbbj8zfm0000gn/T/ipykernel_13534/2760244435.py:1: DeprecationWarning: job.halt is deprecated since \"1.2.0\" and will be removed in \"1.4.0\". This method was renamed to `job.cancel`.\n",
      "  job.halt()\n"
     ]
    },
    {
     "data": {
      "text/plain": [
       "True"
      ]
     },
     "execution_count": 31,
     "metadata": {},
     "output_type": "execute_result"
    }
   ],
   "source": [
    "job.halt()"
   ]
  },
  {
   "cell_type": "code",
   "execution_count": null,
   "id": "7f369fd49eb21c1b",
   "metadata": {
    "ExecuteTime": {
     "end_time": "2025-06-27T02:42:03.079887Z",
     "start_time": "2025-06-27T02:36:59.927654Z"
    }
   },
   "outputs": [
    {
     "name": "stderr",
     "output_type": "stream",
     "text": [
      "/Users/arthurostrauss/Library/CloudStorage/OneDrive-QMMachinesLTD/GitHub/quam/quam/components/channels.py:647: UserWarning: The 'thread' element argument is deprecated from qm.qua >= 1.2.2. Use 'core' instead.\n",
      "  warnings.warn(\n"
     ]
    },
    {
     "name": "stdout",
     "output_type": "stream",
     "text": [
      "2025-07-24 17:21:22,629 - qm - INFO     - Clearing queue\n",
      "2025-07-24 17:21:22 INFO Clearing queue\n",
      "2025-07-24 17:21:24,040 - qm - INFO     - Adding program to queue.\n",
      "2025-07-24 17:21:24 INFO Adding program to queue.\n",
      "Pushing value [-1.9800000190734863] to mu through input stream.\n",
      "Pushing value [0.009999999776482582] to sigma through input stream.\n",
      "Just pushed policy parameters to OPX: [-1.9800000190734863] [0.009999999776482582]\n",
      "Rescaled mean: [-1.98000002]\n",
      "Fetching index: 0, finishing index: 1\n",
      "Fetching size: 1\n",
      "Step indices: {0: (0, 1)}\n",
      "Total data points: 1\n",
      "Pushing value 0 to input_state_0 through input stream.\n",
      "Pushing value 1 to max_observables through input stream.\n",
      "Pushing value 100 to pauli_shots through input stream.\n",
      "Pushing value 0 to observable_0 through input stream.\n",
      "Fetching value from reward with input type None\n",
      "Fetched value: [[[64 36]\n",
      "  [62 38]\n",
      "  [71 29]\n",
      "  [57 43]\n",
      "  [58 42]\n",
      "  [54 46]\n",
      "  [64 36]\n",
      "  [56 44]\n",
      "  [65 35]\n",
      "  [62 38]\n",
      "  [60 40]\n",
      "  [64 36]\n",
      "  [63 37]\n",
      "  [57 43]\n",
      "  [63 37]\n",
      "  [67 33]\n",
      "  [64 36]\n",
      "  [48 52]\n",
      "  [67 33]\n",
      "  [52 48]\n",
      "  [60 40]\n",
      "  [58 42]\n",
      "  [56 44]\n",
      "  [65 35]\n",
      "  [63 37]\n",
      "  [59 41]\n",
      "  [56 44]\n",
      "  [61 39]\n",
      "  [60 40]\n",
      "  [67 33]\n",
      "  [61 39]\n",
      "  [61 39]]]\n",
      "Hardware runtime taken: 0.0 hours  0.0005 min  0.0291 seconds\n",
      "[0.36 0.38 0.29 0.43 0.42 0.46 0.36 0.44 0.35 0.38 0.4  0.36 0.37 0.43\n",
      " 0.37 0.33 0.36 0.52 0.33 0.48 0.4  0.42 0.44 0.35 0.37 0.41 0.44 0.39\n",
      " 0.4  0.33 0.39 0.39]\n",
      "Pushing value [-1.7705262899398804] to mu through input stream.\n"
     ]
    },
    {
     "ename": "QopResponseError",
     "evalue": "Error from QOP, details:\nJob 11020d50-05d5-458a-b88d-b5709e544b07 was not found.",
     "output_type": "error",
     "traceback": [
      "\u001b[0;31m---------------------------------------------------------------------------\u001b[0m",
      "\u001b[0;31mAttributeError\u001b[0m                            Traceback (most recent call last)",
      "File \u001b[0;32m~/Library/CloudStorage/OneDrive-NationalUniversityofSingapore/Coding_projects/Quantum_Optimal_Control/.venv/lib/python3.11/site-packages/qm/api/v2/base_api_v2.py:24\u001b[0m, in \u001b[0;36mBaseApiV2._run\u001b[0;34m(coroutine)\u001b[0m\n\u001b[1;32m     23\u001b[0m \u001b[38;5;28;01mtry\u001b[39;00m:  \u001b[38;5;66;03m# This one replaces the serialized-on-wire method, while we don't know the group name of the object\u001b[39;00m\n\u001b[0;32m---> 24\u001b[0m     \u001b[38;5;28;01mreturn\u001b[39;00m \u001b[43mresponse\u001b[49m\u001b[38;5;241;43m.\u001b[39;49m\u001b[43msuccess\u001b[49m\n\u001b[1;32m     25\u001b[0m \u001b[38;5;28;01mexcept\u001b[39;00m \u001b[38;5;167;01mAttributeError\u001b[39;00m:\n",
      "File \u001b[0;32m~/Library/CloudStorage/OneDrive-NationalUniversityofSingapore/Coding_projects/Quantum_Optimal_Control/.venv/lib/python3.11/site-packages/betterproto/__init__.py:840\u001b[0m, in \u001b[0;36mMessage.__getattribute__\u001b[0;34m(self, name)\u001b[0m\n\u001b[1;32m    839\u001b[0m             \u001b[38;5;28;01melse\u001b[39;00m:\n\u001b[0;32m--> 840\u001b[0m                 \u001b[38;5;28;01mraise\u001b[39;00m \u001b[38;5;167;01mAttributeError\u001b[39;00m(\n\u001b[1;32m    841\u001b[0m                     \u001b[38;5;124mf\u001b[39m\u001b[38;5;124m\"\u001b[39m\u001b[38;5;132;01m{\u001b[39;00mgroup\u001b[38;5;132;01m!r}\u001b[39;00m\u001b[38;5;124m is set to \u001b[39m\u001b[38;5;132;01m{\u001b[39;00mgroup_current[group]\u001b[38;5;132;01m!r}\u001b[39;00m\u001b[38;5;124m, not \u001b[39m\u001b[38;5;132;01m{\u001b[39;00mname\u001b[38;5;132;01m!r}\u001b[39;00m\u001b[38;5;124m\"\u001b[39m,\n\u001b[1;32m    842\u001b[0m                     name\u001b[38;5;241m=\u001b[39mname,\n\u001b[1;32m    843\u001b[0m                     obj\u001b[38;5;241m=\u001b[39m\u001b[38;5;28mself\u001b[39m,\n\u001b[1;32m    844\u001b[0m                 )\n\u001b[1;32m    846\u001b[0m value \u001b[38;5;241m=\u001b[39m \u001b[38;5;28msuper\u001b[39m()\u001b[38;5;241m.\u001b[39m\u001b[38;5;21m__getattribute__\u001b[39m(name)\n",
      "\u001b[0;31mAttributeError\u001b[0m: 'response_oneof' is set to 'error', not 'success'",
      "\nDuring handling of the above exception, another exception occurred:\n",
      "\u001b[0;31mQopResponseError\u001b[0m                          Traceback (most recent call last)",
      "Cell \u001b[0;32mIn[31], line 8\u001b[0m\n\u001b[1;32m      6\u001b[0m \u001b[38;5;28;01mfor\u001b[39;00m action \u001b[38;5;129;01min\u001b[39;00m np\u001b[38;5;241m.\u001b[39mlinspace(\u001b[38;5;241m-\u001b[39m\u001b[38;5;241m1.0\u001b[39m, \u001b[38;5;241m1.0\u001b[39m, \u001b[38;5;241m20\u001b[39m):\n\u001b[1;32m      7\u001b[0m     q_env\u001b[38;5;241m.\u001b[39mmean_action \u001b[38;5;241m=\u001b[39m rescaled_env\u001b[38;5;241m.\u001b[39maction(np\u001b[38;5;241m.\u001b[39marray([action], dtype\u001b[38;5;241m=\u001b[39mnp\u001b[38;5;241m.\u001b[39mfloat32))\n\u001b[0;32m----> 8\u001b[0m     \u001b[38;5;28mprint\u001b[39m(\u001b[43mq_env\u001b[49m\u001b[38;5;241;43m.\u001b[39;49m\u001b[43mstep\u001b[49m\u001b[43m(\u001b[49m\u001b[43mnp\u001b[49m\u001b[38;5;241;43m.\u001b[39;49m\u001b[43marray\u001b[49m\u001b[43m(\u001b[49m\u001b[43m[\u001b[49m\u001b[43maction\u001b[49m\u001b[43m]\u001b[49m\u001b[43m,\u001b[49m\u001b[43m \u001b[49m\u001b[43mdtype\u001b[49m\u001b[38;5;241;43m=\u001b[39;49m\u001b[43mnp\u001b[49m\u001b[38;5;241;43m.\u001b[39;49m\u001b[43mfloat32\u001b[49m\u001b[43m)\u001b[49m\u001b[43m)\u001b[49m[\u001b[38;5;241m1\u001b[39m])\n\u001b[1;32m      9\u001b[0m     reward\u001b[38;5;241m.\u001b[39mappend(q_env\u001b[38;5;241m.\u001b[39mreward_history[\u001b[38;5;241m-\u001b[39m\u001b[38;5;241m1\u001b[39m])\n\u001b[1;32m     10\u001b[0m     q_env\u001b[38;5;241m.\u001b[39mstep_tracker \u001b[38;5;241m+\u001b[39m\u001b[38;5;241m=\u001b[39m \u001b[38;5;241m1\u001b[39m\n",
      "File \u001b[0;32m~/Library/CloudStorage/OneDrive-NationalUniversityofSingapore/Coding_projects/Quantum_Optimal_Control/rl_qoc/qua/qm_environment.py:126\u001b[0m, in \u001b[0;36mQMEnvironment.step\u001b[0;34m(self, action)\u001b[0m\n\u001b[1;32m    123\u001b[0m \u001b[38;5;28mself\u001b[39m\u001b[38;5;241m.\u001b[39m_reward_data \u001b[38;5;241m=\u001b[39m reward_data\n\u001b[1;32m    125\u001b[0m \u001b[38;5;66;03m# Push policy parameters to trigger real-time action sampling\u001b[39;00m\n\u001b[0;32m--> 126\u001b[0m \u001b[38;5;28;43mself\u001b[39;49m\u001b[38;5;241;43m.\u001b[39;49m\u001b[43mpolicy\u001b[49m\u001b[38;5;241;43m.\u001b[39;49m\u001b[43mpush_to_opx\u001b[49m\u001b[43m(\u001b[49m\u001b[43m{\u001b[49m\u001b[38;5;124;43m\"\u001b[39;49m\u001b[38;5;124;43mmu\u001b[39;49m\u001b[38;5;124;43m\"\u001b[39;49m\u001b[43m:\u001b[49m\u001b[43m \u001b[49m\u001b[43mmean_val\u001b[49m\u001b[43m,\u001b[49m\u001b[43m \u001b[49m\u001b[38;5;124;43m\"\u001b[39;49m\u001b[38;5;124;43msigma\u001b[39;49m\u001b[38;5;124;43m\"\u001b[39;49m\u001b[43m:\u001b[49m\u001b[43m \u001b[49m\u001b[43mstd_val\u001b[49m\u001b[43m}\u001b[49m\u001b[43m,\u001b[49m\u001b[43m \u001b[49m\u001b[38;5;241;43m*\u001b[39;49m\u001b[38;5;241;43m*\u001b[39;49m\u001b[43mpush_args\u001b[49m\u001b[43m)\u001b[49m\n\u001b[1;32m    127\u001b[0m \u001b[38;5;28;01mif\u001b[39;00m \u001b[38;5;28mself\u001b[39m\u001b[38;5;241m.\u001b[39mqm_backend_config\u001b[38;5;241m.\u001b[39mverbosity \u001b[38;5;241m>\u001b[39m \u001b[38;5;241m1\u001b[39m:\n\u001b[1;32m    128\u001b[0m     \u001b[38;5;28mprint\u001b[39m(\u001b[38;5;124m\"\u001b[39m\u001b[38;5;124mJust pushed policy parameters to OPX:\u001b[39m\u001b[38;5;124m\"\u001b[39m, mean_val, std_val)\n",
      "File \u001b[0;32m~/Library/CloudStorage/OneDrive-QMMachinesLTD/GitHub/qiskit-qm-provider/qiskit_qm_provider/parameter_table/parameter_table.py:657\u001b[0m, in \u001b[0;36mParameterTable.push_to_opx\u001b[0;34m(self, param_dict, job, qm, verbosity)\u001b[0m\n\u001b[1;32m    655\u001b[0m \u001b[38;5;28;01mif\u001b[39;00m \u001b[38;5;28mself\u001b[39m\u001b[38;5;241m.\u001b[39minput_type \u001b[38;5;241m!=\u001b[39m InputType\u001b[38;5;241m.\u001b[39mDGX:\n\u001b[1;32m    656\u001b[0m     \u001b[38;5;28;01mfor\u001b[39;00m parameter, value \u001b[38;5;129;01min\u001b[39;00m param_dict\u001b[38;5;241m.\u001b[39mitems():\n\u001b[0;32m--> 657\u001b[0m         \u001b[38;5;28;43mself\u001b[39;49m\u001b[38;5;241;43m.\u001b[39;49m\u001b[43mget_parameter\u001b[49m\u001b[43m(\u001b[49m\u001b[43mparameter\u001b[49m\u001b[43m)\u001b[49m\u001b[38;5;241;43m.\u001b[39;49m\u001b[43mpush_to_opx\u001b[49m\u001b[43m(\u001b[49m\u001b[43mvalue\u001b[49m\u001b[43m,\u001b[49m\u001b[43m \u001b[49m\u001b[43mjob\u001b[49m\u001b[43m,\u001b[49m\u001b[43m \u001b[49m\u001b[43mqm\u001b[49m\u001b[43m,\u001b[49m\u001b[43m \u001b[49m\u001b[43mverbosity\u001b[49m\u001b[43m)\u001b[49m\n\u001b[1;32m    659\u001b[0m \u001b[38;5;28;01melse\u001b[39;00m:\n\u001b[1;32m    660\u001b[0m     \u001b[38;5;28;01mif\u001b[39;00m \u001b[38;5;129;01mnot\u001b[39;00m \u001b[38;5;28mself\u001b[39m\u001b[38;5;241m.\u001b[39m_usable_for_dgx_communication:\n",
      "File \u001b[0;32m~/Library/CloudStorage/OneDrive-QMMachinesLTD/GitHub/qiskit-qm-provider/qiskit_qm_provider/parameter_table/parameter.py:708\u001b[0m, in \u001b[0;36mParameter.push_to_opx\u001b[0;34m(self, value, job, qm, verbosity, time_out)\u001b[0m\n\u001b[1;32m    706\u001b[0m     \u001b[38;5;28;01mif\u001b[39;00m verbosity \u001b[38;5;241m>\u001b[39m \u001b[38;5;241m1\u001b[39m:\n\u001b[1;32m    707\u001b[0m         \u001b[38;5;28mprint\u001b[39m(\u001b[38;5;124mf\u001b[39m\u001b[38;5;124m\"\u001b[39m\u001b[38;5;124mPushing value \u001b[39m\u001b[38;5;132;01m{\u001b[39;00mvalue\u001b[38;5;132;01m}\u001b[39;00m\u001b[38;5;124m to \u001b[39m\u001b[38;5;132;01m{\u001b[39;00m\u001b[38;5;28mself\u001b[39m\u001b[38;5;241m.\u001b[39mname\u001b[38;5;132;01m}\u001b[39;00m\u001b[38;5;124m through input stream.\u001b[39m\u001b[38;5;124m\"\u001b[39m)\n\u001b[0;32m--> 708\u001b[0m     \u001b[43mjob\u001b[49m\u001b[38;5;241;43m.\u001b[39;49m\u001b[43mpush_to_input_stream\u001b[49m\u001b[43m(\u001b[49m\u001b[38;5;28;43mself\u001b[39;49m\u001b[38;5;241;43m.\u001b[39;49m\u001b[43mname\u001b[49m\u001b[43m,\u001b[49m\u001b[43m \u001b[49m\u001b[43mvalue\u001b[49m\u001b[43m)\u001b[49m\n\u001b[1;32m    710\u001b[0m \u001b[38;5;28;01melif\u001b[39;00m \u001b[38;5;28mself\u001b[39m\u001b[38;5;241m.\u001b[39minput_type \u001b[38;5;241m==\u001b[39m InputType\u001b[38;5;241m.\u001b[39mDGX:\n\u001b[1;32m    711\u001b[0m     \u001b[38;5;28;01mif\u001b[39;00m \u001b[38;5;28mself\u001b[39m\u001b[38;5;241m.\u001b[39mis_standalone():\n",
      "File \u001b[0;32m~/Library/CloudStorage/OneDrive-NationalUniversityofSingapore/Coding_projects/Quantum_Optimal_Control/.venv/lib/python3.11/site-packages/qm/api/v2/job_api/job_api.py:1010\u001b[0m, in \u001b[0;36mJobApiWithDeprecations.push_to_input_stream\u001b[0;34m(self, name, data)\u001b[0m\n\u001b[1;32m   1008\u001b[0m \u001b[38;5;28;01mif\u001b[39;00m \u001b[38;5;129;01mnot\u001b[39;00m \u001b[38;5;28misinstance\u001b[39m(data, \u001b[38;5;28mlist\u001b[39m):\n\u001b[1;32m   1009\u001b[0m     data \u001b[38;5;241m=\u001b[39m [data]\n\u001b[0;32m-> 1010\u001b[0m \u001b[38;5;28;43msuper\u001b[39;49m\u001b[43m(\u001b[49m\u001b[43m)\u001b[49m\u001b[38;5;241;43m.\u001b[39;49m\u001b[43mpush_to_input_stream\u001b[49m\u001b[43m(\u001b[49m\u001b[43mname\u001b[49m\u001b[43m,\u001b[49m\u001b[43m \u001b[49m\u001b[43mdata\u001b[49m\u001b[43m)\u001b[49m\n",
      "File \u001b[0;32m~/Library/CloudStorage/OneDrive-NationalUniversityofSingapore/Coding_projects/Quantum_Optimal_Control/.venv/lib/python3.11/site-packages/qm/api/v2/job_api/job_api.py:232\u001b[0m, in \u001b[0;36mJobApi.push_to_input_stream\u001b[0;34m(self, stream_name, data)\u001b[0m\n\u001b[1;32m    230\u001b[0m     \u001b[38;5;28mself\u001b[39m\u001b[38;5;241m.\u001b[39m_typed_push_to_input_stream(stream_name, \u001b[38;5;28mint\u001b[39m, data)\n\u001b[1;32m    231\u001b[0m \u001b[38;5;28;01melif\u001b[39;00m \u001b[38;5;28mall\u001b[39m(\u001b[38;5;28mtype\u001b[39m(element) \u001b[38;5;241m==\u001b[39m \u001b[38;5;28mfloat\u001b[39m \u001b[38;5;28;01mfor\u001b[39;00m element \u001b[38;5;129;01min\u001b[39;00m data):\n\u001b[0;32m--> 232\u001b[0m     \u001b[38;5;28;43mself\u001b[39;49m\u001b[38;5;241;43m.\u001b[39;49m\u001b[43m_typed_push_to_input_stream\u001b[49m\u001b[43m(\u001b[49m\u001b[43mstream_name\u001b[49m\u001b[43m,\u001b[49m\u001b[43m \u001b[49m\u001b[38;5;28;43mfloat\u001b[39;49m\u001b[43m,\u001b[49m\u001b[43m \u001b[49m\u001b[43mdata\u001b[49m\u001b[43m)\u001b[49m\n\u001b[1;32m    233\u001b[0m \u001b[38;5;28;01melse\u001b[39;00m:\n\u001b[1;32m    234\u001b[0m     \u001b[38;5;28;01mraise\u001b[39;00m QmValueError(\n\u001b[1;32m    235\u001b[0m         \u001b[38;5;124mf\u001b[39m\u001b[38;5;124m\"\u001b[39m\u001b[38;5;124mInvalid type in data, type is \u001b[39m\u001b[38;5;124m'\u001b[39m\u001b[38;5;132;01m{\u001b[39;00m\u001b[38;5;28mset\u001b[39m(\u001b[38;5;28mtype\u001b[39m(el)\u001b[38;5;250m \u001b[39m\u001b[38;5;28;01mfor\u001b[39;00m\u001b[38;5;250m \u001b[39mel\u001b[38;5;250m \u001b[39m\u001b[38;5;129;01min\u001b[39;00m\u001b[38;5;250m \u001b[39mdata)\u001b[38;5;132;01m}\u001b[39;00m\u001b[38;5;124m'\u001b[39m\u001b[38;5;124m, \u001b[39m\u001b[38;5;124m\"\u001b[39m\n\u001b[1;32m    236\u001b[0m         \u001b[38;5;124mf\u001b[39m\u001b[38;5;124m\"\u001b[39m\u001b[38;5;124mexcepted types are bool | int | float\u001b[39m\u001b[38;5;124m\"\u001b[39m\n\u001b[1;32m    237\u001b[0m     )\n",
      "File \u001b[0;32m~/Library/CloudStorage/OneDrive-NationalUniversityofSingapore/Coding_projects/Quantum_Optimal_Control/.venv/lib/python3.11/site-packages/qm/api/v2/job_api/job_api.py:258\u001b[0m, in \u001b[0;36mJobApi._typed_push_to_input_stream\u001b[0;34m(self, stream_name, data_type, data)\u001b[0m\n\u001b[1;32m    255\u001b[0m \u001b[38;5;28;01melse\u001b[39;00m:\n\u001b[1;32m    256\u001b[0m     \u001b[38;5;28;01mraise\u001b[39;00m \u001b[38;5;167;01mTypeError\u001b[39;00m(\u001b[38;5;124mf\u001b[39m\u001b[38;5;124m\"\u001b[39m\u001b[38;5;124mData type \u001b[39m\u001b[38;5;132;01m{\u001b[39;00mdata_type\u001b[38;5;132;01m}\u001b[39;00m\u001b[38;5;124m is not supported\u001b[39m\u001b[38;5;124m\"\u001b[39m)\n\u001b[0;32m--> 258\u001b[0m \u001b[38;5;28;43mself\u001b[39;49m\u001b[38;5;241;43m.\u001b[39;49m\u001b[43m_run\u001b[49m\u001b[43m(\u001b[49m\u001b[38;5;28;43mself\u001b[39;49m\u001b[38;5;241;43m.\u001b[39;49m\u001b[43m_stub\u001b[49m\u001b[38;5;241;43m.\u001b[39;49m\u001b[43mpush_to_input_stream\u001b[49m\u001b[43m(\u001b[49m\u001b[43mrequest\u001b[49m\u001b[43m,\u001b[49m\u001b[43m \u001b[49m\u001b[43mtimeout\u001b[49m\u001b[38;5;241;43m=\u001b[39;49m\u001b[38;5;28;43mself\u001b[39;49m\u001b[38;5;241;43m.\u001b[39;49m\u001b[43m_timeout\u001b[49m\u001b[43m)\u001b[49m\u001b[43m)\u001b[49m\n",
      "File \u001b[0;32m~/Library/CloudStorage/OneDrive-NationalUniversityofSingapore/Coding_projects/Quantum_Optimal_Control/.venv/lib/python3.11/site-packages/qm/api/base_api.py:53\u001b[0m, in \u001b[0;36mconnection_error_handle_decorator.<locals>.wrapped\u001b[0;34m(*args, **kwargs)\u001b[0m\n\u001b[1;32m     51\u001b[0m func_start_time \u001b[38;5;241m=\u001b[39m time\u001b[38;5;241m.\u001b[39mtime()\n\u001b[1;32m     52\u001b[0m \u001b[38;5;28;01mtry\u001b[39;00m:\n\u001b[0;32m---> 53\u001b[0m     \u001b[38;5;28;01mreturn\u001b[39;00m \u001b[43mfunc\u001b[49m\u001b[43m(\u001b[49m\u001b[38;5;241;43m*\u001b[39;49m\u001b[43margs\u001b[49m\u001b[43m,\u001b[49m\u001b[43m \u001b[49m\u001b[38;5;241;43m*\u001b[39;49m\u001b[38;5;241;43m*\u001b[39;49m\u001b[43mkwargs\u001b[49m\u001b[43m)\u001b[49m\n\u001b[1;32m     54\u001b[0m \u001b[38;5;28;01mexcept\u001b[39;00m grpclib\u001b[38;5;241m.\u001b[39mexceptions\u001b[38;5;241m.\u001b[39mGRPCError \u001b[38;5;28;01mas\u001b[39;00m e:\n\u001b[1;32m     55\u001b[0m     \u001b[38;5;28;01mif\u001b[39;00m is_debug():\n",
      "File \u001b[0;32m~/Library/CloudStorage/OneDrive-NationalUniversityofSingapore/Coding_projects/Quantum_Optimal_Control/.venv/lib/python3.11/site-packages/qm/api/v2/base_api_v2.py:26\u001b[0m, in \u001b[0;36mBaseApiV2._run\u001b[0;34m(coroutine)\u001b[0m\n\u001b[1;32m     24\u001b[0m     \u001b[38;5;28;01mreturn\u001b[39;00m response\u001b[38;5;241m.\u001b[39msuccess\n\u001b[1;32m     25\u001b[0m \u001b[38;5;28;01mexcept\u001b[39;00m \u001b[38;5;167;01mAttributeError\u001b[39;00m:\n\u001b[0;32m---> 26\u001b[0m     \u001b[38;5;28;01mraise\u001b[39;00m QopResponseError(error\u001b[38;5;241m=\u001b[39mresponse\u001b[38;5;241m.\u001b[39merror)\n",
      "\u001b[0;31mQopResponseError\u001b[0m: Error from QOP, details:\nJob 11020d50-05d5-458a-b88d-b5709e544b07 was not found."
     ]
    }
   ],
   "source": [
    "# Amplitude sweeping (Rabi Oscillation)\n",
    "q_env.std_action = np.array([0.01], dtype=np.float32)\n",
    "reward = []\n",
    "q_env.step_tracker = 0\n",
    "q_env.clear_history()\n",
    "q_env.start_program()\n",
    "for action in np.linspace(-1.0, 1.0, 20):\n",
    "    q_env.mean_action = np.array([action], dtype=np.float32)\n",
    "    print(q_env.step(np.array([action], dtype=np.float32))[1])\n",
    "    reward.append(q_env.reward_history[-1])\n",
    "    q_env.step_tracker += 1"
   ]
  },
  {
   "cell_type": "code",
   "execution_count": 32,
   "id": "e26816813a42343c",
   "metadata": {
    "ExecuteTime": {
     "end_time": "2025-06-27T02:42:12.844697Z",
     "start_time": "2025-06-27T02:42:12.801081Z"
    }
   },
   "outputs": [
    {
     "data": {
      "text/plain": [
       "[<matplotlib.lines.Line2D at 0x30b479b50>]"
      ]
     },
     "execution_count": 32,
     "metadata": {},
     "output_type": "execute_result"
    },
    {
     "data": {
      "image/png": "[encoded data removed]",
      "text/plain": [
       "<Figure size 640x480 with 1 Axes>"
      ]
     },
     "metadata": {},
     "output_type": "display_data"
    }
   ],
   "source": [
    "import matplotlib.pyplot as plt\n",
    "plt.plot(rescaled_env.action(np.linspace(-1.0, 1.0, 20)), np.mean(q_env.reward_history, axis=-1), marker=\"o\")"
   ]
  },
  {
   "cell_type": "code",
   "execution_count": 31,
   "id": "9176ebe0",
   "metadata": {},
   "outputs": [
    {
     "data": {
      "text/plain": [
       "SparsePauliOp(['I', 'Z'],\n",
       "              coeffs=[ 0.5+0.j, -0.5+0.j])"
      ]
     },
     "execution_count": 31,
     "metadata": {},
     "output_type": "execute_result"
    }
   ],
   "source": [
    "from qiskit.quantum_info import SparsePauliOp\n",
    "SparsePauliOp.from_operator(target.dm.to_operator())"
   ]
  },
  {
   "cell_type": "code",
   "execution_count": 32,
   "id": "5e3f0e0d",
   "metadata": {},
   "outputs": [
    {
     "data": {
      "image/png": "[encoded data removed]",
      "text/plain": [
       "<Figure size 640x480 with 1 Axes>"
      ]
     },
     "metadata": {},
     "output_type": "display_data"
    }
   ],
   "source": [
    "import matplotlib.pyplot as plt\n",
    "plt.plot(ppo_agent.training_results[\"clipped_mean_action_0\"])\n",
    "plt.xlabel(\"Epoch\")\n",
    "plt.ylabel(\"Mean action\")\n",
    "plt.title(\"Mean action over epochs\")\n",
    "plt.show()"
   ]
  },
  {
   "cell_type": "code",
   "execution_count": 29,
   "id": "86aeecc3",
   "metadata": {},
   "outputs": [
    {
     "data": {
      "image/png": "[encoded data removed]",
      "text/plain": [
       "<Figure size 640x480 with 1 Axes>"
      ]
     },
     "metadata": {},
     "output_type": "display_data"
    }
   ],
   "source": [
    "plt.plot(ppo_agent.training_results[\"std_action_0\"])\n",
    "plt.xlabel(\"Epoch\")\n",
    "plt.ylabel(\"Standard deviation\")\n",
    "plt.show()"
   ]
  },
  {
   "cell_type": "code",
   "execution_count": 30,
   "id": "9ef18dce",
   "metadata": {},
   "outputs": [
    {
     "data": {
      "text/plain": [
       "[0.32984375,\n",
       " 0.44062500000000004,\n",
       " 0.3925,\n",
       " 0.36703125000000003,\n",
       " 0.38328125,\n",
       " 0.419375,\n",
       " 0.50453125,\n",
       " 0.555625,\n",
       " 0.58859375,\n",
       " 0.56796875,\n",
       " 0.619375,\n",
       " 0.6140625,\n",
       " 0.6351562500000001,\n",
       " 0.6157812500000001,\n",
       " 0.6278125,\n",
       " 0.63890625,\n",
       " 0.581875,\n",
       " 0.61671875,\n",
       " 0.605,\n",
       " 0.6109375,\n",
       " 0.63859375,\n",
       " 0.63953125,\n",
       " 0.6343749999999999,\n",
       " 0.6534374999999999,\n",
       " 0.6271875,\n",
       " 0.63546875,\n",
       " 0.6375000000000001,\n",
       " 0.6395312500000001,\n",
       " 0.6443749999999999,\n",
       " 0.641875,\n",
       " 0.63796875,\n",
       " 0.6284375,\n",
       " 0.64953125,\n",
       " 0.64796875,\n",
       " 0.65078125,\n",
       " 0.64546875,\n",
       " 0.64828125,\n",
       " 0.6284375,\n",
       " 0.6460937499999999,\n",
       " 0.6364062500000001,\n",
       " 0.63109375,\n",
       " 0.6325000000000001,\n",
       " 0.64890625,\n",
       " 0.655625,\n",
       " 0.66359375,\n",
       " 0.6553125,\n",
       " 0.610625,\n",
       " 0.6031250000000001,\n",
       " 0.6470312500000001,\n",
       " 0.62359375,\n",
       " 0.6490625,\n",
       " 0.635,\n",
       " 0.6440625,\n",
       " 0.6214062499999999,\n",
       " 0.6453125000000001,\n",
       " 0.65921875,\n",
       " 0.6434375,\n",
       " 0.6625000000000001,\n",
       " 0.67140625,\n",
       " 0.65734375,\n",
       " 0.6671875,\n",
       " 0.619375,\n",
       " 0.6398437499999999,\n",
       " 0.668125,\n",
       " 0.66234375,\n",
       " 0.6631250000000001,\n",
       " 0.6585937500000001,\n",
       " 0.65671875,\n",
       " 0.645,\n",
       " 0.64796875,\n",
       " 0.670625,\n",
       " 0.6546875,\n",
       " 0.6696875,\n",
       " 0.6690625000000001,\n",
       " 0.6828125,\n",
       " 0.679375,\n",
       " 0.65328125,\n",
       " 0.6582812499999999,\n",
       " 0.68234375,\n",
       " 0.6828125,\n",
       " 0.6753125,\n",
       " 0.67796875,\n",
       " 0.6778125,\n",
       " 0.6854687500000001,\n",
       " 0.66578125,\n",
       " 0.690625,\n",
       " 0.7009375,\n",
       " 0.67234375,\n",
       " 0.7065625,\n",
       " 0.6720312500000001,\n",
       " 0.6915625000000001,\n",
       " 0.70171875,\n",
       " 0.6975,\n",
       " 0.7084375,\n",
       " 0.70140625,\n",
       " 0.70078125,\n",
       " 0.7059375,\n",
       " 0.7103124999999999,\n",
       " 0.694375,\n",
       " 0.7107812499999999]"
      ]
     },
     "execution_count": 30,
     "metadata": {},
     "output_type": "execute_result"
    }
   ],
   "source": [
    "ppo_agent.training_results[\"avg_reward\"]"
   ]
  },
  {
   "cell_type": "code",
   "execution_count": 55,
   "id": "305b0b0a",
   "metadata": {},
   "outputs": [
    {
     "data": {
      "text/plain": [
       "[<matplotlib.lines.Line2D at 0x309d64e10>]"
      ]
     },
     "execution_count": 55,
     "metadata": {},
     "output_type": "execute_result"
    },
    {
     "data": {
      "image/png": "[encoded data removed]",
      "text/plain": [
       "<Figure size 640x480 with 1 Axes>"
      ]
     },
     "metadata": {},
     "output_type": "display_data"
    }
   ],
   "source": [
    "import matplotlib.pyplot as plt\n",
    "plt.plot(np.mean(q_env.reward_history, axis=-1))"
   ]
  },
  {
   "cell_type": "code",
   "execution_count": 28,
   "id": "97580162bc2a7ec",
   "metadata": {},
   "outputs": [
    {
     "data": {
      "text/plain": [
       "'completed'"
      ]
     },
     "execution_count": 28,
     "metadata": {},
     "output_type": "execute_result"
    }
   ],
   "source": [
    "job.status"
   ]
  }
 ],
 "metadata": {
  "kernelspec": {
   "display_name": ".venv",
   "language": "python",
   "name": "python3"
  },
  "language_info": {
   "codemirror_mode": {
    "name": "ipython",
    "version": 3
   },
   "file_extension": ".py",
   "mimetype": "text/x-python",
   "name": "python",
   "nbconvert_exporter": "python",
   "pygments_lexer": "ipython3",
   "version": "3.11.5"
  }
 },
 "nbformat": 4,
 "nbformat_minor": 5
}

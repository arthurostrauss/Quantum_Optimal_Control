{
 "cells": [
  {
   "metadata": {},
   "cell_type": "markdown",
   "source": [
    "# Gate calibration with RL with the Quantum Orchestration Platform\n",
    "\n",
    "This notebook is the template workflow enabling you to run gate calibration leveraging all the low-level capabilities of the QOP for maximum efficiency."
   ],
   "id": "3e0343d0851848c2"
  },
  {
   "cell_type": "code",
   "id": "initial_id",
   "metadata": {
    "collapsed": true,
    "ExecuteTime": {
     "end_time": "2025-05-29T10:47:10.679851Z",
     "start_time": "2025-05-29T10:47:02.823675Z"
    }
   },
   "source": [
    "import numpy as np\n",
    "from qiskit.circuit import QuantumCircuit, QuantumRegister, Parameter, Gate\n",
    "from typing import List\n",
    "from gymnasium.spaces import Box\n",
    "from rl_qoc.qua import QMEnvironment, QMConfig, CustomQMPPO\n",
    "from quam_libs.components import QuAM, Transmon\n",
    "from qiskit_qm_provider import FluxTunableTransmonBackend, QMInstructionProperties, InputType\n",
    "from qiskit_qm_provider.backend_utils import add_basic_macros_to_machine\n",
    "from rl_qoc.agent.ppo_config import (\n",
    "    WandBConfig,\n",
    "    PPOConfig,\n",
    "    TrainingConfig,\n",
    "    TrainFunctionSettings,\n",
    "    TotalUpdates,\n",
    ")\n",
    "from rl_qoc import (\n",
    "    RescaleAndClipAction,\n",
    "    GateTargetConfig,\n",
    "    ChannelReward,\n",
    "    StateReward,\n",
    "    CAFEReward,\n",
    "    ExecutionConfig,\n",
    "    QEnvConfig,\n",
    "    BenchmarkConfig,\n",
    ")"
   ],
   "outputs": [
    {
     "name": "stdout",
     "output_type": "stream",
     "text": [
      "2025-05-29 18:47:10,419 - qm - INFO     - Starting session: ea7f33fe-72b0-47d7-8ee1-8e97084badde\n",
      "2025-05-29 18:47:10 INFO Starting session: ea7f33fe-72b0-47d7-8ee1-8e97084badde\n"
     ]
    }
   ],
   "execution_count": 1
  },
  {
   "metadata": {},
   "cell_type": "markdown",
   "source": "£## Accessing the device",
   "id": "e86df896fa91cf8f"
  },
  {
   "metadata": {
    "ExecuteTime": {
     "end_time": "2025-05-29T10:47:11.922610Z",
     "start_time": "2025-05-29T10:47:11.834283Z"
    }
   },
   "cell_type": "code",
   "source": [
    "machine = QuAM.load()\n",
    "if not machine.active_qubits[0].macros:\n",
    "    add_basic_macros_to_machine(machine)\n",
    "backend = FluxTunableTransmonBackend(machine)\n",
    "print(backend.target)"
   ],
   "id": "32e1f4aa24df6781",
   "outputs": [
    {
     "name": "stdout",
     "output_type": "stream",
     "text": [
      "Target: Transmon based QuAM\n",
      "Number of qubits: 5\n",
      "Instructions:\n",
      "\tx\n",
      "\t\t(0,)\n",
      "\t\t(1,)\n",
      "\t\t(2,)\n",
      "\t\t(3,)\n",
      "\t\t(4,)\n",
      "\trz\n",
      "\t\t(0,)\n",
      "\t\t(1,)\n",
      "\t\t(2,)\n",
      "\t\t(3,)\n",
      "\t\t(4,)\n",
      "\tsx\n",
      "\t\t(0,)\n",
      "\t\t(1,)\n",
      "\t\t(2,)\n",
      "\t\t(3,)\n",
      "\t\t(4,)\n",
      "\tmeasure\n",
      "\t\t(0,)\n",
      "\t\t(1,)\n",
      "\t\t(2,)\n",
      "\t\t(3,)\n",
      "\t\t(4,)\n",
      "\treset\n",
      "\t\t(0,)\n",
      "\t\t(1,)\n",
      "\t\t(2,)\n",
      "\t\t(3,)\n",
      "\t\t(4,)\n",
      "\tdelay\n",
      "\t\t(0,)\n",
      "\t\t(1,)\n",
      "\t\t(2,)\n",
      "\t\t(3,)\n",
      "\t\t(4,)\n",
      "\tif_else\n",
      "\twhile_loop\n",
      "\tfor_loop\n",
      "\tswitch_case\n",
      "\n"
     ]
    },
    {
     "name": "stderr",
     "output_type": "stream",
     "text": [
      "/Users/arthurostrauss/Library/CloudStorage/OneDrive-QMMachinesLTD/GitHub/qiskit-qm-provider/qiskit_qm_provider/flux_tunable_transmon_backend.py:54: UserWarning: qiskit.pulse is not available, channel mapping will not be set.\n",
      "  warnings.warn(\"qiskit.pulse is not available, channel mapping will not be set.\")\n"
     ]
    }
   ],
   "execution_count": 2
  },
  {
   "metadata": {
    "ExecuteTime": {
     "end_time": "2025-05-29T10:47:12.423562Z",
     "start_time": "2025-05-29T10:47:12.421795Z"
    }
   },
   "cell_type": "code",
   "source": [
    "print(\"Available qubits: \", backend.qubit_dict)\n",
    "print(\"Available qubit pairs: \", backend.qubit_pair_dict)"
   ],
   "id": "ec16b3bc30f20a34",
   "outputs": [
    {
     "name": "stdout",
     "output_type": "stream",
     "text": [
      "Available qubits:  {'qC1': 0, 'qC5': 1, 'qD1': 2, 'qD2': 3, 'qD3': 4}\n",
      "Available qubit pairs:  {}\n"
     ]
    }
   ],
   "execution_count": 3
  },
  {
   "metadata": {
    "ExecuteTime": {
     "end_time": "2025-05-29T10:47:13.154439Z",
     "start_time": "2025-05-29T10:47:13.152464Z"
    }
   },
   "cell_type": "code",
   "source": [
    "using_vpn = True\n",
    "if using_vpn:\n",
    "    machine.network[\"cloud\"] = False"
   ],
   "id": "3d185323175fc69",
   "outputs": [],
   "execution_count": 4
  },
  {
   "metadata": {},
   "cell_type": "markdown",
   "source": [
    "## Create a custom gate to edit\n",
    "\n",
    "We add at the Qiskit level the custom gate we want to calibrate, and we then specify the QUA macro in charge of \n",
    "implementing the parametrized pulse representation of this template parametrized gate."
   ],
   "id": "3b2ffe4bf1003726"
  },
  {
   "metadata": {
    "ExecuteTime": {
     "end_time": "2025-05-29T10:47:15.040711Z",
     "start_time": "2025-05-29T10:47:15.036162Z"
    }
   },
   "cell_type": "code",
   "source": [
    "def apply_parametrized_circuit(\n",
    "    qc: QuantumCircuit, params: List[Parameter], q_reg: QuantumRegister, **kwargs\n",
    "):\n",
    "\n",
    "    try:\n",
    "        physical_qubits: List[int] = kwargs[\"physical_qubits\"]\n",
    "        backend: FluxTunableTransmonBackend = kwargs[\"backend\"]\n",
    "    except KeyError:\n",
    "        raise KeyError(\n",
    "            \"Missing one of the required keys for the parametric circuit ('backend' and 'physical_qubits'\"\n",
    "        )\n",
    "    custom_x = Gate(\"x_cal\", 1, params)\n",
    "    qc.append(custom_x, [q_reg[0]])\n",
    "\n",
    "    def qua_macro(amp):\n",
    "        qubit: Transmon = backend.get_qubit(physical_qubits[0])\n",
    "        qubit.xy.play(\"x180\", amplitude_scale=amp)\n",
    "\n",
    "    instruction_prop = QMInstructionProperties(qua_pulse_macro=qua_macro)\n",
    "    backend.target.add_instruction(custom_x, {tuple(physical_qubits): instruction_prop})\n",
    "    return qc"
   ],
   "id": "46e10447b2c46372",
   "outputs": [],
   "execution_count": 5
  },
  {
   "metadata": {},
   "cell_type": "markdown",
   "source": [
    "## Create Environment configuration\n",
    "\n",
    "1. Create target instance: Specify which gate you want and on which qubit it should be applied\n",
    "2. Choose which reward scheme you want. You can choose among three methods that are carefully implemented within the QOP: Direct Channel/State Fidelity Estimation (DFE), and Context-Aware Fidelity Estimation (CAFE)"
   ],
   "id": "7b3517e088f88b5"
  },
  {
   "metadata": {
    "ExecuteTime": {
     "end_time": "2025-05-29T10:47:15.976225Z",
     "start_time": "2025-05-29T10:47:15.972971Z"
    }
   },
   "cell_type": "code",
   "source": [
    "physical_qubits = (0,)\n",
    "target_gate = \"x\"\n",
    "gate_target = GateTargetConfig(physical_qubits, gate=target_gate)\n",
    "reward = ChannelReward()"
   ],
   "id": "71e47a8b92d92320",
   "outputs": [],
   "execution_count": 6
  },
  {
   "metadata": {},
   "cell_type": "markdown",
   "source": [
    "3. Decide which action space to create\n",
    "4. Decide how the parameters should be passed to the QOP (Choose between Input Stream, DGX Quantum, IO variables)\n",
    "5. To fix the QUA program duration, we also can pass to the configuration the number of training updates expected (it should be the same variable used when declaring the agent).\n",
    "6. Set up training hyperparameters on the environment side"
   ],
   "id": "5b9740a46e2eb0fb"
  },
  {
   "metadata": {
    "ExecuteTime": {
     "end_time": "2025-05-29T10:47:16.811029Z",
     "start_time": "2025-05-29T10:47:16.736882Z"
    }
   },
   "cell_type": "code",
   "source": [
    "# Action space specification\n",
    "param_bounds = [(-1.98, 2.0)]  # Can be any number of bounds\n",
    "\n",
    "\n",
    "# Environment execution parameters\n",
    "seed = 1203  # Master seed to make training reproducible\n",
    "batch_size = 10  # Number of actions to evaluate per policy evaluation\n",
    "n_shots = 10  # Minimum number of shots per fiducial evaluation\n",
    "pauli_sampling = 100  # Number of fiducials to compute for fidelity estimation (DFE only)\n",
    "n_reps = 1  # Number of repetitions of the cycle circuit\n",
    "num_updates = TotalUpdates(50)\n",
    "\n",
    "input_type = InputType.INPUT_STREAM\n",
    "\n",
    "\n",
    "def create_action_space(param_bounds):\n",
    "    param_bounds = np.array(param_bounds, dtype=np.float32)\n",
    "    lower_bound, upper_bound = param_bounds.T\n",
    "    return Box(low=lower_bound, high=upper_bound, shape=(len(param_bounds),), dtype=np.float32)\n",
    "\n",
    "\n",
    "action_space = create_action_space(param_bounds)\n",
    "\n",
    "backend_config = QMConfig(\n",
    "    parametrized_circuit=apply_parametrized_circuit,\n",
    "    backend=backend,\n",
    "    input_type=input_type,\n",
    "    verbosity=2,\n",
    "    parametrized_circuit_kwargs={\"physical_qubits\": physical_qubits, \"backend\": backend},\n",
    "    num_updates=TotalUpdates.total_updates,\n",
    ")\n",
    "execution_config = ExecutionConfig(\n",
    "    batch_size=batch_size,\n",
    "    sampling_paulis=pauli_sampling,\n",
    "    n_shots=n_shots,\n",
    "    n_reps=n_reps,\n",
    "    seed=seed,\n",
    "    control_flow_enabled=True,\n",
    ")\n",
    "q_env_config = QEnvConfig(\n",
    "    target=gate_target,\n",
    "    backend_config=backend_config,\n",
    "    action_space=action_space,\n",
    "    execution_config=execution_config,\n",
    "    reward=reward,\n",
    "    benchmark_config=BenchmarkConfig(0),\n",
    ")  # No benchmark for now\n",
    "\n",
    "q_env = QMEnvironment(training_config=q_env_config)\n",
    "rescaled_env = RescaleAndClipAction(q_env, -1.0, 1.0)"
   ],
   "id": "6b0101d3fa6ae26a",
   "outputs": [],
   "execution_count": 7
  },
  {
   "metadata": {
    "ExecuteTime": {
     "end_time": "2025-05-29T10:47:18.155126Z",
     "start_time": "2025-05-29T10:47:17.755200Z"
    }
   },
   "cell_type": "code",
   "source": "q_env.real_time_circuit.draw(\"mpl\")",
   "id": "86f79b1c23a7d14b",
   "outputs": [
    {
     "data": {
      "text/plain": [
       "<Figure size 2252.61x451.5 with 1 Axes>"
      ],
      "image/png": "[encoded data removed]"
     },
     "execution_count": 8,
     "metadata": {},
     "output_type": "execute_result"
    }
   ],
   "execution_count": 8
  },
  {
   "metadata": {
    "ExecuteTime": {
     "end_time": "2025-05-29T07:31:09.358912Z",
     "start_time": "2025-05-29T07:31:08.894963Z"
    }
   },
   "cell_type": "code",
   "source": [
    "ppo_config = PPOConfig.from_yaml(\"agent_config.yaml\")\n",
    "ppo_agent = CustomQMPPO(ppo_config, rescaled_env)\n",
    "\n",
    "ppo_training = TrainingConfig(num_updates)\n",
    "ppo_settings = TrainFunctionSettings(plot_real_time=True, print_debug=True)"
   ],
   "id": "e8824a4e9bda9681",
   "outputs": [],
   "execution_count": 11
  },
  {
   "metadata": {},
   "cell_type": "code",
   "outputs": [],
   "execution_count": null,
   "source": "q_env.start_program()",
   "id": "b15b810aa507edcc"
  }
 ],
 "metadata": {
  "kernelspec": {
   "display_name": "Python 3",
   "language": "python",
   "name": "python3"
  },
  "language_info": {
   "codemirror_mode": {
    "name": "ipython",
    "version": 2
   },
   "file_extension": ".py",
   "mimetype": "text/x-python",
   "name": "python",
   "nbconvert_exporter": "python",
   "pygments_lexer": "ipython2",
   "version": "2.7.6"
  }
 },
 "nbformat": 4,
 "nbformat_minor": 5
}

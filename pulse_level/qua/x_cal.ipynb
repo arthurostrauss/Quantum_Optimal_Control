{
 "cells": [
  {
   "cell_type": "markdown",
   "id": "3e0343d0851848c2",
   "metadata": {},
   "source": [
    "# Gate calibration with RL with the Quantum Orchestration Platform\n",
    "\n",
    "This notebook is the template workflow enabling you to run gate calibration leveraging all the low-level capabilities of the QOP for maximum efficiency."
   ]
  },
  {
   "cell_type": "code",
   "execution_count": 1,
   "id": "initial_id",
   "metadata": {
    "ExecuteTime": {
     "end_time": "2025-07-10T05:48:06.419367Z",
     "start_time": "2025-07-10T05:48:06.405610Z"
    }
   },
   "outputs": [
    {
     "name": "stdout",
     "output_type": "stream",
     "text": [
      "2025-07-13 13:30:29,068 - qm - INFO     - Starting session: 76addb7a-386a-4382-9623-8216b4a2f071\n",
      "2025-07-13 13:30:29 INFO Starting session: 76addb7a-386a-4382-9623-8216b4a2f071\n"
     ]
    }
   ],
   "source": [
    "import numpy as np\n",
    "from qiskit.circuit import QuantumCircuit, QuantumRegister, Parameter, Gate\n",
    "from typing import List\n",
    "from gymnasium.spaces import Box\n",
    "from rl_qoc.qua import QMEnvironment, QMConfig, CustomQMPPO\n",
    "from quam_libs.components import QuAM, Transmon\n",
    "from qiskit_qm_provider import FluxTunableTransmonBackend, QMInstructionProperties, InputType\n",
    "from qiskit_qm_provider.backend import add_basic_macros_to_machine\n",
    "from rl_qoc.agent.ppo_config import (\n",
    "    WandBConfig,\n",
    "    PPOConfig,\n",
    "    TrainingConfig,\n",
    "    TrainFunctionSettings,\n",
    "    TotalUpdates,\n",
    ")\n",
    "from rl_qoc import (\n",
    "    RescaleAndClipAction,\n",
    "    ChannelReward,\n",
    "    StateReward,\n",
    "    CAFEReward,\n",
    "    ExecutionConfig,\n",
    "    QEnvConfig,\n",
    "    BenchmarkConfig,\n",
    "    GateTarget,\n",
    "    StateTarget,\n",
    ")"
   ]
  },
  {
   "cell_type": "markdown",
   "id": "e86df896fa91cf8f",
   "metadata": {},
   "source": [
    "## Accessing the device\n",
    "\n",
    "Here, we fetch the latest calibration data from one of the IQCC available devices. For now, the two available ones are Gilboa (\"gilboa\") and Arbel (\"arbel\")."
   ]
  },
  {
   "cell_type": "code",
   "execution_count": 2,
   "id": "127039d157766e3",
   "metadata": {
    "ExecuteTime": {
     "end_time": "2025-07-10T07:00:30.500958Z",
     "start_time": "2025-07-10T07:00:23.546780Z"
    }
   },
   "outputs": [],
   "source": [
    "from iqcc_cloud_client import IQCC_Cloud\n",
    "import json\n",
    "import os\n",
    "from pathlib import Path\n",
    "\n",
    "# Set your quantum computer backend\n",
    "path = Path.home() / \"iqcc_token.json\"\n",
    "with open(path, \"r\") as f:\n",
    "    iqcc_config = json.load(f)\n",
    "\n",
    "quantum_computer_backend = \"arbel\"  # for example qc_qwfix\n",
    "iqcc = IQCC_Cloud(\n",
    "    quantum_computer_backend=quantum_computer_backend,\n",
    "    api_token=iqcc_config[quantum_computer_backend],\n",
    ")\n",
    "# Get the latest state and wiring files\n",
    "latest_wiring = iqcc.state.get_latest(\"wiring\")\n",
    "latest_state = iqcc.state.get_latest(\"state\")\n",
    "\n",
    "# Get the state folder path from environment variable\n",
    "quam_state_folder_path = os.environ[\"QUAM_STATE_PATH\"]\n",
    "\n",
    "# Save the files\n",
    "with open(os.path.join(quam_state_folder_path, \"wiring.json\"), \"w\") as f:\n",
    "    json.dump(latest_wiring.data, f, indent=4)\n",
    "\n",
    "with open(os.path.join(quam_state_folder_path, \"state.json\"), \"w\") as f:\n",
    "    json.dump(latest_state.data, f, indent=4)"
   ]
  },
  {
   "cell_type": "code",
   "execution_count": 3,
   "id": "ef0c696a4cbbc48d",
   "metadata": {
    "ExecuteTime": {
     "end_time": "2025-07-10T07:01:17.206258Z",
     "start_time": "2025-07-10T07:01:12.727133Z"
    }
   },
   "outputs": [
    {
     "data": {
      "text/html": [
       "<pre style=\"white-space:pre;overflow-x:auto;line-height:normal;font-family:Menlo,'DejaVu Sans Mono',consolas,'Courier New',monospace\">Backend:         <span style=\"color: #000080; text-decoration-color: #000080; font-weight: bold\">arbel</span>\n",
       "</pre>\n"
      ],
      "text/plain": [
       "Backend:         \u001b[1;34marbel\u001b[0m\n"
      ]
     },
     "metadata": {},
     "output_type": "display_data"
    },
    {
     "data": {
      "text/html": [
       "<pre style=\"white-space:pre;overflow-x:auto;line-height:normal;font-family:Menlo,'DejaVu Sans Mono',consolas,'Courier New',monospace\">Status:          <span style=\"color: #800000; text-decoration-color: #800000; font-weight: bold\">🔴 offline</span>\n",
       "</pre>\n"
      ],
      "text/plain": [
       "Status:          \u001b[1;31m🔴 offline\u001b[0m\n"
      ]
     },
     "metadata": {},
     "output_type": "display_data"
    },
    {
     "data": {
      "text/html": [
       "<pre style=\"white-space:pre;overflow-x:auto;line-height:normal;font-family:Menlo,'DejaVu Sans Mono',consolas,'Courier New',monospace\">Description:     <span style=\"color: #008080; text-decoration-color: #008080; font-weight: bold\">21</span>-qubit superconducting processor featuring flux-tunable transmons with fixed coupling \n",
       "architecture\n",
       "\n",
       "</pre>\n"
      ],
      "text/plain": [
       "Description:     \u001b[1;36m21\u001b[0m-qubit superconducting processor featuring flux-tunable transmons with fixed coupling \n",
       "architecture\n",
       "\n"
      ]
     },
     "metadata": {},
     "output_type": "display_data"
    },
    {
     "data": {
      "text/html": [
       "<pre style=\"white-space:pre;overflow-x:auto;line-height:normal;font-family:Menlo,'DejaVu Sans Mono',consolas,'Courier New',monospace\"><span style=\"font-style: italic\">                  Available state information                  </span>\n",
       "┏━━━━━━━━━━━━━━━━━━━┳━━━━━━━━━━━━━━━━━━━━━━━━━━━━━━━━━━━━━━━━━┓\n",
       "┃<span style=\"font-weight: bold\"> datatype          </span>┃<span style=\"font-weight: bold\"> description                             </span>┃\n",
       "┡━━━━━━━━━━━━━━━━━━━╇━━━━━━━━━━━━━━━━━━━━━━━━━━━━━━━━━━━━━━━━━┩\n",
       "│<span style=\"color: #000080; text-decoration-color: #000080\"> </span><span style=\"color: #000080; text-decoration-color: #000080; font-weight: bold\">state</span><span style=\"color: #000080; text-decoration-color: #000080\">             </span>│ state used for the Quam object          │\n",
       "│<span style=\"color: #000080; text-decoration-color: #000080\"> </span><span style=\"color: #000080; text-decoration-color: #000080; font-weight: bold\">wiring</span><span style=\"color: #000080; text-decoration-color: #000080\">            </span>│ wiring used for the Quam object         │\n",
       "│<span style=\"color: #000080; text-decoration-color: #000080\"> </span><span style=\"color: #000080; text-decoration-color: #000080; font-weight: bold\">chipview_png</span><span style=\"color: #000080; text-decoration-color: #000080\">      </span>│ base64 encoded png image of chip layout │\n",
       "│<span style=\"color: #000080; text-decoration-color: #000080\"> </span><span style=\"color: #000080; text-decoration-color: #000080; font-weight: bold\">transpiler_target</span><span style=\"color: #000080; text-decoration-color: #000080\"> </span>│ Qiskit transpiler target information    │\n",
       "└───────────────────┴─────────────────────────────────────────┘\n",
       "</pre>\n"
      ],
      "text/plain": [
       "\u001b[3m                  Available state information                  \u001b[0m\n",
       "┏━━━━━━━━━━━━━━━━━━━┳━━━━━━━━━━━━━━━━━━━━━━━━━━━━━━━━━━━━━━━━━┓\n",
       "┃\u001b[1m \u001b[0m\u001b[1mdatatype         \u001b[0m\u001b[1m \u001b[0m┃\u001b[1m \u001b[0m\u001b[1mdescription                            \u001b[0m\u001b[1m \u001b[0m┃\n",
       "┡━━━━━━━━━━━━━━━━━━━╇━━━━━━━━━━━━━━━━━━━━━━━━━━━━━━━━━━━━━━━━━┩\n",
       "│\u001b[34m \u001b[0m\u001b[1;34mstate\u001b[0m\u001b[34m            \u001b[0m\u001b[34m \u001b[0m│ state used for the Quam object          │\n",
       "│\u001b[34m \u001b[0m\u001b[1;34mwiring\u001b[0m\u001b[34m           \u001b[0m\u001b[34m \u001b[0m│ wiring used for the Quam object         │\n",
       "│\u001b[34m \u001b[0m\u001b[1;34mchipview_png\u001b[0m\u001b[34m     \u001b[0m\u001b[34m \u001b[0m│ base64 encoded png image of chip layout │\n",
       "│\u001b[34m \u001b[0m\u001b[1;34mtranspiler_target\u001b[0m\u001b[34m \u001b[0m│ Qiskit transpiler target information    │\n",
       "└───────────────────┴─────────────────────────────────────────┘\n"
      ]
     },
     "metadata": {},
     "output_type": "display_data"
    },
    {
     "data": {
      "text/html": [
       "<pre style=\"white-space:pre;overflow-x:auto;line-height:normal;font-family:Menlo,'DejaVu Sans Mono',consolas,'Courier New',monospace\">👉 Get latest data as \n",
       "<span style=\"font-weight: bold\"> &lt;</span><span style=\"color: #ff00ff; text-decoration-color: #ff00ff; font-weight: bold\">backand_client</span><span style=\"color: #000000; text-decoration-color: #000000; font-weight: bold\">&gt;</span><span style=\"color: #800080; text-decoration-color: #800080; font-weight: bold\">.state.get_latest</span><span style=\"color: #000000; text-decoration-color: #000000; font-weight: bold\">(</span><span style=\"color: #008000; text-decoration-color: #008000; font-weight: bold\">\"</span><span style=\"color: #000080; text-decoration-color: #000080; font-weight: bold\">&lt;datatype&gt;</span><span style=\"color: #008000; text-decoration-color: #008000; font-weight: bold\">\"</span><span style=\"font-weight: bold\">).data</span>\n",
       "</pre>\n"
      ],
      "text/plain": [
       "👉 Get latest data as \n",
       "\u001b[1m \u001b[0m\u001b[1m<\u001b[0m\u001b[1;95mbackand_client\u001b[0m\u001b[1;39m>\u001b[0m\u001b[1;35m.state.get_latest\u001b[0m\u001b[1;39m(\u001b[0m\u001b[1;32m\"\u001b[0m\u001b[1;34m<datatype\u001b[0m\u001b[1;34m>\u001b[0m\u001b[1;32m\"\u001b[0m\u001b[1m)\u001b[0m\u001b[1m.data\u001b[0m\n"
      ]
     },
     "metadata": {},
     "output_type": "display_data"
    },
    {
     "data": {
      "text/html": [
       "<pre style=\"white-space:pre;overflow-x:auto;line-height:normal;font-family:Menlo,'DejaVu Sans Mono',consolas,'Courier New',monospace\">👉 Latest calibration <span style=\"font-weight: bold\">(</span>state<span style=\"font-weight: bold\">)</span>: <span style=\"color: #008080; text-decoration-color: #008080; font-weight: bold\">20</span> hours ago <span style=\"font-weight: bold\">(</span><span style=\"color: #008080; text-decoration-color: #008080; font-weight: bold\">2025</span>-<span style=\"color: #008080; text-decoration-color: #008080; font-weight: bold\">07</span>-<span style=\"color: #008080; text-decoration-color: #008080; font-weight: bold\">12</span> <span style=\"color: #00ff00; text-decoration-color: #00ff00; font-weight: bold\">09:02:07</span>.<span style=\"color: #008080; text-decoration-color: #008080; font-weight: bold\">261936</span>+<span style=\"color: #00ff00; text-decoration-color: #00ff00; font-weight: bold\">00:00</span><span style=\"font-weight: bold\">)</span>\n",
       "\n",
       "</pre>\n"
      ],
      "text/plain": [
       "👉 Latest calibration \u001b[1m(\u001b[0mstate\u001b[1m)\u001b[0m: \u001b[1;36m20\u001b[0m hours ago \u001b[1m(\u001b[0m\u001b[1;36m2025\u001b[0m-\u001b[1;36m07\u001b[0m-\u001b[1;36m12\u001b[0m \u001b[1;92m09:02:07\u001b[0m.\u001b[1;36m261936\u001b[0m+\u001b[1;92m00:00\u001b[0m\u001b[1m)\u001b[0m\n",
       "\n"
      ]
     },
     "metadata": {},
     "output_type": "display_data"
    },
    {
     "data": {
      "text/html": [
       "<pre style=\"white-space:pre;overflow-x:auto;line-height:normal;font-family:Menlo,'DejaVu Sans Mono',consolas,'Courier New',monospace\"><span style=\"font-style: italic\">                                           Available on-demand workflows                                           </span>\n",
       "┏━━━━━━━━━━━━━━┳━━━━━━━━━━━━━━━━━━━━━━━━━━━━━━━━━━━━━━━━━━━━━━━━━━━━━━━━━━━━━━━━━━━━━━━━━━━━━━━━━━━━━━━━━━━━━━━━━━┓\n",
       "┃<span style=\"font-weight: bold\"> workflow     </span>┃<span style=\"font-weight: bold\"> description                                                                                      </span>┃\n",
       "┡━━━━━━━━━━━━━━╇━━━━━━━━━━━━━━━━━━━━━━━━━━━━━━━━━━━━━━━━━━━━━━━━━━━━━━━━━━━━━━━━━━━━━━━━━━━━━━━━━━━━━━━━━━━━━━━━━━┩\n",
       "│<span style=\"color: #000080; text-decoration-color: #000080\"> </span><span style=\"color: #000080; text-decoration-color: #000080; font-weight: bold\">openqasm2qua</span><span style=\"color: #000080; text-decoration-color: #000080\"> </span>│ Compilation of OpenQASM3 program to QUA, assuming that transpilation is done (physical qubit     │\n",
       "│<span style=\"color: #000080; text-decoration-color: #000080\">              </span>│ allocation is done, and native gate set is used)                                                 │\n",
       "└──────────────┴──────────────────────────────────────────────────────────────────────────────────────────────────┘\n",
       "</pre>\n"
      ],
      "text/plain": [
       "\u001b[3m                                           Available on-demand workflows                                           \u001b[0m\n",
       "┏━━━━━━━━━━━━━━┳━━━━━━━━━━━━━━━━━━━━━━━━━━━━━━━━━━━━━━━━━━━━━━━━━━━━━━━━━━━━━━━━━━━━━━━━━━━━━━━━━━━━━━━━━━━━━━━━━━┓\n",
       "┃\u001b[1m \u001b[0m\u001b[1mworkflow    \u001b[0m\u001b[1m \u001b[0m┃\u001b[1m \u001b[0m\u001b[1mdescription                                                                                     \u001b[0m\u001b[1m \u001b[0m┃\n",
       "┡━━━━━━━━━━━━━━╇━━━━━━━━━━━━━━━━━━━━━━━━━━━━━━━━━━━━━━━━━━━━━━━━━━━━━━━━━━━━━━━━━━━━━━━━━━━━━━━━━━━━━━━━━━━━━━━━━━┩\n",
       "│\u001b[34m \u001b[0m\u001b[1;34mopenqasm2qua\u001b[0m\u001b[34m \u001b[0m│ Compilation of OpenQASM3 program to QUA, assuming that transpilation is done (physical qubit     │\n",
       "│\u001b[34m              \u001b[0m│ allocation is done, and native gate set is used)                                                 │\n",
       "└──────────────┴──────────────────────────────────────────────────────────────────────────────────────────────────┘\n"
      ]
     },
     "metadata": {},
     "output_type": "display_data"
    },
    {
     "data": {
      "text/html": [
       "<pre style=\"white-space:pre;overflow-x:auto;line-height:normal;font-family:Menlo,'DejaVu Sans Mono',consolas,'Courier New',monospace\">👉 Obtain more information about <span style=\"font-weight: bold\">payload</span> specification for each workflow as\n",
       "<span style=\"font-weight: bold\">&lt;</span><span style=\"color: #ff00ff; text-decoration-color: #ff00ff; font-weight: bold\">backand_client</span><span style=\"color: #000000; text-decoration-color: #000000; font-weight: bold\">&gt;</span><span style=\"color: #800080; text-decoration-color: #800080; font-weight: bold\">.run</span><span style=\"color: #000000; text-decoration-color: #000000; font-weight: bold\">(</span><span style=\"color: #008000; text-decoration-color: #008000; font-weight: bold\">\"</span><span style=\"color: #000080; text-decoration-color: #000080; font-weight: bold\">&lt;workflow&gt;</span><span style=\"color: #008000; text-decoration-color: #008000; font-weight: bold\">\"</span><span style=\"font-weight: bold\">)</span>\n",
       "</pre>\n"
      ],
      "text/plain": [
       "👉 Obtain more information about \u001b[1mpayload\u001b[0m specification for each workflow as\n",
       "\u001b[1m<\u001b[0m\u001b[1;95mbackand_client\u001b[0m\u001b[1;39m>\u001b[0m\u001b[1;35m.run\u001b[0m\u001b[1;39m(\u001b[0m\u001b[1;32m\"\u001b[0m\u001b[1;34m<workflow\u001b[0m\u001b[1;34m>\u001b[0m\u001b[1;32m\"\u001b[0m\u001b[1m)\u001b[0m\n"
      ]
     },
     "metadata": {},
     "output_type": "display_data"
    },
    {
     "data": {
      "text/html": [
       "<pre style=\"white-space:pre;overflow-x:auto;line-height:normal;font-family:Menlo,'DejaVu Sans Mono',consolas,'Courier New',monospace\">👉 Run on-demand workflow as \n",
       "<span style=\"font-weight: bold\">&lt;</span><span style=\"color: #ff00ff; text-decoration-color: #ff00ff; font-weight: bold\">backand_client</span><span style=\"color: #000000; text-decoration-color: #000000; font-weight: bold\">&gt;</span><span style=\"color: #800080; text-decoration-color: #800080; font-weight: bold\">.run</span><span style=\"color: #000000; text-decoration-color: #000000; font-weight: bold\">(</span><span style=\"color: #008000; text-decoration-color: #008000; font-weight: bold\">\"</span><span style=\"color: #000080; text-decoration-color: #000080; font-weight: bold\">&lt;workflow&gt;</span><span style=\"color: #008000; text-decoration-color: #008000; font-weight: bold\">\"</span><span style=\"font-weight: bold\">, payload)</span>\n",
       "</pre>\n"
      ],
      "text/plain": [
       "👉 Run on-demand workflow as \n",
       "\u001b[1m<\u001b[0m\u001b[1;95mbackand_client\u001b[0m\u001b[1;39m>\u001b[0m\u001b[1;35m.run\u001b[0m\u001b[1;39m(\u001b[0m\u001b[1;32m\"\u001b[0m\u001b[1;34m<workflow\u001b[0m\u001b[1;34m>\u001b[0m\u001b[1;32m\"\u001b[0m\u001b[1m, payload\u001b[0m\u001b[1m)\u001b[0m\n"
      ]
     },
     "metadata": {},
     "output_type": "display_data"
    },
    {
     "data": {
      "text/html": [
       "<pre style=\"white-space:pre;overflow-x:auto;line-height:normal;font-family:Menlo,'DejaVu Sans Mono',consolas,'Courier New',monospace\"><span style=\"font-style: italic\">                                           Supported native gates                                            </span>\n",
       "┏━━━━━━━━━┳━━━━━━━━━━━━━━━┳━━━━━━━━━━━━━━━━━━━━━━━━━━━━━━━━━━━━━━━━┳━━━━━━━━━━━━━━━━━━━━━━━━━━━━━━━━━━━━━━━━┓\n",
       "┃<span style=\"font-weight: bold\">    Gate </span>┃<span style=\"font-weight: bold\"> Qubits        </span>┃<span style=\"font-weight: bold\"> Error                                  </span>┃<span style=\"font-weight: bold\"> Duration                               </span>┃\n",
       "┡━━━━━━━━━╇━━━━━━━━━━━━━━━╇━━━━━━━━━━━━━━━━━━━━━━━━━━━━━━━━━━━━━━━━╇━━━━━━━━━━━━━━━━━━━━━━━━━━━━━━━━━━━━━━━━┩\n",
       "│<span style=\"color: #008080; text-decoration-color: #008080\">       </span><span style=\"color: #008080; text-decoration-color: #008080; font-weight: bold\">x</span><span style=\"color: #008080; text-decoration-color: #008080\"> </span>│<span style=\"color: #800080; text-decoration-color: #800080\"> 0, 1, 2, 3, 4 </span>│<span style=\"color: #008000; text-decoration-color: #008000\"> 0.0007, 0.0008, 0.0014, 0.0017, 0.0005 </span>│<span style=\"color: #008000; text-decoration-color: #008000\"> 32, 32, 32, 32, 32                     </span>│\n",
       "│<span style=\"color: #008080; text-decoration-color: #008080\">      </span><span style=\"color: #008080; text-decoration-color: #008080; font-weight: bold\">cz</span><span style=\"color: #008080; text-decoration-color: #008080\"> </span>│<span style=\"color: #800080; text-decoration-color: #800080\"> [1, 0]        </span>│<span style=\"color: #008000; text-decoration-color: #008000\"> 0.99                                   </span>│<span style=\"color: #008000; text-decoration-color: #008000\"> 40                                     </span>│\n",
       "│<span style=\"color: #008080; text-decoration-color: #008080\">      </span><span style=\"color: #008080; text-decoration-color: #008080; font-weight: bold\">rz</span><span style=\"color: #008080; text-decoration-color: #008080\"> </span>│<span style=\"color: #800080; text-decoration-color: #800080\"> 0, 1, 2, 3, 4 </span>│<span style=\"color: #008000; text-decoration-color: #008000\"> None, None, None, None, None           </span>│<span style=\"color: #008000; text-decoration-color: #008000\"> 4, 4, 4, 4, 4                          </span>│\n",
       "│<span style=\"color: #008080; text-decoration-color: #008080\">      </span><span style=\"color: #008080; text-decoration-color: #008080; font-weight: bold\">sx</span><span style=\"color: #008080; text-decoration-color: #008080\"> </span>│<span style=\"color: #800080; text-decoration-color: #800080\"> 0, 1, 2, 3, 4 </span>│<span style=\"color: #008000; text-decoration-color: #008000\"> 0.0007, 0.0008, 0.0014, 0.0017, 0.0005 </span>│<span style=\"color: #008000; text-decoration-color: #008000\"> 32, 32, 32, 32, 32                     </span>│\n",
       "│<span style=\"color: #008080; text-decoration-color: #008080\">   </span><span style=\"color: #008080; text-decoration-color: #008080; font-weight: bold\">delay</span><span style=\"color: #008080; text-decoration-color: #008080\"> </span>│<span style=\"color: #800080; text-decoration-color: #800080\"> 0, 1, 2, 3, 4 </span>│<span style=\"color: #008000; text-decoration-color: #008000\"> None, None, None, None, None           </span>│<span style=\"color: #008000; text-decoration-color: #008000\"> 4, 4, 4, 4, 4                          </span>│\n",
       "│<span style=\"color: #008080; text-decoration-color: #008080\">   </span><span style=\"color: #008080; text-decoration-color: #008080; font-weight: bold\">reset</span><span style=\"color: #008080; text-decoration-color: #008080\"> </span>│<span style=\"color: #800080; text-decoration-color: #800080\"> 0, 1, 2, 3, 4 </span>│<span style=\"color: #008000; text-decoration-color: #008000\"> None, None, None, None, None           </span>│<span style=\"color: #008000; text-decoration-color: #008000\"> 147636, 138888, 152876, 199696, 111508 </span>│\n",
       "│<span style=\"color: #008080; text-decoration-color: #008080\"> </span><span style=\"color: #008080; text-decoration-color: #008080; font-weight: bold\">measure</span><span style=\"color: #008080; text-decoration-color: #008080\"> </span>│<span style=\"color: #800080; text-decoration-color: #800080\"> 0, 1, 2, 3, 4 </span>│<span style=\"color: #008000; text-decoration-color: #008000\"> 0.0735, 0.077, 0.0477, 0.1695, 0.0677  </span>│<span style=\"color: #008000; text-decoration-color: #008000\"> None, None, None, None, None           </span>│\n",
       "└─────────┴───────────────┴────────────────────────────────────────┴────────────────────────────────────────┘\n",
       "</pre>\n"
      ],
      "text/plain": [
       "\u001b[3m                                           Supported native gates                                            \u001b[0m\n",
       "┏━━━━━━━━━┳━━━━━━━━━━━━━━━┳━━━━━━━━━━━━━━━━━━━━━━━━━━━━━━━━━━━━━━━━┳━━━━━━━━━━━━━━━━━━━━━━━━━━━━━━━━━━━━━━━━┓\n",
       "┃\u001b[1m \u001b[0m\u001b[1m   Gate\u001b[0m\u001b[1m \u001b[0m┃\u001b[1m \u001b[0m\u001b[1mQubits       \u001b[0m\u001b[1m \u001b[0m┃\u001b[1m \u001b[0m\u001b[1mError                                 \u001b[0m\u001b[1m \u001b[0m┃\u001b[1m \u001b[0m\u001b[1mDuration                              \u001b[0m\u001b[1m \u001b[0m┃\n",
       "┡━━━━━━━━━╇━━━━━━━━━━━━━━━╇━━━━━━━━━━━━━━━━━━━━━━━━━━━━━━━━━━━━━━━━╇━━━━━━━━━━━━━━━━━━━━━━━━━━━━━━━━━━━━━━━━┩\n",
       "│\u001b[36m \u001b[0m\u001b[36m      \u001b[0m\u001b[1;36mx\u001b[0m\u001b[36m \u001b[0m│\u001b[35m \u001b[0m\u001b[35m0, 1, 2, 3, 4\u001b[0m\u001b[35m \u001b[0m│\u001b[32m \u001b[0m\u001b[32m0.0007, 0.0008, 0.0014, 0.0017, 0.0005\u001b[0m\u001b[32m \u001b[0m│\u001b[32m \u001b[0m\u001b[32m32, 32, 32, 32, 32                    \u001b[0m\u001b[32m \u001b[0m│\n",
       "│\u001b[36m \u001b[0m\u001b[36m     \u001b[0m\u001b[1;36mcz\u001b[0m\u001b[36m \u001b[0m│\u001b[35m \u001b[0m\u001b[35m[1, 0]       \u001b[0m\u001b[35m \u001b[0m│\u001b[32m \u001b[0m\u001b[32m0.99                                  \u001b[0m\u001b[32m \u001b[0m│\u001b[32m \u001b[0m\u001b[32m40                                    \u001b[0m\u001b[32m \u001b[0m│\n",
       "│\u001b[36m \u001b[0m\u001b[36m     \u001b[0m\u001b[1;36mrz\u001b[0m\u001b[36m \u001b[0m│\u001b[35m \u001b[0m\u001b[35m0, 1, 2, 3, 4\u001b[0m\u001b[35m \u001b[0m│\u001b[32m \u001b[0m\u001b[32mNone, None, None, None, None          \u001b[0m\u001b[32m \u001b[0m│\u001b[32m \u001b[0m\u001b[32m4, 4, 4, 4, 4                         \u001b[0m\u001b[32m \u001b[0m│\n",
       "│\u001b[36m \u001b[0m\u001b[36m     \u001b[0m\u001b[1;36msx\u001b[0m\u001b[36m \u001b[0m│\u001b[35m \u001b[0m\u001b[35m0, 1, 2, 3, 4\u001b[0m\u001b[35m \u001b[0m│\u001b[32m \u001b[0m\u001b[32m0.0007, 0.0008, 0.0014, 0.0017, 0.0005\u001b[0m\u001b[32m \u001b[0m│\u001b[32m \u001b[0m\u001b[32m32, 32, 32, 32, 32                    \u001b[0m\u001b[32m \u001b[0m│\n",
       "│\u001b[36m \u001b[0m\u001b[36m  \u001b[0m\u001b[1;36mdelay\u001b[0m\u001b[36m \u001b[0m│\u001b[35m \u001b[0m\u001b[35m0, 1, 2, 3, 4\u001b[0m\u001b[35m \u001b[0m│\u001b[32m \u001b[0m\u001b[32mNone, None, None, None, None          \u001b[0m\u001b[32m \u001b[0m│\u001b[32m \u001b[0m\u001b[32m4, 4, 4, 4, 4                         \u001b[0m\u001b[32m \u001b[0m│\n",
       "│\u001b[36m \u001b[0m\u001b[36m  \u001b[0m\u001b[1;36mreset\u001b[0m\u001b[36m \u001b[0m│\u001b[35m \u001b[0m\u001b[35m0, 1, 2, 3, 4\u001b[0m\u001b[35m \u001b[0m│\u001b[32m \u001b[0m\u001b[32mNone, None, None, None, None          \u001b[0m\u001b[32m \u001b[0m│\u001b[32m \u001b[0m\u001b[32m147636, 138888, 152876, 199696, 111508\u001b[0m\u001b[32m \u001b[0m│\n",
       "│\u001b[36m \u001b[0m\u001b[1;36mmeasure\u001b[0m\u001b[36m \u001b[0m│\u001b[35m \u001b[0m\u001b[35m0, 1, 2, 3, 4\u001b[0m\u001b[35m \u001b[0m│\u001b[32m \u001b[0m\u001b[32m0.0735, 0.077, 0.0477, 0.1695, 0.0677 \u001b[0m\u001b[32m \u001b[0m│\u001b[32m \u001b[0m\u001b[32mNone, None, None, None, None          \u001b[0m\u001b[32m \u001b[0m│\n",
       "└─────────┴───────────────┴────────────────────────────────────────┴────────────────────────────────────────┘\n"
      ]
     },
     "metadata": {},
     "output_type": "display_data"
    },
    {
     "data": {
      "text/html": [
       "<pre style=\"white-space:pre;overflow-x:auto;line-height:normal;font-family:Menlo,'DejaVu Sans Mono',consolas,'Courier New',monospace\"><span style=\"font-style: italic\">                  Runtime available VISA instruments                  </span>\n",
       "┏━━━━━━━━━━━━┳━━━━━━━━━━━━━━━━━━━━━━━━━━━━━━━━━━━━━━━━━━━━━━━━━━━━━━━┓\n",
       "┃<span style=\"font-weight: bold\"> instrument </span>┃<span style=\"font-weight: bold\"> description                                           </span>┃\n",
       "┡━━━━━━━━━━━━╇━━━━━━━━━━━━━━━━━━━━━━━━━━━━━━━━━━━━━━━━━━━━━━━━━━━━━━━┩\n",
       "│<span style=\"color: #008080; text-decoration-color: #008080\"> </span><span style=\"color: #008080; text-decoration-color: #008080; font-weight: bold\">vna</span><span style=\"color: #008080; text-decoration-color: #008080\">        </span>│ Vector network analyser, Keysight Technologies,E5063A │\n",
       "└────────────┴───────────────────────────────────────────────────────┘\n",
       "</pre>\n"
      ],
      "text/plain": [
       "\u001b[3m                  Runtime available VISA instruments                  \u001b[0m\n",
       "┏━━━━━━━━━━━━┳━━━━━━━━━━━━━━━━━━━━━━━━━━━━━━━━━━━━━━━━━━━━━━━━━━━━━━━┓\n",
       "┃\u001b[1m \u001b[0m\u001b[1minstrument\u001b[0m\u001b[1m \u001b[0m┃\u001b[1m \u001b[0m\u001b[1mdescription                                          \u001b[0m\u001b[1m \u001b[0m┃\n",
       "┡━━━━━━━━━━━━╇━━━━━━━━━━━━━━━━━━━━━━━━━━━━━━━━━━━━━━━━━━━━━━━━━━━━━━━┩\n",
       "│\u001b[36m \u001b[0m\u001b[1;36mvna\u001b[0m\u001b[36m       \u001b[0m\u001b[36m \u001b[0m│ Vector network analyser, Keysight Technologies,E5063A │\n",
       "└────────────┴───────────────────────────────────────────────────────┘\n"
      ]
     },
     "metadata": {},
     "output_type": "display_data"
    },
    {
     "data": {
      "text/html": [
       "<pre style=\"white-space:pre;overflow-x:auto;line-height:normal;font-family:Menlo,'DejaVu Sans Mono',consolas,'Courier New',monospace\">👉 Use in pre-, post- or sync- hook as \n",
       "from iqcc_cloud_client.runtime import get_visa_client\n",
       "x = <span style=\"color: #800080; text-decoration-color: #800080; font-weight: bold\">get_visa_client</span><span style=\"font-weight: bold\">(</span><span style=\"color: #008000; text-decoration-color: #008000\">\"</span><span style=\"color: #000080; text-decoration-color: #000080; font-weight: bold\">&lt;instrument&gt;</span><span style=\"color: #008000; text-decoration-color: #008000\">\"</span><span style=\"font-weight: bold\">)</span>\n",
       "</pre>\n"
      ],
      "text/plain": [
       "👉 Use in pre-, post- or sync- hook as \n",
       "from iqcc_cloud_client.runtime import get_visa_client\n",
       "x = \u001b[1;35mget_visa_client\u001b[0m\u001b[1m(\u001b[0m\u001b[32m\"\u001b[0m\u001b[1;34m<\u001b[0m\u001b[1;34minstrument\u001b[0m\u001b[1;34m>\u001b[0m\u001b[32m\"\u001b[0m\u001b[1m)\u001b[0m\n"
      ]
     },
     "metadata": {},
     "output_type": "display_data"
    },
    {
     "data": {
      "text/plain": [
       "{'hooks': {'pre': {'schema': {}},\n",
       "  'post': {'schema': {}},\n",
       "  'sync': {'schema': {}}},\n",
       " 'state': {'state': {'description': 'state used for the Quam object'},\n",
       "  'wiring': {'description': 'wiring used for the Quam object'},\n",
       "  'chipview_png': {'description': 'base64 encoded png image of chip layout'},\n",
       "  'transpiler_target': {'description': 'Qiskit transpiler target information'}},\n",
       " 'online': False,\n",
       " 'runtime': {'visa': {'vna': {'description': 'Vector network analyser, Keysight Technologies,E5063A'}}},\n",
       " 'ondemand': {'openqasm2qua': {'schema': {'type': 'object',\n",
       "    'required': ['openqasm3', 'num_shots'],\n",
       "    'properties': {'num_shots': {'type': 'integer',\n",
       "      'description': 'number of repetitions of the circuit execution'},\n",
       "     'openqasm3': {'type': 'string',\n",
       "      'description': 'OpenQASM3 code as string'}},\n",
       "    'additionalProperties': False},\n",
       "   'description': 'Compilation of OpenQASM3 program to QUA, assuming that transpilation is done (physical qubit allocation is done, and native gate set is used)'}},\n",
       " 'description': '21-qubit superconducting processor featuring flux-tunable transmons with fixed coupling architecture',\n",
       " 'transpiler_target': {'x': [[0,\n",
       "    {'error': 0.0007115701998589019, 'duration': 32}],\n",
       "   [1, {'error': 0.0008494724188182756, 'duration': 32}],\n",
       "   [2, {'error': 0.0014118993089148324, 'duration': 32}],\n",
       "   [3, {'error': 0.0016581891055068576, 'duration': 32}],\n",
       "   [4, {'error': 0.00048594620985675796, 'duration': 32}]],\n",
       "  'cz': [[[1, 0], {'error': 0.99, 'duration': 40}]],\n",
       "  'rz': [[0, {'duration': 4}],\n",
       "   [1, {'duration': 4}],\n",
       "   [2, {'duration': 4}],\n",
       "   [3, {'duration': 4}],\n",
       "   [4, {'duration': 4}]],\n",
       "  'sx': [[0, {'error': 0.0007115701998589019, 'duration': 32}],\n",
       "   [1, {'error': 0.0008494724188182756, 'duration': 32}],\n",
       "   [2, {'error': 0.0014118993089148324, 'duration': 32}],\n",
       "   [3, {'error': 0.0016581891055068576, 'duration': 32}],\n",
       "   [4, {'error': 0.00048594620985675796, 'duration': 32}]],\n",
       "  'delay': [[0, {'duration': 4}],\n",
       "   [1, {'duration': 4}],\n",
       "   [2, {'duration': 4}],\n",
       "   [3, {'duration': 4}],\n",
       "   [4, {'duration': 4}]],\n",
       "  'reset': [[0, {'duration': 147636}],\n",
       "   [1, {'duration': 138888}],\n",
       "   [2, {'duration': 152876}],\n",
       "   [3, {'duration': 199696}],\n",
       "   [4, {'duration': 111508}]],\n",
       "  'measure': [[0, {'error': 0.07350000000000001}],\n",
       "   [1, {'error': 0.07699999999999996}],\n",
       "   [2, {'error': 0.04774999999999996}],\n",
       "   [3, {'error': 0.16949999999999998}],\n",
       "   [4, {'error': 0.06774999999999998}]]}}"
      ]
     },
     "execution_count": 3,
     "metadata": {},
     "output_type": "execute_result"
    }
   ],
   "source": [
    "iqcc.summary()"
   ]
  },
  {
   "cell_type": "markdown",
   "id": "924e3637",
   "metadata": {},
   "source": [
    "## Creating a Qiskit Backend interface from Quam.\n",
    "\n",
    "We have created a powerful Qiskit to QUA compiler that can enable the compilation (and execution) of almost all Qiskit QuantumCircuits, as long as they are transpiled against the backend object created from the Quam that we define below."
   ]
  },
  {
   "cell_type": "code",
   "execution_count": 4,
   "id": "32e1f4aa24df6781",
   "metadata": {
    "ExecuteTime": {
     "end_time": "2025-06-27T02:36:08.251756Z",
     "start_time": "2025-06-27T02:36:08.078568Z"
    }
   },
   "outputs": [
    {
     "name": "stdout",
     "output_type": "stream",
     "text": [
      "Target: Transmon based QuAM\n",
      "Number of qubits: 3\n",
      "Instructions:\n",
      "\tx\n",
      "\t\t(0,):\n",
      "\t\t\tDuration: 3.2e-08 sec.\n",
      "\t\t(1,):\n",
      "\t\t\tDuration: 3.2e-08 sec.\n",
      "\t\t(2,):\n",
      "\t\t\tDuration: 3.2e-08 sec.\n",
      "\trz\n",
      "\t\t(0,):\n",
      "\t\t\tDuration: 0 sec.\n",
      "\t\t\tError Rate: 0\n",
      "\t\t(1,):\n",
      "\t\t\tDuration: 0 sec.\n",
      "\t\t\tError Rate: 0\n",
      "\t\t(2,):\n",
      "\t\t\tDuration: 0 sec.\n",
      "\t\t\tError Rate: 0\n",
      "\tsx\n",
      "\t\t(0,):\n",
      "\t\t\tDuration: 3.2e-08 sec.\n",
      "\t\t(1,):\n",
      "\t\t\tDuration: 3.2e-08 sec.\n",
      "\t\t(2,):\n",
      "\t\t\tDuration: 3.2e-08 sec.\n",
      "\tsy\n",
      "\t\t(0,):\n",
      "\t\t\tDuration: 3.2e-08 sec.\n",
      "\t\t(1,):\n",
      "\t\t\tDuration: 3.2e-08 sec.\n",
      "\t\t(2,):\n",
      "\t\t\tDuration: 3.2e-08 sec.\n",
      "\tsydg\n",
      "\t\t(0,):\n",
      "\t\t\tDuration: 3.2e-08 sec.\n",
      "\t\t(1,):\n",
      "\t\t\tDuration: 3.2e-08 sec.\n",
      "\t\t(2,):\n",
      "\t\t\tDuration: 3.2e-08 sec.\n",
      "\tmeasure\n",
      "\t\t(0,):\n",
      "\t\t\tDuration: 1.65e-06 sec.\n",
      "\t\t(1,):\n",
      "\t\t\tDuration: 1.65e-06 sec.\n",
      "\t\t(2,):\n",
      "\t\t\tDuration: 1.65e-06 sec.\n",
      "\treset\n",
      "\t\t(0,):\n",
      "\t\t\tDuration: 0.00011186 sec.\n",
      "\t\t(1,):\n",
      "\t\t\tDuration: 0.000138544 sec.\n",
      "\t\t(2,):\n",
      "\t\t\tDuration: 8.9956e-05 sec.\n",
      "\tdelay\n",
      "\t\t(0,):\n",
      "\t\t(1,):\n",
      "\t\t(2,):\n",
      "\tid\n",
      "\t\t(0,):\n",
      "\t\t\tDuration: 0 sec.\n",
      "\t\t\tError Rate: 0\n",
      "\t\t(1,):\n",
      "\t\t\tDuration: 0 sec.\n",
      "\t\t\tError Rate: 0\n",
      "\t\t(2,):\n",
      "\t\t\tDuration: 0 sec.\n",
      "\t\t\tError Rate: 0\n",
      "\tif_else\n",
      "\twhile_loop\n",
      "\tfor_loop\n",
      "\tswitch_case\n",
      "\tbox\n",
      "\n"
     ]
    },
    {
     "name": "stderr",
     "output_type": "stream",
     "text": [
      "/Users/arthurostrauss/Library/CloudStorage/OneDrive-QMMachinesLTD/GitHub/qiskit-qm-provider/qiskit_qm_provider/backend/flux_tunable_transmon_backend.py:60: UserWarning: qiskit.pulse is not available, channel mapping will not be set.\n",
      "  warnings.warn(\"qiskit.pulse is not available, channel mapping will not be set.\")\n"
     ]
    }
   ],
   "source": [
    "machine = QuAM.load()\n",
    "\n",
    "add_basic_macros_to_machine(machine)\n",
    "backend = FluxTunableTransmonBackend(machine, name=quantum_computer_backend)\n",
    "backend.set_options(timeout=100)\n",
    "print(backend.target)"
   ]
  },
  {
   "cell_type": "code",
   "execution_count": 5,
   "id": "4e471be00afaf500",
   "metadata": {
    "ExecuteTime": {
     "end_time": "2025-06-27T02:36:08.619192Z",
     "start_time": "2025-06-27T02:36:08.617643Z"
    }
   },
   "outputs": [
    {
     "name": "stdout",
     "output_type": "stream",
     "text": [
      "Options(shots=1024, compiler_options=None, simulate=None, memory=False, skip_reset=False, meas_level=<MeasLevel.CLASSIFIED: 2>, meas_return=<MeasReturnType.AVERAGE: 'avg'>, timeout=100)\n"
     ]
    }
   ],
   "source": [
    "print(backend.options)"
   ]
  },
  {
   "cell_type": "code",
   "execution_count": 6,
   "id": "ec16b3bc30f20a34",
   "metadata": {
    "ExecuteTime": {
     "end_time": "2025-06-27T02:36:08.796662Z",
     "start_time": "2025-06-27T02:36:08.795104Z"
    }
   },
   "outputs": [
    {
     "name": "stdout",
     "output_type": "stream",
     "text": [
      "Available qubits:  {'qD2': 0, 'qD1': 1, 'qD3': 2}\n",
      "Available qubit pairs:  {}\n"
     ]
    }
   ],
   "source": [
    "print(\"Available qubits: \", backend.qubit_dict)\n",
    "print(\"Available qubit pairs: \", backend.qubit_pair_dict)"
   ]
  },
  {
   "cell_type": "code",
   "execution_count": 7,
   "id": "3d185323175fc69",
   "metadata": {
    "ExecuteTime": {
     "end_time": "2025-06-27T02:36:08.972641Z",
     "start_time": "2025-06-27T02:36:08.971223Z"
    }
   },
   "outputs": [],
   "source": [
    "using_vpn = True\n",
    "if using_vpn:\n",
    "    machine.network[\"cloud\"] = False\n",
    "    machine.network[\"port\"] = 9510\n",
    "else:\n",
    "    backend.qmm = iqcc"
   ]
  },
  {
   "cell_type": "code",
   "execution_count": 8,
   "id": "9d41e98c0f820e7b",
   "metadata": {
    "ExecuteTime": {
     "end_time": "2025-06-27T02:36:09.151819Z",
     "start_time": "2025-06-27T02:36:09.149493Z"
    }
   },
   "outputs": [
    {
     "data": {
      "text/plain": [
       "{'host': '10.1.1.6', 'port': 9510, 'cloud': False, 'octave_ips': [], 'cluster_name': 'galil_arbel', 'octave_ports': [], 'quantum_computer_backend': 'arbel'}"
      ]
     },
     "execution_count": 8,
     "metadata": {},
     "output_type": "execute_result"
    }
   ],
   "source": [
    "machine.network"
   ]
  },
  {
   "cell_type": "markdown",
   "id": "3b2ffe4bf1003726",
   "metadata": {},
   "source": [
    "## Create a custom gate to edit\n",
    "\n",
    "We add at the Qiskit level the custom gate we want to calibrate, and we then specify the QUA macro in charge of \n",
    "implementing the parametrized pulse representation of this template parametrized gate.\n",
    "\n",
    "The way we specify such gate is by implementing a function (think about a Pennylane qnode), that modifies an input QuantumCircuit, and adds a custom Gate of your choice that is parametrized in a certain fashion.\n",
    "The choice of the parametrization is defined by the action space specification (see below), and the shape of the QUA macro you decide to insert as a physical implementation of your gate. \n",
    "For now, parametrization is constrained to parameters that can be used to update the pulses in real-time, e.g. amplitude, phase, frequency, duration. For more advanced composite pulses, we can also think about baking some precomposite pulses, that could then be passed as keyword arguments to the parametrized circuit function."
   ]
  },
  {
   "cell_type": "code",
   "execution_count": 9,
   "id": "46e10447b2c46372",
   "metadata": {
    "ExecuteTime": {
     "end_time": "2025-06-27T02:36:09.332996Z",
     "start_time": "2025-06-27T02:36:09.330265Z"
    }
   },
   "outputs": [],
   "source": [
    "from rl_qoc.helpers import add_custom_gate\n",
    "\n",
    "def apply_parametrized_circuit(\n",
    "    qc: QuantumCircuit, params: List[Parameter], q_reg: QuantumRegister, **kwargs\n",
    "):\n",
    "\n",
    "    physical_qubits: List[int] = kwargs[\"physical_qubits\"]\n",
    "    backend: FluxTunableTransmonBackend = kwargs[\"backend\"]\n",
    "\n",
    "    # TODO: Enter your custom parametric QUA macro here\n",
    "    def qua_macro(amp):\n",
    "        qubit: Transmon = backend.get_qubit(physical_qubits[0])\n",
    "        qubit.xy.play(\"x180\", amplitude_scale=amp)\n",
    "\n",
    "    # Create a custom gate with the QUA macro\n",
    "    custom_x = Gate(\"x_cal\", 1, params)\n",
    "    x_duration = backend.target[\"x\"][(physical_qubits[0],)].duration\n",
    "    instruction_prop = QMInstructionProperties(duration=x_duration,qua_pulse_macro=qua_macro)\n",
    "    qc = add_custom_gate(\n",
    "        qc,\n",
    "        custom_x,\n",
    "        q_reg,\n",
    "        params,\n",
    "        physical_qubits,\n",
    "        backend,\n",
    "        instruction_prop\n",
    "    )\n",
    "    return qc"
   ]
  },
  {
   "cell_type": "markdown",
   "id": "7b3517e088f88b5",
   "metadata": {},
   "source": [
    "## Create Environment configuration\n",
    "\n",
    "1. Create target instance: Specify which gate you want and on which qubit it should be applied\n",
    "2. Choose which reward scheme you want. You can choose among three methods that are carefully implemented within the QOP: Direct Channel/State Fidelity Estimation (DFE), and Context-Aware Fidelity Estimation (CAFE)"
   ]
  },
  {
   "cell_type": "code",
   "execution_count": 10,
   "id": "71e47a8b92d92320",
   "metadata": {
    "ExecuteTime": {
     "end_time": "2025-06-27T02:36:09.512379Z",
     "start_time": "2025-06-27T02:36:09.509166Z"
    }
   },
   "outputs": [],
   "source": [
    "physical_qubits = (0,)\n",
    "target_gate = \"x\"\n",
    "target_state = \"1\"\n",
    "# We show the two possible targets:\n",
    "# 1. A gate target, i.e. a gate that we want to calibrate\n",
    "gate_target = GateTarget(physical_qubits=physical_qubits, gate=target_gate)\n",
    "# 2. A state target, i.e. a state that we want to reach\n",
    "state_target = StateTarget(state=target_state, physical_qubits=physical_qubits)\n",
    "# Choose the target\n",
    "target = state_target\n",
    "# Initialize the reward scheme to be used in the environment\n",
    "reward = StateReward()"
   ]
  },
  {
   "cell_type": "code",
   "execution_count": 11,
   "id": "2ad61b73",
   "metadata": {},
   "outputs": [],
   "source": [
    "\"\"\"\n",
    "It is possible to define custom reward methods, by inheriting from the Reward class. \n",
    "The two main methods to implement are:\n",
    "- get_reward_data: this method is called to generate the necessary data to pass to the OPX to compute the reward (e.g., observables, input states)\n",
    "- rl_qoc_training_qua_prog: this method is called to generate the QUA program that will be executed on the device to compute the reward.\n",
    "- qm_step: this method is called to compute the reward for a given epoch.\n",
    "\"\"\"\n",
    "from rl_qoc.qua.pi_pulse_reward import PiPulseReward\n",
    "reward = PiPulseReward()\n",
    "\n",
    "\n"
   ]
  },
  {
   "cell_type": "markdown",
   "id": "5b9740a46e2eb0fb",
   "metadata": {},
   "source": [
    "3. Decide which action space to create\n",
    "4. Decide how the parameters should be passed to the QOP (Choose between Input Stream, DGX Quantum, IO variables)\n",
    "5. To fix the QUA program duration, we also can pass to the configuration the number of training updates expected (it should be the same variable used when declaring the agent).\n",
    "6. Set up training hyperparameters on the environment side"
   ]
  },
  {
   "cell_type": "code",
   "execution_count": 12,
   "id": "6b0101d3fa6ae26a",
   "metadata": {
    "ExecuteTime": {
     "end_time": "2025-06-27T02:36:09.712320Z",
     "start_time": "2025-06-27T02:36:09.685617Z"
    }
   },
   "outputs": [],
   "source": [
    "# Action space specification\n",
    "param_bounds = [(0.02, 2.0)]  # Can be any number of bounds\n",
    "\n",
    "\n",
    "# Environment execution parameters\n",
    "seed = 56  # Master seed to make training reproducible\n",
    "batch_size = 8*4  # Number of actions to evaluate per policy evaluation\n",
    "n_shots = 50 # Minimum number of shots per fiducial evaluation\n",
    "pauli_sampling = 50  # Number of fiducials to compute for fidelity estimation (DFE only)\n",
    "n_reps = [1]  # Number of repetitions of the cycle circuit\n",
    "num_updates = TotalUpdates(100)\n",
    "\n",
    "input_type = InputType.INPUT_STREAM\n",
    "test_mode = True\n",
    "\n",
    "\n",
    "def create_action_space(param_bounds):\n",
    "    param_bounds = np.array(param_bounds, dtype=np.float32)\n",
    "    lower_bound, upper_bound = param_bounds.T\n",
    "    return Box(low=lower_bound, high=upper_bound, shape=(len(param_bounds),), dtype=np.float32)\n",
    "\n",
    "\n",
    "action_space = create_action_space(param_bounds)\n",
    "\n",
    "backend_config = QMConfig(\n",
    "    parametrized_circuit=apply_parametrized_circuit,\n",
    "    backend=backend,\n",
    "    input_type=input_type,\n",
    "    verbosity=2,\n",
    "    parametrized_circuit_kwargs={\"physical_qubits\": physical_qubits, \"backend\": backend},\n",
    "    num_updates=num_updates.total_updates,\n",
    "    timeout=40,\n",
    "    test_mode=test_mode,\n",
    ")\n",
    "execution_config = ExecutionConfig(\n",
    "    batch_size=batch_size,\n",
    "    sampling_paulis=pauli_sampling,\n",
    "    n_shots=n_shots,\n",
    "    n_reps=n_reps,\n",
    "    seed=seed,\n",
    ")\n",
    "q_env_config = QEnvConfig(\n",
    "    target=target,\n",
    "    backend_config=backend_config,\n",
    "    action_space=action_space,\n",
    "    execution_config=execution_config,\n",
    "    reward=reward,\n",
    "    benchmark_config=BenchmarkConfig(0),\n",
    ")  # No benchmark for now\n",
    "\n",
    "q_env = QMEnvironment(training_config=q_env_config)\n",
    "rescaled_env = RescaleAndClipAction(q_env, np.float32(-1.0), np.float32(1.0))"
   ]
  },
  {
   "cell_type": "code",
   "execution_count": 13,
   "id": "b8fd64dbe954c3e1",
   "metadata": {
    "ExecuteTime": {
     "end_time": "2025-06-27T02:36:09.890024Z",
     "start_time": "2025-06-27T02:36:09.887531Z"
    }
   },
   "outputs": [
    {
     "data": {
      "text/plain": [
       "MeasureMacro(id='measure', fidelity=None, duration=1.65e-06, pulse=SquareReadoutPulse(length=1500, id=None, digital_marker='ON', amplitude=0.024837159848484846, axis_angle=None, threshold=0.00025556504650518504, rus_exit_threshold=-4.789362178885647e-05, integration_weights=[(1, 1500)], integration_weights_angle=-110.93666935121884))"
      ]
     },
     "execution_count": 13,
     "metadata": {},
     "output_type": "execute_result"
    }
   ],
   "source": [
    "machine.active_qubits[0].macros[\"measure\"]"
   ]
  },
  {
   "cell_type": "code",
   "execution_count": 14,
   "id": "ea5af641c9f8399e",
   "metadata": {
    "ExecuteTime": {
     "end_time": "2025-06-27T02:36:10.079075Z",
     "start_time": "2025-06-27T02:36:10.076084Z"
    }
   },
   "outputs": [
    {
     "name": "stdout",
     "output_type": "stream",
     "text": [
      "Target: Transmon based QuAM\n",
      "Number of qubits: 3\n",
      "Instructions:\n",
      "\tx\n",
      "\t\t(0,):\n",
      "\t\t\tDuration: 3.2e-08 sec.\n",
      "\t\t(1,):\n",
      "\t\t\tDuration: 3.2e-08 sec.\n",
      "\t\t(2,):\n",
      "\t\t\tDuration: 3.2e-08 sec.\n",
      "\trz\n",
      "\t\t(0,):\n",
      "\t\t\tDuration: 0 sec.\n",
      "\t\t\tError Rate: 0\n",
      "\t\t(1,):\n",
      "\t\t\tDuration: 0 sec.\n",
      "\t\t\tError Rate: 0\n",
      "\t\t(2,):\n",
      "\t\t\tDuration: 0 sec.\n",
      "\t\t\tError Rate: 0\n",
      "\tsx\n",
      "\t\t(0,):\n",
      "\t\t\tDuration: 3.2e-08 sec.\n",
      "\t\t(1,):\n",
      "\t\t\tDuration: 3.2e-08 sec.\n",
      "\t\t(2,):\n",
      "\t\t\tDuration: 3.2e-08 sec.\n",
      "\tsy\n",
      "\t\t(0,):\n",
      "\t\t\tDuration: 3.2e-08 sec.\n",
      "\t\t(1,):\n",
      "\t\t\tDuration: 3.2e-08 sec.\n",
      "\t\t(2,):\n",
      "\t\t\tDuration: 3.2e-08 sec.\n",
      "\tsydg\n",
      "\t\t(0,):\n",
      "\t\t\tDuration: 3.2e-08 sec.\n",
      "\t\t(1,):\n",
      "\t\t\tDuration: 3.2e-08 sec.\n",
      "\t\t(2,):\n",
      "\t\t\tDuration: 3.2e-08 sec.\n",
      "\tmeasure\n",
      "\t\t(0,):\n",
      "\t\t\tDuration: 1.65e-06 sec.\n",
      "\t\t(1,):\n",
      "\t\t\tDuration: 1.65e-06 sec.\n",
      "\t\t(2,):\n",
      "\t\t\tDuration: 1.65e-06 sec.\n",
      "\treset\n",
      "\t\t(0,):\n",
      "\t\t\tDuration: 0.00011186 sec.\n",
      "\t\t(1,):\n",
      "\t\t\tDuration: 0.000138544 sec.\n",
      "\t\t(2,):\n",
      "\t\t\tDuration: 8.9956e-05 sec.\n",
      "\tdelay\n",
      "\t\t(0,):\n",
      "\t\t(1,):\n",
      "\t\t(2,):\n",
      "\tid\n",
      "\t\t(0,):\n",
      "\t\t\tDuration: 0 sec.\n",
      "\t\t\tError Rate: 0\n",
      "\t\t(1,):\n",
      "\t\t\tDuration: 0 sec.\n",
      "\t\t\tError Rate: 0\n",
      "\t\t(2,):\n",
      "\t\t\tDuration: 0 sec.\n",
      "\t\t\tError Rate: 0\n",
      "\tif_else\n",
      "\twhile_loop\n",
      "\tfor_loop\n",
      "\tswitch_case\n",
      "\tbox\n",
      "\tx_cal\n",
      "\t\t(0,):\n",
      "\t\t\tDuration: 3.2e-08 sec.\n",
      "\n"
     ]
    }
   ],
   "source": [
    "print(backend.target)"
   ]
  },
  {
   "cell_type": "code",
   "execution_count": 15,
   "id": "f0922b58b4ffdd79",
   "metadata": {
    "ExecuteTime": {
     "end_time": "2025-06-27T02:36:10.264984Z",
     "start_time": "2025-06-27T02:36:10.261546Z"
    }
   },
   "outputs": [
    {
     "data": {
      "text/plain": [
       "{'target': {'state': [[0j, 0j], [0j, (1+0j)]], 'physical_qubits': (0,)},\n",
       " 'backend_config': {'input_type': 'INPUT_STREAM',\n",
       "  'verbosity': 2,\n",
       "  'num_updates': 100,\n",
       "  'opnic_dev_path': '/home/dpoulos/opnic-dev'},\n",
       " 'action_space': {'low': [0.019999999552965164], 'high': [2.0]},\n",
       " 'execution_config': {'batch_size': 32,\n",
       "  'sampling_paulis': 50,\n",
       "  'n_shots': 50,\n",
       "  'n_reps': [1],\n",
       "  'c_factor': 1.0,\n",
       "  'seed': 56},\n",
       " 'reward_config': 'pi_pulse',\n",
       " 'benchmark_config': {'benchmark_cycle': 0,\n",
       "  'benchmark_batch_size': 1,\n",
       "  'tomography_analysis': 'default',\n",
       "  'check_on_exp': False},\n",
       " 'metadata': {}}"
      ]
     },
     "execution_count": 15,
     "metadata": {},
     "output_type": "execute_result"
    }
   ],
   "source": [
    "from qiskit_qm_provider import InputType\n",
    "q_env.config.as_dict()"
   ]
  },
  {
   "cell_type": "code",
   "execution_count": 16,
   "id": "74fb1a4fdc087b47",
   "metadata": {
    "ExecuteTime": {
     "end_time": "2025-06-27T02:36:10.543573Z",
     "start_time": "2025-06-27T02:36:10.449785Z"
    }
   },
   "outputs": [
    {
     "data": {
      "image/png": "[encoded data removed]",
      "text/plain": [
       "<Figure size 375.117x117.056 with 1 Axes>"
      ]
     },
     "execution_count": 16,
     "metadata": {},
     "output_type": "execute_result"
    }
   ],
   "source": [
    "q_env.baseline_circuit.draw(\"mpl\", style=\"iqp-dark\", fold=20)"
   ]
  },
  {
   "cell_type": "code",
   "execution_count": 17,
   "id": "e5f92bf454ad4b39",
   "metadata": {
    "ExecuteTime": {
     "end_time": "2025-06-27T02:36:10.587564Z",
     "start_time": "2025-06-27T02:36:10.558717Z"
    }
   },
   "outputs": [
    {
     "data": {
      "image/png": "[encoded data removed]",
      "text/plain": [
       "<Figure size 207.895x117.056 with 1 Axes>"
      ]
     },
     "execution_count": 17,
     "metadata": {},
     "output_type": "execute_result"
    }
   ],
   "source": [
    "q_env.circuit.draw(\"mpl\", style=\"iqp-dark\", fold=20)"
   ]
  },
  {
   "cell_type": "code",
   "execution_count": 18,
   "id": "bbe97ee84dbeeece",
   "metadata": {
    "ExecuteTime": {
     "end_time": "2025-06-27T02:36:11.070900Z",
     "start_time": "2025-06-27T02:36:11.014113Z"
    }
   },
   "outputs": [
    {
     "data": {
      "image/png": "[encoded data removed]",
      "text/plain": [
       "<Figure size 496.776x200.667 with 1 Axes>"
      ]
     },
     "execution_count": 18,
     "metadata": {},
     "output_type": "execute_result"
    }
   ],
   "source": [
    "q_env.real_time_circuit.draw(\"mpl\", style=\"iqp-dark\", fold=25)"
   ]
  },
  {
   "cell_type": "code",
   "execution_count": 19,
   "id": "86f79b1c23a7d14b",
   "metadata": {
    "ExecuteTime": {
     "end_time": "2025-06-27T02:36:11.335115Z",
     "start_time": "2025-06-27T02:36:11.260618Z"
    }
   },
   "outputs": [
    {
     "data": {
      "image/png": "[encoded data removed]",
      "text/plain": [
       "<Figure size 529.035x200.667 with 1 Axes>"
      ]
     },
     "execution_count": 19,
     "metadata": {},
     "output_type": "execute_result"
    }
   ],
   "source": [
    "q_env.real_time_transpiled_circuit.draw(\"mpl\", fold=32, style=\"iqp-dark\")"
   ]
  },
  {
   "cell_type": "code",
   "execution_count": 20,
   "id": "42ebe66539e336a7",
   "metadata": {
    "ExecuteTime": {
     "end_time": "2025-06-27T02:36:11.527405Z",
     "start_time": "2025-06-27T02:36:11.518638Z"
    }
   },
   "outputs": [
    {
     "name": "stdout",
     "output_type": "stream",
     "text": [
      "OPENQASM 3.0;\n",
      "input float[64] a_0_0;\n",
      "bit[1] meas;\n",
      "reset $0;\n",
      "x_cal(a_0_0) $0;\n",
      "barrier $0;\n",
      "meas[0] = measure $0;\n",
      "\n"
     ]
    }
   ],
   "source": [
    "# Print the OpenQASM3 program\n",
    "print(backend.oq3_exporter.dumps(q_env.real_time_transpiled_circuit))"
   ]
  },
  {
   "cell_type": "code",
   "execution_count": 21,
   "id": "6251a1b9ad6b49c7",
   "metadata": {
    "ExecuteTime": {
     "end_time": "2025-06-27T02:36:12.201063Z",
     "start_time": "2025-06-27T02:36:11.732242Z"
    }
   },
   "outputs": [
    {
     "name": "stdout",
     "output_type": "stream",
     "text": [
      "\n",
      "# Single QUA script generated at 2025-07-13 13:30:40.056975\n",
      "# QUA library version: 1.2.2\n",
      "\n",
      "from qm import CompilerOptionArguments\n",
      "from qm.qua import *\n",
      "\n",
      "with program() as prog:\n",
      "    v1 = declare(int, value=50)\n",
      "    v2 = declare(fixed, value=0.0)\n",
      "    input_stream_mu = declare_input_stream(fixed, 'mu', value=[0.0])\n",
      "    input_stream_sigma = declare_input_stream(fixed, 'sigma', value=[1.0])\n",
      "    a1 = declare(int, value=[0, 0])\n",
      "    v3 = declare(int, )\n",
      "    v4 = declare(int, )\n",
      "    v5 = declare(int, value=0)\n",
      "    v6 = declare(int, value=56)\n",
      "    v7 = declare(int, )\n",
      "    v8 = declare(int, )\n",
      "    v9 = declare(int, )\n",
      "    a2 = declare(fixed, size=1)\n",
      "    a3 = declare(fixed, size=1)\n",
      "    a4 = declare(fixed, value=[0.019999999552965164])\n",
      "    a5 = declare(fixed, value=[2.0])\n",
      "    a6 = declare(fixed, value=[1.0, 0.9999247018391445, 0.9996988186962042, 0.9993223845883495, 0.9987954562051724, 0.9981181129001492, 0.9972904566786902, 0.996312612182778, 0.9951847266721969, 0.9939069700023561, 0.99247953459871, 0.99090263542778, 0.989176509964781, 0.9873014181578584, 0.9852776423889412, 0.9831054874312163, 0.9807852804032304, 0.9783173707196277, 0.9757021300385286, 0.9729399522055602, 0.970031253194544, 0.9669764710448521, 0.9637760657954398, 0.9604305194155658, 0.9569403357322088, 0.9533060403541939, 0.9495281805930367, 0.9456073253805213, 0.9415440651830208, 0.937339011912575, 0.932992798834739, 0.9285060804732156, 0.9238795325112867, 0.9191138516900578, 0.9142097557035307, 0.9091679830905224, 0.9039892931234433, 0.8986744656939538, 0.8932243011955153, 0.8876396204028539, 0.881921264348355, 0.8760700941954066, 0.8700869911087115, 0.8639728561215867, 0.8577286100002721, 0.8513551931052652, 0.8448535652497071, 0.8382247055548381, 0.8314696123025452, 0.8245893027850253, 0.8175848131515837, 0.8104571982525948, 0.8032075314806449, 0.7958369046088836, 0.7883464276266062, 0.7807372285720945, 0.773010453362737, 0.765167265622459, 0.7572088465064846, 0.7491363945234594, 0.7409511253549592, 0.7326542716724128, 0.724247082951467, 0.7157308252838187, 0.7071067811865476, 0.6983762494089729, 0.6895405447370669, 0.680600997795453, 0.6715589548470183, 0.6624157775901718, 0.6531728429537769, 0.6438315428897915, 0.6343932841636455, 0.6248594881423865, 0.6152315905806268, 0.6055110414043255, 0.5956993044924335, 0.5857978574564389, 0.5758081914178453, 0.5657318107836132, 0.5555702330196023, 0.5453249884220465, 0.5349976198870973, 0.5245896826784688, 0.5141027441932217, 0.5035383837257176, 0.4928981922297841, 0.48218377207912283, 0.4713967368259978, 0.46053871095824, 0.4496113296546066, 0.4386162385385277, 0.4275550934302822, 0.4164295600976373, 0.40524131400498986, 0.3939920400610481, 0.38268343236508984, 0.3713171939518376, 0.3598950365349883, 0.3484186802494345, 0.33688985339222005, 0.325310292162263, 0.3136817403988916, 0.3020059493192282, 0.29028467725446233, 0.27851968938505306, 0.2667127574748984, 0.2548656596045146, 0.24298017990326398, 0.23105810828067128, 0.21910124015686977, 0.20711137619221856, 0.19509032201612833, 0.18303988795514106, 0.17096188876030136, 0.1588581433338614, 0.14673047445536175, 0.13458070850712622, 0.12241067519921628, 0.11022220729388318, 0.09801714032956077, 0.08579731234443988, 0.07356456359966745, 0.06132073630220865, 0.049067674327418126, 0.03680722294135899, 0.024541228522912264, 0.012271538285719944, 6.123233995736766e-17, -0.012271538285719823, -0.024541228522912142, -0.036807222941358866, -0.04906767432741801, -0.06132073630220853, -0.07356456359966733, -0.08579731234443976, -0.09801714032956065, -0.11022220729388306, -0.12241067519921615, -0.1345807085071261, -0.14673047445536164, -0.15885814333386128, -0.17096188876030124, -0.18303988795514092, -0.1950903220161282, -0.20711137619221845, -0.21910124015686966, -0.23105810828067114, -0.24298017990326387, -0.2548656596045145, -0.2667127574748983, -0.27851968938505295, -0.29028467725446216, -0.3020059493192281, -0.3136817403988914, -0.32531029216226287, -0.33688985339221994, -0.3484186802494344, -0.35989503653498817, -0.3713171939518375, -0.3826834323650897, -0.393992040061048, -0.40524131400498975, -0.416429560097637, -0.42755509343028186, -0.4386162385385274, -0.4496113296546067, -0.46053871095824006, -0.4713967368259977, -0.4821837720791228, -0.492898192229784, -0.5035383837257175, -0.5141027441932217, -0.5245896826784687, -0.534997619887097, -0.5453249884220462, -0.555570233019602, -0.5657318107836133, -0.5758081914178453, -0.5857978574564389, -0.5956993044924334, -0.6055110414043254, -0.6152315905806268, -0.6248594881423862, -0.6343932841636454, -0.6438315428897913, -0.6531728429537765, -0.6624157775901719, -0.6715589548470184, -0.6806009977954531, -0.6895405447370669, -0.6983762494089728, -0.7071067811865475, -0.7157308252838186, -0.7242470829514668, -0.7326542716724127, -0.7409511253549589, -0.7491363945234591, -0.7572088465064846, -0.765167265622459, -0.773010453362737, -0.7807372285720945, -0.7883464276266062, -0.7958369046088835, -0.8032075314806448, -0.8104571982525947, -0.8175848131515836, -0.8245893027850251, -0.8314696123025453, -0.8382247055548381, -0.8448535652497071, -0.8513551931052651, -0.857728610000272, -0.8639728561215867, -0.8700869911087113, -0.8760700941954065, -0.8819212643483549, -0.8876396204028538, -0.8932243011955152, -0.8986744656939539, -0.9039892931234433, -0.9091679830905224, -0.9142097557035307, -0.9191138516900577, -0.9238795325112867, -0.9285060804732155, -0.9329927988347388, -0.9373390119125748, -0.9415440651830207, -0.9456073253805213, -0.9495281805930367, -0.9533060403541939, -0.9569403357322088, -0.9604305194155658, -0.9637760657954398, -0.9669764710448521, -0.970031253194544, -0.9729399522055601, -0.9757021300385285, -0.9783173707196275, -0.9807852804032304, -0.9831054874312163, -0.9852776423889412, -0.9873014181578584, -0.989176509964781, -0.99090263542778, -0.99247953459871, -0.9939069700023561, -0.9951847266721968, -0.996312612182778, -0.9972904566786902, -0.9981181129001492, -0.9987954562051724, -0.9993223845883495, -0.9996988186962042, -0.9999247018391445, -1.0, -0.9999247018391445, -0.9996988186962042, -0.9993223845883495, -0.9987954562051724, -0.9981181129001492, -0.9972904566786902, -0.996312612182778, -0.9951847266721969, -0.9939069700023561, -0.99247953459871, -0.99090263542778, -0.989176509964781, -0.9873014181578584, -0.9852776423889413, -0.9831054874312164, -0.9807852804032304, -0.9783173707196277, -0.9757021300385286, -0.9729399522055602, -0.970031253194544, -0.9669764710448522, -0.96377606579544, -0.9604305194155659, -0.9569403357322089, -0.953306040354194, -0.9495281805930368, -0.9456073253805213, -0.9415440651830208, -0.937339011912575, -0.932992798834739, -0.9285060804732156, -0.9238795325112868, -0.9191138516900578, -0.9142097557035308, -0.9091679830905225, -0.9039892931234434, -0.898674465693954, -0.8932243011955153, -0.8876396204028539, -0.881921264348355, -0.8760700941954066, -0.8700869911087115, -0.8639728561215868, -0.8577286100002722, -0.8513551931052653, -0.8448535652497072, -0.8382247055548382, -0.8314696123025455, -0.8245893027850253, -0.8175848131515837, -0.8104571982525948, -0.8032075314806449, -0.7958369046088837, -0.7883464276266063, -0.7807372285720946, -0.7730104533627371, -0.7651672656224591, -0.7572088465064848, -0.7491363945234593, -0.7409511253549591, -0.7326542716724129, -0.724247082951467, -0.7157308252838187, -0.7071067811865477, -0.698376249408973, -0.689540544737067, -0.6806009977954532, -0.6715589548470187, -0.662415777590172, -0.6531728429537771, -0.6438315428897915, -0.6343932841636458, -0.6248594881423865, -0.6152315905806273, -0.6055110414043257, -0.5956993044924331, -0.5857978574564391, -0.5758081914178452, -0.5657318107836135, -0.5555702330196022, -0.5453249884220468, -0.5349976198870973, -0.5245896826784694, -0.5141027441932218, -0.503538383725718, -0.4928981922297842, -0.48218377207912255, -0.4713967368259979, -0.4605387109582399, -0.44961132965460693, -0.4386162385385276, -0.4275550934302825, -0.4164295600976372, -0.40524131400499036, -0.3939920400610482, -0.38268343236509034, -0.37131719395183777, -0.359895036534988, -0.34841868024943484, -0.33688985339221994, -0.3253102921622633, -0.31368174039889146, -0.30200594931922853, -0.29028467725446244, -0.2785196893850536, -0.26671275747489853, -0.25486565960451435, -0.24298017990326412, -0.23105810828067094, -0.2191012401568701, -0.20711137619221848, -0.19509032201612866, -0.18303988795514095, -0.1709618887603017, -0.15885814333386153, -0.1467304744553623, -0.13458070850712636, -0.12241067519921596, -0.11022220729388331, -0.09801714032956045, -0.08579731234444023, -0.07356456359966736, -0.061320736302208995, -0.04906767432741803, -0.03680722294135933, -0.02454122852291239, -0.012271538285720512, -1.8369701987210297e-16, 0.012271538285720144, 0.02454122852291202, 0.036807222941358964, 0.04906767432741766, 0.06132073630220863, 0.07356456359966698, 0.08579731234443985, 0.09801714032956009, 0.11022220729388293, 0.1224106751992156, 0.13458070850712597, 0.14673047445536194, 0.15885814333386117, 0.17096188876030133, 0.1830398879551406, 0.1950903220161283, 0.20711137619221812, 0.21910124015686974, 0.23105810828067058, 0.24298017990326376, 0.25486565960451396, 0.2667127574748982, 0.2785196893850533, 0.29028467725446205, 0.30200594931922814, 0.31368174039889113, 0.3253102921622629, 0.3368898533922196, 0.3484186802494345, 0.3598950365349876, 0.3713171939518374, 0.38268343236509, 0.3939920400610479, 0.40524131400499, 0.4164295600976369, 0.42755509343028214, 0.43861623853852727, 0.4496113296546066, 0.4605387109582396, 0.4713967368259976, 0.4821837720791222, 0.49289819222978387, 0.5035383837257178, 0.5141027441932216, 0.5245896826784691, 0.5349976198870969, 0.5453249884220465, 0.5555702330196018, 0.5657318107836132, 0.5758081914178449, 0.5857978574564388, 0.5956993044924329, 0.6055110414043253, 0.615231590580627, 0.6248594881423861, 0.6343932841636456, 0.6438315428897912, 0.6531728429537768, 0.6624157775901715, 0.6715589548470184, 0.6806009977954527, 0.6895405447370668, 0.6983762494089725, 0.7071067811865474, 0.7157308252838188, 0.7242470829514667, 0.7326542716724129, 0.7409511253549588, 0.7491363945234593, 0.7572088465064842, 0.7651672656224588, 0.7730104533627367, 0.7807372285720944, 0.7883464276266059, 0.7958369046088833, 0.803207531480645, 0.8104571982525947, 0.8175848131515837, 0.8245893027850251, 0.8314696123025452, 0.8382247055548377, 0.844853565249707, 0.8513551931052649, 0.857728610000272, 0.8639728561215864, 0.8700869911087112, 0.8760700941954067, 0.8819212643483548, 0.8876396204028539, 0.8932243011955151, 0.8986744656939538, 0.9039892931234431, 0.9091679830905224, 0.9142097557035304, 0.9191138516900577, 0.9238795325112865, 0.9285060804732155, 0.932992798834739, 0.9373390119125748, 0.9415440651830208, 0.9456073253805212, 0.9495281805930367, 0.9533060403541936, 0.9569403357322088, 0.9604305194155657, 0.9637760657954398, 0.9669764710448522, 0.970031253194544, 0.9729399522055602, 0.9757021300385285, 0.9783173707196277, 0.9807852804032303, 0.9831054874312163, 0.9852776423889411, 0.9873014181578583, 0.9891765099647809, 0.99090263542778, 0.99247953459871, 0.9939069700023561, 0.9951847266721969, 0.996312612182778, 0.9972904566786902, 0.9981181129001492, 0.9987954562051724, 0.9993223845883494, 0.9996988186962042, 0.9999247018391445])\n",
      "    a7 = declare(fixed, value=[3.5327824289561818, 3.330804306653522, 3.2067627154196052, 3.115760415709423, 3.043300160265717, 2.9827894246636704, 2.9306537482669137, 2.8847302485643036, 2.8436073103839603, 2.8063110134754217, 2.77214017407937, 2.740572639206182, 2.7112087664763966, 2.683735648515148, 2.6579035513233205, 2.633509871988707, 2.6103879026361403, 2.588398766525206, 2.567425506613319, 2.54736867045851, 2.5281429577645906, 2.5096746370047467, 2.4918995281678673, 2.474761408630264, 2.458210739665161, 2.4422036389905277, 2.4267010442847883, 2.4116680264893695, 2.397073221736998, 2.382888358068256, 2.369087858516701, 2.355648506195711, 2.3425491600836423, 2.3297705125417862, 2.3172948814000156, 2.305106030843119, 2.293189016425181, 2.28153005040231, 2.2701163842592402, 2.2589362058530265, 2.24797854903754, 2.2372332139888327, 2.2266906967413354, 2.2163421266819383, 2.206179210943866, 2.1961941848031903, 2.1863797673143206, 2.1767291215320657, 2.167235818760913, 2.1578938063503603, 2.1486973786210304, 2.139641150562095, 2.1307200339878762, 2.1219292158818566, 2.113264138690807, 2.1047204823613135, 2.09629414793641, 2.0879812425519297, 2.079778065691169, 2.0716810965728625, 2.0636869825617734, 2.055792528503632, 2.0479946868970322, 2.040290548824406, 2.032677335572536, 2.0251523908804216, 2.0177131737587497, 2.010357251830959, 2.003082295150906, 1.9958860704566335, 1.9887664358237014, 1.9817213356850727, 1.9747487961876966, 1.9678469208587337, 1.9610138865568796, 1.9542479396864865, 1.9475473926541997, 1.9409106205496316, 1.9343360580332198, 1.9278221964158873, 1.921367580916432, 1.9149708080837768, 1.90863052337228, 1.9023454188592859, 1.8961142310949797, 1.889935739075412, 1.8838087623302882, 1.8777321591177818, 1.8717048247192343, 1.865725689827154, 1.8597937190204292, 1.8539079093211341, 1.8480672888277168, 1.842270915419752, 1.8365178755297913, 1.8308072829781583, 1.8251382778668508, 1.8195100255289596, 1.8139217155302925, 1.8083725607200958, 1.8028617963279994, 1.7973886791044937, 1.7919524865024372, 1.78655251589725, 1.781188083843616, 1.775858525366648, 1.7705631932856072, 1.765301457568395, 1.7600727047151352, 1.7548763371692908, 1.7497117727548361, 1.7445784441381105, 1.7394757983130602, 1.7344032961086497, 1.7293604117173027, 1.7243466322432999, 1.719361457270119, 1.714404398445772, 1.7094749790852397, 1.704572733789159, 1.6996972080779733, 1.6948479580407874, 1.6900245499982254, 1.6852265601786205, 1.6804535744069031, 1.6757051878055946, 1.6709810045073394, 1.6662806373784413, 1.6616037077529031, 1.656949845176484, 1.65231868716033, 1.647709878943741, 1.6431230732656734, 1.638557930144588, 1.6340141166662792, 1.6294913067793382, 1.6249891810979202, 1.6205074267115007, 1.616045737001325, 1.6116038114632674, 1.6071813555368302, 1.602778080440027, 1.5983937030099076, 1.5940279455484894, 1.5896805356738788, 1.5853512061763686, 1.5810396948793115, 1.576745744504582, 1.5724691025424382, 1.568209521125614, 1.5639667569074769, 1.559740570944087, 1.5555307285800137, 1.5513369993377586, 1.5471591568106515, 1.542996978559085, 1.5388502460099627, 1.534718744359241, 1.5306022624774458, 1.5265005928180588, 1.5224135313286642, 1.518340877364754, 1.5142824336061007, 1.5102380059755953, 1.5062074035604718, 1.5021904385358245, 1.4981869260903422, 1.4941966843541787, 1.4902195343288829, 1.4862552998193195, 1.4823038073675112, 1.4783648861883298, 1.4744383681069824, 1.4705240874982228, 1.466621881227234, 1.462731588592123, 1.458853051267975, 1.4549861132524147, 1.4511306208126233, 1.4472864224337623, 1.443453368768762, 1.4396313125894242, 1.4358201087387992, 1.432019614084796, 1.4282296874749836, 1.4244501896925483, 1.4206809834133651, 1.4169219331641532, 1.4131729052816766, 1.4094337678729594, 1.4057043907764817, 1.401984645524328, 1.3982744053052563, 1.3945735449286578, 1.3908819407893847, 1.3871994708334143, 1.3835260145243249, 1.3798614528105597, 1.3762056680934556, 1.3725585441960084, 1.3689199663323592, 1.3652898210779754, 1.3616679963405045, 1.3580543813312875, 1.3544488665375016, 1.3508513436949223, 1.3472617057612826, 1.3436798468902118, 1.3401056624057361, 1.336539048777327, 1.3329799035954766, 1.3294281255477916, 1.3258836143955808, 1.3223462709509322, 1.3188159970542568, 1.3152926955522901, 1.311776270276536, 1.3082666260221427, 1.3047636685271926, 1.3012673044524004, 1.2977774413612042, 1.2942939877002366, 1.2908168527801696, 1.2873459467569157, 1.2838811806131825, 1.2804224661403625, 1.276969715920755, 1.2735228433101062, 1.2700817624204592, 1.266646388103305, 1.2632166359330264, 1.2597924221906238, 1.2563736638477176, 1.2529602785508152, 1.2495521846058377, 1.2461493009628979, 1.2427515472013209, 1.2393588435148999, 1.2359711106973812, 1.2325882701281707, 1.2292102437582553, 1.2258369540963294, 1.222468324195127, 1.2191042776379448, 1.2157447385253557, 1.2123896314621028, 1.209038881544173, 1.2056924143460366, 1.202350155908055, 1.199012032724045, 1.1956779717289983, 1.1923479002869475, 1.189021746178975, 1.1856994375913594, 1.1823809031038546, 1.1790660716780947, 1.1757548726461222, 1.1724472356990332, 1.1691430908757334, 1.1658423685518056, 1.1625449994284747, 1.1592509145216774, 1.1559600451512198, 1.152672322930028, 1.1493876797534828, 1.146106047788834, 1.1428273594646918, 1.1395515474605902, 1.1362785446966164, 1.1330082843231066, 1.129740699710397, 1.1264757244386336, 1.1232132922876312, 1.1199533372267787, 1.1166957934049884, 1.1134405951406834, 1.1101876769118193, 1.1069369733459375, 1.1036884192102443, 1.100441949401712, 1.0971974989372002, 1.093955002943591, 1.0907143966479327, 1.087475615367594, 1.0842385945004163, 1.081003269514868, 1.07776957594019, 1.0745374493565347, 1.0713068253850877, 1.0680776396781742, 1.0648498279093415, 1.0616233257634158, 1.0583980689265284, 1.0551739930761068, 1.0519510338708258, 1.0487291269405168, 1.045508207876026, 1.0422882122190245, 1.0390690754517555, 1.035850732986726, 1.0326331201563252, 1.0294161722023798, 1.0261998242656256, 1.0229840113751025, 1.0197686684374627, 1.016553730226188, 1.0133391313707099, 1.010124806345429, 1.0069106894586273, 1.0036967148412688, 1.00048281643568, 0.9972689279841093, 0.9940549830171531, 0.990840914842051, 0.9876266565308335, 0.9844121409083265, 0.9811973005399973, 0.9779820677196415, 0.9747663744569002, 0.9715501524646036, 0.9683333331459304, 0.9651158475813785, 0.9618976265155382, 0.9586786003436607, 0.9554586990980113, 0.9522378524340039, 0.9490159896161035, 0.9457930395034908, 0.9425689305354783, 0.9393435907166703, 0.9361169476018545, 0.9328889282806191, 0.9296594593616802, 0.9264284669569143, 0.9231958766650803, 0.9199616135552237, 0.9167256021497466, 0.9134877664071378, 0.9102480297043429, 0.9070063148187696, 0.9037625439099064, 0.9005166385005492, 0.8972685194576143, 0.894018106972528, 0.8907653205411735, 0.8875100789433834, 0.8842523002219562, 0.8809919016611847, 0.8777287997648731, 0.8744629102338306, 0.871194147942815, 0.8679224269169135, 0.8646476603073332, 0.8613697603665863, 0.8580886384230404, 0.8548042048548183, 0.8515163690630151, 0.8482250394442141, 0.8449301233622702, 0.8416315271193373, 0.8383291559261059, 0.8350229138712285, 0.8317127038898934, 0.8283984277315222, 0.82507998592655, 0.821757277752261, 0.8184302011976333, 0.815098652927164, 0.8117625282436266, 0.8084217210497248, 0.8050761238085928, 0.8017256275031042, 0.7983701215939308, 0.7950094939763143, 0.7916436309354844, 0.7882724171006811, 0.7848957353977135, 0.7815134670000023, 0.7781254912780369, 0.7747316857471859, 0.7713319260137863, 0.7679260857194453, 0.764514036483469, 0.7610956478433479, 0.7576707871932048, 0.7542393197201254, 0.7508011083382705, 0.7473560136206788, 0.74390389372865, 0.7404446043386061, 0.7369779985663124, 0.7335039268883392, 0.7300222370606367, 0.726532774034091, 0.7230353798669159, 0.7195298936337378, 0.71601615133121, 0.712493985779995, 0.7089632265229362, 0.7054236997192362, 0.7018752280344425, 0.6983176305260358, 0.6947507225243981, 0.6911743155089308, 0.687588216979073, 0.6839922303199605, 0.6803861546624455, 0.6767697847371851, 0.6731429107224821, 0.669505318085549, 0.6658567874168362, 0.6621970942570545, 0.6585260089164843, 0.65484329628615, 0.6511487156404, 0.6474420204304109, 0.6437229580680933, 0.6399912696998503, 0.6362466899695931, 0.6324889467703853, 0.6287177609840334, 0.624932846207907, 0.6211339084682007, 0.6173206459188156, 0.6134927485249564, 0.6096498977304912, 0.6057917661080331, 0.601918016990641, 0.598028304083933, 0.594122271057333, 0.5901995511130481, 0.5862597665312865, 0.5823025281900804, 0.5783274350579691, 0.5743340736576326, 0.5703220174984222, 0.5662908264755476, 0.5622400462334989, 0.5581692074910586, 0.5540778253250399, 0.5499653984096154, 0.5458314082078302, 0.5416753181115674, 0.5374965725258996, 0.5332945958933567, 0.5290687916532321, 0.5248185411305525, 0.5205432023488241, 0.5162421087600569, 0.5119145678849238, 0.5075598598551528, 0.5031772358494339, 0.49876591641317175, 0.4943250896513783, 0.4898539092827965, 0.48535149254202054, 0.4808169179148438, 0.476249222690357, 0.47164740031134356, 0.46701039750230167, 0.4623371111518542, 0.45762638492340174, 0.452877005564503, 0.44808769888162364, 0.4432571253424207, 0.43838387526259154, 0.43346646352831547, 0.42850332379836414, 0.4234928021218074, 0.41843314989772334, 0.41332251609209913, 0.40815893861390373, 0.4029403347366371, 0.3976644904330612, 0.39232904846857397, 0.38693149507205943, 0.38146914497093554, 0.375939124538305, 0.3703383527528692, 0.3646635196145427, 0.35891106158770963, 0.35307713355630743, 0.3471575766656889, 0.34114788128944284, 0.33504314418679376, 0.3288380186969743, 0.3225266565361063, 0.3161026393993647, 0.30955889809823756, 0.3028876163401115, 0.29608011542908097, 0.2891267150522811, 0.2820165637975168, 0.27473743095125236, 0.2672754481881163, 0.2596147855798745, 0.25173724028892036, 0.24362170735021405, 0.23524348840829098, 0.22657337331901048, 0.21757639617341185, 0.20821011252597887, 0.19842215133916036, 0.1881466295175174, 0.1772987078092207, 0.16576595478748973, 0.15339388240465374, 0.13995997708121918, 0.1251225688694633, 0.10830622745159332, 0.0883884038442272, 0.062469514665343846])\n",
      "    v10 = declare(int, )\n",
      "    v11 = declare(int, )\n",
      "    v12 = declare(int, )\n",
      "    v13 = declare(fixed, )\n",
      "    v14 = declare(fixed, value=0.0)\n",
      "    a8 = declare(bool, value=[False])\n",
      "    v15 = declare(bool, )\n",
      "    v16 = declare(fixed, )\n",
      "    v17 = declare(fixed, )\n",
      "    set_dc_offset(\"qD2.z\", \"single\", -0.09279270983201605)\n",
      "    set_dc_offset(\"qD1.z\", \"single\", -0.007404723802381178)\n",
      "    set_dc_offset(\"qD3.z\", \"single\", 0.03671814981642124)\n",
      "    set_dc_offset(\"qA1.z\", \"single\", 0.1477115665125754)\n",
      "    set_dc_offset(\"qA2.z\", \"single\", -0.18068731310163)\n",
      "    set_dc_offset(\"qA3.z\", \"single\", -0.1443726705855136)\n",
      "    set_dc_offset(\"qA4.z\", \"single\", 0.18551243498863373)\n",
      "    set_dc_offset(\"qA5.z\", \"single\", 0.16645819399142336)\n",
      "    set_dc_offset(\"qA6.z\", \"single\", 0.04191268964842634)\n",
      "    set_dc_offset(\"qB1.z\", \"single\", 0.013033940079566153)\n",
      "    set_dc_offset(\"qB2.z\", \"single\", -0.12067467286499674)\n",
      "    set_dc_offset(\"qB3.z\", \"single\", 0.11677979824402804)\n",
      "    set_dc_offset(\"qB4.z\", \"single\", -0.11582657545207137)\n",
      "    set_dc_offset(\"qB5.z\", \"single\", -0.18609550283236195)\n",
      "    set_dc_offset(\"qC1.z\", \"single\", -0.03825071115926221)\n",
      "    set_dc_offset(\"qC2.z\", \"single\", -0.07261503068083752)\n",
      "    set_dc_offset(\"qC3.z\", \"single\", -0.08678894220353593)\n",
      "    set_dc_offset(\"qC4.z\", \"single\", -0.06872747999750445)\n",
      "    set_dc_offset(\"qC5.z\", \"single\", 0.0001)\n",
      "    set_dc_offset(\"qD4.z\", \"single\", -0.12497752024397485)\n",
      "    set_dc_offset(\"qD5.z\", \"single\", 0.19419627500441677)\n",
      "    with for_(v4,0,(v4<100),(v4+1)):\n",
      "        advance_input_stream(input_stream_mu)\n",
      "        advance_input_stream(input_stream_sigma)\n",
      "        assign(v6, (56+v4))\n",
      "        with for_(v9,0,(v9<32),(v9+2)):\n",
      "            with for_(v10,0,(v10<input_stream_mu.length()),(v10+1)):\n",
      "                assign(v13, Random(v6).rand_fixed())\n",
      "                assign(v11, Cast.unsafe_cast_int((v13>>19)))\n",
      "                assign(v12, (Cast.unsafe_cast_int(v13)&524287))\n",
      "                assign(a2[v10], (input_stream_mu[v10]+((input_stream_sigma[v10]*a7[v11])*a6[(v12&511)])))\n",
      "                assign(a3[v10], (input_stream_mu[v10]+((input_stream_sigma[v10]*a7[v11])*a6[((v12+128)&511)])))\n",
      "                assign(a2[v10], Util.cond((a2[v10]<a4[v10]),a4[v10],a2[v10]))\n",
      "                assign(a2[v10], Util.cond((a2[v10]>a5[v10]),a5[v10],a2[v10]))\n",
      "                assign(a3[v10], Util.cond((a3[v10]<a4[v10]),a4[v10],a3[v10]))\n",
      "                assign(a3[v10], Util.cond((a3[v10]>a5[v10]),a5[v10],a3[v10]))\n",
      "            with for_(v8,0,(v8<2),(v8+1)):\n",
      "                assign(v2, Util.cond((v8==0),a2[0],a3[0]))\n",
      "                with for_(v7,0,(v7<v1),(v7+1)):\n",
      "                    assign(v14, v2)\n",
      "                    align(\"qD2.resonator\", \"qD2.xy\", \"qD2.z\")\n",
      "                    wait(27965, \"qD2.xy\", \"qD2.z\", \"qD2.resonator\")\n",
      "                    align(\"qD2.resonator\", \"qD2.xy\", \"qD2.z\")\n",
      "                    align(\"qD2.resonator\", \"qD2.xy\", \"qD2.z\")\n",
      "                    play(\"x180\"*amp(v14), \"qD2.xy\")\n",
      "                    align(\"qD2.resonator\", \"qD2.xy\", \"qD2.z\")\n",
      "                    align(\"qD2.resonator\", \"qD2.xy\", \"qD2.z\")\n",
      "                    measure(\"readout\", \"qD2.resonator\", dual_demod.full(\"iw1\", \"iw2\", v16), dual_demod.full(\"iw3\", \"iw1\", v17))\n",
      "                    assign(v15, (v16>0.00025556504650518504))\n",
      "                    align(\"qD2.resonator\", \"qD2.xy\", \"qD2.z\")\n",
      "                    assign(a8[0], v15)\n",
      "                    assign(v5, (v5+(1*Cast.to_int(a8[0]))))\n",
      "                    save(v5, \"state_int\")\n",
      "                    assign(a1[v5], (a1[v5]+1))\n",
      "                    assign(v5, 0)\n",
      "                r1 = declare_stream()\n",
      "                save(a1[0], r1)\n",
      "                save(a1[1], r1)\n",
      "                assign(a1[0], 0.0)\n",
      "                assign(a1[1], 0.0)\n",
      "    with stream_processing():\n",
      "        r1.buffer(32, 2).save_all(\"reward\")\n",
      "\n",
      "\n",
      "config = None\n",
      "\n",
      "loaded_config = None\n",
      "\n",
      "\n"
     ]
    }
   ],
   "source": [
    "from qm import generate_qua_script\n",
    "# Print the QUA program\n",
    "print(generate_qua_script(q_env.rl_qoc_training_qua_prog(num_updates.total_updates)))"
   ]
  },
  {
   "cell_type": "code",
   "execution_count": 22,
   "id": "74f6e939d47b47df",
   "metadata": {
    "ExecuteTime": {
     "end_time": "2025-06-27T02:24:15.033467Z",
     "start_time": "2025-06-27T02:24:15.014441Z"
    }
   },
   "outputs": [
    {
     "data": {
      "text/plain": [
       "PiPulseRewardDataList(reward_data=[PiPulseRewardData(pub=SamplerPub(<(32,)>))])"
      ]
     },
     "execution_count": 22,
     "metadata": {},
     "output_type": "execute_result"
    }
   ],
   "source": [
    "reward.get_reward_data(\n",
    "    q_env.circuit, np.zeros((q_env.batch_size, q_env.n_actions)), q_env.target, q_env.config\n",
    ")"
   ]
  },
  {
   "cell_type": "markdown",
   "id": "803b9a62",
   "metadata": {},
   "source": [
    "# Defining the Agent and launching training\n",
    "\n",
    "To push efficiency, we have introduced a custom version of the PPO algorithm whose particularity is that the sampling of the actions is in fact replicating a sampling mechanism done in real-time within the OPX. This way, we can through seed sharing share the actions between the two entities without having to introduce any communication latency to perform training."
   ]
  },
  {
   "cell_type": "code",
   "execution_count": 23,
   "id": "92004f1ce40479d4",
   "metadata": {
    "ExecuteTime": {
     "end_time": "2025-06-27T02:36:42.074382Z",
     "start_time": "2025-06-27T02:36:41.325640Z"
    }
   },
   "outputs": [],
   "source": [
    "ppo_config = PPOConfig.from_yaml(\"agent_config.yaml\")\n",
    "ppo_agent = CustomQMPPO(ppo_config, rescaled_env)\n",
    "\n",
    "ppo_training = TrainingConfig(num_updates)\n",
    "ppo_settings = TrainFunctionSettings(plot_real_time=True, print_debug=True, num_prints=10)"
   ]
  },
  {
   "cell_type": "code",
   "execution_count": 24,
   "id": "b8e7a8b1",
   "metadata": {},
   "outputs": [
    {
     "name": "stdout",
     "output_type": "stream",
     "text": [
      "2025-07-13 13:30:42,667 - qm - INFO     - Performing health check\n",
      "2025-07-13 13:30:42 INFO Performing health check\n",
      "2025-07-13 13:30:43,571 - qm - INFO     - Cluster healthcheck completed successfully.\n",
      "2025-07-13 13:30:43 INFO Cluster healthcheck completed successfully.\n",
      "[]\n"
     ]
    }
   ],
   "source": [
    "running_jobs = backend.qmm.get_jobs(status=\"Running\")\n",
    "print(running_jobs)"
   ]
  },
  {
   "cell_type": "code",
   "execution_count": 27,
   "id": "51cf4df459a0ed50",
   "metadata": {
    "ExecuteTime": {
     "end_time": "2025-06-27T02:36:47.353634Z",
     "start_time": "2025-06-27T02:36:44.232479Z"
    }
   },
   "outputs": [
    {
     "name": "stdout",
     "output_type": "stream",
     "text": [
      "[]\n"
     ]
    },
    {
     "name": "stderr",
     "output_type": "stream",
     "text": [
      "/Users/arthurostrauss/Library/CloudStorage/OneDrive-QMMachinesLTD/GitHub/quam/quam/components/channels.py:647: UserWarning: The 'thread' element argument is deprecated from qm.qua >= 1.2.2. Use 'core' instead.\n",
      "  warnings.warn(\n"
     ]
    },
    {
     "name": "stdout",
     "output_type": "stream",
     "text": [
      "2025-07-13 13:44:14,150 - qm - INFO     - Clearing queue\n",
      "2025-07-13 13:44:14 INFO Clearing queue\n",
      "2025-07-13 13:44:15,651 - qm - INFO     - Adding program to queue.\n",
      "2025-07-13 13:44:15 INFO Adding program to queue.\n"
     ]
    }
   ],
   "source": [
    "running_jobs = backend.qmm.get_jobs(status=\"Running\")\n",
    "print(running_jobs)\n",
    "if not running_jobs:\n",
    "    q_env.clear_history()\n",
    "    job = q_env.start_program()\n"
   ]
  },
  {
   "cell_type": "code",
   "execution_count": 33,
   "id": "578c1751",
   "metadata": {},
   "outputs": [
    {
     "name": "stderr",
     "output_type": "stream",
     "text": [
      "/var/folders/5w/ygx15jq94z5dzxwkmbbj8zfm0000gn/T/ipykernel_75011/2760244435.py:1: DeprecationWarning: job.halt is deprecated since \"1.2.0\" and will be removed in \"1.4.0\". This method was renamed to `job.cancel`.\n",
      "  job.halt()\n"
     ]
    },
    {
     "data": {
      "text/plain": [
       "True"
      ]
     },
     "execution_count": 33,
     "metadata": {},
     "output_type": "execute_result"
    }
   ],
   "source": [
    "job.halt()"
   ]
  },
  {
   "cell_type": "code",
   "execution_count": 28,
   "id": "7f369fd49eb21c1b",
   "metadata": {
    "ExecuteTime": {
     "end_time": "2025-06-27T02:42:03.079887Z",
     "start_time": "2025-06-27T02:36:59.927654Z"
    }
   },
   "outputs": [
    {
     "name": "stdout",
     "output_type": "stream",
     "text": [
      "Pushing value [0.020000021904706955] to mu through input stream.\n",
      "Pushing value [0.009999999776482582] to sigma through input stream.\n",
      "Just pushed policy parameters to OPX: [0.020000021904706955] [0.009999999776482582]\n",
      "Fetching index: 0, finishing index: 1\n",
      "Fetching size: 1\n",
      "Step indices: {0: (0, 1)}\n",
      "Total data points: 1\n",
      "Fetching value from reward with input type None\n",
      "Fetched value: [[[50  0]\n",
      "  [50  0]\n",
      "  [49  1]\n",
      "  [49  1]\n",
      "  [50  0]\n",
      "  [50  0]\n",
      "  [49  1]\n",
      "  [49  1]\n",
      "  [49  1]\n",
      "  [49  1]\n",
      "  [50  0]\n",
      "  [49  1]\n",
      "  [50  0]\n",
      "  [49  1]\n",
      "  [50  0]\n",
      "  [50  0]\n",
      "  [48  2]\n",
      "  [49  1]\n",
      "  [48  2]\n",
      "  [50  0]\n",
      "  [49  1]\n",
      "  [48  2]\n",
      "  [49  1]\n",
      "  [50  0]\n",
      "  [49  1]\n",
      "  [50  0]\n",
      "  [48  2]\n",
      "  [50  0]\n",
      "  [49  1]\n",
      "  [48  2]\n",
      "  [49  1]\n",
      "  [50  0]]]\n",
      "Hardware runtime taken: 0.0 hours  0.0002 min  0.0114 seconds\n",
      "[0.   0.   0.02 0.02 0.   0.   0.02 0.02 0.02 0.02 0.   0.02 0.   0.02\n",
      " 0.   0.   0.04 0.02 0.04 0.   0.02 0.04 0.02 0.   0.02 0.   0.04 0.\n",
      " 0.02 0.04 0.02 0.  ]\n",
      "Pushing value [0.12421056628227234] to mu through input stream.\n",
      "Pushing value [0.009999999776482582] to sigma through input stream.\n",
      "Just pushed policy parameters to OPX: [0.12421056628227234] [0.009999999776482582]\n",
      "Fetching index: 1, finishing index: 2\n",
      "Fetching size: 1\n",
      "Step indices: {0: (0, 1), 1: (1, 2)}\n",
      "Total data points: 2\n",
      "Fetching value from reward with input type None\n",
      "Fetched value: [[[48  2]\n",
      "  [48  2]\n",
      "  [49  1]\n",
      "  [49  1]\n",
      "  [47  3]\n",
      "  [49  1]\n",
      "  [48  2]\n",
      "  [48  2]\n",
      "  [48  2]\n",
      "  [48  2]\n",
      "  [45  5]\n",
      "  [47  3]\n",
      "  [45  5]\n",
      "  [48  2]\n",
      "  [47  3]\n",
      "  [48  2]\n",
      "  [48  2]\n",
      "  [47  3]\n",
      "  [48  2]\n",
      "  [45  5]\n",
      "  [47  3]\n",
      "  [47  3]\n",
      "  [47  3]\n",
      "  [48  2]\n",
      "  [47  3]\n",
      "  [48  2]\n",
      "  [45  5]\n",
      "  [49  1]\n",
      "  [50  0]\n",
      "  [46  4]\n",
      "  [49  1]\n",
      "  [48  2]]]\n",
      "Hardware runtime taken: 0.0 hours  0.0004 min  0.0227 seconds\n",
      "[0.04 0.04 0.02 0.02 0.06 0.02 0.04 0.04 0.04 0.04 0.1  0.06 0.1  0.04\n",
      " 0.06 0.04 0.04 0.06 0.04 0.1  0.06 0.06 0.06 0.04 0.06 0.04 0.1  0.02\n",
      " 0.   0.08 0.02 0.04]\n",
      "Pushing value [0.22842106223106384] to mu through input stream.\n",
      "Pushing value [0.009999999776482582] to sigma through input stream.\n",
      "Just pushed policy parameters to OPX: [0.22842106223106384] [0.009999999776482582]\n",
      "Fetching index: 2, finishing index: 3\n",
      "Fetching size: 1\n",
      "Step indices: {0: (0, 1), 1: (1, 2), 2: (2, 3)}\n",
      "Total data points: 3\n",
      "Fetching value from reward with input type None\n",
      "Fetched value: [[[43  7]\n",
      "  [44  6]\n",
      "  [41  9]\n",
      "  [48  2]\n",
      "  [40 10]\n",
      "  [41  9]\n",
      "  [42  8]\n",
      "  [43  7]\n",
      "  [44  6]\n",
      "  [42  8]\n",
      "  [48  2]\n",
      "  [44  6]\n",
      "  [44  6]\n",
      "  [43  7]\n",
      "  [43  7]\n",
      "  [39 11]\n",
      "  [43  7]\n",
      "  [42  8]\n",
      "  [43  7]\n",
      "  [44  6]\n",
      "  [40 10]\n",
      "  [44  6]\n",
      "  [45  5]\n",
      "  [38 12]\n",
      "  [46  4]\n",
      "  [43  7]\n",
      "  [43  7]\n",
      "  [48  2]\n",
      "  [41  9]\n",
      "  [46  4]\n",
      "  [46  4]\n",
      "  [45  5]]]\n",
      "Hardware runtime taken: 0.0 hours  0.0006 min  0.0341 seconds\n",
      "[0.14 0.12 0.18 0.04 0.2  0.18 0.16 0.14 0.12 0.16 0.04 0.12 0.12 0.14\n",
      " 0.14 0.22 0.14 0.16 0.14 0.12 0.2  0.12 0.1  0.24 0.08 0.14 0.14 0.04\n",
      " 0.18 0.08 0.08 0.1 ]\n",
      "Pushing value [0.3326316177845001] to mu through input stream.\n",
      "Pushing value [0.009999999776482582] to sigma through input stream.\n",
      "Just pushed policy parameters to OPX: [0.3326316177845001] [0.009999999776482582]\n",
      "Fetching index: 3, finishing index: 4\n",
      "Fetching size: 1\n",
      "Step indices: {0: (0, 1), 1: (1, 2), 2: (2, 3), 3: (3, 4)}\n",
      "Total data points: 4\n",
      "Fetching value from reward with input type None\n",
      "Fetched value: [[[44  6]\n",
      "  [33 17]\n",
      "  [32 18]\n",
      "  [33 17]\n",
      "  [39 11]\n",
      "  [35 15]\n",
      "  [37 13]\n",
      "  [39 11]\n",
      "  [32 18]\n",
      "  [41  9]\n",
      "  [35 15]\n",
      "  [39 11]\n",
      "  [29 21]\n",
      "  [41  9]\n",
      "  [39 11]\n",
      "  [39 11]\n",
      "  [40 10]\n",
      "  [37 13]\n",
      "  [38 12]\n",
      "  [33 17]\n",
      "  [37 13]\n",
      "  [44  6]\n",
      "  [37 13]\n",
      "  [38 12]\n",
      "  [37 13]\n",
      "  [41  9]\n",
      "  [43  7]\n",
      "  [36 14]\n",
      "  [37 13]\n",
      "  [43  7]\n",
      "  [39 11]\n",
      "  [37 13]]]\n",
      "Hardware runtime taken: 0.0 hours  0.0008 min  0.0454 seconds\n",
      "[0.12 0.34 0.36 0.34 0.22 0.3  0.26 0.22 0.36 0.18 0.3  0.22 0.42 0.18\n",
      " 0.22 0.22 0.2  0.26 0.24 0.34 0.26 0.12 0.26 0.24 0.26 0.18 0.14 0.28\n",
      " 0.26 0.14 0.22 0.26]\n",
      "Pushing value [0.436842143535614] to mu through input stream.\n",
      "Pushing value [0.009999999776482582] to sigma through input stream.\n",
      "Just pushed policy parameters to OPX: [0.436842143535614] [0.009999999776482582]\n",
      "Fetching index: 4, finishing index: 5\n",
      "Fetching size: 1\n",
      "Step indices: {0: (0, 1), 1: (1, 2), 2: (2, 3), 3: (3, 4), 4: (4, 5)}\n",
      "Total data points: 5\n",
      "Fetching value from reward with input type None\n",
      "Fetched value: [[[33 17]\n",
      "  [29 21]\n",
      "  [34 16]\n",
      "  [36 14]\n",
      "  [31 19]\n",
      "  [28 22]\n",
      "  [33 17]\n",
      "  [31 19]\n",
      "  [29 21]\n",
      "  [27 23]\n",
      "  [31 19]\n",
      "  [31 19]\n",
      "  [30 20]\n",
      "  [36 14]\n",
      "  [31 19]\n",
      "  [34 16]\n",
      "  [29 21]\n",
      "  [34 16]\n",
      "  [35 15]\n",
      "  [32 18]\n",
      "  [34 16]\n",
      "  [35 15]\n",
      "  [29 21]\n",
      "  [31 19]\n",
      "  [27 23]\n",
      "  [25 25]\n",
      "  [26 24]\n",
      "  [28 22]\n",
      "  [31 19]\n",
      "  [32 18]\n",
      "  [34 16]\n",
      "  [31 19]]]\n",
      "Hardware runtime taken: 0.0 hours  0.0009 min  0.0568 seconds\n",
      "[0.34 0.42 0.32 0.28 0.38 0.44 0.34 0.38 0.42 0.46 0.38 0.38 0.4  0.28\n",
      " 0.38 0.32 0.42 0.32 0.3  0.36 0.32 0.3  0.42 0.38 0.46 0.5  0.48 0.44\n",
      " 0.38 0.36 0.32 0.38]\n",
      "Pushing value [0.5410526990890503] to mu through input stream.\n",
      "Pushing value [0.009999999776482582] to sigma through input stream.\n",
      "Just pushed policy parameters to OPX: [0.5410526990890503] [0.009999999776482582]\n",
      "Fetching index: 5, finishing index: 6\n",
      "Fetching size: 1\n",
      "Step indices: {0: (0, 1), 1: (1, 2), 2: (2, 3), 3: (3, 4), 4: (4, 5), 5: (5, 6)}\n",
      "Total data points: 6\n",
      "Fetching value from reward with input type None\n",
      "Fetched value: [[[29 21]\n",
      "  [21 29]\n",
      "  [26 24]\n",
      "  [22 28]\n",
      "  [27 23]\n",
      "  [32 18]\n",
      "  [28 22]\n",
      "  [18 32]\n",
      "  [21 29]\n",
      "  [27 23]\n",
      "  [24 26]\n",
      "  [30 20]\n",
      "  [25 25]\n",
      "  [27 23]\n",
      "  [23 27]\n",
      "  [25 25]\n",
      "  [23 27]\n",
      "  [23 27]\n",
      "  [25 25]\n",
      "  [21 29]\n",
      "  [20 30]\n",
      "  [25 25]\n",
      "  [23 27]\n",
      "  [26 24]\n",
      "  [24 26]\n",
      "  [25 25]\n",
      "  [24 26]\n",
      "  [28 22]\n",
      "  [24 26]\n",
      "  [14 36]\n",
      "  [24 26]\n",
      "  [20 30]]]\n",
      "Hardware runtime taken: 0.0 hours  0.0011 min  0.0681 seconds\n",
      "[0.42 0.58 0.48 0.56 0.46 0.36 0.44 0.64 0.58 0.46 0.52 0.4  0.5  0.46\n",
      " 0.54 0.5  0.54 0.54 0.5  0.58 0.6  0.5  0.54 0.48 0.52 0.5  0.52 0.44\n",
      " 0.52 0.72 0.52 0.6 ]\n",
      "Pushing value [0.6452631950378418] to mu through input stream.\n",
      "Pushing value [0.009999999776482582] to sigma through input stream.\n",
      "Just pushed policy parameters to OPX: [0.6452631950378418] [0.009999999776482582]\n",
      "Fetching index: 6, finishing index: 7\n",
      "Fetching size: 1\n",
      "Step indices: {0: (0, 1), 1: (1, 2), 2: (2, 3), 3: (3, 4), 4: (4, 5), 5: (5, 6), 6: (6, 7)}\n",
      "Total data points: 7\n",
      "Fetching value from reward with input type None\n",
      "Fetched value: [[[19 31]\n",
      "  [15 35]\n",
      "  [22 28]\n",
      "  [21 29]\n",
      "  [19 31]\n",
      "  [19 31]\n",
      "  [16 34]\n",
      "  [15 35]\n",
      "  [21 29]\n",
      "  [17 33]\n",
      "  [15 35]\n",
      "  [18 32]\n",
      "  [17 33]\n",
      "  [19 31]\n",
      "  [16 34]\n",
      "  [18 32]\n",
      "  [14 36]\n",
      "  [12 38]\n",
      "  [17 33]\n",
      "  [18 32]\n",
      "  [12 38]\n",
      "  [18 32]\n",
      "  [17 33]\n",
      "  [21 29]\n",
      "  [21 29]\n",
      "  [17 33]\n",
      "  [17 33]\n",
      "  [19 31]\n",
      "  [21 29]\n",
      "  [15 35]\n",
      "  [24 26]\n",
      "  [14 36]]]\n",
      "Hardware runtime taken: 0.0 hours  0.0013 min  0.0795 seconds\n",
      "[0.62 0.7  0.56 0.58 0.62 0.62 0.68 0.7  0.58 0.66 0.7  0.64 0.66 0.62\n",
      " 0.68 0.64 0.72 0.76 0.66 0.64 0.76 0.64 0.66 0.58 0.58 0.66 0.66 0.62\n",
      " 0.58 0.7  0.52 0.72]\n",
      "Pushing value [0.7494737505912781] to mu through input stream.\n",
      "Pushing value [0.009999999776482582] to sigma through input stream.\n",
      "Just pushed policy parameters to OPX: [0.7494737505912781] [0.009999999776482582]\n",
      "Fetching index: 7, finishing index: 8\n",
      "Fetching size: 1\n",
      "Step indices: {0: (0, 1), 1: (1, 2), 2: (2, 3), 3: (3, 4), 4: (4, 5), 5: (5, 6), 6: (6, 7), 7: (7, 8)}\n",
      "Total data points: 8\n",
      "Fetching value from reward with input type None\n",
      "Fetched value: [[[12 38]\n",
      "  [14 36]\n",
      "  [21 29]\n",
      "  [11 39]\n",
      "  [12 38]\n",
      "  [14 36]\n",
      "  [14 36]\n",
      "  [10 40]\n",
      "  [12 38]\n",
      "  [13 37]\n",
      "  [ 6 44]\n",
      "  [12 38]\n",
      "  [12 38]\n",
      "  [13 37]\n",
      "  [14 36]\n",
      "  [19 31]\n",
      "  [13 37]\n",
      "  [16 34]\n",
      "  [16 34]\n",
      "  [ 8 42]\n",
      "  [16 34]\n",
      "  [13 37]\n",
      "  [16 34]\n",
      "  [11 39]\n",
      "  [14 36]\n",
      "  [ 9 41]\n",
      "  [12 38]\n",
      "  [15 35]\n",
      "  [17 33]\n",
      "  [10 40]\n",
      "  [11 39]\n",
      "  [12 38]]]\n",
      "Hardware runtime taken: 0.0 hours  0.0015 min  0.0908 seconds\n",
      "[0.76 0.72 0.58 0.78 0.76 0.72 0.72 0.8  0.76 0.74 0.88 0.76 0.76 0.74\n",
      " 0.72 0.62 0.74 0.68 0.68 0.84 0.68 0.74 0.68 0.78 0.72 0.82 0.76 0.7\n",
      " 0.66 0.8  0.78 0.76]\n",
      "Pushing value [0.8536843061447144] to mu through input stream.\n",
      "Pushing value [0.009999999776482582] to sigma through input stream.\n",
      "Just pushed policy parameters to OPX: [0.8536843061447144] [0.009999999776482582]\n",
      "Fetching index: 8, finishing index: 9\n",
      "Fetching size: 1\n",
      "Step indices: {0: (0, 1), 1: (1, 2), 2: (2, 3), 3: (3, 4), 4: (4, 5), 5: (5, 6), 6: (6, 7), 7: (7, 8), 8: (8, 9)}\n",
      "Total data points: 9\n",
      "Fetching value from reward with input type None\n",
      "Fetched value: [[[ 7 43]\n",
      "  [ 7 43]\n",
      "  [10 40]\n",
      "  [ 4 46]\n",
      "  [ 5 45]\n",
      "  [ 7 43]\n",
      "  [ 5 45]\n",
      "  [ 6 44]\n",
      "  [ 8 42]\n",
      "  [11 39]\n",
      "  [ 8 42]\n",
      "  [15 35]\n",
      "  [11 39]\n",
      "  [ 7 43]\n",
      "  [13 37]\n",
      "  [11 39]\n",
      "  [11 39]\n",
      "  [ 6 44]\n",
      "  [ 8 42]\n",
      "  [ 6 44]\n",
      "  [ 7 43]\n",
      "  [ 6 44]\n",
      "  [11 39]\n",
      "  [ 4 46]\n",
      "  [ 8 42]\n",
      "  [11 39]\n",
      "  [ 7 43]\n",
      "  [ 9 41]\n",
      "  [ 5 45]\n",
      "  [10 40]\n",
      "  [ 9 41]\n",
      "  [10 40]]]\n",
      "Hardware runtime taken: 0.0 hours  0.0017 min  0.1022 seconds\n",
      "[0.86 0.86 0.8  0.92 0.9  0.86 0.9  0.88 0.84 0.78 0.84 0.7  0.78 0.86\n",
      " 0.74 0.78 0.78 0.88 0.84 0.88 0.86 0.88 0.78 0.92 0.84 0.78 0.86 0.82\n",
      " 0.9  0.8  0.82 0.8 ]\n",
      "Pushing value [0.9578948020935059] to mu through input stream.\n",
      "Pushing value [0.009999999776482582] to sigma through input stream.\n",
      "Just pushed policy parameters to OPX: [0.9578948020935059] [0.009999999776482582]\n",
      "Fetching index: 9, finishing index: 10\n",
      "Fetching size: 1\n",
      "Step indices: {0: (0, 1), 1: (1, 2), 2: (2, 3), 3: (3, 4), 4: (4, 5), 5: (5, 6), 6: (6, 7), 7: (7, 8), 8: (8, 9), 9: (9, 10)}\n",
      "Total data points: 10\n",
      "Fetching value from reward with input type None\n",
      "Fetched value: [[[ 9 41]\n",
      "  [ 3 47]\n",
      "  [ 6 44]\n",
      "  [ 5 45]\n",
      "  [ 6 44]\n",
      "  [ 8 42]\n",
      "  [ 3 47]\n",
      "  [ 5 45]\n",
      "  [10 40]\n",
      "  [ 5 45]\n",
      "  [ 9 41]\n",
      "  [ 4 46]\n",
      "  [ 8 42]\n",
      "  [ 4 46]\n",
      "  [ 6 44]\n",
      "  [ 6 44]\n",
      "  [ 6 44]\n",
      "  [ 7 43]\n",
      "  [ 5 45]\n",
      "  [ 7 43]\n",
      "  [10 40]\n",
      "  [ 6 44]\n",
      "  [ 4 46]\n",
      "  [ 4 46]\n",
      "  [ 5 45]\n",
      "  [ 8 42]\n",
      "  [ 8 42]\n",
      "  [ 6 44]\n",
      "  [ 7 43]\n",
      "  [ 8 42]\n",
      "  [ 6 44]\n",
      "  [ 4 46]]]\n",
      "Hardware runtime taken: 0.0 hours  0.0019 min  0.1135 seconds\n",
      "[0.82 0.94 0.88 0.9  0.88 0.84 0.94 0.9  0.8  0.9  0.82 0.92 0.84 0.92\n",
      " 0.88 0.88 0.88 0.86 0.9  0.86 0.8  0.88 0.92 0.92 0.9  0.84 0.84 0.88\n",
      " 0.86 0.84 0.88 0.92]\n",
      "Pushing value [1.062105417251587] to mu through input stream.\n",
      "Pushing value [0.009999999776482582] to sigma through input stream.\n",
      "Just pushed policy parameters to OPX: [1.062105417251587] [0.009999999776482582]\n",
      "Fetching index: 10, finishing index: 11\n",
      "Fetching size: 1\n",
      "Step indices: {0: (0, 1), 1: (1, 2), 2: (2, 3), 3: (3, 4), 4: (4, 5), 5: (5, 6), 6: (6, 7), 7: (7, 8), 8: (8, 9), 9: (9, 10), 10: (10, 11)}\n",
      "Total data points: 11\n",
      "Fetching value from reward with input type None\n",
      "Fetched value: [[[ 4 46]\n",
      "  [ 5 45]\n",
      "  [ 9 41]\n",
      "  [10 40]\n",
      "  [ 6 44]\n",
      "  [ 4 46]\n",
      "  [ 4 46]\n",
      "  [ 7 43]\n",
      "  [ 6 44]\n",
      "  [ 5 45]\n",
      "  [ 7 43]\n",
      "  [ 7 43]\n",
      "  [ 5 45]\n",
      "  [ 6 44]\n",
      "  [ 3 47]\n",
      "  [ 7 43]\n",
      "  [ 5 45]\n",
      "  [ 5 45]\n",
      "  [ 6 44]\n",
      "  [ 5 45]\n",
      "  [ 3 47]\n",
      "  [ 4 46]\n",
      "  [ 4 46]\n",
      "  [12 38]\n",
      "  [ 6 44]\n",
      "  [ 5 45]\n",
      "  [ 6 44]\n",
      "  [ 5 45]\n",
      "  [ 7 43]\n",
      "  [ 7 43]\n",
      "  [ 3 47]\n",
      "  [ 2 48]]]\n",
      "Hardware runtime taken: 0.0 hours  0.0021 min  0.1249 seconds\n",
      "[0.92 0.9  0.82 0.8  0.88 0.92 0.92 0.86 0.88 0.9  0.86 0.86 0.9  0.88\n",
      " 0.94 0.86 0.9  0.9  0.88 0.9  0.94 0.92 0.92 0.76 0.88 0.9  0.88 0.9\n",
      " 0.86 0.86 0.94 0.96]\n",
      "Pushing value [1.1663159132003784] to mu through input stream.\n",
      "Pushing value [0.009999999776482582] to sigma through input stream.\n",
      "Just pushed policy parameters to OPX: [1.1663159132003784] [0.009999999776482582]\n",
      "Fetching index: 11, finishing index: 12\n",
      "Fetching size: 1\n",
      "Step indices: {0: (0, 1), 1: (1, 2), 2: (2, 3), 3: (3, 4), 4: (4, 5), 5: (5, 6), 6: (6, 7), 7: (7, 8), 8: (8, 9), 9: (9, 10), 10: (10, 11), 11: (11, 12)}\n",
      "Total data points: 12\n",
      "Fetching value from reward with input type None\n",
      "Fetched value: [[[ 4 46]\n",
      "  [11 39]\n",
      "  [ 9 41]\n",
      "  [ 7 43]\n",
      "  [ 7 43]\n",
      "  [ 7 43]\n",
      "  [ 7 43]\n",
      "  [ 5 45]\n",
      "  [14 36]\n",
      "  [ 8 42]\n",
      "  [ 7 43]\n",
      "  [ 9 41]\n",
      "  [ 5 45]\n",
      "  [11 39]\n",
      "  [ 9 41]\n",
      "  [ 9 41]\n",
      "  [ 7 43]\n",
      "  [ 7 43]\n",
      "  [ 8 42]\n",
      "  [ 9 41]\n",
      "  [ 8 42]\n",
      "  [ 8 42]\n",
      "  [12 38]\n",
      "  [ 1 49]\n",
      "  [ 8 42]\n",
      "  [ 6 44]\n",
      "  [10 40]\n",
      "  [ 7 43]\n",
      "  [ 9 41]\n",
      "  [12 38]\n",
      "  [ 4 46]\n",
      "  [ 7 43]]]\n",
      "Hardware runtime taken: 0.0 hours  0.0023 min  0.1362 seconds\n",
      "[0.92 0.78 0.82 0.86 0.86 0.86 0.86 0.9  0.72 0.84 0.86 0.82 0.9  0.78\n",
      " 0.82 0.82 0.86 0.86 0.84 0.82 0.84 0.84 0.76 0.98 0.84 0.88 0.8  0.86\n",
      " 0.82 0.76 0.92 0.86]\n",
      "Pushing value [1.27052640914917] to mu through input stream.\n",
      "Pushing value [0.009999999776482582] to sigma through input stream.\n",
      "Just pushed policy parameters to OPX: [1.27052640914917] [0.009999999776482582]\n",
      "Fetching index: 12, finishing index: 13\n",
      "Fetching size: 1\n",
      "Step indices: {0: (0, 1), 1: (1, 2), 2: (2, 3), 3: (3, 4), 4: (4, 5), 5: (5, 6), 6: (6, 7), 7: (7, 8), 8: (8, 9), 9: (9, 10), 10: (10, 11), 11: (11, 12), 12: (12, 13)}\n",
      "Total data points: 13\n",
      "Fetching value from reward with input type None\n",
      "Fetched value: [[[13 37]\n",
      "  [10 40]\n",
      "  [10 40]\n",
      "  [11 39]\n",
      "  [16 34]\n",
      "  [13 37]\n",
      "  [13 37]\n",
      "  [10 40]\n",
      "  [16 34]\n",
      "  [12 38]\n",
      "  [12 38]\n",
      "  [14 36]\n",
      "  [13 37]\n",
      "  [12 38]\n",
      "  [11 39]\n",
      "  [ 7 43]\n",
      "  [10 40]\n",
      "  [11 39]\n",
      "  [10 40]\n",
      "  [13 37]\n",
      "  [14 36]\n",
      "  [11 39]\n",
      "  [ 9 41]\n",
      "  [ 9 41]\n",
      "  [11 39]\n",
      "  [11 39]\n",
      "  [ 9 41]\n",
      "  [ 8 42]\n",
      "  [12 38]\n",
      "  [ 9 41]\n",
      "  [11 39]\n",
      "  [15 35]]]\n",
      "Hardware runtime taken: 0.0 hours  0.0025 min  0.1476 seconds\n",
      "[0.74 0.8  0.8  0.78 0.68 0.74 0.74 0.8  0.68 0.76 0.76 0.72 0.74 0.76\n",
      " 0.78 0.86 0.8  0.78 0.8  0.74 0.72 0.78 0.82 0.82 0.78 0.78 0.82 0.84\n",
      " 0.76 0.82 0.78 0.7 ]\n",
      "Pushing value [1.3747369050979614] to mu through input stream.\n",
      "Pushing value [0.009999999776482582] to sigma through input stream.\n",
      "Just pushed policy parameters to OPX: [1.3747369050979614] [0.009999999776482582]\n",
      "Fetching index: 13, finishing index: 14\n",
      "Fetching size: 1\n",
      "Step indices: {0: (0, 1), 1: (1, 2), 2: (2, 3), 3: (3, 4), 4: (4, 5), 5: (5, 6), 6: (6, 7), 7: (7, 8), 8: (8, 9), 9: (9, 10), 10: (10, 11), 11: (11, 12), 12: (12, 13), 13: (13, 14)}\n",
      "Total data points: 14\n",
      "Fetching value from reward with input type None\n",
      "Fetched value: [[[15 35]\n",
      "  [16 34]\n",
      "  [21 29]\n",
      "  [27 23]\n",
      "  [11 39]\n",
      "  [20 30]\n",
      "  [20 30]\n",
      "  [16 34]\n",
      "  [16 34]\n",
      "  [ 9 41]\n",
      "  [21 29]\n",
      "  [21 29]\n",
      "  [12 38]\n",
      "  [18 32]\n",
      "  [17 33]\n",
      "  [20 30]\n",
      "  [23 27]\n",
      "  [17 33]\n",
      "  [15 35]\n",
      "  [ 7 43]\n",
      "  [13 37]\n",
      "  [22 28]\n",
      "  [15 35]\n",
      "  [19 31]\n",
      "  [16 34]\n",
      "  [16 34]\n",
      "  [19 31]\n",
      "  [13 37]\n",
      "  [21 29]\n",
      "  [15 35]\n",
      "  [13 37]\n",
      "  [15 35]]]\n",
      "Hardware runtime taken: 0.0 hours  0.0026 min  0.1589 seconds\n",
      "[0.7  0.68 0.58 0.46 0.78 0.6  0.6  0.68 0.68 0.82 0.58 0.58 0.76 0.64\n",
      " 0.66 0.6  0.54 0.66 0.7  0.86 0.74 0.56 0.7  0.62 0.68 0.68 0.62 0.74\n",
      " 0.58 0.7  0.74 0.7 ]\n",
      "Pushing value [1.478947401046753] to mu through input stream.\n",
      "Pushing value [0.009999999776482582] to sigma through input stream.\n",
      "Just pushed policy parameters to OPX: [1.478947401046753] [0.009999999776482582]\n",
      "Fetching index: 14, finishing index: 15\n",
      "Fetching size: 1\n",
      "Step indices: {0: (0, 1), 1: (1, 2), 2: (2, 3), 3: (3, 4), 4: (4, 5), 5: (5, 6), 6: (6, 7), 7: (7, 8), 8: (8, 9), 9: (9, 10), 10: (10, 11), 11: (11, 12), 12: (12, 13), 13: (13, 14), 14: (14, 15)}\n",
      "Total data points: 15\n",
      "Fetching value from reward with input type None\n",
      "Fetched value: [[[27 23]\n",
      "  [30 20]\n",
      "  [31 19]\n",
      "  [26 24]\n",
      "  [28 22]\n",
      "  [25 25]\n",
      "  [31 19]\n",
      "  [22 28]\n",
      "  [25 25]\n",
      "  [26 24]\n",
      "  [26 24]\n",
      "  [24 26]\n",
      "  [15 35]\n",
      "  [19 31]\n",
      "  [19 31]\n",
      "  [29 21]\n",
      "  [18 32]\n",
      "  [22 28]\n",
      "  [28 22]\n",
      "  [26 24]\n",
      "  [21 29]\n",
      "  [19 31]\n",
      "  [28 22]\n",
      "  [19 31]\n",
      "  [28 22]\n",
      "  [26 24]\n",
      "  [16 34]\n",
      "  [22 28]\n",
      "  [17 33]\n",
      "  [21 29]\n",
      "  [23 27]\n",
      "  [25 25]]]\n",
      "Hardware runtime taken: 0.0 hours  0.0028 min  0.1703 seconds\n",
      "[0.46 0.4  0.38 0.48 0.44 0.5  0.38 0.56 0.5  0.48 0.48 0.52 0.7  0.62\n",
      " 0.62 0.42 0.64 0.56 0.44 0.48 0.58 0.62 0.44 0.62 0.44 0.48 0.68 0.56\n",
      " 0.66 0.58 0.54 0.5 ]\n",
      "Pushing value [1.583158016204834] to mu through input stream.\n",
      "Pushing value [0.009999999776482582] to sigma through input stream.\n",
      "Just pushed policy parameters to OPX: [1.583158016204834] [0.009999999776482582]\n",
      "Fetching index: 15, finishing index: 16\n",
      "Fetching size: 1\n",
      "Step indices: {0: (0, 1), 1: (1, 2), 2: (2, 3), 3: (3, 4), 4: (4, 5), 5: (5, 6), 6: (6, 7), 7: (7, 8), 8: (8, 9), 9: (9, 10), 10: (10, 11), 11: (11, 12), 12: (12, 13), 13: (13, 14), 14: (14, 15), 15: (15, 16)}\n",
      "Total data points: 16\n",
      "Fetching value from reward with input type None\n",
      "Fetched value: [[[32 18]\n",
      "  [29 21]\n",
      "  [34 16]\n",
      "  [27 23]\n",
      "  [34 16]\n",
      "  [30 20]\n",
      "  [37 13]\n",
      "  [33 17]\n",
      "  [31 19]\n",
      "  [32 18]\n",
      "  [34 16]\n",
      "  [31 19]\n",
      "  [34 16]\n",
      "  [33 17]\n",
      "  [27 23]\n",
      "  [35 15]\n",
      "  [28 22]\n",
      "  [25 25]\n",
      "  [25 25]\n",
      "  [33 17]\n",
      "  [29 21]\n",
      "  [29 21]\n",
      "  [28 22]\n",
      "  [29 21]\n",
      "  [37 13]\n",
      "  [30 20]\n",
      "  [32 18]\n",
      "  [31 19]\n",
      "  [35 15]\n",
      "  [34 16]\n",
      "  [31 19]\n",
      "  [29 21]]]\n",
      "Hardware runtime taken: 0.0001 hours  0.003 min  0.1816 seconds\n",
      "[0.36 0.42 0.32 0.46 0.32 0.4  0.26 0.34 0.38 0.36 0.32 0.38 0.32 0.34\n",
      " 0.46 0.3  0.44 0.5  0.5  0.34 0.42 0.42 0.44 0.42 0.26 0.4  0.36 0.38\n",
      " 0.3  0.32 0.38 0.42]\n",
      "Pushing value [1.6873685121536255] to mu through input stream.\n",
      "Pushing value [0.009999999776482582] to sigma through input stream.\n",
      "Just pushed policy parameters to OPX: [1.6873685121536255] [0.009999999776482582]\n",
      "Fetching index: 16, finishing index: 17\n",
      "Fetching size: 1\n",
      "Step indices: {0: (0, 1), 1: (1, 2), 2: (2, 3), 3: (3, 4), 4: (4, 5), 5: (5, 6), 6: (6, 7), 7: (7, 8), 8: (8, 9), 9: (9, 10), 10: (10, 11), 11: (11, 12), 12: (12, 13), 13: (13, 14), 14: (14, 15), 15: (15, 16), 16: (16, 17)}\n",
      "Total data points: 17\n",
      "Fetching value from reward with input type None\n",
      "Fetched value: [[[43  7]\n",
      "  [43  7]\n",
      "  [33 17]\n",
      "  [36 14]\n",
      "  [42  8]\n",
      "  [39 11]\n",
      "  [38 12]\n",
      "  [38 12]\n",
      "  [38 12]\n",
      "  [36 14]\n",
      "  [39 11]\n",
      "  [45  5]\n",
      "  [38 12]\n",
      "  [42  8]\n",
      "  [39 11]\n",
      "  [36 14]\n",
      "  [38 12]\n",
      "  [43  7]\n",
      "  [40 10]\n",
      "  [41  9]\n",
      "  [41  9]\n",
      "  [33 17]\n",
      "  [42  8]\n",
      "  [44  6]\n",
      "  [40 10]\n",
      "  [41  9]\n",
      "  [40 10]\n",
      "  [40 10]\n",
      "  [39 11]\n",
      "  [40 10]\n",
      "  [41  9]\n",
      "  [30 20]]]\n",
      "Hardware runtime taken: 0.0001 hours  0.0032 min  0.193 seconds\n",
      "[0.14 0.14 0.34 0.28 0.16 0.22 0.24 0.24 0.24 0.28 0.22 0.1  0.24 0.16\n",
      " 0.22 0.28 0.24 0.14 0.2  0.18 0.18 0.34 0.16 0.12 0.2  0.18 0.2  0.2\n",
      " 0.22 0.2  0.18 0.4 ]\n",
      "Pushing value [1.791579008102417] to mu through input stream.\n",
      "Pushing value [0.009999999776482582] to sigma through input stream.\n",
      "Just pushed policy parameters to OPX: [1.791579008102417] [0.009999999776482582]\n",
      "Fetching index: 17, finishing index: 18\n",
      "Fetching size: 1\n",
      "Step indices: {0: (0, 1), 1: (1, 2), 2: (2, 3), 3: (3, 4), 4: (4, 5), 5: (5, 6), 6: (6, 7), 7: (7, 8), 8: (8, 9), 9: (9, 10), 10: (10, 11), 11: (11, 12), 12: (12, 13), 13: (13, 14), 14: (14, 15), 15: (15, 16), 16: (16, 17), 17: (17, 18)}\n",
      "Total data points: 18\n",
      "Fetching value from reward with input type None\n",
      "Fetched value: [[[41  9]\n",
      "  [44  6]\n",
      "  [44  6]\n",
      "  [45  5]\n",
      "  [42  8]\n",
      "  [41  9]\n",
      "  [40 10]\n",
      "  [45  5]\n",
      "  [44  6]\n",
      "  [45  5]\n",
      "  [40 10]\n",
      "  [41  9]\n",
      "  [44  6]\n",
      "  [45  5]\n",
      "  [43  7]\n",
      "  [39 11]\n",
      "  [43  7]\n",
      "  [45  5]\n",
      "  [44  6]\n",
      "  [41  9]\n",
      "  [46  4]\n",
      "  [43  7]\n",
      "  [45  5]\n",
      "  [48  2]\n",
      "  [45  5]\n",
      "  [45  5]\n",
      "  [45  5]\n",
      "  [44  6]\n",
      "  [44  6]\n",
      "  [45  5]\n",
      "  [43  7]\n",
      "  [43  7]]]\n",
      "Hardware runtime taken: 0.0001 hours  0.0034 min  0.2043 seconds\n",
      "[0.18 0.12 0.12 0.1  0.16 0.18 0.2  0.1  0.12 0.1  0.2  0.18 0.12 0.1\n",
      " 0.14 0.22 0.14 0.1  0.12 0.18 0.08 0.14 0.1  0.04 0.1  0.1  0.1  0.12\n",
      " 0.12 0.1  0.14 0.14]\n",
      "Pushing value [1.895789623260498] to mu through input stream.\n",
      "Pushing value [0.009999999776482582] to sigma through input stream.\n",
      "Just pushed policy parameters to OPX: [1.895789623260498] [0.009999999776482582]\n",
      "Fetching index: 18, finishing index: 19\n",
      "Fetching size: 1\n",
      "Step indices: {0: (0, 1), 1: (1, 2), 2: (2, 3), 3: (3, 4), 4: (4, 5), 5: (5, 6), 6: (6, 7), 7: (7, 8), 8: (8, 9), 9: (9, 10), 10: (10, 11), 11: (11, 12), 12: (12, 13), 13: (13, 14), 14: (14, 15), 15: (15, 16), 16: (16, 17), 17: (17, 18), 18: (18, 19)}\n",
      "Total data points: 19\n",
      "Fetching value from reward with input type None\n",
      "Fetched value: [[[46  4]\n",
      "  [45  5]\n",
      "  [48  2]\n",
      "  [44  6]\n",
      "  [47  3]\n",
      "  [47  3]\n",
      "  [48  2]\n",
      "  [47  3]\n",
      "  [46  4]\n",
      "  [50  0]\n",
      "  [47  3]\n",
      "  [50  0]\n",
      "  [46  4]\n",
      "  [49  1]\n",
      "  [45  5]\n",
      "  [49  1]\n",
      "  [46  4]\n",
      "  [47  3]\n",
      "  [49  1]\n",
      "  [49  1]\n",
      "  [47  3]\n",
      "  [48  2]\n",
      "  [47  3]\n",
      "  [46  4]\n",
      "  [47  3]\n",
      "  [48  2]\n",
      "  [44  6]\n",
      "  [47  3]\n",
      "  [48  2]\n",
      "  [46  4]\n",
      "  [47  3]\n",
      "  [47  3]]]\n",
      "Hardware runtime taken: 0.0001 hours  0.0036 min  0.2157 seconds\n",
      "[0.08 0.1  0.04 0.12 0.06 0.06 0.04 0.06 0.08 0.   0.06 0.   0.08 0.02\n",
      " 0.1  0.02 0.08 0.06 0.02 0.02 0.06 0.04 0.06 0.08 0.06 0.04 0.12 0.06\n",
      " 0.04 0.08 0.06 0.06]\n",
      "Pushing value [2.0] to mu through input stream.\n",
      "Pushing value [0.009999999776482582] to sigma through input stream.\n",
      "Just pushed policy parameters to OPX: [2.0] [0.009999999776482582]\n",
      "Fetching index: 19, finishing index: 20\n",
      "Fetching size: 1\n",
      "Step indices: {0: (0, 1), 1: (1, 2), 2: (2, 3), 3: (3, 4), 4: (4, 5), 5: (5, 6), 6: (6, 7), 7: (7, 8), 8: (8, 9), 9: (9, 10), 10: (10, 11), 11: (11, 12), 12: (12, 13), 13: (13, 14), 14: (14, 15), 15: (15, 16), 16: (16, 17), 17: (17, 18), 18: (18, 19), 19: (19, 20)}\n",
      "Total data points: 20\n",
      "Fetching value from reward with input type None\n",
      "Fetched value: [[[48  2]\n",
      "  [48  2]\n",
      "  [50  0]\n",
      "  [48  2]\n",
      "  [48  2]\n",
      "  [48  2]\n",
      "  [49  1]\n",
      "  [47  3]\n",
      "  [49  1]\n",
      "  [47  3]\n",
      "  [50  0]\n",
      "  [50  0]\n",
      "  [50  0]\n",
      "  [48  2]\n",
      "  [50  0]\n",
      "  [49  1]\n",
      "  [48  2]\n",
      "  [49  1]\n",
      "  [49  1]\n",
      "  [48  2]\n",
      "  [49  1]\n",
      "  [48  2]\n",
      "  [48  2]\n",
      "  [47  3]\n",
      "  [49  1]\n",
      "  [49  1]\n",
      "  [50  0]\n",
      "  [50  0]\n",
      "  [46  4]\n",
      "  [47  3]\n",
      "  [49  1]\n",
      "  [49  1]]]\n",
      "Hardware runtime taken: 0.0001 hours  0.0038 min  0.2271 seconds\n",
      "[0.04 0.04 0.   0.04 0.04 0.04 0.02 0.06 0.02 0.06 0.   0.   0.   0.04\n",
      " 0.   0.02 0.04 0.02 0.02 0.04 0.02 0.04 0.04 0.06 0.02 0.02 0.   0.\n",
      " 0.08 0.06 0.02 0.02]\n"
     ]
    }
   ],
   "source": [
    "q_env.std_action = np.array([0.01], dtype=np.float32)\n",
    "reward = []\n",
    "q_env.step_tracker = 0\n",
    "q_env.clear_history()\n",
    "for action in np.linspace(-1.0, 1.0, 20):\n",
    "    q_env.mean_action = rescaled_env.action(np.array([action], dtype=np.float32))\n",
    "    print(q_env.step(np.array([action], dtype=np.float32))[1])\n",
    "    reward.append(q_env.reward_history[-1])\n",
    "    q_env.step_tracker += 1"
   ]
  },
  {
   "cell_type": "code",
   "execution_count": 32,
   "id": "e26816813a42343c",
   "metadata": {
    "ExecuteTime": {
     "end_time": "2025-06-27T02:42:12.844697Z",
     "start_time": "2025-06-27T02:42:12.801081Z"
    }
   },
   "outputs": [
    {
     "data": {
      "text/plain": [
       "[<matplotlib.lines.Line2D at 0x30b479b50>]"
      ]
     },
     "execution_count": 32,
     "metadata": {},
     "output_type": "execute_result"
    },
    {
     "data": {
      "image/png": "[encoded data removed]",
      "text/plain": [
       "<Figure size 640x480 with 1 Axes>"
      ]
     },
     "metadata": {},
     "output_type": "display_data"
    }
   ],
   "source": [
    "import matplotlib.pyplot as plt\n",
    "plt.plot(rescaled_env.action(np.linspace(-1.0, 1.0, 20)), np.mean(q_env.reward_history, axis=-1), marker=\"o\")"
   ]
  },
  {
   "cell_type": "code",
   "execution_count": 31,
   "id": "9176ebe0",
   "metadata": {},
   "outputs": [
    {
     "data": {
      "text/plain": [
       "SparsePauliOp(['I', 'Z'],\n",
       "              coeffs=[ 0.5+0.j, -0.5+0.j])"
      ]
     },
     "execution_count": 31,
     "metadata": {},
     "output_type": "execute_result"
    }
   ],
   "source": [
    "from qiskit.quantum_info import SparsePauliOp\n",
    "SparsePauliOp.from_operator(target.dm.to_operator())"
   ]
  },
  {
   "cell_type": "code",
   "execution_count": 35,
   "id": "7daf3356",
   "metadata": {},
   "outputs": [],
   "source": [
    "ppo_agent.agent_config.entropy_coef = 0.01"
   ]
  },
  {
   "cell_type": "code",
   "execution_count": 26,
   "id": "dcf181cf9f629d85",
   "metadata": {},
   "outputs": [
    {
     "data": {
      "image/png": "[encoded data removed]",
      "text/plain": [
       "<Figure size 640x480 with 1 Axes>"
      ]
     },
     "metadata": {},
     "output_type": "display_data"
    },
    {
     "name": "stderr",
     "output_type": "stream",
     "text": [
      "/Users/arthurostrauss/Library/CloudStorage/OneDrive-NationalUniversityofSingapore/Coding_projects/Quantum_Optimal_Control/.venv/lib/python3.11/site-packages/gymnasium/wrappers/utils.py:235: DeprecationWarning: __array_wrap__ must accept context and return_scalar arguments (positionally) in the future. (Deprecated NumPy 2.0)\n",
      "  return (obs - intercept) / gradient\n"
     ]
    },
    {
     "data": {
      "text/plain": [
       "<Figure size 640x480 with 0 Axes>"
      ]
     },
     "metadata": {},
     "output_type": "display_data"
    }
   ],
   "source": [
    "results = ppo_agent.train(ppo_training, ppo_settings)"
   ]
  },
  {
   "cell_type": "code",
   "execution_count": 34,
   "id": "38f55b98",
   "metadata": {},
   "outputs": [
    {
     "data": {
      "text/plain": [
       "[tensor(1.1309),\n",
       " tensor(1.1415),\n",
       " tensor(1.1538),\n",
       " tensor(1.1911),\n",
       " tensor(1.2687),\n",
       " tensor(1.3633),\n",
       " tensor(1.4761),\n",
       " tensor(1.5713),\n",
       " tensor(1.6594),\n",
       " tensor(1.7436),\n",
       " tensor(1.8051),\n",
       " tensor(1.8457),\n",
       " tensor(1.8785),\n",
       " tensor(1.9065),\n",
       " tensor(1.9248),\n",
       " tensor(1.9350),\n",
       " tensor(1.9419),\n",
       " tensor(1.9472),\n",
       " tensor(1.9514),\n",
       " tensor(1.9549),\n",
       " tensor(1.9583),\n",
       " tensor(1.9615),\n",
       " tensor(1.9640),\n",
       " tensor(1.9665),\n",
       " tensor(1.9689),\n",
       " tensor(1.9711),\n",
       " tensor(1.9729),\n",
       " tensor(1.9745),\n",
       " tensor(1.9759),\n",
       " tensor(1.9772),\n",
       " tensor(1.9781),\n",
       " tensor(1.9789),\n",
       " tensor(1.9797),\n",
       " tensor(1.9805),\n",
       " tensor(1.9813),\n",
       " tensor(1.9820),\n",
       " tensor(1.9827),\n",
       " tensor(1.9834),\n",
       " tensor(1.9840),\n",
       " tensor(1.9845),\n",
       " tensor(1.9851),\n",
       " tensor(1.9857),\n",
       " tensor(1.9863),\n",
       " tensor(1.9867),\n",
       " tensor(1.9872),\n",
       " tensor(1.9876),\n",
       " tensor(1.9879),\n",
       " tensor(1.9883),\n",
       " tensor(1.9886),\n",
       " tensor(1.9889),\n",
       " tensor(1.9893),\n",
       " tensor(1.9897),\n",
       " tensor(1.9900),\n",
       " tensor(1.9902),\n",
       " tensor(1.9907),\n",
       " tensor(1.9909),\n",
       " tensor(1.9912),\n",
       " tensor(1.9914),\n",
       " tensor(1.9916),\n",
       " tensor(1.9918),\n",
       " tensor(1.9920),\n",
       " tensor(1.9922),\n",
       " tensor(1.9924),\n",
       " tensor(1.9926),\n",
       " tensor(1.9927),\n",
       " tensor(1.9929),\n",
       " tensor(1.9930),\n",
       " tensor(1.9932),\n",
       " tensor(1.9933),\n",
       " tensor(1.9935),\n",
       " tensor(1.9936),\n",
       " tensor(1.9938),\n",
       " tensor(1.9939),\n",
       " tensor(1.9940),\n",
       " tensor(1.9942),\n",
       " tensor(1.9943),\n",
       " tensor(1.9944),\n",
       " tensor(1.9945),\n",
       " tensor(1.9946),\n",
       " tensor(1.9947),\n",
       " tensor(1.9949),\n",
       " tensor(1.9950),\n",
       " tensor(1.9951),\n",
       " tensor(1.9952),\n",
       " tensor(1.9952),\n",
       " tensor(1.9953),\n",
       " tensor(1.9954),\n",
       " tensor(1.9955),\n",
       " tensor(1.9956),\n",
       " tensor(1.9956),\n",
       " tensor(1.9957),\n",
       " tensor(1.9958),\n",
       " tensor(1.9959),\n",
       " tensor(1.9960),\n",
       " tensor(1.9960),\n",
       " tensor(1.9961),\n",
       " tensor(1.9962),\n",
       " tensor(1.9962),\n",
       " tensor(1.9963),\n",
       " tensor(1.9964)]"
      ]
     },
     "execution_count": 34,
     "metadata": {},
     "output_type": "execute_result"
    }
   ],
   "source": [
    "ppo_agent.training_results[\"clipped_mean_action_0\"]"
   ]
  },
  {
   "cell_type": "code",
   "execution_count": 56,
   "id": "97580162bc2a7ec",
   "metadata": {},
   "outputs": [
    {
     "data": {
      "text/plain": [
       "SparsePauliOp(['I', 'Z'],\n",
       "              coeffs=[ 6.+0.j, -4.+0.j])"
      ]
     },
     "execution_count": 56,
     "metadata": {},
     "output_type": "execute_result"
    }
   ],
   "source": [
    "q_env.config.reward.get_reward_data(\n",
    "    q_env.circuit, np.zeros((2, q_env.n_actions)), q_env.target, q_env.config\n",
    ")[0].hamiltonian"
   ]
  },
  {
   "cell_type": "code",
   "execution_count": 30,
   "id": "009fbccc",
   "metadata": {},
   "outputs": [
    {
     "data": {
      "image/png": "[encoded data removed]",
      "text/plain": [
       "<Figure size 640x480 with 1 Axes>"
      ]
     },
     "metadata": {},
     "output_type": "display_data"
    }
   ],
   "source": [
    "import matplotlib.pyplot as plt\n",
    "import numpy as np\n",
    "\n",
    "plt.plot(np.mean(q_env.reward_history, axis=-1))\n",
    "plt.show()"
   ]
  },
  {
   "cell_type": "code",
   "execution_count": 32,
   "id": "88f6c47d",
   "metadata": {},
   "outputs": [
    {
     "data": {
      "text/plain": [
       "{'avg_reward': [0.38756250000000003,\n",
       "  0.371875,\n",
       "  0.5150625,\n",
       "  0.2025,\n",
       "  0.2941875,\n",
       "  0.469375,\n",
       "  0.4423125,\n",
       "  0.3550625,\n",
       "  0.26737500000000003,\n",
       "  0.4224375,\n",
       "  0.4469375,\n",
       "  0.4009375,\n",
       "  0.3884375,\n",
       "  0.19031250000000002,\n",
       "  0.404,\n",
       "  0.3883125,\n",
       "  0.5381875,\n",
       "  0.509,\n",
       "  0.34806250000000005,\n",
       "  0.4733125,\n",
       "  0.445625,\n",
       "  0.4454375,\n",
       "  0.52625,\n",
       "  0.5569999999999999,\n",
       "  0.42237499999999994,\n",
       "  0.51225,\n",
       "  0.5310625,\n",
       "  0.5155625,\n",
       "  0.5873125,\n",
       "  0.5186875,\n",
       "  0.5063749999999999,\n",
       "  0.5656249999999999,\n",
       "  0.5851875,\n",
       "  0.5128125,\n",
       "  0.573375,\n",
       "  0.5527500000000001,\n",
       "  0.530875,\n",
       "  0.6014375000000001,\n",
       "  0.5183125,\n",
       "  0.520875,\n",
       "  0.582125,\n",
       "  0.6287499999999999,\n",
       "  0.6615,\n",
       "  0.664,\n",
       "  0.5680624999999999,\n",
       "  0.7086874999999999,\n",
       "  0.67225,\n",
       "  0.7040625,\n",
       "  0.6203125,\n",
       "  0.571375],\n",
       " 'fidelity_history': [],\n",
       " 'hardware_runtime': [0.11352600000000002,\n",
       "  0.11352600000000002,\n",
       "  0.11352600000000002,\n",
       "  0.11352600000000002,\n",
       "  0.11352600000000002,\n",
       "  0.11352600000000002,\n",
       "  0.11352600000000002,\n",
       "  0.11352600000000002,\n",
       "  0.11352600000000002,\n",
       "  0.11352600000000002,\n",
       "  0.11352600000000002,\n",
       "  0.11352600000000002,\n",
       "  0.11352600000000002,\n",
       "  0.11352600000000002,\n",
       "  0.11352600000000002,\n",
       "  0.11352600000000002,\n",
       "  0.11352600000000002,\n",
       "  0.11352600000000002,\n",
       "  0.11352600000000002,\n",
       "  0.11352600000000002,\n",
       "  0.11352600000000002,\n",
       "  0.11352600000000002,\n",
       "  0.11352600000000002,\n",
       "  0.11352600000000002,\n",
       "  0.11352600000000002,\n",
       "  0.11352600000000002,\n",
       "  0.11352600000000002,\n",
       "  0.11352600000000002,\n",
       "  0.11352600000000002,\n",
       "  0.11352600000000002,\n",
       "  0.11352600000000002,\n",
       "  0.11352600000000002,\n",
       "  0.11352600000000002,\n",
       "  0.11352600000000002,\n",
       "  0.11352600000000002,\n",
       "  0.11352600000000002,\n",
       "  0.11352600000000002,\n",
       "  0.11352600000000002,\n",
       "  0.11352600000000002,\n",
       "  0.11352600000000002,\n",
       "  0.11352600000000002,\n",
       "  0.11352600000000002,\n",
       "  0.11352600000000002,\n",
       "  0.11352600000000002,\n",
       "  0.11352600000000002,\n",
       "  0.11352600000000002,\n",
       "  0.11352600000000002,\n",
       "  0.11352600000000002,\n",
       "  0.11352600000000002,\n",
       "  0.11352600000000002],\n",
       " 'total_shots': [500,\n",
       "  500,\n",
       "  500,\n",
       "  500,\n",
       "  500,\n",
       "  500,\n",
       "  500,\n",
       "  500,\n",
       "  500,\n",
       "  500,\n",
       "  500,\n",
       "  500,\n",
       "  500,\n",
       "  500,\n",
       "  500,\n",
       "  500,\n",
       "  500,\n",
       "  500,\n",
       "  500,\n",
       "  500,\n",
       "  500,\n",
       "  500,\n",
       "  500,\n",
       "  500,\n",
       "  500,\n",
       "  500,\n",
       "  500,\n",
       "  500,\n",
       "  500,\n",
       "  500,\n",
       "  500,\n",
       "  500,\n",
       "  500,\n",
       "  500,\n",
       "  500,\n",
       "  500,\n",
       "  500,\n",
       "  500,\n",
       "  500,\n",
       "  500,\n",
       "  500,\n",
       "  500,\n",
       "  500,\n",
       "  500,\n",
       "  500,\n",
       "  500,\n",
       "  500,\n",
       "  500,\n",
       "  500,\n",
       "  500],\n",
       " 'total_updates': [],\n",
       " 'clipped_mean_action_0': [tensor(-0.2091),\n",
       "  tensor(-0.2233),\n",
       "  tensor(-0.2348),\n",
       "  tensor(-0.2486),\n",
       "  tensor(-0.2662),\n",
       "  tensor(-0.2786),\n",
       "  tensor(-0.2933),\n",
       "  tensor(-0.3117),\n",
       "  tensor(-0.3342),\n",
       "  tensor(-0.3580),\n",
       "  tensor(-0.3827),\n",
       "  tensor(-0.4105),\n",
       "  tensor(-0.4415),\n",
       "  tensor(-0.4724),\n",
       "  tensor(-0.5067),\n",
       "  tensor(-0.5437),\n",
       "  tensor(-0.5817),\n",
       "  tensor(-0.6207),\n",
       "  tensor(-0.6629),\n",
       "  tensor(-0.6958),\n",
       "  tensor(-0.7303),\n",
       "  tensor(-0.7551),\n",
       "  tensor(-0.7880),\n",
       "  tensor(-0.8290),\n",
       "  tensor(-0.8695),\n",
       "  tensor(-0.8897),\n",
       "  tensor(-0.8910),\n",
       "  tensor(-0.8935),\n",
       "  tensor(-0.8982),\n",
       "  tensor(-0.8938),\n",
       "  tensor(-0.9131),\n",
       "  tensor(-0.9526),\n",
       "  tensor(-0.9839),\n",
       "  tensor(-1.0069),\n",
       "  tensor(-1.0156),\n",
       "  tensor(-1.0200),\n",
       "  tensor(-1.0018),\n",
       "  tensor(-0.9875),\n",
       "  tensor(-0.9992),\n",
       "  tensor(-1.0171),\n",
       "  tensor(-1.0476),\n",
       "  tensor(-1.0652),\n",
       "  tensor(-1.0632),\n",
       "  tensor(-1.0597),\n",
       "  tensor(-1.0392),\n",
       "  tensor(-1.0224),\n",
       "  tensor(-1.0354),\n",
       "  tensor(-1.0277),\n",
       "  tensor(-1.0320),\n",
       "  tensor(-1.0434)],\n",
       " 'mean_action_0': [tensor(-0.1101),\n",
       "  tensor(-0.1173),\n",
       "  tensor(-0.1230),\n",
       "  tensor(-0.1300),\n",
       "  tensor(-0.1388),\n",
       "  tensor(-0.1450),\n",
       "  tensor(-0.1524),\n",
       "  tensor(-0.1617),\n",
       "  tensor(-0.1730),\n",
       "  tensor(-0.1849),\n",
       "  tensor(-0.1973),\n",
       "  tensor(-0.2113),\n",
       "  tensor(-0.2269),\n",
       "  tensor(-0.2424),\n",
       "  tensor(-0.2596),\n",
       "  tensor(-0.2782),\n",
       "  tensor(-0.2973),\n",
       "  tensor(-0.3169),\n",
       "  tensor(-0.3382),\n",
       "  tensor(-0.3547),\n",
       "  tensor(-0.3720),\n",
       "  tensor(-0.3845),\n",
       "  tensor(-0.4010),\n",
       "  tensor(-0.4216),\n",
       "  tensor(-0.4420),\n",
       "  tensor(-0.4521),\n",
       "  tensor(-0.4528),\n",
       "  tensor(-0.4540),\n",
       "  tensor(-0.4564),\n",
       "  tensor(-0.4541),\n",
       "  tensor(-0.4639),\n",
       "  tensor(-0.4837),\n",
       "  tensor(-0.4995),\n",
       "  tensor(-0.5110),\n",
       "  tensor(-0.5154),\n",
       "  tensor(-0.5176),\n",
       "  tensor(-0.5085),\n",
       "  tensor(-0.5013),\n",
       "  tensor(-0.5072),\n",
       "  tensor(-0.5161),\n",
       "  tensor(-0.5314),\n",
       "  tensor(-0.5403),\n",
       "  tensor(-0.5393),\n",
       "  tensor(-0.5375),\n",
       "  tensor(-0.5273),\n",
       "  tensor(-0.5188),\n",
       "  tensor(-0.5253),\n",
       "  tensor(-0.5215),\n",
       "  tensor(-0.5236),\n",
       "  tensor(-0.5294)],\n",
       " 'std_action_0': [tensor(0.5311),\n",
       "  tensor(0.5321),\n",
       "  tensor(0.5335),\n",
       "  tensor(0.5346),\n",
       "  tensor(0.5356),\n",
       "  tensor(0.5373),\n",
       "  tensor(0.5392),\n",
       "  tensor(0.5410),\n",
       "  tensor(0.5424),\n",
       "  tensor(0.5439),\n",
       "  tensor(0.5459),\n",
       "  tensor(0.5480),\n",
       "  tensor(0.5500),\n",
       "  tensor(0.5523),\n",
       "  tensor(0.5546),\n",
       "  tensor(0.5567),\n",
       "  tensor(0.5590),\n",
       "  tensor(0.5614),\n",
       "  tensor(0.5640),\n",
       "  tensor(0.5663),\n",
       "  tensor(0.5691),\n",
       "  tensor(0.5697),\n",
       "  tensor(0.5707),\n",
       "  tensor(0.5713),\n",
       "  tensor(0.5704),\n",
       "  tensor(0.5663),\n",
       "  tensor(0.5607),\n",
       "  tensor(0.5565),\n",
       "  tensor(0.5521),\n",
       "  tensor(0.5476),\n",
       "  tensor(0.5459),\n",
       "  tensor(0.5451),\n",
       "  tensor(0.5433),\n",
       "  tensor(0.5398),\n",
       "  tensor(0.5357),\n",
       "  tensor(0.5313),\n",
       "  tensor(0.5268),\n",
       "  tensor(0.5219),\n",
       "  tensor(0.5181),\n",
       "  tensor(0.5147),\n",
       "  tensor(0.5120),\n",
       "  tensor(0.5084),\n",
       "  tensor(0.5036),\n",
       "  tensor(0.4985),\n",
       "  tensor(0.4939),\n",
       "  tensor(0.4894),\n",
       "  tensor(0.4856),\n",
       "  tensor(0.4821),\n",
       "  tensor(0.4784),\n",
       "  tensor(0.4741)],\n",
       " 'mean_action': [-0.5293641686439514],\n",
       " 'std_action': [0.4740823209285736],\n",
       " 'clipped_mean_action': [-1.043434739112854]}"
      ]
     },
     "execution_count": 32,
     "metadata": {},
     "output_type": "execute_result"
    }
   ],
   "source": [
    "results"
   ]
  },
  {
   "cell_type": "code",
   "execution_count": null,
   "id": "7fe2fdf2e6e21213",
   "metadata": {},
   "outputs": [],
   "source": [
    "q_env.reward_data.fiducials_indices"
   ]
  },
  {
   "cell_type": "code",
   "execution_count": null,
   "id": "b15b810aa507edcc",
   "metadata": {},
   "outputs": [],
   "source": [
    "q_env.policy.push_to_opx({\"mu\": [1.0], \"sigma\": [0.2]}, job, verbosity=2)"
   ]
  },
  {
   "cell_type": "code",
   "execution_count": null,
   "id": "25773fe30923ea7a",
   "metadata": {},
   "outputs": [],
   "source": [
    "q_env.max_input_state.push_to_opx(1, job, verbosity=2)"
   ]
  },
  {
   "cell_type": "code",
   "execution_count": null,
   "id": "51386d41b5cf4a45",
   "metadata": {},
   "outputs": [],
   "source": [
    "q_env.input_state_vars.push_to_opx({\"input_state_0\": 1}, job, verbosity=2)"
   ]
  },
  {
   "cell_type": "code",
   "execution_count": null,
   "id": "10a8726072ca96d3",
   "metadata": {},
   "outputs": [],
   "source": [
    "q_env.qm_backend_config"
   ]
  },
  {
   "cell_type": "code",
   "execution_count": null,
   "id": "e65e9beb823e6e86",
   "metadata": {},
   "outputs": [],
   "source": [
    "q_env.mean_action"
   ]
  },
  {
   "cell_type": "code",
   "execution_count": null,
   "id": "4064d7ce5a5c417b",
   "metadata": {},
   "outputs": [],
   "source": [
    "print(job.result_handles.reward.fetch_all()[\"value\"])"
   ]
  },
  {
   "cell_type": "code",
   "execution_count": 69,
   "id": "96db58fc3807122c",
   "metadata": {},
   "outputs": [],
   "source": [
    "results = job.result_handles.reward.fetch_all()[\"value\"]"
   ]
  },
  {
   "cell_type": "code",
   "execution_count": 29,
   "id": "5b9956b1",
   "metadata": {},
   "outputs": [
    {
     "data": {
      "text/plain": [
       "array([(0.77628107,), (1.20599005,), (1.79058975,), ..., (1.77650536,),\n",
       "       (2.        ,), (2.        ,)],\n",
       "      shape=(2976,), dtype=[('value', '<f8')])"
      ]
     },
     "execution_count": 29,
     "metadata": {},
     "output_type": "execute_result"
    }
   ],
   "source": [
    "job.result_handles.a_0_0.fetch_all()"
   ]
  },
  {
   "cell_type": "code",
   "execution_count": 71,
   "id": "f7b940c9",
   "metadata": {},
   "outputs": [
    {
     "data": {
      "text/plain": [
       "array([[[479,  21],\n",
       "        [476,  24]],\n",
       "\n",
       "       [[458,  42],\n",
       "        [454,  46]],\n",
       "\n",
       "       [[392, 108],\n",
       "        [376, 124]],\n",
       "\n",
       "       [[312, 188],\n",
       "        [308, 192]],\n",
       "\n",
       "       [[203, 297],\n",
       "        [197, 303]],\n",
       "\n",
       "       [[119, 381],\n",
       "        [139, 361]],\n",
       "\n",
       "       [[ 63, 437],\n",
       "        [ 56, 444]],\n",
       "\n",
       "       [[ 32, 468],\n",
       "        [ 36, 464]],\n",
       "\n",
       "       [[ 39, 461],\n",
       "        [ 51, 449]],\n",
       "\n",
       "       [[109, 391],\n",
       "        [ 97, 403]],\n",
       "\n",
       "       [[178, 322],\n",
       "        [187, 313]],\n",
       "\n",
       "       [[283, 217],\n",
       "        [277, 223]],\n",
       "\n",
       "       [[378, 122],\n",
       "        [366, 134]],\n",
       "\n",
       "       [[445,  55],\n",
       "        [445,  55]],\n",
       "\n",
       "       [[472,  28],\n",
       "        [470,  30]],\n",
       "\n",
       "       [[476,  24],\n",
       "        [476,  24]],\n",
       "\n",
       "       [[435,  65],\n",
       "        [417,  83]],\n",
       "\n",
       "       [[357, 143],\n",
       "        [370, 130]],\n",
       "\n",
       "       [[271, 229],\n",
       "        [268, 232]],\n",
       "\n",
       "       [[170, 330],\n",
       "        [163, 337]],\n",
       "\n",
       "       [[ 97, 403],\n",
       "        [ 84, 416]],\n",
       "\n",
       "       [[ 53, 447],\n",
       "        [ 51, 449]],\n",
       "\n",
       "       [[ 41, 459],\n",
       "        [ 48, 452]],\n",
       "\n",
       "       [[ 59, 441],\n",
       "        [ 85, 415]],\n",
       "\n",
       "       [[128, 372],\n",
       "        [140, 360]],\n",
       "\n",
       "       [[199, 301],\n",
       "        [216, 284]],\n",
       "\n",
       "       [[328, 172],\n",
       "        [317, 183]],\n",
       "\n",
       "       [[406,  94],\n",
       "        [379, 121]],\n",
       "\n",
       "       [[456,  44],\n",
       "        [465,  35]],\n",
       "\n",
       "       [[484,  16],\n",
       "        [480,  20]]])"
      ]
     },
     "execution_count": 71,
     "metadata": {},
     "output_type": "execute_result"
    }
   ],
   "source": [
    "results"
   ]
  },
  {
   "cell_type": "code",
   "execution_count": 79,
   "id": "6fc6bb31843ea4cc",
   "metadata": {},
   "outputs": [],
   "source": [
    "from qiskit.primitives import BitArray\n",
    "counts = []\n",
    "reward_array = np.zeros(shape=(q_env.config.batch_size,))\n",
    "reward_data = q_env.reward_data\n",
    "config = q_env.config\n",
    "formatted_counts = []\n",
    "collected_counts = results\n",
    "count_idx = 0\n",
    "num_qubits = q_env.config.target.causal_cone_size if isinstance(q_env.config.target, GateTarget) else q_env.config.target.n_qubits\n",
    "dim = 2**num_qubits\n",
    "binary = lambda n, l: bin(n)[2:].zfill(l)\n",
    "num_obs = len(reward_data.observables_indices[0])\n",
    "for o_idx in range(num_obs):\n",
    "    formatted_counts.append([])\n",
    "    counts_array = np.array(collected_counts[count_idx], dtype=int)\n",
    "    formatted_counts[o_idx] = counts_array\n",
    "    count_idx += 1\n",
    "for batch_idx in range(config.batch_size):\n",
    "    counts.append([])\n",
    "    for o_idx in range(num_obs):\n",
    "        counts[batch_idx].append(formatted_counts[o_idx][batch_idx])\n",
    "\n",
    "for batch_idx in range(config.batch_size):\n",
    "    exp_value = reward_data.id_coeff\n",
    "    for o_idx in range(num_obs):\n",
    "        counts_dict = {\n",
    "            binary(i, num_qubits): int(counts[batch_idx][o_idx][i]) for i in range(dim)\n",
    "        }\n",
    "        obs = reward_data[0].observables.group_commuting(True)[o_idx]\n",
    "        diag_obs = SparsePauliOp(\"I\" * num_qubits, 0.0)\n",
    "        for obs_, coeff in zip(obs.paulis, obs.coeffs):\n",
    "            diag_obs_label = \"\"\n",
    "            for char in obs_.to_label():\n",
    "                diag_obs_label += char if char == \"I\" else \"Z\"\n",
    "            diag_obs += SparsePauliOp(diag_obs_label, coeff)\n",
    "        bit_array = BitArray.from_counts(counts_dict, num_bits=num_qubits)\n",
    "        exp_value += bit_array.expectation_values(diag_obs.simplify())\n",
    "    \n",
    "    exp_value /= reward_data.pauli_sampling\n",
    "    reward_array[batch_idx] = exp_value"
   ]
  },
  {
   "cell_type": "code",
   "execution_count": 83,
   "id": "ff608b3bf68c0c1e",
   "metadata": {},
   "outputs": [
    {
     "data": {
      "text/plain": [
       "[[array([479,  21])], [array([476,  24])]]"
      ]
     },
     "execution_count": 83,
     "metadata": {},
     "output_type": "execute_result"
    }
   ],
   "source": [
    "counts"
   ]
  },
  {
   "cell_type": "code",
   "execution_count": 45,
   "id": "bbd0566134239e76",
   "metadata": {},
   "outputs": [],
   "source": [
    "reshaped_counts = []\n",
    "for batch_idx in range(q_env.batch_size):\n",
    "    reshaped_counts.append([])\n",
    "    for i_idx in range(max_input_state):\n",
    "        reshaped_counts[batch_idx].append([])\n",
    "        for o_idx in range(num_obs_per_input_state[i_idx]):\n",
    "\n",
    "            reshaped_counts[batch_idx][i_idx].append(\n",
    "                formatted_counts[i_idx][o_idx][batch_idx]\n",
    "            )"
   ]
  },
  {
   "cell_type": "code",
   "execution_count": 46,
   "id": "3850ae8b787f3be6",
   "metadata": {},
   "outputs": [
    {
     "data": {
      "text/plain": [
       "[[[array([1948,   52])]], [[array([1950,   50])]]]"
      ]
     },
     "execution_count": 46,
     "metadata": {},
     "output_type": "execute_result"
    }
   ],
   "source": [
    "reshaped_counts"
   ]
  },
  {
   "cell_type": "code",
   "execution_count": null,
   "id": "c1e2fb98d15c0de3",
   "metadata": {},
   "outputs": [],
   "source": [
    "from qiskit.quantum_info import Statevector\n",
    "Statevector.from_label(\"0\").expectation_value(q_env.reward_data.hamiltonian/q_env.reward_data.pauli_sampling)"
   ]
  },
  {
   "cell_type": "code",
   "execution_count": null,
   "id": "68c8dddcaed32830",
   "metadata": {},
   "outputs": [],
   "source": [
    "q_env.reward_data.pauli_sampling"
   ]
  },
  {
   "cell_type": "code",
   "execution_count": null,
   "id": "f66577cca2eb5260",
   "metadata": {},
   "outputs": [],
   "source": [
    "q_env.reward_data[0].precision"
   ]
  },
  {
   "cell_type": "code",
   "execution_count": null,
   "id": "f4c72c35cfc673bc",
   "metadata": {},
   "outputs": [],
   "source": [
    "from torch.distributions import Normal\n",
    "import torch\n",
    "ppo_agent.process_action(Normal(ppo_agent.agent(torch.zeros((q_env.batch_size,2)))[0].detach(),ppo_agent.agent(torch.zeros((q_env.batch_size,2)))[1].detach() ))"
   ]
  },
  {
   "cell_type": "code",
   "execution_count": 49,
   "id": "c0fe368258790b4e",
   "metadata": {},
   "outputs": [
    {
     "data": {
      "text/plain": [
       "SparsePauliOp(['I', 'Z'],\n",
       "              coeffs=[ 4.+0.j, -6.+0.j])"
      ]
     },
     "execution_count": 49,
     "metadata": {},
     "output_type": "execute_result"
    }
   ],
   "source": [
    "q_env.reward_data.hamiltonian"
   ]
  },
  {
   "cell_type": "code",
   "execution_count": null,
   "id": "36a3cd83dbb471a2",
   "metadata": {},
   "outputs": [],
   "source": [
    "q_env.reward_data.id_coeff/20"
   ]
  },
  {
   "cell_type": "code",
   "execution_count": 47,
   "id": "2eb54f4e21c67c22",
   "metadata": {},
   "outputs": [
    {
     "name": "stdout",
     "output_type": "stream",
     "text": [
      "{'0': np.int64(1948), '1': np.int64(52)}\n",
      "SparsePauliOp(['I', 'Z'],\n",
      "              coeffs=[ 4.+0.j, -6.+0.j])\n",
      "SparsePauliOp(['I', 'Z'],\n",
      "              coeffs=[ 4.+0.j, -6.+0.j])\n",
      "{'0': np.int64(1950), '1': np.int64(50)}\n",
      "SparsePauliOp(['I', 'Z'],\n",
      "              coeffs=[ 4.+0.j, -6.+0.j])\n",
      "SparsePauliOp(['I', 'Z'],\n",
      "              coeffs=[ 4.+0.j, -6.+0.j])\n"
     ]
    }
   ],
   "source": [
    "from rl_qoc.qua.qua_utils import binary\n",
    "from qiskit.quantum_info import SparsePauliOp\n",
    "from qiskit.primitives import BitArray\n",
    "reward = np.zeros(q_env.batch_size)\n",
    "dim = 2**q_env.n_qubits\n",
    "counts = reshaped_counts\n",
    "for batch_idx in range(q_env.batch_size):\n",
    "    exp_value = q_env.reward_data.id_coeff\n",
    "    for i_idx in range(max_input_state):\n",
    "        for o_idx in range(num_obs_per_input_state[i_idx]):\n",
    "            counts_dict = {\n",
    "                binary(i, q_env.n_qubits): counts[batch_idx][i_idx][o_idx][i]\n",
    "                for i in range(dim)\n",
    "            }\n",
    "            print(counts_dict)\n",
    "            obs = q_env.reward_data[i_idx].hamiltonian.group_commuting(True)[o_idx]\n",
    "            print(obs)\n",
    "            diag_obs = SparsePauliOp(\"I\" * q_env.n_qubits, 0.0)\n",
    "            for obs_, coeff in zip(obs.paulis, obs.coeffs):\n",
    "                diag_obs_label = \"\"\n",
    "                for char in obs_.to_label():\n",
    "                    diag_obs_label += char if char == \"I\" else \"Z\"\n",
    "                diag_obs += SparsePauliOp(diag_obs_label, coeff)\n",
    "            bit_array = BitArray.from_counts(counts_dict, num_bits=q_env.n_qubits)\n",
    "            print(diag_obs.simplify())\n",
    "            exp_value += bit_array.expectation_values(diag_obs.simplify())\n",
    "    exp_value /= q_env.reward_data.pauli_sampling\n",
    "    reward[batch_idx] = exp_value"
   ]
  },
  {
   "cell_type": "code",
   "execution_count": 48,
   "id": "d7f241ef69567e19",
   "metadata": {},
   "outputs": [
    {
     "data": {
      "text/plain": [
       "array([0.2312, 0.23  ])"
      ]
     },
     "execution_count": 48,
     "metadata": {},
     "output_type": "execute_result"
    }
   ],
   "source": [
    "reward"
   ]
  },
  {
   "cell_type": "code",
   "execution_count": null,
   "id": "f6da0729859dacab",
   "metadata": {},
   "outputs": [],
   "source": [
    "job.result_handles.reward.fetch_all()[\"value\"].shape"
   ]
  },
  {
   "cell_type": "code",
   "execution_count": null,
   "id": "ec77cf155db2e849",
   "metadata": {},
   "outputs": [],
   "source": []
  },
  {
   "cell_type": "code",
   "execution_count": null,
   "id": "c8b07581007cc29d",
   "metadata": {},
   "outputs": [],
   "source": [
    "counts = np.transpose(job.result_handles.reward.fetch_all()[\"value\"], (1, 0, 2))"
   ]
  },
  {
   "cell_type": "code",
   "execution_count": null,
   "id": "2591410380e3b00a",
   "metadata": {},
   "outputs": [],
   "source": [
    "from rl_qoc.qua.qua_utils import binary\n",
    "from qiskit.primitives import BitArray\n",
    "\n",
    "reward = np.zeros(q_env.batch_size)\n",
    "for b in range(q_env.batch_size):\n",
    "    sv = np.zeros(4)\n",
    "    for i_idx in range(4):\n",
    "        counts_dict = {binary(i, 1): counts[b, i_idx, i] for i in range(2)}\n",
    "        bit_array = BitArray.from_counts(counts_dict, num_bits=1)\n",
    "        sv[i_idx] = bit_array.get_int_counts().get(0, 0) / q_env.n_shots\n",
    "    reward[b] = np.mean(sv)\n",
    "\n",
    "reward"
   ]
  },
  {
   "cell_type": "code",
   "execution_count": null,
   "id": "4f57b786cf9a154a",
   "metadata": {},
   "outputs": [],
   "source": [
    "-np.log10(1.0 - reward)"
   ]
  },
  {
   "cell_type": "code",
   "execution_count": null,
   "id": "51c0184ff4ac7b3c",
   "metadata": {},
   "outputs": [],
   "source": [
    "print(job.result_handles.action.fetch_all())"
   ]
  },
  {
   "cell_type": "code",
   "execution_count": null,
   "id": "a8ef2fe8373960ab",
   "metadata": {},
   "outputs": [],
   "source": [
    "q_env._step_indices"
   ]
  },
  {
   "cell_type": "code",
   "execution_count": null,
   "id": "e58b53ac3318fefc",
   "metadata": {},
   "outputs": [],
   "source": [
    "job.result_handles.reward.count_so_far()"
   ]
  },
  {
   "cell_type": "code",
   "execution_count": null,
   "id": "a23e9798d708b656",
   "metadata": {},
   "outputs": [],
   "source": [
    "q_env._total_data_points"
   ]
  },
  {
   "cell_type": "code",
   "execution_count": null,
   "id": "3750f6ad935de212",
   "metadata": {},
   "outputs": [],
   "source": [
    "job.status"
   ]
  },
  {
   "cell_type": "code",
   "execution_count": null,
   "id": "275b0e1bdebbd00e",
   "metadata": {},
   "outputs": [],
   "source": [
    "q_env.close()"
   ]
  },
  {
   "cell_type": "code",
   "execution_count": null,
   "id": "e9777dd8907516b",
   "metadata": {},
   "outputs": [],
   "source": [
    "from qm.qua import *\n",
    "\n",
    "with program() as qua_program:\n",
    "    gate = declare_input_stream(fixed, name=\"gate_input_stream\")\n",
    "\n",
    "    a = declare(fixed)\n",
    "    r1 = declare_stream()\n",
    "    r2 = declare_stream()\n",
    "    v2 = declare(\n",
    "        bool,\n",
    "    )\n",
    "    advance_input_stream(gate)\n",
    "    with while_(gate > 0):\n",
    "        a = gate\n",
    "        save(a, r1)\n",
    "        assign(v2, (a > 0.2))\n",
    "        save(v2, r2)\n",
    "        advance_input_stream(gate)\n",
    "\n",
    "    with stream_processing():\n",
    "        r1.save_all(\"measurements\")\n",
    "        r2.save_all(\"state\")\n",
    "\n",
    "job = backend.qm.execute(qua_program)"
   ]
  },
  {
   "cell_type": "code",
   "execution_count": null,
   "id": "e66040a5953d5521",
   "metadata": {},
   "outputs": [],
   "source": [
    "result = job.result_handles\n",
    "\n",
    "optimization_sequence = [0.1, 0.4, 0.06]\n",
    "\n",
    "for id, value in enumerate(optimization_sequence):\n",
    "    job.push_to_input_stream(\"gate_input_stream\", value)\n",
    "    result.measurements.wait_for_values(id + 1)\n",
    "    print(\"Full data\", str(result.measurements.fetch_all()))\n",
    "    print(f\"{id}: Received \", str(result.measurements.fetch(id)))\n",
    "    result.state.wait_for_values(id + 1)\n",
    "    print(f\"{id}: Received \", str(result.state.fetch(id)))\n",
    "    print(\"Full data\", str(result.state.fetch_all()))\n",
    "\n",
    "# finish QUA program\n",
    "job.push_to_input_stream(\"gate_input_stream\", 0)"
   ]
  },
  {
   "cell_type": "code",
   "execution_count": null,
   "id": "7bb6ed7506c21d15",
   "metadata": {},
   "outputs": [],
   "source": []
  },
  {
   "cell_type": "code",
   "execution_count": null,
   "id": "5d48b299d46bdb2",
   "metadata": {},
   "outputs": [],
   "source": [
    "# Single QUA script generated at 2025-06-09 11:30:49.218366\n",
    "# QUA library version: 1.2.3a1\n",
    "\n",
    "from qm import CompilerOptionArguments\n",
    "from qm.qua import *\n",
    "\n",
    "with program() as prog:\n",
    "    a1 = declare(fixed, value=[0.0])\n",
    "    v1 = declare(\n",
    "        int,\n",
    "    )\n",
    "    a2 = declare(fixed, value=[1.0])\n",
    "    v2 = declare(\n",
    "        int,\n",
    "    )\n",
    "    v3 = declare(int, value=0)\n",
    "    v4 = declare(\n",
    "        int,\n",
    "    )\n",
    "    v5 = declare(\n",
    "        int,\n",
    "    )\n",
    "    with for_(v5, 0, (v5 < 5), (v5 + 1)):\n",
    "        pause()\n",
    "        assign(a1[0], IO1)\n",
    "        r1 = declare_stream()\n",
    "        save(a1[0], r1)\n",
    "    with stream_processing():\n",
    "        r1.save_all(\"mu\")\n",
    "\n",
    "\n",
    "config = None\n",
    "\n",
    "loaded_config = None\n",
    "\n",
    "\n",
    "job = backend.qm.execute(prog)"
   ]
  },
  {
   "cell_type": "code",
   "execution_count": null,
   "id": "dda0cc64757985c6",
   "metadata": {},
   "outputs": [],
   "source": [
    "job.is_paused()"
   ]
  },
  {
   "cell_type": "code",
   "execution_count": null,
   "id": "62644b20a212d425",
   "metadata": {},
   "outputs": [],
   "source": [
    "backend.qm.set_io1_value(1.0)"
   ]
  },
  {
   "cell_type": "code",
   "execution_count": null,
   "id": "7cad26ac5ffa4e72",
   "metadata": {},
   "outputs": [],
   "source": [
    "job.resume()"
   ]
  },
  {
   "cell_type": "code",
   "execution_count": null,
   "id": "d69ac47494d6e4c1",
   "metadata": {},
   "outputs": [],
   "source": [
    "job.is_paused()"
   ]
  },
  {
   "cell_type": "code",
   "execution_count": null,
   "id": "dbe90f9f989778e6",
   "metadata": {},
   "outputs": [],
   "source": [
    "print(job.result_handles.mu.fetch_all())"
   ]
  },
  {
   "cell_type": "code",
   "execution_count": null,
   "id": "d37756c404e961bb",
   "metadata": {},
   "outputs": [],
   "source": [
    "job.cancel()"
   ]
  },
  {
   "cell_type": "code",
   "execution_count": null,
   "id": "7863a4cfe445dbaf",
   "metadata": {},
   "outputs": [],
   "source": []
  },
  {
   "cell_type": "code",
   "execution_count": null,
   "id": "4d7d649f5665a27e",
   "metadata": {},
   "outputs": [],
   "source": [
    "job.is_paused()"
   ]
  },
  {
   "cell_type": "code",
   "execution_count": null,
   "id": "13d85129ca4438f",
   "metadata": {},
   "outputs": [],
   "source": [
    "print(job.result_handles.mu.fetch_all())"
   ]
  },
  {
   "cell_type": "code",
   "execution_count": null,
   "id": "81b98843b3ea9478",
   "metadata": {},
   "outputs": [],
   "source": [
    "job.cancel()"
   ]
  },
  {
   "cell_type": "code",
   "execution_count": null,
   "id": "9ef6fb6a0cbac9aa",
   "metadata": {},
   "outputs": [],
   "source": []
  }
 ],
 "metadata": {
  "kernelspec": {
   "display_name": ".venv",
   "language": "python",
   "name": "python3"
  },
  "language_info": {
   "codemirror_mode": {
    "name": "ipython",
    "version": 3
   },
   "file_extension": ".py",
   "mimetype": "text/x-python",
   "name": "python",
   "nbconvert_exporter": "python",
   "pygments_lexer": "ipython3",
   "version": "3.11.9"
  }
 },
 "nbformat": 4,
 "nbformat_minor": 5
}

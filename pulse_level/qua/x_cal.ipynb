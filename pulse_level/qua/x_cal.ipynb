{
 "cells": [
  {
   "metadata": {},
   "cell_type": "markdown",
   "source": [
    "# Gate calibration with RL with the Quantum Orchestration Platform\n",
    "\n",
    "This notebook is the template workflow enabling you to run gate calibration leveraging all the low-level capabilities of the QOP for maximum efficiency."
   ],
   "id": "3e0343d0851848c2"
  },
  {
   "cell_type": "code",
   "id": "initial_id",
   "metadata": {
    "collapsed": true,
    "ExecuteTime": {
     "end_time": "2025-06-06T10:40:00.347909Z",
     "start_time": "2025-06-06T10:39:53.979854Z"
    }
   },
   "source": [
    "import numpy as np\n",
    "from qiskit.circuit import QuantumCircuit, QuantumRegister, Parameter, Gate\n",
    "from typing import List\n",
    "from gymnasium.spaces import Box\n",
    "from rl_qoc.qua import QMEnvironment, QMConfig, CustomQMPPO\n",
    "from quam_libs.components import QuAM, Transmon\n",
    "from qiskit_qm_provider import FluxTunableTransmonBackend, QMInstructionProperties, InputType\n",
    "from qiskit_qm_provider.backend import add_basic_macros_to_machine\n",
    "from rl_qoc.agent.ppo_config import (\n",
    "    WandBConfig,\n",
    "    PPOConfig,\n",
    "    TrainingConfig,\n",
    "    TrainFunctionSettings,\n",
    "    TotalUpdates,\n",
    ")\n",
    "from rl_qoc import (\n",
    "    RescaleAndClipAction,\n",
    "    GateTargetConfig,\n",
    "    ChannelReward,\n",
    "    StateReward,\n",
    "    CAFEReward,\n",
    "    ExecutionConfig,\n",
    "    QEnvConfig,\n",
    "    BenchmarkConfig,\n",
    ")"
   ],
   "outputs": [
    {
     "name": "stdout",
     "output_type": "stream",
     "text": [
      "2025-06-06 18:40:00,112 - qm - INFO     - Starting session: 025eb2d0-629a-4133-9f4b-7db59fce359d\n",
      "2025-06-06 18:40:00 INFO Starting session: 025eb2d0-629a-4133-9f4b-7db59fce359d\n"
     ]
    }
   ],
   "execution_count": 2
  },
  {
   "metadata": {},
   "cell_type": "markdown",
   "source": "## Accessing the device",
   "id": "e86df896fa91cf8f"
  },
  {
   "metadata": {
    "ExecuteTime": {
     "end_time": "2025-06-06T10:40:05.356372Z",
     "start_time": "2025-06-06T10:40:00.356736Z"
    }
   },
   "cell_type": "code",
   "source": [
    "from iqcc_cloud_client import IQCC_Cloud\n",
    "import json\n",
    "import os\n",
    "from pathlib import Path\n",
    "\n",
    "# Set your quantum computer backend\n",
    "path = Path.home() / \"iqcc_token.json\"\n",
    "with open(path, \"r\") as f:\n",
    "    iqcc_config = json.load(f)\n",
    "\n",
    "quantum_computer_backend = \"gilboa\"  # for example qc_qwfix\n",
    "iqcc = IQCC_Cloud(\n",
    "    quantum_computer_backend=quantum_computer_backend,\n",
    "    api_token=iqcc_config[quantum_computer_backend],\n",
    ")\n",
    "# Get the latest state and wiring files\n",
    "latest_wiring = iqcc.state.get_latest(\"wiring\")\n",
    "latest_state = iqcc.state.get_latest(\"state\")\n",
    "\n",
    "# Get the state folder path from environment variable\n",
    "quam_state_folder_path = os.environ[\"QUAM_STATE_PATH\"]\n",
    "\n",
    "# Save the files\n",
    "with open(os.path.join(quam_state_folder_path, \"wiring.json\"), \"w\") as f:\n",
    "    json.dump(latest_wiring.data, f, indent=4)\n",
    "\n",
    "with open(os.path.join(quam_state_folder_path, \"state.json\"), \"w\") as f:\n",
    "    json.dump(latest_state.data, f, indent=4)"
   ],
   "id": "127039d157766e3",
   "outputs": [],
   "execution_count": 3
  },
  {
   "metadata": {
    "ExecuteTime": {
     "end_time": "2025-06-06T10:40:05.461987Z",
     "start_time": "2025-06-06T10:40:05.367058Z"
    }
   },
   "cell_type": "code",
   "source": [
    "machine = QuAM.load()\n",
    "if not machine.active_qubits[0].macros:\n",
    "    add_basic_macros_to_machine(machine)\n",
    "backend = FluxTunableTransmonBackend(machine)\n",
    "print(backend.target)"
   ],
   "id": "32e1f4aa24df6781",
   "outputs": [
    {
     "name": "stdout",
     "output_type": "stream",
     "text": [
      "Target: Transmon based QuAM\n",
      "Number of qubits: 6\n",
      "Instructions:\n",
      "\tx\n",
      "\t\t(0,)\n",
      "\t\t(1,)\n",
      "\t\t(2,)\n",
      "\t\t(3,)\n",
      "\t\t(4,)\n",
      "\t\t(5,)\n",
      "\trz\n",
      "\t\t(0,)\n",
      "\t\t(1,)\n",
      "\t\t(2,)\n",
      "\t\t(3,)\n",
      "\t\t(4,)\n",
      "\t\t(5,)\n",
      "\tsx\n",
      "\t\t(0,)\n",
      "\t\t(1,)\n",
      "\t\t(2,)\n",
      "\t\t(3,)\n",
      "\t\t(4,)\n",
      "\t\t(5,)\n",
      "\tdelay\n",
      "\t\t(0,)\n",
      "\t\t(1,)\n",
      "\t\t(2,)\n",
      "\t\t(3,)\n",
      "\t\t(4,)\n",
      "\t\t(5,)\n",
      "\treset\n",
      "\t\t(0,)\n",
      "\t\t(1,)\n",
      "\t\t(2,)\n",
      "\t\t(3,)\n",
      "\t\t(4,)\n",
      "\t\t(5,)\n",
      "\tmeasure\n",
      "\t\t(0,)\n",
      "\t\t(1,)\n",
      "\t\t(2,)\n",
      "\t\t(3,)\n",
      "\t\t(4,)\n",
      "\t\t(5,)\n",
      "\tcz\n",
      "\t\t(1, 0)\n",
      "\tif_else\n",
      "\twhile_loop\n",
      "\tfor_loop\n",
      "\tswitch_case\n",
      "\n"
     ]
    },
    {
     "name": "stderr",
     "output_type": "stream",
     "text": [
      "/Users/arthurostrauss/Library/CloudStorage/OneDrive-QMMachinesLTD/GitHub/qiskit-qm-provider/qiskit_qm_provider/backend/flux_tunable_transmon_backend.py:58: UserWarning: qiskit.pulse is not available, channel mapping will not be set.\n",
      "  warnings.warn(\"qiskit.pulse is not available, channel mapping will not be set.\")\n"
     ]
    }
   ],
   "execution_count": 4
  },
  {
   "metadata": {
    "ExecuteTime": {
     "end_time": "2025-06-06T10:40:05.643176Z",
     "start_time": "2025-06-06T10:40:05.639816Z"
    }
   },
   "cell_type": "code",
   "source": "list(machine.active_qubits[0].macros.keys())",
   "id": "f2700142028c9834",
   "outputs": [
    {
     "data": {
      "text/plain": [
       "['x', 'rz', 'sx', 'delay', 'reset', 'measure']"
      ]
     },
     "execution_count": 5,
     "metadata": {},
     "output_type": "execute_result"
    }
   ],
   "execution_count": 5
  },
  {
   "metadata": {
    "ExecuteTime": {
     "end_time": "2025-06-06T10:40:05.823456Z",
     "start_time": "2025-06-06T10:40:05.821910Z"
    }
   },
   "cell_type": "code",
   "source": "print(backend.options)",
   "id": "4e471be00afaf500",
   "outputs": [
    {
     "name": "stdout",
     "output_type": "stream",
     "text": [
      "Options(shots=1024, compiler_options=None, simulate=None, memory=False, skip_reset=False, meas_level=<MeasLevel.CLASSIFIED: 2>, meas_return=<MeasReturnType.AVERAGE: 'avg'>, timeout=60)\n"
     ]
    }
   ],
   "execution_count": 6
  },
  {
   "metadata": {
    "ExecuteTime": {
     "end_time": "2025-06-06T10:40:06.009888Z",
     "start_time": "2025-06-06T10:40:06.008080Z"
    }
   },
   "cell_type": "code",
   "source": [
    "print(\"Available qubits: \", backend.qubit_dict)\n",
    "print(\"Available qubit pairs: \", backend.qubit_pair_dict)"
   ],
   "id": "ec16b3bc30f20a34",
   "outputs": [
    {
     "name": "stdout",
     "output_type": "stream",
     "text": [
      "Available qubits:  {'qC1': 0, 'qC2': 1, 'qC5': 2, 'qD1': 3, 'qD2': 4, 'qD3': 5}\n",
      "Available qubit pairs:  {'qC1-qC2': (1, 0)}\n"
     ]
    }
   ],
   "execution_count": 7
  },
  {
   "metadata": {
    "ExecuteTime": {
     "end_time": "2025-06-06T10:40:06.209281Z",
     "start_time": "2025-06-06T10:40:06.207683Z"
    }
   },
   "cell_type": "code",
   "source": [
    "using_vpn = True\n",
    "if using_vpn:\n",
    "    machine.network[\"cloud\"] = False\n",
    "    machine.network[\"port\"] = 9510\n",
    "else:\n",
    "    backend.qmm = iqcc"
   ],
   "id": "3d185323175fc69",
   "outputs": [],
   "execution_count": 8
  },
  {
   "metadata": {
    "ExecuteTime": {
     "end_time": "2025-06-06T10:40:06.389814Z",
     "start_time": "2025-06-06T10:40:06.387305Z"
    }
   },
   "cell_type": "code",
   "source": "machine.network",
   "id": "9d41e98c0f820e7b",
   "outputs": [
    {
     "data": {
      "text/plain": [
       "{'host': '10.1.1.6', 'port': 9510, 'cloud': False, 'octave_ips': [], 'cluster_name': 'galil_gilboa', 'octave_ports': [], 'quantum_computer_backend': 'gilboa'}"
      ]
     },
     "execution_count": 9,
     "metadata": {},
     "output_type": "execute_result"
    }
   ],
   "execution_count": 9
  },
  {
   "metadata": {},
   "cell_type": "markdown",
   "source": [
    "## Create a custom gate to edit\n",
    "\n",
    "We add at the Qiskit level the custom gate we want to calibrate, and we then specify the QUA macro in charge of \n",
    "implementing the parametrized pulse representation of this template parametrized gate."
   ],
   "id": "3b2ffe4bf1003726"
  },
  {
   "metadata": {
    "ExecuteTime": {
     "end_time": "2025-06-06T10:40:06.575521Z",
     "start_time": "2025-06-06T10:40:06.572666Z"
    }
   },
   "cell_type": "code",
   "source": [
    "def apply_parametrized_circuit(\n",
    "    qc: QuantumCircuit, params: List[Parameter], q_reg: QuantumRegister, **kwargs\n",
    "):\n",
    "\n",
    "    try:\n",
    "        physical_qubits: List[int] = kwargs[\"physical_qubits\"]\n",
    "        backend: FluxTunableTransmonBackend = kwargs[\"backend\"]\n",
    "    except KeyError:\n",
    "        raise KeyError(\n",
    "            \"Missing one of the required keys for the parametric circuit ('backend' and 'physical_qubits'\"\n",
    "        )\n",
    "    custom_x = Gate(\"x_cal\", 1, params)\n",
    "    qc.append(custom_x, [q_reg[0]])\n",
    "\n",
    "    # TODO: Enter your custom parametric QUA macro here\n",
    "    def qua_macro(amp):\n",
    "        qubit: Transmon = backend.get_qubit(physical_qubits[0])\n",
    "        qubit.xy.play(\"x180\", amplitude_scale=amp)\n",
    "\n",
    "    instruction_prop = QMInstructionProperties(qua_pulse_macro=qua_macro)\n",
    "    if custom_x.name not in backend.target.operation_names:\n",
    "        backend.target.add_instruction(custom_x, {tuple(physical_qubits): instruction_prop})\n",
    "    else:\n",
    "        backend.target.update_instruction_properties(\n",
    "            custom_x.name, tuple(physical_qubits), instruction_prop\n",
    "        )\n",
    "    return qc"
   ],
   "id": "46e10447b2c46372",
   "outputs": [],
   "execution_count": 10
  },
  {
   "metadata": {},
   "cell_type": "markdown",
   "source": [
    "## Create Environment configuration\n",
    "\n",
    "1. Create target instance: Specify which gate you want and on which qubit it should be applied\n",
    "2. Choose which reward scheme you want. You can choose among three methods that are carefully implemented within the QOP: Direct Channel/State Fidelity Estimation (DFE), and Context-Aware Fidelity Estimation (CAFE)"
   ],
   "id": "7b3517e088f88b5"
  },
  {
   "metadata": {
    "ExecuteTime": {
     "end_time": "2025-06-06T10:40:06.754332Z",
     "start_time": "2025-06-06T10:40:06.751746Z"
    }
   },
   "cell_type": "code",
   "source": [
    "from rl_qoc import StateTargetConfig\n",
    "\n",
    "physical_qubits = (3,)\n",
    "target_gate = \"x\"\n",
    "gate_target = GateTargetConfig(physical_qubits, gate=target_gate)\n",
    "state_target = StateTargetConfig(physical_qubits, \"1\")\n",
    "reward = StateReward()"
   ],
   "id": "71e47a8b92d92320",
   "outputs": [],
   "execution_count": 11
  },
  {
   "metadata": {},
   "cell_type": "markdown",
   "source": [
    "3. Decide which action space to create\n",
    "4. Decide how the parameters should be passed to the QOP (Choose between Input Stream, DGX Quantum, IO variables)\n",
    "5. To fix the QUA program duration, we also can pass to the configuration the number of training updates expected (it should be the same variable used when declaring the agent).\n",
    "6. Set up training hyperparameters on the environment side"
   ],
   "id": "5b9740a46e2eb0fb"
  },
  {
   "metadata": {
    "ExecuteTime": {
     "end_time": "2025-06-06T10:40:06.965549Z",
     "start_time": "2025-06-06T10:40:06.935614Z"
    }
   },
   "cell_type": "code",
   "source": [
    "# Action space specification\n",
    "param_bounds = [(-1.98, 2.0)]  # Can be any number of bounds\n",
    "\n",
    "\n",
    "# Environment execution parameters\n",
    "seed = 34  # Master seed to make training reproducible\n",
    "batch_size = 10  # Number of actions to evaluate per policy evaluation\n",
    "n_shots = 100  # Minimum number of shots per fiducial evaluation\n",
    "pauli_sampling = 10  # Number of fiducials to compute for fidelity estimation (DFE only)\n",
    "n_reps = 1  # Number of repetitions of the cycle circuit\n",
    "num_updates = TotalUpdates(5)\n",
    "\n",
    "input_type = InputType.IO1\n",
    "\n",
    "\n",
    "def create_action_space(param_bounds):\n",
    "    param_bounds = np.array(param_bounds, dtype=np.float32)\n",
    "    lower_bound, upper_bound = param_bounds.T\n",
    "    return Box(low=lower_bound, high=upper_bound, shape=(len(param_bounds),), dtype=np.float32)\n",
    "\n",
    "\n",
    "action_space = create_action_space(param_bounds)\n",
    "\n",
    "backend_config = QMConfig(\n",
    "    parametrized_circuit=apply_parametrized_circuit,\n",
    "    backend=backend,\n",
    "    input_type=input_type,\n",
    "    verbosity=2,\n",
    "    parametrized_circuit_kwargs={\"physical_qubits\": physical_qubits, \"backend\": backend},\n",
    "    num_updates=TotalUpdates.total_updates,\n",
    ")\n",
    "execution_config = ExecutionConfig(\n",
    "    batch_size=batch_size,\n",
    "    sampling_paulis=pauli_sampling,\n",
    "    n_shots=n_shots,\n",
    "    n_reps=n_reps,\n",
    "    seed=seed,\n",
    "    control_flow_enabled=True,\n",
    ")\n",
    "q_env_config = QEnvConfig(\n",
    "    target=gate_target,\n",
    "    backend_config=backend_config,\n",
    "    action_space=action_space,\n",
    "    execution_config=execution_config,\n",
    "    reward=reward,\n",
    "    benchmark_config=BenchmarkConfig(0),\n",
    ")  # No benchmark for now\n",
    "\n",
    "q_env = QMEnvironment(training_config=q_env_config)\n",
    "rescaled_env = RescaleAndClipAction(q_env, -1.0, 1.0)"
   ],
   "id": "6b0101d3fa6ae26a",
   "outputs": [],
   "execution_count": 12
  },
  {
   "metadata": {
    "ExecuteTime": {
     "end_time": "2025-06-06T10:40:07.149171Z",
     "start_time": "2025-06-06T10:40:07.147439Z"
    }
   },
   "cell_type": "code",
   "source": "print(backend.target)",
   "id": "ea5af641c9f8399e",
   "outputs": [
    {
     "name": "stdout",
     "output_type": "stream",
     "text": [
      "Target: Transmon based QuAM\n",
      "Number of qubits: 6\n",
      "Instructions:\n",
      "\tx\n",
      "\t\t(0,)\n",
      "\t\t(1,)\n",
      "\t\t(2,)\n",
      "\t\t(3,)\n",
      "\t\t(4,)\n",
      "\t\t(5,)\n",
      "\trz\n",
      "\t\t(0,)\n",
      "\t\t(1,)\n",
      "\t\t(2,)\n",
      "\t\t(3,)\n",
      "\t\t(4,)\n",
      "\t\t(5,)\n",
      "\tsx\n",
      "\t\t(0,)\n",
      "\t\t(1,)\n",
      "\t\t(2,)\n",
      "\t\t(3,)\n",
      "\t\t(4,)\n",
      "\t\t(5,)\n",
      "\tdelay\n",
      "\t\t(0,)\n",
      "\t\t(1,)\n",
      "\t\t(2,)\n",
      "\t\t(3,)\n",
      "\t\t(4,)\n",
      "\t\t(5,)\n",
      "\treset\n",
      "\t\t(0,)\n",
      "\t\t(1,)\n",
      "\t\t(2,)\n",
      "\t\t(3,)\n",
      "\t\t(4,)\n",
      "\t\t(5,)\n",
      "\tmeasure\n",
      "\t\t(0,)\n",
      "\t\t(1,)\n",
      "\t\t(2,)\n",
      "\t\t(3,)\n",
      "\t\t(4,)\n",
      "\t\t(5,)\n",
      "\tcz\n",
      "\t\t(1, 0)\n",
      "\tif_else\n",
      "\twhile_loop\n",
      "\tfor_loop\n",
      "\tswitch_case\n",
      "\tx_cal\n",
      "\t\t(3,):\n",
      "\n"
     ]
    }
   ],
   "execution_count": 13
  },
  {
   "metadata": {
    "ExecuteTime": {
     "end_time": "2025-06-06T10:40:07.866983Z",
     "start_time": "2025-06-06T10:40:07.332528Z"
    }
   },
   "cell_type": "code",
   "source": "q_env.real_time_circuit.draw(\"mpl\")",
   "id": "86f79b1c23a7d14b",
   "outputs": [
    {
     "data": {
      "text/plain": [
       "<Figure size 1918.16x200.667 with 1 Axes>"
      ],
      "image/png": "[encoded data removed]"
     },
     "execution_count": 14,
     "metadata": {},
     "output_type": "execute_result"
    }
   ],
   "execution_count": 14
  },
  {
   "metadata": {
    "ExecuteTime": {
     "end_time": "2025-06-06T10:40:08.155712Z",
     "start_time": "2025-06-06T10:40:08.153733Z"
    }
   },
   "cell_type": "code",
   "source": "q_env.layout.get_physical_bits()",
   "id": "40f8590af5043274",
   "outputs": [
    {
     "data": {
      "text/plain": [
       "{3: <Qubit register=(1, \"tgt\"), index=0>}"
      ]
     },
     "execution_count": 15,
     "metadata": {},
     "output_type": "execute_result"
    }
   ],
   "execution_count": 15
  },
  {
   "metadata": {
    "ExecuteTime": {
     "end_time": "2025-06-06T10:40:08.453220Z",
     "start_time": "2025-06-06T10:40:08.341951Z"
    }
   },
   "cell_type": "code",
   "source": "q_env.real_time_transpiled_circuit.draw(\"mpl\")",
   "id": "42ebe66539e336a7",
   "outputs": [
    {
     "name": "stdout",
     "output_type": "stream",
     "text": [
      "2025-06-06 18:40:08 INFO Could not load 'ibm_backend': cannot import name 'ProviderV1' from 'qiskit.providers' (/Users/arthurostrauss/anaconda3/envs/rl_qoc/lib/python3.11/site-packages/qiskit/providers/__init__.py)\n",
      "2025-06-06 18:40:08 INFO Could not load 'ibm_dynamic_circuits': cannot import name 'ProviderV1' from 'qiskit.providers' (/Users/arthurostrauss/anaconda3/envs/rl_qoc/lib/python3.11/site-packages/qiskit/providers/__init__.py)\n",
      "2025-06-06 18:40:08 INFO Could not load 'ibm_backend': cannot import name 'ProviderV1' from 'qiskit.providers' (/Users/arthurostrauss/anaconda3/envs/rl_qoc/lib/python3.11/site-packages/qiskit/providers/__init__.py)\n",
      "2025-06-06 18:40:08 INFO Could not load 'ibm_dynamic_circuits': cannot import name 'ProviderV1' from 'qiskit.providers' (/Users/arthurostrauss/anaconda3/envs/rl_qoc/lib/python3.11/site-packages/qiskit/providers/__init__.py)\n"
     ]
    },
    {
     "data": {
      "text/plain": [
       "<Figure size 2285.27x451.5 with 1 Axes>"
      ],
      "image/png": "[encoded data removed]"
     },
     "execution_count": 16,
     "metadata": {},
     "output_type": "execute_result"
    }
   ],
   "execution_count": 16
  },
  {
   "metadata": {
    "ExecuteTime": {
     "end_time": "2025-06-06T10:39:52.204857Z",
     "start_time": "2025-06-06T10:39:52.033062Z"
    }
   },
   "cell_type": "code",
   "source": "print(backend.oq3_exporter.dumps(q_env.real_time_transpiled_circuit))",
   "id": "6251a1b9ad6b49c7",
   "outputs": [
    {
     "ename": "NameError",
     "evalue": "name 'backend' is not defined",
     "output_type": "error",
     "traceback": [
      "\u001b[0;31m---------------------------------------------------------------------------\u001b[0m",
      "\u001b[0;31mNameError\u001b[0m                                 Traceback (most recent call last)",
      "Cell \u001b[0;32mIn[1], line 1\u001b[0m\n\u001b[0;32m----> 1\u001b[0m \u001b[38;5;28mprint\u001b[39m(backend\u001b[38;5;241m.\u001b[39moq3_exporter\u001b[38;5;241m.\u001b[39mdumps(q_env\u001b[38;5;241m.\u001b[39mreal_time_transpiled_circuit))\n",
      "\u001b[0;31mNameError\u001b[0m: name 'backend' is not defined"
     ]
    }
   ],
   "execution_count": 1
  },
  {
   "metadata": {
    "ExecuteTime": {
     "end_time": "2025-06-06T08:17:07.603117Z",
     "start_time": "2025-06-06T08:17:07.600929Z"
    }
   },
   "cell_type": "code",
   "source": "print(backend.target)",
   "id": "92004f1ce40479d4",
   "outputs": [
    {
     "name": "stdout",
     "output_type": "stream",
     "text": [
      "Target: Transmon based QuAM\n",
      "Number of qubits: 6\n",
      "Instructions:\n",
      "\tx\n",
      "\t\t(0,)\n",
      "\t\t(1,)\n",
      "\t\t(2,)\n",
      "\t\t(3,)\n",
      "\t\t(4,)\n",
      "\t\t(5,)\n",
      "\trz\n",
      "\t\t(0,)\n",
      "\t\t(1,)\n",
      "\t\t(2,)\n",
      "\t\t(3,)\n",
      "\t\t(4,)\n",
      "\t\t(5,)\n",
      "\tsx\n",
      "\t\t(0,)\n",
      "\t\t(1,)\n",
      "\t\t(2,)\n",
      "\t\t(3,)\n",
      "\t\t(4,)\n",
      "\t\t(5,)\n",
      "\tdelay\n",
      "\t\t(0,)\n",
      "\t\t(1,)\n",
      "\t\t(2,)\n",
      "\t\t(3,)\n",
      "\t\t(4,)\n",
      "\t\t(5,)\n",
      "\treset\n",
      "\t\t(0,)\n",
      "\t\t(1,)\n",
      "\t\t(2,)\n",
      "\t\t(3,)\n",
      "\t\t(4,)\n",
      "\t\t(5,)\n",
      "\tmeasure\n",
      "\t\t(0,)\n",
      "\t\t(1,)\n",
      "\t\t(2,)\n",
      "\t\t(3,)\n",
      "\t\t(4,)\n",
      "\t\t(5,)\n",
      "\tcz\n",
      "\t\t(1, 0)\n",
      "\tif_else\n",
      "\twhile_loop\n",
      "\tfor_loop\n",
      "\tswitch_case\n",
      "\tx_cal\n",
      "\t\t(0,):\n",
      "\n"
     ]
    }
   ],
   "execution_count": 16
  },
  {
   "metadata": {
    "ExecuteTime": {
     "end_time": "2025-06-06T08:17:07.870647Z",
     "start_time": "2025-06-06T08:17:07.797814Z"
    }
   },
   "cell_type": "code",
   "source": [
    "from qm import generate_qua_script\n",
    "\n",
    "print(generate_qua_script(q_env.rl_qoc_training_qua_prog(num_updates.total_updates)))"
   ],
   "id": "dbbfa2499f5a555e",
   "outputs": [
    {
     "name": "stdout",
     "output_type": "stream",
     "text": [
      "\n",
      "# Single QUA script generated at 2025-06-06 16:17:07.869485\n",
      "# QUA library version: 1.2.3a1\n",
      "\n",
      "from qm import CompilerOptionArguments\n",
      "from qm.qua import *\n",
      "\n",
      "with program() as prog:\n",
      "    v1 = declare(fixed, value=0.0)\n",
      "    v2 = declare(int, value=0)\n",
      "    v3 = declare(int, value=0)\n",
      "    a1 = declare(fixed, value=[0.0])\n",
      "    v4 = declare(int, )\n",
      "    a2 = declare(fixed, value=[1.0])\n",
      "    v5 = declare(int, )\n",
      "    a3 = declare(int, value=[0, 0])\n",
      "    v6 = declare(int, )\n",
      "    v7 = declare(int, value=100)\n",
      "    v8 = declare(int, )\n",
      "    v9 = declare(int, )\n",
      "    v10 = declare(int, value=0)\n",
      "    v11 = declare(int, value=34)\n",
      "    set_dc_offset(\"qC1.z\", \"single\", 0.07375371431608037)\n",
      "    set_dc_offset(\"qC2.z\", \"single\", 0.032184737399695094)\n",
      "    set_dc_offset(\"qC5.z\", \"single\", 0.04219068583934504)\n",
      "    set_dc_offset(\"qD1.z\", \"single\", -0.00469158638120896)\n",
      "    set_dc_offset(\"qD2.z\", \"single\", -0.025784270666626394)\n",
      "    set_dc_offset(\"qD3.z\", \"single\", 0.01263323063996873)\n",
      "    set_dc_offset(\"qA1.z\", \"single\", 0.0)\n",
      "    set_dc_offset(\"qA2.z\", \"single\", 0.0)\n",
      "    set_dc_offset(\"qA3.z\", \"single\", 0.0)\n",
      "    set_dc_offset(\"qA4.z\", \"single\", 0.0)\n",
      "    set_dc_offset(\"qA5.z\", \"single\", 0.0)\n",
      "    set_dc_offset(\"qA6.z\", \"single\", 0.0)\n",
      "    set_dc_offset(\"qB1.z\", \"single\", 0.1372352610174512)\n",
      "    set_dc_offset(\"qB2.z\", \"single\", 0.14555939897889356)\n",
      "    set_dc_offset(\"qB3.z\", \"single\", -0.16708236152554629)\n",
      "    set_dc_offset(\"qB4.z\", \"single\", -0.1689846672578381)\n",
      "    set_dc_offset(\"qB5.z\", \"single\", -0.16749376994731424)\n",
      "    set_dc_offset(\"qC3.z\", \"single\", -0.12980476956533632)\n",
      "    set_dc_offset(\"qC4.z\", \"single\", -0.16333557374426036)\n",
      "    set_dc_offset(\"qD4.z\", \"single\", 0.16110523428884052)\n",
      "    set_dc_offset(\"qD5.z\", \"single\", 0.16005206662040408)\n",
      "    with for_(v8,0,(v8<5),(v8+1)):\n",
      "        pause()\n",
      "        assign(a1[0], IO1)\n",
      "        pause()\n",
      "        assign(a2[0], IO1)\n",
      "        r4 = declare_stream()\n",
      "        save(a1[0], r4)\n",
      "        r5 = declare_stream()\n",
      "        save(a2[0], r5)\n",
      "        r6 = declare_stream()\n",
      "        save(a3[0], r6)\n",
      "        save(a3[1], r6)\n",
      "    with stream_processing():\n",
      "        r6.buffer(1).save_all(\"reward\")\n",
      "        r4.buffer(1).save_all(\"mu\")\n",
      "        r5.buffer(1).save_all(\"sigma\")\n",
      "\n",
      "\n",
      "config = None\n",
      "\n",
      "loaded_config = None\n",
      "\n",
      "\n"
     ]
    }
   ],
   "execution_count": 17
  },
  {
   "metadata": {
    "ExecuteTime": {
     "end_time": "2025-06-06T08:17:12.243117Z",
     "start_time": "2025-06-06T08:17:08.054914Z"
    }
   },
   "cell_type": "code",
   "source": "backend.qm",
   "id": "eee85fd56b26ed37",
   "outputs": [
    {
     "name": "stdout",
     "output_type": "stream",
     "text": [
      "2025-06-06 16:17:10,021 - qm - INFO     - Performing health check\n",
      "2025-06-06 16:17:10 INFO Performing health check\n",
      "2025-06-06 16:17:10,397 - qm - INFO     - Cluster healthcheck completed successfully.\n",
      "2025-06-06 16:17:10 INFO Cluster healthcheck completed successfully.\n"
     ]
    },
    {
     "name": "stderr",
     "output_type": "stream",
     "text": [
      "/Users/arthurostrauss/anaconda3/envs/rl_qoc/lib/python3.11/site-packages/quam/components/channels.py:647: UserWarning: The 'thread' element argument is deprecated from qm.qua >= 1.2.2. Use 'core' instead.\n",
      "  warnings.warn(\n"
     ]
    },
    {
     "data": {
      "text/plain": [
       "<qm.api.v2.qm_api_old.QmApiWithDeprecations at 0x3617720d0>"
      ]
     },
     "execution_count": 18,
     "metadata": {},
     "output_type": "execute_result"
    }
   ],
   "execution_count": 18
  },
  {
   "metadata": {
    "ExecuteTime": {
     "end_time": "2025-06-06T08:17:12.646921Z",
     "start_time": "2025-06-06T08:17:12.430368Z"
    }
   },
   "cell_type": "code",
   "source": [
    "ppo_config = PPOConfig.from_yaml(\"agent_config.yaml\")\n",
    "ppo_agent = CustomQMPPO(ppo_config, rescaled_env)\n",
    "\n",
    "ppo_training = TrainingConfig(num_updates)\n",
    "ppo_settings = TrainFunctionSettings(plot_real_time=True, print_debug=True)"
   ],
   "id": "e8824a4e9bda9681",
   "outputs": [],
   "execution_count": 19
  },
  {
   "metadata": {
    "ExecuteTime": {
     "end_time": "2025-06-06T08:17:13.302772Z",
     "start_time": "2025-06-06T08:17:12.855986Z"
    }
   },
   "cell_type": "code",
   "source": "q_env.backend.qmm.list_open_qms()",
   "id": "ed1805adfcdce552",
   "outputs": [
    {
     "data": {
      "text/plain": [
       "['QM-93f7f53d-8510-4dd8-b5e8-722923307e16']"
      ]
     },
     "execution_count": 20,
     "metadata": {},
     "output_type": "execute_result"
    }
   ],
   "execution_count": 20
  },
  {
   "metadata": {
    "ExecuteTime": {
     "end_time": "2025-06-06T08:17:13.823930Z",
     "start_time": "2025-06-06T08:17:13.524131Z"
    }
   },
   "cell_type": "code",
   "source": [
    "q_env.backend.qmm.get_jobs(status=[\"Running\"])"
   ],
   "id": "dcf181cf9f629d85",
   "outputs": [
    {
     "data": {
      "text/plain": [
       "[]"
      ]
     },
     "execution_count": 21,
     "metadata": {},
     "output_type": "execute_result"
    }
   ],
   "execution_count": 21
  },
  {
   "metadata": {
    "ExecuteTime": {
     "end_time": "2025-06-06T08:17:16.698867Z",
     "start_time": "2025-06-06T08:17:13.999544Z"
    }
   },
   "cell_type": "code",
   "source": "q_env.backend.qmm.get_qm(q_env.backend.qmm.list_open_qms()[0])",
   "id": "97580162bc2a7ec",
   "outputs": [
    {
     "data": {
      "text/plain": [
       "<qm.api.v2.qm_api_old.QmApiWithDeprecations at 0x397a3da90>"
      ]
     },
     "execution_count": 22,
     "metadata": {},
     "output_type": "execute_result"
    }
   ],
   "execution_count": 22
  },
  {
   "metadata": {
    "ExecuteTime": {
     "end_time": "2025-06-06T08:17:19.025951Z",
     "start_time": "2025-06-06T08:17:16.895857Z"
    }
   },
   "cell_type": "code",
   "source": "job = q_env.start_program()",
   "id": "b15b810aa507edcc",
   "outputs": [
    {
     "name": "stdout",
     "output_type": "stream",
     "text": [
      "2025-06-06 16:17:16,915 - qm - INFO     - Clearing queue\n",
      "2025-06-06 16:17:16 INFO Clearing queue\n",
      "2025-06-06 16:17:18,007 - qm - INFO     - Adding program to queue.\n",
      "2025-06-06 16:17:18 INFO Adding program to queue.\n"
     ]
    }
   ],
   "execution_count": 23
  },
  {
   "metadata": {
    "ExecuteTime": {
     "end_time": "2025-06-06T08:17:25.108912Z",
     "start_time": "2025-06-06T08:17:25.105726Z"
    }
   },
   "cell_type": "code",
   "source": "job",
   "id": "25773fe30923ea7a",
   "outputs": [
    {
     "data": {
      "text/plain": [
       "JobApiWithDeprecations(connection_details=ConnectionDetails(host='10.1.1.6', port=9510, user_token='', ssl_context=None, max_message_size=104857600, headers={'x-grpc-service': 'gateway', 'cluster_name': 'galil_gilboa'}, timeout=60, debug_data=None), job_id=2636206a-f2f1-4e30-8dbb-af3906064666)"
      ]
     },
     "execution_count": 24,
     "metadata": {},
     "output_type": "execute_result"
    }
   ],
   "execution_count": 24
  },
  {
   "metadata": {
    "ExecuteTime": {
     "end_time": "2025-06-06T05:38:39.297212Z",
     "start_time": "2025-06-06T05:38:03.805550Z"
    }
   },
   "cell_type": "code",
   "source": "ppo_agent.train(ppo_training, ppo_settings)",
   "id": "51386d41b5cf4a45",
   "outputs": [
    {
     "name": "stdout",
     "output_type": "stream",
     "text": [
      "Pushing value [0.21378739178180695] to stream mu\n"
     ]
    },
    {
     "name": "stderr",
     "output_type": "stream",
     "text": [
      "/Users/arthurostrauss/anaconda3/envs/rl_qoc/lib/python3.11/site-packages/gymnasium/spaces/box.py:235: UserWarning: \u001b[33mWARN: Box low's precision lowered by casting to float32, current low.dtype=float64\u001b[0m\n",
      "  gym.logger.warn(\n",
      "/Users/arthurostrauss/anaconda3/envs/rl_qoc/lib/python3.11/site-packages/gymnasium/spaces/box.py:305: UserWarning: \u001b[33mWARN: Box high's precision lowered by casting to float32, current high.dtype=float64\u001b[0m\n",
      "  gym.logger.warn(\n",
      "/Users/arthurostrauss/Library/CloudStorage/OneDrive-NationalUniversityofSingapore/Coding_projects/Quantum_Optimal_Control/rl_qoc/qua/qua_ppo.py:29: RuntimeWarning: overflow encountered in scalar multiply\n",
      "  return (a * seed + c) % m\n"
     ]
    },
    {
     "name": "stdout",
     "output_type": "stream",
     "text": [
      "Pushing value [0.5203530788421631] to stream sigma\n",
      "Just pushed policy parameters to OPX: [0.21378739178180695] [0.5203530788421631]\n",
      "Pushing value 4 to stream max_input_state\n",
      "Pushing value 0 to stream input_state_0\n",
      "Pushing value 1 to stream input_state_0\n",
      "Pushing value 2 to stream input_state_0\n",
      "Pushing value 3 to stream input_state_0\n",
      "Fetching value from reward with input type INPUT_STREAM\n"
     ]
    },
    {
     "ename": "TimeoutError",
     "evalue": "result reward was not done in time",
     "output_type": "error",
     "traceback": [
      "\u001b[0;31m---------------------------------------------------------------------------\u001b[0m",
      "\u001b[0;31mTimeoutError\u001b[0m                              Traceback (most recent call last)",
      "Cell \u001b[0;32mIn[23], line 1\u001b[0m\n\u001b[0;32m----> 1\u001b[0m ppo_agent\u001b[38;5;241m.\u001b[39mtrain(ppo_training, ppo_settings)\n",
      "File \u001b[0;32m~/Library/CloudStorage/OneDrive-NationalUniversityofSingapore/Coding_projects/Quantum_Optimal_Control/rl_qoc/agent/ppo.py:263\u001b[0m, in \u001b[0;36mCustomPPO.train\u001b[0;34m(self, training_config, train_function_settings)\u001b[0m\n\u001b[1;32m    260\u001b[0m     action, logprob \u001b[38;5;241m=\u001b[39m \u001b[38;5;28mself\u001b[39m\u001b[38;5;241m.\u001b[39mprocess_action(probs)\n\u001b[1;32m    261\u001b[0m     values[step] \u001b[38;5;241m=\u001b[39m critic_value\u001b[38;5;241m.\u001b[39mflatten()\n\u001b[0;32m--> 263\u001b[0m next_obs, reward, terminated, truncated, infos \u001b[38;5;241m=\u001b[39m env\u001b[38;5;241m.\u001b[39mstep(action\u001b[38;5;241m.\u001b[39mcpu()\u001b[38;5;241m.\u001b[39mnumpy())\n\u001b[1;32m    264\u001b[0m next_obs \u001b[38;5;241m=\u001b[39m torch\u001b[38;5;241m.\u001b[39mTensor(next_obs, device\u001b[38;5;241m=\u001b[39m\u001b[38;5;28mself\u001b[39m\u001b[38;5;241m.\u001b[39mdevice)\n\u001b[1;32m    265\u001b[0m done \u001b[38;5;241m=\u001b[39m \u001b[38;5;28mint\u001b[39m(np\u001b[38;5;241m.\u001b[39mlogical_or(terminated, truncated))\n",
      "File \u001b[0;32m~/anaconda3/envs/rl_qoc/lib/python3.11/site-packages/gymnasium/core.py:626\u001b[0m, in \u001b[0;36mActionWrapper.step\u001b[0;34m(self, action)\u001b[0m\n\u001b[1;32m    622\u001b[0m \u001b[38;5;28;01mdef\u001b[39;00m \u001b[38;5;21mstep\u001b[39m(\n\u001b[1;32m    623\u001b[0m     \u001b[38;5;28mself\u001b[39m, action: WrapperActType\n\u001b[1;32m    624\u001b[0m ) \u001b[38;5;241m-\u001b[39m\u001b[38;5;241m>\u001b[39m \u001b[38;5;28mtuple\u001b[39m[ObsType, SupportsFloat, \u001b[38;5;28mbool\u001b[39m, \u001b[38;5;28mbool\u001b[39m, \u001b[38;5;28mdict\u001b[39m[\u001b[38;5;28mstr\u001b[39m, Any]]:\n\u001b[1;32m    625\u001b[0m \u001b[38;5;250m    \u001b[39m\u001b[38;5;124;03m\"\"\"Runs the :attr:`env` :meth:`env.step` using the modified ``action`` from :meth:`self.action`.\"\"\"\u001b[39;00m\n\u001b[0;32m--> 626\u001b[0m     \u001b[38;5;28;01mreturn\u001b[39;00m \u001b[38;5;28mself\u001b[39m\u001b[38;5;241m.\u001b[39menv\u001b[38;5;241m.\u001b[39mstep(\u001b[38;5;28mself\u001b[39m\u001b[38;5;241m.\u001b[39maction(action))\n",
      "File \u001b[0;32m~/Library/CloudStorage/OneDrive-NationalUniversityofSingapore/Coding_projects/Quantum_Optimal_Control/rl_qoc/qua/qm_environment.py:256\u001b[0m, in \u001b[0;36mQMEnvironment.step\u001b[0;34m(self, action)\u001b[0m\n\u001b[1;32m    248\u001b[0m             observable_dict \u001b[38;5;241m=\u001b[39m {\n\u001b[1;32m    249\u001b[0m                 observable_var: observable_val\n\u001b[1;32m    250\u001b[0m                 \u001b[38;5;28;01mfor\u001b[39;00m observable_var, observable_val \u001b[38;5;129;01min\u001b[39;00m \u001b[38;5;28mzip\u001b[39m(\n\u001b[1;32m    251\u001b[0m                     \u001b[38;5;28mself\u001b[39m\u001b[38;5;241m.\u001b[39mobservable_vars\u001b[38;5;241m.\u001b[39mparameters, observable\n\u001b[1;32m    252\u001b[0m                 )\n\u001b[1;32m    253\u001b[0m             }\n\u001b[1;32m    254\u001b[0m             \u001b[38;5;28mself\u001b[39m\u001b[38;5;241m.\u001b[39mobservable_vars\u001b[38;5;241m.\u001b[39mpush_to_opx(observable_dict, \u001b[38;5;241m*\u001b[39m\u001b[38;5;241m*\u001b[39mpush_args)\n\u001b[0;32m--> 256\u001b[0m collected_counts \u001b[38;5;241m=\u001b[39m \u001b[38;5;28mself\u001b[39m\u001b[38;5;241m.\u001b[39mreward\u001b[38;5;241m.\u001b[39mfetch_from_opx(\n\u001b[1;32m    257\u001b[0m     \u001b[38;5;241m*\u001b[39m\u001b[38;5;241m*\u001b[39mpush_args,\n\u001b[1;32m    258\u001b[0m     fetching_index\u001b[38;5;241m=\u001b[39m\u001b[38;5;28mself\u001b[39m\u001b[38;5;241m.\u001b[39mstep_tracker \u001b[38;5;241m-\u001b[39m \u001b[38;5;241m1\u001b[39m,\n\u001b[1;32m    259\u001b[0m     fetching_size\u001b[38;5;241m=\u001b[39mmax_input_state \u001b[38;5;241m*\u001b[39m max_observables,\n\u001b[1;32m    260\u001b[0m )\n\u001b[1;32m    262\u001b[0m \u001b[38;5;66;03m# The counts are a flattened list of counts from the initial shape (max_input_state, max_observables, batch_size)\u001b[39;00m\n\u001b[1;32m    263\u001b[0m \u001b[38;5;66;03m# Reshape the counts to the original shape\u001b[39;00m\n\u001b[1;32m    264\u001b[0m \u001b[38;5;28;01mif\u001b[39;00m \u001b[38;5;28mself\u001b[39m\u001b[38;5;241m.\u001b[39mconfig\u001b[38;5;241m.\u001b[39mdfe:\n\u001b[1;32m    265\u001b[0m     \u001b[38;5;66;03m# Initialiser la structure de données pour stocker les résultats restructurés\u001b[39;00m\n",
      "File \u001b[0;32m~/Library/CloudStorage/OneDrive-QMMachinesLTD/GitHub/qiskit-qm-provider/qiskit_qm_provider/parameter_table/parameter.py:837\u001b[0m, in \u001b[0;36mParameter.fetch_from_opx\u001b[0;34m(self, job, fetching_index, fetching_size, verbosity, time_out)\u001b[0m\n\u001b[1;32m    832\u001b[0m         \u001b[38;5;28;01mraise\u001b[39;00m \u001b[38;5;167;01mValueError\u001b[39;00m(\n\u001b[1;32m    833\u001b[0m             \u001b[38;5;124mf\u001b[39m\u001b[38;5;124m\"\u001b[39m\u001b[38;5;124mParameter \u001b[39m\u001b[38;5;132;01m{\u001b[39;00m\u001b[38;5;28mself\u001b[39m\u001b[38;5;241m.\u001b[39mname\u001b[38;5;132;01m}\u001b[39;00m\u001b[38;5;124m not found in the result handles. \u001b[39m\u001b[38;5;124m\"\u001b[39m\n\u001b[1;32m    834\u001b[0m             \u001b[38;5;124m\"\u001b[39m\u001b[38;5;124mMake sure to save the parameter to the stream first.\u001b[39m\u001b[38;5;124m\"\u001b[39m\n\u001b[1;32m    835\u001b[0m         )\n\u001b[1;32m    836\u001b[0m     result \u001b[38;5;241m=\u001b[39m result_handle\u001b[38;5;241m.\u001b[39mget(\u001b[38;5;28mself\u001b[39m\u001b[38;5;241m.\u001b[39mname)\n\u001b[0;32m--> 837\u001b[0m     result\u001b[38;5;241m.\u001b[39mwait_for_values(fetching_index \u001b[38;5;241m+\u001b[39m fetching_size, time_out)\n\u001b[1;32m    838\u001b[0m     value \u001b[38;5;241m=\u001b[39m result\u001b[38;5;241m.\u001b[39mfetch(\u001b[38;5;28mslice\u001b[39m(fetching_index, fetching_index \u001b[38;5;241m+\u001b[39m fetching_size))[\u001b[38;5;124m\"\u001b[39m\u001b[38;5;124mvalue\u001b[39m\u001b[38;5;124m\"\u001b[39m]\n\u001b[1;32m    840\u001b[0m \u001b[38;5;28;01melif\u001b[39;00m \u001b[38;5;28mself\u001b[39m\u001b[38;5;241m.\u001b[39minput_type \u001b[38;5;241m==\u001b[39m InputType\u001b[38;5;241m.\u001b[39mDGX:\n",
      "File \u001b[0;32m~/anaconda3/envs/rl_qoc/lib/python3.11/site-packages/qm/results/base_streaming_result_fetcher.py:152\u001b[0m, in \u001b[0;36mBaseStreamingResultFetcher.wait_for_values\u001b[0;34m(self, count, timeout)\u001b[0m\n\u001b[1;32m    144\u001b[0m \u001b[38;5;28;01mdef\u001b[39;00m \u001b[38;5;21mwait_for_values\u001b[39m(\u001b[38;5;28mself\u001b[39m, count: \u001b[38;5;28mint\u001b[39m \u001b[38;5;241m=\u001b[39m \u001b[38;5;241m1\u001b[39m, timeout: \u001b[38;5;28mfloat\u001b[39m \u001b[38;5;241m=\u001b[39m \u001b[38;5;28mfloat\u001b[39m(\u001b[38;5;124m\"\u001b[39m\u001b[38;5;124minfinity\u001b[39m\u001b[38;5;124m\"\u001b[39m)) \u001b[38;5;241m-\u001b[39m\u001b[38;5;241m>\u001b[39m \u001b[38;5;28;01mNone\u001b[39;00m:\n\u001b[1;32m    145\u001b[0m \u001b[38;5;250m    \u001b[39m\u001b[38;5;124;03m\"\"\"Wait until we know at least `count` values were processed for this named result\u001b[39;00m\n\u001b[1;32m    146\u001b[0m \n\u001b[1;32m    147\u001b[0m \u001b[38;5;124;03m    Args:\u001b[39;00m\n\u001b[0;32m   (...)\u001b[0m\n\u001b[1;32m    150\u001b[0m \n\u001b[1;32m    151\u001b[0m \u001b[38;5;124;03m    \"\"\"\u001b[39;00m\n\u001b[0;32m--> 152\u001b[0m     run_until_with_timeout(\n\u001b[1;32m    153\u001b[0m         \u001b[38;5;28;01mlambda\u001b[39;00m: \u001b[38;5;28mself\u001b[39m\u001b[38;5;241m.\u001b[39mcount_so_far() \u001b[38;5;241m>\u001b[39m\u001b[38;5;241m=\u001b[39m count,\n\u001b[1;32m    154\u001b[0m         timeout\u001b[38;5;241m=\u001b[39mtimeout,\n\u001b[1;32m    155\u001b[0m         timeout_message\u001b[38;5;241m=\u001b[39m\u001b[38;5;124mf\u001b[39m\u001b[38;5;124m\"\u001b[39m\u001b[38;5;124mresult \u001b[39m\u001b[38;5;132;01m{\u001b[39;00m\u001b[38;5;28mself\u001b[39m\u001b[38;5;241m.\u001b[39mname\u001b[38;5;132;01m}\u001b[39;00m\u001b[38;5;124m was not done in time\u001b[39m\u001b[38;5;124m\"\u001b[39m,\n\u001b[1;32m    156\u001b[0m     )\n",
      "File \u001b[0;32m~/anaconda3/envs/rl_qoc/lib/python3.11/site-packages/qm/utils/general_utils.py:51\u001b[0m, in \u001b[0;36mrun_until_with_timeout\u001b[0;34m(on_iteration_callback, on_complete_callback, timeout, loop_interval, timeout_message)\u001b[0m\n\u001b[1;32m     48\u001b[0m time\u001b[38;5;241m.\u001b[39msleep(loop_interval)\n\u001b[1;32m     50\u001b[0m \u001b[38;5;28;01mif\u001b[39;00m time\u001b[38;5;241m.\u001b[39mtime() \u001b[38;5;241m>\u001b[39m\u001b[38;5;241m=\u001b[39m end:\n\u001b[0;32m---> 51\u001b[0m     \u001b[38;5;28;01mraise\u001b[39;00m \u001b[38;5;167;01mTimeoutError\u001b[39;00m(timeout_message)\n",
      "\u001b[0;31mTimeoutError\u001b[0m: result reward was not done in time"
     ]
    }
   ],
   "execution_count": 23
  },
  {
   "metadata": {},
   "cell_type": "code",
   "source": "q_env.mean_action",
   "id": "10a8726072ca96d3",
   "outputs": [],
   "execution_count": null
  },
  {
   "metadata": {},
   "cell_type": "code",
   "source": "machine.network",
   "id": "3c8aa595330be46f",
   "outputs": [],
   "execution_count": null
  },
  {
   "metadata": {
    "ExecuteTime": {
     "end_time": "2025-06-06T05:53:15.291144Z",
     "start_time": "2025-06-06T05:53:13.942435Z"
    }
   },
   "cell_type": "code",
   "source": "q_env.max_input_state.push_to_opx(1, job)",
   "id": "51c0184ff4ac7b3c",
   "outputs": [],
   "execution_count": 25
  },
  {
   "metadata": {
    "ExecuteTime": {
     "end_time": "2025-06-06T05:53:18.130685Z",
     "start_time": "2025-06-06T05:53:16.781541Z"
    }
   },
   "cell_type": "code",
   "source": [
    "q_env.input_state_vars.push_to_opx({\"input_state_0\": 1}, job)"
   ],
   "id": "e58b53ac3318fefc",
   "outputs": [],
   "execution_count": 26
  },
  {
   "metadata": {
    "ExecuteTime": {
     "end_time": "2025-06-06T06:30:08.203145Z",
     "start_time": "2025-06-06T06:30:05.092654Z"
    }
   },
   "cell_type": "code",
   "source": [
    "q_env.policy.push_to_opx({\"mu\": [1.0], \"sigma\": [0.2]}, job, 2)"
   ],
   "id": "4064d7ce5a5c417b",
   "outputs": [
    {
     "name": "stdout",
     "output_type": "stream",
     "text": [
      "Setting mu to 1.0\n",
      "Setting sigma to 0.2\n"
     ]
    }
   ],
   "execution_count": 19
  },
  {
   "metadata": {
    "ExecuteTime": {
     "end_time": "2025-06-06T06:30:10.031563Z",
     "start_time": "2025-06-06T06:30:09.584626Z"
    }
   },
   "cell_type": "code",
   "source": "job.is_paused()",
   "id": "756b7697fadd8ff8",
   "outputs": [
    {
     "data": {
      "text/plain": [
       "True"
      ]
     },
     "execution_count": 20,
     "metadata": {},
     "output_type": "execute_result"
    }
   ],
   "execution_count": 20
  },
  {
   "metadata": {
    "ExecuteTime": {
     "end_time": "2025-06-06T06:30:22.371805Z",
     "start_time": "2025-06-06T06:30:19.725052Z"
    }
   },
   "cell_type": "code",
   "source": "q_env.qm_job.result_handles.reward.fetch_all()",
   "id": "d880cb86ef7200a",
   "outputs": [
    {
     "data": {
      "text/plain": [
       "array([([0],), ([0],)], dtype=[('value', '<i8', (1,))])"
      ]
     },
     "execution_count": 21,
     "metadata": {},
     "output_type": "execute_result"
    }
   ],
   "execution_count": 21
  },
  {
   "metadata": {
    "ExecuteTime": {
     "end_time": "2025-06-06T06:30:27.994957Z",
     "start_time": "2025-06-06T06:30:25.657490Z"
    }
   },
   "cell_type": "code",
   "source": "job.result_handles.mu.fetch_all()",
   "id": "6af52a50c9c52e91",
   "outputs": [
    {
     "data": {
      "text/plain": [
       "array([([1.],)], dtype=[('value', '<f8', (1,))])"
      ]
     },
     "execution_count": 22,
     "metadata": {},
     "output_type": "execute_result"
    }
   ],
   "execution_count": 22
  },
  {
   "metadata": {
    "ExecuteTime": {
     "end_time": "2025-06-06T08:17:36.147573Z",
     "start_time": "2025-06-06T08:17:35.019788Z"
    }
   },
   "cell_type": "code",
   "source": "q_env.close()",
   "id": "5d48b299d46bdb2",
   "outputs": [
    {
     "name": "stdout",
     "output_type": "stream",
     "text": [
      "Job status:  canceled\n"
     ]
    },
    {
     "data": {
      "text/plain": [
       "True"
      ]
     },
     "execution_count": 25,
     "metadata": {},
     "output_type": "execute_result"
    }
   ],
   "execution_count": 25
  },
  {
   "metadata": {},
   "cell_type": "code",
   "source": "q_env.backend.qm.get_jobs(status=[\"Running\"])",
   "id": "30d82dd223885e8c",
   "outputs": [],
   "execution_count": null
  },
  {
   "metadata": {
    "ExecuteTime": {
     "end_time": "2025-06-06T05:55:32.890283Z",
     "start_time": "2025-06-06T05:55:32.888308Z"
    }
   },
   "cell_type": "code",
   "source": "q_env.reward.input_type",
   "id": "bd97a242d99f816a",
   "outputs": [
    {
     "data": {
      "text/plain": [
       "<InputType.IO1: 'IO1'>"
      ]
     },
     "execution_count": 35,
     "metadata": {},
     "output_type": "execute_result"
    }
   ],
   "execution_count": 35
  },
  {
   "metadata": {},
   "cell_type": "code",
   "source": [
    "q_env.config.reward.get_reward_data(\n",
    "    q_env.circuit,\n",
    "    np.zeros((1, q_env.n_actions)),\n",
    "    q_env.target,\n",
    "    q_env.config,\n",
    ").input_indices[0]"
   ],
   "id": "3f70b00990b280e2",
   "outputs": [],
   "execution_count": null
  },
  {
   "metadata": {},
   "cell_type": "code",
   "source": "q_env.observable_vars",
   "id": "c73e64c25a6fadb4",
   "outputs": [],
   "execution_count": null
  },
  {
   "metadata": {},
   "cell_type": "code",
   "source": [
    "from qm.qua import *\n",
    "\n",
    "with program() as qua_program:\n",
    "    gate = declare_input_stream(fixed, name=\"gate_input_stream\")\n",
    "\n",
    "    a = declare(fixed)\n",
    "    r1 = declare_stream()\n",
    "    r2 = declare_stream()\n",
    "    v2 = declare(\n",
    "        bool,\n",
    "    )\n",
    "    advance_input_stream(gate)\n",
    "    with while_(gate > 0):\n",
    "        a = gate\n",
    "        save(a, r1)\n",
    "        assign(v2, (a > 0.2))\n",
    "        save(v2, r2)\n",
    "        advance_input_stream(gate)\n",
    "\n",
    "    with stream_processing():\n",
    "        r1.save_all(\"measurements\")\n",
    "        r2.save_all(\"state\")\n",
    "\n",
    "job = backend.qm.execute(qua_program)"
   ],
   "id": "dda0cc64757985c6",
   "outputs": [],
   "execution_count": null
  },
  {
   "metadata": {},
   "cell_type": "code",
   "source": [
    "result = job.result_handles\n",
    "\n",
    "optimization_sequence = [0.1, 0.4, 0.06]\n",
    "\n",
    "for id, value in enumerate(optimization_sequence):\n",
    "    job.push_to_input_stream(\"gate_input_stream\", value)\n",
    "    result.measurements.wait_for_values(id + 1)\n",
    "    print(\"Full data\", str(result.measurements.fetch_all()))\n",
    "    print(f\"{id}: Received \", str(result.measurements.fetch(id)))\n",
    "    result.state.wait_for_values(id + 1)\n",
    "    print(f\"{id}: Received \", str(result.state.fetch(id)))\n",
    "    print(\"Full data\", str(result.state.fetch_all()))\n",
    "\n",
    "# finish QUA program\n",
    "job.push_to_input_stream(\"gate_input_stream\", 0)"
   ],
   "id": "62644b20a212d425",
   "outputs": [],
   "execution_count": null
  },
  {
   "metadata": {},
   "cell_type": "code",
   "source": "",
   "id": "7cad26ac5ffa4e72",
   "outputs": [],
   "execution_count": null
  }
 ],
 "metadata": {
  "kernelspec": {
   "display_name": "Python 3",
   "language": "python",
   "name": "python3"
  },
  "language_info": {
   "codemirror_mode": {
    "name": "ipython",
    "version": 2
   },
   "file_extension": ".py",
   "mimetype": "text/x-python",
   "name": "python",
   "nbconvert_exporter": "python",
   "pygments_lexer": "ipython2",
   "version": "2.7.6"
  }
 },
 "nbformat": 4,
 "nbformat_minor": 5
}

{
 "cells": [
  {
   "cell_type": "markdown",
   "id": "3e0343d0851848c2",
   "metadata": {},
   "source": [
    "# Gate calibration with RL with the Quantum Orchestration Platform\n",
    "\n",
    "This notebook is the template workflow enabling you to run gate calibration leveraging all the low-level capabilities of the QOP for maximum efficiency."
   ]
  },
  {
   "cell_type": "code",
   "id": "initial_id",
   "metadata": {
    "ExecuteTime": {
     "end_time": "2025-06-27T02:35:59.537639Z",
     "start_time": "2025-06-27T02:35:56.476693Z"
    }
   },
   "source": [
    "import numpy as np\n",
    "from qiskit.circuit import QuantumCircuit, QuantumRegister, Parameter, Gate\n",
    "from typing import List\n",
    "from gymnasium.spaces import Box\n",
    "from rl_qoc.qua import QMEnvironment, QMConfig, CustomQMPPO\n",
    "from quam_libs.components import QuAM, Transmon\n",
    "from qiskit_qm_provider import FluxTunableTransmonBackend, QMInstructionProperties, InputType\n",
    "from qiskit_qm_provider.backend import add_basic_macros_to_machine\n",
    "from rl_qoc.agent.ppo_config import (\n",
    "    WandBConfig,\n",
    "    PPOConfig,\n",
    "    TrainingConfig,\n",
    "    TrainFunctionSettings,\n",
    "    TotalUpdates,\n",
    ")\n",
    "from rl_qoc import (\n",
    "    RescaleAndClipAction,\n",
    "    ChannelReward,\n",
    "    StateReward,\n",
    "    CAFEReward,\n",
    "    ExecutionConfig,\n",
    "    QEnvConfig,\n",
    "    BenchmarkConfig,\n",
    "    GateTarget,\n",
    "    StateTarget,\n",
    ")"
   ],
   "outputs": [
    {
     "name": "stdout",
     "output_type": "stream",
     "text": [
      "2025-06-27 10:35:59,350 - qm - INFO     - Starting session: af397e88-2f6c-41c6-a078-d3a70595c088\n",
      "2025-06-27 10:35:59 INFO Starting session: af397e88-2f6c-41c6-a078-d3a70595c088\n"
     ]
    }
   ],
   "execution_count": 1
  },
  {
   "cell_type": "markdown",
   "id": "e86df896fa91cf8f",
   "metadata": {},
   "source": [
    "## Accessing the device"
   ]
  },
  {
   "cell_type": "code",
   "id": "127039d157766e3",
   "metadata": {
    "ExecuteTime": {
     "end_time": "2025-06-27T02:36:05.891199Z",
     "start_time": "2025-06-27T02:35:59.600119Z"
    }
   },
   "source": [
    "from iqcc_cloud_client import IQCC_Cloud\n",
    "import json\n",
    "import os\n",
    "from pathlib import Path\n",
    "\n",
    "# Set your quantum computer backend\n",
    "path = Path.home() / \"iqcc_token.json\"\n",
    "with open(path, \"r\") as f:\n",
    "    iqcc_config = json.load(f)\n",
    "\n",
    "quantum_computer_backend = \"gilboa\"  # for example qc_qwfix\n",
    "iqcc = IQCC_Cloud(\n",
    "    quantum_computer_backend=quantum_computer_backend,\n",
    "    api_token=iqcc_config[quantum_computer_backend],\n",
    ")\n",
    "# Get the latest state and wiring files\n",
    "latest_wiring = iqcc.state.get_latest(\"wiring\")\n",
    "latest_state = iqcc.state.get_latest(\"state\")\n",
    "\n",
    "# Get the state folder path from environment variable\n",
    "quam_state_folder_path = os.environ[\"QUAM_STATE_PATH\"]\n",
    "\n",
    "# Save the files\n",
    "with open(os.path.join(quam_state_folder_path, \"wiring.json\"), \"w\") as f:\n",
    "    json.dump(latest_wiring.data, f, indent=4)\n",
    "\n",
    "with open(os.path.join(quam_state_folder_path, \"state.json\"), \"w\") as f:\n",
    "    json.dump(latest_state.data, f, indent=4)"
   ],
   "outputs": [],
   "execution_count": 2
  },
  {
   "cell_type": "code",
   "id": "ef0c696a4cbbc48d",
   "metadata": {
    "ExecuteTime": {
     "end_time": "2025-06-27T02:36:08.056418Z",
     "start_time": "2025-06-27T02:36:06.019597Z"
    }
   },
   "source": [
    "iqcc.summary()"
   ],
   "outputs": [
    {
     "data": {
      "text/plain": [
       "Backend:         \u001B[1;34mgilboa\u001B[0m\n"
      ],
      "text/html": [
       "<pre style=\"white-space:pre;overflow-x:auto;line-height:normal;font-family:Menlo,'DejaVu Sans Mono',consolas,'Courier New',monospace\">Backend:         <span style=\"color: #000080; text-decoration-color: #000080; font-weight: bold\">gilboa</span>\n",
       "</pre>\n"
      ]
     },
     "metadata": {},
     "output_type": "display_data"
    },
    {
     "data": {
      "text/plain": [
       "Status:          \u001B[1;32m🟢 online\u001B[0m\n"
      ],
      "text/html": [
       "<pre style=\"white-space:pre;overflow-x:auto;line-height:normal;font-family:Menlo,'DejaVu Sans Mono',consolas,'Courier New',monospace\">Status:          <span style=\"color: #008000; text-decoration-color: #008000; font-weight: bold\">🟢 online</span>\n",
       "</pre>\n"
      ]
     },
     "metadata": {},
     "output_type": "display_data"
    },
    {
     "data": {
      "text/plain": [
       "Description:     \u001B[1;36m21\u001B[0m-qubit superconducting processor featuring flux-tunable transmons with fixed coupling \n",
       "architecture\n",
       "\n"
      ],
      "text/html": [
       "<pre style=\"white-space:pre;overflow-x:auto;line-height:normal;font-family:Menlo,'DejaVu Sans Mono',consolas,'Courier New',monospace\">Description:     <span style=\"color: #008080; text-decoration-color: #008080; font-weight: bold\">21</span>-qubit superconducting processor featuring flux-tunable transmons with fixed coupling \n",
       "architecture\n",
       "\n",
       "</pre>\n"
      ]
     },
     "metadata": {},
     "output_type": "display_data"
    },
    {
     "data": {
      "text/plain": [
       "\u001B[3m                  Available state information                  \u001B[0m\n",
       "┏━━━━━━━━━━━━━━━━━━━┳━━━━━━━━━━━━━━━━━━━━━━━━━━━━━━━━━━━━━━━━━┓\n",
       "┃\u001B[1m \u001B[0m\u001B[1mdatatype         \u001B[0m\u001B[1m \u001B[0m┃\u001B[1m \u001B[0m\u001B[1mdescription                            \u001B[0m\u001B[1m \u001B[0m┃\n",
       "┡━━━━━━━━━━━━━━━━━━━╇━━━━━━━━━━━━━━━━━━━━━━━━━━━━━━━━━━━━━━━━━┩\n",
       "│\u001B[34m \u001B[0m\u001B[1;34mstate\u001B[0m\u001B[34m            \u001B[0m\u001B[34m \u001B[0m│ state used for the Quam object          │\n",
       "│\u001B[34m \u001B[0m\u001B[1;34mwiring\u001B[0m\u001B[34m           \u001B[0m\u001B[34m \u001B[0m│ wiring used for the Quam object         │\n",
       "│\u001B[34m \u001B[0m\u001B[1;34mchipview_png\u001B[0m\u001B[34m     \u001B[0m\u001B[34m \u001B[0m│ base64 encoded png image of chip layout │\n",
       "│\u001B[34m \u001B[0m\u001B[1;34mtranspiler_target\u001B[0m\u001B[34m \u001B[0m│ Qiskit transpiler target information    │\n",
       "└───────────────────┴─────────────────────────────────────────┘\n"
      ],
      "text/html": [
       "<pre style=\"white-space:pre;overflow-x:auto;line-height:normal;font-family:Menlo,'DejaVu Sans Mono',consolas,'Courier New',monospace\"><span style=\"font-style: italic\">                  Available state information                  </span>\n",
       "┏━━━━━━━━━━━━━━━━━━━┳━━━━━━━━━━━━━━━━━━━━━━━━━━━━━━━━━━━━━━━━━┓\n",
       "┃<span style=\"font-weight: bold\"> datatype          </span>┃<span style=\"font-weight: bold\"> description                             </span>┃\n",
       "┡━━━━━━━━━━━━━━━━━━━╇━━━━━━━━━━━━━━━━━━━━━━━━━━━━━━━━━━━━━━━━━┩\n",
       "│<span style=\"color: #000080; text-decoration-color: #000080\"> </span><span style=\"color: #000080; text-decoration-color: #000080; font-weight: bold\">state</span><span style=\"color: #000080; text-decoration-color: #000080\">             </span>│ state used for the Quam object          │\n",
       "│<span style=\"color: #000080; text-decoration-color: #000080\"> </span><span style=\"color: #000080; text-decoration-color: #000080; font-weight: bold\">wiring</span><span style=\"color: #000080; text-decoration-color: #000080\">            </span>│ wiring used for the Quam object         │\n",
       "│<span style=\"color: #000080; text-decoration-color: #000080\"> </span><span style=\"color: #000080; text-decoration-color: #000080; font-weight: bold\">chipview_png</span><span style=\"color: #000080; text-decoration-color: #000080\">      </span>│ base64 encoded png image of chip layout │\n",
       "│<span style=\"color: #000080; text-decoration-color: #000080\"> </span><span style=\"color: #000080; text-decoration-color: #000080; font-weight: bold\">transpiler_target</span><span style=\"color: #000080; text-decoration-color: #000080\"> </span>│ Qiskit transpiler target information    │\n",
       "└───────────────────┴─────────────────────────────────────────┘\n",
       "</pre>\n"
      ]
     },
     "metadata": {},
     "output_type": "display_data"
    },
    {
     "data": {
      "text/plain": [
       "👉 Get latest data as \n",
       "\u001B[1m \u001B[0m\u001B[1m<\u001B[0m\u001B[1;95mbackand_client\u001B[0m\u001B[1;39m>\u001B[0m\u001B[1;35m.state.get_latest\u001B[0m\u001B[1;39m(\u001B[0m\u001B[1;32m\"\u001B[0m\u001B[1;34m<datatype\u001B[0m\u001B[1;34m>\u001B[0m\u001B[1;32m\"\u001B[0m\u001B[1m)\u001B[0m\u001B[1m.data\u001B[0m\n"
      ],
      "text/html": [
       "<pre style=\"white-space:pre;overflow-x:auto;line-height:normal;font-family:Menlo,'DejaVu Sans Mono',consolas,'Courier New',monospace\">👉 Get latest data as \n",
       "<span style=\"font-weight: bold\"> &lt;</span><span style=\"color: #ff00ff; text-decoration-color: #ff00ff; font-weight: bold\">backand_client</span><span style=\"color: #000000; text-decoration-color: #000000; font-weight: bold\">&gt;</span><span style=\"color: #800080; text-decoration-color: #800080; font-weight: bold\">.state.get_latest</span><span style=\"color: #000000; text-decoration-color: #000000; font-weight: bold\">(</span><span style=\"color: #008000; text-decoration-color: #008000; font-weight: bold\">\"</span><span style=\"color: #000080; text-decoration-color: #000080; font-weight: bold\">&lt;datatype&gt;</span><span style=\"color: #008000; text-decoration-color: #008000; font-weight: bold\">\"</span><span style=\"font-weight: bold\">).data</span>\n",
       "</pre>\n"
      ]
     },
     "metadata": {},
     "output_type": "display_data"
    },
    {
     "data": {
      "text/plain": [
       "👉 Latest calibration \u001B[1m(\u001B[0mstate\u001B[1m)\u001B[0m: \u001B[1;36m17\u001B[0m hours ago \u001B[1m(\u001B[0m\u001B[1;36m2025\u001B[0m-\u001B[1;36m06\u001B[0m-\u001B[1;36m26\u001B[0m \u001B[1;92m09:03:16\u001B[0m.\u001B[1;36m986879\u001B[0m+\u001B[1;92m00:00\u001B[0m\u001B[1m)\u001B[0m\n",
       "\n"
      ],
      "text/html": [
       "<pre style=\"white-space:pre;overflow-x:auto;line-height:normal;font-family:Menlo,'DejaVu Sans Mono',consolas,'Courier New',monospace\">👉 Latest calibration <span style=\"font-weight: bold\">(</span>state<span style=\"font-weight: bold\">)</span>: <span style=\"color: #008080; text-decoration-color: #008080; font-weight: bold\">17</span> hours ago <span style=\"font-weight: bold\">(</span><span style=\"color: #008080; text-decoration-color: #008080; font-weight: bold\">2025</span>-<span style=\"color: #008080; text-decoration-color: #008080; font-weight: bold\">06</span>-<span style=\"color: #008080; text-decoration-color: #008080; font-weight: bold\">26</span> <span style=\"color: #00ff00; text-decoration-color: #00ff00; font-weight: bold\">09:03:16</span>.<span style=\"color: #008080; text-decoration-color: #008080; font-weight: bold\">986879</span>+<span style=\"color: #00ff00; text-decoration-color: #00ff00; font-weight: bold\">00:00</span><span style=\"font-weight: bold\">)</span>\n",
       "\n",
       "</pre>\n"
      ]
     },
     "metadata": {},
     "output_type": "display_data"
    },
    {
     "data": {
      "text/plain": [
       "\u001B[3m                                           Available on-demand workflows                                           \u001B[0m\n",
       "┏━━━━━━━━━━━━━━┳━━━━━━━━━━━━━━━━━━━━━━━━━━━━━━━━━━━━━━━━━━━━━━━━━━━━━━━━━━━━━━━━━━━━━━━━━━━━━━━━━━━━━━━━━━━━━━━━━━┓\n",
       "┃\u001B[1m \u001B[0m\u001B[1mworkflow    \u001B[0m\u001B[1m \u001B[0m┃\u001B[1m \u001B[0m\u001B[1mdescription                                                                                     \u001B[0m\u001B[1m \u001B[0m┃\n",
       "┡━━━━━━━━━━━━━━╇━━━━━━━━━━━━━━━━━━━━━━━━━━━━━━━━━━━━━━━━━━━━━━━━━━━━━━━━━━━━━━━━━━━━━━━━━━━━━━━━━━━━━━━━━━━━━━━━━━┩\n",
       "│\u001B[34m \u001B[0m\u001B[1;34mopenqasm2qua\u001B[0m\u001B[34m \u001B[0m│ Compilation of OpenQASM3 program to QUA, assuming that transpilation is done (physical qubit     │\n",
       "│\u001B[34m              \u001B[0m│ allocation is done, and native gate set is used)                                                 │\n",
       "└──────────────┴──────────────────────────────────────────────────────────────────────────────────────────────────┘\n"
      ],
      "text/html": [
       "<pre style=\"white-space:pre;overflow-x:auto;line-height:normal;font-family:Menlo,'DejaVu Sans Mono',consolas,'Courier New',monospace\"><span style=\"font-style: italic\">                                           Available on-demand workflows                                           </span>\n",
       "┏━━━━━━━━━━━━━━┳━━━━━━━━━━━━━━━━━━━━━━━━━━━━━━━━━━━━━━━━━━━━━━━━━━━━━━━━━━━━━━━━━━━━━━━━━━━━━━━━━━━━━━━━━━━━━━━━━━┓\n",
       "┃<span style=\"font-weight: bold\"> workflow     </span>┃<span style=\"font-weight: bold\"> description                                                                                      </span>┃\n",
       "┡━━━━━━━━━━━━━━╇━━━━━━━━━━━━━━━━━━━━━━━━━━━━━━━━━━━━━━━━━━━━━━━━━━━━━━━━━━━━━━━━━━━━━━━━━━━━━━━━━━━━━━━━━━━━━━━━━━┩\n",
       "│<span style=\"color: #000080; text-decoration-color: #000080\"> </span><span style=\"color: #000080; text-decoration-color: #000080; font-weight: bold\">openqasm2qua</span><span style=\"color: #000080; text-decoration-color: #000080\"> </span>│ Compilation of OpenQASM3 program to QUA, assuming that transpilation is done (physical qubit     │\n",
       "│<span style=\"color: #000080; text-decoration-color: #000080\">              </span>│ allocation is done, and native gate set is used)                                                 │\n",
       "└──────────────┴──────────────────────────────────────────────────────────────────────────────────────────────────┘\n",
       "</pre>\n"
      ]
     },
     "metadata": {},
     "output_type": "display_data"
    },
    {
     "data": {
      "text/plain": [
       "👉 Obtain more information about \u001B[1mpayload\u001B[0m specification for each workflow as\n",
       "\u001B[1m<\u001B[0m\u001B[1;95mbackand_client\u001B[0m\u001B[1;39m>\u001B[0m\u001B[1;35m.run\u001B[0m\u001B[1;39m(\u001B[0m\u001B[1;32m\"\u001B[0m\u001B[1;34m<workflow\u001B[0m\u001B[1;34m>\u001B[0m\u001B[1;32m\"\u001B[0m\u001B[1m)\u001B[0m\n"
      ],
      "text/html": [
       "<pre style=\"white-space:pre;overflow-x:auto;line-height:normal;font-family:Menlo,'DejaVu Sans Mono',consolas,'Courier New',monospace\">👉 Obtain more information about <span style=\"font-weight: bold\">payload</span> specification for each workflow as\n",
       "<span style=\"font-weight: bold\">&lt;</span><span style=\"color: #ff00ff; text-decoration-color: #ff00ff; font-weight: bold\">backand_client</span><span style=\"color: #000000; text-decoration-color: #000000; font-weight: bold\">&gt;</span><span style=\"color: #800080; text-decoration-color: #800080; font-weight: bold\">.run</span><span style=\"color: #000000; text-decoration-color: #000000; font-weight: bold\">(</span><span style=\"color: #008000; text-decoration-color: #008000; font-weight: bold\">\"</span><span style=\"color: #000080; text-decoration-color: #000080; font-weight: bold\">&lt;workflow&gt;</span><span style=\"color: #008000; text-decoration-color: #008000; font-weight: bold\">\"</span><span style=\"font-weight: bold\">)</span>\n",
       "</pre>\n"
      ]
     },
     "metadata": {},
     "output_type": "display_data"
    },
    {
     "data": {
      "text/plain": [
       "👉 Run on-demand workflow as \n",
       "\u001B[1m<\u001B[0m\u001B[1;95mbackand_client\u001B[0m\u001B[1;39m>\u001B[0m\u001B[1;35m.run\u001B[0m\u001B[1;39m(\u001B[0m\u001B[1;32m\"\u001B[0m\u001B[1;34m<workflow\u001B[0m\u001B[1;34m>\u001B[0m\u001B[1;32m\"\u001B[0m\u001B[1m, payload\u001B[0m\u001B[1m)\u001B[0m\n"
      ],
      "text/html": [
       "<pre style=\"white-space:pre;overflow-x:auto;line-height:normal;font-family:Menlo,'DejaVu Sans Mono',consolas,'Courier New',monospace\">👉 Run on-demand workflow as \n",
       "<span style=\"font-weight: bold\">&lt;</span><span style=\"color: #ff00ff; text-decoration-color: #ff00ff; font-weight: bold\">backand_client</span><span style=\"color: #000000; text-decoration-color: #000000; font-weight: bold\">&gt;</span><span style=\"color: #800080; text-decoration-color: #800080; font-weight: bold\">.run</span><span style=\"color: #000000; text-decoration-color: #000000; font-weight: bold\">(</span><span style=\"color: #008000; text-decoration-color: #008000; font-weight: bold\">\"</span><span style=\"color: #000080; text-decoration-color: #000080; font-weight: bold\">&lt;workflow&gt;</span><span style=\"color: #008000; text-decoration-color: #008000; font-weight: bold\">\"</span><span style=\"font-weight: bold\">, payload)</span>\n",
       "</pre>\n"
      ]
     },
     "metadata": {},
     "output_type": "display_data"
    },
    {
     "data": {
      "text/plain": [
       "\u001B[3m                                              Supported native gates                                               \u001B[0m\n",
       "┏━━━━━━━━━┳━━━━━━━━━━━━━━━━━━━━━━━━━━━━━━━━┳━━━━━━━━━━━━━━━━━━━━━━━━━━━━━━━━━━━┳━━━━━━━━━━━━━━━━━━━━━━━━━━━━━━━━━━┓\n",
       "┃\u001B[1m \u001B[0m\u001B[1m   Gate\u001B[0m\u001B[1m \u001B[0m┃\u001B[1m \u001B[0m\u001B[1mQubits                        \u001B[0m\u001B[1m \u001B[0m┃\u001B[1m \u001B[0m\u001B[1mError                            \u001B[0m\u001B[1m \u001B[0m┃\u001B[1m \u001B[0m\u001B[1mDuration                        \u001B[0m\u001B[1m \u001B[0m┃\n",
       "┡━━━━━━━━━╇━━━━━━━━━━━━━━━━━━━━━━━━━━━━━━━━╇━━━━━━━━━━━━━━━━━━━━━━━━━━━━━━━━━━━╇━━━━━━━━━━━━━━━━━━━━━━━━━━━━━━━━━━┩\n",
       "│\u001B[36m \u001B[0m\u001B[36m      \u001B[0m\u001B[1;36mx\u001B[0m\u001B[36m \u001B[0m│\u001B[35m \u001B[0m\u001B[35m0, 1, 2, 3, 4, 5              \u001B[0m\u001B[35m \u001B[0m│\u001B[32m \u001B[0m\u001B[32m0.0007, 0.0017, 0.0009, 0.0012,  \u001B[0m\u001B[32m \u001B[0m│\u001B[32m \u001B[0m\u001B[32m48, 48, 48, 48, 48, 48          \u001B[0m\u001B[32m \u001B[0m│\n",
       "│\u001B[36m         \u001B[0m│\u001B[35m                                \u001B[0m│\u001B[32m \u001B[0m\u001B[32m0.0008, 0.0013                   \u001B[0m\u001B[32m \u001B[0m│\u001B[32m                                  \u001B[0m│\n",
       "│\u001B[36m \u001B[0m\u001B[36m     \u001B[0m\u001B[1;36mcz\u001B[0m\u001B[36m \u001B[0m│\u001B[35m \u001B[0m\u001B[35m[1, 0], [2, 3], [4, 3], [5, 3]\u001B[0m\u001B[35m \u001B[0m│\u001B[32m \u001B[0m\u001B[32m0.99, 0.99, 0.99, 0.99           \u001B[0m\u001B[32m \u001B[0m│\u001B[32m \u001B[0m\u001B[32m40, 40, 40, 40                  \u001B[0m\u001B[32m \u001B[0m│\n",
       "│\u001B[36m \u001B[0m\u001B[36m     \u001B[0m\u001B[1;36mrz\u001B[0m\u001B[36m \u001B[0m│\u001B[35m \u001B[0m\u001B[35m0, 1, 2, 3, 4, 5              \u001B[0m\u001B[35m \u001B[0m│\u001B[32m \u001B[0m\u001B[32mNone, None, None, None, None,    \u001B[0m\u001B[32m \u001B[0m│\u001B[32m \u001B[0m\u001B[32m4, 4, 4, 4, 4, 4                \u001B[0m\u001B[32m \u001B[0m│\n",
       "│\u001B[36m         \u001B[0m│\u001B[35m                                \u001B[0m│\u001B[32m \u001B[0m\u001B[32mNone                             \u001B[0m\u001B[32m \u001B[0m│\u001B[32m                                  \u001B[0m│\n",
       "│\u001B[36m \u001B[0m\u001B[36m     \u001B[0m\u001B[1;36msx\u001B[0m\u001B[36m \u001B[0m│\u001B[35m \u001B[0m\u001B[35m0, 1, 2, 3, 4, 5              \u001B[0m\u001B[35m \u001B[0m│\u001B[32m \u001B[0m\u001B[32m0.0007, 0.0017, 0.0009, 0.0012,  \u001B[0m\u001B[32m \u001B[0m│\u001B[32m \u001B[0m\u001B[32m48, 48, 48, 48, 48, 48          \u001B[0m\u001B[32m \u001B[0m│\n",
       "│\u001B[36m         \u001B[0m│\u001B[35m                                \u001B[0m│\u001B[32m \u001B[0m\u001B[32m0.0008, 0.0013                   \u001B[0m\u001B[32m \u001B[0m│\u001B[32m                                  \u001B[0m│\n",
       "│\u001B[36m \u001B[0m\u001B[36m  \u001B[0m\u001B[1;36mdelay\u001B[0m\u001B[36m \u001B[0m│\u001B[35m \u001B[0m\u001B[35m0, 1, 2, 3, 4, 5              \u001B[0m\u001B[35m \u001B[0m│\u001B[32m \u001B[0m\u001B[32mNone, None, None, None, None,    \u001B[0m\u001B[32m \u001B[0m│\u001B[32m \u001B[0m\u001B[32m4, 4, 4, 4, 4, 4                \u001B[0m\u001B[32m \u001B[0m│\n",
       "│\u001B[36m         \u001B[0m│\u001B[35m                                \u001B[0m│\u001B[32m \u001B[0m\u001B[32mNone                             \u001B[0m\u001B[32m \u001B[0m│\u001B[32m                                  \u001B[0m│\n",
       "│\u001B[36m \u001B[0m\u001B[36m  \u001B[0m\u001B[1;36mreset\u001B[0m\u001B[36m \u001B[0m│\u001B[35m \u001B[0m\u001B[35m0, 1, 2, 3, 4, 5              \u001B[0m\u001B[35m \u001B[0m│\u001B[32m \u001B[0m\u001B[32mNone, None, None, None, None,    \u001B[0m\u001B[32m \u001B[0m│\u001B[32m \u001B[0m\u001B[32m161076, 73320, 142176, 141884,  \u001B[0m\u001B[32m \u001B[0m│\n",
       "│\u001B[36m         \u001B[0m│\u001B[35m                                \u001B[0m│\u001B[32m \u001B[0m\u001B[32mNone                             \u001B[0m\u001B[32m \u001B[0m│\u001B[32m \u001B[0m\u001B[32m189160, 174132                  \u001B[0m\u001B[32m \u001B[0m│\n",
       "│\u001B[36m \u001B[0m\u001B[1;36mmeasure\u001B[0m\u001B[36m \u001B[0m│\u001B[35m \u001B[0m\u001B[35m0, 1, 2, 3, 4, 5              \u001B[0m\u001B[35m \u001B[0m│\u001B[32m \u001B[0m\u001B[32m0.0353, 0.0577, 0.0403, 0.0543,  \u001B[0m\u001B[32m \u001B[0m│\u001B[32m \u001B[0m\u001B[32mNone, None, None, None, None,   \u001B[0m\u001B[32m \u001B[0m│\n",
       "│\u001B[36m         \u001B[0m│\u001B[35m                                \u001B[0m│\u001B[32m \u001B[0m\u001B[32m0.0232, 0.0973                   \u001B[0m\u001B[32m \u001B[0m│\u001B[32m \u001B[0m\u001B[32mNone                            \u001B[0m\u001B[32m \u001B[0m│\n",
       "└─────────┴────────────────────────────────┴───────────────────────────────────┴──────────────────────────────────┘\n"
      ],
      "text/html": [
       "<pre style=\"white-space:pre;overflow-x:auto;line-height:normal;font-family:Menlo,'DejaVu Sans Mono',consolas,'Courier New',monospace\"><span style=\"font-style: italic\">                                              Supported native gates                                               </span>\n",
       "┏━━━━━━━━━┳━━━━━━━━━━━━━━━━━━━━━━━━━━━━━━━━┳━━━━━━━━━━━━━━━━━━━━━━━━━━━━━━━━━━━┳━━━━━━━━━━━━━━━━━━━━━━━━━━━━━━━━━━┓\n",
       "┃<span style=\"font-weight: bold\">    Gate </span>┃<span style=\"font-weight: bold\"> Qubits                         </span>┃<span style=\"font-weight: bold\"> Error                             </span>┃<span style=\"font-weight: bold\"> Duration                         </span>┃\n",
       "┡━━━━━━━━━╇━━━━━━━━━━━━━━━━━━━━━━━━━━━━━━━━╇━━━━━━━━━━━━━━━━━━━━━━━━━━━━━━━━━━━╇━━━━━━━━━━━━━━━━━━━━━━━━━━━━━━━━━━┩\n",
       "│<span style=\"color: #008080; text-decoration-color: #008080\">       </span><span style=\"color: #008080; text-decoration-color: #008080; font-weight: bold\">x</span><span style=\"color: #008080; text-decoration-color: #008080\"> </span>│<span style=\"color: #800080; text-decoration-color: #800080\"> 0, 1, 2, 3, 4, 5               </span>│<span style=\"color: #008000; text-decoration-color: #008000\"> 0.0007, 0.0017, 0.0009, 0.0012,   </span>│<span style=\"color: #008000; text-decoration-color: #008000\"> 48, 48, 48, 48, 48, 48           </span>│\n",
       "│<span style=\"color: #008080; text-decoration-color: #008080\">         </span>│<span style=\"color: #800080; text-decoration-color: #800080\">                                </span>│<span style=\"color: #008000; text-decoration-color: #008000\"> 0.0008, 0.0013                    </span>│<span style=\"color: #008000; text-decoration-color: #008000\">                                  </span>│\n",
       "│<span style=\"color: #008080; text-decoration-color: #008080\">      </span><span style=\"color: #008080; text-decoration-color: #008080; font-weight: bold\">cz</span><span style=\"color: #008080; text-decoration-color: #008080\"> </span>│<span style=\"color: #800080; text-decoration-color: #800080\"> [1, 0], [2, 3], [4, 3], [5, 3] </span>│<span style=\"color: #008000; text-decoration-color: #008000\"> 0.99, 0.99, 0.99, 0.99            </span>│<span style=\"color: #008000; text-decoration-color: #008000\"> 40, 40, 40, 40                   </span>│\n",
       "│<span style=\"color: #008080; text-decoration-color: #008080\">      </span><span style=\"color: #008080; text-decoration-color: #008080; font-weight: bold\">rz</span><span style=\"color: #008080; text-decoration-color: #008080\"> </span>│<span style=\"color: #800080; text-decoration-color: #800080\"> 0, 1, 2, 3, 4, 5               </span>│<span style=\"color: #008000; text-decoration-color: #008000\"> None, None, None, None, None,     </span>│<span style=\"color: #008000; text-decoration-color: #008000\"> 4, 4, 4, 4, 4, 4                 </span>│\n",
       "│<span style=\"color: #008080; text-decoration-color: #008080\">         </span>│<span style=\"color: #800080; text-decoration-color: #800080\">                                </span>│<span style=\"color: #008000; text-decoration-color: #008000\"> None                              </span>│<span style=\"color: #008000; text-decoration-color: #008000\">                                  </span>│\n",
       "│<span style=\"color: #008080; text-decoration-color: #008080\">      </span><span style=\"color: #008080; text-decoration-color: #008080; font-weight: bold\">sx</span><span style=\"color: #008080; text-decoration-color: #008080\"> </span>│<span style=\"color: #800080; text-decoration-color: #800080\"> 0, 1, 2, 3, 4, 5               </span>│<span style=\"color: #008000; text-decoration-color: #008000\"> 0.0007, 0.0017, 0.0009, 0.0012,   </span>│<span style=\"color: #008000; text-decoration-color: #008000\"> 48, 48, 48, 48, 48, 48           </span>│\n",
       "│<span style=\"color: #008080; text-decoration-color: #008080\">         </span>│<span style=\"color: #800080; text-decoration-color: #800080\">                                </span>│<span style=\"color: #008000; text-decoration-color: #008000\"> 0.0008, 0.0013                    </span>│<span style=\"color: #008000; text-decoration-color: #008000\">                                  </span>│\n",
       "│<span style=\"color: #008080; text-decoration-color: #008080\">   </span><span style=\"color: #008080; text-decoration-color: #008080; font-weight: bold\">delay</span><span style=\"color: #008080; text-decoration-color: #008080\"> </span>│<span style=\"color: #800080; text-decoration-color: #800080\"> 0, 1, 2, 3, 4, 5               </span>│<span style=\"color: #008000; text-decoration-color: #008000\"> None, None, None, None, None,     </span>│<span style=\"color: #008000; text-decoration-color: #008000\"> 4, 4, 4, 4, 4, 4                 </span>│\n",
       "│<span style=\"color: #008080; text-decoration-color: #008080\">         </span>│<span style=\"color: #800080; text-decoration-color: #800080\">                                </span>│<span style=\"color: #008000; text-decoration-color: #008000\"> None                              </span>│<span style=\"color: #008000; text-decoration-color: #008000\">                                  </span>│\n",
       "│<span style=\"color: #008080; text-decoration-color: #008080\">   </span><span style=\"color: #008080; text-decoration-color: #008080; font-weight: bold\">reset</span><span style=\"color: #008080; text-decoration-color: #008080\"> </span>│<span style=\"color: #800080; text-decoration-color: #800080\"> 0, 1, 2, 3, 4, 5               </span>│<span style=\"color: #008000; text-decoration-color: #008000\"> None, None, None, None, None,     </span>│<span style=\"color: #008000; text-decoration-color: #008000\"> 161076, 73320, 142176, 141884,   </span>│\n",
       "│<span style=\"color: #008080; text-decoration-color: #008080\">         </span>│<span style=\"color: #800080; text-decoration-color: #800080\">                                </span>│<span style=\"color: #008000; text-decoration-color: #008000\"> None                              </span>│<span style=\"color: #008000; text-decoration-color: #008000\"> 189160, 174132                   </span>│\n",
       "│<span style=\"color: #008080; text-decoration-color: #008080\"> </span><span style=\"color: #008080; text-decoration-color: #008080; font-weight: bold\">measure</span><span style=\"color: #008080; text-decoration-color: #008080\"> </span>│<span style=\"color: #800080; text-decoration-color: #800080\"> 0, 1, 2, 3, 4, 5               </span>│<span style=\"color: #008000; text-decoration-color: #008000\"> 0.0353, 0.0577, 0.0403, 0.0543,   </span>│<span style=\"color: #008000; text-decoration-color: #008000\"> None, None, None, None, None,    </span>│\n",
       "│<span style=\"color: #008080; text-decoration-color: #008080\">         </span>│<span style=\"color: #800080; text-decoration-color: #800080\">                                </span>│<span style=\"color: #008000; text-decoration-color: #008000\"> 0.0232, 0.0973                    </span>│<span style=\"color: #008000; text-decoration-color: #008000\"> None                             </span>│\n",
       "└─────────┴────────────────────────────────┴───────────────────────────────────┴──────────────────────────────────┘\n",
       "</pre>\n"
      ]
     },
     "metadata": {},
     "output_type": "display_data"
    },
    {
     "data": {
      "text/plain": [
       "{'hooks': {'pre': {'schema': {}},\n",
       "  'post': {'schema': {}},\n",
       "  'sync': {'schema': {}}},\n",
       " 'state': {'state': {'description': 'state used for the Quam object'},\n",
       "  'wiring': {'description': 'wiring used for the Quam object'},\n",
       "  'chipview_png': {'description': 'base64 encoded png image of chip layout'},\n",
       "  'transpiler_target': {'description': 'Qiskit transpiler target information'}},\n",
       " 'online': True,\n",
       " 'runtime': {'visa': {}},\n",
       " 'ondemand': {'openqasm2qua': {'schema': {'type': 'object',\n",
       "    'required': ['openqasm3', 'num_shots'],\n",
       "    'properties': {'num_shots': {'type': 'integer',\n",
       "      'description': 'number of repetitions of the circuit execution'},\n",
       "     'openqasm3': {'type': 'string',\n",
       "      'description': 'OpenQASM3 code as string'}},\n",
       "    'additionalProperties': False},\n",
       "   'description': 'Compilation of OpenQASM3 program to QUA, assuming that transpilation is done (physical qubit allocation is done, and native gate set is used)'}},\n",
       " 'description': '21-qubit superconducting processor featuring flux-tunable transmons with fixed coupling architecture',\n",
       " 'transpiler_target': {'x': [[0,\n",
       "    {'error': 0.0006697000394570995, 'duration': 48}],\n",
       "   [1, {'error': 0.001671417733811964, 'duration': 48}],\n",
       "   [2, {'error': 0.0009026314442773797, 'duration': 48}],\n",
       "   [3, {'error': 0.0012265385022259823, 'duration': 48}],\n",
       "   [4, {'error': 0.0007919132211482438, 'duration': 48}],\n",
       "   [5, {'error': 0.001305700022075973, 'duration': 48}]],\n",
       "  'cz': [[[1, 0], {'error': 0.99, 'duration': 40}],\n",
       "   [[2, 3], {'error': 0.99, 'duration': 40}],\n",
       "   [[4, 3], {'error': 0.99, 'duration': 40}],\n",
       "   [[5, 3], {'error': 0.99, 'duration': 40}]],\n",
       "  'rz': [[0, {'duration': 4}],\n",
       "   [1, {'duration': 4}],\n",
       "   [2, {'duration': 4}],\n",
       "   [3, {'duration': 4}],\n",
       "   [4, {'duration': 4}],\n",
       "   [5, {'duration': 4}]],\n",
       "  'sx': [[0, {'error': 0.0006697000394570995, 'duration': 48}],\n",
       "   [1, {'error': 0.001671417733811964, 'duration': 48}],\n",
       "   [2, {'error': 0.0009026314442773797, 'duration': 48}],\n",
       "   [3, {'error': 0.0012265385022259823, 'duration': 48}],\n",
       "   [4, {'error': 0.0007919132211482438, 'duration': 48}],\n",
       "   [5, {'error': 0.001305700022075973, 'duration': 48}]],\n",
       "  'delay': [[0, {'duration': 4}],\n",
       "   [1, {'duration': 4}],\n",
       "   [2, {'duration': 4}],\n",
       "   [3, {'duration': 4}],\n",
       "   [4, {'duration': 4}],\n",
       "   [5, {'duration': 4}]],\n",
       "  'reset': [[0, {'duration': 161076}],\n",
       "   [1, {'duration': 73320}],\n",
       "   [2, {'duration': 142176}],\n",
       "   [3, {'duration': 141884}],\n",
       "   [4, {'duration': 189160}],\n",
       "   [5, {'duration': 174132}]],\n",
       "  'measure': [[0, {'error': 0.035250000000000004}],\n",
       "   [1, {'error': 0.05774999999999997}],\n",
       "   [2, {'error': 0.04025000000000001}],\n",
       "   [3, {'error': 0.05425000000000002}],\n",
       "   [4, {'error': 0.023249999999999993}],\n",
       "   [5, {'error': 0.09725000000000006}]]}}"
      ]
     },
     "execution_count": 3,
     "metadata": {},
     "output_type": "execute_result"
    }
   ],
   "execution_count": 3
  },
  {
   "cell_type": "code",
   "id": "32e1f4aa24df6781",
   "metadata": {
    "ExecuteTime": {
     "end_time": "2025-06-27T02:36:08.251756Z",
     "start_time": "2025-06-27T02:36:08.078568Z"
    }
   },
   "source": [
    "machine = QuAM.load()\n",
    "\n",
    "add_basic_macros_to_machine(machine)\n",
    "backend = FluxTunableTransmonBackend(machine)\n",
    "backend.set_options(timeout=100)\n",
    "print(backend.target)"
   ],
   "outputs": [
    {
     "name": "stdout",
     "output_type": "stream",
     "text": [
      "Target: Transmon based QuAM\n",
      "Number of qubits: 4\n",
      "Instructions:\n",
      "\tx\n",
      "\t\t(0,):\n",
      "\t\t\tDuration: 4.8e-08 sec.\n",
      "\t\t(1,):\n",
      "\t\t\tDuration: 4.8e-08 sec.\n",
      "\t\t(2,):\n",
      "\t\t\tDuration: 4.8e-08 sec.\n",
      "\t\t(3,):\n",
      "\t\t\tDuration: 4.8e-08 sec.\n",
      "\trz\n",
      "\t\t(0,):\n",
      "\t\t\tDuration: 0 sec.\n",
      "\t\t\tError Rate: 0\n",
      "\t\t(1,):\n",
      "\t\t\tDuration: 0 sec.\n",
      "\t\t\tError Rate: 0\n",
      "\t\t(2,):\n",
      "\t\t\tDuration: 0 sec.\n",
      "\t\t\tError Rate: 0\n",
      "\t\t(3,):\n",
      "\t\t\tDuration: 0 sec.\n",
      "\t\t\tError Rate: 0\n",
      "\tsx\n",
      "\t\t(0,):\n",
      "\t\t\tDuration: 4.8e-08 sec.\n",
      "\t\t(1,):\n",
      "\t\t\tDuration: 4.8e-08 sec.\n",
      "\t\t(2,):\n",
      "\t\t\tDuration: 4.8e-08 sec.\n",
      "\t\t(3,):\n",
      "\t\t\tDuration: 4.8e-08 sec.\n",
      "\tdelay\n",
      "\t\t(0,):\n",
      "\t\t(1,):\n",
      "\t\t(2,):\n",
      "\t\t(3,):\n",
      "\treset\n",
      "\t\t(0,):\n",
      "\t\t(1,):\n",
      "\t\t(2,):\n",
      "\t\t(3,):\n",
      "\tmeasure\n",
      "\t\t(0,):\n",
      "\t\t\tDuration: 1.5e-06 sec.\n",
      "\t\t(1,):\n",
      "\t\t\tDuration: 1.5e-06 sec.\n",
      "\t\t(2,):\n",
      "\t\t\tDuration: 1.5e-06 sec.\n",
      "\t\t(3,):\n",
      "\t\t\tDuration: 1.5e-06 sec.\n",
      "\tsy\n",
      "\t\t(0,):\n",
      "\t\t\tDuration: 4.8e-08 sec.\n",
      "\t\t(1,):\n",
      "\t\t\tDuration: 4.8e-08 sec.\n",
      "\t\t(2,):\n",
      "\t\t\tDuration: 4.8e-08 sec.\n",
      "\t\t(3,):\n",
      "\t\t\tDuration: 4.8e-08 sec.\n",
      "\tsydg\n",
      "\t\t(0,):\n",
      "\t\t\tDuration: 4.8e-08 sec.\n",
      "\t\t(1,):\n",
      "\t\t\tDuration: 4.8e-08 sec.\n",
      "\t\t(2,):\n",
      "\t\t\tDuration: 4.8e-08 sec.\n",
      "\t\t(3,):\n",
      "\t\t\tDuration: 4.8e-08 sec.\n",
      "\tid\n",
      "\t\t(0,):\n",
      "\t\t\tDuration: 0 sec.\n",
      "\t\t\tError Rate: 0\n",
      "\t\t(1,):\n",
      "\t\t\tDuration: 0 sec.\n",
      "\t\t\tError Rate: 0\n",
      "\t\t(2,):\n",
      "\t\t\tDuration: 0 sec.\n",
      "\t\t\tError Rate: 0\n",
      "\t\t(3,):\n",
      "\t\t\tDuration: 0 sec.\n",
      "\t\t\tError Rate: 0\n",
      "\tcz\n",
      "\t\t(2, 1)\n",
      "\tif_else\n",
      "\twhile_loop\n",
      "\tfor_loop\n",
      "\tswitch_case\n",
      "\tbox\n",
      "\n"
     ]
    },
    {
     "name": "stderr",
     "output_type": "stream",
     "text": [
      "/Users/arthurostrauss/Library/CloudStorage/OneDrive-QMMachinesLTD/GitHub/qiskit-qm-provider/qiskit_qm_provider/backend/backend_utils.py:218: UserWarning: Could not add default two qubit gates. Add it manually if necessary.\n",
      "  warnings.warn(\"Could not add default two qubit gates. Add it manually if necessary.\")\n",
      "/Users/arthurostrauss/Library/CloudStorage/OneDrive-QMMachinesLTD/GitHub/qiskit-qm-provider/qiskit_qm_provider/backend/flux_tunable_transmon_backend.py:60: UserWarning: qiskit.pulse is not available, channel mapping will not be set.\n",
      "  warnings.warn(\"qiskit.pulse is not available, channel mapping will not be set.\")\n"
     ]
    }
   ],
   "execution_count": 4
  },
  {
   "metadata": {
    "ExecuteTime": {
     "end_time": "2025-06-27T02:36:08.438088Z",
     "start_time": "2025-06-27T02:36:08.436071Z"
    }
   },
   "cell_type": "code",
   "source": [
    "from quam.core.macro import QuamMacro\n",
    "backend.target[\"id\"][(0,)]"
   ],
   "id": "59616bf1f9a3a4b4",
   "outputs": [
    {
     "data": {
      "text/plain": [
       "QMInstructionProperties(duration=0.0, error=0.0, qua_pulse_macro=IdMacro(id='id', duration=0, fidelity=1.0))"
      ]
     },
     "execution_count": 5,
     "metadata": {},
     "output_type": "execute_result"
    }
   ],
   "execution_count": 5
  },
  {
   "cell_type": "code",
   "id": "4e471be00afaf500",
   "metadata": {
    "ExecuteTime": {
     "end_time": "2025-06-27T02:36:08.619192Z",
     "start_time": "2025-06-27T02:36:08.617643Z"
    }
   },
   "source": [
    "print(backend.options)"
   ],
   "outputs": [
    {
     "name": "stdout",
     "output_type": "stream",
     "text": [
      "Options(shots=1024, compiler_options=None, simulate=None, memory=False, skip_reset=False, meas_level=<MeasLevel.CLASSIFIED: 2>, meas_return=<MeasReturnType.AVERAGE: 'avg'>, timeout=100)\n"
     ]
    }
   ],
   "execution_count": 6
  },
  {
   "cell_type": "code",
   "id": "ec16b3bc30f20a34",
   "metadata": {
    "ExecuteTime": {
     "end_time": "2025-06-27T02:36:08.796662Z",
     "start_time": "2025-06-27T02:36:08.795104Z"
    }
   },
   "source": [
    "print(\"Available qubits: \", backend.qubit_dict)\n",
    "print(\"Available qubit pairs: \", backend.qubit_pair_dict)"
   ],
   "outputs": [
    {
     "name": "stdout",
     "output_type": "stream",
     "text": [
      "Available qubits:  {'qC5': 0, 'qD1': 1, 'qD2': 2, 'qD3': 3}\n",
      "Available qubit pairs:  {'qD1-qD2': (2, 1)}\n"
     ]
    }
   ],
   "execution_count": 7
  },
  {
   "cell_type": "code",
   "id": "3d185323175fc69",
   "metadata": {
    "ExecuteTime": {
     "end_time": "2025-06-27T02:36:08.972641Z",
     "start_time": "2025-06-27T02:36:08.971223Z"
    }
   },
   "source": [
    "using_vpn = True\n",
    "if using_vpn:\n",
    "    machine.network[\"cloud\"] = False\n",
    "    machine.network[\"port\"] = 9510\n",
    "else:\n",
    "    backend.qmm = iqcc"
   ],
   "outputs": [],
   "execution_count": 8
  },
  {
   "cell_type": "code",
   "id": "9d41e98c0f820e7b",
   "metadata": {
    "ExecuteTime": {
     "end_time": "2025-06-27T02:36:09.151819Z",
     "start_time": "2025-06-27T02:36:09.149493Z"
    }
   },
   "source": [
    "machine.network"
   ],
   "outputs": [
    {
     "data": {
      "text/plain": [
       "{'host': '10.1.1.6', 'port': 9510, 'cloud': False, 'octave_ips': [], 'cluster_name': 'galil_gilboa', 'octave_ports': [], 'quantum_computer_backend': 'gilboa'}"
      ]
     },
     "execution_count": 9,
     "metadata": {},
     "output_type": "execute_result"
    }
   ],
   "execution_count": 9
  },
  {
   "cell_type": "markdown",
   "id": "3b2ffe4bf1003726",
   "metadata": {},
   "source": [
    "## Create a custom gate to edit\n",
    "\n",
    "We add at the Qiskit level the custom gate we want to calibrate, and we then specify the QUA macro in charge of \n",
    "implementing the parametrized pulse representation of this template parametrized gate."
   ]
  },
  {
   "cell_type": "code",
   "id": "46e10447b2c46372",
   "metadata": {
    "ExecuteTime": {
     "end_time": "2025-06-27T02:36:09.332996Z",
     "start_time": "2025-06-27T02:36:09.330265Z"
    }
   },
   "source": [
    "from rl_qoc.helpers import add_custom_gate\n",
    "\n",
    "def apply_parametrized_circuit(\n",
    "    qc: QuantumCircuit, params: List[Parameter], q_reg: QuantumRegister, **kwargs\n",
    "):\n",
    "\n",
    "    physical_qubits: List[int] = kwargs[\"physical_qubits\"]\n",
    "    backend: FluxTunableTransmonBackend = kwargs[\"backend\"]\n",
    "\n",
    "    # TODO: Enter your custom parametric QUA macro here\n",
    "    def qua_macro(amp):\n",
    "        qubit: Transmon = backend.get_qubit(physical_qubits[0])\n",
    "        qubit.xy.play(\"x180_DragCosine\", amplitude_scale=amp)\n",
    "\n",
    "    # Create a custom gate with the QUA macro\n",
    "    custom_x = Gate(\"x_cal\", 1, params)\n",
    "    x_duration = backend.target[\"x\"][(physical_qubits[0],)].duration\n",
    "    instruction_prop = QMInstructionProperties(duration=x_duration,qua_pulse_macro=qua_macro)\n",
    "    qc = add_custom_gate(\n",
    "        qc,\n",
    "        custom_x,\n",
    "        q_reg,\n",
    "        params,\n",
    "        physical_qubits,\n",
    "        backend,\n",
    "        instruction_prop\n",
    "    )\n",
    "    return qc"
   ],
   "outputs": [],
   "execution_count": 10
  },
  {
   "cell_type": "markdown",
   "id": "7b3517e088f88b5",
   "metadata": {},
   "source": [
    "## Create Environment configuration\n",
    "\n",
    "1. Create target instance: Specify which gate you want and on which qubit it should be applied\n",
    "2. Choose which reward scheme you want. You can choose among three methods that are carefully implemented within the QOP: Direct Channel/State Fidelity Estimation (DFE), and Context-Aware Fidelity Estimation (CAFE)"
   ]
  },
  {
   "cell_type": "code",
   "id": "71e47a8b92d92320",
   "metadata": {
    "ExecuteTime": {
     "end_time": "2025-06-27T02:36:09.512379Z",
     "start_time": "2025-06-27T02:36:09.509166Z"
    }
   },
   "source": [
    "physical_qubits = (0,)\n",
    "target_gate = \"x\"\n",
    "target_state = \"1\"\n",
    "gate_target = GateTarget(physical_qubits=physical_qubits, gate=target_gate)\n",
    "state_target = StateTarget(state=target_state, physical_qubits=physical_qubits)\n",
    "target = state_target\n",
    "reward = StateReward()"
   ],
   "outputs": [],
   "execution_count": 11
  },
  {
   "cell_type": "markdown",
   "id": "5b9740a46e2eb0fb",
   "metadata": {},
   "source": [
    "3. Decide which action space to create\n",
    "4. Decide how the parameters should be passed to the QOP (Choose between Input Stream, DGX Quantum, IO variables)\n",
    "5. To fix the QUA program duration, we also can pass to the configuration the number of training updates expected (it should be the same variable used when declaring the agent).\n",
    "6. Set up training hyperparameters on the environment side"
   ]
  },
  {
   "cell_type": "code",
   "id": "6b0101d3fa6ae26a",
   "metadata": {
    "ExecuteTime": {
     "end_time": "2025-06-27T02:36:09.712320Z",
     "start_time": "2025-06-27T02:36:09.685617Z"
    }
   },
   "source": [
    "# Action space specification\n",
    "param_bounds = [(-1.98, 2.0)]  # Can be any number of bounds\n",
    "\n",
    "\n",
    "# Environment execution parameters\n",
    "seed = 36  # Master seed to make training reproducible\n",
    "batch_size = 1  # Number of actions to evaluate per policy evaluation\n",
    "n_shots = 500 # Minimum number of shots per fiducial evaluation\n",
    "pauli_sampling = 10  # Number of fiducials to compute for fidelity estimation (DFE only)\n",
    "n_reps = 1  # Number of repetitions of the cycle circuit\n",
    "num_updates = TotalUpdates(100)\n",
    "\n",
    "input_type = InputType.INPUT_STREAM\n",
    "\n",
    "\n",
    "def create_action_space(param_bounds):\n",
    "    param_bounds = np.array(param_bounds, dtype=np.float32)\n",
    "    lower_bound, upper_bound = param_bounds.T\n",
    "    return Box(low=lower_bound, high=upper_bound, shape=(len(param_bounds),), dtype=np.float32)\n",
    "\n",
    "\n",
    "action_space = create_action_space(param_bounds)\n",
    "\n",
    "backend_config = QMConfig(\n",
    "    parametrized_circuit=apply_parametrized_circuit,\n",
    "    backend=backend,\n",
    "    input_type=input_type,\n",
    "    verbosity=2,\n",
    "    parametrized_circuit_kwargs={\"physical_qubits\": physical_qubits, \"backend\": backend},\n",
    "    num_updates=num_updates.total_updates,\n",
    ")\n",
    "execution_config = ExecutionConfig(\n",
    "    batch_size=batch_size,\n",
    "    sampling_paulis=pauli_sampling,\n",
    "    n_shots=n_shots,\n",
    "    n_reps=n_reps,\n",
    "    seed=seed,\n",
    "    control_flow_enabled=True,\n",
    ")\n",
    "q_env_config = QEnvConfig(\n",
    "    target=target,\n",
    "    backend_config=backend_config,\n",
    "    action_space=action_space,\n",
    "    execution_config=execution_config,\n",
    "    reward=reward,\n",
    "    benchmark_config=BenchmarkConfig(0),\n",
    ")  # No benchmark for now\n",
    "\n",
    "q_env = QMEnvironment(training_config=q_env_config)\n",
    "rescaled_env = RescaleAndClipAction(q_env, np.float32(-1.0), np.float32(1.0))"
   ],
   "outputs": [],
   "execution_count": 12
  },
  {
   "metadata": {
    "ExecuteTime": {
     "end_time": "2025-06-27T02:36:09.890024Z",
     "start_time": "2025-06-27T02:36:09.887531Z"
    }
   },
   "cell_type": "code",
   "source": "machine.active_qubits[0].macros[\"measure\"]",
   "id": "b8fd64dbe954c3e1",
   "outputs": [
    {
     "data": {
      "text/plain": [
       "MeasureMacro(id='measure', duration=None, fidelity=None, pulse=SquareReadoutPulse(length=1500, id=None, digital_marker='ON', amplitude=0.09623293583011833, axis_angle=None, threshold=0.0008518667239775021, rus_exit_threshold=0.0006782788720361171, integration_weights=[(1, 1500)], integration_weights_angle=-46.18978077533825))"
      ]
     },
     "execution_count": 13,
     "metadata": {},
     "output_type": "execute_result"
    }
   ],
   "execution_count": 13
  },
  {
   "cell_type": "code",
   "id": "ea5af641c9f8399e",
   "metadata": {
    "ExecuteTime": {
     "end_time": "2025-06-27T02:36:10.079075Z",
     "start_time": "2025-06-27T02:36:10.076084Z"
    }
   },
   "source": [
    "print(backend.target)"
   ],
   "outputs": [
    {
     "name": "stdout",
     "output_type": "stream",
     "text": [
      "Target: Transmon based QuAM\n",
      "Number of qubits: 4\n",
      "Instructions:\n",
      "\tx\n",
      "\t\t(0,):\n",
      "\t\t\tDuration: 4.8e-08 sec.\n",
      "\t\t(1,):\n",
      "\t\t\tDuration: 4.8e-08 sec.\n",
      "\t\t(2,):\n",
      "\t\t\tDuration: 4.8e-08 sec.\n",
      "\t\t(3,):\n",
      "\t\t\tDuration: 4.8e-08 sec.\n",
      "\trz\n",
      "\t\t(0,):\n",
      "\t\t\tDuration: 0 sec.\n",
      "\t\t\tError Rate: 0\n",
      "\t\t(1,):\n",
      "\t\t\tDuration: 0 sec.\n",
      "\t\t\tError Rate: 0\n",
      "\t\t(2,):\n",
      "\t\t\tDuration: 0 sec.\n",
      "\t\t\tError Rate: 0\n",
      "\t\t(3,):\n",
      "\t\t\tDuration: 0 sec.\n",
      "\t\t\tError Rate: 0\n",
      "\tsx\n",
      "\t\t(0,):\n",
      "\t\t\tDuration: 4.8e-08 sec.\n",
      "\t\t(1,):\n",
      "\t\t\tDuration: 4.8e-08 sec.\n",
      "\t\t(2,):\n",
      "\t\t\tDuration: 4.8e-08 sec.\n",
      "\t\t(3,):\n",
      "\t\t\tDuration: 4.8e-08 sec.\n",
      "\tdelay\n",
      "\t\t(0,):\n",
      "\t\t(1,):\n",
      "\t\t(2,):\n",
      "\t\t(3,):\n",
      "\treset\n",
      "\t\t(0,):\n",
      "\t\t(1,):\n",
      "\t\t(2,):\n",
      "\t\t(3,):\n",
      "\tmeasure\n",
      "\t\t(0,):\n",
      "\t\t\tDuration: 1.5e-06 sec.\n",
      "\t\t(1,):\n",
      "\t\t\tDuration: 1.5e-06 sec.\n",
      "\t\t(2,):\n",
      "\t\t\tDuration: 1.5e-06 sec.\n",
      "\t\t(3,):\n",
      "\t\t\tDuration: 1.5e-06 sec.\n",
      "\tsy\n",
      "\t\t(0,):\n",
      "\t\t\tDuration: 4.8e-08 sec.\n",
      "\t\t(1,):\n",
      "\t\t\tDuration: 4.8e-08 sec.\n",
      "\t\t(2,):\n",
      "\t\t\tDuration: 4.8e-08 sec.\n",
      "\t\t(3,):\n",
      "\t\t\tDuration: 4.8e-08 sec.\n",
      "\tsydg\n",
      "\t\t(0,):\n",
      "\t\t\tDuration: 4.8e-08 sec.\n",
      "\t\t(1,):\n",
      "\t\t\tDuration: 4.8e-08 sec.\n",
      "\t\t(2,):\n",
      "\t\t\tDuration: 4.8e-08 sec.\n",
      "\t\t(3,):\n",
      "\t\t\tDuration: 4.8e-08 sec.\n",
      "\tid\n",
      "\t\t(0,):\n",
      "\t\t\tDuration: 0 sec.\n",
      "\t\t\tError Rate: 0\n",
      "\t\t(1,):\n",
      "\t\t\tDuration: 0 sec.\n",
      "\t\t\tError Rate: 0\n",
      "\t\t(2,):\n",
      "\t\t\tDuration: 0 sec.\n",
      "\t\t\tError Rate: 0\n",
      "\t\t(3,):\n",
      "\t\t\tDuration: 0 sec.\n",
      "\t\t\tError Rate: 0\n",
      "\tcz\n",
      "\t\t(2, 1)\n",
      "\tif_else\n",
      "\twhile_loop\n",
      "\tfor_loop\n",
      "\tswitch_case\n",
      "\tbox\n",
      "\tx_cal\n",
      "\t\t(0,):\n",
      "\t\t\tDuration: 4.8e-08 sec.\n",
      "\n"
     ]
    }
   ],
   "execution_count": 14
  },
  {
   "cell_type": "code",
   "id": "f0922b58b4ffdd79",
   "metadata": {
    "ExecuteTime": {
     "end_time": "2025-06-27T02:36:10.264984Z",
     "start_time": "2025-06-27T02:36:10.261546Z"
    }
   },
   "source": [
    "from qiskit_qm_provider import InputType\n",
    "q_env.config.as_dict()"
   ],
   "outputs": [
    {
     "data": {
      "text/plain": [
       "{'target': {'state': [[0j, 0j], [0j, (1+0j)]], 'physical_qubits': (0,)},\n",
       " 'backend_config': {'input_type': 'INPUT_STREAM',\n",
       "  'verbosity': 2,\n",
       "  'num_updates': 100,\n",
       "  'opnic_dev_path': '/home/dpoulos/opnic-dev'},\n",
       " 'action_space': {'low': [-1.9800000190734863], 'high': [2.0]},\n",
       " 'execution_config': {'batch_size': 1,\n",
       "  'sampling_paulis': 10,\n",
       "  'n_shots': 500,\n",
       "  'n_reps': [1],\n",
       "  'c_factor': 1.0,\n",
       "  'seed': 36},\n",
       " 'reward_config': 'state',\n",
       " 'benchmark_config': {'benchmark_cycle': 0,\n",
       "  'benchmark_batch_size': 1,\n",
       "  'tomography_analysis': 'default',\n",
       "  'check_on_exp': False},\n",
       " 'metadata': {}}"
      ]
     },
     "execution_count": 15,
     "metadata": {},
     "output_type": "execute_result"
    }
   ],
   "execution_count": 15
  },
  {
   "cell_type": "code",
   "id": "74fb1a4fdc087b47",
   "metadata": {
    "ExecuteTime": {
     "end_time": "2025-06-27T02:36:10.543573Z",
     "start_time": "2025-06-27T02:36:10.449785Z"
    }
   },
   "source": [
    "q_env.baseline_circuit.draw(\"mpl\", style=\"iqp-dark\", fold=20)"
   ],
   "outputs": [
    {
     "data": {
      "text/plain": [
       "<Figure size 375.117x117.056 with 1 Axes>"
      ],
      "image/png": "[encoded data removed]"
     },
     "execution_count": 16,
     "metadata": {},
     "output_type": "execute_result"
    }
   ],
   "execution_count": 16
  },
  {
   "cell_type": "code",
   "id": "e5f92bf454ad4b39",
   "metadata": {
    "ExecuteTime": {
     "end_time": "2025-06-27T02:36:10.587564Z",
     "start_time": "2025-06-27T02:36:10.558717Z"
    }
   },
   "source": [
    "q_env.circuit.draw(\"mpl\", style=\"iqp-dark\", fold=20)"
   ],
   "outputs": [
    {
     "data": {
      "text/plain": [
       "<Figure size 207.895x117.056 with 1 Axes>"
      ],
      "image/png": "[encoded data removed]"
     },
     "execution_count": 17,
     "metadata": {},
     "output_type": "execute_result"
    }
   ],
   "execution_count": 17
  },
  {
   "cell_type": "code",
   "id": "bbe97ee84dbeeece",
   "metadata": {
    "ExecuteTime": {
     "end_time": "2025-06-27T02:36:11.070900Z",
     "start_time": "2025-06-27T02:36:11.014113Z"
    }
   },
   "source": [
    "q_env.real_time_circuit.draw(\"mpl\", style=\"iqp-dark\", fold=25)"
   ],
   "outputs": [
    {
     "data": {
      "text/plain": [
       "<Figure size 2085.39x200.667 with 1 Axes>"
      ],
      "image/png": "[encoded data removed]"
     },
     "execution_count": 18,
     "metadata": {},
     "output_type": "execute_result"
    }
   ],
   "execution_count": 18
  },
  {
   "cell_type": "code",
   "id": "86f79b1c23a7d14b",
   "metadata": {
    "ExecuteTime": {
     "end_time": "2025-06-27T02:36:11.335115Z",
     "start_time": "2025-06-27T02:36:11.260618Z"
    }
   },
   "source": "q_env.real_time_transpiled_circuit.draw(\"mpl\", fold=32, style=\"iqp-dark\")",
   "outputs": [
    {
     "data": {
      "text/plain": [
       "<Figure size 2535.7x200.667 with 1 Axes>"
      ],
      "image/png": "[encoded data removed]"
     },
     "execution_count": 19,
     "metadata": {},
     "output_type": "execute_result"
    }
   ],
   "execution_count": 19
  },
  {
   "cell_type": "code",
   "id": "42ebe66539e336a7",
   "metadata": {
    "ExecuteTime": {
     "end_time": "2025-06-27T02:36:11.527405Z",
     "start_time": "2025-06-27T02:36:11.518638Z"
    }
   },
   "source": [
    "print(backend.oq3_exporter.dumps(q_env.real_time_transpiled_circuit))"
   ],
   "outputs": [
    {
     "name": "stdout",
     "output_type": "stream",
     "text": [
      "OPENQASM 3.0;\n",
      "input float[64] a_0_0;\n",
      "input uint[8] input_state_0;\n",
      "input uint[4] observable_0;\n",
      "bit[1] meas;\n",
      "int switch_dummy;\n",
      "int switch_dummy_0;\n",
      "reset $0;\n",
      "switch_dummy = input_state_0;\n",
      "switch (switch_dummy) {\n",
      "  case 0 {\n",
      "    delay[16dt] $0;\n",
      "  }\n",
      "  case 1 {\n",
      "    x $0;\n",
      "  }\n",
      "  case 2 {\n",
      "    rz(1.5707963267948966) $0;\n",
      "    sx $0;\n",
      "    rz(1.5707963267948966) $0;\n",
      "  }\n",
      "  case 3 {\n",
      "    rz(1.5707963267948966) $0;\n",
      "    sx $0;\n",
      "    rz(-3.141592653589793) $0;\n",
      "  }\n",
      "}\n",
      "x_cal(a_0_0) $0;\n",
      "switch_dummy_0 = observable_0;\n",
      "switch (switch_dummy_0) {\n",
      "  case 0 {\n",
      "    delay[16dt] $0;\n",
      "  }\n",
      "  case 1 {\n",
      "    rz(1.5707963267948966) $0;\n",
      "    sx $0;\n",
      "    rz(1.5707963267948966) $0;\n",
      "  }\n",
      "  case 2 {\n",
      "    sx $0;\n",
      "    rz(1.5707963267948966) $0;\n",
      "  }\n",
      "}\n",
      "meas[0] = measure $0;\n",
      "\n"
     ]
    }
   ],
   "execution_count": 20
  },
  {
   "cell_type": "code",
   "id": "6251a1b9ad6b49c7",
   "metadata": {
    "ExecuteTime": {
     "end_time": "2025-06-27T02:36:12.201063Z",
     "start_time": "2025-06-27T02:36:11.732242Z"
    }
   },
   "source": [
    "from qm import generate_qua_script\n",
    "\n",
    "print(generate_qua_script(q_env.rl_qoc_training_qua_prog(num_updates.total_updates)))"
   ],
   "outputs": [
    {
     "name": "stdout",
     "output_type": "stream",
     "text": [
      "\n",
      "# Single QUA script generated at 2025-06-27 10:36:12.199681\n",
      "# QUA library version: 1.2.2\n",
      "\n",
      "from qm import CompilerOptionArguments\n",
      "from qm.qua import *\n",
      "\n",
      "with program() as prog:\n",
      "    v1 = declare(fixed, value=0.0)\n",
      "    input_stream_max_input_state = declare_input_stream(int, 'max_input_state', value=0)\n",
      "    input_stream_input_state_0 = declare_input_stream(int, 'input_state_0', value=0)\n",
      "    input_stream_mu = declare_input_stream(fixed, 'mu', value=[0.0])\n",
      "    v2 = declare(int, )\n",
      "    input_stream_sigma = declare_input_stream(fixed, 'sigma', value=[1.0])\n",
      "    v3 = declare(int, )\n",
      "    input_stream_reward = declare_input_stream(int, 'reward', value=[0, 0])\n",
      "    v4 = declare(int, )\n",
      "    input_stream_max_observables = declare_input_stream(int, 'max_observables', value=0)\n",
      "    input_stream_observable_0 = declare_input_stream(int, 'observable_0', value=0)\n",
      "    v5 = declare(int, )\n",
      "    input_stream_pauli_shots = declare_input_stream(int, 'pauli_shots', value=500)\n",
      "    v6 = declare(int, )\n",
      "    v7 = declare(int, )\n",
      "    v8 = declare(int, value=0)\n",
      "    v9 = declare(int, value=36)\n",
      "    v10 = declare(int, )\n",
      "    v11 = declare(int, )\n",
      "    a1 = declare(fixed, value=[1.0, 0.9999247018391445, 0.9996988186962042, 0.9993223845883495, 0.9987954562051724, 0.9981181129001492, 0.9972904566786902, 0.996312612182778, 0.9951847266721969, 0.9939069700023561, 0.99247953459871, 0.99090263542778, 0.989176509964781, 0.9873014181578584, 0.9852776423889412, 0.9831054874312163, 0.9807852804032304, 0.9783173707196277, 0.9757021300385286, 0.9729399522055602, 0.970031253194544, 0.9669764710448521, 0.9637760657954398, 0.9604305194155658, 0.9569403357322088, 0.9533060403541939, 0.9495281805930367, 0.9456073253805213, 0.9415440651830208, 0.937339011912575, 0.932992798834739, 0.9285060804732156, 0.9238795325112867, 0.9191138516900578, 0.9142097557035307, 0.9091679830905224, 0.9039892931234433, 0.8986744656939538, 0.8932243011955153, 0.8876396204028539, 0.881921264348355, 0.8760700941954066, 0.8700869911087115, 0.8639728561215867, 0.8577286100002721, 0.8513551931052652, 0.8448535652497071, 0.8382247055548381, 0.8314696123025452, 0.8245893027850253, 0.8175848131515837, 0.8104571982525948, 0.8032075314806449, 0.7958369046088836, 0.7883464276266062, 0.7807372285720945, 0.773010453362737, 0.765167265622459, 0.7572088465064846, 0.7491363945234594, 0.7409511253549592, 0.7326542716724128, 0.724247082951467, 0.7157308252838187, 0.7071067811865476, 0.6983762494089729, 0.6895405447370669, 0.680600997795453, 0.6715589548470183, 0.6624157775901718, 0.6531728429537769, 0.6438315428897915, 0.6343932841636455, 0.6248594881423865, 0.6152315905806268, 0.6055110414043255, 0.5956993044924335, 0.5857978574564389, 0.5758081914178453, 0.5657318107836132, 0.5555702330196023, 0.5453249884220465, 0.5349976198870973, 0.5245896826784688, 0.5141027441932217, 0.5035383837257176, 0.4928981922297841, 0.48218377207912283, 0.4713967368259978, 0.46053871095824, 0.4496113296546066, 0.4386162385385277, 0.4275550934302822, 0.4164295600976373, 0.40524131400498986, 0.3939920400610481, 0.38268343236508984, 0.3713171939518376, 0.3598950365349883, 0.3484186802494345, 0.33688985339222005, 0.325310292162263, 0.3136817403988916, 0.3020059493192282, 0.29028467725446233, 0.27851968938505306, 0.2667127574748984, 0.2548656596045146, 0.24298017990326398, 0.23105810828067128, 0.21910124015686977, 0.20711137619221856, 0.19509032201612833, 0.18303988795514106, 0.17096188876030136, 0.1588581433338614, 0.14673047445536175, 0.13458070850712622, 0.12241067519921628, 0.11022220729388318, 0.09801714032956077, 0.08579731234443988, 0.07356456359966745, 0.06132073630220865, 0.049067674327418126, 0.03680722294135899, 0.024541228522912264, 0.012271538285719944, 6.123233995736766e-17, -0.012271538285719823, -0.024541228522912142, -0.036807222941358866, -0.04906767432741801, -0.06132073630220853, -0.07356456359966733, -0.08579731234443976, -0.09801714032956065, -0.11022220729388306, -0.12241067519921615, -0.1345807085071261, -0.14673047445536164, -0.15885814333386128, -0.17096188876030124, -0.18303988795514092, -0.1950903220161282, -0.20711137619221845, -0.21910124015686966, -0.23105810828067114, -0.24298017990326387, -0.2548656596045145, -0.2667127574748983, -0.27851968938505295, -0.29028467725446216, -0.3020059493192281, -0.3136817403988914, -0.32531029216226287, -0.33688985339221994, -0.3484186802494344, -0.35989503653498817, -0.3713171939518375, -0.3826834323650897, -0.393992040061048, -0.40524131400498975, -0.416429560097637, -0.42755509343028186, -0.4386162385385274, -0.4496113296546067, -0.46053871095824006, -0.4713967368259977, -0.4821837720791228, -0.492898192229784, -0.5035383837257175, -0.5141027441932217, -0.5245896826784687, -0.534997619887097, -0.5453249884220462, -0.555570233019602, -0.5657318107836133, -0.5758081914178453, -0.5857978574564389, -0.5956993044924334, -0.6055110414043254, -0.6152315905806268, -0.6248594881423862, -0.6343932841636454, -0.6438315428897913, -0.6531728429537765, -0.6624157775901719, -0.6715589548470184, -0.6806009977954531, -0.6895405447370669, -0.6983762494089728, -0.7071067811865475, -0.7157308252838186, -0.7242470829514668, -0.7326542716724127, -0.7409511253549589, -0.7491363945234591, -0.7572088465064846, -0.765167265622459, -0.773010453362737, -0.7807372285720945, -0.7883464276266062, -0.7958369046088835, -0.8032075314806448, -0.8104571982525947, -0.8175848131515836, -0.8245893027850251, -0.8314696123025453, -0.8382247055548381, -0.8448535652497071, -0.8513551931052651, -0.857728610000272, -0.8639728561215867, -0.8700869911087113, -0.8760700941954065, -0.8819212643483549, -0.8876396204028538, -0.8932243011955152, -0.8986744656939539, -0.9039892931234433, -0.9091679830905224, -0.9142097557035307, -0.9191138516900577, -0.9238795325112867, -0.9285060804732155, -0.9329927988347388, -0.9373390119125748, -0.9415440651830207, -0.9456073253805213, -0.9495281805930367, -0.9533060403541939, -0.9569403357322088, -0.9604305194155658, -0.9637760657954398, -0.9669764710448521, -0.970031253194544, -0.9729399522055601, -0.9757021300385285, -0.9783173707196275, -0.9807852804032304, -0.9831054874312163, -0.9852776423889412, -0.9873014181578584, -0.989176509964781, -0.99090263542778, -0.99247953459871, -0.9939069700023561, -0.9951847266721968, -0.996312612182778, -0.9972904566786902, -0.9981181129001492, -0.9987954562051724, -0.9993223845883495, -0.9996988186962042, -0.9999247018391445, -1.0, -0.9999247018391445, -0.9996988186962042, -0.9993223845883495, -0.9987954562051724, -0.9981181129001492, -0.9972904566786902, -0.996312612182778, -0.9951847266721969, -0.9939069700023561, -0.99247953459871, -0.99090263542778, -0.989176509964781, -0.9873014181578584, -0.9852776423889413, -0.9831054874312164, -0.9807852804032304, -0.9783173707196277, -0.9757021300385286, -0.9729399522055602, -0.970031253194544, -0.9669764710448522, -0.96377606579544, -0.9604305194155659, -0.9569403357322089, -0.953306040354194, -0.9495281805930368, -0.9456073253805213, -0.9415440651830208, -0.937339011912575, -0.932992798834739, -0.9285060804732156, -0.9238795325112868, -0.9191138516900578, -0.9142097557035308, -0.9091679830905225, -0.9039892931234434, -0.898674465693954, -0.8932243011955153, -0.8876396204028539, -0.881921264348355, -0.8760700941954066, -0.8700869911087115, -0.8639728561215868, -0.8577286100002722, -0.8513551931052653, -0.8448535652497072, -0.8382247055548382, -0.8314696123025455, -0.8245893027850253, -0.8175848131515837, -0.8104571982525948, -0.8032075314806449, -0.7958369046088837, -0.7883464276266063, -0.7807372285720946, -0.7730104533627371, -0.7651672656224591, -0.7572088465064848, -0.7491363945234593, -0.7409511253549591, -0.7326542716724129, -0.724247082951467, -0.7157308252838187, -0.7071067811865477, -0.698376249408973, -0.689540544737067, -0.6806009977954532, -0.6715589548470187, -0.662415777590172, -0.6531728429537771, -0.6438315428897915, -0.6343932841636458, -0.6248594881423865, -0.6152315905806273, -0.6055110414043257, -0.5956993044924331, -0.5857978574564391, -0.5758081914178452, -0.5657318107836135, -0.5555702330196022, -0.5453249884220468, -0.5349976198870973, -0.5245896826784694, -0.5141027441932218, -0.503538383725718, -0.4928981922297842, -0.48218377207912255, -0.4713967368259979, -0.4605387109582399, -0.44961132965460693, -0.4386162385385276, -0.4275550934302825, -0.4164295600976372, -0.40524131400499036, -0.3939920400610482, -0.38268343236509034, -0.37131719395183777, -0.359895036534988, -0.34841868024943484, -0.33688985339221994, -0.3253102921622633, -0.31368174039889146, -0.30200594931922853, -0.29028467725446244, -0.2785196893850536, -0.26671275747489853, -0.25486565960451435, -0.24298017990326412, -0.23105810828067094, -0.2191012401568701, -0.20711137619221848, -0.19509032201612866, -0.18303988795514095, -0.1709618887603017, -0.15885814333386153, -0.1467304744553623, -0.13458070850712636, -0.12241067519921596, -0.11022220729388331, -0.09801714032956045, -0.08579731234444023, -0.07356456359966736, -0.061320736302208995, -0.04906767432741803, -0.03680722294135933, -0.02454122852291239, -0.012271538285720512, -1.8369701987210297e-16, 0.012271538285720144, 0.02454122852291202, 0.036807222941358964, 0.04906767432741766, 0.06132073630220863, 0.07356456359966698, 0.08579731234443985, 0.09801714032956009, 0.11022220729388293, 0.1224106751992156, 0.13458070850712597, 0.14673047445536194, 0.15885814333386117, 0.17096188876030133, 0.1830398879551406, 0.1950903220161283, 0.20711137619221812, 0.21910124015686974, 0.23105810828067058, 0.24298017990326376, 0.25486565960451396, 0.2667127574748982, 0.2785196893850533, 0.29028467725446205, 0.30200594931922814, 0.31368174039889113, 0.3253102921622629, 0.3368898533922196, 0.3484186802494345, 0.3598950365349876, 0.3713171939518374, 0.38268343236509, 0.3939920400610479, 0.40524131400499, 0.4164295600976369, 0.42755509343028214, 0.43861623853852727, 0.4496113296546066, 0.4605387109582396, 0.4713967368259976, 0.4821837720791222, 0.49289819222978387, 0.5035383837257178, 0.5141027441932216, 0.5245896826784691, 0.5349976198870969, 0.5453249884220465, 0.5555702330196018, 0.5657318107836132, 0.5758081914178449, 0.5857978574564388, 0.5956993044924329, 0.6055110414043253, 0.615231590580627, 0.6248594881423861, 0.6343932841636456, 0.6438315428897912, 0.6531728429537768, 0.6624157775901715, 0.6715589548470184, 0.6806009977954527, 0.6895405447370668, 0.6983762494089725, 0.7071067811865474, 0.7157308252838188, 0.7242470829514667, 0.7326542716724129, 0.7409511253549588, 0.7491363945234593, 0.7572088465064842, 0.7651672656224588, 0.7730104533627367, 0.7807372285720944, 0.7883464276266059, 0.7958369046088833, 0.803207531480645, 0.8104571982525947, 0.8175848131515837, 0.8245893027850251, 0.8314696123025452, 0.8382247055548377, 0.844853565249707, 0.8513551931052649, 0.857728610000272, 0.8639728561215864, 0.8700869911087112, 0.8760700941954067, 0.8819212643483548, 0.8876396204028539, 0.8932243011955151, 0.8986744656939538, 0.9039892931234431, 0.9091679830905224, 0.9142097557035304, 0.9191138516900577, 0.9238795325112865, 0.9285060804732155, 0.932992798834739, 0.9373390119125748, 0.9415440651830208, 0.9456073253805212, 0.9495281805930367, 0.9533060403541936, 0.9569403357322088, 0.9604305194155657, 0.9637760657954398, 0.9669764710448522, 0.970031253194544, 0.9729399522055602, 0.9757021300385285, 0.9783173707196277, 0.9807852804032303, 0.9831054874312163, 0.9852776423889411, 0.9873014181578583, 0.9891765099647809, 0.99090263542778, 0.99247953459871, 0.9939069700023561, 0.9951847266721969, 0.996312612182778, 0.9972904566786902, 0.9981181129001492, 0.9987954562051724, 0.9993223845883494, 0.9996988186962042, 0.9999247018391445])\n",
      "    a2 = declare(fixed, value=[3.5327824289561818, 3.330804306653522, 3.2067627154196052, 3.115760415709423, 3.043300160265717, 2.9827894246636704, 2.9306537482669137, 2.8847302485643036, 2.8436073103839603, 2.8063110134754217, 2.77214017407937, 2.740572639206182, 2.7112087664763966, 2.683735648515148, 2.6579035513233205, 2.633509871988707, 2.6103879026361403, 2.588398766525206, 2.567425506613319, 2.54736867045851, 2.5281429577645906, 2.5096746370047467, 2.4918995281678673, 2.474761408630264, 2.458210739665161, 2.4422036389905277, 2.4267010442847883, 2.4116680264893695, 2.397073221736998, 2.382888358068256, 2.369087858516701, 2.355648506195711, 2.3425491600836423, 2.3297705125417862, 2.3172948814000156, 2.305106030843119, 2.293189016425181, 2.28153005040231, 2.2701163842592402, 2.2589362058530265, 2.24797854903754, 2.2372332139888327, 2.2266906967413354, 2.2163421266819383, 2.206179210943866, 2.1961941848031903, 2.1863797673143206, 2.1767291215320657, 2.167235818760913, 2.1578938063503603, 2.1486973786210304, 2.139641150562095, 2.1307200339878762, 2.1219292158818566, 2.113264138690807, 2.1047204823613135, 2.09629414793641, 2.0879812425519297, 2.079778065691169, 2.0716810965728625, 2.0636869825617734, 2.055792528503632, 2.0479946868970322, 2.040290548824406, 2.032677335572536, 2.0251523908804216, 2.0177131737587497, 2.010357251830959, 2.003082295150906, 1.9958860704566335, 1.9887664358237014, 1.9817213356850727, 1.9747487961876966, 1.9678469208587337, 1.9610138865568796, 1.9542479396864865, 1.9475473926541997, 1.9409106205496316, 1.9343360580332198, 1.9278221964158873, 1.921367580916432, 1.9149708080837768, 1.90863052337228, 1.9023454188592859, 1.8961142310949797, 1.889935739075412, 1.8838087623302882, 1.8777321591177818, 1.8717048247192343, 1.865725689827154, 1.8597937190204292, 1.8539079093211341, 1.8480672888277168, 1.842270915419752, 1.8365178755297913, 1.8308072829781583, 1.8251382778668508, 1.8195100255289596, 1.8139217155302925, 1.8083725607200958, 1.8028617963279994, 1.7973886791044937, 1.7919524865024372, 1.78655251589725, 1.781188083843616, 1.775858525366648, 1.7705631932856072, 1.765301457568395, 1.7600727047151352, 1.7548763371692908, 1.7497117727548361, 1.7445784441381105, 1.7394757983130602, 1.7344032961086497, 1.7293604117173027, 1.7243466322432999, 1.719361457270119, 1.714404398445772, 1.7094749790852397, 1.704572733789159, 1.6996972080779733, 1.6948479580407874, 1.6900245499982254, 1.6852265601786205, 1.6804535744069031, 1.6757051878055946, 1.6709810045073394, 1.6662806373784413, 1.6616037077529031, 1.656949845176484, 1.65231868716033, 1.647709878943741, 1.6431230732656734, 1.638557930144588, 1.6340141166662792, 1.6294913067793382, 1.6249891810979202, 1.6205074267115007, 1.616045737001325, 1.6116038114632674, 1.6071813555368302, 1.602778080440027, 1.5983937030099076, 1.5940279455484894, 1.5896805356738788, 1.5853512061763686, 1.5810396948793115, 1.576745744504582, 1.5724691025424382, 1.568209521125614, 1.5639667569074769, 1.559740570944087, 1.5555307285800137, 1.5513369993377586, 1.5471591568106515, 1.542996978559085, 1.5388502460099627, 1.534718744359241, 1.5306022624774458, 1.5265005928180588, 1.5224135313286642, 1.518340877364754, 1.5142824336061007, 1.5102380059755953, 1.5062074035604718, 1.5021904385358245, 1.4981869260903422, 1.4941966843541787, 1.4902195343288829, 1.4862552998193195, 1.4823038073675112, 1.4783648861883298, 1.4744383681069824, 1.4705240874982228, 1.466621881227234, 1.462731588592123, 1.458853051267975, 1.4549861132524147, 1.4511306208126233, 1.4472864224337623, 1.443453368768762, 1.4396313125894242, 1.4358201087387992, 1.432019614084796, 1.4282296874749836, 1.4244501896925483, 1.4206809834133651, 1.4169219331641532, 1.4131729052816766, 1.4094337678729594, 1.4057043907764817, 1.401984645524328, 1.3982744053052563, 1.3945735449286578, 1.3908819407893847, 1.3871994708334143, 1.3835260145243249, 1.3798614528105597, 1.3762056680934556, 1.3725585441960084, 1.3689199663323592, 1.3652898210779754, 1.3616679963405045, 1.3580543813312875, 1.3544488665375016, 1.3508513436949223, 1.3472617057612826, 1.3436798468902118, 1.3401056624057361, 1.336539048777327, 1.3329799035954766, 1.3294281255477916, 1.3258836143955808, 1.3223462709509322, 1.3188159970542568, 1.3152926955522901, 1.311776270276536, 1.3082666260221427, 1.3047636685271926, 1.3012673044524004, 1.2977774413612042, 1.2942939877002366, 1.2908168527801696, 1.2873459467569157, 1.2838811806131825, 1.2804224661403625, 1.276969715920755, 1.2735228433101062, 1.2700817624204592, 1.266646388103305, 1.2632166359330264, 1.2597924221906238, 1.2563736638477176, 1.2529602785508152, 1.2495521846058377, 1.2461493009628979, 1.2427515472013209, 1.2393588435148999, 1.2359711106973812, 1.2325882701281707, 1.2292102437582553, 1.2258369540963294, 1.222468324195127, 1.2191042776379448, 1.2157447385253557, 1.2123896314621028, 1.209038881544173, 1.2056924143460366, 1.202350155908055, 1.199012032724045, 1.1956779717289983, 1.1923479002869475, 1.189021746178975, 1.1856994375913594, 1.1823809031038546, 1.1790660716780947, 1.1757548726461222, 1.1724472356990332, 1.1691430908757334, 1.1658423685518056, 1.1625449994284747, 1.1592509145216774, 1.1559600451512198, 1.152672322930028, 1.1493876797534828, 1.146106047788834, 1.1428273594646918, 1.1395515474605902, 1.1362785446966164, 1.1330082843231066, 1.129740699710397, 1.1264757244386336, 1.1232132922876312, 1.1199533372267787, 1.1166957934049884, 1.1134405951406834, 1.1101876769118193, 1.1069369733459375, 1.1036884192102443, 1.100441949401712, 1.0971974989372002, 1.093955002943591, 1.0907143966479327, 1.087475615367594, 1.0842385945004163, 1.081003269514868, 1.07776957594019, 1.0745374493565347, 1.0713068253850877, 1.0680776396781742, 1.0648498279093415, 1.0616233257634158, 1.0583980689265284, 1.0551739930761068, 1.0519510338708258, 1.0487291269405168, 1.045508207876026, 1.0422882122190245, 1.0390690754517555, 1.035850732986726, 1.0326331201563252, 1.0294161722023798, 1.0261998242656256, 1.0229840113751025, 1.0197686684374627, 1.016553730226188, 1.0133391313707099, 1.010124806345429, 1.0069106894586273, 1.0036967148412688, 1.00048281643568, 0.9972689279841093, 0.9940549830171531, 0.990840914842051, 0.9876266565308335, 0.9844121409083265, 0.9811973005399973, 0.9779820677196415, 0.9747663744569002, 0.9715501524646036, 0.9683333331459304, 0.9651158475813785, 0.9618976265155382, 0.9586786003436607, 0.9554586990980113, 0.9522378524340039, 0.9490159896161035, 0.9457930395034908, 0.9425689305354783, 0.9393435907166703, 0.9361169476018545, 0.9328889282806191, 0.9296594593616802, 0.9264284669569143, 0.9231958766650803, 0.9199616135552237, 0.9167256021497466, 0.9134877664071378, 0.9102480297043429, 0.9070063148187696, 0.9037625439099064, 0.9005166385005492, 0.8972685194576143, 0.894018106972528, 0.8907653205411735, 0.8875100789433834, 0.8842523002219562, 0.8809919016611847, 0.8777287997648731, 0.8744629102338306, 0.871194147942815, 0.8679224269169135, 0.8646476603073332, 0.8613697603665863, 0.8580886384230404, 0.8548042048548183, 0.8515163690630151, 0.8482250394442141, 0.8449301233622702, 0.8416315271193373, 0.8383291559261059, 0.8350229138712285, 0.8317127038898934, 0.8283984277315222, 0.82507998592655, 0.821757277752261, 0.8184302011976333, 0.815098652927164, 0.8117625282436266, 0.8084217210497248, 0.8050761238085928, 0.8017256275031042, 0.7983701215939308, 0.7950094939763143, 0.7916436309354844, 0.7882724171006811, 0.7848957353977135, 0.7815134670000023, 0.7781254912780369, 0.7747316857471859, 0.7713319260137863, 0.7679260857194453, 0.764514036483469, 0.7610956478433479, 0.7576707871932048, 0.7542393197201254, 0.7508011083382705, 0.7473560136206788, 0.74390389372865, 0.7404446043386061, 0.7369779985663124, 0.7335039268883392, 0.7300222370606367, 0.726532774034091, 0.7230353798669159, 0.7195298936337378, 0.71601615133121, 0.712493985779995, 0.7089632265229362, 0.7054236997192362, 0.7018752280344425, 0.6983176305260358, 0.6947507225243981, 0.6911743155089308, 0.687588216979073, 0.6839922303199605, 0.6803861546624455, 0.6767697847371851, 0.6731429107224821, 0.669505318085549, 0.6658567874168362, 0.6621970942570545, 0.6585260089164843, 0.65484329628615, 0.6511487156404, 0.6474420204304109, 0.6437229580680933, 0.6399912696998503, 0.6362466899695931, 0.6324889467703853, 0.6287177609840334, 0.624932846207907, 0.6211339084682007, 0.6173206459188156, 0.6134927485249564, 0.6096498977304912, 0.6057917661080331, 0.601918016990641, 0.598028304083933, 0.594122271057333, 0.5901995511130481, 0.5862597665312865, 0.5823025281900804, 0.5783274350579691, 0.5743340736576326, 0.5703220174984222, 0.5662908264755476, 0.5622400462334989, 0.5581692074910586, 0.5540778253250399, 0.5499653984096154, 0.5458314082078302, 0.5416753181115674, 0.5374965725258996, 0.5332945958933567, 0.5290687916532321, 0.5248185411305525, 0.5205432023488241, 0.5162421087600569, 0.5119145678849238, 0.5075598598551528, 0.5031772358494339, 0.49876591641317175, 0.4943250896513783, 0.4898539092827965, 0.48535149254202054, 0.4808169179148438, 0.476249222690357, 0.47164740031134356, 0.46701039750230167, 0.4623371111518542, 0.45762638492340174, 0.452877005564503, 0.44808769888162364, 0.4432571253424207, 0.43838387526259154, 0.43346646352831547, 0.42850332379836414, 0.4234928021218074, 0.41843314989772334, 0.41332251609209913, 0.40815893861390373, 0.4029403347366371, 0.3976644904330612, 0.39232904846857397, 0.38693149507205943, 0.38146914497093554, 0.375939124538305, 0.3703383527528692, 0.3646635196145427, 0.35891106158770963, 0.35307713355630743, 0.3471575766656889, 0.34114788128944284, 0.33504314418679376, 0.3288380186969743, 0.3225266565361063, 0.3161026393993647, 0.30955889809823756, 0.3028876163401115, 0.29608011542908097, 0.2891267150522811, 0.2820165637975168, 0.27473743095125236, 0.2672754481881163, 0.2596147855798745, 0.25173724028892036, 0.24362170735021405, 0.23524348840829098, 0.22657337331901048, 0.21757639617341185, 0.20821011252597887, 0.19842215133916036, 0.1881466295175174, 0.1772987078092207, 0.16576595478748973, 0.15339388240465374, 0.13995997708121918, 0.1251225688694633, 0.10830622745159332, 0.0883884038442272, 0.062469514665343846])\n",
      "    v12 = declare(fixed, )\n",
      "    v13 = declare(int, )\n",
      "    v14 = declare(int, )\n",
      "    a3 = declare(fixed, size=1)\n",
      "    a4 = declare(fixed, size=1)\n",
      "    a5 = declare(fixed, value=[-1.9800000190734863])\n",
      "    a6 = declare(fixed, value=[2.0])\n",
      "    v15 = declare(int, )\n",
      "    v16 = declare(fixed, value=0.0)\n",
      "    v17 = declare(int, value=0)\n",
      "    v18 = declare(int, value=0)\n",
      "    a7 = declare(bool, value=[False])\n",
      "    v19 = declare(int, value=0)\n",
      "    v20 = declare(int, value=0)\n",
      "    v21 = declare(fixed, )\n",
      "    v22 = declare(fixed, )\n",
      "    v23 = declare(bool, )\n",
      "    v24 = declare(int, value=1)\n",
      "    v25 = declare(bool, )\n",
      "    v26 = declare(fixed, )\n",
      "    v27 = declare(fixed, )\n",
      "    set_dc_offset(\"qC5.z\", \"single\", 0.0341229704477584)\n",
      "    set_dc_offset(\"qD1.z\", \"single\", 0.07022993177795776)\n",
      "    set_dc_offset(\"qD2.z\", \"single\", -0.09177457933911345)\n",
      "    set_dc_offset(\"qD3.z\", \"single\", 0.07233840746457186)\n",
      "    set_dc_offset(\"qA1.z\", \"single\", 0.0)\n",
      "    set_dc_offset(\"qA2.z\", \"single\", 0.0)\n",
      "    set_dc_offset(\"qA3.z\", \"single\", 0.0)\n",
      "    set_dc_offset(\"qA4.z\", \"single\", 0.0)\n",
      "    set_dc_offset(\"qA5.z\", \"single\", 0.0)\n",
      "    set_dc_offset(\"qA6.z\", \"single\", 0.0)\n",
      "    set_dc_offset(\"qB1.z\", \"single\", 0.1372352610174512)\n",
      "    set_dc_offset(\"qB2.z\", \"single\", 0.14555939897889356)\n",
      "    set_dc_offset(\"qB3.z\", \"single\", -0.16708236152554629)\n",
      "    set_dc_offset(\"qB4.z\", \"single\", -0.1689846672578381)\n",
      "    set_dc_offset(\"qB5.z\", \"single\", -0.16749376994731424)\n",
      "    set_dc_offset(\"qC1.z\", \"single\", 0.15537225462055415)\n",
      "    set_dc_offset(\"qC2.z\", \"single\", 0.019288874106698023)\n",
      "    set_dc_offset(\"qC3.z\", \"single\", 0.043542972477646796)\n",
      "    set_dc_offset(\"qC4.z\", \"single\", -0.04948516298238781)\n",
      "    set_dc_offset(\"qD4.z\", \"single\", 0.1755138135010573)\n",
      "    set_dc_offset(\"qD5.z\", \"single\", -0.1431938973797454)\n",
      "    with for_(v6,0,(v6<100),(v6+1)):\n",
      "        advance_input_stream(input_stream_mu)\n",
      "        advance_input_stream(input_stream_sigma)\n",
      "        advance_input_stream(input_stream_max_input_state)\n",
      "        with for_(v7,0,(input_stream_max_input_state>v7),(v7+1)):\n",
      "            advance_input_stream(input_stream_input_state_0)\n",
      "            advance_input_stream(input_stream_max_observables)\n",
      "            advance_input_stream(input_stream_pauli_shots)\n",
      "            with for_(v5,0,(input_stream_max_observables>v5),(v5+1)):\n",
      "                advance_input_stream(input_stream_observable_0)\n",
      "                assign(v9, (36+v6))\n",
      "                with for_(v10,0,(v10<1),(v10+2)):\n",
      "                    with for_(v11,0,(v11<1),(v11+1)):\n",
      "                        assign(v12, Random(v9).rand_fixed())\n",
      "                        assign(v13, Cast.unsafe_cast_int((v12>>19)))\n",
      "                        assign(v14, (Cast.unsafe_cast_int(v12)&524287))\n",
      "                        assign(a3[v11], (input_stream_mu[v11]+((input_stream_sigma[v11]*a2[v13])*a1[(v14&511)])))\n",
      "                        assign(a4[v11], (input_stream_mu[v11]+((input_stream_sigma[v11]*a2[v13])*a1[((v14+128)&511)])))\n",
      "                        assign(a3[v11], Util.cond((a3[v11]<a5[v11]),a5[v11],a3[v11]))\n",
      "                        assign(a3[v11], Util.cond((a3[v11]>a6[v11]),a6[v11],a3[v11]))\n",
      "                        assign(a4[v11], Util.cond((a4[v11]<a5[v11]),a5[v11],a4[v11]))\n",
      "                        assign(a4[v11], Util.cond((a4[v11]>a6[v11]),a6[v11],a4[v11]))\n",
      "                    with for_(v11,0,(v11<2),(v11+1)):\n",
      "                        assign(v1, Util.cond((v11==0),a3[0],a4[0]))\n",
      "                        with for_(v8,0,(v8<2),(v8+1)):\n",
      "                            assign(input_stream_reward[v8], 0)\n",
      "                        assign(v8, 0)\n",
      "                        with for_(v15,0,(input_stream_pauli_shots>v15),(v15+1)):\n",
      "                            assign(v16, v1)\n",
      "                            assign(v17, input_stream_input_state_0)\n",
      "                            assign(v18, input_stream_observable_0)\n",
      "                            align(\"qC5.resonator\", \"qC5.xy\", \"qC5.z\")\n",
      "                            assign(v24, 1)\n",
      "                            align(\"qC5.resonator\", \"qC5.xy\")\n",
      "                            measure(\"readout\", \"qC5.resonator\", dual_demod.full(\"iw1\", \"iw2\", v21), dual_demod.full(\"iw3\", \"iw1\", v22))\n",
      "                            assign(v23, (v21>0.0008518667239775021))\n",
      "                            wait(1000, \"qC5.resonator\")\n",
      "                            align(\"qC5.resonator\", \"qC5.xy\")\n",
      "                            play(\"x180_DragCosine\", \"qC5.xy\", condition=v23)\n",
      "                            align(\"qC5.resonator\", \"qC5.xy\")\n",
      "                            with while_(broadcast.and_((v21>0.0006782788720361171), (v24<5))):\n",
      "                                align(\"qC5.resonator\", \"qC5.xy\")\n",
      "                                measure(\"readout\", \"qC5.resonator\", dual_demod.full(\"iw1\", \"iw2\", v21), dual_demod.full(\"iw3\", \"iw1\", v22))\n",
      "                                assign(v23, (v21>0.0008518667239775021))\n",
      "                                wait(1000, \"qC5.resonator\")\n",
      "                                align(\"qC5.resonator\", \"qC5.xy\")\n",
      "                                play(\"x180_DragCosine\", \"qC5.xy\", condition=v23)\n",
      "                                align(\"qC5.resonator\", \"qC5.xy\")\n",
      "                                assign(v24, (v24+1))\n",
      "                            align(\"qC5.resonator\", \"qC5.xy\")\n",
      "                            align(\"qC5.resonator\", \"qC5.xy\", \"qC5.z\")\n",
      "                            assign(v19, v17)\n",
      "                            with if_((v19==0), unsafe=True):\n",
      "                                align(\"qC5.resonator\", \"qC5.xy\", \"qC5.z\")\n",
      "                                wait(4, \"qC5.xy\", \"qC5.z\", \"qC5.resonator\")\n",
      "                                align(\"qC5.resonator\", \"qC5.xy\", \"qC5.z\")\n",
      "                            with elif_((v19==1)):\n",
      "                                align(\"qC5.resonator\", \"qC5.xy\", \"qC5.z\")\n",
      "                                play(\"x180_DragCosine\", \"qC5.xy\")\n",
      "                                align(\"qC5.resonator\", \"qC5.xy\", \"qC5.z\")\n",
      "                            with elif_((v19==2)):\n",
      "                                align(\"qC5.resonator\", \"qC5.xy\", \"qC5.z\")\n",
      "                                frame_rotation_2pi(0.25, \"qC5.xy\")\n",
      "                                align(\"qC5.resonator\", \"qC5.xy\", \"qC5.z\")\n",
      "                                align(\"qC5.resonator\", \"qC5.xy\", \"qC5.z\")\n",
      "                                play(\"x90_DragCosine\", \"qC5.xy\")\n",
      "                                align(\"qC5.resonator\", \"qC5.xy\", \"qC5.z\")\n",
      "                                align(\"qC5.resonator\", \"qC5.xy\", \"qC5.z\")\n",
      "                                frame_rotation_2pi(0.25, \"qC5.xy\")\n",
      "                                align(\"qC5.resonator\", \"qC5.xy\", \"qC5.z\")\n",
      "                            with elif_((v19==3)):\n",
      "                                align(\"qC5.resonator\", \"qC5.xy\", \"qC5.z\")\n",
      "                                frame_rotation_2pi(0.25, \"qC5.xy\")\n",
      "                                align(\"qC5.resonator\", \"qC5.xy\", \"qC5.z\")\n",
      "                                align(\"qC5.resonator\", \"qC5.xy\", \"qC5.z\")\n",
      "                                play(\"x90_DragCosine\", \"qC5.xy\")\n",
      "                                align(\"qC5.resonator\", \"qC5.xy\", \"qC5.z\")\n",
      "                                align(\"qC5.resonator\", \"qC5.xy\", \"qC5.z\")\n",
      "                                frame_rotation_2pi(-0.5, \"qC5.xy\")\n",
      "                                align(\"qC5.resonator\", \"qC5.xy\", \"qC5.z\")\n",
      "                            align(\"qC5.resonator\", \"qC5.xy\", \"qC5.z\")\n",
      "                            play(\"x180_DragCosine\"*amp(v16), \"qC5.xy\")\n",
      "                            align(\"qC5.resonator\", \"qC5.xy\", \"qC5.z\")\n",
      "                            assign(v20, v18)\n",
      "                            with if_((v20==0), unsafe=True):\n",
      "                                align(\"qC5.resonator\", \"qC5.xy\", \"qC5.z\")\n",
      "                                wait(4, \"qC5.xy\", \"qC5.z\", \"qC5.resonator\")\n",
      "                                align(\"qC5.resonator\", \"qC5.xy\", \"qC5.z\")\n",
      "                            with elif_((v20==1)):\n",
      "                                align(\"qC5.resonator\", \"qC5.xy\", \"qC5.z\")\n",
      "                                frame_rotation_2pi(0.25, \"qC5.xy\")\n",
      "                                align(\"qC5.resonator\", \"qC5.xy\", \"qC5.z\")\n",
      "                                align(\"qC5.resonator\", \"qC5.xy\", \"qC5.z\")\n",
      "                                play(\"x90_DragCosine\", \"qC5.xy\")\n",
      "                                align(\"qC5.resonator\", \"qC5.xy\", \"qC5.z\")\n",
      "                                align(\"qC5.resonator\", \"qC5.xy\", \"qC5.z\")\n",
      "                                frame_rotation_2pi(0.25, \"qC5.xy\")\n",
      "                                align(\"qC5.resonator\", \"qC5.xy\", \"qC5.z\")\n",
      "                            with elif_((v20==2)):\n",
      "                                align(\"qC5.resonator\", \"qC5.xy\", \"qC5.z\")\n",
      "                                play(\"x90_DragCosine\", \"qC5.xy\")\n",
      "                                align(\"qC5.resonator\", \"qC5.xy\", \"qC5.z\")\n",
      "                                align(\"qC5.resonator\", \"qC5.xy\", \"qC5.z\")\n",
      "                                frame_rotation_2pi(0.25, \"qC5.xy\")\n",
      "                                align(\"qC5.resonator\", \"qC5.xy\", \"qC5.z\")\n",
      "                            align(\"qC5.resonator\", \"qC5.xy\", \"qC5.z\")\n",
      "                            measure(\"readout\", \"qC5.resonator\", dual_demod.full(\"iw1\", \"iw2\", v26), dual_demod.full(\"iw3\", \"iw1\", v27))\n",
      "                            assign(v25, (v26>0.0008518667239775021))\n",
      "                            align(\"qC5.resonator\", \"qC5.xy\", \"qC5.z\")\n",
      "                            assign(a7[0], v25)\n",
      "                            assign(v8, (v8+(1*Cast.to_int(a7[0]))))\n",
      "                            assign(input_stream_reward[v8], (input_stream_reward[v8]+1))\n",
      "                            assign(v8, 0)\n",
      "                        r1 = declare_stream()\n",
      "                        save(input_stream_reward[0], r1)\n",
      "                        save(input_stream_reward[1], r1)\n",
      "    with stream_processing():\n",
      "        r1.buffer(1, 2).save_all(\"reward\")\n",
      "\n",
      "\n",
      "config = None\n",
      "\n",
      "loaded_config = None\n",
      "\n",
      "\n"
     ]
    }
   ],
   "execution_count": 21
  },
  {
   "cell_type": "code",
   "id": "74f6e939d47b47df",
   "metadata": {
    "ExecuteTime": {
     "end_time": "2025-06-27T02:24:15.033467Z",
     "start_time": "2025-06-27T02:24:15.014441Z"
    }
   },
   "source": [
    "reward.get_reward_data(\n",
    "    q_env.circuit, np.zeros((q_env.batch_size, q_env.n_actions)), q_env.target, q_env.config\n",
    ")"
   ],
   "outputs": [
    {
     "data": {
      "text/plain": [
       "StateRewardDataList([StateRewardData(pub=EstimatorPub(<(1,)>), pauli_sampling=10, id_coeff=4.0, input_circuit=<qiskit.circuit.quantumcircuit.QuantumCircuit object at 0x309ae2000>, observables=SparsePauliOp(['Z'],\n",
       "              coeffs=[-6.+0.j]), n_reps=1, input_indices=(0,), observables_indices=[(0,)])])"
      ]
     },
     "execution_count": 28,
     "metadata": {},
     "output_type": "execute_result"
    }
   ],
   "execution_count": 28
  },
  {
   "cell_type": "code",
   "id": "92004f1ce40479d4",
   "metadata": {
    "ExecuteTime": {
     "end_time": "2025-06-27T02:36:42.074382Z",
     "start_time": "2025-06-27T02:36:41.325640Z"
    }
   },
   "source": [
    "ppo_config = PPOConfig.from_yaml(\"agent_config.yaml\")\n",
    "ppo_agent = CustomQMPPO(ppo_config, rescaled_env)\n",
    "\n",
    "ppo_training = TrainingConfig(num_updates)\n",
    "ppo_settings = TrainFunctionSettings(plot_real_time=True, print_debug=True, num_prints=10)"
   ],
   "outputs": [],
   "execution_count": 22
  },
  {
   "cell_type": "code",
   "id": "d27ceb5f8f93ffda",
   "metadata": {
    "ExecuteTime": {
     "end_time": "2025-06-27T02:36:42.966966Z",
     "start_time": "2025-06-27T02:36:42.964279Z"
    }
   },
   "source": [
    "q_env.reward_data"
   ],
   "outputs": [],
   "execution_count": 23
  },
  {
   "metadata": {
    "ExecuteTime": {
     "end_time": "2025-06-27T02:36:47.353634Z",
     "start_time": "2025-06-27T02:36:44.232479Z"
    }
   },
   "cell_type": "code",
   "source": "print(backend.qmm.get_jobs(status=\"Running\"))",
   "id": "51cf4df459a0ed50",
   "outputs": [
    {
     "name": "stdout",
     "output_type": "stream",
     "text": [
      "2025-06-27 10:36:45,959 - qm - INFO     - Performing health check\n",
      "2025-06-27 10:36:45 INFO Performing health check\n",
      "2025-06-27 10:36:46,865 - qm - INFO     - Cluster healthcheck completed successfully.\n",
      "2025-06-27 10:36:46 INFO Cluster healthcheck completed successfully.\n",
      "[]\n"
     ]
    }
   ],
   "execution_count": 24
  },
  {
   "cell_type": "code",
   "id": "e8824a4e9bda9681",
   "metadata": {
    "ExecuteTime": {
     "end_time": "2025-06-27T02:36:59.320238Z",
     "start_time": "2025-06-27T02:36:48.316524Z"
    }
   },
   "source": [
    "job = q_env.start_program()"
   ],
   "outputs": [
    {
     "name": "stderr",
     "output_type": "stream",
     "text": [
      "/Users/arthurostrauss/Library/CloudStorage/OneDrive-QMMachinesLTD/GitHub/quam/quam/components/channels.py:647: UserWarning: The 'thread' element argument is deprecated from qm.qua >= 1.2.2. Use 'core' instead.\n",
      "  warnings.warn(\n"
     ]
    },
    {
     "name": "stdout",
     "output_type": "stream",
     "text": [
      "2025-06-27 10:36:51,015 - qm - INFO     - Clearing queue\n",
      "2025-06-27 10:36:51 INFO Clearing queue\n",
      "2025-06-27 10:36:52,443 - qm - INFO     - Adding program to queue.\n",
      "2025-06-27 10:36:52 INFO Adding program to queue.\n"
     ]
    }
   ],
   "execution_count": 25
  },
  {
   "cell_type": "code",
   "id": "b3197802809df584",
   "metadata": {
    "ExecuteTime": {
     "end_time": "2025-06-27T02:26:30.235810Z",
     "start_time": "2025-06-27T02:26:29.564377Z"
    }
   },
   "source": [
    "job.status"
   ],
   "outputs": [
    {
     "data": {
      "text/plain": [
       "'running'"
      ]
     },
     "execution_count": 39,
     "metadata": {},
     "output_type": "execute_result"
    }
   ],
   "execution_count": 39
  },
  {
   "cell_type": "code",
   "id": "7f369fd49eb21c1b",
   "metadata": {
    "ExecuteTime": {
     "end_time": "2025-06-27T02:42:03.079887Z",
     "start_time": "2025-06-27T02:36:59.927654Z"
    }
   },
   "source": [
    "q_env.std_action = np.array([0.01], dtype=np.float32)\n",
    "reward = []\n",
    "q_env.step_tracker = 0\n",
    "q_env.clear_history()\n",
    "for action in np.linspace(-1.0, 1.0, 50):\n",
    "    q_env.mean_action = rescaled_env.action(np.array([action], dtype=np.float32))\n",
    "    print(q_env.step(np.array([action], dtype=np.float32))[1])\n",
    "    reward.append(q_env.reward_history[-1])\n",
    "    q_env.step_tracker += 1"
   ],
   "outputs": [
    {
     "name": "stdout",
     "output_type": "stream",
     "text": [
      "Pushing value [-1.9800000190734863] to mu through input stream.\n",
      "Pushing value [0.009999999776482582] to sigma through input stream.\n",
      "Just pushed policy parameters to OPX: [-1.9800000190734863] [0.009999999776482582]\n",
      "Pushing value 1 to max_input_state through input stream.\n",
      "Pushing value 0 to input_state_0 through input stream.\n",
      "Pushing value 1 to max_observables through input stream.\n",
      "Pushing value 3000 to pauli_shots through input stream.\n",
      "Pushing value 0 to observable_0 through input stream.\n",
      "Fetching value from reward with input type INPUT_STREAM\n",
      "Fetched value: [[[2679  321]]]\n",
      "[0.17288931]\n",
      "Pushing value [-1.898775577545166] to mu through input stream.\n",
      "Pushing value [0.009999999776482582] to sigma through input stream.\n",
      "Just pushed policy parameters to OPX: [-1.898775577545166] [0.009999999776482582]\n",
      "Pushing value 1 to max_input_state through input stream.\n",
      "Pushing value 0 to input_state_0 through input stream.\n",
      "Pushing value 1 to max_observables through input stream.\n",
      "Pushing value 3000 to pauli_shots through input stream.\n",
      "Pushing value 0 to observable_0 through input stream.\n",
      "Fetching value from reward with input type INPUT_STREAM\n",
      "Fetched value: [[[2681  319]]]\n",
      "[0.1723723]\n",
      "Pushing value [-1.8175510168075562] to mu through input stream.\n",
      "Pushing value [0.009999999776482582] to sigma through input stream.\n",
      "Just pushed policy parameters to OPX: [-1.8175510168075562] [0.009999999776482582]\n",
      "Pushing value 1 to max_input_state through input stream.\n",
      "Pushing value 0 to input_state_0 through input stream.\n",
      "Pushing value 1 to max_observables through input stream.\n",
      "Pushing value 3000 to pauli_shots through input stream.\n",
      "Pushing value 0 to observable_0 through input stream.\n",
      "Fetching value from reward with input type INPUT_STREAM\n",
      "Fetched value: [[[2640  360]]]\n",
      "[0.18309616]\n",
      "Pushing value [-1.7363265752792358] to mu through input stream.\n",
      "Pushing value [0.009999999776482582] to sigma through input stream.\n",
      "Just pushed policy parameters to OPX: [-1.7363265752792358] [0.009999999776482582]\n",
      "Pushing value 1 to max_input_state through input stream.\n",
      "Pushing value 0 to input_state_0 through input stream.\n",
      "Pushing value 1 to max_observables through input stream.\n",
      "Pushing value 2000 to pauli_shots through input stream.\n",
      "Pushing value 0 to observable_0 through input stream.\n",
      "Fetching value from reward with input type INPUT_STREAM\n",
      "Fetched value: [[[2528  472]]]\n",
      "[1.12998647]\n",
      "Pushing value [-1.6551021337509155] to mu through input stream.\n",
      "Pushing value [0.009999999776482582] to sigma through input stream.\n",
      "Just pushed policy parameters to OPX: [-1.6551021337509155] [0.009999999776482582]\n",
      "Pushing value 1 to max_input_state through input stream.\n",
      "Pushing value 0 to input_state_0 through input stream.\n",
      "Pushing value 1 to max_observables through input stream.\n",
      "Pushing value 2000 to pauli_shots through input stream.\n",
      "Pushing value 0 to observable_0 through input stream.\n",
      "Fetching value from reward with input type INPUT_STREAM\n",
      "Fetched value: [[[2277  723]]]\n",
      "[2.1426675]\n",
      "Pushing value [-1.5738775730133057] to mu through input stream.\n",
      "Pushing value [0.009999999776482582] to sigma through input stream.\n",
      "Just pushed policy parameters to OPX: [-1.5738775730133057] [0.009999999776482582]\n",
      "Pushing value 1 to max_input_state through input stream.\n",
      "Pushing value 0 to input_state_0 through input stream.\n",
      "Pushing value 1 to max_observables through input stream.\n",
      "Pushing value 2500 to pauli_shots through input stream.\n",
      "Pushing value 0 to observable_0 through input stream.\n",
      "Fetching value from reward with input type INPUT_STREAM\n",
      "Fetched value: [[[2444  556]]]\n",
      "[0.50214926]\n",
      "Pushing value [-1.4926531314849854] to mu through input stream.\n",
      "Pushing value [0.009999999776482582] to sigma through input stream.\n",
      "Just pushed policy parameters to OPX: [-1.4926531314849854] [0.009999999776482582]\n",
      "Pushing value 1 to max_input_state through input stream.\n",
      "Pushing value 0 to input_state_0 through input stream.\n",
      "Pushing value 1 to max_observables through input stream.\n",
      "Pushing value 2000 to pauli_shots through input stream.\n",
      "Pushing value 0 to observable_0 through input stream.\n",
      "Fetching value from reward with input type INPUT_STREAM\n",
      "Fetched value: [[[1466  534]]]\n",
      "[6.]\n",
      "Pushing value [-1.411428689956665] to mu through input stream.\n",
      "Pushing value [0.009999999776482582] to sigma through input stream.\n",
      "Just pushed policy parameters to OPX: [-1.411428689956665] [0.009999999776482582]\n",
      "Pushing value 1 to max_input_state through input stream.\n",
      "Pushing value 0 to input_state_0 through input stream.\n",
      "Pushing value 1 to max_observables through input stream.\n",
      "Pushing value 2500 to pauli_shots through input stream.\n",
      "Pushing value 0 to observable_0 through input stream.\n",
      "Fetching value from reward with input type INPUT_STREAM\n",
      "Fetched value: [[[1435  565]]]\n",
      "[0.66254074]\n",
      "Pushing value [-1.3302041292190552] to mu through input stream.\n",
      "Pushing value [0.009999999776482582] to sigma through input stream.\n",
      "Just pushed policy parameters to OPX: [-1.3302041292190552] [0.009999999776482582]\n",
      "Pushing value 1 to max_input_state through input stream.\n",
      "Pushing value 0 to input_state_0 through input stream.\n",
      "Pushing value 1 to max_observables through input stream.\n",
      "Pushing value 3000 to pauli_shots through input stream.\n",
      "Pushing value 0 to observable_0 through input stream.\n",
      "Fetching value from reward with input type INPUT_STREAM\n",
      "Fetched value: [[[1243  757]]]\n",
      "[0.46117501]\n",
      "Pushing value [-1.2489796876907349] to mu through input stream.\n",
      "Pushing value [0.009999999776482582] to sigma through input stream.\n",
      "Just pushed policy parameters to OPX: [-1.2489796876907349] [0.009999999776482582]\n",
      "Pushing value 1 to max_input_state through input stream.\n",
      "Pushing value 0 to input_state_0 through input stream.\n",
      "Pushing value 1 to max_observables through input stream.\n",
      "Pushing value 2500 to pauli_shots through input stream.\n",
      "Pushing value 0 to observable_0 through input stream.\n",
      "Fetching value from reward with input type INPUT_STREAM\n",
      "Fetched value: [[[1275  725]]]\n",
      "[0.8616973]\n",
      "Pushing value [-1.167755126953125] to mu through input stream.\n",
      "Pushing value [0.009999999776482582] to sigma through input stream.\n",
      "Just pushed policy parameters to OPX: [-1.167755126953125] [0.009999999776482582]\n",
      "Pushing value 1 to max_input_state through input stream.\n",
      "Pushing value 0 to input_state_0 through input stream.\n",
      "Pushing value 1 to max_observables through input stream.\n",
      "Pushing value 2000 to pauli_shots through input stream.\n",
      "Pushing value 0 to observable_0 through input stream.\n",
      "Fetching value from reward with input type INPUT_STREAM\n",
      "Fetched value: [[[1251 1249]]]\n",
      "[6.]\n",
      "Pushing value [-1.0865305662155151] to mu through input stream.\n",
      "Pushing value [0.009999999776482582] to sigma through input stream.\n",
      "Just pushed policy parameters to OPX: [-1.0865305662155151] [0.009999999776482582]\n",
      "Pushing value 1 to max_input_state through input stream.\n",
      "Pushing value 0 to input_state_0 through input stream.\n",
      "Pushing value 1 to max_observables through input stream.\n",
      "Pushing value 2000 to pauli_shots through input stream.\n",
      "Pushing value 0 to observable_0 through input stream.\n",
      "Fetching value from reward with input type INPUT_STREAM\n",
      "Fetched value: [[[1314 1186]]]\n",
      "[6.]\n",
      "Pushing value [-1.0053061246871948] to mu through input stream.\n",
      "Pushing value [0.009999999776482582] to sigma through input stream.\n",
      "Just pushed policy parameters to OPX: [-1.0053061246871948] [0.009999999776482582]\n",
      "Pushing value 1 to max_input_state through input stream.\n",
      "Pushing value 0 to input_state_0 through input stream.\n",
      "Pushing value 1 to max_observables through input stream.\n",
      "Pushing value 3000 to pauli_shots through input stream.\n",
      "Pushing value 0 to observable_0 through input stream.\n",
      "Fetching value from reward with input type INPUT_STREAM\n",
      "Fetched value: [[[ 822 1178]]]\n",
      "[1.03058409]\n",
      "Pushing value [-0.9240817427635193] to mu through input stream.\n",
      "Pushing value [0.009999999776482582] to sigma through input stream.\n",
      "Just pushed policy parameters to OPX: [-0.9240817427635193] [0.009999999776482582]\n",
      "Pushing value 1 to max_input_state through input stream.\n",
      "Pushing value 0 to input_state_0 through input stream.\n",
      "Pushing value 1 to max_observables through input stream.\n",
      "Pushing value 2500 to pauli_shots through input stream.\n",
      "Pushing value 0 to observable_0 through input stream.\n",
      "Fetching value from reward with input type INPUT_STREAM\n",
      "Fetched value: [[[ 833 1167]]]\n",
      "[6.]\n",
      "Pushing value [-0.8428571820259094] to mu through input stream.\n",
      "Pushing value [0.009999999776482582] to sigma through input stream.\n",
      "Just pushed policy parameters to OPX: [-0.8428571820259094] [0.009999999776482582]\n",
      "Pushing value 1 to max_input_state through input stream.\n",
      "Pushing value 0 to input_state_0 through input stream.\n",
      "Pushing value 1 to max_observables through input stream.\n",
      "Pushing value 2500 to pauli_shots through input stream.\n",
      "Pushing value 0 to observable_0 through input stream.\n",
      "Fetching value from reward with input type INPUT_STREAM\n",
      "Fetched value: [[[ 853 1647]]]\n",
      "[6.]\n",
      "Pushing value [-0.7616326808929443] to mu through input stream.\n",
      "Pushing value [0.009999999776482582] to sigma through input stream.\n",
      "Just pushed policy parameters to OPX: [-0.7616326808929443] [0.009999999776482582]\n",
      "Pushing value 1 to max_input_state through input stream.\n",
      "Pushing value 0 to input_state_0 through input stream.\n",
      "Pushing value 1 to max_observables through input stream.\n",
      "Pushing value 2000 to pauli_shots through input stream.\n",
      "Pushing value 0 to observable_0 through input stream.\n",
      "Fetching value from reward with input type INPUT_STREAM\n",
      "Fetched value: [[[ 811 1689]]]\n",
      "[6.]\n",
      "Pushing value [-0.680408239364624] to mu through input stream.\n",
      "Pushing value [0.009999999776482582] to sigma through input stream.\n",
      "Just pushed policy parameters to OPX: [-0.680408239364624] [0.009999999776482582]\n",
      "Pushing value 1 to max_input_state through input stream.\n",
      "Pushing value 0 to input_state_0 through input stream.\n",
      "Pushing value 1 to max_observables through input stream.\n",
      "Pushing value 2000 to pauli_shots through input stream.\n",
      "Pushing value 0 to observable_0 through input stream.\n",
      "Fetching value from reward with input type INPUT_STREAM\n",
      "Fetched value: [[[ 747 2253]]]\n",
      "[6.]\n",
      "Pushing value [-0.5991837382316589] to mu through input stream.\n",
      "Pushing value [0.009999999776482582] to sigma through input stream.\n",
      "Just pushed policy parameters to OPX: [-0.5991837382316589] [0.009999999776482582]\n",
      "Pushing value 1 to max_input_state through input stream.\n",
      "Pushing value 0 to input_state_0 through input stream.\n",
      "Pushing value 1 to max_observables through input stream.\n",
      "Pushing value 2000 to pauli_shots through input stream.\n",
      "Pushing value 0 to observable_0 through input stream.\n",
      "Fetching value from reward with input type INPUT_STREAM\n",
      "Fetched value: [[[ 677 2323]]]\n",
      "[6.]\n",
      "Pushing value [-0.5179592370986938] to mu through input stream.\n",
      "Pushing value [0.009999999776482582] to sigma through input stream.\n",
      "Just pushed policy parameters to OPX: [-0.5179592370986938] [0.009999999776482582]\n",
      "Pushing value 1 to max_input_state through input stream.\n",
      "Pushing value 0 to input_state_0 through input stream.\n",
      "Pushing value 1 to max_observables through input stream.\n",
      "Pushing value 2000 to pauli_shots through input stream.\n",
      "Pushing value 0 to observable_0 through input stream.\n",
      "Fetching value from reward with input type INPUT_STREAM\n",
      "Fetched value: [[[ 453 2047]]]\n",
      "[6.]\n",
      "Pushing value [-0.43673476576805115] to mu through input stream.\n",
      "Pushing value [0.009999999776482582] to sigma through input stream.\n",
      "Just pushed policy parameters to OPX: [-0.43673476576805115] [0.009999999776482582]\n",
      "Pushing value 1 to max_input_state through input stream.\n",
      "Pushing value 0 to input_state_0 through input stream.\n",
      "Pushing value 1 to max_observables through input stream.\n",
      "Pushing value 3000 to pauli_shots through input stream.\n",
      "Pushing value 0 to observable_0 through input stream.\n",
      "Fetching value from reward with input type INPUT_STREAM\n",
      "Fetched value: [[[ 389 2111]]]\n",
      "[6.]\n",
      "Pushing value [-0.35551026463508606] to mu through input stream.\n",
      "Pushing value [0.009999999776482582] to sigma through input stream.\n",
      "Just pushed policy parameters to OPX: [-0.35551026463508606] [0.009999999776482582]\n",
      "Pushing value 1 to max_input_state through input stream.\n",
      "Pushing value 0 to input_state_0 through input stream.\n",
      "Pushing value 1 to max_observables through input stream.\n",
      "Pushing value 2000 to pauli_shots through input stream.\n",
      "Pushing value 0 to observable_0 through input stream.\n",
      "Fetching value from reward with input type INPUT_STREAM\n",
      "Fetched value: [[[ 267 1733]]]\n",
      "[6.]\n",
      "Pushing value [-0.27428579330444336] to mu through input stream.\n",
      "Pushing value [0.009999999776482582] to sigma through input stream.\n",
      "Just pushed policy parameters to OPX: [-0.27428579330444336] [0.009999999776482582]\n",
      "Pushing value 1 to max_input_state through input stream.\n",
      "Pushing value 0 to input_state_0 through input stream.\n",
      "Pushing value 1 to max_observables through input stream.\n",
      "Pushing value 3500 to pauli_shots through input stream.\n",
      "Pushing value 0 to observable_0 through input stream.\n",
      "Fetching value from reward with input type INPUT_STREAM\n",
      "Fetched value: [[[ 246 1754]]]\n",
      "[6.]\n",
      "Pushing value [-0.19306130707263947] to mu through input stream.\n",
      "Pushing value [0.009999999776482582] to sigma through input stream.\n",
      "Just pushed policy parameters to OPX: [-0.19306130707263947] [0.009999999776482582]\n",
      "Pushing value 1 to max_input_state through input stream.\n",
      "Pushing value 0 to input_state_0 through input stream.\n",
      "Pushing value 1 to max_observables through input stream.\n",
      "Pushing value 2500 to pauli_shots through input stream.\n",
      "Pushing value 0 to observable_0 through input stream.\n",
      "Fetching value from reward with input type INPUT_STREAM\n",
      "Fetched value: [[[ 203 1797]]]\n",
      "[6.]\n",
      "Pushing value [-0.11183680593967438] to mu through input stream.\n",
      "Pushing value [0.009999999776482582] to sigma through input stream.\n",
      "Just pushed policy parameters to OPX: [-0.11183680593967438] [0.009999999776482582]\n",
      "Pushing value 1 to max_input_state through input stream.\n",
      "Pushing value 0 to input_state_0 through input stream.\n",
      "Pushing value 1 to max_observables through input stream.\n",
      "Pushing value 3500 to pauli_shots through input stream.\n",
      "Pushing value 0 to observable_0 through input stream.\n",
      "Fetching value from reward with input type INPUT_STREAM\n",
      "Fetched value: [[[ 183 1817]]]\n",
      "[6.]\n",
      "Pushing value [-0.030612315982580185] to mu through input stream.\n",
      "Pushing value [0.009999999776482582] to sigma through input stream.\n",
      "Just pushed policy parameters to OPX: [-0.030612315982580185] [0.009999999776482582]\n",
      "Pushing value 1 to max_input_state through input stream.\n",
      "Pushing value 0 to input_state_0 through input stream.\n",
      "Pushing value 1 to max_observables through input stream.\n",
      "Pushing value 2000 to pauli_shots through input stream.\n",
      "Pushing value 0 to observable_0 through input stream.\n",
      "Fetching value from reward with input type INPUT_STREAM\n",
      "Fetched value: [[[ 244 2756]]]\n",
      "[6.]\n",
      "Pushing value [0.05061217024922371] to mu through input stream.\n",
      "Pushing value [0.009999999776482582] to sigma through input stream.\n",
      "Just pushed policy parameters to OPX: [0.05061217024922371] [0.009999999776482582]\n",
      "Pushing value 1 to max_input_state through input stream.\n",
      "Pushing value 0 to input_state_0 through input stream.\n",
      "Pushing value 1 to max_observables through input stream.\n",
      "Pushing value 500 to pauli_shots through input stream.\n",
      "Pushing value 0 to observable_0 through input stream.\n",
      "Fetching value from reward with input type INPUT_STREAM\n",
      "Fetched value: [[[ 218 2782]]]\n",
      "[6.]\n",
      "Pushing value [0.1318366527557373] to mu through input stream.\n",
      "Pushing value [0.009999999776482582] to sigma through input stream.\n",
      "Just pushed policy parameters to OPX: [0.1318366527557373] [0.009999999776482582]\n",
      "Pushing value 1 to max_input_state through input stream.\n",
      "Pushing value 0 to input_state_0 through input stream.\n",
      "Pushing value 1 to max_observables through input stream.\n",
      "Pushing value 3000 to pauli_shots through input stream.\n",
      "Pushing value 0 to observable_0 through input stream.\n",
      "Fetching value from reward with input type INPUT_STREAM\n",
      "Fetched value: [[[ 248 2252]]]\n",
      "[6.]\n",
      "Pushing value [0.2130611538887024] to mu through input stream.\n",
      "Pushing value [0.009999999776482582] to sigma through input stream.\n",
      "Just pushed policy parameters to OPX: [0.2130611538887024] [0.009999999776482582]\n",
      "Pushing value 1 to max_input_state through input stream.\n",
      "Pushing value 0 to input_state_0 through input stream.\n",
      "Pushing value 1 to max_observables through input stream.\n",
      "Pushing value 3000 to pauli_shots through input stream.\n",
      "Pushing value 0 to observable_0 through input stream.\n",
      "Fetching value from reward with input type INPUT_STREAM\n",
      "Fetched value: [[[ 256 2244]]]\n",
      "[6.]\n",
      "Pushing value [0.2942856550216675] to mu through input stream.\n",
      "Pushing value [0.009999999776482582] to sigma through input stream.\n",
      "Just pushed policy parameters to OPX: [0.2942856550216675] [0.009999999776482582]\n",
      "Pushing value 1 to max_input_state through input stream.\n",
      "Pushing value 0 to input_state_0 through input stream.\n",
      "Pushing value 1 to max_observables through input stream.\n",
      "Pushing value 3000 to pauli_shots through input stream.\n",
      "Pushing value 0 to observable_0 through input stream.\n",
      "Fetching value from reward with input type INPUT_STREAM\n",
      "Fetched value: [[[ 387 2113]]]\n",
      "[6.]\n",
      "Pushing value [0.3755101263523102] to mu through input stream.\n",
      "Pushing value [0.009999999776482582] to sigma through input stream.\n",
      "Just pushed policy parameters to OPX: [0.3755101263523102] [0.009999999776482582]\n",
      "Pushing value 1 to max_input_state through input stream.\n",
      "Pushing value 0 to input_state_0 through input stream.\n",
      "Pushing value 1 to max_observables through input stream.\n",
      "Pushing value 1500 to pauli_shots through input stream.\n",
      "Pushing value 0 to observable_0 through input stream.\n",
      "Fetching value from reward with input type INPUT_STREAM\n",
      "Fetched value: [[[ 334 2166]]]\n",
      "[6.]\n",
      "Pushing value [0.4567345976829529] to mu through input stream.\n",
      "Pushing value [0.009999999776482582] to sigma through input stream.\n",
      "Just pushed policy parameters to OPX: [0.4567345976829529] [0.009999999776482582]\n",
      "Pushing value 1 to max_input_state through input stream.\n",
      "Pushing value 0 to input_state_0 through input stream.\n",
      "Pushing value 1 to max_observables through input stream.\n",
      "Pushing value 3000 to pauli_shots through input stream.\n",
      "Pushing value 0 to observable_0 through input stream.\n",
      "Fetching value from reward with input type INPUT_STREAM\n",
      "Fetched value: [[[ 442 1558]]]\n",
      "[6.]\n",
      "Pushing value [0.537959098815918] to mu through input stream.\n",
      "Pushing value [0.009999999776482582] to sigma through input stream.\n",
      "Just pushed policy parameters to OPX: [0.537959098815918] [0.009999999776482582]\n",
      "Pushing value 1 to max_input_state through input stream.\n",
      "Pushing value 0 to input_state_0 through input stream.\n",
      "Pushing value 1 to max_observables through input stream.\n",
      "Pushing value 2000 to pauli_shots through input stream.\n",
      "Pushing value 0 to observable_0 through input stream.\n",
      "Fetching value from reward with input type INPUT_STREAM\n",
      "Fetched value: [[[ 422 1578]]]\n",
      "[6.]\n",
      "Pushing value [0.6191835999488831] to mu through input stream.\n",
      "Pushing value [0.009999999776482582] to sigma through input stream.\n",
      "Just pushed policy parameters to OPX: [0.6191835999488831] [0.009999999776482582]\n",
      "Pushing value 1 to max_input_state through input stream.\n",
      "Pushing value 0 to input_state_0 through input stream.\n",
      "Pushing value 1 to max_observables through input stream.\n",
      "Pushing value 2000 to pauli_shots through input stream.\n",
      "Pushing value 0 to observable_0 through input stream.\n",
      "Fetching value from reward with input type INPUT_STREAM\n",
      "Fetched value: [[[ 601 1399]]]\n",
      "[6.]\n",
      "Pushing value [0.7004081010818481] to mu through input stream.\n",
      "Pushing value [0.009999999776482582] to sigma through input stream.\n",
      "Just pushed policy parameters to OPX: [0.7004081010818481] [0.009999999776482582]\n",
      "Pushing value 1 to max_input_state through input stream.\n",
      "Pushing value 0 to input_state_0 through input stream.\n",
      "Pushing value 1 to max_observables through input stream.\n",
      "Pushing value 3500 to pauli_shots through input stream.\n",
      "Pushing value 0 to observable_0 through input stream.\n",
      "Fetching value from reward with input type INPUT_STREAM\n",
      "Fetched value: [[[ 576 1424]]]\n",
      "[0.9863203]\n",
      "Pushing value [0.7816325426101685] to mu through input stream.\n",
      "Pushing value [0.009999999776482582] to sigma through input stream.\n",
      "Just pushed policy parameters to OPX: [0.7816325426101685] [0.009999999776482582]\n",
      "Pushing value 1 to max_input_state through input stream.\n",
      "Pushing value 0 to input_state_0 through input stream.\n",
      "Pushing value 1 to max_observables through input stream.\n",
      "Pushing value 2500 to pauli_shots through input stream.\n",
      "Pushing value 0 to observable_0 through input stream.\n",
      "Fetching value from reward with input type INPUT_STREAM\n",
      "Fetched value: [[[ 822 1178]]]\n",
      "[6.]\n",
      "Pushing value [0.8628570437431335] to mu through input stream.\n",
      "Pushing value [0.009999999776482582] to sigma through input stream.\n",
      "Just pushed policy parameters to OPX: [0.8628570437431335] [0.009999999776482582]\n",
      "Pushing value 1 to max_input_state through input stream.\n",
      "Pushing value 0 to input_state_0 through input stream.\n",
      "Pushing value 1 to max_observables through input stream.\n",
      "Pushing value 2000 to pauli_shots through input stream.\n",
      "Pushing value 0 to observable_0 through input stream.\n",
      "Fetching value from reward with input type INPUT_STREAM\n",
      "Fetched value: [[[ 804 1196]]]\n",
      "[6.]\n",
      "Pushing value [0.9440815448760986] to mu through input stream.\n",
      "Pushing value [0.009999999776482582] to sigma through input stream.\n",
      "Just pushed policy parameters to OPX: [0.9440815448760986] [0.009999999776482582]\n",
      "Pushing value 1 to max_input_state through input stream.\n",
      "Pushing value 0 to input_state_0 through input stream.\n",
      "Pushing value 1 to max_observables through input stream.\n",
      "Pushing value 4001 to pauli_shots through input stream.\n",
      "Pushing value 0 to observable_0 through input stream.\n",
      "Fetching value from reward with input type INPUT_STREAM\n",
      "Fetched value: [[[1007  993]]]\n",
      "[0.21781413]\n",
      "Pushing value [1.025305986404419] to mu through input stream.\n",
      "Pushing value [0.009999999776482582] to sigma through input stream.\n",
      "Just pushed policy parameters to OPX: [1.025305986404419] [0.009999999776482582]\n",
      "Pushing value 1 to max_input_state through input stream.\n",
      "Pushing value 0 to input_state_0 through input stream.\n",
      "Pushing value 1 to max_observables through input stream.\n",
      "Pushing value 2500 to pauli_shots through input stream.\n",
      "Pushing value 0 to observable_0 through input stream.\n",
      "Fetching value from reward with input type INPUT_STREAM\n",
      "Fetched value: [[[ 961 1039]]]\n",
      "[6.]\n",
      "Pushing value [1.1065304279327393] to mu through input stream.\n",
      "Pushing value [0.009999999776482582] to sigma through input stream.\n",
      "Just pushed policy parameters to OPX: [1.1065304279327393] [0.009999999776482582]\n",
      "Pushing value 1 to max_input_state through input stream.\n",
      "Pushing value 0 to input_state_0 through input stream.\n",
      "Pushing value 1 to max_observables through input stream.\n",
      "Pushing value 1500 to pauli_shots through input stream.\n",
      "Pushing value 0 to observable_0 through input stream.\n",
      "Fetching value from reward with input type INPUT_STREAM\n",
      "Fetched value: [[[1701 1299]]]\n",
      "[6.]\n",
      "Pushing value [1.1877549886703491] to mu through input stream.\n",
      "Pushing value [0.009999999776482582] to sigma through input stream.\n",
      "Just pushed policy parameters to OPX: [1.1877549886703491] [0.009999999776482582]\n",
      "Pushing value 1 to max_input_state through input stream.\n",
      "Pushing value 0 to input_state_0 through input stream.\n",
      "Pushing value 1 to max_observables through input stream.\n",
      "Pushing value 1500 to pauli_shots through input stream.\n",
      "Pushing value 0 to observable_0 through input stream.\n",
      "Fetching value from reward with input type INPUT_STREAM\n",
      "Fetched value: [[[1849 1151]]]\n",
      "[6.]\n",
      "Pushing value [1.2689794301986694] to mu through input stream.\n",
      "Pushing value [0.009999999776482582] to sigma through input stream.\n",
      "Just pushed policy parameters to OPX: [1.2689794301986694] [0.009999999776482582]\n",
      "Pushing value 1 to max_input_state through input stream.\n",
      "Pushing value 0 to input_state_0 through input stream.\n",
      "Pushing value 1 to max_observables through input stream.\n",
      "Pushing value 3000 to pauli_shots through input stream.\n",
      "Pushing value 0 to observable_0 through input stream.\n",
      "Fetching value from reward with input type INPUT_STREAM\n",
      "Fetched value: [[[1357  643]]]\n",
      "[0.38278991]\n",
      "Pushing value [1.3502039909362793] to mu through input stream.\n",
      "Pushing value [0.009999999776482582] to sigma through input stream.\n",
      "Just pushed policy parameters to OPX: [1.3502039909362793] [0.009999999776482582]\n",
      "Pushing value 1 to max_input_state through input stream.\n",
      "Pushing value 0 to input_state_0 through input stream.\n",
      "Pushing value 1 to max_observables through input stream.\n",
      "Pushing value 2500 to pauli_shots through input stream.\n",
      "Pushing value 0 to observable_0 through input stream.\n",
      "Fetching value from reward with input type INPUT_STREAM\n",
      "Fetched value: [[[1431  569]]]\n",
      "[0.66655273]\n",
      "Pushing value [1.4314285516738892] to mu through input stream.\n",
      "Pushing value [0.009999999776482582] to sigma through input stream.\n",
      "Just pushed policy parameters to OPX: [1.4314285516738892] [0.009999999776482582]\n",
      "Pushing value 1 to max_input_state through input stream.\n",
      "Pushing value 0 to input_state_0 through input stream.\n",
      "Pushing value 1 to max_observables through input stream.\n",
      "Pushing value 2500 to pauli_shots through input stream.\n",
      "Pushing value 0 to observable_0 through input stream.\n",
      "Fetching value from reward with input type INPUT_STREAM\n",
      "Fetched value: [[[2738  762]]]\n",
      "[0.5493111]\n",
      "Pushing value [1.5126529932022095] to mu through input stream.\n",
      "Pushing value [0.009999999776482582] to sigma through input stream.\n",
      "Just pushed policy parameters to OPX: [1.5126529932022095] [0.009999999776482582]\n",
      "Pushing value 1 to max_input_state through input stream.\n",
      "Pushing value 0 to input_state_0 through input stream.\n",
      "Pushing value 1 to max_observables through input stream.\n",
      "Pushing value 2000 to pauli_shots through input stream.\n",
      "Pushing value 0 to observable_0 through input stream.\n",
      "Fetching value from reward with input type INPUT_STREAM\n",
      "Fetched value: [[[2692  808]]]\n",
      "[1.81490325]\n",
      "Pushing value [1.5938774347305298] to mu through input stream.\n",
      "Pushing value [0.009999999776482582] to sigma through input stream.\n",
      "Just pushed policy parameters to OPX: [1.5938774347305298] [0.009999999776482582]\n",
      "Pushing value 1 to max_input_state through input stream.\n",
      "Pushing value 0 to input_state_0 through input stream.\n",
      "Pushing value 1 to max_observables through input stream.\n",
      "Pushing value 3000 to pauli_shots through input stream.\n",
      "Pushing value 0 to observable_0 through input stream.\n",
      "Fetching value from reward with input type INPUT_STREAM\n",
      "Fetched value: [[[2092  408]]]\n",
      "[0.21884803]\n",
      "Pushing value [1.6751019954681396] to mu through input stream.\n",
      "Pushing value [0.009999999776482582] to sigma through input stream.\n",
      "Just pushed policy parameters to OPX: [1.6751019954681396] [0.009999999776482582]\n",
      "Pushing value 1 to max_input_state through input stream.\n",
      "Pushing value 0 to input_state_0 through input stream.\n",
      "Pushing value 1 to max_observables through input stream.\n",
      "Pushing value 500 to pauli_shots through input stream.\n",
      "Pushing value 0 to observable_0 through input stream.\n",
      "Fetching value from reward with input type INPUT_STREAM\n",
      "Fetched value: [[[2031  469]]]\n",
      "[6.]\n",
      "Pushing value [1.75632643699646] to mu through input stream.\n",
      "Pushing value [0.009999999776482582] to sigma through input stream.\n",
      "Just pushed policy parameters to OPX: [1.75632643699646] [0.009999999776482582]\n",
      "Pushing value 1 to max_input_state through input stream.\n",
      "Pushing value 0 to input_state_0 through input stream.\n",
      "Pushing value 1 to max_observables through input stream.\n",
      "Pushing value 1500 to pauli_shots through input stream.\n",
      "Pushing value 0 to observable_0 through input stream.\n",
      "Fetching value from reward with input type INPUT_STREAM\n",
      "Fetched value: [[[3062  438]]]\n",
      "[6.]\n",
      "Pushing value [1.8375508785247803] to mu through input stream.\n",
      "Pushing value [0.009999999776482582] to sigma through input stream.\n",
      "Just pushed policy parameters to OPX: [1.8375508785247803] [0.009999999776482582]\n",
      "Pushing value 1 to max_input_state through input stream.\n",
      "Pushing value 0 to input_state_0 through input stream.\n",
      "Pushing value 1 to max_observables through input stream.\n",
      "Pushing value 2500 to pauli_shots through input stream.\n",
      "Pushing value 0 to observable_0 through input stream.\n",
      "Fetching value from reward with input type INPUT_STREAM\n",
      "Fetched value: [[[3038  462]]]\n",
      "[0.43415218]\n",
      "Pushing value [1.9187754392623901] to mu through input stream.\n",
      "Pushing value [0.009999999776482582] to sigma through input stream.\n",
      "Just pushed policy parameters to OPX: [1.9187754392623901] [0.009999999776482582]\n",
      "Pushing value 1 to max_input_state through input stream.\n",
      "Pushing value 0 to input_state_0 through input stream.\n",
      "Pushing value 1 to max_observables through input stream.\n",
      "Pushing value 2000 to pauli_shots through input stream.\n",
      "Pushing value 0 to observable_0 through input stream.\n",
      "Fetching value from reward with input type INPUT_STREAM\n",
      "Fetched value: [[[1857  143]]]\n",
      "[0.84527179]\n",
      "Pushing value [2.0] to mu through input stream.\n",
      "Pushing value [0.009999999776482582] to sigma through input stream.\n",
      "Just pushed policy parameters to OPX: [2.0] [0.009999999776482582]\n",
      "Pushing value 1 to max_input_state through input stream.\n",
      "Pushing value 0 to input_state_0 through input stream.\n",
      "Pushing value 1 to max_observables through input stream.\n",
      "Pushing value 2500 to pauli_shots through input stream.\n",
      "Pushing value 0 to observable_0 through input stream.\n",
      "Fetching value from reward with input type INPUT_STREAM\n",
      "Fetched value: [[[1821  179]]]\n",
      "[0.38668684]\n"
     ]
    }
   ],
   "execution_count": 26
  },
  {
   "cell_type": "code",
   "id": "e26816813a42343c",
   "metadata": {
    "ExecuteTime": {
     "end_time": "2025-06-27T02:42:12.844697Z",
     "start_time": "2025-06-27T02:42:12.801081Z"
    }
   },
   "source": [
    "import matplotlib.pyplot as plt\n",
    "plt.plot(rescaled_env.action(np.linspace(-1.0, 1.0, 50)), np.mean(q_env.reward_history, axis=-1))"
   ],
   "outputs": [
    {
     "data": {
      "text/plain": [
       "[<matplotlib.lines.Line2D at 0x33e1c0470>]"
      ]
     },
     "execution_count": 28,
     "metadata": {},
     "output_type": "execute_result"
    },
    {
     "data": {
      "text/plain": [
       "<Figure size 640x480 with 1 Axes>"
      ],
      "image/png": "[encoded data removed]"
     },
     "metadata": {},
     "output_type": "display_data"
    }
   ],
   "execution_count": 28
  },
  {
   "cell_type": "code",
   "id": "de2727c7038b9ab6",
   "metadata": {
    "ExecuteTime": {
     "end_time": "2025-06-26T13:45:12.584866Z",
     "start_time": "2025-06-26T13:45:12.550943Z"
    }
   },
   "source": [
    "q_env.reward_history"
   ],
   "outputs": [
    {
     "data": {
      "text/plain": [
       "[array([0.3328]), array([0.3172])]"
      ]
     },
     "execution_count": 30,
     "metadata": {},
     "output_type": "execute_result"
    }
   ],
   "execution_count": 30
  },
  {
   "cell_type": "code",
   "id": "106db18e93c7cbd4",
   "metadata": {
    "ExecuteTime": {
     "end_time": "2025-06-27T02:42:18.536542Z",
     "start_time": "2025-06-27T02:42:17.596749Z"
    }
   },
   "source": [
    "q_env.close()"
   ],
   "outputs": [
    {
     "name": "stdout",
     "output_type": "stream",
     "text": [
      "Job status:  canceled\n"
     ]
    },
    {
     "data": {
      "text/plain": [
       "True"
      ]
     },
     "execution_count": 29,
     "metadata": {},
     "output_type": "execute_result"
    }
   ],
   "execution_count": 29
  },
  {
   "cell_type": "code",
   "id": "6dc434d96eab48b7",
   "metadata": {},
   "source": [
    "q_env.step_tracker += 1"
   ],
   "outputs": [],
   "execution_count": null
  },
  {
   "cell_type": "code",
   "id": "7af5f45e703fca23",
   "metadata": {},
   "source": [
    "rescaled_env.step(np.array([0.497488], dtype=np.float32))"
   ],
   "outputs": [],
   "execution_count": null
  },
  {
   "cell_type": "code",
   "id": "ed1805adfcdce552",
   "metadata": {
    "ExecuteTime": {
     "end_time": "2025-06-27T02:30:45.433355Z",
     "start_time": "2025-06-27T02:30:44.964821Z"
    }
   },
   "source": [
    "job.status"
   ],
   "outputs": [
    {
     "data": {
      "text/plain": [
       "'running'"
      ]
     },
     "execution_count": 41,
     "metadata": {},
     "output_type": "execute_result"
    }
   ],
   "execution_count": 41
  },
  {
   "cell_type": "code",
   "id": "dcf181cf9f629d85",
   "metadata": {},
   "source": [
    "ppo_agent.train(ppo_training, ppo_settings)"
   ],
   "outputs": [],
   "execution_count": null
  },
  {
   "cell_type": "code",
   "id": "97580162bc2a7ec",
   "metadata": {},
   "source": [
    "q_env.config.reward.get_reward_data(\n",
    "    q_env.circuit, np.zeros((2, q_env.n_actions)), q_env.target, q_env.config\n",
    ")"
   ],
   "outputs": [],
   "execution_count": null
  },
  {
   "cell_type": "code",
   "id": "7fe2fdf2e6e21213",
   "metadata": {},
   "source": [
    "q_env.reward_data.fiducials_indices"
   ],
   "outputs": [],
   "execution_count": null
  },
  {
   "cell_type": "code",
   "id": "b15b810aa507edcc",
   "metadata": {},
   "source": [
    "q_env.policy.push_to_opx({\"mu\": [1.0], \"sigma\": [0.2]}, job, verbosity=2)"
   ],
   "outputs": [],
   "execution_count": null
  },
  {
   "cell_type": "code",
   "id": "25773fe30923ea7a",
   "metadata": {},
   "source": [
    "q_env.max_input_state.push_to_opx(1, job, verbosity=2)"
   ],
   "outputs": [],
   "execution_count": null
  },
  {
   "cell_type": "code",
   "id": "51386d41b5cf4a45",
   "metadata": {},
   "source": [
    "q_env.input_state_vars.push_to_opx({\"input_state_0\": 1}, job, verbosity=2)"
   ],
   "outputs": [],
   "execution_count": null
  },
  {
   "cell_type": "code",
   "id": "10a8726072ca96d3",
   "metadata": {},
   "source": [
    "q_env.qm_backend_config"
   ],
   "outputs": [],
   "execution_count": null
  },
  {
   "cell_type": "code",
   "id": "e65e9beb823e6e86",
   "metadata": {},
   "source": [
    "q_env.mean_action"
   ],
   "outputs": [],
   "execution_count": null
  },
  {
   "cell_type": "code",
   "id": "4064d7ce5a5c417b",
   "metadata": {},
   "source": [
    "print(job.result_handles.reward.fetch_all()[\"value\"])"
   ],
   "outputs": [],
   "execution_count": null
  },
  {
   "cell_type": "code",
   "id": "96db58fc3807122c",
   "metadata": {},
   "source": [
    "results = job.result_handles.reward.fetch_all()[\"value\"]"
   ],
   "outputs": [],
   "execution_count": null
  },
  {
   "cell_type": "code",
   "id": "6fc6bb31843ea4cc",
   "metadata": {},
   "source": [
    "formatted_counts = []\n",
    "count_idx = 0\n",
    "max_input_state = len(q_env.reward_data.input_indices)\n",
    "num_obs_per_input_state = tuple(\n",
    "    len(q_env.reward_data.observables_indices[i_idx])\n",
    "    for i_idx in range(max_input_state))\n",
    "collected_counts = results\n",
    "for i_idx in range(max_input_state):\n",
    "    formatted_counts.append([])\n",
    "    num_obs = num_obs_per_input_state[i_idx]\n",
    "    for o_idx in range(num_obs):\n",
    "        formatted_counts[i_idx].append([])\n",
    "        counts_array = np.array(\n",
    "            collected_counts[count_idx], dtype=int\n",
    "        )\n",
    "        formatted_counts[i_idx][o_idx] = counts_array"
   ],
   "outputs": [],
   "execution_count": null
  },
  {
   "cell_type": "code",
   "id": "ff608b3bf68c0c1e",
   "metadata": {},
   "source": [
    "formatted_counts[0][0][8]"
   ],
   "outputs": [],
   "execution_count": null
  },
  {
   "cell_type": "code",
   "id": "bbd0566134239e76",
   "metadata": {},
   "source": [
    "reshaped_counts = []\n",
    "for batch_idx in range(q_env.batch_size):\n",
    "    reshaped_counts.append([])\n",
    "    for i_idx in range(max_input_state):\n",
    "        reshaped_counts[batch_idx].append([])\n",
    "        for o_idx in range(num_obs_per_input_state[i_idx]):\n",
    "\n",
    "            reshaped_counts[batch_idx][i_idx].append(\n",
    "                formatted_counts[i_idx][o_idx][batch_idx]\n",
    "            )"
   ],
   "outputs": [],
   "execution_count": null
  },
  {
   "cell_type": "code",
   "id": "3850ae8b787f3be6",
   "metadata": {},
   "source": [
    "reshaped_counts"
   ],
   "outputs": [],
   "execution_count": null
  },
  {
   "cell_type": "code",
   "id": "c1e2fb98d15c0de3",
   "metadata": {},
   "source": [
    "from qiskit.quantum_info import Statevector\n",
    "Statevector.from_label(\"0\").expectation_value(q_env.reward_data.hamiltonian/q_env.reward_data.pauli_sampling)"
   ],
   "outputs": [],
   "execution_count": null
  },
  {
   "cell_type": "code",
   "id": "68c8dddcaed32830",
   "metadata": {},
   "source": [
    "q_env.reward_data.pauli_sampling"
   ],
   "outputs": [],
   "execution_count": null
  },
  {
   "cell_type": "code",
   "id": "f66577cca2eb5260",
   "metadata": {},
   "source": [
    "q_env.reward_data[0].precision"
   ],
   "outputs": [],
   "execution_count": null
  },
  {
   "cell_type": "code",
   "id": "f4c72c35cfc673bc",
   "metadata": {},
   "source": [
    "from torch.distributions import Normal\n",
    "import torch\n",
    "ppo_agent.process_action(Normal(ppo_agent.agent(torch.zeros((q_env.batch_size,2)))[0].detach(),ppo_agent.agent(torch.zeros((q_env.batch_size,2)))[1].detach() ))"
   ],
   "outputs": [],
   "execution_count": null
  },
  {
   "cell_type": "code",
   "id": "c0fe368258790b4e",
   "metadata": {},
   "source": [
    "q_env.reward_data.hamiltonian"
   ],
   "outputs": [],
   "execution_count": null
  },
  {
   "cell_type": "code",
   "id": "36a3cd83dbb471a2",
   "metadata": {},
   "source": [
    "q_env.reward_data.id_coeff/20"
   ],
   "outputs": [],
   "execution_count": null
  },
  {
   "cell_type": "code",
   "id": "2eb54f4e21c67c22",
   "metadata": {},
   "source": [
    "from rl_qoc.qua.qua_utils import binary\n",
    "from qiskit.quantum_info import SparsePauliOp\n",
    "from qiskit.primitives import BitArray\n",
    "reward = np.zeros(q_env.batch_size)\n",
    "dim = 2**q_env.n_qubits\n",
    "counts = reshaped_counts\n",
    "for batch_idx in range(q_env.batch_size):\n",
    "    exp_value = q_env.reward_data.id_coeff\n",
    "    for i_idx in range(max_input_state):\n",
    "        for o_idx in range(num_obs_per_input_state[i_idx]):\n",
    "            counts_dict = {\n",
    "                binary(i, q_env.n_qubits): counts[batch_idx][i_idx][o_idx][i]\n",
    "                for i in range(dim)\n",
    "            }\n",
    "            print(counts_dict)\n",
    "            obs = q_env.reward_data[i_idx].hamiltonian.group_commuting(True)[o_idx]\n",
    "            print(obs)\n",
    "            diag_obs = SparsePauliOp(\"I\" * q_env.n_qubits, 0.0)\n",
    "            for obs_, coeff in zip(obs.paulis, obs.coeffs):\n",
    "                diag_obs_label = \"\"\n",
    "                for char in obs_.to_label():\n",
    "                    diag_obs_label += char if char == \"I\" else \"Z\"\n",
    "                diag_obs += SparsePauliOp(diag_obs_label, coeff)\n",
    "            bit_array = BitArray.from_counts(counts_dict, num_bits=q_env.n_qubits)\n",
    "            print(diag_obs.simplify())\n",
    "            exp_value += bit_array.expectation_values(diag_obs.simplify())\n",
    "    exp_value /= q_env.reward_data.pauli_sampling\n",
    "    reward[batch_idx] = exp_value"
   ],
   "outputs": [],
   "execution_count": null
  },
  {
   "cell_type": "code",
   "id": "d7f241ef69567e19",
   "metadata": {},
   "source": [
    "reward"
   ],
   "outputs": [],
   "execution_count": null
  },
  {
   "cell_type": "code",
   "id": "f6da0729859dacab",
   "metadata": {},
   "source": [
    "job.result_handles.reward.fetch_all()[\"value\"].shape"
   ],
   "outputs": [],
   "execution_count": null
  },
  {
   "cell_type": "code",
   "id": "ec77cf155db2e849",
   "metadata": {},
   "source": [],
   "outputs": [],
   "execution_count": null
  },
  {
   "cell_type": "code",
   "id": "c8b07581007cc29d",
   "metadata": {},
   "source": [
    "counts = np.transpose(job.result_handles.reward.fetch_all()[\"value\"], (1, 0, 2))"
   ],
   "outputs": [],
   "execution_count": null
  },
  {
   "cell_type": "code",
   "id": "2591410380e3b00a",
   "metadata": {},
   "source": [
    "from rl_qoc.qua.qua_utils import binary\n",
    "from qiskit.primitives import BitArray\n",
    "\n",
    "reward = np.zeros(q_env.batch_size)\n",
    "for b in range(q_env.batch_size):\n",
    "    sv = np.zeros(4)\n",
    "    for i_idx in range(4):\n",
    "        counts_dict = {binary(i, 1): counts[b, i_idx, i] for i in range(2)}\n",
    "        bit_array = BitArray.from_counts(counts_dict, num_bits=1)\n",
    "        sv[i_idx] = bit_array.get_int_counts().get(0, 0) / q_env.n_shots\n",
    "    reward[b] = np.mean(sv)\n",
    "\n",
    "reward"
   ],
   "outputs": [],
   "execution_count": null
  },
  {
   "cell_type": "code",
   "id": "4f57b786cf9a154a",
   "metadata": {},
   "source": [
    "-np.log10(1.0 - reward)"
   ],
   "outputs": [],
   "execution_count": null
  },
  {
   "cell_type": "code",
   "id": "51c0184ff4ac7b3c",
   "metadata": {},
   "source": [
    "print(job.result_handles.action.fetch_all())"
   ],
   "outputs": [],
   "execution_count": null
  },
  {
   "cell_type": "code",
   "id": "a8ef2fe8373960ab",
   "metadata": {},
   "source": [
    "q_env._step_indices"
   ],
   "outputs": [],
   "execution_count": null
  },
  {
   "cell_type": "code",
   "id": "e58b53ac3318fefc",
   "metadata": {},
   "source": [
    "job.result_handles.reward.count_so_far()"
   ],
   "outputs": [],
   "execution_count": null
  },
  {
   "cell_type": "code",
   "id": "a23e9798d708b656",
   "metadata": {},
   "source": [
    "q_env._total_data_points"
   ],
   "outputs": [],
   "execution_count": null
  },
  {
   "cell_type": "code",
   "id": "3750f6ad935de212",
   "metadata": {},
   "source": [
    "job.status"
   ],
   "outputs": [],
   "execution_count": null
  },
  {
   "cell_type": "code",
   "id": "275b0e1bdebbd00e",
   "metadata": {},
   "source": [
    "q_env.close()"
   ],
   "outputs": [],
   "execution_count": null
  },
  {
   "cell_type": "code",
   "id": "e9777dd8907516b",
   "metadata": {},
   "source": [
    "from qm.qua import *\n",
    "\n",
    "with program() as qua_program:\n",
    "    gate = declare_input_stream(fixed, name=\"gate_input_stream\")\n",
    "\n",
    "    a = declare(fixed)\n",
    "    r1 = declare_stream()\n",
    "    r2 = declare_stream()\n",
    "    v2 = declare(\n",
    "        bool,\n",
    "    )\n",
    "    advance_input_stream(gate)\n",
    "    with while_(gate > 0):\n",
    "        a = gate\n",
    "        save(a, r1)\n",
    "        assign(v2, (a > 0.2))\n",
    "        save(v2, r2)\n",
    "        advance_input_stream(gate)\n",
    "\n",
    "    with stream_processing():\n",
    "        r1.save_all(\"measurements\")\n",
    "        r2.save_all(\"state\")\n",
    "\n",
    "job = backend.qm.execute(qua_program)"
   ],
   "outputs": [],
   "execution_count": null
  },
  {
   "cell_type": "code",
   "id": "e66040a5953d5521",
   "metadata": {},
   "source": [
    "result = job.result_handles\n",
    "\n",
    "optimization_sequence = [0.1, 0.4, 0.06]\n",
    "\n",
    "for id, value in enumerate(optimization_sequence):\n",
    "    job.push_to_input_stream(\"gate_input_stream\", value)\n",
    "    result.measurements.wait_for_values(id + 1)\n",
    "    print(\"Full data\", str(result.measurements.fetch_all()))\n",
    "    print(f\"{id}: Received \", str(result.measurements.fetch(id)))\n",
    "    result.state.wait_for_values(id + 1)\n",
    "    print(f\"{id}: Received \", str(result.state.fetch(id)))\n",
    "    print(\"Full data\", str(result.state.fetch_all()))\n",
    "\n",
    "# finish QUA program\n",
    "job.push_to_input_stream(\"gate_input_stream\", 0)"
   ],
   "outputs": [],
   "execution_count": null
  },
  {
   "cell_type": "code",
   "id": "7bb6ed7506c21d15",
   "metadata": {},
   "source": [],
   "outputs": [],
   "execution_count": null
  },
  {
   "cell_type": "code",
   "id": "5d48b299d46bdb2",
   "metadata": {},
   "source": [
    "# Single QUA script generated at 2025-06-09 11:30:49.218366\n",
    "# QUA library version: 1.2.3a1\n",
    "\n",
    "from qm import CompilerOptionArguments\n",
    "from qm.qua import *\n",
    "\n",
    "with program() as prog:\n",
    "    a1 = declare(fixed, value=[0.0])\n",
    "    v1 = declare(\n",
    "        int,\n",
    "    )\n",
    "    a2 = declare(fixed, value=[1.0])\n",
    "    v2 = declare(\n",
    "        int,\n",
    "    )\n",
    "    v3 = declare(int, value=0)\n",
    "    v4 = declare(\n",
    "        int,\n",
    "    )\n",
    "    v5 = declare(\n",
    "        int,\n",
    "    )\n",
    "    with for_(v5, 0, (v5 < 5), (v5 + 1)):\n",
    "        pause()\n",
    "        assign(a1[0], IO1)\n",
    "        r1 = declare_stream()\n",
    "        save(a1[0], r1)\n",
    "    with stream_processing():\n",
    "        r1.save_all(\"mu\")\n",
    "\n",
    "\n",
    "config = None\n",
    "\n",
    "loaded_config = None\n",
    "\n",
    "\n",
    "job = backend.qm.execute(prog)"
   ],
   "outputs": [],
   "execution_count": null
  },
  {
   "cell_type": "code",
   "id": "dda0cc64757985c6",
   "metadata": {},
   "source": [
    "job.is_paused()"
   ],
   "outputs": [],
   "execution_count": null
  },
  {
   "cell_type": "code",
   "id": "62644b20a212d425",
   "metadata": {},
   "source": [
    "backend.qm.set_io1_value(1.0)"
   ],
   "outputs": [],
   "execution_count": null
  },
  {
   "cell_type": "code",
   "id": "7cad26ac5ffa4e72",
   "metadata": {},
   "source": [
    "job.resume()"
   ],
   "outputs": [],
   "execution_count": null
  },
  {
   "cell_type": "code",
   "id": "d69ac47494d6e4c1",
   "metadata": {},
   "source": [
    "job.is_paused()"
   ],
   "outputs": [],
   "execution_count": null
  },
  {
   "cell_type": "code",
   "id": "dbe90f9f989778e6",
   "metadata": {},
   "source": [
    "print(job.result_handles.mu.fetch_all())"
   ],
   "outputs": [],
   "execution_count": null
  },
  {
   "cell_type": "code",
   "id": "d37756c404e961bb",
   "metadata": {},
   "source": [
    "job.cancel()"
   ],
   "outputs": [],
   "execution_count": null
  },
  {
   "cell_type": "code",
   "id": "7863a4cfe445dbaf",
   "metadata": {},
   "source": [],
   "outputs": [],
   "execution_count": null
  },
  {
   "cell_type": "code",
   "id": "4d7d649f5665a27e",
   "metadata": {},
   "source": [
    "job.is_paused()"
   ],
   "outputs": [],
   "execution_count": null
  },
  {
   "cell_type": "code",
   "id": "13d85129ca4438f",
   "metadata": {},
   "source": [
    "print(job.result_handles.mu.fetch_all())"
   ],
   "outputs": [],
   "execution_count": null
  },
  {
   "cell_type": "code",
   "id": "81b98843b3ea9478",
   "metadata": {},
   "source": [
    "job.cancel()"
   ],
   "outputs": [],
   "execution_count": null
  },
  {
   "cell_type": "code",
   "id": "9ef6fb6a0cbac9aa",
   "metadata": {},
   "source": [],
   "outputs": [],
   "execution_count": null
  }
 ],
 "metadata": {
  "kernelspec": {
   "display_name": ".venv",
   "language": "python",
   "name": "python3"
  },
  "language_info": {
   "codemirror_mode": {
    "name": "ipython",
    "version": 3
   },
   "file_extension": ".py",
   "mimetype": "text/x-python",
   "name": "python",
   "nbconvert_exporter": "python",
   "pygments_lexer": "ipython3",
   "version": "3.13.5"
  }
 },
 "nbformat": 4,
 "nbformat_minor": 5
}

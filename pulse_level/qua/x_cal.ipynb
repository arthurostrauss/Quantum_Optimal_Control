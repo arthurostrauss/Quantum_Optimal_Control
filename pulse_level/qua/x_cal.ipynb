{
 "cells": [
  {
   "metadata": {},
   "cell_type": "markdown",
   "source": [
    "# Gate calibration with RL with the Quantum Orchestration Platform\n",
    "\n",
    "This notebook is the template workflow enabling you to run gate calibration leveraging all the low-level capabilities of the QOP for maximum efficiency."
   ],
   "id": "3e0343d0851848c2"
  },
  {
   "cell_type": "code",
   "id": "initial_id",
   "metadata": {
    "collapsed": true,
    "ExecuteTime": {
     "end_time": "2025-05-30T11:17:21.041743Z",
     "start_time": "2025-05-30T11:17:14.704424Z"
    }
   },
   "source": [
    "import numpy as np\n",
    "from qiskit.circuit import QuantumCircuit, QuantumRegister, Parameter, Gate\n",
    "from typing import List\n",
    "from gymnasium.spaces import Box\n",
    "from rl_qoc.qua import QMEnvironment, QMConfig, CustomQMPPO\n",
    "from quam_libs.components import QuAM, Transmon\n",
    "from qiskit_qm_provider import FluxTunableTransmonBackend, QMInstructionProperties, InputType\n",
    "from qiskit_qm_provider.backend import add_basic_macros_to_machine\n",
    "from rl_qoc.agent.ppo_config import (\n",
    "    WandBConfig,\n",
    "    PPOConfig,\n",
    "    TrainingConfig,\n",
    "    TrainFunctionSettings,\n",
    "    TotalUpdates,\n",
    ")\n",
    "from rl_qoc import (\n",
    "    RescaleAndClipAction,\n",
    "    GateTargetConfig,\n",
    "    ChannelReward,\n",
    "    StateReward,\n",
    "    CAFEReward,\n",
    "    ExecutionConfig,\n",
    "    QEnvConfig,\n",
    "    BenchmarkConfig,\n",
    ")"
   ],
   "outputs": [
    {
     "name": "stdout",
     "output_type": "stream",
     "text": [
      "2025-05-30 19:17:20,764 - qm - INFO     - Starting session: f5a03ef8-b098-40c4-abb2-0ec067072148\n",
      "2025-05-30 19:17:20 INFO Starting session: f5a03ef8-b098-40c4-abb2-0ec067072148\n"
     ]
    }
   ],
   "execution_count": 1
  },
  {
   "metadata": {},
   "cell_type": "markdown",
   "source": "## Accessing the device",
   "id": "e86df896fa91cf8f"
  },
  {
   "metadata": {
    "ExecuteTime": {
     "end_time": "2025-05-30T11:17:25.884729Z",
     "start_time": "2025-05-30T11:17:21.076279Z"
    }
   },
   "cell_type": "code",
   "source": [
    "from iqcc_cloud_client import IQCC_Cloud\n",
    "import json\n",
    "import os\n",
    "# Set your quantum computer backend\n",
    "quantum_computer_backend = \"gilboa\"  # for example qc_qwfix\n",
    "iqcc = IQCC_Cloud(quantum_computer_backend=quantum_computer_backend)\n",
    "# Get the latest state and wiring files\n",
    "latest_wiring = iqcc.state.get_latest(\"wiring\")\n",
    "latest_state = iqcc.state.get_latest(\"state\")\n",
    "\n",
    "# Get the state folder path from environment variable\n",
    "quam_state_folder_path = os.environ[\"QUAM_STATE_PATH\"]\n",
    "\n",
    "# Save the files\n",
    "with open(os.path.join(quam_state_folder_path, \"wiring.json\"), \"w\") as f:\n",
    "    json.dump(latest_wiring.data, f, indent=4)\n",
    "\n",
    "with open(os.path.join(quam_state_folder_path, \"state.json\"), \"w\") as f:\n",
    "    json.dump(latest_state.data, f, indent=4)"
   ],
   "id": "127039d157766e3",
   "outputs": [],
   "execution_count": 2
  },
  {
   "metadata": {
    "ExecuteTime": {
     "end_time": "2025-05-30T11:17:25.988814Z",
     "start_time": "2025-05-30T11:17:25.897780Z"
    }
   },
   "cell_type": "code",
   "source": [
    "machine = QuAM.load()\n",
    "if not machine.active_qubits[0].macros:\n",
    "    add_basic_macros_to_machine(machine)\n",
    "backend = FluxTunableTransmonBackend(machine)\n",
    "print(backend.target)"
   ],
   "id": "32e1f4aa24df6781",
   "outputs": [
    {
     "name": "stdout",
     "output_type": "stream",
     "text": [
      "Target: Transmon based QuAM\n",
      "Number of qubits: 5\n",
      "Instructions:\n",
      "\tx\n",
      "\t\t(0,)\n",
      "\t\t(1,)\n",
      "\t\t(2,)\n",
      "\t\t(3,)\n",
      "\t\t(4,)\n",
      "\trz\n",
      "\t\t(0,)\n",
      "\t\t(1,)\n",
      "\t\t(2,)\n",
      "\t\t(3,)\n",
      "\t\t(4,)\n",
      "\tsx\n",
      "\t\t(0,)\n",
      "\t\t(1,)\n",
      "\t\t(2,)\n",
      "\t\t(3,)\n",
      "\t\t(4,)\n",
      "\tmeasure\n",
      "\t\t(0,)\n",
      "\t\t(1,)\n",
      "\t\t(2,)\n",
      "\t\t(3,)\n",
      "\t\t(4,)\n",
      "\treset\n",
      "\t\t(0,)\n",
      "\t\t(1,)\n",
      "\t\t(2,)\n",
      "\t\t(3,)\n",
      "\t\t(4,)\n",
      "\tdelay\n",
      "\t\t(0,)\n",
      "\t\t(1,)\n",
      "\t\t(2,)\n",
      "\t\t(3,)\n",
      "\t\t(4,)\n",
      "\tif_else\n",
      "\twhile_loop\n",
      "\tfor_loop\n",
      "\tswitch_case\n",
      "\n"
     ]
    },
    {
     "name": "stderr",
     "output_type": "stream",
     "text": [
      "/Users/arthurostrauss/Library/CloudStorage/OneDrive-QMMachinesLTD/GitHub/qiskit-qm-provider/qiskit_qm_provider/backend/flux_tunable_transmon_backend.py:54: UserWarning: qiskit.pulse is not available, channel mapping will not be set.\n",
      "  warnings.warn(\"qiskit.pulse is not available, channel mapping will not be set.\")\n"
     ]
    }
   ],
   "execution_count": 3
  },
  {
   "metadata": {
    "ExecuteTime": {
     "end_time": "2025-05-30T11:17:26.158542Z",
     "start_time": "2025-05-30T11:17:26.156436Z"
    }
   },
   "cell_type": "code",
   "source": [
    "print(\"Available qubits: \", backend.qubit_dict)\n",
    "print(\"Available qubit pairs: \", backend.qubit_pair_dict)"
   ],
   "id": "ec16b3bc30f20a34",
   "outputs": [
    {
     "name": "stdout",
     "output_type": "stream",
     "text": [
      "Available qubits:  {'qC1': 0, 'qC5': 1, 'qD1': 2, 'qD2': 3, 'qD3': 4}\n",
      "Available qubit pairs:  {}\n"
     ]
    }
   ],
   "execution_count": 4
  },
  {
   "metadata": {
    "ExecuteTime": {
     "end_time": "2025-05-30T11:17:26.356111Z",
     "start_time": "2025-05-30T11:17:26.354532Z"
    }
   },
   "cell_type": "code",
   "source": [
    "using_vpn = True\n",
    "if using_vpn:\n",
    "    machine.network[\"cloud\"] = False\n",
    "    machine.network[\"port\"] = 9510"
   ],
   "id": "3d185323175fc69",
   "outputs": [],
   "execution_count": 5
  },
  {
   "metadata": {},
   "cell_type": "markdown",
   "source": [
    "## Create a custom gate to edit\n",
    "\n",
    "We add at the Qiskit level the custom gate we want to calibrate, and we then specify the QUA macro in charge of \n",
    "implementing the parametrized pulse representation of this template parametrized gate."
   ],
   "id": "3b2ffe4bf1003726"
  },
  {
   "metadata": {
    "ExecuteTime": {
     "end_time": "2025-05-30T11:17:26.519458Z",
     "start_time": "2025-05-30T11:17:26.517135Z"
    }
   },
   "cell_type": "code",
   "source": [
    "def apply_parametrized_circuit(\n",
    "    qc: QuantumCircuit, params: List[Parameter], q_reg: QuantumRegister, **kwargs\n",
    "):\n",
    "\n",
    "    try:\n",
    "        physical_qubits: List[int] = kwargs[\"physical_qubits\"]\n",
    "        backend: FluxTunableTransmonBackend = kwargs[\"backend\"]\n",
    "    except KeyError:\n",
    "        raise KeyError(\n",
    "            \"Missing one of the required keys for the parametric circuit ('backend' and 'physical_qubits'\"\n",
    "        )\n",
    "    custom_x = Gate(\"x_cal\", 1, params)\n",
    "    qc.append(custom_x, [q_reg[0]])\n",
    "\n",
    "    def qua_macro(amp):\n",
    "        qubit: Transmon = backend.get_qubit(physical_qubits[0])\n",
    "        qubit.xy.play(\"x180\", amplitude_scale=amp)\n",
    "\n",
    "    instruction_prop = QMInstructionProperties(qua_pulse_macro=qua_macro)\n",
    "    backend.target.add_instruction(custom_x, {tuple(physical_qubits): instruction_prop})\n",
    "    return qc"
   ],
   "id": "46e10447b2c46372",
   "outputs": [],
   "execution_count": 6
  },
  {
   "metadata": {},
   "cell_type": "markdown",
   "source": [
    "## Create Environment configuration\n",
    "\n",
    "1. Create target instance: Specify which gate you want and on which qubit it should be applied\n",
    "2. Choose which reward scheme you want. You can choose among three methods that are carefully implemented within the QOP: Direct Channel/State Fidelity Estimation (DFE), and Context-Aware Fidelity Estimation (CAFE)"
   ],
   "id": "7b3517e088f88b5"
  },
  {
   "metadata": {
    "ExecuteTime": {
     "end_time": "2025-05-30T11:17:26.680882Z",
     "start_time": "2025-05-30T11:17:26.678866Z"
    }
   },
   "cell_type": "code",
   "source": [
    "physical_qubits = (0,)\n",
    "target_gate = \"x\"\n",
    "gate_target = GateTargetConfig(physical_qubits, gate=target_gate)\n",
    "reward = ChannelReward()"
   ],
   "id": "71e47a8b92d92320",
   "outputs": [],
   "execution_count": 7
  },
  {
   "metadata": {},
   "cell_type": "markdown",
   "source": [
    "3. Decide which action space to create\n",
    "4. Decide how the parameters should be passed to the QOP (Choose between Input Stream, DGX Quantum, IO variables)\n",
    "5. To fix the QUA program duration, we also can pass to the configuration the number of training updates expected (it should be the same variable used when declaring the agent).\n",
    "6. Set up training hyperparameters on the environment side"
   ],
   "id": "5b9740a46e2eb0fb"
  },
  {
   "metadata": {
    "ExecuteTime": {
     "end_time": "2025-05-30T11:17:26.872220Z",
     "start_time": "2025-05-30T11:17:26.842826Z"
    }
   },
   "cell_type": "code",
   "source": [
    "# Action space specification\n",
    "param_bounds = [(-1.98, 2.0)]  # Can be any number of bounds\n",
    "\n",
    "\n",
    "# Environment execution parameters\n",
    "seed = 1203  # Master seed to make training reproducible\n",
    "batch_size = 10  # Number of actions to evaluate per policy evaluation\n",
    "n_shots = 10  # Minimum number of shots per fiducial evaluation\n",
    "pauli_sampling = 100  # Number of fiducials to compute for fidelity estimation (DFE only)\n",
    "n_reps = 1  # Number of repetitions of the cycle circuit\n",
    "num_updates = TotalUpdates(50)\n",
    "\n",
    "input_type = InputType.INPUT_STREAM\n",
    "\n",
    "\n",
    "def create_action_space(param_bounds):\n",
    "    param_bounds = np.array(param_bounds, dtype=np.float32)\n",
    "    lower_bound, upper_bound = param_bounds.T\n",
    "    return Box(low=lower_bound, high=upper_bound, shape=(len(param_bounds),), dtype=np.float32)\n",
    "\n",
    "\n",
    "action_space = create_action_space(param_bounds)\n",
    "\n",
    "backend_config = QMConfig(\n",
    "    parametrized_circuit=apply_parametrized_circuit,\n",
    "    backend=backend,\n",
    "    input_type=input_type,\n",
    "    verbosity=2,\n",
    "    parametrized_circuit_kwargs={\"physical_qubits\": physical_qubits, \"backend\": backend},\n",
    "    num_updates=TotalUpdates.total_updates,\n",
    ")\n",
    "execution_config = ExecutionConfig(\n",
    "    batch_size=batch_size,\n",
    "    sampling_paulis=pauli_sampling,\n",
    "    n_shots=n_shots,\n",
    "    n_reps=n_reps,\n",
    "    seed=seed,\n",
    "    control_flow_enabled=True,\n",
    ")\n",
    "q_env_config = QEnvConfig(\n",
    "    target=gate_target,\n",
    "    backend_config=backend_config,\n",
    "    action_space=action_space,\n",
    "    execution_config=execution_config,\n",
    "    reward=reward,\n",
    "    benchmark_config=BenchmarkConfig(0),\n",
    ")  # No benchmark for now\n",
    "\n",
    "q_env = QMEnvironment(training_config=q_env_config)\n",
    "rescaled_env = RescaleAndClipAction(q_env, -1.0, 1.0)"
   ],
   "id": "6b0101d3fa6ae26a",
   "outputs": [],
   "execution_count": 8
  },
  {
   "metadata": {
    "ExecuteTime": {
     "end_time": "2025-05-30T11:17:27.445930Z",
     "start_time": "2025-05-30T11:17:27.028546Z"
    }
   },
   "cell_type": "code",
   "source": "q_env.real_time_circuit.draw(\"mpl\")",
   "id": "86f79b1c23a7d14b",
   "outputs": [
    {
     "data": {
      "text/plain": [
       "<Figure size 2252.61x451.5 with 1 Axes>"
      ],
      "image/png": "[encoded data removed]"
     },
     "execution_count": 9,
     "metadata": {},
     "output_type": "execute_result"
    }
   ],
   "execution_count": 9
  },
  {
   "metadata": {
    "ExecuteTime": {
     "end_time": "2025-05-30T11:17:27.779433Z",
     "start_time": "2025-05-30T11:17:27.665980Z"
    }
   },
   "cell_type": "code",
   "source": "q_env.real_time_transpiled_circuit.draw(\"mpl\")",
   "id": "42ebe66539e336a7",
   "outputs": [
    {
     "name": "stdout",
     "output_type": "stream",
     "text": [
      "2025-05-30 19:17:27 INFO Could not load 'ibm_backend': cannot import name 'ProviderV1' from 'qiskit.providers' (/Users/arthurostrauss/anaconda3/envs/rl_qoc/lib/python3.11/site-packages/qiskit/providers/__init__.py)\n",
      "2025-05-30 19:17:27 INFO Could not load 'ibm_dynamic_circuits': cannot import name 'ProviderV1' from 'qiskit.providers' (/Users/arthurostrauss/anaconda3/envs/rl_qoc/lib/python3.11/site-packages/qiskit/providers/__init__.py)\n",
      "2025-05-30 19:17:27 INFO Could not load 'ibm_backend': cannot import name 'ProviderV1' from 'qiskit.providers' (/Users/arthurostrauss/anaconda3/envs/rl_qoc/lib/python3.11/site-packages/qiskit/providers/__init__.py)\n",
      "2025-05-30 19:17:27 INFO Could not load 'ibm_dynamic_circuits': cannot import name 'ProviderV1' from 'qiskit.providers' (/Users/arthurostrauss/anaconda3/envs/rl_qoc/lib/python3.11/site-packages/qiskit/providers/__init__.py)\n"
     ]
    },
    {
     "data": {
      "text/plain": [
       "<Figure size 2284.87x451.5 with 1 Axes>"
      ],
      "image/png": "[encoded data removed]"
     },
     "execution_count": 10,
     "metadata": {},
     "output_type": "execute_result"
    }
   ],
   "execution_count": 10
  },
  {
   "metadata": {
    "ExecuteTime": {
     "end_time": "2025-05-30T11:17:27.942644Z",
     "start_time": "2025-05-30T11:17:27.940796Z"
    }
   },
   "cell_type": "code",
   "source": "print(backend.target)",
   "id": "92004f1ce40479d4",
   "outputs": [
    {
     "name": "stdout",
     "output_type": "stream",
     "text": [
      "Target: Transmon based QuAM\n",
      "Number of qubits: 5\n",
      "Instructions:\n",
      "\tx\n",
      "\t\t(0,)\n",
      "\t\t(1,)\n",
      "\t\t(2,)\n",
      "\t\t(3,)\n",
      "\t\t(4,)\n",
      "\trz\n",
      "\t\t(0,)\n",
      "\t\t(1,)\n",
      "\t\t(2,)\n",
      "\t\t(3,)\n",
      "\t\t(4,)\n",
      "\tsx\n",
      "\t\t(0,)\n",
      "\t\t(1,)\n",
      "\t\t(2,)\n",
      "\t\t(3,)\n",
      "\t\t(4,)\n",
      "\tmeasure\n",
      "\t\t(0,)\n",
      "\t\t(1,)\n",
      "\t\t(2,)\n",
      "\t\t(3,)\n",
      "\t\t(4,)\n",
      "\treset\n",
      "\t\t(0,)\n",
      "\t\t(1,)\n",
      "\t\t(2,)\n",
      "\t\t(3,)\n",
      "\t\t(4,)\n",
      "\tdelay\n",
      "\t\t(0,)\n",
      "\t\t(1,)\n",
      "\t\t(2,)\n",
      "\t\t(3,)\n",
      "\t\t(4,)\n",
      "\tif_else\n",
      "\twhile_loop\n",
      "\tfor_loop\n",
      "\tswitch_case\n",
      "\tx_cal\n",
      "\t\t(0,):\n",
      "\n"
     ]
    }
   ],
   "execution_count": 11
  },
  {
   "metadata": {
    "ExecuteTime": {
     "end_time": "2025-05-30T11:17:29.064073Z",
     "start_time": "2025-05-30T11:17:28.106532Z"
    }
   },
   "cell_type": "code",
   "source": [
    "from qm import generate_qua_script\n",
    "\n",
    "print(generate_qua_script(q_env.rl_qoc_training_qua_prog()))"
   ],
   "id": "dbbfa2499f5a555e",
   "outputs": [
    {
     "name": "stdout",
     "output_type": "stream",
     "text": [
      "\n",
      "# Single QUA script generated at 2025-05-30 19:17:29.062604\n",
      "# QUA library version: 1.2.2rc2+dgx2\n",
      "\n",
      "\n",
      "from qm import CompilerOptionArguments\n",
      "from qm.qua import *\n",
      "\n",
      "with program() as prog:\n",
      "    input_stream_a_0_0 = declare_input_stream(fixed, 'a_0_0', value=0.0)\n",
      "    input_stream_max_input_state = declare_input_stream(int, 'max_input_state', value=0)\n",
      "    input_stream_input_state_0 = declare_input_stream(int, 'input_state_0', value=0)\n",
      "    input_stream_mu = declare_input_stream(fixed, 'mu', value=[0.0])\n",
      "    v1 = declare(int, )\n",
      "    input_stream_sigma = declare_input_stream(fixed, 'sigma', value=[1.0])\n",
      "    v2 = declare(int, )\n",
      "    input_stream_reward = declare_input_stream(int, 'reward', value=[0, 0])\n",
      "    v3 = declare(int, )\n",
      "    input_stream_max_observables = declare_input_stream(int, 'max_observables', value=0)\n",
      "    input_stream_observable_0 = declare_input_stream(int, 'observable_0', value=0)\n",
      "    v4 = declare(int, )\n",
      "    input_stream_pauli_shots = declare_input_stream(int, 'pauli_shots', value=10)\n",
      "    v5 = declare(int, )\n",
      "    v6 = declare(int, )\n",
      "    v7 = declare(int, )\n",
      "    v8 = declare(int, )\n",
      "    a1 = declare(fixed, value=[1.0, 0.9999247018391445, 0.9996988186962042, 0.9993223845883495, 0.9987954562051724, 0.9981181129001492, 0.9972904566786902, 0.996312612182778, 0.9951847266721969, 0.9939069700023561, 0.99247953459871, 0.99090263542778, 0.989176509964781, 0.9873014181578584, 0.9852776423889412, 0.9831054874312163, 0.9807852804032304, 0.9783173707196277, 0.9757021300385286, 0.9729399522055602, 0.970031253194544, 0.9669764710448521, 0.9637760657954398, 0.9604305194155658, 0.9569403357322088, 0.9533060403541939, 0.9495281805930367, 0.9456073253805213, 0.9415440651830208, 0.937339011912575, 0.932992798834739, 0.9285060804732156, 0.9238795325112867, 0.9191138516900578, 0.9142097557035307, 0.9091679830905224, 0.9039892931234433, 0.8986744656939538, 0.8932243011955153, 0.8876396204028539, 0.881921264348355, 0.8760700941954066, 0.8700869911087115, 0.8639728561215867, 0.8577286100002721, 0.8513551931052652, 0.8448535652497071, 0.8382247055548381, 0.8314696123025452, 0.8245893027850253, 0.8175848131515837, 0.8104571982525948, 0.8032075314806449, 0.7958369046088836, 0.7883464276266062, 0.7807372285720945, 0.773010453362737, 0.765167265622459, 0.7572088465064846, 0.7491363945234594, 0.7409511253549592, 0.7326542716724128, 0.724247082951467, 0.7157308252838187, 0.7071067811865476, 0.6983762494089729, 0.6895405447370669, 0.680600997795453, 0.6715589548470183, 0.6624157775901718, 0.6531728429537769, 0.6438315428897915, 0.6343932841636455, 0.6248594881423865, 0.6152315905806268, 0.6055110414043255, 0.5956993044924335, 0.5857978574564389, 0.5758081914178453, 0.5657318107836132, 0.5555702330196023, 0.5453249884220465, 0.5349976198870973, 0.5245896826784688, 0.5141027441932217, 0.5035383837257176, 0.4928981922297841, 0.48218377207912283, 0.4713967368259978, 0.46053871095824, 0.4496113296546066, 0.4386162385385277, 0.4275550934302822, 0.4164295600976373, 0.40524131400498986, 0.3939920400610481, 0.38268343236508984, 0.3713171939518376, 0.3598950365349883, 0.3484186802494345, 0.33688985339222005, 0.325310292162263, 0.3136817403988916, 0.3020059493192282, 0.29028467725446233, 0.27851968938505306, 0.2667127574748984, 0.2548656596045146, 0.24298017990326398, 0.23105810828067128, 0.21910124015686977, 0.20711137619221856, 0.19509032201612833, 0.18303988795514106, 0.17096188876030136, 0.1588581433338614, 0.14673047445536175, 0.13458070850712622, 0.12241067519921628, 0.11022220729388318, 0.09801714032956077, 0.08579731234443988, 0.07356456359966745, 0.06132073630220865, 0.049067674327418126, 0.03680722294135899, 0.024541228522912264, 0.012271538285719944, 6.123233995736766e-17, -0.012271538285719823, -0.024541228522912142, -0.036807222941358866, -0.04906767432741801, -0.06132073630220853, -0.07356456359966733, -0.08579731234443976, -0.09801714032956065, -0.11022220729388306, -0.12241067519921615, -0.1345807085071261, -0.14673047445536164, -0.15885814333386128, -0.17096188876030124, -0.18303988795514092, -0.1950903220161282, -0.20711137619221845, -0.21910124015686966, -0.23105810828067114, -0.24298017990326387, -0.2548656596045145, -0.2667127574748983, -0.27851968938505295, -0.29028467725446216, -0.3020059493192281, -0.3136817403988914, -0.32531029216226287, -0.33688985339221994, -0.3484186802494344, -0.35989503653498817, -0.3713171939518375, -0.3826834323650897, -0.393992040061048, -0.40524131400498975, -0.416429560097637, -0.42755509343028186, -0.4386162385385274, -0.4496113296546067, -0.46053871095824006, -0.4713967368259977, -0.4821837720791228, -0.492898192229784, -0.5035383837257175, -0.5141027441932217, -0.5245896826784687, -0.534997619887097, -0.5453249884220462, -0.555570233019602, -0.5657318107836133, -0.5758081914178453, -0.5857978574564389, -0.5956993044924334, -0.6055110414043254, -0.6152315905806268, -0.6248594881423862, -0.6343932841636454, -0.6438315428897913, -0.6531728429537765, -0.6624157775901719, -0.6715589548470184, -0.6806009977954531, -0.6895405447370669, -0.6983762494089728, -0.7071067811865475, -0.7157308252838186, -0.7242470829514668, -0.7326542716724127, -0.7409511253549589, -0.7491363945234591, -0.7572088465064846, -0.765167265622459, -0.773010453362737, -0.7807372285720945, -0.7883464276266062, -0.7958369046088835, -0.8032075314806448, -0.8104571982525947, -0.8175848131515836, -0.8245893027850251, -0.8314696123025453, -0.8382247055548381, -0.8448535652497071, -0.8513551931052651, -0.857728610000272, -0.8639728561215867, -0.8700869911087113, -0.8760700941954065, -0.8819212643483549, -0.8876396204028538, -0.8932243011955152, -0.8986744656939539, -0.9039892931234433, -0.9091679830905224, -0.9142097557035307, -0.9191138516900577, -0.9238795325112867, -0.9285060804732155, -0.9329927988347388, -0.9373390119125748, -0.9415440651830207, -0.9456073253805213, -0.9495281805930367, -0.9533060403541939, -0.9569403357322088, -0.9604305194155658, -0.9637760657954398, -0.9669764710448521, -0.970031253194544, -0.9729399522055601, -0.9757021300385285, -0.9783173707196275, -0.9807852804032304, -0.9831054874312163, -0.9852776423889412, -0.9873014181578584, -0.989176509964781, -0.99090263542778, -0.99247953459871, -0.9939069700023561, -0.9951847266721968, -0.996312612182778, -0.9972904566786902, -0.9981181129001492, -0.9987954562051724, -0.9993223845883495, -0.9996988186962042, -0.9999247018391445, -1.0, -0.9999247018391445, -0.9996988186962042, -0.9993223845883495, -0.9987954562051724, -0.9981181129001492, -0.9972904566786902, -0.996312612182778, -0.9951847266721969, -0.9939069700023561, -0.99247953459871, -0.99090263542778, -0.989176509964781, -0.9873014181578584, -0.9852776423889413, -0.9831054874312164, -0.9807852804032304, -0.9783173707196277, -0.9757021300385286, -0.9729399522055602, -0.970031253194544, -0.9669764710448522, -0.96377606579544, -0.9604305194155659, -0.9569403357322089, -0.953306040354194, -0.9495281805930368, -0.9456073253805213, -0.9415440651830208, -0.937339011912575, -0.932992798834739, -0.9285060804732156, -0.9238795325112868, -0.9191138516900578, -0.9142097557035308, -0.9091679830905225, -0.9039892931234434, -0.898674465693954, -0.8932243011955153, -0.8876396204028539, -0.881921264348355, -0.8760700941954066, -0.8700869911087115, -0.8639728561215868, -0.8577286100002722, -0.8513551931052653, -0.8448535652497072, -0.8382247055548382, -0.8314696123025455, -0.8245893027850253, -0.8175848131515837, -0.8104571982525948, -0.8032075314806449, -0.7958369046088837, -0.7883464276266063, -0.7807372285720946, -0.7730104533627371, -0.7651672656224591, -0.7572088465064848, -0.7491363945234593, -0.7409511253549591, -0.7326542716724129, -0.724247082951467, -0.7157308252838187, -0.7071067811865477, -0.698376249408973, -0.689540544737067, -0.6806009977954532, -0.6715589548470187, -0.662415777590172, -0.6531728429537771, -0.6438315428897915, -0.6343932841636458, -0.6248594881423865, -0.6152315905806273, -0.6055110414043257, -0.5956993044924331, -0.5857978574564391, -0.5758081914178452, -0.5657318107836135, -0.5555702330196022, -0.5453249884220468, -0.5349976198870973, -0.5245896826784694, -0.5141027441932218, -0.503538383725718, -0.4928981922297842, -0.48218377207912255, -0.4713967368259979, -0.4605387109582399, -0.44961132965460693, -0.4386162385385276, -0.4275550934302825, -0.4164295600976372, -0.40524131400499036, -0.3939920400610482, -0.38268343236509034, -0.37131719395183777, -0.359895036534988, -0.34841868024943484, -0.33688985339221994, -0.3253102921622633, -0.31368174039889146, -0.30200594931922853, -0.29028467725446244, -0.2785196893850536, -0.26671275747489853, -0.25486565960451435, -0.24298017990326412, -0.23105810828067094, -0.2191012401568701, -0.20711137619221848, -0.19509032201612866, -0.18303988795514095, -0.1709618887603017, -0.15885814333386153, -0.1467304744553623, -0.13458070850712636, -0.12241067519921596, -0.11022220729388331, -0.09801714032956045, -0.08579731234444023, -0.07356456359966736, -0.061320736302208995, -0.04906767432741803, -0.03680722294135933, -0.02454122852291239, -0.012271538285720512, -1.8369701987210297e-16, 0.012271538285720144, 0.02454122852291202, 0.036807222941358964, 0.04906767432741766, 0.06132073630220863, 0.07356456359966698, 0.08579731234443985, 0.09801714032956009, 0.11022220729388293, 0.1224106751992156, 0.13458070850712597, 0.14673047445536194, 0.15885814333386117, 0.17096188876030133, 0.1830398879551406, 0.1950903220161283, 0.20711137619221812, 0.21910124015686974, 0.23105810828067058, 0.24298017990326376, 0.25486565960451396, 0.2667127574748982, 0.2785196893850533, 0.29028467725446205, 0.30200594931922814, 0.31368174039889113, 0.3253102921622629, 0.3368898533922196, 0.3484186802494345, 0.3598950365349876, 0.3713171939518374, 0.38268343236509, 0.3939920400610479, 0.40524131400499, 0.4164295600976369, 0.42755509343028214, 0.43861623853852727, 0.4496113296546066, 0.4605387109582396, 0.4713967368259976, 0.4821837720791222, 0.49289819222978387, 0.5035383837257178, 0.5141027441932216, 0.5245896826784691, 0.5349976198870969, 0.5453249884220465, 0.5555702330196018, 0.5657318107836132, 0.5758081914178449, 0.5857978574564388, 0.5956993044924329, 0.6055110414043253, 0.615231590580627, 0.6248594881423861, 0.6343932841636456, 0.6438315428897912, 0.6531728429537768, 0.6624157775901715, 0.6715589548470184, 0.6806009977954527, 0.6895405447370668, 0.6983762494089725, 0.7071067811865474, 0.7157308252838188, 0.7242470829514667, 0.7326542716724129, 0.7409511253549588, 0.7491363945234593, 0.7572088465064842, 0.7651672656224588, 0.7730104533627367, 0.7807372285720944, 0.7883464276266059, 0.7958369046088833, 0.803207531480645, 0.8104571982525947, 0.8175848131515837, 0.8245893027850251, 0.8314696123025452, 0.8382247055548377, 0.844853565249707, 0.8513551931052649, 0.857728610000272, 0.8639728561215864, 0.8700869911087112, 0.8760700941954067, 0.8819212643483548, 0.8876396204028539, 0.8932243011955151, 0.8986744656939538, 0.9039892931234431, 0.9091679830905224, 0.9142097557035304, 0.9191138516900577, 0.9238795325112865, 0.9285060804732155, 0.932992798834739, 0.9373390119125748, 0.9415440651830208, 0.9456073253805212, 0.9495281805930367, 0.9533060403541936, 0.9569403357322088, 0.9604305194155657, 0.9637760657954398, 0.9669764710448522, 0.970031253194544, 0.9729399522055602, 0.9757021300385285, 0.9783173707196277, 0.9807852804032303, 0.9831054874312163, 0.9852776423889411, 0.9873014181578583, 0.9891765099647809, 0.99090263542778, 0.99247953459871, 0.9939069700023561, 0.9951847266721969, 0.996312612182778, 0.9972904566786902, 0.9981181129001492, 0.9987954562051724, 0.9993223845883494, 0.9996988186962042, 0.9999247018391445])\n",
      "    a2 = declare(fixed, value=[3.5327824289561818, 3.330804306653522, 3.2067627154196052, 3.115760415709423, 3.043300160265717, 2.9827894246636704, 2.9306537482669137, 2.8847302485643036, 2.8436073103839603, 2.8063110134754217, 2.77214017407937, 2.740572639206182, 2.7112087664763966, 2.683735648515148, 2.6579035513233205, 2.633509871988707, 2.6103879026361403, 2.588398766525206, 2.567425506613319, 2.54736867045851, 2.5281429577645906, 2.5096746370047467, 2.4918995281678673, 2.474761408630264, 2.458210739665161, 2.4422036389905277, 2.4267010442847883, 2.4116680264893695, 2.397073221736998, 2.382888358068256, 2.369087858516701, 2.355648506195711, 2.3425491600836423, 2.3297705125417862, 2.3172948814000156, 2.305106030843119, 2.293189016425181, 2.28153005040231, 2.2701163842592402, 2.2589362058530265, 2.24797854903754, 2.2372332139888327, 2.2266906967413354, 2.2163421266819383, 2.206179210943866, 2.1961941848031903, 2.1863797673143206, 2.1767291215320657, 2.167235818760913, 2.1578938063503603, 2.1486973786210304, 2.139641150562095, 2.1307200339878762, 2.1219292158818566, 2.113264138690807, 2.1047204823613135, 2.09629414793641, 2.0879812425519297, 2.079778065691169, 2.0716810965728625, 2.0636869825617734, 2.055792528503632, 2.0479946868970322, 2.040290548824406, 2.032677335572536, 2.0251523908804216, 2.0177131737587497, 2.010357251830959, 2.003082295150906, 1.9958860704566335, 1.9887664358237014, 1.9817213356850727, 1.9747487961876966, 1.9678469208587337, 1.9610138865568796, 1.9542479396864865, 1.9475473926541997, 1.9409106205496316, 1.9343360580332198, 1.9278221964158873, 1.921367580916432, 1.9149708080837768, 1.90863052337228, 1.9023454188592859, 1.8961142310949797, 1.889935739075412, 1.8838087623302882, 1.8777321591177818, 1.8717048247192343, 1.865725689827154, 1.8597937190204292, 1.8539079093211341, 1.8480672888277168, 1.842270915419752, 1.8365178755297913, 1.8308072829781583, 1.8251382778668508, 1.8195100255289596, 1.8139217155302925, 1.8083725607200958, 1.8028617963279994, 1.7973886791044937, 1.7919524865024372, 1.78655251589725, 1.781188083843616, 1.775858525366648, 1.7705631932856072, 1.765301457568395, 1.7600727047151352, 1.7548763371692908, 1.7497117727548361, 1.7445784441381105, 1.7394757983130602, 1.7344032961086497, 1.7293604117173027, 1.7243466322432999, 1.719361457270119, 1.714404398445772, 1.7094749790852397, 1.704572733789159, 1.6996972080779733, 1.6948479580407874, 1.6900245499982254, 1.6852265601786205, 1.6804535744069031, 1.6757051878055946, 1.6709810045073394, 1.6662806373784413, 1.6616037077529031, 1.656949845176484, 1.65231868716033, 1.647709878943741, 1.6431230732656734, 1.638557930144588, 1.6340141166662792, 1.6294913067793382, 1.6249891810979202, 1.6205074267115007, 1.616045737001325, 1.6116038114632674, 1.6071813555368302, 1.602778080440027, 1.5983937030099076, 1.5940279455484894, 1.5896805356738788, 1.5853512061763686, 1.5810396948793115, 1.576745744504582, 1.5724691025424382, 1.568209521125614, 1.5639667569074769, 1.559740570944087, 1.5555307285800137, 1.5513369993377586, 1.5471591568106515, 1.542996978559085, 1.5388502460099627, 1.534718744359241, 1.5306022624774458, 1.5265005928180588, 1.5224135313286642, 1.518340877364754, 1.5142824336061007, 1.5102380059755953, 1.5062074035604718, 1.5021904385358245, 1.4981869260903422, 1.4941966843541787, 1.4902195343288829, 1.4862552998193195, 1.4823038073675112, 1.4783648861883298, 1.4744383681069824, 1.4705240874982228, 1.466621881227234, 1.462731588592123, 1.458853051267975, 1.4549861132524147, 1.4511306208126233, 1.4472864224337623, 1.443453368768762, 1.4396313125894242, 1.4358201087387992, 1.432019614084796, 1.4282296874749836, 1.4244501896925483, 1.4206809834133651, 1.4169219331641532, 1.4131729052816766, 1.4094337678729594, 1.4057043907764817, 1.401984645524328, 1.3982744053052563, 1.3945735449286578, 1.3908819407893847, 1.3871994708334143, 1.3835260145243249, 1.3798614528105597, 1.3762056680934556, 1.3725585441960084, 1.3689199663323592, 1.3652898210779754, 1.3616679963405045, 1.3580543813312875, 1.3544488665375016, 1.3508513436949223, 1.3472617057612826, 1.3436798468902118, 1.3401056624057361, 1.336539048777327, 1.3329799035954766, 1.3294281255477916, 1.3258836143955808, 1.3223462709509322, 1.3188159970542568, 1.3152926955522901, 1.311776270276536, 1.3082666260221427, 1.3047636685271926, 1.3012673044524004, 1.2977774413612042, 1.2942939877002366, 1.2908168527801696, 1.2873459467569157, 1.2838811806131825, 1.2804224661403625, 1.276969715920755, 1.2735228433101062, 1.2700817624204592, 1.266646388103305, 1.2632166359330264, 1.2597924221906238, 1.2563736638477176, 1.2529602785508152, 1.2495521846058377, 1.2461493009628979, 1.2427515472013209, 1.2393588435148999, 1.2359711106973812, 1.2325882701281707, 1.2292102437582553, 1.2258369540963294, 1.222468324195127, 1.2191042776379448, 1.2157447385253557, 1.2123896314621028, 1.209038881544173, 1.2056924143460366, 1.202350155908055, 1.199012032724045, 1.1956779717289983, 1.1923479002869475, 1.189021746178975, 1.1856994375913594, 1.1823809031038546, 1.1790660716780947, 1.1757548726461222, 1.1724472356990332, 1.1691430908757334, 1.1658423685518056, 1.1625449994284747, 1.1592509145216774, 1.1559600451512198, 1.152672322930028, 1.1493876797534828, 1.146106047788834, 1.1428273594646918, 1.1395515474605902, 1.1362785446966164, 1.1330082843231066, 1.129740699710397, 1.1264757244386336, 1.1232132922876312, 1.1199533372267787, 1.1166957934049884, 1.1134405951406834, 1.1101876769118193, 1.1069369733459375, 1.1036884192102443, 1.100441949401712, 1.0971974989372002, 1.093955002943591, 1.0907143966479327, 1.087475615367594, 1.0842385945004163, 1.081003269514868, 1.07776957594019, 1.0745374493565347, 1.0713068253850877, 1.0680776396781742, 1.0648498279093415, 1.0616233257634158, 1.0583980689265284, 1.0551739930761068, 1.0519510338708258, 1.0487291269405168, 1.045508207876026, 1.0422882122190245, 1.0390690754517555, 1.035850732986726, 1.0326331201563252, 1.0294161722023798, 1.0261998242656256, 1.0229840113751025, 1.0197686684374627, 1.016553730226188, 1.0133391313707099, 1.010124806345429, 1.0069106894586273, 1.0036967148412688, 1.00048281643568, 0.9972689279841093, 0.9940549830171531, 0.990840914842051, 0.9876266565308335, 0.9844121409083265, 0.9811973005399973, 0.9779820677196415, 0.9747663744569002, 0.9715501524646036, 0.9683333331459304, 0.9651158475813785, 0.9618976265155382, 0.9586786003436607, 0.9554586990980113, 0.9522378524340039, 0.9490159896161035, 0.9457930395034908, 0.9425689305354783, 0.9393435907166703, 0.9361169476018545, 0.9328889282806191, 0.9296594593616802, 0.9264284669569143, 0.9231958766650803, 0.9199616135552237, 0.9167256021497466, 0.9134877664071378, 0.9102480297043429, 0.9070063148187696, 0.9037625439099064, 0.9005166385005492, 0.8972685194576143, 0.894018106972528, 0.8907653205411735, 0.8875100789433834, 0.8842523002219562, 0.8809919016611847, 0.8777287997648731, 0.8744629102338306, 0.871194147942815, 0.8679224269169135, 0.8646476603073332, 0.8613697603665863, 0.8580886384230404, 0.8548042048548183, 0.8515163690630151, 0.8482250394442141, 0.8449301233622702, 0.8416315271193373, 0.8383291559261059, 0.8350229138712285, 0.8317127038898934, 0.8283984277315222, 0.82507998592655, 0.821757277752261, 0.8184302011976333, 0.815098652927164, 0.8117625282436266, 0.8084217210497248, 0.8050761238085928, 0.8017256275031042, 0.7983701215939308, 0.7950094939763143, 0.7916436309354844, 0.7882724171006811, 0.7848957353977135, 0.7815134670000023, 0.7781254912780369, 0.7747316857471859, 0.7713319260137863, 0.7679260857194453, 0.764514036483469, 0.7610956478433479, 0.7576707871932048, 0.7542393197201254, 0.7508011083382705, 0.7473560136206788, 0.74390389372865, 0.7404446043386061, 0.7369779985663124, 0.7335039268883392, 0.7300222370606367, 0.726532774034091, 0.7230353798669159, 0.7195298936337378, 0.71601615133121, 0.712493985779995, 0.7089632265229362, 0.7054236997192362, 0.7018752280344425, 0.6983176305260358, 0.6947507225243981, 0.6911743155089308, 0.687588216979073, 0.6839922303199605, 0.6803861546624455, 0.6767697847371851, 0.6731429107224821, 0.669505318085549, 0.6658567874168362, 0.6621970942570545, 0.6585260089164843, 0.65484329628615, 0.6511487156404, 0.6474420204304109, 0.6437229580680933, 0.6399912696998503, 0.6362466899695931, 0.6324889467703853, 0.6287177609840334, 0.624932846207907, 0.6211339084682007, 0.6173206459188156, 0.6134927485249564, 0.6096498977304912, 0.6057917661080331, 0.601918016990641, 0.598028304083933, 0.594122271057333, 0.5901995511130481, 0.5862597665312865, 0.5823025281900804, 0.5783274350579691, 0.5743340736576326, 0.5703220174984222, 0.5662908264755476, 0.5622400462334989, 0.5581692074910586, 0.5540778253250399, 0.5499653984096154, 0.5458314082078302, 0.5416753181115674, 0.5374965725258996, 0.5332945958933567, 0.5290687916532321, 0.5248185411305525, 0.5205432023488241, 0.5162421087600569, 0.5119145678849238, 0.5075598598551528, 0.5031772358494339, 0.49876591641317175, 0.4943250896513783, 0.4898539092827965, 0.48535149254202054, 0.4808169179148438, 0.476249222690357, 0.47164740031134356, 0.46701039750230167, 0.4623371111518542, 0.45762638492340174, 0.452877005564503, 0.44808769888162364, 0.4432571253424207, 0.43838387526259154, 0.43346646352831547, 0.42850332379836414, 0.4234928021218074, 0.41843314989772334, 0.41332251609209913, 0.40815893861390373, 0.4029403347366371, 0.3976644904330612, 0.39232904846857397, 0.38693149507205943, 0.38146914497093554, 0.375939124538305, 0.3703383527528692, 0.3646635196145427, 0.35891106158770963, 0.35307713355630743, 0.3471575766656889, 0.34114788128944284, 0.33504314418679376, 0.3288380186969743, 0.3225266565361063, 0.3161026393993647, 0.30955889809823756, 0.3028876163401115, 0.29608011542908097, 0.2891267150522811, 0.2820165637975168, 0.27473743095125236, 0.2672754481881163, 0.2596147855798745, 0.25173724028892036, 0.24362170735021405, 0.23524348840829098, 0.22657337331901048, 0.21757639617341185, 0.20821011252597887, 0.19842215133916036, 0.1881466295175174, 0.1772987078092207, 0.16576595478748973, 0.15339388240465374, 0.13995997708121918, 0.1251225688694633, 0.10830622745159332, 0.0883884038442272, 0.062469514665343846])\n",
      "    v9 = declare(fixed, )\n",
      "    v10 = declare(int, )\n",
      "    v11 = declare(int, )\n",
      "    v12 = declare(int, value=1203)\n",
      "    a3 = declare(fixed, size=1)\n",
      "    a4 = declare(fixed, size=1)\n",
      "    a5 = declare(fixed, value=[-1.9800000190734863])\n",
      "    a6 = declare(fixed, value=[2.0])\n",
      "    v13 = declare(int, )\n",
      "    v14 = declare(int, value=0)\n",
      "    a7 = declare(int, value=[0, 0])\n",
      "    v15 = declare(fixed, value=0.0)\n",
      "    v16 = declare(int, value=0)\n",
      "    v17 = declare(int, value=0)\n",
      "    a8 = declare(bool, value=[False])\n",
      "    v18 = declare(int, value=0)\n",
      "    v19 = declare(int, value=0)\n",
      "    v20 = declare(fixed, )\n",
      "    v21 = declare(fixed, )\n",
      "    v22 = declare(bool, )\n",
      "    v23 = declare(int, value=1)\n",
      "    v24 = declare(bool, )\n",
      "    v25 = declare(fixed, )\n",
      "    v26 = declare(fixed, )\n",
      "    set_dc_offset(\"qC1.z\", \"single\", 0.07353842440447914)\n",
      "    set_dc_offset(\"qC5.z\", \"single\", 0.04776559763371642)\n",
      "    set_dc_offset(\"qD1.z\", \"single\", 0.004287732836781102)\n",
      "    set_dc_offset(\"qD2.z\", \"single\", -0.01870795584394683)\n",
      "    set_dc_offset(\"qD3.z\", \"single\", 0.02162968293168682)\n",
      "    set_dc_offset(\"qA1.z\", \"single\", 0.0)\n",
      "    set_dc_offset(\"qA2.z\", \"single\", 0.0)\n",
      "    set_dc_offset(\"qA3.z\", \"single\", 0.0)\n",
      "    set_dc_offset(\"qA4.z\", \"single\", 0.0)\n",
      "    set_dc_offset(\"qA5.z\", \"single\", 0.0)\n",
      "    set_dc_offset(\"qA6.z\", \"single\", 0.0)\n",
      "    set_dc_offset(\"qB1.z\", \"single\", 0.1372352610174512)\n",
      "    set_dc_offset(\"qB2.z\", \"single\", 0.14555939897889356)\n",
      "    set_dc_offset(\"qB3.z\", \"single\", -0.16708236152554629)\n",
      "    set_dc_offset(\"qB4.z\", \"single\", -0.1689846672578381)\n",
      "    set_dc_offset(\"qB5.z\", \"single\", -0.16749376994731424)\n",
      "    set_dc_offset(\"qC2.z\", \"single\", -0.11680096377450461)\n",
      "    set_dc_offset(\"qC3.z\", \"single\", -0.12980476956533632)\n",
      "    set_dc_offset(\"qC4.z\", \"single\", -0.16333557374426036)\n",
      "    set_dc_offset(\"qD4.z\", \"single\", 0.16110523428884052)\n",
      "    set_dc_offset(\"qD5.z\", \"single\", 0.16005206662040408)\n",
      "    with for_(v5,0,(v5<1000),(v5+1)):\n",
      "        advance_input_stream(input_stream_mu)\n",
      "        advance_input_stream(input_stream_sigma)\n",
      "        assign(v12, (1203+v5))\n",
      "        advance_input_stream(input_stream_max_input_state)\n",
      "        with for_(v6,0,(input_stream_max_input_state>v6),(v6+1)):\n",
      "            assign(v6, (v6+1))\n",
      "            advance_input_stream(input_stream_input_state_0)\n",
      "            advance_input_stream(input_stream_max_observables)\n",
      "            with for_(v4,0,(input_stream_max_observables>v4),(v4+1)):\n",
      "                advance_input_stream(input_stream_observable_0)\n",
      "                advance_input_stream(input_stream_pauli_shots)\n",
      "                with for_(v7,0,(v7<10),(v7+2)):\n",
      "                    with for_(v8,0,(v8<1),(v8+1)):\n",
      "                        assign(v9, Random(v12).rand_fixed())\n",
      "                        assign(v10, Cast.unsafe_cast_int((v9>>19)))\n",
      "                        assign(v11, (Cast.unsafe_cast_int(v9)&524287))\n",
      "                        assign(a3[v8], (input_stream_mu[v8]+((input_stream_sigma[v8]*a2[v10])*a1[(v11&511)])))\n",
      "                        assign(a4[v8], (input_stream_mu[v8]+((input_stream_sigma[v8]*a2[v10])*a1[((v11+128)&511)])))\n",
      "                        assign(a3[v8], Util.cond((a3[v8]<a5[v8]),a5[v8],a3[v8]))\n",
      "                        assign(a3[v8], Util.cond((a3[v8]>a6[v8]),a6[v8],a3[v8]))\n",
      "                        assign(a4[v8], Util.cond((a4[v8]<a5[v8]),a5[v8],a4[v8]))\n",
      "                        assign(a4[v8], Util.cond((a4[v8]>a6[v8]),a6[v8],a4[v8]))\n",
      "                    with for_(v8,0,(v8<2),(v8+1)):\n",
      "                        assign(input_stream_a_0_0, Util.cond((v8==0),a3[0],a4[0]))\n",
      "                        with for_(v13,0,(input_stream_pauli_shots>v13),(v13+1)):\n",
      "                            assign(v15, input_stream_a_0_0)\n",
      "                            assign(v16, input_stream_input_state_0)\n",
      "                            assign(v17, input_stream_observable_0)\n",
      "                            align(\"qC1.resonator\", \"qC1.xy\", \"qC1.z\")\n",
      "                            assign(v23, 1)\n",
      "                            align(\"qC1.resonator\", \"qC1.xy\")\n",
      "                            measure(\"readout\", \"qC1.resonator\", dual_demod.full(\"iw1\", \"iw2\", v20), dual_demod.full(\"iw3\", \"iw1\", v21))\n",
      "                            assign(v22, (v20>0.000505983712731319))\n",
      "                            wait(750, \"qC1.resonator\")\n",
      "                            align(\"qC1.resonator\", \"qC1.xy\")\n",
      "                            play(\"x180_DragCosine\", \"qC1.xy\", condition=v22)\n",
      "                            align(\"qC1.resonator\", \"qC1.xy\")\n",
      "                            with while_(broadcast.and_((v20>0.00023374363577669444), (v23<5))):\n",
      "                                align(\"qC1.resonator\", \"qC1.xy\")\n",
      "                                measure(\"readout\", \"qC1.resonator\", dual_demod.full(\"iw1\", \"iw2\", v20), dual_demod.full(\"iw3\", \"iw1\", v21))\n",
      "                                assign(v22, (v20>0.000505983712731319))\n",
      "                                wait(750, \"qC1.resonator\")\n",
      "                                align(\"qC1.resonator\", \"qC1.xy\")\n",
      "                                play(\"x180_DragCosine\", \"qC1.xy\", condition=v22)\n",
      "                                align(\"qC1.resonator\", \"qC1.xy\")\n",
      "                                assign(v23, (v23+1))\n",
      "                            align(\"qC1.resonator\", \"qC1.xy\")\n",
      "                            align(\"qC1.resonator\", \"qC1.xy\", \"qC1.z\")\n",
      "                            assign(v18, v16)\n",
      "                            with if_((v18==1), unsafe=True):\n",
      "                                align(\"qC1.resonator\", \"qC1.xy\", \"qC1.z\")\n",
      "                                play(\"x180_DragCosine\", \"qC1.xy\")\n",
      "                                align(\"qC1.resonator\", \"qC1.xy\", \"qC1.z\")\n",
      "                            with elif_((v18==2)):\n",
      "                                align(\"qC1.resonator\", \"qC1.xy\", \"qC1.z\")\n",
      "                                frame_rotation_2pi(1.5707963267948966, \"qC1.xy\")\n",
      "                                align(\"qC1.resonator\", \"qC1.xy\", \"qC1.z\")\n",
      "                                align(\"qC1.resonator\", \"qC1.xy\", \"qC1.z\")\n",
      "                                play(\"x90_DragCosine\", \"qC1.xy\")\n",
      "                                align(\"qC1.resonator\", \"qC1.xy\", \"qC1.z\")\n",
      "                                align(\"qC1.resonator\", \"qC1.xy\", \"qC1.z\")\n",
      "                                frame_rotation_2pi(1.5707963267948966, \"qC1.xy\")\n",
      "                                align(\"qC1.resonator\", \"qC1.xy\", \"qC1.z\")\n",
      "                            with elif_((v18==3)):\n",
      "                                align(\"qC1.resonator\", \"qC1.xy\", \"qC1.z\")\n",
      "                                frame_rotation_2pi(1.5707963267948966, \"qC1.xy\")\n",
      "                                align(\"qC1.resonator\", \"qC1.xy\", \"qC1.z\")\n",
      "                                align(\"qC1.resonator\", \"qC1.xy\", \"qC1.z\")\n",
      "                                play(\"x90_DragCosine\", \"qC1.xy\")\n",
      "                                align(\"qC1.resonator\", \"qC1.xy\", \"qC1.z\")\n",
      "                                align(\"qC1.resonator\", \"qC1.xy\", \"qC1.z\")\n",
      "                                frame_rotation_2pi(-1.570796326794897, \"qC1.xy\")\n",
      "                                align(\"qC1.resonator\", \"qC1.xy\", \"qC1.z\")\n",
      "                            with elif_((v18==4)):\n",
      "                                align(\"qC1.resonator\", \"qC1.xy\", \"qC1.z\")\n",
      "                                frame_rotation_2pi(1.5707963267948966, \"qC1.xy\")\n",
      "                                align(\"qC1.resonator\", \"qC1.xy\", \"qC1.z\")\n",
      "                                align(\"qC1.resonator\", \"qC1.xy\", \"qC1.z\")\n",
      "                                play(\"x90_DragCosine\", \"qC1.xy\")\n",
      "                                align(\"qC1.resonator\", \"qC1.xy\", \"qC1.z\")\n",
      "                                align(\"qC1.resonator\", \"qC1.xy\", \"qC1.z\")\n",
      "                                frame_rotation_2pi(-3.141592653589793, \"qC1.xy\")\n",
      "                                align(\"qC1.resonator\", \"qC1.xy\", \"qC1.z\")\n",
      "                            with elif_((v18==5)):\n",
      "                                align(\"qC1.resonator\", \"qC1.xy\", \"qC1.z\")\n",
      "                                frame_rotation_2pi(1.5707963267948966, \"qC1.xy\")\n",
      "                                align(\"qC1.resonator\", \"qC1.xy\", \"qC1.z\")\n",
      "                                align(\"qC1.resonator\", \"qC1.xy\", \"qC1.z\")\n",
      "                                play(\"x90_DragCosine\", \"qC1.xy\")\n",
      "                                align(\"qC1.resonator\", \"qC1.xy\", \"qC1.z\")\n",
      "                            align(\"qC1.resonator\", \"qC1.xy\", \"qC1.z\")\n",
      "                            play(\"x180\"*amp(v15), \"qC1.xy\")\n",
      "                            align(\"qC1.resonator\", \"qC1.xy\", \"qC1.z\")\n",
      "                            assign(v19, v17)\n",
      "                            with if_((v19==1), unsafe=True):\n",
      "                                align(\"qC1.resonator\", \"qC1.xy\", \"qC1.z\")\n",
      "                                frame_rotation_2pi(1.5707963267948966, \"qC1.xy\")\n",
      "                                align(\"qC1.resonator\", \"qC1.xy\", \"qC1.z\")\n",
      "                                align(\"qC1.resonator\", \"qC1.xy\", \"qC1.z\")\n",
      "                                play(\"x90_DragCosine\", \"qC1.xy\")\n",
      "                                align(\"qC1.resonator\", \"qC1.xy\", \"qC1.z\")\n",
      "                                align(\"qC1.resonator\", \"qC1.xy\", \"qC1.z\")\n",
      "                                frame_rotation_2pi(1.5707963267948966, \"qC1.xy\")\n",
      "                                align(\"qC1.resonator\", \"qC1.xy\", \"qC1.z\")\n",
      "                            with elif_((v19==2)):\n",
      "                                align(\"qC1.resonator\", \"qC1.xy\", \"qC1.z\")\n",
      "                                play(\"x90_DragCosine\", \"qC1.xy\")\n",
      "                                align(\"qC1.resonator\", \"qC1.xy\", \"qC1.z\")\n",
      "                                align(\"qC1.resonator\", \"qC1.xy\", \"qC1.z\")\n",
      "                                frame_rotation_2pi(1.5707963267948966, \"qC1.xy\")\n",
      "                                align(\"qC1.resonator\", \"qC1.xy\", \"qC1.z\")\n",
      "                            align(\"qC1.resonator\", \"qC1.xy\", \"qC1.z\")\n",
      "                            measure(\"readout\", \"qC1.resonator\", dual_demod.full(\"iw1\", \"iw2\", v25), dual_demod.full(\"iw3\", \"iw1\", v26))\n",
      "                            assign(v24, (v25>0.000505983712731319))\n",
      "                            align(\"qC1.resonator\", \"qC1.xy\", \"qC1.z\")\n",
      "                            assign(a8[0], v24)\n",
      "                            assign(v14, ((v14+1)<<(0*Cast.to_int(a8[0]))))\n",
      "                            assign(a7[v14], (a7[v14]+1))\n",
      "                            assign(v14, 0)\n",
      "                        with for_(v3,0,(v3<2),(v3+1)):\n",
      "                            assign(input_stream_reward[v3], a7[v3])\n",
      "                        with for_(v3,0,(v3<2),(v3+1)):\n",
      "                            r5 = declare_stream()\n",
      "                            save(input_stream_reward[v3], r5)\n",
      "    with stream_processing():\n",
      "        r5.buffer(2).save_all(\"reward\")\n",
      "\n",
      "config = None\n",
      "\n",
      "loaded_config = None\n",
      "\n",
      "\n"
     ]
    }
   ],
   "execution_count": 12
  },
  {
   "metadata": {
    "ExecuteTime": {
     "end_time": "2025-05-30T11:17:29.408180Z",
     "start_time": "2025-05-30T11:17:29.224872Z"
    }
   },
   "cell_type": "code",
   "source": [
    "ppo_config = PPOConfig.from_yaml(\"agent_config.yaml\")\n",
    "ppo_agent = CustomQMPPO(ppo_config, rescaled_env)\n",
    "\n",
    "ppo_training = TrainingConfig(num_updates)\n",
    "ppo_settings = TrainFunctionSettings(plot_real_time=True, print_debug=True)"
   ],
   "id": "e8824a4e9bda9681",
   "outputs": [],
   "execution_count": 13
  },
  {
   "metadata": {
    "ExecuteTime": {
     "end_time": "2025-05-30T11:17:44.547549Z",
     "start_time": "2025-05-30T11:17:29.568693Z"
    }
   },
   "cell_type": "code",
   "source": "q_env.start_program()",
   "id": "b15b810aa507edcc",
   "outputs": [
    {
     "name": "stdout",
     "output_type": "stream",
     "text": [
      "2025-05-30 19:17:32,745 - qm - INFO     - Performing health check\n",
      "2025-05-30 19:17:32 INFO Performing health check\n",
      "2025-05-30 19:17:33,088 - qm - INFO     - Cluster healthcheck completed successfully.\n",
      "2025-05-30 19:17:33 INFO Cluster healthcheck completed successfully.\n"
     ]
    },
    {
     "name": "stderr",
     "output_type": "stream",
     "text": [
      "/Users/arthurostrauss/anaconda3/envs/rl_qoc/lib/python3.11/site-packages/quam/components/channels.py:647: UserWarning: The 'thread' element argument is deprecated from qm.qua >= 1.2.2. Use 'core' instead.\n",
      "  warnings.warn(\n",
      "/Users/arthurostrauss/anaconda3/envs/rl_qoc/lib/python3.11/site-packages/qm/program/_qua_config_schema.py:1956: DeprecationWarning: 'version' is deprecated since \"1.2.2\" and will be removed in \"1.3.0\". Please remove it from the Qua config.\n",
      "  warnings.warn(\n"
     ]
    },
    {
     "name": "stdout",
     "output_type": "stream",
     "text": [
      "2025-05-30 19:17:34,939 - qm - INFO     - Clearing queue\n",
      "2025-05-30 19:17:34 INFO Clearing queue\n",
      "2025-05-30 19:17:36,071 - qm - INFO     - Adding program to queue.\n",
      "2025-05-30 19:17:36 INFO Adding program to queue.\n"
     ]
    },
    {
     "data": {
      "text/plain": [
       "JobApiWithDeprecations(connection_details=ConnectionDetails(host='10.1.1.6', port=9510, user_token='', ssl_context=None, max_message_size=104857600, headers={'x-grpc-service': 'gateway', 'cluster_name': 'galil_gilboa'}, timeout=60, debug_data=None), job_id=1929f01d-f769-4db8-8c2e-5f802b28fd6e)"
      ]
     },
     "execution_count": 14,
     "metadata": {},
     "output_type": "execute_result"
    }
   ],
   "execution_count": 14
  },
  {
   "metadata": {
    "ExecuteTime": {
     "end_time": "2025-05-30T11:17:47.049405Z",
     "start_time": "2025-05-30T11:17:44.729371Z"
    }
   },
   "cell_type": "code",
   "source": "ppo_agent.train()",
   "id": "51386d41b5cf4a45",
   "outputs": [
    {
     "name": "stderr",
     "output_type": "stream",
     "text": [
      "/Users/arthurostrauss/anaconda3/envs/rl_qoc/lib/python3.11/site-packages/gymnasium/spaces/box.py:235: UserWarning: \u001B[33mWARN: Box low's precision lowered by casting to float32, current low.dtype=float64\u001B[0m\n",
      "  gym.logger.warn(\n",
      "/Users/arthurostrauss/anaconda3/envs/rl_qoc/lib/python3.11/site-packages/gymnasium/spaces/box.py:305: UserWarning: \u001B[33mWARN: Box high's precision lowered by casting to float32, current high.dtype=float64\u001B[0m\n",
      "  gym.logger.warn(\n",
      "/Users/arthurostrauss/Library/CloudStorage/OneDrive-NationalUniversityofSingapore/Coding_projects/Quantum_Optimal_Control/rl_qoc/qua/qua_ppo.py:29: RuntimeWarning: overflow encountered in scalar multiply\n",
      "  return (a * seed + c) % m\n",
      "/Users/arthurostrauss/anaconda3/envs/rl_qoc/lib/python3.11/site-packages/quam/components/channels.py:647: UserWarning: The 'thread' element argument is deprecated from qm.qua >= 1.2.2. Use 'core' instead.\n",
      "  warnings.warn(\n",
      "/Users/arthurostrauss/anaconda3/envs/rl_qoc/lib/python3.11/site-packages/qm/program/_qua_config_schema.py:1956: DeprecationWarning: 'version' is deprecated since \"1.2.2\" and will be removed in \"1.3.0\". Please remove it from the Qua config.\n",
      "  warnings.warn(\n"
     ]
    },
    {
     "ename": "QopResponseError",
     "evalue": "Error from QOP, details:\nJob 1929f01d-f769-4db8-8c2e-5f802b28fd6e was not found.",
     "output_type": "error",
     "traceback": [
      "\u001B[0;31m---------------------------------------------------------------------------\u001B[0m",
      "\u001B[0;31mQopResponseError\u001B[0m                          Traceback (most recent call last)",
      "Cell \u001B[0;32mIn[15], line 1\u001B[0m\n\u001B[0;32m----> 1\u001B[0m ppo_agent\u001B[38;5;241m.\u001B[39mtrain()\n",
      "File \u001B[0;32m~/Library/CloudStorage/OneDrive-NationalUniversityofSingapore/Coding_projects/Quantum_Optimal_Control/rl_qoc/agent/ppo.py:263\u001B[0m, in \u001B[0;36mCustomPPO.train\u001B[0;34m(self, training_config, train_function_settings)\u001B[0m\n\u001B[1;32m    260\u001B[0m     action, logprob \u001B[38;5;241m=\u001B[39m \u001B[38;5;28mself\u001B[39m\u001B[38;5;241m.\u001B[39mprocess_action(probs)\n\u001B[1;32m    261\u001B[0m     values[step] \u001B[38;5;241m=\u001B[39m critic_value\u001B[38;5;241m.\u001B[39mflatten()\n\u001B[0;32m--> 263\u001B[0m next_obs, reward, terminated, truncated, infos \u001B[38;5;241m=\u001B[39m env\u001B[38;5;241m.\u001B[39mstep(action\u001B[38;5;241m.\u001B[39mcpu()\u001B[38;5;241m.\u001B[39mnumpy())\n\u001B[1;32m    264\u001B[0m next_obs \u001B[38;5;241m=\u001B[39m torch\u001B[38;5;241m.\u001B[39mTensor(next_obs, device\u001B[38;5;241m=\u001B[39m\u001B[38;5;28mself\u001B[39m\u001B[38;5;241m.\u001B[39mdevice)\n\u001B[1;32m    265\u001B[0m done \u001B[38;5;241m=\u001B[39m \u001B[38;5;28mint\u001B[39m(np\u001B[38;5;241m.\u001B[39mlogical_or(terminated, truncated))\n",
      "File \u001B[0;32m~/anaconda3/envs/rl_qoc/lib/python3.11/site-packages/gymnasium/core.py:626\u001B[0m, in \u001B[0;36mActionWrapper.step\u001B[0;34m(self, action)\u001B[0m\n\u001B[1;32m    622\u001B[0m \u001B[38;5;28;01mdef\u001B[39;00m \u001B[38;5;21mstep\u001B[39m(\n\u001B[1;32m    623\u001B[0m     \u001B[38;5;28mself\u001B[39m, action: WrapperActType\n\u001B[1;32m    624\u001B[0m ) \u001B[38;5;241m-\u001B[39m\u001B[38;5;241m>\u001B[39m \u001B[38;5;28mtuple\u001B[39m[ObsType, SupportsFloat, \u001B[38;5;28mbool\u001B[39m, \u001B[38;5;28mbool\u001B[39m, \u001B[38;5;28mdict\u001B[39m[\u001B[38;5;28mstr\u001B[39m, Any]]:\n\u001B[1;32m    625\u001B[0m \u001B[38;5;250m    \u001B[39m\u001B[38;5;124;03m\"\"\"Runs the :attr:`env` :meth:`env.step` using the modified ``action`` from :meth:`self.action`.\"\"\"\u001B[39;00m\n\u001B[0;32m--> 626\u001B[0m     \u001B[38;5;28;01mreturn\u001B[39;00m \u001B[38;5;28mself\u001B[39m\u001B[38;5;241m.\u001B[39menv\u001B[38;5;241m.\u001B[39mstep(\u001B[38;5;28mself\u001B[39m\u001B[38;5;241m.\u001B[39maction(action))\n",
      "File \u001B[0;32m~/Library/CloudStorage/OneDrive-NationalUniversityofSingapore/Coding_projects/Quantum_Optimal_Control/rl_qoc/qua/qm_environment.py:195\u001B[0m, in \u001B[0;36mQMEnvironment.step\u001B[0;34m(self, action)\u001B[0m\n\u001B[1;32m    186\u001B[0m reward_data: RewardDataType \u001B[38;5;241m=\u001B[39m \u001B[38;5;28mself\u001B[39m\u001B[38;5;241m.\u001B[39mconfig\u001B[38;5;241m.\u001B[39mreward\u001B[38;5;241m.\u001B[39mget_reward_data(\n\u001B[1;32m    187\u001B[0m     \u001B[38;5;28mself\u001B[39m\u001B[38;5;241m.\u001B[39mcircuit,\n\u001B[1;32m    188\u001B[0m     np\u001B[38;5;241m.\u001B[39mzeros((\u001B[38;5;241m1\u001B[39m, \u001B[38;5;28mself\u001B[39m\u001B[38;5;241m.\u001B[39mn_actions)),\n\u001B[0;32m   (...)\u001B[0m\n\u001B[1;32m    191\u001B[0m     additional_input,\n\u001B[1;32m    192\u001B[0m )\n\u001B[1;32m    194\u001B[0m \u001B[38;5;66;03m# Push policy parameters to trigger real-time action sampling\u001B[39;00m\n\u001B[0;32m--> 195\u001B[0m \u001B[38;5;28mself\u001B[39m\u001B[38;5;241m.\u001B[39mpolicy\u001B[38;5;241m.\u001B[39mpush_to_opx({\u001B[38;5;124m\"\u001B[39m\u001B[38;5;124mmu\u001B[39m\u001B[38;5;124m\"\u001B[39m: mean_val, \u001B[38;5;124m\"\u001B[39m\u001B[38;5;124msigma\u001B[39m\u001B[38;5;124m\"\u001B[39m: std_val}, \u001B[38;5;241m*\u001B[39m\u001B[38;5;241m*\u001B[39mpush_args)\n\u001B[1;32m    196\u001B[0m \u001B[38;5;28;01mif\u001B[39;00m \u001B[38;5;28mself\u001B[39m\u001B[38;5;241m.\u001B[39mcircuit_choice_var \u001B[38;5;129;01mis\u001B[39;00m \u001B[38;5;129;01mnot\u001B[39;00m \u001B[38;5;28;01mNone\u001B[39;00m:\n\u001B[1;32m    197\u001B[0m     \u001B[38;5;28mself\u001B[39m\u001B[38;5;241m.\u001B[39mcircuit_choice_var\u001B[38;5;241m.\u001B[39mpush_to_opx(\u001B[38;5;28mself\u001B[39m\u001B[38;5;241m.\u001B[39mtrunc_index, \u001B[38;5;241m*\u001B[39m\u001B[38;5;241m*\u001B[39mpush_args)\n",
      "File \u001B[0;32m~/Library/CloudStorage/OneDrive-QMMachinesLTD/GitHub/qiskit-qm-provider/qiskit_qm_provider/parameter_table/parameter_table.py:660\u001B[0m, in \u001B[0;36mParameterTable.push_to_opx\u001B[0;34m(self, param_dict, job, qm, verbosity)\u001B[0m\n\u001B[1;32m    658\u001B[0m     \u001B[38;5;28;01mif\u001B[39;00m parameter \u001B[38;5;129;01mnot\u001B[39;00m \u001B[38;5;129;01min\u001B[39;00m \u001B[38;5;28mself\u001B[39m\u001B[38;5;241m.\u001B[39mtable\u001B[38;5;241m.\u001B[39mkeys():\n\u001B[1;32m    659\u001B[0m         \u001B[38;5;28;01mraise\u001B[39;00m \u001B[38;5;167;01mKeyError\u001B[39;00m(\u001B[38;5;124mf\u001B[39m\u001B[38;5;124m\"\u001B[39m\u001B[38;5;124mNo parameter named \u001B[39m\u001B[38;5;132;01m{\u001B[39;00mparameter\u001B[38;5;132;01m}\u001B[39;00m\u001B[38;5;124m in the parameter table.\u001B[39m\u001B[38;5;124m\"\u001B[39m)\n\u001B[0;32m--> 660\u001B[0m     \u001B[38;5;28mself\u001B[39m\u001B[38;5;241m.\u001B[39mtable[parameter]\u001B[38;5;241m.\u001B[39mpush_to_opx(value, job, qm, verbosity)\n\u001B[1;32m    661\u001B[0m \u001B[38;5;28;01melif\u001B[39;00m \u001B[38;5;28misinstance\u001B[39m(parameter, Parameter):\n\u001B[1;32m    662\u001B[0m     \u001B[38;5;28;01mif\u001B[39;00m parameter \u001B[38;5;129;01mnot\u001B[39;00m \u001B[38;5;129;01min\u001B[39;00m \u001B[38;5;28mself\u001B[39m\u001B[38;5;241m.\u001B[39mparameters:\n",
      "File \u001B[0;32m~/Library/CloudStorage/OneDrive-QMMachinesLTD/GitHub/qiskit-qm-provider/qiskit_qm_provider/parameter_table/parameter.py:718\u001B[0m, in \u001B[0;36mParameter.push_to_opx\u001B[0;34m(self, value, job, qm, verbosity)\u001B[0m\n\u001B[1;32m    715\u001B[0m         job\u001B[38;5;241m.\u001B[39mresume()\n\u001B[1;32m    717\u001B[0m \u001B[38;5;28;01melif\u001B[39;00m \u001B[38;5;28mself\u001B[39m\u001B[38;5;241m.\u001B[39minput_type \u001B[38;5;241m==\u001B[39m InputType\u001B[38;5;241m.\u001B[39mINPUT_STREAM:\n\u001B[0;32m--> 718\u001B[0m     job\u001B[38;5;241m.\u001B[39mpush_to_input_stream(\u001B[38;5;28mself\u001B[39m\u001B[38;5;241m.\u001B[39mname, value)\n\u001B[1;32m    720\u001B[0m \u001B[38;5;28;01melif\u001B[39;00m \u001B[38;5;28mself\u001B[39m\u001B[38;5;241m.\u001B[39minput_type \u001B[38;5;241m==\u001B[39m InputType\u001B[38;5;241m.\u001B[39mDGX:\n\u001B[1;32m    721\u001B[0m     \u001B[38;5;28;01mif\u001B[39;00m \u001B[38;5;28mself\u001B[39m\u001B[38;5;241m.\u001B[39mis_standalone():\n",
      "File \u001B[0;32m~/anaconda3/envs/rl_qoc/lib/python3.11/site-packages/qm/api/v2/job_api/job_api.py:1007\u001B[0m, in \u001B[0;36mJobApiWithDeprecations.push_to_input_stream\u001B[0;34m(self, name, data)\u001B[0m\n\u001B[1;32m   1005\u001B[0m \u001B[38;5;28;01mif\u001B[39;00m \u001B[38;5;129;01mnot\u001B[39;00m \u001B[38;5;28misinstance\u001B[39m(data, \u001B[38;5;28mlist\u001B[39m):\n\u001B[1;32m   1006\u001B[0m     data \u001B[38;5;241m=\u001B[39m [data]\n\u001B[0;32m-> 1007\u001B[0m \u001B[38;5;28msuper\u001B[39m()\u001B[38;5;241m.\u001B[39mpush_to_input_stream(name, data)\n",
      "File \u001B[0;32m~/anaconda3/envs/rl_qoc/lib/python3.11/site-packages/qm/api/v2/job_api/job_api.py:230\u001B[0m, in \u001B[0;36mJobApi.push_to_input_stream\u001B[0;34m(self, stream_name, data)\u001B[0m\n\u001B[1;32m    228\u001B[0m     \u001B[38;5;28mself\u001B[39m\u001B[38;5;241m.\u001B[39m_typed_push_to_input_stream(stream_name, \u001B[38;5;28mint\u001B[39m, data)\n\u001B[1;32m    229\u001B[0m \u001B[38;5;28;01melif\u001B[39;00m \u001B[38;5;28mall\u001B[39m(\u001B[38;5;28mtype\u001B[39m(element) \u001B[38;5;241m==\u001B[39m \u001B[38;5;28mfloat\u001B[39m \u001B[38;5;28;01mfor\u001B[39;00m element \u001B[38;5;129;01min\u001B[39;00m data):\n\u001B[0;32m--> 230\u001B[0m     \u001B[38;5;28mself\u001B[39m\u001B[38;5;241m.\u001B[39m_typed_push_to_input_stream(stream_name, \u001B[38;5;28mfloat\u001B[39m, data)\n\u001B[1;32m    231\u001B[0m \u001B[38;5;28;01melse\u001B[39;00m:\n\u001B[1;32m    232\u001B[0m     \u001B[38;5;28;01mraise\u001B[39;00m QmValueError(\n\u001B[1;32m    233\u001B[0m         \u001B[38;5;124mf\u001B[39m\u001B[38;5;124m\"\u001B[39m\u001B[38;5;124mInvalid type in data, type is \u001B[39m\u001B[38;5;124m'\u001B[39m\u001B[38;5;132;01m{\u001B[39;00m\u001B[38;5;28mset\u001B[39m(\u001B[38;5;28mtype\u001B[39m(el)\u001B[38;5;250m \u001B[39m\u001B[38;5;28;01mfor\u001B[39;00m\u001B[38;5;250m \u001B[39mel\u001B[38;5;250m \u001B[39m\u001B[38;5;129;01min\u001B[39;00m\u001B[38;5;250m \u001B[39mdata)\u001B[38;5;132;01m}\u001B[39;00m\u001B[38;5;124m'\u001B[39m\u001B[38;5;124m, \u001B[39m\u001B[38;5;124m\"\u001B[39m\n\u001B[1;32m    234\u001B[0m         \u001B[38;5;124mf\u001B[39m\u001B[38;5;124m\"\u001B[39m\u001B[38;5;124mexcepted types are bool | int | float\u001B[39m\u001B[38;5;124m\"\u001B[39m\n\u001B[1;32m    235\u001B[0m     )\n",
      "File \u001B[0;32m~/anaconda3/envs/rl_qoc/lib/python3.11/site-packages/qm/api/v2/job_api/job_api.py:256\u001B[0m, in \u001B[0;36mJobApi._typed_push_to_input_stream\u001B[0;34m(self, stream_name, data_type, data)\u001B[0m\n\u001B[1;32m    253\u001B[0m \u001B[38;5;28;01melse\u001B[39;00m:\n\u001B[1;32m    254\u001B[0m     \u001B[38;5;28;01mraise\u001B[39;00m \u001B[38;5;167;01mTypeError\u001B[39;00m(\u001B[38;5;124mf\u001B[39m\u001B[38;5;124m\"\u001B[39m\u001B[38;5;124mData type \u001B[39m\u001B[38;5;132;01m{\u001B[39;00mdata_type\u001B[38;5;132;01m}\u001B[39;00m\u001B[38;5;124m is not supported\u001B[39m\u001B[38;5;124m\"\u001B[39m)\n\u001B[0;32m--> 256\u001B[0m \u001B[38;5;28mself\u001B[39m\u001B[38;5;241m.\u001B[39m_run(\u001B[38;5;28mself\u001B[39m\u001B[38;5;241m.\u001B[39m_stub\u001B[38;5;241m.\u001B[39mpush_to_input_stream(request, timeout\u001B[38;5;241m=\u001B[39m\u001B[38;5;28mself\u001B[39m\u001B[38;5;241m.\u001B[39m_timeout))\n",
      "File \u001B[0;32m~/anaconda3/envs/rl_qoc/lib/python3.11/site-packages/qm/api/v2/base_api_v2.py:23\u001B[0m, in \u001B[0;36mBaseApiV2._run\u001B[0;34m(self, coroutine, timeout)\u001B[0m\n\u001B[1;32m     21\u001B[0m     \u001B[38;5;28;01mreturn\u001B[39;00m response\u001B[38;5;241m.\u001B[39msuccess\n\u001B[1;32m     22\u001B[0m \u001B[38;5;28;01melse\u001B[39;00m:\n\u001B[0;32m---> 23\u001B[0m     \u001B[38;5;28;01mraise\u001B[39;00m QopResponseError(error\u001B[38;5;241m=\u001B[39mresponse\u001B[38;5;241m.\u001B[39merror)\n",
      "\u001B[0;31mQopResponseError\u001B[0m: Error from QOP, details:\nJob 1929f01d-f769-4db8-8c2e-5f802b28fd6e was not found."
     ]
    }
   ],
   "execution_count": 15
  },
  {
   "metadata": {
    "ExecuteTime": {
     "end_time": "2025-05-30T10:38:31.734194Z",
     "start_time": "2025-05-30T10:38:31.729815Z"
    }
   },
   "cell_type": "code",
   "source": "machine.network",
   "id": "3c8aa595330be46f",
   "outputs": [
    {
     "data": {
      "text/plain": [
       "{'host': '10.1.1.6', 'port': None, 'cloud': False, 'octave_ips': [], 'cluster_name': 'galil_gilboa', 'octave_ports': [], 'quantum_computer_backend': 'gilboa'}"
      ]
     },
     "execution_count": 17,
     "metadata": {},
     "output_type": "execute_result"
    }
   ],
   "execution_count": 17
  },
  {
   "metadata": {
    "ExecuteTime": {
     "end_time": "2025-05-30T11:17:58.704968Z",
     "start_time": "2025-05-30T11:17:58.702283Z"
    }
   },
   "cell_type": "code",
   "source": "q_env.qm_job",
   "id": "d880cb86ef7200a",
   "outputs": [
    {
     "data": {
      "text/plain": [
       "JobApiWithDeprecations(connection_details=ConnectionDetails(host='10.1.1.6', port=9510, user_token='', ssl_context=None, max_message_size=104857600, headers={'x-grpc-service': 'gateway', 'cluster_name': 'galil_gilboa'}, timeout=60, debug_data=None), job_id=1929f01d-f769-4db8-8c2e-5f802b28fd6e)"
      ]
     },
     "execution_count": 16,
     "metadata": {},
     "output_type": "execute_result"
    }
   ],
   "execution_count": 16
  },
  {
   "metadata": {},
   "cell_type": "code",
   "outputs": [],
   "execution_count": null,
   "source": "",
   "id": "5d48b299d46bdb2"
  }
 ],
 "metadata": {
  "kernelspec": {
   "display_name": "Python 3",
   "language": "python",
   "name": "python3"
  },
  "language_info": {
   "codemirror_mode": {
    "name": "ipython",
    "version": 2
   },
   "file_extension": ".py",
   "mimetype": "text/x-python",
   "name": "python",
   "nbconvert_exporter": "python",
   "pygments_lexer": "ipython2",
   "version": "2.7.6"
  }
 },
 "nbformat": 4,
 "nbformat_minor": 5
}

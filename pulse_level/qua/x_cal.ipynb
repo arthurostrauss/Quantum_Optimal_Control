{
 "cells": [
  {
   "cell_type": "markdown",
   "id": "3e0343d0851848c2",
   "metadata": {},
   "source": [
    "# Gate calibration with RL with the Quantum Orchestration Platform\n",
    "\n",
    "This notebook is the template workflow enabling you to run gate calibration leveraging all the low-level capabilities of the QOP for maximum efficiency."
   ]
  },
  {
   "cell_type": "code",
   "execution_count": 1,
   "id": "initial_id",
   "metadata": {
    "ExecuteTime": {
     "end_time": "2025-06-27T02:35:59.537639Z",
     "start_time": "2025-06-27T02:35:56.476693Z"
    }
   },
   "outputs": [
    {
     "name": "stdout",
     "output_type": "stream",
     "text": [
      "2025-07-09 15:51:31,030 - qm - INFO     - Starting session: 9bd2081d-a09a-4aa3-a285-d6423b24f8ab\n",
      "2025-07-09 15:51:31 INFO Starting session: 9bd2081d-a09a-4aa3-a285-d6423b24f8ab\n"
     ]
    }
   ],
   "source": [
    "import numpy as np\n",
    "from qiskit.circuit import QuantumCircuit, QuantumRegister, Parameter, Gate\n",
    "from typing import List\n",
    "from gymnasium.spaces import Box\n",
    "from rl_qoc.qua import QMEnvironment, QMConfig, CustomQMPPO\n",
    "from quam_libs.components import QuAM, Transmon\n",
    "from qiskit_qm_provider import FluxTunableTransmonBackend, QMInstructionProperties, InputType\n",
    "from qiskit_qm_provider.backend import add_basic_macros_to_machine\n",
    "from rl_qoc.agent.ppo_config import (\n",
    "    WandBConfig,\n",
    "    PPOConfig,\n",
    "    TrainingConfig,\n",
    "    TrainFunctionSettings,\n",
    "    TotalUpdates,\n",
    ")\n",
    "from rl_qoc import (\n",
    "    RescaleAndClipAction,\n",
    "    ChannelReward,\n",
    "    StateReward,\n",
    "    CAFEReward,\n",
    "    ExecutionConfig,\n",
    "    QEnvConfig,\n",
    "    BenchmarkConfig,\n",
    "    GateTarget,\n",
    "    StateTarget,\n",
    ")"
   ]
  },
  {
   "cell_type": "markdown",
   "id": "e86df896fa91cf8f",
   "metadata": {},
   "source": [
    "## Accessing the device"
   ]
  },
  {
   "cell_type": "code",
   "execution_count": 2,
   "id": "127039d157766e3",
   "metadata": {
    "ExecuteTime": {
     "end_time": "2025-06-27T02:36:05.891199Z",
     "start_time": "2025-06-27T02:35:59.600119Z"
    }
   },
   "outputs": [],
   "source": [
    "from iqcc_cloud_client import IQCC_Cloud\n",
    "import json\n",
    "import os\n",
    "from pathlib import Path\n",
    "\n",
    "# Set your quantum computer backend\n",
    "path = Path.home() / \"iqcc_token.json\"\n",
    "with open(path, \"r\") as f:\n",
    "    iqcc_config = json.load(f)\n",
    "\n",
    "quantum_computer_backend = \"arbel\"  # for example qc_qwfix\n",
    "iqcc = IQCC_Cloud(\n",
    "    quantum_computer_backend=quantum_computer_backend,\n",
    "    api_token=iqcc_config[quantum_computer_backend],\n",
    ")\n",
    "# Get the latest state and wiring files\n",
    "latest_wiring = iqcc.state.get_latest(\"wiring\")\n",
    "latest_state = iqcc.state.get_latest(\"state\")\n",
    "\n",
    "# Get the state folder path from environment variable\n",
    "quam_state_folder_path = os.environ[\"QUAM_STATE_PATH\"]\n",
    "\n",
    "# Save the files\n",
    "with open(os.path.join(quam_state_folder_path, \"wiring.json\"), \"w\") as f:\n",
    "    json.dump(latest_wiring.data, f, indent=4)\n",
    "\n",
    "with open(os.path.join(quam_state_folder_path, \"state.json\"), \"w\") as f:\n",
    "    json.dump(latest_state.data, f, indent=4)"
   ]
  },
  {
   "cell_type": "code",
   "execution_count": 3,
   "id": "ef0c696a4cbbc48d",
   "metadata": {
    "ExecuteTime": {
     "end_time": "2025-06-27T02:36:08.056418Z",
     "start_time": "2025-06-27T02:36:06.019597Z"
    }
   },
   "outputs": [
    {
     "data": {
      "text/html": [
       "<pre style=\"white-space:pre;overflow-x:auto;line-height:normal;font-family:Menlo,'DejaVu Sans Mono',consolas,'Courier New',monospace\">Backend:         <span style=\"color: #000080; text-decoration-color: #000080; font-weight: bold\">arbel</span>\n",
       "</pre>\n"
      ],
      "text/plain": [
       "Backend:         \u001b[1;34marbel\u001b[0m\n"
      ]
     },
     "metadata": {},
     "output_type": "display_data"
    },
    {
     "data": {
      "text/html": [
       "<pre style=\"white-space:pre;overflow-x:auto;line-height:normal;font-family:Menlo,'DejaVu Sans Mono',consolas,'Courier New',monospace\">Status:          <span style=\"color: #800000; text-decoration-color: #800000; font-weight: bold\">🔴 offline</span>\n",
       "</pre>\n"
      ],
      "text/plain": [
       "Status:          \u001b[1;31m🔴 offline\u001b[0m\n"
      ]
     },
     "metadata": {},
     "output_type": "display_data"
    },
    {
     "data": {
      "text/html": [
       "<pre style=\"white-space:pre;overflow-x:auto;line-height:normal;font-family:Menlo,'DejaVu Sans Mono',consolas,'Courier New',monospace\">Description:     <span style=\"color: #008080; text-decoration-color: #008080; font-weight: bold\">21</span>-qubit superconducting processor featuring flux-tunable transmons with fixed coupling \n",
       "architecture\n",
       "\n",
       "</pre>\n"
      ],
      "text/plain": [
       "Description:     \u001b[1;36m21\u001b[0m-qubit superconducting processor featuring flux-tunable transmons with fixed coupling \n",
       "architecture\n",
       "\n"
      ]
     },
     "metadata": {},
     "output_type": "display_data"
    },
    {
     "data": {
      "text/html": [
       "<pre style=\"white-space:pre;overflow-x:auto;line-height:normal;font-family:Menlo,'DejaVu Sans Mono',consolas,'Courier New',monospace\"><span style=\"font-style: italic\">                  Available state information                  </span>\n",
       "┏━━━━━━━━━━━━━━━━━━━┳━━━━━━━━━━━━━━━━━━━━━━━━━━━━━━━━━━━━━━━━━┓\n",
       "┃<span style=\"font-weight: bold\"> datatype          </span>┃<span style=\"font-weight: bold\"> description                             </span>┃\n",
       "┡━━━━━━━━━━━━━━━━━━━╇━━━━━━━━━━━━━━━━━━━━━━━━━━━━━━━━━━━━━━━━━┩\n",
       "│<span style=\"color: #000080; text-decoration-color: #000080\"> </span><span style=\"color: #000080; text-decoration-color: #000080; font-weight: bold\">state</span><span style=\"color: #000080; text-decoration-color: #000080\">             </span>│ state used for the Quam object          │\n",
       "│<span style=\"color: #000080; text-decoration-color: #000080\"> </span><span style=\"color: #000080; text-decoration-color: #000080; font-weight: bold\">wiring</span><span style=\"color: #000080; text-decoration-color: #000080\">            </span>│ wiring used for the Quam object         │\n",
       "│<span style=\"color: #000080; text-decoration-color: #000080\"> </span><span style=\"color: #000080; text-decoration-color: #000080; font-weight: bold\">chipview_png</span><span style=\"color: #000080; text-decoration-color: #000080\">      </span>│ base64 encoded png image of chip layout │\n",
       "│<span style=\"color: #000080; text-decoration-color: #000080\"> </span><span style=\"color: #000080; text-decoration-color: #000080; font-weight: bold\">transpiler_target</span><span style=\"color: #000080; text-decoration-color: #000080\"> </span>│ Qiskit transpiler target information    │\n",
       "└───────────────────┴─────────────────────────────────────────┘\n",
       "</pre>\n"
      ],
      "text/plain": [
       "\u001b[3m                  Available state information                  \u001b[0m\n",
       "┏━━━━━━━━━━━━━━━━━━━┳━━━━━━━━━━━━━━━━━━━━━━━━━━━━━━━━━━━━━━━━━┓\n",
       "┃\u001b[1m \u001b[0m\u001b[1mdatatype         \u001b[0m\u001b[1m \u001b[0m┃\u001b[1m \u001b[0m\u001b[1mdescription                            \u001b[0m\u001b[1m \u001b[0m┃\n",
       "┡━━━━━━━━━━━━━━━━━━━╇━━━━━━━━━━━━━━━━━━━━━━━━━━━━━━━━━━━━━━━━━┩\n",
       "│\u001b[34m \u001b[0m\u001b[1;34mstate\u001b[0m\u001b[34m            \u001b[0m\u001b[34m \u001b[0m│ state used for the Quam object          │\n",
       "│\u001b[34m \u001b[0m\u001b[1;34mwiring\u001b[0m\u001b[34m           \u001b[0m\u001b[34m \u001b[0m│ wiring used for the Quam object         │\n",
       "│\u001b[34m \u001b[0m\u001b[1;34mchipview_png\u001b[0m\u001b[34m     \u001b[0m\u001b[34m \u001b[0m│ base64 encoded png image of chip layout │\n",
       "│\u001b[34m \u001b[0m\u001b[1;34mtranspiler_target\u001b[0m\u001b[34m \u001b[0m│ Qiskit transpiler target information    │\n",
       "└───────────────────┴─────────────────────────────────────────┘\n"
      ]
     },
     "metadata": {},
     "output_type": "display_data"
    },
    {
     "data": {
      "text/html": [
       "<pre style=\"white-space:pre;overflow-x:auto;line-height:normal;font-family:Menlo,'DejaVu Sans Mono',consolas,'Courier New',monospace\">👉 Get latest data as \n",
       "<span style=\"font-weight: bold\"> &lt;</span><span style=\"color: #ff00ff; text-decoration-color: #ff00ff; font-weight: bold\">backand_client</span><span style=\"color: #000000; text-decoration-color: #000000; font-weight: bold\">&gt;</span><span style=\"color: #800080; text-decoration-color: #800080; font-weight: bold\">.state.get_latest</span><span style=\"color: #000000; text-decoration-color: #000000; font-weight: bold\">(</span><span style=\"color: #008000; text-decoration-color: #008000; font-weight: bold\">\"</span><span style=\"color: #000080; text-decoration-color: #000080; font-weight: bold\">&lt;datatype&gt;</span><span style=\"color: #008000; text-decoration-color: #008000; font-weight: bold\">\"</span><span style=\"font-weight: bold\">).data</span>\n",
       "</pre>\n"
      ],
      "text/plain": [
       "👉 Get latest data as \n",
       "\u001b[1m \u001b[0m\u001b[1m<\u001b[0m\u001b[1;95mbackand_client\u001b[0m\u001b[1;39m>\u001b[0m\u001b[1;35m.state.get_latest\u001b[0m\u001b[1;39m(\u001b[0m\u001b[1;32m\"\u001b[0m\u001b[1;34m<datatype\u001b[0m\u001b[1;34m>\u001b[0m\u001b[1;32m\"\u001b[0m\u001b[1m)\u001b[0m\u001b[1m.data\u001b[0m\n"
      ]
     },
     "metadata": {},
     "output_type": "display_data"
    },
    {
     "data": {
      "text/html": [
       "<pre style=\"white-space:pre;overflow-x:auto;line-height:normal;font-family:Menlo,'DejaVu Sans Mono',consolas,'Courier New',monospace\">👉 Latest calibration <span style=\"font-weight: bold\">(</span>state<span style=\"font-weight: bold\">)</span>: <span style=\"color: #008080; text-decoration-color: #008080; font-weight: bold\">49</span> minutes ago <span style=\"font-weight: bold\">(</span><span style=\"color: #008080; text-decoration-color: #008080; font-weight: bold\">2025</span>-<span style=\"color: #008080; text-decoration-color: #008080; font-weight: bold\">07</span>-<span style=\"color: #008080; text-decoration-color: #008080; font-weight: bold\">09</span> <span style=\"color: #00ff00; text-decoration-color: #00ff00; font-weight: bold\">07:02:17</span>.<span style=\"color: #008080; text-decoration-color: #008080; font-weight: bold\">729601</span>+<span style=\"color: #00ff00; text-decoration-color: #00ff00; font-weight: bold\">00:00</span><span style=\"font-weight: bold\">)</span>\n",
       "\n",
       "</pre>\n"
      ],
      "text/plain": [
       "👉 Latest calibration \u001b[1m(\u001b[0mstate\u001b[1m)\u001b[0m: \u001b[1;36m49\u001b[0m minutes ago \u001b[1m(\u001b[0m\u001b[1;36m2025\u001b[0m-\u001b[1;36m07\u001b[0m-\u001b[1;36m09\u001b[0m \u001b[1;92m07:02:17\u001b[0m.\u001b[1;36m729601\u001b[0m+\u001b[1;92m00:00\u001b[0m\u001b[1m)\u001b[0m\n",
       "\n"
      ]
     },
     "metadata": {},
     "output_type": "display_data"
    },
    {
     "data": {
      "text/html": [
       "<pre style=\"white-space:pre;overflow-x:auto;line-height:normal;font-family:Menlo,'DejaVu Sans Mono',consolas,'Courier New',monospace\"><span style=\"font-style: italic\">                                           Available on-demand workflows                                           </span>\n",
       "┏━━━━━━━━━━━━━━┳━━━━━━━━━━━━━━━━━━━━━━━━━━━━━━━━━━━━━━━━━━━━━━━━━━━━━━━━━━━━━━━━━━━━━━━━━━━━━━━━━━━━━━━━━━━━━━━━━━┓\n",
       "┃<span style=\"font-weight: bold\"> workflow     </span>┃<span style=\"font-weight: bold\"> description                                                                                      </span>┃\n",
       "┡━━━━━━━━━━━━━━╇━━━━━━━━━━━━━━━━━━━━━━━━━━━━━━━━━━━━━━━━━━━━━━━━━━━━━━━━━━━━━━━━━━━━━━━━━━━━━━━━━━━━━━━━━━━━━━━━━━┩\n",
       "│<span style=\"color: #000080; text-decoration-color: #000080\"> </span><span style=\"color: #000080; text-decoration-color: #000080; font-weight: bold\">openqasm2qua</span><span style=\"color: #000080; text-decoration-color: #000080\"> </span>│ Compilation of OpenQASM3 program to QUA, assuming that transpilation is done (physical qubit     │\n",
       "│<span style=\"color: #000080; text-decoration-color: #000080\">              </span>│ allocation is done, and native gate set is used)                                                 │\n",
       "└──────────────┴──────────────────────────────────────────────────────────────────────────────────────────────────┘\n",
       "</pre>\n"
      ],
      "text/plain": [
       "\u001b[3m                                           Available on-demand workflows                                           \u001b[0m\n",
       "┏━━━━━━━━━━━━━━┳━━━━━━━━━━━━━━━━━━━━━━━━━━━━━━━━━━━━━━━━━━━━━━━━━━━━━━━━━━━━━━━━━━━━━━━━━━━━━━━━━━━━━━━━━━━━━━━━━━┓\n",
       "┃\u001b[1m \u001b[0m\u001b[1mworkflow    \u001b[0m\u001b[1m \u001b[0m┃\u001b[1m \u001b[0m\u001b[1mdescription                                                                                     \u001b[0m\u001b[1m \u001b[0m┃\n",
       "┡━━━━━━━━━━━━━━╇━━━━━━━━━━━━━━━━━━━━━━━━━━━━━━━━━━━━━━━━━━━━━━━━━━━━━━━━━━━━━━━━━━━━━━━━━━━━━━━━━━━━━━━━━━━━━━━━━━┩\n",
       "│\u001b[34m \u001b[0m\u001b[1;34mopenqasm2qua\u001b[0m\u001b[34m \u001b[0m│ Compilation of OpenQASM3 program to QUA, assuming that transpilation is done (physical qubit     │\n",
       "│\u001b[34m              \u001b[0m│ allocation is done, and native gate set is used)                                                 │\n",
       "└──────────────┴──────────────────────────────────────────────────────────────────────────────────────────────────┘\n"
      ]
     },
     "metadata": {},
     "output_type": "display_data"
    },
    {
     "data": {
      "text/html": [
       "<pre style=\"white-space:pre;overflow-x:auto;line-height:normal;font-family:Menlo,'DejaVu Sans Mono',consolas,'Courier New',monospace\">👉 Obtain more information about <span style=\"font-weight: bold\">payload</span> specification for each workflow as\n",
       "<span style=\"font-weight: bold\">&lt;</span><span style=\"color: #ff00ff; text-decoration-color: #ff00ff; font-weight: bold\">backand_client</span><span style=\"color: #000000; text-decoration-color: #000000; font-weight: bold\">&gt;</span><span style=\"color: #800080; text-decoration-color: #800080; font-weight: bold\">.run</span><span style=\"color: #000000; text-decoration-color: #000000; font-weight: bold\">(</span><span style=\"color: #008000; text-decoration-color: #008000; font-weight: bold\">\"</span><span style=\"color: #000080; text-decoration-color: #000080; font-weight: bold\">&lt;workflow&gt;</span><span style=\"color: #008000; text-decoration-color: #008000; font-weight: bold\">\"</span><span style=\"font-weight: bold\">)</span>\n",
       "</pre>\n"
      ],
      "text/plain": [
       "👉 Obtain more information about \u001b[1mpayload\u001b[0m specification for each workflow as\n",
       "\u001b[1m<\u001b[0m\u001b[1;95mbackand_client\u001b[0m\u001b[1;39m>\u001b[0m\u001b[1;35m.run\u001b[0m\u001b[1;39m(\u001b[0m\u001b[1;32m\"\u001b[0m\u001b[1;34m<workflow\u001b[0m\u001b[1;34m>\u001b[0m\u001b[1;32m\"\u001b[0m\u001b[1m)\u001b[0m\n"
      ]
     },
     "metadata": {},
     "output_type": "display_data"
    },
    {
     "data": {
      "text/html": [
       "<pre style=\"white-space:pre;overflow-x:auto;line-height:normal;font-family:Menlo,'DejaVu Sans Mono',consolas,'Courier New',monospace\">👉 Run on-demand workflow as \n",
       "<span style=\"font-weight: bold\">&lt;</span><span style=\"color: #ff00ff; text-decoration-color: #ff00ff; font-weight: bold\">backand_client</span><span style=\"color: #000000; text-decoration-color: #000000; font-weight: bold\">&gt;</span><span style=\"color: #800080; text-decoration-color: #800080; font-weight: bold\">.run</span><span style=\"color: #000000; text-decoration-color: #000000; font-weight: bold\">(</span><span style=\"color: #008000; text-decoration-color: #008000; font-weight: bold\">\"</span><span style=\"color: #000080; text-decoration-color: #000080; font-weight: bold\">&lt;workflow&gt;</span><span style=\"color: #008000; text-decoration-color: #008000; font-weight: bold\">\"</span><span style=\"font-weight: bold\">, payload)</span>\n",
       "</pre>\n"
      ],
      "text/plain": [
       "👉 Run on-demand workflow as \n",
       "\u001b[1m<\u001b[0m\u001b[1;95mbackand_client\u001b[0m\u001b[1;39m>\u001b[0m\u001b[1;35m.run\u001b[0m\u001b[1;39m(\u001b[0m\u001b[1;32m\"\u001b[0m\u001b[1;34m<workflow\u001b[0m\u001b[1;34m>\u001b[0m\u001b[1;32m\"\u001b[0m\u001b[1m, payload\u001b[0m\u001b[1m)\u001b[0m\n"
      ]
     },
     "metadata": {},
     "output_type": "display_data"
    },
    {
     "data": {
      "text/html": [
       "<pre style=\"white-space:pre;overflow-x:auto;line-height:normal;font-family:Menlo,'DejaVu Sans Mono',consolas,'Courier New',monospace\"><span style=\"font-style: italic\">                                           Supported native gates                                            </span>\n",
       "┏━━━━━━━━━┳━━━━━━━━━━━━━━━┳━━━━━━━━━━━━━━━━━━━━━━━━━━━━━━━━━━━━━━━━┳━━━━━━━━━━━━━━━━━━━━━━━━━━━━━━━━━━━━━━━━┓\n",
       "┃<span style=\"font-weight: bold\">    Gate </span>┃<span style=\"font-weight: bold\"> Qubits        </span>┃<span style=\"font-weight: bold\"> Error                                  </span>┃<span style=\"font-weight: bold\"> Duration                               </span>┃\n",
       "┡━━━━━━━━━╇━━━━━━━━━━━━━━━╇━━━━━━━━━━━━━━━━━━━━━━━━━━━━━━━━━━━━━━━━╇━━━━━━━━━━━━━━━━━━━━━━━━━━━━━━━━━━━━━━━━┩\n",
       "│<span style=\"color: #008080; text-decoration-color: #008080\">       </span><span style=\"color: #008080; text-decoration-color: #008080; font-weight: bold\">x</span><span style=\"color: #008080; text-decoration-color: #008080\"> </span>│<span style=\"color: #800080; text-decoration-color: #800080\"> 0, 1, 2, 3, 4 </span>│<span style=\"color: #008000; text-decoration-color: #008000\"> 0.0007, 0.0008, 0.0014, 0.0017, 0.0005 </span>│<span style=\"color: #008000; text-decoration-color: #008000\"> 32, 32, 32, 32, 32                     </span>│\n",
       "│<span style=\"color: #008080; text-decoration-color: #008080\">      </span><span style=\"color: #008080; text-decoration-color: #008080; font-weight: bold\">cz</span><span style=\"color: #008080; text-decoration-color: #008080\"> </span>│<span style=\"color: #800080; text-decoration-color: #800080\"> [1, 0]        </span>│<span style=\"color: #008000; text-decoration-color: #008000\"> 0.99                                   </span>│<span style=\"color: #008000; text-decoration-color: #008000\"> 40                                     </span>│\n",
       "│<span style=\"color: #008080; text-decoration-color: #008080\">      </span><span style=\"color: #008080; text-decoration-color: #008080; font-weight: bold\">rz</span><span style=\"color: #008080; text-decoration-color: #008080\"> </span>│<span style=\"color: #800080; text-decoration-color: #800080\"> 0, 1, 2, 3, 4 </span>│<span style=\"color: #008000; text-decoration-color: #008000\"> None, None, None, None, None           </span>│<span style=\"color: #008000; text-decoration-color: #008000\"> 4, 4, 4, 4, 4                          </span>│\n",
       "│<span style=\"color: #008080; text-decoration-color: #008080\">      </span><span style=\"color: #008080; text-decoration-color: #008080; font-weight: bold\">sx</span><span style=\"color: #008080; text-decoration-color: #008080\"> </span>│<span style=\"color: #800080; text-decoration-color: #800080\"> 0, 1, 2, 3, 4 </span>│<span style=\"color: #008000; text-decoration-color: #008000\"> 0.0007, 0.0008, 0.0014, 0.0017, 0.0005 </span>│<span style=\"color: #008000; text-decoration-color: #008000\"> 32, 32, 32, 32, 32                     </span>│\n",
       "│<span style=\"color: #008080; text-decoration-color: #008080\">   </span><span style=\"color: #008080; text-decoration-color: #008080; font-weight: bold\">delay</span><span style=\"color: #008080; text-decoration-color: #008080\"> </span>│<span style=\"color: #800080; text-decoration-color: #800080\"> 0, 1, 2, 3, 4 </span>│<span style=\"color: #008000; text-decoration-color: #008000\"> None, None, None, None, None           </span>│<span style=\"color: #008000; text-decoration-color: #008000\"> 4, 4, 4, 4, 4                          </span>│\n",
       "│<span style=\"color: #008080; text-decoration-color: #008080\">   </span><span style=\"color: #008080; text-decoration-color: #008080; font-weight: bold\">reset</span><span style=\"color: #008080; text-decoration-color: #008080\"> </span>│<span style=\"color: #800080; text-decoration-color: #800080\"> 0, 1, 2, 3, 4 </span>│<span style=\"color: #008000; text-decoration-color: #008000\"> None, None, None, None, None           </span>│<span style=\"color: #008000; text-decoration-color: #008000\"> 147636, 138888, 152876, 199696, 111508 </span>│\n",
       "│<span style=\"color: #008080; text-decoration-color: #008080\"> </span><span style=\"color: #008080; text-decoration-color: #008080; font-weight: bold\">measure</span><span style=\"color: #008080; text-decoration-color: #008080\"> </span>│<span style=\"color: #800080; text-decoration-color: #800080\"> 0, 1, 2, 3, 4 </span>│<span style=\"color: #008000; text-decoration-color: #008000\"> 0.0735, 0.077, 0.0477, 0.1695, 0.0677  </span>│<span style=\"color: #008000; text-decoration-color: #008000\"> None, None, None, None, None           </span>│\n",
       "└─────────┴───────────────┴────────────────────────────────────────┴────────────────────────────────────────┘\n",
       "</pre>\n"
      ],
      "text/plain": [
       "\u001b[3m                                           Supported native gates                                            \u001b[0m\n",
       "┏━━━━━━━━━┳━━━━━━━━━━━━━━━┳━━━━━━━━━━━━━━━━━━━━━━━━━━━━━━━━━━━━━━━━┳━━━━━━━━━━━━━━━━━━━━━━━━━━━━━━━━━━━━━━━━┓\n",
       "┃\u001b[1m \u001b[0m\u001b[1m   Gate\u001b[0m\u001b[1m \u001b[0m┃\u001b[1m \u001b[0m\u001b[1mQubits       \u001b[0m\u001b[1m \u001b[0m┃\u001b[1m \u001b[0m\u001b[1mError                                 \u001b[0m\u001b[1m \u001b[0m┃\u001b[1m \u001b[0m\u001b[1mDuration                              \u001b[0m\u001b[1m \u001b[0m┃\n",
       "┡━━━━━━━━━╇━━━━━━━━━━━━━━━╇━━━━━━━━━━━━━━━━━━━━━━━━━━━━━━━━━━━━━━━━╇━━━━━━━━━━━━━━━━━━━━━━━━━━━━━━━━━━━━━━━━┩\n",
       "│\u001b[36m \u001b[0m\u001b[36m      \u001b[0m\u001b[1;36mx\u001b[0m\u001b[36m \u001b[0m│\u001b[35m \u001b[0m\u001b[35m0, 1, 2, 3, 4\u001b[0m\u001b[35m \u001b[0m│\u001b[32m \u001b[0m\u001b[32m0.0007, 0.0008, 0.0014, 0.0017, 0.0005\u001b[0m\u001b[32m \u001b[0m│\u001b[32m \u001b[0m\u001b[32m32, 32, 32, 32, 32                    \u001b[0m\u001b[32m \u001b[0m│\n",
       "│\u001b[36m \u001b[0m\u001b[36m     \u001b[0m\u001b[1;36mcz\u001b[0m\u001b[36m \u001b[0m│\u001b[35m \u001b[0m\u001b[35m[1, 0]       \u001b[0m\u001b[35m \u001b[0m│\u001b[32m \u001b[0m\u001b[32m0.99                                  \u001b[0m\u001b[32m \u001b[0m│\u001b[32m \u001b[0m\u001b[32m40                                    \u001b[0m\u001b[32m \u001b[0m│\n",
       "│\u001b[36m \u001b[0m\u001b[36m     \u001b[0m\u001b[1;36mrz\u001b[0m\u001b[36m \u001b[0m│\u001b[35m \u001b[0m\u001b[35m0, 1, 2, 3, 4\u001b[0m\u001b[35m \u001b[0m│\u001b[32m \u001b[0m\u001b[32mNone, None, None, None, None          \u001b[0m\u001b[32m \u001b[0m│\u001b[32m \u001b[0m\u001b[32m4, 4, 4, 4, 4                         \u001b[0m\u001b[32m \u001b[0m│\n",
       "│\u001b[36m \u001b[0m\u001b[36m     \u001b[0m\u001b[1;36msx\u001b[0m\u001b[36m \u001b[0m│\u001b[35m \u001b[0m\u001b[35m0, 1, 2, 3, 4\u001b[0m\u001b[35m \u001b[0m│\u001b[32m \u001b[0m\u001b[32m0.0007, 0.0008, 0.0014, 0.0017, 0.0005\u001b[0m\u001b[32m \u001b[0m│\u001b[32m \u001b[0m\u001b[32m32, 32, 32, 32, 32                    \u001b[0m\u001b[32m \u001b[0m│\n",
       "│\u001b[36m \u001b[0m\u001b[36m  \u001b[0m\u001b[1;36mdelay\u001b[0m\u001b[36m \u001b[0m│\u001b[35m \u001b[0m\u001b[35m0, 1, 2, 3, 4\u001b[0m\u001b[35m \u001b[0m│\u001b[32m \u001b[0m\u001b[32mNone, None, None, None, None          \u001b[0m\u001b[32m \u001b[0m│\u001b[32m \u001b[0m\u001b[32m4, 4, 4, 4, 4                         \u001b[0m\u001b[32m \u001b[0m│\n",
       "│\u001b[36m \u001b[0m\u001b[36m  \u001b[0m\u001b[1;36mreset\u001b[0m\u001b[36m \u001b[0m│\u001b[35m \u001b[0m\u001b[35m0, 1, 2, 3, 4\u001b[0m\u001b[35m \u001b[0m│\u001b[32m \u001b[0m\u001b[32mNone, None, None, None, None          \u001b[0m\u001b[32m \u001b[0m│\u001b[32m \u001b[0m\u001b[32m147636, 138888, 152876, 199696, 111508\u001b[0m\u001b[32m \u001b[0m│\n",
       "│\u001b[36m \u001b[0m\u001b[1;36mmeasure\u001b[0m\u001b[36m \u001b[0m│\u001b[35m \u001b[0m\u001b[35m0, 1, 2, 3, 4\u001b[0m\u001b[35m \u001b[0m│\u001b[32m \u001b[0m\u001b[32m0.0735, 0.077, 0.0477, 0.1695, 0.0677 \u001b[0m\u001b[32m \u001b[0m│\u001b[32m \u001b[0m\u001b[32mNone, None, None, None, None          \u001b[0m\u001b[32m \u001b[0m│\n",
       "└─────────┴───────────────┴────────────────────────────────────────┴────────────────────────────────────────┘\n"
      ]
     },
     "metadata": {},
     "output_type": "display_data"
    },
    {
     "data": {
      "text/html": [
       "<pre style=\"white-space:pre;overflow-x:auto;line-height:normal;font-family:Menlo,'DejaVu Sans Mono',consolas,'Courier New',monospace\"><span style=\"font-style: italic\">                  Runtime available VISA instruments                  </span>\n",
       "┏━━━━━━━━━━━━┳━━━━━━━━━━━━━━━━━━━━━━━━━━━━━━━━━━━━━━━━━━━━━━━━━━━━━━━┓\n",
       "┃<span style=\"font-weight: bold\"> instrument </span>┃<span style=\"font-weight: bold\"> description                                           </span>┃\n",
       "┡━━━━━━━━━━━━╇━━━━━━━━━━━━━━━━━━━━━━━━━━━━━━━━━━━━━━━━━━━━━━━━━━━━━━━┩\n",
       "│<span style=\"color: #008080; text-decoration-color: #008080\"> </span><span style=\"color: #008080; text-decoration-color: #008080; font-weight: bold\">vna</span><span style=\"color: #008080; text-decoration-color: #008080\">        </span>│ Vector network analyser, Keysight Technologies,E5063A │\n",
       "└────────────┴───────────────────────────────────────────────────────┘\n",
       "</pre>\n"
      ],
      "text/plain": [
       "\u001b[3m                  Runtime available VISA instruments                  \u001b[0m\n",
       "┏━━━━━━━━━━━━┳━━━━━━━━━━━━━━━━━━━━━━━━━━━━━━━━━━━━━━━━━━━━━━━━━━━━━━━┓\n",
       "┃\u001b[1m \u001b[0m\u001b[1minstrument\u001b[0m\u001b[1m \u001b[0m┃\u001b[1m \u001b[0m\u001b[1mdescription                                          \u001b[0m\u001b[1m \u001b[0m┃\n",
       "┡━━━━━━━━━━━━╇━━━━━━━━━━━━━━━━━━━━━━━━━━━━━━━━━━━━━━━━━━━━━━━━━━━━━━━┩\n",
       "│\u001b[36m \u001b[0m\u001b[1;36mvna\u001b[0m\u001b[36m       \u001b[0m\u001b[36m \u001b[0m│ Vector network analyser, Keysight Technologies,E5063A │\n",
       "└────────────┴───────────────────────────────────────────────────────┘\n"
      ]
     },
     "metadata": {},
     "output_type": "display_data"
    },
    {
     "data": {
      "text/html": [
       "<pre style=\"white-space:pre;overflow-x:auto;line-height:normal;font-family:Menlo,'DejaVu Sans Mono',consolas,'Courier New',monospace\">👉 Use in pre-, post- or sync- hook as \n",
       "from iqcc_cloud_client.runtime import get_visa_client\n",
       "x = <span style=\"color: #800080; text-decoration-color: #800080; font-weight: bold\">get_visa_client</span><span style=\"font-weight: bold\">(</span><span style=\"color: #008000; text-decoration-color: #008000\">\"</span><span style=\"color: #000080; text-decoration-color: #000080; font-weight: bold\">&lt;instrument&gt;</span><span style=\"color: #008000; text-decoration-color: #008000\">\"</span><span style=\"font-weight: bold\">)</span>\n",
       "</pre>\n"
      ],
      "text/plain": [
       "👉 Use in pre-, post- or sync- hook as \n",
       "from iqcc_cloud_client.runtime import get_visa_client\n",
       "x = \u001b[1;35mget_visa_client\u001b[0m\u001b[1m(\u001b[0m\u001b[32m\"\u001b[0m\u001b[1;34m<\u001b[0m\u001b[1;34minstrument\u001b[0m\u001b[1;34m>\u001b[0m\u001b[32m\"\u001b[0m\u001b[1m)\u001b[0m\n"
      ]
     },
     "metadata": {},
     "output_type": "display_data"
    },
    {
     "data": {
      "text/plain": [
       "{'hooks': {'pre': {'schema': {}},\n",
       "  'post': {'schema': {}},\n",
       "  'sync': {'schema': {}}},\n",
       " 'state': {'state': {'description': 'state used for the Quam object'},\n",
       "  'wiring': {'description': 'wiring used for the Quam object'},\n",
       "  'chipview_png': {'description': 'base64 encoded png image of chip layout'},\n",
       "  'transpiler_target': {'description': 'Qiskit transpiler target information'}},\n",
       " 'online': False,\n",
       " 'runtime': {'visa': {'vna': {'description': 'Vector network analyser, Keysight Technologies,E5063A'}}},\n",
       " 'ondemand': {'openqasm2qua': {'schema': {'type': 'object',\n",
       "    'required': ['openqasm3', 'num_shots'],\n",
       "    'properties': {'num_shots': {'type': 'integer',\n",
       "      'description': 'number of repetitions of the circuit execution'},\n",
       "     'openqasm3': {'type': 'string',\n",
       "      'description': 'OpenQASM3 code as string'}},\n",
       "    'additionalProperties': False},\n",
       "   'description': 'Compilation of OpenQASM3 program to QUA, assuming that transpilation is done (physical qubit allocation is done, and native gate set is used)'}},\n",
       " 'description': '21-qubit superconducting processor featuring flux-tunable transmons with fixed coupling architecture',\n",
       " 'transpiler_target': {'x': [[0,\n",
       "    {'error': 0.0007115701998589019, 'duration': 32}],\n",
       "   [1, {'error': 0.0008494724188182756, 'duration': 32}],\n",
       "   [2, {'error': 0.0014118993089148324, 'duration': 32}],\n",
       "   [3, {'error': 0.0016581891055068576, 'duration': 32}],\n",
       "   [4, {'error': 0.00048594620985675796, 'duration': 32}]],\n",
       "  'cz': [[[1, 0], {'error': 0.99, 'duration': 40}]],\n",
       "  'rz': [[0, {'duration': 4}],\n",
       "   [1, {'duration': 4}],\n",
       "   [2, {'duration': 4}],\n",
       "   [3, {'duration': 4}],\n",
       "   [4, {'duration': 4}]],\n",
       "  'sx': [[0, {'error': 0.0007115701998589019, 'duration': 32}],\n",
       "   [1, {'error': 0.0008494724188182756, 'duration': 32}],\n",
       "   [2, {'error': 0.0014118993089148324, 'duration': 32}],\n",
       "   [3, {'error': 0.0016581891055068576, 'duration': 32}],\n",
       "   [4, {'error': 0.00048594620985675796, 'duration': 32}]],\n",
       "  'delay': [[0, {'duration': 4}],\n",
       "   [1, {'duration': 4}],\n",
       "   [2, {'duration': 4}],\n",
       "   [3, {'duration': 4}],\n",
       "   [4, {'duration': 4}]],\n",
       "  'reset': [[0, {'duration': 147636}],\n",
       "   [1, {'duration': 138888}],\n",
       "   [2, {'duration': 152876}],\n",
       "   [3, {'duration': 199696}],\n",
       "   [4, {'duration': 111508}]],\n",
       "  'measure': [[0, {'error': 0.07350000000000001}],\n",
       "   [1, {'error': 0.07699999999999996}],\n",
       "   [2, {'error': 0.04774999999999996}],\n",
       "   [3, {'error': 0.16949999999999998}],\n",
       "   [4, {'error': 0.06774999999999998}]]}}"
      ]
     },
     "execution_count": 3,
     "metadata": {},
     "output_type": "execute_result"
    }
   ],
   "source": [
    "iqcc.summary()"
   ]
  },
  {
   "cell_type": "code",
   "execution_count": 4,
   "id": "32e1f4aa24df6781",
   "metadata": {
    "ExecuteTime": {
     "end_time": "2025-06-27T02:36:08.251756Z",
     "start_time": "2025-06-27T02:36:08.078568Z"
    }
   },
   "outputs": [
    {
     "name": "stdout",
     "output_type": "stream",
     "text": [
      "Target: Transmon based QuAM\n",
      "Number of qubits: 5\n",
      "Instructions:\n",
      "\tx\n",
      "\t\t(0,):\n",
      "\t\t\tDuration: 3.2e-08 sec.\n",
      "\t\t(1,):\n",
      "\t\t\tDuration: 3.2e-08 sec.\n",
      "\t\t(2,):\n",
      "\t\t\tDuration: 3.2e-08 sec.\n",
      "\t\t(3,):\n",
      "\t\t\tDuration: 3.2e-08 sec.\n",
      "\t\t(4,):\n",
      "\t\t\tDuration: 3.2e-08 sec.\n",
      "\trz\n",
      "\t\t(0,):\n",
      "\t\t\tDuration: 0 sec.\n",
      "\t\t\tError Rate: 0\n",
      "\t\t(1,):\n",
      "\t\t\tDuration: 0 sec.\n",
      "\t\t\tError Rate: 0\n",
      "\t\t(2,):\n",
      "\t\t\tDuration: 0 sec.\n",
      "\t\t\tError Rate: 0\n",
      "\t\t(3,):\n",
      "\t\t\tDuration: 0 sec.\n",
      "\t\t\tError Rate: 0\n",
      "\t\t(4,):\n",
      "\t\t\tDuration: 0 sec.\n",
      "\t\t\tError Rate: 0\n",
      "\tsx\n",
      "\t\t(0,):\n",
      "\t\t\tDuration: 3.2e-08 sec.\n",
      "\t\t(1,):\n",
      "\t\t\tDuration: 3.2e-08 sec.\n",
      "\t\t(2,):\n",
      "\t\t\tDuration: 3.2e-08 sec.\n",
      "\t\t(3,):\n",
      "\t\t\tDuration: 3.2e-08 sec.\n",
      "\t\t(4,):\n",
      "\t\t\tDuration: 3.2e-08 sec.\n",
      "\tdelay\n",
      "\t\t(0,):\n",
      "\t\t(1,):\n",
      "\t\t(2,):\n",
      "\t\t(3,):\n",
      "\t\t(4,):\n",
      "\treset\n",
      "\t\t(0,):\n",
      "\t\t(1,):\n",
      "\t\t(2,):\n",
      "\t\t(3,):\n",
      "\t\t(4,):\n",
      "\tmeasure\n",
      "\t\t(0,):\n",
      "\t\t\tDuration: 1.5e-06 sec.\n",
      "\t\t(1,):\n",
      "\t\t\tDuration: 1.5e-06 sec.\n",
      "\t\t(2,):\n",
      "\t\t\tDuration: 1.5e-06 sec.\n",
      "\t\t(3,):\n",
      "\t\t\tDuration: 1.5e-06 sec.\n",
      "\t\t(4,):\n",
      "\t\t\tDuration: 1.5e-06 sec.\n",
      "\tsy\n",
      "\t\t(0,):\n",
      "\t\t\tDuration: 3.2e-08 sec.\n",
      "\t\t(1,):\n",
      "\t\t\tDuration: 3.2e-08 sec.\n",
      "\t\t(2,):\n",
      "\t\t\tDuration: 3.2e-08 sec.\n",
      "\t\t(3,):\n",
      "\t\t\tDuration: 3.2e-08 sec.\n",
      "\t\t(4,):\n",
      "\t\t\tDuration: 3.2e-08 sec.\n",
      "\tsydg\n",
      "\t\t(0,):\n",
      "\t\t\tDuration: 3.2e-08 sec.\n",
      "\t\t(1,):\n",
      "\t\t\tDuration: 3.2e-08 sec.\n",
      "\t\t(2,):\n",
      "\t\t\tDuration: 3.2e-08 sec.\n",
      "\t\t(3,):\n",
      "\t\t\tDuration: 3.2e-08 sec.\n",
      "\t\t(4,):\n",
      "\t\t\tDuration: 3.2e-08 sec.\n",
      "\tid\n",
      "\t\t(0,):\n",
      "\t\t\tDuration: 0 sec.\n",
      "\t\t\tError Rate: 0\n",
      "\t\t(1,):\n",
      "\t\t\tDuration: 0 sec.\n",
      "\t\t\tError Rate: 0\n",
      "\t\t(2,):\n",
      "\t\t\tDuration: 0 sec.\n",
      "\t\t\tError Rate: 0\n",
      "\t\t(3,):\n",
      "\t\t\tDuration: 0 sec.\n",
      "\t\t\tError Rate: 0\n",
      "\t\t(4,):\n",
      "\t\t\tDuration: 0 sec.\n",
      "\t\t\tError Rate: 0\n",
      "\tif_else\n",
      "\twhile_loop\n",
      "\tfor_loop\n",
      "\tswitch_case\n",
      "\tbox\n",
      "\n"
     ]
    },
    {
     "name": "stderr",
     "output_type": "stream",
     "text": [
      "/Users/arthurostrauss/Library/CloudStorage/OneDrive-QMMachinesLTD/GitHub/qiskit-qm-provider/qiskit_qm_provider/backend/flux_tunable_transmon_backend.py:60: UserWarning: qiskit.pulse is not available, channel mapping will not be set.\n",
      "  warnings.warn(\"qiskit.pulse is not available, channel mapping will not be set.\")\n"
     ]
    }
   ],
   "source": [
    "machine = QuAM.load()\n",
    "\n",
    "add_basic_macros_to_machine(machine)\n",
    "backend = FluxTunableTransmonBackend(machine)\n",
    "backend.set_options(timeout=100)\n",
    "print(backend.target)"
   ]
  },
  {
   "cell_type": "code",
   "execution_count": 5,
   "id": "59616bf1f9a3a4b4",
   "metadata": {
    "ExecuteTime": {
     "end_time": "2025-06-27T02:36:08.438088Z",
     "start_time": "2025-06-27T02:36:08.436071Z"
    }
   },
   "outputs": [
    {
     "data": {
      "text/plain": [
       "QMInstructionProperties(duration=None, error=None, qua_pulse_macro=ResetMacro(id='reset', duration=None, fidelity=None, reset_type='thermalize', pi_pulse=DragCosinePulse(length=32, id=None, digital_marker='ON', axis_angle=0, amplitude=0.14173260704306304, alpha=-0.1300000000000019, anharmonicity=191000000, detuning=-150000.0), readout_pulse=SquareReadoutPulse(length=1500, id=None, digital_marker='ON', amplitude=0.0335459595959596, axis_angle=None, threshold=0.0006715463385687272, rus_exit_threshold=0.0003209906061568691, integration_weights=[(1, 1500)], integration_weights_angle=-53.38059662316752), max_attempts=5, thermalize_time=125232))"
      ]
     },
     "execution_count": 5,
     "metadata": {},
     "output_type": "execute_result"
    }
   ],
   "source": [
    "from quam.core.macro import QuamMacro\n",
    "backend.target[\"reset\"][(0,)]"
   ]
  },
  {
   "cell_type": "code",
   "execution_count": 6,
   "id": "4e471be00afaf500",
   "metadata": {
    "ExecuteTime": {
     "end_time": "2025-06-27T02:36:08.619192Z",
     "start_time": "2025-06-27T02:36:08.617643Z"
    }
   },
   "outputs": [
    {
     "name": "stdout",
     "output_type": "stream",
     "text": [
      "Options(shots=1024, compiler_options=None, simulate=None, memory=False, skip_reset=False, meas_level=<MeasLevel.CLASSIFIED: 2>, meas_return=<MeasReturnType.AVERAGE: 'avg'>, timeout=100)\n"
     ]
    }
   ],
   "source": [
    "print(backend.options)"
   ]
  },
  {
   "cell_type": "code",
   "execution_count": 7,
   "id": "ec16b3bc30f20a34",
   "metadata": {
    "ExecuteTime": {
     "end_time": "2025-06-27T02:36:08.796662Z",
     "start_time": "2025-06-27T02:36:08.795104Z"
    }
   },
   "outputs": [
    {
     "name": "stdout",
     "output_type": "stream",
     "text": [
      "Available qubits:  {'qD1': 0, 'qD2': 1, 'qD3': 2, 'qD4': 3, 'qD5': 4}\n",
      "Available qubit pairs:  {}\n"
     ]
    }
   ],
   "source": [
    "print(\"Available qubits: \", backend.qubit_dict)\n",
    "print(\"Available qubit pairs: \", backend.qubit_pair_dict)"
   ]
  },
  {
   "cell_type": "code",
   "execution_count": 8,
   "id": "3d185323175fc69",
   "metadata": {
    "ExecuteTime": {
     "end_time": "2025-06-27T02:36:08.972641Z",
     "start_time": "2025-06-27T02:36:08.971223Z"
    }
   },
   "outputs": [],
   "source": [
    "using_vpn = True\n",
    "if using_vpn:\n",
    "    machine.network[\"cloud\"] = False\n",
    "    machine.network[\"port\"] = 9510\n",
    "else:\n",
    "    backend.qmm = iqcc"
   ]
  },
  {
   "cell_type": "code",
   "execution_count": 9,
   "id": "9d41e98c0f820e7b",
   "metadata": {
    "ExecuteTime": {
     "end_time": "2025-06-27T02:36:09.151819Z",
     "start_time": "2025-06-27T02:36:09.149493Z"
    }
   },
   "outputs": [
    {
     "data": {
      "text/plain": [
       "{'host': '10.1.1.6', 'port': 9510, 'cloud': False, 'octave_ips': [], 'cluster_name': 'galil_arbel', 'octave_ports': [], 'quantum_computer_backend': 'arbel'}"
      ]
     },
     "execution_count": 9,
     "metadata": {},
     "output_type": "execute_result"
    }
   ],
   "source": [
    "machine.network"
   ]
  },
  {
   "cell_type": "markdown",
   "id": "3b2ffe4bf1003726",
   "metadata": {},
   "source": [
    "## Create a custom gate to edit\n",
    "\n",
    "We add at the Qiskit level the custom gate we want to calibrate, and we then specify the QUA macro in charge of \n",
    "implementing the parametrized pulse representation of this template parametrized gate."
   ]
  },
  {
   "cell_type": "code",
   "execution_count": 10,
   "id": "46e10447b2c46372",
   "metadata": {
    "ExecuteTime": {
     "end_time": "2025-06-27T02:36:09.332996Z",
     "start_time": "2025-06-27T02:36:09.330265Z"
    }
   },
   "outputs": [],
   "source": [
    "from rl_qoc.helpers import add_custom_gate\n",
    "\n",
    "def apply_parametrized_circuit(\n",
    "    qc: QuantumCircuit, params: List[Parameter], q_reg: QuantumRegister, **kwargs\n",
    "):\n",
    "\n",
    "    physical_qubits: List[int] = kwargs[\"physical_qubits\"]\n",
    "    backend: FluxTunableTransmonBackend = kwargs[\"backend\"]\n",
    "\n",
    "    # TODO: Enter your custom parametric QUA macro here\n",
    "    def qua_macro(amp):\n",
    "        qubit: Transmon = backend.get_qubit(physical_qubits[0])\n",
    "        qubit.xy.play(\"x180_DragCosine\", amplitude_scale=amp)\n",
    "\n",
    "    # Create a custom gate with the QUA macro\n",
    "    custom_x = Gate(\"x_cal\", 1, params)\n",
    "    x_duration = backend.target[\"x\"][(physical_qubits[0],)].duration\n",
    "    instruction_prop = QMInstructionProperties(duration=x_duration,qua_pulse_macro=qua_macro)\n",
    "    qc = add_custom_gate(\n",
    "        qc,\n",
    "        custom_x,\n",
    "        q_reg,\n",
    "        params,\n",
    "        physical_qubits,\n",
    "        backend,\n",
    "        instruction_prop\n",
    "    )\n",
    "    return qc"
   ]
  },
  {
   "cell_type": "markdown",
   "id": "7b3517e088f88b5",
   "metadata": {},
   "source": [
    "## Create Environment configuration\n",
    "\n",
    "1. Create target instance: Specify which gate you want and on which qubit it should be applied\n",
    "2. Choose which reward scheme you want. You can choose among three methods that are carefully implemented within the QOP: Direct Channel/State Fidelity Estimation (DFE), and Context-Aware Fidelity Estimation (CAFE)"
   ]
  },
  {
   "cell_type": "code",
   "execution_count": 11,
   "id": "71e47a8b92d92320",
   "metadata": {
    "ExecuteTime": {
     "end_time": "2025-06-27T02:36:09.512379Z",
     "start_time": "2025-06-27T02:36:09.509166Z"
    }
   },
   "outputs": [],
   "source": [
    "physical_qubits = (0,)\n",
    "target_gate = \"x\"\n",
    "target_state = \"1\"\n",
    "gate_target = GateTarget(physical_qubits=physical_qubits, gate=target_gate)\n",
    "state_target = StateTarget(state=target_state, physical_qubits=physical_qubits)\n",
    "target = state_target\n",
    "reward = StateReward()"
   ]
  },
  {
   "cell_type": "code",
   "execution_count": 12,
   "id": "2ad61b73",
   "metadata": {},
   "outputs": [],
   "source": [
    "from rl_qoc.qua.pi_pulse_reward import PiPulseReward\n",
    "# reward = PiPulseReward()"
   ]
  },
  {
   "cell_type": "markdown",
   "id": "5b9740a46e2eb0fb",
   "metadata": {},
   "source": [
    "3. Decide which action space to create\n",
    "4. Decide how the parameters should be passed to the QOP (Choose between Input Stream, DGX Quantum, IO variables)\n",
    "5. To fix the QUA program duration, we also can pass to the configuration the number of training updates expected (it should be the same variable used when declaring the agent).\n",
    "6. Set up training hyperparameters on the environment side"
   ]
  },
  {
   "cell_type": "code",
   "execution_count": 13,
   "id": "6b0101d3fa6ae26a",
   "metadata": {
    "ExecuteTime": {
     "end_time": "2025-06-27T02:36:09.712320Z",
     "start_time": "2025-06-27T02:36:09.685617Z"
    }
   },
   "outputs": [],
   "source": [
    "# Action space specification\n",
    "param_bounds = [(-1.98, 2.0)]  # Can be any number of bounds\n",
    "\n",
    "\n",
    "# Environment execution parameters\n",
    "seed = 36  # Master seed to make training reproducible\n",
    "batch_size = 2  # Number of actions to evaluate per policy evaluation\n",
    "n_shots = 50 # Minimum number of shots per fiducial evaluation\n",
    "pauli_sampling = 10  # Number of fiducials to compute for fidelity estimation (DFE only)\n",
    "n_reps = 1  # Number of repetitions of the cycle circuit\n",
    "num_updates = TotalUpdates(100)\n",
    "\n",
    "input_type = InputType.INPUT_STREAM\n",
    "\n",
    "\n",
    "def create_action_space(param_bounds):\n",
    "    param_bounds = np.array(param_bounds, dtype=np.float32)\n",
    "    lower_bound, upper_bound = param_bounds.T\n",
    "    return Box(low=lower_bound, high=upper_bound, shape=(len(param_bounds),), dtype=np.float32)\n",
    "\n",
    "\n",
    "action_space = create_action_space(param_bounds)\n",
    "\n",
    "backend_config = QMConfig(\n",
    "    parametrized_circuit=apply_parametrized_circuit,\n",
    "    backend=backend,\n",
    "    input_type=input_type,\n",
    "    verbosity=2,\n",
    "    parametrized_circuit_kwargs={\"physical_qubits\": physical_qubits, \"backend\": backend},\n",
    "    num_updates=num_updates.total_updates,\n",
    "    timeout=40,\n",
    "    test_mode=True,\n",
    ")\n",
    "execution_config = ExecutionConfig(\n",
    "    batch_size=batch_size,\n",
    "    sampling_paulis=pauli_sampling,\n",
    "    n_shots=n_shots,\n",
    "    n_reps=n_reps,\n",
    "    seed=seed,\n",
    ")\n",
    "q_env_config = QEnvConfig(\n",
    "    target=target,\n",
    "    backend_config=backend_config,\n",
    "    action_space=action_space,\n",
    "    execution_config=execution_config,\n",
    "    reward=reward,\n",
    "    benchmark_config=BenchmarkConfig(0),\n",
    ")  # No benchmark for now\n",
    "\n",
    "q_env = QMEnvironment(training_config=q_env_config)\n",
    "rescaled_env = RescaleAndClipAction(q_env, np.float32(-1.0), np.float32(1.0))"
   ]
  },
  {
   "cell_type": "code",
   "execution_count": 14,
   "id": "b8fd64dbe954c3e1",
   "metadata": {
    "ExecuteTime": {
     "end_time": "2025-06-27T02:36:09.890024Z",
     "start_time": "2025-06-27T02:36:09.887531Z"
    }
   },
   "outputs": [
    {
     "data": {
      "text/plain": [
       "MeasureMacro(id='measure', duration=None, fidelity=None, pulse=SquareReadoutPulse(length=1500, id=None, digital_marker='ON', amplitude=0.0335459595959596, axis_angle=None, threshold=0.0006715463385687272, rus_exit_threshold=0.0003209906061568691, integration_weights=[(1, 1500)], integration_weights_angle=-53.38059662316752))"
      ]
     },
     "execution_count": 14,
     "metadata": {},
     "output_type": "execute_result"
    }
   ],
   "source": [
    "machine.active_qubits[0].macros[\"measure\"]"
   ]
  },
  {
   "cell_type": "code",
   "execution_count": 15,
   "id": "ea5af641c9f8399e",
   "metadata": {
    "ExecuteTime": {
     "end_time": "2025-06-27T02:36:10.079075Z",
     "start_time": "2025-06-27T02:36:10.076084Z"
    }
   },
   "outputs": [
    {
     "name": "stdout",
     "output_type": "stream",
     "text": [
      "Target: Transmon based QuAM\n",
      "Number of qubits: 5\n",
      "Instructions:\n",
      "\tx\n",
      "\t\t(0,):\n",
      "\t\t\tDuration: 3.2e-08 sec.\n",
      "\t\t(1,):\n",
      "\t\t\tDuration: 3.2e-08 sec.\n",
      "\t\t(2,):\n",
      "\t\t\tDuration: 3.2e-08 sec.\n",
      "\t\t(3,):\n",
      "\t\t\tDuration: 3.2e-08 sec.\n",
      "\t\t(4,):\n",
      "\t\t\tDuration: 3.2e-08 sec.\n",
      "\trz\n",
      "\t\t(0,):\n",
      "\t\t\tDuration: 0 sec.\n",
      "\t\t\tError Rate: 0\n",
      "\t\t(1,):\n",
      "\t\t\tDuration: 0 sec.\n",
      "\t\t\tError Rate: 0\n",
      "\t\t(2,):\n",
      "\t\t\tDuration: 0 sec.\n",
      "\t\t\tError Rate: 0\n",
      "\t\t(3,):\n",
      "\t\t\tDuration: 0 sec.\n",
      "\t\t\tError Rate: 0\n",
      "\t\t(4,):\n",
      "\t\t\tDuration: 0 sec.\n",
      "\t\t\tError Rate: 0\n",
      "\tsx\n",
      "\t\t(0,):\n",
      "\t\t\tDuration: 3.2e-08 sec.\n",
      "\t\t(1,):\n",
      "\t\t\tDuration: 3.2e-08 sec.\n",
      "\t\t(2,):\n",
      "\t\t\tDuration: 3.2e-08 sec.\n",
      "\t\t(3,):\n",
      "\t\t\tDuration: 3.2e-08 sec.\n",
      "\t\t(4,):\n",
      "\t\t\tDuration: 3.2e-08 sec.\n",
      "\tdelay\n",
      "\t\t(0,):\n",
      "\t\t(1,):\n",
      "\t\t(2,):\n",
      "\t\t(3,):\n",
      "\t\t(4,):\n",
      "\treset\n",
      "\t\t(0,):\n",
      "\t\t(1,):\n",
      "\t\t(2,):\n",
      "\t\t(3,):\n",
      "\t\t(4,):\n",
      "\tmeasure\n",
      "\t\t(0,):\n",
      "\t\t\tDuration: 1.5e-06 sec.\n",
      "\t\t(1,):\n",
      "\t\t\tDuration: 1.5e-06 sec.\n",
      "\t\t(2,):\n",
      "\t\t\tDuration: 1.5e-06 sec.\n",
      "\t\t(3,):\n",
      "\t\t\tDuration: 1.5e-06 sec.\n",
      "\t\t(4,):\n",
      "\t\t\tDuration: 1.5e-06 sec.\n",
      "\tsy\n",
      "\t\t(0,):\n",
      "\t\t\tDuration: 3.2e-08 sec.\n",
      "\t\t(1,):\n",
      "\t\t\tDuration: 3.2e-08 sec.\n",
      "\t\t(2,):\n",
      "\t\t\tDuration: 3.2e-08 sec.\n",
      "\t\t(3,):\n",
      "\t\t\tDuration: 3.2e-08 sec.\n",
      "\t\t(4,):\n",
      "\t\t\tDuration: 3.2e-08 sec.\n",
      "\tsydg\n",
      "\t\t(0,):\n",
      "\t\t\tDuration: 3.2e-08 sec.\n",
      "\t\t(1,):\n",
      "\t\t\tDuration: 3.2e-08 sec.\n",
      "\t\t(2,):\n",
      "\t\t\tDuration: 3.2e-08 sec.\n",
      "\t\t(3,):\n",
      "\t\t\tDuration: 3.2e-08 sec.\n",
      "\t\t(4,):\n",
      "\t\t\tDuration: 3.2e-08 sec.\n",
      "\tid\n",
      "\t\t(0,):\n",
      "\t\t\tDuration: 0 sec.\n",
      "\t\t\tError Rate: 0\n",
      "\t\t(1,):\n",
      "\t\t\tDuration: 0 sec.\n",
      "\t\t\tError Rate: 0\n",
      "\t\t(2,):\n",
      "\t\t\tDuration: 0 sec.\n",
      "\t\t\tError Rate: 0\n",
      "\t\t(3,):\n",
      "\t\t\tDuration: 0 sec.\n",
      "\t\t\tError Rate: 0\n",
      "\t\t(4,):\n",
      "\t\t\tDuration: 0 sec.\n",
      "\t\t\tError Rate: 0\n",
      "\tif_else\n",
      "\twhile_loop\n",
      "\tfor_loop\n",
      "\tswitch_case\n",
      "\tbox\n",
      "\tx_cal\n",
      "\t\t(0,):\n",
      "\t\t\tDuration: 3.2e-08 sec.\n",
      "\n"
     ]
    }
   ],
   "source": [
    "print(backend.target)"
   ]
  },
  {
   "cell_type": "code",
   "execution_count": 16,
   "id": "f0922b58b4ffdd79",
   "metadata": {
    "ExecuteTime": {
     "end_time": "2025-06-27T02:36:10.264984Z",
     "start_time": "2025-06-27T02:36:10.261546Z"
    }
   },
   "outputs": [
    {
     "data": {
      "text/plain": [
       "{'target': {'state': [[0j, 0j], [0j, (1+0j)]], 'physical_qubits': (0,)},\n",
       " 'backend_config': {'input_type': 'INPUT_STREAM',\n",
       "  'verbosity': 2,\n",
       "  'num_updates': 100,\n",
       "  'opnic_dev_path': '/home/dpoulos/opnic-dev'},\n",
       " 'action_space': {'low': [-1.9800000190734863], 'high': [2.0]},\n",
       " 'execution_config': {'batch_size': 2,\n",
       "  'sampling_paulis': 10,\n",
       "  'n_shots': 50,\n",
       "  'n_reps': [1],\n",
       "  'c_factor': 1.0,\n",
       "  'seed': 36},\n",
       " 'reward_config': 'state',\n",
       " 'benchmark_config': {'benchmark_cycle': 0,\n",
       "  'benchmark_batch_size': 1,\n",
       "  'tomography_analysis': 'default',\n",
       "  'check_on_exp': False},\n",
       " 'metadata': {}}"
      ]
     },
     "execution_count": 16,
     "metadata": {},
     "output_type": "execute_result"
    }
   ],
   "source": [
    "from qiskit_qm_provider import InputType\n",
    "q_env.config.as_dict()"
   ]
  },
  {
   "cell_type": "code",
   "execution_count": 17,
   "id": "74fb1a4fdc087b47",
   "metadata": {
    "ExecuteTime": {
     "end_time": "2025-06-27T02:36:10.543573Z",
     "start_time": "2025-06-27T02:36:10.449785Z"
    }
   },
   "outputs": [
    {
     "data": {
      "image/png": "[encoded data removed]",
      "text/plain": [
       "<Figure size 375.117x117.056 with 1 Axes>"
      ]
     },
     "execution_count": 17,
     "metadata": {},
     "output_type": "execute_result"
    }
   ],
   "source": [
    "q_env.baseline_circuit.draw(\"mpl\", style=\"iqp-dark\", fold=20)"
   ]
  },
  {
   "cell_type": "code",
   "execution_count": 18,
   "id": "e5f92bf454ad4b39",
   "metadata": {
    "ExecuteTime": {
     "end_time": "2025-06-27T02:36:10.587564Z",
     "start_time": "2025-06-27T02:36:10.558717Z"
    }
   },
   "outputs": [
    {
     "data": {
      "image/png": "[encoded data removed]",
      "text/plain": [
       "<Figure size 207.895x117.056 with 1 Axes>"
      ]
     },
     "execution_count": 18,
     "metadata": {},
     "output_type": "execute_result"
    }
   ],
   "source": [
    "q_env.circuit.draw(\"mpl\", style=\"iqp-dark\", fold=20)"
   ]
  },
  {
   "cell_type": "code",
   "execution_count": 19,
   "id": "bbe97ee84dbeeece",
   "metadata": {
    "ExecuteTime": {
     "end_time": "2025-06-27T02:36:11.070900Z",
     "start_time": "2025-06-27T02:36:11.014113Z"
    }
   },
   "outputs": [
    {
     "data": {
      "image/png": "[encoded data removed]",
      "text/plain": [
       "<Figure size 2085.39x200.667 with 1 Axes>"
      ]
     },
     "execution_count": 19,
     "metadata": {},
     "output_type": "execute_result"
    }
   ],
   "source": [
    "q_env.real_time_circuit.draw(\"mpl\", style=\"iqp-dark\", fold=25)"
   ]
  },
  {
   "cell_type": "code",
   "execution_count": 20,
   "id": "86f79b1c23a7d14b",
   "metadata": {
    "ExecuteTime": {
     "end_time": "2025-06-27T02:36:11.335115Z",
     "start_time": "2025-06-27T02:36:11.260618Z"
    }
   },
   "outputs": [
    {
     "data": {
      "image/png": "[encoded data removed]",
      "text/plain": [
       "<Figure size 2535.7x200.667 with 1 Axes>"
      ]
     },
     "execution_count": 20,
     "metadata": {},
     "output_type": "execute_result"
    }
   ],
   "source": [
    "q_env.real_time_transpiled_circuit.draw(\"mpl\", fold=32, style=\"iqp-dark\")"
   ]
  },
  {
   "cell_type": "code",
   "execution_count": 21,
   "id": "a164c369",
   "metadata": {},
   "outputs": [
    {
     "data": {
      "text/plain": [
       "SparsePauliOp(['I', 'Z'],\n",
       "              coeffs=[ 0.5+0.j, -0.5+0.j])"
      ]
     },
     "execution_count": 21,
     "metadata": {},
     "output_type": "execute_result"
    }
   ],
   "source": [
    "from qiskit.quantum_info import SparsePauliOp, Statevector, Operator, DensityMatrix\n",
    "dm = DensityMatrix.from_label(\"1\")\n",
    "SparsePauliOp.from_operator(Operator(dm))"
   ]
  },
  {
   "cell_type": "code",
   "execution_count": 22,
   "id": "42ebe66539e336a7",
   "metadata": {
    "ExecuteTime": {
     "end_time": "2025-06-27T02:36:11.527405Z",
     "start_time": "2025-06-27T02:36:11.518638Z"
    }
   },
   "outputs": [
    {
     "name": "stdout",
     "output_type": "stream",
     "text": [
      "OPENQASM 3.0;\n",
      "input float[64] a_0_0;\n",
      "input uint[4] observable_0;\n",
      "input uint[8] input_state_0;\n",
      "bit[1] meas;\n",
      "int switch_dummy;\n",
      "int switch_dummy_0;\n",
      "reset $0;\n",
      "switch_dummy = input_state_0;\n",
      "switch (switch_dummy) {\n",
      "  case 0 {\n",
      "    delay[16dt] $0;\n",
      "  }\n",
      "  case 1 {\n",
      "    x $0;\n",
      "  }\n",
      "  case 2 {\n",
      "    rz(1.5707963267948966) $0;\n",
      "    sx $0;\n",
      "    rz(1.5707963267948966) $0;\n",
      "  }\n",
      "  case 3 {\n",
      "    rz(1.5707963267948966) $0;\n",
      "    sx $0;\n",
      "    rz(-3.141592653589793) $0;\n",
      "  }\n",
      "}\n",
      "x_cal(a_0_0) $0;\n",
      "switch_dummy_0 = observable_0;\n",
      "switch (switch_dummy_0) {\n",
      "  case 0 {\n",
      "    delay[16dt] $0;\n",
      "  }\n",
      "  case 1 {\n",
      "    rz(1.5707963267948966) $0;\n",
      "    sx $0;\n",
      "    rz(1.5707963267948966) $0;\n",
      "  }\n",
      "  case 2 {\n",
      "    sx $0;\n",
      "    rz(1.5707963267948966) $0;\n",
      "  }\n",
      "}\n",
      "meas[0] = measure $0;\n",
      "\n"
     ]
    }
   ],
   "source": [
    "print(backend.oq3_exporter.dumps(q_env.real_time_transpiled_circuit))"
   ]
  },
  {
   "cell_type": "code",
   "execution_count": 23,
   "id": "6251a1b9ad6b49c7",
   "metadata": {
    "ExecuteTime": {
     "end_time": "2025-06-27T02:36:12.201063Z",
     "start_time": "2025-06-27T02:36:11.732242Z"
    }
   },
   "outputs": [
    {
     "name": "stdout",
     "output_type": "stream",
     "text": [
      "\n",
      "# Single QUA script generated at 2025-07-09 15:51:41.799738\n",
      "# QUA library version: 1.2.2\n",
      "\n",
      "from qm import CompilerOptionArguments\n",
      "from qm.qua import *\n",
      "\n",
      "with program() as prog:\n",
      "    input_stream_input_state_0 = declare_input_stream(int, 'input_state_0', value=0)\n",
      "    input_stream_observable_0 = declare_input_stream(int, 'observable_0', value=0)\n",
      "    input_stream_pauli_shots = declare_input_stream(int, 'pauli_shots', value=50)\n",
      "    input_stream_max_observables = declare_input_stream(int, 'max_observables', value=0)\n",
      "    v1 = declare(fixed, value=0.0)\n",
      "    input_stream_mu = declare_input_stream(fixed, 'mu', value=[0.0])\n",
      "    input_stream_sigma = declare_input_stream(fixed, 'sigma', value=[1.0])\n",
      "    a1 = declare(int, value=[0, 0])\n",
      "    v2 = declare(int, )\n",
      "    v3 = declare(int, )\n",
      "    v4 = declare(int, )\n",
      "    v5 = declare(int, )\n",
      "    v6 = declare(int, value=0)\n",
      "    v7 = declare(int, )\n",
      "    v8 = declare(int, )\n",
      "    a2 = declare(fixed, size=1)\n",
      "    a3 = declare(fixed, size=1)\n",
      "    a4 = declare(fixed, value=[-1.9800000190734863])\n",
      "    a5 = declare(fixed, value=[2.0])\n",
      "    v9 = declare(int, value=36)\n",
      "    v10 = declare(fixed, value=0.0)\n",
      "    v11 = declare(int, value=0)\n",
      "    v12 = declare(int, value=0)\n",
      "    a6 = declare(bool, value=[False])\n",
      "    v13 = declare(int, value=0)\n",
      "    v14 = declare(int, value=0)\n",
      "    v15 = declare(bool, )\n",
      "    v16 = declare(fixed, )\n",
      "    v17 = declare(fixed, )\n",
      "    set_dc_offset(\"qD1.z\", \"single\", 0.014975296478675864)\n",
      "    set_dc_offset(\"qD2.z\", \"single\", 0.013577691099658123)\n",
      "    set_dc_offset(\"qD3.z\", \"single\", 0.05176780959152155)\n",
      "    set_dc_offset(\"qD4.z\", \"single\", 0.17025936519494259)\n",
      "    set_dc_offset(\"qD5.z\", \"single\", -0.007770540398896778)\n",
      "    set_dc_offset(\"qA1.z\", \"single\", 0.1477115665125754)\n",
      "    set_dc_offset(\"qA2.z\", \"single\", -0.18068731310163)\n",
      "    set_dc_offset(\"qA3.z\", \"single\", -0.1443726705855136)\n",
      "    set_dc_offset(\"qA4.z\", \"single\", 0.18551243498863373)\n",
      "    set_dc_offset(\"qA5.z\", \"single\", 0.16645819399142336)\n",
      "    set_dc_offset(\"qA6.z\", \"single\", -0.11522016627786141)\n",
      "    set_dc_offset(\"qB1.z\", \"single\", -0.11952150569822745)\n",
      "    set_dc_offset(\"qB2.z\", \"single\", -0.12067467286499674)\n",
      "    set_dc_offset(\"qB3.z\", \"single\", -0.12650966945201522)\n",
      "    set_dc_offset(\"qB4.z\", \"single\", -0.11582657545207137)\n",
      "    set_dc_offset(\"qB5.z\", \"single\", -0.18609550283236195)\n",
      "    set_dc_offset(\"qC1.z\", \"single\", -0.03825071115926221)\n",
      "    set_dc_offset(\"qC2.z\", \"single\", -0.07261503068083752)\n",
      "    set_dc_offset(\"qC3.z\", \"single\", -0.08678894220353593)\n",
      "    set_dc_offset(\"qC4.z\", \"single\", -0.06872747999750445)\n",
      "    set_dc_offset(\"qC5.z\", \"single\", 0.5)\n",
      "    with for_(v3,0,(v3<100),(v3+1)):\n",
      "        advance_input_stream(input_stream_mu)\n",
      "        advance_input_stream(input_stream_sigma)\n",
      "        r7 = declare_stream()\n",
      "        save(input_stream_mu[0], r7)\n",
      "        r8 = declare_stream()\n",
      "        save(input_stream_sigma[0], r8)\n",
      "        advance_input_stream(input_stream_input_state_0)\n",
      "        r2 = declare_stream()\n",
      "        save(input_stream_input_state_0, r2)\n",
      "        advance_input_stream(input_stream_max_observables)\n",
      "        advance_input_stream(input_stream_pauli_shots)\n",
      "        r5 = declare_stream()\n",
      "        save(input_stream_max_observables, r5)\n",
      "        r4 = declare_stream()\n",
      "        save(input_stream_pauli_shots, r4)\n",
      "        with for_(v5,0,(input_stream_max_observables>v5),(v5+1)):\n",
      "            advance_input_stream(input_stream_observable_0)\n",
      "            r3 = declare_stream()\n",
      "            save(input_stream_observable_0, r3)\n",
      "            assign(v9, (36+v3))\n",
      "            with for_(v7,0,(v7<2),(v7+2)):\n",
      "                assign(v1, input_stream_mu[0])\n",
      "                with for_(v8,0,(v8<2),(v8+1)):\n",
      "                    assign(v1, input_stream_mu[0])\n",
      "                    r6 = declare_stream()\n",
      "                    save(v1, r6)\n",
      "                    with for_(v4,0,(input_stream_pauli_shots>v4),(v4+1)):\n",
      "                        assign(v10, v1)\n",
      "                        assign(v11, input_stream_observable_0)\n",
      "                        assign(v12, input_stream_input_state_0)\n",
      "                        align(\"qD1.resonator\", \"qD1.xy\", \"qD1.z\")\n",
      "                        wait(31308, \"qD1.xy\", \"qD1.z\", \"qD1.resonator\")\n",
      "                        align(\"qD1.resonator\", \"qD1.xy\", \"qD1.z\")\n",
      "                        assign(v13, v12)\n",
      "                        with if_((v13==0), unsafe=True):\n",
      "                            align(\"qD1.resonator\", \"qD1.xy\", \"qD1.z\")\n",
      "                            wait(4, \"qD1.xy\", \"qD1.z\", \"qD1.resonator\")\n",
      "                            align(\"qD1.resonator\", \"qD1.xy\", \"qD1.z\")\n",
      "                        with elif_((v13==1)):\n",
      "                            align(\"qD1.resonator\", \"qD1.xy\", \"qD1.z\")\n",
      "                            play(\"x180_DragCosine\", \"qD1.xy\")\n",
      "                            align(\"qD1.resonator\", \"qD1.xy\", \"qD1.z\")\n",
      "                        with elif_((v13==2)):\n",
      "                            align(\"qD1.resonator\", \"qD1.xy\", \"qD1.z\")\n",
      "                            frame_rotation_2pi(0.25, \"qD1.xy\")\n",
      "                            align(\"qD1.resonator\", \"qD1.xy\", \"qD1.z\")\n",
      "                            align(\"qD1.resonator\", \"qD1.xy\", \"qD1.z\")\n",
      "                            play(\"x90_DragCosine\", \"qD1.xy\")\n",
      "                            align(\"qD1.resonator\", \"qD1.xy\", \"qD1.z\")\n",
      "                            align(\"qD1.resonator\", \"qD1.xy\", \"qD1.z\")\n",
      "                            frame_rotation_2pi(0.25, \"qD1.xy\")\n",
      "                            align(\"qD1.resonator\", \"qD1.xy\", \"qD1.z\")\n",
      "                        with elif_((v13==3)):\n",
      "                            align(\"qD1.resonator\", \"qD1.xy\", \"qD1.z\")\n",
      "                            frame_rotation_2pi(0.25, \"qD1.xy\")\n",
      "                            align(\"qD1.resonator\", \"qD1.xy\", \"qD1.z\")\n",
      "                            align(\"qD1.resonator\", \"qD1.xy\", \"qD1.z\")\n",
      "                            play(\"x90_DragCosine\", \"qD1.xy\")\n",
      "                            align(\"qD1.resonator\", \"qD1.xy\", \"qD1.z\")\n",
      "                            align(\"qD1.resonator\", \"qD1.xy\", \"qD1.z\")\n",
      "                            frame_rotation_2pi(-0.5, \"qD1.xy\")\n",
      "                            align(\"qD1.resonator\", \"qD1.xy\", \"qD1.z\")\n",
      "                        align(\"qD1.resonator\", \"qD1.xy\", \"qD1.z\")\n",
      "                        play(\"x180_DragCosine\"*amp(v10), \"qD1.xy\")\n",
      "                        align(\"qD1.resonator\", \"qD1.xy\", \"qD1.z\")\n",
      "                        assign(v14, v11)\n",
      "                        with if_((v14==0), unsafe=True):\n",
      "                            align(\"qD1.resonator\", \"qD1.xy\", \"qD1.z\")\n",
      "                            wait(4, \"qD1.xy\", \"qD1.z\", \"qD1.resonator\")\n",
      "                            align(\"qD1.resonator\", \"qD1.xy\", \"qD1.z\")\n",
      "                        with elif_((v14==1)):\n",
      "                            align(\"qD1.resonator\", \"qD1.xy\", \"qD1.z\")\n",
      "                            frame_rotation_2pi(0.25, \"qD1.xy\")\n",
      "                            align(\"qD1.resonator\", \"qD1.xy\", \"qD1.z\")\n",
      "                            align(\"qD1.resonator\", \"qD1.xy\", \"qD1.z\")\n",
      "                            play(\"x90_DragCosine\", \"qD1.xy\")\n",
      "                            align(\"qD1.resonator\", \"qD1.xy\", \"qD1.z\")\n",
      "                            align(\"qD1.resonator\", \"qD1.xy\", \"qD1.z\")\n",
      "                            frame_rotation_2pi(0.25, \"qD1.xy\")\n",
      "                            align(\"qD1.resonator\", \"qD1.xy\", \"qD1.z\")\n",
      "                        with elif_((v14==2)):\n",
      "                            align(\"qD1.resonator\", \"qD1.xy\", \"qD1.z\")\n",
      "                            play(\"x90_DragCosine\", \"qD1.xy\")\n",
      "                            align(\"qD1.resonator\", \"qD1.xy\", \"qD1.z\")\n",
      "                            align(\"qD1.resonator\", \"qD1.xy\", \"qD1.z\")\n",
      "                            frame_rotation_2pi(0.25, \"qD1.xy\")\n",
      "                            align(\"qD1.resonator\", \"qD1.xy\", \"qD1.z\")\n",
      "                        align(\"qD1.resonator\", \"qD1.xy\", \"qD1.z\")\n",
      "                        measure(\"readout\", \"qD1.resonator\", dual_demod.full(\"iw1\", \"iw2\", v16), dual_demod.full(\"iw3\", \"iw1\", v17))\n",
      "                        assign(v15, (v16>0.0006715463385687272))\n",
      "                        align(\"qD1.resonator\", \"qD1.xy\", \"qD1.z\")\n",
      "                        assign(a6[0], v15)\n",
      "                        assign(v6, (v6+(1*Cast.to_int(a6[0]))))\n",
      "                        save(v6, \"state_int\")\n",
      "                        assign(a1[v6], (a1[v6]+1))\n",
      "                        assign(v6, 0)\n",
      "                    r1 = declare_stream()\n",
      "                    save(a1[0], r1)\n",
      "                    save(a1[1], r1)\n",
      "                    assign(a1[0], 0.0)\n",
      "                    assign(a1[1], 0.0)\n",
      "    with stream_processing():\n",
      "        r1.buffer(2, 2).save_all(\"reward\")\n",
      "        r2.save_all(\"input_state_0\")\n",
      "        r3.save_all(\"observable_0\")\n",
      "        r4.save_all(\"pauli_shots\")\n",
      "        r5.save_all(\"max_observables\")\n",
      "        r6.save_all(\"a_0_0\")\n",
      "        r7.buffer(1).save_all(\"mu\")\n",
      "        r8.buffer(1).save_all(\"sigma\")\n",
      "\n",
      "\n",
      "config = None\n",
      "\n",
      "loaded_config = None\n",
      "\n",
      "\n"
     ]
    }
   ],
   "source": [
    "from qm import generate_qua_script\n",
    "\n",
    "print(generate_qua_script(q_env.rl_qoc_training_qua_prog(num_updates.total_updates)))"
   ]
  },
  {
   "cell_type": "code",
   "execution_count": 24,
   "id": "74f6e939d47b47df",
   "metadata": {
    "ExecuteTime": {
     "end_time": "2025-06-27T02:24:15.033467Z",
     "start_time": "2025-06-27T02:24:15.014441Z"
    }
   },
   "outputs": [
    {
     "data": {
      "text/plain": [
       "StateRewardDataList([StateRewardData(pub=EstimatorPub(<(2,)>), pauli_sampling=10, id_coeff=np.float64(1.0), input_circuit=<qiskit.circuit.quantumcircuit.QuantumCircuit object at 0x16918d110>, observables=SparsePauliOp(['Z'],\n",
       "              coeffs=[-10.+0.j]), n_reps=1, input_indices=(0,), observables_indices=[(0,)])])"
      ]
     },
     "execution_count": 24,
     "metadata": {},
     "output_type": "execute_result"
    }
   ],
   "source": [
    "reward.get_reward_data(\n",
    "    q_env.circuit, np.zeros((q_env.batch_size, q_env.n_actions)), q_env.target, q_env.config\n",
    ")"
   ]
  },
  {
   "cell_type": "code",
   "execution_count": 25,
   "id": "92004f1ce40479d4",
   "metadata": {
    "ExecuteTime": {
     "end_time": "2025-06-27T02:36:42.074382Z",
     "start_time": "2025-06-27T02:36:41.325640Z"
    }
   },
   "outputs": [],
   "source": [
    "ppo_config = PPOConfig.from_yaml(\"agent_config.yaml\")\n",
    "ppo_agent = CustomQMPPO(ppo_config, rescaled_env)\n",
    "\n",
    "ppo_training = TrainingConfig(num_updates)\n",
    "ppo_settings = TrainFunctionSettings(plot_real_time=True, print_debug=True, num_prints=10)"
   ]
  },
  {
   "cell_type": "code",
   "execution_count": 26,
   "id": "d27ceb5f8f93ffda",
   "metadata": {
    "ExecuteTime": {
     "end_time": "2025-06-27T02:36:42.966966Z",
     "start_time": "2025-06-27T02:36:42.964279Z"
    }
   },
   "outputs": [],
   "source": [
    "q_env.reward_data"
   ]
  },
  {
   "cell_type": "code",
   "execution_count": 27,
   "id": "51cf4df459a0ed50",
   "metadata": {
    "ExecuteTime": {
     "end_time": "2025-06-27T02:36:47.353634Z",
     "start_time": "2025-06-27T02:36:44.232479Z"
    }
   },
   "outputs": [
    {
     "name": "stdout",
     "output_type": "stream",
     "text": [
      "2025-07-09 15:51:44,263 - qm - INFO     - Performing health check\n",
      "2025-07-09 15:51:44 INFO Performing health check\n",
      "2025-07-09 15:51:45,067 - qm - INFO     - Cluster healthcheck completed successfully.\n",
      "2025-07-09 15:51:45 INFO Cluster healthcheck completed successfully.\n",
      "[]\n"
     ]
    }
   ],
   "source": [
    "print(backend.qmm.get_jobs(status=\"Running\"))"
   ]
  },
  {
   "cell_type": "code",
   "execution_count": 28,
   "id": "e8824a4e9bda9681",
   "metadata": {
    "ExecuteTime": {
     "end_time": "2025-06-27T02:36:59.320238Z",
     "start_time": "2025-06-27T02:36:48.316524Z"
    }
   },
   "outputs": [
    {
     "name": "stderr",
     "output_type": "stream",
     "text": [
      "/Users/arthurostrauss/Library/CloudStorage/OneDrive-QMMachinesLTD/GitHub/quam/quam/components/channels.py:647: UserWarning: The 'thread' element argument is deprecated from qm.qua >= 1.2.2. Use 'core' instead.\n",
      "  warnings.warn(\n"
     ]
    },
    {
     "name": "stdout",
     "output_type": "stream",
     "text": [
      "2025-07-09 15:51:49,739 - qm - INFO     - Clearing queue\n",
      "2025-07-09 15:51:49 INFO Clearing queue\n",
      "2025-07-09 15:51:51,075 - qm - INFO     - Adding program to queue.\n",
      "2025-07-09 15:51:51 INFO Adding program to queue.\n"
     ]
    }
   ],
   "source": [
    "job = q_env.start_program()"
   ]
  },
  {
   "cell_type": "code",
   "execution_count": 29,
   "id": "af228b76",
   "metadata": {},
   "outputs": [
    {
     "data": {
      "text/plain": [
       "JobApiWithDeprecations(connection_details=ConnectionDetails(host='10.1.1.6', port=9510, user_token='', ssl_context=None, max_message_size=104857600, headers={'x-grpc-service': 'gateway', 'cluster_name': 'galil_arbel'}, timeout=60, debug_data=None), job_id=6f9fee4f-4370-4483-a94f-7bffadf2d082)"
      ]
     },
     "execution_count": 29,
     "metadata": {},
     "output_type": "execute_result"
    }
   ],
   "source": [
    "from qm.api.v2.job_api.job_api import JobApi\n",
    "job"
   ]
  },
  {
   "cell_type": "code",
   "execution_count": 30,
   "id": "b3197802809df584",
   "metadata": {
    "ExecuteTime": {
     "end_time": "2025-06-27T02:26:30.235810Z",
     "start_time": "2025-06-27T02:26:29.564377Z"
    }
   },
   "outputs": [
    {
     "data": {
      "text/plain": [
       "'running'"
      ]
     },
     "execution_count": 30,
     "metadata": {},
     "output_type": "execute_result"
    }
   ],
   "source": [
    "job.status"
   ]
  },
  {
   "cell_type": "code",
   "execution_count": 35,
   "id": "578c1751",
   "metadata": {},
   "outputs": [
    {
     "name": "stderr",
     "output_type": "stream",
     "text": [
      "/var/folders/5w/ygx15jq94z5dzxwkmbbj8zfm0000gn/T/ipykernel_27829/2760244435.py:1: DeprecationWarning: job.halt is deprecated since \"1.2.0\" and will be removed in \"1.4.0\". This method was renamed to `job.cancel`.\n",
      "  job.halt()\n"
     ]
    },
    {
     "data": {
      "text/plain": [
       "True"
      ]
     },
     "execution_count": 35,
     "metadata": {},
     "output_type": "execute_result"
    }
   ],
   "source": [
    "job.halt()"
   ]
  },
  {
   "cell_type": "code",
   "execution_count": 32,
   "id": "08ec29ed",
   "metadata": {},
   "outputs": [
    {
     "data": {
      "text/plain": [
       "array([(-1.98000002,), (-1.98000002,), (-1.89877558,), (-1.89877558,),\n",
       "       (-1.81755102,), (-1.81755102,), (-1.73632658,), (-1.73632658,),\n",
       "       (-1.65510213,), (-1.65510213,), (-1.57387757,), (-1.57387757,),\n",
       "       (-1.49265313,), (-1.49265313,), (-1.41142869,), (-1.41142869,),\n",
       "       (-1.33020413,), (-1.33020413,), (-1.24897969,), (-1.24897969,),\n",
       "       (-1.16775513,), (-1.16775513,), (-1.08653057,), (-1.08653057,),\n",
       "       (-1.00530612,), (-1.00530612,), (-0.92408174,), (-0.92408174,),\n",
       "       (-0.84285718,), (-0.84285718,), (-0.76163268,), (-0.76163268,),\n",
       "       (-0.68040824,), (-0.68040824,), (-0.59918374,), (-0.59918374,),\n",
       "       (-0.51795924,), (-0.51795924,), (-0.43673477,), (-0.43673477,),\n",
       "       (-0.35551026,), (-0.35551026,), (-0.27428579,), (-0.27428579,),\n",
       "       (-0.19306131,), (-0.19306131,), (-0.11183681,), (-0.11183681,),\n",
       "       (-0.03061232,), (-0.03061232,), ( 0.05061217,), ( 0.05061217,),\n",
       "       ( 0.13183665,), ( 0.13183665,), ( 0.21306115,), ( 0.21306115,),\n",
       "       ( 0.29428566,), ( 0.29428566,), ( 0.37551013,), ( 0.37551013,),\n",
       "       ( 0.4567346 ,), ( 0.4567346 ,), ( 0.5379591 ,), ( 0.5379591 ,),\n",
       "       ( 0.6191836 ,), ( 0.6191836 ,), ( 0.7004081 ,), ( 0.7004081 ,),\n",
       "       ( 0.78163254,), ( 0.78163254,), ( 0.86285704,), ( 0.86285704,),\n",
       "       ( 0.94408154,), ( 0.94408154,), ( 1.02530599,), ( 1.02530599,),\n",
       "       ( 1.10653043,), ( 1.10653043,), ( 1.18775499,), ( 1.18775499,),\n",
       "       ( 1.26897943,), ( 1.26897943,), ( 1.35020399,), ( 1.35020399,),\n",
       "       ( 1.43142855,), ( 1.43142855,), ( 1.51265299,), ( 1.51265299,),\n",
       "       ( 1.59387743,), ( 1.59387743,), ( 1.675102  ,), ( 1.675102  ,),\n",
       "       ( 1.75632644,), ( 1.75632644,), ( 1.83755088,), ( 1.83755088,),\n",
       "       ( 1.91877544,), ( 1.91877544,), ( 2.        ,), ( 2.        ,)],\n",
       "      dtype=[('value', '<f8')])"
      ]
     },
     "execution_count": 32,
     "metadata": {},
     "output_type": "execute_result"
    }
   ],
   "source": [
    "job.result_handles.a_0_0.fetch_all()"
   ]
  },
  {
   "cell_type": "code",
   "execution_count": 31,
   "id": "7f369fd49eb21c1b",
   "metadata": {
    "ExecuteTime": {
     "end_time": "2025-06-27T02:42:03.079887Z",
     "start_time": "2025-06-27T02:36:59.927654Z"
    }
   },
   "outputs": [
    {
     "name": "stdout",
     "output_type": "stream",
     "text": [
      "Pushing value [-1.9800000190734863] to mu through input stream.\n",
      "Pushing value [0.009999999776482582] to sigma through input stream.\n",
      "Just pushed policy parameters to OPX: [-1.9800000190734863] [0.009999999776482582]\n",
      "Fetching index: 0, finishing index: 1\n",
      "Fetching size: 1\n",
      "Step indices: {0: (0, 1)}\n",
      "Total data points: 1\n",
      "Pushing value 0 to input_state_0 through input stream.\n",
      "Pushing value 1 to max_observables through input stream.\n",
      "Pushing value 500 to pauli_shots through input stream.\n",
      "Pushing value 0 to observable_0 through input stream.\n",
      "Fetching value from reward with input type None\n",
      "Fetched value: [[[475  25]\n",
      "  [488  12]]]\n",
      "[-0. -0.]\n",
      "Pushing value [-1.8427586555480957] to mu through input stream.\n",
      "Pushing value [0.009999999776482582] to sigma through input stream.\n",
      "Just pushed policy parameters to OPX: [-1.8427586555480957] [0.009999999776482582]\n",
      "Fetching index: 1, finishing index: 2\n",
      "Fetching size: 1\n",
      "Step indices: {0: (0, 1), 1: (1, 2)}\n",
      "Total data points: 2\n",
      "Pushing value 0 to input_state_0 through input stream.\n",
      "Pushing value 1 to max_observables through input stream.\n",
      "Pushing value 500 to pauli_shots through input stream.\n",
      "Pushing value 0 to observable_0 through input stream.\n",
      "Fetching value from reward with input type None\n",
      "Fetched value: [[[463  37]\n",
      "  [451  49]]]\n",
      "[-0. -0.]\n",
      "Pushing value [-1.705517292022705] to mu through input stream.\n",
      "Pushing value [0.009999999776482582] to sigma through input stream.\n",
      "Just pushed policy parameters to OPX: [-1.705517292022705] [0.009999999776482582]\n",
      "Fetching index: 2, finishing index: 3\n",
      "Fetching size: 1\n",
      "Step indices: {0: (0, 1), 1: (1, 2), 2: (2, 3)}\n",
      "Total data points: 3\n",
      "Pushing value 0 to input_state_0 through input stream.\n",
      "Pushing value 1 to max_observables through input stream.\n",
      "Pushing value 500 to pauli_shots through input stream.\n",
      "Pushing value 0 to observable_0 through input stream.\n",
      "Fetching value from reward with input type None\n",
      "Fetched value: [[[383 117]\n",
      "  [387 113]]]\n",
      "[-0. -0.]\n",
      "Pushing value [-1.5682759284973145] to mu through input stream.\n",
      "Pushing value [0.009999999776482582] to sigma through input stream.\n",
      "Just pushed policy parameters to OPX: [-1.5682759284973145] [0.009999999776482582]\n",
      "Fetching index: 3, finishing index: 4\n",
      "Fetching size: 1\n",
      "Step indices: {0: (0, 1), 1: (1, 2), 2: (2, 3), 3: (3, 4)}\n",
      "Total data points: 4\n",
      "Pushing value 0 to input_state_0 through input stream.\n",
      "Pushing value 1 to max_observables through input stream.\n",
      "Pushing value 500 to pauli_shots through input stream.\n",
      "Pushing value 0 to observable_0 through input stream.\n",
      "Fetching value from reward with input type None\n",
      "Fetched value: [[[289 211]\n",
      "  [296 204]]]\n",
      "[-0. -0.]\n",
      "Pushing value [-1.4310344457626343] to mu through input stream.\n",
      "Pushing value [0.009999999776482582] to sigma through input stream.\n",
      "Just pushed policy parameters to OPX: [-1.4310344457626343] [0.009999999776482582]\n",
      "Fetching index: 4, finishing index: 5\n",
      "Fetching size: 1\n",
      "Step indices: {0: (0, 1), 1: (1, 2), 2: (2, 3), 3: (3, 4), 4: (4, 5)}\n",
      "Total data points: 5\n",
      "Pushing value 0 to input_state_0 through input stream.\n",
      "Pushing value 1 to max_observables through input stream.\n",
      "Pushing value 500 to pauli_shots through input stream.\n",
      "Pushing value 0 to observable_0 through input stream.\n",
      "Fetching value from reward with input type None\n",
      "Fetched value: [[[203 297]\n",
      "  [214 286]]]\n",
      "[0.14752001 0.1214782 ]\n",
      "Pushing value [-1.2937930822372437] to mu through input stream.\n",
      "Pushing value [0.009999999776482582] to sigma through input stream.\n",
      "Just pushed policy parameters to OPX: [-1.2937930822372437] [0.009999999776482582]\n",
      "Fetching index: 5, finishing index: 6\n",
      "Fetching size: 1\n",
      "Step indices: {0: (0, 1), 1: (1, 2), 2: (2, 3), 3: (3, 4), 4: (4, 5), 5: (5, 6)}\n",
      "Total data points: 6\n",
      "Pushing value 0 to input_state_0 through input stream.\n",
      "Pushing value 1 to max_observables through input stream.\n",
      "Pushing value 500 to pauli_shots through input stream.\n",
      "Pushing value 0 to observable_0 through input stream.\n",
      "Fetching value from reward with input type None\n",
      "Fetched value: [[[102 398]\n",
      "  [113 387]]]\n",
      "[0.51144928 0.45345734]\n",
      "Pushing value [-1.1565518379211426] to mu through input stream.\n",
      "Pushing value [0.009999999776482582] to sigma through input stream.\n",
      "Just pushed policy parameters to OPX: [-1.1565518379211426] [0.009999999776482582]\n",
      "Fetching index: 6, finishing index: 7\n",
      "Fetching size: 1\n",
      "Step indices: {0: (0, 1), 1: (1, 2), 2: (2, 3), 3: (3, 4), 4: (4, 5), 5: (5, 6), 6: (6, 7)}\n",
      "Total data points: 7\n",
      "Pushing value 0 to input_state_0 through input stream.\n",
      "Pushing value 1 to max_observables through input stream.\n",
      "Pushing value 500 to pauli_shots through input stream.\n",
      "Pushing value 0 to observable_0 through input stream.\n",
      "Fetching value from reward with input type None\n",
      "Fetched value: [[[ 57 443]\n",
      "  [ 50 450]]]\n",
      "[0.89279003 1.        ]\n",
      "Pushing value [-1.0193103551864624] to mu through input stream.\n",
      "Pushing value [0.009999999776482582] to sigma through input stream.\n",
      "Just pushed policy parameters to OPX: [-1.0193103551864624] [0.009999999776482582]\n",
      "Fetching index: 7, finishing index: 8\n",
      "Fetching size: 1\n",
      "Step indices: {0: (0, 1), 1: (1, 2), 2: (2, 3), 3: (3, 4), 4: (4, 5), 5: (5, 6), 6: (6, 7), 7: (7, 8)}\n",
      "Total data points: 8\n",
      "Pushing value 0 to input_state_0 through input stream.\n",
      "Pushing value 1 to max_observables through input stream.\n",
      "Pushing value 500 to pauli_shots through input stream.\n",
      "Pushing value 0 to observable_0 through input stream.\n",
      "Fetching value from reward with input type None\n",
      "Fetched value: [[[ 33 467]\n",
      "  [ 36 464]]]\n",
      "[1.49485002 1.35654732]\n",
      "Pushing value [-0.8820690512657166] to mu through input stream.\n",
      "Pushing value [0.009999999776482582] to sigma through input stream.\n",
      "Just pushed policy parameters to OPX: [-0.8820690512657166] [0.009999999776482582]\n",
      "Fetching index: 8, finishing index: 9\n",
      "Fetching size: 1\n",
      "Step indices: {0: (0, 1), 1: (1, 2), 2: (2, 3), 3: (3, 4), 4: (4, 5), 5: (5, 6), 6: (6, 7), 7: (7, 8), 8: (8, 9)}\n",
      "Total data points: 9\n",
      "Pushing value 0 to input_state_0 through input stream.\n",
      "Pushing value 1 to max_observables through input stream.\n",
      "Pushing value 500 to pauli_shots through input stream.\n",
      "Pushing value 0 to observable_0 through input stream.\n",
      "Fetching value from reward with input type None\n",
      "Fetched value: [[[ 59 441]\n",
      "  [ 55 445]]]\n",
      "[0.86646109 0.92081875]\n",
      "Pushing value [-0.7448276281356812] to mu through input stream.\n",
      "Pushing value [0.009999999776482582] to sigma through input stream.\n",
      "Just pushed policy parameters to OPX: [-0.7448276281356812] [0.009999999776482582]\n",
      "Fetching index: 9, finishing index: 10\n",
      "Fetching size: 1\n",
      "Step indices: {0: (0, 1), 1: (1, 2), 2: (2, 3), 3: (3, 4), 4: (4, 5), 5: (5, 6), 6: (6, 7), 7: (7, 8), 8: (8, 9), 9: (9, 10)}\n",
      "Total data points: 10\n",
      "Pushing value 0 to input_state_0 through input stream.\n",
      "Pushing value 1 to max_observables through input stream.\n",
      "Pushing value 500 to pauli_shots through input stream.\n",
      "Pushing value 0 to observable_0 through input stream.\n",
      "Fetching value from reward with input type None\n",
      "Fetched value: [[[102 398]\n",
      "  [103 397]]]\n",
      "[0.51144928 0.50584541]\n",
      "Pushing value [-0.6075862646102905] to mu through input stream.\n",
      "Pushing value [0.009999999776482582] to sigma through input stream.\n",
      "Just pushed policy parameters to OPX: [-0.6075862646102905] [0.009999999776482582]\n",
      "Fetching index: 10, finishing index: 11\n",
      "Fetching size: 1\n",
      "Step indices: {0: (0, 1), 1: (1, 2), 2: (2, 3), 3: (3, 4), 4: (4, 5), 5: (5, 6), 6: (6, 7), 7: (7, 8), 8: (8, 9), 9: (9, 10), 10: (10, 11)}\n",
      "Total data points: 11\n",
      "Pushing value 0 to input_state_0 through input stream.\n",
      "Pushing value 1 to max_observables through input stream.\n",
      "Pushing value 500 to pauli_shots through input stream.\n",
      "Pushing value 0 to observable_0 through input stream.\n",
      "Fetching value from reward with input type None\n",
      "Fetched value: [[[159 341]\n",
      "  [176 324]]]\n",
      "[0.27083521 0.21896306]\n",
      "Pushing value [-0.4703448712825775] to mu through input stream.\n",
      "Pushing value [0.009999999776482582] to sigma through input stream.\n",
      "Just pushed policy parameters to OPX: [-0.4703448712825775] [0.009999999776482582]\n",
      "Fetching index: 11, finishing index: 12\n",
      "Fetching size: 1\n",
      "Step indices: {0: (0, 1), 1: (1, 2), 2: (2, 3), 3: (3, 4), 4: (4, 5), 5: (5, 6), 6: (6, 7), 7: (7, 8), 8: (8, 9), 9: (9, 10), 10: (10, 11), 11: (11, 12)}\n",
      "Total data points: 12\n",
      "Pushing value 0 to input_state_0 through input stream.\n",
      "Pushing value 1 to max_observables through input stream.\n",
      "Pushing value 500 to pauli_shots through input stream.\n",
      "Pushing value 0 to observable_0 through input stream.\n",
      "Fetching value from reward with input type None\n",
      "Fetched value: [[[275 225]\n",
      "  [263 237]]]\n",
      "[-0.          0.02136305]\n",
      "Pushing value [-0.3331035077571869] to mu through input stream.\n",
      "Pushing value [0.009999999776482582] to sigma through input stream.\n",
      "Just pushed policy parameters to OPX: [-0.3331035077571869] [0.009999999776482582]\n",
      "Fetching index: 12, finishing index: 13\n",
      "Fetching size: 1\n",
      "Step indices: {0: (0, 1), 1: (1, 2), 2: (2, 3), 3: (3, 4), 4: (4, 5), 5: (5, 6), 6: (6, 7), 7: (7, 8), 8: (8, 9), 9: (9, 10), 10: (10, 11), 11: (11, 12), 12: (12, 13)}\n",
      "Total data points: 13\n",
      "Pushing value 0 to input_state_0 through input stream.\n",
      "Pushing value 1 to max_observables through input stream.\n",
      "Pushing value 500 to pauli_shots through input stream.\n",
      "Pushing value 0 to observable_0 through input stream.\n",
      "Fetching value from reward with input type None\n",
      "Fetched value: [[[363 137]\n",
      "  [373 127]]]\n",
      "[-0. -0.]\n",
      "Pushing value [-0.19586214423179626] to mu through input stream.\n",
      "Pushing value [0.009999999776482582] to sigma through input stream.\n",
      "Just pushed policy parameters to OPX: [-0.19586214423179626] [0.009999999776482582]\n",
      "Fetching index: 13, finishing index: 14\n",
      "Fetching size: 1\n",
      "Step indices: {0: (0, 1), 1: (1, 2), 2: (2, 3), 3: (3, 4), 4: (4, 5), 5: (5, 6), 6: (6, 7), 7: (7, 8), 8: (8, 9), 9: (9, 10), 10: (10, 11), 11: (11, 12), 12: (12, 13), 13: (13, 14)}\n",
      "Total data points: 14\n",
      "Pushing value 0 to input_state_0 through input stream.\n",
      "Pushing value 1 to max_observables through input stream.\n",
      "Pushing value 500 to pauli_shots through input stream.\n",
      "Pushing value 0 to observable_0 through input stream.\n",
      "Fetching value from reward with input type None\n",
      "Fetched value: [[[448  52]\n",
      "  [450  50]]]\n",
      "[-0. -0.]\n",
      "Pushing value [-0.05862076207995415] to mu through input stream.\n",
      "Pushing value [0.009999999776482582] to sigma through input stream.\n",
      "Just pushed policy parameters to OPX: [-0.05862076207995415] [0.009999999776482582]\n",
      "Fetching index: 14, finishing index: 15\n",
      "Fetching size: 1\n",
      "Step indices: {0: (0, 1), 1: (1, 2), 2: (2, 3), 3: (3, 4), 4: (4, 5), 5: (5, 6), 6: (6, 7), 7: (7, 8), 8: (8, 9), 9: (9, 10), 10: (10, 11), 11: (11, 12), 12: (12, 13), 13: (13, 14), 14: (14, 15)}\n",
      "Total data points: 15\n",
      "Pushing value 0 to input_state_0 through input stream.\n",
      "Pushing value 1 to max_observables through input stream.\n",
      "Pushing value 500 to pauli_shots through input stream.\n",
      "Pushing value 0 to observable_0 through input stream.\n",
      "Fetching value from reward with input type None\n",
      "Fetched value: [[[485  15]\n",
      "  [482  18]]]\n",
      "[-0. -0.]\n",
      "Pushing value [0.07862061262130737] to mu through input stream.\n",
      "Pushing value [0.009999999776482582] to sigma through input stream.\n",
      "Just pushed policy parameters to OPX: [0.07862061262130737] [0.009999999776482582]\n",
      "Fetching index: 15, finishing index: 16\n",
      "Fetching size: 1\n",
      "Step indices: {0: (0, 1), 1: (1, 2), 2: (2, 3), 3: (3, 4), 4: (4, 5), 5: (5, 6), 6: (6, 7), 7: (7, 8), 8: (8, 9), 9: (9, 10), 10: (10, 11), 11: (11, 12), 12: (12, 13), 13: (13, 14), 14: (14, 15), 15: (15, 16)}\n",
      "Total data points: 16\n",
      "Pushing value 0 to input_state_0 through input stream.\n",
      "Pushing value 1 to max_observables through input stream.\n",
      "Pushing value 500 to pauli_shots through input stream.\n",
      "Pushing value 0 to observable_0 through input stream.\n",
      "Fetching value from reward with input type None\n",
      "Fetched value: [[[482  18]\n",
      "  [475  25]]]\n",
      "[-0. -0.]\n",
      "Pushing value [0.2158619910478592] to mu through input stream.\n",
      "Pushing value [0.009999999776482582] to sigma through input stream.\n",
      "Just pushed policy parameters to OPX: [0.2158619910478592] [0.009999999776482582]\n",
      "Fetching index: 16, finishing index: 17\n",
      "Fetching size: 1\n",
      "Step indices: {0: (0, 1), 1: (1, 2), 2: (2, 3), 3: (3, 4), 4: (4, 5), 5: (5, 6), 6: (6, 7), 7: (7, 8), 8: (8, 9), 9: (9, 10), 10: (10, 11), 11: (11, 12), 12: (12, 13), 13: (13, 14), 14: (14, 15), 15: (15, 16), 16: (16, 17)}\n",
      "Total data points: 17\n",
      "Pushing value 0 to input_state_0 through input stream.\n",
      "Pushing value 1 to max_observables through input stream.\n",
      "Pushing value 500 to pauli_shots through input stream.\n",
      "Pushing value 0 to observable_0 through input stream.\n",
      "Fetching value from reward with input type None\n",
      "Fetched value: [[[429  71]\n",
      "  [429  71]]]\n",
      "[-0. -0.]\n",
      "Pushing value [0.353103369474411] to mu through input stream.\n",
      "Pushing value [0.009999999776482582] to sigma through input stream.\n",
      "Just pushed policy parameters to OPX: [0.353103369474411] [0.009999999776482582]\n",
      "Fetching index: 17, finishing index: 18\n",
      "Fetching size: 1\n",
      "Step indices: {0: (0, 1), 1: (1, 2), 2: (2, 3), 3: (3, 4), 4: (4, 5), 5: (5, 6), 6: (6, 7), 7: (7, 8), 8: (8, 9), 9: (9, 10), 10: (10, 11), 11: (11, 12), 12: (12, 13), 13: (13, 14), 14: (14, 15), 15: (15, 16), 16: (16, 17), 17: (17, 18)}\n",
      "Total data points: 18\n",
      "Pushing value 0 to input_state_0 through input stream.\n",
      "Pushing value 1 to max_observables through input stream.\n",
      "Pushing value 500 to pauli_shots through input stream.\n",
      "Pushing value 0 to observable_0 through input stream.\n",
      "Fetching value from reward with input type None\n",
      "Fetched value: [[[363 137]\n",
      "  [358 142]]]\n",
      "[-0. -0.]\n",
      "Pushing value [0.49034473299980164] to mu through input stream.\n",
      "Pushing value [0.009999999776482582] to sigma through input stream.\n",
      "Just pushed policy parameters to OPX: [0.49034473299980164] [0.009999999776482582]\n",
      "Fetching index: 18, finishing index: 19\n",
      "Fetching size: 1\n",
      "Step indices: {0: (0, 1), 1: (1, 2), 2: (2, 3), 3: (3, 4), 4: (4, 5), 5: (5, 6), 6: (6, 7), 7: (7, 8), 8: (8, 9), 9: (9, 10), 10: (10, 11), 11: (11, 12), 12: (12, 13), 13: (13, 14), 14: (14, 15), 15: (15, 16), 16: (16, 17), 17: (17, 18), 18: (18, 19)}\n",
      "Total data points: 19\n",
      "Pushing value 0 to input_state_0 through input stream.\n",
      "Pushing value 1 to max_observables through input stream.\n",
      "Pushing value 500 to pauli_shots through input stream.\n",
      "Pushing value 0 to observable_0 through input stream.\n",
      "Fetching value from reward with input type None\n",
      "Fetched value: [[[265 235]\n",
      "  [260 240]]]\n",
      "[0.01772877 0.02687215]\n",
      "Pushing value [0.6275860667228699] to mu through input stream.\n",
      "Pushing value [0.009999999776482582] to sigma through input stream.\n",
      "Just pushed policy parameters to OPX: [0.6275860667228699] [0.009999999776482582]\n",
      "Fetching index: 19, finishing index: 20\n",
      "Fetching size: 1\n",
      "Step indices: {0: (0, 1), 1: (1, 2), 2: (2, 3), 3: (3, 4), 4: (4, 5), 5: (5, 6), 6: (6, 7), 7: (7, 8), 8: (8, 9), 9: (9, 10), 10: (10, 11), 11: (11, 12), 12: (12, 13), 13: (13, 14), 14: (14, 15), 15: (15, 16), 16: (16, 17), 17: (17, 18), 18: (18, 19), 19: (19, 20)}\n",
      "Total data points: 20\n",
      "Pushing value 0 to input_state_0 through input stream.\n",
      "Pushing value 1 to max_observables through input stream.\n",
      "Pushing value 500 to pauli_shots through input stream.\n",
      "Pushing value 0 to observable_0 through input stream.\n",
      "Fetching value from reward with input type None\n",
      "Fetched value: [[[173 327]\n",
      "  [175 325]]]\n",
      "[0.22767829 0.22184875]\n",
      "Pushing value [0.7648274898529053] to mu through input stream.\n",
      "Pushing value [0.009999999776482582] to sigma through input stream.\n",
      "Just pushed policy parameters to OPX: [0.7648274898529053] [0.009999999776482582]\n",
      "Fetching index: 20, finishing index: 21\n",
      "Fetching size: 1\n",
      "Step indices: {0: (0, 1), 1: (1, 2), 2: (2, 3), 3: (3, 4), 4: (4, 5), 5: (5, 6), 6: (6, 7), 7: (7, 8), 8: (8, 9), 9: (9, 10), 10: (10, 11), 11: (11, 12), 12: (12, 13), 13: (13, 14), 14: (14, 15), 15: (15, 16), 16: (16, 17), 17: (17, 18), 18: (18, 19), 19: (19, 20), 20: (20, 21)}\n",
      "Total data points: 21\n",
      "Pushing value 0 to input_state_0 through input stream.\n",
      "Pushing value 1 to max_observables through input stream.\n",
      "Pushing value 500 to pauli_shots through input stream.\n",
      "Pushing value 0 to observable_0 through input stream.\n",
      "Fetching value from reward with input type None\n",
      "Fetched value: [[[ 74 426]\n",
      "  [ 90 410]]]\n",
      "[0.70774393 0.58502665]\n",
      "Pushing value [0.9020688533782959] to mu through input stream.\n",
      "Pushing value [0.009999999776482582] to sigma through input stream.\n",
      "Just pushed policy parameters to OPX: [0.9020688533782959] [0.009999999776482582]\n",
      "Fetching index: 21, finishing index: 22\n",
      "Fetching size: 1\n",
      "Step indices: {0: (0, 1), 1: (1, 2), 2: (2, 3), 3: (3, 4), 4: (4, 5), 5: (5, 6), 6: (6, 7), 7: (7, 8), 8: (8, 9), 9: (9, 10), 10: (10, 11), 11: (11, 12), 12: (12, 13), 13: (13, 14), 14: (14, 15), 15: (15, 16), 16: (16, 17), 17: (17, 18), 18: (18, 19), 19: (19, 20), 20: (20, 21), 21: (21, 22)}\n",
      "Total data points: 22\n",
      "Pushing value 0 to input_state_0 through input stream.\n",
      "Pushing value 1 to max_observables through input stream.\n",
      "Pushing value 500 to pauli_shots through input stream.\n",
      "Pushing value 0 to observable_0 through input stream.\n",
      "Fetching value from reward with input type None\n",
      "Fetched value: [[[ 36 464]\n",
      "  [ 39 461]]]\n",
      "[1.35654732 1.25181197]\n",
      "Pushing value [1.0393102169036865] to mu through input stream.\n",
      "Pushing value [0.009999999776482582] to sigma through input stream.\n",
      "Just pushed policy parameters to OPX: [1.0393102169036865] [0.009999999776482582]\n",
      "Fetching index: 22, finishing index: 23\n",
      "Fetching size: 1\n",
      "Step indices: {0: (0, 1), 1: (1, 2), 2: (2, 3), 3: (3, 4), 4: (4, 5), 5: (5, 6), 6: (6, 7), 7: (7, 8), 8: (8, 9), 9: (9, 10), 10: (10, 11), 11: (11, 12), 12: (12, 13), 13: (13, 14), 14: (14, 15), 15: (15, 16), 16: (16, 17), 17: (17, 18), 18: (18, 19), 19: (19, 20), 20: (20, 21), 21: (21, 22), 22: (22, 23)}\n",
      "Total data points: 23\n",
      "Pushing value 0 to input_state_0 through input stream.\n",
      "Pushing value 1 to max_observables through input stream.\n",
      "Pushing value 500 to pauli_shots through input stream.\n",
      "Pushing value 0 to observable_0 through input stream.\n",
      "Fetching value from reward with input type None\n",
      "Fetched value: [[[ 34 466]\n",
      "  [ 33 467]]]\n",
      "[1.4436975  1.49485002]\n",
      "Pushing value [1.1765516996383667] to mu through input stream.\n",
      "Pushing value [0.009999999776482582] to sigma through input stream.\n",
      "Just pushed policy parameters to OPX: [1.1765516996383667] [0.009999999776482582]\n",
      "Fetching index: 23, finishing index: 24\n",
      "Fetching size: 1\n",
      "Step indices: {0: (0, 1), 1: (1, 2), 2: (2, 3), 3: (3, 4), 4: (4, 5), 5: (5, 6), 6: (6, 7), 7: (7, 8), 8: (8, 9), 9: (9, 10), 10: (10, 11), 11: (11, 12), 12: (12, 13), 13: (13, 14), 14: (14, 15), 15: (15, 16), 16: (16, 17), 17: (17, 18), 18: (18, 19), 19: (19, 20), 20: (20, 21), 21: (21, 22), 22: (22, 23), 23: (23, 24)}\n",
      "Total data points: 24\n",
      "Pushing value 0 to input_state_0 through input stream.\n",
      "Pushing value 1 to max_observables through input stream.\n",
      "Pushing value 500 to pauli_shots through input stream.\n",
      "Pushing value 0 to observable_0 through input stream.\n",
      "Fetching value from reward with input type None\n",
      "Fetched value: [[[ 56 444]\n",
      "  [ 76 424]]]\n",
      "[0.90657831 0.69036983]\n",
      "Pushing value [1.3137929439544678] to mu through input stream.\n",
      "Pushing value [0.009999999776482582] to sigma through input stream.\n",
      "Just pushed policy parameters to OPX: [1.3137929439544678] [0.009999999776482582]\n",
      "Fetching index: 24, finishing index: 25\n",
      "Fetching size: 1\n",
      "Step indices: {0: (0, 1), 1: (1, 2), 2: (2, 3), 3: (3, 4), 4: (4, 5), 5: (5, 6), 6: (6, 7), 7: (7, 8), 8: (8, 9), 9: (9, 10), 10: (10, 11), 11: (11, 12), 12: (12, 13), 13: (13, 14), 14: (14, 15), 15: (15, 16), 16: (16, 17), 17: (17, 18), 18: (18, 19), 19: (19, 20), 20: (20, 21), 21: (21, 22), 22: (22, 23), 23: (23, 24), 24: (24, 25)}\n",
      "Total data points: 25\n",
      "Pushing value 0 to input_state_0 through input stream.\n",
      "Pushing value 1 to max_observables through input stream.\n",
      "Pushing value 500 to pauli_shots through input stream.\n",
      "Pushing value 0 to observable_0 through input stream.\n",
      "Fetching value from reward with input type None\n",
      "Fetched value: [[[121 379]\n",
      "  [140 360]]]\n",
      "[0.41566878 0.33724217]\n",
      "Pushing value [1.4510343074798584] to mu through input stream.\n",
      "Pushing value [0.009999999776482582] to sigma through input stream.\n",
      "Just pushed policy parameters to OPX: [1.4510343074798584] [0.009999999776482582]\n",
      "Fetching index: 25, finishing index: 26\n",
      "Fetching size: 1\n",
      "Step indices: {0: (0, 1), 1: (1, 2), 2: (2, 3), 3: (3, 4), 4: (4, 5), 5: (5, 6), 6: (6, 7), 7: (7, 8), 8: (8, 9), 9: (9, 10), 10: (10, 11), 11: (11, 12), 12: (12, 13), 13: (13, 14), 14: (14, 15), 15: (15, 16), 16: (16, 17), 17: (17, 18), 18: (18, 19), 19: (19, 20), 20: (20, 21), 21: (21, 22), 22: (22, 23), 23: (23, 24), 24: (24, 25), 25: (25, 26)}\n",
      "Total data points: 26\n",
      "Pushing value 0 to input_state_0 through input stream.\n",
      "Pushing value 1 to max_observables through input stream.\n",
      "Pushing value 500 to pauli_shots through input stream.\n",
      "Pushing value 0 to observable_0 through input stream.\n",
      "Fetching value from reward with input type None\n",
      "Fetched value: [[[237 263]\n",
      "  [250 250]]]\n",
      "[0.07160415 0.04575749]\n",
      "Pushing value [1.5882757902145386] to mu through input stream.\n",
      "Pushing value [0.009999999776482582] to sigma through input stream.\n",
      "Just pushed policy parameters to OPX: [1.5882757902145386] [0.009999999776482582]\n",
      "Fetching index: 26, finishing index: 27\n",
      "Fetching size: 1\n",
      "Step indices: {0: (0, 1), 1: (1, 2), 2: (2, 3), 3: (3, 4), 4: (4, 5), 5: (5, 6), 6: (6, 7), 7: (7, 8), 8: (8, 9), 9: (9, 10), 10: (10, 11), 11: (11, 12), 12: (12, 13), 13: (13, 14), 14: (14, 15), 15: (15, 16), 16: (16, 17), 17: (17, 18), 18: (18, 19), 19: (19, 20), 20: (20, 21), 21: (21, 22), 22: (22, 23), 23: (23, 24), 24: (24, 25), 25: (25, 26), 26: (26, 27)}\n",
      "Total data points: 27\n",
      "Pushing value 0 to input_state_0 through input stream.\n",
      "Pushing value 1 to max_observables through input stream.\n",
      "Pushing value 500 to pauli_shots through input stream.\n",
      "Pushing value 0 to observable_0 through input stream.\n",
      "Fetching value from reward with input type None\n",
      "Fetched value: [[[300 200]\n",
      "  [296 204]]]\n",
      "[-0. -0.]\n",
      "Pushing value [1.7255171537399292] to mu through input stream.\n",
      "Pushing value [0.009999999776482582] to sigma through input stream.\n",
      "Just pushed policy parameters to OPX: [1.7255171537399292] [0.009999999776482582]\n",
      "Fetching index: 27, finishing index: 28\n",
      "Fetching size: 1\n",
      "Step indices: {0: (0, 1), 1: (1, 2), 2: (2, 3), 3: (3, 4), 4: (4, 5), 5: (5, 6), 6: (6, 7), 7: (7, 8), 8: (8, 9), 9: (9, 10), 10: (10, 11), 11: (11, 12), 12: (12, 13), 13: (13, 14), 14: (14, 15), 15: (15, 16), 16: (16, 17), 17: (17, 18), 18: (18, 19), 19: (19, 20), 20: (20, 21), 21: (21, 22), 22: (22, 23), 23: (23, 24), 24: (24, 25), 25: (25, 26), 26: (26, 27), 27: (27, 28)}\n",
      "Total data points: 28\n",
      "Pushing value 0 to input_state_0 through input stream.\n",
      "Pushing value 1 to max_observables through input stream.\n",
      "Pushing value 500 to pauli_shots through input stream.\n",
      "Pushing value 0 to observable_0 through input stream.\n",
      "Fetching value from reward with input type None\n",
      "Fetched value: [[[398 102]\n",
      "  [401  99]]]\n",
      "[-0. -0.]\n",
      "Pushing value [1.8627585172653198] to mu through input stream.\n",
      "Pushing value [0.009999999776482582] to sigma through input stream.\n",
      "Just pushed policy parameters to OPX: [1.8627585172653198] [0.009999999776482582]\n",
      "Fetching index: 28, finishing index: 29\n",
      "Fetching size: 1\n",
      "Step indices: {0: (0, 1), 1: (1, 2), 2: (2, 3), 3: (3, 4), 4: (4, 5), 5: (5, 6), 6: (6, 7), 7: (7, 8), 8: (8, 9), 9: (9, 10), 10: (10, 11), 11: (11, 12), 12: (12, 13), 13: (13, 14), 14: (14, 15), 15: (15, 16), 16: (16, 17), 17: (17, 18), 18: (18, 19), 19: (19, 20), 20: (20, 21), 21: (21, 22), 22: (22, 23), 23: (23, 24), 24: (24, 25), 25: (25, 26), 26: (26, 27), 27: (27, 28), 28: (28, 29)}\n",
      "Total data points: 29\n",
      "Pushing value 0 to input_state_0 through input stream.\n",
      "Pushing value 1 to max_observables through input stream.\n",
      "Pushing value 500 to pauli_shots through input stream.\n",
      "Pushing value 0 to observable_0 through input stream.\n",
      "Fetching value from reward with input type None\n",
      "Fetched value: [[[455  45]\n",
      "  [451  49]]]\n",
      "[-0. -0.]\n",
      "Pushing value [2.0] to mu through input stream.\n",
      "Pushing value [0.009999999776482582] to sigma through input stream.\n",
      "Just pushed policy parameters to OPX: [2.0] [0.009999999776482582]\n",
      "Fetching index: 29, finishing index: 30\n",
      "Fetching size: 1\n",
      "Step indices: {0: (0, 1), 1: (1, 2), 2: (2, 3), 3: (3, 4), 4: (4, 5), 5: (5, 6), 6: (6, 7), 7: (7, 8), 8: (8, 9), 9: (9, 10), 10: (10, 11), 11: (11, 12), 12: (12, 13), 13: (13, 14), 14: (14, 15), 15: (15, 16), 16: (16, 17), 17: (17, 18), 18: (18, 19), 19: (19, 20), 20: (20, 21), 21: (21, 22), 22: (22, 23), 23: (23, 24), 24: (24, 25), 25: (25, 26), 26: (26, 27), 27: (27, 28), 28: (28, 29), 29: (29, 30)}\n",
      "Total data points: 30\n",
      "Pushing value 0 to input_state_0 through input stream.\n",
      "Pushing value 1 to max_observables through input stream.\n",
      "Pushing value 500 to pauli_shots through input stream.\n",
      "Pushing value 0 to observable_0 through input stream.\n",
      "Fetching value from reward with input type None\n",
      "Fetched value: [[[487  13]\n",
      "  [475  25]]]\n",
      "[-0. -0.]\n"
     ]
    }
   ],
   "source": [
    "q_env.std_action = np.array([0.01], dtype=np.float32)\n",
    "reward = []\n",
    "q_env.step_tracker = 0\n",
    "q_env.clear_history()\n",
    "for action in np.linspace(-1.0, 1.0, 30):\n",
    "    q_env.mean_action = rescaled_env.action(np.array([action], dtype=np.float32))\n",
    "    print(q_env.step(np.array([action], dtype=np.float32))[1])\n",
    "    reward.append(q_env.reward_history[-1])\n",
    "    q_env.step_tracker += 1"
   ]
  },
  {
   "cell_type": "code",
   "execution_count": 32,
   "id": "e26816813a42343c",
   "metadata": {
    "ExecuteTime": {
     "end_time": "2025-06-27T02:42:12.844697Z",
     "start_time": "2025-06-27T02:42:12.801081Z"
    }
   },
   "outputs": [
    {
     "data": {
      "text/plain": [
       "[<matplotlib.lines.Line2D at 0x17f4c94d0>]"
      ]
     },
     "execution_count": 32,
     "metadata": {},
     "output_type": "execute_result"
    },
    {
     "data": {
      "image/png": "[encoded data removed]",
      "text/plain": [
       "<Figure size 640x480 with 1 Axes>"
      ]
     },
     "metadata": {},
     "output_type": "display_data"
    }
   ],
   "source": [
    "import matplotlib.pyplot as plt\n",
    "plt.plot(rescaled_env.action(np.linspace(-1.0, 1.0, 30)), np.mean(q_env.reward_history, axis=-1), marker=\"o\")"
   ]
  },
  {
   "cell_type": "code",
   "execution_count": 33,
   "id": "de2727c7038b9ab6",
   "metadata": {
    "ExecuteTime": {
     "end_time": "2025-06-26T13:45:12.584866Z",
     "start_time": "2025-06-26T13:45:12.550943Z"
    }
   },
   "outputs": [
    {
     "data": {
      "text/plain": [
       "[array([0., 0.]),\n",
       " array([0., 0.]),\n",
       " array([0., 0.]),\n",
       " array([0., 0.]),\n",
       " array([0.288, 0.244]),\n",
       " array([0.692, 0.648]),\n",
       " array([0.872, 0.9  ]),\n",
       " array([0.968, 0.956]),\n",
       " array([0.864, 0.88 ]),\n",
       " array([0.692, 0.688]),\n",
       " array([0.464, 0.396]),\n",
       " array([0.   , 0.048]),\n",
       " array([0., 0.]),\n",
       " array([0., 0.]),\n",
       " array([0., 0.]),\n",
       " array([0., 0.]),\n",
       " array([0., 0.]),\n",
       " array([0., 0.]),\n",
       " array([0.04, 0.06]),\n",
       " array([0.408, 0.4  ]),\n",
       " array([0.804, 0.74 ]),\n",
       " array([0.956, 0.944]),\n",
       " array([0.964, 0.968]),\n",
       " array([0.876, 0.796]),\n",
       " array([0.616, 0.54 ]),\n",
       " array([0.152, 0.1  ]),\n",
       " array([0., 0.]),\n",
       " array([0., 0.]),\n",
       " array([0., 0.]),\n",
       " array([0., 0.])]"
      ]
     },
     "execution_count": 33,
     "metadata": {},
     "output_type": "execute_result"
    }
   ],
   "source": [
    "q_env.reward_history"
   ]
  },
  {
   "cell_type": "code",
   "execution_count": 34,
   "id": "3c5107a8",
   "metadata": {},
   "outputs": [
    {
     "data": {
      "text/plain": [
       "array([-1.        , -0.93103448, -0.86206897, -0.79310345, -0.72413793,\n",
       "       -0.65517241, -0.5862069 , -0.51724138, -0.44827586, -0.37931034,\n",
       "       -0.31034483, -0.24137931, -0.17241379, -0.10344828, -0.03448276,\n",
       "        0.03448276,  0.10344828,  0.17241379,  0.24137931,  0.31034483,\n",
       "        0.37931034,  0.44827586,  0.51724138,  0.5862069 ,  0.65517241,\n",
       "        0.72413793,  0.79310345,  0.86206897,  0.93103448,  1.        ])"
      ]
     },
     "execution_count": 34,
     "metadata": {},
     "output_type": "execute_result"
    }
   ],
   "source": [
    "np.linspace(-1.0, 1.0, 30)"
   ]
  },
  {
   "cell_type": "code",
   "execution_count": 34,
   "id": "e4fd2c35",
   "metadata": {},
   "outputs": [
    {
     "name": "stdout",
     "output_type": "stream",
     "text": [
      "Job status:  canceled\n"
     ]
    },
    {
     "data": {
      "text/plain": [
       "True"
      ]
     },
     "execution_count": 34,
     "metadata": {},
     "output_type": "execute_result"
    }
   ],
   "source": [
    "q_env.close()"
   ]
  },
  {
   "cell_type": "code",
   "execution_count": null,
   "id": "6dc434d96eab48b7",
   "metadata": {},
   "outputs": [],
   "source": [
    "q_env.step_tracker += 1"
   ]
  },
  {
   "cell_type": "code",
   "execution_count": null,
   "id": "7af5f45e703fca23",
   "metadata": {},
   "outputs": [],
   "source": [
    "rescaled_env.step(np.array([0.497488], dtype=np.float32))"
   ]
  },
  {
   "cell_type": "code",
   "execution_count": null,
   "id": "ed1805adfcdce552",
   "metadata": {
    "ExecuteTime": {
     "end_time": "2025-06-27T02:30:45.433355Z",
     "start_time": "2025-06-27T02:30:44.964821Z"
    }
   },
   "outputs": [
    {
     "data": {
      "text/plain": [
       "'running'"
      ]
     },
     "execution_count": 41,
     "metadata": {},
     "output_type": "execute_result"
    }
   ],
   "source": [
    "job.status"
   ]
  },
  {
   "cell_type": "code",
   "execution_count": null,
   "id": "dcf181cf9f629d85",
   "metadata": {},
   "outputs": [],
   "source": [
    "ppo_agent.train(ppo_training, ppo_settings)"
   ]
  },
  {
   "cell_type": "code",
   "execution_count": 56,
   "id": "97580162bc2a7ec",
   "metadata": {},
   "outputs": [
    {
     "data": {
      "text/plain": [
       "SparsePauliOp(['I', 'Z'],\n",
       "              coeffs=[ 6.+0.j, -4.+0.j])"
      ]
     },
     "execution_count": 56,
     "metadata": {},
     "output_type": "execute_result"
    }
   ],
   "source": [
    "q_env.config.reward.get_reward_data(\n",
    "    q_env.circuit, np.zeros((2, q_env.n_actions)), q_env.target, q_env.config\n",
    ")[0].hamiltonian"
   ]
  },
  {
   "cell_type": "code",
   "execution_count": null,
   "id": "7fe2fdf2e6e21213",
   "metadata": {},
   "outputs": [],
   "source": [
    "q_env.reward_data.fiducials_indices"
   ]
  },
  {
   "cell_type": "code",
   "execution_count": null,
   "id": "b15b810aa507edcc",
   "metadata": {},
   "outputs": [],
   "source": [
    "q_env.policy.push_to_opx({\"mu\": [1.0], \"sigma\": [0.2]}, job, verbosity=2)"
   ]
  },
  {
   "cell_type": "code",
   "execution_count": null,
   "id": "25773fe30923ea7a",
   "metadata": {},
   "outputs": [],
   "source": [
    "q_env.max_input_state.push_to_opx(1, job, verbosity=2)"
   ]
  },
  {
   "cell_type": "code",
   "execution_count": null,
   "id": "51386d41b5cf4a45",
   "metadata": {},
   "outputs": [],
   "source": [
    "q_env.input_state_vars.push_to_opx({\"input_state_0\": 1}, job, verbosity=2)"
   ]
  },
  {
   "cell_type": "code",
   "execution_count": null,
   "id": "10a8726072ca96d3",
   "metadata": {},
   "outputs": [],
   "source": [
    "q_env.qm_backend_config"
   ]
  },
  {
   "cell_type": "code",
   "execution_count": null,
   "id": "e65e9beb823e6e86",
   "metadata": {},
   "outputs": [],
   "source": [
    "q_env.mean_action"
   ]
  },
  {
   "cell_type": "code",
   "execution_count": null,
   "id": "4064d7ce5a5c417b",
   "metadata": {},
   "outputs": [],
   "source": [
    "print(job.result_handles.reward.fetch_all()[\"value\"])"
   ]
  },
  {
   "cell_type": "code",
   "execution_count": 69,
   "id": "96db58fc3807122c",
   "metadata": {},
   "outputs": [],
   "source": [
    "results = job.result_handles.reward.fetch_all()[\"value\"]"
   ]
  },
  {
   "cell_type": "code",
   "execution_count": 71,
   "id": "f7b940c9",
   "metadata": {},
   "outputs": [
    {
     "data": {
      "text/plain": [
       "array([[[479,  21],\n",
       "        [476,  24]],\n",
       "\n",
       "       [[458,  42],\n",
       "        [454,  46]],\n",
       "\n",
       "       [[392, 108],\n",
       "        [376, 124]],\n",
       "\n",
       "       [[312, 188],\n",
       "        [308, 192]],\n",
       "\n",
       "       [[203, 297],\n",
       "        [197, 303]],\n",
       "\n",
       "       [[119, 381],\n",
       "        [139, 361]],\n",
       "\n",
       "       [[ 63, 437],\n",
       "        [ 56, 444]],\n",
       "\n",
       "       [[ 32, 468],\n",
       "        [ 36, 464]],\n",
       "\n",
       "       [[ 39, 461],\n",
       "        [ 51, 449]],\n",
       "\n",
       "       [[109, 391],\n",
       "        [ 97, 403]],\n",
       "\n",
       "       [[178, 322],\n",
       "        [187, 313]],\n",
       "\n",
       "       [[283, 217],\n",
       "        [277, 223]],\n",
       "\n",
       "       [[378, 122],\n",
       "        [366, 134]],\n",
       "\n",
       "       [[445,  55],\n",
       "        [445,  55]],\n",
       "\n",
       "       [[472,  28],\n",
       "        [470,  30]],\n",
       "\n",
       "       [[476,  24],\n",
       "        [476,  24]],\n",
       "\n",
       "       [[435,  65],\n",
       "        [417,  83]],\n",
       "\n",
       "       [[357, 143],\n",
       "        [370, 130]],\n",
       "\n",
       "       [[271, 229],\n",
       "        [268, 232]],\n",
       "\n",
       "       [[170, 330],\n",
       "        [163, 337]],\n",
       "\n",
       "       [[ 97, 403],\n",
       "        [ 84, 416]],\n",
       "\n",
       "       [[ 53, 447],\n",
       "        [ 51, 449]],\n",
       "\n",
       "       [[ 41, 459],\n",
       "        [ 48, 452]],\n",
       "\n",
       "       [[ 59, 441],\n",
       "        [ 85, 415]],\n",
       "\n",
       "       [[128, 372],\n",
       "        [140, 360]],\n",
       "\n",
       "       [[199, 301],\n",
       "        [216, 284]],\n",
       "\n",
       "       [[328, 172],\n",
       "        [317, 183]],\n",
       "\n",
       "       [[406,  94],\n",
       "        [379, 121]],\n",
       "\n",
       "       [[456,  44],\n",
       "        [465,  35]],\n",
       "\n",
       "       [[484,  16],\n",
       "        [480,  20]]])"
      ]
     },
     "execution_count": 71,
     "metadata": {},
     "output_type": "execute_result"
    }
   ],
   "source": [
    "results"
   ]
  },
  {
   "cell_type": "code",
   "execution_count": 79,
   "id": "6fc6bb31843ea4cc",
   "metadata": {},
   "outputs": [],
   "source": [
    "from qiskit.primitives import BitArray\n",
    "counts = []\n",
    "reward_array = np.zeros(shape=(q_env.config.batch_size,))\n",
    "reward_data = q_env.reward_data\n",
    "config = q_env.config\n",
    "formatted_counts = []\n",
    "collected_counts = results\n",
    "count_idx = 0\n",
    "num_qubits = q_env.config.target.causal_cone_size if isinstance(q_env.config.target, GateTarget) else q_env.config.target.n_qubits\n",
    "dim = 2**num_qubits\n",
    "binary = lambda n, l: bin(n)[2:].zfill(l)\n",
    "num_obs = len(reward_data.observables_indices[0])\n",
    "for o_idx in range(num_obs):\n",
    "    formatted_counts.append([])\n",
    "    counts_array = np.array(collected_counts[count_idx], dtype=int)\n",
    "    formatted_counts[o_idx] = counts_array\n",
    "    count_idx += 1\n",
    "for batch_idx in range(config.batch_size):\n",
    "    counts.append([])\n",
    "    for o_idx in range(num_obs):\n",
    "        counts[batch_idx].append(formatted_counts[o_idx][batch_idx])\n",
    "\n",
    "for batch_idx in range(config.batch_size):\n",
    "    exp_value = reward_data.id_coeff\n",
    "    for o_idx in range(num_obs):\n",
    "        counts_dict = {\n",
    "            binary(i, num_qubits): int(counts[batch_idx][o_idx][i]) for i in range(dim)\n",
    "        }\n",
    "        obs = reward_data[0].observables.group_commuting(True)[o_idx]\n",
    "        diag_obs = SparsePauliOp(\"I\" * num_qubits, 0.0)\n",
    "        for obs_, coeff in zip(obs.paulis, obs.coeffs):\n",
    "            diag_obs_label = \"\"\n",
    "            for char in obs_.to_label():\n",
    "                diag_obs_label += char if char == \"I\" else \"Z\"\n",
    "            diag_obs += SparsePauliOp(diag_obs_label, coeff)\n",
    "        bit_array = BitArray.from_counts(counts_dict, num_bits=num_qubits)\n",
    "        exp_value += bit_array.expectation_values(diag_obs.simplify())\n",
    "    \n",
    "    exp_value /= reward_data.pauli_sampling\n",
    "    reward_array[batch_idx] = exp_value"
   ]
  },
  {
   "cell_type": "code",
   "execution_count": 83,
   "id": "ff608b3bf68c0c1e",
   "metadata": {},
   "outputs": [
    {
     "data": {
      "text/plain": [
       "[[array([479,  21])], [array([476,  24])]]"
      ]
     },
     "execution_count": 83,
     "metadata": {},
     "output_type": "execute_result"
    }
   ],
   "source": [
    "counts"
   ]
  },
  {
   "cell_type": "code",
   "execution_count": 45,
   "id": "bbd0566134239e76",
   "metadata": {},
   "outputs": [],
   "source": [
    "reshaped_counts = []\n",
    "for batch_idx in range(q_env.batch_size):\n",
    "    reshaped_counts.append([])\n",
    "    for i_idx in range(max_input_state):\n",
    "        reshaped_counts[batch_idx].append([])\n",
    "        for o_idx in range(num_obs_per_input_state[i_idx]):\n",
    "\n",
    "            reshaped_counts[batch_idx][i_idx].append(\n",
    "                formatted_counts[i_idx][o_idx][batch_idx]\n",
    "            )"
   ]
  },
  {
   "cell_type": "code",
   "execution_count": 46,
   "id": "3850ae8b787f3be6",
   "metadata": {},
   "outputs": [
    {
     "data": {
      "text/plain": [
       "[[[array([1948,   52])]], [[array([1950,   50])]]]"
      ]
     },
     "execution_count": 46,
     "metadata": {},
     "output_type": "execute_result"
    }
   ],
   "source": [
    "reshaped_counts"
   ]
  },
  {
   "cell_type": "code",
   "execution_count": null,
   "id": "c1e2fb98d15c0de3",
   "metadata": {},
   "outputs": [],
   "source": [
    "from qiskit.quantum_info import Statevector\n",
    "Statevector.from_label(\"0\").expectation_value(q_env.reward_data.hamiltonian/q_env.reward_data.pauli_sampling)"
   ]
  },
  {
   "cell_type": "code",
   "execution_count": null,
   "id": "68c8dddcaed32830",
   "metadata": {},
   "outputs": [],
   "source": [
    "q_env.reward_data.pauli_sampling"
   ]
  },
  {
   "cell_type": "code",
   "execution_count": null,
   "id": "f66577cca2eb5260",
   "metadata": {},
   "outputs": [],
   "source": [
    "q_env.reward_data[0].precision"
   ]
  },
  {
   "cell_type": "code",
   "execution_count": null,
   "id": "f4c72c35cfc673bc",
   "metadata": {},
   "outputs": [],
   "source": [
    "from torch.distributions import Normal\n",
    "import torch\n",
    "ppo_agent.process_action(Normal(ppo_agent.agent(torch.zeros((q_env.batch_size,2)))[0].detach(),ppo_agent.agent(torch.zeros((q_env.batch_size,2)))[1].detach() ))"
   ]
  },
  {
   "cell_type": "code",
   "execution_count": 49,
   "id": "c0fe368258790b4e",
   "metadata": {},
   "outputs": [
    {
     "data": {
      "text/plain": [
       "SparsePauliOp(['I', 'Z'],\n",
       "              coeffs=[ 4.+0.j, -6.+0.j])"
      ]
     },
     "execution_count": 49,
     "metadata": {},
     "output_type": "execute_result"
    }
   ],
   "source": [
    "q_env.reward_data.hamiltonian"
   ]
  },
  {
   "cell_type": "code",
   "execution_count": null,
   "id": "36a3cd83dbb471a2",
   "metadata": {},
   "outputs": [],
   "source": [
    "q_env.reward_data.id_coeff/20"
   ]
  },
  {
   "cell_type": "code",
   "execution_count": 47,
   "id": "2eb54f4e21c67c22",
   "metadata": {},
   "outputs": [
    {
     "name": "stdout",
     "output_type": "stream",
     "text": [
      "{'0': np.int64(1948), '1': np.int64(52)}\n",
      "SparsePauliOp(['I', 'Z'],\n",
      "              coeffs=[ 4.+0.j, -6.+0.j])\n",
      "SparsePauliOp(['I', 'Z'],\n",
      "              coeffs=[ 4.+0.j, -6.+0.j])\n",
      "{'0': np.int64(1950), '1': np.int64(50)}\n",
      "SparsePauliOp(['I', 'Z'],\n",
      "              coeffs=[ 4.+0.j, -6.+0.j])\n",
      "SparsePauliOp(['I', 'Z'],\n",
      "              coeffs=[ 4.+0.j, -6.+0.j])\n"
     ]
    }
   ],
   "source": [
    "from rl_qoc.qua.qua_utils import binary\n",
    "from qiskit.quantum_info import SparsePauliOp\n",
    "from qiskit.primitives import BitArray\n",
    "reward = np.zeros(q_env.batch_size)\n",
    "dim = 2**q_env.n_qubits\n",
    "counts = reshaped_counts\n",
    "for batch_idx in range(q_env.batch_size):\n",
    "    exp_value = q_env.reward_data.id_coeff\n",
    "    for i_idx in range(max_input_state):\n",
    "        for o_idx in range(num_obs_per_input_state[i_idx]):\n",
    "            counts_dict = {\n",
    "                binary(i, q_env.n_qubits): counts[batch_idx][i_idx][o_idx][i]\n",
    "                for i in range(dim)\n",
    "            }\n",
    "            print(counts_dict)\n",
    "            obs = q_env.reward_data[i_idx].hamiltonian.group_commuting(True)[o_idx]\n",
    "            print(obs)\n",
    "            diag_obs = SparsePauliOp(\"I\" * q_env.n_qubits, 0.0)\n",
    "            for obs_, coeff in zip(obs.paulis, obs.coeffs):\n",
    "                diag_obs_label = \"\"\n",
    "                for char in obs_.to_label():\n",
    "                    diag_obs_label += char if char == \"I\" else \"Z\"\n",
    "                diag_obs += SparsePauliOp(diag_obs_label, coeff)\n",
    "            bit_array = BitArray.from_counts(counts_dict, num_bits=q_env.n_qubits)\n",
    "            print(diag_obs.simplify())\n",
    "            exp_value += bit_array.expectation_values(diag_obs.simplify())\n",
    "    exp_value /= q_env.reward_data.pauli_sampling\n",
    "    reward[batch_idx] = exp_value"
   ]
  },
  {
   "cell_type": "code",
   "execution_count": 48,
   "id": "d7f241ef69567e19",
   "metadata": {},
   "outputs": [
    {
     "data": {
      "text/plain": [
       "array([0.2312, 0.23  ])"
      ]
     },
     "execution_count": 48,
     "metadata": {},
     "output_type": "execute_result"
    }
   ],
   "source": [
    "reward"
   ]
  },
  {
   "cell_type": "code",
   "execution_count": null,
   "id": "f6da0729859dacab",
   "metadata": {},
   "outputs": [],
   "source": [
    "job.result_handles.reward.fetch_all()[\"value\"].shape"
   ]
  },
  {
   "cell_type": "code",
   "execution_count": null,
   "id": "ec77cf155db2e849",
   "metadata": {},
   "outputs": [],
   "source": []
  },
  {
   "cell_type": "code",
   "execution_count": null,
   "id": "c8b07581007cc29d",
   "metadata": {},
   "outputs": [],
   "source": [
    "counts = np.transpose(job.result_handles.reward.fetch_all()[\"value\"], (1, 0, 2))"
   ]
  },
  {
   "cell_type": "code",
   "execution_count": null,
   "id": "2591410380e3b00a",
   "metadata": {},
   "outputs": [],
   "source": [
    "from rl_qoc.qua.qua_utils import binary\n",
    "from qiskit.primitives import BitArray\n",
    "\n",
    "reward = np.zeros(q_env.batch_size)\n",
    "for b in range(q_env.batch_size):\n",
    "    sv = np.zeros(4)\n",
    "    for i_idx in range(4):\n",
    "        counts_dict = {binary(i, 1): counts[b, i_idx, i] for i in range(2)}\n",
    "        bit_array = BitArray.from_counts(counts_dict, num_bits=1)\n",
    "        sv[i_idx] = bit_array.get_int_counts().get(0, 0) / q_env.n_shots\n",
    "    reward[b] = np.mean(sv)\n",
    "\n",
    "reward"
   ]
  },
  {
   "cell_type": "code",
   "execution_count": null,
   "id": "4f57b786cf9a154a",
   "metadata": {},
   "outputs": [],
   "source": [
    "-np.log10(1.0 - reward)"
   ]
  },
  {
   "cell_type": "code",
   "execution_count": null,
   "id": "51c0184ff4ac7b3c",
   "metadata": {},
   "outputs": [],
   "source": [
    "print(job.result_handles.action.fetch_all())"
   ]
  },
  {
   "cell_type": "code",
   "execution_count": null,
   "id": "a8ef2fe8373960ab",
   "metadata": {},
   "outputs": [],
   "source": [
    "q_env._step_indices"
   ]
  },
  {
   "cell_type": "code",
   "execution_count": null,
   "id": "e58b53ac3318fefc",
   "metadata": {},
   "outputs": [],
   "source": [
    "job.result_handles.reward.count_so_far()"
   ]
  },
  {
   "cell_type": "code",
   "execution_count": null,
   "id": "a23e9798d708b656",
   "metadata": {},
   "outputs": [],
   "source": [
    "q_env._total_data_points"
   ]
  },
  {
   "cell_type": "code",
   "execution_count": null,
   "id": "3750f6ad935de212",
   "metadata": {},
   "outputs": [],
   "source": [
    "job.status"
   ]
  },
  {
   "cell_type": "code",
   "execution_count": null,
   "id": "275b0e1bdebbd00e",
   "metadata": {},
   "outputs": [],
   "source": [
    "q_env.close()"
   ]
  },
  {
   "cell_type": "code",
   "execution_count": null,
   "id": "e9777dd8907516b",
   "metadata": {},
   "outputs": [],
   "source": [
    "from qm.qua import *\n",
    "\n",
    "with program() as qua_program:\n",
    "    gate = declare_input_stream(fixed, name=\"gate_input_stream\")\n",
    "\n",
    "    a = declare(fixed)\n",
    "    r1 = declare_stream()\n",
    "    r2 = declare_stream()\n",
    "    v2 = declare(\n",
    "        bool,\n",
    "    )\n",
    "    advance_input_stream(gate)\n",
    "    with while_(gate > 0):\n",
    "        a = gate\n",
    "        save(a, r1)\n",
    "        assign(v2, (a > 0.2))\n",
    "        save(v2, r2)\n",
    "        advance_input_stream(gate)\n",
    "\n",
    "    with stream_processing():\n",
    "        r1.save_all(\"measurements\")\n",
    "        r2.save_all(\"state\")\n",
    "\n",
    "job = backend.qm.execute(qua_program)"
   ]
  },
  {
   "cell_type": "code",
   "execution_count": null,
   "id": "e66040a5953d5521",
   "metadata": {},
   "outputs": [],
   "source": [
    "result = job.result_handles\n",
    "\n",
    "optimization_sequence = [0.1, 0.4, 0.06]\n",
    "\n",
    "for id, value in enumerate(optimization_sequence):\n",
    "    job.push_to_input_stream(\"gate_input_stream\", value)\n",
    "    result.measurements.wait_for_values(id + 1)\n",
    "    print(\"Full data\", str(result.measurements.fetch_all()))\n",
    "    print(f\"{id}: Received \", str(result.measurements.fetch(id)))\n",
    "    result.state.wait_for_values(id + 1)\n",
    "    print(f\"{id}: Received \", str(result.state.fetch(id)))\n",
    "    print(\"Full data\", str(result.state.fetch_all()))\n",
    "\n",
    "# finish QUA program\n",
    "job.push_to_input_stream(\"gate_input_stream\", 0)"
   ]
  },
  {
   "cell_type": "code",
   "execution_count": null,
   "id": "7bb6ed7506c21d15",
   "metadata": {},
   "outputs": [],
   "source": []
  },
  {
   "cell_type": "code",
   "execution_count": null,
   "id": "5d48b299d46bdb2",
   "metadata": {},
   "outputs": [],
   "source": [
    "# Single QUA script generated at 2025-06-09 11:30:49.218366\n",
    "# QUA library version: 1.2.3a1\n",
    "\n",
    "from qm import CompilerOptionArguments\n",
    "from qm.qua import *\n",
    "\n",
    "with program() as prog:\n",
    "    a1 = declare(fixed, value=[0.0])\n",
    "    v1 = declare(\n",
    "        int,\n",
    "    )\n",
    "    a2 = declare(fixed, value=[1.0])\n",
    "    v2 = declare(\n",
    "        int,\n",
    "    )\n",
    "    v3 = declare(int, value=0)\n",
    "    v4 = declare(\n",
    "        int,\n",
    "    )\n",
    "    v5 = declare(\n",
    "        int,\n",
    "    )\n",
    "    with for_(v5, 0, (v5 < 5), (v5 + 1)):\n",
    "        pause()\n",
    "        assign(a1[0], IO1)\n",
    "        r1 = declare_stream()\n",
    "        save(a1[0], r1)\n",
    "    with stream_processing():\n",
    "        r1.save_all(\"mu\")\n",
    "\n",
    "\n",
    "config = None\n",
    "\n",
    "loaded_config = None\n",
    "\n",
    "\n",
    "job = backend.qm.execute(prog)"
   ]
  },
  {
   "cell_type": "code",
   "execution_count": null,
   "id": "dda0cc64757985c6",
   "metadata": {},
   "outputs": [],
   "source": [
    "job.is_paused()"
   ]
  },
  {
   "cell_type": "code",
   "execution_count": null,
   "id": "62644b20a212d425",
   "metadata": {},
   "outputs": [],
   "source": [
    "backend.qm.set_io1_value(1.0)"
   ]
  },
  {
   "cell_type": "code",
   "execution_count": null,
   "id": "7cad26ac5ffa4e72",
   "metadata": {},
   "outputs": [],
   "source": [
    "job.resume()"
   ]
  },
  {
   "cell_type": "code",
   "execution_count": null,
   "id": "d69ac47494d6e4c1",
   "metadata": {},
   "outputs": [],
   "source": [
    "job.is_paused()"
   ]
  },
  {
   "cell_type": "code",
   "execution_count": null,
   "id": "dbe90f9f989778e6",
   "metadata": {},
   "outputs": [],
   "source": [
    "print(job.result_handles.mu.fetch_all())"
   ]
  },
  {
   "cell_type": "code",
   "execution_count": null,
   "id": "d37756c404e961bb",
   "metadata": {},
   "outputs": [],
   "source": [
    "job.cancel()"
   ]
  },
  {
   "cell_type": "code",
   "execution_count": null,
   "id": "7863a4cfe445dbaf",
   "metadata": {},
   "outputs": [],
   "source": []
  },
  {
   "cell_type": "code",
   "execution_count": null,
   "id": "4d7d649f5665a27e",
   "metadata": {},
   "outputs": [],
   "source": [
    "job.is_paused()"
   ]
  },
  {
   "cell_type": "code",
   "execution_count": null,
   "id": "13d85129ca4438f",
   "metadata": {},
   "outputs": [],
   "source": [
    "print(job.result_handles.mu.fetch_all())"
   ]
  },
  {
   "cell_type": "code",
   "execution_count": null,
   "id": "81b98843b3ea9478",
   "metadata": {},
   "outputs": [],
   "source": [
    "job.cancel()"
   ]
  },
  {
   "cell_type": "code",
   "execution_count": null,
   "id": "9ef6fb6a0cbac9aa",
   "metadata": {},
   "outputs": [],
   "source": []
  }
 ],
 "metadata": {
  "kernelspec": {
   "display_name": ".venv",
   "language": "python",
   "name": "python3"
  },
  "language_info": {
   "codemirror_mode": {
    "name": "ipython",
    "version": 3
   },
   "file_extension": ".py",
   "mimetype": "text/x-python",
   "name": "python",
   "nbconvert_exporter": "python",
   "pygments_lexer": "ipython3",
   "version": "3.11.9"
  }
 },
 "nbformat": 4,
 "nbformat_minor": 5
}

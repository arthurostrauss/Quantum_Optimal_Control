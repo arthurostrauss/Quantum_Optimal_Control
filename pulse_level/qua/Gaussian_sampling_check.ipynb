{
 "cells": [
  {
   "cell_type": "code",
   "metadata": {
    "ExecuteTime": {
     "end_time": "2025-02-27T01:54:52.369759Z",
     "start_time": "2025-02-27T01:54:46.733075Z"
    }
   },
   "source": [
    "from rl_qoc.qua import QMEnvironment, QMConfig, QMBackend, CustomQMPPO\n",
    "from rl_qoc.qua.qm_backend import FluxTunableTransmonBackend\n",
    "from rl_qoc.qua.quam_components import QuAM\n",
    "from qm.qua import *\n",
    "from qm_saas import QmSaas, QoPVersion\n",
    "from rl_qoc.qua.parameter_table import ParameterTable, Parameter as QuaParameter\n",
    "from qm import QuantumMachinesManager, SimulationConfig\n",
    "import numpy as np\n",
    "import matplotlib.pyplot as plt\n",
    "\n",
    "machine = QuAM.load(\n",
    "    f\"/Users/arthurostrauss/Library/CloudStorage/OneDrive-NationalUniversityofSingapore/Coding_projects/Quantum_Optimal_Control/pulse_level/qua/quam_state\"\n",
    ")"
   ],
   "outputs": [
    {
     "name": "stdout",
     "output_type": "stream",
     "text": [
      "2025-02-27 09:54:51,969 - qm - INFO     - Starting session: a9f6448e-8259-402c-ada4-eebfcfdad340\n",
      "2025-02-27 09:54:51 INFO Starting session: a9f6448e-8259-402c-ada4-eebfcfdad340\n"
     ]
    },
    {
     "name": "stderr",
     "output_type": "stream",
     "text": [
      "/Users/arthurostrauss/anaconda3/envs/rl_qoc/lib/python3.11/site-packages/quam/core/quam_classes.py:497: UserWarning: No QuamRoot initialized, cannot retrieve reference #/wiring/qubit_pairs/q1-2/c/opx_output from TunableCoupler\n",
      "  warnings.warn(\n",
      "/Users/arthurostrauss/anaconda3/envs/rl_qoc/lib/python3.11/site-packages/quam/core/quam_classes.py:497: UserWarning: No QuamRoot initialized, cannot retrieve reference #/wiring/qubit_pairs/q2-3/c/opx_output from TunableCoupler\n",
      "  warnings.warn(\n",
      "/Users/arthurostrauss/anaconda3/envs/rl_qoc/lib/python3.11/site-packages/quam/core/quam_classes.py:497: UserWarning: No QuamRoot initialized, cannot retrieve reference #/wiring/qubit_pairs/q3-4/c/opx_output from TunableCoupler\n",
      "  warnings.warn(\n",
      "/Users/arthurostrauss/anaconda3/envs/rl_qoc/lib/python3.11/site-packages/quam/core/quam_classes.py:497: UserWarning: No QuamRoot initialized, cannot retrieve reference #/wiring/qubit_pairs/q4-5/c/opx_output from TunableCoupler\n",
      "  warnings.warn(\n"
     ]
    }
   ],
   "execution_count": 1
  },
  {
   "cell_type": "code",
   "metadata": {
    "ExecuteTime": {
     "end_time": "2025-02-27T01:54:52.385144Z",
     "start_time": "2025-02-27T01:54:52.382182Z"
    }
   },
   "source": [
    "from typing import Union, Any\n",
    "from quam.components.macro import QubitMacro, QubitPairMacro, PulseMacro\n",
    "from quam.components.pulses import ReadoutPulse\n",
    "\n",
    "q1 = machine.active_qubits[0]\n",
    "\n",
    "\n",
    "class MeasureMacro(PulseMacro):\n",
    "    pulse: Union[ReadoutPulse, str] = \"readout\"\n",
    "\n",
    "    def apply(self, *args, **kwargs) -> Any:\n",
    "        state = declare(int)\n",
    "        I, Q = declare(fixed), declare(fixed)\n",
    "        if isinstance(self.pulse, str):\n",
    "            pulse = self.qubit.get_pulse(self.pulse)\n",
    "        else:\n",
    "            pulse = self.pulse\n",
    "        assert isinstance(pulse, ReadoutPulse), \"MeasureMacro can only be used with ReadoutPulse\"\n",
    "        self.qubit.resonator.measure(pulse.name, qua_vars=(I, Q))\n",
    "        assign(state, Cast.to_int(I > pulse.threshold))\n",
    "        return state\n",
    "\n",
    "\n",
    "q1.macros[\"x\"] = PulseMacro(pulse=\"x180_DragCosine\")\n",
    "q1.macros[\"rz\"] = PulseMacro(pulse=\"rz\")\n",
    "q1.macros[\"sx\"] = PulseMacro(pulse=\"sx\")\n",
    "q1.macros[\"measure\"] = MeasureMacro(pulse=\"readout\")"
   ],
   "outputs": [],
   "execution_count": 2
  },
  {
   "metadata": {
    "ExecuteTime": {
     "end_time": "2025-02-27T02:01:26.952549Z",
     "start_time": "2025-02-27T02:01:26.946467Z"
    }
   },
   "cell_type": "code",
   "source": "q1.get_macros()",
   "outputs": [
    {
     "data": {
      "text/plain": [
       "{'x': PulseMacro(id='x', pulse='x180_DragCosine'),\n",
       " 'rz': PulseMacro(id='rz', pulse='rz'),\n",
       " 'sx': PulseMacro(id='sx', pulse='sx'),\n",
       " 'measure': MeasureMacro(id='measure', pulse='readout')}"
      ]
     },
     "execution_count": 4,
     "metadata": {},
     "output_type": "execute_result"
    }
   ],
   "execution_count": 4
  },
  {
   "cell_type": "code",
   "metadata": {
    "ExecuteTime": {
     "end_time": "2025-02-27T02:01:27.759971Z",
     "start_time": "2025-02-27T02:01:27.758074Z"
    }
   },
   "source": [
    "q2 = machine.active_qubits[1]\n",
    "q2.macros[\"x\"] = PulseMacro(pulse=\"x\")"
   ],
   "outputs": [],
   "execution_count": 5
  },
  {
   "cell_type": "code",
   "metadata": {
    "ExecuteTime": {
     "end_time": "2025-02-27T02:01:29.519017Z",
     "start_time": "2025-02-27T02:01:29.513781Z"
    }
   },
   "source": [
    "backend = QMBackend(machine)\n",
    "print(backend.target)"
   ],
   "outputs": [
    {
     "name": "stdout",
     "output_type": "stream",
     "text": [
      "Target: Transmon based QuAM\n",
      "Number of qubits: 5\n",
      "Instructions:\n",
      "\tx\n",
      "\t\t(0,)\n",
      "\t\t(1,)\n",
      "\trz\n",
      "\t\t(0,)\n",
      "\tsx\n",
      "\t\t(0,)\n",
      "\tmeasure\n",
      "\t\t(0,)\n",
      "\tswitch_case\n",
      "\tfor_loop\n",
      "\tif_else\n",
      "\twhile_loop\n",
      "\n"
     ]
    }
   ],
   "execution_count": 6
  },
  {
   "cell_type": "code",
   "metadata": {
    "ExecuteTime": {
     "end_time": "2025-02-27T02:01:30.984659Z",
     "start_time": "2025-02-27T02:01:30.982860Z"
    }
   },
   "source": [
    "pair = machine.active_qubit_pairs[0]\n",
    "pair.macros[\"cz\"] = PulseMacro(pulse=\"cz\")"
   ],
   "outputs": [],
   "execution_count": 7
  },
  {
   "cell_type": "code",
   "metadata": {
    "ExecuteTime": {
     "end_time": "2025-02-27T02:01:32.318160Z",
     "start_time": "2025-02-27T02:01:31.829014Z"
    }
   },
   "source": [
    "from rl_qoc import QEnvConfig, ExecutionConfig, PPOConfig, QuantumEnvironment\n",
    "from qiskit.circuit.library import CZGate\n",
    "from gymnasium.spaces import Box\n",
    "\n",
    "seed = 30499\n",
    "action_space = Box(low=-1, high=1, shape=(4,), dtype=np.float32)\n",
    "observation_space = Box(low=-1, high=1, shape=(1,), dtype=np.float32)\n",
    "batch_size = 30\n",
    "\n",
    "\n",
    "def apply_circuit(qc, params, qreg):\n",
    "    qc.append(CZGate(\"cz_cal\"), [qreg[0], qreg[1]])\n",
    "\n",
    "\n",
    "env_config = QEnvConfig(\n",
    "    target={\"gate\": \"cz\", \"physical_qubits\": [0, 1]},\n",
    "    backend_config=QMConfig(backend=backend, parametrized_circuit=apply_circuit, qubit_pair=pair),\n",
    "    action_space=action_space,\n",
    "    execution_config=ExecutionConfig(batch_size=batch_size, seed=seed),\n",
    ")\n",
    "ppo_config = PPOConfig()\n",
    "env = QuantumEnvironment(env_config)\n",
    "agent = CustomQMPPO(ppo_config, env)"
   ],
   "outputs": [],
   "execution_count": 8
  },
  {
   "cell_type": "code",
   "metadata": {
    "ExecuteTime": {
     "end_time": "2025-02-27T02:01:36.293799Z",
     "start_time": "2025-02-27T02:01:33.401663Z"
    }
   },
   "source": [
    "# These should be changed to your credentials.\n",
    "from pathlib import Path\n",
    "import json\n",
    "\n",
    "path = Path.home() / \"qm_saas_config.json\"\n",
    "with open(path, \"r\") as f:\n",
    "    config = json.load(f)\n",
    "email = config[\"email\"]\n",
    "password = config[\"password\"]\n",
    "#\n",
    "\n",
    "# Initialize QOP simulator client\n",
    "client = QmSaas(email=email, password=password, host=\"qm-saas.dev.quantum-machines.co\")\n",
    "\n",
    "# Choose your QOP version (QOP2.x.y or QOP3.x.y)\n",
    "version = QoPVersion.v3_2_0\n",
    "n_actions = 4\n",
    "µ = QuaParameter(\"µ\", 0.5 * np.ones(n_actions))\n",
    "σ = QuaParameter(\"σ\", 0.2 * np.ones(n_actions))\n",
    "action = QuaParameter(\"action\", np.zeros(n_actions))\n",
    "client.close_all()"
   ],
   "outputs": [],
   "execution_count": 9
  },
  {
   "cell_type": "code",
   "metadata": {
    "ExecuteTime": {
     "end_time": "2025-02-27T02:02:17.162935Z",
     "start_time": "2025-02-27T02:02:17.003007Z"
    }
   },
   "source": [
    "def get_gaussian_sampling_input():\n",
    "    \"\"\"\n",
    "    Get the input for the gaussian sampling function\n",
    "    \"\"\"\n",
    "    n_lookup = 512\n",
    "\n",
    "    cos_array = declare(\n",
    "        fixed,\n",
    "        value=[(np.cos(2 * np.pi * x / n_lookup).tolist()) for x in range(n_lookup)],\n",
    "    )\n",
    "    ln_array = declare(\n",
    "        fixed,\n",
    "        value=[(np.sqrt(-2 * np.log(x / (n_lookup + 1))).tolist()) for x in range(1, n_lookup + 1)],\n",
    "    )\n",
    "    return (\n",
    "        n_lookup,\n",
    "        cos_array,\n",
    "        ln_array,\n",
    "    )\n",
    "\n",
    "\n",
    "with program() as prog:\n",
    "    µ.declare_variable()\n",
    "    σ.declare_variable()\n",
    "    action.declare_variable()\n",
    "    n_lookup, cos_array, ln_array = get_gaussian_sampling_input()\n",
    "    uniform_r = declare(fixed)\n",
    "    u1, u2 = declare(int), declare(int)\n",
    "    temp1 = declare(fixed, size=n_actions)\n",
    "    temp2 = declare(fixed, size=n_actions)\n",
    "    gaussian_samples = declare(fixed, size=batch_size)\n",
    "\n",
    "    i = declare(int)\n",
    "    j = declare(int)\n",
    "\n",
    "    rng = Random(seed=seed)\n",
    "    q1.apply(\"x\")\n",
    "    with for_(i, 0, i < batch_size, i + 2):\n",
    "        with for_(j, 0, j < n_actions, j + 1):\n",
    "            assign(uniform_r, rng.rand_fixed())\n",
    "            assign(u1, Cast.unsafe_cast_int(uniform_r >> 19))\n",
    "            assign(u2, Cast.unsafe_cast_int(uniform_r) & ((1 << 19) - 1))\n",
    "            assign(\n",
    "                temp1[j],\n",
    "                µ.var[j] + σ.var[j] * ln_array[u1] * cos_array[u2 & (n_lookup - 1)],\n",
    "            )\n",
    "            assign(\n",
    "                temp2[j],\n",
    "                µ.var[j]\n",
    "                + σ.var[j] * ln_array[u1] * cos_array[(u2 + n_lookup // 4) & (n_lookup - 1)],\n",
    "            )\n",
    "        action.assign_value(temp1, is_qua_array=True)\n",
    "        action.save_to_stream()\n",
    "        action.assign_value(temp2, is_qua_array=True)\n",
    "        action.save_to_stream()\n",
    "\n",
    "    with stream_processing():\n",
    "        action.stream.buffer(n_actions).save_all(\"action\")"
   ],
   "outputs": [],
   "execution_count": 10
  },
  {
   "cell_type": "code",
   "metadata": {
    "ExecuteTime": {
     "end_time": "2025-02-27T02:02:32.541157Z",
     "start_time": "2025-02-27T02:02:17.902806Z"
    }
   },
   "source": [
    "client.close_all()\n",
    "config = machine.generate_config()\n",
    "instance = client.simulator(version=version)\n",
    "instance.spawn()\n",
    "instance.port"
   ],
   "outputs": [
    {
     "data": {
      "text/plain": [
       "9510"
      ]
     },
     "execution_count": 11,
     "metadata": {},
     "output_type": "execute_result"
    }
   ],
   "execution_count": 11
  },
  {
   "metadata": {
    "ExecuteTime": {
     "end_time": "2025-02-27T02:02:49.521705Z",
     "start_time": "2025-02-27T02:02:32.610691Z"
    }
   },
   "cell_type": "code",
   "source": [
    "# Initialize QuantumMachinesManager with the simulation instance details\n",
    "qmm = QuantumMachinesManager(\n",
    "    host=instance.host,\n",
    "    port=instance.port,\n",
    "    connection_headers=instance.default_connection_headers,\n",
    ")\n",
    "qm = qmm.open_qm(config)\n",
    "job = qm.simulate(prog, SimulationConfig(int(7000), include_analog_waveforms=True))\n",
    "\n",
    "# Retrieve and handle simulated samples\n",
    "samples = job.get_simulated_samples()\n",
    "results = job.result_handles\n",
    "results.wait_for_all_values()\n",
    "results"
   ],
   "outputs": [
    {
     "name": "stdout",
     "output_type": "stream",
     "text": [
      "2025-02-27 10:02:33,993 - qm - INFO     - Performing health check\n",
      "2025-02-27 10:02:33 INFO Performing health check\n",
      "2025-02-27 10:02:34,562 - qm - INFO     - Cluster healthcheck completed successfully.\n",
      "2025-02-27 10:02:34 INFO Cluster healthcheck completed successfully.\n",
      "2025-02-27 10:02:36,869 - qm - INFO     - Simulating program.\n",
      "2025-02-27 10:02:36 INFO Simulating program.\n"
     ]
    },
    {
     "data": {
      "text/plain": [
       "<qm.results.streaming_result_fetcher.StreamingResultFetcher at 0x390a84390>"
      ]
     },
     "execution_count": 12,
     "metadata": {},
     "output_type": "execute_result"
    }
   ],
   "execution_count": 12
  },
  {
   "cell_type": "code",
   "metadata": {
    "ExecuteTime": {
     "end_time": "2025-02-26T09:39:51.955939Z",
     "start_time": "2025-02-26T09:39:51.121651Z"
    }
   },
   "source": [
    "gaussian1 = results.get(\"action\").fetch_all()[\"value\"]\n",
    "print(gaussian1)\n",
    "print(gaussian1.shape)"
   ],
   "outputs": [
    {
     "name": "stdout",
     "output_type": "stream",
     "text": [
      "[[ 0.70522086  0.47219296  0.3529095   0.24953547]\n",
      " [ 0.29477914  0.82290639  0.55673906  0.74439143]\n",
      " [ 0.27211449  0.69636537  0.62637319  0.41802219]\n",
      " [ 0.11979599  0.52666961  0.04334597  0.52820222]\n",
      " [ 0.72584636  0.53272336  0.54373862  0.31768437]\n",
      " [ 0.62071739  0.47754925  0.14537664  0.27220382]\n",
      " [ 0.5407134   0.72455617  0.13345355  0.71792946]\n",
      " [ 0.53690047  0.36163254  0.88499577  0.44824514]\n",
      " [ 0.56393336  0.99719543  0.47100865  0.40171652]\n",
      " [ 0.1785853   0.644184    0.47958199  0.56394042]\n",
      " [ 0.60527904  0.36872343  0.19893287  0.70911494]\n",
      " [ 0.54979328  0.88159287  0.59945914  0.47159879]\n",
      " [ 0.62438472  0.43135129  0.63779448  0.35397688]\n",
      " [ 0.48774917  0.33985468  0.43064008  0.21855589]\n",
      " [ 0.06936614  0.52291466  0.96956132  0.29554184]\n",
      " [ 0.4361215   0.56164654  0.58147662  0.50753064]\n",
      " [ 0.45854196  0.54553116  0.50839052  0.17411733]\n",
      " [ 0.39991145  0.41224349  0.15820798  0.63032315]\n",
      " [ 0.15282351  0.21368806  0.54775607  0.46039025]\n",
      " [ 0.55149877  0.33313243  0.5372692   0.49756652]\n",
      " [ 0.69956298 -0.19123648  0.66682675  0.44444819]\n",
      " [ 0.33622289  0.64633588  0.59450619  0.3084385 ]\n",
      " [ 0.55831212  0.37660058  0.44965817  0.57956471]\n",
      " [ 0.47242042  0.51985513  0.38643067  0.51280207]\n",
      " [ 0.30337724  0.32359388  0.57652295  0.21618662]\n",
      " [ 0.36862087  0.35881416  0.45154237  0.55284191]\n",
      " [ 0.7055694   0.81950539  0.51538247  0.77257785]\n",
      " [ 0.31368275  0.13866634  0.29146493  0.57184325]\n",
      " [ 0.5671115   0.50157074  0.52968644  0.48567145]\n",
      " [ 0.27876304  0.62798861  0.90244921  0.33361123]]\n",
      "(30, 4)\n"
     ]
    }
   ],
   "execution_count": 11
  },
  {
   "cell_type": "code",
   "metadata": {
    "ExecuteTime": {
     "end_time": "2025-02-26T09:39:52.202059Z",
     "start_time": "2025-02-26T09:39:51.979572Z"
    }
   },
   "source": [
    "plt.hist(gaussian1, bins=20, alpha=0.5, label=\"gaussian1\")"
   ],
   "outputs": [
    {
     "data": {
      "text/plain": [
       "(array([[0., 0., 0., 0., 1., 2., 1., 2., 4., 2., 2., 2., 7., 3., 1., 3.,\n",
       "         0., 0., 0., 0.],\n",
       "        [1., 0., 0., 0., 0., 1., 1., 0., 3., 4., 2., 4., 5., 1., 3., 1.,\n",
       "         0., 2., 1., 1.],\n",
       "        [0., 0., 0., 1., 0., 3., 1., 0., 1., 2., 3., 4., 6., 5., 1., 0.,\n",
       "         0., 0., 2., 1.],\n",
       "        [0., 0., 0., 0., 0., 0., 3., 2., 4., 2., 4., 5., 5., 1., 0., 3.,\n",
       "         1., 0., 0., 0.]]),\n",
       " array([-0.19123648, -0.13181489, -0.07239329, -0.01297169,  0.0464499 ,\n",
       "         0.1058715 ,  0.16529309,  0.22471469,  0.28413628,  0.34355788,\n",
       "         0.40297947,  0.46240107,  0.52182267,  0.58124426,  0.64066586,\n",
       "         0.70008745,  0.75950905,  0.81893064,  0.87835224,  0.93777383,\n",
       "         0.99719543]),\n",
       " <a list of 4 BarContainer objects>)"
      ]
     },
     "execution_count": 12,
     "metadata": {},
     "output_type": "execute_result"
    },
    {
     "data": {
      "text/plain": [
       "<Figure size 640x480 with 1 Axes>"
      ],
      "image/png": "[encoded data removed]"
     },
     "metadata": {},
     "output_type": "display_data"
    }
   ],
   "execution_count": 12
  },
  {
   "cell_type": "code",
   "metadata": {
    "ExecuteTime": {
     "end_time": "2025-02-26T09:39:52.245935Z",
     "start_time": "2025-02-26T09:39:52.238113Z"
    }
   },
   "source": [
    "from torch.distributions import Normal\n",
    "from torch import tensor\n",
    "\n",
    "dist = Normal(tensor(0.5 * np.ones((batch_size, 4))), tensor(0.2 * np.ones((batch_size, 4))))\n",
    "action, log_prob = agent.process_action(dist)\n",
    "action = action.numpy()\n",
    "print(action)"
   ],
   "outputs": [
    {
     "name": "stdout",
     "output_type": "stream",
     "text": [
      "[[ 0.70522086  0.47219296  0.35290951  0.24953547]\n",
      " [ 0.29477914  0.82290639  0.55673906  0.74439143]\n",
      " [ 0.27211449  0.69636537  0.62637319  0.41802219]\n",
      " [ 0.11979599  0.52666961  0.04334597  0.52820222]\n",
      " [ 0.72584635  0.53272335  0.54373862  0.31768437]\n",
      " [ 0.62071739  0.47754925  0.14537664  0.27220383]\n",
      " [ 0.5407134   0.72455617  0.13345355  0.71792946]\n",
      " [ 0.53690047  0.36163255  0.88499577  0.44824514]\n",
      " [ 0.56393335  0.99719543  0.47100865  0.40171652]\n",
      " [ 0.1785853   0.644184    0.47958199  0.56394042]\n",
      " [ 0.60527904  0.36872343  0.19893287  0.70911493]\n",
      " [ 0.54979328  0.88159287  0.59945914  0.47159879]\n",
      " [ 0.62438472  0.43135129  0.63779448  0.35397688]\n",
      " [ 0.48774917  0.33985468  0.43064008  0.21855589]\n",
      " [ 0.06936614  0.52291466  0.96956132  0.29554184]\n",
      " [ 0.4361215   0.56164654  0.58147661  0.50753064]\n",
      " [ 0.45854196  0.54553116  0.50839052  0.17411733]\n",
      " [ 0.39991145  0.4122435   0.15820798  0.63032315]\n",
      " [ 0.15282351  0.21368806  0.54775607  0.46039025]\n",
      " [ 0.55149876  0.33313243  0.5372692   0.49756652]\n",
      " [ 0.69956298 -0.19123648  0.66682675  0.44444819]\n",
      " [ 0.33622289  0.64633588  0.59450619  0.3084385 ]\n",
      " [ 0.55831212  0.37660058  0.44965817  0.57956471]\n",
      " [ 0.47242042  0.51985513  0.38643067  0.51280207]\n",
      " [ 0.30337724  0.32359388  0.57652295  0.21618662]\n",
      " [ 0.36862088  0.35881416  0.45154238  0.55284191]\n",
      " [ 0.7055694   0.81950539  0.51538247  0.77257785]\n",
      " [ 0.31368275  0.13866635  0.29146493  0.57184325]\n",
      " [ 0.56711149  0.50157073  0.52968644  0.48567145]\n",
      " [ 0.27876304  0.62798861  0.90244921  0.33361123]]\n"
     ]
    },
    {
     "name": "stderr",
     "output_type": "stream",
     "text": [
      "/Users/arthurostrauss/Library/CloudStorage/OneDrive-NationalUniversityofSingapore/Coding_projects/Quantum_Optimal_Control/rl_qoc/qua/qua_ppo.py:39: RuntimeWarning: overflow encountered in scalar multiply\n",
      "  return (a * seed + c) % m\n"
     ]
    }
   ],
   "execution_count": 13
  },
  {
   "cell_type": "code",
   "metadata": {
    "ExecuteTime": {
     "end_time": "2025-02-26T09:39:52.392017Z",
     "start_time": "2025-02-26T09:39:52.273798Z"
    }
   },
   "source": [
    "plt.hist(action, bins=20, alpha=0.5, label=\"action\")\n",
    "plt.hist(gaussian1, bins=20, alpha=0.5, label=\"gaussian1\")\n",
    "plt.legend(loc=\"upper right\")"
   ],
   "outputs": [
    {
     "data": {
      "text/plain": [
       "<matplotlib.legend.Legend at 0x38f2ef790>"
      ]
     },
     "execution_count": 14,
     "metadata": {},
     "output_type": "execute_result"
    },
    {
     "data": {
      "text/plain": [
       "<Figure size 640x480 with 1 Axes>"
      ],
      "image/png": "[encoded data removed]"
     },
     "metadata": {},
     "output_type": "display_data"
    }
   ],
   "execution_count": 14
  },
  {
   "cell_type": "code",
   "metadata": {
    "ExecuteTime": {
     "end_time": "2025-02-26T09:39:52.631645Z",
     "start_time": "2025-02-26T09:39:52.561447Z"
    }
   },
   "source": "plt.plot(np.abs(action - gaussian1))",
   "outputs": [
    {
     "data": {
      "text/plain": [
       "[<matplotlib.lines.Line2D at 0x391d00a50>,\n",
       " <matplotlib.lines.Line2D at 0x391cea550>,\n",
       " <matplotlib.lines.Line2D at 0x391d2b4d0>,\n",
       " <matplotlib.lines.Line2D at 0x391cfb790>]"
      ]
     },
     "execution_count": 15,
     "metadata": {},
     "output_type": "execute_result"
    },
    {
     "data": {
      "text/plain": [
       "<Figure size 640x480 with 1 Axes>"
      ],
      "image/png": "[encoded data removed]"
     },
     "metadata": {},
     "output_type": "display_data"
    }
   ],
   "execution_count": 15
  },
  {
   "cell_type": "code",
   "metadata": {
    "ExecuteTime": {
     "end_time": "2025-02-26T09:39:52.653542Z",
     "start_time": "2025-02-26T09:39:52.650497Z"
    }
   },
   "source": "print(action.shape)",
   "outputs": [
    {
     "name": "stdout",
     "output_type": "stream",
     "text": [
      "(30, 4)\n"
     ]
    }
   ],
   "execution_count": 16
  },
  {
   "metadata": {
    "ExecuteTime": {
     "end_time": "2025-02-26T09:39:52.708031Z",
     "start_time": "2025-02-26T09:39:52.705650Z"
    }
   },
   "cell_type": "code",
   "source": "print(gaussian1.shape)",
   "outputs": [
    {
     "name": "stdout",
     "output_type": "stream",
     "text": [
      "(30, 4)\n"
     ]
    }
   ],
   "execution_count": 17
  },
  {
   "metadata": {
    "ExecuteTime": {
     "end_time": "2025-02-26T09:39:52.760845Z",
     "start_time": "2025-02-26T09:39:52.758375Z"
    }
   },
   "cell_type": "code",
   "source": "print(np.mean(np.abs(action - gaussian1)))",
   "outputs": [
    {
     "name": "stdout",
     "output_type": "stream",
     "text": [
      "1.0554989178975423e-09\n"
     ]
    }
   ],
   "execution_count": 18
  },
  {
   "metadata": {},
   "cell_type": "code",
   "outputs": [],
   "execution_count": null,
   "source": ""
  }
 ],
 "metadata": {
  "kernelspec": {
   "display_name": "rl_qoc",
   "language": "python",
   "name": "python3"
  },
  "language_info": {
   "codemirror_mode": {
    "name": "ipython",
    "version": 3
   },
   "file_extension": ".py",
   "mimetype": "text/x-python",
   "name": "python",
   "nbconvert_exporter": "python",
   "pygments_lexer": "ipython3",
   "version": "3.11.9"
  }
 },
 "nbformat": 4,
 "nbformat_minor": 2
}

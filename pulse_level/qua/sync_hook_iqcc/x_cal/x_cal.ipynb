{
 "cells": [
  {
   "cell_type": "code",
   "execution_count": null,
   "id": "2cb1714e",
   "metadata": {},
   "outputs": [
    {
     "name": "stderr",
     "output_type": "stream",
     "text": [
      "/Users/arthurostrauss/Library/CloudStorage/OneDrive-QMMachinesLTD/GitHub/qiskit-qm-provider/qiskit_qm_provider/backend/backend_utils.py:215: UserWarning: Could not add default two qubit gates. Add it manually if necessary.\n",
      "  warnings.warn(\"Could not add default two qubit gates. Add it manually if necessary.\")\n",
      "/Users/arthurostrauss/Library/CloudStorage/OneDrive-QMMachinesLTD/GitHub/qiskit-qm-provider/qiskit_qm_provider/backend/flux_tunable_transmon_backend.py:52: UserWarning: qiskit.pulse is not available, channel mapping will not be set.\n",
      "  warnings.warn(\"qiskit.pulse is not available, channel mapping will not be set.\")\n"
     ]
    },
    {
     "name": "stdout",
     "output_type": "stream",
     "text": [
      "Target: Qiskit Backend for Quantum Abstract Machine (Quam)\n",
      "Number of qubits: 2\n",
      "Instructions:\n",
      "\tx\n",
      "\t\t(0,):\n",
      "\t\t\tDuration: 3.2e-08 sec.\n",
      "\t\t(1,):\n",
      "\t\t\tDuration: 3.2e-08 sec.\n",
      "\trz\n",
      "\t\t(0,):\n",
      "\t\t\tDuration: 0 sec.\n",
      "\t\t\tError Rate: 0\n",
      "\t\t(1,):\n",
      "\t\t\tDuration: 0 sec.\n",
      "\t\t\tError Rate: 0\n",
      "\tsx\n",
      "\t\t(0,):\n",
      "\t\t\tDuration: 3.2e-08 sec.\n",
      "\t\t(1,):\n",
      "\t\t\tDuration: 3.2e-08 sec.\n",
      "\tdelay\n",
      "\t\t(0,):\n",
      "\t\t(1,):\n",
      "\treset\n",
      "\t\t(0,):\n",
      "\t\t\tDuration: 5.5292e-05 sec.\n",
      "\t\t(1,):\n",
      "\t\t\tDuration: 0.000131964 sec.\n",
      "\tmeasure\n",
      "\t\t(0,):\n",
      "\t\t\tDuration: 1.65e-06 sec.\n",
      "\t\t(1,):\n",
      "\t\t\tDuration: 1.65e-06 sec.\n",
      "\tsy\n",
      "\t\t(0,):\n",
      "\t\t\tDuration: 3.2e-08 sec.\n",
      "\t\t(1,):\n",
      "\t\t\tDuration: 3.2e-08 sec.\n",
      "\tsydg\n",
      "\t\t(0,):\n",
      "\t\t\tDuration: 3.2e-08 sec.\n",
      "\t\t(1,):\n",
      "\t\t\tDuration: 3.2e-08 sec.\n",
      "\tid\n",
      "\t\t(0,):\n",
      "\t\t\tDuration: 0 sec.\n",
      "\t\t\tError Rate: 0\n",
      "\t\t(1,):\n",
      "\t\t\tDuration: 0 sec.\n",
      "\t\t\tError Rate: 0\n",
      "\tcz\n",
      "\t\t(1, 0)\n",
      "\tif_else\n",
      "\twhile_loop\n",
      "\tfor_loop\n",
      "\tswitch_case\n",
      "\tbox\n",
      "\n"
     ]
    }
   ],
   "source": [
    "import base64\n",
    "import numpy as np\n",
    "from qiskit.circuit import QuantumCircuit, QuantumRegister, Parameter, Gate\n",
    "from typing import List\n",
    "from gymnasium.spaces import Box\n",
    "from rl_qoc.qua import QMEnvironment, QMConfig\n",
    "from rl_qoc.qua.iqcc import *\n",
    "from iqcc_calibration_tools.quam_config.components import Quam, Transmon\n",
    "from qiskit_qm_provider import (\n",
    "    FluxTunableTransmonBackend,\n",
    "    QMInstructionProperties,\n",
    "    InputType,\n",
    "    ParameterPool,\n",
    ")\n",
    "from qiskit_qm_provider.backend.backend_utils import add_basic_macros_to_machine\n",
    "from rl_qoc.agent.ppo_config import (\n",
    "    TotalUpdates,\n",
    "    TrainingConfig,\n",
    ")\n",
    "from rl_qoc import (\n",
    "    RescaleAndClipAction,\n",
    "    ChannelReward,\n",
    "    StateReward,\n",
    "    CAFEReward,\n",
    "    ExecutionConfig,\n",
    "    QEnvConfig,\n",
    "    BenchmarkConfig,\n",
    "    StateTarget,\n",
    "    GateTarget,\n",
    "    PPOConfig,\n",
    ")\n",
    "from rl_qoc.helpers import add_custom_gate\n",
    "from rl_qoc.helpers import load_from_yaml_file\n",
    "\n",
    "import json\n",
    "import os\n",
    "import sys\n",
    "from pathlib import Path\n",
    "\n",
    "from rl_qoc.qua.pi_pulse_reward.pi_pulse_reward import PiPulseReward\n",
    "from rl_qoc.qua.qua_ppo import CustomQMPPO\n",
    "\n",
    "# Set your quantum computer backend\n",
    "path = Path.home() / \"iqcc_token.json\"\n",
    "with open(path, \"r\") as f:\n",
    "    iqcc_config = json.load(f)\n",
    "\n",
    "backend_name = \"gilboa\"\n",
    "machine, iqcc = get_machine_from_iqcc(backend_name, iqcc_config[backend_name])\n",
    "\n",
    "add_basic_macros_to_machine(machine)\n",
    "backend = FluxTunableTransmonBackend(machine)\n",
    "print(backend.target)\n"
   ]
  },
  {
   "cell_type": "code",
   "execution_count": 13,
   "id": "831435a5",
   "metadata": {},
   "outputs": [],
   "source": [
    "path = \"/Users/arthurostrauss/Library/CloudStorage/OneDrive-NationalUniversityofSingapore/Coding_projects/Quantum_Optimal_Control/pulse_level/qua/sync_hook_iqcc/x_cal\"\n",
    "agent_config_path = os.path.join(path, \"agent_config.yaml\")\n",
    "ppo_config = load_from_yaml_file(agent_config_path)\n",
    "\n",
    "\n",
    "def apply_parametrized_circuit(\n",
    "    qc: QuantumCircuit, params: List[Parameter], q_reg: QuantumRegister, **kwargs\n",
    "):\n",
    "\n",
    "    physical_qubits: List[int] = kwargs[\"physical_qubits\"]\n",
    "    backend: FluxTunableTransmonBackend = kwargs[\"backend\"]\n",
    "\n",
    "    # TODO: Enter your custom parametric QUA macro here\n",
    "    def qua_macro(amp):\n",
    "        qubit: Transmon = backend.get_qubit(physical_qubits[0])\n",
    "        qubit.xy.play(\"x180\", amplitude_scale=amp)\n",
    "\n",
    "    # Create a custom gate with the QUA macro\n",
    "    custom_x = Gate(\"x_cal\", 1, params)\n",
    "    instruction_prop = QMInstructionProperties(qua_pulse_macro=qua_macro)\n",
    "    qc = add_custom_gate(qc, custom_x, q_reg, params, physical_qubits, backend, instruction_prop)\n",
    "    return qc\n",
    "\n",
    "\n",
    "physical_qubits = (0,)\n",
    "\n",
    "target_name = \"x\"\n",
    "target = GateTarget(gate=target_name, physical_qubits=physical_qubits)\n",
    "reward =  ChannelReward()\n",
    "\n",
    "target_name = \"1\"\n",
    "target = StateTarget(state=target_name, physical_qubits=physical_qubits)\n",
    "reward =  StateReward()\n",
    "\n",
    "\n",
    "# Action space specification\n",
    "param_bounds = [(-1.98, 2.0)]  # Can be any number of bounds\n",
    "\n",
    "# Environment execution parameters\n",
    "seed = 1203  # Master seed to make training reproducible\n",
    "batch_size = 32  # Number of actions to evaluate per policy evaluation\n",
    "n_shots = 50  # Minimum number of shots per fiducial evaluation\n",
    "pauli_sampling = 100  # Number of fiducials to compute for fidelity estimation (DFE only)\n",
    "n_reps = 1  # Number of repetitions of the cycle circuit\n",
    "num_updates = TotalUpdates(50)\n",
    "input_type = InputType.INPUT_STREAM\n",
    "\n",
    "\n",
    "def create_action_space(param_bounds):\n",
    "    param_bounds = np.array(param_bounds, dtype=np.float32)\n",
    "    lower_bound, upper_bound = param_bounds.T\n",
    "    return Box(low=lower_bound, high=upper_bound, shape=(len(param_bounds),), dtype=np.float32)\n",
    "\n",
    "\n",
    "action_space = create_action_space(param_bounds)\n",
    "\n",
    "backend_config = QMConfig(\n",
    "    parametrized_circuit=apply_parametrized_circuit,\n",
    "    backend=backend,\n",
    "    input_type=input_type,\n",
    "    verbosity=2,\n",
    "    parametrized_circuit_kwargs={\"physical_qubits\": physical_qubits, \"backend\": backend},\n",
    "    num_updates=num_updates.total_updates,\n",
    ")\n",
    "execution_config = ExecutionConfig(\n",
    "    batch_size=batch_size,\n",
    "    sampling_paulis=pauli_sampling,\n",
    "    n_shots=n_shots,\n",
    "    n_reps=n_reps,\n",
    "    seed=seed,\n",
    ")\n",
    "q_env_config = QEnvConfig(\n",
    "    target=target,\n",
    "    backend_config=backend_config,\n",
    "    action_space=action_space,\n",
    "    execution_config=execution_config,\n",
    "    reward=reward,\n",
    "    benchmark_config=BenchmarkConfig(0),\n",
    ")  # No benchmark for now\n",
    "\n",
    "q_env = QMEnvironment(training_config=q_env_config)\n",
    "rescaled_env = RescaleAndClipAction(q_env, -1.0, 1.0)\n",
    "\n"
   ]
  },
  {
   "cell_type": "code",
   "execution_count": 14,
   "id": "7c4ba73a",
   "metadata": {},
   "outputs": [
    {
     "name": "stdout",
     "output_type": "stream",
     "text": [
      "Sync hook file generated at: /Users/arthurostrauss/Library/CloudStorage/OneDrive-NationalUniversityofSingapore/Coding_projects/Quantum_Optimal_Control/pulse_level/qua/sync_hook_iqcc/x_cal/sync_hook.py\n"
     ]
    }
   ],
   "source": [
    "sync_hook_path = generate_sync_hook(\n",
    "    target=target,\n",
    "    reward=reward,\n",
    "    param_bounds=param_bounds,\n",
    "    seed=seed,\n",
    "    batch_size=batch_size,\n",
    "    n_shots=n_shots,\n",
    "    pauli_sampling=pauli_sampling,\n",
    "    n_reps=n_reps,\n",
    "    num_updates=num_updates,\n",
    "    input_type=input_type,\n",
    "    backend_config=backend_config,\n",
    "    ppo_config=ppo_config,\n",
    "    output_dir=path\n",
    "    \n",
    ")\n",
    "print(f\"Sync hook file generated at: {sync_hook_path}\")\n"
   ]
  },
  {
   "cell_type": "code",
   "execution_count": 15,
   "id": "d317bbcc",
   "metadata": {},
   "outputs": [],
   "source": [
    "\n",
    "if hasattr(q_env.real_time_circuit, \"calibrations\") and q_env.real_time_circuit.calibrations:\n",
    "    backend.update_calibrations(qc=q_env.real_time_circuit, input_type=input_type)\n",
    "backend.update_compiler_from_target()\n",
    "prog = q_env.rl_qoc_training_qua_prog(num_updates=num_updates.total_updates)"
   ]
  },
  {
   "cell_type": "code",
   "execution_count": 16,
   "id": "4d0ace04",
   "metadata": {},
   "outputs": [
    {
     "name": "stderr",
     "output_type": "stream",
     "text": [
      "/Users/arthurostrauss/Library/CloudStorage/OneDrive-QMMachinesLTD/GitHub/quam/quam/components/channels.py:636: UserWarning: The 'thread' element argument is deprecated from qm.qua >= 1.2.2. Use 'core' instead.\n",
      "  warnings.warn(\n"
     ]
    },
    {
     "data": {
      "application/vnd.jupyter.widget-view+json": {
       "model_id": "e74171b5f4d84d6bbd5a78b91b3078da",
       "version_major": 2,
       "version_minor": 0
      },
      "text/plain": [
       "Output()"
      ]
     },
     "metadata": {},
     "output_type": "display_data"
    },
    {
     "data": {
      "text/html": [
       "<pre style=\"white-space:pre;overflow-x:auto;line-height:normal;font-family:Menlo,'DejaVu Sans Mono',consolas,'Courier New',monospace\"><span style=\"color: #7fbfbf; text-decoration-color: #7fbfbf\">[22:59:41] </span>QUA program submitted to <span style=\"color: #000080; text-decoration-color: #000080; font-weight: bold\">gilboa</span> <span style=\"font-weight: bold\">(</span>id = <span style=\"color: #ffff00; text-decoration-color: #ffff00\">eb09484b-ef9b-400e-9a56-7248608ab7de</span><span style=\"font-weight: bold\">)</span>             <a href=\"file:///Users/arthurostrauss/Library/CloudStorage/OneDrive-NationalUniversityofSingapore/Coding_projects/Quantum_Optimal_Control/.venv/lib/python3.11/site-packages/iqcc_cloud_client/computers.py\" target=\"_blank\"><span style=\"color: #7f7f7f; text-decoration-color: #7f7f7f\">computers.py</span></a><span style=\"color: #7f7f7f; text-decoration-color: #7f7f7f\">:</span><a href=\"file:///Users/arthurostrauss/Library/CloudStorage/OneDrive-NationalUniversityofSingapore/Coding_projects/Quantum_Optimal_Control/.venv/lib/python3.11/site-packages/iqcc_cloud_client/computers.py#426\" target=\"_blank\"><span style=\"color: #7f7f7f; text-decoration-color: #7f7f7f\">426</span></a>\n",
       "</pre>\n"
      ],
      "text/plain": [
       "\u001b[2;36m[22:59:41]\u001b[0m\u001b[2;36m \u001b[0mQUA program submitted to \u001b[1;34mgilboa\u001b[0m \u001b[1m(\u001b[0mid = \u001b[93meb09484b-ef9b-400e-9a56-7248608ab7de\u001b[0m\u001b[1m)\u001b[0m             \u001b]8;id=93997;file:///Users/arthurostrauss/Library/CloudStorage/OneDrive-NationalUniversityofSingapore/Coding_projects/Quantum_Optimal_Control/.venv/lib/python3.11/site-packages/iqcc_cloud_client/computers.py\u001b\\\u001b[2mcomputers.py\u001b[0m\u001b]8;;\u001b\\\u001b[2m:\u001b[0m\u001b]8;id=515339;file:///Users/arthurostrauss/Library/CloudStorage/OneDrive-NationalUniversityofSingapore/Coding_projects/Quantum_Optimal_Control/.venv/lib/python3.11/site-packages/iqcc_cloud_client/computers.py#426\u001b\\\u001b[2m426\u001b[0m\u001b]8;;\u001b\\\n"
      ]
     },
     "metadata": {},
     "output_type": "display_data"
    },
    {
     "data": {
      "text/html": [
       "<pre style=\"white-space:pre;overflow-x:auto;line-height:normal;font-family:Menlo,'DejaVu Sans Mono',consolas,'Courier New',monospace\"><span style=\"color: #7fbfbf; text-decoration-color: #7fbfbf\">[22:59:42] </span>Execution started                                                                       <a href=\"file:///Users/arthurostrauss/Library/CloudStorage/OneDrive-NationalUniversityofSingapore/Coding_projects/Quantum_Optimal_Control/.venv/lib/python3.11/site-packages/iqcc_cloud_client/computers.py\" target=\"_blank\"><span style=\"color: #7f7f7f; text-decoration-color: #7f7f7f\">computers.py</span></a><span style=\"color: #7f7f7f; text-decoration-color: #7f7f7f\">:</span><a href=\"file:///Users/arthurostrauss/Library/CloudStorage/OneDrive-NationalUniversityofSingapore/Coding_projects/Quantum_Optimal_Control/.venv/lib/python3.11/site-packages/iqcc_cloud_client/computers.py#446\" target=\"_blank\"><span style=\"color: #7f7f7f; text-decoration-color: #7f7f7f\">446</span></a>\n",
       "</pre>\n"
      ],
      "text/plain": [
       "\u001b[2;36m[22:59:42]\u001b[0m\u001b[2;36m \u001b[0mExecution started                                                                       \u001b]8;id=91503;file:///Users/arthurostrauss/Library/CloudStorage/OneDrive-NationalUniversityofSingapore/Coding_projects/Quantum_Optimal_Control/.venv/lib/python3.11/site-packages/iqcc_cloud_client/computers.py\u001b\\\u001b[2mcomputers.py\u001b[0m\u001b]8;;\u001b\\\u001b[2m:\u001b[0m\u001b]8;id=373560;file:///Users/arthurostrauss/Library/CloudStorage/OneDrive-NationalUniversityofSingapore/Coding_projects/Quantum_Optimal_Control/.venv/lib/python3.11/site-packages/iqcc_cloud_client/computers.py#446\u001b\\\u001b[2m446\u001b[0m\u001b]8;;\u001b\\\n"
      ]
     },
     "metadata": {},
     "output_type": "display_data"
    },
    {
     "data": {
      "text/html": [
       "<pre style=\"white-space:pre;overflow-x:auto;line-height:normal;font-family:Menlo,'DejaVu Sans Mono',consolas,'Courier New',monospace\"><span style=\"color: #7fbfbf; text-decoration-color: #7fbfbf\">[22:59:43] </span>Execution finished                                                                      <a href=\"file:///Users/arthurostrauss/Library/CloudStorage/OneDrive-NationalUniversityofSingapore/Coding_projects/Quantum_Optimal_Control/.venv/lib/python3.11/site-packages/iqcc_cloud_client/computers.py\" target=\"_blank\"><span style=\"color: #7f7f7f; text-decoration-color: #7f7f7f\">computers.py</span></a><span style=\"color: #7f7f7f; text-decoration-color: #7f7f7f\">:</span><a href=\"file:///Users/arthurostrauss/Library/CloudStorage/OneDrive-NationalUniversityofSingapore/Coding_projects/Quantum_Optimal_Control/.venv/lib/python3.11/site-packages/iqcc_cloud_client/computers.py#460\" target=\"_blank\"><span style=\"color: #7f7f7f; text-decoration-color: #7f7f7f\">460</span></a>\n",
       "</pre>\n"
      ],
      "text/plain": [
       "\u001b[2;36m[22:59:43]\u001b[0m\u001b[2;36m \u001b[0mExecution finished                                                                      \u001b]8;id=759948;file:///Users/arthurostrauss/Library/CloudStorage/OneDrive-NationalUniversityofSingapore/Coding_projects/Quantum_Optimal_Control/.venv/lib/python3.11/site-packages/iqcc_cloud_client/computers.py\u001b\\\u001b[2mcomputers.py\u001b[0m\u001b]8;;\u001b\\\u001b[2m:\u001b[0m\u001b]8;id=864611;file:///Users/arthurostrauss/Library/CloudStorage/OneDrive-NationalUniversityofSingapore/Coding_projects/Quantum_Optimal_Control/.venv/lib/python3.11/site-packages/iqcc_cloud_client/computers.py#460\u001b\\\u001b[2m460\u001b[0m\u001b]8;;\u001b\\\n"
      ]
     },
     "metadata": {},
     "output_type": "display_data"
    },
    {
     "data": {
      "text/html": [
       "<pre style=\"white-space:pre;overflow-x:auto;line-height:normal;font-family:Menlo,'DejaVu Sans Mono',consolas,'Courier New',monospace\"><span style=\"color: #800000; text-decoration-color: #800000; font-weight: bold\">QUA program has error:</span>\n",
       "</pre>\n"
      ],
      "text/plain": [
       "\u001b[1;31mQUA program has error:\u001b[0m\n"
      ]
     },
     "metadata": {},
     "output_type": "display_data"
    },
    {
     "data": {
      "text/html": [
       "<pre style=\"white-space:pre;overflow-x:auto;line-height:normal;font-family:Menlo,'DejaVu Sans Mono',consolas,'Courier New',monospace\"><span style=\"color: #800000; text-decoration-color: #800000; font-weight: bold\">Traceback (most recent call last):</span>\n",
       "<span style=\"color: #800000; text-decoration-color: #800000; font-weight: bold\">  File </span><span style=\"color: #800000; text-decoration-color: #800000; font-weight: bold\">\"/app/.venv/lib/python3.11/site-packages/qm/api/base_api.py\"</span><span style=\"color: #800000; text-decoration-color: #800000; font-weight: bold\">, line </span><span style=\"color: #800000; text-decoration-color: #800000; font-weight: bold\">47</span><span style=\"color: #800000; text-decoration-color: #800000; font-weight: bold\">, in _handle_connection_error</span>\n",
       "<span style=\"color: #800000; text-decoration-color: #800000; font-weight: bold\">    yield</span>\n",
       "<span style=\"color: #800000; text-decoration-color: #800000; font-weight: bold\">  File </span><span style=\"color: #800000; text-decoration-color: #800000; font-weight: bold\">\"/app/.venv/lib/python3.11/site-packages/qm/api/base_api.py\"</span><span style=\"color: #800000; text-decoration-color: #800000; font-weight: bold\">, line </span><span style=\"color: #800000; text-decoration-color: #800000; font-weight: bold\">105</span><span style=\"color: #800000; text-decoration-color: #800000; font-weight: bold\">, in _run</span>\n",
       "<span style=\"color: #800000; text-decoration-color: #800000; font-weight: bold\">    return run_async(coroutine)</span>\n",
       "<span style=\"color: #800000; text-decoration-color: #800000; font-weight: bold\">           ^^^^^^^^^^^^^^^^^^^^</span>\n",
       "<span style=\"color: #800000; text-decoration-color: #800000; font-weight: bold\">  File </span><span style=\"color: #800000; text-decoration-color: #800000; font-weight: bold\">\"/app/.venv/lib/python3.11/site-packages/qm/utils/async_utils.py\"</span><span style=\"color: #800000; text-decoration-color: #800000; font-weight: bold\">, line </span><span style=\"color: #800000; text-decoration-color: #800000; font-weight: bold\">38</span><span style=\"color: #800000; text-decoration-color: #800000; font-weight: bold\">, in run_async</span>\n",
       "<span style=\"color: #800000; text-decoration-color: #800000; font-weight: bold\">    return create_future(coroutine).result()  # type: ignore</span>\n",
       "<span style=\"color: #800000; text-decoration-color: #800000; font-weight: bold\">           ^^^^^^^^^^^^^^^^^^^^^^^^^^^^^^^^^</span>\n",
       "<span style=\"color: #800000; text-decoration-color: #800000; font-weight: bold\">  File </span><span style=\"color: #800000; text-decoration-color: #800000; font-weight: bold\">\"/usr/local/lib/python3.11/concurrent/futures/_base.py\"</span><span style=\"color: #800000; text-decoration-color: #800000; font-weight: bold\">, line </span><span style=\"color: #800000; text-decoration-color: #800000; font-weight: bold\">456</span><span style=\"color: #800000; text-decoration-color: #800000; font-weight: bold\">, in result</span>\n",
       "<span style=\"color: #800000; text-decoration-color: #800000; font-weight: bold\">    return self.__get_result()</span>\n",
       "<span style=\"color: #800000; text-decoration-color: #800000; font-weight: bold\">           ^^^^^^^^^^^^^^^^^^^</span>\n",
       "<span style=\"color: #800000; text-decoration-color: #800000; font-weight: bold\">  File </span><span style=\"color: #800000; text-decoration-color: #800000; font-weight: bold\">\"/usr/local/lib/python3.11/concurrent/futures/_base.py\"</span><span style=\"color: #800000; text-decoration-color: #800000; font-weight: bold\">, line </span><span style=\"color: #800000; text-decoration-color: #800000; font-weight: bold\">401</span><span style=\"color: #800000; text-decoration-color: #800000; font-weight: bold\">, in __get_result</span>\n",
       "<span style=\"color: #800000; text-decoration-color: #800000; font-weight: bold\">    raise self._exception</span>\n",
       "<span style=\"color: #800000; text-decoration-color: #800000; font-weight: bold\">  File </span><span style=\"color: #800000; text-decoration-color: #800000; font-weight: bold\">\"/app/.venv/lib/python3.11/site-packages/qm/grpc/v2/__init__.py\"</span><span style=\"color: #800000; text-decoration-color: #800000; font-weight: bold\">, line </span><span style=\"color: #800000; text-decoration-color: #800000; font-weight: bold\">1671</span><span style=\"color: #800000; text-decoration-color: #800000; font-weight: bold\">, in health_check</span>\n",
       "<span style=\"color: #800000; text-decoration-color: #800000; font-weight: bold\">    return await self._unary_unary(</span>\n",
       "<span style=\"color: #800000; text-decoration-color: #800000; font-weight: bold\">           ^^^^^^^^^^^^^^^^^^^^^^^^</span>\n",
       "<span style=\"color: #800000; text-decoration-color: #800000; font-weight: bold\">  File </span><span style=\"color: #800000; text-decoration-color: #800000; font-weight: bold\">\"/app/.venv/lib/python3.11/site-packages/betterproto/grpc/grpclib_client.py\"</span><span style=\"color: #800000; text-decoration-color: #800000; font-weight: bold\">, line </span><span style=\"color: #800000; text-decoration-color: #800000; font-weight: bold\">85</span><span style=\"color: #800000; text-decoration-color: #800000; font-weight: bold\">, in _unary_unary</span>\n",
       "<span style=\"color: #800000; text-decoration-color: #800000; font-weight: bold\">    response = await stream.recv_message()</span>\n",
       "<span style=\"color: #800000; text-decoration-color: #800000; font-weight: bold\">               ^^^^^^^^^^^^^^^^^^^^^^^^^^^</span>\n",
       "<span style=\"color: #800000; text-decoration-color: #800000; font-weight: bold\">  File </span><span style=\"color: #800000; text-decoration-color: #800000; font-weight: bold\">\"/app/.venv/lib/python3.11/site-packages/grpclib/client.py\"</span><span style=\"color: #800000; text-decoration-color: #800000; font-weight: bold\">, line </span><span style=\"color: #800000; text-decoration-color: #800000; font-weight: bold\">425</span><span style=\"color: #800000; text-decoration-color: #800000; font-weight: bold\">, in recv_message</span>\n",
       "<span style=\"color: #800000; text-decoration-color: #800000; font-weight: bold\">    await self.recv_initial_metadata()</span>\n",
       "<span style=\"color: #800000; text-decoration-color: #800000; font-weight: bold\">  File </span><span style=\"color: #800000; text-decoration-color: #800000; font-weight: bold\">\"/app/.venv/lib/python3.11/site-packages/grpclib/client.py\"</span><span style=\"color: #800000; text-decoration-color: #800000; font-weight: bold\">, line </span><span style=\"color: #800000; text-decoration-color: #800000; font-weight: bold\">393</span><span style=\"color: #800000; text-decoration-color: #800000; font-weight: bold\">, in recv_initial_metadata</span>\n",
       "<span style=\"color: #800000; text-decoration-color: #800000; font-weight: bold\">    self._raise_for_grpc_status(status, message, details)</span>\n",
       "<span style=\"color: #800000; text-decoration-color: #800000; font-weight: bold\">  File </span><span style=\"color: #800000; text-decoration-color: #800000; font-weight: bold\">\"/app/.venv/lib/python3.11/site-packages/grpclib/client.py\"</span><span style=\"color: #800000; text-decoration-color: #800000; font-weight: bold\">, line </span><span style=\"color: #800000; text-decoration-color: #800000; font-weight: bold\">345</span><span style=\"color: #800000; text-decoration-color: #800000; font-weight: bold\">, in _raise_for_grpc_status</span>\n",
       "<span style=\"color: #800000; text-decoration-color: #800000; font-weight: bold\">    raise GRPCError(status, message, details)</span>\n",
       "<span style=\"color: #800000; text-decoration-color: #800000; font-weight: bold\">grpclib.exceptions.GRPCError: (&lt;Status.ABORTED: </span><span style=\"color: #800000; text-decoration-color: #800000; font-weight: bold\">10</span><span style=\"color: #800000; text-decoration-color: #800000; font-weight: bold\">&gt;, </span><span style=\"color: #800000; text-decoration-color: #800000; font-weight: bold\">'Gateway health is not good enough to answer. Sorry :('</span><span style=\"color: #800000; text-decoration-color: #800000; font-weight: bold\">, </span><span style=\"color: #800000; text-decoration-color: #800000; font-weight: bold; font-style: italic\">None</span><span style=\"color: #800000; text-decoration-color: #800000; font-weight: bold\">)</span>\n",
       "\n",
       "<span style=\"color: #800000; text-decoration-color: #800000; font-weight: bold\">The above exception was the direct cause of the following exception:</span>\n",
       "\n",
       "<span style=\"color: #800000; text-decoration-color: #800000; font-weight: bold\">Traceback (most recent call last):</span>\n",
       "<span style=\"color: #800000; text-decoration-color: #800000; font-weight: bold\">  File </span><span style=\"color: #800000; text-decoration-color: #800000; font-weight: bold\">\"/app/temp.py\"</span><span style=\"color: #800000; text-decoration-color: #800000; font-weight: bold\">, line </span><span style=\"color: #800000; text-decoration-color: #800000; font-weight: bold\">8321</span><span style=\"color: #800000; text-decoration-color: #800000; font-weight: bold\">, in &lt;module&gt;</span>\n",
       "<span style=\"color: #800000; text-decoration-color: #800000; font-weight: bold\">    qmm = QuantumMachinesManager(</span><span style=\"color: #800000; text-decoration-color: #800000; font-weight: bold\">host</span><span style=\"color: #800000; text-decoration-color: #800000; font-weight: bold\">=</span><span style=\"color: #800000; text-decoration-color: #800000; font-weight: bold\">\"10.1.1.11\"</span><span style=\"color: #800000; text-decoration-color: #800000; font-weight: bold\">, </span><span style=\"color: #800000; text-decoration-color: #800000; font-weight: bold\">port</span><span style=\"color: #800000; text-decoration-color: #800000; font-weight: bold\">=</span><span style=\"color: #800000; text-decoration-color: #800000; font-weight: bold\">9510</span><span style=\"color: #800000; text-decoration-color: #800000; font-weight: bold\">, </span><span style=\"color: #800000; text-decoration-color: #800000; font-weight: bold\">log_level</span><span style=\"color: #800000; text-decoration-color: #800000; font-weight: bold\">=</span><span style=\"color: #800000; text-decoration-color: #800000; font-weight: bold\">logging</span><span style=\"color: #800000; text-decoration-color: #800000; font-weight: bold\">.ERROR)</span>\n",
       "<span style=\"color: #800000; text-decoration-color: #800000; font-weight: bold\">          ^^^^^^^^^^^^^^^^^^^^^^^^^^^^^^^^^^^^^^^^^^^^^^^^^^^^^^^^^^^^^^^^^^^^^^^^^^^^</span>\n",
       "<span style=\"color: #800000; text-decoration-color: #800000; font-weight: bold\">  File </span><span style=\"color: #800000; text-decoration-color: #800000; font-weight: bold\">\"/app/.venv/lib/python3.11/site-packages/qm/quantum_machines_manager.py\"</span><span style=\"color: #800000; text-decoration-color: #800000; font-weight: bold\">, line </span><span style=\"color: #800000; text-decoration-color: #800000; font-weight: bold\">186</span><span style=\"color: #800000; text-decoration-color: #800000; font-weight: bold\">, in __init__</span>\n",
       "<span style=\"color: #800000; text-decoration-color: #800000; font-weight: bold\">    self.perform_healthcheck(raise_on_error)</span>\n",
       "<span style=\"color: #800000; text-decoration-color: #800000; font-weight: bold\">  File </span><span style=\"color: #800000; text-decoration-color: #800000; font-weight: bold\">\"/app/.venv/lib/python3.11/site-packages/qm/quantum_machines_manager.py\"</span><span style=\"color: #800000; text-decoration-color: #800000; font-weight: bold\">, line </span><span style=\"color: #800000; text-decoration-color: #800000; font-weight: bold\">250</span><span style=\"color: #800000; text-decoration-color: #800000; font-weight: bold\">, in perform_healthcheck</span>\n",
       "<span style=\"color: #800000; text-decoration-color: #800000; font-weight: bold\">    self._api.perform_healthcheck()</span>\n",
       "<span style=\"color: #800000; text-decoration-color: #800000; font-weight: bold\">  File </span><span style=\"color: #800000; text-decoration-color: #800000; font-weight: bold\">\"/app/.venv/lib/python3.11/site-packages/qm/api/v2/qmm_api.py\"</span><span style=\"color: #800000; text-decoration-color: #800000; font-weight: bold\">, line </span><span style=\"color: #800000; text-decoration-color: #800000; font-weight: bold\">209</span><span style=\"color: #800000; text-decoration-color: #800000; font-weight: bold\">, in perform_healthcheck</span>\n",
       "<span style=\"color: #800000; text-decoration-color: #800000; font-weight: bold\">    response = self._run(self._stub.health_check(HealthCheckRequest(), </span><span style=\"color: #800000; text-decoration-color: #800000; font-weight: bold\">timeout</span><span style=\"color: #800000; text-decoration-color: #800000; font-weight: bold\">=</span><span style=\"color: #800000; text-decoration-color: #800000; font-weight: bold\">self</span><span style=\"color: #800000; text-decoration-color: #800000; font-weight: bold\">._timeout))</span>\n",
       "<span style=\"color: #800000; text-decoration-color: #800000; font-weight: bold\">               ^^^^^^^^^^^^^^^^^^^^^^^^^^^^^^^^^^^^^^^^^^^^^^^^^^^^^^^^^^^^^^^^^^^^^^^^^^^^^^^</span>\n",
       "<span style=\"color: #800000; text-decoration-color: #800000; font-weight: bold\">  File </span><span style=\"color: #800000; text-decoration-color: #800000; font-weight: bold\">\"/app/.venv/lib/python3.11/site-packages/qm/api/v2/base_api_v2.py\"</span><span style=\"color: #800000; text-decoration-color: #800000; font-weight: bold\">, line </span><span style=\"color: #800000; text-decoration-color: #800000; font-weight: bold\">19</span><span style=\"color: #800000; text-decoration-color: #800000; font-weight: bold\">, in _run</span>\n",
       "<span style=\"color: #800000; text-decoration-color: #800000; font-weight: bold\">    response = super()._run(coroutine, timeout)  # type: ignore</span>\n",
       "<span style=\"color: #800000; text-decoration-color: #800000; font-weight: bold\">               ^^^^^^^^^^^^^^^^^^^^^^^^^^^^^^^^</span>\n",
       "<span style=\"color: #800000; text-decoration-color: #800000; font-weight: bold\">  File </span><span style=\"color: #800000; text-decoration-color: #800000; font-weight: bold\">\"/app/.venv/lib/python3.11/site-packages/qm/api/base_api.py\"</span><span style=\"color: #800000; text-decoration-color: #800000; font-weight: bold\">, line </span><span style=\"color: #800000; text-decoration-color: #800000; font-weight: bold\">104</span><span style=\"color: #800000; text-decoration-color: #800000; font-weight: bold\">, in _run</span>\n",
       "<span style=\"color: #800000; text-decoration-color: #800000; font-weight: bold\">    with _handle_connection_error(timeout):</span>\n",
       "<span style=\"color: #800000; text-decoration-color: #800000; font-weight: bold\">  File </span><span style=\"color: #800000; text-decoration-color: #800000; font-weight: bold\">\"/usr/local/lib/python3.11/contextlib.py\"</span><span style=\"color: #800000; text-decoration-color: #800000; font-weight: bold\">, line </span><span style=\"color: #800000; text-decoration-color: #800000; font-weight: bold\">158</span><span style=\"color: #800000; text-decoration-color: #800000; font-weight: bold\">, in __exit__</span>\n",
       "<span style=\"color: #800000; text-decoration-color: #800000; font-weight: bold\">    self.gen.throw(typ, value, traceback)</span>\n",
       "<span style=\"color: #800000; text-decoration-color: #800000; font-weight: bold\">  File </span><span style=\"color: #800000; text-decoration-color: #800000; font-weight: bold\">\"/app/.venv/lib/python3.11/site-packages/qm/api/base_api.py\"</span><span style=\"color: #800000; text-decoration-color: #800000; font-weight: bold\">, line </span><span style=\"color: #800000; text-decoration-color: #800000; font-weight: bold\">55</span><span style=\"color: #800000; text-decoration-color: #800000; font-weight: bold\">, in _handle_connection_error</span>\n",
       "<span style=\"color: #800000; text-decoration-color: #800000; font-weight: bold\">    raise QMConnectionError(</span>\n",
       "<span style=\"color: #800000; text-decoration-color: #800000; font-weight: bold\">qm.exceptions.QMConnectionError: Encountered connection error from QOP: details: Gateway health is not good enough </span>\n",
       "<span style=\"color: #800000; text-decoration-color: #800000; font-weight: bold\">to answer. Sorry :(, status: Status.ABORTED</span>\n",
       "\n",
       "</pre>\n"
      ],
      "text/plain": [
       "\u001b[1;31mTraceback \u001b[0m\u001b[1;31m(\u001b[0m\u001b[1;31mmost recent call last\u001b[0m\u001b[1;31m)\u001b[0m\u001b[1;31m:\u001b[0m\n",
       "\u001b[1;31m  File \u001b[0m\u001b[1;31m\"/app/.venv/lib/python3.11/site-packages/qm/api/base_api.py\"\u001b[0m\u001b[1;31m, line \u001b[0m\u001b[1;31m47\u001b[0m\u001b[1;31m, in _handle_connection_error\u001b[0m\n",
       "\u001b[1;31m    yield\u001b[0m\n",
       "\u001b[1;31m  File \u001b[0m\u001b[1;31m\"/app/.venv/lib/python3.11/site-packages/qm/api/base_api.py\"\u001b[0m\u001b[1;31m, line \u001b[0m\u001b[1;31m105\u001b[0m\u001b[1;31m, in _run\u001b[0m\n",
       "\u001b[1;31m    return \u001b[0m\u001b[1;31mrun_async\u001b[0m\u001b[1;31m(\u001b[0m\u001b[1;31mcoroutine\u001b[0m\u001b[1;31m)\u001b[0m\n",
       "\u001b[1;31m           ^^^^^^^^^^^^^^^^^^^^\u001b[0m\n",
       "\u001b[1;31m  File \u001b[0m\u001b[1;31m\"/app/.venv/lib/python3.11/site-packages/qm/utils/async_utils.py\"\u001b[0m\u001b[1;31m, line \u001b[0m\u001b[1;31m38\u001b[0m\u001b[1;31m, in run_async\u001b[0m\n",
       "\u001b[1;31m    return \u001b[0m\u001b[1;31mcreate_future\u001b[0m\u001b[1;31m(\u001b[0m\u001b[1;31mcoroutine\u001b[0m\u001b[1;31m)\u001b[0m\u001b[1;31m.result\u001b[0m\u001b[1;31m(\u001b[0m\u001b[1;31m)\u001b[0m\u001b[1;31m  # type: ignore\u001b[0m\n",
       "\u001b[1;31m           ^^^^^^^^^^^^^^^^^^^^^^^^^^^^^^^^^\u001b[0m\n",
       "\u001b[1;31m  File \u001b[0m\u001b[1;31m\"/usr/local/lib/python3.11/concurrent/futures/_base.py\"\u001b[0m\u001b[1;31m, line \u001b[0m\u001b[1;31m456\u001b[0m\u001b[1;31m, in result\u001b[0m\n",
       "\u001b[1;31m    return \u001b[0m\u001b[1;31mself.__get_result\u001b[0m\u001b[1;31m(\u001b[0m\u001b[1;31m)\u001b[0m\n",
       "\u001b[1;31m           ^^^^^^^^^^^^^^^^^^^\u001b[0m\n",
       "\u001b[1;31m  File \u001b[0m\u001b[1;31m\"/usr/local/lib/python3.11/concurrent/futures/_base.py\"\u001b[0m\u001b[1;31m, line \u001b[0m\u001b[1;31m401\u001b[0m\u001b[1;31m, in __get_result\u001b[0m\n",
       "\u001b[1;31m    raise self._exception\u001b[0m\n",
       "\u001b[1;31m  File \u001b[0m\u001b[1;31m\"/app/.venv/lib/python3.11/site-packages/qm/grpc/v2/__init__.py\"\u001b[0m\u001b[1;31m, line \u001b[0m\u001b[1;31m1671\u001b[0m\u001b[1;31m, in health_check\u001b[0m\n",
       "\u001b[1;31m    return await \u001b[0m\u001b[1;31mself._unary_unary\u001b[0m\u001b[1;31m(\u001b[0m\n",
       "\u001b[1;31m           ^^^^^^^^^^^^^^^^^^^^^^^^\u001b[0m\n",
       "\u001b[1;31m  File \u001b[0m\u001b[1;31m\"/app/.venv/lib/python3.11/site-packages/betterproto/grpc/grpclib_client.py\"\u001b[0m\u001b[1;31m, line \u001b[0m\u001b[1;31m85\u001b[0m\u001b[1;31m, in _unary_unary\u001b[0m\n",
       "\u001b[1;31m    response = await \u001b[0m\u001b[1;31mstream.recv_message\u001b[0m\u001b[1;31m(\u001b[0m\u001b[1;31m)\u001b[0m\n",
       "\u001b[1;31m               ^^^^^^^^^^^^^^^^^^^^^^^^^^^\u001b[0m\n",
       "\u001b[1;31m  File \u001b[0m\u001b[1;31m\"/app/.venv/lib/python3.11/site-packages/grpclib/client.py\"\u001b[0m\u001b[1;31m, line \u001b[0m\u001b[1;31m425\u001b[0m\u001b[1;31m, in recv_message\u001b[0m\n",
       "\u001b[1;31m    await \u001b[0m\u001b[1;31mself.recv_initial_metadata\u001b[0m\u001b[1;31m(\u001b[0m\u001b[1;31m)\u001b[0m\n",
       "\u001b[1;31m  File \u001b[0m\u001b[1;31m\"/app/.venv/lib/python3.11/site-packages/grpclib/client.py\"\u001b[0m\u001b[1;31m, line \u001b[0m\u001b[1;31m393\u001b[0m\u001b[1;31m, in recv_initial_metadata\u001b[0m\n",
       "\u001b[1;31m    \u001b[0m\u001b[1;31mself._raise_for_grpc_status\u001b[0m\u001b[1;31m(\u001b[0m\u001b[1;31mstatus, message, details\u001b[0m\u001b[1;31m)\u001b[0m\n",
       "\u001b[1;31m  File \u001b[0m\u001b[1;31m\"/app/.venv/lib/python3.11/site-packages/grpclib/client.py\"\u001b[0m\u001b[1;31m, line \u001b[0m\u001b[1;31m345\u001b[0m\u001b[1;31m, in _raise_for_grpc_status\u001b[0m\n",
       "\u001b[1;31m    raise \u001b[0m\u001b[1;31mGRPCError\u001b[0m\u001b[1;31m(\u001b[0m\u001b[1;31mstatus, message, details\u001b[0m\u001b[1;31m)\u001b[0m\n",
       "\u001b[1;31mgrpclib.exceptions.GRPCError: \u001b[0m\u001b[1;31m(\u001b[0m\u001b[1;31m<\u001b[0m\u001b[1;31mStatus.ABORTED:\u001b[0m\u001b[1;31m \u001b[0m\u001b[1;31m10\u001b[0m\u001b[1;31m>, \u001b[0m\u001b[1;31m'Gateway health is not good enough to answer. Sorry :\u001b[0m\u001b[1;31m(\u001b[0m\u001b[1;31m'\u001b[0m\u001b[1;31m, \u001b[0m\u001b[1;3;31mNone\u001b[0m\u001b[1;31m)\u001b[0m\n",
       "\n",
       "\u001b[1;31mThe above exception was the direct cause of the following exception:\u001b[0m\n",
       "\n",
       "\u001b[1;31mTraceback \u001b[0m\u001b[1;31m(\u001b[0m\u001b[1;31mmost recent call last\u001b[0m\u001b[1;31m)\u001b[0m\u001b[1;31m:\u001b[0m\n",
       "\u001b[1;31m  File \u001b[0m\u001b[1;31m\"/app/temp.py\"\u001b[0m\u001b[1;31m, line \u001b[0m\u001b[1;31m8321\u001b[0m\u001b[1;31m, in <module\u001b[0m\u001b[1;31m>\u001b[0m\n",
       "\u001b[1;31m    qmm = \u001b[0m\u001b[1;31mQuantumMachinesManager\u001b[0m\u001b[1;31m(\u001b[0m\u001b[1;31mhost\u001b[0m\u001b[1;31m=\u001b[0m\u001b[1;31m\"10\u001b[0m\u001b[1;31m.1.1.11\"\u001b[0m\u001b[1;31m, \u001b[0m\u001b[1;31mport\u001b[0m\u001b[1;31m=\u001b[0m\u001b[1;31m9510\u001b[0m\u001b[1;31m, \u001b[0m\u001b[1;31mlog_level\u001b[0m\u001b[1;31m=\u001b[0m\u001b[1;31mlogging\u001b[0m\u001b[1;31m.ERROR\u001b[0m\u001b[1;31m)\u001b[0m\n",
       "\u001b[1;31m          ^^^^^^^^^^^^^^^^^^^^^^^^^^^^^^^^^^^^^^^^^^^^^^^^^^^^^^^^^^^^^^^^^^^^^^^^^^^^\u001b[0m\n",
       "\u001b[1;31m  File \u001b[0m\u001b[1;31m\"/app/.venv/lib/python3.11/site-packages/qm/quantum_machines_manager.py\"\u001b[0m\u001b[1;31m, line \u001b[0m\u001b[1;31m186\u001b[0m\u001b[1;31m, in __init__\u001b[0m\n",
       "\u001b[1;31m    \u001b[0m\u001b[1;31mself.perform_healthcheck\u001b[0m\u001b[1;31m(\u001b[0m\u001b[1;31mraise_on_error\u001b[0m\u001b[1;31m)\u001b[0m\n",
       "\u001b[1;31m  File \u001b[0m\u001b[1;31m\"/app/.venv/lib/python3.11/site-packages/qm/quantum_machines_manager.py\"\u001b[0m\u001b[1;31m, line \u001b[0m\u001b[1;31m250\u001b[0m\u001b[1;31m, in perform_healthcheck\u001b[0m\n",
       "\u001b[1;31m    \u001b[0m\u001b[1;31mself._api.perform_healthcheck\u001b[0m\u001b[1;31m(\u001b[0m\u001b[1;31m)\u001b[0m\n",
       "\u001b[1;31m  File \u001b[0m\u001b[1;31m\"/app/.venv/lib/python3.11/site-packages/qm/api/v2/qmm_api.py\"\u001b[0m\u001b[1;31m, line \u001b[0m\u001b[1;31m209\u001b[0m\u001b[1;31m, in perform_healthcheck\u001b[0m\n",
       "\u001b[1;31m    response = \u001b[0m\u001b[1;31mself._run\u001b[0m\u001b[1;31m(\u001b[0m\u001b[1;31mself._stub.health_check\u001b[0m\u001b[1;31m(\u001b[0m\u001b[1;31mHealthCheckRequest\u001b[0m\u001b[1;31m(\u001b[0m\u001b[1;31m)\u001b[0m\u001b[1;31m, \u001b[0m\u001b[1;31mtimeout\u001b[0m\u001b[1;31m=\u001b[0m\u001b[1;31mself\u001b[0m\u001b[1;31m._timeout\u001b[0m\u001b[1;31m)\u001b[0m\u001b[1;31m)\u001b[0m\n",
       "\u001b[1;31m               ^^^^^^^^^^^^^^^^^^^^^^^^^^^^^^^^^^^^^^^^^^^^^^^^^^^^^^^^^^^^^^^^^^^^^^^^^^^^^^^\u001b[0m\n",
       "\u001b[1;31m  File \u001b[0m\u001b[1;31m\"/app/.venv/lib/python3.11/site-packages/qm/api/v2/base_api_v2.py\"\u001b[0m\u001b[1;31m, line \u001b[0m\u001b[1;31m19\u001b[0m\u001b[1;31m, in _run\u001b[0m\n",
       "\u001b[1;31m    response = \u001b[0m\u001b[1;31msuper\u001b[0m\u001b[1;31m(\u001b[0m\u001b[1;31m)\u001b[0m\u001b[1;31m._run\u001b[0m\u001b[1;31m(\u001b[0m\u001b[1;31mcoroutine, timeout\u001b[0m\u001b[1;31m)\u001b[0m\u001b[1;31m  # type: ignore\u001b[0m\n",
       "\u001b[1;31m               ^^^^^^^^^^^^^^^^^^^^^^^^^^^^^^^^\u001b[0m\n",
       "\u001b[1;31m  File \u001b[0m\u001b[1;31m\"/app/.venv/lib/python3.11/site-packages/qm/api/base_api.py\"\u001b[0m\u001b[1;31m, line \u001b[0m\u001b[1;31m104\u001b[0m\u001b[1;31m, in _run\u001b[0m\n",
       "\u001b[1;31m    with \u001b[0m\u001b[1;31m_handle_connection_error\u001b[0m\u001b[1;31m(\u001b[0m\u001b[1;31mtimeout\u001b[0m\u001b[1;31m)\u001b[0m\u001b[1;31m:\u001b[0m\n",
       "\u001b[1;31m  File \u001b[0m\u001b[1;31m\"/usr/local/lib/python3.11/contextlib.py\"\u001b[0m\u001b[1;31m, line \u001b[0m\u001b[1;31m158\u001b[0m\u001b[1;31m, in __exit__\u001b[0m\n",
       "\u001b[1;31m    \u001b[0m\u001b[1;31mself.gen.throw\u001b[0m\u001b[1;31m(\u001b[0m\u001b[1;31mtyp, value, traceback\u001b[0m\u001b[1;31m)\u001b[0m\n",
       "\u001b[1;31m  File \u001b[0m\u001b[1;31m\"/app/.venv/lib/python3.11/site-packages/qm/api/base_api.py\"\u001b[0m\u001b[1;31m, line \u001b[0m\u001b[1;31m55\u001b[0m\u001b[1;31m, in _handle_connection_error\u001b[0m\n",
       "\u001b[1;31m    raise \u001b[0m\u001b[1;31mQMConnectionError\u001b[0m\u001b[1;31m(\u001b[0m\n",
       "\u001b[1;31mqm.exceptions.QMConnectionError: Encountered connection error from QOP: details: Gateway health is not good enough \u001b[0m\n",
       "\u001b[1;31mto answer. Sorry :\u001b[0m\u001b[1;31m(\u001b[0m\u001b[1;31m, status: Status.ABORTED\u001b[0m\n",
       "\n"
      ]
     },
     "metadata": {},
     "output_type": "display_data"
    },
    {
     "data": {
      "text/html": [
       "<pre style=\"white-space:pre;overflow-x:auto;line-height:normal;font-family:Menlo,'DejaVu Sans Mono',consolas,'Courier New',monospace\"></pre>\n"
      ],
      "text/plain": []
     },
     "metadata": {},
     "output_type": "display_data"
    },
    {
     "data": {
      "text/html": [
       "<pre style=\"white-space:pre;overflow-x:auto;line-height:normal;font-family:Menlo,'DejaVu Sans Mono',consolas,'Courier New',monospace\"><span style=\"color: #000080; text-decoration-color: #000080; font-weight: bold\"> 👍     stdout:</span>\n",
       "</pre>\n"
      ],
      "text/plain": [
       "\u001b[1;34m 👍     \u001b[0m\u001b[1;34mstdout:\u001b[0m\n"
      ]
     },
     "metadata": {},
     "output_type": "display_data"
    },
    {
     "data": {
      "text/html": [
       "<pre style=\"white-space:pre;overflow-x:auto;line-height:normal;font-family:Menlo,'DejaVu Sans Mono',consolas,'Courier New',monospace\">\n",
       "</pre>\n"
      ],
      "text/plain": [
       "\n"
      ]
     },
     "metadata": {},
     "output_type": "display_data"
    },
    {
     "data": {
      "text/html": [
       "<pre style=\"white-space:pre;overflow-x:auto;line-height:normal;font-family:Menlo,'DejaVu Sans Mono',consolas,'Courier New',monospace\"><span style=\"color: #000080; text-decoration-color: #000080; font-weight: bold\"> 🚨     stderr:</span>\n",
       "</pre>\n"
      ],
      "text/plain": [
       "\u001b[1;34m 🚨     \u001b[0m\u001b[1;34mstderr:\u001b[0m\n"
      ]
     },
     "metadata": {},
     "output_type": "display_data"
    },
    {
     "data": {
      "text/html": [
       "<pre style=\"white-space:pre;overflow-x:auto;line-height:normal;font-family:Menlo,'DejaVu Sans Mono',consolas,'Courier New',monospace\"><span style=\"color: #800000; text-decoration-color: #800000\">Traceback </span><span style=\"color: #800000; text-decoration-color: #800000; font-weight: bold\">(</span><span style=\"color: #800000; text-decoration-color: #800000\">most recent call last</span><span style=\"color: #800000; text-decoration-color: #800000; font-weight: bold\">)</span><span style=\"color: #800000; text-decoration-color: #800000\">:</span>\n",
       "<span style=\"color: #800000; text-decoration-color: #800000\">  File </span><span style=\"color: #800000; text-decoration-color: #800000\">\"/app/.venv/lib/python3.11/site-packages/qm/api/base_api.py\"</span><span style=\"color: #800000; text-decoration-color: #800000\">, line </span><span style=\"color: #800000; text-decoration-color: #800000; font-weight: bold\">47</span><span style=\"color: #800000; text-decoration-color: #800000\">, in _handle_connection_error</span>\n",
       "<span style=\"color: #800000; text-decoration-color: #800000\">    yield</span>\n",
       "<span style=\"color: #800000; text-decoration-color: #800000\">  File </span><span style=\"color: #800000; text-decoration-color: #800000\">\"/app/.venv/lib/python3.11/site-packages/qm/api/base_api.py\"</span><span style=\"color: #800000; text-decoration-color: #800000\">, line </span><span style=\"color: #800000; text-decoration-color: #800000; font-weight: bold\">105</span><span style=\"color: #800000; text-decoration-color: #800000\">, in _run</span>\n",
       "<span style=\"color: #800000; text-decoration-color: #800000\">    return </span><span style=\"color: #800000; text-decoration-color: #800000; font-weight: bold\">run_async(</span><span style=\"color: #800000; text-decoration-color: #800000\">coroutine</span><span style=\"color: #800000; text-decoration-color: #800000; font-weight: bold\">)</span>\n",
       "<span style=\"color: #800000; text-decoration-color: #800000\">           ^^^^^^^^^^^^^^^^^^^^</span>\n",
       "<span style=\"color: #800000; text-decoration-color: #800000\">  File </span><span style=\"color: #800000; text-decoration-color: #800000\">\"/app/.venv/lib/python3.11/site-packages/qm/utils/async_utils.py\"</span><span style=\"color: #800000; text-decoration-color: #800000\">, line </span><span style=\"color: #800000; text-decoration-color: #800000; font-weight: bold\">38</span><span style=\"color: #800000; text-decoration-color: #800000\">, in run_async</span>\n",
       "<span style=\"color: #800000; text-decoration-color: #800000\">    return </span><span style=\"color: #800000; text-decoration-color: #800000; font-weight: bold\">create_future(</span><span style=\"color: #800000; text-decoration-color: #800000\">coroutine</span><span style=\"color: #800000; text-decoration-color: #800000; font-weight: bold\">).result()</span><span style=\"color: #800000; text-decoration-color: #800000\">  # type: ignore</span>\n",
       "<span style=\"color: #800000; text-decoration-color: #800000\">           ^^^^^^^^^^^^^^^^^^^^^^^^^^^^^^^^^</span>\n",
       "<span style=\"color: #800000; text-decoration-color: #800000\">  File </span><span style=\"color: #800000; text-decoration-color: #800000\">\"/usr/local/lib/python3.11/concurrent/futures/_base.py\"</span><span style=\"color: #800000; text-decoration-color: #800000\">, line </span><span style=\"color: #800000; text-decoration-color: #800000; font-weight: bold\">456</span><span style=\"color: #800000; text-decoration-color: #800000\">, in result</span>\n",
       "<span style=\"color: #800000; text-decoration-color: #800000\">    return </span><span style=\"color: #800000; text-decoration-color: #800000; font-weight: bold\">self.__get_result()</span>\n",
       "<span style=\"color: #800000; text-decoration-color: #800000\">           ^^^^^^^^^^^^^^^^^^^</span>\n",
       "<span style=\"color: #800000; text-decoration-color: #800000\">  File </span><span style=\"color: #800000; text-decoration-color: #800000\">\"/usr/local/lib/python3.11/concurrent/futures/_base.py\"</span><span style=\"color: #800000; text-decoration-color: #800000\">, line </span><span style=\"color: #800000; text-decoration-color: #800000; font-weight: bold\">401</span><span style=\"color: #800000; text-decoration-color: #800000\">, in __get_result</span>\n",
       "<span style=\"color: #800000; text-decoration-color: #800000\">    raise self._exception</span>\n",
       "<span style=\"color: #800000; text-decoration-color: #800000\">  File </span><span style=\"color: #800000; text-decoration-color: #800000\">\"/app/.venv/lib/python3.11/site-packages/qm/grpc/v2/__init__.py\"</span><span style=\"color: #800000; text-decoration-color: #800000\">, line </span><span style=\"color: #800000; text-decoration-color: #800000; font-weight: bold\">1671</span><span style=\"color: #800000; text-decoration-color: #800000\">, in health_check</span>\n",
       "<span style=\"color: #800000; text-decoration-color: #800000\">    return await </span><span style=\"color: #800000; text-decoration-color: #800000; font-weight: bold\">self._unary_unary(</span>\n",
       "<span style=\"color: #800000; text-decoration-color: #800000\">           ^^^^^^^^^^^^^^^^^^^^^^^^</span>\n",
       "<span style=\"color: #800000; text-decoration-color: #800000\">  File </span><span style=\"color: #800000; text-decoration-color: #800000\">\"/app/.venv/lib/python3.11/site-packages/betterproto/grpc/grpclib_client.py\"</span><span style=\"color: #800000; text-decoration-color: #800000\">, line </span><span style=\"color: #800000; text-decoration-color: #800000; font-weight: bold\">85</span><span style=\"color: #800000; text-decoration-color: #800000\">, in _unary_unary</span>\n",
       "<span style=\"color: #800000; text-decoration-color: #800000\">    response = await </span><span style=\"color: #800000; text-decoration-color: #800000; font-weight: bold\">stream.recv_message()</span>\n",
       "<span style=\"color: #800000; text-decoration-color: #800000\">               ^^^^^^^^^^^^^^^^^^^^^^^^^^^</span>\n",
       "<span style=\"color: #800000; text-decoration-color: #800000\">  File </span><span style=\"color: #800000; text-decoration-color: #800000\">\"/app/.venv/lib/python3.11/site-packages/grpclib/client.py\"</span><span style=\"color: #800000; text-decoration-color: #800000\">, line </span><span style=\"color: #800000; text-decoration-color: #800000; font-weight: bold\">425</span><span style=\"color: #800000; text-decoration-color: #800000\">, in recv_message</span>\n",
       "<span style=\"color: #800000; text-decoration-color: #800000\">    await </span><span style=\"color: #800000; text-decoration-color: #800000; font-weight: bold\">self.recv_initial_metadata()</span>\n",
       "<span style=\"color: #800000; text-decoration-color: #800000\">  File </span><span style=\"color: #800000; text-decoration-color: #800000\">\"/app/.venv/lib/python3.11/site-packages/grpclib/client.py\"</span><span style=\"color: #800000; text-decoration-color: #800000\">, line </span><span style=\"color: #800000; text-decoration-color: #800000; font-weight: bold\">393</span><span style=\"color: #800000; text-decoration-color: #800000\">, in recv_initial_metadata</span>\n",
       "<span style=\"color: #800000; text-decoration-color: #800000\">    </span><span style=\"color: #800000; text-decoration-color: #800000; font-weight: bold\">self._raise_for_grpc_status(</span><span style=\"color: #800000; text-decoration-color: #800000\">status, message, details</span><span style=\"color: #800000; text-decoration-color: #800000; font-weight: bold\">)</span>\n",
       "<span style=\"color: #800000; text-decoration-color: #800000\">  File </span><span style=\"color: #800000; text-decoration-color: #800000\">\"/app/.venv/lib/python3.11/site-packages/grpclib/client.py\"</span><span style=\"color: #800000; text-decoration-color: #800000\">, line </span><span style=\"color: #800000; text-decoration-color: #800000; font-weight: bold\">345</span><span style=\"color: #800000; text-decoration-color: #800000\">, in _raise_for_grpc_status</span>\n",
       "<span style=\"color: #800000; text-decoration-color: #800000\">    raise </span><span style=\"color: #800000; text-decoration-color: #800000; font-weight: bold\">GRPCError(</span><span style=\"color: #800000; text-decoration-color: #800000\">status, message, details</span><span style=\"color: #800000; text-decoration-color: #800000; font-weight: bold\">)</span>\n",
       "<span style=\"color: #800000; text-decoration-color: #800000\">grpclib.exceptions.GRPCError: </span><span style=\"color: #800000; text-decoration-color: #800000; font-weight: bold\">(&lt;Status.ABORTED:</span><span style=\"color: #800000; text-decoration-color: #800000\"> </span><span style=\"color: #800000; text-decoration-color: #800000; font-weight: bold\">10</span><span style=\"color: #800000; text-decoration-color: #800000\">&gt;, </span><span style=\"color: #800000; text-decoration-color: #800000\">'Gateway health is not good enough to answer. Sorry :('</span><span style=\"color: #800000; text-decoration-color: #800000\">, </span><span style=\"color: #800000; text-decoration-color: #800000; font-style: italic\">None</span><span style=\"color: #800000; text-decoration-color: #800000; font-weight: bold\">)</span>\n",
       "\n",
       "<span style=\"color: #800000; text-decoration-color: #800000\">The above exception was the direct cause of the following exception:</span>\n",
       "\n",
       "<span style=\"color: #800000; text-decoration-color: #800000\">Traceback </span><span style=\"color: #800000; text-decoration-color: #800000; font-weight: bold\">(</span><span style=\"color: #800000; text-decoration-color: #800000\">most recent call last</span><span style=\"color: #800000; text-decoration-color: #800000; font-weight: bold\">)</span><span style=\"color: #800000; text-decoration-color: #800000\">:</span>\n",
       "<span style=\"color: #800000; text-decoration-color: #800000\">  File </span><span style=\"color: #800000; text-decoration-color: #800000\">\"/app/temp.py\"</span><span style=\"color: #800000; text-decoration-color: #800000\">, line </span><span style=\"color: #800000; text-decoration-color: #800000; font-weight: bold\">8321</span><span style=\"color: #800000; text-decoration-color: #800000\">, in &lt;module</span><span style=\"color: #800000; text-decoration-color: #800000; font-weight: bold\">&gt;</span>\n",
       "<span style=\"color: #800000; text-decoration-color: #800000\">    qmm = </span><span style=\"color: #800000; text-decoration-color: #800000; font-weight: bold\">QuantumMachinesManager(</span><span style=\"color: #800000; text-decoration-color: #800000\">host</span><span style=\"color: #800000; text-decoration-color: #800000\">=</span><span style=\"color: #800000; text-decoration-color: #800000\">\"10.1.1.11\"</span><span style=\"color: #800000; text-decoration-color: #800000\">, </span><span style=\"color: #800000; text-decoration-color: #800000\">port</span><span style=\"color: #800000; text-decoration-color: #800000\">=</span><span style=\"color: #800000; text-decoration-color: #800000; font-weight: bold\">9510</span><span style=\"color: #800000; text-decoration-color: #800000\">, </span><span style=\"color: #800000; text-decoration-color: #800000\">log_level</span><span style=\"color: #800000; text-decoration-color: #800000\">=</span><span style=\"color: #800000; text-decoration-color: #800000\">logging</span><span style=\"color: #800000; text-decoration-color: #800000\">.ERROR</span><span style=\"color: #800000; text-decoration-color: #800000; font-weight: bold\">)</span>\n",
       "<span style=\"color: #800000; text-decoration-color: #800000\">          ^^^^^^^^^^^^^^^^^^^^^^^^^^^^^^^^^^^^^^^^^^^^^^^^^^^^^^^^^^^^^^^^^^^^^^^^^^^^</span>\n",
       "<span style=\"color: #800000; text-decoration-color: #800000\">  File </span><span style=\"color: #800000; text-decoration-color: #800000\">\"/app/.venv/lib/python3.11/site-packages/qm/quantum_machines_manager.py\"</span><span style=\"color: #800000; text-decoration-color: #800000\">, line </span><span style=\"color: #800000; text-decoration-color: #800000; font-weight: bold\">186</span><span style=\"color: #800000; text-decoration-color: #800000\">, in __init__</span>\n",
       "<span style=\"color: #800000; text-decoration-color: #800000\">    </span><span style=\"color: #800000; text-decoration-color: #800000; font-weight: bold\">self.perform_healthcheck(</span><span style=\"color: #800000; text-decoration-color: #800000\">raise_on_error</span><span style=\"color: #800000; text-decoration-color: #800000; font-weight: bold\">)</span>\n",
       "<span style=\"color: #800000; text-decoration-color: #800000\">  File </span><span style=\"color: #800000; text-decoration-color: #800000\">\"/app/.venv/lib/python3.11/site-packages/qm/quantum_machines_manager.py\"</span><span style=\"color: #800000; text-decoration-color: #800000\">, line </span><span style=\"color: #800000; text-decoration-color: #800000; font-weight: bold\">250</span><span style=\"color: #800000; text-decoration-color: #800000\">, in perform_healthcheck</span>\n",
       "<span style=\"color: #800000; text-decoration-color: #800000\">    </span><span style=\"color: #800000; text-decoration-color: #800000; font-weight: bold\">self._api.perform_healthcheck()</span>\n",
       "<span style=\"color: #800000; text-decoration-color: #800000\">  File </span><span style=\"color: #800000; text-decoration-color: #800000\">\"/app/.venv/lib/python3.11/site-packages/qm/api/v2/qmm_api.py\"</span><span style=\"color: #800000; text-decoration-color: #800000\">, line </span><span style=\"color: #800000; text-decoration-color: #800000; font-weight: bold\">209</span><span style=\"color: #800000; text-decoration-color: #800000\">, in perform_healthcheck</span>\n",
       "<span style=\"color: #800000; text-decoration-color: #800000\">    response = </span><span style=\"color: #800000; text-decoration-color: #800000; font-weight: bold\">self._run(self._stub.health_check(HealthCheckRequest()</span><span style=\"color: #800000; text-decoration-color: #800000\">, </span><span style=\"color: #800000; text-decoration-color: #800000\">timeout</span><span style=\"color: #800000; text-decoration-color: #800000\">=</span><span style=\"color: #800000; text-decoration-color: #800000\">self</span><span style=\"color: #800000; text-decoration-color: #800000\">._timeout</span><span style=\"color: #800000; text-decoration-color: #800000; font-weight: bold\">))</span>\n",
       "<span style=\"color: #800000; text-decoration-color: #800000\">               ^^^^^^^^^^^^^^^^^^^^^^^^^^^^^^^^^^^^^^^^^^^^^^^^^^^^^^^^^^^^^^^^^^^^^^^^^^^^^^^</span>\n",
       "<span style=\"color: #800000; text-decoration-color: #800000\">  File </span><span style=\"color: #800000; text-decoration-color: #800000\">\"/app/.venv/lib/python3.11/site-packages/qm/api/v2/base_api_v2.py\"</span><span style=\"color: #800000; text-decoration-color: #800000\">, line </span><span style=\"color: #800000; text-decoration-color: #800000; font-weight: bold\">19</span><span style=\"color: #800000; text-decoration-color: #800000\">, in _run</span>\n",
       "<span style=\"color: #800000; text-decoration-color: #800000\">    response = </span><span style=\"color: #800000; text-decoration-color: #800000; font-weight: bold\">super()._run(</span><span style=\"color: #800000; text-decoration-color: #800000\">coroutine, timeout</span><span style=\"color: #800000; text-decoration-color: #800000; font-weight: bold\">)</span><span style=\"color: #800000; text-decoration-color: #800000\">  # type: ignore</span>\n",
       "<span style=\"color: #800000; text-decoration-color: #800000\">               ^^^^^^^^^^^^^^^^^^^^^^^^^^^^^^^^</span>\n",
       "<span style=\"color: #800000; text-decoration-color: #800000\">  File </span><span style=\"color: #800000; text-decoration-color: #800000\">\"/app/.venv/lib/python3.11/site-packages/qm/api/base_api.py\"</span><span style=\"color: #800000; text-decoration-color: #800000\">, line </span><span style=\"color: #800000; text-decoration-color: #800000; font-weight: bold\">104</span><span style=\"color: #800000; text-decoration-color: #800000\">, in _run</span>\n",
       "<span style=\"color: #800000; text-decoration-color: #800000\">    with </span><span style=\"color: #800000; text-decoration-color: #800000; font-weight: bold\">_handle_connection_error(</span><span style=\"color: #800000; text-decoration-color: #800000\">timeout</span><span style=\"color: #800000; text-decoration-color: #800000; font-weight: bold\">)</span><span style=\"color: #800000; text-decoration-color: #800000\">:</span>\n",
       "<span style=\"color: #800000; text-decoration-color: #800000\">  File </span><span style=\"color: #800000; text-decoration-color: #800000\">\"/usr/local/lib/python3.11/contextlib.py\"</span><span style=\"color: #800000; text-decoration-color: #800000\">, line </span><span style=\"color: #800000; text-decoration-color: #800000; font-weight: bold\">158</span><span style=\"color: #800000; text-decoration-color: #800000\">, in __exit__</span>\n",
       "<span style=\"color: #800000; text-decoration-color: #800000\">    </span><span style=\"color: #800000; text-decoration-color: #800000; font-weight: bold\">self.gen.throw(</span><span style=\"color: #800000; text-decoration-color: #800000\">typ, value, traceback</span><span style=\"color: #800000; text-decoration-color: #800000; font-weight: bold\">)</span>\n",
       "<span style=\"color: #800000; text-decoration-color: #800000\">  File </span><span style=\"color: #800000; text-decoration-color: #800000\">\"/app/.venv/lib/python3.11/site-packages/qm/api/base_api.py\"</span><span style=\"color: #800000; text-decoration-color: #800000\">, line </span><span style=\"color: #800000; text-decoration-color: #800000; font-weight: bold\">55</span><span style=\"color: #800000; text-decoration-color: #800000\">, in _handle_connection_error</span>\n",
       "<span style=\"color: #800000; text-decoration-color: #800000\">    raise </span><span style=\"color: #800000; text-decoration-color: #800000; font-weight: bold\">QMConnectionError(</span>\n",
       "<span style=\"color: #800000; text-decoration-color: #800000\">qm.exceptions.QMConnectionError: Encountered connection error from QOP: details: Gateway health is not good enough </span>\n",
       "<span style=\"color: #800000; text-decoration-color: #800000\">to answer. Sorry :</span><span style=\"color: #800000; text-decoration-color: #800000; font-weight: bold\">(</span><span style=\"color: #800000; text-decoration-color: #800000\">, status: Status.ABORTED</span>\n",
       "\n",
       "</pre>\n"
      ],
      "text/plain": [
       "\u001b[31mTraceback \u001b[0m\u001b[1;31m(\u001b[0m\u001b[31mmost recent call last\u001b[0m\u001b[1;31m)\u001b[0m\u001b[31m:\u001b[0m\n",
       "\u001b[31m  File \u001b[0m\u001b[31m\"/app/.venv/lib/python3.11/site-packages/qm/api/base_api.py\"\u001b[0m\u001b[31m, line \u001b[0m\u001b[1;31m47\u001b[0m\u001b[31m, in _handle_connection_error\u001b[0m\n",
       "\u001b[31m    yield\u001b[0m\n",
       "\u001b[31m  File \u001b[0m\u001b[31m\"/app/.venv/lib/python3.11/site-packages/qm/api/base_api.py\"\u001b[0m\u001b[31m, line \u001b[0m\u001b[1;31m105\u001b[0m\u001b[31m, in _run\u001b[0m\n",
       "\u001b[31m    return \u001b[0m\u001b[1;31mrun_async\u001b[0m\u001b[1;31m(\u001b[0m\u001b[31mcoroutine\u001b[0m\u001b[1;31m)\u001b[0m\n",
       "\u001b[31m           ^^^^^^^^^^^^^^^^^^^^\u001b[0m\n",
       "\u001b[31m  File \u001b[0m\u001b[31m\"/app/.venv/lib/python3.11/site-packages/qm/utils/async_utils.py\"\u001b[0m\u001b[31m, line \u001b[0m\u001b[1;31m38\u001b[0m\u001b[31m, in run_async\u001b[0m\n",
       "\u001b[31m    return \u001b[0m\u001b[1;31mcreate_future\u001b[0m\u001b[1;31m(\u001b[0m\u001b[31mcoroutine\u001b[0m\u001b[1;31m)\u001b[0m\u001b[1;31m.result\u001b[0m\u001b[1;31m(\u001b[0m\u001b[1;31m)\u001b[0m\u001b[31m  # type: ignore\u001b[0m\n",
       "\u001b[31m           ^^^^^^^^^^^^^^^^^^^^^^^^^^^^^^^^^\u001b[0m\n",
       "\u001b[31m  File \u001b[0m\u001b[31m\"/usr/local/lib/python3.11/concurrent/futures/_base.py\"\u001b[0m\u001b[31m, line \u001b[0m\u001b[1;31m456\u001b[0m\u001b[31m, in result\u001b[0m\n",
       "\u001b[31m    return \u001b[0m\u001b[1;31mself.__get_result\u001b[0m\u001b[1;31m(\u001b[0m\u001b[1;31m)\u001b[0m\n",
       "\u001b[31m           ^^^^^^^^^^^^^^^^^^^\u001b[0m\n",
       "\u001b[31m  File \u001b[0m\u001b[31m\"/usr/local/lib/python3.11/concurrent/futures/_base.py\"\u001b[0m\u001b[31m, line \u001b[0m\u001b[1;31m401\u001b[0m\u001b[31m, in __get_result\u001b[0m\n",
       "\u001b[31m    raise self._exception\u001b[0m\n",
       "\u001b[31m  File \u001b[0m\u001b[31m\"/app/.venv/lib/python3.11/site-packages/qm/grpc/v2/__init__.py\"\u001b[0m\u001b[31m, line \u001b[0m\u001b[1;31m1671\u001b[0m\u001b[31m, in health_check\u001b[0m\n",
       "\u001b[31m    return await \u001b[0m\u001b[1;31mself._unary_unary\u001b[0m\u001b[1;31m(\u001b[0m\n",
       "\u001b[31m           ^^^^^^^^^^^^^^^^^^^^^^^^\u001b[0m\n",
       "\u001b[31m  File \u001b[0m\u001b[31m\"/app/.venv/lib/python3.11/site-packages/betterproto/grpc/grpclib_client.py\"\u001b[0m\u001b[31m, line \u001b[0m\u001b[1;31m85\u001b[0m\u001b[31m, in _unary_unary\u001b[0m\n",
       "\u001b[31m    response = await \u001b[0m\u001b[1;31mstream.recv_message\u001b[0m\u001b[1;31m(\u001b[0m\u001b[1;31m)\u001b[0m\n",
       "\u001b[31m               ^^^^^^^^^^^^^^^^^^^^^^^^^^^\u001b[0m\n",
       "\u001b[31m  File \u001b[0m\u001b[31m\"/app/.venv/lib/python3.11/site-packages/grpclib/client.py\"\u001b[0m\u001b[31m, line \u001b[0m\u001b[1;31m425\u001b[0m\u001b[31m, in recv_message\u001b[0m\n",
       "\u001b[31m    await \u001b[0m\u001b[1;31mself.recv_initial_metadata\u001b[0m\u001b[1;31m(\u001b[0m\u001b[1;31m)\u001b[0m\n",
       "\u001b[31m  File \u001b[0m\u001b[31m\"/app/.venv/lib/python3.11/site-packages/grpclib/client.py\"\u001b[0m\u001b[31m, line \u001b[0m\u001b[1;31m393\u001b[0m\u001b[31m, in recv_initial_metadata\u001b[0m\n",
       "\u001b[31m    \u001b[0m\u001b[1;31mself._raise_for_grpc_status\u001b[0m\u001b[1;31m(\u001b[0m\u001b[31mstatus, message, details\u001b[0m\u001b[1;31m)\u001b[0m\n",
       "\u001b[31m  File \u001b[0m\u001b[31m\"/app/.venv/lib/python3.11/site-packages/grpclib/client.py\"\u001b[0m\u001b[31m, line \u001b[0m\u001b[1;31m345\u001b[0m\u001b[31m, in _raise_for_grpc_status\u001b[0m\n",
       "\u001b[31m    raise \u001b[0m\u001b[1;31mGRPCError\u001b[0m\u001b[1;31m(\u001b[0m\u001b[31mstatus, message, details\u001b[0m\u001b[1;31m)\u001b[0m\n",
       "\u001b[31mgrpclib.exceptions.GRPCError: \u001b[0m\u001b[1;31m(\u001b[0m\u001b[1;31m<\u001b[0m\u001b[1;31mStatus.ABORTED:\u001b[0m\u001b[31m \u001b[0m\u001b[1;31m10\u001b[0m\u001b[31m>, \u001b[0m\u001b[31m'Gateway health is not good enough to answer. Sorry :\u001b[0m\u001b[31m(\u001b[0m\u001b[31m'\u001b[0m\u001b[31m, \u001b[0m\u001b[3;31mNone\u001b[0m\u001b[1;31m)\u001b[0m\n",
       "\n",
       "\u001b[31mThe above exception was the direct cause of the following exception:\u001b[0m\n",
       "\n",
       "\u001b[31mTraceback \u001b[0m\u001b[1;31m(\u001b[0m\u001b[31mmost recent call last\u001b[0m\u001b[1;31m)\u001b[0m\u001b[31m:\u001b[0m\n",
       "\u001b[31m  File \u001b[0m\u001b[31m\"/app/temp.py\"\u001b[0m\u001b[31m, line \u001b[0m\u001b[1;31m8321\u001b[0m\u001b[31m, in <module\u001b[0m\u001b[1;31m>\u001b[0m\n",
       "\u001b[31m    qmm = \u001b[0m\u001b[1;31mQuantumMachinesManager\u001b[0m\u001b[1;31m(\u001b[0m\u001b[31mhost\u001b[0m\u001b[31m=\u001b[0m\u001b[31m\"10\u001b[0m\u001b[31m.1.1.11\"\u001b[0m\u001b[31m, \u001b[0m\u001b[31mport\u001b[0m\u001b[31m=\u001b[0m\u001b[1;31m9510\u001b[0m\u001b[31m, \u001b[0m\u001b[31mlog_level\u001b[0m\u001b[31m=\u001b[0m\u001b[31mlogging\u001b[0m\u001b[31m.ERROR\u001b[0m\u001b[1;31m)\u001b[0m\n",
       "\u001b[31m          ^^^^^^^^^^^^^^^^^^^^^^^^^^^^^^^^^^^^^^^^^^^^^^^^^^^^^^^^^^^^^^^^^^^^^^^^^^^^\u001b[0m\n",
       "\u001b[31m  File \u001b[0m\u001b[31m\"/app/.venv/lib/python3.11/site-packages/qm/quantum_machines_manager.py\"\u001b[0m\u001b[31m, line \u001b[0m\u001b[1;31m186\u001b[0m\u001b[31m, in __init__\u001b[0m\n",
       "\u001b[31m    \u001b[0m\u001b[1;31mself.perform_healthcheck\u001b[0m\u001b[1;31m(\u001b[0m\u001b[31mraise_on_error\u001b[0m\u001b[1;31m)\u001b[0m\n",
       "\u001b[31m  File \u001b[0m\u001b[31m\"/app/.venv/lib/python3.11/site-packages/qm/quantum_machines_manager.py\"\u001b[0m\u001b[31m, line \u001b[0m\u001b[1;31m250\u001b[0m\u001b[31m, in perform_healthcheck\u001b[0m\n",
       "\u001b[31m    \u001b[0m\u001b[1;31mself._api.perform_healthcheck\u001b[0m\u001b[1;31m(\u001b[0m\u001b[1;31m)\u001b[0m\n",
       "\u001b[31m  File \u001b[0m\u001b[31m\"/app/.venv/lib/python3.11/site-packages/qm/api/v2/qmm_api.py\"\u001b[0m\u001b[31m, line \u001b[0m\u001b[1;31m209\u001b[0m\u001b[31m, in perform_healthcheck\u001b[0m\n",
       "\u001b[31m    response = \u001b[0m\u001b[1;31mself._run\u001b[0m\u001b[1;31m(\u001b[0m\u001b[1;31mself._stub.health_check\u001b[0m\u001b[1;31m(\u001b[0m\u001b[1;31mHealthCheckRequest\u001b[0m\u001b[1;31m(\u001b[0m\u001b[1;31m)\u001b[0m\u001b[31m, \u001b[0m\u001b[31mtimeout\u001b[0m\u001b[31m=\u001b[0m\u001b[31mself\u001b[0m\u001b[31m._timeout\u001b[0m\u001b[1;31m)\u001b[0m\u001b[1;31m)\u001b[0m\n",
       "\u001b[31m               ^^^^^^^^^^^^^^^^^^^^^^^^^^^^^^^^^^^^^^^^^^^^^^^^^^^^^^^^^^^^^^^^^^^^^^^^^^^^^^^\u001b[0m\n",
       "\u001b[31m  File \u001b[0m\u001b[31m\"/app/.venv/lib/python3.11/site-packages/qm/api/v2/base_api_v2.py\"\u001b[0m\u001b[31m, line \u001b[0m\u001b[1;31m19\u001b[0m\u001b[31m, in _run\u001b[0m\n",
       "\u001b[31m    response = \u001b[0m\u001b[1;31msuper\u001b[0m\u001b[1;31m(\u001b[0m\u001b[1;31m)\u001b[0m\u001b[1;31m._run\u001b[0m\u001b[1;31m(\u001b[0m\u001b[31mcoroutine, timeout\u001b[0m\u001b[1;31m)\u001b[0m\u001b[31m  # type: ignore\u001b[0m\n",
       "\u001b[31m               ^^^^^^^^^^^^^^^^^^^^^^^^^^^^^^^^\u001b[0m\n",
       "\u001b[31m  File \u001b[0m\u001b[31m\"/app/.venv/lib/python3.11/site-packages/qm/api/base_api.py\"\u001b[0m\u001b[31m, line \u001b[0m\u001b[1;31m104\u001b[0m\u001b[31m, in _run\u001b[0m\n",
       "\u001b[31m    with \u001b[0m\u001b[1;31m_handle_connection_error\u001b[0m\u001b[1;31m(\u001b[0m\u001b[31mtimeout\u001b[0m\u001b[1;31m)\u001b[0m\u001b[31m:\u001b[0m\n",
       "\u001b[31m  File \u001b[0m\u001b[31m\"/usr/local/lib/python3.11/contextlib.py\"\u001b[0m\u001b[31m, line \u001b[0m\u001b[1;31m158\u001b[0m\u001b[31m, in __exit__\u001b[0m\n",
       "\u001b[31m    \u001b[0m\u001b[1;31mself.gen.throw\u001b[0m\u001b[1;31m(\u001b[0m\u001b[31mtyp, value, traceback\u001b[0m\u001b[1;31m)\u001b[0m\n",
       "\u001b[31m  File \u001b[0m\u001b[31m\"/app/.venv/lib/python3.11/site-packages/qm/api/base_api.py\"\u001b[0m\u001b[31m, line \u001b[0m\u001b[1;31m55\u001b[0m\u001b[31m, in _handle_connection_error\u001b[0m\n",
       "\u001b[31m    raise \u001b[0m\u001b[1;31mQMConnectionError\u001b[0m\u001b[1;31m(\u001b[0m\n",
       "\u001b[31mqm.exceptions.QMConnectionError: Encountered connection error from QOP: details: Gateway health is not good enough \u001b[0m\n",
       "\u001b[31mto answer. Sorry :\u001b[0m\u001b[1;31m(\u001b[0m\u001b[31m, status: Status.ABORTED\u001b[0m\n",
       "\n"
      ]
     },
     "metadata": {},
     "output_type": "display_data"
    },
    {
     "data": {
      "text/html": [
       "<pre style=\"white-space:pre;overflow-x:auto;line-height:normal;font-family:Menlo,'DejaVu Sans Mono',consolas,'Courier New',monospace\"><span style=\"color: #000080; text-decoration-color: #000080; font-weight: bold\"> ⚛️      result</span>\n",
       "</pre>\n"
      ],
      "text/plain": [
       "\u001b[1;34m ⚛️      \u001b[0m\u001b[1;34mresult\u001b[0m\n"
      ]
     },
     "metadata": {},
     "output_type": "display_data"
    },
    {
     "data": {
      "text/html": [
       "<pre style=\"white-space:pre;overflow-x:auto;line-height:normal;font-family:Menlo,'DejaVu Sans Mono',consolas,'Courier New',monospace\"><span style=\"font-weight: bold\">{}</span>\n",
       "</pre>\n"
      ],
      "text/plain": [
       "\u001b[1m{\u001b[0m\u001b[1m}\u001b[0m\n"
      ]
     },
     "metadata": {},
     "output_type": "display_data"
    },
    {
     "data": {
      "text/html": [
       "<pre style=\"white-space:pre;overflow-x:auto;line-height:normal;font-family:Menlo,'DejaVu Sans Mono',consolas,'Courier New',monospace\"><span style=\"color: #000080; text-decoration-color: #000080; font-weight: bold\"> 🕗 🐍  total Python execution time (s)</span>\n",
       "</pre>\n"
      ],
      "text/plain": [
       "\u001b[1;34m 🕗 🐍  \u001b[0m\u001b[1;34mtotal Python execution time \u001b[0m\u001b[1;34m(\u001b[0m\u001b[1;34ms\u001b[0m\u001b[1;34m)\u001b[0m\n"
      ]
     },
     "metadata": {},
     "output_type": "display_data"
    },
    {
     "data": {
      "text/html": [
       "<pre style=\"white-space:pre;overflow-x:auto;line-height:normal;font-family:Menlo,'DejaVu Sans Mono',consolas,'Courier New',monospace\"><span style=\"color: #008080; text-decoration-color: #008080; font-weight: bold\">1.087</span>\n",
       "</pre>\n"
      ],
      "text/plain": [
       "\u001b[1;36m1.087\u001b[0m\n"
      ]
     },
     "metadata": {},
     "output_type": "display_data"
    },
    {
     "data": {
      "text/html": [
       "<pre style=\"white-space:pre;overflow-x:auto;line-height:normal;font-family:Menlo,'DejaVu Sans Mono',consolas,'Courier New',monospace\"><span style=\"color: #000080; text-decoration-color: #000080; font-weight: bold\"> 🕗 ⚛️   QUA execution time (s)</span>\n",
       "</pre>\n"
      ],
      "text/plain": [
       "\u001b[1;34m 🕗 ⚛️   \u001b[0m\u001b[1;34mQUA execution time \u001b[0m\u001b[1;34m(\u001b[0m\u001b[1;34ms\u001b[0m\u001b[1;34m)\u001b[0m\n"
      ]
     },
     "metadata": {},
     "output_type": "display_data"
    },
    {
     "data": {
      "text/html": [
       "<pre style=\"white-space:pre;overflow-x:auto;line-height:normal;font-family:Menlo,'DejaVu Sans Mono',consolas,'Courier New',monospace\"><span style=\"color: #008080; text-decoration-color: #008080; font-weight: bold\">0.000</span>\n",
       "</pre>\n"
      ],
      "text/plain": [
       "\u001b[1;36m0.000\u001b[0m\n"
      ]
     },
     "metadata": {},
     "output_type": "display_data"
    }
   ],
   "source": [
    "run_data = iqcc.execute(\n",
    "    prog,\n",
    "    backend.qm_config,\n",
    "    terminal_output=True,\n",
    "    options={\"sync_hook\": sync_hook_path, \"timeout\": 600, \"profiling\": False},\n",
    ")"
   ]
  },
  {
   "cell_type": "code",
   "execution_count": null,
   "id": "3d8a42a4",
   "metadata": {},
   "outputs": [],
   "source": []
  }
 ],
 "metadata": {
  "kernelspec": {
   "display_name": ".venv",
   "language": "python",
   "name": "python3"
  },
  "language_info": {
   "codemirror_mode": {
    "name": "ipython",
    "version": 3
   },
   "file_extension": ".py",
   "mimetype": "text/x-python",
   "name": "python",
   "nbconvert_exporter": "python",
   "pygments_lexer": "ipython3",
   "version": "3.11.9"
  }
 },
 "nbformat": 4,
 "nbformat_minor": 5
}

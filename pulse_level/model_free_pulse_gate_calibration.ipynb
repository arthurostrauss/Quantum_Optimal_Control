{
 "cells": [
  {
   "cell_type": "markdown",
   "id": "66ee09f1-80da-4b9f-b724-c8288fceaf5a",
   "metadata": {},
   "source": [
    "# Model-free Pulse Gate Calibration using Reinforcement Learning\n",
    "\n",
    "In this notebook, we adjust the definition of the gate to be a custom pulse sequence to be simulated by Qiskit-Dynamics package.\n",
    "\n",
    "This notebook combines previously introduced modules of Qiskit and Tensorflow, combined to the usage of Qiskit-Dynamics to handle a pulse level simulation."
   ]
  },
  {
   "metadata": {},
   "cell_type": "code",
   "outputs": [],
   "execution_count": null,
   "source": [
    "import os\n",
    "\n",
    "os.environ[\"KMP_DUPLICATE_LIB_OK\"] = \"True\""
   ],
   "id": "956273994e8d0f4a"
  },
  {
   "metadata": {
    "ExecuteTime": {
     "end_time": "2025-01-15T12:22:04.950616Z",
     "start_time": "2025-01-15T12:21:59.173687Z"
    }
   },
   "cell_type": "code",
   "source": [
    "from rl_qoc import QuantumEnvironment, CustomPPO\n",
    "from rl_qoc.helpers import (\n",
    "    get_control_channel_map,\n",
    "    load_from_yaml_file,\n",
    ")\n",
    "\n",
    "from rl_qoc.config import (\n",
    "    QEnvConfig,\n",
    "    ActionSpace,\n",
    "    BackendConfig,\n",
    "    ExecutionConfig,\n",
    ")\n",
    "from rl_qoc.environment import GateTarget\n",
    "\n",
    "# Qiskit imports for building RL environment (circuit level)\n",
    "from qiskit import pulse, transpile\n",
    "from qiskit.quantum_info import Operator\n",
    "from qiskit.providers.options import Options\n",
    "from qiskit.providers import QubitProperties, BackendV1, BackendV2\n",
    "\n",
    "from qiskit_dynamics import DynamicsBackend, Solver\n",
    "from qiskit_dynamics.array import Array\n",
    "from qiskit.circuit import ParameterVector, QuantumCircuit, QuantumRegister, Gate\n",
    "\n",
    "from gymnasium.spaces import Box\n",
    "\n",
    "# Additional imports\n",
    "import numpy as np\n",
    "from tqdm import tqdm\n",
    "from IPython.display import clear_output\n",
    "import matplotlib.pyplot as plt\n",
    "from typing import Optional, Union, List\n",
    "\n",
    "# configure jax to use 64 bit mode\n",
    "import jax\n",
    "\n",
    "jax.config.update(\"jax_enable_x64\", True)\n",
    "# tell JAX we are using CPU\n",
    "jax.config.update(\"jax_platform_name\", \"cpu\")\n",
    "# import Array and set default backend\n",
    "\n",
    "Array.set_default_backend(\"jax\")"
   ],
   "id": "17930425f4807b17",
   "outputs": [],
   "execution_count": 1
  },
  {
   "metadata": {},
   "cell_type": "markdown",
   "source": [
    "# Defining QuantumEnvironment features\n",
    "\n",
    "We provide below the details of our custom Quantum Processing Unit (QPU) we are controlling."
   ],
   "id": "9fea59f12d9fd813"
  },
  {
   "metadata": {},
   "cell_type": "markdown",
   "source": [
    "## Generic information characterizing the quantum system\n",
    "\n",
    "The algorithm is built upon Qiskit modules. To specify how to address our quantum system of interest, we therefore adopt the IBM approach to define a quantum backend, on which qubits are defined and can be accessed via control actions and measurements.\n",
    "\n",
    "The cell below specifies:\n",
    "- ```qubit_tgt_register```: List of qubit indices which are specifically addressed by controls , namely the ones for which we intend to calibrate a gate upon or steer them in a specific quantum state. Note that this list could include less qubits than the total number of qubits, which can be useful when one wants to take into account crosstalk effects emerging from nearest-neigbor coupling.\n",
    "- ```sampling_Paulis```: number of Pauli observables  to be sampled from the system: the algorithm relies on the ability to process measurement outcomes to estimate the expectation value of different Pauli operators. The more observables we provide for sampling, the more properties we are able to deduce with accuracy about the actual state that was created when applying our custom controls. For a single qubit, the possible Pauli operators are $\\\\sigma_0=I$, $\\\\sigma_x=X$, $\\\\sigma_y=Y$, $\\\\sigma_z=Z$. For a general multiqubit system, the Pauli observables are tensor products of those single qubit Pauli operators. The algorithm will automatically estimate which observables are the most relevant to sample based on the provided target. The probability distribution from which those observables are sampled is derived from the Direct Fidelity Estimation (equation 3, https://link.aps.org/doi/10.1103/PhysRevLett.106.230501) algorithm. \n",
    "- ```N_shots```: Indicates how many measurements shall be done for each provided circuit (that is a specific combination of an action vector and a Pauli observable to be sampled)\n",
    "- The dimension of the action vector: Indicates the number of pulse/circuit parameters that characterize our parametrized quantum circuit.\n",
    "- ```estimator_options```: Options of the Qiskit Estimator primitive. The Estimator is the Qiskit module enabling an easy computation of Pauli expectation values. One can set options to make this process more reliable (typically by doing some error mitigation techniques in post-processing). Works only with Runtime Backend at the moment\n",
    "- ```abstraction_level``` chosen to encode our quantum circuit. One can choose here to stick to the usual circuit model of quantum computing, by using the ```QuantumCircuit``` objects from Qiskit and therefore set the ```abstraction_level``` to ```\"circuit\"```. However, depending on the task at hand, one can also prefer to use a pulse description of all the operations in our circuit. This is possible by using resources of another module of Qiskit called Qiskit Dynamics. In this case, one should define the ansatz circuit above in a pulse level fashion, and the simulation done at the Hamiltonian level, and not only via statevector calculations. In this notebook we set the ```abstraction_level``` to ```\"pulse\"```. Another notebook at the gate level is available in the repo."
   ],
   "id": "598f6fb3a35c5c5a"
  },
  {
   "metadata": {
    "ExecuteTime": {
     "end_time": "2025-01-15T12:22:04.958146Z",
     "start_time": "2025-01-15T12:22:04.955624Z"
    }
   },
   "cell_type": "code",
   "source": [
    "def custom_pulse_schedule(\n",
    "    backend: Union[BackendV1, BackendV2],\n",
    "    qubit_tgt_register: List[int],\n",
    "    params: ParameterVector,\n",
    "    default_schedule: Optional[Union[pulse.ScheduleBlock, pulse.Schedule]] = None,\n",
    "):\n",
    "    \"\"\"\n",
    "    Define parametrization of the pulse schedule characterizing the target gate\n",
    "        :param backend: IBM Backend on which schedule shall be added\n",
    "        :param qubit_tgt_register: Qubit register on which\n",
    "        :param params: Parameters of the Schedule\n",
    "        :param default_schedule:  baseline from which one can customize the pulse parameters\n",
    "\n",
    "        :return: Parametrized Schedule\n",
    "    \"\"\"\n",
    "\n",
    "    if default_schedule is None:  # No baseline pulse, full waveform builder\n",
    "        pass\n",
    "    else:\n",
    "        # Look here for the pulse features to specifically optimize upon, for the x gate here, simply retrieve relevant\n",
    "        # parameters for the Drag pulse\n",
    "        pulse_ref = default_schedule.instructions[0][1].pulse\n",
    "\n",
    "        with pulse.build(backend=backend, name=\"param_schedule\") as parametrized_schedule:\n",
    "            pulse.play(\n",
    "                pulse.Drag(\n",
    "                    duration=pulse_ref.duration,\n",
    "                    amp=params[0],\n",
    "                    sigma=pulse_ref.sigma,\n",
    "                    beta=pulse_ref.beta,\n",
    "                    angle=pulse_ref.angle,\n",
    "                ),\n",
    "                channel=pulse.DriveChannel(qubit_tgt_register[0]),\n",
    "            )\n",
    "\n",
    "        return parametrized_schedule"
   ],
   "id": "4e17218037937716",
   "outputs": [],
   "execution_count": 2
  },
  {
   "metadata": {
    "ExecuteTime": {
     "end_time": "2025-01-15T12:22:04.989829Z",
     "start_time": "2025-01-15T12:22:04.987357Z"
    }
   },
   "cell_type": "code",
   "source": [
    "from typing import Dict\n",
    "\n",
    "\n",
    "# Pulse gate ansatz\n",
    "\n",
    "\n",
    "def apply_parametrized_circuit(\n",
    "    qc: QuantumCircuit,\n",
    "    params: ParameterVector,\n",
    "    q_reg: QuantumRegister,\n",
    "    **kwargs,\n",
    "):\n",
    "    \"\"\"\n",
    "    Define ansatz circuit to be played on Quantum Computer. Should be parametrized with Qiskit ParameterVector\n",
    "    This function is used to run the QuantumCircuit instance on a Runtime backend\n",
    "    :param qc: Quantum Circuit instance to add the gate on\n",
    "    :return:\n",
    "    \"\"\"\n",
    "    # qc.num_qubits\n",
    "    backend = kwargs.get(\"backend\")\n",
    "    target = kwargs.get(\"target\")\n",
    "\n",
    "    # x_pulse = backend.defaults().instruction_schedule_map.get('x', (qubit_tgt_register,)).instructions[0][1].pulse\n",
    "\n",
    "    # original_calibration = backend.instruction_schedule_map.get(target[\"name\"])\n",
    "    gate, physical_qubits = target.gate, target.physical_qubits\n",
    "    parametrized_gate = Gate(f\"custom_{gate.name}\", gate.num_qubits, params=params.params)\n",
    "    if isinstance(backend, BackendV1):\n",
    "        instruction_schedule_map = backend.defaults().instruction_schedule_map\n",
    "    else:\n",
    "        instruction_schedule_map = backend.target.instruction_schedule_map()\n",
    "    default_schedule = instruction_schedule_map.get(gate.name, physical_qubits)\n",
    "    parametrized_schedule = custom_pulse_schedule(\n",
    "        backend=backend,\n",
    "        qubit_tgt_register=physical_qubits,\n",
    "        params=params,\n",
    "        default_schedule=default_schedule,\n",
    "    )\n",
    "    qc.add_calibration(parametrized_gate, physical_qubits, parametrized_schedule)\n",
    "    qc.append(parametrized_gate, q_reg)"
   ],
   "id": "bfb8ba4cc842b865",
   "outputs": [],
   "execution_count": 3
  },
  {
   "metadata": {
    "ExecuteTime": {
     "end_time": "2025-01-15T12:22:04.995437Z",
     "start_time": "2025-01-15T12:22:04.993400Z"
    }
   },
   "cell_type": "code",
   "source": [
    "qubit_tgt_register = [0]  # Choose which qubits of the QPU you want to address\n",
    "sampling_Paulis = 200\n",
    "N_shots = 100  # Number of shots for sampling the quantum computer for each action vector\n",
    "n_actions = 1  # Choose how many control parameters in pulse/circuit parametrization\n",
    "abstraction_level = \"pulse\"  # Choose at which abstraction level the circuit ansatz is written\n",
    "estimator_options = {\"resilience_level\": 0}\n",
    "batch_size = (\n",
    "    50  # Batch size (iterate over a bunch of actions per policy to estimate expected return)\n",
    ")\n",
    "action_space = Box(\n",
    "    low=-0.5, high=0.5, shape=(n_actions,), dtype=np.float64\n",
    ")  # Action space for the agent\n",
    "obs_space = Box(low=-1, high=1, shape=(1,), dtype=np.float64)  # Observation space for the agent"
   ],
   "id": "7773ae841fd67a00",
   "outputs": [],
   "execution_count": 4
  },
  {
   "metadata": {},
   "cell_type": "markdown",
   "source": "Choose below which IBM Backend to use. As we are dealing with pulse level implementation, we can either simulate a backend using QiskitDynamics, or use a real backend that supports OpenPulse features.",
   "id": "152a02f7126d1b54"
  },
  {
   "metadata": {},
   "cell_type": "markdown",
   "source": "## 1. Setting up a Quantum Backend",
   "id": "edebe24f72eb2cb9"
  },
  {
   "metadata": {},
   "cell_type": "markdown",
   "source": [
    "### Real backend initialization\n",
    "\n",
    "Uncomment the cell below to declare a Qiskit Runtime backend. You need an internet connection and an IBM Id account to access this."
   ],
   "id": "cfca7fb0ee15457"
  },
  {
   "metadata": {
    "ExecuteTime": {
     "end_time": "2025-01-15T12:22:05.006528Z",
     "start_time": "2025-01-15T12:22:05.005094Z"
    }
   },
   "cell_type": "code",
   "source": [
    "\"\"\"\n",
    "Real backend initialization:\n",
    "Run this cell only if intending to use a real backend, where Qiskit Runtime is enabled\n",
    "\"\"\"\n",
    "\n",
    "from qiskit_ibm_runtime import QiskitRuntimeService\n",
    "\n",
    "backend_name = \"ibm_perth\"\n",
    "\n",
    "# service = QiskitRuntimeService(channel='ibm_quantum')\n",
    "# runtime_backend = service.get_backend(backend_name)"
   ],
   "id": "610a8c38012dd3ee",
   "outputs": [],
   "execution_count": 5
  },
  {
   "metadata": {},
   "cell_type": "markdown",
   "source": [
    "### Simulation backend initialization\n",
    "If you want to run the algorithm over a simulation, you can rely on Qiskit Dynamics for pulse level simulation of quantum circuits. Below we set the ground for declaring a ```DynamicsBackend```.\n",
    "\n",
    "This can be done in two ways: \n",
    "\n",
    "1. Declare a ```DynamicsBackend``` from a ```FakeBackend``` or ```IBMBackend``` instance and use the ```from_backend()``` method to retrieve the Hamiltonian description of such backend.\n",
    "2. Alternatively, you can define your own custom Hamiltonian/Linblad that should be used to simulate the multiqubit system of interest, and feed it to a ```Solver``` instance which can be used to declare the ```DynamicsBackend```.\n",
    "For more information you can check Qiskit Dynamics documentation (https://qiskit.org/documentation/dynamics/apidocs/backend.html)\n"
   ],
   "id": "ad7d7b2fa1862295"
  },
  {
   "metadata": {},
   "cell_type": "markdown",
   "source": "#### 1. Using ```FakeBackend``` as starting point",
   "id": "16febdd2e4d7ddd0"
  },
  {
   "metadata": {
    "ExecuteTime": {
     "end_time": "2025-01-15T12:22:05.018155Z",
     "start_time": "2025-01-15T12:22:05.014365Z"
    }
   },
   "cell_type": "code",
   "source": [
    "from qiskit_ibm_runtime.fake_provider import FakeJakartaV2\n",
    "\n",
    "fake_backend_v2 = FakeJakartaV2()\n",
    "fake_backend_v2.channels_map"
   ],
   "id": "db53375da1bf0f9a",
   "outputs": [],
   "execution_count": 6
  },
  {
   "metadata": {
    "ExecuteTime": {
     "end_time": "2025-01-15T12:22:05.095607Z",
     "start_time": "2025-01-15T12:22:05.086505Z"
    }
   },
   "cell_type": "code",
   "source": [
    "control_channel_map = get_control_channel_map(\n",
    "    fake_backend_v2, list(range(fake_backend_v2.num_qubits))\n",
    ")\n",
    "dt = fake_backend_v2.target.dt"
   ],
   "id": "e34ca53e59fb4f4f",
   "outputs": [],
   "execution_count": 7
  },
  {
   "metadata": {
    "ExecuteTime": {
     "end_time": "2025-01-15T12:32:33.029849Z",
     "start_time": "2025-01-15T12:24:49.875541Z"
    }
   },
   "cell_type": "code",
   "source": [
    "dynamics_options = {\n",
    "    \"seed_simulator\": None,  # \"configuration\": fake_backend.configuration(),\n",
    "    \"control_channel_map\": control_channel_map,\n",
    "    # Control channels to play CR tones, should match connectivity of device\n",
    "    \"solver_options\": {\"method\": \"jax_odeint\", \"atol\": 1e-6, \"rtol\": 1e-8, \"hmax\": dt},\n",
    "}\n",
    "dynamics_backend = DynamicsBackend.from_backend(\n",
    "    fake_backend_v2, subsystem_list=qubit_tgt_register, **dynamics_options\n",
    ")\n",
    "\n",
    "dynamics_backend.target.qubit_properties = fake_backend_v2.qubit_properties(qubit_tgt_register)\n",
    "\n",
    "# Extract channel frequencies and Solver instance from backend to provide a pulse level simulation enabling\n",
    "# fidelity benchmarking\n",
    "calibration_files = None"
   ],
   "id": "5245ed63b0bed899",
   "outputs": [],
   "execution_count": 9
  },
  {
   "metadata": {},
   "cell_type": "markdown",
   "source": "#### 2. Using a custom Hamiltonian model",
   "id": "a7a524b80b43329b"
  },
  {
   "metadata": {},
   "cell_type": "code",
   "outputs": [],
   "execution_count": null,
   "source": [
    "r = 0.1e9\n",
    "\n",
    "# Frequency of the qubit transition in GHz.\n",
    "w = 5e9\n",
    "# Sample rate of the backend in ns.\n",
    "dt = 2.2222222e-10\n",
    "\n",
    "drift = 2 * np.pi * w * Operator.from_label(\"Z\") / 2\n",
    "operators = [2 * np.pi * r * Operator.from_label(\"X\") / 2]\n",
    "\n",
    "hamiltonian_solver = Solver(\n",
    "    static_hamiltonian=drift,\n",
    "    hamiltonian_operators=operators,\n",
    "    rotating_frame=drift,\n",
    "    rwa_cutoff_freq=2 * 5e9,\n",
    "    hamiltonian_channels=[\"d0\"],\n",
    "    channel_carrier_freqs={\"d0\": w},\n",
    "    dt=dt,\n",
    ")\n",
    "\n",
    "custom_backend = DynamicsBackend(hamiltonian_solver, **dynamics_options)"
   ],
   "id": "c00b822a299086f9"
  },
  {
   "metadata": {},
   "cell_type": "markdown",
   "source": [
    "### Choose backend and define Qiskit config dictionary\n",
    "Below, set the Backend that you would like to run among the above defined backend.\n",
    "Then define the config gathering all the components enabling the definition of the ```QuantumEnvironment```.\n",
    "\n"
   ],
   "id": "755ac0d34fb72f07"
  },
  {
   "metadata": {},
   "cell_type": "code",
   "outputs": [],
   "execution_count": null,
   "source": [
    "# Choose backend among the set defined above: {runtime_backend, dynamics_backend, custom_backend}\n",
    "backend = dynamics_backend"
   ],
   "id": "78dbff3e1b5e43f8"
  },
  {
   "metadata": {},
   "cell_type": "code",
   "outputs": [],
   "execution_count": null,
   "source": [
    "from qiskit.circuit.library import CXGate\n",
    "from rl_qoc.helpers import perform_standard_calibrations\n",
    "\n",
    "cals, results = perform_standard_calibrations(backend)"
   ],
   "id": "de963758b8514755"
  },
  {
   "metadata": {},
   "cell_type": "markdown",
   "source": [
    "## 2. Define quantum target: State preparation or Gate calibration\n",
    "\n",
    "The target of our optimal control task can be of two different types:\n",
    "1.  An arbitrary quantum state to prepare with high accuracy\n",
    "2. A Quantum Gate to be calibrated in a noise-robust manner\n",
    "\n",
    "Both targets are dictionaries that are identified with a key stating their ```target_type```, which can be either ```\"state\"``` or ```\"gate\"```.\n",
    "\n",
    "For a gate target $G$, one can add the target quantum gate with a ```\"gate\"``` argument specifying a specific instance of a Qiskit ```Gate``` object. Here, we settle for calibrating a ```XGate()```.\n",
    "Moreover, a gate calibration requires a set of input states $\\{|s_i\\rangle \\}$ to be provided, such that the agent can try to set the actions such that the fidelity between the anticipated ideal target state (calculated as  $G|s_i\\rangle$) and the output state are simultaneously maximized. To ensure a correlation between the average reward computed from the measurement outcomes and the average gate fidelity, the provided set of input states must be tomographically complete. Note that providing the set of ```input_states```as depicted below is optional and should be done only if you have a specific set to implement, by default it is internally set to the Pauli basis preparation stage.\n",
    "\n",
    "For a state target, one can provide, similarly to an input state, an ideal circuit to prepare it (```\"circuit\": QuantumCircuit```, or a density matrix (key ```\"dm\": DensityMatrix```). Below, we settle for giving a ```QuantumCircuit```for each input state, from the elementary operations present in ```qiskit.opflow```(which will be deprecated soon, and should therefore be replaced in the future by the ```QuantumCircuit```itself.\n",
    "\n",
    "Another important key that should figure in the dictionary is the ```\"register\"``` indicating the qubits indices that should be addressed by this target, i.e. upon which qubits should the target be engineered. The register can be a list of indices for qubits to be addressed in the circuit, or a ```QuantumRegister```object. If register is not provided, then by default the target register will be the list of all qubits defined up to ```Gate().num_qubits```."
   ],
   "id": "d5a1df11e1229462"
  },
  {
   "metadata": {},
   "cell_type": "code",
   "outputs": [],
   "execution_count": null,
   "source": [
    "from qiskit.circuit.library import XGate\n",
    "\n",
    "# Example of target gate\n",
    "X_tgt = GateTarget(gate=XGate(), physical_qubits=qubit_tgt_register)"
   ],
   "id": "7d45470966aed6dc"
  },
  {
   "metadata": {},
   "cell_type": "code",
   "outputs": [],
   "execution_count": null,
   "source": [
    "# Choose which target to use\n",
    "target = X_tgt"
   ],
   "id": "f818dec799495c5"
  },
  {
   "metadata": {},
   "cell_type": "markdown",
   "source": [
    "## 3. Declare QuantumEnvironment object\n",
    "Running the box below declares the QuantumEnvironment instance.\n",
    "\n",
    "If selected backend is a ```DynamicsBackend```, this declaration launches a series of single qubit gate calibrations (to calibrate X and SX gate). The reason for this is that the Estimator primitive, which enables the easy calculation of Pauli expectation values, needs to append gates for doing Pauli basis rotations (SX and Rz gate)."
   ],
   "id": "e44e9d06734b17cd"
  },
  {
   "metadata": {},
   "cell_type": "code",
   "outputs": [],
   "execution_count": null,
   "source": [
    "from rl_qoc.config import BenchmarkConfig\n",
    "\n",
    "# Define quantum environment\n",
    "execution_config = ExecutionConfig(\n",
    "    n_shots=N_shots,\n",
    "    batch_size=batch_size,\n",
    "    n_reps=1,\n",
    "    sampling_paulis=sampling_Paulis,\n",
    "    c_factor=1.0,\n",
    ")\n",
    "\n",
    "backend_config = BackendConfig(\n",
    "    backend=backend,\n",
    "    n_qubits=n_qubits,\n",
    "    abstraction_level=abstraction_level,\n",
    ")\n",
    "\n",
    "benchmark_config = BenchmarkConfig(benchmark_cycle=5)\n",
    "# Wrap all backend related info in one BackendConfig\n",
    "\n",
    "q_env_config = QEnvConfig(\n",
    "    target=target,\n",
    "    backend_config=backend_config,\n",
    "    action_space=action_space,\n",
    "    execution_config=execution_config,\n",
    "    benchmark_config=benchmark_config,\n",
    "    calibration_files=calibration_files,\n",
    ")"
   ],
   "id": "d9ebc517a16f0903"
  },
  {
   "metadata": {},
   "cell_type": "code",
   "outputs": [],
   "execution_count": null,
   "source": [
    "q_env = QuantumEnvironment(q_env_config, apply_parametrized_circuit)"
   ],
   "id": "dea9a3bb2ad69675"
  },
  {
   "metadata": {},
   "cell_type": "code",
   "outputs": [],
   "execution_count": null,
   "source": "control_channel_map",
   "id": "5e8113ac0fc79d9e"
  },
  {
   "metadata": {},
   "cell_type": "code",
   "outputs": [],
   "execution_count": null,
   "source": [
    "from qiskit import transpile\n",
    "\n",
    "transpile(q_env.circuit_truncations[0], dynamics_backend).draw(output=\"mpl\")"
   ],
   "id": "538cee5c07c6f50f"
  },
  {
   "metadata": {},
   "cell_type": "markdown",
   "source": "# Defining the RL agent: PPO",
   "id": "6ee6b5f2e42a7ea2"
  },
  {
   "metadata": {},
   "cell_type": "code",
   "outputs": [],
   "execution_count": null,
   "source": [
    "from pathlib import Path\n",
    "import os\n",
    "\n",
    "file_name = \"agent_config.yaml\"\n",
    "file_location = Path(os.getcwd()) / file_name\n",
    "\n",
    "agent_config = load_from_yaml_file(file_location)"
   ],
   "id": "efe6ef5d2c0415a3"
  },
  {
   "metadata": {},
   "cell_type": "code",
   "outputs": [],
   "execution_count": null,
   "source": [
    "ppo_agent = CustomPPO(agent_config, q_env)"
   ],
   "id": "3e1e01c34c6d168f"
  },
  {
   "metadata": {},
   "cell_type": "code",
   "outputs": [],
   "execution_count": null,
   "source": [
    "from rl_qoc.agent import TotalUpdates, TrainFunctionSettings, TrainingConfig\n",
    "\n",
    "total_updates = TotalUpdates(200)\n",
    "training_config = TrainingConfig(\n",
    "    training_constraint=total_updates,\n",
    "    target_fidelities=[0.999, 0.9999],\n",
    "    lookback_window=10,\n",
    "    anneal_learning_rate=True,\n",
    "    std_actions_eps=1e-3,\n",
    ")\n",
    "\n",
    "train_function_settings = TrainFunctionSettings(\n",
    "    plot_real_time=True,\n",
    "    print_debug=True,\n",
    "    num_prints=5,\n",
    "    hpo_mode=False,\n",
    "    clear_history=True,\n",
    ")"
   ],
   "id": "26490711263acaea"
  },
  {
   "metadata": {},
   "cell_type": "markdown",
   "source": "## Run algorithm",
   "id": "75cdf03b36ff511a"
  },
  {
   "metadata": {},
   "cell_type": "code",
   "outputs": [],
   "execution_count": null,
   "source": [
    "ppo_agent.train(training_config=training_config, train_function_settings=train_function_settings)"
   ],
   "id": "a32d41d98fbc2f36"
  },
  {
   "cell_type": "code",
   "source": [
    "plt.plot(\n",
    "    np.arange(0, 200, q_env.benchmark_cycle),\n",
    "    q_env.avg_fidelity_history,\n",
    "    label=\"Average gate fidelity\",\n",
    ")\n",
    "plt.plot(np.mean(q_env.reward_history, axis=1), label=\"Average reward\")\n",
    "plt.legend()"
   ],
   "metadata": {
    "collapsed": false,
    "ExecuteTime": {
     "end_time": "2024-02-21T06:45:57.875572Z",
     "start_time": "2024-02-21T06:45:57.695615Z"
    }
   },
   "id": "c426bba56685f2eb",
   "execution_count": 52,
   "outputs": []
  },
  {
   "cell_type": "code",
   "source": [],
   "metadata": {
    "collapsed": false
   },
   "id": "d0ecd69def728f55",
   "execution_count": null,
   "outputs": []
  }
 ],
 "metadata": {
  "kernelspec": {
   "display_name": "Python 3 (ipykernel)",
   "language": "python",
   "name": "python3"
  },
  "language_info": {
   "codemirror_mode": {
    "name": "ipython",
    "version": 3
   },
   "file_extension": ".py",
   "mimetype": "text/x-python",
   "name": "python",
   "nbconvert_exporter": "python",
   "pygments_lexer": "ipython3",
   "version": "3.9.16"
  }
 },
 "nbformat": 4,
 "nbformat_minor": 5
}

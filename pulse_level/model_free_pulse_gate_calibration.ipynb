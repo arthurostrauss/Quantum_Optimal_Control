{
 "cells": [
  {
   "cell_type": "markdown",
   "id": "66ee09f1-80da-4b9f-b724-c8288fceaf5a",
   "metadata": {},
   "source": [
    "# Model-free Pulse Gate Calibration using Reinforcement Learning\n",
    "\n",
    "In this notebook, we adjust the definition of the gate to be a custom pulse sequence to be simulated by Qiskit-Dynamics package.\n",
    "\n",
    "This notebook combines previously introduced modules of Qiskit and Tensorflow, combined to the usage of Qiskit-Dynamics to handle a pulse level simulation."
   ]
  },
  {
   "metadata": {},
   "cell_type": "code",
   "outputs": [],
   "execution_count": null,
   "source": [
    "import os\n",
    "\n",
    "os.environ[\"KMP_DUPLICATE_LIB_OK\"] = \"True\""
   ],
   "id": "956273994e8d0f4a"
  },
  {
   "metadata": {
    "ExecuteTime": {
     "end_time": "2025-01-15T12:22:04.950616Z",
     "start_time": "2025-01-15T12:21:59.173687Z"
    }
   },
   "cell_type": "code",
   "source": [
    "from rl_qoc import QuantumEnvironment\n",
    "from rl_qoc.environment.configuration import QEnvConfig\\n",
    "from rl_qoc.environment import GateTarget\n",
    "from rl_qoc.helpers import (\n",
    "    get_control_channel_map,\n",
    ")\n",
    "from rl_qoc.helpers.tf_utils import select_optimizer, generate_model\n",
    "\n",
    "# Qiskit imports for building RL environment (circuit level)\n",
    "from qiskit import pulse, transpile\n",
    "from qiskit.quantum_info import Operator\n",
    "from qiskit.providers.options import Options\n",
    "from qiskit.providers import QubitProperties, BackendV1, BackendV2\n",
    "\n",
    "from qiskit_dynamics import DynamicsBackend, Solver\n",
    "from qiskit_dynamics.array import Array\n",
    "from qiskit.circuit import ParameterVector, QuantumCircuit, QuantumRegister, Gate\n",
    "\n",
    "# Tensorflow imports for building RL agent and framework\n",
    "import tensorflow as tf\n",
    "from tensorflow_probability.python.distributions import MultivariateNormalDiag\n",
    "from gymnasium.spaces import Box\n",
    "\n",
    "# Additional imports\n",
    "import numpy as np\n",
    "from tqdm import tqdm\n",
    "from IPython.display import clear_output\n",
    "import matplotlib.pyplot as plt\n",
    "from typing import Optional, Union, List\n",
    "\n",
    "# configure jax to use 64 bit mode\n",
    "import jax\n",
    "\n",
    "jax.config.update(\"jax_enable_x64\", True)\n",
    "# tell JAX we are using CPU\n",
    "jax.config.update(\"jax_platform_name\", \"cpu\")\n",
    "# import Array and set default backend\n",
    "\n",
    "Array.set_default_backend(\"jax\")"
   ],
   "id": "17930425f4807b17",
   "outputs": [
    {
     "name": "stderr",
     "output_type": "stream",
     "text": [
      "/var/folders/5w/ygx15jq94z5dzxwkmbbj8zfm0000gn/T/ipykernel_10243/1423506994.py:38: DeprecationWarning: The array and dispatch submodules of Qiskit Dynamics have been deprecated as of\n",
      "            version 0.5.0. The use of the Array class is no longer required to work with different\n",
      "            array libraries in Qiskit Dynamics, and is broken in some cases. Refer to the user guide\n",
      "            entry on using different array libraries with Qiskit Dynamics. Users can now work\n",
      "            directly with the supported array type of their choice, without the need to wrap them to\n",
      "            enable dispatching. The array and dispatch submodules will be removed in version 0.6.0.\n",
      "            \n",
      "  Array.set_default_backend(\"jax\")\n"
     ]
    }
   ],
   "execution_count": 1
  },
  {
   "metadata": {},
   "cell_type": "markdown",
   "source": [
    "# Defining QuantumEnvironment features\n",
    "\n",
    "We provide below the details of our custom Quantum Processing Unit (QPU) we are controlling."
   ],
   "id": "9fea59f12d9fd813"
  },
  {
   "metadata": {},
   "cell_type": "markdown",
   "source": [
    "## Generic information characterizing the quantum system\n",
    "\n",
    "The algorithm is built upon Qiskit modules. To specify how to address our quantum system of interest, we therefore adopt the IBM approach to define a quantum backend, on which qubits are defined and can be accessed via control actions and measurements.\n",
    "\n",
    "The cell below specifies:\n",
    "- ```qubit_tgt_register```: List of qubit indices which are specifically addressed by controls , namely the ones for which we intend to calibrate a gate upon or steer them in a specific quantum state. Note that this list could include less qubits than the total number of qubits, which can be useful when one wants to take into account crosstalk effects emerging from nearest-neigbor coupling.\n",
    "- ```sampling_Paulis```: number of Pauli observables  to be sampled from the system: the algorithm relies on the ability to process measurement outcomes to estimate the expectation value of different Pauli operators. The more observables we provide for sampling, the more properties we are able to deduce with accuracy about the actual state that was created when applying our custom controls. For a single qubit, the possible Pauli operators are $\\sigma_0=I$, $\\sigma_x=X$, $\\sigma_y=Y$, $\\sigma_z=Z$. For a general multiqubit system, the Pauli observables are tensor products of those single qubit Pauli operators. The algorithm will automatically estimate which observables are the most relevant to sample based on the provided target. The probability distribution from which those observables are sampled is derived from the Direct Fidelity Estimation (equation 3, https://link.aps.org/doi/10.1103/PhysRevLett.106.230501) algorithm. \n",
    "- ```N_shots```: Indicates how many measurements shall be done for each provided circuit (that is a specific combination of an action vector and a Pauli observable to be sampled)\n",
    "- The dimension of the action vector: Indicates the number of pulse/circuit parameters that characterize our parametrized quantum circuit.\n",
    "- ```estimator_options```: Options of the Qiskit Estimator primitive. The Estimator is the Qiskit module enabling an easy computation of Pauli expectation values. One can set options to make this process more reliable (typically by doing some error mitigation techniques in post-processing). Works only with Runtime Backend at the moment\n",
    "- ```abstraction_level``` chosen to encode our quantum circuit. One can choose here to stick to the usual circuit model of quantum computing, by using the ```QuantumCircuit``` objects from Qiskit and therefore set the ```abstraction_level``` to ```\"circuit\"```. However, depending on the task at hand, one can also prefer to use a pulse description of all the operations in our circuit. This is possible by using resources of another module of Qiskit called Qiskit Dynamics. In this case, one should define the ansatz circuit above in a pulse level fashion, and the simulation done at the Hamiltonian level, and not only via statevector calculations. In this notebook we set the ```abstraction_level``` to ```\"pulse\"```. Another notebook at the gate level is available in the repo."
   ],
   "id": "598f6fb3a35c5c5a"
  },
  {
   "metadata": {
    "ExecuteTime": {
     "end_time": "2025-01-15T12:22:04.958146Z",
     "start_time": "2025-01-15T12:22:04.955624Z"
    }
   },
   "cell_type": "code",
   "source": [
    "def custom_pulse_schedule(\n",
    "    backend: Union[BackendV1, BackendV2],\n",
    "    qubit_tgt_register: List[int],\n",
    "    params: ParameterVector,\n",
    "    default_schedule: Optional[Union[pulse.ScheduleBlock, pulse.Schedule]] = None,\n",
    "):\n",
    "    \"\"\"\n",
    "    Define parametrization of the pulse schedule characterizing the target gate\n",
    "        :param backend: IBM Backend on which schedule shall be added\n",
    "        :param qubit_tgt_register: Qubit register on which\n",
    "        :param params: Parameters of the Schedule\n",
    "        :param default_schedule:  baseline from which one can customize the pulse parameters\n",
    "\n",
    "        :return: Parametrized Schedule\n",
    "    \"\"\"\n",
    "\n",
    "    if default_schedule is None:  # No baseline pulse, full waveform builder\n",
    "        pass\n",
    "    else:\n",
    "        # Look here for the pulse features to specifically optimize upon, for the x gate here, simply retrieve relevant\n",
    "        # parameters for the Drag pulse\n",
    "        pulse_ref = default_schedule.instructions[0][1].pulse\n",
    "\n",
    "        with pulse.build(backend=backend, name=\"param_schedule\") as parametrized_schedule:\n",
    "            pulse.play(\n",
    "                pulse.Drag(\n",
    "                    duration=pulse_ref.duration,\n",
    "                    amp=params[0],\n",
    "                    sigma=pulse_ref.sigma,\n",
    "                    beta=pulse_ref.beta,\n",
    "                    angle=pulse_ref.angle,\n",
    "                ),\n",
    "                channel=pulse.DriveChannel(qubit_tgt_register[0]),\n",
    "            )\n",
    "\n",
    "        return parametrized_schedule"
   ],
   "id": "4e17218037937716",
   "outputs": [],
   "execution_count": 2
  },
  {
   "metadata": {
    "ExecuteTime": {
     "end_time": "2025-01-15T12:22:04.989829Z",
     "start_time": "2025-01-15T12:22:04.987357Z"
    }
   },
   "cell_type": "code",
   "source": [
    "from typing import Dict\n",
    "\n",
    "\n",
    "# Pulse gate ansatz\n",
    "\n",
    "\n",
    "def apply_parametrized_circuit(\n",
    "    qc: QuantumCircuit,\n",
    "    params: ParameterVector,\n",
    "    q_reg: QuantumRegister,\n",
    "    n_actions: int,\n",
    "    backend: BackendV2,\n",
    "    target: Dict,\n",
    "):\n",
    "    \"\"\"\n",
    "    Define ansatz circuit to be played on Quantum Computer. Should be parametrized with Qiskit ParameterVector\n",
    "    This function is used to run the QuantumCircuit instance on a Runtime backend\n",
    "    :param qc: Quantum Circuit instance to add the gate on\n",
    "    :return:\n",
    "    \"\"\"\n",
    "    # qc.num_qubits\n",
    "\n",
    "    # x_pulse = backend.defaults().instruction_schedule_map.get('x', (qubit_tgt_register,)).instructions[0][1].pulse\n",
    "\n",
    "    # original_calibration = backend.instruction_schedule_map.get(target[\"name\"])\n",
    "    gate, physical_qubits = target[\"gate\"], target[\"register\"]\n",
    "    parametrized_gate = Gate(f\"custom_{gate.name}\", gate.num_qubits, params=params.params)\n",
    "    if isinstance(backend, BackendV1):\n",
    "        instruction_schedule_map = backend.defaults().instruction_schedule_map\n",
    "    else:\n",
    "        instruction_schedule_map = backend.target.instruction_schedule_map()\n",
    "    default_schedule = instruction_schedule_map.get(gate.name, physical_qubits)\n",
    "    parametrized_schedule = custom_pulse_schedule(\n",
    "        backend=backend,\n",
    "        qubit_tgt_register=physical_qubits,\n",
    "        params=params,\n",
    "        default_schedule=default_schedule,\n",
    "    )\n",
    "    qc.add_calibration(parametrized_gate, physical_qubits, parametrized_schedule)\n",
    "    qc.append(parametrized_gate, q_reg)"
   ],
   "id": "bfb8ba4cc842b865",
   "outputs": [],
   "execution_count": 3
  },
  {
   "metadata": {
    "ExecuteTime": {
     "end_time": "2025-01-15T12:22:04.995437Z",
     "start_time": "2025-01-15T12:22:04.993400Z"
    }
   },
   "cell_type": "code",
   "source": [
    "qubit_tgt_register = [0]  # Choose which qubits of the QPU you want to address\n",
    "sampling_Paulis = 200\n",
    "N_shots = 100  # Number of shots for sampling the quantum computer for each action vector\n",
    "n_actions = 1  # Choose how many control parameters in pulse/circuit parametrization\n",
    "abstraction_level = \"pulse\"  # Choose at which abstraction level the circuit ansatz is written\n",
    "estimator_options = {\"resilience_level\": 0}\n",
    "batchsize = (\n",
    "    50  # Batch size (iterate over a bunch of actions per policy to estimate expected return)\n",
    ")\n",
    "action_space = Box(\n",
    "    low=-0.5, high=0.5, shape=(n_actions,), dtype=np.float64\n",
    ")  # Action space for the agent\n",
    "obs_space = Box(low=-1, high=1, shape=(1,), dtype=np.float64)  # Observation space for the agent"
   ],
   "id": "7773ae841fd67a00",
   "outputs": [],
   "execution_count": 4
  },
  {
   "metadata": {},
   "cell_type": "markdown",
   "source": "Choose below which IBM Backend to use. As we are dealing with pulse level implementation, we can either simulate a backend using QiskitDynamics, or use a real backend that supports OpenPulse features.",
   "id": "152a02f7126d1b54"
  },
  {
   "metadata": {},
   "cell_type": "markdown",
   "source": "## 1. Setting up a Quantum Backend",
   "id": "edebe24f72eb2cb9"
  },
  {
   "metadata": {},
   "cell_type": "markdown",
   "source": [
    "### Real backend initialization\n",
    "\n",
    "Uncomment the cell below to declare a Qiskit Runtime backend. You need an internet connection and an IBM Id account to access this."
   ],
   "id": "cfca7fb0ee15457"
  },
  {
   "metadata": {
    "ExecuteTime": {
     "end_time": "2025-01-15T12:22:05.006528Z",
     "start_time": "2025-01-15T12:22:05.005094Z"
    }
   },
   "cell_type": "code",
   "source": [
    "\"\"\"\n",
    "Real backend initialization:\n",
    "Run this cell only if intending to use a real backend, where Qiskit Runtime is enabled\n",
    "\"\"\"\n",
    "\n",
    "from qiskit_ibm_runtime import QiskitRuntimeService\n",
    "\n",
    "backend_name = \"ibm_perth\"\n",
    "\n",
    "# service = QiskitRuntimeService(channel='ibm_quantum')\n",
    "# runtime_backend = service.get_backend(backend_name)"
   ],
   "id": "610a8c38012dd3ee",
   "outputs": [],
   "execution_count": 5
  },
  {
   "metadata": {},
   "cell_type": "markdown",
   "source": [
    "### Simulation backend initialization\n",
    "If you want to run the algorithm over a simulation, you can rely on Qiskit Dynamics for pulse level simulation of quantum circuits. Below we set the ground for declaring a ```DynamicsBackend```.\n",
    "\n",
    "This can be done in two ways: \n",
    "\n",
    "1. Declare a ```DynamicsBackend``` from a ```FakeBackend``` or ```IBMBackend``` instance and use the ```from_backend()``` method to retrieve the Hamiltonian description of such backend.\n",
    "2. Alternatively, you can define your own custom Hamiltonian/Linblad that should be used to simulate the multiqubit system of interest, and feed it to a ```Solver``` instance which can be used to declare the ```DynamicsBackend```.\n",
    "For more information you can check Qiskit Dynamics documentation (https://qiskit.org/documentation/dynamics/apidocs/backend.html)\n"
   ],
   "id": "ad7d7b2fa1862295"
  },
  {
   "metadata": {},
   "cell_type": "markdown",
   "source": "#### 1. Using ```FakeBackend``` as starting point",
   "id": "16febdd2e4d7ddd0"
  },
  {
   "metadata": {
    "ExecuteTime": {
     "end_time": "2025-01-15T12:22:05.018155Z",
     "start_time": "2025-01-15T12:22:05.014365Z"
    }
   },
   "cell_type": "code",
   "source": [
    "from qiskit_ibm_runtime.fake_provider import FakeJakartaV2\n",
    "\n",
    "fake_backend_v2 = FakeJakartaV2()\n",
    "fake_backend_v2.channels_map"
   ],
   "id": "db53375da1bf0f9a",
   "outputs": [
    {
     "data": {
      "text/plain": [
       "{'acquire': defaultdict(list,\n",
       "             {(0,): [AcquireChannel(0)],\n",
       "              (1,): [AcquireChannel(1)],\n",
       "              (2,): [AcquireChannel(2)],\n",
       "              (3,): [AcquireChannel(3)],\n",
       "              (4,): [AcquireChannel(4)],\n",
       "              (5,): [AcquireChannel(5)],\n",
       "              (6,): [AcquireChannel(6)]}),\n",
       " 'drive': defaultdict(list,\n",
       "             {(0,): [DriveChannel(0)],\n",
       "              (1,): [DriveChannel(1)],\n",
       "              (2,): [DriveChannel(2)],\n",
       "              (3,): [DriveChannel(3)],\n",
       "              (4,): [DriveChannel(4)],\n",
       "              (5,): [DriveChannel(5)],\n",
       "              (6,): [DriveChannel(6)]}),\n",
       " 'measure': defaultdict(list,\n",
       "             {(0,): [MeasureChannel(0)],\n",
       "              (1,): [MeasureChannel(1)],\n",
       "              (2,): [MeasureChannel(2)],\n",
       "              (3,): [MeasureChannel(3)],\n",
       "              (4,): [MeasureChannel(4)],\n",
       "              (5,): [MeasureChannel(5)],\n",
       "              (6,): [MeasureChannel(6)]}),\n",
       " 'control': defaultdict(list,\n",
       "             {(0, 1): [ControlChannel(0)],\n",
       "              (1, 0): [ControlChannel(1)],\n",
       "              (5, 6): [ControlChannel(10)],\n",
       "              (6, 5): [ControlChannel(11)],\n",
       "              (1, 2): [ControlChannel(2)],\n",
       "              (1, 3): [ControlChannel(3)],\n",
       "              (2, 1): [ControlChannel(4)],\n",
       "              (3, 1): [ControlChannel(5)],\n",
       "              (3, 5): [ControlChannel(6)],\n",
       "              (4, 5): [ControlChannel(7)],\n",
       "              (5, 3): [ControlChannel(8)],\n",
       "              (5, 4): [ControlChannel(9)]})}"
      ]
     },
     "execution_count": 6,
     "metadata": {},
     "output_type": "execute_result"
    }
   ],
   "execution_count": 6
  },
  {
   "metadata": {
    "ExecuteTime": {
     "end_time": "2025-01-15T12:22:05.095607Z",
     "start_time": "2025-01-15T12:22:05.086505Z"
    }
   },
   "cell_type": "code",
   "source": [
    "control_channel_map = get_control_channel_map(\n",
    "    fake_backend_v2, list(range(fake_backend_v2.num_qubits))\n",
    ")\n",
    "dt = fake_backend_v2.target.dt"
   ],
   "id": "e34ca53e59fb4f4f",
   "outputs": [],
   "execution_count": 7
  },
  {
   "metadata": {
    "ExecuteTime": {
     "end_time": "2025-01-15T12:32:33.029849Z",
     "start_time": "2025-01-15T12:24:49.875541Z"
    }
   },
   "cell_type": "code",
   "source": [
    "dynamics_options = {\n",
    "    \"seed_simulator\": None,  # \"configuration\": fake_backend.configuration(),\n",
    "    \"control_channel_map\": control_channel_map,\n",
    "    # Control channels to play CR tones, should match connectivity of device\n",
    "    \"solver_options\": {\"method\": \"jax_odeint\", \"atol\": 1e-6, \"rtol\": 1e-8, \"hmax\": dt},\n",
    "}\n",
    "dynamics_backend = DynamicsBackend.from_backend(\n",
    "    fake_backend_v2, subsystem_list=qubit_tgt_register, **dynamics_options\n",
    ")\n",
    "\n",
    "dynamics_backend.target.qubit_properties = fake_backend_v2.qubit_properties(qubit_tgt_register)\n",
    "\n",
    "# Extract channel frequencies and Solver instance from backend to provide a pulse level simulation enabling\n",
    "# fidelity benchmarking\n",
    "calibration_files = None"
   ],
   "id": "5245ed63b0bed899",
   "outputs": [
    {
     "ename": "AttributeError",
     "evalue": "'dict' object has no attribute 'q'",
     "output_type": "error",
     "traceback": [
      "\u001b[0;31m---------------------------------------------------------------------------\u001b[0m",
      "\u001b[0;31mAttributeError\u001b[0m                            Traceback (most recent call last)",
      "Cell \u001b[0;32mIn[9], line 7\u001b[0m\n\u001b[1;32m      1\u001b[0m dynamics_options \u001b[38;5;241m=\u001b[39m {\n\u001b[1;32m      2\u001b[0m     \u001b[38;5;124m\"\u001b[39m\u001b[38;5;124mseed_simulator\u001b[39m\u001b[38;5;124m\"\u001b[39m: \u001b[38;5;28;01mNone\u001b[39;00m,  \u001b[38;5;66;03m# \"configuration\": fake_backend.configuration(),\u001b[39;00m\n\u001b[1;32m      3\u001b[0m     \u001b[38;5;124m\"\u001b[39m\u001b[38;5;124mcontrol_channel_map\u001b[39m\u001b[38;5;124m\"\u001b[39m: control_channel_map,\n\u001b[1;32m      4\u001b[0m     \u001b[38;5;66;03m# Control channels to play CR tones, should match connectivity of device\u001b[39;00m\n\u001b[1;32m      5\u001b[0m     \u001b[38;5;124m\"\u001b[39m\u001b[38;5;124msolver_options\u001b[39m\u001b[38;5;124m\"\u001b[39m: {\u001b[38;5;124m\"\u001b[39m\u001b[38;5;124mmethod\u001b[39m\u001b[38;5;124m\"\u001b[39m: \u001b[38;5;124m\"\u001b[39m\u001b[38;5;124mjax_odeint\u001b[39m\u001b[38;5;124m\"\u001b[39m, \u001b[38;5;124m\"\u001b[39m\u001b[38;5;124matol\u001b[39m\u001b[38;5;124m\"\u001b[39m: \u001b[38;5;241m1e-6\u001b[39m, \u001b[38;5;124m\"\u001b[39m\u001b[38;5;124mrtol\u001b[39m\u001b[38;5;124m\"\u001b[39m: \u001b[38;5;241m1e-8\u001b[39m, \u001b[38;5;124m\"\u001b[39m\u001b[38;5;124mhmax\u001b[39m\u001b[38;5;124m\"\u001b[39m: dt},\n\u001b[1;32m      6\u001b[0m }\n\u001b[0;32m----> 7\u001b[0m dynamics_backend \u001b[38;5;241m=\u001b[39m DynamicsBackend\u001b[38;5;241m.\u001b[39mfrom_backend(\n\u001b[1;32m      8\u001b[0m     fake_backend_v2, subsystem_list\u001b[38;5;241m=\u001b[39mqubit_tgt_register, \u001b[38;5;241m*\u001b[39m\u001b[38;5;241m*\u001b[39mdynamics_options\n\u001b[1;32m      9\u001b[0m )\n\u001b[1;32m     11\u001b[0m dynamics_backend\u001b[38;5;241m.\u001b[39mtarget\u001b[38;5;241m.\u001b[39mqubit_properties \u001b[38;5;241m=\u001b[39m fake_backend_v2\u001b[38;5;241m.\u001b[39mqubit_properties(\n\u001b[1;32m     12\u001b[0m     qubit_tgt_register\n\u001b[1;32m     13\u001b[0m )\n\u001b[1;32m     15\u001b[0m \u001b[38;5;66;03m# Extract channel frequencies and Solver instance from backend to provide a pulse level simulation enabling\u001b[39;00m\n\u001b[1;32m     16\u001b[0m \u001b[38;5;66;03m# fidelity benchmarking\u001b[39;00m\n",
      "File \u001b[0;32m~/anaconda3/envs/rl_qoc/lib/python3.11/site-packages/qiskit_dynamics/backend/dynamics_backend.py:740\u001b[0m, in \u001b[0;36mDynamicsBackend.from_backend\u001b[0;34m(cls, backend, subsystem_list, rotating_frame, array_library, vectorized, rwa_cutoff_freq, **options)\u001b[0m\n\u001b[1;32m    737\u001b[0m subsystem_dims \u001b[38;5;241m=\u001b[39m [subsystem_dims_dict\u001b[38;5;241m.\u001b[39mget(idx, \u001b[38;5;241m1\u001b[39m) \u001b[38;5;28;01mfor\u001b[39;00m idx \u001b[38;5;129;01min\u001b[39;00m \u001b[38;5;28mrange\u001b[39m(backend_num_qubits)]\n\u001b[1;32m    739\u001b[0m \u001b[38;5;66;03m# construct model frequencies dictionary from backend\u001b[39;00m\n\u001b[0;32m--> 740\u001b[0m channel_freqs \u001b[38;5;241m=\u001b[39m _get_backend_channel_freqs(\n\u001b[1;32m    741\u001b[0m     backend_target\u001b[38;5;241m=\u001b[39mbackend_target,\n\u001b[1;32m    742\u001b[0m     backend_config\u001b[38;5;241m=\u001b[39mbackend_config,\n\u001b[1;32m    743\u001b[0m     backend_defaults\u001b[38;5;241m=\u001b[39mbackend_defaults,\n\u001b[1;32m    744\u001b[0m     channels\u001b[38;5;241m=\u001b[39mhamiltonian_channels,\n\u001b[1;32m    745\u001b[0m )\n\u001b[1;32m    747\u001b[0m \u001b[38;5;66;03m# Add control_channel_map from backend (only if not specified before by user)\u001b[39;00m\n\u001b[1;32m    748\u001b[0m \u001b[38;5;28;01mif\u001b[39;00m \u001b[38;5;124m\"\u001b[39m\u001b[38;5;124mcontrol_channel_map\u001b[39m\u001b[38;5;124m\"\u001b[39m \u001b[38;5;129;01mnot\u001b[39;00m \u001b[38;5;129;01min\u001b[39;00m options:\n",
      "File \u001b[0;32m~/anaconda3/envs/rl_qoc/lib/python3.11/site-packages/qiskit_dynamics/backend/dynamics_backend.py:1127\u001b[0m, in \u001b[0;36m_get_backend_channel_freqs\u001b[0;34m(backend_target, backend_config, backend_defaults, channels)\u001b[0m\n\u001b[1;32m   1125\u001b[0m     freq \u001b[38;5;241m=\u001b[39m \u001b[38;5;241m0.0\u001b[39m\n\u001b[1;32m   1126\u001b[0m     \u001b[38;5;28;01mfor\u001b[39;00m channel_lo \u001b[38;5;129;01min\u001b[39;00m u_channel_lo[idx]:\n\u001b[0;32m-> 1127\u001b[0m         freq \u001b[38;5;241m+\u001b[39m\u001b[38;5;241m=\u001b[39m drive_frequencies[channel_lo\u001b[38;5;241m.\u001b[39mq] \u001b[38;5;241m*\u001b[39m channel_lo\u001b[38;5;241m.\u001b[39mscale\n\u001b[1;32m   1129\u001b[0m     channel_freqs[channel] \u001b[38;5;241m=\u001b[39m freq\n\u001b[1;32m   1131\u001b[0m \u001b[38;5;66;03m# validate that all channels have frequencies\u001b[39;00m\n",
      "\u001b[0;31mAttributeError\u001b[0m: 'dict' object has no attribute 'q'"
     ]
    }
   ],
   "execution_count": 9
  },
  {
   "metadata": {},
   "cell_type": "markdown",
   "source": "#### 2. Using a custom Hamiltonian model",
   "id": "a7a524b80b43329b"
  },
  {
   "metadata": {},
   "cell_type": "code",
   "outputs": [],
   "execution_count": null,
   "source": [
    "r = 0.1e9\n",
    "\n",
    "# Frequency of the qubit transition in GHz.\n",
    "w = 5e9\n",
    "# Sample rate of the backend in ns.\n",
    "dt = 2.2222222e-10\n",
    "\n",
    "drift = 2 * np.pi * w * Operator.from_label(\"Z\") / 2\n",
    "operators = [2 * np.pi * r * Operator.from_label(\"X\") / 2]\n",
    "\n",
    "hamiltonian_solver = Solver(\n",
    "    static_hamiltonian=drift,\n",
    "    hamiltonian_operators=operators,\n",
    "    rotating_frame=drift,\n",
    "    rwa_cutoff_freq=2 * 5e9,\n",
    "    hamiltonian_channels=[\"d0\"],\n",
    "    channel_carrier_freqs={\"d0\": w},\n",
    "    dt=dt,\n",
    ")\n",
    "\n",
    "custom_backend = DynamicsBackend(hamiltonian_solver, **dynamics_options)"
   ],
   "id": "c00b822a299086f9"
  },
  {
   "metadata": {},
   "cell_type": "markdown",
   "source": [
    "### Choose backend and define Qiskit config dictionary\n",
    "Below, set the Backend that you would like to run among the above defined backend.\n",
    "Then define the config gathering all the components enabling the definition of the ```QuantumEnvironment```.\n",
    "\n"
   ],
   "id": "755ac0d34fb72f07"
  },
  {
   "metadata": {},
   "cell_type": "code",
   "outputs": [],
   "execution_count": null,
   "source": [
    "# Choose backend among the set defined above: {runtime_backend, dynamics_backend, custom_backend}\n",
    "backend = dynamics_backend"
   ],
   "id": "78dbff3e1b5e43f8"
  },
  {
   "metadata": {},
   "cell_type": "code",
   "outputs": [],
   "execution_count": null,
   "source": [
    "from qiskit.circuit.library import CXGate\n",
    "from rl_qoc.helpers import perform_standard_calibrations\n",
    "\n",
    "cals, results = perform_standard_calibrations(backend)"
   ],
   "id": "de963758b8514755"
  },
  {
   "metadata": {},
   "cell_type": "markdown",
   "source": [
    "## 2. Define quantum target: State preparation or Gate calibration\n",
    "\n",
    "The target of our optimal control task can be of two different types:\n",
    "1.  An arbitrary quantum state to prepare with high accuracy\n",
    "2. A Quantum Gate to be calibrated in a noise-robust manner\n",
    "\n",
    "Both targets are dictionaries that are identified with a key stating their ```target_type```, which can be either ```\"state\"``` or ```\"gate\"```.\n",
    "\n",
    "For a gate target $G$, one can add the target quantum gate with a ```\"gate\"``` argument specifying a specific instance of a Qiskit ```Gate``` object. Here, we settle for calibrating a ```XGate()```.\n",
    "Moreover, a gate calibration requires a set of input states $\\{|s_i\\rangle \\}$ to be provided, such that the agent can try to set the actions such that the fidelity between the anticipated ideal target state (calculated as  $G|s_i\\rangle$) and the output state are simultaneously maximized. To ensure a correlation between the average reward computed from the measurement outcomes and the average gate fidelity, the provided set of input states must be tomographically complete. Note that providing the set of ```input_states```as depicted below is optional and should be done only if you have a specific set to implement, by default it is internally set to the Pauli basis preparation stage.\n",
    "\n",
    "For a state target, one can provide, similarly to an input state, an ideal circuit to prepare it (```\"circuit\": QuantumCircuit```, or a density matrix (key ```\"dm\": DensityMatrix```). Below, we settle for giving a ```QuantumCircuit```for each input state, from the elementary operations present in ```qiskit.opflow```(which will be deprecated soon, and should therefore be replaced in the future by the ```QuantumCircuit```itself.\n",
    "\n",
    "Another important key that should figure in the dictionary is the ```\"register\"``` indicating the qubits indices that should be addressed by this target, i.e. upon which qubits should the target be engineered. The register can be a list of indices for qubits to be addressed in the circuit, or a ```QuantumRegister```object. If register is not provided, then by default the target register will be the list of all qubits defined up to ```Gate().num_qubits```."
   ],
   "id": "d5a1df11e1229462"
  },
  {
   "metadata": {},
   "cell_type": "code",
   "outputs": [],
   "execution_count": null,
   "source": [
    "from qiskit.circuit.library import XGate\n",
    "\n",
    "# Example of target gate\n",
    "X_tgt = GateTarget(gate=XGate(), physical_qubits=qubit_tgt_register)"
   ],
   "id": "7d45470966aed6dc"
  },
  {
   "metadata": {},
   "cell_type": "code",
   "outputs": [],
   "execution_count": null,
   "source": [
    "# Choose which target to use\n",
    "target = X_tgt"
   ],
   "id": "f818dec799495c5"
  },
  {
   "metadata": {},
   "cell_type": "markdown",
   "source": [
    "## 3. Declare QuantumEnvironment object\n",
    "Running the box below declares the QuantumEnvironment instance.\n",
    "\n",
    "If selected backend is a ```DynamicsBackend```, this declaration launches a series of single qubit gate calibrations (to calibrate X and SX gate). The reason for this is that the Estimator primitive, which enables the easy calculation of Pauli expectation values, needs to append gates for doing Pauli basis rotations (SX and Rz gate)."
   ],
   "id": "e44e9d06734b17cd"
  },
  {
   "metadata": {},
   "cell_type": "code",
   "outputs": [],
   "execution_count": null,
   "source": [
    "from rl_qoc.environment.configuration import BenchmarkConfig\n",
    "\n",
    "# Define quantum environment\n",
    "execution_config = ExecutionConfig(\n",
    "    n_shots=N_shots,\n",
    "    batchsize=batchsize,\n",
    "    n_reps=1,\n",
    "    sampling_paulis=sampling_Paulis,\n",
    "    c_factor=1.0,\n",
    ")\n",
    "\n",
    "benchmark_config = BenchmarkConfig(benchmark_cycle=5)\n",
    "# Wrap all backend related info in one BackendConfig\\n"
    "\n",
    "q_env_config = QEnvConfig(\n",
    "    target=target,\n",
    "    backend=backend,\\n",
    "    parametrized_circuit=apply_parametrized_circuit,\\n",
    "    action_space=action_space,\n",
    "    execution_config=execution_config,\n",
    "    benchmark_config=benchmark_config,\n",
    "    parametrized_circuit_kwargs={\\n",
    "        \"n_actions\": n_actions,\\n",
    "        \"backend\": backend,\\n",
    "        \"target\": target,\\n",
    "    },\\n",
    "    calibration_files=calibration_files,\\n",
    ")"
   ],
   "id": "d9ebc517a16f0903"
  },
  {
   "metadata": {},
   "cell_type": "code",
   "outputs": [],
   "execution_count": null,
   "source": [
    "%%time\n",
    "q_env = QuantumEnvironment(q_env_config)"
   ],
   "id": "dea9a3bb2ad69675"
  },
  {
   "metadata": {},
   "cell_type": "code",
   "outputs": [],
   "execution_count": null,
   "source": "control_channel_map",
   "id": "5e8113ac0fc79d9e"
  },
  {
   "metadata": {},
   "cell_type": "code",
   "outputs": [],
   "execution_count": null,
   "source": [
    "from qiskit import transpile\n",
    "\n",
    "transpile(q_env.circuit_truncations[0], dynamics_backend).draw(output=\"mpl\")"
   ],
   "id": "538cee5c07c6f50f"
  },
  {
   "metadata": {},
   "cell_type": "markdown",
   "source": "# Defining the RL agent: PPO",
   "id": "6ee6b5f2e42a7ea2"
  },
  {
   "metadata": {},
   "cell_type": "code",
   "outputs": [],
   "execution_count": null,
   "source": [
    "\"\"\"\n",
    "-----------------------------------------------------------------------------------------------------\n",
    "Hyperparameters for RL agent\n",
    "-----------------------------------------------------------------------------------------------------\n",
    "\"\"\"\n",
    "\n",
    "%time\n",
    "n_epochs = 200  # Number of epochs\n",
    "opti = \"Adam\"  # Optimizer choice\n",
    "eta = 0.001  # Learning rate for policy update step\n",
    "eta_2 = None  # Learning rate for critic (value function) update step\n",
    "\n",
    "use_PPO = True\n",
    "epsilon = 0.1  # Parameter for clipping value (PPO)\n",
    "grad_clip = 0.01\n",
    "critic_loss_coeff = 0.5\n",
    "optimizer = select_optimizer(\n",
    "    lr=eta, optimizer=opti, grad_clip=grad_clip, concurrent_optimization=True, lr2=eta_2\n",
    ")\n",
    "sigma_eps = 1e-3  # for numerical stability"
   ],
   "id": "efe6ef5d2c0415a3"
  },
  {
   "metadata": {},
   "cell_type": "code",
   "outputs": [],
   "execution_count": null,
   "source": [
    "\"\"\"\n",
    "-----------------------------------------------------------------------------------------------------\n",
    "Policy parameters\n",
    "-----------------------------------------------------------------------------------------------------\n",
    "\"\"\"\n",
    "\n",
    "N_in = obs_space.shape[-1]  # One input for each measured qubit state (0 or 1 input for each neuron)\n",
    "hidden_units = [82, 82]  # List containing number of units in each hidden layer\n",
    "\n",
    "network = generate_model((N_in,), hidden_units, n_actions, actor_critic_together=True)\n",
    "network.summary()\n",
    "init_msmt = np.zeros(\n",
    "    (1, N_in)\n",
    ")  # Here no feedback involved, so measurement sequence is always the same"
   ],
   "id": "3e1e01c34c6d168f"
  },
  {
   "metadata": {},
   "cell_type": "code",
   "outputs": [],
   "execution_count": null,
   "source": [
    "# Plotting tools\n",
    "plt.rcParams[\"figure.dpi\"] = 300\n",
    "plt.rcParams[\"savefig.dpi\"] = 300\n",
    "avg_return = np.zeros(n_epochs)\n",
    "fidelities = np.zeros(n_epochs)\n",
    "visualization_steps = 5\n",
    "%matplotlib inline\n",
    "do_benchmark = False"
   ],
   "id": "26490711263acaea"
  },
  {
   "metadata": {},
   "cell_type": "markdown",
   "source": "## Run algorithm",
   "id": "75cdf03b36ff511a"
  },
  {
   "metadata": {},
   "cell_type": "code",
   "outputs": [],
   "execution_count": null,
   "source": [
    "\"\"\"\n",
    "-----------------------------------------------------------------------------------------------------\n",
    "Training loop\n",
    "-----------------------------------------------------------------------------------------------------\n",
    "\"\"\"\n",
    "\n",
    "%time\n",
    "q_env.clear_history()\n",
    "mu_old = tf.Variable(initial_value=network(init_msmt)[0][0], trainable=False)\n",
    "sigma_old = tf.Variable(initial_value=network(init_msmt)[1][0], trainable=False)\n",
    "\n",
    "for i in tqdm(range(n_epochs)):\n",
    "    Old_distrib = MultivariateNormalDiag(\n",
    "        loc=mu_old, scale_diag=sigma_old, validate_args=True, allow_nan_stats=False\n",
    "    )\n",
    "    obs, _ = q_env.reset()\n",
    "    print(\"\\n Epoch\", i)\n",
    "\n",
    "    with tf.GradientTape(persistent=True) as tape:\n",
    "        mu, sigma, b = network(init_msmt, training=True)\n",
    "        mu = tf.squeeze(mu, axis=0)\n",
    "        sigma = tf.squeeze(sigma, axis=0)\n",
    "        b = tf.squeeze(b, axis=0)\n",
    "\n",
    "        Policy_distrib = MultivariateNormalDiag(\n",
    "            loc=mu, scale_diag=sigma, validate_args=True, allow_nan_stats=False\n",
    "        )\n",
    "\n",
    "        action_vector = tf.stop_gradient(\n",
    "            tf.clip_by_value(Policy_distrib.sample(batchsize), -0.5, 0.5)\n",
    "        )\n",
    "        # Adjust the action vector according to params physical significance\n",
    "        reward = q_env.perform_action(action_vector)\n",
    "        advantage = reward - b\n",
    "\n",
    "        if use_PPO:\n",
    "            ratio = Policy_distrib.prob(action_vector) / (\n",
    "                tf.stop_gradient(Old_distrib.prob(action_vector)) + 1e-6\n",
    "            )\n",
    "            actor_loss = -tf.reduce_mean(\n",
    "                tf.minimum(\n",
    "                    advantage * ratio,\n",
    "                    advantage * tf.clip_by_value(ratio, 1 - epsilon, 1 + epsilon),\n",
    "                )\n",
    "            )\n",
    "        else:  # REINFORCE algorithm\n",
    "            actor_loss = -tf.reduce_mean(advantage * Policy_distrib.log_prob(action_vector))\n",
    "\n",
    "        critic_loss = tf.reduce_mean(advantage**2)\n",
    "        combined_loss = actor_loss + critic_loss_coeff * critic_loss\n",
    "\n",
    "    grads = tape.gradient(combined_loss, network.trainable_variables)\n",
    "    print(\"Policy params\", np.array(mu), \"+-\", np.array(sigma))\n",
    "    # For PPO, update old parameters to have access to \"old\" policy\n",
    "    if use_PPO:\n",
    "        mu_old.assign(mu)\n",
    "        sigma_old.assign(sigma)\n",
    "\n",
    "    avg_return[i] = np.mean(q_env.reward_history, axis=1)[i]\n",
    "    print(\"Average reward\", avg_return[i])\n",
    "    if do_benchmark:\n",
    "        if target[\"target_type\"] == \"gate\":\n",
    "            fidelities[i] = q_env.avg_fidelity_history[i]\n",
    "            print(\"Average Gate fidelity\", fidelities[i])\n",
    "        else:\n",
    "            fidelities[i] = q_env.state_fidelity_history[i]\n",
    "            print(\"State fidelity\", fidelities[i])\n",
    "    if i % visualization_steps == 0:\n",
    "        clear_output(wait=True)  # for animation\n",
    "        fig, ax = plt.subplots()\n",
    "        ax.plot(\n",
    "            np.arange(1, n_epochs, visualization_steps),\n",
    "            avg_return[0:-1:visualization_steps],\n",
    "            \"-.\",\n",
    "            label=\"Average return\",\n",
    "        )\n",
    "        if do_benchmark:\n",
    "            ax.plot(\n",
    "                np.arange(1, n_epochs, visualization_steps),\n",
    "                fidelities[0:-1:visualization_steps],\n",
    "                label=\"Average Gate Fidelity\",\n",
    "            )\n",
    "        ax.set_xlabel(\"Epoch\")\n",
    "        ax.set_ylabel(\"Reward/Gate Fidelity\")\n",
    "        ax.legend()\n",
    "        plt.show()\n",
    "        if do_benchmark:\n",
    "            print(\n",
    "                \"Maximum fidelity reached so far:\",\n",
    "                np.max(fidelities),\n",
    "                \"at Epoch\",\n",
    "                np.argmax(fidelities),\n",
    "            )\n",
    "        print(\n",
    "            \"Maximum return reached so far:\",\n",
    "            np.max(avg_return),\n",
    "            \"at Epoch\",\n",
    "            np.argmax(avg_return),\n",
    "        )\n",
    "        # Apply gradients\n",
    "    optimizer.apply_gradients(zip(grads, network.trainable_variables))\n",
    "q_env.close()"
   ],
   "id": "a32d41d98fbc2f36"
  },
  {
   "cell_type": "code",
   "source": [
    "plt.plot(\n",
    "    np.arange(0, 200, q_env.benchmark_cycle),\n",
    "    q_env.avg_fidelity_history,\n",
    "    label=\"Average gate fidelity\",\n",
    ")\n",
    "plt.plot(np.mean(q_env.reward_history, axis=1), label=\"Average reward\")\n",
    "plt.legend()"
   ],
   "metadata": {
    "collapsed": false,
    "ExecuteTime": {
     "end_time": "2024-02-21T06:45:57.875572Z",
     "start_time": "2024-02-21T06:45:57.695615Z"
    }
   },
   "id": "c426bba56685f2eb",
   "execution_count": 52,
   "outputs": []
  },
  {
   "cell_type": "code",
   "source": [],
   "metadata": {
    "collapsed": false
   },
   "id": "d0ecd69def728f55",
   "execution_count": null,
   "outputs": []
  }
 ],
 "metadata": {
  "kernelspec": {
   "display_name": "Python 3 (ipykernel)",
   "language": "python",
   "name": "python3"
  },
  "language_info": {
   "codemirror_mode": {
    "name": "ipython",
    "version": 3
   },
   "file_extension": ".py",
   "mimetype": "text/x-python",
   "name": "python",
   "nbconvert_exporter": "python",
   "pygments_lexer": "ipython3",
   "version": "3.9.16"
  }
 },
 "nbformat": 4,
 "nbformat_minor": 5
}

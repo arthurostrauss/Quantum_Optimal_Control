{
 "cells": [
  {
   "cell_type": "markdown",
   "id": "b12bc6a1-4343-44e0-87d0-382f37d93d81",
   "metadata": {
    "tags": []
   },
   "source": [
    "# Context aware pulse gate calibration with Reinforcement Learning\n",
    "\n",
    "In this notebook, we explore the context aware optimization subroutine through a pulse level gate calibration procedure, taking an Echoed Cross Resonance (ECR) gate as a baseline gate to be optimized by the RL agent."
   ]
  },
  {
   "cell_type": "code",
   "id": "0b888496-4b36-4a63-817e-2ca4137e6ad7",
   "metadata": {
    "tags": [],
    "ExecuteTime": {
     "end_time": "2024-06-21T06:39:29.927685Z",
     "start_time": "2024-06-21T06:39:29.921006Z"
    }
   },
   "source": [
    "import os\n",
    "\n",
    "os.environ[\"KMP_DUPLICATE_LIB_OK\"] = \"True\""
   ],
   "outputs": [],
   "execution_count": 1
  },
  {
   "metadata": {},
   "cell_type": "code",
   "outputs": [],
   "execution_count": null,
   "source": [
    "# Qiskit imports\n",
    "from qiskit import pulse, transpile\n",
    "from qiskit.circuit import (\n",
    "    ParameterVector,\n",
    "    QuantumCircuit,\n",
    "    QuantumRegister,\n",
    "    Gate,\n",
    ")\n",
    "from rl_qoc import QuantumEnvironment, CustomPPO, ContextAwareQuantumEnvironment\n",
    "from rl_qoc.helpers import (\n",
    "    get_control_channel_map,\n",
    "    load_from_yaml_file,\n",
    ")\n",
    "\n",
    "from rl_qoc.config import (\n",
    "    QEnvConfig,\n",
    "    ActionSpace,\n",
    "    BackendConfig,\n",
    "    ExecutionConfig,\n",
    "    GateTarget,\n",
    ")\n",
    "import numpy as np\n",
    "from typing import Optional\n",
    "import matplotlib.pyplot as plt"
   ],
   "id": "acdaa51e43f75b9b"
  },
  {
   "metadata": {},
   "cell_type": "markdown",
   "source": "# Circuit macros for environment",
   "id": "20970895d38d9c5"
  },
  {
   "metadata": {},
   "cell_type": "markdown",
   "source": [
    "Below we define functions defining our way of parametrizing the custom gate we intend to calibrate. In the pulse gate scenario, we define two functions for clearly separating the abstraction layers that are intertwined here.\n",
    "The function ```apply_parametrized_circuit``` creates a custom parametrized ```Gate``` (which can be derived from a predefined Qiskit gate to retrieve its logical effect) and appends it to a ```QuantumCircuit``` given in input. The parametrization of the gate is provided by the ```params: ParameterVector``` argument of the function and is used to build a custom calibration of the gate. This custom calibration is defined in the second function called ```custom_schedule```, which builds a custom parametrized pulse schedule that can be attached to the gate calibration (see this tutorial for more info: https://qiskit.org/documentation/tutorials/circuits_advanced/05_pulse_gates.html).\n",
    "In our approach, we design a custom schedule starting from the baseline calibration already available from IBMQ calibration results. The parameters of our custom schedule are in this framework deviations over baseline parameters of the original calibration, meant to evolve to address the particular circuit context in which the gate is going to be executed."
   ],
   "id": "b95195f01cfdc8e8"
  },
  {
   "metadata": {},
   "cell_type": "code",
   "outputs": [],
   "execution_count": null,
   "source": [
    "from qiskit.providers import BackendV1, BackendV2\n",
    "from qiskit_experiments.calibration_management import Calibrations\n",
    "from qiskit_experiments.calibration_management import (\n",
    "    FixedFrequencyTransmon,\n",
    "    EchoedCrossResonance,\n",
    ")\n",
    "from rl_qoc.helpers import get_ecr_params\n",
    "\n",
    "\n",
    "def custom_schedule(\n",
    "    backend: BackendV1 | BackendV2,\n",
    "    physical_qubits: list,\n",
    "    params: ParameterVector,\n",
    "    keep_symmetry: bool = True,\n",
    "):\n",
    "    \"\"\"\n",
    "    Define parametrization of the pulse schedule characterizing the target gate.\n",
    "    This function can be customized at will, however one shall recall to make sure that number of actions match the\n",
    "    number of pulse parameters used within the function (throught the params argument).\n",
    "        :param backend: IBM Backend on which schedule shall be added\n",
    "        :param physical_qubits: Physical qubits on which custom gate is applied on\n",
    "        :param params: Parameters of the Schedule/Custom gate\n",
    "        :param keep_symmetry: Choose if the two parts of the ECR tone shall be jointly parametrized or not\n",
    "\n",
    "        :return: Parametrized Schedule\n",
    "    \"\"\"\n",
    "    # Load here all pulse parameters names that should be tuned during model-free calibration.\n",
    "    # Here we focus on real time tunable pulse parameters (amp, angle, duration)\n",
    "    pulse_features = [\"amp\", \"angle\", \"tgt_amp\", \"tgt_angle\"]\n",
    "\n",
    "    # Uncomment lines below to include pulse duration as tunable parameter\n",
    "    # pulse_features.append(\"duration\")\n",
    "    duration_window = 0\n",
    "\n",
    "    new_params, _, _, _ = get_ecr_params(backend, physical_qubits)\n",
    "\n",
    "    qubits = tuple(physical_qubits)\n",
    "\n",
    "    if keep_symmetry:  # Maintain symmetry between the two GaussianSquare pulses\n",
    "        for sched in [\"cr45p\", \"cr45m\"]:\n",
    "            for i, feature in enumerate(pulse_features):\n",
    "                if feature != \"duration\":\n",
    "                    new_params[(feature, qubits, sched)] += params[i]\n",
    "                else:\n",
    "                    new_params[(feature, qubits, sched)] += pulse.builder.seconds_to_samples(\n",
    "                        duration_window * params[i]\n",
    "                    )\n",
    "    else:\n",
    "        num_features = len(pulse_features)\n",
    "        for i, sched in enumerate([\"cr45p\", \"cr45m\"]):\n",
    "            for j, feature in enumerate(pulse_features):\n",
    "                if feature != \"duration\":\n",
    "                    new_params[(feature, qubits, sched)] += params[i * num_features + j]\n",
    "                else:\n",
    "                    new_params[(feature, qubits, sched)] += pulse.builder.seconds_to_samples(\n",
    "                        duration_window * params[i * num_features + j]\n",
    "                    )\n",
    "\n",
    "    cals = Calibrations.from_backend(\n",
    "        backend,\n",
    "        [\n",
    "            FixedFrequencyTransmon([\"x\", \"sx\"]),\n",
    "            EchoedCrossResonance([\"cr45p\", \"cr45m\", \"ecr\"]),\n",
    "        ],\n",
    "        add_parameter_defaults=True,\n",
    "    )\n",
    "\n",
    "    # Retrieve schedule (for now, works only with ECRGate(), as no library yet available for CX)\n",
    "    parametrized_schedule = cals.get_schedule(\"ecr\", physical_qubits, assign_params=new_params)\n",
    "    return parametrized_schedule"
   ],
   "id": "5889fb288b411033"
  },
  {
   "metadata": {},
   "cell_type": "code",
   "outputs": [],
   "execution_count": null,
   "source": [
    "# Pulse gate ansatz\n",
    "\n",
    "\n",
    "def apply_parametrized_circuit(\n",
    "    qc: QuantumCircuit,\n",
    "    params: Optional[ParameterVector] = None,\n",
    "    tgt_register: Optional[QuantumRegister] = None,\n",
    "):\n",
    "    \"\"\"\n",
    "    Define ansatz circuit to be played on Quantum Computer. Should be parametrized with Qiskit ParameterVector\n",
    "    This function is used to run the QuantumCircuit instance on a Runtime backend\n",
    "    :param qc: Quantum Circuit instance to add the gate on\n",
    "    :param params: Parameters of the custom Gate\n",
    "    :param tgt_register: Quantum Register formed of target qubits\n",
    "    :return:\n",
    "    \"\"\"\n",
    "    # qc.num_qubits\n",
    "    global backend, target, action_space\n",
    "\n",
    "    gate, physical_qubits = target.gate, target.physical_qubits\n",
    "    # x_pulse = backend.defaults().instruction_schedule_map.get('x', (qubit_tgt_register,)).instructions[0][1].pulse\n",
    "    if params is None:\n",
    "        params = ParameterVector(\"theta\", action_space.n_actions)\n",
    "    if tgt_register is None:\n",
    "        tgt_register = qc.qregs[0]\n",
    "\n",
    "    # Choose below which target gate you'd like to calibrate\n",
    "    parametrized_gate = Gate(\"custom_ecr\", 2, params=params.params)\n",
    "    # parametrized_gate = gate.copy()\n",
    "    # parametrized_gate.params = params.params\n",
    "    parametrized_schedule = custom_schedule(\n",
    "        backend=backend, physical_qubits=physical_qubits, params=params\n",
    "    )\n",
    "    qc.add_calibration(parametrized_gate, physical_qubits, parametrized_schedule)\n",
    "    qc.append(parametrized_gate, tgt_register)"
   ],
   "id": "f7678828f7a91982"
  },
  {
   "metadata": {},
   "cell_type": "markdown",
   "source": "# Definition of QuantumEnvironment",
   "id": "568b3eb08ce76f1b"
  },
  {
   "metadata": {},
   "cell_type": "markdown",
   "source": [
    "## Generic information characterizing the quantum system\n",
    "\n",
    "The algorithm is built upon Qiskit modules. To specify how to address our quantum system of interest, we therefore adopt the IBM approach to define a quantum backend, on which qubits are defined and can be accessed via control actions and measurements.\n",
    "\n",
    "The cell below specifies:\n",
    "- ```physical_qubits```: List of qubit indices which are specifically addressed by controls , namely the ones for which we intend to calibrate a gate upon or steer them in a specific quantum state. Note that this list could include less qubits than the total number of qubits, which can be useful when one wants to take into account crosstalk effects emerging from nearest-neigbor coupling.\n",
    "- ```sampling_Paulis```: number of Pauli observables  to be sampled from the system: the algorithm relies on the ability to process measurement outcomes to estimate the expectation value of different Pauli operators. The more observables we provide for sampling, the more properties we are able to deduce with accuracy about the actual state that was created when applying our custom controls. For a single qubit, the possible Pauli operators are $\\sigma_0=I$, $\\sigma_x=X$, $\\sigma_y=Y$, $\\sigma_z=Z$. For a general multiqubit system, the Pauli observables are tensor products of those single qubit Pauli operators. The algorithm will automatically estimate which observables are the most relevant to sample based on the provided target. The probability distribution from which those observables are sampled is derived from the Direct Fidelity Estimation (equation 3, https://link.aps.org/doi/10.1103/PhysRevLett.106.230501) algorithm. \n",
    "- ```N_shots```: Indicates how many measurements shall be done for each provided circuit (that is a specific combination of an action vector and a Pauli observable to be sampled)\n",
    "- ```n_actions```: Indicates the number of pulse/circuit parameters that characterize our parametrized quantum circuit. For our pulse level ansatz, this number will depend on the number of parameters we are willing to tune in the original two-qubit gate calibration. \n",
    "- ```estimator_options```: Options of the Qiskit Estimator primitive. The Estimator is the Qiskit module enabling an easy computation of Pauli expectation values. One can set options to make this process more reliable (typically by doing some error mitigation techniques in post-processing). Works only with Runtime Backend at the moment\n",
    "- ```abstraction_level``` chosen to encode our quantum circuit. One can choose here to stick to the usual circuit model of quantum computing, by using the ```QuantumCircuit``` objects from Qiskit and therefore set the ```abstraction_level``` to ```\\\"circuit\\\"```. However, depending on the task at hand, one can also prefer to use a pulse description of all the operations in our circuit. This is possible for both real backends and simulators by using respectively Qiskit Runtime and Qiskit Dynamics. In this case, one should define the ansatz circuit above in a pulse level fashion, and the simulation done at the Hamiltonian level, and not only via statevector calculations. In this notebook we set the ```abstraction_level``` to ```\\\"pulse\\\"```. Another notebook at the gate level is available in the repo."
   ],
   "id": "5cc7427a64c04eef"
  },
  {
   "metadata": {},
   "cell_type": "code",
   "outputs": [],
   "execution_count": null,
   "source": [
    "physical_qubits = [0, 1]\n",
    "n_actions = 4\n",
    "action_space = ActionSpace(n_actions, -0.5, 0.5)\n",
    "sampling_Paulis = 50\n",
    "N_shots = 200\n",
    "abstraction_level = \"pulse\"\n",
    "batch_size = 50"
   ],
   "id": "8f99f467abe5e6cc"
  },
  {
   "metadata": {},
   "cell_type": "markdown",
   "source": "## Setting up Quantum Backend",
   "id": "f8a0ee6a91ffe983"
  },
  {
   "metadata": {},
   "cell_type": "markdown",
   "source": [
    "### Simulation backend initialization: Qiskit Dynamics\n",
    "If you want to run the algorithm over a simulation, one can use Qiskit Dynamics for pulse level simulation of quantum circuits. Below we set the ground for declaring a ```DynamicsBackend```.\n",
    "\n",
    "This can be done in two ways: \n",
    "\n",
    "1. Declare a ```DynamicsBackend``` from a ```FakeBackend``` or ```IBMBackend``` instance and use the ```from_backend()``` method to retrieve the Hamiltonian description of such backend.\n",
    "2. Alternatively, you can define your own custom Hamiltonian/Linblad that should be used to simulate the multiqubit system of interest, and feed it to a ```Solver``` instance which can be used to declare the ```DynamicsBackend```.\n",
    "For more information you can check Qiskit Dynamics documentation (https://qiskit.org/documentation/dynamics/apidocs/backend.html)\n"
   ],
   "id": "f2d4e2cc95e2dfb0"
  },
  {
   "metadata": {},
   "cell_type": "code",
   "outputs": [],
   "execution_count": null,
   "source": [
    "from qiskit_ibm_runtime.fake_provider import FakeJakartaV2\n",
    "from rl_qoc.helpers import get_control_channel_map\n",
    "from qiskit_dynamics import DynamicsBackend, Solver\n",
    "from qiskit_dynamics.array import Array\n",
    "import jax\n",
    "\n",
    "jax.config.update(\"jax_enable_x64\", True)\n",
    "# tell JAX we are using CPU\n",
    "jax.config.update(\"jax_platform_name\", \"cpu\")\n",
    "# import Array and set default backend\n",
    "\n",
    "Array.set_default_backend(\"jax\")\n",
    "fake_backend_v2 = FakeJakartaV2()\n",
    "control_channel_map = get_control_channel_map(fake_backend_v2, physical_qubits)\n",
    "dt = fake_backend_v2.target.dt\n",
    "print(\"Coupling Map: \", list(fake_backend_v2.coupling_map.get_edges()))"
   ],
   "id": "7457f22ec3d107f3"
  },
  {
   "metadata": {},
   "cell_type": "code",
   "outputs": [],
   "execution_count": null,
   "source": [
    "dynamics_options = {\n",
    "    \"seed_simulator\": None,  # \"configuration\": fake_backend.configuration(),\n",
    "    \"control_channel_map\": control_channel_map,\n",
    "    \"solver_options\": {\"method\": \"jax_odeint\", \"atol\": 1e-6, \"rtol\": 1e-8, \"hmax\": dt},\n",
    "    \"array_library\": \"jax\",\n",
    "}\n",
    "qubit_properties = fake_backend_v2.qubit_properties(physical_qubits)\n",
    "\n",
    "# Extract channel frequencies and Solver instance from backend to provide a pulse level simulation enabling\n",
    "# fidelity benchmarking\n",
    "calibration_files = None"
   ],
   "id": "ea3b212571d1f09b"
  },
  {
   "metadata": {},
   "cell_type": "code",
   "outputs": [],
   "execution_count": null,
   "source": [
    "# Using the from_backend method\n",
    "\n",
    "dynamics_backend = DynamicsBackend.from_backend(\n",
    "    fake_backend_v2, subsystem_list=physical_qubits, **dynamics_options\n",
    ")\n",
    "dynamics_backend.target.qubit_properties = qubit_properties"
   ],
   "id": "7f3383b666ea7897"
  },
  {
   "metadata": {},
   "cell_type": "code",
   "outputs": [],
   "execution_count": null,
   "source": "print(dynamics_backend.coupling_map)",
   "id": "6c5583a88b201a13"
  },
  {
   "metadata": {},
   "cell_type": "code",
   "outputs": [],
   "execution_count": null,
   "source": "print(qubit_properties)",
   "id": "c39596cfa654cc59"
  },
  {
   "metadata": {},
   "cell_type": "markdown",
   "source": "## Select backend",
   "id": "378e37a8cc98048c"
  },
  {
   "metadata": {},
   "cell_type": "code",
   "outputs": [],
   "execution_count": null,
   "source": [
    "# Choose backend among the set defined above: {runtime_backend, dynamics_backend, custom_backend}\n",
    "from qiskit_ibm_runtime import IBMBackend as RuntimeBackend\n",
    "from rl_qoc.helpers import perform_standard_calibrations\n",
    "\n",
    "backend = dynamics_backend\n",
    "res, cals = perform_standard_calibrations(backend)\n",
    "print(\"Selected Backend: \", backend)\n",
    "if isinstance(backend, DynamicsBackend):\n",
    "    print(\"Subsystem dims: \", backend.options.subsystem_dims)\n",
    "elif isinstance(backend, RuntimeBackend):\n",
    "    print(\"Is Backend a Simulator backend:\", backend.simulator)\n",
    "print(\"Backend options\", backend.options)"
   ],
   "id": "79904b90850b2a2e"
  },
  {
   "metadata": {},
   "cell_type": "code",
   "outputs": [],
   "execution_count": null,
   "source": [
    "backend_config = BackendConfig(\n",
    "    parametrized_circuit=apply_parametrized_circuit,\n",
    "    backend=backend,\n",
    ")\n",
    "backend_config"
   ],
   "id": "7c04b191c0bd73e7"
  },
  {
   "metadata": {},
   "cell_type": "markdown",
   "source": [
    "## Define quantum target: State preparation or Gate calibration\n",
    "\n",
    "The target of our optimal control task can be of two different types:\n",
    "1.  An arbitrary quantum state to prepare with high accuracy\n",
    "2. A Quantum Gate to be calibrated in a noise-robust manner\n",
    "\n",
    "Both targets are dictionaries that are identified with a key stating their ```target_type```, which can be either ```\"state\"``` or ```\"gate\"```. The type is inferred by the target provided.\n",
    "\n",
    "For a gate target $G$, one can add the target quantum gate with a ```\"gate\"``` key specifying a specific instance of a Qiskit ```Gate``` object. Here, we settle for calibrating a ```ECRGate```, which is the two-qubit basis gate of latest IBM devices.\n",
    "Moreover, a gate calibration requires a set of input states $\\{|s_i\\rangle \\}$ to be provided, such that the agent can try to set the actions such that the fidelity between the anticipated ideal target state (calculated as  $G|s_i\\rangle$) and the output state are simultaneously maximized. To ensure a correlation between the average reward computed from the measurement outcomes and the average gate fidelity, the provided set of input states must be tomographically complete. Note that providing the set of ```input_states```as depicted below is optional and should be done only if you have a specific set to implement, by default it is internally set to the Pauli basis preparation stage.\n",
    "\n",
    "For a state target, one can provide, similarly to an input state, an ideal circuit to prepare it (```\"circuit\": QuantumCircuit```, or a density matrix (```\"dm\": DensityMatrix```)..\n",
    "\n",
    "Another important key that should figure in the dictionary is the ```\"register\"``` indicating the physical qubits that should be addressed by this target, i.e. upon which qubits should the target be engineered. The register can be a list of indices for qubits to be addressed in the circuit, or a ```QuantumRegister```object. If register is not provided, then by default the target register will be the list of all qubits defined up to ```Gate().num_qubits```."
   ],
   "id": "fcda510955921422"
  },
  {
   "metadata": {},
   "cell_type": "code",
   "outputs": [],
   "execution_count": null,
   "source": [
    "# Example of target gate\n",
    "from qiskit.circuit.library.standard_gates import ECRGate\n",
    "\n",
    "ECR_tgt = GateTarget(gate=ECRGate(), physical_qubits=physical_qubits)\n",
    "target = ECR_tgt\n",
    "print(target)"
   ],
   "id": "3055ac0dca1b2b6"
  },
  {
   "metadata": {},
   "cell_type": "code",
   "outputs": [],
   "execution_count": null,
   "source": [
    "from qiskit.visualization.pulse_v2 import IQXStandard\n",
    "\n",
    "default_params, features, instructions, pulses = get_ecr_params(\n",
    "    fake_backend_v2, physical_qubits=physical_qubits\n",
    ")\n",
    "\n",
    "instructions.draw(backend=fake_backend_v2, style=IQXStandard())"
   ],
   "id": "4b07fda58c0b11c7"
  },
  {
   "metadata": {},
   "cell_type": "markdown",
   "source": [
    "## Declare QuantumEnvironment object\n",
    "\n",
    "Running the box below declares the QuantumEnvironment instance.\n",
    "\n",
    "If selected backend is a ```DynamicsBackend```, this declaration launches a series of single qubit gate calibrations (to calibrate X and SX gate). The reason for this is that the Estimator primitive, which enables the computation of Pauli expectation values, requires calibrated single qubit gates for doing Pauli basis rotations (SX and RZ, to perform Hadamard and S gates)."
   ],
   "id": "51ccd2e93adc14cf"
  },
  {
   "metadata": {},
   "cell_type": "code",
   "outputs": [],
   "execution_count": null,
   "source": [
    "from rl_qoc.environment.configuration import BenchmarkConfig\n",
    "\n",
    "# Define quantum environment\n",
    "execution_config = ExecutionConfig(\n",
    "    n_shots=N_shots,\n",
    "    batch_size=batch_size,\n",
    "    sampling_paulis=sampling_Paulis,\n",
    "    c_factor=1.0,\n",
    ")\n",
    "\n",
    "benchmark_config = BenchmarkConfig(benchmark_cycle=10)\n",
    "q_env_config = QEnvConfig(\n",
    "    target=target,\n",
    "    backend_config=backend_config,\n",
    "    action_space=action_space,\n",
    "    execution_config=execution_config,\n",
    "    benchmark_config=benchmark_config,\n",
    ")"
   ],
   "id": "ab6839d2d703c7d6"
  },
  {
   "metadata": {},
   "cell_type": "code",
   "outputs": [],
   "execution_count": null,
   "source": [
    "from qiskit.visualization import (\n",
    "    plot_coupling_map,\n",
    "    plot_circuit_layout,\n",
    "    gate_map,\n",
    "    plot_gate_map,\n",
    ")\n",
    "from qiskit.visualization.pulse_v2 import IQXDebugging\n",
    "\n",
    "plot_gate_map(backend)"
   ],
   "id": "499a099e5fb4c5b6"
  },
  {
   "metadata": {},
   "cell_type": "markdown",
   "source": "# Definition of Circuit context",
   "id": "7a21abdab3324662"
  },
  {
   "metadata": {},
   "cell_type": "markdown",
   "source": "Now that we have established our ```QuantumEnvironment```, we will now focus on the main research point of this paper, which is to calibrate the target gate based on its location within a specific circuit context. As we will use PyTorch to build the interface between our agent and our environment, we will wrap up our original environment within a ```TorchQuantumEnvironment``` object, which will build a suitable environment for dynamical and contextual gate calibration. But first, we define the quantum circuit in which our target operation will appear.",
   "id": "eccfe35da9d90bc2"
  },
  {
   "metadata": {},
   "cell_type": "code",
   "outputs": [],
   "execution_count": null,
   "source": [
    "target_circuit = QuantumCircuit(2)\n",
    "target_circuit.h(0)\n",
    "target_circuit.cx(0, 1)\n",
    "target_circuit.x([0, 1])\n",
    "target_circuit.cx(0, 1)\n",
    "target_circuit.draw(\"mpl\")"
   ],
   "id": "bba39f9d560db8b3"
  },
  {
   "metadata": {},
   "cell_type": "markdown",
   "source": "To be able to see where our ECR gate shall appear in the circuit, we have to transpile this logical circuit to the backend. To ease the visualization, we add small functions to see the circuit only on relevant physical qubits.",
   "id": "807671c6bc80f2d4"
  },
  {
   "metadata": {},
   "cell_type": "code",
   "outputs": [],
   "execution_count": null,
   "source": [
    "from rl_qoc.helpers.circuit_utils import remove_unused_wires\n",
    "\n",
    "transpiled_circ = transpile(\n",
    "    target_circuit,\n",
    "    backend,\n",
    "    initial_layout=physical_qubits,\n",
    "    basis_gates=[\"sx\", \"rz\", \"ecr\", \"x\"],\n",
    "    optimization_level=1,\n",
    ")\n",
    "remove_unused_wires(transpiled_circ).draw(\"mpl\")"
   ],
   "id": "e79c36d58d6a4397"
  },
  {
   "metadata": {},
   "cell_type": "markdown",
   "source": "# Definition of ContextAwareQuantumEnvironment",
   "id": "6e5a326eb588ac72"
  },
  {
   "metadata": {},
   "cell_type": "markdown",
   "source": [
    "To define the ```ContextAwareQuantumEnvironment```, we follow the Gym like definition, where we provide the structure of the observation and action spaces.\n",
    "\n",
    "The class takes the following inputs:\n",
    "- ```q_env_config: QEnvConfig```: the baseline object where the information about the backend and the target gate is\n",
    "- ```circuit_context: QuantumCircuit```: The circuit in which the previously defined target operation is applied. Note that the class will automatically look for all instances of the gate within the circuit and build dedicated subcircuits (truncations) enabling the successive calibration of each gate instance. To be noted here: the gate calibration focuses only on the target qubits defined in the ```QuantumEnvironment```. In Qiskit, we typically look for the ```CircuitInstruction``` object composed of a ```Gate``` object and a set of target qubits on which the gate is applied (both defined in target).\n",
    "- ```action_space```/```observation_space```: Spaces defining the range and shapes of possible actions/observations.\n",
    "For now, the observation space is fixed to a set of two integers:\n",
    "    - the first one indicates which random input state was selected at the beginning of the episode, so that the network have an extra information on the randomness source coming from the reward.\n",
    "    - the second one indicates which instance of the gate it will calibrate. In the real-time use case, we would like the agent to generate on the fly random actions that will be applied directly for the next gate within the circuit execution. With Qiskit Runtime however, we are not able to generate those actions on the fly and will therefore load all actions associated to each instance of the gate prior to execution.\n",
    "\n",
    "\n",
    "Moreover, we apply for now a sequential training loop, meaning that we will force the agent to focus on the calibration of the first gate (truncating the circuit just behind its execution) before starting to calibrate the second one (and so forth)."
   ],
   "id": "e79f2a9bfdc654d2"
  },
  {
   "metadata": {},
   "cell_type": "markdown",
   "source": [
    "Since we want to run a contextual gate calibration, we need to know exactly how the circuit will be transpiled on the backend. There is therefore an internal transpilation (without any optimization) that enables the retrieval of all timings of the logical gates indicated above. We also account for the local context happening on nearest neighbor qubits on the chip.\n",
    "\n",
    "Moreover, as we run this sequential gate calibration for each instance of the target gate within the circuit, one can check the different circuit truncations the agent will go over.\n",
    "\n",
    "Important note: The target type of the calibration must be a quantum Gate instance (it will not work if target is a quantum state)."
   ],
   "id": "7cd85b50a83b1ceb"
  },
  {
   "metadata": {},
   "cell_type": "code",
   "outputs": [],
   "execution_count": null,
   "source": [
    "from rl_qoc import ContextAwareQuantumEnvironment\n",
    "\n",
    "env = ContextAwareQuantumEnvironment(\n",
    "    q_env_config=q_env_config,\n",
    "    circuit_context=transpiled_circ,\n",
    "    intermediate_rewards=False,\n",
    ")"
   ],
   "id": "a0ae68fbdeb787c6"
  },
  {
   "metadata": {},
   "cell_type": "code",
   "outputs": [],
   "execution_count": null,
   "source": "env.circuits[0].draw(\"mpl\")",
   "id": "2d7720372f4a8836"
  },
  {
   "metadata": {},
   "cell_type": "code",
   "outputs": [],
   "execution_count": null,
   "source": "env.circuits[1].draw(\"mpl\")",
   "id": "b64c9ecdcf4d66b8"
  },
  {
   "metadata": {},
   "cell_type": "code",
   "outputs": [],
   "execution_count": null,
   "source": "env.baseline_circuits[1].draw(\"mpl\")",
   "id": "4e6618309f33d993"
  },
  {
   "metadata": {},
   "cell_type": "code",
   "outputs": [],
   "execution_count": null,
   "source": "env.estimator.options",
   "id": "a1943478500528aa"
  },
  {
   "metadata": {},
   "cell_type": "markdown",
   "source": "# Definition of the Agent",
   "id": "c45d6d545f30be0c"
  },
  {
   "metadata": {},
   "cell_type": "code",
   "outputs": [],
   "execution_count": null,
   "source": [
    "from pathlib import Path\n",
    "import os\n",
    "\n",
    "file_name = \"agent_config.yaml\"\n",
    "file_location = Path(os.getcwd()) / file_name\n",
    "\n",
    "agent_config = load_from_yaml_file(file_location)"
   ],
   "id": "92b5594fe44c00"
  },
  {
   "metadata": {},
   "cell_type": "markdown",
   "source": "## Hyperparameters for training",
   "id": "572e40b3942fba28"
  },
  {
   "metadata": {},
   "cell_type": "code",
   "outputs": [],
   "execution_count": null,
   "source": [
    "from rl_qoc.agent import TotalUpdates, TrainFunctionSettings, TrainingConfig\n",
    "\n",
    "total_updates = TotalUpdates(700)\n",
    "training_config = TrainingConfig(\n",
    "    training_constraint=total_updates,\n",
    "    target_fidelities=[0.999, 0.9999],\n",
    "    lookback_window=10,\n",
    "    anneal_learning_rate=True,\n",
    "    std_actions_eps=1e-3,\n",
    ")\n",
    "\n",
    "train_function_settings = TrainFunctionSettings(\n",
    "    plot_real_time=True,\n",
    "    print_debug=True,\n",
    "    num_prints=5,\n",
    "    hpo_mode=False,\n",
    "    clear_history=True,\n",
    ")"
   ],
   "id": "e64ba6506501b553"
  },
  {
   "metadata": {},
   "cell_type": "markdown",
   "source": [
    "# Training\n",
    "## Storage setup"
   ],
   "id": "ffb31c38e6e4e633"
  },
  {
   "metadata": {},
   "cell_type": "code",
   "outputs": [],
   "execution_count": null,
   "source": [
    "ppo_agent = CustomPPO(agent_config, env)"
   ],
   "id": "9efe82b69edd7d77"
  },
  {
   "metadata": {},
   "cell_type": "markdown",
   "source": "## Main loop",
   "id": "96cb3d2595806c7f"
  },
  {
   "metadata": {},
   "cell_type": "code",
   "outputs": [],
   "execution_count": null,
   "source": [
    "ppo_agent.train(training_config=training_config, train_function_settings=train_function_settings)"
   ],
   "id": "44573b3d09141c51"
  },
  {
   "cell_type": "code",
   "id": "6cfbbb8c-a6fa-430e-b3c8-1db14cf8f8ef",
   "metadata": {},
   "source": [
    "plt.plot(ppo_agent.training_results[\"circuit_fidelity\"], label=\"Circuit Fidelity\")\n",
    "plt.plot(np.mean(ppo_agent.training_results[\"reward_history\"], axis=1), label=\"Average Return\")\n",
    "plt.legend()"
   ],
   "outputs": [],
   "execution_count": null
  }
 ],
 "metadata": {
  "kernelspec": {
   "display_name": "Python 3 (ipykernel)",
   "language": "python",
   "name": "python3"
  },
  "language_info": {
   "codemirror_mode": {
    "name": "ipython",
    "version": 3
   },
   "file_extension": ".py",
   "mimetype": "text/x-python",
   "name": "python",
   "nbconvert_exporter": "python",
   "pygments_lexer": "ipython3",
   "version": "3.9.16"
  },
  "toc-autonumbering": true
 },
 "nbformat": 4,
 "nbformat_minor": 5
}

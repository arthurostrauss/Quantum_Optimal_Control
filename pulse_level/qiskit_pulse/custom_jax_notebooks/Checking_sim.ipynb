{
 "cells": [
  {
   "cell_type": "code",
   "execution_count": 1,
   "id": "66af5f79-792d-4aaa-b42f-78ecf4cc33aa",
   "metadata": {
    "tags": []
   },
   "source": [
    "import os\n",
    "\n",
    "os.environ[\"KMP_DUPLICATE_LIB_OK\"] = \"True\""
   ],
   "outputs": []
  },
  {
   "cell_type": "code",
   "execution_count": 15,
   "id": "3c22f8af-4fe1-4f1d-b646-586e5d00e3de",
   "metadata": {
    "tags": []
   },
   "source": [
    "# Qiskit imports\n",
    "from qiskit import pulse, transpile\n",
    "from qiskit.transpiler import InstructionDurations, InstructionProperties\n",
    "from qiskit.circuit import (\n",
    "    ParameterVector,\n",
    "    QuantumCircuit,\n",
    "    QuantumRegister,\n",
    "    Gate,\n",
    "    CircuitInstruction,\n",
    "    Parameter,\n",
    ")\n",
    "from qiskit.circuit.library import get_standard_gate_name_mapping\n",
    "\n",
    "from qiskit_ibm_runtime.fake_provider import FakeHanoi, FakeJakarta, FakeJakartaV2\n",
    "from qiskit_dynamics import DynamicsBackend, Solver\n",
    "from qiskit_experiments.calibration_management import Calibrations\n",
    "from qiskit_experiments.library import RoughXSXAmplitudeCal, RoughDragCal\n",
    "from qiskit_experiments.calibration_management.basis_gate_library import (\n",
    "    FixedFrequencyTransmon,\n",
    "    EchoedCrossResonance,\n",
    ")\n",
    "from rl_qoc.helpers import perform_standard_calibrations\n",
    "from itertools import permutations\n",
    "import numpy as np\n",
    "import tqdm\n",
    "import time\n",
    "from typing import Union, Optional, List, Sequence, Dict\n",
    "from IPython.display import clear_output\n",
    "import jax\n",
    "\n",
    "jax.config.update(\"jax_enable_x64\", True)\n",
    "# tell JAX we are using CPU\n",
    "jax.config.update(\"jax_platform_name\", \"cpu\")\n",
    "# import Array and set default backend\n",
    "from qiskit_dynamics.array import Array\n",
    "\n",
    "Array.set_default_backend(\"jax\")\n",
    "pulse.SymbolicPulse.disable_validation = True"
   ],
   "outputs": []
  },
  {
   "cell_type": "code",
   "execution_count": 16,
   "id": "f1286f3c-2462-4517-baff-2d15303dd3c4",
   "metadata": {
    "tags": []
   },
   "source": [
    "from qiskit.quantum_info import Operator\n",
    "from qiskit_dynamics import Solver, Signal\n",
    "\n",
    "dim = 2\n",
    "dt = 1 / 4.5e9\n",
    "v0 = 4.86e9\n",
    "anharm0 = -0.32e9\n",
    "r0 = 0.22e9\n",
    "\n",
    "X = Operator.from_label(\"X\")\n",
    "Z = Operator.from_label(\"Z\")\n",
    "\n",
    "solver = Solver(\n",
    "    static_hamiltonian=0.5 * 2 * np.pi * v0 * Z,\n",
    "    hamiltonian_operators=[2 * np.pi * r0 * X],\n",
    "    rotating_frame=0.5 * 2 * np.pi * v0 * Z,\n",
    "    hamiltonian_channels=[\"d0\"],\n",
    "    channel_carrier_freqs={\"d0\": v0},\n",
    "    dt=dt,\n",
    "    evaluation_mode=\"dense\",\n",
    ")"
   ],
   "outputs": []
  },
  {
   "cell_type": "code",
   "execution_count": 17,
   "id": "07136254-ab5a-415c-8f88-1bc9d48ef754",
   "metadata": {
    "tags": []
   },
   "source": [
    "solver_options = {\"method\": \"jax_odeint\", \"atol\": 1e-6, \"rtol\": 1e-8, \"hmax\": dt}\n",
    "\n",
    "backend = DynamicsBackend(\n",
    "    solver=solver,\n",
    "    subsystem_dims=[dim],  # for computing measurement data\n",
    "    solver_options=solver_options,  # to be used every time run is called\n",
    ")\n",
    "cals, exp_results = perform_standard_calibrations(backend)"
   ],
   "outputs": []
  },
  {
   "cell_type": "code",
   "execution_count": 18,
   "id": "c24cd7dd-68fb-4cc7-98f3-90333dbb7f5c",
   "metadata": {
    "tags": []
   },
   "source": [
    "from qiskit.quantum_info import Statevector\n",
    "from qiskit.circuit import ParameterVector\n",
    "\n",
    "y0 = Array(Statevector(np.array([1.0, 0.0])))\n",
    "dt = 2.222e-10\n",
    "rtol = 1e-8\n",
    "atol = 1e-6\n",
    "phase_params = ParameterVector(\"phase\", 3)\n",
    "h_sched = backend.target.get_calibration(\"h\", (0,))\n",
    "x_sched = backend.target.get_calibration(\"x\", (0,))\n",
    "meas_sched = backend.target.get_calibration(\"measure\", (0,))\n",
    "# build a pulse schedule\n",
    "with pulse.build(default_alignment=\"sequential\") as sched_ext:\n",
    "    # pulse.call(x_sched)\n",
    "    pulse.call(h_sched)\n",
    "    pulse.shift_phase(phase_params[0], pulse.DriveChannel(0))\n",
    "    pulse.call(h_sched)\n",
    "\n",
    "t_linspace = np.linspace(0.0, sched_ext.duration * dt, 100)\n",
    "print(sched_ext.duration)"
   ],
   "outputs": []
  },
  {
   "cell_type": "code",
   "execution_count": 19,
   "id": "1dcfe34e-842b-4cbd-a6e2-a907802f60df",
   "metadata": {
    "tags": []
   },
   "source": [
    "def my_sched():\n",
    "    with pulse.build(default_alignment=\"sequential\") as sched_ext:\n",
    "        # pulse.call(x_sched)\n",
    "        pulse.call(h_sched)\n",
    "        pulse.shift_phase(phase_params[0], pulse.DriveChannel(0))\n",
    "        pulse.shift_phase(phase_params[1], pulse.DriveChannel(0))\n",
    "        pulse.shift_phase(phase_params[2], pulse.DriveChannel(0))\n",
    "        pulse.play(\n",
    "            pulse.Drag(amp=phase_params[2], duration=120, sigma=20, angle=0.0, beta=0.0),\n",
    "            pulse.DriveChannel(0),\n",
    "        )\n",
    "        pulse.call(h_sched)\n",
    "    return sched_ext\n",
    "\n",
    "\n",
    "def my_clean_sched(param):\n",
    "    with pulse.build(default_alignment=\"sequential\") as sched_ext:\n",
    "        # pulse.call(x_sched)\n",
    "        pulse.call(h_sched)\n",
    "        pulse.shift_phase(0.4, pulse.DriveChannel(0))\n",
    "        pulse.play(\n",
    "            pulse.Drag(amp=param, duration=120, sigma=20, angle=0.0, beta=0.0),\n",
    "            pulse.DriveChannel(0),\n",
    "        )\n",
    "        pulse.call(h_sched)\n",
    "    return sched_ext\n",
    "\n",
    "\n",
    "my_clean_sched(0.2).draw()"
   ],
   "outputs": []
  },
  {
   "cell_type": "code",
   "execution_count": 23,
   "id": "301a90d0-e5d3-44b3-897b-912bc1ee1bf4",
   "metadata": {
    "tags": []
   },
   "source": [
    "# Inside jit function method\n",
    "import jax.numpy as jnp\n",
    "from jax import block_until_ready, vmap\n",
    "from qiskit_dynamics.array import wrap\n",
    "\n",
    "jit = wrap(jax.jit, decorator=True)\n",
    "qd_vmap = wrap(vmap, decorator=True)\n",
    "\n",
    "\n",
    "def get_sched(phases):\n",
    "    # sched_in = my_sched().assign_parameters({param:phase for (param, phase) in zip(phase_params, phases)}, inplace = False)\n",
    "    with pulse.build(default_alignment=\"sequential\") as sched_in:\n",
    "        # pulse.call(x_sched)\n",
    "        # pulse.call(h_sched)\n",
    "        # pulse.shift_phase(0.4, pulse.DriveChannel(0))\n",
    "        pulse.play(\n",
    "            pulse.Drag(amp=0.2, duration=160, sigma=phases[0], angle=0.0, beta=0.0),\n",
    "            pulse.DriveChannel(0),\n",
    "        )\n",
    "        # pulse.call(h_sched)\n",
    "\n",
    "    t_linspace = jnp.linspace(0, sched_in.duration * dt, 20)\n",
    "    results = solver.solve(\n",
    "        t_span=[t_linspace[0], t_linspace[-1]],\n",
    "        y0=y0,\n",
    "        signals=sched_in,\n",
    "        # signals=sched,\n",
    "        # t_eval=t_linspace[-1],\n",
    "        **solver_options\n",
    "    )\n",
    "\n",
    "    return results.y\n",
    "\n",
    "\n",
    "sched_fast = jit(get_sched)"
   ],
   "outputs": []
  },
  {
   "cell_type": "code",
   "execution_count": 24,
   "id": "84d5a98e-eb72-4a4f-acc0-95ddc2b01dc9",
   "metadata": {
    "tags": []
   },
   "source": [
    "# sched_fast([np.pi, np.pi/2, 0.3])\n",
    "sched_fast(jnp.array([0.2]))"
   ],
   "outputs": []
  },
  {
   "cell_type": "code",
   "execution_count": 26,
   "id": "9bd108dd-31e4-4358-b997-fce8bac11513",
   "metadata": {
    "tags": []
   },
   "source": [
    "param = Parameter(\"theta\")\n",
    "with pulse.build(default_alignment=\"sequential\") as sched:\n",
    "    # pulse.call(x_sched)\n",
    "    # pulse.call(h_sched)\n",
    "    pulse.play(\n",
    "        pulse.Drag(amp=0.2, duration=120, sigma=20, beta=0, angle=param),\n",
    "        pulse.DriveChannel(0),\n",
    "    )\n",
    "s = jnp.float64(0.2)"
   ],
   "outputs": []
  },
  {
   "cell_type": "code",
   "execution_count": 29,
   "id": "6399f5fa-7213-4b54-b159-ce0d7fda9649",
   "metadata": {
    "tags": []
   },
   "source": [
    "sched.instructions[0][1].pulse.disable_validation"
   ],
   "outputs": []
  },
  {
   "cell_type": "code",
   "execution_count": null,
   "id": "7a6b98a6-1027-41fb-9d56-3a769475b22e",
   "metadata": {
    "tags": []
   },
   "source": [
    "import sympy2jax\n",
    "import sympy\n",
    "import jax.numpy as jnp\n",
    "\n",
    "x_sym = sympy.symbols(\"x_sym\")\n",
    "y_sym = sympy.symbols(\"y_sym\")\n",
    "cosx = 1.0 * sympy.cos(x_sym) + 1.0 * sympy.cos(y_sym)\n",
    "sinx = 2.0 * sympy.sin(x_sym) + 2.0 * sympy.sin(y_sym)\n",
    "mod = sympy2jax.SymbolicModule([cosx, sinx])  # PyTree of input expressions\n",
    "type(cosx)\n",
    "info = {x_sym.name: x, y_sym.name: y}"
   ],
   "outputs": []
  },
  {
   "cell_type": "code",
   "execution_count": null,
   "id": "145a9ce8-6051-44db-a145-57fbfa09d2a5",
   "metadata": {
    "tags": []
   },
   "source": [
    "x_sym.name"
   ],
   "outputs": []
  },
  {
   "cell_type": "code",
   "execution_count": null,
   "id": "b638b81f-95a8-4971-9d80-52d395ca2954",
   "metadata": {
    "tags": []
   },
   "source": [
    "x = jnp.zeros(3)\n",
    "y = jnp.ones(3)\n",
    "out = mod(**info)\n",
    "out"
   ],
   "outputs": []
  },
  {
   "cell_type": "code",
   "execution_count": null,
   "id": "e8f32f59-dc5b-4776-950a-2218325cb7e3",
   "metadata": {
    "tags": []
   },
   "source": [
    "param = Parameter(\"amp\")\n",
    "param2 = Parameter(\"amp2\")\n",
    "param3 = 2 * param\n",
    "param3._parameter_symbols\n",
    "type(param3._symbol_expr)\n",
    "param4 = sympy.sympify(param3._symbol_expr)\n",
    "type(param4)"
   ],
   "outputs": []
  },
  {
   "cell_type": "code",
   "execution_count": null,
   "id": "92006f34-216b-4c01-bdf3-aad3692fa0e2",
   "metadata": {
    "tags": []
   },
   "source": [
    "for key, value in param2._parameter_symbols.items():\n",
    "    print(type(key), type(value))"
   ],
   "outputs": []
  },
  {
   "cell_type": "code",
   "execution_count": 30,
   "id": "a51ee99d-ae06-4785-b0eb-2ab2adf8159f",
   "metadata": {
    "tags": []
   },
   "source": [
    "qc = QuantumCircuit(1)\n",
    "phi = Parameter(\"phi\")\n",
    "qc.rx(2 * phi, 0)\n",
    "qc.draw(\"mpl\")"
   ],
   "outputs": []
  },
  {
   "cell_type": "code",
   "execution_count": 31,
   "id": "e2aa55c0-2e0d-4065-a58a-06845eef11c7",
   "metadata": {
    "tags": []
   },
   "source": [
    "qc.bind_parameters([0.5]).draw(\"mpl\")"
   ],
   "outputs": []
  },
  {
   "cell_type": "code",
   "execution_count": null,
   "id": "1b9a4750-3902-4232-b8f6-50a4b344436d",
   "metadata": {},
   "source": [],
   "outputs": []
  },
  {
   "cell_type": "code",
   "execution_count": null,
   "id": "ef631105-96c8-468b-9346-117deab562fa",
   "metadata": {
    "tags": []
   },
   "source": [
    "x_pulse = backend.target.get_calibration(\"x\", (0,)).instructions[0][1].pulse\n",
    "x_pulse"
   ],
   "outputs": []
  },
  {
   "cell_type": "code",
   "execution_count": null,
   "id": "6183945c-68f4-424e-9df2-28041aba6781",
   "metadata": {
    "tags": []
   },
   "source": [
    "setattr(x_pulse, \"amp\", 0.3)\n",
    "x_pulse"
   ],
   "outputs": []
  },
  {
   "cell_type": "code",
   "execution_count": 23,
   "id": "ffa2384a-0825-42d2-91a7-818bb57e873b",
   "metadata": {
    "tags": []
   },
   "source": [
    "# Constructing General Gaussian Waveform\n",
    "\n",
    "\n",
    "# Helper function that returns a lifted Gaussian symbolic equation.\n",
    "def lifted_gaussian(\n",
    "    t: sym.Symbol,\n",
    "    center,\n",
    "    t_zero,\n",
    "    sigma,\n",
    ") -> sym.Expr:\n",
    "    t_shifted = (t - center).expand()\n",
    "    t_offset = (t_zero - center).expand()\n",
    "\n",
    "    gauss = sym.exp(-((t_shifted / sigma) ** 2) / 2)\n",
    "    offset = sym.exp(-((t_offset / sigma) ** 2) / 2)\n",
    "\n",
    "    return (gauss - offset) / (1 - offset)"
   ],
   "outputs": []
  },
  {
   "cell_type": "code",
   "execution_count": 28,
   "id": "54b2de04-69c6-4f18-9276-09eb94fe97c5",
   "metadata": {},
   "source": [
    "# use amplitude as the function argument\n",
    "from qiskit import pulse\n",
    "from qiskit_dynamics.pulse import InstructionToSignals\n",
    "import sympy as sym\n",
    "\n",
    "dt = 0.222\n",
    "w = 5.0\n",
    "\n",
    "\n",
    "def jit_func(amp):\n",
    "    _t, _duration, _amp, _sigma, _angle = sym.symbols(\"t, duration, amp, sigma, angle\")\n",
    "    _center = _duration / 2\n",
    "\n",
    "    envelope_expr = (\n",
    "        _amp * sym.exp(sym.I * _angle) * lifted_gaussian(_t, _center, _duration + 1, _sigma)\n",
    "    )\n",
    "\n",
    "    gaussian_pulse = pulse.ScalableSymbolicPulse(\n",
    "        pulse_type=\"Gaussian\",\n",
    "        duration=160,\n",
    "        amp=amp,\n",
    "        angle=0,\n",
    "        parameters={\"sigma\": 40},\n",
    "        envelope=envelope_expr,\n",
    "        constraints=_sigma > 0,\n",
    "        valid_amp_conditions=sym.Abs(_amp) <= 1.0,\n",
    "    )\n",
    "    drag_pulse = pulse.Drag(duration=160, amp=amp, sigma=20, angle=0, beta=0)\n",
    "\n",
    "    # build a pulse schedule\n",
    "    with pulse.build() as schedule:\n",
    "        # pulse.play(gaussian_pulse, pulse.DriveChannel(0))\n",
    "        pulse.play(drag_pulse, pulse.DriveChannel(0))\n",
    "    # convert from a pulse schedule to a list of signals\n",
    "    converter = InstructionToSignals(dt, carriers={\"d0\": w})\n",
    "\n",
    "    return converter.get_signals(schedule)[0].samples.data\n",
    "\n",
    "\n",
    "jax.jit(jit_func)(0.4)"
   ],
   "outputs": []
  },
  {
   "cell_type": "code",
   "execution_count": null,
   "id": "0133c319-5f58-4822-ab72-974e47a78b14",
   "metadata": {},
   "source": [],
   "outputs": []
  }
 ],
 "metadata": {
  "kernelspec": {
   "display_name": "Python 3 (ipykernel)",
   "language": "python",
   "name": "python3"
  },
  "language_info": {
   "codemirror_mode": {
    "name": "ipython",
    "version": 3
   },
   "file_extension": ".py",
   "mimetype": "text/x-python",
   "name": "python",
   "nbconvert_exporter": "python",
   "pygments_lexer": "ipython3",
   "version": "3.9.16"
  }
 },
 "nbformat": 4,
 "nbformat_minor": 5
}

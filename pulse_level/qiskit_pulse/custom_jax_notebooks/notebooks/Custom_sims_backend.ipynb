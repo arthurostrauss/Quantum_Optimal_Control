{
 "cells": [
  {
   "cell_type": "code",
   "execution_count": 1,
   "metadata": {
    "tags": []
   },
   "outputs": [
    {
     "name": "stderr",
     "output_type": "stream",
     "text": [
      "/Users/arthurstrauss/opt/anaconda3/envs/custom_dynamics/lib/python3.9/site-packages/qiskit_dynamics/dispatch/backends/jax.py:34: UserWarning: The functionality in the perturbation module of Qiskit Dynamics requires a JAX version <= 0.4.6, due to a bug in JAX versions > 0.4.6. For versions 0.4.4, 0.4.5, and 0.4.6, using the perturbation module functionality requires setting os.environ['JAX_JIT_PJIT_API_MERGE'] = '0' before importing JAX or Dynamics.\n",
      "  warnings.warn(\n"
     ]
    }
   ],
   "source": [
    "# Configure to use JAX internally\n",
    "import jax\n",
    "\n",
    "jax.config.update(\"jax_enable_x64\", True)\n",
    "jax.config.update(\"jax_platform_name\", \"cpu\")\n",
    "from qiskit_dynamics.array import Array\n",
    "\n",
    "import jax.numpy as jnp\n",
    "from jax import block_until_ready, vmap"
   ]
  },
  {
   "cell_type": "code",
   "execution_count": 2,
   "metadata": {
    "tags": []
   },
   "outputs": [],
   "source": [
    "import numpy as np\n",
    "\n",
    "from qiskit import pulse, schedule\n",
    "from qiskit_dynamics import Solver, DynamicsBackend, Signal\n",
    "from qiskit_dynamics.pulse import InstructionToSignals\n",
    "from qiskit_dynamics.array import wrap\n",
    "from qiskit.circuit import Parameter\n",
    "from qiskit.quantum_info import Statevector, DensityMatrix\n",
    "import sympy as sym\n",
    "\n",
    "import matplotlib.pyplot as plt\n",
    "\n",
    "jit = wrap(jax.jit, decorator=True)\n",
    "qd_vmap = wrap(vmap, decorator=True)"
   ]
  },
  {
   "cell_type": "markdown",
   "metadata": {},
   "source": [
    "# Build custom two qubit model"
   ]
  },
  {
   "cell_type": "code",
   "execution_count": 3,
   "metadata": {
    "tags": []
   },
   "outputs": [],
   "source": [
    "dim = 3\n",
    "\n",
    "v0 = 4.86e9\n",
    "anharm0 = -0.32e9\n",
    "r0 = 0.22e9\n",
    "\n",
    "v1 = 4.97e9\n",
    "anharm1 = -0.32e9\n",
    "r1 = 0.26e9\n",
    "\n",
    "J = 0.002e9\n",
    "\n",
    "a = np.diag(np.sqrt(np.arange(1, dim)), 1)\n",
    "adag = np.diag(np.sqrt(np.arange(1, dim)), -1)\n",
    "N = np.diag(np.arange(dim))\n",
    "\n",
    "ident = np.eye(dim, dtype=complex)\n",
    "full_ident = np.eye(dim**2, dtype=complex)\n",
    "\n",
    "N0 = np.kron(ident, N)\n",
    "N1 = np.kron(N, ident)\n",
    "\n",
    "a0 = np.kron(ident, a)\n",
    "a1 = np.kron(a, ident)\n",
    "\n",
    "a0dag = np.kron(ident, adag)\n",
    "a1dag = np.kron(adag, ident)\n",
    "\n",
    "static_ham0 = 2 * np.pi * v0 * N0 + np.pi * anharm0 * N0 * (N0 - full_ident)\n",
    "static_ham1 = 2 * np.pi * v1 * N1 + np.pi * anharm1 * N1 * (N1 - full_ident)\n",
    "\n",
    "static_ham_full = (\n",
    "    static_ham0 + static_ham1 + 2 * np.pi * J * ((a0 + a0dag) @ (a1 + a1dag))\n",
    ")\n",
    "\n",
    "drive_op0 = 2 * np.pi * r0 * (a0 + a0dag)\n",
    "drive_op1 = 2 * np.pi * r1 * (a1 + a1dag)"
   ]
  },
  {
   "cell_type": "code",
   "execution_count": 4,
   "metadata": {
    "tags": []
   },
   "outputs": [],
   "source": [
    "# build solver\n",
    "dt = 1 / 4.5e9\n",
    "rtol = 1e-5\n",
    "atol = 1e-3\n",
    "\n",
    "t_linspace = np.linspace(0.0, 2.0 * 1e-6, 21)\n",
    "\n",
    "dict_freqs = {\"d0\": v0, \"d1\": v1, \"u0\": v1, \"u1\": v0}\n",
    "channels = {\"d0\", \"d1\", \"u0\", \"u1\"}\n",
    "\n",
    "solver_sparse = Solver(\n",
    "    static_hamiltonian=static_ham_full,\n",
    "    hamiltonian_operators=[drive_op0, drive_op1, drive_op1, drive_op0],\n",
    "    rotating_frame=static_ham_full,\n",
    "    hamiltonian_channels=channels,\n",
    "    channel_carrier_freqs=dict_freqs,\n",
    "    dt=dt,\n",
    "    evaluation_mode=\"sparse\",\n",
    ")\n",
    "\n",
    "solver_dense = Solver(\n",
    "    static_hamiltonian=static_ham_full,\n",
    "    hamiltonian_operators=[drive_op0, drive_op1, drive_op1, drive_op0],\n",
    "    rotating_frame=static_ham_full,\n",
    "    hamiltonian_channels=channels,\n",
    "    channel_carrier_freqs=dict_freqs,\n",
    "    dt=dt,\n",
    "    evaluation_mode=\"dense\",\n",
    ")"
   ]
  },
  {
   "cell_type": "code",
   "execution_count": 5,
   "metadata": {
    "tags": []
   },
   "outputs": [],
   "source": [
    "def lifted_gaussian(\n",
    "    t: sym.Symbol,\n",
    "    center,\n",
    "    t_zero,\n",
    "    sigma,\n",
    ") -> sym.Expr:\n",
    "    t_shifted = (t - center).expand()\n",
    "    t_offset = (t_zero - center).expand()\n",
    "\n",
    "    gauss = sym.exp(-((t_shifted / sigma) ** 2) / 2)\n",
    "    offset = sym.exp(-((t_offset / sigma) ** 2) / 2)\n",
    "\n",
    "    return (gauss - offset) / (1 - offset)"
   ]
  },
  {
   "cell_type": "code",
   "execution_count": 6,
   "metadata": {
    "tags": []
   },
   "outputs": [],
   "source": [
    "y0 = Array(Statevector(np.array([1.0, 0.0, 0.0, 0.0, 1.0, 0.0, 0.0, 1.0, 0.0])))\n",
    "\n",
    "\n",
    "# y0 = full_ident\n",
    "\n",
    "\n",
    "def sim_func_sparse(amp):\n",
    "    _t, _duration, _amp, _sigma, _angle = sym.symbols(\"t, duration, amp, sigma, angle\")\n",
    "    _center = _duration / 2\n",
    "\n",
    "    envelope_expr = (\n",
    "        _amp\n",
    "        * sym.exp(sym.I * _angle)\n",
    "        * lifted_gaussian(_t, _center, _duration + 1, _sigma)\n",
    "    )\n",
    "\n",
    "    gaussian_pulse = pulse.ScalableSymbolicPulse(\n",
    "        pulse_type=\"Gaussian\",\n",
    "        duration=160,\n",
    "        amp=amp,\n",
    "        angle=0,\n",
    "        parameters={\"sigma\": 40},\n",
    "        envelope=envelope_expr,\n",
    "        constraints=_sigma > 0,\n",
    "        valid_amp_conditions=sym.Abs(_amp) <= 1.0,\n",
    "    )\n",
    "\n",
    "    # build a pulse schedule\n",
    "    with pulse.build(default_alignment=\"sequential\") as schedule:\n",
    "        pulse.play(gaussian_pulse, pulse.DriveChannel(0))\n",
    "        pulse.play(gaussian_pulse, pulse.DriveChannel(1))\n",
    "        pulse.play(gaussian_pulse, pulse.ControlChannel(0))\n",
    "\n",
    "    # convert from a pulse schedule to a list of signals\n",
    "    converter = InstructionToSignals(dt, carriers=dict_freqs, channels=channels)\n",
    "\n",
    "    signals = converter.get_signals(schedule)\n",
    "\n",
    "    results = solver_sparse.solve(\n",
    "        t_span=[t_linspace[0], t_linspace[-1]],\n",
    "        y0=y0,\n",
    "        signals=signals,\n",
    "        t_eval=t_linspace,\n",
    "        method=\"jax_odeint\",\n",
    "        atol=atol,\n",
    "        rtol=rtol,\n",
    "    )\n",
    "\n",
    "    return results.y\n",
    "\n",
    "\n",
    "def sim_func_dense(amp):\n",
    "    _t, _duration, _amp, _sigma, _angle = sym.symbols(\"t, duration, amp, sigma, angle\")\n",
    "    _center = _duration / 2\n",
    "\n",
    "    envelope_expr = (\n",
    "        _amp\n",
    "        * sym.exp(sym.I * _angle)\n",
    "        * lifted_gaussian(_t, _center, _duration + 1, _sigma)\n",
    "    )\n",
    "\n",
    "    gaussian_pulse = pulse.ScalableSymbolicPulse(\n",
    "        pulse_type=\"Gaussian\",\n",
    "        duration=160,\n",
    "        amp=amp,\n",
    "        angle=0,\n",
    "        parameters={\"sigma\": 40},\n",
    "        envelope=envelope_expr,\n",
    "        constraints=_sigma > 0,\n",
    "        valid_amp_conditions=sym.Abs(_amp) <= 1.0,\n",
    "    )\n",
    "\n",
    "    # build a pulse schedule\n",
    "    with pulse.build(default_alignment=\"sequential\") as schedule:\n",
    "        pulse.play(gaussian_pulse, pulse.DriveChannel(0))\n",
    "        pulse.play(gaussian_pulse, pulse.DriveChannel(1))\n",
    "        pulse.play(gaussian_pulse, pulse.ControlChannel(0))\n",
    "\n",
    "    # convert from a pulse schedule to a list of signals\n",
    "    converter = InstructionToSignals(dt, carriers=dict_freqs, channels=channels)\n",
    "\n",
    "    signals = converter.get_signals(schedule)\n",
    "\n",
    "    results = solver_dense.solve(\n",
    "        t_span=[t_linspace[0], t_linspace[-1]],\n",
    "        y0=y0,\n",
    "        signals=signals,\n",
    "        t_eval=t_linspace,\n",
    "        method=\"jax_odeint\",\n",
    "        atol=atol,\n",
    "        rtol=rtol,\n",
    "    )\n",
    "\n",
    "    return results.y\n",
    "\n",
    "\n",
    "fast_sim_func_sparse = jit(sim_func_sparse)\n",
    "fast_sim_func_dense = jit(sim_func_dense)"
   ]
  },
  {
   "cell_type": "code",
   "execution_count": 7,
   "metadata": {
    "tags": []
   },
   "outputs": [
    {
     "name": "stdout",
     "output_type": "stream",
     "text": [
      "CPU times: user 1.88 s, sys: 63.9 ms, total: 1.94 s\n",
      "Wall time: 1.93 s\n"
     ]
    },
    {
     "data": {
      "text/plain": [
       "Array([[ 1.00000000e+00+0.j        , -6.25155151e-18+0.j        ,\n",
       "        -2.33549217e-18+0.j        , -2.42686892e-16+0.j        ,\n",
       "         1.00000000e+00+0.j        ,  3.81639165e-16+0.j        ,\n",
       "        -1.60064184e-18+0.j        ,  1.00000000e+00+0.j        ,\n",
       "         1.35525272e-18+0.j        ],\n",
       "       [ 4.51172256e-01-0.82866377j, -1.37231664e-01-0.23457294j,\n",
       "         4.73248688e-02+0.0811774j , -4.86293839e-01-0.01771726j,\n",
       "        -4.81134033e-01-0.8815995j ,  1.27848188e-01+0.28045539j,\n",
       "         2.23657601e-02+0.30398261j, -8.32708479e-01-0.65601599j,\n",
       "         2.35847916e-01+0.26180919j],\n",
       "       [ 3.70206678e-01-0.85969786j, -2.57320558e-01-0.10228881j,\n",
       "         4.57942933e-02+0.1093538j , -6.28373539e-01-0.12383564j,\n",
       "        -3.43463621e-01-0.81305864j,  1.22079563e-01+0.38631155j,\n",
       "        -1.64060252e-01+0.26270011j, -7.47967354e-01-0.69623027j,\n",
       "         2.73072437e-01+0.37145632j],\n",
       "       [ 3.70206678e-01-0.85969786j, -2.57320558e-01-0.10228881j,\n",
       "         4.57942933e-02+0.1093538j , -6.28373539e-01-0.12383564j,\n",
       "        -3.43463621e-01-0.81305864j,  1.22079563e-01+0.38631155j,\n",
       "        -1.64060252e-01+0.26270011j, -7.47967354e-01-0.69623027j,\n",
       "         2.73072437e-01+0.37145632j],\n",
       "       [ 3.70206678e-01-0.85969786j, -2.57320558e-01-0.10228881j,\n",
       "         4.57942933e-02+0.1093538j , -6.28373539e-01-0.12383564j,\n",
       "        -3.43463621e-01-0.81305864j,  1.22079563e-01+0.38631155j,\n",
       "        -1.64060252e-01+0.26270011j, -7.47967354e-01-0.69623027j,\n",
       "         2.73072437e-01+0.37145632j],\n",
       "       [ 3.70206678e-01-0.85969786j, -2.57320558e-01-0.10228881j,\n",
       "         4.57942933e-02+0.1093538j , -6.28373539e-01-0.12383564j,\n",
       "        -3.43463621e-01-0.81305864j,  1.22079563e-01+0.38631155j,\n",
       "        -1.64060252e-01+0.26270011j, -7.47967354e-01-0.69623027j,\n",
       "         2.73072437e-01+0.37145632j],\n",
       "       [ 3.70206678e-01-0.85969786j, -2.57320558e-01-0.10228881j,\n",
       "         4.57942933e-02+0.1093538j , -6.28373539e-01-0.12383564j,\n",
       "        -3.43463621e-01-0.81305864j,  1.22079563e-01+0.38631155j,\n",
       "        -1.64060252e-01+0.26270011j, -7.47967354e-01-0.69623027j,\n",
       "         2.73072437e-01+0.37145632j],\n",
       "       [ 3.70206678e-01-0.85969786j, -2.57320558e-01-0.10228881j,\n",
       "         4.57942933e-02+0.1093538j , -6.28373539e-01-0.12383564j,\n",
       "        -3.43463621e-01-0.81305864j,  1.22079563e-01+0.38631155j,\n",
       "        -1.64060252e-01+0.26270011j, -7.47967354e-01-0.69623027j,\n",
       "         2.73072437e-01+0.37145632j],\n",
       "       [ 3.70206678e-01-0.85969786j, -2.57320558e-01-0.10228881j,\n",
       "         4.57942933e-02+0.1093538j , -6.28373539e-01-0.12383564j,\n",
       "        -3.43463621e-01-0.81305864j,  1.22079563e-01+0.38631155j,\n",
       "        -1.64060252e-01+0.26270011j, -7.47967354e-01-0.69623027j,\n",
       "         2.73072437e-01+0.37145632j],\n",
       "       [ 3.70206678e-01-0.85969786j, -2.57320558e-01-0.10228881j,\n",
       "         4.57942933e-02+0.1093538j , -6.28373539e-01-0.12383564j,\n",
       "        -3.43463621e-01-0.81305864j,  1.22079563e-01+0.38631155j,\n",
       "        -1.64060252e-01+0.26270011j, -7.47967354e-01-0.69623027j,\n",
       "         2.73072437e-01+0.37145632j],\n",
       "       [ 3.70206678e-01-0.85969786j, -2.57320558e-01-0.10228881j,\n",
       "         4.57942933e-02+0.1093538j , -6.28373539e-01-0.12383564j,\n",
       "        -3.43463621e-01-0.81305864j,  1.22079563e-01+0.38631155j,\n",
       "        -1.64060252e-01+0.26270011j, -7.47967354e-01-0.69623027j,\n",
       "         2.73072437e-01+0.37145632j],\n",
       "       [ 3.70206678e-01-0.85969786j, -2.57320558e-01-0.10228881j,\n",
       "         4.57942933e-02+0.1093538j , -6.28373539e-01-0.12383564j,\n",
       "        -3.43463621e-01-0.81305864j,  1.22079563e-01+0.38631155j,\n",
       "        -1.64060252e-01+0.26270011j, -7.47967354e-01-0.69623027j,\n",
       "         2.73072437e-01+0.37145632j],\n",
       "       [ 3.70206678e-01-0.85969786j, -2.57320558e-01-0.10228881j,\n",
       "         4.57942933e-02+0.1093538j , -6.28373539e-01-0.12383564j,\n",
       "        -3.43463621e-01-0.81305864j,  1.22079563e-01+0.38631155j,\n",
       "        -1.64060252e-01+0.26270011j, -7.47967354e-01-0.69623027j,\n",
       "         2.73072437e-01+0.37145632j],\n",
       "       [ 3.70206678e-01-0.85969786j, -2.57320558e-01-0.10228881j,\n",
       "         4.57942933e-02+0.1093538j , -6.28373539e-01-0.12383564j,\n",
       "        -3.43463621e-01-0.81305864j,  1.22079563e-01+0.38631155j,\n",
       "        -1.64060252e-01+0.26270011j, -7.47967354e-01-0.69623027j,\n",
       "         2.73072437e-01+0.37145632j],\n",
       "       [ 3.70206678e-01-0.85969786j, -2.57320558e-01-0.10228881j,\n",
       "         4.57942933e-02+0.1093538j , -6.28373539e-01-0.12383564j,\n",
       "        -3.43463621e-01-0.81305864j,  1.22079563e-01+0.38631155j,\n",
       "        -1.64060252e-01+0.26270011j, -7.47967354e-01-0.69623027j,\n",
       "         2.73072437e-01+0.37145632j],\n",
       "       [ 3.70206678e-01-0.85969786j, -2.57320558e-01-0.10228881j,\n",
       "         4.57942933e-02+0.1093538j , -6.28373539e-01-0.12383564j,\n",
       "        -3.43463621e-01-0.81305864j,  1.22079563e-01+0.38631155j,\n",
       "        -1.64060252e-01+0.26270011j, -7.47967354e-01-0.69623027j,\n",
       "         2.73072437e-01+0.37145632j],\n",
       "       [ 3.70206678e-01-0.85969786j, -2.57320558e-01-0.10228881j,\n",
       "         4.57942933e-02+0.1093538j , -6.28373539e-01-0.12383564j,\n",
       "        -3.43463621e-01-0.81305864j,  1.22079563e-01+0.38631155j,\n",
       "        -1.64060252e-01+0.26270011j, -7.47967354e-01-0.69623027j,\n",
       "         2.73072437e-01+0.37145632j],\n",
       "       [ 3.70206678e-01-0.85969786j, -2.57320558e-01-0.10228881j,\n",
       "         4.57942933e-02+0.1093538j , -6.28373539e-01-0.12383564j,\n",
       "        -3.43463621e-01-0.81305864j,  1.22079563e-01+0.38631155j,\n",
       "        -1.64060252e-01+0.26270011j, -7.47967354e-01-0.69623027j,\n",
       "         2.73072437e-01+0.37145632j],\n",
       "       [ 3.70206678e-01-0.85969786j, -2.57320558e-01-0.10228881j,\n",
       "         4.57942933e-02+0.1093538j , -6.28373539e-01-0.12383564j,\n",
       "        -3.43463621e-01-0.81305864j,  1.22079563e-01+0.38631155j,\n",
       "        -1.64060252e-01+0.26270011j, -7.47967354e-01-0.69623027j,\n",
       "         2.73072437e-01+0.37145632j],\n",
       "       [ 3.70206678e-01-0.85969786j, -2.57320558e-01-0.10228881j,\n",
       "         4.57942933e-02+0.1093538j , -6.28373539e-01-0.12383564j,\n",
       "        -3.43463621e-01-0.81305864j,  1.22079563e-01+0.38631155j,\n",
       "        -1.64060252e-01+0.26270011j, -7.47967354e-01-0.69623027j,\n",
       "         2.73072437e-01+0.37145632j],\n",
       "       [ 3.70206678e-01-0.85969786j, -2.57320558e-01-0.10228881j,\n",
       "         4.57942933e-02+0.1093538j , -6.28373539e-01-0.12383564j,\n",
       "        -3.43463621e-01-0.81305864j,  1.22079563e-01+0.38631155j,\n",
       "        -1.64060252e-01+0.26270011j, -7.47967354e-01-0.69623027j,\n",
       "         2.73072437e-01+0.37145632j]])"
      ]
     },
     "execution_count": 7,
     "metadata": {},
     "output_type": "execute_result"
    }
   ],
   "source": [
    "%time fast_sim_func_sparse(0.4).block_until_ready()"
   ]
  },
  {
   "cell_type": "code",
   "execution_count": 8,
   "metadata": {
    "tags": []
   },
   "outputs": [
    {
     "name": "stdout",
     "output_type": "stream",
     "text": [
      "CPU times: user 1.2 s, sys: 25.1 ms, total: 1.22 s\n",
      "Wall time: 1.22 s\n"
     ]
    },
    {
     "data": {
      "text/plain": [
       "Array([[ 1.00000000e+00+0.j        , -6.25155151e-18+0.j        ,\n",
       "        -2.33549217e-18+0.j        , -2.42686892e-16+0.j        ,\n",
       "         1.00000000e+00+0.j        ,  3.81639165e-16+0.j        ,\n",
       "        -1.60064184e-18+0.j        ,  1.00000000e+00+0.j        ,\n",
       "         1.35525272e-18+0.j        ],\n",
       "       [ 4.51172257e-01-0.82866377j, -1.37231661e-01-0.23457294j,\n",
       "         4.73248692e-02+0.0811774j , -4.86293836e-01-0.01771727j,\n",
       "        -4.81134033e-01-0.8815995j ,  1.27848192e-01+0.28045539j,\n",
       "         2.23657613e-02+0.30398261j, -8.32708480e-01-0.65601599j,\n",
       "         2.35847919e-01+0.26180919j],\n",
       "       [ 3.70206679e-01-0.85969786j, -2.57320556e-01-0.10228881j,\n",
       "         4.57942944e-02+0.1093538j , -6.28373537e-01-0.12383564j,\n",
       "        -3.43463621e-01-0.81305864j,  1.22079569e-01+0.38631155j,\n",
       "        -1.64060251e-01+0.26270011j, -7.47967355e-01-0.69623027j,\n",
       "         2.73072443e-01+0.37145632j],\n",
       "       [ 3.70206679e-01-0.85969786j, -2.57320556e-01-0.10228881j,\n",
       "         4.57942944e-02+0.1093538j , -6.28373537e-01-0.12383564j,\n",
       "        -3.43463621e-01-0.81305864j,  1.22079569e-01+0.38631155j,\n",
       "        -1.64060251e-01+0.26270011j, -7.47967355e-01-0.69623027j,\n",
       "         2.73072443e-01+0.37145632j],\n",
       "       [ 3.70206679e-01-0.85969786j, -2.57320556e-01-0.10228881j,\n",
       "         4.57942944e-02+0.1093538j , -6.28373537e-01-0.12383564j,\n",
       "        -3.43463621e-01-0.81305864j,  1.22079569e-01+0.38631155j,\n",
       "        -1.64060251e-01+0.26270011j, -7.47967355e-01-0.69623027j,\n",
       "         2.73072443e-01+0.37145632j],\n",
       "       [ 3.70206679e-01-0.85969786j, -2.57320556e-01-0.10228881j,\n",
       "         4.57942944e-02+0.1093538j , -6.28373537e-01-0.12383564j,\n",
       "        -3.43463621e-01-0.81305864j,  1.22079569e-01+0.38631155j,\n",
       "        -1.64060251e-01+0.26270011j, -7.47967355e-01-0.69623027j,\n",
       "         2.73072443e-01+0.37145632j],\n",
       "       [ 3.70206679e-01-0.85969786j, -2.57320556e-01-0.10228881j,\n",
       "         4.57942944e-02+0.1093538j , -6.28373537e-01-0.12383564j,\n",
       "        -3.43463621e-01-0.81305864j,  1.22079569e-01+0.38631155j,\n",
       "        -1.64060251e-01+0.26270011j, -7.47967355e-01-0.69623027j,\n",
       "         2.73072443e-01+0.37145632j],\n",
       "       [ 3.70206679e-01-0.85969786j, -2.57320556e-01-0.10228881j,\n",
       "         4.57942944e-02+0.1093538j , -6.28373537e-01-0.12383564j,\n",
       "        -3.43463621e-01-0.81305864j,  1.22079569e-01+0.38631155j,\n",
       "        -1.64060251e-01+0.26270011j, -7.47967355e-01-0.69623027j,\n",
       "         2.73072443e-01+0.37145632j],\n",
       "       [ 3.70206679e-01-0.85969786j, -2.57320556e-01-0.10228881j,\n",
       "         4.57942944e-02+0.1093538j , -6.28373537e-01-0.12383564j,\n",
       "        -3.43463621e-01-0.81305864j,  1.22079569e-01+0.38631155j,\n",
       "        -1.64060251e-01+0.26270011j, -7.47967355e-01-0.69623027j,\n",
       "         2.73072443e-01+0.37145632j],\n",
       "       [ 3.70206679e-01-0.85969786j, -2.57320556e-01-0.10228881j,\n",
       "         4.57942944e-02+0.1093538j , -6.28373537e-01-0.12383564j,\n",
       "        -3.43463621e-01-0.81305864j,  1.22079569e-01+0.38631155j,\n",
       "        -1.64060251e-01+0.26270011j, -7.47967355e-01-0.69623027j,\n",
       "         2.73072443e-01+0.37145632j],\n",
       "       [ 3.70206679e-01-0.85969786j, -2.57320556e-01-0.10228881j,\n",
       "         4.57942944e-02+0.1093538j , -6.28373537e-01-0.12383564j,\n",
       "        -3.43463621e-01-0.81305864j,  1.22079569e-01+0.38631155j,\n",
       "        -1.64060251e-01+0.26270011j, -7.47967355e-01-0.69623027j,\n",
       "         2.73072443e-01+0.37145632j],\n",
       "       [ 3.70206679e-01-0.85969786j, -2.57320556e-01-0.10228881j,\n",
       "         4.57942944e-02+0.1093538j , -6.28373537e-01-0.12383564j,\n",
       "        -3.43463621e-01-0.81305864j,  1.22079569e-01+0.38631155j,\n",
       "        -1.64060251e-01+0.26270011j, -7.47967355e-01-0.69623027j,\n",
       "         2.73072443e-01+0.37145632j],\n",
       "       [ 3.70206679e-01-0.85969786j, -2.57320556e-01-0.10228881j,\n",
       "         4.57942944e-02+0.1093538j , -6.28373537e-01-0.12383564j,\n",
       "        -3.43463621e-01-0.81305864j,  1.22079569e-01+0.38631155j,\n",
       "        -1.64060251e-01+0.26270011j, -7.47967355e-01-0.69623027j,\n",
       "         2.73072443e-01+0.37145632j],\n",
       "       [ 3.70206679e-01-0.85969786j, -2.57320556e-01-0.10228881j,\n",
       "         4.57942944e-02+0.1093538j , -6.28373537e-01-0.12383564j,\n",
       "        -3.43463621e-01-0.81305864j,  1.22079569e-01+0.38631155j,\n",
       "        -1.64060251e-01+0.26270011j, -7.47967355e-01-0.69623027j,\n",
       "         2.73072443e-01+0.37145632j],\n",
       "       [ 3.70206679e-01-0.85969786j, -2.57320556e-01-0.10228881j,\n",
       "         4.57942944e-02+0.1093538j , -6.28373537e-01-0.12383564j,\n",
       "        -3.43463621e-01-0.81305864j,  1.22079569e-01+0.38631155j,\n",
       "        -1.64060251e-01+0.26270011j, -7.47967355e-01-0.69623027j,\n",
       "         2.73072443e-01+0.37145632j],\n",
       "       [ 3.70206679e-01-0.85969786j, -2.57320556e-01-0.10228881j,\n",
       "         4.57942944e-02+0.1093538j , -6.28373537e-01-0.12383564j,\n",
       "        -3.43463621e-01-0.81305864j,  1.22079569e-01+0.38631155j,\n",
       "        -1.64060251e-01+0.26270011j, -7.47967355e-01-0.69623027j,\n",
       "         2.73072443e-01+0.37145632j],\n",
       "       [ 3.70206679e-01-0.85969786j, -2.57320556e-01-0.10228881j,\n",
       "         4.57942944e-02+0.1093538j , -6.28373537e-01-0.12383564j,\n",
       "        -3.43463621e-01-0.81305864j,  1.22079569e-01+0.38631155j,\n",
       "        -1.64060251e-01+0.26270011j, -7.47967355e-01-0.69623027j,\n",
       "         2.73072443e-01+0.37145632j],\n",
       "       [ 3.70206679e-01-0.85969786j, -2.57320556e-01-0.10228881j,\n",
       "         4.57942944e-02+0.1093538j , -6.28373537e-01-0.12383564j,\n",
       "        -3.43463621e-01-0.81305864j,  1.22079569e-01+0.38631155j,\n",
       "        -1.64060251e-01+0.26270011j, -7.47967355e-01-0.69623027j,\n",
       "         2.73072443e-01+0.37145632j],\n",
       "       [ 3.70206679e-01-0.85969786j, -2.57320556e-01-0.10228881j,\n",
       "         4.57942944e-02+0.1093538j , -6.28373537e-01-0.12383564j,\n",
       "        -3.43463621e-01-0.81305864j,  1.22079569e-01+0.38631155j,\n",
       "        -1.64060251e-01+0.26270011j, -7.47967355e-01-0.69623027j,\n",
       "         2.73072443e-01+0.37145632j],\n",
       "       [ 3.70206679e-01-0.85969786j, -2.57320556e-01-0.10228881j,\n",
       "         4.57942944e-02+0.1093538j , -6.28373537e-01-0.12383564j,\n",
       "        -3.43463621e-01-0.81305864j,  1.22079569e-01+0.38631155j,\n",
       "        -1.64060251e-01+0.26270011j, -7.47967355e-01-0.69623027j,\n",
       "         2.73072443e-01+0.37145632j],\n",
       "       [ 3.70206679e-01-0.85969786j, -2.57320556e-01-0.10228881j,\n",
       "         4.57942944e-02+0.1093538j , -6.28373537e-01-0.12383564j,\n",
       "        -3.43463621e-01-0.81305864j,  1.22079569e-01+0.38631155j,\n",
       "        -1.64060251e-01+0.26270011j, -7.47967355e-01-0.69623027j,\n",
       "         2.73072443e-01+0.37145632j]])"
      ]
     },
     "execution_count": 8,
     "metadata": {},
     "output_type": "execute_result"
    }
   ],
   "source": [
    "%time fast_sim_func_dense(0.4).block_until_ready()"
   ]
  },
  {
   "cell_type": "code",
   "execution_count": 9,
   "metadata": {
    "tags": []
   },
   "outputs": [
    {
     "name": "stdout",
     "output_type": "stream",
     "text": [
      "102 ms ± 1.08 ms per loop (mean ± std. dev. of 7 runs, 10 loops each)\n",
      "(21, 9)\n",
      "20.4 s ± 168 ms per loop (mean ± std. dev. of 7 runs, 1 loop each)\n"
     ]
    }
   ],
   "source": [
    "%timeit fast_sim_func_sparse(0.4).block_until_ready()\n",
    "\n",
    "res = fast_sim_func_sparse(0.4)\n",
    "print(res.shape)\n",
    "\n",
    "batch_amps = jnp.linspace(0.0, 0.5, 300)\n",
    "\n",
    "\n",
    "def for_batch(batch_amps, fast_sim_func):\n",
    "    for a in batch_amps:\n",
    "        _ = fast_sim_func(a)\n",
    "\n",
    "\n",
    "%timeit for_batch(batch_amps, fast_sim_func_sparse)"
   ]
  },
  {
   "cell_type": "code",
   "execution_count": 10,
   "metadata": {
    "tags": []
   },
   "outputs": [
    {
     "name": "stdout",
     "output_type": "stream",
     "text": [
      "9.32 ms ± 188 µs per loop (mean ± std. dev. of 7 runs, 100 loops each)\n",
      "(21, 9)\n",
      "1.87 s ± 15.9 ms per loop (mean ± std. dev. of 7 runs, 1 loop each)\n"
     ]
    }
   ],
   "source": [
    "%timeit fast_sim_func_dense(0.4).block_until_ready()\n",
    "\n",
    "res = fast_sim_func_dense(0.4)\n",
    "print(res.shape)\n",
    "\n",
    "batch_amps = jnp.linspace(0.0, 0.5, 300)\n",
    "\n",
    "\n",
    "def for_batch(batch_amps, fast_sim_func):\n",
    "    for a in batch_amps:\n",
    "        _ = fast_sim_func(a)\n",
    "\n",
    "\n",
    "%timeit for_batch(batch_amps, fast_sim_func_dense)"
   ]
  },
  {
   "cell_type": "code",
   "execution_count": 9,
   "metadata": {
    "tags": []
   },
   "outputs": [
    {
     "data": {
      "image/png": "[encoded data removed]",
      "text/plain": [
       "<Figure size 1300x495 with 1 Axes>"
      ]
     },
     "execution_count": 9,
     "metadata": {},
     "output_type": "execute_result"
    }
   ],
   "source": [
    "_t, _duration, _amp, _sigma, _angle = sym.symbols(\"t, duration, amp, sigma, angle\")\n",
    "_center = _duration / 2\n",
    "\n",
    "envelope_expr = (\n",
    "    _amp * sym.exp(sym.I * _angle) * lifted_gaussian(_t, _center, _duration + 1, _sigma)\n",
    ")\n",
    "\n",
    "amp = Parameter(\"amp\")\n",
    "\n",
    "gaussian_pulse = pulse.ScalableSymbolicPulse(\n",
    "    pulse_type=\"Gaussian\",\n",
    "    duration=160,\n",
    "    amp=amp,\n",
    "    angle=0,\n",
    "    parameters={\"sigma\": 40},\n",
    "    envelope=envelope_expr,\n",
    "    constraints=_sigma > 0,\n",
    "    valid_amp_conditions=sym.Abs(_amp) <= 1.0,\n",
    ")\n",
    "\n",
    "# build a pulse schedule\n",
    "with pulse.build(default_alignment=\"sequential\") as schedule:\n",
    "    pulse.play(gaussian_pulse, pulse.DriveChannel(0))\n",
    "    pulse.play(gaussian_pulse, pulse.DriveChannel(1))\n",
    "    pulse.play(gaussian_pulse, pulse.ControlChannel(0))\n",
    "    pulse.acquire(duration=1, qubit_or_channel=0, register=pulse.MemorySlot(0))\n",
    "\n",
    "schedule.assign_parameters({amp: 0.1}).draw()"
   ]
  },
  {
   "cell_type": "code",
   "execution_count": 12,
   "metadata": {
    "tags": []
   },
   "outputs": [
    {
     "name": "stdout",
     "output_type": "stream",
     "text": [
      "545 µs ± 17.7 µs per loop (mean ± std. dev. of 7 runs, 1,000 loops each)\n",
      "300\n"
     ]
    }
   ],
   "source": [
    "batch_amps = np.linspace(0.0, 0.5, 300)\n",
    "batch_circuits = [schedule.assign_parameters({amp: a}) for a in batch_amps]\n",
    "%timeit batch_circuits =[schedule.assign_parameters({amp: a}) for a in batch_amps]\n",
    "print(len(batch_circuits))"
   ]
  },
  {
   "cell_type": "code",
   "execution_count": 10,
   "metadata": {
    "tags": []
   },
   "outputs": [],
   "source": [
    "# Consistent solver option to use throughout notebook\n",
    "solver_options = {\"method\": \"jax_odeint\", \"atol\": atol, \"rtol\": rtol, \"hmax\": dt}\n",
    "\n",
    "initial_state = Statevector(np.array([1.0, 0.0, 0.0, 0.0, 0.0, 1.0, 0.0, 0.0, 1.0]))\n",
    "# initial_state = DensityMatrix(full_ident)\n",
    "\n",
    "backend_sparse = DynamicsBackend(\n",
    "    solver=solver_sparse,\n",
    "    subsystem_dims=[dim, dim],  # for computing measurement data\n",
    "    solver_options=solver_options,  # to be used every time run is called\n",
    "    initial_state=initial_state,\n",
    ")\n",
    "backend_dense = DynamicsBackend(\n",
    "    solver=solver_dense,\n",
    "    subsystem_dims=[dim, dim],  # for computing measurement data\n",
    "    solver_options=solver_options,  # to be used every time run is called\n",
    "    initial_state=initial_state,\n",
    ")"
   ]
  },
  {
   "cell_type": "code",
   "execution_count": 14,
   "metadata": {
    "tags": []
   },
   "outputs": [
    {
     "name": "stdout",
     "output_type": "stream",
     "text": [
      "CPU times: user 46.4 s, sys: 87.1 ms, total: 46.5 s\n",
      "Wall time: 47.1 s\n"
     ]
    }
   ],
   "source": [
    "# Timing for the full run\n",
    "%time job = backend_sparse.run(batch_circuits, shots=100)"
   ]
  },
  {
   "cell_type": "code",
   "execution_count": 11,
   "metadata": {
    "tags": []
   },
   "outputs": [
    {
     "name": "stdout",
     "output_type": "stream",
     "text": [
      "CPU times: user 88.8 ms, sys: 4.02 ms, total: 92.8 ms\n",
      "Wall time: 95.1 ms\n"
     ]
    }
   ],
   "source": [
    "# Timing for the passage without the solving (just compilation)\n",
    "%time job = backend_sparse.run(batch_circuits, shots=100)"
   ]
  },
  {
   "cell_type": "code",
   "execution_count": 13,
   "metadata": {
    "tags": []
   },
   "outputs": [
    {
     "ename": "QiskitError",
     "evalue": "'Invalid input: not a vector or column-vector.'",
     "output_type": "error",
     "traceback": [
      "\u001B[0;31m---------------------------------------------------------------------------\u001B[0m",
      "\u001B[0;31mQiskitError\u001B[0m                               Traceback (most recent call last)",
      "File \u001B[0;32m<timed exec>:1\u001B[0m\n",
      "File \u001B[0;32m~/opt/anaconda3/envs/custom_dynamics/lib/python3.9/site-packages/qiskit_dynamics/backend/dynamics_backend.py:398\u001B[0m, in \u001B[0;36mDynamicsBackend.run\u001B[0;34m(self, run_input, validate, **options)\u001B[0m\n\u001B[1;32m    385\u001B[0m job_id \u001B[38;5;241m=\u001B[39m \u001B[38;5;28mstr\u001B[39m(uuid\u001B[38;5;241m.\u001B[39muuid4())\n\u001B[1;32m    386\u001B[0m dynamics_job \u001B[38;5;241m=\u001B[39m DynamicsJob(\n\u001B[1;32m    387\u001B[0m     backend\u001B[38;5;241m=\u001B[39mbackend,\n\u001B[1;32m    388\u001B[0m     job_id\u001B[38;5;241m=\u001B[39mjob_id,\n\u001B[0;32m   (...)\u001B[0m\n\u001B[1;32m    396\u001B[0m     },\n\u001B[1;32m    397\u001B[0m )\n\u001B[0;32m--> 398\u001B[0m \u001B[43mdynamics_job\u001B[49m\u001B[38;5;241;43m.\u001B[39;49m\u001B[43msubmit\u001B[49m\u001B[43m(\u001B[49m\u001B[43m)\u001B[49m\n\u001B[1;32m    400\u001B[0m \u001B[38;5;28;01mreturn\u001B[39;00m dynamics_job\n",
      "File \u001B[0;32m~/opt/anaconda3/envs/custom_dynamics/lib/python3.9/site-packages/qiskit_dynamics/backend/dynamics_job.py:54\u001B[0m, in \u001B[0;36mDynamicsJob.submit\u001B[0;34m(self)\u001B[0m\n\u001B[1;32m     52\u001B[0m \u001B[38;5;28;01mif\u001B[39;00m \u001B[38;5;28mself\u001B[39m\u001B[38;5;241m.\u001B[39m_result \u001B[38;5;129;01mis\u001B[39;00m \u001B[38;5;129;01mnot\u001B[39;00m \u001B[38;5;28;01mNone\u001B[39;00m:\n\u001B[1;32m     53\u001B[0m     \u001B[38;5;28;01mraise\u001B[39;00m JobError(\u001B[38;5;124m\"\u001B[39m\u001B[38;5;124mDynamics job has already been submitted.\u001B[39m\u001B[38;5;124m\"\u001B[39m)\n\u001B[0;32m---> 54\u001B[0m \u001B[38;5;28mself\u001B[39m\u001B[38;5;241m.\u001B[39m_result \u001B[38;5;241m=\u001B[39m \u001B[38;5;28;43mself\u001B[39;49m\u001B[38;5;241;43m.\u001B[39;49m\u001B[43m_fn\u001B[49m\u001B[43m(\u001B[49m\u001B[43mjob_id\u001B[49m\u001B[38;5;241;43m=\u001B[39;49m\u001B[38;5;28;43mself\u001B[39;49m\u001B[38;5;241;43m.\u001B[39;49m\u001B[43mjob_id\u001B[49m\u001B[43m(\u001B[49m\u001B[43m)\u001B[49m\u001B[43m,\u001B[49m\u001B[43m \u001B[49m\u001B[38;5;241;43m*\u001B[39;49m\u001B[38;5;241;43m*\u001B[39;49m\u001B[38;5;28;43mself\u001B[39;49m\u001B[38;5;241;43m.\u001B[39;49m\u001B[43m_fn_kwargs\u001B[49m\u001B[43m)\u001B[49m\n\u001B[1;32m     55\u001B[0m \u001B[38;5;28mself\u001B[39m\u001B[38;5;241m.\u001B[39m_time_per_step[\u001B[38;5;124m\"\u001B[39m\u001B[38;5;124mCOMPLETED\u001B[39m\u001B[38;5;124m\"\u001B[39m] \u001B[38;5;241m=\u001B[39m datetime\u001B[38;5;241m.\u001B[39mnow()\n",
      "File \u001B[0;32m~/opt/anaconda3/envs/custom_dynamics/lib/python3.9/site-packages/qiskit_dynamics/backend/dynamics_backend.py:418\u001B[0m, in \u001B[0;36mDynamicsBackend._run\u001B[0;34m(self, job_id, t_span, schedules, measurement_subsystems_list, memory_slot_indices_list, num_memory_slots_list)\u001B[0m\n\u001B[1;32m    415\u001B[0m \u001B[38;5;28;01mif\u001B[39;00m y0 \u001B[38;5;241m==\u001B[39m \u001B[38;5;124m\"\u001B[39m\u001B[38;5;124mground_state\u001B[39m\u001B[38;5;124m\"\u001B[39m:\n\u001B[1;32m    416\u001B[0m     y0 \u001B[38;5;241m=\u001B[39m Statevector(\u001B[38;5;28mself\u001B[39m\u001B[38;5;241m.\u001B[39m_dressed_states[:, \u001B[38;5;241m0\u001B[39m])\n\u001B[0;32m--> 418\u001B[0m solver_results \u001B[38;5;241m=\u001B[39m \u001B[38;5;28;43mself\u001B[39;49m\u001B[38;5;241;43m.\u001B[39;49m\u001B[43moptions\u001B[49m\u001B[38;5;241;43m.\u001B[39;49m\u001B[43msolver\u001B[49m\u001B[38;5;241;43m.\u001B[39;49m\u001B[43msolve\u001B[49m\u001B[43m(\u001B[49m\n\u001B[1;32m    419\u001B[0m \u001B[43m    \u001B[49m\u001B[43mt_span\u001B[49m\u001B[38;5;241;43m=\u001B[39;49m\u001B[43mt_span\u001B[49m\u001B[43m,\u001B[49m\u001B[43m \u001B[49m\u001B[43my0\u001B[49m\u001B[38;5;241;43m=\u001B[39;49m\u001B[43my0\u001B[49m\u001B[43m,\u001B[49m\u001B[43m \u001B[49m\u001B[43msignals\u001B[49m\u001B[38;5;241;43m=\u001B[39;49m\u001B[43mschedules\u001B[49m\u001B[43m,\u001B[49m\u001B[43m \u001B[49m\u001B[38;5;241;43m*\u001B[39;49m\u001B[38;5;241;43m*\u001B[39;49m\u001B[38;5;28;43mself\u001B[39;49m\u001B[38;5;241;43m.\u001B[39;49m\u001B[43moptions\u001B[49m\u001B[38;5;241;43m.\u001B[39;49m\u001B[43msolver_options\u001B[49m\n\u001B[1;32m    420\u001B[0m \u001B[43m\u001B[49m\u001B[43m)\u001B[49m\n\u001B[1;32m    422\u001B[0m \u001B[38;5;66;03m# compute results for each experiment\u001B[39;00m\n\u001B[1;32m    423\u001B[0m experiment_names \u001B[38;5;241m=\u001B[39m [schedule\u001B[38;5;241m.\u001B[39mname \u001B[38;5;28;01mfor\u001B[39;00m schedule \u001B[38;5;129;01min\u001B[39;00m schedules]\n",
      "File \u001B[0;32m~/opt/anaconda3/envs/custom_dynamics/lib/python3.9/site-packages/qiskit_dynamics/solvers/solver_classes.py:529\u001B[0m, in \u001B[0;36mSolver.solve\u001B[0;34m(self, t_span, y0, signals, convert_results, **kwargs)\u001B[0m\n\u001B[1;32m    521\u001B[0m method \u001B[38;5;241m=\u001B[39m kwargs\u001B[38;5;241m.\u001B[39mget(\u001B[38;5;124m\"\u001B[39m\u001B[38;5;124mmethod\u001B[39m\u001B[38;5;124m\"\u001B[39m, \u001B[38;5;124m\"\u001B[39m\u001B[38;5;124m\"\u001B[39m)\n\u001B[1;32m    522\u001B[0m \u001B[38;5;28;01mif\u001B[39;00m (\n\u001B[1;32m    523\u001B[0m     Array\u001B[38;5;241m.\u001B[39mdefault_backend() \u001B[38;5;241m==\u001B[39m \u001B[38;5;124m\"\u001B[39m\u001B[38;5;124mjax\u001B[39m\u001B[38;5;124m\"\u001B[39m\n\u001B[1;32m    524\u001B[0m     \u001B[38;5;129;01mand\u001B[39;00m (method \u001B[38;5;241m==\u001B[39m \u001B[38;5;124m\"\u001B[39m\u001B[38;5;124mjax_odeint\u001B[39m\u001B[38;5;124m\"\u001B[39m \u001B[38;5;129;01mor\u001B[39;00m _is_diffrax_method(method))\n\u001B[0;32m   (...)\u001B[0m\n\u001B[1;32m    527\u001B[0m     \u001B[38;5;129;01mand\u001B[39;00m \u001B[38;5;129;01mnot\u001B[39;00m (\u001B[38;5;28misinstance\u001B[39m(jnp\u001B[38;5;241m.\u001B[39marray(\u001B[38;5;241m0\u001B[39m), core\u001B[38;5;241m.\u001B[39mTracer))\n\u001B[1;32m    528\u001B[0m ):\n\u001B[0;32m--> 529\u001B[0m     all_results \u001B[38;5;241m=\u001B[39m \u001B[38;5;28;43mself\u001B[39;49m\u001B[38;5;241;43m.\u001B[39;49m\u001B[43m_solve_schedule_list_jax\u001B[49m\u001B[43m(\u001B[49m\n\u001B[1;32m    530\u001B[0m \u001B[43m        \u001B[49m\u001B[43mt_span_list\u001B[49m\u001B[38;5;241;43m=\u001B[39;49m\u001B[43mt_span_list\u001B[49m\u001B[43m,\u001B[49m\n\u001B[1;32m    531\u001B[0m \u001B[43m        \u001B[49m\u001B[43my0_list\u001B[49m\u001B[38;5;241;43m=\u001B[39;49m\u001B[43my0_list\u001B[49m\u001B[43m,\u001B[49m\n\u001B[1;32m    532\u001B[0m \u001B[43m        \u001B[49m\u001B[43mschedule_list\u001B[49m\u001B[38;5;241;43m=\u001B[39;49m\u001B[43msignals_list\u001B[49m\u001B[43m,\u001B[49m\n\u001B[1;32m    533\u001B[0m \u001B[43m        \u001B[49m\u001B[43mconvert_results\u001B[49m\u001B[38;5;241;43m=\u001B[39;49m\u001B[43mconvert_results\u001B[49m\u001B[43m,\u001B[49m\n\u001B[1;32m    534\u001B[0m \u001B[43m        \u001B[49m\u001B[38;5;241;43m*\u001B[39;49m\u001B[38;5;241;43m*\u001B[39;49m\u001B[43mkwargs\u001B[49m\u001B[43m,\u001B[49m\n\u001B[1;32m    535\u001B[0m \u001B[43m    \u001B[49m\u001B[43m)\u001B[49m\n\u001B[1;32m    536\u001B[0m \u001B[38;5;28;01melse\u001B[39;00m:\n\u001B[1;32m    537\u001B[0m     all_results \u001B[38;5;241m=\u001B[39m \u001B[38;5;28mself\u001B[39m\u001B[38;5;241m.\u001B[39m_solve_list(\n\u001B[1;32m    538\u001B[0m         t_span_list\u001B[38;5;241m=\u001B[39mt_span_list,\n\u001B[1;32m    539\u001B[0m         y0_list\u001B[38;5;241m=\u001B[39my0_list,\n\u001B[0;32m   (...)\u001B[0m\n\u001B[1;32m    542\u001B[0m         \u001B[38;5;241m*\u001B[39m\u001B[38;5;241m*\u001B[39mkwargs,\n\u001B[1;32m    543\u001B[0m     )\n",
      "File \u001B[0;32m~/opt/anaconda3/envs/custom_dynamics/lib/python3.9/site-packages/qiskit_dynamics/solvers/solver_classes.py:666\u001B[0m, in \u001B[0;36mSolver._solve_schedule_list_jax\u001B[0;34m(self, t_span_list, y0_list, schedule_list, convert_results, **kwargs)\u001B[0m\n\u001B[1;32m    663\u001B[0m     results \u001B[38;5;241m=\u001B[39m OdeResult(t\u001B[38;5;241m=\u001B[39mnp\u001B[38;5;241m.\u001B[39mzeros(\u001B[38;5;28mlen\u001B[39m(t_span_list)), y\u001B[38;5;241m=\u001B[39mnp\u001B[38;5;241m.\u001B[39mzeros(\u001B[38;5;28mlen\u001B[39m(y0_list)))\n\u001B[1;32m    665\u001B[0m     \u001B[38;5;28;01mif\u001B[39;00m y0_cls \u001B[38;5;129;01mis\u001B[39;00m \u001B[38;5;129;01mnot\u001B[39;00m \u001B[38;5;28;01mNone\u001B[39;00m \u001B[38;5;129;01mand\u001B[39;00m convert_results:\n\u001B[0;32m--> 666\u001B[0m         results\u001B[38;5;241m.\u001B[39my \u001B[38;5;241m=\u001B[39m [state_type_wrapper(yi) \u001B[38;5;28;01mfor\u001B[39;00m yi \u001B[38;5;129;01min\u001B[39;00m results\u001B[38;5;241m.\u001B[39my]\n\u001B[1;32m    668\u001B[0m     all_results\u001B[38;5;241m.\u001B[39mappend(results)\n\u001B[1;32m    670\u001B[0m \u001B[38;5;28;01mreturn\u001B[39;00m all_results\n",
      "File \u001B[0;32m~/opt/anaconda3/envs/custom_dynamics/lib/python3.9/site-packages/qiskit_dynamics/solvers/solver_classes.py:666\u001B[0m, in \u001B[0;36m<listcomp>\u001B[0;34m(.0)\u001B[0m\n\u001B[1;32m    663\u001B[0m     results \u001B[38;5;241m=\u001B[39m OdeResult(t\u001B[38;5;241m=\u001B[39mnp\u001B[38;5;241m.\u001B[39mzeros(\u001B[38;5;28mlen\u001B[39m(t_span_list)), y\u001B[38;5;241m=\u001B[39mnp\u001B[38;5;241m.\u001B[39mzeros(\u001B[38;5;28mlen\u001B[39m(y0_list)))\n\u001B[1;32m    665\u001B[0m     \u001B[38;5;28;01mif\u001B[39;00m y0_cls \u001B[38;5;129;01mis\u001B[39;00m \u001B[38;5;129;01mnot\u001B[39;00m \u001B[38;5;28;01mNone\u001B[39;00m \u001B[38;5;129;01mand\u001B[39;00m convert_results:\n\u001B[0;32m--> 666\u001B[0m         results\u001B[38;5;241m.\u001B[39my \u001B[38;5;241m=\u001B[39m [\u001B[43mstate_type_wrapper\u001B[49m\u001B[43m(\u001B[49m\u001B[43myi\u001B[49m\u001B[43m)\u001B[49m \u001B[38;5;28;01mfor\u001B[39;00m yi \u001B[38;5;129;01min\u001B[39;00m results\u001B[38;5;241m.\u001B[39my]\n\u001B[1;32m    668\u001B[0m     all_results\u001B[38;5;241m.\u001B[39mappend(results)\n\u001B[1;32m    670\u001B[0m \u001B[38;5;28;01mreturn\u001B[39;00m all_results\n",
      "File \u001B[0;32m~/opt/anaconda3/envs/custom_dynamics/lib/python3.9/site-packages/qiskit_dynamics/solvers/solver_classes.py:718\u001B[0m, in \u001B[0;36minitial_state_converter.<locals>.<lambda>\u001B[0;34m(x)\u001B[0m\n\u001B[1;32m    716\u001B[0m \u001B[38;5;28;01mif\u001B[39;00m \u001B[38;5;28misinstance\u001B[39m(obj, QuantumState):\n\u001B[1;32m    717\u001B[0m     y0, y0_cls \u001B[38;5;241m=\u001B[39m Array(obj\u001B[38;5;241m.\u001B[39mdata), obj\u001B[38;5;241m.\u001B[39m\u001B[38;5;18m__class__\u001B[39m\n\u001B[0;32m--> 718\u001B[0m     wrapper \u001B[38;5;241m=\u001B[39m \u001B[38;5;28;01mlambda\u001B[39;00m x: \u001B[43my0_cls\u001B[49m\u001B[43m(\u001B[49m\u001B[43mnp\u001B[49m\u001B[38;5;241;43m.\u001B[39;49m\u001B[43marray\u001B[49m\u001B[43m(\u001B[49m\u001B[43mx\u001B[49m\u001B[43m)\u001B[49m\u001B[43m,\u001B[49m\u001B[43m \u001B[49m\u001B[43mdims\u001B[49m\u001B[38;5;241;43m=\u001B[39;49m\u001B[43mobj\u001B[49m\u001B[38;5;241;43m.\u001B[39;49m\u001B[43mdims\u001B[49m\u001B[43m(\u001B[49m\u001B[43m)\u001B[49m\u001B[43m)\u001B[49m\n\u001B[1;32m    719\u001B[0m \u001B[38;5;28;01melif\u001B[39;00m \u001B[38;5;28misinstance\u001B[39m(obj, QuantumChannel):\n\u001B[1;32m    720\u001B[0m     y0, y0_cls \u001B[38;5;241m=\u001B[39m Array(SuperOp(obj)\u001B[38;5;241m.\u001B[39mdata), SuperOp\n",
      "File \u001B[0;32m~/opt/anaconda3/envs/custom_dynamics/lib/python3.9/site-packages/qiskit/quantum_info/states/statevector.py:103\u001B[0m, in \u001B[0;36mStatevector.__init__\u001B[0;34m(self, data, dims)\u001B[0m\n\u001B[1;32m    101\u001B[0m         shape \u001B[38;5;241m=\u001B[39m \u001B[38;5;28mself\u001B[39m\u001B[38;5;241m.\u001B[39m_data\u001B[38;5;241m.\u001B[39mshape\n\u001B[1;32m    102\u001B[0m     \u001B[38;5;28;01melif\u001B[39;00m ndim \u001B[38;5;241m!=\u001B[39m \u001B[38;5;241m2\u001B[39m \u001B[38;5;129;01mor\u001B[39;00m shape[\u001B[38;5;241m1\u001B[39m] \u001B[38;5;241m!=\u001B[39m \u001B[38;5;241m1\u001B[39m:\n\u001B[0;32m--> 103\u001B[0m         \u001B[38;5;28;01mraise\u001B[39;00m QiskitError(\u001B[38;5;124m\"\u001B[39m\u001B[38;5;124mInvalid input: not a vector or column-vector.\u001B[39m\u001B[38;5;124m\"\u001B[39m)\n\u001B[1;32m    104\u001B[0m \u001B[38;5;28msuper\u001B[39m()\u001B[38;5;241m.\u001B[39m\u001B[38;5;21m__init__\u001B[39m(op_shape\u001B[38;5;241m=\u001B[39mOpShape\u001B[38;5;241m.\u001B[39mauto(shape\u001B[38;5;241m=\u001B[39mshape, dims_l\u001B[38;5;241m=\u001B[39mdims, num_qubits_r\u001B[38;5;241m=\u001B[39m\u001B[38;5;241m0\u001B[39m))\n",
      "\u001B[0;31mQiskitError\u001B[0m: 'Invalid input: not a vector or column-vector.'"
     ]
    }
   ],
   "source": [
    "# Timing for the passage without the solving (compilation -w/o sim -w sched to sample conv)\n",
    "%time job = backend_sparse.run(batch_circuits, shots=100)"
   ]
  },
  {
   "cell_type": "code",
   "execution_count": null,
   "metadata": {},
   "outputs": [],
   "source": []
  },
  {
   "cell_type": "code",
   "execution_count": null,
   "metadata": {},
   "outputs": [],
   "source": []
  },
  {
   "cell_type": "code",
   "execution_count": 15,
   "metadata": {
    "tags": []
   },
   "outputs": [
    {
     "name": "stdout",
     "output_type": "stream",
     "text": [
      "45.6 s ± 255 ms per loop (mean ± std. dev. of 7 runs, 1 loop each)\n"
     ]
    }
   ],
   "source": [
    "# Timing for the full run\n",
    "%timeit job = backend_sparse.run(batch_circuits, shots=100)"
   ]
  },
  {
   "cell_type": "code",
   "execution_count": 12,
   "metadata": {
    "tags": []
   },
   "outputs": [
    {
     "name": "stdout",
     "output_type": "stream",
     "text": [
      "72.9 ms ± 3.42 ms per loop (mean ± std. dev. of 7 runs, 10 loops each)\n"
     ]
    }
   ],
   "source": [
    "# Timing for the passage without the solving (just compilation)\n",
    "%timeit job = backend_sparse.run(batch_circuits, shots=100)"
   ]
  },
  {
   "cell_type": "code",
   "execution_count": 12,
   "metadata": {
    "tags": []
   },
   "outputs": [
    {
     "name": "stdout",
     "output_type": "stream",
     "text": [
      "72.9 ms ± 3.42 ms per loop (mean ± std. dev. of 7 runs, 10 loops each)\n"
     ]
    }
   ],
   "source": [
    "# Timing for the passage without the solving (compilation -w/o sim -w sched to sample conv)\n",
    "%timeit job = backend_sparse.run(batch_circuits, shots=100)"
   ]
  },
  {
   "cell_type": "code",
   "execution_count": 16,
   "metadata": {
    "tags": []
   },
   "outputs": [
    {
     "name": "stdout",
     "output_type": "stream",
     "text": [
      "CPU times: user 20.9 s, sys: 28 ms, total: 20.9 s\n",
      "Wall time: 21.2 s\n"
     ]
    }
   ],
   "source": [
    "%time job = backend_dense.run(batch_circuits, shots=100)"
   ]
  },
  {
   "cell_type": "code",
   "execution_count": 17,
   "metadata": {
    "tags": []
   },
   "outputs": [
    {
     "name": "stdout",
     "output_type": "stream",
     "text": [
      "20.4 s ± 210 ms per loop (mean ± std. dev. of 7 runs, 1 loop each)\n"
     ]
    }
   ],
   "source": [
    "%timeit job = backend_dense.run(batch_circuits, shots=100)"
   ]
  },
  {
   "cell_type": "code",
   "execution_count": 13,
   "metadata": {
    "tags": []
   },
   "outputs": [
    {
     "name": "stdout",
     "output_type": "stream",
     "text": [
      "68.6 ms ± 4.56 ms per loop (mean ± std. dev. of 7 runs, 10 loops each)\n"
     ]
    }
   ],
   "source": [
    "%timeit job = backend_dense.run(batch_circuits, shots=100)"
   ]
  },
  {
   "cell_type": "code",
   "metadata": {
    "tags": [],
    "ExecuteTime": {
     "end_time": "2024-04-09T03:57:09.339999Z",
     "start_time": "2024-04-09T03:19:57.055581Z"
    }
   },
   "source": [
    "from qiskit.pulse import Schedule, Play\n",
    "from qiskit.circuit import QuantumCircuit, Parameter, ParameterVector\n",
    "from qiskit.quantum_info import SparsePauliOp\n",
    "from qiskit.providers.fake_provider import GenericBackendV2\n",
    "from qiskit_ibm_runtime.fake_provider.local_service import BackendEstimatorV2\n",
    "\n",
    "backend = GenericBackendV2(2)\n",
    "qc = QuantumCircuit(2)\n",
    "param = Parameter(\"phi\")\n",
    "param2 = Parameter(\"theta\")\n",
    "paramvec = ParameterVector(\"theta\", 2)\n",
    "qc.rx(paramvec[0], 0)\n",
    "qc.ry(paramvec[1], 1)\n",
    "qc.cx(0, 1)\n",
    "\n",
    "qc2 = QuantumCircuit(2)\n",
    "qc2.rx(param, 0)\n",
    "qc2.ry(param2, 1)\n",
    "qc2.cx(0, 1)\n",
    "qc2.x(0)\n",
    "estimator = BackendEstimatorV2(backend=backend)\n",
    "observables = [SparsePauliOp.from_list([(\"ZI\", 1), (\"XZ\", 1)])]\n",
    "\n",
    "job = estimator.run(\n",
    "    [\n",
    "        (qc, observables, [[0.1, 0.3], [0.2, 0.5]]),\n",
    "        (qc2, observables, [[0.1, 0.3], [0.2, 0.5]]),\n",
    "    ]\n",
    ")\n",
    "result = job.result()\n",
    "ev = result[0].data"
   ],
   "outputs": [],
   "execution_count": 1
  },
  {
   "cell_type": "code",
   "execution_count": 5,
   "metadata": {
    "ExecuteTime": {
     "end_time": "2024-03-27T14:19:47.209806Z",
     "start_time": "2024-03-27T14:19:47.206699Z"
    }
   },
   "outputs": [
    {
     "data": {
      "text/plain": "DataBin<3>(evs=[-0.00976562  0.01074219  0.00048828], stds=[0.01562425 0.0156241  0.015625  ])"
     },
     "execution_count": 5,
     "metadata": {},
     "output_type": "execute_result"
    }
   ],
   "source": []
  },
  {
   "cell_type": "code",
   "source": [
    "import jax\n",
    "import jax.numpy as jnp\n",
    "\n",
    "# Define a dictionary with integer keys\n",
    "dict = {0: \"zero\", 1: \"one\", 2: \"two\"}\n",
    "\n",
    "\n",
    "# Define a function that uses a traced integer to access the dictionary\n",
    "def func(x):\n",
    "    x_rounded = jnp.round(x).astype(int)\n",
    "    return jax.lax.switch(\n",
    "        x_rounded, [lambda _: v for v in dict.values()], lambda _: \"default\"\n",
    "    )\n",
    "\n",
    "\n",
    "# JIT compile the function\n",
    "jit_func = jax.jit(func)\n",
    "\n",
    "# Call the JIT compiled function\n",
    "print(jit_func(1.9))  # Outputs: 'two'"
   ],
   "metadata": {
    "collapsed": false,
    "ExecuteTime": {
     "end_time": "2024-04-09T04:01:43.066678Z",
     "start_time": "2024-04-09T04:01:43.022216Z"
    }
   },
   "outputs": [
    {
     "ename": "TypeError",
     "evalue": "Value <function func.<locals>.<lambda> at 0x33dfdff60> with type <class 'function'> is not a valid JAX type",
     "output_type": "error",
     "traceback": [
      "\u001B[0;31m---------------------------------------------------------------------------\u001B[0m",
      "\u001B[0;31mTypeError\u001B[0m                                 Traceback (most recent call last)",
      "Cell \u001B[0;32mIn[6], line 16\u001B[0m\n\u001B[1;32m     13\u001B[0m jit_func \u001B[38;5;241m=\u001B[39m jax\u001B[38;5;241m.\u001B[39mjit(func)\n\u001B[1;32m     15\u001B[0m \u001B[38;5;66;03m# Call the JIT compiled function\u001B[39;00m\n\u001B[0;32m---> 16\u001B[0m \u001B[38;5;28mprint\u001B[39m(jit_func(\u001B[38;5;241m1.9\u001B[39m))\n",
      "    \u001B[0;31m[... skipping hidden 12 frame]\u001B[0m\n",
      "Cell \u001B[0;32mIn[6], line 10\u001B[0m, in \u001B[0;36mfunc\u001B[0;34m(x)\u001B[0m\n\u001B[1;32m      8\u001B[0m \u001B[38;5;28;01mdef\u001B[39;00m \u001B[38;5;21mfunc\u001B[39m(x):\n\u001B[1;32m      9\u001B[0m     x_rounded \u001B[38;5;241m=\u001B[39m jnp\u001B[38;5;241m.\u001B[39mround(x)\u001B[38;5;241m.\u001B[39mastype(\u001B[38;5;28mint\u001B[39m)\n\u001B[0;32m---> 10\u001B[0m     \u001B[38;5;28;01mreturn\u001B[39;00m jax\u001B[38;5;241m.\u001B[39mlax\u001B[38;5;241m.\u001B[39mswitch(x_rounded, [\u001B[38;5;28;01mlambda\u001B[39;00m _: v \u001B[38;5;28;01mfor\u001B[39;00m v \u001B[38;5;129;01min\u001B[39;00m \u001B[38;5;28mdict\u001B[39m\u001B[38;5;241m.\u001B[39mvalues()], \u001B[38;5;28;01mlambda\u001B[39;00m _: \u001B[38;5;124m'\u001B[39m\u001B[38;5;124mdefault\u001B[39m\u001B[38;5;124m'\u001B[39m)\n",
      "    \u001B[0;31m[... skipping hidden 4 frame]\u001B[0m\n",
      "File \u001B[0;32m~/anaconda3/envs/rl_qoc_v1/lib/python3.11/site-packages/jax/_src/core.py:1490\u001B[0m, in \u001B[0;36mconcrete_aval\u001B[0;34m(x)\u001B[0m\n\u001B[1;32m   1488\u001B[0m \u001B[38;5;28;01mif\u001B[39;00m \u001B[38;5;28mhasattr\u001B[39m(x, \u001B[38;5;124m'\u001B[39m\u001B[38;5;124m__jax_array__\u001B[39m\u001B[38;5;124m'\u001B[39m):\n\u001B[1;32m   1489\u001B[0m   \u001B[38;5;28;01mreturn\u001B[39;00m concrete_aval(x\u001B[38;5;241m.\u001B[39m__jax_array__())\n\u001B[0;32m-> 1490\u001B[0m \u001B[38;5;28;01mraise\u001B[39;00m \u001B[38;5;167;01mTypeError\u001B[39;00m(\u001B[38;5;124mf\u001B[39m\u001B[38;5;124m\"\u001B[39m\u001B[38;5;124mValue \u001B[39m\u001B[38;5;132;01m{\u001B[39;00mx\u001B[38;5;132;01m!r}\u001B[39;00m\u001B[38;5;124m with type \u001B[39m\u001B[38;5;132;01m{\u001B[39;00m\u001B[38;5;28mtype\u001B[39m(x)\u001B[38;5;132;01m}\u001B[39;00m\u001B[38;5;124m is not a valid JAX \u001B[39m\u001B[38;5;124m\"\u001B[39m\n\u001B[1;32m   1491\u001B[0m                  \u001B[38;5;124m\"\u001B[39m\u001B[38;5;124mtype\u001B[39m\u001B[38;5;124m\"\u001B[39m)\n",
      "\u001B[0;31mTypeError\u001B[0m: Value <function func.<locals>.<lambda> at 0x33dfdff60> with type <class 'function'> is not a valid JAX type"
     ]
    }
   ],
   "execution_count": 6
  },
  {
   "metadata": {},
   "cell_type": "code",
   "outputs": [],
   "execution_count": null,
   "source": ""
  }
 ],
 "metadata": {
  "kernelspec": {
   "display_name": "Python 3 (ipykernel)",
   "language": "python",
   "name": "python3"
  },
  "language_info": {
   "codemirror_mode": {
    "name": "ipython",
    "version": 3
   },
   "file_extension": ".py",
   "mimetype": "text/x-python",
   "name": "python",
   "nbconvert_exporter": "python",
   "pygments_lexer": "ipython3",
   "version": "3.9.16"
  },
  "widgets": {
   "application/vnd.jupyter.widget-state+json": {
    "state": {},
    "version_major": 2,
    "version_minor": 0
   }
  }
 },
 "nbformat": 4,
 "nbformat_minor": 4
}

{
 "cells": [
  {
   "cell_type": "code",
   "execution_count": 1,
   "metadata": {
    "tags": []
   },
   "outputs": [
    {
     "name": "stderr",
     "output_type": "stream",
     "text": [
      "2023-11-03 16:15:43.144225: I tensorflow/core/platform/cpu_feature_guard.cc:182] This TensorFlow binary is optimized to use available CPU instructions in performance-critical operations.\n",
      "To enable the following instructions: AVX2 FMA, in other operations, rebuild TensorFlow with the appropriate compiler flags.\n",
      "/Users/arthurstrauss/opt/anaconda3/envs/rl_qoc/lib/python3.9/site-packages/qiskit_dynamics/dispatch/backends/jax.py:34: UserWarning: The functionality in the perturbation module of Qiskit Dynamics requires a JAX version <= 0.4.6, due to a bug in JAX versions > 0.4.6. For versions 0.4.4, 0.4.5, and 0.4.6, using the perturbation module functionality requires setting os.environ['JAX_JIT_PJIT_API_MERGE'] = '0' before importing JAX or Dynamics.\n",
      "  warnings.warn(\n"
     ]
    }
   ],
   "source": [
    "import os\n",
    "import sys\n",
    "import numpy as np\n",
    "import tqdm\n",
    "from typing import Optional, Union, List\n",
    "\n",
    "import os\n",
    "\n",
    "os.environ[\"KMP_DUPLICATE_LIB_OK\"] = \"True\"\n",
    "import sys\n",
    "\n",
    "module_path = os.path.abspath(\n",
    "    os.path.join(\n",
    "        \"/Users/arthurstrauss/Library/CloudStorage/OneDrive-NationalUniversityofSingapore/Coding_projects/Quantum_Optimal_Control\"\n",
    "    )\n",
    ")\n",
    "if module_path not in sys.path:\n",
    "    sys.path.append(module_path)\n",
    "sys.path.append(\n",
    "    os.path.abspath(\n",
    "        os.path.join(\n",
    "            \"/Users/arthurstrauss/Library/CloudStorage/OneDrive-NationalUniversityofSingapore/Coding_projects/Quantum_Optimal_Control/torch_contextual_gate_calibration\"\n",
    "        )\n",
    "    )\n",
    ")\n",
    "\n",
    "from basis_gate_library import FixedFrequencyTransmon\n",
    "from helper_functions import (\n",
    "    remove_unused_wires,\n",
    "    get_control_channel_map,\n",
    "    get_solver_and_freq_from_backend,\n",
    ")\n",
    "from quantumenvironment import QuantumEnvironment\n",
    "\n",
    "import jax\n",
    "\n",
    "jax.config.update(\"jax_enable_x64\", True)\n",
    "# tell JAX we are using CPU\n",
    "jax.config.update(\"jax_platform_name\", \"cpu\")\n",
    "# import Array and set default backend\n",
    "from qiskit_dynamics.array import Array\n",
    "\n",
    "Array.set_default_backend(\"jax\")"
   ]
  },
  {
   "cell_type": "code",
   "execution_count": 2,
   "metadata": {
    "tags": []
   },
   "outputs": [],
   "source": [
    "from qiskit import pulse, transpile, schedule\n",
    "from qiskit_dynamics.backend.dynamics_backend import (\n",
    "    _get_backend_channel_freqs,\n",
    "    DynamicsBackend,\n",
    ")\n",
    "from qiskit_dynamics import Solver\n",
    "from qiskit.circuit import QuantumCircuit, QuantumRegister, ParameterVector, Gate\n",
    "from qiskit.circuit.library.standard_gates import ECRGate, SXGate, XGate\n",
    "from qiskit.providers import Backend, BackendV1, BackendV2\n",
    "from qiskit.transpiler import CouplingMap\n",
    "from qiskit_experiments.calibration_management import Calibrations\n",
    "from qiskit.pulse.library import Gaussian\n",
    "from qiskit.providers.fake_provider import (\n",
    "    FakeValencia,\n",
    "    FakeJakarta,\n",
    "    FakeJakartaV2,\n",
    "    FakeHanoi,\n",
    "    FakeCairo,\n",
    "    FakeCambridge,\n",
    ")\n",
    "from qiskit.visualization import (\n",
    "    plot_coupling_map,\n",
    "    plot_circuit_layout,\n",
    "    gate_map,\n",
    "    plot_gate_map,\n",
    ")\n",
    "from qiskit.visualization.pulse_v2 import IQXStandard\n",
    "from qiskit_ibm_runtime.options import Options, ExecutionOptions, EnvironmentOptions\n",
    "from qconfig import QiskitConfig\n",
    "\n",
    "# Circuit context and Reinforcement Learning libraries\n",
    "import gymnasium as gym\n",
    "from gymnasium.spaces import Box, Space\n",
    "\n",
    "from IPython.display import clear_output\n",
    "\n",
    "from torch.distributions import Normal\n",
    "from torch_contextual_gate_calibration.torch_quantum_environment import (\n",
    "    TorchQuantumEnvironment,\n",
    ")"
   ]
  },
  {
   "cell_type": "code",
   "execution_count": 64,
   "metadata": {
    "tags": []
   },
   "outputs": [
    {
     "name": "stdout",
     "output_type": "stream",
     "text": [
      "Backend basis gates: ['id', 'rz', 'sx', 'x', 'cx', 'reset']\n"
     ]
    },
    {
     "data": {
      "text/plain": [
       "[[0, 1],\n",
       " [1, 0],\n",
       " [1, 2],\n",
       " [1, 3],\n",
       " [2, 1],\n",
       " [3, 1],\n",
       " [3, 5],\n",
       " [4, 5],\n",
       " [5, 3],\n",
       " [5, 4],\n",
       " [5, 6],\n",
       " [6, 5]]"
      ]
     },
     "execution_count": 64,
     "metadata": {},
     "output_type": "execute_result"
    }
   ],
   "source": [
    "fake_backend = (\n",
    "    FakeJakarta()\n",
    ")  # FakeHanoi() # FakeJakarta() # mimics the bahaviour of a 7-qubits hardware\n",
    "fake_backend_v2 = FakeJakartaV2()\n",
    "print(\"Backend basis gates:\", fake_backend.configuration().basis_gates)\n",
    "plot_gate_map(fake_backend)\n",
    "fake_backend.configuration().coupling_map"
   ]
  },
  {
   "cell_type": "code",
   "execution_count": 4,
   "metadata": {
    "tags": []
   },
   "outputs": [],
   "source": [
    "def get_sx_params(backend, physical_qubits):\n",
    "    \"\"\"\n",
    "    Retrieve parameters for an SX gate from a quantum backend.\n",
    "\n",
    "    This function retrieves the default parameters for an SX gate, including amplitude, beta, sigma, and duration,\n",
    "    from a given quantum backend.\n",
    "\n",
    "    Parameters:\n",
    "    - backend (Backend): The quantum backend from which to retrieve the parameters.\n",
    "    - physical_qubits (Union[int, tuple, list]): The physical qubits on which the SX gate is applied.\n",
    "\n",
    "    Returns:\n",
    "    - default_params (dict): A dictionary containing default parameters for the SX gate.\n",
    "    - basis_gate_instructions (InstructionSchedule): The instruction schedule for the SX gate.\n",
    "    - instructions_array (numpy.ndarray): An array of instructions for the SX gate.\n",
    "    \"\"\"\n",
    "\n",
    "    if isinstance(backend, BackendV1):\n",
    "        instruction_schedule_map = backend.defaults().instruction_schedule_map\n",
    "    else:\n",
    "        instruction_schedule_map = backend.target.instruction_schedule_map()\n",
    "\n",
    "    basis_gate_instructions = instruction_schedule_map.get(\"sx\", qubits=physical_qubits)\n",
    "\n",
    "    instructions_array = np.array(basis_gate_instructions.instructions)[:, 1]\n",
    "\n",
    "    sx_pulse = basis_gate_instructions.instructions[0][1].pulse\n",
    "\n",
    "    default_params = {\n",
    "        (\"amp\", physical_qubits, \"sx\"): sx_pulse.amp,\n",
    "        # (\"angle\", physical_qubits, \"sx\"): sx_pulse.angle,\n",
    "        (\"β\", physical_qubits, \"sx\"): sx_pulse.beta,\n",
    "        (\"σ\", physical_qubits, \"sx\"): sx_pulse.sigma,\n",
    "        (\"duration\", physical_qubits, \"sx\"): sx_pulse.duration,\n",
    "    }\n",
    "\n",
    "    return default_params, basis_gate_instructions, instructions_array"
   ]
  },
  {
   "cell_type": "code",
   "execution_count": 5,
   "metadata": {
    "tags": []
   },
   "outputs": [],
   "source": [
    "def custom_sx_schedule(\n",
    "    backend: Backend,\n",
    "    physical_qubits=Union[int, tuple, list],\n",
    "    params: ParameterVector = None,\n",
    "):\n",
    "    \"\"\"\n",
    "    Generate a custom parameterized schedule for an SX gate.\n",
    "\n",
    "    This function generates a custom parameterized schedule for an SX gate on specified physical qubits\n",
    "    with the given parameters.\n",
    "\n",
    "    Parameters:\n",
    "    - backend (Backend): The quantum backend used to obtain default SX gate parameters.\n",
    "    - physical_qubits (Union[int, tuple, list]): The physical qubits on which the SX gate is applied.\n",
    "    - params (ParameterVector, optional): The parameter vector specifying the custom parameters for the SX gate.\n",
    "\n",
    "    Returns:\n",
    "    - parametrized_schedule (Schedule): A parameterized schedule for the SX gate with custom parameters.\n",
    "    \"\"\"\n",
    "\n",
    "    # pulse_features = [\"amp\", \"angle\", \"β\", \"σ\"]\n",
    "    pulse_features = [\"amp\", \"β\", \"σ\"]\n",
    "\n",
    "    global n_actions\n",
    "    assert n_actions == len(\n",
    "        params\n",
    "    ), f\"Number of actions ({n_actions}) does not match length of ParameterVector {params.name} ({len(params)})\"\n",
    "\n",
    "    if isinstance(physical_qubits, int):\n",
    "        physical_qubits = tuple(physical_qubits)\n",
    "\n",
    "    new_params, _, _ = get_sx_params(\n",
    "        backend=fake_backend, physical_qubits=physical_qubits\n",
    "    )\n",
    "\n",
    "    for i, feature in enumerate(pulse_features):\n",
    "        new_params[(feature, physical_qubits, \"sx\")] += params[i]\n",
    "\n",
    "    cals = Calibrations.from_backend(\n",
    "        backend, [FixedFrequencyTransmon([\"x\", \"sx\"])], add_parameter_defaults=True\n",
    "    )\n",
    "\n",
    "    parametrized_schedule = cals.get_schedule(\n",
    "        \"sx\", physical_qubits, assign_params=new_params\n",
    "    )\n",
    "\n",
    "    return parametrized_schedule"
   ]
  },
  {
   "cell_type": "code",
   "execution_count": 6,
   "metadata": {
    "tags": []
   },
   "outputs": [],
   "source": [
    "def add_parametrized_circuit(\n",
    "    qc: QuantumCircuit,\n",
    "    params: Optional[ParameterVector] = None,\n",
    "    tgt_register: Optional[QuantumRegister] = None,\n",
    "):\n",
    "    \"\"\"\n",
    "    Add a parametrized gate to a QuantumCircuit.\n",
    "\n",
    "    This function adds a parametrized gate to a given QuantumCircuit with optional custom parameters and target register.\n",
    "\n",
    "    Parameters:\n",
    "    - qc (QuantumCircuit): The QuantumCircuit to which the parametrized gate will be added.\n",
    "    - params (ParameterVector, optional): The parameter vector specifying the custom parameters for the gate.\n",
    "    - tgt_register (QuantumRegister, optional): The target quantum register for applying the parametrized gate.\n",
    "    \"\"\"\n",
    "\n",
    "    global n_actions, fake_backend, target\n",
    "\n",
    "    gate, physical_qubits = target[\"gate\"], target[\"register\"]\n",
    "    physical_qubits = tuple(physical_qubits)\n",
    "\n",
    "    if params is None:\n",
    "        params = ParameterVector(\"theta\", n_actions)\n",
    "    if tgt_register is None:\n",
    "        tgt_register = qc.qregs[0]\n",
    "\n",
    "    parametrized_gate = Gate(name=\"sx_cal\", num_qubits=1, params=params)\n",
    "    parametrized_schedule = custom_sx_schedule(\n",
    "        backend=fake_backend, physical_qubits=physical_qubits, params=params\n",
    "    )\n",
    "    qc.add_calibration(parametrized_gate, physical_qubits, parametrized_schedule)\n",
    "    qc.append(parametrized_gate, tgt_register)"
   ]
  },
  {
   "cell_type": "markdown",
   "metadata": {},
   "source": [
    "# Example of a target gate: RX($\\pi/2$) = $\\sqrt{X}$"
   ]
  },
  {
   "cell_type": "code",
   "execution_count": 7,
   "metadata": {
    "tags": []
   },
   "outputs": [
    {
     "name": "stdout",
     "output_type": "stream",
     "text": [
      "{'gate': Instruction(name='x', num_qubits=1, num_clbits=0, params=[]), 'register': [0]}\n"
     ]
    }
   ],
   "source": [
    "# SX gate as the target gat\n",
    "sx_gate = {\"gate\": XGate(), \"register\": [0]}\n",
    "target = sx_gate\n",
    "print(target)"
   ]
  },
  {
   "cell_type": "markdown",
   "metadata": {},
   "source": [
    "##### Quantum Circuit context"
   ]
  },
  {
   "cell_type": "code",
   "execution_count": 8,
   "metadata": {
    "tags": []
   },
   "outputs": [
    {
     "name": "stdout",
     "output_type": "stream",
     "text": [
      "Initital Circuit\n"
     ]
    },
    {
     "data": {
      "image/png": "[encoded data removed]",
      "text/plain": [
       "<Figure size 352.675x117.056 with 1 Axes>"
      ]
     },
     "execution_count": 8,
     "metadata": {},
     "output_type": "execute_result"
    }
   ],
   "source": [
    "target_circuit = QuantumCircuit(1)\n",
    "target_circuit.x(0)\n",
    "target_circuit.h(0)\n",
    "target_circuit.y(0)\n",
    "# target_circuit.x(1)\n",
    "print(\"Initital Circuit\")\n",
    "target_circuit.draw(\"mpl\")"
   ]
  },
  {
   "cell_type": "markdown",
   "metadata": {},
   "source": [
    "Transpile the (context) quantum circuit to the provided (Fake-) Backend"
   ]
  },
  {
   "cell_type": "code",
   "execution_count": 9,
   "metadata": {
    "tags": []
   },
   "outputs": [
    {
     "name": "stdout",
     "output_type": "stream",
     "text": [
      "Transpiled Circuit\n"
     ]
    },
    {
     "data": {
      "image/png": "[encoded data removed]",
      "text/plain": [
       "<Figure size 499.904x618.722 with 1 Axes>"
      ]
     },
     "execution_count": 9,
     "metadata": {},
     "output_type": "execute_result"
    }
   ],
   "source": [
    "# target_circuit.measure_all()\n",
    "transpiled_circ = transpile(\n",
    "    target_circuit,\n",
    "    fake_backend,\n",
    "    initial_layout=[0],\n",
    "    basis_gates=fake_backend.configuration().basis_gates,\n",
    "    scheduling_method=\"asap\",\n",
    "    optimization_level=1,\n",
    ")\n",
    "print(\"Transpiled Circuit\")\n",
    "remove_unused_wires(transpiled_circ).draw(\"mpl\")"
   ]
  },
  {
   "cell_type": "markdown",
   "metadata": {},
   "source": [
    "Visualization of the \"context\" quantum circuit as a pulse sequence that the parametrized SX gate will then be added to"
   ]
  },
  {
   "cell_type": "code",
   "execution_count": 10,
   "metadata": {
    "tags": []
   },
   "outputs": [
    {
     "data": {
      "image/png": "[encoded data removed]",
      "text/plain": [
       "<Figure size 1300x165 with 1 Axes>"
      ]
     },
     "execution_count": 10,
     "metadata": {},
     "output_type": "execute_result"
    }
   ],
   "source": [
    "# schedule = build_schedule(transpiled_circ, fake_backend)\n",
    "sched01 = schedule(transpiled_circ, fake_backend)\n",
    "sched01.draw(backend=fake_backend, style=IQXStandard())"
   ]
  },
  {
   "cell_type": "code",
   "execution_count": 11,
   "metadata": {
    "tags": []
   },
   "outputs": [
    {
     "name": "stdout",
     "output_type": "stream",
     "text": [
      "Target gate: {'gate': Instruction(name='x', num_qubits=1, num_clbits=0, params=[]), 'register': [0]}\n"
     ]
    }
   ],
   "source": [
    "n_actions = 3  # number of parameters for the SX gate : amplitude and angle\n",
    "print(\"Target gate:\", target)\n",
    "\n",
    "params = ParameterVector(\"theta\", n_actions)\n",
    "\n",
    "qubit = target[\"register\"]\n",
    "physical_qubits = tuple(qubit)"
   ]
  },
  {
   "cell_type": "markdown",
   "metadata": {},
   "source": [
    "Add the parameterized SX gate to the quantum circuit, so that it exists in the context (=presence) of prior gates"
   ]
  },
  {
   "cell_type": "code",
   "execution_count": 12,
   "metadata": {
    "tags": []
   },
   "outputs": [],
   "source": [
    "# add_parametrized_circuit(qc=transpiled_circ, tgt_register=target['register'])\n",
    "# print('Transpiled Circuit')\n",
    "# transpiled_circ.draw('mpl')"
   ]
  },
  {
   "cell_type": "code",
   "execution_count": 13,
   "metadata": {
    "tags": []
   },
   "outputs": [],
   "source": [
    "default_params, instructions, pulses = get_sx_params(\n",
    "    backend=fake_backend, physical_qubits=physical_qubits\n",
    ")"
   ]
  },
  {
   "cell_type": "markdown",
   "metadata": {},
   "source": [
    "Visualization of the target SX Pulse (it's a Derivative Removal by Adiabatic Gate (DRAG) pulse)"
   ]
  },
  {
   "cell_type": "code",
   "execution_count": 14,
   "metadata": {
    "tags": []
   },
   "outputs": [
    {
     "data": {
      "image/png": "[encoded data removed]",
      "text/plain": [
       "<Figure size 1300x165 with 1 Axes>"
      ]
     },
     "execution_count": 14,
     "metadata": {},
     "output_type": "execute_result"
    }
   ],
   "source": [
    "instructions.draw(backend=fake_backend, style=IQXStandard())"
   ]
  },
  {
   "cell_type": "markdown",
   "metadata": {},
   "source": [
    "Visualization of the pulse sequence for the parameterized gate within the full circuit context"
   ]
  },
  {
   "cell_type": "code",
   "execution_count": 15,
   "metadata": {
    "tags": []
   },
   "outputs": [],
   "source": [
    "# sched02 = schedule(transpiled_circ, fake_backend)\n",
    "# sched02.draw(backend=fake_backend, style=IQXStandard())"
   ]
  },
  {
   "cell_type": "markdown",
   "metadata": {},
   "source": [
    "#### Plug it into ``QuantumEnvironment``"
   ]
  },
  {
   "cell_type": "code",
   "execution_count": 28,
   "metadata": {
    "tags": []
   },
   "outputs": [],
   "source": [
    "sampling_Paulis = 50\n",
    "N_shots = 200\n",
    "n_actions = 4  # Cf number of parameters in custom_schedule function above\n",
    "abstraction_level = \"pulse\""
   ]
  },
  {
   "cell_type": "code",
   "execution_count": 29,
   "metadata": {
    "tags": []
   },
   "outputs": [
    {
     "name": "stdout",
     "output_type": "stream",
     "text": [
      "{(0, 1): 0, (1, 0): 1, (5, 6): 10, (6, 5): 11, (1, 2): 2, (1, 3): 3, (2, 1): 4, (3, 1): 5, (3, 5): 6, (4, 5): 7, (5, 3): 8, (5, 4): 9}\n",
      "control_channel_map {}\n"
     ]
    }
   ],
   "source": [
    "control_channel_map = get_control_channel_map(fake_backend, physical_qubits)\n",
    "print(\"control_channel_map\", control_channel_map)\n",
    "dt = fake_backend.configuration().dt\n",
    "\n",
    "dynamics_options = {\n",
    "    \"seed_simulator\": None,  # \"configuration\": fake_backend.configuration(),\n",
    "    \"solver_options\": {\"method\": \"jax_odeint\", \"atol\": 1e-6, \"rtol\": 1e-8, \"hmax\": dt},\n",
    "}\n",
    "qubit_properties = fake_backend_v2.qubit_properties(physical_qubits)\n",
    "\n",
    "# Extract channel frequencies and Solver instance from backend to provide a pulse level simulation enabling\n",
    "# fidelity benchmarking\n",
    "channel_freq, solver = get_solver_and_freq_from_backend(\n",
    "    backend=fake_backend,\n",
    "    subsystem_list=physical_qubits,\n",
    "    rotating_frame=\"auto\",\n",
    "    evaluation_mode=\"dense\",\n",
    "    rwa_cutoff_freq=None,\n",
    "    static_dissipators=None,\n",
    "    dissipator_channels=None,\n",
    "    dissipator_operators=None,\n",
    ")\n",
    "calibration_files = None"
   ]
  },
  {
   "cell_type": "code",
   "execution_count": 30,
   "metadata": {
    "tags": []
   },
   "outputs": [],
   "source": [
    "estimator_options = Options(\n",
    "    resilience_level=0,\n",
    "    optimization_level=0,\n",
    "    execution=ExecutionOptions(shots=N_shots * sampling_Paulis),\n",
    ")"
   ]
  },
  {
   "cell_type": "markdown",
   "metadata": {},
   "source": [
    "Creat a solver instead of creating a DynmamicsBacked.from_backend()"
   ]
  },
  {
   "cell_type": "code",
   "execution_count": 31,
   "metadata": {
    "tags": []
   },
   "outputs": [],
   "source": [
    "dim = 3\n",
    "\n",
    "v = [prop.frequency for prop in qubit_properties]\n",
    "v0 = 4.86e9\n",
    "anharm0 = -0.32e9\n",
    "r0 = 0.22e9\n",
    "\n",
    "v1 = 4.97e9\n",
    "anharm1 = -0.32e9\n",
    "r1 = 0.26e9\n",
    "\n",
    "J = 0.002e9\n",
    "\n",
    "a = np.diag(np.sqrt(np.arange(1, dim)), 1)\n",
    "adag = np.diag(np.sqrt(np.arange(1, dim)), -1)\n",
    "N = np.diag(np.arange(dim))\n",
    "\n",
    "ident = np.eye(dim, dtype=complex)\n",
    "full_ident = np.eye(dim**2, dtype=complex)\n",
    "\n",
    "N0 = np.kron(ident, N)\n",
    "N1 = np.kron(N, ident)\n",
    "\n",
    "a0 = np.kron(ident, a)\n",
    "a1 = np.kron(a, ident)\n",
    "\n",
    "a0dag = np.kron(ident, adag)\n",
    "a1dag = np.kron(adag, ident)\n",
    "\n",
    "static_ham0 = 2 * np.pi * v0 * N0 + np.pi * anharm0 * N0 * (N0 - full_ident)\n",
    "static_ham1 = 2 * np.pi * v1 * N1 + np.pi * anharm1 * N1 * (N1 - full_ident)\n",
    "\n",
    "static_ham_full = (\n",
    "    static_ham0 + static_ham1 + 2 * np.pi * J * ((a0 + a0dag) @ (a1 + a1dag))\n",
    ")\n",
    "\n",
    "drive_op0 = 2 * np.pi * r0 * (a0 + a0dag)\n",
    "drive_op1 = 2 * np.pi * r1 * (a1 + a1dag)\n",
    "\n",
    "# build solver\n",
    "dt = 1 / 4.5e9\n",
    "\n",
    "solver = Solver(\n",
    "    static_hamiltonian=static_ham_full,\n",
    "    hamiltonian_operators=[\n",
    "        drive_op0,\n",
    "        drive_op1,\n",
    "        drive_op0,\n",
    "        drive_op1,\n",
    "        drive_op1,\n",
    "        drive_op0,\n",
    "    ],\n",
    "    rotating_frame=static_ham_full,\n",
    "    hamiltonian_channels=[\"d0\", \"d1\", \"u0\", \"u1\", \"u2\", \"u3\"],\n",
    "    channel_carrier_freqs={\"d0\": v0, \"d1\": v1, \"u0\": v1, \"u1\": v0, \"u2\": v0, \"u3\": v1},\n",
    "    dt=dt,\n",
    "    evaluation_mode=\"sparse\",\n",
    ")\n",
    "# Consistent solver option to use throughout notebook\n",
    "solver_options = {\"method\": \"jax_odeint\", \"atol\": 1e-6, \"rtol\": 1e-8}\n",
    "\n",
    "custom_backend2 = DynamicsBackend(\n",
    "    solver=solver,\n",
    "    # target = fake_backend_v2.target,\n",
    "    subsystem_dims=[dim, dim],  # for computing measurement data\n",
    "    solver_options=solver_options,  # to be used every time run is called\n",
    ")\n",
    "backend_target = custom_backend2.target\n",
    "channel_freq = None\n",
    "calibration_files = None\n",
    "do_calibrations = True\n",
    "# qubit properties"
   ]
  },
  {
   "cell_type": "code",
   "execution_count": 32,
   "metadata": {
    "tags": []
   },
   "outputs": [],
   "source": [
    "# dynamics_backend = custom_backend2"
   ]
  },
  {
   "cell_type": "code",
   "execution_count": 65,
   "metadata": {
    "tags": []
   },
   "outputs": [],
   "source": [
    "# subsystem_list takes the qubits indices that are the qubits with the parametrized gate AND its nearest neighbours\n",
    "dynamics_backend = DynamicsBackend.from_backend(\n",
    "    fake_backend, subsystem_list=(0, 1), **dynamics_options\n",
    ")\n",
    "dynamics_backend.target.qubit_properties = qubit_properties\n",
    "# list(dynamics_backend.coupling_map)"
   ]
  },
  {
   "cell_type": "code",
   "execution_count": 66,
   "metadata": {
    "tags": []
   },
   "outputs": [],
   "source": [
    "from helper_functions import retrieve_backend_info\n",
    "from qiskit_experiments.framework import BackendData\n",
    "from qiskit_ibm_runtime import Estimator as Runtime_Estimator"
   ]
  },
  {
   "cell_type": "markdown",
   "metadata": {},
   "source": [
    "Manually populate the coupling map of the ``DynamicsBackend`` with the data from the ``fake_backend``"
   ]
  },
  {
   "cell_type": "code",
   "execution_count": 67,
   "metadata": {
    "tags": []
   },
   "outputs": [
    {
     "data": {
      "text/plain": [
       "QiskitConfig(parametrized_circuit=<function add_parametrized_circuit at 0x7fef7988daf0>, backend=<qiskit_dynamics.backend.dynamics_backend.DynamicsBackend object at 0x7fef6ae11c70>, estimator_options=Options(optimization_level=0, resilience_level=0, max_execution_time=None, transpilation=TranspilationOptions(skip_transpilation=False, initial_layout=None, layout_method=None, routing_method=None, approximation_degree=None), resilience=ResilienceOptions(noise_amplifier=None, noise_factors=None, extrapolator=None), execution=ExecutionOptions(shots=10000, init_qubits=True), environment=EnvironmentOptions(log_level='WARNING', callback=None, job_tags=[]), simulator=SimulatorOptions(noise_model=None, seed_simulator=None, coupling_map=None, basis_gates=None)), solver=<qiskit_dynamics.solvers.solver_classes.Solver object at 0x7fef5dec9fd0>, channel_freq=None, do_calibrations=True, calibration_files=None)"
      ]
     },
     "execution_count": 67,
     "metadata": {},
     "output_type": "execute_result"
    }
   ],
   "source": [
    "# Wrap all info in one QiskitConfig\n",
    "# Qiskit_setup = QiskitConfig(parametrized_circuit=apply_parametrized_circuit, backend=backend)\n",
    "Qiskit_setup = QiskitConfig(\n",
    "    parametrized_circuit=add_parametrized_circuit,\n",
    "    backend=dynamics_backend,\n",
    "    estimator_options=estimator_options,\n",
    "    channel_freq=channel_freq,\n",
    "    solver=solver,\n",
    ")\n",
    "Qiskit_setup"
   ]
  },
  {
   "cell_type": "code",
   "execution_count": 68,
   "metadata": {
    "tags": []
   },
   "outputs": [
    {
     "data": {
      "text/plain": [
       "(0,)"
      ]
     },
     "execution_count": 68,
     "metadata": {},
     "output_type": "execute_result"
    }
   ],
   "source": [
    "physical_qubits"
   ]
  },
  {
   "cell_type": "code",
   "execution_count": 69,
   "metadata": {
    "tags": []
   },
   "outputs": [
    {
     "name": "stdout",
     "output_type": "stream",
     "text": [
      "{(0, 1): 0, (1, 0): 1, (1, 2): 2, (1, 3): 3}\n"
     ]
    }
   ],
   "source": [
    "print(dynamics_backend.options.control_channel_map)"
   ]
  },
  {
   "cell_type": "code",
   "execution_count": 38,
   "metadata": {
    "tags": []
   },
   "outputs": [
    {
     "data": {
      "text/plain": [
       "7"
      ]
     },
     "execution_count": 38,
     "metadata": {},
     "output_type": "execute_result"
    }
   ],
   "source": [
    "dynamics_backend.num_qubits"
   ]
  },
  {
   "cell_type": "code",
   "execution_count": 39,
   "metadata": {
    "tags": []
   },
   "outputs": [
    {
     "name": "stdout",
     "output_type": "stream",
     "text": [
      "{(0, 1): 0}\n",
      "Starting Rabi experiment for qubit 0...\n",
      "Rabi experiment for qubit 0 done.\n",
      "Starting Drag experiment for qubit 0...\n",
      "Drag experiments done for qubit 0 done.\n",
      "All single qubit calibrations are done\n",
      "Updated Instruction Schedule Map <InstructionScheduleMap(1Q instructions:\n",
      "  q0: {'s', 'rz', 'measure', 'tdg', 'z', 't', 'h', 'sx', 'reset', 'delay', 'id', 'x', 'sdg'}\n",
      "  q1: {'s', 'rz', 'measure', 'tdg', 'z', 't', 'h', 'sx', 'reset', 'delay', 'id', 'x', 'sdg'}\n",
      "  q2: {'s', 'rz', 'measure', 'tdg', 'z', 't', 'h', 'delay', 'reset', 'id', 'sdg'}\n",
      "  q3: {'s', 'rz', 'measure', 'tdg', 'z', 't', 'h', 'delay', 'reset', 'id', 'sdg'}\n",
      "  q4: {'s', 'rz', 'measure', 'tdg', 'z', 't', 'h', 'delay', 'reset', 'id', 'sdg'}\n",
      "  q5: {'s', 'rz', 'measure', 'tdg', 'z', 't', 'h', 'delay', 'reset', 'id', 'sdg'}\n",
      "  q6: {'s', 'rz', 'measure', 'tdg', 'z', 't', 'h', 'delay', 'reset', 'id', 'sdg'}\n",
      "Multi qubit instructions:\n",
      "  (0, 1): {'cr45p', 'cr45m', 'ecr'}\n",
      ")>\n"
     ]
    }
   ],
   "source": [
    "q_env = QuantumEnvironment(\n",
    "    target=target,\n",
    "    abstraction_level=abstraction_level,\n",
    "    Qiskit_config=Qiskit_setup,\n",
    "    sampling_Pauli_space=sampling_Paulis,\n",
    "    n_shots=N_shots,\n",
    "    c_factor=0.5,\n",
    ")"
   ]
  },
  {
   "cell_type": "code",
   "execution_count": 40,
   "metadata": {
    "tags": []
   },
   "outputs": [
    {
     "data": {
      "text/plain": [
       "'\\njob = dynamics_backend.run(transpiled_circ)\\nresults = job.result()\\nresults.get_counts()\\n'"
      ]
     },
     "execution_count": 40,
     "metadata": {},
     "output_type": "execute_result"
    }
   ],
   "source": [
    "\"\"\"\n",
    "job = dynamics_backend.run(transpiled_circ)\n",
    "results = job.result()\n",
    "results.get_counts()\n",
    "\"\"\""
   ]
  },
  {
   "cell_type": "markdown",
   "metadata": {},
   "source": [
    "### Access Coupling Map of the Backend"
   ]
  },
  {
   "cell_type": "code",
   "execution_count": 41,
   "metadata": {
    "tags": []
   },
   "outputs": [],
   "source": [
    "dt, coupling_map, basis_gates, instruction_durations = retrieve_backend_info(\n",
    "    backend=dynamics_backend\n",
    ")"
   ]
  },
  {
   "cell_type": "code",
   "execution_count": 42,
   "metadata": {
    "tags": []
   },
   "outputs": [
    {
     "data": {
      "text/plain": [
       "[(0, 1)]"
      ]
     },
     "execution_count": 42,
     "metadata": {},
     "output_type": "execute_result"
    }
   ],
   "source": [
    "list(coupling_map)"
   ]
  },
  {
   "cell_type": "code",
   "execution_count": 43,
   "metadata": {
    "tags": []
   },
   "outputs": [
    {
     "name": "stderr",
     "output_type": "stream",
     "text": [
      "/Users/arthurstrauss/opt/anaconda3/envs/rl_qoc/lib/python3.9/site-packages/gymnasium/spaces/box.py:130: UserWarning: \u001b[33mWARN: Box bound precision lowered by casting to float32\u001b[0m\n",
      "  gym.logger.warn(f\"Box bound precision lowered by casting to {self.dtype}\")\n"
     ]
    }
   ],
   "source": [
    "seed = 10\n",
    "training_steps_per_gate = 2000\n",
    "benchmark_cycle = 100\n",
    "# tgt_instruction_counts = target_circuit.data.count(CircuitInstruction(target_gate, tgt_qubits))\n",
    "tgt_instruction_counts = 2  # Number of times target Instruction is applied in Circuit\n",
    "batchsize = 200  # Batch size (iterate over a bunch of actions per policy to estimate expected return) default 100\n",
    "n_actions = 4  # Choose how many control parameters in pulse/circuit parametrization\n",
    "min_bound_actions = -0.1\n",
    "max_bound_actions = 0.1\n",
    "scale_factor = 0.1\n",
    "observation_space = Box(\n",
    "    low=np.array([0, 0]),\n",
    "    high=np.array([1, tgt_instruction_counts]),\n",
    "    shape=(2,),\n",
    "    seed=seed,\n",
    ")\n",
    "action_space = Box(\n",
    "    low=min_bound_actions, high=max_bound_actions, shape=(n_actions,), seed=seed\n",
    ")"
   ]
  },
  {
   "cell_type": "code",
   "execution_count": 44,
   "metadata": {
    "tags": []
   },
   "outputs": [],
   "source": [
    "torch_env = TorchQuantumEnvironment(\n",
    "    q_env,\n",
    "    target_circuit,\n",
    "    action_space,\n",
    "    observation_space,\n",
    "    batch_size=batchsize,\n",
    "    training_steps_per_gate=training_steps_per_gate,\n",
    "    benchmark_cycle=benchmark_cycle,\n",
    "    intermediate_rewards=False,\n",
    "    seed=None,\n",
    ")"
   ]
  },
  {
   "cell_type": "code",
   "execution_count": 45,
   "metadata": {
    "tags": []
   },
   "outputs": [
    {
     "data": {
      "image/png": "[encoded data removed]",
      "text/plain": [
       "<Figure size 352.675x117.056 with 1 Axes>"
      ]
     },
     "execution_count": 45,
     "metadata": {},
     "output_type": "execute_result"
    }
   ],
   "source": [
    "target_circuit.draw(\"mpl\")"
   ]
  },
  {
   "cell_type": "code",
   "execution_count": 46,
   "metadata": {
    "tags": []
   },
   "outputs": [
    {
     "data": {
      "image/png": "[encoded data removed]",
      "text/plain": [
       "<Figure size 499.904x618.722 with 1 Axes>"
      ]
     },
     "execution_count": 46,
     "metadata": {},
     "output_type": "execute_result"
    }
   ],
   "source": [
    "transpiled_circ.draw(\"mpl\")"
   ]
  },
  {
   "cell_type": "code",
   "execution_count": 47,
   "metadata": {
    "tags": []
   },
   "outputs": [
    {
     "data": {
      "text/plain": [
       "{'x': {((0,),\n",
       "   ()): ScheduleBlock(Play(Drag(duration=160, sigma=40, beta=-4.2212991914, amp=0.17444652, angle=0), DriveChannel(0)), name=\"x\", transform=AlignLeft())},\n",
       " 'h': {((0,),\n",
       "   ()): ScheduleBlock(ScheduleBlock(ShiftPhase(-1.5707963268, DriveChannel(0)), name=\"rz0\", transform=AlignLeft()), ScheduleBlock(Play(Drag(duration=160, sigma=40, beta=0, amp=0.08722326, angle=0), DriveChannel(0)), name=\"sx\", transform=AlignLeft()), ScheduleBlock(ShiftPhase(-1.5707963268, DriveChannel(0)), name=\"rz0\", transform=AlignLeft()), name=\"h\", transform=AlignLeft())},\n",
       " 'z': {((0,),\n",
       "   ()): ScheduleBlock(ShiftPhase(-3.1415926536, DriveChannel(0)), name=\"rz0\", transform=AlignLeft())}}"
      ]
     },
     "execution_count": 47,
     "metadata": {},
     "output_type": "execute_result"
    }
   ],
   "source": [
    "torch_env.circuit_context.calibrations"
   ]
  },
  {
   "cell_type": "code",
   "execution_count": 48,
   "metadata": {
    "tags": []
   },
   "outputs": [
    {
     "data": {
      "image/png": "[encoded data removed]",
      "text/plain": [
       "<Figure size 917.354x200.667 with 1 Axes>"
      ]
     },
     "execution_count": 48,
     "metadata": {},
     "output_type": "execute_result"
    }
   ],
   "source": [
    "torch_env.circuit_context.draw(\"mpl\")"
   ]
  },
  {
   "cell_type": "code",
   "execution_count": 49,
   "metadata": {
    "tags": []
   },
   "outputs": [
    {
     "data": {
      "image/png": "[encoded data removed]",
      "text/plain": [
       "<Figure size 375.117x200.667 with 1 Axes>"
      ]
     },
     "execution_count": 49,
     "metadata": {},
     "output_type": "execute_result"
    }
   ],
   "source": [
    "torch_env.circuit_truncations[0].draw(\"mpl\")"
   ]
  },
  {
   "cell_type": "code",
   "execution_count": 50,
   "metadata": {
    "tags": []
   },
   "outputs": [
    {
     "data": {
      "image/png": "[encoded data removed]",
      "text/plain": [
       "<Figure size 207.895x200.667 with 1 Axes>"
      ]
     },
     "execution_count": 50,
     "metadata": {},
     "output_type": "execute_result"
    }
   ],
   "source": [
    "torch_env.baseline_truncations[0].draw(\"mpl\")"
   ]
  },
  {
   "cell_type": "markdown",
   "metadata": {},
   "source": [
    "# Reinforcement Learning"
   ]
  },
  {
   "cell_type": "markdown",
   "metadata": {},
   "source": [
    "#### Definition of the Agent"
   ]
  },
  {
   "cell_type": "code",
   "execution_count": 51,
   "metadata": {
    "tags": []
   },
   "outputs": [],
   "source": [
    "import torch\n",
    "import torch.nn as nn\n",
    "\n",
    "from agent import ActorNetwork, CriticNetwork, Agent\n",
    "\n",
    "# device = torch.device(\"cuda\" if torch.cuda.is_available() else \"cpu\")\n",
    "device = torch.device(\"cpu\")\n",
    "hidden_units = [64, 64]\n",
    "activation_functions = [nn.Tanh(), nn.Tanh(), nn.Tanh()]\n",
    "include_critic = False\n",
    "chkpt_dir = \"tmp/ppo\"\n",
    "chkpt_dir_critic = \"tmp/critic_ppo\"\n",
    "\n",
    "actor_net = ActorNetwork(\n",
    "    observation_space,\n",
    "    hidden_units,\n",
    "    n_actions,\n",
    "    activation_functions,\n",
    "    include_critic,\n",
    "    chkpt_dir,\n",
    ").to(device)\n",
    "critic_net = CriticNetwork(\n",
    "    observation_space, hidden_units, activation_functions, chkpt_dir_critic\n",
    ").to(device)\n",
    "agent = Agent(actor_net, critic_net=critic_net).to(device)"
   ]
  },
  {
   "cell_type": "code",
   "execution_count": 52,
   "metadata": {
    "tags": []
   },
   "outputs": [],
   "source": [
    "\"\"\"\n",
    "-----------------------------------------------------------------------------------------------------\n",
    "Hyperparameters for RL agent\n",
    "-----------------------------------------------------------------------------------------------------\n",
    "\"\"\"\n",
    "\n",
    "from torch.utils.tensorboard import SummaryWriter\n",
    "import torch.optim as optim\n",
    "\n",
    "run_name = \"test\"\n",
    "writer = SummaryWriter(f\"runs/{run_name}\")\n",
    "# writer.add_text(\n",
    "#     \"hyperparameters\",\n",
    "#     \"|param|value|\\n|-|-|\\n%s\" % (\"\\n\".join([f\"|{key}|{value}|\" for key, value in vars(args).items()])),\n",
    "# )\n",
    "# Hyperparameters for the agent\n",
    "n_epochs = 10  # Number of epochs : default 1500\n",
    "num_updates = 700\n",
    "lr_actor = 0.001  # Learning rate for policy update step\n",
    "lr_critic = 0.001  # Learning rate for critic (value function) update step\n",
    "\n",
    "epsilon = 0.2  # Parameter for clipping value (PPO)\n",
    "critic_loss_coeff = 0.5\n",
    "optimizer = optim.Adam(agent.parameters(), lr=lr_actor, eps=1e-5)\n",
    "actor_optimizer = optim.Adam(actor_net.parameters(), lr=lr_actor, eps=1e-5)\n",
    "critic_optimizer = optim.Adam(critic_net.parameters(), lr=lr_critic, eps=1e-5)\n",
    "minibatch_size = 40\n",
    "gamma = 1.0\n",
    "gae_lambda = 0.95\n",
    "\n",
    "# Clipping\n",
    "clip_vloss = True\n",
    "grad_clip = 0.5\n",
    "clip_coef = 0.5\n",
    "normalize_advantage = False\n",
    "\n",
    "# other coefficients\n",
    "ent_coef = 0.0"
   ]
  },
  {
   "cell_type": "code",
   "execution_count": 53,
   "metadata": {
    "tags": []
   },
   "outputs": [
    {
     "data": {
      "text/plain": [
       "<bound method TorchQuantumEnvironment.episode_length of QuantumEnvironment composed of 1 qubits, \n",
       "Defined target: gate (Instruction(name='x', num_qubits=1, num_clbits=0, params=[]))\n",
       "Physical qubits: [0]\n",
       "Backend: <qiskit_dynamics.backend.dynamics_backend.DynamicsBackend object at 0x7fef5dd95be0>,\n",
       "Abstraction level: pulse,\n",
       "Run options: N_shots (200), Sampling_Pauli_space (50), \n",
       "Batchsize: 200, \n",
       "Number of target gates in circuit context: 2\n",
       ">"
      ]
     },
     "execution_count": 53,
     "metadata": {},
     "output_type": "execute_result"
    }
   ],
   "source": [
    "torch_env.episode_length"
   ]
  },
  {
   "cell_type": "markdown",
   "metadata": {},
   "source": [
    "### Training"
   ]
  },
  {
   "cell_type": "code",
   "execution_count": 54,
   "metadata": {
    "tags": []
   },
   "outputs": [],
   "source": [
    "global_step = 0\n",
    "torch_env.clear_history()\n",
    "obs = torch.zeros(\n",
    "    (tgt_instruction_counts, batchsize) + torch_env.observation_space.shape\n",
    ").to(device)\n",
    "actions = torch.zeros(\n",
    "    (tgt_instruction_counts, batchsize) + torch_env.action_space.shape\n",
    ").to(device)\n",
    "logprobs = torch.zeros((tgt_instruction_counts, batchsize)).to(device)\n",
    "rewards = torch.zeros((tgt_instruction_counts, batchsize)).to(device)\n",
    "dones = torch.zeros((tgt_instruction_counts, batchsize)).to(device)\n",
    "values = torch.zeros((tgt_instruction_counts, batchsize)).to(device)\n",
    "\n",
    "train_obs = torch.zeros(\n",
    "    (batchsize,) + torch_env.observation_space.shape, requires_grad=True\n",
    ").to(device)\n",
    "visualization_steps = 10"
   ]
  },
  {
   "cell_type": "code",
   "execution_count": 55,
   "metadata": {
    "tags": []
   },
   "outputs": [
    {
     "name": "stderr",
     "output_type": "stream",
     "text": [
      "  3%|█▏                                      | 20/700 [03:00<2:29:50, 13.22s/it]"
     ]
    },
    {
     "name": "stdout",
     "output_type": "stream",
     "text": [
      "Sending job...\n"
     ]
    },
    {
     "name": "stderr",
     "output_type": "stream",
     "text": [
      "  3%|█▏                                      | 21/700 [03:09<2:14:03, 11.85s/it]"
     ]
    },
    {
     "name": "stdout",
     "output_type": "stream",
     "text": [
      "Job done\n",
      "mean tensor([ 0.0074, -0.0007,  0.0018,  0.0012])\n",
      "sigma tensor([0.4453, 0.4261, 0.4022, 0.5248])\n",
      "Average return: 0.0\n",
      "{'reset_stage': False, 'step': 21, 'average return': 0.0, 'max return': 3.9993875, 'arg_max return': 10, 'best action': array([-7.02872686e-05,  4.73798462e-03, -2.41908184e-03,  1.39347381e-03]), 'truncation_index': 0, 'input_state': 'PauliPreparationBasis[2, 1]', 'observable': SparsePauliOp(['II', 'IX', 'ZI', 'ZX'],\n",
      "              coeffs=[ 1.+0.j,  1.+0.j, -1.+0.j, -1.+0.j])}\n",
      "Sending job...\n"
     ]
    },
    {
     "name": "stderr",
     "output_type": "stream",
     "text": [
      "  3%|█▎                                      | 22/700 [03:20<2:12:32, 11.73s/it]"
     ]
    },
    {
     "name": "stdout",
     "output_type": "stream",
     "text": [
      "Job done\n",
      "mean tensor([ 0.0081, -0.0004,  0.0017,  0.0021])\n",
      "sigma tensor([0.4429, 0.4225, 0.3955, 0.5278])\n",
      "Average return: 3.999358823529412\n",
      "{'reset_stage': False, 'step': 22, 'average return': 3.999358823529412, 'max return': 3.9993875, 'arg_max return': 10, 'best action': array([-7.02872686e-05,  4.73798462e-03, -2.41908184e-03,  1.39347381e-03]), 'truncation_index': 0, 'input_state': 'PauliPreparationBasis[2, 2]', 'observable': SparsePauliOp(['II', 'IX', 'XI', 'XX'],\n",
      "              coeffs=[1.+0.j, 1.+0.j, 1.+0.j, 1.+0.j])}\n",
      "Sending job...\n"
     ]
    },
    {
     "name": "stderr",
     "output_type": "stream",
     "text": [
      "  3%|█▎                                      | 23/700 [03:32<2:11:58, 11.70s/it]"
     ]
    },
    {
     "name": "stdout",
     "output_type": "stream",
     "text": [
      "Job done\n",
      "mean tensor([0.0101, 0.0006, 0.0006, 0.0058])\n",
      "sigma tensor([0.4259, 0.4024, 0.3614, 0.5355])\n",
      "Average return: 1.90518\n",
      "{'reset_stage': False, 'step': 23, 'average return': 1.90518, 'max return': 3.9993875, 'arg_max return': 10, 'best action': array([-7.02872686e-05,  4.73798462e-03, -2.41908184e-03,  1.39347381e-03]), 'truncation_index': 0, 'input_state': 'PauliPreparationBasis[3, 3]', 'observable': SparsePauliOp(['II', 'IY', 'YI', 'YY'],\n",
      "              coeffs=[ 1.+0.j, -1.+0.j,  1.+0.j, -1.+0.j])}\n",
      "Sending job...\n"
     ]
    },
    {
     "name": "stderr",
     "output_type": "stream",
     "text": [
      "  3%|█▎                                      | 24/700 [03:40<1:59:11, 10.58s/it]"
     ]
    },
    {
     "name": "stdout",
     "output_type": "stream",
     "text": [
      "Job done\n",
      "mean tensor([ 0.0061, -0.0007,  0.0014,  0.0006])\n",
      "sigma tensor([0.4389, 0.4192, 0.3958, 0.5199])\n",
      "Average return: 0.0\n",
      "{'reset_stage': False, 'step': 24, 'average return': 0.0, 'max return': 3.9993875, 'arg_max return': 10, 'best action': array([-7.02872686e-05,  4.73798462e-03, -2.41908184e-03,  1.39347381e-03]), 'truncation_index': 0, 'input_state': 'PauliPreparationBasis[2, 1]', 'observable': SparsePauliOp(['II', 'IX', 'ZI', 'ZX'],\n",
      "              coeffs=[ 1.+0.j,  1.+0.j, -1.+0.j, -1.+0.j])}\n",
      "Sending job...\n"
     ]
    },
    {
     "name": "stderr",
     "output_type": "stream",
     "text": [
      "  3%|█▎                                      | 24/700 [03:47<1:46:51,  9.48s/it]\n"
     ]
    },
    {
     "ename": "KeyboardInterrupt",
     "evalue": "",
     "output_type": "error",
     "traceback": [
      "\u001b[0;31m---------------------------------------------------------------------------\u001b[0m",
      "\u001b[0;31mKeyboardInterrupt\u001b[0m                         Traceback (most recent call last)",
      "Cell \u001b[0;32mIn[55], line 27\u001b[0m\n\u001b[1;32m     25\u001b[0m logprobs[step] \u001b[38;5;241m=\u001b[39m logprob\n\u001b[1;32m     26\u001b[0m \u001b[38;5;66;03m# next_obs, reward, terminated, truncated, infos = torch_env.step(action.cpu().numpy())\u001b[39;00m\n\u001b[0;32m---> 27\u001b[0m next_obs, reward, terminated, truncated, infos \u001b[38;5;241m=\u001b[39m \u001b[43mtorch_env\u001b[49m\u001b[38;5;241;43m.\u001b[39;49m\u001b[43mstep\u001b[49m\u001b[43m(\u001b[49m\u001b[43maction\u001b[49m\u001b[38;5;241;43m.\u001b[39;49m\u001b[43mcpu\u001b[49m\u001b[43m(\u001b[49m\u001b[43m)\u001b[49m\u001b[38;5;241;43m.\u001b[39;49m\u001b[43mnumpy\u001b[49m\u001b[43m(\u001b[49m\u001b[43m)\u001b[49m\u001b[43m)\u001b[49m\n\u001b[1;32m     28\u001b[0m done \u001b[38;5;241m=\u001b[39m np\u001b[38;5;241m.\u001b[39mlogical_or(terminated, truncated)\n\u001b[1;32m     29\u001b[0m rewards[step] \u001b[38;5;241m=\u001b[39m torch\u001b[38;5;241m.\u001b[39mtensor(reward)\u001b[38;5;241m.\u001b[39mto(device)\n",
      "File \u001b[0;32m~/Library/CloudStorage/OneDrive-NationalUniversityofSingapore/Coding_projects/Quantum_Optimal_Control/torch_contextual_gate_calibration/torch_quantum_environment.py:973\u001b[0m, in \u001b[0;36mTorchQuantumEnvironment.step\u001b[0;34m(self, action)\u001b[0m\n\u001b[1;32m    971\u001b[0m terminated \u001b[38;5;241m=\u001b[39m \u001b[38;5;28;01mTrue\u001b[39;00m\n\u001b[1;32m    972\u001b[0m \u001b[38;5;28mself\u001b[39m\u001b[38;5;241m.\u001b[39m_episode_ended \u001b[38;5;241m=\u001b[39m terminated\n\u001b[0;32m--> 973\u001b[0m reward_table \u001b[38;5;241m=\u001b[39m \u001b[38;5;28;43mself\u001b[39;49m\u001b[38;5;241;43m.\u001b[39;49m\u001b[43mcompute_reward\u001b[49m\u001b[43m(\u001b[49m\u001b[43m)\u001b[49m\n\u001b[1;32m    974\u001b[0m \u001b[38;5;28;01mif\u001b[39;00m \u001b[38;5;28mself\u001b[39m\u001b[38;5;241m.\u001b[39m_intermediate_rewards:\n\u001b[1;32m    975\u001b[0m     obs \u001b[38;5;241m=\u001b[39m reward_table\n",
      "File \u001b[0;32m~/Library/CloudStorage/OneDrive-NationalUniversityofSingapore/Coding_projects/Quantum_Optimal_Control/torch_contextual_gate_calibration/torch_quantum_environment.py:863\u001b[0m, in \u001b[0;36mTorchQuantumEnvironment.compute_reward\u001b[0;34m(self, fidelity_access)\u001b[0m\n\u001b[1;32m    855\u001b[0m         \u001b[38;5;28mself\u001b[39m\u001b[38;5;241m.\u001b[39mbackend\u001b[38;5;241m.\u001b[39moptions\u001b[38;5;241m.\u001b[39msolver\u001b[38;5;241m.\u001b[39mset_macro(func\u001b[38;5;241m=\u001b[39mparam_schedule)\n\u001b[1;32m    856\u001b[0m     job \u001b[38;5;241m=\u001b[39m \u001b[38;5;28mself\u001b[39m\u001b[38;5;241m.\u001b[39mestimator\u001b[38;5;241m.\u001b[39mrun(\n\u001b[1;32m    857\u001b[0m         circuits\u001b[38;5;241m=\u001b[39m[training_circ] \u001b[38;5;241m*\u001b[39m \u001b[38;5;28mself\u001b[39m\u001b[38;5;241m.\u001b[39mbatch_size,\n\u001b[1;32m    858\u001b[0m         observables\u001b[38;5;241m=\u001b[39m[observables] \u001b[38;5;241m*\u001b[39m \u001b[38;5;28mself\u001b[39m\u001b[38;5;241m.\u001b[39mbatch_size,\n\u001b[1;32m    859\u001b[0m         parameter_values\u001b[38;5;241m=\u001b[39mreshaped_params,\n\u001b[1;32m    860\u001b[0m         shots\u001b[38;5;241m=\u001b[39m\u001b[38;5;28mint\u001b[39m(np\u001b[38;5;241m.\u001b[39mmax(pauli_shots) \u001b[38;5;241m*\u001b[39m \u001b[38;5;28mself\u001b[39m\u001b[38;5;241m.\u001b[39mn_shots),\n\u001b[1;32m    861\u001b[0m     )\n\u001b[0;32m--> 863\u001b[0m     reward_table \u001b[38;5;241m=\u001b[39m \u001b[43mjob\u001b[49m\u001b[38;5;241;43m.\u001b[39;49m\u001b[43mresult\u001b[49m\u001b[43m(\u001b[49m\u001b[43m)\u001b[49m\u001b[38;5;241m.\u001b[39mvalues\n\u001b[1;32m    864\u001b[0m \u001b[38;5;28;01mexcept\u001b[39;00m \u001b[38;5;167;01mException\u001b[39;00m \u001b[38;5;28;01mas\u001b[39;00m exc:\n\u001b[1;32m    865\u001b[0m     \u001b[38;5;28mself\u001b[39m\u001b[38;5;241m.\u001b[39mclose()\n",
      "File \u001b[0;32m~/opt/anaconda3/envs/rl_qoc/lib/python3.9/site-packages/qiskit/primitives/primitive_job.py:55\u001b[0m, in \u001b[0;36mPrimitiveJob.result\u001b[0;34m(self)\u001b[0m\n\u001b[1;32m     53\u001b[0m \u001b[38;5;250m\u001b[39m\u001b[38;5;124;03m\"\"\"Return the results of the job.\"\"\"\u001b[39;00m\n\u001b[1;32m     54\u001b[0m \u001b[38;5;28mself\u001b[39m\u001b[38;5;241m.\u001b[39m_check_submitted()\n\u001b[0;32m---> 55\u001b[0m \u001b[38;5;28;01mreturn\u001b[39;00m \u001b[38;5;28;43mself\u001b[39;49m\u001b[38;5;241;43m.\u001b[39;49m\u001b[43m_future\u001b[49m\u001b[38;5;241;43m.\u001b[39;49m\u001b[43mresult\u001b[49m\u001b[43m(\u001b[49m\u001b[43m)\u001b[49m\n",
      "File \u001b[0;32m~/opt/anaconda3/envs/rl_qoc/lib/python3.9/concurrent/futures/_base.py:441\u001b[0m, in \u001b[0;36mFuture.result\u001b[0;34m(self, timeout)\u001b[0m\n\u001b[1;32m    438\u001b[0m \u001b[38;5;28;01melif\u001b[39;00m \u001b[38;5;28mself\u001b[39m\u001b[38;5;241m.\u001b[39m_state \u001b[38;5;241m==\u001b[39m FINISHED:\n\u001b[1;32m    439\u001b[0m     \u001b[38;5;28;01mreturn\u001b[39;00m \u001b[38;5;28mself\u001b[39m\u001b[38;5;241m.\u001b[39m__get_result()\n\u001b[0;32m--> 441\u001b[0m \u001b[38;5;28;43mself\u001b[39;49m\u001b[38;5;241;43m.\u001b[39;49m\u001b[43m_condition\u001b[49m\u001b[38;5;241;43m.\u001b[39;49m\u001b[43mwait\u001b[49m\u001b[43m(\u001b[49m\u001b[43mtimeout\u001b[49m\u001b[43m)\u001b[49m\n\u001b[1;32m    443\u001b[0m \u001b[38;5;28;01mif\u001b[39;00m \u001b[38;5;28mself\u001b[39m\u001b[38;5;241m.\u001b[39m_state \u001b[38;5;129;01min\u001b[39;00m [CANCELLED, CANCELLED_AND_NOTIFIED]:\n\u001b[1;32m    444\u001b[0m     \u001b[38;5;28;01mraise\u001b[39;00m CancelledError()\n",
      "File \u001b[0;32m~/opt/anaconda3/envs/rl_qoc/lib/python3.9/threading.py:312\u001b[0m, in \u001b[0;36mCondition.wait\u001b[0;34m(self, timeout)\u001b[0m\n\u001b[1;32m    310\u001b[0m \u001b[38;5;28;01mtry\u001b[39;00m:    \u001b[38;5;66;03m# restore state no matter what (e.g., KeyboardInterrupt)\u001b[39;00m\n\u001b[1;32m    311\u001b[0m     \u001b[38;5;28;01mif\u001b[39;00m timeout \u001b[38;5;129;01mis\u001b[39;00m \u001b[38;5;28;01mNone\u001b[39;00m:\n\u001b[0;32m--> 312\u001b[0m         \u001b[43mwaiter\u001b[49m\u001b[38;5;241;43m.\u001b[39;49m\u001b[43macquire\u001b[49m\u001b[43m(\u001b[49m\u001b[43m)\u001b[49m\n\u001b[1;32m    313\u001b[0m         gotit \u001b[38;5;241m=\u001b[39m \u001b[38;5;28;01mTrue\u001b[39;00m\n\u001b[1;32m    314\u001b[0m     \u001b[38;5;28;01melse\u001b[39;00m:\n",
      "\u001b[0;31mKeyboardInterrupt\u001b[0m: "
     ]
    }
   ],
   "source": [
    "for update in tqdm.tqdm(range(1, num_updates + 1)):\n",
    "    next_obs, _ = torch_env.reset(seed=seed)\n",
    "    num_steps = torch_env.episode_length(global_step)\n",
    "    next_obs = torch.Tensor(np.array([next_obs] * batchsize)).to(device)\n",
    "    next_done = torch.zeros(batchsize).to(device)\n",
    "\n",
    "    # print(\"episode length:\", num_steps)\n",
    "\n",
    "    for step in range(num_steps):\n",
    "        global_step += 1\n",
    "        obs[step] = next_obs\n",
    "        dones[step] = next_done\n",
    "\n",
    "        with torch.no_grad():\n",
    "            # print('next_obs', next_obs)\n",
    "            # print('agend(next_obs)', agent(next_obs))\n",
    "            mean_action, std_action, critic_value = agent(next_obs)\n",
    "            mean_action *= scale_factor\n",
    "            probs = Normal(mean_action, std_action)\n",
    "            action = torch.clip(\n",
    "                probs.sample(),\n",
    "                torch.Tensor(np.array(min_bound_actions)),\n",
    "                torch.Tensor(np.array(max_bound_actions)),\n",
    "            )\n",
    "            logprob = probs.log_prob(action).sum(1)\n",
    "            values[step] = critic_value.flatten()\n",
    "\n",
    "        actions[step] = action\n",
    "        logprobs[step] = logprob\n",
    "        # next_obs, reward, terminated, truncated, infos = torch_env.step(action.cpu().numpy())\n",
    "        next_obs, reward, terminated, truncated, infos = torch_env.step(\n",
    "            action.cpu().numpy()\n",
    "        )\n",
    "        done = np.logical_or(terminated, truncated)\n",
    "        rewards[step] = torch.tensor(reward).to(device)\n",
    "        next_obs = torch.Tensor(np.array([next_obs] * batchsize)).to(device)\n",
    "        next_done = torch.Tensor(np.array([int(done)] * batchsize)).to(device)\n",
    "        # Only print when at least 1 env is done\n",
    "\n",
    "        # print(f\"global_step={global_step}, episodic_return={np.mean(reward)}\")\n",
    "        writer.add_scalar(\"charts/episodic_return\", np.mean(reward), global_step)\n",
    "        writer.add_scalar(\"charts/episodic_length\", num_steps, global_step)\n",
    "\n",
    "    # bootstrap value if not done\n",
    "    with torch.no_grad():\n",
    "        next_value = agent.get_value(next_obs).reshape(1, -1)\n",
    "        advantages = torch.zeros_like(rewards).to(device)\n",
    "        lastgaelam = 0\n",
    "        for t in reversed(range(num_steps)):\n",
    "            if t == num_steps - 1:\n",
    "                nextnonterminal = 1.0 - next_done\n",
    "                nextvalues = next_value\n",
    "            else:\n",
    "                nextnonterminal = 1.0 - dones[t + 1]\n",
    "                nextvalues = values[t + 1]\n",
    "            delta = rewards[t] + gamma * nextvalues * nextnonterminal - values[t]\n",
    "            advantages[t] = lastgaelam = (\n",
    "                delta + gamma * gae_lambda * nextnonterminal * lastgaelam\n",
    "            )\n",
    "        returns = advantages + values\n",
    "\n",
    "    # flatten the batch\n",
    "    b_obs = obs.reshape((-1,) + torch_env.observation_space.shape)\n",
    "    b_logprobs = logprobs.reshape(-1)\n",
    "    b_actions = actions.reshape((-1,) + torch_env.action_space.shape)\n",
    "    b_advantages = advantages.reshape(-1)\n",
    "    b_returns = returns.reshape(-1)\n",
    "    b_values = values.reshape(-1)\n",
    "\n",
    "    # Optimizing the policy and value network\n",
    "    b_inds = np.arange(batchsize)\n",
    "    clipfracs = []\n",
    "    for epoch in range(n_epochs):\n",
    "        np.random.shuffle(b_inds)\n",
    "        for start in range(0, batchsize, minibatch_size):\n",
    "            end = start + minibatch_size\n",
    "            mb_inds = b_inds[start:end]\n",
    "            new_mean, new_sigma, new_value = agent(b_obs[mb_inds])\n",
    "            new_dist = Normal(new_mean, new_sigma)\n",
    "            new_logprob, entropy = new_dist.log_prob(b_actions[mb_inds]).sum(\n",
    "                1\n",
    "            ), new_dist.entropy().sum(1)\n",
    "            logratio = (\n",
    "                new_logprob - b_logprobs[mb_inds] + torch.log(torch.Tensor([1e-6]))\n",
    "            )\n",
    "            ratio = logratio.exp()\n",
    "            with torch.no_grad():\n",
    "                # calculate approx_kl http://joschu.net/blog/kl-approx.html\n",
    "                old_approx_kl = (-logratio).mean()\n",
    "                approx_kl = ((ratio - 1) - logratio).mean()\n",
    "                clipfracs += [((ratio - 1.0).abs() > epsilon).float().mean().item()]\n",
    "\n",
    "            mb_advantages = b_advantages[mb_inds]\n",
    "            if normalize_advantage:  # Normalize advantage\n",
    "                mb_advantages = (mb_advantages - mb_advantages.mean()) / (\n",
    "                    mb_advantages.std() + 1e-8\n",
    "                )\n",
    "\n",
    "            # Policy loss\n",
    "            pg_loss1 = -mb_advantages * ratio\n",
    "            pg_loss2 = -mb_advantages * torch.clamp(ratio, 1 - epsilon, 1 + epsilon)\n",
    "            pg_loss = torch.max(pg_loss1, pg_loss2).mean()\n",
    "\n",
    "            # Value loss\n",
    "            newvalue = new_value.view(-1)\n",
    "            if clip_vloss:\n",
    "                v_loss_unclipped = (newvalue - b_returns[mb_inds]) ** 2\n",
    "                v_clipped = b_values[mb_inds] + torch.clamp(\n",
    "                    newvalue - b_values[mb_inds],\n",
    "                    -clip_coef,\n",
    "                    clip_coef,\n",
    "                )\n",
    "                v_loss_clipped = (v_clipped - b_returns[mb_inds]) ** 2\n",
    "                v_loss_max = torch.max(v_loss_unclipped, v_loss_clipped)\n",
    "                v_loss = 0.5 * v_loss_max.mean()\n",
    "            else:\n",
    "                v_loss = 0.5 * ((newvalue - b_returns[mb_inds]) ** 2).mean()\n",
    "\n",
    "            entropy_loss = entropy.mean()\n",
    "            loss = pg_loss - ent_coef * entropy_loss + v_loss * critic_loss_coeff\n",
    "\n",
    "            optimizer.zero_grad()\n",
    "            loss.backward()\n",
    "            nn.utils.clip_grad_norm_(agent.parameters(), grad_clip)\n",
    "            optimizer.step()\n",
    "\n",
    "    y_pred, y_true = b_values.cpu().numpy(), b_returns.cpu().numpy()\n",
    "    var_y = np.var(y_true)\n",
    "    explained_var = np.nan if var_y == 0 else 1 - np.var(y_true - y_pred) / var_y\n",
    "    print(\"mean\", mean_action[0])\n",
    "    print(\"sigma\", std_action[0])\n",
    "    print(\"Average return:\", np.mean(torch_env.reward_history, axis=1)[-1])\n",
    "    # print(np.mean(torch_env.reward_history, axis =1)[-1])\n",
    "    # print(\"Circuit fidelity:\", torch_env.circuit_fidelity_history[-1])\n",
    "    # print(\"Avg gate fidelity:\", torch_env.avg_fidelity_history[-1])\n",
    "    print(torch_env._get_info())\n",
    "    # TRY NOT TO MODIFY: record rewards for plotting purposes\n",
    "    writer.add_scalar(\n",
    "        \"charts/learning_rate\", optimizer.param_groups[0][\"lr\"], global_step\n",
    "    )\n",
    "    writer.add_scalar(\"losses/value_loss\", v_loss.item(), global_step)\n",
    "    writer.add_scalar(\n",
    "        \"losses/avg_return\", np.mean(torch_env.reward_history, axis=1)[-1], global_step\n",
    "    )\n",
    "    # for i in range(num_steps):\n",
    "    #   writer.add_scalar(f\"losses/avg_gate_{i}_fidelity\", torch_env.avg_fidelity_history[-1][i], global_step)\n",
    "    # writer.add_scalar(\"losses/circuit_fidelity\", torch_env.circuit_fidelity_history[-1], global_step)\n",
    "    writer.add_scalar(\"losses/policy_loss\", pg_loss.item(), global_step)\n",
    "    writer.add_scalar(\"losses/entropy\", entropy_loss.item(), global_step)\n",
    "    writer.add_scalar(\"losses/old_approx_kl\", old_approx_kl.item(), global_step)\n",
    "    writer.add_scalar(\"losses/approx_kl\", approx_kl.item(), global_step)\n",
    "    writer.add_scalar(\"losses/clipfrac\", np.mean(clipfracs), global_step)\n",
    "    writer.add_scalar(\"losses/explained_variance\", explained_var, global_step)\n",
    "    if global_step % visualization_steps == 0:\n",
    "        clear_output(wait=True)  # for animation\n",
    "\n",
    "torch_env.close()\n",
    "writer.close()"
   ]
  },
  {
   "cell_type": "code",
   "execution_count": null,
   "metadata": {},
   "outputs": [],
   "source": []
  }
 ],
 "metadata": {
  "kernelspec": {
   "display_name": "Python 3 (ipykernel)",
   "language": "python",
   "name": "python3"
  },
  "language_info": {
   "codemirror_mode": {
    "name": "ipython",
    "version": 3
   },
   "file_extension": ".py",
   "mimetype": "text/x-python",
   "name": "python",
   "nbconvert_exporter": "python",
   "pygments_lexer": "ipython3",
   "version": "3.9.16"
  }
 },
 "nbformat": 4,
 "nbformat_minor": 4
}

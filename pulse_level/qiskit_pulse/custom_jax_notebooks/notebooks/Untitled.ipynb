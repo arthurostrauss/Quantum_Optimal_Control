{
 "cells": [
  {
   "cell_type": "code",
   "execution_count": null,
   "id": "a4291fae-1811-48c0-bbdc-2c064a73926f",
   "metadata": {},
   "outputs": [],
   "source": []
  },
  {
   "cell_type": "code",
   "execution_count": null,
   "id": "67cd5f18-df95-4280-b366-e7cc83f28a3e",
   "metadata": {
    "tags": []
   },
   "outputs": [],
   "source": [
    "import os\n",
    "\n",
    "os.environ[\"KMP_DUPLICATE_LIB_OK\"] = \"True\"\n",
    "import sys\n",
    "\n",
    "module_path = os.path.abspath(\n",
    "    os.path.join(\n",
    "        \"/Users/arthurstrauss/Library/CloudStorage/OneDrive-NationalUniversityofSingapore/Coding_projects/Quantum_Optimal_Control\"\n",
    "    )\n",
    ")\n",
    "if module_path not in sys.path:\n",
    "    sys.path.append(module_path)"
   ]
  },
  {
   "cell_type": "code",
   "execution_count": 1,
   "id": "f4d98d4e-4c74-4f75-ba43-0778bfd4daf0",
   "metadata": {
    "tags": []
   },
   "outputs": [
    {
     "name": "stderr",
     "output_type": "stream",
     "text": [
      "/Users/arthurstrauss/opt/anaconda3/envs/rl_qoc/lib/python3.9/site-packages/qiskit_dynamics/dispatch/backends/jax.py:34: UserWarning: The functionality in the perturbation module of Qiskit Dynamics requires a JAX version <= 0.4.6, due to a bug in JAX versions > 0.4.6. For versions 0.4.4, 0.4.5, and 0.4.6, using the perturbation module functionality requires setting os.environ['JAX_JIT_PJIT_API_MERGE'] = '0' before importing JAX or Dynamics.\n",
      "  warnings.warn(\n"
     ]
    }
   ],
   "source": [
    "# Qiskit imports\n",
    "from qiskit import pulse, transpile\n",
    "from qiskit.transpiler import InstructionDurations\n",
    "from qiskit.circuit import (\n",
    "    ParameterVector,\n",
    "    QuantumCircuit,\n",
    "    QuantumRegister,\n",
    "    Gate,\n",
    "    CircuitInstruction,\n",
    ")\n",
    "from dynamicsbackend_estimator import DynamicsBackendEstimator\n",
    "\n",
    "import numpy as np\n",
    "import tqdm\n",
    "import time\n",
    "from typing import Union, Optional, List, Sequence\n",
    "import jax\n",
    "\n",
    "jax.config.update(\"jax_enable_x64\", True)\n",
    "# tell JAX we are using CPU\n",
    "jax.config.update(\"jax_platform_name\", \"cpu\")\n",
    "# import Array and set default backend\n",
    "from qiskit_dynamics.array import Array\n",
    "\n",
    "Array.set_default_backend(\"jax\")"
   ]
  },
  {
   "cell_type": "markdown",
   "id": "8bb00102-c80f-475f-add4-1a3499e20c56",
   "metadata": {
    "tags": []
   },
   "source": [
    "# Circuit macros for environment"
   ]
  },
  {
   "cell_type": "markdown",
   "id": "1697af22-c004-4413-9f34-3823daed3700",
   "metadata": {},
   "source": [
    "Below we define functions defining our way of parametrizing the custom gate we intend to calibrate. In the pulse gate scenario, we define two functions for clearly separating the abstraction layers that are intertwined here.\n",
    "The function ```apply_custom_gate``` creates a custom parametrized ```Gate``` and appends it to a ```QuantumCircuit``` given in input. The parametrization of the gate is provided by the ```params: ParameterVector``` argument of the function and is used to build a custom calibration of the gate. This custom calibration is defined in the second function called ```custom_schedule```, which builds a custom parametrized pulse schedule that can be attached to the gate calibration (see this tutorial for more info: https://qiskit.org/documentation/tutorials/circuits_advanced/05_pulse_gates.html)."
   ]
  },
  {
   "cell_type": "code",
   "execution_count": 5,
   "id": "76817287-acb9-4c3a-9610-9ae6cd8e6ba7",
   "metadata": {
    "tags": []
   },
   "outputs": [
    {
     "ename": "ModuleNotFoundError",
     "evalue": "No module named 'basis_gate_library'",
     "output_type": "error",
     "traceback": [
      "\u001b[0;31m---------------------------------------------------------------------------\u001b[0m",
      "\u001b[0;31mModuleNotFoundError\u001b[0m                       Traceback (most recent call last)",
      "Cell \u001b[0;32mIn[5], line 3\u001b[0m\n\u001b[1;32m      1\u001b[0m \u001b[38;5;28;01mfrom\u001b[39;00m \u001b[38;5;21;01mqiskit\u001b[39;00m\u001b[38;5;21;01m.\u001b[39;00m\u001b[38;5;21;01mproviders\u001b[39;00m \u001b[38;5;28;01mimport\u001b[39;00m Backend\n\u001b[1;32m      2\u001b[0m \u001b[38;5;28;01mfrom\u001b[39;00m \u001b[38;5;21;01mqiskit_experiments\u001b[39;00m\u001b[38;5;21;01m.\u001b[39;00m\u001b[38;5;21;01mcalibration_management\u001b[39;00m \u001b[38;5;28;01mimport\u001b[39;00m Calibrations\n\u001b[0;32m----> 3\u001b[0m \u001b[38;5;28;01mfrom\u001b[39;00m \u001b[38;5;21;01mbasis_gate_library\u001b[39;00m \u001b[38;5;28;01mimport\u001b[39;00m FixedFrequencyTransmon, EchoedCrossResonance\n\u001b[1;32m      4\u001b[0m \u001b[38;5;28;01mfrom\u001b[39;00m \u001b[38;5;21;01mcopy\u001b[39;00m \u001b[38;5;28;01mimport\u001b[39;00m deepcopy\n\u001b[1;32m      5\u001b[0m \u001b[38;5;28;01mfrom\u001b[39;00m \u001b[38;5;21;01mhelper_functions\u001b[39;00m \u001b[38;5;28;01mimport\u001b[39;00m determine_ecr_params\n",
      "\u001b[0;31mModuleNotFoundError\u001b[0m: No module named 'basis_gate_library'"
     ]
    }
   ],
   "source": [
    "from qiskit.providers import Backend\n",
    "from qiskit_experiments.calibration_management import Calibrations\n",
    "from basis_gate_library import FixedFrequencyTransmon, EchoedCrossResonance\n",
    "from copy import deepcopy\n",
    "from helper_functions import determine_ecr_params\n",
    "\n",
    "\n",
    "def custom_schedule(\n",
    "    backend: Backend,\n",
    "    physical_qubits: list,\n",
    "    params: ParameterVector,\n",
    "    keep_symmetry: bool = True,\n",
    "):\n",
    "    \"\"\"\n",
    "    Define parametrization of the pulse schedule characterizing the target gate.\n",
    "    This function can be customized at will, however one shall recall to make sure that number of actions match the\n",
    "    number of pulse parameters used within the function (throught the params argument).\n",
    "        :param backend: IBM Backend on which schedule shall be added\n",
    "        :param physical_qubits: Physical qubits on which custom gate is applied on\n",
    "        :param params: Parameters of the Schedule/Custom gate\n",
    "        :param keep_symmetry: Choose if the two parts of the ECR tone shall be jointly parametrized or not\n",
    "\n",
    "        :return: Parametrized Schedule\n",
    "    \"\"\"\n",
    "    # Load here all pulse parameters names that should be tuned during model-free calibration.\n",
    "    # Here we focus on real time tunable pulse parameters (amp, angle, duration)\n",
    "    pulse_features = [\"amp\", \"angle\", \"tgt_amp\", \"tgt_angle\"]\n",
    "\n",
    "    # Uncomment lines below to include pulse duration as tunable parameter\n",
    "    # pulse_features.append(\"duration\")\n",
    "    # duration_window = 0\n",
    "\n",
    "    global n_actions\n",
    "    assert n_actions == len(\n",
    "        params\n",
    "    ), f\"Number of actions ({n_actions}) does not match length of ParameterVector {params.name} ({len(params)})\"\n",
    "\n",
    "    new_params, _, _ = determine_ecr_params(backend, physical_qubits)\n",
    "\n",
    "    qubits = tuple(physical_qubits)\n",
    "\n",
    "    if keep_symmetry:  # Maintain symmetry between the two GaussianSquare pulses\n",
    "        for sched in [\"cr45p\", \"cr45m\"]:\n",
    "            for i, feature in enumerate(pulse_features):\n",
    "                if feature != \"duration\":\n",
    "                    new_params[(feature, qubits, sched)] += params[i]\n",
    "                else:\n",
    "                    new_params[\n",
    "                        (feature, qubits, sched)\n",
    "                    ] += pulse.builder.seconds_to_samples(duration_window * params[i])\n",
    "    else:\n",
    "        num_features = len(pulse_features)\n",
    "        for i, sched in enumerate([\"cr45p\", \"cr45m\"]):\n",
    "            for j, feature in enumerate(pulse_features):\n",
    "                if feature != \"duration\":\n",
    "                    new_params[(feature, qubits, sched)] += params[i * num_features + j]\n",
    "                else:\n",
    "                    new_params[\n",
    "                        (feature, qubits, sched)\n",
    "                    ] += pulse.builder.seconds_to_samples(\n",
    "                        duration_window * params[i * num_features + j]\n",
    "                    )\n",
    "\n",
    "    cals = Calibrations.from_backend(\n",
    "        backend,\n",
    "        [\n",
    "            FixedFrequencyTransmon([\"x\", \"sx\"]),\n",
    "            EchoedCrossResonance([\"cr45p\", \"cr45m\", \"ecr\"]),\n",
    "        ],\n",
    "        add_parameter_defaults=True,\n",
    "    )\n",
    "\n",
    "    # Retrieve schedule (for now, works only with ECRGate(), as no library yet available for CX)\n",
    "    parametrized_schedule = cals.get_schedule(\n",
    "        \"ecr\", physical_qubits, assign_params=new_params\n",
    "    )\n",
    "    return parametrized_schedule"
   ]
  },
  {
   "cell_type": "code",
   "execution_count": null,
   "id": "d73cc442-f1a9-44ea-aea2-bd56a7220a92",
   "metadata": {
    "tags": []
   },
   "outputs": [],
   "source": [
    "# Pulse gate ansatz\n",
    "\n",
    "\n",
    "def apply_custom_gate(\n",
    "    qc: QuantumCircuit,\n",
    "    params: Optional[ParameterVector] = None,\n",
    "    tgt_register: Optional[QuantumRegister] = None,\n",
    "):\n",
    "    \"\"\"\n",
    "    Define ansatz circuit to be played on Quantum Computer. Should be parametrized with Qiskit ParameterVector\n",
    "    This function is used to run the QuantumCircuit instance on a Runtime backend\n",
    "    :param qc: Quantum Circuit instance to add the gate on\n",
    "    :param params: Parameters of the custom Gate\n",
    "    :param tgt_register: Quantum Register formed of target qubits\n",
    "    :return:\n",
    "    \"\"\"\n",
    "    global n_actions, backend, target\n",
    "\n",
    "    if params is None:\n",
    "        params = ParameterVector(\"theta\", n_actions)\n",
    "    if tgt_register is None:\n",
    "        tgt_register = qc.qregs[0]\n",
    "\n",
    "    # Choose below which target gate you'd like to calibrate\n",
    "    parametrized_gate = Gate(\"custom_ecr\", 2, params=params.params)\n",
    "    gate, physical_qubits = target[\"gate\"], target[\"register\"]\n",
    "    parametrized_schedule = custom_schedule(\n",
    "        backend=backend, physical_qubits=physical_qubits, params=params\n",
    "    )\n",
    "    qc.add_calibration(parametrized_gate, physical_qubits, parametrized_schedule)\n",
    "    qc.append(parametrized_gate, tgt_register)"
   ]
  },
  {
   "cell_type": "markdown",
   "id": "4059901a-ba2d-4752-85b3-71bef088f66c",
   "metadata": {},
   "source": [
    "## Generic information characterizing the quantum system\n",
    "\n",
    "The algorithm is built upon Qiskit modules. To specify how to address our quantum system of interest, we therefore adopt the IBM approach to define a quantum backend, on which qubits are defined and can be accessed via control actions and measurements.\n",
    "\n",
    "The cell below specifies:\n",
    "- ```physical_qubits```: List of qubit indices which are specifically addressed by controls , namely the ones for which we intend to calibrate a gate upon or steer them in a specific quantum state. Note that this list could include less qubits than the total number of qubits, which can be useful when one wants to take into account crosstalk effects emerging from nearest-neigbor coupling.\n",
    "- ```sampling_Paulis```: number of Pauli observables  to be sampled from the system: the algorithm relies on the ability to process measurement outcomes to estimate the expectation value of different Pauli operators. The more observables we provide for sampling, the more properties we are able to deduce with accuracy about the actual state that was created when applying our custom controls. For a single qubit, the possible Pauli operators are $\\sigma_0=I$, $\\sigma_x=X$, $\\sigma_y=Y$, $\\sigma_z=Z$. For a general multiqubit system, the Pauli observables are tensor products of those single qubit Pauli operators. The algorithm will automatically estimate which observables are the most relevant to sample based on the provided target. The probability distribution from which those observables are sampled is derived from the Direct Fidelity Estimation (equation 3, https://link.aps.org/doi/10.1103/PhysRevLett.106.230501) algorithm. \n",
    "- ```N_shots```: Indicates how many measurements shall be done for each provided circuit (that is a specific combination of an action vector and a Pauli observable to be sampled)\n",
    "- ```n_actions```: Indicates the number of pulse/circuit parameters that characterize our parametrized quantum circuit. For our pulse level ansatz, this number will depend on the number of parameters we are willing to tune in the original two-qubit gate calibration. \n",
    "- ```estimator_options```: Options of the Qiskit Estimator primitive. The Estimator is the Qiskit module enabling an easy computation of Pauli expectation values. One can set options to make this process more reliable (typically by doing some error mitigation techniques in post-processing). Works only with Runtime Backend at the moment\n",
    "- ```abstraction_level``` chosen to encode our quantum circuit. One can choose here to stick to the usual circuit model of quantum computing, by using the ```QuantumCircuit``` objects from Qiskit and therefore set the ```abstraction_level``` to ```\"circuit\"```. However, depending on the task at hand, one can also prefer to use a pulse description of all the operations in our circuit. This is possible for both real backends and simulators by using respectively Qiskit Runtime and Qiskit Dynamics. In this case, one should define the ansatz circuit above in a pulse level fashion, and the simulation done at the Hamiltonian level, and not only via statevector calculations. In this notebook we set the ```abstraction_level``` to ```\"pulse\"```. Another notebook at the gate level is available in the repo."
   ]
  },
  {
   "cell_type": "code",
   "execution_count": null,
   "id": "b93c63f5-9d96-48a1-9cb0-e79c45cdcb4b",
   "metadata": {
    "tags": []
   },
   "outputs": [],
   "source": [
    "physical_qubits = [0, 1]\n",
    "n_actions = 4  # Cf number of parameters in custom_schedule function above\n",
    "abstraction_level = \"pulse\""
   ]
  },
  {
   "cell_type": "code",
   "execution_count": null,
   "id": "8ec8fd8c-e381-4068-ae6b-149dc3999f01",
   "metadata": {},
   "outputs": [],
   "source": []
  },
  {
   "cell_type": "markdown",
   "id": "0ff4a7b7-14cd-444b-9b89-fe456186af51",
   "metadata": {},
   "source": [
    "## Setting up Quantum Backend"
   ]
  },
  {
   "cell_type": "markdown",
   "id": "47f3f046-1ffb-40a2-a6a3-36edfe532e68",
   "metadata": {
    "tags": []
   },
   "source": [
    "### Simulation backend initialization: Qiskit Dynamics\n",
    "If you want to run the algorithm over a simulation, one can use Qiskit Dynamics for pulse level simulation of quantum circuits. Below we set the ground for declaring a ```DynamicsBackend```.\n",
    "\n",
    "This can be done in two ways: \n",
    "\n",
    "1. Declare a ```DynamicsBackend``` from a ```FakeBackend``` or ```IBMBackend``` instance and use the ```from_backend()``` method to retrieve the Hamiltonian description of such backend.\n",
    "2. Alternatively, you can define your own custom Hamiltonian/Linblad that should be used to simulate the multiqubit system of interest, and feed it to a ```Solver``` instance which can be used to declare the ```DynamicsBackend```.\n",
    "For more information you can check Qiskit Dynamics documentation (https://qiskit.org/documentation/dynamics/apidocs/backend.html)\n"
   ]
  },
  {
   "cell_type": "code",
   "execution_count": null,
   "id": "636c6fc2-82cb-432a-8b7a-aa3aa7eade5b",
   "metadata": {
    "tags": []
   },
   "outputs": [],
   "source": [
    "from qiskit.providers.fake_provider import FakeHanoi, FakeJakarta, FakeJakartaV2\n",
    "from helper_functions import get_control_channel_map\n",
    "from qiskit_dynamics import DynamicsBackend, Solver\n",
    "from helper_functions import get_solver_and_freq_from_backend\n",
    "\n",
    "fake_backend = FakeJakarta()\n",
    "fake_backend_v2 = FakeJakartaV2()\n",
    "control_channel_map = get_control_channel_map(fake_backend, physical_qubits)\n",
    "dt = fake_backend_v2.target.dt\n",
    "print(\"Coupling Map: \", list(fake_backend_v2.coupling_map.get_edges()))"
   ]
  },
  {
   "cell_type": "code",
   "execution_count": null,
   "id": "b25435b5-bb7d-4581-8d08-6f52956da67b",
   "metadata": {
    "tags": []
   },
   "outputs": [],
   "source": [
    "dynamics_options = {\n",
    "    \"seed_simulator\": None,  # \"configuration\": fake_backend.configuration(),\n",
    "    \"control_channel_map\": control_channel_map,\n",
    "    \"solver_options\": {\"method\": \"jax_odeint\", \"atol\": 1e-6, \"rtol\": 1e-8, \"hmax\": dt},\n",
    "}\n",
    "qubit_properties = fake_backend_v2.qubit_properties(physical_qubits)"
   ]
  },
  {
   "cell_type": "code",
   "execution_count": null,
   "id": "f99c6fa5-8c41-4d11-b295-a439f2720b13",
   "metadata": {
    "tags": []
   },
   "outputs": [],
   "source": [
    "# Using the from_backend method\n",
    "\n",
    "dynamics_backend = DynamicsBackend.from_backend(\n",
    "    fake_backend, subsystem_list=physical_qubits, **dynamics_options\n",
    ")\n",
    "dynamics_backend.target.qubit_properties = qubit_properties"
   ]
  },
  {
   "cell_type": "code",
   "execution_count": null,
   "id": "0be5bbc1-628a-4790-8e67-b083f5e0aeb4",
   "metadata": {
    "tags": []
   },
   "outputs": [],
   "source": [
    "print(qubit_properties)"
   ]
  },
  {
   "cell_type": "code",
   "execution_count": null,
   "id": "197b496b-4f4f-4320-88a6-33e76e26512a",
   "metadata": {
    "tags": []
   },
   "outputs": [],
   "source": [
    "# Example of target gate\n",
    "from qiskit.circuit.library.standard_gates import ECRGate, XGate\n",
    "\n",
    "ECR_tgt = {\"gate\": ECRGate(), \"register\": physical_qubits}\n",
    "target = ECR_tgt\n",
    "print(target)"
   ]
  },
  {
   "cell_type": "code",
   "execution_count": null,
   "id": "edb4e4e7-6320-40fe-8715-7aad1e69336a",
   "metadata": {
    "tags": []
   },
   "outputs": [],
   "source": [
    "from helper_functions import perform_standard_calibrations\n",
    "\n",
    "# Adds baseline calibrations for X, SX, RZ, and ECR gate (the latter is not properly calibrated, it just adds a calibration but without any experiments attached to find the good one)\n",
    "cals, results = perform_standard_calibrations(backend)"
   ]
  },
  {
   "cell_type": "code",
   "execution_count": null,
   "id": "00812676-db79-40cc-bc80-f1428fe4c509",
   "metadata": {
    "tags": []
   },
   "outputs": [],
   "source": [
    "from qiskit.circuit import Parameter\n",
    "from qiskit.primitives import BackendEstimator\n",
    "\n",
    "estimator = BackendEstimator(dynamics_backend)\n",
    "qc = QuantumCircuit(2)\n",
    "apply_custom_gate(qc)\n",
    "qc.draw(\"mpl\")"
   ]
  },
  {
   "cell_type": "code",
   "execution_count": null,
   "id": "2d86236b-d1d6-4400-8786-9c63e5ccfda9",
   "metadata": {
    "tags": []
   },
   "outputs": [],
   "source": [
    "from qiskit.quantum_info import SparsePauliOp\n",
    "\n",
    "obs = SparsePauliOp.from_list([(\"XX\", 1.0), (\"YY\", 1.0)])"
   ]
  },
  {
   "cell_type": "code",
   "execution_count": null,
   "id": "48e2af6c-a62a-4c3a-b5ab-433d50836c41",
   "metadata": {
    "tags": []
   },
   "outputs": [],
   "source": [
    "estimator.run([qc] * 300, [obs] * 300, np.random.uniform())"
   ]
  },
  {
   "cell_type": "code",
   "execution_count": null,
   "id": "a6e49b34-ed7b-4b1d-8e20-04936bba3e94",
   "metadata": {
    "tags": []
   },
   "outputs": [],
   "source": [
    "estimator.preprocessed_circuits[0][0].draw(\"mpl\")"
   ]
  },
  {
   "cell_type": "code",
   "execution_count": null,
   "id": "4dcd945f-3d36-4912-8d73-ac50efdf1966",
   "metadata": {
    "tags": []
   },
   "outputs": [],
   "source": [
    "estimator.preprocessed_circuits[0][1][0].draw(\"mpl\")"
   ]
  },
  {
   "cell_type": "code",
   "execution_count": null,
   "id": "4403a59d-2db1-4cc8-a19c-8c807aadb6cf",
   "metadata": {
    "tags": []
   },
   "outputs": [],
   "source": [
    "estimator.transpiled_circuits[0].draw(\"mpl\")"
   ]
  },
  {
   "cell_type": "code",
   "execution_count": null,
   "id": "bb664c67-a408-4396-996c-32c25c80b7f6",
   "metadata": {
    "tags": []
   },
   "outputs": [],
   "source": [
    "from qiskit.compiler import schedule\n",
    "\n",
    "qc2 = transpile(qc, backend)\n",
    "schedule(qc2, backend)"
   ]
  },
  {
   "cell_type": "code",
   "execution_count": null,
   "id": "04672482-2184-4ef4-85bb-4bf5207f30a9",
   "metadata": {
    "tags": []
   },
   "outputs": [],
   "source": [
    "from qiskit.quantum_info import SparsePauliOp\n",
    "\n",
    "obs = SparsePauliOp.from_list([(\"XX\", 1.0), (\"ZZ\", 1), (\"IZ\", 1)])"
   ]
  },
  {
   "cell_type": "code",
   "execution_count": null,
   "id": "da54a30a-de67-4357-a35f-bcb8d487b4be",
   "metadata": {
    "tags": []
   },
   "outputs": [],
   "source": [
    "job = estimator.run(qc, obs, [3.14])"
   ]
  },
  {
   "cell_type": "code",
   "execution_count": null,
   "id": "482035ce-72a7-44d3-815b-b13e0350afb3",
   "metadata": {
    "tags": []
   },
   "outputs": [],
   "source": [
    "with pulse.build() as sched:\n",
    "    pulse.play(pulse.Drag(param, 0.1, 20, 0.0), pulse.DriveChannel(0))\n",
    "    pulse.delay(40, pulse.DriveChannel(0))\n",
    "    pulse.play(pulse.Drag(150, 0.1, 20, 0.0), pulse.DriveChannel(0))"
   ]
  },
  {
   "cell_type": "code",
   "execution_count": null,
   "id": "e0bcbec2-fff0-4536-bbdb-de751fbd11b1",
   "metadata": {
    "tags": []
   },
   "outputs": [],
   "source": [
    "sched.draw()"
   ]
  },
  {
   "cell_type": "code",
   "execution_count": null,
   "id": "6f35a00e-e101-4d03-bbb3-937b3765d036",
   "metadata": {},
   "outputs": [],
   "source": [
    "def concatenate2(**kwargs):\n",
    "    return kwargs\n",
    "\n",
    "\n",
    "def concatenate(**kwargs):\n",
    "    print(kwargs)\n",
    "    for key in kwargs:\n",
    "        if key == \"Yo\":\n",
    "            kwargs.pop(key)\n",
    "            break\n",
    "    print(concatenate2(**kwargs))\n",
    "    return kwargs\n",
    "\n",
    "\n",
    "concatenate(hey=\"Well\", ho=\"Ay\", Yo=\"YI\")"
   ]
  },
  {
   "cell_type": "code",
   "execution_count": null,
   "id": "0f70b251-485a-41dd-9ad0-215e2ea10078",
   "metadata": {},
   "outputs": [],
   "source": []
  }
 ],
 "metadata": {
  "kernelspec": {
   "display_name": "Python 3 (ipykernel)",
   "language": "python",
   "name": "python3"
  },
  "language_info": {
   "codemirror_mode": {
    "name": "ipython",
    "version": 3
   },
   "file_extension": ".py",
   "mimetype": "text/x-python",
   "name": "python",
   "nbconvert_exporter": "python",
   "pygments_lexer": "ipython3",
   "version": "3.9.16"
  }
 },
 "nbformat": 4,
 "nbformat_minor": 5
}

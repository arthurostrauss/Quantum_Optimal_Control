{
 "cells": [
  {
   "cell_type": "markdown",
   "id": "b12bc6a1-4343-44e0-87d0-382f37d93d81",
   "metadata": {
    "tags": []
   },
   "source": [
    "# Context aware pulse gate calibration with Reinforcement Learning\n",
    "\n",
    "This notebook takes advantage of pulse level simulation through Qiskit Dynamics module to perform context aware pulse gate calibration. The main difference with the other notebook that works for both ```DynamicsBackend``` and real backends is that we take advantage of JAX to increase significantly the simulation speed, which turns out to be a limiting factor when dealing with the way ```DynamicsBackend``` is originally designed."
   ]
  },
  {
   "cell_type": "code",
   "execution_count": 2,
   "id": "cc45931e-f117-412a-b9ca-c65738633a7b",
   "metadata": {
    "tags": [],
    "ExecuteTime": {
     "end_time": "2023-12-09T10:21:29.164874Z",
     "start_time": "2023-12-09T10:21:24.808923Z"
    }
   },
   "source": [
    "# Qiskit imports\n",
    "from qiskit import pulse, transpile\n",
    "from qiskit.circuit import (\n",
    "    ParameterVector,\n",
    "    QuantumCircuit,\n",
    "    QuantumRegister,\n",
    "    Gate,\n",
    ")\n",
    "from qiskit.providers import Backend\n",
    "from rl_qoc import QuantumEnvironment, DynamicsConfig as QiskitConfig\n",
    "from torch.distributions import Normal\n",
    "\n",
    "import numpy as np\n",
    "import tqdm\n",
    "from typing import Optional\n",
    "from IPython.display import clear_output\n",
    "import jax\n",
    "\n",
    "jax.config.update(\"jax_enable_x64\", True)\n",
    "# tell JAX we are using CPU\n",
    "jax.config.update(\"jax_platform_name\", \"cpu\")\n",
    "# import Array and set default backend\n",
    "from qiskit_dynamics.array import Array\n",
    "\n",
    "Array.set_default_backend(\"jax\")"
   ],
   "outputs": []
  },
  {
   "cell_type": "code",
   "execution_count": 3,
   "id": "b04ee246-a0dd-4e62-b822-1ef9e30336c9",
   "metadata": {
    "ExecuteTime": {
     "end_time": "2023-12-09T10:21:29.171471Z",
     "start_time": "2023-12-09T10:21:29.168132Z"
    }
   },
   "source": [
    "from qiskit.providers import BackendV1, BackendV2\n",
    "from qiskit_experiments.calibration_management import Calibrations\n",
    "from qiskit_experiments.calibration_management.basis_gate_library import (\n",
    "    FixedFrequencyTransmon,\n",
    "    EchoedCrossResonance,\n",
    ")\n",
    "from rl_qoc.helpers.helper_functions import get_ecr_params\n",
    "\n",
    "\n",
    "def custom_schedule(\n",
    "    backend: BackendV1 | BackendV2,\n",
    "    physical_qubits: list,\n",
    "    params: ParameterVector,\n",
    "    keep_symmetry: bool = True,\n",
    "):\n",
    "    \"\"\"\n",
    "    Define parametrization of the pulse schedule characterizing the target gate.\n",
    "    This function can be customized at will, however one shall recall to make sure that number of actions match the\n",
    "    number of pulse parameters used within the function (throught the params argument).\n",
    "        :param backend: IBM Backend on which schedule shall be added\n",
    "        :param physical_qubits: Physical qubits on which custom gate is applied on\n",
    "        :param params: Parameters of the Schedule/Custom gate\n",
    "        :param keep_symmetry: Choose if the two parts of the ECR tone shall be jointly parametrized or not\n",
    "\n",
    "        :return: Parametrized Schedule\n",
    "    \"\"\"\n",
    "    # Load here all pulse parameters names that should be tuned during model-free calibration.\n",
    "    # Here we focus on real time tunable pulse parameters (amp, angle, duration)\n",
    "    pulse_features = [\"amp\", \"angle\", \"tgt_amp\", \"tgt_angle\"]\n",
    "\n",
    "    # Uncomment line below to include pulse duration as tunable parameter\n",
    "    # pulse_features.append(\"duration\")\n",
    "    duration_window = 0\n",
    "\n",
    "    global n_actions\n",
    "    assert n_actions == len(\n",
    "        params\n",
    "    ), f\"Number of actions ({n_actions}) does not match length of ParameterVector {params.name} ({len(params)})\"\n",
    "\n",
    "    new_params, _, _ = get_ecr_params(backend, physical_qubits)\n",
    "\n",
    "    qubits = tuple(physical_qubits)\n",
    "\n",
    "    if keep_symmetry:  # Maintain symmetry between the two GaussianSquare pulses\n",
    "        for sched in [\"cr45p\", \"cr45m\"]:\n",
    "            for i, feature in enumerate(pulse_features):\n",
    "                if feature != \"duration\":\n",
    "                    new_params[(feature, qubits, sched)] += params[i]\n",
    "                else:\n",
    "                    new_params[\n",
    "                        (feature, qubits, sched)\n",
    "                    ] += pulse.builder.seconds_to_samples(duration_window * params[i])\n",
    "    else:\n",
    "        num_features = len(pulse_features)\n",
    "        for i, sched in enumerate([\"cr45p\", \"cr45m\"]):\n",
    "            for j, feature in enumerate(pulse_features):\n",
    "                if feature != \"duration\":\n",
    "                    new_params[(feature, qubits, sched)] += params[i * num_features + j]\n",
    "                else:\n",
    "                    new_params[\n",
    "                        (feature, qubits, sched)\n",
    "                    ] += pulse.builder.seconds_to_samples(\n",
    "                        duration_window * params[i * num_features + j]\n",
    "                    )\n",
    "\n",
    "    cals = Calibrations.from_backend(\n",
    "        backend,\n",
    "        [\n",
    "            FixedFrequencyTransmon([\"x\", \"sx\"]),\n",
    "            EchoedCrossResonance([\"cr45p\", \"cr45m\", \"ecr\"]),\n",
    "        ],\n",
    "        add_parameter_defaults=True,\n",
    "    )\n",
    "\n",
    "    # Retrieve schedule (for now, works only with ECRGate(), as no library yet available for CX)\n",
    "    parametrized_schedule = cals.get_schedule(\"ecr\", qubits, assign_params=new_params)\n",
    "    return parametrized_schedule"
   ],
   "outputs": []
  },
  {
   "cell_type": "code",
   "execution_count": 4,
   "id": "d2994f36-46ef-407b-bb18-888c6d6c8d1e",
   "metadata": {
    "tags": [],
    "ExecuteTime": {
     "end_time": "2023-12-09T10:21:29.173465Z",
     "start_time": "2023-12-09T10:21:29.170587Z"
    }
   },
   "source": [
    "# Pulse gate ansatz\n",
    "\n",
    "\n",
    "def apply_parametrized_circuit(\n",
    "    qc: QuantumCircuit,\n",
    "    params: Optional[ParameterVector] = None,\n",
    "    tgt_register: Optional[QuantumRegister] = None,\n",
    "):\n",
    "    \"\"\"\n",
    "    Define ansatz circuit to be played on Quantum Computer. Should be parametrized with Qiskit ParameterVector\n",
    "    This function is used to run the QuantumCircuit instance on a Runtime backend\n",
    "    :param qc: Quantum Circuit instance to add the gate on\n",
    "    :param params: Parameters of the custom Gate\n",
    "    :param tgt_register: Quantum Register formed of target qubits\n",
    "    :return:\n",
    "    \"\"\"\n",
    "    # qc.num_qubits\n",
    "    global n_actions, backend, target\n",
    "\n",
    "    gate, physical_qubits = target[\"gate\"], target[\"register\"]\n",
    "    # x_pulse = backend.defaults().instruction_schedule_map.get('x', (qubit_tgt_register,)).instructions[0][1].pulse\n",
    "    if params is None:\n",
    "        params = ParameterVector(\"theta\", n_actions)\n",
    "    if tgt_register is None:\n",
    "        tgt_register = qc.qregs[0]\n",
    "\n",
    "    # Choose below which target gate you'd like to calibrate\n",
    "    parametrized_gate = Gate(\"custom_ecr\", 2, params=params.params)\n",
    "    # parametrized_gate = gate.copy()\n",
    "    # parametrized_gate.params = params.params\n",
    "    parametrized_schedule = custom_schedule(\n",
    "        backend=backend, physical_qubits=physical_qubits, params=params\n",
    "    )\n",
    "    qc.add_calibration(parametrized_gate, physical_qubits, parametrized_schedule)\n",
    "    qc.append(parametrized_gate, tgt_register)"
   ],
   "outputs": []
  },
  {
   "cell_type": "code",
   "execution_count": 5,
   "id": "de25fe83-dfc2-4c0b-bb55-b8e8294b6a52",
   "metadata": {
    "tags": [],
    "ExecuteTime": {
     "end_time": "2023-12-09T10:21:29.175699Z",
     "start_time": "2023-12-09T10:21:29.173181Z"
    }
   },
   "source": [
    "physical_qubits = [0, 1]\n",
    "sampling_Paulis = 50\n",
    "N_shots = 200\n",
    "n_actions = 4  # Cf number of parameters in custom_schedule function above\n",
    "abstraction_level = \"pulse\""
   ],
   "outputs": []
  },
  {
   "cell_type": "code",
   "execution_count": 6,
   "id": "e79698c6-81bb-4944-9005-af13e6f4a028",
   "metadata": {
    "tags": [],
    "ExecuteTime": {
     "end_time": "2023-12-09T10:21:29.182364Z",
     "start_time": "2023-12-09T10:21:29.175068Z"
    }
   },
   "source": [
    "# Example of target gate\n",
    "from qiskit.circuit.library.standard_gates import ECRGate\n",
    "\n",
    "ECR_tgt = {\"gate\": ECRGate(), \"register\": physical_qubits}\n",
    "target = ECR_tgt\n",
    "print(target)"
   ],
   "outputs": []
  },
  {
   "cell_type": "code",
   "execution_count": 7,
   "id": "808099ff-2e30-4b65-8c71-02bad5bc9c1e",
   "metadata": {
    "tags": [],
    "ExecuteTime": {
     "end_time": "2023-12-09T10:21:29.183212Z",
     "start_time": "2023-12-09T10:21:29.176878Z"
    }
   },
   "source": [
    "# target = {\"gate\": XGate(), \"register\": [0]}"
   ],
   "outputs": []
  },
  {
   "cell_type": "markdown",
   "id": "6e1b1243-037e-4b3b-81ce-05d14cebcf15",
   "metadata": {},
   "source": [
    "## Setting up Quantum Backend"
   ]
  },
  {
   "cell_type": "markdown",
   "id": "01b7c1b5-c62d-4b1d-a7e7-2ab0c2cce461",
   "metadata": {
    "tags": []
   },
   "source": [
    "### Simulation backend initialization: Qiskit Dynamics\n",
    "If you want to run the algorithm over a simulation, one can use Qiskit Dynamics for pulse level simulation of quantum circuits. Below we set the ground for declaring a ```DynamicsBackend```.\n",
    "\n",
    "This can be done in two ways: \n",
    "\n",
    "1. Declare a ```DynamicsBackend``` from a ```FakeBackend``` or ```IBMBackend``` instance and use the ```from_backend()``` method to retrieve the Hamiltonian description of such backend.\n",
    "2. Alternatively, you can define your own custom Hamiltonian/Linblad that should be used to simulate the multiqubit system of interest, and feed it to a ```Solver``` instance which can be used to declare the ```DynamicsBackend```.\n",
    "For more information you can check Qiskit Dynamics documentation (https://qiskit.org/documentation/dynamics/apidocs/backend.html)\n"
   ]
  },
  {
   "cell_type": "code",
   "execution_count": 8,
   "id": "457e920c-18a1-4f2f-bd07-540a99481655",
   "metadata": {
    "tags": [],
    "ExecuteTime": {
     "end_time": "2023-12-09T10:21:29.186994Z",
     "start_time": "2023-12-09T10:21:29.179216Z"
    }
   },
   "source": [
    "from qiskit_ibm_runtime.fake_provider import FakeJakarta, FakeJakartaV2\n",
    "from rl_qoc.helpers.helper_functions import get_control_channel_map\n",
    "from qiskit_dynamics import DynamicsBackend\n",
    "\n",
    "fake_backend = FakeJakarta()\n",
    "fake_backend_v2 = FakeJakartaV2()\n",
    "control_channel_map = get_control_channel_map(fake_backend, physical_qubits)\n",
    "dt = fake_backend_v2.target.dt\n",
    "print(\"Coupling Map: \", list(fake_backend_v2.coupling_map.get_edges()))"
   ],
   "outputs": []
  },
  {
   "cell_type": "code",
   "execution_count": 9,
   "id": "c8e89761-f64a-4823-86df-4012f87ce562",
   "metadata": {
    "tags": [],
    "ExecuteTime": {
     "end_time": "2023-12-09T10:21:29.189749Z",
     "start_time": "2023-12-09T10:21:29.185389Z"
    }
   },
   "source": [
    "solver_options = {\"method\": \"jax_odeint\", \"atol\": 1e-3, \"rtol\": 1e-5, \"hmax\": dt}\n",
    "dynamics_options = {\n",
    "    \"seed_simulator\": None,  # \"configuration\": fake_backend.configuration(),\n",
    "    \"control_channel_map\": control_channel_map,\n",
    "    \"solver_options\": solver_options,\n",
    "}\n",
    "qubit_properties = fake_backend_v2.qubit_properties(physical_qubits)"
   ],
   "outputs": []
  },
  {
   "cell_type": "code",
   "execution_count": 10,
   "id": "2d3aa1de-b048-41fc-a4e0-872ec14bb528",
   "metadata": {
    "tags": [],
    "ExecuteTime": {
     "end_time": "2023-12-09T10:21:29.437764Z",
     "start_time": "2023-12-09T10:21:29.189415Z"
    }
   },
   "source": [
    "from qiskit.quantum_info import Operator\n",
    "from qiskit_dynamics import Solver\n",
    "\n",
    "dt, v0, r0 = 1 / 4.5e9, 4.86e9, 0.22e9\n",
    "\n",
    "X = Operator.from_label(\"X\")\n",
    "Y = Operator.from_label(\"Y\")\n",
    "Z = Operator.from_label(\"Z\")\n",
    "s_p = 0.5 * (X + 1j * Y)\n",
    "\n",
    "solver_1q = Solver(\n",
    "    static_hamiltonian=0.5 * 2 * np.pi * v0 * Z,\n",
    "    hamiltonian_operators=[2 * np.pi * r0 * X],\n",
    "    rotating_frame=0.5 * 2 * np.pi * v0 * Z,\n",
    "    hamiltonian_channels=[\"d0\"],\n",
    "    channel_carrier_freqs={\"d0\": v0},\n",
    "    dt=dt,\n",
    ")"
   ],
   "outputs": []
  },
  {
   "cell_type": "code",
   "execution_count": 11,
   "id": "06dceddd-7276-4f7d-9ade-6b0ba7198bab",
   "metadata": {
    "tags": [],
    "ExecuteTime": {
     "end_time": "2023-12-09T10:21:29.886410Z",
     "start_time": "2023-12-09T10:21:29.442072Z"
    }
   },
   "source": [
    "dim = 3\n",
    "\n",
    "v0, v1 = 4.86e9, 4.97e9\n",
    "anharm0, anharm1 = -0.32e9, -0.32e9\n",
    "r0, r1 = 0.22e9, 0.26e9\n",
    "\n",
    "J = 0.002e9\n",
    "\n",
    "a = np.diag(np.sqrt(np.arange(1, dim)), 1)\n",
    "adag = np.diag(np.sqrt(np.arange(1, dim)), -1)\n",
    "N = np.diag(np.arange(dim))\n",
    "\n",
    "ident = np.eye(dim, dtype=complex)\n",
    "full_ident = np.eye(dim**2, dtype=complex)\n",
    "\n",
    "N0, N1 = np.kron(ident, N), np.kron(N, ident)\n",
    "a0, a1 = np.kron(ident, a), np.kron(a, ident)\n",
    "a0dag, a1dag = np.kron(ident, adag), np.kron(adag, ident)\n",
    "\n",
    "static_ham0 = 2 * np.pi * v0 * N0 + np.pi * anharm0 * N0 * (N0 - full_ident)\n",
    "static_ham1 = 2 * np.pi * v1 * N1 + np.pi * anharm1 * N1 * (N1 - full_ident)\n",
    "\n",
    "static_ham_full = (\n",
    "    static_ham0 + static_ham1 + 2 * np.pi * J * ((a0 + a0dag) @ (a1 + a1dag))\n",
    ")\n",
    "\n",
    "drive_op0 = 2 * np.pi * r0 * (a0 + a0dag)\n",
    "drive_op1 = 2 * np.pi * r1 * (a1 + a1dag)\n",
    "\n",
    "# build solver\n",
    "dt = 1 / 4.5e9\n",
    "solver_2q = Solver(\n",
    "    static_hamiltonian=static_ham_full,\n",
    "    hamiltonian_operators=[\n",
    "        drive_op0,\n",
    "        drive_op1,\n",
    "        drive_op0,\n",
    "        drive_op1,\n",
    "        drive_op1,\n",
    "        drive_op0,\n",
    "    ],\n",
    "    rotating_frame=static_ham_full,\n",
    "    hamiltonian_channels=[\"d0\", \"d1\", \"u0\", \"u1\", \"u2\", \"u3\"],\n",
    "    channel_carrier_freqs={\"d0\": v0, \"d1\": v1, \"u0\": v1, \"u1\": v0, \"u2\": v0, \"u3\": v1},\n",
    "    dt=dt,\n",
    "    evaluation_mode=\"dense\",\n",
    ")\n",
    "# Consistent solver option to use throughout notebook"
   ],
   "outputs": []
  },
  {
   "cell_type": "code",
   "execution_count": 12,
   "id": "72de966f-dad5-4127-b854-f33735ac2da4",
   "metadata": {
    "tags": [],
    "ExecuteTime": {
     "end_time": "2023-12-09T10:21:29.941199Z",
     "start_time": "2023-12-09T10:21:29.887041Z"
    }
   },
   "source": [
    "solver_options = {\"method\": \"jax_odeint\", \"atol\": 1e-3, \"rtol\": 1e-5, \"hmax\": dt}\n",
    "solver = solver_2q\n",
    "custom_backend = DynamicsBackend(\n",
    "    solver=solver,\n",
    "    # target = fake_backend_v2.target,\n",
    "    subsystem_dims=[dim, dim],  # for computing measurement data\n",
    "    solver_options=solver_options,  # to be used every time run is called\n",
    ")\n",
    "backend_target = custom_backend.target\n",
    "channel_freq = None\n",
    "calibration_files = None\n",
    "do_calibrations = True\n",
    "# qubit properties"
   ],
   "outputs": []
  },
  {
   "cell_type": "code",
   "execution_count": 13,
   "id": "5ba466aa-1c9a-4939-b099-b793176acb01",
   "metadata": {
    "tags": [],
    "ExecuteTime": {
     "end_time": "2023-12-09T10:21:29.945260Z",
     "start_time": "2023-12-09T10:21:29.922093Z"
    }
   },
   "source": [
    "print(custom_backend.target)"
   ],
   "outputs": []
  },
  {
   "cell_type": "markdown",
   "id": "613f2921-8c47-438e-a764-801de470670e",
   "metadata": {},
   "source": [
    "## Select backend"
   ]
  },
  {
   "cell_type": "code",
   "execution_count": 14,
   "id": "8c5dc2e6-aaea-48ab-ae95-4e39bdd5d52e",
   "metadata": {
    "tags": [],
    "ExecuteTime": {
     "end_time": "2023-12-09T10:21:30.073982Z",
     "start_time": "2023-12-09T10:21:29.944246Z"
    }
   },
   "source": [
    "# Choose backend among the set defined above\n",
    "backend = custom_backend\n",
    "\n",
    "print(\"Selected Backend: \", backend)\n",
    "if isinstance(backend, DynamicsBackend):\n",
    "    print(\"Subsystem dims: \", backend.options.subsystem_dims)\n",
    "print(\"Backend options\", backend.options)"
   ],
   "outputs": []
  },
  {
   "cell_type": "code",
   "execution_count": 15,
   "source": [
    "backend.options.subsystem_dims"
   ],
   "metadata": {
    "collapsed": false,
    "ExecuteTime": {
     "end_time": "2023-12-09T10:21:30.107158Z",
     "start_time": "2023-12-09T10:21:29.968553Z"
    }
   },
   "id": "35c6df050dc9e7e1",
   "outputs": []
  },
  {
   "cell_type": "code",
   "execution_count": 16,
   "id": "44902345-749f-4014-8103-94a851804e20",
   "metadata": {
    "tags": [],
    "ExecuteTime": {
     "end_time": "2023-12-09T10:21:30.108826Z",
     "start_time": "2023-12-09T10:21:29.998196Z"
    }
   },
   "source": [
    "# Wrap all info in one QiskitConfig\n",
    "Qiskit_setup = QiskitConfig(\n",
    "    parametrized_circuit=apply_parametrized_circuit, backend=backend\n",
    ")\n",
    "# Qiskit_setup = QiskitConfig(backend=backend)\n",
    "Qiskit_setup"
   ],
   "outputs": []
  },
  {
   "cell_type": "markdown",
   "id": "75dd6b2e-a20a-4867-915e-1501d7c7fcbf",
   "metadata": {
    "tags": []
   },
   "source": [
    "## Declare QuantumEnvironment object\n",
    "Running the box below declares the QuantumEnvironment instance.\n",
    "\n",
    "If selected backend is a ```DynamicsBackend```, this declaration launches a series of single qubit gate calibrations (to calibrate X and SX gate). The reason for this is that the Estimator primitive, which enables the computation of Pauli expectation values, requires calibrated single qubit gates for doing Pauli basis rotations (SX and RZ, to perform Hadamard and S gates)."
   ]
  },
  {
   "cell_type": "code",
   "execution_count": 17,
   "id": "4c73677c-1a71-4ace-8409-a42383f5c172",
   "metadata": {
    "tags": [],
    "ExecuteTime": {
     "end_time": "2023-12-09T10:21:42.022905Z",
     "start_time": "2023-12-09T10:21:30.017805Z"
    }
   },
   "source": [
    "\n",
    "%%time\n",
    "q_env = QuantumEnvironment(target=target, abstraction_level=abstraction_level,\n",
    "                           Qiskit_config=Qiskit_setup,\n",
    "                           sampling_Pauli_space=sampling_Paulis, n_shots=N_shots, c_factor=0.5)"
   ],
   "outputs": []
  },
  {
   "cell_type": "code",
   "execution_count": 18,
   "id": "9c6f2f3b-4338-4ff2-8539-de8fe475d60d",
   "metadata": {
    "tags": [],
    "ExecuteTime": {
     "end_time": "2023-12-09T10:21:42.024030Z",
     "start_time": "2023-12-09T10:21:42.018157Z"
    }
   },
   "source": [
    "print(q_env)"
   ],
   "outputs": []
  },
  {
   "cell_type": "code",
   "execution_count": 19,
   "source": [
    "q_env.backend"
   ],
   "metadata": {
    "collapsed": false,
    "ExecuteTime": {
     "end_time": "2023-12-09T10:21:42.026265Z",
     "start_time": "2023-12-09T10:21:42.021445Z"
    }
   },
   "id": "8ad882b6b22d96d3",
   "outputs": []
  },
  {
   "cell_type": "code",
   "execution_count": 20,
   "id": "1cd875bd-832e-44fc-a846-89ccd54229e4",
   "metadata": {
    "tags": [],
    "ExecuteTime": {
     "end_time": "2023-12-09T10:21:42.030318Z",
     "start_time": "2023-12-09T10:21:42.024956Z"
    }
   },
   "source": [
    "q_env.estimator"
   ],
   "outputs": []
  },
  {
   "cell_type": "code",
   "execution_count": 21,
   "id": "7aa24025-5af0-4879-8fcd-0279286a1d48",
   "metadata": {
    "tags": [],
    "ExecuteTime": {
     "end_time": "2023-12-09T10:21:42.063269Z",
     "start_time": "2023-12-09T10:21:42.027221Z"
    }
   },
   "source": [
    "# plot_gate_map(backend)"
   ],
   "outputs": []
  },
  {
   "cell_type": "code",
   "execution_count": 22,
   "id": "4db83a9d-5d9d-4367-8e5f-343f7806ad96",
   "metadata": {
    "tags": [],
    "ExecuteTime": {
     "end_time": "2023-12-09T10:21:42.064291Z",
     "start_time": "2023-12-09T10:21:42.047876Z"
    }
   },
   "source": [
    "from qiskit.quantum_info import Statevector\n",
    "\n",
    "y0 = Array(Statevector(np.array([1.0, 0.0])))\n",
    "dt = 2.222e-10\n",
    "rtol = 1e-5\n",
    "atol = 1e-3\n",
    "\n",
    "h_sched = backend.target.get_calibration(\"h\", (0,))\n",
    "x_sched = backend.target.get_calibration(\"x\", (0,))\n",
    "meas_sched = backend.target.get_calibration(\"measure\", (0,))\n",
    "# build a pulse schedule\n",
    "with pulse.build(default_alignment=\"sequential\") as schedule:\n",
    "    pulse.call(x_sched)\n",
    "    # pulse.call(h_sched)\n",
    "    # pulse.shift_phase(np.pi, pulse.DriveChannel(0))\n",
    "    # pulse.call(h_sched)\n",
    "\n",
    "t_linspace = np.linspace(0.0, schedule.duration, 21)\n",
    "\n",
    "\n",
    "def get_sched(param_values, observables, y0, options):\n",
    "    x_sched = backend.target.get_calibration(\"x\", (0,))\n",
    "    h_sched = backend.target.get_calibration(\"h\", (0,))\n",
    "    meas_sched = backend.target.get_calibration(\"measure\", (0,))\n",
    "    # build a pulse schedule\n",
    "    with pulse.build(default_alignment=\"sequential\") as schedule:\n",
    "        pulse.call(x_sched)\n",
    "        # pulse.shift_phase(phase, pulse.DriveChannel(0))\n",
    "        # pulse.call(h_sched)\n",
    "        # pulse.call(meas_sched)\n",
    "    results = solver.solve(\n",
    "        t_span=[t_linspace[0], t_linspace[-1]],\n",
    "        y0=y0,\n",
    "        signals=schedule,\n",
    "        t_eval=t_linspace,\n",
    "        method=\"jax_odeint\",\n",
    "        atol=atol,\n",
    "        rtol=rtol,\n",
    "    )\n",
    "\n",
    "    return results.y"
   ],
   "outputs": []
  },
  {
   "cell_type": "code",
   "execution_count": 22,
   "id": "9338fe4f-e821-47bf-81e8-d4d406af7054",
   "metadata": {
    "ExecuteTime": {
     "end_time": "2023-12-09T10:21:42.065113Z",
     "start_time": "2023-12-09T10:21:42.050976Z"
    }
   },
   "source": [],
   "outputs": []
  },
  {
   "cell_type": "code",
   "execution_count": 23,
   "id": "65194fa1-d461-4f04-a5ab-ef05207429eb",
   "metadata": {
    "tags": [],
    "ExecuteTime": {
     "end_time": "2023-12-09T10:21:42.065931Z",
     "start_time": "2023-12-09T10:21:42.053598Z"
    }
   },
   "source": [
    "from jax import vmap\n",
    "from qiskit_dynamics.array import wrap\n",
    "\n",
    "jit = wrap(jax.jit, decorator=True)\n",
    "qd_vmap = wrap(vmap, decorator=True)\n",
    "\n",
    "sched_fast = jit(get_sched)"
   ],
   "outputs": []
  },
  {
   "cell_type": "code",
   "execution_count": 24,
   "id": "e92da7ac-0fa6-4d90-8166-7b09c375df24",
   "metadata": {
    "tags": [],
    "ExecuteTime": {
     "end_time": "2023-12-09T10:21:42.066784Z",
     "start_time": "2023-12-09T10:21:42.055695Z"
    }
   },
   "source": [
    "# x_sched = backend.target.get_calibration(\"x\", (0,))\n",
    "# h_sched = backend.target.get_calibration(\"h\", (0,))\n",
    "# meas_sched = backend.target.get_calibration(\"measure\", (0,))\n",
    "# # build a pulse schedule\n",
    "# with pulse.build(default_alignment=\"sequential\") as schedule:\n",
    "#     pulse.call(x_sched)\n",
    "#     #pulse.shift_phase(phase, pulse.DriveChannel(0))\n",
    "#     #pulse.call(h_sched)\n",
    "#     #pulse.call(meas_sched)\n",
    "# results = backend.options.solver.solve(t_span=[t_linspace[0], t_linspace[-1]],\n",
    "#                                        y0=Statevector.from_label(\"0\"),\n",
    "#                                        signals=schedule,\n",
    "#                                        t_eval=t_linspace,\n",
    "#                                        method='jax_odeint',\n",
    "#                                        atol=atol,\n",
    "#                                        rtol=rtol\n",
    "#                                        )"
   ],
   "outputs": []
  },
  {
   "cell_type": "markdown",
   "id": "f4659345-6834-4400-953b-7544f8ee1214",
   "metadata": {},
   "source": [
    "# Definition of Circuit context"
   ]
  },
  {
   "cell_type": "markdown",
   "id": "50f8b8cf-31f3-4484-84b5-d6b21c8f7814",
   "metadata": {},
   "source": [
    "Now that we have established our ```QuantumEnvironment```, we will now focus on the main research point of this paper, which is to calibrate the target gate based on its location within a specific circuit context. As we will use PyTorch to build the interface between our agent and our environment, we will wrap up our original environment within a ```TorchQuantumEnvironment``` object, which will build a suitable environment for dynamical and contextual gate calibration. But first, we define the quantum circuit in which our target operation will appear."
   ]
  },
  {
   "cell_type": "code",
   "execution_count": 25,
   "id": "ae893112-7c4c-484b-9477-8bee469cb033",
   "metadata": {
    "tags": [],
    "ExecuteTime": {
     "end_time": "2023-12-09T10:21:42.137640Z",
     "start_time": "2023-12-09T10:21:42.057949Z"
    }
   },
   "source": [
    "target_circuit = QuantumCircuit(2)\n",
    "target_circuit.h(0)\n",
    "target_circuit.cx(0, 1)\n",
    "target_circuit.x([0, 1])\n",
    "target_circuit.cx(0, 1)\n",
    "target_circuit.draw(\"mpl\")"
   ],
   "outputs": []
  },
  {
   "cell_type": "markdown",
   "id": "3d2b6b7e-5132-41d2-a8a7-99ccfa7bf6b3",
   "metadata": {},
   "source": [
    "To be able to see where our ECR gate shall appear in the circuit, we have to transpile this logical circuit to the backend. To ease the visualization, we add small functions to see the circuit only on relevant physical qubits."
   ]
  },
  {
   "cell_type": "code",
   "execution_count": 26,
   "id": "7c90c369-7c67-48e8-be60-6a8a4ac7e9b8",
   "metadata": {
    "tags": [],
    "ExecuteTime": {
     "end_time": "2023-12-09T10:21:42.209721Z",
     "start_time": "2023-12-09T10:21:42.138384Z"
    }
   },
   "source": [
    "from rl_qoc.helpers.helper_functions import remove_unused_wires\n",
    "\n",
    "transpiled_circ = transpile(\n",
    "    target_circuit,\n",
    "    backend,\n",
    "    initial_layout=physical_qubits,\n",
    "    basis_gates=[\"sx\", \"rz\", \"ecr\", \"x\"],\n",
    "    optimization_level=1,\n",
    ")\n",
    "remove_unused_wires(transpiled_circ).draw(\"mpl\")"
   ],
   "outputs": []
  },
  {
   "cell_type": "code",
   "execution_count": 27,
   "id": "6469f970-fe76-403c-9867-848e8ed2e0cd",
   "metadata": {
    "tags": [],
    "ExecuteTime": {
     "end_time": "2023-12-09T10:21:42.343671Z",
     "start_time": "2023-12-09T10:21:42.231120Z"
    }
   },
   "source": [
    "from qiskit import schedule\n",
    "\n",
    "print(backend.dt)\n",
    "schedule(transpiled_circ, backend).draw()"
   ],
   "outputs": []
  },
  {
   "cell_type": "code",
   "execution_count": 28,
   "source": [
    "def schedule_from_qc(qc: QuantumCircuit, backend: Backend):\n",
    "    def my_sched():\n",
    "        sched = schedule(qc, backend)\n",
    "\n",
    "        return sched\n",
    "\n",
    "    return my_sched"
   ],
   "metadata": {
    "collapsed": false,
    "ExecuteTime": {
     "end_time": "2023-12-09T10:21:42.351648Z",
     "start_time": "2023-12-09T10:21:42.346358Z"
    }
   },
   "id": "e4b8d488c0362837",
   "outputs": []
  },
  {
   "cell_type": "markdown",
   "id": "f0728780-bee0-4fc5-9522-cedb5977fd18",
   "metadata": {},
   "source": [
    "# Definition of TorchQuantumEnvironment"
   ]
  },
  {
   "cell_type": "markdown",
   "id": "4e189855-f1d3-4cc9-9d86-e80ef7db3b13",
   "metadata": {},
   "source": [
    "To define the ```TorchQuantumEnvironment``` wrapper, we follow the Gym like definition, where we provide the structure of the observation and action spaces.\n",
    "\n",
    "The class takes the following inputs:\n",
    "- ```q_env: QuantumEnvironment```: the baseline object where the information about the backend and the target gate is\n",
    "- ```circuit_context: QuantumCircuit```: The circuit in which the previously defined target operation is applied. Note that the class will automatically look for all instances of the gate within the circuit and build dedicated subcircuits (truncations) enabling the successive calibration of each gate instance. To be noted here: the gate calibration focuses only on the target qubits defined in the ```QuantumEnvironment```. In Qiskit, we typically look for the ```CircuitInstruction``` object composed of a ```Gate``` object and a set of target qubits on which the gate is applied (both defined in target).\n",
    "- ```action_space```/```observation_space```: Spaces defining the range and shapes of possible actions/observations.\n",
    "For now, the observation space is fixed to a set of two integers:\n",
    "    - the first one indicates which random input state was selected at the beginning of the episode, so that the network have an extra information on the randomness source coming from the reward.\n",
    "    - the second one indicates which instance of the gate it will calibrate. In the real-time use case, we would like the agent to generate on the fly random actions that will be applied directly for the next gate within the circuit execution. With Qiskit Runtime however, we are not able to generate those actions on the fly and will therefore load all actions associated to each instance of the gate prior to execution.\n",
    "\n",
    "\n",
    "Moreover, we apply for now a sequential training loop, meaning that we will force the agent to focus on the calibration of the first gate (truncating the circuit just behind its execution) before starting to calibrate the second one (and so forth). The number of iterations per gate instance must be provided with the number ```training_steps_per_gate```."
   ]
  },
  {
   "cell_type": "markdown",
   "id": "788ee29b-3840-40ec-8915-808d4d3607e8",
   "metadata": {},
   "source": [
    "Since we want to run a contextual gate calibration, we need to know exactly how the circuit will be transpiled on the backend. There is therefore an internal transpilation (without any optimization) that enables the retrieval of all timings of the logical gates indicated above. We also account for the local context happening on nearest neighbor qubits on the chip.\n",
    "\n",
    "Moreover, as we run this sequential gate calibration for each instance of the target gate within the circuit, one can check the different circuit truncations the agent will go over.\n",
    "\n",
    "Important note: The target type of the calibration must be a quantum Gate instance (it will not work if target is a quantum state)."
   ]
  },
  {
   "cell_type": "code",
   "execution_count": 29,
   "id": "e20355a7-6530-4459-9e03-d4bbf69daf3b",
   "metadata": {
    "tags": [],
    "ExecuteTime": {
     "end_time": "2023-12-09T10:21:42.717651Z",
     "start_time": "2023-12-09T10:21:42.348669Z"
    }
   },
   "source": [
    "%%time\n",
    "# Circuit context\n",
    "from rl_qoc import ContextAwareQuantumEnvironment\n",
    "from gymnasium.spaces import Box\n",
    "\n",
    "seed = 10\n",
    "training_steps_per_gate = 2000\n",
    "benchmark_cycle = 100\n",
    "# tgt_instruction_counts = target_circuit.data.count(CircuitInstruction(target_gate, tgt_qubits))\n",
    "tgt_instruction_counts = 2  # Number of times target Instruction is applied in Circuit\n",
    "batchsize = 200  # Batch size (iterate over a bunch of actions per policy to estimate expected return) default 100\n",
    "n_actions = 4  # Choose how many control parameters in pulse/circuit parametrization\n",
    "min_bound_actions = -0.1\n",
    "max_bound_actions = 0.1\n",
    "scale_factor = 0.1\n",
    "observation_space = Box(\n",
    "    low=np.array([0, 0]),\n",
    "    high=np.array([1, tgt_instruction_counts]),\n",
    "    shape=(2,),\n",
    "    seed=seed,\n",
    ")\n",
    "action_space = Box(\n",
    "    low=min_bound_actions, high=max_bound_actions, shape=(n_actions,), seed=seed\n",
    ")\n",
    "\n",
    "torch_env = ContextAwareQuantumEnvironment(\n",
    "    q_env,\n",
    "    target_circuit,\n",
    "    action_space,\n",
    "    observation_space,\n",
    "    batch_size=batchsize,\n",
    "    training_steps_per_gate=training_steps_per_gate,\n",
    "    benchmark_cycle=benchmark_cycle,\n",
    "    intermediate_rewards=False,\n",
    "    seed=None,\n",
    ")"
   ],
   "outputs": []
  },
  {
   "cell_type": "code",
   "execution_count": 30,
   "id": "2925d82f-a472-4358-ae46-20bb426dc85f",
   "metadata": {
    "tags": [],
    "ExecuteTime": {
     "end_time": "2023-12-09T10:21:42.759065Z",
     "start_time": "2023-12-09T10:21:42.718118Z"
    }
   },
   "source": [
    "torch_env.circuit_truncations[0].draw(\"mpl\")"
   ],
   "outputs": []
  },
  {
   "cell_type": "code",
   "execution_count": 31,
   "id": "c6087449-9dbf-4f2f-b083-40fe217a6d7f",
   "metadata": {
    "tags": [],
    "ExecuteTime": {
     "end_time": "2023-12-09T10:21:42.804628Z",
     "start_time": "2023-12-09T10:21:42.757312Z"
    }
   },
   "source": [
    "torch_env.circuit_truncations[1].draw(\"mpl\")"
   ],
   "outputs": []
  },
  {
   "cell_type": "code",
   "execution_count": 32,
   "id": "1ac343b9-3338-4c66-b169-18a0a4901afc",
   "metadata": {
    "tags": [],
    "ExecuteTime": {
     "end_time": "2023-12-09T10:21:42.847737Z",
     "start_time": "2023-12-09T10:21:42.803096Z"
    }
   },
   "source": [
    "torch_env.baseline_truncations[1].draw(\"mpl\")"
   ],
   "outputs": []
  },
  {
   "cell_type": "code",
   "execution_count": 33,
   "id": "51f78006-11ab-4d8a-9ce9-1b1283fd7481",
   "metadata": {
    "tags": [],
    "ExecuteTime": {
     "end_time": "2023-12-09T10:21:42.848825Z",
     "start_time": "2023-12-09T10:21:42.844817Z"
    }
   },
   "source": [
    "torch_env.estimator.options"
   ],
   "outputs": []
  },
  {
   "cell_type": "code",
   "execution_count": 34,
   "id": "2e55231e-a11c-4d90-95c5-fef944fbbd0a",
   "metadata": {
    "tags": [],
    "ExecuteTime": {
     "end_time": "2023-12-09T10:21:42.860432Z",
     "start_time": "2023-12-09T10:21:42.851201Z"
    }
   },
   "source": [
    "schedule(torch_env.circuit_truncations[0], backend)"
   ],
   "outputs": []
  },
  {
   "cell_type": "markdown",
   "id": "5b4b6bdf-18c0-4695-b040-811d3c96a498",
   "metadata": {},
   "source": [
    "# Definition of the Agent"
   ]
  },
  {
   "cell_type": "code",
   "execution_count": 35,
   "id": "b3aee453-8139-47dd-8409-88aa72c31181",
   "metadata": {
    "tags": [],
    "ExecuteTime": {
     "end_time": "2023-12-09T10:21:42.861744Z",
     "start_time": "2023-12-09T10:21:42.854034Z"
    }
   },
   "source": [
    "import torch\n",
    "import torch.nn as nn\n",
    "\n",
    "from rl_qoc.agent import ActorNetwork, CriticNetwork, Agent\n",
    "\n",
    "# device = torch.device(\"cuda\" if torch.cuda.is_available() else \"cpu\")\n",
    "device = torch.device(\"cpu\")\n",
    "hidden_units = [64, 64]\n",
    "activation_functions = [nn.Tanh(), nn.Tanh(), nn.Tanh()]\n",
    "include_critic = False\n",
    "chkpt_dir = \"tmp/agent\"\n",
    "chkpt_dir_critic = \"tmp/critic_ppo\"\n",
    "\n",
    "actor_net = ActorNetwork(\n",
    "    observation_space,\n",
    "    hidden_units,\n",
    "    n_actions,\n",
    "    activation_functions,\n",
    "    include_critic,\n",
    "    chkpt_dir,\n",
    ").to(device)\n",
    "critic_net = CriticNetwork(\n",
    "    observation_space, hidden_units, activation_functions, chkpt_dir_critic\n",
    ").to(device)\n",
    "agent = Agent(actor_net, critic_net=critic_net).to(device)"
   ],
   "outputs": []
  },
  {
   "cell_type": "markdown",
   "id": "f4c979c9-8d16-42fa-88d3-8810dc0f5758",
   "metadata": {},
   "source": [
    "## Hyperparameters for training"
   ]
  },
  {
   "cell_type": "code",
   "execution_count": 36,
   "id": "aa0544ad-7134-41f4-bc5e-4197c5750d4d",
   "metadata": {
    "tags": [],
    "ExecuteTime": {
     "end_time": "2023-12-09T10:21:43.024326Z",
     "start_time": "2023-12-09T10:21:42.859063Z"
    }
   },
   "source": [
    "\"\"\"\n",
    "-----------------------------------------------------------------------------------------------------\n",
    "Hyperparameters for RL agent\n",
    "-----------------------------------------------------------------------------------------------------\n",
    "\"\"\"\n",
    "\n",
    "from torch.utils.tensorboard import SummaryWriter\n",
    "import torch.optim as optim\n",
    "\n",
    "run_name = \"test\"\n",
    "writer = SummaryWriter(f\"runs/{run_name}\")\n",
    "# writer.add_text(\n",
    "#     \"hyperparameters\",\n",
    "#     \"|param|value|\\n|-|-|\\n%s\" % (\"\\n\".join([f\"|{key}|{value}|\" for key, value in vars(args).items()])),\n",
    "# )\n",
    "# Hyperparameters for the agent\n",
    "n_epochs = 10  # Number of epochs : default 1500\n",
    "num_updates = 700\n",
    "lr_actor = 0.001  # Learning rate for policy update step\n",
    "lr_critic = 0.001  # Learning rate for critic (value function) update step\n",
    "\n",
    "epsilon = 0.2  # Parameter for clipping value (PPO)\n",
    "critic_loss_coeff = 0.5\n",
    "optimizer = optim.Adam(agent.parameters(), lr=lr_actor, eps=1e-5)\n",
    "actor_optimizer = optim.Adam(actor_net.parameters(), lr=lr_actor, eps=1e-5)\n",
    "critic_optimizer = optim.Adam(critic_net.parameters(), lr=lr_critic, eps=1e-5)\n",
    "minibatch_size = 40\n",
    "gamma = 1.0\n",
    "gae_lambda = 0.95\n",
    "\n",
    "# Clipping\n",
    "clip_vloss = True\n",
    "grad_clip = 0.5\n",
    "clip_coef = 0.5\n",
    "normalize_advantage = False\n",
    "\n",
    "# other coefficients\n",
    "ent_coef = 0.0"
   ],
   "outputs": []
  },
  {
   "cell_type": "markdown",
   "id": "fce12ee7-d62f-471a-8596-ef884dfa2a46",
   "metadata": {},
   "source": [
    "# Training\n",
    "## Storage setup"
   ]
  },
  {
   "cell_type": "code",
   "execution_count": 37,
   "id": "c0df2e66-a289-4e87-8df6-bf9b5a7419c6",
   "metadata": {
    "tags": [],
    "ExecuteTime": {
     "end_time": "2023-12-09T10:21:43.026818Z",
     "start_time": "2023-12-09T10:21:43.025378Z"
    }
   },
   "source": [
    "global_step = 0\n",
    "torch_env.clear_history()\n",
    "obs = torch.zeros(\n",
    "    (tgt_instruction_counts, batchsize) + torch_env.observation_space.shape\n",
    ").to(device)\n",
    "actions = torch.zeros(\n",
    "    (tgt_instruction_counts, batchsize) + torch_env.action_space.shape\n",
    ").to(device)\n",
    "logprobs = torch.zeros((tgt_instruction_counts, batchsize)).to(device)\n",
    "rewards = torch.zeros((tgt_instruction_counts, batchsize)).to(device)\n",
    "dones = torch.zeros((tgt_instruction_counts, batchsize)).to(device)\n",
    "values = torch.zeros((tgt_instruction_counts, batchsize)).to(device)\n",
    "\n",
    "train_obs = torch.zeros(\n",
    "    (batchsize,) + torch_env.observation_space.shape, requires_grad=True\n",
    ").to(device)\n",
    "visualization_steps = 10"
   ],
   "outputs": []
  },
  {
   "cell_type": "markdown",
   "id": "10306c6a-de03-4ead-bc32-ffdcb1c0da20",
   "metadata": {},
   "source": [
    "## Main loop"
   ]
  },
  {
   "cell_type": "code",
   "execution_count": 38,
   "source": [
    "for update in tqdm.tqdm(range(1, num_updates + 1)):\n",
    "    next_obs, _ = torch_env.reset(seed=seed)\n",
    "    num_steps = torch_env.episode_length(global_step)\n",
    "    next_obs = torch.Tensor(np.array([next_obs] * batchsize)).to(device)\n",
    "    next_done = torch.zeros(batchsize).to(device)\n",
    "\n",
    "    # print(\"episode length:\", num_steps)\n",
    "\n",
    "    for step in range(num_steps):\n",
    "        global_step += 1\n",
    "        obs[step] = next_obs\n",
    "        dones[step] = next_done\n",
    "\n",
    "        with torch.no_grad():\n",
    "            mean_action, std_action, critic_value = agent(next_obs)\n",
    "            mean_action *= scale_factor\n",
    "            probs = Normal(mean_action, std_action)\n",
    "            action = torch.clip(\n",
    "                probs.sample(),\n",
    "                torch.Tensor(np.array(min_bound_actions)),\n",
    "                torch.Tensor(np.array(max_bound_actions)),\n",
    "            )\n",
    "            logprob = probs.log_prob(action).sum(1)\n",
    "            values[step] = critic_value.flatten()\n",
    "\n",
    "        actions[step] = action\n",
    "        logprobs[step] = logprob\n",
    "        # next_obs, reward, terminated, truncated, infos = torch_env.step(action.cpu().numpy())\n",
    "        next_obs, reward, terminated, truncated, infos = torch_env.step(\n",
    "            action.cpu().numpy()\n",
    "        )\n",
    "        done = np.logical_or(terminated, truncated)\n",
    "        rewards[step] = torch.tensor(reward).to(device)\n",
    "        next_obs = torch.Tensor(np.array([next_obs] * batchsize)).to(device)\n",
    "        next_done = torch.Tensor(np.array([int(done)] * batchsize)).to(device)\n",
    "        # Only print when at least 1 env is done\n",
    "\n",
    "        # print(f\"global_step={global_step}, episodic_return={np.mean(reward)}\")\n",
    "        writer.add_scalar(\"charts/episodic_return\", np.mean(reward), global_step)\n",
    "        writer.add_scalar(\"charts/episodic_length\", num_steps, global_step)\n",
    "\n",
    "    # bootstrap value if not done\n",
    "    with torch.no_grad():\n",
    "        next_value = agent.get_value(next_obs).reshape(1, -1)\n",
    "        advantages = torch.zeros_like(rewards).to(device)\n",
    "        lastgaelam = 0\n",
    "        for t in reversed(range(num_steps)):\n",
    "            if t == num_steps - 1:\n",
    "                nextnonterminal = 1.0 - next_done\n",
    "                nextvalues = next_value\n",
    "            else:\n",
    "                nextnonterminal = 1.0 - dones[t + 1]\n",
    "                nextvalues = values[t + 1]\n",
    "            delta = rewards[t] + gamma * nextvalues * nextnonterminal - values[t]\n",
    "            advantages[t] = lastgaelam = (\n",
    "                delta + gamma * gae_lambda * nextnonterminal * lastgaelam\n",
    "            )\n",
    "        returns = advantages + values\n",
    "\n",
    "    # flatten the batch\n",
    "    b_obs = obs.reshape((-1,) + torch_env.observation_space.shape)\n",
    "    b_logprobs = logprobs.reshape(-1)\n",
    "    b_actions = actions.reshape((-1,) + torch_env.action_space.shape)\n",
    "    b_advantages = advantages.reshape(-1)\n",
    "    b_returns = returns.reshape(-1)\n",
    "    b_values = values.reshape(-1)\n",
    "\n",
    "    # Optimizing the policy and value network\n",
    "    b_inds = np.arange(batchsize)\n",
    "    clipfracs = []\n",
    "    for epoch in range(n_epochs):\n",
    "        np.random.shuffle(b_inds)\n",
    "        for start in range(0, batchsize, minibatch_size):\n",
    "            end = start + minibatch_size\n",
    "            mb_inds = b_inds[start:end]\n",
    "            new_mean, new_sigma, new_value = agent(b_obs[mb_inds])\n",
    "            new_dist = Normal(new_mean, new_sigma)\n",
    "            new_logprob, entropy = new_dist.log_prob(b_actions[mb_inds]).sum(\n",
    "                1\n",
    "            ), new_dist.entropy().sum(1)\n",
    "            logratio = (\n",
    "                new_logprob - b_logprobs[mb_inds] + torch.log(torch.Tensor([1e-6]))\n",
    "            )\n",
    "            ratio = logratio.exp()\n",
    "            with torch.no_grad():\n",
    "                # calculate approx_kl http://joschu.net/blog/kl-approx.html\n",
    "                old_approx_kl = (-logratio).mean()\n",
    "                approx_kl = ((ratio - 1) - logratio).mean()\n",
    "                clipfracs += [((ratio - 1.0).abs() > epsilon).float().mean().item()]\n",
    "\n",
    "            mb_advantages = b_advantages[mb_inds]\n",
    "            if normalize_advantage:  # Normalize advantage\n",
    "                mb_advantages = (mb_advantages - mb_advantages.mean()) / (\n",
    "                    mb_advantages.std() + 1e-8\n",
    "                )\n",
    "\n",
    "            # Policy loss\n",
    "            pg_loss1 = -mb_advantages * ratio\n",
    "            pg_loss2 = -mb_advantages * torch.clamp(ratio, 1 - epsilon, 1 + epsilon)\n",
    "            pg_loss = torch.max(pg_loss1, pg_loss2).mean()\n",
    "\n",
    "            # Value loss\n",
    "            newvalue = new_value.view(-1)\n",
    "            if clip_vloss:\n",
    "                v_loss_unclipped = (newvalue - b_returns[mb_inds]) ** 2\n",
    "                v_clipped = b_values[mb_inds] + torch.clamp(\n",
    "                    newvalue - b_values[mb_inds],\n",
    "                    -clip_coef,\n",
    "                    clip_coef,\n",
    "                )\n",
    "                v_loss_clipped = (v_clipped - b_returns[mb_inds]) ** 2\n",
    "                v_loss_max = torch.max(v_loss_unclipped, v_loss_clipped)\n",
    "                v_loss = 0.5 * v_loss_max.mean()\n",
    "            else:\n",
    "                v_loss = 0.5 * ((newvalue - b_returns[mb_inds]) ** 2).mean()\n",
    "\n",
    "            entropy_loss = entropy.mean()\n",
    "            loss = pg_loss - ent_coef * entropy_loss + v_loss * critic_loss_coeff\n",
    "\n",
    "            optimizer.zero_grad()\n",
    "            loss.backward()\n",
    "            nn.utils.clip_grad_norm_(agent.parameters(), grad_clip)\n",
    "            optimizer.step()\n",
    "\n",
    "    y_pred, y_true = b_values.cpu().numpy(), b_returns.cpu().numpy()\n",
    "    var_y = np.var(y_true)\n",
    "    explained_var = np.nan if var_y == 0 else 1 - np.var(y_true - y_pred) / var_y\n",
    "    print(\"mean\", mean_action[0])\n",
    "    print(\"sigma\", std_action[0])\n",
    "    print(\"Average return:\", np.mean(torch_env.reward_history, axis=1)[-1])\n",
    "    # print(np.mean(torch_env.reward_history, axis =1)[-1])\n",
    "    # print(\"Circuit fidelity:\", torch_env.circuit_fidelity_history[-1])\n",
    "    # print(\"Avg gate fidelity:\", torch_env.avg_fidelity_history[-1])\n",
    "    print(torch_env._get_info())\n",
    "    # TRY NOT TO MODIFY: record rewards for plotting purposes\n",
    "    writer.add_scalar(\n",
    "        \"charts/learning_rate\", optimizer.param_groups[0][\"lr\"], global_step\n",
    "    )\n",
    "    writer.add_scalar(\"losses/value_loss\", v_loss.item(), global_step)\n",
    "    writer.add_scalar(\n",
    "        \"losses/avg_return\", np.mean(torch_env.reward_history, axis=1)[-1], global_step\n",
    "    )\n",
    "    # for i in range(num_steps):\n",
    "    #   writer.add_scalar(f\"losses/avg_gate_{i}_fidelity\", torch_env.avg_fidelity_history[-1][i], global_step)\n",
    "    # writer.add_scalar(\"losses/circuit_fidelity\", torch_env.circuit_fidelity_history[-1], global_step)\n",
    "    writer.add_scalar(\"losses/policy_loss\", pg_loss.item(), global_step)\n",
    "    writer.add_scalar(\"losses/entropy\", entropy_loss.item(), global_step)\n",
    "    writer.add_scalar(\"losses/old_approx_kl\", old_approx_kl.item(), global_step)\n",
    "    writer.add_scalar(\"losses/approx_kl\", approx_kl.item(), global_step)\n",
    "    writer.add_scalar(\"losses/clipfrac\", np.mean(clipfracs), global_step)\n",
    "    writer.add_scalar(\"losses/explained_variance\", explained_var, global_step)\n",
    "    if global_step % visualization_steps == 0:\n",
    "        clear_output(wait=True)  # for animation\n",
    "\n",
    "torch_env.close()\n",
    "writer.close()"
   ],
   "metadata": {
    "collapsed": false,
    "ExecuteTime": {
     "end_time": "2023-12-09T10:22:06.791809Z",
     "start_time": "2023-12-09T10:21:43.035179Z"
    }
   },
   "id": "c98ce6ee-b798-42aa-826d-eb773d051bbb",
   "outputs": []
  },
  {
   "cell_type": "code",
   "execution_count": null,
   "id": "6cfbbb8c-a6fa-430e-b3c8-1db14cf8f8ef",
   "metadata": {
    "ExecuteTime": {
     "start_time": "2023-12-09T10:22:06.791626Z"
    }
   },
   "source": [
    "torch_env.close()\n",
    "writer.close()"
   ],
   "outputs": []
  },
  {
   "cell_type": "code",
   "execution_count": null,
   "id": "eea0e566-e5f1-41b5-8c4f-b02d5b6fb3bd",
   "metadata": {
    "tags": [],
    "ExecuteTime": {
     "end_time": "2023-12-09T10:22:06.807041Z",
     "start_time": "2023-12-09T10:22:06.792665Z"
    }
   },
   "source": [
    "import matplotlib.pyplot as plt\n",
    "\n",
    "plt.plot(torch_env.circuit_fidelity_history)"
   ],
   "outputs": []
  },
  {
   "cell_type": "code",
   "execution_count": null,
   "id": "7c51ed63-ec4d-4516-af1e-5920908109a5",
   "metadata": {
    "tags": [],
    "ExecuteTime": {
     "start_time": "2023-12-09T10:22:06.793431Z"
    }
   },
   "source": [
    "plt.plot(torch_env.avg_fidelity_history)"
   ],
   "outputs": []
  },
  {
   "cell_type": "code",
   "execution_count": null,
   "id": "9b4df81d-506d-49cb-9127-3597b16745f0",
   "metadata": {
    "tags": [],
    "ExecuteTime": {
     "start_time": "2023-12-09T10:22:06.794264Z"
    }
   },
   "source": [
    "plt.plot(np.mean(torch_env.reward_history, axis=1))"
   ],
   "outputs": []
  },
  {
   "cell_type": "markdown",
   "id": "f01c4c8e-3d12-418d-b179-ffd5ffe5ab8a",
   "metadata": {},
   "source": [
    "What is below is not relevant to this notebook"
   ]
  },
  {
   "cell_type": "code",
   "execution_count": null,
   "id": "a3d2a326-4ff6-49c4-b784-ceda85b095be",
   "metadata": {
    "tags": [],
    "ExecuteTime": {
     "start_time": "2023-12-09T10:22:06.794938Z"
    }
   },
   "source": [
    "from qiskit.quantum_info import Operator, average_gate_fidelity\n",
    "from qiskit.circuit.library.standard_gates import CXGate\n",
    "\n",
    "my_qc = QuantumCircuit(2, name=\"custom_cx\")\n",
    "optimal_params = [0.0, 0.0, 0.5, 0.5, -0.5, 0.5, -0.5]\n",
    "params = [-0.0062, 0.2190, 0.9921, 0.9924, -0.9921, 0.9910, -0.9907]\n",
    "my_qc.u(np.pi * params[0], np.pi * params[1], np.pi * params[2], 0)\n",
    "my_qc.u(np.pi * params[3], np.pi * params[4], np.pi * params[5], 1)\n",
    "my_qc.rzx(np.pi * params[6], 0, 1)\n",
    "average_gate_fidelity(Operator(my_qc), Operator(CXGate()))"
   ],
   "outputs": []
  },
  {
   "cell_type": "code",
   "execution_count": null,
   "id": "621e1523-ca70-4080-8252-3172f14326ef",
   "metadata": {
    "tags": [],
    "ExecuteTime": {
     "start_time": "2023-12-09T10:22:06.795809Z"
    }
   },
   "source": [
    "from qiskit import QuantumCircuit\n",
    "from qiskit_ibm_runtime.fake_provider import FakePerth\n",
    "from qiskit_aer import AerSimulator\n",
    "from qiskit_experiments.library import ProcessTomography\n",
    "from qiskit_experiments.framework import BatchExperiment\n",
    "\n",
    "backend = AerSimulator.from_backend(FakePerth())\n",
    "qc = QuantumCircuit(1)\n",
    "qc.x(0)\n",
    "\n",
    "result = (\n",
    "    BatchExperiment(\n",
    "        [ProcessTomography(qc), ProcessTomography(qc)],\n",
    "        backend=backend,\n",
    "        flatten_results=True,\n",
    "    )\n",
    "    .run()\n",
    "    .block_for_results()\n",
    ")\n",
    "print(result.analysis_results(\"process_fidelity\"))"
   ],
   "outputs": []
  },
  {
   "cell_type": "code",
   "execution_count": null,
   "id": "1f15f8f7-f2cb-4cbf-b651-903d1c8b88c5",
   "metadata": {
    "tags": [],
    "ExecuteTime": {
     "start_time": "2023-12-09T10:22:06.796658Z"
    }
   },
   "source": [
    "result.analysis_results(\"process_fidelity\")[0].value"
   ],
   "outputs": []
  },
  {
   "cell_type": "code",
   "execution_count": null,
   "id": "1fcc3268-e2f5-4ba3-aa64-74d45a60ce41",
   "metadata": {
    "tags": [],
    "ExecuteTime": {
     "start_time": "2023-12-09T10:22:06.797431Z"
    }
   },
   "source": [
    "result.analysis_results(\"process_fidelity\")[1].value"
   ],
   "outputs": []
  },
  {
   "cell_type": "code",
   "execution_count": null,
   "id": "60a61533-15e9-404b-98f7-13b4a5db609c",
   "metadata": {
    "ExecuteTime": {
     "start_time": "2023-12-09T10:22:06.797935Z"
    }
   },
   "source": [
    "benchmark_circ = torch_env.circuit_truncations[0]\n",
    "benchmark_circ.draw()"
   ],
   "outputs": []
  },
  {
   "cell_type": "code",
   "execution_count": null,
   "source": [
    "\n",
    "from qiskit import schedule\n",
    "\n",
    "params = [[0.] * 4] * 300\n",
    "%timeit sched = schedule([benchmark_circ.assign_parameters(param_set, inplace=False) for param_set in params], backend)"
   ],
   "metadata": {
    "collapsed": false,
    "ExecuteTime": {
     "start_time": "2023-12-09T10:22:06.798407Z"
    }
   },
   "id": "602bf34b146c9a61",
   "outputs": []
  },
  {
   "cell_type": "code",
   "execution_count": null,
   "source": [],
   "metadata": {
    "collapsed": false,
    "ExecuteTime": {
     "start_time": "2023-12-09T10:22:06.798895Z"
    }
   },
   "id": "90ee34ba93dfe961",
   "outputs": []
  },
  {
   "cell_type": "code",
   "execution_count": null,
   "source": [
    "sched_list = []\n",
    "\n",
    "%timeit for param in params: sched_list.append(schedule(benchmark_circ.assign_parameters(param, inplace=False), backend))"
   ],
   "metadata": {
    "collapsed": false,
    "ExecuteTime": {
     "start_time": "2023-12-09T10:22:06.799382Z"
    }
   },
   "id": "28bac5e071976cac",
   "outputs": []
  },
  {
   "cell_type": "code",
   "execution_count": null,
   "source": [],
   "metadata": {
    "collapsed": false,
    "ExecuteTime": {
     "start_time": "2023-12-09T10:22:06.799873Z"
    }
   },
   "id": "d09c95f4f1224506",
   "outputs": []
  },
  {
   "cell_type": "code",
   "execution_count": null,
   "source": [],
   "metadata": {
    "collapsed": false,
    "ExecuteTime": {
     "start_time": "2023-12-09T10:22:06.800379Z"
    }
   },
   "id": "9b01992afdb633a7",
   "outputs": []
  }
 ],
 "metadata": {
  "kernelspec": {
   "display_name": "Python 3 (ipykernel)",
   "language": "python",
   "name": "python3"
  },
  "language_info": {
   "codemirror_mode": {
    "name": "ipython",
    "version": 3
   },
   "file_extension": ".py",
   "mimetype": "text/x-python",
   "name": "python",
   "nbconvert_exporter": "python",
   "pygments_lexer": "ipython3",
   "version": "3.9.16"
  },
  "toc-autonumbering": true
 },
 "nbformat": 4,
 "nbformat_minor": 5
}

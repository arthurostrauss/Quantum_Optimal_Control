{
 "cells": [
  {
   "cell_type": "code",
   "id": "initial_id",
   "metadata": {
    "ExecuteTime": {
     "end_time": "2024-09-15T09:47:10.235091Z",
     "start_time": "2024-09-15T09:47:05.146398Z"
    }
   },
   "source": [
    "from qiskit_dynamics import DynamicsBackend, Solver\n",
    "from qiskit.circuit import QuantumCircuit, Parameter\n",
    "from qiskit.quantum_info import Statevector, Operator, SparsePauliOp\n",
    "from qiskit.primitives import (\n",
    "    BackendEstimator,\n",
    "    Estimator,\n",
    "    StatevectorEstimator,\n",
    "    BackendEstimatorV2,\n",
    ")\n",
    "from qiskit_aer.primitives import (\n",
    "    Estimator as AerEstimator,\n",
    "    EstimatorV2 as AerEstimatorV2,\n",
    ")\n",
    "from qiskit_aer import AerSimulator\n",
    "from rl_qoc.custom_jax_sim import (\n",
    "    PulseEstimatorV2,\n",
    ")\n",
    "import numpy as np\n",
    "from qiskit.compiler import schedule as build_schedule\n",
    "import jax\n",
    "\n",
    "jax.config.update(\"jax_enable_x64\", True)\n",
    "# tell JAX we are using CPU\n",
    "jax.config.update(\"jax_platform_name\", \"cpu\")"
   ],
   "outputs": [],
   "execution_count": 1
  },
  {
   "cell_type": "code",
   "id": "c3412a29bf0d0b8d",
   "metadata": {
    "collapsed": false,
    "jupyter": {
     "outputs_hidden": false
    },
    "ExecuteTime": {
     "end_time": "2024-09-15T09:47:10.246302Z",
     "start_time": "2024-09-15T09:47:10.238166Z"
    }
   },
   "source": [
    "from qiskit.transpiler import InstructionProperties\n",
    "\n",
    "from qiskit import pulse\n",
    "from typing import Optional, List, Dict\n",
    "from qiskit.circuit import Gate\n",
    "from qiskit.circuit.library import get_standard_gate_name_mapping\n",
    "from qiskit_experiments.calibration_management.calibrations import Calibrations\n",
    "from qiskit_experiments.calibration_management import (\n",
    "    FixedFrequencyTransmon,\n",
    "    EchoedCrossResonance,\n",
    ")\n",
    "from qiskit_experiments.library import RoughDragCal, RoughXSXAmplitudeCal\n",
    "from itertools import permutations\n",
    "\n",
    "\n",
    "def perform_standard_calibrations(\n",
    "    backend: DynamicsBackend, calibration_files: Optional[List[str]] = None\n",
    "):\n",
    "    \"\"\"\n",
    "    Generate baseline single qubit gates (X, SX, RZ, H) for all qubits using traditional calibration experiments\n",
    "    :param backend: Dynamics Backend on which calibrations should be run\n",
    "    :param calibration_files: Optional calibration files containing single qubit gate calibrations for provided\n",
    "        DynamicsBackend instance (Qiskit Experiments does not support this feature yet)\n",
    "\n",
    "    \"\"\"\n",
    "\n",
    "    target, qubits = backend.target, range(backend.num_qubits)\n",
    "    num_qubits = len(qubits)\n",
    "    single_qubit_properties = {(qubit,): None for qubit in qubits}\n",
    "    single_qubit_errors = {(qubit,): 0.0 for qubit in qubits}\n",
    "\n",
    "    control_channel_map = backend.options.control_channel_map\n",
    "    physical_control_channel_map = None\n",
    "    if control_channel_map is not None:\n",
    "        physical_control_channel_map = {\n",
    "            (qubit_pair[0], qubit_pair[1]): backend.control_channel((qubit_pair[0], qubit_pair[1]))\n",
    "            for qubit_pair in control_channel_map\n",
    "        }\n",
    "    elif num_qubits > 1:\n",
    "        all_to_all_connectivity = tuple(permutations(qubits, 2))\n",
    "        control_channel_map = {\n",
    "            (q[0], q[1]): index for index, q in enumerate(all_to_all_connectivity)\n",
    "        }\n",
    "        physical_control_channel_map = {\n",
    "            (q[0], q[1]): [pulse.ControlChannel(index)]\n",
    "            for index, q in enumerate(all_to_all_connectivity)\n",
    "        }\n",
    "    backend.set_options(control_channel_map=control_channel_map)\n",
    "    coupling_map = [list(qubit_pair) for qubit_pair in control_channel_map]\n",
    "    two_qubit_properties = {qubits: None for qubits in control_channel_map}\n",
    "    two_qubit_errors = {qubits: 0.0 for qubits in control_channel_map}\n",
    "    standard_gates: Dict[str, Gate] = get_standard_gate_name_mapping()  # standard gate library\n",
    "    fixed_phase_gates, fixed_phases = [\"z\", \"s\", \"sdg\", \"t\", \"tdg\"], np.pi * np.array(\n",
    "        [1, 0.5, -0.5, 0.25, -0.25]\n",
    "    )\n",
    "    other_gates = [\"rz\", \"id\", \"h\", \"x\", \"sx\", \"reset\", \"delay\"]\n",
    "    single_qubit_gates = fixed_phase_gates + other_gates\n",
    "    two_qubit_gates = [\"ecr\"]\n",
    "    exp_results = {}\n",
    "    existing_cals = calibration_files is not None\n",
    "\n",
    "    phi: Parameter = standard_gates[\"rz\"].params[0]\n",
    "    if existing_cals:\n",
    "        cals = Calibrations.load(files=calibration_files)\n",
    "    else:\n",
    "        cals = Calibrations(\n",
    "            coupling_map=coupling_map,\n",
    "            control_channel_map=physical_control_channel_map,\n",
    "            libraries=[\n",
    "                FixedFrequencyTransmon(basis_gates=[\"x\", \"sx\"]),\n",
    "                EchoedCrossResonance(basis_gates=[\"cr45p\", \"cr45m\", \"ecr\"]),\n",
    "            ],\n",
    "            backend_name=backend.name,\n",
    "            backend_version=backend.backend_version,\n",
    "        )\n",
    "    if (\n",
    "        len(target.instruction_schedule_map().instructions) <= 1\n",
    "    ):  # Check if instructions have already been added\n",
    "        for gate in single_qubit_gates:\n",
    "            target.add_instruction(standard_gates[gate], properties=single_qubit_properties)\n",
    "        if num_qubits > 1:\n",
    "            for gate in two_qubit_gates:\n",
    "                target.add_instruction(standard_gates[gate], properties=two_qubit_properties)\n",
    "            backend._coupling_map = target.build_coupling_map(two_qubit_gates[0])\n",
    "\n",
    "    for qubit in qubits:  # Add calibrations for each qubit\n",
    "        control_channels = list(\n",
    "            filter(\n",
    "                lambda x: x is not None,\n",
    "                [control_channel_map.get((i, qubit), None) for i in qubits],\n",
    "            )\n",
    "        )\n",
    "        # Calibration of RZ gate, virtual Z-rotation\n",
    "        with pulse.build(backend, name=f\"rz{qubit}\") as rz_cal:\n",
    "            pulse.shift_phase(-phi, pulse.DriveChannel(qubit))\n",
    "            for q in control_channels:\n",
    "                pulse.shift_phase(-phi, pulse.ControlChannel(q))\n",
    "        # Identity gate\n",
    "        id_cal = pulse.Schedule(\n",
    "            pulse.Delay(20, pulse.DriveChannel(qubit))\n",
    "        )  # Wait 20 cycles for identity gate\n",
    "\n",
    "        delay_param = standard_gates[\"delay\"].params[0]\n",
    "        with pulse.build(backend, name=f\"delay{qubit}\") as delay_cal:\n",
    "            pulse.delay(delay_param, pulse.DriveChannel(qubit))\n",
    "\n",
    "        # Update backend Target by adding calibrations for all phase gates (fixed angle virtual Z-rotations)\n",
    "        target.update_instruction_properties(\n",
    "            \"rz\", (qubit,), InstructionProperties(calibration=rz_cal, error=0.0)\n",
    "        )\n",
    "        target.update_instruction_properties(\n",
    "            \"id\", (qubit,), InstructionProperties(calibration=id_cal, error=0.0)\n",
    "        )\n",
    "        target.update_instruction_properties(\n",
    "            \"reset\", (qubit,), InstructionProperties(calibration=id_cal, error=0.0)\n",
    "        )\n",
    "        target.update_instruction_properties(\n",
    "            \"delay\", (qubit,), InstructionProperties(calibration=delay_cal, error=0.0)\n",
    "        )\n",
    "        for phase, gate in zip(fixed_phases, fixed_phase_gates):\n",
    "            gate_cal = rz_cal.assign_parameters({phi: phase}, inplace=False)\n",
    "            instruction_prop = InstructionProperties(calibration=gate_cal, error=0.0)\n",
    "            target.update_instruction_properties(gate, (qubit,), instruction_prop)\n",
    "\n",
    "        # Perform calibration experiments (Rabi/Drag) for calibrating X and SX gates\n",
    "        if not existing_cals and backend.options.subsystem_dims[qubit] > 1:\n",
    "            rabi_exp = RoughXSXAmplitudeCal(\n",
    "                [qubit], cals, backend=backend, amplitudes=np.linspace(-0.2, 0.2, 100)\n",
    "            )\n",
    "            drag_exp = RoughDragCal([qubit], cals, backend=backend, betas=np.linspace(-20, 20, 15))\n",
    "            drag_exp.set_experiment_options(reps=[3, 5, 7])\n",
    "            print(f\"Starting Rabi experiment for qubit {qubit}...\")\n",
    "            rabi_result = rabi_exp.run().block_for_results()\n",
    "            print(f\"Rabi experiment for qubit {qubit} done.\")\n",
    "            print(f\"Starting Drag experiment for qubit {qubit}...\")\n",
    "            drag_result = drag_exp.run().block_for_results()\n",
    "            print(f\"Drag experiments done for qubit {qubit} done.\")\n",
    "            exp_results[qubit] = [rabi_result, drag_result]\n",
    "\n",
    "        # Build Hadamard gate schedule from following equivalence: H = S @ SX @ S\n",
    "\n",
    "        # sx_schedule = block_to_schedule(cals.get_schedule(\"sx\", (qubit,)))\n",
    "        # s_schedule = block_to_schedule(target.get_calibration(\"s\", (qubit,)))\n",
    "        # h_schedule = pulse.Schedule(s_schedule, sx_schedule, s_schedule, name=\"h\")\n",
    "        sx_schedule = cals.get_schedule(\"sx\", (qubit,))\n",
    "        s_schedule = target.get_calibration(\"s\", (qubit,))\n",
    "        with pulse.build(backend, name=\"h\") as h_schedule:\n",
    "            pulse.call(s_schedule)\n",
    "            pulse.call(sx_schedule)\n",
    "            pulse.call(s_schedule)\n",
    "\n",
    "        target.update_instruction_properties(\n",
    "            \"h\",\n",
    "            (qubit,),\n",
    "            properties=InstructionProperties(calibration=h_schedule, error=0.0),\n",
    "        )\n",
    "\n",
    "    print(\"All single qubit calibrations are done\")\n",
    "    # cals.save(file_type=\"csv\", overwrite=True, file_prefix=\"Custom\" + backend.name)\n",
    "    error_dict = {\"x\": single_qubit_errors, \"sx\": single_qubit_errors}\n",
    "    target.update_from_instruction_schedule_map(cals.get_inst_map(), error_dict=error_dict)\n",
    "    # for qubit_pair in control_channel_map:\n",
    "    #     print(qubit_pair)\n",
    "    #     cr_ham_exp = CrossResonanceHamiltonian(physical_qubits=qubit_pair, flat_top_widths=np.linspace(0, 5000, 17),\n",
    "    #                                            backend=backend)\n",
    "    #     print(\"Calibrating CR for qubits\", qubit_pair, \"...\")\n",
    "    #     data_cr = cr_ham_exp.run().block_for_results()\n",
    "    #     exp_results[qubit_pair] = data_cr\n",
    "\n",
    "    print(\"Updated Instruction Schedule Map\", target.instruction_schedule_map())\n",
    "\n",
    "    return cals, exp_results"
   ],
   "outputs": [],
   "execution_count": 2
  },
  {
   "cell_type": "code",
   "id": "ff3fe19652d4d922",
   "metadata": {
    "collapsed": false,
    "jupyter": {
     "outputs_hidden": false
    },
    "ExecuteTime": {
     "end_time": "2024-09-15T09:47:10.338397Z",
     "start_time": "2024-09-15T09:47:10.277880Z"
    }
   },
   "source": [
    "# define the system\n",
    "dim = 2\n",
    "\n",
    "v0, v1 = 4.86e9, 4.97e9\n",
    "anharm0, anharm1 = -0.32e9, -0.32e9\n",
    "r0, r1 = 0.22e9, 0.26e9\n",
    "\n",
    "J = 0.002e9\n",
    "\n",
    "a = np.diag(np.sqrt(np.arange(1, dim)), 1)\n",
    "adag = np.diag(np.sqrt(np.arange(1, dim)), -1)\n",
    "N = np.diag(np.arange(dim))\n",
    "\n",
    "ident = np.eye(dim, dtype=complex)\n",
    "full_ident = np.eye(dim**2, dtype=complex)\n",
    "\n",
    "N0, N1 = np.kron(ident, N), np.kron(N, ident)\n",
    "a0, a1 = np.kron(ident, a), np.kron(a, ident)\n",
    "a0dag, a1dag = np.kron(ident, adag), np.kron(adag, ident)\n",
    "\n",
    "static_ham0 = 2 * np.pi * v0 * N0 + np.pi * anharm0 * N0 * (N0 - full_ident)\n",
    "static_ham1 = 2 * np.pi * v1 * N1 + np.pi * anharm1 * N1 * (N1 - full_ident)\n",
    "\n",
    "static_ham_full = static_ham0 + static_ham1 + 2 * np.pi * J * ((a0 + a0dag) @ (a1 + a1dag))\n",
    "\n",
    "drive_op0 = 2 * np.pi * r0 * (a0 + a0dag)\n",
    "drive_op1 = 2 * np.pi * r1 * (a1 + a1dag)\n",
    "\n",
    "# build solver\n",
    "dt = 1 / 4.5e9\n",
    "\n",
    "solver_2q_jax = JaxSolver(\n",
    "    static_hamiltonian=static_ham_full,\n",
    "    hamiltonian_operators=[drive_op0, drive_op1, drive_op0, drive_op1],\n",
    "    rotating_frame=static_ham_full,\n",
    "    hamiltonian_channels=[\"d0\", \"d1\", \"u0\", \"u1\"],\n",
    "    channel_carrier_freqs={\"d0\": v0, \"d1\": v1, \"u0\": v1, \"u1\": v0},\n",
    "    dt=dt,\n",
    "    array_library=\"jax\",\n",
    ")\n",
    "solver_2q = Solver(\n",
    "    static_hamiltonian=static_ham_full,\n",
    "    hamiltonian_operators=[drive_op0, drive_op1, drive_op0, drive_op1],\n",
    "    rotating_frame=static_ham_full,\n",
    "    hamiltonian_channels=[\"d0\", \"d1\", \"u0\", \"u1\"],\n",
    "    channel_carrier_freqs={\"d0\": v0, \"d1\": v1, \"u0\": v1, \"u1\": v0},\n",
    "    dt=dt,\n",
    "    array_library=\"jax\",\n",
    ")\n",
    "# Consistent solver option to use throughout notebook\n",
    "\n",
    "solver_options = [\n",
    "    {\"method\": \"jax_odeint\", \"atol\": 1e-6, \"rtol\": 1e-8, \"hmax\": dt} for _ in range(2)\n",
    "]\n",
    "solver = solver_2q_jax\n",
    "jax_backend = DynamicsBackend(\n",
    "    solver=solver_2q_jax,\n",
    "    # target = fake_backend_v2.target,\n",
    "    subsystem_dims=[dim, dim],  # for computing measurement data\n",
    "    solver_options=solver_options[0],  # to be used every time run is called\n",
    ")\n",
    "\n",
    "standard_backend = DynamicsBackend(\n",
    "    solver=solver_2q,\n",
    "    # target = fake_backend_v2.target,\n",
    "    subsystem_dims=[dim, dim],  # for computing measurement data\n",
    "    solver_options=solver_options[1],  # to be used every time run is called\n",
    ")"
   ],
   "outputs": [],
   "execution_count": 3
  },
  {
   "cell_type": "code",
   "id": "1a248705055bd160",
   "metadata": {
    "collapsed": false,
    "jupyter": {
     "outputs_hidden": false
    },
    "ExecuteTime": {
     "end_time": "2024-09-15T09:47:30.697499Z",
     "start_time": "2024-09-15T09:47:10.345232Z"
    }
   },
   "source": [
    "jax_cals, jax_results = perform_standard_calibrations(backend=jax_backend)\n",
    "standard_cals, standard_results = perform_standard_calibrations(backend=standard_backend)"
   ],
   "outputs": [
    {
     "name": "stdout",
     "output_type": "stream",
     "text": [
      "Starting Rabi experiment for qubit 0...\n",
      "Rabi experiment for qubit 0 done.\n",
      "Starting Drag experiment for qubit 0...\n",
      "Drag experiments done for qubit 0 done.\n",
      "Starting Rabi experiment for qubit 1...\n",
      "Rabi experiment for qubit 1 done.\n",
      "Starting Drag experiment for qubit 1...\n",
      "Drag experiments done for qubit 1 done.\n",
      "All single qubit calibrations are done\n",
      "Updated Instruction Schedule Map <InstructionScheduleMap(1Q instructions:\n",
      "  q0: {'h', 'tdg', 't', 'id', 'sx', 'measure', 'reset', 'sdg', 's', 'delay', 'z', 'x', 'rz'}\n",
      "  q1: {'h', 'tdg', 't', 'id', 'sx', 'measure', 'reset', 'sdg', 's', 'delay', 'z', 'x', 'rz'}\n",
      "Multi qubit instructions:\n",
      "  (0, 1): {'cr45m', 'cr45p', 'ecr'}\n",
      "  (1, 0): {'cr45m', 'cr45p', 'ecr'}\n",
      ")>\n",
      "Starting Rabi experiment for qubit 0...\n",
      "Rabi experiment for qubit 0 done.\n",
      "Starting Drag experiment for qubit 0...\n",
      "Drag experiments done for qubit 0 done.\n",
      "Starting Rabi experiment for qubit 1...\n",
      "Rabi experiment for qubit 1 done.\n",
      "Starting Drag experiment for qubit 1...\n",
      "Drag experiments done for qubit 1 done.\n",
      "All single qubit calibrations are done\n",
      "Updated Instruction Schedule Map <InstructionScheduleMap(1Q instructions:\n",
      "  q0: {'h', 'tdg', 't', 'id', 'sx', 'measure', 'reset', 'sdg', 's', 'delay', 'z', 'x', 'rz'}\n",
      "  q1: {'h', 'tdg', 't', 'id', 'sx', 'measure', 'reset', 'sdg', 's', 'delay', 'z', 'x', 'rz'}\n",
      "Multi qubit instructions:\n",
      "  (0, 1): {'cr45m', 'cr45p', 'ecr'}\n",
      "  (1, 0): {'cr45m', 'cr45p', 'ecr'}\n",
      ")>\n"
     ]
    }
   ],
   "execution_count": 4
  },
  {
   "cell_type": "code",
   "id": "2c03038e98d782f9",
   "metadata": {
    "collapsed": false,
    "jupyter": {
     "outputs_hidden": false
    },
    "ExecuteTime": {
     "end_time": "2024-09-15T09:47:30.831206Z",
     "start_time": "2024-09-15T09:47:30.728801Z"
    }
   },
   "source": [
    "jax_results[0][0].figure(0)"
   ],
   "outputs": [
   ],
   "execution_count": 5
  },
  {
   "cell_type": "code",
   "id": "625b8e4c-f8c1-4286-b8ca-788901769c85",
   "metadata": {
    "ExecuteTime": {
     "end_time": "2024-09-15T09:47:30.910354Z",
     "start_time": "2024-09-15T09:47:30.907551Z"
    }
   },
   "source": [
    "jax_backend.target[\"x\"][(0,)].calibration"
   ],
   "outputs": [
    {
     "data": {
      "text/plain": [
       "ScheduleBlock(Play(Drag(duration=160, sigma=40, beta=7.3185557673, amp=0.11835589, angle=0), DriveChannel(0)), name=\"x\", transform=AlignLeft())"
      ]
     },
     "execution_count": 7,
     "metadata": {},
     "output_type": "execute_result"
    }
   ],
   "execution_count": 7
  },
  {
   "cell_type": "code",
   "id": "ee6db3697772dc56",
   "metadata": {
    "collapsed": false,
    "jupyter": {
     "outputs_hidden": false
    },
    "ExecuteTime": {
     "end_time": "2024-09-15T09:47:30.932856Z",
     "start_time": "2024-09-15T09:47:30.925170Z"
    }
   },
   "source": [
    "backend_estimator = BackendEstimator(backend=standard_backend)\n",
    "backend_estimator_v2 = BackendEstimatorV2(backend=standard_backend)\n",
    "aer_estimator = AerEstimator()\n",
    "aer_estimator_v2 = AerEstimatorV2()\n",
    "base_estimator = Estimator()\n",
    "base_estimator_v2 = StatevectorEstimator()\n",
    "pulse_estimator = PulseEstimatorV2(backend=standard_backend)\n",
    "jax_estimator = DynamicsBackendEstimator(backend=jax_backend)"
   ],
   "outputs": [
    {
     "name": "stderr",
     "output_type": "stream",
     "text": [
      "/var/folders/5w/ygx15jq94z5dzxwkmbbj8zfm0000gn/T/ipykernel_98937/3387774139.py:1: DeprecationWarning: The class ``qiskit.primitives.backend_estimator.BackendEstimator`` is deprecated as of qiskit 1.2. It will be removed no earlier than 3 months after the release date. All implementations of the `BaseEstimatorV1` interface have been deprecated in favor of their V2 counterparts. The V2 alternative for the `BackendEstimator` class is `BackendEstimatorV2`.\n",
      "  backend_estimator = BackendEstimator(backend=standard_backend)\n",
      "/var/folders/5w/ygx15jq94z5dzxwkmbbj8zfm0000gn/T/ipykernel_98937/3387774139.py:5: DeprecationWarning: The class ``qiskit.primitives.estimator.Estimator`` is deprecated as of qiskit 1.2. It will be removed no earlier than 3 months after the release date. All implementations of the `BaseEstimatorV1` interface have been deprecated in favor of their V2 counterparts. The V2 alternative for the `Estimator` class is `StatevectorEstimator`.\n",
      "  base_estimator = Estimator()\n"
     ]
    }
   ],
   "execution_count": 8
  },
  {
   "cell_type": "code",
   "id": "4f55b0956ea69f2f",
   "metadata": {
    "collapsed": false,
    "jupyter": {
     "outputs_hidden": false
    },
    "ExecuteTime": {
     "end_time": "2024-09-15T09:48:50.230543Z",
     "start_time": "2024-09-15T09:48:50.163584Z"
    }
   },
   "source": [
    "from qiskit import transpile\n",
    "\n",
    "observable = SparsePauliOp.from_list([(\"ZZ\", 1.0)])\n",
    "\n",
    "param = Parameter(\"theta\")\n",
    "qc = QuantumCircuit(2)\n",
    "qc.rx(param, 0)\n",
    "qc.x(1)\n",
    "qc.measure_all()\n",
    "qc = transpile(qc, standard_backend, optimization_level=0)\n",
    "qc.draw(\"mpl\")"
   ],
   "outputs": [
   ],
   "execution_count": 14
  },
  {
   "cell_type": "code",
   "id": "61d46c307c9d4c10",
   "metadata": {
    "collapsed": false,
    "jupyter": {
     "outputs_hidden": false
    },
    "ExecuteTime": {
     "end_time": "2024-09-15T09:49:11.177229Z",
     "start_time": "2024-09-15T09:49:09.697414Z"
    }
   },
   "source": [
    "print(\"Expectation value for\", observable.paulis)\n",
    "param_val = np.pi / 3\n",
    "pub = (\n",
    "    qc.remove_final_measurements(inplace=False),\n",
    "    observable,\n",
    "    [param_val],\n",
    "    1 / np.sqrt(5000),\n",
    ")\n",
    "print(\n",
    "    \"Qiskit v1\",\n",
    "    base_estimator.run(\n",
    "        qc.remove_final_measurements(inplace=False),\n",
    "        observable,\n",
    "        parameter_values=param_val,\n",
    "    )\n",
    "    .result()\n",
    "    .values,\n",
    ")\n",
    "print(\n",
    "    \"Qiskit v2\",\n",
    "    base_estimator_v2.run([pub]).result()[0].data.evs,\n",
    ")\n",
    "print(\n",
    "    \"Aer\",\n",
    "    aer_estimator.run(\n",
    "        qc.remove_final_measurements(inplace=False),\n",
    "        observable,\n",
    "        parameter_values=param_val,\n",
    "        shots=5000,\n",
    "    )\n",
    "    .result()\n",
    "    .values,\n",
    ")\n",
    "print(\n",
    "    \"Aer v2\",\n",
    "    aer_estimator_v2.run(\n",
    "        [pub],\n",
    "    )\n",
    "    .result()[0]\n",
    "    .data.evs,\n",
    ")\n",
    "print(\n",
    "    \"BackendEstimator with DynamicsBackend\",\n",
    "    backend_estimator_v2.run(\n",
    "        [pub],\n",
    "    )\n",
    "    .result()[0]\n",
    "    .data.evs,\n",
    ")\n",
    "\n",
    "print(\n",
    "    \"PulseEstimator with DynamicsBackend\",\n",
    "    pulse_estimator.run(\n",
    "        [pub],\n",
    "    )\n",
    "    .result()[0]\n",
    "    .data.evs,\n",
    ")\n",
    "\n",
    "\n",
    "def get_schedule(qc, backend):\n",
    "    def macro():\n",
    "        return build_schedule(qc, backend)\n",
    "\n",
    "    return macro\n",
    "\n",
    "\n",
    "solver_2q_jax.circuit_macro = get_schedule(qc, jax_backend)\n",
    "print(\n",
    "    \"Jax Backend\",\n",
    "    jax_estimator.run(\n",
    "        qc.remove_final_measurements(inplace=False),\n",
    "        observable,\n",
    "        parameter_values=param_val,\n",
    "    )\n",
    "    .result()\n",
    "    .values,\n",
    ")"
   ],
   "outputs": [
    {
     "name": "stdout",
     "output_type": "stream",
     "text": [
      "Expectation value for ['ZZ']\n",
      "Qiskit v1 [-0.5]\n",
      "Qiskit v2 -0.4704277190065807\n",
      "Aer [-0.4872]\n",
      "Aer v2 -0.48407442155028957\n",
      "BackendEstimator with DynamicsBackend -0.4964\n",
      "PulseEstimator with DynamicsBackend -0.5108203800361444\n",
      "Time to run simulation:  0.7418920993804932\n",
      "Jax Backend [-0.46679688]\n"
     ]
    }
   ],
   "execution_count": 16
  },
  {
   "cell_type": "code",
   "execution_count": 14,
   "id": "79a9e9091d25898b",
   "metadata": {
    "ExecuteTime": {
     "end_time": "2024-03-10T11:13:55.670245Z",
     "start_time": "2024-03-10T11:13:55.488917Z"
    },
    "collapsed": false,
    "jupyter": {
     "outputs_hidden": false
    }
   },
   "outputs": [],
   "source": [
    "jax_estimator.transpiled_circuits[0].draw(\"mpl\")"
   ]
  },
  {
   "cell_type": "code",
   "execution_count": 18,
   "id": "4c4ebb09d92d495",
   "metadata": {
    "ExecuteTime": {
     "end_time": "2024-03-10T11:13:59.696652Z",
     "start_time": "2024-03-10T11:13:59.691974Z"
    },
    "collapsed": false,
    "jupyter": {
     "outputs_hidden": false
    }
   },
   "outputs": [],
   "source": [
    "op2 = Operator.from_label(\"I\") ^ Operator.from_label(\"X\")\n",
    "op2"
   ]
  },
  {
   "cell_type": "code",
   "execution_count": 20,
   "id": "a2c2cfd2d8077c6c",
   "metadata": {
    "ExecuteTime": {
     "end_time": "2024-03-10T11:14:00.740606Z",
     "start_time": "2024-03-10T11:14:00.667865Z"
    },
    "collapsed": false,
    "jupyter": {
     "outputs_hidden": false
    }
   },
   "outputs": [],
   "source": [
    "jax_estimator.preprocessed_circuits[0][1][0].draw(\"mpl\")"
   ]
  },
  {
   "cell_type": "code",
   "execution_count": 21,
   "id": "c413633d9a2dddbf",
   "metadata": {
    "ExecuteTime": {
     "end_time": "2024-03-10T11:14:08.185172Z",
     "start_time": "2024-03-10T11:14:08.175576Z"
    },
    "collapsed": false,
    "jupyter": {
     "outputs_hidden": false
    }
   },
   "outputs": [],
   "source": [
    "solver_2q_jax.observables"
   ]
  },
  {
   "cell_type": "code",
   "execution_count": 24,
   "id": "c2d5a02a88c12fb7",
   "metadata": {
    "ExecuteTime": {
     "end_time": "2024-02-01T01:48:12.276636Z",
     "start_time": "2024-02-01T01:48:12.274222Z"
    },
    "collapsed": false,
    "jupyter": {
     "outputs_hidden": false
    }
   },
   "outputs": [],
   "source": [
    "solver_2q_jax.stored_results[1].evolve(solver_2q_jax.observables[1])"
   ]
  },
  {
   "cell_type": "code",
   "execution_count": 60,
   "id": "918929fb8ba6bdac",
   "metadata": {
    "ExecuteTime": {
     "end_time": "2024-02-01T02:14:53.852250Z",
     "start_time": "2024-02-01T02:14:53.817438Z"
    },
    "collapsed": false,
    "jupyter": {
     "outputs_hidden": false
    }
   },
   "outputs": [],
   "source": [
    "jax_estimator.backend"
   ]
  },
  {
   "cell_type": "code",
   "execution_count": null,
   "id": "297b1a48ae78b24d",
   "metadata": {
    "collapsed": false,
    "jupyter": {
     "outputs_hidden": false
    }
   },
   "outputs": [],
   "source": ""
  }
 ],
 "metadata": {
  "kernelspec": {
   "display_name": "Python 3 (ipykernel)",
   "language": "python",
   "name": "python3"
  },
  "language_info": {
   "codemirror_mode": {
    "name": "ipython",
    "version": 3
   },
   "file_extension": ".py",
   "mimetype": "text/x-python",
   "name": "python",
   "nbconvert_exporter": "python",
   "pygments_lexer": "ipython3",
   "version": "3.11.9"
  }
 },
 "nbformat": 4,
 "nbformat_minor": 5
}

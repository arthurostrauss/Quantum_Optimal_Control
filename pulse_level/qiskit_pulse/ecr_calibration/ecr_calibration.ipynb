{
 "cells": [
  {
   "cell_type": "markdown",
   "id": "6f10b80fc49872e2",
   "metadata": {},
   "source": [
    "# ECR Gate calibration with model-free RL (Pulse level simulation)\n",
    "\n",
    "In this notebook, we will train a reinforcement learning agent to learn pulse level control of a quantum system. The configuration is drawn from two dedicated yaml files respectively describing the quantum environment and the agent. The quantum environment is a `QuantumEnvironment` object, which is a subclass of `gym.Env ` and is designed to be compatible with standard RL libraries. The agent on the other hand, is specifically hard coded for our need because of the need to be able to send to the same resource (the Estimator primitive) a batch of quantum circuits (in contrast with usual RL frameworks where actions can be evaluated in parallel).\n",
    "\n",
    "For this notebook, we take all necessary inputs from the `ecr_cal_config.py` file. This python file contains all elements necessary to create a pulse-level quantum environment. The file contains the following elements:\n",
    "- a parametrized gate function, coded through Qiskit; leveraging behind the scenes a custom parametrized pulse schedule, to be inserted in the quantum circuit. The function needs to modify an input parametrized quantum circuit, by appending the parametrized gate to it.\n",
    "- a Qiskit backend object, which is the quantum device or simulator on which the quantum circuits will be executed. The backend is retrieved through another template function called `get_backend`.\n",
    "- A circuit context, which is a `QuantumCircuit` object that contains the quantum circuit in which the target gate operation should be optimized. The context is used to create the `ContextAwareQuantumEnvironment` object, which is a subclass of `BaseQuantumEnvironment` that takes into account the context of the quantum circuit in which the gate is to be optimized. Note that this mode is optional, as one could just focus on optimizing the gate operation in a standalone manner (i.e., without any context).\n",
    "\n",
    "We provide a dedicated template for IBM devices working through ECR, X, and SX basis gates. The user can adapt this to the platform and basis gates of his choice.\n",
    "\n",
    "For this notebook, we will focus on the calibration of an Echoed Cross Resonance (ECR) gate."
   ]
  },
  {
   "cell_type": "code",
   "id": "26e68f7213edda0b",
   "metadata": {
    "ExecuteTime": {
     "end_time": "2025-04-04T10:08:09.833817Z",
     "start_time": "2025-04-04T10:08:03.910877Z"
    }
   },
   "source": [
    "%matplotlib inline\n",
    "from pulse_level.qiskit_pulse.ecr_calibration.ecr_cal_config import (\n",
    "    apply_parametrized_circuit,\n",
    ")\n",
    "from rl_qoc import (\n",
    "    ContextAwareQuantumEnvironment,\n",
    "    QuantumEnvironment,\n",
    "    CustomPPO,\n",
    "    RescaleAndClipAction,\n",
    ")\n",
    "from qiskit.circuit import QuantumCircuit\n",
    "from rl_qoc.helpers import (\n",
    "    simulate_pulse_input,\n",
    "    load_from_yaml_file,\n",
    "    get_q_env_config,\n",
    ")\n",
    "import numpy as np"
   ],
   "outputs": [],
   "execution_count": 1
  },
  {
   "cell_type": "markdown",
   "id": "356ab0ef52880e0e",
   "metadata": {},
   "source": [
    "# Quantum Environment Configuration\n",
    "The quantum environment configuration is drawn from a yaml file. The configuration file contains the following elements:\n",
    "- Backend information: All the information necessary to retrieve the backend object from Qiskit existing backends (you can also pass your custom backend below).\n",
    "- Target information: The target to prepare, which can be a quantum gate or a quantum state. The target is described by the name of the gate or the state (e.g., 'x' for the X gate), and the physical qubit indices on which the gate is to be applied.\n",
    "- Environment information: The hyperparameters of the quantum environment such as:\n",
    "    - Execution parameters:\n",
    "        - `N_SHOTS`: The number of shots for the quantum circuit execution\n",
    "        - `SAMPLING_PAULIS`: The number of Pauli strings to sample for the expectation value estimation\n",
    "        - `N_REPS`: The number of repetitions of the target operation/circuit context to amplify the noise\n",
    "        - `BATCH_SIZE`: The number of circuits to be sent to the quantum device in parallel to evaluate the policy\n",
    "        - `SEED`: The seed for the quantum environment\n",
    "    - Action space parameters: Specify the parameters range of the action space (i.e. range of pulse parameters)\n",
    "        - `LOW`: The lower bound of the action space\n",
    "        - `HIGH`: The upper bound of the action space\n",
    "    - Reward scheme: The reward scheme to evaluate the performance of the agent\n",
    "        - `REWARD_METHOD`: The reward method to use. The available options are (`'fidelity'`, `cafe`, `channel`, `state`, `orbit`)\n",
    "        - `REWARD_PARAMS`: The parameters of the reward method (each reward method has its own parameters)\n",
    "    - Benchmarking: The benchmarking parameters to evaluate the performance of the agent\n",
    "        - `BENCHMARK_CYCLE`: The number of updates after which the benchmarking is done\n",
    "        - `BENCHMARK_BATCH_SIZE`: The number of circuits to be sent to the quantum device in parallel to evaluate the policy during benchmarking\n",
    "        - `CHECK_ON_EXP`: A flag to indicate if benchmarking should be done through an experiment (such as State/Process Tomography) or through a simulation\n",
    "                - If `True`, the benchmarking is done through an experiment\n",
    "                - If `False`, the benchmarking is done through a simulation\n",
    "\n"
   ]
  },
  {
   "cell_type": "code",
   "id": "401b218f59e804a6",
   "metadata": {
    "ExecuteTime": {
     "end_time": "2025-04-04T10:08:20.339422Z",
     "start_time": "2025-04-04T10:08:09.841386Z"
    }
   },
   "source": [
    "# Create custom DynamicsBackend (Pulse level simulator)\n",
    "from pulse_level.qiskit_pulse.dynamics_backends import (\n",
    "    fixed_frequency_transmon_backend,\n",
    ")\n",
    "from rl_qoc.helpers import (\n",
    "    perform_standard_calibrations,\n",
    "    custom_experiment_result_function,\n",
    ")\n",
    "from qiskit_dynamics.backend import FixedFrequencyTransmonBackend\n",
    "\n",
    "print(\"Custom backend used\")\n",
    "dims = [2, 2]\n",
    "freqs = [4.86e9, 4.97e9]\n",
    "anharmonicities = [-0.33e9, -0.32e9]\n",
    "rabi_freqs = [0.22e9, 0.26e9]\n",
    "couplings = {(0, 1): 0.002e9}\n",
    "backend = fixed_frequency_transmon_backend(\n",
    "    dims,\n",
    "    freqs,\n",
    "    anharmonicities,\n",
    "    rabi_freqs,\n",
    "    couplings,\n",
    "    experiment_result_function=custom_experiment_result_function,\n",
    ")\n",
    "solver_options = backend.options.solver_options\n",
    "\n",
    "backend = FixedFrequencyTransmonBackend(\n",
    "    dims,\n",
    "    freqs,\n",
    "    rabi_freqs,\n",
    "    couplings,\n",
    "    anharmonicities,\n",
    "    experiment_result_function=custom_experiment_result_function,\n",
    "    dt= 2.22e-10,\n",
    "    array_library='jax',\n",
    "    solver_options=solver_options,\n",
    ")\n",
    "cals, exps = perform_standard_calibrations(backend)"
   ],
   "outputs": [
    {
     "name": "stdout",
     "output_type": "stream",
     "text": [
      "Custom backend used\n",
      "Starting Rabi experiment for qubit 0...\n",
      "Rabi experiment for qubit 0 done.\n",
      "Starting Drag experiment for qubit 0...\n",
      "Drag experiments done for qubit 0 done.\n",
      "Starting Rabi experiment for qubit 1...\n",
      "Rabi experiment for qubit 1 done.\n",
      "Starting Drag experiment for qubit 1...\n",
      "Drag experiments done for qubit 1 done.\n",
      "All single qubit calibrations are done\n",
      "Updated Instruction Schedule Map <InstructionScheduleMap(1Q instructions:\n",
      "  q0: {'x', 'sdg', 'tdg', 'delay', 'sx', 'rz', 's', 'h', 'measure', 'reset', 'z', 't', 'id'}\n",
      "  q1: {'x', 'sdg', 'tdg', 'delay', 'sx', 'rz', 's', 'h', 'measure', 'reset', 'z', 't', 'id'}\n",
      "Multi qubit instructions:\n",
      "  (0, 1): {'ecr', 'cr45m', 'cr45p'}\n",
      ")>\n"
     ]
    }
   ],
   "execution_count": 2
  },
  {
   "cell_type": "code",
   "id": "ff4d05456e3f7f32",
   "metadata": {
    "ExecuteTime": {
     "end_time": "2025-04-03T09:52:13.785431Z",
     "start_time": "2025-04-03T09:52:13.748638Z"
    }
   },
   "source": [
    "# Get the quantum environment configuration from yaml file (could also be loaded manually)\n",
    "import os\n",
    "\n",
    "current_dir = os.getcwd()\n",
    "config_file_name = \"ecr_pulse_cal.yaml\"\n",
    "# Do not touch part below, just import in your notebook q_env_config and circuit_context\n",
    "config_file_address = os.path.join(current_dir, config_file_name)\n",
    "\n",
    "q_env_config = get_q_env_config(\n",
    "    config_file_address, apply_parametrized_circuit, backend\n",
    ")\n",
    "# Add kwargs to the parametrized circuit function\n",
    "q_env_config.backend_config.parametrized_circuit_kwargs = {\n",
    "    \"target\": q_env_config.target.as_dict(),\n",
    "    \"backend\": q_env_config.backend,\n",
    "}"
   ],
   "outputs": [],
   "execution_count": 3
  },
  {
   "cell_type": "markdown",
   "id": "31eb0282887e8c7d",
   "metadata": {},
   "source": [
    "We can define an optional circuit context in which we would like to calibrate the gate.\n",
    "If the context is not provided, the gate will be calibrated in a standalone manner.\n",
    "\n",
    "Note: If no context is provided, then the user should use the `QuantumEnvironment` class. Conversely, if a context is provided, the user should use the `ContextAwareQuantumEnvironment` class."
   ]
  },
  {
   "cell_type": "code",
   "id": "ba9eb442f7d426f8",
   "metadata": {
    "ExecuteTime": {
     "end_time": "2025-04-03T09:52:15.767018Z",
     "start_time": "2025-04-03T09:52:15.440922Z"
    }
   },
   "source": [
    "# Set the use_context flag to True if you want to use the context of the quantum circuit\n",
    "# TODO: Fill up your circuit context\n",
    "circuit_context = None\n",
    "\n",
    "if circuit_context is not None:\n",
    "    fig = circuit_context.draw(\"mpl\", interactive=True)\n",
    "\n",
    "    q_env = ContextAwareQuantumEnvironment(\n",
    "        q_env_config, circuit_context, training_steps_per_gate=250\n",
    "    )\n",
    "\n",
    "else:\n",
    "    q_env = QuantumEnvironment(q_env_config)\n",
    "    fig = q_env.circuits[0].draw(\"mpl\", interactive=True)\n",
    "\n",
    "# Rescale the action space to [-1, 1] and clip the actions to the valid range\n",
    "# This step is dependent on the output layer of the agent for the mean of the policy\n",
    "# If the output layer is a tanh layer (default), then rescaling is necessary\n",
    "\n",
    "rescaled_env = RescaleAndClipAction(q_env, -1, 1)\n",
    "\n",
    "print(\"Circuit subject to calibration:\")\n",
    "fig"
   ],
   "outputs": [
    {
     "name": "stdout",
     "output_type": "stream",
     "text": [
      "Circuit subject to calibration:\n"
     ]
    },
    {
     "name": "stderr",
     "output_type": "stream",
     "text": [
      "/Users/arthurostrauss/anaconda3/envs/rl_qoc/lib/python3.11/site-packages/qiskit/visualization/circuit/circuit_visualization.py:355: UserWarning: FigureCanvasAgg is non-interactive, and thus cannot be shown\n",
      "  image.show()\n"
     ]
    },
    {
     "data": {
      "text/plain": [
       "<Figure size 389.136x200.667 with 1 Axes>"
      ],
      "image/png": "[encoded data removed]"
     },
     "execution_count": 4,
     "metadata": {},
     "output_type": "execute_result"
    }
   ],
   "execution_count": 4
  },
  {
   "cell_type": "code",
   "id": "3517998ebbce630",
   "metadata": {
    "ExecuteTime": {
     "end_time": "2025-04-03T09:52:16.104867Z",
     "start_time": "2025-04-03T09:52:15.990275Z"
    }
   },
   "source": [
    "print(\"Template pulse shape for the ECR gate:\")\n",
    "q_env.backend.target[\"ecr\"][(0, 1)].calibration.draw()"
   ],
   "outputs": [
    {
     "name": "stdout",
     "output_type": "stream",
     "text": [
      "Template pulse shape for the ECR gate:\n"
     ]
    },
    {
     "name": "stderr",
     "output_type": "stream",
     "text": [
      "/var/folders/5w/ygx15jq94z5dzxwkmbbj8zfm0000gn/T/ipykernel_22313/1704369144.py:2: DeprecationWarning: The property ``qiskit.transpiler.target.InstructionProperties.calibration`` is deprecated as of Qiskit 1.3. It will be removed in Qiskit 2.0. The entire Qiskit Pulse package is being deprecated and will be moved to the Qiskit Dynamics repository: https://github.com/qiskit-community/qiskit-dynamics. Note that once removed, ``qiskit.transpiler.target.InstructionProperties.calibration`` will have no alternative in Qiskit.\n",
      "  q_env.backend.target[\"ecr\"][(0, 1)].calibration.draw()\n"
     ]
    },
    {
     "data": {
      "text/plain": [
       "<Figure size 1300x466.201 with 1 Axes>"
      ],
      "image/png": "[encoded data removed]"
     },
     "execution_count": 5,
     "metadata": {},
     "output_type": "execute_result"
    }
   ],
   "execution_count": 5
  },
  {
   "cell_type": "code",
   "id": "ba0eb6abd3e58c5d",
   "metadata": {
    "ExecuteTime": {
     "end_time": "2025-04-03T09:52:19.054544Z",
     "start_time": "2025-04-03T09:52:18.971513Z"
    }
   },
   "source": [
    "from qiskit import schedule\n",
    "\n",
    "print(\"Parametrized pulse:\")\n",
    "schedule(q_env.circuits[0], q_env.backend).draw()"
   ],
   "outputs": [
    {
     "name": "stdout",
     "output_type": "stream",
     "text": [
      "Parametrized pulse:\n"
     ]
    },
    {
     "name": "stderr",
     "output_type": "stream",
     "text": [
      "/var/folders/5w/ygx15jq94z5dzxwkmbbj8zfm0000gn/T/ipykernel_22313/761240725.py:4: DeprecationWarning: The function ``qiskit.compiler.scheduler.schedule()`` is deprecated as of Qiskit 1.3. It will be removed in Qiskit 2.0. The entire Qiskit Pulse package is being deprecated and will be moved to the Qiskit Dynamics repository: https://github.com/qiskit-community/qiskit-dynamics. Note that ``qiskit.compiler.scheduler.schedule()`` will be moved as well.\n",
      "  schedule(q_env.circuits[0], q_env.backend).draw()\n"
     ]
    },
    {
     "data": {
      "text/plain": [
       "<Figure size 1300x766.201 with 1 Axes>"
      ],
      "image/png": "[encoded data removed]"
     },
     "execution_count": 6,
     "metadata": {},
     "output_type": "execute_result"
    }
   ],
   "execution_count": 6
  },
  {
   "cell_type": "code",
   "id": "e4fb42bef0ebd78b",
   "metadata": {
    "ExecuteTime": {
     "end_time": "2025-04-03T09:52:20.514006Z",
     "start_time": "2025-04-03T09:52:20.511818Z"
    }
   },
   "source": [
    "from qiskit.visualization import plot_circuit_layout\n",
    "\n",
    "print(\"Available operations\", q_env.backend.operation_names)\n",
    "try:\n",
    "    plot_circuit_layout(circuit_context, backend=q_env.backend)\n",
    "except:\n",
    "    print(\"No layout available\")"
   ],
   "outputs": [
    {
     "name": "stdout",
     "output_type": "stream",
     "text": [
      "Available operations ['measure', 'z', 's', 'sdg', 't', 'tdg', 'rz', 'id', 'h', 'x', 'sx', 'reset', 'delay', 'ecr', 'cr45p', 'cr45m', 'switch_case', 'for_loop', 'if_else', 'while_loop', 'ecr_cal']\n",
      "No layout available\n"
     ]
    }
   ],
   "execution_count": 7
  },
  {
   "cell_type": "markdown",
   "id": "6dfffa6500b3f0a4",
   "metadata": {},
   "source": [
    "# Agent setup\n",
    "\n",
    "We now define the agent counterpart."
   ]
  },
  {
   "cell_type": "code",
   "id": "6d6127fca6cd9fa4",
   "metadata": {
    "ExecuteTime": {
     "end_time": "2025-04-03T09:52:21.626252Z",
     "start_time": "2025-04-03T09:52:21.622825Z"
    }
   },
   "source": [
    "from pathlib import Path\n",
    "\n",
    "# Change the file_name to the name of the agent configuration file and specify the file location\n",
    "file_name = \"agent_config.yaml\"\n",
    "file_location = Path.cwd() / file_name\n",
    "\n",
    "agent_config = load_from_yaml_file(file_location)"
   ],
   "outputs": [],
   "execution_count": 8
  },
  {
   "cell_type": "code",
   "id": "d8a88940b026ea97",
   "metadata": {
    "ExecuteTime": {
     "end_time": "2025-04-03T09:52:23.173562Z",
     "start_time": "2025-04-03T09:52:22.732874Z"
    }
   },
   "source": [
    "ppo_agent = CustomPPO(agent_config, rescaled_env)"
   ],
   "outputs": [],
   "execution_count": 9
  },
  {
   "cell_type": "code",
   "id": "ee2902628aa96ee3",
   "metadata": {
    "ExecuteTime": {
     "end_time": "2025-04-03T09:52:23.392770Z",
     "start_time": "2025-04-03T09:52:23.390211Z"
    }
   },
   "source": [
    "from rl_qoc.agent import TotalUpdates, TrainFunctionSettings, TrainingConfig\n",
    "\n",
    "total_updates = TotalUpdates(500)\n",
    "# hardware_runtime = HardwareRuntime(300)\n",
    "training_config = TrainingConfig(\n",
    "    training_constraint=total_updates,\n",
    "    target_fidelities=[0.999, 0.9999],\n",
    "    lookback_window=10,\n",
    "    anneal_learning_rate=True,\n",
    "    std_actions_eps=1e-2,\n",
    ")\n",
    "\n",
    "train_function_settings = TrainFunctionSettings(\n",
    "    plot_real_time=True,\n",
    "    print_debug=True,\n",
    "    num_prints=1,\n",
    "    hpo_mode=False,\n",
    "    clear_history=True,\n",
    ")"
   ],
   "outputs": [],
   "execution_count": 10
  },
  {
   "cell_type": "markdown",
   "id": "52f8d3b952e0d4aa",
   "metadata": {},
   "source": [
    "# Training"
   ]
  },
  {
   "cell_type": "code",
   "id": "831db37c785f1e71",
   "metadata": {},
   "source": [
    "ppo_agent.train(\n",
    "    training_config=training_config, train_function_settings=train_function_settings\n",
    ")"
   ],
   "execution_count": 11,
   "outputs": [
    {
     "data": {
      "text/plain": [
       "<Figure size 640x480 with 1 Axes>"
      ],
      "image/png": "[encoded data removed]"
     },
     "metadata": {},
     "output_type": "display_data"
    },
    {
     "name": "stdout",
     "output_type": "stream",
     "text": [
      "\n",
      " Number of repetitions: 1\n",
      "Starting simulation benchmark...\n",
      "Avg gate fidelity: 0.4719348261548936\n",
      "Finished simulation benchmark\n",
      "Hardware runtime taken: 0.0022 hours  0.1302 min  7.8106 seconds\n"
     ]
    },
    {
     "data": {
      "text/plain": [
       "{'avg_reward': [0.43408168488752086,\n",
       "  0.47264487687426926,\n",
       "  0.4123387176370683,\n",
       "  0.5868996714597724,\n",
       "  0.5721676447500077,\n",
       "  0.44357128118018874,\n",
       "  0.4932257297003433,\n",
       "  0.5404124519566362,\n",
       "  0.5741168448609819,\n",
       "  0.6142112747101813,\n",
       "  0.5071527934425608,\n",
       "  0.5362866968007045,\n",
       "  0.6412513866537075,\n",
       "  0.5144553716123107,\n",
       "  0.4889260933125851],\n",
       " 'fidelity_history': [0.33550125828470856,\n",
       "  0.42403404381239407,\n",
       "  0.48766673232498114,\n",
       "  0.4900895756940834,\n",
       "  0.40248579481101077,\n",
       "  0.4041036595949851,\n",
       "  0.5085567758011665,\n",
       "  0.5967475780045646,\n",
       "  0.5212290612475065,\n",
       "  0.5064616770155332,\n",
       "  0.43989531024699036,\n",
       "  0.5421475652084797,\n",
       "  0.5547301506114094,\n",
       "  0.48831240743633586,\n",
       "  0.4033047498679309],\n",
       " 'hardware_runtime': [0.48617479454720003,\n",
       "  0.4989621379072,\n",
       "  0.4732595777536,\n",
       "  0.5022868471808001,\n",
       "  0.48949950382080004,\n",
       "  0.4767121604608,\n",
       "  0.45100960030720005,\n",
       "  0.4765842870272,\n",
       "  0.5114937344,\n",
       "  0.479525376,\n",
       "  0.5022868471808001,\n",
       "  0.5212121153536,\n",
       "  0.45714752512,\n",
       "  0.47070210908160004,\n",
       "  0.4892437569536],\n",
       " 'total_shots': [486656,\n",
       "  499456,\n",
       "  473728,\n",
       "  502784,\n",
       "  489984,\n",
       "  477184,\n",
       "  451456,\n",
       "  477056,\n",
       "  512000,\n",
       "  480000,\n",
       "  502784,\n",
       "  521728,\n",
       "  457600,\n",
       "  471168,\n",
       "  489728],\n",
       " 'total_updates': [],\n",
       " 'clipped_mean_action_0': [tensor(0.2511),\n",
       "  tensor(0.2405),\n",
       "  tensor(0.2296),\n",
       "  tensor(0.2223),\n",
       "  tensor(0.2248),\n",
       "  tensor(0.2226),\n",
       "  tensor(0.1915),\n",
       "  tensor(0.1647),\n",
       "  tensor(0.1352),\n",
       "  tensor(0.1320),\n",
       "  tensor(0.1257),\n",
       "  tensor(0.1307),\n",
       "  tensor(0.1319),\n",
       "  tensor(0.1451),\n",
       "  tensor(0.1388)],\n",
       " 'mean_action_0': [tensor(0.0045),\n",
       "  tensor(-0.0381),\n",
       "  tensor(-0.0816),\n",
       "  tensor(-0.1107),\n",
       "  tensor(-0.1009),\n",
       "  tensor(-0.1097),\n",
       "  tensor(-0.2338),\n",
       "  tensor(-0.3414),\n",
       "  tensor(-0.4591),\n",
       "  tensor(-0.4718),\n",
       "  tensor(-0.4971),\n",
       "  tensor(-0.4771),\n",
       "  tensor(-0.4724),\n",
       "  tensor(-0.4194),\n",
       "  tensor(-0.4447)],\n",
       " 'std_action_0': [tensor(0.6730),\n",
       "  tensor(0.6607),\n",
       "  tensor(0.6599),\n",
       "  tensor(0.6593),\n",
       "  tensor(0.6529),\n",
       "  tensor(0.6304),\n",
       "  tensor(0.6216),\n",
       "  tensor(0.6363),\n",
       "  tensor(0.6273),\n",
       "  tensor(0.6149),\n",
       "  tensor(0.5964),\n",
       "  tensor(0.6233),\n",
       "  tensor(0.6582),\n",
       "  tensor(0.6710),\n",
       "  tensor(0.6587)],\n",
       " 'clipped_mean_action_1': [tensor(-0.3883),\n",
       "  tensor(-0.4647),\n",
       "  tensor(-0.6538),\n",
       "  tensor(-0.8196),\n",
       "  tensor(-0.8423),\n",
       "  tensor(-0.9658),\n",
       "  tensor(-0.9965),\n",
       "  tensor(-0.7350),\n",
       "  tensor(-0.4628),\n",
       "  tensor(-0.4682),\n",
       "  tensor(-0.6379),\n",
       "  tensor(-0.9057),\n",
       "  tensor(-1.0630),\n",
       "  tensor(-0.7636),\n",
       "  tensor(-0.6258)],\n",
       " 'mean_action_1': [tensor(-0.1237),\n",
       "  tensor(-0.1480),\n",
       "  tensor(-0.2082),\n",
       "  tensor(-0.2610),\n",
       "  tensor(-0.2682),\n",
       "  tensor(-0.3076),\n",
       "  tensor(-0.3174),\n",
       "  tensor(-0.2341),\n",
       "  tensor(-0.1474),\n",
       "  tensor(-0.1491),\n",
       "  tensor(-0.2032),\n",
       "  tensor(-0.2884),\n",
       "  tensor(-0.3385),\n",
       "  tensor(-0.2432),\n",
       "  tensor(-0.1993)],\n",
       " 'std_action_1': [tensor(0.6467),\n",
       "  tensor(0.6395),\n",
       "  tensor(0.6399),\n",
       "  tensor(0.6404),\n",
       "  tensor(0.6300),\n",
       "  tensor(0.6034),\n",
       "  tensor(0.5606),\n",
       "  tensor(0.5500),\n",
       "  tensor(0.5290),\n",
       "  tensor(0.5603),\n",
       "  tensor(0.5568),\n",
       "  tensor(0.5695),\n",
       "  tensor(0.5442),\n",
       "  tensor(0.5273),\n",
       "  tensor(0.5145)],\n",
       " 'clipped_mean_action_2': [tensor(0.2714),\n",
       "  tensor(0.2630),\n",
       "  tensor(0.2542),\n",
       "  tensor(0.2606),\n",
       "  tensor(0.2725),\n",
       "  tensor(0.2821),\n",
       "  tensor(0.2803),\n",
       "  tensor(0.2791),\n",
       "  tensor(0.2596),\n",
       "  tensor(0.2415),\n",
       "  tensor(0.2232),\n",
       "  tensor(0.2241),\n",
       "  tensor(0.2296),\n",
       "  tensor(0.2201),\n",
       "  tensor(0.1934)],\n",
       " 'mean_action_2': [tensor(0.0856),\n",
       "  tensor(0.0520),\n",
       "  tensor(0.0169),\n",
       "  tensor(0.0423),\n",
       "  tensor(0.0900),\n",
       "  tensor(0.1284),\n",
       "  tensor(0.1212),\n",
       "  tensor(0.1166),\n",
       "  tensor(0.0384),\n",
       "  tensor(-0.0340),\n",
       "  tensor(-0.1072),\n",
       "  tensor(-0.1034),\n",
       "  tensor(-0.0815),\n",
       "  tensor(-0.1194),\n",
       "  tensor(-0.2266)],\n",
       " 'std_action_2': [tensor(0.7534),\n",
       "  tensor(0.7567),\n",
       "  tensor(0.7701),\n",
       "  tensor(0.7729),\n",
       "  tensor(0.7854),\n",
       "  tensor(0.8076),\n",
       "  tensor(0.8169),\n",
       "  tensor(0.7891),\n",
       "  tensor(0.7724),\n",
       "  tensor(0.7229),\n",
       "  tensor(0.6732),\n",
       "  tensor(0.6550),\n",
       "  tensor(0.6431),\n",
       "  tensor(0.5955),\n",
       "  tensor(0.5567)],\n",
       " 'clipped_mean_action_3': [tensor(-0.1065),\n",
       "  tensor(-0.1521),\n",
       "  tensor(-0.1418),\n",
       "  tensor(-0.3292),\n",
       "  tensor(-0.6430),\n",
       "  tensor(-0.8196),\n",
       "  tensor(-1.1439),\n",
       "  tensor(-1.2839),\n",
       "  tensor(-1.2006),\n",
       "  tensor(-1.2421),\n",
       "  tensor(-1.5503),\n",
       "  tensor(-1.5504),\n",
       "  tensor(-1.6358),\n",
       "  tensor(-1.6667),\n",
       "  tensor(-1.6704)],\n",
       " 'mean_action_3': [tensor(-0.0339),\n",
       "  tensor(-0.0484),\n",
       "  tensor(-0.0452),\n",
       "  tensor(-0.1048),\n",
       "  tensor(-0.2048),\n",
       "  tensor(-0.2610),\n",
       "  tensor(-0.3643),\n",
       "  tensor(-0.4089),\n",
       "  tensor(-0.3824),\n",
       "  tensor(-0.3956),\n",
       "  tensor(-0.4937),\n",
       "  tensor(-0.4938),\n",
       "  tensor(-0.5209),\n",
       "  tensor(-0.5308),\n",
       "  tensor(-0.5320)],\n",
       " 'std_action_3': [tensor(0.7114),\n",
       "  tensor(0.7219),\n",
       "  tensor(0.7347),\n",
       "  tensor(0.7544),\n",
       "  tensor(0.7785),\n",
       "  tensor(0.8342),\n",
       "  tensor(0.9105),\n",
       "  tensor(0.9169),\n",
       "  tensor(0.9587),\n",
       "  tensor(1.0183),\n",
       "  tensor(1.1027),\n",
       "  tensor(1.1096),\n",
       "  tensor(1.2111),\n",
       "  tensor(1.3202),\n",
       "  tensor(1.4091)],\n",
       " 'mean_action': array([-0.44466317, -0.19930945, -0.2265954 , -0.5319865 ], dtype=float32),\n",
       " 'std_action': array([0.6587359 , 0.5144901 , 0.55673176, 1.4091228 ], dtype=float32),\n",
       " 'clipped_mean_action': tensor([ 0.1388, -0.6258,  0.1934, -1.6704])}"
      ]
     },
     "execution_count": 11,
     "metadata": {},
     "output_type": "execute_result"
    },
    {
     "data": {
      "text/plain": [
       "<Figure size 640x480 with 0 Axes>"
      ]
     },
     "metadata": {},
     "output_type": "display_data"
    }
   ]
  },
  {
   "cell_type": "code",
   "execution_count": null,
   "id": "54d782e500500a93",
   "metadata": {},
   "outputs": [],
   "source": [
    "import matplotlib.pyplot as plt\n",
    "\n",
    "plt.plot(ppo_agent.training_results[\"std_action\"])\n",
    "plt.xlabel(\"Updates\")\n",
    "plt.ylabel(\"Standard Deviation of Actions\")\n",
    "plt.title(\"Standard Deviation of Actions during Training\")"
   ]
  },
  {
   "cell_type": "code",
   "execution_count": null,
   "id": "9c23f17c766657cc",
   "metadata": {},
   "outputs": [],
   "source": [
    "plt.plot(ppo_agent.training_results[\"action_history\"])\n",
    "plt.xlabel(\"Updates\")\n",
    "plt.ylabel(\"Actions\")\n",
    "plt.title(\"Actions during Training\")"
   ]
  },
  {
   "cell_type": "code",
   "execution_count": null,
   "id": "b8ae2505c1354c6e",
   "metadata": {},
   "outputs": [],
   "source": [
    "from rl_qoc import GateTarget\n",
    "\n",
    "reward_history = np.array(q_env.reward_history)\n",
    "mean_rewards = np.mean(reward_history, axis=-1)\n",
    "max_mean = int(np.max(mean_rewards) * 1e4) / 1e4\n",
    "n_epochs = len(mean_rewards)\n",
    "if q_env.benchmark_cycle != 0:\n",
    "    fidelity_range = np.arange(0, n_epochs, q_env.benchmark_cycle)\n",
    "plt.plot(\n",
    "    # fidelity_range,\n",
    "    np.array(q_env.fidelity_history),\n",
    "    label=f\"Average {q_env.target.target_type} Fidelity\",\n",
    ")\n",
    "plt.plot(mean_rewards, label=f\"Mean Batch Rewards, max: {max_mean}\")\n",
    "\n",
    "plt.xlabel(\"Updates\")\n",
    "plt.ylabel(\"Reward\")\n",
    "plt.title(\n",
    "    f\"{q_env.target.gate.name if isinstance(q_env.target, GateTarget) else ''} Learning Curve\"\n",
    ")\n",
    "plt.legend()\n",
    "plt.show()"
   ]
  },
  {
   "cell_type": "code",
   "execution_count": null,
   "id": "bf65ac39a5198853",
   "metadata": {},
   "outputs": [],
   "source": [
    "print(\"Optimal action\", q_env.optimal_action)\n",
    "print(\"Best fidelity:\", np.max(q_env.fidelity_history))"
   ]
  },
  {
   "cell_type": "code",
   "execution_count": null,
   "id": "362310101d088e01",
   "metadata": {},
   "outputs": [],
   "source": [
    "# Update the gate calibration in the backend target and retrieve the calibration\n",
    "optimal_calibration = q_env.update_gate_calibration()\n",
    "q_env.backend.target.get_calibration(\"ecr\", q_env.physical_target_qubits).draw()"
   ]
  },
  {
   "cell_type": "markdown",
   "id": "4b7c6fc262013ca8",
   "metadata": {},
   "source": [
    "# Benchmarking the obtained gate through simulation and tomography"
   ]
  },
  {
   "cell_type": "code",
   "execution_count": 10,
   "id": "9462732f7a0a611f",
   "metadata": {
    "ExecuteTime": {
     "end_time": "2024-10-22T07:21:40.918047Z",
     "start_time": "2024-10-22T07:21:40.143281Z"
    }
   },
   "outputs": [
    {
     "data": {
      "image/png": "[encoded data removed]",
      "text/plain": [
       "<Figure size 640x480 with 1 Axes>"
      ]
     },
     "execution_count": 10,
     "metadata": {},
     "output_type": "execute_result"
    }
   ],
   "source": [
    "# Testing gate in a quantum circuit\n",
    "from qiskit.providers.basic_provider import BasicSimulator\n",
    "from qiskit import transpile\n",
    "from qiskit.visualization import plot_histogram\n",
    "\n",
    "qc = QuantumCircuit(2)\n",
    "qc.x(0)\n",
    "qc.h(1)\n",
    "qc.ecr(0, 1)\n",
    "qc.measure_all()\n",
    "qc.draw(\"mpl\")\n",
    "\n",
    "basic_simulator = BasicSimulator()\n",
    "basic_result = basic_simulator.run(qc, shots=10000).result()\n",
    "\n",
    "pulse_circ = transpile(qc, q_env.backend)\n",
    "q_env.backend.options.shots = 10000\n",
    "pulse_results = q_env.backend.run(pulse_circ).result()\n",
    "\n",
    "plot_histogram(\n",
    "    [basic_result.get_counts(), pulse_results.get_counts()],\n",
    "    legend=[\"BasicProvider\", \"Custom Backend\"],\n",
    ")"
   ]
  },
  {
   "cell_type": "code",
   "execution_count": 10,
   "id": "fff87db520145934",
   "metadata": {
    "ExecuteTime": {
     "end_time": "2024-10-22T07:10:59.323419Z",
     "start_time": "2024-10-22T07:10:59.320810Z"
    }
   },
   "outputs": [
    {
     "name": "stdout",
     "output_type": "stream",
     "text": [
      "Fidelity between ideal and simulated state: 0.7821783602783715\n"
     ]
    }
   ],
   "source": [
    "# Compute fidelity between ideal and simulated circuit\n",
    "from qiskit.quantum_info import Statevector, state_fidelity\n",
    "\n",
    "ideal_state = Statevector(qc.remove_final_measurements(inplace=False))\n",
    "custom_state = pulse_results.get_statevector()\n",
    "fidelity = state_fidelity(ideal_state, custom_state)\n",
    "print(\"Fidelity between ideal and simulated state:\", fidelity)"
   ]
  },
  {
   "cell_type": "code",
   "execution_count": 13,
   "id": "e7c1ed79ab9aebe2",
   "metadata": {
    "ExecuteTime": {
     "end_time": "2024-10-22T07:11:55.192915Z",
     "start_time": "2024-10-22T07:11:50.050355Z"
    }
   },
   "outputs": [
    {
     "name": "stdout",
     "output_type": "stream",
     "text": [
      "Average Gate Fidelity from tomography:  [0.6703716706656533]\n"
     ]
    }
   ],
   "source": [
    "from rl_qoc.helpers import fidelity_from_tomography\n",
    "from qiskit.quantum_info import Operator, Statevector\n",
    "\n",
    "# Process tomography done through function below\n",
    "q_env.backend.options.shots = 10000\n",
    "fidelity = fidelity_from_tomography(\n",
    "    qc,\n",
    "    backend,\n",
    "    q_env.physical_target_qubits,\n",
    "    Operator(qc.remove_final_measurements(inplace=False)),\n",
    ")\n",
    "print(\"Average Gate Fidelity from tomography: \", fidelity)"
   ]
  },
  {
   "cell_type": "code",
   "execution_count": null,
   "id": "bc464fde717f8de",
   "metadata": {},
   "outputs": [],
   "source": [
    "from qiskit_experiments.library.characterization.cr_hamiltonian import (\n",
    "    EchoedCrossResonanceHamiltonian,\n",
    ")\n",
    "\n",
    "cr_ham = EchoedCrossResonanceHamiltonian(q_env.physical_target_qubits, q_env.backend)\n",
    "cr_ham_data = cr_ham.run().block_for_results()\n",
    "cr_ham_data.figure(0)\n",
    "cr_ham.set_experiment_options(\n",
    "    amp=q_env.optimal_action[0], amp_t=q_env.optimal_action[2]\n",
    ")\n",
    "data2 = cr_ham.run().block_for_results()\n",
    "data2.figure(0)"
   ]
  },
  {
   "cell_type": "code",
   "execution_count": null,
   "id": "3784710bd6efe19a",
   "metadata": {},
   "outputs": [],
   "source": [
    "from qiskit_experiments.library.randomized_benchmarking import InterleavedRB\n",
    "\n",
    "rb_exp = InterleavedRB(\n",
    "    q_env.target.gate,\n",
    "    q_env.physical_target_qubits,\n",
    "    np.arange(1, 100, 10),\n",
    "    q_env.backend,\n",
    "    num_samples=10,\n",
    ")\n",
    "data_rb = rb_exp.run().block_for_results()\n",
    "data_rb.figure(0)"
   ]
  },
  {
   "cell_type": "code",
   "execution_count": null,
   "id": "574e5c74985d53d3",
   "metadata": {},
   "outputs": [],
   "source": [
    "from qiskit import schedule\n",
    "\n",
    "sched = schedule(qc, q_env.backend)\n",
    "sched.draw()"
   ]
  },
  {
   "cell_type": "code",
   "execution_count": null,
   "id": "8fa9e99953ef8238",
   "metadata": {},
   "outputs": [],
   "source": [
    "from qiskit.transpiler import QubitProperties\n",
    "\n",
    "v0 = 4.86e9\n",
    "v1 = 4.97e9\n",
    "q_env.backend.target.qubit_properties = [\n",
    "    QubitProperties(frequency=v0),\n",
    "    QubitProperties(frequency=v1),\n",
    "]\n",
    "from qiskit_dynamics.signals import Signal\n",
    "from qiskit_dynamics.pulse.pulse_to_signals import InstructionToSignals\n",
    "\n",
    "converter = InstructionToSignals(\n",
    "    q_env.backend.dt,\n",
    "    {\n",
    "        \"d0\": q_env.backend.qubit_properties(0).frequency,\n",
    "        \"d1\": q_env.backend.qubit_properties(1).frequency,\n",
    "        \"u0\": q_env.backend.qubit_properties(1).frequency,\n",
    "    },\n",
    "    channels=[\"d0\", \"d1\", \"u0\"],\n",
    ")\n",
    "q_env.simulate_pulse_circuit(q_env.circuits[0], q_env.optimal_action)\n",
    "dt = q_env.backend.dt\n",
    "I = np.real(converter.get_signals(sched)[0].samples)\n",
    "Q = np.imag(converter.get_signals(sched)[0].samples)\n",
    "t = np.linspace(0, sched.duration * dt, len(I))\n",
    "plt.plot(t, I)\n",
    "plt.plot(t, Q)"
   ]
  },
  {
   "cell_type": "code",
   "execution_count": 11,
   "id": "ee70c01caa0579c4",
   "metadata": {
    "ExecuteTime": {
     "end_time": "2024-10-22T06:52:28.437095Z",
     "start_time": "2024-10-22T06:52:23.382318Z"
    }
   },
   "outputs": [
    {
     "ename": "TypeError",
     "evalue": "'ExperimentData' object is not subscriptable",
     "output_type": "error",
     "traceback": [
      "\u001B[0;31m---------------------------------------------------------------------------\u001B[0m",
      "\u001B[0;31mTypeError\u001B[0m                                 Traceback (most recent call last)",
      "Cell \u001B[0;32mIn[11], line 6\u001B[0m\n\u001B[1;32m      4\u001B[0m \u001B[38;5;66;03m# Process tomography done through function below\u001B[39;00m\n\u001B[1;32m      5\u001B[0m q_env\u001B[38;5;241m.\u001B[39mbackend\u001B[38;5;241m.\u001B[39moptions\u001B[38;5;241m.\u001B[39mshots \u001B[38;5;241m=\u001B[39m \u001B[38;5;241m10000\u001B[39m\n\u001B[0;32m----> 6\u001B[0m fidelity \u001B[38;5;241m=\u001B[39m fidelity_from_tomography(\n\u001B[1;32m      7\u001B[0m     qc,\n\u001B[1;32m      8\u001B[0m     backend,\n\u001B[1;32m      9\u001B[0m     q_env\u001B[38;5;241m.\u001B[39mphysical_target_qubits,\n\u001B[1;32m     10\u001B[0m     Operator(qc\u001B[38;5;241m.\u001B[39mremove_final_measurements(inplace\u001B[38;5;241m=\u001B[39m\u001B[38;5;28;01mFalse\u001B[39;00m)),\n\u001B[1;32m     11\u001B[0m )\n\u001B[1;32m     12\u001B[0m \u001B[38;5;28mprint\u001B[39m(\u001B[38;5;124m\"\u001B[39m\u001B[38;5;124mFidelity from tomography: \u001B[39m\u001B[38;5;124m\"\u001B[39m, fidelity)\n\u001B[1;32m     13\u001B[0m \u001B[38;5;28;01mfrom\u001B[39;00m \u001B[38;5;21;01mqiskit_experiments\u001B[39;00m\u001B[38;5;21;01m.\u001B[39;00m\u001B[38;5;21;01mlibrary\u001B[39;00m\u001B[38;5;21;01m.\u001B[39;00m\u001B[38;5;21;01mcharacterization\u001B[39;00m\u001B[38;5;21;01m.\u001B[39;00m\u001B[38;5;21;01mcr_hamiltonian\u001B[39;00m \u001B[38;5;28;01mimport\u001B[39;00m (\n\u001B[1;32m     14\u001B[0m     EchoedCrossResonanceHamiltonian,\n\u001B[1;32m     15\u001B[0m )\n",
      "File \u001B[0;32m~/Library/CloudStorage/OneDrive-NationalUniversityofSingapore/Coding_projects/Quantum_Optimal_Control/rl_qoc/helper_functions.py:1105\u001B[0m, in \u001B[0;36mfidelity_from_tomography\u001B[0;34m(qc_input, backend, physical_qubits, target, analysis, sampler, **run_options)\u001B[0m\n\u001B[1;32m   1103\u001B[0m results \u001B[38;5;241m=\u001B[39m []\n\u001B[1;32m   1104\u001B[0m \u001B[38;5;28;01mfor\u001B[39;00m i, (qc, fid, tgt) \u001B[38;5;129;01min\u001B[39;00m \u001B[38;5;28menumerate\u001B[39m(\u001B[38;5;28mzip\u001B[39m(qc_input, fids, target)):\n\u001B[0;32m-> 1105\u001B[0m     result \u001B[38;5;241m=\u001B[39m exp_data[i]\u001B[38;5;241m.\u001B[39manalysis_results(fid)\u001B[38;5;241m.\u001B[39mvalue\n\u001B[1;32m   1106\u001B[0m     \u001B[38;5;28;01mif\u001B[39;00m fid \u001B[38;5;241m==\u001B[39m \u001B[38;5;124m\"\u001B[39m\u001B[38;5;124mprocess_fidelity\u001B[39m\u001B[38;5;124m\"\u001B[39m \u001B[38;5;129;01mand\u001B[39;00m tgt\u001B[38;5;241m.\u001B[39mis_unitary():\n\u001B[1;32m   1107\u001B[0m         \u001B[38;5;66;03m# Convert to average gate fidelity metric\u001B[39;00m\n\u001B[1;32m   1108\u001B[0m         dim, _ \u001B[38;5;241m=\u001B[39m tgt\u001B[38;5;241m.\u001B[39mdim\n",
      "\u001B[0;31mTypeError\u001B[0m: 'ExperimentData' object is not subscriptable"
     ]
    }
   ],
   "source": [
    "from qiskit.quantum_info import Statevector\n",
    "\n",
    "simulate_pulse_input(\n",
    "    q_env.backend,\n",
    "    sched,\n",
    "    target_unitary=Operator(qc.remove_final_measurements(inplace=False)),\n",
    "    target_state=Statevector(qc.remove_final_measurements(inplace=False)),\n",
    ")\n",
    "np.linalg.norm(q_env.backend._dressed_states[:, 0])"
   ]
  },
  {
   "cell_type": "code",
   "id": "fa0ecdc37680cef2",
   "metadata": {
    "ExecuteTime": {
     "end_time": "2025-03-13T05:35:16.430169Z",
     "start_time": "2025-03-13T05:35:09.039241Z"
    }
   },
   "source": [
    "from qiskit import pulse\n",
    "from qiskit.providers.fake_provider import GenericBackendV2\n",
    "from qiskit.transpiler import InstructionProperties\n",
    "from qiskit_dynamics import DynamicsBackend\n",
    "from pulse_level.qiskit_pulse.dynamics_backends.dynamics_config import (\n",
    "    fixed_frequency_transmon_backend,\n",
    ")\n",
    "from rl_qoc.helpers import (\n",
    "    perform_standard_calibrations,\n",
    "    custom_experiment_result_function,\n",
    ")\n",
    "from qiskit.circuit.library import get_standard_gate_name_mapping\n",
    "\n",
    "gate_map = get_standard_gate_name_mapping()\n",
    "\n",
    "print(\"Custom backend used\")\n",
    "dims = [2, 2]\n",
    "freqs = [4.86e9, 4.97e9]\n",
    "anharmonicities = [-0.33e9, -0.32e9]\n",
    "rabi_freqs = [0.22e9, 0.26e9]\n",
    "couplings = {(0, 1): 0.002e9}\n",
    "backend = fixed_frequency_transmon_backend(\n",
    "    dims,\n",
    "    freqs,\n",
    "    anharmonicities,\n",
    "    rabi_freqs,\n",
    "    couplings,\n",
    "    experiment_result_function=custom_experiment_result_function,\n",
    ")"
   ],
   "outputs": [
    {
     "name": "stdout",
     "output_type": "stream",
     "text": [
      "Custom backend used\n"
     ]
    }
   ],
   "execution_count": 1
  },
  {
   "metadata": {
    "ExecuteTime": {
     "end_time": "2025-03-13T05:35:29.344436Z",
     "start_time": "2025-03-13T05:35:29.309494Z"
    }
   },
   "cell_type": "code",
   "source": [
    "with pulse.build(backend) as sched:\n",
    "    pulse.play(\n",
    "        pulse.Drag(amp=0.2, duration=20, sigma=30, beta=0.3), pulse.drive_channel(0)\n",
    "    )"
   ],
   "id": "b7c4b813861f55c2",
   "outputs": [
    {
     "name": "stderr",
     "output_type": "stream",
     "text": [
      "/var/folders/5w/ygx15jq94z5dzxwkmbbj8zfm0000gn/T/ipykernel_59762/3876561035.py:1: DeprecationWarning: The function ``qiskit.pulse.builder.build()`` is deprecated as of Qiskit 1.3. It will be removed in Qiskit 2.0. The entire Qiskit Pulse package is being deprecated and will be moved to the Qiskit Dynamics repository: https://github.com/qiskit-community/qiskit-dynamics\n",
      "  with pulse.build(backend) as sched:\n",
      "/var/folders/5w/ygx15jq94z5dzxwkmbbj8zfm0000gn/T/ipykernel_59762/3876561035.py:2: DeprecationWarning: The function ``qiskit.pulse.builder.drive_channel()`` is deprecated as of Qiskit 1.3. It will be removed in Qiskit 2.0. The entire Qiskit Pulse package is being deprecated and will be moved to the Qiskit Dynamics repository: https://github.com/qiskit-community/qiskit-dynamics\n",
      "  pulse.play(pulse.Drag(amp=0.2, duration=20, sigma=30, beta=0.3), pulse.drive_channel(0))\n",
      "/var/folders/5w/ygx15jq94z5dzxwkmbbj8zfm0000gn/T/ipykernel_59762/3876561035.py:2: DeprecationWarning: The function ``qiskit.pulse.builder.play()`` is deprecated as of Qiskit 1.3. It will be removed in Qiskit 2.0. The entire Qiskit Pulse package is being deprecated and will be moved to the Qiskit Dynamics repository: https://github.com/qiskit-community/qiskit-dynamics\n",
      "  pulse.play(pulse.Drag(amp=0.2, duration=20, sigma=30, beta=0.3), pulse.drive_channel(0))\n"
     ]
    }
   ],
   "execution_count": 3
  },
  {
   "metadata": {
    "ExecuteTime": {
     "end_time": "2025-03-13T05:35:36.539629Z",
     "start_time": "2025-03-13T05:35:36.536270Z"
    }
   },
   "cell_type": "code",
   "source": [
    "backend.target.add_instruction(gate_map[\"x\"], {(0,): None, (1,): None})\n",
    "backend.target.add_instruction(gate_map[\"sx\"], {(0,): None, (1,): None})\n",
    "backend.target.add_instruction(gate_map[\"rz\"], {(0,): None, (1,): None})\n",
    "backend.target.add_instruction(gate_map[\"delay\"], {(0,): None, (1,): None})"
   ],
   "id": "12c733f40e95f861",
   "outputs": [],
   "execution_count": 4
  },
  {
   "metadata": {
    "ExecuteTime": {
     "end_time": "2025-03-13T05:35:42.756512Z",
     "start_time": "2025-03-13T05:35:42.753601Z"
    }
   },
   "cell_type": "code",
   "source": [
    "backend.target.update_instruction_properties(\n",
    "    \"sx\", (0,), InstructionProperties(duration=100, error=0.0, calibration=sched)\n",
    ")"
   ],
   "id": "9671f50faed38fb4",
   "outputs": [
    {
     "name": "stderr",
     "output_type": "stream",
     "text": [
      "/var/folders/5w/ygx15jq94z5dzxwkmbbj8zfm0000gn/T/ipykernel_59762/1173896746.py:1: DeprecationWarning: ``qiskit.transpiler.target.InstructionProperties.__init__()``'s argument ``calibration`` is deprecated as of Qiskit 1.3. It will be removed in Qiskit 2.0. The entire Qiskit Pulse package is being deprecated and this argument uses a dependency on the package.\n",
      "  backend.target.update_instruction_properties('sx', (0,), InstructionProperties(duration=100, error=0., calibration=sched))\n"
     ]
    }
   ],
   "execution_count": 5
  },
  {
   "metadata": {
    "ExecuteTime": {
     "end_time": "2025-03-13T05:35:55.019589Z",
     "start_time": "2025-03-13T05:35:55.016892Z"
    }
   },
   "cell_type": "code",
   "source": "print(backend.target)",
   "id": "b6e3583a962acf64",
   "outputs": [
    {
     "name": "stdout",
     "output_type": "stream",
     "text": [
      "Target\n",
      "Number of qubits: 2\n",
      "Instructions:\n",
      "\tmeasure\n",
      "\t\t(0,):\n",
      "\t\t\tWith pulse schedule calibration\n",
      "\t\t(1,):\n",
      "\t\t\tWith pulse schedule calibration\n",
      "\tx\n",
      "\t\t(0,)\n",
      "\t\t(1,)\n",
      "\tsx\n",
      "\t\t(0,):\n",
      "\t\t\tDuration: 100 sec.\n",
      "\t\t\tError Rate: 0\n",
      "\t\t\tWith pulse schedule calibration\n",
      "\t\t(1,)\n",
      "\trz\n",
      "\t\t(0,)\n",
      "\t\t(1,)\n",
      "\tdelay\n",
      "\t\t(0,)\n",
      "\t\t(1,)\n",
      "\n"
     ]
    }
   ],
   "execution_count": 6
  },
  {
   "metadata": {
    "ExecuteTime": {
     "end_time": "2025-03-13T05:36:02.876464Z",
     "start_time": "2025-03-13T05:36:02.869292Z"
    }
   },
   "cell_type": "code",
   "source": "backend.target[\"sx\"][(0,)].calibration",
   "id": "88683066beec4c5e",
   "outputs": [
    {
     "name": "stderr",
     "output_type": "stream",
     "text": [
      "/var/folders/5w/ygx15jq94z5dzxwkmbbj8zfm0000gn/T/ipykernel_59762/1115012205.py:1: DeprecationWarning: The property ``qiskit.transpiler.target.InstructionProperties.calibration`` is deprecated as of Qiskit 1.3. It will be removed in Qiskit 2.0. The entire Qiskit Pulse package is being deprecated and will be moved to the Qiskit Dynamics repository: https://github.com/qiskit-community/qiskit-dynamics. Note that once removed, ``qiskit.transpiler.target.InstructionProperties.calibration`` will have no alternative in Qiskit.\n",
      "  backend.target[\"sx\"][(0,)].calibration\n"
     ]
    },
    {
     "data": {
      "text/plain": [
       "ScheduleBlock(Play(Drag(duration=20, sigma=30, beta=0.3, amp=0.2, angle=0.0), DriveChannel(0)), name=\"block3\", transform=AlignLeft())"
      ]
     },
     "execution_count": 7,
     "metadata": {},
     "output_type": "execute_result"
    }
   ],
   "execution_count": 7
  },
  {
   "metadata": {
    "ExecuteTime": {
     "end_time": "2025-03-13T05:36:10.899552Z",
     "start_time": "2025-03-13T05:36:10.897139Z"
    }
   },
   "cell_type": "code",
   "source": "print(backend.target)",
   "id": "f603f2958be3b4bb",
   "outputs": [
    {
     "name": "stdout",
     "output_type": "stream",
     "text": [
      "Target\n",
      "Number of qubits: 2\n",
      "Instructions:\n",
      "\tmeasure\n",
      "\t\t(0,):\n",
      "\t\t\tWith pulse schedule calibration\n",
      "\t\t(1,):\n",
      "\t\t\tWith pulse schedule calibration\n",
      "\tx\n",
      "\t\t(0,)\n",
      "\t\t(1,)\n",
      "\tsx\n",
      "\t\t(0,):\n",
      "\t\t\tDuration: 100 sec.\n",
      "\t\t\tWith pulse schedule calibration\n",
      "\t\t(1,)\n",
      "\trz\n",
      "\t\t(0,)\n",
      "\t\t(1,)\n",
      "\tdelay\n",
      "\t\t(0,)\n",
      "\t\t(1,)\n",
      "\n"
     ]
    }
   ],
   "execution_count": 11
  },
  {
   "metadata": {
    "ExecuteTime": {
     "end_time": "2025-03-13T05:26:30.171711Z",
     "start_time": "2025-03-13T05:26:30.167746Z"
    }
   },
   "cell_type": "code",
   "source": [
    "from qiskit import pulse\n",
    "from qiskit.circuit.library import RZGate, SGate\n",
    "from qiskit.providers.fake_provider import FakeOpenPulse2Q\n",
    "from qiskit.circuit import Gate, Parameter\n",
    "from qiskit.transpiler import InstructionProperties\n",
    "import numpy as np\n",
    "def minimal_calibrations(backend: DynamicsBackend):\n",
    "    \"\"\"\n",
    "    Minimal example to add gate calibrations for rz and s gates.\n",
    "    :param backend: Dynamics Backend on which calibrations should be run\n",
    "    \"\"\"\n",
    "    if not isinstance(backend, DynamicsBackend):\n",
    "        raise TypeError(f\"Backend must be a DynamicsBackend instance (given: {type(backend)})\")\n",
    "\n",
    "    target, qubits, dt = backend.target, range(backend.num_qubits), backend.dt\n",
    "    num_qubits = len(qubits)\n",
    "    single_qubit_properties = {(qubit,): None for qubit in qubits}\n",
    "    \n",
    "\n",
    "    standard_gates = gate_map # standard gate library\n",
    "    fixed_phase_gates, fixed_phases = [\"rz\", \"s\"], np.pi * np.array([1, 0.5])\n",
    "    for \n",
    "    phi: Parameter = standard_gates[\"rz\"].params[0]\n",
    "\n",
    "    for qubit in qubits:  # Add calibrations for each qubit\n",
    "        # Calibration of RZ gate, virtual Z-rotation\n",
    "        with pulse.build(backend, name=f\"rz{qubit}\") as rz_cal:\n",
    "            pulse.shift_phase(-phi, pulse.DriveChannel(qubit))\n",
    "\n",
    "        # Update backend Target by adding calibrations for all phase gates (fixed angle virtual Z-rotations)\n",
    "        for phase, gate in zip(fixed_phases, fixed_phase_gates):\n",
    "            gate_cal = rz_cal.assign_parameters({phi: phase}, inplace=False)\n",
    "            instruction_prop = InstructionProperties(\n",
    "                gate_cal.duration * dt, 0.0, gate_cal\n",
    "            )\n",
    "            target.update_instruction_properties(gate, (qubit,), instruction_prop)\n",
    "\n",
    "    print(\"All single qubit calibrations are done\")\n",
    "    print(\"Updated Instruction Schedule Map\", target.instruction_schedule_map())\n",
    "\n",
    "\n"
   ],
   "id": "e08fabd9f3c7744",
   "outputs": [],
   "execution_count": 15
  },
  {
   "metadata": {
    "ExecuteTime": {
     "end_time": "2025-03-13T05:26:30.827450Z",
     "start_time": "2025-03-13T05:26:30.724238Z"
    }
   },
   "cell_type": "code",
   "source": "minimal_calibrations(backend)",
   "id": "3d6c2141d9d74cda",
   "outputs": [
    {
     "name": "stderr",
     "output_type": "stream",
     "text": [
      "/var/folders/5w/ygx15jq94z5dzxwkmbbj8zfm0000gn/T/ipykernel_58350/708545610.py:26: DeprecationWarning: The function ``qiskit.pulse.builder.build()`` is deprecated as of Qiskit 1.3. It will be removed in Qiskit 2.0. The entire Qiskit Pulse package is being deprecated and will be moved to the Qiskit Dynamics repository: https://github.com/qiskit-community/qiskit-dynamics\n",
      "  with pulse.build(backend, name=f\"rz{qubit}\") as rz_cal:\n",
      "/var/folders/5w/ygx15jq94z5dzxwkmbbj8zfm0000gn/T/ipykernel_58350/708545610.py:27: DeprecationWarning: The class ``qiskit.pulse.channels.Channel`` is deprecated as of Qiskit 1.3. It will be removed in Qiskit 2.0. The entire Qiskit Pulse package is being deprecated and will be moved to the Qiskit Dynamics repository: https://github.com/qiskit-community/qiskit-dynamics\n",
      "  pulse.shift_phase(-phi, pulse.DriveChannel(qubit))\n",
      "/var/folders/5w/ygx15jq94z5dzxwkmbbj8zfm0000gn/T/ipykernel_58350/708545610.py:27: DeprecationWarning: The function ``qiskit.pulse.builder.shift_phase()`` is deprecated as of Qiskit 1.3. It will be removed in Qiskit 2.0. The entire Qiskit Pulse package is being deprecated and will be moved to the Qiskit Dynamics repository: https://github.com/qiskit-community/qiskit-dynamics\n",
      "  pulse.shift_phase(-phi, pulse.DriveChannel(qubit))\n",
      "/var/folders/5w/ygx15jq94z5dzxwkmbbj8zfm0000gn/T/ipykernel_58350/708545610.py:32: DeprecationWarning: ``qiskit.transpiler.target.InstructionProperties.__init__()``'s argument ``calibration`` is deprecated as of Qiskit 1.3. It will be removed in Qiskit 2.0. The entire Qiskit Pulse package is being deprecated and this argument uses a dependency on the package.\n",
      "  instruction_prop = InstructionProperties(\n"
     ]
    },
    {
     "ename": "KeyError",
     "evalue": "'Provided instruction: \\'\"rz\"\\' not in this Target.'",
     "output_type": "error",
     "traceback": [
      "\u001B[0;31m---------------------------------------------------------------------------\u001B[0m",
      "\u001B[0;31mKeyError\u001B[0m                                  Traceback (most recent call last)",
      "Cell \u001B[0;32mIn[16], line 1\u001B[0m\n\u001B[0;32m----> 1\u001B[0m minimal_calibrations(backend)\n",
      "Cell \u001B[0;32mIn[15], line 35\u001B[0m, in \u001B[0;36mminimal_calibrations\u001B[0;34m(backend)\u001B[0m\n\u001B[1;32m     31\u001B[0m         gate_cal \u001B[38;5;241m=\u001B[39m rz_cal\u001B[38;5;241m.\u001B[39massign_parameters({phi: phase}, inplace\u001B[38;5;241m=\u001B[39m\u001B[38;5;28;01mFalse\u001B[39;00m)\n\u001B[1;32m     32\u001B[0m         instruction_prop \u001B[38;5;241m=\u001B[39m InstructionProperties(\n\u001B[1;32m     33\u001B[0m             gate_cal\u001B[38;5;241m.\u001B[39mduration \u001B[38;5;241m*\u001B[39m dt, \u001B[38;5;241m0.0\u001B[39m, gate_cal\n\u001B[1;32m     34\u001B[0m         )\n\u001B[0;32m---> 35\u001B[0m         target\u001B[38;5;241m.\u001B[39mupdate_instruction_properties(gate, (qubit,), instruction_prop)\n\u001B[1;32m     37\u001B[0m \u001B[38;5;28mprint\u001B[39m(\u001B[38;5;124m\"\u001B[39m\u001B[38;5;124mAll single qubit calibrations are done\u001B[39m\u001B[38;5;124m\"\u001B[39m)\n\u001B[1;32m     38\u001B[0m \u001B[38;5;28mprint\u001B[39m(\u001B[38;5;124m\"\u001B[39m\u001B[38;5;124mUpdated Instruction Schedule Map\u001B[39m\u001B[38;5;124m\"\u001B[39m, target\u001B[38;5;241m.\u001B[39minstruction_schedule_map())\n",
      "File \u001B[0;32m~/anaconda3/envs/rl_qoc/lib/python3.11/site-packages/qiskit/transpiler/target.py:461\u001B[0m, in \u001B[0;36mTarget.update_instruction_properties\u001B[0;34m(self, instruction, qargs, properties)\u001B[0m\n\u001B[1;32m    451\u001B[0m \u001B[38;5;28;01mdef\u001B[39;00m \u001B[38;5;21mupdate_instruction_properties\u001B[39m(\u001B[38;5;28mself\u001B[39m, instruction, qargs, properties):\n\u001B[1;32m    452\u001B[0m \u001B[38;5;250m    \u001B[39m\u001B[38;5;124;03m\"\"\"Update the property object for an instruction qarg pair already in the Target\u001B[39;00m\n\u001B[1;32m    453\u001B[0m \n\u001B[1;32m    454\u001B[0m \u001B[38;5;124;03m    Args:\u001B[39;00m\n\u001B[0;32m   (...)\u001B[0m\n\u001B[1;32m    459\u001B[0m \u001B[38;5;124;03m        KeyError: If ``instruction`` or ``qarg`` are not in the target\u001B[39;00m\n\u001B[1;32m    460\u001B[0m \u001B[38;5;124;03m    \"\"\"\u001B[39;00m\n\u001B[0;32m--> 461\u001B[0m     \u001B[38;5;28msuper\u001B[39m()\u001B[38;5;241m.\u001B[39mupdate_instruction_properties(instruction, qargs, properties)\n\u001B[1;32m    462\u001B[0m     \u001B[38;5;28mself\u001B[39m\u001B[38;5;241m.\u001B[39m_gate_map[instruction][qargs] \u001B[38;5;241m=\u001B[39m properties\n\u001B[1;32m    463\u001B[0m     \u001B[38;5;28mself\u001B[39m\u001B[38;5;241m.\u001B[39m_instruction_durations \u001B[38;5;241m=\u001B[39m \u001B[38;5;28;01mNone\u001B[39;00m\n",
      "\u001B[0;31mKeyError\u001B[0m: 'Provided instruction: \\'\"rz\"\\' not in this Target.'"
     ]
    }
   ],
   "execution_count": 16
  },
  {
   "metadata": {},
   "cell_type": "code",
   "outputs": [],
   "execution_count": null,
   "source": "",
   "id": "8d4b710a24688596"
  }
 ],
 "metadata": {
  "kernelspec": {
   "display_name": "Python 3 (ipykernel)",
   "language": "python",
   "name": "python3"
  },
  "language_info": {
   "codemirror_mode": {
    "name": "ipython",
    "version": 3
   },
   "file_extension": ".py",
   "mimetype": "text/x-python",
   "name": "python",
   "nbconvert_exporter": "python",
   "pygments_lexer": "ipython3",
   "version": "3.11.9"
  }
 },
 "nbformat": 4,
 "nbformat_minor": 5
}

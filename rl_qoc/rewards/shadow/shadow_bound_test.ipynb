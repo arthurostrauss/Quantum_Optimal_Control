{
 "cells": [
  {
   "cell_type": "code",
   "execution_count": 104,
   "id": "c80027e7",
   "metadata": {},
   "outputs": [],
   "source": [
    "from qiskit.circuit import QuantumCircuit, ParameterVector, QuantumRegister\n",
    "from qiskit.circuit.library import RXGate, UGate, RZXGate\n",
    "from qiskit.quantum_info import Statevector, state_fidelity, DensityMatrix, random_statevector, Choi, Operator, SuperOp, SparsePauliOp, Pauli\n",
    "import numpy as np\n",
    "\n",
    "from rl_qoc import QuantumEnvironment, QiskitConfig, QEnvConfig, ExecutionConfig, StateTarget, ShadowReward, GateTarget"
   ]
  },
  {
   "cell_type": "code",
   "execution_count": null,
   "id": "0ccb8c3d",
   "metadata": {},
   "outputs": [],
   "source": [
    "def shadow_bound_state(error, observables, failure_rate=0.01):\n",
    "   \n",
    "    M = len(observables)\n",
    "    K = 2 * np.log(2 * M / failure_rate)\n",
    "    shadow_norm = (\n",
    "        lambda op: np.linalg.norm(\n",
    "            op - np.trace(op) / 2 ** int(np.log2(op.shape[0])), ord=np.inf\n",
    "        )\n",
    "        ** 2\n",
    "    )\n",
    "    N = 34 * max(shadow_norm(o) for o in observables) / error ** 2\n",
    "    return max(int(np.ceil(N * K)), 10000), int(K), M           #sometimes N = 0. A limit of 10000 is set to prevent this\n"
   ]
  },
  {
   "cell_type": "code",
   "execution_count": 3,
   "id": "af20f8ab",
   "metadata": {},
   "outputs": [],
   "source": [
    "def shadow_bound_state2(error, observables, coeffs, failure_rate=0.01):\n",
    "   \n",
    "    M = len(observables)\n",
    "    K = 2 * np.log(2 * M / failure_rate)\n",
    "    shadow_norm = (\n",
    "        lambda op: np.linalg.norm(\n",
    "            op - np.trace(op) / 2 ** int(np.log2(op.shape[0])), ord=np.inf\n",
    "        )\n",
    "        ** 2\n",
    "    )\n",
    "    N = 34 * max(shadow_norm(observables[i]) * coeffs[i]**2 for i in range(len(observables))) / error ** 2\n",
    "    \n",
    "    return max(int(np.ceil(N.real * K)), 10000), int(K), M           #sometimes N = 0. A limit of 10000 is set to prevent this\n"
   ]
  },
  {
   "cell_type": "code",
   "execution_count": null,
   "id": "093704cc",
   "metadata": {},
   "outputs": [],
   "source": [
    "# TEST 1: 2 qubits, 1 parameter only\n",
    "\n",
    "# simplified 2 qubit circuit of one parameter\n",
    "def apply_parametrized_gate(qc: QuantumCircuit, params: ParameterVector, qr: QuantumRegister, *args, **kwargs):\n",
    "    #test circuit 1\n",
    "    qc.ry(params[0], 0)\n",
    "    qc.cx(0,1)\n",
    "\n",
    "# 2 qubit parametrized bell state of one parameter\n",
    "theta = np.pi #generate a random target state; this is the goal we want to obtain\n",
    "tgt_state = (np.cos(theta/2) * Statevector.from_label('00') + np.sin(theta/2) * Statevector.from_label('11'))  \n",
    "tgt_state_dm = DensityMatrix(tgt_state)\n",
    "params =  np.array([[theta]])\n",
    "\n",
    "observable_decomp = SparsePauliOp.from_operator(Operator(tgt_state_dm))\n",
    "pauli_coeff = observable_decomp.coeffs   #to also be used in shadow bound\n",
    "pauli_str = observable_decomp.paulis\n",
    "observables = [Pauli(str).to_matrix() for str in pauli_str]\n",
    "error = 0.1  # Set the error tolerance for the shadow bound state\n",
    "shadow_size, partition, no_observables = shadow_bound_state2(error, observables, pauli_coeff)\n",
    "print(\"Shadow Size, Partition, Number of Observables: \", shadow_size, partition, no_observables)"
   ]
  },
  {
   "cell_type": "code",
   "execution_count": 124,
   "id": "0c3b9664",
   "metadata": {},
   "outputs": [],
   "source": [
    "#TEST 2: 2 qubits, random target state\n",
    "def calculate_shadow_bounds(tgt_state_dm, error):\n",
    "    observable_decomp = SparsePauliOp.from_operator(Operator(tgt_state_dm))\n",
    "    pauli_coeff = observable_decomp.coeffs   #to also be used in shadow bound\n",
    "    pauli_str = observable_decomp.paulis\n",
    "    observables = [Pauli(str).to_matrix() for str in pauli_str]\n",
    "    shadow_size, partition, no_observables = shadow_bound_state2(error, observables, pauli_coeff)\n",
    "    print(\"Shadow Size, Partition, Number of Observables: \", shadow_size, partition, no_observables)\n",
    "\n",
    "#TEST 3: 2 qubits , random target state, no decomposition\n",
    "def calculate_shadow_bounds_no_decomp(tgt_state_dm, error):\n",
    "    observables = [tgt_state_dm.data]\n",
    "    shadow_size, partition, no_observables = shadow_bound_state(error, observables, failure_rate=0.01)\n",
    "    print(\"Shadow Size, Partition, Number of Observables, no decomp: \", shadow_size, partition, no_observables)"
   ]
  },
  {
   "cell_type": "code",
   "execution_count": 155,
   "id": "0202acfa",
   "metadata": {},
   "outputs": [
    {
     "name": "stdout",
     "output_type": "stream",
     "text": [
      "Shadow Size, Partition, Number of Observables:  64807 21 256\n",
      "Shadow Size, Partition, Number of Observables, no decomp:  109412 10 1\n",
      "DM dimensions:  (16, 16)\n"
     ]
    }
   ],
   "source": [
    "for n in range(1):\n",
    "    no_qubits = 4\n",
    "    error = 0.1\n",
    "    tgt_state = random_statevector(2**no_qubits)  \n",
    "    tgt_state_dm = DensityMatrix(tgt_state)\n",
    "    calculate_shadow_bounds(tgt_state_dm, error)\n",
    "    calculate_shadow_bounds_no_decomp(tgt_state_dm, error)\n",
    "\n",
    "# decompose is almost always better for the bounds\n",
    "print(\"DM dimensions: \" , tgt_state_dm.data.shape)"
   ]
  },
  {
   "cell_type": "code",
   "execution_count": 130,
   "id": "45f5e053",
   "metadata": {},
   "outputs": [
    {
     "name": "stdout",
     "output_type": "stream",
     "text": [
      "Shadow Size, Partition, Number of Observables:  27120 14 6\n",
      "Shadow Size, Partition, Number of Observables, no decomp:  44159 10 1\n",
      "DM dimensions:  (4, 4)\n"
     ]
    }
   ],
   "source": [
    "# Choi State; 1 Qubit Test, ry gate\n",
    "num_qubits = 1\n",
    "error = 0.1\n",
    "\n",
    "params = np.array([np.random.rand()*2* np.pi])\n",
    "qc = QuantumCircuit(num_qubits)\n",
    "qc.ry(2*params[0], 0)\n",
    "specific_gate = qc.to_gate(label=\"U_entangle\")\n",
    "gate_target = GateTarget(specific_gate)\n",
    "target_choi = Choi(gate_target.target_operator)\n",
    "target_choi_dm = DensityMatrix(target_choi.data/ 2**num_qubits)\n",
    "calculate_shadow_bounds(target_choi_dm, error)\n",
    "calculate_shadow_bounds_no_decomp(target_choi_dm, error)\n",
    "print(\"DM dimensions: \" , target_choi_dm.data.shape)"
   ]
  },
  {
   "cell_type": "code",
   "execution_count": 131,
   "id": "9a748d53",
   "metadata": {},
   "outputs": [
    {
     "name": "stdout",
     "output_type": "stream",
     "text": [
      "Shadow Size, Partition, Number of Observables:  29074 15 10\n",
      "Shadow Size, Partition, Number of Observables, no decomp:  50489 10 1\n",
      "DM dimensions:  (4, 4)\n"
     ]
    }
   ],
   "source": [
    "# Choi State; 1 Qubit Test, randomised U gate\n",
    "num_qubits = 1\n",
    "error = 0.1\n",
    "\n",
    "params = ParameterVector(\"theta\", 3)\n",
    "qc = QuantumCircuit(1)\n",
    "qc.u(params[0], params[1], params[2], 0)\n",
    "\n",
    "\n",
    "# Create parameterized gate\n",
    "param_gate = qc.to_gate(label=\"U_entangle\")\n",
    "param_random = np.array([np.random.rand()*2* np.pi for n in range(3)])\n",
    "bound_qc = qc.assign_parameters({\n",
    "    params[0]: param_random[0],\n",
    "    params[1]: param_random[1],\n",
    "    params[2]: param_random[2],\n",
    "})\n",
    "\n",
    "specific_gate = bound_qc.to_gate(label=\"U_entangle\")\n",
    "\n",
    "gate_target = GateTarget(specific_gate)\n",
    "\n",
    "target_choi = Choi(gate_target.target_operator)\n",
    "target_choi_dm = DensityMatrix(target_choi.data / 2**num_qubits)\n",
    "calculate_shadow_bounds(target_choi_dm, error)\n",
    "calculate_shadow_bounds_no_decomp(target_choi_dm, error)\n",
    "print(\"DM dimensions: \" , target_choi_dm.data.shape)"
   ]
  },
  {
   "cell_type": "code",
   "execution_count": 157,
   "id": "3ce3204f",
   "metadata": {},
   "outputs": [
    {
     "name": "stdout",
     "output_type": "stream",
     "text": [
      "Shadow Size, Partition, Number of Observables:  59189 19 100\n",
      "Shadow Size, Partition, Number of Observables, no decomp:  110082 10 1\n",
      "DM dimensions:  (16, 16)\n"
     ]
    }
   ],
   "source": [
    "# Choi State; 2 Qubit Test, randomised U gate\n",
    "num_qubits = 2\n",
    "error = 0.1\n",
    "\n",
    "params = ParameterVector(\"theta\", 6)\n",
    "qc = QuantumCircuit(num_qubits)\n",
    "qc.u(params[0], params[1], params[2], 0)\n",
    "qc.u(params[3], params[4], params[5], 1)\n",
    "qc.cx(0, 1)\n",
    "\n",
    "# Create parameterized gate\n",
    "param_gate = qc.to_gate(label=\"U_entangle\")\n",
    "param_random = np.array([np.random.rand()*2* np.pi for n in range(6)])\n",
    "bound_qc = qc.assign_parameters({\n",
    "    params[0]: param_random[0],\n",
    "    params[1]: param_random[1],\n",
    "    params[2]: param_random[2],\n",
    "    params[3]: param_random[3],\n",
    "    params[4]: param_random[4],\n",
    "    params[5]: param_random[5],\n",
    "})\n",
    "\n",
    "specific_gate = bound_qc.to_gate(label=\"U_entangle\")\n",
    "\n",
    "gate_target = GateTarget(specific_gate)\n",
    "\n",
    "target_choi = Choi(gate_target.target_operator)\n",
    "target_choi_dm = DensityMatrix(target_choi.data / 2**num_qubits)\n",
    "calculate_shadow_bounds(target_choi_dm, error)\n",
    "calculate_shadow_bounds_no_decomp(target_choi_dm, error)\n",
    "print(\"DM dimensions: \" , target_choi_dm.data.shape)"
   ]
  },
  {
   "cell_type": "code",
   "execution_count": 145,
   "id": "5abbf216",
   "metadata": {},
   "outputs": [
    {
     "name": "stdout",
     "output_type": "stream",
     "text": [
      "Fidelity between original and decomposed DM:  1.0\n"
     ]
    }
   ],
   "source": [
    "#study fidelity between decomposed and original choi state - teh breakdown is correct\n",
    "\n",
    "observable_decomp = SparsePauliOp.from_operator(Operator(target_choi_dm))\n",
    "pauli_coeff = observable_decomp.coeffs   #to also be used in shadow bound\n",
    "pauli_str = observable_decomp.paulis\n",
    "observables = [Pauli(str).to_matrix() for str in pauli_str]\n",
    "observable_total = np.zeros(observables[0].shape, dtype=complex)\n",
    "for i in range(len(pauli_str)):\n",
    "    observable_total += pauli_coeff[i] * observables[i]\n",
    "\n",
    "observable_total_dm = DensityMatrix(observable_total / np.trace(observable_total))\n",
    "print(\"Fidelity between original and decomposed DM: \", state_fidelity(target_choi_dm, observable_total_dm))"
   ]
  },
  {
   "cell_type": "code",
   "execution_count": null,
   "id": "9db238d3",
   "metadata": {},
   "outputs": [
    {
     "name": "stdout",
     "output_type": "stream",
     "text": [
      "Shadow Size, Partition, Number of Observables:  97438 28 9352\n",
      "Shadow Size, Partition, Number of Observables, no decomp:  201245 10 1\n",
      "DM dimensions:  (256, 256)\n"
     ]
    }
   ],
   "source": [
    "# Choi State; 4 Qubit Test, randomised U gate\n",
    "num_qubits = 4\n",
    "error = 0.1\n",
    "\n",
    "params = ParameterVector(\"theta\", 3*num_qubits)\n",
    "qc = QuantumCircuit(num_qubits)\n",
    "qc.u(params[0], params[1], params[2], 0)\n",
    "qc.u(params[3], params[4], params[5], 1)\n",
    "qc.u(params[6], params[7], params[8], 2)\n",
    "qc.u(params[9], params[10], params[11], 3)\n",
    "qc.cx(0, 1)\n",
    "qc.cx(0, 2)\n",
    "qc.cx(1, 2)\n",
    "qc.cx(0, 3)\n",
    "qc.cx(1, 3)\n",
    "qc.cx(2, 3)\n",
    "\n",
    "# Create parameterized gate\n",
    "param_gate = qc.to_gate(label=\"U_entangle\")\n",
    "param_random = np.array([np.random.rand()*2* np.pi for n in range(num_qubits*3)])\n",
    "bound_qc = qc.assign_parameters({\n",
    "    params[0]: param_random[0],\n",
    "    params[1]: param_random[1],\n",
    "    params[2]: param_random[2],\n",
    "    params[3]: param_random[3],\n",
    "    params[4]: param_random[4],\n",
    "    params[5]: param_random[5],\n",
    "    params[6]: param_random[6],\n",
    "    params[7]: param_random[7],\n",
    "    params[8]: param_random[8],\n",
    "    params[9]: param_random[9],\n",
    "    params[10]: param_random[10],\n",
    "    params[11]: param_random[11],\n",
    "})\n",
    "\n",
    "specific_gate = bound_qc.to_gate(label=\"U_entangle\")\n",
    "\n",
    "gate_target = GateTarget(specific_gate)\n",
    "\n",
    "target_choi = Choi(gate_target.target_operator)\n",
    "target_choi_dm = DensityMatrix(target_choi.data / 2**num_qubits)\n",
    "calculate_shadow_bounds(target_choi_dm, error)\n",
    "calculate_shadow_bounds_no_decomp(target_choi_dm, error)\n",
    "print(\"DM dimensions: \" , target_choi_dm.data.shape)"
   ]
  },
  {
   "cell_type": "code",
   "execution_count": null,
   "id": "744c3dab",
   "metadata": {},
   "outputs": [],
   "source": []
  }
 ],
 "metadata": {
  "kernelspec": {
   "display_name": "rl_qoc",
   "language": "python",
   "name": "python3"
  },
  "language_info": {
   "codemirror_mode": {
    "name": "ipython",
    "version": 3
   },
   "file_extension": ".py",
   "mimetype": "text/x-python",
   "name": "python",
   "nbconvert_exporter": "python",
   "pygments_lexer": "ipython3",
   "version": "3.10.12"
  }
 },
 "nbformat": 4,
 "nbformat_minor": 5
}

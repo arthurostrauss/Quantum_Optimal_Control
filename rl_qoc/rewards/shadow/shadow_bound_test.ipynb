{
 "cells": [
  {
   "cell_type": "code",
   "execution_count": 1,
   "id": "c80027e7",
   "metadata": {},
   "outputs": [
    {
     "name": "stderr",
     "output_type": "stream",
     "text": [
      "c:\\Users\\Admin\\.conda\\envs\\rl_qoc\\lib\\site-packages\\tqdm\\auto.py:21: TqdmWarning: IProgress not found. Please update jupyter and ipywidgets. See https://ipywidgets.readthedocs.io/en/stable/user_install.html\n",
      "  from .autonotebook import tqdm as notebook_tqdm\n",
      "C:\\Users\\Admin\\Documents\\Python Scripts\\Quantum_Optimal_Control\\rl_qoc\\helpers\\__init__.py:9: UserWarning: pulse_utils is not available\n",
      "  warnings.warn(\"pulse_utils is not available\")\n"
     ]
    }
   ],
   "source": [
    "from qiskit.circuit import QuantumCircuit, ParameterVector, QuantumRegister\n",
    "from qiskit.circuit.library import RXGate, UGate, RZXGate\n",
    "from qiskit.quantum_info import Statevector, state_fidelity, DensityMatrix, random_statevector, Choi, Operator, SuperOp, SparsePauliOp, Pauli\n",
    "import numpy as np\n",
    "\n",
    "from rl_qoc import QuantumEnvironment, QiskitConfig, QEnvConfig, ExecutionConfig, StateTarget, ShadowReward, GateTarget"
   ]
  },
  {
   "cell_type": "code",
   "execution_count": 2,
   "id": "0ccb8c3d",
   "metadata": {},
   "outputs": [],
   "source": [
    "def shadow_bound_state(error, observables, failure_rate=0.01):\n",
    "   \n",
    "    M = len(observables)\n",
    "    K = 2 * np.log(2 * M / failure_rate)\n",
    "    shadow_norm = (\n",
    "        lambda op: np.linalg.norm(\n",
    "            op - np.trace(op) / 2 ** int(np.log2(op.shape[0])), ord=np.inf\n",
    "        )\n",
    "        ** 2\n",
    "    )\n",
    "    N = 34 * max(shadow_norm(o) for o in observables) / error ** 2\n",
    "    return max(int(np.ceil(N * K)), 10000), int(K), M           #sometimes N = 0. A limit of 10000 is set to prevent this\n"
   ]
  },
  {
   "cell_type": "code",
   "execution_count": 3,
   "id": "af20f8ab",
   "metadata": {},
   "outputs": [],
   "source": [
    "def shadow_bound_state2(error, observables, coeffs, failure_rate=0.01):\n",
    "   \n",
    "    M = len(observables)\n",
    "    K = 2 * np.log(2 * M / failure_rate)\n",
    "    shadow_norm = (\n",
    "        lambda op: np.linalg.norm(\n",
    "            op - np.trace(op) / 2 ** int(np.log2(op.shape[0])), ord=np.inf\n",
    "        )\n",
    "        ** 2\n",
    "    )\n",
    "    N = 34 * max(shadow_norm(observables[i]) * coeffs[i] for i in range(len(observables))) / error ** 2\n",
    "    print(sum(np.abs(coeffs[i]) for i in range(len(observables))))\n",
    "    return max(int(np.ceil(N.real * K)), 10000), int(K), M           #sometimes N = 0. A limit of 10000 is set to prevent this\n",
    "\n",
    "def shadow_bound_state3(error, observables, coeffs, failure_rate=0.01):\n",
    "   \n",
    "    M = len(observables)\n",
    "    K = 2 * np.log(2 * M / failure_rate)\n",
    "\n",
    "    N = np.sum([np.abs(coeffs[i]) for i in range(len(observables))]) * 3 ** (np.log2(observables[0].shape[0])) * np.log(M) / error ** 2\n",
    "    return max(int(np.ceil(N.real * K)), 10000), int(K), M           #sometimes N = 0. A limit of 10000 is set to prevent this\n"
   ]
  },
  {
   "cell_type": "code",
   "execution_count": 5,
   "id": "093704cc",
   "metadata": {},
   "outputs": [
    {
     "name": "stdout",
     "output_type": "stream",
     "text": [
      "1.0\n",
      "Shadow Size, Partition, Number of Observables:  102275 13 4\n"
     ]
    }
   ],
   "source": [
    "# TEST 1: 2 qubits, 1 parameter only\n",
    "\n",
    "# simplified 2 qubit circuit of one parameter\n",
    "def apply_parametrized_gate(qc: QuantumCircuit, params: ParameterVector, qr: QuantumRegister, *args, **kwargs):\n",
    "    #test circuit 1\n",
    "    qc.ry(params[0], 0)\n",
    "    qc.cx(0,1)\n",
    "\n",
    "# 2 qubit parametrized bell state of one parameter\n",
    "theta = np.pi #generate a random target state; this is the goal we want to obtain\n",
    "tgt_state = (np.cos(theta/2) * Statevector.from_label('00') + np.sin(theta/2) * Statevector.from_label('11'))  \n",
    "tgt_state_dm = DensityMatrix(tgt_state)\n",
    "params =  np.array([[theta]])\n",
    "\n",
    "observable_decomp = SparsePauliOp.from_operator(Operator(tgt_state_dm))\n",
    "pauli_coeff = observable_decomp.coeffs   #to also be used in shadow bound\n",
    "pauli_str = observable_decomp.paulis\n",
    "observables = [Pauli(str).to_matrix() for str in pauli_str]\n",
    "error = 0.1  # Set the error tolerance for the shadow bound state\n",
    "shadow_size, partition, no_observables = shadow_bound_state2(error, observables, pauli_coeff)\n",
    "print(\"Shadow Size, Partition, Number of Observables: \", shadow_size, partition, no_observables)"
   ]
  },
  {
   "cell_type": "code",
   "execution_count": 6,
   "id": "0c3b9664",
   "metadata": {},
   "outputs": [
    {
     "name": "stdout",
     "output_type": "stream",
     "text": [
      "3.22648423648091\n",
      "Shadow Size, Partition, Number of Observables:  1036910 21 256\n",
      "Shadow Size, Partition, Number of Observables, 3^k:  3142891 21 256\n",
      "Shadow Size, Partition, Number of Observables, no decomp:  127712 10 1\n",
      "DM dimensions:  (16, 16)\n"
     ]
    }
   ],
   "source": [
    "#TEST 2: 2 qubits, random target state\n",
    "def calculate_shadow_bounds(tgt_state_dm, error):\n",
    "    observable_decomp = SparsePauliOp.from_operator(Operator(tgt_state_dm))\n",
    "    pauli_coeff = observable_decomp.coeffs   #to also be used in shadow bound\n",
    "    pauli_str = observable_decomp.paulis\n",
    "    observables = [Pauli(str).to_matrix() for str in pauli_str]\n",
    "    shadow_size, partition, no_observables = shadow_bound_state2(error, observables, pauli_coeff)\n",
    "    print(\"Shadow Size, Partition, Number of Observables: \", shadow_size, partition, no_observables)\n",
    "\n",
    "    shadow_size, partition, no_observables = shadow_bound_state3(error, observables, pauli_coeff)\n",
    "    print(\"Shadow Size, Partition, Number of Observables, 3^k: \", shadow_size, partition, no_observables)\n",
    "\n",
    "#TEST 3: 2 qubits , random target state, no decomposition\n",
    "def calculate_shadow_bounds_no_decomp(tgt_state_dm, error):\n",
    "    observables = [tgt_state_dm.data]\n",
    "    shadow_size, partition, no_observables = shadow_bound_state(error, observables, failure_rate=0.01)\n",
    "    print(\"Shadow Size, Partition, Number of Observables, no decomp: \", shadow_size, partition, no_observables)\n",
    "\n",
    "for n in range(1):\n",
    "    no_qubits = 4\n",
    "    error = 0.1\n",
    "    tgt_state = random_statevector(2**no_qubits)  \n",
    "    tgt_state_dm = DensityMatrix(tgt_state)\n",
    "    calculate_shadow_bounds(tgt_state_dm, error)\n",
    "    calculate_shadow_bounds_no_decomp(tgt_state_dm, error)\n",
    "\n",
    "# decompose is almost always better for the bounds\n",
    "print(\"DM dimensions: \" , tgt_state_dm.data.shape)"
   ]
  },
  {
   "cell_type": "code",
   "execution_count": 199,
   "id": "45f5e053",
   "metadata": {},
   "outputs": [
    {
     "name": "stdout",
     "output_type": "stream",
     "text": [
      "Shadow Size, Partition, Number of Observables:  27120 14 6\n",
      "Shadow Size, Partition, Number of Observables, no decomp:  102466 10 1\n",
      "DM dimensions:  (4, 4)\n"
     ]
    }
   ],
   "source": [
    "# Choi State; 1 Qubit Test, ry gate\n",
    "num_qubits = 1\n",
    "error = 0.1\n",
    "\n",
    "params = np.array([np.random.rand()*2* np.pi])\n",
    "qc = QuantumCircuit(num_qubits)\n",
    "qc.ry(2*params[0], 0)\n",
    "specific_gate = qc.to_gate(label=\"U_entangle\")\n",
    "gate_target = GateTarget(specific_gate)\n",
    "target_choi = Choi(gate_target.target_operator)\n",
    "target_choi_dm = DensityMatrix(target_choi.data/ 2**num_qubits)\n",
    "calculate_shadow_bounds(target_choi_dm, error)\n",
    "calculate_shadow_bounds_no_decomp(target_choi_dm, error)\n",
    "print(\"DM dimensions: \" , target_choi_dm.data.shape)"
   ]
  },
  {
   "cell_type": "code",
   "execution_count": 200,
   "id": "9a748d53",
   "metadata": {},
   "outputs": [
    {
     "name": "stdout",
     "output_type": "stream",
     "text": [
      "Shadow Size, Partition, Number of Observables:  29074 15 10\n",
      "Shadow Size, Partition, Number of Observables, no decomp:  71985 10 1\n",
      "DM dimensions:  (4, 4)\n"
     ]
    }
   ],
   "source": [
    "# Choi State; 1 Qubit Test, randomised U gate\n",
    "num_qubits = 1\n",
    "error = 0.1\n",
    "\n",
    "params = ParameterVector(\"theta\", 3)\n",
    "qc = QuantumCircuit(1)\n",
    "qc.u(params[0], params[1], params[2], 0)\n",
    "\n",
    "\n",
    "# Create parameterized gate\n",
    "param_gate = qc.to_gate(label=\"U_entangle\")\n",
    "param_random = np.array([np.random.rand()*2* np.pi for n in range(3)])\n",
    "bound_qc = qc.assign_parameters({\n",
    "    params[0]: param_random[0],\n",
    "    params[1]: param_random[1],\n",
    "    params[2]: param_random[2],\n",
    "})\n",
    "\n",
    "specific_gate = bound_qc.to_gate(label=\"U_entangle\")\n",
    "\n",
    "gate_target = GateTarget(specific_gate)\n",
    "\n",
    "target_choi = Choi(gate_target.target_operator)\n",
    "target_choi_dm = DensityMatrix(target_choi.data / 2**num_qubits)\n",
    "calculate_shadow_bounds(target_choi_dm, error)\n",
    "calculate_shadow_bounds_no_decomp(target_choi_dm, error)\n",
    "print(\"DM dimensions: \" , target_choi_dm.data.shape)"
   ]
  },
  {
   "cell_type": "code",
   "execution_count": 201,
   "id": "3ce3204f",
   "metadata": {},
   "outputs": [
    {
     "name": "stdout",
     "output_type": "stream",
     "text": [
      "Shadow Size, Partition, Number of Observables:  59189 19 100\n",
      "Shadow Size, Partition, Number of Observables, no decomp:  125244 10 1\n",
      "DM dimensions:  (16, 16)\n"
     ]
    }
   ],
   "source": [
    "# Choi State; 2 Qubit Test, randomised U gate\n",
    "num_qubits = 2\n",
    "error = 0.1\n",
    "\n",
    "params = ParameterVector(\"theta\", 6)\n",
    "qc = QuantumCircuit(num_qubits)\n",
    "qc.u(params[0], params[1], params[2], 0)\n",
    "qc.u(params[3], params[4], params[5], 1)\n",
    "qc.cx(0, 1)\n",
    "\n",
    "# Create parameterized gate\n",
    "param_gate = qc.to_gate(label=\"U_entangle\")\n",
    "param_random = np.array([np.random.rand()*2* np.pi for n in range(6)])\n",
    "bound_qc = qc.assign_parameters({\n",
    "    params[0]: param_random[0],\n",
    "    params[1]: param_random[1],\n",
    "    params[2]: param_random[2],\n",
    "    params[3]: param_random[3],\n",
    "    params[4]: param_random[4],\n",
    "    params[5]: param_random[5],\n",
    "})\n",
    "\n",
    "specific_gate = bound_qc.to_gate(label=\"U_entangle\")\n",
    "\n",
    "gate_target = GateTarget(specific_gate)\n",
    "\n",
    "target_choi = Choi(gate_target.target_operator)\n",
    "target_choi_dm = DensityMatrix(target_choi.data / 2**num_qubits)\n",
    "calculate_shadow_bounds(target_choi_dm, error)\n",
    "calculate_shadow_bounds_no_decomp(target_choi_dm, error)\n",
    "print(\"DM dimensions: \" , target_choi_dm.data.shape)"
   ]
  },
  {
   "cell_type": "code",
   "execution_count": 202,
   "id": "5abbf216",
   "metadata": {},
   "outputs": [
    {
     "name": "stdout",
     "output_type": "stream",
     "text": [
      "Fidelity between original and decomposed DM:  1.0000000000000009\n"
     ]
    }
   ],
   "source": [
    "#study fidelity between decomposed and original choi state - teh breakdown is correct\n",
    "\n",
    "observable_decomp = SparsePauliOp.from_operator(Operator(target_choi_dm))\n",
    "pauli_coeff = observable_decomp.coeffs   #to also be used in shadow bound\n",
    "pauli_str = observable_decomp.paulis\n",
    "observables = [Pauli(str).to_matrix() for str in pauli_str]\n",
    "observable_total = np.zeros(observables[0].shape, dtype=complex)\n",
    "for i in range(len(pauli_str)):\n",
    "    observable_total += pauli_coeff[i] * observables[i]\n",
    "\n",
    "observable_total_dm = DensityMatrix(observable_total / np.trace(observable_total))\n",
    "print(\"Fidelity between original and decomposed DM: \", state_fidelity(target_choi_dm, observable_total_dm))"
   ]
  },
  {
   "cell_type": "code",
   "execution_count": 203,
   "id": "9db238d3",
   "metadata": {},
   "outputs": [
    {
     "name": "stdout",
     "output_type": "stream",
     "text": [
      "Shadow Size, Partition, Number of Observables:  97235 28 9075\n",
      "Shadow Size, Partition, Number of Observables, no decomp:  196134 10 1\n",
      "DM dimensions:  (256, 256)\n"
     ]
    }
   ],
   "source": [
    "# Choi State; 4 Qubit Test, randomised U gate\n",
    "num_qubits = 4\n",
    "error = 0.1\n",
    "\n",
    "params = ParameterVector(\"theta\", 3*num_qubits)\n",
    "qc = QuantumCircuit(num_qubits)\n",
    "qc.u(params[0], params[1], params[2], 0)\n",
    "qc.u(params[3], params[4], params[5], 1)\n",
    "qc.u(params[6], params[7], params[8], 2)\n",
    "qc.u(params[9], params[10], params[11], 3)\n",
    "qc.cx(0, 1)\n",
    "qc.cx(0, 2)\n",
    "qc.cx(1, 2)\n",
    "qc.cx(0, 3)\n",
    "qc.cx(1, 3)\n",
    "qc.cx(2, 3)\n",
    "\n",
    "# Create parameterized gate\n",
    "param_gate = qc.to_gate(label=\"U_entangle\")\n",
    "param_random = np.array([np.random.rand()*2* np.pi for n in range(num_qubits*3)])\n",
    "bound_qc = qc.assign_parameters({\n",
    "    params[0]: param_random[0],\n",
    "    params[1]: param_random[1],\n",
    "    params[2]: param_random[2],\n",
    "    params[3]: param_random[3],\n",
    "    params[4]: param_random[4],\n",
    "    params[5]: param_random[5],\n",
    "    params[6]: param_random[6],\n",
    "    params[7]: param_random[7],\n",
    "    params[8]: param_random[8],\n",
    "    params[9]: param_random[9],\n",
    "    params[10]: param_random[10],\n",
    "    params[11]: param_random[11],\n",
    "})\n",
    "\n",
    "specific_gate = bound_qc.to_gate(label=\"U_entangle\")\n",
    "\n",
    "gate_target = GateTarget(specific_gate)\n",
    "\n",
    "target_choi = Choi(gate_target.target_operator)\n",
    "target_choi_dm = DensityMatrix(target_choi.data / 2**num_qubits)\n",
    "calculate_shadow_bounds(target_choi_dm, error)\n",
    "calculate_shadow_bounds_no_decomp(target_choi_dm, error)\n",
    "print(\"DM dimensions: \" , target_choi_dm.data.shape)"
   ]
  },
  {
   "cell_type": "code",
   "execution_count": null,
   "id": "d80e57db",
   "metadata": {},
   "outputs": [],
   "source": [
    "#test for \n",
    "import numpy as np\n",
    "import matplotlib.pyplot as plt\n",
    "def x_at_y_linear(x, y, y_target=0.01):\n",
    "    x = np.asarray(x, dtype=float)\n",
    "    y = np.asarray(y, dtype=float)\n",
    "\n",
    "    # Find indices where y crosses y_target\n",
    "    indices = np.where(np.diff(np.sign(y - y_target)))[0]\n",
    "\n",
    "    if len(indices) == 0:\n",
    "        raise ValueError(\"y_target is out of the range of y values.\")\n",
    "\n",
    "    # Take the first crossing for simplicity\n",
    "    idx = indices[0]\n",
    "\n",
    "    # Linear interpolation to find the corresponding x value\n",
    "    x1, x2 = x[idx], x[idx + 1]\n",
    "    y1, y2 = y[idx], y[idx + 1]\n",
    "\n",
    "    # Calculate the slope\n",
    "    slope = (y2 - y1) / (x2 - x1)\n",
    "\n",
    "    # Calculate the x value at y_target\n",
    "    x_target = x1 + (y_target - y1) / slope\n",
    "\n",
    "    return x_target"
   ]
  },
  {
   "cell_type": "code",
   "execution_count": 55,
   "id": "d80a0b06",
   "metadata": {},
   "outputs": [
    {
     "name": "stdout",
     "output_type": "stream",
     "text": [
      "Estimated x: 6020.62956781791\n"
     ]
    },
    {
     "data": {
      "image/png": "[encoded data removed]",
      "text/plain": [
       "<Figure size 640x480 with 1 Axes>"
      ]
     },
     "metadata": {},
     "output_type": "display_data"
    }
   ],
   "source": [
    "x_log = np.sort(np.random.rand(10)*5)\n",
    "x = 10** x_log\n",
    "y = 10**-1 * x **-.5  *( 1 + 0.2 * np.random.randn(len(x)))\n",
    "y_log = np.log10(y)\n",
    "\n",
    "plt.plot(x, y, marker='o')\n",
    "#x_target = x_at_y_linear(x, y, y_target=-3000)\n",
    "#print(f\"Estimated x at y=0.01: {x_target}\")\n",
    "x_target = 10**x_at_y_linear(np.log10(x), np.log10(y), y_target=np.log10(0.001))\n",
    "plt.xscale('log')\n",
    "plt.yscale('log')\n",
    "\n",
    "print(f\"Estimated x: {x_target}\")"
   ]
  },
  {
   "cell_type": "code",
   "execution_count": 56,
   "id": "da014f08",
   "metadata": {},
   "outputs": [
    {
     "name": "stdout",
     "output_type": "stream",
     "text": [
      "Estimated x: 2.878471214480813\n"
     ]
    },
    {
     "data": {
      "image/png": "[encoded data removed]",
      "text/plain": [
       "<Figure size 640x480 with 1 Axes>"
      ]
     },
     "metadata": {},
     "output_type": "display_data"
    }
   ],
   "source": [
    "plt.plot(x_log, y_log, marker='o')\n",
    "x_target = x_at_y_linear(x_log, y_log, y_target=-2.4)\n",
    "print(f\"Estimated x: {x_target}\")"
   ]
  },
  {
   "cell_type": "code",
   "execution_count": null,
   "id": "38622b59",
   "metadata": {},
   "outputs": [
    {
     "name": "stdout",
     "output_type": "stream",
     "text": [
      "3.202648290362074e-15\n"
     ]
    }
   ],
   "source": [
    "# Build |J> (OUT,IN order) and compare to Qiskit Choi\n",
    "from qiskit import QuantumCircuit\n",
    "\n",
    "def qc_target_su4(params):\n",
    "    \"\"\"\n",
    "    Universal 2-qubit ansatz (covers SU(4)):\n",
    "    [U⊗U] - CX(0,1) - [U⊗U] - CX(1,0) - [U⊗U] - CX(0,1) - [U⊗U]\n",
    "    params: length 24 (8 single-qubit U's × 3 params each).\n",
    "    \"\"\"\n",
    "    if len(params) != 24:\n",
    "        raise ValueError(\"params must have length 24\")\n",
    "    qc = QuantumCircuit(2, name=\"U_su4\")\n",
    "\n",
    "    # block 0\n",
    "    qc.u(params[0],  params[1],  params[2],  0)\n",
    "    qc.u(params[3],  params[4],  params[5],  1)\n",
    "\n",
    "    qc.cx(0, 1)\n",
    "\n",
    "    # block 1\n",
    "    qc.u(params[6],  params[7],  params[8],  0)\n",
    "    qc.u(params[9],  params[10], params[11], 1)\n",
    "\n",
    "    qc.cx(1, 0)\n",
    "\n",
    "    # block 2\n",
    "    qc.u(params[12], params[13], params[14], 0)\n",
    "    qc.u(params[15], params[16], params[17], 1)\n",
    "\n",
    "    qc.cx(0, 1)\n",
    "\n",
    "    # block 3\n",
    "    qc.u(params[18], params[19], params[20], 0)\n",
    "    qc.u(params[21], params[22], params[23], 1)\n",
    "\n",
    "    return qc\n",
    "\n",
    "\n",
    "\n",
    "def choi_pure_state_circuit_for_unitary_su4(params):\n",
    "    \"\"\"\n",
    "    |J(U)> builder where U is a *general* 2-qubit unitary on OUT=(q0,q1).\n",
    "    Qubit order: [OUT0, OUT1, IN0, IN1].\n",
    "    params: length 24 (overparameterized but universal for SU(4)).\n",
    "    \"\"\"\n",
    "    if len(params) != 24:\n",
    "        raise ValueError(\"params must have length 24\")\n",
    "\n",
    "    qc = QuantumCircuit(4, name=\"|J(U)>\")\n",
    "\n",
    "    # Prepare |Phi+> across (IN0,OUT0) and (IN1,OUT1)\n",
    "    qc.h(2); qc.cx(2, 0)\n",
    "    qc.h(3); qc.cx(3, 1)\n",
    "\n",
    "    # --- General SU(4) on OUT=(q0,q1): 3 CNOTs + single-qubit layers ---\n",
    "    # Layer 0\n",
    "    qc.u(params[0],  params[1],  params[2],  0)\n",
    "    qc.u(params[3],  params[4],  params[5],  1)\n",
    "    qc.cx(0, 1)\n",
    "\n",
    "    # Layer 1\n",
    "    qc.u(params[6],  params[7],  params[8],  0)\n",
    "    qc.u(params[9],  params[10], params[11], 1)\n",
    "    qc.cx(1, 0)\n",
    "\n",
    "    # Layer 2\n",
    "    qc.u(params[12], params[13], params[14], 0)\n",
    "    qc.u(params[15], params[16], params[17], 1)\n",
    "    qc.cx(0, 1)\n",
    "\n",
    "    # Final local layer\n",
    "    qc.u(params[18], params[19], params[20], 0)\n",
    "    qc.u(params[21], params[22], params[23], 1)\n",
    "\n",
    "    return qc\n",
    "params24 = np.random.rand(24)*2* np.pi\n",
    "psi = Statevector.from_instruction(choi_pure_state_circuit_for_unitary_su4(params24))\n",
    "J_from_circ = 4.0 * np.outer(psi.data, psi.data.conj())    # trace = 4\n",
    "J_qiskit = Choi(Operator(qc_target_su4(params24))).data\n",
    "print(np.linalg.norm(J_from_circ - J_qiskit))  # ~1e-12"
   ]
  },
  {
   "cell_type": "code",
   "execution_count": 81,
   "id": "564f8e95",
   "metadata": {},
   "outputs": [
    {
     "name": "stdout",
     "output_type": "stream",
     "text": [
      "Shadow Size, Partition, Number of Observables:  64036 21 225\n"
     ]
    }
   ],
   "source": [
    "tgt_param = np.random.rand(24)*2* np.pi\n",
    "qc_target_ = qc_target_su4(tgt_param)\n",
    "\n",
    "target_choi = Choi(SuperOp(qc_target_))\n",
    "\n",
    "observable_decomp = SparsePauliOp.from_operator(Operator(target_choi.data / 4))\n",
    "pauli_coeff = observable_decomp.coeffs   #to also be used in shadow bound\n",
    "pauli_str = observable_decomp.paulis\n",
    "observables = [Pauli(str).to_matrix() for str in pauli_str]\n",
    "\n",
    "def shadow_bound_state(error, observables, coeffs, failure_rate=0.01):\n",
    "   \n",
    "    M = len(observables)\n",
    "    K = 2 * np.log(2 * M / failure_rate)\n",
    "    shadow_norm = (\n",
    "        lambda op: np.linalg.norm(\n",
    "            op - np.trace(op) / 2 ** int(np.log2(op.shape[0])), ord=np.inf\n",
    "        )\n",
    "        ** 2\n",
    "    )\n",
    "    N = 34 * max(shadow_norm(observables[i]) * coeffs[i]**2 for i in range(len(observables))) / error ** 2\n",
    "    \n",
    "    return max(int(np.ceil(N.real * K)), 100), int(K), M           #sometimes N =\n",
    "\n",
    "error = 0.1  # Set the error tolerance for the shadow bound state\n",
    "shadow_size, partition, no_observables = shadow_bound_state(error, observables, pauli_coeff)\n",
    "print(\"Shadow Size, Partition, Number of Observables: \", shadow_size, partition, no_observables)"
   ]
  },
  {
   "cell_type": "code",
   "execution_count": 83,
   "id": "7f1e8ded",
   "metadata": {},
   "outputs": [],
   "source": [
    "A = [-4.89829303662517,\n",
    "-1.69388374712453,\n",
    "-2.65096994925323,\n",
    "-6.67526441173431,\n",
    "-5.47146510923252,\n",
    "-23.0928367568759,\n",
    "-4.01194167473079,\n",
    "-7.20489239577272,\n",
    "-5.88445606517335,\n",
    "-6.33100011794233,\n",
    "-6.76553700378218,\n",
    "-2.69179013552159,\n",
    "-5.80362824156201,\n",
    "-7.10625836984307,\n",
    "-4.94701097337857,\n",
    "-3.80226235229639,\n",
    "-21.9749227626493,\n",
    "-9.70166980659125,\n",
    "-4.54824383719327,\n",
    "-13.827708157124,\n",
    "-5.45156507887216,\n",
    "-5.17700030417386,\n",
    "-9.53070459851976,\n",
    "-4.95903362936555,\n",
    "-3.50207272220254,\n",
    "-2.29506142271711,\n",
    "-10.3505797812371,\n",
    "-36.5992498909631,\n",
    "-5.26847811406208,\n",
    "-1.47043464191608,\n",
    "-5.53130975137481,\n",
    "-10.0057371941235,\n",
    "-6.04170859231003,\n",
    "-16.2179879488766,\n",
    "-25.1803293340462,\n",
    "-10.6207588796801,\n",
    "-5.05603671618113,\n",
    "-5.61669420100737,\n",
    "-12.3096705138789,\n",
    "-3.79478071881333,\n",
    "-4.96462570460283,\n",
    "-10.269187347082,\n",
    "-12.2533193158187,\n",
    "-18.6828669837057,\n",
    "-5.61704307785307,\n",
    "-9.17398804807632,\n",
    "-9.82690474036861,\n",
    "-6.05918629115176,\n",
    "-3.8197731975832]\n",
    "B = [-3.96844271174773,\n",
    "1.05078067843545,\n",
    "-0.108708580758142,\n",
    "-6.21285090214754,\n",
    "-4.90899786619971,\n",
    "-34.218238501838,\n",
    "-2.75684008042519,\n",
    "-7.46743251584957,\n",
    "-6.10955651709123,\n",
    "-5.50806568933046,\n",
    "-6.87525370239494,\n",
    "-0.688083277957539,\n",
    "-4.97535473717838,\n",
    "-7.94737408384859,\n",
    "-3.97904107126763,\n",
    "-2.2101484670372,\n",
    "-28.2449042877922,\n",
    "-11.8683497296835,\n",
    "-3.27866627221345,\n",
    "-16.9289536111718,\n",
    "-5.01676357347513,\n",
    "-4.47423624737233,\n",
    "-11.2226693525658,\n",
    "-4.17403188249703,\n",
    "-1.24990855029131,\n",
    "-0.339503649072243,\n",
    "-12.6543060971655,\n",
    "-55.2171445953328,\n",
    "-4.09700091006214,\n",
    "1.76619875988592,\n",
    "-5.50485101201689,\n",
    "-11.8137104387324,\n",
    "-6.01806010870124,\n",
    "-22.503031462978,\n",
    "-38.3578319814133,\n",
    "-11.4471585423318,\n",
    "-3.91992013874375,\n",
    "-4.49661873049741,\n",
    "-16.6218374059635,\n",
    "-2.30550081483402,\n",
    "-4.44291765611961,\n",
    "-12.4501772884658,\n",
    "-14.7108123183437,\n",
    "-27.5417443260998,\n",
    "-5.10428104395777,\n",
    "-10.3112964575386,\n",
    "-12.65125912966,\n",
    "-5.72729390859533,\n",
    "-2.39823328669344,\n",
    "]\n",
    "C = [14704.0314122095,\n",
    "35889.5790647688,\n",
    "11337.326620596,\n",
    "29845.4727764087,\n",
    "29754.0553238628,\n",
    "30948.7476799503,\n",
    "9872.6028164126,\n",
    "31000.7682403928,\n",
    "18789.2621636102,\n",
    "36303.3554864228,\n",
    "11658.6576250908,\n",
    "12269.1874428315,\n",
    "30923.0649594719,\n",
    "28527.3369342725,\n",
    "11039.5787306564,\n",
    "14056.5765000163,\n",
    "14598.4205806258,\n",
    "13495.2745970325,\n",
    "23846.7543566661,\n",
    "52938.6331278062,\n",
    "18417.2648666961,\n",
    "19818.6497328929,\n",
    "16032.6864291894,\n",
    "12990.0357612773,\n",
    "25357.3795536287,\n",
    "15269.4264344738,\n",
    "36879.5994854453,\n",
    "27271.9645577356,\n",
    "24485.4499392977,\n",
    "42217.5392042184,\n",
    "34505.7600957434,\n",
    "28571.7939603954,\n",
    "8195.94094499358,\n",
    "24194.6607496166,\n",
    "45011.6208416121,\n",
    "\n",
    "\n",
    "24370.9763352622,\n",
    "20045.0460850687,\n",
    "5830.95874623678,\n",
    "42935.4573696556,\n",
    "14603.5314002191,\n",
    "\n",
    "\n",
    "25487.1821758436,\n",
    "\n",
    "16437.4834588243,\n",
    "15728.17813085,\n",
    "11983.9698005313,\n",
    "]\n",
    "D = [673198.843934388,\n",
    "27450.3681075632,\n",
    "156038.338666025,\n",
    "13730233.4460695,\n",
    "1081265.51521886,\n",
    "927758649380.072,\n",
    "184945.287196926,\n",
    "8756938.01665161,\n",
    "456410.485483327,\n",
    "14253927.5343716,\n",
    "4527102.26568724,\n",
    "49601.7493119592,\n",
    "4284515.77266311,\n",
    "1841376.75242905,\n",
    "822206.442620912,\n",
    "247956.922533222,\n",
    "5069221142121920,\n",
    "34275980.2170827,\n",
    "657387.439923183,\n",
    "53267547653.986,\n",
    "769779.930809458,\n",
    "758166.098478208,\n",
    "68982645.3144335,\n",
    "554670.892827786,\n",
    "567854.267762529,\n",
    "17808.1660429598,\n",
    "111391862.445898,\n",
    "957977230142981000,\n",
    "2753945.35194694,\n",
    "50941.0677462158,\n",
    "361217.257301466,\n",
    "157675402.942542,\n",
    "1162403.94688755,\n",
    "8569281996.87495,\n",
    "1006529914139.92,\n",
    "6228152199.48315,\n",
    "1556514.94022439,\n",
    "5454684.94641375,\n",
    "99426836.560911,\n",
    "192336.019036483,\n",
    "306431.744131985,\n",
    "122517296.7026,\n",
    "6249227184.37083,\n",
    "6667908648.87528,\n",
    "1348357.67564021,\n",
    "108812713.005986,\n",
    "10058896.7671662,\n",
    "2460813.34726572,\n",
    "174306.30973517,\n",
    "]"
   ]
  },
  {
   "cell_type": "code",
   "execution_count": null,
   "id": "1c2e486a",
   "metadata": {},
   "outputs": [
    {
     "data": {
      "image/png": "[encoded data removed]",
      "text/plain": [
       "<Figure size 600x400 with 1 Axes>"
      ]
     },
     "metadata": {},
     "output_type": "display_data"
    }
   ],
   "source": [
    "from scipy.stats import norm\n",
    "\n",
    "# Example data (replace this with your array)\n",
    "values = C\n",
    "print(\"Mean:\", np.mean(values))\n",
    "print(\"Median:\", np.median(values))\n",
    "# --- NORMAL PDF ---\n",
    "plt.figure(figsize=(6,4))\n",
    "plt.hist(values, bins=50, density=True, alpha=0.6, color='skyblue', label='Data')\n",
    "\n",
    "# Fit normal distribution\n",
    "mu, sigma = norm.fit(values)\n",
    "x = np.linspace(min(values), max(values), 300)\n",
    "pdf = norm.pdf(x, mu, sigma)\n",
    "plt.plot(x, pdf, 'r-', label=f'Normal PDF\\nμ={mu:.2f}, σ={sigma:.2f}')\n",
    "plt.xlabel(\"Value\")\n",
    "plt.ylabel(\"Probability Density\")\n",
    "plt.title(\"Normal-space PDF\")\n",
    "plt.legend()\n",
    "plt.show()"
   ]
  },
  {
   "cell_type": "code",
   "execution_count": 95,
   "id": "c46e3900",
   "metadata": {},
   "outputs": [
    {
     "data": {
      "text/plain": [
       "np.float64(21945.9002208674)"
      ]
     },
     "execution_count": 95,
     "metadata": {},
     "output_type": "execute_result"
    }
   ],
   "source": [
    "np.median(C)"
   ]
  },
  {
   "cell_type": "code",
   "execution_count": null,
   "id": "c17ec157",
   "metadata": {},
   "outputs": [],
   "source": []
  }
 ],
 "metadata": {
  "kernelspec": {
   "display_name": "rl_qoc",
   "language": "python",
   "name": "python3"
  },
  "language_info": {
   "codemirror_mode": {
    "name": "ipython",
    "version": 3
   },
   "file_extension": ".py",
   "mimetype": "text/x-python",
   "name": "python",
   "nbconvert_exporter": "python",
   "pygments_lexer": "ipython3",
   "version": "3.10.12"
  }
 },
 "nbformat": 4,
 "nbformat_minor": 5
}

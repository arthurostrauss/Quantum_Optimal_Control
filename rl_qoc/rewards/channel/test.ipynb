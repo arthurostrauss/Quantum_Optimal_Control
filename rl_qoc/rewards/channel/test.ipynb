{
 "cells": [
  {
   "cell_type": "code",
   "id": "d52d8e3c",
   "metadata": {
    "ExecuteTime": {
     "end_time": "2025-10-27T13:22:03.244713Z",
     "start_time": "2025-10-27T13:21:47.800690Z"
    }
   },
   "source": [
    "\n",
    "from rl_qoc import QuantumEnvironment, ChannelReward, QiskitConfig, QEnvConfig, ExecutionConfig, GateTarget, FidelityReward\n",
    "from qiskit.circuit import QuantumCircuit, ParameterVector\n",
    "from qiskit.circuit.library import RXGate, UGate, RZXGate\n",
    "from gymnasium.spaces import Box\n",
    "import numpy as np\n",
    "seed = 30980922\n",
    "np.random.seed(seed)\n",
    "params = ParameterVector(\"a\", 1)\n",
    "angle = np.random.uniform(-np.pi, np.pi, size=(1,))\n",
    "angle = np.array([np.pi/2])\n",
    "gate = RXGate(*angle)\n",
    "target = GateTarget(gate, (0,))\n",
    "def apply_qc(qc:QuantumCircuit, params, qreg):\n",
    "    # qc.rzx(params[0], qreg[0], qreg[1])\n",
    "    qc.rx(params[0], qreg[0])\n",
    "\n",
    "action_space = Box(-np.pi, np.pi, shape=(1,))\n",
    "backend_config = QiskitConfig(apply_qc)\n",
    "exec = ExecutionConfig(sampling_paulis=10000, n_shots=1, batch_size=1, n_reps=list(range(1, 30)),\n",
    "                       dfe_precision=(0.01, 0.01), seed=seed,\n",
    "                       c_factor=1)\n",
    "reward1 = ChannelReward()\n",
    "reward2 = FidelityReward()\n",
    "q_env_config1 = QEnvConfig(target, backend_config, action_space, reward=reward1,\n",
    "                          execution_config=exec)\n",
    "q_env1 = QuantumEnvironment(q_env_config1)\n",
    "\n",
    "q_env_config2 = QEnvConfig(target, backend_config, action_space, reward=reward2,\n",
    "                          execution_config=exec)\n",
    "q_env2 = QuantumEnvironment(q_env_config2)\n"
   ],
   "outputs": [
    {
     "name": "stderr",
     "output_type": "stream",
     "text": [
      "/Users/arthurostrauss/Library/CloudStorage/OneDrive-NationalUniversityofSingapore/Coding_projects/Quantum_Optimal_Control/rl_qoc/helpers/__init__.py:9: UserWarning: pulse_utils is not available\n",
      "  warnings.warn(\"pulse_utils is not available\")\n",
      "/Users/arthurostrauss/Library/CloudStorage/OneDrive-NationalUniversityofSingapore/Coding_projects/Quantum_Optimal_Control/.venv/lib/python3.11/site-packages/pydantic/_internal/_generate_schema.py:2249: UnsupportedFieldAttributeWarning: The 'repr' attribute with value False was provided to the `Field()` function, which has no effect in the context it was used. 'repr' is field-specific metadata, and can only be attached to a model field using `Annotated` metadata or by assignment. This may have happened because an `Annotated` type alias using the `type` statement was used, or if the `Field()` function was attached to a single member of a union type.\n",
      "  warnings.warn(\n",
      "/Users/arthurostrauss/Library/CloudStorage/OneDrive-NationalUniversityofSingapore/Coding_projects/Quantum_Optimal_Control/.venv/lib/python3.11/site-packages/pydantic/_internal/_generate_schema.py:2249: UnsupportedFieldAttributeWarning: The 'frozen' attribute with value True was provided to the `Field()` function, which has no effect in the context it was used. 'frozen' is field-specific metadata, and can only be attached to a model field using `Annotated` metadata or by assignment. This may have happened because an `Annotated` type alias using the `type` statement was used, or if the `Field()` function was attached to a single member of a union type.\n",
      "  warnings.warn(\n"
     ]
    }
   ],
   "execution_count": 1
  },
  {
   "cell_type": "code",
   "id": "28b03d5b",
   "metadata": {
    "ExecuteTime": {
     "end_time": "2025-10-27T13:22:03.260809Z",
     "start_time": "2025-10-27T13:22:03.258657Z"
    }
   },
   "source": [
    "print(gate.to_matrix())"
   ],
   "outputs": [
    {
     "name": "stdout",
     "output_type": "stream",
     "text": [
      "[[0.70710678+0.j         0.        -0.70710678j]\n",
      " [0.        -0.70710678j 0.70710678+0.j        ]]\n"
     ]
    }
   ],
   "execution_count": 2
  },
  {
   "cell_type": "code",
   "id": "cf8c8a47",
   "metadata": {
    "ExecuteTime": {
     "end_time": "2025-10-27T13:22:03.295873Z",
     "start_time": "2025-10-27T13:22:03.292143Z"
    }
   },
   "source": [
    "angle\n"
   ],
   "outputs": [
    {
     "data": {
      "text/plain": [
       "array([1.57079633])"
      ]
     },
     "execution_count": 3,
     "metadata": {},
     "output_type": "execute_result"
    }
   ],
   "execution_count": 3
  },
  {
   "cell_type": "code",
   "id": "d71fdfde",
   "metadata": {
    "ExecuteTime": {
     "end_time": "2025-10-27T13:22:03.550953Z",
     "start_time": "2025-10-27T13:22:03.350218Z"
    }
   },
   "source": [
    "q_env1.circuit.draw(\"mpl\")"
   ],
   "outputs": [
    {
     "data": {
      "text/plain": [
       "<Figure size 207.895x117.056 with 1 Axes>"
      ],
      "image/png": "[encoded data removed]"
     },
     "execution_count": 4,
     "metadata": {},
     "output_type": "execute_result"
    }
   ],
   "execution_count": 4
  },
  {
   "cell_type": "code",
   "id": "28ee98f7",
   "metadata": {
    "ExecuteTime": {
     "end_time": "2025-10-27T13:35:50.418074Z",
     "start_time": "2025-10-27T13:22:09.031707Z"
    }
   },
   "source": [
    "data = reward1.get_reward_data(q_env1.circuit, np.zeros((1, 1)), q_env1.config)"
   ],
   "outputs": [
    {
     "ename": "KeyboardInterrupt",
     "evalue": "",
     "output_type": "error",
     "traceback": [
      "\u001B[31m---------------------------------------------------------------------------\u001B[39m",
      "\u001B[31mKeyboardInterrupt\u001B[39m                         Traceback (most recent call last)",
      "\u001B[36mCell\u001B[39m\u001B[36m \u001B[39m\u001B[32mIn[6]\u001B[39m\u001B[32m, line 1\u001B[39m\n\u001B[32m----> \u001B[39m\u001B[32m1\u001B[39m data = \u001B[43mreward1\u001B[49m\u001B[43m.\u001B[49m\u001B[43mget_reward_data\u001B[49m\u001B[43m(\u001B[49m\u001B[43mq_env1\u001B[49m\u001B[43m.\u001B[49m\u001B[43mcircuit\u001B[49m\u001B[43m,\u001B[49m\u001B[43m \u001B[49m\u001B[43mnp\u001B[49m\u001B[43m.\u001B[49m\u001B[43mzeros\u001B[49m\u001B[43m(\u001B[49m\u001B[43m(\u001B[49m\u001B[32;43m1\u001B[39;49m\u001B[43m,\u001B[49m\u001B[43m \u001B[49m\u001B[32;43m1\u001B[39;49m\u001B[43m)\u001B[49m\u001B[43m)\u001B[49m\u001B[43m,\u001B[49m\u001B[43m \u001B[49m\u001B[43mq_env1\u001B[49m\u001B[43m.\u001B[49m\u001B[43mconfig\u001B[49m\u001B[43m)\u001B[49m\n",
      "\u001B[36mFile \u001B[39m\u001B[32m~/Library/CloudStorage/OneDrive-NationalUniversityofSingapore/Coding_projects/Quantum_Optimal_Control/rl_qoc/rewards/channel/channel_reward.py:243\u001B[39m, in \u001B[36mChannelReward.get_reward_data\u001B[39m\u001B[34m(self, qc, params, env_config, dfe_precision, *args)\u001B[39m\n\u001B[32m    239\u001B[39m prep_indices = pauli_input_to_indices(pauli_rep, inputs)\n\u001B[32m    241\u001B[39m \u001B[38;5;66;03m# Create input state preparation circuit\u001B[39;00m\n\u001B[32m    242\u001B[39m input_circuit = qc.copy_empty_like().compose(\n\u001B[32m--> \u001B[39m\u001B[32m243\u001B[39m     \u001B[43mprep_basis\u001B[49m\u001B[43m.\u001B[49m\u001B[43mcircuit\u001B[49m\u001B[43m(\u001B[49m\u001B[43mprep_indices\u001B[49m\u001B[43m)\u001B[49m,\n\u001B[32m    244\u001B[39m     target.causal_cone_qubits,\n\u001B[32m    245\u001B[39m     inplace=\u001B[38;5;28;01mFalse\u001B[39;00m,\n\u001B[32m    246\u001B[39m )\n\u001B[32m    247\u001B[39m \u001B[38;5;66;03m# input_circuit, extended_prep_indices = extend_input_state_prep(\u001B[39;00m\n\u001B[32m    248\u001B[39m \u001B[38;5;66;03m#     input_circuit, qc, target, prep_indices\u001B[39;00m\n\u001B[32m    249\u001B[39m \u001B[38;5;66;03m# )  # Add random input state on other qubits\u001B[39;00m\n\u001B[32m    250\u001B[39m \u001B[38;5;66;03m# input_circuit.metadata[\"indices\"] = extended_prep_indices\u001B[39;00m\n\u001B[32m    251\u001B[39m \u001B[38;5;66;03m# Prepend input state to custom circuit with front composition\u001B[39;00m\n\u001B[32m    252\u001B[39m prep_circuit = repeated_circuit.compose(\n\u001B[32m    253\u001B[39m     input_circuit,\n\u001B[32m    254\u001B[39m     front=\u001B[38;5;28;01mTrue\u001B[39;00m,\n\u001B[32m    255\u001B[39m     inplace=\u001B[38;5;28;01mFalse\u001B[39;00m,\n\u001B[32m    256\u001B[39m )\n",
      "\u001B[36mFile \u001B[39m\u001B[32m~/Library/CloudStorage/OneDrive-NationalUniversityofSingapore/Coding_projects/Quantum_Optimal_Control/.venv/lib/python3.11/site-packages/qiskit_experiments/library/tomography/basis/local_basis.py:126\u001B[39m, in \u001B[36mLocalPreparationBasis.circuit\u001B[39m\u001B[34m(self, index, qubits)\u001B[39m\n\u001B[32m    121\u001B[39m \u001B[38;5;28;01mif\u001B[39;00m \u001B[38;5;129;01mnot\u001B[39;00m \u001B[38;5;28mself\u001B[39m._instructions:\n\u001B[32m    122\u001B[39m     \u001B[38;5;28;01mraise\u001B[39;00m \u001B[38;5;167;01mNotImplementedError\u001B[39;00m(\n\u001B[32m    123\u001B[39m         \u001B[33mf\u001B[39m\u001B[33m\"\u001B[39m\u001B[33mBasis \u001B[39m\u001B[38;5;132;01m{\u001B[39;00m\u001B[38;5;28mself\u001B[39m.name\u001B[38;5;132;01m}\u001B[39;00m\u001B[33m does not define circuits so can only be \u001B[39m\u001B[33m\"\u001B[39m\n\u001B[32m    124\u001B[39m         \u001B[33m\"\u001B[39m\u001B[33m used as a fitter basis for analysis.\u001B[39m\u001B[33m\"\u001B[39m\n\u001B[32m    125\u001B[39m     )\n\u001B[32m--> \u001B[39m\u001B[32m126\u001B[39m \u001B[38;5;28;01mreturn\u001B[39;00m \u001B[43m_tensor_product_circuit\u001B[49m\u001B[43m(\u001B[49m\u001B[38;5;28;43mself\u001B[39;49m\u001B[43m.\u001B[49m\u001B[43m_instructions\u001B[49m\u001B[43m,\u001B[49m\u001B[43m \u001B[49m\u001B[43mindex\u001B[49m\u001B[43m,\u001B[49m\u001B[43m \u001B[49m\u001B[38;5;28;43mself\u001B[39;49m\u001B[43m.\u001B[49m\u001B[43m_name\u001B[49m\u001B[43m)\u001B[49m\n",
      "\u001B[36mFile \u001B[39m\u001B[32m~/Library/CloudStorage/OneDrive-NationalUniversityofSingapore/Coding_projects/Quantum_Optimal_Control/.venv/lib/python3.11/site-packages/qiskit_experiments/library/tomography/basis/local_basis.py:536\u001B[39m, in \u001B[36m_tensor_product_circuit\u001B[39m\u001B[34m(instructions, index, name)\u001B[39m\n\u001B[32m    534\u001B[39m     \u001B[38;5;28;01mif\u001B[39;00m elt >= size:\n\u001B[32m    535\u001B[39m         \u001B[38;5;28;01mraise\u001B[39;00m QiskitError(\u001B[33m\"\u001B[39m\u001B[33mInvalid basis element index\u001B[39m\u001B[33m\"\u001B[39m)\n\u001B[32m--> \u001B[39m\u001B[32m536\u001B[39m     \u001B[43mcircuit\u001B[49m\u001B[43m.\u001B[49m\u001B[43mappend\u001B[49m\u001B[43m(\u001B[49m\u001B[43minstructions\u001B[49m\u001B[43m[\u001B[49m\u001B[43melt\u001B[49m\u001B[43m]\u001B[49m\u001B[43m,\u001B[49m\u001B[43m \u001B[49m\u001B[43m[\u001B[49m\u001B[43mi\u001B[49m\u001B[43m]\u001B[49m\u001B[43m)\u001B[49m\n\u001B[32m    537\u001B[39m \u001B[38;5;28;01mreturn\u001B[39;00m circuit\n",
      "\u001B[36mFile \u001B[39m\u001B[32m~/Library/CloudStorage/OneDrive-NationalUniversityofSingapore/Coding_projects/qiskit/qiskit/circuit/quantumcircuit.py:2897\u001B[39m, in \u001B[36mQuantumCircuit.append\u001B[39m\u001B[34m(self, instruction, qargs, cargs, copy)\u001B[39m\n\u001B[32m   2895\u001B[39m     \u001B[38;5;28mself\u001B[39m._check_dups(qarg)\n\u001B[32m   2896\u001B[39m     instruction = base_instruction.replace(qubits=qarg, clbits=carg)\n\u001B[32m-> \u001B[39m\u001B[32m2897\u001B[39m     \u001B[43mcircuit_scope\u001B[49m\u001B[43m.\u001B[49m\u001B[43mappend\u001B[49m\u001B[43m(\u001B[49m\u001B[43minstruction\u001B[49m\u001B[43m)\u001B[49m\n\u001B[32m   2898\u001B[39m     instructions._add_ref(circuit_scope.instructions, \u001B[38;5;28mlen\u001B[39m(circuit_scope.instructions) - \u001B[32m1\u001B[39m)\n\u001B[32m   2899\u001B[39m \u001B[38;5;28;01mreturn\u001B[39;00m instructions\n",
      "\u001B[36mFile \u001B[39m\u001B[32m~/Library/CloudStorage/OneDrive-NationalUniversityofSingapore/Coding_projects/qiskit/qiskit/circuit/quantumcircuit.py:7674\u001B[39m, in \u001B[36m_OuterCircuitScopeInterface.append\u001B[39m\u001B[34m(self, instruction, _standard_gate)\u001B[39m\n\u001B[32m   7672\u001B[39m \u001B[38;5;28;01mdef\u001B[39;00m\u001B[38;5;250m \u001B[39m\u001B[34mappend\u001B[39m(\u001B[38;5;28mself\u001B[39m, instruction, *, _standard_gate: \u001B[38;5;28mbool\u001B[39m = \u001B[38;5;28;01mFalse\u001B[39;00m):\n\u001B[32m   7673\u001B[39m     \u001B[38;5;66;03m# QuantumCircuit._append is semi-public, so we just call back to it.\u001B[39;00m\n\u001B[32m-> \u001B[39m\u001B[32m7674\u001B[39m     \u001B[38;5;28;01mreturn\u001B[39;00m \u001B[38;5;28;43mself\u001B[39;49m\u001B[43m.\u001B[49m\u001B[43mcircuit\u001B[49m\u001B[43m.\u001B[49m\u001B[43m_append\u001B[49m\u001B[43m(\u001B[49m\u001B[43minstruction\u001B[49m\u001B[43m,\u001B[49m\u001B[43m \u001B[49m\u001B[43m_standard_gate\u001B[49m\u001B[43m=\u001B[49m\u001B[43m_standard_gate\u001B[49m\u001B[43m)\u001B[49m\n",
      "\u001B[36mFile \u001B[39m\u001B[32m~/Library/CloudStorage/OneDrive-NationalUniversityofSingapore/Coding_projects/qiskit/qiskit/circuit/quantumcircuit.py:2972\u001B[39m, in \u001B[36mQuantumCircuit._append\u001B[39m\u001B[34m(self, instruction, qargs, cargs, _standard_gate)\u001B[39m\n\u001B[32m   2966\u001B[39m \u001B[38;5;66;03m# If there is a reference to the outer circuit in an\u001B[39;00m\n\u001B[32m   2967\u001B[39m \u001B[38;5;66;03m# instruction param the inner rust append method will raise a runtime error.\u001B[39;00m\n\u001B[32m   2968\u001B[39m \u001B[38;5;66;03m# When this happens we need to handle the parameters separately.\u001B[39;00m\n\u001B[32m   2969\u001B[39m \u001B[38;5;66;03m# This shouldn't happen in practice but 2 tests were doing this and it's not\u001B[39;00m\n\u001B[32m   2970\u001B[39m \u001B[38;5;66;03m# explicitly prohibted by the API.\u001B[39;00m\n\u001B[32m   2971\u001B[39m \u001B[38;5;28;01mtry\u001B[39;00m:\n\u001B[32m-> \u001B[39m\u001B[32m2972\u001B[39m     \u001B[38;5;28;43mself\u001B[39;49m\u001B[43m.\u001B[49m\u001B[43m_data\u001B[49m\u001B[43m.\u001B[49m\u001B[43mappend\u001B[49m\u001B[43m(\u001B[49m\u001B[43minstruction\u001B[49m\u001B[43m)\u001B[49m\n\u001B[32m   2973\u001B[39m \u001B[38;5;28;01mexcept\u001B[39;00m \u001B[38;5;167;01mRuntimeError\u001B[39;00m:\n\u001B[32m   2974\u001B[39m     params = [\n\u001B[32m   2975\u001B[39m         (idx, param.parameters)\n\u001B[32m   2976\u001B[39m         \u001B[38;5;28;01mfor\u001B[39;00m idx, param \u001B[38;5;129;01min\u001B[39;00m \u001B[38;5;28menumerate\u001B[39m(instruction.operation.params)\n\u001B[32m   2977\u001B[39m         \u001B[38;5;28;01mif\u001B[39;00m \u001B[38;5;28misinstance\u001B[39m(param, (ParameterExpression, QuantumCircuit))\n\u001B[32m   2978\u001B[39m     ]\n",
      "\u001B[31mKeyboardInterrupt\u001B[39m: "
     ]
    }
   ],
   "execution_count": 8
  },
  {
   "cell_type": "code",
   "id": "8c9bc8d3",
   "metadata": {
    "ExecuteTime": {
     "end_time": "2025-10-27T11:58:06.640114Z",
     "start_time": "2025-10-27T11:52:26.269983Z"
    }
   },
   "source": [
    "reward1.get_reward_with_primitive(data, q_env1.estimator)"
   ],
   "outputs": [
    {
     "data": {
      "text/plain": [
       "array([0.59668057])"
      ]
     },
     "execution_count": 25,
     "metadata": {},
     "output_type": "execute_result"
    }
   ],
   "execution_count": 25
  },
  {
   "cell_type": "code",
   "id": "b26f6d00",
   "metadata": {
    "ExecuteTime": {
     "end_time": "2025-10-27T11:46:17.402378Z",
     "start_time": "2025-10-27T11:46:17.399093Z"
    }
   },
   "source": [
    "data.fiducials"
   ],
   "outputs": [
    {
     "data": {
      "text/plain": [
       "[(PauliList(['Z']),\n",
       "  SparsePauliOp(['Y'],\n",
       "                coeffs=[0.16865+0.j])),\n",
       " (PauliList(['Y']),\n",
       "  SparsePauliOp(['Z'],\n",
       "                coeffs=[0.1633+0.j])),\n",
       " (PauliList(['X']),\n",
       "  SparsePauliOp(['X'],\n",
       "                coeffs=[0.16805+0.j]))]"
      ]
     },
     "execution_count": 7,
     "metadata": {},
     "output_type": "execute_result"
    }
   ],
   "execution_count": 7
  },
  {
   "cell_type": "code",
   "id": "9aa1f066",
   "metadata": {
    "ExecuteTime": {
     "end_time": "2025-10-27T11:46:17.465566Z",
     "start_time": "2025-10-27T11:46:17.462143Z"
    }
   },
   "source": [
    "data2 = reward2.get_reward_data(q_env2.circuit, np.zeros((1, 1)), q_env2.config)"
   ],
   "outputs": [],
   "execution_count": 8
  },
  {
   "cell_type": "code",
   "id": "77c6b140",
   "metadata": {
    "ExecuteTime": {
     "end_time": "2025-10-27T11:58:16.419045Z",
     "start_time": "2025-10-27T11:58:16.356408Z"
    }
   },
   "source": [
    "reward2.get_reward_with_primitive(data2, q_env2.estimator)"
   ],
   "outputs": [
    {
     "data": {
      "text/plain": [
       "array([[0.66666667]])"
      ]
     },
     "execution_count": 26,
     "metadata": {},
     "output_type": "execute_result"
    }
   ],
   "execution_count": 26
  },
  {
   "cell_type": "code",
   "id": "085b295b",
   "metadata": {
    "ExecuteTime": {
     "end_time": "2025-10-27T13:18:37.183272Z",
     "start_time": "2025-10-27T13:18:37.082711Z"
    }
   },
   "source": [
    "data.fiducials"
   ],
   "outputs": [
    {
     "ename": "NameError",
     "evalue": "name 'data' is not defined",
     "output_type": "error",
     "traceback": [
      "\u001B[31m---------------------------------------------------------------------------\u001B[39m",
      "\u001B[31mNameError\u001B[39m                                 Traceback (most recent call last)",
      "\u001B[36mCell\u001B[39m\u001B[36m \u001B[39m\u001B[32mIn[1]\u001B[39m\u001B[32m, line 1\u001B[39m\n\u001B[32m----> \u001B[39m\u001B[32m1\u001B[39m \u001B[43mdata\u001B[49m.fiducials\n",
      "\u001B[31mNameError\u001B[39m: name 'data' is not defined"
     ]
    }
   ],
   "execution_count": 1
  },
  {
   "cell_type": "code",
   "id": "e6e9c289",
   "metadata": {
    "ExecuteTime": {
     "end_time": "2025-10-27T11:46:23.260727Z",
     "start_time": "2025-10-27T11:46:23.254735Z"
    }
   },
   "source": [
    "target.Chi(1)"
   ],
   "outputs": [
    {
     "data": {
      "text/plain": [
       "array([ 1.00000000e+00,  0.00000000e+00,  0.00000000e+00,  0.00000000e+00,\n",
       "        0.00000000e+00,  1.00000000e+00,  0.00000000e+00,  0.00000000e+00,\n",
       "        0.00000000e+00,  0.00000000e+00,  2.22044605e-16,  1.00000000e+00,\n",
       "        0.00000000e+00,  0.00000000e+00, -1.00000000e+00,  2.22044605e-16])"
      ]
     },
     "execution_count": 11,
     "metadata": {},
     "output_type": "execute_result"
    }
   ],
   "execution_count": 11
  },
  {
   "cell_type": "code",
   "id": "ec2e2033",
   "metadata": {
    "ExecuteTime": {
     "end_time": "2025-10-27T11:46:45.357982Z",
     "start_time": "2025-10-27T11:46:34.185799Z"
    }
   },
   "source": "q_env1.initial_reward_fit(np.ones(1), reward_method=[\"fidelity\", \"channel\"])\n",
   "outputs": [
    {
     "name": "stdout",
     "output_type": "stream",
     "text": [
      "Number of repetitions: 1\n",
      "Reward (avg): 0.9471569949359656 Std: 0.0\n",
      "Number of repetitions: 2\n",
      "Reward (avg): 0.8053822788490477 Std: 0.0\n",
      "Number of repetitions: 3\n",
      "Reward (avg): 0.6196266639800445 Std: 0.0\n",
      "Number of repetitions: 4\n",
      "Reward (avg): 0.44878545971212963 Std: 0.0\n",
      "Number of repetitions: 5\n",
      "Reward (avg): 0.34702524177895394 Std: 0.0\n",
      "Number of repetitions: 6\n",
      "Reward (avg): 0.3466099044498779 Std: 0.0\n",
      "Number of repetitions: 7\n",
      "Reward (avg): 0.4476711337604034 Std: 0.0\n",
      "Number of repetitions: 8\n",
      "Reward (avg): 0.6181666553971286 Std: 0.0\n",
      "Number of repetitions: 9\n",
      "Reward (avg): 0.8040394950805855 Std: 0.0\n",
      "Number of repetitions: 10\n",
      "Reward (avg): 0.9463571763588178 Std: 0.0\n",
      "Number of repetitions: 11\n",
      "Reward (avg): 0.9999967355169018 Std: 0.0\n",
      "Number of repetitions: 12\n",
      "Reward (avg): 0.9479513195774985 Std: 0.0\n",
      "Number of repetitions: 13\n",
      "Reward (avg): 0.8067223456088817 Std: 0.0\n",
      "Number of repetitions: 14\n",
      "Reward (avg): 0.6210875939307233 Std: 0.0\n",
      "Number of repetitions: 15\n",
      "Reward (avg): 0.4499040532809619 Std: 0.0\n",
      "Number of repetitions: 16\n",
      "Reward (avg): 0.34744683989220543 Std: 0.0\n",
      "Number of repetitions: 17\n",
      "Reward (avg): 0.34620083604014745 Std: 0.0\n",
      "Number of repetitions: 18\n",
      "Reward (avg): 0.4465610972519727 Std: 0.0\n",
      "Number of repetitions: 19\n",
      "Reward (avg): 0.6167075967790153 Std: 0.0\n",
      "Number of repetitions: 20\n",
      "Reward (avg): 0.8026940206044637 Std: 0.0\n",
      "Number of repetitions: 21\n",
      "Reward (avg): 0.9455518795120191 Std: 0.0\n",
      "Number of repetitions: 22\n",
      "Reward (avg): 0.9999869421315468 Std: 0.0\n",
      "Number of repetitions: 23\n",
      "Reward (avg): 0.9487401347250586 Std: 0.0\n",
      "Number of repetitions: 24\n",
      "Reward (avg): 0.8080596691123345 Std: 0.0\n",
      "Number of repetitions: 25\n",
      "Reward (avg): 0.6225494166340777 Std: 0.0\n",
      "Number of repetitions: 26\n",
      "Reward (avg): 0.45102689255712125 Std: 0.0\n",
      "Number of repetitions: 27\n",
      "Reward (avg): 0.3478746905318328 Std: 0.0\n",
      "Number of repetitions: 28\n",
      "Reward (avg): 0.345798044562144 Std: 0.0\n",
      "Number of repetitions: 29\n",
      "Reward (avg): 0.44545537192900975 Std: 0.0\n",
      "Found parameters (fidelity method): [9.99999982e-02 1.38842090e-02 3.74819418e-18]\n",
      "Number of repetitions: 1\n",
      "DFE precision guarantee (0.01, 0.01)\n",
      "Reward (avg): 0.7342328074780003 Std: 0.0\n",
      "Number of repetitions: 2\n",
      "DFE precision guarantee (0.01, 0.01)\n",
      "Reward (avg): 0.6510410851495719 Std: 0.0\n",
      "Number of repetitions: 3\n",
      "DFE precision guarantee (0.01, 0.01)\n",
      "Reward (avg): 0.5682191577455106 Std: 0.0\n",
      "Number of repetitions: 4\n",
      "DFE precision guarantee (0.01, 0.01)\n",
      "Reward (avg): 0.4721871524664217 Std: 0.0\n",
      "Number of repetitions: 5\n",
      "DFE precision guarantee (0.01, 0.01)\n",
      "Reward (avg): 0.42832572982860095 Std: 0.0\n",
      "Number of repetitions: 6\n",
      "DFE precision guarantee (0.01, 0.01)\n",
      "Reward (avg): 0.4316438680491552 Std: 0.0\n",
      "Number of repetitions: 7\n",
      "DFE precision guarantee (0.01, 0.01)\n",
      "Reward (avg): 0.47528345451598586 Std: 0.0\n",
      "Number of repetitions: 8\n",
      "DFE precision guarantee (0.01, 0.01)\n",
      "Reward (avg): 0.5608521896977448 Std: 0.0\n",
      "Number of repetitions: 9\n",
      "DFE precision guarantee (0.01, 0.01)\n",
      "Reward (avg): 0.6429501100652141 Std: 0.0\n",
      "Number of repetitions: 10\n",
      "DFE precision guarantee (0.01, 0.01)\n",
      "Reward (avg): 0.7253292703456777 Std: 0.0\n",
      "Number of repetitions: 11\n",
      "DFE precision guarantee (0.01, 0.01)\n",
      "Reward (avg): 0.7626885599438203 Std: 0.0\n",
      "Number of repetitions: 12\n",
      "DFE precision guarantee (0.01, 0.01)\n",
      "Reward (avg): 0.7173931380803972 Std: 0.0\n",
      "Number of repetitions: 13\n",
      "DFE precision guarantee (0.01, 0.01)\n",
      "Reward (avg): 0.6547044600489204 Std: 0.0\n",
      "Number of repetitions: 14\n",
      "DFE precision guarantee (0.01, 0.01)\n",
      "Reward (avg): 0.556315666232661 Std: 0.0\n",
      "Number of repetitions: 15\n",
      "DFE precision guarantee (0.01, 0.01)\n",
      "Reward (avg): 0.4777300106862323 Std: 0.0\n",
      "Number of repetitions: 16\n",
      "DFE precision guarantee (0.01, 0.01)\n",
      "Reward (avg): 0.42316308543180164 Std: 0.0\n",
      "Number of repetitions: 17\n",
      "DFE precision guarantee (0.01, 0.01)\n",
      "Reward (avg): 0.4282717203391422 Std: 0.0\n",
      "Number of repetitions: 18\n",
      "DFE precision guarantee (0.01, 0.01)\n",
      "Reward (avg): 0.4756485224490576 Std: 0.0\n",
      "Number of repetitions: 19\n",
      "DFE precision guarantee (0.01, 0.01)\n",
      "Reward (avg): 0.5653193437242195 Std: 0.0\n",
      "Number of repetitions: 20\n",
      "DFE precision guarantee (0.01, 0.01)\n",
      "Reward (avg): 0.6353492123498774 Std: 0.0\n",
      "Number of repetitions: 21\n",
      "DFE precision guarantee (0.01, 0.01)\n",
      "Reward (avg): 0.7211221190142072 Std: 0.0\n",
      "Number of repetitions: 22\n",
      "DFE precision guarantee (0.01, 0.01)\n",
      "Reward (avg): 0.744333931228172 Std: 0.0\n",
      "Number of repetitions: 23\n",
      "DFE precision guarantee (0.01, 0.01)\n",
      "Reward (avg): 0.726566084187707 Std: 0.0\n",
      "Number of repetitions: 24\n",
      "DFE precision guarantee (0.01, 0.01)\n",
      "Reward (avg): 0.6589380574491376 Std: 0.0\n",
      "Number of repetitions: 25\n",
      "DFE precision guarantee (0.01, 0.01)\n",
      "Reward (avg): 0.5685589702062893 Std: 0.0\n",
      "Number of repetitions: 26\n",
      "DFE precision guarantee (0.01, 0.01)\n",
      "Reward (avg): 0.4732536536532414 Std: 0.0\n",
      "Number of repetitions: 27\n",
      "DFE precision guarantee (0.01, 0.01)\n",
      "Reward (avg): 0.42020508619477753 Std: 0.0\n",
      "Number of repetitions: 28\n",
      "DFE precision guarantee (0.01, 0.01)\n",
      "Reward (avg): 0.4265202349642543 Std: 0.0\n",
      "Number of repetitions: 29\n",
      "DFE precision guarantee (0.01, 0.01)\n",
      "Reward (avg): 0.4747977920139899 Std: 0.0\n",
      "Found parameters (channel method): [9.99999988e-02 1.70824215e-02 2.72344394e-16]\n"
     ]
    },
    {
     "data": {
      "text/plain": [
       "[[np.float64(0.9471569949359656),\n",
       "  np.float64(0.8053822788490477),\n",
       "  np.float64(0.6196266639800445),\n",
       "  np.float64(0.44878545971212963),\n",
       "  np.float64(0.34702524177895394),\n",
       "  np.float64(0.3466099044498779),\n",
       "  np.float64(0.4476711337604034),\n",
       "  np.float64(0.6181666553971286),\n",
       "  np.float64(0.8040394950805855),\n",
       "  np.float64(0.9463571763588178),\n",
       "  np.float64(0.9999967355169018),\n",
       "  np.float64(0.9479513195774985),\n",
       "  np.float64(0.8067223456088817),\n",
       "  np.float64(0.6210875939307233),\n",
       "  np.float64(0.4499040532809619),\n",
       "  np.float64(0.34744683989220543),\n",
       "  np.float64(0.34620083604014745),\n",
       "  np.float64(0.4465610972519727),\n",
       "  np.float64(0.6167075967790153),\n",
       "  np.float64(0.8026940206044637),\n",
       "  np.float64(0.9455518795120191),\n",
       "  np.float64(0.9999869421315468),\n",
       "  np.float64(0.9487401347250586),\n",
       "  np.float64(0.8080596691123345),\n",
       "  np.float64(0.6225494166340777),\n",
       "  np.float64(0.45102689255712125),\n",
       "  np.float64(0.3478746905318328),\n",
       "  np.float64(0.345798044562144),\n",
       "  np.float64(0.44545537192900975)],\n",
       " [np.float64(0.7342328074780003),\n",
       "  np.float64(0.6510410851495719),\n",
       "  np.float64(0.5682191577455106),\n",
       "  np.float64(0.4721871524664217),\n",
       "  np.float64(0.42832572982860095),\n",
       "  np.float64(0.4316438680491552),\n",
       "  np.float64(0.47528345451598586),\n",
       "  np.float64(0.5608521896977448),\n",
       "  np.float64(0.6429501100652141),\n",
       "  np.float64(0.7253292703456777),\n",
       "  np.float64(0.7626885599438203),\n",
       "  np.float64(0.7173931380803972),\n",
       "  np.float64(0.6547044600489204),\n",
       "  np.float64(0.556315666232661),\n",
       "  np.float64(0.4777300106862323),\n",
       "  np.float64(0.42316308543180164),\n",
       "  np.float64(0.4282717203391422),\n",
       "  np.float64(0.4756485224490576),\n",
       "  np.float64(0.5653193437242195),\n",
       "  np.float64(0.6353492123498774),\n",
       "  np.float64(0.7211221190142072),\n",
       "  np.float64(0.744333931228172),\n",
       "  np.float64(0.726566084187707),\n",
       "  np.float64(0.6589380574491376),\n",
       "  np.float64(0.5685589702062893),\n",
       "  np.float64(0.4732536536532414),\n",
       "  np.float64(0.42020508619477753),\n",
       "  np.float64(0.4265202349642543),\n",
       "  np.float64(0.4747977920139899)]]"
      ]
     },
     "execution_count": 13,
     "metadata": {},
     "output_type": "execute_result"
    },
    {
     "data": {
      "text/plain": [
       "<Figure size 640x480 with 1 Axes>"
      ],
      "image/png": "[encoded data removed]"
     },
     "metadata": {},
     "output_type": "display_data",
     "jetTransient": {
      "display_id": null
     }
    }
   ],
   "execution_count": 13
  },
  {
   "cell_type": "code",
   "execution_count": null,
   "id": "e2980676",
   "metadata": {},
   "outputs": [],
   "source": []
  }
 ],
 "metadata": {
  "kernelspec": {
   "display_name": ".venv",
   "language": "python",
   "name": "python3"
  },
  "language_info": {
   "codemirror_mode": {
    "name": "ipython",
    "version": 3
   },
   "file_extension": ".py",
   "mimetype": "text/x-python",
   "name": "python",
   "nbconvert_exporter": "python",
   "pygments_lexer": "ipython3",
   "version": "3.11.5"
  }
 },
 "nbformat": 4,
 "nbformat_minor": 5
}

{
 "cells": [
  {
   "cell_type": "code",
   "id": "d52d8e3c",
   "metadata": {
    "ExecuteTime": {
     "end_time": "2025-10-31T10:36:26.890423Z",
     "start_time": "2025-10-31T10:36:17.673150Z"
    }
   },
   "source": [
    "from rl_qoc import QuantumEnvironment, ChannelReward, QiskitConfig, QEnvConfig, ExecutionConfig, GateTarget, FidelityReward\n",
    "from qiskit.circuit import QuantumCircuit, ParameterVector\n",
    "from qiskit.circuit.library import RXGate, UGate, RZXGate\n",
    "from gymnasium.spaces import Box\n",
    "import numpy as np\n",
    "seed = 30980922\n",
    "np.random.seed(seed)\n",
    "params = ParameterVector(\"a\", 1)\n",
    "angle = np.random.uniform(-np.pi, np.pi, size=(1,))\n",
    "angle = np.array([np.pi/2])\n",
    "gate = RXGate(*angle)\n",
    "target = GateTarget(gate, (0,))\n",
    "def apply_qc(qc:QuantumCircuit, params, qreg):\n",
    "    # qc.rzx(params[0], qreg[0], qreg[1])\n",
    "    qc.rx(params[0], qreg[0])\n",
    "\n",
    "action_space = Box(-np.pi, np.pi, shape=(1,))\n",
    "backend_config = QiskitConfig(apply_qc)\n",
    "exec = ExecutionConfig(sampling_paulis=10000, n_shots=1, batch_size=1, n_reps=list(range(1, 10)),\n",
    "                       dfe_precision=(0.01, 0.01), seed=seed,\n",
    "                       c_factor=1)\n",
    "channel = ChannelReward()\n",
    "fidelity = FidelityReward()\n",
    "channel_config = QEnvConfig(target, backend_config, action_space, reward=channel, execution_config=exec)\n",
    "\n",
    "fidelity_config = QEnvConfig(target, backend_config, action_space, reward=fidelity,execution_config=exec)\n",
    "\n",
    "fidelity_env = QuantumEnvironment(fidelity_config)\n",
    "channel_env = QuantumEnvironment(channel_config)"
   ],
   "outputs": [
    {
     "name": "stderr",
     "output_type": "stream",
     "text": [
      "/Users/arthurostrauss/Library/CloudStorage/OneDrive-NationalUniversityofSingapore/Coding_projects/Quantum_Optimal_Control/rl_qoc/helpers/__init__.py:9: UserWarning: pulse_utils is not available\n",
      "  warnings.warn(\"pulse_utils is not available\")\n",
      "/Users/arthurostrauss/Documents/.venv/lib/python3.11/site-packages/pydantic/_internal/_generate_schema.py:2249: UnsupportedFieldAttributeWarning: The 'repr' attribute with value False was provided to the `Field()` function, which has no effect in the context it was used. 'repr' is field-specific metadata, and can only be attached to a model field using `Annotated` metadata or by assignment. This may have happened because an `Annotated` type alias using the `type` statement was used, or if the `Field()` function was attached to a single member of a union type.\n",
      "  warnings.warn(\n",
      "/Users/arthurostrauss/Documents/.venv/lib/python3.11/site-packages/pydantic/_internal/_generate_schema.py:2249: UnsupportedFieldAttributeWarning: The 'frozen' attribute with value True was provided to the `Field()` function, which has no effect in the context it was used. 'frozen' is field-specific metadata, and can only be attached to a model field using `Annotated` metadata or by assignment. This may have happened because an `Annotated` type alias using the `type` statement was used, or if the `Field()` function was attached to a single member of a union type.\n",
      "  warnings.warn(\n"
     ]
    }
   ],
   "execution_count": 1
  },
  {
   "cell_type": "code",
   "id": "28b03d5b",
   "metadata": {
    "ExecuteTime": {
     "end_time": "2025-10-31T10:36:26.897996Z",
     "start_time": "2025-10-31T10:36:26.895911Z"
    }
   },
   "source": [
    "print(gate.to_matrix())"
   ],
   "outputs": [
    {
     "name": "stdout",
     "output_type": "stream",
     "text": [
      "[[0.70710678+0.j         0.        -0.70710678j]\n",
      " [0.        -0.70710678j 0.70710678+0.j        ]]\n"
     ]
    }
   ],
   "execution_count": 2
  },
  {
   "cell_type": "code",
   "id": "cf8c8a47",
   "metadata": {
    "ExecuteTime": {
     "end_time": "2025-10-31T10:36:26.912580Z",
     "start_time": "2025-10-31T10:36:26.910061Z"
    }
   },
   "source": [
    "angle\n"
   ],
   "outputs": [
    {
     "data": {
      "text/plain": [
       "array([1.57079633])"
      ]
     },
     "execution_count": 3,
     "metadata": {},
     "output_type": "execute_result"
    }
   ],
   "execution_count": 3
  },
  {
   "cell_type": "code",
   "id": "d71fdfde",
   "metadata": {
    "ExecuteTime": {
     "end_time": "2025-10-31T10:36:27.076238Z",
     "start_time": "2025-10-31T10:36:26.922655Z"
    }
   },
   "source": "channel_env.circuit.draw(\"mpl\")",
   "outputs": [
    {
     "data": {
      "text/plain": [
       "<Figure size 207.895x117.056 with 1 Axes>"
      ],
      "image/png": "[encoded data removed]"
     },
     "execution_count": 4,
     "metadata": {},
     "output_type": "execute_result"
    }
   ],
   "execution_count": 4
  },
  {
   "cell_type": "code",
   "id": "28ee98f7",
   "metadata": {
    "ExecuteTime": {
     "end_time": "2025-10-31T10:36:27.150174Z",
     "start_time": "2025-10-31T10:36:27.089219Z"
    }
   },
   "source": [
    "data_no_dfe = channel.get_reward_data(channel_env.circuit, np.ones((1, 1)), channel_config, dfe_precision=None)\n",
    "channel.get_reward_with_primitive(data_no_dfe, channel_env.estimator)"
   ],
   "outputs": [
    {
     "data": {
      "text/plain": [
       "array([0.69309057])"
      ]
     },
     "execution_count": 5,
     "metadata": {},
     "output_type": "execute_result"
    }
   ],
   "execution_count": 5
  },
  {
   "metadata": {
    "ExecuteTime": {
     "end_time": "2025-10-31T10:36:27.168436Z",
     "start_time": "2025-10-31T10:36:27.165755Z"
    }
   },
   "cell_type": "code",
   "source": "data_no_dfe[0].fiducials",
   "id": "9edc2cec3240fc8a",
   "outputs": [
    {
     "data": {
      "text/plain": [
       "(PauliList(['Z', 'I']),\n",
       " SparsePauliOp(['Y', 'I'],\n",
       "               coeffs=[-0.062375+0.j,  0.062375+0.j]))"
      ]
     },
     "execution_count": 6,
     "metadata": {},
     "output_type": "execute_result"
    }
   ],
   "execution_count": 6
  },
  {
   "metadata": {
    "ExecuteTime": {
     "end_time": "2025-10-31T10:36:27.185518Z",
     "start_time": "2025-10-31T10:36:27.182930Z"
    }
   },
   "cell_type": "code",
   "source": "data_no_dfe[1].fiducials",
   "id": "d96b9ec584f83ffa",
   "outputs": [
    {
     "data": {
      "text/plain": [
       "(PauliList(['Z', 'I']),\n",
       " SparsePauliOp(['Y', 'I'],\n",
       "               coeffs=[0.062625+0.j, 0.062625+0.j]))"
      ]
     },
     "execution_count": 7,
     "metadata": {},
     "output_type": "execute_result"
    }
   ],
   "execution_count": 7
  },
  {
   "metadata": {
    "ExecuteTime": {
     "end_time": "2025-10-31T10:36:27.198841Z",
     "start_time": "2025-10-31T10:36:27.196835Z"
    }
   },
   "cell_type": "code",
   "source": "data_no_dfe[1].pauli_eigenstate",
   "id": "2bcb9d1399b3e584",
   "outputs": [
    {
     "data": {
      "text/plain": [
       "'|1>'"
      ]
     },
     "execution_count": 8,
     "metadata": {},
     "output_type": "execute_result"
    }
   ],
   "execution_count": 8
  },
  {
   "cell_type": "code",
   "id": "8c9bc8d3",
   "metadata": {
    "ExecuteTime": {
     "end_time": "2025-10-31T10:36:27.223646Z",
     "start_time": "2025-10-31T10:36:27.220052Z"
    }
   },
   "source": [
    "print(data_no_dfe.fiducials)\n",
    "data_no_dfe.pubs[0]"
   ],
   "outputs": [
    {
     "name": "stdout",
     "output_type": "stream",
     "text": [
      "[(PauliList(['Z', 'I']), SparsePauliOp(['Y', 'I'],\n",
      "              coeffs=[-0.062375+0.j,  0.062375+0.j])), (PauliList(['Z', 'I']), SparsePauliOp(['Y', 'I'],\n",
      "              coeffs=[0.062625+0.j, 0.062625+0.j])), (PauliList(['Y']), SparsePauliOp(['Z'],\n",
      "              coeffs=[0.06275+0.j])), (PauliList(['Y']), SparsePauliOp(['Z'],\n",
      "              coeffs=[-0.0633+0.j])), (PauliList(['X']), SparsePauliOp(['X'],\n",
      "              coeffs=[0.0628+0.j])), (PauliList(['X']), SparsePauliOp(['X'],\n",
      "              coeffs=[-0.06115+0.j]))]\n"
     ]
    },
    {
     "data": {
      "text/plain": [
       "EstimatorPub(<(1,)>)"
      ]
     },
     "execution_count": 9,
     "metadata": {},
     "output_type": "execute_result"
    }
   ],
   "execution_count": 9
  },
  {
   "cell_type": "code",
   "id": "b26f6d00",
   "metadata": {
    "ExecuteTime": {
     "end_time": "2025-10-31T10:36:27.279205Z",
     "start_time": "2025-10-31T10:36:27.237499Z"
    }
   },
   "source": [
    "data_dfe = channel.get_reward_data(channel_env.circuit, np.ones((1, 1)), channel_config, dfe_precision=(0.01, 0.01))\n",
    "channel.get_reward_with_primitive(data_dfe, channel_env.estimator)"
   ],
   "outputs": [
    {
     "name": "stdout",
     "output_type": "stream",
     "text": [
      "DFE precision guarantee (0.01, 0.01)\n",
      "Pauli sampling 1000000\n"
     ]
    },
    {
     "data": {
      "text/plain": [
       "array([0.64569393])"
      ]
     },
     "execution_count": 10,
     "metadata": {},
     "output_type": "execute_result"
    }
   ],
   "execution_count": 10
  },
  {
   "metadata": {
    "ExecuteTime": {
     "end_time": "2025-10-31T10:36:33.871092Z",
     "start_time": "2025-10-31T10:36:33.864824Z"
    }
   },
   "cell_type": "code",
   "source": [
    "print(data_dfe.fiducials)\n",
    "data_dfe.pubs[0].precision"
   ],
   "id": "1eee2eb66873f35e",
   "outputs": [
    {
     "name": "stdout",
     "output_type": "stream",
     "text": [
      "[(PauliList(['Z', 'I']), SparsePauliOp(['Y', 'I'],\n",
      "              coeffs=[-0.06237175+0.j,  0.06237175+0.j])), (PauliList(['Z', 'I']), SparsePauliOp(['Y', 'I'],\n",
      "              coeffs=[0.06233725+0.j, 0.06233725+0.j])), (PauliList(['Y']), SparsePauliOp(['Z'],\n",
      "              coeffs=[0.0625645+0.j])), (PauliList(['Y']), SparsePauliOp(['Z'],\n",
      "              coeffs=[-0.062662+0.j])), (PauliList(['X']), SparsePauliOp(['X'],\n",
      "              coeffs=[0.062674+0.j])), (PauliList(['X']), SparsePauliOp(['X'],\n",
      "              coeffs=[-0.0626815+0.j]))]\n"
     ]
    },
    {
     "data": {
      "text/plain": [
       "np.float64(0.0061501498963550455)"
      ]
     },
     "execution_count": 11,
     "metadata": {},
     "output_type": "execute_result"
    }
   ],
   "execution_count": 11
  },
  {
   "cell_type": "code",
   "id": "9aa1f066",
   "metadata": {
    "ExecuteTime": {
     "end_time": "2025-10-31T10:36:34.142478Z",
     "start_time": "2025-10-31T10:36:34.136016Z"
    }
   },
   "source": "data2 = fidelity.get_reward_data(fidelity_env.circuit, np.ones((1, 1)), fidelity_config)",
   "outputs": [],
   "execution_count": 12
  },
  {
   "cell_type": "code",
   "id": "77c6b140",
   "metadata": {
    "ExecuteTime": {
     "end_time": "2025-10-31T10:36:34.801941Z",
     "start_time": "2025-10-31T10:36:34.790939Z"
    }
   },
   "source": "fidelity.get_reward_with_primitive(data2, fidelity_env.estimator)",
   "outputs": [
    {
     "data": {
      "text/plain": [
       "array([[0.94715699]])"
      ]
     },
     "execution_count": 13,
     "metadata": {},
     "output_type": "execute_result"
    }
   ],
   "execution_count": 13
  },
  {
   "cell_type": "code",
   "id": "ec2e2033",
   "metadata": {
    "ExecuteTime": {
     "end_time": "2025-10-31T10:36:36.350634Z",
     "start_time": "2025-10-31T10:36:35.241591Z"
    }
   },
   "source": [
    "channel_env.initial_reward_fit(1*np.ones((1, 1)), reward_method=[\"fidelity\", \"channel\"],\n",
    "                          execution_config=ExecutionConfig(batch_size=1, n_reps= list(range(1, 30)), dfe_precision=(0.01, 0.01), seed=seed, c_factor=1))\n"
   ],
   "outputs": [
    {
     "name": "stdout",
     "output_type": "stream",
     "text": [
      "Number of repetitions: 1\n",
      "Number of repetitions: 2\n",
      "Number of repetitions: 3\n",
      "Number of repetitions: 4\n",
      "Number of repetitions: 5\n",
      "Number of repetitions: 6\n",
      "Number of repetitions: 7\n",
      "Number of repetitions: 8\n",
      "Number of repetitions: 9\n",
      "Number of repetitions: 10\n",
      "Number of repetitions: 11\n",
      "Number of repetitions: 12\n",
      "Number of repetitions: 13\n",
      "Number of repetitions: 14\n",
      "Number of repetitions: 15\n",
      "Number of repetitions: 16\n",
      "Number of repetitions: 17\n",
      "Number of repetitions: 18\n",
      "Number of repetitions: 19\n",
      "Number of repetitions: 20\n",
      "Number of repetitions: 21\n",
      "Number of repetitions: 22\n",
      "Number of repetitions: 23\n",
      "Number of repetitions: 24\n",
      "Number of repetitions: 25\n",
      "Number of repetitions: 26\n",
      "Number of repetitions: 27\n",
      "Number of repetitions: 28\n",
      "Number of repetitions: 29\n",
      "Found parameters (fidelity method): [9.99999982e-02 1.38842090e-02 3.74819418e-18]\n",
      "Number of repetitions: 1\n",
      "Number of repetitions: 2\n",
      "Number of repetitions: 3\n",
      "Number of repetitions: 4\n",
      "Number of repetitions: 5\n",
      "Number of repetitions: 6\n",
      "Number of repetitions: 7\n",
      "Number of repetitions: 8\n",
      "Number of repetitions: 9\n",
      "Number of repetitions: 10\n",
      "Number of repetitions: 11\n",
      "Number of repetitions: 12\n",
      "Number of repetitions: 13\n",
      "Number of repetitions: 14\n",
      "Number of repetitions: 15\n",
      "Number of repetitions: 16\n",
      "Number of repetitions: 17\n",
      "Number of repetitions: 18\n",
      "Number of repetitions: 19\n",
      "Number of repetitions: 20\n",
      "Number of repetitions: 21\n",
      "Number of repetitions: 22\n",
      "Number of repetitions: 23\n",
      "Number of repetitions: 24\n",
      "Number of repetitions: 25\n",
      "Number of repetitions: 26\n",
      "Number of repetitions: 27\n",
      "Number of repetitions: 28\n",
      "Number of repetitions: 29\n",
      "Found parameters (channel method): [9.99999999e-02 2.12532999e-02 3.07292885e-15]\n"
     ]
    },
    {
     "data": {
      "text/plain": [
       "[[np.float64(0.9471569949359656),\n",
       "  np.float64(0.8053822788490477),\n",
       "  np.float64(0.6196266639800445),\n",
       "  np.float64(0.44878545971212963),\n",
       "  np.float64(0.34702524177895394),\n",
       "  np.float64(0.3466099044498779),\n",
       "  np.float64(0.4476711337604034),\n",
       "  np.float64(0.6181666553971286),\n",
       "  np.float64(0.8040394950805855),\n",
       "  np.float64(0.9463571763588178),\n",
       "  np.float64(0.9999967355169018),\n",
       "  np.float64(0.9479513195774985),\n",
       "  np.float64(0.8067223456088817),\n",
       "  np.float64(0.6210875939307233),\n",
       "  np.float64(0.4499040532809619),\n",
       "  np.float64(0.34744683989220543),\n",
       "  np.float64(0.34620083604014745),\n",
       "  np.float64(0.4465610972519727),\n",
       "  np.float64(0.6167075967790153),\n",
       "  np.float64(0.8026940206044637),\n",
       "  np.float64(0.9455518795120191),\n",
       "  np.float64(0.9999869421315468),\n",
       "  np.float64(0.9487401347250586),\n",
       "  np.float64(0.8080596691123345),\n",
       "  np.float64(0.6225494166340777),\n",
       "  np.float64(0.45102689255712125),\n",
       "  np.float64(0.3478746905318328),\n",
       "  np.float64(0.345798044562144),\n",
       "  np.float64(0.44545537192900975)],\n",
       " [np.float64(0.655804405529318),\n",
       "  np.float64(0.5104180056108921),\n",
       "  np.float64(0.189223214951703),\n",
       "  np.float64(0.35770873526255703),\n",
       "  np.float64(0.21899508580460036),\n",
       "  np.float64(0.3786250154451978),\n",
       "  np.float64(0.39907144978150805),\n",
       "  np.float64(0.5730730119943505),\n",
       "  np.float64(0.5401365380506081),\n",
       "  np.float64(0.9963217623864006),\n",
       "  np.float64(0.7553606338629418),\n",
       "  np.float64(0.5235633273565387),\n",
       "  np.float64(0.752805835517465),\n",
       "  np.float64(0.5299051759006236),\n",
       "  np.float64(0.39247127877874827),\n",
       "  np.float64(0.12736707470401867),\n",
       "  np.float64(0.4043188016728738),\n",
       "  np.float64(0.5320290868711548),\n",
       "  np.float64(0.3113476994081172),\n",
       "  np.float64(0.613634508957079),\n",
       "  np.float64(0.7022628110587791),\n",
       "  np.float64(0.642116338820579),\n",
       "  np.float64(0.49079143768556216),\n",
       "  np.float64(0.5213448211455883),\n",
       "  np.float64(0.25202455018843756),\n",
       "  np.float64(0.3936579576340571),\n",
       "  np.float64(0.48301874800854777),\n",
       "  np.float64(0.3774378472910494),\n",
       "  np.float64(0.45701783389992995)]]"
      ]
     },
     "execution_count": 14,
     "metadata": {},
     "output_type": "execute_result"
    },
    {
     "data": {
      "text/plain": [
       "<Figure size 640x480 with 1 Axes>"
      ],
      "image/png": "[encoded data removed]"
     },
     "metadata": {},
     "output_type": "display_data",
     "jetTransient": {
      "display_id": null
     }
    }
   ],
   "execution_count": 14
  },
  {
   "cell_type": "code",
   "execution_count": null,
   "id": "e2980676",
   "metadata": {},
   "outputs": [],
   "source": []
  }
 ],
 "metadata": {
  "kernelspec": {
   "display_name": ".venv",
   "language": "python",
   "name": "python3"
  },
  "language_info": {
   "codemirror_mode": {
    "name": "ipython",
    "version": 3
   },
   "file_extension": ".py",
   "mimetype": "text/x-python",
   "name": "python",
   "nbconvert_exporter": "python",
   "pygments_lexer": "ipython3",
   "version": "3.11.5"
  }
 },
 "nbformat": 4,
 "nbformat_minor": 5
}

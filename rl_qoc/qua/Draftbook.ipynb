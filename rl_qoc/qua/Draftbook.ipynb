{
 "cells": [
  {
   "cell_type": "code",
   "id": "initial_id",
   "metadata": {
    "collapsed": true
   },
   "source": [
    "from qm.QuantumMachinesManager import QuantumMachinesManager\n",
    "from qm.qua import *\n",
    "from qm.simulate.credentials import create_credentials\n",
    "from rl_qoc.qua import clip_qua\n",
    "from rl_qoc.qua import ParameterTable\n",
    "from qiskit import pulse\n",
    "from qiskit.circuit import ParameterVector\n",
    "from qiskit.pulse.library import SymbolicPulse\n",
    "\n",
    "SymbolicPulse.disable_validation = True\n",
    "# Open communication with the server.\n",
    "qop_ip = None\n",
    "qmm = QuantumMachinesManager(\n",
    "    host=\"tyler-263ed49e.dev.quantum-machines.co\",\n",
    "    port=443,\n",
    "    credentials=create_credentials(),\n",
    ")\n",
    "params = ParameterTable({\"param1\": 3.7, \"param2\": 4.5})\n",
    "param_qiskit = ParameterVector(\"param\", 2)\n",
    "with program() as measureProg:\n",
    "    var = params.declare_variables()\n",
    "    ind = declare(int, value=5)\n",
    "    print(var)\n",
    "    clip_qua(params.get_parameter(\"param1\"), 2, 4)\n",
    "    save(var[0], \"var0\")\n",
    "    with pulse.build() as sched:\n",
    "        pulse.play(\n",
    "            pulse.Drag(\n",
    "                amp=param_qiskit[0], sigma=0.1, beta=param_qiskit[1], duration=160\n",
    "            ),\n",
    "            pulse.DriveChannel(0),\n",
    "        )\n",
    "    sched.assign_parameters({param_qiskit: var})\n",
    "# Simulate the program on the server\n",
    "# job = qmm.simulate(\n",
    "#     config,\n",
    "#     measureProg,\n",
    "#     SimulationConfig(\n",
    "#         4000,  # Duration of simulation in units of clock cycles (4 ns)\n",
    "#         simulation_interface=LoopbackInterface(\n",
    "#             [(\"con1\", 1, \"con1\", 1)]\n",
    "#         ),  # Simulate a loopback from analog output 1 to analog input 1\n",
    "#     ),\n",
    "# )\n",
    "\n",
    "# Fetch the results of the simulation\n",
    "# res = job.result_handles\n",
    "# str = res.get(\"var\").fetch_all()[\"value\"]\n",
    "# str\n",
    "print(sched)"
   ],
   "execution_count": null,
   "outputs": []
  },
  {
   "cell_type": "code",
   "source": [
    "from qiskit import pulse\n",
    "from qiskit.circuit import Parameter\n",
    "\n",
    "a = Parameter(\"a\")\n",
    "p = pulse.Drag(amp=a, sigma=0.1, beta=0.5, duration=160)\n",
    "for key, val in p.parameters.items():\n",
    "    print(key, val)"
   ],
   "metadata": {
    "collapsed": false,
    "ExecuteTime": {
     "end_time": "2024-03-06T08:53:09.100059Z",
     "start_time": "2024-03-06T08:53:09.094480Z"
    }
   },
   "id": "f1b4831cce9a8dea",
   "execution_count": 39,
   "outputs": []
  },
  {
   "cell_type": "code",
   "source": [
    "cst_p = pulse.Constant(160, 0.5)\n",
    "cst_p"
   ],
   "metadata": {
    "collapsed": false,
    "ExecuteTime": {
     "end_time": "2024-03-06T08:49:03.939875Z",
     "start_time": "2024-03-06T08:49:03.903850Z"
    }
   },
   "id": "5b752adf47bdb55d",
   "execution_count": 33,
   "outputs": []
  },
  {
   "cell_type": "code",
   "source": [
    "cst_p.duration"
   ],
   "metadata": {
    "collapsed": false,
    "ExecuteTime": {
     "end_time": "2024-03-06T08:49:14.412866Z",
     "start_time": "2024-03-06T08:49:14.406856Z"
    }
   },
   "id": "e7fd17bb24f67b61",
   "execution_count": 35,
   "outputs": []
  },
  {
   "cell_type": "code",
   "source": [
    "from qiskit_ibm_runtime.fake_provider import FakeJakartaV2\n",
    "\n",
    "backend = FakeJakartaV2()\n",
    "backend.target[\"cx\"][(0, 1)].error"
   ],
   "metadata": {
    "collapsed": false,
    "ExecuteTime": {
     "end_time": "2024-06-27T04:04:41.661462Z",
     "start_time": "2024-06-27T04:04:41.655402Z"
    }
   },
   "id": "703986246207ed88",
   "outputs": [
    {
     "data": {
      "text/plain": [
       "0.00891369980626483"
      ]
     },
     "execution_count": 7,
     "metadata": {},
     "output_type": "execute_result"
    }
   ],
   "execution_count": 7
  },
  {
   "cell_type": "code",
   "source": [
    "backend.target[\"measure\"][(0,)].calibration"
   ],
   "metadata": {
    "collapsed": false,
    "ExecuteTime": {
     "end_time": "2024-03-06T09:19:48.108532Z",
     "start_time": "2024-03-06T09:19:48.105767Z"
    }
   },
   "id": "c79fa3232c440273",
   "execution_count": 48,
   "outputs": []
  },
  {
   "cell_type": "code",
   "source": [
    "from quam.components import *\n",
    "from quam.examples.superconducting_qubits import Transmon, QuAM\n",
    "\n",
    "machine = QuAM()  #\n",
    "\n",
    "num_qubits = 2\n",
    "for idx in range(num_qubits):\n",
    "    # Create transmon qubit component\n",
    "    transmon = Transmon(id=idx)\n",
    "\n",
    "    # Add xy drive line channel\n",
    "    transmon.xy = IQChannel(\n",
    "        opx_output_I=(\"con1\", 3 * idx + 3),\n",
    "        opx_output_Q=(\"con1\", 3 * idx + 4),\n",
    "        frequency_converter_up=FrequencyConverter(\n",
    "            mixer=Mixer(),\n",
    "            local_oscillator=LocalOscillator(power=10, frequency=6e9),\n",
    "        ),\n",
    "        intermediate_frequency=100e6,\n",
    "    )\n",
    "\n",
    "    # Add transmon flux line channel\n",
    "    transmon.z = SingleChannel(opx_output=(\"con1\", 3 * idx + 5))\n",
    "\n",
    "    # Add resonator channel\n",
    "    transmon.resonator = InOutIQChannel(\n",
    "        id=idx,\n",
    "        opx_output_I=(\"con1\", 3 * idx + 1),\n",
    "        opx_output_Q=(\"con1\", 3 * idx + 2),\n",
    "        opx_input_I=(\"con1\", 1),\n",
    "        opx_input_Q=(\n",
    "            \"con1\",\n",
    "            2,\n",
    "        ),\n",
    "        frequency_converter_up=FrequencyConverter(\n",
    "            mixer=Mixer(), local_oscillator=LocalOscillator(power=10, frequency=6e9)\n",
    "        ),\n",
    "    )\n",
    "    machine.qubits[transmon.name] = transmon"
   ],
   "metadata": {
    "collapsed": false,
    "ExecuteTime": {
     "end_time": "2024-08-07T11:44:06.702917Z",
     "start_time": "2024-08-07T11:44:06.240564Z"
    }
   },
   "id": "84cf3604293bffd2",
   "outputs": [
    {
     "name": "stdout",
     "output_type": "stream",
     "text": [
      "2024-08-07 19:44:06,695 - qm - INFO     - Starting session: 6590b64e-d3e2-4ddd-b323-c0933bafd381\n"
     ]
    }
   ],
   "execution_count": 1
  },
  {
   "metadata": {
    "ExecuteTime": {
     "end_time": "2024-08-07T11:46:01.849055Z",
     "start_time": "2024-08-07T11:46:01.845490Z"
    }
   },
   "cell_type": "code",
   "source": [
    "for i in machine.qubits[\"q0\"].iterate_components():\n",
    "    print(i)"
   ],
   "id": "1d9a42a33c797315",
   "outputs": [
    {
     "name": "stdout",
     "output_type": "stream",
     "text": [
      "Transmon(id=0, xy=IQChannel(operations={}, id=None, digital_outputs={}, opx_output_I=('con1', 3), opx_output_Q=('con1', 4), opx_output_offset_I=None, opx_output_offset_Q=None, frequency_converter_up=FrequencyConverter(local_oscillator=LocalOscillator(frequency=6000000000.0, power=10), mixer=Mixer(local_oscillator_frequency=6000000000.0, intermediate_frequency=100000000.0, correction_gain=0, correction_phase=0), gain=None), intermediate_frequency=100000000.0, LO_frequency=6000000000.0, RF_frequency=6100000000.0), z=SingleChannel(operations={}, id=None, digital_outputs={}, opx_output=('con1', 5), filter_fir_taps=None, filter_iir_taps=None, opx_output_offset=None, intermediate_frequency=None), resonator=InOutIQChannel(operations={}, id=0, digital_outputs={}, opx_input_I=('con1', 1), opx_input_Q=('con1', 2), time_of_flight=24, smearing=0, opx_input_offset_I=None, opx_input_offset_Q=None, input_gain=None, frequency_converter_down=None, opx_output_I=('con1', 1), opx_output_Q=('con1', 2), opx_output_offset_I=None, opx_output_offset_Q=None, frequency_converter_up=FrequencyConverter(local_oscillator=LocalOscillator(frequency=6000000000.0, power=10), mixer=Mixer(local_oscillator_frequency=6000000000.0, intermediate_frequency=0.0, correction_gain=0, correction_phase=0), gain=None), intermediate_frequency=0.0, LO_frequency=6000000000.0, RF_frequency=6000000000.0))\n",
      "IQChannel(operations={}, id=None, digital_outputs={}, opx_output_I=('con1', 3), opx_output_Q=('con1', 4), opx_output_offset_I=None, opx_output_offset_Q=None, frequency_converter_up=FrequencyConverter(local_oscillator=LocalOscillator(frequency=6000000000.0, power=10), mixer=Mixer(local_oscillator_frequency=6000000000.0, intermediate_frequency=100000000.0, correction_gain=0, correction_phase=0), gain=None), intermediate_frequency=100000000.0, LO_frequency=6000000000.0, RF_frequency=6100000000.0)\n",
      "FrequencyConverter(local_oscillator=LocalOscillator(frequency=6000000000.0, power=10), mixer=Mixer(local_oscillator_frequency=6000000000.0, intermediate_frequency=100000000.0, correction_gain=0, correction_phase=0), gain=None)\n",
      "LocalOscillator(frequency=6000000000.0, power=10)\n",
      "Mixer(local_oscillator_frequency=6000000000.0, intermediate_frequency=100000000.0, correction_gain=0, correction_phase=0)\n",
      "SingleChannel(operations={}, id=None, digital_outputs={}, opx_output=('con1', 5), filter_fir_taps=None, filter_iir_taps=None, opx_output_offset=None, intermediate_frequency=None)\n",
      "InOutIQChannel(operations={}, id=0, digital_outputs={}, opx_input_I=('con1', 1), opx_input_Q=('con1', 2), time_of_flight=24, smearing=0, opx_input_offset_I=None, opx_input_offset_Q=None, input_gain=None, frequency_converter_down=None, opx_output_I=('con1', 1), opx_output_Q=('con1', 2), opx_output_offset_I=None, opx_output_offset_Q=None, frequency_converter_up=FrequencyConverter(local_oscillator=LocalOscillator(frequency=6000000000.0, power=10), mixer=Mixer(local_oscillator_frequency=6000000000.0, intermediate_frequency=0.0, correction_gain=0, correction_phase=0), gain=None), intermediate_frequency=0.0, LO_frequency=6000000000.0, RF_frequency=6000000000.0)\n",
      "FrequencyConverter(local_oscillator=LocalOscillator(frequency=6000000000.0, power=10), mixer=Mixer(local_oscillator_frequency=6000000000.0, intermediate_frequency=0.0, correction_gain=0, correction_phase=0), gain=None)\n",
      "LocalOscillator(frequency=6000000000.0, power=10)\n",
      "Mixer(local_oscillator_frequency=6000000000.0, intermediate_frequency=0.0, correction_gain=0, correction_phase=0)\n"
     ]
    }
   ],
   "execution_count": 8
  },
  {
   "metadata": {
    "ExecuteTime": {
     "end_time": "2024-07-04T12:26:16.928458Z",
     "start_time": "2024-07-04T12:26:16.233727Z"
    }
   },
   "cell_type": "code",
   "source": [
    "from quam.components.pulses import GaussianPulse, DragPulse\n",
    "\n",
    "# Create a Gaussian pulse\n",
    "gaussian_pulse = GaussianPulse(length=120, amplitude=0.2, sigma=3)\n",
    "drag_pulse = DragPulse(\n",
    "    length=160, amplitude=0.5, sigma=10, anharmonicity=0.5, alpha=0.5, axis_angle=0.2\n",
    ")\n",
    "gaussian_pulse.calculate_waveform()\n",
    "drag_pulse.calculate_waveform()"
   ],
   "id": "d395eee3b8dfb73c",
   "outputs": [
    {
     "data": {
      "text/plain": [
       "array([-2.37158993e-07+1.16994204e-06j, -5.15982244e-07+2.54542038e-06j,\n",
       "       -1.11126208e-06+5.48202812e-06j, -2.36909772e-06+1.16871264e-05j,\n",
       "       -4.99956590e-06+2.46636339e-05j, -1.04438946e-05+5.15213516e-05j,\n",
       "       -2.15959076e-05+1.06535962e-04j, -4.42035451e-05+2.18062943e-04j,\n",
       "       -8.95606346e-05+4.41816501e-04j, -1.79617778e-04+8.86082357e-04j,\n",
       "       -3.56575208e-04+1.75904081e-03j, -7.00680616e-04+3.45656616e-03j,\n",
       "       -1.36286724e-03+6.72323549e-03j, -2.62390874e-03+1.29441488e-02j,\n",
       "       -5.00037689e-03+2.46676349e-02j, -9.43219057e-03+4.65304592e-02j,\n",
       "       -1.76106362e-02+8.68760003e-02j, -3.25451937e-02+1.60550489e-01j,\n",
       "       -5.95311864e-02+2.93676578e-01j, -1.07781551e-01+5.31703114e-01j,\n",
       "       -1.93144662e-01+9.52812583e-01j, -3.42574754e-01+1.68997441e+00j,\n",
       "       -6.01392672e-01+2.96676336e+00j, -1.04492854e+00+5.15479460e+00j,\n",
       "       -1.79695017e+00+8.86463401e+00j, -3.05845094e+00+1.50878130e+01j,\n",
       "       -5.15202329e+00+2.54157303e+01j, -8.58933248e+00+4.23725100e+01j,\n",
       "       -1.41723043e+01+6.99141766e+01j, -2.31427415e+01+1.14166735e+02j,\n",
       "       -3.74003671e+01+1.84501815e+02j, -5.98159081e+01+2.95081158e+02j,\n",
       "       -9.46738247e+01+4.67040671e+02j, -1.48288568e+02+7.31530523e+02j,\n",
       "       -2.29848448e+02+1.13387807e+03j, -3.52551614e+02+1.73919184e+03j,\n",
       "       -5.35108099e+02+2.63977132e+03j, -8.03688629e+02+3.96472078e+03j,\n",
       "       -1.19440241e+03+5.89217254e+03j, -1.75637940e+03+8.66449230e+03j,\n",
       "       -2.55551362e+03+1.26067455e+04j, -3.67888897e+03+1.81485306e+04j,\n",
       "       -5.23985321e+03+2.58490096e+04j, -7.38362574e+03+3.64245725e+04j,\n",
       "       -1.02932181e+04+5.07780438e+04j, -1.41953134e+04+7.00276861e+04j,\n",
       "       -1.93655939e+04+9.55334831e+04j, -2.61328365e+04+1.28917343e+05j,\n",
       "       -3.48809237e+04+1.72073017e+05j, -4.60477645e+04+2.27160778e+05j,\n",
       "       -6.01200137e+04+2.96581371e+05j, -7.76224441e+04+3.82923582e+05j,\n",
       "       -9.91009003e+04+4.88880147e+05j, -1.25097978e+05+6.17127773e+05j,\n",
       "       -1.56120940e+05+7.70168875e+05j, -1.92601950e+05+9.50135375e+05j,\n",
       "       -2.34851388e+05+1.15855843e+06j, -2.83005917e+05+1.39611222e+06j,\n",
       "       -3.36973882e+05+1.66234460e+06j, -3.96381594e+05+1.95541210e+06j,\n",
       "       -4.60524907e+05+2.27184107e+06j, -5.28331115e+05+2.60633967e+06j,\n",
       "       -5.98336520e+05+2.95168727e+06j, -6.68684820e+05+3.29872642e+06j,\n",
       "       -7.37150781e+05+3.63647972e+06j, -8.01192362e+05+3.95240688e+06j,\n",
       "       -8.58032597e+05+4.23280870e+06j, -9.04770238e+05+4.46337286e+06j,\n",
       "       -9.38515527e+05+4.62984375e+06j, -9.56544772e+05+4.71878496e+06j,\n",
       "       -9.56464914e+05+4.71839116e+06j, -9.36377244e+05+4.61929572e+06j,\n",
       "       -8.95028214e+05+4.41531470e+06j, -8.31935018e+05+4.10406633e+06j,\n",
       "       -7.47474479e+05+3.68740953e+06j, -6.42925814e+05+3.17165489e+06j,\n",
       "       -5.20460875e+05+2.56751647e+06j, -3.83079342e+05+1.88979216e+06j,\n",
       "       -2.34490641e+05+1.15678114e+06j, -7.89487774e+04+3.89469060e+05j,\n",
       "        7.89497562e+04-3.89468861e+05j,  2.34491610e+05-1.15678094e+06j,\n",
       "        3.83080292e+05-1.88979197e+06j,  5.20461797e+05-2.56751628e+06j,\n",
       "        6.42926699e+05-3.17165471e+06j,  7.47475322e+05-3.68740936e+06j,\n",
       "        8.31935811e+05-4.10406617e+06j,  8.95028954e+05-4.41531455e+06j,\n",
       "        9.36377926e+05-4.61929558e+06j,  9.56465538e+05-4.71839103e+06j,\n",
       "        9.56545337e+05-4.71878484e+06j,  9.38516033e+05-4.62984364e+06j,\n",
       "        9.04770687e+05-4.46337277e+06j,  8.58032991e+05-4.23280862e+06j,\n",
       "        8.01192704e+05-3.95240682e+06j,  7.37151075e+05-3.63647966e+06j,\n",
       "        6.68685071e+05-3.29872637e+06j,  5.98336732e+05-2.95168722e+06j,\n",
       "        5.28331292e+05-2.60633963e+06j,  4.60525053e+05-2.27184104e+06j,\n",
       "        3.96381714e+05-1.95541208e+06j,  3.36973979e+05-1.66234458e+06j,\n",
       "        2.83005995e+05-1.39611220e+06j,  2.34851450e+05-1.15855842e+06j,\n",
       "        1.92601999e+05-9.50135365e+05j,  1.56120978e+05-7.70168867e+05j,\n",
       "        1.25098007e+05-6.17127767e+05j,  9.91009227e+04-4.88880142e+05j,\n",
       "        7.76224609e+04-3.82923578e+05j,  6.01200263e+04-2.96581369e+05j,\n",
       "        4.60477739e+04-2.27160776e+05j,  3.48809306e+04-1.72073015e+05j,\n",
       "        2.61328415e+04-1.28917342e+05j,  1.93655975e+04-9.55334824e+04j,\n",
       "        1.41953160e+04-7.00276856e+04j,  1.02932199e+04-5.07780434e+04j,\n",
       "        7.38362699e+03-3.64245723e+04j,  5.23985408e+03-2.58490095e+04j,\n",
       "        3.67888956e+03-1.81485304e+04j,  2.55551402e+03-1.26067454e+04j,\n",
       "        1.75637967e+03-8.66449224e+03j,  1.19440259e+03-5.89217251e+03j,\n",
       "        8.03688746e+02-3.96472075e+03j,  5.35108175e+02-2.63977131e+03j,\n",
       "        3.52551663e+02-1.73919183e+03j,  2.29848480e+02-1.13387807e+03j,\n",
       "        1.48288588e+02-7.31530519e+02j,  9.46738370e+01-4.67040669e+02j,\n",
       "        5.98159157e+01-2.95081157e+02j,  3.74003718e+01-1.84501814e+02j,\n",
       "        2.31427443e+01-1.14166735e+02j,  1.41723060e+01-6.99141762e+01j,\n",
       "        8.58933349e+00-4.23725098e+01j,  5.15202389e+00-2.54157302e+01j,\n",
       "        3.05845129e+00-1.50878130e+01j,  1.79695037e+00-8.86463397e+00j,\n",
       "        1.04492865e+00-5.15479457e+00j,  6.01392737e-01-2.96676335e+00j,\n",
       "        3.42574790e-01-1.68997440e+00j,  1.93144682e-01-9.52812579e-01j,\n",
       "        1.07781562e-01-5.31703112e-01j,  5.95311924e-02-2.93676577e-01j,\n",
       "        3.25451970e-02-1.60550489e-01j,  1.76106379e-02-8.68759999e-02j,\n",
       "        9.43219148e-03-4.65304591e-02j,  5.00037736e-03-2.46676348e-02j,\n",
       "        2.62390899e-03-1.29441488e-02j,  1.36286736e-03-6.72323546e-03j,\n",
       "        7.00680679e-04-3.45656615e-03j,  3.56575240e-04-1.75904080e-03j,\n",
       "        1.79617794e-04-8.86082354e-04j,  8.95606424e-05-4.41816500e-04j,\n",
       "        4.42035488e-05-2.18062943e-04j,  2.15959094e-05-1.06535961e-04j,\n",
       "        1.04438954e-05-5.15213514e-05j,  4.99956629e-06-2.46636338e-05j,\n",
       "        2.36909790e-06-1.16871264e-05j,  1.11126215e-06-5.48202810e-06j,\n",
       "        5.15982266e-07-2.54542037e-06j,  2.37158993e-07-1.16994204e-06j])"
      ]
     },
     "execution_count": 2,
     "metadata": {},
     "output_type": "execute_result"
    }
   ],
   "execution_count": 2
  },
  {
   "metadata": {
    "ExecuteTime": {
     "end_time": "2024-05-14T04:51:23.983330Z",
     "start_time": "2024-05-14T04:51:23.980102Z"
    }
   },
   "cell_type": "code",
   "source": "list(machine.qubits.values())",
   "id": "e802e2d2931c83f7",
   "execution_count": 17,
   "outputs": []
  },
  {
   "metadata": {
    "ExecuteTime": {
     "end_time": "2024-05-13T03:27:03.481799Z",
     "start_time": "2024-05-13T03:27:03.474415Z"
    }
   },
   "cell_type": "code",
   "source": "machine.generate_config()",
   "id": "1fefce615044930c",
   "execution_count": 4,
   "outputs": []
  },
  {
   "metadata": {
    "ExecuteTime": {
     "end_time": "2024-05-13T03:27:04.231567Z",
     "start_time": "2024-05-13T03:27:04.070777Z"
    }
   },
   "cell_type": "code",
   "source": [
    "quam = QuAM.load(\"quam_state.json\")\n",
    "quam"
   ],
   "id": "92c78882971eeaa8",
   "execution_count": 5,
   "outputs": []
  },
  {
   "metadata": {
    "ExecuteTime": {
     "end_time": "2024-05-14T05:25:11.895241Z",
     "start_time": "2024-05-14T05:25:11.829736Z"
    }
   },
   "cell_type": "code",
   "source": [
    "from qiskit.circuit import Parameter, ParameterVector, QuantumCircuit\n",
    "from qiskit.primitives import BackendEstimatorV2, BackendEstimator\n",
    "from qiskit.providers.fake_provider import GenericBackendV2\n",
    "from qiskit.quantum_info import SparsePauliOp\n",
    "\n",
    "param = Parameter(\"param\")\n",
    "param_vec = ParameterVector(\"param\", 2)\n",
    "qc = QuantumCircuit(2)\n",
    "qc.rx(param, 0)\n",
    "qc.ry(param_vec[0], 0)\n",
    "qc.rz(param_vec[1], 0)\n",
    "\n",
    "obs = SparsePauliOp.from_list([(\"XX\", 3.0), (\"YY\", 2.0)])\n",
    "backend = GenericBackendV2(2)\n",
    "estimator = BackendEstimatorV2(backend=backend)\n",
    "estimatorv1 = BackendEstimator(backend=backend)\n",
    "job = estimator.run(\n",
    "    [(qc, obs, {param: [0.5, 0.3], param_vec: [[0.3, 0.7], [0.2, 0.4]]})]\n",
    ")\n",
    "jobv1 = estimatorv1.run([qc], observables=[obs], parameter_values=[0.5, 0.3, 0.2])\n",
    "result = job.result()\n",
    "resultv1 = jobv1.result()"
   ],
   "id": "d8bd04ec2e0a0abe",
   "execution_count": 25,
   "outputs": []
  },
  {
   "metadata": {
    "ExecuteTime": {
     "end_time": "2024-05-08T09:29:02.518252Z",
     "start_time": "2024-05-08T09:29:02.515483Z"
    }
   },
   "cell_type": "code",
   "source": "result[0].data.evs",
   "id": "55661f6a34968a68",
   "execution_count": 54,
   "outputs": []
  },
  {
   "metadata": {
    "ExecuteTime": {
     "end_time": "2024-05-08T09:12:23.423181Z",
     "start_time": "2024-05-08T09:12:23.420070Z"
    }
   },
   "cell_type": "code",
   "source": "qc.parameters",
   "id": "ae92cf7ed515310",
   "execution_count": 46,
   "outputs": []
  },
  {
   "metadata": {
    "ExecuteTime": {
     "end_time": "2024-05-14T05:26:42.509086Z",
     "start_time": "2024-05-14T05:26:42.461834Z"
    }
   },
   "cell_type": "code",
   "source": [
    "estimatorv1.preprocessed_circuits[0][1][1].draw(\"mpl\")"
   ],
   "id": "96293af4a22f19da",
   "execution_count": 37,
   "outputs": []
  },
  {
   "metadata": {
    "ExecuteTime": {
     "end_time": "2024-05-15T02:33:27.685470Z",
     "start_time": "2024-05-15T02:33:27.682495Z"
    }
   },
   "cell_type": "code",
   "source": [
    "from qiskit.transpiler import Layout\n",
    "from qiskit import QuantumRegister\n",
    "\n",
    "qr = QuantumRegister(2)\n",
    "layout = Layout({qr[0]: 2, qr[1]: 1})\n",
    "layout.get_physical_bits()"
   ],
   "id": "898f9071bc959caf",
   "execution_count": 41,
   "outputs": []
  },
  {
   "metadata": {},
   "cell_type": "markdown",
   "source": "# OpenQASM3 to QUA compiler",
   "id": "30b500145c79e1df"
  },
  {
   "metadata": {
    "ExecuteTime": {
     "end_time": "2024-07-08T10:33:42.368208Z",
     "start_time": "2024-07-08T10:33:42.365861Z"
    }
   },
   "cell_type": "code",
   "source": [
    "from qiskit.circuit import Gate\n",
    "\n",
    "\n",
    "class MyGate(Gate):\n",
    "    def __init__(self, theta):\n",
    "        super().__init__(\"my_gate\", 1, [theta])\n",
    "\n",
    "    def _define(self):\n",
    "        from qiskit.circuit import QuantumCircuit\n",
    "\n",
    "        qc = QuantumCircuit(1)\n",
    "        qc.rx(self.params[0], 0)\n",
    "        self._definition = qc\n",
    "\n",
    "    def inverse(self, annotated=False):\n",
    "        return MyGate(-self.params[0])"
   ],
   "id": "d2f02a98de30b6b3",
   "outputs": [],
   "execution_count": 5
  },
  {
   "metadata": {
    "ExecuteTime": {
     "end_time": "2024-07-08T10:33:42.602415Z",
     "start_time": "2024-07-08T10:33:42.556506Z"
    }
   },
   "cell_type": "code",
   "source": [
    "from qiskit.qasm3 import dumps\n",
    "from qiskit.circuit import Parameter, QuantumCircuit\n",
    "from qiskit import pulse\n",
    "\n",
    "qc = QuantumCircuit(2, 1)\n",
    "param = Parameter(\"theta\")\n",
    "my_gate = MyGate(param)\n",
    "qc.reset(0)\n",
    "qc.rx(param, 0)\n",
    "qc.barrier()\n",
    "# qc.append(my_gate, [0])\n",
    "qc.measure(0, 0)\n",
    "\n",
    "with pulse.build() as sched:\n",
    "    pulse.play(\n",
    "        pulse.Drag(amp=param, sigma=0.1, beta=0.5, duration=160), pulse.DriveChannel(0)\n",
    "    )\n",
    "qc.add_calibration(my_gate, [0], sched)\n",
    "\n",
    "# backend = FakeJakartaV2()\n",
    "# qc = transpile(qc, backend, scheduling_method=\"asap\")\n",
    "qc.draw(\"mpl\")"
   ],
   "id": "98a4310021a7ee56",
   "outputs": [
    {
     "data": {
      "text/plain": [
       "<Figure size 454.517x284.278 with 1 Axes>"
      ],
      "image/png": "[encoded data removed]"
     },
     "execution_count": 6,
     "metadata": {},
     "output_type": "execute_result"
    }
   ],
   "execution_count": 6
  },
  {
   "metadata": {
    "ExecuteTime": {
     "end_time": "2024-07-08T10:33:43.559504Z",
     "start_time": "2024-07-08T10:33:43.556599Z"
    }
   },
   "cell_type": "code",
   "source": [
    "ch_param = Parameter(\"ch\")\n",
    "amp_param = Parameter(\"amp\")\n",
    "with pulse.build() as sched:\n",
    "    pulse.play(\n",
    "        pulse.Drag(amp=amp_param, sigma=0.1, beta=0.5, duration=160),\n",
    "        pulse.DriveChannel(ch_param),\n",
    "    )\n",
    "sched.channels"
   ],
   "id": "807ad4bd0d73ff25",
   "outputs": [
    {
     "data": {
      "text/plain": [
       "(DriveChannel(ch),)"
      ]
     },
     "execution_count": 7,
     "metadata": {},
     "output_type": "execute_result"
    }
   ],
   "execution_count": 7
  },
  {
   "metadata": {
    "ExecuteTime": {
     "end_time": "2024-07-08T10:33:45.218057Z",
     "start_time": "2024-07-08T10:33:45.215123Z"
    }
   },
   "cell_type": "code",
   "source": [
    "string = \"\"\n",
    "for custom_gate, cal_info in qc.calibrations.items():\n",
    "    for (qubits, parameters), schedule in cal_info.items():\n",
    "        print(qubits)\n",
    "        print(parameters)\n",
    "        print(schedule)\n",
    "        string += f\"{custom_gate}{tuple(param.name for param in parameters)};\\n\"\n",
    "\n",
    "string"
   ],
   "id": "96ecaf092f898eed",
   "outputs": [
    {
     "name": "stdout",
     "output_type": "stream",
     "text": [
      "(0,)\n",
      "(Parameter(theta),)\n",
      "ScheduleBlock(Play(Drag(duration=160, sigma=0.1, beta=0.5, amp=theta, angle=0.0), DriveChannel(0)), name=\"block0\", transform=AlignLeft())\n"
     ]
    },
    {
     "data": {
      "text/plain": [
       "\"my_gate('theta',);\\n\""
      ]
     },
     "execution_count": 8,
     "metadata": {},
     "output_type": "execute_result"
    }
   ],
   "execution_count": 8
  },
  {
   "metadata": {
    "ExecuteTime": {
     "end_time": "2024-07-08T10:33:46.980632Z",
     "start_time": "2024-07-08T10:33:46.978939Z"
    }
   },
   "cell_type": "code",
   "source": "print(qc.calibrations)",
   "id": "41de825b1fc447e8",
   "outputs": [
    {
     "name": "stdout",
     "output_type": "stream",
     "text": [
      "{'my_gate': {((0,), (Parameter(theta),)): ScheduleBlock(Play(Drag(duration=160, sigma=0.1, beta=0.5, amp=theta, angle=0.0), DriveChannel(0)), name=\"block0\", transform=AlignLeft())}}\n"
     ]
    }
   ],
   "execution_count": 9
  },
  {
   "metadata": {
    "ExecuteTime": {
     "end_time": "2024-07-08T10:33:49.516198Z",
     "start_time": "2024-07-08T10:33:49.513839Z"
    }
   },
   "cell_type": "code",
   "source": [
    "openqasm = dumps(qc, includes=(), basis_gates=(\"rx\",))\n",
    "print(openqasm)"
   ],
   "id": "4b64d5f210a79c0",
   "outputs": [
    {
     "name": "stdout",
     "output_type": "stream",
     "text": [
      "OPENQASM 3.0;\n",
      "input float[64] theta;\n",
      "bit[1] c;\n",
      "qubit[2] q;\n",
      "reset q[0];\n",
      "rx(theta) q[0];\n",
      "barrier q[0], q[1];\n",
      "c[0] = measure q[0];\n",
      "\n"
     ]
    }
   ],
   "execution_count": 10
  },
  {
   "metadata": {
    "ExecuteTime": {
     "end_time": "2024-07-05T13:08:52.198893Z",
     "start_time": "2024-07-05T13:08:52.173709Z"
    }
   },
   "cell_type": "code",
   "source": [
    "from oqc import Compiler, HardwareConfig, OperationIdentifier, OperationsMapping\n",
    "\n",
    "\n",
    "def play_rx(theta):\n",
    "    play(\"rx\" * amp(theta), \"qubit\")\n",
    "\n",
    "\n",
    "def measure():\n",
    "    i = declare(fixed)\n",
    "    qua_meas(\"meas\", \"qubit\", None, (\"integW1\", \"out1\", i))\n",
    "    return i < 0.02\n",
    "\n",
    "\n",
    "def barrier(*args):\n",
    "    align(*args)\n",
    "\n",
    "\n",
    "def play_x():\n",
    "    play(\"x\", \"qubit\")\n",
    "\n",
    "\n",
    "operations: OperationsMapping = {\n",
    "    OperationIdentifier(\"rx\", 1, (0,)): play_rx,\n",
    "    OperationIdentifier(\"x\", 0, (0,)): play_x,\n",
    "    OperationIdentifier(\"measure\", 0, (0,)): measure,\n",
    "    OperationIdentifier(\"barrier\", 0, (0,)): barrier,\n",
    "}\n",
    "# \"x $0;\": play_x,\n",
    "# \"rx(theta) $0;\": play_rx,\n",
    "# \"measure $0;\": measure,\n",
    "# }\n",
    "qubits_mapping = {0: (\"qubit\",)}\n",
    "hardware_config = HardwareConfig(operations, qubits_mapping)\n",
    "compiler = Compiler(hardware_config)"
   ],
   "id": "ac862467048a3976",
   "outputs": [
    {
     "ename": "UnexpectedVarPositionalArgument",
     "evalue": "Operation 'barrier' should not have a varying number of qubit inputs,but the given qua-function (barrier) have an *args in its signature.",
     "output_type": "error",
     "traceback": [
      "\u001B[0;31m---------------------------------------------------------------------------\u001B[0m",
      "\u001B[0;31mUnexpectedVarPositionalArgument\u001B[0m           Traceback (most recent call last)",
      "Cell \u001B[0;32mIn[29], line 34\u001B[0m\n\u001B[1;32m     29\u001B[0m \u001B[38;5;66;03m# \"x $0;\": play_x,\u001B[39;00m\n\u001B[1;32m     30\u001B[0m \u001B[38;5;66;03m# \"rx(theta) $0;\": play_rx,\u001B[39;00m\n\u001B[1;32m     31\u001B[0m \u001B[38;5;66;03m# \"measure $0;\": measure,\u001B[39;00m\n\u001B[1;32m     32\u001B[0m \u001B[38;5;66;03m# }\u001B[39;00m\n\u001B[1;32m     33\u001B[0m qubits_mapping \u001B[38;5;241m=\u001B[39m {\u001B[38;5;241m0\u001B[39m: (\u001B[38;5;124m\"\u001B[39m\u001B[38;5;124mqubit\u001B[39m\u001B[38;5;124m\"\u001B[39m,)}\n\u001B[0;32m---> 34\u001B[0m hardware_config \u001B[38;5;241m=\u001B[39m HardwareConfig(operations, qubits_mapping)\n\u001B[1;32m     35\u001B[0m compiler \u001B[38;5;241m=\u001B[39m Compiler(hardware_config)\n",
      "File \u001B[0;32m~/Library/CloudStorage/OneDrive-QMMachinesLTD/GitHub/OQC/oqc/configurations/hardware_config.py:41\u001B[0m, in \u001B[0;36mHardwareConfig.__init__\u001B[0;34m(self, quantum_operations_db, physical_qubits)\u001B[0m\n\u001B[1;32m     35\u001B[0m \u001B[38;5;28;01mdef\u001B[39;00m \u001B[38;5;21m__init__\u001B[39m(\n\u001B[1;32m     36\u001B[0m     \u001B[38;5;28mself\u001B[39m,\n\u001B[1;32m     37\u001B[0m     quantum_operations_db: Union[OperationsMapping, OperationsDatabase],\n\u001B[1;32m     38\u001B[0m     physical_qubits: QubitsMapping,\n\u001B[1;32m     39\u001B[0m ):\n\u001B[1;32m     40\u001B[0m     \u001B[38;5;28;01mif\u001B[39;00m \u001B[38;5;28misinstance\u001B[39m(quantum_operations_db, \u001B[38;5;28mdict\u001B[39m):\n\u001B[0;32m---> 41\u001B[0m         quantum_operations_db \u001B[38;5;241m=\u001B[39m OperationsDatabase(quantum_operations_db)\n\u001B[1;32m     42\u001B[0m     \u001B[38;5;28mself\u001B[39m\u001B[38;5;241m.\u001B[39mquantum_operations_db \u001B[38;5;241m=\u001B[39m quantum_operations_db\n\u001B[1;32m     43\u001B[0m     \u001B[38;5;28mself\u001B[39m\u001B[38;5;241m.\u001B[39mphysical_qubits \u001B[38;5;241m=\u001B[39m physical_qubits\n",
      "File \u001B[0;32m~/Library/CloudStorage/OneDrive-QMMachinesLTD/GitHub/OQC/oqc/configurations/operations_db.py:87\u001B[0m, in \u001B[0;36mOperationsDatabase.__init__\u001B[0;34m(self, operations)\u001B[0m\n\u001B[1;32m     85\u001B[0m \u001B[38;5;28;01mfor\u001B[39;00m key, qua_func \u001B[38;5;129;01min\u001B[39;00m operations\u001B[38;5;241m.\u001B[39mitems():\n\u001B[1;32m     86\u001B[0m     identifier \u001B[38;5;241m=\u001B[39m \u001B[38;5;28mself\u001B[39m\u001B[38;5;241m.\u001B[39m_create_identifier(key)\n\u001B[0;32m---> 87\u001B[0m     validate_identifier_operation_match(identifier, qua_func)\n\u001B[1;32m     88\u001B[0m     \u001B[38;5;28mself\u001B[39m\u001B[38;5;241m.\u001B[39m_operations[identifier] \u001B[38;5;241m=\u001B[39m qua_func\n\u001B[1;32m     89\u001B[0m     \u001B[38;5;28mself\u001B[39m\u001B[38;5;241m.\u001B[39m_name_to_identifiers[identifier\u001B[38;5;241m.\u001B[39mname] \u001B[38;5;241m+\u001B[39m\u001B[38;5;241m=\u001B[39m (identifier,)\n",
      "File \u001B[0;32m~/Library/CloudStorage/OneDrive-QMMachinesLTD/GitHub/OQC/oqc/configurations/operations_db.py:68\u001B[0m, in \u001B[0;36mvalidate_identifier_operation_match\u001B[0;34m(identifier, qua_func)\u001B[0m\n\u001B[1;32m     66\u001B[0m \u001B[38;5;28;01melse\u001B[39;00m:\n\u001B[1;32m     67\u001B[0m     \u001B[38;5;28;01mif\u001B[39;00m \u001B[38;5;28many\u001B[39m(arg\u001B[38;5;241m.\u001B[39mkind \u001B[38;5;241m==\u001B[39m inspect\u001B[38;5;241m.\u001B[39mParameter\u001B[38;5;241m.\u001B[39mVAR_POSITIONAL \u001B[38;5;28;01mfor\u001B[39;00m arg \u001B[38;5;129;01min\u001B[39;00m qua_args):\n\u001B[0;32m---> 68\u001B[0m         \u001B[38;5;28;01mraise\u001B[39;00m UnexpectedVarPositionalArgument(identifier, qua_func)\n\u001B[1;32m     69\u001B[0m     expected_number_of_args \u001B[38;5;241m=\u001B[39m identifier\u001B[38;5;241m.\u001B[39mnumber_of_params \u001B[38;5;241m+\u001B[39m identifier\u001B[38;5;241m.\u001B[39mnumber_of_parametric_qubits\n\u001B[1;32m     71\u001B[0m \u001B[38;5;28;01mif\u001B[39;00m \u001B[38;5;28mlen\u001B[39m(qua_args) \u001B[38;5;241m!=\u001B[39m expected_number_of_args:\n",
      "\u001B[0;31mUnexpectedVarPositionalArgument\u001B[0m: Operation 'barrier' should not have a varying number of qubit inputs,but the given qua-function (barrier) have an *args in its signature."
     ]
    }
   ],
   "execution_count": 29
  },
  {
   "metadata": {
    "ExecuteTime": {
     "end_time": "2024-07-05T13:02:53.785725Z",
     "start_time": "2024-07-05T13:02:53.775582Z"
    }
   },
   "cell_type": "code",
   "source": "comp = compiler.compile(openqasm)",
   "id": "78e408b861fcf147",
   "outputs": [],
   "execution_count": 18
  },
  {
   "metadata": {
    "ExecuteTime": {
     "end_time": "2024-07-05T13:02:55.472749Z",
     "start_time": "2024-07-05T13:02:55.470229Z"
    }
   },
   "cell_type": "code",
   "source": "qua_prog = comp.result_program.dsl_program",
   "id": "a91f4398361bf1a1",
   "outputs": [],
   "execution_count": 19
  },
  {
   "metadata": {
    "ExecuteTime": {
     "end_time": "2024-07-05T13:02:56.733185Z",
     "start_time": "2024-07-05T13:02:56.709128Z"
    }
   },
   "cell_type": "code",
   "source": [
    "from qm import generate_qua_script\n",
    "\n",
    "qua_script = generate_qua_script(qua_prog)\n",
    "qua_script"
   ],
   "id": "ef8ea05fdbe33383",
   "outputs": [
    {
     "data": {
      "text/plain": [
       "'\\n# Single QUA script generated at 2024-07-05 15:02:56.731260\\n# QUA library version: 1.1.7\\n\\nfrom qm.qua import *\\n\\nwith program() as prog:\\n    input_stream_theta = declare_input_stream(fixed, \\'theta\\', value=0.0)\\n    a1 = declare(bool, value=[0.0])\\n    v1 = declare(fixed, )\\n    advance_input_stream(input_stream_theta)\\n    play(\"rx\"*amp(input_stream_theta), \"qubit\")\\n    measure(\"meas\", \"qubit\", None, demod.full(\"integW1\", v1, \"out1\"))\\n    assign(a1[0], (v1<0.02))\\n\\n\\nconfig = None\\n\\nloaded_config = None\\n\\n'"
      ]
     },
     "execution_count": 20,
     "metadata": {},
     "output_type": "execute_result"
    }
   ],
   "execution_count": 20
  },
  {
   "metadata": {},
   "cell_type": "markdown",
   "source": "# Qua-QSIM: from QUA macro to Qiskit Pulse Schedule",
   "id": "815b2776dbeb3687"
  },
  {
   "metadata": {
    "ExecuteTime": {
     "end_time": "2024-06-27T07:45:28.693791Z",
     "start_time": "2024-06-27T07:45:28.686793Z"
    }
   },
   "cell_type": "code",
   "source": [
    "from quaqsim import Compiler\n",
    "from qm.qua import play, amp, measure as qua_meas, fixed, declare, program\n",
    "from quam.components import *\n",
    "from quam.components.pulses import GaussianPulse\n",
    "from quam.examples.superconducting_qubits import Transmon, QuAM\n",
    "\n",
    "machine = QuAM()  #\n",
    "\n",
    "num_qubits = 2\n",
    "for idx in range(num_qubits):\n",
    "    # Create transmon qubit component\n",
    "    transmon = Transmon(id=idx)\n",
    "\n",
    "# Add xy drive line channel\n",
    "transmon.xy = IQChannel(\n",
    "    opx_output_I=(\"con1\", 3 * idx + 3),\n",
    "    opx_output_Q=(\"con1\", 3 * idx + 4),\n",
    "    frequency_converter_up=FrequencyConverter(\n",
    "        mixer=Mixer(),\n",
    "        local_oscillator=LocalOscillator(power=10, frequency=6e9),\n",
    "    ),\n",
    "    intermediate_frequency=100e6,\n",
    ")\n",
    "\n",
    "# Add transmon flux line channel\n",
    "transmon.z = SingleChannel(opx_output=(\"con1\", 3 * idx + 5))\n",
    "\n",
    "# Add resonator channel\n",
    "transmon.resonator = InOutIQChannel(\n",
    "    id=idx,\n",
    "    opx_output_I=(\"con1\", 3 * idx + 1),\n",
    "    opx_output_Q=(\"con1\", 3 * idx + 2),\n",
    "    opx_input_I=(\"con1\", 1),\n",
    "    opx_input_Q=(\n",
    "        \"con1\",\n",
    "        2,\n",
    "    ),\n",
    "    frequency_converter_up=FrequencyConverter(\n",
    "        mixer=Mixer(), local_oscillator=LocalOscillator(power=10, frequency=6e9)\n",
    "    ),\n",
    ")\n",
    "machine.qubits[transmon.name] = transmon\n",
    "transmon.xy.operations[\"x\"] = GaussianPulse(length=20, amplitude=0.2, sigma=3)\n",
    "\n",
    "\n",
    "def play_x():\n",
    "    play(\"x\", \"qubit\")\n",
    "\n",
    "\n",
    "config = machine.generate_config()\n",
    "compiler = Compiler(config)"
   ],
   "id": "ee653ebd13e03052",
   "outputs": [],
   "execution_count": 12
  },
  {
   "metadata": {
    "ExecuteTime": {
     "end_time": "2024-06-27T07:45:29.336461Z",
     "start_time": "2024-06-27T07:45:29.311182Z"
    }
   },
   "cell_type": "code",
   "source": [
    "from quaqsim.architectures.from_qua_channels import BackendChannel, ChannelType\n",
    "\n",
    "with program() as qua_prog:\n",
    "    play_x()\n",
    "compiler.compile(\n",
    "    qua_prog,\n",
    "    channel_map={\n",
    "        0: BackendChannel(0, ChannelType.DRIVE),\n",
    "        1: BackendChannel(1, ChannelType.DRIVE),\n",
    "    },\n",
    ")"
   ],
   "id": "d08ad129dcd46657",
   "outputs": [
    {
     "ename": "TypeError",
     "evalue": "Compiler.compile() missing 1 required positional argument: 'backend'",
     "output_type": "error",
     "traceback": [
      "\u001B[0;31m---------------------------------------------------------------------------\u001B[0m",
      "\u001B[0;31mTypeError\u001B[0m                                 Traceback (most recent call last)",
      "Cell \u001B[0;32mIn[13], line 5\u001B[0m\n\u001B[1;32m      3\u001B[0m \u001B[38;5;28;01mwith\u001B[39;00m program() \u001B[38;5;28;01mas\u001B[39;00m qua_prog:\n\u001B[1;32m      4\u001B[0m     play_x()\n\u001B[0;32m----> 5\u001B[0m compiler\u001B[38;5;241m.\u001B[39mcompile(qua_prog, channel_map\u001B[38;5;241m=\u001B[39m{\u001B[38;5;241m0\u001B[39m: BackendChannel(\u001B[38;5;241m0\u001B[39m, ChannelType\u001B[38;5;241m.\u001B[39mDRIVE),\n\u001B[1;32m      6\u001B[0m                                         \u001B[38;5;241m1\u001B[39m: BackendChannel(\u001B[38;5;241m1\u001B[39m, ChannelType\u001B[38;5;241m.\u001B[39mDRIVE)})\n",
      "\u001B[0;31mTypeError\u001B[0m: Compiler.compile() missing 1 required positional argument: 'backend'"
     ]
    }
   ],
   "execution_count": 13
  },
  {
   "metadata": {
    "ExecuteTime": {
     "end_time": "2024-07-09T13:23:45.259069Z",
     "start_time": "2024-07-09T13:23:45.255234Z"
    }
   },
   "cell_type": "code",
   "source": [
    "from qiskit import pulse\n",
    "from qiskit_ibm_runtime.fake_provider import FakeJakartaV2\n",
    "from qiskit.circuit import Parameter\n",
    "\n",
    "backend = FakeJakartaV2()\n",
    "param_channel = Parameter(\"channel\")\n",
    "param_amp = Parameter(\"amp\")\n",
    "param_sig = Parameter(\"sigma\")\n",
    "param_wait = Parameter(\"wait\")\n",
    "with pulse.build(backend, default_alignment=\"right\") as sched:\n",
    "    pulse.play(\n",
    "        pulse.Drag(amp=param_amp, sigma=param_sig, beta=0.5, duration=160),\n",
    "        pulse.DriveChannel(param_channel),\n",
    "    )\n",
    "    pulse.delay(10, pulse.DriveChannel(0))\n",
    "    pulse.play(\n",
    "        pulse.Drag(amp=0.5, sigma=20, beta=0.5, duration=160), pulse.DriveChannel(1)\n",
    "    )\n",
    "\n",
    "type(sched.instructions[1][1].pulse.parameters[\"amp\"])"
   ],
   "id": "a2b7bbf9f0da689a",
   "outputs": [
    {
     "data": {
      "text/plain": [
       "qiskit.circuit.parameter.Parameter"
      ]
     },
     "execution_count": 52,
     "metadata": {},
     "output_type": "execute_result"
    }
   ],
   "execution_count": 52
  },
  {
   "metadata": {
    "ExecuteTime": {
     "end_time": "2024-07-09T07:43:08.034845Z",
     "start_time": "2024-07-09T07:43:08.029045Z"
    }
   },
   "cell_type": "code",
   "source": "sched: pulse.Schedule = backend.target[\"cx\"][(1, 3)].calibration",
   "id": "e3c216fba8a19fb3",
   "outputs": [],
   "execution_count": 25
  },
  {
   "metadata": {
    "ExecuteTime": {
     "end_time": "2024-07-09T13:03:57.817615Z",
     "start_time": "2024-07-09T13:03:57.810058Z"
    }
   },
   "cell_type": "code",
   "source": [
    "param = Parameter(\"theta\")\n",
    "play_inst = pulse.Play(\n",
    "    pulse.Drag(amp=param, sigma=0.1, beta=0.5, duration=160), pulse.DriveChannel(0)\n",
    ")"
   ],
   "id": "3b888dbd9b748849",
   "outputs": [
    {
     "data": {
      "text/plain": [
       "Play(Drag(duration=160, sigma=0.1, beta=0.5, amp=theta, angle=0.0), DriveChannel(0))"
      ]
     },
     "execution_count": 41,
     "metadata": {},
     "output_type": "execute_result"
    }
   ],
   "execution_count": 41
  },
  {
   "metadata": {
    "ExecuteTime": {
     "end_time": "2024-07-04T06:41:12.561045Z",
     "start_time": "2024-07-04T06:41:10.815069Z"
    }
   },
   "cell_type": "code",
   "source": [
    "from qiskit import QuantumCircuit, transpile\n",
    "from qiskit_ibm_runtime.fake_provider import FakeJakartaV2\n",
    "\n",
    "qc = QuantumCircuit(2)\n",
    "backend = FakeJakartaV2()\n",
    "\n",
    "\n",
    "def qua_x():\n",
    "    play_x()\n",
    "\n",
    "\n",
    "qc.x(0)\n",
    "qc.add_calibration(\"x\", [0], qua_x)\n",
    "qc = transpile(qc, backend, scheduling_method=\"asap\")"
   ],
   "id": "878b72ccd7c30e3a",
   "outputs": [
    {
     "ename": "AttributeError",
     "evalue": "'function' object has no attribute 'duration'",
     "output_type": "error",
     "traceback": [
      "\u001B[0;31m---------------------------------------------------------------------------\u001B[0m",
      "\u001B[0;31mAttributeError\u001B[0m                            Traceback (most recent call last)",
      "Cell \u001B[0;32mIn[3], line 13\u001B[0m\n\u001B[1;32m     11\u001B[0m qc\u001B[38;5;241m.\u001B[39mx(\u001B[38;5;241m0\u001B[39m)\n\u001B[1;32m     12\u001B[0m qc\u001B[38;5;241m.\u001B[39madd_calibration(\u001B[38;5;124m\"\u001B[39m\u001B[38;5;124mx\u001B[39m\u001B[38;5;124m\"\u001B[39m, [\u001B[38;5;241m0\u001B[39m], qua_x)\n\u001B[0;32m---> 13\u001B[0m qc \u001B[38;5;241m=\u001B[39m transpile(qc, backend, scheduling_method\u001B[38;5;241m=\u001B[39m\u001B[38;5;124m\"\u001B[39m\u001B[38;5;124masap\u001B[39m\u001B[38;5;124m\"\u001B[39m)\n",
      "File \u001B[0;32m~/anaconda3/envs/rl_qoc/lib/python3.11/site-packages/qiskit/compiler/transpiler.py:419\u001B[0m, in \u001B[0;36mtranspile\u001B[0;34m(circuits, backend, basis_gates, inst_map, coupling_map, backend_properties, initial_layout, layout_method, routing_method, translation_method, scheduling_method, instruction_durations, dt, approximation_degree, timing_constraints, seed_transpiler, optimization_level, callback, output_name, unitary_synthesis_method, unitary_synthesis_plugin_config, target, hls_config, init_method, optimization_method, ignore_backend_supplied_default_methods, num_processes)\u001B[0m\n\u001B[1;32m    393\u001B[0m         translation_method \u001B[38;5;241m=\u001B[39m backend\u001B[38;5;241m.\u001B[39mget_translation_stage_plugin()\n\u001B[1;32m    395\u001B[0m pm \u001B[38;5;241m=\u001B[39m generate_preset_pass_manager(\n\u001B[1;32m    396\u001B[0m     optimization_level,\n\u001B[1;32m    397\u001B[0m     backend\u001B[38;5;241m=\u001B[39mbackend,\n\u001B[0;32m   (...)\u001B[0m\n\u001B[1;32m    417\u001B[0m     _skip_target\u001B[38;5;241m=\u001B[39m_skip_target,\n\u001B[1;32m    418\u001B[0m )\n\u001B[0;32m--> 419\u001B[0m out_circuits \u001B[38;5;241m=\u001B[39m pm\u001B[38;5;241m.\u001B[39mrun(circuits, callback\u001B[38;5;241m=\u001B[39mcallback, num_processes\u001B[38;5;241m=\u001B[39mnum_processes)\n\u001B[1;32m    420\u001B[0m \u001B[38;5;28;01mfor\u001B[39;00m name, circ \u001B[38;5;129;01min\u001B[39;00m \u001B[38;5;28mzip\u001B[39m(output_name, out_circuits):\n\u001B[1;32m    421\u001B[0m     circ\u001B[38;5;241m.\u001B[39mname \u001B[38;5;241m=\u001B[39m name\n",
      "File \u001B[0;32m~/anaconda3/envs/rl_qoc/lib/python3.11/site-packages/qiskit/transpiler/passmanager.py:440\u001B[0m, in \u001B[0;36mStagedPassManager.run\u001B[0;34m(self, circuits, output_name, callback, num_processes)\u001B[0m\n\u001B[1;32m    432\u001B[0m \u001B[38;5;28;01mdef\u001B[39;00m \u001B[38;5;21mrun\u001B[39m(\n\u001B[1;32m    433\u001B[0m     \u001B[38;5;28mself\u001B[39m,\n\u001B[1;32m    434\u001B[0m     circuits: _CircuitsT,\n\u001B[0;32m   (...)\u001B[0m\n\u001B[1;32m    437\u001B[0m     num_processes: \u001B[38;5;28mint\u001B[39m \u001B[38;5;241m=\u001B[39m \u001B[38;5;28;01mNone\u001B[39;00m,\n\u001B[1;32m    438\u001B[0m ) \u001B[38;5;241m-\u001B[39m\u001B[38;5;241m>\u001B[39m _CircuitsT:\n\u001B[1;32m    439\u001B[0m     \u001B[38;5;28mself\u001B[39m\u001B[38;5;241m.\u001B[39m_update_passmanager()\n\u001B[0;32m--> 440\u001B[0m     \u001B[38;5;28;01mreturn\u001B[39;00m \u001B[38;5;28msuper\u001B[39m()\u001B[38;5;241m.\u001B[39mrun(circuits, output_name, callback, num_processes\u001B[38;5;241m=\u001B[39mnum_processes)\n",
      "File \u001B[0;32m~/anaconda3/envs/rl_qoc/lib/python3.11/site-packages/qiskit/transpiler/passmanager.py:463\u001B[0m, in \u001B[0;36m_replace_error.<locals>.wrapper\u001B[0;34m(*meth_args, **meth_kwargs)\u001B[0m\n\u001B[1;32m    460\u001B[0m \u001B[38;5;129m@wraps\u001B[39m(meth)\n\u001B[1;32m    461\u001B[0m \u001B[38;5;28;01mdef\u001B[39;00m \u001B[38;5;21mwrapper\u001B[39m(\u001B[38;5;241m*\u001B[39mmeth_args, \u001B[38;5;241m*\u001B[39m\u001B[38;5;241m*\u001B[39mmeth_kwargs):\n\u001B[1;32m    462\u001B[0m     \u001B[38;5;28;01mtry\u001B[39;00m:\n\u001B[0;32m--> 463\u001B[0m         \u001B[38;5;28;01mreturn\u001B[39;00m meth(\u001B[38;5;241m*\u001B[39mmeth_args, \u001B[38;5;241m*\u001B[39m\u001B[38;5;241m*\u001B[39mmeth_kwargs)\n\u001B[1;32m    464\u001B[0m     \u001B[38;5;28;01mexcept\u001B[39;00m PassManagerError \u001B[38;5;28;01mas\u001B[39;00m ex:\n\u001B[1;32m    465\u001B[0m         \u001B[38;5;28;01mraise\u001B[39;00m TranspilerError(ex\u001B[38;5;241m.\u001B[39mmessage) \u001B[38;5;28;01mfrom\u001B[39;00m \u001B[38;5;21;01mex\u001B[39;00m\n",
      "File \u001B[0;32m~/anaconda3/envs/rl_qoc/lib/python3.11/site-packages/qiskit/transpiler/passmanager.py:225\u001B[0m, in \u001B[0;36mPassManager.run\u001B[0;34m(self, circuits, output_name, callback, num_processes)\u001B[0m\n\u001B[1;32m    222\u001B[0m \u001B[38;5;28;01mif\u001B[39;00m callback \u001B[38;5;129;01mis\u001B[39;00m \u001B[38;5;129;01mnot\u001B[39;00m \u001B[38;5;28;01mNone\u001B[39;00m:\n\u001B[1;32m    223\u001B[0m     callback \u001B[38;5;241m=\u001B[39m _legacy_style_callback(callback)\n\u001B[0;32m--> 225\u001B[0m \u001B[38;5;28;01mreturn\u001B[39;00m \u001B[38;5;28msuper\u001B[39m()\u001B[38;5;241m.\u001B[39mrun(\n\u001B[1;32m    226\u001B[0m     in_programs\u001B[38;5;241m=\u001B[39mcircuits,\n\u001B[1;32m    227\u001B[0m     callback\u001B[38;5;241m=\u001B[39mcallback,\n\u001B[1;32m    228\u001B[0m     output_name\u001B[38;5;241m=\u001B[39moutput_name,\n\u001B[1;32m    229\u001B[0m     num_processes\u001B[38;5;241m=\u001B[39mnum_processes,\n\u001B[1;32m    230\u001B[0m )\n",
      "File \u001B[0;32m~/anaconda3/envs/rl_qoc/lib/python3.11/site-packages/qiskit/passmanager/passmanager.py:231\u001B[0m, in \u001B[0;36mBasePassManager.run\u001B[0;34m(self, in_programs, callback, num_processes, **kwargs)\u001B[0m\n\u001B[1;32m    228\u001B[0m \u001B[38;5;66;03m# If we're not going to run in parallel, we want to avoid spending time `dill` serialising\u001B[39;00m\n\u001B[1;32m    229\u001B[0m \u001B[38;5;66;03m# ourselves, since that can be quite expensive.\u001B[39;00m\n\u001B[1;32m    230\u001B[0m \u001B[38;5;28;01mif\u001B[39;00m \u001B[38;5;28mlen\u001B[39m(in_programs) \u001B[38;5;241m==\u001B[39m \u001B[38;5;241m1\u001B[39m \u001B[38;5;129;01mor\u001B[39;00m \u001B[38;5;129;01mnot\u001B[39;00m should_run_in_parallel(num_processes):\n\u001B[0;32m--> 231\u001B[0m     out \u001B[38;5;241m=\u001B[39m [\n\u001B[1;32m    232\u001B[0m         _run_workflow(program\u001B[38;5;241m=\u001B[39mprogram, pass_manager\u001B[38;5;241m=\u001B[39m\u001B[38;5;28mself\u001B[39m, callback\u001B[38;5;241m=\u001B[39mcallback, \u001B[38;5;241m*\u001B[39m\u001B[38;5;241m*\u001B[39mkwargs)\n\u001B[1;32m    233\u001B[0m         \u001B[38;5;28;01mfor\u001B[39;00m program \u001B[38;5;129;01min\u001B[39;00m in_programs\n\u001B[1;32m    234\u001B[0m     ]\n\u001B[1;32m    235\u001B[0m     \u001B[38;5;28;01mif\u001B[39;00m \u001B[38;5;28mlen\u001B[39m(in_programs) \u001B[38;5;241m==\u001B[39m \u001B[38;5;241m1\u001B[39m \u001B[38;5;129;01mand\u001B[39;00m \u001B[38;5;129;01mnot\u001B[39;00m is_list:\n\u001B[1;32m    236\u001B[0m         \u001B[38;5;28;01mreturn\u001B[39;00m out[\u001B[38;5;241m0\u001B[39m]\n",
      "File \u001B[0;32m~/anaconda3/envs/rl_qoc/lib/python3.11/site-packages/qiskit/passmanager/passmanager.py:232\u001B[0m, in \u001B[0;36m<listcomp>\u001B[0;34m(.0)\u001B[0m\n\u001B[1;32m    228\u001B[0m \u001B[38;5;66;03m# If we're not going to run in parallel, we want to avoid spending time `dill` serialising\u001B[39;00m\n\u001B[1;32m    229\u001B[0m \u001B[38;5;66;03m# ourselves, since that can be quite expensive.\u001B[39;00m\n\u001B[1;32m    230\u001B[0m \u001B[38;5;28;01mif\u001B[39;00m \u001B[38;5;28mlen\u001B[39m(in_programs) \u001B[38;5;241m==\u001B[39m \u001B[38;5;241m1\u001B[39m \u001B[38;5;129;01mor\u001B[39;00m \u001B[38;5;129;01mnot\u001B[39;00m should_run_in_parallel(num_processes):\n\u001B[1;32m    231\u001B[0m     out \u001B[38;5;241m=\u001B[39m [\n\u001B[0;32m--> 232\u001B[0m         _run_workflow(program\u001B[38;5;241m=\u001B[39mprogram, pass_manager\u001B[38;5;241m=\u001B[39m\u001B[38;5;28mself\u001B[39m, callback\u001B[38;5;241m=\u001B[39mcallback, \u001B[38;5;241m*\u001B[39m\u001B[38;5;241m*\u001B[39mkwargs)\n\u001B[1;32m    233\u001B[0m         \u001B[38;5;28;01mfor\u001B[39;00m program \u001B[38;5;129;01min\u001B[39;00m in_programs\n\u001B[1;32m    234\u001B[0m     ]\n\u001B[1;32m    235\u001B[0m     \u001B[38;5;28;01mif\u001B[39;00m \u001B[38;5;28mlen\u001B[39m(in_programs) \u001B[38;5;241m==\u001B[39m \u001B[38;5;241m1\u001B[39m \u001B[38;5;129;01mand\u001B[39;00m \u001B[38;5;129;01mnot\u001B[39;00m is_list:\n\u001B[1;32m    236\u001B[0m         \u001B[38;5;28;01mreturn\u001B[39;00m out[\u001B[38;5;241m0\u001B[39m]\n",
      "File \u001B[0;32m~/anaconda3/envs/rl_qoc/lib/python3.11/site-packages/qiskit/passmanager/passmanager.py:292\u001B[0m, in \u001B[0;36m_run_workflow\u001B[0;34m(program, pass_manager, **kwargs)\u001B[0m\n\u001B[1;32m    286\u001B[0m initial_status \u001B[38;5;241m=\u001B[39m WorkflowStatus()\n\u001B[1;32m    288\u001B[0m passmanager_ir \u001B[38;5;241m=\u001B[39m pass_manager\u001B[38;5;241m.\u001B[39m_passmanager_frontend(\n\u001B[1;32m    289\u001B[0m     input_program\u001B[38;5;241m=\u001B[39mprogram,\n\u001B[1;32m    290\u001B[0m     \u001B[38;5;241m*\u001B[39m\u001B[38;5;241m*\u001B[39mkwargs,\n\u001B[1;32m    291\u001B[0m )\n\u001B[0;32m--> 292\u001B[0m passmanager_ir, final_state \u001B[38;5;241m=\u001B[39m flow_controller\u001B[38;5;241m.\u001B[39mexecute(\n\u001B[1;32m    293\u001B[0m     passmanager_ir\u001B[38;5;241m=\u001B[39mpassmanager_ir,\n\u001B[1;32m    294\u001B[0m     state\u001B[38;5;241m=\u001B[39mPassManagerState(\n\u001B[1;32m    295\u001B[0m         workflow_status\u001B[38;5;241m=\u001B[39minitial_status,\n\u001B[1;32m    296\u001B[0m         property_set\u001B[38;5;241m=\u001B[39mPropertySet(),\n\u001B[1;32m    297\u001B[0m     ),\n\u001B[1;32m    298\u001B[0m     callback\u001B[38;5;241m=\u001B[39mkwargs\u001B[38;5;241m.\u001B[39mget(\u001B[38;5;124m\"\u001B[39m\u001B[38;5;124mcallback\u001B[39m\u001B[38;5;124m\"\u001B[39m, \u001B[38;5;28;01mNone\u001B[39;00m),\n\u001B[1;32m    299\u001B[0m )\n\u001B[1;32m    300\u001B[0m \u001B[38;5;66;03m# The `property_set` has historically been returned as a mutable attribute on `PassManager`\u001B[39;00m\n\u001B[1;32m    301\u001B[0m \u001B[38;5;66;03m# This makes us non-reentrant (though `PassManager` would be dependent on its internal tasks to\u001B[39;00m\n\u001B[1;32m    302\u001B[0m \u001B[38;5;66;03m# be re-entrant if that was required), but is consistent with previous interfaces.  We're still\u001B[39;00m\n\u001B[1;32m    303\u001B[0m \u001B[38;5;66;03m# safe to be called in a serial loop, again assuming internal tasks are re-runnable.  The\u001B[39;00m\n\u001B[1;32m    304\u001B[0m \u001B[38;5;66;03m# conversion to the backend language is also allowed to use the property set, so it must be set\u001B[39;00m\n\u001B[1;32m    305\u001B[0m \u001B[38;5;66;03m# before calling it.\u001B[39;00m\n\u001B[1;32m    306\u001B[0m pass_manager\u001B[38;5;241m.\u001B[39mproperty_set \u001B[38;5;241m=\u001B[39m final_state\u001B[38;5;241m.\u001B[39mproperty_set\n",
      "File \u001B[0;32m~/anaconda3/envs/rl_qoc/lib/python3.11/site-packages/qiskit/passmanager/base_tasks.py:218\u001B[0m, in \u001B[0;36mBaseController.execute\u001B[0;34m(self, passmanager_ir, state, callback)\u001B[0m\n\u001B[1;32m    216\u001B[0m     \u001B[38;5;28;01mreturn\u001B[39;00m passmanager_ir, state\n\u001B[1;32m    217\u001B[0m \u001B[38;5;28;01mwhile\u001B[39;00m \u001B[38;5;28;01mTrue\u001B[39;00m:\n\u001B[0;32m--> 218\u001B[0m     passmanager_ir, state \u001B[38;5;241m=\u001B[39m next_task\u001B[38;5;241m.\u001B[39mexecute(\n\u001B[1;32m    219\u001B[0m         passmanager_ir\u001B[38;5;241m=\u001B[39mpassmanager_ir,\n\u001B[1;32m    220\u001B[0m         state\u001B[38;5;241m=\u001B[39mstate,\n\u001B[1;32m    221\u001B[0m         callback\u001B[38;5;241m=\u001B[39mcallback,\n\u001B[1;32m    222\u001B[0m     )\n\u001B[1;32m    223\u001B[0m     \u001B[38;5;28;01mtry\u001B[39;00m:\n\u001B[1;32m    224\u001B[0m         \u001B[38;5;66;03m# Sending the object through the generator implies the custom controllers\u001B[39;00m\n\u001B[1;32m    225\u001B[0m         \u001B[38;5;66;03m# can always rely on the latest data to choose the next task to run.\u001B[39;00m\n\u001B[1;32m    226\u001B[0m         next_task \u001B[38;5;241m=\u001B[39m task_generator\u001B[38;5;241m.\u001B[39msend(state)\n",
      "File \u001B[0;32m~/anaconda3/envs/rl_qoc/lib/python3.11/site-packages/qiskit/transpiler/basepasses.py:195\u001B[0m, in \u001B[0;36mTransformationPass.execute\u001B[0;34m(self, passmanager_ir, state, callback)\u001B[0m\n\u001B[1;32m    189\u001B[0m \u001B[38;5;28;01mdef\u001B[39;00m \u001B[38;5;21mexecute\u001B[39m(\n\u001B[1;32m    190\u001B[0m     \u001B[38;5;28mself\u001B[39m,\n\u001B[1;32m    191\u001B[0m     passmanager_ir: PassManagerIR,\n\u001B[1;32m    192\u001B[0m     state: PassManagerState,\n\u001B[1;32m    193\u001B[0m     callback: Callable \u001B[38;5;241m=\u001B[39m \u001B[38;5;28;01mNone\u001B[39;00m,\n\u001B[1;32m    194\u001B[0m ) \u001B[38;5;241m-\u001B[39m\u001B[38;5;241m>\u001B[39m \u001B[38;5;28mtuple\u001B[39m[PassManagerIR, PassManagerState]:\n\u001B[0;32m--> 195\u001B[0m     new_dag, state \u001B[38;5;241m=\u001B[39m \u001B[38;5;28msuper\u001B[39m()\u001B[38;5;241m.\u001B[39mexecute(\n\u001B[1;32m    196\u001B[0m         passmanager_ir\u001B[38;5;241m=\u001B[39mpassmanager_ir,\n\u001B[1;32m    197\u001B[0m         state\u001B[38;5;241m=\u001B[39mstate,\n\u001B[1;32m    198\u001B[0m         callback\u001B[38;5;241m=\u001B[39mcallback,\n\u001B[1;32m    199\u001B[0m     )\n\u001B[1;32m    201\u001B[0m     \u001B[38;5;28;01mif\u001B[39;00m state\u001B[38;5;241m.\u001B[39mworkflow_status\u001B[38;5;241m.\u001B[39mprevious_run \u001B[38;5;241m==\u001B[39m RunState\u001B[38;5;241m.\u001B[39mSUCCESS:\n\u001B[1;32m    202\u001B[0m         \u001B[38;5;28;01mif\u001B[39;00m \u001B[38;5;28misinstance\u001B[39m(new_dag, DAGCircuit):\n\u001B[1;32m    203\u001B[0m             \u001B[38;5;66;03m# Copy calibration data from the original program\u001B[39;00m\n",
      "File \u001B[0;32m~/anaconda3/envs/rl_qoc/lib/python3.11/site-packages/qiskit/passmanager/base_tasks.py:98\u001B[0m, in \u001B[0;36mGenericPass.execute\u001B[0;34m(self, passmanager_ir, state, callback)\u001B[0m\n\u001B[1;32m     96\u001B[0m \u001B[38;5;28;01mtry\u001B[39;00m:\n\u001B[1;32m     97\u001B[0m     \u001B[38;5;28;01mif\u001B[39;00m \u001B[38;5;28mself\u001B[39m \u001B[38;5;129;01mnot\u001B[39;00m \u001B[38;5;129;01min\u001B[39;00m state\u001B[38;5;241m.\u001B[39mworkflow_status\u001B[38;5;241m.\u001B[39mcompleted_passes:\n\u001B[0;32m---> 98\u001B[0m         ret \u001B[38;5;241m=\u001B[39m \u001B[38;5;28mself\u001B[39m\u001B[38;5;241m.\u001B[39mrun(passmanager_ir)\n\u001B[1;32m     99\u001B[0m         run_state \u001B[38;5;241m=\u001B[39m RunState\u001B[38;5;241m.\u001B[39mSUCCESS\n\u001B[1;32m    100\u001B[0m     \u001B[38;5;28;01melse\u001B[39;00m:\n",
      "File \u001B[0;32m~/anaconda3/envs/rl_qoc/lib/python3.11/site-packages/qiskit/transpiler/passes/scheduling/time_unit_conversion.py:69\u001B[0m, in \u001B[0;36mTimeUnitConversion.run\u001B[0;34m(self, dag)\u001B[0m\n\u001B[1;32m     56\u001B[0m \u001B[38;5;28;01mdef\u001B[39;00m \u001B[38;5;21mrun\u001B[39m(\u001B[38;5;28mself\u001B[39m, dag: DAGCircuit):\n\u001B[1;32m     57\u001B[0m \u001B[38;5;250m    \u001B[39m\u001B[38;5;124;03m\"\"\"Run the TimeUnitAnalysis pass on `dag`.\u001B[39;00m\n\u001B[1;32m     58\u001B[0m \n\u001B[1;32m     59\u001B[0m \u001B[38;5;124;03m    Args:\u001B[39;00m\n\u001B[0;32m   (...)\u001B[0m\n\u001B[1;32m     66\u001B[0m \u001B[38;5;124;03m        TranspilerError: if the units are not unifiable\u001B[39;00m\n\u001B[1;32m     67\u001B[0m \u001B[38;5;124;03m    \"\"\"\u001B[39;00m\n\u001B[0;32m---> 69\u001B[0m     inst_durations \u001B[38;5;241m=\u001B[39m \u001B[38;5;28mself\u001B[39m\u001B[38;5;241m.\u001B[39m_update_inst_durations(dag)\n\u001B[1;32m     71\u001B[0m     \u001B[38;5;66;03m# Choose unit\u001B[39;00m\n\u001B[1;32m     72\u001B[0m     \u001B[38;5;28;01mif\u001B[39;00m inst_durations\u001B[38;5;241m.\u001B[39mdt \u001B[38;5;129;01mis\u001B[39;00m \u001B[38;5;129;01mnot\u001B[39;00m \u001B[38;5;28;01mNone\u001B[39;00m:\n",
      "File \u001B[0;32m~/anaconda3/envs/rl_qoc/lib/python3.11/site-packages/qiskit/transpiler/passes/scheduling/time_unit_conversion.py:127\u001B[0m, in \u001B[0;36mTimeUnitConversion._update_inst_durations\u001B[0;34m(self, dag)\u001B[0m\n\u001B[1;32m    125\u001B[0m     \u001B[38;5;28;01mfor\u001B[39;00m gate, gate_cals \u001B[38;5;129;01min\u001B[39;00m dag\u001B[38;5;241m.\u001B[39mcalibrations\u001B[38;5;241m.\u001B[39mitems():\n\u001B[1;32m    126\u001B[0m         \u001B[38;5;28;01mfor\u001B[39;00m (qubits, parameters), schedule \u001B[38;5;129;01min\u001B[39;00m gate_cals\u001B[38;5;241m.\u001B[39mitems():\n\u001B[0;32m--> 127\u001B[0m             cal_durations\u001B[38;5;241m.\u001B[39mappend((gate, qubits, parameters, schedule\u001B[38;5;241m.\u001B[39mduration))\n\u001B[1;32m    128\u001B[0m     circ_durations\u001B[38;5;241m.\u001B[39mupdate(cal_durations, circ_durations\u001B[38;5;241m.\u001B[39mdt)\n\u001B[1;32m    130\u001B[0m \u001B[38;5;28;01mif\u001B[39;00m \u001B[38;5;28mself\u001B[39m\u001B[38;5;241m.\u001B[39m_durations_provided:\n",
      "\u001B[0;31mAttributeError\u001B[0m: 'function' object has no attribute 'duration'"
     ]
    }
   ],
   "execution_count": 3
  },
  {
   "metadata": {
    "ExecuteTime": {
     "end_time": "2024-07-14T19:14:52.314567Z",
     "start_time": "2024-07-14T19:14:52.311817Z"
    }
   },
   "cell_type": "code",
   "source": [
    "from qiskit.circuit import Parameter\n",
    "\n",
    "param = Parameter(\"theta\")\n",
    "\n",
    "a = 2 * param.sin()\n",
    "a.sympify().func"
   ],
   "id": "9e93aa89068152e7",
   "outputs": [
    {
     "data": {
      "text/plain": [
       "symengine.lib.symengine_wrapper.Mul"
      ]
     },
     "execution_count": 10,
     "metadata": {},
     "output_type": "execute_result"
    }
   ],
   "execution_count": 10
  },
  {
   "metadata": {
    "ExecuteTime": {
     "end_time": "2024-07-08T10:33:17.132754Z",
     "start_time": "2024-07-08T10:33:16.103960Z"
    }
   },
   "cell_type": "code",
   "source": [
    "from rl_qoc.qua.qua_backend import QuAMQiskitPulse\n",
    "from qiskit import pulse as qiskit_pulse\n",
    "\n",
    "qq_pulse = qiskit_pulse.Drag(amp=0.5, sigma=20, beta=0.5, duration=120, name=\"drag\")\n",
    "qua_pulse = QuAMQiskitPulse(pulse=qq_pulse)\n",
    "qq_pulse.get_waveform().samples"
   ],
   "id": "6dde23802f6f2bfa",
   "outputs": [
    {
     "name": "stdout",
     "output_type": "stream",
     "text": [
      "2024-07-08 12:33:16,424 - qm - INFO     - Starting session: ab544971-239a-44f8-9834-b69278f91250\n"
     ]
    },
    {
     "data": {
      "text/plain": [
       "array([0.00122208+9.08919537e-05j, 0.0021825 +1.59595420e-04j,\n",
       "       0.0032753 +2.35412473e-04j, 0.00451526+3.18890054e-04j,\n",
       "       0.00591823+4.10577357e-04j, 0.00750119+5.11018815e-04j,\n",
       "       0.00928218+6.20746090e-04j, 0.01128029+7.40269090e-04j,\n",
       "       0.01351559+8.70066011e-04j, 0.01600907+1.01057248e-03j,\n",
       "       0.01878254+1.16216982e-03j, 0.02185852+1.32517266e-03j,\n",
       "       0.02526006+1.49981580e-03j, 0.02901059+1.68624077e-03j,\n",
       "       0.03313375+1.88448205e-03j, 0.03765309+2.09445325e-03j,\n",
       "       0.04259188+2.31593359e-03j, 0.0479728 +2.54855477e-03j,\n",
       "       0.05381761+2.79178874e-03j, 0.06014689+3.04493649e-03j,\n",
       "       0.06697961+3.30711837e-03j, 0.0743328 +3.57726615e-03j,\n",
       "       0.08222117+3.85411721e-03j, 0.09065668+4.13621121e-03j,\n",
       "       0.09964821+4.42188950e-03j, 0.1092011 +4.70929758e-03j,\n",
       "       0.1193168 +4.99639092e-03j, 0.12999247+5.28094419e-03j,\n",
       "       0.14122068+5.56056428e-03j, 0.15298903+5.83270692e-03j,\n",
       "       0.16527992+6.09469720e-03j, 0.17807028+6.34375372e-03j,\n",
       "       0.19133138+6.57701633e-03j, 0.20502875+6.79157724e-03j,\n",
       "       0.21912204+6.98451509e-03j, 0.23356512+7.15293176e-03j,\n",
       "       0.24830608+7.29399124e-03j, 0.26328747+7.40496015e-03j,\n",
       "       0.27844648+7.48324921e-03j, 0.29371532+7.52645503e-03j,\n",
       "       0.3090216 +7.53240139e-03j, 0.32428884+7.49917940e-03j,\n",
       "       0.33943705+7.42518557e-03j, 0.35438338+7.30915713e-03j,\n",
       "       0.36904278+7.15020384e-03j, 0.38332886+6.94783551e-03j,\n",
       "       0.39715464+6.70198448e-03j, 0.41043345+6.41302268e-03j,\n",
       "       0.42307983+6.08177253e-03j, 0.43501039+5.70951138e-03j,\n",
       "       0.44614477+5.29796917e-03j, 0.45640651+4.84931917e-03j,\n",
       "       0.46572392+4.36616176e-03j, 0.47403093+3.85150130e-03j,\n",
       "       0.48126785+3.30871645e-03j, 0.48738209+2.74152426e-03j,\n",
       "       0.49232881+2.15393856e-03j, 0.49607145+1.55022329e-03j,\n",
       "       0.49858219+9.34841599e-04j, 0.49984227+3.12401418e-04j,\n",
       "       0.49984227-3.12401418e-04j, 0.49858219-9.34841599e-04j,\n",
       "       0.49607145-1.55022329e-03j, 0.49232881-2.15393856e-03j,\n",
       "       0.48738209-2.74152426e-03j, 0.48126785-3.30871645e-03j,\n",
       "       0.47403093-3.85150130e-03j, 0.46572392-4.36616176e-03j,\n",
       "       0.45640651-4.84931917e-03j, 0.44614477-5.29796917e-03j,\n",
       "       0.43501039-5.70951138e-03j, 0.42307983-6.08177253e-03j,\n",
       "       0.41043345-6.41302268e-03j, 0.39715464-6.70198448e-03j,\n",
       "       0.38332886-6.94783551e-03j, 0.36904278-7.15020384e-03j,\n",
       "       0.35438338-7.30915713e-03j, 0.33943705-7.42518557e-03j,\n",
       "       0.32428884-7.49917940e-03j, 0.3090216 -7.53240139e-03j,\n",
       "       0.29371532-7.52645503e-03j, 0.27844648-7.48324921e-03j,\n",
       "       0.26328747-7.40496015e-03j, 0.24830608-7.29399124e-03j,\n",
       "       0.23356512-7.15293176e-03j, 0.21912204-6.98451509e-03j,\n",
       "       0.20502875-6.79157724e-03j, 0.19133138-6.57701633e-03j,\n",
       "       0.17807028-6.34375372e-03j, 0.16527992-6.09469720e-03j,\n",
       "       0.15298903-5.83270692e-03j, 0.14122068-5.56056428e-03j,\n",
       "       0.12999247-5.28094419e-03j, 0.1193168 -4.99639092e-03j,\n",
       "       0.1092011 -4.70929758e-03j, 0.09964821-4.42188950e-03j,\n",
       "       0.09065668-4.13621121e-03j, 0.08222117-3.85411721e-03j,\n",
       "       0.0743328 -3.57726615e-03j, 0.06697961-3.30711837e-03j,\n",
       "       0.06014689-3.04493649e-03j, 0.05381761-2.79178874e-03j,\n",
       "       0.0479728 -2.54855477e-03j, 0.04259188-2.31593359e-03j,\n",
       "       0.03765309-2.09445325e-03j, 0.03313375-1.88448205e-03j,\n",
       "       0.02901059-1.68624077e-03j, 0.02526006-1.49981580e-03j,\n",
       "       0.02185852-1.32517266e-03j, 0.01878254-1.16216982e-03j,\n",
       "       0.01600907-1.01057248e-03j, 0.01351559-8.70066011e-04j,\n",
       "       0.01128029-7.40269090e-04j, 0.00928218-6.20746090e-04j,\n",
       "       0.00750119-5.11018815e-04j, 0.00591823-4.10577357e-04j,\n",
       "       0.00451526-3.18890054e-04j, 0.0032753 -2.35412473e-04j,\n",
       "       0.0021825 -1.59595420e-04j, 0.00122208-9.08919537e-05j])"
      ]
     },
     "execution_count": 3,
     "metadata": {},
     "output_type": "execute_result"
    }
   ],
   "execution_count": 3
  },
  {
   "metadata": {
    "ExecuteTime": {
     "end_time": "2024-08-08T01:52:55.482457Z",
     "start_time": "2024-08-08T01:52:55.478476Z"
    }
   },
   "cell_type": "code",
   "source": [
    "from qiskit.circuit import Parameter\n",
    "import numpy as np\n",
    "\n",
    "a = Parameter(\"a\")\n",
    "b = 2 * np.sin(a)\n",
    "b.sympify()"
   ],
   "id": "775d08b65d35e0a9",
   "outputs": [
    {
     "data": {
      "text/plain": [
       "2*sin(a)"
      ]
     },
     "execution_count": 17,
     "metadata": {},
     "output_type": "execute_result"
    }
   ],
   "execution_count": 17
  },
  {
   "metadata": {},
   "cell_type": "code",
   "outputs": [],
   "execution_count": null,
   "source": "",
   "id": "63afad5487ea11eb"
  }
 ],
 "metadata": {
  "kernelspec": {
   "display_name": "Python 3",
   "language": "python",
   "name": "python3"
  },
  "language_info": {
   "codemirror_mode": {
    "name": "ipython",
    "version": 2
   },
   "file_extension": ".py",
   "mimetype": "text/x-python",
   "name": "python",
   "nbconvert_exporter": "python",
   "pygments_lexer": "ipython2",
   "version": "2.7.6"
  }
 },
 "nbformat": 4,
 "nbformat_minor": 5
}

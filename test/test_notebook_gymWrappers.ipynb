{
 "cells": [
  {
   "cell_type": "code",
   "execution_count": 3,
   "id": "397bcb5b",
   "metadata": {},
   "outputs": [
    {
     "data": {
      "text/plain": [
       "(array(0., dtype=float32),\n",
       " {'reset_stage': True, 'step': 1, 'gate_index': 0, 'truncation_index': 0})"
      ]
     },
     "execution_count": 3,
     "metadata": {},
     "output_type": "execute_result"
    }
   ],
   "source": [
    "from gymnasium.spaces import Dict, Box\n",
    "import numpy as np\n",
    "from gymnasium.wrappers import FlattenObservation\n",
    "from rl_qoc.environment.context_aware_quantum_environment import ContextAwareQuantumEnvironment\n",
    "from rl_qoc.environment import QEnvConfig, QiskitConfig, ExecutionConfig\n",
    "from rl_qoc.environment.target import GateTarget\n",
    "\n",
    "\n",
    "\n",
    "obs_space = Dict({f\"phi_{i}\": Box(low=-np.pi, high=np.pi, shape=(1,)) for i in range(10)})\n",
    "target = GateTarget(\"x\")\n",
    "backend_config = QiskitConfig()\n",
    "execution_config = ExecutionConfig()\n",
    "action_space = Box(low=-np.pi, high=np.pi, shape=(10,))\n",
    "\n",
    "env = ContextAwareQuantumEnvironment(QEnvConfig(target=target, backend_config=backend_config, execution_config=execution_config, action_space=action_space))\n",
    "env.observation_space = obs_space\n",
    "\n",
    "env.reset()\n",
    "\n",
    "\n",
    "\n",
    "\n",
    "\n"
   ]
  },
  {
   "cell_type": "code",
   "execution_count": 9,
   "id": "e57322e1",
   "metadata": {},
   "outputs": [
    {
     "data": {
      "text/plain": [
       "Box(-3.1415927, 3.1415927, (1,), float32)"
      ]
     },
     "execution_count": 9,
     "metadata": {},
     "output_type": "execute_result"
    }
   ],
   "source": [
    "obs_space[\"phi_0\"]"
   ]
  },
  {
   "cell_type": "code",
   "execution_count": null,
   "id": "d12fbb35",
   "metadata": {},
   "outputs": [],
   "source": []
  }
 ],
 "metadata": {
  "kernelspec": {
   "display_name": ".venv",
   "language": "python",
   "name": "python3"
  },
  "language_info": {
   "codemirror_mode": {
    "name": "ipython",
    "version": 3
   },
   "file_extension": ".py",
   "mimetype": "text/x-python",
   "name": "python",
   "nbconvert_exporter": "python",
   "pygments_lexer": "ipython3",
   "version": "3.11.9"
  }
 },
 "nbformat": 4,
 "nbformat_minor": 5
}

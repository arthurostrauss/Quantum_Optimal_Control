{
 "cells": [
  {
   "cell_type": "code",
   "execution_count": 11,
   "id": "397bcb5b",
   "metadata": {},
   "outputs": [
    {
     "data": {
      "text/plain": [
       "(array([0.], dtype=float32),\n",
       " {'reset_stage': True, 'step': 1, 'gate_index': 0, 'truncation_index': 0})"
      ]
     },
     "execution_count": 11,
     "metadata": {},
     "output_type": "execute_result"
    }
   ],
   "source": [
    "from gymnasium.spaces import Dict, Box\n",
    "import numpy as np\n",
    "from gymnasium.wrappers import FlattenObservation\n",
    "from rl_qoc.environment.context_aware_quantum_environment import ContextAwareQuantumEnvironment\n",
    "from rl_qoc.environment import QEnvConfig, QiskitConfig, ExecutionConfig\n",
    "from rl_qoc.environment.target import GateTarget\n",
    "\n",
    "\n",
    "\n",
    "obs_space = Dict({f\"phi_{i}\": Box(low=-np.pi, high=np.pi, shape=(1,)) for i in range(10)})\n",
    "target = GateTarget(\"x\")\n",
    "backend_config = QiskitConfig()\n",
    "execution_config = ExecutionConfig()\n",
    "action_space = Box(low=-np.pi, high=np.pi, shape=(10,))\n",
    "\n",
    "env = ContextAwareQuantumEnvironment(QEnvConfig(target=target, backend_config=backend_config, execution_config=execution_config, action_space=action_space))\n",
    "# env.observation_space = obs_space\n",
    "\n",
    "env.reset()\n"
   ]
  },
  {
   "cell_type": "code",
   "execution_count": 9,
   "id": "e57322e1",
   "metadata": {},
   "outputs": [
    {
     "data": {
      "text/plain": [
       "Box(-3.1415927, 3.1415927, (1,), float32)"
      ]
     },
     "execution_count": 9,
     "metadata": {},
     "output_type": "execute_result"
    }
   ],
   "source": [
    "obs_space[\"phi_0\"]"
   ]
  },
  {
   "cell_type": "code",
   "execution_count": 14,
   "id": "2442cf66",
   "metadata": {},
   "outputs": [],
   "source": [
    "a = {\"params\":{\"a:\": np.array(1),\n",
    "     \"b\": np.array(2)}}\n",
    "b = np.array(a)"
   ]
  },
  {
   "cell_type": "code",
   "execution_count": 15,
   "id": "27634a9a",
   "metadata": {},
   "outputs": [
    {
     "data": {
      "text/plain": [
       "array({'params': {'a:': array(1), 'b': array(2)}}, dtype=object)"
      ]
     },
     "execution_count": 15,
     "metadata": {},
     "output_type": "execute_result"
    }
   ],
   "source": [
    "b"
   ]
  },
  {
   "cell_type": "code",
   "execution_count": null,
   "id": "d1dbffce",
   "metadata": {},
   "outputs": [],
   "source": []
  }
 ],
 "metadata": {
  "kernelspec": {
   "display_name": ".venv",
   "language": "python",
   "name": "python3"
  },
  "language_info": {
   "codemirror_mode": {
    "name": "ipython",
    "version": 3
   },
   "file_extension": ".py",
   "mimetype": "text/x-python",
   "name": "python",
   "nbconvert_exporter": "python",
   "pygments_lexer": "ipython3",
   "version": "3.11.9"
  }
 },
 "nbformat": 4,
 "nbformat_minor": 5
}

{
 "cells": [
  {
   "cell_type": "code",
   "execution_count": 1,
   "id": "66af5f79-792d-4aaa-b42f-78ecf4cc33aa",
   "metadata": {
    "tags": []
   },
   "outputs": [],
   "source": [
    "import os\n",
    "os.environ['KMP_DUPLICATE_LIB_OK'] = 'True'\n",
    "import sys\n",
    "module_path = os.path.abspath(os.path.join('/Users/lukasvoss/Documents/Master Wirtschaftsphysik/Masterarbeit Yale-NUS CQT/Quantum_Optimal_Control'))\n",
    "if module_path not in sys.path:\n",
    "    sys.path.append(module_path)"
   ]
  },
  {
   "cell_type": "code",
   "execution_count": 2,
   "id": "3c22f8af-4fe1-4f1d-b646-586e5d00e3de",
   "metadata": {
    "tags": []
   },
   "outputs": [
    {
     "name": "stderr",
     "output_type": "stream",
     "text": [
      "/Users/lukasvoss/Library/Python/3.9/lib/python/site-packages/qiskit_dynamics/dispatch/backends/jax.py:34: UserWarning: The functionality in the perturbation module of Qiskit Dynamics requires a JAX version <= 0.4.6, due to a bug in JAX versions > 0.4.6. For versions 0.4.4, 0.4.5, and 0.4.6, using the perturbation module functionality requires setting os.environ['JAX_JIT_PJIT_API_MERGE'] = '0' before importing JAX or Dynamics.\n",
      "  warnings.warn(\n"
     ]
    }
   ],
   "source": [
    "# Qiskit imports\n",
    "from qiskit import pulse, transpile\n",
    "from qiskit.transpiler import InstructionDurations, InstructionProperties\n",
    "from qiskit.circuit import ParameterVector, QuantumCircuit, QuantumRegister, Gate, CircuitInstruction, Parameter\n",
    "from qiskit.circuit.library import get_standard_gate_name_mapping\n",
    "\n",
    "from qiskit_dynamics.array import Array\n",
    "Array.set_default_backend('jax')\n",
    "\n",
    "from qiskit.providers.fake_provider import FakeHanoi, FakeJakarta, FakeJakartaV2\n",
    "from qiskit_dynamics import DynamicsBackend, Solver\n",
    "from qiskit_experiments.calibration_management import Calibrations\n",
    "from qiskit_experiments.library import RoughXSXAmplitudeCal, RoughDragCal\n",
    "from qiskit_experiments.calibration_management.basis_gate_library import FixedFrequencyTransmon, EchoedCrossResonance\n",
    "\n",
    "from itertools import permutations\n",
    "import numpy as np\n",
    "import tqdm\n",
    "import time\n",
    "from typing import Union, Optional, List, Sequence, Dict\n",
    "from IPython.display import clear_output\n",
    "\n",
    "\n",
    "import jax\n",
    "jax.config.update(\"jax_enable_x64\", True)\n",
    "# tell JAX we are using CPU\n",
    "jax.config.update(\"jax_platform_name\", \"cpu\")\n",
    "# import Array and set default backend\n"
   ]
  },
  {
   "cell_type": "code",
   "execution_count": 3,
   "id": "2ccdcd48-1b63-438e-a3c6-a52223a37c61",
   "metadata": {
    "tags": []
   },
   "outputs": [],
   "source": [
    "def perform_standard_calibrations(\n",
    "    backend: DynamicsBackend, calibration_files: Optional[List[str]] = None\n",
    "):\n",
    "    \"\"\"\n",
    "    Generate baseline single qubit gates (X, SX, RZ, H) for all qubits using traditional calibration experiments\n",
    "    :param backend: Dynamics Backend on which calibrations should be run\n",
    "    :param calibration_files: Optional calibration files containing single qubit gate calibrations for provided\n",
    "        DynamicsBackend instance (Qiskit Experiments does not support this feature yet)\n",
    "\n",
    "    \"\"\"\n",
    "\n",
    "    target, qubits = backend.target, []\n",
    "    for i, dim in enumerate(backend.options.subsystem_dims):\n",
    "        if dim > 1:\n",
    "            qubits.append(i)\n",
    "    num_qubits = len(qubits)\n",
    "    single_qubit_properties = {(qubit,): None for qubit in range(num_qubits)}\n",
    "    single_qubit_errors = {(qubit,): 0.0 for qubit in qubits}\n",
    "\n",
    "    control_channel_map = backend.options.control_channel_map or {\n",
    "        (qubits[0], qubits[1]): index\n",
    "        for index, qubits in enumerate(tuple(permutations(qubits, 2)))\n",
    "    }\n",
    "    if backend.options.control_channel_map:\n",
    "        physical_control_channel_map = {\n",
    "            (qubit_pair[0], qubit_pair[1]): backend.control_channel(\n",
    "                (qubit_pair[0], qubit_pair[1])\n",
    "            )\n",
    "            for qubit_pair in backend.options.control_channel_map\n",
    "        }\n",
    "    else:\n",
    "        physical_control_channel_map = {\n",
    "            (qubit_pair[0], qubit_pair[1]): [pulse.ControlChannel(index)]\n",
    "            for index, qubit_pair in enumerate(tuple(permutations(qubits, 2)))\n",
    "        }\n",
    "    backend.set_options(control_channel_map=control_channel_map)\n",
    "    coupling_map = [list(qubit_pair) for qubit_pair in control_channel_map]\n",
    "    two_qubit_properties = {qubits: None for qubits in control_channel_map}\n",
    "    two_qubit_errors = {qubits: 0.0 for qubits in control_channel_map}\n",
    "    standard_gates: Dict[\n",
    "        str, Gate\n",
    "    ] = get_standard_gate_name_mapping()  # standard gate library\n",
    "    fixed_phase_gates, fixed_phases = [\"z\", \"s\", \"sdg\", \"t\", \"tdg\"], np.pi * np.array(\n",
    "        [1, 0.5, -0.5, 0.25, -0.25]\n",
    "    )\n",
    "    other_gates = [\"rz\", \"id\", \"h\", \"x\", \"sx\", \"reset\"]\n",
    "    single_qubit_gates = fixed_phase_gates + other_gates\n",
    "    two_qubit_gates = [\"ecr\"]\n",
    "    exp_results = {}\n",
    "    existing_cals = calibration_files is not None\n",
    "\n",
    "    phi: Parameter = standard_gates[\"rz\"].params[0]\n",
    "    if existing_cals:\n",
    "        cals = Calibrations.load(files=calibration_files)\n",
    "    else:\n",
    "        cals = Calibrations(\n",
    "            coupling_map=coupling_map,\n",
    "            control_channel_map=physical_control_channel_map,\n",
    "            libraries=[\n",
    "                FixedFrequencyTransmon(basis_gates=[\"x\", \"sx\"]),\n",
    "                EchoedCrossResonance(basis_gates=[\"cr45p\", \"cr45m\", \"ecr\"]),\n",
    "            ],\n",
    "            backend_name=backend.name,\n",
    "            backend_version=backend.backend_version,\n",
    "        )\n",
    "    if (\n",
    "        len(target.instruction_schedule_map().instructions) <= 1\n",
    "    ):  # Check if instructions have already been added\n",
    "        for gate in single_qubit_gates:\n",
    "            target.add_instruction(\n",
    "                standard_gates[gate], properties=single_qubit_properties\n",
    "            )\n",
    "        if num_qubits > 1:\n",
    "            for gate in two_qubit_gates:\n",
    "                target.add_instruction(\n",
    "                    standard_gates[gate], properties=two_qubit_properties\n",
    "                )\n",
    "            target.build_coupling_map(two_q_gate=two_qubit_gates[0])\n",
    "\n",
    "    for qubit in qubits:  # Add calibrations for each qubit\n",
    "        control_channels = list(\n",
    "            filter(\n",
    "                lambda x: x is not None,\n",
    "                [control_channel_map.get((i, qubit), None) for i in qubits],\n",
    "            )\n",
    "        )\n",
    "        # Calibration of RZ gate, virtual Z-rotation\n",
    "        with pulse.build(backend, name=f\"rz{qubit}\") as rz_cal:\n",
    "            pulse.shift_phase(-phi, pulse.DriveChannel(qubit))\n",
    "            for q in control_channels:\n",
    "                pulse.shift_phase(-phi, pulse.ControlChannel(q))\n",
    "        # Identity gate\n",
    "        id_cal = pulse.Schedule(\n",
    "            pulse.Delay(20, pulse.DriveChannel(qubit))\n",
    "        )  # Wait 20 cycles for identity gate\n",
    "\n",
    "        # Update backend Target by adding calibrations for all phase gates (fixed angle virtual Z-rotations)\n",
    "        target.update_instruction_properties(\n",
    "            \"rz\", (qubit,), InstructionProperties(calibration=rz_cal, error=0.0)\n",
    "        )\n",
    "        target.update_instruction_properties(\n",
    "            \"id\", (qubit,), InstructionProperties(calibration=id_cal, error=0.0)\n",
    "        )\n",
    "        target.update_instruction_properties(\n",
    "            \"reset\", (qubit,), InstructionProperties(calibration=id_cal, error=0.0)\n",
    "        )\n",
    "        for phase, gate in zip(fixed_phases, fixed_phase_gates):\n",
    "            gate_cal = rz_cal.assign_parameters({phi: phase}, inplace=False)\n",
    "            instruction_prop = InstructionProperties(calibration=gate_cal, error=0.0)\n",
    "            target.update_instruction_properties(gate, (qubit,), instruction_prop)\n",
    "\n",
    "        # Perform calibration experiments (Rabi/Drag) for calibrating X and SX gates\n",
    "        if not existing_cals:\n",
    "            rabi_exp = RoughXSXAmplitudeCal(\n",
    "                [qubit], cals, backend=backend, amplitudes=np.linspace(-0.2, 0.2, 100)\n",
    "            )\n",
    "            drag_exp = RoughDragCal(\n",
    "                [qubit], cals, backend=backend, betas=np.linspace(-20, 20, 15)\n",
    "            )\n",
    "            drag_exp.set_experiment_options(reps=[3, 5, 7])\n",
    "            print(f\"Starting Rabi experiment for qubit {qubit}...\")\n",
    "            rabi_result = rabi_exp.run().block_for_results()\n",
    "            print(f\"Rabi experiment for qubit {qubit} done.\")\n",
    "            print(f\"Starting Drag experiment for qubit {qubit}...\")\n",
    "            drag_result = drag_exp.run().block_for_results()\n",
    "            print(f\"Drag experiments done for qubit {qubit} done.\")\n",
    "            exp_results[qubit] = [rabi_result, drag_result]\n",
    "\n",
    "        # Build Hadamard gate schedule from following equivalence: H = S @ SX @ S\n",
    "\n",
    "        # sx_schedule = block_to_schedule(cals.get_schedule(\"sx\", (qubit,)))\n",
    "        # s_schedule = block_to_schedule(target.get_calibration(\"s\", (qubit,)))\n",
    "        # h_schedule = pulse.Schedule(s_schedule, sx_schedule, s_schedule, name=\"h\")\n",
    "        sx_schedule = cals.get_schedule(\"sx\", (qubit,))\n",
    "        s_schedule = target.get_calibration(\"s\", (qubit,))\n",
    "        with pulse.build(backend, name=\"h\") as h_schedule:\n",
    "            pulse.call(s_schedule)\n",
    "            pulse.call(sx_schedule)\n",
    "            pulse.call(s_schedule)\n",
    "\n",
    "        target.update_instruction_properties(\n",
    "            \"h\",\n",
    "            (qubit,),\n",
    "            properties=InstructionProperties(calibration=h_schedule, error=0.0),\n",
    "        )\n",
    "\n",
    "    print(\"All single qubit calibrations are done\")\n",
    "    # cals.save(file_type=\"csv\", overwrite=True, file_prefix=\"Custom\" + backend.name)\n",
    "    error_dict = {\"x\": single_qubit_errors, \"sx\": single_qubit_errors}\n",
    "    target.update_from_instruction_schedule_map(\n",
    "        cals.get_inst_map(), error_dict=error_dict\n",
    "    )\n",
    "    print(control_channel_map)\n",
    "    # for qubit_pair in control_channel_map:\n",
    "    #     print(qubit_pair)\n",
    "    #     cr_ham_exp = CrossResonanceHamiltonian(physical_qubits=qubit_pair, flat_top_widths=np.linspace(0, 5000, 17),\n",
    "    #                                            backend=backend)\n",
    "    #     print(\"Calibrating CR for qubits\", qubit_pair, \"...\")\n",
    "    #     data_cr = cr_ham_exp.run().block_for_results()\n",
    "    #     exp_results[qubit_pair] = data_cr\n",
    "\n",
    "    print(\"Updated Instruction Schedule Map\", target.instruction_schedule_map())\n",
    "\n",
    "    return cals, exp_results"
   ]
  },
  {
   "cell_type": "code",
   "execution_count": 4,
   "id": "f1286f3c-2462-4517-baff-2d15303dd3c4",
   "metadata": {
    "tags": []
   },
   "outputs": [],
   "source": [
    "from qiskit.quantum_info import Operator\n",
    "from qiskit_dynamics import Solver, Signal\n",
    "dim = 2\n",
    "dt = 1/4.5e9\n",
    "v0 = 4.86e9\n",
    "anharm0 = -0.32e9\n",
    "r0 = 0.22e9\n",
    "\n",
    "X = Operator.from_label('X')\n",
    "Z = Operator.from_label('Z')\n",
    "\n",
    "solver = Solver(\n",
    "    static_hamiltonian=.5 * 2 * np.pi * v0 * Z,\n",
    "    hamiltonian_operators=[2 * np.pi * r0 * X],\n",
    "    rotating_frame = .5 * 2 * np.pi * v0 * Z,\n",
    "    hamiltonian_channels=[\"d0\"],\n",
    "    channel_carrier_freqs={\"d0\": v0},\n",
    "    dt=dt,\n",
    "    evaluation_mode=\"dense\"\n",
    "    \n",
    ")"
   ]
  },
  {
   "cell_type": "code",
   "execution_count": 5,
   "id": "07136254-ab5a-415c-8f88-1bc9d48ef754",
   "metadata": {
    "tags": []
   },
   "outputs": [
    {
     "name": "stdout",
     "output_type": "stream",
     "text": [
      "Starting Rabi experiment for qubit 0...\n",
      "Rabi experiment for qubit 0 done.\n",
      "Starting Drag experiment for qubit 0...\n",
      "Drag experiments done for qubit 0 done.\n",
      "All single qubit calibrations are done\n",
      "{}\n",
      "Updated Instruction Schedule Map <InstructionScheduleMap(1Q instructions:\n",
      "  q0: {'z', 'sx', 'h', 'tdg', 'rz', 'measure', 'x', 'sdg', 'reset', 'id', 't', 's'}\n",
      "Multi qubit instructions:\n",
      ")>\n"
     ]
    }
   ],
   "source": [
    "solver_options = {\"method\": \"jax_odeint\", \"atol\": 1e-6, \"rtol\": 1e-8, 'hmax':dt}\n",
    "\n",
    "backend = DynamicsBackend(\n",
    "    solver=solver,\n",
    "    subsystem_dims=[dim], # for computing measurement data\n",
    "    solver_options=solver_options, # to be used every time run is called\n",
    ")\n",
    "cals, exp_results = perform_standard_calibrations(backend)"
   ]
  },
  {
   "cell_type": "code",
   "execution_count": 6,
   "id": "c24cd7dd-68fb-4cc7-98f3-90333dbb7f5c",
   "metadata": {
    "tags": []
   },
   "outputs": [
    {
     "name": "stdout",
     "output_type": "stream",
     "text": [
      "320\n"
     ]
    }
   ],
   "source": [
    "from qiskit.quantum_info import Statevector\n",
    "from qiskit.circuit import ParameterVector\n",
    "y0 = Array(Statevector(np.array([1.0, 0.0])))\n",
    "dt = 2.222e-10\n",
    "rtol = 1e-8\n",
    "atol = 1e-6\n",
    "phase_params = ParameterVector('phase', 3)\n",
    "h_sched = backend.target.get_calibration(\"h\", (0,))\n",
    "x_sched = backend.target.get_calibration(\"x\", (0,))\n",
    "meas_sched = backend.target.get_calibration(\"measure\", (0,))\n",
    "# build a pulse schedule\n",
    "with pulse.build(default_alignment=\"sequential\") as sched_ext:\n",
    "    #pulse.call(x_sched)\n",
    "    pulse.call(h_sched)\n",
    "    pulse.shift_phase(phase_params[0], pulse.DriveChannel(0))\n",
    "    pulse.call(h_sched)\n",
    "    \n",
    "t_linspace = np.linspace(0.0, sched_ext.duration*dt, 100)\n",
    "print(sched_ext.duration)"
   ]
  },
  {
   "cell_type": "code",
   "execution_count": 7,
   "id": "1dcfe34e-842b-4cbd-a6e2-a907802f60df",
   "metadata": {
    "tags": []
   },
   "outputs": [
    {
     "data": {
      "image/png": "[encoded data removed]",
      "text/plain": [
       "<Figure size 1300x194.534 with 1 Axes>"
      ]
     },
     "execution_count": 7,
     "metadata": {},
     "output_type": "execute_result"
    }
   ],
   "source": [
    "def my_sched():\n",
    "    with pulse.build(default_alignment=\"sequential\") as sched_ext:\n",
    "        #pulse.call(x_sched)\n",
    "        pulse.call(h_sched)\n",
    "        pulse.shift_phase(phase_params[0], pulse.DriveChannel(0))\n",
    "        pulse.shift_phase(phase_params[1], pulse.DriveChannel(0))\n",
    "        pulse.shift_phase(phase_params[2], pulse.DriveChannel(0))\n",
    "        pulse.play(pulse.Drag(amp=phase_params[2], duration=120, sigma=20, angle=0., beta=0.), pulse.DriveChannel(0))\n",
    "        pulse.call(h_sched)\n",
    "    return sched_ext\n",
    "\n",
    "def my_clean_sched(param):\n",
    "    with pulse.build(default_alignment=\"sequential\") as sched_ext:\n",
    "        #pulse.call(x_sched)\n",
    "        pulse.call(h_sched)\n",
    "        pulse.shift_phase(0.4, pulse.DriveChannel(0))\n",
    "        pulse.play(pulse.Drag(amp=param, duration=120, sigma=20, angle=0., beta=0.), pulse.DriveChannel(0))\n",
    "        pulse.call(h_sched)\n",
    "    return sched_ext\n",
    "my_clean_sched(0.2).draw()"
   ]
  },
  {
   "cell_type": "code",
   "execution_count": 20,
   "id": "301a90d0-e5d3-44b3-897b-912bc1ee1bf4",
   "metadata": {
    "tags": []
   },
   "outputs": [],
   "source": [
    "# Inside jit function method\n",
    "import jax.numpy as jnp\n",
    "from jax import block_until_ready, vmap\n",
    "from qiskit_dynamics.array import wrap\n",
    "jit = wrap(jax.jit, decorator=True)\n",
    "qd_vmap = wrap(vmap, decorator=True)\n",
    "\n",
    "\n",
    "def get_sched(phases):\n",
    "    #sched_in = my_sched().assign_parameters({param:phase for (param, phase) in zip(phase_params, phases)}, inplace = False)\n",
    "    \n",
    "    with pulse.build(default_alignment=\"sequential\") as sched_in:\n",
    "        #pulse.call(x_sched)\n",
    "        pulse.call(h_sched)\n",
    "        pulse.shift_phase(0.4, pulse.DriveChannel(0))\n",
    "        pulse.play(pulse.Drag(amp=0.2, duration=160, sigma=20, angle=0., beta=0.), pulse.DriveChannel(0))\n",
    "        pulse.call(h_sched)\n",
    "        \n",
    "    t_linspace = jnp.linspace(0, 320*dt, 20)\n",
    "    results = solver.solve(t_span=[t_linspace[0], t_linspace[-1]],\n",
    "        y0=y0,\n",
    "        signals=sched_in,\n",
    "        #signals=sched,\n",
    "        #t_eval=t_linspace[-1],\n",
    "        method='jax_odeint',\n",
    "        atol=atol,\n",
    "        rtol=rtol,\n",
    "        hmax = dt\n",
    "    )\n",
    "    \n",
    "    return results.y\n",
    "\n",
    "sched_fast = jit(get_sched)"
   ]
  },
  {
   "cell_type": "code",
   "execution_count": 21,
   "id": "84d5a98e-eb72-4a4f-acc0-95ddc2b01dc9",
   "metadata": {
    "tags": []
   },
   "outputs": [
    {
     "data": {
      "text/plain": [
       "Array([[ 1.        +0.j        ,  0.        +0.j        ],\n",
       "       [-0.25298049-0.65266243j, -0.29708501+0.64946707j]])"
      ]
     },
     "execution_count": 21,
     "metadata": {},
     "output_type": "execute_result"
    }
   ],
   "source": [
    "#sched_fast([np.pi, np.pi/2, 0.3])\n",
    "sched_fast(0.4)"
   ]
  },
  {
   "cell_type": "code",
   "execution_count": 25,
   "id": "7e87bb00",
   "metadata": {},
   "outputs": [],
   "source": [
    "def jit_func(amp):\n",
    "    #sched_in = my_sched().assign_parameters({param:phase for (param, phase) in zip(phase_params, phases)}, inplace = False)\n",
    "    \n",
    "    amp_param = Parameter('amp')\n",
    "    freq = Parameter('freq')\n",
    "\n",
    "    costum_drag_pulse = pulse.Drag(\n",
    "        duration=160,\n",
    "        amp=amp_param,\n",
    "        sigma=20,\n",
    "        beta=0.1,\n",
    "        angle=0.1,\n",
    "        limit_amplitude=False\n",
    "    )\n",
    "\n",
    "    with pulse.build(default_alignment=\"sequential\") as sched_in:\n",
    "        #pulse.call(x_sched)\n",
    "        # pulse.call(h_sched)\n",
    "        pulse.shift_frequency(freq, pulse.ControlChannel(0))\n",
    "        pulse.play(costum_drag_pulse, pulse.DriveChannel(0))\n",
    "        pulse.shift_frequency(freq, pulse.ControlChannel(1))\n",
    "        pulse.play(costum_drag_pulse, pulse.DriveChannel(1))\n",
    "        # pulse.call(h_sched)\n",
    "\n",
    "    sched_in.assign_parameters({amp_param: amp, freq: amp * 1e6}, inplace=True)\n",
    "        \n",
    "    t_linspace = jnp.linspace(0, 320*dt, 20)\n",
    "    results = solver.solve(t_span=[t_linspace[0], t_linspace[-1]],\n",
    "        y0=y0,\n",
    "        signals=sched_in,\n",
    "        #signals=sched,\n",
    "        #t_eval=t_linspace[-1],\n",
    "        method='jax_odeint',\n",
    "        atol=atol,\n",
    "        rtol=rtol,\n",
    "        hmax = dt\n",
    "    )\n",
    "    \n",
    "    return results.y\n",
    "\n",
    "fast_sched_jit = jit(jit_func)"
   ]
  },
  {
   "cell_type": "code",
   "execution_count": 26,
   "id": "9d6c4b58",
   "metadata": {},
   "outputs": [
    {
     "ename": "CircuitError",
     "evalue": "'Expression cannot bind non-numeric values ({Parameter(freq): Traced<ShapedArray(float64[], weak_type=True)>with<DynamicJaxprTrace(level=1/0)>})'",
     "output_type": "error",
     "traceback": [
      "\u001b[0;31m---------------------------------------------------------------------------\u001b[0m",
      "\u001b[0;31mCircuitError\u001b[0m                              Traceback (most recent call last)",
      "Cell \u001b[0;32mIn[26], line 1\u001b[0m\n\u001b[0;32m----> 1\u001b[0m fast_sched_jit(\u001b[39m0.2\u001b[39;49m)\n",
      "File \u001b[0;32m~/Library/Python/3.9/lib/python/site-packages/qiskit_dynamics/array/wrap.py:163\u001b[0m, in \u001b[0;36m_wrap_decorator.<locals>.wrapped_func.<locals>.wrapped_decorated\u001b[0;34m(*f_args, **f_kwargs)\u001b[0m\n\u001b[1;32m    161\u001b[0m f_args \u001b[39m=\u001b[39m _wrap_args(f_args)\n\u001b[1;32m    162\u001b[0m f_kwargs \u001b[39m=\u001b[39m _wrap_kwargs(f_kwargs)\n\u001b[0;32m--> 163\u001b[0m result \u001b[39m=\u001b[39m _wrap_function(decorated)(\u001b[39m*\u001b[39;49mf_args, \u001b[39m*\u001b[39;49m\u001b[39m*\u001b[39;49mf_kwargs)\n\u001b[1;32m    164\u001b[0m \u001b[39mreturn\u001b[39;00m Array\u001b[39m.\u001b[39m_wrap(result)\n",
      "File \u001b[0;32m~/Library/Python/3.9/lib/python/site-packages/qiskit_dynamics/array/wrap.py:105\u001b[0m, in \u001b[0;36m_wrap_function.<locals>.wrapped_func\u001b[0;34m(*args, **kwargs)\u001b[0m\n\u001b[1;32m    103\u001b[0m args \u001b[39m=\u001b[39m _wrap_args(args)\n\u001b[1;32m    104\u001b[0m kwargs \u001b[39m=\u001b[39m _wrap_kwargs(kwargs)\n\u001b[0;32m--> 105\u001b[0m result \u001b[39m=\u001b[39m _wrap_array_function(func)(\u001b[39m*\u001b[39;49margs, \u001b[39m*\u001b[39;49m\u001b[39m*\u001b[39;49mkwargs)\n\u001b[1;32m    106\u001b[0m \u001b[39mreturn\u001b[39;00m Array\u001b[39m.\u001b[39m_wrap(result)\n",
      "File \u001b[0;32m~/Library/Python/3.9/lib/python/site-packages/qiskit_dynamics/array/wrap.py:59\u001b[0m, in \u001b[0;36m_wrap_array_function.<locals>.wrapped_function\u001b[0;34m(*args, **kwargs)\u001b[0m\n\u001b[1;32m     53\u001b[0m kwargs \u001b[39m=\u001b[39m \u001b[39mdict\u001b[39m(\n\u001b[1;32m     54\u001b[0m     (key, val\u001b[39m.\u001b[39m__qiskit_array__()\u001b[39m.\u001b[39mdata) \u001b[39mif\u001b[39;00m \u001b[39mhasattr\u001b[39m(val, \u001b[39m\"\u001b[39m\u001b[39m__qiskit_array__\u001b[39m\u001b[39m\"\u001b[39m) \u001b[39melse\u001b[39;00m (key, val)\n\u001b[1;32m     55\u001b[0m     \u001b[39mfor\u001b[39;00m key, val \u001b[39min\u001b[39;00m kwargs\u001b[39m.\u001b[39mitems()\n\u001b[1;32m     56\u001b[0m )\n\u001b[1;32m     58\u001b[0m \u001b[39m# Evaluate function with unwrapped inputs\u001b[39;00m\n\u001b[0;32m---> 59\u001b[0m result \u001b[39m=\u001b[39m func(\u001b[39m*\u001b[39;49margs, \u001b[39m*\u001b[39;49m\u001b[39m*\u001b[39;49mkwargs)\n\u001b[1;32m     61\u001b[0m \u001b[39m# Unwrap result\u001b[39;00m\n\u001b[1;32m     62\u001b[0m \u001b[39mif\u001b[39;00m \u001b[39misinstance\u001b[39m(result, \u001b[39mtuple\u001b[39m):\n",
      "    \u001b[0;31m[... skipping hidden 12 frame]\u001b[0m\n",
      "File \u001b[0;32m~/Library/Python/3.9/lib/python/site-packages/qiskit_dynamics/array/wrap.py:59\u001b[0m, in \u001b[0;36m_wrap_array_function.<locals>.wrapped_function\u001b[0;34m(*args, **kwargs)\u001b[0m\n\u001b[1;32m     53\u001b[0m kwargs \u001b[39m=\u001b[39m \u001b[39mdict\u001b[39m(\n\u001b[1;32m     54\u001b[0m     (key, val\u001b[39m.\u001b[39m__qiskit_array__()\u001b[39m.\u001b[39mdata) \u001b[39mif\u001b[39;00m \u001b[39mhasattr\u001b[39m(val, \u001b[39m\"\u001b[39m\u001b[39m__qiskit_array__\u001b[39m\u001b[39m\"\u001b[39m) \u001b[39melse\u001b[39;00m (key, val)\n\u001b[1;32m     55\u001b[0m     \u001b[39mfor\u001b[39;00m key, val \u001b[39min\u001b[39;00m kwargs\u001b[39m.\u001b[39mitems()\n\u001b[1;32m     56\u001b[0m )\n\u001b[1;32m     58\u001b[0m \u001b[39m# Evaluate function with unwrapped inputs\u001b[39;00m\n\u001b[0;32m---> 59\u001b[0m result \u001b[39m=\u001b[39m func(\u001b[39m*\u001b[39;49margs, \u001b[39m*\u001b[39;49m\u001b[39m*\u001b[39;49mkwargs)\n\u001b[1;32m     61\u001b[0m \u001b[39m# Unwrap result\u001b[39;00m\n\u001b[1;32m     62\u001b[0m \u001b[39mif\u001b[39;00m \u001b[39misinstance\u001b[39m(result, \u001b[39mtuple\u001b[39m):\n",
      "Cell \u001b[0;32mIn[25], line 25\u001b[0m, in \u001b[0;36mjit_func\u001b[0;34m(amp)\u001b[0m\n\u001b[1;32m     22\u001b[0m     pulse\u001b[39m.\u001b[39mplay(costum_drag_pulse, pulse\u001b[39m.\u001b[39mDriveChannel(\u001b[39m1\u001b[39m))\n\u001b[1;32m     23\u001b[0m     \u001b[39m# pulse.call(h_sched)\u001b[39;00m\n\u001b[0;32m---> 25\u001b[0m sched_in\u001b[39m.\u001b[39;49massign_parameters({amp_param: amp, freq: amp \u001b[39m*\u001b[39;49m \u001b[39m1e6\u001b[39;49m}, inplace\u001b[39m=\u001b[39;49m\u001b[39mTrue\u001b[39;49;00m)\n\u001b[1;32m     27\u001b[0m t_linspace \u001b[39m=\u001b[39m jnp\u001b[39m.\u001b[39mlinspace(\u001b[39m0\u001b[39m, \u001b[39m320\u001b[39m\u001b[39m*\u001b[39mdt, \u001b[39m20\u001b[39m)\n\u001b[1;32m     28\u001b[0m results \u001b[39m=\u001b[39m solver\u001b[39m.\u001b[39msolve(t_span\u001b[39m=\u001b[39m[t_linspace[\u001b[39m0\u001b[39m], t_linspace[\u001b[39m-\u001b[39m\u001b[39m1\u001b[39m]],\n\u001b[1;32m     29\u001b[0m     y0\u001b[39m=\u001b[39my0,\n\u001b[1;32m     30\u001b[0m     signals\u001b[39m=\u001b[39msched_in,\n\u001b[0;32m   (...)\u001b[0m\n\u001b[1;32m     36\u001b[0m     hmax \u001b[39m=\u001b[39m dt\n\u001b[1;32m     37\u001b[0m )\n",
      "File \u001b[0;32m~/Library/Python/3.9/lib/python/site-packages/qiskit/pulse/schedule.py:1510\u001b[0m, in \u001b[0;36mScheduleBlock.assign_parameters\u001b[0;34m(self, value_dict, inplace)\u001b[0m\n\u001b[1;32m   1507\u001b[0m     \u001b[39mreturn\u001b[39;00m new_schedule\u001b[39m.\u001b[39massign_parameters(value_dict, inplace\u001b[39m=\u001b[39m\u001b[39mTrue\u001b[39;00m)\n\u001b[1;32m   1509\u001b[0m \u001b[39m# Update parameters in the current scope\u001b[39;00m\n\u001b[0;32m-> 1510\u001b[0m \u001b[39mself\u001b[39;49m\u001b[39m.\u001b[39;49m_parameter_manager\u001b[39m.\u001b[39;49massign_parameters(pulse_program\u001b[39m=\u001b[39;49m\u001b[39mself\u001b[39;49m, value_dict\u001b[39m=\u001b[39;49mvalue_dict)\n\u001b[1;32m   1512\u001b[0m \u001b[39mfor\u001b[39;00m subroutine \u001b[39min\u001b[39;00m \u001b[39mself\u001b[39m\u001b[39m.\u001b[39m_reference_manager\u001b[39m.\u001b[39mvalues():\n\u001b[1;32m   1513\u001b[0m     \u001b[39m# Also assigning parameters to the references associated with self.\u001b[39;00m\n\u001b[1;32m   1514\u001b[0m     \u001b[39m# Note that references are always stored in the root program.\u001b[39;00m\n\u001b[1;32m   1515\u001b[0m     \u001b[39m# So calling assign_parameters from nested block doesn't update references.\u001b[39;00m\n\u001b[1;32m   1516\u001b[0m     \u001b[39mif\u001b[39;00m subroutine \u001b[39mis\u001b[39;00m \u001b[39mNone\u001b[39;00m:\n",
      "File \u001b[0;32m~/Library/Python/3.9/lib/python/site-packages/qiskit/pulse/parameter_manager.py:421\u001b[0m, in \u001b[0;36mParameterManager.assign_parameters\u001b[0;34m(self, pulse_program, value_dict)\u001b[0m\n\u001b[1;32m    419\u001b[0m \u001b[39mif\u001b[39;00m valid_map:\n\u001b[1;32m    420\u001b[0m     visitor \u001b[39m=\u001b[39m ParameterSetter(param_map\u001b[39m=\u001b[39mvalid_map)\n\u001b[0;32m--> 421\u001b[0m     \u001b[39mreturn\u001b[39;00m visitor\u001b[39m.\u001b[39;49mvisit(pulse_program)\n\u001b[1;32m    422\u001b[0m \u001b[39mreturn\u001b[39;00m pulse_program\n",
      "File \u001b[0;32m~/Library/Python/3.9/lib/python/site-packages/qiskit/pulse/parameter_manager.py:92\u001b[0m, in \u001b[0;36mNodeVisitor.visit\u001b[0;34m(self, node)\u001b[0m\n\u001b[1;32m     90\u001b[0m \u001b[39m\u001b[39m\u001b[39m\"\"\"Visit a node.\"\"\"\u001b[39;00m\n\u001b[1;32m     91\u001b[0m visitor \u001b[39m=\u001b[39m \u001b[39mself\u001b[39m\u001b[39m.\u001b[39m_get_visitor(\u001b[39mtype\u001b[39m(node))\n\u001b[0;32m---> 92\u001b[0m \u001b[39mreturn\u001b[39;00m visitor(node)\n",
      "File \u001b[0;32m~/Library/Python/3.9/lib/python/site-packages/qiskit/pulse/parameter_manager.py:140\u001b[0m, in \u001b[0;36mParameterSetter.visit_ScheduleBlock\u001b[0;34m(self, node)\u001b[0m\n\u001b[1;32m    138\u001b[0m node\u001b[39m.\u001b[39m_alignment_context \u001b[39m=\u001b[39m \u001b[39mself\u001b[39m\u001b[39m.\u001b[39mvisit_AlignmentKind(node\u001b[39m.\u001b[39malignment_context)\n\u001b[1;32m    139\u001b[0m \u001b[39mfor\u001b[39;00m elm \u001b[39min\u001b[39;00m node\u001b[39m.\u001b[39m_blocks:\n\u001b[0;32m--> 140\u001b[0m     \u001b[39mself\u001b[39;49m\u001b[39m.\u001b[39;49mvisit(elm)\n\u001b[1;32m    142\u001b[0m \u001b[39mself\u001b[39m\u001b[39m.\u001b[39m_update_parameter_manager(node)\n\u001b[1;32m    143\u001b[0m \u001b[39mreturn\u001b[39;00m node\n",
      "File \u001b[0;32m~/Library/Python/3.9/lib/python/site-packages/qiskit/pulse/parameter_manager.py:92\u001b[0m, in \u001b[0;36mNodeVisitor.visit\u001b[0;34m(self, node)\u001b[0m\n\u001b[1;32m     90\u001b[0m \u001b[39m\u001b[39m\u001b[39m\"\"\"Visit a node.\"\"\"\u001b[39;00m\n\u001b[1;32m     91\u001b[0m visitor \u001b[39m=\u001b[39m \u001b[39mself\u001b[39m\u001b[39m.\u001b[39m_get_visitor(\u001b[39mtype\u001b[39m(node))\n\u001b[0;32m---> 92\u001b[0m \u001b[39mreturn\u001b[39;00m visitor(node)\n",
      "File \u001b[0;32m~/Library/Python/3.9/lib/python/site-packages/qiskit/pulse/parameter_manager.py:189\u001b[0m, in \u001b[0;36mParameterSetter.visit_Instruction\u001b[0;34m(self, node)\u001b[0m\n\u001b[1;32m    183\u001b[0m \u001b[39m\u001b[39m\u001b[39m\"\"\"Assign parameters to general pulse instruction.\u001b[39;00m\n\u001b[1;32m    184\u001b[0m \n\u001b[1;32m    185\u001b[0m \u001b[39m.. note:: All parametrized object should be stored in the operands.\u001b[39;00m\n\u001b[1;32m    186\u001b[0m \u001b[39m    Otherwise parameter cannot be detected.\u001b[39;00m\n\u001b[1;32m    187\u001b[0m \u001b[39m\"\"\"\u001b[39;00m\n\u001b[1;32m    188\u001b[0m \u001b[39mif\u001b[39;00m node\u001b[39m.\u001b[39mis_parameterized():\n\u001b[0;32m--> 189\u001b[0m     node\u001b[39m.\u001b[39m_operands \u001b[39m=\u001b[39m \u001b[39mtuple\u001b[39;49m(\u001b[39mself\u001b[39;49m\u001b[39m.\u001b[39;49mvisit(op) \u001b[39mfor\u001b[39;49;00m op \u001b[39min\u001b[39;49;00m node\u001b[39m.\u001b[39;49moperands)\n\u001b[1;32m    191\u001b[0m \u001b[39mreturn\u001b[39;00m node\n",
      "File \u001b[0;32m~/Library/Python/3.9/lib/python/site-packages/qiskit/pulse/parameter_manager.py:189\u001b[0m, in \u001b[0;36m<genexpr>\u001b[0;34m(.0)\u001b[0m\n\u001b[1;32m    183\u001b[0m \u001b[39m\u001b[39m\u001b[39m\"\"\"Assign parameters to general pulse instruction.\u001b[39;00m\n\u001b[1;32m    184\u001b[0m \n\u001b[1;32m    185\u001b[0m \u001b[39m.. note:: All parametrized object should be stored in the operands.\u001b[39;00m\n\u001b[1;32m    186\u001b[0m \u001b[39m    Otherwise parameter cannot be detected.\u001b[39;00m\n\u001b[1;32m    187\u001b[0m \u001b[39m\"\"\"\u001b[39;00m\n\u001b[1;32m    188\u001b[0m \u001b[39mif\u001b[39;00m node\u001b[39m.\u001b[39mis_parameterized():\n\u001b[0;32m--> 189\u001b[0m     node\u001b[39m.\u001b[39m_operands \u001b[39m=\u001b[39m \u001b[39mtuple\u001b[39m(\u001b[39mself\u001b[39;49m\u001b[39m.\u001b[39;49mvisit(op) \u001b[39mfor\u001b[39;00m op \u001b[39min\u001b[39;00m node\u001b[39m.\u001b[39moperands)\n\u001b[1;32m    191\u001b[0m \u001b[39mreturn\u001b[39;00m node\n",
      "File \u001b[0;32m~/Library/Python/3.9/lib/python/site-packages/qiskit/pulse/parameter_manager.py:92\u001b[0m, in \u001b[0;36mNodeVisitor.visit\u001b[0;34m(self, node)\u001b[0m\n\u001b[1;32m     90\u001b[0m \u001b[39m\u001b[39m\u001b[39m\"\"\"Visit a node.\"\"\"\u001b[39;00m\n\u001b[1;32m     91\u001b[0m visitor \u001b[39m=\u001b[39m \u001b[39mself\u001b[39m\u001b[39m.\u001b[39m_get_visitor(\u001b[39mtype\u001b[39m(node))\n\u001b[0;32m---> 92\u001b[0m \u001b[39mreturn\u001b[39;00m visitor(node)\n",
      "File \u001b[0;32m~/Library/Python/3.9/lib/python/site-packages/qiskit/pulse/parameter_manager.py:249\u001b[0m, in \u001b[0;36mParameterSetter.generic_visit\u001b[0;34m(self, node)\u001b[0m\n\u001b[1;32m    247\u001b[0m \u001b[39m\u001b[39m\u001b[39m\"\"\"Assign parameters to object that doesn't belong to Qiskit Pulse module.\"\"\"\u001b[39;00m\n\u001b[1;32m    248\u001b[0m \u001b[39mif\u001b[39;00m \u001b[39misinstance\u001b[39m(node, ParameterExpression):\n\u001b[0;32m--> 249\u001b[0m     \u001b[39mreturn\u001b[39;00m \u001b[39mself\u001b[39;49m\u001b[39m.\u001b[39;49m_assign_parameter_expression(node)\n\u001b[1;32m    250\u001b[0m \u001b[39melse\u001b[39;00m:\n\u001b[1;32m    251\u001b[0m     \u001b[39mreturn\u001b[39;00m node\n",
      "File \u001b[0;32m~/Library/Python/3.9/lib/python/site-packages/qiskit/pulse/parameter_manager.py:258\u001b[0m, in \u001b[0;36mParameterSetter._assign_parameter_expression\u001b[0;34m(self, param_expr)\u001b[0m\n\u001b[1;32m    256\u001b[0m updated \u001b[39m=\u001b[39m param_expr\u001b[39m.\u001b[39mparameters \u001b[39m&\u001b[39m \u001b[39mself\u001b[39m\u001b[39m.\u001b[39m_param_map\u001b[39m.\u001b[39mkeys()\n\u001b[1;32m    257\u001b[0m \u001b[39mfor\u001b[39;00m param \u001b[39min\u001b[39;00m updated:\n\u001b[0;32m--> 258\u001b[0m     new_value \u001b[39m=\u001b[39m new_value\u001b[39m.\u001b[39;49massign(param, \u001b[39mself\u001b[39;49m\u001b[39m.\u001b[39;49m_param_map[param])\n\u001b[1;32m    259\u001b[0m new_value \u001b[39m=\u001b[39m format_parameter_value(new_value)\n\u001b[1;32m    260\u001b[0m \u001b[39mreturn\u001b[39;00m new_value\n",
      "File \u001b[0;32m~/Library/Python/3.9/lib/python/site-packages/qiskit/circuit/parameterexpression.py:93\u001b[0m, in \u001b[0;36mParameterExpression.assign\u001b[0;34m(self, parameter, value)\u001b[0m\n\u001b[1;32m     91\u001b[0m \u001b[39mif\u001b[39;00m \u001b[39misinstance\u001b[39m(value, ParameterExpression):\n\u001b[1;32m     92\u001b[0m     \u001b[39mreturn\u001b[39;00m \u001b[39mself\u001b[39m\u001b[39m.\u001b[39msubs({parameter: value})\n\u001b[0;32m---> 93\u001b[0m \u001b[39mreturn\u001b[39;00m \u001b[39mself\u001b[39;49m\u001b[39m.\u001b[39;49mbind({parameter: value})\n",
      "File \u001b[0;32m~/Library/Python/3.9/lib/python/site-packages/qiskit/circuit/parameterexpression.py:120\u001b[0m, in \u001b[0;36mParameterExpression.bind\u001b[0;34m(self, parameter_values, allow_unknown_parameters)\u001b[0m\n\u001b[1;32m    118\u001b[0m \u001b[39mif\u001b[39;00m \u001b[39mnot\u001b[39;00m allow_unknown_parameters:\n\u001b[1;32m    119\u001b[0m     \u001b[39mself\u001b[39m\u001b[39m.\u001b[39m_raise_if_passed_unknown_parameters(parameter_values\u001b[39m.\u001b[39mkeys())\n\u001b[0;32m--> 120\u001b[0m \u001b[39mself\u001b[39;49m\u001b[39m.\u001b[39;49m_raise_if_passed_nan(parameter_values)\n\u001b[1;32m    122\u001b[0m symbol_values \u001b[39m=\u001b[39m {}\n\u001b[1;32m    123\u001b[0m \u001b[39mfor\u001b[39;00m parameter, value \u001b[39min\u001b[39;00m parameter_values\u001b[39m.\u001b[39mitems():\n",
      "File \u001b[0;32m~/Library/Python/3.9/lib/python/site-packages/qiskit/circuit/parameterexpression.py:222\u001b[0m, in \u001b[0;36mParameterExpression._raise_if_passed_nan\u001b[0;34m(self, parameter_values)\u001b[0m\n\u001b[1;32m    218\u001b[0m nan_parameter_values \u001b[39m=\u001b[39m {\n\u001b[1;32m    219\u001b[0m     p: v \u001b[39mfor\u001b[39;00m p, v \u001b[39min\u001b[39;00m parameter_values\u001b[39m.\u001b[39mitems() \u001b[39mif\u001b[39;00m \u001b[39mnot\u001b[39;00m \u001b[39misinstance\u001b[39m(v, numbers\u001b[39m.\u001b[39mNumber)\n\u001b[1;32m    220\u001b[0m }\n\u001b[1;32m    221\u001b[0m \u001b[39mif\u001b[39;00m nan_parameter_values:\n\u001b[0;32m--> 222\u001b[0m     \u001b[39mraise\u001b[39;00m CircuitError(\n\u001b[1;32m    223\u001b[0m         \u001b[39mf\u001b[39m\u001b[39m\"\u001b[39m\u001b[39mExpression cannot bind non-numeric values (\u001b[39m\u001b[39m{\u001b[39;00mnan_parameter_values\u001b[39m}\u001b[39;00m\u001b[39m)\u001b[39m\u001b[39m\"\u001b[39m\n\u001b[1;32m    224\u001b[0m     )\n",
      "\u001b[0;31mCircuitError\u001b[0m: 'Expression cannot bind non-numeric values ({Parameter(freq): Traced<ShapedArray(float64[], weak_type=True)>with<DynamicJaxprTrace(level=1/0)>})'"
     ]
    }
   ],
   "source": [
    "fast_sched_jit(0.2)"
   ]
  },
  {
   "cell_type": "code",
   "execution_count": null,
   "id": "ebe23a0e",
   "metadata": {},
   "outputs": [],
   "source": []
  },
  {
   "cell_type": "code",
   "execution_count": null,
   "id": "9bd108dd-31e4-4358-b997-fce8bac11513",
   "metadata": {
    "tags": []
   },
   "outputs": [],
   "source": [
    "param = Parameter(\"theta\")\n",
    "with pulse.build(default_alignment=\"sequential\") as sched:\n",
    "    #pulse.call(x_sched)\n",
    "    #pulse.call(h_sched)\n",
    "    pulse.play(pulse.Drag(amp=0.2, duration=120, sigma = 20, beta =0, angle= param), pulse.DriveChannel(0))\n",
    "s = jnp.float64(0.2)\n",
    "sched"
   ]
  },
  {
   "cell_type": "code",
   "execution_count": null,
   "id": "6399f5fa-7213-4b54-b159-ce0d7fda9649",
   "metadata": {
    "tags": []
   },
   "outputs": [],
   "source": [
    "s"
   ]
  },
  {
   "cell_type": "code",
   "execution_count": null,
   "id": "7a6b98a6-1027-41fb-9d56-3a769475b22e",
   "metadata": {
    "tags": []
   },
   "outputs": [],
   "source": [
    "import sympy2jax\n",
    "import sympy\n",
    "import jax.numpy as jnp\n",
    "\n",
    "x_sym = sympy.symbols(\"x_sym\")\n",
    "y_sym = sympy.symbols(\"y_sym\")\n",
    "cosx = 1.0 * sympy.cos(x_sym) + 1.0 * sympy.cos(y_sym)\n",
    "sinx = 2.0 * sympy.sin(x_sym) + 2.0 * sympy.sin(y_sym)\n",
    "mod = sympy2jax.SymbolicModule([cosx, sinx])  # PyTree of input expressions\n",
    "type(cosx)\n",
    "info = {x_sym.name: x, y_sym.name: y}"
   ]
  },
  {
   "cell_type": "code",
   "execution_count": null,
   "id": "145a9ce8-6051-44db-a145-57fbfa09d2a5",
   "metadata": {
    "tags": []
   },
   "outputs": [],
   "source": [
    "x_sym.name"
   ]
  },
  {
   "cell_type": "code",
   "execution_count": null,
   "id": "b638b81f-95a8-4971-9d80-52d395ca2954",
   "metadata": {
    "tags": []
   },
   "outputs": [],
   "source": [
    "x = jnp.zeros(3)\n",
    "y = jnp.ones(3)\n",
    "out = mod(**info)\n",
    "out"
   ]
  },
  {
   "cell_type": "code",
   "execution_count": null,
   "id": "e8f32f59-dc5b-4776-950a-2218325cb7e3",
   "metadata": {
    "tags": []
   },
   "outputs": [],
   "source": [
    "param = Parameter(\"amp\")\n",
    "param2 = Parameter(\"amp2\")\n",
    "param3 = 2*param\n",
    "param3._parameter_symbols\n",
    "type(param3._symbol_expr)\n",
    "param4 = sympy.sympify(param3._symbol_expr)\n",
    "type(param4)"
   ]
  },
  {
   "cell_type": "code",
   "execution_count": null,
   "id": "92006f34-216b-4c01-bdf3-aad3692fa0e2",
   "metadata": {
    "tags": []
   },
   "outputs": [],
   "source": [
    "for key, value in param2._parameter_symbols.items():\n",
    "    print(type(key), type(value))"
   ]
  },
  {
   "cell_type": "code",
   "execution_count": null,
   "id": "a51ee99d-ae06-4785-b0eb-2ab2adf8159f",
   "metadata": {
    "tags": []
   },
   "outputs": [],
   "source": [
    "qc = QuantumCircuit(1)\n",
    "phi = Parameter(\"phi\")\n",
    "qc.rx(2*phi, 0)\n",
    "qc.draw(\"mpl\")"
   ]
  },
  {
   "cell_type": "code",
   "execution_count": null,
   "id": "e2aa55c0-2e0d-4065-a58a-06845eef11c7",
   "metadata": {
    "tags": []
   },
   "outputs": [],
   "source": [
    "qc.bind_parameters([0.5]).draw(\"mpl\")"
   ]
  },
  {
   "cell_type": "code",
   "execution_count": null,
   "id": "1b9a4750-3902-4232-b8f6-50a4b344436d",
   "metadata": {},
   "outputs": [],
   "source": []
  },
  {
   "cell_type": "code",
   "execution_count": null,
   "id": "ef631105-96c8-468b-9346-117deab562fa",
   "metadata": {
    "tags": []
   },
   "outputs": [],
   "source": [
    "x_pulse = backend.target.get_calibration(\"x\", (0,)).instructions[0][1].pulse\n",
    "x_pulse"
   ]
  },
  {
   "cell_type": "code",
   "execution_count": null,
   "id": "6183945c-68f4-424e-9df2-28041aba6781",
   "metadata": {
    "tags": []
   },
   "outputs": [],
   "source": [
    "setattr(x_pulse, 'amp', 0.3)\n",
    "x_pulse"
   ]
  },
  {
   "cell_type": "code",
   "execution_count": null,
   "id": "54b2de04-69c6-4f18-9276-09eb94fe97c5",
   "metadata": {},
   "outputs": [],
   "source": []
  }
 ],
 "metadata": {
  "kernelspec": {
   "display_name": "Python 3 (ipykernel)",
   "language": "python",
   "name": "python3"
  },
  "language_info": {
   "codemirror_mode": {
    "name": "ipython",
    "version": 3
   },
   "file_extension": ".py",
   "mimetype": "text/x-python",
   "name": "python",
   "nbconvert_exporter": "python",
   "pygments_lexer": "ipython3",
   "version": "3.9.6"
  }
 },
 "nbformat": 4,
 "nbformat_minor": 5
}

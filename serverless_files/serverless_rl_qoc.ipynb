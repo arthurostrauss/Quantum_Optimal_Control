{
 "cells": [
  {
   "cell_type": "code",
   "execution_count": 1,
   "id": "initial_id",
   "metadata": {
    "collapsed": true,
    "ExecuteTime": {
     "end_time": "2024-03-18T09:44:07.930445Z",
     "start_time": "2024-03-18T09:41:24.169849Z"
    }
   },
   "outputs": [
    {
     "name": "stdout",
     "output_type": "stream",
     "text": [
      "{}\n"
     ]
    }
   ],
   "source": [
    "from quantum_serverless import QiskitPattern, IBMServerlessProvider\n",
    "\n",
    "# Define a Pattern\n",
    "pattern = QiskitPattern(\n",
    "    title=\"rl_qoc\",\n",
    "    description=\"Reinforcement Learning for Quantum Optimal Control\",\n",
    "    entrypoint=\"pattern.py\",\n",
    "    dependencies=[\n",
    "        \"qiskit>1.0\",\n",
    "        \"numpy>1.0\",\n",
    "        \"scipy>1.0\",\n",
    "        \"gymnasium\",\n",
    "        \"qiskit-experiments == 0.6.0\",\n",
    "        \"qiskit-dynamics == 0.4.5\",\n",
    "        \"qiskit-ibm-runtime\",\n",
    "        \"qiskit-ibm-provider\"\n",
    "        \"torch\",\n",
    "        \"optuna\",\n",
    "        \"pyyaml\",\n",
    "        \"jax\",\n",
    "        \"qiskit-algorithms\",\n",
    "        \"qiskit-aer\",\n",
    "        \"tqdm\",\n",
    "        \"chardet\",\n",
    "    ],\n",
    ")\n",
    "\n",
    "# Create a serverless provider\n",
    "provider = IBMServerlessProvider()\n",
    "\n",
    "provider.upload(pattern)\n",
    "\n",
    "args = {\"use_context\": False, \"abstraction_level\": \"circuit\", \"num_updates\": 300}\n",
    "job = provider.run(pattern, args)\n",
    "\n",
    "print(job.result())"
   ]
  },
  {
   "cell_type": "code",
   "outputs": [],
   "source": [],
   "metadata": {
    "collapsed": false,
    "ExecuteTime": {
     "end_time": "2024-03-18T09:44:07.937846Z",
     "start_time": "2024-03-18T09:44:07.933475Z"
    }
   },
   "id": "4f89b53dd74617db",
   "execution_count": 1
  }
 ],
 "metadata": {
  "kernelspec": {
   "display_name": "Python 3",
   "language": "python",
   "name": "python3"
  },
  "language_info": {
   "codemirror_mode": {
    "name": "ipython",
    "version": 2
   },
   "file_extension": ".py",
   "mimetype": "text/x-python",
   "name": "python",
   "nbconvert_exporter": "python",
   "pygments_lexer": "ipython2",
   "version": "2.7.6"
  }
 },
 "nbformat": 4,
 "nbformat_minor": 5
}

{
 "cells": [
  {
   "cell_type": "code",
   "id": "initial_id",
   "metadata": {
    "collapsed": true,
    "ExecuteTime": {
     "end_time": "2024-04-29T16:03:17.138205Z",
     "start_time": "2024-04-29T16:03:11.427457Z"
    }
   },
   "source": [
    "from quantum_serverless import QiskitPattern, IBMServerlessProvider\n",
    "\n",
    "# Define a Pattern\n",
    "pattern = QiskitPattern(\n",
    "    title=\"rl_qoc\",\n",
    "    description=\"Reinforcement Learning for Quantum Optimal Control\",\n",
    "    entrypoint=\"pattern.py\",\n",
    "    dependencies=[\n",
    "        \"qiskit>1.0\",\n",
    "        \"numpy>1.0\",\n",
    "        \"scipy>1.0\",\n",
    "        \"gymnasium\",\n",
    "        \"qiskit-experiments == 0.6.0\",\n",
    "        \"qiskit-dynamics == 0.4.5\",\n",
    "        \"qiskit-ibm-runtime\",\n",
    "        \"qiskit-ibm-provider\"\n",
    "        \"torch\",\n",
    "        \"optuna\",\n",
    "        \"pyyaml\",\n",
    "        \"jax\",\n",
    "        \"qiskit-algorithms\",\n",
    "        \"qiskit-aer\",\n",
    "        \"tqdm\",\n",
    "        \"chardet\",\n",
    "    ],\n",
    ")\n",
    "\n",
    "# Create a serverless provider\n",
    "provider = IBMServerlessProvider()\n",
    "\n",
    "provider.upload(pattern)\n",
    "\n",
    "args = {\"use_context\": False, \"abstraction_level\": \"circuit\", \"num_updates\": 300}\n",
    "job = provider.run(pattern, args)\n",
    "\n",
    "print(job.result())"
   ],
   "outputs": [
    {
     "ename": "QuantumServerlessException",
     "evalue": "\n| Message: Http bad request.\n| Code: 403",
     "output_type": "error",
     "traceback": [
      "\u001B[0;31m---------------------------------------------------------------------------\u001B[0m",
      "\u001B[0;31mQuantumServerlessException\u001B[0m                Traceback (most recent call last)",
      "Cell \u001B[0;32mIn[5], line 31\u001B[0m\n\u001B[1;32m     28\u001B[0m \u001B[38;5;66;03m# Create a serverless provider\u001B[39;00m\n\u001B[1;32m     29\u001B[0m provider \u001B[38;5;241m=\u001B[39m IBMServerlessProvider()\n\u001B[0;32m---> 31\u001B[0m provider\u001B[38;5;241m.\u001B[39mupload(pattern)\n\u001B[1;32m     33\u001B[0m args \u001B[38;5;241m=\u001B[39m {\u001B[38;5;124m\"\u001B[39m\u001B[38;5;124muse_context\u001B[39m\u001B[38;5;124m\"\u001B[39m: \u001B[38;5;28;01mFalse\u001B[39;00m, \u001B[38;5;124m\"\u001B[39m\u001B[38;5;124mabstraction_level\u001B[39m\u001B[38;5;124m\"\u001B[39m: \u001B[38;5;124m\"\u001B[39m\u001B[38;5;124mcircuit\u001B[39m\u001B[38;5;124m\"\u001B[39m, \u001B[38;5;124m\"\u001B[39m\u001B[38;5;124mnum_updates\u001B[39m\u001B[38;5;124m\"\u001B[39m: \u001B[38;5;241m300\u001B[39m}\n\u001B[1;32m     34\u001B[0m job \u001B[38;5;241m=\u001B[39m provider\u001B[38;5;241m.\u001B[39mrun(pattern, args)\n",
      "File \u001B[0;32m~/anaconda3/envs/rl_qoc_v1/lib/python3.11/site-packages/quantum_serverless/core/provider.py:435\u001B[0m, in \u001B[0;36mServerlessProvider.upload\u001B[0;34m(self, program)\u001B[0m\n\u001B[1;32m    433\u001B[0m tracer \u001B[38;5;241m=\u001B[39m trace\u001B[38;5;241m.\u001B[39mget_tracer(\u001B[38;5;124m\"\u001B[39m\u001B[38;5;124mclient.tracer\u001B[39m\u001B[38;5;124m\"\u001B[39m)\n\u001B[1;32m    434\u001B[0m \u001B[38;5;28;01mwith\u001B[39;00m tracer\u001B[38;5;241m.\u001B[39mstart_as_current_span(\u001B[38;5;124m\"\u001B[39m\u001B[38;5;124mProvider.upload\u001B[39m\u001B[38;5;124m\"\u001B[39m):\n\u001B[0;32m--> 435\u001B[0m     response \u001B[38;5;241m=\u001B[39m \u001B[38;5;28mself\u001B[39m\u001B[38;5;241m.\u001B[39m_job_client\u001B[38;5;241m.\u001B[39mupload(program)\n\u001B[1;32m    436\u001B[0m \u001B[38;5;28;01mreturn\u001B[39;00m response\n",
      "File \u001B[0;32m~/anaconda3/envs/rl_qoc_v1/lib/python3.11/site-packages/quantum_serverless/core/job.py:486\u001B[0m, in \u001B[0;36mGatewayJobClient.upload\u001B[0;34m(self, program)\u001B[0m\n\u001B[1;32m    479\u001B[0m     \u001B[38;5;28;01mraise\u001B[39;00m QuantumServerlessException(\n\u001B[1;32m    480\u001B[0m         \u001B[38;5;124mf\u001B[39m\u001B[38;5;124m\"\u001B[39m\u001B[38;5;132;01m{\u001B[39;00martifact_file_path\u001B[38;5;132;01m}\u001B[39;00m\u001B[38;5;124m is \u001B[39m\u001B[38;5;132;01m{\u001B[39;00m\u001B[38;5;28mint\u001B[39m(size_in_mb)\u001B[38;5;132;01m}\u001B[39;00m\u001B[38;5;124m Mb, \u001B[39m\u001B[38;5;124m\"\u001B[39m\n\u001B[1;32m    481\u001B[0m         \u001B[38;5;124mf\u001B[39m\u001B[38;5;124m\"\u001B[39m\u001B[38;5;124mwhich is greater than \u001B[39m\u001B[38;5;132;01m{\u001B[39;00mMAX_ARTIFACT_FILE_SIZE_MB\u001B[38;5;132;01m}\u001B[39;00m\u001B[38;5;124m allowed. \u001B[39m\u001B[38;5;124m\"\u001B[39m\n\u001B[1;32m    482\u001B[0m         \u001B[38;5;124mf\u001B[39m\u001B[38;5;124m\"\u001B[39m\u001B[38;5;124mTry to reduce size of `working_dir`.\u001B[39m\u001B[38;5;124m\"\u001B[39m\n\u001B[1;32m    483\u001B[0m     )\n\u001B[1;32m    485\u001B[0m \u001B[38;5;28;01mwith\u001B[39;00m \u001B[38;5;28mopen\u001B[39m(artifact_file_path, \u001B[38;5;124m\"\u001B[39m\u001B[38;5;124mrb\u001B[39m\u001B[38;5;124m\"\u001B[39m) \u001B[38;5;28;01mas\u001B[39;00m file:\n\u001B[0;32m--> 486\u001B[0m     response_data \u001B[38;5;241m=\u001B[39m safe_json_request(\n\u001B[1;32m    487\u001B[0m         request\u001B[38;5;241m=\u001B[39m\u001B[38;5;28;01mlambda\u001B[39;00m: requests\u001B[38;5;241m.\u001B[39mpost(\n\u001B[1;32m    488\u001B[0m             url\u001B[38;5;241m=\u001B[39murl,\n\u001B[1;32m    489\u001B[0m             data\u001B[38;5;241m=\u001B[39m{\n\u001B[1;32m    490\u001B[0m                 \u001B[38;5;124m\"\u001B[39m\u001B[38;5;124mtitle\u001B[39m\u001B[38;5;124m\"\u001B[39m: program\u001B[38;5;241m.\u001B[39mtitle,\n\u001B[1;32m    491\u001B[0m                 \u001B[38;5;124m\"\u001B[39m\u001B[38;5;124mentrypoint\u001B[39m\u001B[38;5;124m\"\u001B[39m: program\u001B[38;5;241m.\u001B[39mentrypoint,\n\u001B[1;32m    492\u001B[0m                 \u001B[38;5;124m\"\u001B[39m\u001B[38;5;124marguments\u001B[39m\u001B[38;5;124m\"\u001B[39m: json\u001B[38;5;241m.\u001B[39mdumps({}),\n\u001B[1;32m    493\u001B[0m                 \u001B[38;5;124m\"\u001B[39m\u001B[38;5;124mdependencies\u001B[39m\u001B[38;5;124m\"\u001B[39m: json\u001B[38;5;241m.\u001B[39mdumps(program\u001B[38;5;241m.\u001B[39mdependencies \u001B[38;5;129;01mor\u001B[39;00m []),\n\u001B[1;32m    494\u001B[0m                 \u001B[38;5;124m\"\u001B[39m\u001B[38;5;124menv_vars\u001B[39m\u001B[38;5;124m\"\u001B[39m: json\u001B[38;5;241m.\u001B[39mdumps(program\u001B[38;5;241m.\u001B[39menv_vars \u001B[38;5;129;01mor\u001B[39;00m {}),\n\u001B[1;32m    495\u001B[0m             },\n\u001B[1;32m    496\u001B[0m             files\u001B[38;5;241m=\u001B[39m{\u001B[38;5;124m\"\u001B[39m\u001B[38;5;124martifact\u001B[39m\u001B[38;5;124m\"\u001B[39m: file},\n\u001B[1;32m    497\u001B[0m             headers\u001B[38;5;241m=\u001B[39m{\u001B[38;5;124m\"\u001B[39m\u001B[38;5;124mAuthorization\u001B[39m\u001B[38;5;124m\"\u001B[39m: \u001B[38;5;124mf\u001B[39m\u001B[38;5;124m\"\u001B[39m\u001B[38;5;124mBearer \u001B[39m\u001B[38;5;132;01m{\u001B[39;00m\u001B[38;5;28mself\u001B[39m\u001B[38;5;241m.\u001B[39m_token\u001B[38;5;132;01m}\u001B[39;00m\u001B[38;5;124m\"\u001B[39m},\n\u001B[1;32m    498\u001B[0m             timeout\u001B[38;5;241m=\u001B[39mREQUESTS_TIMEOUT,\n\u001B[1;32m    499\u001B[0m         )\n\u001B[1;32m    500\u001B[0m     )\n\u001B[1;32m    501\u001B[0m     program_title \u001B[38;5;241m=\u001B[39m response_data\u001B[38;5;241m.\u001B[39mget(\u001B[38;5;124m\"\u001B[39m\u001B[38;5;124mtitle\u001B[39m\u001B[38;5;124m\"\u001B[39m, \u001B[38;5;124m\"\u001B[39m\u001B[38;5;124mna\u001B[39m\u001B[38;5;124m\"\u001B[39m)\n\u001B[1;32m    502\u001B[0m     span\u001B[38;5;241m.\u001B[39mset_attribute(\u001B[38;5;124m\"\u001B[39m\u001B[38;5;124mprogram.title\u001B[39m\u001B[38;5;124m\"\u001B[39m, program_title)\n",
      "File \u001B[0;32m~/anaconda3/envs/rl_qoc_v1/lib/python3.11/site-packages/quantum_serverless/utils/json.py:104\u001B[0m, in \u001B[0;36msafe_json_request\u001B[0;34m(request, verbose)\u001B[0m\n\u001B[1;32m    101\u001B[0m     \u001B[38;5;28;01mraise\u001B[39;00m QuantumServerlessException(error_message)\n\u001B[1;32m    103\u001B[0m \u001B[38;5;28;01mif\u001B[39;00m response \u001B[38;5;129;01mis\u001B[39;00m \u001B[38;5;129;01mnot\u001B[39;00m \u001B[38;5;28;01mNone\u001B[39;00m \u001B[38;5;129;01mand\u001B[39;00m \u001B[38;5;129;01mnot\u001B[39;00m response\u001B[38;5;241m.\u001B[39mok:\n\u001B[0;32m--> 104\u001B[0m     \u001B[38;5;28;01mraise\u001B[39;00m QuantumServerlessException(\n\u001B[1;32m    105\u001B[0m         format_err_msg(\n\u001B[1;32m    106\u001B[0m             response\u001B[38;5;241m.\u001B[39mstatus_code,\n\u001B[1;32m    107\u001B[0m             \u001B[38;5;28mstr\u001B[39m(response\u001B[38;5;241m.\u001B[39mtext) \u001B[38;5;28;01mif\u001B[39;00m verbose \u001B[38;5;28;01melse\u001B[39;00m \u001B[38;5;28;01mNone\u001B[39;00m,\n\u001B[1;32m    108\u001B[0m         )\n\u001B[1;32m    109\u001B[0m     )\n\u001B[1;32m    111\u001B[0m decoding_error_message: Optional[\u001B[38;5;28mstr\u001B[39m] \u001B[38;5;241m=\u001B[39m \u001B[38;5;28;01mNone\u001B[39;00m\n\u001B[1;32m    112\u001B[0m \u001B[38;5;28;01mtry\u001B[39;00m:\n",
      "\u001B[0;31mQuantumServerlessException\u001B[0m: \n| Message: Http bad request.\n| Code: 403"
     ]
    }
   ],
   "execution_count": 5
  },
  {
   "metadata": {},
   "cell_type": "code",
   "outputs": [],
   "execution_count": null,
   "source": "",
   "id": "dfee7e72f62fd01"
  }
 ],
 "metadata": {
  "kernelspec": {
   "display_name": "Python 3",
   "language": "python",
   "name": "python3"
  },
  "language_info": {
   "codemirror_mode": {
    "name": "ipython",
    "version": 2
   },
   "file_extension": ".py",
   "mimetype": "text/x-python",
   "name": "python",
   "nbconvert_exporter": "python",
   "pygments_lexer": "ipython2",
   "version": "2.7.6"
  }
 },
 "nbformat": 4,
 "nbformat_minor": 5
}

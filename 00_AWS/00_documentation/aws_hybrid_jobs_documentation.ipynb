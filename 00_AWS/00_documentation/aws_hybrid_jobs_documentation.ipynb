{
 "cells": [
  {
   "attachments": {},
   "cell_type": "markdown",
   "metadata": {},
   "source": [
    "# AWS Braket Hybrid Jobs\n",
    "(Source: https://docs.aws.amazon.com/braket/latest/developerguide/braket-jobs.html)"
   ]
  },
  {
   "attachments": {},
   "cell_type": "markdown",
   "metadata": {},
   "source": [
    "- Hybrid Jobs combine classical and quantum compute resources for running algorithms.\n",
    "\n",
    "- These hybrid quantum-classical algorithms optimize the performance of available quantum devices.\n",
    "\n",
    "- They aim to maximize benefits and minimize drawbacks of both computational systems.\n",
    "- Typically used for finding the ground state or global minimum of a system.\n",
    "- Hybrid Jobs can be submitted to any quantum processing unit (QPU) or quantum simulator.\n",
    "- Submission involves defining the algorithm via a Python script and configuring input data or hyperparameters.\n",
    "- The script, input data, and hyperparameters collectively define the job's environment.\n",
    "- This environment is encapsulated within a container, which is accessed by the Hybrid Job after submission."
   ]
  },
  {
   "attachments": {},
   "cell_type": "markdown",
   "metadata": {},
   "source": [
    "### Performance\n",
    "- Amazon Braket Hybrid Jobs offer better performance compared to running hybrid algorithms in your own environment.\n",
    "\n",
    "- Jobs have priority access to the chosen quantum processing unit (QPU), resulting in shorter and more predictable runtimes.\n",
    "\n",
    "- Supports parametric compilation, allowing circuit compilation with free parameters for faster subsequent parameter updates.\n",
    "\n",
    "\n",
    "### Convenience\n",
    "- Simplifies setup and management of your compute environment.\n",
    "\n",
    "- You provide the algorithm script and select the quantum device, and Amazon Braket handles the rest.\n",
    "\n",
    "- It waits for the target device, provisions classical resources, runs the workload in pre-built containers, stores results in Amazon S3, and releases compute resources.\n",
    "\n",
    "### Metrics\n",
    "- Provides real-time insights into running algorithms.\n",
    "\n",
    "- Delivers customizable algorithm metrics to Amazon CloudWatch and the Amazon Braket console.\n",
    "\n",
    "- Enables tracking of algorithm progress in near real-time."
   ]
  }
 ],
 "metadata": {
  "kernelspec": {
   "display_name": "aws_braket",
   "language": "python",
   "name": "python3"
  },
  "language_info": {
   "codemirror_mode": {
    "name": "ipython",
    "version": 3
   },
   "file_extension": ".py",
   "mimetype": "text/x-python",
   "name": "python",
   "nbconvert_exporter": "python",
   "pygments_lexer": "ipython3",
   "version": "3.10.13"
  },
  "orig_nbformat": 4
 },
 "nbformat": 4,
 "nbformat_minor": 2
}

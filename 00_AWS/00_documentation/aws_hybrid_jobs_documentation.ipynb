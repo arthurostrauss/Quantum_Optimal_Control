{
 "cells": [
  {
   "attachments": {},
   "cell_type": "markdown",
   "metadata": {},
   "source": [
    "# Pulse Control on AWS Braket\n",
    "(Source: https://docs.aws.amazon.com/braket/latest/developerguide/braket-pulse.html)"
   ]
  },
  {
   "attachments": {},
   "cell_type": "markdown",
   "metadata": {},
   "source": [
    "### Pulses in Quantum Computing\n",
    "- Pulses control qubits in a quantum computer.\n",
    "\n",
    "### Accessing Pulse Control in Amazon Braket\n",
    "- Amazon Braket provides pulse control features for circuit submission.\n",
    "- Accessible through Braket SDK, OpenQASM 3.0, or Braket APIs.\n",
    "\n",
    "\n",
    "### Key Concepts for Pulse Control\n",
    "#### Frames\n",
    "- Frames act as a clock and phase in quantum programs.\n",
    "- Frames define carrier frequency, phase offset, and waveform emission timing.\n",
    "- Construction of frames depends on device, frequency, and phase."
   ]
  },
  {
   "attachments": {},
   "cell_type": "markdown",
   "metadata": {},
   "source": [
    "#### Ports\n",
    "- Ports are software abstractions representing input/output hardware components.\n",
    "- They enable interaction with qubits.\n",
    "- Characterized by a connector name and waveform precision."
   ]
  },
  {
   "attachments": {},
   "cell_type": "markdown",
   "metadata": {},
   "source": [
    "#### Waveforms\n",
    "- Waveforms are time-dependent envelopes for signal emission and capture.\n",
    "- Can be specified through complex number lists or waveform templates.\n",
    "- Braket Pulse offers standard waveforms: constant, Gaussian, DRAG, etc.\n",
    "- Waveform data can be retrieved for visualization using the sample function."
   ]
  },
  {
   "attachments": {},
   "cell_type": "markdown",
   "metadata": {},
   "source": [
    "### OpenPulse in Quantum Programming\n",
    "- OpenPulse is a language for specifying pulse-level control of a general quantum device.\n",
    "- Part of the OpenQASM 3.0 specification.\n",
    "\n",
    "### Amazon Braket and OpenPulse\n",
    "- Amazon Braket supports OpenPulse for directly programming pulses.\n",
    "- Uses OpenPulse as the underlying intermediate representation for expressing pulses.\n",
    "- Supports addition of instruction calibrations using \"defcal\" (define calibration) declarations.\n",
    "- Declarations specify an implementation of a gate instruction within a lower-level control grammar."
   ]
  }
 ],
 "metadata": {
  "kernelspec": {
   "display_name": "aws_braket",
   "language": "python",
   "name": "python3"
  },
  "language_info": {
   "codemirror_mode": {
    "name": "ipython",
    "version": 3
   },
   "file_extension": ".py",
   "mimetype": "text/x-python",
   "name": "python",
   "nbconvert_exporter": "python",
   "pygments_lexer": "ipython3",
   "version": "3.10.13"
  },
  "orig_nbformat": 4
 },
 "nbformat": 4,
 "nbformat_minor": 2
}

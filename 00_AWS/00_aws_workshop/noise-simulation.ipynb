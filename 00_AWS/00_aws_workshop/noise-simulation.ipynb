{
 "cells": [
  {
   "attachments": {},
   "cell_type": "markdown",
   "id": "a0f5864b-b3a3-425f-9d49-dac52f30fd06",
   "metadata": {},
   "source": [
    "# Simulating Noise On Amazon Braket\n",
    "\n",
    "In this hands-on lab, we show you how you can simulate the effect of noise on your circuits.\n",
    "\n",
    "This notebook in intended to help you get started. Additional learning material can be found in the [Amazon Braket Examples GitHub repository](https://github.com/aws/amazon-braket-examples/tree/main): \n",
    "* `Braket examples/braket_features/Simulating_Noise_On_Amazon_Braket.ipynb` provides a more detailed overview of noise simulations on Amazon Braket\n",
    "* `Braket examples/braket_features/Noise_models/Noise_models_on_Amazon_Braket.ipynb` introduces noise models on Amazon Braket\n",
    "* `Braket examples/braket_features/Noise_models/Noise_models_on_Rigetti.ipynb` shows you how to construct a noise model from device calibration data for real quantum processing units"
   ]
  },
  {
   "cell_type": "code",
   "execution_count": 1,
   "id": "a3e37ee2",
   "metadata": {
    "tags": []
   },
   "outputs": [],
   "source": [
    "# general imports\n",
    "import string\n",
    "import time\n",
    "import numpy as np\n",
    "import matplotlib.pyplot as plt\n",
    "\n",
    "%matplotlib inline\n",
    "\n",
    "# Braket SDK module imports\n",
    "from braket.circuits import Circuit, Gate, Instruction, Observable\n",
    "from braket.devices import LocalSimulator, Devices\n",
    "from braket.aws import AwsDevice, AwsQuantumTask"
   ]
  },
  {
   "attachments": {},
   "cell_type": "markdown",
   "id": "105d79f5",
   "metadata": {},
   "source": [
    "## Build an Example Circuit\n",
    "\n",
    "First, we build a [GHZ](https://en.wikipedia.org/wiki/Greenberger%E2%80%93Horne%E2%80%93Zeilinger_state) circuit with a parametrized subroutine.\n"
   ]
  },
  {
   "cell_type": "code",
   "execution_count": 2,
   "id": "24419ba4",
   "metadata": {},
   "outputs": [],
   "source": [
    "# function to build a GHZ state\n",
    "def ghz(n_qubits):\n",
    "    \"\"\"\n",
    "    function to return a GHZ circuit ansatz\n",
    "    input: number of qubits\n",
    "    \"\"\"\n",
    "\n",
    "    # instantiate circuit object\n",
    "    circuit = Circuit()\n",
    "\n",
    "    # add Hadamard gate on first qubit\n",
    "    circuit.h(0)\n",
    "\n",
    "    # apply series of CNOT gates\n",
    "    for ii in range(0, n_qubits-1):\n",
    "        circuit.cnot(control=ii, target=ii+1)\n",
    "\n",
    "    return circuit\n",
    "\n",
    "\n",
    "# register the subroutine\n",
    "Circuit.register_subroutine(ghz)"
   ]
  },
  {
   "attachments": {},
   "cell_type": "markdown",
   "id": "38cd237e-3c8c-4cd9-8de8-95aa7ce7ceae",
   "metadata": {},
   "source": [
    "Let's create an instance of a 3-qubit GHZ circuit."
   ]
  },
  {
   "cell_type": "code",
   "execution_count": 3,
   "id": "5f3fc2dd",
   "metadata": {},
   "outputs": [
    {
     "name": "stdout",
     "output_type": "stream",
     "text": [
      "T  : |0|1|2|\n",
      "            \n",
      "q0 : -H-C---\n",
      "        |   \n",
      "q1 : ---X-C-\n",
      "          | \n",
      "q2 : -----X-\n",
      "\n",
      "T  : |0|1|2|\n"
     ]
    }
   ],
   "source": [
    "# create the circuit\n",
    "n_qubits = 3\n",
    "ghz = Circuit().ghz(n_qubits)\n",
    "\n",
    "print(ghz)"
   ]
  },
  {
   "attachments": {},
   "cell_type": "markdown",
   "id": "ea99706f-8d30-4e91-97ac-3d1978c654f2",
   "metadata": {},
   "source": [
    "## Simulate the Circuit without Noise\n",
    "\n",
    "First, we review the results we expect for executing the circuit in a noise-free environment."
   ]
  },
  {
   "cell_type": "code",
   "execution_count": 4,
   "id": "11997ff0",
   "metadata": {},
   "outputs": [],
   "source": [
    "# set up device: Local Simulator\n",
    "device = LocalSimulator()"
   ]
  },
  {
   "cell_type": "code",
   "execution_count": 5,
   "id": "d742dca9",
   "metadata": {},
   "outputs": [
    {
     "name": "stdout",
     "output_type": "stream",
     "text": [
      "Counter({'000': 510, '111': 490})\n"
     ]
    }
   ],
   "source": [
    "# run circuit\n",
    "result = device.run(ghz, shots=1000).result()\n",
    "# get measurement shots\n",
    "counts = result.measurement_counts\n",
    "# print counts\n",
    "print(counts)"
   ]
  },
  {
   "cell_type": "code",
   "execution_count": 6,
   "id": "875d1152",
   "metadata": {},
   "outputs": [
    {
     "data": {
      "image/png": "[encoded data removed]",
      "text/plain": [
       "<Figure size 640x480 with 1 Axes>"
      ]
     },
     "metadata": {},
     "output_type": "display_data"
    }
   ],
   "source": [
    "# plot using Counter\n",
    "plt.bar(counts.keys(), counts.values())\n",
    "plt.xlabel('bitstrings')\n",
    "plt.ylabel('counts')\n",
    "plt.draw()"
   ]
  },
  {
   "attachments": {},
   "cell_type": "markdown",
   "id": "a1e808d4",
   "metadata": {},
   "source": [
    "## Execute the Circuit on a real QPU\n",
    "\n",
    "Now, let's run the same circuit on a real QPU and compare the results with the above simulation."
   ]
  },
  {
   "cell_type": "code",
   "execution_count": 7,
   "id": "89200772-6811-4800-8cb3-4c34ecafb50c",
   "metadata": {
    "tags": []
   },
   "outputs": [],
   "source": [
    "# rigetti = AwsDevice(Devices.Rigetti.AspenM3)"
   ]
  },
  {
   "cell_type": "code",
   "execution_count": 8,
   "id": "5ba48c1c-b17e-4b1b-84f7-2858fb56f982",
   "metadata": {
    "tags": []
   },
   "outputs": [
    {
     "name": "stdout",
     "output_type": "stream",
     "text": [
      "AwsQuantumTask('id/taskArn':'arn:aws:braket:us-west-1:538370729703:quantum-task/05398e05-1400-4cfc-b7e7-513ed06a4345')\n"
     ]
    }
   ],
   "source": [
    "rigetti_task = rigetti.run(ghz, shots=1000)\n",
    "print(rigetti_task)"
   ]
  },
  {
   "cell_type": "code",
   "execution_count": 9,
   "id": "79820a07-49dd-448c-92ec-0417d501988c",
   "metadata": {
    "tags": []
   },
   "outputs": [
    {
     "name": "stdout",
     "output_type": "stream",
     "text": [
      "Status of task: COMPLETED\n"
     ]
    }
   ],
   "source": [
    "# check status\n",
    "print('Status of task:', rigetti_task.state())"
   ]
  },
  {
   "cell_type": "code",
   "execution_count": 10,
   "id": "e92998ac",
   "metadata": {},
   "outputs": [
    {
     "name": "stdout",
     "output_type": "stream",
     "text": [
      "Status of (reconstructed) task: COMPLETED\n",
      "\n",
      "\n",
      "1000 shots taken on machine arn:aws:braket:us-west-1::device/qpu/rigetti/Aspen-M-3.\n",
      "\n",
      "The compiled circuit is:\n",
      " PRAGMA INITIAL_REWIRING \"NAIVE\"\n",
      "RESET\n",
      "DECLARE ro BIT[3]\n",
      "PRAGMA PRESERVE_BLOCK\n",
      "RX(1.5707963267948966) 120\n",
      "RX(1.5707963267948966) 121\n",
      "RZ(1.5707963267948966) 120\n",
      "RZ(1.5707963267948966) 121\n",
      "RX(-1.5707963267948966) 120\n",
      "CZ 121 120\n",
      "RZ(3.141592653589793) 120\n",
      "RX(1.5707963267948966) 120\n",
      "RZ(1.5707963267948966) 120\n",
      "RX(-1.5707963267948966) 120\n",
      "RZ(1.5707963267948966) 120\n",
      "XY(3.141592653589793) 120 127\n",
      "RZ(1.5707963267948966) 120\n",
      "RX(1.5707963267948966) 120\n",
      "RZ(4.71238898038469) 120\n",
      "XY(3.141592653589793) 120 127\n",
      "RZ(3.141592653589793) 127\n",
      "RX(1.5707963267948966) 127\n",
      "PRAGMA END_PRESERVE_BLOCK\n",
      "MEASURE 121 ro[0]\n",
      "MEASURE 120 ro[1]\n",
      "MEASURE 127 ro[2]\n",
      "Measurement counts: Counter({'000': 431, '111': 361, '100': 66, '101': 51, '011': 39, '001': 26, '110': 16, '010': 10})\n"
     ]
    },
    {
     "data": {
      "image/png": "[encoded data removed]",
      "text/plain": [
       "<Figure size 640x480 with 1 Axes>"
      ]
     },
     "metadata": {},
     "output_type": "display_data"
    }
   ],
   "source": [
    "# retrieve task\n",
    "task = rigetti_task\n",
    "#task = AwsQuantumTask(arn='')\n",
    "\n",
    "# print status\n",
    "status = task.state()\n",
    "print('Status of (reconstructed) task:', status)\n",
    "print('\\n')\n",
    "# wait for job to complete\n",
    "# terminal_states = ['COMPLETED', 'FAILED', 'CANCELLED']\n",
    "if status == 'COMPLETED':\n",
    "    # get results\n",
    "    results = task.result()\n",
    "\n",
    "    # get all metadata of submitted task\n",
    "    metadata = task.metadata()\n",
    "    # example for metadata\n",
    "    shots = metadata['shots']\n",
    "    machine = metadata['deviceArn']\n",
    "    # print example metadata\n",
    "    print(\"{} shots taken on machine {}.\\n\".format(shots, machine))\n",
    "\n",
    "    # get the compiled circuit\n",
    "    print(\"The compiled circuit is:\\n\", results.additional_metadata.rigettiMetadata.compiledProgram)\n",
    "\n",
    "    # get measurement counts\n",
    "    counts = results.measurement_counts\n",
    "    print('Measurement counts:', counts)\n",
    "\n",
    "    # plot results: see effects of noise\n",
    "    plt.bar(counts.keys(), counts.values())\n",
    "    plt.xlabel('bitstrings')\n",
    "    plt.ylabel('counts')\n",
    "    plt.tight_layout()\n",
    "    plt.draw()\n",
    "elif status in ['FAILED', 'CANCELLED']:\n",
    "    # print terminal message\n",
    "    print('Your task is in terminal status, but has not completed.')\n",
    "else:\n",
    "    # print current status\n",
    "    print('Sorry, your task is still being processed and has not been finalized yet.')"
   ]
  },
  {
   "attachments": {},
   "cell_type": "markdown",
   "id": "0f1f7de8",
   "metadata": {},
   "source": [
    "## Add Noise to our simulation"
   ]
  },
  {
   "attachments": {},
   "cell_type": "markdown",
   "id": "5995517c",
   "metadata": {},
   "source": [
    "Building on the knowledge you already have, create another GHZ circuit with 3 qubits - but this time, let's add a noise channel to it.\n",
    "\n",
    "For that purpose, we need to import the Noise library from Braket SDK."
   ]
  },
  {
   "cell_type": "code",
   "execution_count": 11,
   "id": "f178cf17",
   "metadata": {},
   "outputs": [],
   "source": [
    "from braket.circuits import Noise"
   ]
  },
  {
   "cell_type": "code",
   "execution_count": 12,
   "id": "3826542c",
   "metadata": {},
   "outputs": [],
   "source": [
    "# define a GHZ circuit using previous function\n",
    "n_qubits = 3\n",
    "ghz_with_noise = Circuit().ghz(n_qubits)"
   ]
  },
  {
   "attachments": {},
   "cell_type": "markdown",
   "id": "e55fa890",
   "metadata": {},
   "source": [
    "To add bit flip noise with a 10% of probabilty to happen in all gate operations in the circuit, we need to call the `Noise` object with the `BitFlip` method and the correct parameter. Then we can apply the noise channel to the circuit by calling the method `apply_gate_noise`:"
   ]
  },
  {
   "cell_type": "code",
   "execution_count": 13,
   "id": "62ad6925",
   "metadata": {},
   "outputs": [
    {
     "name": "stdout",
     "output_type": "stream",
     "text": [
      "T  : |0|1|2|\n",
      "            \n",
      "q0 : -H-C---\n",
      "        |   \n",
      "q1 : ---X-C-\n",
      "          | \n",
      "q2 : -----X-\n",
      "\n",
      "T  : |0|1|2|\n"
     ]
    }
   ],
   "source": [
    "# define a noise channel\n",
    "noise = Noise.BitFlip(probability=0.10)\n",
    "\n",
    "# add noise to every gate in the circuit\n",
    "ghz_with_noise.apply_gate_noise(noise)\n",
    "\n",
    "print(ghz)"
   ]
  },
  {
   "attachments": {},
   "cell_type": "markdown",
   "id": "4a1d3d7c",
   "metadata": {},
   "source": [
    "Now, we need to instantiate a noise simulator. We can choose between the local simulator and the DM1 on-demand simulator."
   ]
  },
  {
   "cell_type": "code",
   "execution_count": 14,
   "id": "f1263d19",
   "metadata": {},
   "outputs": [],
   "source": [
    "# select the Local Simulator and pass the noise parameter \"braket_dm\"\n",
    "device = LocalSimulator(\"braket_dm\")\n",
    "\n",
    "# select the on-demand density matrix simulator DM1\n",
    "#device = AwsDevice(\"arn:aws:braket:::device/quantum-simulator/amazon/dm1\")"
   ]
  },
  {
   "attachments": {},
   "cell_type": "markdown",
   "id": "56298058",
   "metadata": {},
   "source": [
    "Now we just need to execute the circuit like any other (noise-free) circuit, and plot your results:"
   ]
  },
  {
   "cell_type": "code",
   "execution_count": 15,
   "id": "9a2a463c",
   "metadata": {},
   "outputs": [
    {
     "name": "stdout",
     "output_type": "stream",
     "text": [
      "measurement results: Counter({'111': 352, '000': 321, '100': 81, '011': 74, '010': 53, '110': 42, '101': 42, '001': 35})\n"
     ]
    }
   ],
   "source": [
    "# run the circuit\n",
    "task = device.run(ghz_with_noise, shots=1000)\n",
    "\n",
    "# visualize the results\n",
    "result = task.result()\n",
    "measurement = result.measurement_counts\n",
    "print('measurement results:', measurement)"
   ]
  },
  {
   "cell_type": "code",
   "execution_count": 16,
   "id": "de986f0d",
   "metadata": {},
   "outputs": [
    {
     "data": {
      "image/png": "[encoded data removed]",
      "text/plain": [
       "<Figure size 640x480 with 1 Axes>"
      ]
     },
     "metadata": {},
     "output_type": "display_data"
    }
   ],
   "source": [
    "plt.bar(measurement.keys(), measurement.values())\n",
    "plt.xlabel('bitstrings')\n",
    "plt.ylabel('counts')\n",
    "plt.tight_layout()\n",
    "plt.draw()"
   ]
  },
  {
   "attachments": {},
   "cell_type": "markdown",
   "id": "49cec5e8",
   "metadata": {},
   "source": [
    "<div class=\"alert alert-block alert-info\">\n",
    "    How do the results from the QPU and DM1 compare? Did you get similar results? If not, why do you think that could be? </br>\n",
    "    <b>Taking it further: </b> Explore more noise channels. Change the previous circuit to add a depolarizing noise channel at 0.05 probability. <a href=\"https://docs.aws.amazon.com/braket/latest/developerguide/braket-constructing-circuit.html#noise-simulation\"> More examples here. </a> \n",
    "</div>"
   ]
  },
  {
   "attachments": {},
   "cell_type": "markdown",
   "id": "f3c71f58-a765-4ba9-ba1a-b77d8d8aa212",
   "metadata": {},
   "source": [
    "## Other Ways to Add Noise Channels to your Circuits\n",
    "\n",
    "Instead of adding a noise channel globally to all logic operations in your circuit, the SDK provides options to model noise more fine-grained.\n",
    "\n",
    "Let's start again creating a 5-qubit GHZ circuit instance."
   ]
  },
  {
   "cell_type": "code",
   "execution_count": 17,
   "id": "cd86ea79",
   "metadata": {},
   "outputs": [
    {
     "name": "stdout",
     "output_type": "stream",
     "text": [
      "T  : |0|1|2|3|4|\n",
      "                \n",
      "q0 : -H-C-------\n",
      "        |       \n",
      "q1 : ---X-C-----\n",
      "          |     \n",
      "q2 : -----X-C---\n",
      "            |   \n",
      "q3 : -------X-C-\n",
      "              | \n",
      "q4 : ---------X-\n",
      "\n",
      "T  : |0|1|2|3|4|\n"
     ]
    }
   ],
   "source": [
    "my_circuit = Circuit().ghz(5)\n",
    "print(my_circuit)"
   ]
  },
  {
   "attachments": {},
   "cell_type": "markdown",
   "id": "957ef8e9-ef1a-496d-ac0e-60102787dfbf",
   "metadata": {},
   "source": [
    "Now, let's add the bit flip noise channel only to the CNOT gates in our circuit:"
   ]
  },
  {
   "cell_type": "code",
   "execution_count": 18,
   "id": "82b50bbf-8f97-471c-a9a0-dcaa7c4950fc",
   "metadata": {
    "tags": []
   },
   "outputs": [
    {
     "name": "stdout",
     "output_type": "stream",
     "text": [
      "T  : |0|    1    |    2    |    3    |    4    |\n",
      "                                                \n",
      "q0 : -H-C-BF(0.1)-------------------------------\n",
      "        |                                       \n",
      "q1 : ---X-BF(0.1)-C-BF(0.1)---------------------\n",
      "                  |                             \n",
      "q2 : -------------X-BF(0.1)-C-BF(0.1)-----------\n",
      "                            |                   \n",
      "q3 : -----------------------X-BF(0.1)-C-BF(0.1)-\n",
      "                                      |         \n",
      "q4 : ---------------------------------X-BF(0.1)-\n",
      "\n",
      "T  : |0|    1    |    2    |    3    |    4    |\n"
     ]
    }
   ],
   "source": [
    "my_circuit.apply_gate_noise(Noise.BitFlip(probability=0.1), target_gates=[Gate.CNot])\n",
    "print(my_circuit)"
   ]
  },
  {
   "attachments": {},
   "cell_type": "markdown",
   "id": "6e8531e9-abaf-4bcc-9d7c-6ad7ae3e92ea",
   "metadata": {},
   "source": [
    "In addition, let's assume we want to had a depolarizing noise channel to the gates acting on the qubits `q0` and `q2`:"
   ]
  },
  {
   "cell_type": "code",
   "execution_count": null,
   "id": "9c50c153-3aa4-4c98-88bd-3a49bf39668a",
   "metadata": {
    "tags": []
   },
   "outputs": [],
   "source": [
    "my_circuit.apply_gate_noise(Noise.Depolarizing(probability=0.1), target_qubits=[0, 2])\n",
    "print(my_circuit)"
   ]
  },
  {
   "attachments": {},
   "cell_type": "markdown",
   "id": "6bb547e1-2cd6-48d1-b1d3-b45c90cb0b3a",
   "metadata": {},
   "source": [
    "Also, we can simulate noise becoming effective during qubit initialization and readout:"
   ]
  },
  {
   "cell_type": "code",
   "execution_count": 19,
   "id": "964d6201-8d63-4e1a-bde9-cc43e2486914",
   "metadata": {
    "tags": []
   },
   "outputs": [
    {
     "name": "stdout",
     "output_type": "stream",
     "text": [
      "T  : |       0       |    1    |    2    |    3    |           4           |\n",
      "                                                                            \n",
      "q0 : -GAD(0.1,0.05)-H-C-BF(0.1)---------------------PF(0.1)-----------------\n",
      "                      |                                                     \n",
      "q1 : -GAD(0.1,0.05)---X-BF(0.1)-C-BF(0.1)-----------PF(0.1)-----------------\n",
      "                                |                                           \n",
      "q2 : -GAD(0.1,0.05)-------------X-BF(0.1)-C-BF(0.1)-PF(0.1)-----------------\n",
      "                                          |                                 \n",
      "q3 : -GAD(0.1,0.05)-----------------------X-BF(0.1)-C-------BF(0.1)-PF(0.1)-\n",
      "                                                    |                       \n",
      "q4 : -GAD(0.1,0.05)---------------------------------X-------BF(0.1)-PF(0.1)-\n",
      "\n",
      "T  : |       0       |    1    |    2    |    3    |           4           |\n"
     ]
    }
   ],
   "source": [
    "my_circuit.apply_initialization_noise(Noise.GeneralizedAmplitudeDamping(probability=0.05, gamma=0.1))\n",
    "\n",
    "my_circuit.apply_readout_noise(Noise.PhaseFlip(probability=0.1))\n",
    "\n",
    "print(my_circuit)"
   ]
  },
  {
   "attachments": {},
   "cell_type": "markdown",
   "id": "84e0d1a0-7e31-45bf-9ec6-cc630cae6cf7",
   "metadata": {},
   "source": [
    "And finally, we can a noise channels bottom-up like a logic gate acting on a specific qubit at a specific position in the sequence of gates:"
   ]
  },
  {
   "cell_type": "code",
   "execution_count": null,
   "id": "de71d75a-ce8f-45a5-8331-29077f13a80d",
   "metadata": {},
   "outputs": [],
   "source": [
    "my_circuit.pauli_channel(2, probX=0.1, probY=0.2, probZ=0.3)\n",
    "print(my_circuit)"
   ]
  },
  {
   "attachments": {},
   "cell_type": "markdown",
   "id": "8c22d96b-1433-40d6-be52-cb8a2b3ff14c",
   "metadata": {},
   "source": [
    "Now, let's simulate this circuit:"
   ]
  },
  {
   "cell_type": "code",
   "execution_count": null,
   "id": "865f82a2-bc59-4f5a-983d-c91094316094",
   "metadata": {
    "tags": []
   },
   "outputs": [],
   "source": [
    "task = device.run(my_circuit, shots=1000)\n",
    "\n",
    "# visualize the results\n",
    "result = task.result()\n",
    "measurement = result.measurement_counts\n",
    "print(measurement)\n",
    "\n",
    "plt.bar(measurement.keys(), measurement.values())\n",
    "plt.xlabel('bitstrings')\n",
    "plt.ylabel('counts')\n",
    "plt.xticks(rotation='vertical')\n",
    "plt.tight_layout()\n",
    "plt.draw()"
   ]
  }
 ],
 "metadata": {
  "kernelspec": {
   "display_name": "conda_braket",
   "language": "python",
   "name": "conda_braket"
  },
  "language_info": {
   "codemirror_mode": {
    "name": "ipython",
    "version": 3
   },
   "file_extension": ".py",
   "mimetype": "text/x-python",
   "name": "python",
   "nbconvert_exporter": "python",
   "pygments_lexer": "ipython3",
   "version": "3.10.12"
  }
 },
 "nbformat": 4,
 "nbformat_minor": 5
}

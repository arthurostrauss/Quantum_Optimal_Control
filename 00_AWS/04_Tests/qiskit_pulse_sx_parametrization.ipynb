{
 "cells": [
  {
   "cell_type": "code",
   "execution_count": 1,
   "metadata": {},
   "outputs": [
    {
     "name": "stderr",
     "output_type": "stream",
     "text": [
      "/Users/lukasvoss/Library/Python/3.9/lib/python/site-packages/qiskit_dynamics/dispatch/backends/jax.py:34: UserWarning: The functionality in the perturbation module of Qiskit Dynamics requires a JAX version <= 0.4.6, due to a bug in JAX versions > 0.4.6. For versions 0.4.4, 0.4.5, and 0.4.6, using the perturbation module functionality requires setting os.environ['JAX_JIT_PJIT_API_MERGE'] = '0' before importing JAX or Dynamics.\n",
      "  warnings.warn(\n"
     ]
    }
   ],
   "source": [
    "import os\n",
    "import sys\n",
    "import numpy as np\n",
    "import tqdm\n",
    "from typing import Optional, Union, List\n",
    "\n",
    "module_path = os.path.abspath(os.path.join('/Users/lukasvoss/Documents/Master Wirtschaftsphysik/Masterarbeit Yale-NUS CQT/Quantum_Optimal_Control'))\n",
    "if module_path not in sys.path:\n",
    "    sys.path.append(module_path)\n",
    "\n",
    "from basis_gate_library import FixedFrequencyTransmon\n",
    "from helper_functions import remove_unused_wires, get_control_channel_map, get_solver_and_freq_from_backend\n",
    "from quantumenvironment import QuantumEnvironment\n",
    "\n",
    "import jax\n",
    "jax.config.update(\"jax_enable_x64\", True)\n",
    "# tell JAX we are using CPU\n",
    "jax.config.update(\"jax_platform_name\", \"cpu\")\n",
    "# import Array and set default backend\n",
    "from qiskit_dynamics.array import Array\n",
    "Array.set_default_backend('jax')"
   ]
  },
  {
   "cell_type": "code",
   "execution_count": 2,
   "metadata": {},
   "outputs": [],
   "source": [
    "from qiskit import pulse, transpile, schedule\n",
    "from qiskit_dynamics.backend.dynamics_backend import _get_backend_channel_freqs, DynamicsBackend\n",
    "from qiskit_dynamics import Solver\n",
    "from qiskit.circuit import QuantumCircuit, QuantumRegister, ParameterVector, Gate\n",
    "from qiskit.circuit.library.standard_gates import ECRGate, SXGate, XGate\n",
    "from qiskit.providers import Backend, BackendV1, BackendV2\n",
    "from qiskit.transpiler import CouplingMap\n",
    "from qiskit_experiments.calibration_management import Calibrations\n",
    "from qiskit.pulse.library import Gaussian\n",
    "from qiskit.providers.fake_provider import FakeValencia, FakeJakarta, FakeJakartaV2, FakeHanoi, FakeCairo, FakeCambridge\n",
    "from qiskit.visualization import plot_coupling_map, plot_circuit_layout, gate_map, plot_gate_map\n",
    "from qiskit.visualization.pulse_v2 import IQXStandard\n",
    "from qiskit_ibm_runtime.options import Options, ExecutionOptions, EnvironmentOptions\n",
    "from qconfig import QiskitConfig\n",
    "\n",
    "# Circuit context and Reinforcement Learning libraries\n",
    "import gymnasium as gym\n",
    "from gymnasium.spaces import Box, Space\n",
    "\n",
    "from torch.distributions import Normal\n",
    "\n",
    "module_path = os.path.abspath(os.path.join('/Users/lukasvoss/Documents/Master Wirtschaftsphysik/Masterarbeit Yale-NUS CQT/Quantum_Optimal_Control/torch_contextual_gate_calibration'))\n",
    "if module_path not in sys.path:\n",
    "    sys.path.append(module_path)\n",
    "from torch_quantum_environment import TorchQuantumEnvironment"
   ]
  },
  {
   "cell_type": "code",
   "execution_count": 3,
   "metadata": {},
   "outputs": [
    {
     "name": "stdout",
     "output_type": "stream",
     "text": [
      "Backend basis gates: ['id', 'rz', 'sx', 'x', 'cx', 'reset']\n"
     ]
    },
    {
     "data": {
      "image/png": "[encoded data removed]",
      "text/plain": [
       "<Figure size 500x500 with 1 Axes>"
      ]
     },
     "execution_count": 3,
     "metadata": {},
     "output_type": "execute_result"
    }
   ],
   "source": [
    "fake_backend = FakeJakarta() # FakeHanoi() # FakeJakarta() # mimics the bahaviour of a 7-qubits hardware\n",
    "fake_backend_v2 = FakeJakartaV2()\n",
    "print('Backend basis gates:', fake_backend.configuration().basis_gates)\n",
    "plot_gate_map(fake_backend)"
   ]
  },
  {
   "cell_type": "code",
   "execution_count": 4,
   "metadata": {},
   "outputs": [],
   "source": [
    "def get_sx_params(backend, physical_qubits):\n",
    "    \"\"\"\n",
    "    Retrieve parameters for an SX gate from a quantum backend.\n",
    "\n",
    "    This function retrieves the default parameters for an SX gate, including amplitude, beta, sigma, and duration,\n",
    "    from a given quantum backend.\n",
    "\n",
    "    Parameters:\n",
    "    - backend (Backend): The quantum backend from which to retrieve the parameters.\n",
    "    - physical_qubits (Union[int, tuple, list]): The physical qubits on which the SX gate is applied.\n",
    "    \n",
    "    Returns:\n",
    "    - default_params (dict): A dictionary containing default parameters for the SX gate.\n",
    "    - basis_gate_instructions (InstructionSchedule): The instruction schedule for the SX gate.\n",
    "    - instructions_array (numpy.ndarray): An array of instructions for the SX gate.\n",
    "    \"\"\"\n",
    "\n",
    "\n",
    "    if isinstance(backend, BackendV1):\n",
    "        instruction_schedule_map = backend.defaults().instruction_schedule_map\n",
    "    else:\n",
    "        instruction_schedule_map = backend.target.instruction_schedule_map()\n",
    "\n",
    "    basis_gate_instructions = instruction_schedule_map.get('sx', qubits=physical_qubits)\n",
    "    \n",
    "    instructions_array = np.array(basis_gate_instructions.instructions)[:,1]\n",
    "\n",
    "    sx_pulse = basis_gate_instructions.instructions[0][1].pulse \n",
    "\n",
    "    default_params = {\n",
    "        (\"amp\", physical_qubits, \"sx\"): sx_pulse.amp,\n",
    "        # (\"angle\", physical_qubits, \"sx\"): sx_pulse.angle,\n",
    "        (\"β\", physical_qubits, 'sx'): sx_pulse.beta,\n",
    "        (\"σ\", physical_qubits, \"sx\"): sx_pulse.sigma,\n",
    "        (\"duration\", physical_qubits, \"sx\"): sx_pulse.duration\n",
    "    }\n",
    "\n",
    "    return default_params, basis_gate_instructions, instructions_array"
   ]
  },
  {
   "cell_type": "code",
   "execution_count": 5,
   "metadata": {},
   "outputs": [],
   "source": [
    "def custom_sx_schedule(backend: Backend, physical_qubits=Union[int, tuple, list], params: ParameterVector=None):\n",
    "    \"\"\"\n",
    "    Generate a custom parameterized schedule for an SX gate.\n",
    "\n",
    "    This function generates a custom parameterized schedule for an SX gate on specified physical qubits\n",
    "    with the given parameters.\n",
    "\n",
    "    Parameters:\n",
    "    - backend (Backend): The quantum backend used to obtain default SX gate parameters.\n",
    "    - physical_qubits (Union[int, tuple, list]): The physical qubits on which the SX gate is applied.\n",
    "    - params (ParameterVector, optional): The parameter vector specifying the custom parameters for the SX gate.\n",
    "\n",
    "    Returns:\n",
    "    - parametrized_schedule (Schedule): A parameterized schedule for the SX gate with custom parameters.\n",
    "    \"\"\"\n",
    "    \n",
    "    # pulse_features = [\"amp\", \"angle\", \"β\", \"σ\"]\n",
    "    pulse_features = [\"amp\", \"β\", \"σ\"]\n",
    " \n",
    "    global n_actions\n",
    "    assert n_actions == len(params), f\"Number of actions ({n_actions}) does not match length of ParameterVector {params.name} ({len(params)})\" \n",
    "\n",
    "    if isinstance(physical_qubits, int):\n",
    "        physical_qubits = tuple(physical_qubits)\n",
    "\n",
    "    new_params, _, _ = get_sx_params(backend=fake_backend, physical_qubits=physical_qubits)\n",
    "\n",
    "    for i, feature in enumerate(pulse_features):\n",
    "        new_params[(feature, physical_qubits, \"sx\")] += params[i]\n",
    "\n",
    "    cals = Calibrations.from_backend(backend, [FixedFrequencyTransmon([\"x\", \"sx\"])],\n",
    "                                        add_parameter_defaults=True)\n",
    "    \n",
    "    parametrized_schedule = cals.get_schedule(\"sx\", physical_qubits, assign_params=new_params)\n",
    "\n",
    "    return parametrized_schedule"
   ]
  },
  {
   "cell_type": "code",
   "execution_count": 6,
   "metadata": {},
   "outputs": [],
   "source": [
    "def add_parametrized_circuit(qc: QuantumCircuit, params: Optional[ParameterVector]=None, tgt_register: Optional[QuantumRegister]=None):\n",
    "    \"\"\"\n",
    "    Add a parametrized gate to a QuantumCircuit.\n",
    "\n",
    "    This function adds a parametrized gate to a given QuantumCircuit with optional custom parameters and target register.\n",
    "\n",
    "    Parameters:\n",
    "    - qc (QuantumCircuit): The QuantumCircuit to which the parametrized gate will be added.\n",
    "    - params (ParameterVector, optional): The parameter vector specifying the custom parameters for the gate.\n",
    "    - tgt_register (QuantumRegister, optional): The target quantum register for applying the parametrized gate.\n",
    "    \"\"\"\n",
    "    \n",
    "    global n_actions, fake_backend, target\n",
    "\n",
    "    gate, physical_qubits = target[\"gate\"], target[\"register\"]\n",
    "    physical_qubits = tuple(physical_qubits)\n",
    "\n",
    "    if params is None:\n",
    "        params = ParameterVector('theta', n_actions)\n",
    "    if tgt_register is None:\n",
    "        tgt_register = qc.qregs[0]\n",
    "\n",
    "    parametrized_gate = Gate(name='sx_cal', num_qubits=1, params=params)\n",
    "    parametrized_schedule = custom_sx_schedule(backend=fake_backend, physical_qubits=physical_qubits, params=params)\n",
    "    qc.add_calibration(parametrized_gate, physical_qubits, parametrized_schedule)\n",
    "    qc.append(parametrized_gate, tgt_register)"
   ]
  },
  {
   "attachments": {},
   "cell_type": "markdown",
   "metadata": {},
   "source": [
    "# Example of a target gate: RX($\\pi/2$) = $\\sqrt{X}$"
   ]
  },
  {
   "cell_type": "code",
   "execution_count": 7,
   "metadata": {},
   "outputs": [
    {
     "name": "stdout",
     "output_type": "stream",
     "text": [
      "{'gate': Instruction(name='x', num_qubits=1, num_clbits=0, params=[]), 'register': [0]}\n"
     ]
    }
   ],
   "source": [
    "# SX gate as the target gat\n",
    "sx_gate = {\"gate\": XGate(), \"register\": [0]}\n",
    "target = sx_gate\n",
    "print(target)"
   ]
  },
  {
   "attachments": {},
   "cell_type": "markdown",
   "metadata": {},
   "source": [
    "##### Quantum Circuit context"
   ]
  },
  {
   "cell_type": "code",
   "execution_count": 8,
   "metadata": {},
   "outputs": [
    {
     "name": "stdout",
     "output_type": "stream",
     "text": [
      "Initital Circuit\n"
     ]
    },
    {
     "data": {
      "image/png": "[encoded data removed]",
      "text/plain": [
       "<Figure size 352.675x117.056 with 1 Axes>"
      ]
     },
     "execution_count": 8,
     "metadata": {},
     "output_type": "execute_result"
    }
   ],
   "source": [
    "target_circuit = QuantumCircuit(1)\n",
    "target_circuit.x(0)\n",
    "target_circuit.h(0)\n",
    "target_circuit.y(0)\n",
    "# target_circuit.x(1)\n",
    "print('Initital Circuit')\n",
    "target_circuit.draw(\"mpl\")"
   ]
  },
  {
   "attachments": {},
   "cell_type": "markdown",
   "metadata": {},
   "source": [
    "Transpile the (context) quantum circuit to the provided (Fake-) Backend"
   ]
  },
  {
   "cell_type": "code",
   "execution_count": 9,
   "metadata": {},
   "outputs": [
    {
     "name": "stdout",
     "output_type": "stream",
     "text": [
      "Transpiled Circuit\n"
     ]
    },
    {
     "data": {
      "image/png": "[encoded data removed]",
      "text/plain": [
       "<Figure size 422.982x117.056 with 1 Axes>"
      ]
     },
     "execution_count": 9,
     "metadata": {},
     "output_type": "execute_result"
    }
   ],
   "source": [
    "# target_circuit.measure_all()\n",
    "transpiled_circ = transpile(target_circuit, fake_backend, \n",
    "                              initial_layout=[0],\n",
    "                              basis_gates=fake_backend.configuration().basis_gates, \n",
    "                              # scheduling_method='asap',\n",
    "                              optimization_level=1)\n",
    "print('Transpiled Circuit')\n",
    "remove_unused_wires(transpiled_circ).draw(\"mpl\")"
   ]
  },
  {
   "attachments": {},
   "cell_type": "markdown",
   "metadata": {},
   "source": [
    "Visualization of the \"context\" quantum circuit as a pulse sequence that the parametrized SX gate will then be added to"
   ]
  },
  {
   "cell_type": "code",
   "execution_count": 10,
   "metadata": {},
   "outputs": [
    {
     "data": {
      "image/png": "[encoded data removed]",
      "text/plain": [
       "<Figure size 1300x165 with 1 Axes>"
      ]
     },
     "execution_count": 10,
     "metadata": {},
     "output_type": "execute_result"
    }
   ],
   "source": [
    "# schedule = build_schedule(transpiled_circ, fake_backend)\n",
    "sched01 = schedule(transpiled_circ, fake_backend)\n",
    "sched01.draw(backend=fake_backend, style=IQXStandard())"
   ]
  },
  {
   "cell_type": "code",
   "execution_count": 11,
   "metadata": {},
   "outputs": [
    {
     "name": "stdout",
     "output_type": "stream",
     "text": [
      "Target gate: {'gate': Instruction(name='x', num_qubits=1, num_clbits=0, params=[]), 'register': [0]}\n"
     ]
    }
   ],
   "source": [
    "n_actions = 3 # number of parameters for the SX gate : amplitude and angle\n",
    "print('Target gate:', target)\n",
    "\n",
    "params = ParameterVector('theta', n_actions)\n",
    "\n",
    "qubit = target[\"register\"]\n",
    "physical_qubits = tuple(qubit)"
   ]
  },
  {
   "attachments": {},
   "cell_type": "markdown",
   "metadata": {},
   "source": [
    "Add the parameterized SX gate to the quantum circuit, so that it exists in the context (=presence) of prior gates"
   ]
  },
  {
   "cell_type": "code",
   "execution_count": 12,
   "metadata": {},
   "outputs": [],
   "source": [
    "# add_parametrized_circuit(qc=transpiled_circ, tgt_register=target['register'])\n",
    "# print('Transpiled Circuit')\n",
    "# transpiled_circ.draw('mpl')"
   ]
  },
  {
   "cell_type": "code",
   "execution_count": 13,
   "metadata": {},
   "outputs": [],
   "source": [
    "default_params, instructions, pulses = get_sx_params(backend=fake_backend, physical_qubits=physical_qubits)"
   ]
  },
  {
   "attachments": {},
   "cell_type": "markdown",
   "metadata": {},
   "source": [
    "Visualization of the target SX Pulse (it's a Derivative Removal by Adiabatic Gate (DRAG) pulse)"
   ]
  },
  {
   "cell_type": "code",
   "execution_count": 14,
   "metadata": {},
   "outputs": [
    {
     "data": {
      "image/png": "[encoded data removed]",
      "text/plain": [
       "<Figure size 1300x165 with 1 Axes>"
      ]
     },
     "execution_count": 14,
     "metadata": {},
     "output_type": "execute_result"
    }
   ],
   "source": [
    "instructions.draw(backend=fake_backend, style=IQXStandard())"
   ]
  },
  {
   "attachments": {},
   "cell_type": "markdown",
   "metadata": {},
   "source": [
    "Visualization of the pulse sequence for the parameterized gate within the full circuit context"
   ]
  },
  {
   "cell_type": "code",
   "execution_count": 15,
   "metadata": {},
   "outputs": [],
   "source": [
    "# sched02 = schedule(transpiled_circ, fake_backend)\n",
    "# sched02.draw(backend=fake_backend, style=IQXStandard())"
   ]
  },
  {
   "attachments": {},
   "cell_type": "markdown",
   "metadata": {},
   "source": [
    "#### Plug it into ``QuantumEnvironment``"
   ]
  },
  {
   "cell_type": "code",
   "execution_count": 16,
   "metadata": {},
   "outputs": [],
   "source": [
    "sampling_Paulis = 50\n",
    "N_shots = 200\n",
    "n_actions = 4  # Cf number of parameters in custom_schedule function above\n",
    "abstraction_level = 'pulse'"
   ]
  },
  {
   "cell_type": "code",
   "execution_count": 17,
   "metadata": {},
   "outputs": [
    {
     "name": "stdout",
     "output_type": "stream",
     "text": [
      "{(0, 1): 0, (1, 0): 1, (5, 6): 10, (6, 5): 11, (1, 2): 2, (1, 3): 3, (2, 1): 4, (3, 1): 5, (3, 5): 6, (4, 5): 7, (5, 3): 8, (5, 4): 9}\n",
      "control_channel_map {}\n"
     ]
    }
   ],
   "source": [
    "control_channel_map = get_control_channel_map(fake_backend, physical_qubits)\n",
    "print('control_channel_map', control_channel_map)\n",
    "dt = fake_backend.configuration().dt\n",
    "\n",
    "dynamics_options = {\n",
    "                    'seed_simulator': None, #\"configuration\": fake_backend.configuration(),\n",
    "                    'control_channel_map': control_channel_map, \n",
    "                    \"solver_options\": {\"method\": \"jax_odeint\", \"atol\": 1e-6, \"rtol\": 1e-8, \"hmax\":dt}\n",
    "                    }\n",
    "qubit_properties = fake_backend_v2.qubit_properties(physical_qubits)\n",
    "\n",
    "# Extract channel frequencies and Solver instance from backend to provide a pulse level simulation enabling\n",
    "# fidelity benchmarking\n",
    "channel_freq, solver = get_solver_and_freq_from_backend(\n",
    "    backend=fake_backend,\n",
    "    subsystem_list=physical_qubits,\n",
    "    rotating_frame=\"auto\",\n",
    "    evaluation_mode=\"dense\",\n",
    "    rwa_cutoff_freq=None,\n",
    "    static_dissipators=None,\n",
    "    dissipator_channels=None,\n",
    "    dissipator_operators=None\n",
    ")\n",
    "calibration_files=None"
   ]
  },
  {
   "cell_type": "code",
   "execution_count": 18,
   "metadata": {},
   "outputs": [],
   "source": [
    "estimator_options = Options(resilience_level=0, optimization_level=0, \n",
    "                            execution= ExecutionOptions(shots=N_shots*sampling_Paulis))"
   ]
  },
  {
   "attachments": {},
   "cell_type": "markdown",
   "metadata": {},
   "source": [
    "Creat a solver instead of creating a DynmamicsBacked.from_backend()"
   ]
  },
  {
   "cell_type": "code",
   "execution_count": 19,
   "metadata": {},
   "outputs": [],
   "source": [
    "dim = 3\n",
    "\n",
    "v = [prop.frequency for prop in qubit_properties]\n",
    "v0 = 4.86e9\n",
    "anharm0 = -0.32e9\n",
    "r0 = 0.22e9\n",
    "\n",
    "v1 = 4.97e9\n",
    "anharm1 = -0.32e9\n",
    "r1 = 0.26e9\n",
    "\n",
    "J = 0.002e9\n",
    "\n",
    "a = np.diag(np.sqrt(np.arange(1, dim)), 1)\n",
    "adag = np.diag(np.sqrt(np.arange(1, dim)), -1)\n",
    "N = np.diag(np.arange(dim))\n",
    "\n",
    "ident = np.eye(dim, dtype=complex)\n",
    "full_ident = np.eye(dim**2, dtype=complex)\n",
    "\n",
    "N0 = np.kron(ident, N)\n",
    "N1 = np.kron(N, ident)\n",
    "\n",
    "a0 = np.kron(ident, a)\n",
    "a1 = np.kron(a, ident)\n",
    "\n",
    "a0dag = np.kron(ident, adag)\n",
    "a1dag = np.kron(adag, ident)\n",
    "\n",
    "\n",
    "static_ham0 = 2 * np.pi * v0 * N0 + np.pi * anharm0 * N0 * (N0 - full_ident)\n",
    "static_ham1 = 2 * np.pi * v1 * N1 + np.pi * anharm1 * N1 * (N1 - full_ident)\n",
    "\n",
    "static_ham_full = static_ham0 + static_ham1 + 2 * np.pi * J * ((a0 + a0dag) @ (a1 + a1dag))\n",
    "\n",
    "drive_op0 = 2 * np.pi * r0 * (a0 + a0dag)\n",
    "drive_op1 = 2 * np.pi * r1 * (a1 + a1dag)\n",
    "\n",
    "# build solver\n",
    "dt = 1/4.5e9\n",
    "\n",
    "solver = Solver(\n",
    "    static_hamiltonian=static_ham_full,\n",
    "    hamiltonian_operators=[drive_op0, drive_op1, drive_op0, drive_op1, drive_op1, drive_op0],\n",
    "    rotating_frame=static_ham_full,\n",
    "    hamiltonian_channels=[\"d0\", \"d1\", \"u0\", \"u1\", \"u2\", \"u3\"],\n",
    "    channel_carrier_freqs={\"d0\": v0, \"d1\": v1, \"u0\": v1, \"u1\": v0, \"u2\":v0, \"u3\": v1},\n",
    "    dt=dt,\n",
    "    evaluation_mode=\"sparse\"\n",
    ")\n",
    "# Consistent solver option to use throughout notebook\n",
    "solver_options = {\"method\": \"jax_odeint\", \"atol\": 1e-6, \"rtol\": 1e-8}\n",
    "\n",
    "custom_backend2 = DynamicsBackend(\n",
    "    solver=solver,\n",
    "    #target = fake_backend_v2.target,\n",
    "    subsystem_dims=[dim, dim], # for computing measurement data\n",
    "    solver_options=solver_options, # to be used every time run is called\n",
    ")\n",
    "backend_target = custom_backend2.target\n",
    "channel_freq = None\n",
    "calibration_files = None\n",
    "do_calibrations = True\n",
    "# qubit properties"
   ]
  },
  {
   "cell_type": "code",
   "execution_count": 20,
   "metadata": {},
   "outputs": [],
   "source": [
    "# dynamics_backend = custom_backend2"
   ]
  },
  {
   "cell_type": "code",
   "execution_count": 21,
   "metadata": {},
   "outputs": [],
   "source": [
    "# subsystem_list takes the qubits indices that are the qubits with the parametrized gate AND its nearest neighbours\n",
    "dynamics_backend = DynamicsBackend.from_backend(fake_backend, subsystem_list=(0, ), **dynamics_options)\n",
    "dynamics_backend.target.qubit_properties = qubit_properties\n",
    "# list(dynamics_backend.coupling_map)"
   ]
  },
  {
   "cell_type": "code",
   "execution_count": 22,
   "metadata": {},
   "outputs": [],
   "source": [
    "from helper_functions import retrieve_backend_info\n",
    "from qiskit_experiments.framework import BackendData\n",
    "from qiskit_ibm_runtime import Estimator as Runtime_Estimator"
   ]
  },
  {
   "attachments": {},
   "cell_type": "markdown",
   "metadata": {},
   "source": [
    "Manually populate the coupling map of the ``DynamicsBackend`` with the data from the ``fake_backend``"
   ]
  },
  {
   "cell_type": "code",
   "execution_count": 23,
   "metadata": {},
   "outputs": [
    {
     "data": {
      "text/plain": [
       "QiskitConfig(parametrized_circuit=<function add_parametrized_circuit at 0x2f6b98e50>, backend=<qiskit_dynamics.backend.dynamics_backend.DynamicsBackend object at 0x3073c04f0>, estimator_options=Options(optimization_level=0, resilience_level=0, max_execution_time=None, transpilation=TranspilationOptions(skip_transpilation=False, initial_layout=None, layout_method=None, routing_method=None, approximation_degree=None), resilience=ResilienceOptions(noise_amplifier='TwoQubitAmplifier', noise_factors=(1, 3, 5), extrapolator='LinearExtrapolator'), execution=ExecutionOptions(shots=10000, init_qubits=True), environment=EnvironmentOptions(log_level='WARNING', callback=None, job_tags=[]), simulator=SimulatorOptions(noise_model=None, seed_simulator=None, coupling_map=None, basis_gates=None)), solver=<qiskit_dynamics.solvers.solver_classes.Solver object at 0x2fad70280>, channel_freq=None, do_calibrations=True, calibration_files=None)"
      ]
     },
     "execution_count": 23,
     "metadata": {},
     "output_type": "execute_result"
    }
   ],
   "source": [
    "# Wrap all info in one QiskitConfig\n",
    "# Qiskit_setup = QiskitConfig(parametrized_circuit=apply_parametrized_circuit, backend=backend)\n",
    "Qiskit_setup = QiskitConfig(parametrized_circuit=add_parametrized_circuit, backend=dynamics_backend,\n",
    "                            estimator_options=estimator_options, channel_freq=channel_freq,\n",
    "                            solver=solver)\n",
    "Qiskit_setup"
   ]
  },
  {
   "cell_type": "code",
   "execution_count": 24,
   "metadata": {},
   "outputs": [
    {
     "data": {
      "text/plain": [
       "(0,)"
      ]
     },
     "execution_count": 24,
     "metadata": {},
     "output_type": "execute_result"
    }
   ],
   "source": [
    "physical_qubits"
   ]
  },
  {
   "cell_type": "code",
   "execution_count": 25,
   "metadata": {},
   "outputs": [
    {
     "name": "stdout",
     "output_type": "stream",
     "text": [
      "{}\n"
     ]
    }
   ],
   "source": [
    "print(dynamics_backend.options.control_channel_map)"
   ]
  },
  {
   "cell_type": "code",
   "execution_count": 26,
   "metadata": {},
   "outputs": [
    {
     "data": {
      "text/plain": [
       "7"
      ]
     },
     "execution_count": 26,
     "metadata": {},
     "output_type": "execute_result"
    }
   ],
   "source": [
    "dynamics_backend.num_qubits"
   ]
  },
  {
   "cell_type": "code",
   "execution_count": 27,
   "metadata": {},
   "outputs": [
    {
     "name": "stdout",
     "output_type": "stream",
     "text": [
      "{(0,): None, (1,): None, (2,): None, (3,): None, (4,): None, (5,): None, (6,): None}\n",
      "{(0,): 0.0, (1,): 0.0, (2,): 0.0, (3,): 0.0, (4,): 0.0, (5,): 0.0, (6,): 0.0}\n",
      "Starting Rabi experiment for qubit 0...\n",
      "Rabi experiment for qubit 0 done.\n",
      "Starting Drag experiment for qubit 0...\n",
      "Drag experiments done for qubit 0 done.\n",
      "Target delay calibration for qubit 0: True\n",
      "Target delay calibration for qubit 1: True\n",
      "Target delay calibration for qubit 2: True\n",
      "Target delay calibration for qubit 3: True\n",
      "Target delay calibration for qubit 4: True\n",
      "Target delay calibration for qubit 5: True\n",
      "Target delay calibration for qubit 6: True\n",
      "All single qubit calibrations are done\n",
      "Updated Instruction Schedule Map <InstructionScheduleMap(1Q instructions:\n",
      "  q0: {'reset', 'measure', 'sdg', 'tdg', 'x', 's', 'z', 'id', 'delay', 't', 'rz', 'sx', 'h'}\n",
      "  q1: {'measure', 'delay'}\n",
      "  q2: {'measure', 'delay'}\n",
      "  q3: {'measure', 'delay'}\n",
      "  q4: {'measure', 'delay'}\n",
      "  q5: {'measure', 'delay'}\n",
      "  q6: {'measure', 'delay'}\n",
      "Multi qubit instructions:\n",
      ")>\n"
     ]
    }
   ],
   "source": [
    "q_env = QuantumEnvironment(target=target, abstraction_level=abstraction_level,\n",
    "                           Qiskit_config=Qiskit_setup,\n",
    "                           sampling_Pauli_space=sampling_Paulis, n_shots=N_shots, c_factor=0.5)"
   ]
  },
  {
   "cell_type": "code",
   "execution_count": 28,
   "metadata": {},
   "outputs": [
    {
     "data": {
      "text/plain": [
       "'\\njob = dynamics_backend.run(transpiled_circ)\\nresults = job.result()\\nresults.get_counts()\\n'"
      ]
     },
     "execution_count": 28,
     "metadata": {},
     "output_type": "execute_result"
    }
   ],
   "source": [
    "\"\"\"\n",
    "job = dynamics_backend.run(transpiled_circ)\n",
    "results = job.result()\n",
    "results.get_counts()\n",
    "\"\"\""
   ]
  },
  {
   "attachments": {},
   "cell_type": "markdown",
   "metadata": {},
   "source": [
    "### Access Coupling Map of the Backend"
   ]
  },
  {
   "cell_type": "code",
   "execution_count": 29,
   "metadata": {},
   "outputs": [],
   "source": [
    "dt, coupling_map, basis_gates, instruction_durations = retrieve_backend_info(backend=dynamics_backend)"
   ]
  },
  {
   "cell_type": "code",
   "execution_count": 30,
   "metadata": {},
   "outputs": [
    {
     "data": {
      "text/plain": [
       "[]"
      ]
     },
     "execution_count": 30,
     "metadata": {},
     "output_type": "execute_result"
    }
   ],
   "source": [
    "list(coupling_map)"
   ]
  },
  {
   "cell_type": "code",
   "execution_count": 31,
   "metadata": {},
   "outputs": [],
   "source": [
    "seed = 10\n",
    "training_steps_per_gate = 2000\n",
    "benchmark_cycle = 100\n",
    "# tgt_instruction_counts = target_circuit.data.count(CircuitInstruction(target_gate, tgt_qubits))\n",
    "tgt_instruction_counts = 2  # Number of times target Instruction is applied in Circuit\n",
    "batchsize = 200  # Batch size (iterate over a bunch of actions per policy to estimate expected return) default 100\n",
    "n_actions = 4 # Choose how many control parameters in pulse/circuit parametrization\n",
    "min_bound_actions =  - 0.1\n",
    "max_bound_actions =  0.1\n",
    "scale_factor = 0.1\n",
    "observation_space = Box(low=np.array([0, 0]), high=np.array([1, tgt_instruction_counts]), shape=(2,),\n",
    "                        seed=seed)\n",
    "action_space = Box(low=min_bound_actions, high=max_bound_actions, shape=(n_actions,), seed=seed)"
   ]
  },
  {
   "cell_type": "code",
   "execution_count": 32,
   "metadata": {},
   "outputs": [],
   "source": [
    "torch_env = TorchQuantumEnvironment(q_env, target_circuit,\n",
    "                                    action_space,\n",
    "                                    observation_space, batch_size=batchsize,\n",
    "                                    training_steps_per_gate=training_steps_per_gate,\n",
    "                                    benchmark_cycle = benchmark_cycle,\n",
    "                                    intermediate_rewards=False,\n",
    "                                    seed=None,)"
   ]
  },
  {
   "cell_type": "code",
   "execution_count": 33,
   "metadata": {},
   "outputs": [
    {
     "data": {
      "image/png": "[encoded data removed]",
      "text/plain": [
       "<Figure size 352.675x117.056 with 1 Axes>"
      ]
     },
     "execution_count": 33,
     "metadata": {},
     "output_type": "execute_result"
    }
   ],
   "source": [
    "target_circuit.draw('mpl')"
   ]
  },
  {
   "cell_type": "code",
   "execution_count": 34,
   "metadata": {},
   "outputs": [
    {
     "data": {
      "image/png": "[encoded data removed]",
      "text/plain": [
       "<Figure size 422.982x117.056 with 1 Axes>"
      ]
     },
     "execution_count": 34,
     "metadata": {},
     "output_type": "execute_result"
    }
   ],
   "source": [
    "transpiled_circ.draw('mpl')"
   ]
  },
  {
   "cell_type": "code",
   "execution_count": 35,
   "metadata": {},
   "outputs": [
    {
     "data": {
      "text/plain": [
       "{'x': {((0,),\n",
       "   ()): ScheduleBlock(Play(Drag(duration=160, sigma=40, beta=-4.26620962, amp=0.17412461, angle=0), DriveChannel(0)), name=\"x\", transform=AlignLeft())},\n",
       " 'h': {((0,),\n",
       "   ()): ScheduleBlock(ScheduleBlock(ShiftPhase(-1.5707963268, DriveChannel(0)), name=\"rz0\", transform=AlignLeft()), ScheduleBlock(Play(Drag(duration=160, sigma=40, beta=0, amp=0.0870623, angle=0), DriveChannel(0)), name=\"sx\", transform=AlignLeft()), ScheduleBlock(ShiftPhase(-1.5707963268, DriveChannel(0)), name=\"rz0\", transform=AlignLeft()), name=\"h\", transform=AlignLeft())},\n",
       " 'z': {((0,),\n",
       "   ()): ScheduleBlock(ShiftPhase(-3.1415926536, DriveChannel(0)), name=\"rz0\", transform=AlignLeft())}}"
      ]
     },
     "execution_count": 35,
     "metadata": {},
     "output_type": "execute_result"
    }
   ],
   "source": [
    "torch_env.circuit_context.calibrations"
   ]
  },
  {
   "cell_type": "code",
   "execution_count": 36,
   "metadata": {},
   "outputs": [
    {
     "data": {
      "image/png": "[encoded data removed]",
      "text/plain": [
       "<Figure size 917.96x618.722 with 1 Axes>"
      ]
     },
     "execution_count": 36,
     "metadata": {},
     "output_type": "execute_result"
    }
   ],
   "source": [
    "torch_env.circuit_context.draw('mpl')"
   ]
  },
  {
   "cell_type": "code",
   "execution_count": 37,
   "metadata": {},
   "outputs": [
    {
     "data": {
      "image/png": "[encoded data removed]",
      "text/plain": [
       "<Figure size 375.117x117.056 with 1 Axes>"
      ]
     },
     "execution_count": 37,
     "metadata": {},
     "output_type": "execute_result"
    }
   ],
   "source": [
    "torch_env.circuit_truncations[0].draw(\"mpl\")"
   ]
  },
  {
   "cell_type": "code",
   "execution_count": 38,
   "metadata": {},
   "outputs": [
    {
     "data": {
      "image/png": "[encoded data removed]",
      "text/plain": [
       "<Figure size 207.895x117.056 with 1 Axes>"
      ]
     },
     "execution_count": 38,
     "metadata": {},
     "output_type": "execute_result"
    }
   ],
   "source": [
    "torch_env.baseline_truncations[0].draw(\"mpl\")"
   ]
  },
  {
   "attachments": {},
   "cell_type": "markdown",
   "metadata": {},
   "source": [
    "# Reinforcement Learning"
   ]
  },
  {
   "attachments": {},
   "cell_type": "markdown",
   "metadata": {},
   "source": [
    "#### Definition of the Agent"
   ]
  },
  {
   "cell_type": "code",
   "execution_count": 39,
   "metadata": {},
   "outputs": [],
   "source": [
    "import torch\n",
    "import torch.nn as nn\n",
    "\n",
    "from agent import ActorNetwork, CriticNetwork, Agent\n",
    "#device = torch.device(\"cuda\" if torch.cuda.is_available() else \"cpu\")\n",
    "device = torch.device(\"cpu\")\n",
    "hidden_units = [64, 64]\n",
    "activation_functions = [nn.Tanh(), nn.Tanh(), nn.Tanh()]\n",
    "include_critic = False\n",
    "chkpt_dir = 'tmp/ppo'\n",
    "chkpt_dir_critic = 'tmp/critic_ppo'\n",
    "\n",
    "actor_net = ActorNetwork(observation_space, hidden_units, n_actions, activation_functions, include_critic, chkpt_dir).to(device)\n",
    "critic_net = CriticNetwork(observation_space, hidden_units, activation_functions, chkpt_dir_critic).to(device)\n",
    "agent = Agent(actor_net, critic_net=critic_net).to(device)"
   ]
  },
  {
   "cell_type": "code",
   "execution_count": 40,
   "metadata": {},
   "outputs": [],
   "source": [
    "\"\"\"\n",
    "-----------------------------------------------------------------------------------------------------\n",
    "Hyperparameters for RL agent\n",
    "-----------------------------------------------------------------------------------------------------\n",
    "\"\"\"\n",
    "from torch.utils.tensorboard import SummaryWriter\n",
    "import torch.optim as optim\n",
    "run_name = \"test\"\n",
    "writer = SummaryWriter(f\"runs/{run_name}\")\n",
    "# writer.add_text(\n",
    "#     \"hyperparameters\",\n",
    "#     \"|param|value|\\n|-|-|\\n%s\" % (\"\\n\".join([f\"|{key}|{value}|\" for key, value in vars(args).items()])),\n",
    "# )\n",
    "# Hyperparameters for the agent\n",
    "n_epochs = 10  # Number of epochs : default 1500\n",
    "num_updates = 700\n",
    "lr_actor = 0.001  # Learning rate for policy update step\n",
    "lr_critic = 0.001  # Learning rate for critic (value function) update step\n",
    "\n",
    "epsilon = 0.2  # Parameter for clipping value (PPO)\n",
    "critic_loss_coeff = 0.5\n",
    "optimizer = optim.Adam(agent.parameters(), lr=lr_actor, eps=1e-5)\n",
    "actor_optimizer = optim.Adam(actor_net.parameters(), lr=lr_actor, eps=1e-5)\n",
    "critic_optimizer = optim.Adam(critic_net.parameters(), lr=lr_critic, eps=1e-5)\n",
    "minibatch_size = 40\n",
    "gamma = 1.\n",
    "gae_lambda = 0.95\n",
    "\n",
    "# Clipping\n",
    "clip_vloss = True\n",
    "grad_clip = 0.5\n",
    "clip_coef = 0.5\n",
    "normalize_advantage = False\n",
    "\n",
    "# other coefficients\n",
    "ent_coef = 0."
   ]
  },
  {
   "cell_type": "code",
   "execution_count": 41,
   "metadata": {},
   "outputs": [
    {
     "data": {
      "text/plain": [
       "<bound method TorchQuantumEnvironment.episode_length of QuantumEnvironment composed of 1 qubits, \n",
       "Defined target: gate (Instruction(name='x', num_qubits=1, num_clbits=0, params=[]))\n",
       "Physical qubits: [0]\n",
       "Backend: <qiskit_dynamics.backend.dynamics_backend.DynamicsBackend object at 0x3073c04f0>,\n",
       "Abstraction level: pulse,\n",
       "Run options: N_shots (200), Sampling_Pauli_space (50), \n",
       "Batchsize: 200, \n",
       "Number of target gates in circuit context: 2\n",
       ">"
      ]
     },
     "execution_count": 41,
     "metadata": {},
     "output_type": "execute_result"
    }
   ],
   "source": [
    "torch_env.episode_length"
   ]
  },
  {
   "attachments": {},
   "cell_type": "markdown",
   "metadata": {},
   "source": [
    "### Training"
   ]
  },
  {
   "cell_type": "code",
   "execution_count": 42,
   "metadata": {},
   "outputs": [],
   "source": [
    "global_step = 0\n",
    "torch_env.clear_history()\n",
    "obs = torch.zeros((tgt_instruction_counts, batchsize) + torch_env.observation_space.shape).to(device)\n",
    "actions = torch.zeros((tgt_instruction_counts, batchsize) + torch_env.action_space.shape).to(device)\n",
    "logprobs = torch.zeros((tgt_instruction_counts, batchsize)).to(device)\n",
    "rewards = torch.zeros((tgt_instruction_counts, batchsize)).to(device)\n",
    "dones = torch.zeros((tgt_instruction_counts, batchsize)).to(device)\n",
    "values = torch.zeros((tgt_instruction_counts, batchsize)).to(device)\n",
    "\n",
    "train_obs = torch.zeros((batchsize,) + torch_env.observation_space.shape, requires_grad=True).to(device)\n",
    "visualization_steps = 10"
   ]
  },
  {
   "cell_type": "code",
   "execution_count": 43,
   "metadata": {},
   "outputs": [
    {
     "name": "stderr",
     "output_type": "stream",
     "text": [
      "  0%|          | 0/700 [00:00<?, ?it/s]"
     ]
    },
    {
     "name": "stdout",
     "output_type": "stream",
     "text": [
      "Sending job...\n"
     ]
    },
    {
     "name": "stderr",
     "output_type": "stream",
     "text": [
      "\n"
     ]
    },
    {
     "ename": "StopIteration",
     "evalue": "",
     "output_type": "error",
     "traceback": [
      "\u001b[0;31m---------------------------------------------------------------------------\u001b[0m",
      "\u001b[0;31mStopIteration\u001b[0m                             Traceback (most recent call last)",
      "Cell \u001b[0;32mIn[43], line 27\u001b[0m\n\u001b[1;32m     25\u001b[0m logprobs[step] \u001b[39m=\u001b[39m logprob\n\u001b[1;32m     26\u001b[0m \u001b[39m# next_obs, reward, terminated, truncated, infos = torch_env.step(action.cpu().numpy())\u001b[39;00m\n\u001b[0;32m---> 27\u001b[0m next_obs, reward, terminated, truncated, infos \u001b[39m=\u001b[39m torch_env\u001b[39m.\u001b[39;49mstep(action\u001b[39m.\u001b[39;49mcpu()\u001b[39m.\u001b[39;49mnumpy())\n\u001b[1;32m     28\u001b[0m done \u001b[39m=\u001b[39m np\u001b[39m.\u001b[39mlogical_or(terminated, truncated)\n\u001b[1;32m     29\u001b[0m rewards[step] \u001b[39m=\u001b[39m torch\u001b[39m.\u001b[39mtensor(reward)\u001b[39m.\u001b[39mto(device)\n",
      "File \u001b[0;32m~/Documents/Master Wirtschaftsphysik/Masterarbeit Yale-NUS CQT/Quantum_Optimal_Control/torch_contextual_gate_calibration/torch_quantum_environment.py:983\u001b[0m, in \u001b[0;36mTorchQuantumEnvironment.step\u001b[0;34m(self, action)\u001b[0m\n\u001b[1;32m    981\u001b[0m terminated \u001b[39m=\u001b[39m \u001b[39mTrue\u001b[39;00m\n\u001b[1;32m    982\u001b[0m \u001b[39mself\u001b[39m\u001b[39m.\u001b[39m_episode_ended \u001b[39m=\u001b[39m terminated\n\u001b[0;32m--> 983\u001b[0m reward_table \u001b[39m=\u001b[39m \u001b[39mself\u001b[39;49m\u001b[39m.\u001b[39;49mcompute_reward()\n\u001b[1;32m    984\u001b[0m \u001b[39mif\u001b[39;00m \u001b[39mself\u001b[39m\u001b[39m.\u001b[39m_intermediate_rewards:\n\u001b[1;32m    985\u001b[0m     obs \u001b[39m=\u001b[39m reward_table\n",
      "File \u001b[0;32m~/Documents/Master Wirtschaftsphysik/Masterarbeit Yale-NUS CQT/Quantum_Optimal_Control/torch_contextual_gate_calibration/torch_quantum_environment.py:874\u001b[0m, in \u001b[0;36mTorchQuantumEnvironment.compute_reward\u001b[0;34m(self, fidelity_access)\u001b[0m\n\u001b[1;32m    872\u001b[0m \u001b[39mexcept\u001b[39;00m \u001b[39mException\u001b[39;00m \u001b[39mas\u001b[39;00m exc:\n\u001b[1;32m    873\u001b[0m     \u001b[39mself\u001b[39m\u001b[39m.\u001b[39mclose()\n\u001b[0;32m--> 874\u001b[0m     \u001b[39mraise\u001b[39;00m exc\n\u001b[1;32m    875\u001b[0m scaling_reward_factor \u001b[39m=\u001b[39m \u001b[39mlen\u001b[39m(observables) \u001b[39m/\u001b[39m \u001b[39m4\u001b[39m \u001b[39m*\u001b[39m\u001b[39m*\u001b[39m \u001b[39mlen\u001b[39m(\u001b[39mself\u001b[39m\u001b[39m.\u001b[39mtgt_register)\n\u001b[1;32m    876\u001b[0m reward_table \u001b[39m/\u001b[39m\u001b[39m=\u001b[39m scaling_reward_factor\n",
      "File \u001b[0;32m~/Documents/Master Wirtschaftsphysik/Masterarbeit Yale-NUS CQT/Quantum_Optimal_Control/torch_contextual_gate_calibration/torch_quantum_environment.py:871\u001b[0m, in \u001b[0;36mTorchQuantumEnvironment.compute_reward\u001b[0;34m(self, fidelity_access)\u001b[0m\n\u001b[1;32m    863\u001b[0m         \u001b[39mself\u001b[39m\u001b[39m.\u001b[39mbackend\u001b[39m.\u001b[39moptions\u001b[39m.\u001b[39msolver\u001b[39m.\u001b[39mset_macro(func\u001b[39m=\u001b[39mparam_schedule)\n\u001b[1;32m    864\u001b[0m     job \u001b[39m=\u001b[39m \u001b[39mself\u001b[39m\u001b[39m.\u001b[39mestimator\u001b[39m.\u001b[39mrun(\n\u001b[1;32m    865\u001b[0m         circuits\u001b[39m=\u001b[39m[training_circ] \u001b[39m*\u001b[39m \u001b[39mself\u001b[39m\u001b[39m.\u001b[39mbatch_size,\n\u001b[1;32m    866\u001b[0m         observables\u001b[39m=\u001b[39m[observables] \u001b[39m*\u001b[39m \u001b[39mself\u001b[39m\u001b[39m.\u001b[39mbatch_size,\n\u001b[1;32m    867\u001b[0m         parameter_values\u001b[39m=\u001b[39mreshaped_params,\n\u001b[1;32m    868\u001b[0m         shots\u001b[39m=\u001b[39m\u001b[39mint\u001b[39m(np\u001b[39m.\u001b[39mmax(pauli_shots) \u001b[39m*\u001b[39m \u001b[39mself\u001b[39m\u001b[39m.\u001b[39mn_shots),\n\u001b[1;32m    869\u001b[0m     )\n\u001b[0;32m--> 871\u001b[0m     reward_table \u001b[39m=\u001b[39m job\u001b[39m.\u001b[39;49mresult()\u001b[39m.\u001b[39mvalues\n\u001b[1;32m    872\u001b[0m \u001b[39mexcept\u001b[39;00m \u001b[39mException\u001b[39;00m \u001b[39mas\u001b[39;00m exc:\n\u001b[1;32m    873\u001b[0m     \u001b[39mself\u001b[39m\u001b[39m.\u001b[39mclose()\n",
      "File \u001b[0;32m~/Library/Python/3.9/lib/python/site-packages/qiskit/primitives/primitive_job.py:55\u001b[0m, in \u001b[0;36mPrimitiveJob.result\u001b[0;34m(self)\u001b[0m\n\u001b[1;32m     53\u001b[0m \u001b[39m\u001b[39m\u001b[39m\"\"\"Return the results of the job.\"\"\"\u001b[39;00m\n\u001b[1;32m     54\u001b[0m \u001b[39mself\u001b[39m\u001b[39m.\u001b[39m_check_submitted()\n\u001b[0;32m---> 55\u001b[0m \u001b[39mreturn\u001b[39;00m \u001b[39mself\u001b[39;49m\u001b[39m.\u001b[39;49m_future\u001b[39m.\u001b[39;49mresult()\n",
      "File \u001b[0;32m/Library/Developer/CommandLineTools/Library/Frameworks/Python3.framework/Versions/3.9/lib/python3.9/concurrent/futures/_base.py:445\u001b[0m, in \u001b[0;36mFuture.result\u001b[0;34m(self, timeout)\u001b[0m\n\u001b[1;32m    443\u001b[0m     \u001b[39mraise\u001b[39;00m CancelledError()\n\u001b[1;32m    444\u001b[0m \u001b[39melif\u001b[39;00m \u001b[39mself\u001b[39m\u001b[39m.\u001b[39m_state \u001b[39m==\u001b[39m FINISHED:\n\u001b[0;32m--> 445\u001b[0m     \u001b[39mreturn\u001b[39;00m \u001b[39mself\u001b[39;49m\u001b[39m.\u001b[39;49m__get_result()\n\u001b[1;32m    446\u001b[0m \u001b[39melse\u001b[39;00m:\n\u001b[1;32m    447\u001b[0m     \u001b[39mraise\u001b[39;00m \u001b[39mTimeoutError\u001b[39;00m()\n",
      "File \u001b[0;32m/Library/Developer/CommandLineTools/Library/Frameworks/Python3.framework/Versions/3.9/lib/python3.9/concurrent/futures/_base.py:390\u001b[0m, in \u001b[0;36mFuture.__get_result\u001b[0;34m(self)\u001b[0m\n\u001b[1;32m    388\u001b[0m \u001b[39mif\u001b[39;00m \u001b[39mself\u001b[39m\u001b[39m.\u001b[39m_exception:\n\u001b[1;32m    389\u001b[0m     \u001b[39mtry\u001b[39;00m:\n\u001b[0;32m--> 390\u001b[0m         \u001b[39mraise\u001b[39;00m \u001b[39mself\u001b[39m\u001b[39m.\u001b[39m_exception\n\u001b[1;32m    391\u001b[0m     \u001b[39mfinally\u001b[39;00m:\n\u001b[1;32m    392\u001b[0m         \u001b[39m# Break a reference cycle with the exception in self._exception\u001b[39;00m\n\u001b[1;32m    393\u001b[0m         \u001b[39mself\u001b[39m \u001b[39m=\u001b[39m \u001b[39mNone\u001b[39;00m\n",
      "File \u001b[0;32m/Library/Developer/CommandLineTools/Library/Frameworks/Python3.framework/Versions/3.9/lib/python3.9/concurrent/futures/thread.py:52\u001b[0m, in \u001b[0;36m_WorkItem.run\u001b[0;34m(self)\u001b[0m\n\u001b[1;32m     49\u001b[0m     \u001b[39mreturn\u001b[39;00m\n\u001b[1;32m     51\u001b[0m \u001b[39mtry\u001b[39;00m:\n\u001b[0;32m---> 52\u001b[0m     result \u001b[39m=\u001b[39m \u001b[39mself\u001b[39;49m\u001b[39m.\u001b[39;49mfn(\u001b[39m*\u001b[39;49m\u001b[39mself\u001b[39;49m\u001b[39m.\u001b[39;49margs, \u001b[39m*\u001b[39;49m\u001b[39m*\u001b[39;49m\u001b[39mself\u001b[39;49m\u001b[39m.\u001b[39;49mkwargs)\n\u001b[1;32m     53\u001b[0m \u001b[39mexcept\u001b[39;00m \u001b[39mBaseException\u001b[39;00m \u001b[39mas\u001b[39;00m exc:\n\u001b[1;32m     54\u001b[0m     \u001b[39mself\u001b[39m\u001b[39m.\u001b[39mfuture\u001b[39m.\u001b[39mset_exception(exc)\n",
      "File \u001b[0;32m~/Library/Python/3.9/lib/python/site-packages/qiskit/primitives/backend_estimator.py:251\u001b[0m, in \u001b[0;36mBackendEstimator._call\u001b[0;34m(self, circuits, observables, parameter_values, **run_options)\u001b[0m\n\u001b[1;32m    241\u001b[0m \u001b[39mdef\u001b[39;00m \u001b[39m_call\u001b[39m(\n\u001b[1;32m    242\u001b[0m     \u001b[39mself\u001b[39m,\n\u001b[1;32m    243\u001b[0m     circuits: Sequence[\u001b[39mint\u001b[39m],\n\u001b[0;32m   (...)\u001b[0m\n\u001b[1;32m    248\u001b[0m \n\u001b[1;32m    249\u001b[0m     \u001b[39m# Transpile\u001b[39;00m\n\u001b[1;32m    250\u001b[0m     \u001b[39mself\u001b[39m\u001b[39m.\u001b[39m_grouping \u001b[39m=\u001b[39m \u001b[39mlist\u001b[39m(\u001b[39mzip\u001b[39m(circuits, observables))\n\u001b[0;32m--> 251\u001b[0m     transpiled_circuits \u001b[39m=\u001b[39m \u001b[39mself\u001b[39;49m\u001b[39m.\u001b[39;49mtranspiled_circuits\n\u001b[1;32m    252\u001b[0m     num_observables \u001b[39m=\u001b[39m [\u001b[39mlen\u001b[39m(m) \u001b[39mfor\u001b[39;00m (_, m) \u001b[39min\u001b[39;00m \u001b[39mself\u001b[39m\u001b[39m.\u001b[39mpreprocessed_circuits]\n\u001b[1;32m    253\u001b[0m     accum \u001b[39m=\u001b[39m [\u001b[39m0\u001b[39m] \u001b[39m+\u001b[39m \u001b[39mlist\u001b[39m(accumulate(num_observables))\n",
      "File \u001b[0;32m~/Library/Python/3.9/lib/python/site-packages/qiskit/primitives/backend_estimator.py:183\u001b[0m, in \u001b[0;36mBackendEstimator.transpiled_circuits\u001b[0;34m(self)\u001b[0m\n\u001b[1;32m    174\u001b[0m \u001b[39m@property\u001b[39m\n\u001b[1;32m    175\u001b[0m \u001b[39mdef\u001b[39;00m \u001b[39mtranspiled_circuits\u001b[39m(\u001b[39mself\u001b[39m) \u001b[39m-\u001b[39m\u001b[39m>\u001b[39m \u001b[39mlist\u001b[39m[QuantumCircuit]:\n\u001b[1;32m    176\u001b[0m \u001b[39m    \u001b[39m\u001b[39m\"\"\"\u001b[39;00m\n\u001b[1;32m    177\u001b[0m \u001b[39m    Transpiled quantum circuits.\u001b[39;00m\n\u001b[1;32m    178\u001b[0m \u001b[39m    Returns:\u001b[39;00m\n\u001b[0;32m   (...)\u001b[0m\n\u001b[1;32m    181\u001b[0m \u001b[39m        QiskitError: if the instance has been closed.\u001b[39;00m\n\u001b[1;32m    182\u001b[0m \u001b[39m    \"\"\"\u001b[39;00m\n\u001b[0;32m--> 183\u001b[0m     \u001b[39mself\u001b[39;49m\u001b[39m.\u001b[39;49m_transpile()\n\u001b[1;32m    184\u001b[0m     \u001b[39mreturn\u001b[39;00m \u001b[39mself\u001b[39m\u001b[39m.\u001b[39m_transpiled_circuits\n",
      "File \u001b[0;32m~/Library/Python/3.9/lib/python/site-packages/qiskit/primitives/backend_estimator.py:203\u001b[0m, in \u001b[0;36mBackendEstimator._transpile\u001b[0;34m(self)\u001b[0m\n\u001b[1;32m    201\u001b[0m     perm_pattern \u001b[39m=\u001b[39m \u001b[39mlist\u001b[39m(\u001b[39mrange\u001b[39m(common_circuit\u001b[39m.\u001b[39mnum_qubits))\n\u001b[1;32m    202\u001b[0m \u001b[39melse\u001b[39;00m:\n\u001b[0;32m--> 203\u001b[0m     transpiled_circuit \u001b[39m=\u001b[39m transpile(\n\u001b[1;32m    204\u001b[0m         common_circuit, \u001b[39mself\u001b[39;49m\u001b[39m.\u001b[39;49mbackend, \u001b[39m*\u001b[39;49m\u001b[39m*\u001b[39;49m\u001b[39mself\u001b[39;49m\u001b[39m.\u001b[39;49mtranspile_options\u001b[39m.\u001b[39;49m\u001b[39m__dict__\u001b[39;49m\n\u001b[1;32m    205\u001b[0m     )\n\u001b[1;32m    206\u001b[0m     \u001b[39mif\u001b[39;00m transpiled_circuit\u001b[39m.\u001b[39mlayout \u001b[39mis\u001b[39;00m \u001b[39mnot\u001b[39;00m \u001b[39mNone\u001b[39;00m:\n\u001b[1;32m    207\u001b[0m         layout \u001b[39m=\u001b[39m transpiled_circuit\u001b[39m.\u001b[39mlayout\n",
      "File \u001b[0;32m~/Library/Python/3.9/lib/python/site-packages/qiskit/compiler/transpiler.py:395\u001b[0m, in \u001b[0;36mtranspile\u001b[0;34m(circuits, backend, basis_gates, inst_map, coupling_map, backend_properties, initial_layout, layout_method, routing_method, translation_method, scheduling_method, instruction_durations, dt, approximation_degree, timing_constraints, seed_transpiler, optimization_level, callback, output_name, unitary_synthesis_method, unitary_synthesis_plugin_config, target, hls_config, init_method, optimization_method, ignore_backend_supplied_default_methods)\u001b[0m\n\u001b[1;32m    390\u001b[0m     \u001b[39melse\u001b[39;00m:\n\u001b[1;32m    391\u001b[0m         instruction_durations \u001b[39m=\u001b[39m _parse_instruction_durations(\n\u001b[1;32m    392\u001b[0m             backend, instruction_durations, dt, circuits[\u001b[39m0\u001b[39m]\n\u001b[1;32m    393\u001b[0m         )\n\u001b[0;32m--> 395\u001b[0m pm \u001b[39m=\u001b[39m generate_preset_pass_manager(\n\u001b[1;32m    396\u001b[0m     optimization_level,\n\u001b[1;32m    397\u001b[0m     backend\u001b[39m=\u001b[39;49mbackend,\n\u001b[1;32m    398\u001b[0m     target\u001b[39m=\u001b[39;49mtarget,\n\u001b[1;32m    399\u001b[0m     basis_gates\u001b[39m=\u001b[39;49mbasis_gates,\n\u001b[1;32m    400\u001b[0m     inst_map\u001b[39m=\u001b[39;49minst_map,\n\u001b[1;32m    401\u001b[0m     coupling_map\u001b[39m=\u001b[39;49mcoupling_map,\n\u001b[1;32m    402\u001b[0m     instruction_durations\u001b[39m=\u001b[39;49minstruction_durations,\n\u001b[1;32m    403\u001b[0m     backend_properties\u001b[39m=\u001b[39;49mbackend_properties,\n\u001b[1;32m    404\u001b[0m     timing_constraints\u001b[39m=\u001b[39;49mtiming_constraints,\n\u001b[1;32m    405\u001b[0m     initial_layout\u001b[39m=\u001b[39;49minitial_layout,\n\u001b[1;32m    406\u001b[0m     layout_method\u001b[39m=\u001b[39;49mlayout_method,\n\u001b[1;32m    407\u001b[0m     routing_method\u001b[39m=\u001b[39;49mrouting_method,\n\u001b[1;32m    408\u001b[0m     translation_method\u001b[39m=\u001b[39;49mtranslation_method,\n\u001b[1;32m    409\u001b[0m     scheduling_method\u001b[39m=\u001b[39;49mscheduling_method,\n\u001b[1;32m    410\u001b[0m     approximation_degree\u001b[39m=\u001b[39;49mapproximation_degree,\n\u001b[1;32m    411\u001b[0m     seed_transpiler\u001b[39m=\u001b[39;49mseed_transpiler,\n\u001b[1;32m    412\u001b[0m     unitary_synthesis_method\u001b[39m=\u001b[39;49munitary_synthesis_method,\n\u001b[1;32m    413\u001b[0m     unitary_synthesis_plugin_config\u001b[39m=\u001b[39;49munitary_synthesis_plugin_config,\n\u001b[1;32m    414\u001b[0m     hls_config\u001b[39m=\u001b[39;49mhls_config,\n\u001b[1;32m    415\u001b[0m     init_method\u001b[39m=\u001b[39;49minit_method,\n\u001b[1;32m    416\u001b[0m     optimization_method\u001b[39m=\u001b[39;49moptimization_method,\n\u001b[1;32m    417\u001b[0m     _skip_target\u001b[39m=\u001b[39;49m_skip_target,\n\u001b[1;32m    418\u001b[0m )\n\u001b[1;32m    419\u001b[0m out_circuits \u001b[39m=\u001b[39m pm\u001b[39m.\u001b[39mrun(circuits, callback\u001b[39m=\u001b[39mcallback)\n\u001b[1;32m    420\u001b[0m \u001b[39mfor\u001b[39;00m name, circ \u001b[39min\u001b[39;00m \u001b[39mzip\u001b[39m(output_name, out_circuits):\n",
      "File \u001b[0;32m~/Library/Python/3.9/lib/python/site-packages/qiskit/transpiler/preset_passmanagers/__init__.py:247\u001b[0m, in \u001b[0;36mgenerate_preset_pass_manager\u001b[0;34m(optimization_level, backend, target, basis_gates, inst_map, coupling_map, instruction_durations, backend_properties, timing_constraints, initial_layout, layout_method, routing_method, translation_method, scheduling_method, approximation_degree, seed_transpiler, unitary_synthesis_method, unitary_synthesis_plugin_config, hls_config, init_method, optimization_method, _skip_target)\u001b[0m\n\u001b[1;32m    245\u001b[0m     pm_config \u001b[39m=\u001b[39m PassManagerConfig(\u001b[39m*\u001b[39m\u001b[39m*\u001b[39mpm_options)\n\u001b[1;32m    246\u001b[0m \u001b[39mif\u001b[39;00m optimization_level \u001b[39m==\u001b[39m \u001b[39m0\u001b[39m:\n\u001b[0;32m--> 247\u001b[0m     pm \u001b[39m=\u001b[39m level_0_pass_manager(pm_config)\n\u001b[1;32m    248\u001b[0m \u001b[39melif\u001b[39;00m optimization_level \u001b[39m==\u001b[39m \u001b[39m1\u001b[39m:\n\u001b[1;32m    249\u001b[0m     pm \u001b[39m=\u001b[39m level_1_pass_manager(pm_config)\n",
      "File \u001b[0;32m~/Library/Python/3.9/lib/python/site-packages/qiskit/transpiler/preset_passmanagers/level0.py:147\u001b[0m, in \u001b[0;36mlevel_0_pass_manager\u001b[0;34m(pass_manager_config)\u001b[0m\n\u001b[1;32m    143\u001b[0m     translation \u001b[39m=\u001b[39m plugin_manager\u001b[39m.\u001b[39mget_passmanager_stage(\n\u001b[1;32m    144\u001b[0m         \u001b[39m\"\u001b[39m\u001b[39mtranslation\u001b[39m\u001b[39m\"\u001b[39m, translation_method, pass_manager_config, optimization_level\u001b[39m=\u001b[39m\u001b[39m0\u001b[39m\n\u001b[1;32m    145\u001b[0m     )\n\u001b[1;32m    146\u001b[0m \u001b[39melse\u001b[39;00m:\n\u001b[0;32m--> 147\u001b[0m     translation \u001b[39m=\u001b[39m common\u001b[39m.\u001b[39;49mgenerate_translation_passmanager(\n\u001b[1;32m    148\u001b[0m         target,\n\u001b[1;32m    149\u001b[0m         basis_gates,\n\u001b[1;32m    150\u001b[0m         translation_method,\n\u001b[1;32m    151\u001b[0m         approximation_degree,\n\u001b[1;32m    152\u001b[0m         coupling_map,\n\u001b[1;32m    153\u001b[0m         backend_properties,\n\u001b[1;32m    154\u001b[0m         unitary_synthesis_method,\n\u001b[1;32m    155\u001b[0m         unitary_synthesis_plugin_config,\n\u001b[1;32m    156\u001b[0m         hls_config,\n\u001b[1;32m    157\u001b[0m     )\n\u001b[1;32m    159\u001b[0m \u001b[39mif\u001b[39;00m (coupling_map \u001b[39mand\u001b[39;00m \u001b[39mnot\u001b[39;00m coupling_map\u001b[39m.\u001b[39mis_symmetric) \u001b[39mor\u001b[39;00m (\n\u001b[1;32m    160\u001b[0m     target \u001b[39mis\u001b[39;00m \u001b[39mnot\u001b[39;00m \u001b[39mNone\u001b[39;00m \u001b[39mand\u001b[39;00m target\u001b[39m.\u001b[39mget_non_global_operation_names(strict_direction\u001b[39m=\u001b[39m\u001b[39mTrue\u001b[39;00m)\n\u001b[1;32m    161\u001b[0m ):\n\u001b[1;32m    162\u001b[0m     pre_opt \u001b[39m=\u001b[39m common\u001b[39m.\u001b[39mgenerate_pre_op_passmanager(target, coupling_map)\n",
      "File \u001b[0;32m~/Library/Python/3.9/lib/python/site-packages/qiskit/transpiler/preset_passmanagers/common.py:427\u001b[0m, in \u001b[0;36mgenerate_translation_passmanager\u001b[0;34m(target, basis_gates, method, approximation_degree, coupling_map, backend_props, unitary_synthesis_method, unitary_synthesis_plugin_config, hls_config)\u001b[0m\n\u001b[1;32m    411\u001b[0m     unroll \u001b[39m=\u001b[39m [Unroller(basis\u001b[39m=\u001b[39mbasis_gates, target\u001b[39m=\u001b[39mtarget)]\n\u001b[1;32m    412\u001b[0m \u001b[39melif\u001b[39;00m method \u001b[39m==\u001b[39m \u001b[39m\"\u001b[39m\u001b[39mtranslator\u001b[39m\u001b[39m\"\u001b[39m:\n\u001b[1;32m    413\u001b[0m     unroll \u001b[39m=\u001b[39m [\n\u001b[1;32m    414\u001b[0m         \u001b[39m# Use unitary synthesis for basis aware decomposition of\u001b[39;00m\n\u001b[1;32m    415\u001b[0m         \u001b[39m# UnitaryGates before custom unrolling\u001b[39;00m\n\u001b[1;32m    416\u001b[0m         UnitarySynthesis(\n\u001b[1;32m    417\u001b[0m             basis_gates,\n\u001b[1;32m    418\u001b[0m             approximation_degree\u001b[39m=\u001b[39mapproximation_degree,\n\u001b[1;32m    419\u001b[0m             coupling_map\u001b[39m=\u001b[39mcoupling_map,\n\u001b[1;32m    420\u001b[0m             backend_props\u001b[39m=\u001b[39mbackend_props,\n\u001b[1;32m    421\u001b[0m             plugin_config\u001b[39m=\u001b[39munitary_synthesis_plugin_config,\n\u001b[1;32m    422\u001b[0m             method\u001b[39m=\u001b[39munitary_synthesis_method,\n\u001b[1;32m    423\u001b[0m             target\u001b[39m=\u001b[39mtarget,\n\u001b[1;32m    424\u001b[0m         ),\n\u001b[1;32m    425\u001b[0m         HighLevelSynthesis(hls_config\u001b[39m=\u001b[39mhls_config),\n\u001b[1;32m    426\u001b[0m         UnrollCustomDefinitions(sel, basis_gates\u001b[39m=\u001b[39mbasis_gates, target\u001b[39m=\u001b[39mtarget),\n\u001b[0;32m--> 427\u001b[0m         BasisTranslator(sel, basis_gates, target),\n\u001b[1;32m    428\u001b[0m     ]\n\u001b[1;32m    429\u001b[0m \u001b[39melif\u001b[39;00m method \u001b[39m==\u001b[39m \u001b[39m\"\u001b[39m\u001b[39msynthesis\u001b[39m\u001b[39m\"\u001b[39m:\n\u001b[1;32m    430\u001b[0m     unroll \u001b[39m=\u001b[39m [\n\u001b[1;32m    431\u001b[0m         \u001b[39m# # Use unitary synthesis for basis aware decomposition of\u001b[39;00m\n\u001b[1;32m    432\u001b[0m         \u001b[39m# UnitaryGates > 2q before collection\u001b[39;00m\n\u001b[0;32m   (...)\u001b[0m\n\u001b[1;32m    459\u001b[0m         HighLevelSynthesis(hls_config\u001b[39m=\u001b[39mhls_config),\n\u001b[1;32m    460\u001b[0m     ]\n",
      "File \u001b[0;32m~/Library/Python/3.9/lib/python/site-packages/qiskit/transpiler/basepasses.py:30\u001b[0m, in \u001b[0;36mMetaPass.__call__\u001b[0;34m(cls, *args, **kwargs)\u001b[0m\n\u001b[1;32m     29\u001b[0m \u001b[39mdef\u001b[39;00m \u001b[39m__call__\u001b[39m(\u001b[39mcls\u001b[39m, \u001b[39m*\u001b[39margs, \u001b[39m*\u001b[39m\u001b[39m*\u001b[39mkwargs):\n\u001b[0;32m---> 30\u001b[0m     pass_instance \u001b[39m=\u001b[39m \u001b[39mtype\u001b[39;49m\u001b[39m.\u001b[39;49m\u001b[39m__call__\u001b[39;49m(\u001b[39mcls\u001b[39;49m, \u001b[39m*\u001b[39;49margs, \u001b[39m*\u001b[39;49m\u001b[39m*\u001b[39;49mkwargs)\n\u001b[1;32m     31\u001b[0m     pass_instance\u001b[39m.\u001b[39m_hash \u001b[39m=\u001b[39m \u001b[39mhash\u001b[39m(MetaPass\u001b[39m.\u001b[39m_freeze_init_parameters(\u001b[39mcls\u001b[39m, args, kwargs))\n\u001b[1;32m     32\u001b[0m     \u001b[39mreturn\u001b[39;00m pass_instance\n",
      "File \u001b[0;32m~/Library/Python/3.9/lib/python/site-packages/qiskit/transpiler/passes/basis/basis_translator.py:116\u001b[0m, in \u001b[0;36mBasisTranslator.__init__\u001b[0;34m(self, equivalence_library, target_basis, target)\u001b[0m\n\u001b[1;32m    114\u001b[0m \u001b[39mself\u001b[39m\u001b[39m.\u001b[39m_qargs_with_non_global_operation \u001b[39m=\u001b[39m {}\n\u001b[1;32m    115\u001b[0m \u001b[39mif\u001b[39;00m target \u001b[39mis\u001b[39;00m \u001b[39mnot\u001b[39;00m \u001b[39mNone\u001b[39;00m:\n\u001b[0;32m--> 116\u001b[0m     \u001b[39mself\u001b[39m\u001b[39m.\u001b[39m_non_global_operations \u001b[39m=\u001b[39m \u001b[39mself\u001b[39;49m\u001b[39m.\u001b[39;49m_target\u001b[39m.\u001b[39;49mget_non_global_operation_names()\n\u001b[1;32m    117\u001b[0m     \u001b[39mself\u001b[39m\u001b[39m.\u001b[39m_qargs_with_non_global_operation \u001b[39m=\u001b[39m defaultdict(\u001b[39mset\u001b[39m)\n\u001b[1;32m    118\u001b[0m     \u001b[39mfor\u001b[39;00m gate \u001b[39min\u001b[39;00m \u001b[39mself\u001b[39m\u001b[39m.\u001b[39m_non_global_operations:\n",
      "File \u001b[0;32m~/Library/Python/3.9/lib/python/site-packages/qiskit/transpiler/target.py:1128\u001b[0m, in \u001b[0;36mTarget.get_non_global_operation_names\u001b[0;34m(self, strict_direction)\u001b[0m\n\u001b[1;32m   1126\u001b[0m     size_dict[\u001b[39mlen\u001b[39m(qarg)] \u001b[39m+\u001b[39m\u001b[39m=\u001b[39m \u001b[39m1\u001b[39m\n\u001b[1;32m   1127\u001b[0m \u001b[39mfor\u001b[39;00m inst, qargs \u001b[39min\u001b[39;00m \u001b[39mself\u001b[39m\u001b[39m.\u001b[39m_gate_map\u001b[39m.\u001b[39mitems():\n\u001b[0;32m-> 1128\u001b[0m     qarg_sample \u001b[39m=\u001b[39m \u001b[39mnext\u001b[39;49m(\u001b[39miter\u001b[39;49m(qargs))\n\u001b[1;32m   1129\u001b[0m     \u001b[39mif\u001b[39;00m qarg_sample \u001b[39mis\u001b[39;00m \u001b[39mNone\u001b[39;00m:\n\u001b[1;32m   1130\u001b[0m         \u001b[39mcontinue\u001b[39;00m\n",
      "\u001b[0;31mStopIteration\u001b[0m: "
     ]
    }
   ],
   "source": [
    "for update in tqdm.tqdm(range(1, num_updates + 1)):\n",
    "    next_obs, _ = torch_env.reset(seed=seed)\n",
    "    num_steps = torch_env.episode_length(global_step)\n",
    "    next_obs = torch.Tensor(np.array([next_obs] * batchsize)).to(device)\n",
    "    next_done = torch.zeros(batchsize).to(device)\n",
    "\n",
    "    # print(\"episode length:\", num_steps)\n",
    "\n",
    "    for step in range(num_steps):\n",
    "        global_step += 1\n",
    "        obs[step] = next_obs\n",
    "        dones[step] = next_done\n",
    "\n",
    "        with torch.no_grad():\n",
    "            # print('next_obs', next_obs)\n",
    "            # print('agend(next_obs)', agent(next_obs))\n",
    "            mean_action, std_action, critic_value = agent(next_obs)\n",
    "            mean_action*=scale_factor\n",
    "            probs = Normal(mean_action, std_action)\n",
    "            action = torch.clip(probs.sample(), torch.Tensor(np.array(min_bound_actions)), torch.Tensor(np.array(max_bound_actions)))\n",
    "            logprob = probs.log_prob(action).sum(1)\n",
    "            values[step] = critic_value.flatten()\n",
    "\n",
    "        actions[step] = action\n",
    "        logprobs[step] = logprob\n",
    "        # next_obs, reward, terminated, truncated, infos = torch_env.step(action.cpu().numpy())\n",
    "        next_obs, reward, terminated, truncated, infos = torch_env.step(action.cpu().numpy())\n",
    "        done = np.logical_or(terminated, truncated)\n",
    "        rewards[step] = torch.tensor(reward).to(device)\n",
    "        next_obs = torch.Tensor(np.array([next_obs] * batchsize)).to(device)\n",
    "        next_done = torch.Tensor(np.array([int(done)] * batchsize)).to(device)\n",
    "        # Only print when at least 1 env is done\n",
    "\n",
    "        # print(f\"global_step={global_step}, episodic_return={np.mean(reward)}\")\n",
    "        writer.add_scalar(\"charts/episodic_return\", np.mean(reward), global_step)\n",
    "        writer.add_scalar(\"charts/episodic_length\", num_steps, global_step)\n",
    "\n",
    "    # bootstrap value if not done\n",
    "    with torch.no_grad():\n",
    "        next_value = agent.get_value(next_obs).reshape(1, -1)\n",
    "        advantages = torch.zeros_like(rewards).to(device)\n",
    "        lastgaelam = 0\n",
    "        for t in reversed(range(num_steps)):\n",
    "            if t == num_steps - 1:\n",
    "                nextnonterminal = 1.0 - next_done\n",
    "                nextvalues = next_value\n",
    "            else:\n",
    "                nextnonterminal = 1.0 - dones[t + 1]\n",
    "                nextvalues = values[t + 1]\n",
    "            delta = rewards[t] + gamma * nextvalues * nextnonterminal - values[t]\n",
    "            advantages[t] = lastgaelam = delta + gamma * gae_lambda * nextnonterminal * lastgaelam\n",
    "        returns = advantages + values\n",
    "\n",
    "    # flatten the batch\n",
    "    b_obs = obs.reshape((-1,) + torch_env.observation_space.shape)\n",
    "    b_logprobs = logprobs.reshape(-1)\n",
    "    b_actions = actions.reshape((-1,) + torch_env.action_space.shape)\n",
    "    b_advantages = advantages.reshape(-1)\n",
    "    b_returns = returns.reshape(-1)\n",
    "    b_values = values.reshape(-1)\n",
    "\n",
    "    # Optimizing the policy and value network\n",
    "    b_inds = np.arange(batchsize)\n",
    "    clipfracs = []\n",
    "    for epoch in range(n_epochs):\n",
    "        np.random.shuffle(b_inds)\n",
    "        for start in range(0, batchsize, minibatch_size):\n",
    "            end = start + minibatch_size\n",
    "            mb_inds = b_inds[start:end]\n",
    "            new_mean, new_sigma, new_value = agent(b_obs[mb_inds])\n",
    "            new_dist = Normal(new_mean, new_sigma)\n",
    "            new_logprob, entropy = new_dist.log_prob(b_actions[mb_inds]).sum(1), new_dist.entropy().sum(1)\n",
    "            logratio = new_logprob - b_logprobs[mb_inds] + torch.log(torch.Tensor([1e-6]))\n",
    "            ratio = logratio.exp()\n",
    "            with torch.no_grad():\n",
    "                # calculate approx_kl http://joschu.net/blog/kl-approx.html\n",
    "                old_approx_kl = (-logratio).mean()\n",
    "                approx_kl = ((ratio - 1) - logratio).mean()\n",
    "                clipfracs += [((ratio - 1.0).abs() > epsilon).float().mean().item()]\n",
    "\n",
    "            mb_advantages = b_advantages[mb_inds]\n",
    "            if normalize_advantage:  # Normalize advantage\n",
    "                mb_advantages = (mb_advantages - mb_advantages.mean()) / (mb_advantages.std() + 1e-8)\n",
    "\n",
    "            # Policy loss\n",
    "            pg_loss1 = -mb_advantages * ratio\n",
    "            pg_loss2 = -mb_advantages * torch.clamp(ratio, 1 - epsilon, 1 + epsilon)\n",
    "            pg_loss = torch.max(pg_loss1, pg_loss2).mean()\n",
    "\n",
    "            # Value loss\n",
    "            newvalue = new_value.view(-1)\n",
    "            if clip_vloss:\n",
    "                v_loss_unclipped = (newvalue - b_returns[mb_inds]) ** 2\n",
    "                v_clipped = b_values[mb_inds] + torch.clamp(\n",
    "                    newvalue - b_values[mb_inds],\n",
    "                    -clip_coef,\n",
    "                    clip_coef,\n",
    "                )\n",
    "                v_loss_clipped = (v_clipped - b_returns[mb_inds]) ** 2\n",
    "                v_loss_max = torch.max(v_loss_unclipped, v_loss_clipped)\n",
    "                v_loss = 0.5 * v_loss_max.mean()\n",
    "            else:\n",
    "                v_loss = 0.5 * ((newvalue - b_returns[mb_inds]) ** 2).mean()\n",
    "\n",
    "            entropy_loss = entropy.mean()\n",
    "            loss = pg_loss - ent_coef * entropy_loss + v_loss * critic_loss_coeff\n",
    "\n",
    "            optimizer.zero_grad()\n",
    "            loss.backward()\n",
    "            nn.utils.clip_grad_norm_(agent.parameters(), grad_clip)\n",
    "            optimizer.step()\n",
    "\n",
    "    y_pred, y_true = b_values.cpu().numpy(), b_returns.cpu().numpy()\n",
    "    var_y = np.var(y_true)\n",
    "    explained_var = np.nan if var_y == 0 else 1 - np.var(y_true - y_pred) / var_y\n",
    "    print(\"mean\", mean_action[0])\n",
    "    print(\"sigma\", std_action[0])\n",
    "    print(\"Average return:\", np.mean(torch_env.reward_history, axis=1)[-1])\n",
    "    # print(np.mean(torch_env.reward_history, axis =1)[-1])\n",
    "    #print(\"Circuit fidelity:\", torch_env.circuit_fidelity_history[-1])\n",
    "    #print(\"Avg gate fidelity:\", torch_env.avg_fidelity_history[-1])   \n",
    "    print(torch_env._get_info())\n",
    "    # TRY NOT TO MODIFY: record rewards for plotting purposes\n",
    "    writer.add_scalar(\"charts/learning_rate\", optimizer.param_groups[0][\"lr\"], global_step)\n",
    "    writer.add_scalar(\"losses/value_loss\", v_loss.item(), global_step)\n",
    "    writer.add_scalar(\"losses/avg_return\", np.mean(torch_env.reward_history, axis=1)[-1], global_step)\n",
    "    #for i in range(num_steps):\n",
    "     #   writer.add_scalar(f\"losses/avg_gate_{i}_fidelity\", torch_env.avg_fidelity_history[-1][i], global_step)\n",
    "    #writer.add_scalar(\"losses/circuit_fidelity\", torch_env.circuit_fidelity_history[-1], global_step)\n",
    "    writer.add_scalar(\"losses/policy_loss\", pg_loss.item(), global_step)\n",
    "    writer.add_scalar(\"losses/entropy\", entropy_loss.item(), global_step)\n",
    "    writer.add_scalar(\"losses/old_approx_kl\", old_approx_kl.item(), global_step)\n",
    "    writer.add_scalar(\"losses/approx_kl\", approx_kl.item(), global_step)\n",
    "    writer.add_scalar(\"losses/clipfrac\", np.mean(clipfracs), global_step)\n",
    "    writer.add_scalar(\"losses/explained_variance\", explained_var, global_step)\n",
    "    if global_step%visualization_steps == 0:\n",
    "        clear_output(wait=True) # for animation\n",
    "\n",
    "torch_env.close()\n",
    "writer.close()"
   ]
  },
  {
   "cell_type": "code",
   "execution_count": null,
   "metadata": {},
   "outputs": [],
   "source": []
  }
 ],
 "metadata": {
  "kernelspec": {
   "display_name": "Python 3",
   "language": "python",
   "name": "python3"
  },
  "language_info": {
   "codemirror_mode": {
    "name": "ipython",
    "version": 3
   },
   "file_extension": ".py",
   "mimetype": "text/x-python",
   "name": "python",
   "nbconvert_exporter": "python",
   "pygments_lexer": "ipython3",
   "version": "3.9.6"
  },
  "orig_nbformat": 4
 },
 "nbformat": 4,
 "nbformat_minor": 2
}

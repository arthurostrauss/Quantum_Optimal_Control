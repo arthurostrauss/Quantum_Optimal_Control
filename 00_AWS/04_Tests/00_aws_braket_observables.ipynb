{
 "cells": [
  {
   "cell_type": "code",
   "execution_count": 143,
   "metadata": {},
   "outputs": [],
   "source": [
    "# general imports\n",
    "import numpy as np\n",
    "import matplotlib.pyplot as plt\n",
    "import random\n",
    "%matplotlib inline\n",
    "\n",
    "# AWS imports: Import Braket SDK modules\n",
    "from braket.circuits import Circuit, Gate, Observable\n",
    "from braket.devices import LocalSimulator"
   ]
  },
  {
   "cell_type": "code",
   "execution_count": 144,
   "metadata": {},
   "outputs": [],
   "source": [
    "# set up device\n",
    "device = LocalSimulator('braket_sv')"
   ]
  },
  {
   "attachments": {},
   "cell_type": "markdown",
   "metadata": {},
   "source": [
    "Inspect all available gates"
   ]
  },
  {
   "cell_type": "code",
   "execution_count": 145,
   "metadata": {},
   "outputs": [
    {
     "name": "stdout",
     "output_type": "stream",
     "text": [
      "['CCNot', 'CNot', 'CPhaseShift', 'CPhaseShift00', 'CPhaseShift01', 'CPhaseShift10', 'CSwap', 'CV', 'CY', 'CZ', 'ECR', 'GPi', 'GPi2', 'H', 'I', 'ISwap', 'MS', 'PSwap', 'PhaseShift', 'PulseGate', 'Rx', 'Ry', 'Rz', 'S', 'Si', 'Swap', 'T', 'Ti', 'Unitary', 'V', 'Vi', 'X', 'XX', 'XY', 'Y', 'YY', 'Z', 'ZZ']\n"
     ]
    }
   ],
   "source": [
    "gate_set = [attr for attr in dir(Gate) if attr[0].isupper()]\n",
    "print(gate_set)"
   ]
  },
  {
   "cell_type": "code",
   "execution_count": 146,
   "metadata": {},
   "outputs": [
    {
     "name": "stdout",
     "output_type": "stream",
     "text": [
      "name='Sample' observables=['x', 'y', 'z', 'h', 'i', 'hermitian'] minShots=1 maxShots=9223372036854775807\n",
      "name='Expectation' observables=['x', 'y', 'z', 'h', 'i', 'hermitian'] minShots=0 maxShots=9223372036854775807\n",
      "name='Variance' observables=['x', 'y', 'z', 'h', 'i', 'hermitian'] minShots=0 maxShots=9223372036854775807\n",
      "name='Probability' observables=None minShots=0 maxShots=9223372036854775807\n",
      "name='StateVector' observables=None minShots=0 maxShots=0\n",
      "name='DensityMatrix' observables=None minShots=0 maxShots=0\n",
      "name='Amplitude' observables=None minShots=0 maxShots=0\n"
     ]
    }
   ],
   "source": [
    "for iter in device.properties.action['braket.ir.jaqcd.program'].supportedResultTypes:\n",
    "    print(iter)"
   ]
  },
  {
   "cell_type": "code",
   "execution_count": 147,
   "metadata": {},
   "outputs": [],
   "source": [
    "# For now, only stick to one-qubit gates\n",
    "list_operators = ['CNot', 'H', 'I', 'Rx', 'Ry', 'Rz', 'X', 'Y', 'Z']"
   ]
  },
  {
   "cell_type": "code",
   "execution_count": 148,
   "metadata": {},
   "outputs": [],
   "source": [
    "def get_random_circuit(n_qubits, operators):\n",
    "    \"\"\"\n",
    "    Generate a random quantum circuit for a given number of qubits and a list of operators.\n",
    "    \"\"\"\n",
    "    \n",
    "    qc = Circuit()\n",
    "\n",
    "    for q in range(n_qubits):\n",
    "        gate = np.random.choice(operators)\n",
    "            \n",
    "        if gate == 'CNot':\n",
    "            control_qubit = random.randint(0, n_qubits - 1)\n",
    "            target_qubit = random.choice([i for i in range(n_qubits) if i != control_qubit])\n",
    "            qc.cnot(control=control_qubit, target=target_qubit)\n",
    "        elif gate == 'H':\n",
    "            qc.h(q)\n",
    "        elif gate == 'I':\n",
    "            qc.i(q)\n",
    "        elif gate == 'X':\n",
    "            qc.x(q)\n",
    "        elif gate == 'Y':\n",
    "            qc.y(q)\n",
    "        elif gate == 'Z':\n",
    "            qc.z(q)    \n",
    "        elif gate == 'Rx':\n",
    "            angle = round(random.uniform(0, 2*np.pi), 2)\n",
    "            qc.rx(q, angle)\n",
    "        elif gate == 'Ry':\n",
    "            angle = round(random.uniform(0, 2*np.pi), 2)\n",
    "            qc.ry(q, angle)\n",
    "        elif gate == 'Rz':\n",
    "            angle = round(random.uniform(0, 2*np.pi), 2)\n",
    "            qc.rz(q, angle)    \n",
    "\n",
    "    return qc"
   ]
  },
  {
   "cell_type": "code",
   "execution_count": 149,
   "metadata": {},
   "outputs": [],
   "source": [
    "n_qubits = 2"
   ]
  },
  {
   "cell_type": "code",
   "execution_count": 150,
   "metadata": {},
   "outputs": [
    {
     "name": "stdout",
     "output_type": "stream",
     "text": [
      "T  : |0|\n",
      "        \n",
      "q0 : -H-\n",
      "        \n",
      "q1 : -Y-\n",
      "\n",
      "T  : |0|\n"
     ]
    }
   ],
   "source": [
    "circ = get_random_circuit(n_qubits=n_qubits, operators=list_operators)\n",
    "print(circ)"
   ]
  },
  {
   "cell_type": "code",
   "execution_count": 151,
   "metadata": {},
   "outputs": [],
   "source": [
    "# circ.state_vector()"
   ]
  },
  {
   "cell_type": "code",
   "execution_count": 152,
   "metadata": {},
   "outputs": [
    {
     "data": {
      "text/plain": [
       "'# get measurement shots\\ncounts = result.measurement_counts\\n# print counts\\nlist_one = list(counts)[0]\\narray_one = np.array([list_one])'"
      ]
     },
     "execution_count": 152,
     "metadata": {},
     "output_type": "execute_result"
    }
   ],
   "source": [
    "# run circuit\n",
    "\"\"\"m_shots = 1\n",
    "state_vector = device.run(circ, shots=0).result().values[0]\n",
    "print(state_vector)\"\"\"\n",
    "\n",
    "\"\"\"# get measurement shots\n",
    "counts = result.measurement_counts\n",
    "# print counts\n",
    "list_one = list(counts)[0]\n",
    "array_one = np.array([list_one])\"\"\"\n",
    "\n",
    "# print(counts)"
   ]
  },
  {
   "cell_type": "code",
   "execution_count": 153,
   "metadata": {},
   "outputs": [
    {
     "name": "stdout",
     "output_type": "stream",
     "text": [
      "1.0\n"
     ]
    }
   ],
   "source": [
    "circ.expectation(observable=Observable.X(), target=0)\n",
    "exp_value = device.run(circ, shots=100).result().values[0]\n",
    "print(exp_value)"
   ]
  },
  {
   "attachments": {},
   "cell_type": "markdown",
   "metadata": {},
   "source": [
    "## Use Qiskit modules run on AWS LocalBackend"
   ]
  },
  {
   "cell_type": "code",
   "execution_count": 169,
   "metadata": {},
   "outputs": [],
   "source": [
    "from qiskit.circuit.random import random_circuit\n",
    "from qiskit.quantum_info import SparsePauliOp\n",
    "from qiskit.primitives import Estimator"
   ]
  },
  {
   "cell_type": "code",
   "execution_count": 177,
   "metadata": {},
   "outputs": [
    {
     "data": {
      "text/html": [
       "<pre style=\"word-wrap: normal;white-space: pre;background: #fff0;line-height: 1.1;font-family: &quot;Courier New&quot;,Courier,monospace\">     ┌───┐┌─────────┐                               \n",
       "q_0: ┤ X ├┤ P(-π/4) ├──■──────────────■─────────────\n",
       "     └─┬─┘└─────────┘┌─┴─┐┌────────┐┌─┴─┐┌─────────┐\n",
       "q_1: ──■─────────────┤ X ├┤ P(π/4) ├┤ X ├┤ P(-π/4) ├\n",
       "                     └───┘└────────┘└───┘└─────────┘</pre>"
      ],
      "text/plain": [
       "     ┌───┐┌─────────┐                               \n",
       "q_0: ┤ X ├┤ P(-π/4) ├──■──────────────■─────────────\n",
       "     └─┬─┘└─────────┘┌─┴─┐┌────────┐┌─┴─┐┌─────────┐\n",
       "q_1: ──■─────────────┤ X ├┤ P(π/4) ├┤ X ├┤ P(-π/4) ├\n",
       "                     └───┘└────────┘└───┘└─────────┘"
      ]
     },
     "metadata": {},
     "output_type": "display_data"
    }
   ],
   "source": [
    "circuit = random_circuit(2, 2, seed=1).decompose(reps=1)\n",
    "display(circuit.draw())"
   ]
  },
  {
   "cell_type": "code",
   "execution_count": 171,
   "metadata": {},
   "outputs": [],
   "source": [
    "estimator = Estimator()"
   ]
  },
  {
   "cell_type": "code",
   "execution_count": 174,
   "metadata": {},
   "outputs": [
    {
     "name": "stdout",
     "output_type": "stream",
     "text": [
      ">>> Observable: ['IZ']\n"
     ]
    }
   ],
   "source": [
    "observable = SparsePauliOp(\"IZ\")\n",
    "print(f\">>> Observable: {observable.paulis}\")"
   ]
  },
  {
   "cell_type": "code",
   "execution_count": 175,
   "metadata": {},
   "outputs": [
    {
     "name": "stdout",
     "output_type": "stream",
     "text": [
      "  > Expectation value: 1.0\n"
     ]
    }
   ],
   "source": [
    "job = estimator.run(circuit, observable)\n",
    "result = job.result()\n",
    "print(f\"  > Expectation value: {result.values[0]}\")"
   ]
  },
  {
   "cell_type": "code",
   "execution_count": null,
   "metadata": {},
   "outputs": [],
   "source": []
  },
  {
   "attachments": {},
   "cell_type": "markdown",
   "metadata": {},
   "source": [
    "## PennyLane"
   ]
  },
  {
   "cell_type": "code",
   "execution_count": 207,
   "metadata": {},
   "outputs": [
    {
     "name": "stdout",
     "output_type": "stream",
     "text": [
      "Number of qubits:  1\n"
     ]
    }
   ],
   "source": [
    "import pennylane as qml\n",
    "from pennylane import numpy as np\n",
    "import matplotlib.pyplot as plt\n",
    "\n",
    "n_qubits = 1\n",
    "\n",
    "print('Number of qubits: ', n_qubits)\n",
    "device = qml.device('default.qubit', wires=n_qubits)"
   ]
  },
  {
   "cell_type": "code",
   "execution_count": 208,
   "metadata": {},
   "outputs": [],
   "source": [
    "@qml.qnode(device)\n",
    "def circuit(theta):\n",
    "    qml.RX(theta, wires=0)\n",
    "    return qml.probs(wires=0)"
   ]
  },
  {
   "cell_type": "code",
   "execution_count": 209,
   "metadata": {},
   "outputs": [
    {
     "data": {
      "text/plain": [
       "[<matplotlib.lines.Line2D at 0x29ab21b70>]"
      ]
     },
     "execution_count": 209,
     "metadata": {},
     "output_type": "execute_result"
    },
    {
     "data": {
      "image/png": "[encoded data removed]",
      "text/plain": [
       "<Figure size 640x480 with 1 Axes>"
      ]
     },
     "metadata": {},
     "output_type": "display_data"
    }
   ],
   "source": [
    "thetas = np.arange(0, 2 * np.pi, 0.05)\n",
    "probs_one_state = np.array([circuit(theta)[1] for theta in thetas])\n",
    "plt.plot(thetas, probs_one_state)"
   ]
  },
  {
   "cell_type": "code",
   "execution_count": 220,
   "metadata": {},
   "outputs": [
    {
     "name": "stdout",
     "output_type": "stream",
     "text": [
      "Optimal rotation angle:  1.0027 pi\n"
     ]
    }
   ],
   "source": [
    "print('Optimal rotation angle: ', np.round(thetas[np.argmax(probs_one_state)] / np.pi, 4), 'pi')"
   ]
  }
 ],
 "metadata": {
  "kernelspec": {
   "display_name": "aws_braket",
   "language": "python",
   "name": "python3"
  },
  "language_info": {
   "codemirror_mode": {
    "name": "ipython",
    "version": 3
   },
   "file_extension": ".py",
   "mimetype": "text/x-python",
   "name": "python",
   "nbconvert_exporter": "python",
   "pygments_lexer": "ipython3",
   "version": "3.10.13"
  },
  "orig_nbformat": 4
 },
 "nbformat": 4,
 "nbformat_minor": 2
}

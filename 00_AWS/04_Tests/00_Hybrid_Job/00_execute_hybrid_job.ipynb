{
 "cells": [
  {
   "cell_type": "code",
   "execution_count": 1,
   "metadata": {},
   "outputs": [
    {
     "ename": "ClientError",
     "evalue": "An error occurred (InvalidClientTokenId) when calling the ListRoles operation: The security token included in the request is invalid.",
     "output_type": "error",
     "traceback": [
      "\u001b[0;31m---------------------------------------------------------------------------\u001b[0m",
      "\u001b[0;31mClientError\u001b[0m                               Traceback (most recent call last)",
      "Cell \u001b[0;32mIn[1], line 3\u001b[0m\n\u001b[1;32m      1\u001b[0m \u001b[39mfrom\u001b[39;00m \u001b[39mbraket\u001b[39;00m\u001b[39m.\u001b[39;00m\u001b[39mjobs\u001b[39;00m\u001b[39m.\u001b[39;00m\u001b[39mlocal\u001b[39;00m \u001b[39mimport\u001b[39;00m LocalQuantumJob\n\u001b[0;32m----> 3\u001b[0m job \u001b[39m=\u001b[39m LocalQuantumJob\u001b[39m.\u001b[39;49mcreate(\n\u001b[1;32m      4\u001b[0m     device\u001b[39m=\u001b[39;49m\u001b[39m\"\u001b[39;49m\u001b[39marn:aws:braket:::device/quantum-simulator/amazon/sv1\u001b[39;49m\u001b[39m\"\u001b[39;49m,\n\u001b[1;32m      5\u001b[0m     source_module\u001b[39m=\u001b[39;49m\u001b[39m\"\u001b[39;49m\u001b[39malgorithm_script.py\u001b[39;49m\u001b[39m\"\u001b[39;49m,\n\u001b[1;32m      6\u001b[0m     entry_point\u001b[39m=\u001b[39;49m\u001b[39m\"\u001b[39;49m\u001b[39malgorithm_script:start_here\u001b[39;49m\u001b[39m\"\u001b[39;49m,\n\u001b[1;32m      7\u001b[0m )\n",
      "File \u001b[0;32m~/anaconda3/envs/aws_braket/lib/python3.10/site-packages/braket/jobs/local/local_job.py:121\u001b[0m, in \u001b[0;36mLocalQuantumJob.create\u001b[0;34m(cls, device, source_module, entry_point, image_uri, job_name, code_location, role_arn, hyperparameters, input_data, output_data_config, checkpoint_config, aws_session, local_container_update)\u001b[0m\n\u001b[1;32m     36\u001b[0m \u001b[39m@classmethod\u001b[39m\n\u001b[1;32m     37\u001b[0m \u001b[39mdef\u001b[39;00m \u001b[39mcreate\u001b[39m(\n\u001b[1;32m     38\u001b[0m     \u001b[39mcls\u001b[39m,\n\u001b[0;32m   (...)\u001b[0m\n\u001b[1;32m     51\u001b[0m     local_container_update: \u001b[39mbool\u001b[39m \u001b[39m=\u001b[39m \u001b[39mTrue\u001b[39;00m,\n\u001b[1;32m     52\u001b[0m ) \u001b[39m-\u001b[39m\u001b[39m>\u001b[39m LocalQuantumJob:\n\u001b[1;32m     53\u001b[0m \u001b[39m    \u001b[39m\u001b[39m\"\"\"Creates and runs hybrid job by setting up and running the customer script in a local\u001b[39;00m\n\u001b[1;32m     54\u001b[0m \u001b[39m    docker container.\u001b[39;00m\n\u001b[1;32m     55\u001b[0m \n\u001b[0;32m   (...)\u001b[0m\n\u001b[1;32m    119\u001b[0m \u001b[39m        LocalQuantumJob: The representation of a local Braket Hybrid Job.\u001b[39;00m\n\u001b[1;32m    120\u001b[0m \u001b[39m    \"\"\"\u001b[39;00m\n\u001b[0;32m--> 121\u001b[0m     create_job_kwargs \u001b[39m=\u001b[39m prepare_quantum_job(\n\u001b[1;32m    122\u001b[0m         device\u001b[39m=\u001b[39;49mdevice,\n\u001b[1;32m    123\u001b[0m         source_module\u001b[39m=\u001b[39;49msource_module,\n\u001b[1;32m    124\u001b[0m         entry_point\u001b[39m=\u001b[39;49mentry_point,\n\u001b[1;32m    125\u001b[0m         image_uri\u001b[39m=\u001b[39;49mimage_uri,\n\u001b[1;32m    126\u001b[0m         job_name\u001b[39m=\u001b[39;49mjob_name,\n\u001b[1;32m    127\u001b[0m         code_location\u001b[39m=\u001b[39;49mcode_location,\n\u001b[1;32m    128\u001b[0m         role_arn\u001b[39m=\u001b[39;49mrole_arn,\n\u001b[1;32m    129\u001b[0m         hyperparameters\u001b[39m=\u001b[39;49mhyperparameters,\n\u001b[1;32m    130\u001b[0m         input_data\u001b[39m=\u001b[39;49minput_data,\n\u001b[1;32m    131\u001b[0m         output_data_config\u001b[39m=\u001b[39;49moutput_data_config,\n\u001b[1;32m    132\u001b[0m         checkpoint_config\u001b[39m=\u001b[39;49mcheckpoint_config,\n\u001b[1;32m    133\u001b[0m         aws_session\u001b[39m=\u001b[39;49maws_session,\n\u001b[1;32m    134\u001b[0m     )\n\u001b[1;32m    136\u001b[0m     job_name \u001b[39m=\u001b[39m create_job_kwargs[\u001b[39m\"\u001b[39m\u001b[39mjobName\u001b[39m\u001b[39m\"\u001b[39m]\n\u001b[1;32m    137\u001b[0m     \u001b[39mif\u001b[39;00m os\u001b[39m.\u001b[39mpath\u001b[39m.\u001b[39misdir(job_name):\n",
      "File \u001b[0;32m~/anaconda3/envs/aws_braket/lib/python3.10/site-packages/braket/jobs/quantum_job_creation.py:159\u001b[0m, in \u001b[0;36mprepare_quantum_job\u001b[0;34m(device, source_module, entry_point, image_uri, job_name, code_location, role_arn, hyperparameters, input_data, instance_config, distribution, stopping_condition, output_data_config, copy_checkpoints_from_job, checkpoint_config, aws_session, tags)\u001b[0m\n\u001b[1;32m    157\u001b[0m device_config \u001b[39m=\u001b[39m DeviceConfig(device)\n\u001b[1;32m    158\u001b[0m job_name \u001b[39m=\u001b[39m job_name \u001b[39mor\u001b[39;00m _generate_default_job_name(image_uri\u001b[39m=\u001b[39mimage_uri)\n\u001b[0;32m--> 159\u001b[0m role_arn \u001b[39m=\u001b[39m role_arn \u001b[39mor\u001b[39;00m os\u001b[39m.\u001b[39mgetenv(\u001b[39m\"\u001b[39m\u001b[39mBRAKET_JOBS_ROLE_ARN\u001b[39m\u001b[39m\"\u001b[39m, aws_session\u001b[39m.\u001b[39;49mget_default_jobs_role())\n\u001b[1;32m    160\u001b[0m hyperparameters \u001b[39m=\u001b[39m hyperparameters \u001b[39mor\u001b[39;00m {}\n\u001b[1;32m    161\u001b[0m hyperparameters \u001b[39m=\u001b[39m {\u001b[39mstr\u001b[39m(key): \u001b[39mstr\u001b[39m(value) \u001b[39mfor\u001b[39;00m key, value \u001b[39min\u001b[39;00m hyperparameters\u001b[39m.\u001b[39mitems()}\n",
      "File \u001b[0;32m~/anaconda3/envs/aws_braket/lib/python3.10/site-packages/braket/aws/aws_session.py:304\u001b[0m, in \u001b[0;36mAwsSession.get_default_jobs_role\u001b[0;34m(self)\u001b[0m\n\u001b[1;32m    290\u001b[0m \u001b[39m\u001b[39m\u001b[39m\"\"\"\u001b[39;00m\n\u001b[1;32m    291\u001b[0m \u001b[39mReturns the role ARN for the default hybrid jobs role created in the Amazon Braket Console.\u001b[39;00m\n\u001b[1;32m    292\u001b[0m \u001b[39mIt will pick the first role it finds with the `RoleName` prefix\u001b[39;00m\n\u001b[0;32m   (...)\u001b[0m\n\u001b[1;32m    301\u001b[0m \u001b[39m    `/service-role/AmazonBraketJobsExecutionRole`.\u001b[39;00m\n\u001b[1;32m    302\u001b[0m \u001b[39m\"\"\"\u001b[39;00m\n\u001b[1;32m    303\u001b[0m roles_paginator \u001b[39m=\u001b[39m \u001b[39mself\u001b[39m\u001b[39m.\u001b[39miam_client\u001b[39m.\u001b[39mget_paginator(\u001b[39m\"\u001b[39m\u001b[39mlist_roles\u001b[39m\u001b[39m\"\u001b[39m)\n\u001b[0;32m--> 304\u001b[0m \u001b[39mfor\u001b[39;00m page \u001b[39min\u001b[39;00m roles_paginator\u001b[39m.\u001b[39mpaginate(PathPrefix\u001b[39m=\u001b[39m\u001b[39m\"\u001b[39m\u001b[39m/service-role/\u001b[39m\u001b[39m\"\u001b[39m):\n\u001b[1;32m    305\u001b[0m     \u001b[39mfor\u001b[39;00m role \u001b[39min\u001b[39;00m page\u001b[39m.\u001b[39mget(\u001b[39m\"\u001b[39m\u001b[39mRoles\u001b[39m\u001b[39m\"\u001b[39m, []):\n\u001b[1;32m    306\u001b[0m         \u001b[39mif\u001b[39;00m role[\u001b[39m\"\u001b[39m\u001b[39mRoleName\u001b[39m\u001b[39m\"\u001b[39m]\u001b[39m.\u001b[39mstartswith(\u001b[39m\"\u001b[39m\u001b[39mAmazonBraketJobsExecutionRole\u001b[39m\u001b[39m\"\u001b[39m):\n",
      "File \u001b[0;32m~/anaconda3/envs/aws_braket/lib/python3.10/site-packages/botocore/paginate.py:269\u001b[0m, in \u001b[0;36mPageIterator.__iter__\u001b[0;34m(self)\u001b[0m\n\u001b[1;32m    267\u001b[0m \u001b[39mself\u001b[39m\u001b[39m.\u001b[39m_inject_starting_params(current_kwargs)\n\u001b[1;32m    268\u001b[0m \u001b[39mwhile\u001b[39;00m \u001b[39mTrue\u001b[39;00m:\n\u001b[0;32m--> 269\u001b[0m     response \u001b[39m=\u001b[39m \u001b[39mself\u001b[39;49m\u001b[39m.\u001b[39;49m_make_request(current_kwargs)\n\u001b[1;32m    270\u001b[0m     parsed \u001b[39m=\u001b[39m \u001b[39mself\u001b[39m\u001b[39m.\u001b[39m_extract_parsed_response(response)\n\u001b[1;32m    271\u001b[0m     \u001b[39mif\u001b[39;00m first_request:\n\u001b[1;32m    272\u001b[0m         \u001b[39m# The first request is handled differently.  We could\u001b[39;00m\n\u001b[1;32m    273\u001b[0m         \u001b[39m# possibly have a resume/starting token that tells us where\u001b[39;00m\n\u001b[1;32m    274\u001b[0m         \u001b[39m# to index into the retrieved page.\u001b[39;00m\n",
      "File \u001b[0;32m~/anaconda3/envs/aws_braket/lib/python3.10/site-packages/botocore/paginate.py:357\u001b[0m, in \u001b[0;36mPageIterator._make_request\u001b[0;34m(self, current_kwargs)\u001b[0m\n\u001b[1;32m    356\u001b[0m \u001b[39mdef\u001b[39;00m \u001b[39m_make_request\u001b[39m(\u001b[39mself\u001b[39m, current_kwargs):\n\u001b[0;32m--> 357\u001b[0m     \u001b[39mreturn\u001b[39;00m \u001b[39mself\u001b[39;49m\u001b[39m.\u001b[39;49m_method(\u001b[39m*\u001b[39;49m\u001b[39m*\u001b[39;49mcurrent_kwargs)\n",
      "File \u001b[0;32m~/anaconda3/envs/aws_braket/lib/python3.10/site-packages/botocore/client.py:535\u001b[0m, in \u001b[0;36mClientCreator._create_api_method.<locals>._api_call\u001b[0;34m(self, *args, **kwargs)\u001b[0m\n\u001b[1;32m    531\u001b[0m     \u001b[39mraise\u001b[39;00m \u001b[39mTypeError\u001b[39;00m(\n\u001b[1;32m    532\u001b[0m         \u001b[39mf\u001b[39m\u001b[39m\"\u001b[39m\u001b[39m{\u001b[39;00mpy_operation_name\u001b[39m}\u001b[39;00m\u001b[39m() only accepts keyword arguments.\u001b[39m\u001b[39m\"\u001b[39m\n\u001b[1;32m    533\u001b[0m     )\n\u001b[1;32m    534\u001b[0m \u001b[39m# The \"self\" in this scope is referring to the BaseClient.\u001b[39;00m\n\u001b[0;32m--> 535\u001b[0m \u001b[39mreturn\u001b[39;00m \u001b[39mself\u001b[39;49m\u001b[39m.\u001b[39;49m_make_api_call(operation_name, kwargs)\n",
      "File \u001b[0;32m~/anaconda3/envs/aws_braket/lib/python3.10/site-packages/botocore/client.py:980\u001b[0m, in \u001b[0;36mBaseClient._make_api_call\u001b[0;34m(self, operation_name, api_params)\u001b[0m\n\u001b[1;32m    978\u001b[0m     error_code \u001b[39m=\u001b[39m parsed_response\u001b[39m.\u001b[39mget(\u001b[39m\"\u001b[39m\u001b[39mError\u001b[39m\u001b[39m\"\u001b[39m, {})\u001b[39m.\u001b[39mget(\u001b[39m\"\u001b[39m\u001b[39mCode\u001b[39m\u001b[39m\"\u001b[39m)\n\u001b[1;32m    979\u001b[0m     error_class \u001b[39m=\u001b[39m \u001b[39mself\u001b[39m\u001b[39m.\u001b[39mexceptions\u001b[39m.\u001b[39mfrom_code(error_code)\n\u001b[0;32m--> 980\u001b[0m     \u001b[39mraise\u001b[39;00m error_class(parsed_response, operation_name)\n\u001b[1;32m    981\u001b[0m \u001b[39melse\u001b[39;00m:\n\u001b[1;32m    982\u001b[0m     \u001b[39mreturn\u001b[39;00m parsed_response\n",
      "\u001b[0;31mClientError\u001b[0m: An error occurred (InvalidClientTokenId) when calling the ListRoles operation: The security token included in the request is invalid."
     ]
    }
   ],
   "source": [
    "from braket.jobs.local import LocalQuantumJob\n",
    "\n",
    "job = LocalQuantumJob.create(\n",
    "    device=\"arn:aws:braket:::device/quantum-simulator/amazon/sv1\",\n",
    "    source_module=\"algorithm_script.py\",\n",
    "    entry_point=\"algorithm_script:start_here\",\n",
    ")"
   ]
  },
  {
   "cell_type": "code",
   "execution_count": null,
   "metadata": {},
   "outputs": [],
   "source": []
  }
 ],
 "metadata": {
  "kernelspec": {
   "display_name": "aws_braket",
   "language": "python",
   "name": "python3"
  },
  "language_info": {
   "codemirror_mode": {
    "name": "ipython",
    "version": 3
   },
   "file_extension": ".py",
   "mimetype": "text/x-python",
   "name": "python",
   "nbconvert_exporter": "python",
   "pygments_lexer": "ipython3",
   "version": "3.10.13"
  },
  "orig_nbformat": 4
 },
 "nbformat": 4,
 "nbformat_minor": 2
}

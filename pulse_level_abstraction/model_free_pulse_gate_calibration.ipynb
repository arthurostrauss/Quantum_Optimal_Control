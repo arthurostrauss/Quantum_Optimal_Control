{
 "cells": [
  {
   "cell_type": "markdown",
   "id": "66ee09f1-80da-4b9f-b724-c8288fceaf5a",
   "metadata": {},
   "source": [
    "# Model-free Pulse Gate Calibration using Reinforcement Learning\n",
    "\n",
    "In this notebook, we adjust the definition of the gate to be a custom pulse sequence to be simulated by Qiskit-Dynamics package.\n",
    "\n",
    "This notebook combines previously introduced modules of Qiskit and Tensorflow, combined to the usage of Qiskit-Dynamics to handle a pulse level simulation."
   ]
  },
  {
   "cell_type": "code",
   "execution_count": null,
   "id": "77046ef9-fa51-4885-8b43-aa060c9e7af7",
   "metadata": {},
   "source": [
    "path = \"/Users/arthurstrauss/Library/CloudStorage/OneDrive-NationalUniversityofSingapore/Coding_projects/Quantum_Optimal_Control\"\n",
    "\n",
    "import os\n",
    "\n",
    "os.environ[\"KMP_DUPLICATE_LIB_OK\"] = \"True\"\n",
    "import sys\n",
    "\n",
    "module_path = os.path.abspath(os.path.join(path))\n",
    "if module_path not in sys.path:\n",
    "    sys.path.append(module_path)"
   ],
   "outputs": []
  },
  {
   "cell_type": "code",
   "execution_count": 1,
   "id": "51684300-b733-4ac6-bfbc-512f027e7ec4",
   "metadata": {
    "ExecuteTime": {
     "end_time": "2024-02-21T04:03:09.302621Z",
     "start_time": "2024-02-21T04:03:03.352502Z"
    }
   },
   "source": [
    "from quantumenvironment import QuantumEnvironment\n",
    "from qconfig import QiskitConfig\n",
    "from helper_functions import (\n",
    "    select_optimizer,\n",
    "    generate_model,\n",
    "    get_control_channel_map,\n",
    ")\n",
    "\n",
    "# Qiskit imports for building RL environment (circuit level)\n",
    "from qiskit import pulse, transpile\n",
    "from qiskit.quantum_info import Operator\n",
    "from qiskit.providers.options import Options\n",
    "from qiskit.providers import QubitProperties, BackendV1, BackendV2\n",
    "\n",
    "from qiskit_dynamics import DynamicsBackend, Solver\n",
    "from custom_jax_sim import JaxSolver\n",
    "from qiskit_dynamics.array import Array\n",
    "from qiskit.circuit import ParameterVector, QuantumCircuit, QuantumRegister, Gate\n",
    "\n",
    "# Tensorflow imports for building RL agent and framework\n",
    "import tensorflow as tf\n",
    "from tensorflow_probability.python.distributions import MultivariateNormalDiag\n",
    "from gymnasium.spaces import Box\n",
    "\n",
    "# Additional imports\n",
    "import numpy as np\n",
    "from tqdm import tqdm\n",
    "from IPython.display import clear_output\n",
    "import matplotlib.pyplot as plt\n",
    "from typing import Optional, Union, List\n",
    "\n",
    "# configure jax to use 64 bit mode\n",
    "import jax\n",
    "\n",
    "jax.config.update(\"jax_enable_x64\", True)\n",
    "# tell JAX we are using CPU\n",
    "jax.config.update(\"jax_platform_name\", \"cpu\")\n",
    "# import Array and set default backend\n",
    "\n",
    "Array.set_default_backend(\"jax\")"
   ],
   "outputs": []
  },
  {
   "cell_type": "markdown",
   "id": "fee8f687-75a9-46ff-b7e6-fc21498abc97",
   "metadata": {},
   "source": [
    "# Defining QuantumEnvironment features\n",
    "\n",
    "We provide below the details of our custom Quantum Processing Unit (QPU) we are controlling."
   ]
  },
  {
   "cell_type": "markdown",
   "id": "0e5fd4b9-4f0b-4b0b-bdd1-b75bdc466bb2",
   "metadata": {},
   "source": [
    "## Generic information characterizing the quantum system\n",
    "\n",
    "The algorithm is built upon Qiskit modules. To specify how to address our quantum system of interest, we therefore adopt the IBM approach to define a quantum backend, on which qubits are defined and can be accessed via control actions and measurements.\n",
    "\n",
    "The cell below specifies:\n",
    "- ```qubit_tgt_register```: List of qubit indices which are specifically addressed by controls , namely the ones for which we intend to calibrate a gate upon or steer them in a specific quantum state. Note that this list could include less qubits than the total number of qubits, which can be useful when one wants to take into account crosstalk effects emerging from nearest-neigbor coupling.\n",
    "- ```sampling_Paulis```: number of Pauli observables  to be sampled from the system: the algorithm relies on the ability to process measurement outcomes to estimate the expectation value of different Pauli operators. The more observables we provide for sampling, the more properties we are able to deduce with accuracy about the actual state that was created when applying our custom controls. For a single qubit, the possible Pauli operators are $\\sigma_0=I$, $\\sigma_x=X$, $\\sigma_y=Y$, $\\sigma_z=Z$. For a general multiqubit system, the Pauli observables are tensor products of those single qubit Pauli operators. The algorithm will automatically estimate which observables are the most relevant to sample based on the provided target. The probability distribution from which those observables are sampled is derived from the Direct Fidelity Estimation (equation 3, https://link.aps.org/doi/10.1103/PhysRevLett.106.230501) algorithm. \n",
    "- ```N_shots```: Indicates how many measurements shall be done for each provided circuit (that is a specific combination of an action vector and a Pauli observable to be sampled)\n",
    "- The dimension of the action vector: Indicates the number of pulse/circuit parameters that characterize our parametrized quantum circuit.\n",
    "- ```estimator_options```: Options of the Qiskit Estimator primitive. The Estimator is the Qiskit module enabling an easy computation of Pauli expectation values. One can set options to make this process more reliable (typically by doing some error mitigation techniques in post-processing). Works only with Runtime Backend at the moment\n",
    "- ```abstraction_level``` chosen to encode our quantum circuit. One can choose here to stick to the usual circuit model of quantum computing, by using the ```QuantumCircuit``` objects from Qiskit and therefore set the ```abstraction_level``` to ```\"circuit\"```. However, depending on the task at hand, one can also prefer to use a pulse description of all the operations in our circuit. This is possible by using resources of another module of Qiskit called Qiskit Dynamics. In this case, one should define the ansatz circuit above in a pulse level fashion, and the simulation done at the Hamiltonian level, and not only via statevector calculations. In this notebook we set the ```abstraction_level``` to ```\"pulse\"```. Another notebook at the gate level is available in the repo."
   ]
  },
  {
   "cell_type": "code",
   "execution_count": 2,
   "id": "ca092dce-71e1-4534-b05e-f575c80b125b",
   "metadata": {
    "ExecuteTime": {
     "end_time": "2024-02-21T04:03:09.306809Z",
     "start_time": "2024-02-21T04:03:09.304220Z"
    }
   },
   "source": [
    "def custom_pulse_schedule(\n",
    "    backend: Union[BackendV1, BackendV2],\n",
    "    qubit_tgt_register: List[int],\n",
    "    params: ParameterVector,\n",
    "    default_schedule: Optional[Union[pulse.ScheduleBlock, pulse.Schedule]] = None,\n",
    "):\n",
    "    \"\"\"\n",
    "    Define parametrization of the pulse schedule characterizing the target gate\n",
    "        :param backend: IBM Backend on which schedule shall be added\n",
    "        :param qubit_tgt_register: Qubit register on which\n",
    "        :param params: Parameters of the Schedule\n",
    "        :param default_schedule:  baseline from which one can customize the pulse parameters\n",
    "\n",
    "        :return: Parametrized Schedule\n",
    "    \"\"\"\n",
    "\n",
    "    if default_schedule is None:  # No baseline pulse, full waveform builder\n",
    "        pass\n",
    "    else:\n",
    "        # Look here for the pulse features to specifically optimize upon, for the x gate here, simply retrieve relevant\n",
    "        # parameters for the Drag pulse\n",
    "        pulse_ref = default_schedule.instructions[0][1].pulse\n",
    "\n",
    "        with pulse.build(\n",
    "            backend=backend, name=\"param_schedule\"\n",
    "        ) as parametrized_schedule:\n",
    "            pulse.play(\n",
    "                pulse.Drag(\n",
    "                    duration=pulse_ref.duration,\n",
    "                    amp=params[0],\n",
    "                    sigma=pulse_ref.sigma,\n",
    "                    beta=pulse_ref.beta,\n",
    "                    angle=pulse_ref.angle,\n",
    "                ),\n",
    "                channel=pulse.DriveChannel(qubit_tgt_register[0]),\n",
    "            )\n",
    "\n",
    "        return parametrized_schedule"
   ],
   "outputs": []
  },
  {
   "cell_type": "code",
   "execution_count": 3,
   "id": "af3f2aef-6244-4604-92a9-db67e1243cc8",
   "metadata": {
    "ExecuteTime": {
     "end_time": "2024-02-21T04:03:09.311061Z",
     "start_time": "2024-02-21T04:03:09.307237Z"
    }
   },
   "source": [
    "from typing import Dict\n",
    "\n",
    "\n",
    "# Pulse gate ansatz\n",
    "\n",
    "\n",
    "def apply_parametrized_circuit(\n",
    "    qc: QuantumCircuit,\n",
    "    params: ParameterVector,\n",
    "    q_reg: QuantumRegister,\n",
    "    n_actions: int,\n",
    "    backend: BackendV2,\n",
    "    target: Dict,\n",
    "):\n",
    "    \"\"\"\n",
    "    Define ansatz circuit to be played on Quantum Computer. Should be parametrized with Qiskit ParameterVector\n",
    "    This function is used to run the QuantumCircuit instance on a Runtime backend\n",
    "    :param qc: Quantum Circuit instance to add the gate on\n",
    "    :return:\n",
    "    \"\"\"\n",
    "    # qc.num_qubits\n",
    "\n",
    "    # x_pulse = backend.defaults().instruction_schedule_map.get('x', (qubit_tgt_register,)).instructions[0][1].pulse\n",
    "\n",
    "    # original_calibration = backend.instruction_schedule_map.get(target[\"name\"])\n",
    "    gate, physical_qubits = target[\"gate\"], target[\"register\"]\n",
    "    parametrized_gate = Gate(\n",
    "        f\"custom_{gate.name}\", gate.num_qubits, params=params.params\n",
    "    )\n",
    "    if isinstance(backend, BackendV1):\n",
    "        instruction_schedule_map = backend.defaults().instruction_schedule_map\n",
    "    else:\n",
    "        instruction_schedule_map = backend.target.instruction_schedule_map()\n",
    "    default_schedule = instruction_schedule_map.get(gate.name, physical_qubits)\n",
    "    parametrized_schedule = custom_pulse_schedule(\n",
    "        backend=backend,\n",
    "        qubit_tgt_register=physical_qubits,\n",
    "        params=params,\n",
    "        default_schedule=default_schedule,\n",
    "    )\n",
    "    qc.add_calibration(parametrized_gate, physical_qubits, parametrized_schedule)\n",
    "    qc.append(parametrized_gate, q_reg)"
   ],
   "outputs": []
  },
  {
   "cell_type": "code",
   "execution_count": 4,
   "id": "18a1ade6-8fca-4635-98e8-0322e7a024f2",
   "metadata": {
    "ExecuteTime": {
     "end_time": "2024-02-21T04:03:09.312189Z",
     "start_time": "2024-02-21T04:03:09.310662Z"
    }
   },
   "source": [
    "qubit_tgt_register = [0]  # Choose which qubits of the QPU you want to address\n",
    "sampling_Paulis = 200\n",
    "N_shots = (\n",
    "    100  # Number of shots for sampling the quantum computer for each action vector\n",
    ")\n",
    "n_actions = 1  # Choose how many control parameters in pulse/circuit parametrization\n",
    "abstraction_level = (\n",
    "    \"pulse\"  # Choose at which abstraction level the circuit ansatz is written\n",
    ")\n",
    "estimator_options = {\"resilience_level\": 0}\n",
    "batchsize = 50  # Batch size (iterate over a bunch of actions per policy to estimate expected return)\n",
    "action_space = Box(\n",
    "    low=-0.5, high=0.5, shape=(n_actions,), dtype=np.float64\n",
    ")  # Action space for the agent\n",
    "obs_space = Box(\n",
    "    low=-1, high=1, shape=(1,), dtype=np.float64\n",
    ")  # Observation space for the agent"
   ],
   "outputs": []
  },
  {
   "cell_type": "markdown",
   "id": "3b086066-11bd-40de-a362-e1b8e969364f",
   "metadata": {
    "tags": []
   },
   "source": [
    "Choose below which IBM Backend to use. As we are dealing with pulse level implementation, we can either simulate a backend using QiskitDynamics, or use a real backend that supports OpenPulse features."
   ]
  },
  {
   "cell_type": "markdown",
   "id": "4d031340-598c-4198-b340-13b1099a64cb",
   "metadata": {},
   "source": [
    "## 1. Setting up a Quantum Backend"
   ]
  },
  {
   "cell_type": "markdown",
   "id": "5aa74a2d-520e-45c6-b3bc-d39bd360b0b7",
   "metadata": {
    "tags": []
   },
   "source": [
    "### Real backend initialization\n",
    "\n",
    "Uncomment the cell below to declare a Qiskit Runtime backend. You need an internet connection and an IBM Id account to access this."
   ]
  },
  {
   "cell_type": "code",
   "execution_count": 5,
   "id": "3b95cba2-bcf0-4137-9b15-45c348b5e5bc",
   "metadata": {
    "ExecuteTime": {
     "end_time": "2024-02-21T04:03:09.316237Z",
     "start_time": "2024-02-21T04:03:09.312408Z"
    }
   },
   "source": [
    "\"\"\"\n",
    "Real backend initialization:\n",
    "Run this cell only if intending to use a real backend, where Qiskit Runtime is enabled\n",
    "\"\"\"\n",
    "\n",
    "from qiskit_ibm_runtime import QiskitRuntimeService\n",
    "\n",
    "backend_name = \"ibm_perth\"\n",
    "\n",
    "# service = QiskitRuntimeService(channel='ibm_quantum')\n",
    "# runtime_backend = service.get_backend(backend_name)"
   ],
   "outputs": []
  },
  {
   "cell_type": "markdown",
   "id": "8f19e9cf-d1ad-497d-b916-7967bbd1b589",
   "metadata": {
    "tags": []
   },
   "source": [
    "### Simulation backend initialization\n",
    "If you want to run the algorithm over a simulation, you can rely on Qiskit Dynamics for pulse level simulation of quantum circuits. Below we set the ground for declaring a ```DynamicsBackend```.\n",
    "\n",
    "This can be done in two ways: \n",
    "\n",
    "1. Declare a ```DynamicsBackend``` from a ```FakeBackend``` or ```IBMBackend``` instance and use the ```from_backend()``` method to retrieve the Hamiltonian description of such backend.\n",
    "2. Alternatively, you can define your own custom Hamiltonian/Linblad that should be used to simulate the multiqubit system of interest, and feed it to a ```Solver``` instance which can be used to declare the ```DynamicsBackend```.\n",
    "For more information you can check Qiskit Dynamics documentation (https://qiskit.org/documentation/dynamics/apidocs/backend.html)\n"
   ]
  },
  {
   "cell_type": "markdown",
   "id": "bb7081fc-5239-45f3-9bb8-daf5a76a6122",
   "metadata": {},
   "source": [
    "#### 1. Using ```FakeBackend``` as starting point"
   ]
  },
  {
   "cell_type": "code",
   "execution_count": 31,
   "id": "29f3ae17-fc3a-43ba-bdf2-eb82dafb947e",
   "metadata": {
    "ExecuteTime": {
     "end_time": "2024-02-21T04:08:13.168356Z",
     "start_time": "2024-02-21T04:08:13.149539Z"
    }
   },
   "source": [
    "from qiskit_ibm_runtime.fake_provider import FakeHanoi, FakeJakarta, FakeJakartaV2\n",
    "\n",
    "fake_backend = FakeJakarta()\n",
    "fake_backend_v2 = FakeJakartaV2()\n",
    "control_channel_map = get_control_channel_map(\n",
    "    fake_backend, list(range(fake_backend_v2.num_qubits))\n",
    ")\n",
    "dt = fake_backend_v2.target.dt"
   ],
   "outputs": []
  },
  {
   "cell_type": "code",
   "execution_count": 32,
   "id": "bc10f9bd-92db-4f17-91f9-f9164a816290",
   "metadata": {
    "ExecuteTime": {
     "end_time": "2024-02-21T04:08:14.505350Z",
     "start_time": "2024-02-21T04:08:14.414673Z"
    }
   },
   "source": [
    "dynamics_options = {\n",
    "    \"seed_simulator\": None,  # \"configuration\": fake_backend.configuration(),\n",
    "    \"control_channel_map\": control_channel_map,\n",
    "    # Control channels to play CR tones, should match connectivity of device\n",
    "    \"solver_options\": {\"method\": \"jax_odeint\", \"atol\": 1e-6, \"rtol\": 1e-8, \"hmax\": dt},\n",
    "}\n",
    "dynamics_backend = DynamicsBackend.from_backend(\n",
    "    fake_backend, subsystem_list=qubit_tgt_register, **dynamics_options\n",
    ")\n",
    "\n",
    "dynamics_backend.target.qubit_properties = fake_backend_v2.qubit_properties(\n",
    "    qubit_tgt_register\n",
    ")\n",
    "\n",
    "# Extract channel frequencies and Solver instance from backend to provide a pulse level simulation enabling\n",
    "# fidelity benchmarking\n",
    "calibration_files = None"
   ],
   "outputs": []
  },
  {
   "cell_type": "markdown",
   "id": "90bb5d1b-79d1-4d1c-94fd-e3aed6831809",
   "metadata": {},
   "source": [
    "#### 2. Using a custom Hamiltonian model"
   ]
  },
  {
   "cell_type": "code",
   "execution_count": 33,
   "id": "e9fcfc14-8e54-4f80-93d5-95be15104015",
   "metadata": {
    "ExecuteTime": {
     "end_time": "2024-02-21T04:08:15.445312Z",
     "start_time": "2024-02-21T04:08:15.306310Z"
    }
   },
   "source": [
    "r = 0.1e9\n",
    "\n",
    "# Frequency of the qubit transition in GHz.\n",
    "w = 5e9\n",
    "# Sample rate of the backend in ns.\n",
    "dt = 2.2222222e-10\n",
    "\n",
    "drift = 2 * np.pi * w * Operator.from_label(\"Z\") / 2\n",
    "operators = [2 * np.pi * r * Operator.from_label(\"X\") / 2]\n",
    "\n",
    "hamiltonian_solver = JaxSolver(\n",
    "    static_hamiltonian=drift,\n",
    "    hamiltonian_operators=operators,\n",
    "    rotating_frame=drift,\n",
    "    rwa_cutoff_freq=2 * 5e9,\n",
    "    hamiltonian_channels=[\"d0\"],\n",
    "    channel_carrier_freqs={\"d0\": w},\n",
    "    dt=dt,\n",
    ")\n",
    "\n",
    "custom_backend = DynamicsBackend(hamiltonian_solver, **dynamics_options)"
   ],
   "outputs": []
  },
  {
   "cell_type": "markdown",
   "id": "eca4e4fd-a2a8-4151-be05-3a34aa52f327",
   "metadata": {},
   "source": [
    "### Choose backend and define Qiskit config dictionary\n",
    "Below, set the Backend that you would like to run among the above defined backend.\n",
    "Then define the config gathering all the components enabling the definition of the ```QuantumEnvironment```.\n",
    "\n"
   ]
  },
  {
   "cell_type": "code",
   "execution_count": 34,
   "id": "ebfa0bdb-dffe-4f13-992d-998f7b3c4325",
   "metadata": {
    "ExecuteTime": {
     "end_time": "2024-02-21T04:08:16.595325Z",
     "start_time": "2024-02-21T04:08:16.592048Z"
    }
   },
   "source": [
    "# Choose backend among the set defined above: {runtime_backend, dynamics_backend, custom_backend}\n",
    "backend = dynamics_backend"
   ],
   "outputs": []
  },
  {
   "cell_type": "code",
   "source": [
    "from qiskit.circuit.library import CXGate\n",
    "from helper_functions import perform_standard_calibrations\n",
    "\n",
    "cals, results = perform_standard_calibrations(backend)"
   ],
   "metadata": {
    "collapsed": false,
    "ExecuteTime": {
     "end_time": "2024-02-21T04:08:22.710012Z",
     "start_time": "2024-02-21T04:08:16.907268Z"
    }
   },
   "id": "1fff5ef16712e262",
   "execution_count": 35,
   "outputs": []
  },
  {
   "cell_type": "markdown",
   "id": "f1121512-21c2-4245-9f73-2ffa8788a6b2",
   "metadata": {
    "tags": []
   },
   "source": [
    "## 2. Define quantum target: State preparation or Gate calibration\n",
    "\n",
    "The target of our optimal control task can be of two different types:\n",
    "1.  An arbitrary quantum state to prepare with high accuracy\n",
    "2. A Quantum Gate to be calibrated in a noise-robust manner\n",
    "\n",
    "Both targets are dictionaries that are identified with a key stating their ```target_type```, which can be either ```\"state\"``` or ```\"gate\"```.\n",
    "\n",
    "For a gate target $G$, one can add the target quantum gate with a ```\"gate\"``` argument specifying a specific instance of a Qiskit ```Gate``` object. Here, we settle for calibrating a ```XGate()```.\n",
    "Moreover, a gate calibration requires a set of input states $\\{|s_i\\rangle \\}$ to be provided, such that the agent can try to set the actions such that the fidelity between the anticipated ideal target state (calculated as  $G|s_i\\rangle$) and the output state are simultaneously maximized. To ensure a correlation between the average reward computed from the measurement outcomes and the average gate fidelity, the provided set of input states must be tomographically complete. Note that providing the set of ```input_states```as depicted below is optional and should be done only if you have a specific set to implement, by default it is internally set to the Pauli basis preparation stage.\n",
    "\n",
    "For a state target, one can provide, similarly to an input state, an ideal circuit to prepare it (```\"circuit\": QuantumCircuit```, or a density matrix (key ```\"dm\": DensityMatrix```). Below, we settle for giving a ```QuantumCircuit```for each input state, from the elementary operations present in ```qiskit.opflow```(which will be deprecated soon, and should therefore be replaced in the future by the ```QuantumCircuit```itself.\n",
    "\n",
    "Another important key that should figure in the dictionary is the ```\"register\"``` indicating the qubits indices that should be addressed by this target, i.e. upon which qubits should the target be engineered. The register can be a list of indices for qubits to be addressed in the circuit, or a ```QuantumRegister```object. If register is not provided, then by default the target register will be the list of all qubits defined up to ```Gate().num_qubits```."
   ]
  },
  {
   "cell_type": "code",
   "execution_count": 36,
   "id": "acb03d23-d682-4ff1-b6af-1adb3061b4a9",
   "metadata": {
    "ExecuteTime": {
     "end_time": "2024-02-21T04:08:22.711374Z",
     "start_time": "2024-02-21T04:08:22.708294Z"
    }
   },
   "source": [
    "from qiskit.circuit.library import XGate\n",
    "\n",
    "# Example of target gate\n",
    "X_tgt = {\"gate\": XGate(), \"physical_qubits\": qubit_tgt_register}"
   ],
   "outputs": []
  },
  {
   "cell_type": "code",
   "execution_count": 37,
   "id": "3220f58f-677b-4c79-82bc-a76f3869cc55",
   "metadata": {
    "ExecuteTime": {
     "end_time": "2024-02-21T04:08:22.715086Z",
     "start_time": "2024-02-21T04:08:22.711990Z"
    }
   },
   "source": [
    "# Choose which target to use\n",
    "target = X_tgt"
   ],
   "outputs": []
  },
  {
   "cell_type": "markdown",
   "id": "2eb21e5f-ccb6-43c9-90e9-1fbe2f41e30d",
   "metadata": {
    "tags": []
   },
   "source": [
    "## 3. Declare QuantumEnvironment object\n",
    "Running the box below declares the QuantumEnvironment instance.\n",
    "\n",
    "If selected backend is a ```DynamicsBackend```, this declaration launches a series of single qubit gate calibrations (to calibrate X and SX gate). The reason for this is that the Estimator primitive, which enables the easy calculation of Pauli expectation values, needs to append gates for doing Pauli basis rotations (SX and Rz gate)."
   ]
  },
  {
   "cell_type": "code",
   "execution_count": 38,
   "source": [
    "from qconfig import QEnvConfig, ExecutionConfig, BenchmarkConfig\n",
    "\n",
    "# Define quantum environment\n",
    "execution_config = ExecutionConfig(\n",
    "    n_shots=N_shots,\n",
    "    batch_size=batchsize,\n",
    "    n_reps=1,\n",
    "    sampling_Paulis=sampling_Paulis,\n",
    "    c_factor=1.0,\n",
    ")\n",
    "\n",
    "benchmark_config = BenchmarkConfig(benchmark_cycle=5)\n",
    "# Wrap all backend related info in one QiskitConfig\n",
    "Qiskit_setup = QiskitConfig(\n",
    "    parametrized_circuit=apply_parametrized_circuit,\n",
    "    backend=backend,\n",
    "    parametrized_circuit_kwargs={\n",
    "        \"n_actions\": n_actions,\n",
    "        \"backend\": backend,\n",
    "        \"target\": target,\n",
    "    },\n",
    "    calibration_files=calibration_files,\n",
    ")\n",
    "\n",
    "q_env_config = QEnvConfig(\n",
    "    target=target,\n",
    "    backend_config=Qiskit_setup,\n",
    "    action_space=action_space,\n",
    "    execution_config=execution_config,\n",
    "    benchmark_config=benchmark_config,\n",
    ")"
   ],
   "metadata": {
    "collapsed": false,
    "ExecuteTime": {
     "end_time": "2024-02-21T04:08:22.719812Z",
     "start_time": "2024-02-21T04:08:22.715368Z"
    }
   },
   "id": "77adfdba49876de3",
   "outputs": []
  },
  {
   "cell_type": "code",
   "execution_count": 39,
   "source": [
    "%%time\n",
    "q_env = QuantumEnvironment(q_env_config)"
   ],
   "metadata": {
    "ExecuteTime": {
     "end_time": "2024-02-21T04:08:22.742303Z",
     "start_time": "2024-02-21T04:08:22.717336Z"
    }
   },
   "id": "67ab0679-3481-4feb-aeb4-8d5232898419",
   "outputs": []
  },
  {
   "cell_type": "code",
   "source": [
    "control_channel_map"
   ],
   "metadata": {
    "collapsed": false,
    "ExecuteTime": {
     "end_time": "2024-02-21T04:08:22.828929Z",
     "start_time": "2024-02-21T04:08:22.825439Z"
    }
   },
   "id": "5327c516814c418e",
   "execution_count": 40,
   "outputs": []
  },
  {
   "cell_type": "code",
   "execution_count": 41,
   "id": "0a1429f2-4d5f-492d-9b2e-ad203eba66fe",
   "metadata": {
    "ExecuteTime": {
     "end_time": "2024-02-21T04:08:25.069517Z",
     "start_time": "2024-02-21T04:08:24.951043Z"
    }
   },
   "source": [
    "from qiskit import transpile\n",
    "\n",
    "transpile(q_env.circuit_truncations[0], dynamics_backend).draw(output=\"mpl\")"
   ],
   "outputs": []
  },
  {
   "cell_type": "markdown",
   "id": "0e4d62cd-aece-4d1f-822b-d262cd254134",
   "metadata": {},
   "source": [
    "# Defining the RL agent: PPO"
   ]
  },
  {
   "cell_type": "code",
   "execution_count": 42,
   "id": "f8dda7fc-da3f-41ca-bdc1-300880c078c5",
   "metadata": {
    "ExecuteTime": {
     "end_time": "2024-02-21T04:08:29.716483Z",
     "start_time": "2024-02-21T04:08:29.705509Z"
    }
   },
   "source": [
    "\"\"\"\n",
    "-----------------------------------------------------------------------------------------------------\n",
    "Hyperparameters for RL agent\n",
    "-----------------------------------------------------------------------------------------------------\n",
    "\"\"\"\n",
    "\n",
    "%time\n",
    "n_epochs = 200  # Number of epochs\n",
    "opti = \"Adam\"  # Optimizer choice\n",
    "eta = 0.001  # Learning rate for policy update step\n",
    "eta_2 = None  # Learning rate for critic (value function) update step\n",
    "\n",
    "use_PPO = True\n",
    "epsilon = 0.1  # Parameter for clipping value (PPO)\n",
    "grad_clip = 0.01\n",
    "critic_loss_coeff = 0.5\n",
    "optimizer = select_optimizer(\n",
    "    lr=eta, optimizer=opti, grad_clip=grad_clip, concurrent_optimization=True, lr2=eta_2\n",
    ")\n",
    "sigma_eps = 1e-3  # for numerical stability"
   ],
   "outputs": []
  },
  {
   "cell_type": "code",
   "execution_count": 43,
   "id": "8f5df469-a5a3-441f-a58c-e63a78e1e803",
   "metadata": {
    "ExecuteTime": {
     "end_time": "2024-02-21T04:08:29.889023Z",
     "start_time": "2024-02-21T04:08:29.853192Z"
    }
   },
   "source": [
    "\"\"\"\n",
    "-----------------------------------------------------------------------------------------------------\n",
    "Policy parameters\n",
    "-----------------------------------------------------------------------------------------------------\n",
    "\"\"\"\n",
    "\n",
    "N_in = obs_space.shape[\n",
    "    -1\n",
    "]  # One input for each measured qubit state (0 or 1 input for each neuron)\n",
    "hidden_units = [82, 82]  # List containing number of units in each hidden layer\n",
    "\n",
    "network = generate_model((N_in,), hidden_units, n_actions, actor_critic_together=True)\n",
    "network.summary()\n",
    "init_msmt = np.zeros(\n",
    "    (1, N_in)\n",
    ")  # Here no feedback involved, so measurement sequence is always the same"
   ],
   "outputs": []
  },
  {
   "cell_type": "code",
   "execution_count": 44,
   "id": "597d3ca1-9f9b-4b27-940d-7688f48e47a8",
   "metadata": {
    "ExecuteTime": {
     "end_time": "2024-02-21T04:08:30.323089Z",
     "start_time": "2024-02-21T04:08:30.319781Z"
    }
   },
   "source": [
    "# Plotting tools\n",
    "plt.rcParams[\"figure.dpi\"] = 300\n",
    "plt.rcParams[\"savefig.dpi\"] = 300\n",
    "avg_return = np.zeros(n_epochs)\n",
    "fidelities = np.zeros(n_epochs)\n",
    "visualization_steps = 5\n",
    "%matplotlib inline\n",
    "do_benchmark = False"
   ],
   "outputs": []
  },
  {
   "cell_type": "markdown",
   "id": "43b91628-7dc7-4f5d-b211-c1d204347e29",
   "metadata": {},
   "source": [
    "## Run algorithm"
   ]
  },
  {
   "cell_type": "code",
   "execution_count": 46,
   "id": "cf1166d2-87fe-4c5e-a8d6-3376ef96bdcb",
   "metadata": {},
   "source": [
    "\"\"\"\n",
    "-----------------------------------------------------------------------------------------------------\n",
    "Training loop\n",
    "-----------------------------------------------------------------------------------------------------\n",
    "\"\"\"\n",
    "\n",
    "%time\n",
    "q_env.clear_history()\n",
    "mu_old = tf.Variable(initial_value=network(init_msmt)[0][0], trainable=False)\n",
    "sigma_old = tf.Variable(initial_value=network(init_msmt)[1][0], trainable=False)\n",
    "\n",
    "for i in tqdm(range(n_epochs)):\n",
    "    Old_distrib = MultivariateNormalDiag(\n",
    "        loc=mu_old, scale_diag=sigma_old, validate_args=True, allow_nan_stats=False\n",
    "    )\n",
    "    obs, _ = q_env.reset()\n",
    "    print(\"\\n Epoch\", i)\n",
    "\n",
    "    with tf.GradientTape(persistent=True) as tape:\n",
    "        mu, sigma, b = network(init_msmt, training=True)\n",
    "        mu = tf.squeeze(mu, axis=0)\n",
    "        sigma = tf.squeeze(sigma, axis=0)\n",
    "        b = tf.squeeze(b, axis=0)\n",
    "\n",
    "        Policy_distrib = MultivariateNormalDiag(\n",
    "            loc=mu, scale_diag=sigma, validate_args=True, allow_nan_stats=False\n",
    "        )\n",
    "\n",
    "        action_vector = tf.stop_gradient(\n",
    "            tf.clip_by_value(Policy_distrib.sample(batchsize), -0.5, 0.5)\n",
    "        )\n",
    "        # Adjust the action vector according to params physical significance\n",
    "        reward = q_env.perform_action(action_vector)\n",
    "        advantage = reward - b\n",
    "\n",
    "        if use_PPO:\n",
    "            ratio = Policy_distrib.prob(action_vector) / (\n",
    "                tf.stop_gradient(Old_distrib.prob(action_vector)) + 1e-6\n",
    "            )\n",
    "            actor_loss = -tf.reduce_mean(\n",
    "                tf.minimum(\n",
    "                    advantage * ratio,\n",
    "                    advantage * tf.clip_by_value(ratio, 1 - epsilon, 1 + epsilon),\n",
    "                )\n",
    "            )\n",
    "        else:  # REINFORCE algorithm\n",
    "            actor_loss = -tf.reduce_mean(\n",
    "                advantage * Policy_distrib.log_prob(action_vector)\n",
    "            )\n",
    "\n",
    "        critic_loss = tf.reduce_mean(advantage**2)\n",
    "        combined_loss = actor_loss + critic_loss_coeff * critic_loss\n",
    "\n",
    "    grads = tape.gradient(combined_loss, network.trainable_variables)\n",
    "    print(\"Policy params\", np.array(mu), \"+-\", np.array(sigma))\n",
    "    # For PPO, update old parameters to have access to \"old\" policy\n",
    "    if use_PPO:\n",
    "        mu_old.assign(mu)\n",
    "        sigma_old.assign(sigma)\n",
    "\n",
    "    avg_return[i] = np.mean(q_env.reward_history, axis=1)[i]\n",
    "    print(\"Average reward\", avg_return[i])\n",
    "    if do_benchmark:\n",
    "        if target[\"target_type\"] == \"gate\":\n",
    "            fidelities[i] = q_env.avg_fidelity_history[i]\n",
    "            print(\"Average Gate fidelity\", fidelities[i])\n",
    "        else:\n",
    "            fidelities[i] = q_env.state_fidelity_history[i]\n",
    "            print(\"State fidelity\", fidelities[i])\n",
    "    if i % visualization_steps == 0:\n",
    "        clear_output(wait=True)  # for animation\n",
    "        fig, ax = plt.subplots()\n",
    "        ax.plot(\n",
    "            np.arange(1, n_epochs, visualization_steps),\n",
    "            avg_return[0:-1:visualization_steps],\n",
    "            \"-.\",\n",
    "            label=\"Average return\",\n",
    "        )\n",
    "        if do_benchmark:\n",
    "            ax.plot(\n",
    "                np.arange(1, n_epochs, visualization_steps),\n",
    "                fidelities[0:-1:visualization_steps],\n",
    "                label=\"Average Gate Fidelity\",\n",
    "            )\n",
    "        ax.set_xlabel(\"Epoch\")\n",
    "        ax.set_ylabel(\"Reward/Gate Fidelity\")\n",
    "        ax.legend()\n",
    "        plt.show()\n",
    "        if do_benchmark:\n",
    "            print(\n",
    "                \"Maximum fidelity reached so far:\",\n",
    "                np.max(fidelities),\n",
    "                \"at Epoch\",\n",
    "                np.argmax(fidelities),\n",
    "            )\n",
    "        print(\n",
    "            \"Maximum return reached so far:\",\n",
    "            np.max(avg_return),\n",
    "            \"at Epoch\",\n",
    "            np.argmax(avg_return),\n",
    "        )\n",
    "        # Apply gradients\n",
    "    optimizer.apply_gradients(zip(grads, network.trainable_variables))\n",
    "q_env.close()"
   ],
   "outputs": []
  },
  {
   "cell_type": "code",
   "source": [
    "plt.plot(\n",
    "    np.arange(0, 200, q_env.benchmark_cycle),\n",
    "    q_env.avg_fidelity_history,\n",
    "    label=\"Average gate fidelity\",\n",
    ")\n",
    "plt.plot(np.mean(q_env.reward_history, axis=1), label=\"Average reward\")\n",
    "plt.legend()"
   ],
   "metadata": {
    "collapsed": false,
    "ExecuteTime": {
     "end_time": "2024-02-21T06:45:57.875572Z",
     "start_time": "2024-02-21T06:45:57.695615Z"
    }
   },
   "id": "c426bba56685f2eb",
   "execution_count": 52,
   "outputs": []
  },
  {
   "cell_type": "code",
   "source": [],
   "metadata": {
    "collapsed": false
   },
   "id": "d0ecd69def728f55",
   "execution_count": null,
   "outputs": []
  }
 ],
 "metadata": {
  "kernelspec": {
   "display_name": "Python 3 (ipykernel)",
   "language": "python",
   "name": "python3"
  },
  "language_info": {
   "codemirror_mode": {
    "name": "ipython",
    "version": 3
   },
   "file_extension": ".py",
   "mimetype": "text/x-python",
   "name": "python",
   "nbconvert_exporter": "python",
   "pygments_lexer": "ipython3",
   "version": "3.9.16"
  }
 },
 "nbformat": 4,
 "nbformat_minor": 5
}

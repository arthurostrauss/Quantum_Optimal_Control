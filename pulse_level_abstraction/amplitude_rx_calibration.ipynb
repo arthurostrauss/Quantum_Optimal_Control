{
 "cells": [
  {
   "cell_type": "markdown",
   "id": "d9331e9f-d5cd-4435-8569-47e1ec048ad3",
   "metadata": {},
   "source": [
    "# Model-free Pulse Gate Calibration using Reinforcement Learning\n",
    "\n",
    "In this notebook, we adjust the definition of the gate to be a custom pulse sequence to be simulated by Qiskit-Dynamics package.\n",
    "\n",
    "This notebook combines previously introduced modules of Qiskit and Tensorflow, combined to the usage of Qiskit-Dynamics to handle a pulse level simulation."
   ]
  },
  {
   "cell_type": "code",
   "execution_count": 1,
   "id": "98e443cf-e771-4a82-9a3a-d36c0448330d",
   "metadata": {},
   "outputs": [
    {
     "name": "stdout",
     "output_type": "stream",
     "text": [
      "WARNING:tensorflow:Please fix your imports. Module tensorflow.python.training.tracking.base has been moved to tensorflow.python.trackable.base. The old module will be deleted in version 2.11.\n"
     ]
    }
   ],
   "source": [
    "import numpy as np\n",
    "import os\n",
    "import sys\n",
    "module_path = os.path.abspath(os.path.join('/Users/arthurstrauss/Library/CloudStorage/OneDrive-NationalUniversityofSingapore/Coding_projects/Quantum_Optimal_Control'))\n",
    "if module_path not in sys.path:\n",
    "    sys.path.append(module_path)\n",
    "from quantumenvironment import QuantumEnvironment\n",
    "from qconfig import QiskitConfig\n",
    "from helper_functions import select_optimizer, generate_model, get_control_channel_map, get_solver_and_freq_from_backend\n",
    "\n",
    "# Qiskit imports for building RL environment (circuit level)\n",
    "from qiskit import pulse, transpile\n",
    "from qiskit.quantum_info import Operator\n",
    "from qiskit.providers.options import Options\n",
    "from qiskit.providers.fake_provider import FakeHanoi, FakeJakarta\n",
    "from qiskit.providers import QubitProperties, BackendV1, BackendV2\n",
    "from qiskit_ibm_runtime import QiskitRuntimeService\n",
    "from qiskit_dynamics import DynamicsBackend, Solver\n",
    "from qiskit_dynamics.array import Array\n",
    "from qiskit.circuit import ParameterVector, QuantumCircuit, QuantumRegister, Gate, ParameterExpression\n",
    "from qiskit.extensions import CXGate, XGate, SXGate, RZGate, RXGate\n",
    "\n",
    "# Tensorflow imports for building RL agent and framework\n",
    "import tensorflow as tf\n",
    "from tensorflow_probability.python.distributions import MultivariateNormalDiag\n",
    "\n",
    "# Additional imports\n",
    "from tqdm import tqdm\n",
    "from IPython.display import clear_output\n",
    "import matplotlib.pyplot as plt\n",
    "from typing import Optional, Union, List\n",
    "# configure jax to use 64 bit mode\n",
    "import jax\n",
    "\n",
    "jax.config.update(\"jax_enable_x64\", True)\n",
    "# tell JAX we are using CPU\n",
    "jax.config.update(\"jax_platform_name\", \"cpu\")\n",
    "# import Array and set default backend\n",
    "\n",
    "Array.set_default_backend('jax')"
   ]
  },
  {
   "cell_type": "markdown",
   "id": "49ef2b6e-4e5d-4d8e-87bb-9781ba098225",
   "metadata": {},
   "source": [
    "# Defining QuantumEnvironment features\n",
    "\n",
    "We provide below the details of our custom Quantum Processing Unit (QPU) we are controlling."
   ]
  },
  {
   "cell_type": "markdown",
   "id": "c342135c-af03-44a8-a1fe-d054a842ed7e",
   "metadata": {},
   "source": [
    "## Generic information characterizing the quantum system\n",
    "\n",
    "The algorithm is built upon Qiskit modules. To specify how to address our quantum system of interest, we therefore adopt the IBM approach to define a quantum backend, on which qubits are defined and can be accessed via control actions and measurements.\n",
    "\n",
    "The cell below specifies:\n",
    "- ```n_qubits```: Number of qubits characterizing the system of interest \n",
    "- ```qubit_tgt_register```: List of qubit indices which are specifically addressed by controls , namely the ones for which we intend to calibrate a gate upon or steer them in a specific quantum state. Note that this list could include less qubits than the total number of qubits, which can be useful when one wants to take into account crosstalk effects emerging from nearest-neigbor coupling.\n",
    "- ```sampling_Paulis```: number of Pauli observables  to be sampled from the system: the algorithm relies on the ability to process measurement outcomes to estimate the expectation value of different Pauli operators. The more observables we provide for sampling, the more properties we are able to deduce with accuracy about the actual state that was created when applying our custom controls. For a single qubit, the possible Pauli operators are $\\sigma_0=I$, $\\sigma_x=X$, $\\sigma_y=Y$, $\\sigma_z=Z$. For a general multiqubit system, the Pauli observables are tensor products of those single qubit Pauli operators. The algorithm will automatically estimate which observables are the most relevant to sample based on the provided target. The probability distribution from which those observables are sampled is derived from the Direct Fidelity Estimation (equation 3, https://link.aps.org/doi/10.1103/PhysRevLett.106.230501) algorithm. \n",
    "- ```N_shots```: Indicates how many measurements shall be done for each provided circuit (that is a specific combination of an action vector and a Pauli observable to be sampled)\n",
    "- The dimension of the action vector: Indicates the number of pulse/circuit parameters that characterize our parametrized quantum circuit.\n",
    "- ```estimator_options```: Options of the Qiskit Estimator primitive. The Estimator is the Qiskit module enabling an easy computation of Pauli expectation values. One can set options to make this process more reliable (typically by doing some error mitigation techniques in post-processing). Works only with Runtime Backend at the moment\n",
    "- ```abstraction_level``` chosen to encode our quantum circuit. One can choose here to stick to the usual circuit model of quantum computing, by using the ```QuantumCircuit``` objects from Qiskit and therefore set the ```abstraction_level``` to ```\"circuit\"```. However, depending on the task at hand, one can also prefer to use a pulse description of all the operations in our circuit. This is possible by using resources of another module of Qiskit called Qiskit Dynamics. In this case, one should define the ansatz circuit above in a pulse level fashion, and the simulation done at the Hamiltonian level, and not only via statevector calculations. In this notebook we set the ```abstraction_level``` to ```\"pulse\"```. Another notebook at the gate level is available in the repo."
   ]
  },
  {
   "cell_type": "code",
   "execution_count": 2,
   "id": "a4c51057-ba8d-4851-a797-13975611432c",
   "metadata": {},
   "outputs": [],
   "source": [
    "def non_linear_amplitude(amp: Union[ParameterExpression, float], target_angle: float, pulse_ref_amp:float, a = 0., b = 0., nu= 0.1):\n",
    "    \n",
    "    white_noise = np.random.normal(0, target_angle * nu)\n",
    "    relative_amp = amp / pulse_ref_amp\n",
    "    distorted_amp = (1 + b * (relative_amp**2-1) + a * (relative_amp**4 -1))* amp\n",
    "    \n",
    "    return distorted_amp + white_noise\n",
    "    \n",
    "    "
   ]
  },
  {
   "cell_type": "code",
   "execution_count": 3,
   "id": "b3f373b8-d7b1-4321-ba02-668d094471cf",
   "metadata": {},
   "outputs": [],
   "source": [
    "def custom_pulse_schedule(backend: Union[BackendV1, BackendV2], qubit_tgt_register: Union[List[int],\n",
    "                          QuantumRegister], params: ParameterVector, target_gate: Gate,\n",
    "                          default_schedule: Optional[Union[pulse.ScheduleBlock, pulse.Schedule]] = None):\n",
    "    \"\"\"\n",
    "    Define parametrization of the pulse schedule characterizing the target gate\n",
    "        :param backend: IBM Backend on which schedule shall be added\n",
    "        :param qubit_tgt_register: Qubit register on which\n",
    "        :param params: Parameters of the Schedule\n",
    "        :param target_gate: Quantum Gate to be calibrated\n",
    "        :param default_schedule:  baseline from which one can customize the pulse parameters\n",
    "\n",
    "        :return: Parametrized Schedule\n",
    "    \"\"\"\n",
    "\n",
    "    if default_schedule is None:  # No baseline pulse, full waveform builder\n",
    "        pass\n",
    "    else:\n",
    "        pulse_ref = default_schedule.instructions[0][1].pulse\n",
    "        custom_amp = params[0]\n",
    "        if bool(target_gate.params):\n",
    "            custom_amp = non_linear_amplitude(params[0], target_gate.params[0], pulse_ref.amp)\n",
    "        \n",
    "        with pulse.build(backend=backend, name='param_schedule') as parametrized_schedule:\n",
    "            pulse.play(pulse.Drag(duration=pulse_ref.duration, amp=custom_amp, sigma=pulse_ref.sigma,\n",
    "                                  beta=pulse_ref.beta, angle=pulse_ref.angle),\n",
    "                       channel=pulse.DriveChannel(qubit_tgt_register[0]))\n",
    "\n",
    "        return parametrized_schedule"
   ]
  },
  {
   "cell_type": "code",
   "execution_count": 4,
   "id": "5ffb5233-df91-4484-bc29-1ac1ffead6db",
   "metadata": {},
   "outputs": [],
   "source": [
    "# Pulse gate ansatz\n",
    "\n",
    "def apply_parametrized_circuit(qc: QuantumCircuit):\n",
    "    \"\"\"\n",
    "    Define ansatz circuit to be played on Quantum Computer. Should be parametrized with Qiskit ParameterVector\n",
    "    This function is used to run the QuantumCircuit instance on a Runtime backend\n",
    "    :param qc: Quantum Circuit instance to add the gate on\n",
    "    :return:\n",
    "    \"\"\"\n",
    "    # qc.num_qubits\n",
    "    global n_actions, backend, qubit_tgt_register, target\n",
    "\n",
    "    # x_pulse = backend.defaults().instruction_schedule_map.get('x', (qubit_tgt_register,)).instructions[0][1].pulse\n",
    "    params = ParameterVector('theta', n_actions)\n",
    "\n",
    "    # original_calibration = backend.instruction_schedule_map.get(target[\"name\"])\n",
    "\n",
    "    parametrized_gate = Gate(\"rx\", 1, params=[params[0]])\n",
    "    \n",
    "    default_schedule = backend.target.get_calibration(\"x\", tuple(qubit_tgt_register))\n",
    "    parametrized_schedule = custom_pulse_schedule(backend=backend, qubit_tgt_register=qubit_tgt_register, target_gate = target[\"gate\"],\n",
    "                                                  params=params, default_schedule=default_schedule)\n",
    "    qc.add_calibration(parametrized_gate, qubit_tgt_register, parametrized_schedule)\n",
    "    qc.append(parametrized_gate, qubit_tgt_register)"
   ]
  },
  {
   "cell_type": "code",
   "execution_count": 5,
   "id": "c61a8686-196b-470a-864f-ccab4e7b52f0",
   "metadata": {},
   "outputs": [],
   "source": [
    "n_qubits = 2  # Set number of qubits to set the simulation details\n",
    "qubit_tgt_register = [0, 1]  # Choose which qubits of the QPU you want to address \n",
    "sampling_Paulis = 10\n",
    "N_shots = 100  # Number of shots for sampling the quantum computer for each action vector\n",
    "n_actions = 1  # Choose how many control parameters in pulse/circuit parametrization\n",
    "abstraction_level = 'pulse' # Choose at which abstraction level the circuit ansatz is written\n",
    "estimator_options = {'resilience_level': 0}"
   ]
  },
  {
   "cell_type": "markdown",
   "id": "82fac1e0-934a-4f24-9efc-f4ceefea6310",
   "metadata": {
    "tags": []
   },
   "source": [
    "Choose below which IBM Backend to use. As we are dealing with pulse level implementation, we can either simulate a backend using QiskitDynamics, or use a real backend that supports OpenPulse features."
   ]
  },
  {
   "cell_type": "markdown",
   "id": "dabdf1fc-40e5-4593-9dd8-b7aa61d5db51",
   "metadata": {},
   "source": [
    "## 1. Setting up a Quantum Backend"
   ]
  },
  {
   "cell_type": "markdown",
   "id": "f278c479-958c-4a1b-9a6b-d5d8ae87d433",
   "metadata": {
    "tags": []
   },
   "source": [
    "### Real backend initialization\n",
    "\n",
    "Uncomment the cell below to declare a Qiskit Runtime backend. You need an internet connection and an IBM Id account to access this."
   ]
  },
  {
   "cell_type": "code",
   "execution_count": 6,
   "id": "a619a165-fa6f-4e89-ac7b-66eacaa55820",
   "metadata": {},
   "outputs": [],
   "source": [
    "\"\"\"\n",
    "Real backend initialization:\n",
    "Run this cell only if intending to use a real backend, where Qiskit Runtime is enabled\n",
    "\"\"\"\n",
    "backend_name = 'ibm_perth'\n",
    "\n",
    "#service = QiskitRuntimeService(channel='ibm_quantum')\n",
    "#runtime_backend = service.get_backend(backend_name)"
   ]
  },
  {
   "cell_type": "markdown",
   "id": "12b7a195-5fd5-4e5e-addd-d9b053ee9e12",
   "metadata": {
    "tags": []
   },
   "source": [
    "### Simulation backend initialization\n",
    "If you want to run the algorithm over a simulation, you can rely on Qiskit Dynamics for pulse level simulation of quantum circuits. Below we set the ground for declaring a ```DynamicsBackend```.\n",
    "\n",
    "This can be done in two ways: \n",
    "\n",
    "1. Declare a ```DynamicsBackend``` from a ```FakeBackend``` or ```IBMBackend``` instance and use the ```from_backend()``` method to retrieve the Hamiltonian description of such backend.\n",
    "2. Alternatively, you can define your own custom Hamiltonian/Linblad that should be used to simulate the multiqubit system of interest, and feed it to a ```Solver``` instance which can be used to declare the ```DynamicsBackend```.\n",
    "For more information you can check Qiskit Dynamics documentation (https://qiskit.org/documentation/dynamics/apidocs/backend.html)\n"
   ]
  },
  {
   "cell_type": "markdown",
   "id": "4ea766bd-d185-456f-9d97-161f8125f09f",
   "metadata": {},
   "source": [
    "#### 1. Using ```FakeBackend``` as starting point"
   ]
  },
  {
   "cell_type": "code",
   "execution_count": 7,
   "id": "dfb83abf-3d7a-4bc2-b4ff-4d6ed1d8e1b8",
   "metadata": {},
   "outputs": [],
   "source": [
    "from qiskit.providers.fake_provider import FakeHanoi, FakeJakarta, FakeJakartaV2\n",
    "fake_backend = FakeJakarta()\n",
    "fake_backend_v2 = FakeJakartaV2()\n",
    "control_channel_map = get_control_channel_map(fake_backend, qubit_tgt_register)\n",
    "dt = fake_backend_v2.target.dt"
   ]
  },
  {
   "cell_type": "code",
   "execution_count": 8,
   "id": "45364c1d-f8c0-4d83-9231-4ec9185f9532",
   "metadata": {},
   "outputs": [],
   "source": [
    "dynamics_options = {'seed_simulator': None, #\"configuration\": fake_backend.configuration(),\n",
    "                    'control_channel_map': control_channel_map,\n",
    "                    # Control channels to play CR tones, should match connectivity of device\n",
    "                    \"solver_options\": {\"method\": \"jax_odeint\", \"atol\": 1e-6, \"rtol\": 1e-8, \"hmax\":dt}\n",
    "                    }\n",
    "dynamics_backend = DynamicsBackend.from_backend(fake_backend, subsystem_list=qubit_tgt_register, **dynamics_options)\n",
    "\n",
    "target = dynamics_backend.target\n",
    "target.qubit_properties = fake_backend_v2.qubit_properties(qubit_tgt_register)\n",
    "\n",
    "# Extract channel frequencies and Solver instance from backend to provide a pulse level simulation enabling\n",
    "# fidelity benchmarking\n",
    "channel_freq, solver = get_solver_and_freq_from_backend(\n",
    "    backend=fake_backend,\n",
    "    subsystem_list=qubit_tgt_register,\n",
    "    rotating_frame=\"auto\",\n",
    "    evaluation_mode=\"dense\",\n",
    "    rwa_cutoff_freq=None,\n",
    "    static_dissipators=None,\n",
    "    dissipator_channels=None,\n",
    "    dissipator_operators=None\n",
    ")\n",
    "calibration_files=None"
   ]
  },
  {
   "cell_type": "markdown",
   "id": "e66ac2b2-03d4-465d-8fd3-43c3fdebca88",
   "metadata": {},
   "source": [
    "#### 2. Using a custom Hamiltonian model"
   ]
  },
  {
   "cell_type": "code",
   "execution_count": 9,
   "id": "7531b59e-3b2d-4de1-9422-5be6850f02c6",
   "metadata": {},
   "outputs": [],
   "source": [
    "dim = 3\n",
    "\n",
    "v0 = 4.86e9\n",
    "anharm0 = -0.32e9\n",
    "r0 = 0.22e9\n",
    "\n",
    "v1 = 4.97e9\n",
    "anharm1 = -0.32e9\n",
    "r1 = 0.26e9\n",
    "\n",
    "J = 0.002e9\n",
    "\n",
    "a = np.diag(np.sqrt(np.arange(1, dim)), 1)\n",
    "adag = np.diag(np.sqrt(np.arange(1, dim)), -1)\n",
    "N = np.diag(np.arange(dim))\n",
    "\n",
    "ident = np.eye(dim, dtype=complex)\n",
    "full_ident = np.eye(dim**2, dtype=complex)\n",
    "\n",
    "N0 = np.kron(ident, N)\n",
    "N1 = np.kron(N, ident)\n",
    "\n",
    "a0 = np.kron(ident, a)\n",
    "a1 = np.kron(a, ident)\n",
    "\n",
    "a0dag = np.kron(ident, adag)\n",
    "a1dag = np.kron(adag, ident)\n",
    "\n",
    "\n",
    "static_ham0 = 2 * np.pi * v0 * N0 + np.pi * anharm0 * N0 * (N0 - full_ident)\n",
    "static_ham1 = 2 * np.pi * v1 * N1 + np.pi * anharm1 * N1 * (N1 - full_ident)\n",
    "\n",
    "static_ham_full = static_ham0 + static_ham1 + 2 * np.pi * J * ((a0 + a0dag) @ (a1 + a1dag))\n",
    "\n",
    "drive_op0 = 2 * np.pi * r0 * (a0 + a0dag)\n",
    "drive_op1 = 2 * np.pi * r1 * (a1 + a1dag)\n",
    "\n",
    "# build solver\n",
    "dt = 1/4.5e9\n",
    "\n",
    "solver = Solver(\n",
    "    static_hamiltonian=static_ham_full,\n",
    "    hamiltonian_operators=[drive_op0, drive_op1, drive_op0, drive_op1],\n",
    "    rotating_frame=static_ham_full,\n",
    "    hamiltonian_channels=[\"d0\", \"d1\", \"u0\", \"u1\"],\n",
    "    channel_carrier_freqs={\"d0\": v0, \"d1\": v1, \"u0\": v1, \"u1\": v0},\n",
    "    dt=dt,\n",
    ")\n",
    "# Consistent solver option to use throughout notebook\n",
    "solver_options = {\"method\": \"jax_odeint\", \"atol\": 1e-6, \"rtol\": 1e-8}\n",
    "\n",
    "custom_backend = DynamicsBackend(\n",
    "    solver=solver,\n",
    "    subsystem_dims=[dim, dim], # for computing measurement data\n",
    "    solver_options=solver_options, # to be used every time run is called\n",
    ")\n",
    "backend_target = custom_backend.target\n",
    "\n",
    "# qubit properties\n",
    "backend_target.qubit_properties = [QubitProperties(frequency=v0), QubitProperties(frequency=v1)]\n",
    "# set the control channel map\n",
    "custom_backend.set_options(control_channel_map={(0, 1): 0, (1, 0): 1})"
   ]
  },
  {
   "cell_type": "markdown",
   "id": "30fbd48a-3ef9-476a-afdc-9d34d4746734",
   "metadata": {},
   "source": [
    "### Choose backend and define Qiskit config dictionary\n",
    "Below, set the Backend that you would like to run among the above defined backend.\n",
    "Then define the config gathering all the components enabling the definition of the ```QuantumEnvironment```.\n",
    "\n"
   ]
  },
  {
   "cell_type": "code",
   "execution_count": 10,
   "id": "c88a30b5-6b78-4854-ab76-5c4d1d16902d",
   "metadata": {},
   "outputs": [
    {
     "data": {
      "text/plain": [
       "Options(shots=1024, solver=<qiskit_dynamics.solvers.solver_classes.Solver object at 0x7fb6505b2700>, solver_options={'method': 'jax_odeint', 'atol': 1e-06, 'rtol': 1e-08}, subsystem_dims=[3, 3], subsystem_labels=[0, 1], meas_map=[[0], [1]], control_channel_map={(0, 1): 0, (1, 0): 1}, normalize_states=True, initial_state='ground_state', meas_level=<MeasLevel.CLASSIFIED: 2>, meas_return=<MeasReturnType.AVERAGE: 'avg'>, iq_centers=None, iq_width=0.2, max_outcome_level=1, memory=True, seed_simulator=None, experiment_result_function=<function default_experiment_result_function at 0x7fb663c83af0>, configuration=None, defaults=None)"
      ]
     },
     "execution_count": 10,
     "metadata": {},
     "output_type": "execute_result"
    }
   ],
   "source": [
    "# Choose backend among the set defined above: {runtime_backend, dynamics_backend, custom_backend}\n",
    "backend = custom_backend\n",
    "backend.options"
   ]
  },
  {
   "cell_type": "code",
   "execution_count": 11,
   "id": "610d9c1c-2b03-4067-97f1-3a5623dc71a7",
   "metadata": {},
   "outputs": [],
   "source": [
    "# Wrap all info in one dict Qiskit_setup\n",
    "Qiskit_setup = QiskitConfig(parametrized_circuit=apply_parametrized_circuit, backend=backend,\n",
    "                            estimator_options=estimator_options)"
   ]
  },
  {
   "cell_type": "markdown",
   "id": "4bc383dd-8942-4396-9bc4-befea1f8efc7",
   "metadata": {
    "tags": []
   },
   "source": [
    "## 2. Define quantum target: State preparation or Gate calibration\n",
    "\n",
    "The target of our optimal control task can be of two different types:\n",
    "1.  An arbitrary quantum state to prepare with high accuracy\n",
    "2. A Quantum Gate to be calibrated in a noise-robust manner\n",
    "\n",
    "Both targets are dictionaries that are identified with a key stating their ```target_type```, which can be either ```\"state\"``` or ```\"gate\"```.\n",
    "\n",
    "For a gate target $G$, one can add the target quantum gate with a ```\"gate\"``` argument specifying a specific instance of a Qiskit ```Gate``` object. Here, we settle for calibrating a ```RXGate()```.\n",
    "Moreover, a gate calibration requires a set of input states $\\{|s_i\\rangle \\}$ to be provided, such that the agent can try to set the actions such that the fidelity between the anticipated ideal target state (calculated as  $G|s_i\\rangle$) and the output state are simultaneously maximized. To ensure a correlation between the average reward computed from the measurement outcomes and the average gate fidelity, the provided set of input states must be tomographically complete.\n",
    "\n",
    "Another important key that should figure in the dictionary is the ```\"register\"``` indicating the qubits indices that should be addressed by this target, i.e. upon which qubits should the target be engineered.\n"
   ]
  },
  {
   "cell_type": "code",
   "execution_count": 12,
   "id": "e288ef80-85ae-4d22-bca3-3220364c6aa7",
   "metadata": {},
   "outputs": [],
   "source": [
    "# Example of target gate\n",
    "RX_tgt = {\n",
    "    \"gate\": RXGate(np.pi/2),\n",
    "    \"register\": qubit_tgt_register\n",
    "}"
   ]
  },
  {
   "cell_type": "code",
   "execution_count": 13,
   "id": "be971dc5-9660-4724-98c6-e265492bec25",
   "metadata": {},
   "outputs": [],
   "source": [
    "# Choose which target to use\n",
    "target = RX_tgt"
   ]
  },
  {
   "cell_type": "markdown",
   "id": "81fd110a-3473-43bb-9e00-f88fdefea570",
   "metadata": {},
   "source": [
    "## 3. Declare QuantumEnvironment object\n",
    "Running the box below declares the QuantumEnvironment instance.\n",
    "\n",
    "If selected backend is a ```DynamicsBackend```, this declaration launches a series of single qubit gate calibrations (to calibrate X and SX gate). The reason for this is that the Estimator primitive, which enables the easy calculation of Pauli expectation values, needs to append gates for doing Pauli basis rotations (SX and Rz gate)."
   ]
  },
  {
   "cell_type": "code",
   "execution_count": 14,
   "id": "65ead5ee-fc7e-43d0-8828-ace7177b3c48",
   "metadata": {},
   "outputs": [
    {
     "name": "stdout",
     "output_type": "stream",
     "text": [
      "Starting Rabi experiment for qubit 0...\n",
      "Rabi experiment for qubit 0 done.\n",
      "Starting Drag experiment for qubit 0...\n",
      "Drag experiments done for qubit 0 done.\n",
      "Starting Rabi experiment for qubit 1...\n",
      "Rabi experiment for qubit 1 done.\n",
      "Starting Drag experiment for qubit 1...\n",
      "Drag experiments done for qubit 1 done.\n",
      "All calibrations are done\n",
      "Updated Instruction Schedule Map <InstructionScheduleMap(1Q instructions:\n",
      "  q0: {'t', 's', 'sdg', 'h', 'tdg', 'x', 'sx', 'id', 'reset', 'measure', 'rz', 'z'}\n",
      "  q1: {'t', 's', 'sdg', 'h', 'tdg', 'x', 'sx', 'id', 'reset', 'measure', 'rz', 'z'}\n",
      "Multi qubit instructions:\n",
      ")>\n",
      "CPU times: user 38.8 s, sys: 444 ms, total: 39.3 s\n",
      "Wall time: 39.4 s\n"
     ]
    }
   ],
   "source": [
    "%%time\n",
    "q_env = QuantumEnvironment(target=target, abstraction_level=abstraction_level,\n",
    "                           Qiskit_config=Qiskit_setup,\n",
    "                           sampling_Pauli_space=sampling_Paulis, n_shots=N_shots, c_factor=0.5)"
   ]
  },
  {
   "cell_type": "code",
   "execution_count": 15,
   "id": "b248f7d9-5038-4a4e-8726-956ca27011ce",
   "metadata": {},
   "outputs": [
    {
     "name": "stdout",
     "output_type": "stream",
     "text": [
      "<InstructionScheduleMap(1Q instructions:\n",
      "  q0: {'t', 's', 'sdg', 'h', 'tdg', 'x', 'sx', 'id', 'reset', 'measure', 'rz', 'z'}\n",
      "  q1: {'t', 's', 'sdg', 'h', 'tdg', 'x', 'sx', 'id', 'reset', 'measure', 'rz', 'z'}\n",
      "Multi qubit instructions:\n",
      ")>\n",
      "Control Channel Map {(0, 1): 0, (1, 0): 1}\n"
     ]
    }
   ],
   "source": [
    "print(backend.target.instruction_schedule_map())\n",
    "print(\"Control Channel Map\", backend.options.control_channel_map)\n"
   ]
  },
  {
   "cell_type": "markdown",
   "id": "0d539df0-c1e4-4cd0-9dc8-8225f5e1e436",
   "metadata": {},
   "source": [
    "# Defining the RL agent: PPO"
   ]
  },
  {
   "cell_type": "code",
   "execution_count": 21,
   "id": "3f59af17-4a7d-4144-a534-96a295575196",
   "metadata": {},
   "outputs": [
    {
     "name": "stdout",
     "output_type": "stream",
     "text": [
      "CPU times: user 2 µs, sys: 2 µs, total: 4 µs\n",
      "Wall time: 8.11 µs\n"
     ]
    },
    {
     "data": {
      "text/plain": [
       "0.05936922"
      ]
     },
     "execution_count": 21,
     "metadata": {},
     "output_type": "execute_result"
    }
   ],
   "source": [
    "\"\"\"\n",
    "-----------------------------------------------------------------------------------------------------\n",
    "Hyperparameters for RL agent\n",
    "-----------------------------------------------------------------------------------------------------\n",
    "\"\"\"\n",
    "%time\n",
    "n_epochs = 200  # Number of epochs\n",
    "batchsize = 50  # Batch size (iterate over a bunch of actions per policy to estimate expected return)\n",
    "opti = \"Adam\"  # Optimizer choice\n",
    "eta = 0.001  # Learning rate for policy update step\n",
    "eta_2 = None  # Learning rate for critic (value function) update step\n",
    "\n",
    "use_PPO = True\n",
    "epsilon = 0.1  # Parameter for clipping value (PPO)\n",
    "grad_clip = 0.01\n",
    "critic_loss_coeff = 0.5\n",
    "optimizer = select_optimizer(lr=eta, optimizer=opti, grad_clip=grad_clip, concurrent_optimization=True, lr2=eta_2)\n",
    "sigma_eps = 1e-3  # for numerical stability\n",
    "\n",
    "action_range = 1e-2\n",
    "pulse_cal_ref = backend.target.get_calibration(\"sx\", tuple(qubit_tgt_register))\n",
    "amp_ref = pulse_cal_ref.instructions[0][1].pulse.amp"
   ]
  },
  {
   "cell_type": "code",
   "execution_count": 17,
   "id": "1a80d579-8624-4197-be84-4a54696f5e09",
   "metadata": {},
   "outputs": [
    {
     "name": "stdout",
     "output_type": "stream",
     "text": [
      "Model: \"model\"\n",
      "__________________________________________________________________________________________________\n",
      "Layer (type)                    Output Shape         Param #     Connected to                     \n",
      "==================================================================================================\n",
      "input_1 (InputLayer)            [(None, 3)]          0                                            \n",
      "__________________________________________________________________________________________________\n",
      "hidden_0 (Dense)                (None, 82)           328         input_1[0][0]                    \n",
      "__________________________________________________________________________________________________\n",
      "hidden_1 (Dense)                (None, 82)           6806        hidden_0[0][0]                   \n",
      "__________________________________________________________________________________________________\n",
      "mean_vec (Dense)                (None, 1)            83          hidden_1[0][0]                   \n",
      "__________________________________________________________________________________________________\n",
      "sigma_vec (Dense)               (None, 1)            83          hidden_1[0][0]                   \n",
      "__________________________________________________________________________________________________\n",
      "critic_output (Dense)           (None, 1)            83          hidden_1[0][0]                   \n",
      "==================================================================================================\n",
      "Total params: 7,383\n",
      "Trainable params: 7,383\n",
      "Non-trainable params: 0\n",
      "__________________________________________________________________________________________________\n"
     ]
    }
   ],
   "source": [
    "\"\"\"\n",
    "-----------------------------------------------------------------------------------------------------\n",
    "Policy parameters\n",
    "-----------------------------------------------------------------------------------------------------\n",
    "\"\"\"\n",
    "N_in = n_qubits + 1  # One input for each measured qubit state (0 or 1 input for each neuron)\n",
    "hidden_units = [82, 82]  # List containing number of units in each hidden layer\n",
    "\n",
    "network = generate_model((N_in,), hidden_units, n_actions, actor_critic_together=True)\n",
    "network.summary()\n",
    "init_msmt = np.zeros((1, N_in))  # Here no feedback involved, so measurement sequence is always the same"
   ]
  },
  {
   "cell_type": "code",
   "execution_count": 18,
   "id": "80a04724-a885-477f-a4a6-56d5e302dd52",
   "metadata": {},
   "outputs": [],
   "source": [
    "# Plotting tools\n",
    "plt.rcParams['figure.dpi'] = 300\n",
    "plt.rcParams['savefig.dpi'] = 300\n",
    "avg_return = np.zeros(n_epochs)\n",
    "fidelities = np.zeros(n_epochs)\n",
    "visualization_steps = 5\n",
    "%matplotlib inline\n",
    "do_benchmark = False"
   ]
  },
  {
   "cell_type": "markdown",
   "id": "9d5267e5-5c22-4296-b369-1d8e234fd20c",
   "metadata": {},
   "source": [
    "## Run algorithm"
   ]
  },
  {
   "cell_type": "code",
   "execution_count": 19,
   "id": "c6d67bbc-cf72-4e7f-a8a6-9e15ef23c273",
   "metadata": {},
   "outputs": [
    {
     "data": {
      "image/png": "[encoded data removed]",
      "text/plain": [
       "<Figure size 1920x1440 with 1 Axes>"
      ]
     },
     "metadata": {},
     "output_type": "display_data"
    },
    {
     "name": "stderr",
     "output_type": "stream",
     "text": [
      "  3%|█▎                                         | 6/200 [00:31<16:52,  5.22s/it]"
     ]
    },
    {
     "name": "stdout",
     "output_type": "stream",
     "text": [
      "Maximum return reached so far: 2.0 at Epoch 0\n",
      "\n",
      " Epoch 6\n"
     ]
    },
    {
     "name": "stderr",
     "output_type": "stream",
     "text": [
      "  4%|█▌                                         | 7/200 [00:37<16:57,  5.27s/it]"
     ]
    },
    {
     "name": "stdout",
     "output_type": "stream",
     "text": [
      "Policy params [-0.09801788] +- [0.5986439]\n",
      "Average reward 2.0\n",
      "Action batch [[ 0.02086865]\n",
      " [ 0.0465183 ]\n",
      " [ 0.27644378]\n",
      " [ 0.4628855 ]\n",
      " [-0.5       ]\n",
      " [ 0.5       ]\n",
      " [-0.5       ]\n",
      " [-0.5       ]\n",
      " [ 0.14391696]\n",
      " [ 0.01194651]\n",
      " [ 0.21075013]\n",
      " [-0.5       ]\n",
      " [-0.10159005]\n",
      " [ 0.37337783]\n",
      " [-0.10532726]\n",
      " [-0.5       ]\n",
      " [ 0.12923136]\n",
      " [ 0.24709114]\n",
      " [-0.16393945]\n",
      " [-0.4337829 ]\n",
      " [ 0.14602315]\n",
      " [-0.2615938 ]\n",
      " [-0.5       ]\n",
      " [ 0.5       ]\n",
      " [-0.5       ]\n",
      " [-0.15832295]\n",
      " [-0.5       ]\n",
      " [ 0.5       ]\n",
      " [-0.16307098]\n",
      " [-0.5       ]\n",
      " [ 0.5       ]\n",
      " [-0.5       ]\n",
      " [-0.17198695]\n",
      " [-0.42513913]\n",
      " [-0.5       ]\n",
      " [ 0.31342447]\n",
      " [ 0.01363859]\n",
      " [-0.5       ]\n",
      " [-0.4201766 ]\n",
      " [-0.5       ]\n",
      " [ 0.07240703]\n",
      " [-0.5       ]\n",
      " [-0.5       ]\n",
      " [ 0.33984756]\n",
      " [ 0.03417157]\n",
      " [ 0.49190706]\n",
      " [ 0.5       ]\n",
      " [ 0.5       ]\n",
      " [ 0.2440108 ]\n",
      " [-0.05324997]]\n",
      "\n",
      " Epoch 7\n"
     ]
    },
    {
     "name": "stderr",
     "output_type": "stream",
     "text": [
      "  4%|█▋                                         | 8/200 [00:41<16:22,  5.12s/it]"
     ]
    },
    {
     "name": "stdout",
     "output_type": "stream",
     "text": [
      "Policy params [-0.05592386] +- [0.55065686]\n",
      "Average reward 2.0\n",
      "Action batch [[-0.17516193]\n",
      " [-0.5       ]\n",
      " [-0.16058221]\n",
      " [ 0.40509853]\n",
      " [-0.29856277]\n",
      " [ 0.43765464]\n",
      " [-0.47372863]\n",
      " [-0.5       ]\n",
      " [-0.5       ]\n",
      " [ 0.38788965]\n",
      " [-0.1826272 ]\n",
      " [-0.5       ]\n",
      " [ 0.5       ]\n",
      " [-0.23579955]\n",
      " [ 0.3455228 ]\n",
      " [-0.00452313]\n",
      " [-0.19109389]\n",
      " [-0.29358917]\n",
      " [ 0.33576667]\n",
      " [ 0.5       ]\n",
      " [ 0.15127069]\n",
      " [-0.28762984]\n",
      " [-0.5       ]\n",
      " [-0.5       ]\n",
      " [ 0.04685391]\n",
      " [ 0.10489061]\n",
      " [ 0.5       ]\n",
      " [-0.5       ]\n",
      " [ 0.5       ]\n",
      " [-0.17203364]\n",
      " [-0.5       ]\n",
      " [-0.5       ]\n",
      " [ 0.11618105]\n",
      " [ 0.5       ]\n",
      " [ 0.100996  ]\n",
      " [ 0.02794702]\n",
      " [-0.5       ]\n",
      " [ 0.01389228]\n",
      " [ 0.20446584]\n",
      " [ 0.0778475 ]\n",
      " [ 0.5       ]\n",
      " [ 0.5       ]\n",
      " [-0.5       ]\n",
      " [-0.08514096]\n",
      " [ 0.5       ]\n",
      " [-0.01445779]\n",
      " [-0.5       ]\n",
      " [ 0.31318003]\n",
      " [-0.11366621]\n",
      " [ 0.08936038]]\n",
      "\n",
      " Epoch 8\n"
     ]
    },
    {
     "name": "stderr",
     "output_type": "stream",
     "text": [
      "  4%|█▉                                         | 9/200 [00:46<15:59,  5.02s/it]"
     ]
    },
    {
     "name": "stdout",
     "output_type": "stream",
     "text": [
      "Policy params [-0.01781424] +- [0.5071357]\n",
      "Average reward 2.0\n",
      "Action batch [[ 0.25306594]\n",
      " [ 0.15778095]\n",
      " [ 0.01165079]\n",
      " [ 0.4247275 ]\n",
      " [ 0.41209143]\n",
      " [-0.5       ]\n",
      " [ 0.25479802]\n",
      " [ 0.20074858]\n",
      " [-0.29033077]\n",
      " [-0.30602145]\n",
      " [-0.4480122 ]\n",
      " [ 0.5       ]\n",
      " [ 0.5       ]\n",
      " [ 0.5       ]\n",
      " [ 0.23764773]\n",
      " [-0.5       ]\n",
      " [-0.5       ]\n",
      " [ 0.0499188 ]\n",
      " [-0.18793672]\n",
      " [ 0.28487563]\n",
      " [ 0.17297108]\n",
      " [ 0.5       ]\n",
      " [-0.15592006]\n",
      " [ 0.41790673]\n",
      " [ 0.28473803]\n",
      " [-0.41944394]\n",
      " [-0.5       ]\n",
      " [ 0.05301922]\n",
      " [ 0.38047633]\n",
      " [-0.5       ]\n",
      " [ 0.2650922 ]\n",
      " [-0.03840722]\n",
      " [-0.5       ]\n",
      " [ 0.5       ]\n",
      " [ 0.5       ]\n",
      " [ 0.49860153]\n",
      " [ 0.5       ]\n",
      " [-0.3823192 ]\n",
      " [-0.16660894]\n",
      " [-0.14321296]\n",
      " [-0.30899408]\n",
      " [ 0.5       ]\n",
      " [ 0.43213463]\n",
      " [ 0.45532015]\n",
      " [ 0.18981634]\n",
      " [ 0.33853224]\n",
      " [ 0.5       ]\n",
      " [-0.32598814]\n",
      " [ 0.00152044]\n",
      " [ 0.3976562 ]]\n",
      "\n",
      " Epoch 9\n"
     ]
    },
    {
     "name": "stderr",
     "output_type": "stream",
     "text": [
      "  4%|█▉                                         | 9/200 [00:49<17:33,  5.51s/it]\n"
     ]
    },
    {
     "ename": "KeyboardInterrupt",
     "evalue": "",
     "output_type": "error",
     "traceback": [
      "\u001b[0;31m---------------------------------------------------------------------------\u001b[0m",
      "\u001b[0;31mKeyboardInterrupt\u001b[0m                         Traceback (most recent call last)",
      "Input \u001b[0;32mIn [19]\u001b[0m, in \u001b[0;36m<cell line: 12>\u001b[0;34m()\u001b[0m\n\u001b[1;32m     28\u001b[0m action_vector \u001b[38;5;241m=\u001b[39m tf\u001b[38;5;241m.\u001b[39mstop_gradient(tf\u001b[38;5;241m.\u001b[39mclip_by_value(Policy_distrib\u001b[38;5;241m.\u001b[39msample(batchsize), \u001b[38;5;241m-\u001b[39m\u001b[38;5;241m0.5\u001b[39m, \u001b[38;5;241m0.5\u001b[39m))\n\u001b[1;32m     29\u001b[0m \u001b[38;5;66;03m# Adjust the action vector according to params physical significance\u001b[39;00m\n\u001b[0;32m---> 30\u001b[0m reward \u001b[38;5;241m=\u001b[39m \u001b[43mq_env\u001b[49m\u001b[38;5;241;43m.\u001b[39;49m\u001b[43mperform_action\u001b[49m\u001b[43m(\u001b[49m\u001b[43maction_vector\u001b[49m\u001b[43m,\u001b[49m\u001b[43m \u001b[49m\u001b[43mdo_benchmark\u001b[49m\u001b[43m)\u001b[49m\n\u001b[1;32m     31\u001b[0m advantage \u001b[38;5;241m=\u001b[39m reward \u001b[38;5;241m-\u001b[39m b\n\u001b[1;32m     33\u001b[0m \u001b[38;5;28;01mif\u001b[39;00m use_PPO:\n",
      "File \u001b[0;32m~/Library/CloudStorage/OneDrive-NationalUniversityofSingapore/Coding_projects/Quantum_Optimal_Control/quantumenvironment.py:382\u001b[0m, in \u001b[0;36mQuantumEnvironment.perform_action\u001b[0;34m(self, actions, do_benchmark)\u001b[0m\n\u001b[1;32m    379\u001b[0m \u001b[38;5;28mself\u001b[39m\u001b[38;5;241m.\u001b[39mparametrized_circuit_func(qc)\n\u001b[1;32m    380\u001b[0m job \u001b[38;5;241m=\u001b[39m \u001b[38;5;28mself\u001b[39m\u001b[38;5;241m.\u001b[39mestimator\u001b[38;5;241m.\u001b[39mrun(circuits\u001b[38;5;241m=\u001b[39m[qc] \u001b[38;5;241m*\u001b[39m batch_size, observables\u001b[38;5;241m=\u001b[39m[observables] \u001b[38;5;241m*\u001b[39m batch_size,\n\u001b[1;32m    381\u001b[0m                          parameter_values\u001b[38;5;241m=\u001b[39mangles, shots\u001b[38;5;241m=\u001b[39m\u001b[38;5;28mself\u001b[39m\u001b[38;5;241m.\u001b[39msampling_Pauli_space \u001b[38;5;241m*\u001b[39m \u001b[38;5;28mself\u001b[39m\u001b[38;5;241m.\u001b[39mn_shots)\n\u001b[0;32m--> 382\u001b[0m reward_table \u001b[38;5;241m=\u001b[39m \u001b[43mjob\u001b[49m\u001b[38;5;241;43m.\u001b[39;49m\u001b[43mresult\u001b[49m\u001b[43m(\u001b[49m\u001b[43m)\u001b[49m\u001b[38;5;241m.\u001b[39mvalues\n\u001b[1;32m    383\u001b[0m \u001b[38;5;28mself\u001b[39m\u001b[38;5;241m.\u001b[39mreward_history\u001b[38;5;241m.\u001b[39mappend(reward_table)\n\u001b[1;32m    384\u001b[0m \u001b[38;5;28;01massert\u001b[39;00m \u001b[38;5;28mlen\u001b[39m(reward_table) \u001b[38;5;241m==\u001b[39m batch_size\n",
      "File \u001b[0;32m~/opt/anaconda3/envs/qiskit_env/lib/python3.9/site-packages/qiskit/primitives/primitive_job.py:55\u001b[0m, in \u001b[0;36mPrimitiveJob.result\u001b[0;34m(self)\u001b[0m\n\u001b[1;32m     53\u001b[0m \u001b[38;5;124;03m\"\"\"Return the results of the job.\"\"\"\u001b[39;00m\n\u001b[1;32m     54\u001b[0m \u001b[38;5;28mself\u001b[39m\u001b[38;5;241m.\u001b[39m_check_submitted()\n\u001b[0;32m---> 55\u001b[0m \u001b[38;5;28;01mreturn\u001b[39;00m \u001b[38;5;28;43mself\u001b[39;49m\u001b[38;5;241;43m.\u001b[39;49m\u001b[43m_future\u001b[49m\u001b[38;5;241;43m.\u001b[39;49m\u001b[43mresult\u001b[49m\u001b[43m(\u001b[49m\u001b[43m)\u001b[49m\n",
      "File \u001b[0;32m~/opt/anaconda3/envs/qiskit_env/lib/python3.9/concurrent/futures/_base.py:441\u001b[0m, in \u001b[0;36mFuture.result\u001b[0;34m(self, timeout)\u001b[0m\n\u001b[1;32m    438\u001b[0m \u001b[38;5;28;01melif\u001b[39;00m \u001b[38;5;28mself\u001b[39m\u001b[38;5;241m.\u001b[39m_state \u001b[38;5;241m==\u001b[39m FINISHED:\n\u001b[1;32m    439\u001b[0m     \u001b[38;5;28;01mreturn\u001b[39;00m \u001b[38;5;28mself\u001b[39m\u001b[38;5;241m.\u001b[39m__get_result()\n\u001b[0;32m--> 441\u001b[0m \u001b[38;5;28;43mself\u001b[39;49m\u001b[38;5;241;43m.\u001b[39;49m\u001b[43m_condition\u001b[49m\u001b[38;5;241;43m.\u001b[39;49m\u001b[43mwait\u001b[49m\u001b[43m(\u001b[49m\u001b[43mtimeout\u001b[49m\u001b[43m)\u001b[49m\n\u001b[1;32m    443\u001b[0m \u001b[38;5;28;01mif\u001b[39;00m \u001b[38;5;28mself\u001b[39m\u001b[38;5;241m.\u001b[39m_state \u001b[38;5;129;01min\u001b[39;00m [CANCELLED, CANCELLED_AND_NOTIFIED]:\n\u001b[1;32m    444\u001b[0m     \u001b[38;5;28;01mraise\u001b[39;00m CancelledError()\n",
      "File \u001b[0;32m~/opt/anaconda3/envs/qiskit_env/lib/python3.9/threading.py:312\u001b[0m, in \u001b[0;36mCondition.wait\u001b[0;34m(self, timeout)\u001b[0m\n\u001b[1;32m    310\u001b[0m \u001b[38;5;28;01mtry\u001b[39;00m:    \u001b[38;5;66;03m# restore state no matter what (e.g., KeyboardInterrupt)\u001b[39;00m\n\u001b[1;32m    311\u001b[0m     \u001b[38;5;28;01mif\u001b[39;00m timeout \u001b[38;5;129;01mis\u001b[39;00m \u001b[38;5;28;01mNone\u001b[39;00m:\n\u001b[0;32m--> 312\u001b[0m         \u001b[43mwaiter\u001b[49m\u001b[38;5;241;43m.\u001b[39;49m\u001b[43macquire\u001b[49m\u001b[43m(\u001b[49m\u001b[43m)\u001b[49m\n\u001b[1;32m    313\u001b[0m         gotit \u001b[38;5;241m=\u001b[39m \u001b[38;5;28;01mTrue\u001b[39;00m\n\u001b[1;32m    314\u001b[0m     \u001b[38;5;28;01melse\u001b[39;00m:\n",
      "\u001b[0;31mKeyboardInterrupt\u001b[0m: "
     ]
    }
   ],
   "source": [
    "\"\"\"\n",
    "-----------------------------------------------------------------------------------------------------\n",
    "Training loop\n",
    "-----------------------------------------------------------------------------------------------------\n",
    "\"\"\"\n",
    "\n",
    "q_env.clear_history()\n",
    "mu_old = tf.Variable(initial_value=network(init_msmt)[0][0], trainable=False)\n",
    "sigma_old = tf.Variable(initial_value=network(init_msmt)[1][0], trainable=False)\n",
    "\n",
    "\n",
    "for i in tqdm(range(n_epochs)):\n",
    "\n",
    "    Old_distrib = MultivariateNormalDiag(loc=mu_old, scale_diag=sigma_old,\n",
    "                                         validate_args=True, allow_nan_stats=False)\n",
    "    print('\\n Epoch', i)\n",
    "    \n",
    "    with tf.GradientTape(persistent=True) as tape:\n",
    "\n",
    "        mu, sigma, b = network(init_msmt, training=True)\n",
    "        mu = tf.squeeze(mu, axis=0)\n",
    "        sigma = tf.squeeze(sigma, axis=0)\n",
    "        b = tf.squeeze(b, axis=0)\n",
    "        \n",
    "        Policy_distrib = MultivariateNormalDiag(loc=mu, scale_diag=sigma,\n",
    "                                                validate_args=True, allow_nan_stats=False)\n",
    "\n",
    "        action_vector = tf.stop_gradient(tf.clip_by_value(Policy_distrib.sample(batchsize), amp_ref - action_range, amp_ref + action_range))\n",
    "        # Adjust the action vector according to params physical significance\n",
    "        reward = q_env.perform_action(action_vector, do_benchmark)\n",
    "        advantage = reward - b\n",
    "\n",
    "        if use_PPO:\n",
    "            ratio = Policy_distrib.prob(action_vector) / (tf.stop_gradient(Old_distrib.prob(action_vector)) + 1e-6)\n",
    "            actor_loss = - tf.reduce_mean(tf.minimum(advantage * ratio,\n",
    "                                                     advantage * tf.clip_by_value(ratio, 1 - epsilon, 1 + epsilon)))\n",
    "        else:  # REINFORCE algorithm\n",
    "            actor_loss = - tf.reduce_mean(advantage * Policy_distrib.log_prob(action_vector))\n",
    "\n",
    "        critic_loss = tf.reduce_mean(advantage ** 2)\n",
    "        combined_loss = actor_loss + critic_loss_coeff * critic_loss\n",
    "\n",
    "    grads = tape.gradient(combined_loss, network.trainable_variables)\n",
    "    print(\"Policy params\", np.array(mu), \"+-\", np.array(sigma))\n",
    "    # For PPO, update old parameters to have access to \"old\" policy\n",
    "    if use_PPO:\n",
    "        mu_old.assign(mu)\n",
    "        sigma_old.assign(sigma)\n",
    "    \n",
    "    avg_return[i] = np.mean(q_env.reward_history, axis =1)[i]\n",
    "    print(\"Average reward\", avg_return[i])\n",
    "    if do_benchmark:\n",
    "        if target['target_type'] == 'gate':\n",
    "            fidelities[i] = q_env.avg_fidelity_history[i]\n",
    "            print(\"Average Gate fidelity\", fidelities[i])\n",
    "        else:\n",
    "            fidelities[i] = q_env.state_fidelity_history[i]\n",
    "            print(\"State fidelity\", fidelities[i])\n",
    "    print(\"Action batch\", q_env.action_history[i])\n",
    "    if i%visualization_steps == 0:\n",
    "        clear_output(wait=True) # for animation\n",
    "        fig, ax = plt.subplots()\n",
    "        ax.plot(np.arange(1, n_epochs, visualization_steps),avg_return[0:-1:visualization_steps], '-.', label='Average return')\n",
    "        if do_benchmark:\n",
    "            ax.plot(np.arange(1, n_epochs, visualization_steps),fidelities[0:-1:visualization_steps], label='Average Gate Fidelity')\n",
    "        ax.set_xlabel(\"Epoch\")\n",
    "        ax.set_ylabel(\"Reward/Gate Fidelity\")\n",
    "        ax.legend()\n",
    "        plt.show()\n",
    "        if do_benchmark:\n",
    "            print(\"Maximum fidelity reached so far:\", np.max(fidelities), \"at Epoch\", np.argmax(fidelities))\n",
    "        print(\"Maximum return reached so far:\", np.max(avg_return), \"at Epoch\", np.argmax(avg_return))\n",
    "        # Apply gradients\n",
    "    optimizer.apply_gradients(zip(grads, network.trainable_variables))\n",
    "\n",
    "%time "
   ]
  },
  {
   "cell_type": "code",
   "execution_count": null,
   "id": "76d5d003-4078-46a9-8e18-6b4d20e7ae46",
   "metadata": {},
   "outputs": [],
   "source": []
  }
 ],
 "metadata": {
  "kernelspec": {
   "display_name": "Python 3 (ipykernel)",
   "language": "python",
   "name": "python3"
  },
  "language_info": {
   "codemirror_mode": {
    "name": "ipython",
    "version": 3
   },
   "file_extension": ".py",
   "mimetype": "text/x-python",
   "name": "python",
   "nbconvert_exporter": "python",
   "pygments_lexer": "ipython3",
   "version": "3.9.16"
  }
 },
 "nbformat": 4,
 "nbformat_minor": 5
}
